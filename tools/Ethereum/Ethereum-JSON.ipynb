{
 "cells": [
  {
   "cell_type": "markdown",
   "metadata": {},
   "source": [
    "# 资源\n",
    "\n",
    "Requests: HTTP for Humans™: http://docs.python-requests.org/en/master/"
   ]
  },
  {
   "cell_type": "code",
   "execution_count": 1,
   "metadata": {},
   "outputs": [],
   "source": [
    "import requests\n",
    "import json\n",
    "import time\n",
    "import pprint"
   ]
  },
  {
   "cell_type": "markdown",
   "metadata": {},
   "source": [
    "# 通用配置"
   ]
  },
  {
   "cell_type": "code",
   "execution_count": 2,
   "metadata": {},
   "outputs": [],
   "source": [
    "rpc_url = 'http://localhost:8545/rpc'\n",
    "headers = {'Content-Type': 'application/json'}"
   ]
  },
  {
   "cell_type": "markdown",
   "metadata": {},
   "source": [
    "# API\n",
    "https://github.com/ethereum/wiki/wiki/JSON-RPC"
   ]
  },
  {
   "cell_type": "markdown",
   "metadata": {},
   "source": [
    "## net_peerCount"
   ]
  },
  {
   "cell_type": "code",
   "execution_count": 3,
   "metadata": {},
   "outputs": [
    {
     "data": {
      "text/plain": [
       "{'jsonrpc': '2.0', 'id': 6, 'result': '0x1'}"
      ]
     },
     "execution_count": 3,
     "metadata": {},
     "output_type": "execute_result"
    }
   ],
   "source": [
    "data={\"jsonrpc\":\"2.0\",\"id\":6,\"method\":\"net_peerCount\",\"params\":[]}\n",
    "r = requests.post(rpc_url, headers=headers, data=json.dumps(data))\n",
    "r.json()"
   ]
  },
  {
   "cell_type": "markdown",
   "metadata": {},
   "source": [
    "## web3_clientVersion"
   ]
  },
  {
   "cell_type": "code",
   "execution_count": 5,
   "metadata": {},
   "outputs": [
    {
     "data": {
      "text/plain": [
       "{'jsonrpc': '2.0',\n",
       " 'id': 67,\n",
       " 'result': 'Harmony/v1.10.0/Mac OS X/Java1.8/SNAPSHOT-3b9bd0d'}"
      ]
     },
     "execution_count": 5,
     "metadata": {},
     "output_type": "execute_result"
    }
   ],
   "source": [
    "data = {\"jsonrpc\":\"2.0\",\"method\":\"web3_clientVersion\",\"params\":[],\"id\":67}\n",
    "r = requests.post(rpc_url, headers=headers, data=json.dumps(data))\n",
    "r.json()"
   ]
  },
  {
   "cell_type": "markdown",
   "metadata": {},
   "source": [
    "## web3_sha3"
   ]
  },
  {
   "cell_type": "code",
   "execution_count": 6,
   "metadata": {},
   "outputs": [
    {
     "data": {
      "text/plain": [
       "{'jsonrpc': '2.0',\n",
       " 'id': 64,\n",
       " 'result': '0x47173285a8d7341e5e972fc677286384f802f8ef42a5ec5f03bbfa254cb01fad'}"
      ]
     },
     "execution_count": 6,
     "metadata": {},
     "output_type": "execute_result"
    }
   ],
   "source": [
    "data = {\"jsonrpc\":\"2.0\",\"method\":\"web3_sha3\",\"params\":[\"0x68656c6c6f20776f726c64\"],\"id\":64}\n",
    "r = requests.post(rpc_url, headers=headers, data=json.dumps(data))\n",
    "r.json()"
   ]
  },
  {
   "cell_type": "markdown",
   "metadata": {},
   "source": [
    "## net_version"
   ]
  },
  {
   "cell_type": "code",
   "execution_count": 7,
   "metadata": {},
   "outputs": [
    {
     "data": {
      "text/plain": [
       "{'jsonrpc': '2.0', 'id': 67, 'result': '1'}"
      ]
     },
     "execution_count": 7,
     "metadata": {},
     "output_type": "execute_result"
    }
   ],
   "source": [
    "data = {\"jsonrpc\":\"2.0\",\"method\":\"net_version\",\"params\":[],\"id\":67}\n",
    "r = requests.post(rpc_url, headers=headers, data=json.dumps(data))\n",
    "r.json()"
   ]
  },
  {
   "cell_type": "markdown",
   "metadata": {},
   "source": [
    "## net_listening"
   ]
  },
  {
   "cell_type": "code",
   "execution_count": 8,
   "metadata": {},
   "outputs": [
    {
     "data": {
      "text/plain": [
       "{'jsonrpc': '2.0', 'id': 67, 'result': True}"
      ]
     },
     "execution_count": 8,
     "metadata": {},
     "output_type": "execute_result"
    }
   ],
   "source": [
    "data = {\"jsonrpc\":\"2.0\",\"method\":\"net_listening\",\"params\":[],\"id\":67}\n",
    "r = requests.post(rpc_url, headers=headers, data=json.dumps(data))\n",
    "r.json()"
   ]
  },
  {
   "cell_type": "markdown",
   "metadata": {},
   "source": [
    "## net_peerCount"
   ]
  },
  {
   "cell_type": "code",
   "execution_count": 9,
   "metadata": {},
   "outputs": [
    {
     "data": {
      "text/plain": [
       "{'jsonrpc': '2.0', 'id': 74, 'result': '0x1'}"
      ]
     },
     "execution_count": 9,
     "metadata": {},
     "output_type": "execute_result"
    }
   ],
   "source": [
    "data = {\"jsonrpc\":\"2.0\",\"method\":\"net_peerCount\",\"params\":[],\"id\":74}\n",
    "r = requests.post(rpc_url, headers=headers, data=json.dumps(data))\n",
    "r.json()"
   ]
  },
  {
   "cell_type": "markdown",
   "metadata": {},
   "source": [
    "## eth_protocolVersion"
   ]
  },
  {
   "cell_type": "code",
   "execution_count": 10,
   "metadata": {},
   "outputs": [
    {
     "data": {
      "text/plain": [
       "{'jsonrpc': '2.0', 'id': 67, 'result': '63'}"
      ]
     },
     "execution_count": 10,
     "metadata": {},
     "output_type": "execute_result"
    }
   ],
   "source": [
    "data = {\"jsonrpc\":\"2.0\",\"method\":\"eth_protocolVersion\",\"params\":[],\"id\":67}\n",
    "r = requests.post(rpc_url, headers=headers, data=json.dumps(data))\n",
    "r.json()"
   ]
  },
  {
   "cell_type": "markdown",
   "metadata": {},
   "source": [
    "## eth_syncing"
   ]
  },
  {
   "cell_type": "code",
   "execution_count": 11,
   "metadata": {},
   "outputs": [
    {
     "data": {
      "text/plain": [
       "{'jsonrpc': '2.0',\n",
       " 'id': 1,\n",
       " 'result': {'startingBlock': '0x0',\n",
       "  'currentBlock': '0x0',\n",
       "  'highestBlock': '0x0'}}"
      ]
     },
     "execution_count": 11,
     "metadata": {},
     "output_type": "execute_result"
    }
   ],
   "source": [
    "data = {\"jsonrpc\":\"2.0\",\"method\":\"eth_syncing\",\"params\":[],\"id\":1}\n",
    "r = requests.post(rpc_url, headers=headers, data=json.dumps(data))\n",
    "r.json()"
   ]
  },
  {
   "cell_type": "markdown",
   "metadata": {},
   "source": [
    "## eth_coinbase"
   ]
  },
  {
   "cell_type": "code",
   "execution_count": 12,
   "metadata": {},
   "outputs": [
    {
     "data": {
      "text/plain": [
       "{'jsonrpc': '2.0',\n",
       " 'id': 64,\n",
       " 'result': '0x0000000000000000000000000000000000000000'}"
      ]
     },
     "execution_count": 12,
     "metadata": {},
     "output_type": "execute_result"
    }
   ],
   "source": [
    "data = {\"jsonrpc\":\"2.0\",\"method\":\"eth_coinbase\",\"params\":[],\"id\":64}\n",
    "r = requests.post(rpc_url, headers=headers, data=json.dumps(data))\n",
    "r.json()"
   ]
  },
  {
   "cell_type": "markdown",
   "metadata": {},
   "source": [
    "## eth_mining"
   ]
  },
  {
   "cell_type": "code",
   "execution_count": 17,
   "metadata": {},
   "outputs": [
    {
     "data": {
      "text/plain": [
       "{'jsonrpc': '2.0', 'id': 71, 'result': True}"
      ]
     },
     "execution_count": 17,
     "metadata": {},
     "output_type": "execute_result"
    }
   ],
   "source": [
    "data = {\"jsonrpc\":\"2.0\",\"method\":\"eth_mining\",\"params\":[],\"id\":71}\n",
    "r = requests.post(rpc_url, headers=headers, data=json.dumps(data))\n",
    "r.json()"
   ]
  },
  {
   "cell_type": "markdown",
   "metadata": {},
   "source": [
    "## eth_hashrate"
   ]
  },
  {
   "cell_type": "code",
   "execution_count": 22,
   "metadata": {},
   "outputs": [
    {
     "data": {
      "text/plain": [
       "{'jsonrpc': '2.0', 'id': 71, 'result': '0x0'}"
      ]
     },
     "execution_count": 22,
     "metadata": {},
     "output_type": "execute_result"
    }
   ],
   "source": [
    "data = {\"jsonrpc\":\"2.0\",\"method\":\"eth_hashrate\",\"params\":[],\"id\":71}\n",
    "r = requests.post(rpc_url, headers=headers, data=json.dumps(data))\n",
    "r.json()"
   ]
  },
  {
   "cell_type": "markdown",
   "metadata": {},
   "source": [
    "## eth_gasPrice"
   ]
  },
  {
   "cell_type": "code",
   "execution_count": 23,
   "metadata": {},
   "outputs": [
    {
     "data": {
      "text/plain": [
       "{'jsonrpc': '2.0', 'id': 73, 'result': None}"
      ]
     },
     "execution_count": 23,
     "metadata": {},
     "output_type": "execute_result"
    }
   ],
   "source": [
    "data = {\"jsonrpc\":\"2.0\",\"method\":\"eth_gasPrice\",\"params\":[],\"id\":73}\n",
    "r = requests.post(rpc_url, headers=headers, data=json.dumps(data))\n",
    "r.json()"
   ]
  },
  {
   "cell_type": "markdown",
   "metadata": {},
   "source": [
    "## eth_accounts"
   ]
  },
  {
   "cell_type": "code",
   "execution_count": 11,
   "metadata": {},
   "outputs": [
    {
     "data": {
      "text/plain": [
       "{'jsonrpc': '2.0',\n",
       " 'id': 1,\n",
       " 'result': ['0x297a06f560cadabe5f8a13c5d89b05c630274953',\n",
       "  '0x3fc81895f83c89a5daf07d813ab9c91e5a9d97a5']}"
      ]
     },
     "execution_count": 11,
     "metadata": {},
     "output_type": "execute_result"
    }
   ],
   "source": [
    "data = {\"jsonrpc\":\"2.0\",\"method\":\"eth_accounts\",\"params\":[],\"id\":1}\n",
    "r = requests.post(rpc_url, headers=headers, data=json.dumps(data))\n",
    "r.json()"
   ]
  },
  {
   "cell_type": "code",
   "execution_count": 33,
   "metadata": {},
   "outputs": [
    {
     "data": {
      "text/plain": [
       "{'jsonrpc': '2.0', 'id': 1, 'result': True}"
      ]
     },
     "execution_count": 33,
     "metadata": {},
     "output_type": "execute_result"
    }
   ],
   "source": [
    "data = {\"jsonrpc\":\"2.0\",\"method\":\"personal_unlockAccount\",\"params\":[\"0x297a06f560cadabe5f8a13c5d89b05c630274953\", \"zhoujiagen\", 10],\"id\":1}\n",
    "r = requests.post(rpc_url, headers=headers, data=json.dumps(data))\n",
    "r.json()\n",
    "data = {\"jsonrpc\":\"2.0\",\"method\":\"personal_unlockAccount\",\"params\":[\"0x3fc81895F83c89A5dAF07D813ab9c91e5A9D97a5\", \"zhoujiagen2\", 10],\"id\":1}\n",
    "r = requests.post(rpc_url, headers=headers, data=json.dumps(data))\n",
    "r.json()"
   ]
  },
  {
   "cell_type": "markdown",
   "metadata": {},
   "source": [
    "## eth_blockNumber"
   ]
  },
  {
   "cell_type": "code",
   "execution_count": 74,
   "metadata": {},
   "outputs": [
    {
     "data": {
      "text/plain": [
       "{'jsonrpc': '2.0', 'id': 83, 'result': '0x380'}"
      ]
     },
     "execution_count": 74,
     "metadata": {},
     "output_type": "execute_result"
    }
   ],
   "source": [
    "data = {\"jsonrpc\":\"2.0\",\"method\":\"eth_blockNumber\",\"params\":[],\"id\":83}\n",
    "r = requests.post(rpc_url, headers=headers, data=json.dumps(data))\n",
    "r.json()"
   ]
  },
  {
   "cell_type": "markdown",
   "metadata": {},
   "source": [
    "## eth_getBalance"
   ]
  },
  {
   "cell_type": "code",
   "execution_count": 18,
   "metadata": {},
   "outputs": [
    {
     "data": {
      "text/plain": [
       "{'jsonrpc': '2.0', 'id': 1, 'result': '0x0'}"
      ]
     },
     "execution_count": 18,
     "metadata": {},
     "output_type": "execute_result"
    }
   ],
   "source": [
    "data = {\"jsonrpc\":\"2.0\",\"method\":\"eth_getBalance\",\"params\":[\"0xc94770007dda54cF92009BFF0dE90c06F603a09f\", \"latest\"],\"id\":1}\n",
    "r = requests.post(rpc_url, headers=headers, data=json.dumps(data))\n",
    "r.json()"
   ]
  },
  {
   "cell_type": "markdown",
   "metadata": {},
   "source": [
    "## eth_getStorageAt"
   ]
  },
  {
   "cell_type": "code",
   "execution_count": 19,
   "metadata": {},
   "outputs": [
    {
     "data": {
      "text/plain": [
       "{'jsonrpc': '2.0', 'id': 1, 'result': None}"
      ]
     },
     "execution_count": 19,
     "metadata": {},
     "output_type": "execute_result"
    }
   ],
   "source": [
    "data = {\"jsonrpc\":\"2.0\", \"method\": \"eth_getStorageAt\", \"params\": [\"0x295a70b2de5e3953354a6a8344e616ed314d7251\", \"0x0\", \"latest\"], \"id\": 1}\n",
    "r = requests.post(rpc_url, headers=headers, data=json.dumps(data))\n",
    "r.json()"
   ]
  },
  {
   "cell_type": "markdown",
   "metadata": {},
   "source": [
    "## eth_getTransactionCount"
   ]
  },
  {
   "cell_type": "code",
   "execution_count": 25,
   "metadata": {},
   "outputs": [
    {
     "data": {
      "text/plain": [
       "{'jsonrpc': '2.0', 'id': 1, 'result': '0x0'}"
      ]
     },
     "execution_count": 25,
     "metadata": {},
     "output_type": "execute_result"
    }
   ],
   "source": [
    "data = {\"jsonrpc\":\"2.0\",\"method\":\"eth_getTransactionCount\",\"params\":[\"0xc94770007dda54cF92009BFF0dE90c06F603a09f\",\"latest\"],\"id\":1}\n",
    "r = requests.post(rpc_url, headers=headers, data=json.dumps(data))\n",
    "r.json()"
   ]
  },
  {
   "cell_type": "markdown",
   "metadata": {},
   "source": [
    "## eth_getBlockTransactionCountByHash"
   ]
  },
  {
   "cell_type": "code",
   "execution_count": 21,
   "metadata": {},
   "outputs": [
    {
     "data": {
      "text/plain": [
       "{'jsonrpc': '2.0', 'id': 1, 'result': None}"
      ]
     },
     "execution_count": 21,
     "metadata": {},
     "output_type": "execute_result"
    }
   ],
   "source": [
    "data = {\"jsonrpc\":\"2.0\",\"method\":\"eth_getBlockTransactionCountByHash\",\"params\":[\"0xc94770007dda54cF92009BFF0dE90c06F603a09f\"],\"id\":1}\n",
    "r = requests.post(rpc_url, headers=headers, data=json.dumps(data))\n",
    "r.json()"
   ]
  },
  {
   "cell_type": "markdown",
   "metadata": {},
   "source": [
    "## eth_getBlockTransactionCountByNumber"
   ]
  },
  {
   "cell_type": "code",
   "execution_count": 22,
   "metadata": {},
   "outputs": [
    {
     "data": {
      "text/plain": [
       "{'jsonrpc': '2.0', 'id': 1, 'result': None}"
      ]
     },
     "execution_count": 22,
     "metadata": {},
     "output_type": "execute_result"
    }
   ],
   "source": [
    "data = {\"jsonrpc\":\"2.0\",\"method\":\"eth_getBlockTransactionCountByNumber\",\"params\":[\"0xe8\"],\"id\":1}\n",
    "r = requests.post(rpc_url, headers=headers, data=json.dumps(data))\n",
    "r.json()"
   ]
  },
  {
   "cell_type": "markdown",
   "metadata": {},
   "source": [
    "## eth_getUncleCountByBlockHash"
   ]
  },
  {
   "cell_type": "code",
   "execution_count": 23,
   "metadata": {},
   "outputs": [
    {
     "data": {
      "text/plain": [
       "{'jsonrpc': '2.0', 'id': 1, 'result': None}"
      ]
     },
     "execution_count": 23,
     "metadata": {},
     "output_type": "execute_result"
    }
   ],
   "source": [
    "data = {\"jsonrpc\":\"2.0\",\"method\":\"eth_getUncleCountByBlockHash\",\"params\":[\"0xc94770007dda54cF92009BFF0dE90c06F603a09f\"],\"id\":1}\n",
    "r = requests.post(rpc_url, headers=headers, data=json.dumps(data))\n",
    "r.json()"
   ]
  },
  {
   "cell_type": "markdown",
   "metadata": {},
   "source": [
    "## eth_getUncleCountByBlockNumber\n"
   ]
  },
  {
   "cell_type": "code",
   "execution_count": 24,
   "metadata": {},
   "outputs": [
    {
     "data": {
      "text/plain": [
       "{'jsonrpc': '2.0', 'id': 1, 'result': None}"
      ]
     },
     "execution_count": 24,
     "metadata": {},
     "output_type": "execute_result"
    }
   ],
   "source": [
    "data = {\"jsonrpc\":\"2.0\",\"method\":\"eth_getUncleCountByBlockNumber\",\"params\":[\"0xe8\"],\"id\":1}\n",
    "r = requests.post(rpc_url, headers=headers, data=json.dumps(data))\n",
    "r.json()"
   ]
  },
  {
   "cell_type": "markdown",
   "metadata": {},
   "source": [
    "## eth_getCode\n"
   ]
  },
  {
   "cell_type": "code",
   "execution_count": 25,
   "metadata": {},
   "outputs": [
    {
     "data": {
      "text/plain": [
       "{'jsonrpc': '2.0',\n",
       " 'id': 1,\n",
       " 'error': {'code': -32001,\n",
       "  'message': None,\n",
       "  'data': {'exceptionTypeName': 'java.lang.NullPointerException',\n",
       "   'message': None}}}"
      ]
     },
     "execution_count": 25,
     "metadata": {},
     "output_type": "execute_result"
    }
   ],
   "source": [
    "data = {\"jsonrpc\":\"2.0\",\"method\":\"eth_getCode\",\"params\":[\"0xa94f5374fce5edbc8e2a8697c15331677e6ebf0b\", \"0x2\"],\"id\":1}\n",
    "r = requests.post(rpc_url, headers=headers, data=json.dumps(data))\n",
    "r.json()"
   ]
  },
  {
   "cell_type": "markdown",
   "metadata": {},
   "source": [
    "## eth_sign\n"
   ]
  },
  {
   "cell_type": "code",
   "execution_count": 26,
   "metadata": {},
   "outputs": [
    {
     "data": {
      "text/plain": [
       "{'jsonrpc': '2.0',\n",
       " 'id': 1,\n",
       " 'error': {'code': -32001,\n",
       "  'message': 'Key not found in keystore',\n",
       "  'data': {'exceptionTypeName': 'com.ethercamp.harmony.util.exception.HarmonyException',\n",
       "   'message': 'Key not found in keystore'}}}"
      ]
     },
     "execution_count": 26,
     "metadata": {},
     "output_type": "execute_result"
    }
   ],
   "source": [
    "data = {\"jsonrpc\":\"2.0\",\"method\":\"eth_sign\",\"params\":[\"0x9b2055d370f73ec7d8a03e965129118dc8f5bf83\", \"0xdeadbeaf\"],\"id\":1}\n",
    "r = requests.post(rpc_url, headers=headers, data=json.dumps(data))\n",
    "r.json()"
   ]
  },
  {
   "cell_type": "markdown",
   "metadata": {},
   "source": [
    "## eth_sendTransaction"
   ]
  },
  {
   "cell_type": "code",
   "execution_count": 36,
   "metadata": {},
   "outputs": [
    {
     "data": {
      "text/plain": [
       "{'jsonrpc': '2.0',\n",
       " 'id': 1,\n",
       " 'result': '0x1728b4441cb3cc6c98e63df4a9544cbc03fdc05ade2d15460e8d619bf4e15ac5'}"
      ]
     },
     "execution_count": 36,
     "metadata": {},
     "output_type": "execute_result"
    }
   ],
   "source": [
    "params = [{\n",
    "  \"from\": \"0x297A06F560cADabe5f8a13c5d89B05c630274953\",\n",
    "  \"to\": \"0x3fc81895F83c89A5dAF07D813ab9c91e5A9D97a5\",\n",
    "  \"gas\": \"0x76c0\", # 30400\n",
    "  \"gasPrice\": \"0x9184e72a000\", # 10000000000000\n",
    "  \"value\": \"0x01\", # 2441406250\n",
    "  \"data\": \"0xd46e8dd67c5d32be8d46e8dd67c5d32be8058bb8eb970870f072445675058bb8eb970870f072445675\"\n",
    "}]\n",
    "data = {\"jsonrpc\":\"2.0\",\"method\":\"eth_sendTransaction\",\"params\": params,\"id\":1}\n",
    "r = requests.post(rpc_url, headers=headers, data=json.dumps(data))\n",
    "r.json()"
   ]
  },
  {
   "cell_type": "markdown",
   "metadata": {},
   "source": [
    "## eth_sendRawTransaction"
   ]
  },
  {
   "cell_type": "code",
   "execution_count": 30,
   "metadata": {},
   "outputs": [
    {
     "data": {
      "text/plain": [
       "{'jsonrpc': '2.0',\n",
       " 'id': 1,\n",
       " 'error': {'code': -32001,\n",
       "  'message': 'Error on parsing RLP',\n",
       "  'data': {'exceptionTypeName': 'java.lang.RuntimeException',\n",
       "   'message': 'Error on parsing RLP'}}}"
      ]
     },
     "execution_count": 30,
     "metadata": {},
     "output_type": "execute_result"
    }
   ],
   "source": [
    "params = [\"0xd46e8dd67c5d32be8d46e8dd67c5d32be8058bb8eb970870f072445675058bb8eb970870f072445675\"]\n",
    "data = {\"jsonrpc\":\"2.0\",\"method\":\"eth_sendRawTransaction\",\"params\": params,\"id\":1}\n",
    "r = requests.post(rpc_url, headers=headers, data=json.dumps(data))\n",
    "r.json()"
   ]
  },
  {
   "cell_type": "markdown",
   "metadata": {},
   "source": [
    "## eth_call"
   ]
  },
  {
   "cell_type": "code",
   "execution_count": 34,
   "metadata": {},
   "outputs": [
    {
     "data": {
      "text/plain": [
       "{'jsonrpc': '2.0', 'id': 1, 'result': None}"
      ]
     },
     "execution_count": 34,
     "metadata": {},
     "output_type": "execute_result"
    }
   ],
   "source": [
    "param = {\n",
    "  \"from\": \"0xb60e8dd61c5d32be8058bb8eb970870f07233155\",\n",
    "  \"to\": \"0xd46e8dd67c5d32be8058bb8eb970870f07244567\",\n",
    "  \"gas\": \"0x76c0\", # 30400\n",
    "  \"gasPrice\": \"0x9184e72a000\", # 10000000000000\n",
    "  \"value\": \"0x9184e72a\", # 2441406250\n",
    "  \"data\": \"0xd46e8dd67c5d32be8d46e8dd67c5d32be8058bb8eb970870f072445675058bb8eb970870f072445675\"\n",
    "}\n",
    "data = {\"jsonrpc\":\"2.0\",\"method\":\"eth_call\",\"params\": [param, \"latest\"],\"id\":1}\n",
    "r = requests.post(rpc_url, headers=headers, data=json.dumps(data))\n",
    "r.json()"
   ]
  },
  {
   "cell_type": "markdown",
   "metadata": {},
   "source": [
    "## eth_estimateGas"
   ]
  },
  {
   "cell_type": "code",
   "execution_count": 36,
   "metadata": {},
   "outputs": [
    {
     "data": {
      "text/plain": [
       "{'jsonrpc': '2.0', 'id': 1, 'result': '0x5cec'}"
      ]
     },
     "execution_count": 36,
     "metadata": {},
     "output_type": "execute_result"
    }
   ],
   "source": [
    "param = {\n",
    "  \"from\": \"0xb60e8dd61c5d32be8058bb8eb970870f07233155\",\n",
    "  \"to\": \"0xd46e8dd67c5d32be8058bb8eb970870f07244567\",\n",
    "  \"gas\": \"0x76c0\", # 30400\n",
    "  \"gasPrice\": \"0x9184e72a000\", # 10000000000000\n",
    "  \"value\": \"0x9184e72a\", # 2441406250\n",
    "  \"data\": \"0xd46e8dd67c5d32be8d46e8dd67c5d32be8058bb8eb970870f072445675058bb8eb970870f072445675\"\n",
    "}\n",
    "data = {\"jsonrpc\":\"2.0\",\"method\":\"eth_estimateGas\",\"params\": [param],\"id\":1}\n",
    "r = requests.post(rpc_url, headers=headers, data=json.dumps(data))\n",
    "r.json()"
   ]
  },
  {
   "cell_type": "markdown",
   "metadata": {},
   "source": [
    "## eth_getBlockByHash"
   ]
  },
  {
   "cell_type": "code",
   "execution_count": 75,
   "metadata": {},
   "outputs": [
    {
     "data": {
      "text/plain": [
       "{'jsonrpc': '2.0',\n",
       " 'id': 1,\n",
       " 'result': {'number': '0xb1',\n",
       "  'hash': '0xcce85e8a6834a13e7e48abb9f802a6b4440d80392ac1aeb44237e0c7c55c16bb',\n",
       "  'parentHash': '0x3a54c2b1176eea64cd8e688e0339972ac080a85e44bf509b30095e3294a82dda',\n",
       "  'nonce': '0xc164eb37e6fdc172',\n",
       "  'sha3Uncles': '0x1dcc4de8dec75d7aab85b567b6ccd41ad312451b948a7413f0a142fd40d49347',\n",
       "  'logsBloom': '0x00000000000000000000000000000000000000000000000000000000000000000000000000000000000000000000000000000000000000000000000000000000000000000000000000000000000000000000000000000000000000000000000000000000000000000000000000000000000000000000000000000000000000000000000000000000000000000000000000000000000000000000000000000000000000000000000000000000000000000000000000000000000000000000000000000000000000000000000000000000000000000000000000000000000000000000000000000000000000000000000000000000000000000000000000000000',\n",
       "  'transactionsRoot': '0x545e096e11ae142f8475ff72347faf69eebd24a5852a07c54ff713677817db55',\n",
       "  'stateRoot': '0x3565fd33fb9bebea9ac5d1a2a9e9c6829ae3a30f956974a3c6758ff648e4ccde',\n",
       "  'receiptsRoot': '0x5bca5dd603679081ec02cf6e55c81b131a3daa0b9c1c8f1c76a3c80291e573a4',\n",
       "  'miner': '0x0000000000000000000000000000000000000000',\n",
       "  'difficulty': '0x22d52',\n",
       "  'totalDifficulty': '0x1717caf',\n",
       "  'extraData': '0x457468657265756d4a20706f7765726564',\n",
       "  'size': '0x2a1',\n",
       "  'gasLimit': '0x1388',\n",
       "  'gasUsed': '0x0',\n",
       "  'timestamp': '0x5bebd8f8',\n",
       "  'transactions': [{'hash': '0x34208d324f21dc386126e7fbfea229aa79925390ac4e546401a743da19c84a61',\n",
       "    'nonce': '0x00',\n",
       "    'blockHash': '0xcce85e8a6834a13e7e48abb9f802a6b4440d80392ac1aeb44237e0c7c55c16bb',\n",
       "    'blockNumber': '0xb1',\n",
       "    'transactionIndex': '0x0',\n",
       "    'from': '0xfc9c9cb040a2db21a6195fd6b76b6201153ac1a1',\n",
       "    'to': '0xde922eabaa4605e75d7a912ce4c0ed4b1ecae2b2',\n",
       "    'gas': '0x76c0',\n",
       "    'gasPrice': '0x09184e72a000',\n",
       "    'value': '0x01',\n",
       "    'input': '0xd46e8dd67c5d32be8d46e8dd67c5d32be8058bb8eb970870f072445675058bb8eb970870f072445675'}],\n",
       "  'uncles': []}}"
      ]
     },
     "execution_count": 75,
     "metadata": {},
     "output_type": "execute_result"
    }
   ],
   "source": [
    "data = {\"jsonrpc\":\"2.0\",\"method\":\"eth_getBlockByHash\",\"params\":[\"0xcce85e8a6834a13e7e48abb9f802a6b4440d80392ac1aeb44237e0c7c55c16bb\", True],\"id\":1}\n",
    "r = requests.post(rpc_url, headers=headers, data=json.dumps(data))\n",
    "r.json()"
   ]
  },
  {
   "cell_type": "markdown",
   "metadata": {},
   "source": [
    "## eth_getBlockByNumber"
   ]
  },
  {
   "cell_type": "code",
   "execution_count": 76,
   "metadata": {},
   "outputs": [
    {
     "data": {
      "text/plain": [
       "{'jsonrpc': '2.0',\n",
       " 'id': 1,\n",
       " 'result': {'number': '0xb1',\n",
       "  'hash': '0xcce85e8a6834a13e7e48abb9f802a6b4440d80392ac1aeb44237e0c7c55c16bb',\n",
       "  'parentHash': '0x3a54c2b1176eea64cd8e688e0339972ac080a85e44bf509b30095e3294a82dda',\n",
       "  'nonce': '0xc164eb37e6fdc172',\n",
       "  'sha3Uncles': '0x1dcc4de8dec75d7aab85b567b6ccd41ad312451b948a7413f0a142fd40d49347',\n",
       "  'logsBloom': '0x00000000000000000000000000000000000000000000000000000000000000000000000000000000000000000000000000000000000000000000000000000000000000000000000000000000000000000000000000000000000000000000000000000000000000000000000000000000000000000000000000000000000000000000000000000000000000000000000000000000000000000000000000000000000000000000000000000000000000000000000000000000000000000000000000000000000000000000000000000000000000000000000000000000000000000000000000000000000000000000000000000000000000000000000000000000',\n",
       "  'transactionsRoot': '0x545e096e11ae142f8475ff72347faf69eebd24a5852a07c54ff713677817db55',\n",
       "  'stateRoot': '0x3565fd33fb9bebea9ac5d1a2a9e9c6829ae3a30f956974a3c6758ff648e4ccde',\n",
       "  'receiptsRoot': '0x5bca5dd603679081ec02cf6e55c81b131a3daa0b9c1c8f1c76a3c80291e573a4',\n",
       "  'miner': '0x0000000000000000000000000000000000000000',\n",
       "  'difficulty': '0x22d52',\n",
       "  'totalDifficulty': '0x1717caf',\n",
       "  'extraData': '0x457468657265756d4a20706f7765726564',\n",
       "  'size': '0x2a1',\n",
       "  'gasLimit': '0x1388',\n",
       "  'gasUsed': '0x0',\n",
       "  'timestamp': '0x5bebd8f8',\n",
       "  'transactions': [{'hash': '0x34208d324f21dc386126e7fbfea229aa79925390ac4e546401a743da19c84a61',\n",
       "    'nonce': '0x00',\n",
       "    'blockHash': '0xcce85e8a6834a13e7e48abb9f802a6b4440d80392ac1aeb44237e0c7c55c16bb',\n",
       "    'blockNumber': '0xb1',\n",
       "    'transactionIndex': '0x0',\n",
       "    'from': '0xfc9c9cb040a2db21a6195fd6b76b6201153ac1a1',\n",
       "    'to': '0xde922eabaa4605e75d7a912ce4c0ed4b1ecae2b2',\n",
       "    'gas': '0x76c0',\n",
       "    'gasPrice': '0x09184e72a000',\n",
       "    'value': '0x01',\n",
       "    'input': '0xd46e8dd67c5d32be8d46e8dd67c5d32be8058bb8eb970870f072445675058bb8eb970870f072445675'}],\n",
       "  'uncles': []}}"
      ]
     },
     "execution_count": 76,
     "metadata": {},
     "output_type": "execute_result"
    }
   ],
   "source": [
    "data = {\"jsonrpc\":\"2.0\",\"method\":\"eth_getBlockByNumber\",\"params\":[\"0xb1\", True],\"id\":1}\n",
    "r = requests.post(rpc_url, headers=headers, data=json.dumps(data))\n",
    "r.json()"
   ]
  },
  {
   "cell_type": "markdown",
   "metadata": {},
   "source": [
    "## eth_getTransactionByHash"
   ]
  },
  {
   "cell_type": "code",
   "execution_count": 26,
   "metadata": {},
   "outputs": [
    {
     "data": {
      "text/plain": [
       "{'jsonrpc': '2.0', 'id': 1, 'result': None}"
      ]
     },
     "execution_count": 26,
     "metadata": {},
     "output_type": "execute_result"
    }
   ],
   "source": [
    "data = {\"jsonrpc\":\"2.0\",\"method\":\"eth_getTransactionByHash\",\"params\":[\"0x34208d324f21dc386126e7fbfea229aa79925390ac4e546401a743da19c84a61\"],\"id\":1}\n",
    "r = requests.post(rpc_url, headers=headers, data=json.dumps(data))\n",
    "r.json()"
   ]
  },
  {
   "cell_type": "markdown",
   "metadata": {},
   "source": [
    "## eth_getTransactionByBlockHashAndIndex"
   ]
  },
  {
   "cell_type": "code",
   "execution_count": 41,
   "metadata": {},
   "outputs": [
    {
     "data": {
      "text/plain": [
       "{'jsonrpc': '2.0', 'id': 1, 'result': None}"
      ]
     },
     "execution_count": 41,
     "metadata": {},
     "output_type": "execute_result"
    }
   ],
   "source": [
    "data = {\"jsonrpc\":\"2.0\",\"method\":\"eth_getTransactionByBlockHashAndIndex\",\"params\":[\"0xc6ef2fc5426d6ad6fd9e2a26abeab0aa2411b7ab17f30a99d3cb96aed1d1055b\", \"0x0\"],\"id\":1}\n",
    "r = requests.post(rpc_url, headers=headers, data=json.dumps(data))\n",
    "r.json()"
   ]
  },
  {
   "cell_type": "markdown",
   "metadata": {},
   "source": [
    "## eth_getTransactionByBlockNumberAndIndex"
   ]
  },
  {
   "cell_type": "code",
   "execution_count": 42,
   "metadata": {},
   "outputs": [
    {
     "data": {
      "text/plain": [
       "{'jsonrpc': '2.0', 'id': 1, 'result': None}"
      ]
     },
     "execution_count": 42,
     "metadata": {},
     "output_type": "execute_result"
    }
   ],
   "source": [
    "data = {\"jsonrpc\":\"2.0\",\"method\":\"eth_getTransactionByBlockNumberAndIndex\",\"params\":[\"0x29c\", \"0x0\"],\"id\":1}\n",
    "r = requests.post(rpc_url, headers=headers, data=json.dumps(data))\n",
    "r.json()"
   ]
  },
  {
   "cell_type": "markdown",
   "metadata": {},
   "source": [
    "## eth_getTransactionReceipt"
   ]
  },
  {
   "cell_type": "code",
   "execution_count": 43,
   "metadata": {},
   "outputs": [
    {
     "data": {
      "text/plain": [
       "{'jsonrpc': '2.0', 'id': 1, 'result': None}"
      ]
     },
     "execution_count": 43,
     "metadata": {},
     "output_type": "execute_result"
    }
   ],
   "source": [
    "data = {\"jsonrpc\":\"2.0\",\"method\":\"eth_getTransactionReceipt\",\"params\":[\"0xb903239f8543d04b5dc1ba6579132b143087c68db1b2168786408fcbce568238\"],\"id\":1}\n",
    "r = requests.post(rpc_url, headers=headers, data=json.dumps(data))\n",
    "r.json()"
   ]
  },
  {
   "cell_type": "markdown",
   "metadata": {},
   "source": [
    "## eth_getUncleByBlockHashAndIndex"
   ]
  },
  {
   "cell_type": "code",
   "execution_count": 44,
   "metadata": {},
   "outputs": [
    {
     "data": {
      "text/plain": [
       "{'jsonrpc': '2.0', 'id': 1, 'result': None}"
      ]
     },
     "execution_count": 44,
     "metadata": {},
     "output_type": "execute_result"
    }
   ],
   "source": [
    "data = {\"jsonrpc\":\"2.0\",\"method\":\"eth_getUncleByBlockHashAndIndex\",\"params\":[\"0xc6ef2fc5426d6ad6fd9e2a26abeab0aa2411b7ab17f30a99d3cb96aed1d1055b\", \"0x0\"],\"id\":1}\n",
    "r = requests.post(rpc_url, headers=headers, data=json.dumps(data))\n",
    "r.json()"
   ]
  },
  {
   "cell_type": "markdown",
   "metadata": {},
   "source": [
    "## eth_getUncleByBlockNumberAndIndex"
   ]
  },
  {
   "cell_type": "code",
   "execution_count": 45,
   "metadata": {},
   "outputs": [
    {
     "data": {
      "text/plain": [
       "{'jsonrpc': '2.0', 'id': 1, 'result': None}"
      ]
     },
     "execution_count": 45,
     "metadata": {},
     "output_type": "execute_result"
    }
   ],
   "source": [
    "data = {\"jsonrpc\":\"2.0\",\"method\":\"eth_getUncleByBlockNumberAndIndex\",\"params\":[\"0x29c\", \"0x0\"],\"id\":1}\n",
    "r = requests.post(rpc_url, headers=headers, data=json.dumps(data))\n",
    "r.json()"
   ]
  },
  {
   "cell_type": "markdown",
   "metadata": {},
   "source": [
    "## eth_getCompilers (DEPRECATED)\n",
    "## eth_compileSolidity (DEPRECATED)\n",
    "## eth_compileLLL (DEPRECATED)\n",
    "## eth_compileSerpent (DEPRECATED)"
   ]
  },
  {
   "cell_type": "code",
   "execution_count": null,
   "metadata": {},
   "outputs": [],
   "source": []
  },
  {
   "cell_type": "markdown",
   "metadata": {},
   "source": [
    "## eth_newFilter"
   ]
  },
  {
   "cell_type": "code",
   "execution_count": 46,
   "metadata": {},
   "outputs": [
    {
     "data": {
      "text/plain": [
       "{'jsonrpc': '2.0', 'id': 73, 'result': '0x1'}"
      ]
     },
     "execution_count": 46,
     "metadata": {},
     "output_type": "execute_result"
    }
   ],
   "source": [
    "data = {\"jsonrpc\":\"2.0\",\"method\":\"eth_newFilter\",\"params\":[{\"topics\":[\"0x0000000000000000000000000000000000000000000000000000000012341234\"]}],\"id\":73}\n",
    "r = requests.post(rpc_url, headers=headers, data=json.dumps(data))\n",
    "r.json()"
   ]
  },
  {
   "cell_type": "markdown",
   "metadata": {},
   "source": [
    "## eth_newBlockFilter"
   ]
  },
  {
   "cell_type": "code",
   "execution_count": 47,
   "metadata": {},
   "outputs": [
    {
     "data": {
      "text/plain": [
       "{'jsonrpc': '2.0', 'id': 73, 'result': '0x2'}"
      ]
     },
     "execution_count": 47,
     "metadata": {},
     "output_type": "execute_result"
    }
   ],
   "source": [
    "data = {\"jsonrpc\":\"2.0\",\"method\":\"eth_newBlockFilter\",\"params\":[],\"id\":73}\n",
    "r = requests.post(rpc_url, headers=headers, data=json.dumps(data))\n",
    "r.json()"
   ]
  },
  {
   "cell_type": "markdown",
   "metadata": {},
   "source": [
    "## eth_newPendingTransactionFilter"
   ]
  },
  {
   "cell_type": "code",
   "execution_count": 48,
   "metadata": {},
   "outputs": [
    {
     "data": {
      "text/plain": [
       "{'jsonrpc': '2.0', 'id': 73, 'result': '0x3'}"
      ]
     },
     "execution_count": 48,
     "metadata": {},
     "output_type": "execute_result"
    }
   ],
   "source": [
    "data = {\"jsonrpc\":\"2.0\",\"method\":\"eth_newPendingTransactionFilter\",\"params\":[],\"id\":73}\n",
    "r = requests.post(rpc_url, headers=headers, data=json.dumps(data))\n",
    "r.json()"
   ]
  },
  {
   "cell_type": "markdown",
   "metadata": {},
   "source": [
    "## eth_uninstallFilter\n"
   ]
  },
  {
   "cell_type": "code",
   "execution_count": 49,
   "metadata": {},
   "outputs": [
    {
     "data": {
      "text/plain": [
       "{'jsonrpc': '2.0', 'id': 73, 'result': False}"
      ]
     },
     "execution_count": 49,
     "metadata": {},
     "output_type": "execute_result"
    }
   ],
   "source": [
    "data = {\"jsonrpc\":\"2.0\",\"method\":\"eth_uninstallFilter\",\"params\":[\"0xb\"],\"id\":73}\n",
    "r = requests.post(rpc_url, headers=headers, data=json.dumps(data))\n",
    "r.json()"
   ]
  },
  {
   "cell_type": "markdown",
   "metadata": {},
   "source": [
    "## eth_getFilterChanges"
   ]
  },
  {
   "cell_type": "code",
   "execution_count": 50,
   "metadata": {},
   "outputs": [
    {
     "data": {
      "text/plain": [
       "{'jsonrpc': '2.0', 'id': 73, 'result': []}"
      ]
     },
     "execution_count": 50,
     "metadata": {},
     "output_type": "execute_result"
    }
   ],
   "source": [
    "data = {\"jsonrpc\":\"2.0\",\"method\":\"eth_getFilterChanges\",\"params\":[\"0x2\"],\"id\":73}\n",
    "r = requests.post(rpc_url, headers=headers, data=json.dumps(data))\n",
    "r.json()"
   ]
  },
  {
   "cell_type": "markdown",
   "metadata": {},
   "source": [
    "## eth_getFilterLogs"
   ]
  },
  {
   "cell_type": "code",
   "execution_count": 51,
   "metadata": {},
   "outputs": [
    {
     "data": {
      "text/plain": [
       "{'jsonrpc': '2.0', 'id': 74, 'result': []}"
      ]
     },
     "execution_count": 51,
     "metadata": {},
     "output_type": "execute_result"
    }
   ],
   "source": [
    "data = {\"jsonrpc\":\"2.0\",\"method\":\"eth_getFilterLogs\",\"params\":[\"0x2\"],\"id\":74}\n",
    "r = requests.post(rpc_url, headers=headers, data=json.dumps(data))\n",
    "r.json()"
   ]
  },
  {
   "cell_type": "markdown",
   "metadata": {},
   "source": [
    "## eth_getLogs"
   ]
  },
  {
   "cell_type": "code",
   "execution_count": 52,
   "metadata": {},
   "outputs": [
    {
     "data": {
      "text/plain": [
       "{'jsonrpc': '2.0', 'id': 74, 'result': []}"
      ]
     },
     "execution_count": 52,
     "metadata": {},
     "output_type": "execute_result"
    }
   ],
   "source": [
    "data = {\"jsonrpc\":\"2.0\",\"method\":\"eth_getLogs\",\"params\":[{\"topics\":[\"0x000000000000000000000000a94f5374fce5edbc8e2a8697c15331677e6ebf0b\"]}],\"id\":74}\n",
    "r = requests.post(rpc_url, headers=headers, data=json.dumps(data))\n",
    "r.json()"
   ]
  },
  {
   "cell_type": "markdown",
   "metadata": {},
   "source": [
    "## eth_getWork"
   ]
  },
  {
   "cell_type": "code",
   "execution_count": 71,
   "metadata": {},
   "outputs": [
    {
     "data": {
      "text/plain": [
       "{'jsonrpc': '2.0',\n",
       " 'id': 73,\n",
       " 'result': ['0xbd87f728d1ae1cb66fa33a92694c0955578ea7d1bf1da04d19756366282fbd90',\n",
       "  '0x0000000000000000000000000000000000000000000000000000000000000000',\n",
       "  '0x40080100200400801002004008010020040080100200400801002004']}"
      ]
     },
     "execution_count": 71,
     "metadata": {},
     "output_type": "execute_result"
    }
   ],
   "source": [
    "data = {\"jsonrpc\":\"2.0\",\"method\":\"eth_getWork\",\"params\":[],\"id\":73}\n",
    "r = requests.post(rpc_url, headers=headers, data=json.dumps(data))\n",
    "r.json()"
   ]
  },
  {
   "cell_type": "markdown",
   "metadata": {},
   "source": [
    "## eth_submitWork"
   ]
  },
  {
   "cell_type": "code",
   "execution_count": 54,
   "metadata": {},
   "outputs": [
    {
     "data": {
      "text/plain": [
       "{'jsonrpc': '2.0', 'id': 73, 'result': False}"
      ]
     },
     "execution_count": 54,
     "metadata": {},
     "output_type": "execute_result"
    }
   ],
   "source": [
    "data = {\"jsonrpc\":\"2.0\", \"method\":\"eth_submitWork\", \"params\":[\"0x0000000000000001\", \"0x1234567890abcdef1234567890abcdef1234567890abcdef1234567890abcdef\", \"0xD1GE5700000000000000000000000000D1GE5700000000000000000000000000\"],\"id\":73}\n",
    "r = requests.post(rpc_url, headers=headers, data=json.dumps(data))\n",
    "r.json()"
   ]
  },
  {
   "cell_type": "markdown",
   "metadata": {},
   "source": [
    "## eth_submitHashrate"
   ]
  },
  {
   "cell_type": "code",
   "execution_count": 55,
   "metadata": {},
   "outputs": [
    {
     "data": {
      "text/plain": [
       "{'jsonrpc': '2.0', 'id': 73, 'result': False}"
      ]
     },
     "execution_count": 55,
     "metadata": {},
     "output_type": "execute_result"
    }
   ],
   "source": [
    "data = {\"jsonrpc\":\"2.0\", \"method\":\"eth_submitHashrate\", \"params\":[\"0x0000000000000000000000000000000000000000000000000000000000500000\", \"0x59daa26581d0acd1fce254fb7e85952f4c09d0915afd33d3886cd914bc7d283c\"],\"id\":73}\n",
    "r = requests.post(rpc_url, headers=headers, data=json.dumps(data))\n",
    "r.json()"
   ]
  },
  {
   "cell_type": "markdown",
   "metadata": {},
   "source": [
    "## db_putString - deprecated"
   ]
  },
  {
   "cell_type": "code",
   "execution_count": 56,
   "metadata": {},
   "outputs": [
    {
     "data": {
      "text/plain": [
       "{'jsonrpc': '2.0',\n",
       " 'id': 73,\n",
       " 'error': {'code': -32601, 'message': 'method not found'}}"
      ]
     },
     "execution_count": 56,
     "metadata": {},
     "output_type": "execute_result"
    }
   ],
   "source": [
    "data = {\"jsonrpc\":\"2.0\",\"method\":\"db_putString\",\"params\":[\"testDB\",\"myKey\",\"myString\"],\"id\":73}\n",
    "r = requests.post(rpc_url, headers=headers, data=json.dumps(data))\n",
    "r.json()"
   ]
  },
  {
   "cell_type": "markdown",
   "metadata": {},
   "source": [
    "## db_getString - deprecated"
   ]
  },
  {
   "cell_type": "code",
   "execution_count": 57,
   "metadata": {},
   "outputs": [
    {
     "data": {
      "text/plain": [
       "{'jsonrpc': '2.0',\n",
       " 'id': 73,\n",
       " 'error': {'code': -32601, 'message': 'method not found'}}"
      ]
     },
     "execution_count": 57,
     "metadata": {},
     "output_type": "execute_result"
    }
   ],
   "source": [
    "data = {\"jsonrpc\":\"2.0\",\"method\":\"db_getString\",\"params\":[\"testDB\",\"myKey\"],\"id\":73}\n",
    "r = requests.post(rpc_url, headers=headers, data=json.dumps(data))\n",
    "r.json()"
   ]
  },
  {
   "cell_type": "markdown",
   "metadata": {},
   "source": [
    "## db_putHex - deprecated"
   ]
  },
  {
   "cell_type": "code",
   "execution_count": 58,
   "metadata": {},
   "outputs": [
    {
     "data": {
      "text/plain": [
       "{'jsonrpc': '2.0',\n",
       " 'id': 73,\n",
       " 'error': {'code': -32601, 'message': 'method not found'}}"
      ]
     },
     "execution_count": 58,
     "metadata": {},
     "output_type": "execute_result"
    }
   ],
   "source": [
    "data = {\"jsonrpc\":\"2.0\",\"method\":\"db_putHex\",\"params\":[\"testDB\",\"myKey\",\"0x68656c6c6f20776f726c64\"],\"id\":73}\n",
    "r = requests.post(rpc_url, headers=headers, data=json.dumps(data))\n",
    "r.json()"
   ]
  },
  {
   "cell_type": "markdown",
   "metadata": {},
   "source": [
    "## db_getHex - deprecated"
   ]
  },
  {
   "cell_type": "code",
   "execution_count": 59,
   "metadata": {},
   "outputs": [
    {
     "data": {
      "text/plain": [
       "{'jsonrpc': '2.0',\n",
       " 'id': 73,\n",
       " 'error': {'code': -32601, 'message': 'method not found'}}"
      ]
     },
     "execution_count": 59,
     "metadata": {},
     "output_type": "execute_result"
    }
   ],
   "source": [
    "data = {\"jsonrpc\":\"2.0\",\"method\":\"db_getHex\",\"params\":[\"testDB\",\"myKey\"],\"id\":73}\n",
    "r = requests.post(rpc_url, headers=headers, data=json.dumps(data))\n",
    "r.json()"
   ]
  },
  {
   "cell_type": "markdown",
   "metadata": {},
   "source": [
    "## shh_version"
   ]
  },
  {
   "cell_type": "code",
   "execution_count": 60,
   "metadata": {},
   "outputs": [
    {
     "data": {
      "text/plain": [
       "{'jsonrpc': '2.0', 'id': 67, 'result': '0'}"
      ]
     },
     "execution_count": 60,
     "metadata": {},
     "output_type": "execute_result"
    }
   ],
   "source": [
    "data = {\"jsonrpc\":\"2.0\",\"method\":\"shh_version\",\"params\":[],\"id\":67}\n",
    "r = requests.post(rpc_url, headers=headers, data=json.dumps(data))\n",
    "r.json()"
   ]
  },
  {
   "cell_type": "markdown",
   "metadata": {},
   "source": [
    "## shh_post"
   ]
  },
  {
   "cell_type": "code",
   "execution_count": 61,
   "metadata": {},
   "outputs": [
    {
     "data": {
      "text/plain": [
       "{'jsonrpc': '2.0',\n",
       " 'id': 73,\n",
       " 'error': {'code': -32601, 'message': 'method not found'}}"
      ]
     },
     "execution_count": 61,
     "metadata": {},
     "output_type": "execute_result"
    }
   ],
   "source": [
    "data = {\"jsonrpc\":\"2.0\",\"method\":\"shh_post\",\"params\":[{\"from\":\"0xc931d93e97ab07fe42d923478ba2465f2..\",\"topics\": [\"0x68656c6c6f20776f726c64\"],\"payload\":\"0x68656c6c6f20776f726c64\",\"ttl\":0x64,\"priority\":0x64}],\"id\":73}\n",
    "r = requests.post(rpc_url, headers=headers, data=json.dumps(data))\n",
    "r.json()"
   ]
  },
  {
   "cell_type": "markdown",
   "metadata": {},
   "source": [
    "## shh_newIdentity"
   ]
  },
  {
   "cell_type": "code",
   "execution_count": 62,
   "metadata": {},
   "outputs": [
    {
     "data": {
      "text/plain": [
       "{'jsonrpc': '2.0',\n",
       " 'id': 73,\n",
       " 'error': {'code': -32601, 'message': 'method not found'}}"
      ]
     },
     "execution_count": 62,
     "metadata": {},
     "output_type": "execute_result"
    }
   ],
   "source": [
    "data = {\"jsonrpc\":\"2.0\",\"method\":\"shh_newIdentity\",\"params\":[],\"id\":73}\n",
    "r = requests.post(rpc_url, headers=headers, data=json.dumps(data))\n",
    "r.json()"
   ]
  },
  {
   "cell_type": "markdown",
   "metadata": {},
   "source": [
    "## shh_hasIdentity"
   ]
  },
  {
   "cell_type": "code",
   "execution_count": 63,
   "metadata": {},
   "outputs": [
    {
     "data": {
      "text/plain": [
       "{'jsonrpc': '2.0',\n",
       " 'id': 73,\n",
       " 'error': {'code': -32601, 'message': 'method not found'}}"
      ]
     },
     "execution_count": 63,
     "metadata": {},
     "output_type": "execute_result"
    }
   ],
   "source": [
    "data = {\"jsonrpc\":\"2.0\",\"method\":\"shh_hasIdentity\",\"params\":[\"0x04f96a5e25610293e42a73908e93ccc8c4d4dc0edcfa9fa872f50cb214e08ebf61a03e245533f97284d442460f2998cd41858798ddfd4d661997d3940272b717b1\"],\"id\":73}\n",
    "r = requests.post(rpc_url, headers=headers, data=json.dumps(data))\n",
    "r.json()"
   ]
  },
  {
   "cell_type": "markdown",
   "metadata": {},
   "source": [
    "## shh_newGroup"
   ]
  },
  {
   "cell_type": "code",
   "execution_count": 64,
   "metadata": {},
   "outputs": [
    {
     "data": {
      "text/plain": [
       "{'jsonrpc': '2.0',\n",
       " 'id': 73,\n",
       " 'error': {'code': -32601, 'message': 'method not found'}}"
      ]
     },
     "execution_count": 64,
     "metadata": {},
     "output_type": "execute_result"
    }
   ],
   "source": [
    "data = {\"jsonrpc\":\"2.0\",\"method\":\"shh_newGroup\",\"params\":[],\"id\":73}\n",
    "r = requests.post(rpc_url, headers=headers, data=json.dumps(data))\n",
    "r.json()"
   ]
  },
  {
   "cell_type": "markdown",
   "metadata": {},
   "source": [
    "## shh_addToGroup"
   ]
  },
  {
   "cell_type": "code",
   "execution_count": 65,
   "metadata": {},
   "outputs": [
    {
     "data": {
      "text/plain": [
       "{'jsonrpc': '2.0',\n",
       " 'id': 73,\n",
       " 'error': {'code': -32601, 'message': 'method not found'}}"
      ]
     },
     "execution_count": 65,
     "metadata": {},
     "output_type": "execute_result"
    }
   ],
   "source": [
    "data = {\"jsonrpc\":\"2.0\",\"method\":\"shh_addToGroup\",\"params\":[\"0x04f96a5e25610293e42a73908e93ccc8c4d4dc0edcfa9fa872f50cb214e08ebf61a03e245533f97284d442460f2998cd41858798ddfd4d661997d3940272b717b1\"],\"id\":73}\n",
    "r = requests.post(rpc_url, headers=headers, data=json.dumps(data))\n",
    "r.json()"
   ]
  },
  {
   "cell_type": "markdown",
   "metadata": {},
   "source": [
    "## shh_newFilter"
   ]
  },
  {
   "cell_type": "code",
   "execution_count": 66,
   "metadata": {},
   "outputs": [
    {
     "data": {
      "text/plain": [
       "{'jsonrpc': '2.0',\n",
       " 'id': 73,\n",
       " 'error': {'code': -32601, 'message': 'method not found'}}"
      ]
     },
     "execution_count": 66,
     "metadata": {},
     "output_type": "execute_result"
    }
   ],
   "source": [
    "data = {\"jsonrpc\":\"2.0\",\"method\":\"shh_newFilter\",\"params\":[{\"topics\": ['0x12341234bf4b564f'],\"to\": \"0x2341234bf4b2341234bf4b564f...\"}],\"id\":73}\n",
    "r = requests.post(rpc_url, headers=headers, data=json.dumps(data))\n",
    "r.json()"
   ]
  },
  {
   "cell_type": "markdown",
   "metadata": {},
   "source": [
    "## shh_uninstallFilter"
   ]
  },
  {
   "cell_type": "code",
   "execution_count": 67,
   "metadata": {},
   "outputs": [
    {
     "data": {
      "text/plain": [
       "{'jsonrpc': '2.0',\n",
       " 'id': 73,\n",
       " 'error': {'code': -32601, 'message': 'method not found'}}"
      ]
     },
     "execution_count": 67,
     "metadata": {},
     "output_type": "execute_result"
    }
   ],
   "source": [
    "data = {\"jsonrpc\":\"2.0\",\"method\":\"shh_uninstallFilter\",\"params\":[\"0x7\"],\"id\":73}\n",
    "r = requests.post(rpc_url, headers=headers, data=json.dumps(data))\n",
    "r.json()"
   ]
  },
  {
   "cell_type": "markdown",
   "metadata": {},
   "source": [
    "## shh_getFilterChanges"
   ]
  },
  {
   "cell_type": "code",
   "execution_count": 68,
   "metadata": {},
   "outputs": [
    {
     "data": {
      "text/plain": [
       "{'jsonrpc': '2.0',\n",
       " 'id': 73,\n",
       " 'error': {'code': -32601, 'message': 'method not found'}}"
      ]
     },
     "execution_count": 68,
     "metadata": {},
     "output_type": "execute_result"
    }
   ],
   "source": [
    "data = {\"jsonrpc\":\"2.0\",\"method\":\"shh_getFilterChanges\",\"params\":[\"0x2\"],\"id\":73}\n",
    "r = requests.post(rpc_url, headers=headers, data=json.dumps(data))\n",
    "r.json()"
   ]
  },
  {
   "cell_type": "markdown",
   "metadata": {},
   "source": [
    "## shh_getMessages"
   ]
  },
  {
   "cell_type": "code",
   "execution_count": 69,
   "metadata": {},
   "outputs": [
    {
     "data": {
      "text/plain": [
       "{'jsonrpc': '2.0',\n",
       " 'id': 73,\n",
       " 'error': {'code': -32601, 'message': 'method not found'}}"
      ]
     },
     "execution_count": 69,
     "metadata": {},
     "output_type": "execute_result"
    }
   ],
   "source": [
    "data = {\"jsonrpc\":\"2.0\",\"method\":\"shh_getMessages\",\"params\":[\"0x2\"],\"id\":73}\n",
    "r = requests.post(rpc_url, headers=headers, data=json.dumps(data))\n",
    "r.json()"
   ]
  },
  {
   "cell_type": "code",
   "execution_count": null,
   "metadata": {},
   "outputs": [],
   "source": []
  }
 ],
 "metadata": {
  "kernelspec": {
   "display_name": "Python 3",
   "language": "python",
   "name": "python3"
  },
  "language_info": {
   "codemirror_mode": {
    "name": "ipython",
    "version": 3
   },
   "file_extension": ".py",
   "mimetype": "text/x-python",
   "name": "python",
   "nbconvert_exporter": "python",
   "pygments_lexer": "ipython3",
   "version": "3.7.0"
  },
  "toc": {
   "base_numbering": 1,
   "nav_menu": {},
   "number_sections": true,
   "sideBar": true,
   "skip_h1_title": false,
   "title_cell": "Table of Contents",
   "title_sidebar": "Contents",
   "toc_cell": false,
   "toc_position": {
    "height": "calc(100% - 180px)",
    "left": "10px",
    "top": "150px",
    "width": "328.797px"
   },
   "toc_section_display": true,
   "toc_window_display": true
  }
 },
 "nbformat": 4,
 "nbformat_minor": 2
}
