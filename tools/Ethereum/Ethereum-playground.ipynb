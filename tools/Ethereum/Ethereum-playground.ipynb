{
 "cells": [
  {
   "cell_type": "markdown",
   "metadata": {},
   "source": [
    "# localhost with EthereumJ"
   ]
  },
  {
   "cell_type": "code",
   "execution_count": 9,
   "metadata": {},
   "outputs": [],
   "source": [
    "import requests\n",
    "import json\n",
    "import time\n",
    "import pprint\n",
    "\n",
    "rpc_url = 'http://localhost:8545/rpc'\n",
    "headers = {'Content-Type': 'application/json'}\n"
   ]
  },
  {
   "cell_type": "code",
   "execution_count": null,
   "metadata": {},
   "outputs": [],
   "source": [
    "params = [{\n",
    "  \"from\": \"0xfc9c9cb040A2db21a6195fD6B76b6201153ac1a1\",\n",
    "  \"to\": \"0xdE922EAbAa4605E75d7A912cE4c0ed4b1ECAe2b2\",\n",
    "  \"gas\": \"0x76c0\", # 30400\n",
    "  \"gasPrice\": \"0x9184e72a000\", # 10000000000000\n",
    "  \"value\": \"0x01\", # 2441406250\n",
    "  \"data\": \"0xd46e8dd67c5d32be8d46e8dd67c5d32be8058bb8eb970870f072445675058bb8eb970870f072445675\"\n",
    "}]\n",
    "data = {\"jsonrpc\":\"2.0\",\"method\":\"eth_sendTransaction\",\"params\": params,\"id\":1}\n",
    "r = requests.post(rpc_url, headers=headers, data=json.dumps(data))\n",
    "r.json()\n",
    "# {'jsonrpc': '2.0',\n",
    "#  'id': 1,\n",
    "#  'result': '0x34208d324f21dc386126e7fbfea229aa79925390ac4e546401a743da19c84a61'}"
   ]
  },
  {
   "cell_type": "code",
   "execution_count": 30,
   "metadata": {},
   "outputs": [
    {
     "data": {
      "text/plain": [
       "{'jsonrpc': '2.0',\n",
       " 'id': 1,\n",
       " 'result': {'hash': '0x34208d324f21dc386126e7fbfea229aa79925390ac4e546401a743da19c84a61',\n",
       "  'nonce': '0x00',\n",
       "  'blockHash': '0xcce85e8a6834a13e7e48abb9f802a6b4440d80392ac1aeb44237e0c7c55c16bb',\n",
       "  'blockNumber': '0xb1',\n",
       "  'transactionIndex': '0x0',\n",
       "  'from': '0xfc9c9cb040a2db21a6195fd6b76b6201153ac1a1',\n",
       "  'to': '0xde922eabaa4605e75d7a912ce4c0ed4b1ecae2b2',\n",
       "  'gas': '0x76c0',\n",
       "  'gasPrice': '0x09184e72a000',\n",
       "  'value': '0x01',\n",
       "  'input': '0xd46e8dd67c5d32be8d46e8dd67c5d32be8058bb8eb970870f072445675058bb8eb970870f072445675'}}"
      ]
     },
     "execution_count": 30,
     "metadata": {},
     "output_type": "execute_result"
    }
   ],
   "source": [
    "# 0x34208d324f21dc386126e7fbfea229aa79925390ac4e546401a743da19c84a61\n",
    "# 0x545e096e11ae142f8475ff72347faf69eebd24a5852a07c54ff713677817db55\n",
    "data = {\"jsonrpc\":\"2.0\",\"method\":\"eth_getTransactionByHash\",\"params\":[\"0x34208d324f21dc386126e7fbfea229aa79925390ac4e546401a743da19c84a61\", \"0x545e096e11ae142f8475ff72347faf69eebd24a5852a07c54ff713677817db55\"],\"id\":1}\n",
    "r = requests.post(rpc_url, headers=headers, data=json.dumps(data))\n",
    "r.json()"
   ]
  },
  {
   "cell_type": "code",
   "execution_count": 15,
   "metadata": {},
   "outputs": [
    {
     "name": "stdout",
     "output_type": "stream",
     "text": [
      "{'id': 1,\n",
      " 'jsonrpc': '2.0',\n",
      " 'result': {'difficulty': '0x2000',\n",
      "            'extraData': '0x11bbe8db4e347b4e8c937c1c8370e4b5ed33adb3db69cbdb7a38e1e50b1b82fa',\n",
      "            'gasLimit': '0x1388',\n",
      "            'gasUsed': '0x0',\n",
      "            'hash': '0x586be6c093b6da1bac6aefa0fa7a4747b3629ab695d824d9c2f11b06a01e95c3',\n",
      "            'logsBloom': '0x00000000000000000000000000000000000000000000000000000000000000000000000000000000000000000000000000000000000000000000000000000000000000000000000000000000000000000000000000000000000000000000000000000000000000000000000000000000000000000000000000000000000000000000000000000000000000000000000000000000000000000000000000000000000000000000000000000000000000000000000000000000000000000000000000000000000000000000000000000000000000000000000000000000000000000000000000000000000000000000000000000000000000000000000000000000',\n",
      "            'miner': '0x0000000000000000000000000000000000000000',\n",
      "            'nonce': '0x0000000000000042',\n",
      "            'number': '0x0',\n",
      "            'parentHash': '0x0000000000000000000000000000000000000000000000000000000000000000',\n",
      "            'receiptsRoot': '0x56e81f171bcc55a6ff8345e692c0f86e5b48e01b996cadc001622fb5e363b421',\n",
      "            'sha3Uncles': '0x1dcc4de8dec75d7aab85b567b6ccd41ad312451b948a7413f0a142fd40d49347',\n",
      "            'size': '0x219',\n",
      "            'stateRoot': '0x7b312f5b134a806d9d845a8f010fe05c7d7e1edf8025178f730074e42326e5f2',\n",
      "            'timestamp': '0x0',\n",
      "            'totalDifficulty': '0x2000',\n",
      "            'transactions': [],\n",
      "            'transactionsRoot': '0x56e81f171bcc55a6ff8345e692c0f86e5b48e01b996cadc001622fb5e363b421',\n",
      "            'uncles': []}}\n"
     ]
    }
   ],
   "source": [
    "data = {\"jsonrpc\":\"2.0\",\"method\":\"eth_getBlockByNumber\",\"params\":[\"0x00\", True],\"id\":1}\n",
    "r = requests.post(rpc_url, headers=headers, data=json.dumps(data))\n",
    "result = r.json()\n",
    "pprint.pprint(result)"
   ]
  },
  {
   "cell_type": "code",
   "execution_count": 29,
   "metadata": {},
   "outputs": [
    {
     "name": "stdout",
     "output_type": "stream",
     "text": [
      "[0xb1] 0xcce85e8a6834a13e7e48abb9f802a6b4440d80392ac1aeb44237e0c7c55c16bb: 1 - 0x545e096e11ae142f8475ff72347faf69eebd24a5852a07c54ff713677817db55\n",
      "[0xb0] 0x3a54c2b1176eea64cd8e688e0339972ac080a85e44bf509b30095e3294a82dda: 0 - 0x56e81f171bcc55a6ff8345e692c0f86e5b48e01b996cadc001622fb5e363b421\n",
      "[0xaf] 0xa71ef2c5af05173e7052c75c8ff7c02738cbe9131c0e84ee8655043932d9e002: 0 - 0x56e81f171bcc55a6ff8345e692c0f86e5b48e01b996cadc001622fb5e363b421\n",
      "[0xae] 0x05124d9fa1bf0143c245da6028ee443e7f0e5336cba98ee59bd481ad9b4684bc: 0 - 0x56e81f171bcc55a6ff8345e692c0f86e5b48e01b996cadc001622fb5e363b421\n",
      "[0xad] 0x9947e1332aa97843f88160875e09fcf9a472b37da86500d85db69921b1aa0712: 0 - 0x56e81f171bcc55a6ff8345e692c0f86e5b48e01b996cadc001622fb5e363b421\n",
      "[0xac] 0x13ee433b2ce7cef444279a47ad76dc138a0fa7a9eda7b5ed2a73557aca20b17e: 0 - 0x56e81f171bcc55a6ff8345e692c0f86e5b48e01b996cadc001622fb5e363b421\n",
      "[0xab] 0x33a6796cedca4bdbdc9e3f00c5027de19e162543acca77e781d6e6d9e5bc2172: 0 - 0x56e81f171bcc55a6ff8345e692c0f86e5b48e01b996cadc001622fb5e363b421\n",
      "[0xaa] 0x011e361049aaff7f3088d2cb6085d81307e0e253a1db6ec33798e21d128c281b: 0 - 0x56e81f171bcc55a6ff8345e692c0f86e5b48e01b996cadc001622fb5e363b421\n",
      "[0xa9] 0x68f74474f94f0383de1cf6162bc0b90b72567855e6d8bcb1fd30cc74fd7a8caf: 0 - 0x56e81f171bcc55a6ff8345e692c0f86e5b48e01b996cadc001622fb5e363b421\n",
      "[0xa8] 0x335adc21982a8a361c5d611282db677478680116fa93507832090a4ecc619e52: 0 - 0x56e81f171bcc55a6ff8345e692c0f86e5b48e01b996cadc001622fb5e363b421\n",
      "[0xa7] 0xf547213be9049b40bde1e25b4f25e80a7ecfd9be0e028cb76e13fe865aa1c829: 0 - 0x56e81f171bcc55a6ff8345e692c0f86e5b48e01b996cadc001622fb5e363b421\n",
      "[0xa6] 0xb4be2606183e7b79ee00c330169e78e840de9e120af982f3d3324cc673f9c70b: 0 - 0x56e81f171bcc55a6ff8345e692c0f86e5b48e01b996cadc001622fb5e363b421\n",
      "[0xa5] 0x09473a2c6afd7d4f1875ab115e8070cb21d29bcdc37702f354c282c1e134a0aa: 0 - 0x56e81f171bcc55a6ff8345e692c0f86e5b48e01b996cadc001622fb5e363b421\n",
      "[0xa4] 0x916a15393fbf23aa0262bf2890be9e9fc1b5de5dae382c2971dced50ff39cdf5: 0 - 0x56e81f171bcc55a6ff8345e692c0f86e5b48e01b996cadc001622fb5e363b421\n",
      "[0xa3] 0x034dc2163c9e572dcdff1bd8a39d70600afd9e836aff30dc899fa77ec78acfee: 0 - 0x56e81f171bcc55a6ff8345e692c0f86e5b48e01b996cadc001622fb5e363b421\n",
      "[0xa2] 0xe4498dfa8dd6b84d01ad7176ac9949d14a5705f2abafd8345188ba99b2fbc529: 0 - 0x56e81f171bcc55a6ff8345e692c0f86e5b48e01b996cadc001622fb5e363b421\n",
      "[0xa1] 0x4c058f1f0692f442197bf7aba4ebb926a2a2a80a2f980fb9d86ca36db8d6b844: 0 - 0x56e81f171bcc55a6ff8345e692c0f86e5b48e01b996cadc001622fb5e363b421\n",
      "[0xa0] 0x9acd54637d09dc18b2ca3d3dc2c5ef051f68ce8d3f2065d5911e3fd0d6619ed4: 0 - 0x56e81f171bcc55a6ff8345e692c0f86e5b48e01b996cadc001622fb5e363b421\n",
      "[0x9f] 0xbe1f4310ccb51a8c93569d38f55db17985f28e014ff9d8f27411aac0fc157a03: 0 - 0x56e81f171bcc55a6ff8345e692c0f86e5b48e01b996cadc001622fb5e363b421\n",
      "[0x9e] 0xc4e33a1f63649cd33cce673b6bed1e0d5bff1ef13e7cc93e12051c56d938ead5: 0 - 0x56e81f171bcc55a6ff8345e692c0f86e5b48e01b996cadc001622fb5e363b421\n",
      "[0x9d] 0x89a403b530e46882379dcd05d9454c04727b0aab12c4c267e2aaec8ba0ddbf21: 0 - 0x56e81f171bcc55a6ff8345e692c0f86e5b48e01b996cadc001622fb5e363b421\n",
      "[0x9c] 0x3a4dc0604957c2b9699dcb3844bba0cecb10fbd44ff99588f82bdaf784d2c2c3: 0 - 0x56e81f171bcc55a6ff8345e692c0f86e5b48e01b996cadc001622fb5e363b421\n",
      "[0x9b] 0x82e98b36fc3486103121054e140686594b92b75294053dcf02f9b9245a1ca5b7: 0 - 0x56e81f171bcc55a6ff8345e692c0f86e5b48e01b996cadc001622fb5e363b421\n",
      "[0x9a] 0x56139fb9f5f74120b2c62d8f5172d57633d5ddb6b5acd5021f8945338a01f0ad: 0 - 0x56e81f171bcc55a6ff8345e692c0f86e5b48e01b996cadc001622fb5e363b421\n",
      "[0x99] 0x162f46a8d8c4336d87f4f0cc7c6487db9ae582855648c822e74c98ae13381d59: 0 - 0x56e81f171bcc55a6ff8345e692c0f86e5b48e01b996cadc001622fb5e363b421\n",
      "[0x98] 0xf51aae3c410c03151d0aad8f815b825ff5b79a3832fdc46e620e61cfb4c9b55b: 0 - 0x56e81f171bcc55a6ff8345e692c0f86e5b48e01b996cadc001622fb5e363b421\n",
      "[0x97] 0x2314295f973ebae4f1a41d1b8b1af97bd517a40c451ea13cb49e80813b52db9b: 0 - 0x56e81f171bcc55a6ff8345e692c0f86e5b48e01b996cadc001622fb5e363b421\n",
      "[0x96] 0xeb8f713135a2bb673cc7656bc79f5ee84931191a5df91240e5e1382174068442: 0 - 0x56e81f171bcc55a6ff8345e692c0f86e5b48e01b996cadc001622fb5e363b421\n",
      "[0x95] 0x9aec238b6ff98ce2f106eb0041a84d5b54c26c5e723866aed39262109da007d6: 0 - 0x56e81f171bcc55a6ff8345e692c0f86e5b48e01b996cadc001622fb5e363b421\n",
      "[0x94] 0x504a33769a84e78a991507758574739f162c2650a45225356f32ed159830603e: 0 - 0x56e81f171bcc55a6ff8345e692c0f86e5b48e01b996cadc001622fb5e363b421\n",
      "[0x93] 0xc22c4064d2cb8661cb53e58d323c00601aa792bc5fe9b2609a3f54701008d886: 0 - 0x56e81f171bcc55a6ff8345e692c0f86e5b48e01b996cadc001622fb5e363b421\n",
      "[0x92] 0x49c7947a1d3dff8942942caf450fee033bc73d4b8967d46b1f3f492db7165e22: 0 - 0x56e81f171bcc55a6ff8345e692c0f86e5b48e01b996cadc001622fb5e363b421\n",
      "[0x91] 0x0111cf2e5a641e21222a611f65028c3f1eabacc24c26bc32d4b68fe0334b30a2: 0 - 0x56e81f171bcc55a6ff8345e692c0f86e5b48e01b996cadc001622fb5e363b421\n",
      "[0x90] 0xf6b427910a8fb29213c25fec5f657da1884cbf66f61b03975bcb0621ef4cee53: 0 - 0x56e81f171bcc55a6ff8345e692c0f86e5b48e01b996cadc001622fb5e363b421\n",
      "[0x8f] 0xe990701e28c0d6e9eeb34b4bee698428e25351b27c969202626572ec78f13fa4: 0 - 0x56e81f171bcc55a6ff8345e692c0f86e5b48e01b996cadc001622fb5e363b421\n",
      "[0x8e] 0xddfd62bb89ea02414665bb0f40f212efaed99ed28750056b453b3d564760c9b3: 0 - 0x56e81f171bcc55a6ff8345e692c0f86e5b48e01b996cadc001622fb5e363b421\n",
      "[0x8d] 0x014120c8cda6034157ccb8c2708d6d40e3c99c31d7efedfab867e456ffb6827f: 0 - 0x56e81f171bcc55a6ff8345e692c0f86e5b48e01b996cadc001622fb5e363b421\n",
      "[0x8c] 0xd6f63840c9b119433f80bfb6c00ae83d47d4b1fc7892cfb3d04890da2b7693f4: 0 - 0x56e81f171bcc55a6ff8345e692c0f86e5b48e01b996cadc001622fb5e363b421\n",
      "[0x8b] 0x1b6e668e42481039d770119fe6a18c1c6c1a15313a8eede179959b98fe15c8b2: 0 - 0x56e81f171bcc55a6ff8345e692c0f86e5b48e01b996cadc001622fb5e363b421\n",
      "[0x8a] 0x5a274d6a6addbf930534c0e4bd7df7142036fb8c36b87870ee0d5aa9aab4e995: 0 - 0x56e81f171bcc55a6ff8345e692c0f86e5b48e01b996cadc001622fb5e363b421\n",
      "[0x89] 0xb3e974d779c6748f0c940f793d278c1a0d7f0eb2490a76ebd1478207079758a9: 0 - 0x56e81f171bcc55a6ff8345e692c0f86e5b48e01b996cadc001622fb5e363b421\n",
      "[0x88] 0xe8af70660599570a2fb8512c8216bc594a814ec67fb5a59fea4f3ac9752cc678: 0 - 0x56e81f171bcc55a6ff8345e692c0f86e5b48e01b996cadc001622fb5e363b421\n",
      "[0x87] 0x6a703b7c49dd75e3e42ad8f24312f97c2cc0d1581c2ff3b5e02349cc35e25d31: 0 - 0x56e81f171bcc55a6ff8345e692c0f86e5b48e01b996cadc001622fb5e363b421\n",
      "[0x86] 0x01700f35707c168034bdf692413f1c3881b44b6e4103732c5f1e0b58a70f85bd: 0 - 0x56e81f171bcc55a6ff8345e692c0f86e5b48e01b996cadc001622fb5e363b421\n",
      "[0x85] 0x58bd8901e139b01c31ca3c7bf6988a6917bf11f66518de0de4af5ee14815f57b: 0 - 0x56e81f171bcc55a6ff8345e692c0f86e5b48e01b996cadc001622fb5e363b421\n",
      "[0x84] 0x7775749e1cddee517c2f6d482b66cd0211dff1be62527ae29d4045c38040e7a8: 0 - 0x56e81f171bcc55a6ff8345e692c0f86e5b48e01b996cadc001622fb5e363b421\n",
      "[0x83] 0x4eeff04e962cc9038f755bcf5d05808c038a35f85294bbb29a4bd69f12874966: 0 - 0x56e81f171bcc55a6ff8345e692c0f86e5b48e01b996cadc001622fb5e363b421\n",
      "[0x82] 0xde38ad0f1efcc062ebfd64f1c7f07a33742c40882aa87c14b0e1cfb7efc18e48: 0 - 0x56e81f171bcc55a6ff8345e692c0f86e5b48e01b996cadc001622fb5e363b421\n",
      "[0x81] 0xf421fe72fa251f486bb3f6412b165ec1d5359a1be0323d003326af8cae641733: 0 - 0x56e81f171bcc55a6ff8345e692c0f86e5b48e01b996cadc001622fb5e363b421\n",
      "[0x80] 0x92e476d794627d4f01578c9d90640903250ee9e4cf0c05bc51965d98c9cb03de: 0 - 0x56e81f171bcc55a6ff8345e692c0f86e5b48e01b996cadc001622fb5e363b421\n",
      "[0x7f] 0xeba55666886c80e8e3d5d5df635bdf04aa7ba7ad87d76a9fd18f3afb4e13eeb5: 0 - 0x56e81f171bcc55a6ff8345e692c0f86e5b48e01b996cadc001622fb5e363b421\n",
      "[0x7e] 0x20c861c65da209e2e639b98475472be57c9a4dab230f1ba3dc68966373df1759: 0 - 0x56e81f171bcc55a6ff8345e692c0f86e5b48e01b996cadc001622fb5e363b421\n",
      "[0x7d] 0x11ad06163a69196d12c7cdbcbfc4268172ca6dd9fa0aadb26acdb9678886e734: 0 - 0x56e81f171bcc55a6ff8345e692c0f86e5b48e01b996cadc001622fb5e363b421\n",
      "[0x7c] 0xe90fd257fb1b8233619e8716cadce33bdca596c7b66b692af88116be1c45145a: 0 - 0x56e81f171bcc55a6ff8345e692c0f86e5b48e01b996cadc001622fb5e363b421\n",
      "[0x7b] 0xbe88655a05b20691dc1dd79a586277b4805e9db8da6c78c300aa82e2e765ae51: 0 - 0x56e81f171bcc55a6ff8345e692c0f86e5b48e01b996cadc001622fb5e363b421\n",
      "[0x7a] 0xeb33f50731fffbd0090b65ebd0f8237a731eae12a7406d50386ccd8f8b961aab: 0 - 0x56e81f171bcc55a6ff8345e692c0f86e5b48e01b996cadc001622fb5e363b421\n",
      "[0x79] 0x72c114ae30edaf0c25596deea2e86cbecff667401ec50524263da42a36d2c4ea: 0 - 0x56e81f171bcc55a6ff8345e692c0f86e5b48e01b996cadc001622fb5e363b421\n",
      "[0x78] 0x3b5111ed85d529b7a50946f1dd38ca832b7e55658dc08195f5f16a27e9f322ca: 0 - 0x56e81f171bcc55a6ff8345e692c0f86e5b48e01b996cadc001622fb5e363b421\n",
      "[0x77] 0xd77cd77d2bc5c670ac2bc3f558f832d00e49e459b1a21ab5391242ba509f5ffd: 0 - 0x56e81f171bcc55a6ff8345e692c0f86e5b48e01b996cadc001622fb5e363b421\n",
      "[0x76] 0xf6268011573204c1d299098147659a3fd06a177ff2b231b894498096894272b3: 0 - 0x56e81f171bcc55a6ff8345e692c0f86e5b48e01b996cadc001622fb5e363b421\n",
      "[0x75] 0x08aee2be3bb5fa818c8a1bb5a21409fb63e4932a46db84df031e6cd725e779b3: 0 - 0x56e81f171bcc55a6ff8345e692c0f86e5b48e01b996cadc001622fb5e363b421\n",
      "[0x74] 0x13a4eecd4c96fa22afde5cfc4e7b020af7b8f9900e9ffc0109a1dbe2383f8633: 0 - 0x56e81f171bcc55a6ff8345e692c0f86e5b48e01b996cadc001622fb5e363b421\n",
      "[0x73] 0x870ac9f172371431f667ddd689831650517c82f8f4ce63ab7ce5ff30372c99e3: 0 - 0x56e81f171bcc55a6ff8345e692c0f86e5b48e01b996cadc001622fb5e363b421\n",
      "[0x72] 0x99579412b4e7c2c017c70fe4d7d5705dabb7ab0ea783b0876dbb8b539497f064: 0 - 0x56e81f171bcc55a6ff8345e692c0f86e5b48e01b996cadc001622fb5e363b421\n",
      "[0x71] 0x67844c9aba0c39b97ab8063f174a051d7e6bef1231501960b0a32356fceb1bb1: 0 - 0x56e81f171bcc55a6ff8345e692c0f86e5b48e01b996cadc001622fb5e363b421\n",
      "[0x70] 0x30abe5f61e05d768b54486b6ac3cec93dc1582c97cc53729842989dbc26cca87: 0 - 0x56e81f171bcc55a6ff8345e692c0f86e5b48e01b996cadc001622fb5e363b421\n",
      "[0x6f] 0xe0c99c4b186514737bbd4269fc6f4551c30fd8e65e8712f9ffd145cffdb94ccf: 0 - 0x56e81f171bcc55a6ff8345e692c0f86e5b48e01b996cadc001622fb5e363b421\n",
      "[0x6e] 0xa44a97c161da7feb87c1aaf18166421a84b70195f19ff88f5f70ccd0b3cbe977: 0 - 0x56e81f171bcc55a6ff8345e692c0f86e5b48e01b996cadc001622fb5e363b421\n",
      "[0x6d] 0xaf06279dda9d25cea8cca0eb5d42bb933a55c1684ae75bce1260f6cc73a41ba6: 0 - 0x56e81f171bcc55a6ff8345e692c0f86e5b48e01b996cadc001622fb5e363b421\n",
      "[0x6c] 0xf5074dd3b5ee34fd1115b90b70104b15aebe34484786030eb64583b7530346b5: 0 - 0x56e81f171bcc55a6ff8345e692c0f86e5b48e01b996cadc001622fb5e363b421\n",
      "[0x6b] 0x4ed33571a2baab5a9c3c66b78954089b39c76209f2b72b8935175791f56ee47f: 0 - 0x56e81f171bcc55a6ff8345e692c0f86e5b48e01b996cadc001622fb5e363b421\n",
      "[0x6a] 0xab33083dd749d9f35aa5b176276cf1345cae01c02029cc8cff77e5aa64adbd92: 0 - 0x56e81f171bcc55a6ff8345e692c0f86e5b48e01b996cadc001622fb5e363b421\n",
      "[0x69] 0x996d37044965b7219cd59ef143e72647aec4d2f8fdce3060c939ef471f90a048: 0 - 0x56e81f171bcc55a6ff8345e692c0f86e5b48e01b996cadc001622fb5e363b421\n",
      "[0x68] 0x5d791c59c15ec29b463d87923eec2f2e03ca43c0a00ca1a5b29912d27115ea3e: 0 - 0x56e81f171bcc55a6ff8345e692c0f86e5b48e01b996cadc001622fb5e363b421\n",
      "[0x67] 0x5e7337e822acfc2dd05e001910bac092a21d6807557e015a9cd55b427ecf638b: 0 - 0x56e81f171bcc55a6ff8345e692c0f86e5b48e01b996cadc001622fb5e363b421\n",
      "[0x66] 0x21c606f1d02241f281f88eaf3fef5b71d077d5d70411e20f06aeaff3cb851f1b: 0 - 0x56e81f171bcc55a6ff8345e692c0f86e5b48e01b996cadc001622fb5e363b421\n",
      "[0x65] 0x4c2e280b725a3398c6101342b0e9d67723941fd832e33405ad35089a724130cb: 0 - 0x56e81f171bcc55a6ff8345e692c0f86e5b48e01b996cadc001622fb5e363b421\n",
      "[0x64] 0xf4824d825f465f8ec6106a60289cdc7a0705b11e499a2eb626f994036e391336: 0 - 0x56e81f171bcc55a6ff8345e692c0f86e5b48e01b996cadc001622fb5e363b421\n",
      "[0x63] 0x7165d37134a619e2325bb6e04c2e75ef52ea3c692a6e93b2c85bc590cba55438: 0 - 0x56e81f171bcc55a6ff8345e692c0f86e5b48e01b996cadc001622fb5e363b421\n",
      "[0x62] 0x8bb8af74d0c3ba3092bcf0ef6b7133be84bd0e402107dc8ecdd7991842f5630e: 0 - 0x56e81f171bcc55a6ff8345e692c0f86e5b48e01b996cadc001622fb5e363b421\n",
      "[0x61] 0x04661d4e5bf414ad552208e6467ae5fb94ef67d2095013b2d3fa9744fc402d6f: 0 - 0x56e81f171bcc55a6ff8345e692c0f86e5b48e01b996cadc001622fb5e363b421\n",
      "[0x60] 0xb29bc8fdba76ac9502f99b9fde28b7a457ed4187a9907f5d6ee29d32bea01494: 0 - 0x56e81f171bcc55a6ff8345e692c0f86e5b48e01b996cadc001622fb5e363b421\n",
      "[0x5f] 0x1d230669c9d4b37a7f78d832a7b2be7ed6e0c9f2f86ed8e62a087f8f328f4fd1: 0 - 0x56e81f171bcc55a6ff8345e692c0f86e5b48e01b996cadc001622fb5e363b421\n",
      "[0x5e] 0x0ffb9ac721b2a4e7fd1b774d6268b0a46c5b3ae5231c4f3e0cce8a1b0835e53d: 0 - 0x56e81f171bcc55a6ff8345e692c0f86e5b48e01b996cadc001622fb5e363b421\n",
      "[0x5d] 0x4f7cd5500ffee2f95ef8641c735e56340c6f9ffa4fe3747de78ab57158527651: 0 - 0x56e81f171bcc55a6ff8345e692c0f86e5b48e01b996cadc001622fb5e363b421\n"
     ]
    },
    {
     "name": "stdout",
     "output_type": "stream",
     "text": [
      "[0x5c] 0x273353c8317df93aa878a51a2a0ae0d8905b7ec3fc8dabf6948de7c4acfd8cc5: 0 - 0x56e81f171bcc55a6ff8345e692c0f86e5b48e01b996cadc001622fb5e363b421\n",
      "[0x5b] 0x90ba5607d008cab941893dc8145c7fae24d5b0ec20732a9a227f8c6c26315e8d: 0 - 0x56e81f171bcc55a6ff8345e692c0f86e5b48e01b996cadc001622fb5e363b421\n",
      "[0x5a] 0x09a07ac86eb64f2412d21ec9a4d27713f9460838316a0df1864008260535e712: 0 - 0x56e81f171bcc55a6ff8345e692c0f86e5b48e01b996cadc001622fb5e363b421\n",
      "[0x59] 0x3a1f46cd53ed83448488b83eafcda28481d1061e9847011fe2352923ac7b84b1: 0 - 0x56e81f171bcc55a6ff8345e692c0f86e5b48e01b996cadc001622fb5e363b421\n",
      "[0x58] 0x32da3732c700ad3cd16600a3243499523a5897ef0ad1c0474c79117dee6bb589: 0 - 0x56e81f171bcc55a6ff8345e692c0f86e5b48e01b996cadc001622fb5e363b421\n",
      "[0x57] 0xd699b9c24b18f8bb69bea2f7aaa9f78239eff521030f77485df99e69130e3725: 0 - 0x56e81f171bcc55a6ff8345e692c0f86e5b48e01b996cadc001622fb5e363b421\n",
      "[0x56] 0x34a40fb375cf83671dd45ab0a2b2153386fa27ed4a2b3df3a244d7a5d4897a9f: 0 - 0x56e81f171bcc55a6ff8345e692c0f86e5b48e01b996cadc001622fb5e363b421\n",
      "[0x55] 0xa2d3e95430a49191986abcaf0b695060054ac4069cb89e7849094e0222d54c04: 0 - 0x56e81f171bcc55a6ff8345e692c0f86e5b48e01b996cadc001622fb5e363b421\n",
      "[0x54] 0x2144d1763794891b0cfc52db0c5273f3b3751d9a41d0da811811c461181179ba: 0 - 0x56e81f171bcc55a6ff8345e692c0f86e5b48e01b996cadc001622fb5e363b421\n",
      "[0x53] 0x675e252b8445a6b96d1eded15abb1059e1aa5dc0faa7fe3af5ffc4d0db0e39b0: 0 - 0x56e81f171bcc55a6ff8345e692c0f86e5b48e01b996cadc001622fb5e363b421\n",
      "[0x52] 0x3fbfd325977835b19be02c27871ef8ad24787eb1cdfe4c37fe14c888fdb9275e: 0 - 0x56e81f171bcc55a6ff8345e692c0f86e5b48e01b996cadc001622fb5e363b421\n",
      "[0x51] 0x4863b5f2acde92e3619c3e1161a0740e5bbed5f21b3ad259b0aabb6eba5478c0: 0 - 0x56e81f171bcc55a6ff8345e692c0f86e5b48e01b996cadc001622fb5e363b421\n",
      "[0x50] 0xdaee08834cdd3f72932d4fa5570001e10c11ae92ddd16067aa014d4e26eb1881: 0 - 0x56e81f171bcc55a6ff8345e692c0f86e5b48e01b996cadc001622fb5e363b421\n",
      "[0x4f] 0x3e0b861b3f1aa5df931698d53001db325a4673e350e072868bec58a732fce586: 0 - 0x56e81f171bcc55a6ff8345e692c0f86e5b48e01b996cadc001622fb5e363b421\n",
      "[0x4e] 0x1bdc2ad3513b687661704c9cd94b5ea6c896f376b00b50922240e756eed7316c: 0 - 0x56e81f171bcc55a6ff8345e692c0f86e5b48e01b996cadc001622fb5e363b421\n",
      "[0x4d] 0x6247d9dff3ef0149539bcd95c0ffaf20d6644c356ccebc2ccb27469b56f67aff: 0 - 0x56e81f171bcc55a6ff8345e692c0f86e5b48e01b996cadc001622fb5e363b421\n",
      "[0x4c] 0x01c3c67d31d94f8e9e2e0a1d318c574ecb39c61db1a823b3a8ccc41b2a487dd1: 0 - 0x56e81f171bcc55a6ff8345e692c0f86e5b48e01b996cadc001622fb5e363b421\n",
      "[0x4b] 0xaae1e63e62af8f2bc7535da42be9c7d95875b5979fa6f4e9b916de22544643d8: 0 - 0x56e81f171bcc55a6ff8345e692c0f86e5b48e01b996cadc001622fb5e363b421\n",
      "[0x4a] 0x184abe78e180d24c53126abc60b62ba743abe5160732d44c54ed791e3bd088bf: 0 - 0x56e81f171bcc55a6ff8345e692c0f86e5b48e01b996cadc001622fb5e363b421\n",
      "[0x49] 0xfa8406e2165fefd998ce70df2c828d59718e21b4574b68ad65a1b0a688b29ba1: 0 - 0x56e81f171bcc55a6ff8345e692c0f86e5b48e01b996cadc001622fb5e363b421\n",
      "[0x48] 0x411f1e22782398b6bd11d9a5ad8ada1e4d85177411b06fef2b011446645e4017: 0 - 0x56e81f171bcc55a6ff8345e692c0f86e5b48e01b996cadc001622fb5e363b421\n",
      "[0x47] 0xeedf5e68f9d7074b058f68e10a244a73d70b75056dd8b093936252cf19ec5a15: 0 - 0x56e81f171bcc55a6ff8345e692c0f86e5b48e01b996cadc001622fb5e363b421\n",
      "[0x46] 0xf5aab7e16a1ffeef519f6f51c97e76d3dcef6701f52973a8bd94ebc1d05f5502: 0 - 0x56e81f171bcc55a6ff8345e692c0f86e5b48e01b996cadc001622fb5e363b421\n",
      "[0x45] 0xa68ed64579031b637ad7fa2f383ff8a43ad481ebda9c1cd793f433d05378606b: 0 - 0x56e81f171bcc55a6ff8345e692c0f86e5b48e01b996cadc001622fb5e363b421\n",
      "[0x44] 0xa4baedb2949a2d5cc77bd3f32ed3180b78af0f6195b10b4a5becc2f3913696f2: 0 - 0x56e81f171bcc55a6ff8345e692c0f86e5b48e01b996cadc001622fb5e363b421\n",
      "[0x43] 0x0dbc472a9b9975e8f4cdaaa14113e376ccb836796f67d093e213d6406c4df09f: 0 - 0x56e81f171bcc55a6ff8345e692c0f86e5b48e01b996cadc001622fb5e363b421\n",
      "[0x42] 0x3ef26d742b9d2ffa92743c6159c7ab8efb5f6794d3db9d73ac7a4cd87106c45a: 0 - 0x56e81f171bcc55a6ff8345e692c0f86e5b48e01b996cadc001622fb5e363b421\n",
      "[0x41] 0x32d0073052e98d32a3bd56883f0aacb582718b11c7eba09ce81067f9de4bd7ee: 0 - 0x56e81f171bcc55a6ff8345e692c0f86e5b48e01b996cadc001622fb5e363b421\n",
      "[0x40] 0x9e3769b493e369e15788731b296a7e6a9f2f8f55cd32879431b6a464571191c0: 0 - 0x56e81f171bcc55a6ff8345e692c0f86e5b48e01b996cadc001622fb5e363b421\n",
      "[0x3f] 0xfd27b69df3d50acccdc590a5617ed7f44e9b28b4f2cb8fa0c0b3198ef97e5216: 0 - 0x56e81f171bcc55a6ff8345e692c0f86e5b48e01b996cadc001622fb5e363b421\n",
      "[0x3e] 0xd8482513f2d8992f72e64d7e75099aa65e6669cbe80e07d3f750a1c2bac4a94d: 0 - 0x56e81f171bcc55a6ff8345e692c0f86e5b48e01b996cadc001622fb5e363b421\n",
      "[0x3d] 0xe4095b32d86ce61a719888ae51e0bf347a3ca1230fa20807540e43f0a9fe1b31: 0 - 0x56e81f171bcc55a6ff8345e692c0f86e5b48e01b996cadc001622fb5e363b421\n",
      "[0x3c] 0x4764b53180e573f29ab686e1e20bee7a5ff6b44feb4acd06be1f10c6f63f0179: 0 - 0x56e81f171bcc55a6ff8345e692c0f86e5b48e01b996cadc001622fb5e363b421\n",
      "[0x3b] 0xc13d41a7fd4f6a1c85c587a94a3742b7ab84f00082ba481aaf76b42a604fd3cf: 0 - 0x56e81f171bcc55a6ff8345e692c0f86e5b48e01b996cadc001622fb5e363b421\n",
      "[0x3a] 0x7f7322d79405931b6309e20e4a1bb7a210233f00f60c7aeae2f357d24a0d1016: 0 - 0x56e81f171bcc55a6ff8345e692c0f86e5b48e01b996cadc001622fb5e363b421\n",
      "[0x39] 0x5372e73b5b4eb42a6bb71308716275c9e5532882ca9db93f717fc81c40cdf1c6: 0 - 0x56e81f171bcc55a6ff8345e692c0f86e5b48e01b996cadc001622fb5e363b421\n",
      "[0x38] 0x6c6c00d732f744635cc3d018e3e466ae6ec6c3a75077ce66c6abda780589f9cc: 0 - 0x56e81f171bcc55a6ff8345e692c0f86e5b48e01b996cadc001622fb5e363b421\n",
      "[0x37] 0x96fcc1dc80eb61eacc8944142ee38c445a375925e722c6a1ace64afa1e41c148: 0 - 0x56e81f171bcc55a6ff8345e692c0f86e5b48e01b996cadc001622fb5e363b421\n",
      "[0x36] 0x4066ec4c2574783d50ccc373419b86e03815d89800056881bd63e87f05b822f7: 0 - 0x56e81f171bcc55a6ff8345e692c0f86e5b48e01b996cadc001622fb5e363b421\n",
      "[0x35] 0x9b182d9a74191ca20c28cfc17a5faf7cdb414332e1099eed528d869b37e53930: 0 - 0x56e81f171bcc55a6ff8345e692c0f86e5b48e01b996cadc001622fb5e363b421\n",
      "[0x34] 0x38608175ef1199ff0ca5b1e15ae44fdd3992a0f01f2844d4c37581dad979359c: 0 - 0x56e81f171bcc55a6ff8345e692c0f86e5b48e01b996cadc001622fb5e363b421\n",
      "[0x33] 0xe7291e128f34b0dee7fbdefdf7fe6b2eb910f367d5efe379d4da1e9664e7d192: 0 - 0x56e81f171bcc55a6ff8345e692c0f86e5b48e01b996cadc001622fb5e363b421\n",
      "[0x32] 0xe6a5e42c9b121cbab621c79c94957a87ee4e689c42d7542dd1527cf9829ad472: 0 - 0x56e81f171bcc55a6ff8345e692c0f86e5b48e01b996cadc001622fb5e363b421\n",
      "[0x31] 0x20294e4d64e2056af4dca9efb6661f4bb78c0ae80562cfd972828a975a65e96d: 0 - 0x56e81f171bcc55a6ff8345e692c0f86e5b48e01b996cadc001622fb5e363b421\n",
      "[0x30] 0x513c210e0c4fe5f067a037e12491d9be19802402a543e7944d286aefdfb80ba2: 0 - 0x56e81f171bcc55a6ff8345e692c0f86e5b48e01b996cadc001622fb5e363b421\n",
      "[0x2f] 0x0eb733f9760cf47b0f3a7e67f39d34c3dca5fd4edf468278dafbefeb96ff7daf: 0 - 0x56e81f171bcc55a6ff8345e692c0f86e5b48e01b996cadc001622fb5e363b421\n",
      "[0x2e] 0x979cfac5247720ab071ee5c4ed3732b3722b50f5c62dcff698e3fff43c59f884: 0 - 0x56e81f171bcc55a6ff8345e692c0f86e5b48e01b996cadc001622fb5e363b421\n",
      "[0x2d] 0x54eb6c3dc724a342d164d42d6d8d46cfac3c2865b21cb1834b84882386825323: 0 - 0x56e81f171bcc55a6ff8345e692c0f86e5b48e01b996cadc001622fb5e363b421\n",
      "[0x2c] 0x3d14212651fb6b90cdb1a3ca02206e04c39b2cff4d1672d51f047ef2501ece6f: 0 - 0x56e81f171bcc55a6ff8345e692c0f86e5b48e01b996cadc001622fb5e363b421\n",
      "[0x2b] 0x9b67fa8889cfc7f3704cf45bf37e9c84d53d7491382e4fca0885ee0f29997f20: 0 - 0x56e81f171bcc55a6ff8345e692c0f86e5b48e01b996cadc001622fb5e363b421\n",
      "[0x2a] 0x300f711ae5274cac745bde7d72873ad7d249d02d7d869f5c47b0dbb2db39b544: 0 - 0x56e81f171bcc55a6ff8345e692c0f86e5b48e01b996cadc001622fb5e363b421\n",
      "[0x29] 0x92d264282da14bbc19eecb5ae55af6a3841356fa707849cce279bcd531da1eeb: 0 - 0x56e81f171bcc55a6ff8345e692c0f86e5b48e01b996cadc001622fb5e363b421\n",
      "[0x28] 0xfd2a98b75f0fbac8b352d955d5d81e678c1540f78418104c843486ca771681fd: 0 - 0x56e81f171bcc55a6ff8345e692c0f86e5b48e01b996cadc001622fb5e363b421\n",
      "[0x27] 0x519a91cdfcca0b40b8c293bd739ed6dcb4466ee89ffc9e3d77e85f85758ab9b7: 0 - 0x56e81f171bcc55a6ff8345e692c0f86e5b48e01b996cadc001622fb5e363b421\n",
      "[0x26] 0x76219bb2d3d1def779ba347001ef56a5daeb3b278d0b719e60b67d16f0a2aeb9: 0 - 0x56e81f171bcc55a6ff8345e692c0f86e5b48e01b996cadc001622fb5e363b421\n",
      "[0x25] 0x217a8472fc82587d6681229f39a4b5cd3dada07e25c12a91dd0414a09d2c259c: 0 - 0x56e81f171bcc55a6ff8345e692c0f86e5b48e01b996cadc001622fb5e363b421\n",
      "[0x24] 0xda4f894fabffdd3dedaf1b0fd149964888b8e93a0497c01c09999a2e577b66fe: 0 - 0x56e81f171bcc55a6ff8345e692c0f86e5b48e01b996cadc001622fb5e363b421\n",
      "[0x23] 0x9d89140779e2eb541c1f9bb396cd3e7b5c441c3f8e65f041aacce7f75d8db035: 0 - 0x56e81f171bcc55a6ff8345e692c0f86e5b48e01b996cadc001622fb5e363b421\n",
      "[0x22] 0x824b810ec85895b242509f364f9b2a57a8c6dafc83ded12f92b4ad909566d7d8: 0 - 0x56e81f171bcc55a6ff8345e692c0f86e5b48e01b996cadc001622fb5e363b421\n",
      "[0x21] 0xa90a4a3896ee94cf077e76a6adbc8473c215e85b70da5e3f5822154a6728982a: 0 - 0x56e81f171bcc55a6ff8345e692c0f86e5b48e01b996cadc001622fb5e363b421\n",
      "[0x20] 0xc77ebcf477b3202e25378be31533ed93adba5bdf12ddb49132274daa8d534833: 0 - 0x56e81f171bcc55a6ff8345e692c0f86e5b48e01b996cadc001622fb5e363b421\n",
      "[0x1f] 0x46a200f9be6e5dbfc740edef4fb3ea81e4539b1876156db0430ddaca6e829395: 0 - 0x56e81f171bcc55a6ff8345e692c0f86e5b48e01b996cadc001622fb5e363b421\n",
      "[0x1e] 0xb4ed3a73e57301702630da78719fecde55966b2e9d2f384b0d467d2134676297: 0 - 0x56e81f171bcc55a6ff8345e692c0f86e5b48e01b996cadc001622fb5e363b421\n",
      "[0x1d] 0x19d46b39712ce2682fefd582dca41f6339d4c540ec0186db40a359a300e9da89: 0 - 0x56e81f171bcc55a6ff8345e692c0f86e5b48e01b996cadc001622fb5e363b421\n",
      "[0x1c] 0x2a93e1fadecc62bd92e752541d8dc10cc44f9c874f41ae9919d14ae1ae9af213: 0 - 0x56e81f171bcc55a6ff8345e692c0f86e5b48e01b996cadc001622fb5e363b421\n",
      "[0x1b] 0xc40f38e591a054f78db7d575bacd0a91f23d3e0d72f020a59562875d5c9862eb: 0 - 0x56e81f171bcc55a6ff8345e692c0f86e5b48e01b996cadc001622fb5e363b421\n",
      "[0x1a] 0xdbe79ee52a4b76cb4b0f2f88bb6f3bd329c957313c76cd72d47f8a923a6fc243: 0 - 0x56e81f171bcc55a6ff8345e692c0f86e5b48e01b996cadc001622fb5e363b421\n",
      "[0x19] 0x4132f342f80a290491ea6b8652f7976230b2a0884d146a1be92a8bc2fa2690e9: 0 - 0x56e81f171bcc55a6ff8345e692c0f86e5b48e01b996cadc001622fb5e363b421\n",
      "[0x18] 0xb96b716bd6e3e2212e4a3be3f400ca80b91dcf2148316cd718ec49eec5eb3bbc: 0 - 0x56e81f171bcc55a6ff8345e692c0f86e5b48e01b996cadc001622fb5e363b421\n",
      "[0x17] 0xdd0a8ff281f308f71c398006d249687c2fc2c2fef99e498818403231d82d360c: 0 - 0x56e81f171bcc55a6ff8345e692c0f86e5b48e01b996cadc001622fb5e363b421\n",
      "[0x16] 0x6118b25f2039ee5c28c9fdd95f138535e6361a90cb52d177c7125d1786bd67a0: 0 - 0x56e81f171bcc55a6ff8345e692c0f86e5b48e01b996cadc001622fb5e363b421\n",
      "[0x15] 0x492b3f9364116ececfe7b884fc725b60526768fa4b627f75c409dc14b20a11c5: 0 - 0x56e81f171bcc55a6ff8345e692c0f86e5b48e01b996cadc001622fb5e363b421\n",
      "[0x14] 0x48d54bf82185cccc827f1a09445fc961acb25500ecc12029f118f6e5710e6105: 0 - 0x56e81f171bcc55a6ff8345e692c0f86e5b48e01b996cadc001622fb5e363b421\n",
      "[0x13] 0x5a0da3c5b1a2733d5ccc689123894ce971f546490b69840f9e322645460a4c35: 0 - 0x56e81f171bcc55a6ff8345e692c0f86e5b48e01b996cadc001622fb5e363b421\n",
      "[0x12] 0xed7de8adb12975e6cf7f7f60491c5f5aafede4292ae688ecfeefbc4f3743f3d5: 0 - 0x56e81f171bcc55a6ff8345e692c0f86e5b48e01b996cadc001622fb5e363b421\n"
     ]
    },
    {
     "name": "stdout",
     "output_type": "stream",
     "text": [
      "[0x11] 0xf1bf9c23148471b2273632c0e29aa45706114dc7818662c6af593ca116224814: 0 - 0x56e81f171bcc55a6ff8345e692c0f86e5b48e01b996cadc001622fb5e363b421\n",
      "[0x10] 0x63cdcc68d2b741090b3a48df1e8c0ecac1ea5ff534df1f3ebb5d245ea24344e1: 0 - 0x56e81f171bcc55a6ff8345e692c0f86e5b48e01b996cadc001622fb5e363b421\n",
      "[0xf] 0xdd6bd7c94f357be8ff68c759212e8d56454fd5d66aebc69c989caa9de3f0b539: 0 - 0x56e81f171bcc55a6ff8345e692c0f86e5b48e01b996cadc001622fb5e363b421\n",
      "[0xe] 0x1174fbbcccf61b26559049f4c0c3b1ebd0cf47e195283282a4badffb1e2e34cb: 0 - 0x56e81f171bcc55a6ff8345e692c0f86e5b48e01b996cadc001622fb5e363b421\n",
      "[0xd] 0x103da458e9435b04c2709803dba6635fea290080651e603f106d26cc892140e4: 0 - 0x56e81f171bcc55a6ff8345e692c0f86e5b48e01b996cadc001622fb5e363b421\n",
      "[0xc] 0x1ab32f9f962654ba50886f8066282c7f1f7facf83a9fbc59fc655b321facea74: 0 - 0x56e81f171bcc55a6ff8345e692c0f86e5b48e01b996cadc001622fb5e363b421\n",
      "[0xb] 0xcc35ed6e251d4de1ff69a767f5f0fe97d99bee6bd5666223e87e916f434e4805: 0 - 0x56e81f171bcc55a6ff8345e692c0f86e5b48e01b996cadc001622fb5e363b421\n",
      "[0xa] 0x0cb68a71800529ccceaaab95366c15ddf71bba91cb058bb4014f44810c8aa320: 0 - 0x56e81f171bcc55a6ff8345e692c0f86e5b48e01b996cadc001622fb5e363b421\n",
      "[0x9] 0xdfd5403cd813039427a6e0d1b0b77d358d84aa6d0dbdba83999e79a31a419225: 0 - 0x56e81f171bcc55a6ff8345e692c0f86e5b48e01b996cadc001622fb5e363b421\n",
      "[0x8] 0xc7521de86e665ec06267269f591045db7cbcbfe52b7796a8e2953ffdb997d5fc: 0 - 0x56e81f171bcc55a6ff8345e692c0f86e5b48e01b996cadc001622fb5e363b421\n",
      "[0x7] 0x0acdfd613f5ff1f886c9b084ddf6142aa7fd26b6440e5072641572be59dbb4aa: 0 - 0x56e81f171bcc55a6ff8345e692c0f86e5b48e01b996cadc001622fb5e363b421\n",
      "[0x6] 0x4653abb24abd8e47cdc127488a788aa9d0093c309b5e7f6101b7ac15cd300e18: 0 - 0x56e81f171bcc55a6ff8345e692c0f86e5b48e01b996cadc001622fb5e363b421\n",
      "[0x5] 0x83e9d85f37ef8c92b36b7c318fb17e9aacff7947e5f84f3c79050874946c9212: 0 - 0x56e81f171bcc55a6ff8345e692c0f86e5b48e01b996cadc001622fb5e363b421\n",
      "[0x4] 0xc7766a2b8ab939743e239cc8b119d756a4ae82c7fb5ca5e454b018d9c260ccf2: 0 - 0x56e81f171bcc55a6ff8345e692c0f86e5b48e01b996cadc001622fb5e363b421\n",
      "[0x3] 0x108703fbdcfa2cf339b622080dde0e95a8a5932c105baffa3e5c442961a4223a: 0 - 0x56e81f171bcc55a6ff8345e692c0f86e5b48e01b996cadc001622fb5e363b421\n",
      "[0x2] 0x7256c2185c652c4e4abb3dc3ecc377b9437a388d088da6921723c981c7f9862c: 0 - 0x56e81f171bcc55a6ff8345e692c0f86e5b48e01b996cadc001622fb5e363b421\n",
      "[0x1] 0xc91661f10103a4dde6abac0fd1f13faee692d509128259a90bc39767bd96e116: 0 - 0x56e81f171bcc55a6ff8345e692c0f86e5b48e01b996cadc001622fb5e363b421\n",
      "[0x0] 0x586be6c093b6da1bac6aefa0fa7a4747b3629ab695d824d9c2f11b06a01e95c3: 0 - 0x56e81f171bcc55a6ff8345e692c0f86e5b48e01b996cadc001622fb5e363b421\n"
     ]
    }
   ],
   "source": [
    "def get_block(block_hash):\n",
    "    data = {\"jsonrpc\":\"2.0\",\"method\":\"eth_getBlockByHash\",\"params\":[block_hash, True],\"id\":1}\n",
    "    r = requests.post(rpc_url, headers=headers, data=json.dumps(data))\n",
    "    result = r.json()\n",
    "    return r.json()['result'] # parentHash, transactions\n",
    "\n",
    "def print_block(block):\n",
    "    if block is None:\n",
    "        return\n",
    "    # print(block)\n",
    "    print(\"[{}] {}: {} - {}\".format(block['number'], block['hash'], len(block['transactions']), block['transactionsRoot']))\n",
    "\n",
    "from_block_hash = \"0xcce85e8a6834a13e7e48abb9f802a6b4440d80392ac1aeb44237e0c7c55c16bb\"\n",
    "block = get_block(from_block_hash)\n",
    "print_block(block)\n",
    "root_block_hash = \"0x0000000000000000000000000000000000000000000000000000000000000000\"\n",
    "while block is not None and block['hash'] != root_block_hash:\n",
    "    block = get_block(block['parentHash'])\n",
    "    print_block(block)\n",
    "root_block = get_block(root_block_hash)\n",
    "print_block(root_block)"
   ]
  },
  {
   "cell_type": "markdown",
   "metadata": {},
   "source": [
    "# infura\n",
    "https://infura.io/dashboard\n",
    "\n",
    "\n",
    "        NETWORK\tDESCRIPTION\tURL\n",
    "        Mainnet\tJSON-RPC over HTTPs\thttps://mainnet.infura.io/v3/YOUR-PROJECT-ID\n",
    "        Mainnet\tJSON-RPC over websockets\twss://mainnet.infura.io/ws/v3/YOUR-PROJECT-ID\n",
    "        Ropsten\tJSON-RPC over HTTPS\thttps://ropsten.infura.io/v3/YOUR-PROJECT-ID\n",
    "        Ropsten\tJSON-RPC over websockets\twss://ropsten.infura.io/ws/v3/YOUR-PROJECT-ID\n",
    "        Kovan\tJSON-RPC over HTTPS\thttps://kovan.infura.io/v3/YOUR-PROJECT-ID\n",
    "        Kovan\tJSON-RPC over websockets\twss://kovan.infura.io/ws/v3/YOUR-PROJECT-ID\n",
    "        Rinkeby\tJSON-RPC over HTTPS\thttps://rinkeby.infura.io/v3/YOUR-PROJECT-ID\n",
    "        Rinkeby\tJSON-RPC over websockets\twss://rinkeby.infura.io/ws/v3/YOUR-PROJECT-ID\n",
    "        IPFS\tIPFS Gateway\thttps://ipfs.infura.io/ipfs/\n",
    "        IPFS\tIPFS API\thttps://ipfs.infura.io:5001/api/\n",
    "\n",
    "\n",
    "\n",
    "YOUR-PROJECT-ID: gda-blockchain"
   ]
  },
  {
   "cell_type": "markdown",
   "metadata": {},
   "source": [
    "## Ropsten"
   ]
  },
  {
   "cell_type": "code",
   "execution_count": 16,
   "metadata": {},
   "outputs": [],
   "source": [
    "import requests\n",
    "import json\n",
    "import time\n",
    "import pprint\n",
    "\n",
    "rpc_url = 'https://ropsten.infura.io/v3/008b7b01c7cc4049a29a326bae2ccfaf'# 'https://ropsten.infura.io/v3/gda_blockchain'\n",
    "headers = {'Content-Type': 'application/json'}"
   ]
  },
  {
   "cell_type": "code",
   "execution_count": null,
   "metadata": {},
   "outputs": [],
   "source": [
    "data = {\"jsonrpc\":\"2.0\",\"method\":\"eth_blockNumber\",\"id\":1}\n",
    "r = requests.post(rpc_url, headers=headers, data=json.dumps(data))\n",
    "r.json()"
   ]
  },
  {
   "cell_type": "code",
   "execution_count": 12,
   "metadata": {},
   "outputs": [
    {
     "data": {
      "text/plain": [
       "{'jsonrpc': '2.0', 'id': 1, 'result': '0x3782dace9d900000'}"
      ]
     },
     "execution_count": 12,
     "metadata": {},
     "output_type": "execute_result"
    }
   ],
   "source": [
    "data = {\"jsonrpc\":\"2.0\",\"method\":\"eth_getBalance\",\"params\": [\"0x6dC5F594Dde00f50ff8Fd2CB741dA43f51AEeeBf\", \"latest\"],\"id\":1}\n",
    "r = requests.post(rpc_url, headers=headers, data=json.dumps(data))\n",
    "r.json()"
   ]
  },
  {
   "cell_type": "code",
   "execution_count": 15,
   "metadata": {},
   "outputs": [
    {
     "data": {
      "text/plain": [
       "{'jsonrpc': '2.0',\n",
       " 'id': 1,\n",
       " 'error': {'code': -32000, 'message': 'intrinsic gas too low'}}"
      ]
     },
     "execution_count": 15,
     "metadata": {},
     "output_type": "execute_result"
    }
   ],
   "source": [
    "data = {\"jsonrpc\":\"2.0\",\"method\":\"eth_sendRawTransaction\",\"params\":[\"0x08bffbb8a3338d970bb0436c19bec5d78a51b147328a108e056d1adc38c301d9\"],\"id\":1}\n",
    "r = requests.post(rpc_url, headers=headers, data=json.dumps(data))\n",
    "r.json()"
   ]
  },
  {
   "cell_type": "code",
   "execution_count": 18,
   "metadata": {},
   "outputs": [
    {
     "data": {
      "text/plain": [
       "{'jsonrpc': '2.0',\n",
       " 'id': 1,\n",
       " 'result': {'blockHash': '0xefef2da085829e7d84bbf17e9a4b5fb017f9891a92ebd5a2d505b8824b497214',\n",
       "  'blockNumber': '0x43a838',\n",
       "  'from': '0x6dc5f594dde00f50ff8fd2cb741da43f51aeeebf',\n",
       "  'gas': '0x419ce0',\n",
       "  'gasPrice': '0x3b9aca00',\n",
       "  'hash': '0x2827e2dd09ca575d991e049aefc09b6b9bb89ec655540e42db60bfb1ab4e81a4',\n",
       "  'input': '0xeffbefefefefefef5feffeefefefef',\n",
       "  'nonce': '0x4',\n",
       "  'r': '0x144835cf48b4805fd10fa778169a466f27559782882706e9185e28ba88465d12',\n",
       "  's': '0x4fcf5702db76441c8e97ed3690155c92c6623857fef6bb183009e270704623fa',\n",
       "  'to': '0x1dda16bf700cb56fb28e60d2de97d16191d6c3ff',\n",
       "  'transactionIndex': '0x12',\n",
       "  'v': '0x1c',\n",
       "  'value': '0x0'}}"
      ]
     },
     "execution_count": 18,
     "metadata": {},
     "output_type": "execute_result"
    }
   ],
   "source": [
    "data = {\"jsonrpc\":\"2.0\",\"method\":\"eth_getTransactionByHash\",\"params\":[\"0x2827e2dd09ca575d991e049aefc09b6b9bb89ec655540e42db60bfb1ab4e81a4\"],\"id\":1}\n",
    "r = requests.post(rpc_url, headers=headers, data=json.dumps(data))\n",
    "r.json()"
   ]
  }
 ],
 "metadata": {
  "kernelspec": {
   "display_name": "Python 3",
   "language": "python",
   "name": "python3"
  },
  "language_info": {
   "codemirror_mode": {
    "name": "ipython",
    "version": 3
   },
   "file_extension": ".py",
   "mimetype": "text/x-python",
   "name": "python",
   "nbconvert_exporter": "python",
   "pygments_lexer": "ipython3",
   "version": "3.7.0"
  },
  "toc": {
   "base_numbering": 1,
   "nav_menu": {},
   "number_sections": true,
   "sideBar": true,
   "skip_h1_title": false,
   "title_cell": "Table of Contents",
   "title_sidebar": "Contents",
   "toc_cell": false,
   "toc_position": {},
   "toc_section_display": true,
   "toc_window_display": true
  }
 },
 "nbformat": 4,
 "nbformat_minor": 2
}
