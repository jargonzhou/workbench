{
 "cells": [
  {
   "cell_type": "markdown",
   "metadata": {},
   "source": [
    "# Visual Studio Code Dev Containers\n",
    "* https://code.visualstudio.com/docs/devcontainers/containers"
   ]
  },
  {
   "cell_type": "markdown",
   "metadata": {},
   "source": [
    "install 'Jupyter' extension in container.\n",
    "\n",
    "```shell\n",
    "curl https://bootstrap.pypa.io/get-pip.py -o get-pip.py\n",
    "python3 get-pip.py --break-system-packages\n",
    "python3 -m pip install ipykernel -U --user --force-reinstall --break-system-packages\n",
    "```"
   ]
  },
  {
   "cell_type": "code",
   "execution_count": 1,
   "metadata": {},
   "outputs": [
    {
     "name": "stdout",
     "output_type": "stream",
     "text": [
      "/workspaces/wiki/jupyter-notebooks/tools\n"
     ]
    }
   ],
   "source": [
    "!pwd"
   ]
  },
  {
   "cell_type": "markdown",
   "metadata": {},
   "source": [
    "# intel/openapi\n",
    "* samples: https://github.com/oneapi-src/oneAPI-samples"
   ]
  },
  {
   "cell_type": "code",
   "execution_count": 2,
   "metadata": {},
   "outputs": [
    {
     "name": "stdout",
     "output_type": "stream",
     "text": [
      "Cloning into 'oneAPI-samples'...\n",
      "remote: Enumerating objects: 48863, done.\u001b[K\n",
      "remote: Counting objects: 100% (1036/1036), done.\u001b[K\n",
      "remote: Compressing objects: 100% (362/362), done.\u001b[K\n",
      "remote: Total 48863 (delta 839), reused 685 (delta 670), pack-reused 47827 (from 3)\u001b[K\n",
      "Receiving objects: 100% (48863/48863), 420.80 MiB | 4.08 MiB/s, done.\n",
      "Resolving deltas: 100% (31451/31451), done.\n",
      "Updating files: 100% (9383/9383), done.\n"
     ]
    }
   ],
   "source": [
    "!cd /root && git clone https://github.com/oneapi-src/oneAPI-samples.git"
   ]
  },
  {
   "cell_type": "code",
   "execution_count": 4,
   "metadata": {},
   "outputs": [
    {
     "name": "stdout",
     "output_type": "stream",
     "text": [
      "/root/oneAPI-samples\n",
      "./Publications/GPU-Opt-Guide/OpenMP/26_omp_prefetch/fortran/nbody_f.f\n",
      "./Publications/GPU-Opt-Guide/OpenMP/26_omp_prefetch/c/nbody_c.cpp\n",
      "./Publications/GPU-Opt-Guide/OpenMP/26_omp_prefetch/c_simd/nbody_c_simd.cpp\n",
      "./DirectProgramming/C++SYCL/N-BodyMethods/Nbody\n",
      "./DirectProgramming/C++SYCL/N-BodyMethods/Nbody/Nbody.vcxproj.filters\n",
      "./DirectProgramming/C++SYCL/N-BodyMethods/Nbody/sample.json\n",
      "./DirectProgramming/C++SYCL/N-BodyMethods/Nbody/README.md\n",
      "./DirectProgramming/C++SYCL/N-BodyMethods/Nbody/src\n",
      "./DirectProgramming/C++SYCL/N-BodyMethods/Nbody/src/CMakeLists.txt\n",
      "./DirectProgramming/C++SYCL/N-BodyMethods/Nbody/src/main.cpp\n",
      "./DirectProgramming/C++SYCL/N-BodyMethods/Nbody/src/GSimulation.hpp\n",
      "./DirectProgramming/C++SYCL/N-BodyMethods/Nbody/src/type.hpp\n",
      "./DirectProgramming/C++SYCL/N-BodyMethods/Nbody/src/Particle.hpp\n",
      "./DirectProgramming/C++SYCL/N-BodyMethods/Nbody/src/GSimulation.cpp\n",
      "./DirectProgramming/C++SYCL/N-BodyMethods/Nbody/CMakeLists.txt\n",
      "./DirectProgramming/C++SYCL/N-BodyMethods/Nbody/third-party-programs.txt\n",
      "./DirectProgramming/C++SYCL/N-BodyMethods/Nbody/License.txt\n",
      "./DirectProgramming/C++SYCL/N-BodyMethods/Nbody/Nbody.sln\n",
      "./DirectProgramming/C++SYCL/N-BodyMethods/Nbody/Nbody.vcxproj\n"
     ]
    },
    {
     "name": "stderr",
     "output_type": "stream",
     "text": [
      "/root/.local/lib/python3.12/site-packages/IPython/core/magics/osm.py:417: UserWarning: This is now an optional IPython functionality, setting dhist requires you to install the `pickleshare` library.\n",
      "  self.shell.db['dhist'] = compress_dhist(dhist)[-100:]\n"
     ]
    }
   ],
   "source": [
    "%cd /root/oneAPI-samples \n",
    "!find . | grep body"
   ]
  },
  {
   "cell_type": "code",
   "execution_count": 5,
   "metadata": {},
   "outputs": [
    {
     "name": "stdout",
     "output_type": "stream",
     "text": [
      "/root/oneAPI-samples/DirectProgramming/C++SYCL/N-BodyMethods/Nbody\n",
      "\u001b[0mCMake Deprecation Warning at CMakeLists.txt:14 (cmake_minimum_required):\n",
      "  Compatibility with CMake < 3.5 will be removed from a future version of\n",
      "  CMake.\n",
      "\n",
      "  Update the VERSION argument <min> value or use a ...<max> suffix to tell\n",
      "  CMake that the project does not need compatibility with older versions.\n",
      "\n",
      "\u001b[0m\n",
      "-- The C compiler identification is GNU 13.3.0\n"
     ]
    },
    {
     "name": "stderr",
     "output_type": "stream",
     "text": [
      "/root/.local/lib/python3.12/site-packages/IPython/core/magics/osm.py:417: UserWarning: This is now an optional IPython functionality, setting dhist requires you to install the `pickleshare` library.\n",
      "  self.shell.db['dhist'] = compress_dhist(dhist)[-100:]\n"
     ]
    },
    {
     "name": "stdout",
     "output_type": "stream",
     "text": [
      "-- The CXX compiler identification is IntelLLVM 2025.0.4\n",
      "-- Detecting C compiler ABI info\n",
      "-- Detecting C compiler ABI info - done\n",
      "-- Check for working C compiler: /usr/bin/cc - skipped\n",
      "-- Detecting C compile features\n",
      "-- Detecting C compile features - done\n",
      "-- Detecting CXX compiler ABI info\n",
      "-- Detecting CXX compiler ABI info - done\n",
      "-- Check for working CXX compiler: /opt/intel/oneapi/compiler/2025.0/bin/icpx - skipped\n",
      "-- Detecting CXX compile features\n",
      "-- Detecting CXX compile features - done\n",
      "-- Configuring done (0.5s)\n",
      "-- Generating done (0.0s)\n",
      "-- Build files have been written to: /root/oneAPI-samples/DirectProgramming/C++SYCL/N-BodyMethods/Nbody/build\n",
      "[ 33%] \u001b[32mBuilding CXX object src/CMakeFiles/nbody.dir/GSimulation.cpp.o\u001b[0m\n",
      "[ 66%] \u001b[32mBuilding CXX object src/CMakeFiles/nbody.dir/main.cpp.o\u001b[0m\n",
      "[100%] \u001b[32m\u001b[1mLinking CXX executable nbody\u001b[0m\n",
      "[100%] Built target nbody\n",
      "===============================\n",
      " Initialize Gravity Simulation\n",
      " nPart = 16000; nSteps = 10; dt = 0.1\n",
      "------------------------------------------------\n",
      " s       dt      kenergy     time (s)    GFLOPS      \n",
      "------------------------------------------------\n",
      " 1       0.1     26.405      0.33186     22.372      \n",
      " 2       0.2     313.77      0.015326    484.41      \n",
      " 3       0.3     926.56      0.016503    449.86      \n",
      " 4       0.4     1866.4      0.015701    472.86      \n",
      " 5       0.5     3135.6      0.014367    516.77      \n",
      " 6       0.6     4737.6      0.015339    484         \n",
      " 7       0.7     6676.6      0.016353    454.01      \n",
      " 8       0.8     8957.7      0.014409    515.27      \n",
      " 9       0.9     11587       0.015397    482.2       \n",
      " 10      1       14572       0.017353    427.84      \n",
      "\n",
      "# Total Time (s)     : 0.47315\n",
      "# Average Performance : 475.35 +- 29.153\n",
      "===============================\n",
      "Built target run\n"
     ]
    }
   ],
   "source": [
    "%cd DirectProgramming/C++SYCL/N-BodyMethods/Nbody\n",
    "!mkdir build && cd build && cmake .. && make && make run"
   ]
  }
 ],
 "metadata": {
  "kernelspec": {
   "display_name": "Python 3",
   "language": "python",
   "name": "python3"
  },
  "language_info": {
   "codemirror_mode": {
    "name": "ipython",
    "version": 3
   },
   "file_extension": ".py",
   "mimetype": "text/x-python",
   "name": "python",
   "nbconvert_exporter": "python",
   "pygments_lexer": "ipython3",
   "version": "3.12.3"
  }
 },
 "nbformat": 4,
 "nbformat_minor": 2
}
