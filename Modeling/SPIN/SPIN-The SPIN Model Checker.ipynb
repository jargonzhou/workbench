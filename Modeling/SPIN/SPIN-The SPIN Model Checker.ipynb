{
 "cells": [
  {
   "cell_type": "markdown",
   "metadata": {},
   "source": [
    "# TSMC: The SPIN Model Checker\n",
    "* https://spinroot.com/spin/Doc/Book_extras/\n",
    "  * introduction: 1-5\n",
    "  * foundations: 6-10\n",
    "  * practice: 11-15\n",
    "  * reference material: 16-19\n",
    "  * appendices: A-D \n",
    "\n",
    "- version: 4.0.7 - P.738\n",
    "\n",
    "\n",
    "topics:\n",
    "* PROMELA: 3, 7, 16, 17\n",
    "* 描述正确性属性: 4\n",
    "  * 时间线编辑器: 13\n",
    "* 使用SPIN做系统验证: 11, 14\n",
    "* XSPIN图形用户界面: 12\n",
    "* 在SPIN模型中内嵌C代码: 10, 17\n",
    "* 自动机和逻辑: 6"
   ]
  },
  {
   "cell_type": "code",
   "execution_count": 3,
   "metadata": {},
   "outputs": [
    {
     "name": "stdout",
     "output_type": "stream",
     "text": [
      "/mnt/d/GoogleDrive/wiki/jupyter-notebooks/Modeling/SPIN/TSMC\n"
     ]
    }
   ],
   "source": [
    "# 工作目录\n",
    "%cd /mnt/d/GoogleDrive/wiki/jupyter-notebooks/Modeling/SPIN/TSMC"
   ]
  },
  {
   "cell_type": "markdown",
   "metadata": {},
   "source": [
    "# 1. Finding Bugs in Concurrent Systems"
   ]
  },
  {
   "cell_type": "markdown",
   "metadata": {},
   "source": [
    "- 圆阻塞(circular blocking)\n",
    "- 致命拥抱(deadly embrace)\n",
    "- 不匹配的假设(mismatched assumption): 组件层的假设在系统层不适用.\n",
    "\n",
    "可重现的测试(reproducible tests) 无法实现的原因:\n",
    "- 受限的可观测性: 进程执行的细节\n",
    "- 受限的可控制性: 进程调度器确定的进程交错(interleaving)\n",
    "\n",
    "需要不同类型的验证方法!"
   ]
  },
  {
   "cell_type": "markdown",
   "metadata": {},
   "source": [
    "# 2. Building Verification Models"
   ]
  },
  {
   "cell_type": "markdown",
   "metadata": {},
   "source": [
    "Examples:\n",
    "- Hello World: hello.pml\n",
    "- Producers and Consumers: prodcons.pml\n",
    "- Mutual Exlusion\n",
    "- Message Passing"
   ]
  },
  {
   "cell_type": "code",
   "execution_count": 2,
   "metadata": {},
   "outputs": [
    {
     "name": "stdout",
     "output_type": "stream",
     "text": [
      "          hello world from init\n",
      "      hello world\n",
      "2 processes created\n"
     ]
    }
   ],
   "source": [
    "# 模拟运行\n",
    "!spin hello.pml"
   ]
  },
  {
   "cell_type": "code",
   "execution_count": null,
   "metadata": {},
   "outputs": [],
   "source": [
    "# 不确定性(non-determinism)\n",
    "#  多个guard条件同时为true, SPIN不确定的选择一个执行\n",
    "#  进程调度的不确定性: 一个执行中多个进程有可执行的语句并可进展, PROMELA的语义声明可以选择任意一个进程执行."
   ]
  },
  {
   "cell_type": "code",
   "execution_count": 3,
   "metadata": {},
   "outputs": [
    {
     "name": "stdout",
     "output_type": "stream",
     "text": [
      "      Produce\n",
      "          Consume\n",
      "      Produce\n",
      "          Consume\n",
      "-------------\n",
      "depth-limit (-u14 steps) reached\n",
      "#processes: 2\n",
      "\t\tturn = C\n",
      " 14:\tproc  1 (consumer:1) prodcons.pml:37 (state 3)\n",
      " 14:\tproc  0 (producer:1) prodcons.pml:8 (state 4)\n",
      "2 processes created\n"
     ]
    }
   ],
   "source": [
    "# 模拟运行最多14步\n",
    "!spin -u14 prodcons.pml"
   ]
  },
  {
   "cell_type": "code",
   "execution_count": 5,
   "metadata": {},
   "outputs": [
    {
     "name": "stdout",
     "output_type": "stream",
     "text": [
      "          P1\n",
      "              C2\n",
      "          P1\n",
      "                  C3\n",
      "          P1\n",
      "              C2\n",
      "      P0\n",
      "              C2\n",
      "      P0\n",
      "              C2\n",
      "          P1\n",
      "              C2\n",
      "          P1\n",
      "-------------\n",
      "depth-limit (-u100 steps) reached\n",
      "#processes: 4\n",
      "\t\tturn = N\n",
      "\t\twho = 1\n",
      "100:\tproc  3 (consumer:1) prodcons2.pml:26 (state 12)\n",
      "100:\tproc  2 (consumer:1) prodcons2.pml:26 (state 12)\n",
      "100:\tproc  1 (producer:1) prodcons2.pml:20 (state 7)\n",
      "100:\tproc  0 (producer:1) prodcons2.pml:17 (state 12)\n",
      "4 processes created\n"
     ]
    }
   ],
   "source": [
    "!spin -u100 prodcons2.pml"
   ]
  },
  {
   "cell_type": "code",
   "execution_count": 6,
   "metadata": {},
   "outputs": [
    {
     "name": "stdout",
     "output_type": "stream",
     "text": [
      "spin: false.pml:2, Error: assertion violated\n",
      "spin: text of failed assertion: assert(0)\n",
      "#processes: 1\n",
      "  1:\tproc  0 (:init::1) false.pml:2 (state 1)\n",
      "1 process created\n"
     ]
    }
   ],
   "source": [
    "# 失败的断言\n",
    "!spin false.pml"
   ]
  },
  {
   "cell_type": "code",
   "execution_count": null,
   "metadata": {},
   "outputs": [
    {
     "name": "stdout",
     "output_type": "stream",
     "text": [
      "\n",
      "(Spin Version 6.5.1 -- 20 December 2019)\n",
      "\t+ Partial Order Reduction\n",
      "\n",
      "Full statespace search for:\n",
      "\tnever claim         \t- (none specified)\n",
      "\tassertion violations\t+\n",
      "\tacceptance   cycles \t- (not selected)\n",
      "\tinvalid end states\t+\n",
      "\n",
      "State-vector 44 byte, depth reached 5, errors: 0\n",
      "       10 states, stored\n",
      "        3 states, matched\n",
      "       13 transitions (= stored+matched)\n",
      "        0 atomic steps\n",
      "hash conflicts:         0 (resolved)\n",
      "\n",
      "Stats on memory usage (in Megabytes):\n",
      "    0.001\tequivalent memory usage for states (stored*(State-vector + overhead))\n",
      "    0.289\tactual memory usage for states\n",
      "  128.000\tmemory used for hash table (-w24)\n",
      "    0.534\tmemory used for DFS stack (-m10000)\n",
      "  128.730\ttotal actual memory usage\n",
      "\n",
      "\n",
      "unreached in proctype producer\n",
      "\tprodcons2.pml:25, state 15, \"-end-\"\n",
      "\t(1 of 15 states)\n",
      "unreached in proctype consumer\n",
      "\tprodcons2.pml:34, state 15, \"-end-\"\n",
      "\t(1 of 15 states)\n",
      "\n",
      "pan: elapsed time 0 seconds\n"
     ]
    }
   ],
   "source": [
    "# 以验证模式运行\n",
    "# 生成验证器\n",
    "!spin -a prodcons2.pml\n",
    "# 编译验证器\n",
    "!gcc -w -o pan pan.c\n",
    "# 执行验证器\n",
    "!./pan\n",
    "\n",
    "# 清理\n",
    "!rm -f pan pan.*\n",
    "\n",
    "# TODO: 输出的含义"
   ]
  },
  {
   "cell_type": "code",
   "execution_count": 13,
   "metadata": {},
   "outputs": [
    {
     "name": "stdout",
     "output_type": "stream",
     "text": [
      "\n",
      "(Spin Version 6.5.1 -- 20 December 2019)\n",
      "\t+ Partial Order Reduction\n",
      "\n",
      "Full statespace search for:\n",
      "\tnever claim         \t- (none specified)\n",
      "\tassertion violations\t+\n",
      "\tacceptance   cycles \t- (not selected)\n",
      "\tinvalid end states\t+\n",
      "\n",
      "State-vector 28 byte, depth reached 51, errors: 0\n",
      "      168 states, stored\n",
      "      156 states, matched\n",
      "      324 transitions (= stored+matched)\n",
      "        0 atomic steps\n",
      "hash conflicts:         0 (resolved)\n",
      "\n",
      "Stats on memory usage (in Megabytes):\n",
      "    0.009\tequivalent memory usage for states (stored*(State-vector + overhead))\n",
      "    0.291\tactual memory usage for states\n",
      "  128.000\tmemory used for hash table (-w24)\n",
      "    0.534\tmemory used for DFS stack (-m10000)\n",
      "  128.730\ttotal actual memory usage\n",
      "\n",
      "\n",
      "unreached in proctype mutext\n",
      "\tmutex.pml:37, state 24, \"-end-\"\n",
      "\t(1 of 24 states)\n",
      "\n",
      "pan: elapsed time 0 seconds\n"
     ]
    }
   ],
   "source": [
    "# 互斥问题: 2个进程\n",
    "!spin -a mutex.pml\n",
    "!gcc -w -o pan pan.c\n",
    "!./pan\n",
    "\n",
    "!rm -f pan pan.*"
   ]
  },
  {
   "cell_type": "code",
   "execution_count": 15,
   "metadata": {},
   "outputs": [],
   "source": [
    "!rm -f pan pan.*"
   ]
  },
  {
   "cell_type": "code",
   "execution_count": null,
   "metadata": {},
   "outputs": [
    {
     "name": "stdout",
     "output_type": "stream",
     "text": [
      "pan:1: assertion violated (cnt==1) (at depth 72)\n",
      "pan: wrote mutex_flaw.pml.trail\n",
      "\n",
      "(Spin Version 6.5.1 -- 20 December 2019)\n",
      "Warning: Search not completed\n",
      "\t+ Partial Order Reduction\n",
      "\n",
      "Full statespace search for:\n",
      "\tnever claim         \t- (none specified)\n",
      "\tassertion violations\t+\n",
      "\tacceptance   cycles \t- (not selected)\n",
      "\tinvalid end states\t+\n",
      "\n",
      "State-vector 28 byte, depth reached 72, errors: 1\n",
      "      261 states, stored\n",
      "      161 states, matched\n",
      "      422 transitions (= stored+matched)\n",
      "        0 atomic steps\n",
      "hash conflicts:         0 (resolved)\n",
      "\n",
      "Stats on memory usage (in Megabytes):\n",
      "    0.014\tequivalent memory usage for states (stored*(State-vector + overhead))\n",
      "    0.290\tactual memory usage for states\n",
      "  128.000\tmemory used for hash table (-w24)\n",
      "    0.534\tmemory used for DFS stack (-m10000)\n",
      "  128.730\ttotal actual memory usage\n",
      "\n",
      "\n",
      "\n",
      "pan: elapsed time 0.04 seconds\n",
      "pan: rate      6525 states/second\n"
     ]
    }
   ],
   "source": [
    "# 存在错误的互斥算法\n",
    "!spin -a mutex_flaw.pml\n",
    "!gcc -w -o pan pan.c\n",
    "!./pan"
   ]
  },
  {
   "cell_type": "code",
   "execution_count": 19,
   "metadata": {},
   "outputs": [
    {
     "name": "stdout",
     "output_type": "stream",
     "text": [
      "error: max search depth too small\n",
      "pan:1: assertion violated (cnt==1) (at depth 61)\n",
      "pan: wrote mutex_flaw.pml.trail\n",
      "pan: reducing search depth to 62\n",
      "pan: wrote mutex_flaw.pml.trail\n",
      "pan: reducing search depth to 61\n",
      "pan: wrote mutex_flaw.pml.trail\n",
      "pan: reducing search depth to 61\n",
      "pan: wrote mutex_flaw.pml.trail\n",
      "pan: reducing search depth to 42\n",
      "pan: wrote mutex_flaw.pml.trail\n",
      "pan: reducing search depth to 41\n",
      "pan: wrote mutex_flaw.pml.trail\n",
      "pan: reducing search depth to 41\n",
      "pan: wrote mutex_flaw.pml.trail\n",
      "pan: reducing search depth to 34\n",
      "pan: wrote mutex_flaw.pml.trail\n",
      "pan: reducing search depth to 33\n",
      "pan: wrote mutex_flaw.pml.trail\n",
      "pan: reducing search depth to 33\n",
      "pan: wrote mutex_flaw.pml.trail\n",
      "pan: reducing search depth to 22\n",
      "pan: wrote mutex_flaw.pml.trail\n",
      "pan: reducing search depth to 21\n",
      "pan: wrote mutex_flaw.pml.trail\n",
      "pan: reducing search depth to 21\n",
      "pan: wrote mutex_flaw.pml.trail\n",
      "pan: reducing search depth to 21\n",
      "pan: wrote mutex_flaw.pml.trail\n",
      "pan: reducing search depth to 21\n",
      "\n",
      "(Spin Version 6.5.1 -- 20 December 2019)\n",
      "\t+ Partial Order Reduction\n",
      "\n",
      "Full statespace search for:\n",
      "\tnever claim         \t- (none specified)\n",
      "\tassertion violations\t+\n",
      "\tacceptance   cycles \t- (not selected)\n",
      "\tinvalid end states\t+\n",
      "\n",
      "State-vector 28 byte, depth reached 71, errors: 14\n",
      "      577 states, stored\n",
      "     1588 states, matched\n",
      "     2165 transitions (= stored+matched)\n",
      "        0 atomic steps\n",
      "hash conflicts:         0 (resolved)\n",
      "\n",
      "Stats on memory usage (in Megabytes):\n",
      "    0.031\tequivalent memory usage for states (stored*(State-vector + overhead))\n",
      "    0.285\tactual memory usage for states\n",
      "  128.000\tmemory used for hash table (-w24)\n",
      "    0.001\tmemory used for DFS stack (-m21)\n",
      "  128.195\ttotal actual memory usage\n",
      "\n",
      "\n",
      "unreached in proctype user\n",
      "\tmutex_flaw.pml:34, state 26, \"-end-\"\n",
      "\t(1 of 26 states)\n",
      "\n",
      "pan: elapsed time 0.26 seconds\n",
      "pan: rate 2219.2308 states/second\n"
     ]
    }
   ],
   "source": [
    "# 记录每个可达状态的深度\n",
    "!gcc -w -DREACH -o pan pan.c\n",
    "# # 指定最大深度\n",
    "!./pan -i -m72\n"
   ]
  },
  {
   "cell_type": "code",
   "execution_count": 20,
   "metadata": {},
   "outputs": [
    {
     "name": "stdout",
     "output_type": "stream",
     "text": [
      "Depth=      10 States=      125 Transitions=      159 Memory=   128.195\t\n",
      "Depth=      20 States=      511 Transitions=      835 Memory=   128.195\t\n",
      "pan:1: assertion violated (cnt==1) (at depth 20)\n",
      "pan: wrote mutex_flaw.pml.trail\n",
      "\n",
      "(Spin Version 6.5.1 -- 20 December 2019)\n",
      "Warning: Search not completed\n",
      "\t+ Breadth-First Search\n",
      "\t+ Partial Order Reduction\n",
      "\n",
      "Full statespace search for:\n",
      "\tnever claim         \t- (none specified)\n",
      "\tassertion violations\t+\n",
      "\tcycle checks       \t- (disabled by -DSAFETY)\n",
      "\tinvalid end states\t+\n",
      "\n",
      "State-vector 28 byte, depth reached 20, errors: 1\n",
      "      515 states, stored\n",
      "\t     515 nominal states (stored-atomic)\n",
      "      327 states, matched\n",
      "      842 transitions (= stored+matched)\n",
      "        0 atomic steps\n",
      "hash conflicts:         0 (resolved)\n",
      "\n",
      "Stats on memory usage (in Megabytes):\n",
      "    0.028\tequivalent memory usage for states (stored*(State-vector + overhead))\n",
      "    0.290\tactual memory usage for states\n",
      "  128.000\tmemory used for hash table (-w24)\n",
      "  128.195\ttotal actual memory usage\n",
      "\n",
      "\n",
      "\n",
      "pan: elapsed time 0.08 seconds\n",
      "pan: rate    6437.5 states/second\n"
     ]
    }
   ],
   "source": [
    "# 使用BFS搜索\n",
    "!gcc -w -DBFS -o pan pan.c\n",
    "!./pan"
   ]
  },
  {
   "cell_type": "code",
   "execution_count": 22,
   "metadata": {},
   "outputs": [
    {
     "name": "stdout",
     "output_type": "stream",
     "text": [
      "  1:\tproc  1 (user:1) mutex_flaw.pml:11 (state 1)\t[x = me]\n",
      "  2:\tproc  1 (user:1) mutex_flaw.pml:13 (state 2)\t[(((y==0)||(y==me)))]\n",
      "  3:\tproc  1 (user:1) mutex_flaw.pml:13 (state 3)\t[(1)]\n",
      "  4:\tproc  1 (user:1) mutex_flaw.pml:17 (state 8)\t[z = me]\n",
      "  5:\tproc  1 (user:1) mutex_flaw.pml:19 (state 9)\t[((x==me))]\n",
      "  6:\tproc  1 (user:1) mutex_flaw.pml:19 (state 10)\t[(1)]\n",
      "  7:\tproc  0 (user:1) mutex_flaw.pml:11 (state 1)\t[x = me]\n",
      "  8:\tproc  0 (user:1) mutex_flaw.pml:13 (state 2)\t[(((y==0)||(y==me)))]\n",
      "  9:\tproc  0 (user:1) mutex_flaw.pml:13 (state 3)\t[(1)]\n",
      " 10:\tproc  1 (user:1) mutex_flaw.pml:23 (state 15)\t[y = me]\n",
      " 11:\tproc  1 (user:1) mutex_flaw.pml:25 (state 16)\t[((z==me))]\n",
      " 12:\tproc  1 (user:1) mutex_flaw.pml:25 (state 17)\t[(1)]\n",
      " 13:\tproc  1 (user:1) mutex_flaw.pml:30 (state 22)\t[cnt = (cnt+1)]\n",
      " 14:\tproc  0 (user:1) mutex_flaw.pml:17 (state 8)\t[z = me]\n",
      " 15:\tproc  0 (user:1) mutex_flaw.pml:19 (state 9)\t[((x==me))]\n",
      " 16:\tproc  0 (user:1) mutex_flaw.pml:19 (state 10)\t[(1)]\n",
      " 17:\tproc  0 (user:1) mutex_flaw.pml:23 (state 15)\t[y = me]\n",
      " 18:\tproc  0 (user:1) mutex_flaw.pml:25 (state 16)\t[((z==me))]\n",
      " 19:\tproc  0 (user:1) mutex_flaw.pml:25 (state 17)\t[(1)]\n",
      " 20:\tproc  0 (user:1) mutex_flaw.pml:30 (state 22)\t[cnt = (cnt+1)]\n",
      "spin: mutex_flaw.pml:31, Error: assertion violated\n",
      "spin: text of failed assertion: assert((cnt==1))\n",
      " 21:\tproc  1 (user:1) mutex_flaw.pml:31 (state 23)\t[assert((cnt==1))]\n",
      "spin: trail ends after 21 steps\n",
      "#processes: 2\n",
      "\t\tcnt = 2\n",
      "\t\tx = 1\n",
      "\t\ty = 1\n",
      "\t\tz = 1\n",
      " 21:\tproc  1 (user:1) mutex_flaw.pml:32 (state 24)\n",
      " 21:\tproc  0 (user:1) mutex_flaw.pml:31 (state 23)\n",
      "2 processes created\n"
     ]
    }
   ],
   "source": [
    "# guided simulation: 重放trail, 观察断言失败\n",
    "!spin -p -t mutex_flaw.pml"
   ]
  },
  {
   "cell_type": "code",
   "execution_count": 29,
   "metadata": {},
   "outputs": [
    {
     "name": "stdout",
     "output_type": "stream",
     "text": [
      "zsh:1: no matches found: *.trail\n"
     ]
    }
   ],
   "source": [
    "# 清理\n",
    "!rm -f pan pan.* *.trail"
   ]
  },
  {
   "cell_type": "code",
   "execution_count": 27,
   "metadata": {},
   "outputs": [
    {
     "name": "stdout",
     "output_type": "stream",
     "text": [
      "\n",
      "(Spin Version 6.5.1 -- 20 December 2019)\n",
      "\t+ Partial Order Reduction\n",
      "\n",
      "Full statespace search for:\n",
      "\tnever claim         \t- (none specified)\n",
      "\tassertion violations\t+\n",
      "\tacceptance   cycles \t- (not selected)\n",
      "\tinvalid end states\t+\n",
      "\n",
      "State-vector 28 byte, depth reached 24, errors: 0\n",
      "       40 states, stored\n",
      "       27 states, matched\n",
      "       67 transitions (= stored+matched)\n",
      "        0 atomic steps\n",
      "hash conflicts:         0 (resolved)\n",
      "\n",
      "Stats on memory usage (in Megabytes):\n",
      "    0.002\tequivalent memory usage for states (stored*(State-vector + overhead))\n",
      "    0.292\tactual memory usage for states\n",
      "  128.000\tmemory used for hash table (-w24)\n",
      "    0.534\tmemory used for DFS stack (-m10000)\n",
      "  128.730\ttotal actual memory usage\n",
      "\n",
      "\n",
      "unreached in proctype P1\n",
      "\tpeterson.pml:24, state 11, \"-end-\"\n",
      "\t(1 of 11 states)\n",
      "\n",
      "pan: elapsed time 0 seconds\n"
     ]
    }
   ],
   "source": [
    "# 互斥问题: Peterson算法 1981: 正确的\n",
    "!spin -a peterson.pml\n",
    "!gcc -w -o pan pan.c\n",
    "!./pan\n",
    "!rm -f pan pan.* "
   ]
  },
  {
   "cell_type": "code",
   "execution_count": 5,
   "metadata": {},
   "outputs": [],
   "source": [
    "!rm -f pan pan.* "
   ]
  },
  {
   "cell_type": "code",
   "execution_count": null,
   "metadata": {},
   "outputs": [
    {
     "name": "stdout",
     "output_type": "stream",
     "text": [
      "\n",
      "(Spin Version 6.5.1 -- 20 December 2019)\n",
      "\t+ Partial Order Reduction\n",
      "\n",
      "Full statespace search for:\n",
      "\tnever claim         \t- (none specified)\n",
      "\tassertion violations\t+\n",
      "\tacceptance   cycles \t- (not selected)\n",
      "\tinvalid end states\t+\n",
      "\n",
      "State-vector 44 byte, depth reached 15, errors: 0\n",
      "       24 states, stored\n",
      "        6 states, matched\n",
      "       30 transitions (= stored+matched)\n",
      "        0 atomic steps\n",
      "hash conflicts:         0 (resolved)\n",
      "\n",
      "Stats on memory usage (in Megabytes):\n",
      "    0.002\tequivalent memory usage for states (stored*(State-vector + overhead))\n",
      "    0.289\tactual memory usage for states\n",
      "  128.000\tmemory used for hash table (-w24)\n",
      "    0.534\tmemory used for DFS stack (-m10000)\n",
      "  128.730\ttotal actual memory usage\n",
      "\n",
      "\n",
      "unreached in proctype Mproc\n",
      "\t(0 of 18 states)\n",
      "unreached in proctype Wproc\n",
      "\t(0 of 15 states)\n",
      "\n",
      "pan: elapsed time 0 seconds\n"
     ]
    }
   ],
   "source": [
    "# 消息传递: 没有错误???\n",
    "# !spin -c protocol.pml\n",
    "\n",
    "!spin -a protocol.pml\n",
    "!gcc -w -o pan pan.c\n",
    "!./pan\n",
    "# !rm -f pan pan.* "
   ]
  },
  {
   "cell_type": "markdown",
   "metadata": {},
   "source": [
    "# 3. An Overview of PROMELA"
   ]
  },
  {
   "cell_type": "markdown",
   "metadata": {},
   "source": [
    "对象类型:\n",
    "- 进程\n",
    "  - `proctype`, `active [N] proctype`, `run`, `pid`\n",
    "  - `provided`\n",
    "- 数据对象\n",
    "  - `bit`, `bool`, `byte`, `chan`, `mtype`, `pid`, `short`, `int`, `unsigned`\n",
    "  - 数据结构: `typedef`\n",
    "- 消息通道\n",
    "  - `chan`, `!`, `?`, `eval`\n",
    "  - 预定义函数: `len`, `empty`, `nempty`, `full`, `nfull`\n",
    "  - 测试消息接收是否可执行: `qname?[msg]`\n",
    "  - 通道轮询: `qname<msg>` 拷贝消息字段值而不移除消息\n",
    "  - 有序的发送: `qname!!msg`, 按消息的数值序\n",
    "  - 随机的接收: `qname??msg`\n",
    "  - 会合通信(rendezvous communication): `chan port = [0] of {byte}`\n",
    "\n",
    "语句:\n",
    "- 打印语句\n",
    "- 赋值\n",
    "- IO语句\n",
    "- 表达式语句\n",
    "\n",
    "可执行性规则(Rules for Executability)\n",
    "- 依赖于模型状态, SPIN模型中任意语句是可执行的或阻塞的.\n",
    "- 将表达式用作语句: 求值为true或非零整数时是可执行的.\n",
    "  - 例: `(a == b);`\n",
    "- 表达式必须无副作用, 例外`run`\n",
    "\n",
    "赋值和表达式\n",
    "- 没有: `--c`, `++c`\n",
    "- 有: `c++`, `c--`\n",
    "- 赋值: `variable = expression`\n",
    "\n",
    "控制流: 符合语句\n",
    "- `run sender()`语句\n",
    "- `skip`表达式: 等价于`(1)`, true.\n",
    "- 原子序列: `atomic`\n",
    "- 确定性步骤: `d_step`\n",
    "- 选择: `if`\n",
    "- 重复: `do`\n",
    "- `timeout`语句\n",
    "- 逃逸序列: `{P} unless {E}`\n",
    "- 内联定义: `inline`\n",
    "- C风格的宏: `#define`\n",
    "- 读取输入: 模拟模式中`chan STDIN`, 消息类型为`int`\n",
    "- 特殊的特性\n",
    "  - `xr` 独占接收, `xs` 独占发送\n",
    "  - `local`: 局部访问变量\n",
    "  - `hidden`: 不记录状态信息\n",
    "  - `show`: 变量值变更显示在XSPIN中"
   ]
  },
  {
   "cell_type": "markdown",
   "metadata": {},
   "source": [
    "\n",
    "More:\n",
    "- PROMELA语言参考: 16, 17\n",
    "  - 操作语义: 7 \n",
    "- 更多的示例: 14, 15"
   ]
  },
  {
   "cell_type": "markdown",
   "metadata": {},
   "source": [
    "# 4. Defining Correctness Claims"
   ]
  },
  {
   "cell_type": "markdown",
   "metadata": {},
   "source": [
    "声明的类型\n",
    "- 状态属性的声明: 状态可达/不可达\n",
    "  - 系统不变量\n",
    "  - 进程断言\n",
    "  - 没有可达的系统死锁状态\n",
    "- 路径属性的声明: 执行可行/不可行\n",
    "\n",
    "描述正确性属性的构造 - Summary P.154\n",
    "- 基本断言\n",
    "  - `assert(expression)`\n",
    "  - 唯一可用在模拟运行中的正确性属性类型\n",
    "- 元标签\n",
    "  - 结束状态标签: `end`, `end*`\n",
    "  - 进展状态标签: `progress`, `progress*`\n",
    "   - `-DNP`\n",
    "  - 接受状态标签: `accept`, `accept*`\n",
    "- never声明: 手写, 从逻辑公式或时间线属性描述中生成\n",
    "- 踪迹断言: `trace`\n",
    "  - `notrace`\n"
   ]
  },
  {
   "cell_type": "markdown",
   "metadata": {},
   "source": [
    "never声明\n",
    "\n",
    "例: 属性 在每个p为true的系统状态中, 最终会有q为真的系统状态, 在这之间p保持为真.\n",
    "\n",
    "LTL: ! [] (p -> (p U q))"
   ]
  },
  {
   "cell_type": "code",
   "execution_count": null,
   "metadata": {},
   "outputs": [
    {
     "name": "stdout",
     "output_type": "stream",
     "text": [
      "never  {    /* ! [] (p -> (p U q)) */\n",
      "T0_init:\n",
      "\tdo\n",
      "\t:: (! ((q)) && (p)) -> goto accept_S4\n",
      "\t:: (1) -> goto T0_init\n",
      "\tod;\n",
      "accept_S4:\n",
      "\tdo\n",
      "\t:: (! ((q))) -> goto accept_S4\n",
      "\t:: atomic { (! ((p)) && ! ((q))) -> assert(!(! ((p)) && ! ((q)))) }\n",
      "\tod;\n",
      "accept_all:\n",
      "\tskip\n",
      "}\n"
     ]
    }
   ],
   "source": [
    "# 将LTL公式翻译为never声明\n",
    "!spin -f '! [] (p -> (p U q))'\n",
    "\n",
    "# 另一种方式: 时间线编辑器"
   ]
  },
  {
   "cell_type": "markdown",
   "metadata": {},
   "source": [
    "restart here!!!"
   ]
  },
  {
   "cell_type": "markdown",
   "metadata": {},
   "source": [
    "# 5. Using Design Abstraction"
   ]
  },
  {
   "cell_type": "markdown",
   "metadata": {},
   "source": [
    "# 6. Automata and Logic"
   ]
  },
  {
   "cell_type": "markdown",
   "metadata": {},
   "source": [
    "# 7. PROMELA Semantics"
   ]
  },
  {
   "cell_type": "markdown",
   "metadata": {},
   "source": [
    "操作性语义"
   ]
  },
  {
   "cell_type": "markdown",
   "metadata": {},
   "source": [
    "# 8. Search Algorithms"
   ]
  },
  {
   "cell_type": "markdown",
   "metadata": {},
   "source": [
    "# 9. Search Optimization"
   ]
  },
  {
   "cell_type": "markdown",
   "metadata": {},
   "source": [
    "# 10. Notes on Model Extraction"
   ]
  },
  {
   "cell_type": "markdown",
   "metadata": {},
   "source": [
    "# 11. Using SPIN"
   ]
  },
  {
   "cell_type": "markdown",
   "metadata": {},
   "source": [
    "# 12. Notes on XSPIN"
   ]
  },
  {
   "cell_type": "markdown",
   "metadata": {},
   "source": [
    "# 13. The Timeline Editor"
   ]
  },
  {
   "cell_type": "markdown",
   "metadata": {},
   "source": [
    "# 14. A Verification Model of a Telephone Switch"
   ]
  },
  {
   "cell_type": "markdown",
   "metadata": {},
   "source": [
    "# 15. Sample SPIN Models"
   ]
  },
  {
   "cell_type": "markdown",
   "metadata": {},
   "source": [
    "# 16. PROMELA Language Reference"
   ]
  },
  {
   "cell_type": "markdown",
   "metadata": {},
   "source": [
    "# 17. Embedded C Code"
   ]
  },
  {
   "cell_type": "markdown",
   "metadata": {},
   "source": [
    "# 18. Overview of SPIN Options"
   ]
  },
  {
   "cell_type": "markdown",
   "metadata": {},
   "source": [
    "# 19. Overview of PAN Options"
   ]
  },
  {
   "cell_type": "markdown",
   "metadata": {},
   "source": [
    "# A. Automata Products"
   ]
  },
  {
   "cell_type": "markdown",
   "metadata": {},
   "source": [
    "# B. The Great Debates"
   ]
  },
  {
   "cell_type": "markdown",
   "metadata": {},
   "source": [
    "# C. Exercises With SPIN"
   ]
  },
  {
   "cell_type": "markdown",
   "metadata": {},
   "source": [
    "# D. Downloading Spin"
   ]
  }
 ],
 "metadata": {
  "kernelspec": {
   "display_name": "Python 3",
   "language": "python",
   "name": "python3"
  },
  "language_info": {
   "codemirror_mode": {
    "name": "ipython",
    "version": 3
   },
   "file_extension": ".py",
   "mimetype": "text/x-python",
   "name": "python",
   "nbconvert_exporter": "python",
   "pygments_lexer": "ipython3",
   "version": "3.12.7"
  }
 },
 "nbformat": 4,
 "nbformat_minor": 2
}
