{
 "cells": [
  {
   "cell_type": "markdown",
   "metadata": {},
   "source": [
    "# PSMC: Principles of the Spin Model Checker\n",
    "\n",
    "convention:\n",
    "- SMC: Gerard J. Holzmann. The Spin Model Checker: Primer and Reference Manual. Addison-Wesley, Reading, MA, 2004.\n",
    "- MLCS: Mordechai Ben-Ari. Mathematical Logic for Computer Science (Second Edition). Springer, London, 2001.\n",
    "- PCDP: M. Ben-Ari. Principles of Concurrent and Distributed Programming (Second Edition). Addison-Wesley, Harlow, UK, 2006."
   ]
  },
  {
   "cell_type": "markdown",
   "metadata": {},
   "source": [
    "| #   | Title                               | Progress | Description |\n",
    "| :-- | :---------------------------------- | :------- | :---------- |\n",
    "| 1   | Sequential Programming in PROMELA   | 100%     | 2022-12-21  |\n",
    "| 2   | Verification of Sequential Programs | 100%     | 2022-12-22  |\n",
    "| 3   | Concurrency                         | 100%     | 2022-12-26  |\n",
    "| 4   | Synchronization                     | 100%     | 2022-12-27  |\n",
    "| 5   | Verification with Temporal Logic    | 100%     | 2022-12-28  |\n",
    "| 6   | Data and Program Structures         | 100%     | 2022-12-28  |\n",
    "| 7   | Channels                            | 100%     | 2022-12-28  |\n",
    "| 8   | Nondeterminism                      | 100%     | 2022-12-28  |\n",
    "| 9   | Advanced Topics in PROMELA          | 100%     | 2022-12-29  |\n",
    "| 10  | Advanced Topics in SPIN             | 100%     | 2022-12-29  |\n",
    "| 11  | Case Studies                        | xxx%     | yyyy-mm-dd  |"
   ]
  },
  {
   "cell_type": "code",
   "execution_count": null,
   "metadata": {},
   "outputs": [
    {
     "name": "stdout",
     "output_type": "stream",
     "text": [
      "/mnt/d/GoogleDrive/wiki/jupyter-notebooks/Modeling/SPIN/PSMC\n"
     ]
    }
   ],
   "source": [
    "%cd /mnt/d/GoogleDrive/wiki/jupyter-notebooks/Modeling/SPIN/PSMC"
   ]
  },
  {
   "cell_type": "markdown",
   "metadata": {},
   "source": [
    "#  1. Sequential Programming in PROMELA"
   ]
  },
  {
   "cell_type": "code",
   "execution_count": null,
   "metadata": {},
   "outputs": [
    {
     "name": "stdout",
     "output_type": "stream",
     "text": [
      "/mnt/d/GoogleDrive/wiki/jupyter-notebooks/Modeling/SPIN/PSMC/ch01\n"
     ]
    }
   ],
   "source": [
    "%cd /mnt/d/GoogleDrive/wiki/jupyter-notebooks/Modeling/SPIN/PSMC/ch01"
   ]
  },
  {
   "cell_type": "markdown",
   "metadata": {},
   "source": [
    "SPIN是一个模型检测器(model checker): 一个验证物理系统, 特别是计算机系统的软件工具.\n",
    "\n",
    "1. 编写描述系统行为的模型\n",
    "2. 描述表达系统行为需求的正确性属性(correctness properties)\n",
    "3. 运行模型检测器以检查模型是否保持正确性属性, 如果不保持, 提供反例(counterexample): 不满足正确性属性的计算(computation)."
   ]
  },
  {
   "cell_type": "markdown",
   "metadata": {},
   "source": [
    "Listing 1.1. Reversing digits\n",
    "\n",
    "构造: \n",
    "- 赋值语句\n",
    "- 表达式\n",
    "- 进程: active proctype\n",
    "- 注释 /* */, //\n",
    "- printf"
   ]
  },
  {
   "cell_type": "markdown",
   "metadata": {},
   "source": [
    "模拟模式(simulation mode): SPIN编译和执行PROMELA程序.\n",
    "\n",
    "- 限制模拟运行的步数: spin -uN\n",
    "- 过滤输出: jSPIN MSC配置\n",
    "- Promela输入: STDIN channel"
   ]
  },
  {
   "cell_type": "code",
   "execution_count": null,
   "metadata": {},
   "outputs": [
    {
     "name": "stdout",
     "output_type": "stream",
     "text": [
      "      value = 123,reversed = 321\n",
      "1 process created\n"
     ]
    }
   ],
   "source": [
    "!spin reversing_digits.pml"
   ]
  },
  {
   "cell_type": "markdown",
   "metadata": {},
   "source": [
    "数值数据类型: bit, bool, byte, short, int, unsigned\n",
    "- 尽量使用较少位的类型, 以避免验证中状态数量爆炸.\n",
    "\n",
    "没有: 字符类型, 字符串变量, 浮点数类型\n",
    "\n",
    "没有: 显式类型转换\n",
    "- 算术先隐式转换成int, 赋值时再隐式转换成变量的类型."
   ]
  },
  {
   "cell_type": "markdown",
   "metadata": {},
   "source": [
    "操作符\n",
    "\n",
    "\n",
    "Table 1.2. Operators in Promela\n",
    "\n",
    "```\n",
    "Precedence Operator Associativity Name\n",
    "14 () left parentheses\n",
    "14 [ ] left array indexing\n",
    "14 . left field selection\n",
    "13 ! right logical negation\n",
    "13 ~ right bitwise complementation\n",
    "13 ++, -- right increment, decrement\n",
    "12 *, /, % left multiplication, division, modulo\n",
    "11 +, - left addition, subtraction\n",
    "10 <<, >> left left and right bitwise shift\n",
    "9 <, <=, >, >= left arithmetic relational operators\n",
    "8 ==, != left equality, inequality\n",
    "7 & left bitwise and\n",
    "6 ^ left bitwise exclusive or\n",
    "5 | left bitwise inclusive or\n",
    "4 && left logical and\n",
    "3 || left logical or\n",
    "2 ( -> : ) right conditional expression\n",
    "1 = right assignment\n",
    "```\n",
    "\n",
    "表达式\n",
    "- PROMELA中表达式必须是无副作用的.\n",
    "- PROMELA与C语言的差异\n",
    "  - 赋值语句不是表达式\n",
    "  - `++`, `--`在赋值语句中只能用作后缀操作符, 不能用在赋值语句右侧的表达式中\n",
    "  - 没有前缀`++`, `--`\n",
    "\n",
    "```promela\n",
    "b++ // ok\n",
    "\n",
    "a = b++ // error\n",
    "```\n",
    "\n",
    "局部变量: \n",
    "- 作用域是其声明的进程\n",
    "- 所有局部变量声明隐式的移动到进程的开始处\n",
    "\n",
    "符号名:\n",
    "- `#define N 10`: 数值的符号\n",
    "- `mtype`: 值的助记名\n",
    "  - 使用`%e`格式描述符/`printm`输出, 出现在程序的trace中\n",
    "  - 一个程序中只有唯一的一组名称\n"
   ]
  },
  {
   "cell_type": "markdown",
   "metadata": {},
   "source": [
    "控制语句:\n",
    "- guarded commands: 表达不确定性\n",
    "- location counter: 记录下一个执行的指令地址的寄存器\n",
    "- control point: 控制点, 指令的地址\n",
    "- 分类:\n",
    "  * sequence: 顺序, 使用`;`分隔\n",
    "  * selection: 选择\n",
    "  * repetition: 重复\n",
    "  * jump 跳转\n",
    "  * `unless`\n",
    "\n",
    "\n",
    "选择语句:\n",
    "- `if`: `:: <guard> -> <statements>`\n",
    " - `<guard>`和`<statements>`之间可能存在interleaving(交错)\n",
    " - `else`: 所有其他`<guard>`求值为false时才执行\n",
    " - 所有`<guard>`求值为false时, 进程阻塞直到某个`<guard>`求值为true.\n",
    " - `skip`: `<statements>`为空\n",
    "- conditional expression: `max = (a > b -> a : b)`\n",
    "  - 必须有`()`, 该赋值是原子语句 \n",
    "\n",
    "\n",
    "重复语句:\n",
    "- `do`: 与`if`类似\n",
    "  - `break`L 结束循环\n",
    "\n",
    "宏: 见6.3.2节\n",
    "\n",
    "跳转语句:\n",
    "- `goto`"
   ]
  },
  {
   "cell_type": "markdown",
   "metadata": {},
   "source": [
    "#  2. Verification of Sequential Programs"
   ]
  },
  {
   "cell_type": "code",
   "execution_count": null,
   "metadata": {},
   "outputs": [
    {
     "name": "stdout",
     "output_type": "stream",
     "text": [
      "/mnt/d/GoogleDrive/wiki/jupyter-notebooks/Modeling/SPIN/PSMC/ch02\n"
     ]
    }
   ],
   "source": [
    "%cd /mnt/d/GoogleDrive/wiki/jupyter-notebooks/Modeling/SPIN/PSMC/ch02"
   ]
  },
  {
   "cell_type": "markdown",
   "metadata": {},
   "source": [
    "- 程序的状态state: 变量的值, location counter\n",
    "- 程序的计算computation:\n",
    "- 程序的状态空间state space\n",
    "\n",
    "断言assertion\n",
    "- `assert`\n",
    "- precondition, invariant, postcondition"
   ]
  },
  {
   "cell_type": "markdown",
   "metadata": {},
   "source": [
    "SPIN验证步骤:\n",
    "- 从PROMELA源码生成验证器源码(C语言): `spin -a xxx.pml`\n",
    "- 编译验证器 `pan`\n",
    "- 执行验证器, 生成报告(错误时生成踪迹文件)\n",
    "\n",
    "\n",
    "`pan`的参数:\n",
    "- `-e`: 创建所有错误的踪迹(trail)\n",
    "- `-cN`: 在第N次错误时停止. `-c0`忽略所有错误不产生踪迹文件.\n",
    "\n",
    "踪迹文件: SPIN的guided模拟模式运行以重构计算\n",
    "- `spin -t xxx.pml`\n",
    "\n",
    "SPIN显示模拟中数据:\n",
    "- `-p`: statements, 进程执行的语句\n",
    "- `-g`: globals, 全局变量的值\n",
    "- `-l`: locals, 局部变量的值\n",
    "- `-s`: send, channel中执行的发送指令\n",
    "- `-r`: receive, channel中执行的接收指令"
   ]
  },
  {
   "cell_type": "code",
   "execution_count": null,
   "metadata": {},
   "outputs": [
    {
     "name": "stdout",
     "output_type": "stream",
     "text": [
      "pan:1: assertion violated ( ((a>=b)) ? ((max==a)) : ((max==b)) ) (at depth 0)\n",
      "pan: wrote max-error.pml.trail\n",
      "\n",
      "(Spin Version 6.5.1 -- 20 December 2019)\n",
      "Warning: Search not completed\n",
      "\t+ Partial Order Reduction\n",
      "\n",
      "Full statespace search for:\n",
      "\tnever claim         \t- (none specified)\n",
      "\tassertion violations\t+\n",
      "\tacceptance   cycles \t- (not selected)\n",
      "\tinvalid end states\t+\n",
      "\n",
      "State-vector 24 byte, depth reached 2, errors: 1\n",
      "        3 states, stored\n",
      "        0 states, matched\n",
      "        3 transitions (= stored+matched)\n",
      "        0 atomic steps\n",
      "hash conflicts:         0 (resolved)\n",
      "\n",
      "Stats on memory usage (in Megabytes):\n",
      "    0.000\tequivalent memory usage for states (stored*(State-vector + overhead))\n",
      "    0.292\tactual memory usage for states\n",
      "  128.000\tmemory used for hash table (-w24)\n",
      "    0.534\tmemory used for DFS stack (-m10000)\n",
      "  128.730\ttotal actual memory usage\n",
      "\n",
      "\n",
      "\n",
      "pan: elapsed time 0.01 seconds\n"
     ]
    }
   ],
   "source": [
    "!spin -a max-error.pml\n",
    "# -w: disable warnning message\n",
    "!gcc -w -o pan pan.c\n",
    "!./pan"
   ]
  },
  {
   "cell_type": "code",
   "execution_count": null,
   "metadata": {},
   "outputs": [
    {
     "name": "stdout",
     "output_type": "stream",
     "text": [
      "\u001b[01m\u001b[Kpan.c:\u001b[m\u001b[K In function ‘\u001b[01m\u001b[Kmake_trail\u001b[m\u001b[K’:\n",
      "\u001b[01m\u001b[Kpan.c:1891:33:\u001b[m\u001b[K \u001b[01;35m\u001b[Kwarning: \u001b[m\u001b[K‘\u001b[01m\u001b[K%d\u001b[m\u001b[K’ directive writing between 1 and 10 bytes into a region of size between 1 and 512 [\u001b[01;35m\u001b[K\u001b]8;;https://gcc.gnu.org/onlinedocs/gcc/Warning-Options.html#index-Wformat-overflow=\u0007-Wformat-overflow=\u001b]8;;\u0007\u001b[m\u001b[K]\n",
      " 1891 |                 sprintf(fnm, \"%s\u001b[01;35m\u001b[K%d\u001b[m\u001b[K.%s\",\n",
      "      |                                 \u001b[01;35m\u001b[K^~\u001b[m\u001b[K\n",
      "\u001b[01m\u001b[Kpan.c:1891:30:\u001b[m\u001b[K \u001b[01;36m\u001b[Knote: \u001b[m\u001b[Kdirective argument in the range [1, 2147483647]\n",
      " 1891 |                 sprintf(fnm, \u001b[01;36m\u001b[K\"%s%d.%s\"\u001b[m\u001b[K,\n",
      "      |                              \u001b[01;36m\u001b[K^~~~~~~~~\u001b[m\u001b[K\n",
      "In file included from \u001b[01m\u001b[K/usr/include/stdio.h:894\u001b[m\u001b[K,\n",
      "                 from \u001b[01m\u001b[Kpan.c:7\u001b[m\u001b[K:\n",
      "\u001b[01m\u001b[K/usr/include/x86_64-linux-gnu/bits/stdio2.h:38:10:\u001b[m\u001b[K \u001b[01;36m\u001b[Knote: \u001b[m\u001b[K‘\u001b[01m\u001b[K__builtin___sprintf_chk\u001b[m\u001b[K’ output 3 or more bytes (assuming 523) into a destination of size 512\n",
      "   38 |   return \u001b[01;36m\u001b[K__builtin___sprintf_chk (__s, __USE_FORTIFY_LEVEL - 1,\u001b[m\u001b[K\n",
      "      |          \u001b[01;36m\u001b[K^~~~~~~~~~~~~~~~~~~~~~~~~~~~~~~~~~~~~~~~~~~~~~~~~~~~~~\u001b[m\u001b[K\n",
      "   39 | \u001b[01;36m\u001b[K                                  __glibc_objsize (__s), __fmt,\u001b[m\u001b[K\n",
      "      |                                   \u001b[01;36m\u001b[K~~~~~~~~~~~~~~~~~~~~~~~~~~~~~\u001b[m\u001b[K\n",
      "   40 | \u001b[01;36m\u001b[K                                  __va_arg_pack ())\u001b[m\u001b[K;\n",
      "      |                                   \u001b[01;36m\u001b[K~~~~~~~~~~~~~~~~~\u001b[m\u001b[K\n",
      "\u001b[01m\u001b[Kpan.c:1899:36:\u001b[m\u001b[K \u001b[01;35m\u001b[Kwarning: \u001b[m\u001b[K‘\u001b[01m\u001b[K__builtin___sprintf_chk\u001b[m\u001b[K’ may write a terminating nul past the end of the destination [\u001b[01;35m\u001b[K\u001b]8;;https://gcc.gnu.org/onlinedocs/gcc/Warning-Options.html#index-Wformat-overflow=\u0007-Wformat-overflow=\u001b]8;;\u0007\u001b[m\u001b[K]\n",
      " 1899 |                 sprintf(fnm, \"%s.%s\u001b[01;35m\u001b[K\"\u001b[m\u001b[K, MyFile, tprefix);\n",
      "      |                                    \u001b[01;35m\u001b[K^\u001b[m\u001b[K\n",
      "In file included from \u001b[01m\u001b[K/usr/include/stdio.h:894\u001b[m\u001b[K,\n",
      "                 from \u001b[01m\u001b[Kpan.c:7\u001b[m\u001b[K:\n",
      "\u001b[01m\u001b[K/usr/include/x86_64-linux-gnu/bits/stdio2.h:38:10:\u001b[m\u001b[K \u001b[01;36m\u001b[Knote: \u001b[m\u001b[K‘\u001b[01m\u001b[K__builtin___sprintf_chk\u001b[m\u001b[K’ output 2 or more bytes (assuming 513) into a destination of size 512\n",
      "   38 |   return \u001b[01;36m\u001b[K__builtin___sprintf_chk (__s, __USE_FORTIFY_LEVEL - 1,\u001b[m\u001b[K\n",
      "      |          \u001b[01;36m\u001b[K^~~~~~~~~~~~~~~~~~~~~~~~~~~~~~~~~~~~~~~~~~~~~~~~~~~~~~\u001b[m\u001b[K\n",
      "   39 | \u001b[01;36m\u001b[K                                  __glibc_objsize (__s), __fmt,\u001b[m\u001b[K\n",
      "      |                                   \u001b[01;36m\u001b[K~~~~~~~~~~~~~~~~~~~~~~~~~~~~~\u001b[m\u001b[K\n",
      "   40 | \u001b[01;36m\u001b[K                                  __va_arg_pack ())\u001b[m\u001b[K;\n",
      "      |                                   \u001b[01;36m\u001b[K~~~~~~~~~~~~~~~~~\u001b[m\u001b[K\n",
      "\u001b[01m\u001b[Kpan.c:1906:49:\u001b[m\u001b[K \u001b[01;35m\u001b[Kwarning: \u001b[m\u001b[K‘\u001b[01m\u001b[K%d\u001b[m\u001b[K’ directive writing between 1 and 10 bytes into a region of size between 1 and 512 [\u001b[01;35m\u001b[K\u001b]8;;https://gcc.gnu.org/onlinedocs/gcc/Warning-Options.html#index-Wformat-overflow=\u0007-Wformat-overflow=\u001b]8;;\u0007\u001b[m\u001b[K]\n",
      " 1906 |                                 sprintf(fnm, \"%s\u001b[01;35m\u001b[K%d\u001b[m\u001b[K.%s\",\n",
      "      |                                                 \u001b[01;35m\u001b[K^~\u001b[m\u001b[K\n",
      "\u001b[01m\u001b[Kpan.c:1906:46:\u001b[m\u001b[K \u001b[01;36m\u001b[Knote: \u001b[m\u001b[Kdirective argument in the range [1, 2147483646]\n",
      " 1906 |                                 sprintf(fnm, \u001b[01;36m\u001b[K\"%s%d.%s\"\u001b[m\u001b[K,\n",
      "      |                                              \u001b[01;36m\u001b[K^~~~~~~~~\u001b[m\u001b[K\n",
      "In file included from \u001b[01m\u001b[K/usr/include/stdio.h:894\u001b[m\u001b[K,\n",
      "                 from \u001b[01m\u001b[Kpan.c:7\u001b[m\u001b[K:\n",
      "\u001b[01m\u001b[K/usr/include/x86_64-linux-gnu/bits/stdio2.h:38:10:\u001b[m\u001b[K \u001b[01;36m\u001b[Knote: \u001b[m\u001b[K‘\u001b[01m\u001b[K__builtin___sprintf_chk\u001b[m\u001b[K’ output 3 or more bytes (assuming 523) into a destination of size 512\n",
      "   38 |   return \u001b[01;36m\u001b[K__builtin___sprintf_chk (__s, __USE_FORTIFY_LEVEL - 1,\u001b[m\u001b[K\n",
      "      |          \u001b[01;36m\u001b[K^~~~~~~~~~~~~~~~~~~~~~~~~~~~~~~~~~~~~~~~~~~~~~~~~~~~~~\u001b[m\u001b[K\n",
      "   39 | \u001b[01;36m\u001b[K                                  __glibc_objsize (__s), __fmt,\u001b[m\u001b[K\n",
      "      |                                   \u001b[01;36m\u001b[K~~~~~~~~~~~~~~~~~~~~~~~~~~~~~\u001b[m\u001b[K\n",
      "   40 | \u001b[01;36m\u001b[K                                  __va_arg_pack ())\u001b[m\u001b[K;\n",
      "      |                                   \u001b[01;36m\u001b[K~~~~~~~~~~~~~~~~~\u001b[m\u001b[K\n",
      "\u001b[01m\u001b[Kpan.c:1909:52:\u001b[m\u001b[K \u001b[01;35m\u001b[Kwarning: \u001b[m\u001b[K‘\u001b[01m\u001b[K__builtin___sprintf_chk\u001b[m\u001b[K’ may write a terminating nul past the end of the destination [\u001b[01;35m\u001b[K\u001b]8;;https://gcc.gnu.org/onlinedocs/gcc/Warning-Options.html#index-Wformat-overflow=\u0007-Wformat-overflow=\u001b]8;;\u0007\u001b[m\u001b[K]\n",
      " 1909 |                                 sprintf(fnm, \"%s.%s\u001b[01;35m\u001b[K\"\u001b[m\u001b[K, MyFile, tprefix);\n",
      "      |                                                    \u001b[01;35m\u001b[K^\u001b[m\u001b[K\n",
      "In file included from \u001b[01m\u001b[K/usr/include/stdio.h:894\u001b[m\u001b[K,\n",
      "                 from \u001b[01m\u001b[Kpan.c:7\u001b[m\u001b[K:\n",
      "\u001b[01m\u001b[K/usr/include/x86_64-linux-gnu/bits/stdio2.h:38:10:\u001b[m\u001b[K \u001b[01;36m\u001b[Knote: \u001b[m\u001b[K‘\u001b[01m\u001b[K__builtin___sprintf_chk\u001b[m\u001b[K’ output 2 or more bytes (assuming 513) into a destination of size 512\n",
      "   38 |   return \u001b[01;36m\u001b[K__builtin___sprintf_chk (__s, __USE_FORTIFY_LEVEL - 1,\u001b[m\u001b[K\n",
      "      |          \u001b[01;36m\u001b[K^~~~~~~~~~~~~~~~~~~~~~~~~~~~~~~~~~~~~~~~~~~~~~~~~~~~~~\u001b[m\u001b[K\n",
      "   39 | \u001b[01;36m\u001b[K                                  __glibc_objsize (__s), __fmt,\u001b[m\u001b[K\n",
      "      |                                   \u001b[01;36m\u001b[K~~~~~~~~~~~~~~~~~~~~~~~~~~~~~\u001b[m\u001b[K\n",
      "   40 | \u001b[01;36m\u001b[K                                  __va_arg_pack ())\u001b[m\u001b[K;\n",
      "      |                                   \u001b[01;36m\u001b[K~~~~~~~~~~~~~~~~~\u001b[m\u001b[K\n",
      "\u001b[01m\u001b[Kpan.c:\u001b[m\u001b[K In function ‘\u001b[01m\u001b[Kfindtrail\u001b[m\u001b[K’:\n",
      "\u001b[01m\u001b[Kpan.c:1495:42:\u001b[m\u001b[K \u001b[01;35m\u001b[Kwarning: \u001b[m\u001b[K‘\u001b[01m\u001b[K%s\u001b[m\u001b[K’ directive writing 5 bytes into a region of size between 0 and 511 [\u001b[01;35m\u001b[K\u001b]8;;https://gcc.gnu.org/onlinedocs/gcc/Warning-Options.html#index-Wformat-overflow=\u0007-Wformat-overflow=\u001b]8;;\u0007\u001b[m\u001b[K]\n",
      " 1467 |         tprefix = \u001b[32m\u001b[K\"trail\"\u001b[m\u001b[K;\n",
      "      |                   \u001b[32m\u001b[K~~~~~~~\u001b[m\u001b[K                 \n",
      "......\n",
      " 1495 |                 {       sprintf(fnm, \"%s.\u001b[01;35m\u001b[K%s\u001b[m\u001b[K\", MyFile, tprefix);\n",
      "      |                                          \u001b[01;35m\u001b[K^~\u001b[m\u001b[K\n",
      "In file included from \u001b[01m\u001b[K/usr/include/stdio.h:894\u001b[m\u001b[K,\n",
      "                 from \u001b[01m\u001b[Kpan.c:7\u001b[m\u001b[K:\n",
      "\u001b[01m\u001b[K/usr/include/x86_64-linux-gnu/bits/stdio2.h:38:10:\u001b[m\u001b[K \u001b[01;36m\u001b[Knote: \u001b[m\u001b[K‘\u001b[01m\u001b[K__builtin___sprintf_chk\u001b[m\u001b[K’ output between 7 and 518 bytes into a destination of size 512\n",
      "   38 |   return \u001b[01;36m\u001b[K__builtin___sprintf_chk (__s, __USE_FORTIFY_LEVEL - 1,\u001b[m\u001b[K\n",
      "      |          \u001b[01;36m\u001b[K^~~~~~~~~~~~~~~~~~~~~~~~~~~~~~~~~~~~~~~~~~~~~~~~~~~~~~\u001b[m\u001b[K\n",
      "   39 | \u001b[01;36m\u001b[K                                  __glibc_objsize (__s), __fmt,\u001b[m\u001b[K\n",
      "      |                                   \u001b[01;36m\u001b[K~~~~~~~~~~~~~~~~~~~~~~~~~~~~~\u001b[m\u001b[K\n",
      "   40 | \u001b[01;36m\u001b[K                                  __va_arg_pack ())\u001b[m\u001b[K;\n",
      "      |                                   \u001b[01;36m\u001b[K~~~~~~~~~~~~~~~~~\u001b[m\u001b[K\n",
      "\u001b[01m\u001b[Kpan.c:1506:52:\u001b[m\u001b[K \u001b[01;35m\u001b[Kwarning: \u001b[m\u001b[K‘\u001b[01m\u001b[K__builtin___sprintf_chk\u001b[m\u001b[K’ may write a terminating nul past the end of the destination [\u001b[01;35m\u001b[K\u001b]8;;https://gcc.gnu.org/onlinedocs/gcc/Warning-Options.html#index-Wformat-overflow=\u0007-Wformat-overflow=\u001b]8;;\u0007\u001b[m\u001b[K]\n",
      " 1506 |                                 sprintf(fnm, \"%s.%s\u001b[01;35m\u001b[K\"\u001b[m\u001b[K, MyFile, tprefix);\n",
      "      |                                                    \u001b[01;35m\u001b[K^\u001b[m\u001b[K\n",
      "In file included from \u001b[01m\u001b[K/usr/include/stdio.h:894\u001b[m\u001b[K,\n",
      "                 from \u001b[01m\u001b[Kpan.c:7\u001b[m\u001b[K:\n",
      "\u001b[01m\u001b[K/usr/include/x86_64-linux-gnu/bits/stdio2.h:38:10:\u001b[m\u001b[K \u001b[01;36m\u001b[Knote: \u001b[m\u001b[K‘\u001b[01m\u001b[K__builtin___sprintf_chk\u001b[m\u001b[K’ output 2 or more bytes (assuming 513) into a destination of size 512\n",
      "   38 |   return \u001b[01;36m\u001b[K__builtin___sprintf_chk (__s, __USE_FORTIFY_LEVEL - 1,\u001b[m\u001b[K\n",
      "      |          \u001b[01;36m\u001b[K^~~~~~~~~~~~~~~~~~~~~~~~~~~~~~~~~~~~~~~~~~~~~~~~~~~~~~\u001b[m\u001b[K\n",
      "   39 | \u001b[01;36m\u001b[K                                  __glibc_objsize (__s), __fmt,\u001b[m\u001b[K\n",
      "      |                                   \u001b[01;36m\u001b[K~~~~~~~~~~~~~~~~~~~~~~~~~~~~~\u001b[m\u001b[K\n",
      "   40 | \u001b[01;36m\u001b[K                                  __va_arg_pack ())\u001b[m\u001b[K;\n",
      "      |                                   \u001b[01;36m\u001b[K~~~~~~~~~~~~~~~~~\u001b[m\u001b[K\n",
      "\u001b[01m\u001b[Kpan.c:1506:52:\u001b[m\u001b[K \u001b[01;35m\u001b[Kwarning: \u001b[m\u001b[K‘\u001b[01m\u001b[K__builtin___sprintf_chk\u001b[m\u001b[K’ may write a terminating nul past the end of the destination [\u001b[01;35m\u001b[K\u001b]8;;https://gcc.gnu.org/onlinedocs/gcc/Warning-Options.html#index-Wformat-overflow=\u0007-Wformat-overflow=\u001b]8;;\u0007\u001b[m\u001b[K]\n",
      " 1506 |                                 sprintf(fnm, \"%s.%s\u001b[01;35m\u001b[K\"\u001b[m\u001b[K, MyFile, tprefix);\n",
      "      |                                                    \u001b[01;35m\u001b[K^\u001b[m\u001b[K\n",
      "In file included from \u001b[01m\u001b[K/usr/include/stdio.h:894\u001b[m\u001b[K,\n",
      "                 from \u001b[01m\u001b[Kpan.c:7\u001b[m\u001b[K:\n",
      "\u001b[01m\u001b[K/usr/include/x86_64-linux-gnu/bits/stdio2.h:38:10:\u001b[m\u001b[K \u001b[01;36m\u001b[Knote: \u001b[m\u001b[K‘\u001b[01m\u001b[K__builtin___sprintf_chk\u001b[m\u001b[K’ output 2 or more bytes (assuming 513) into a destination of size 512\n",
      "   38 |   return \u001b[01;36m\u001b[K__builtin___sprintf_chk (__s, __USE_FORTIFY_LEVEL - 1,\u001b[m\u001b[K\n",
      "      |          \u001b[01;36m\u001b[K^~~~~~~~~~~~~~~~~~~~~~~~~~~~~~~~~~~~~~~~~~~~~~~~~~~~~~\u001b[m\u001b[K\n",
      "   39 | \u001b[01;36m\u001b[K                                  __glibc_objsize (__s), __fmt,\u001b[m\u001b[K\n",
      "      |                                   \u001b[01;36m\u001b[K~~~~~~~~~~~~~~~~~~~~~~~~~~~~~\u001b[m\u001b[K\n",
      "   40 | \u001b[01;36m\u001b[K                                  __va_arg_pack ())\u001b[m\u001b[K;\n",
      "      |                                   \u001b[01;36m\u001b[K~~~~~~~~~~~~~~~~~\u001b[m\u001b[K\n",
      "\u001b[01m\u001b[Kpan.c:1471:43:\u001b[m\u001b[K \u001b[01;35m\u001b[Kwarning: \u001b[m\u001b[K‘\u001b[01m\u001b[K.\u001b[m\u001b[K’ directive writing 1 byte into a region of size between 0 and 511 [\u001b[01;35m\u001b[K\u001b]8;;https://gcc.gnu.org/onlinedocs/gcc/Warning-Options.html#index-Wformat-overflow=\u0007-Wformat-overflow=\u001b]8;;\u0007\u001b[m\u001b[K]\n",
      " 1471 |                 {       sprintf(fnm, \"%s%d\u001b[01;35m\u001b[K.\u001b[m\u001b[K%s\",\n",
      "      |                                           \u001b[01;35m\u001b[K^\u001b[m\u001b[K\n",
      "In file included from \u001b[01m\u001b[K/usr/include/stdio.h:894\u001b[m\u001b[K,\n",
      "                 from \u001b[01m\u001b[Kpan.c:7\u001b[m\u001b[K:\n",
      "\u001b[01m\u001b[K/usr/include/x86_64-linux-gnu/bits/stdio2.h:38:10:\u001b[m\u001b[K \u001b[01;36m\u001b[Knote: \u001b[m\u001b[K‘\u001b[01m\u001b[K__builtin___sprintf_chk\u001b[m\u001b[K’ output between 8 and 529 bytes into a destination of size 512\n",
      "   38 |   return \u001b[01;36m\u001b[K__builtin___sprintf_chk (__s, __USE_FORTIFY_LEVEL - 1,\u001b[m\u001b[K\n",
      "      |          \u001b[01;36m\u001b[K^~~~~~~~~~~~~~~~~~~~~~~~~~~~~~~~~~~~~~~~~~~~~~~~~~~~~~\u001b[m\u001b[K\n",
      "   39 | \u001b[01;36m\u001b[K                                  __glibc_objsize (__s), __fmt,\u001b[m\u001b[K\n",
      "      |                                   \u001b[01;36m\u001b[K~~~~~~~~~~~~~~~~~~~~~~~~~~~~~\u001b[m\u001b[K\n",
      "   40 | \u001b[01;36m\u001b[K                                  __va_arg_pack ())\u001b[m\u001b[K;\n",
      "      |                                   \u001b[01;36m\u001b[K~~~~~~~~~~~~~~~~~\u001b[m\u001b[K\n",
      "\u001b[01m\u001b[Kpan.c:1483:51:\u001b[m\u001b[K \u001b[01;35m\u001b[Kwarning: \u001b[m\u001b[K‘\u001b[01m\u001b[K.\u001b[m\u001b[K’ directive writing 1 byte into a region of size between 0 and 511 [\u001b[01;35m\u001b[K\u001b]8;;https://gcc.gnu.org/onlinedocs/gcc/Warning-Options.html#index-Wformat-overflow=\u0007-Wformat-overflow=\u001b]8;;\u0007\u001b[m\u001b[K]\n",
      " 1483 |                                 sprintf(fnm, \"%s%d\u001b[01;35m\u001b[K.\u001b[m\u001b[K%s\",\n",
      "      |                                                   \u001b[01;35m\u001b[K^\u001b[m\u001b[K\n",
      "In file included from \u001b[01m\u001b[K/usr/include/stdio.h:894\u001b[m\u001b[K,\n",
      "                 from \u001b[01m\u001b[Kpan.c:7\u001b[m\u001b[K:\n",
      "\u001b[01m\u001b[K/usr/include/x86_64-linux-gnu/bits/stdio2.h:38:10:\u001b[m\u001b[K \u001b[01;36m\u001b[Knote: \u001b[m\u001b[K‘\u001b[01m\u001b[K__builtin___sprintf_chk\u001b[m\u001b[K’ output 3 or more bytes (assuming 514) into a destination of size 512\n",
      "   38 |   return \u001b[01;36m\u001b[K__builtin___sprintf_chk (__s, __USE_FORTIFY_LEVEL - 1,\u001b[m\u001b[K\n",
      "      |          \u001b[01;36m\u001b[K^~~~~~~~~~~~~~~~~~~~~~~~~~~~~~~~~~~~~~~~~~~~~~~~~~~~~~\u001b[m\u001b[K\n",
      "   39 | \u001b[01;36m\u001b[K                                  __glibc_objsize (__s), __fmt,\u001b[m\u001b[K\n",
      "      |                                   \u001b[01;36m\u001b[K~~~~~~~~~~~~~~~~~~~~~~~~~~~~~\u001b[m\u001b[K\n",
      "   40 | \u001b[01;36m\u001b[K                                  __va_arg_pack ())\u001b[m\u001b[K;\n",
      "      |                                   \u001b[01;36m\u001b[K~~~~~~~~~~~~~~~~~\u001b[m\u001b[K\n",
      "\u001b[01m\u001b[Kpan.c:1483:51:\u001b[m\u001b[K \u001b[01;35m\u001b[Kwarning: \u001b[m\u001b[K‘\u001b[01m\u001b[K.\u001b[m\u001b[K’ directive writing 1 byte into a region of size between 0 and 511 [\u001b[01;35m\u001b[K\u001b]8;;https://gcc.gnu.org/onlinedocs/gcc/Warning-Options.html#index-Wformat-overflow=\u0007-Wformat-overflow=\u001b]8;;\u0007\u001b[m\u001b[K]\n",
      " 1483 |                                 sprintf(fnm, \"%s%d\u001b[01;35m\u001b[K.\u001b[m\u001b[K%s\",\n",
      "      |                                                   \u001b[01;35m\u001b[K^\u001b[m\u001b[K\n",
      "In file included from \u001b[01m\u001b[K/usr/include/stdio.h:894\u001b[m\u001b[K,\n",
      "                 from \u001b[01m\u001b[Kpan.c:7\u001b[m\u001b[K:\n",
      "\u001b[01m\u001b[K/usr/include/x86_64-linux-gnu/bits/stdio2.h:38:10:\u001b[m\u001b[K \u001b[01;36m\u001b[Knote: \u001b[m\u001b[K‘\u001b[01m\u001b[K__builtin___sprintf_chk\u001b[m\u001b[K’ output 3 or more bytes (assuming 514) into a destination of size 512\n",
      "   38 |   return \u001b[01;36m\u001b[K__builtin___sprintf_chk (__s, __USE_FORTIFY_LEVEL - 1,\u001b[m\u001b[K\n",
      "      |          \u001b[01;36m\u001b[K^~~~~~~~~~~~~~~~~~~~~~~~~~~~~~~~~~~~~~~~~~~~~~~~~~~~~~\u001b[m\u001b[K\n",
      "   39 | \u001b[01;36m\u001b[K                                  __glibc_objsize (__s), __fmt,\u001b[m\u001b[K\n",
      "      |                                   \u001b[01;36m\u001b[K~~~~~~~~~~~~~~~~~~~~~~~~~~~~~\u001b[m\u001b[K\n",
      "   40 | \u001b[01;36m\u001b[K                                  __va_arg_pack ())\u001b[m\u001b[K;\n",
      "      |                                   \u001b[01;36m\u001b[K~~~~~~~~~~~~~~~~~\u001b[m\u001b[K\n",
      "\u001b[01m\u001b[Kpan.c:1545:34:\u001b[m\u001b[K \u001b[01;35m\u001b[Kwarning: \u001b[m\u001b[K‘\u001b[01m\u001b[K%s\u001b[m\u001b[K’ directive writing 5 bytes into a region of size between 0 and 511 [\u001b[01;35m\u001b[K\u001b]8;;https://gcc.gnu.org/onlinedocs/gcc/Warning-Options.html#index-Wformat-overflow=\u0007-Wformat-overflow=\u001b]8;;\u0007\u001b[m\u001b[K]\n",
      " 1532 |         tprefix = \u001b[32m\u001b[K\"trail\"\u001b[m\u001b[K;\n",
      "      |                   \u001b[32m\u001b[K~~~~~~~\u001b[m\u001b[K         \n",
      "......\n",
      " 1545 |         {       sprintf(fnm, \"%s.\u001b[01;35m\u001b[K%s\u001b[m\u001b[K\", MyFile, tprefix);\n",
      "      |                                  \u001b[01;35m\u001b[K^~\u001b[m\u001b[K\n",
      "In file included from \u001b[01m\u001b[K/usr/include/stdio.h:894\u001b[m\u001b[K,\n",
      "                 from \u001b[01m\u001b[Kpan.c:7\u001b[m\u001b[K:\n",
      "\u001b[01m\u001b[K/usr/include/x86_64-linux-gnu/bits/stdio2.h:38:10:\u001b[m\u001b[K \u001b[01;36m\u001b[Knote: \u001b[m\u001b[K‘\u001b[01m\u001b[K__builtin___sprintf_chk\u001b[m\u001b[K’ output between 7 and 518 bytes into a destination of size 512\n",
      "   38 |   return \u001b[01;36m\u001b[K__builtin___sprintf_chk (__s, __USE_FORTIFY_LEVEL - 1,\u001b[m\u001b[K\n",
      "      |          \u001b[01;36m\u001b[K^~~~~~~~~~~~~~~~~~~~~~~~~~~~~~~~~~~~~~~~~~~~~~~~~~~~~~\u001b[m\u001b[K\n",
      "   39 | \u001b[01;36m\u001b[K                                  __glibc_objsize (__s), __fmt,\u001b[m\u001b[K\n",
      "      |                                   \u001b[01;36m\u001b[K~~~~~~~~~~~~~~~~~~~~~~~~~~~~~\u001b[m\u001b[K\n",
      "   40 | \u001b[01;36m\u001b[K                                  __va_arg_pack ())\u001b[m\u001b[K;\n",
      "      |                                   \u001b[01;36m\u001b[K~~~~~~~~~~~~~~~~~\u001b[m\u001b[K\n",
      "\u001b[01m\u001b[Kpan.c:1549:44:\u001b[m\u001b[K \u001b[01;35m\u001b[Kwarning: \u001b[m\u001b[K‘\u001b[01m\u001b[K__builtin___sprintf_chk\u001b[m\u001b[K’ may write a terminating nul past the end of the destination [\u001b[01;35m\u001b[K\u001b]8;;https://gcc.gnu.org/onlinedocs/gcc/Warning-Options.html#index-Wformat-overflow=\u0007-Wformat-overflow=\u001b]8;;\u0007\u001b[m\u001b[K]\n",
      " 1549 |                         sprintf(fnm, \"%s.%s\u001b[01;35m\u001b[K\"\u001b[m\u001b[K, MyFile, tprefix);\n",
      "      |                                            \u001b[01;35m\u001b[K^\u001b[m\u001b[K\n",
      "In file included from \u001b[01m\u001b[K/usr/include/stdio.h:894\u001b[m\u001b[K,\n",
      "                 from \u001b[01m\u001b[Kpan.c:7\u001b[m\u001b[K:\n",
      "\u001b[01m\u001b[K/usr/include/x86_64-linux-gnu/bits/stdio2.h:38:10:\u001b[m\u001b[K \u001b[01;36m\u001b[Knote: \u001b[m\u001b[K‘\u001b[01m\u001b[K__builtin___sprintf_chk\u001b[m\u001b[K’ output 2 or more bytes (assuming 513) into a destination of size 512\n",
      "   38 |   return \u001b[01;36m\u001b[K__builtin___sprintf_chk (__s, __USE_FORTIFY_LEVEL - 1,\u001b[m\u001b[K\n",
      "      |          \u001b[01;36m\u001b[K^~~~~~~~~~~~~~~~~~~~~~~~~~~~~~~~~~~~~~~~~~~~~~~~~~~~~~\u001b[m\u001b[K\n",
      "   39 | \u001b[01;36m\u001b[K                                  __glibc_objsize (__s), __fmt,\u001b[m\u001b[K\n",
      "      |                                   \u001b[01;36m\u001b[K~~~~~~~~~~~~~~~~~~~~~~~~~~~~~\u001b[m\u001b[K\n",
      "   40 | \u001b[01;36m\u001b[K                                  __va_arg_pack ())\u001b[m\u001b[K;\n",
      "      |                                   \u001b[01;36m\u001b[K~~~~~~~~~~~~~~~~~\u001b[m\u001b[K\n",
      "\u001b[01m\u001b[Kpan.c:1535:35:\u001b[m\u001b[K \u001b[01;35m\u001b[Kwarning: \u001b[m\u001b[K‘\u001b[01m\u001b[K.\u001b[m\u001b[K’ directive writing 1 byte into a region of size between 0 and 511 [\u001b[01;35m\u001b[K\u001b]8;;https://gcc.gnu.org/onlinedocs/gcc/Warning-Options.html#index-Wformat-overflow=\u0007-Wformat-overflow=\u001b]8;;\u0007\u001b[m\u001b[K]\n",
      " 1535 |         {       sprintf(fnm, \"%s%d\u001b[01;35m\u001b[K.\u001b[m\u001b[K%s\", MyFile, whichtrail, tprefix);\n",
      "      |                                   \u001b[01;35m\u001b[K^\u001b[m\u001b[K\n",
      "In file included from \u001b[01m\u001b[K/usr/include/stdio.h:894\u001b[m\u001b[K,\n",
      "                 from \u001b[01m\u001b[Kpan.c:7\u001b[m\u001b[K:\n",
      "\u001b[01m\u001b[K/usr/include/x86_64-linux-gnu/bits/stdio2.h:38:10:\u001b[m\u001b[K \u001b[01;36m\u001b[Knote: \u001b[m\u001b[K‘\u001b[01m\u001b[K__builtin___sprintf_chk\u001b[m\u001b[K’ output between 8 and 529 bytes into a destination of size 512\n",
      "   38 |   return \u001b[01;36m\u001b[K__builtin___sprintf_chk (__s, __USE_FORTIFY_LEVEL - 1,\u001b[m\u001b[K\n",
      "      |          \u001b[01;36m\u001b[K^~~~~~~~~~~~~~~~~~~~~~~~~~~~~~~~~~~~~~~~~~~~~~~~~~~~~~\u001b[m\u001b[K\n",
      "   39 | \u001b[01;36m\u001b[K                                  __glibc_objsize (__s), __fmt,\u001b[m\u001b[K\n",
      "      |                                   \u001b[01;36m\u001b[K~~~~~~~~~~~~~~~~~~~~~~~~~~~~~\u001b[m\u001b[K\n",
      "   40 | \u001b[01;36m\u001b[K                                  __va_arg_pack ())\u001b[m\u001b[K;\n",
      "      |                                   \u001b[01;36m\u001b[K~~~~~~~~~~~~~~~~~\u001b[m\u001b[K\n",
      "\u001b[01m\u001b[Kpan.c:1539:43:\u001b[m\u001b[K \u001b[01;35m\u001b[Kwarning: \u001b[m\u001b[K‘\u001b[01m\u001b[K.\u001b[m\u001b[K’ directive writing 1 byte into a region of size between 0 and 511 [\u001b[01;35m\u001b[K\u001b]8;;https://gcc.gnu.org/onlinedocs/gcc/Warning-Options.html#index-Wformat-overflow=\u0007-Wformat-overflow=\u001b]8;;\u0007\u001b[m\u001b[K]\n",
      " 1539 |                         sprintf(fnm, \"%s%d\u001b[01;35m\u001b[K.\u001b[m\u001b[K%s\",\n",
      "      |                                           \u001b[01;35m\u001b[K^\u001b[m\u001b[K\n",
      "In file included from \u001b[01m\u001b[K/usr/include/stdio.h:894\u001b[m\u001b[K,\n",
      "                 from \u001b[01m\u001b[Kpan.c:7\u001b[m\u001b[K:\n",
      "\u001b[01m\u001b[K/usr/include/x86_64-linux-gnu/bits/stdio2.h:38:10:\u001b[m\u001b[K \u001b[01;36m\u001b[Knote: \u001b[m\u001b[K‘\u001b[01m\u001b[K__builtin___sprintf_chk\u001b[m\u001b[K’ output 3 or more bytes (assuming 514) into a destination of size 512\n",
      "   38 |   return \u001b[01;36m\u001b[K__builtin___sprintf_chk (__s, __USE_FORTIFY_LEVEL - 1,\u001b[m\u001b[K\n",
      "      |          \u001b[01;36m\u001b[K^~~~~~~~~~~~~~~~~~~~~~~~~~~~~~~~~~~~~~~~~~~~~~~~~~~~~~\u001b[m\u001b[K\n",
      "   39 | \u001b[01;36m\u001b[K                                  __glibc_objsize (__s), __fmt,\u001b[m\u001b[K\n",
      "      |                                   \u001b[01;36m\u001b[K~~~~~~~~~~~~~~~~~~~~~~~~~~~~~\u001b[m\u001b[K\n",
      "   40 | \u001b[01;36m\u001b[K                                  __va_arg_pack ())\u001b[m\u001b[K;\n",
      "      |                                   \u001b[01;36m\u001b[K~~~~~~~~~~~~~~~~~\u001b[m\u001b[K\n",
      "pan:1: assertion violated ( ((a>=b)) ? ((max==a)) : ((max==b)) ) (at depth 0)\n",
      "pan: wrote max-error.pml.trail\n",
      "\n",
      "(Spin Version 6.5.1 -- 20 December 2019)\n",
      "Warning: Search not completed\n",
      "\t+ Partial Order Reduction\n",
      "\n",
      "Full statespace search for:\n",
      "\tnever claim         \t- (none specified)\n",
      "\tassertion violations\t+\n",
      "\tcycle checks       \t- (disabled by -DSAFETY)\n",
      "\tinvalid end states\t+\n",
      "\n",
      "State-vector 24 byte, depth reached 2, errors: 1\n",
      "        3 states, stored\n",
      "        0 states, matched\n",
      "        3 transitions (= stored+matched)\n",
      "        0 atomic steps\n",
      "hash conflicts:         0 (resolved)\n",
      "\n",
      "Stats on memory usage (in Megabytes):\n",
      "    0.000\tequivalent memory usage for states (stored*(State-vector + overhead))\n",
      "    0.292\tactual memory usage for states\n",
      "  128.000\tmemory used for hash table (-w24)\n",
      "    0.534\tmemory used for DFS stack (-m10000)\n",
      "  128.730\ttotal actual memory usage\n",
      "\n",
      "\n",
      "\n",
      "pan: elapsed time 0 seconds\n"
     ]
    }
   ],
   "source": [
    "# 验证: 上面的3步合并为1步\n",
    "# TODO: mute gcc warning\n",
    "!spin -run max-error.pml"
   ]
  },
  {
   "cell_type": "code",
   "execution_count": null,
   "metadata": {},
   "outputs": [
    {
     "name": "stdout",
     "output_type": "stream",
     "text": [
      "spin: max-error.pml:7, Error: assertion violated\n",
      "spin: text of failed assertion: assert(( ((a>=b)) -> ((max==a)) : ((max==b)) ))\n",
      "spin: trail ends after 1 steps\n",
      "#processes: 1\n",
      "  1:\tproc  0 (P:1) max-error.pml:8 (state 8) <valid end state>\n",
      "1 process created\n"
     ]
    }
   ],
   "source": [
    "# follow simulation trail\n",
    "!spin -t max-error.pml"
   ]
  },
  {
   "cell_type": "code",
   "execution_count": null,
   "metadata": {},
   "outputs": [
    {
     "name": "stdout",
     "output_type": "stream",
     "text": [
      "  1:\tproc  0 (P:1) max-error.pml:5 (state 3)\t[((b>=a))]\n",
      "  1:\tproc  0 (P:1) max-error.pml:5 (state 4)\t[max = (b+1)]\n",
      "\t\tP(0):max = 6\n",
      "spin: max-error.pml:7, Error: assertion violated\n",
      "spin: text of failed assertion: assert(( ((a>=b)) -> ((max==a)) : ((max==b)) ))\n",
      "  1:\tproc  0 (P:1) max-error.pml:7 (state 7)\t[assert(( ((a>=b)) -> ((max==a)) : ((max==b)) ))]\n",
      "\t\tP(0):max = 6\n",
      "spin: trail ends after 1 steps\n",
      "#processes: 1\n",
      "  1:\tproc  0 (P:1) max-error.pml:8 (state 8) <valid end state>\n",
      "\t\tP(0):max = 6\n",
      "\t\tP(0):b = 5\n",
      "\t\tP(0):a = 5\n",
      "1 process created\n"
     ]
    }
   ],
   "source": [
    "# 显示trail中更多信息\n",
    "!spin -t -p -g -l max-error.pml"
   ]
  },
  {
   "cell_type": "code",
   "execution_count": null,
   "metadata": {},
   "outputs": [],
   "source": [
    "# 清理\n",
    "!rm -f pan.* pan *.trail"
   ]
  },
  {
   "cell_type": "code",
   "execution_count": null,
   "metadata": {},
   "outputs": [
    {
     "name": "stdout",
     "output_type": "stream",
     "text": [
      "  0:\tproc  - (:root:) creates proc  0 (P)\n",
      "  1:\tproc  0 (P:1) max-error.pml:5 (state 3)\t[((b>=a))]\n",
      "  2:\tproc  0 (P:1) max-error.pml:5 (state 4)\t[max = (b+1)]\n",
      "\t\tP(0):max = 6\n",
      "  3:\tproc  0 (P:1) max-error.pml:7 (state 6)\t[.(goto)]\n",
      "spin: max-error.pml:7, Error: assertion violated\n",
      "spin: text of failed assertion: assert(( ((a>=b)) -> ((max==a)) : ((max==b)) ))\n",
      "#processes: 1\n",
      "  4:\tproc  0 (P:1) max-error.pml:7 (state 7)\n",
      "\t\tP(0):max = 6\n",
      "\t\tP(0):b = 5\n",
      "\t\tP(0):a = 5\n",
      "1 process created\n"
     ]
    }
   ],
   "source": [
    "!spin -p -g -l max-error.pml"
   ]
  },
  {
   "cell_type": "markdown",
   "metadata": {},
   "source": [
    "#  3. Concurrency\n",
    "#  4. Synchronization\n",
    "#  5. Verification with Temporal Logic\n",
    "#  6. Data and Program Structures\n",
    "#  7. Channels\n",
    "#  8. Nondeterminism\n",
    "#  9. Advanced Topics in PROMELA\n",
    "#  10. Advanced Topics in SPIN\n",
    "#  11. Case Studies"
   ]
  },
  {
   "cell_type": "markdown",
   "metadata": {},
   "source": [
    "# Supplementary Material on Spin Version 6\n",
    "\n",
    "> supplementary material: https://extras.springer.com/?query=978-1-84628-769-5\n",
    "\n",
    "- the `for`-statement.\n",
    "- the `select`-statement.\n",
    "- `inline` definitions now create a new scope for variable declarations.\n",
    "- the LTL formula can be written within the PROMELA program.\n",
    "\n",
    "```promela\n",
    "ltl mutex { []!(csp && csq) }\n",
    "ltl nostarvation { []<>csp }\n",
    "\n",
    "// no longer necessary to define symbols\n",
    "ltl { [](critical <= 1) }\n",
    "// a remote reference is considered an expression\n",
    "ltl { []!(P@cs && Q@cs) }\n",
    "// temporal operators can be given as keywords\n",
    "ltl mutex { always !(csp && csq) }\n",
    "ltl nostarvation { always eventually csp }\n",
    "```\n",
    "\n",
    "```shell\n",
    "pan -N mutex\n",
    "```"
   ]
  }
 ],
 "metadata": {
  "language_info": {
   "name": "python"
  }
 },
 "nbformat": 4,
 "nbformat_minor": 2
}
