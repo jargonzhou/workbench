{
 "cells": [
  {
   "cell_type": "markdown",
   "metadata": {},
   "source": [
    "# Principles of Concurrent and Distributed Programming"
   ]
  },
  {
   "cell_type": "code",
   "execution_count": 1,
   "metadata": {},
   "outputs": [
    {
     "name": "stdout",
     "output_type": "stream",
     "text": [
      "/mnt/d/GoogleDrive/wiki/jupyter-notebooks/Modeling/SPIN/PCDP\n"
     ]
    }
   ],
   "source": [
    "# 工作目录\n",
    "%cd /mnt/d/GoogleDrive/wiki/jupyter-notebooks/Modeling/SPIN/PCDP"
   ]
  },
  {
   "cell_type": "code",
   "execution_count": 2,
   "metadata": {},
   "outputs": [],
   "source": [
    "# 清理\n",
    "!rm -f pan pan.*"
   ]
  },
  {
   "cell_type": "markdown",
   "metadata": {},
   "source": [
    "# 1. What is Concurrent Programming?"
   ]
  },
  {
   "cell_type": "markdown",
   "metadata": {},
   "source": [
    "# 2. The Concurrent Programming Abstraction"
   ]
  },
  {
   "cell_type": "markdown",
   "metadata": {},
   "source": [
    "- 并发执行: 原子语句的交错(interleaving)\n",
    "- 任意的交错\n",
    "- 原子语句\n",
    "- 正确性(correctness)\n",
    "- 公平性(fairness)\n",
    "- 机器码指令: 寄存器机器, 栈机器\n",
    "- 易失性(volatile)变量, 非原子变量\n",
    "\n",
    "\n",
    "A **concurrent program** consists of a finite set of\n",
    "(sequential) processes. The processes are\n",
    "written using a finite set of **atomic statements**.\n",
    "The execution of a concurrent program\n",
    "proceeds by executing a sequence of the\n",
    "atomic statements obtained by **arbitrarily\n",
    "interleaving** the atomic statements from the\n",
    "processes. A **computation** is an execution\n",
    "sequence that can occur as a result of the\n",
    "interleaving. Computations are also called\n",
    "**scenarios**.\n",
    "\n",
    "During a computation the **control pointer** of a\n",
    "process indicates the next statement that can\n",
    "be executed by that process. Each process\n",
    "has its own control pointer.\n",
    "\n",
    "The **state** of a (concurrent) algorithm is a\n",
    "tuple consisting of one element for each\n",
    "process that is a label from that process, and\n",
    "one element for each global or local variable\n",
    "that is a value whose type is the same as the\n",
    "type of the variable.\n",
    "\n",
    "Let s1 and s2 be states. There is a **transition**\n",
    "between s1 and s2 if executing a statement in\n",
    "state s1 changes the state to s2. The statement\n",
    "executed must be one of those pointed to by a\n",
    "control pointer in s1.\n",
    "\n",
    "A **state diagram** is a graph defined inductively.\n",
    "The initial state diagram contains a single node\n",
    "labeled with the initial state. If state s1 labels a\n",
    "node in the state diagram, and if there is a\n",
    "transition from s1 to s2, then there is a node\n",
    "labeled s2 in the state diagram and a directed\n",
    "edge from s1 to s2.\n",
    "For each state, there is only one node labeled\n",
    "with that state.\n",
    "The set of **reachable states** is the set of states\n",
    "in a state diagram.\n",
    "\n",
    "\n",
    "**Safety properties** The property must always be\n",
    "true.\n",
    "**Liveness properties** The property must eventually\n",
    "become true.\n",
    "\n",
    "\n",
    "linear temporal logic (LTL)\n",
    "Branching temporal logic: CTL is a branching temporal logic \n",
    "\n",
    "LTL is used in this book\n",
    "\n",
    "\n",
    "A scenario is (**weakly**) **fair** if at any state in the\n",
    "scenario, a statement that is continually\n",
    "enabled eventually appears in the scenario."
   ]
  },
  {
   "cell_type": "markdown",
   "metadata": {},
   "source": [
    "工具, 语言\n",
    "- BACI并发模拟器: Ben-Ari Concurrency Interpreter\n",
    "- Ada\n",
    "- Java\n",
    "- PROMELA"
   ]
  },
  {
   "cell_type": "markdown",
   "metadata": {},
   "source": [
    "Algorithm 2.1. Trivial concurrent program\n",
    "\n",
    "convention: \n",
    "Each labeled line represents an atomic\n",
    "statement.\n",
    "\n",
    "Algorithm 2.2. Trivial sequential program\n",
    "Algorithm 2.3. Atomic assignment statements\n",
    "Algorithm 2.4. Assignment statements with one global reference\n",
    "\n",
    "assumption:\n",
    "Assignment statements are atomic\n",
    "statements, as are evaluations of boolean\n",
    "conditions in control statements.\n",
    "\n",
    "Algorithm 2.5. Stop the loop\n",
    "\n",
    "Algorithm 2.6. Assignment statement for a register machine\n",
    "Algorithm 2.7. Assignment statement for a stack machine"
   ]
  },
  {
   "cell_type": "markdown",
   "metadata": {},
   "source": [
    "An occurrence of a variable v is defined to be\n",
    "**critical reference**: (a) if it is assigned to in one\n",
    "process and has an occurrence in another\n",
    "process, or (b) if it has an occurrence in an\n",
    "expression in one process and is assigned to in\n",
    "another.\n",
    "A program satisfies the **limited-criticalreference (LCR)** restriction if each statement\n",
    "contains at most one critical reference."
   ]
  },
  {
   "cell_type": "markdown",
   "metadata": {},
   "source": [
    "Algorithm 2.8. Volatile variables\n",
    "\n",
    "Specifying a variable as\n",
    "**volatile** instructs the compiler to load and store the\n",
    "value of the variable at each use, rather than attempt\n",
    "to optimize away these loads and stores.\n",
    "Concurrency may also affect computations with\n",
    "multiword variables. "
   ]
  },
  {
   "cell_type": "markdown",
   "metadata": {},
   "source": [
    "Algorithm 2.9. Concurrent counting algorithm\n",
    "\n",
    "```\n",
    "integer n <- 0\n",
    "-\n",
    "p                    | q\n",
    "    integer temp     |     integer temp\n",
    "p1: do 10 times      | q1: do 10 times\n",
    "p2:   temp <- n      | q2:    temp <- n\n",
    "p3:   n <- temp + 1  | q3:    n <- temp + 1\n",
    "```"
   ]
  },
  {
   "cell_type": "code",
   "execution_count": null,
   "metadata": {},
   "outputs": [
    {
     "name": "stdout",
     "output_type": "stream",
     "text": [
      "      MSC: The value is 14\n",
      "3 processes created\n"
     ]
    }
   ],
   "source": [
    "# Listing 2.5. A Promela program for the counting algorithm\n",
    "!spin l2.5-counting-algo.pml"
   ]
  },
  {
   "cell_type": "markdown",
   "metadata": {},
   "source": [
    "# 3. The Critical Section Problem"
   ]
  },
  {
   "cell_type": "markdown",
   "metadata": {},
   "source": [
    "问题定义和假设:\n",
    "\n",
    "- Each of N processes is executing in a infinite loop a sequence of\n",
    "statements that can be divided into two subsequences: the **critical\n",
    "section** and the non-critical section.\n",
    "\n",
    "- The correctness specifications required of any solution are:\n",
    "  - **Mutual exclusion** Statements from the critical sections of two\n",
    "or more processes must not be interleaved.\n",
    "  - **Freedom from deadlock** If some processes are trying to enter\n",
    "their critical sections, then one of them must eventually\n",
    "succeed.\n",
    "  - **Freedom from (individual) starvation** If any process tries to\n",
    "enter its critical section, then that process must eventually\n",
    "succeed.\n",
    "\n",
    "- A synchronization mechanism must be provided to ensure that the\n",
    "correctness requirements are met. The synchronization mechanism\n",
    "consists of additional statements that are placed before and after\n",
    "the critical section. The statements placed before the critical section\n",
    "are called the **preprotocol** and those after it are called the\n",
    "**postprotocol**. \n",
    "\n",
    "- The protocols may require local or global variables, but we assume\n",
    "that no variables used in the critical and non-critical sections are\n",
    "used in the protocols, and vice versa.\n",
    "- The critical section must **progress**, that is, once a process starts to\n",
    "execute the statements of its critical section, it must eventually\n",
    "finish executing those statements.\n",
    "关键区域中必须有进展.\n",
    "- The non-critical section need not progress, that is, if the control\n",
    "pointer of a process is at or in its non-critical section, the process\n",
    "may terminate or enter an infinite loop and not leave the noncritical section.\n",
    "非关键区域中可以没有进展."
   ]
  },
  {
   "cell_type": "markdown",
   "metadata": {},
   "source": [
    "Algorithm 3.1. Critical section problem\n",
    "\n",
    "Algorithm 3.2. First attempt\n",
    "\n",
    "```\n",
    "integer turn <- 1\n",
    "\n",
    "p: \n",
    "loop forever\n",
    "p1: non-critical section\n",
    "p2: await turn = 1           // 等待: 我的机会\n",
    "p3: critical section\n",
    "p4: turn <- 2               // 他的机会\n",
    "\n",
    "q:\n",
    "loop forever\n",
    "q1: non-critical section\n",
    "q2: await turn = 2\n",
    "q3: critical section\n",
    "q4: turn <- 1\n",
    "```\n",
    "\n",
    "`turn`作为进入关键区域的权限: 值表示哪个进程持有资源.\n",
    "\n",
    "\n",
    "Algorithm 3.3. History in a sequential algorithm\n",
    "Algorithm 3.4. History in a concurrent algorithm\n",
    "Algorithm 3.5. First attempt (abbreviated)\n",
    "\n",
    "使用状态图证明正确性\n",
    "- 互斥: YES\n",
    "- 无死锁: YES\n",
    "- 无饥饿: NO\n",
    "  - 非关键区域可以无进展"
   ]
  },
  {
   "cell_type": "markdown",
   "metadata": {},
   "source": [
    "Algorithm 3.6. Second attempt\n",
    "\n",
    "```\n",
    "boolean wantp <- false, wantq <- false\n",
    "-\n",
    "p:\n",
    "loop forever\n",
    "p1: non-critical section\n",
    "p2: await wantq = false     // 等待: 他不要\n",
    "p3: wantp <- true           // 我要\n",
    "p4: critical section\n",
    "p5: wantp <- false          // 我不要\n",
    "\n",
    "q:\n",
    "loop forever\n",
    "q1: non-critical section\n",
    "q2: await wantp = false\n",
    "q3: wantq <- true\n",
    "q4: critical section\n",
    "q5: wantq <- false\n",
    "```\n",
    "\n",
    "Algorithm 3.7. Second attempt (abbreviated)\n",
    "\n",
    "正确性:\n",
    "- 互斥: NO"
   ]
  },
  {
   "cell_type": "markdown",
   "metadata": {},
   "source": [
    "Algorithm 3.8. Third attempt\n",
    "\n",
    "```\n",
    "boolean wantp <- false, wantq <- false\n",
    "-\n",
    "p:\n",
    "loop forever\n",
    "p1: non-critical section\n",
    "p2: wantp <- true         // 我要\n",
    "p3: await wantq = false   // 等待: 他不要\n",
    "p4: critical section\n",
    "p5: wantp <- false        // 我不要\n",
    "\n",
    "q:\n",
    "loop forever\n",
    "q1: non-critical section\n",
    "q2: wantq <- true\n",
    "q3: await wantp = false\n",
    "q4: critical section\n",
    "q5: wantq <- false\n",
    "```\n",
    "\n",
    "正确性:\n",
    "- 互斥: YES\n",
    "- 无死锁: NO\n",
    "  - 不可出节点: 活锁"
   ]
  },
  {
   "cell_type": "markdown",
   "metadata": {},
   "source": [
    "Algorithm 3.9. Fourth attempt\n",
    "\n",
    "```\n",
    "boolean wantp <- false, wantq <- false\n",
    "-\n",
    "p:\n",
    "loop forever\n",
    "p1: non-critical section\n",
    "p2: wantp <- true          // 我要\n",
    "p3: while wantq            // 他要时\n",
    "p4:   wantp <- false       //   我不要\n",
    "p5:   wantp <- true        //   我要\n",
    "p6: critical section\n",
    "p7: wantp <- false         // 我不要\n",
    "\n",
    "q:\n",
    "loop forever\n",
    "q1: non-critical section\n",
    "q2: wantq true\n",
    "q3: while wantp\n",
    "q4:   wantq <- false\n",
    "q5:   wantq <- true\n",
    "q6: critical section\n",
    "q7: wantq <- false\n",
    "```\n",
    "\n",
    "正确性:\n",
    "- 互斥: YES\n",
    "- 无死锁: YES\n",
    "- 无饥饿: NO\n",
    "  - 存在环"
   ]
  },
  {
   "cell_type": "markdown",
   "metadata": {},
   "source": [
    "Algorithm 3.10. Dekker's algorithm\n",
    "\n",
    "```\n",
    "boolean wantp <- false, wantq <- false\n",
    "integer turn <- 1\n",
    "-\n",
    "p:\n",
    "loop forever\n",
    "p1: non-critical section\n",
    "p2: wantp <- true          // 我要\n",
    "p3: while wantq            // 他要时\n",
    "p4:   if turn = 2          //   他的机会\n",
    "p5:     wantp <- false     //     我不要\n",
    "p6:     await turn = 1     //     等待: 我的机会\n",
    "p7:     wantp <- true      //     我要\n",
    "p8: critical section\n",
    "p9: turn <- 2             // 机会给他\n",
    "p10: wantp <- false       // 我不要\n",
    "\n",
    "q:\n",
    "loop forever\n",
    "q1: non-critical section\n",
    "q2: wantq <- true\n",
    "q3: while wantp\n",
    "q4:   if turn = 1\n",
    "q5:     wantq <- false\n",
    "q6:     await turn = 2\n",
    "q7:     wantq <- true\n",
    "q8: critical section\n",
    "q9: turn <- 1\n",
    "q10: wantq false\n",
    "```"
   ]
  },
  {
   "cell_type": "markdown",
   "metadata": {},
   "source": [
    "# 4. Verification of Concurrent Programs"
   ]
  },
  {
   "cell_type": "markdown",
   "metadata": {},
   "source": [
    "- the specification of correctness properties: 正确性属性的描述\n",
    "- inductive proof: 归纳证明\n",
    "- invariant: 不变量\n",
    "- a system of temporal logic: 时态逻辑的系统\n",
    "  - deductive: 推论的, 演绎的\n",
    "    - 在所有计算的状态上归纳\n",
    "    - 只需要考虑能修改公式中原子命题真值的语句\n",
    "  - specify correctness properties for model checkers\n",
    "  - tools: SPIN, STeP, TLA\n",
    "\n",
    "示例: the third attemp satisfies the mutual exclusion property\n",
    "\n",
    "A Deductive Proof of Dekker's Algorithm\n",
    "- 进展: 如果计算在一个状态满足A, 则计算必须进展到另一个状态满足B.\n",
    "- 假设: 所有计算是weakly fair的.\n",
    "- 赋值语句: 持有进展.\n",
    "- 关键区域: 必须持有进展.\n",
    "- 非关键区域: 不需要持有进展.\n",
    "- 控制语句: \n",
    "  - 证明选择了某一个分支: `p4 /\\ [](turn = 2) -> <> p5`\n",
    "\n",
    "进展的证明规则:\n",
    "- (a) []A -> <>B\n",
    "- (b) <>[]A\n",
    "结论: `<>B`\n",
    "\n",
    "证明: 无饥饿\n",
    "- 假设: `q`总是尝试进入关键区域 `[]<> ~ q1`\n",
    "- `p2 -> <>P8`\n",
    "\n",
    "\n",
    "the Promela Modeling Language"
   ]
  },
  {
   "cell_type": "code",
   "execution_count": null,
   "metadata": {},
   "outputs": [
    {
     "name": "stdout",
     "output_type": "stream",
     "text": [
      "\u001b[01m\u001b[Kpan.c:\u001b[m\u001b[K In function ‘\u001b[01m\u001b[Kmake_trail\u001b[m\u001b[K’:\n",
      "\u001b[01m\u001b[Kpan.c:1942:33:\u001b[m\u001b[K \u001b[01;35m\u001b[Kwarning: \u001b[m\u001b[K‘\u001b[01m\u001b[K%d\u001b[m\u001b[K’ directive writing between 1 and 10 bytes into a region of size between 1 and 512 [\u001b[01;35m\u001b[K\u001b]8;;https://gcc.gnu.org/onlinedocs/gcc/Warning-Options.html#index-Wformat-overflow=\u0007-Wformat-overflow=\u001b]8;;\u0007\u001b[m\u001b[K]\n",
      " 1942 |                 sprintf(fnm, \"%s\u001b[01;35m\u001b[K%d\u001b[m\u001b[K.%s\",\n",
      "      |                                 \u001b[01;35m\u001b[K^~\u001b[m\u001b[K\n",
      "\u001b[01m\u001b[Kpan.c:1942:30:\u001b[m\u001b[K \u001b[01;36m\u001b[Knote: \u001b[m\u001b[Kdirective argument in the range [1, 2147483647]\n",
      " 1942 |                 sprintf(fnm, \u001b[01;36m\u001b[K\"%s%d.%s\"\u001b[m\u001b[K,\n",
      "      |                              \u001b[01;36m\u001b[K^~~~~~~~~\u001b[m\u001b[K\n",
      "In file included from \u001b[01m\u001b[K/usr/include/stdio.h:894\u001b[m\u001b[K,\n",
      "                 from \u001b[01m\u001b[Kpan.c:7\u001b[m\u001b[K:\n",
      "\u001b[01m\u001b[K/usr/include/x86_64-linux-gnu/bits/stdio2.h:38:10:\u001b[m\u001b[K \u001b[01;36m\u001b[Knote: \u001b[m\u001b[K‘\u001b[01m\u001b[K__builtin___sprintf_chk\u001b[m\u001b[K’ output 3 or more bytes (assuming 523) into a destination of size 512\n",
      "   38 |   return \u001b[01;36m\u001b[K__builtin___sprintf_chk (__s, __USE_FORTIFY_LEVEL - 1,\u001b[m\u001b[K\n",
      "      |          \u001b[01;36m\u001b[K^~~~~~~~~~~~~~~~~~~~~~~~~~~~~~~~~~~~~~~~~~~~~~~~~~~~~~\u001b[m\u001b[K\n",
      "   39 | \u001b[01;36m\u001b[K                                  __glibc_objsize (__s), __fmt,\u001b[m\u001b[K\n",
      "      |                                   \u001b[01;36m\u001b[K~~~~~~~~~~~~~~~~~~~~~~~~~~~~~\u001b[m\u001b[K\n",
      "   40 | \u001b[01;36m\u001b[K                                  __va_arg_pack ())\u001b[m\u001b[K;\n",
      "      |                                   \u001b[01;36m\u001b[K~~~~~~~~~~~~~~~~~\u001b[m\u001b[K\n",
      "\u001b[01m\u001b[Kpan.c:1950:36:\u001b[m\u001b[K \u001b[01;35m\u001b[Kwarning: \u001b[m\u001b[K‘\u001b[01m\u001b[K__builtin___sprintf_chk\u001b[m\u001b[K’ may write a terminating nul past the end of the destination [\u001b[01;35m\u001b[K\u001b]8;;https://gcc.gnu.org/onlinedocs/gcc/Warning-Options.html#index-Wformat-overflow=\u0007-Wformat-overflow=\u001b]8;;\u0007\u001b[m\u001b[K]\n",
      " 1950 |                 sprintf(fnm, \"%s.%s\u001b[01;35m\u001b[K\"\u001b[m\u001b[K, MyFile, tprefix);\n",
      "      |                                    \u001b[01;35m\u001b[K^\u001b[m\u001b[K\n",
      "In file included from \u001b[01m\u001b[K/usr/include/stdio.h:894\u001b[m\u001b[K,\n",
      "                 from \u001b[01m\u001b[Kpan.c:7\u001b[m\u001b[K:\n",
      "\u001b[01m\u001b[K/usr/include/x86_64-linux-gnu/bits/stdio2.h:38:10:\u001b[m\u001b[K \u001b[01;36m\u001b[Knote: \u001b[m\u001b[K‘\u001b[01m\u001b[K__builtin___sprintf_chk\u001b[m\u001b[K’ output 2 or more bytes (assuming 513) into a destination of size 512\n",
      "   38 |   return \u001b[01;36m\u001b[K__builtin___sprintf_chk (__s, __USE_FORTIFY_LEVEL - 1,\u001b[m\u001b[K\n",
      "      |          \u001b[01;36m\u001b[K^~~~~~~~~~~~~~~~~~~~~~~~~~~~~~~~~~~~~~~~~~~~~~~~~~~~~~\u001b[m\u001b[K\n",
      "   39 | \u001b[01;36m\u001b[K                                  __glibc_objsize (__s), __fmt,\u001b[m\u001b[K\n",
      "      |                                   \u001b[01;36m\u001b[K~~~~~~~~~~~~~~~~~~~~~~~~~~~~~\u001b[m\u001b[K\n",
      "   40 | \u001b[01;36m\u001b[K                                  __va_arg_pack ())\u001b[m\u001b[K;\n",
      "      |                                   \u001b[01;36m\u001b[K~~~~~~~~~~~~~~~~~\u001b[m\u001b[K\n",
      "\u001b[01m\u001b[Kpan.c:1957:49:\u001b[m\u001b[K \u001b[01;35m\u001b[Kwarning: \u001b[m\u001b[K‘\u001b[01m\u001b[K%d\u001b[m\u001b[K’ directive writing between 1 and 10 bytes into a region of size between 1 and 512 [\u001b[01;35m\u001b[K\u001b]8;;https://gcc.gnu.org/onlinedocs/gcc/Warning-Options.html#index-Wformat-overflow=\u0007-Wformat-overflow=\u001b]8;;\u0007\u001b[m\u001b[K]\n",
      " 1957 |                                 sprintf(fnm, \"%s\u001b[01;35m\u001b[K%d\u001b[m\u001b[K.%s\",\n",
      "      |                                                 \u001b[01;35m\u001b[K^~\u001b[m\u001b[K\n",
      "\u001b[01m\u001b[Kpan.c:1957:46:\u001b[m\u001b[K \u001b[01;36m\u001b[Knote: \u001b[m\u001b[Kdirective argument in the range [1, 2147483646]\n",
      " 1957 |                                 sprintf(fnm, \u001b[01;36m\u001b[K\"%s%d.%s\"\u001b[m\u001b[K,\n",
      "      |                                              \u001b[01;36m\u001b[K^~~~~~~~~\u001b[m\u001b[K\n",
      "In file included from \u001b[01m\u001b[K/usr/include/stdio.h:894\u001b[m\u001b[K,\n",
      "                 from \u001b[01m\u001b[Kpan.c:7\u001b[m\u001b[K:\n",
      "\u001b[01m\u001b[K/usr/include/x86_64-linux-gnu/bits/stdio2.h:38:10:\u001b[m\u001b[K \u001b[01;36m\u001b[Knote: \u001b[m\u001b[K‘\u001b[01m\u001b[K__builtin___sprintf_chk\u001b[m\u001b[K’ output 3 or more bytes (assuming 523) into a destination of size 512\n",
      "   38 |   return \u001b[01;36m\u001b[K__builtin___sprintf_chk (__s, __USE_FORTIFY_LEVEL - 1,\u001b[m\u001b[K\n",
      "      |          \u001b[01;36m\u001b[K^~~~~~~~~~~~~~~~~~~~~~~~~~~~~~~~~~~~~~~~~~~~~~~~~~~~~~\u001b[m\u001b[K\n",
      "   39 | \u001b[01;36m\u001b[K                                  __glibc_objsize (__s), __fmt,\u001b[m\u001b[K\n",
      "      |                                   \u001b[01;36m\u001b[K~~~~~~~~~~~~~~~~~~~~~~~~~~~~~\u001b[m\u001b[K\n",
      "   40 | \u001b[01;36m\u001b[K                                  __va_arg_pack ())\u001b[m\u001b[K;\n",
      "      |                                   \u001b[01;36m\u001b[K~~~~~~~~~~~~~~~~~\u001b[m\u001b[K\n",
      "\u001b[01m\u001b[Kpan.c:1960:52:\u001b[m\u001b[K \u001b[01;35m\u001b[Kwarning: \u001b[m\u001b[K‘\u001b[01m\u001b[K__builtin___sprintf_chk\u001b[m\u001b[K’ may write a terminating nul past the end of the destination [\u001b[01;35m\u001b[K\u001b]8;;https://gcc.gnu.org/onlinedocs/gcc/Warning-Options.html#index-Wformat-overflow=\u0007-Wformat-overflow=\u001b]8;;\u0007\u001b[m\u001b[K]\n",
      " 1960 |                                 sprintf(fnm, \"%s.%s\u001b[01;35m\u001b[K\"\u001b[m\u001b[K, MyFile, tprefix);\n",
      "      |                                                    \u001b[01;35m\u001b[K^\u001b[m\u001b[K\n",
      "In file included from \u001b[01m\u001b[K/usr/include/stdio.h:894\u001b[m\u001b[K,\n",
      "                 from \u001b[01m\u001b[Kpan.c:7\u001b[m\u001b[K:\n",
      "\u001b[01m\u001b[K/usr/include/x86_64-linux-gnu/bits/stdio2.h:38:10:\u001b[m\u001b[K \u001b[01;36m\u001b[Knote: \u001b[m\u001b[K‘\u001b[01m\u001b[K__builtin___sprintf_chk\u001b[m\u001b[K’ output 2 or more bytes (assuming 513) into a destination of size 512\n",
      "   38 |   return \u001b[01;36m\u001b[K__builtin___sprintf_chk (__s, __USE_FORTIFY_LEVEL - 1,\u001b[m\u001b[K\n",
      "      |          \u001b[01;36m\u001b[K^~~~~~~~~~~~~~~~~~~~~~~~~~~~~~~~~~~~~~~~~~~~~~~~~~~~~~\u001b[m\u001b[K\n",
      "   39 | \u001b[01;36m\u001b[K                                  __glibc_objsize (__s), __fmt,\u001b[m\u001b[K\n",
      "      |                                   \u001b[01;36m\u001b[K~~~~~~~~~~~~~~~~~~~~~~~~~~~~~\u001b[m\u001b[K\n",
      "   40 | \u001b[01;36m\u001b[K                                  __va_arg_pack ())\u001b[m\u001b[K;\n",
      "      |                                   \u001b[01;36m\u001b[K~~~~~~~~~~~~~~~~~\u001b[m\u001b[K\n",
      "\u001b[01m\u001b[Kpan.c:\u001b[m\u001b[K In function ‘\u001b[01m\u001b[Kfindtrail\u001b[m\u001b[K’:\n",
      "\u001b[01m\u001b[Kpan.c:1546:42:\u001b[m\u001b[K \u001b[01;35m\u001b[Kwarning: \u001b[m\u001b[K‘\u001b[01m\u001b[K%s\u001b[m\u001b[K’ directive writing 5 bytes into a region of size between 0 and 511 [\u001b[01;35m\u001b[K\u001b]8;;https://gcc.gnu.org/onlinedocs/gcc/Warning-Options.html#index-Wformat-overflow=\u0007-Wformat-overflow=\u001b]8;;\u0007\u001b[m\u001b[K]\n",
      " 1518 |         tprefix = \u001b[32m\u001b[K\"trail\"\u001b[m\u001b[K;\n",
      "      |                   \u001b[32m\u001b[K~~~~~~~\u001b[m\u001b[K                 \n",
      "......\n",
      " 1546 |                 {       sprintf(fnm, \"%s.\u001b[01;35m\u001b[K%s\u001b[m\u001b[K\", MyFile, tprefix);\n",
      "      |                                          \u001b[01;35m\u001b[K^~\u001b[m\u001b[K\n",
      "In file included from \u001b[01m\u001b[K/usr/include/stdio.h:894\u001b[m\u001b[K,\n",
      "                 from \u001b[01m\u001b[Kpan.c:7\u001b[m\u001b[K:\n",
      "\u001b[01m\u001b[K/usr/include/x86_64-linux-gnu/bits/stdio2.h:38:10:\u001b[m\u001b[K \u001b[01;36m\u001b[Knote: \u001b[m\u001b[K‘\u001b[01m\u001b[K__builtin___sprintf_chk\u001b[m\u001b[K’ output between 7 and 518 bytes into a destination of size 512\n",
      "   38 |   return \u001b[01;36m\u001b[K__builtin___sprintf_chk (__s, __USE_FORTIFY_LEVEL - 1,\u001b[m\u001b[K\n",
      "      |          \u001b[01;36m\u001b[K^~~~~~~~~~~~~~~~~~~~~~~~~~~~~~~~~~~~~~~~~~~~~~~~~~~~~~\u001b[m\u001b[K\n",
      "   39 | \u001b[01;36m\u001b[K                                  __glibc_objsize (__s), __fmt,\u001b[m\u001b[K\n",
      "      |                                   \u001b[01;36m\u001b[K~~~~~~~~~~~~~~~~~~~~~~~~~~~~~\u001b[m\u001b[K\n",
      "   40 | \u001b[01;36m\u001b[K                                  __va_arg_pack ())\u001b[m\u001b[K;\n",
      "      |                                   \u001b[01;36m\u001b[K~~~~~~~~~~~~~~~~~\u001b[m\u001b[K\n",
      "\u001b[01m\u001b[Kpan.c:1557:52:\u001b[m\u001b[K \u001b[01;35m\u001b[Kwarning: \u001b[m\u001b[K‘\u001b[01m\u001b[K__builtin___sprintf_chk\u001b[m\u001b[K’ may write a terminating nul past the end of the destination [\u001b[01;35m\u001b[K\u001b]8;;https://gcc.gnu.org/onlinedocs/gcc/Warning-Options.html#index-Wformat-overflow=\u0007-Wformat-overflow=\u001b]8;;\u0007\u001b[m\u001b[K]\n",
      " 1557 |                                 sprintf(fnm, \"%s.%s\u001b[01;35m\u001b[K\"\u001b[m\u001b[K, MyFile, tprefix);\n",
      "      |                                                    \u001b[01;35m\u001b[K^\u001b[m\u001b[K\n",
      "In file included from \u001b[01m\u001b[K/usr/include/stdio.h:894\u001b[m\u001b[K,\n",
      "                 from \u001b[01m\u001b[Kpan.c:7\u001b[m\u001b[K:\n",
      "\u001b[01m\u001b[K/usr/include/x86_64-linux-gnu/bits/stdio2.h:38:10:\u001b[m\u001b[K \u001b[01;36m\u001b[Knote: \u001b[m\u001b[K‘\u001b[01m\u001b[K__builtin___sprintf_chk\u001b[m\u001b[K’ output 2 or more bytes (assuming 513) into a destination of size 512\n",
      "   38 |   return \u001b[01;36m\u001b[K__builtin___sprintf_chk (__s, __USE_FORTIFY_LEVEL - 1,\u001b[m\u001b[K\n",
      "      |          \u001b[01;36m\u001b[K^~~~~~~~~~~~~~~~~~~~~~~~~~~~~~~~~~~~~~~~~~~~~~~~~~~~~~\u001b[m\u001b[K\n",
      "   39 | \u001b[01;36m\u001b[K                                  __glibc_objsize (__s), __fmt,\u001b[m\u001b[K\n",
      "      |                                   \u001b[01;36m\u001b[K~~~~~~~~~~~~~~~~~~~~~~~~~~~~~\u001b[m\u001b[K\n",
      "   40 | \u001b[01;36m\u001b[K                                  __va_arg_pack ())\u001b[m\u001b[K;\n",
      "      |                                   \u001b[01;36m\u001b[K~~~~~~~~~~~~~~~~~\u001b[m\u001b[K\n",
      "\u001b[01m\u001b[Kpan.c:1557:52:\u001b[m\u001b[K \u001b[01;35m\u001b[Kwarning: \u001b[m\u001b[K‘\u001b[01m\u001b[K__builtin___sprintf_chk\u001b[m\u001b[K’ may write a terminating nul past the end of the destination [\u001b[01;35m\u001b[K\u001b]8;;https://gcc.gnu.org/onlinedocs/gcc/Warning-Options.html#index-Wformat-overflow=\u0007-Wformat-overflow=\u001b]8;;\u0007\u001b[m\u001b[K]\n",
      " 1557 |                                 sprintf(fnm, \"%s.%s\u001b[01;35m\u001b[K\"\u001b[m\u001b[K, MyFile, tprefix);\n",
      "      |                                                    \u001b[01;35m\u001b[K^\u001b[m\u001b[K\n",
      "In file included from \u001b[01m\u001b[K/usr/include/stdio.h:894\u001b[m\u001b[K,\n",
      "                 from \u001b[01m\u001b[Kpan.c:7\u001b[m\u001b[K:\n",
      "\u001b[01m\u001b[K/usr/include/x86_64-linux-gnu/bits/stdio2.h:38:10:\u001b[m\u001b[K \u001b[01;36m\u001b[Knote: \u001b[m\u001b[K‘\u001b[01m\u001b[K__builtin___sprintf_chk\u001b[m\u001b[K’ output 2 or more bytes (assuming 513) into a destination of size 512\n",
      "   38 |   return \u001b[01;36m\u001b[K__builtin___sprintf_chk (__s, __USE_FORTIFY_LEVEL - 1,\u001b[m\u001b[K\n",
      "      |          \u001b[01;36m\u001b[K^~~~~~~~~~~~~~~~~~~~~~~~~~~~~~~~~~~~~~~~~~~~~~~~~~~~~~\u001b[m\u001b[K\n",
      "   39 | \u001b[01;36m\u001b[K                                  __glibc_objsize (__s), __fmt,\u001b[m\u001b[K\n",
      "      |                                   \u001b[01;36m\u001b[K~~~~~~~~~~~~~~~~~~~~~~~~~~~~~\u001b[m\u001b[K\n",
      "   40 | \u001b[01;36m\u001b[K                                  __va_arg_pack ())\u001b[m\u001b[K;\n",
      "      |                                   \u001b[01;36m\u001b[K~~~~~~~~~~~~~~~~~\u001b[m\u001b[K\n",
      "\u001b[01m\u001b[Kpan.c:1522:43:\u001b[m\u001b[K \u001b[01;35m\u001b[Kwarning: \u001b[m\u001b[K‘\u001b[01m\u001b[K.\u001b[m\u001b[K’ directive writing 1 byte into a region of size between 0 and 511 [\u001b[01;35m\u001b[K\u001b]8;;https://gcc.gnu.org/onlinedocs/gcc/Warning-Options.html#index-Wformat-overflow=\u0007-Wformat-overflow=\u001b]8;;\u0007\u001b[m\u001b[K]\n",
      " 1522 |                 {       sprintf(fnm, \"%s%d\u001b[01;35m\u001b[K.\u001b[m\u001b[K%s\",\n",
      "      |                                           \u001b[01;35m\u001b[K^\u001b[m\u001b[K\n",
      "In file included from \u001b[01m\u001b[K/usr/include/stdio.h:894\u001b[m\u001b[K,\n",
      "                 from \u001b[01m\u001b[Kpan.c:7\u001b[m\u001b[K:\n",
      "\u001b[01m\u001b[K/usr/include/x86_64-linux-gnu/bits/stdio2.h:38:10:\u001b[m\u001b[K \u001b[01;36m\u001b[Knote: \u001b[m\u001b[K‘\u001b[01m\u001b[K__builtin___sprintf_chk\u001b[m\u001b[K’ output between 8 and 529 bytes into a destination of size 512\n",
      "   38 |   return \u001b[01;36m\u001b[K__builtin___sprintf_chk (__s, __USE_FORTIFY_LEVEL - 1,\u001b[m\u001b[K\n",
      "      |          \u001b[01;36m\u001b[K^~~~~~~~~~~~~~~~~~~~~~~~~~~~~~~~~~~~~~~~~~~~~~~~~~~~~~\u001b[m\u001b[K\n",
      "   39 | \u001b[01;36m\u001b[K                                  __glibc_objsize (__s), __fmt,\u001b[m\u001b[K\n",
      "      |                                   \u001b[01;36m\u001b[K~~~~~~~~~~~~~~~~~~~~~~~~~~~~~\u001b[m\u001b[K\n",
      "   40 | \u001b[01;36m\u001b[K                                  __va_arg_pack ())\u001b[m\u001b[K;\n",
      "      |                                   \u001b[01;36m\u001b[K~~~~~~~~~~~~~~~~~\u001b[m\u001b[K\n",
      "\u001b[01m\u001b[Kpan.c:1534:51:\u001b[m\u001b[K \u001b[01;35m\u001b[Kwarning: \u001b[m\u001b[K‘\u001b[01m\u001b[K.\u001b[m\u001b[K’ directive writing 1 byte into a region of size between 0 and 511 [\u001b[01;35m\u001b[K\u001b]8;;https://gcc.gnu.org/onlinedocs/gcc/Warning-Options.html#index-Wformat-overflow=\u0007-Wformat-overflow=\u001b]8;;\u0007\u001b[m\u001b[K]\n",
      " 1534 |                                 sprintf(fnm, \"%s%d\u001b[01;35m\u001b[K.\u001b[m\u001b[K%s\",\n",
      "      |                                                   \u001b[01;35m\u001b[K^\u001b[m\u001b[K\n",
      "In file included from \u001b[01m\u001b[K/usr/include/stdio.h:894\u001b[m\u001b[K,\n",
      "                 from \u001b[01m\u001b[Kpan.c:7\u001b[m\u001b[K:\n",
      "\u001b[01m\u001b[K/usr/include/x86_64-linux-gnu/bits/stdio2.h:38:10:\u001b[m\u001b[K \u001b[01;36m\u001b[Knote: \u001b[m\u001b[K‘\u001b[01m\u001b[K__builtin___sprintf_chk\u001b[m\u001b[K’ output 3 or more bytes (assuming 514) into a destination of size 512\n",
      "   38 |   return \u001b[01;36m\u001b[K__builtin___sprintf_chk (__s, __USE_FORTIFY_LEVEL - 1,\u001b[m\u001b[K\n",
      "      |          \u001b[01;36m\u001b[K^~~~~~~~~~~~~~~~~~~~~~~~~~~~~~~~~~~~~~~~~~~~~~~~~~~~~~\u001b[m\u001b[K\n",
      "   39 | \u001b[01;36m\u001b[K                                  __glibc_objsize (__s), __fmt,\u001b[m\u001b[K\n",
      "      |                                   \u001b[01;36m\u001b[K~~~~~~~~~~~~~~~~~~~~~~~~~~~~~\u001b[m\u001b[K\n",
      "   40 | \u001b[01;36m\u001b[K                                  __va_arg_pack ())\u001b[m\u001b[K;\n",
      "      |                                   \u001b[01;36m\u001b[K~~~~~~~~~~~~~~~~~\u001b[m\u001b[K\n",
      "\u001b[01m\u001b[Kpan.c:1534:51:\u001b[m\u001b[K \u001b[01;35m\u001b[Kwarning: \u001b[m\u001b[K‘\u001b[01m\u001b[K.\u001b[m\u001b[K’ directive writing 1 byte into a region of size between 0 and 511 [\u001b[01;35m\u001b[K\u001b]8;;https://gcc.gnu.org/onlinedocs/gcc/Warning-Options.html#index-Wformat-overflow=\u0007-Wformat-overflow=\u001b]8;;\u0007\u001b[m\u001b[K]\n",
      " 1534 |                                 sprintf(fnm, \"%s%d\u001b[01;35m\u001b[K.\u001b[m\u001b[K%s\",\n",
      "      |                                                   \u001b[01;35m\u001b[K^\u001b[m\u001b[K\n",
      "In file included from \u001b[01m\u001b[K/usr/include/stdio.h:894\u001b[m\u001b[K,\n",
      "                 from \u001b[01m\u001b[Kpan.c:7\u001b[m\u001b[K:\n",
      "\u001b[01m\u001b[K/usr/include/x86_64-linux-gnu/bits/stdio2.h:38:10:\u001b[m\u001b[K \u001b[01;36m\u001b[Knote: \u001b[m\u001b[K‘\u001b[01m\u001b[K__builtin___sprintf_chk\u001b[m\u001b[K’ output 3 or more bytes (assuming 514) into a destination of size 512\n",
      "   38 |   return \u001b[01;36m\u001b[K__builtin___sprintf_chk (__s, __USE_FORTIFY_LEVEL - 1,\u001b[m\u001b[K\n",
      "      |          \u001b[01;36m\u001b[K^~~~~~~~~~~~~~~~~~~~~~~~~~~~~~~~~~~~~~~~~~~~~~~~~~~~~~\u001b[m\u001b[K\n",
      "   39 | \u001b[01;36m\u001b[K                                  __glibc_objsize (__s), __fmt,\u001b[m\u001b[K\n",
      "      |                                   \u001b[01;36m\u001b[K~~~~~~~~~~~~~~~~~~~~~~~~~~~~~\u001b[m\u001b[K\n",
      "   40 | \u001b[01;36m\u001b[K                                  __va_arg_pack ())\u001b[m\u001b[K;\n",
      "      |                                   \u001b[01;36m\u001b[K~~~~~~~~~~~~~~~~~\u001b[m\u001b[K\n",
      "\u001b[01m\u001b[Kpan.c:1596:34:\u001b[m\u001b[K \u001b[01;35m\u001b[Kwarning: \u001b[m\u001b[K‘\u001b[01m\u001b[K%s\u001b[m\u001b[K’ directive writing 5 bytes into a region of size between 0 and 511 [\u001b[01;35m\u001b[K\u001b]8;;https://gcc.gnu.org/onlinedocs/gcc/Warning-Options.html#index-Wformat-overflow=\u0007-Wformat-overflow=\u001b]8;;\u0007\u001b[m\u001b[K]\n",
      " 1583 |         tprefix = \u001b[32m\u001b[K\"trail\"\u001b[m\u001b[K;\n",
      "      |                   \u001b[32m\u001b[K~~~~~~~\u001b[m\u001b[K         \n",
      "......\n",
      " 1596 |         {       sprintf(fnm, \"%s.\u001b[01;35m\u001b[K%s\u001b[m\u001b[K\", MyFile, tprefix);\n",
      "      |                                  \u001b[01;35m\u001b[K^~\u001b[m\u001b[K\n",
      "In file included from \u001b[01m\u001b[K/usr/include/stdio.h:894\u001b[m\u001b[K,\n",
      "                 from \u001b[01m\u001b[Kpan.c:7\u001b[m\u001b[K:\n",
      "\u001b[01m\u001b[K/usr/include/x86_64-linux-gnu/bits/stdio2.h:38:10:\u001b[m\u001b[K \u001b[01;36m\u001b[Knote: \u001b[m\u001b[K‘\u001b[01m\u001b[K__builtin___sprintf_chk\u001b[m\u001b[K’ output between 7 and 518 bytes into a destination of size 512\n",
      "   38 |   return \u001b[01;36m\u001b[K__builtin___sprintf_chk (__s, __USE_FORTIFY_LEVEL - 1,\u001b[m\u001b[K\n",
      "      |          \u001b[01;36m\u001b[K^~~~~~~~~~~~~~~~~~~~~~~~~~~~~~~~~~~~~~~~~~~~~~~~~~~~~~\u001b[m\u001b[K\n",
      "   39 | \u001b[01;36m\u001b[K                                  __glibc_objsize (__s), __fmt,\u001b[m\u001b[K\n",
      "      |                                   \u001b[01;36m\u001b[K~~~~~~~~~~~~~~~~~~~~~~~~~~~~~\u001b[m\u001b[K\n",
      "   40 | \u001b[01;36m\u001b[K                                  __va_arg_pack ())\u001b[m\u001b[K;\n",
      "      |                                   \u001b[01;36m\u001b[K~~~~~~~~~~~~~~~~~\u001b[m\u001b[K\n",
      "\u001b[01m\u001b[Kpan.c:1600:44:\u001b[m\u001b[K \u001b[01;35m\u001b[Kwarning: \u001b[m\u001b[K‘\u001b[01m\u001b[K__builtin___sprintf_chk\u001b[m\u001b[K’ may write a terminating nul past the end of the destination [\u001b[01;35m\u001b[K\u001b]8;;https://gcc.gnu.org/onlinedocs/gcc/Warning-Options.html#index-Wformat-overflow=\u0007-Wformat-overflow=\u001b]8;;\u0007\u001b[m\u001b[K]\n",
      " 1600 |                         sprintf(fnm, \"%s.%s\u001b[01;35m\u001b[K\"\u001b[m\u001b[K, MyFile, tprefix);\n",
      "      |                                            \u001b[01;35m\u001b[K^\u001b[m\u001b[K\n",
      "In file included from \u001b[01m\u001b[K/usr/include/stdio.h:894\u001b[m\u001b[K,\n",
      "                 from \u001b[01m\u001b[Kpan.c:7\u001b[m\u001b[K:\n",
      "\u001b[01m\u001b[K/usr/include/x86_64-linux-gnu/bits/stdio2.h:38:10:\u001b[m\u001b[K \u001b[01;36m\u001b[Knote: \u001b[m\u001b[K‘\u001b[01m\u001b[K__builtin___sprintf_chk\u001b[m\u001b[K’ output 2 or more bytes (assuming 513) into a destination of size 512\n",
      "   38 |   return \u001b[01;36m\u001b[K__builtin___sprintf_chk (__s, __USE_FORTIFY_LEVEL - 1,\u001b[m\u001b[K\n",
      "      |          \u001b[01;36m\u001b[K^~~~~~~~~~~~~~~~~~~~~~~~~~~~~~~~~~~~~~~~~~~~~~~~~~~~~~\u001b[m\u001b[K\n",
      "   39 | \u001b[01;36m\u001b[K                                  __glibc_objsize (__s), __fmt,\u001b[m\u001b[K\n",
      "      |                                   \u001b[01;36m\u001b[K~~~~~~~~~~~~~~~~~~~~~~~~~~~~~\u001b[m\u001b[K\n",
      "   40 | \u001b[01;36m\u001b[K                                  __va_arg_pack ())\u001b[m\u001b[K;\n",
      "      |                                   \u001b[01;36m\u001b[K~~~~~~~~~~~~~~~~~\u001b[m\u001b[K\n",
      "\u001b[01m\u001b[Kpan.c:1586:35:\u001b[m\u001b[K \u001b[01;35m\u001b[Kwarning: \u001b[m\u001b[K‘\u001b[01m\u001b[K.\u001b[m\u001b[K’ directive writing 1 byte into a region of size between 0 and 511 [\u001b[01;35m\u001b[K\u001b]8;;https://gcc.gnu.org/onlinedocs/gcc/Warning-Options.html#index-Wformat-overflow=\u0007-Wformat-overflow=\u001b]8;;\u0007\u001b[m\u001b[K]\n",
      " 1586 |         {       sprintf(fnm, \"%s%d\u001b[01;35m\u001b[K.\u001b[m\u001b[K%s\", MyFile, whichtrail, tprefix);\n",
      "      |                                   \u001b[01;35m\u001b[K^\u001b[m\u001b[K\n",
      "In file included from \u001b[01m\u001b[K/usr/include/stdio.h:894\u001b[m\u001b[K,\n",
      "                 from \u001b[01m\u001b[Kpan.c:7\u001b[m\u001b[K:\n",
      "\u001b[01m\u001b[K/usr/include/x86_64-linux-gnu/bits/stdio2.h:38:10:\u001b[m\u001b[K \u001b[01;36m\u001b[Knote: \u001b[m\u001b[K‘\u001b[01m\u001b[K__builtin___sprintf_chk\u001b[m\u001b[K’ output between 8 and 529 bytes into a destination of size 512\n",
      "   38 |   return \u001b[01;36m\u001b[K__builtin___sprintf_chk (__s, __USE_FORTIFY_LEVEL - 1,\u001b[m\u001b[K\n",
      "      |          \u001b[01;36m\u001b[K^~~~~~~~~~~~~~~~~~~~~~~~~~~~~~~~~~~~~~~~~~~~~~~~~~~~~~\u001b[m\u001b[K\n",
      "   39 | \u001b[01;36m\u001b[K                                  __glibc_objsize (__s), __fmt,\u001b[m\u001b[K\n",
      "      |                                   \u001b[01;36m\u001b[K~~~~~~~~~~~~~~~~~~~~~~~~~~~~~\u001b[m\u001b[K\n",
      "   40 | \u001b[01;36m\u001b[K                                  __va_arg_pack ())\u001b[m\u001b[K;\n",
      "      |                                   \u001b[01;36m\u001b[K~~~~~~~~~~~~~~~~~\u001b[m\u001b[K\n",
      "\u001b[01m\u001b[Kpan.c:1590:43:\u001b[m\u001b[K \u001b[01;35m\u001b[Kwarning: \u001b[m\u001b[K‘\u001b[01m\u001b[K.\u001b[m\u001b[K’ directive writing 1 byte into a region of size between 0 and 511 [\u001b[01;35m\u001b[K\u001b]8;;https://gcc.gnu.org/onlinedocs/gcc/Warning-Options.html#index-Wformat-overflow=\u0007-Wformat-overflow=\u001b]8;;\u0007\u001b[m\u001b[K]\n",
      " 1590 |                         sprintf(fnm, \"%s%d\u001b[01;35m\u001b[K.\u001b[m\u001b[K%s\",\n",
      "      |                                           \u001b[01;35m\u001b[K^\u001b[m\u001b[K\n",
      "In file included from \u001b[01m\u001b[K/usr/include/stdio.h:894\u001b[m\u001b[K,\n",
      "                 from \u001b[01m\u001b[Kpan.c:7\u001b[m\u001b[K:\n",
      "\u001b[01m\u001b[K/usr/include/x86_64-linux-gnu/bits/stdio2.h:38:10:\u001b[m\u001b[K \u001b[01;36m\u001b[Knote: \u001b[m\u001b[K‘\u001b[01m\u001b[K__builtin___sprintf_chk\u001b[m\u001b[K’ output 3 or more bytes (assuming 514) into a destination of size 512\n",
      "   38 |   return \u001b[01;36m\u001b[K__builtin___sprintf_chk (__s, __USE_FORTIFY_LEVEL - 1,\u001b[m\u001b[K\n",
      "      |          \u001b[01;36m\u001b[K^~~~~~~~~~~~~~~~~~~~~~~~~~~~~~~~~~~~~~~~~~~~~~~~~~~~~~\u001b[m\u001b[K\n",
      "   39 | \u001b[01;36m\u001b[K                                  __glibc_objsize (__s), __fmt,\u001b[m\u001b[K\n",
      "      |                                   \u001b[01;36m\u001b[K~~~~~~~~~~~~~~~~~~~~~~~~~~~~~\u001b[m\u001b[K\n",
      "   40 | \u001b[01;36m\u001b[K                                  __va_arg_pack ())\u001b[m\u001b[K;\n",
      "      |                                   \u001b[01;36m\u001b[K~~~~~~~~~~~~~~~~~\u001b[m\u001b[K\n",
      "\n",
      "(Spin Version 6.5.1 -- 20 December 2019)\n",
      "\t+ Partial Order Reduction\n",
      "\n",
      "Full statespace search for:\n",
      "\tnever claim         \t- (none specified)\n",
      "\tassertion violations\t+\n",
      "\tcycle checks       \t- (disabled by -DSAFETY)\n",
      "\tinvalid end states\t+\n",
      "\n",
      "State-vector 28 byte, depth reached 52, errors: 0\n",
      "      166 states, stored\n",
      "      129 states, matched\n",
      "      295 transitions (= stored+matched)\n",
      "        0 atomic steps\n",
      "hash conflicts:         0 (resolved)\n",
      "\n",
      "Stats on memory usage (in Megabytes):\n",
      "    0.009\tequivalent memory usage for states (stored*(State-vector + overhead))\n",
      "    0.288\tactual memory usage for states\n",
      "  128.000\tmemory used for hash table (-w24)\n",
      "    0.534\tmemory used for DFS stack (-m10000)\n",
      "  128.730\ttotal actual memory usage\n",
      "\n",
      "\n",
      "unreached in proctype p\n",
      "\tl4.1-dekker-algo-safety.pml:64, state 24, \"-end-\"\n",
      "\t(1 of 24 states)\n",
      "unreached in proctype q\n",
      "\tl4.1-dekker-algo-safety.pml:86, state 24, \"-end-\"\n",
      "\t(1 of 24 states)\n",
      "\n",
      "pan: elapsed time 0 seconds\n"
     ]
    }
   ],
   "source": [
    "# Listing 4.1. Dekker's algorithm in Promela\n",
    "# 以Safety模式运行验证\n",
    "# !spin -run -safety l4.1-dekker-algo-safety.pml\n",
    "\n"
   ]
  },
  {
   "cell_type": "markdown",
   "metadata": {},
   "source": [
    "TODO(zhoujiagen) restart after reading [The SPIN Model Checker](./SPIN-The%20SPIN%20Model%20Checker.ipynb) to know more about SPIN and PROMELA."
   ]
  },
  {
   "cell_type": "code",
   "execution_count": null,
   "metadata": {},
   "outputs": [
    {
     "name": "stdout",
     "output_type": "stream",
     "text": [
      "warning: for p.o. reduction to be valid the never claim must be stutter-invariant\n",
      "(never claims generated from LTL formulae are stutter-invariant)\n",
      "pan:1: acceptance cycle (at depth 0)\n",
      "pan: wrote l4.1-dekker-algo-acceptance.pml.trail\n",
      "\n",
      "(Spin Version 6.5.1 -- 20 December 2019)\n",
      "Warning: Search not completed\n",
      "\t+ Partial Order Reduction\n",
      "\n",
      "Full statespace search for:\n",
      "\tnever claim         \t+ (never_0)\n",
      "\tassertion violations\t+ (if within scope of claim)\n",
      "\tacceptance   cycles \t+ (fairness disabled)\n",
      "\tinvalid end states\t- (disabled by never claim)\n",
      "\n",
      "State-vector 36 byte, depth reached 11, errors: 1\n",
      "        6 states, stored\n",
      "        0 states, matched\n",
      "        6 transitions (= stored+matched)\n",
      "        0 atomic steps\n",
      "hash conflicts:         0 (resolved)\n",
      "\n",
      "Stats on memory usage (in Megabytes):\n",
      "    0.000\tequivalent memory usage for states (stored*(State-vector + overhead))\n",
      "    0.288\tactual memory usage for states\n",
      "  128.000\tmemory used for hash table (-w24)\n",
      "    0.534\tmemory used for DFS stack (-m10000)\n",
      "  128.730\ttotal actual memory usage\n",
      "\n",
      "\n",
      "\n",
      "pan: elapsed time 0 seconds\n"
     ]
    }
   ],
   "source": [
    "# 以Acceptance模式运行验证, 使用时态逻辑公式\n",
    "# NOT WORK\n",
    "# !spin -f \"[]mutex\" -run -a  l4.1-dekker-algo-acceptance.pml\n",
    "\n",
    "!spin -a l4.1-dekker-algo-acceptance.pml\n",
    "!./pan -a"
   ]
  },
  {
   "cell_type": "markdown",
   "metadata": {},
   "source": [
    "# 5. Advanced Algorithms for the Critical Section Problem"
   ]
  },
  {
   "cell_type": "markdown",
   "metadata": {},
   "source": [
    "# 6. Semaphores"
   ]
  },
  {
   "cell_type": "markdown",
   "metadata": {},
   "source": [
    "# 7. Monitors"
   ]
  },
  {
   "cell_type": "markdown",
   "metadata": {},
   "source": [
    "# 8. Channels"
   ]
  },
  {
   "cell_type": "markdown",
   "metadata": {},
   "source": [
    "# 9. Spaces"
   ]
  },
  {
   "cell_type": "markdown",
   "metadata": {},
   "source": [
    "# 10. Distributed Algorithms"
   ]
  },
  {
   "cell_type": "markdown",
   "metadata": {},
   "source": [
    "# 11. Global Properties"
   ]
  },
  {
   "cell_type": "markdown",
   "metadata": {},
   "source": [
    "# 12. Consensus"
   ]
  },
  {
   "cell_type": "markdown",
   "metadata": {},
   "source": [
    "# 13. Real-Time Systems"
   ]
  },
  {
   "cell_type": "markdown",
   "metadata": {},
   "source": [
    "# A. The Pseudocode Notation"
   ]
  },
  {
   "cell_type": "markdown",
   "metadata": {},
   "source": [
    "# B. Review of Mathematical Logic"
   ]
  },
  {
   "cell_type": "markdown",
   "metadata": {},
   "source": [
    "# C. Concurrent Programming Problems"
   ]
  },
  {
   "cell_type": "markdown",
   "metadata": {},
   "source": [
    "# D. Software Tools"
   ]
  },
  {
   "cell_type": "markdown",
   "metadata": {},
   "source": [
    "- BACI, jBACI\n",
    "- Spin, jSpin\n",
    "- DAJ: https://github.com/motib/daj\n",
    "\n",
    "\n",
    "Spin, jSpin:\n",
    "- 验证过程: 生成验证器, 执行验证器, 无错误或有错误(生成踪迹文件)\n",
    "  - 是否将LTL公式翻译为never claim\n",
    "```\n",
    "-f \"..formula..\"  translate LTL into never claim\n",
    "```\n",
    "- 三种模式\n",
    "  - safety: 用于验证安全性属性(例如无死锁), 断言和不变量(例如使用`[]`公式表达的)\n",
    "  - acceptance: 用于验证活跃性属性(例如使用`<>`公式表达式的无饥饿)\n",
    "  - non-progress: 另一种验证活跃性属性的方法, 不显式编写LTL公式.\n",
    "```\n",
    "-run\n",
    "\t\t    -safety\tcompile for safety properties only\n",
    "\t\t    -a\t    \tsearch for acceptance cycles\n",
    "\t\t    -l\t    \tsearch for non-progress cycles\n",
    "```\n",
    "- 可以选择验证时是否假设weak fairness."
   ]
  },
  {
   "cell_type": "markdown",
   "metadata": {},
   "source": [
    "jSpin\n",
    "\n",
    "```\n",
    "# gcc on widows: NOT WORK\n",
    "conda search gcc -c conda-forge\n",
    "# use MSYS2 instead\n",
    "\n",
    "# in Git Bash\n",
    "$ pwd\n",
    "/d/workspace/rtfsc/jspin\n",
    "$ which gcc\n",
    "/d/msys64/ucrt64/bin/gcc\n",
    "$ java -jar jspin.jar\n",
    "Read configuration file from current directory\n",
    "```"
   ]
  }
 ],
 "metadata": {
  "kernelspec": {
   "display_name": "Python 3",
   "language": "python",
   "name": "python3"
  },
  "language_info": {
   "codemirror_mode": {
    "name": "ipython",
    "version": 3
   },
   "file_extension": ".py",
   "mimetype": "text/x-python",
   "name": "python",
   "nbconvert_exporter": "python",
   "pygments_lexer": "ipython3",
   "version": "3.12.7"
  }
 },
 "nbformat": 4,
 "nbformat_minor": 2
}
