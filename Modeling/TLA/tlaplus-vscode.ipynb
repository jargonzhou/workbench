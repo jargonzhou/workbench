{
 "cells": [
  {
   "cell_type": "markdown",
   "metadata": {},
   "source": [
    "# VSCode TLA+ Extension\n",
    "* https://github.com/tlaplus/vscode-tlaplus\n",
    "  * old name: alygin"
   ]
  },
  {
   "cell_type": "markdown",
   "metadata": {},
   "source": [
    "# Java Options"
   ]
  },
  {
   "cell_type": "markdown",
   "metadata": {},
   "source": [
    "backup:\n",
    "\n",
    "```shell\n",
    "-cp c:\\Users\\zhouj\\.vscode\\extensions\\alygin.vscode-tlaplus-1.5.4\\tools\\CommunityModules.jar;c:\\Users\\zhouj\\.vscode\\extensions\\alygin.vscode-tlaplus-1.5.4\\tools\\CommunityModules-deps.jar -DTLA-Library=c:\\Users\\zhouj\\.vscode\\extensions\\alygin.vscode-tlaplus-1.5.4\\lib\n",
    "```\n",
    "\n",
    "Use:\n",
    "\n",
    "```shell\n",
    "-cp C:\\Users\\zhouj\\.vscode\\extensions\\tlaplus.vscode-ide-2025.1.212251\\tools\\tla2tools.jar;C:\\Users\\zhouj\\.vscode\\extensions\\tlaplus.vscode-ide-2025.1.212251\\tools\\CommunityModules-deps.jar -DTLA-Library=D:\\GoogleDrive\\wiki\\jupyter-notebooks\\Modeling\\TLA\\lib\n",
    "```"
   ]
  },
  {
   "cell_type": "markdown",
   "metadata": {},
   "source": [
    "# Module Search Paths"
   ]
  },
  {
   "cell_type": "markdown",
   "metadata": {},
   "source": [
    "```\n",
    "D:\\workspace\\rtfsc\\CommunityModules\\modules\n",
    "D:\\GoogleDrive\\wiki\\jupyter-notebooks\\Modeling\\TLA\\lib\n",
    "```"
   ]
  },
  {
   "cell_type": "markdown",
   "metadata": {},
   "source": [
    "# Example\n",
    "\n",
    "- [spec/squares.tla](./spec/squares.tla): make model check fail\n",
    "- [spec/CommunityModules.tla](./spec/CommunityModules.tla): CSV.tla\n",
    "  - https://github.com/tlaplus/CommunityModules\n",
    "- [spec/ThirdModules.tla](./spec/ThirdModules.tla): PT.tla\n",
    "  - https://github.com/Apress/practical-tla-plus/blob/master/PT/PT.tla"
   ]
  },
  {
   "cell_type": "markdown",
   "metadata": {},
   "source": [
    "# Commands\n",
    "* https://github.com/tlaplus/vscode-tlaplus/wiki/Commands\n",
    "\n",
    "* `TLA+: Parse module` for translating PlusCal to TLA+ and checking syntax of the resulting specification.\n",
    "* `TLA+: Check model` for running the TLC model checker on the TLA+ specification.\n",
    "* `TLA+: Check model with non-default config...` for running the TLC model checker on the TLA+ specification. Lets the user select a non-default model config file.\n",
    "* `TLA+: Run last model check again` for running TLC again without switching to the spec or model file.\n",
    "* `TLA+: Stop model checking` for stopping currently running TLC process. The command is only available when a model checking is in progress.\n",
    "* `TLA+: Evaluate constant expression` for evaluating an expression selected in the active editor. This command is also available in the editor context menu.\n",
    "* `TLA+: Evaluate expression...` for evaluating an arbitrary TLA+ constant expression in the context of the currently open model.\n",
    "* `TLA+: Visualize TLC output` for presenting model checking results.\n",
    "* `TLA+: Export module to LaTeX` for generating a .tex and .dvi files from a TLA+ specification.\n",
    "* `TLA+: Export module to PDF` for generating a PDF document from a TLA+ specification.\n"
   ]
  },
  {
   "cell_type": "markdown",
   "metadata": {},
   "source": [
    "# `*.cfg`\n",
    "* 'The Grammar of the Configuration File' in **Specifying Systems**\n",
    "* [`*.cfg` Config Format](https://learntla.com/topics/cli.html#cfg)"
   ]
  },
  {
   "cell_type": "markdown",
   "metadata": {},
   "source": [
    "```text\n",
    "SPECIFICATION Spec\n",
    "\n",
    "INVARIANT Inv1, Inv2\n",
    "\n",
    "PROPERTY Prop1\n",
    "\\* termination\n",
    "PROPERTIES Termination\n",
    "\n",
    "CONSTANT\n",
    "  Const1 = {\"a\", \"b\", \"c\"}\n",
    "  Const2 = Const2\n",
    "  Const3 = {c1, c2, c3}\n",
    "\n",
    "\\* ignore deadlock check\n",
    "CHECK_DEADLOCK FALSE\n",
    "```"
   ]
  }
 ],
 "metadata": {
  "language_info": {
   "name": "python"
  }
 },
 "nbformat": 4,
 "nbformat_minor": 2
}
