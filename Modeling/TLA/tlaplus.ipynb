{
 "cells": [
  {
   "cell_type": "markdown",
   "metadata": {},
   "source": [
    "# TLA+\n",
    "* https://github.com/tlaplus/tlaplus\n",
    "\n",
    "Use:\n",
    "\n",
    "```shell\n",
    "java -cp tla2tools.jar tla2sany.SANY -help  # The TLA⁺ parser\n",
    "java -cp tla2tools.jar tlc2.TLC -help       # The TLA⁺ model checker\n",
    "java -cp tla2tools.jar tlc2.REPL            # Enter the TLA⁺ REPL\n",
    "java -cp tla2tools.jar pcal.trans -help     # The PlusCal-to-TLA⁺ translator\n",
    "java -cp tla2tools.jar tla2tex.TLA -help    # The TLA⁺-to-LaTeX translator\n",
    "```\n",
    "\n",
    "\n",
    "use version 1.8.0!!!"
   ]
  },
  {
   "cell_type": "code",
   "execution_count": 5,
   "metadata": {},
   "outputs": [],
   "source": [
    "%jars C:\\\\Users\\\\zhouj\\\\bin\\\\tla2tools.jar"
   ]
  },
  {
   "cell_type": "code",
   "execution_count": 2,
   "metadata": {},
   "outputs": [
    {
     "name": "stdout",
     "output_type": "stream",
     "text": [
      "openjdk version \"11.0.22\" 2024-01-16\n",
      "OpenJDK Runtime Environment Temurin-11.0.22+7 (build 11.0.22+7)\n",
      "OpenJDK 64-Bit Server VM Temurin-11.0.22+7 (build 11.0.22+7, mixed mode)\n"
     ]
    }
   ],
   "source": [
    "%classpath D:\\\\GoogleDrive\\\\wiki\\\\jupyter-notebooks\\\\Java\\\\lib\n",
    "\n",
    "import util.*;\n",
    "Processes.run(\"java -version\");"
   ]
  },
  {
   "cell_type": "markdown",
   "metadata": {},
   "source": [
    "# SANY"
   ]
  },
  {
   "cell_type": "code",
   "execution_count": 3,
   "metadata": {},
   "outputs": [
    {
     "name": "stdout",
     "output_type": "stream",
     "text": [
      "\n",
      "\u001b[1mNAME\u001b[0m\n",
      "\n",
      "\tSANY - provides parsing, semantic analysis, and level-checking for a TLA+ spec - Version 2.2 created 08 July 2020\n",
      "\n",
      "\n",
      "\u001b[1mSYNOPSIS\u001b[0m\n",
      "\n",
      "\t\u001b[1mSANY\u001b[0m [\u001b[1m-dls\u001b[0m] [\u001b[1m-error-codes\u001b[0m] FILE...\n",
      "\n",
      "\u001b[1mDESCRIPTION\u001b[0m\n",
      "\n",
      "\t\u001b[1mSANY\u001b[0m is a parser and syntax checker for TLA+ specifications.\n",
      "\tIt catches parsing errors and some \"semantic\" errors such as\n",
      "\tpriming an expression containing primed variables.\n",
      "\n",
      "\u001b[1mOPTIONS\u001b[0m\n",
      "\n",
      "\t\u001b[1m-d\u001b[0m\n",
      "\t\tOpens the semantic graph explorer prompt. The prompt accepts the following commands:\n",
      "\t\t'cst' Prints out the concrete syntax tree.\n",
      "\t\t'dot' Emits the semantic graph to a ModuleName.dot file in the DOT graph description language.\n",
      "\t\t'mt'  Prints the module table, a list of all imported modules and their top-level definitions.\n",
      "\t\t'mt*' Prints the extended module table including built-in operator definitions.\n",
      "\t\t\n",
      "\t\tOptionally, skip the prompt and run a command directly by appending it like 'SANY -d ModuleName.tla cst'\n",
      "\t\u001b[1m-error-codes\u001b[0m\n",
      "\t\tReturn a descriptive exit code in case of error.\n",
      "\t\t\n",
      "\t\t'2' Error during parsing.\n",
      "\t\t'4' Error during semantic analysis or level-checking.\n",
      "\t\u001b[1m-l\u001b[0m\n",
      "\t\tTurns off level-checking.\n",
      "\t\u001b[1m-s\u001b[0m\n",
      "\t\tTurns off semantic analysis and level-checking.\n",
      "\n"
     ]
    }
   ],
   "source": [
    "Processes.run(\"java -cp .;C:\\\\Users\\\\zhouj\\\\bin\\\\tla2tools.jar tla2sany.SANY -help\");\n",
    "\n",
    "\n",
    "// %jars C:\\\\Users\\\\zhouj\\\\bin\\\\tla2tools.jar\n",
    "// import tla2sany.drivers.SANY;\n",
    "\n",
    "// SANY.SANYmain(new String[]{\"-help\"});"
   ]
  },
  {
   "cell_type": "markdown",
   "metadata": {},
   "source": [
    "# TLC"
   ]
  },
  {
   "cell_type": "code",
   "execution_count": 4,
   "metadata": {},
   "outputs": [
    {
     "name": "stdout",
     "output_type": "stream",
     "text": [
      "\n",
      "\u001b[1mNAME\u001b[0m\n",
      "\n",
      "\tTLC - provides model checking and simulation of TLA+ specifications - Version 2.20 of Day Month 20??\n",
      "\n",
      "\n",
      "\u001b[1mSYNOPSIS\u001b[0m\n",
      "\n",
      "\t\u001b[1mTLC\u001b[0m [\u001b[1m-h\u001b[0m] [\u001b[1m-cleanup\u001b[0m] [\u001b[1m-continue\u001b[0m] [\u001b[1m-deadlock\u001b[0m] [\u001b[1m-debug\u001b[0m] [\u001b[1m-difftrace\u001b[0m] [\u001b[1m-gzip\u001b[0m] [\u001b[1m-noGenerateSpecTE\u001b[0m] [\u001b[1m-nowarning\u001b[0m] [\u001b[1m-terse\u001b[0m] [\u001b[1m-tool\u001b[0m] [\u001b[1m-view\u001b[0m] [\u001b[1m-checkpoint\u001b[0m \u001b[3mminutes\u001b[0m] [\u001b[1m-config\u001b[0m \u001b[3mfile\u001b[0m] [\u001b[1m-coverage\u001b[0m \u001b[3mminutes\u001b[0m] [\u001b[1m-dfid\u001b[0m \u001b[3mnum\u001b[0m] [\u001b[1m-dump\u001b[0m \u001b[3mformat file\u001b[0m] [\u001b[1m-dumpTrace\u001b[0m \u001b[3mformat file\u001b[0m] [\u001b[1m-fp\u001b[0m \u001b[3mN\u001b[0m] [\u001b[1m-fpbits\u001b[0m \u001b[3mnum\u001b[0m] [\u001b[1m-fpmem\u001b[0m \u001b[3mnum\u001b[0m] [\u001b[1m-maxSetSize\u001b[0m \u001b[3mnum\u001b[0m] [\u001b[1m-metadir\u001b[0m \u001b[3mpath\u001b[0m] [\u001b[1m-postCondition\u001b[0m \u001b[3mmod!oper\u001b[0m] [\u001b[1m-recover\u001b[0m \u001b[3mid\u001b[0m] [\u001b[1m-teSpecOutDir\u001b[0m \u001b[3msome-dir-name\u001b[0m] [\u001b[1m-userFile\u001b[0m \u001b[3mfile\u001b[0m] [\u001b[1m-workers\u001b[0m \u001b[3mnum\u001b[0m] \u001b[1m-debugger\u001b[0m \u001b[3mnosuspend\u001b[0m SPEC\n",
      "\t\u001b[1mTLC\u001b[0m [\u001b[1m-h\u001b[0m] [\u001b[1m-cleanup\u001b[0m] [\u001b[1m-continue\u001b[0m] [\u001b[1m-deadlock\u001b[0m] [\u001b[1m-debug\u001b[0m] [\u001b[1m-difftrace\u001b[0m] [\u001b[1m-gzip\u001b[0m] [\u001b[1m-noGenerateSpecTE\u001b[0m] [\u001b[1m-nowarning\u001b[0m] [\u001b[1m-terse\u001b[0m] [\u001b[1m-tool\u001b[0m] [\u001b[1m-aril\u001b[0m \u001b[3mnum\u001b[0m] [\u001b[1m-checkpoint\u001b[0m \u001b[3mminutes\u001b[0m] [\u001b[1m-config\u001b[0m \u001b[3mfile\u001b[0m] [\u001b[1m-coverage\u001b[0m \u001b[3mminutes\u001b[0m] [\u001b[1m-depth\u001b[0m \u001b[3mnum\u001b[0m] [\u001b[1m-dump\u001b[0m \u001b[3mformat file\u001b[0m] [\u001b[1m-dumpTrace\u001b[0m \u001b[3mformat file\u001b[0m] [\u001b[1m-fp\u001b[0m \u001b[3mN\u001b[0m] [\u001b[1m-fpbits\u001b[0m \u001b[3mnum\u001b[0m] [\u001b[1m-fpmem\u001b[0m \u001b[3mnum\u001b[0m] [\u001b[1m-maxSetSize\u001b[0m \u001b[3mnum\u001b[0m] [\u001b[1m-metadir\u001b[0m \u001b[3mpath\u001b[0m] [\u001b[1m-postCondition\u001b[0m \u001b[3mmod!oper\u001b[0m] [\u001b[1m-recover\u001b[0m \u001b[3mid\u001b[0m] [\u001b[1m-seed\u001b[0m \u001b[3mnum\u001b[0m] [\u001b[1m-teSpecOutDir\u001b[0m \u001b[3msome-dir-name\u001b[0m] [\u001b[1m-userFile\u001b[0m \u001b[3mfile\u001b[0m] [\u001b[1m-workers\u001b[0m \u001b[3mnum\u001b[0m] \u001b[1m-debugger\u001b[0m \u001b[3mnosuspend\u001b[0m -simulate [file=X,num=Y] SPEC\n",
      "\n",
      "\u001b[1mDESCRIPTION\u001b[0m\n",
      "\n",
      "\tThe model checker (\u001b[1mTLC\u001b[0m) provides the functionalities of model checking\n",
      "\tor simulation of TLA+ specifications. It may be invoked from the command\n",
      "\tline, or via the model checking functionality of the Toolbox.\n",
      "\t\n",
      "\tBy default, \u001b[1mTLC\u001b[0m starts in the model checking mode using breadth-first\n",
      "\tapproach for the state space exploration.\n",
      "\t\n",
      "\tA pretty-printed and in-depth description of \u001b[1mTLC\u001b[0m can be found at:\n",
      "\t\n",
      "\t\t    https://lamport.azurewebsites.net/tla/current-tools.pdf\n",
      "\n",
      "\u001b[1mOPTIONS\u001b[0m\n",
      "\n",
      "\t\u001b[1m-aril\u001b[0m \u001b[3mnum\u001b[0m\n",
      "\t\tadjust the seed for random simulation; defaults to 0\n",
      "\t\u001b[1m-checkpoint\u001b[0m \u001b[3mminutes\u001b[0m\n",
      "\t\tinterval between check point; defaults to 30\n",
      "\t\u001b[1m-cleanup\u001b[0m\n",
      "\t\tclean up the states directory\n",
      "\t\u001b[1m-config\u001b[0m \u001b[3mfile\u001b[0m\n",
      "\t\tprovide the configuration file; defaults to SPEC.cfg\n",
      "\t\u001b[1m-continue\u001b[0m\n",
      "\t\tcontinue running even when an invariant is violated; default\n",
      "\t\tbehavior is to halt on first violation\n",
      "\t\u001b[1m-coverage\u001b[0m \u001b[3mminutes\u001b[0m\n",
      "\t\tinterval between the collection of coverage information;\n",
      "\t\tif not specified, no coverage will be collected\n",
      "\t\u001b[1m-deadlock\u001b[0m\n",
      "\t\tif specified DO NOT CHECK FOR DEADLOCK. Setting the flag is\n",
      "\t\tthe same as setting CHECK_DEADLOCK to FALSE in config\n",
      "\t\tfile. When -deadlock is specified, config entry is\n",
      "\t\tignored; default behavior is to check for deadlocks\n",
      "\t\u001b[1m-debug\u001b[0m\n",
      "\t\tprint various debugging information - not for production use\n",
      "\t\t\n",
      "\t\u001b[1m-debugger\u001b[0m \u001b[3mnosuspend\u001b[0m\n",
      "\t\trun simulation or model-checking in debug mode such that TLC's\n",
      "\t\tstate-space exploration can be temporarily halted and variables\n",
      "\t\tbe inspected. The only debug front-end so far is the TLA+\n",
      "\t\tVSCode extension, which has to be downloaded and configured\n",
      "\t\tseparately, though other front-ends could be implemeted via the\n",
      "\t\tdebug-adapter-protocol.\n",
      "\t\tSpecifying the optional parameter 'nosuspend' causes\n",
      "\t\tTLC to start state-space exploration without waiting for a\n",
      "\t\tdebugger front-end to connect. Without 'nosuspend', TLC\n",
      "\t\tsuspends state-space exploration before the first ASSUME is\n",
      "\t\tevaluated (but after constants are processed). With 'nohalt',\n",
      "\t\tTLC does not halt state-space exploration when an evaluation\n",
      "\t\tor runtime error is caught. Without 'nohalt', evaluation or\n",
      "\t\truntime errors can be inspected in the debugger before TLC\n",
      "\t\tterminates. The optional parameter 'port=1274' makes the\n",
      "\t\tdebugger listen on port 1274 instead of on the standard\n",
      "\t\tport 4712, and 'port=0' lets the debugger choose a port.\n",
      "\t\tMultiple optional parameters must be comma-separated.\n",
      "\t\tSpecifying '-debugger' implies '-workers 1'.\n",
      "\t\u001b[1m-depth\u001b[0m \u001b[3mnum\u001b[0m\n",
      "\t\tspecifies the depth of random simulation; defaults to 100\n",
      "\t\u001b[1m-dfid\u001b[0m \u001b[3mnum\u001b[0m\n",
      "\t\trun the model check in depth-first iterative deepening\n",
      "\t\tstarting with an initial depth of 'num'\n",
      "\t\u001b[1m-difftrace\u001b[0m\n",
      "\t\tshow only the differences between successive states when\n",
      "\t\tprinting trace information; defaults to printing\n",
      "\t\tfull state descriptions\n",
      "\t\u001b[1m-dump\u001b[0m \u001b[3mformat file\u001b[0m\n",
      "\t\tdump all states into the specified file.\n",
      "\t\tThe format parameter can be omitted, or it can be a comma-separated\n",
      "\t\tlist beginning with 'dot' that may also contain a subset of\n",
      "\t\tthe items 'colorize', 'actionlabels', and 'constrained'. If format is\n",
      "\t\tomitted, TLC writes a list of all reachable states, described by TLA+\n",
      "\t\tformulas, on file. Otherwise, TLC writes the state graph in dot format,\n",
      "\t\tthe input format of the GraphViz program for displaying graphs. \n",
      "\t\tThe parameter 'colorize' indicates that state transitions should be \n",
      "\t\tcolored according to the action generating the transition,  \n",
      "\t\tand 'actionlabels' indicates that they should be labeled with \n",
      "\t\tthe name of the action. The parameter 'constrained' causes TLC to include\n",
      "\t\tstates in the dot file that are excluded from the model via a state or\n",
      "\t\taction constraint.\n",
      "\t\u001b[1m-dumpTrace\u001b[0m \u001b[3mformat file\u001b[0m\n",
      "\t\tin case of a property violation, formats the TLA+ error trace\n",
      "\t\tas the given format and dumps the output to the specified\n",
      "\t\tfile.  The file is relative to the same directory as the\n",
      "\t\tmain spec. At the time of writing, TLC supports the \"tla\"\n",
      "\t\tand the \"json\" formats.  To dump to multiple formats, the\n",
      "\t\t-dumpTrace parameter may appear multiple times.\n",
      "\t\tThe git commits 1eb815620 and 386eaa19f show that adding new\n",
      "\t\tformats is easy.\n",
      "\t\t\n",
      "\t\u001b[1m-fp\u001b[0m \u001b[3mN\u001b[0m\n",
      "\t\tuse the Nth irreducible polynomial from the list stored\n",
      "\t\tin the class FP64\n",
      "\t\u001b[1m-fpbits\u001b[0m \u001b[3mnum\u001b[0m\n",
      "\t\tthe number of MSB used by MultiFPSet to create nested\n",
      "\t\tFPSets; defaults to 1\n",
      "\t\u001b[1m-fpmem\u001b[0m \u001b[3mnum\u001b[0m\n",
      "\t\ta value in (0.0,1.0) representing the ratio of total\n",
      "\t\tphysical memory to devote to storing the fingerprints\n",
      "\t\tof found states; defaults to 0.25\n",
      "\t\u001b[1m-gzip\u001b[0m\n",
      "\t\tcontrol if gzip is applied to value input/output streams;\n",
      "\t\tdefaults to 'off'\n",
      "\t\u001b[1m-h\u001b[0m\n",
      "\t\tdisplay these help instructions\n",
      "\t\u001b[1m-maxSetSize\u001b[0m \u001b[3mnum\u001b[0m\n",
      "\t\tthe size of the largest set which TLC will enumerate; defaults\n",
      "\t\tto 1000000 (10^6)\n",
      "\t\u001b[1m-metadir\u001b[0m \u001b[3mpath\u001b[0m\n",
      "\t\tspecify the directory in which to store metadata; defaults to\n",
      "\t\tSPEC-directory/states if not specified\n",
      "\t\u001b[1m-noGenerateSpecTE\u001b[0m\n",
      "\t\tWhether to skip generating a trace exploration (TE) spec in\n",
      "\t\tthe event of TLC finding a state or behavior that does\n",
      "\t\tnot satisfy the invariants; TLC's default behavior is to\n",
      "\t\tgenerate this spec.\n",
      "\t\u001b[1m-nowarning\u001b[0m\n",
      "\t\tdisable all warnings; defaults to reporting warnings\n",
      "\t\u001b[1m-postCondition\u001b[0m \u001b[3mmod!oper\u001b[0m\n",
      "\t\tevaluate the given (constant-level) operator oper in the TLA+\n",
      "\t\tmodule mod at the end of model-checking.\n",
      "\t\u001b[1m-recover\u001b[0m \u001b[3mid\u001b[0m\n",
      "\t\trecover from the checkpoint with the specified id\n",
      "\t\u001b[1m-seed\u001b[0m \u001b[3mnum\u001b[0m\n",
      "\t\tprovide the seed for random simulation; defaults to a\n",
      "\t\trandom long pulled from a pseudo-RNG\n",
      "\t\u001b[1m-simulate\u001b[0m\n",
      "\t\trun in simulation mode; optional parameters may be specified\n",
      "\t\tcomma delimited: 'num=X' where X is the maximum number of\n",
      "\t\ttotal traces to generate and/or 'file=Y' where Y is the\n",
      "\t\tabsolute-pathed prefix for trace file modules to be written\n",
      "\t\tby the simulation workers; for example Y='/a/b/c/tr' would\n",
      "\t\tproduce, e.g, '/a/b/c/tr_1_15'\n",
      "\t\u001b[1m-teSpecOutDir\u001b[0m \u001b[3msome-dir-name\u001b[0m\n",
      "\t\tDirectory to which to output the TE spec if TLC generates\n",
      "\t\tan error trace. Can be a relative (to root spec dir)\n",
      "\t\tor absolute path. By default the TE spec is output\n",
      "\t\tto the same directory as the main spec.\n",
      "\t\u001b[1m-terse\u001b[0m\n",
      "\t\tdo not expand values in Print statements; defaults to\n",
      "\t\texpanding values\n",
      "\t\u001b[1m-tool\u001b[0m\n",
      "\t\trun in 'tool' mode, surrounding output with message codes;\n",
      "\t\tif '-generateSpecTE' is specified, this is enabled\n",
      "\t\tautomatically\n",
      "\t\u001b[1m-userFile\u001b[0m \u001b[3mfile\u001b[0m\n",
      "\t\tan absolute path to a file in which to log user output (for\n",
      "\t\texample, that which is produced by Print)\n",
      "\t\u001b[1m-view\u001b[0m\n",
      "\t\tapply VIEW (if provided) when printing out states\n",
      "\t\u001b[1m-workers\u001b[0m \u001b[3mnum\u001b[0m\n",
      "\t\tthe number of TLC worker threads; defaults to 1. Use 'auto'\n",
      "\t\tto automatically select the number of threads based on the\n",
      "\t\tnumber of available cores.\n",
      "\n",
      "\u001b[1mTIPS\u001b[0m\n",
      "\n",
      "\tWhen using the  '-generateSpecTE' you can version the generated specification by doing:\n",
      "\t\t./tla2tools.jar -generateSpecTE MySpec.tla && NAME=\"SpecTE-$(date +%s)\" && sed -e \"s/MODULE SpecTE/MODULE $NAME/g\" SpecTE.tla > $NAME.tla\n",
      "\n",
      "\tIf, while checking a SpecTE created via '-generateSpecTE', you get an error message concerning\n",
      "\tCONSTANT declaration and you've previous used 'integers' as model values, rename your\n",
      "\tmodel values to start with a non-numeral and rerun the model check to generate a new SpecTE.\n",
      "\n",
      "\tIf, while checking a SpecTE created via '-generateSpecTE', you get a warning concerning\n",
      "\tduplicate operator definitions, this is likely due to the 'monolith' specification\n",
      "\tcreation. Try re-running TLC adding the 'nomonolith' option to the '-generateSpecTE'\n",
      "\tparameter.\n",
      "\n",
      "\tWhen using more than one worker, the reported depth might differ across runs. For small models, use a single worker. For large models, the diameter will almost always appear deterministic.\n",
      "\n"
     ]
    }
   ],
   "source": [
    "Processes.run(\"java -cp .;C:\\\\Users\\\\zhouj\\\\bin\\\\tla2tools.jar tlc2.TLC -help\");"
   ]
  },
  {
   "cell_type": "markdown",
   "metadata": {},
   "source": [
    "## example"
   ]
  },
  {
   "cell_type": "code",
   "execution_count": null,
   "metadata": {},
   "outputs": [
    {
     "name": "stdout",
     "output_type": "stream",
     "text": [
      "TLC2 Version 2.20 of Day Month 20?? (rev: df55052)\n",
      "Warning: Please run the Java VM, which executes TLC with a throughput optimized garbage collector, by passing the \"-XX:+UseParallelGC\" property.\n",
      "(Use the -nowarning option to disable this warning.)\n",
      "Running breadth-first search Model-Checking with fp 13 and seed -5226292603091414284 with 1 worker on 20 cores with 8124MB heap and 64MB offheap memory [pid: 30012] (Windows 11 10.0 amd64, Eclipse Adoptium 17.0.9 x86_64, MSBDiskFPSet, DiskStateQueue).\n",
      "Parsing file D:\\GoogleDrive\\wiki\\jupyter-notebooks\\Modeling\\TLA\\spec\\squares.tla (file:/d:/GoogleDrive/wiki/jupyter-notebooks/Modeling/TLA/spec/squares.tla)\n",
      "Labels added.\n",
      "Parsing file C:\\Users\\zhouj\\AppData\\Local\\Temp\\tlc-18185757944639032408\\TLC.tla (jar:file:/C:/Users/zhouj/bin/tla2tools.jar!/tla2sany/StandardModules/TLC.tla)\n",
      "Parsing file C:\\Users\\zhouj\\AppData\\Local\\Temp\\tlc-18185757944639032408\\Integers.tla (jar:file:/C:/Users/zhouj/bin/tla2tools.jar!/tla2sany/StandardModules/Integers.tla)\n",
      "Parsing file C:\\Users\\zhouj\\AppData\\Local\\Temp\\tlc-18185757944639032408\\_TLCTrace.tla (jar:file:/C:/Users/zhouj/bin/tla2tools.jar!/tla2sany/StandardModules/_TLCTrace.tla)\n",
      "Parsing file C:\\Users\\zhouj\\AppData\\Local\\Temp\\tlc-18185757944639032408\\Naturals.tla (jar:file:/C:/Users/zhouj/bin/tla2tools.jar!/tla2sany/StandardModules/Naturals.tla)\n",
      "Parsing file C:\\Users\\zhouj\\AppData\\Local\\Temp\\tlc-18185757944639032408\\Sequences.tla (jar:file:/C:/Users/zhouj/bin/tla2tools.jar!/tla2sany/StandardModules/Sequences.tla)\n",
      "Parsing file C:\\Users\\zhouj\\AppData\\Local\\Temp\\tlc-18185757944639032408\\FiniteSets.tla (jar:file:/C:/Users/zhouj/bin/tla2tools.jar!/tla2sany/StandardModules/FiniteSets.tla)\n",
      "Parsing file C:\\Users\\zhouj\\AppData\\Local\\Temp\\tlc-18185757944639032408\\TLCExt.tla (jar:file:/C:/Users/zhouj/bin/tla2tools.jar!/tla2sany/StandardModules/TLCExt.tla)\n",
      "Semantic processing of module Naturals\n",
      "Semantic processing of module Sequences\n",
      "Semantic processing of module FiniteSets\n",
      "Semantic processing of module TLC\n",
      "Semantic processing of module Integers\n",
      "Semantic processing of module TLCExt\n",
      "Semantic processing of module _TLCTrace\n",
      "Semantic processing of module squares\n",
      "Starting... (2025-01-22 16:40:39)\n",
      "Computing initial states...\n",
      "Computed 2 initial states...\n",
      "Computed 4 initial states...\n",
      "Computed 8 initial states...\n",
      "Finished computing initial states: 10 distinct states generated at 2025-01-22 16:40:40.\n",
      "Error: The first argument of Assert evaluated to FALSE; the second argument was:\n",
      "\"Failure of assertion at line 12, column 5.\"\n",
      "Error: The behavior up to this point is:\n",
      "State 1: <Initial predicate>\n",
      "/\\ x = 10\n",
      "/\\ pc = \"Lbl_1\"\n",
      "\n",
      "Error: The error occurred when TLC was evaluating the nested\n",
      "expressions at the following positions:\n",
      "0. Line 23, column 10 to line 26, column 18 in squares\n",
      "1. Line 23, column 13 to line 23, column 24 in squares\n",
      "2. Line 24, column 13 to line 24, column 77 in squares\n",
      "\n",
      "\n",
      "19 states generated, 19 distinct states found, 9 states left on queue.\n",
      "The depth of the complete state graph search is 2.\n",
      "Finished in 00s at (2025-01-22 16:40:40)\n"
     ]
    },
    {
     "ename": "",
     "evalue": "",
     "output_type": "error",
     "traceback": [
      "\u001b[1;31mThe Kernel crashed while executing code in the current cell or a previous cell. \n",
      "\u001b[1;31mPlease review the code in the cell(s) to identify a possible cause of the failure. \n",
      "\u001b[1;31mClick <a href='https://aka.ms/vscodeJupyterKernelCrash'>here</a> for more info. \n",
      "\u001b[1;31mView Jupyter <a href='command:jupyter.viewOutput'>log</a> for further details."
     ]
    }
   ],
   "source": [
    "Processes.run(\"java -cp .;C:\\\\Users\\\\zhouj\\\\bin\\\\tla2tools.jar tlc2.TLC -config squares.cfg squares.tla\", \"spec\");"
   ]
  },
  {
   "cell_type": "markdown",
   "metadata": {},
   "source": [
    "# PlusCal"
   ]
  },
  {
   "cell_type": "code",
   "execution_count": 5,
   "metadata": {},
   "outputs": [
    {
     "name": "stdout",
     "output_type": "stream",
     "text": [
      "pcal.trans Version 1.12 of 01 July 2024\n",
      "This is the PlusCal translator, which translates a PlusCal algorithm into\n",
      "a TLA+ specification.  The translator is called by typing\n",
      "\n",
      "   java pcal.trans [options] input-file\n",
      "\n",
      "where input-file is a TLA+ file (the extension .tla need not be typed)\n",
      "containing the algorithm.  See the +cal manual for an explanation of\n",
      "what the TLA+ file must contain.  The possible options are\n",
      "\n",
      "  -help  : Types this file instead of running the translator.\n",
      "\n",
      "  -wf : Conjoin to formula Spec weak fairness of each process's\n",
      "        next-state action\n",
      "\n",
      "  -sf : Conjoin to formula Spec strong fairness of each process's\n",
      "        next-state action\n",
      "\n",
      "  -wfNext : Conjoin to formula Spec weak fairness of the entire\n",
      "            next-state action\n",
      "\n",
      "  -nof : Conjoin no fairness formula to Spec.  This is the default,\n",
      "         except when the -termination option is chosen.\n",
      "\n",
      "  -termination : Add to the .cfg file the command\n",
      "                    PROPERTY Termination\n",
      "                 With this option, the default fairness option\n",
      "                 becomes -wf.\n",
      "\n",
      "  -nocfg : Suppress writing of the .cfg file.\n",
      "\n",
      "  -label : Tells the translator to add missing labels.  This is\n",
      "           the default only for a uniprocess algorithm in which\n",
      "           the user has typed no labels.\n",
      "\n",
      "  -reportLabels : True if the translator should print the names\n",
      "                  and locations of all labels it adds.  Like\n",
      "                  -label, it tells the translator to add missing\n",
      "                  labels.\n",
      "\n",
      "  -labelRoot name : If the translator adds missing labels, it\n",
      "                    names them name1, name2, etc.  The default value\n",
      "                    is \"Lbl_\".\n",
      "\n",
      "  -lineWidth : The translation tries to perform the translation so\n",
      "               lines have this maximum width.  (It will often\n",
      "               fail.)  Default is 78, minimum value is 60.\n",
      "\n",
      "  -version : The version of PlusCal for which this algorithm is\n",
      "             written.  If the language is ever changed to make\n",
      "             algorithms written for earlier versions no longer\n",
      "             legal, then the translator should do the appropriate\n",
      "             thing when the earlier version number is specified. \n",
      "\n",
      "  -unixEOL : Forces the use of Unix end-of-line convention, regardless\n",
      "             of the system's default.  Without this, when run on\n",
      "             Windows, the files it writes seem to have a \"^M\" at the\n",
      "             end of every line when viewed with Emacs.\n",
      "\n",
      "  -spec name : Uses TLC and the TLA+ specification name.tla to do\n",
      "               the translation.  It copies the files name.tla and\n",
      "               name.cfg from the directory containing the translator's\n",
      "               Java source files to the current directory; it writes in\n",
      "               the current director the file AST.tla that defines\n",
      "               `fairness' to equal the fairness option and `ast' to\n",
      "               equal the the AST data structure representing the\n",
      "               algorithm; and it runs TLC on name.tla to produce the\n",
      "               translation.\n",
      "\n",
      "  -myspec name : Like -spec, except it finds the files names.tla\n",
      "                 and names.cfg in the current directory, instead\n",
      "                 of writing them there.\n",
      "\n",
      "  -spec2   name\n",
      "  -myspec2 name : Like -spec and -myspec, except they use TLC2\n",
      "                  instead of TLC (aka TLC1).\n",
      "\n",
      "  -writeAST : Writes the AST file as in the -spec option, but does\n",
      "              not perform the translation.\n",
      "\n",
      "  -debug : This is useful only for maintainers of the program\n",
      "           and has no effect on normal execution.\n",
      "\n"
     ]
    }
   ],
   "source": [
    "Processes.run(\"java -cp .;C:\\\\Users\\\\zhouj\\\\bin\\\\tla2tools.jar pcal.trans -help\");"
   ]
  },
  {
   "cell_type": "markdown",
   "metadata": {},
   "source": [
    "## example"
   ]
  },
  {
   "cell_type": "code",
   "execution_count": 2,
   "metadata": {},
   "outputs": [
    {
     "name": "stdout",
     "output_type": "stream",
     "text": [
      "pcal.trans Version 1.12 of 01 July 2024\n",
      "Labels added.\n",
      "Parsing completed.\n",
      "Translation completed.\n",
      "New file squares.tla written.\n",
      "New file squares.cfg written.\n"
     ]
    }
   ],
   "source": [
    "Processes.run(\"java -cp .;C:\\\\Users\\\\zhouj\\\\bin\\\\tla2tools.jar pcal.trans squares.tla\", \"spec\");"
   ]
  },
  {
   "cell_type": "markdown",
   "metadata": {},
   "source": [
    "# Specification"
   ]
  },
  {
   "cell_type": "markdown",
   "metadata": {},
   "source": [
    "## TLA+ Template example\n",
    "\n",
    "```TLA+\n",
    "---------------------- MODULE HourClock ----------------------\n",
    "(************************************************************)\n",
    "(* This module specifies ...                                *)\n",
    "(************************************************************)\n",
    "EXTENDS Naturals \\* comments\n",
    "VARIABLE hr\n",
    "HCini == hr \\in (1 .. 12)\n",
    "HCnxt == hr' = IF hr # 12 THEN hr + 1 ELSE 1\n",
    "HC == HCini /\\ [][HCnxt]_hr\n",
    "--------------------------------------------------------------\n",
    "THEOREM HC => []HCini\n",
    "==============================================================\n",
    "```"
   ]
  },
  {
   "cell_type": "markdown",
   "metadata": {},
   "source": [
    "## TLA+ with PlusCal Template:\n",
    "\n",
    "```TLA+\n",
    "---- MODULE moduleName ----\n",
    "\\* EXTENDS TLC, Integers, Sequences\n",
    "\\* CONSTANTS N\n",
    "\n",
    "(*--algorithm <algorithm-name>\n",
    "\\* VarDecls\n",
    "\\* Definitions\n",
    "\\* Macro\n",
    "\\* Procedure\n",
    "\\* AlgorithmBody or Process\n",
    "end algorithm;*)\n",
    "====\n",
    "```\n",
    "\n",
    "`skip`:\n",
    "\n",
    "\n",
    "```TLA+\n",
    "---- MODULE squares ----\n",
    "EXTENDS TLC, Integers\n",
    "\n",
    "(*--algorithm squares\n",
    "\n",
    "begin\n",
    "    skip;\n",
    "end algorithm; *)\n",
    "====\n",
    "```"
   ]
  },
  {
   "cell_type": "markdown",
   "metadata": {},
   "source": [
    "## Symbols"
   ]
  },
  {
   "cell_type": "markdown",
   "metadata": {},
   "source": [
    "| typeset                                      | ASCII                | typeset                                                  | ASCII            | typeset                           | ASCII         |\n",
    "| :------------------------------------------- | -------------------- | -------------------------------------------------------- | ---------------- | --------------------------------- | ------------- |\n",
    "| $\\land$                                      | `/\\`, `\\land`        | $\\lor$                                                   | `\\/`, `\\lor`     | $\\implies$                        | `=>`          |\n",
    "| $\\lnot$                                      | `~`, `\\lnot`, `\\neg` | $\\equiv$                                                 | `<=>`, `\\equiv`  | $\\triangleq$                      | `==`          |\n",
    "| $\\in$                                        | `\\in`                | $\\notin$                                                 | `\\notin`         | $\\neq$                            | `#`, `/=`     |\n",
    "| $\\langle$                                    | `<<`                 | $\\rangle$                                                | `<<`             | $\\Box$                            | `[]`          |\n",
    "| $<$                                          | `<`                  | $>$                                                      | `>`              | $\\Diamond$                        | `<>`          |\n",
    "| $\\leq$                                       | `\\leq`, `=<`, `<=`   | $\\geq$                                                   | `geq`, `>=`      | $\\rightsquigarrow$                | `~>`          |\n",
    "| $\\ll$                                        | `\\ll`                | $\\gg$                                                    | `\\gg`            | $\\overset{+}{-\\vartriangleright}$ | `-+->`        |\n",
    "| $\\prec$                                      | `\\prec`              | $\\succ$                                                  | `\\succ`          | $\\mapsto$                         | `\\|->`        |\n",
    "| $\\preceq$                                    | `\\preceq`            | $\\succeq$                                                | `\\succeq`        | $\\div$                            | `\\div`        |\n",
    "| $\\subseteq$                                  | `\\subseteq`          | $\\supseteq$                                              | `\\supseteq`      | $\\cdot$                           | `\\cdot`       |\n",
    "| $\\subset$                                    | `\\subset`            | $\\supset$                                                | `\\supset`        | $\\circ$                           | `\\o`, `\\circ` |\n",
    "| $\\sqsubset$                                  | `\\sqsubset`          | $\\sqsubset$                                              | `\\sqsubset`      | $\\bullet$                         | `\\bullet`     |\n",
    "| $\\sqsubseteq$                                | `\\sqsubseteq`        | $\\sqsupseteq$                                            | `\\sqsupseteq`    | $\\star$                           | `\\star`       |\n",
    "| $\\vdash$                                     | `\\|-`                | $\\dashv$                                                 | `-\\|`            | $\\bigcirc$                        | `\\bigcirc`    |\n",
    "| $\\models$                                    | `\\|=`                | $\\mathrm{⫤}$                                             | `=\\|`            | $\\sim$                            | `\\sim`        |\n",
    "| $\\to$                                        | `->`                 | $\\gets$                                                  | `<-`             | $\\simeq$                          | `\\sim`        |\n",
    "| $\\cap$                                       | `\\cap`, `\\intersect` | $\\cup$                                                   | `\\cup`, `\\union` | $\\simeq$                          | `\\simeq`      |\n",
    "| $\\sqcap$                                     | `\\sqcap`             | $\\sqcup$                                                 | `\\sqcup`         | $\\asymp$                          | `\\asymp`      |\n",
    "| $\\oplus$                                     | `(+)`, `\\oplus`      | $\\uplus$                                                 | `\\uplus`         | $\\approx$                         | `\\approx`     |\n",
    "| $\\ominus$                                    | `(-)`, `\\ominus`     | $\\times$                                                 | `\\X`, `\\times`   | $\\cong$                           | `\\cong`       |\n",
    "| $\\odot$                                      | `(.)`, `\\odot`       | $\\wr$                                                    | `\\wr`            | $\\doteq$                          | `\\doteq`      |\n",
    "| $\\otimes$                                    | `(\\X)`, `\\otimes`    | $\\propto$                                                | `\\propto`        | $x^{y}$                           | `x^y`         |\n",
    "| $\\oslash$                                    | `(/)`, `\\oslash`     | $^“s^”$                                                  | `\"s\"`            | $x^{+}$                           | `x^+`         |\n",
    "| $\\exists$                                    | `\\E`                 | $\\forall$                                                | `\\A`             | $x^{*}$                           | `x^*`         |\n",
    "| $\\textbf{∃}$                                 | `\\EE`                | $\\textbf{∀}$                                             | `\\AA`            | $x^{\\#}$                          | `x^#`         |\n",
    "| $\\\\]_v$                                      | `]_v`                | $\\rangle_v$                                              | `>>_v`           | $'$                               | `'`           |\n",
    "| $\\mathrm{WF_v}$                              | `WF_v`               | $\\mathrm{SF_v}$                                          | `SF_v`           |                                   |               |\n",
    "| $\\ulcorner\\overline{}\\overline{}\\overline{}$ | <b>`------`</b>      | $\\overline{}\\overline{}\\overline{}\\urcorner$             | <b>`------`</b>  |                                   |               |\n",
    "| $\\vdash-\\dashv$                              | `------`             | $\\llcorner\\underline{}\\underline{}\\underline{}\\lrcorner$ | <b>`======`</b>  |                                   |               |\n"
   ]
  },
  {
   "cell_type": "markdown",
   "metadata": {},
   "source": [
    "# Conventions"
   ]
  },
  {
   "cell_type": "markdown",
   "metadata": {},
   "source": [
    "## Model Checking Results"
   ]
  },
  {
   "cell_type": "markdown",
   "metadata": {},
   "source": [
    "- without an error\n",
    "\n",
    "Copy 'Model Checking Result' - 'Statistics' - 'States Found' and 'Distinct States'.\n",
    "\n",
    "```TLA+\n",
    "(* Model Checking Results *)\n",
    "StatesFound == 4\n",
    "DistinctStates == 3\n",
    "\n",
    "(* TLC Errors *)\n",
    "Error == \"no\"\n",
    "```"
   ]
  },
  {
   "cell_type": "markdown",
   "metadata": {},
   "source": [
    "- with an error\n",
    "\n",
    "Copy 'TLC Errors' - 'Description'.\n",
    "\n",
    "Copy 'TLC Errors' - 'Error-Trace'.\n",
    "\n",
    "highlight lines according to 'TCL Errors' - 'Error-Trace'.\n",
    "\n",
    "in case of final state is *stuttering*, add and highlight `<Stuttering>` to the end.\n",
    "\n",
    "in case of others not in copied content, add them to the end, for example `<Back to state 1>`. \n",
    "\n",
    "\n",
    "> TODO: no highlight line here!!!"
   ]
  },
  {
   "cell_type": "markdown",
   "metadata": {},
   "source": [
    "```TLA {25, 28}\n",
    "(* Model Checking Results *)\n",
    "StatesFound == 22\n",
    "DistinctStates == 17\n",
    "\n",
    "(* TLC Errors *)\n",
    "Error == \"Invariant NoOverdrafts is violated.\"\n",
    "ErrorTrace == \n",
    "<<\n",
    "[\n",
    " _TEAction |-> [\n",
    "   position |-> 1,\n",
    "   name |-> \"Initial predicate\",\n",
    "   location |-> \"Unknown location\"\n",
    " ],\n",
    "acc |-> [alice |-> 5, bob |-> 5],\n",
    "amount |-> 6,\n",
    "pc |-> \"Withdraw\",\n",
    "people |-> {\"alice\", \"bob\"},\n",
    "receiver |-> \"bob\",\n",
    "sender |-> \"alice\"\n",
    "],\n",
    "[\n",
    " _TEAction |-> [\n",
    "   position |-> 2,\n",
    "   name |-> \"Withdraw\",                                                           <===\n",
    "   location |-> \"line 42, col 13 to line 45, col 63 of module wire\"\n",
    " ],\n",
    "acc |-> [alice |-> -1, bob |-> 5],                                                <===\n",
    "amount |-> 6,\n",
    "pc |-> \"Deposit\",\n",
    "people |-> {\"alice\", \"bob\"},\n",
    "receiver |-> \"bob\",\n",
    "sender |-> \"alice\"\n",
    "]\n",
    ">>\n",
    "```"
   ]
  },
  {
   "cell_type": "markdown",
   "metadata": {},
   "source": [
    "# RTFSC\n",
    "* https://github.com/tlaplus/tlaplus/blob/master/DEVELOPING.md\n",
    "  * TLA+ Tools: tlatools/org.lamport.tlatools, tla2tools.jar\n",
    "    * [Eclipse IDE for RCP and RAP Developers](https://www.eclipse.org/downloads/packages/release/2024-06/r/eclipse-ide-rcp-and-rap-developers): A complete set of tools for developers who want to create Eclipse plug-ins, Rich Client Applications or Remote Application Platform (RCP+RAP), plus Maven and Gradle tooling, and an XML editor. It contains the EGit tooling for accessing Git version control systems, and Eclipse Passage which helps with license management for Eclipse-based products.\n",
    "  * Toolbox IDE\n",
    "    * https://github.com/tlaplus/tlaplus/blob/master/general/ide/README.md\n",
    "    * [Eclipse installer](https://www.eclipse.org/downloads/packages/installer): The installer is provided by the Oomph project."
   ]
  },
  {
   "cell_type": "markdown",
   "metadata": {},
   "source": [
    "## TLA+ Tools"
   ]
  },
  {
   "cell_type": "code",
   "execution_count": 6,
   "metadata": {},
   "outputs": [
    {
     "name": "stdout",
     "output_type": "stream",
     "text": [
      "openjdk version \"11.0.22\" 2024-01-16\n",
      "OpenJDK Runtime Environment Temurin-11.0.22+7 (build 11.0.22+7)\n",
      "OpenJDK 64-Bit Server VM Temurin-11.0.22+7 (build 11.0.22+7, mixed mode)\n"
     ]
    }
   ],
   "source": [
    "Processes.run(\"java -version\");"
   ]
  },
  {
   "cell_type": "code",
   "execution_count": 5,
   "metadata": {},
   "outputs": [
    {
     "name": "stdout",
     "output_type": "stream",
     "text": [
      "Buildfile: D:\\workspace\\rtfsc\\tlaplus\\tlatools\\org.lamport.tlatools\\customBuild.xml\n",
      "\n",
      "git-revision:\n",
      "\n",
      "info:\n",
      "     [echo] ANT_HOME       : C:\\Users\\zhouj\\.sdkman\\candidates\\ant\\current\\bin\\..\n",
      "     [echo] Ant Version    : Apache Ant(TM) version 1.10.14 compiled on August 16 2023\n",
      "     [echo] Java Version   : 11\n",
      "     [echo] Skipping Tests : ${test.skip}\n",
      "     [echo] Git BuildNumber: _v1.8.0_df55052\n",
      "     [echo] Timestamp      : 2025-01-25T03:21:40.390Z\n",
      "\n",
      "clean:\n",
      "\n",
      "generate:\n",
      "     [java] Java Compiler Compiler Version 4.0 (Parser Generator)\n",
      "     [java] (type \"javacc\" with no arguments for help)\n",
      "     [java] Reading from file javacc/tla+.jj . . .\n",
      "     [java] Warning: Choice conflict involving two expansions at\n",
      "     [java]          line 2784, column 7 and line 2802, column 7 respectively.\n",
      "     [java]          A common prefix is: \"CASE\"\n",
      "     [java]          Consider using a lookahead of 2 for earlier expansion.\n",
      "     [java] Warning: Line 1312, Column 3: Non-ASCII characters used in regular expression.\n",
      "     [java] Please make sure you use the correct Reader when you create the parser that can handle your character set.\n",
      "     [java] Warning:  \"\\u2208\" cannot be matched as a string literal token at line 1261, column 33. It will be matched as  <IN>.\n",
      "     [java] Warning:  \"\\u2227\" cannot be matched as a string literal token at line 1262, column 28. It will be matched as  <AND>.\n",
      "     [java] Warning:  \"\\u2228\" cannot be matched as a string literal token at line 1267, column 28. It will be matched as  <OR>.\n",
      "     [java] Parser generated with 0 errors and 5 warnings.\n",
      "     [java] Java Compiler Compiler Version 4.0 (Documentation Generator Version 0.1.4)\n",
      "     [java] (type \"jjdoc\" with no arguments for help)\n",
      "     [java] Reading from file javacc/tla+.jj . . .\n",
      "     [java] Grammar documentation generated successfully in javacc/tla+.html\n",
      "\n",
      "compile:\n",
      "     [echo] \n",
      "     [echo] ==================================================================\n",
      "     [echo] = This code uses sun.misc.Unsafe for manual memory management in =\n",
      "     [echo] = the class src/tlc2/tool/fp/LongArray.java. This unsafe API is  =\n",
      "     [echo] = marked as internal meaning it can change without warning. Java =\n",
      "     [echo] = emits a lot of warnings about this and makes it essentially    =\n",
      "     [echo] = impossible to silence them, so just ignore them. The relevant  =\n",
      "     [echo] = unsafe APIs have been standardized in Java 22, and we will     =\n",
      "     [echo] = switch to them as soon as a long-term support release occurs.  =\n",
      "     [echo] ==================================================================\n",
      "     [echo] \t\t\n",
      "    [javac] Compiling 577 source files to D:\\workspace\\rtfsc\\tlaplus\\tlatools\\org.lamport.tlatools\\class\n",
      "    [javac] D:\\workspace\\rtfsc\\tlaplus\\tlatools\\org.lamport.tlatools\\src\\tla2sany\\parser\\SimpleCharStream.java:206: 警告: [dep-ann] 未使用 @Deprecated 对已过时的项目进行注释\n",
      "    [javac]   public int getColumn() {\n",
      "    [javac]              ^\n",
      "    [javac] D:\\workspace\\rtfsc\\tlaplus\\tlatools\\org.lamport.tlatools\\src\\tla2sany\\parser\\SimpleCharStream.java:215: 警告: [dep-ann] 未使用 @Deprecated 对已过时的项目进行注释\n",
      "    [javac]   public int getLine() {\n",
      "    [javac]              ^\n",
      "    [javac] D:\\workspace\\rtfsc\\tlaplus\\tlatools\\org.lamport.tlatools\\src\\tlc2\\tool\\fp\\LongArray.java:47: 警告: Unsafe是内部专用 API, 可能会在未来发行版中删除\n",
      "    [javac] \tprivate final sun.misc.Unsafe unsafe;\n",
      "    [javac] \t                      ^\n",
      "    [javac] D:\\workspace\\rtfsc\\tlaplus\\tlatools\\org.lamport.tlatools\\src\\tlc2\\tool\\fp\\LongArray.java:113: 警告: Unsafe是内部专用 API, 可能会在未来发行版中删除\n",
      "    [javac] \tprivate static sun.misc.Unsafe getUnsafe() {\n",
      "    [javac] \t                       ^\n",
      "    [javac] D:\\workspace\\rtfsc\\tlaplus\\tlatools\\org.lamport.tlatools\\src\\tlc2\\tool\\fp\\LongArray.java:117: 警告: Unsafe是内部专用 API, 可能会在未来发行版中删除\n",
      "    [javac] \t\t\tfinal Field f = sun.misc.Unsafe.class.getDeclaredField(\"theUnsafe\");\n",
      "    [javac] \t\t\t                        ^\n",
      "    [javac] D:\\workspace\\rtfsc\\tlaplus\\tlatools\\org.lamport.tlatools\\src\\tlc2\\tool\\fp\\LongArray.java:119: 警告: Unsafe是内部专用 API, 可能会在未来发行版中删除\n",
      "    [javac] \t\t\treturn (sun.misc.Unsafe) f.get(null);\n",
      "    [javac] \t\t\t                ^\n",
      "    [javac] 注: 某些输入文件使用或覆盖了已过时的 API。\n",
      "    [javac] 注: 有关详细信息, 请使用 -Xlint:deprecation 重新编译。\n",
      "    [javac] 注: 某些输入文件使用了未经检查或不安全的操作。\n",
      "    [javac] 注: 有关详细信息, 请使用 -Xlint:unchecked 重新编译。\n",
      "    [javac] 6 个警告\n",
      "     [copy] Copying 47 files to D:\\workspace\\rtfsc\\tlaplus\\tlatools\\org.lamport.tlatools\\class\n",
      "\n",
      "compile-test:\n",
      "    [javac] Compiling 656 source files to D:\\workspace\\rtfsc\\tlaplus\\tlatools\\org.lamport.tlatools\\test-class\n",
      "     [copy] Copying 2 files to D:\\workspace\\rtfsc\\tlaplus\\tlatools\\org.lamport.tlatools\\test-class\n",
      "     [copy] Copying 888 files to D:\\workspace\\rtfsc\\tlaplus\\tlatools\\org.lamport.tlatools\\TLA+ Tools\n",
      "\n",
      "dist:\n",
      "    [unzip] Expanding: D:\\workspace\\rtfsc\\tlaplus\\tlatools\\org.lamport.tlatools\\lib\\javax.mail\\mailapi-1.6.3.jar into D:\\workspace\\rtfsc\\tlaplus\\tlatools\\org.lamport.tlatools\\class\n",
      "    [unzip] Expanding: D:\\workspace\\rtfsc\\tlaplus\\tlatools\\org.lamport.tlatools\\lib\\javax.mail\\smtp-1.6.3.jar into D:\\workspace\\rtfsc\\tlaplus\\tlatools\\org.lamport.tlatools\\class\n",
      "    [unzip] Expanding: D:\\workspace\\rtfsc\\tlaplus\\tlatools\\org.lamport.tlatools\\lib\\javax.mail\\javax.activation_1.1.0.v201211130549.jar into D:\\workspace\\rtfsc\\tlaplus\\tlatools\\org.lamport.tlatools\\class\n",
      "    [touch] Creating D:\\workspace\\rtfsc\\tlaplus\\tlatools\\org.lamport.tlatools\\class\\META-INF\\javamail.default.address.map\n",
      "    [unzip] Expanding: D:\\workspace\\rtfsc\\tlaplus\\tlatools\\org.lamport.tlatools\\lib\\jline\\jline-terminal-3.25.0.jar into D:\\workspace\\rtfsc\\tlaplus\\tlatools\\org.lamport.tlatools\\class\n",
      "    [unzip] Expanding: D:\\workspace\\rtfsc\\tlaplus\\tlatools\\org.lamport.tlatools\\lib\\jline\\jline-console-3.25.0.jar into D:\\workspace\\rtfsc\\tlaplus\\tlatools\\org.lamport.tlatools\\class\n",
      "    [unzip] Expanding: D:\\workspace\\rtfsc\\tlaplus\\tlatools\\org.lamport.tlatools\\lib\\jline\\jline-builtins-3.25.0.jar into D:\\workspace\\rtfsc\\tlaplus\\tlatools\\org.lamport.tlatools\\class\n",
      "    [unzip] Expanding: D:\\workspace\\rtfsc\\tlaplus\\tlatools\\org.lamport.tlatools\\lib\\jline\\jline-reader-3.25.0.jar into D:\\workspace\\rtfsc\\tlaplus\\tlatools\\org.lamport.tlatools\\class\n",
      "    [unzip] Expanding: D:\\workspace\\rtfsc\\tlaplus\\tlatools\\org.lamport.tlatools\\lib\\gson\\gson-2.8.6.jar into D:\\workspace\\rtfsc\\tlaplus\\tlatools\\org.lamport.tlatools\\class\n",
      "    [unzip] Expanding: D:\\workspace\\rtfsc\\tlaplus\\tlatools\\org.lamport.tlatools\\lib\\javax.mail\\mailapi-1.6.3.jar into D:\\workspace\\rtfsc\\tlaplus\\tlatools\\org.lamport.tlatools\\target\\classes\n",
      "    [unzip] Expanding: D:\\workspace\\rtfsc\\tlaplus\\tlatools\\org.lamport.tlatools\\lib\\javax.mail\\smtp-1.6.3.jar into D:\\workspace\\rtfsc\\tlaplus\\tlatools\\org.lamport.tlatools\\target\\classes\n",
      "    [unzip] Expanding: D:\\workspace\\rtfsc\\tlaplus\\tlatools\\org.lamport.tlatools\\lib\\javax.mail\\javax.activation_1.1.0.v201211130549.jar into D:\\workspace\\rtfsc\\tlaplus\\tlatools\\org.lamport.tlatools\\target\\classes\n",
      "    [unzip] Expanding: D:\\workspace\\rtfsc\\tlaplus\\tlatools\\org.lamport.tlatools\\lib\\jline\\jline-terminal-3.25.0.jar into D:\\workspace\\rtfsc\\tlaplus\\tlatools\\org.lamport.tlatools\\target\\classes\n",
      "    [unzip] Expanding: D:\\workspace\\rtfsc\\tlaplus\\tlatools\\org.lamport.tlatools\\lib\\jline\\jline-console-3.25.0.jar into D:\\workspace\\rtfsc\\tlaplus\\tlatools\\org.lamport.tlatools\\target\\classes\n",
      "    [unzip] Expanding: D:\\workspace\\rtfsc\\tlaplus\\tlatools\\org.lamport.tlatools\\lib\\jline\\jline-builtins-3.25.0.jar into D:\\workspace\\rtfsc\\tlaplus\\tlatools\\org.lamport.tlatools\\target\\classes\n",
      "    [unzip] Expanding: D:\\workspace\\rtfsc\\tlaplus\\tlatools\\org.lamport.tlatools\\lib\\jline\\jline-reader-3.25.0.jar into D:\\workspace\\rtfsc\\tlaplus\\tlatools\\org.lamport.tlatools\\target\\classes\n",
      "    [unzip] Expanding: D:\\workspace\\rtfsc\\tlaplus\\tlatools\\org.lamport.tlatools\\lib\\gson\\gson-2.8.6.jar into D:\\workspace\\rtfsc\\tlaplus\\tlatools\\org.lamport.tlatools\\target\\classes\n",
      "    [unzip] Expanding: D:\\workspace\\rtfsc\\tlaplus\\tlatools\\org.lamport.tlatools\\lib\\lsp\\org.eclipse.lsp4j.debug_0.21.1.v20230829-0012.jar into D:\\workspace\\rtfsc\\tlaplus\\tlatools\\org.lamport.tlatools\\target\\classes\n",
      "    [unzip] Expanding: D:\\workspace\\rtfsc\\tlaplus\\tlatools\\org.lamport.tlatools\\lib\\lsp\\org.eclipse.lsp4j.jsonrpc_0.21.1.v20230829-0012.jar into D:\\workspace\\rtfsc\\tlaplus\\tlatools\\org.lamport.tlatools\\target\\classes\n",
      "    [unzip] Expanding: D:\\workspace\\rtfsc\\tlaplus\\tlatools\\org.lamport.tlatools\\lib\\lsp\\org.eclipse.lsp4j.jsonrpc.debug_0.21.1.v20230829-0012.jar into D:\\workspace\\rtfsc\\tlaplus\\tlatools\\org.lamport.tlatools\\target\\classes\n",
      "     [copy] Copying 3 files to D:\\workspace\\rtfsc\\tlaplus\\tlatools\\org.lamport.tlatools\\class\n",
      "    [unzip] Expanding: D:\\workspace\\rtfsc\\tlaplus\\tlatools\\org.lamport.tlatools\\lib\\gson\\gson-2.8.6.jar into D:\\workspace\\rtfsc\\tlaplus\\tlatools\\org.lamport.tlatools\\class\n",
      "    [unzip] Expanding: D:\\workspace\\rtfsc\\tlaplus\\tlatools\\org.lamport.tlatools\\lib\\lsp\\org.eclipse.lsp4j.debug_0.21.1.v20230829-0012.jar into D:\\workspace\\rtfsc\\tlaplus\\tlatools\\org.lamport.tlatools\\class\n",
      "    [unzip] Expanding: D:\\workspace\\rtfsc\\tlaplus\\tlatools\\org.lamport.tlatools\\lib\\lsp\\org.eclipse.lsp4j.jsonrpc_0.21.1.v20230829-0012.jar into D:\\workspace\\rtfsc\\tlaplus\\tlatools\\org.lamport.tlatools\\class\n",
      "    [unzip] Expanding: D:\\workspace\\rtfsc\\tlaplus\\tlatools\\org.lamport.tlatools\\lib\\lsp\\org.eclipse.lsp4j.jsonrpc.debug_0.21.1.v20230829-0012.jar into D:\\workspace\\rtfsc\\tlaplus\\tlatools\\org.lamport.tlatools\\class\n",
      "      [jar] Building jar: D:\\workspace\\rtfsc\\tlaplus\\tlatools\\org.lamport.tlatools\\dist\\tla2tools.jar\n",
      "\n",
      "BUILD SUCCESSFUL\n",
      "Total time: 45 seconds\n"
     ]
    }
   ],
   "source": [
    "Processes.run(\"C:/Users/zhouj/.sdkman/candidates/ant/current/bin/ant.bat -f customBuild.xml info compile compile-test dist\", \n",
    "  \"D:/workspace/rtfsc/tlaplus/tlatools/org.lamport.tlatools\");"
   ]
  },
  {
   "cell_type": "code",
   "execution_count": 10,
   "metadata": {},
   "outputs": [
    {
     "name": "stdout",
     "output_type": "stream",
     "text": [
      "TLC2 Version 2.20 of Day Month 20?? (rev: df55052)\n",
      "Warning: Please run the Java VM, which executes TLC with a throughput optimized garbage collector, by passing the \"-XX:+UseParallelGC\" property.\n",
      "(Use the -nowarning option to disable this warning.)\n",
      "Running breadth-first search Model-Checking with fp 95 and seed -2875556729119738131 with 1 worker on 20 cores with 8124MB heap and 64MB offheap memory [pid: 18208] (Windows 11 10.0 amd64, Eclipse Adoptium 11.0.22 x86_64, MSBDiskFPSet, DiskStateQueue).\n",
      "Parsing file D:\\workspace\\rtfsc\\tlaplus\\tlatools\\org.lamport.tlatools\\test-model\\pcal\\Bakery.tla\n",
      "Parsing file C:\\Users\\zhouj\\AppData\\Local\\Temp\\tlc-6573000025445014821\\Naturals.tla (jar:file:/D:/workspace/rtfsc/tlaplus/tlatools/org.lamport.tlatools/dist/tla2tools.jar!/tla2sany/StandardModules/Naturals.tla)\n",
      "Parsing file C:\\Users\\zhouj\\AppData\\Local\\Temp\\tlc-6573000025445014821\\TLC.tla (jar:file:/D:/workspace/rtfsc/tlaplus/tlatools/org.lamport.tlatools/dist/tla2tools.jar!/tla2sany/StandardModules/TLC.tla)\n",
      "Parsing file C:\\Users\\zhouj\\AppData\\Local\\Temp\\tlc-6573000025445014821\\_TLCTrace.tla (jar:file:/D:/workspace/rtfsc/tlaplus/tlatools/org.lamport.tlatools/dist/tla2tools.jar!/tla2sany/StandardModules/_TLCTrace.tla)\n",
      "Parsing file C:\\Users\\zhouj\\AppData\\Local\\Temp\\tlc-6573000025445014821\\Sequences.tla (jar:file:/D:/workspace/rtfsc/tlaplus/tlatools/org.lamport.tlatools/dist/tla2tools.jar!/tla2sany/StandardModules/Sequences.tla)\n",
      "Parsing file C:\\Users\\zhouj\\AppData\\Local\\Temp\\tlc-6573000025445014821\\FiniteSets.tla (jar:file:/D:/workspace/rtfsc/tlaplus/tlatools/org.lamport.tlatools/dist/tla2tools.jar!/tla2sany/StandardModules/FiniteSets.tla)\n",
      "Parsing file C:\\Users\\zhouj\\AppData\\Local\\Temp\\tlc-6573000025445014821\\TLCExt.tla (jar:file:/D:/workspace/rtfsc/tlaplus/tlatools/org.lamport.tlatools/dist/tla2tools.jar!/tla2sany/StandardModules/TLCExt.tla)\n",
      "Parsing file C:\\Users\\zhouj\\AppData\\Local\\Temp\\tlc-6573000025445014821\\Integers.tla (jar:file:/D:/workspace/rtfsc/tlaplus/tlatools/org.lamport.tlatools/dist/tla2tools.jar!/tla2sany/StandardModules/Integers.tla)\n",
      "Semantic processing of module Naturals\n",
      "Semantic processing of module Sequences\n",
      "Semantic processing of module FiniteSets\n",
      "Semantic processing of module TLC\n",
      "Semantic processing of module Integers\n",
      "Semantic processing of module TLCExt\n",
      "Semantic processing of module _TLCTrace\n",
      "Semantic processing of module Bakery\n",
      "Starting... (2025-01-25 11:24:15)\n",
      "Computing initial states...\n",
      "Finished computing initial states: 1 distinct state generated at 2025-01-25 11:24:16.\n",
      "Model checking completed. No error has been found.\n",
      "  Estimates of the probability that TLC did not check all reachable states\n",
      "  because two distinct states had the same fingerprint:\n",
      "  calculated (optimistic):  val = 1.9E-14\n",
      "1183 states generated, 668 distinct states found, 0 states left on queue.\n",
      "The depth of the complete state graph search is 41.\n",
      "The average outdegree of the complete state graph is 1 (minimum is 0, the maximum 2 and the 95th percentile is 2).\n",
      "Finished in 01s at (2025-01-25 11:24:16)\n"
     ]
    }
   ],
   "source": [
    "// Processes.run(\"java -cp D:/workspace/rtfsc/tlaplus/tlatools/org.lamport.tlatools/dist/tla2tools.jar tlc2.TLC Bakery.tla\", \n",
    "//   \"D:/workspace/rtfsc/tlaplus/tlatools/org.lamport.tlatools/test-model/pcal\");\n",
    "\n",
    "Processes.run(\"java -cp ../../dist/tla2tools.jar tlc2.TLC Bakery.tla\", \n",
    "  \"D:/workspace/rtfsc/tlaplus/tlatools/org.lamport.tlatools/test-model/pcal\");"
   ]
  },
  {
   "cell_type": "markdown",
   "metadata": {},
   "source": [
    "### tla+.jj\n",
    "* BNF for tla+.jj: tlatools/org.lamport.tlatools/javacc/tla+.html"
   ]
  },
  {
   "cell_type": "markdown",
   "metadata": {},
   "source": [
    "### tla2sany.drivers.SANY"
   ]
  },
  {
   "cell_type": "markdown",
   "metadata": {},
   "source": [
    "### tlc2.TLC"
   ]
  },
  {
   "cell_type": "markdown",
   "metadata": {},
   "source": [
    "### tlc2.REPL"
   ]
  },
  {
   "cell_type": "markdown",
   "metadata": {},
   "source": [
    "### pcal.trans"
   ]
  },
  {
   "cell_type": "markdown",
   "metadata": {},
   "source": [
    "### tla2tex.TLA"
   ]
  },
  {
   "cell_type": "markdown",
   "metadata": {},
   "source": [
    "## Toolbox IDE"
   ]
  },
  {
   "cell_type": "markdown",
   "metadata": {},
   "source": [
    "D:\\workspace\\rtfsc\\tlaplus\\toolbox\\org.lamport.tla.toolbox.product.product\\TLAToolbox.target\n",
    "\n",
    "```xml\n",
    "<location includeAllPlatforms=\"false\" includeConfigurePhase=\"false\" includeMode=\"planner\" includeSource=\"true\" type=\"InstallableUnit\">\n",
    "<unit id=\"com.abstratt.eclipsegraphviz.feature.feature.group\" version=\"0.0.0\"/>\n",
    "<!-- <repository id=\"abstratt\" location=\"jar:https://raw.githubusercontent.com/tlaplus/tlaplus/master/toolbox/org.lamport.tla.toolbox.product.product/cachedTargetPlatform/com.abstratt.eclipsegraphviz.repository-2.5.201812.zip!/\"/> -->\n",
    "<repository id=\"abstratt\" location=\"http://192.168.3.181:9000/\"/>\n",
    "</location>\n",
    "```\n",
    "\n",
    "```shell\n",
    "$ pwd\n",
    "/d/workspace/rtfsc/tlaplus/toolbox/org.lamport.tla.toolbox.product.product/cachedTargetPlatform/com.abstratt.eclipsegraphviz.repository-2.5.201812\n",
    "\n",
    "$ python -m http.server 9000 --bind 192.168.3.181\n",
    "```"
   ]
  }
 ],
 "metadata": {
  "kernelspec": {
   "display_name": "Java (jjava)",
   "language": "java",
   "name": "java"
  },
  "language_info": {
   "codemirror_mode": "java",
   "file_extension": ".jshell",
   "mimetype": "text/x-java-source",
   "name": "java",
   "pygments_lexer": "java",
   "version": "11.0.22+7"
  }
 },
 "nbformat": 4,
 "nbformat_minor": 2
}
