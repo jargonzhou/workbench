{
 "cells": [
  {
   "cell_type": "markdown",
   "id": "3501d273",
   "metadata": {},
   "source": [
    "# Resources\n",
    "\n",
    "- Getting Started: https://github.com/scala/scala-parser-combinators/blob/main/docs/Getting_Started.md\n",
    "- 2.12 2.3.0 API: https://javadoc.io/static/org.scala-lang.modules/scala-parser-combinators_2.12/2.3.0/scala/util/parsing/combinator/index.html\n",
    "- Building a lexer and parser with Scala's Parser Combinators: https://enear.github.io/2016/03/31/parser-combinators/\n",
    "\n",
    "# Features\n",
    "\n",
    "- `RegexParsers`\n",
    "- `Parsers`\n",
    "- `Positional`\n"
   ]
  },
  {
   "cell_type": "code",
   "execution_count": 1,
   "id": "b7d37540",
   "metadata": {},
   "outputs": [
    {
     "data": {
      "text/plain": [
       "\u001b[32mimport \u001b[39m\u001b[36m$ivy.$                                                           \n",
       "\n",
       "\u001b[39m\r\n",
       "\u001b[32mimport \u001b[39m\u001b[36mscala.util.parsing.combinator._\u001b[39m"
      ]
     },
     "execution_count": 1,
     "metadata": {},
     "output_type": "execute_result"
    }
   ],
   "source": [
    "import $ivy.`org.scala-lang.modules:scala-parser-combinators_2.12:2.3.0`\n",
    "\n",
    "import scala.util.parsing.combinator._"
   ]
  },
  {
   "cell_type": "markdown",
   "id": "ea8f9c57",
   "metadata": {},
   "source": [
    "# BNDF\n",
    "\n",
    "```BNF\n",
    "<block> ::= (<statement>)+\n",
    "\n",
    "<statement> ::= \"exit\"\n",
    "              | \"read input\" (<identifier> \",\")* <identifier>\n",
    "              | \"call service\" <stringLiteral>\n",
    "              | \"switch\" \":\" INDENT (<ifThen>)+ [otherwiseThen] DEDENT\n",
    "\n",
    "<ifThen> ::= <condition> \"->\" INDENT <block> DEDENT\n",
    "\n",
    "<otherwiseThen> ::= \"otherwise\" \"->\" INDENT <block> DEDENT\n",
    "\n",
    "<condition> ::= <identifier> \"==\" <stringLiteral>\n",
    "```"
   ]
  },
  {
   "cell_type": "code",
   "execution_count": 2,
   "id": "1bca9b53",
   "metadata": {},
   "outputs": [
    {
     "data": {
      "text/plain": [
       "\u001b[36minput\u001b[39m: \u001b[32mString\u001b[39m = \u001b[32m\"\"\"read input name, country\n",
       "switch:\n",
       "  country == \"PT\" ->\n",
       "    call service \"A\"\n",
       "    exit\n",
       "  otherwise ->\n",
       "    call service \"B\"\n",
       "    switch:\n",
       "      name == \"unknown\" ->\n",
       "        exit\n",
       "      otherwise ->\n",
       "        call service \"C\"\n",
       "        exit\"\"\"\u001b[39m"
      ]
     },
     "execution_count": 2,
     "metadata": {},
     "output_type": "execute_result"
    }
   ],
   "source": [
    "val input = \"\"\"read input name, country\n",
    "switch:\n",
    "  country == \"PT\" ->\n",
    "    call service \"A\"\n",
    "    exit\n",
    "  otherwise ->\n",
    "    call service \"B\"\n",
    "    switch:\n",
    "      name == \"unknown\" ->\n",
    "        exit\n",
    "      otherwise ->\n",
    "        call service \"C\"\n",
    "        exit\"\"\""
   ]
  },
  {
   "cell_type": "markdown",
   "id": "8473060e",
   "metadata": {},
   "source": [
    "# Error"
   ]
  },
  {
   "cell_type": "code",
   "execution_count": 3,
   "id": "973da1ec",
   "metadata": {},
   "outputs": [
    {
     "data": {
      "text/plain": [
       "defined \u001b[32mtrait\u001b[39m \u001b[36mWorkflowCompilationError\u001b[39m\r\n",
       "defined \u001b[32mclass\u001b[39m \u001b[36mWorkflowLexerError\u001b[39m\r\n",
       "defined \u001b[32mclass\u001b[39m \u001b[36mWorkflowParserError\u001b[39m"
      ]
     },
     "execution_count": 3,
     "metadata": {},
     "output_type": "execute_result"
    }
   ],
   "source": [
    "trait WorkflowCompilationError\n",
    "\n",
    "case class WorkflowLexerError(msg: String) extends WorkflowCompilationError\n",
    "\n",
    "case class WorkflowParserError(msg: String) extends WorkflowCompilationError"
   ]
  },
  {
   "cell_type": "markdown",
   "id": "fa44f533",
   "metadata": {},
   "source": [
    "# Lexer"
   ]
  },
  {
   "cell_type": "code",
   "execution_count": 4,
   "id": "64607146",
   "metadata": {},
   "outputs": [
    {
     "data": {
      "text/plain": [
       "\u001b[32mimport \u001b[39m\u001b[36mscala.util.parsing.input.Positional\n",
       "\n",
       "// tokens\n",
       "\u001b[39m\r\n",
       "defined \u001b[32mtrait\u001b[39m \u001b[36mWorkflowToken\u001b[39m\r\n",
       "defined \u001b[32mclass\u001b[39m \u001b[36mIDENTIFIER\u001b[39m\r\n",
       "defined \u001b[32mclass\u001b[39m \u001b[36mLITERAL\u001b[39m\r\n",
       "defined \u001b[32mclass\u001b[39m \u001b[36mINDENTATION\u001b[39m\r\n",
       "defined \u001b[32mobject\u001b[39m \u001b[36mEXIT\u001b[39m\r\n",
       "defined \u001b[32mobject\u001b[39m \u001b[36mREADINPUT\u001b[39m\r\n",
       "defined \u001b[32mobject\u001b[39m \u001b[36mCALLSERVICE\u001b[39m\r\n",
       "defined \u001b[32mobject\u001b[39m \u001b[36mSWITCH\u001b[39m\r\n",
       "defined \u001b[32mobject\u001b[39m \u001b[36mOTHERWISE\u001b[39m\r\n",
       "defined \u001b[32mobject\u001b[39m \u001b[36mCOLON\u001b[39m\r\n",
       "defined \u001b[32mobject\u001b[39m \u001b[36mARROW\u001b[39m\r\n",
       "defined \u001b[32mobject\u001b[39m \u001b[36mEQUALS\u001b[39m\r\n",
       "defined \u001b[32mobject\u001b[39m \u001b[36mCOMMA\u001b[39m\r\n",
       "defined \u001b[32mobject\u001b[39m \u001b[36mINDENT\u001b[39m\r\n",
       "defined \u001b[32mobject\u001b[39m \u001b[36mDEDENT\u001b[39m"
      ]
     },
     "execution_count": 4,
     "metadata": {},
     "output_type": "execute_result"
    }
   ],
   "source": [
    "import scala.util.parsing.input.Positional\n",
    "\n",
    "// tokens\n",
    "sealed trait WorkflowToken extends Positional\n",
    "\n",
    "case class IDENTIFIER(str: String) extends WorkflowToken\n",
    "case class LITERAL(str: String) extends WorkflowToken\n",
    "case class INDENTATION(spaces: Int) extends WorkflowToken\n",
    "case object EXIT extends WorkflowToken\n",
    "case object READINPUT extends WorkflowToken\n",
    "case object CALLSERVICE extends WorkflowToken\n",
    "case object SWITCH extends WorkflowToken\n",
    "case object OTHERWISE extends WorkflowToken\n",
    "case object COLON extends WorkflowToken\n",
    "case object ARROW extends WorkflowToken\n",
    "case object EQUALS extends WorkflowToken\n",
    "case object COMMA extends WorkflowToken\n",
    "case object INDENT extends WorkflowToken\n",
    "case object DEDENT extends WorkflowToken"
   ]
  },
  {
   "cell_type": "code",
   "execution_count": 5,
   "id": "c388759b",
   "metadata": {},
   "outputs": [
    {
     "data": {
      "text/plain": [
       "defined \u001b[32mobject\u001b[39m \u001b[36mWorkflowLexer\u001b[39m"
      ]
     },
     "execution_count": 5,
     "metadata": {},
     "output_type": "execute_result"
    }
   ],
   "source": [
    "object WorkflowLexer extends RegexParsers {\n",
    "    override def skipWhitespace = true\n",
    "    override val whiteSpace = \"[ \\t\\r\\f]+\".r\n",
    "    \n",
    "    def apply(input: String): Either[WorkflowLexerError, List[WorkflowToken]] = {\n",
    "        parse(tokens, input) match {\n",
    "            case NoSuccess(msg, next) => Left(WorkflowLexerError(msg))\n",
    "            case Success(result, next) => Right(result)\n",
    "        }\n",
    "    }\n",
    "    \n",
    "    def identifier: Parser[IDENTIFIER] = positioned {\n",
    "        \"[a-zA-Z_][a-zA-Z0-9_]*\".r ^^ { str => IDENTIFIER(str) }\n",
    "    }\n",
    "\n",
    "    def indentation: Parser[INDENTATION] = positioned {\n",
    "        \"\\n[ ]*\".r ^^ { whitespace =>\n",
    "            val nSpaces = whitespace.length - 1\n",
    "            INDENTATION(nSpaces)\n",
    "        }\n",
    "    }\n",
    "    \n",
    "    def exit          = positioned {\"exit\"          ^^ (_ => EXIT) }\n",
    "    def readInput     = positioned {\"read input\"    ^^ (_ => READINPUT) }\n",
    "    def callService   = positioned {\"call service\"  ^^ (_ => CALLSERVICE) }\n",
    "    def switch        = positioned {\"switch\"        ^^ (_ => SWITCH) }\n",
    "    def otherwise     = positioned {\"otherwise\"     ^^ (_ => OTHERWISE) }\n",
    "    def colon         = positioned {\":\"             ^^ (_ => COLON) }\n",
    "    def arrow         = positioned {\"->\"            ^^ (_ => ARROW) }\n",
    "    def equals        = positioned {\"==\"            ^^ (_ => EQUALS) }\n",
    "    def comma         = positioned {\",\"             ^^ (_ => COMMA) }\n",
    "    \n",
    "    def tokens: Parser[List[WorkflowToken]] = {\n",
    "        phrase(\n",
    "            rep1(exit \n",
    "                 | readInput \n",
    "                 | callService \n",
    "                 | switch \n",
    "                 | otherwise \n",
    "                 | colon \n",
    "                 | arrow\n",
    "                 | equals \n",
    "                 | comma \n",
    "                 | literal \n",
    "                 | identifier \n",
    "                 | indentation)) ^^ { rawTokens =>    \n",
    "            processIndentations(rawTokens)\n",
    "        }\n",
    "    }\n",
    "    \n",
    "    private def processIndentations(tokens: List[WorkflowToken],\n",
    "                                    indents: List[Int] = List(0)): List[WorkflowToken] = {\n",
    "  \n",
    "        tokens.headOption match {\n",
    "            // if there is an increase in indentation level, we push this new level into the stack\n",
    "            // and produce an INDENT\n",
    "            case Some(INDENTATION(spaces)) if spaces > indents.head => \n",
    "                INDENT :: processIndentations(tokens.tail, spaces :: indents)\n",
    "\n",
    "            // if there is a decrease, we pop from the stack until we have matched the new level,\n",
    "            // producing a DEDENT for each pop\n",
    "            case Some(INDENTATION(spaces)) if spaces < indents.head =>\n",
    "                val (dropped, kept) = indents.partition(_ > spaces)\n",
    "                (dropped map (_ => DEDENT)) ::: processIndentations(tokens.tail, kept)\n",
    "\n",
    "            // if the indentation level stays unchanged, no tokens are produced\n",
    "            case Some(INDENTATION(spaces)) if spaces == indents.head =>\n",
    "                processIndentations(tokens.tail, indents)\n",
    "\n",
    "            // other tokens are ignored\n",
    "            case Some(token) =>\n",
    "                token :: processIndentations(tokens.tail, indents)\n",
    "\n",
    "            // the final step is to produce a DEDENT for each indentation level still remaining, thus\n",
    "            // \"closing\" the remaining open INDENTS\n",
    "            case None =>\n",
    "                indents.filter(_ > 0).map(_ => DEDENT)\n",
    "        }\n",
    "    }\n",
    "        \n",
    "    def literal: Parser[LITERAL] = positioned {\n",
    "        \"\"\"\"[^\"]*\"\"\"\".r ^^ { str =>\n",
    "            val content = str.substring(1, str.length - 1)\n",
    "            LITERAL(content)\n",
    "        }\n",
    "    }\n",
    "}"
   ]
  },
  {
   "cell_type": "code",
   "execution_count": 6,
   "id": "53663782",
   "metadata": {},
   "outputs": [
    {
     "name": "stdout",
     "output_type": "stream",
     "text": [
      "READINPUT\n",
      "read input name, country\n",
      "^\n",
      "\n",
      "IDENTIFIER(name)\n",
      "read input name, country\n",
      "           ^\n",
      "\n",
      "COMMA\n",
      "read input name, country\n",
      "               ^\n",
      "\n",
      "IDENTIFIER(country)\n",
      "read input name, country\n",
      "                 ^\n",
      "\n",
      "SWITCH\n",
      "switch:\n",
      "^\n",
      "\n",
      "COLON\n",
      "switch:\n",
      "      ^\n",
      "\n",
      "INDENT\n",
      "<undefined position>\n",
      "\n",
      "IDENTIFIER(country)\n",
      "  country == \"PT\" ->\n",
      "  ^\n",
      "\n",
      "EQUALS\n",
      "  country == \"PT\" ->\n",
      "          ^\n",
      "\n",
      "LITERAL(PT)\n",
      "  country == \"PT\" ->\n",
      "             ^\n",
      "\n",
      "ARROW\n",
      "  country == \"PT\" ->\n",
      "                  ^\n",
      "\n",
      "INDENT\n",
      "<undefined position>\n",
      "\n",
      "CALLSERVICE\n",
      "    call service \"A\"\n",
      "    ^\n",
      "\n",
      "LITERAL(A)\n",
      "    call service \"A\"\n",
      "                 ^\n",
      "\n",
      "EXIT\n",
      "    exit\n",
      "    ^\n",
      "\n",
      "DEDENT\n",
      "<undefined position>\n",
      "\n",
      "OTHERWISE\n",
      "  otherwise ->\n",
      "  ^\n",
      "\n",
      "ARROW\n",
      "  country == \"PT\" ->\n",
      "                  ^\n",
      "\n",
      "INDENT\n",
      "<undefined position>\n",
      "\n",
      "CALLSERVICE\n",
      "    call service \"A\"\n",
      "    ^\n",
      "\n",
      "LITERAL(B)\n",
      "    call service \"B\"\n",
      "                 ^\n",
      "\n",
      "SWITCH\n",
      "switch:\n",
      "^\n",
      "\n",
      "COLON\n",
      "switch:\n",
      "      ^\n",
      "\n",
      "INDENT\n",
      "<undefined position>\n",
      "\n",
      "IDENTIFIER(name)\n",
      "      name == \"unknown\" ->\n",
      "      ^\n",
      "\n",
      "EQUALS\n",
      "  country == \"PT\" ->\n",
      "          ^\n",
      "\n",
      "LITERAL(unknown)\n",
      "      name == \"unknown\" ->\n",
      "              ^\n",
      "\n",
      "ARROW\n",
      "  country == \"PT\" ->\n",
      "                  ^\n",
      "\n",
      "INDENT\n",
      "<undefined position>\n",
      "\n",
      "EXIT\n",
      "    exit\n",
      "    ^\n",
      "\n",
      "DEDENT\n",
      "<undefined position>\n",
      "\n",
      "OTHERWISE\n",
      "  otherwise ->\n",
      "  ^\n",
      "\n",
      "ARROW\n",
      "  country == \"PT\" ->\n",
      "                  ^\n",
      "\n",
      "INDENT\n",
      "<undefined position>\n",
      "\n",
      "CALLSERVICE\n",
      "    call service \"A\"\n",
      "    ^\n",
      "\n",
      "LITERAL(C)\n",
      "        call service \"C\"\n",
      "                     ^\n",
      "\n",
      "EXIT\n",
      "    exit\n",
      "    ^\n",
      "\n",
      "DEDENT\n",
      "<undefined position>\n",
      "\n",
      "DEDENT\n",
      "<undefined position>\n",
      "\n",
      "DEDENT\n",
      "<undefined position>\n",
      "\n",
      "DEDENT\n",
      "<undefined position>\n",
      "\n"
     ]
    },
    {
     "data": {
      "text/plain": [
       "\u001b[36mres5\u001b[39m: \u001b[32mAny\u001b[39m = ()"
      ]
     },
     "execution_count": 6,
     "metadata": {},
     "output_type": "execute_result"
    }
   ],
   "source": [
    "WorkflowLexer(input) match {\n",
    "    case Left(e) => e\n",
    "    case Right(tokens) => tokens foreach { t => \n",
    "        println(t)\n",
    "        println(t.pos.longString) // postion of token\n",
    "        println\n",
    "    }\n",
    "}\n",
    "// TODO: keep pos of INDENT and DEDENT"
   ]
  },
  {
   "cell_type": "markdown",
   "id": "ca1e7cfb",
   "metadata": {},
   "source": [
    "# Parser"
   ]
  },
  {
   "cell_type": "code",
   "execution_count": 7,
   "id": "c018db83",
   "metadata": {},
   "outputs": [
    {
     "data": {
      "text/plain": [
       "\u001b[32mimport \u001b[39m\u001b[36mscala.util.parsing.input.Positional\n",
       "\n",
       "\u001b[39m\r\n",
       "defined \u001b[32mtrait\u001b[39m \u001b[36mWorkflowAST\u001b[39m\r\n",
       "defined \u001b[32mclass\u001b[39m \u001b[36mAndThen\u001b[39m\r\n",
       "defined \u001b[32mclass\u001b[39m \u001b[36mReadInput\u001b[39m\r\n",
       "defined \u001b[32mclass\u001b[39m \u001b[36mCallService\u001b[39m\r\n",
       "defined \u001b[32mclass\u001b[39m \u001b[36mChoice\u001b[39m\r\n",
       "defined \u001b[32mobject\u001b[39m \u001b[36mExit\u001b[39m\r\n",
       "defined \u001b[32mtrait\u001b[39m \u001b[36mConditionThen\u001b[39m\r\n",
       "defined \u001b[32mclass\u001b[39m \u001b[36mIfThen\u001b[39m\r\n",
       "defined \u001b[32mclass\u001b[39m \u001b[36mOtherwiseThen\u001b[39m\r\n",
       "defined \u001b[32mtrait\u001b[39m \u001b[36mCondition\u001b[39m\r\n",
       "defined \u001b[32mclass\u001b[39m \u001b[36mEquals\u001b[39m"
      ]
     },
     "execution_count": 7,
     "metadata": {},
     "output_type": "execute_result"
    }
   ],
   "source": [
    "import scala.util.parsing.input.Positional\n",
    "\n",
    "sealed trait WorkflowAST  extends Positional\n",
    "case class AndThen(step1: WorkflowAST, step2: WorkflowAST) extends WorkflowAST\n",
    "case class ReadInput(inputs: Seq[String]) extends WorkflowAST\n",
    "case class CallService(serviceName: String) extends WorkflowAST\n",
    "case class Choice(alternatives: Seq[ConditionThen]) extends WorkflowAST\n",
    "case object Exit extends WorkflowAST\n",
    "\n",
    "sealed trait ConditionThen  extends Positional { def thenBlock: WorkflowAST }\n",
    "case class IfThen(predicate: Condition, thenBlock: WorkflowAST) extends ConditionThen\n",
    "case class OtherwiseThen(thenBlock: WorkflowAST) extends ConditionThen\n",
    "\n",
    "sealed trait Condition extends Positional\n",
    "case class Equals(factName: String, factValue: String) extends Condition"
   ]
  },
  {
   "cell_type": "code",
   "execution_count": 8,
   "id": "5fd32569",
   "metadata": {},
   "outputs": [
    {
     "data": {
      "text/plain": [
       "\u001b[32mimport \u001b[39m\u001b[36mscala.util.parsing.input.{Reader, Position, NoPosition}\n",
       "\n",
       "\u001b[39m\r\n",
       "defined \u001b[32mobject\u001b[39m \u001b[36mWorkflowParser\u001b[39m"
      ]
     },
     "execution_count": 8,
     "metadata": {},
     "output_type": "execute_result"
    }
   ],
   "source": [
    "import scala.util.parsing.input.{Reader, Position, NoPosition}\n",
    "\n",
    "object WorkflowParser extends Parsers {\n",
    "    override type Elem = WorkflowToken\n",
    "    \n",
    "    class WorkflowTokenReader(tokens: Seq[WorkflowToken]) extends Reader[WorkflowToken] {\n",
    "        override def first: WorkflowToken = tokens.head\n",
    "        override def atEnd: Boolean = tokens.isEmpty\n",
    "        override def pos: Position = tokens.headOption.map(_.pos).getOrElse(NoPosition)\n",
    "        override def rest: Reader[WorkflowToken] = new WorkflowTokenReader(tokens.tail)\n",
    "    }\n",
    "    \n",
    "    def apply(tokens: Seq[WorkflowToken]): Either[WorkflowParserError, WorkflowAST] = {\n",
    "        val reader = new WorkflowTokenReader(tokens)\n",
    "        program(reader) match {\n",
    "            case NoSuccess(msg, next) => Left(WorkflowParserError(msg))\n",
    "            case Success(result, next) => Right(result)\n",
    "        }\n",
    "    }\n",
    "    \n",
    "    private def identifier: Parser[IDENTIFIER] = positioned {\n",
    "        accept(\"identifier\", { case id @ IDENTIFIER(name) => id })\n",
    "    }\n",
    "\n",
    "    private def literal: Parser[LITERAL] = positioned {\n",
    "        accept(\"string literal\", { case lit @ LITERAL(name) => lit })\n",
    "    }\n",
    "    \n",
    "    def condition: Parser[Equals] = positioned {\n",
    "        (identifier ~ EQUALS ~ literal) ^^ { case id ~ eq ~ lit => Equals(id.str, lit.str) }\n",
    "    }\n",
    "    \n",
    "    def program: Parser[WorkflowAST] = positioned {\n",
    "        phrase(block)\n",
    "    }\n",
    "\n",
    "    def block: Parser[WorkflowAST] = positioned {\n",
    "        rep1(statement) ^^ { case stmtList => stmtList reduceRight AndThen }\n",
    "    }\n",
    "\n",
    "    def statement: Parser[WorkflowAST] = positioned {\n",
    "      val exit = EXIT ^^ (_ => Exit)\n",
    "      val readInput = READINPUT ~ rep(identifier ~ COMMA) ~ identifier ^^ {\n",
    "        case read ~ inputs ~ IDENTIFIER(lastInput) => ReadInput(inputs.map(_._1.str) ++ List(lastInput))\n",
    "      }\n",
    "      val callService = CALLSERVICE ~ literal ^^ {\n",
    "        case call ~ LITERAL(serviceName) => CallService(serviceName)\n",
    "      }\n",
    "      val switch = SWITCH ~ COLON ~ INDENT ~ rep1(ifThen) ~ opt(otherwiseThen) ~ DEDENT ^^ {\n",
    "        case _ ~ _ ~ _ ~ ifs ~ otherwise ~ _ => Choice(ifs ++ otherwise)\n",
    "      }\n",
    "      exit | readInput | callService | switch\n",
    "    }\n",
    "\n",
    "    def ifThen: Parser[IfThen] = positioned {\n",
    "        (condition ~ ARROW ~ INDENT ~ block ~ DEDENT) ^^ {\n",
    "            case cond ~ _ ~ _ ~ block ~ _ => IfThen(cond, block)\n",
    "        }\n",
    "    }\n",
    "\n",
    "    def otherwiseThen: Parser[OtherwiseThen] = positioned {\n",
    "        (OTHERWISE ~ ARROW ~ INDENT ~ block ~ DEDENT) ^^ {\n",
    "            case _ ~ _ ~ _ ~ block ~ _ => OtherwiseThen(block)\n",
    "        }\n",
    "    }\n",
    "}"
   ]
  },
  {
   "cell_type": "code",
   "execution_count": 9,
   "id": "56f1ba9f",
   "metadata": {
    "scrolled": false
   },
   "outputs": [
    {
     "data": {
      "text/plain": [
       "\u001b[36mres8\u001b[39m: \u001b[32mEither\u001b[39m[\u001b[32mProduct\u001b[39m with \u001b[32mSerializable\u001b[39m with \u001b[32mWorkflowCompilationError\u001b[39m, \u001b[32mWorkflowAST\u001b[39m] = \u001b[33mRight\u001b[39m(\n",
       "  \u001b[33mAndThen\u001b[39m(\n",
       "    \u001b[33mReadInput\u001b[39m(\u001b[33mList\u001b[39m(\u001b[32m\"name\"\u001b[39m, \u001b[32m\"country\"\u001b[39m)),\n",
       "    \u001b[33mChoice\u001b[39m(\n",
       "      \u001b[33mList\u001b[39m(\n",
       "        \u001b[33mIfThen\u001b[39m(\u001b[33mEquals\u001b[39m(\u001b[32m\"country\"\u001b[39m, \u001b[32m\"PT\"\u001b[39m), \u001b[33mAndThen\u001b[39m(\u001b[33mCallService\u001b[39m(\u001b[32m\"A\"\u001b[39m), Exit)),\n",
       "        \u001b[33mOtherwiseThen\u001b[39m(\n",
       "          \u001b[33mAndThen\u001b[39m(\n",
       "            \u001b[33mCallService\u001b[39m(\u001b[32m\"B\"\u001b[39m),\n",
       "            \u001b[33mChoice\u001b[39m(\n",
       "              \u001b[33mList\u001b[39m(\n",
       "                \u001b[33mIfThen\u001b[39m(\u001b[33mEquals\u001b[39m(\u001b[32m\"name\"\u001b[39m, \u001b[32m\"unknown\"\u001b[39m), Exit),\n",
       "                \u001b[33mOtherwiseThen\u001b[39m(\u001b[33mAndThen\u001b[39m(\u001b[33mCallService\u001b[39m(\u001b[32m\"C\"\u001b[39m), Exit))\n",
       "              )\n",
       "            )\n",
       "          )\n",
       "        )\n",
       "      )\n",
       "    )\n",
       "  )\n",
       ")"
      ]
     },
     "execution_count": 9,
     "metadata": {},
     "output_type": "execute_result"
    }
   ],
   "source": [
    "for {\n",
    "    tokens <- WorkflowLexer(input).right\n",
    "    ast <- WorkflowParser(tokens).right\n",
    "} yield ast"
   ]
  },
  {
   "cell_type": "markdown",
   "id": "395b71e9",
   "metadata": {},
   "source": [
    "# Pipeline"
   ]
  },
  {
   "cell_type": "code",
   "execution_count": 10,
   "id": "4a9daa5b",
   "metadata": {
    "scrolled": true
   },
   "outputs": [
    {
     "data": {
      "text/plain": [
       "defined \u001b[32mobject\u001b[39m \u001b[36mWorkflowCompiler\u001b[39m"
      ]
     },
     "execution_count": 10,
     "metadata": {},
     "output_type": "execute_result"
    }
   ],
   "source": [
    "object WorkflowCompiler {\n",
    "  def apply(input: String): Either[WorkflowCompilationError, WorkflowAST] = {\n",
    "    for {\n",
    "      tokens <- WorkflowLexer(input).right\n",
    "      ast <- WorkflowParser(tokens).right\n",
    "    } yield ast\n",
    "  }\n",
    "}"
   ]
  },
  {
   "cell_type": "code",
   "execution_count": 11,
   "id": "1620b5dc",
   "metadata": {},
   "outputs": [
    {
     "data": {
      "text/plain": [
       "\u001b[36mres10\u001b[39m: \u001b[32mEither\u001b[39m[\u001b[32mWorkflowCompilationError\u001b[39m, \u001b[32mWorkflowAST\u001b[39m] = \u001b[33mRight\u001b[39m(\n",
       "  \u001b[33mAndThen\u001b[39m(\n",
       "    \u001b[33mReadInput\u001b[39m(\u001b[33mList\u001b[39m(\u001b[32m\"name\"\u001b[39m, \u001b[32m\"country\"\u001b[39m)),\n",
       "    \u001b[33mChoice\u001b[39m(\n",
       "      \u001b[33mList\u001b[39m(\n",
       "        \u001b[33mIfThen\u001b[39m(\u001b[33mEquals\u001b[39m(\u001b[32m\"country\"\u001b[39m, \u001b[32m\"PT\"\u001b[39m), \u001b[33mAndThen\u001b[39m(\u001b[33mCallService\u001b[39m(\u001b[32m\"A\"\u001b[39m), Exit)),\n",
       "        \u001b[33mOtherwiseThen\u001b[39m(\n",
       "          \u001b[33mAndThen\u001b[39m(\n",
       "            \u001b[33mCallService\u001b[39m(\u001b[32m\"B\"\u001b[39m),\n",
       "            \u001b[33mChoice\u001b[39m(\n",
       "              \u001b[33mList\u001b[39m(\n",
       "                \u001b[33mIfThen\u001b[39m(\u001b[33mEquals\u001b[39m(\u001b[32m\"name\"\u001b[39m, \u001b[32m\"unknown\"\u001b[39m), Exit),\n",
       "                \u001b[33mOtherwiseThen\u001b[39m(\u001b[33mAndThen\u001b[39m(\u001b[33mCallService\u001b[39m(\u001b[32m\"C\"\u001b[39m), Exit))\n",
       "              )\n",
       "            )\n",
       "          )\n",
       "        )\n",
       "      )\n",
       "    )\n",
       "  )\n",
       ")"
      ]
     },
     "execution_count": 11,
     "metadata": {},
     "output_type": "execute_result"
    }
   ],
   "source": [
    "WorkflowCompiler(input)"
   ]
  }
 ],
 "metadata": {
  "kernelspec": {
   "display_name": "Scala",
   "language": "scala",
   "name": "scala"
  },
  "language_info": {
   "codemirror_mode": "text/x-scala",
   "file_extension": ".sc",
   "mimetype": "text/x-scala",
   "name": "scala",
   "nbconvert_exporter": "script",
   "version": "2.12.17"
  },
  "toc": {
   "base_numbering": 1,
   "nav_menu": {},
   "number_sections": true,
   "sideBar": true,
   "skip_h1_title": false,
   "title_cell": "Table of Contents",
   "title_sidebar": "Contents",
   "toc_cell": false,
   "toc_position": {
    "height": "calc(100% - 180px)",
    "left": "10px",
    "top": "150px",
    "width": "286.913px"
   },
   "toc_section_display": true,
   "toc_window_display": true
  },
  "varInspector": {
   "cols": {
    "lenName": 16,
    "lenType": 16,
    "lenVar": 40
   },
   "kernels_config": {
    "python": {
     "delete_cmd_postfix": "",
     "delete_cmd_prefix": "del ",
     "library": "var_list.py",
     "varRefreshCmd": "print(var_dic_list())"
    },
    "r": {
     "delete_cmd_postfix": ") ",
     "delete_cmd_prefix": "rm(",
     "library": "var_list.r",
     "varRefreshCmd": "cat(var_dic_list()) "
    }
   },
   "types_to_exclude": [
    "module",
    "function",
    "builtin_function_or_method",
    "instance",
    "_Feature"
   ],
   "window_display": false
  }
 },
 "nbformat": 4,
 "nbformat_minor": 5
}
