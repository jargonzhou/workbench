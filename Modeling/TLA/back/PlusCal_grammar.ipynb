{
 "cells": [
  {
   "cell_type": "markdown",
   "id": "df1ec333",
   "metadata": {},
   "source": [
    "# Environment"
   ]
  },
  {
   "cell_type": "code",
   "execution_count": 1,
   "id": "648b8b7c",
   "metadata": {},
   "outputs": [
    {
     "data": {
      "text/plain": [
       "\u001b[32mimport \u001b[39m\u001b[36m$ivy.$                                                           \n",
       "\n",
       "\u001b[39m\r\n",
       "\u001b[32mimport \u001b[39m\u001b[36mscala.util.parsing.combinator._\u001b[39m"
      ]
     },
     "execution_count": 1,
     "metadata": {},
     "output_type": "execute_result"
    }
   ],
   "source": [
    "import $ivy.`org.scala-lang.modules:scala-parser-combinators_2.12:2.3.0`\n",
    "\n",
    "import scala.util.parsing.combinator._"
   ]
  },
  {
   "cell_type": "markdown",
   "id": "d9fcf5b6",
   "metadata": {},
   "source": [
    "# Test Datas"
   ]
  },
  {
   "cell_type": "code",
   "execution_count": 5,
   "id": "399b272d",
   "metadata": {},
   "outputs": [
    {
     "data": {
      "text/plain": [
       "\u001b[36msimpleTestData\u001b[39m: \u001b[32mString\u001b[39m = \u001b[32m\"\"\"--algorithm EuclidAlg\n",
       "variables u = 24 , v \\in 1 .. N , v_ini = v\n",
       "begin while u # 0 do\n",
       "        if u < v then u := v || v := u; \\* swap u and v\n",
       "            end if;\n",
       "        u := u - v;\n",
       "      end while ;\n",
       "      print <<24, v_ini, \"have gcd\", v>> ;\n",
       "end algorithm\"\"\"\u001b[39m"
      ]
     },
     "execution_count": 5,
     "metadata": {},
     "output_type": "execute_result"
    }
   ],
   "source": [
    "val simpleTestData = \"\"\"--algorithm EuclidAlg\n",
    "variables u = 24 , v \\in 1 .. N , v_ini = v\n",
    "begin while u # 0 do\n",
    "        if u < v then u := v || v := u; \\* swap u and v\n",
    "            end if;\n",
    "        u := u - v;\n",
    "      end while ;\n",
    "      print <<24, v_ini, \"have gcd\", v>> ;\n",
    "end algorithm\"\"\""
   ]
  },
  {
   "cell_type": "code",
   "execution_count": 4,
   "id": "72d53f9d",
   "metadata": {},
   "outputs": [
    {
     "data": {
      "text/plain": [
       "\u001b[36mcomplextTestData\u001b[39m: \u001b[32mString\u001b[39m = \u001b[32m\"\"\"\\* Figure 2: The fast mutual exclusion algorithm in PlusCal.\n",
       "--algorithm FastMutex\n",
       "variables x , y = 0 , b = [i \\in 1..N |-> FALSE]\n",
       "\n",
       "process Proc \\in 1..N\n",
       "    variable j ;\n",
       "    begin\n",
       "        ncs: while TRUE do\n",
       "                 skip ; \\∗ The noncritical section.\n",
       "          start: b[self] := TRUE ;\n",
       "             l1: x := self ;\n",
       "             l2: if y # 0 then l3: b[self] := FALSE ;\n",
       "                                 l4: await y = 0 ;\n",
       "                                     goto start\n",
       "                end if ;\n",
       "             l5: y := self ;\n",
       "             l6: if x # self\n",
       "                   then l7: b[self] := FALSE ;\n",
       "                            j := 1 ;\n",
       "                     l8: while j ≤ N do await ~b[j] ;\n",
       "                                        j := j+1\n",
       "                         end while ;\n",
       "                     l9: if y 6 = self then l10: await y = 0 ;\n",
       "                                                 goto start ;\n",
       "                         end if ;\n",
       "                   end if;\n",
       "             cs: skip ; \\∗ The critical section.\n",
       "            l11: y := 0 ;\n",
       "            l12: b[self] := FALSE ;\n",
       "        end while ;\n",
       "end process\n",
       "end algorithm\n",
       "\"\"\"\u001b[39m"
      ]
     },
     "execution_count": 4,
     "metadata": {},
     "output_type": "execute_result"
    }
   ],
   "source": [
    "val complextTestData = \"\"\"\\* Figure 2: The fast mutual exclusion algorithm in PlusCal.\n",
    "--algorithm FastMutex\n",
    "variables x , y = 0 , b = [i \\in 1..N |-> FALSE]\n",
    "\n",
    "process Proc \\in 1..N\n",
    "    variable j ;\n",
    "    begin\n",
    "        ncs: while TRUE do\n",
    "                 skip ; \\∗ The noncritical section.\n",
    "          start: b[self] := TRUE ;\n",
    "             l1: x := self ;\n",
    "             l2: if y # 0 then l3: b[self] := FALSE ;\n",
    "                                 l4: await y = 0 ;\n",
    "                                     goto start\n",
    "                end if ;\n",
    "             l5: y := self ;\n",
    "             l6: if x # self\n",
    "                   then l7: b[self] := FALSE ;\n",
    "                            j := 1 ;\n",
    "                     l8: while j ≤ N do await ~b[j] ;\n",
    "                                        j := j+1\n",
    "                         end while ;\n",
    "                     l9: if y 6 = self then l10: await y = 0 ;\n",
    "                                                 goto start ;\n",
    "                         end if ;\n",
    "                   end if;\n",
    "             cs: skip ; \\∗ The critical section.\n",
    "            l11: y := 0 ;\n",
    "            l12: b[self] := FALSE ;\n",
    "        end while ;\n",
    "end process\n",
    "end algorithm\n",
    "\"\"\""
   ]
  },
  {
   "cell_type": "markdown",
   "id": "61f8f5df",
   "metadata": {},
   "source": [
    "# A Builder?"
   ]
  },
  {
   "cell_type": "code",
   "execution_count": 6,
   "id": "e8972edb",
   "metadata": {},
   "outputs": [
    {
     "data": {
      "text/plain": [
       "defined \u001b[32mclass\u001b[39m \u001b[36mPlusCalProgram\u001b[39m"
      ]
     },
     "execution_count": 6,
     "metadata": {},
     "output_type": "execute_result"
    }
   ],
   "source": [
    "class PlusCalProgram extends JavaTokenParsers {\n",
    "    def algoritm: Parser[Any] = (\"--algorithm\" | \"--fair\" ~ \"algorithm\") ~ \n",
    "    name ~ opt(varDecls) ~ \n",
    "    opt(definitions) ~ \n",
    "    rep(_macro) ~ \n",
    "    rep(procedure) ~ \n",
    "    opt((algorithmBody | rep1(process))) ~ \n",
    "    \"end algorithm\"\n",
    "    \n",
    "    def definitions: Parser[Any] = \"define\" ~ defs ~ \"end\" ~ \"define\" ~ opt(\";\")\n",
    "    def _macro: Parser[Any] = \"macro\" ~ name ~ opt(repsep(variable, \",\")) ~ algorithmBody ~ \"end\" ~ \"macro\" ~ opt(\";\")\n",
    "    def procedure: Parser[Any] = \"procedure\" ~ name ~ opt(repsep(pVarDecl, \",\")) ~ opt(pVarDecls) ~ algorithmBody ~ \"end\" ~ \"procedure\" ~ opt(\";\")\n",
    "    def process: Parser[Any] = opt(\"fair\" ~ opt(\"+\")) ~ \"process\" ~ name ~ (\"=\" | \"\\\\in\") ~ expr ~ opt(varDecls) ~ algorithmBody ~ \"end\" ~ \"process\" ~ opt(\";\")\n",
    "    def varDecls: Parser[Any] = (\"varaible\" | \"variables\") ~ varDecl\n",
    "    def varDecl: Parser[Any] = variable ~ opt((\"=\" | \"\\\\in\") ~ expr) ~ (\";\" | \",\")\n",
    "    def pVarDecls: Parser[Any] = (\"varaible\" | \"variables\") ~ rep1(pVarDecl ~ (\";\" | \",\"))\n",
    "    def pVarDecl: Parser[Any] = variable ~ opt(\"=\" ~ expr)\n",
    "    def algorithmBody: Parser[Any] = \"begin\" ~ opt(stmt)\n",
    "    def stmt: Parser[Any] = opt(label ~ \":\" ~ opt(\"+\" | \"-\")) ~ unlabeledStmt\n",
    "    def unlabeledStmt: Parser[Any] = assign | _if | _while | either | _with | await | _print | _assert | skip | _return | goto | call | macroCall\n",
    "    def assign: Parser[Any] = LHS ~ \":=\" ~ expr ~ rep(\"||\" ~ LHS ~ \":=\" ~ expr)\n",
    "    def LHS: Parser[Any] = variable ~ rep(repsep(expr, \",\") | \".\" ~ field)\n",
    "    def _if: Parser[Any] = \"if\" ~ expr ~ \"then\" ~ rep1(stmt) ~ rep(\"elsif\" ~ expr ~ \"then\" ~ rep1(stmt)) ~ opt(\"else\" ~ rep1(stmt)) ~ \"end\" ~ \"if\" ~ \";\"\n",
    "    def _while: Parser[Any] = \"while\" ~ expr ~ \"do\" ~ rep1(stmt) ~ \"end\" ~ \"while\"\n",
    "    def either: Parser[Any] = \"either\" ~ rep1(stmt) ~ rep1(\"or\" ~ rep1(stmt)) ~ \"end\" ~ \"either\" ~ \";\"\n",
    "    def _with: Parser[Any] = \"with\" ~ rep1(variable ~ (\"=\" | \"\\\\in\") ~ expr ~ (\";\" | \",\")) ~ \"do\" ~ rep1(stmt) ~ \"end\" ~ \"with\" ~ \";\"\n",
    "    def await: Parser[Any] = (\"await\" | \"when\") ~ expr\n",
    "    def _print: Parser[Any] = \"print\" ~ expr\n",
    "    def _assert: Parser[Any] = \"assert\" ~ expr\n",
    "    def skip: Parser[Any] = \"skip\" ~ \";\"\n",
    "    def _return: Parser[Any] = \"return\" ~ \";\"\n",
    "    def goto: Parser[Any] = \"goto\" ~ label\n",
    "    def call: Parser[Any] = \"call\" ~ macroCall\n",
    "    def macroCall: Parser[Any] = name ~ opt(rep1(expr)) ~ \";\"\n",
    "    \n",
    "    def variable: Parser[Any] = stringLiteral\n",
    "    def field: Parser[Any] = stringLiteral\n",
    "    def name: Parser[String] = stringLiteral\n",
    "    def label: Parser[String] = stringLiteral\n",
    "    def expr: Parser[Any] = stringLiteral\n",
    "    def defs: Parser[Any] = stringLiteral\n",
    "}"
   ]
  },
  {
   "cell_type": "code",
   "execution_count": 7,
   "id": "ab690727",
   "metadata": {},
   "outputs": [
    {
     "data": {
      "text/plain": [
       "\u001b[36mprogram\u001b[39m: \u001b[32mPlusCalProgram\u001b[39m = ammonite.$sess.cmd5$Helper$PlusCalProgram@f165823\r\n",
       "\u001b[36mres6_1\u001b[39m: \u001b[32mprogram\u001b[39m.\u001b[32mParseResult\u001b[39m[\u001b[32mAny\u001b[39m] = \u001b[33mFailure\u001b[39m(\n",
       "  \u001b[32m\"string matching regex '\\\"([^\\\"\\\\x00-\\\\x1F\\\\x7F\\\\\\\\]|\\\\\\\\[\\\\\\\\'\\\"bfnrt]|\\\\\\\\u[a-fA-F0-9]{4})*\\\"' expected but 'E' found\"\u001b[39m,\n",
       "  CharSequenceReader('E', ...)\n",
       ")"
      ]
     },
     "execution_count": 7,
     "metadata": {},
     "output_type": "execute_result"
    }
   ],
   "source": [
    "val program = new PlusCalProgram\n",
    "program.parseAll(program.algoritm, simpleTestData)"
   ]
  }
 ],
 "metadata": {
  "kernelspec": {
   "display_name": "Scala",
   "language": "scala",
   "name": "scala"
  },
  "language_info": {
   "codemirror_mode": "text/x-scala",
   "file_extension": ".sc",
   "mimetype": "text/x-scala",
   "name": "scala",
   "nbconvert_exporter": "script",
   "version": "2.12.17"
  },
  "toc": {
   "base_numbering": 1,
   "nav_menu": {},
   "number_sections": true,
   "sideBar": true,
   "skip_h1_title": false,
   "title_cell": "Table of Contents",
   "title_sidebar": "Contents",
   "toc_cell": false,
   "toc_position": {
    "height": "calc(100% - 180px)",
    "left": "10px",
    "top": "150px",
    "width": "228.312px"
   },
   "toc_section_display": true,
   "toc_window_display": true
  },
  "varInspector": {
   "cols": {
    "lenName": 16,
    "lenType": 16,
    "lenVar": 40
   },
   "kernels_config": {
    "python": {
     "delete_cmd_postfix": "",
     "delete_cmd_prefix": "del ",
     "library": "var_list.py",
     "varRefreshCmd": "print(var_dic_list())"
    },
    "r": {
     "delete_cmd_postfix": ") ",
     "delete_cmd_prefix": "rm(",
     "library": "var_list.r",
     "varRefreshCmd": "cat(var_dic_list()) "
    }
   },
   "types_to_exclude": [
    "module",
    "function",
    "builtin_function_or_method",
    "instance",
    "_Feature"
   ],
   "window_display": false
  }
 },
 "nbformat": 4,
 "nbformat_minor": 5
}
