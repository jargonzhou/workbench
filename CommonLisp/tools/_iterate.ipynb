{
 "cells": [
  {
   "cell_type": "markdown",
   "metadata": {},
   "source": [
    "# iterate\n",
    "- https://iterate.common-lisp.dev/\n",
    "\n",
    "iterate is an iteration construct for Common Lisp. It is similar to the CL:LOOP macro, with these distinguishing marks:\n",
    "\n",
    "* it is extensible,\n",
    "* it helps editors like Emacs indent iterate forms by having a more lisp-like syntax, and\n",
    "* it isn't part of the ANSI standard for Common Lisp (which is sometimes a bad thing and sometimes good)."
   ]
  },
  {
   "cell_type": "code",
   "execution_count": 1,
   "metadata": {
    "vscode": {
     "languageId": "commonlisp"
    }
   },
   "outputs": [
    {
     "name": "stdout",
     "output_type": "stream",
     "text": [
      "To load \"iterate\":\n",
      "  Load 1 ASDF system:\n",
      "    iterate\n"
     ]
    },
    {
     "data": {
      "text/plain": [
       "(\"iterate\")"
      ]
     },
     "execution_count": 1,
     "metadata": {},
     "output_type": "execute_result"
    },
    {
     "name": "stdout",
     "output_type": "stream",
     "text": [
      "\n",
      "; Loading \"iterate\"\n",
      "\n"
     ]
    }
   ],
   "source": [
    "(ql:quickload \"iterate\")"
   ]
  },
  {
   "cell_type": "code",
   "execution_count": 2,
   "metadata": {
    "vscode": {
     "languageId": "commonlisp"
    }
   },
   "outputs": [
    {
     "data": {
      "text/plain": [
       "#<PACKAGE \"ITERATE\">"
      ]
     },
     "execution_count": 2,
     "metadata": {},
     "output_type": "execute_result"
    }
   ],
   "source": [
    "(find-package 'iter)"
   ]
  },
  {
   "cell_type": "code",
   "execution_count": null,
   "metadata": {
    "vscode": {
     "languageId": "commonlisp"
    }
   },
   "outputs": [
    {
     "data": {
      "text/plain": [
       "(1 2 3 4 5 6 7 8 9 10)"
      ]
     },
     "execution_count": 3,
     "metadata": {},
     "output_type": "execute_result"
    }
   ],
   "source": [
    "; explicitly\n",
    "(iter:iter\n",
    "   (iter:for i from 1 to 10)\n",
    "   (iter:collect i))"
   ]
  },
  {
   "cell_type": "code",
   "execution_count": 4,
   "metadata": {
    "vscode": {
     "languageId": "commonlisp"
    }
   },
   "outputs": [
    {
     "data": {
      "text/plain": [
       "T"
      ]
     },
     "execution_count": 4,
     "metadata": {},
     "output_type": "execute_result"
    },
    {
     "name": "stdout",
     "output_type": "stream",
     "text": [
      "\n",
      "ITERATE:INITIALLY   Lisp forms to execute before loop starts\n",
      "ITERATE:AFTER-EACH   Lisp forms to execute after each iteration\n",
      "ITERATE:ELSE   Lisp forms to execute if the loop is never entered\n",
      "ITERATE:FINALLY   Lisp forms to execute after loop ends\n",
      "ITERATE:FINALLY-PROTECTED   Lisp forms in an UNWIND-PROTECT after loop ends\n",
      "ITERATE:IF-FIRST-TIME   Evaluate branch depending on whether this clause is met for the first time\n",
      "ITERATE:FIRST-TIME-P   True when evaluated for the first time\n",
      "ITERATE:FIRST-ITERATION-P   True within first iteration through the body\n",
      "ITERATE:IN   Process forms in a named Iterate block\n",
      "ITERATE:NEXT   Explicitly step a driver variable\n",
      "ITERATE:ACCUMULATE BY &OPTIONAL INITIAL-VALUE INTO   Generalized accumulation\n",
      "ITERATE:NUNIONING &OPTIONAL INTO AT TEST   Union into a list, destructively\n",
      "ITERATE:UNIONING &OPTIONAL INTO AT TEST   Union into a list\n",
      "ITERATE:APPENDING &OPTIONAL INTO AT   Append into a list\n",
      "ITERATE:NCONCING &OPTIONAL INTO AT   Nconc into a list\n",
      "ITERATE:ADJOINING &OPTIONAL INTO AT TEST RESULT-TYPE   Adjoin into a list (tests for membership first)\n",
      "ITERATE:COLLECT &OPTIONAL INTO AT RESULT-TYPE   Collect into a list\n",
      "ITERATE:FINDING MINIMIZING &OPTIONAL INTO   Return value which minimizes expression\n",
      "ITERATE:FINDING MAXIMIZING &OPTIONAL INTO   Return value which maximizes expression\n",
      "ITERATE:FINDING SUCH-THAT &OPTIONAL INTO ON-FAILURE   Return expression when test is non-nil\n",
      "ITERATE:THEREIS   Return value of expression as soon as it is non-nil\n",
      "ITERATE:NEVER   Return T iff expression is never non-nil\n",
      "ITERATE:ALWAYS   Return last value iff expression is always non-nil\n",
      "ITERATE:UNTIL   Exit loop if test is non-nil\n",
      "ITERATE:WHILE   Exit loop if test is nil\n",
      "ITERATE:MINIMIZE &OPTIONAL INTO   Minimize value of an expression\n",
      "ITERATE:MAXIMIZE &OPTIONAL INTO   Maximize value of an expression\n",
      "ITERATE:REDUCING BY &OPTIONAL INITIAL-VALUE INTO   Generalized reduction\n",
      "ITERATE:MULTIPLY &OPTIONAL INTO   Multiply into a variable\n",
      "ITERATE:SUM &OPTIONAL INTO   Sum into a variable\n",
      "ITERATE:COUNTING &OPTIONAL INTO   Increment a variable if expression is non-nil\n",
      "ITERATE:WITH &OPTIONAL =   Bind a variable\n",
      "ITERATE:FOR PREVIOUS &OPTIONAL INITIALLY BACK   Previous value of a variable\n",
      "ITERATE:FOR FIRST THEN   Set var on first, and then on subsequent iterations\n",
      "ITERATE:FOR =   Set a variable on each iteration\n",
      "ITERATE:FOR INITIALLY THEN   Set var initially, then on subsequent iterations\n",
      "ITERATE:FOR DO-NEXT   General driver; VAR must be set in DO-NEXT\n",
      "ITERATE:FOR NEXT   General driver; VAR is set to value of NEXT\n",
      "ITERATE:FOR IN-STREAM &OPTIONAL USING   Forms in a stream (which will be closed at the end)\n",
      "ITERATE:FOR IN-FILE &OPTIONAL USING   Forms in a file\n",
      "ITERATE:FOR IN-PACKAGE &OPTIONAL EXTERNAL-ONLY   Symbols accessible in a package\n",
      "ITERATE:FOR IN-PACKAGES &OPTIONAL HAVING-ACCESS   Symbols and their access-types in packages\n",
      "ITERATE:FOR IN-HASHTABLE   Elements and keys of a hashtable\n",
      "ITERATE:FOR INDEX-OF-STRING &OPTIONAL FROM UPFROM DOWNFROM TO DOWNTO ABOVE BELOW BY\n",
      "  WITH-INDEX   Indices of a string\n",
      "ITERATE:FOR IN-STRING &OPTIONAL FROM UPFROM DOWNFROM TO DOWNTO ABOVE BELOW BY \n",
      "  WITH-INDEX   Characters in a string\n",
      "ITERATE:FOR INDEX-OF-SEQUENCE &OPTIONAL FROM UPFROM DOWNFROM TO DOWNTO ABOVE BELOW \n",
      "  BY WITH-INDEX   Indices of a sequence (vector or list)\n",
      "ITERATE:FOR IN-SEQUENCE &OPTIONAL FROM UPFROM DOWNFROM TO DOWNTO ABOVE BELOW BY \n",
      "  WITH-INDEX   Elements of a sequence (vector or list)\n",
      "ITERATE:FOR INDEX-OF-VECTOR &OPTIONAL FROM UPFROM DOWNFROM TO DOWNTO ABOVE BELOW BY\n",
      "  WITH-INDEX   Indices of a vector\n",
      "ITERATE:FOR IN-VECTOR &OPTIONAL FROM UPFROM DOWNFROM TO DOWNTO ABOVE BELOW BY \n",
      "  WITH-INDEX   Elements of a vector\n",
      "ITERATE:FOR IN &OPTIONAL BY   Elements of a list\n",
      "ITERATE:FOR &OPTIONAL FROM UPFROM DOWNFROM TO DOWNTO ABOVE BELOW BY WITH-INDEX   Numbers\n",
      "ITERATE:FOR ON &OPTIONAL BY   Sublists of a list\n",
      "ITERATE:REPEAT   Repeat the loop some number of times\n"
     ]
    }
   ],
   "source": [
    "(iter:display-iterate-clauses)"
   ]
  },
  {
   "cell_type": "code",
   "execution_count": null,
   "metadata": {
    "vscode": {
     "languageId": "commonlisp"
    }
   },
   "outputs": [],
   "source": [
    "; (use-package 'iterate) ; conflicts!!!"
   ]
  },
  {
   "cell_type": "code",
   "execution_count": 5,
   "metadata": {
    "vscode": {
     "languageId": "commonlisp"
    }
   },
   "outputs": [
    {
     "data": {
      "text/plain": [
       "#<PACKAGE \"ITERATE\">"
      ]
     },
     "execution_count": 5,
     "metadata": {},
     "output_type": "execute_result"
    }
   ],
   "source": [
    "; use in-package to fast demonstration\n",
    "(in-package :iterate)"
   ]
  },
  {
   "cell_type": "code",
   "execution_count": 6,
   "metadata": {
    "vscode": {
     "languageId": "commonlisp"
    }
   },
   "outputs": [
    {
     "data": {
      "text/plain": [
       "(1 2 3 4 5 6 7 8 9 10)"
      ]
     },
     "execution_count": 6,
     "metadata": {},
     "output_type": "execute_result"
    }
   ],
   "source": [
    "(iter\n",
    "   (for i from 1 to 10)\n",
    "   (collect i))"
   ]
  },
  {
   "cell_type": "code",
   "execution_count": 7,
   "metadata": {
    "vscode": {
     "languageId": "commonlisp"
    }
   },
   "outputs": [
    {
     "data": {
      "text/plain": [
       "(1 2 3)"
      ]
     },
     "execution_count": 7,
     "metadata": {},
     "output_type": "execute_result"
    }
   ],
   "source": [
    "(let ((l '((1 2 3) (1 2) (1))))\n",
    "  (iterate (for item in l)\n",
    "           (finding item maximizing (length item))))"
   ]
  },
  {
   "cell_type": "markdown",
   "metadata": {},
   "source": [
    "# Clauses\n",
    "\n",
    "TODO"
   ]
  }
 ],
 "metadata": {
  "kernelspec": {
   "display_name": "Common Lisp",
   "language": "common-lisp",
   "name": "common-lisp"
  },
  "language_info": {
   "codemirror_mode": "text/x-common-lisp",
   "file_extension": ".lisp",
   "mimetype": "text/x-common-lisp",
   "name": "common-lisp",
   "pygments_lexer": "common-lisp",
   "version": "2.4.10"
  }
 },
 "nbformat": 4,
 "nbformat_minor": 2
}
