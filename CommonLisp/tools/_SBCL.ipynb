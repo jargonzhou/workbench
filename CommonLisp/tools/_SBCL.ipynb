{
 "cells": [
  {
   "cell_type": "markdown",
   "metadata": {},
   "source": [
    "# Features"
   ]
  },
  {
   "cell_type": "code",
   "execution_count": 3,
   "metadata": {
    "vscode": {
     "languageId": "plaintext"
    }
   },
   "outputs": [
    {
     "data": {
      "text/plain": [
       "NIL"
      ]
     },
     "execution_count": 3,
     "metadata": {},
     "output_type": "execute_result"
    },
    {
     "name": "stdout",
     "output_type": "stream",
     "text": [
      "\n",
      ":GRAY-STREAMS-LINE-LENGTH \n",
      ":GRAY-STREAMS-INTERACTIVE \n",
      ":GRAY-STREAMS-FILE-POSITION/OPTIONAL \n",
      ":GRAY-STREAMS-FILE-POSITION \n",
      ":GRAY-STREAMS-SEQUENCE/OPTIONAL \n",
      ":GRAY-STREAMS-SEQUENCE \n",
      ":GRAY-STREAMS-DIRECTIONP \n",
      ":IRONCLAD-ASSEMBLY \n",
      ":IRONCLAD-SB-VM-EA \n",
      ":IRONCLAD-FAST-MOD64-ARITHMETIC \n",
      ":IRONCLAD-FAST-MOD32-ARITHMETIC \n",
      ":CLOSER-MOP \n",
      ":BORDEAUX-THREADS \n",
      ":GLOBAL-VARS \n",
      "CFFI-FEATURES:FLAT-NAMESPACE \n",
      "CFFI-FEATURES:X86-64 \n",
      "CFFI-FEATURES:WINDOWS \n",
      ":CFFI \n",
      "CFFI-SYS::FLAT-NAMESPACE \n",
      ":WINDOWS \n",
      "ALEXANDRIA::SEQUENCE-EMPTYP \n",
      ":THREAD-SUPPORT \n",
      ":QUICKLISP \n",
      ":ASDF3.3 \n",
      ":ASDF3.2 \n",
      ":ASDF3.1 \n",
      ":ASDF3 \n",
      ":ASDF2 \n",
      ":ASDF \n",
      ":OS-WINDOWS \n",
      ":NON-BASE-CHARS-EXIST-P \n",
      ":ASDF-UNICODE \n",
      ":ARENA-ALLOCATOR \n",
      ":X86-64 \n",
      ":GENCGC \n",
      ":64-BIT \n",
      ":ANSI-CL \n",
      ":COMMON-LISP \n",
      ":IEEE-FLOATING-POINT \n",
      ":LITTLE-ENDIAN \n",
      ":PACKAGE-LOCAL-NICKNAMES \n",
      ":SB-LDB \n",
      ":SB-PACKAGE-LOCKS \n",
      ":SB-SAFEPOINT \n",
      ":SB-THREAD \n",
      ":SB-UNICODE \n",
      ":SBCL \n",
      ":WIN32 "
     ]
    }
   ],
   "source": [
    "(loop for feature in *features*\n",
    "      do (print feature))"
   ]
  },
  {
   "cell_type": "markdown",
   "metadata": {},
   "source": [
    "# sb-ext"
   ]
  },
  {
   "cell_type": "markdown",
   "metadata": {},
   "source": [
    "## run-program"
   ]
  },
  {
   "cell_type": "code",
   "execution_count": null,
   "metadata": {
    "vscode": {
     "languageId": "commonlisp"
    }
   },
   "outputs": [
    {
     "data": {
      "text/plain": [
       "#<SB-IMPL::PROCESS :EXITED 0>"
      ]
     },
     "execution_count": 7,
     "metadata": {},
     "output_type": "execute_result"
    },
    {
     "name": "stdout",
     "output_type": "stream",
     "text": [
      "FiveAM.ipynb\n",
      "SBCL Threading.ipynb\n",
      "_ASDF.ipynb\n",
      "_SBCL.ipynb\n",
      "common-lisp-jupyter\n",
      "empty.txt\n",
      "hello.txt\n"
     ]
    }
   ],
   "source": [
    "; windows\n",
    "(sb-ext:run-program \"C:\\\\Program Files\\\\Git\\\\usr\\\\bin\\\\ls.exe\" '() :output *standard-output*)"
   ]
  }
 ],
 "metadata": {
  "kernelspec": {
   "display_name": "Common Lisp",
   "language": "common-lisp",
   "name": "common-lisp"
  },
  "language_info": {
   "codemirror_mode": "text/x-common-lisp",
   "file_extension": ".lisp",
   "mimetype": "text/x-common-lisp",
   "name": "common-lisp",
   "pygments_lexer": "common-lisp",
   "version": "2.4.10"
  }
 },
 "nbformat": 4,
 "nbformat_minor": 2
}
