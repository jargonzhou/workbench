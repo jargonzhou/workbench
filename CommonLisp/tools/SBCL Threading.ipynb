{
 "cells": [
  {
   "cell_type": "code",
   "execution_count": 1,
   "metadata": {
    "vscode": {
     "languageId": "commonlisp"
    }
   },
   "outputs": [
    {
     "data": {
      "text/plain": [
       "(:SB-THREAD :SB-UNICODE :SBCL :WIN32)"
      ]
     },
     "execution_count": 1,
     "metadata": {},
     "output_type": "execute_result"
    }
   ],
   "source": [
    "(member :sb-thread *features*)"
   ]
  },
  {
   "cell_type": "markdown",
   "metadata": {},
   "source": [
    "# Threading bascis"
   ]
  },
  {
   "cell_type": "code",
   "execution_count": 2,
   "metadata": {
    "vscode": {
     "languageId": "commonlisp"
    }
   },
   "outputs": [
    {
     "data": {
      "text/plain": [
       "(#<SB-THREAD:THREAD tid=21608 \"Anonymous thread\" RUNNING {11057100A3}>\n",
       " #<SB-THREAD:THREAD tid=23488 \"SHELL Thread\" RUNNING {11044723E3}>\n",
       " #<SB-THREAD:THREAD tid=13668 \"main thread\" RUNNING {1100BB8003}>)"
      ]
     },
     "execution_count": 2,
     "metadata": {},
     "output_type": "execute_result"
    }
   ],
   "source": [
    "(sb-thread:list-all-threads)"
   ]
  },
  {
   "cell_type": "code",
   "execution_count": 1,
   "metadata": {
    "vscode": {
     "languageId": "commonlisp"
    }
   },
   "outputs": [
    {
     "data": {
      "text/plain": [
       "T"
      ]
     },
     "execution_count": 1,
     "metadata": {},
     "output_type": "execute_result"
    },
    {
     "data": {
      "text/plain": [
       "(#<SB-THREAD:THREAD tid=21608 \"Anonymous thread\" RUNNING {11057100A3}>\n",
       " #<SB-THREAD:THREAD tid=23488 \"SHELL Thread\" RUNNING {11044723E3}>\n",
       " #<SB-THREAD:THREAD tid=13668 \"main thread\" RUNNING {1100BB8003}>)"
      ]
     },
     "execution_count": 1,
     "metadata": {},
     "output_type": "execute_result"
    },
    {
     "name": "stdout",
     "output_type": "stream",
     "text": [
      "\n",
      "(#<SB-THREAD:THREAD tid=21608 \"Anonymous thread\" RUNNING {11057100A3}>\n",
      " #<SB-THREAD:THREAD tid=23488 \"SHELL Thread\" RUNNING {11044723E3}>\n",
      " #<SB-THREAD:THREAD tid=13668 \"main thread\" RUNNING {1100BB8003}>) \n",
      "(#<SB-THREAD:THREAD tid=26552 \"hello-t\" RUNNING {1101B2CF13}>\n",
      " #<SB-THREAD:THREAD tid=21608 \"Anonymous thread\" RUNNING {11057100A3}>\n",
      " #<SB-THREAD:THREAD tid=23488 \"SHELL Thread\" RUNNING {11044723E3}>\n",
      " #<SB-THREAD:THREAD tid=13668 \"main thread\" RUNNING {1100BB8003}>) \n",
      "OK \n",
      "(#<SB-THREAD:THREAD tid=21608 \"Anonymous thread\" RUNNING {11057100A3}>\n",
      " #<SB-THREAD:THREAD tid=23488 \"SHELL Thread\" RUNNING {11044723E3}>\n",
      " #<SB-THREAD:THREAD tid=13668 \"main thread\" RUNNING {1100BB8003}>) "
     ]
    }
   ],
   "source": [
    "(import 'sb-thread:make-thread)\n",
    "\n",
    "(let ()\n",
    "  (print (sb-thread:list-all-threads))\n",
    "  (let ((t1 (make-thread (lambda ()\n",
    "                           (print \"Hello, thread.\")\n",
    "                           'ok)\n",
    "                           :name \"hello-t\")))\n",
    "    (print (sb-thread:list-all-threads))\n",
    "    (print (sb-thread:join-thread t1)))\n",
    "  (print (sb-thread:list-all-threads)))\n"
   ]
  },
  {
   "cell_type": "markdown",
   "metadata": {},
   "source": [
    "# Special Variables"
   ]
  },
  {
   "cell_type": "code",
   "execution_count": null,
   "metadata": {
    "vscode": {
     "languageId": "commonlisp"
    }
   },
   "outputs": [
    {
     "data": {
      "text/plain": [
       "*X*"
      ]
     },
     "execution_count": 3,
     "metadata": {},
     "output_type": "execute_result"
    },
    {
     "data": {
      "text/plain": [
       "0"
      ]
     },
     "execution_count": 3,
     "metadata": {},
     "output_type": "execute_result"
    }
   ],
   "source": [
    "(defparameter *x* 0)\n",
    "(let ((*x* 1))\n",
    "  (sb-thread:join-thread\n",
    "    ; threads do NOT inherit dynamic bindings from the parent thread\n",
    "    (sb-thread:make-thread (lambda () *x*))))"
   ]
  },
  {
   "cell_type": "markdown",
   "metadata": {},
   "source": [
    "# Atomic Operations"
   ]
  },
  {
   "cell_type": "code",
   "execution_count": 2,
   "metadata": {
    "vscode": {
     "languageId": "commonlisp"
    }
   },
   "outputs": [
    {
     "data": {
      "text/plain": [
       "*C*"
      ]
     },
     "execution_count": 2,
     "metadata": {},
     "output_type": "execute_result"
    },
    {
     "data": {
      "text/plain": [
       "MAKE-COUNTER"
      ]
     },
     "execution_count": 2,
     "metadata": {},
     "output_type": "execute_result"
    },
    {
     "data": {
      "text/plain": [
       "20000"
      ]
     },
     "execution_count": 2,
     "metadata": {},
     "output_type": "execute_result"
    },
    {
     "name": "stdout",
     "output_type": "stream",
     "text": [
      "SB-KERNEL:REDEFINITION-WITH-DEFUN: redefining COMMON-LISP-USER::MAKE-COUNTER in DEFUN\n"
     ]
    }
   ],
   "source": [
    "(defparameter *c* (cons 0 nil))\n",
    "(defun make-counter (name)\n",
    "  (sb-thread:make-thread (lambda ()\n",
    "                           (dotimes (idx 10000 idx)\n",
    "                             (sb-ext:atomic-incf (car *c*))))\n",
    "                         :name name))\n",
    "\n",
    "(let ((t1 (make-counter \"t1\"))\n",
    "      (t2 (make-counter \"t2\")))\n",
    "  (+ (sb-thread:join-thread t1)\n",
    "     (sb-thread:join-thread t2)))"
   ]
  },
  {
   "cell_type": "code",
   "execution_count": null,
   "metadata": {
    "vscode": {
     "languageId": "commonlisp"
    }
   },
   "outputs": [
    {
     "data": {
      "text/plain": [
       "#<FUNCTION (MACRO-FUNCTION COMPARE-AND-SWAP) {10007EBFDB}>"
      ]
     },
     "execution_count": 1,
     "metadata": {},
     "output_type": "execute_result"
    },
    {
     "data": {
      "text/plain": [
       "#<FUNCTION (MACRO-FUNCTION CAS) {10007EBB4B}>"
      ]
     },
     "execution_count": 1,
     "metadata": {},
     "output_type": "execute_result"
    },
    {
     "name": "stdout",
     "output_type": "stream",
     "text": [
      "\n",
      "SB-EXT:CAS\n",
      "  [symbol]\n",
      "\n",
      "CAS names a macro:\n",
      "  Lambda-list: (PLACE OLD NEW)\n",
      "  Documentation:\n",
      "    Synonym for COMPARE-AND-SWAP.\n",
      "    \n",
      "    Additionally DEFUN, DEFGENERIC, DEFMETHOD, FLET, and LABELS can be also used to\n",
      "    define CAS-functions analogously to SETF-functions:\n",
      "    \n",
      "      (defvar *foo* nil)\n",
      "    \n",
      "      (defun (cas foo) (old new)\n",
      "        (cas (symbol-value '*foo*) old new))\n",
      "    \n",
      "    First argument of a CAS function is the expected old value, and the second\n",
      "    argument of is the new value. Note that the system provides no automatic\n",
      "    atomicity for CAS functions, nor can it verify that they are atomic: it is up\n",
      "    to the implementor of a CAS function to ensure its atomicity.\n",
      "    \n",
      "    EXPERIMENTAL: Interface subject to change.\n",
      "  Source file: SYS:SRC;CODE;MACROS.LISP\n"
     ]
    }
   ],
   "source": [
    "(macro-function 'sb-ext:compare-and-swap)\n",
    "(macro-function 'sb-ext:cas)\n",
    "\n",
    "(describe 'sb-ext:cas)"
   ]
  },
  {
   "cell_type": "markdown",
   "metadata": {},
   "source": [
    "# Mutex Support"
   ]
  },
  {
   "cell_type": "code",
   "execution_count": null,
   "metadata": {
    "vscode": {
     "languageId": "commonlisp"
    }
   },
   "outputs": [
    {
     "data": {
      "text/plain": [
       "*A-MUTEX*"
      ]
     },
     "execution_count": 6,
     "metadata": {},
     "output_type": "execute_result"
    },
    {
     "data": {
      "text/plain": [
       "*LOG-MUTEX*"
      ]
     },
     "execution_count": 6,
     "metadata": {},
     "output_type": "execute_result"
    },
    {
     "data": {
      "text/plain": [
       "MAKE-ACQUIRE"
      ]
     },
     "execution_count": 6,
     "metadata": {},
     "output_type": "execute_result"
    },
    {
     "data": {
      "text/plain": [
       "(NIL NIL)"
      ]
     },
     "execution_count": 6,
     "metadata": {},
     "output_type": "execute_result"
    },
    {
     "name": "stdout",
     "output_type": "stream",
     "text": [
      "SB-KERNEL:REDEFINITION-WITH-DEFUN: redefining COMMON-LISP-USER::MAKE-ACQUIRE in DEFUN\n",
      "Thread #<THREAD tid=20712 \"t1\" RUNNING {11023EDBB3}> running \n",
      "Thread #<THREAD tid=20712 \"t1\" RUNNING {11023EDBB3}> got the lock\n",
      "Thread #<THREAD tid=10272 \"t2\" RUNNING {11023EDD53}> running \n",
      "Thread #<THREAD tid=20712 \"t1\" RUNNING {11023EDBB3}> droped lock, dyning now\n",
      "Thread #<THREAD tid=10272 \"t2\" RUNNING {11023EDD53}> got the lock\n",
      "Thread #<THREAD tid=10272 \"t2\" RUNNING {11023EDD53}> droped lock, dyning now\n"
     ]
    }
   ],
   "source": [
    "(defvar *a-mutex* (sb-thread:make-mutex :name \"my lock\"))\n",
    "; with output lock for multiple threads to dumps to console\n",
    "(defvar *log-mutex* (sb-thread:make-mutex :name \"log lock\"))\n",
    "\n",
    "(defun make-acquire (name)\n",
    "  (let ((t-l *standard-output*)) ; no dynamic bindings\n",
    "    (sb-thread:make-thread\n",
    "      (lambda ()\n",
    "        (sb-thread:with-mutex (*log-mutex*)\n",
    "          (format t-l \"Thread ~A running ~%\" sb-thread:*current-thread*))\n",
    "        (sb-thread:with-mutex (*a-mutex*)\n",
    "          (sb-thread:with-mutex (*log-mutex*)\n",
    "            (format t-l \"Thread ~A got the lock~%\" sb-thread:*current-thread*))\n",
    "          (sleep (random 2)))\n",
    "        (sb-thread:with-mutex (*log-mutex*)\n",
    "          (format t-l \"Thread ~A droped lock, dyning now~%\" sb-thread:*current-thread*)))\n",
    "      :name name)))\n",
    "\n",
    "(let ((t1 (make-acquire \"t1\"))\n",
    "      (t2 (make-acquire \"t2\")))\n",
    "  (list (sb-thread:join-thread t1)\n",
    "        (sb-thread:join-thread t2)))"
   ]
  },
  {
   "cell_type": "code",
   "execution_count": null,
   "metadata": {
    "vscode": {
     "languageId": "commonlisp"
    }
   },
   "outputs": [
    {
     "data": {
      "text/plain": [
       "NIL"
      ]
     },
     "execution_count": 4,
     "metadata": {},
     "output_type": "execute_result"
    },
    {
     "data": {
      "text/html": [
       "123\n"
      ]
     },
     "metadata": {},
     "output_type": "display_data"
    }
   ],
   "source": [
    "(format jupyter:*html-output* \"~A~%\" 123)"
   ]
  },
  {
   "cell_type": "code",
   "execution_count": 7,
   "metadata": {
    "vscode": {
     "languageId": "commonlisp"
    }
   },
   "outputs": [
    {
     "data": {
      "text/plain": [
       "PRINT-MESSAGE-TOP-LEVEL-FIXED"
      ]
     },
     "execution_count": 7,
     "metadata": {},
     "output_type": "execute_result"
    },
    {
     "data": {
      "text/plain": [
       "NIL"
      ]
     },
     "execution_count": 7,
     "metadata": {},
     "output_type": "execute_result"
    },
    {
     "name": "stdout",
     "output_type": "stream",
     "text": [
      "Hello from thread!"
     ]
    }
   ],
   "source": [
    "(defun print-message-top-level-fixed ()\n",
    "  (let ((top-level *standard-output*))\n",
    "    (sb-thread:make-thread\n",
    "      (lambda ()\n",
    "        (format top-level \"Hello from thread!\"))))\n",
    "  nil)\n",
    "\n",
    "(print-message-top-level-fixed)"
   ]
  },
  {
   "cell_type": "markdown",
   "metadata": {},
   "source": [
    "# Semaphores"
   ]
  },
  {
   "cell_type": "markdown",
   "metadata": {},
   "source": [
    "# Waitqueue/condition variables"
   ]
  },
  {
   "cell_type": "markdown",
   "metadata": {},
   "source": [
    "# Barriers"
   ]
  },
  {
   "cell_type": "markdown",
   "metadata": {},
   "source": [
    "# Sessions/Debugging"
   ]
  },
  {
   "cell_type": "markdown",
   "metadata": {},
   "source": [
    "# Foreign threads"
   ]
  }
 ],
 "metadata": {
  "kernelspec": {
   "display_name": "Common Lisp",
   "language": "common-lisp",
   "name": "common-lisp"
  },
  "language_info": {
   "codemirror_mode": "text/x-common-lisp",
   "file_extension": ".lisp",
   "mimetype": "text/x-common-lisp",
   "name": "common-lisp",
   "pygments_lexer": "common-lisp",
   "version": "2.4.10"
  }
 },
 "nbformat": 4,
 "nbformat_minor": 2
}
