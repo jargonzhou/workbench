{
 "cells": [
  {
   "cell_type": "markdown",
   "metadata": {},
   "source": [
    "# ASDF\n",
    "- https://asdf.common-lisp.dev/asdf.html"
   ]
  },
  {
   "cell_type": "code",
   "execution_count": 6,
   "metadata": {
    "vscode": {
     "languageId": "commonlisp"
    }
   },
   "outputs": [
    {
     "data": {
      "text/plain": [
       "0"
      ]
     },
     "execution_count": 6,
     "metadata": {},
     "output_type": "execute_result"
    },
    {
     "name": "stdout",
     "output_type": "stream",
     "text": [
      "UIOP/VERSION:DEPRECATED-FUNCTION-STYLE-WARNING: DEPRECATED-FUNCTION-STYLE-WARNING: Using deprecated function ASDF/BACKWARD-INTERFACE:RUN-SHELL-COMMAND -- please update your code to use a newer API.\n",
      "The docstring for this function says:\n",
      "PLEASE DO NOT USE. This function is not just DEPRECATED, but also dysfunctional.\n",
      "Please use UIOP:RUN-PROGRAM instead.\n",
      "\n"
     ]
    }
   ],
   "source": [
    "(asdf:run-shell-command \"dir\")"
   ]
  },
  {
   "cell_type": "code",
   "execution_count": 5,
   "metadata": {
    "vscode": {
     "languageId": "commonlisp"
    }
   },
   "outputs": [
    {
     "data": {
      "text/plain": [
       "NIL"
      ]
     },
     "execution_count": 5,
     "metadata": {},
     "output_type": "execute_result"
    },
    {
     "data": {
      "text/plain": [
       "NIL"
      ]
     },
     "execution_count": 5,
     "metadata": {},
     "output_type": "execute_result"
    },
    {
     "data": {
      "text/plain": [
       "0"
      ]
     },
     "execution_count": 5,
     "metadata": {},
     "output_type": "execute_result"
    }
   ],
   "source": [
    "(uiop:run-program \"dir\")"
   ]
  },
  {
   "cell_type": "markdown",
   "metadata": {
    "vscode": {
     "languageId": "commonlisp"
    }
   },
   "source": [
    "# 8 Controlling where ASDF searches for systems"
   ]
  },
  {
   "cell_type": "markdown",
   "metadata": {},
   "source": [
    "## Introspection"
   ]
  },
  {
   "cell_type": "code",
   "execution_count": 3,
   "metadata": {
    "vscode": {
     "languageId": "commonlisp"
    }
   },
   "outputs": [
    {
     "data": {
      "text/plain": [
       "NIL"
      ]
     },
     "execution_count": 3,
     "metadata": {},
     "output_type": "execute_result"
    }
   ],
   "source": [
    "asdf:*source-registry-parameter*"
   ]
  },
  {
   "cell_type": "code",
   "execution_count": 2,
   "metadata": {
    "vscode": {
     "languageId": "commonlisp"
    }
   },
   "outputs": [
    {
     "data": {
      "text/plain": [
       "NIL"
      ]
     },
     "execution_count": 2,
     "metadata": {},
     "output_type": "execute_result"
    },
    {
     "name": "stdout",
     "output_type": "stream",
     "text": [
      "sb-aclrepl = D:/software/SBCL-2.4.10/contrib/sb-aclrepl.asd\n",
      "sb-bsd-sockets = D:/software/SBCL-2.4.10/contrib/sb-bsd-sockets.asd\n",
      "sb-capstone = D:/software/SBCL-2.4.10/contrib/sb-capstone.asd\n",
      "sb-cltl2 = D:/software/SBCL-2.4.10/contrib/sb-cltl2.asd\n",
      "sb-concurrency = D:/software/SBCL-2.4.10/contrib/sb-concurrency.asd\n",
      "sb-cover = D:/software/SBCL-2.4.10/contrib/sb-cover.asd\n",
      "sb-executable = D:/software/SBCL-2.4.10/contrib/sb-executable.asd\n",
      "sb-gmp = D:/software/SBCL-2.4.10/contrib/sb-gmp.asd\n",
      "sb-grovel = D:/software/SBCL-2.4.10/contrib/sb-grovel.asd\n",
      "sb-introspect = D:/software/SBCL-2.4.10/contrib/sb-introspect.asd\n",
      "sb-md5 = D:/software/SBCL-2.4.10/contrib/sb-md5.asd\n",
      "sb-mpfr = D:/software/SBCL-2.4.10/contrib/sb-mpfr.asd\n",
      "sb-posix = D:/software/SBCL-2.4.10/contrib/sb-posix.asd\n",
      "sb-queue = D:/software/SBCL-2.4.10/contrib/sb-queue.asd\n",
      "sb-rotate-byte = D:/software/SBCL-2.4.10/contrib/sb-rotate-byte.asd\n",
      "sb-rt = D:/software/SBCL-2.4.10/contrib/sb-rt.asd\n",
      "sb-simd = D:/software/SBCL-2.4.10/contrib/sb-simd.asd\n",
      "sb-simple-streams = D:/software/SBCL-2.4.10/contrib/sb-simple-streams.asd\n",
      "sb-sprof = D:/software/SBCL-2.4.10/contrib/sb-sprof.asd\n"
     ]
    }
   ],
   "source": [
    "(maphash #'(lambda (k v)\n",
    "             (format t \"~A = ~A~%\" k v))\n",
    "         asdf::*source-registry*)"
   ]
  },
  {
   "cell_type": "code",
   "execution_count": 4,
   "metadata": {
    "vscode": {
     "languageId": "commonlisp"
    }
   },
   "outputs": [
    {
     "data": {
      "text/plain": [
       "(#P\"C:/Users/zhouj/quicklisp/quicklisp/\")"
      ]
     },
     "execution_count": 4,
     "metadata": {},
     "output_type": "execute_result"
    }
   ],
   "source": [
    "asdf:*central-registry*"
   ]
  },
  {
   "cell_type": "code",
   "execution_count": 7,
   "metadata": {
    "vscode": {
     "languageId": "commonlisp"
    }
   },
   "outputs": [
    {
     "data": {
      "text/plain": [
       "(:SOURCE-REGISTRY (:TREE (:HOME \"common-lisp/\"))\n",
       " (:DIRECTORY (:HOME \".sbcl/systems/\"))\n",
       " (:DIRECTORY #P\"C:/Users/zhouj/AppData/Local/common-lisp/systems/\")\n",
       " (:TREE #P\"C:/Users/zhouj/AppData/Local/common-lisp/source/\")\n",
       " :INHERIT-CONFIGURATION)"
      ]
     },
     "execution_count": 7,
     "metadata": {},
     "output_type": "execute_result"
    }
   ],
   "source": [
    "(asdf/source-registry:default-user-source-registry)"
   ]
  },
  {
   "cell_type": "code",
   "execution_count": 8,
   "metadata": {
    "vscode": {
     "languageId": "commonlisp"
    }
   },
   "outputs": [
    {
     "data": {
      "text/plain": [
       "(:SOURCE-REGISTRY\n",
       " (:DIRECTORY (#P\"C:/Users/zhouj/AppData/Roaming/common-lisp/\" \"systems/\"))\n",
       " (:TREE (#P\"C:/Users/zhouj/AppData/Roaming/common-lisp/\" \"source/\"))\n",
       " (:DIRECTORY (#P\"C:/ProgramData/Application Data/common-lisp/\" \"systems/\"))\n",
       " (:TREE (#P\"C:/ProgramData/Application Data/common-lisp/\" \"source/\"))\n",
       " :INHERIT-CONFIGURATION)"
      ]
     },
     "execution_count": 8,
     "metadata": {},
     "output_type": "execute_result"
    }
   ],
   "source": [
    "(asdf/source-registry:default-system-source-registry)"
   ]
  }
 ],
 "metadata": {
  "kernelspec": {
   "display_name": "Common Lisp",
   "language": "common-lisp",
   "name": "common-lisp"
  },
  "language_info": {
   "codemirror_mode": "text/x-common-lisp",
   "file_extension": ".lisp",
   "mimetype": "text/x-common-lisp",
   "name": "common-lisp",
   "pygments_lexer": "common-lisp",
   "version": "2.4.10"
  }
 },
 "nbformat": 4,
 "nbformat_minor": 2
}
