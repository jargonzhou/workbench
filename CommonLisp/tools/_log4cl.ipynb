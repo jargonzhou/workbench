{
 "cells": [
  {
   "cell_type": "markdown",
   "metadata": {},
   "source": [
    "# log4cl\n",
    "- https://github.com/sharplispers/log4cl/"
   ]
  },
  {
   "cell_type": "code",
   "execution_count": 1,
   "metadata": {
    "vscode": {
     "languageId": "commonlisp"
    }
   },
   "outputs": [
    {
     "name": "stdout",
     "output_type": "stream",
     "text": [
      "To load \"log4cl\":\n",
      "  Load 1 ASDF system:\n",
      "    log4cl\n",
      "\n",
      "; Loading \"log4cl\"\n",
      "."
     ]
    },
    {
     "data": {
      "text/plain": [
       "(:LOG4CL)"
      ]
     },
     "execution_count": 1,
     "metadata": {},
     "output_type": "execute_result"
    },
    {
     "name": "stdout",
     "output_type": "stream",
     "text": [
      "\n"
     ]
    }
   ],
   "source": [
    "(ql:quickload :log4cl)"
   ]
  },
  {
   "cell_type": "code",
   "execution_count": 2,
   "metadata": {
    "vscode": {
     "languageId": "commonlisp"
    }
   },
   "outputs": [
    {
     "name": "stdout",
     "output_type": "stream",
     "text": [
      "ROOT, INFO\n",
      "|\n",
      "+-(1)-#<CONSOLE-APPENDER {1103159F53}>\n",
      "|     with #<PATTERN-LAYOUT {1103159593}>\n",
      "|          :conversion-pattern\n",
      "|            \"%&%<%I%;<;;>;-5p [%D{%H:%M:%S}] %g{}{}{:downcase}%:; ;F (%C{}{ }{:downcase})%2.2N - %:_%m%>%n\"\n",
      "|     :immediate-flush T\n",
      "|     :flush-interval  1\n",
      "|     :message-count   0\n",
      "|\n",
      "+-(2)-#<TRICKY-CONSOLE-APPENDER {110328DDC3}>\n",
      "      with #<PATTERN-LAYOUT {1103159593}>\n",
      "           :conversion-pattern\n",
      "             \"%&%<%I%;<;;>;-5p [%D{%H:%M:%S}] %g{}{}{:downcase}%:; ;F (%C{}{ }{:downcase})%2.2N - %:_%m%>%n\"\n",
      "      :immediate-flush T\n",
      "      :flush-interval  1\n",
      "      :stream-owner    NIL\n",
      "      :stream          #<JUPYTER::IOPUB-STREAM {110102FD33}>\n",
      "      :message-count   0\n"
     ]
    }
   ],
   "source": [
    "(log:config)"
   ]
  },
  {
   "cell_type": "code",
   "execution_count": 3,
   "metadata": {
    "vscode": {
     "languageId": "commonlisp"
    }
   },
   "outputs": [],
   "source": [
    "; https://github.com/7max/log4cl/blob/master/src/configurator.lisp\n",
    "(log:config :debug :NOPRETTY)"
   ]
  },
  {
   "cell_type": "code",
   "execution_count": 4,
   "metadata": {
    "vscode": {
     "languageId": "commonlisp"
    }
   },
   "outputs": [
    {
     "name": "stdout",
     "output_type": "stream",
     "text": [
      "\n",
      " <INFO> [14:50:39] cl-user FACC959D7A9C419A49EFC8B0498875A1-1803794826.lisp () - I just ate a 3.142, feeling tired\n",
      "\n",
      "<DEBUG> [14:50:39] cl-user FACC959D7A9C419A49EFC8B0498875A1-1803794826.lisp () - SHEEP: 0 zzz\n",
      "\n",
      "<DEBUG> [14:50:39] cl-user FACC959D7A9C419A49EFC8B0498875A1-1803794826.lisp () - SHEEP: 1 zzz\n",
      "\n",
      "<DEBUG> [14:50:39] cl-user FACC959D7A9C419A49EFC8B0498875A1-1803794826.lisp () - SHEEP: 2 zzz\n",
      "\n",
      " <WARN> [14:50:39] cl-user FACC959D7A9C419A49EFC8B0498875A1-1803794826.lisp () - doh fell asleep for (RANDOM 10): 6 minutes\n"
     ]
    }
   ],
   "source": [
    "(progn\n",
    "  (log:info \"I just ate a ~5f, feeling tired\" pi) \n",
    "  (when (log:debug)\n",
    "    (dotimes (sheep 3)\n",
    "      (log:debug sheep \"zzz\")))\n",
    "  (log:warn \"doh fell asleep for\" (random 10) \"minutes\"))"
   ]
  },
  {
   "cell_type": "code",
   "execution_count": 5,
   "metadata": {
    "vscode": {
     "languageId": "commonlisp"
    }
   },
   "outputs": [
    {
     "name": "stdout",
     "output_type": "stream",
     "text": [
      "\n",
      "<DEBUG> [15:22:27] cl-user FACC959D7A9C419A49EFC8B0498875A1-2703870885.lisp () - (1 2 3)\n"
     ]
    }
   ],
   "source": [
    "(log:debug \"~A\" '(1 2 3))"
   ]
  }
 ],
 "metadata": {
  "kernelspec": {
   "display_name": "Common Lisp",
   "language": "common-lisp",
   "name": "common-lisp"
  },
  "language_info": {
   "codemirror_mode": "text/x-common-lisp",
   "file_extension": ".lisp",
   "mimetype": "text/x-common-lisp",
   "name": "common-lisp",
   "pygments_lexer": "common-lisp",
   "version": "2.4.10"
  }
 },
 "nbformat": 4,
 "nbformat_minor": 2
}
