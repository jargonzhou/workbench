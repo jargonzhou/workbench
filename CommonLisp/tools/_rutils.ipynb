{
 "cells": [
  {
   "cell_type": "markdown",
   "metadata": {},
   "source": [
    "# rutils\n",
    "- Radical Utilities for Common Lisp\n",
    "- Tutorial: https://github.com/vseloved/rutils/blob/master/docs/tutorial.md"
   ]
  },
  {
   "cell_type": "code",
   "execution_count": 5,
   "metadata": {
    "vscode": {
     "languageId": "commonlisp"
    }
   },
   "outputs": [
    {
     "name": "stdout",
     "output_type": "stream",
     "text": [
      "To load \"rutils\":\n",
      "  Load 1 ASDF system:\n",
      "    rutils\n"
     ]
    },
    {
     "data": {
      "text/plain": [
       "(:RUTILS)"
      ]
     },
     "execution_count": 5,
     "metadata": {},
     "output_type": "execute_result"
    },
    {
     "data": {
      "text/plain": [
       "#<PACKAGE \"RTL-USER\">"
      ]
     },
     "execution_count": 5,
     "metadata": {},
     "output_type": "execute_result"
    },
    {
     "data": {
      "text/plain": [
       "#<NAMED-READTABLE RUTILS-READTABLE {1103097183}>"
      ]
     },
     "execution_count": 5,
     "metadata": {},
     "output_type": "execute_result"
    },
    {
     "name": "stdout",
     "output_type": "stream",
     "text": [
      "\n",
      "; Loading \"rutils\"\n",
      "\n"
     ]
    }
   ],
   "source": [
    "(ql:quickload :rutils)\n",
    "; (in-package :rtl-user)\n",
    "; (named-readtables:in-readtable rutils-readtable)\n",
    "\n",
    "(in-package :rtl-user)\n",
    "(named-readtables:in-readtable rtl:rutils-readtable)"
   ]
  },
  {
   "cell_type": "code",
   "execution_count": 1,
   "metadata": {
    "vscode": {
     "languageId": "commonlisp"
    }
   },
   "outputs": [
    {
     "data": {
      "text/plain": [
       "T"
      ]
     },
     "execution_count": 1,
     "metadata": {},
     "output_type": "execute_result"
    }
   ],
   "source": [
    "(ql:uninstall :rutils)"
   ]
  },
  {
   "cell_type": "markdown",
   "metadata": {},
   "source": [
    "# rutils.readtable"
   ]
  },
  {
   "cell_type": "code",
   "execution_count": 4,
   "metadata": {
    "vscode": {
     "languageId": "commonlisp"
    }
   },
   "outputs": [
    {
     "data": {
      "text/plain": [
       "#<FUNCTION (LAMBDA (&OPTIONAL % %%)\n",
       "             :IN\n",
       "             \"C:/Users/zhouj/AppData/Local/Temp/FF4C7C749BD44CB85C3AB6FFD29515AD-2602878487.lisp\") {10010D52AB}>"
      ]
     },
     "execution_count": 4,
     "metadata": {},
     "output_type": "execute_result"
    },
    {
     "data": {
      "text/plain": [
       "#<FUNCTION (LAMBDA (&OPTIONAL % %%)\n",
       "             :IN\n",
       "             \"C:/Users/zhouj/AppData/Local/Temp/FF4C7C749BD44CB85C3AB6FFD29515AD-2602878487.lisp\") {10010D53AB}>"
      ]
     },
     "execution_count": 4,
     "metadata": {},
     "output_type": "execute_result"
    },
    {
     "data": {
      "text/plain": [
       "3"
      ]
     },
     "execution_count": 4,
     "metadata": {},
     "output_type": "execute_result"
    },
    {
     "data": {
      "text/plain": [
       "3"
      ]
     },
     "execution_count": 4,
     "metadata": {},
     "output_type": "execute_result"
    }
   ],
   "source": [
    "; literal lambdas\n",
    "^(+ % %%)\n",
    "#`(+ % %%)\n",
    "\n",
    "(funcall ^(+ % %%) 1 2)\n",
    "(funcall #`(+ % %%) 1 2)"
   ]
  },
  {
   "cell_type": "code",
   "execution_count": 5,
   "metadata": {
    "vscode": {
     "languageId": "commonlisp"
    }
   },
   "outputs": [
    {
     "data": {
      "text/plain": [
       "#<HASH-TABLE :TEST EQL :COUNT 2 {11042848F3}>"
      ]
     },
     "execution_count": 5,
     "metadata": {},
     "output_type": "execute_result"
    },
    {
     "data": {
      "text/plain": [
       "#<HASH-TABLE :TEST EQUAL :COUNT 2 {11042B15F3}>"
      ]
     },
     "execution_count": 5,
     "metadata": {},
     "output_type": "execute_result"
    },
    {
     "data": {
      "text/plain": [
       "#<HASH-TABLE :TEST EQL :COUNT 2 {11042DC7E3}>"
      ]
     },
     "execution_count": 5,
     "metadata": {},
     "output_type": "execute_result"
    },
    {
     "data": {
      "text/plain": [
       "#<HASH-TABLE :TEST EQUAL :COUNT 2 {1104307B03}>"
      ]
     },
     "execution_count": 5,
     "metadata": {},
     "output_type": "execute_result"
    }
   ],
   "source": [
    "; literal hash-tables\n",
    "#{:a 1 :b 2}\n",
    "#{equal \"a\" 1 \"b\" 2}\n",
    "\n",
    "#h(:a 1 :b 2)\n",
    "#h(equal \"a\" 1 \"b\" 2)"
   ]
  },
  {
   "cell_type": "code",
   "execution_count": 7,
   "metadata": {
    "vscode": {
     "languageId": "commonlisp"
    }
   },
   "outputs": [
    {
     "data": {
      "text/plain": [
       "#(1 2 3)"
      ]
     },
     "execution_count": 7,
     "metadata": {},
     "output_type": "execute_result"
    },
    {
     "data": {
      "text/plain": [
       "#(1 2 3)"
      ]
     },
     "execution_count": 7,
     "metadata": {},
     "output_type": "execute_result"
    },
    {
     "data": {
      "text/plain": [
       "#(1 2 3)"
      ]
     },
     "execution_count": 7,
     "metadata": {},
     "output_type": "execute_result"
    }
   ],
   "source": [
    "; literal dynamic vectors\n",
    "#(1 2 3)        ; constant vectors\n",
    "#v(1 2 3)       ; non-adjustable normal vectors\n",
    "(vec 1 2 3)     ; adjustable vectors"
   ]
  },
  {
   "cell_type": "code",
   "execution_count": 2,
   "metadata": {
    "vscode": {
     "languageId": "commonlisp"
    }
   },
   "outputs": [
    {
     "data": {
      "text/plain": [
       "DEMO"
      ]
     },
     "execution_count": 2,
     "metadata": {},
     "output_type": "execute_result"
    },
    {
     "data": {
      "text/plain": [
       "\"s1\""
      ]
     },
     "execution_count": 2,
     "metadata": {},
     "output_type": "execute_result"
    },
    {
     "name": "stdout",
     "output_type": "stream",
     "text": [
      "SB-C:INLINING-DEPENDENCY-FAILURE: Call to RUTILS.GENERIC:SMART-SLOT-VALUE could not be inlined because its source\n",
      "code was not saved. A global INLINE or SB-EXT:MAYBE-INLINE proclamation must be\n",
      "in effect to save function definitions for inlining.\n",
      "\n",
      "\"s1\" "
     ]
    }
   ],
   "source": [
    "; dot notation for accessing struct/object slots\n",
    "(defstruct demo\n",
    "  s1 s2 s3)\n",
    "\n",
    "(let ((d (make-demo :s1 \"s1\" :s2 \"s2\" :s3 \"s3\")))\n",
    "  (print @d.s1))"
   ]
  },
  {
   "cell_type": "code",
   "execution_count": 3,
   "metadata": {
    "vscode": {
     "languageId": "commonlisp"
    }
   },
   "outputs": [
    {
     "data": {
      "text/plain": [
       "\"This is a string\n",
       "which allows using the quote (\\\") without escaping\""
      ]
     },
     "execution_count": 3,
     "metadata": {},
     "output_type": "execute_result"
    }
   ],
   "source": [
    "; heredoc strings\n",
    "#/This is a string\n",
    "which allows using the quote (\") without escaping/#"
   ]
  },
  {
   "cell_type": "markdown",
   "metadata": {},
   "source": [
    "# rutils.symbol"
   ]
  },
  {
   "cell_type": "code",
   "execution_count": null,
   "metadata": {
    "vscode": {
     "languageId": "commonlisp"
    }
   },
   "outputs": [],
   "source": [
    "; with-gensyms\n",
    "; with-qunique-names\n",
    "; w/uniqs\n",
    "; once-only\n",
    "\n",
    "; eval-always: eval-when with 3 modes\n",
    "\n",
    "; ensure-symbol\n",
    "; mksym\n",
    "\n",
    "; ensure-keyword\n",
    "; mkeyw\n",
    "\n",
    "; abbr: define alias for functions and macros"
   ]
  },
  {
   "cell_type": "markdown",
   "metadata": {},
   "source": [
    "# rutils.misc"
   ]
  },
  {
   "cell_type": "code",
   "execution_count": 12,
   "metadata": {
    "vscode": {
     "languageId": "commonlisp"
    }
   },
   "outputs": [
    {
     "data": {
      "text/plain": [
       "9"
      ]
     },
     "execution_count": 12,
     "metadata": {},
     "output_type": "execute_result"
    }
   ],
   "source": [
    "; true: complement of null\n",
    "; xor\n",
    "; and2, or2, xor2\n",
    "; more, not-more, less, not-less: like >, >=, <, <= but allow arguments to be null\n",
    "\n",
    "; Clojure-style threading macros: ->, ->>\n",
    "(-> 2\n",
    "    1+\n",
    "    (expt % 2))"
   ]
  },
  {
   "cell_type": "code",
   "execution_count": null,
   "metadata": {
    "vscode": {
     "languageId": "commonlisp"
    }
   },
   "outputs": [],
   "source": [
    "; function composition operator: =>\n",
    "; (=> fn1 fn2) same as (fn1 (fn2 x))"
   ]
  },
  {
   "cell_type": "code",
   "execution_count": null,
   "metadata": {
    "vscode": {
     "languageId": "commonlisp"
    }
   },
   "outputs": [],
   "source": [
    "; 2 case-like control flow constructs\n",
    "; pcase, dcase\n",
    "; switch, cswitch, eswitch"
   ]
  },
  {
   "cell_type": "code",
   "execution_count": null,
   "metadata": {
    "vscode": {
     "languageId": "commonlisp"
    }
   },
   "outputs": [],
   "source": [
    "; shorthands\n",
    "; void: (setf x nil)\n",
    "; 2nd: (nth-value 1 x)"
   ]
  },
  {
   "cell_type": "code",
   "execution_count": null,
   "metadata": {
    "vscode": {
     "languageId": "commonlisp"
    }
   },
   "outputs": [],
   "source": [
    "; named-lambda, fn: create named anonymous functions\n",
    "; coercef: cortce and re-assign the variable"
   ]
  },
  {
   "cell_type": "markdown",
   "metadata": {},
   "source": [
    "# rutils.anaphora"
   ]
  },
  {
   "cell_type": "code",
   "execution_count": null,
   "metadata": {
    "vscode": {
     "languageId": "commonlisp"
    }
   },
   "outputs": [],
   "source": [
    "; simultaneous assignment and logical tests\n",
    "; when-it\n",
    "; if-it, if-let\n",
    "; cond-it, cond-let\n",
    "; dowhile-it, dowhile-let"
   ]
  },
  {
   "cell_type": "markdown",
   "metadata": {},
   "source": [
    "# rutils.list"
   ]
  },
  {
   "cell_type": "code",
   "execution_count": null,
   "metadata": {
    "vscode": {
     "languageId": "commonlisp"
    }
   },
   "outputs": [],
   "source": [
    "; last1:\n",
    "; assoc1\n",
    "; single, dyadic, triadic\n",
    "; ensure-list, mklist\n"
   ]
  },
  {
   "cell_type": "code",
   "execution_count": 53,
   "metadata": {
    "vscode": {
     "languageId": "commonlisp"
    }
   },
   "outputs": [
    {
     "data": {
      "text/plain": [
       "(1 (2 3) 4)"
      ]
     },
     "execution_count": 53,
     "metadata": {},
     "output_type": "execute_result"
    },
    {
     "data": {
      "text/plain": [
       "(1 2 3 4)"
      ]
     },
     "execution_count": 53,
     "metadata": {},
     "output_type": "execute_result"
    }
   ],
   "source": [
    "; flatten: turn list into flat, or just remove the number of levels \n",
    "(flatten '((1 (2 3)) 4) 1)\n",
    "\n",
    "(flatten '((1 (2 3)) 4))"
   ]
  },
  {
   "cell_type": "code",
   "execution_count": 55,
   "metadata": {
    "vscode": {
     "languageId": "commonlisp"
    }
   },
   "outputs": [
    {
     "data": {
      "text/plain": [
       "(1 4 :FOO 2 5 :BAR 3 6 :BAZ)"
      ]
     },
     "execution_count": 55,
     "metadata": {},
     "output_type": "execute_result"
    },
    {
     "data": {
      "text/plain": [
       "(1 :FOO 2 :FOO 3)"
      ]
     },
     "execution_count": 55,
     "metadata": {},
     "output_type": "execute_result"
    }
   ],
   "source": [
    "; interleave: turn a number of lists into one list by interleaving their elements\n",
    "; interpose: add a separator argument after each list's element\n",
    "\n",
    "(interleave '(1 2 3) '(4 5 6) '(:foo :bar :baz))\n",
    "(interpose :foo '(1 2 3))"
   ]
  },
  {
   "cell_type": "code",
   "execution_count": null,
   "metadata": {
    "vscode": {
     "languageId": "commonlisp"
    }
   },
   "outputs": [],
   "source": [
    "; take\n",
    "\n",
    "; plistp\n",
    "; alistp\n",
    "; remove-from-plist, delete-from-pllist\n",
    "; doplist\n",
    "\n",
    "; appendf, nconcf, unionf, nunionf, reversef, nreversef\n",
    "\n",
    "; set-equal"
   ]
  },
  {
   "cell_type": "code",
   "execution_count": 56,
   "metadata": {
    "vscode": {
     "languageId": "commonlisp"
    }
   },
   "outputs": [
    {
     "data": {
      "text/plain": [
       "((1 4) (2 5) (3 6))"
      ]
     },
     "execution_count": 56,
     "metadata": {},
     "output_type": "execute_result"
    },
    {
     "data": {
      "text/plain": [
       "(5 7 9)"
      ]
     },
     "execution_count": 56,
     "metadata": {},
     "output_type": "execute_result"
    },
    {
     "data": {
      "text/plain": [
       "(5 7)"
      ]
     },
     "execution_count": 56,
     "metadata": {},
     "output_type": "execute_result"
    },
    {
     "data": {
      "text/plain": [
       "((1 . 4) (2 . 5) (3))"
      ]
     },
     "execution_count": 56,
     "metadata": {},
     "output_type": "execute_result"
    }
   ],
   "source": [
    "; zip, zip-with, zip*, zip*-with\n",
    "(zip '(1 2 3) '(4 5 6))\n",
    "(zip-with '+ '(1 2 3) '(4 5 6))\n",
    "(zip-with '+ '(1 2 3) '(4 5))\n",
    "(zip*-with 'cons '(1 2 3) '(4 5))"
   ]
  },
  {
   "cell_type": "code",
   "execution_count": 57,
   "metadata": {
    "vscode": {
     "languageId": "commonlisp"
    }
   },
   "outputs": [
    {
     "data": {
      "text/plain": [
       "(1 2 3 4 5 6 7 8 9 10)"
      ]
     },
     "execution_count": 57,
     "metadata": {},
     "output_type": "execute_result"
    }
   ],
   "source": [
    "; maptimes\n",
    "(maptimes 10 '1+)"
   ]
  },
  {
   "cell_type": "code",
   "execution_count": 58,
   "metadata": {
    "vscode": {
     "languageId": "commonlisp"
    }
   },
   "outputs": [
    {
     "data": {
      "text/plain": [
       "((0 :FOO) (1 :BAR) (2 :BAZ))"
      ]
     },
     "execution_count": 58,
     "metadata": {},
     "output_type": "execute_result"
    },
    {
     "name": "stdout",
     "output_type": "stream",
     "text": [
      "\n",
      "(0 :FOO) \n",
      "(1 :BAR) \n",
      "(2 :BAZ) "
     ]
    }
   ],
   "source": [
    "; mapindex, mapcanindex\n",
    "(mapindex (lambda (i x)\n",
    "            (print (pair i x)))\n",
    "          '(:foo :bar :baz))"
   ]
  },
  {
   "cell_type": "code",
   "execution_count": null,
   "metadata": {
    "vscode": {
     "languageId": "commonlisp"
    }
   },
   "outputs": [],
   "source": [
    "\n",
    "; mappend, mapconcat, flat-map\n",
    "; range\n",
    "; concat\n",
    "; dcons"
   ]
  },
  {
   "cell_type": "markdown",
   "metadata": {},
   "source": [
    "# rutils.string"
   ]
  },
  {
   "cell_type": "code",
   "execution_count": 50,
   "metadata": {
    "vscode": {
     "languageId": "commonlisp"
    }
   },
   "outputs": [
    {
     "data": {
      "text/plain": [
       "T"
      ]
     },
     "execution_count": 50,
     "metadata": {},
     "output_type": "execute_result"
    },
    {
     "data": {
      "text/plain": [
       "NIL"
      ]
     },
     "execution_count": 50,
     "metadata": {},
     "output_type": "execute_result"
    }
   ],
   "source": [
    "; blankp\n",
    "(blankp \"\")\n",
    "(blankp \"hello\")"
   ]
  },
  {
   "cell_type": "code",
   "execution_count": 51,
   "metadata": {
    "vscode": {
     "languageId": "commonlisp"
    }
   },
   "outputs": [
    {
     "data": {
      "text/plain": [
       "\"foobar42\""
      ]
     },
     "execution_count": 51,
     "metadata": {},
     "output_type": "execute_result"
    },
    {
     "data": {
      "text/plain": [
       "\"foo NIL BAR 42\""
      ]
     },
     "execution_count": 51,
     "metadata": {},
     "output_type": "execute_result"
    }
   ],
   "source": [
    "; strcat: concatenate strings, characters\n",
    "(strcat \"foo\" nil \"bar\" #\\4 #\\2)\n",
    "; strjoin: (format nil \"~{~A<delimiter>~}\" ...)\n",
    "(strjoin #\\Space '(\"foo\" nil :bar 42))"
   ]
  },
  {
   "cell_type": "code",
   "execution_count": null,
   "metadata": {
    "vscode": {
     "languageId": "commonlisp"
    }
   },
   "outputs": [],
   "source": [
    "; substr\n",
    "; white-char-p\n",
    "; starts-with\n",
    "; last-char\n",
    "; fmt: shortcut for fomat nil\n",
    "\n",
    "; read-file, slurp\n",
    "; with-out-file"
   ]
  },
  {
   "cell_type": "markdown",
   "metadata": {},
   "source": [
    "# rutils.hash-table"
   ]
  },
  {
   "cell_type": "code",
   "execution_count": 33,
   "metadata": {
    "vscode": {
     "languageId": "commonlisp"
    }
   },
   "outputs": [
    {
     "data": {
      "text/plain": [
       "#<HASH-TABLE :TEST EQL :COUNT 1 {11051D6FB3}>"
      ]
     },
     "execution_count": 33,
     "metadata": {},
     "output_type": "execute_result"
    }
   ],
   "source": [
    "; print-hash-table, print-ht\n",
    "; toggle-print-hash-table\n",
    "\n",
    "#h(:foo 42)"
   ]
  },
  {
   "cell_type": "code",
   "execution_count": 38,
   "metadata": {
    "vscode": {
     "languageId": "commonlisp"
    }
   },
   "outputs": [
    {
     "data": {
      "text/plain": [
       "T"
      ]
     },
     "execution_count": 38,
     "metadata": {},
     "output_type": "execute_result"
    },
    {
     "data": {
      "text/plain": [
       "#{\n",
       "  :FOO 42\n",
       " } "
      ]
     },
     "execution_count": 38,
     "metadata": {},
     "output_type": "execute_result"
    },
    {
     "name": "stdout",
     "output_type": "stream",
     "text": [
      "SB-KERNEL:REDEFINITION-WITH-DEFMETHOD: redefining PRINT-OBJECT (#<STRUCTURE-CLASS COMMON-LISP:HASH-TABLE> #<SB-PCL:SYSTEM-CLASS COMMON-LISP:T>) in DEFMETHOD\n"
     ]
    }
   ],
   "source": [
    "(toggle-print-hash-table)\n",
    "#h(:foo 42)"
   ]
  },
  {
   "cell_type": "code",
   "execution_count": 39,
   "metadata": {
    "vscode": {
     "languageId": "commonlisp"
    }
   },
   "outputs": [
    {
     "data": {
      "text/plain": [
       "NIL"
      ]
     },
     "execution_count": 39,
     "metadata": {},
     "output_type": "execute_result"
    },
    {
     "data": {
      "text/plain": [
       "#<HASH-TABLE :TEST EQL :COUNT 1 {110547E383}>"
      ]
     },
     "execution_count": 39,
     "metadata": {},
     "output_type": "execute_result"
    }
   ],
   "source": [
    "(toggle-print-hash-table)\n",
    "#h(:foo 42)"
   ]
  },
  {
   "cell_type": "code",
   "execution_count": 40,
   "metadata": {
    "vscode": {
     "languageId": "commonlisp"
    }
   },
   "outputs": [
    {
     "data": {
      "text/plain": [
       "(:FOO)"
      ]
     },
     "execution_count": 40,
     "metadata": {},
     "output_type": "execute_result"
    }
   ],
   "source": [
    "; sethash\n",
    "; takehash\n",
    "; getsethash\n",
    "\n",
    "; dotable\n",
    "(let ((rez ()))\n",
    "  (dotable (k v #h(1 :foo 2 :bar) rez)\n",
    "           (when (oddp k)\n",
    "                 (push v rez))))\n",
    "\n",
    "; get#, set#, getset#, take#, in#, p#\n",
    "\n",
    "; hash-table-keys, ht-keys\n",
    "; hash-table-vals, ht-vals\n",
    "\n",
    "; pairs->ht, ht->pairs\n",
    "; ht->alist, alist->ht\n",
    "; ht->plist, plist->ht\n",
    "\n",
    "; merge-hash-table, merget-hts\n",
    "; merge-hash-tables-with, merge-hts-with"
   ]
  },
  {
   "cell_type": "markdown",
   "metadata": {},
   "source": [
    "# rutils.hash-set"
   ]
  },
  {
   "cell_type": "code",
   "execution_count": 32,
   "metadata": {
    "vscode": {
     "languageId": "commonlisp"
    }
   },
   "outputs": [
    {
     "data": {
      "text/plain": [
       "#<HASH-TABLE :TEST EQL :COUNT 0 {110517F913}>"
      ]
     },
     "execution_count": 32,
     "metadata": {},
     "output_type": "execute_result"
    },
    {
     "name": "stdout",
     "output_type": "stream",
     "text": [
      "\n",
      "Original hash-set:\n",
      "#{\n",
      "  :FOO T\n",
      " } \n",
      "After item addition:\n",
      "#{\n",
      "  :FOO T\n",
      " } \n",
      "Union with another:\n",
      "#{\n",
      "  :FOO T\n",
      "  :BAR T\n",
      " } \n",
      "Intersect with another:\n",
      "#{\n",
      " } "
     ]
    }
   ],
   "source": [
    "; hast-set\n",
    "; add#, rem#\n",
    "; inter#, union#, diff#, xor#\n",
    "(let ((h1 (hash-set 'eql :foo))\n",
    "      (h2 (hash-set 'eql :bar)))\n",
    "  (format t \"~&Original hash-set:~%\")\n",
    "  (p# h1)\n",
    "  (add# :foo h1)\n",
    "  (format t \"~&After item addition:~%\")\n",
    "  (p# h1)\n",
    "  (format t \"~&Union with another:~%\")\n",
    "  (p# (union# h1 h2))\n",
    "  (format t \"~&Intersect with another:~%\")\n",
    "  (p# (inter# h1 h2)))"
   ]
  },
  {
   "cell_type": "markdown",
   "metadata": {},
   "source": [
    "# rutils.array"
   ]
  },
  {
   "cell_type": "code",
   "execution_count": null,
   "metadata": {
    "vscode": {
     "languageId": "commonlisp"
    }
   },
   "outputs": [],
   "source": [
    "; slice: vector subsequencing by using array-displacement\n",
    "; vec: create a dynamic adjustable vector\n",
    "; dovec"
   ]
  },
  {
   "cell_type": "markdown",
   "metadata": {},
   "source": [
    "# rutils.sequence"
   ]
  },
  {
   "cell_type": "code",
   "execution_count": null,
   "metadata": {
    "vscode": {
     "languageId": "commonlisp"
    }
   },
   "outputs": [],
   "source": [
    "; split-sequence\n",
    "; split, split-if, split-if-not"
   ]
  },
  {
   "cell_type": "code",
   "execution_count": null,
   "metadata": {
    "vscode": {
     "languageId": "commonlisp"
    }
   },
   "outputs": [
    {
     "data": {
      "text/plain": [
       "((0 1) (2 3 4 5) (6 7 8 9 10))"
      ]
     },
     "execution_count": 41,
     "metadata": {},
     "output_type": "execute_result"
    },
    {
     "data": {
      "text/plain": [
       "(1 5 10)"
      ]
     },
     "execution_count": 41,
     "metadata": {},
     "output_type": "execute_result"
    }
   ],
   "source": [
    "; partition-with\n",
    "(partition-with '(1 5 10) (range 0 20) :test '<=)"
   ]
  },
  {
   "cell_type": "code",
   "execution_count": 10,
   "metadata": {
    "vscode": {
     "languageId": "commonlisp"
    }
   },
   "outputs": [
    {
     "name": "stdout",
     "output_type": "stream",
     "text": [
      "\n",
      "#<FUNCTION GROUP>\n",
      "  [compiled function]\n",
      "\n",
      "\n",
      "Lambda-list: (N SEQ)\n",
      "Derived type: (FUNCTION (INTEGER T) (VALUES LIST &OPTIONAL))\n",
      "Documentation:\n",
      "  Split SEQ into a list of sequences of the same type of length N\n",
      "     (the last sequence may be shorter).\n",
      "Source file: C:/Users/zhouj/quicklisp/dists/quicklisp/software/rutils-20221106-git/core/sequence.lisp\n"
     ]
    }
   ],
   "source": [
    "; group\n",
    "(describe #'group)"
   ]
  },
  {
   "cell_type": "code",
   "execution_count": 11,
   "metadata": {
    "vscode": {
     "languageId": "commonlisp"
    }
   },
   "outputs": [
    {
     "data": {
      "text/plain": [
       "((1 2) (3 4) (5))"
      ]
     },
     "execution_count": 11,
     "metadata": {},
     "output_type": "execute_result"
    }
   ],
   "source": [
    "(group 2 '(1 2 3 4 5))"
   ]
  },
  {
   "cell_type": "code",
   "execution_count": 44,
   "metadata": {
    "vscode": {
     "languageId": "commonlisp"
    }
   },
   "outputs": [
    {
     "data": {
      "text/plain": [
       "NIL"
      ]
     },
     "execution_count": 44,
     "metadata": {},
     "output_type": "execute_result"
    },
    {
     "name": "stdout",
     "output_type": "stream",
     "text": [
      "\n",
      "(0 :FOO) \n",
      "(1 :BAR) \n",
      "(2 :BAZ) "
     ]
    }
   ],
   "source": [
    "; removef, deletef\n",
    "\n",
    "; doindex\n",
    "(doindex (i item '(:foo :bar :baz))\n",
    "  (print (pair i item)))\n"
   ]
  },
  {
   "cell_type": "code",
   "execution_count": 48,
   "metadata": {
    "vscode": {
     "languageId": "commonlisp"
    }
   },
   "outputs": [
    {
     "data": {
      "text/plain": [
       "(:BAR :BAZ :FOO)"
      ]
     },
     "execution_count": 48,
     "metadata": {},
     "output_type": "execute_result"
    },
    {
     "data": {
      "text/plain": [
       "(:FOO :BAZ :BAR)"
      ]
     },
     "execution_count": 48,
     "metadata": {},
     "output_type": "execute_result"
    }
   ],
   "source": [
    "; shuffle\n",
    "(shuffle '(:foo :bar :baz))\n",
    "(shuffle '(:foo :bar :baz))"
   ]
  },
  {
   "cell_type": "code",
   "execution_count": 45,
   "metadata": {
    "vscode": {
     "languageId": "commonlisp"
    }
   },
   "outputs": [
    {
     "data": {
      "text/plain": [
       "(:BAR :BAZ :FOO)"
      ]
     },
     "execution_count": 45,
     "metadata": {},
     "output_type": "execute_result"
    }
   ],
   "source": [
    "; rotate: return a copy with elements shifted by n\n",
    "(rotate '(:foo :bar :baz) 2)"
   ]
  },
  {
   "cell_type": "code",
   "execution_count": null,
   "metadata": {
    "vscode": {
     "languageId": "commonlisp"
    }
   },
   "outputs": [],
   "source": [
    "; emptyp\n",
    "; length=\n",
    "; equal-lengths\n",
    "\n",
    "; last-elt\n",
    "\n",
    "; safe-sort, sort\n",
    "\n",
    "; keep, keep-if, keep-if-not\n",
    "\n",
    "; sum, product\n",
    "\n",
    "; map*"
   ]
  },
  {
   "cell_type": "markdown",
   "metadata": {},
   "source": [
    "# rutils.pair"
   ]
  },
  {
   "cell_type": "code",
   "execution_count": 19,
   "metadata": {
    "vscode": {
     "languageId": "commonlisp"
    }
   },
   "outputs": [
    {
     "data": {
      "text/plain": [
       "(:FOO 42)"
      ]
     },
     "execution_count": 19,
     "metadata": {},
     "output_type": "execute_result"
    },
    {
     "data": {
      "text/plain": [
       "(:FOO . 42)"
      ]
     },
     "execution_count": 19,
     "metadata": {},
     "output_type": "execute_result"
    }
   ],
   "source": [
    "; pair: a replacement for cons-cell\n",
    "(pair :foo 42)\n",
    "\n",
    "; destructure\n",
    "(with-pair (l r) (pair :foo 42)\n",
    "           (cons l r))"
   ]
  },
  {
   "cell_type": "code",
   "execution_count": 23,
   "metadata": {
    "vscode": {
     "languageId": "commonlisp"
    }
   },
   "outputs": [
    {
     "data": {
      "text/plain": [
       "#<HASH-TABLE :TEST EQL :COUNT 2 {1104ADB7A3}>"
      ]
     },
     "execution_count": 23,
     "metadata": {},
     "output_type": "execute_result"
    },
    {
     "data": {
      "text/plain": [
       "((:FOO 42) (:BAR 43))"
      ]
     },
     "execution_count": 23,
     "metadata": {},
     "output_type": "execute_result"
    }
   ],
   "source": [
    "; transfrom to/from hash-table\n",
    "(pairs->ht (list (pair :foo 42) (pair :bar 43)))\n",
    "\n",
    "(ht->pairs #h(:foo 42 :bar 43))"
   ]
  },
  {
   "cell_type": "markdown",
   "metadata": {},
   "source": [
    "# rutils.tree"
   ]
  },
  {
   "cell_type": "code",
   "execution_count": 27,
   "metadata": {
    "vscode": {
     "languageId": "commonlisp"
    }
   },
   "outputs": [
    {
     "data": {
      "text/plain": [
       "NIL"
      ]
     },
     "execution_count": 27,
     "metadata": {},
     "output_type": "execute_result"
    },
    {
     "name": "stdout",
     "output_type": "stream",
     "text": [
      "\n",
      "(1 (2 3) (4 (5 6))) \n",
      "1 \n",
      "(2 3) \n",
      "2 \n",
      "3 \n",
      "(4 (5 6)) \n",
      "4 \n",
      "(5 6) \n",
      "5 \n",
      "6 "
     ]
    }
   ],
   "source": [
    "; dotree, \n",
    "(let ((tree '(1 (2 3) (4 (5 6)))))\n",
    "  (dotree (subtree tree)\n",
    "          (print subtree)))"
   ]
  },
  {
   "cell_type": "code",
   "execution_count": 28,
   "metadata": {
    "vscode": {
     "languageId": "commonlisp"
    }
   },
   "outputs": [
    {
     "data": {
      "text/plain": [
       "(:FOR (:BAR :FOR) (:BAR (:FOR :BAR)))"
      ]
     },
     "execution_count": 28,
     "metadata": {},
     "output_type": "execute_result"
    }
   ],
   "source": [
    "; maptree\n",
    "(let ((tree '(1 (2 3) (4 (5 6)))))\n",
    "  (maptree ^ (if (oddp %) :for :bar)\n",
    "           tree))"
   ]
  },
  {
   "cell_type": "code",
   "execution_count": 29,
   "metadata": {
    "vscode": {
     "languageId": "commonlisp"
    }
   },
   "outputs": [
    {
     "data": {
      "text/plain": [
       "NIL"
      ]
     },
     "execution_count": 29,
     "metadata": {},
     "output_type": "execute_result"
    },
    {
     "name": "stdout",
     "output_type": "stream",
     "text": [
      "\n",
      "3 \n",
      "6 "
     ]
    }
   ],
   "source": [
    "; doleaves, mapleaves\n",
    "(let ((tree '(1 (2 3) (4 (5 6)))))\n",
    "  (doleaves (node tree)\n",
    "            (print node)))"
   ]
  },
  {
   "cell_type": "markdown",
   "metadata": {},
   "source": [
    "# rutils.kv"
   ]
  },
  {
   "cell_type": "code",
   "execution_count": null,
   "metadata": {
    "vscode": {
     "languageId": "commonlisp"
    }
   },
   "outputs": [],
   "source": [
    "; a generic kv-access protocol\n",
    "; keys, vals, kvs\n",
    "\n",
    "; dokv"
   ]
  },
  {
   "cell_type": "code",
   "execution_count": 31,
   "metadata": {
    "vscode": {
     "languageId": "commonlisp"
    }
   },
   "outputs": [
    {
     "data": {
      "text/plain": [
       "#<HASH-TABLE :TEST EQL :COUNT 2 {11050CFE33}>"
      ]
     },
     "execution_count": 31,
     "metadata": {},
     "output_type": "execute_result"
    },
    {
     "name": "stdout",
     "output_type": "stream",
     "text": [
      "#{\n",
      "  :FOO 1\n",
      "  :BAR 2\n",
      " } "
     ]
    }
   ],
   "source": [
    "; mapkv\n",
    "(print-ht\n",
    " (mapkv ^ (1+ %%) #h(:foo 0 :bar 1)))"
   ]
  },
  {
   "cell_type": "markdown",
   "metadata": {},
   "source": [
    "# rutils.generic"
   ]
  },
  {
   "cell_type": "code",
   "execution_count": 2,
   "metadata": {
    "vscode": {
     "languageId": "commonlisp"
    }
   },
   "outputs": [
    {
     "data": {
      "text/plain": [
       "FOOG"
      ]
     },
     "execution_count": 2,
     "metadata": {},
     "output_type": "execute_result"
    },
    {
     "data": {
      "text/plain": [
       "42"
      ]
     },
     "execution_count": 2,
     "metadata": {},
     "output_type": "execute_result"
    }
   ],
   "source": [
    "; generic-elt: ?\n",
    "; generic-setf: (setf (? ...))\n",
    "; copy\n",
    "; tally: item count\n",
    "\n",
    "(defstruct foog\n",
    "  bar)\n",
    "\n",
    "(? (make-foog :bar #h(:baz '(0 1 42)))\n",
    "   'bar :baz 2)"
   ]
  },
  {
   "cell_type": "markdown",
   "metadata": {},
   "source": [
    "# rutils.bind"
   ]
  },
  {
   "cell_type": "code",
   "execution_count": 3,
   "metadata": {
    "vscode": {
     "languageId": "commonlisp"
    }
   },
   "outputs": [
    {
     "data": {
      "text/plain": [
       "FOO"
      ]
     },
     "execution_count": 3,
     "metadata": {},
     "output_type": "execute_result"
    },
    {
     "data": {
      "text/plain": [
       "(1 2 3 4 5 6 7 8 9 10 11 12 13 14 15)"
      ]
     },
     "execution_count": 3,
     "metadata": {},
     "output_type": "execute_result"
    },
    {
     "name": "stdout",
     "output_type": "stream",
     "text": [
      "SB-C:INLINING-DEPENDENCY-FAILURE: Call to RUTILS.GENERIC:SMART-SLOT-VALUE could not be inlined because its source\n",
      "code was not saved. A global INLINE or SB-EXT:MAYBE-INLINE proclamation must be\n",
      "in effect to save function definitions for inlining.\n"
     ]
    }
   ],
   "source": [
    "; bind, with: primarily, multiple values, key-based, slot access\n",
    "\n",
    "(defstruct foo\n",
    "  i j k l)\n",
    "\n",
    "(with ((a 1)                                          ; plain let\n",
    "       (b c (values 2 3))                             ; multiple-value-bind\n",
    "       ((d _ e &rest f) '(4 0 5 12 13 14 15))         ; destructuring-bind\n",
    "       (((g :g) (h :h)) ? #h(:g 6 :h 7))              ; generic-elt\n",
    "       ((i j) @ (make-foo :i 8 :j 9))                 ; smart-slot-value\n",
    "        (((k k) (l l)) @ (make-foo :k 10 :l 11)))\n",
    "      ;  (((k k) (l l)) @ (make 'foo :k 10 :l 11))) ; INITARG-ERROR: Invalid initialization arguments: :L, :K\n",
    "      (list* a b c d e g h i j k l f))"
   ]
  },
  {
   "cell_type": "code",
   "execution_count": 7,
   "metadata": {
    "vscode": {
     "languageId": "commonlisp"
    }
   },
   "outputs": [
    {
     "data": {
      "text/plain": [
       "PATHNAME"
      ]
     },
     "execution_count": 7,
     "metadata": {},
     "output_type": "execute_result"
    }
   ],
   "source": [
    "(type-of #p\"foo.txt\")"
   ]
  },
  {
   "cell_type": "code",
   "execution_count": 12,
   "metadata": {
    "vscode": {
     "languageId": "commonlisp"
    }
   },
   "outputs": [
    {
     "data": {
      "text/plain": [
       "#<STANDARD-METHOD RUTILS.BIND:BIND-DISPATCH (LIST PATHNAME) {1100F8F3D3}>"
      ]
     },
     "execution_count": 12,
     "metadata": {},
     "output_type": "execute_result"
    },
    {
     "name": "stderr",
     "output_type": "stream",
     "text": [
      "\n",
      "\n",
      "; file: CELL:1887459599.LISP.NEWEST\n",
      "; in: WITH ((STR \"hello world\") (OUT #P\"foo.txt\" :DIRECTION :OUTPUT))\n",
      ";     (RUTILS.BIND:WITH ((RTL-USER::STR \"hello world\")\n",
      ";                        (RTL-USER::OUT #P\"foo.txt\" :DIRECTION :OUTPUT))\n",
      ";       (WRITE-LINE RTL-USER::STR RTL-USER::OUT))\n",
      "\n",
      "; \n",
      "; caught ERROR:\n",
      ";   during macroexpansion of\n",
      ";   (WITH (# #)\n",
      ";     (WRITE-LINE STR OUT)).\n",
      ";   Use *BREAK-ON-SIGNALS* to intercept.\n",
      ";   \n",
      ";    The value\n",
      ";      #P\"foo.txt\"\n",
      ";    is not of type\n",
      ";      SYMBOL\n",
      "\n",
      "; \n",
      "; compilation unit finished\n",
      ";   caught 1 ERROR condition\n",
      "COMPILED-PROGRAM-ERROR: Execution of a form compiled with errors.\n",
      "Form:\n",
      "  (WITH ((STR \"hello world\") (OUT #P\"foo.txt\" :DIRECTION :OUTPUT))\n",
      "  (WRITE-LINE STR OUT))\n",
      "Compile-time error:\n",
      "  during macroexpansion of\n",
      "(WITH (# #)\n",
      "  (WRITE-LINE STR OUT)).\n",
      "Use *BREAK-ON-SIGNALS* to intercept.\n",
      "\n",
      " The value\n",
      "   #P\"foo.txt\"\n",
      " is not of type\n",
      "   SYMBOL\n",
      "\n"
     ]
    },
    {
     "ename": "COMPILED-PROGRAM-ERROR",
     "evalue": "Execution of a form compiled with errors.\nForm:\n  (WITH ((STR \"hello world\") (OUT #P\"foo.txt\" :DIRECTION :OUTPUT))\n  (WRITE-LINE STR OUT))\nCompile-time error:\n  during macroexpansion of\n(WITH (# #)\n  (WRITE-LINE STR OUT)).\nUse *BREAK-ON-SIGNALS* to intercept.\n\n The value\n   #P\"foo.txt\"\n is not of type\n   SYMBOL",
     "output_type": "error",
     "traceback": [
      "0: ((LAMBDA NIL :IN \"C:/Users/zhouj/AppData/Local/Temp/B933DC01F85044E3EE2C106C5BB8E52F-1887459599.lisp\"))",
      "1: (JUPYTER/COMMON-LISP::EVAL-AND-PRINT (WITH ((STR hello world) (OUT foo.txt DIRECTION OUTPUT)) (WRITE-LINE STR OUT)) 1 NIL)",
      "2: ((:METHOD JUPYTER:EVALUATE-FORM (JUPYTER/COMMON-LISP:KERNEL T T T)) #<unused argument> #<FORM-TRACKING-STREAM for \"file C:\\\\Users\\\\zhouj\\\\AppData\\\\Local\\\\Temp\\\\B933DC01F85044E3EE2C106C5BB8E52F-1887459599.lisp\" {1100F826F3}> CELL:1887459599.LISP.NEWEST NIL #<unused argument> #<unused argument>)",
      "3: (JUPYTER/COMMON-LISP::REPL ; extension\n(defmethod bind-dispatch ((arg1 list) (arg2 pathname) &rest args)\n  `(with-open-file (,arg1 ,arg2 ,@args)))\n\n(with ((str \"hello world\")\n       (out #p\"foo.txt\" :direction :output))\n      (write-line str out)) CELL:1887459599.LISP.NEWEST NIL)",
      "4: ((:METHOD JUPYTER:EVALUATE-CODE (JUPYTER/COMMON-LISP:KERNEL T)) #<unused argument> ; extension\n(defmethod bind-dispatch ((arg1 list) (arg2 pathname) &rest args)\n  `(with-open-file (,arg1 ,arg2 ,@args)))\n\n(with ((str \"hello world\")\n       (out #p\"foo.txt\" :direction :output))\n      (write-line str out)) CELL:1887459599.LISP.NEWEST NIL)",
      "5: (JUPYTER::HANDLE-EXECUTE-REQUEST)",
      "6: (JUPYTER::RUN-SHELL #<KERNEL {11026190E3}>)",
      "7: ((LABELS BORDEAUX-THREADS::%BINDING-DEFAULT-SPECIALS-WRAPPER :IN BORDEAUX-THREADS::BINDING-DEFAULT-SPECIALS))",
      "8: ((FLET SB-UNIX::BODY :IN SB-THREAD::RUN))",
      "9: ((FLET \"WITHOUT-INTERRUPTS-BODY-\" :IN SB-THREAD::RUN))",
      "10: ((FLET SB-UNIX::BODY :IN SB-THREAD::RUN))",
      "11: ((FLET \"WITHOUT-INTERRUPTS-BODY-\" :IN SB-THREAD::RUN))",
      "12: (SB-THREAD::RUN)",
      "13: (\"foreign function: #x140045B65\")",
      "14: (\"foreign function: #x14000A13A\")"
     ]
    },
    {
     "name": "stdout",
     "output_type": "stream",
     "text": [
      "SB-KERNEL:REDEFINITION-WITH-DEFMETHOD: redefining BIND-DISPATCH (#<BUILT-IN-CLASS COMMON-LISP:LIST> #<BUILT-IN-CLASS COMMON-LISP:PATHNAME>) in DEFMETHOD\n"
     ]
    }
   ],
   "source": [
    "; ; extension\n",
    "; (defmethod bind-dispatch ((arg1 list) (arg2 pathname) &rest args)\n",
    ";   `(with-open-file (,arg1 ,arg2 ,@args)))\n",
    "\n",
    "; (with ((str \"hello world\")\n",
    ";        (out #p\"foo.txt\" :direction :output)) ; ERROR The value #P\"foo.txt\" is not of type SYMBOL\n",
    ";       (write-line str out))"
   ]
  },
  {
   "cell_type": "markdown",
   "metadata": {},
   "source": [
    "# rutils.iter"
   ]
  },
  {
   "cell_type": "code",
   "execution_count": 4,
   "metadata": {
    "vscode": {
     "languageId": "commonlisp"
    }
   },
   "outputs": [
    {
     "data": {
      "text/plain": [
       "(1 2 3)"
      ]
     },
     "execution_count": 4,
     "metadata": {},
     "output_type": "execute_result"
    }
   ],
   "source": [
    "; iter\n",
    "(let ((l '((1 2 3) (1 2) (1))))\n",
    "  (iter (:for item :in l)\n",
    "        ; (:finding elt :maximizing (length elt))\n",
    "        (:find item :max (length item))))"
   ]
  },
  {
   "cell_type": "code",
   "execution_count": 61,
   "metadata": {
    "vscode": {
     "languageId": "commonlisp"
    }
   },
   "outputs": [
    {
     "data": {
      "text/plain": [
       "T"
      ]
     },
     "execution_count": 61,
     "metadata": {},
     "output_type": "execute_result"
    },
    {
     "name": "stdout",
     "output_type": "stream",
     "text": [
      "\n",
      ":INITIALLY   FORMS to execute before loop starts.\n",
      ":AFTER-EACH   FORMS to execute after each iteration.\n",
      ":ELSE   FORMS to execute if the loop is never entered.\n",
      ":FINALLY   FORMS to execute after loop ends.\n",
      ":FINALLY-PROTECTED   FORMS to execute in an UNWIND-PROTECT after loop ends.\n",
      ":FIRST-TIME-P   Return T for the first time it is evaluated.\n",
      ":FIRST-ITERATION-P   Return T in the first iteration of the loop.\n",
      ":IN   Process FORMS in an ITER block with BLOCK-NAME.\n",
      ":NEXT   Explicitly step a driver VAR N times. Return VAR, after stepping.\n",
      "\n",
      "Enclose the returned code in a PROGN, so that the variable reference\n",
      "isn't confusable with a tag (since the code might appear within a TAGBODY).\n",
      "The PROGN is also necessary, so that spliced-in save code will not result\n",
      "in extra forms, for cases when the NEXT appears as an argument.\n",
      ":LEAVE   Exit the loop without running the epilogue code.\n",
      ":FINISH   Exit the loop gracefully, executing the epilogue.\n",
      ":TERMINATE   Use within FOR...DO-/NEXT to end the iteration.\n",
      ":NEXT-ITERATION   Begin the next iteration.\n",
      ":ACCUMULATE BY &OPTIONAL INITIAL-VALUE INTO   Generalized accumulation.\n",
      ":NUNION &OPTIONAL INTO AT TEST   Union into a LIST, destructively.\n",
      ":UNION &OPTIONAL INTO AT TEST   Union into a LIST.\n",
      ":APPEND &OPTIONAL INTO AT   APPEND into a list.\n",
      ":NCONC &OPTIONAL INTO AT   NCONC into a list.\n",
      ":ADJOIN &OPTIONAL INTO AT TEST RESULT-TYPE   Adjoin into a list (tests for membership first).\n",
      ":COLLECT &OPTIONAL INTO AT RESULT-TYPE   Collect into a list (with CONS).\n",
      ":FIND MIN &OPTIONAL INTO   Return value, which minimizes EXPR.\n",
      ":FIND MAX &OPTIONAL INTO   Return value, which maximizes EXPR.\n",
      ":FIND SUCH-THAT &OPTIONAL INTO ON-FAILURE   Return EXPR, when test is non-NIL.\n",
      ":THERE-IS   Return value of EXPR, as soon as it is non-NIL.\n",
      ":NEVER   Return T, when expression is never non-NIL.\n",
      ":ALWAYS   Return last value, when EXPR is always non-NIL.\n",
      ":UNTIL   Exit loop, when EXPR is non-NIL.\n",
      ":WHILE   Exit loop, when EXPR is NIL.\n",
      ":MIN &OPTIONAL INTO   Minimize value of an EXPR.\n",
      ":MAX &OPTIONAL INTO   Maximize value of an EXPR.\n",
      ":REDUCE BY &OPTIONAL INITIAL-VALUE INTO   Generalized reduction.\n",
      ":MULT &OPTIONAL INTO   Multiply into VAR.\n",
      ":SUM &OPTIONAL INTO   Sum into VAR.\n",
      ":COUNT &OPTIONAL INTO   Increment VAR if EXPR is non-NIL.\n",
      ":WITH &OPTIONAL =   Bind VAR.\n",
      ":FOR PREV &OPTIONAL INITIALLY BACK   Previous value of a variable.\n",
      ":FOR FIRST THEN   Set VAR on first, and then on subsequent iterations.\n",
      ":FOR =   Set VAR on each iteration.\n",
      ":FOR INITIALLY THEN   Set VAR initially, then on subsequent iterations.\n",
      ":FOR DO-NEXT   General driver; VAR must be set in DO-NEXT.\n",
      ":FOR NEXT   General driver; VAR is set to value of NEXT.\n",
      ":FOR IN-STREAM &OPTIONAL USING   ITER over forms from a STREAM (which will be closed at the end).\n",
      ":FOR IN-FILE &OPTIONAL USING   ITER over forms from a file by FILENAME (which will be closed at the end).\n",
      ":FOR IN-PACKAGE &OPTIONAL EXTERNAL-ONLY   ITER over symbols accessible in package PKG.\n",
      ":FOR IN-PACKAGES &OPTIONAL HAVING-ACCESS   ITER over symbols and their access-types in packages PKGS.\n",
      ":FOR IN-HASHTABLE   ITER over elements and keys of a hash-table TABLE.\n",
      ":FOR INDEX-OF-STRING &OPTIONAL FROM UPFROM DOWNFROM TO DOWNTO ABOVE BELOW BY\n",
      "  WITH-INDEX   Indices of a string.\n",
      ":FOR IN-STRING &OPTIONAL FROM UPFROM DOWNFROM TO DOWNTO ABOVE BELOW BY \n",
      "  WITH-INDEX   ITER over characters of a string.\n",
      ":FOR INDEX-OF-SEQUENCE &OPTIONAL FROM UPFROM DOWNFROM TO DOWNTO ABOVE BELOW \n",
      "  BY WITH-INDEX   Indices of a sequence (vector or list).\n",
      ":FOR IN-SEQUENCE &OPTIONAL FROM UPFROM DOWNFROM TO DOWNTO ABOVE BELOW BY \n",
      "  WITH-INDEX   ITER over elements of a sequence.\n",
      ":FOR INDEX-OF-VECTOR &OPTIONAL FROM UPFROM DOWNFROM TO DOWNTO ABOVE BELOW BY\n",
      "  WITH-INDEX   Indices of a vector.\n",
      ":FOR IN-VECTOR &OPTIONAL FROM UPFROM DOWNFROM TO DOWNTO ABOVE BELOW BY \n",
      "  WITH-INDEX   ITER over elements of a vector.\n",
      ":FOR IN &OPTIONAL BY   ITER over elements of LIST.\n",
      ":FOR &OPTIONAL FROM UPFROM DOWNFROM TO DOWNTO ABOVE BELOW BY WITH-INDEX   General FOR clause.\n",
      ":FOR ON &OPTIONAL BY   ITER over sublists of LIST.\n",
      ":REPEAT   Repeat the loop N times.\n"
     ]
    }
   ],
   "source": [
    "; NOTE: SHOULD COMPARE TO 'iterate' SINCE NO DOC FOUND HERE!!!\n",
    "(DISPLAY-ITER-CLAUSES)"
   ]
  },
  {
   "cell_type": "markdown",
   "metadata": {},
   "source": [
    "# rutils.abbr"
   ]
  },
  {
   "cell_type": "code",
   "execution_count": null,
   "metadata": {
    "vscode": {
     "languageId": "commonlisp"
    }
   },
   "outputs": [],
   "source": [
    "; := for setf\n",
    "; :+, :-, :*, :/ for incf, decf, ...\n",
    "; make for make-instance\n",
    "; call for funcall\n",
    "\n",
    "; defpar for defparameter\n",
    "; m1 for macroexpand-1\n",
    "\n",
    "; just for identity\n",
    "; ds-bind for destructuring-bind\n",
    "; mv-bind for multiple-value-bind\n",
    "; flet* for labels\n",
    "; sub for subseq\n",
    "; pushx for vector-push-extend"
   ]
  },
  {
   "cell_type": "markdown",
   "metadata": {},
   "source": [
    "# rutils"
   ]
  },
  {
   "cell_type": "markdown",
   "metadata": {},
   "source": [
    "# rutils-user"
   ]
  },
  {
   "cell_type": "markdown",
   "metadata": {},
   "source": [
    "# rtl"
   ]
  },
  {
   "cell_type": "markdown",
   "metadata": {},
   "source": [
    "# rtl-user"
   ]
  }
 ],
 "metadata": {
  "kernelspec": {
   "display_name": "Common Lisp",
   "language": "common-lisp",
   "name": "common-lisp"
  },
  "language_info": {
   "codemirror_mode": "text/x-common-lisp",
   "file_extension": ".lisp",
   "mimetype": "text/x-common-lisp",
   "name": "common-lisp",
   "pygments_lexer": "common-lisp",
   "version": "2.4.10"
  }
 },
 "nbformat": 4,
 "nbformat_minor": 2
}
