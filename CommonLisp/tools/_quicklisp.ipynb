{
 "cells": [
  {
   "cell_type": "code",
   "execution_count": 14,
   "metadata": {
    "vscode": {
     "languageId": "commonlisp"
    }
   },
   "outputs": [
    {
     "data": {
      "text/plain": [
       "\"For help with Quicklisp, see http://www.quicklisp.org/beta/\""
      ]
     },
     "execution_count": 14,
     "metadata": {},
     "output_type": "execute_result"
    }
   ],
   "source": [
    "(ql:help)"
   ]
  },
  {
   "cell_type": "code",
   "execution_count": 17,
   "metadata": {
    "vscode": {
     "languageId": "commonlisp"
    }
   },
   "outputs": [
    {
     "data": {
      "text/plain": [
       "(#<QL-DIST:SYSTEM 3d-vectors / 3d-vectors-20231021-git / quicklisp 2024-10-12>\n",
       " #<QL-DIST:SYSTEM 3d-vectors-test / 3d-vectors-20231021-git / quicklisp 2024-10-12>\n",
       " #<QL-DIST:SYSTEM cl-aa / cl-vectors-20241012-git / quicklisp 2024-10-12>\n",
       " #<QL-DIST:SYSTEM cl-aa-misc / cl-vectors-20241012-git / quicklisp 2024-10-12>\n",
       " #<QL-DIST:SYSTEM cl-glfw-opengl-apple_specular_vector / cl-glfw-20150302-git / quicklisp 2024-10-12>\n",
       " #<QL-DIST:SYSTEM cl-paths / cl-vectors-20241012-git / quicklisp 2024-10-12>\n",
       " #<QL-DIST:SYSTEM cl-paths-ttf / cl-vectors-20241012-git / quicklisp 2024-10-12>\n",
       " #<QL-DIST:SYSTEM cl-vectors / cl-vectors-20241012-git / quicklisp 2024-10-12>\n",
       " #<QL-DIST:SYSTEM com.elbeno.vector / vector-20130128-git / quicklisp 2024-10-12>\n",
       " #<QL-DIST:SYSTEM lispbuilder-sdl-cl-vectors / lispbuilder-20210807-git / quicklisp 2024-10-12>\n",
       " #<QL-DIST:SYSTEM lispbuilder-sdl-cl-vectors-examples / lispbuilder-20210807-git / quicklisp 2024-10-12>\n",
       " #<QL-DIST:SYSTEM lispbuilder-sdl-vecto / lispbuilder-20210807-git / quicklisp 2024-10-12>\n",
       " #<QL-DIST:SYSTEM lispbuilder-sdl-vecto-examples / lispbuilder-20210807-git / quicklisp 2024-10-12>\n",
       " #<QL-DIST:SYSTEM memory-regions/static-vector / memory-regions-20241012-git / quicklisp 2024-10-12>\n",
       " #<QL-DIST:SYSTEM sb-vector-io / sb-vector-io-20110829-git / quicklisp 2024-10-12>\n",
       " #<QL-DIST:SYSTEM static-vectors / static-vectors-v1.9.3 / quicklisp 2024-10-12>\n",
       " #<QL-DIST:SYSTEM static-vectors/test / static-vectors-v1.9.3 / quicklisp 2024-10-12>\n",
       " #<QL-DIST:SYSTEM vecto / vecto-1.6 / quicklisp 2024-10-12>\n",
       " #<QL-DIST:SYSTEM vectometry / vecto-1.6 / quicklisp 2024-10-12>\n",
       " #<QL-DIST:SYSTEM vectors / vectors-20171227-git / quicklisp 2024-10-12>)"
      ]
     },
     "execution_count": 17,
     "metadata": {},
     "output_type": "execute_result"
    },
    {
     "name": "stdout",
     "output_type": "stream",
     "text": [
      "#<SYSTEM 3d-vectors / 3d-vectors-20231021-git / quicklisp 2024-10-12>\n",
      "#<SYSTEM 3d-vectors-test / 3d-vectors-20231021-git / quicklisp 2024-10-12>\n",
      "#<SYSTEM cl-aa / cl-vectors-20241012-git / quicklisp 2024-10-12>\n",
      "#<SYSTEM cl-aa-misc / cl-vectors-20241012-git / quicklisp 2024-10-12>\n",
      "#<SYSTEM cl-glfw-opengl-apple_specular_vector / cl-glfw-20150302-git / quicklisp 2024-10-12>\n",
      "#<SYSTEM cl-paths / cl-vectors-20241012-git / quicklisp 2024-10-12>\n",
      "#<SYSTEM cl-paths-ttf / cl-vectors-20241012-git / quicklisp 2024-10-12>\n",
      "#<SYSTEM cl-vectors / cl-vectors-20241012-git / quicklisp 2024-10-12>\n",
      "#<SYSTEM com.elbeno.vector / vector-20130128-git / quicklisp 2024-10-12>\n",
      "#<SYSTEM lispbuilder-sdl-cl-vectors / lispbuilder-20210807-git / quicklisp 2024-10-12>\n",
      "#<SYSTEM lispbuilder-sdl-cl-vectors-examples / lispbuilder-20210807-git / quicklisp 2024-10-12>\n",
      "#<SYSTEM lispbuilder-sdl-vecto / lispbuilder-20210807-git / quicklisp 2024-10-12>\n",
      "#<SYSTEM lispbuilder-sdl-vecto-examples / lispbuilder-20210807-git / quicklisp 2024-10-12>\n",
      "#<SYSTEM memory-regions/static-vector / memory-regions-20241012-git / quicklisp 2024-10-12>\n",
      "#<SYSTEM sb-vector-io / sb-vector-io-20110829-git / quicklisp 2024-10-12>\n",
      "#<SYSTEM static-vectors / static-vectors-v1.9.3 / quicklisp 2024-10-12>\n",
      "#<SYSTEM static-vectors/test / static-vectors-v1.9.3 / quicklisp 2024-10-12>\n",
      "#<SYSTEM vecto / vecto-1.6 / quicklisp 2024-10-12>\n",
      "#<SYSTEM vectometry / vecto-1.6 / quicklisp 2024-10-12>\n",
      "#<SYSTEM vectors / vectors-20171227-git / quicklisp 2024-10-12>\n"
     ]
    }
   ],
   "source": [
    "; (ql-dist:find-system \"ex-caveman\")\n",
    "; (ql-dist:find-system \"caveman\")\n",
    "\n",
    "; To find out what's available\n",
    "(ql-dist:system-apropos \"vecto\")\n",
    "(ql-dist:system-apropos-list \"vecto\")"
   ]
  },
  {
   "cell_type": "code",
   "execution_count": 11,
   "metadata": {
    "vscode": {
     "languageId": "commonlisp"
    }
   },
   "outputs": [
    {
     "data": {
      "text/plain": [
       "#P\"C:/Users/zhouj/quicklisp/\""
      ]
     },
     "execution_count": 11,
     "metadata": {},
     "output_type": "execute_result"
    }
   ],
   "source": [
    "ql:*quicklisp-home*"
   ]
  },
  {
   "cell_type": "code",
   "execution_count": 18,
   "metadata": {
    "vscode": {
     "languageId": "commonlisp"
    }
   },
   "outputs": [
    {
     "name": "stdout",
     "output_type": "stream",
     "text": [
      "To load \"vecto\":\n",
      "  Load 2 ASDF systems:\n",
      "    asdf trivial-gray-streams\n",
      "  Install 5 Quicklisp releases:\n",
      "    cl-vectors salza2 vecto zpb-ttf zpng\n",
      "\n",
      "; Fetching #<URL \"http://beta.quicklisp.org/archive/salza2/2021-10-20/salza2-2.1.tgz\">\n",
      "; 16.68KB\n",
      "\n",
      "==================================================\n",
      "17,080 bytes in 0.00 seconds (4521.47KB/sec)\n",
      "\n",
      "; Fetching #<URL \"http://beta.quicklisp.org/archive/zpng/2015-04-07/zpng-1.2.2.tgz\">\n",
      "; 39.20KB\n",
      "\n",
      "==================================================\n",
      "40,141 bytes in 0.23 seconds (173.15KB/sec)\n",
      "\n",
      "; Fetching #<URL \"http://beta.quicklisp.org/archive/zpb-ttf/2024-10-12/zpb-ttf-release-1.0.7.tgz\">\n",
      "; 48.85KB\n",
      "\n",
      "==================================================\n",
      "50,027 bytes in 0.17 seconds (289.11KB/sec)\n",
      "\n",
      "; Fetching #<URL \"http://beta.quicklisp.org/archive/cl-vectors/2024-10-12/cl-vectors-20241012-git.tgz\">\n",
      "; 30.87KB\n",
      "\n",
      "==================================================\n",
      "31,610 bytes in 0.10 seconds (303.08KB/sec)\n",
      "\n",
      "; Fetching #<URL \"http://beta.quicklisp.org/archive/vecto/2021-12-30/vecto-1.6.tgz\">\n",
      "; 69.53KB\n",
      "\n",
      "==================================================\n",
      "71,198 bytes in 0.23 seconds (296.67KB/sec)\n",
      "\n",
      "; Loading \"vecto\"\n",
      "[package zpb-ttf-system]..........................\n",
      "[package net.tuxee.aa]............................\n",
      "[package net.tuxee.aa-bin]........................\n",
      "[package net.tuxee.paths].........................\n",
      "[package net.tuxee.vectors].......................\n",
      "[package salza2]..................................\n",
      "[package zpng]....................................\n",
      "[package zpb-ttf].................................\n",
      "[package vecto]......"
     ]
    },
    {
     "data": {
      "text/plain": [
       "(\"vecto\")"
      ]
     },
     "execution_count": 18,
     "metadata": {},
     "output_type": "execute_result"
    },
    {
     "data": {
      "text/plain": [
       "T"
      ]
     },
     "execution_count": 18,
     "metadata": {},
     "output_type": "execute_result"
    },
    {
     "name": "stdout",
     "output_type": "stream",
     "text": [
      "\n"
     ]
    }
   ],
   "source": [
    "; To load software: (ql:quickload system-name)\n",
    "(ql:quickload \"vecto\")\n",
    "\n",
    "; To remove software: (ql:uninstall system-name)\n",
    "(ql:uninstall \"vecto\")"
   ]
  },
  {
   "cell_type": "code",
   "execution_count": 19,
   "metadata": {
    "vscode": {
     "languageId": "commonlisp"
    }
   },
   "outputs": [
    {
     "data": {
      "text/plain": [
       "(\"clue\" \"alive-lsp\" \"foo\")"
      ]
     },
     "execution_count": 19,
     "metadata": {},
     "output_type": "execute_result"
    },
    {
     "data": {
      "text/plain": [
       "(#P\"C:/Users/zhouj/quicklisp/local-projects/alive-lsp/clue.asd\"\n",
       " #P\"C:/Users/zhouj/quicklisp/local-projects/alive-lsp/alive-lsp.asd\"\n",
       " #P\"C:/Users/zhouj/quicklisp/local-projects/alive-lsp/test/asdf/foo.asd\")"
      ]
     },
     "execution_count": 19,
     "metadata": {},
     "output_type": "execute_result"
    }
   ],
   "source": [
    "; (ql:system-list)\n",
    "(ql:list-local-systems)\n",
    "(ql:list-local-projects)"
   ]
  }
 ],
 "metadata": {
  "kernelspec": {
   "display_name": "Common Lisp",
   "language": "common-lisp",
   "name": "common-lisp"
  },
  "language_info": {
   "codemirror_mode": "text/x-common-lisp",
   "file_extension": ".lisp",
   "mimetype": "text/x-common-lisp",
   "name": "common-lisp",
   "pygments_lexer": "common-lisp",
   "version": "2.4.10"
  }
 },
 "nbformat": 4,
 "nbformat_minor": 2
}
