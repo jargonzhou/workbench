{
 "cells": [
  {
   "cell_type": "markdown",
   "metadata": {},
   "source": [
    "- FiveAM\n",
    "  - https://github.com/lispci/fiveam\n",
    "\n",
    "Example from 'The Common Lisp Cookbook'\n",
    "- https://lispcookbook.github.io/cl-cookbook/testing.html"
   ]
  },
  {
   "cell_type": "markdown",
   "metadata": {},
   "source": [
    "# Install"
   ]
  },
  {
   "cell_type": "code",
   "execution_count": 3,
   "metadata": {
    "vscode": {
     "languageId": "plaintext"
    }
   },
   "outputs": [
    {
     "name": "stdout",
     "output_type": "stream",
     "text": [
      "To load \"fiveam\":\n",
      "  Load 1 ASDF system:\n",
      "    fiveam\n",
      "\n",
      "; Loading \"fiveam\"\n",
      "[package trivial-backtrace-system]"
     ]
    },
    {
     "data": {
      "text/plain": [
       "(\"fiveam\")"
      ]
     },
     "execution_count": 3,
     "metadata": {},
     "output_type": "execute_result"
    },
    {
     "name": "stdout",
     "output_type": "stream",
     "text": [
      "\n"
     ]
    }
   ],
   "source": [
    "(ql:quickload \"fiveam\")"
   ]
  },
  {
   "cell_type": "markdown",
   "metadata": {},
   "source": [
    "# Basic Usage"
   ]
  },
  {
   "cell_type": "code",
   "execution_count": 9,
   "metadata": {
    "vscode": {
     "languageId": "commonlisp"
    }
   },
   "outputs": [
    {
     "name": "stdout",
     "output_type": "stream",
     "text": [
      "To load \"fiveam\":\n",
      "  Load 1 ASDF system:\n",
      "    fiveam\n"
     ]
    },
    {
     "data": {
      "text/plain": [
       "(\"fiveam\")"
      ]
     },
     "execution_count": 9,
     "metadata": {},
     "output_type": "execute_result"
    },
    {
     "data": {
      "text/plain": [
       "FILE-NOT-EXISTING-ERROR"
      ]
     },
     "execution_count": 9,
     "metadata": {},
     "output_type": "execute_result"
    },
    {
     "data": {
      "text/plain": [
       "READ-FILE-AS-STRING"
      ]
     },
     "execution_count": 9,
     "metadata": {},
     "output_type": "execute_result"
    },
    {
     "data": {
      "text/plain": [
       "#<PACKAGE \"COMMON-LISP-USER\">"
      ]
     },
     "execution_count": 9,
     "metadata": {},
     "output_type": "execute_result"
    },
    {
     "data": {
      "text/plain": [
       "#<PACKAGE \"MY-FIVEAM-TEST\">"
      ]
     },
     "execution_count": 9,
     "metadata": {},
     "output_type": "execute_result"
    },
    {
     "data": {
      "text/plain": [
       "#<PACKAGE \"MY-FIVEAM-TEST\">"
      ]
     },
     "execution_count": 9,
     "metadata": {},
     "output_type": "execute_result"
    },
    {
     "data": {
      "text/plain": [
       "MY-SYSTEM"
      ]
     },
     "execution_count": 9,
     "metadata": {},
     "output_type": "execute_result"
    },
    {
     "data": {
      "text/plain": [
       "READ-FILE-AS-STRING"
      ]
     },
     "execution_count": 9,
     "metadata": {},
     "output_type": "execute_result"
    },
    {
     "data": {
      "text/plain": [
       "READ-FILE-AS-STRING"
      ]
     },
     "execution_count": 9,
     "metadata": {},
     "output_type": "execute_result"
    },
    {
     "data": {
      "text/plain": [
       "READ-FILE-AS-STRING-NORMAL-FILE"
      ]
     },
     "execution_count": 9,
     "metadata": {},
     "output_type": "execute_result"
    },
    {
     "data": {
      "text/plain": [
       "READ-FILE-AS-STRING-EMPTY-FILE"
      ]
     },
     "execution_count": 9,
     "metadata": {},
     "output_type": "execute_result"
    },
    {
     "data": {
      "text/plain": [
       "READ-FILE-AS-STRING-NON-EXISTING-FILE"
      ]
     },
     "execution_count": 9,
     "metadata": {},
     "output_type": "execute_result"
    },
    {
     "data": {
      "text/plain": [
       "SIMPLE-MATHS"
      ]
     },
     "execution_count": 9,
     "metadata": {},
     "output_type": "execute_result"
    },
    {
     "data": {
      "text/plain": [
       "NIL"
      ]
     },
     "execution_count": 9,
     "metadata": {},
     "output_type": "execute_result"
    },
    {
     "data": {
      "text/plain": [
       "(#<IT.BESE.FIVEAM::TEST-FAILURE {1003197403}>)"
      ]
     },
     "execution_count": 9,
     "metadata": {},
     "output_type": "execute_result"
    },
    {
     "data": {
      "text/plain": [
       "NIL"
      ]
     },
     "execution_count": 9,
     "metadata": {},
     "output_type": "execute_result"
    },
    {
     "name": "stdout",
     "output_type": "stream",
     "text": [
      "\n",
      "; Loading \"fiveam\"\n",
      "\n",
      "SB-KERNEL:REDEFINITION-WITH-DEFUN: redefining MY-FIVEAM-TEST::READ-FILE-AS-STRING in DEFUN\n",
      "\n",
      "Running test suite MY-SYSTEM\n",
      " Running test suite READ-FILE-AS-STRING\n",
      "  Running test READ-FILE-AS-STRING-NORMAL-FILE .\n",
      "  Running test READ-FILE-AS-STRING-EMPTY-FILE ..\n",
      "  Running test READ-FILE-AS-STRING-NON-EXISTING-FILE ..\n",
      "  Running test SIMPLE-MATHS f\n",
      "  Did 6 checks.\n",
      "\n",
      "     Pass: 5 (83%)\n",
      "\n",
      "     Skip: 0 ( 0%)\n",
      "\n",
      "     Fail: 1 (16%)\n",
      "\n",
      "\n",
      "  Failure Details:\n",
      "\n",
      "  --------------------------------\n",
      "\n",
      "  SIMPLE-MATHS in READ-FILE-AS-STRING []: \n",
      "\n",
      "       Maths should work, right? T. Another parameter is: :FOO\n",
      "\n",
      "  --------------------------------\n",
      "\n"
     ]
    }
   ],
   "source": [
    "(ql:quickload \"fiveam\")\n",
    "\n",
    ";;;;;;;;;;;;;;;;;;;;;;;;;;;;;;;;;;;;;;;;;;;;;;;;;;;;;;;;;;;;;;;;;;;;;;;;;;;;;;;\n",
    ";;; Functions to Be Tested\n",
    ";;;;;;;;;;;;;;;;;;;;;;;;;;;;;;;;;;;;;;;;;;;;;;;;;;;;;;;;;;;;;;;;;;;;;;;;;;;;;;;\n",
    ";; We have a custom \"file doesn't exist\" condition.\n",
    "(define-condition file-not-existing-error (error)\n",
    "  ((filename :type string :initarg :filename :reader filename)))\n",
    "\n",
    ";; We have a function that tries to read a file and signals the above condition\n",
    ";; if the file doesn't exist.\n",
    "(defun read-file-as-string (filename &key (error-if-not-exists t))\n",
    "  \"Read file content as string. FILENAME specifies the path of file.\n",
    "\n",
    "Keyword ERROR-IF-NOT-EXISTS specifies the operation to perform when the file\n",
    "is not found. T (by default) means an error will be signaled. When given NIL,\n",
    "the function will return NIL in that case.\"\n",
    "  (cond\n",
    "    ((uiop:file-exists-p filename)\n",
    "     (uiop:read-file-string filename))\n",
    "    (error-if-not-exists\n",
    "     (error 'file-not-existing-error :filename filename))\n",
    "    (t nil)))\n",
    "\n",
    ";;;;;;;;;;;;;;;;;;;;;;;;;;;;;;;;;;;;;;;;;;;;;;;;;;;;;;;;;;;;;;;;;;;;;;;;;;;;;;;\n",
    ";;; Define Suites\n",
    ";;;;;;;;;;;;;;;;;;;;;;;;;;;;;;;;;;;;;;;;;;;;;;;;;;;;;;;;;;;;;;;;;;;;;;;;;;;;;;;\n",
    "(in-package :cl-user)\n",
    "(defpackage my-fiveam-test\n",
    "  (:use :cl\n",
    "        :fiveam))\n",
    "(in-package :my-fiveam-test)\n",
    "\n",
    "(def-suite my-system\n",
    "  :description \"Test my system\")\n",
    "\n",
    "(def-suite read-file-as-string\n",
    "  :description \"Test the read-file-as-string function.\"\n",
    "  :in my-system)\n",
    "(in-suite read-file-as-string)\n",
    "\n",
    ";;;;;;;;;;;;;;;;;;;;;;;;;;;;;;;;;;;;;;;;;;;;;;;;;;;;;;;;;;;;;;;;;;;;;;;;;;;;;;;\n",
    ";;; Define Tests\n",
    ";;;;;;;;;;;;;;;;;;;;;;;;;;;;;;;;;;;;;;;;;;;;;;;;;;;;;;;;;;;;;;;;;;;;;;;;;;;;;;;\n",
    ";; Our first \"base\" case: we read a file that contains \"hello\".\n",
    "(test read-file-as-string-normal-file\n",
    "  (let ((result (read-file-as-string \"hello.txt\")))\n",
    "    ;; Tip: put the expected value as the first argument of = or equal, string= etc.\n",
    "    ;; FiveAM generates a more readable report following this convention.\n",
    "    (is (string= \"Hello, FiveAM!\" result))))\n",
    "\n",
    ";; We read an empty file.\n",
    "(test read-file-as-string-empty-file\n",
    "  (let ((result (read-file-as-string \"empty.txt\")))\n",
    "    (is (not (null result)))\n",
    "    ;; The reason can be used to provide formatted text.\n",
    "    (is (= 0 (length result)))\n",
    "        \"Empty string expected but got ~a\" result))\n",
    "\n",
    ";; Now we test that reading a non-existing file signals our condition.\n",
    "(test read-file-as-string-non-existing-file\n",
    "  (let ((result (read-file-as-string \"non-existing-file.txt\"\n",
    "                                     :error-if-not-exists nil)))\n",
    "    (is (null result)\n",
    "      \"Reading a file should return NIL when :ERROR-IF-NOT-EXISTS is set to NIL\"))\n",
    "  ;; SIGNALS accepts the unquoted name of a condition and a body to evaluate.\n",
    "  ;; Here it checks if FILE-NOT-EXISTING-ERROR is signaled.\n",
    "  (signals file-not-existing-error\n",
    "    (read-file-as-string \"non-existing-file.txt\"\n",
    "                         :error-if-not-exists t)))\n",
    "\n",
    ";;;;;;;;;;;;;;;;;;;;;;;;;;;;;;;;;;;;;;;;;;;;;;;;;;;;;;;;;;;;;;;;;;;;;;;;;;;;;;;\n",
    "; Custom Reasons\n",
    ";;;;;;;;;;;;;;;;;;;;;;;;;;;;;;;;;;;;;;;;;;;;;;;;;;;;;;;;;;;;;;;;;;;;;;;;;;;;;;;\n",
    "(fiveam:test simple-maths\n",
    "  (is (= 3 (+ 1 1))\n",
    "      \"Maths should work, right? ~a. Another parameter is: ~S\" t :foo))\n",
    "\n",
    ";;;;;;;;;;;;;;;;;;;;;;;;;;;;;;;;;;;;;;;;;;;;;;;;;;;;;;;;;;;;;;;;;;;;;;;;;;;;;;;\n",
    ";;; Run Tests\n",
    ";;;;;;;;;;;;;;;;;;;;;;;;;;;;;;;;;;;;;;;;;;;;;;;;;;;;;;;;;;;;;;;;;;;;;;;;;;;;;;;\n",
    "(run! 'my-system)\n"
   ]
  },
  {
   "cell_type": "markdown",
   "metadata": {},
   "source": [
    "# Fixtures"
   ]
  },
  {
   "cell_type": "code",
   "execution_count": 16,
   "metadata": {
    "vscode": {
     "languageId": "commonlisp"
    }
   },
   "outputs": [
    {
     "data": {
      "text/plain": [
       "#<PACKAGE \"COMMON-LISP-USER\">"
      ]
     },
     "execution_count": 16,
     "metadata": {},
     "output_type": "execute_result"
    },
    {
     "data": {
      "text/plain": [
       "#<PACKAGE \"MY-FIVEAM-TEST-FIXTURES\">"
      ]
     },
     "execution_count": 16,
     "metadata": {},
     "output_type": "execute_result"
    },
    {
     "data": {
      "text/plain": [
       "#<PACKAGE \"MY-FIVEAM-TEST-FIXTURES\">"
      ]
     },
     "execution_count": 16,
     "metadata": {},
     "output_type": "execute_result"
    },
    {
     "data": {
      "text/plain": [
       "MY-SYSTEM-FIXTURES"
      ]
     },
     "execution_count": 16,
     "metadata": {},
     "output_type": "execute_result"
    },
    {
     "data": {
      "text/plain": [
       "MY-SYSTEM-FIXTURES"
      ]
     },
     "execution_count": 16,
     "metadata": {},
     "output_type": "execute_result"
    },
    {
     "data": {
      "text/plain": [
       "#<FUNCTION (LAMBDA () :IN GEN-FLOAT) {1003C368AB}>"
      ]
     },
     "execution_count": 16,
     "metadata": {},
     "output_type": "execute_result"
    },
    {
     "data": {
      "text/plain": [
       "-2.7561602e38"
      ]
     },
     "execution_count": 16,
     "metadata": {},
     "output_type": "execute_result"
    },
    {
     "data": {
      "text/plain": [
       "0"
      ]
     },
     "execution_count": 16,
     "metadata": {},
     "output_type": "execute_result"
    },
    {
     "data": {
      "text/plain": [
       "RANDOMTEST"
      ]
     },
     "execution_count": 16,
     "metadata": {},
     "output_type": "execute_result"
    },
    {
     "data": {
      "text/plain": [
       "NIL"
      ]
     },
     "execution_count": 16,
     "metadata": {},
     "output_type": "execute_result"
    },
    {
     "data": {
      "text/plain": [
       "(#<IT.BESE.FIVEAM::FOR-ALL-TEST-FAILED {1003CD5903}>)"
      ]
     },
     "execution_count": 16,
     "metadata": {},
     "output_type": "execute_result"
    },
    {
     "data": {
      "text/plain": [
       "NIL"
      ]
     },
     "execution_count": 16,
     "metadata": {},
     "output_type": "execute_result"
    },
    {
     "name": "stdout",
     "output_type": "stream",
     "text": [
      "\n",
      "Running test RANDOMTEST ..ff\n",
      "  Did 1 check.\n",
      "\n",
      "     Pass: 0 ( 0%)\n",
      "\n",
      "     Skip: 0 ( 0%)\n",
      "\n",
      "     Fail: 1 (100%)\n",
      "\n",
      "\n",
      "  Failure Details:\n",
      "\n",
      "  --------------------------------\n",
      "\n",
      "  RANDOMTEST in MY-SYSTEM-FIXTURES []: \n",
      "\n",
      "       Falsifiable with (3 2)\n",
      "\n",
      "  Results collected with failure data:\n",
      "\n",
      "  Did 1 check.\n",
      "\n",
      "     Pass: 0 ( 0%)\n",
      "\n",
      "     Skip: 0 ( 0%)\n",
      "\n",
      "     Fail: 1 (100%)\n",
      "\n",
      "\n",
      "  Failure Details:\n",
      "\n",
      "  --------------------------------\n",
      "\n",
      "  RANDOMTEST in MY-SYSTEM-FIXTURES []: \n",
      "\n",
      "       \n",
      "B\n",
      "\n",
      " evaluated to \n",
      "\n",
      "2\n",
      "\n",
      " which is not \n",
      "\n",
      "<=\n",
      "\n",
      " to \n",
      "\n",
      "3\n",
      "\n",
      "\n",
      "\n",
      "  --------------------------------\n",
      "\n",
      "\n",
      "  --------------------------------\n",
      "\n"
     ]
    }
   ],
   "source": [
    "(in-package :cl-user)\n",
    "(defpackage my-fiveam-test-fixtures\n",
    "  (:use :cl\n",
    "        :fiveam))\n",
    "(in-package :my-fiveam-test-fixtures)\n",
    "\n",
    "(def-suite my-system-fixtures\n",
    "  :description \"Test my system\")\n",
    "(in-suite my-system-fixtures)\n",
    "\n",
    "(gen-float)\n",
    "(funcall (gen-float))\n",
    "(funcall (gen-integer :max 27 :min -16))\n",
    "\n",
    "\n",
    "(test randomtest\n",
    "  (for-all ((a (gen-integer :min 1 :max 10))\n",
    "            (b (gen-integer :min 1 :max 10)))\n",
    "    \"Test random tests.\"\n",
    "    (is (<= a b))))\n",
    "\n",
    "(run! 'randomtest)\n"
   ]
  }
 ],
 "metadata": {
  "kernelspec": {
   "display_name": "Common Lisp",
   "language": "common-lisp",
   "name": "common-lisp"
  },
  "language_info": {
   "codemirror_mode": "text/x-common-lisp",
   "file_extension": ".lisp",
   "mimetype": "text/x-common-lisp",
   "name": "common-lisp",
   "pygments_lexer": "common-lisp",
   "version": "2.4.7"
  }
 },
 "nbformat": 4,
 "nbformat_minor": 2
}
