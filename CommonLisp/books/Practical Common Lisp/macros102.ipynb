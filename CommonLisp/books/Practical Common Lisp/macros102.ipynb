{
 "cells": [
  {
   "cell_type": "code",
   "execution_count": null,
   "metadata": {},
   "outputs": [],
   "source": [
    "; Definition for Mac, Read Only\n",
    "; DEF.MAC.R/O\n",
    "; DEFMACRO"
   ]
  },
  {
   "cell_type": "markdown",
   "metadata": {},
   "source": [
    "# 宏的展开期和运行期"
   ]
  },
  {
   "cell_type": "code",
   "execution_count": 3,
   "metadata": {},
   "outputs": [],
   "source": [
    "; 区别: 生成代码的代码(宏), 最终构成程序的代码\n",
    "; 编写宏时, 是在编写那些将被编译器用来生成代码并随后编译的程序.\n",
    "; 只有当所有的宏都被完全展开, 并且产生的代码被编译后, 程序才可以实际运行.\n",
    ";\n",
    "; 宏运行的时期: 宏展开期(macro expansion time)\n",
    "; 运行期(runtime): 正常的代码实际运行的阶段\n",
    "; 在宏展开期无法访问那些仅存于运行期的数据\n",
    ";\n",
    "; 总是向宏传递那些代表宏形式中的子形式的未经求值的Lisp对象\n",
    "; 宏形式: 首元素为宏名的Lisp形式"
   ]
  },
  {
   "cell_type": "markdown",
   "metadata": {},
   "source": [
    "# DEFMACRO"
   ]
  },
  {
   "cell_type": "code",
   "execution_count": 4,
   "metadata": {},
   "outputs": [],
   "source": [
    "; (defmacro name (parameter*)\n",
    ";   \"Optional documentation string.\"\n",
    ";   body-form*)"
   ]
  },
  {
   "cell_type": "code",
   "execution_count": 5,
   "metadata": {},
   "outputs": [],
   "source": [
    "; 编写宏的步骤:\n",
    "; (1) 编写示例的宏调用, 以及它应当展开生成的代码\n",
    "; (2) 编写从示例调用的参数中生成手写展开式的代码\n",
    "; (3) 确保宏抽象不产生蟹柳"
   ]
  },
  {
   "cell_type": "code",
   "execution_count": 6,
   "metadata": {},
   "outputs": [
    {
     "data": {
      "text/plain": [
       "PRIMEP"
      ]
     },
     "execution_count": 6,
     "metadata": {},
     "output_type": "execute_result"
    },
    {
     "data": {
      "text/plain": [
       "NEXT-PRIME"
      ]
     },
     "execution_count": 6,
     "metadata": {},
     "output_type": "execute_result"
    },
    {
     "data": {
      "text/plain": [
       "NIL"
      ]
     },
     "execution_count": 6,
     "metadata": {},
     "output_type": "execute_result"
    },
    {
     "name": "stdout",
     "output_type": "stream",
     "text": [
      "2 3 5 7 11 13 17 19 "
     ]
    }
   ],
   "source": [
    "; do-primes\n",
    "\n",
    "(defun primep (number)\n",
    "    (when (> number 1)\n",
    "        (loop for fac from 2 to (isqrt number) never (zerop (mod number fac)))))\n",
    "\n",
    "(defun next-prime (number)\n",
    "    (loop for n from number when (primep n) return n))\n",
    "\n",
    "; (do-primes (p 0 19)\n",
    ";   (format t \"~d \" p))\n",
    "\n",
    "(do ((p (next-prime 0) (next-prime (1+ p))))\n",
    "    ((> p 19))\n",
    "    (format t \"~d \" p))"
   ]
  },
  {
   "cell_type": "markdown",
   "metadata": {},
   "source": [
    "# 宏形参"
   ]
  },
  {
   "cell_type": "code",
   "execution_count": 7,
   "metadata": {},
   "outputs": [
    {
     "data": {
      "text/plain": [
       "DO-PRIMES"
      ]
     },
     "execution_count": 7,
     "metadata": {},
     "output_type": "execute_result"
    }
   ],
   "source": [
    "(defmacro do-primes (var-and-range &rest body) ; &body与&rest等价\n",
    "    (let ((var (first var-and-range))\n",
    "          (start (second var-and-range))\n",
    "          (end (third var-and-range)))\n",
    "         `(do ((,var (next-prime ,start) (next-prime (1+ ,var))))\n",
    "              ((> ,var ,end))\n",
    "              ,@body)))"
   ]
  },
  {
   "cell_type": "code",
   "execution_count": 8,
   "metadata": {},
   "outputs": [
    {
     "data": {
      "text/plain": [
       "NIL"
      ]
     },
     "execution_count": 8,
     "metadata": {},
     "output_type": "execute_result"
    },
    {
     "name": "stdout",
     "output_type": "stream",
     "text": [
      "2 3 5 7 11 13 17 19 "
     ]
    }
   ],
   "source": [
    "(do-primes (p 0 19)\n",
    "    (format t \"~d \" p))"
   ]
  },
  {
   "cell_type": "code",
   "execution_count": 12,
   "metadata": {},
   "outputs": [
    {
     "data": {
      "text/plain": [
       "(DO ((P (NEXT-PRIME 0) (NEXT-PRIME (1+ P)))) ((> P 19)) (FORMAT T \"~d \" P))"
      ]
     },
     "execution_count": 12,
     "metadata": {},
     "output_type": "execute_result"
    },
    {
     "data": {
      "text/plain": [
       "T"
      ]
     },
     "execution_count": 12,
     "metadata": {},
     "output_type": "execute_result"
    }
   ],
   "source": [
    "(macroexpand-1 '(do-primes (p 0 19) (format t \"~d \" p)))"
   ]
  },
  {
   "cell_type": "code",
   "execution_count": 16,
   "metadata": {},
   "outputs": [
    {
     "data": {
      "text/plain": [
       "DO-PRIMES2"
      ]
     },
     "execution_count": 16,
     "metadata": {},
     "output_type": "execute_result"
    },
    {
     "data": {
      "text/plain": [
       "(DO ((VAR (NEXT-PRIME START) (NEXT-PRIME (1+ VAR))))\n",
       "    ((> VAR END))\n",
       "  (FORMAT T \"~d \" P))"
      ]
     },
     "execution_count": 16,
     "metadata": {},
     "output_type": "execute_result"
    },
    {
     "data": {
      "text/plain": [
       "T"
      ]
     },
     "execution_count": 16,
     "metadata": {},
     "output_type": "execute_result"
    },
    {
     "name": "stdout",
     "output_type": "stream",
     "text": [
      "\n",
      "SIMPLE-STYLE-WARNING: \n",
      "  The variable VAR is defined but never used.\n",
      "\n",
      "SIMPLE-STYLE-WARNING: \n",
      "  The variable START is defined but never used.\n",
      "\n",
      "SIMPLE-STYLE-WARNING: \n",
      "  The variable END is defined but never used.\n",
      "\n",
      "REDEFINITION-WITH-DEFMACRO: \n",
      "  redefining COMMON-LISP-USER::DO-PRIMES2 in DEFMACRO\n"
     ]
    }
   ],
   "source": [
    "; spike: 为什么需要求值\n",
    "(defmacro do-primes2 (var-and-range &rest body)\n",
    "    (let ((var (first var-and-range))\n",
    "          (start (second var-and-range))\n",
    "          (end (third var-and-range)))\n",
    "         `(do ((var (next-prime start) (next-prime (1+ var))))\n",
    "              ((> var end))\n",
    "              ,@body)))\n",
    "(macroexpand-1 '(do-primes2 (p 0 19) (format t \"~d \" p)))"
   ]
  },
  {
   "cell_type": "code",
   "execution_count": 18,
   "metadata": {},
   "outputs": [
    {
     "data": {
      "text/plain": [
       "DO-PRIMES3"
      ]
     },
     "execution_count": 18,
     "metadata": {},
     "output_type": "execute_result"
    },
    {
     "data": {
      "text/plain": [
       "(DO ((P (NEXT-PRIME 0) (NEXT-PRIME (1+ P)))) ((> P 19)) (FORMAT T \"~d \" P))"
      ]
     },
     "execution_count": 18,
     "metadata": {},
     "output_type": "execute_result"
    },
    {
     "data": {
      "text/plain": [
       "T"
      ]
     },
     "execution_count": 18,
     "metadata": {},
     "output_type": "execute_result"
    },
    {
     "name": "stdout",
     "output_type": "stream",
     "text": [
      "\n",
      "REDEFINITION-WITH-DEFMACRO: \n",
      "  redefining COMMON-LISP-USER::DO-PRIMES3 in DEFMACRO\n"
     ]
    }
   ],
   "source": [
    "; 宏形参列表是解构(destructuring)形参列表\n",
    "(defmacro do-primes3 ((var start end) &rest body)\n",
    "    `(do ((,var (next-prime ,start) (next-prime (1+ ,var))))\n",
    "         ((> ,var ,end))\n",
    "         ,@body))\n",
    "(macroexpand-1 '(do-primes3 (p 0 19) (format t \"~d \" p)))"
   ]
  },
  {
   "cell_type": "markdown",
   "metadata": {},
   "source": [
    "# 生成展开式"
   ]
  },
  {
   "cell_type": "markdown",
   "metadata": {},
   "source": [
    "## 反引用(backquote)"
   ]
  },
  {
   "cell_type": "code",
   "execution_count": 19,
   "metadata": {},
   "outputs": [],
   "source": [
    "; 反引用: 当读取器读到一个反引用表达式时, 将其翻译成生成适当列表结构的代码"
   ]
  },
  {
   "cell_type": "code",
   "execution_count": 27,
   "metadata": {},
   "outputs": [
    {
     "data": {
      "text/plain": [
       "(A (+ 1 2) C)"
      ]
     },
     "execution_count": 27,
     "metadata": {},
     "output_type": "execute_result"
    },
    {
     "data": {
      "text/plain": [
       "(A (+ 1 2) C)"
      ]
     },
     "execution_count": 27,
     "metadata": {},
     "output_type": "execute_result"
    },
    {
     "data": {
      "text/plain": [
       "(A 3 C)"
      ]
     },
     "execution_count": 27,
     "metadata": {},
     "output_type": "execute_result"
    },
    {
     "data": {
      "text/plain": [
       "(A 3 C)"
      ]
     },
     "execution_count": 27,
     "metadata": {},
     "output_type": "execute_result"
    }
   ],
   "source": [
    "`(a (+ 1 2) c)\n",
    "(list 'a '(+ 1 2) 'c)\n",
    "\n",
    "`(a ,(+ 1 2) c)\n",
    "(list 'a (+ 1 2) 'c)"
   ]
  },
  {
   "cell_type": "code",
   "execution_count": 28,
   "metadata": {},
   "outputs": [
    {
     "data": {
      "text/plain": [
       "(A (LIST 1 2) C)"
      ]
     },
     "execution_count": 28,
     "metadata": {},
     "output_type": "execute_result"
    },
    {
     "data": {
      "text/plain": [
       "(A (LIST 1 2) C)"
      ]
     },
     "execution_count": 28,
     "metadata": {},
     "output_type": "execute_result"
    },
    {
     "data": {
      "text/plain": [
       "(A (1 2) C)"
      ]
     },
     "execution_count": 28,
     "metadata": {},
     "output_type": "execute_result"
    },
    {
     "data": {
      "text/plain": [
       "(A (1 2) C)"
      ]
     },
     "execution_count": 28,
     "metadata": {},
     "output_type": "execute_result"
    },
    {
     "data": {
      "text/plain": [
       "(A 1 2 C)"
      ]
     },
     "execution_count": 28,
     "metadata": {},
     "output_type": "execute_result"
    },
    {
     "data": {
      "text/plain": [
       "(A 1 2 C)"
      ]
     },
     "execution_count": 28,
     "metadata": {},
     "output_type": "execute_result"
    }
   ],
   "source": [
    "`(a (list 1 2) c)\n",
    "(list 'a '(list 1 2) 'c)\n",
    "\n",
    "`(a ,(list 1 2) c)\n",
    "(list 'a (list 1 2) 'c)\n",
    "\n",
    "`(a ,@(list 1 2) c)\n",
    "(append (list 'a) (list 1 2) (list 'c))"
   ]
  },
  {
   "cell_type": "markdown",
   "metadata": {},
   "source": [
    "## 解引用(unquote)"
   ]
  },
  {
   "cell_type": "code",
   "execution_count": null,
   "metadata": {},
   "outputs": [],
   "source": [
    "; ,\n",
    "; ,@"
   ]
  },
  {
   "cell_type": "markdown",
   "metadata": {},
   "source": [
    "# 堵住漏洞"
   ]
  },
  {
   "cell_type": "code",
   "execution_count": 29,
   "metadata": {},
   "outputs": [],
   "source": [
    "; 宏可能以三种方式泄露其内部工作细节"
   ]
  },
  {
   "cell_type": "code",
   "execution_count": 30,
   "metadata": {},
   "outputs": [
    {
     "data": {
      "text/plain": [
       "(DO ((P (NEXT-PRIME 0) (NEXT-PRIME (1+ P))))\n",
       "    ((> P (RANDOM 100)))\n",
       "  (FORMAT T \"~d \" P))"
      ]
     },
     "execution_count": 30,
     "metadata": {},
     "output_type": "execute_result"
    },
    {
     "data": {
      "text/plain": [
       "T"
      ]
     },
     "execution_count": 30,
     "metadata": {},
     "output_type": "execute_result"
    }
   ],
   "source": [
    "; (1) end多次求值\n",
    "(macroexpand-1 '(do-primes (p 0 (random 100)) (format t \"~d \" p)))"
   ]
  },
  {
   "cell_type": "code",
   "execution_count": 40,
   "metadata": {},
   "outputs": [
    {
     "data": {
      "text/plain": [
       "DO-PRIMES4"
      ]
     },
     "execution_count": 40,
     "metadata": {},
     "output_type": "execute_result"
    },
    {
     "data": {
      "text/plain": [
       "(DO ((ENDING-VALUE (RANDOM 100))\n",
       "     (P (NEXT-PRIME 0) (NEXT-PRIME (1+ P))))\n",
       "    ((> P ENDING-VALUE))\n",
       "  (FORMAT T \"~d \" P))"
      ]
     },
     "execution_count": 40,
     "metadata": {},
     "output_type": "execute_result"
    },
    {
     "data": {
      "text/plain": [
       "T"
      ]
     },
     "execution_count": 40,
     "metadata": {},
     "output_type": "execute_result"
    },
    {
     "data": {
      "text/plain": [
       "NIL"
      ]
     },
     "execution_count": 40,
     "metadata": {},
     "output_type": "execute_result"
    },
    {
     "name": "stdout",
     "output_type": "stream",
     "text": [
      "\n",
      "REDEFINITION-WITH-DEFMACRO: \n",
      "  redefining COMMON-LISP-USER::DO-PRIMES4 in DEFMACRO\n",
      "2 3 5 7 11 13 17 19 23 29 31 37 41 43 47 53 59 61 67 71 73 79 83 89 "
     ]
    }
   ],
   "source": [
    "; 修复(1) end只求值一次\n",
    "; (2) end在var, start之前求值\n",
    "; (3) ending-value的命名: 可能跟传递给宏的代码或宏被调用的上下文产生交互\n",
    "(defmacro do-primes4 ((var start end) &rest body)\n",
    "    `(do ((ending-value ,end)\n",
    "          (,var (next-prime ,start) (next-prime (1+ ,var))))\n",
    "         ((> ,var ending-value))\n",
    "         ,@body))\n",
    "(macroexpand-1 '(do-primes4 (p 0 (random 100)) (format t \"~d \" p)))\n",
    "(do-primes4 (p 0 (random 100)) (format t \"~d \" p))"
   ]
  },
  {
   "cell_type": "code",
   "execution_count": 41,
   "metadata": {},
   "outputs": [
    {
     "data": {
      "text/plain": [
       "DO-PRIMES5"
      ]
     },
     "execution_count": 41,
     "metadata": {},
     "output_type": "execute_result"
    },
    {
     "data": {
      "text/plain": [
       "(DO ((P (NEXT-PRIME 0) (NEXT-PRIME (1+ P)))\n",
       "     (ENDING-VALUE (RANDOM 100)))\n",
       "    ((> P ENDING-VALUE))\n",
       "  (FORMAT T \"~d \" P))"
      ]
     },
     "execution_count": 41,
     "metadata": {},
     "output_type": "execute_result"
    },
    {
     "data": {
      "text/plain": [
       "T"
      ]
     },
     "execution_count": 41,
     "metadata": {},
     "output_type": "execute_result"
    },
    {
     "data": {
      "text/plain": [
       "NIL"
      ]
     },
     "execution_count": 41,
     "metadata": {},
     "output_type": "execute_result"
    },
    {
     "name": "stdout",
     "output_type": "stream",
     "text": [
      "\n",
      "REDEFINITION-WITH-DEFMACRO: \n",
      "  redefining COMMON-LISP-USER::DO-PRIMES5 in DEFMACRO\n",
      "2 3 5 "
     ]
    }
   ],
   "source": [
    "; 修复(2) 调整DO中变量初始化形式的顺序\n",
    "(defmacro do-primes5 ((var start end) &rest body)\n",
    "    `(do ((,var (next-prime ,start) (next-prime (1+ ,var)))\n",
    "          (ending-value ,end))\n",
    "         ((> ,var ending-value))\n",
    "         ,@body))\n",
    "(macroexpand-1 '(do-primes5 (p 0 (random 100)) (format t \"~d \" p)))\n",
    "(do-primes5 (p 0 (random 100)) (format t \"~d \" p))"
   ]
  },
  {
   "cell_type": "code",
   "execution_count": 42,
   "metadata": {},
   "outputs": [
    {
     "data": {
      "text/plain": [
       "DO-PRIMES6"
      ]
     },
     "execution_count": 42,
     "metadata": {},
     "output_type": "execute_result"
    },
    {
     "data": {
      "text/plain": [
       "(DO ((P (NEXT-PRIME 0) (NEXT-PRIME (1+ P)))\n",
       "     (#:G560 (RANDOM 100)))\n",
       "    ((> P #:G560))\n",
       "  (FORMAT T \"~d \" P))"
      ]
     },
     "execution_count": 42,
     "metadata": {},
     "output_type": "execute_result"
    },
    {
     "data": {
      "text/plain": [
       "T"
      ]
     },
     "execution_count": 42,
     "metadata": {},
     "output_type": "execute_result"
    },
    {
     "data": {
      "text/plain": [
       "NIL"
      ]
     },
     "execution_count": 42,
     "metadata": {},
     "output_type": "execute_result"
    },
    {
     "name": "stdout",
     "output_type": "stream",
     "text": [
      "2 3 5 7 11 13 17 19 23 29 31 37 41 43 47 53 59 61 67 71 73 79 83 89 97 "
     ]
    }
   ],
   "source": [
    "; 修复(3) 使用函数GENSYM\n",
    "(defmacro do-primes6 ((var start end) &body body)\n",
    "    (let ((ending-value-name (gensym)))\n",
    "         `(do ((,var (next-prime ,start) (next-prime (1+ ,var)))\n",
    "               (,ending-value-name ,end))\n",
    "              ((> ,var ,ending-value-name))\n",
    "              ,@body)))\n",
    "(macroexpand-1 '(do-primes6 (p 0 (random 100)) (format t \"~d \" p)))\n",
    "(do-primes6 (p 0 (random 100)) (format t \"~d \" p))"
   ]
  },
  {
   "cell_type": "code",
   "execution_count": 43,
   "metadata": {},
   "outputs": [],
   "source": [
    "; 需要遵循的规则: 除非有特殊理由\n",
    "; (1) 需要将展开式的任何子形式放在一个位置上, 使其求值顺序与宏调用的子形式相同\n",
    "; (2) 需要确保子形式仅被求值一次\n",
    "; (3) 在宏展开期使用GENSYM函数创建展开式中用到的变量名"
   ]
  },
  {
   "cell_type": "markdown",
   "metadata": {},
   "source": [
    "# 用于编写宏的宏"
   ]
  },
  {
   "cell_type": "code",
   "execution_count": 44,
   "metadata": {},
   "outputs": [],
   "source": [
    "; 一个模式: 以一个LET形式开始, 后者引入一些变量来保存宏展开过程中用到的生成符号."
   ]
  },
  {
   "cell_type": "code",
   "execution_count": 46,
   "metadata": {},
   "outputs": [
    {
     "data": {
      "text/plain": [
       "WITH-GENSYMS"
      ]
     },
     "execution_count": 46,
     "metadata": {},
     "output_type": "execute_result"
    },
    {
     "name": "stdout",
     "output_type": "stream",
     "text": [
      "\n",
      "REDEFINITION-WITH-DEFMACRO: \n",
      "  redefining COMMON-LISP-USER::WITH-GENSYMS in DEFMACRO\n"
     ]
    }
   ],
   "source": [
    "(defmacro with-gensyms ((&rest names) &body body)\n",
    "    `(let ,(loop for n in names collect `(,n (gensym)))\n",
    "          ,@body))"
   ]
  },
  {
   "cell_type": "code",
   "execution_count": 47,
   "metadata": {},
   "outputs": [
    {
     "data": {
      "text/plain": [
       "((A (GENSYM)) (B (GENSYM)) (C (GENSYM)))"
      ]
     },
     "execution_count": 47,
     "metadata": {},
     "output_type": "execute_result"
    }
   ],
   "source": [
    "(loop for n in '(a b c) collect `(,n (gensym)))"
   ]
  },
  {
   "cell_type": "code",
   "execution_count": 48,
   "metadata": {},
   "outputs": [
    {
     "data": {
      "text/plain": [
       "DO-PRIMES7"
      ]
     },
     "execution_count": 48,
     "metadata": {},
     "output_type": "execute_result"
    },
    {
     "data": {
      "text/plain": [
       "(DO ((P (NEXT-PRIME 0) (NEXT-PRIME (1+ P)))\n",
       "     (#:G567 (RANDOM 100)))\n",
       "    ((> P #:G567))\n",
       "  (FORMAT T \"~d \" P))"
      ]
     },
     "execution_count": 48,
     "metadata": {},
     "output_type": "execute_result"
    },
    {
     "data": {
      "text/plain": [
       "T"
      ]
     },
     "execution_count": 48,
     "metadata": {},
     "output_type": "execute_result"
    },
    {
     "data": {
      "text/plain": [
       "NIL"
      ]
     },
     "execution_count": 48,
     "metadata": {},
     "output_type": "execute_result"
    },
    {
     "name": "stdout",
     "output_type": "stream",
     "text": [
      "2 3 5 7 11 13 17 19 23 29 31 37 41 43 47 53 "
     ]
    }
   ],
   "source": [
    "(defmacro do-primes7 ((var start end) &body body)\n",
    "    (with-gensyms (ending-value-name)\n",
    "        `(do ((,var (next-prime ,start) (next-prime (1+ ,var)))\n",
    "               (,ending-value-name ,end))\n",
    "              ((> ,var ,ending-value-name))\n",
    "              ,@body)))\n",
    "(macroexpand-1 '(do-primes7 (p 0 (random 100)) (format t \"~d \" p)))\n",
    "(do-primes7 (p 0 (random 100)) (format t \"~d \" p))"
   ]
  },
  {
   "cell_type": "markdown",
   "metadata": {},
   "source": [
    "## 不同的宏是分别在何时被展开的"
   ]
  },
  {
   "cell_type": "code",
   "execution_count": 50,
   "metadata": {},
   "outputs": [],
   "source": [
    ";\n",
    "; 简单的情况说明\n",
    "; 编译do-primes的DEFMACRO时, with-gensyms形式被展开并被编译\n",
    "; 编译一个使用了do-primes的函数时, 由with-gensyms生成的代码将会运行用来生成do-primes的展开式"
   ]
  },
  {
   "cell_type": "markdown",
   "metadata": {},
   "source": [
    "# HyperSpec 2.4 Standard Macro Characters"
   ]
  },
  {
   "cell_type": "code",
   "execution_count": 57,
   "metadata": {},
   "outputs": [
    {
     "data": {
      "text/plain": [
       "ONCE-ONLY"
      ]
     },
     "execution_count": 57,
     "metadata": {},
     "output_type": "execute_result"
    },
    {
     "data": {
      "text/plain": [
       "(LET ((#:G577 (GENSYM)) (#:G578 (GENSYM)))\n",
       "  `(LET (,`(,#:G577 ,START) ,`(,#:G578 ,END))\n",
       "     ,(LET ((START #:G577) (END #:G578))\n",
       "        (LIST START END))))"
      ]
     },
     "execution_count": 57,
     "metadata": {},
     "output_type": "execute_result"
    },
    {
     "data": {
      "text/plain": [
       "T"
      ]
     },
     "execution_count": 57,
     "metadata": {},
     "output_type": "execute_result"
    },
    {
     "name": "stdout",
     "output_type": "stream",
     "text": [
      "\n",
      "REDEFINITION-WITH-DEFMACRO: \n",
      "  redefining COMMON-LISP-USER::ONCE-ONLY in DEFMACRO\n"
     ]
    }
   ],
   "source": [
    "; 例:::\n",
    "; 多层的反引用和解引用\n",
    "; 生成以特定顺序仅求值特定宏参数一次的代码\n",
    "(defmacro once-only ((&rest names) &body body)\n",
    "    (let ((gensyms (loop for n in names collect (gensym))))\n",
    "         `(let (,@(loop for g in gensyms collect `(,g (gensym))))\n",
    "               `(let (,,@(loop for g in gensyms for n in names collect ``(,,g ,,n)))\n",
    "                     ,(let (,@(loop for n in names for g in gensyms collect `(,n ,g)))\n",
    "                           ,@body)))))\n",
    "\n",
    "(macroexpand-1 '(once-only (start end) (list start end)))"
   ]
  },
  {
   "cell_type": "code",
   "execution_count": 55,
   "metadata": {},
   "outputs": [
    {
     "data": {
      "text/plain": [
       "DO-PRIMES8"
      ]
     },
     "execution_count": 55,
     "metadata": {},
     "output_type": "execute_result"
    },
    {
     "data": {
      "text/plain": [
       "(LET ((#:G571 0) (#:G572 (RANDOM 100)))\n",
       "  (DO ((P (NEXT-PRIME #:G571) (NEXT-PRIME (1+ P))))\n",
       "      ((> P #:G572))\n",
       "    (FORMAT T \"~d \" P)))"
      ]
     },
     "execution_count": 55,
     "metadata": {},
     "output_type": "execute_result"
    },
    {
     "data": {
      "text/plain": [
       "T"
      ]
     },
     "execution_count": 55,
     "metadata": {},
     "output_type": "execute_result"
    },
    {
     "data": {
      "text/plain": [
       "NIL"
      ]
     },
     "execution_count": 55,
     "metadata": {},
     "output_type": "execute_result"
    },
    {
     "name": "stdout",
     "output_type": "stream",
     "text": [
      "2 3 5 7 11 13 17 19 23 29 31 37 41 43 "
     ]
    }
   ],
   "source": [
    "(defmacro do-primes8 ((var start end) &body body)\n",
    "    (once-only (start end)\n",
    "               `(do ((,var (next-prime ,start) (next-prime (1+ ,var))))\n",
    "                    ((> ,var ,end))\n",
    "                    ,@body)))\n",
    "\n",
    "(macroexpand-1 '(do-primes8 (p 0 (random 100)) (format t \"~d \" p)))\n",
    "(do-primes8 (p 0 (random 100)) (format t \"~d \" p))"
   ]
  },
  {
   "cell_type": "code",
   "execution_count": null,
   "metadata": {},
   "outputs": [],
   "source": []
  }
 ],
 "metadata": {
  "kernelspec": {
   "display_name": "Common Lisp",
   "language": "common-lisp",
   "name": "common-lisp"
  },
  "language_info": {
   "codemirror_mode": "text/x-common-lisp",
   "file_extension": ".lisp",
   "mimetype": "text/x-common-lisp",
   "name": "common-lisp",
   "pygments_lexer": "common-lisp",
   "version": "1.5.5"
  },
  "toc": {
   "base_numbering": 1,
   "nav_menu": {},
   "number_sections": true,
   "sideBar": true,
   "skip_h1_title": false,
   "title_cell": "Table of Contents",
   "title_sidebar": "Contents",
   "toc_cell": false,
   "toc_position": {},
   "toc_section_display": true,
   "toc_window_display": true
  }
 },
 "nbformat": 4,
 "nbformat_minor": 2
}
