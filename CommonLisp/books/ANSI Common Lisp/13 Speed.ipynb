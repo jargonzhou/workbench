{
 "cells": [
  {
   "cell_type": "markdown",
   "metadata": {},
   "source": [
    "# The Bottleneck Rule"
   ]
  },
  {
   "cell_type": "markdown",
   "metadata": {},
   "source": [
    "- focus on bottlenecks\n",
    "- not bigin too early\n",
    "- begin with algorithms"
   ]
  },
  {
   "cell_type": "markdown",
   "metadata": {},
   "source": [
    "# Compilation"
   ]
  },
  {
   "cell_type": "code",
   "execution_count": null,
   "metadata": {
    "vscode": {
     "languageId": "commonlisp"
    }
   },
   "outputs": [],
   "source": [
    "; ; declartion\n",
    "; (declare (optimize (speed 3) (safety 0)))\n",
    "\n",
    "; ; globaly\n",
    "; (declaim (optimize (speed 3)\n",
    ";                    (compilation-speed 0)\n",
    ";                    (safety 0)\n",
    ";                    (debug 0)))"
   ]
  },
  {
   "cell_type": "code",
   "execution_count": 2,
   "metadata": {
    "vscode": {
     "languageId": "commonlisp"
    }
   },
   "outputs": [
    {
     "data": {
      "text/plain": [
       "LENGTH/R"
      ]
     },
     "execution_count": 2,
     "metadata": {},
     "output_type": "execute_result"
    },
    {
     "data": {
      "text/plain": [
       "LENGTH/TR"
      ]
     },
     "execution_count": 2,
     "metadata": {},
     "output_type": "execute_result"
    },
    {
     "data": {
      "text/plain": [
       "4"
      ]
     },
     "execution_count": 2,
     "metadata": {},
     "output_type": "execute_result"
    },
    {
     "name": "stdout",
     "output_type": "stream",
     "text": [
      "SB-KERNEL:REDEFINITION-WITH-DEFUN: redefining COMMON-LISP-USER::LENGTH/R in DEFUN\n",
      "SB-KERNEL:REDEFINITION-WITH-DEFUN: redefining COMMON-LISP-USER::LENGTH/TR in DEFUN\n",
      "\n",
      "4 \n",
      "4 "
     ]
    }
   ],
   "source": [
    "; tail call\n",
    "(defun length/r (lst)\n",
    "  (if (null lst)\n",
    "      0\n",
    "      (1+ (length/r (cdr lst)))))\n",
    "\n",
    "(defun length/tr (lst)\n",
    "  (labels ((len (lst acc)\n",
    "                (if (null lst)\n",
    "                    acc\n",
    "                    (len (cdr lst) (1+ acc)))))\n",
    "    (len lst 0)))\n",
    "\n",
    "(let ((lst '(a b c d)))\n",
    "    (print (length/r lst))\n",
    "    (print (length/tr lst)))"
   ]
  },
  {
   "cell_type": "code",
   "execution_count": 3,
   "metadata": {
    "vscode": {
     "languageId": "commonlisp"
    }
   },
   "outputs": [
    {
     "data": {
      "text/plain": [
       "NIL"
      ]
     },
     "execution_count": 3,
     "metadata": {},
     "output_type": "execute_result"
    },
    {
     "data": {
      "text/plain": [
       "SINGLE?"
      ]
     },
     "execution_count": 3,
     "metadata": {},
     "output_type": "execute_result"
    },
    {
     "data": {
      "text/plain": [
       "FOO"
      ]
     },
     "execution_count": 3,
     "metadata": {},
     "output_type": "execute_result"
    },
    {
     "name": "stdout",
     "output_type": "stream",
     "text": [
      "SB-INT:SIMPLE-STYLE-WARNING: DECLAIM where DECLARE was probably intended\n"
     ]
    }
   ],
   "source": [
    "; inline\n",
    "(declaim (inline single?))\n",
    "(defun single? (lst)\n",
    "  (and (consp lst) (null (cdr lst))))\n",
    "\n",
    "(defun foo (x)\n",
    "  (single? x))"
   ]
  },
  {
   "cell_type": "code",
   "execution_count": 4,
   "metadata": {
    "vscode": {
     "languageId": "commonlisp"
    }
   },
   "outputs": [
    {
     "data": {
      "text/plain": [
       "NIL"
      ]
     },
     "execution_count": 4,
     "metadata": {},
     "output_type": "execute_result"
    },
    {
     "name": "stdout",
     "output_type": "stream",
     "text": [
      "\n",
      "; disassembly for SINGLE?\n",
      "; Size: 59 bytes. Origin: #xB80103F98F    ; SINGLE?\n",
      ";   8F:  498B4510         MOV  RAX, [R13+16]   ; thread.binding-stack-pointer\n",
      "\n",
      "\n",
      ";   93:  488945F0         MOV  [RBP-16], RAX\n",
      "\n",
      ";   97:  4981F917010050   CMP  R9, #x50000117   ; NIL\n",
      "\n",
      "\n",
      ";   9E:  740A             JEQ  L0\n",
      "\n",
      ";   A0:  458D41F9         LEA  R8D, [R9-7]\n",
      "\n",
      ";   A4:  41F6C00F         TEST  R8B, 15\n",
      "\n",
      ";   A8:  7408             JEQ  L2\n",
      "\n",
      ";   AA: L0:  BA17010050       MOV  EDX, #x50000117   ; NIL\n",
      "\n",
      "\n",
      ";   AF: L1:  C9               LEAVE\n",
      "\n",
      ";   B0:  F8               CLC\n",
      "\n",
      ";   B1:  C3               RET\n",
      "\n",
      ";   B2: L2:  4D8B5101         MOV  R10, [R9+1]\n",
      "\n",
      ";   B6:  4981FA17010050   CMP  R10, #x50000117   ; NIL\n",
      "\n",
      "\n",
      ";   BD:  75EB             JNE  L0\n",
      "\n",
      ";   BF:  BA4F010050       MOV  EDX, #x5000014F   ; T\n",
      "\n",
      "\n",
      ";   C4:  EBE9             JMP  L1\n",
      "\n",
      ";   C6:  CC0F             INT3  15   ; Invalid argument count trap\n",
      "\n",
      "\n",
      ";   C8:  CC0F             INT3  15   ; Invalid argument count trap\n",
      "\n"
     ]
    }
   ],
   "source": [
    "; disassemble\n",
    "(disassemble #'single?)"
   ]
  },
  {
   "cell_type": "markdown",
   "metadata": {},
   "source": [
    "# Type Declarations"
   ]
  },
  {
   "cell_type": "code",
   "execution_count": 6,
   "metadata": {
    "vscode": {
     "languageId": "commonlisp"
    }
   },
   "outputs": [
    {
     "data": {
      "text/plain": [
       "(*COUNT*)"
      ]
     },
     "execution_count": 6,
     "metadata": {},
     "output_type": "execute_result"
    },
    {
     "data": {
      "text/plain": [
       "(*COUNT*)"
      ]
     },
     "execution_count": 6,
     "metadata": {},
     "output_type": "execute_result"
    },
    {
     "data": {
      "text/plain": [
       "PLOY"
      ]
     },
     "execution_count": 6,
     "metadata": {},
     "output_type": "execute_result"
    },
    {
     "name": "stdout",
     "output_type": "stream",
     "text": [
      "SB-INT:SIMPLE-STYLE-WARNING: DECLAIM where DECLARE was probably intended\n",
      "SB-INT:SIMPLE-STYLE-WARNING: DECLAIM where DECLARE was probably intended\n"
     ]
    }
   ],
   "source": [
    "(declaim (type fixnum *count*))\n",
    "(declaim (fixnum *count*)) ; omit 'type'\n",
    "\n",
    "(defun ploy (a b x)\n",
    "  (declare (fixnum a b x))\n",
    "  (+ (* a (expt x 2)) (* b x)))\n"
   ]
  },
  {
   "cell_type": "code",
   "execution_count": 7,
   "metadata": {
    "vscode": {
     "languageId": "commonlisp"
    }
   },
   "outputs": [
    {
     "data": {
      "text/plain": [
       "POLY"
      ]
     },
     "execution_count": 7,
     "metadata": {},
     "output_type": "execute_result"
    }
   ],
   "source": [
    "; the: declare the value of an expression to be of a certain type\n",
    "(defun poly (a b x)\n",
    "  (declare (fixnum a b x))\n",
    "  (the fixnum (+ (the fixnum (* a (the fixnum (expt x 2))))\n",
    "                 (the fixnum (* b x)))))"
   ]
  },
  {
   "cell_type": "code",
   "execution_count": 8,
   "metadata": {
    "vscode": {
     "languageId": "commonlisp"
    }
   },
   "outputs": [
    {
     "data": {
      "text/plain": [
       "3.456d0"
      ]
     },
     "execution_count": 8,
     "metadata": {},
     "output_type": "execute_result"
    },
    {
     "name": "stdout",
     "output_type": "stream",
     "text": [
      "SB-INT:SIMPLE-STYLE-WARNING: The variable X is assigned but never read.\n"
     ]
    }
   ],
   "source": [
    "; specialized array\n",
    "(let ((x nil)\n",
    "      (y nil))\n",
    "    (setf x (vector 1.234d0 2.345d0 3.456d0)\n",
    "        y (make-array 3 :element-type 'double-float)\n",
    "        (aref y 0) 1.234d0\n",
    "        (aref y 1) 2.345d0\n",
    "        (aref y 2) 3.456d0))"
   ]
  },
  {
   "cell_type": "code",
   "execution_count": 12,
   "metadata": {
    "vscode": {
     "languageId": "commonlisp"
    }
   },
   "outputs": [],
   "source": [
    "; vector declaration\n",
    "; (declare (type (vector fixnum 20) v))"
   ]
  },
  {
   "cell_type": "code",
   "execution_count": 14,
   "metadata": {
    "vscode": {
     "languageId": "commonlisp"
    }
   },
   "outputs": [
    {
     "data": {
      "text/plain": [
       "SUM-ELTS"
      ]
     },
     "execution_count": 14,
     "metadata": {},
     "output_type": "execute_result"
    },
    {
     "data": {
      "text/plain": [
       "SUM-ELTS/T"
      ]
     },
     "execution_count": 14,
     "metadata": {},
     "output_type": "execute_result"
    },
    {
     "data": {
      "text/plain": [
       "1000000.0"
      ]
     },
     "execution_count": 14,
     "metadata": {},
     "output_type": "execute_result"
    },
    {
     "name": "stdout",
     "output_type": "stream",
     "text": [
      "SB-KERNEL:REDEFINITION-WITH-DEFUN: redefining COMMON-LISP-USER::SUM-ELTS in DEFUN\n",
      "\n",
      "Evaluation took:\n",
      "  0.015 seconds of real time\n",
      "  0.015103 seconds of total run time (0.014915 user, 0.000188 system)\n",
      "  100.00% CPU\n",
      "  38,033,133 processor cycles\n",
      "  0 bytes consed\n",
      "  \n",
      "\n",
      "Evaluation took:\n",
      "  0.001 seconds of real time\n",
      "  0.001506 seconds of total run time (0.001489 user, 0.000017 system)\n",
      "  200.00% CPU\n",
      "  3,665,002 processor cycles\n",
      "  0 bytes consed\n",
      "  \n"
     ]
    }
   ],
   "source": [
    "; summing an array\n",
    "(defun sum-elts (a)\n",
    "  (let ((sum 0.0s0))\n",
    "    (dotimes (r 1000)\n",
    "      (dotimes (c 1000)\n",
    "        (incf sum (aref a r c))))\n",
    "    sum))\n",
    "\n",
    "(defun sum-elts/t (a)\n",
    "  (declare (type (simple-array single-float (1000 1000)) a))\n",
    "  (let ((sum 0.0s0))\n",
    "    (declare (type single-float sum))\n",
    "    (dotimes (r 1000)\n",
    "      (dotimes (c 1000)\n",
    "        (incf sum (aref a r c))))\n",
    "    sum))\n",
    "\n",
    "(let ((a (make-array '(1000 1000)\n",
    "           :element-type 'single-float\n",
    "           :initial-element 1.0s0)))\n",
    "  (time (sum-elts a))\n",
    "  (time (sum-elts/t a)))"
   ]
  },
  {
   "cell_type": "markdown",
   "metadata": {},
   "source": [
    "# Garbage Avoidance"
   ]
  },
  {
   "cell_type": "code",
   "execution_count": 21,
   "metadata": {
    "vscode": {
     "languageId": "commonlisp"
    }
   },
   "outputs": [
    {
     "data": {
      "text/plain": [
       "T"
      ]
     },
     "execution_count": 21,
     "metadata": {},
     "output_type": "execute_result"
    },
    {
     "data": {
      "text/plain": [
       "#(NIL NIL)"
      ]
     },
     "execution_count": 21,
     "metadata": {},
     "output_type": "execute_result"
    },
    {
     "data": {
      "text/plain": [
       "2"
      ]
     },
     "execution_count": 21,
     "metadata": {},
     "output_type": "execute_result"
    },
    {
     "data": {
      "text/plain": [
       "2"
      ]
     },
     "execution_count": 21,
     "metadata": {},
     "output_type": "execute_result"
    },
    {
     "data": {
      "text/plain": [
       "#(NIL NIL A)"
      ]
     },
     "execution_count": 21,
     "metadata": {},
     "output_type": "execute_result"
    },
    {
     "data": {
      "text/plain": [
       "A"
      ]
     },
     "execution_count": 21,
     "metadata": {},
     "output_type": "execute_result"
    },
    {
     "data": {
      "text/plain": [
       "#(NIL NIL)"
      ]
     },
     "execution_count": 21,
     "metadata": {},
     "output_type": "execute_result"
    },
    {
     "name": "stdout",
     "output_type": "stream",
     "text": [
      "SIMPLE-WARNING: undefined variable: COMMON-LISP-USER::VEC\n",
      "SIMPLE-WARNING: undefined variable: COMMON-LISP-USER::VEC\n",
      "SIMPLE-WARNING: undefined variable: COMMON-LISP-USER::VEC\n",
      "SIMPLE-WARNING: undefined variable: COMMON-LISP-USER::VEC\n",
      "SIMPLE-WARNING: undefined variable: COMMON-LISP-USER::VEC\n",
      "SIMPLE-WARNING: undefined variable: COMMON-LISP-USER::VEC\n"
     ]
    }
   ],
   "source": [
    "; allocate block of memory beforehand\n",
    "(setf *print-array* t)\n",
    "\n",
    "(setf vec (make-array 10 :fill-pointer 2 :initial-element nil))\n",
    "(length vec)\n",
    "(vector-push 'a vec)\n",
    "vec\n",
    "(vector-pop vec)\n",
    "vec"
   ]
  },
  {
   "cell_type": "code",
   "execution_count": 22,
   "metadata": {
    "vscode": {
     "languageId": "commonlisp"
    }
   },
   "outputs": [
    {
     "data": {
      "text/plain": [
       "1"
      ]
     },
     "execution_count": 22,
     "metadata": {},
     "output_type": "execute_result"
    },
    {
     "data": {
      "text/plain": [
       "2"
      ]
     },
     "execution_count": 22,
     "metadata": {},
     "output_type": "execute_result"
    },
    {
     "data": {
      "text/plain": [
       "2"
      ]
     },
     "execution_count": 22,
     "metadata": {},
     "output_type": "execute_result"
    },
    {
     "data": {
      "text/plain": [
       "#(1 2 3)"
      ]
     },
     "execution_count": 22,
     "metadata": {},
     "output_type": "execute_result"
    },
    {
     "data": {
      "text/plain": [
       "#(2 3 4)"
      ]
     },
     "execution_count": 22,
     "metadata": {},
     "output_type": "execute_result"
    },
    {
     "data": {
      "text/plain": [
       "#(2 3 4)"
      ]
     },
     "execution_count": 22,
     "metadata": {},
     "output_type": "execute_result"
    },
    {
     "name": "stdout",
     "output_type": "stream",
     "text": [
      "SIMPLE-WARNING: undefined variable: COMMON-LISP-USER::VEC\n",
      "SIMPLE-WARNING: undefined variable: COMMON-LISP-USER::VEC\n",
      "SIMPLE-WARNING: undefined variable: COMMON-LISP-USER::VEC\n",
      "SIMPLE-WARNING: undefined variable: COMMON-LISP-USER::VEC\n",
      "SIMPLE-WARNING: undefined variable: COMMON-LISP-USER::VEC\n",
      "SIMPLE-WARNING: undefined variable: COMMON-LISP-USER::VEC\n",
      "SIMPLE-WARNING: undefined variable: COMMON-LISP-USER::VEC\n"
     ]
    }
   ],
   "source": [
    "; aref instead of svref\n",
    "(setf (aref vec 0) 1)\n",
    "(setf (aref vec 1) 2)\n",
    "(vector-push 3 vec)\n",
    "vec\n",
    "; map-into instead of map\n",
    "(setf vec (map-into vec #'1+ vec))\n",
    "vec"
   ]
  },
  {
   "cell_type": "code",
   "execution_count": 1,
   "metadata": {
    "vscode": {
     "languageId": "commonlisp"
    }
   },
   "outputs": [
    {
     "data": {
      "text/plain": [
       "DICT"
      ]
     },
     "execution_count": 1,
     "metadata": {},
     "output_type": "execute_result"
    },
    {
     "data": {
      "text/plain": [
       "READ-WORDS"
      ]
     },
     "execution_count": 1,
     "metadata": {},
     "output_type": "execute_result"
    },
    {
     "data": {
      "text/plain": [
       "XFORM"
      ]
     },
     "execution_count": 1,
     "metadata": {},
     "output_type": "execute_result"
    },
    {
     "data": {
      "text/plain": [
       "WRITE-WORDS"
      ]
     },
     "execution_count": 1,
     "metadata": {},
     "output_type": "execute_result"
    },
    {
     "data": {
      "text/plain": [
       "NIL"
      ]
     },
     "execution_count": 1,
     "metadata": {},
     "output_type": "execute_result"
    },
    {
     "data": {
      "text/plain": [
       "#(\"The quick brown fox jumps over the lazy dog.\")"
      ]
     },
     "execution_count": 1,
     "metadata": {},
     "output_type": "execute_result"
    },
    {
     "data": {
      "text/plain": [
       "NIL"
      ]
     },
     "execution_count": 1,
     "metadata": {},
     "output_type": "execute_result"
    }
   ],
   "source": [
    "; use large vector\n",
    "(defconstant dict (make-array 25000 :fill-pointer 0))\n",
    "\n",
    "(defun read-words (from)\n",
    "  (setf (fill-pointer dict) 0)\n",
    "  (with-open-file (in from :direction :input)\n",
    "    (do ((w (read-line in nil :eof)\n",
    "            (read-line in nil :eof)))\n",
    "        ((eql w :eof))\n",
    "      (vector-push w dict))))\n",
    "\n",
    "(defun xform (fn seq) (map-into seq fn seq))\n",
    "\n",
    "(defun write-words (to)\n",
    "  (with-open-file (out to :direction :output\n",
    "                       :direction :supersede)\n",
    "    (map nil #'(lambda (x)\n",
    "                 (fresh-line out)\n",
    "                 (princ x out))\n",
    "      (xform #'nreverse (sort (xform #'nreverse dict)\n",
    "                            #'string<)))))\n",
    "\n",
    "(read-words \"sample.txt\")\n",
    "dict\n",
    "(write-words \"sample2.txt\")"
   ]
  },
  {
   "cell_type": "code",
   "execution_count": 2,
   "metadata": {
    "vscode": {
     "languageId": "commonlisp"
    }
   },
   "outputs": [
    {
     "data": {
      "text/plain": [
       "OUR-REVERSE"
      ]
     },
     "execution_count": 2,
     "metadata": {},
     "output_type": "execute_result"
    },
    {
     "data": {
      "text/plain": [
       "OUR-ADJOIN"
      ]
     },
     "execution_count": 2,
     "metadata": {},
     "output_type": "execute_result"
    }
   ],
   "source": [
    "; dynamic extent: avoid allocating space for temporary values on the heap\n",
    "\n",
    "; rev: value last longer than the variable\n",
    "(defun our-reverse (lst)\n",
    "  (let ((rev nil))\n",
    "    (dolist (x lst)\n",
    "      (push x rev))\n",
    "    rev))\n",
    "\n",
    "; args\n",
    "(defun our-adjoin (obj lst &rest args)\n",
    "  (declare (dynamic-extent args))\n",
    "  (if (apply #'member obj lst args)\n",
    "      lst\n",
    "      (cons obj lst)))"
   ]
  },
  {
   "cell_type": "markdown",
   "metadata": {},
   "source": [
    "# Example: Pools"
   ]
  },
  {
   "cell_type": "code",
   "execution_count": 1,
   "metadata": {
    "vscode": {
     "languageId": "commonlisp"
    }
   },
   "outputs": [
    {
     "data": {
      "text/plain": [
       "*HARBOR*"
      ]
     },
     "execution_count": 1,
     "metadata": {},
     "output_type": "execute_result"
    },
    {
     "data": {
      "text/plain": [
       "SHIP"
      ]
     },
     "execution_count": 1,
     "metadata": {},
     "output_type": "execute_result"
    },
    {
     "data": {
      "text/plain": [
       "ENTER"
      ]
     },
     "execution_count": 1,
     "metadata": {},
     "output_type": "execute_result"
    },
    {
     "data": {
      "text/plain": [
       "FIND-SHIP"
      ]
     },
     "execution_count": 1,
     "metadata": {},
     "output_type": "execute_result"
    },
    {
     "data": {
      "text/plain": [
       "LEAVE"
      ]
     },
     "execution_count": 1,
     "metadata": {},
     "output_type": "execute_result"
    }
   ],
   "source": [
    "; version 1\n",
    "(defparameter *harbor* nil)\n",
    "\n",
    "(defstruct ship\n",
    "  name\n",
    "  flag\n",
    "  tons)\n",
    "\n",
    "(defun enter (n f d)\n",
    "  (push (make-ship :name n :flag f :tons d) *harbor*))\n",
    "\n",
    "(defun find-ship (n)\n",
    "  (find n *harbor* :key #'ship-name))\n",
    "\n",
    "(defun leave (n)\n",
    "  (setf *harbor*\n",
    "    (delete (find-ship n) *harbor*)))"
   ]
  },
  {
   "cell_type": "code",
   "execution_count": 2,
   "metadata": {
    "vscode": {
     "languageId": "commonlisp"
    }
   },
   "outputs": [
    {
     "data": {
      "text/plain": [
       "POOL"
      ]
     },
     "execution_count": 2,
     "metadata": {},
     "output_type": "execute_result"
    },
    {
     "data": {
      "text/plain": [
       "SHIP"
      ]
     },
     "execution_count": 2,
     "metadata": {},
     "output_type": "execute_result"
    },
    {
     "data": {
      "text/plain": [
       "NIL"
      ]
     },
     "execution_count": 2,
     "metadata": {},
     "output_type": "execute_result"
    },
    {
     "data": {
      "text/plain": [
       "HARBOR"
      ]
     },
     "execution_count": 2,
     "metadata": {},
     "output_type": "execute_result"
    },
    {
     "data": {
      "text/plain": [
       "ENTER"
      ]
     },
     "execution_count": 2,
     "metadata": {},
     "output_type": "execute_result"
    },
    {
     "data": {
      "text/plain": [
       "FUND-SHIP"
      ]
     },
     "execution_count": 2,
     "metadata": {},
     "output_type": "execute_result"
    },
    {
     "data": {
      "text/plain": [
       "LEAVE"
      ]
     },
     "execution_count": 2,
     "metadata": {},
     "output_type": "execute_result"
    },
    {
     "name": "stdout",
     "output_type": "stream",
     "text": [
      "SB-KERNEL:REDEFINITION-WITH-DEFUN: redefining COMMON-LISP-USER::COPY-SHIP in DEFUN\n",
      "SB-KERNEL:REDEFINITION-WITH-DEFUN: redefining COMMON-LISP-USER::SHIP-P in DEFUN\n",
      "SB-KERNEL:REDEFINITION-WITH-DEFUN: redefining (COMMON-LISP:SETF COMMON-LISP-USER::SHIP-NAME) in DEFUN\n",
      "SB-KERNEL:REDEFINITION-WITH-DEFUN: redefining COMMON-LISP-USER::SHIP-NAME in DEFUN\n",
      "SB-KERNEL:REDEFINITION-WITH-DEFUN: redefining (COMMON-LISP:SETF COMMON-LISP-USER::SHIP-FLAG) in DEFUN\n",
      "SB-KERNEL:REDEFINITION-WITH-DEFUN: redefining COMMON-LISP-USER::SHIP-FLAG in DEFUN\n",
      "SB-KERNEL:REDEFINITION-WITH-DEFUN: redefining (COMMON-LISP:SETF COMMON-LISP-USER::SHIP-TONS) in DEFUN\n",
      "SB-KERNEL:REDEFINITION-WITH-DEFUN: redefining COMMON-LISP-USER::SHIP-TONS in DEFUN\n",
      "SB-KERNEL:REDEFINITION-WITH-DEFUN: redefining COMMON-LISP-USER::MAKE-SHIP in DEFUN\n",
      "SB-INT:CONSTANT-MODIFIED: Destructive function SB-KERNEL:%PUTHASH called on constant data: #<HASH-TABLE :TEST EQ :COUNT 0 {100415D643}>\n",
      "See also:\n",
      "  The ANSI Standard, Special Operator QUOTE\n",
      "  The ANSI Standard, Section 3.7.1\n",
      "SB-KERNEL:REDEFINITION-WITH-DEFUN: redefining COMMON-LISP-USER::ENTER in DEFUN\n",
      "SB-INT:CONSTANT-MODIFIED: Destructive function REMHASH called on constant data: #<HASH-TABLE :TEST EQ :COUNT 0 {100415D643}>\n",
      "See also:\n",
      "  The ANSI Standard, Special Operator QUOTE\n",
      "  The ANSI Standard, Section 3.7.1\n",
      "SB-KERNEL:REDEFINITION-WITH-DEFUN: redefining COMMON-LISP-USER::LEAVE in DEFUN\n"
     ]
    }
   ],
   "source": [
    "; version 2\n",
    "(defconstant pool (make-array 1000 :fill-pointer t))\n",
    "\n",
    "(defstruct ship\n",
    "  name\n",
    "  flag\n",
    "  tons)\n",
    "\n",
    "(dotimes (i 1000)\n",
    "  (setf (aref pool i) (make-ship)))\n",
    "\n",
    "(defconstant harbor (make-hash-table :size 1100 :test #'eq))\n",
    "\n",
    "(defun enter (n f d)\n",
    "  (let ((s (if (plusp (length pool))\n",
    "               (vector-pop pool)\n",
    "               (make-ship))))\n",
    "    (setf (ship-name s) n\n",
    "      (ship-flag s) f\n",
    "      (ship-tons s) d\n",
    "      (gethash n harbor) s)))\n",
    "\n",
    "(defun fund-ship (n) (gethash n harbor))\n",
    "\n",
    "(defun leave (n)\n",
    "  (let ((s (gethash n harbor)))\n",
    "    (remhash n harbor)\n",
    "    (vector-push s pool)))"
   ]
  },
  {
   "cell_type": "markdown",
   "metadata": {},
   "source": [
    "# Fast Operators"
   ]
  },
  {
   "cell_type": "code",
   "execution_count": 3,
   "metadata": {
    "vscode": {
     "languageId": "commonlisp"
    }
   },
   "outputs": [
    {
     "data": {
      "text/plain": [
       "6"
      ]
     },
     "execution_count": 3,
     "metadata": {},
     "output_type": "execute_result"
    },
    {
     "data": {
      "text/plain": [
       "6"
      ]
     },
     "execution_count": 3,
     "metadata": {},
     "output_type": "execute_result"
    },
    {
     "name": "stdout",
     "output_type": "stream",
     "text": [
      "\n",
      "Evaluation took:\n",
      "  0.000 seconds of real time\n",
      "  0.000003 seconds of total run time (0.000002 user, 0.000001 system)\n",
      "  100.00% CPU\n",
      "  882 processor cycles\n",
      "  0 bytes consed\n",
      "  \n",
      "\n",
      "Evaluation took:\n",
      "  0.000 seconds of real time\n",
      "  0.000002 seconds of total run time (0.000002 user, 0.000000 system)\n",
      "  100.00% CPU\n",
      "  573 processor cycles\n",
      "  0 bytes consed\n",
      "  \n"
     ]
    }
   ],
   "source": [
    "(time (apply #'+ '(1 2 3)))\n",
    "(time (reduce #'+ '(1 2 3)))"
   ]
  },
  {
   "cell_type": "markdown",
   "metadata": {},
   "source": [
    "# Two-Phase Development"
   ]
  },
  {
   "cell_type": "code",
   "execution_count": 4,
   "metadata": {
    "vscode": {
     "languageId": "commonlisp"
    }
   },
   "outputs": [],
   "source": [
    "; see FFI(Foreign Function Interface) in SBCL `sb-alien` package."
   ]
  }
 ],
 "metadata": {
  "kernelspec": {
   "display_name": "Common Lisp",
   "language": "common-lisp",
   "name": "common-lisp"
  },
  "language_info": {
   "codemirror_mode": "text/x-common-lisp",
   "file_extension": ".lisp",
   "mimetype": "text/x-common-lisp",
   "name": "common-lisp",
   "pygments_lexer": "common-lisp",
   "version": "2.4.7"
  }
 },
 "nbformat": 4,
 "nbformat_minor": 2
}
