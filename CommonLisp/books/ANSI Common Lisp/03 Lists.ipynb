{
 "cells": [
  {
   "cell_type": "markdown",
   "metadata": {},
   "source": [
    "# Conses\n",
    "\n",
    "a cons is a pair of pointers\n",
    "- the first one is the car\n",
    "- the second is the cdr"
   ]
  },
  {
   "cell_type": "code",
   "execution_count": 1,
   "metadata": {
    "vscode": {
     "languageId": "commonlisp"
    }
   },
   "outputs": [
    {
     "data": {
      "text/plain": [
       "(A)"
      ]
     },
     "execution_count": 1,
     "metadata": {},
     "output_type": "execute_result"
    },
    {
     "data": {
      "text/plain": [
       "A"
      ]
     },
     "execution_count": 1,
     "metadata": {},
     "output_type": "execute_result"
    },
    {
     "data": {
      "text/plain": [
       "NIL"
      ]
     },
     "execution_count": 1,
     "metadata": {},
     "output_type": "execute_result"
    },
    {
     "name": "stdout",
     "output_type": "stream",
     "text": [
      "SIMPLE-WARNING: undefined variable: COMMON-LISP-USER::X\n",
      "SIMPLE-WARNING: undefined variable: COMMON-LISP-USER::X\n",
      "SIMPLE-WARNING: undefined variable: COMMON-LISP-USER::X\n"
     ]
    }
   ],
   "source": [
    "(setf x (cons 'a nil))\n",
    "\n",
    "(car x)\n",
    "(cdr x)"
   ]
  },
  {
   "cell_type": "code",
   "execution_count": 3,
   "metadata": {
    "vscode": {
     "languageId": "commonlisp"
    }
   },
   "outputs": [
    {
     "data": {
      "text/plain": [
       "(A B C)"
      ]
     },
     "execution_count": 3,
     "metadata": {},
     "output_type": "execute_result"
    },
    {
     "data": {
      "text/plain": [
       "(B C)"
      ]
     },
     "execution_count": 3,
     "metadata": {},
     "output_type": "execute_result"
    },
    {
     "name": "stdout",
     "output_type": "stream",
     "text": [
      "SIMPLE-WARNING: undefined variable: COMMON-LISP-USER::Y\n",
      "SIMPLE-WARNING: undefined variable: COMMON-LISP-USER::Y\n"
     ]
    }
   ],
   "source": [
    "(setf y (list 'a 'b 'c))\n",
    "(cdr y)"
   ]
  },
  {
   "cell_type": "code",
   "execution_count": 4,
   "metadata": {
    "vscode": {
     "languageId": "commonlisp"
    }
   },
   "outputs": [
    {
     "data": {
      "text/plain": [
       "(A (B C) D)"
      ]
     },
     "execution_count": 4,
     "metadata": {},
     "output_type": "execute_result"
    },
    {
     "data": {
      "text/plain": [
       "(B C)"
      ]
     },
     "execution_count": 4,
     "metadata": {},
     "output_type": "execute_result"
    },
    {
     "name": "stdout",
     "output_type": "stream",
     "text": [
      "SIMPLE-WARNING: undefined variable: COMMON-LISP-USER::Z\n",
      "SIMPLE-WARNING: undefined variable: COMMON-LISP-USER::Z\n"
     ]
    }
   ],
   "source": [
    "(setf z (list 'a (list 'b 'c) 'd))\n",
    "(car (cdr z))"
   ]
  },
  {
   "cell_type": "code",
   "execution_count": 5,
   "metadata": {
    "vscode": {
     "languageId": "commonlisp"
    }
   },
   "outputs": [
    {
     "data": {
      "text/plain": [
       "OUR-LISTP"
      ]
     },
     "execution_count": 5,
     "metadata": {},
     "output_type": "execute_result"
    },
    {
     "data": {
      "text/plain": [
       "OUT-ATOM"
      ]
     },
     "execution_count": 5,
     "metadata": {},
     "output_type": "execute_result"
    }
   ],
   "source": [
    "(defun our-listp (x)\n",
    "  (or (null x) (consp x)))\n",
    "\n",
    "(defun out-atom (x)\n",
    "  (not (consp x)))"
   ]
  },
  {
   "cell_type": "markdown",
   "metadata": {},
   "source": [
    "# Equality"
   ]
  },
  {
   "cell_type": "code",
   "execution_count": 7,
   "metadata": {
    "vscode": {
     "languageId": "commonlisp"
    }
   },
   "outputs": [
    {
     "data": {
      "text/plain": [
       "NIL"
      ]
     },
     "execution_count": 7,
     "metadata": {},
     "output_type": "execute_result"
    },
    {
     "data": {
      "text/plain": [
       "T"
      ]
     },
     "execution_count": 7,
     "metadata": {},
     "output_type": "execute_result"
    }
   ],
   "source": [
    "; eql: check whether same object\n",
    "(eql (cons 'a nil) (cons 'a nil))\n",
    "\n",
    "(let ((x (cons 'a nil)))\n",
    "  (eql x x))"
   ]
  },
  {
   "cell_type": "code",
   "execution_count": 8,
   "metadata": {
    "vscode": {
     "languageId": "commonlisp"
    }
   },
   "outputs": [
    {
     "data": {
      "text/plain": [
       "T"
      ]
     },
     "execution_count": 8,
     "metadata": {},
     "output_type": "execute_result"
    }
   ],
   "source": [
    "; equal: check whether print the same ???\n",
    "(let ((x (cons 'a nil)))\n",
    "  (equal x (cons 'a nil)))"
   ]
  },
  {
   "cell_type": "code",
   "execution_count": 9,
   "metadata": {
    "vscode": {
     "languageId": "commonlisp"
    }
   },
   "outputs": [
    {
     "data": {
      "text/plain": [
       "OUR-EQUAL-R"
      ]
     },
     "execution_count": 9,
     "metadata": {},
     "output_type": "execute_result"
    }
   ],
   "source": [
    "(defun our-equal-r (x y)\n",
    "  (or (eql x y)\n",
    "      (and (consp x)\n",
    "           (consp y)\n",
    "           (our-equal-r (car x) (car y))\n",
    "           (our-equal-r (cdr x) (cdr y)))))"
   ]
  },
  {
   "cell_type": "markdown",
   "metadata": {},
   "source": [
    "# Why Lisp Has No Pointers "
   ]
  },
  {
   "cell_type": "code",
   "execution_count": 11,
   "metadata": {
    "vscode": {
     "languageId": "commonlisp"
    }
   },
   "outputs": [
    {
     "data": {
      "text/plain": [
       "T"
      ]
     },
     "execution_count": 11,
     "metadata": {},
     "output_type": "execute_result"
    }
   ],
   "source": [
    "(let ((x '(a b c))\n",
    "      (y nil))\n",
    "  (setf y x)\n",
    "  (eql x y))"
   ]
  },
  {
   "cell_type": "markdown",
   "metadata": {},
   "source": [
    "# Building Lists"
   ]
  },
  {
   "cell_type": "code",
   "execution_count": 12,
   "metadata": {
    "vscode": {
     "languageId": "commonlisp"
    }
   },
   "outputs": [
    {
     "data": {
      "text/plain": [
       "(A B C)"
      ]
     },
     "execution_count": 12,
     "metadata": {},
     "output_type": "execute_result"
    }
   ],
   "source": [
    "; copy-list: return a copy of list\n",
    "(let ((x '(a b c))\n",
    "      (y nil))\n",
    "  (setf y (copy-list x)))"
   ]
  },
  {
   "cell_type": "code",
   "execution_count": 13,
   "metadata": {
    "vscode": {
     "languageId": "commonlisp"
    }
   },
   "outputs": [
    {
     "data": {
      "text/plain": [
       "OUR-COPY-LIST-R"
      ]
     },
     "execution_count": 13,
     "metadata": {},
     "output_type": "execute_result"
    }
   ],
   "source": [
    "(defun our-copy-list-r (lst)\n",
    "  (if (atom lst)\n",
    "      lst\n",
    "      (cons (car lst) (our-copy-list-r (cdr lst)))))"
   ]
  },
  {
   "cell_type": "code",
   "execution_count": 14,
   "metadata": {
    "vscode": {
     "languageId": "commonlisp"
    }
   },
   "outputs": [
    {
     "data": {
      "text/plain": [
       "(A B C D E)"
      ]
     },
     "execution_count": 14,
     "metadata": {},
     "output_type": "execute_result"
    }
   ],
   "source": [
    "; append: return the concatenation of any number of lists\n",
    "(append '(a b) '(c d) '(e))"
   ]
  },
  {
   "cell_type": "markdown",
   "metadata": {},
   "source": [
    "# Example: Compression"
   ]
  },
  {
   "cell_type": "code",
   "execution_count": null,
   "metadata": {
    "vscode": {
     "languageId": "commonlisp"
    }
   },
   "outputs": [
    {
     "data": {
      "text/plain": [
       "N-ELTS"
      ]
     },
     "execution_count": 1,
     "metadata": {},
     "output_type": "execute_result"
    },
    {
     "data": {
      "text/plain": [
       "COMPR"
      ]
     },
     "execution_count": 1,
     "metadata": {},
     "output_type": "execute_result"
    },
    {
     "data": {
      "text/plain": [
       "COMPRESS"
      ]
     },
     "execution_count": 1,
     "metadata": {},
     "output_type": "execute_result"
    },
    {
     "data": {
      "text/plain": [
       "LIST-OF"
      ]
     },
     "execution_count": 1,
     "metadata": {},
     "output_type": "execute_result"
    },
    {
     "data": {
      "text/plain": [
       "UNCOMPRESS"
      ]
     },
     "execution_count": 1,
     "metadata": {},
     "output_type": "execute_result"
    }
   ],
   "source": [
    "; run-length encoding\n",
    "\n",
    ";;; return (n elt) or elt\n",
    "(defun n-elts (elt n)\n",
    "  (if (> n 1)\n",
    "      (list n elt)\n",
    "      elt))\n",
    "\n",
    ";;; encoding when elt has occurred n times\n",
    "(defun compr (elt n lst)\n",
    "  (if (null lst)\n",
    "      (list (n-elts elt n))\n",
    "      (let ((next (car lst))) ; take next element in lst\n",
    "        (if (eql next elt)\n",
    "            (compr elt (+ n 1) (cdr lst))\n",
    "            (cons (n-elts elt n)\n",
    "                  (compr next 1 (cdr lst)))))))\n",
    "\n",
    ";;; encoding\n",
    "(defun compress (x)\n",
    "  (if (consp x)\n",
    "      (compr (car x) 1 (cdr x)) ; first occurrence\n",
    "      x))\n",
    "\n",
    "\n",
    "\n",
    ";;; return list with length n and all element elt \n",
    "(defun list-of (n elt)\n",
    "  (if (zerop n)\n",
    "      nil\n",
    "      (cons elt (list-of (- n 1) elt))))\n",
    "\n",
    ";;; decoding\n",
    "(defun uncompress (lst)\n",
    "  (if (null lst)\n",
    "      nil\n",
    "      ;; lst non-null here\n",
    "      (let ((elt (car lst))\n",
    "            (rest (uncompress (cdr lst))))\n",
    "        (if (consp elt) ; elt is cons\n",
    "            (append (apply #'list-of elt)\n",
    "              rest)\n",
    "            (cons elt rest)))))"
   ]
  },
  {
   "cell_type": "code",
   "execution_count": 8,
   "metadata": {
    "vscode": {
     "languageId": "commonlisp"
    }
   },
   "outputs": [
    {
     "data": {
      "text/plain": [
       "A"
      ]
     },
     "execution_count": 8,
     "metadata": {},
     "output_type": "execute_result"
    },
    {
     "data": {
      "text/plain": [
       "A"
      ]
     },
     "execution_count": 8,
     "metadata": {},
     "output_type": "execute_result"
    },
    {
     "data": {
      "text/plain": [
       "(2 A)"
      ]
     },
     "execution_count": 8,
     "metadata": {},
     "output_type": "execute_result"
    },
    {
     "data": {
      "text/plain": [
       "(HO HO HO)"
      ]
     },
     "execution_count": 8,
     "metadata": {},
     "output_type": "execute_result"
    }
   ],
   "source": [
    "(n-elts 'a 0)\n",
    "(n-elts 'a 1)\n",
    "(n-elts 'a 2)\n",
    "\n",
    "(list-of 3 'ho)"
   ]
  },
  {
   "cell_type": "code",
   "execution_count": 5,
   "metadata": {
    "vscode": {
     "languageId": "commonlisp"
    }
   },
   "outputs": [
    {
     "data": {
      "text/plain": [
       "T"
      ]
     },
     "execution_count": 5,
     "metadata": {},
     "output_type": "execute_result"
    },
    {
     "name": "stdout",
     "output_type": "stream",
     "text": [
      "(1 1 1 0 1 0 0 0 0 1): ((3 1) 0 1 (4 0) 1)\n"
     ]
    }
   ],
   "source": [
    "(let* ((lst '(1 1 1 0 1 0 0 0 0 1))\n",
    "  (c (compress lst)))\n",
    "  (format t \"~A: ~A~%\" lst c)\n",
    "  (equal lst (uncompress c)))\n"
   ]
  },
  {
   "cell_type": "markdown",
   "metadata": {},
   "source": [
    "# Access"
   ]
  },
  {
   "cell_type": "code",
   "execution_count": 12,
   "metadata": {
    "vscode": {
     "languageId": "commonlisp"
    }
   },
   "outputs": [
    {
     "data": {
      "text/plain": [
       "A"
      ]
     },
     "execution_count": 12,
     "metadata": {},
     "output_type": "execute_result"
    },
    {
     "data": {
      "text/plain": [
       "(C)"
      ]
     },
     "execution_count": 12,
     "metadata": {},
     "output_type": "execute_result"
    },
    {
     "data": {
      "text/plain": [
       "OUR-NTHCDR-R"
      ]
     },
     "execution_count": 12,
     "metadata": {},
     "output_type": "execute_result"
    },
    {
     "data": {
      "text/plain": [
       "(C)"
      ]
     },
     "execution_count": 12,
     "metadata": {},
     "output_type": "execute_result"
    },
    {
     "data": {
      "text/plain": [
       "(C)"
      ]
     },
     "execution_count": 12,
     "metadata": {},
     "output_type": "execute_result"
    },
    {
     "data": {
      "text/plain": [
       "A"
      ]
     },
     "execution_count": 12,
     "metadata": {},
     "output_type": "execute_result"
    },
    {
     "data": {
      "text/plain": [
       "B"
      ]
     },
     "execution_count": 12,
     "metadata": {},
     "output_type": "execute_result"
    },
    {
     "data": {
      "text/plain": [
       "NIL"
      ]
     },
     "execution_count": 12,
     "metadata": {},
     "output_type": "execute_result"
    },
    {
     "data": {
      "text/plain": [
       "T"
      ]
     },
     "execution_count": 12,
     "metadata": {},
     "output_type": "execute_result"
    },
    {
     "name": "stdout",
     "output_type": "stream",
     "text": [
      "SB-KERNEL:REDEFINITION-WITH-DEFUN: redefining COMMON-LISP-USER::OUR-NTHCDR-R in DEFUN\n"
     ]
    }
   ],
   "source": [
    "; nth element\n",
    "(nth 0 '(a b c))\n",
    "; nth cdr\n",
    "(nthcdr 2 '(a b c))\n",
    "\n",
    "(defun our-nthcdr-r (n lst)\n",
    "  (if (zerop n)\n",
    "      lst\n",
    "      (our-nthcdr-r (- n 1) (cdr lst))))\n",
    "(our-nthcdr-r 2 '(a b c))\n",
    "\n",
    "\n",
    "; last cons in list\n",
    "(last '(a b c))\n",
    "\n",
    "\n",
    "; others\n",
    "(first '(a b c))\n",
    "(second '(a b c))\n",
    "(tenth '(a b c))\n",
    "\n",
    "(let ((x '(a b c d)))\n",
    "  (eql (caddr x) (car (cdr (cdr x)))))"
   ]
  },
  {
   "cell_type": "markdown",
   "metadata": {},
   "source": [
    "# Mapping Functions"
   ]
  },
  {
   "cell_type": "code",
   "execution_count": 13,
   "metadata": {
    "vscode": {
     "languageId": "commonlisp"
    }
   },
   "outputs": [
    {
     "data": {
      "text/plain": [
       "(11 12 13)"
      ]
     },
     "execution_count": 13,
     "metadata": {},
     "output_type": "execute_result"
    },
    {
     "data": {
      "text/plain": [
       "((A 1) (B 2) (C 3))"
      ]
     },
     "execution_count": 13,
     "metadata": {},
     "output_type": "execute_result"
    }
   ],
   "source": [
    "; mapcar\n",
    "(mapcar #'(lambda (x) (+ x 10))\n",
    "        '(1 2 3))\n",
    "\n",
    "(mapcar #'list\n",
    "        '(a b c)\n",
    "        '(1 2 3 4))"
   ]
  },
  {
   "cell_type": "code",
   "execution_count": 14,
   "metadata": {
    "vscode": {
     "languageId": "commonlisp"
    }
   },
   "outputs": [
    {
     "data": {
      "text/plain": [
       "((A B C) (B C) (C))"
      ]
     },
     "execution_count": 14,
     "metadata": {},
     "output_type": "execute_result"
    }
   ],
   "source": [
    "; maplist: on successive cdrs of the lists\n",
    "(maplist #'(lambda (x) x)\n",
    "         '(a b c))"
   ]
  },
  {
   "cell_type": "code",
   "execution_count": 15,
   "metadata": {
    "vscode": {
     "languageId": "commonlisp"
    }
   },
   "outputs": [],
   "source": [
    "; others\n",
    "; mapc: P.88\n",
    "; mapcan: P.202"
   ]
  },
  {
   "cell_type": "markdown",
   "metadata": {},
   "source": [
    "# Trees"
   ]
  },
  {
   "cell_type": "code",
   "execution_count": 16,
   "metadata": {
    "vscode": {
     "languageId": "commonlisp"
    }
   },
   "outputs": [
    {
     "data": {
      "text/plain": [
       "OUR-COPY-TREE-R"
      ]
     },
     "execution_count": 16,
     "metadata": {},
     "output_type": "execute_result"
    },
    {
     "data": {
      "text/plain": [
       "T"
      ]
     },
     "execution_count": 16,
     "metadata": {},
     "output_type": "execute_result"
    }
   ],
   "source": [
    "(defun our-copy-tree-r (tr)\n",
    "  (if (atom tr)\n",
    "      tr\n",
    "      (cons (our-copy-tree-r (car tr))\n",
    "            (our-copy-tree-r (cdr tr)))))\n",
    "\n",
    "(let ((tr '(a '(b c) d)))\n",
    "  (equal (copy-tree tr) (our-copy-tree-r tr)))"
   ]
  },
  {
   "cell_type": "code",
   "execution_count": 18,
   "metadata": {
    "vscode": {
     "languageId": "commonlisp"
    }
   },
   "outputs": [
    {
     "data": {
      "text/plain": [
       "(AND (INTEGERP X) (ZEROP (MOD X 2)))"
      ]
     },
     "execution_count": 18,
     "metadata": {},
     "output_type": "execute_result"
    },
    {
     "data": {
      "text/plain": [
       "(AND (INTEGERP Y) (ZEROP (MOD Y 2)))"
      ]
     },
     "execution_count": 18,
     "metadata": {},
     "output_type": "execute_result"
    }
   ],
   "source": [
    "; substitute: replace element in a sequence\n",
    "(let ((lst '(and (integerp x) (zerop (mod x 2)))))\n",
    "  (substitute 'y 'x lst))\n",
    "\n",
    "; subst: replace elements in a tree\n",
    "(let ((lst '(and (integerp x) (zerop (mod x 2)))))\n",
    "  (subst 'y 'x lst))"
   ]
  },
  {
   "cell_type": "code",
   "execution_count": null,
   "metadata": {
    "vscode": {
     "languageId": "commonlisp"
    }
   },
   "outputs": [
    {
     "data": {
      "text/plain": [
       "OUR-SUBST-R"
      ]
     },
     "execution_count": 19,
     "metadata": {},
     "output_type": "execute_result"
    },
    {
     "data": {
      "text/plain": [
       "(AND (INTEGERP Y) (ZEROP (MOD Y 2)))"
      ]
     },
     "execution_count": 19,
     "metadata": {},
     "output_type": "execute_result"
    }
   ],
   "source": [
    "(defun our-subst-r (new old tree)\n",
    "  (if (eql tree old); atom case\n",
    "      new\n",
    "      (if (atom tree)\n",
    "          tree\n",
    "          (cons (our-subst-r new old (car tree))\n",
    "                (our-subst-r new old (cdr tree))))))\n",
    "\n",
    "(let ((lst '(and (integerp x) (zerop (mod x 2)))))\n",
    "  (our-subst-r 'y 'x lst))"
   ]
  },
  {
   "cell_type": "markdown",
   "metadata": {},
   "source": [
    "# Understanding Recursion"
   ]
  },
  {
   "cell_type": "code",
   "execution_count": 22,
   "metadata": {
    "vscode": {
     "languageId": "commonlisp"
    }
   },
   "outputs": [
    {
     "data": {
      "text/plain": [
       "LEN"
      ]
     },
     "execution_count": 22,
     "metadata": {},
     "output_type": "execute_result"
    },
    {
     "data": {
      "text/plain": [
       "(LEN)"
      ]
     },
     "execution_count": 22,
     "metadata": {},
     "output_type": "execute_result"
    },
    {
     "name": "stdout",
     "output_type": "stream",
     "text": [
      "SB-KERNEL:REDEFINITION-WITH-DEFUN: redefining COMMON-LISP-USER::LEN in DEFUN\n",
      "SIMPLE-WARNING: LEN is already TRACE'd, untracing it first.\n",
      "  0: (LEN (A B C D))\n",
      "    1: (LEN (B C D))\n",
      "      2: (LEN (C D))\n",
      "        3: (LEN (D))\n",
      "          4: (LEN NIL)\n",
      "          4: LEN returned 0\n",
      "        3: LEN returned 1\n",
      "      2: LEN returned 2\n",
      "    1: LEN returned 3\n",
      "  0: LEN returned 4\n"
     ]
    },
    {
     "data": {
      "text/plain": [
       "4"
      ]
     },
     "execution_count": 22,
     "metadata": {},
     "output_type": "execute_result"
    },
    {
     "data": {
      "text/plain": [
       "T"
      ]
     },
     "execution_count": 22,
     "metadata": {},
     "output_type": "execute_result"
    }
   ],
   "source": [
    "(defun len (lst)\n",
    "  (if (null lst)\n",
    "      0\n",
    "      (+ (len (cdr lst)) 1)))\n",
    "\n",
    "(trace len)\n",
    "(len '(a b c d))\n",
    "(untrace len)"
   ]
  },
  {
   "cell_type": "markdown",
   "metadata": {},
   "source": [
    "# Sets"
   ]
  },
  {
   "cell_type": "code",
   "execution_count": 27,
   "metadata": {
    "vscode": {
     "languageId": "commonlisp"
    }
   },
   "outputs": [
    {
     "data": {
      "text/plain": [
       "(B C)"
      ]
     },
     "execution_count": 27,
     "metadata": {},
     "output_type": "execute_result"
    },
    {
     "data": {
      "text/plain": [
       "NIL"
      ]
     },
     "execution_count": 27,
     "metadata": {},
     "output_type": "execute_result"
    },
    {
     "data": {
      "text/plain": [
       "((A) (Z))"
      ]
     },
     "execution_count": 27,
     "metadata": {},
     "output_type": "execute_result"
    },
    {
     "data": {
      "text/plain": [
       "((A B) (C D))"
      ]
     },
     "execution_count": 27,
     "metadata": {},
     "output_type": "execute_result"
    },
    {
     "data": {
      "text/plain": [
       "((2))"
      ]
     },
     "execution_count": 27,
     "metadata": {},
     "output_type": "execute_result"
    }
   ],
   "source": [
    "; member: return the part of the list beginning with lookup object\n",
    "(member 'b '(a b c))\n",
    "; :test\n",
    "(member '(a) '((a) (z))) ; defualt test with eql\n",
    "(member '(a) '((a) (z)) :test #'equal)\n",
    "; :key\n",
    "(member 'a '((a b) (c d)) :key #'car)\n",
    "\n",
    "(member 2 '((1) (2)) :key #'car :test #'equal)"
   ]
  },
  {
   "cell_type": "code",
   "execution_count": 28,
   "metadata": {
    "vscode": {
     "languageId": "commonlisp"
    }
   },
   "outputs": [
    {
     "data": {
      "text/plain": [
       "(3 4)"
      ]
     },
     "execution_count": 28,
     "metadata": {},
     "output_type": "execute_result"
    },
    {
     "data": {
      "text/plain": [
       "OUR-MEMBER-IF-R"
      ]
     },
     "execution_count": 28,
     "metadata": {},
     "output_type": "execute_result"
    },
    {
     "data": {
      "text/plain": [
       "(3 4)"
      ]
     },
     "execution_count": 28,
     "metadata": {},
     "output_type": "execute_result"
    }
   ],
   "source": [
    "(member-if #'oddp '(2 3 4))\n",
    "\n",
    "(defun our-member-if-r (fn lst)\n",
    "  (and (consp lst)\n",
    "       (if (funcall fn (car lst))\n",
    "           lst\n",
    "           (our-member-if-r fn (cdr lst)))))\n",
    "(our-member-if-r #'oddp '(2 3 4))"
   ]
  },
  {
   "cell_type": "code",
   "execution_count": 29,
   "metadata": {
    "vscode": {
     "languageId": "commonlisp"
    }
   },
   "outputs": [
    {
     "data": {
      "text/plain": [
       "(A B C)"
      ]
     },
     "execution_count": 29,
     "metadata": {},
     "output_type": "execute_result"
    },
    {
     "data": {
      "text/plain": [
       "(Z A B C)"
      ]
     },
     "execution_count": 29,
     "metadata": {},
     "output_type": "execute_result"
    }
   ],
   "source": [
    "; adjoin: cons the object onto the list only if it is not a meber\n",
    "(adjoin 'b '(a b c))\n",
    "(adjoin 'z '(a b c))"
   ]
  },
  {
   "cell_type": "code",
   "execution_count": 30,
   "metadata": {
    "vscode": {
     "languageId": "commonlisp"
    }
   },
   "outputs": [
    {
     "data": {
      "text/plain": [
       "(A C B S)"
      ]
     },
     "execution_count": 30,
     "metadata": {},
     "output_type": "execute_result"
    },
    {
     "data": {
      "text/plain": [
       "(C B)"
      ]
     },
     "execution_count": 30,
     "metadata": {},
     "output_type": "execute_result"
    },
    {
     "data": {
      "text/plain": [
       "(D C A)"
      ]
     },
     "execution_count": 30,
     "metadata": {},
     "output_type": "execute_result"
    }
   ],
   "source": [
    "; set operation: union, intersection, difference\n",
    "(union '(a b c) '(c b s))\n",
    "(intersection '(a b c) '(b b c))\n",
    "(set-difference '(a b c d e) '(b e))"
   ]
  },
  {
   "cell_type": "markdown",
   "metadata": {},
   "source": [
    "# Sequences\n",
    "- lists\n",
    "- vectors"
   ]
  },
  {
   "cell_type": "code",
   "execution_count": 32,
   "metadata": {
    "vscode": {
     "languageId": "commonlisp"
    }
   },
   "outputs": [
    {
     "data": {
      "text/plain": [
       "3"
      ]
     },
     "execution_count": 32,
     "metadata": {},
     "output_type": "execute_result"
    },
    {
     "data": {
      "text/plain": [
       "(B)"
      ]
     },
     "execution_count": 32,
     "metadata": {},
     "output_type": "execute_result"
    },
    {
     "data": {
      "text/plain": [
       "(B C D)"
      ]
     },
     "execution_count": 32,
     "metadata": {},
     "output_type": "execute_result"
    },
    {
     "data": {
      "text/plain": [
       "(C B A)"
      ]
     },
     "execution_count": 32,
     "metadata": {},
     "output_type": "execute_result"
    }
   ],
   "source": [
    "(length '(a b c))\n",
    "\n",
    "(subseq '(a b c d) 1 2)\n",
    "(subseq '(a b c d) 1)\n",
    "\n",
    "(reverse '(a b c))"
   ]
  },
  {
   "cell_type": "code",
   "execution_count": 49,
   "metadata": {
    "vscode": {
     "languageId": "commonlisp"
    }
   },
   "outputs": [
    {
     "data": {
      "text/plain": [
       "MIRROR?"
      ]
     },
     "execution_count": 49,
     "metadata": {},
     "output_type": "execute_result"
    },
    {
     "name": "stdout",
     "output_type": "stream",
     "text": [
      "SB-KERNEL:REDEFINITION-WITH-DEFUN: redefining COMMON-LISP-USER::MIRROR? in DEFUN\n",
      "  0: (MIRROR? (A B A))\n",
      "  0: MIRROR? returned T\n"
     ]
    },
    {
     "data": {
      "text/plain": [
       "T"
      ]
     },
     "execution_count": 49,
     "metadata": {},
     "output_type": "execute_result"
    }
   ],
   "source": [
    "(defun mirror? (s)\n",
    "  (let ((len (length s)))\n",
    "    ; (format t \"~A ~A ~A~%\" len (oddp len) (evenp len))\n",
    "    (or\n",
    "     (and (oddp len)\n",
    "          (let ((mid (ceiling len 2)))\n",
    "            ; (format t \"~A ~A~%\" (subseq s 0 (- mid 1)) (subseq s mid))\n",
    "            (equal (subseq s 0 (- mid 1))\n",
    "                   (subseq s mid))))\n",
    "     (and (evenp len)\n",
    "          (let ((mid (/ len 2)))\n",
    "            (equal (subseq s 0 mid)\n",
    "                   (reverse (subseq s mid))))))))\n",
    "\n",
    "; (mirror? '(a b b a))\n",
    "(mirror? '(a b a))"
   ]
  },
  {
   "cell_type": "code",
   "execution_count": 44,
   "metadata": {
    "vscode": {
     "languageId": "commonlisp"
    }
   },
   "outputs": [
    {
     "data": {
      "text/plain": [
       "2"
      ]
     },
     "execution_count": 44,
     "metadata": {},
     "output_type": "execute_result"
    },
    {
     "data": {
      "text/plain": [
       "-1"
      ]
     },
     "execution_count": 44,
     "metadata": {},
     "output_type": "execute_result"
    }
   ],
   "source": [
    "(ceiling 3 2)"
   ]
  },
  {
   "cell_type": "code",
   "execution_count": 51,
   "metadata": {
    "vscode": {
     "languageId": "commonlisp"
    }
   },
   "outputs": [
    {
     "data": {
      "text/plain": [
       "(8 3 2 1 0)"
      ]
     },
     "execution_count": 51,
     "metadata": {},
     "output_type": "execute_result"
    },
    {
     "data": {
      "text/plain": [
       "NTHMOST"
      ]
     },
     "execution_count": 51,
     "metadata": {},
     "output_type": "execute_result"
    },
    {
     "data": {
      "text/plain": [
       "3"
      ]
     },
     "execution_count": 51,
     "metadata": {},
     "output_type": "execute_result"
    },
    {
     "name": "stdout",
     "output_type": "stream",
     "text": [
      "SB-INT:CONSTANT-MODIFIED: Destructive function SORT called on constant data: (0 2 1 3 8)\n",
      "See also:\n",
      "  The ANSI Standard, Special Operator QUOTE\n",
      "  The ANSI Standard, Section 3.7.1\n"
     ]
    }
   ],
   "source": [
    "; sort: destructive\n",
    "(sort '(0 2 1 3 8) #'>)\n",
    "\n",
    "(defun nthmost (n lst)\n",
    "  (nth (- n 1)\n",
    "       (sort (copy-list lst) #'>)))\n",
    "(nthmost 2 '(0 2 1 3 8))"
   ]
  },
  {
   "cell_type": "code",
   "execution_count": 52,
   "metadata": {
    "vscode": {
     "languageId": "commonlisp"
    }
   },
   "outputs": [
    {
     "data": {
      "text/plain": [
       "T"
      ]
     },
     "execution_count": 52,
     "metadata": {},
     "output_type": "execute_result"
    },
    {
     "data": {
      "text/plain": [
       "T"
      ]
     },
     "execution_count": 52,
     "metadata": {},
     "output_type": "execute_result"
    },
    {
     "data": {
      "text/plain": [
       "T"
      ]
     },
     "execution_count": 52,
     "metadata": {},
     "output_type": "execute_result"
    }
   ],
   "source": [
    "; every\n",
    "(every #'oddp '(1 3 5))\n",
    "(every #'> '(1 3 5) '(0 2 4))\n",
    "; some\n",
    "(some #'evenp '(1 2 3))"
   ]
  },
  {
   "cell_type": "markdown",
   "metadata": {},
   "source": [
    "# Stacks"
   ]
  },
  {
   "cell_type": "code",
   "execution_count": 54,
   "metadata": {
    "vscode": {
     "languageId": "commonlisp"
    }
   },
   "outputs": [
    {
     "data": {
      "text/plain": [
       "NIL"
      ]
     },
     "execution_count": 54,
     "metadata": {},
     "output_type": "execute_result"
    },
    {
     "name": "stdout",
     "output_type": "stream",
     "text": [
      "x=(A B)\n",
      "x=(B) y=(A B)\n"
     ]
    }
   ],
   "source": [
    "; push, pop\n",
    "(let ((x '(b))\n",
    "      (y nil))\n",
    "  (push 'a x)\n",
    "  (format t \"x=~A~%\" x)\n",
    "  (setf y x)\n",
    "  (pop x)\n",
    "  (format t \"x=~A y=~A~%\" x y))"
   ]
  },
  {
   "cell_type": "code",
   "execution_count": 55,
   "metadata": {
    "vscode": {
     "languageId": "commonlisp"
    }
   },
   "outputs": [
    {
     "data": {
      "text/plain": [
       "OUR-REVERSE"
      ]
     },
     "execution_count": 55,
     "metadata": {},
     "output_type": "execute_result"
    },
    {
     "data": {
      "text/plain": [
       "T"
      ]
     },
     "execution_count": 55,
     "metadata": {},
     "output_type": "execute_result"
    }
   ],
   "source": [
    "(defun our-reverse (lst)\n",
    "  (let ((acc nil))\n",
    "    (dolist (elt lst)\n",
    "      (push elt acc))\n",
    "    acc))\n",
    "\n",
    "(let ((l '(a b c)))\n",
    "  (equal (reverse l) (our-reverse l)))"
   ]
  },
  {
   "cell_type": "code",
   "execution_count": 56,
   "metadata": {
    "vscode": {
     "languageId": "commonlisp"
    }
   },
   "outputs": [
    {
     "data": {
      "text/plain": [
       "(C A B)"
      ]
     },
     "execution_count": 56,
     "metadata": {},
     "output_type": "execute_result"
    }
   ],
   "source": [
    "; pushnew: macro, variant of push use adjoin instead of cons\n",
    "(let ((x '(a b)))\n",
    "  (pushnew 'c x)\n",
    "  (pushnew 'a x)\n",
    "  x)"
   ]
  },
  {
   "cell_type": "markdown",
   "metadata": {},
   "source": [
    "# Dotted Lists"
   ]
  },
  {
   "cell_type": "code",
   "execution_count": 57,
   "metadata": {
    "vscode": {
     "languageId": "commonlisp"
    }
   },
   "outputs": [
    {
     "data": {
      "text/plain": [
       "PROPER-LIST?"
      ]
     },
     "execution_count": 57,
     "metadata": {},
     "output_type": "execute_result"
    },
    {
     "data": {
      "text/plain": [
       "(A . B)"
      ]
     },
     "execution_count": 57,
     "metadata": {},
     "output_type": "execute_result"
    },
    {
     "data": {
      "text/plain": [
       "(A B)"
      ]
     },
     "execution_count": 57,
     "metadata": {},
     "output_type": "execute_result"
    },
    {
     "data": {
      "text/plain": [
       "NIL"
      ]
     },
     "execution_count": 57,
     "metadata": {},
     "output_type": "execute_result"
    },
    {
     "data": {
      "text/plain": [
       "T"
      ]
     },
     "execution_count": 57,
     "metadata": {},
     "output_type": "execute_result"
    }
   ],
   "source": [
    "; property list: either nil, or a cons whose cdr is a proper list\n",
    "(defun proper-list? (x)\n",
    "  (or (null x)\n",
    "      (and (consp x)\n",
    "           (proper-list? (cdr x)))))\n",
    "\n",
    "; dotted list: a cons that is NOT a proper list\n",
    "(cons 'a 'b)\n",
    "'(a b)\n",
    "(proper-list? (cons 'a 'b))\n",
    "(proper-list? '(a b))"
   ]
  },
  {
   "cell_type": "code",
   "execution_count": 58,
   "metadata": {
    "vscode": {
     "languageId": "commonlisp"
    }
   },
   "outputs": [
    {
     "data": {
      "text/plain": [
       "(A B C)"
      ]
     },
     "execution_count": 58,
     "metadata": {},
     "output_type": "execute_result"
    },
    {
     "data": {
      "text/plain": [
       "(A B C . D)"
      ]
     },
     "execution_count": 58,
     "metadata": {},
     "output_type": "execute_result"
    }
   ],
   "source": [
    "'(a . (b . (c . nil)))\n",
    "(cons 'a (cons 'b (cons 'c 'd)))"
   ]
  },
  {
   "cell_type": "code",
   "execution_count": 59,
   "metadata": {
    "vscode": {
     "languageId": "commonlisp"
    }
   },
   "outputs": [
    {
     "data": {
      "text/plain": [
       "(A B)"
      ]
     },
     "execution_count": 59,
     "metadata": {},
     "output_type": "execute_result"
    },
    {
     "data": {
      "text/plain": [
       "(A B)"
      ]
     },
     "execution_count": 59,
     "metadata": {},
     "output_type": "execute_result"
    },
    {
     "data": {
      "text/plain": [
       "(A B)"
      ]
     },
     "execution_count": 59,
     "metadata": {},
     "output_type": "execute_result"
    },
    {
     "data": {
      "text/plain": [
       "(A B)"
      ]
     },
     "execution_count": 59,
     "metadata": {},
     "output_type": "execute_result"
    }
   ],
   "source": [
    "; denote list\n",
    "'(a . (b . nil))\n",
    "'(a . (b))\n",
    "'(a b . nil)\n",
    "'(a b)"
   ]
  },
  {
   "cell_type": "markdown",
   "metadata": {},
   "source": [
    "# Assoc-lists"
   ]
  },
  {
   "cell_type": "code",
   "execution_count": 60,
   "metadata": {
    "vscode": {
     "languageId": "commonlisp"
    }
   },
   "outputs": [
    {
     "data": {
      "text/plain": [
       "((+ . \"add\") (- . \"subtract\"))"
      ]
     },
     "execution_count": 60,
     "metadata": {},
     "output_type": "execute_result"
    },
    {
     "data": {
      "text/plain": [
       "(+ . \"add\")"
      ]
     },
     "execution_count": 60,
     "metadata": {},
     "output_type": "execute_result"
    },
    {
     "data": {
      "text/plain": [
       "NIL"
      ]
     },
     "execution_count": 60,
     "metadata": {},
     "output_type": "execute_result"
    },
    {
     "name": "stdout",
     "output_type": "stream",
     "text": [
      "SIMPLE-WARNING: undefined variable: COMMON-LISP-USER::TRANS\n",
      "SIMPLE-WARNING: undefined variable: COMMON-LISP-USER::TRANS\n",
      "SIMPLE-WARNING: undefined variable: COMMON-LISP-USER::TRANS\n"
     ]
    }
   ],
   "source": [
    "; assoc-list, alist: a list of conses\n",
    "(setf trans '((+ . \"add\") (- . \"subtract\")))\n",
    "(assoc '+ trans)\n",
    "(assoc '* trans)"
   ]
  },
  {
   "cell_type": "code",
   "execution_count": null,
   "metadata": {
    "vscode": {
     "languageId": "commonlisp"
    }
   },
   "outputs": [
    {
     "data": {
      "text/plain": [
       "OUR-ASSOC-R"
      ]
     },
     "execution_count": 62,
     "metadata": {},
     "output_type": "execute_result"
    },
    {
     "data": {
      "text/plain": [
       "T"
      ]
     },
     "execution_count": 62,
     "metadata": {},
     "output_type": "execute_result"
    },
    {
     "name": "stdout",
     "output_type": "stream",
     "text": [
      "SB-KERNEL:REDEFINITION-WITH-DEFUN: redefining COMMON-LISP-USER::OUR-ASSOC-R in DEFUN\n"
     ]
    }
   ],
   "source": [
    "(defun our-assoc-r (key alist)\n",
    "  (and (consp alist)\n",
    "       (let ((pair (car alist)))\n",
    "         (if (eql key (car pair))\n",
    "             pair\n",
    "             (our-assoc-r key (cdr alist))))))\n",
    "\n",
    "(let ((trans '((+ . \"add\") (- . \"subtract\"))))\n",
    "  (every #'equal (list (assoc '+ trans) (assoc '* trans))\n",
    "    (list (our-assoc-r '+ trans) (our-assoc-r '* trans))))"
   ]
  },
  {
   "cell_type": "markdown",
   "metadata": {},
   "source": [
    "# Example: Shortest Path"
   ]
  },
  {
   "cell_type": "code",
   "execution_count": null,
   "metadata": {
    "vscode": {
     "languageId": "commonlisp"
    }
   },
   "outputs": [
    {
     "data": {
      "text/plain": [
       "SHORTESET-PATH"
      ]
     },
     "execution_count": 82,
     "metadata": {},
     "output_type": "execute_result"
    },
    {
     "data": {
      "text/plain": [
       "BFS"
      ]
     },
     "execution_count": 82,
     "metadata": {},
     "output_type": "execute_result"
    },
    {
     "data": {
      "text/plain": [
       "NEW-PATHS"
      ]
     },
     "execution_count": 82,
     "metadata": {},
     "output_type": "execute_result"
    },
    {
     "name": "stdout",
     "output_type": "stream",
     "text": [
      "SB-KERNEL:REDEFINITION-WITH-DEFUN: redefining COMMON-LISP-USER::SHORTESET-PATH in DEFUN\n",
      "SB-KERNEL:REDEFINITION-WITH-DEFUN: redefining COMMON-LISP-USER::BFS in DEFUN\n",
      "SB-KERNEL:REDEFINITION-WITH-DEFUN: redefining COMMON-LISP-USER::NEW-PATHS in DEFUN\n"
     ]
    }
   ],
   "source": [
    "(defun shorteset-path (start end net)\n",
    "  (bfs end (list (list start)) net)) ; queue: ((start))\n",
    "\n",
    "(defun bfs (end queue net)\n",
    "  (format t \"Queue: ~A~%\" queue)\n",
    "  (if (null queue)\n",
    "      nil\n",
    "      (let ((path (car queue))) ; first path in queue\n",
    "        (let ((node (car path))) ; first node in path\n",
    "          (if (eql node end)\n",
    "              (progn \n",
    "                ; (format t \"Found ~A in ~A~%\" node path)\n",
    "                (reverse path))\n",
    "              (bfs end\n",
    "                   ;; remove this path, append paths reachable from node\n",
    "                   (append (cdr queue) (new-paths path node net))\n",
    "                   net))))))\n",
    "\n",
    "\n",
    "(defun new-paths (path node net)\n",
    "  (format t \"  Path: ~A, node: ~A~%\" path node)\n",
    "  (mapcar #'(lambda (n) (cons n path)) ;; prepend n to path\n",
    "    ;; node's neighbors\n",
    "    (cdr (assoc node net))))\n"
   ]
  },
  {
   "cell_type": "code",
   "execution_count": 68,
   "metadata": {
    "vscode": {
     "languageId": "commonlisp"
    }
   },
   "outputs": [
    {
     "data": {
      "text/plain": [
       "((B) (C))"
      ]
     },
     "execution_count": 68,
     "metadata": {},
     "output_type": "execute_result"
    },
    {
     "name": "stdout",
     "output_type": "stream",
     "text": [
      "  Path: NIL, node: A\n"
     ]
    }
   ],
   "source": [
    "(let ((min-net '((a b c) (b c) (c d))))\n",
    "  (new-paths '() 'a min-net))"
   ]
  },
  {
   "cell_type": "code",
   "execution_count": 81,
   "metadata": {
    "vscode": {
     "languageId": "commonlisp"
    }
   },
   "outputs": [
    {
     "data": {
      "text/plain": [
       "(BFS)"
      ]
     },
     "execution_count": 81,
     "metadata": {},
     "output_type": "execute_result"
    },
    {
     "name": "stdout",
     "output_type": "stream",
     "text": [
      "  0: (BFS D ((A)) ((A B C) (B C) (C D)))\n",
      "Queue: ((A))\n",
      "  Path: (A), node: A\n",
      "    1: (BFS D ((B A) (C A)) ((A B C) (B C) (C D)))\n",
      "Queue: ((B A) (C A))\n",
      "  Path: (B A), node: B\n",
      "      2: (BFS D ((C A) (C B A)) ((A B C) (B C) (C D)))\n",
      "Queue: ((C A) (C B A))\n",
      "  Path: (C A), node: C\n",
      "        3: (BFS D ((C B A) (D C A)) ((A B C) (B C) (C D)))\n",
      "Queue: ((C B A) (D C A))\n",
      "  Path: (C B A), node: C\n",
      "          4: (BFS D ((D C A) (D C B A)) ((A B C) (B C) (C D)))\n",
      "Queue: ((D C A) (D C B A))\n",
      "          4: BFS returned (A C D)\n",
      "        3: BFS returned (A C D)\n",
      "      2: BFS returned (A C D)\n",
      "    1: BFS returned (A C D)\n",
      "  0: BFS returned (A C D)\n"
     ]
    },
    {
     "data": {
      "text/plain": [
       "(A C D)"
      ]
     },
     "execution_count": 81,
     "metadata": {},
     "output_type": "execute_result"
    },
    {
     "data": {
      "text/plain": [
       "T"
      ]
     },
     "execution_count": 81,
     "metadata": {},
     "output_type": "execute_result"
    }
   ],
   "source": [
    "(trace bfs)\n",
    "\n",
    "; a -> b, a -> c\n",
    "; b -> c\n",
    "; c -> d\n",
    "(let ((min-net '((a b c) (b c) (c d))))\n",
    "  (shorteset-path 'a 'd min-net))\n",
    "\n",
    "(untrace bfs)"
   ]
  },
  {
   "cell_type": "code",
   "execution_count": 84,
   "metadata": {
    "vscode": {
     "languageId": "commonlisp"
    }
   },
   "outputs": [],
   "source": [
    ";\n",
    "; analysis\n",
    ";\n",
    "; ((A)); a: a->b, a->c\n",
    "; ((B A) (C A)) ; b: b->c\n",
    "; ((C A) (C B A)) ; c: c -> d\n",
    "; ((C B A) (D C A)); c: c -> d\n",
    "; ((D C A) (D C B A)); d"
   ]
  },
  {
   "cell_type": "markdown",
   "metadata": {},
   "source": [
    "# Garbage"
   ]
  },
  {
   "cell_type": "code",
   "execution_count": 85,
   "metadata": {
    "vscode": {
     "languageId": "commonlisp"
    }
   },
   "outputs": [
    {
     "data": {
      "text/plain": [
       "(A B C)"
      ]
     },
     "execution_count": 85,
     "metadata": {},
     "output_type": "execute_result"
    },
    {
     "data": {
      "text/plain": [
       "NIL"
      ]
     },
     "execution_count": 85,
     "metadata": {},
     "output_type": "execute_result"
    },
    {
     "name": "stdout",
     "output_type": "stream",
     "text": [
      "SIMPLE-WARNING: undefined variable: COMMON-LISP-USER::LST\n",
      "SIMPLE-WARNING: undefined variable: COMMON-LISP-USER::LST\n"
     ]
    }
   ],
   "source": [
    "; where does garbage come from?\n",
    "(setf lst (list 'a 'b 'c))\n",
    "(setf lst nil)"
   ]
  }
 ],
 "metadata": {
  "kernelspec": {
   "display_name": "Common Lisp",
   "language": "common-lisp",
   "name": "common-lisp"
  },
  "language_info": {
   "codemirror_mode": "text/x-common-lisp",
   "file_extension": ".lisp",
   "mimetype": "text/x-common-lisp",
   "name": "common-lisp",
   "pygments_lexer": "common-lisp",
   "version": "2.4.8"
  }
 },
 "nbformat": 4,
 "nbformat_minor": 2
}
