{
 "cells": [
  {
   "cell_type": "markdown",
   "metadata": {},
   "source": [
    "# Eval"
   ]
  },
  {
   "cell_type": "code",
   "execution_count": 1,
   "metadata": {
    "vscode": {
     "languageId": "commonlisp"
    }
   },
   "outputs": [
    {
     "data": {
      "text/plain": [
       "6"
      ]
     },
     "execution_count": 1,
     "metadata": {},
     "output_type": "execute_result"
    },
    {
     "data": {
      "text/plain": [
       "NIL"
      ]
     },
     "execution_count": 1,
     "metadata": {},
     "output_type": "execute_result"
    },
    {
     "name": "stdout",
     "output_type": "stream",
     "text": [
      "Hello"
     ]
    }
   ],
   "source": [
    "; eval\n",
    "(eval '(+ 1 2 3))\n",
    "(eval '(format t \"Hello\"))"
   ]
  },
  {
   "cell_type": "code",
   "execution_count": 1,
   "metadata": {
    "vscode": {
     "languageId": "commonlisp"
    }
   },
   "outputs": [
    {
     "data": {
      "text/plain": [
       "OUR-TOPLEVEL"
      ]
     },
     "execution_count": 1,
     "metadata": {},
     "output_type": "execute_result"
    },
    {
     "name": "stdout",
     "output_type": "stream",
     "text": [
      "\n",
      "> 1\n",
      "1 \n",
      "> (+ 1 2)\n",
      "3 \n",
      "> "
     ]
    },
    {
     "ename": "interrupt",
     "evalue": "Execution interrupted",
     "output_type": "error",
     "traceback": []
    },
    {
     "name": "stdout",
     "output_type": "stream",
     "text": [
      "(EXIT)"
     ]
    }
   ],
   "source": [
    "(defun our-toplevel ()\n",
    "  (do ()\n",
    "      (nil)\n",
    "    (format t \"~%> \")\n",
    "    (let ((in (read)))\n",
    "      (format t \"~A\" in)\n",
    "      (print (eval in)))))\n",
    "\n",
    "(our-toplevel)"
   ]
  },
  {
   "cell_type": "code",
   "execution_count": 8,
   "metadata": {
    "vscode": {
     "languageId": "commonlisp"
    }
   },
   "outputs": [
    {
     "data": {
      "text/plain": [
       "#<FUNCTION MAX>"
      ]
     },
     "execution_count": 8,
     "metadata": {},
     "output_type": "execute_result"
    }
   ],
   "source": [
    "#'max"
   ]
  },
  {
   "cell_type": "code",
   "execution_count": 16,
   "metadata": {
    "vscode": {
     "languageId": "commonlisp"
    }
   },
   "outputs": [
    {
     "data": {
      "text/plain": [
       "#<FUNCTION (LAMBDA (X)\n",
       "             :IN\n",
       "             \"C:/Users/zhouj/AppData/Local/Temp/0E450363026B4963FA0A56C071B7F2FD-400920317.lisp\") {10010272AB}>"
      ]
     },
     "execution_count": 16,
     "metadata": {},
     "output_type": "execute_result"
    },
    {
     "data": {
      "text/plain": [
       "10"
      ]
     },
     "execution_count": 16,
     "metadata": {},
     "output_type": "execute_result"
    }
   ],
   "source": [
    "; coerce\n",
    "(coerce '(lambda (x) x) 'function)\n",
    "; ((coerce '(lambda (x) x) 'function) 10)\n",
    "(let ((f (coerce '(lambda (x) x) 'function)))\n",
    "  (apply f '(10))\n",
    "  (funcall f 10))"
   ]
  },
  {
   "cell_type": "code",
   "execution_count": 17,
   "metadata": {
    "vscode": {
     "languageId": "commonlisp"
    }
   },
   "outputs": [
    {
     "data": {
      "text/plain": [
       "#<FUNCTION (LAMBDA (X)\n",
       "             :IN\n",
       "             \"C:/Users/zhouj/AppData/Local/Temp/0E450363026B4963FA0A56C071B7F2FD-3493497194.lisp\") {10010264AB}>"
      ]
     },
     "execution_count": 17,
     "metadata": {},
     "output_type": "execute_result"
    },
    {
     "data": {
      "text/plain": [
       "NIL"
      ]
     },
     "execution_count": 17,
     "metadata": {},
     "output_type": "execute_result"
    },
    {
     "data": {
      "text/plain": [
       "NIL"
      ]
     },
     "execution_count": 17,
     "metadata": {},
     "output_type": "execute_result"
    },
    {
     "data": {
      "text/plain": [
       "12"
      ]
     },
     "execution_count": 17,
     "metadata": {},
     "output_type": "execute_result"
    }
   ],
   "source": [
    "; compile\n",
    "(compile nil '(lambda (x) (+ x 2)))\n",
    "(let ((f (compile nil '(lambda (x) (+ x 2)))))\n",
    "  (apply f '(10))\n",
    "  (funcall f 10))"
   ]
  },
  {
   "cell_type": "markdown",
   "metadata": {},
   "source": [
    "# Macros"
   ]
  },
  {
   "cell_type": "code",
   "execution_count": 18,
   "metadata": {
    "vscode": {
     "languageId": "commonlisp"
    }
   },
   "outputs": [
    {
     "data": {
      "text/plain": [
       "NIL!"
      ]
     },
     "execution_count": 18,
     "metadata": {},
     "output_type": "execute_result"
    },
    {
     "data": {
      "text/plain": [
       "NIL"
      ]
     },
     "execution_count": 18,
     "metadata": {},
     "output_type": "execute_result"
    },
    {
     "data": {
      "text/plain": [
       "NIL"
      ]
     },
     "execution_count": 18,
     "metadata": {},
     "output_type": "execute_result"
    },
    {
     "name": "stdout",
     "output_type": "stream",
     "text": [
      "SIMPLE-WARNING: undefined variable: COMMON-LISP-USER::X\n",
      "SIMPLE-WARNING: undefined variable: COMMON-LISP-USER::X\n"
     ]
    }
   ],
   "source": [
    "(defmacro nil! (x)\n",
    "  (list 'setf x nil))\n",
    "\n",
    "(nil! x)\n",
    "x"
   ]
  },
  {
   "cell_type": "code",
   "execution_count": 20,
   "metadata": {
    "vscode": {
     "languageId": "commonlisp"
    }
   },
   "outputs": [
    {
     "data": {
      "text/plain": [
       "(SETF X NIL)"
      ]
     },
     "execution_count": 20,
     "metadata": {},
     "output_type": "execute_result"
    },
    {
     "data": {
      "text/plain": [
       "T"
      ]
     },
     "execution_count": 20,
     "metadata": {},
     "output_type": "execute_result"
    },
    {
     "data": {
      "text/plain": [
       "(SETQ X NIL)"
      ]
     },
     "execution_count": 20,
     "metadata": {},
     "output_type": "execute_result"
    },
    {
     "data": {
      "text/plain": [
       "T"
      ]
     },
     "execution_count": 20,
     "metadata": {},
     "output_type": "execute_result"
    }
   ],
   "source": [
    "(macroexpand-1 '(nil! x))\n",
    "\n",
    "(macroexpand '(nil! x))"
   ]
  },
  {
   "cell_type": "markdown",
   "metadata": {},
   "source": [
    "# Backquote"
   ]
  },
  {
   "cell_type": "code",
   "execution_count": 22,
   "metadata": {
    "vscode": {
     "languageId": "commonlisp"
    }
   },
   "outputs": [
    {
     "data": {
      "text/plain": [
       "(A B C)"
      ]
     },
     "execution_count": 22,
     "metadata": {},
     "output_type": "execute_result"
    },
    {
     "data": {
      "text/plain": [
       "(A B C)"
      ]
     },
     "execution_count": 22,
     "metadata": {},
     "output_type": "execute_result"
    },
    {
     "data": {
      "text/plain": [
       "(A IS 1 AND B IS 2)"
      ]
     },
     "execution_count": 22,
     "metadata": {},
     "output_type": "execute_result"
    }
   ],
   "source": [
    "`(a b c)\n",
    "'(a b c)\n",
    "\n",
    "(let ((a 1)\n",
    "      (b 2))\n",
    "  `(a is ,a and b is ,b))"
   ]
  },
  {
   "cell_type": "code",
   "execution_count": 23,
   "metadata": {
    "vscode": {
     "languageId": "commonlisp"
    }
   },
   "outputs": [
    {
     "data": {
      "text/plain": [
       "NIL!"
      ]
     },
     "execution_count": 23,
     "metadata": {},
     "output_type": "execute_result"
    },
    {
     "name": "stdout",
     "output_type": "stream",
     "text": [
      "SB-KERNEL:REDEFINITION-WITH-DEFMACRO: redefining COMMON-LISP-USER::NIL! in DEFMACRO\n"
     ]
    }
   ],
   "source": [
    "(defmacro nil! (x)\n",
    "  `(setf ,x nil))"
   ]
  },
  {
   "cell_type": "code",
   "execution_count": 27,
   "metadata": {
    "vscode": {
     "languageId": "commonlisp"
    }
   },
   "outputs": [
    {
     "data": {
      "text/plain": [
       "(A B C)"
      ]
     },
     "execution_count": 27,
     "metadata": {},
     "output_type": "execute_result"
    },
    {
     "data": {
      "text/plain": [
       "(LST IS (A B C))"
      ]
     },
     "execution_count": 27,
     "metadata": {},
     "output_type": "execute_result"
    },
    {
     "data": {
      "text/plain": [
       "(ITS ELEMENTS ARE A B C)"
      ]
     },
     "execution_count": 27,
     "metadata": {},
     "output_type": "execute_result"
    },
    {
     "name": "stdout",
     "output_type": "stream",
     "text": [
      "SIMPLE-WARNING: undefined variable: COMMON-LISP-USER::LST\n",
      "SIMPLE-WARNING: undefined variable: COMMON-LISP-USER::LST\n",
      "SIMPLE-WARNING: undefined variable: COMMON-LISP-USER::LST\n"
     ]
    }
   ],
   "source": [
    "(setf lst '(a b c))\n",
    "`(lst is ,lst)\n",
    "`(its elements are ,@lst)"
   ]
  },
  {
   "cell_type": "code",
   "execution_count": 1,
   "metadata": {
    "vscode": {
     "languageId": "commonlisp"
    }
   },
   "outputs": [
    {
     "data": {
      "text/plain": [
       "WHILE"
      ]
     },
     "execution_count": 1,
     "metadata": {},
     "output_type": "execute_result"
    },
    {
     "data": {
      "text/plain": [
       "NIL"
      ]
     },
     "execution_count": 1,
     "metadata": {},
     "output_type": "execute_result"
    },
    {
     "name": "stdout",
     "output_type": "stream",
     "text": [
      "0123456789"
     ]
    }
   ],
   "source": [
    "(defmacro while (test &rest body)\n",
    "  `(do ()\n",
    "       ((not ,test))\n",
    "     ,@body))\n",
    "\n",
    "(let ((x 0))\n",
    "  (while (< x 10)\n",
    "         (princ x)\n",
    "         (incf x)))"
   ]
  },
  {
   "cell_type": "markdown",
   "metadata": {},
   "source": [
    "# Example: Quicksort"
   ]
  },
  {
   "cell_type": "code",
   "execution_count": 5,
   "metadata": {
    "vscode": {
     "languageId": "commonlisp"
    }
   },
   "outputs": [
    {
     "data": {
      "text/plain": [
       "QUICKSORT"
      ]
     },
     "execution_count": 5,
     "metadata": {},
     "output_type": "execute_result"
    },
    {
     "data": {
      "text/plain": [
       "#(1 2 3 4 5 6 8 7 9)"
      ]
     },
     "execution_count": 5,
     "metadata": {},
     "output_type": "execute_result"
    },
    {
     "name": "stdout",
     "output_type": "stream",
     "text": [
      "SB-KERNEL:REDEFINITION-WITH-DEFUN: redefining COMMON-LISP-USER::QUICKSORT in DEFUN\n"
     ]
    }
   ],
   "source": [
    "(defun quicksort (vec l r)\n",
    "  (let ((i l)\n",
    "        (j r)\n",
    "        (p (svref vec (round (+ l r) 2)))) ; 1\n",
    "    (while (<= i j) ; 2\n",
    "      (while (< (svref vec i) p) (incf i))\n",
    "      (while (> (svref vec j) p) (decf j))\n",
    "      (when (<= i j)\n",
    "            (rotatef (svref vec i) (svref vec j))\n",
    "            (incf i)\n",
    "            (decf j)))\n",
    "    (if (> (- j l) 1) (quicksort vec l j)); 3\n",
    "    (if (> (- r i) 1) (quicksort vec i r)))\n",
    "  vec)\n",
    "\n",
    "(let ((v #(6 9 8 1 5 2 3 7 4)))\n",
    "  (quicksort v 0 (- (length v) 1)))"
   ]
  },
  {
   "cell_type": "markdown",
   "metadata": {},
   "source": [
    "# Macro Design"
   ]
  },
  {
   "cell_type": "code",
   "execution_count": null,
   "metadata": {
    "vscode": {
     "languageId": "commonlisp"
    }
   },
   "outputs": [
    {
     "data": {
      "text/plain": [
       "NTIMES"
      ]
     },
     "execution_count": 10,
     "metadata": {},
     "output_type": "execute_result"
    },
    {
     "data": {
      "text/plain": [
       "15"
      ]
     },
     "execution_count": 10,
     "metadata": {},
     "output_type": "execute_result"
    },
    {
     "name": "stdout",
     "output_type": "stream",
     "text": [
      "SB-KERNEL:REDEFINITION-WITH-DEFMACRO: redefining COMMON-LISP-USER::NTIMES in DEFMACRO\n"
     ]
    }
   ],
   "source": [
    "; NOTE: unintended variable capture, multiple evaluation\n",
    "(defmacro ntimes (n &rest body)\n",
    "  (let ((g (gensym))\n",
    "        (h (gensym)))\n",
    "    `(let ((,h ,n))\n",
    "       (do ((,g 0 (+ ,g 1)))\n",
    "           ((>= ,g ,h))\n",
    "         ,@body))))\n",
    "\n",
    "(let ((x 10))\n",
    "  (ntimes 5\n",
    "          (setf x (+ x 1)))\n",
    "  x)"
   ]
  },
  {
   "cell_type": "code",
   "execution_count": null,
   "metadata": {
    "vscode": {
     "languageId": "commonlisp"
    }
   },
   "outputs": [
    {
     "data": {
      "text/plain": [
       "(IF A\n",
       "    B\n",
       "    (IF C\n",
       "        (PROGN D E)\n",
       "        (THE T F)))"
      ]
     },
     "execution_count": 7,
     "metadata": {},
     "output_type": "execute_result"
    },
    {
     "data": {
      "text/plain": [
       "T"
      ]
     },
     "execution_count": 7,
     "metadata": {},
     "output_type": "execute_result"
    },
    {
     "name": "stdout",
     "output_type": "stream",
     "text": [
      "\n",
      "(IF A\n",
      "    B\n",
      "    (IF C\n",
      "        (PROGN D E)\n",
      "        (THE T F)))"
     ]
    }
   ],
   "source": [
    "(macroexpand-1 '(cond (a b)\n",
    "                      (c d e)\n",
    "                      (t f)))\n",
    "; pprint\n",
    "(pprint (macroexpand-1 '(cond (a b)\n",
    "                              (c d e)\n",
    "                              (t f))))"
   ]
  },
  {
   "cell_type": "markdown",
   "metadata": {},
   "source": [
    "# Generialized Reference"
   ]
  },
  {
   "cell_type": "code",
   "execution_count": 11,
   "metadata": {
    "vscode": {
     "languageId": "commonlisp"
    }
   },
   "outputs": [
    {
     "data": {
      "text/plain": [
       "CAH"
      ]
     },
     "execution_count": 11,
     "metadata": {},
     "output_type": "execute_result"
    },
    {
     "data": {
      "text/plain": [
       "(44 B C)"
      ]
     },
     "execution_count": 11,
     "metadata": {},
     "output_type": "execute_result"
    }
   ],
   "source": [
    "; define-modify-macro\n",
    "\n",
    "(defmacro cah (lst)\n",
    "  `(car ,lst))\n",
    "\n",
    "(let ((x (list 'a 'b 'c)))\n",
    "  (setf (cah x) 44)\n",
    "  x)"
   ]
  },
  {
   "cell_type": "code",
   "execution_count": 19,
   "metadata": {
    "vscode": {
     "languageId": "commonlisp"
    }
   },
   "outputs": [
    {
     "data": {
      "text/plain": [
       "INCF-WRONG"
      ]
     },
     "execution_count": 19,
     "metadata": {},
     "output_type": "execute_result"
    },
    {
     "data": {
      "text/plain": [
       "(2)"
      ]
     },
     "execution_count": 19,
     "metadata": {},
     "output_type": "execute_result"
    },
    {
     "data": {
      "text/plain": [
       "(1 2)"
      ]
     },
     "execution_count": 19,
     "metadata": {},
     "output_type": "execute_result"
    },
    {
     "data": {
      "text/plain": [
       "(SETF (CAR (PUSH 1 LST)) (+ (CAR (PUSH 1 LST)) 1))"
      ]
     },
     "execution_count": 19,
     "metadata": {},
     "output_type": "execute_result"
    },
    {
     "data": {
      "text/plain": [
       "T"
      ]
     },
     "execution_count": 19,
     "metadata": {},
     "output_type": "execute_result"
    },
    {
     "name": "stdout",
     "output_type": "stream",
     "text": [
      "SB-KERNEL:REDEFINITION-WITH-DEFMACRO: redefining COMMON-LISP-USER::INCF-WRONG in DEFMACRO\n"
     ]
    }
   ],
   "source": [
    "(defmacro incf-wrong (x &optional (y 1))\n",
    "  `(setf ,x (+ ,x ,y)))\n",
    "\n",
    "\n",
    "(let ((lst nil))\n",
    "  (incf (car (push 1 lst)))\n",
    "  lst)\n",
    "(let ((lst nil))\n",
    "  (incf-wrong (car (push 1 lst)))\n",
    "  lst)\n",
    "\n",
    "(macroexpand-1 '(incf-wrong (car (push 1 lst))))"
   ]
  },
  {
   "cell_type": "code",
   "execution_count": 20,
   "metadata": {
    "vscode": {
     "languageId": "commonlisp"
    }
   },
   "outputs": [
    {
     "data": {
      "text/plain": [
       "OUR-INCF"
      ]
     },
     "execution_count": 20,
     "metadata": {},
     "output_type": "execute_result"
    },
    {
     "data": {
      "text/plain": [
       "(2)"
      ]
     },
     "execution_count": 20,
     "metadata": {},
     "output_type": "execute_result"
    },
    {
     "data": {
      "text/plain": [
       "(LET* ((#:G241 (PUSH 1 LST)))\n",
       "  (SB-KERNEL:%RPLACA #:G241 (+ (CAR #:G241) 1)))"
      ]
     },
     "execution_count": 20,
     "metadata": {},
     "output_type": "execute_result"
    },
    {
     "data": {
      "text/plain": [
       "T"
      ]
     },
     "execution_count": 20,
     "metadata": {},
     "output_type": "execute_result"
    }
   ],
   "source": [
    "(define-modify-macro our-incf (&optional (y 1)) +)\n",
    "(let ((lst nil))\n",
    "  (our-incf (car (push 1 lst)))\n",
    "  lst)\n",
    "\n",
    "(macroexpand-1 '(our-incf (car (push 1 lst))))"
   ]
  },
  {
   "cell_type": "code",
   "execution_count": 21,
   "metadata": {
    "vscode": {
     "languageId": "commonlisp"
    }
   },
   "outputs": [
    {
     "data": {
      "text/plain": [
       "APPEND1F"
      ]
     },
     "execution_count": 21,
     "metadata": {},
     "output_type": "execute_result"
    },
    {
     "data": {
      "text/plain": [
       "(A B C D)"
      ]
     },
     "execution_count": 21,
     "metadata": {},
     "output_type": "execute_result"
    }
   ],
   "source": [
    "; append to the end of a list\n",
    "(define-modify-macro append1f (val)\n",
    "                     (lambda (lst val) (append lst (list val))))\n",
    "\n",
    "(let ((lst '(a b c)))\n",
    "  (append1f lst 'd)\n",
    "  lst)"
   ]
  },
  {
   "cell_type": "markdown",
   "metadata": {},
   "source": [
    "# Example: Macro Utilities"
   ]
  },
  {
   "cell_type": "code",
   "execution_count": null,
   "metadata": {
    "vscode": {
     "languageId": "commonlisp"
    }
   },
   "outputs": [],
   "source": [
    "; TODO: macror utilities\n",
    "; for\n",
    "; in\n",
    "; random-choice\n",
    "; avg\n",
    "; with-gensyms\n",
    "; aif"
   ]
  },
  {
   "cell_type": "markdown",
   "metadata": {},
   "source": [
    "# On Lisp"
   ]
  },
  {
   "cell_type": "code",
   "execution_count": null,
   "metadata": {
    "vscode": {
     "languageId": "commonlisp"
    }
   },
   "outputs": [],
   "source": [
    "; John Foderaro called Lisp 'a programmable programming language'."
   ]
  }
 ],
 "metadata": {
  "kernelspec": {
   "display_name": "Common Lisp",
   "language": "common-lisp",
   "name": "common-lisp"
  },
  "language_info": {
   "codemirror_mode": "text/x-common-lisp",
   "file_extension": ".lisp",
   "mimetype": "text/x-common-lisp",
   "name": "common-lisp",
   "pygments_lexer": "common-lisp",
   "version": "2.4.8"
  }
 },
 "nbformat": 4,
 "nbformat_minor": 2
}
