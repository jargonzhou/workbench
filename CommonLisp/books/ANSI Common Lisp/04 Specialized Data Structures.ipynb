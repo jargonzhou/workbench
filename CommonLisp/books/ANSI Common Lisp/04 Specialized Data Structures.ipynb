{
 "cells": [
  {
   "cell_type": "markdown",
   "metadata": {},
   "source": [
    "# Arrays"
   ]
  },
  {
   "cell_type": "code",
   "execution_count": 1,
   "metadata": {
    "vscode": {
     "languageId": "commonlisp"
    }
   },
   "outputs": [
    {
     "data": {
      "text/plain": [
       "#2A((NIL NIL NIL) (NIL NIL NIL))"
      ]
     },
     "execution_count": 1,
     "metadata": {},
     "output_type": "execute_result"
    },
    {
     "data": {
      "text/plain": [
       "NIL"
      ]
     },
     "execution_count": 1,
     "metadata": {},
     "output_type": "execute_result"
    },
    {
     "data": {
      "text/plain": [
       "B"
      ]
     },
     "execution_count": 1,
     "metadata": {},
     "output_type": "execute_result"
    },
    {
     "data": {
      "text/plain": [
       "B"
      ]
     },
     "execution_count": 1,
     "metadata": {},
     "output_type": "execute_result"
    },
    {
     "data": {
      "text/plain": [
       "#2A((B NIL NIL) (NIL NIL NIL))"
      ]
     },
     "execution_count": 1,
     "metadata": {},
     "output_type": "execute_result"
    },
    {
     "data": {
      "text/plain": [
       "#2A((NIL NIL NIL) (NIL NIL NIL))"
      ]
     },
     "execution_count": 1,
     "metadata": {},
     "output_type": "execute_result"
    },
    {
     "name": "stdout",
     "output_type": "stream",
     "text": [
      "SIMPLE-WARNING: undefined variable: COMMON-LISP-USER::ARR\n",
      "SIMPLE-WARNING: undefined variable: COMMON-LISP-USER::ARR\n",
      "SIMPLE-WARNING: undefined variable: COMMON-LISP-USER::ARR\n",
      "SIMPLE-WARNING: undefined variable: COMMON-LISP-USER::ARR\n"
     ]
    }
   ],
   "source": [
    "; make a 2x3 array\n",
    "(setf arr (make-array '(2 3) :initial-element nil))\n",
    "\n",
    "; access element\n",
    "(aref arr 0 0)\n",
    "(setf (aref arr 0 0) 'b)\n",
    "(aref arr 0 0)\n",
    "\n",
    "; array literal: #na, n is the number of dimensions of array\n",
    "#2a((b nil nil) (nil nil nil))\n",
    "\n",
    "(let ((arr (make-array '(2 3) :initial-element nil)))\n",
    "  (setf *print-array* t)\n",
    "  arr)\n"
   ]
  },
  {
   "cell_type": "code",
   "execution_count": null,
   "metadata": {
    "vscode": {
     "languageId": "commonlisp"
    }
   },
   "outputs": [
    {
     "data": {
      "text/plain": [
       "#(NIL NIL NIL NIL)"
      ]
     },
     "execution_count": 2,
     "metadata": {},
     "output_type": "execute_result"
    },
    {
     "data": {
      "text/plain": [
       "#(\"a\" B 3)"
      ]
     },
     "execution_count": 2,
     "metadata": {},
     "output_type": "execute_result"
    },
    {
     "data": {
      "text/plain": [
       "#(\"a\" B 3)"
      ]
     },
     "execution_count": 2,
     "metadata": {},
     "output_type": "execute_result"
    },
    {
     "data": {
      "text/plain": [
       "NIL"
      ]
     },
     "execution_count": 2,
     "metadata": {},
     "output_type": "execute_result"
    },
    {
     "data": {
      "text/plain": [
       "NIL"
      ]
     },
     "execution_count": 2,
     "metadata": {},
     "output_type": "execute_result"
    },
    {
     "data": {
      "text/plain": [
       "\"a\""
      ]
     },
     "execution_count": 2,
     "metadata": {},
     "output_type": "execute_result"
    },
    {
     "data": {
      "text/plain": [
       "\"a\""
      ]
     },
     "execution_count": 2,
     "metadata": {},
     "output_type": "execute_result"
    },
    {
     "name": "stdout",
     "output_type": "stream",
     "text": [
      "SIMPLE-WARNING: undefined variable: COMMON-LISP-USER::VEC\n",
      "SIMPLE-WARNING: undefined variable: COMMON-LISP-USER::VEC\n",
      "SIMPLE-WARNING: undefined variable: COMMON-LISP-USER::VEC\n",
      "SIMPLE-WARNING: undefined variable: COMMON-LISP-USER::VEC\n",
      "SIMPLE-WARNING: undefined variable: COMMON-LISP-USER::VEC\n"
     ]
    }
   ],
   "source": [
    "; vector: one-dimensional array\n",
    "(setf vec (make-array 4 :initial-element nil))\n",
    "\n",
    "(vector \"a\" 'b 3)\n",
    "\n",
    "; literal vectors\n",
    "#(\"a\" B 3)\n",
    "\n",
    "; access vector element\n",
    "(aref vec 0)\n",
    "(svref vec 0) ; sv: simple vector\n",
    "\n",
    "(setf (svref vec 0) \"a\")\n",
    "(svref vec 0)\n",
    "\n"
   ]
  },
  {
   "cell_type": "markdown",
   "metadata": {},
   "source": [
    "# Example: Binary Search"
   ]
  },
  {
   "cell_type": "code",
   "execution_count": 4,
   "metadata": {
    "vscode": {
     "languageId": "commonlisp"
    }
   },
   "outputs": [
    {
     "data": {
      "text/plain": [
       "BIN-SEARCH"
      ]
     },
     "execution_count": 4,
     "metadata": {},
     "output_type": "execute_result"
    },
    {
     "data": {
      "text/plain": [
       "FINDER"
      ]
     },
     "execution_count": 4,
     "metadata": {},
     "output_type": "execute_result"
    },
    {
     "data": {
      "text/plain": [
       "3"
      ]
     },
     "execution_count": 4,
     "metadata": {},
     "output_type": "execute_result"
    },
    {
     "name": "stdout",
     "output_type": "stream",
     "text": [
      "SB-KERNEL:REDEFINITION-WITH-DEFUN: redefining COMMON-LISP-USER::BIN-SEARCH in DEFUN\n",
      "SB-KERNEL:REDEFINITION-WITH-DEFUN: redefining COMMON-LISP-USER::FINDER in DEFUN\n",
      "#(0 1 2 3 4 5 6 7 8 9)\n",
      "#(0 1 2 3)\n",
      "#(3)\n"
     ]
    }
   ],
   "source": [
    "(defun bin-search (obj vec)\n",
    "  (let ((len (length vec)))\n",
    "    (and (not (zerop len))\n",
    "         (finder obj vec 0 (- len 1)))))\n",
    "\n",
    "(defun finder (obj vec start end)\n",
    "  (format t \"~A~%\" (subseq vec start (+ end 1)))\n",
    "  (let ((range (- end start)))\n",
    "    (if (zerop range)\n",
    "        (if (eql obj (aref vec start))\n",
    "            obj\n",
    "            nil)\n",
    "        (let ((mid (+ start (round (/ range 2)))))\n",
    "          (let ((obj2 (aref vec mid)))\n",
    "            (if (< obj obj2)\n",
    "                (finder obj vec start (- mid 1))\n",
    "                (if (> obj obj2)\n",
    "                    (finder obj vec (+ mid 1) end)\n",
    "                    obj)))))))\n",
    "\n",
    "(bin-search 3 #(0 1 2 3 4 5 6 7 8 9))"
   ]
  },
  {
   "cell_type": "markdown",
   "metadata": {},
   "source": [
    "# Strings and Characters"
   ]
  },
  {
   "cell_type": "code",
   "execution_count": 9,
   "metadata": {
    "vscode": {
     "languageId": "commonlisp"
    }
   },
   "outputs": [
    {
     "data": {
      "text/plain": [
       "\"abc\""
      ]
     },
     "execution_count": 9,
     "metadata": {},
     "output_type": "execute_result"
    },
    {
     "data": {
      "text/plain": [
       "#\\a"
      ]
     },
     "execution_count": 9,
     "metadata": {},
     "output_type": "execute_result"
    },
    {
     "data": {
      "text/plain": [
       "97"
      ]
     },
     "execution_count": 9,
     "metadata": {},
     "output_type": "execute_result"
    },
    {
     "data": {
      "text/plain": [
       "#\\a"
      ]
     },
     "execution_count": 9,
     "metadata": {},
     "output_type": "execute_result"
    },
    {
     "data": {
      "text/plain": [
       "\"below\""
      ]
     },
     "execution_count": 9,
     "metadata": {},
     "output_type": "execute_result"
    },
    {
     "data": {
      "text/plain": [
       "#\\b"
      ]
     },
     "execution_count": 9,
     "metadata": {},
     "output_type": "execute_result"
    },
    {
     "data": {
      "text/plain": [
       "#\\b"
      ]
     },
     "execution_count": 9,
     "metadata": {},
     "output_type": "execute_result"
    },
    {
     "data": {
      "text/plain": [
       "\"Merkin\""
      ]
     },
     "execution_count": 9,
     "metadata": {},
     "output_type": "execute_result"
    },
    {
     "data": {
      "text/plain": [
       "T"
      ]
     },
     "execution_count": 9,
     "metadata": {},
     "output_type": "execute_result"
    },
    {
     "data": {
      "text/plain": [
       "NIL"
      ]
     },
     "execution_count": 9,
     "metadata": {},
     "output_type": "execute_result"
    },
    {
     "data": {
      "text/plain": [
       "T"
      ]
     },
     "execution_count": 9,
     "metadata": {},
     "output_type": "execute_result"
    },
    {
     "name": "stdout",
     "output_type": "stream",
     "text": [
      "SB-INT:CONSTANT-MODIFIED: Destructive function SORT called on constant data: \"elbow\"\n",
      "See also:\n",
      "  The ANSI Standard, Special Operator QUOTE\n",
      "  The ANSI Standard, Section 3.7.1\n"
     ]
    }
   ],
   "source": [
    "; string: vector of character\n",
    "\"abc\"\n",
    "; character\n",
    "#\\a\n",
    "(char-code #\\a)\n",
    "(code-char (char-code #\\a))\n",
    "\n",
    "; char<, char<=, char=, char>=, char>, char/=\n",
    "(sort \"elbow\" #'char<)\n",
    "\n",
    "; access element\n",
    "(aref \"abc\" 1)\n",
    "(char \"abc\" 1)\n",
    "(let ((str (copy-seq \"Merlin\")))\n",
    "  (setf (char str 3) #\\k)\n",
    "  str)\n",
    "\n",
    "; compare strings\n",
    "(equal \"fred\" \"fred\")\n",
    "(equal \"fred\" \"Fred\")\n",
    "(string-equal \"fred\" \"Fred\")"
   ]
  },
  {
   "cell_type": "code",
   "execution_count": 11,
   "metadata": {
    "vscode": {
     "languageId": "commonlisp"
    }
   },
   "outputs": [
    {
     "data": {
      "text/plain": [
       "\"truth or dare\""
      ]
     },
     "execution_count": 11,
     "metadata": {},
     "output_type": "execute_result"
    },
    {
     "data": {
      "text/plain": [
       "\"not to worry\""
      ]
     },
     "execution_count": 11,
     "metadata": {},
     "output_type": "execute_result"
    }
   ],
   "source": [
    "; build string\n",
    "(format nil \"~A or ~A\" \"truth\" \"dare\")\n",
    "(concatenate 'string \"not \" \"to worry\")"
   ]
  },
  {
   "cell_type": "markdown",
   "metadata": {},
   "source": [
    "# Sequences"
   ]
  },
  {
   "cell_type": "code",
   "execution_count": 15,
   "metadata": {
    "vscode": {
     "languageId": "commonlisp"
    }
   },
   "outputs": [
    {
     "data": {
      "text/plain": [
       "B"
      ]
     },
     "execution_count": 15,
     "metadata": {},
     "output_type": "execute_result"
    },
    {
     "data": {
      "text/plain": [
       "1"
      ]
     },
     "execution_count": 15,
     "metadata": {},
     "output_type": "execute_result"
    },
    {
     "data": {
      "text/plain": [
       "4"
      ]
     },
     "execution_count": 15,
     "metadata": {},
     "output_type": "execute_result"
    },
    {
     "data": {
      "text/plain": [
       "7"
      ]
     },
     "execution_count": 15,
     "metadata": {},
     "output_type": "execute_result"
    },
    {
     "data": {
      "text/plain": [
       "1"
      ]
     },
     "execution_count": 15,
     "metadata": {},
     "output_type": "execute_result"
    },
    {
     "data": {
      "text/plain": [
       "NIL"
      ]
     },
     "execution_count": 15,
     "metadata": {},
     "output_type": "execute_result"
    },
    {
     "data": {
      "text/plain": [
       "0"
      ]
     },
     "execution_count": 15,
     "metadata": {},
     "output_type": "execute_result"
    },
    {
     "data": {
      "text/plain": [
       "2"
      ]
     },
     "execution_count": 15,
     "metadata": {},
     "output_type": "execute_result"
    }
   ],
   "source": [
    "; elt\n",
    "(elt '(a b c) 1)\n",
    "\n",
    "\n",
    "; sequence functions' keyword arguments\n",
    "; :key, :test, :from-end, :start, :end\n",
    "(position #\\a \"fantasia\")\n",
    "(position #\\a \"fantasia\" :start 3 :end 5)\n",
    "(position #\\a \"fantasia\" :from-end t)\n",
    "\n",
    "(position 'a '((c d) (a b)) :key #'car)\n",
    "\n",
    "(position '(a b) '((a b) (c d)))\n",
    "(position '(a b) '((a b) (c d)) :test #'equal)\n",
    "(position 3 '(1 0 7 5) :test #'<)"
   ]
  },
  {
   "cell_type": "code",
   "execution_count": 16,
   "metadata": {
    "vscode": {
     "languageId": "commonlisp"
    }
   },
   "outputs": [
    {
     "data": {
      "text/plain": [
       "SECOND-WORD"
      ]
     },
     "execution_count": 16,
     "metadata": {},
     "output_type": "execute_result"
    },
    {
     "data": {
      "text/plain": [
       "\"follows\""
      ]
     },
     "execution_count": 16,
     "metadata": {},
     "output_type": "execute_result"
    }
   ],
   "source": [
    "(defun second-word (str)\n",
    "  (let ((p1 (+ (position #\\  str) 1)))\n",
    "    (subseq str p1 (position #\\  str :start p1))))\n",
    "(second-word \"Form follows function.\")"
   ]
  },
  {
   "cell_type": "code",
   "execution_count": 17,
   "metadata": {
    "vscode": {
     "languageId": "commonlisp"
    }
   },
   "outputs": [
    {
     "data": {
      "text/plain": [
       "1"
      ]
     },
     "execution_count": 17,
     "metadata": {},
     "output_type": "execute_result"
    }
   ],
   "source": [
    "; position-if: return the position of the first element that satisfy the function\n",
    "(position-if #'oddp '(2 3 4 5))"
   ]
  },
  {
   "cell_type": "code",
   "execution_count": 20,
   "metadata": {
    "vscode": {
     "languageId": "commonlisp"
    }
   },
   "outputs": [
    {
     "data": {
      "text/plain": [
       "#\\a"
      ]
     },
     "execution_count": 20,
     "metadata": {},
     "output_type": "execute_result"
    },
    {
     "data": {
      "text/plain": [
       "#\\h"
      ]
     },
     "execution_count": 20,
     "metadata": {},
     "output_type": "execute_result"
    },
    {
     "data": {
      "text/plain": [
       "T"
      ]
     },
     "execution_count": 20,
     "metadata": {},
     "output_type": "execute_result"
    }
   ],
   "source": [
    "; find, find-if\n",
    "(find #\\a \"cat\")\n",
    "(find-if #'characterp \"ham\")\n",
    "\n",
    "(let ((lst '((1 2) (2 3) (complete))))\n",
    "  (equal (find-if #'(lambda (x) (eql (car x) 'complete)) lst)\n",
    "         (find 'complete lst :key #'car)))"
   ]
  },
  {
   "cell_type": "code",
   "execution_count": 21,
   "metadata": {
    "vscode": {
     "languageId": "commonlisp"
    }
   },
   "outputs": [
    {
     "data": {
      "text/plain": [
       "\"cdbra\""
      ]
     },
     "execution_count": 21,
     "metadata": {},
     "output_type": "execute_result"
    }
   ],
   "source": [
    "; remove-duplicates\n",
    "(remove-duplicates \"abracadabra\")"
   ]
  },
  {
   "cell_type": "code",
   "execution_count": 1,
   "metadata": {
    "vscode": {
     "languageId": "commonlisp"
    }
   },
   "outputs": [
    {
     "data": {
      "text/plain": [
       "(INTERSECTION)"
      ]
     },
     "execution_count": 1,
     "metadata": {},
     "output_type": "execute_result"
    },
    {
     "name": "stdout",
     "output_type": "stream",
     "text": [
      "  0: (INTERSECTION (B R A D 'S) (B A D))\n",
      "  0: INTERSECTION returned (D A B)\n",
      "  0: (INTERSECTION (D A B) (C A T))\n",
      "  0: INTERSECTION returned (A)\n"
     ]
    },
    {
     "data": {
      "text/plain": [
       "(A)"
      ]
     },
     "execution_count": 1,
     "metadata": {},
     "output_type": "execute_result"
    },
    {
     "data": {
      "text/plain": [
       "T"
      ]
     },
     "execution_count": 1,
     "metadata": {},
     "output_type": "execute_result"
    }
   ],
   "source": [
    "; reduce\n",
    "(trace intersection)\n",
    "(reduce #'intersection '((b r a d 's) (b a d) (c a t)))\n",
    "(untrace intersection)"
   ]
  },
  {
   "cell_type": "markdown",
   "metadata": {},
   "source": [
    "# Example: Parsing Dates"
   ]
  },
  {
   "cell_type": "code",
   "execution_count": 1,
   "metadata": {
    "vscode": {
     "languageId": "commonlisp"
    }
   },
   "outputs": [
    {
     "data": {
      "text/plain": [
       "TOKENS"
      ]
     },
     "execution_count": 1,
     "metadata": {},
     "output_type": "execute_result"
    },
    {
     "data": {
      "text/plain": [
       "(\"ab\" \"cde\" \"f\")"
      ]
     },
     "execution_count": 1,
     "metadata": {},
     "output_type": "execute_result"
    }
   ],
   "source": [
    "(defun tokens (str test start)\n",
    "  (let ((p1 (position-if test str :start start)))\n",
    "    (if p1\n",
    "        (let ((p2 (position-if #'(lambda (c) (not (funcall test c)))\n",
    "                    str :start p1)))\n",
    "          (cons (subseq str p1 p2)\n",
    "                (if p2\n",
    "                    (tokens str test p2)\n",
    "                    nil)))\n",
    "        nil)))\n",
    "\n",
    "(tokens \"ab12 3 cde.f\" #'alpha-char-p 0)"
   ]
  },
  {
   "cell_type": "code",
   "execution_count": 2,
   "metadata": {
    "vscode": {
     "languageId": "commonlisp"
    }
   },
   "outputs": [
    {
     "data": {
      "text/plain": [
       "CONSTITUENT"
      ]
     },
     "execution_count": 2,
     "metadata": {},
     "output_type": "execute_result"
    },
    {
     "data": {
      "text/plain": [
       "(\"ab12\" \"3cde.f\" \"gh\")"
      ]
     },
     "execution_count": 2,
     "metadata": {},
     "output_type": "execute_result"
    }
   ],
   "source": [
    "(defun constituent (c)\n",
    "  (and (graphic-char-p c)\n",
    "       (not (char= c #\\ ))))\n",
    "\n",
    "(tokens \"ab12 3cde.f\n",
    "         gh\" #'constituent 0)"
   ]
  },
  {
   "cell_type": "code",
   "execution_count": 3,
   "metadata": {
    "vscode": {
     "languageId": "commonlisp"
    }
   },
   "outputs": [
    {
     "data": {
      "text/plain": [
       "MONTH-NAMES"
      ]
     },
     "execution_count": 3,
     "metadata": {},
     "output_type": "execute_result"
    },
    {
     "data": {
      "text/plain": [
       "PARSE-MONTH"
      ]
     },
     "execution_count": 3,
     "metadata": {},
     "output_type": "execute_result"
    },
    {
     "data": {
      "text/plain": [
       "PARSE-DATE"
      ]
     },
     "execution_count": 3,
     "metadata": {},
     "output_type": "execute_result"
    },
    {
     "data": {
      "text/plain": [
       "(16 8 1980)"
      ]
     },
     "execution_count": 3,
     "metadata": {},
     "output_type": "execute_result"
    }
   ],
   "source": [
    "(defconstant month-names\n",
    "             #(\"jan\" \"feb\" \"mar\" \"apr\" \"may\" \"jun\"\n",
    "                     \"Jul\" \"aug\" \"sep\" \"oct\" \"nov\" \"dec\"))\n",
    "\n",
    "(defun parse-month (str)\n",
    "  (let ((p (position str month-names :test #'string-equal)))\n",
    "    (if p\n",
    "        (+ p 1)\n",
    "        nil)))\n",
    "\n",
    "(defun parse-date (str)\n",
    "  (let ((toks (tokens str #'constituent 0)))\n",
    "    (list (parse-integer (first toks))\n",
    "          (parse-month (second toks))\n",
    "          (parse-integer (third toks)))))\n",
    "\n",
    "\n",
    "(parse-date \"16 Aug 1980\")"
   ]
  },
  {
   "cell_type": "code",
   "execution_count": 4,
   "metadata": {
    "vscode": {
     "languageId": "commonlisp"
    }
   },
   "outputs": [
    {
     "data": {
      "text/plain": [
       "READ-INTEGER"
      ]
     },
     "execution_count": 4,
     "metadata": {},
     "output_type": "execute_result"
    },
    {
     "data": {
      "text/plain": [
       "1980"
      ]
     },
     "execution_count": 4,
     "metadata": {},
     "output_type": "execute_result"
    }
   ],
   "source": [
    "; alternative to parse-integer\n",
    "(defun read-integer (str)\n",
    "  (if (every #'digit-char-p str)\n",
    "      (let ((accum 0))\n",
    "        (dotimes (pos (length str))\n",
    "          (setf accum (+ (* accum 10)\n",
    "                         (digit-char-p (char str pos)))))\n",
    "        accum)\n",
    "      nil))\n",
    "\n",
    "(read-integer \"1980\")"
   ]
  },
  {
   "cell_type": "markdown",
   "metadata": {},
   "source": [
    "# Structures"
   ]
  },
  {
   "cell_type": "code",
   "execution_count": null,
   "metadata": {
    "vscode": {
     "languageId": "commonlisp"
    }
   },
   "outputs": [
    {
     "data": {
      "text/plain": [
       "POINT"
      ]
     },
     "execution_count": 1,
     "metadata": {},
     "output_type": "execute_result"
    },
    {
     "data": {
      "text/plain": [
       "PN"
      ]
     },
     "execution_count": 1,
     "metadata": {},
     "output_type": "execute_result"
    },
    {
     "data": {
      "text/plain": [
       "NIL"
      ]
     },
     "execution_count": 1,
     "metadata": {},
     "output_type": "execute_result"
    },
    {
     "name": "stdout",
     "output_type": "stream",
     "text": [
      "#S(POINT :X 0 :Y 0) \n",
      "0 \n",
      "#S(POINT :X 0 :Y 2) \n",
      "T \n",
      "T \n"
     ]
    }
   ],
   "source": [
    "; functions: make-xxx, xxx-p, copy-xxx, xxx-field\n",
    "(defstruct point\n",
    "  x\n",
    "  y)\n",
    "\n",
    "(defun pn (o)\n",
    "  (format t \"~A ~%\" o))\n",
    "\n",
    "(let ((p (make-point :x 0 :y 0)))\n",
    "  (pn p)\n",
    "  (pn (point-x p))\n",
    "  (setf (point-y p) 2)\n",
    "  (pn p)\n",
    "  (pn (point-p p))\n",
    "  (pn (typep p 'point)))"
   ]
  },
  {
   "cell_type": "code",
   "execution_count": 2,
   "metadata": {
    "vscode": {
     "languageId": "commonlisp"
    }
   },
   "outputs": [
    {
     "data": {
      "text/plain": [
       "POLEMIC"
      ]
     },
     "execution_count": 2,
     "metadata": {},
     "output_type": "execute_result"
    },
    {
     "name": "stdout",
     "output_type": "stream",
     "text": [
      "What kind of polemic was it? "
     ]
    },
    {
     "data": {
      "text/plain": [
       "#S(POLEMIC :TYPE SCATHING :EFFECT NIL)"
      ]
     },
     "execution_count": 2,
     "metadata": {},
     "output_type": "execute_result"
    }
   ],
   "source": [
    "; specify field default values\n",
    "(defstruct polemic\n",
    "  (type (progn\n",
    "         (format t \"What kind of polemic was it? \")\n",
    "         (read)))\n",
    "  (effect nil))\n",
    "\n",
    "(make-polemic)"
   ]
  },
  {
   "cell_type": "code",
   "execution_count": 1,
   "metadata": {
    "vscode": {
     "languageId": "commonlisp"
    }
   },
   "outputs": [
    {
     "data": {
      "text/plain": [
       "POINT"
      ]
     },
     "execution_count": 1,
     "metadata": {},
     "output_type": "execute_result"
    },
    {
     "data": {
      "text/plain": [
       "PRINT-POINT"
      ]
     },
     "execution_count": 1,
     "metadata": {},
     "output_type": "execute_result"
    },
    {
     "data": {
      "text/plain": [
       "#<0,0>"
      ]
     },
     "execution_count": 1,
     "metadata": {},
     "output_type": "execute_result"
    },
    {
     "name": "stdout",
     "output_type": "stream",
     "text": [
      "SB-INT:SIMPLE-STYLE-WARNING: Cannot find type for specializer COMMON-LISP-USER::POINT when executing\n",
      "SB-PCL:SPECIALIZER-TYPE-SPECIFIER for a STANDARD-METHOD of a\n",
      "STANDARD-GENERIC-FUNCTION.\n",
      "SB-INT:SIMPLE-STYLE-WARNING: undefined function: COMMON-LISP-USER::PRINT-POINT\n",
      "SB-INT:SIMPLE-STYLE-WARNING: The variable DEPTH is defined but never used.\n"
     ]
    }
   ],
   "source": [
    "; custom functions\n",
    "(defstruct (point (:conc-name p)\n",
    "                  (:print-function print-point))\n",
    "  (x 0)\n",
    "  (y 0))\n",
    "\n",
    "(defun print-point (p stream depth)\n",
    "  (format stream \"#<~A,~A>\" (px p) (py p)))\n",
    "\n",
    "(make-point)"
   ]
  },
  {
   "cell_type": "markdown",
   "metadata": {},
   "source": [
    "# Example: Binary Search Trees"
   ]
  },
  {
   "cell_type": "code",
   "execution_count": null,
   "metadata": {
    "vscode": {
     "languageId": "commonlisp"
    }
   },
   "outputs": [],
   "source": [
    "; TODO: Binary Search Trees"
   ]
  },
  {
   "cell_type": "markdown",
   "metadata": {},
   "source": [
    "# Hash Tables"
   ]
  },
  {
   "cell_type": "code",
   "execution_count": null,
   "metadata": {
    "vscode": {
     "languageId": "commonlisp"
    }
   },
   "outputs": [
    {
     "data": {
      "text/plain": [
       "PN"
      ]
     },
     "execution_count": 3,
     "metadata": {},
     "output_type": "execute_result"
    },
    {
     "data": {
      "text/plain": [
       "NIL"
      ]
     },
     "execution_count": 3,
     "metadata": {},
     "output_type": "execute_result"
    },
    {
     "name": "stdout",
     "output_type": "stream",
     "text": [
      "SB-KERNEL:REDEFINITION-WITH-DEFUN: redefining COMMON-LISP-USER::PN in DEFUN\n",
      "NIL \n",
      "RED \n"
     ]
    }
   ],
   "source": [
    "(defun pn (o)\n",
    "  (format t \"~A ~%\" o))\n",
    "\n",
    "; make-hash-table\n",
    "; gethash\n",
    "; setf\n",
    "(let ((ht (make-hash-table)))\n",
    "  (pn (gethash 'color ht))\n",
    "  (setf (gethash 'color ht) 'red)\n",
    "  (pn (gethash 'color ht)))"
   ]
  },
  {
   "cell_type": "code",
   "execution_count": 6,
   "metadata": {
    "vscode": {
     "languageId": "commonlisp"
    }
   },
   "outputs": [
    {
     "data": {
      "text/plain": [
       "OUR-MEMBER"
      ]
     },
     "execution_count": 6,
     "metadata": {},
     "output_type": "execute_result"
    },
    {
     "data": {
      "text/plain": [
       "NIL"
      ]
     },
     "execution_count": 6,
     "metadata": {},
     "output_type": "execute_result"
    },
    {
     "name": "stdout",
     "output_type": "stream",
     "text": [
      "SB-KERNEL:REDEFINITION-WITH-DEFUN: redefining COMMON-LISP-USER::OUR-MEMBER in DEFUN\n",
      "(Doesn't take keyword arguments.) \n"
     ]
    }
   ],
   "source": [
    "(defun our-member (obj lst)\n",
    "  (if (null lst)\n",
    "      nil\n",
    "      (if (eql (car lst) obj)\n",
    "          lst\n",
    "          (our-member obj (cdr lst)))))\n",
    "\n",
    "; key: function\n",
    "; push\n",
    "(let ((bugs (make-hash-table)))\n",
    "  (push \"Doesn't take keyword arguments.\"\n",
    "        (gethash #'our-member bugs))\n",
    "  (pn (gethash #'our-member bugs)))"
   ]
  },
  {
   "cell_type": "code",
   "execution_count": 8,
   "metadata": {
    "vscode": {
     "languageId": "commonlisp"
    }
   },
   "outputs": [
    {
     "data": {
      "text/plain": [
       "NIL"
      ]
     },
     "execution_count": 8,
     "metadata": {},
     "output_type": "execute_result"
    },
    {
     "name": "stdout",
     "output_type": "stream",
     "text": [
      "T \n",
      "NIL \n"
     ]
    }
   ],
   "source": [
    "; represent set\n",
    "; remhash\n",
    "(let ((fruit (make-hash-table)))\n",
    "  (setf (gethash 'apricot fruit) t)\n",
    "  (pn (gethash 'apricot fruit))\n",
    "  (remhash 'apricot fruit)\n",
    "  (pn (gethash 'apricot fruit)))"
   ]
  },
  {
   "cell_type": "code",
   "execution_count": 10,
   "metadata": {
    "vscode": {
     "languageId": "commonlisp"
    }
   },
   "outputs": [
    {
     "data": {
      "text/plain": [
       "NIL"
      ]
     },
     "execution_count": 10,
     "metadata": {},
     "output_type": "execute_result"
    },
    {
     "name": "stdout",
     "output_type": "stream",
     "text": [
      "SHAPE = SPHERICAL\n",
      "SIZE = GIANT\n"
     ]
    }
   ],
   "source": [
    "; maphash\n",
    "(let ((ht (make-hash-table)))\n",
    "  (setf\n",
    "    (gethash 'shape ht) 'spherical\n",
    "    (gethash 'size ht) 'giant)\n",
    "  (maphash #'(lambda (k v)\n",
    "               (format t \"~A = ~A~%\" k v))\n",
    "           ht))"
   ]
  },
  {
   "cell_type": "code",
   "execution_count": 12,
   "metadata": {
    "vscode": {
     "languageId": "commonlisp"
    }
   },
   "outputs": [
    {
     "data": {
      "text/plain": [
       "NIL"
      ]
     },
     "execution_count": 12,
     "metadata": {},
     "output_type": "execute_result"
    },
    {
     "name": "stdout",
     "output_type": "stream",
     "text": [
      "(RALPH WALDO EMERSON) = T\n"
     ]
    }
   ],
   "source": [
    "; :size\n",
    "; :test\n",
    "(let ((writers (make-hash-table :size 5 :test #'equal)))\n",
    "  (setf (gethash '(ralph waldo emerson) writers) t)\n",
    "  (maphash #'(lambda (k v) (format t \"~A = ~A~%\" k v)) writers))"
   ]
  }
 ],
 "metadata": {
  "kernelspec": {
   "display_name": "Common Lisp",
   "language": "common-lisp",
   "name": "common-lisp"
  },
  "language_info": {
   "codemirror_mode": "text/x-common-lisp",
   "file_extension": ".lisp",
   "mimetype": "text/x-common-lisp",
   "name": "common-lisp",
   "pygments_lexer": "common-lisp",
   "version": "2.4.8"
  }
 },
 "nbformat": 4,
 "nbformat_minor": 2
}
