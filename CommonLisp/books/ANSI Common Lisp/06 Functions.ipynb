{
 "cells": [
  {
   "cell_type": "markdown",
   "metadata": {},
   "source": [
    "# Global Functions"
   ]
  },
  {
   "cell_type": "code",
   "execution_count": null,
   "metadata": {
    "vscode": {
     "languageId": "commonlisp"
    }
   },
   "outputs": [
    {
     "data": {
      "text/plain": [
       "#<FUNCTION +>"
      ]
     },
     "execution_count": 2,
     "metadata": {},
     "output_type": "execute_result"
    },
    {
     "data": {
      "text/plain": [
       "#<FUNCTION +>"
      ]
     },
     "execution_count": 2,
     "metadata": {},
     "output_type": "execute_result"
    },
    {
     "data": {
      "text/plain": [
       "#<FUNCTION (LAMBDA (X)\n",
       "             :IN\n",
       "             \"C:/Users/zhouj/AppData/Local/Temp/F1E38D6CB7B546582E173E82FFD83618-2080377524.lisp\") {1000D4326B}>"
      ]
     },
     "execution_count": 2,
     "metadata": {},
     "output_type": "execute_result"
    },
    {
     "data": {
      "text/plain": [
       "3"
      ]
     },
     "execution_count": 2,
     "metadata": {},
     "output_type": "execute_result"
    }
   ],
   "source": [
    "; fboundp\n",
    "(fboundp '+)\n",
    "\n",
    "; symbol-function\n",
    "(symbol-function '+)\n",
    "\n",
    "; define a new global function\n",
    "(setf (symbol-function 'add2)\n",
    "  #'(lambda (x) (+ x 2)))\n",
    "\n",
    "(add2 1)"
   ]
  },
  {
   "cell_type": "code",
   "execution_count": null,
   "metadata": {
    "vscode": {
     "languageId": "commonlisp"
    }
   },
   "outputs": [
    {
     "data": {
      "text/plain": [
       "PRIMO"
      ]
     },
     "execution_count": 3,
     "metadata": {},
     "output_type": "execute_result"
    },
    {
     "data": {
      "text/plain": [
       "(SETF PRIMO)"
      ]
     },
     "execution_count": 3,
     "metadata": {},
     "output_type": "execute_result"
    },
    {
     "name": "stderr",
     "output_type": "stream",
     "text": [
      "CASE-FAILURE: (A B C) fell through ETYPECASE expression. Wanted one of (SYMBOL SIMPLE-STRING).\n",
      "\n"
     ]
    },
    {
     "ename": "CASE-FAILURE",
     "evalue": "(A B C) fell through ETYPECASE expression. Wanted one of (SYMBOL SIMPLE-STRING).",
     "output_type": "error",
     "traceback": [
      "0: ((SETF VAR) 480 (A B C) 0)",
      "1: ((LAMBDA NIL :IN \"C:/Users/zhouj/AppData/Local/Temp/F1E38D6CB7B546582E173E82FFD83618-1557489425.lisp\"))",
      "2: (JUPYTER/COMMON-LISP::EVAL-AND-PRINT (LET ((X (QUOTE (A B C)))) (SETF (PRIMO X) 480) X) 2 NIL)",
      "3: ((:METHOD JUPYTER:EVALUATE-FORM (JUPYTER/COMMON-LISP:KERNEL T T T)) #<unused argument> #<FORM-TRACKING-STREAM for \"file C:\\\\Users\\\\zhouj\\\\AppData\\\\Local\\\\Temp\\\\F1E38D6CB7B546582E173E82FFD83618-1557489425.lisp\" {110260B6A3}> CELL:1557489425.LISP.NEWEST NIL #<unused argument> #<unused argument>)",
      "4: (JUPYTER/COMMON-LISP::REPL ; defun setf\n(defun primo (lst) (car lst))\n(defun (setf primo) (val lst) ; val: the new value, lst: arguments of primo\n  (setf (var lst) val))\n\n(let ((x '(a b c)))\n  (setf (primo x) 480)\n  x) CELL:1557489425.LISP.NEWEST NIL)",
      "5: ((:METHOD JUPYTER:EVALUATE-CODE (JUPYTER/COMMON-LISP:KERNEL T)) #<unused argument> ; defun setf\n(defun primo (lst) (car lst))\n(defun (setf primo) (val lst) ; val: the new value, lst: arguments of primo\n  (setf (var lst) val))\n\n(let ((x '(a b c)))\n  (setf (primo x) 480)\n  x) CELL:1557489425.LISP.NEWEST NIL)",
      "6: (JUPYTER::HANDLE-EXECUTE-REQUEST)",
      "7: (JUPYTER::RUN-SHELL #<KERNEL {1102892B73}>)",
      "8: ((LABELS BORDEAUX-THREADS::%BINDING-DEFAULT-SPECIALS-WRAPPER :IN BORDEAUX-THREADS::BINDING-DEFAULT-SPECIALS))",
      "9: ((FLET SB-UNIX::BODY :IN SB-THREAD::RUN))",
      "10: ((FLET \"WITHOUT-INTERRUPTS-BODY-\" :IN SB-THREAD::RUN))",
      "11: ((FLET SB-UNIX::BODY :IN SB-THREAD::RUN))",
      "12: ((FLET \"WITHOUT-INTERRUPTS-BODY-\" :IN SB-THREAD::RUN))",
      "13: (SB-THREAD::RUN)",
      "14: (\"foreign function: #x140045AB5\")",
      "15: (\"foreign function: #x14000A14A\")"
     ]
    }
   ],
   "source": [
    "; defun setf\n",
    "(defun primo (lst) (car lst))\n",
    "(defun (setf primo) (val lst) ; val: the new value, lst: arguments of primo\n",
    "  (setf (car lst) val))\n",
    "\n",
    "(let ((x '(a b c)))\n",
    "  (setf (primo x) 480)\n",
    "  x)"
   ]
  },
  {
   "cell_type": "code",
   "execution_count": 1,
   "metadata": {
    "vscode": {
     "languageId": "commonlisp"
    }
   },
   "outputs": [
    {
     "data": {
      "text/plain": [
       "FOO"
      ]
     },
     "execution_count": 1,
     "metadata": {},
     "output_type": "execute_result"
    },
    {
     "data": {
      "text/plain": [
       "\"Implements an enhanced paradigm of diversity.\""
      ]
     },
     "execution_count": 1,
     "metadata": {},
     "output_type": "execute_result"
    }
   ],
   "source": [
    "; function's documentation string\n",
    "(defun foo (x)\n",
    "  \"Implements an enhanced paradigm of diversity.\"\n",
    "  x)\n",
    "\n",
    "(documentation 'foo 'function)"
   ]
  },
  {
   "cell_type": "markdown",
   "metadata": {},
   "source": [
    "# Local Functions"
   ]
  },
  {
   "cell_type": "code",
   "execution_count": 3,
   "metadata": {
    "vscode": {
     "languageId": "commonlisp"
    }
   },
   "outputs": [
    {
     "data": {
      "text/plain": [
       "(A . 13)"
      ]
     },
     "execution_count": 3,
     "metadata": {},
     "output_type": "execute_result"
    }
   ],
   "source": [
    "; labels\n",
    "(labels ((add10 (x) (+ x 10)) ; (name parameters . body)\n",
    "         (consa (x) (cons 'a x)))\n",
    "  (consa (add10 3)))"
   ]
  },
  {
   "cell_type": "code",
   "execution_count": 5,
   "metadata": {
    "vscode": {
     "languageId": "commonlisp"
    }
   },
   "outputs": [
    {
     "data": {
      "text/plain": [
       "3"
      ]
     },
     "execution_count": 5,
     "metadata": {},
     "output_type": "execute_result"
    }
   ],
   "source": [
    "; refer to other functions in labels\n",
    "(labels ((len (lst)\n",
    "              (if (null lst)\n",
    "                  0\n",
    "                  (+ (len (cdr lst)) 1)))) ; refer self\n",
    "  (len '(a b c)))"
   ]
  },
  {
   "cell_type": "markdown",
   "metadata": {},
   "source": [
    "# Parameter Lists"
   ]
  },
  {
   "cell_type": "code",
   "execution_count": 6,
   "metadata": {
    "vscode": {
     "languageId": "commonlisp"
    }
   },
   "outputs": [
    {
     "data": {
      "text/plain": [
       "OUR-FUNCALL"
      ]
     },
     "execution_count": 6,
     "metadata": {},
     "output_type": "execute_result"
    }
   ],
   "source": [
    "; &rest\n",
    "(defun our-funcall (fn &rest args)\n",
    "  (apply fn args))"
   ]
  },
  {
   "cell_type": "code",
   "execution_count": 7,
   "metadata": {
    "vscode": {
     "languageId": "commonlisp"
    }
   },
   "outputs": [
    {
     "data": {
      "text/plain": [
       "PHILOSOPH"
      ]
     },
     "execution_count": 7,
     "metadata": {},
     "output_type": "execute_result"
    },
    {
     "data": {
      "text/plain": [
       "(DEATH IS NIL)"
      ]
     },
     "execution_count": 7,
     "metadata": {},
     "output_type": "execute_result"
    },
    {
     "data": {
      "text/plain": [
       "PHILOSOPH2"
      ]
     },
     "execution_count": 7,
     "metadata": {},
     "output_type": "execute_result"
    },
    {
     "data": {
      "text/plain": [
       "(DEATH IS FUN)"
      ]
     },
     "execution_count": 7,
     "metadata": {},
     "output_type": "execute_result"
    }
   ],
   "source": [
    "; &optional\n",
    "(defun philosoph (thing &optional property)\n",
    "  (list thing 'is property))\n",
    "\n",
    "(philosoph 'death)\n",
    "\n",
    "(defun philosoph2 (thing &optional (property 'fun)) ; with default value: can be any Lisp expression\n",
    "  (list thing 'is property))\n",
    "\n",
    "(philosoph2 'death)"
   ]
  },
  {
   "cell_type": "code",
   "execution_count": 8,
   "metadata": {
    "vscode": {
     "languageId": "commonlisp"
    }
   },
   "outputs": [
    {
     "data": {
      "text/plain": [
       "KEYLIST"
      ]
     },
     "execution_count": 8,
     "metadata": {},
     "output_type": "execute_result"
    },
    {
     "data": {
      "text/plain": [
       "(1 NIL 2 NIL)"
      ]
     },
     "execution_count": 8,
     "metadata": {},
     "output_type": "execute_result"
    },
    {
     "data": {
      "text/plain": [
       "(1 2 3 NIL)"
      ]
     },
     "execution_count": 8,
     "metadata": {},
     "output_type": "execute_result"
    },
    {
     "data": {
      "text/plain": [
       "OUR-ADJOIN"
      ]
     },
     "execution_count": 8,
     "metadata": {},
     "output_type": "execute_result"
    }
   ],
   "source": [
    "; &key\n",
    "(defun keylist (a &key x y z)\n",
    "  (list a x y z))\n",
    "\n",
    "(keylist 1 :y 2)\n",
    "(keylist 1 :y 3 :x 2)\n",
    "\n",
    "; collected in rest parameters\n",
    "(defun our-adjoin (obj lst &rest args)\n",
    "  (if (apply #'member obj lst args)\n",
    "      lst\n",
    "      (cons obj lst)))"
   ]
  },
  {
   "cell_type": "code",
   "execution_count": 10,
   "metadata": {
    "vscode": {
     "languageId": "commonlisp"
    }
   },
   "outputs": [
    {
     "data": {
      "text/plain": [
       "(3 NIL (A))"
      ]
     },
     "execution_count": 10,
     "metadata": {},
     "output_type": "execute_result"
    }
   ],
   "source": [
    "; with destructuring-bind\n",
    "(destructuring-bind ((&key w x) &rest y)\n",
    "    '((:w 3) a)\n",
    "  (list w x y))"
   ]
  },
  {
   "cell_type": "markdown",
   "metadata": {},
   "source": [
    "# Example: Utilities"
   ]
  },
  {
   "cell_type": "code",
   "execution_count": 14,
   "metadata": {
    "vscode": {
     "languageId": "commonlisp"
    }
   },
   "outputs": [
    {
     "data": {
      "text/plain": [
       "SINGLE?"
      ]
     },
     "execution_count": 14,
     "metadata": {},
     "output_type": "execute_result"
    },
    {
     "data": {
      "text/plain": [
       "APPEND1"
      ]
     },
     "execution_count": 14,
     "metadata": {},
     "output_type": "execute_result"
    },
    {
     "data": {
      "text/plain": [
       "MAP-INT"
      ]
     },
     "execution_count": 14,
     "metadata": {},
     "output_type": "execute_result"
    },
    {
     "data": {
      "text/plain": [
       "FILTER"
      ]
     },
     "execution_count": 14,
     "metadata": {},
     "output_type": "execute_result"
    },
    {
     "data": {
      "text/plain": [
       "MOST"
      ]
     },
     "execution_count": 14,
     "metadata": {},
     "output_type": "execute_result"
    },
    {
     "name": "stdout",
     "output_type": "stream",
     "text": [
      "SB-KERNEL:REDEFINITION-WITH-DEFUN: redefining COMMON-LISP-USER::SINGLE? in DEFUN\n",
      "SB-KERNEL:REDEFINITION-WITH-DEFUN: redefining COMMON-LISP-USER::APPEND1 in DEFUN\n",
      "SB-KERNEL:REDEFINITION-WITH-DEFUN: redefining COMMON-LISP-USER::MAP-INT in DEFUN\n",
      "SB-KERNEL:REDEFINITION-WITH-DEFUN: redefining COMMON-LISP-USER::FILTER in DEFUN\n",
      "SB-KERNEL:REDEFINITION-WITH-DEFUN: redefining COMMON-LISP-USER::MOST in DEFUN\n"
     ]
    }
   ],
   "source": [
    "; utilities: operators written to augment Lisp\n",
    "\n",
    "(defun single? (lst)\n",
    "  (and (consp lst) (null (cdr lst))))\n",
    "\n",
    "(defun append1 (lst obj)\n",
    "  (append lst (list obj)))\n",
    "\n",
    "(defun map-int (fn n)\n",
    "  (let ((acc nil))\n",
    "    (dotimes (i n)\n",
    "      (push (funcall fn i) acc))\n",
    "    (nreverse acc)))\n",
    "\n",
    "(defun filter (fn lst)\n",
    "  (let ((acc nil))\n",
    "    (dolist (x lst)\n",
    "      (let ((val (funcall fn x)))\n",
    "        (if val (push val acc))))\n",
    "    (nreverse acc)))\n",
    "\n",
    "(defun most (fn lst)\n",
    "  (if (null lst)\n",
    "      (values nil nil)\n",
    "      (let* ((wins (car lst))\n",
    "             (max (funcall fn wins)))\n",
    "        (dolist (obj (cdr lst))\n",
    "          (let ((score (funcall fn obj)))\n",
    "            (when (> score max)\n",
    "                  (setf wins obj\n",
    "                    max score))))\n",
    "        (values wins max))))"
   ]
  },
  {
   "cell_type": "code",
   "execution_count": 17,
   "metadata": {
    "vscode": {
     "languageId": "commonlisp"
    }
   },
   "outputs": [
    {
     "data": {
      "text/plain": [
       "T"
      ]
     },
     "execution_count": 17,
     "metadata": {},
     "output_type": "execute_result"
    },
    {
     "data": {
      "text/plain": [
       "(A B C D)"
      ]
     },
     "execution_count": 17,
     "metadata": {},
     "output_type": "execute_result"
    },
    {
     "data": {
      "text/plain": [
       "(0 1 2 3 4 5 6 7 8 9)"
      ]
     },
     "execution_count": 17,
     "metadata": {},
     "output_type": "execute_result"
    },
    {
     "data": {
      "text/plain": [
       "(43 8 76 58 15 0 69 76 38 91)"
      ]
     },
     "execution_count": 17,
     "metadata": {},
     "output_type": "execute_result"
    },
    {
     "data": {
      "text/plain": [
       "(12 14 16)"
      ]
     },
     "execution_count": 17,
     "metadata": {},
     "output_type": "execute_result"
    },
    {
     "data": {
      "text/plain": [
       "(A B C)"
      ]
     },
     "execution_count": 17,
     "metadata": {},
     "output_type": "execute_result"
    },
    {
     "data": {
      "text/plain": [
       "3"
      ]
     },
     "execution_count": 17,
     "metadata": {},
     "output_type": "execute_result"
    }
   ],
   "source": [
    "; tests\n",
    "(single? '(a))\n",
    "(append1 '(a b c) 'd)\n",
    "(map-int #'identity 10)\n",
    "(map-int #'(lambda (x)\n",
    "             (declare (ignore x))\n",
    "             (random 100))\n",
    "         10)\n",
    "(filter #'(lambda (x) (and (evenp x) (+ x 10)))\n",
    "        '(1 2 3 4 5 6 7))\n",
    "(most #'length '((a b) (a b c) (a)))"
   ]
  },
  {
   "cell_type": "markdown",
   "metadata": {},
   "source": [
    "# Closures"
   ]
  },
  {
   "cell_type": "code",
   "execution_count": 18,
   "metadata": {
    "vscode": {
     "languageId": "commonlisp"
    }
   },
   "outputs": [
    {
     "data": {
      "text/plain": [
       "COMBINER"
      ]
     },
     "execution_count": 18,
     "metadata": {},
     "output_type": "execute_result"
    },
    {
     "data": {
      "text/plain": [
       "COMBINE"
      ]
     },
     "execution_count": 18,
     "metadata": {},
     "output_type": "execute_result"
    },
    {
     "data": {
      "text/plain": [
       "5"
      ]
     },
     "execution_count": 18,
     "metadata": {},
     "output_type": "execute_result"
    },
    {
     "data": {
      "text/plain": [
       "(A B C D)"
      ]
     },
     "execution_count": 18,
     "metadata": {},
     "output_type": "execute_result"
    }
   ],
   "source": [
    "; return function as the value of an expression\n",
    "(defun combiner (x)\n",
    "  (typecase x\n",
    "    (number #'+)\n",
    "    (list #'append)\n",
    "    (t #'list)))\n",
    "\n",
    "(defun combine (&rest args)\n",
    "  (apply (combiner (car args)) args))\n",
    "\n",
    "(combine 2 3)\n",
    "(combine '(a b) '(c d))"
   ]
  },
  {
   "cell_type": "code",
   "execution_count": 19,
   "metadata": {
    "vscode": {
     "languageId": "commonlisp"
    }
   },
   "outputs": [
    {
     "data": {
      "text/plain": [
       "#<FUNCTION (LAMBDA (X)\n",
       "             :IN\n",
       "             \"C:/Users/zhouj/AppData/Local/Temp/01C19F8EDF9B4FA79A5493014504462A-3326238223.lisp\") {1000FAED9B}>"
      ]
     },
     "execution_count": 19,
     "metadata": {},
     "output_type": "execute_result"
    },
    {
     "data": {
      "text/plain": [
       "5"
      ]
     },
     "execution_count": 19,
     "metadata": {},
     "output_type": "execute_result"
    },
    {
     "name": "stdout",
     "output_type": "stream",
     "text": [
      "SIMPLE-WARNING: undefined variable: COMMON-LISP-USER::FN\n",
      "SIMPLE-WARNING: undefined variable: COMMON-LISP-USER::FN\n"
     ]
    }
   ],
   "source": [
    "; closure: a function that refers to a free lexical variable.\n",
    "; free varaiable: a variable defined outside of the function\n",
    "(setf fn (let ((i 3))\n",
    "           #'(lambda (x) (+ x i)))) ; refer i\n",
    "\n",
    "(funcall fn 2)"
   ]
  },
  {
   "cell_type": "code",
   "execution_count": 21,
   "metadata": {
    "vscode": {
     "languageId": "commonlisp"
    }
   },
   "outputs": [
    {
     "data": {
      "text/plain": [
       "ADD-TO-LIST"
      ]
     },
     "execution_count": 21,
     "metadata": {},
     "output_type": "execute_result"
    },
    {
     "data": {
      "text/plain": [
       "MAKE-ADDER"
      ]
     },
     "execution_count": 21,
     "metadata": {},
     "output_type": "execute_result"
    },
    {
     "data": {
      "text/plain": [
       "PN"
      ]
     },
     "execution_count": 21,
     "metadata": {},
     "output_type": "execute_result"
    },
    {
     "data": {
      "text/plain": [
       "NIL"
      ]
     },
     "execution_count": 21,
     "metadata": {},
     "output_type": "execute_result"
    },
    {
     "name": "stdout",
     "output_type": "stream",
     "text": [
      "SB-KERNEL:REDEFINITION-WITH-DEFUN: redefining COMMON-LISP-USER::ADD-TO-LIST in DEFUN\n",
      "SB-KERNEL:REDEFINITION-WITH-DEFUN: redefining COMMON-LISP-USER::MAKE-ADDER in DEFUN\n",
      "5 \n",
      "29 \n"
     ]
    }
   ],
   "source": [
    "(defun add-to-list (num lst)\n",
    "  (mapcar #'(lambda (x) (+ x num))\n",
    "    lst))\n",
    "\n",
    "(defun make-adder (n)\n",
    "  #'(lambda (x) (+ x n)))\n",
    "\n",
    "; TODO: put utilities function into a package\n",
    "(defun pn (o)\n",
    "  (format t \"~A ~%\" o))\n",
    "\n",
    "(let ((add3 (make-adder 3))\n",
    "      (add27 (make-adder 27)))\n",
    "  (pn (funcall add3 2))\n",
    "  (pn (funcall add27 2)))"
   ]
  },
  {
   "cell_type": "code",
   "execution_count": 2,
   "metadata": {
    "vscode": {
     "languageId": "commonlisp"
    }
   },
   "outputs": [
    {
     "data": {
      "text/plain": [
       "(1 2 0 1)"
      ]
     },
     "execution_count": 2,
     "metadata": {},
     "output_type": "execute_result"
    }
   ],
   "source": [
    "; multiple closures share variables\n",
    "(let ((counter 0))\n",
    "  (defun ex-reset ()\n",
    "    (setf counter 0))\n",
    "  (defun ex-stamp ()\n",
    "    (setf counter (+ counter 1)))\n",
    "  (list (ex-stamp) (ex-stamp) (ex-reset) (ex-stamp)))"
   ]
  },
  {
   "cell_type": "code",
   "execution_count": 3,
   "metadata": {
    "vscode": {
     "languageId": "commonlisp"
    }
   },
   "outputs": [
    {
     "data": {
      "text/plain": [
       "\"Reset the counters for all profiled functions.\""
      ]
     },
     "execution_count": 3,
     "metadata": {},
     "output_type": "execute_result"
    }
   ],
   "source": [
    "(documentation #'reset 'function)"
   ]
  },
  {
   "cell_type": "code",
   "execution_count": 4,
   "metadata": {
    "vscode": {
     "languageId": "commonlisp"
    }
   },
   "outputs": [
    {
     "data": {
      "text/plain": [
       "OUR-COMPLEMENT"
      ]
     },
     "execution_count": 4,
     "metadata": {},
     "output_type": "execute_result"
    },
    {
     "data": {
      "text/plain": [
       "(NIL T NIL T NIL T)"
      ]
     },
     "execution_count": 4,
     "metadata": {},
     "output_type": "execute_result"
    },
    {
     "data": {
      "text/plain": [
       "(NIL T NIL T NIL T)"
      ]
     },
     "execution_count": 4,
     "metadata": {},
     "output_type": "execute_result"
    }
   ],
   "source": [
    "(defun our-complement (f)\n",
    "  #'(lambda (&rest args) (not (apply f args))))\n",
    "\n",
    "(mapcar (complement #'oddp) '(1 2 3 4 5 6))\n",
    "(mapcar (our-complement #'oddp) '(1 2 3 4 5 6))"
   ]
  },
  {
   "cell_type": "markdown",
   "metadata": {},
   "source": [
    "# Example: Function Builders"
   ]
  },
  {
   "cell_type": "code",
   "execution_count": 5,
   "metadata": {
    "vscode": {
     "languageId": "commonlisp"
    }
   },
   "outputs": [
    {
     "data": {
      "text/plain": [
       "COMPOSE"
      ]
     },
     "execution_count": 5,
     "metadata": {},
     "output_type": "execute_result"
    },
    {
     "data": {
      "text/plain": [
       "((2) (3) (4) (5))"
      ]
     },
     "execution_count": 5,
     "metadata": {},
     "output_type": "execute_result"
    }
   ],
   "source": [
    "(defun compose (&rest fns)\n",
    "  (destructuring-bind (fn1 . rest) (reverse fns)\n",
    "    #'(lambda (&rest args)\n",
    "        (reduce #'(lambda (v f) (funcall f v))\n",
    "          rest\n",
    "          :initial-value (apply fn1 args)))))\n",
    "\n",
    "(mapcar (compose #'list #'round #'sqrt)\n",
    "    '(4 9 16 25))"
   ]
  },
  {
   "cell_type": "code",
   "execution_count": 8,
   "metadata": {
    "vscode": {
     "languageId": "commonlisp"
    }
   },
   "outputs": [
    {
     "data": {
      "text/plain": [
       "DISJOIN"
      ]
     },
     "execution_count": 8,
     "metadata": {},
     "output_type": "execute_result"
    },
    {
     "data": {
      "text/plain": [
       "(T NIL T T)"
      ]
     },
     "execution_count": 8,
     "metadata": {},
     "output_type": "execute_result"
    },
    {
     "data": {
      "text/plain": [
       "CONJOIN"
      ]
     },
     "execution_count": 8,
     "metadata": {},
     "output_type": "execute_result"
    },
    {
     "data": {
      "text/plain": [
       "(NIL NIL NIL T)"
      ]
     },
     "execution_count": 8,
     "metadata": {},
     "output_type": "execute_result"
    },
    {
     "name": "stdout",
     "output_type": "stream",
     "text": [
      "SB-KERNEL:REDEFINITION-WITH-DEFUN: redefining COMMON-LISP-USER::DISJOIN in DEFUN\n",
      "SB-KERNEL:REDEFINITION-WITH-DEFUN: redefining COMMON-LISP-USER::CONJOIN in DEFUN\n"
     ]
    }
   ],
   "source": [
    "; return a predicate that return true when *any* of the predicates return true\n",
    "(defun disjoin (fn &rest fns)\n",
    "  (if (null fns)\n",
    "      fn\n",
    "      (let ((disj (apply #'disjoin fns)))\n",
    "        #'(lambda (&rest args)\n",
    "            (or (apply fn args) (apply disj args))))))\n",
    "(mapcar (disjoin #'integerp #'symbolp) '(a \"a\" 2 3))\n",
    "\n",
    "; return a predicate that return true when *allf the predicates return true\n",
    "(defun conjoin (fn &rest fns)\n",
    "  (if (null fns)\n",
    "      fn\n",
    "      (let ((conj (apply #'conjoin fns)))\n",
    "        #'(lambda (&rest args)\n",
    "            (and (apply fn args) (apply conj args))))))\n",
    "(mapcar (conjoin #'integerp #'oddp) '(a \"a\" 2 3))"
   ]
  },
  {
   "cell_type": "code",
   "execution_count": 9,
   "metadata": {
    "vscode": {
     "languageId": "commonlisp"
    }
   },
   "outputs": [
    {
     "data": {
      "text/plain": [
       "CURRY"
      ]
     },
     "execution_count": 9,
     "metadata": {},
     "output_type": "execute_result"
    },
    {
     "data": {
      "text/plain": [
       "1"
      ]
     },
     "execution_count": 9,
     "metadata": {},
     "output_type": "execute_result"
    },
    {
     "data": {
      "text/plain": [
       "RCURRY"
      ]
     },
     "execution_count": 9,
     "metadata": {},
     "output_type": "execute_result"
    },
    {
     "data": {
      "text/plain": [
       "-1"
      ]
     },
     "execution_count": 9,
     "metadata": {},
     "output_type": "execute_result"
    }
   ],
   "source": [
    "; curry, right curry\n",
    "(defun curry (fn &rest args)\n",
    "  #'(lambda (&rest args2)\n",
    "      (apply fn (append args args2))))\n",
    "(funcall (curry #'- 3) 2)\n",
    "\n",
    "(defun rcurry (fn &rest args)\n",
    "  #'(lambda (&rest args2)\n",
    "      (apply fn (append args2 args))))\n",
    "(funcall (rcurry #'- 3) 2)\n"
   ]
  },
  {
   "cell_type": "code",
   "execution_count": 10,
   "metadata": {
    "vscode": {
     "languageId": "commonlisp"
    }
   },
   "outputs": [
    {
     "data": {
      "text/plain": [
       "ALWAYS"
      ]
     },
     "execution_count": 10,
     "metadata": {},
     "output_type": "execute_result"
    },
    {
     "data": {
      "text/plain": [
       "(3 3 3 3)"
      ]
     },
     "execution_count": 10,
     "metadata": {},
     "output_type": "execute_result"
    },
    {
     "data": {
      "text/plain": [
       "(3 3 3 3)"
      ]
     },
     "execution_count": 10,
     "metadata": {},
     "output_type": "execute_result"
    },
    {
     "name": "stdout",
     "output_type": "stream",
     "text": [
      "SB-INT:SIMPLE-STYLE-WARNING: The variable ARGS is defined but never used.\n"
     ]
    }
   ],
   "source": [
    "; same as constantly\n",
    "(defun always (x) #'(lambda (&rest args) x))\n",
    "(mapcar (constantly 3) '(a b c d))\n",
    "(mapcar (always 3) '(a b c d))"
   ]
  },
  {
   "cell_type": "markdown",
   "metadata": {},
   "source": [
    "# Dynamic Scope"
   ]
  },
  {
   "cell_type": "code",
   "execution_count": 11,
   "metadata": {
    "vscode": {
     "languageId": "commonlisp"
    }
   },
   "outputs": [
    {
     "data": {
      "text/plain": [
       "FOO"
      ]
     },
     "execution_count": 11,
     "metadata": {},
     "output_type": "execute_result"
    },
    {
     "data": {
      "text/plain": [
       "10"
      ]
     },
     "execution_count": 11,
     "metadata": {},
     "output_type": "execute_result"
    },
    {
     "name": "stdout",
     "output_type": "stream",
     "text": [
      "SB-INT:SIMPLE-STYLE-WARNING: The variable X is defined but never used.\n"
     ]
    }
   ],
   "source": [
    "(let ((x 10))\n",
    "  (defun foo ()\n",
    "    x))\n",
    "\n",
    "(let ((x 20)) (foo))"
   ]
  },
  {
   "cell_type": "code",
   "execution_count": 15,
   "metadata": {
    "vscode": {
     "languageId": "commonlisp"
    }
   },
   "outputs": [
    {
     "data": {
      "text/plain": [
       "FOO"
      ]
     },
     "execution_count": 15,
     "metadata": {},
     "output_type": "execute_result"
    },
    {
     "data": {
      "text/plain": [
       "20"
      ]
     },
     "execution_count": 15,
     "metadata": {},
     "output_type": "execute_result"
    },
    {
     "name": "stdout",
     "output_type": "stream",
     "text": [
      "SB-INT:SIMPLE-STYLE-WARNING: The variable X is defined but never used.\n",
      "SB-KERNEL:REDEFINITION-WITH-DEFUN: redefining COMMON-LISP-USER::FOO in DEFUN\n"
     ]
    }
   ],
   "source": [
    "; declare, special\n",
    "(let ((x 10))\n",
    "  (defun foo ()\n",
    "    (declare (special x))\n",
    "    x))\n",
    "\n",
    "(let ((x 20))\n",
    "  (declare (special x))\n",
    "  (foo))"
   ]
  },
  {
   "cell_type": "code",
   "execution_count": 19,
   "metadata": {
    "vscode": {
     "languageId": "commonlisp"
    }
   },
   "outputs": [
    {
     "data": {
      "text/plain": [
       "30"
      ]
     },
     "execution_count": 19,
     "metadata": {},
     "output_type": "execute_result"
    },
    {
     "data": {
      "text/plain": [
       "FOO"
      ]
     },
     "execution_count": 19,
     "metadata": {},
     "output_type": "execute_result"
    },
    {
     "data": {
      "text/plain": [
       "30"
      ]
     },
     "execution_count": 19,
     "metadata": {},
     "output_type": "execute_result"
    },
    {
     "name": "stdout",
     "output_type": "stream",
     "text": [
      "SIMPLE-WARNING: undefined variable: COMMON-LISP-USER::X\n",
      "SB-INT:SIMPLE-STYLE-WARNING: The variable X is defined but never used.\n",
      "SB-KERNEL:REDEFINITION-WITH-DEFUN: redefining COMMON-LISP-USER::FOO in DEFUN\n"
     ]
    }
   ],
   "source": [
    "; global variables are implicitly special\n",
    "(setf x 30)\n",
    "\n",
    "(let ((x 10))\n",
    "  (defun foo ()\n",
    "    (declare (special x))\n",
    "    x))\n",
    "\n",
    "(foo)"
   ]
  },
  {
   "cell_type": "code",
   "execution_count": 20,
   "metadata": {
    "vscode": {
     "languageId": "commonlisp"
    }
   },
   "outputs": [
    {
     "data": {
      "text/plain": [
       "10"
      ]
     },
     "execution_count": 20,
     "metadata": {},
     "output_type": "execute_result"
    },
    {
     "data": {
      "text/plain": [
       "32"
      ]
     },
     "execution_count": 20,
     "metadata": {},
     "output_type": "execute_result"
    },
    {
     "name": "stdout",
     "output_type": "stream",
     "text": [
      "20"
     ]
    }
   ],
   "source": [
    "; 11 global variables control the way objects are printed.\n",
    "*print-base*\n",
    "\n",
    "(let ((*print-base* 16))\n",
    "  (princ 32))"
   ]
  },
  {
   "cell_type": "markdown",
   "metadata": {},
   "source": [
    "# Compilation"
   ]
  },
  {
   "cell_type": "code",
   "execution_count": 2,
   "metadata": {
    "vscode": {
     "languageId": "commonlisp"
    }
   },
   "outputs": [
    {
     "data": {
      "text/plain": [
       "FOO"
      ]
     },
     "execution_count": 2,
     "metadata": {},
     "output_type": "execute_result"
    },
    {
     "data": {
      "text/plain": [
       "T"
      ]
     },
     "execution_count": 2,
     "metadata": {},
     "output_type": "execute_result"
    },
    {
     "data": {
      "text/plain": [
       "FOO"
      ]
     },
     "execution_count": 2,
     "metadata": {},
     "output_type": "execute_result"
    },
    {
     "data": {
      "text/plain": [
       "NIL"
      ]
     },
     "execution_count": 2,
     "metadata": {},
     "output_type": "execute_result"
    },
    {
     "data": {
      "text/plain": [
       "NIL"
      ]
     },
     "execution_count": 2,
     "metadata": {},
     "output_type": "execute_result"
    },
    {
     "data": {
      "text/plain": [
       "T"
      ]
     },
     "execution_count": 2,
     "metadata": {},
     "output_type": "execute_result"
    },
    {
     "data": {
      "text/plain": [
       "NIL"
      ]
     },
     "execution_count": 2,
     "metadata": {},
     "output_type": "execute_result"
    }
   ],
   "source": [
    "; (compiled-function-p #'foo)\n",
    "(defun foo (x) (+ x 1))\n",
    "(compiled-function-p #'foo)\n",
    "\n",
    "(compile 'foo)\n",
    "(compiled-function-p #'foo)\n",
    "(compiled-function-p (foo 2))"
   ]
  },
  {
   "cell_type": "markdown",
   "metadata": {},
   "source": [
    "# Using Recursion"
   ]
  },
  {
   "cell_type": "code",
   "execution_count": 1,
   "metadata": {
    "vscode": {
     "languageId": "commonlisp"
    }
   },
   "outputs": [
    {
     "data": {
      "text/plain": [
       "FIB-R"
      ]
     },
     "execution_count": 1,
     "metadata": {},
     "output_type": "execute_result"
    }
   ],
   "source": [
    "; recursive\n",
    "(defun fib-r (n)\n",
    "  (if (<= n 1)\n",
    "      1\n",
    "      (+ (fib-r (- n 1))\n",
    "         (fib-r (- n 2)))))"
   ]
  },
  {
   "cell_type": "code",
   "execution_count": null,
   "metadata": {
    "vscode": {
     "languageId": "commonlisp"
    }
   },
   "outputs": [],
   "source": [
    "; (sb-profile:profile cl-user::fib-r)"
   ]
  },
  {
   "cell_type": "markdown",
   "metadata": {
    "vscode": {
     "languageId": "commonlisp"
    }
   },
   "source": [
    "; WARN: DOES NOT WORK on WINDOWS!!!\n",
    "```lisp\n",
    "(require :sb-sprof)\n",
    "(sb-sprof:with-profiling (:max-samples 1000\n",
    "                                       :report :flat\n",
    "                                       :loop nil)\n",
    "                         (fib-r 42))\n",
    "```\n",
    "\n",
    "```shell\n",
    "0] (sb-sprof:with-profiling (:max-samples 1000\n",
    "                                       :report :flat\n",
    "                                       :loop nil)\n",
    "                         (fib-r 26))\n",
    "\n",
    "WARNING:\n",
    "   No sampling progress; run too short, sampling frequency too low,\n",
    "   inappropriate set of sampled threads, or possibly a profiler bug.\n",
    "\n",
    "Number of samples:   0\n",
    "Sample interval:     0.01 seconds\n",
    "Total sampling time: 0.0 seconds\n",
    "Graph cycles:        0\n",
    "Sampled threads:\n",
    "\n",
    "           Self        Total        Cumul\n",
    "  Nr  Count     %  Count     %  Count     %    Calls  Function\n",
    "------------------------------------------------------------------------\n",
    "------------------------------------------------------------------------\n",
    "          0   0.0                                     elsewhere\n",
    "196418\n",
    "0] (sb-sprof:with-profiling (:max-samples 1000\n",
    "                                       :report :flat\n",
    "                                       :loop nil)\n",
    "                         (fib-r 42))\n",
    "\n",
    "Number of samples:   395\n",
    "Sample interval:     0.01 seconds\n",
    "Total sampling time: 3.9499998 seconds\n",
    "Graph cycles:        0\n",
    "Sampled threads:\n",
    "   #<THREAD tid=640 \"main thread\" RUNNING {1003F981D3}> (199744/1048576 bytes, 394 hash buckets)\n",
    "\n",
    "           Self        Total        Cumul\n",
    "  Nr  Count     %  Count     %  Count     %    Calls  Function\n",
    "------------------------------------------------------------------------\n",
    "   1    207  52.4    602 152.4    207  52.4        -  FIB-R\n",
    "   2    115  29.1    115  29.1    322  81.5        -  SB-KERNEL:TWO-ARG-<=\n",
    "   3     48  12.2     48  12.2    370  93.7        -  GENERIC--\n",
    "   4     25   6.3     25   6.3    395 100.0        -  GENERIC-+\n",
    "   5      0   0.0    395 100.0    395 100.0        -  SB-DEBUG::DEBUG-LOOP-FUN\n",
    "   6      0   0.0    395 100.0    395 100.0        -  INTERNAL-DEBUG\n",
    "   7      0   0.0    395 100.0    395 100.0        -  (FLET DEBUG :IN SB-DEBUG::%INVOKE-DEBUGGER)\n",
    "   8      0   0.0    395 100.0    395 100.0        -  SB-DEBUG::%INVOKE-DEBUGGER\n",
    "   9      0   0.0    395 100.0    395 100.0        -  (LAMBDA NIL :IN SB-DEBUG::FUNCALL-WITH-DEBUG-IO-SYNTAX)\n",
    "  10      0   0.0    395 100.0    395 100.0        -  SB-IMPL::CALL-WITH-SANE-IO-SYNTAX\n",
    "  11      0   0.0    395 100.0    395 100.0        -  (FLET \"THUNK\" :IN SB-DEBUG::FUNCALL-WITH-DEBUG-IO-SYNTAX)\n",
    "  12      0   0.0    395 100.0    395 100.0        -  SB-IMPL::%WITH-STANDARD-IO-SYNTAX\n",
    "  13      0   0.0    395 100.0    395 100.0        -  SB-DEBUG::FUNCALL-WITH-DEBUG-IO-SYNTAX\n",
    "  14      0   0.0    395 100.0    395 100.0        -  INVOKE-DEBUGGER\n",
    "  15      0   0.0    395 100.0    395 100.0        -  ERROR\n",
    "  16      0   0.0    395 100.0    395 100.0        -  SB-KERNEL:WITH-SIMPLE-CONDITION-RESTARTS\n",
    "  17      0   0.0    395 100.0    395 100.0        -  SB-IMPL::READER-FIND-PACKAGE\n",
    "  18      0   0.0    395 100.0    395 100.0        -  SB-IMPL::READ-TOKEN\n",
    "  19      0   0.0    395 100.0    395 100.0        -  SB-IMPL::READ-LIST\n",
    "  20      0   0.0    395 100.0    395 100.0        -  SB-IMPL::READ-MAYBE-NOTHING\n",
    "  21      0   0.0    395 100.0    395 100.0        -  SB-IMPL::%READ-PRESERVING-WHITESPACE\n",
    "  22      0   0.0    395 100.0    395 100.0        -  READ\n",
    "  23      0   0.0    395 100.0    395 100.0        -  SB-IMPL::REPL-READ-FORM-FUN\n",
    "  24      0   0.0    395 100.0    395 100.0        -  SB-IMPL::REPL-FUN\n",
    "  25      0   0.0    395 100.0    395 100.0        -  (LAMBDA NIL :IN SB-IMPL::TOPLEVEL-REPL)\n",
    "  26      0   0.0    395 100.0    395 100.0        -  SB-IMPL::%WITH-REBOUND-IO-SYNTAX\n",
    "  27      0   0.0    395 100.0    395 100.0        -  SB-IMPL::TOPLEVEL-REPL\n",
    "  28      0   0.0    395 100.0    395 100.0        -  SB-IMPL::TOPLEVEL-INIT\n",
    "  29      0   0.0    395 100.0    395 100.0        -  (FLET SB-UNIX::BODY :IN SB-IMPL::START-LISP)\n",
    "  30      0   0.0    395 100.0    395 100.0        -  (FLET \"WITHOUT-INTERRUPTS-BODY-3\" :IN SB-IMPL::START-LISP)\n",
    "  31      0   0.0    395 100.0    395 100.0        -  SB-IMPL::%START-LISP\n",
    "  32      0   0.0    395 100.0    395 100.0        -  foreign function call_into_lisp_\n",
    "  33      0   0.0    244  61.8    395 100.0        -  (LAMBDA (#:G125))\n",
    "  34      0   0.0    212  53.7    395 100.0        -  SB-SPROF::UNAVAILABLE-FRAMES\n",
    "  35      0   0.0    183  46.3    395 100.0        -  INTERACTIVE-EVAL\n",
    "  36      0   0.0    183  46.3    395 100.0        -  SB-DEBUG::DEBUG-EVAL-PRINT\n",
    "------------------------------------------------------------------------\n",
    "          0   0.0                                     elsewhere\n",
    "\n",
    "433494437\n",
    "```\n"
   ]
  },
  {
   "cell_type": "code",
   "execution_count": 7,
   "metadata": {
    "vscode": {
     "languageId": "commonlisp"
    }
   },
   "outputs": [
    {
     "data": {
      "text/plain": [
       "FIB-I"
      ]
     },
     "execution_count": 7,
     "metadata": {},
     "output_type": "execute_result"
    },
    {
     "data": {
      "text/plain": [
       "433494437"
      ]
     },
     "execution_count": 7,
     "metadata": {},
     "output_type": "execute_result"
    }
   ],
   "source": [
    "; iterative\n",
    "(defun fib-i (n)\n",
    "  (do ((i n (- i 1))\n",
    "       (f1 1 (+ f1 f2))\n",
    "       (f2 1 f1))\n",
    "      ((<= i 1) f1)))\n",
    "\n",
    "(fib-i 42)"
   ]
  },
  {
   "cell_type": "markdown",
   "metadata": {},
   "source": [
    "```shell\n",
    "0] (sb-sprof:with-profiling (:max-samples 1000\n",
    "                                       :report :flat\n",
    "                                       :loop nil)\n",
    "                         (fib-i 42))\n",
    "\n",
    "WARNING:\n",
    "   No sampling progress; run too short, sampling frequency too low,\n",
    "   inappropriate set of sampled threads, or possibly a profiler bug.\n",
    "\n",
    "Number of samples:   0\n",
    "Sample interval:     0.01 seconds\n",
    "Total sampling time: 0.0 seconds\n",
    "Graph cycles:        0\n",
    "Sampled threads:\n",
    "\n",
    "           Self        Total        Cumul\n",
    "  Nr  Count     %  Count     %  Count     %    Calls  Function\n",
    "------------------------------------------------------------------------\n",
    "------------------------------------------------------------------------\n",
    "          0   0.0                                     elsewhere\n",
    "433494437\n",
    "```"
   ]
  }
 ],
 "metadata": {
  "kernelspec": {
   "display_name": "Common Lisp",
   "language": "common-lisp",
   "name": "common-lisp"
  },
  "language_info": {
   "codemirror_mode": "text/x-common-lisp",
   "file_extension": ".lisp",
   "mimetype": "text/x-common-lisp",
   "name": "common-lisp",
   "pygments_lexer": "common-lisp",
   "version": "2.4.8"
  }
 },
 "nbformat": 4,
 "nbformat_minor": 2
}
