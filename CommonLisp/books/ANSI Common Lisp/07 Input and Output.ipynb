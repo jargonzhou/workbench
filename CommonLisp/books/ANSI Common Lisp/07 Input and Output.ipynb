{
 "cells": [
  {
   "cell_type": "markdown",
   "metadata": {},
   "source": [
    "# Streams"
   ]
  },
  {
   "cell_type": "code",
   "execution_count": 3,
   "metadata": {
    "vscode": {
     "languageId": "commonlisp"
    }
   },
   "outputs": [
    {
     "data": {
      "text/plain": [
       "#<JUPYTER::STDIN-STREAM {1100BA00A3}>"
      ]
     },
     "execution_count": 3,
     "metadata": {},
     "output_type": "execute_result"
    },
    {
     "data": {
      "text/plain": [
       "#<JUPYTER::IOPUB-STREAM {1100BA0093}>"
      ]
     },
     "execution_count": 3,
     "metadata": {},
     "output_type": "execute_result"
    }
   ],
   "source": [
    "*standard-input*\n",
    "*standard-output*"
   ]
  },
  {
   "cell_type": "code",
   "execution_count": 4,
   "metadata": {
    "vscode": {
     "languageId": "commonlisp"
    }
   },
   "outputs": [
    {
     "data": {
      "text/plain": [
       "#P\"myfile\""
      ]
     },
     "execution_count": 4,
     "metadata": {},
     "output_type": "execute_result"
    },
    {
     "data": {
      "text/plain": [
       "#<SB-SYS:FD-STREAM for \"file d:\\\\GoogleDrive\\\\code\\\\jupyter-notebooks\\\\CommonLisp\\\\books\\\\ANSI Common Lisp\\\\myfile\" {1102AD2823}>"
      ]
     },
     "execution_count": 4,
     "metadata": {},
     "output_type": "execute_result"
    },
    {
     "data": {
      "text/plain": [
       "NIL"
      ]
     },
     "execution_count": 4,
     "metadata": {},
     "output_type": "execute_result"
    },
    {
     "data": {
      "text/plain": [
       "T"
      ]
     },
     "execution_count": 4,
     "metadata": {},
     "output_type": "execute_result"
    },
    {
     "name": "stdout",
     "output_type": "stream",
     "text": [
      "SIMPLE-WARNING: undefined variable: COMMON-LISP-USER::PATH\n",
      "SIMPLE-WARNING: undefined variable: COMMON-LISP-USER::PATH\n",
      "SIMPLE-WARNING: undefined variable: COMMON-LISP-USER::STR\n",
      "SIMPLE-WARNING: undefined variable: COMMON-LISP-USER::STR\n",
      "SIMPLE-WARNING: undefined variable: COMMON-LISP-USER::STR\n"
     ]
    }
   ],
   "source": [
    "; pathname\n",
    "(setf path (make-pathname :name \"myfile\"))\n",
    "; open\n",
    "(setf str (open path :direction :output\n",
    "                :if-exists :supersede))\n",
    "\n",
    "(format str \"Something~%\")\n",
    "\n",
    "; close\n",
    "(close str)"
   ]
  },
  {
   "cell_type": "code",
   "execution_count": 5,
   "metadata": {
    "vscode": {
     "languageId": "commonlisp"
    }
   },
   "outputs": [
    {
     "data": {
      "text/plain": [
       "#<SB-SYS:FD-STREAM for \"file d:\\\\GoogleDrive\\\\code\\\\jupyter-notebooks\\\\CommonLisp\\\\books\\\\ANSI Common Lisp\\\\myfile\" {1102B8B6A3}>"
      ]
     },
     "execution_count": 5,
     "metadata": {},
     "output_type": "execute_result"
    },
    {
     "data": {
      "text/plain": [
       "\"Something\""
      ]
     },
     "execution_count": 5,
     "metadata": {},
     "output_type": "execute_result"
    },
    {
     "data": {
      "text/plain": [
       "NIL"
      ]
     },
     "execution_count": 5,
     "metadata": {},
     "output_type": "execute_result"
    },
    {
     "data": {
      "text/plain": [
       "T"
      ]
     },
     "execution_count": 5,
     "metadata": {},
     "output_type": "execute_result"
    },
    {
     "name": "stdout",
     "output_type": "stream",
     "text": [
      "SIMPLE-WARNING: undefined variable: COMMON-LISP-USER::PATH\n",
      "SIMPLE-WARNING: undefined variable: COMMON-LISP-USER::STR\n",
      "SIMPLE-WARNING: undefined variable: COMMON-LISP-USER::STR\n",
      "SIMPLE-WARNING: undefined variable: COMMON-LISP-USER::STR\n"
     ]
    }
   ],
   "source": [
    "; read file\n",
    "(setf str (open path :direction :input))\n",
    "(read-line str)\n",
    "\n",
    "(close str)"
   ]
  },
  {
   "cell_type": "code",
   "execution_count": 6,
   "metadata": {
    "vscode": {
     "languageId": "commonlisp"
    }
   },
   "outputs": [
    {
     "data": {
      "text/plain": [
       "T"
      ]
     },
     "execution_count": 6,
     "metadata": {},
     "output_type": "execute_result"
    },
    {
     "name": "stdout",
     "output_type": "stream",
     "text": [
      "SIMPLE-WARNING: undefined variable: COMMON-LISP-USER::PATH\n"
     ]
    }
   ],
   "source": [
    "; delete-file\n",
    "(delete-file path)"
   ]
  },
  {
   "cell_type": "code",
   "execution_count": 8,
   "metadata": {
    "vscode": {
     "languageId": "commonlisp"
    }
   },
   "outputs": [
    {
     "data": {
      "text/plain": [
       "NIL"
      ]
     },
     "execution_count": 8,
     "metadata": {},
     "output_type": "execute_result"
    },
    {
     "data": {
      "text/plain": [
       "\"Something\""
      ]
     },
     "execution_count": 8,
     "metadata": {},
     "output_type": "execute_result"
    },
    {
     "data": {
      "text/plain": [
       "NIL"
      ]
     },
     "execution_count": 8,
     "metadata": {},
     "output_type": "execute_result"
    },
    {
     "data": {
      "text/plain": [
       "T"
      ]
     },
     "execution_count": 8,
     "metadata": {},
     "output_type": "execute_result"
    },
    {
     "name": "stdout",
     "output_type": "stream",
     "text": [
      "SIMPLE-WARNING: undefined variable: COMMON-LISP-USER::PATH\n",
      "SIMPLE-WARNING: undefined variable: COMMON-LISP-USER::PATH\n",
      "SIMPLE-WARNING: undefined variable: COMMON-LISP-USER::PATH\n"
     ]
    }
   ],
   "source": [
    "; with-open-file\n",
    "(with-open-file (str path :direction :output\n",
    "                     :if-exists :supersede)\n",
    "  (format str \"Something~%\"))\n",
    "\n",
    "(with-open-file (str path :direction :input)\n",
    "  (read-line str))\n",
    "\n",
    "(delete-file path)"
   ]
  },
  {
   "cell_type": "markdown",
   "metadata": {},
   "source": [
    "# Input"
   ]
  },
  {
   "cell_type": "code",
   "execution_count": 9,
   "metadata": {
    "vscode": {
     "languageId": "commonlisp"
    }
   },
   "outputs": [
    {
     "name": "stdout",
     "output_type": "stream",
     "text": [
      "Please enter your name: "
     ]
    },
    {
     "data": {
      "text/plain": [
       "\"Rodrigo de Bivar\""
      ]
     },
     "execution_count": 9,
     "metadata": {},
     "output_type": "execute_result"
    },
    {
     "data": {
      "text/plain": [
       "NIL"
      ]
     },
     "execution_count": 9,
     "metadata": {},
     "output_type": "execute_result"
    }
   ],
   "source": [
    "; read-line\n",
    "(progn\n",
    " (format t \"Please enter your name: \")\n",
    " (read-line))"
   ]
  },
  {
   "cell_type": "code",
   "execution_count": 10,
   "metadata": {
    "vscode": {
     "languageId": "commonlisp"
    }
   },
   "outputs": [
    {
     "data": {
      "text/plain": [
       "PSEUDO-CAT"
      ]
     },
     "execution_count": 10,
     "metadata": {},
     "output_type": "execute_result"
    },
    {
     "data": {
      "text/plain": [
       "NIL"
      ]
     },
     "execution_count": 10,
     "metadata": {},
     "output_type": "execute_result"
    },
    {
     "name": "stdout",
     "output_type": "stream",
     "text": [
      "The quick brown fox jumps over the lazy dog.\n"
     ]
    }
   ],
   "source": [
    "(defun pseudo-cat (file)\n",
    "  (with-open-file (str file :direction :input)\n",
    "    (do ((line (read-line str nil 'eof)\n",
    "               (read-line str nil 'eof)))\n",
    "        ((eql line 'eof))\n",
    "      (format t \"~A~%\" line))))\n",
    "\n",
    "(pseudo-cat (make-pathname :name \"sample.txt\"))"
   ]
  },
  {
   "cell_type": "code",
   "execution_count": 11,
   "metadata": {
    "vscode": {
     "languageId": "commonlisp"
    }
   },
   "outputs": [
    {
     "data": {
      "text/plain": [
       "(A B C)"
      ]
     },
     "execution_count": 11,
     "metadata": {},
     "output_type": "execute_result"
    }
   ],
   "source": [
    "; read\n",
    "(read)"
   ]
  },
  {
   "cell_type": "code",
   "execution_count": 12,
   "metadata": {
    "vscode": {
     "languageId": "commonlisp"
    }
   },
   "outputs": [
    {
     "data": {
      "text/plain": [
       "A"
      ]
     },
     "execution_count": 12,
     "metadata": {},
     "output_type": "execute_result"
    },
    {
     "data": {
      "text/plain": [
       "2"
      ]
     },
     "execution_count": 12,
     "metadata": {},
     "output_type": "execute_result"
    }
   ],
   "source": [
    "; read-from-string\n",
    "(read-from-string \"a b c\")"
   ]
  },
  {
   "cell_type": "markdown",
   "metadata": {},
   "source": [
    "# Output"
   ]
  },
  {
   "cell_type": "code",
   "execution_count": 14,
   "metadata": {
    "vscode": {
     "languageId": "commonlisp"
    }
   },
   "outputs": [
    {
     "data": {
      "text/plain": [
       "\"Hello\""
      ]
     },
     "execution_count": 14,
     "metadata": {},
     "output_type": "execute_result"
    },
    {
     "data": {
      "text/plain": [
       "\"Hello\""
      ]
     },
     "execution_count": 14,
     "metadata": {},
     "output_type": "execute_result"
    },
    {
     "name": "stdout",
     "output_type": "stream",
     "text": [
      "\"Hello\"Hello"
     ]
    }
   ],
   "source": [
    "; prin1: output for programs\n",
    "; princ: output for people\n",
    "(prin1 \"Hello\")\n",
    "(princ \"Hello\")"
   ]
  },
  {
   "cell_type": "code",
   "execution_count": null,
   "metadata": {
    "vscode": {
     "languageId": "commonlisp"
    }
   },
   "outputs": [
    {
     "data": {
      "text/plain": [
       "\"Dear Mir. Malatesta,\n",
       " Our records indicate...\""
      ]
     },
     "execution_count": 15,
     "metadata": {},
     "output_type": "execute_result"
    }
   ],
   "source": [
    "; format\n",
    "; ~A: as princ\n",
    "(format nil \"Dear ~A,~% Our records indicate...\"\n",
    "  \"Mir. Malatesta\")"
   ]
  },
  {
   "cell_type": "code",
   "execution_count": 17,
   "metadata": {
    "vscode": {
     "languageId": "commonlisp"
    }
   },
   "outputs": [
    {
     "data": {
      "text/plain": [
       "NIL"
      ]
     },
     "execution_count": 17,
     "metadata": {},
     "output_type": "execute_result"
    },
    {
     "name": "stdout",
     "output_type": "stream",
     "text": [
      "\"z\" z"
     ]
    }
   ],
   "source": [
    "; ~S: as prin1\n",
    "(format t \"~S ~A\" \"z\" \"z\")"
   ]
  },
  {
   "cell_type": "code",
   "execution_count": 20,
   "metadata": {
    "vscode": {
     "languageId": "commonlisp"
    }
   },
   "outputs": [
    {
     "data": {
      "text/plain": [
       "\"     26.22\""
      ]
     },
     "execution_count": 20,
     "metadata": {},
     "output_type": "execute_result"
    },
    {
     "data": {
      "text/plain": [
       "\"26.22\""
      ]
     },
     "execution_count": 20,
     "metadata": {},
     "output_type": "execute_result"
    },
    {
     "data": {
      "text/plain": [
       "\"26.22\""
      ]
     },
     "execution_count": 20,
     "metadata": {},
     "output_type": "execute_result"
    }
   ],
   "source": [
    "; ~F\n",
    "(format nil \"~10,2,0,'*,' F\" 26.21875)\n",
    "(format nil \"~,2,,,F\" 26.21875) \n",
    "(format nil \"~,2F\" 26.21875) "
   ]
  },
  {
   "cell_type": "markdown",
   "metadata": {},
   "source": [
    "# Example: String Substitution"
   ]
  },
  {
   "cell_type": "code",
   "execution_count": null,
   "metadata": {
    "vscode": {
     "languageId": "commonlisp"
    }
   },
   "outputs": [
    {
     "data": {
      "text/plain": [
       "BUF"
      ]
     },
     "execution_count": 1,
     "metadata": {},
     "output_type": "execute_result"
    },
    {
     "data": {
      "text/plain": [
       "BREF"
      ]
     },
     "execution_count": 1,
     "metadata": {},
     "output_type": "execute_result"
    },
    {
     "data": {
      "text/plain": [
       "(SETF BREF)"
      ]
     },
     "execution_count": 1,
     "metadata": {},
     "output_type": "execute_result"
    },
    {
     "data": {
      "text/plain": [
       "NEW-BUF"
      ]
     },
     "execution_count": 1,
     "metadata": {},
     "output_type": "execute_result"
    },
    {
     "data": {
      "text/plain": [
       "BUF-INSERT"
      ]
     },
     "execution_count": 1,
     "metadata": {},
     "output_type": "execute_result"
    },
    {
     "data": {
      "text/plain": [
       "BUF-POP"
      ]
     },
     "execution_count": 1,
     "metadata": {},
     "output_type": "execute_result"
    },
    {
     "data": {
      "text/plain": [
       "BUF-NEXT"
      ]
     },
     "execution_count": 1,
     "metadata": {},
     "output_type": "execute_result"
    },
    {
     "data": {
      "text/plain": [
       "BUF-RESET"
      ]
     },
     "execution_count": 1,
     "metadata": {},
     "output_type": "execute_result"
    },
    {
     "data": {
      "text/plain": [
       "BUF-CLEAR"
      ]
     },
     "execution_count": 1,
     "metadata": {},
     "output_type": "execute_result"
    },
    {
     "data": {
      "text/plain": [
       "BUF-FLUSH"
      ]
     },
     "execution_count": 1,
     "metadata": {},
     "output_type": "execute_result"
    },
    {
     "data": {
      "text/plain": [
       "STREAM-SUBST"
      ]
     },
     "execution_count": 1,
     "metadata": {},
     "output_type": "execute_result"
    },
    {
     "data": {
      "text/plain": [
       "FILE-SUBST"
      ]
     },
     "execution_count": 1,
     "metadata": {},
     "output_type": "execute_result"
    }
   ],
   "source": [
    "; a ring buffer\n",
    "(defstruct buf\n",
    "  vec\n",
    "  (start -1)\n",
    "  (used -1)\n",
    "  (new -1)\n",
    "  (end -1))\n",
    "\n",
    "; return the element at index n in buf\n",
    "(defun bref (buf n)\n",
    "  (svref (buf-vec buf)\n",
    "         (mod n (length (buf-vec buf)))))\n",
    "\n",
    "(defun (setf bref) (val buf n)\n",
    "  (setf (svref (buf-vec buf)\n",
    "               (mod n (length (buf-vec buf))))\n",
    "    val))\n",
    "\n",
    "(defun new-buf (len)\n",
    "  (make-buf :vec (make-array len)))\n",
    "\n",
    "(defun buf-insert (x b)\n",
    "  (setf (bref b (incf (buf-end b))) x))\n",
    "\n",
    "(defun buf-pop (b)\n",
    "  (prog1\n",
    "      (bref b (incf (buf-start b)))\n",
    "    (setf (buf-used b) (buf-start b)\n",
    "      (buf-new b) (buf-end b))))\n",
    "\n",
    "(defun buf-next (b)\n",
    "  (when (< (buf-used b) (buf-new b))\n",
    "        (bref b (incf (buf-used b)))))\n",
    "\n",
    "(defun buf-reset (b)\n",
    "  (setf (buf-used b) (buf-start b)\n",
    "    (buf-new b) (buf-end b)))\n",
    "\n",
    "(defun buf-clear (b)\n",
    "  (setf (buf-used b) -1 (buf-start b) -1\n",
    "    (buf-new b) -1 (buf-end b) -1))\n",
    "\n",
    "(defun buf-flush (b str)\n",
    "  (do ((i (1+ (buf-used b)) (1+ i)))\n",
    "      ((> i (buf-end b)))\n",
    "    (princ (bref b i) str)))\n",
    "\n",
    "; substitute\n",
    "(defun stream-subst (old new in out)\n",
    "  (let* ((pos 0)\n",
    "         (len (length old))\n",
    "         (buf (new-buf len))\n",
    "         (from-buf nil))\n",
    "    (do ((c (read-char in nil :eof)\n",
    "            (or (setf from-buf (buf-next buf))\n",
    "                (read-char in nil :eof))))\n",
    "        ((eql c :eof))\n",
    "      (cond ((char= c (char old pos))\n",
    "              (incf pos)\n",
    "              (cond ((= pos len) ; 3\n",
    "                                (princ new out)\n",
    "                                (setf pos 0)\n",
    "                                (buf-clear buf))\n",
    "                    ((not from-buf) ; 2\n",
    "                                   (buf-insert c buf))))\n",
    "            ((zerop pos) ; 1\n",
    "                        (princ c out)\n",
    "                        (when from-buf\n",
    "                              (buf-pop buf)\n",
    "                              (buf-reset buf)))\n",
    "            (t ; 4\n",
    "              (unless from-buf\n",
    "                (buf-insert c buf))\n",
    "              (princ (buf-pop buf) out)\n",
    "              (buf-reset buf)\n",
    "              (setf pos 0))))\n",
    "    (buf-flush buf out)))\n",
    "\n",
    "(defun file-subst (old new file1 file2)\n",
    "  (with-open-file (in file1 :direction :input)\n",
    "    (with-open-file (out file2 :direction :output\n",
    "                         :if-exists :supersede)\n",
    "      (stream-subst old new in out))))"
   ]
  },
  {
   "cell_type": "code",
   "execution_count": 2,
   "metadata": {
    "vscode": {
     "languageId": "commonlisp"
    }
   },
   "outputs": [
    {
     "data": {
      "text/plain": [
       "NIL"
      ]
     },
     "execution_count": 2,
     "metadata": {},
     "output_type": "execute_result"
    }
   ],
   "source": [
    " (file-subst \" th\" \" z\" \"test1\" \"test2\")"
   ]
  },
  {
   "cell_type": "markdown",
   "metadata": {},
   "source": [
    "# Macro Characters"
   ]
  },
  {
   "cell_type": "code",
   "execution_count": 3,
   "metadata": {
    "vscode": {
     "languageId": "commonlisp"
    }
   },
   "outputs": [
    {
     "data": {
      "text/plain": [
       "QUOTE"
      ]
     },
     "execution_count": 3,
     "metadata": {},
     "output_type": "execute_result"
    }
   ],
   "source": [
    "; macro character: get special treatment from `read`\n",
    "; read-macro: a macro character, combination of macro characters\n",
    "\n",
    "(car (read-from-string \"'a\"))"
   ]
  },
  {
   "cell_type": "code",
   "execution_count": 4,
   "metadata": {
    "vscode": {
     "languageId": "commonlisp"
    }
   },
   "outputs": [
    {
     "data": {
      "text/plain": [
       "#(1 2)"
      ]
     },
     "execution_count": 4,
     "metadata": {},
     "output_type": "execute_result"
    },
    {
     "data": {
      "text/plain": [
       "T"
      ]
     },
     "execution_count": 4,
     "metadata": {},
     "output_type": "execute_result"
    },
    {
     "name": "stdout",
     "output_type": "stream",
     "text": [
      "#(1 2)"
     ]
    }
   ],
   "source": [
    "; dispatching read-macro\n",
    "; example: \n",
    "; #': (function ...)\n",
    "; #(...): vector\n",
    "; #nA(...): array \n",
    "; #\\,: character\n",
    "; #S(n ...): structure\n",
    "\n",
    "(prin1 (vector 1 2))\n",
    "(let ((*print-array* t))\n",
    "  (vectorp (read-from-string (format nil \"~S\" (vector 1 2)))))"
   ]
  },
  {
   "cell_type": "code",
   "execution_count": 6,
   "metadata": {
    "vscode": {
     "languageId": "commonlisp"
    }
   },
   "outputs": [
    {
     "data": {
      "text/plain": [
       "#<FUNCTION PRIN1>"
      ]
     },
     "execution_count": 6,
     "metadata": {},
     "output_type": "execute_result"
    },
    {
     "data": {
      "text/plain": [
       "#<HASH-TABLE :TEST EQL :COUNT 0 {1102E82553}>"
      ]
     },
     "execution_count": 6,
     "metadata": {},
     "output_type": "execute_result"
    },
    {
     "name": "stdout",
     "output_type": "stream",
     "text": [
      "#<FUNCTION PRIN1>#<HASH-TABLE :TEST EQL :COUNT 0 {1102E82553}>"
     ]
    }
   ],
   "source": [
    "(prin1 #'prin1)\n",
    "(prin1 (make-hash-table))"
   ]
  }
 ],
 "metadata": {
  "kernelspec": {
   "display_name": "Common Lisp",
   "language": "common-lisp",
   "name": "common-lisp"
  },
  "language_info": {
   "codemirror_mode": "text/x-common-lisp",
   "file_extension": ".lisp",
   "mimetype": "text/x-common-lisp",
   "name": "common-lisp",
   "pygments_lexer": "common-lisp",
   "version": "2.4.8"
  }
 },
 "nbformat": 4,
 "nbformat_minor": 2
}
