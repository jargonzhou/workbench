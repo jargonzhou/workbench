{
 "cells": [
  {
   "cell_type": "markdown",
   "metadata": {},
   "source": [
    "# Shared Structure"
   ]
  },
  {
   "cell_type": "code",
   "execution_count": null,
   "metadata": {
    "vscode": {
     "languageId": "commonlisp"
    }
   },
   "outputs": [
    {
     "data": {
      "text/plain": [
       "(B C)"
      ]
     },
     "execution_count": 1,
     "metadata": {},
     "output_type": "execute_result"
    },
    {
     "data": {
      "text/plain": [
       "(A B C)"
      ]
     },
     "execution_count": 1,
     "metadata": {},
     "output_type": "execute_result"
    },
    {
     "data": {
      "text/plain": [
       "T"
      ]
     },
     "execution_count": 1,
     "metadata": {},
     "output_type": "execute_result"
    },
    {
     "data": {
      "text/plain": [
       "OUR-TAILP"
      ]
     },
     "execution_count": 1,
     "metadata": {},
     "output_type": "execute_result"
    },
    {
     "data": {
      "text/plain": [
       "T"
      ]
     },
     "execution_count": 1,
     "metadata": {},
     "output_type": "execute_result"
    },
    {
     "name": "stdout",
     "output_type": "stream",
     "text": [
      "SIMPLE-WARNING: undefined variable: COMMON-LISP-USER::PART\n",
      "SIMPLE-WARNING: undefined variable: COMMON-LISP-USER::PART\n",
      "SIMPLE-WARNING: undefined variable: COMMON-LISP-USER::WHOLE\n",
      "SIMPLE-WARNING: undefined variable: COMMON-LISP-USER::PART\n",
      "SIMPLE-WARNING: undefined variable: COMMON-LISP-USER::WHOLE\n",
      "SIMPLE-WARNING: undefined variable: COMMON-LISP-USER::PART\n",
      "SIMPLE-WARNING: undefined variable: COMMON-LISP-USER::WHOLE\n"
     ]
    }
   ],
   "source": [
    "(setf part (list 'b 'c))\n",
    "(setf whole (cons 'a part))\n",
    "\n",
    "; tailp\n",
    "(tailp part whole)\n",
    "\n",
    "(defun our-tailp (x y)\n",
    "  (or (eql x y)\n",
    "      (and (consp y)\n",
    "           (our-tailp x (cdr y)))))\n",
    "(our-tailp part whole)"
   ]
  },
  {
   "cell_type": "code",
   "execution_count": null,
   "metadata": {
    "vscode": {
     "languageId": "commonlisp"
    }
   },
   "outputs": [
    {
     "data": {
      "text/plain": [
       "OUR-COPY-LIST"
      ]
     },
     "execution_count": 3,
     "metadata": {},
     "output_type": "execute_result"
    },
    {
     "data": {
      "text/plain": [
       "OUR-COPY-TREE"
      ]
     },
     "execution_count": 3,
     "metadata": {},
     "output_type": "execute_result"
    },
    {
     "name": "stdout",
     "output_type": "stream",
     "text": [
      "SB-KERNEL:REDEFINITION-WITH-DEFUN: redefining COMMON-LISP-USER::OUR-COPY-LIST in DEFUN\n",
      "SB-KERNEL:REDEFINITION-WITH-DEFUN: redefining COMMON-LISP-USER::OUR-COPY-TREE in DEFUN\n"
     ]
    }
   ],
   "source": [
    "(defun our-copy-list (lst)\n",
    "  (if (null lst)\n",
    "      nil\n",
    "      (cons (car lst) (our-copy-list (cdr lst)))))\n",
    "\n",
    "(defun our-copy-tree (tr)\n",
    "  (if (atom tr)\n",
    "      tr\n",
    "      (cons (our-copy-tree (car tr))\n",
    "            (our-copy-tree (cdr tr)))))"
   ]
  },
  {
   "cell_type": "markdown",
   "metadata": {},
   "source": [
    "# Modification"
   ]
  },
  {
   "cell_type": "code",
   "execution_count": null,
   "metadata": {
    "vscode": {
     "languageId": "commonlisp"
    }
   },
   "outputs": [
    {
     "data": {
      "text/plain": [
       "(B C)"
      ]
     },
     "execution_count": 4,
     "metadata": {},
     "output_type": "execute_result"
    },
    {
     "data": {
      "text/plain": [
       "E"
      ]
     },
     "execution_count": 4,
     "metadata": {},
     "output_type": "execute_result"
    },
    {
     "data": {
      "text/plain": [
       "(B E)"
      ]
     },
     "execution_count": 4,
     "metadata": {},
     "output_type": "execute_result"
    },
    {
     "data": {
      "text/plain": [
       "(A B E)"
      ]
     },
     "execution_count": 4,
     "metadata": {},
     "output_type": "execute_result"
    },
    {
     "name": "stdout",
     "output_type": "stream",
     "text": [
      "SIMPLE-WARNING: undefined variable: COMMON-LISP-USER::TAIL\n",
      "SIMPLE-WARNING: undefined variable: COMMON-LISP-USER::WHOLE\n",
      "SIMPLE-WARNING: undefined variable: COMMON-LISP-USER::WHOLE\n",
      "SIMPLE-WARNING: undefined variable: COMMON-LISP-USER::TAIL\n",
      "SIMPLE-WARNING: undefined variable: COMMON-LISP-USER::TAIL\n",
      "SIMPLE-WARNING: undefined variable: COMMON-LISP-USER::WHOLE\n"
     ]
    }
   ],
   "source": [
    "(setf whole (list 'a 'b 'c)\n",
    "  tail (cdr whole))\n",
    "\n",
    "(setf (second tail) 'e)\n",
    "tail\n",
    "whole"
   ]
  },
  {
   "cell_type": "markdown",
   "metadata": {},
   "source": [
    "# Example: Queues"
   ]
  },
  {
   "cell_type": "code",
   "execution_count": null,
   "metadata": {
    "vscode": {
     "languageId": "commonlisp"
    }
   },
   "outputs": [
    {
     "data": {
      "text/plain": [
       "MAKE-QUEUE"
      ]
     },
     "execution_count": 9,
     "metadata": {},
     "output_type": "execute_result"
    },
    {
     "data": {
      "text/plain": [
       "ENQUEUE"
      ]
     },
     "execution_count": 9,
     "metadata": {},
     "output_type": "execute_result"
    },
    {
     "data": {
      "text/plain": [
       "DEQUEUE"
      ]
     },
     "execution_count": 9,
     "metadata": {},
     "output_type": "execute_result"
    },
    {
     "name": "stdout",
     "output_type": "stream",
     "text": [
      "SB-KERNEL:REDEFINITION-WITH-DEFUN: redefining COMMON-LISP-USER::MAKE-QUEUE in DEFUN\n",
      "SB-KERNEL:REDEFINITION-WITH-DEFUN: redefining COMMON-LISP-USER::ENQUEUE in DEFUN\n",
      "SB-KERNEL:REDEFINITION-WITH-DEFUN: redefining COMMON-LISP-USER::DEQUEUE in DEFUN\n"
     ]
    }
   ],
   "source": [
    "(defun make-queue ()\n",
    "  (cons nil nil)) ; head, tail\n",
    "\n",
    "(defun enqueue (obj q)\n",
    "  (if (null (car q))\n",
    "      (setf (cdr q) (setf (car q) (list obj)))\n",
    "      (setf (cdr (cdr q)) (list obj)\n",
    "        (cdr q) (cdr (cdr q))))\n",
    "  (car q))\n",
    "\n",
    "(defun dequeue (q)\n",
    "  (pop (car q)))"
   ]
  },
  {
   "cell_type": "code",
   "execution_count": null,
   "metadata": {
    "vscode": {
     "languageId": "commonlisp"
    }
   },
   "outputs": [
    {
     "data": {
      "text/plain": [
       "((C D) D)"
      ]
     },
     "execution_count": 11,
     "metadata": {},
     "output_type": "execute_result"
    },
    {
     "name": "stdout",
     "output_type": "stream",
     "text": [
      "\n",
      "((A B C) C) \n",
      "((C D) D) "
     ]
    }
   ],
   "source": [
    "(let ((q1 (make-queue)))\n",
    "  (enqueue 'a q1)\n",
    "  (enqueue 'b q1)\n",
    "  (enqueue 'c q1)\n",
    "  (print q1)\n",
    "  (dequeue q1)\n",
    "  (dequeue q1)\n",
    "  (enqueue 'd q1)\n",
    "  (print q1))"
   ]
  },
  {
   "cell_type": "markdown",
   "metadata": {},
   "source": [
    "# Destructive Functions"
   ]
  },
  {
   "cell_type": "code",
   "execution_count": 1,
   "metadata": {
    "vscode": {
     "languageId": "commonlisp"
    }
   },
   "outputs": [
    {
     "data": {
      "text/plain": [
       "(A R B I)"
      ]
     },
     "execution_count": 1,
     "metadata": {},
     "output_type": "execute_result"
    },
    {
     "name": "stdout",
     "output_type": "stream",
     "text": [
      "SB-INT:CONSTANT-MODIFIED: Destructive function DELETE called on constant data: (A R A B I A)\n",
      "See also:\n",
      "  The ANSI Standard, Special Operator QUOTE\n",
      "  The ANSI Standard, Section 3.7.1\n",
      "\n",
      "(R B I) \n",
      "(A R B I) "
     ]
    }
   ],
   "source": [
    "; delete: destructive version of remove\n",
    "(let ((lst '(a r a b i a)))\n",
    "  (print (delete 'a lst))\n",
    "  (print lst))"
   ]
  },
  {
   "cell_type": "code",
   "execution_count": 1,
   "metadata": {
    "vscode": {
     "languageId": "commonlisp"
    }
   },
   "outputs": [
    {
     "data": {
      "text/plain": [
       "NCONC2"
      ]
     },
     "execution_count": 1,
     "metadata": {},
     "output_type": "execute_result"
    },
    {
     "data": {
      "text/plain": [
       "OUR-MAPCAN"
      ]
     },
     "execution_count": 1,
     "metadata": {},
     "output_type": "execute_result"
    },
    {
     "data": {
      "text/plain": [
       "(A 1 B 2 C 3)"
      ]
     },
     "execution_count": 1,
     "metadata": {},
     "output_type": "execute_result"
    }
   ],
   "source": [
    "; nconc: destructive version of append\n",
    "(defun nconc2 (x y)\n",
    "  (if (consp x)\n",
    "      (progn\n",
    "       (setf (cdr (last x)) y)\n",
    "       x)\n",
    "      y))\n",
    "\n",
    "(defun our-mapcan (fn &rest lsts)\n",
    "  (apply #'nconc (apply #'mapcar fn lsts)))\n",
    "\n",
    "(our-mapcan #'list '(a b c) '(1 2 3 4))"
   ]
  },
  {
   "cell_type": "markdown",
   "metadata": {},
   "source": [
    "# Example: Binary Search Trees"
   ]
  },
  {
   "cell_type": "code",
   "execution_count": 2,
   "metadata": {
    "vscode": {
     "languageId": "commonlisp"
    }
   },
   "outputs": [
    {
     "data": {
      "text/plain": [
       "NODE"
      ]
     },
     "execution_count": 2,
     "metadata": {},
     "output_type": "execute_result"
    },
    {
     "data": {
      "text/plain": [
       "BST-INSERT"
      ]
     },
     "execution_count": 2,
     "metadata": {},
     "output_type": "execute_result"
    },
    {
     "data": {
      "text/plain": [
       "BST-FIND"
      ]
     },
     "execution_count": 2,
     "metadata": {},
     "output_type": "execute_result"
    },
    {
     "data": {
      "text/plain": [
       "BST-MIN"
      ]
     },
     "execution_count": 2,
     "metadata": {},
     "output_type": "execute_result"
    },
    {
     "data": {
      "text/plain": [
       "BST-MAX"
      ]
     },
     "execution_count": 2,
     "metadata": {},
     "output_type": "execute_result"
    },
    {
     "data": {
      "text/plain": [
       "BST-REMOVE"
      ]
     },
     "execution_count": 2,
     "metadata": {},
     "output_type": "execute_result"
    },
    {
     "data": {
      "text/plain": [
       "PERCOLATE"
      ]
     },
     "execution_count": 2,
     "metadata": {},
     "output_type": "execute_result"
    },
    {
     "data": {
      "text/plain": [
       "RPERC"
      ]
     },
     "execution_count": 2,
     "metadata": {},
     "output_type": "execute_result"
    },
    {
     "data": {
      "text/plain": [
       "LPERC"
      ]
     },
     "execution_count": 2,
     "metadata": {},
     "output_type": "execute_result"
    },
    {
     "data": {
      "text/plain": [
       "BST-TRAVERSE"
      ]
     },
     "execution_count": 2,
     "metadata": {},
     "output_type": "execute_result"
    },
    {
     "name": "stdout",
     "output_type": "stream",
     "text": [
      "SB-INT:SIMPLE-STYLE-WARNING: Cannot find type for specializer COMMON-LISP-USER::NODE when executing\n",
      "SB-PCL:SPECIALIZER-TYPE-SPECIFIER for a STANDARD-METHOD of a\n",
      "STANDARD-GENERIC-FUNCTION.\n",
      "SB-INT:SIMPLE-STYLE-WARNING: The variable D is defined but never used.\n",
      "SB-INT:SIMPLE-STYLE-WARNING: undefined function: COMMON-LISP-USER::NODE-ELT\n",
      "SB-C:INLINING-DEPENDENCY-FAILURE: Previously compiled call to COMMON-LISP-USER::NODE-ELT could not be inlined\n",
      "because the structure definition for COMMON-LISP-USER::NODE was not yet seen.\n",
      "To avoid this warning, DEFSTRUCT should precede references to the affected\n",
      "functions, or they must be declared locally notinline at each call site.\n",
      "SB-INT:SIMPLE-STYLE-WARNING: undefined function: COMMON-LISP-USER::PERCOLATE\n",
      "SB-INT:SIMPLE-STYLE-WARNING: undefined function: COMMON-LISP-USER::LPERC\n",
      "SB-INT:SIMPLE-STYLE-WARNING: undefined function: COMMON-LISP-USER::RPERC\n"
     ]
    }
   ],
   "source": [
    "\n",
    ";;; Node\n",
    "(defstruct (node (:print-function\n",
    "                  (lambda (n s d)\n",
    "                    (format s \"#<~A>\" (node-elt n)))))\n",
    "  ;; element\n",
    "  elt\n",
    "  ;; left child\n",
    "  (l nil)\n",
    "  ;; right child\n",
    "  (r nil))\n",
    "\n",
    "(defun bst-insert (obj bst <)\n",
    "  (if (null bst)\n",
    "      (make-node :elt obj)\n",
    "      (let ((elt (node-elt bst)))\n",
    "        (if (eql obj elt)\n",
    "            bst\n",
    "            (if (funcall < obj elt)\n",
    "                ;; true: insert left\n",
    "                (make-node :elt elt\n",
    "                           :l (bst-insert obj (node-l bst) <)\n",
    "                           :r (node-r bst))\n",
    "                (make-node :elt elt\n",
    "                           :r (bst-insert obj (node-r bst) <)\n",
    "                           :l (node-l bst)))))))\n",
    "\n",
    "(defun bst-find (obj bst <)\n",
    "  (if (null bst)\n",
    "      nil\n",
    "      (let ((elt (node-elt bst)))\n",
    "        (if (eql obj elt)\n",
    "            bst\n",
    "            (if (funcall < obj elt)\n",
    "                ;; true: find in left\n",
    "                (bst-find obj (node-l bst) <)\n",
    "                (bst-find obj (node-r bst) <))))))\n",
    "\n",
    "(defun bst-min (bst)\n",
    "  (and bst\n",
    "       (or (bst-min (node-l bst)) bst)))\n",
    "\n",
    "(defun bst-max (bst)\n",
    "  (and bst\n",
    "       (or (bst-max (node-r bst)) bst)))\n",
    "\n",
    "(defun bst-remove (obj bst <)\n",
    "  (if (null bst)\n",
    "      nil\n",
    "      (let ((elt (node-elt bst)))\n",
    "        (if (eql obj elt)\n",
    "            (percolate bst) ; found\n",
    "            (if (funcall < obj elt)\n",
    "                ;; true: delete in left\n",
    "                (make-node :elt elt\n",
    "                           :l (bst-remove obj (node-l bst) <)\n",
    "                           :r (node-r bst))\n",
    "                (make-node :elt elt\n",
    "                           :r (bst-remove obj (node-r bst) <)\n",
    "                           :l (node-l bst)))))))\n",
    "\n",
    "(defun percolate (bst)\n",
    "  (cond ((null (node-l bst)) ; left null\n",
    "                            (if (null (node-r bst))\n",
    "                                nil\n",
    "                                (rperc bst)))\n",
    "        ((null (node-r bst)) (lperc bst)) ; right nul\n",
    "        (t (if (zerop (random 2)) ; both not null\n",
    "               (lperc bst)\n",
    "               (rperc bst)))))\n",
    "\n",
    "(defun rperc (bst)\n",
    "  (make-node :elt (node-elt (node-r bst))\n",
    "             :l (node-l bst)\n",
    "             :r (percolate (node-r bst))))\n",
    "\n",
    "(defun lperc (bst)\n",
    "  (make-node :elt (node-elt (node-l bst))\n",
    "             :l (percolate (node-l bst))\n",
    "             :r (node-r bst)))\n",
    "\n",
    "\n",
    "(defun bst-traverse (fn bst)\n",
    "  (when bst\n",
    "        (bst-traverse fn (node-l bst))\n",
    "        (funcall fn (node-elt bst))\n",
    "        (bst-traverse fn (node-r bst))))"
   ]
  },
  {
   "cell_type": "code",
   "execution_count": 3,
   "metadata": {
    "vscode": {
     "languageId": "commonlisp"
    }
   },
   "outputs": [
    {
     "data": {
      "text/plain": [
       "NIL"
      ]
     },
     "execution_count": 3,
     "metadata": {},
     "output_type": "execute_result"
    },
    {
     "name": "stdout",
     "output_type": "stream",
     "text": [
      "\n",
      "#<5> 123456789\n",
      "(NIL #<4> #<1> #<9>) \n",
      "NIL 13456789"
     ]
    }
   ],
   "source": [
    "(let ((nums nil))\n",
    "  (dolist (x '(5 8 4 2 1 9 6 7 3))\n",
    "    (setf nums (bst-insert x nums #'<)))\n",
    "  (print nums)\n",
    "  (bst-traverse #'princ nums)\n",
    "  (print (list\n",
    "          (bst-find 12 nums #'<)\n",
    "          (bst-find 4 nums #'<)\n",
    "          (bst-min nums)\n",
    "          (bst-max nums)))\n",
    "  (setf nums (bst-remove 2 nums #'<))\n",
    "  (print (bst-find 2 nums #'<))\n",
    "  (bst-traverse #'princ nums))"
   ]
  },
  {
   "cell_type": "markdown",
   "metadata": {},
   "source": [
    "# Example: Doubly-Linked Lists"
   ]
  },
  {
   "cell_type": "code",
   "execution_count": 2,
   "metadata": {
    "vscode": {
     "languageId": "commonlisp"
    }
   },
   "outputs": [
    {
     "data": {
      "text/plain": [
       "DL"
      ]
     },
     "execution_count": 2,
     "metadata": {},
     "output_type": "execute_result"
    },
    {
     "data": {
      "text/plain": [
       "PRINT-DL"
      ]
     },
     "execution_count": 2,
     "metadata": {},
     "output_type": "execute_result"
    },
    {
     "data": {
      "text/plain": [
       "DL->LIST"
      ]
     },
     "execution_count": 2,
     "metadata": {},
     "output_type": "execute_result"
    },
    {
     "data": {
      "text/plain": [
       "DL-INSERT"
      ]
     },
     "execution_count": 2,
     "metadata": {},
     "output_type": "execute_result"
    },
    {
     "data": {
      "text/plain": [
       "DL-LIST"
      ]
     },
     "execution_count": 2,
     "metadata": {},
     "output_type": "execute_result"
    },
    {
     "data": {
      "text/plain": [
       "DL-REMOVE"
      ]
     },
     "execution_count": 2,
     "metadata": {},
     "output_type": "execute_result"
    },
    {
     "name": "stdout",
     "output_type": "stream",
     "text": [
      "SB-KERNEL:REDEFINITION-WITH-DEFUN: redefining COMMON-LISP-USER::COPY-DL in DEFUN\n",
      "SB-KERNEL:REDEFINITION-WITH-DEFUN: redefining COMMON-LISP-USER::DL-P in DEFUN\n",
      "SB-KERNEL:REDEFINITION-WITH-DEFUN: redefining (COMMON-LISP:SETF COMMON-LISP-USER::DL-PREV) in DEFUN\n",
      "SB-KERNEL:REDEFINITION-WITH-DEFUN: redefining COMMON-LISP-USER::DL-PREV in DEFUN\n",
      "SB-KERNEL:REDEFINITION-WITH-DEFUN: redefining (COMMON-LISP:SETF COMMON-LISP-USER::DL-DATA) in DEFUN\n",
      "SB-KERNEL:REDEFINITION-WITH-DEFUN: redefining COMMON-LISP-USER::DL-DATA in DEFUN\n",
      "SB-KERNEL:REDEFINITION-WITH-DEFUN: redefining (COMMON-LISP:SETF COMMON-LISP-USER::DL-NEXT) in DEFUN\n",
      "SB-KERNEL:REDEFINITION-WITH-DEFUN: redefining COMMON-LISP-USER::DL-NEXT in DEFUN\n",
      "SB-KERNEL:REDEFINITION-WITH-DEFUN: redefining COMMON-LISP-USER::MAKE-DL in DEFUN\n",
      "SB-KERNEL:REDEFINITION-WITH-DEFMETHOD: redefining PRINT-OBJECT (#<STRUCTURE-CLASS COMMON-LISP-USER::DL> #<SB-PCL:SYSTEM-CLASS COMMON-LISP:T>) in DEFMETHOD\n",
      "SB-KERNEL:REDEFINITION-WITH-DEFUN: redefining COMMON-LISP-USER::PRINT-DL in DEFUN\n",
      "SB-KERNEL:REDEFINITION-WITH-DEFUN: redefining COMMON-LISP-USER::DL->LIST in DEFUN\n",
      "SB-KERNEL:REDEFINITION-WITH-DEFUN: redefining COMMON-LISP-USER::DL-INSERT in DEFUN\n",
      "SB-KERNEL:REDEFINITION-WITH-DEFUN: redefining COMMON-LISP-USER::DL-LIST in DEFUN\n",
      "SB-KERNEL:REDEFINITION-WITH-DEFUN: redefining COMMON-LISP-USER::DL-REMOVE in DEFUN\n"
     ]
    }
   ],
   "source": [
    "(defstruct (dl (:print-function print-dl))\n",
    "  prev\n",
    "  data\n",
    "  next)\n",
    "\n",
    "(defun print-dl (dl stream depth)\n",
    "  (declare (ignore depth))\n",
    "  (format stream \"#<DL ~A>\" (dl->list dl)))\n",
    "\n",
    "(defun dl->list (lst)\n",
    "  (if (dl-p lst)\n",
    "      (cons (dl-data lst) (dl->list (dl-next lst)))\n",
    "      lst))\n",
    "\n",
    "(defun dl-insert (x lst)\n",
    "  (let ((elt (make-dl :data x :next lst)))\n",
    "    (when (dl-p lst)\n",
    "          (if (dl-prev lst)\n",
    "              (setf (dl-next (dl-prev lst)) elt\n",
    "                (dl-prev elt) (dl-prev lst)))\n",
    "          (setf (dl-prev lst) elt))\n",
    "    elt))\n",
    "\n",
    "(defun dl-list (&rest args)\n",
    "  (reduce #'dl-insert args\n",
    "    :from-end t :initial-value nil))\n",
    "\n",
    "(defun dl-remove (lst)\n",
    "    (if (dl-prev lst)\n",
    "        (setf (dl-next (dl-prev lst)) (dl-next lst)))\n",
    "    (if (dl-next lst)\n",
    "        (setf (dl-prev (dl-next lst)) (dl-prev lst)))\n",
    "    (dl-next lst))"
   ]
  },
  {
   "cell_type": "code",
   "execution_count": 3,
   "metadata": {
    "vscode": {
     "languageId": "commonlisp"
    }
   },
   "outputs": [
    {
     "data": {
      "text/plain": [
       "#<DL (A B)>"
      ]
     },
     "execution_count": 3,
     "metadata": {},
     "output_type": "execute_result"
    },
    {
     "data": {
      "text/plain": [
       "#<DL (C A B)>"
      ]
     },
     "execution_count": 3,
     "metadata": {},
     "output_type": "execute_result"
    },
    {
     "data": {
      "text/plain": [
       "#<DL (R A B)>"
      ]
     },
     "execution_count": 3,
     "metadata": {},
     "output_type": "execute_result"
    },
    {
     "data": {
      "text/plain": [
       "#<DL (C R A B)>"
      ]
     },
     "execution_count": 3,
     "metadata": {},
     "output_type": "execute_result"
    },
    {
     "name": "stdout",
     "output_type": "stream",
     "text": [
      "SIMPLE-WARNING: undefined variable: COMMON-LISP-USER::DL\n",
      "SIMPLE-WARNING: undefined variable: COMMON-LISP-USER::DL\n",
      "SIMPLE-WARNING: undefined variable: COMMON-LISP-USER::DL\n",
      "SIMPLE-WARNING: undefined variable: COMMON-LISP-USER::DL\n",
      "SIMPLE-WARNING: undefined variable: COMMON-LISP-USER::DL\n"
     ]
    }
   ],
   "source": [
    "(setf dl (dl-list 'a 'b))\n",
    "(setf dl (dl-insert 'c dl))\n",
    "(dl-insert 'r (dl-next dl))\n",
    "dl"
   ]
  },
  {
   "cell_type": "markdown",
   "metadata": {},
   "source": [
    "# Circular Structure"
   ]
  },
  {
   "cell_type": "code",
   "execution_count": 4,
   "metadata": {
    "vscode": {
     "languageId": "commonlisp"
    }
   },
   "outputs": [
    {
     "data": {
      "text/plain": [
       "(A)"
      ]
     },
     "execution_count": 4,
     "metadata": {},
     "output_type": "execute_result"
    },
    {
     "data": {
      "text/plain": [
       "NIL"
      ]
     },
     "execution_count": 4,
     "metadata": {},
     "output_type": "execute_result"
    },
    {
     "data": {
      "text/plain": [
       "T"
      ]
     },
     "execution_count": 4,
     "metadata": {},
     "output_type": "execute_result"
    },
    {
     "data": {
      "text/plain": [
       "#1=(A . #1#)"
      ]
     },
     "execution_count": 4,
     "metadata": {},
     "output_type": "execute_result"
    },
    {
     "name": "stdout",
     "output_type": "stream",
     "text": [
      "SIMPLE-WARNING: undefined variable: COMMON-LISP-USER::X\n",
      "SIMPLE-WARNING: undefined variable: COMMON-LISP-USER::X\n",
      "SIMPLE-WARNING: undefined variable: COMMON-LISP-USER::X\n"
     ]
    }
   ],
   "source": [
    "; cdr-circular\n",
    "(setf x (list 'a))\n",
    "(progn (setf (cdr x) x) nil)\n",
    "(setf *print-circle* t)\n",
    "x"
   ]
  },
  {
   "cell_type": "code",
   "execution_count": 5,
   "metadata": {
    "vscode": {
     "languageId": "commonlisp"
    }
   },
   "outputs": [
    {
     "data": {
      "text/plain": [
       "CIRCULAR"
      ]
     },
     "execution_count": 5,
     "metadata": {},
     "output_type": "execute_result"
    }
   ],
   "source": [
    "(defun circular (lst)\n",
    "    (setf (cdr (last lst)) lst))"
   ]
  },
  {
   "cell_type": "code",
   "execution_count": 6,
   "metadata": {
    "vscode": {
     "languageId": "commonlisp"
    }
   },
   "outputs": [
    {
     "data": {
      "text/plain": [
       "#1=(#1#)"
      ]
     },
     "execution_count": 6,
     "metadata": {},
     "output_type": "execute_result"
    }
   ],
   "source": [
    "; car-circular\n",
    "(let ((y (list 'a)))\n",
    "    (setf (car y) y)\n",
    "    y)"
   ]
  },
  {
   "cell_type": "code",
   "execution_count": 7,
   "metadata": {
    "vscode": {
     "languageId": "commonlisp"
    }
   },
   "outputs": [
    {
     "data": {
      "text/plain": [
       "#1=(#1# . #1#)"
      ]
     },
     "execution_count": 7,
     "metadata": {},
     "output_type": "execute_result"
    }
   ],
   "source": [
    "; both\n",
    "(let ((c (cons 1 1)))\n",
    "  (setf (car c) c\n",
    "    (cdr c) c)\n",
    "  c)"
   ]
  },
  {
   "cell_type": "code",
   "execution_count": 8,
   "metadata": {
    "vscode": {
     "languageId": "commonlisp"
    }
   },
   "outputs": [
    {
     "data": {
      "text/plain": [
       "T"
      ]
     },
     "execution_count": 8,
     "metadata": {},
     "output_type": "execute_result"
    },
    {
     "data": {
      "text/plain": [
       "#1=#(#1#)"
      ]
     },
     "execution_count": 8,
     "metadata": {},
     "output_type": "execute_result"
    }
   ],
   "source": [
    "; for array\n",
    "(setf *print-array* t)\n",
    "(let ((a (make-array 1)))\n",
    "    (setf (aref a 0) a)\n",
    "    a)"
   ]
  },
  {
   "cell_type": "code",
   "execution_count": 10,
   "metadata": {
    "vscode": {
     "languageId": "commonlisp"
    }
   },
   "outputs": [
    {
     "data": {
      "text/plain": [
       "#1=#S(ELT2 :PARENT #S(ELT2 :PARENT NIL :CHILD #1#) :CHILD NIL)"
      ]
     },
     "execution_count": 10,
     "metadata": {},
     "output_type": "execute_result"
    },
    {
     "name": "stdout",
     "output_type": "stream",
     "text": [
      "SB-INT:SIMPLE-STYLE-WARNING: undefined function: (COMMON-LISP:SETF COMMON-LISP-USER::ELT2-CHILD)\n",
      "SB-INT:SIMPLE-STYLE-WARNING: undefined function: (COMMON-LISP:SETF COMMON-LISP-USER::ELT2-PARENT)\n",
      "SB-C:INLINING-DEPENDENCY-FAILURE: Previously compiled calls to (COMMON-LISP:SETF COMMON-LISP-USER::ELT2-PARENT)\n",
      "and (COMMON-LISP:SETF COMMON-LISP-USER::ELT2-CHILD) could not be inlined\n",
      "because the structure definition for COMMON-LISP-USER::ELT2 was not yet seen.\n",
      "To avoid this warning, DEFSTRUCT should precede references to the affected\n",
      "functions, or they must be declared locally notinline at each call site.\n"
     ]
    }
   ],
   "source": [
    "; for struct\n",
    "(progn (defstruct elt2\n",
    "         (parent nil) (child nil))\n",
    "       (let ((c (make-elt2))\n",
    "             (p (make-elt2)))\n",
    "         (setf (elt2-parent c) p\n",
    "           (elt2-child p) c)\n",
    "         c))"
   ]
  },
  {
   "cell_type": "markdown",
   "metadata": {},
   "source": [
    "# Constatnt Structure"
   ]
  },
  {
   "cell_type": "code",
   "execution_count": 1,
   "metadata": {
    "vscode": {
     "languageId": "commonlisp"
    }
   },
   "outputs": [
    {
     "data": {
      "text/plain": [
       "ARITH-OP"
      ]
     },
     "execution_count": 1,
     "metadata": {},
     "output_type": "execute_result"
    }
   ],
   "source": [
    "(defun arith-op (x)\n",
    "    (member x '(+ - * /)))"
   ]
  },
  {
   "cell_type": "code",
   "execution_count": 2,
   "metadata": {
    "vscode": {
     "languageId": "commonlisp"
    }
   },
   "outputs": [
    {
     "data": {
      "text/plain": [
       "NIL"
      ]
     },
     "execution_count": 2,
     "metadata": {},
     "output_type": "execute_result"
    }
   ],
   "source": [
    "(let ()\n",
    "    (nconc (arith-op '*) '(as it were))\n",
    "    (arith-op 'as))"
   ]
  },
  {
   "cell_type": "code",
   "execution_count": 3,
   "metadata": {
    "vscode": {
     "languageId": "commonlisp"
    }
   },
   "outputs": [
    {
     "data": {
      "text/plain": [
       "ARITH-OP2"
      ]
     },
     "execution_count": 3,
     "metadata": {},
     "output_type": "execute_result"
    }
   ],
   "source": [
    "(defun arith-op2 (x)\n",
    "    (find x '(+ - * /)))"
   ]
  },
  {
   "cell_type": "code",
   "execution_count": 5,
   "metadata": {
    "vscode": {
     "languageId": "commonlisp"
    }
   },
   "outputs": [
    {
     "data": {
      "text/plain": [
       "*"
      ]
     },
     "execution_count": 5,
     "metadata": {},
     "output_type": "execute_result"
    }
   ],
   "source": [
    "(let ()\n",
    "    (arith-op2 '*))"
   ]
  }
 ],
 "metadata": {
  "kernelspec": {
   "display_name": "Common Lisp",
   "language": "common-lisp",
   "name": "common-lisp"
  },
  "language_info": {
   "codemirror_mode": "text/x-common-lisp",
   "file_extension": ".lisp",
   "mimetype": "text/x-common-lisp",
   "name": "common-lisp",
   "pygments_lexer": "common-lisp",
   "version": "2.4.7"
  }
 },
 "nbformat": 4,
 "nbformat_minor": 2
}
