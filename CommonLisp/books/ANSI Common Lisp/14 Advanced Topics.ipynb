{
 "cells": [
  {
   "cell_type": "markdown",
   "metadata": {},
   "source": [
    "# Type Specifiers"
   ]
  },
  {
   "cell_type": "code",
   "execution_count": 1,
   "metadata": {
    "vscode": {
     "languageId": "commonlisp"
    }
   },
   "outputs": [
    {
     "data": {
      "text/plain": [
       "CIRCULAR?"
      ]
     },
     "execution_count": 1,
     "metadata": {},
     "output_type": "execute_result"
    },
    {
     "data": {
      "text/plain": [
       "T"
      ]
     },
     "execution_count": 1,
     "metadata": {},
     "output_type": "execute_result"
    },
    {
     "data": {
      "text/plain": [
       "(A)"
      ]
     },
     "execution_count": 1,
     "metadata": {},
     "output_type": "execute_result"
    },
    {
     "data": {
      "text/plain": [
       "#1=(A . #1#)"
      ]
     },
     "execution_count": 1,
     "metadata": {},
     "output_type": "execute_result"
    },
    {
     "data": {
      "text/plain": [
       "#1=(A . #1#)"
      ]
     },
     "execution_count": 1,
     "metadata": {},
     "output_type": "execute_result"
    },
    {
     "data": {
      "text/plain": [
       "T"
      ]
     },
     "execution_count": 1,
     "metadata": {},
     "output_type": "execute_result"
    },
    {
     "data": {
      "text/plain": [
       "NIL"
      ]
     },
     "execution_count": 1,
     "metadata": {},
     "output_type": "execute_result"
    },
    {
     "name": "stdout",
     "output_type": "stream",
     "text": [
      "SIMPLE-WARNING: undefined variable: COMMON-LISP-USER::X\n",
      "SIMPLE-WARNING: undefined variable: COMMON-LISP-USER::X\n",
      "SIMPLE-WARNING: undefined variable: COMMON-LISP-USER::X\n",
      "SIMPLE-WARNING: undefined variable: COMMON-LISP-USER::X\n"
     ]
    }
   ],
   "source": [
    "; (defun circular (lst)\n",
    ";     (setf (cdr (last lst)) lst))\n",
    "\n",
    "; https://stackoverflow.com/questions/30004801/common-lisp-writing-a-function-that-detects-circular-lists\n",
    "(defun circular? (lst)\n",
    "  \"check if a list is cycles back to the first cons\"\n",
    "  (if (null lst)\n",
    "      nil\n",
    "      (loop :for cursor on (cdr lst)\n",
    "              :thereis (eq cursor lst))))\n",
    "\n",
    "(setf *print-circle* t)\n",
    "(setf x '(a))\n",
    "(setf (cdr x) x)\n",
    "x\n",
    "\n",
    "(circular? x)\n",
    "(circular? '(a))"
   ]
  },
  {
   "cell_type": "code",
   "execution_count": 2,
   "metadata": {
    "vscode": {
     "languageId": "commonlisp"
    }
   },
   "outputs": [
    {
     "data": {
      "text/plain": [
       "PROSEQ"
      ]
     },
     "execution_count": 2,
     "metadata": {},
     "output_type": "execute_result"
    },
    {
     "data": {
      "text/plain": [
       "T"
      ]
     },
     "execution_count": 2,
     "metadata": {},
     "output_type": "execute_result"
    }
   ],
   "source": [
    "(deftype proseq ()\n",
    "  '(or vector (and list (not (satisfies circular?)))))\n",
    "\n",
    "(typep #(1 2) 'proseq)"
   ]
  },
  {
   "cell_type": "code",
   "execution_count": null,
   "metadata": {
    "vscode": {
     "languageId": "commonlisp"
    }
   },
   "outputs": [
    {
     "data": {
      "text/plain": [
       "MULTIPLE-OF"
      ]
     },
     "execution_count": 3,
     "metadata": {},
     "output_type": "execute_result"
    },
    {
     "name": "stderr",
     "output_type": "stream",
     "text": [
      "SIMPLE-TYPE-ERROR: The SATISFIES predicate name is not a symbol: (LAMBDA (X) (ZEROP (MOD X 4)))\n",
      "\n"
     ]
    },
    {
     "ename": "SIMPLE-TYPE-ERROR",
     "evalue": "The SATISFIES predicate name is not a symbol: (LAMBDA (X) (ZEROP (MOD X 4)))",
     "output_type": "error",
     "traceback": [
      "0: (SB-KERNEL::PARSE-<SATISFIES> #<unused argument> (SATISFIES (LAMBDA (X) (ZEROP (MOD X 4)))))",
      "1: (SB-KERNEL::%PARSE-TYPE (SATISFIES (LAMBDA (X) (ZEROP (MOD X 4)))) #S(TYPE-CONTEXT :SPEC (MULTIPLE-OF 4) :PROTO-CLASSOID NIL :OPTIONS 0))",
      "2: (SB-KERNEL::BASIC-PARSE-TYPESPEC (SATISFIES (LAMBDA (X) (ZEROP (MOD X 4)))) #S(TYPE-CONTEXT :SPEC (MULTIPLE-OF 4) :PROTO-CLASSOID NIL :OPTIONS 0))",
      "3: (SB-KERNEL:SPECIFIER-TYPE (SATISFIES (LAMBDA (X) (ZEROP (MOD X 4)))) #S(TYPE-CONTEXT :SPEC (MULTIPLE-OF 4) :PROTO-CLASSOID NIL :OPTIONS 0) AND)",
      "4: (SB-KERNEL::PARSE-<AND> #S(TYPE-CONTEXT :SPEC (MULTIPLE-OF 4) :PROTO-CLASSOID NIL :OPTIONS 0) (AND INTEGER (SATISFIES (LAMBDA (X) (ZEROP (MOD X 4))))))",
      "5: (SB-KERNEL::%PARSE-TYPE (AND INTEGER (SATISFIES (LAMBDA (X) (ZEROP (MOD X 4))))) #S(TYPE-CONTEXT :SPEC (MULTIPLE-OF 4) :PROTO-CLASSOID NIL :OPTIONS 0))",
      "6: (SB-KERNEL::BASIC-PARSE-TYPESPEC (MULTIPLE-OF 4) #S(TYPE-CONTEXT :SPEC (MULTIPLE-OF 4) :PROTO-CLASSOID NIL :OPTIONS 0))",
      "7: (SB-KERNEL:SPECIFIER-TYPE (MULTIPLE-OF 4) NIL NIL)",
      "8: (TYPEP 11 (MULTIPLE-OF 4) #<unused argument>)",
      "9: (JUPYTER/COMMON-LISP::EVAL-AND-PRINT (TYPEP 11 (QUOTE (MULTIPLE-OF 4))) 1 NIL)",
      "10: ((:METHOD JUPYTER:EVALUATE-FORM (JUPYTER/COMMON-LISP:KERNEL T T T)) #<unused argument> #<FORM-TRACKING-STREAM for \"file /var/folders/_8/xdwzpdgj0ps7wgh7llzxztk40000gn/T/AE520E5ADFD743132D898869C0DC8BEE-978363626.lisp\" {1004253DE3}> CELL:978363626.LISP.NEWEST NIL #<unused argument> #<unused argument>)",
      "11: (JUPYTER/COMMON-LISP::REPL (deftype multiple-of (n)\n  `(and integer (satisfies (lambda (x)\n                             (zerop (mod x ,n))))))\n(typep 11 '(multiple-of 4))\n(typep 12 '(multiple-of 4)) CELL:978363626.LISP.NEWEST NIL)",
      "12: ((:METHOD JUPYTER:EVALUATE-CODE (JUPYTER/COMMON-LISP:KERNEL T)) #<unused argument> (deftype multiple-of (n)\n  `(and integer (satisfies (lambda (x)\n                             (zerop (mod x ,n))))))\n(typep 11 '(multiple-of 4))\n(typep 12 '(multiple-of 4)) CELL:978363626.LISP.NEWEST NIL)",
      "13: (JUPYTER::HANDLE-EXECUTE-REQUEST)",
      "14: (JUPYTER::RUN-SHELL #<KERNEL {1001FA6F43}>)",
      "15: ((LABELS BORDEAUX-THREADS::%BINDING-DEFAULT-SPECIALS-WRAPPER :IN BORDEAUX-THREADS::BINDING-DEFAULT-SPECIALS))",
      "16: ((FLET SB-UNIX::BODY :IN SB-THREAD::RUN))",
      "17: ((FLET \"WITHOUT-INTERRUPTS-BODY-\" :IN SB-THREAD::RUN))",
      "18: ((FLET SB-UNIX::BODY :IN SB-THREAD::RUN))",
      "19: ((FLET \"WITHOUT-INTERRUPTS-BODY-\" :IN SB-THREAD::RUN))",
      "20: (SB-THREAD::RUN)",
      "21: (\"foreign function: call_into_lisp_\")",
      "22: (\"foreign function: funcall1\")"
     ]
    },
    {
     "name": "stdout",
     "output_type": "stream",
     "text": [
      "SIMPLE-WARNING: The SATISFIES predicate name is not a symbol: (LAMBDA (X) (ZEROP (MOD X 4)))\n",
      "SB-INT:SIMPLE-STYLE-WARNING: Lisp error during constant folding:\n",
      "The SATISFIES predicate name is not a symbol: (LAMBDA (X) (ZEROP (MOD X 4)))\n"
     ]
    }
   ],
   "source": [
    "; ; The SATISFIES predicate name is not a symbol: (LAMBDA (X) (ZEROP (MOD X 4)))\n",
    "; (deftype multiple-of (n)\n",
    ";   `(and integer (satisfies (lambda (x)\n",
    ";                              (zerop (mod x ,n))))))\n",
    "\n",
    "; (typep 12 '(multiple-of 4))"
   ]
  },
  {
   "cell_type": "markdown",
   "metadata": {},
   "source": [
    "# Binary Streams"
   ]
  },
  {
   "cell_type": "code",
   "execution_count": 6,
   "metadata": {
    "vscode": {
     "languageId": "commonlisp"
    }
   },
   "outputs": [
    {
     "data": {
      "text/plain": [
       "COPY-FILE"
      ]
     },
     "execution_count": 6,
     "metadata": {},
     "output_type": "execute_result"
    },
    {
     "data": {
      "text/plain": [
       "NIL"
      ]
     },
     "execution_count": 6,
     "metadata": {},
     "output_type": "execute_result"
    },
    {
     "name": "stdout",
     "output_type": "stream",
     "text": [
      "SB-KERNEL:REDEFINITION-WITH-DEFUN: redefining COMMON-LISP-USER::COPY-FILE in DEFUN\n"
     ]
    }
   ],
   "source": [
    "(defun copy-file (from to)\n",
    "  (with-open-file (in from :direction :input\n",
    "                      :element-type 'unsigned-byte)\n",
    "    (with-open-file (out to :direction :output\n",
    "                         :element-type 'unsigned-byte\n",
    "                         :if-exists :supersede)\n",
    "      (do ((i (read-byte in nil -1)\n",
    "              (read-byte in nil -1)))\n",
    "          ((minusp i))\n",
    "        (declare (fixnum i))\n",
    "        (write-byte i out)))))\n",
    "\n",
    "(copy-file \"sample.txt\" \"sample2.txt\")"
   ]
  },
  {
   "cell_type": "markdown",
   "metadata": {},
   "source": [
    "# Read-Macros"
   ]
  },
  {
   "cell_type": "code",
   "execution_count": 8,
   "metadata": {
    "vscode": {
     "languageId": "commonlisp"
    }
   },
   "outputs": [
    {
     "data": {
      "text/plain": [
       "T"
      ]
     },
     "execution_count": 8,
     "metadata": {},
     "output_type": "execute_result"
    },
    {
     "name": "stdout",
     "output_type": "stream",
     "text": [
      "SB-INT:SIMPLE-STYLE-WARNING: The variable CHAR is defined but never used.\n"
     ]
    }
   ],
   "source": [
    "(set-macro-character #\\'\n",
    "                     #'(lambda (stream char)\n",
    "                         (list (quote quote) (read stream t nil t))))"
   ]
  },
  {
   "cell_type": "code",
   "execution_count": 9,
   "metadata": {
    "vscode": {
     "languageId": "commonlisp"
    }
   },
   "outputs": [
    {
     "data": {
      "text/plain": [
       "T"
      ]
     },
     "execution_count": 9,
     "metadata": {},
     "output_type": "execute_result"
    },
    {
     "data": {
      "text/plain": [
       "(0 1 2 3 4 5 6)"
      ]
     },
     "execution_count": 9,
     "metadata": {},
     "output_type": "execute_result"
    },
    {
     "name": "stdout",
     "output_type": "stream",
     "text": [
      "SB-INT:SIMPLE-STYLE-WARNING: The variable CHAR1 is defined but never used.\n",
      "SB-INT:SIMPLE-STYLE-WARNING: The variable CHAR2 is defined but never used.\n"
     ]
    }
   ],
   "source": [
    "; #!, #?, #[, #], #{, #}\n",
    "(set-dispatch-macro-character\n",
    "  #\\# #\\?\n",
    "  #'(lambda (stream char1 char2)\n",
    "      (list 'quote\n",
    "            (let ((lst nil))\n",
    "              (dotimes (i (+ (read stream t nil t)) 1)\n",
    "                (push i lst))\n",
    "              (nreverse lst)))))\n",
    "\n",
    "#?7"
   ]
  },
  {
   "cell_type": "code",
   "execution_count": 11,
   "metadata": {
    "vscode": {
     "languageId": "commonlisp"
    }
   },
   "outputs": [
    {
     "data": {
      "text/plain": [
       "T"
      ]
     },
     "execution_count": 11,
     "metadata": {},
     "output_type": "execute_result"
    },
    {
     "data": {
      "text/plain": [
       "T"
      ]
     },
     "execution_count": 11,
     "metadata": {},
     "output_type": "execute_result"
    },
    {
     "data": {
      "text/plain": [
       "(2 3 4 5 6 7)"
      ]
     },
     "execution_count": 11,
     "metadata": {},
     "output_type": "execute_result"
    },
    {
     "name": "stdout",
     "output_type": "stream",
     "text": [
      "SB-INT:SIMPLE-STYLE-WARNING: The variable CHAR1 is defined but never used.\n",
      "SB-INT:SIMPLE-STYLE-WARNING: The variable CHAR2 is defined but never used.\n"
     ]
    }
   ],
   "source": [
    "(set-macro-character #\\} (get-macro-character #\\)))\n",
    "\n",
    "(set-dispatch-macro-character\n",
    "  #\\# #\\{\n",
    "  #'(lambda (stream char1 char2)\n",
    "      (let ((accum nil)\n",
    "            (pair (read-delimited-list #\\} stream t)))\n",
    "        (do ((i (car pair) (+ i 1)))\n",
    "            ((> i (cadr pair))\n",
    "             (list 'quote (nreverse accum)))\n",
    "          (push i accum)))))\n",
    "\n",
    "#{2 7}"
   ]
  },
  {
   "cell_type": "markdown",
   "metadata": {},
   "source": [
    "# Packages"
   ]
  },
  {
   "cell_type": "code",
   "execution_count": 12,
   "metadata": {
    "vscode": {
     "languageId": "commonlisp"
    }
   },
   "outputs": [
    {
     "data": {
      "text/plain": [
       "\"COMMON-LISP-USER\""
      ]
     },
     "execution_count": 12,
     "metadata": {},
     "output_type": "execute_result"
    }
   ],
   "source": [
    "(package-name *package*)"
   ]
  },
  {
   "cell_type": "code",
   "execution_count": 13,
   "metadata": {
    "vscode": {
     "languageId": "commonlisp"
    }
   },
   "outputs": [
    {
     "data": {
      "text/plain": [
       "#<PACKAGE \"COMMON-LISP-USER\">"
      ]
     },
     "execution_count": 13,
     "metadata": {},
     "output_type": "execute_result"
    }
   ],
   "source": [
    "(find-package 'cl-user)"
   ]
  },
  {
   "cell_type": "code",
   "execution_count": null,
   "metadata": {
    "vscode": {
     "languageId": "commonlisp"
    }
   },
   "outputs": [
    {
     "data": {
      "text/plain": [
       "#<PACKAGE \"COMMON-LISP-USER\">"
      ]
     },
     "execution_count": 14,
     "metadata": {},
     "output_type": "execute_result"
    }
   ],
   "source": [
    "; find the package where a symbol is interned\n",
    "(symbol-package 'sym)"
   ]
  },
  {
   "cell_type": "code",
   "execution_count": null,
   "metadata": {
    "vscode": {
     "languageId": "commonlisp"
    }
   },
   "outputs": [
    {
     "data": {
      "text/plain": [
       "99"
      ]
     },
     "execution_count": 16,
     "metadata": {},
     "output_type": "execute_result"
    },
    {
     "data": {
      "text/plain": [
       "#<PACKAGE \"MINE\">"
      ]
     },
     "execution_count": 16,
     "metadata": {},
     "output_type": "execute_result"
    },
    {
     "name": "stderr",
     "output_type": "stream",
     "text": [
      "UNBOUND-VARIABLE: The variable SYM is unbound.\n",
      "\n"
     ]
    },
    {
     "ename": "UNBOUND-VARIABLE",
     "evalue": "The variable SYM is unbound.",
     "output_type": "error",
     "traceback": [
      "0: ((LAMBDA NIL :IN \"/private/var/folders/_8/xdwzpdgj0ps7wgh7llzxztk40000gn/T/AE520E5ADFD743132D898869C0DC8BEE-3202740185.lisp\"))",
      "1: (JUPYTER/COMMON-LISP::EVAL-AND-PRINT SYM 2 NIL)",
      "2: ((:METHOD JUPYTER:EVALUATE-FORM (JUPYTER/COMMON-LISP:KERNEL T T T)) #<unused argument> #<FORM-TRACKING-STREAM for \"file /var/folders/_8/xdwzpdgj0ps7wgh7llzxztk40000gn/T/AE520E5ADFD743132D898869C0DC8BEE-3202740185.lisp\" {10049949C3}> CELL:3202740185.LISP.NEWEST NIL #<unused argument> #<unused argument>)",
      "3: (JUPYTER/COMMON-LISP::REPL (setf sym 99)\n(setf *package* (make-package 'mine :use '(cl)))\nsym CELL:3202740185.LISP.NEWEST NIL)",
      "4: ((:METHOD JUPYTER:EVALUATE-CODE (JUPYTER/COMMON-LISP:KERNEL T)) #<unused argument> (setf sym 99)\n(setf *package* (make-package 'mine :use '(cl)))\nsym CELL:3202740185.LISP.NEWEST NIL)",
      "5: (JUPYTER::HANDLE-EXECUTE-REQUEST)",
      "6: (JUPYTER::RUN-SHELL #<KERNEL {1001FA6F43}>)",
      "7: ((LABELS BORDEAUX-THREADS::%BINDING-DEFAULT-SPECIALS-WRAPPER :IN BORDEAUX-THREADS::BINDING-DEFAULT-SPECIALS))",
      "8: ((FLET SB-UNIX::BODY :IN SB-THREAD::RUN))",
      "9: ((FLET \"WITHOUT-INTERRUPTS-BODY-\" :IN SB-THREAD::RUN))",
      "10: ((FLET SB-UNIX::BODY :IN SB-THREAD::RUN))",
      "11: ((FLET \"WITHOUT-INTERRUPTS-BODY-\" :IN SB-THREAD::RUN))",
      "12: (SB-THREAD::RUN)",
      "13: (\"foreign function: call_into_lisp_\")",
      "14: (\"foreign function: funcall1\")"
     ]
    },
    {
     "name": "stdout",
     "output_type": "stream",
     "text": [
      "SIMPLE-WARNING: undefined variable: COMMON-LISP-USER::SYM\n",
      "SIMPLE-WARNING: undefined variable: MINE::SYM\n"
     ]
    }
   ],
   "source": [
    "(setf sym 99)\n",
    "(setf *package* (make-package 'mine :use '(cl)))\n",
    "; sym ; UNBOUND-VARIABLE: The variable SYM is unbound."
   ]
  },
  {
   "cell_type": "code",
   "execution_count": 17,
   "metadata": {
    "vscode": {
     "languageId": "commonlisp"
    }
   },
   "outputs": [
    {
     "data": {
      "text/plain": [
       "99"
      ]
     },
     "execution_count": 17,
     "metadata": {},
     "output_type": "execute_result"
    },
    {
     "name": "stdout",
     "output_type": "stream",
     "text": [
      "SIMPLE-WARNING: undefined variable: COMMON-LISP-USER::SYM\n"
     ]
    }
   ],
   "source": [
    "cl-user::sym"
   ]
  },
  {
   "cell_type": "code",
   "execution_count": 18,
   "metadata": {
    "vscode": {
     "languageId": "commonlisp"
    }
   },
   "outputs": [
    {
     "data": {
      "text/plain": [
       "#<PACKAGE \"COMMON-LISP-USER\">"
      ]
     },
     "execution_count": 18,
     "metadata": {},
     "output_type": "execute_result"
    },
    {
     "data": {
      "text/plain": [
       "T"
      ]
     },
     "execution_count": 18,
     "metadata": {},
     "output_type": "execute_result"
    },
    {
     "data": {
      "text/plain": [
       "5"
      ]
     },
     "execution_count": 18,
     "metadata": {},
     "output_type": "execute_result"
    },
    {
     "data": {
      "text/plain": [
       "#<PACKAGE \"MINE\">"
      ]
     },
     "execution_count": 18,
     "metadata": {},
     "output_type": "execute_result"
    },
    {
     "data": {
      "text/plain": [
       "5"
      ]
     },
     "execution_count": 18,
     "metadata": {},
     "output_type": "execute_result"
    },
    {
     "name": "stdout",
     "output_type": "stream",
     "text": [
      "SIMPLE-WARNING: undefined variable: COMMON-LISP-USER:BAR\n",
      "SIMPLE-WARNING: undefined variable: COMMON-LISP-USER:BAR\n"
     ]
    }
   ],
   "source": [
    "(in-package cl-user)\n",
    "(export 'bar)\n",
    "(setf bar 5)\n",
    "\n",
    "(in-package mine)\n",
    "cl-user:bar"
   ]
  },
  {
   "cell_type": "code",
   "execution_count": 19,
   "metadata": {
    "vscode": {
     "languageId": "commonlisp"
    }
   },
   "outputs": [
    {
     "data": {
      "text/plain": [
       "T"
      ]
     },
     "execution_count": 19,
     "metadata": {},
     "output_type": "execute_result"
    },
    {
     "data": {
      "text/plain": [
       "5"
      ]
     },
     "execution_count": 19,
     "metadata": {},
     "output_type": "execute_result"
    },
    {
     "name": "stdout",
     "output_type": "stream",
     "text": [
      "SIMPLE-WARNING: undefined variable: COMMON-LISP-USER:BAR\n"
     ]
    }
   ],
   "source": [
    "(import 'cl-user:bar)\n",
    "bar"
   ]
  },
  {
   "cell_type": "code",
   "execution_count": null,
   "metadata": {
    "vscode": {
     "languageId": "commonlisp"
    }
   },
   "outputs": [
    {
     "name": "stderr",
     "output_type": "stream",
     "text": [
      "NAME-CONFLICT: IMPORT (COMMON-LISP-USER::SYM) causes name-conflicts in #<PACKAGE \"MINE\">\n",
      "between the following symbols:\n",
      "  MINE::SYM, COMMON-LISP-USER::SYM\n",
      "See also:\n",
      "  The ANSI Standard, Section 11.1.1.2.5\n",
      "\n"
     ]
    },
    {
     "ename": "NAME-CONFLICT",
     "evalue": "IMPORT (COMMON-LISP-USER::SYM) causes name-conflicts in #<PACKAGE \"MINE\">\nbetween the following symbols:\n  MINE::SYM, COMMON-LISP-USER::SYM\nSee also:\n  The ANSI Standard, Section 11.1.1.2.5",
     "output_type": "error",
     "traceback": [
      "0: (SB-EXT:NAME-CONFLICT #<PACKAGE \"MINE\"> IMPORT (SYM) SYM SYM)",
      "1: ((FLET SB-THREAD::WITH-RECURSIVE-LOCK-THUNK :IN IMPORT))",
      "2: ((FLET \"WITHOUT-INTERRUPTS-BODY-\" :IN SB-THREAD::CALL-WITH-RECURSIVE-LOCK))",
      "3: (SB-THREAD::CALL-WITH-RECURSIVE-LOCK #<FUNCTION (FLET SB-THREAD::WITH-RECURSIVE-LOCK-THUNK :IN IMPORT) {B5D733B}> #<MUTEX \"Package Graph Lock\" owner: #<SB-THREAD:THREAD tid=3587 \"SHELL Thread\" RUNNING {1002F0D633}>>)",
      "4: (IMPORT SYM #<PACKAGE \"MINE\">)",
      "5: (JUPYTER/COMMON-LISP::EVAL-AND-PRINT (IMPORT (QUOTE SYM)) 0 NIL)",
      "6: ((:METHOD JUPYTER:EVALUATE-FORM (JUPYTER/COMMON-LISP:KERNEL T T T)) #<unused argument> #<FORM-TRACKING-STREAM for \"file /var/folders/_8/xdwzpdgj0ps7wgh7llzxztk40000gn/T/AE520E5ADFD743132D898869C0DC8BEE-1911978067.lisp\" {1004B20883}> CELL:1911978067.LISP.NEWEST NIL #<unused argument> #<unused argument>)",
      "7: (JUPYTER/COMMON-LISP::REPL (import 'cl-user::sym) CELL:1911978067.LISP.NEWEST NIL)",
      "8: ((:METHOD JUPYTER:EVALUATE-CODE (JUPYTER/COMMON-LISP:KERNEL T)) #<unused argument> (import 'cl-user::sym) CELL:1911978067.LISP.NEWEST NIL)",
      "9: (JUPYTER::HANDLE-EXECUTE-REQUEST)",
      "10: (JUPYTER::RUN-SHELL #<KERNEL {1001FA6F43}>)",
      "11: ((LABELS BORDEAUX-THREADS::%BINDING-DEFAULT-SPECIALS-WRAPPER :IN BORDEAUX-THREADS::BINDING-DEFAULT-SPECIALS))",
      "12: ((FLET SB-UNIX::BODY :IN SB-THREAD::RUN))",
      "13: ((FLET \"WITHOUT-INTERRUPTS-BODY-\" :IN SB-THREAD::RUN))",
      "14: ((FLET SB-UNIX::BODY :IN SB-THREAD::RUN))",
      "15: ((FLET \"WITHOUT-INTERRUPTS-BODY-\" :IN SB-THREAD::RUN))",
      "16: (SB-THREAD::RUN)",
      "17: (\"foreign function: call_into_lisp_\")",
      "18: (\"foreign function: funcall1\")"
     ]
    }
   ],
   "source": [
    "; (import 'cl-user::sym)"
   ]
  },
  {
   "cell_type": "code",
   "execution_count": 21,
   "metadata": {
    "vscode": {
     "languageId": "commonlisp"
    }
   },
   "outputs": [
    {
     "data": {
      "text/plain": [
       "#<PACKAGE \"MINE\">"
      ]
     },
     "execution_count": 21,
     "metadata": {},
     "output_type": "execute_result"
    }
   ],
   "source": [
    "*package*"
   ]
  },
  {
   "cell_type": "code",
   "execution_count": 22,
   "metadata": {
    "vscode": {
     "languageId": "commonlisp"
    }
   },
   "outputs": [
    {
     "data": {
      "text/plain": [
       "T"
      ]
     },
     "execution_count": 22,
     "metadata": {},
     "output_type": "execute_result"
    },
    {
     "data": {
      "text/plain": [
       "#<FUNCTION CONS>"
      ]
     },
     "execution_count": 22,
     "metadata": {},
     "output_type": "execute_result"
    }
   ],
   "source": [
    "(use-package 'cl-user)\n",
    "#'cons"
   ]
  },
  {
   "cell_type": "code",
   "execution_count": 24,
   "metadata": {
    "vscode": {
     "languageId": "commonlisp"
    }
   },
   "outputs": [
    {
     "data": {
      "text/plain": [
       "#<PACKAGE \"COMMON-LISP-USER\">"
      ]
     },
     "execution_count": 24,
     "metadata": {},
     "output_type": "execute_result"
    }
   ],
   "source": [
    "(in-package cl-user)"
   ]
  },
  {
   "cell_type": "markdown",
   "metadata": {},
   "source": [
    "# The Loop Facility"
   ]
  },
  {
   "cell_type": "code",
   "execution_count": 25,
   "metadata": {
    "vscode": {
     "languageId": "commonlisp"
    }
   },
   "outputs": [
    {
     "data": {
      "text/plain": [
       "NIL"
      ]
     },
     "execution_count": 25,
     "metadata": {},
     "output_type": "execute_result"
    },
    {
     "name": "stdout",
     "output_type": "stream",
     "text": [
      "0123456789"
     ]
    }
   ],
   "source": [
    "(loop for x from 0 to 9\n",
    "      do (princ x))"
   ]
  },
  {
   "cell_type": "code",
   "execution_count": 26,
   "metadata": {
    "vscode": {
     "languageId": "commonlisp"
    }
   },
   "outputs": [
    {
     "data": {
      "text/plain": [
       "NIL"
      ]
     },
     "execution_count": 26,
     "metadata": {},
     "output_type": "execute_result"
    },
    {
     "name": "stdout",
     "output_type": "stream",
     "text": [
      "8421"
     ]
    }
   ],
   "source": [
    "(loop for x = 8 then (/ x 2)\n",
    "      until (< x 1)\n",
    "      do (princ x))"
   ]
  },
  {
   "cell_type": "code",
   "execution_count": 27,
   "metadata": {
    "vscode": {
     "languageId": "commonlisp"
    }
   },
   "outputs": [
    {
     "data": {
      "text/plain": [
       "NIL"
      ]
     },
     "execution_count": 27,
     "metadata": {},
     "output_type": "execute_result"
    },
    {
     "name": "stdout",
     "output_type": "stream",
     "text": [
      "(1 1)(2 2)(3 3)(4 4)"
     ]
    }
   ],
   "source": [
    "(loop for x from 1 to 4\n",
    "        and y from 1 to 4\n",
    "      do (princ (list x y)))"
   ]
  },
  {
   "cell_type": "code",
   "execution_count": 28,
   "metadata": {
    "vscode": {
     "languageId": "commonlisp"
    }
   },
   "outputs": [
    {
     "data": {
      "text/plain": [
       "(2 3 4 5)"
      ]
     },
     "execution_count": 28,
     "metadata": {},
     "output_type": "execute_result"
    }
   ],
   "source": [
    "(loop for x in '(1 2 3 4)\n",
    "      collect (1+ x))"
   ]
  },
  {
   "cell_type": "code",
   "execution_count": 29,
   "metadata": {
    "vscode": {
     "languageId": "commonlisp"
    }
   },
   "outputs": [
    {
     "data": {
      "text/plain": [
       "MY-SUM"
      ]
     },
     "execution_count": 29,
     "metadata": {},
     "output_type": "execute_result"
    },
    {
     "data": {
      "text/plain": [
       "5050"
      ]
     },
     "execution_count": 29,
     "metadata": {},
     "output_type": "execute_result"
    }
   ],
   "source": [
    "(defun my-sum (n)\n",
    "  (loop for x from 1 to n sum x))\n",
    "(my-sum 100)"
   ]
  },
  {
   "cell_type": "code",
   "execution_count": 34,
   "metadata": {
    "vscode": {
     "languageId": "commonlisp"
    }
   },
   "outputs": [
    {
     "data": {
      "text/plain": [
       "3"
      ]
     },
     "execution_count": 34,
     "metadata": {},
     "output_type": "execute_result"
    }
   ],
   "source": [
    "(funcall #'length \"abc\")"
   ]
  },
  {
   "cell_type": "code",
   "execution_count": 2,
   "metadata": {
    "vscode": {
     "languageId": "commonlisp"
    }
   },
   "outputs": [
    {
     "data": {
      "text/plain": [
       "MOST"
      ]
     },
     "execution_count": 2,
     "metadata": {},
     "output_type": "execute_result"
    },
    {
     "data": {
      "text/plain": [
       "MOST-LOOP"
      ]
     },
     "execution_count": 2,
     "metadata": {},
     "output_type": "execute_result"
    },
    {
     "data": {
      "text/plain": [
       "\"abc\""
      ]
     },
     "execution_count": 2,
     "metadata": {},
     "output_type": "execute_result"
    },
    {
     "name": "stdout",
     "output_type": "stream",
     "text": [
      "SB-KERNEL:REDEFINITION-WITH-DEFUN: redefining COMMON-LISP-USER::MOST in DEFUN\n",
      "SB-KERNEL:REDEFINITION-WITH-DEFUN: redefining COMMON-LISP-USER::MOST-LOOP in DEFUN\n",
      "\"abc\"\"abc\""
     ]
    }
   ],
   "source": [
    "(defun most (fn lst)\n",
    "  (if (null lst)\n",
    "      (values nil nil)\n",
    "      (let* ((wins (car lst))\n",
    "             (max (funcall fn wins)))\n",
    "        (dolist (obj (cdr lst))\n",
    "          (let ((score (funcall fn obj)))\n",
    "            (when (> score max)\n",
    "                  (setf wins obj\n",
    "                    max score))))\n",
    "        (values wins max))))\n",
    "\n",
    "(defun most-loop (fn lst)\n",
    "  (if (null lst)\n",
    "      (values nil nil)\n",
    "      (loop with wins = (car lst)\n",
    "            with max = (funcall fn wins)\n",
    "            for obj in (cdr lst)\n",
    "            for score = (funcall fn obj)\n",
    "              when (> score max)\n",
    "            do (setf wins obj\n",
    "                 max score)\n",
    "            finally (return (values wins max)))))\n",
    "\n",
    "(let ((lst '(\"abc\" \"d\" \"ef\")))\n",
    "  (write (most #'length lst))\n",
    "  (write (most-loop #'length lst)))"
   ]
  },
  {
   "cell_type": "markdown",
   "metadata": {},
   "source": [
    "# Conditions"
   ]
  },
  {
   "cell_type": "code",
   "execution_count": null,
   "metadata": {
    "vscode": {
     "languageId": "commonlisp"
    }
   },
   "outputs": [
    {
     "name": "stderr",
     "output_type": "stream",
     "text": [
      "SIMPLE-ERROR: Your report use STATUS as a verb.\n",
      "\n"
     ]
    },
    {
     "ename": "SIMPLE-ERROR",
     "evalue": "Your report use STATUS as a verb.",
     "output_type": "error",
     "traceback": [
      "0: ((LAMBDA NIL :IN \"C:/Users/zhouj/AppData/Local/Temp/0DBEE93AAAD24654D107DD138C881EE5-73707318.lisp\"))",
      "1: (JUPYTER/COMMON-LISP::EVAL-AND-PRINT (ERROR Your report use ~A as a verb. (QUOTE STATUS)) 0 NIL)",
      "2: ((:METHOD JUPYTER:EVALUATE-FORM (JUPYTER/COMMON-LISP:KERNEL T T T)) #<unused argument> #<FORM-TRACKING-STREAM for \"file C:\\\\Users\\\\zhouj\\\\AppData\\\\Local\\\\Temp\\\\0DBEE93AAAD24654D107DD138C881EE5-73707318.lisp\" {11027EC603}> CELL:73707318.LISP.NEWEST NIL #<unused argument> #<unused argument>)",
      "3: (JUPYTER/COMMON-LISP::REPL (error \"Your report use ~A as a verb.\" 'status) CELL:73707318.LISP.NEWEST NIL)",
      "4: ((:METHOD JUPYTER:EVALUATE-CODE (JUPYTER/COMMON-LISP:KERNEL T)) #<unused argument> (error \"Your report use ~A as a verb.\" 'status) CELL:73707318.LISP.NEWEST NIL)",
      "5: (JUPYTER::HANDLE-EXECUTE-REQUEST)",
      "6: (JUPYTER::RUN-SHELL #<KERNEL {1102892B73}>)",
      "7: ((LABELS BORDEAUX-THREADS::%BINDING-DEFAULT-SPECIALS-WRAPPER :IN BORDEAUX-THREADS::BINDING-DEFAULT-SPECIALS))",
      "8: ((FLET SB-UNIX::BODY :IN SB-THREAD::RUN))",
      "9: ((FLET \"WITHOUT-INTERRUPTS-BODY-\" :IN SB-THREAD::RUN))",
      "10: ((FLET SB-UNIX::BODY :IN SB-THREAD::RUN))",
      "11: ((FLET \"WITHOUT-INTERRUPTS-BODY-\" :IN SB-THREAD::RUN))",
      "12: (SB-THREAD::RUN)",
      "13: (\"foreign function: #x140045AB5\")",
      "14: (\"foreign function: #x14000A14A\")"
     ]
    }
   ],
   "source": [
    "; (error \"Your report use ~A as a verb.\" 'status)"
   ]
  },
  {
   "cell_type": "code",
   "execution_count": null,
   "metadata": {
    "vscode": {
     "languageId": "commonlisp"
    }
   },
   "outputs": [
    {
     "name": "stderr",
     "output_type": "stream",
     "text": [
      "CASE-FAILURE: 1 fell through ECASE expression. Wanted one of (2 4).\n",
      "\n"
     ]
    },
    {
     "ename": "CASE-FAILURE",
     "evalue": "1 fell through ECASE expression. Wanted one of (2 4).",
     "output_type": "error",
     "traceback": [
      "0: ((LAMBDA NIL :IN \"C:/Users/zhouj/AppData/Local/Temp/0DBEE93AAAD24654D107DD138C881EE5-1129437588.lisp\"))",
      "1: (JUPYTER/COMMON-LISP::EVAL-AND-PRINT (ECASE 1 (2 3) (4 5)) 0 NIL)",
      "2: ((:METHOD JUPYTER:EVALUATE-FORM (JUPYTER/COMMON-LISP:KERNEL T T T)) #<unused argument> #<FORM-TRACKING-STREAM for \"file C:\\\\Users\\\\zhouj\\\\AppData\\\\Local\\\\Temp\\\\0DBEE93AAAD24654D107DD138C881EE5-1129437588.lisp\" {11029F0E13}> CELL:1129437588.LISP.NEWEST NIL #<unused argument> #<unused argument>)",
      "3: (JUPYTER/COMMON-LISP::REPL (ecase 1 (2 3) (4 5)) CELL:1129437588.LISP.NEWEST NIL)",
      "4: ((:METHOD JUPYTER:EVALUATE-CODE (JUPYTER/COMMON-LISP:KERNEL T)) #<unused argument> (ecase 1 (2 3) (4 5)) CELL:1129437588.LISP.NEWEST NIL)",
      "5: (JUPYTER::HANDLE-EXECUTE-REQUEST)",
      "6: (JUPYTER::RUN-SHELL #<KERNEL {1102892B73}>)",
      "7: ((LABELS BORDEAUX-THREADS::%BINDING-DEFAULT-SPECIALS-WRAPPER :IN BORDEAUX-THREADS::BINDING-DEFAULT-SPECIALS))",
      "8: ((FLET SB-UNIX::BODY :IN SB-THREAD::RUN))",
      "9: ((FLET \"WITHOUT-INTERRUPTS-BODY-\" :IN SB-THREAD::RUN))",
      "10: ((FLET SB-UNIX::BODY :IN SB-THREAD::RUN))",
      "11: ((FLET \"WITHOUT-INTERRUPTS-BODY-\" :IN SB-THREAD::RUN))",
      "12: (SB-THREAD::RUN)",
      "13: (\"foreign function: #x140045AB5\")",
      "14: (\"foreign function: #x14000A14A\")"
     ]
    }
   ],
   "source": [
    "; (ecase 1 (2 3) (4 5))"
   ]
  },
  {
   "cell_type": "code",
   "execution_count": null,
   "metadata": {
    "vscode": {
     "languageId": "commonlisp"
    }
   },
   "outputs": [
    {
     "name": "stderr",
     "output_type": "stream",
     "text": [
      "SIMPLE-TYPE-ERROR: The value of (CAR X) is A, which is not an integer.\n",
      "\n"
     ]
    },
    {
     "ename": "SIMPLE-TYPE-ERROR",
     "evalue": "The value of (CAR X) is A, which is not an integer.",
     "output_type": "error",
     "traceback": [
      "0: (SB-KERNEL:CHECK-TYPE-ERROR (CAR X) A INTEGER an integer)",
      "1: ((LAMBDA NIL :IN \"C:/Users/zhouj/AppData/Local/Temp/0DBEE93AAAD24654D107DD138C881EE5-762596921.lisp\"))",
      "2: (JUPYTER/COMMON-LISP::EVAL-AND-PRINT (LET ((X (QUOTE (A B C)))) (CHECK-TYPE (CAR X) INTEGER an integer) X) 0 NIL)",
      "3: ((:METHOD JUPYTER:EVALUATE-FORM (JUPYTER/COMMON-LISP:KERNEL T T T)) #<unused argument> #<FORM-TRACKING-STREAM for \"file C:\\\\Users\\\\zhouj\\\\AppData\\\\Local\\\\Temp\\\\0DBEE93AAAD24654D107DD138C881EE5-762596921.lisp\" {1102A355D3}> CELL:762596921.LISP.NEWEST NIL #<unused argument> #<unused argument>)",
      "4: (JUPYTER/COMMON-LISP::REPL (let ((x '(a b c)))\n  (check-type (car x) integer \"an integer\")\n  x) CELL:762596921.LISP.NEWEST NIL)",
      "5: ((:METHOD JUPYTER:EVALUATE-CODE (JUPYTER/COMMON-LISP:KERNEL T)) #<unused argument> (let ((x '(a b c)))\n  (check-type (car x) integer \"an integer\")\n  x) CELL:762596921.LISP.NEWEST NIL)",
      "6: (JUPYTER::HANDLE-EXECUTE-REQUEST)",
      "7: (JUPYTER::RUN-SHELL #<KERNEL {1102892B73}>)",
      "8: ((LABELS BORDEAUX-THREADS::%BINDING-DEFAULT-SPECIALS-WRAPPER :IN BORDEAUX-THREADS::BINDING-DEFAULT-SPECIALS))",
      "9: ((FLET SB-UNIX::BODY :IN SB-THREAD::RUN))",
      "10: ((FLET \"WITHOUT-INTERRUPTS-BODY-\" :IN SB-THREAD::RUN))",
      "11: ((FLET SB-UNIX::BODY :IN SB-THREAD::RUN))",
      "12: ((FLET \"WITHOUT-INTERRUPTS-BODY-\" :IN SB-THREAD::RUN))",
      "13: (SB-THREAD::RUN)",
      "14: (\"foreign function: #x140045AB5\")",
      "15: (\"foreign function: #x14000A14A\")"
     ]
    },
    {
     "name": "stdout",
     "output_type": "stream",
     "text": [
      "SB-INT:CONSTANT-MODIFIED: Destructive function SB-KERNEL:%RPLACA called on constant data: (A B C)\n",
      "See also:\n",
      "  The ANSI Standard, Special Operator QUOTE\n",
      "  The ANSI Standard, Section 3.7.1\n"
     ]
    }
   ],
   "source": [
    "; (let ((x '(a b c)))\n",
    ";   (check-type (car x) integer \"an integer\")\n",
    ";   x)"
   ]
  },
  {
   "cell_type": "code",
   "execution_count": null,
   "metadata": {
    "vscode": {
     "languageId": "commonlisp"
    }
   },
   "outputs": [
    {
     "name": "stderr",
     "output_type": "stream",
     "text": [
      "SIMPLE-ERROR: I wanted a CHICKEN sandwich.\n",
      "\n"
     ]
    },
    {
     "ename": "SIMPLE-ERROR",
     "evalue": "I wanted a CHICKEN sandwich.",
     "output_type": "error",
     "traceback": [
      "0: (SB-KERNEL:ASSERT-ERROR (EQL (CAR SANDWICH) (QUOTE CHICKEN)) 1 (CAR SANDWICH) HAM ((CAR SANDWICH)) I wanted a ~A sandwich. CHICKEN)",
      "1: ((LAMBDA NIL :IN \"C:/Users/zhouj/AppData/Local/Temp/0DBEE93AAAD24654D107DD138C881EE5-4009002452.lisp\"))",
      "2: (JUPYTER/COMMON-LISP::EVAL-AND-PRINT (LET ((SANDWICH (QUOTE (HAM ON RYE)))) (ASSERT (EQL (CAR SANDWICH) (QUOTE CHICKEN)) ((CAR SANDWICH)) I wanted a ~A sandwich. (QUOTE CHICKEN)) SANDWICH) 0 NIL)",
      "3: ((:METHOD JUPYTER:EVALUATE-FORM (JUPYTER/COMMON-LISP:KERNEL T T T)) #<unused argument> #<FORM-TRACKING-STREAM for \"file C:\\\\Users\\\\zhouj\\\\AppData\\\\Local\\\\Temp\\\\0DBEE93AAAD24654D107DD138C881EE5-4009002452.lisp\" {1102B05653}> CELL:4009002452.LISP.NEWEST NIL #<unused argument> #<unused argument>)",
      "4: (JUPYTER/COMMON-LISP::REPL (let ((sandwich '(ham on rye)))\n  (assert (eql (car sandwich) 'chicken)\n      ((car sandwich))\n      \"I wanted a ~A sandwich.\" 'chicken)\n  sandwich) CELL:4009002452.LISP.NEWEST NIL)",
      "5: ((:METHOD JUPYTER:EVALUATE-CODE (JUPYTER/COMMON-LISP:KERNEL T)) #<unused argument> (let ((sandwich '(ham on rye)))\n  (assert (eql (car sandwich) 'chicken)\n      ((car sandwich))\n      \"I wanted a ~A sandwich.\" 'chicken)\n  sandwich) CELL:4009002452.LISP.NEWEST NIL)",
      "6: (JUPYTER::HANDLE-EXECUTE-REQUEST)",
      "7: (JUPYTER::RUN-SHELL #<KERNEL {1102892B73}>)",
      "8: ((LABELS BORDEAUX-THREADS::%BINDING-DEFAULT-SPECIALS-WRAPPER :IN BORDEAUX-THREADS::BINDING-DEFAULT-SPECIALS))",
      "9: ((FLET SB-UNIX::BODY :IN SB-THREAD::RUN))",
      "10: ((FLET \"WITHOUT-INTERRUPTS-BODY-\" :IN SB-THREAD::RUN))",
      "11: ((FLET SB-UNIX::BODY :IN SB-THREAD::RUN))",
      "12: ((FLET \"WITHOUT-INTERRUPTS-BODY-\" :IN SB-THREAD::RUN))",
      "13: (SB-THREAD::RUN)",
      "14: (\"foreign function: #x140045AB5\")",
      "15: (\"foreign function: #x14000A14A\")"
     ]
    },
    {
     "name": "stdout",
     "output_type": "stream",
     "text": [
      "SB-INT:CONSTANT-MODIFIED: Destructive function SB-KERNEL:%RPLACA called on constant data: (HAM ON RYE)\n",
      "See also:\n",
      "  The ANSI Standard, Special Operator QUOTE\n",
      "  The ANSI Standard, Section 3.7.1\n"
     ]
    }
   ],
   "source": [
    "; (let ((sandwich '(ham on rye)))\n",
    ";   (assert (eql (car sandwich) 'chicken)\n",
    ";       ((car sandwich))\n",
    ";       \"I wanted a ~A sandwich.\" 'chicken)\n",
    ";   sandwich)"
   ]
  },
  {
   "cell_type": "code",
   "execution_count": null,
   "metadata": {
    "vscode": {
     "languageId": "commonlisp"
    }
   },
   "outputs": [
    {
     "data": {
      "text/plain": [
       "USER-INPUT"
      ]
     },
     "execution_count": 5,
     "metadata": {},
     "output_type": "execute_result"
    },
    {
     "name": "stdout",
     "output_type": "stream",
     "text": [
      "SB-KERNEL:REDEFINITION-WITH-DEFUN: redefining COMMON-LISP-USER::USER-INPUT in DEFUN\n",
      "please type an expression> "
     ]
    },
    {
     "data": {
      "text/plain": [
       "NIL"
      ]
     },
     "execution_count": 5,
     "metadata": {},
     "output_type": "execute_result"
    },
    {
     "name": "stdout",
     "output_type": "stream",
     "text": [
      "#%@#+!!\n"
     ]
    }
   ],
   "source": [
    "(defun user-input (prompt)\n",
    "  (format t prompt)\n",
    "  (let ((str (read-line)))\n",
    "    (format t \"~A~%\" str)\n",
    "    (or (ignore-errors (read-from-string str))\n",
    "        nil)))\n",
    "\n",
    "(user-input \"please type an expression> \") ; #%@#+!!"
   ]
  }
 ],
 "metadata": {
  "kernelspec": {
   "display_name": "Common Lisp",
   "language": "common-lisp",
   "name": "common-lisp"
  },
  "language_info": {
   "codemirror_mode": "text/x-common-lisp",
   "file_extension": ".lisp",
   "mimetype": "text/x-common-lisp",
   "name": "common-lisp",
   "pygments_lexer": "common-lisp",
   "version": "2.4.7"
  }
 },
 "nbformat": 4,
 "nbformat_minor": 2
}
