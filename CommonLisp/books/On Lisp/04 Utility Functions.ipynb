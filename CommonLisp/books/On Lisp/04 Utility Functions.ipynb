{
 "cells": [
  {
   "cell_type": "code",
   "execution_count": 1,
   "metadata": {
    "vscode": {
     "languageId": "commonlisp"
    }
   },
   "outputs": [
    {
     "data": {
      "text/plain": [
       "T"
      ]
     },
     "execution_count": 1,
     "metadata": {},
     "output_type": "execute_result"
    },
    {
     "data": {
      "text/plain": [
       "#<PACKAGE \"ON-LISP\">"
      ]
     },
     "execution_count": 1,
     "metadata": {},
     "output_type": "execute_result"
    },
    {
     "data": {
      "text/plain": [
       "\"Hello, On Lisp!\""
      ]
     },
     "execution_count": 1,
     "metadata": {},
     "output_type": "execute_result"
    },
    {
     "name": "stdout",
     "output_type": "stream",
     "text": [
      "\n",
      "\"Hello, On Lisp!\" "
     ]
    }
   ],
   "source": [
    "(load \"on-lisp\")\n",
    "\n",
    "(in-package :on-lisp)\n",
    "(hello)"
   ]
  },
  {
   "cell_type": "markdown",
   "metadata": {},
   "source": [
    "# Mapping"
   ]
  },
  {
   "cell_type": "code",
   "execution_count": null,
   "metadata": {
    "vscode": {
     "languageId": "commonlisp"
    }
   },
   "outputs": [
    {
     "data": {
      "text/plain": [
       "(1 2 3 4 5 6)"
      ]
     },
     "execution_count": 2,
     "metadata": {},
     "output_type": "execute_result"
    }
   ],
   "source": [
    "(map0-n #'1+ 5)"
   ]
  },
  {
   "cell_type": "code",
   "execution_count": null,
   "metadata": {
    "vscode": {
     "languageId": "commonlisp"
    }
   },
   "outputs": [
    {
     "data": {
      "text/plain": [
       "(-1 -0.5 0.0 0.5 1.0)"
      ]
     },
     "execution_count": 3,
     "metadata": {},
     "output_type": "execute_result"
    }
   ],
   "source": [
    "(mapa-b #'1+ -2 0 .5)"
   ]
  },
  {
   "cell_type": "code",
   "execution_count": 4,
   "metadata": {
    "vscode": {
     "languageId": "commonlisp"
    }
   },
   "outputs": [
    {
     "data": {
      "text/plain": [
       "(1 2 (3 4 (5) 6) 7 (8 9))"
      ]
     },
     "execution_count": 4,
     "metadata": {},
     "output_type": "execute_result"
    },
    {
     "name": "stdout",
     "output_type": "stream",
     "text": [
      "123456789"
     ]
    }
   ],
   "source": [
    "(rmapcar #'princ '(1 2 (3 4 (5) 6) 7 (8 9)))"
   ]
  },
  {
   "cell_type": "code",
   "execution_count": 5,
   "metadata": {
    "vscode": {
     "languageId": "commonlisp"
    }
   },
   "outputs": [
    {
     "data": {
      "text/plain": [
       "(11 (22 (33) 44))"
      ]
     },
     "execution_count": 5,
     "metadata": {},
     "output_type": "execute_result"
    }
   ],
   "source": [
    "(rmapcar #'+ '(1 (2 (3) 4)) '(10 (20 (30) 40)))"
   ]
  }
 ],
 "metadata": {
  "kernelspec": {
   "display_name": "Common Lisp",
   "language": "common-lisp",
   "name": "common-lisp"
  },
  "language_info": {
   "codemirror_mode": "text/x-common-lisp",
   "file_extension": ".lisp",
   "mimetype": "text/x-common-lisp",
   "name": "common-lisp",
   "pygments_lexer": "common-lisp",
   "version": "2.4.10"
  }
 },
 "nbformat": 4,
 "nbformat_minor": 2
}
