{
 "cells": [
  {
   "cell_type": "code",
   "execution_count": 1,
   "metadata": {
    "vscode": {
     "languageId": "commonlisp"
    }
   },
   "outputs": [
    {
     "data": {
      "text/plain": [
       "T"
      ]
     },
     "execution_count": 1,
     "metadata": {},
     "output_type": "execute_result"
    },
    {
     "data": {
      "text/plain": [
       "\"Hello, Common!\""
      ]
     },
     "execution_count": 1,
     "metadata": {},
     "output_type": "execute_result"
    },
    {
     "data": {
      "text/plain": [
       "T"
      ]
     },
     "execution_count": 1,
     "metadata": {},
     "output_type": "execute_result"
    },
    {
     "data": {
      "text/plain": [
       "#<PACKAGE \"ON-LISP\">"
      ]
     },
     "execution_count": 1,
     "metadata": {},
     "output_type": "execute_result"
    },
    {
     "data": {
      "text/plain": [
       "\"Hello, On Lisp!\""
      ]
     },
     "execution_count": 1,
     "metadata": {},
     "output_type": "execute_result"
    },
    {
     "name": "stdout",
     "output_type": "stream",
     "text": [
      "\n",
      "\"Hello, Common!\" \n",
      "\"Hello, On Lisp!\" "
     ]
    }
   ],
   "source": [
    "(load \"../../common\")\n",
    "(cl-common:hello)\n",
    "\n",
    "(load \"on-lisp\")\n",
    "\n",
    "(in-package :on-lisp)\n",
    "(hello)"
   ]
  },
  {
   "cell_type": "markdown",
   "metadata": {},
   "source": [
    "# Defining Functions"
   ]
  },
  {
   "cell_type": "code",
   "execution_count": 2,
   "metadata": {
    "vscode": {
     "languageId": "commonlisp"
    }
   },
   "outputs": [
    {
     "data": {
      "text/plain": [
       "DOUBLE"
      ]
     },
     "execution_count": 2,
     "metadata": {},
     "output_type": "execute_result"
    }
   ],
   "source": [
    "(defun double (x)\n",
    "  (* x 2))"
   ]
  },
  {
   "cell_type": "code",
   "execution_count": 3,
   "metadata": {
    "vscode": {
     "languageId": "commonlisp"
    }
   },
   "outputs": [
    {
     "data": {
      "text/plain": [
       "2"
      ]
     },
     "execution_count": 3,
     "metadata": {},
     "output_type": "execute_result"
    }
   ],
   "source": [
    "(double 1)"
   ]
  },
  {
   "cell_type": "code",
   "execution_count": 4,
   "metadata": {
    "vscode": {
     "languageId": "commonlisp"
    }
   },
   "outputs": [
    {
     "data": {
      "text/plain": [
       "#<FUNCTION DOUBLE>"
      ]
     },
     "execution_count": 4,
     "metadata": {},
     "output_type": "execute_result"
    }
   ],
   "source": [
    "#'double"
   ]
  },
  {
   "cell_type": "code",
   "execution_count": 5,
   "metadata": {
    "vscode": {
     "languageId": "commonlisp"
    }
   },
   "outputs": [
    {
     "data": {
      "text/plain": [
       "#<FUNCTION DOUBLE>"
      ]
     },
     "execution_count": 5,
     "metadata": {},
     "output_type": "execute_result"
    }
   ],
   "source": [
    "(function double)"
   ]
  },
  {
   "cell_type": "code",
   "execution_count": 6,
   "metadata": {
    "vscode": {
     "languageId": "commonlisp"
    }
   },
   "outputs": [
    {
     "data": {
      "text/plain": [
       "T"
      ]
     },
     "execution_count": 6,
     "metadata": {},
     "output_type": "execute_result"
    }
   ],
   "source": [
    "(eq #'double (function double))"
   ]
  },
  {
   "cell_type": "code",
   "execution_count": 7,
   "metadata": {
    "vscode": {
     "languageId": "commonlisp"
    }
   },
   "outputs": [
    {
     "data": {
      "text/plain": [
       "T"
      ]
     },
     "execution_count": 7,
     "metadata": {},
     "output_type": "execute_result"
    }
   ],
   "source": [
    "(eq #'double (car (list #'double)))"
   ]
  },
  {
   "cell_type": "code",
   "execution_count": 12,
   "metadata": {
    "vscode": {
     "languageId": "commonlisp"
    }
   },
   "outputs": [
    {
     "data": {
      "text/plain": [
       "NIL"
      ]
     },
     "execution_count": 12,
     "metadata": {},
     "output_type": "execute_result"
    },
    {
     "name": "stdout",
     "output_type": "stream",
     "text": [
      "#<FUNCTION (LAMBDA (X)\n",
      "  :IN\n",
      "  \"C:/Users/zhouj/AppData/Local/Temp/7EC2E24C70CC4E8CCF0FE027F8372D99-542064446.lisp\") {1000D8E6CB}>\n"
     ]
    }
   ],
   "source": [
    "; lambda expression\n",
    "; #'(lambda (x) (* x 2))\n",
    "(format t \"~A~%\" #'(lambda (x) (* x 2)))"
   ]
  },
  {
   "cell_type": "code",
   "execution_count": null,
   "metadata": {
    "vscode": {
     "languageId": "commonlisp"
    }
   },
   "outputs": [
    {
     "data": {
      "text/plain": [
       "6"
      ]
     },
     "execution_count": 13,
     "metadata": {},
     "output_type": "execute_result"
    },
    {
     "data": {
      "text/plain": [
       "6"
      ]
     },
     "execution_count": 13,
     "metadata": {},
     "output_type": "execute_result"
    }
   ],
   "source": [
    "(double 3)\n",
    "((lambda (x) (* x 2)) 3) ; appear first in function call"
   ]
  },
  {
   "cell_type": "code",
   "execution_count": 14,
   "metadata": {
    "vscode": {
     "languageId": "commonlisp"
    }
   },
   "outputs": [
    {
     "data": {
      "text/plain": [
       "4"
      ]
     },
     "execution_count": 14,
     "metadata": {},
     "output_type": "execute_result"
    }
   ],
   "source": [
    "; same function name and variable name\n",
    "(let ((double 2))\n",
    "  (double double))"
   ]
  },
  {
   "cell_type": "code",
   "execution_count": 17,
   "metadata": {
    "vscode": {
     "languageId": "commonlisp"
    }
   },
   "outputs": [
    {
     "data": {
      "text/plain": [
       "2"
      ]
     },
     "execution_count": 17,
     "metadata": {},
     "output_type": "execute_result"
    },
    {
     "data": {
      "text/plain": [
       "2"
      ]
     },
     "execution_count": 17,
     "metadata": {},
     "output_type": "execute_result"
    },
    {
     "data": {
      "text/plain": [
       "#<FUNCTION DOUBLE>"
      ]
     },
     "execution_count": 17,
     "metadata": {},
     "output_type": "execute_result"
    },
    {
     "name": "stdout",
     "output_type": "stream",
     "text": [
      "SIMPLE-WARNING: undefined variable: ON-LISP::DOUBLE\n"
     ]
    }
   ],
   "source": [
    "; symbol-value\n",
    "; symbol-function\n",
    "(setq double 2)\n",
    "(symbol-value 'double)\n",
    "(symbol-function 'double)"
   ]
  },
  {
   "cell_type": "code",
   "execution_count": 18,
   "metadata": {
    "vscode": {
     "languageId": "commonlisp"
    }
   },
   "outputs": [
    {
     "data": {
      "text/plain": [
       "#<FUNCTION APPEND>"
      ]
     },
     "execution_count": 18,
     "metadata": {},
     "output_type": "execute_result"
    },
    {
     "data": {
      "text/plain": [
       "T"
      ]
     },
     "execution_count": 18,
     "metadata": {},
     "output_type": "execute_result"
    },
    {
     "name": "stdout",
     "output_type": "stream",
     "text": [
      "SIMPLE-WARNING: undefined variable: ON-LISP::X\n"
     ]
    }
   ],
   "source": [
    "; variable hold a function as its value\n",
    "(setq x #'append)\n",
    "(eq (symbol-value 'x) (symbol-function 'append))"
   ]
  },
  {
   "cell_type": "code",
   "execution_count": 2,
   "metadata": {
    "vscode": {
     "languageId": "commonlisp"
    }
   },
   "outputs": [
    {
     "data": {
      "text/plain": [
       "4"
      ]
     },
     "execution_count": 2,
     "metadata": {},
     "output_type": "execute_result"
    }
   ],
   "source": [
    "(double% 2)"
   ]
  },
  {
   "cell_type": "markdown",
   "metadata": {},
   "source": [
    "# Functional Arguments"
   ]
  },
  {
   "cell_type": "code",
   "execution_count": 3,
   "metadata": {
    "vscode": {
     "languageId": "commonlisp"
    }
   },
   "outputs": [
    {
     "data": {
      "text/plain": [
       "3"
      ]
     },
     "execution_count": 3,
     "metadata": {},
     "output_type": "execute_result"
    },
    {
     "data": {
      "text/plain": [
       "3"
      ]
     },
     "execution_count": 3,
     "metadata": {},
     "output_type": "execute_result"
    },
    {
     "data": {
      "text/plain": [
       "3"
      ]
     },
     "execution_count": 3,
     "metadata": {},
     "output_type": "execute_result"
    },
    {
     "data": {
      "text/plain": [
       "3"
      ]
     },
     "execution_count": 3,
     "metadata": {},
     "output_type": "execute_result"
    },
    {
     "data": {
      "text/plain": [
       "3"
      ]
     },
     "execution_count": 3,
     "metadata": {},
     "output_type": "execute_result"
    },
    {
     "data": {
      "text/plain": [
       "3"
      ]
     },
     "execution_count": 3,
     "metadata": {},
     "output_type": "execute_result"
    }
   ],
   "source": [
    "; apply, funcall\n",
    "(+ 1 2)\n",
    "\n",
    "(apply #'+ '(1 2))\n",
    "(apply #'+ 1 '(2))\n",
    "(apply (symbol-function '+) '(1 2))\n",
    "(apply #'(lambda (x y) (+ x y)) '(1 2))\n",
    "\n",
    "(funcall #'+ 1 2)"
   ]
  },
  {
   "cell_type": "code",
   "execution_count": 5,
   "metadata": {
    "vscode": {
     "languageId": "commonlisp"
    }
   },
   "outputs": [
    {
     "data": {
      "text/plain": [
       "(11 12 13)"
      ]
     },
     "execution_count": 5,
     "metadata": {},
     "output_type": "execute_result"
    },
    {
     "data": {
      "text/plain": [
       "(11 102 1003)"
      ]
     },
     "execution_count": 5,
     "metadata": {},
     "output_type": "execute_result"
    },
    {
     "data": {
      "text/plain": [
       "(1 2 3 4 5 6 7)"
      ]
     },
     "execution_count": 5,
     "metadata": {},
     "output_type": "execute_result"
    },
    {
     "data": {
      "text/plain": [
       "(1 3 5 7)"
      ]
     },
     "execution_count": 5,
     "metadata": {},
     "output_type": "execute_result"
    },
    {
     "name": "stdout",
     "output_type": "stream",
     "text": [
      "SB-INT:CONSTANT-MODIFIED: Destructive function SORT called on constant data: (1 4 2 5 6 7 3)\n",
      "See also:\n",
      "  The ANSI Standard, Special Operator QUOTE\n",
      "  The ANSI Standard, Section 3.7.1\n"
     ]
    }
   ],
   "source": [
    "(mapcar #'(lambda (x) (+ x 10))\n",
    "  '(1 2 3))\n",
    "(mapcar #'+\n",
    "    '(1 2 3)\n",
    "  '(10 100 1000))\n",
    "\n",
    "(sort '(1 4 2 5 6 7 3) #'<)\n",
    "(remove-if #'evenp '(1 2 3 4 5 6 7))"
   ]
  },
  {
   "cell_type": "markdown",
   "metadata": {},
   "source": [
    "# Functions as Properties"
   ]
  },
  {
   "cell_type": "code",
   "execution_count": 1,
   "metadata": {
    "vscode": {
     "languageId": "commonlisp"
    }
   },
   "outputs": [
    {
     "data": {
      "text/plain": [
       "WAG-TAIL"
      ]
     },
     "execution_count": 1,
     "metadata": {},
     "output_type": "execute_result"
    },
    {
     "data": {
      "text/plain": [
       "BARK"
      ]
     },
     "execution_count": 1,
     "metadata": {},
     "output_type": "execute_result"
    },
    {
     "data": {
      "text/plain": [
       "SCURRY"
      ]
     },
     "execution_count": 1,
     "metadata": {},
     "output_type": "execute_result"
    },
    {
     "data": {
      "text/plain": [
       "SQUEAK"
      ]
     },
     "execution_count": 1,
     "metadata": {},
     "output_type": "execute_result"
    },
    {
     "data": {
      "text/plain": [
       "RUB-LEGS"
      ]
     },
     "execution_count": 1,
     "metadata": {},
     "output_type": "execute_result"
    },
    {
     "data": {
      "text/plain": [
       "SCRATCH-CARPET"
      ]
     },
     "execution_count": 1,
     "metadata": {},
     "output_type": "execute_result"
    },
    {
     "data": {
      "text/plain": [
       "BEHAVE%"
      ]
     },
     "execution_count": 1,
     "metadata": {},
     "output_type": "execute_result"
    },
    {
     "data": {
      "text/plain": [
       "BEHAVE"
      ]
     },
     "execution_count": 1,
     "metadata": {},
     "output_type": "execute_result"
    },
    {
     "data": {
      "text/plain": [
       "#<FUNCTION (LAMBDA ()\n",
       "             :IN\n",
       "             \"C:/Users/zhouj/AppData/Local/Temp/E8CA5AFF4C0E46439C21409DEB4C8656-2676620219.lisp\") {1000FD1A3B}>"
      ]
     },
     "execution_count": 1,
     "metadata": {},
     "output_type": "execute_result"
    }
   ],
   "source": [
    "(defun wag-tail () (princ 'wag-tail))\n",
    "(defun bark () (princ 'bark))\n",
    "(defun scurry () (princ 'scurry))\n",
    "(defun squeak () (princ 'squeak))\n",
    "(defun rub-legs () (princ 'rub-legs))\n",
    "(defun scratch-carpet () (princ 'scratch-carpet))\n",
    "\n",
    "(defun behave% (animal)\n",
    "  (case animal\n",
    "    (dog (wag-tail)\n",
    "         (bark))\n",
    "    (rat (scurry)\n",
    "         (squeak))\n",
    "    (cat (rub-legs)\n",
    "         (scratch-carpet))))\n",
    "\n",
    "(defun behave (animal)\n",
    "  (funcall (get animal 'behavior)))\n",
    "\n",
    "(setf (get 'dog 'behavior)\n",
    "  #'(lambda ()\n",
    "      (wag-tail)\n",
    "      (bark)))"
   ]
  },
  {
   "cell_type": "code",
   "execution_count": 3,
   "metadata": {
    "vscode": {
     "languageId": "commonlisp"
    }
   },
   "outputs": [
    {
     "data": {
      "text/plain": [
       "BARK"
      ]
     },
     "execution_count": 3,
     "metadata": {},
     "output_type": "execute_result"
    },
    {
     "name": "stdout",
     "output_type": "stream",
     "text": [
      "WAG-TAILBARK"
     ]
    }
   ],
   "source": [
    "(behave% 'dog)\n"
   ]
  },
  {
   "cell_type": "code",
   "execution_count": 4,
   "metadata": {
    "vscode": {
     "languageId": "commonlisp"
    }
   },
   "outputs": [
    {
     "data": {
      "text/plain": [
       "BARK"
      ]
     },
     "execution_count": 4,
     "metadata": {},
     "output_type": "execute_result"
    },
    {
     "name": "stdout",
     "output_type": "stream",
     "text": [
      "WAG-TAILBARK"
     ]
    }
   ],
   "source": [
    "(behave 'dog)"
   ]
  },
  {
   "cell_type": "markdown",
   "metadata": {},
   "source": [
    "# Scope"
   ]
  },
  {
   "cell_type": "code",
   "execution_count": null,
   "metadata": {
    "vscode": {
     "languageId": "commonlisp"
    }
   },
   "outputs": [
    {
     "data": {
      "text/plain": [
       "SCOPE-TEST"
      ]
     },
     "execution_count": 5,
     "metadata": {},
     "output_type": "execute_result"
    },
    {
     "data": {
      "text/plain": [
       "(3 7)"
      ]
     },
     "execution_count": 5,
     "metadata": {},
     "output_type": "execute_result"
    },
    {
     "name": "stdout",
     "output_type": "stream",
     "text": [
      "SB-INT:SIMPLE-STYLE-WARNING: The variable Y is defined but never used.\n"
     ]
    }
   ],
   "source": [
    "(let ((y 7))\n",
    "  (defun scope-test (x)\n",
    "    (list x y)))\n",
    "\n",
    "(let ((y 5))\n",
    "  (scope-test 3))\n",
    "\n",
    "; (3 7)\n",
    "; lexically scoped"
   ]
  },
  {
   "cell_type": "markdown",
   "metadata": {},
   "source": [
    "# Closures"
   ]
  },
  {
   "cell_type": "code",
   "execution_count": 6,
   "metadata": {
    "vscode": {
     "languageId": "commonlisp"
    }
   },
   "outputs": [
    {
     "data": {
      "text/plain": [
       "LIST+"
      ]
     },
     "execution_count": 6,
     "metadata": {},
     "output_type": "execute_result"
    },
    {
     "data": {
      "text/plain": [
       "(11 12 13)"
      ]
     },
     "execution_count": 6,
     "metadata": {},
     "output_type": "execute_result"
    }
   ],
   "source": [
    "(defun list+ (lst n)\n",
    "  (mapcar #'(lambda (x) (+ x n)) lst))\n",
    "\n",
    "(list+ '(1 2 3) 10)"
   ]
  },
  {
   "cell_type": "code",
   "execution_count": 7,
   "metadata": {
    "vscode": {
     "languageId": "commonlisp"
    }
   },
   "outputs": [
    {
     "data": {
      "text/plain": [
       "RESET-ID"
      ]
     },
     "execution_count": 7,
     "metadata": {},
     "output_type": "execute_result"
    }
   ],
   "source": [
    "(let ((counter 0))\n",
    "  (defun new-id () (incf counter))\n",
    "  (defun reset-id () (setq counter 0)))"
   ]
  },
  {
   "cell_type": "code",
   "execution_count": 2,
   "metadata": {
    "vscode": {
     "languageId": "commonlisp"
    }
   },
   "outputs": [
    {
     "data": {
      "text/plain": [
       "#<FUNCTION (LAMBDA (X) :IN MAKE-ADDER) {110214495B}>"
      ]
     },
     "execution_count": 2,
     "metadata": {},
     "output_type": "execute_result"
    },
    {
     "data": {
      "text/plain": [
       "7"
      ]
     },
     "execution_count": 2,
     "metadata": {},
     "output_type": "execute_result"
    },
    {
     "data": {
      "text/plain": [
       "13"
      ]
     },
     "execution_count": 2,
     "metadata": {},
     "output_type": "execute_result"
    },
    {
     "name": "stdout",
     "output_type": "stream",
     "text": [
      "SIMPLE-WARNING: undefined variable: ON-LISP::ADD10\n",
      "SIMPLE-WARNING: undefined variable: ON-LISP::ADD2\n",
      "SIMPLE-WARNING: undefined variable: ON-LISP::ADD2\n",
      "SIMPLE-WARNING: undefined variable: ON-LISP::ADD10\n"
     ]
    }
   ],
   "source": [
    "(setq add2 (make-adder 2)\n",
    "  add10 (make-adder 10))\n",
    "\n",
    "(funcall add2 5)\n",
    "(funcall add10 3)"
   ]
  },
  {
   "cell_type": "code",
   "execution_count": 1,
   "metadata": {
    "vscode": {
     "languageId": "commonlisp"
    }
   },
   "outputs": [
    {
     "data": {
      "text/plain": [
       "MAKE-ADDERB"
      ]
     },
     "execution_count": 1,
     "metadata": {},
     "output_type": "execute_result"
    },
    {
     "data": {
      "text/plain": [
       "(4 100 103)"
      ]
     },
     "execution_count": 1,
     "metadata": {},
     "output_type": "execute_result"
    }
   ],
   "source": [
    "; change internal state\n",
    "(defun make-adderb (n)\n",
    "  #'(lambda (x &optional change)\n",
    "      (if change\n",
    "          (setq n x)\n",
    "          (+ x n))))\n",
    "\n",
    "(let ((addx (make-adderb 1)))\n",
    "  (list\n",
    "   (funcall addx 3)\n",
    "   (funcall addx 100 t)\n",
    "   (funcall addx 3)))"
   ]
  },
  {
   "cell_type": "code",
   "execution_count": null,
   "metadata": {
    "vscode": {
     "languageId": "commonlisp"
    }
   },
   "outputs": [
    {
     "data": {
      "text/plain": [
       "MAKE-DBMS"
      ]
     },
     "execution_count": 2,
     "metadata": {},
     "output_type": "execute_result"
    },
    {
     "data": {
      "text/plain": [
       "LOOKUP"
      ]
     },
     "execution_count": 2,
     "metadata": {},
     "output_type": "execute_result"
    },
    {
     "data": {
      "text/plain": [
       "(US LODON ENGLAND FRANCE)"
      ]
     },
     "execution_count": 2,
     "metadata": {},
     "output_type": "execute_result"
    }
   ],
   "source": [
    "; closures share same object\n",
    "(defun make-dbms (db)\n",
    "  (list\n",
    "   #'(lambda (key)\n",
    "       (cdr (assoc key db)))\n",
    "   #'(lambda (key val)\n",
    "       (push (cons key val) db)\n",
    "       key)\n",
    "   #'(lambda (key)\n",
    "       (setf db (delete key db :key #'car))\n",
    "       key)))\n",
    "\n",
    "(defun lookup (key db)\n",
    "  (funcall (car db) key))\n",
    "\n",
    "(let ((cities (make-dbms '((boston . us) (paris . france)))))\n",
    "  (list\n",
    "   (funcall (car cities) 'boston)\n",
    "   (funcall (second cities) 'lodon 'england)\n",
    "   (funcall (car cities) 'lodon)\n",
    "   (lookup 'paris cities)))"
   ]
  },
  {
   "cell_type": "markdown",
   "metadata": {},
   "source": [
    "# Local Functions"
   ]
  },
  {
   "cell_type": "code",
   "execution_count": 1,
   "metadata": {
    "vscode": {
     "languageId": "commonlisp"
    }
   },
   "outputs": [
    {
     "data": {
      "text/plain": [
       "4"
      ]
     },
     "execution_count": 1,
     "metadata": {},
     "output_type": "execute_result"
    }
   ],
   "source": [
    "; labels\n",
    "\n",
    "(labels ((inc (x) (1+ x)))\n",
    "  (inc 3))"
   ]
  },
  {
   "cell_type": "code",
   "execution_count": 3,
   "metadata": {
    "vscode": {
     "languageId": "commonlisp"
    }
   },
   "outputs": [
    {
     "data": {
      "text/plain": [
       "(1 2 1 2)"
      ]
     },
     "execution_count": 3,
     "metadata": {},
     "output_type": "execute_result"
    }
   ],
   "source": [
    "; refer to other functions including self\n",
    "(count-instances 'a '((a b c) (d a r p a) (d a r) (a a)))"
   ]
  },
  {
   "cell_type": "markdown",
   "metadata": {},
   "source": [
    "# Tail Recursion"
   ]
  },
  {
   "cell_type": "code",
   "execution_count": 4,
   "metadata": {
    "vscode": {
     "languageId": "commonlisp"
    }
   },
   "outputs": [
    {
     "data": {
      "text/plain": [
       "OUR-LENGTH"
      ]
     },
     "execution_count": 4,
     "metadata": {},
     "output_type": "execute_result"
    },
    {
     "data": {
      "text/plain": [
       "OUR-FIND-IF"
      ]
     },
     "execution_count": 4,
     "metadata": {},
     "output_type": "execute_result"
    }
   ],
   "source": [
    "; not\n",
    "(defun our-length (lst)\n",
    "  (if (null lst)\n",
    "      0\n",
    "      (1+ (our-length (cdr lst)))))\n",
    "\n",
    "; is\n",
    "(defun our-find-if (fn lst)\n",
    "  (if (funcall fn (car lst))\n",
    "      (car lst)\n",
    "      (our-find-if fn (cdr lst))))"
   ]
  },
  {
   "cell_type": "code",
   "execution_count": 5,
   "metadata": {
    "vscode": {
     "languageId": "commonlisp"
    }
   },
   "outputs": [
    {
     "data": {
      "text/plain": [
       "OUR-LENGTH%"
      ]
     },
     "execution_count": 5,
     "metadata": {},
     "output_type": "execute_result"
    }
   ],
   "source": [
    "; use local function and accumulator to transform into tail-recursion\n",
    "(defun our-length% (lst)\n",
    "  (labels ((rec (lst acc)\n",
    "                (if (null lst)\n",
    "                    acc\n",
    "                    (rec (cdr lst) (1+ acc)))))\n",
    "    (rec lst 0)))"
   ]
  },
  {
   "cell_type": "code",
   "execution_count": null,
   "metadata": {
    "vscode": {
     "languageId": "commonlisp"
    }
   },
   "outputs": [
    {
     "data": {
      "text/plain": [
       "4"
      ]
     },
     "execution_count": 6,
     "metadata": {},
     "output_type": "execute_result"
    },
    {
     "data": {
      "text/plain": [
       "4"
      ]
     },
     "execution_count": 6,
     "metadata": {},
     "output_type": "execute_result"
    }
   ],
   "source": [
    "(our-length '(a b c d))\n",
    "(our-length% '(a b c d))"
   ]
  },
  {
   "cell_type": "code",
   "execution_count": 7,
   "metadata": {
    "vscode": {
     "languageId": "commonlisp"
    }
   },
   "outputs": [
    {
     "data": {
      "text/plain": [
       "TRIANGLE"
      ]
     },
     "execution_count": 7,
     "metadata": {},
     "output_type": "execute_result"
    }
   ],
   "source": [
    "; type declaration for compiler\n",
    "\n",
    "(defun triangle (n)\n",
    "  (labels ((tri (c n)\n",
    "                (declare (type fixnum n c))\n",
    "                (if (zerop n)\n",
    "                    c\n",
    "                    (tri (the fixnum (+ n c))\n",
    "                         (the fixnum (- n 1))))))\n",
    "    (tri 0 n)))"
   ]
  },
  {
   "cell_type": "markdown",
   "metadata": {},
   "source": [
    "# Compilation"
   ]
  },
  {
   "cell_type": "code",
   "execution_count": null,
   "metadata": {
    "vscode": {
     "languageId": "commonlisp"
    }
   },
   "outputs": [
    {
     "data": {
      "text/plain": [
       "FOO"
      ]
     },
     "execution_count": 1,
     "metadata": {},
     "output_type": "execute_result"
    },
    {
     "data": {
      "text/plain": [
       "T"
      ]
     },
     "execution_count": 1,
     "metadata": {},
     "output_type": "execute_result"
    },
    {
     "data": {
      "text/plain": [
       "FOO"
      ]
     },
     "execution_count": 1,
     "metadata": {},
     "output_type": "execute_result"
    },
    {
     "data": {
      "text/plain": [
       "NIL"
      ]
     },
     "execution_count": 1,
     "metadata": {},
     "output_type": "execute_result"
    },
    {
     "data": {
      "text/plain": [
       "NIL"
      ]
     },
     "execution_count": 1,
     "metadata": {},
     "output_type": "execute_result"
    },
    {
     "data": {
      "text/plain": [
       "T"
      ]
     },
     "execution_count": 1,
     "metadata": {},
     "output_type": "execute_result"
    },
    {
     "data": {
      "text/plain": [
       "#<FUNCTION (LAMBDA (X)\n",
       "             :IN\n",
       "             \"C:/Users/zhouj/AppData/Local/Temp/FE9B18CD07F946BDA6FE346210D09645-437650464.lisp\") {1000F7677B}>"
      ]
     },
     "execution_count": 1,
     "metadata": {},
     "output_type": "execute_result"
    },
    {
     "data": {
      "text/plain": [
       "NIL"
      ]
     },
     "execution_count": 1,
     "metadata": {},
     "output_type": "execute_result"
    },
    {
     "data": {
      "text/plain": [
       "NIL"
      ]
     },
     "execution_count": 1,
     "metadata": {},
     "output_type": "execute_result"
    },
    {
     "data": {
      "text/plain": [
       "T"
      ]
     },
     "execution_count": 1,
     "metadata": {},
     "output_type": "execute_result"
    },
    {
     "name": "stdout",
     "output_type": "stream",
     "text": [
      "SB-INT:SIMPLE-STYLE-WARNING: undefined function: COMMON-LISP-USER::BAR\n"
     ]
    }
   ],
   "source": [
    "(defun foo (x) (1+ x))\n",
    "\n",
    "(compiled-function-p #'foo)\n",
    "(compile 'foo)\n",
    "(compiled-function-p #'foo)\n",
    "\n",
    "(compile nil '(lambda (x) (+ x 2)))\n",
    "\n",
    "; define\n",
    "(progn (compile 'bar '(lambda (x) (* x 3)))\n",
    "       (compiled-function-p #'bar))"
   ]
  },
  {
   "cell_type": "code",
   "execution_count": 1,
   "metadata": {
    "vscode": {
     "languageId": "commonlisp"
    }
   },
   "outputs": [
    {
     "data": {
      "text/plain": [
       "FOO"
      ]
     },
     "execution_count": 1,
     "metadata": {},
     "output_type": "execute_result"
    },
    {
     "data": {
      "text/plain": [
       "FOO"
      ]
     },
     "execution_count": 1,
     "metadata": {},
     "output_type": "execute_result"
    },
    {
     "data": {
      "text/plain": [
       "NIL"
      ]
     },
     "execution_count": 1,
     "metadata": {},
     "output_type": "execute_result"
    },
    {
     "data": {
      "text/plain": [
       "NIL"
      ]
     },
     "execution_count": 1,
     "metadata": {},
     "output_type": "execute_result"
    }
   ],
   "source": [
    "(let ((y 2))\n",
    "  (defun foo (x) (+ x y)))\n",
    "\n",
    "(compile 'foo)"
   ]
  },
  {
   "cell_type": "code",
   "execution_count": null,
   "metadata": {
    "vscode": {
     "languageId": "commonlisp"
    }
   },
   "outputs": [
    {
     "data": {
      "text/plain": [
       "MAKE-ADDER"
      ]
     },
     "execution_count": 3,
     "metadata": {},
     "output_type": "execute_result"
    },
    {
     "data": {
      "text/plain": [
       "NIL"
      ]
     },
     "execution_count": 3,
     "metadata": {},
     "output_type": "execute_result"
    },
    {
     "data": {
      "text/plain": [
       "NIL"
      ]
     },
     "execution_count": 3,
     "metadata": {},
     "output_type": "execute_result"
    },
    {
     "data": {
      "text/plain": [
       "T"
      ]
     },
     "execution_count": 3,
     "metadata": {},
     "output_type": "execute_result"
    }
   ],
   "source": [
    "(compile 'make-adder)\n",
    "\n",
    "(compiled-function-p (make-adder 2)) ; return compiled functions"
   ]
  },
  {
   "cell_type": "code",
   "execution_count": 2,
   "metadata": {
    "vscode": {
     "languageId": "commonlisp"
    }
   },
   "outputs": [
    {
     "data": {
      "text/plain": [
       "FOO"
      ]
     },
     "execution_count": 2,
     "metadata": {},
     "output_type": "execute_result"
    },
    {
     "data": {
      "text/plain": [
       "NIL"
      ]
     },
     "execution_count": 2,
     "metadata": {},
     "output_type": "execute_result"
    },
    {
     "data": {
      "text/plain": [
       "NIL"
      ]
     },
     "execution_count": 2,
     "metadata": {},
     "output_type": "execute_result"
    },
    {
     "name": "stdout",
     "output_type": "stream",
     "text": [
      "SB-INT:SIMPLE-STYLE-WARNING: The variable LIST is defined but never used.\n",
      "SIMPLE-WARNING: undefined variable: ON-LISP::LST\n",
      "\n",
      "; disassembly for 50TH\n",
      "; Size: 78 bytes. Origin: #x10010747EB    ; 50TH\n",
      ";   7EB:  498B4510         MOV  RAX, [R13+16]   ; thread.binding-stack-pointer\n",
      "\n",
      "\n",
      ";   7EF:  488945F8         MOV  [RBP-8], RAX\n",
      "\n",
      ";   7F3:  41844424F8       TEST  AL, [R12-8]   ; safepoint\n",
      "\n",
      "\n",
      ";   7F8:  4883EC10         SUB  RSP, 16\n",
      "\n",
      ";   7FC:  488B15ADFFFFFF   MOV  RDX, [RIP-83]   ; '(INLINE 50TH)\n",
      "\n",
      "\n",
      ";   803:  B902000000       MOV  ECX, 2\n",
      "\n",
      ";   808:  48892C24         MOV  [RSP], RBP\n",
      "\n",
      ";   80C:  488BEC           MOV  RBP, RSP\n",
      "\n",
      ";   80F:  498B45F0         MOV  RAX, [R13-16]   ; thread.linkage-table\n",
      "\n",
      "\n",
      ";   813:  FF9020280000     CALL  [RAX+10272]   ; PROCLAIM\n",
      "\n",
      "\n",
      ";   819:  4C8B45F0         MOV  R8, [RBP-16]\n",
      "\n",
      ";   81D:  BA62000000       MOV  EDX, 98\n",
      "\n",
      ";   822:  498BF8           MOV  RDI, R8\n",
      "\n",
      ";   825:  B904000000       MOV  ECX, 4\n",
      "\n",
      ";   82A:  FF7508           PUSH  QWORD PTR [RBP+8]\n",
      "\n",
      ";   82D:  498B45F0         MOV  RAX, [R13-16]   ; thread.linkage-table\n",
      "\n",
      "\n",
      ";   831:  FFA0A0090000     JMP  [RAX+2464]   ; NTH\n",
      "\n",
      "\n",
      ";   837:  CC0F             INT3  15   ; Invalid argument count trap\n",
      "\n",
      "\n",
      "; disassembly for FOO\n",
      "; Size: 93 bytes. Origin: #x1001075C51    ; FOO\n",
      ";   51:  498B4510         MOV  RAX, [R13+16]   ; thread.binding-stack-pointer\n",
      "\n",
      "\n",
      ";   55:  488945F0         MOV  [RBP-16], RAX\n",
      "\n",
      ";   59:  41844424F8       TEST  AL, [R12-8]   ; safepoint\n",
      "\n",
      "\n",
      ";   5E:  488B3553FFFFFF   MOV  RSI, [RIP-173]   ; 'LST\n",
      "\n",
      "\n",
      ";   65:  8B56F5           MOV  EDX, [RSI-11]\n",
      "\n",
      ";   68:  4A8B142A         MOV  RDX, [RDX+R13]\n",
      "\n",
      ";   6C:  4883FAFF         CMP  RDX, -1\n",
      "\n",
      ";   70:  480F445601       CMOVEQ  RDX, [RSI+1]\n",
      "\n",
      ";   75:  80FA09           CMP  DL, 9\n",
      "\n",
      ";   78:  7431             JEQ  L0\n",
      "\n",
      ";   7A:  4883EC10         SUB  RSP, 16\n",
      "\n",
      ";   7E:  B902000000       MOV  ECX, 2\n",
      "\n",
      ";   83:  48892C24         MOV  [RSP], RBP\n",
      "\n",
      ";   87:  488BEC           MOV  RBP, RSP\n",
      "\n",
      ";   8A:  498B45F0         MOV  RAX, [R13-16]   ; thread.linkage-table\n",
      "\n",
      "\n",
      ";   8E:  FF90A8240100     CALL  [RAX+74920]   ; 50TH\n",
      "\n",
      "\n",
      ";   94:  480F42E3         CMOVB  RSP, RBX\n",
      "\n",
      ";   98:  BF02000000       MOV  EDI, 2\n",
      "\n",
      ";   9D:  FF142538050120   CALL  [#x20010538]   ; #x1000000E60: GENERIC-+\n",
      "\n",
      "\n",
      ";   A4:  C9               LEAVE\n",
      "\n",
      ";   A5:  F8               CLC\n",
      "\n",
      ";   A6:  C3               RET\n",
      "\n",
      ";   A7:  CC0F             INT3  15   ; Invalid argument count trap\n",
      "\n",
      "\n",
      ";   A9:  CC0F             INT3  15   ; Invalid argument count trap\n",
      "\n",
      "\n",
      ";   AB: L0:  CC1B             INT3  27   ; UNBOUND-SYMBOL-ERROR\n",
      "\n",
      "\n",
      ";   AD:  18               BYTE  #X18   ; RSI(d)\n",
      "\n"
     ]
    }
   ],
   "source": [
    "(defun foo (list) (+ (50th lst) 1))\n",
    "\n",
    "(disassemble #'50th)\n",
    "(disassemble #'foo)"
   ]
  }
 ],
 "metadata": {
  "kernelspec": {
   "display_name": "Common Lisp",
   "language": "common-lisp",
   "name": "common-lisp"
  },
  "language_info": {
   "codemirror_mode": "text/x-common-lisp",
   "file_extension": ".lisp",
   "mimetype": "text/x-common-lisp",
   "name": "common-lisp",
   "pygments_lexer": "common-lisp",
   "version": "2.4.10"
  }
 },
 "nbformat": 4,
 "nbformat_minor": 2
}
