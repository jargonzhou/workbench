{
 "cells": [],
 "metadata": {
  "kernelspec": {
   "display_name": "Common Lisp",
   "language": "common-lisp",
   "name": "common-lisp"
  },
  "language_info": {
   "name": "common-lisp"
  }
 },
 "nbformat": 4,
 "nbformat_minor": 2
}
