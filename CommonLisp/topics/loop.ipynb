{
 "cells": [
  {
   "cell_type": "markdown",
   "metadata": {},
   "source": [
    "# Loop\n",
    "\n",
    "- Practial Common Lisp > Chapter 22. LOOP for Black Belts\n",
    "- Common Lisp: The Lanaguage, 2nd Edition > Chapter 26. Loop"
   ]
  },
  {
   "cell_type": "code",
   "execution_count": 14,
   "metadata": {
    "vscode": {
     "languageId": "commonlisp"
    }
   },
   "outputs": [
    {
     "name": "stdout",
     "output_type": "stream",
     "text": [
      "To load \"log4cl\":\n",
      "  Load 1 ASDF system:\n",
      "    log4cl\n",
      "\n",
      "; Loading \"log4cl\"\n",
      "."
     ]
    },
    {
     "data": {
      "text/plain": [
       "(:LOG4CL)"
      ]
     },
     "execution_count": 14,
     "metadata": {},
     "output_type": "execute_result"
    },
    {
     "name": "stdout",
     "output_type": "stream",
     "text": [
      "\n"
     ]
    }
   ],
   "source": [
    "(ql:quickload :log4cl)\n",
    "(log:config :debug :NOPRETTY)"
   ]
  },
  {
   "cell_type": "markdown",
   "metadata": {},
   "source": [
    "# Examples in PCL"
   ]
  },
  {
   "cell_type": "code",
   "execution_count": null,
   "metadata": {
    "vscode": {
     "languageId": "commonlisp"
    }
   },
   "outputs": [
    {
     "data": {
      "text/plain": [
       "NIL"
      ]
     },
     "execution_count": 2,
     "metadata": {},
     "output_type": "execute_result"
    },
    {
     "name": "stdout",
     "output_type": "stream",
     "text": [
      "\n",
      "A \n",
      "1 \n",
      "B \n",
      "2 \n",
      "C \n",
      "3 "
     ]
    }
   ],
   "source": [
    "; multiple 'for' clauses: terminate as soon as any 'for' clause reaches end.\n",
    "(loop\n",
    "  for item in '(a b c)\n",
    "  for i from 1 to 10\n",
    "  do (print item) (print i))"
   ]
  },
  {
   "cell_type": "markdown",
   "metadata": {
    "vscode": {
     "languageId": "commonlisp"
    }
   },
   "source": [
    "## Counting Loop"
   ]
  },
  {
   "cell_type": "code",
   "execution_count": 7,
   "metadata": {
    "vscode": {
     "languageId": "commonlisp"
    }
   },
   "outputs": [
    {
     "data": {
      "text/plain": [
       "(0 1 2 3 4 5 6 7 8 9 10)"
      ]
     },
     "execution_count": 7,
     "metadata": {},
     "output_type": "execute_result"
    },
    {
     "data": {
      "text/plain": [
       "(0 1 2 3 4 5 6 7 8 9 10)"
      ]
     },
     "execution_count": 7,
     "metadata": {},
     "output_type": "execute_result"
    },
    {
     "data": {
      "text/plain": [
       "(0 -1 -2 -3 -4 -5 -6 -7 -8 -9 -10)"
      ]
     },
     "execution_count": 7,
     "metadata": {},
     "output_type": "execute_result"
    },
    {
     "data": {
      "text/plain": [
       "(0 -1 -2 -3 -4 -5 -6 -7 -8 -9 -10)"
      ]
     },
     "execution_count": 7,
     "metadata": {},
     "output_type": "execute_result"
    },
    {
     "data": {
      "text/plain": [
       "NIL"
      ]
     },
     "execution_count": 7,
     "metadata": {},
     "output_type": "execute_result"
    },
    {
     "name": "stdout",
     "output_type": "stream",
     "text": [
      "..."
     ]
    }
   ],
   "source": [
    "(loop for i upto 10 collect i)\n",
    "(loop for i from 0 to 10 collect i)\n",
    "\n",
    "(loop for i from 0 downto -10 collect i)\n",
    "(loop for i downfrom 0 to -10 collect i)\n",
    "\n",
    "(loop repeat 3 do (princ \".\"))"
   ]
  },
  {
   "cell_type": "markdown",
   "metadata": {},
   "source": [
    "## Looping over Collections and Packages"
   ]
  },
  {
   "cell_type": "code",
   "execution_count": 12,
   "metadata": {
    "vscode": {
     "languageId": "commonlisp"
    }
   },
   "outputs": [
    {
     "data": {
      "text/plain": [
       "(10 20 30 40)"
      ]
     },
     "execution_count": 12,
     "metadata": {},
     "output_type": "execute_result"
    },
    {
     "data": {
      "text/plain": [
       "(10 30)"
      ]
     },
     "execution_count": 12,
     "metadata": {},
     "output_type": "execute_result"
    },
    {
     "data": {
      "text/plain": [
       "((10 20 30 40) (20 30 40) (30 40) (40))"
      ]
     },
     "execution_count": 12,
     "metadata": {},
     "output_type": "execute_result"
    },
    {
     "data": {
      "text/plain": [
       "((10 20 30 40) (30 40))"
      ]
     },
     "execution_count": 12,
     "metadata": {},
     "output_type": "execute_result"
    }
   ],
   "source": [
    ";;; list\n",
    "(loop for i in (list 10 20 30 40) collect i)\n",
    "(loop for i in (list 10 20 30 40) by #'cddr collect i)\n",
    "; on: over cons cells of list\n",
    "(loop for x on (list 10 20 30 40) collect x)\n",
    "(loop for x on (list 10 20 30 40) by #'cddr collect x)\n"
   ]
  },
  {
   "cell_type": "code",
   "execution_count": 13,
   "metadata": {
    "vscode": {
     "languageId": "commonlisp"
    }
   },
   "outputs": [
    {
     "data": {
      "text/plain": [
       "(#\\a #\\b #\\c #\\d)"
      ]
     },
     "execution_count": 13,
     "metadata": {},
     "output_type": "execute_result"
    }
   ],
   "source": [
    ";;; vector\n",
    "(loop for x across \"abcd\" collect x)"
   ]
  },
  {
   "cell_type": "code",
   "execution_count": null,
   "metadata": {
    "vscode": {
     "languageId": "commonlisp"
    }
   },
   "outputs": [
    {
     "name": "stdout",
     "output_type": "stream",
     "text": [
      "\n",
      "<DEBUG> [16:02:05] cl-user 0988FBB38143411D0D8DCB2996AFF8EC-1880816040.lisp () - (LOOP FOR K BEING THE HASH-KEYS IN HT USING (HASH-VALUE V) COLLECT (LIST K V)): ((\"a\" 1) (\"b\" 2) (\"c\" 3)) \n",
      "\n",
      "<DEBUG> [16:02:05] cl-user 0988FBB38143411D0D8DCB2996AFF8EC-1880816040.lisp () - (LOOP FOR V BEING THE HASH-VALUES IN HT USING (HASH-KEY K) COLLECT (LIST V K)): ((1 \"a\") (2 \"b\") (3 \"c\")) \n"
     ]
    }
   ],
   "source": [
    ";;; hash-table\n",
    "(let ((ht (make-hash-table)))\n",
    "  (setf (gethash \"a\" ht) 1)\n",
    "  (setf (gethash \"b\" ht) 2)\n",
    "  (setf (gethash \"c\" ht) 3)\n",
    "  (log:debug (loop for k being the hash-keys in ht using (hash-value v) collect (list k v)))\n",
    "  (log:debug (loop for v being the hash-values in ht using (hash-key k) collect (list v k))))"
   ]
  },
  {
   "cell_type": "code",
   "execution_count": 20,
   "metadata": {
    "vscode": {
     "languageId": "commonlisp"
    }
   },
   "outputs": [
    {
     "data": {
      "text/plain": [
       "NIL"
      ]
     },
     "execution_count": 20,
     "metadata": {},
     "output_type": "execute_result"
    },
    {
     "name": "stdout",
     "output_type": "stream",
     "text": [
      "\n",
      "LOG4CL-IMPL:+LOG-LEVEL-DEBU8+ \n",
      "LOG4CL-IMPL:LOG-INDENTED \n",
      "LOG4CL-IMPL:CATEGORY-SEPARATOR \n",
      "LOG4CL-IMPL:MAKE-LOG-LEVEL \n",
      "LOG4CL-IMPL:STREAM-APPENDER \n",
      "LOG4CL-IMPL:BACKUP-LOG-FILE \n",
      "LOG4CL-IMPL:PARSE-PROPERTY-STREAM \n",
      "LOG4CL-IMPL:TRICKY-CONSOLE-APPENDER \n",
      "LOG4CL-IMPL:COUNTING-APPENDER \n",
      "LOG4CL-IMPL:APPENDER-ADDED \n",
      "LOG4CL-IMPL:RESET-LOGGING-CONFIGURATION \n",
      "LOG4CL-IMPL:NAMING-CONFIGURATION \n",
      "LOG4CL-IMPL:APPENDER-ERROR-COUNT \n",
      "LOG4CL-IMPL:IN-PACKAGE-LOG-HIERARCHY \n",
      "LOG4CL-IMPL:RESTORE \n",
      "LOG4CL-IMPL:LOG-DEBU9 \n",
      "LOG4CL-IMPL:SIMPLE-LAYOUT \n",
      "LOG4CL-IMPL:LOG-SEXP-ERROR \n",
      "LOG4CL-IMPL:+LOG-LEVEL-UNSET+ \n",
      "LOG4CL-IMPL:APPENDER-LAST-IGNORED-ERROR \n",
      "LOG4CL-IMPL:+LOG-LEVEL-OFF+ \n",
      "LOG4CL-IMPL:MAP-LOGGER-CHILDREN \n",
      "LOG4CL-IMPL:+LOG-LEVEL-DEBUG+ \n",
      "LOG4CL-IMPL:SAVE \n",
      "LOG4CL-IMPL:*MAX-CONFIGURATIONS* \n",
      "LOG4CL-IMPL:INHERITED-LOG-LEVEL \n",
      "LOG4CL-IMPL:LOG-SEXP-DEBU9 \n",
      "LOG4CL-IMPL:APPENDER-ENABLED-P \n",
      "LOG4CL-IMPL:*DEFAULT-NAMING-CONFIGURATION* \n",
      "LOG4CL-IMPL:CONSOLE-APPENDER \n",
      "LOG4CL-IMPL:+MAX-LOG-LEVEL+ \n",
      "LOG4CL-IMPL:APPENDER-IGNORED-ERROR-COUNT \n",
      "LOG4CL-IMPL:WITH-PACKAGE-LOG-HIERARCHY \n",
      "LOG4CL-IMPL:WITH-LOG-INDENT \n",
      "LOG4CL-IMPL:LOG-TRACE \n",
      "LOG4CL-IMPL:FLUSH-ALL-APPENDERS \n",
      "LOG4CL-IMPL:HANDLE-APPENDER-ERROR \n",
      "LOG4CL-IMPL:LOGGER-ANCESTORS \n",
      "LOG4CL-IMPL:LOGGER-NAME \n",
      "LOG4CL-IMPL:*GLOBAL-CONSOLE* \n",
      "LOG4CL-IMPL:+LOG-LEVEL-INFO+ \n",
      "LOG4CL-IMPL:LOG-CONFIG \n",
      "LOG4CL-IMPL:LOG-DEBU2 \n",
      "LOG4CL-IMPL:+EXPR-FORMAT-SIMPLE+ \n",
      "LOG4CL-IMPL:SAME-CONFIGURATION-P \n",
      "LOG4CL-IMPL:SAVE-APPENDER \n",
      "LOG4CL-IMPL:REMOVE-ALL-APPENDERS \n",
      "LOG4CL-IMPL:LOGGER-CATEGORY \n",
      "LOG4CL-IMPL:*DEFAULT-LOGGER-NAME* \n",
      "LOG4CL-IMPL:OLD-LOGGING-MACROS \n",
      "LOG4CL-IMPL:APPENDER-LAYOUT \n",
      "LOG4CL-IMPL:THIS-CONSOLE-APPENDER \n",
      "LOG4CL-IMPL:CONFIGURE \n",
      "LOG4CL-IMPL:RESOLVE-LOGGER-FORM \n",
      "LOG4CL-IMPL:ALL-APPENDERS \n",
      "LOG4CL-IMPL:LOGGER-DESCENDANTS \n",
      "LOG4CL-IMPL:MAYBE-ROLL-FILE \n",
      "LOG4CL-IMPL:+LOG-LEVEL-DEBU1+ \n",
      "LOG4CL-IMPL:NAMING-OPTION \n",
      "LOG4CL-IMPL:LOG-LEVEL-FROM-OBJECT \n",
      "LOG4CL-IMPL:LOGGER-CATEGORIES \n",
      "LOG4CL-IMPL:WITH-PACKAGE-NAMING-CONFIGURATION \n",
      "LOG4CL-IMPL:WITH-NDC \n",
      "LOG4CL-IMPL:*SAVE-CONFIGURATIONS-TO-FILE* \n",
      "LOG4CL-IMPL:LOGGER-ADDITIVITY \n",
      "LOG4CL-IMPL:LOG-SEXP \n",
      "LOG4CL-IMPL:ADD-WATCH-TOKEN \n",
      "LOG4CL-IMPL:LOG-SEXP-DEBU7 \n",
      "LOG4CL-IMPL:+SELF-LOGGER+ \n",
      "LOG4CL-IMPL:LOGGER-CHILDREN \n",
      "LOG4CL-IMPL:APPENDER-NEXT-BACKUP-FILE \n",
      "LOG4CL-IMPL:LOG4CL-ERROR \n",
      "LOG4CL-IMPL:CONFIGURATION \n",
      "LOG4CL-IMPL:EXPR-PRINT-FORMAT \n",
      "LOG4CL-IMPL:REMOVE-APPENDER \n",
      "LOG4CL-IMPL:LOG-SEXP-DEBU6 \n",
      "LOG4CL-IMPL:+EXPR-FORMAT-FANCY+ \n",
      "LOG4CL-IMPL:CLOSE-APPENDER \n",
      "LOG4CL-IMPL:RESOLVE-DEFAULT-LOGGING-FORM \n",
      "LOG4CL-IMPL:LOG-SEXP-DEBU1 \n",
      "LOG4CL-IMPL:LOG-DEBU7 \n",
      "LOG4CL-IMPL:+LOG-LEVEL-DEBU5+ \n",
      "LOG4CL-IMPL:LOG-SEXP-DEBU2 \n",
      "LOG4CL-IMPL:CONVERSION-PATTERN \n",
      "LOG4CL-IMPL:*NAMING-CONFIGURATION* \n",
      "LOG4CL-IMPL:LOG-SEXP-FATAL \n",
      "LOG4CL-IMPL:+LOG-LEVEL-DEBU9+ \n",
      "LOG4CL-IMPL:APPENDER \n",
      "LOG4CL-IMPL:PACKGE-OPTIONS \n",
      "LOG4CL-IMPL:FLUSH-APPENDER \n",
      "LOG4CL-IMPL:LOG-SEXP-DEBU3 \n",
      "LOG4CL-IMPL:LOG-FATAL \n",
      "LOG4CL-IMPL:START-HIERARCHY-WATCHER-THREAD \n",
      "LOG4CL-IMPL:STOP-HIERARCHY-WATCHER-THREAD \n",
      "LOG4CL-IMPL:TEMP-APPENDER-ERROR-TYPE \n",
      "LOG4CL-IMPL:*ROOT-LOGGER* \n",
      "LOG4CL-IMPL:LOGGER-PARENT \n",
      "LOG4CL-IMPL:+SELF-META-LOGGER+ \n",
      "LOG4CL-IMPL:LOG-WARN \n",
      "LOG4CL-IMPL:LOGGER-DEPTH \n",
      "LOG4CL-IMPL:DAILY-FILE-APPENDER \n",
      "LOG4CL-IMPL:+LOG-LEVEL-DEBU3+ \n",
      "LOG4CL-IMPL:LOG-DEBU6 \n",
      "LOG4CL-IMPL:APPENDER-LOGGERS \n",
      "LOG4CL-IMPL:MAKE-LOGGER \n",
      "LOG4CL-IMPL:PACKAGE-WRAPPER \n",
      "LOG4CL-IMPL:REMOVE-WATCH-TOKEN \n",
      "LOG4CL-IMPL:LOG-DEBU8 \n",
      "LOG4CL-IMPL:FILE-APPENDER-BASE \n",
      "LOG4CL-IMPL:WATCH-TOKEN-CHECK \n",
      "LOG4CL-IMPL:TIME-ROLLING-FILE-APPENDER \n",
      "LOG4CL-IMPL:LOGGER-APPENDERS \n",
      "LOG4CL-IMPL:LAYOUT \n",
      "LOG4CL-IMPL:LOG-SEXP-WARN \n",
      "LOG4CL-IMPL:LOGGER-FILE-LOGGER \n",
      "LOG4CL-IMPL:*NDC-CONTEXT* \n",
      "LOG4CL-IMPL:CONFIGURATION-ELEMENT \n",
      "LOG4CL-IMPL:%GET-LOGGER \n",
      "LOG4CL-IMPL:+LOG-LEVEL-DEBU6+ \n",
      "LOG4CL-IMPL:APPENDER-DO-APPEND \n",
      "LOG4CL-IMPL:CATEGORY-CASE \n",
      "LOG4CL-IMPL:+MIN-LOG-LEVEL+ \n",
      "LOG4CL-IMPL:WITH-NDC-CONTEXT \n",
      "LOG4CL-IMPL:LOG-SEXP-WITH-LEVEL \n",
      "LOG4CL-IMPL:LOG-SEXP-DEBU5 \n",
      "LOG4CL-IMPL:DEFAULT-LAYOUT \n",
      "LOG4CL-IMPL:TEMP-APPENDER \n",
      "LOG4CL-IMPL:APPENDER-REMOVED \n",
      "LOG4CL-IMPL:ENCLOSING-SCOPE-BLOCK-NAME \n",
      "LOG4CL-IMPL:SET-LOG-LEVEL \n",
      "LOG4CL-IMPL:ALL-CONFIGURATIONS \n",
      "LOG4CL-IMPL:*LOG-INDENT* \n",
      "LOG4CL-IMPL:LOG-ERROR \n",
      "LOG4CL-IMPL:PATTERN-LAYOUT-ERROR \n",
      "LOG4CL-IMPL:PROPERTY-CONFIGURATOR \n",
      "LOG4CL-IMPL:ROLLING-FILE-APPENDER-BASE \n",
      "LOG4CL-IMPL:CLEAR-LOGGING-CONFIGURATION \n",
      "LOG4CL-IMPL:APPENDER-FILENAME \n",
      "LOG4CL-IMPL:LOG-DEBU5 \n",
      "LOG4CL-IMPL:LOG-INFO \n",
      "LOG4CL-IMPL:LOGGER-ADDED \n",
      "LOG4CL-IMPL:LAYOUT-TO-STREAM \n",
      "LOG4CL-IMPL:PROPERTY-PARSER-ERROR \n",
      "LOG4CL-IMPL:FIXED-STREAM-APPENDER \n",
      "LOG4CL-IMPL:HIERARCHY-INDEX \n",
      "LOG4CL-IMPL:+LOG-LEVEL-DEBU4+ \n",
      "LOG4CL-IMPL:LOGGER-REMOVED \n",
      "LOG4CL-IMPL:+LOG-LEVEL-TRACE+ \n",
      "LOG4CL-IMPL:LOG-SEXP-DEBU8 \n",
      "LOG4CL-IMPL:*HIERARCHY* \n",
      "LOG4CL-IMPL:LOG-DEBU3 \n",
      "LOG4CL-IMPL:FIX-METHOD-SPEC-LIST \n",
      "LOG4CL-IMPL:+LOG-LEVEL-ERROR+ \n",
      "LOG4CL-IMPL:LOG-SEXP-TRACE \n",
      "LOG4CL-IMPL:PROPERTY-PARSER \n",
      "LOG4CL-IMPL:LOG-SEXP-DEBU4 \n",
      "LOG4CL-IMPL:SERIALIZED-APPENDER \n",
      "LOG4CL-IMPL:+LOG-LEVEL-DEBU7+ \n",
      "LOG4CL-IMPL:APPENDER-MESSAGE-COUNT \n",
      "LOG4CL-IMPL:LOG-DEBU1 \n",
      "LOG4CL-IMPL:WITH-LOG-HIERARCHY \n",
      "LOG4CL-IMPL:EFFECTIVE-LOG-LEVEL \n",
      "LOG4CL-IMPL:EFFECTIVE-APPENDERS \n",
      "LOG4CL-IMPL:LIST-CONFIGURATIONS \n",
      "LOG4CL-IMPL:*CONFIGURATIONS-FILE* \n",
      "LOG4CL-IMPL:LOGGER-FILE \n",
      "LOG4CL-IMPL:*LOGGER-TRUENAME* \n",
      "LOG4CL-IMPL:LOG-LEVEL-TO-STRING \n",
      "LOG4CL-IMPL:LOG-DEBU4 \n",
      "LOG4CL-IMPL:MAP-LOGGER-DESCENDANTS \n",
      "LOG4CL-IMPL:+LOG-LEVEL-WARN+ \n",
      "LOG4CL-IMPL:LOG-SEXP-DEBUG \n",
      "LOG4CL-IMPL:PATTERN-LAYOUT \n",
      "LOG4CL-IMPL:LOG-DEBUG \n",
      "LOG4CL-IMPL:APPENDER-STREAM \n",
      "LOG4CL-IMPL:APPENDER-LAST-BACKUP-FILE \n",
      "LOG4CL-IMPL:LOGGER-LOG-LEVEL \n",
      "LOG4CL-IMPL:APPENDER-LOGGER-COUNT \n",
      "LOG4CL-IMPL:APPENDER-LAST-ERROR \n",
      "LOG4CL-IMPL:MAKE-PACKAGE-CATEGORIES \n",
      "LOG4CL-IMPL:IN-LOG-HIERARCHY \n",
      "LOG4CL-IMPL:SYSLOG-APPENDER \n",
      "LOG4CL-IMPL:+LOG-LEVEL-FATAL+ \n",
      "LOG4CL-IMPL:LOGGER-FILE-NAMESTRING \n",
      "LOG4CL-IMPL:APPENDER-ERROR \n",
      "LOG4CL-IMPL:APPENDER-DO-FLUSH \n",
      "LOG4CL-IMPL:JOIN-CATEGORIES \n",
      "LOG4CL-IMPL:LOG-SEXP-INFO \n",
      "LOG4CL-IMPL:ADD-APPENDER \n",
      "LOG4CL-IMPL:FILE-APPENDER \n",
      "LOG4CL-IMPL:+LOG-LEVEL-DEBU2+ "
     ]
    }
   ],
   "source": [
    ";;; package: symbols, present-symbols, external-symbols\n",
    "(loop for s being the external-symbols in :log4cl\n",
    "  do (print s))"
   ]
  },
  {
   "cell_type": "markdown",
   "metadata": {},
   "source": [
    "## Equals-Then Iteration"
   ]
  },
  {
   "cell_type": "code",
   "execution_count": null,
   "metadata": {
    "vscode": {
     "languageId": "commonlisp"
    }
   },
   "outputs": [
    {
     "data": {
      "text/plain": [
       "((0 1) (1 2) (2 4) (4 8) (8 16))"
      ]
     },
     "execution_count": 25,
     "metadata": {},
     "output_type": "execute_result"
    },
    {
     "data": {
      "text/plain": [
       "((1 0) (1 1) (2 2) (4 4) (8 8))"
      ]
     },
     "execution_count": 25,
     "metadata": {},
     "output_type": "execute_result"
    },
    {
     "data": {
      "text/plain": [
       "((0 1) (1 1) (1 2) (2 3) (3 5))"
      ]
     },
     "execution_count": 25,
     "metadata": {},
     "output_type": "execute_result"
    }
   ],
   "source": [
    "(loop repeat 5\n",
    "  for x = 0 then y         ; 0 1 2 4 8\n",
    "  for y = 1 then (+ x y)   ; 1 2 4 8 16\n",
    "  collect (list x y))\n",
    "\n",
    "(loop repeat 5\n",
    "  for y = 1 then (+ x y)   ; 1 1 2 4 8  \n",
    "  for x = 0 then y         ; 0 1 2 4 8\n",
    "  collect (list y x))\n",
    "\n",
    "(loop repeat 5\n",
    "  for x = 0 then y         ; 0 1 1 2 3 \n",
    "  and y = 1 then (+ x y)   ; 1 1 2 3 5\n",
    "  collect (list x y))"
   ]
  },
  {
   "cell_type": "markdown",
   "metadata": {},
   "source": [
    "## Local Variables"
   ]
  },
  {
   "cell_type": "code",
   "execution_count": 26,
   "metadata": {
    "vscode": {
     "languageId": "commonlisp"
    }
   },
   "outputs": [
    {
     "data": {
      "text/plain": [
       "((0 1) (1 1) (2 1) (3 1) (4 1) (5 1) (6 1) (7 1) (8 1) (9 1) (10 1))"
      ]
     },
     "execution_count": 26,
     "metadata": {},
     "output_type": "execute_result"
    }
   ],
   "source": [
    "(loop for i from 0 to 10\n",
    "  with v = (+ i 1)\n",
    "  collect (list i v))"
   ]
  },
  {
   "cell_type": "markdown",
   "metadata": {},
   "source": [
    "## Destructuring Variables"
   ]
  },
  {
   "cell_type": "code",
   "execution_count": 27,
   "metadata": {
    "vscode": {
     "languageId": "commonlisp"
    }
   },
   "outputs": [
    {
     "data": {
      "text/plain": [
       "NIL"
      ]
     },
     "execution_count": 27,
     "metadata": {},
     "output_type": "execute_result"
    },
    {
     "name": "stdout",
     "output_type": "stream",
     "text": [
      "a=1; b=2\n",
      "a=3; b=4\n",
      "a=5; b=6\n"
     ]
    }
   ],
   "source": [
    "(loop for (a b) in '((1 2) (3 4) (5 6))\n",
    "  do (format t \"a=~A; b=~A~%\" a b))"
   ]
  },
  {
   "cell_type": "code",
   "execution_count": 38,
   "metadata": {
    "vscode": {
     "languageId": "commonlisp"
    }
   },
   "outputs": [
    {
     "data": {
      "text/plain": [
       "(1 3 5)"
      ]
     },
     "execution_count": 38,
     "metadata": {},
     "output_type": "execute_result"
    },
    {
     "name": "stdout",
     "output_type": "stream",
     "text": [
      "1, 3, 5, \n",
      "1, 3, 5, \n"
     ]
    }
   ],
   "source": [
    "(let ((l '((1 2) (3 4) (5 6))))\n",
    "  (loop for pair in l\n",
    "    do (format t \"~A\" (car pair))\n",
    "    when (cdr pair) do (format t \", \"))\n",
    "  (format t \"~%\")\n",
    "\n",
    "  (loop for (a . b) in l\n",
    "    do (format t \"~A\" a)\n",
    "    when b do (format t \", \"))\n",
    "  (format t \"~%\")\n",
    "    \n",
    "  (loop for (a nil) in l collect a))"
   ]
  },
  {
   "cell_type": "markdown",
   "metadata": {},
   "source": [
    "## Value Accumulation"
   ]
  },
  {
   "cell_type": "code",
   "execution_count": 40,
   "metadata": {
    "vscode": {
     "languageId": "commonlisp"
    }
   },
   "outputs": [
    {
     "data": {
      "text/plain": [
       "*RANDOM*"
      ]
     },
     "execution_count": 40,
     "metadata": {},
     "output_type": "execute_result"
    },
    {
     "data": {
      "text/plain": [
       "(108 9987 455907 53 47)"
      ]
     },
     "execution_count": 40,
     "metadata": {},
     "output_type": "execute_result"
    }
   ],
   "source": [
    "(defparameter *random* (loop repeat 100 collect (random 10000)))\n",
    "\n",
    "(loop for i in *random*\n",
    "        counting (evenp i) into evens\n",
    "        counting (oddp i) into odds\n",
    "        summing i into total\n",
    "        maximizing i into max\n",
    "        minimizing i into min\n",
    "      finally (return (list min max total evens odds)))"
   ]
  },
  {
   "cell_type": "markdown",
   "metadata": {},
   "source": [
    "## Unconditional Execution"
   ]
  },
  {
   "cell_type": "code",
   "execution_count": 42,
   "metadata": {
    "vscode": {
     "languageId": "commonlisp"
    }
   },
   "outputs": [
    {
     "data": {
      "text/plain": [
       "NIL"
      ]
     },
     "execution_count": 42,
     "metadata": {},
     "output_type": "execute_result"
    },
    {
     "name": "stdout",
     "output_type": "stream",
     "text": [
      "12345678910"
     ]
    }
   ],
   "source": [
    "(loop for i from 1 to 10 do (princ i))"
   ]
  },
  {
   "cell_type": "code",
   "execution_count": 43,
   "metadata": {
    "vscode": {
     "languageId": "commonlisp"
    }
   },
   "outputs": [
    {
     "data": {
      "text/plain": [
       "200"
      ]
     },
     "execution_count": 43,
     "metadata": {},
     "output_type": "execute_result"
    },
    {
     "data": {
      "text/plain": [
       "100"
      ]
     },
     "execution_count": 43,
     "metadata": {},
     "output_type": "execute_result"
    },
    {
     "name": "stdout",
     "output_type": "stream",
     "text": [
      "\n",
      "\"This will print\" "
     ]
    }
   ],
   "source": [
    "(block outer\n",
    "  (loop for i from 0 return 100) ; return from LOOP\n",
    "  (print \"This will print\")\n",
    "  200)\n",
    "\n",
    "(block outer\n",
    "  (loop for i from 0 do (return-from outer 100))\n",
    "  (print \"This won't print\")\n",
    "  200)\n"
   ]
  },
  {
   "cell_type": "markdown",
   "metadata": {},
   "source": [
    "## Conditional Execution"
   ]
  },
  {
   "cell_type": "code",
   "execution_count": 46,
   "metadata": {
    "vscode": {
     "languageId": "commonlisp"
    }
   },
   "outputs": [
    {
     "data": {
      "text/plain": [
       "30"
      ]
     },
     "execution_count": 46,
     "metadata": {},
     "output_type": "execute_result"
    },
    {
     "data": {
      "text/plain": [
       "NIL"
      ]
     },
     "execution_count": 46,
     "metadata": {},
     "output_type": "execute_result"
    },
    {
     "name": "stdout",
     "output_type": "stream",
     "text": [
      "\n",
      "(0 0 1 1 0 1 0 0) \n",
      "(2 2 1 1 2 1 0 2) \n",
      "(2 2 1 3 2 4 0 2) \n",
      "(2 4 1 3 6 4 0 2) \n",
      "(2 4 1 5 6 9 5 2) \n",
      "(2 6 1 5 12 9 5 8) \n",
      "(2 6 1 7 12 16 5 8) \n",
      "(2 8 1 7 20 16 5 8) \n",
      "(2 8 1 9 20 25 5 8) \n",
      "(2 10 1 9 30 25 5 18) "
     ]
    }
   ],
   "source": [
    ";;; [if|when|unless] test-form loop-clause\n",
    "(loop for i from 1 to 10 when (evenp i) sum i)\n",
    "\n",
    "(loop for i from 1 to 10\n",
    "        if (evenp i)\n",
    "        minimize i into min-even and\n",
    "        maximize i into max-even and\n",
    "        unless (zerop (mod i 4))\n",
    "        sum i into even-not-fours-total\n",
    "        end\n",
    "        and sum i into even-total\n",
    "\n",
    "        else\n",
    "\n",
    "        minimize i into min-odd and\n",
    "        maximize i into max-odd and\n",
    "        when (zerop (mod i 5))\n",
    "        sum i into fives-total\n",
    "        end\n",
    "        and sum i into odd-total\n",
    "      do (print (list min-even max-even\n",
    "                      min-odd max-odd\n",
    "                      even-total odd-total\n",
    "                      fives-total even-not-fours-total)))"
   ]
  },
  {
   "cell_type": "markdown",
   "metadata": {},
   "source": [
    "## Setting Up and Tearing Down"
   ]
  },
  {
   "cell_type": "code",
   "execution_count": 48,
   "metadata": {
    "vscode": {
     "languageId": "commonlisp"
    }
   },
   "outputs": [
    {
     "data": {
      "text/plain": [
       "3"
      ]
     },
     "execution_count": 48,
     "metadata": {},
     "output_type": "execute_result"
    }
   ],
   "source": [
    ";;; named loop\n",
    "(loop named outer for l in '((1 2) (3 4) (5 6)) do\n",
    "  (loop for item in l do\n",
    "    (if (eql 3 item)\n",
    "      (return-from outer item))))"
   ]
  },
  {
   "cell_type": "markdown",
   "metadata": {},
   "source": [
    "## Termination Tests"
   ]
  },
  {
   "cell_type": "code",
   "execution_count": 53,
   "metadata": {
    "vscode": {
     "languageId": "commonlisp"
    }
   },
   "outputs": [
    {
     "data": {
      "text/plain": [
       "NIL"
      ]
     },
     "execution_count": 53,
     "metadata": {},
     "output_type": "execute_result"
    },
    {
     "data": {
      "text/plain": [
       "T"
      ]
     },
     "execution_count": 53,
     "metadata": {},
     "output_type": "execute_result"
    }
   ],
   "source": [
    "(loop for n in '(1 2 3 4) always (evenp n))\n",
    "(loop for n in '(2 4) always (evenp n))"
   ]
  },
  {
   "cell_type": "code",
   "execution_count": 54,
   "metadata": {
    "vscode": {
     "languageId": "commonlisp"
    }
   },
   "outputs": [
    {
     "data": {
      "text/plain": [
       "NIL"
      ]
     },
     "execution_count": 54,
     "metadata": {},
     "output_type": "execute_result"
    },
    {
     "data": {
      "text/plain": [
       "T"
      ]
     },
     "execution_count": 54,
     "metadata": {},
     "output_type": "execute_result"
    }
   ],
   "source": [
    "(loop for n in '(1 2 3 4) never (oddp n))\n",
    "(loop for n in '(2 4) never (oddp n))"
   ]
  },
  {
   "cell_type": "code",
   "execution_count": 55,
   "metadata": {
    "vscode": {
     "languageId": "commonlisp"
    }
   },
   "outputs": [
    {
     "data": {
      "text/plain": [
       "1"
      ]
     },
     "execution_count": 55,
     "metadata": {},
     "output_type": "execute_result"
    },
    {
     "data": {
      "text/plain": [
       "NIL"
      ]
     },
     "execution_count": 55,
     "metadata": {},
     "output_type": "execute_result"
    }
   ],
   "source": [
    "(loop for c across \"abc123\" thereis (digit-char-p c))\n",
    "(loop for c across \"abcdef\" thereis (digit-char-p c))"
   ]
  }
 ],
 "metadata": {
  "kernelspec": {
   "display_name": "Common Lisp",
   "language": "common-lisp",
   "name": "common-lisp"
  },
  "language_info": {
   "codemirror_mode": "text/x-common-lisp",
   "file_extension": ".lisp",
   "mimetype": "text/x-common-lisp",
   "name": "common-lisp",
   "pygments_lexer": "common-lisp",
   "version": "2.4.10"
  }
 },
 "nbformat": 4,
 "nbformat_minor": 2
}
