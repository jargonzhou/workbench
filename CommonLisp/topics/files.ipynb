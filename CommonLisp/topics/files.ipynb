{
 "cells": [
  {
   "cell_type": "markdown",
   "metadata": {},
   "source": [
    "# Files and File I/O\n",
    "* Examples in 'Practical Common Lisp'"
   ]
  },
  {
   "cell_type": "markdown",
   "metadata": {},
   "source": [
    "# Text File"
   ]
  },
  {
   "cell_type": "code",
   "execution_count": 6,
   "metadata": {
    "vscode": {
     "languageId": "commonlisp"
    }
   },
   "outputs": [
    {
     "data": {
      "text/plain": [
       "T"
      ]
     },
     "execution_count": 6,
     "metadata": {},
     "output_type": "execute_result"
    },
    {
     "data": {
      "text/plain": [
       "T"
      ]
     },
     "execution_count": 6,
     "metadata": {},
     "output_type": "execute_result"
    },
    {
     "data": {
      "text/plain": [
       "T"
      ]
     },
     "execution_count": 6,
     "metadata": {},
     "output_type": "execute_result"
    },
    {
     "name": "stdout",
     "output_type": "stream",
     "text": [
      "Line 1\n",
      "Line 1\n",
      "Line 1\n",
      "Line 2\n",
      "Line 3\n"
     ]
    }
   ],
   "source": [
    "; open\n",
    ";; :if-does-not-exist\n",
    "; read-line\n",
    ";; send argument: default true, means signal an error if reach EOL\n",
    "; read, print\n",
    "; close\n",
    "; with-open-file\n",
    "(let ((in (open \"_example-file.txt\" :if-does-not-exist nil)))\n",
    "  (when in\n",
    "        (format t \"~A~%\" (read-line in))\n",
    "        (close in)))\n",
    "\n",
    "(with-open-file (in \"_example-file.txt\" :if-does-not-exist nil)\n",
    "  (when in\n",
    "        (format t \"~A~%\" (read-line in))\n",
    "        (close in)))\n",
    "\n",
    "(let ((in (open \"_example-file.txt\" :if-does-not-exist nil)))\n",
    "  (when in\n",
    "        (loop for line = (read-line in nil)\n",
    "                while line do (format t \"~A~%\" line))\n",
    "        (close in)))\n"
   ]
  },
  {
   "cell_type": "code",
   "execution_count": 2,
   "metadata": {
    "vscode": {
     "languageId": "commonlisp"
    }
   },
   "outputs": [
    {
     "data": {
      "text/plain": [
       "T"
      ]
     },
     "execution_count": 2,
     "metadata": {},
     "output_type": "execute_result"
    },
    {
     "name": "stdout",
     "output_type": "stream",
     "text": [
      "(1 2 3)\n",
      "456\n",
      "a string\n",
      "((A B) (C D))\n"
     ]
    }
   ],
   "source": [
    "(let ((in (open \"_example-sexp.txt\" :if-does-not-exist nil)))\n",
    "  (when in\n",
    "        (loop for line = (read in nil)\n",
    "              while line do (format t \"~A~%\" line))\n",
    "        (close in)))"
   ]
  },
  {
   "cell_type": "markdown",
   "metadata": {},
   "source": [
    "# Binary File"
   ]
  },
  {
   "cell_type": "code",
   "execution_count": 4,
   "metadata": {
    "vscode": {
     "languageId": "commonlisp"
    }
   },
   "outputs": [
    {
     "data": {
      "text/plain": [
       "T"
      ]
     },
     "execution_count": 4,
     "metadata": {},
     "output_type": "execute_result"
    },
    {
     "name": "stdout",
     "output_type": "stream",
     "text": [
      "\n",
      "76 \n",
      "105 "
     ]
    }
   ],
   "source": [
    "; open: :element-type '(unsigned-byte 8)\n",
    "; read-byte\n",
    "(let ((bf (open \"_example-file.txt\"\n",
    "                :element-type '(unsigned-byte 8))))\n",
    "     (print (read-byte bf))\n",
    "     (print (read-byte bf))\n",
    "     (close bf))"
   ]
  },
  {
   "cell_type": "markdown",
   "metadata": {},
   "source": [
    "# Bulk Read"
   ]
  },
  {
   "cell_type": "code",
   "execution_count": 5,
   "metadata": {
    "vscode": {
     "languageId": "commonlisp"
    }
   },
   "outputs": [
    {
     "data": {
      "text/plain": [
       "*DATA*"
      ]
     },
     "execution_count": 5,
     "metadata": {},
     "output_type": "execute_result"
    },
    {
     "data": {
      "text/plain": [
       "11"
      ]
     },
     "execution_count": 5,
     "metadata": {},
     "output_type": "execute_result"
    },
    {
     "data": {
      "text/plain": [
       "#(#\\t #\\e #\\s #\\t #\\  #\\s #\\t #\\r #\\i #\\n #\\g NIL NIL NIL NIL)"
      ]
     },
     "execution_count": 5,
     "metadata": {},
     "output_type": "execute_result"
    }
   ],
   "source": [
    "; read-sequence\n",
    "(defvar *data* (make-array 15 :initial-element nil))\n",
    "(values (read-sequence *data* (make-string-input-stream \"test string\")) *data*)"
   ]
  },
  {
   "cell_type": "markdown",
   "metadata": {},
   "source": [
    "# File Output"
   ]
  },
  {
   "cell_type": "code",
   "execution_count": 9,
   "metadata": {
    "vscode": {
     "languageId": "commonlisp"
    }
   },
   "outputs": [
    {
     "data": {
      "text/plain": [
       "NIL"
      ]
     },
     "execution_count": 9,
     "metadata": {},
     "output_type": "execute_result"
    }
   ],
   "source": [
    "; open\n",
    ";; :direction :output\n",
    ";; :if-exists\n",
    ";;; :supersede, :append, :overwrite\n",
    "; write-char, write-line, write-string\n",
    "; terpri: terminate print\n",
    "; fresh-line\n",
    "; print, prin1, pprint, princ\n",
    "; format\n",
    "; write-byte, write-sequence\n",
    "(with-open-file (stream \"_example-file.txt\" :direction :output :if-exists :overwrite)\n",
    "    (format stream \"Line 1~%\")\n",
    "    (format stream \"Line 2~%\")\n",
    "    (format stream \"Line 3~%\"))"
   ]
  },
  {
   "cell_type": "markdown",
   "metadata": {},
   "source": [
    "# Filenames\n",
    "* pathname object\n",
    "* namestring"
   ]
  },
  {
   "cell_type": "code",
   "execution_count": 20,
   "metadata": {
    "vscode": {
     "languageId": "commonlisp"
    }
   },
   "outputs": [
    {
     "data": {
      "text/plain": [
       "#P\"/Users/zhang/GoogleDrive/wiki/jupyter-notebooks/CommonLisp/topics/\""
      ]
     },
     "execution_count": 20,
     "metadata": {},
     "output_type": "execute_result"
    },
    {
     "data": {
      "text/plain": [
       "#P\"/foo/bar/baz.txt\""
      ]
     },
     "execution_count": 20,
     "metadata": {},
     "output_type": "execute_result"
    },
    {
     "data": {
      "text/plain": [
       "#P\"/foo/bar/baz.txt\""
      ]
     },
     "execution_count": 20,
     "metadata": {},
     "output_type": "execute_result"
    },
    {
     "data": {
      "text/plain": [
       "#P\"backups/baz.txt\""
      ]
     },
     "execution_count": 20,
     "metadata": {},
     "output_type": "execute_result"
    },
    {
     "data": {
      "text/plain": [
       "#P\"/www/html/foo/bar.html\""
      ]
     },
     "execution_count": 20,
     "metadata": {},
     "output_type": "execute_result"
    },
    {
     "data": {
      "text/plain": [
       "\"html/foo/bar.html\""
      ]
     },
     "execution_count": 20,
     "metadata": {},
     "output_type": "execute_result"
    }
   ],
   "source": [
    "; make-pathname\n",
    "; merge-pathnames: fill any NIL compoments in the first with value from second\n",
    "; enough-namestring: return relative filename\n",
    "; *default-pathname-defaults*\n",
    "*default-pathname-defaults*\n",
    "\n",
    "(make-pathname\n",
    "  :directory '(:absolute \"foo\" \"bar\")\n",
    "  :name \"baz\"\n",
    "  :type \"txt\")\n",
    "\n",
    "(make-pathname :device \"c\" :directory '(:absolute \"foo\" \"bar\") :name \"baz\" :type \"txt\")\n",
    "(make-pathname :directory '(:relative \"backups\")\n",
    "               :defaults #p\"/foo/bar/baz.txt\")\n",
    "\n",
    "(merge-pathnames #p\"foo/bar.html\" #p\"/www/html/\")\n",
    "\n",
    "(enough-namestring #p\"/www/html/foo/bar.html\" #p\"/www/\")"
   ]
  },
  {
   "cell_type": "code",
   "execution_count": 14,
   "metadata": {
    "vscode": {
     "languageId": "commonlisp"
    }
   },
   "outputs": [
    {
     "data": {
      "text/plain": [
       "#P\"/foo/bar/baz.txt\""
      ]
     },
     "execution_count": 14,
     "metadata": {},
     "output_type": "execute_result"
    },
    {
     "data": {
      "text/plain": [
       "(:ABSOLUTE \"foo\" \"bar\")"
      ]
     },
     "execution_count": 14,
     "metadata": {},
     "output_type": "execute_result"
    },
    {
     "data": {
      "text/plain": [
       "\"baz\""
      ]
     },
     "execution_count": 14,
     "metadata": {},
     "output_type": "execute_result"
    },
    {
     "data": {
      "text/plain": [
       "\"txt\""
      ]
     },
     "execution_count": 14,
     "metadata": {},
     "output_type": "execute_result"
    },
    {
     "data": {
      "text/plain": [
       "\"/foo/bar/baz.txt\""
      ]
     },
     "execution_count": 14,
     "metadata": {},
     "output_type": "execute_result"
    },
    {
     "data": {
      "text/plain": [
       "\"/foo/bar/\""
      ]
     },
     "execution_count": 14,
     "metadata": {},
     "output_type": "execute_result"
    },
    {
     "data": {
      "text/plain": [
       "\"baz.txt\""
      ]
     },
     "execution_count": 14,
     "metadata": {},
     "output_type": "execute_result"
    }
   ],
   "source": [
    "; pathname: namestring -> pathname\n",
    "(pathname \"/foo/bar/baz.txt\")\n",
    "; pathname-directory, pathname-name, pathname-type\n",
    "; pathname-host, pathname-device, pathname-version\n",
    "(pathname-directory (pathname \"/foo/bar/baz.txt\"))\n",
    "(pathname-name (pathname \"/foo/bar/baz.txt\"))\n",
    "(pathname-type (pathname \"/foo/bar/baz.txt\"))\n",
    "\n",
    "; namestring: path-name -> namestring\n",
    "(namestring #p\"/foo/bar/baz.txt\")\n",
    "; directory-namestring, file-namestring\n",
    "(directory-namestring #p\"/foo/bar/baz.txt\")\n",
    "(file-namestring #p\"/foo/bar/baz.txt\")"
   ]
  },
  {
   "cell_type": "markdown",
   "metadata": {},
   "source": [
    "# File System"
   ]
  },
  {
   "cell_type": "code",
   "execution_count": 22,
   "metadata": {
    "vscode": {
     "languageId": "commonlisp"
    }
   },
   "outputs": [
    {
     "data": {
      "text/plain": [
       "#P\"/Users/zhang/GoogleDrive/wiki/jupyter-notebooks/CommonLisp/topics/_example-file.txt\""
      ]
     },
     "execution_count": 22,
     "metadata": {},
     "output_type": "execute_result"
    },
    {
     "data": {
      "text/plain": [
       "NIL"
      ]
     },
     "execution_count": 22,
     "metadata": {},
     "output_type": "execute_result"
    },
    {
     "data": {
      "text/plain": [
       "(#P\"/Users/zhang/GoogleDrive/wiki/jupyter-notebooks/CommonLisp/.vscode/\"\n",
       " #P\"/Users/zhang/GoogleDrive/wiki/jupyter-notebooks/CommonLisp/App/\"\n",
       " #P\"/Users/zhang/GoogleDrive/wiki/jupyter-notebooks/CommonLisp/books/\"\n",
       " #P\"/Users/zhang/GoogleDrive/wiki/jupyter-notebooks/CommonLisp/data/\"\n",
       " #P\"/Users/zhang/GoogleDrive/wiki/jupyter-notebooks/CommonLisp/tools/\"\n",
       " #P\"/Users/zhang/GoogleDrive/wiki/jupyter-notebooks/CommonLisp/topics/\")"
      ]
     },
     "execution_count": 22,
     "metadata": {},
     "output_type": "execute_result"
    },
    {
     "data": {
      "text/plain": [
       "3943837027"
      ]
     },
     "execution_count": 22,
     "metadata": {},
     "output_type": "execute_result"
    },
    {
     "data": {
      "text/plain": [
       "\"zhang\""
      ]
     },
     "execution_count": 22,
     "metadata": {},
     "output_type": "execute_result"
    },
    {
     "data": {
      "text/plain": [
       "1"
      ]
     },
     "execution_count": 22,
     "metadata": {},
     "output_type": "execute_result"
    },
    {
     "name": "stdout",
     "output_type": "stream",
     "text": [
      "\n",
      "21 \n",
      "0 \n",
      "1 "
     ]
    }
   ],
   "source": [
    "; probe-file\n",
    "; directory\n",
    "; delete-file\n",
    "; rename-file\n",
    "; ensure-directories-exist\n",
    "; file-write-date, file-author\n",
    "; file-length, file-position\n",
    "\n",
    "(probe-file #p\"_example-file.txt\")\n",
    "(probe-file #p\"non-exist-file.txt\")\n",
    "\n",
    "(directory #p\"../*\")\n",
    "\n",
    "(file-write-date #p\"_example-file.txt\")\n",
    "(file-author #p\"_example-file.txt\")\n",
    "\n",
    "(with-open-file (in #p\"_example-file.txt\")\n",
    "    (print (file-length in))\n",
    "    (print (file-position in))\n",
    "    (read-char in)\n",
    "    (print (file-position in)))"
   ]
  },
  {
   "cell_type": "markdown",
   "metadata": {},
   "source": [
    "# Streams"
   ]
  },
  {
   "cell_type": "markdown",
   "metadata": {},
   "source": [
    "## String Streams"
   ]
  },
  {
   "cell_type": "code",
   "execution_count": 24,
   "metadata": {
    "vscode": {
     "languageId": "commonlisp"
    }
   },
   "outputs": [
    {
     "data": {
      "text/plain": [
       "1.23"
      ]
     },
     "execution_count": 24,
     "metadata": {},
     "output_type": "execute_result"
    },
    {
     "data": {
      "text/plain": [
       "1.23"
      ]
     },
     "execution_count": 24,
     "metadata": {},
     "output_type": "execute_result"
    },
    {
     "data": {
      "text/plain": [
       "\"hello, world (1 2 3)\""
      ]
     },
     "execution_count": 24,
     "metadata": {},
     "output_type": "execute_result"
    }
   ],
   "source": [
    "; make-string-input-stream\n",
    "; make-string-output-stream\n",
    "; get-output-stream-string\n",
    "; with-input-from-string\n",
    "; with-output-to-string\n",
    "\n",
    "(let ((s (make-string-input-stream \"1.23\")))\n",
    "     (unwind-protect (read s)\n",
    "                     (close s)))\n",
    "\n",
    "(with-input-from-string (s \"1.23\")\n",
    "    (read s))\n",
    "\n",
    "(with-output-to-string (out)\n",
    "    (format out \"hello, world \")\n",
    "    (format out \"~s\" '(1 2 3)))"
   ]
  },
  {
   "cell_type": "markdown",
   "metadata": {},
   "source": [
    "## Broadcast Streams"
   ]
  },
  {
   "cell_type": "code",
   "execution_count": null,
   "metadata": {
    "vscode": {
     "languageId": "commonlisp"
    }
   },
   "outputs": [],
   "source": [
    "; make-broadcast-stream"
   ]
  },
  {
   "cell_type": "markdown",
   "metadata": {},
   "source": [
    "# Concatenated Streams"
   ]
  },
  {
   "cell_type": "code",
   "execution_count": 23,
   "metadata": {
    "vscode": {
     "languageId": "commonlisp"
    }
   },
   "outputs": [],
   "source": [
    "; make-concatenated-stream"
   ]
  },
  {
   "cell_type": "markdown",
   "metadata": {},
   "source": [
    "## Bidirectional Streams"
   ]
  },
  {
   "cell_type": "code",
   "execution_count": null,
   "metadata": {
    "vscode": {
     "languageId": "commonlisp"
    }
   },
   "outputs": [],
   "source": [
    "; make-two-way-stream\n",
    "; make-echo-stream"
   ]
  }
 ],
 "metadata": {
  "kernelspec": {
   "display_name": "Common Lisp",
   "language": "common-lisp",
   "name": "common-lisp"
  },
  "language_info": {
   "codemirror_mode": "text/x-common-lisp",
   "file_extension": ".lisp",
   "mimetype": "text/x-common-lisp",
   "name": "common-lisp",
   "pygments_lexer": "common-lisp",
   "version": "2.4.7"
  }
 },
 "nbformat": 4,
 "nbformat_minor": 2
}
