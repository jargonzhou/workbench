{
 "cells": [
  {
   "cell_type": "markdown",
   "metadata": {},
   "source": [
    "# Conditions\n",
    "\n",
    "* signal a condtion\n",
    "* handle it\n",
    "* restart"
   ]
  },
  {
   "cell_type": "code",
   "execution_count": 1,
   "metadata": {
    "vscode": {
     "languageId": "commonlisp"
    }
   },
   "outputs": [],
   "source": [
    "(proclaim '(optimize (debug 3)\n",
    "                   (safety 3)\n",
    "                   (speed 0)))"
   ]
  },
  {
   "cell_type": "code",
   "execution_count": null,
   "metadata": {
    "vscode": {
     "languageId": "commonlisp"
    }
   },
   "outputs": [
    {
     "name": "stderr",
     "output_type": "stream",
     "text": [
      "SIMPLE-ERROR: SOMETHING WRONG HAPPENED.\n",
      "\n"
     ]
    },
    {
     "ename": "SIMPLE-ERROR",
     "evalue": "SOMETHING WRONG HAPPENED.",
     "output_type": "error",
     "traceback": [
      "0: ((LAMBDA NIL :IN \"C:/Users/zhouj/AppData/Local/Temp/76E1DCADDD094C204658744A1AE25586-1546136716.lisp\"))",
      "1: (JUPYTER/COMMON-LISP::EVAL-AND-PRINT (ERROR SOMETHING WRONG HAPPENED.) 0 NIL)",
      "2: ((:METHOD JUPYTER:EVALUATE-FORM (JUPYTER/COMMON-LISP:KERNEL T T T)) #<unused argument> #<FORM-TRACKING-STREAM for \"file C:\\\\Users\\\\zhouj\\\\AppData\\\\Local\\\\Temp\\\\76E1DCADDD094C204658744A1AE25586-1546136716.lisp\" {11029693B3}> CELL:1546136716.LISP.NEWEST NIL #<unused argument> #<unused argument>)",
      "3: (JUPYTER/COMMON-LISP::REPL (error \"SOMETHING WRONG HAPPENED.\") CELL:1546136716.LISP.NEWEST NIL)",
      "4: ((:METHOD JUPYTER:EVALUATE-CODE (JUPYTER/COMMON-LISP:KERNEL T)) #<unused argument> (error \"SOMETHING WRONG HAPPENED.\") CELL:1546136716.LISP.NEWEST NIL)",
      "5: (JUPYTER::HANDLE-EXECUTE-REQUEST)",
      "6: (JUPYTER::RUN-SHELL #<KERNEL {1103378D03}>)",
      "7: ((LABELS BORDEAUX-THREADS::%BINDING-DEFAULT-SPECIALS-WRAPPER :IN BORDEAUX-THREADS::BINDING-DEFAULT-SPECIALS))",
      "8: ((FLET SB-UNIX::BODY :IN SB-THREAD::RUN))",
      "9: ((FLET \"WITHOUT-INTERRUPTS-BODY-\" :IN SB-THREAD::RUN))",
      "10: ((FLET SB-UNIX::BODY :IN SB-THREAD::RUN))",
      "11: ((FLET \"WITHOUT-INTERRUPTS-BODY-\" :IN SB-THREAD::RUN))",
      "12: (SB-THREAD::RUN)",
      "13: (\"foreign function: #x140045B65\")",
      "14: (\"foreign function: #x14000A13A\")"
     ]
    }
   ],
   "source": [
    "; (error \"SOMETHING WRONG HAPPENED.\")"
   ]
  },
  {
   "cell_type": "markdown",
   "metadata": {},
   "source": [
    "# Examples in PCL"
   ]
  },
  {
   "cell_type": "code",
   "execution_count": null,
   "metadata": {
    "vscode": {
     "languageId": "commonlisp"
    }
   },
   "outputs": [
    {
     "data": {
      "text/plain": [
       "#<STANDARD-CLASS COMMON-LISP-USER::LOG-ENTRY>"
      ]
     },
     "execution_count": 2,
     "metadata": {},
     "output_type": "execute_result"
    },
    {
     "data": {
      "text/plain": [
       "*TEXT-FORM-FLAG*"
      ]
     },
     "execution_count": 2,
     "metadata": {},
     "output_type": "execute_result"
    },
    {
     "data": {
      "text/plain": [
       "WELL-FORMED-LOG-ENTRY-P"
      ]
     },
     "execution_count": 2,
     "metadata": {},
     "output_type": "execute_result"
    }
   ],
   "source": [
    ";;; log parse facilities\n",
    "(defclass log-entry ()\n",
    "    ((text\n",
    "      :initarg :text)))\n",
    "\n",
    "; a flag for mocking malformed log entry\n",
    "(defparameter *text-form-flag* nil)\n",
    "\n",
    "(defun well-formed-log-entry-p (text)\n",
    "  (declare (ignore text))\n",
    "  *text-form-flag*)"
   ]
  },
  {
   "cell_type": "markdown",
   "metadata": {},
   "source": [
    "## Conditions\n",
    "\n",
    "* define-condition\n",
    "* make-instance"
   ]
  },
  {
   "cell_type": "code",
   "execution_count": null,
   "metadata": {
    "vscode": {
     "languageId": "commonlisp"
    }
   },
   "outputs": [
    {
     "data": {
      "text/plain": [
       "MALFORMED-LOG-ENTRY-ERROR"
      ]
     },
     "execution_count": 3,
     "metadata": {},
     "output_type": "execute_result"
    },
    {
     "data": {
      "text/plain": [
       "PARSE-LOG-ENTRY"
      ]
     },
     "execution_count": 3,
     "metadata": {},
     "output_type": "execute_result"
    },
    {
     "name": "stdout",
     "output_type": "stream",
     "text": [
      "SB-INT:SIMPLE-STYLE-WARNING: undefined function: COMMON-LISP-USER::TEXT\n"
     ]
    }
   ],
   "source": [
    "(define-condition malformed-log-entry-error (error)\n",
    "    ((text :initarg :text :reader text))\n",
    "  (:report (lambda (condition stream) (format stream \"~A\" (text condition)))))\n",
    "\n",
    "(defun parse-log-entry (text)\n",
    "  (if (well-formed-log-entry-p text)\n",
    "      (make-instance 'log-entry :text text)\n",
    "      ;; signal an error\n",
    "      (error 'malformed-log-entry-error :text text)))\n"
   ]
  },
  {
   "cell_type": "markdown",
   "metadata": {},
   "source": [
    "## Condition Handlers\n",
    "\n",
    "* handler-case"
   ]
  },
  {
   "cell_type": "code",
   "execution_count": 4,
   "metadata": {
    "vscode": {
     "languageId": "commonlisp"
    }
   },
   "outputs": [
    {
     "data": {
      "text/plain": [
       "PARSE-LOG-FILE"
      ]
     },
     "execution_count": 4,
     "metadata": {},
     "output_type": "execute_result"
    }
   ],
   "source": [
    ";;; without condition handlers\n",
    "(defun parse-log-file (file)\n",
    "  (with-open-file (in file :direction :input)\n",
    "    (loop for text = (read-line in nil nil) while text\n",
    "          for entry = (parse-log-entry text)\n",
    "            when entry collect it)))"
   ]
  },
  {
   "cell_type": "code",
   "execution_count": 5,
   "metadata": {
    "vscode": {
     "languageId": "commonlisp"
    }
   },
   "outputs": [],
   "source": [
    "; (parse-log-file \"a.log\")\n",
    "\n",
    "; MALFORMED-LOG-ENTRY-ERROR: A quick brown fox jumps over the lazy dog."
   ]
  },
  {
   "cell_type": "code",
   "execution_count": 6,
   "metadata": {
    "vscode": {
     "languageId": "commonlisp"
    }
   },
   "outputs": [
    {
     "data": {
      "text/plain": [
       "PARSE-LOG-FILE"
      ]
     },
     "execution_count": 6,
     "metadata": {},
     "output_type": "execute_result"
    },
    {
     "name": "stdout",
     "output_type": "stream",
     "text": [
      "SB-KERNEL:REDEFINITION-WITH-DEFUN: redefining COMMON-LISP-USER::PARSE-LOG-FILE in DEFUN\n"
     ]
    }
   ],
   "source": [
    ";;; with condition handlers\n",
    "(defun parse-log-file (file)\n",
    "  (with-open-file (in file :direction :input)\n",
    "    (loop for text = (read-line in nil nil) while text\n",
    "          for entry = (handler-case (parse-log-entry text) ;; handler\n",
    "                        (malformed-log-entry-error () 'malformed-log-entry-value))\n",
    "            when entry collect it)))"
   ]
  },
  {
   "cell_type": "code",
   "execution_count": 7,
   "metadata": {
    "vscode": {
     "languageId": "commonlisp"
    }
   },
   "outputs": [
    {
     "data": {
      "text/plain": [
       "(PARSE-LOG-ENTRY)"
      ]
     },
     "execution_count": 7,
     "metadata": {},
     "output_type": "execute_result"
    },
    {
     "name": "stdout",
     "output_type": "stream",
     "text": [
      "  0: (PARSE-LOG-ENTRY \"A quick brown fox jumps over the lazy dog.\")\n",
      "  0: PARSE-LOG-ENTRY exited non-locally\n",
      "  0: (PARSE-LOG-ENTRY \"A quick brown fox jumps over the lazy dog.\")\n",
      "  0: PARSE-LOG-ENTRY exited non-locally\n"
     ]
    },
    {
     "data": {
      "text/plain": [
       "(MALFORMED-LOG-ENTRY-VALUE MALFORMED-LOG-ENTRY-VALUE)"
      ]
     },
     "execution_count": 7,
     "metadata": {},
     "output_type": "execute_result"
    },
    {
     "data": {
      "text/plain": [
       "T"
      ]
     },
     "execution_count": 7,
     "metadata": {},
     "output_type": "execute_result"
    }
   ],
   "source": [
    "(trace parse-log-entry)\n",
    "(parse-log-file \"a.log\")\n",
    "(untrace parse-log-entry)"
   ]
  },
  {
   "cell_type": "markdown",
   "metadata": {},
   "source": [
    "## Restarts\n",
    "\n",
    "* restart-case\n",
    "* handler-bind"
   ]
  },
  {
   "cell_type": "code",
   "execution_count": null,
   "metadata": {
    "vscode": {
     "languageId": "commonlisp"
    }
   },
   "outputs": [
    {
     "data": {
      "text/plain": [
       "SKIP-LOG-ENTRY"
      ]
     },
     "execution_count": 8,
     "metadata": {},
     "output_type": "execute_result"
    },
    {
     "data": {
      "text/plain": [
       "ANALYZE-ENTRY"
      ]
     },
     "execution_count": 8,
     "metadata": {},
     "output_type": "execute_result"
    },
    {
     "data": {
      "text/plain": [
       "PARSE-LOG-FILE"
      ]
     },
     "execution_count": 8,
     "metadata": {},
     "output_type": "execute_result"
    },
    {
     "data": {
      "text/plain": [
       "ANALYZE-LOG"
      ]
     },
     "execution_count": 8,
     "metadata": {},
     "output_type": "execute_result"
    },
    {
     "data": {
      "text/plain": [
       "FIND-ALL-LOGS"
      ]
     },
     "execution_count": 8,
     "metadata": {},
     "output_type": "execute_result"
    },
    {
     "data": {
      "text/plain": [
       "LOG-ANALYZER"
      ]
     },
     "execution_count": 8,
     "metadata": {},
     "output_type": "execute_result"
    },
    {
     "name": "stdout",
     "output_type": "stream",
     "text": [
      "SB-KERNEL:REDEFINITION-WITH-DEFUN: redefining COMMON-LISP-USER::PARSE-LOG-FILE in DEFUN\n"
     ]
    }
   ],
   "source": [
    "(defun skip-log-entry (c) ;; the condition handler function\n",
    "  (declare (ignore c))\n",
    "  (let ((restart (find-restart 'skip-log-entry)))\n",
    "    ;; invoke restart\n",
    "    (when restart (invoke-restart restart))))\n",
    "\n",
    "(defun analyze-entry (entry)\n",
    "  (format t \"Analyze entry: ~A(~A)~%\" (slot-value entry 'text) (type-of entry)))\n",
    "\n",
    "; redefine function\n",
    "(defun parse-log-file (file)\n",
    "  (with-open-file (in file :direction :input)\n",
    "    (loop for text = (read-line in nil nil) while text\n",
    "          for entry = (restart-case (parse-log-entry text)\n",
    "                        ;; restart\n",
    "                        (skip-log-entry () (format t \"parse-log-entry FAILED.\")))\n",
    "            when entry collect it)))\n",
    "\n",
    "(defun analyze-log (log)\n",
    "  (dolist (entry (parse-log-file log))\n",
    "    (analyze-entry entry)))\n",
    "\n",
    "(defun find-all-logs ()\n",
    "  (list \"a.log\"))\n",
    "\n",
    "(defun log-analyzer ()\n",
    "  ;; bind condition handler\n",
    "  (handler-bind ((malformed-log-entry-error #'skip-log-entry))\n",
    "    (dolist (log (find-all-logs))\n",
    "      (analyze-log log))))"
   ]
  },
  {
   "cell_type": "code",
   "execution_count": 9,
   "metadata": {
    "vscode": {
     "languageId": "commonlisp"
    }
   },
   "outputs": [
    {
     "data": {
      "text/plain": [
       "(FIND-ALL-LOGS ANALYZE-LOG PARSE-LOG-FILE PARSE-LOG-ENTRY ANALYZE-ENTRY)"
      ]
     },
     "execution_count": 9,
     "metadata": {},
     "output_type": "execute_result"
    },
    {
     "name": "stdout",
     "output_type": "stream",
     "text": [
      "  0: (FIND-ALL-LOGS)\n",
      "  0: FIND-ALL-LOGS returned (\"a.log\")\n",
      "  0: (ANALYZE-LOG \"a.log\")\n",
      "    1: (PARSE-LOG-FILE \"a.log\")\n",
      "      2: (PARSE-LOG-ENTRY \"A quick brown fox jumps over the lazy dog.\")\n",
      "      2: PARSE-LOG-ENTRY exited non-locally\n",
      "parse-log-entry FAILED.      2: (PARSE-LOG-ENTRY \"A quick brown fox jumps over the lazy dog.\")\n",
      "      2: PARSE-LOG-ENTRY exited non-locally\n",
      "parse-log-entry FAILED.    1: PARSE-LOG-FILE returned NIL\n",
      "  0: ANALYZE-LOG returned NIL\n"
     ]
    },
    {
     "data": {
      "text/plain": [
       "NIL"
      ]
     },
     "execution_count": 9,
     "metadata": {},
     "output_type": "execute_result"
    },
    {
     "data": {
      "text/plain": [
       "T"
      ]
     },
     "execution_count": 9,
     "metadata": {},
     "output_type": "execute_result"
    }
   ],
   "source": [
    "(trace find-all-logs analyze-log parse-log-file parse-log-entry analyze-entry)\n",
    "(log-analyzer)\n",
    "(untrace find-all-logs analyze-log parse-log-file parse-log-entry analyze-entry)\n"
   ]
  },
  {
   "cell_type": "code",
   "execution_count": 10,
   "metadata": {
    "vscode": {
     "languageId": "commonlisp"
    }
   },
   "outputs": [
    {
     "data": {
      "text/plain": [
       "(FIND-ALL-LOGS ANALYZE-LOG PARSE-LOG-FILE PARSE-LOG-ENTRY ANALYZE-ENTRY)"
      ]
     },
     "execution_count": 10,
     "metadata": {},
     "output_type": "execute_result"
    },
    {
     "name": "stdout",
     "output_type": "stream",
     "text": [
      "  0: (FIND-ALL-LOGS)\n",
      "  0: FIND-ALL-LOGS returned (\"a.log\")\n",
      "  0: (ANALYZE-LOG \"a.log\")\n",
      "    1: (PARSE-LOG-FILE \"a.log\")\n",
      "      2: (PARSE-LOG-ENTRY \"A quick brown fox jumps over the lazy dog.\")\n",
      "      2: PARSE-LOG-ENTRY returned #<LOG-ENTRY {1102537133}>\n",
      "      2: (PARSE-LOG-ENTRY \"A quick brown fox jumps over the lazy dog.\")\n",
      "      2: PARSE-LOG-ENTRY returned #<LOG-ENTRY {11025376D3}>\n",
      "    1: PARSE-LOG-FILE returned\n",
      "         (#<LOG-ENTRY {1102537133}> #<LOG-ENTRY {11025376D3}>)\n",
      "    1: (ANALYZE-ENTRY #<LOG-ENTRY {1102537133}>)\n",
      "Analyze entry: A quick brown fox jumps over the lazy dog.(LOG-ENTRY)\n",
      "    1: ANALYZE-ENTRY returned NIL\n",
      "    1: (ANALYZE-ENTRY #<LOG-ENTRY {11025376D3}>)\n",
      "Analyze entry: A quick brown fox jumps over the lazy dog.(LOG-ENTRY)\n",
      "    1: ANALYZE-ENTRY returned NIL\n",
      "  0: ANALYZE-LOG returned NIL\n"
     ]
    },
    {
     "data": {
      "text/plain": [
       "NIL"
      ]
     },
     "execution_count": 10,
     "metadata": {},
     "output_type": "execute_result"
    },
    {
     "data": {
      "text/plain": [
       "T"
      ]
     },
     "execution_count": 10,
     "metadata": {},
     "output_type": "execute_result"
    }
   ],
   "source": [
    "(trace find-all-logs analyze-log parse-log-file parse-log-entry analyze-entry)\n",
    "(let ((*text-form-flag* t))\n",
    "  (log-analyzer))\n",
    "(untrace find-all-logs analyze-log parse-log-file parse-log-entry analyze-entry)"
   ]
  },
  {
   "cell_type": "markdown",
   "metadata": {},
   "source": [
    "## Multiple Restarts"
   ]
  },
  {
   "cell_type": "code",
   "execution_count": null,
   "metadata": {
    "vscode": {
     "languageId": "commonlisp"
    }
   },
   "outputs": [
    {
     "data": {
      "text/plain": [
       "PARSE-LOG-ENTRY"
      ]
     },
     "execution_count": 11,
     "metadata": {},
     "output_type": "execute_result"
    },
    {
     "data": {
      "text/plain": [
       "#<STANDARD-CLASS COMMON-LISP-USER::MALFORMED-LOG-ENTRY>"
      ]
     },
     "execution_count": 11,
     "metadata": {},
     "output_type": "execute_result"
    },
    {
     "data": {
      "text/plain": [
       "LOG-ANALYZER"
      ]
     },
     "execution_count": 11,
     "metadata": {},
     "output_type": "execute_result"
    },
    {
     "name": "stdout",
     "output_type": "stream",
     "text": [
      "SB-KERNEL:REDEFINITION-WITH-DEFUN: redefining COMMON-LISP-USER::PARSE-LOG-ENTRY in DEFUN\n",
      "SB-KERNEL:REDEFINITION-WITH-DEFUN: redefining COMMON-LISP-USER::LOG-ANALYZER in DEFUN\n"
     ]
    }
   ],
   "source": [
    "; redefine function\n",
    "(defun parse-log-entry (text)\n",
    "  (if (well-formed-log-entry-p text)\n",
    "      (make-instance 'log-entry :text text)\n",
    "      (restart-case (error 'malformed-log-entry-error :text text)\n",
    "        ;; standard restart\n",
    "        (use-value (value) value)\n",
    "        ;; customed restart\n",
    "        (reparse-entry (fixed-text)\n",
    "                       (parse-log-entry fixed-text)\n",
    "                       ; mock need fixing\n",
    "                       (setf *text-form-flag* nil)))))\n",
    "\n",
    "\n",
    "(defclass malformed-log-entry (log-entry)\n",
    "    ())\n",
    "\n",
    "(defun log-analyzer ()\n",
    "  ;; bind condition handler\n",
    "  (handler-bind ((malformed-log-entry-error\n",
    "                  #'(lambda (c)\n",
    "                      (if (find-restart 'reparse-entry)\n",
    "                          (progn\n",
    "                           (setf *text-form-flag* t) ; mock fixed\n",
    "                           (invoke-restart 'reparse-entry (read-line)))\n",
    "                          (use-value (make-instance 'malformed-log-entry :text (text c)))))))\n",
    "    (dolist (log (find-all-logs))\n",
    "      (analyze-log log))))"
   ]
  },
  {
   "cell_type": "code",
   "execution_count": 12,
   "metadata": {
    "vscode": {
     "languageId": "commonlisp"
    }
   },
   "outputs": [
    {
     "data": {
      "text/plain": [
       "(FIND-ALL-LOGS ANALYZE-LOG PARSE-LOG-FILE PARSE-LOG-ENTRY ANALYZE-ENTRY)"
      ]
     },
     "execution_count": 12,
     "metadata": {},
     "output_type": "execute_result"
    },
    {
     "name": "stdout",
     "output_type": "stream",
     "text": [
      "  0: (FIND-ALL-LOGS)\n",
      "  0: FIND-ALL-LOGS returned (\"a.log\")\n",
      "  0: (ANALYZE-LOG \"a.log\")\n",
      "    1: (PARSE-LOG-FILE \"a.log\")\n",
      "      2: (PARSE-LOG-ENTRY \"A quick brown fox jumps over the lazy dog.\")\n",
      "        3: (PARSE-LOG-ENTRY \"fixed text\")\n",
      "        3: PARSE-LOG-ENTRY returned #<LOG-ENTRY {110288A243}>\n",
      "      2: PARSE-LOG-ENTRY returned NIL\n",
      "      2: (PARSE-LOG-ENTRY \"A quick brown fox jumps over the lazy dog.\")\n",
      "        3: (PARSE-LOG-ENTRY \"fixed text2\")\n",
      "        3: PARSE-LOG-ENTRY returned #<LOG-ENTRY {110288B3D3}>\n",
      "      2: PARSE-LOG-ENTRY returned NIL\n",
      "    1: PARSE-LOG-FILE returned NIL\n",
      "  0: ANALYZE-LOG returned NIL\n"
     ]
    },
    {
     "data": {
      "text/plain": [
       "NIL"
      ]
     },
     "execution_count": 12,
     "metadata": {},
     "output_type": "execute_result"
    },
    {
     "data": {
      "text/plain": [
       "T"
      ]
     },
     "execution_count": 12,
     "metadata": {},
     "output_type": "execute_result"
    }
   ],
   "source": [
    "(trace find-all-logs analyze-log parse-log-file parse-log-entry analyze-entry)\n",
    "(log-analyzer)\n",
    "(untrace find-all-logs analyze-log parse-log-file parse-log-entry analyze-entry)"
   ]
  }
 ],
 "metadata": {
  "kernelspec": {
   "display_name": "Common Lisp",
   "language": "common-lisp",
   "name": "common-lisp"
  },
  "language_info": {
   "codemirror_mode": "text/x-common-lisp",
   "file_extension": ".lisp",
   "mimetype": "text/x-common-lisp",
   "name": "common-lisp",
   "pygments_lexer": "common-lisp",
   "version": "2.4.10"
  }
 },
 "nbformat": 4,
 "nbformat_minor": 2
}
