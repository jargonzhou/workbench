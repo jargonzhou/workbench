{
 "cells": [
  {
   "cell_type": "markdown",
   "metadata": {},
   "source": [
    "# CLOS(Common Lisp Object System)\n",
    "\n",
    "- Practial Common Lisp > Chapter 16. Object Reorientation: Generic Functions\n",
    "- Practial Common Lisp > Chapter 17. Object Reorientation: Classes"
   ]
  },
  {
   "cell_type": "code",
   "execution_count": 1,
   "metadata": {
    "vscode": {
     "languageId": "commonlisp"
    }
   },
   "outputs": [
    {
     "name": "stdout",
     "output_type": "stream",
     "text": [
      "To load \"log4cl\":\n",
      "  Load 1 ASDF system:\n",
      "    log4cl\n",
      "\n",
      "; Loading \"log4cl\"\n",
      "."
     ]
    },
    {
     "data": {
      "text/plain": [
       "(:LOG4CL)"
      ]
     },
     "execution_count": 1,
     "metadata": {},
     "output_type": "execute_result"
    },
    {
     "name": "stdout",
     "output_type": "stream",
     "text": [
      "\n"
     ]
    }
   ],
   "source": [
    "(ql:quickload :log4cl)\n",
    "(log:config :debug :NOPRETTY)"
   ]
  },
  {
   "cell_type": "markdown",
   "metadata": {},
   "source": [
    "# Examples in PCL"
   ]
  },
  {
   "cell_type": "markdown",
   "metadata": {},
   "source": [
    "## defclass"
   ]
  },
  {
   "cell_type": "code",
   "execution_count": 2,
   "metadata": {
    "vscode": {
     "languageId": "commonlisp"
    }
   },
   "outputs": [
    {
     "data": {
      "text/plain": [
       "*ACCOUNT-NUMBER*"
      ]
     },
     "execution_count": 2,
     "metadata": {},
     "output_type": "execute_result"
    },
    {
     "data": {
      "text/plain": [
       "#<STANDARD-CLASS COMMON-LISP-USER::BANK-ACCOUNT>"
      ]
     },
     "execution_count": 2,
     "metadata": {},
     "output_type": "execute_result"
    },
    {
     "data": {
      "text/plain": [
       "#<STANDARD-METHOD COMMON-LISP:INITIALIZE-INSTANCE :AFTER (BANK-ACCOUNT) {11038C1CF3}>"
      ]
     },
     "execution_count": 2,
     "metadata": {},
     "output_type": "execute_result"
    },
    {
     "data": {
      "text/plain": [
       "#<STANDARD-CLASS COMMON-LISP-USER::CHECKING-ACCOUNT>"
      ]
     },
     "execution_count": 2,
     "metadata": {},
     "output_type": "execute_result"
    },
    {
     "data": {
      "text/plain": [
       "#<STANDARD-CLASS COMMON-LISP-USER::SAVING-ACCOUNT>"
      ]
     },
     "execution_count": 2,
     "metadata": {},
     "output_type": "execute_result"
    }
   ],
   "source": [
    "(defvar *account-number* 0)\n",
    "\n",
    "(defclass bank-account ()\n",
    "    ((customer-name\n",
    "      :initarg :customer-name\n",
    "      :initform (error \"Must supply a customer name.\"))\n",
    "     (balance\n",
    "      :initarg :balance\n",
    "      :initform 0)\n",
    "     (account-number\n",
    "      :initform (incf *account-number*))\n",
    "     account-type))\n",
    "\n",
    ";;; initialize-instance\n",
    "(defmethod initialize-instance :after ((account bank-account) &key opening-bonus-percentage)\n",
    "  ;; process extra init arguments\n",
    "  (when opening-bonus-percentage\n",
    "        (incf (slot-value account 'balance)\n",
    "              (* (slot-value account 'balance) (/ opening-bonus-percentage 100))))\n",
    "  ;; for field: account-type\n",
    "  (let ((balance (slot-value account 'balance)))\n",
    "    (setf (slot-value account 'account-type)\n",
    "      (cond\n",
    "       ((>= balance 100000) :gold)\n",
    "       ((>= balance 50000) :silver)\n",
    "       (t :bronze)))))\n",
    "\n",
    "(defclass checking-account (bank-account)\n",
    "    (blah))\n",
    "\n",
    "(defclass saving-account (bank-account)\n",
    "    (blah))"
   ]
  },
  {
   "cell_type": "code",
   "execution_count": 3,
   "metadata": {
    "vscode": {
     "languageId": "commonlisp"
    }
   },
   "outputs": [
    {
     "data": {
      "text/plain": [
       "1000"
      ]
     },
     "execution_count": 3,
     "metadata": {},
     "output_type": "execute_result"
    },
    {
     "name": "stdout",
     "output_type": "stream",
     "text": [
      "\n",
      "\"John Doe\" \n",
      "1000 "
     ]
    }
   ],
   "source": [
    "(let ((account (make-instance 'bank-account :customer-name \"John Doe\" :balance 1000)))\n",
    "  (print (slot-value account 'customer-name))\n",
    "  (print (slot-value account 'balance)))"
   ]
  },
  {
   "cell_type": "code",
   "execution_count": 4,
   "metadata": {
    "vscode": {
     "languageId": "commonlisp"
    }
   },
   "outputs": [
    {
     "data": {
      "text/plain": [
       "1050"
      ]
     },
     "execution_count": 4,
     "metadata": {},
     "output_type": "execute_result"
    },
    {
     "name": "stdout",
     "output_type": "stream",
     "text": [
      "\n",
      "1050 "
     ]
    }
   ],
   "source": [
    "(let ((account (make-instance 'bank-account\n",
    "                 :customer-name \"Sally Sue\"\n",
    "                 :balance 1000\n",
    "                 :opening-bonus-percentage 5))) ; extra init arguments\n",
    "  (print (slot-value account 'balance)))"
   ]
  },
  {
   "cell_type": "markdown",
   "metadata": {},
   "source": [
    "## Accessor Functions"
   ]
  },
  {
   "cell_type": "code",
   "execution_count": 5,
   "metadata": {
    "vscode": {
     "languageId": "commonlisp"
    }
   },
   "outputs": [
    {
     "data": {
      "text/plain": [
       "#<STANDARD-GENERIC-FUNCTION COMMON-LISP-USER::BALANCE (0)>"
      ]
     },
     "execution_count": 5,
     "metadata": {},
     "output_type": "execute_result"
    },
    {
     "data": {
      "text/plain": [
       "#<STANDARD-METHOD COMMON-LISP-USER::BALANCE (BANK-ACCOUNT) {1103AF7BA3}>"
      ]
     },
     "execution_count": 5,
     "metadata": {},
     "output_type": "execute_result"
    },
    {
     "data": {
      "text/plain": [
       "#<STANDARD-GENERIC-FUNCTION (COMMON-LISP:SETF COMMON-LISP-USER::CUSTOMER-NAME) (0)>"
      ]
     },
     "execution_count": 5,
     "metadata": {},
     "output_type": "execute_result"
    },
    {
     "data": {
      "text/plain": [
       "#<STANDARD-METHOD (COMMON-LISP:SETF COMMON-LISP-USER::CUSTOMER-NAME) (T\n",
       "                                                                      BANK-ACCOUNT) {1103C22EF3}>"
      ]
     },
     "execution_count": 5,
     "metadata": {},
     "output_type": "execute_result"
    },
    {
     "data": {
      "text/plain": [
       "#<STANDARD-GENERIC-FUNCTION COMMON-LISP-USER::CUSTOMER-NAME (0)>"
      ]
     },
     "execution_count": 5,
     "metadata": {},
     "output_type": "execute_result"
    },
    {
     "data": {
      "text/plain": [
       "#<STANDARD-METHOD COMMON-LISP-USER::CUSTOMER-NAME (BANK-ACCOUNT) {1103C8D383}>"
      ]
     },
     "execution_count": 5,
     "metadata": {},
     "output_type": "execute_result"
    }
   ],
   "source": [
    "; reader: balance\n",
    "(defgeneric balance (account))\n",
    "\n",
    "(defmethod balance ((account bank-account))\n",
    "  (slot-value account 'balance))\n",
    "\n",
    "; setter: customer-name\n",
    "(defgeneric (setf customer-name) (value account))\n",
    "\n",
    "(defmethod (setf customer-name) (value (account bank-account))\n",
    "  (setf (slot-value account 'customer-name) value))\n",
    "\n",
    "; reader: customer-name\n",
    "(defgeneric customer-name (account))\n",
    "\n",
    "(defmethod customer-name ((account bank-account))\n",
    "  (slot-value account 'customer-name))"
   ]
  },
  {
   "cell_type": "code",
   "execution_count": 6,
   "metadata": {
    "vscode": {
     "languageId": "commonlisp"
    }
   },
   "outputs": [
    {
     "data": {
      "text/plain": [
       "\"Sally Sue\""
      ]
     },
     "execution_count": 6,
     "metadata": {},
     "output_type": "execute_result"
    },
    {
     "name": "stdout",
     "output_type": "stream",
     "text": [
      "\n",
      "\"Sally Sue\" "
     ]
    }
   ],
   "source": [
    "(let ((account (make-instance 'bank-account :customer-name \"John Doe\" :balance 1000)))\n",
    "  (setf (customer-name account) \"Sally Sue\")\n",
    "  (print (customer-name account)))"
   ]
  },
  {
   "cell_type": "code",
   "execution_count": 7,
   "metadata": {
    "vscode": {
     "languageId": "commonlisp"
    }
   },
   "outputs": [
    {
     "data": {
      "text/plain": [
       "#<STANDARD-CLASS COMMON-LISP-USER::BANK-ACCOUNT2>"
      ]
     },
     "execution_count": 7,
     "metadata": {},
     "output_type": "execute_result"
    },
    {
     "data": {
      "text/plain": [
       "#<STANDARD-METHOD COMMON-LISP:INITIALIZE-INSTANCE :AFTER (BANK-ACCOUNT2) {1103F7ACC3}>"
      ]
     },
     "execution_count": 7,
     "metadata": {},
     "output_type": "execute_result"
    }
   ],
   "source": [
    "; use :reader, :writer, :accessor\n",
    "; also :documentation\n",
    "(defclass bank-account2 ()\n",
    "    ((customer-name\n",
    "      :initarg :customer-name\n",
    "      :initform (error \"Must supply a customer name.\")\n",
    "      :accessor customer-name\n",
    "      :documentation \"Customer's name\")\n",
    "     (balance\n",
    "      :initarg :balance\n",
    "      :initform 0\n",
    "      :reader balance\n",
    "      :documentation \"Current account balance\")\n",
    "     (account-number\n",
    "      :initform (incf *account-number*)\n",
    "      :reader account-number\n",
    "      :documentation \"Account number, unique within a bank.\")\n",
    "     (account-type\n",
    "      :reader account-type\n",
    "      :documentation \"Type of account, one of :gold, :silver or :bronze.\")))\n",
    "\n",
    "(defmethod initialize-instance :after ((account bank-account2) &key)\n",
    "  ;; for field: account-type\n",
    "  (let ((balance (slot-value account 'balance)))\n",
    "    (setf (slot-value account 'account-type)\n",
    "      (cond\n",
    "       ((>= balance 100000) :gold)\n",
    "       ((>= balance 50000) :silver)\n",
    "       (t :bronze)))))"
   ]
  },
  {
   "cell_type": "code",
   "execution_count": 8,
   "metadata": {
    "vscode": {
     "languageId": "commonlisp"
    }
   },
   "outputs": [
    {
     "data": {
      "text/plain": [
       ":BRONZE"
      ]
     },
     "execution_count": 8,
     "metadata": {},
     "output_type": "execute_result"
    },
    {
     "name": "stdout",
     "output_type": "stream",
     "text": [
      "\n",
      "\"Sally Sue\" \n",
      "1000 \n",
      "4 \n",
      ":BRONZE "
     ]
    }
   ],
   "source": [
    "(let ((account (make-instance 'bank-account2 :customer-name \"John Doe\" :balance 1000)))\n",
    "  (setf (customer-name account) \"Sally Sue\")\n",
    "  (print (customer-name account))\n",
    "  (print (balance account))\n",
    "  (print (account-number account))\n",
    "  (print (account-type account)))"
   ]
  },
  {
   "cell_type": "code",
   "execution_count": 9,
   "metadata": {
    "vscode": {
     "languageId": "commonlisp"
    }
   },
   "outputs": [
    {
     "data": {
      "text/plain": [
       "*MINUMUM-BALANCE*"
      ]
     },
     "execution_count": 9,
     "metadata": {},
     "output_type": "execute_result"
    },
    {
     "data": {
      "text/plain": [
       "#<STANDARD-METHOD COMMON-LISP-USER::ASSESS-LOW-BALANCE-PENALTY (BANK-ACCOUNT) {1104113B43}>"
      ]
     },
     "execution_count": 9,
     "metadata": {},
     "output_type": "execute_result"
    },
    {
     "data": {
      "text/plain": [
       "#<STANDARD-METHOD COMMON-LISP-USER::MERGE-ACCOUNT (BANK-ACCOUNT BANK-ACCOUNT) {11041BAE63}>"
      ]
     },
     "execution_count": 9,
     "metadata": {},
     "output_type": "execute_result"
    },
    {
     "data": {
      "text/plain": [
       "0"
      ]
     },
     "execution_count": 9,
     "metadata": {},
     "output_type": "execute_result"
    },
    {
     "name": "stdout",
     "output_type": "stream",
     "text": [
      "\n",
      "103.96 \n",
      "0 "
     ]
    }
   ],
   "source": [
    "; with-slots for :reader\n",
    "; with-accessor for :accessor\n",
    "\n",
    "(defparameter *minumum-balance* 5)\n",
    "\n",
    "(defmethod assess-low-balance-penalty ((account bank-account))\n",
    "  (with-slots ((bal balance)) account\n",
    "    (when (< bal *minumum-balance*)\n",
    "          (decf bal (* bal .01)))))\n",
    "\n",
    "(defmethod merge-account ((account1 bank-account) (account2 bank-account))\n",
    "  (with-slots ((balance1 balance)) account1\n",
    "    (with-slots ((balance2 balance)) account2\n",
    "      (incf balance1 balance2)\n",
    "      (setf balance2 0))))\n",
    "\n",
    "(let ((a1 (make-instance 'bank-account :customer-name \"A\" :balance 100))\n",
    "      (a2 (make-instance 'bank-account :customer-name \"A\" :balance 4)))\n",
    "  (assess-low-balance-penalty a2)\n",
    "  (merge-account a1 a2)\n",
    "  (print (balance a1))\n",
    "  (print (balance a2)))"
   ]
  },
  {
   "cell_type": "markdown",
   "metadata": {},
   "source": [
    "## Slots and Inheritance"
   ]
  },
  {
   "cell_type": "code",
   "execution_count": 10,
   "metadata": {
    "vscode": {
     "languageId": "commonlisp"
    }
   },
   "outputs": [
    {
     "data": {
      "text/plain": [
       "#<STANDARD-CLASS COMMON-LISP-USER::FOO>"
      ]
     },
     "execution_count": 10,
     "metadata": {},
     "output_type": "execute_result"
    },
    {
     "data": {
      "text/plain": [
       "#<STANDARD-CLASS COMMON-LISP-USER::BAR>"
      ]
     },
     "execution_count": 10,
     "metadata": {},
     "output_type": "execute_result"
    }
   ],
   "source": [
    "(defclass foo ()\n",
    "    ((a :initarg :a :initform \"A\" :accessor a)\n",
    "     (b :initarg :b :initform \"B\" :accessor b)))\n",
    "\n",
    "(defclass bar (foo)\n",
    "    ((a :initform (error \"Must supply a value for a\"))\n",
    "     (b :initarg :the-b :accessor the-b :allocation :class)))"
   ]
  },
  {
   "cell_type": "markdown",
   "metadata": {},
   "source": [
    "## Multiple Inheritance"
   ]
  },
  {
   "cell_type": "code",
   "execution_count": 11,
   "metadata": {
    "vscode": {
     "languageId": "commonlisp"
    }
   },
   "outputs": [
    {
     "data": {
      "text/plain": [
       "#<STANDARD-CLASS COMMON-LISP-USER::MONEY-MARKET-ACCOUNT>"
      ]
     },
     "execution_count": 11,
     "metadata": {},
     "output_type": "execute_result"
    }
   ],
   "source": [
    "(defclass money-market-account (checking-account saving-account)\n",
    "  ())"
   ]
  },
  {
   "cell_type": "markdown",
   "metadata": {},
   "source": [
    "## defgeneric, defmethod"
   ]
  },
  {
   "cell_type": "code",
   "execution_count": 12,
   "metadata": {
    "vscode": {
     "languageId": "commonlisp"
    }
   },
   "outputs": [
    {
     "data": {
      "text/plain": [
       "#<STANDARD-GENERIC-FUNCTION COMMON-LISP-USER::WITHDTAW (0)>"
      ]
     },
     "execution_count": 12,
     "metadata": {},
     "output_type": "execute_result"
    },
    {
     "data": {
      "text/plain": [
       "#<STANDARD-METHOD COMMON-LISP-USER::WITHDTAW (BANK-ACCOUNT T) {1104581913}>"
      ]
     },
     "execution_count": 12,
     "metadata": {},
     "output_type": "execute_result"
    },
    {
     "data": {
      "text/plain": [
       "OVERDRAFT-ACCOUNT"
      ]
     },
     "execution_count": 12,
     "metadata": {},
     "output_type": "execute_result"
    },
    {
     "data": {
      "text/plain": [
       "#<STANDARD-METHOD COMMON-LISP-USER::WITHDTAW (CHECKING-ACCOUNT T) {11047DF7B3}>"
      ]
     },
     "execution_count": 12,
     "metadata": {},
     "output_type": "execute_result"
    },
    {
     "data": {
      "text/plain": [
       "*ACCOUNT-OF-BANK-PRESIDENT*"
      ]
     },
     "execution_count": 12,
     "metadata": {},
     "output_type": "execute_result"
    },
    {
     "data": {
      "text/plain": [
       "*BANK*"
      ]
     },
     "execution_count": 12,
     "metadata": {},
     "output_type": "execute_result"
    },
    {
     "data": {
      "text/plain": [
       "EMBEZZLE"
      ]
     },
     "execution_count": 12,
     "metadata": {},
     "output_type": "execute_result"
    },
    {
     "data": {
      "text/plain": [
       "#<STANDARD-METHOD COMMON-LISP-USER::WITHDTAW ((EQL\n",
       "                                               #<BANK-ACCOUNT {110487A383}>)\n",
       "                                              T) {1104A1A5F3}>"
      ]
     },
     "execution_count": 12,
     "metadata": {},
     "output_type": "execute_result"
    }
   ],
   "source": [
    "(defgeneric withdtaw (account amount)\n",
    "  (:documentation \"Withdraw the specified amount from the account.\n",
    "  Signal an error if the current balance is less than the amount.\"))\n",
    "\n",
    ";; can we named the class defined captialize to distinguish the variable and the class???\n",
    "(defmethod withdtaw ((account bank-account) amount)\n",
    "  (log:debug \"method withdtaw ((account bank-account) amount) called.\")\n",
    "  (when (< (slot-value account 'balance) amount)\n",
    "        (error \"Account overdrawn.\"))\n",
    "  (decf (slot-value account 'balance) amount))\n",
    "\n",
    "(defun overdraft-account (account)\n",
    "  (let ((result (make-instance 'bank-account :customer-name \"nil\")))\n",
    "    (with-slots ((cn1 customer-name) (b1 balance) (an1 account-number) (at1 account-type)) account\n",
    "      (with-slots ((cn2 customer-name) (b2 balance) (an2 account-number) (at2 account-type)) result\n",
    "        (setf cn2 cn1)\n",
    "        (setf b2 0)\n",
    "        (setf an2 an1)\n",
    "        (setf at2 at1)))\n",
    "    result))\n",
    "\n",
    "(defmethod withdtaw ((account checking-account) amount)\n",
    "  (log:debug \"method withdtaw ((account checking-account) amount) called.\")\n",
    "  (let ((overdraft (- amount (slot-value account 'balance))))\n",
    "    (when (plusp overdraft)\n",
    "          (withdtaw (overdraft-account account) overdraft) ; what does overdraft-account mean???\n",
    "          (incf (slot-value account 'balance) overdraft)))\n",
    "  (call-next-method))\n",
    "\n",
    "(defparameter *account-of-bank-president* (make-instance 'bank-account :customer-name \"*account-of-bank-president*\"))\n",
    "(defvar *bank* 1000000)\n",
    "\n",
    "(defun embezzle (from amount)\n",
    "  (setf from (- from amount)))\n",
    "\n",
    "(defmethod withdtaw ((account (eql *account-of-bank-president*)) amount)\n",
    "  (log:debug \"method withdtaw ((account (eql *account-of-bank-president*)) amount) called.\")\n",
    "  (let ((overdraft (- amount (slot-value account 'balance))))\n",
    "    (when (plusp overdraft)\n",
    "          (incf (slot-value account 'balance) (embezzle *bank* overdraft))) ; what does embezzle mean???\n",
    "    ; call what next???\n",
    "    (call-next-method)))"
   ]
  },
  {
   "cell_type": "code",
   "execution_count": 13,
   "metadata": {
    "vscode": {
     "languageId": "commonlisp"
    }
   },
   "outputs": [
    {
     "name": "stdout",
     "output_type": "stream",
     "text": [
      "\n",
      "<DEBUG> [15:18:52] cl-user 9D84D656CA94403AFFFA47669E77A8FA-298556526.lisp (withdtaw bank-account) - method withdtaw ((account bank-account) amount) called.\n",
      "\n",
      "10 \n",
      "<DEBUG> [15:18:52] cl-user 9D84D656CA94403AFFFA47669E77A8FA-298556526.lisp (withdtaw) - method withdtaw ((account (eql *account-of-bank-president*)) amount) called.\n",
      "\n",
      "<DEBUG> [15:18:52] cl-user 9D84D656CA94403AFFFA47669E77A8FA-298556526.lisp (withdtaw bank-account) - method withdtaw ((account bank-account) amount) called.\n"
     ]
    },
    {
     "data": {
      "text/plain": [
       "999800"
      ]
     },
     "execution_count": 13,
     "metadata": {},
     "output_type": "execute_result"
    },
    {
     "name": "stdout",
     "output_type": "stream",
     "text": [
      "\n",
      "999800 "
     ]
    }
   ],
   "source": [
    "(let ((account (make-instance 'bank-account :customer-name \"John Doe\" :balance 10)))\n",
    "  ; (withdtaw account 100)\n",
    "  (handler-case (withdtaw account 100)\n",
    "    (error nil))\n",
    "  (print (slot-value account 'balance))\n",
    "  \n",
    "  (withdtaw *account-of-bank-president* 100)\n",
    "  (print (slot-value *account-of-bank-president* 'balance)))\n"
   ]
  },
  {
   "cell_type": "markdown",
   "metadata": {},
   "source": [
    "## Method Combinations"
   ]
  },
  {
   "cell_type": "code",
   "execution_count": 14,
   "metadata": {
    "vscode": {
     "languageId": "commonlisp"
    }
   },
   "outputs": [
    {
     "data": {
      "text/plain": [
       "#<STANDARD-CLASS COMMON-LISP-USER::JOB>"
      ]
     },
     "execution_count": 14,
     "metadata": {},
     "output_type": "execute_result"
    },
    {
     "data": {
      "text/plain": [
       "#<STANDARD-CLASS COMMON-LISP-USER::EXPRESS-JOB>"
      ]
     },
     "execution_count": 14,
     "metadata": {},
     "output_type": "execute_result"
    },
    {
     "data": {
      "text/plain": [
       "#<STANDARD-GENERIC-FUNCTION COMMON-LISP-USER::PRIORITY (0)>"
      ]
     },
     "execution_count": 14,
     "metadata": {},
     "output_type": "execute_result"
    },
    {
     "data": {
      "text/plain": [
       "#<STANDARD-METHOD COMMON-LISP-USER::PRIORITY + (JOB) {1104EB33C3}>"
      ]
     },
     "execution_count": 14,
     "metadata": {},
     "output_type": "execute_result"
    },
    {
     "data": {
      "text/plain": [
       "#<STANDARD-METHOD COMMON-LISP-USER::PRIORITY + (EXPRESS-JOB) {1104F54453}>"
      ]
     },
     "execution_count": 14,
     "metadata": {},
     "output_type": "execute_result"
    },
    {
     "name": "stdout",
     "output_type": "stream",
     "text": [
      "\n",
      "<DEBUG> [15:18:52] cl-user 9D84D656CA94403AFFFA47669E77A8FA-666282863.lisp (priority + job) - priority + ((j job))\n",
      "\n",
      "<DEBUG> [15:18:52] cl-user 9D84D656CA94403AFFFA47669E77A8FA-666282863.lisp (priority + express-job) - priority + ((job express-job))\n"
     ]
    },
    {
     "data": {
      "text/plain": [
       "13"
      ]
     },
     "execution_count": 14,
     "metadata": {},
     "output_type": "execute_result"
    }
   ],
   "source": [
    "(defclass job ()\n",
    "  ())\n",
    "(defclass express-job (job)\n",
    "  ())\n",
    "\n",
    "(defgeneric priority (job)\n",
    "  (:documentation \"Return the priority at which the job should be run.\")\n",
    "  (:method-combination + :most-specific-last))\n",
    "\n",
    "(defmethod priority + ((j job)) \n",
    "  (log:debug \"priority + ((j job))\")\n",
    "  3)\n",
    "(defmethod priority + ((job express-job)) \n",
    "  (log:debug \"priority + ((job express-job))\")\n",
    "  10)\n",
    "\n",
    "(let ((ej (make-instance 'express-job)))\n",
    "  (priority ej))"
   ]
  },
  {
   "cell_type": "markdown",
   "metadata": {},
   "source": [
    "# Examples in ANSI CL"
   ]
  },
  {
   "cell_type": "markdown",
   "metadata": {},
   "source": [
    "## Object-Oriented Programming"
   ]
  },
  {
   "cell_type": "code",
   "execution_count": 15,
   "metadata": {
    "vscode": {
     "languageId": "commonlisp"
    }
   },
   "outputs": [
    {
     "data": {
      "text/plain": [
       "RECTANGLE"
      ]
     },
     "execution_count": 15,
     "metadata": {},
     "output_type": "execute_result"
    },
    {
     "data": {
      "text/plain": [
       "CIRCLE"
      ]
     },
     "execution_count": 15,
     "metadata": {},
     "output_type": "execute_result"
    },
    {
     "data": {
      "text/plain": [
       "AREA"
      ]
     },
     "execution_count": 15,
     "metadata": {},
     "output_type": "execute_result"
    },
    {
     "data": {
      "text/plain": [
       "6"
      ]
     },
     "execution_count": 15,
     "metadata": {},
     "output_type": "execute_result"
    }
   ],
   "source": [
    "; area with structures and a function\n",
    "(defstruct rectangle\n",
    "  height\n",
    "  width)\n",
    "\n",
    "(defstruct circle\n",
    "  radius)\n",
    "\n",
    "(defun area (x)\n",
    "  ;; according to the type, behave differently\n",
    "  (cond ((rectangle-p x)\n",
    "          (* (rectangle-height x) (rectangle-width x)))\n",
    "        ((circle-p x)\n",
    "          (* pi (expt (circle-radius x) 2)))))\n",
    "\n",
    "(let ((r (make-rectangle)))\n",
    "  (setf (rectangle-height r) 2\n",
    "    (rectangle-width r) 3)\n",
    "  (area r))"
   ]
  },
  {
   "cell_type": "code",
   "execution_count": 16,
   "metadata": {
    "vscode": {
     "languageId": "commonlisp"
    }
   },
   "outputs": [
    {
     "data": {
      "text/plain": [
       "#<STANDARD-CLASS COMMON-LISP-USER::RECTANGLE-C>"
      ]
     },
     "execution_count": 16,
     "metadata": {},
     "output_type": "execute_result"
    },
    {
     "data": {
      "text/plain": [
       "#<STANDARD-CLASS COMMON-LISP-USER::CIRCLE-C>"
      ]
     },
     "execution_count": 16,
     "metadata": {},
     "output_type": "execute_result"
    },
    {
     "data": {
      "text/plain": [
       "#<STANDARD-METHOD COMMON-LISP-USER::AREA-M (RECTANGLE-C) {1101E230A3}>"
      ]
     },
     "execution_count": 16,
     "metadata": {},
     "output_type": "execute_result"
    },
    {
     "data": {
      "text/plain": [
       "#<STANDARD-METHOD COMMON-LISP-USER::AREA-M (CIRCLE-C) {1101F09F23}>"
      ]
     },
     "execution_count": 16,
     "metadata": {},
     "output_type": "execute_result"
    },
    {
     "data": {
      "text/plain": [
       "6"
      ]
     },
     "execution_count": 16,
     "metadata": {},
     "output_type": "execute_result"
    }
   ],
   "source": [
    "; use CLOS\n",
    "(defclass rectangle-c ()\n",
    "    (height width))\n",
    "\n",
    "(defclass circle-c ()\n",
    "    (radius))\n",
    "\n",
    ";; behavior in methods\n",
    "\n",
    "(defmethod area-m ((x rectangle-c))\n",
    "  (* (slot-value x 'height) (slot-value x 'width)))\n",
    "\n",
    "(defmethod area-m ((x circle-c))\n",
    "  (* pi (expt (slot-value x 'radius) 2)))\n",
    "\n",
    "(let ((r (make-instance 'rectangle-c)))\n",
    "  (setf (slot-value r 'height) 2\n",
    "    (slot-value r 'width) 3)\n",
    "  (area-m r))"
   ]
  },
  {
   "cell_type": "code",
   "execution_count": 17,
   "metadata": {
    "vscode": {
     "languageId": "commonlisp"
    }
   },
   "outputs": [
    {
     "data": {
      "text/plain": [
       "#<STANDARD-CLASS COMMON-LISP-USER::COLORED>"
      ]
     },
     "execution_count": 17,
     "metadata": {},
     "output_type": "execute_result"
    },
    {
     "data": {
      "text/plain": [
       "#<STANDARD-CLASS COMMON-LISP-USER::COLORED-CIRCLE>"
      ]
     },
     "execution_count": 17,
     "metadata": {},
     "output_type": "execute_result"
    }
   ],
   "source": [
    "(defclass colored ()\n",
    "    (color))\n",
    "\n",
    "; inheritance\n",
    "(defclass colored-circle (circle-c colored)\n",
    "    ())"
   ]
  },
  {
   "cell_type": "markdown",
   "metadata": {},
   "source": [
    "## Classes and Intances"
   ]
  },
  {
   "cell_type": "code",
   "execution_count": 18,
   "metadata": {
    "vscode": {
     "languageId": "commonlisp"
    }
   },
   "outputs": [
    {
     "data": {
      "text/plain": [
       "#<STANDARD-CLASS COMMON-LISP-USER::CIRCLE2>"
      ]
     },
     "execution_count": 18,
     "metadata": {},
     "output_type": "execute_result"
    },
    {
     "data": {
      "text/plain": [
       "#<CIRCLE2 {11020D5B63}>"
      ]
     },
     "execution_count": 18,
     "metadata": {},
     "output_type": "execute_result"
    },
    {
     "data": {
      "text/plain": [
       "1"
      ]
     },
     "execution_count": 18,
     "metadata": {},
     "output_type": "execute_result"
    },
    {
     "name": "stdout",
     "output_type": "stream",
     "text": [
      "SIMPLE-WARNING: undefined variable: COMMON-LISP-USER::C\n",
      "SIMPLE-WARNING: undefined variable: COMMON-LISP-USER::C\n"
     ]
    }
   ],
   "source": [
    "(defclass circle2 ()\n",
    "    (radius center))\n",
    "\n",
    "; make-instance\n",
    "(setf c (make-instance 'circle2))\n",
    "; slot-value\n",
    "(setf (slot-value c 'radius) 1)"
   ]
  },
  {
   "cell_type": "markdown",
   "metadata": {},
   "source": [
    "## Slot Properties"
   ]
  },
  {
   "cell_type": "code",
   "execution_count": 19,
   "metadata": {
    "vscode": {
     "languageId": "commonlisp"
    }
   },
   "outputs": [
    {
     "data": {
      "text/plain": [
       "#<STANDARD-CLASS COMMON-LISP-USER::CIRCLE2>"
      ]
     },
     "execution_count": 19,
     "metadata": {},
     "output_type": "execute_result"
    },
    {
     "data": {
      "text/plain": [
       "#<CIRCLE2 {11021D8103}>"
      ]
     },
     "execution_count": 19,
     "metadata": {},
     "output_type": "execute_result"
    },
    {
     "data": {
      "text/plain": [
       "1"
      ]
     },
     "execution_count": 19,
     "metadata": {},
     "output_type": "execute_result"
    },
    {
     "data": {
      "text/plain": [
       "1"
      ]
     },
     "execution_count": 19,
     "metadata": {},
     "output_type": "execute_result"
    },
    {
     "name": "stdout",
     "output_type": "stream",
     "text": [
      "SIMPLE-WARNING: undefined variable: COMMON-LISP-USER::C\n",
      "SIMPLE-WARNING: undefined variable: COMMON-LISP-USER::C\n",
      "SIMPLE-WARNING: undefined variable: COMMON-LISP-USER::C\n"
     ]
    }
   ],
   "source": [
    "; :accessor\n",
    "; :writer, :reader\n",
    "(defclass circle2 ()\n",
    "    ((radius :accessor circle2-radius)\n",
    "     (center :accessor circle2-center)))\n",
    "\n",
    "(setf c (make-instance 'circle2))\n",
    "(setf (circle2-radius c) 1)\n",
    "(circle2-radius c)"
   ]
  },
  {
   "cell_type": "code",
   "execution_count": 20,
   "metadata": {
    "vscode": {
     "languageId": "commonlisp"
    }
   },
   "outputs": [
    {
     "data": {
      "text/plain": [
       "#<STANDARD-CLASS COMMON-LISP-USER::CIRCLE2>"
      ]
     },
     "execution_count": 20,
     "metadata": {},
     "output_type": "execute_result"
    },
    {
     "data": {
      "text/plain": [
       "#<CIRCLE2 {11022D18D3}>"
      ]
     },
     "execution_count": 20,
     "metadata": {},
     "output_type": "execute_result"
    },
    {
     "data": {
      "text/plain": [
       "3"
      ]
     },
     "execution_count": 20,
     "metadata": {},
     "output_type": "execute_result"
    },
    {
     "data": {
      "text/plain": [
       "(0 . 0)"
      ]
     },
     "execution_count": 20,
     "metadata": {},
     "output_type": "execute_result"
    },
    {
     "name": "stdout",
     "output_type": "stream",
     "text": [
      "SIMPLE-WARNING: undefined variable: COMMON-LISP-USER::C\n",
      "SIMPLE-WARNING: undefined variable: COMMON-LISP-USER::C\n",
      "SIMPLE-WARNING: undefined variable: COMMON-LISP-USER::C\n"
     ]
    }
   ],
   "source": [
    "; :initform, :initarg\n",
    "(defclass circle2 ()\n",
    "    ((radius :accessor circle2-radius\n",
    "             :initarg :radius\n",
    "             :initform 1)\n",
    "     (center :accessor circle2-center\n",
    "             :initarg :center\n",
    "             :initform (cons 0 0))))\n",
    "\n",
    "(setf c (make-instance 'circle2 :radius 3))\n",
    "(circle2-radius c)\n",
    "(circle2-center c)"
   ]
  },
  {
   "cell_type": "code",
   "execution_count": 21,
   "metadata": {
    "vscode": {
     "languageId": "commonlisp"
    }
   },
   "outputs": [
    {
     "data": {
      "text/plain": [
       "#<STANDARD-CLASS COMMON-LISP-USER::TABLOID>"
      ]
     },
     "execution_count": 21,
     "metadata": {},
     "output_type": "execute_result"
    },
    {
     "data": {
      "text/plain": [
       "#<TABLOID {11023DDFB3}>"
      ]
     },
     "execution_count": 21,
     "metadata": {},
     "output_type": "execute_result"
    },
    {
     "data": {
      "text/plain": [
       "ADULTERY-OF-SENATOR"
      ]
     },
     "execution_count": 21,
     "metadata": {},
     "output_type": "execute_result"
    },
    {
     "data": {
      "text/plain": [
       "ADULTERY-OF-SENATOR"
      ]
     },
     "execution_count": 21,
     "metadata": {},
     "output_type": "execute_result"
    },
    {
     "name": "stdout",
     "output_type": "stream",
     "text": [
      "SIMPLE-WARNING: undefined variable: COMMON-LISP-USER::DAILY-BLAB\n",
      "SIMPLE-WARNING: undefined variable: COMMON-LISP-USER::UNSOLICITED-MAIL\n",
      "SIMPLE-WARNING: undefined variable: COMMON-LISP-USER::DAILY-BLAB\n",
      "SIMPLE-WARNING: undefined variable: COMMON-LISP-USER::UNSOLICITED-MAIL\n"
     ]
    }
   ],
   "source": [
    "; :allocation :class\n",
    "; :allocation :instance - default\n",
    "(defclass tabloid ()\n",
    "    ((top-story :accessor tabloid-story\n",
    "                :allocation :class)))\n",
    "\n",
    "(setf daily-blab (make-instance 'tabloid)\n",
    "  unsolicited-mail (make-instance 'tabloid))\n",
    "(setf (tabloid-story daily-blab) 'adultery-of-senator)\n",
    "(tabloid-story unsolicited-mail)"
   ]
  },
  {
   "cell_type": "code",
   "execution_count": 22,
   "metadata": {
    "vscode": {
     "languageId": "commonlisp"
    }
   },
   "outputs": [],
   "source": [
    "; :documentation\n",
    "; :type"
   ]
  },
  {
   "cell_type": "markdown",
   "metadata": {},
   "source": [
    "## Superclasses"
   ]
  },
  {
   "cell_type": "code",
   "execution_count": 23,
   "metadata": {
    "vscode": {
     "languageId": "commonlisp"
    }
   },
   "outputs": [
    {
     "data": {
      "text/plain": [
       "#<STANDARD-CLASS COMMON-LISP-USER::GRAPHIC>"
      ]
     },
     "execution_count": 23,
     "metadata": {},
     "output_type": "execute_result"
    },
    {
     "data": {
      "text/plain": [
       "#<STANDARD-CLASS COMMON-LISP-USER::SCREEN-CIRCLE>"
      ]
     },
     "execution_count": 23,
     "metadata": {},
     "output_type": "execute_result"
    },
    {
     "data": {
      "text/plain": [
       "RED"
      ]
     },
     "execution_count": 23,
     "metadata": {},
     "output_type": "execute_result"
    },
    {
     "data": {
      "text/plain": [
       "PURPLE"
      ]
     },
     "execution_count": 23,
     "metadata": {},
     "output_type": "execute_result"
    }
   ],
   "source": [
    "(defclass graphic ()\n",
    "    ((color :accessor graphic-color :initarg :color :initform 'purple)\n",
    "     (visible :accessor graphic-visible :initarg :visible :initform t)))\n",
    "\n",
    "(defclass screen-circle (circle2 graphic)\n",
    "    ())\n",
    "\n",
    "(graphic-color (make-instance 'screen-circle :color 'red :radius 3))\n",
    "(graphic-color (make-instance 'screen-circle))\n"
   ]
  },
  {
   "cell_type": "markdown",
   "metadata": {},
   "source": [
    "## Precedence"
   ]
  },
  {
   "cell_type": "code",
   "execution_count": 24,
   "metadata": {
    "vscode": {
     "languageId": "commonlisp"
    }
   },
   "outputs": [
    {
     "data": {
      "text/plain": [
       "#<STANDARD-CLASS COMMON-LISP-USER::SCULPTURE>"
      ]
     },
     "execution_count": 24,
     "metadata": {},
     "output_type": "execute_result"
    },
    {
     "data": {
      "text/plain": [
       "#<STANDARD-CLASS COMMON-LISP-USER::STATUE>"
      ]
     },
     "execution_count": 24,
     "metadata": {},
     "output_type": "execute_result"
    },
    {
     "data": {
      "text/plain": [
       "#<STANDARD-CLASS COMMON-LISP-USER::METALWORK>"
      ]
     },
     "execution_count": 24,
     "metadata": {},
     "output_type": "execute_result"
    },
    {
     "data": {
      "text/plain": [
       "#<STANDARD-CLASS COMMON-LISP-USER::CASTING>"
      ]
     },
     "execution_count": 24,
     "metadata": {},
     "output_type": "execute_result"
    },
    {
     "data": {
      "text/plain": [
       "#<STANDARD-CLASS COMMON-LISP-USER::CAST-STATUE>"
      ]
     },
     "execution_count": 24,
     "metadata": {},
     "output_type": "execute_result"
    },
    {
     "data": {
      "text/plain": [
       "CAST-STATUE"
      ]
     },
     "execution_count": 24,
     "metadata": {},
     "output_type": "execute_result"
    },
    {
     "data": {
      "text/plain": [
       "#<STANDARD-CLASS COMMON-LISP-USER::CAST-STATUE>"
      ]
     },
     "execution_count": 24,
     "metadata": {},
     "output_type": "execute_result"
    },
    {
     "data": {
      "text/plain": [
       "CAST-STATUE"
      ]
     },
     "execution_count": 24,
     "metadata": {},
     "output_type": "execute_result"
    },
    {
     "data": {
      "text/plain": [
       "T"
      ]
     },
     "execution_count": 24,
     "metadata": {},
     "output_type": "execute_result"
    },
    {
     "data": {
      "text/plain": [
       "T"
      ]
     },
     "execution_count": 24,
     "metadata": {},
     "output_type": "execute_result"
    }
   ],
   "source": [
    "(defclass sculpture () (height width depth))\n",
    "(defclass statue (sculpture) (subject))\n",
    "(defclass metalwork () (metal-type))\n",
    "(defclass casting (metalwork) ())\n",
    "(defclass cast-statue (statue casting) ())\n",
    "\n",
    "(type-of (make-instance 'cast-statue))\n",
    "(class-of (make-instance 'cast-statue))\n",
    "(class-name (class-of (make-instance 'cast-statue)))\n",
    "\n",
    "(subtypep 'cast-statue 'statue)"
   ]
  },
  {
   "cell_type": "markdown",
   "metadata": {},
   "source": [
    "## Generic Functions"
   ]
  },
  {
   "cell_type": "code",
   "execution_count": 25,
   "metadata": {
    "vscode": {
     "languageId": "commonlisp"
    }
   },
   "outputs": [
    {
     "data": {
      "text/plain": [
       "#<STANDARD-METHOD COMMON-LISP-USER::COMBINE (T T) {11028CBE53}>"
      ]
     },
     "execution_count": 25,
     "metadata": {},
     "output_type": "execute_result"
    },
    {
     "data": {
      "text/plain": [
       "(A B)"
      ]
     },
     "execution_count": 25,
     "metadata": {},
     "output_type": "execute_result"
    },
    {
     "data": {
      "text/plain": [
       "#<STANDARD-CLASS COMMON-LISP-USER::STUFF>"
      ]
     },
     "execution_count": 25,
     "metadata": {},
     "output_type": "execute_result"
    },
    {
     "data": {
      "text/plain": [
       "#<STANDARD-CLASS COMMON-LISP-USER::ICE-CREAM>"
      ]
     },
     "execution_count": 25,
     "metadata": {},
     "output_type": "execute_result"
    },
    {
     "data": {
      "text/plain": [
       "#<STANDARD-CLASS COMMON-LISP-USER::TOPPING>"
      ]
     },
     "execution_count": 25,
     "metadata": {},
     "output_type": "execute_result"
    },
    {
     "data": {
      "text/plain": [
       "#<STANDARD-METHOD COMMON-LISP-USER::COMBINE (ICE-CREAM TOPPING) {11029AF913}>"
      ]
     },
     "execution_count": 25,
     "metadata": {},
     "output_type": "execute_result"
    },
    {
     "data": {
      "text/plain": [
       "\"FIG ice-cream with TREACLE topping.\""
      ]
     },
     "execution_count": 25,
     "metadata": {},
     "output_type": "execute_result"
    }
   ],
   "source": [
    "(defmethod combine (x y)\n",
    "  (list x y))\n",
    "\n",
    "(combine 'a 'b)\n",
    "\n",
    "(defclass stuff () ((name :accessor name :initarg :name)))\n",
    "(defclass ice-cream (stuff) ())\n",
    "(defclass topping (stuff) ())\n",
    "\n",
    "(defmethod combine ((ic ice-cream) (top topping))\n",
    "  (format nil \"~A ice-cream with ~A topping.\"\n",
    "    (name ic)\n",
    "    (name top)))\n",
    "\n",
    "(combine (make-instance 'ice-cream :name 'fig)\n",
    "         (make-instance 'topping :name 'treacle))"
   ]
  },
  {
   "cell_type": "code",
   "execution_count": 26,
   "metadata": {
    "vscode": {
     "languageId": "commonlisp"
    }
   },
   "outputs": [
    {
     "data": {
      "text/plain": [
       "(23 SKIDDOO)"
      ]
     },
     "execution_count": 26,
     "metadata": {},
     "output_type": "execute_result"
    },
    {
     "data": {
      "text/plain": [
       "#<STANDARD-METHOD COMMON-LISP-USER::COMBINE (ICE-CREAM T) {1102B87D63}>"
      ]
     },
     "execution_count": 26,
     "metadata": {},
     "output_type": "execute_result"
    },
    {
     "data": {
      "text/plain": [
       "\"GRAPE ice-cream with MARSHMALLOW topping.\""
      ]
     },
     "execution_count": 26,
     "metadata": {},
     "output_type": "execute_result"
    },
    {
     "data": {
      "text/plain": [
       "\"CLAM ice-cream with RELUCTANCE.\""
      ]
     },
     "execution_count": 26,
     "metadata": {},
     "output_type": "execute_result"
    }
   ],
   "source": [
    "(combine 23 'skiddoo)\n",
    "\n",
    "(defmethod combine ((ic ice-cream) x)\n",
    "  (format nil \"~A ice-cream with ~A.\"\n",
    "    (name ic)\n",
    "    x))\n",
    "\n",
    "(combine (make-instance 'ice-cream :name 'grape)\n",
    "         (make-instance 'topping :name 'marshmallow))\n",
    "\n",
    "(combine (make-instance 'ice-cream :name 'clam)\n",
    "         'reluctance)"
   ]
  },
  {
   "cell_type": "code",
   "execution_count": 27,
   "metadata": {
    "vscode": {
     "languageId": "commonlisp"
    }
   },
   "outputs": [
    {
     "data": {
      "text/plain": [
       "#<STANDARD-METHOD COMMON-LISP-USER::COMBINE (NUMBER NUMBER) {1102D960D3}>"
      ]
     },
     "execution_count": 27,
     "metadata": {},
     "output_type": "execute_result"
    },
    {
     "data": {
      "text/plain": [
       "#<STANDARD-METHOD COMMON-LISP-USER::COMBINE ((EQL POWDER) (EQL SPARK)) {1102DF9DC3}>"
      ]
     },
     "execution_count": 27,
     "metadata": {},
     "output_type": "execute_result"
    },
    {
     "data": {
      "text/plain": [
       "#<STANDARD-METHOD COMMON-LISP-USER::COMBINE ((EQL POWDER) (EQL SPARK)) {1102EB6483}>"
      ]
     },
     "execution_count": 27,
     "metadata": {},
     "output_type": "execute_result"
    },
    {
     "name": "stdout",
     "output_type": "stream",
     "text": [
      "SB-KERNEL:REDEFINITION-WITH-DEFMETHOD: redefining COMBINE (#<SB-MOP:EQL-SPECIALIZER POWDER> #<SB-MOP:EQL-SPECIALIZER SPARK>) in DEFMETHOD\n"
     ]
    }
   ],
   "source": [
    "(defmethod combine ((x number) (y number))\n",
    "  (+ x y))\n",
    "\n",
    "(defmethod combine ((x (eql 'powder)) (y (eql 'spark)))\n",
    "  'boom)\n",
    "; redefine\n",
    "(defmethod combine ((x (eql 'powder)) (y (eql 'spark)))\n",
    "  'kaboom)"
   ]
  },
  {
   "cell_type": "markdown",
   "metadata": {},
   "source": [
    "## Auxiliary Methods"
   ]
  },
  {
   "cell_type": "code",
   "execution_count": 34,
   "metadata": {
    "vscode": {
     "languageId": "commonlisp"
    }
   },
   "outputs": [
    {
     "data": {
      "text/plain": [
       "#<STANDARD-CLASS COMMON-LISP-USER::SPEAKER>"
      ]
     },
     "execution_count": 34,
     "metadata": {},
     "output_type": "execute_result"
    },
    {
     "data": {
      "text/plain": [
       "#<STANDARD-METHOD COMMON-LISP-USER::SPEAK (SPEAKER T) {1103ADF583}>"
      ]
     },
     "execution_count": 34,
     "metadata": {},
     "output_type": "execute_result"
    },
    {
     "name": "stdout",
     "output_type": "stream",
     "text": [
      "SB-KERNEL:REDEFINITION-WITH-DEFMETHOD: redefining SPEAK (#<STANDARD-CLASS COMMON-LISP-USER::SPEAKER>\n",
      " #<SB-PCL:SYSTEM-CLASS COMMON-LISP:T>) in DEFMETHOD\n",
      "\n",
      "<DEBUG> [15:21:25] cl-user 9D84D656CA94403AFFFA47669E77A8FA-1947697567.lisp (speak speaker) - I'm hungry\n"
     ]
    },
    {
     "data": {
      "text/plain": [
       "#<STANDARD-CLASS COMMON-LISP-USER::INTELLECTUAL>"
      ]
     },
     "execution_count": 34,
     "metadata": {},
     "output_type": "execute_result"
    },
    {
     "data": {
      "text/plain": [
       "#<STANDARD-METHOD COMMON-LISP-USER::SPEAK :BEFORE (INTELLECTUAL T) {1103C63CA3}>"
      ]
     },
     "execution_count": 34,
     "metadata": {},
     "output_type": "execute_result"
    },
    {
     "data": {
      "text/plain": [
       "#<STANDARD-METHOD COMMON-LISP-USER::SPEAK :AFTER (INTELLECTUAL T) {1103CE5C93}>"
      ]
     },
     "execution_count": 34,
     "metadata": {},
     "output_type": "execute_result"
    },
    {
     "name": "stdout",
     "output_type": "stream",
     "text": [
      "SB-KERNEL:REDEFINITION-WITH-DEFMETHOD: redefining SPEAK :BEFORE (#<STANDARD-CLASS COMMON-LISP-USER::INTELLECTUAL>\n",
      " #<SB-PCL:SYSTEM-CLASS COMMON-LISP:T>) in DEFMETHOD\n",
      "SB-KERNEL:REDEFINITION-WITH-DEFMETHOD: redefining SPEAK :AFTER (#<STANDARD-CLASS COMMON-LISP-USER::INTELLECTUAL>\n",
      " #<SB-PCL:SYSTEM-CLASS COMMON-LISP:T>) in DEFMETHOD\n",
      "\n",
      "<DEBUG> [15:21:25] cl-user 9D84D656CA94403AFFFA47669E77A8FA-1947697567.lisp (speak :before intellectual) - Perhaps \n",
      "\n",
      "<DEBUG> [15:21:25] cl-user 9D84D656CA94403AFFFA47669E77A8FA-1947697567.lisp (speak speaker) - I'm hungry\n",
      "\n",
      "<DEBUG> [15:21:25] cl-user 9D84D656CA94403AFFFA47669E77A8FA-1947697567.lisp (speak :after intellectual) -  in some sense\n"
     ]
    }
   ],
   "source": [
    "(defclass speaker () ())\n",
    "(defmethod speak ((s speaker) string)\n",
    "  (log:debug \"~A\" string))\n",
    "\n",
    "(speak (make-instance 'speaker) \"I'm hungry\")\n",
    "\n",
    "; :before\n",
    "; :after\n",
    "(defclass intellectual (speaker) ())\n",
    "(defmethod speak :before ((i intellectual) string)\n",
    "  (log:debug \"Perhaps \"))\n",
    "(defmethod speak :after ((i intellectual) string)\n",
    "  (log:debug \" in some sense\"))\n",
    "(speak (make-instance 'intellectual) \"I'm hungry\")"
   ]
  },
  {
   "cell_type": "code",
   "execution_count": 29,
   "metadata": {
    "vscode": {
     "languageId": "commonlisp"
    }
   },
   "outputs": [
    {
     "data": {
      "text/plain": [
       "#<STANDARD-CLASS COMMON-LISP-USER::COURTIER>"
      ]
     },
     "execution_count": 29,
     "metadata": {},
     "output_type": "execute_result"
    },
    {
     "data": {
      "text/plain": [
       "#<STANDARD-METHOD COMMON-LISP-USER::SPEAK :AROUND (COURTIER T) {110331DA03}>"
      ]
     },
     "execution_count": 29,
     "metadata": {},
     "output_type": "execute_result"
    },
    {
     "name": "stdout",
     "output_type": "stream",
     "text": [
      "Does the King believe that kings will last? "
     ]
    },
    {
     "data": {
      "text/plain": [
       "BOW"
      ]
     },
     "execution_count": 29,
     "metadata": {},
     "output_type": "execute_result"
    },
    {
     "name": "stdout",
     "output_type": "stream",
     "text": [
      "kings will last"
     ]
    }
   ],
   "source": [
    "; :around\n",
    "; next-method-p\n",
    "; call-next-method\n",
    "(defclass courtier (speaker) ())\n",
    "\n",
    "(defmethod speak :around ((c courtier) string)\n",
    "  (format t \"Does the King believe that ~A? \" string)\n",
    "  (if (eql (read) 'yes)\n",
    "      (if (next-method-p) (call-next-method))\n",
    "      (format t \"Indeed, it is a preposterous idea.~%\"))\n",
    "  'bow)\n",
    "\n",
    "(speak (make-instance 'courtier) \"kings will last\") ; input: yes"
   ]
  },
  {
   "cell_type": "code",
   "execution_count": 30,
   "metadata": {
    "vscode": {
     "languageId": "commonlisp"
    }
   },
   "outputs": [
    {
     "name": "stdout",
     "output_type": "stream",
     "text": [
      "Does the King believe that the world is round? "
     ]
    },
    {
     "data": {
      "text/plain": [
       "BOW"
      ]
     },
     "execution_count": 30,
     "metadata": {},
     "output_type": "execute_result"
    },
    {
     "name": "stdout",
     "output_type": "stream",
     "text": [
      "Indeed, it is a preposterous idea.\n"
     ]
    }
   ],
   "source": [
    "(speak (make-instance 'courtier) \"the world is round\") ; input: no"
   ]
  },
  {
   "cell_type": "markdown",
   "metadata": {},
   "source": [
    "## Method Combination"
   ]
  },
  {
   "cell_type": "code",
   "execution_count": 31,
   "metadata": {
    "vscode": {
     "languageId": "commonlisp"
    }
   },
   "outputs": [
    {
     "data": {
      "text/plain": [
       "#<STANDARD-GENERIC-FUNCTION COMMON-LISP-USER::PRICE (0)>"
      ]
     },
     "execution_count": 31,
     "metadata": {},
     "output_type": "execute_result"
    },
    {
     "data": {
      "text/plain": [
       "#<STANDARD-CLASS COMMON-LISP-USER::JACKET>"
      ]
     },
     "execution_count": 31,
     "metadata": {},
     "output_type": "execute_result"
    },
    {
     "data": {
      "text/plain": [
       "#<STANDARD-CLASS COMMON-LISP-USER::TROUSERS>"
      ]
     },
     "execution_count": 31,
     "metadata": {},
     "output_type": "execute_result"
    },
    {
     "data": {
      "text/plain": [
       "#<STANDARD-CLASS COMMON-LISP-USER::SUIT>"
      ]
     },
     "execution_count": 31,
     "metadata": {},
     "output_type": "execute_result"
    },
    {
     "data": {
      "text/plain": [
       "#<STANDARD-METHOD COMMON-LISP-USER::PRICE + (JACKET) {1103568423}>"
      ]
     },
     "execution_count": 31,
     "metadata": {},
     "output_type": "execute_result"
    },
    {
     "data": {
      "text/plain": [
       "#<STANDARD-METHOD COMMON-LISP-USER::PRICE + (TROUSERS) {110356C353}>"
      ]
     },
     "execution_count": 31,
     "metadata": {},
     "output_type": "execute_result"
    },
    {
     "data": {
      "text/plain": [
       "550"
      ]
     },
     "execution_count": 31,
     "metadata": {},
     "output_type": "execute_result"
    }
   ],
   "source": [
    "; standard method combination\n",
    "\n",
    "; operator method combination\n",
    "; +, and, append, list, max, min, nconc, or, progn\n",
    "(defgeneric price (x)\n",
    "  (:method-combination +))\n",
    "\n",
    "(defclass jacket () ())\n",
    "(defclass trousers () ())\n",
    "(defclass suit (jacket trousers) ())\n",
    "\n",
    "(defmethod price + ((jk jacket)) 350)\n",
    "(defmethod price + ((tr trousers)) 200)\n",
    "\n",
    "(price (make-instance 'suit))"
   ]
  },
  {
   "cell_type": "markdown",
   "metadata": {},
   "source": [
    "## Encapsulation"
   ]
  },
  {
   "cell_type": "code",
   "execution_count": 32,
   "metadata": {
    "vscode": {
     "languageId": "commonlisp"
    }
   },
   "outputs": [
    {
     "data": {
      "text/plain": [
       "#<PACKAGE \"CTR\">"
      ]
     },
     "execution_count": 32,
     "metadata": {},
     "output_type": "execute_result"
    },
    {
     "data": {
      "text/plain": [
       "#<PACKAGE \"CTR\">"
      ]
     },
     "execution_count": 32,
     "metadata": {},
     "output_type": "execute_result"
    },
    {
     "data": {
      "text/plain": [
       "#<STANDARD-CLASS CTR:COUNTER>"
      ]
     },
     "execution_count": 32,
     "metadata": {},
     "output_type": "execute_result"
    },
    {
     "data": {
      "text/plain": [
       "#<STANDARD-METHOD CTR:INCREMENT (COUNTER) {1103810683}>"
      ]
     },
     "execution_count": 32,
     "metadata": {},
     "output_type": "execute_result"
    },
    {
     "data": {
      "text/plain": [
       "#<STANDARD-METHOD CTR:GET-STATE (COUNTER) {1103877BC3}>"
      ]
     },
     "execution_count": 32,
     "metadata": {},
     "output_type": "execute_result"
    },
    {
     "data": {
      "text/plain": [
       "#<STANDARD-METHOD CTR:CLEAR (COUNTER) {11038DF7D3}>"
      ]
     },
     "execution_count": 32,
     "metadata": {},
     "output_type": "execute_result"
    },
    {
     "data": {
      "text/plain": [
       "0"
      ]
     },
     "execution_count": 32,
     "metadata": {},
     "output_type": "execute_result"
    }
   ],
   "source": [
    "(defpackage \"CTR\"\n",
    "  (:use \"COMMON-LISP\")\n",
    "  (:export \"COUNTER\" \"INCREMENT\" \"CLEAR\" \"GET-STATE\"))\n",
    "(in-package ctr)\n",
    "\n",
    "(defclass counter () ((state :initform 0)))\n",
    "(defmethod increment ((c counter))\n",
    "  (incf (slot-value c 'state)))\n",
    "(defmethod get-state ((c counter))\n",
    "  (slot-value c 'state))\n",
    "(defmethod clear ((c counter))\n",
    "  (setf (slot-value c 'state) 0))\n",
    "\n",
    "(let ((c (make-instance 'counter)))\n",
    "  (slot-value c 'state))"
   ]
  },
  {
   "cell_type": "code",
   "execution_count": null,
   "metadata": {
    "vscode": {
     "languageId": "commonlisp"
    }
   },
   "outputs": [
    {
     "data": {
      "text/plain": [
       "#<PACKAGE \"COMMON-LISP-USER\">"
      ]
     },
     "execution_count": 33,
     "metadata": {},
     "output_type": "execute_result"
    },
    {
     "data": {
      "text/plain": [
       "0"
      ]
     },
     "execution_count": 33,
     "metadata": {},
     "output_type": "execute_result"
    },
    {
     "name": "stdout",
     "output_type": "stream",
     "text": [
      "\n",
      "0 \n",
      "1 \n",
      "0 "
     ]
    }
   ],
   "source": [
    "; *package*\n",
    "(in-package :cl-user)\n",
    "\n",
    "(let ((c (make-instance 'ctr:counter)))\n",
    "  ; (print (slot-value c 'state)) ; missing slot\n",
    "  (log:debug (ctr:get-state c))\n",
    "  (ctr:increment c)\n",
    "  (log:debug (ctr:get-state c))\n",
    "  (ctr:clear c)\n",
    "  (log:debug (ctr:get-state c)))"
   ]
  }
 ],
 "metadata": {
  "kernelspec": {
   "display_name": "Common Lisp",
   "language": "common-lisp",
   "name": "common-lisp"
  },
  "language_info": {
   "codemirror_mode": "text/x-common-lisp",
   "file_extension": ".lisp",
   "mimetype": "text/x-common-lisp",
   "name": "common-lisp",
   "pygments_lexer": "common-lisp",
   "version": "2.4.10"
  }
 },
 "nbformat": 4,
 "nbformat_minor": 2
}
