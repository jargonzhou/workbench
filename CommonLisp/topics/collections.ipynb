{
 "cells": [
  {
   "cell_type": "markdown",
   "metadata": {
    "vscode": {
     "languageId": "plaintext"
    }
   },
   "source": [
    "# Collections\n",
    "integer-indexed array type:\n",
    "* arrays\n",
    "* lists\n",
    "* tuples\n",
    "\n",
    "table type:\n",
    "* hash tables\n",
    "* associative arrays\n",
    "* maps\n",
    "* dictionaries\n",
    "\n",
    "## Examples\n",
    "* Practical Common Lisp"
   ]
  },
  {
   "cell_type": "markdown",
   "metadata": {},
   "source": [
    "# conses"
   ]
  },
  {
   "cell_type": "markdown",
   "metadata": {},
   "source": [
    "### construtions"
   ]
  },
  {
   "cell_type": "code",
   "execution_count": 3,
   "metadata": {
    "vscode": {
     "languageId": "commonlisp"
    }
   },
   "outputs": [
    {
     "data": {
      "text/plain": [
       "(1 . 2)"
      ]
     },
     "execution_count": 3,
     "metadata": {},
     "output_type": "execute_result"
    },
    {
     "data": {
      "text/plain": [
       "1"
      ]
     },
     "execution_count": 3,
     "metadata": {},
     "output_type": "execute_result"
    },
    {
     "data": {
      "text/plain": [
       "2"
      ]
     },
     "execution_count": 3,
     "metadata": {},
     "output_type": "execute_result"
    },
    {
     "data": {
      "text/plain": [
       "*CONS*"
      ]
     },
     "execution_count": 3,
     "metadata": {},
     "output_type": "execute_result"
    },
    {
     "data": {
      "text/plain": [
       "(1 . 2)"
      ]
     },
     "execution_count": 3,
     "metadata": {},
     "output_type": "execute_result"
    },
    {
     "data": {
      "text/plain": [
       "10"
      ]
     },
     "execution_count": 3,
     "metadata": {},
     "output_type": "execute_result"
    },
    {
     "data": {
      "text/plain": [
       "(10 . 2)"
      ]
     },
     "execution_count": 3,
     "metadata": {},
     "output_type": "execute_result"
    },
    {
     "data": {
      "text/plain": [
       "20"
      ]
     },
     "execution_count": 3,
     "metadata": {},
     "output_type": "execute_result"
    },
    {
     "data": {
      "text/plain": [
       "(10 . 20)"
      ]
     },
     "execution_count": 3,
     "metadata": {},
     "output_type": "execute_result"
    }
   ],
   "source": [
    "; 点对单元(cons cells)\n",
    "; cons: construct\n",
    "; car, cdr\n",
    "(cons 1 2)\n",
    "(car (cons 1 2))\n",
    "(cdr (cons 1 2))\n",
    "\n",
    "(defparameter *cons* (cons 1 2))\n",
    "*cons*\n",
    "(setf (car *cons*) 10)\n",
    "*cons*\n",
    "(setf (cdr *cons*) 20)\n",
    "*cons*"
   ]
  },
  {
   "cell_type": "code",
   "execution_count": 4,
   "metadata": {
    "vscode": {
     "languageId": "commonlisp"
    }
   },
   "outputs": [
    {
     "data": {
      "text/plain": [
       "(1)"
      ]
     },
     "execution_count": 4,
     "metadata": {},
     "output_type": "execute_result"
    },
    {
     "data": {
      "text/plain": [
       "(1 2)"
      ]
     },
     "execution_count": 4,
     "metadata": {},
     "output_type": "execute_result"
    },
    {
     "data": {
      "text/plain": [
       "(1 2 3)"
      ]
     },
     "execution_count": 4,
     "metadata": {},
     "output_type": "execute_result"
    }
   ],
   "source": [
    "; singly linked list\n",
    "(cons 1 nil)\n",
    "(cons 1 (cons 2 nil))\n",
    "(cons 1 (cons 2 (cons 3 nil)))"
   ]
  },
  {
   "cell_type": "code",
   "execution_count": 8,
   "metadata": {
    "vscode": {
     "languageId": "commonlisp"
    }
   },
   "outputs": [
    {
     "data": {
      "text/plain": [
       "(1)"
      ]
     },
     "execution_count": 8,
     "metadata": {},
     "output_type": "execute_result"
    },
    {
     "data": {
      "text/plain": [
       "(1 2)"
      ]
     },
     "execution_count": 8,
     "metadata": {},
     "output_type": "execute_result"
    },
    {
     "data": {
      "text/plain": [
       "(1 2 3)"
      ]
     },
     "execution_count": 8,
     "metadata": {},
     "output_type": "execute_result"
    },
    {
     "data": {
      "text/plain": [
       "*LIST*"
      ]
     },
     "execution_count": 8,
     "metadata": {},
     "output_type": "execute_result"
    },
    {
     "data": {
      "text/plain": [
       "1"
      ]
     },
     "execution_count": 8,
     "metadata": {},
     "output_type": "execute_result"
    },
    {
     "data": {
      "text/plain": [
       "(2 3 4)"
      ]
     },
     "execution_count": 8,
     "metadata": {},
     "output_type": "execute_result"
    },
    {
     "data": {
      "text/plain": [
       "2"
      ]
     },
     "execution_count": 8,
     "metadata": {},
     "output_type": "execute_result"
    },
    {
     "data": {
      "text/plain": [
       "(\"foo\" (1 2) 10)"
      ]
     },
     "execution_count": 8,
     "metadata": {},
     "output_type": "execute_result"
    }
   ],
   "source": [
    "; list\n",
    "; first, rest\n",
    "(list 1)\n",
    "(list 1 2)\n",
    "(list 1 2 3)\n",
    "\n",
    "(defparameter *list* (list 1 2 3 4))\n",
    "(first *list*)\n",
    "(rest *list*)\n",
    "(first (rest *list*))\n",
    "\n",
    "; hold objects of different types\n",
    "(list \"foo\" (list 1 2) 10)"
   ]
  },
  {
   "cell_type": "markdown",
   "metadata": {},
   "source": [
    "### manipulations"
   ]
  },
  {
   "cell_type": "code",
   "execution_count": null,
   "metadata": {
    "vscode": {
     "languageId": "commonlisp"
    }
   },
   "outputs": [
    {
     "data": {
      "text/plain": [
       "(4 3 2 1)"
      ]
     },
     "execution_count": 10,
     "metadata": {},
     "output_type": "execute_result"
    },
    {
     "data": {
      "text/plain": [
       "(1 2 3 4)"
      ]
     },
     "execution_count": 10,
     "metadata": {},
     "output_type": "execute_result"
    }
   ],
   "source": [
    "; reverse\n",
    "(reverse (list 1 2 3 4))\n",
    "; append: share structure\n",
    "(append (list 1 2) (list 3 4))"
   ]
  },
  {
   "cell_type": "code",
   "execution_count": 11,
   "metadata": {
    "vscode": {
     "languageId": "commonlisp"
    }
   },
   "outputs": [
    {
     "data": {
      "text/plain": [
       "*LIST-1*"
      ]
     },
     "execution_count": 11,
     "metadata": {},
     "output_type": "execute_result"
    },
    {
     "data": {
      "text/plain": [
       "*LIST-2*"
      ]
     },
     "execution_count": 11,
     "metadata": {},
     "output_type": "execute_result"
    },
    {
     "data": {
      "text/plain": [
       "*LIST-3*"
      ]
     },
     "execution_count": 11,
     "metadata": {},
     "output_type": "execute_result"
    },
    {
     "data": {
      "text/plain": [
       "(1 2)"
      ]
     },
     "execution_count": 11,
     "metadata": {},
     "output_type": "execute_result"
    },
    {
     "data": {
      "text/plain": [
       "(3 4)"
      ]
     },
     "execution_count": 11,
     "metadata": {},
     "output_type": "execute_result"
    },
    {
     "data": {
      "text/plain": [
       "(1 2 3 4)"
      ]
     },
     "execution_count": 11,
     "metadata": {},
     "output_type": "execute_result"
    }
   ],
   "source": [
    "; destructive operations\n",
    "(defparameter *list-1* (list 1 2))\n",
    "(defparameter *list-2* (list 3 4))\n",
    "(defparameter *list-3* (append *list-1* *list-2*))\n",
    "*list-1*\n",
    "*list-2*\n",
    "*list-3*"
   ]
  },
  {
   "cell_type": "code",
   "execution_count": 12,
   "metadata": {
    "vscode": {
     "languageId": "commonlisp"
    }
   },
   "outputs": [
    {
     "data": {
      "text/plain": [
       "0"
      ]
     },
     "execution_count": 12,
     "metadata": {},
     "output_type": "execute_result"
    },
    {
     "data": {
      "text/plain": [
       "(0 4)"
      ]
     },
     "execution_count": 12,
     "metadata": {},
     "output_type": "execute_result"
    },
    {
     "data": {
      "text/plain": [
       "(1 2 0 4)"
      ]
     },
     "execution_count": 12,
     "metadata": {},
     "output_type": "execute_result"
    }
   ],
   "source": [
    "(setf (first *list-2*) 0)\n",
    "*list-2*\n",
    "*list-3* ; share structures"
   ]
  },
  {
   "cell_type": "code",
   "execution_count": 13,
   "metadata": {
    "vscode": {
     "languageId": "commonlisp"
    }
   },
   "outputs": [
    {
     "data": {
      "text/plain": [
       "*X*"
      ]
     },
     "execution_count": 13,
     "metadata": {},
     "output_type": "execute_result"
    },
    {
     "data": {
      "text/plain": [
       "(1 2 3 4 5 6)"
      ]
     },
     "execution_count": 13,
     "metadata": {},
     "output_type": "execute_result"
    },
    {
     "data": {
      "text/plain": [
       "(1 2 3 4 5 6)"
      ]
     },
     "execution_count": 13,
     "metadata": {},
     "output_type": "execute_result"
    }
   ],
   "source": [
    "; recycling operations\n",
    "; reverse, nreverse - n for non-consing\n",
    "; append, nconc\n",
    "; substitute, nsubstitute\n",
    "(defparameter *x* (list 1 2 3))\n",
    "(nconc *x* (list 4 5 6))\n",
    "*x* ; (1 2 3 4 5 6)"
   ]
  },
  {
   "cell_type": "code",
   "execution_count": 14,
   "metadata": {
    "vscode": {
     "languageId": "commonlisp"
    }
   },
   "outputs": [
    {
     "data": {
      "text/plain": [
       "UPTO"
      ]
     },
     "execution_count": 14,
     "metadata": {},
     "output_type": "execute_result"
    },
    {
     "data": {
      "text/plain": [
       "(0 1 2 3 4 5 6 7 8 9)"
      ]
     },
     "execution_count": 14,
     "metadata": {},
     "output_type": "execute_result"
    }
   ],
   "source": [
    "; recycling operations idioms 1: consing onto the front of a list, then return with nreverse\n",
    "(defun upto (max)\n",
    "  (let ((result nil))\n",
    "    (dotimes (i max)\n",
    "      (push i result))\n",
    "    (nreverse result)))\n",
    "\n",
    "(upto 10)"
   ]
  },
  {
   "cell_type": "code",
   "execution_count": null,
   "metadata": {
    "vscode": {
     "languageId": "commonlisp"
    }
   },
   "outputs": [
    {
     "data": {
      "text/plain": [
       "(1 NIL)"
      ]
     },
     "execution_count": 17,
     "metadata": {},
     "output_type": "execute_result"
    },
    {
     "data": {
      "text/plain": [
       "(1)"
      ]
     },
     "execution_count": 17,
     "metadata": {},
     "output_type": "execute_result"
    },
    {
     "data": {
      "text/plain": [
       "(0 4)"
      ]
     },
     "execution_count": 17,
     "metadata": {},
     "output_type": "execute_result"
    },
    {
     "data": {
      "text/plain": [
       "(1 2 0 4)"
      ]
     },
     "execution_count": 17,
     "metadata": {},
     "output_type": "execute_result"
    },
    {
     "data": {
      "text/plain": [
       "(1 2 0)"
      ]
     },
     "execution_count": 17,
     "metadata": {},
     "output_type": "execute_result"
    },
    {
     "data": {
      "text/plain": [
       "(0)"
      ]
     },
     "execution_count": 17,
     "metadata": {},
     "output_type": "execute_result"
    },
    {
     "data": {
      "text/plain": [
       "(1 2 0)"
      ]
     },
     "execution_count": 17,
     "metadata": {},
     "output_type": "execute_result"
    }
   ],
   "source": [
    "; recycling operations idioms 2: reassign the value\n",
    "; delete\n",
    "(list 1 nil)\n",
    "(let ((foo (list 1 nil)))\n",
    "    (setf foo (delete nil foo))\n",
    "    foo)\n",
    "\n",
    "*list-2*\n",
    "*list-3*\n",
    "(setf *list-3* (delete 4 *list-3*))\n",
    "*list-2*\n",
    "*list-3*"
   ]
  },
  {
   "cell_type": "code",
   "execution_count": 18,
   "metadata": {
    "vscode": {
     "languageId": "commonlisp"
    }
   },
   "outputs": [
    {
     "data": {
      "text/plain": [
       "*LIST*"
      ]
     },
     "execution_count": 18,
     "metadata": {},
     "output_type": "execute_result"
    },
    {
     "data": {
      "text/plain": [
       "(1 2 3 4)"
      ]
     },
     "execution_count": 18,
     "metadata": {},
     "output_type": "execute_result"
    },
    {
     "data": {
      "text/plain": [
       "(3 4)"
      ]
     },
     "execution_count": 18,
     "metadata": {},
     "output_type": "execute_result"
    }
   ],
   "source": [
    "; sort, stable-sort, merge: have nondestructive counterparts\n",
    "; copy-list: make a copy\n",
    "(defparameter *list* (list 4 3 2 1))\n",
    "(sort *list* #'<)\n",
    "*list*"
   ]
  },
  {
   "cell_type": "code",
   "execution_count": null,
   "metadata": {
    "vscode": {
     "languageId": "commonlisp"
    }
   },
   "outputs": [],
   "source": [
    "; first, second, ..., tenth\n",
    "; nthcdr\n",
    "; caar, ... - (car (car ...))\n",
    "\n",
    "; more:\n",
    "; last, butlast, nbutlast\n",
    "; ldiff, tailp\n",
    "; list*\n",
    "; make-list\n",
    "; revappend\n",
    "; nreconc\n",
    "; consp, atom, listp, null"
   ]
  },
  {
   "cell_type": "code",
   "execution_count": null,
   "metadata": {
    "vscode": {
     "languageId": "commonlisp"
    }
   },
   "outputs": [
    {
     "data": {
      "text/plain": [
       "(2 4 6)"
      ]
     },
     "execution_count": 20,
     "metadata": {},
     "output_type": "execute_result"
    },
    {
     "data": {
      "text/plain": [
       "(11 22 33)"
      ]
     },
     "execution_count": 20,
     "metadata": {},
     "output_type": "execute_result"
    }
   ],
   "source": [
    "; mapping:\n",
    "; map: for lists and vectors\n",
    "; mapcar: pass the element, return new list\n",
    "; maplist: pass the cons cells, return new list\n",
    "; mapcan: splicing together the result as if by nconc\n",
    "; mapcon: splicing together the result as if by nconc\n",
    "; mapc: return first list argument, for side effects\n",
    "; mapl: return first list argument, for side effects\n",
    "\n",
    "(mapcar #'(lambda (x) (* 2 x)) (list 1 2 3))\n",
    "(mapcar #'+ (list 1 2 3) (list 10 20 30))"
   ]
  },
  {
   "cell_type": "markdown",
   "metadata": {},
   "source": [
    "## trees"
   ]
  },
  {
   "cell_type": "code",
   "execution_count": 21,
   "metadata": {
    "vscode": {
     "languageId": "commonlisp"
    }
   },
   "outputs": [
    {
     "data": {
      "text/plain": [
       "(10 2 (3 2 10) ((10 10) (2 2)))"
      ]
     },
     "execution_count": 21,
     "metadata": {},
     "output_type": "execute_result"
    }
   ],
   "source": [
    "; copy-tree\n",
    "; tree-equal\n",
    "; subst, subst-if, subst-if-not\n",
    "; nsubst, nsubst-if, nsubst-if-not\n",
    "\n",
    "(subst 10 1 '(1 2 (3 2 1) ((1 1) (2 2))))"
   ]
  },
  {
   "cell_type": "markdown",
   "metadata": {},
   "source": [
    "## sets"
   ]
  },
  {
   "cell_type": "code",
   "execution_count": 23,
   "metadata": {
    "vscode": {
     "languageId": "commonlisp"
    }
   },
   "outputs": [
    {
     "data": {
      "text/plain": [
       "*SET*"
      ]
     },
     "execution_count": 23,
     "metadata": {},
     "output_type": "execute_result"
    },
    {
     "data": {
      "text/plain": [
       "(1)"
      ]
     },
     "execution_count": 23,
     "metadata": {},
     "output_type": "execute_result"
    },
    {
     "data": {
      "text/plain": [
       "NIL"
      ]
     },
     "execution_count": 23,
     "metadata": {},
     "output_type": "execute_result"
    },
    {
     "data": {
      "text/plain": [
       "(1)"
      ]
     },
     "execution_count": 23,
     "metadata": {},
     "output_type": "execute_result"
    },
    {
     "data": {
      "text/plain": [
       "(1)"
      ]
     },
     "execution_count": 23,
     "metadata": {},
     "output_type": "execute_result"
    },
    {
     "data": {
      "text/plain": [
       "(2 1)"
      ]
     },
     "execution_count": 23,
     "metadata": {},
     "output_type": "execute_result"
    },
    {
     "data": {
      "text/plain": [
       "(2 1)"
      ]
     },
     "execution_count": 23,
     "metadata": {},
     "output_type": "execute_result"
    },
    {
     "data": {
      "text/plain": [
       "(2 1)"
      ]
     },
     "execution_count": 23,
     "metadata": {},
     "output_type": "execute_result"
    },
    {
     "data": {
      "text/plain": [
       "(2 1)"
      ]
     },
     "execution_count": 23,
     "metadata": {},
     "output_type": "execute_result"
    },
    {
     "data": {
      "text/plain": [
       "T"
      ]
     },
     "execution_count": 23,
     "metadata": {},
     "output_type": "execute_result"
    },
    {
     "data": {
      "text/plain": [
       "NIL"
      ]
     },
     "execution_count": 23,
     "metadata": {},
     "output_type": "execute_result"
    }
   ],
   "source": [
    "; adjoin\n",
    "; pushnew\n",
    "; member, member-if, member-if-not\n",
    "; intersection, union, set-difference, set-exclusive-or\n",
    "; subsetp\n",
    "\n",
    "(defparameter *set* ())\n",
    "(adjoin 1 *set*)\n",
    "*set* ; NIL\n",
    "(setf *set* (adjoin 1 *set*))\n",
    "*set*\n",
    "\n",
    "(pushnew 2 *set*)\n",
    "*set*\n",
    "(pushnew 2 *set*)\n",
    "*set*\n",
    "\n",
    "(subsetp '(3 2 1) '(1 2 3 4))\n",
    "(subsetp '(1 2 3 4) '(3 2 1))"
   ]
  },
  {
   "cell_type": "markdown",
   "metadata": {},
   "source": [
    "## alists"
   ]
  },
  {
   "cell_type": "code",
   "execution_count": 24,
   "metadata": {
    "vscode": {
     "languageId": "commonlisp"
    }
   },
   "outputs": [
    {
     "data": {
      "text/plain": [
       "((A . 1) (B . 2) (C . 3))"
      ]
     },
     "execution_count": 24,
     "metadata": {},
     "output_type": "execute_result"
    },
    {
     "data": {
      "text/plain": [
       "(A . 1)"
      ]
     },
     "execution_count": 24,
     "metadata": {},
     "output_type": "execute_result"
    },
    {
     "data": {
      "text/plain": [
       "(C . 3)"
      ]
     },
     "execution_count": 24,
     "metadata": {},
     "output_type": "execute_result"
    },
    {
     "data": {
      "text/plain": [
       "NIL"
      ]
     },
     "execution_count": 24,
     "metadata": {},
     "output_type": "execute_result"
    }
   ],
   "source": [
    "; alist: association list, a list whose elements are cons cells - dotted pairs\n",
    "; assoc, assoc-if, assoc-if-not\n",
    "; rassoc, rassoc-if, rassoc-if-not\n",
    "'((A . 1) (B . 2) (C . 3))\n",
    "(assoc 'a '((a . 1) (b . 2) (c . 3)))\n",
    "(assoc 'c '((a . 1) (b . 2) (c . 3)))\n",
    "(assoc 'd '((a . 1) (b . 2) (c . 3)))"
   ]
  },
  {
   "cell_type": "code",
   "execution_count": 26,
   "metadata": {
    "vscode": {
     "languageId": "commonlisp"
    }
   },
   "outputs": [
    {
     "data": {
      "text/plain": [
       "1"
      ]
     },
     "execution_count": 26,
     "metadata": {},
     "output_type": "execute_result"
    },
    {
     "data": {
      "text/plain": [
       "(\"a\" . 1)"
      ]
     },
     "execution_count": 26,
     "metadata": {},
     "output_type": "execute_result"
    },
    {
     "data": {
      "text/plain": [
       "NIL"
      ]
     },
     "execution_count": 26,
     "metadata": {},
     "output_type": "execute_result"
    }
   ],
   "source": [
    "(cdr (assoc 'a '((a . 1) (b . 2) (c . 3))))\n",
    "(assoc \"a\" '((\"a\" . 1) (\"b\" . 2) (\"c\" . 3)) :test #'string=) ; default EQL\n",
    "(assoc \"a\" '((\"a\" . 1) (\"b\" . 2) (\"c\" . 3)))"
   ]
  },
  {
   "cell_type": "code",
   "execution_count": 31,
   "metadata": {
    "vscode": {
     "languageId": "commonlisp"
    }
   },
   "outputs": [
    {
     "data": {
      "text/plain": [
       "(A . 10)"
      ]
     },
     "execution_count": 31,
     "metadata": {},
     "output_type": "execute_result"
    },
    {
     "data": {
      "text/plain": [
       "((NEW-KEY . NEW-VALUE))"
      ]
     },
     "execution_count": 31,
     "metadata": {},
     "output_type": "execute_result"
    },
    {
     "data": {
      "text/plain": [
       "((NEW-KEY . NEW-VALUE))"
      ]
     },
     "execution_count": 31,
     "metadata": {},
     "output_type": "execute_result"
    },
    {
     "data": {
      "text/plain": [
       "((NEW-KEY . NEW-VALUE))"
      ]
     },
     "execution_count": 31,
     "metadata": {},
     "output_type": "execute_result"
    },
    {
     "data": {
      "text/plain": [
       "((NEW-KEY . NEW-VALUE))"
      ]
     },
     "execution_count": 31,
     "metadata": {},
     "output_type": "execute_result"
    }
   ],
   "source": [
    "; assoc scan from the front of the list\n",
    "; shadow\n",
    "(assoc 'a '((a . 10) (a . 1) (b . 2) (c . 3)))\n",
    "; add: acons\n",
    "(cons (cons 'new-key 'new-value) '())\n",
    "(acons 'new-key 'new-value '())\n",
    "(let ((alist '()))\n",
    "      (setf alist (acons 'new-key 'new-value alist)))\n",
    "(let ((alist '()))\n",
    "      (push (cons 'new-key 'new-value) alist))"
   ]
  },
  {
   "cell_type": "code",
   "execution_count": 32,
   "metadata": {
    "vscode": {
     "languageId": "commonlisp"
    }
   },
   "outputs": [
    {
     "data": {
      "text/plain": [
       "((C . 3) (B . 2) (A . 1))"
      ]
     },
     "execution_count": 32,
     "metadata": {},
     "output_type": "execute_result"
    },
    {
     "data": {
      "text/plain": [
       "((C . 3) (B . 2) (A . 1))"
      ]
     },
     "execution_count": 32,
     "metadata": {},
     "output_type": "execute_result"
    }
   ],
   "source": [
    "; copy-alist\n",
    "; pairls\n",
    "(pairlis '(a b c) '(1 2 3))"
   ]
  },
  {
   "cell_type": "markdown",
   "metadata": {},
   "source": [
    "### plists"
   ]
  },
  {
   "cell_type": "code",
   "execution_count": 34,
   "metadata": {
    "vscode": {
     "languageId": "commonlisp"
    }
   },
   "outputs": [
    {
     "data": {
      "text/plain": [
       "*PLIST*"
      ]
     },
     "execution_count": 34,
     "metadata": {},
     "output_type": "execute_result"
    },
    {
     "data": {
      "text/plain": [
       "NIL"
      ]
     },
     "execution_count": 34,
     "metadata": {},
     "output_type": "execute_result"
    },
    {
     "data": {
      "text/plain": [
       "1"
      ]
     },
     "execution_count": 34,
     "metadata": {},
     "output_type": "execute_result"
    },
    {
     "data": {
      "text/plain": [
       "(:A 1)"
      ]
     },
     "execution_count": 34,
     "metadata": {},
     "output_type": "execute_result"
    },
    {
     "data": {
      "text/plain": [
       "2"
      ]
     },
     "execution_count": 34,
     "metadata": {},
     "output_type": "execute_result"
    },
    {
     "data": {
      "text/plain": [
       "(:A 2)"
      ]
     },
     "execution_count": 34,
     "metadata": {},
     "output_type": "execute_result"
    }
   ],
   "source": [
    "; plist: property list\n",
    "; getf\n",
    "(defparameter *plist* ())\n",
    "*plist*\n",
    "(setf (getf *plist* :a) 1)\n",
    "*plist*\n",
    "(setf (getf *plist* :a) 2)\n",
    "*plist*"
   ]
  },
  {
   "cell_type": "code",
   "execution_count": 35,
   "metadata": {
    "vscode": {
     "languageId": "commonlisp"
    }
   },
   "outputs": [
    {
     "data": {
      "text/plain": [
       "T"
      ]
     },
     "execution_count": 35,
     "metadata": {},
     "output_type": "execute_result"
    },
    {
     "data": {
      "text/plain": [
       "NIL"
      ]
     },
     "execution_count": 35,
     "metadata": {},
     "output_type": "execute_result"
    }
   ],
   "source": [
    "; remf\n",
    "(remf *plist* :a)\n",
    "*plist*"
   ]
  },
  {
   "cell_type": "code",
   "execution_count": 1,
   "metadata": {
    "vscode": {
     "languageId": "commonlisp"
    }
   },
   "outputs": [
    {
     "data": {
      "text/plain": [
       "NIL"
      ]
     },
     "execution_count": 1,
     "metadata": {},
     "output_type": "execute_result"
    },
    {
     "data": {
      "text/plain": [
       "NIL"
      ]
     },
     "execution_count": 1,
     "metadata": {},
     "output_type": "execute_result"
    },
    {
     "data": {
      "text/plain": [
       "NIL"
      ]
     },
     "execution_count": 1,
     "metadata": {},
     "output_type": "execute_result"
    },
    {
     "data": {
      "text/plain": [
       "\"information\""
      ]
     },
     "execution_count": 1,
     "metadata": {},
     "output_type": "execute_result"
    },
    {
     "data": {
      "text/plain": [
       "(KEY \"information\")"
      ]
     },
     "execution_count": 1,
     "metadata": {},
     "output_type": "execute_result"
    },
    {
     "data": {
      "text/plain": [
       "(KEY \"information\")"
      ]
     },
     "execution_count": 1,
     "metadata": {},
     "output_type": "execute_result"
    },
    {
     "data": {
      "text/plain": [
       "NIL"
      ]
     },
     "execution_count": 1,
     "metadata": {},
     "output_type": "execute_result"
    }
   ],
   "source": [
    "; get-properties: extract multiple values from a single plist\n",
    "; symbol-plist\n",
    "; get\n",
    "; remprop\n",
    "(symbol-plist 'symbol)\n",
    "(get 'symbol 'key)\n",
    "(getf (symbol-plist 'symbol) 'key)\n",
    "\n",
    "(setf (get 'symbol 'key) \"information\")\n",
    "(symbol-plist 'symbol)\n",
    "\n",
    "(remprop 'symbol 'key)\n",
    "(symbol-plist 'symbol)"
   ]
  },
  {
   "cell_type": "markdown",
   "metadata": {},
   "source": [
    "# arrays"
   ]
  },
  {
   "cell_type": "code",
   "execution_count": 4,
   "metadata": {
    "vscode": {
     "languageId": "commonlisp"
    }
   },
   "outputs": [
    {
     "data": {
      "text/plain": [
       "#(NIL NIL NIL NIL NIL)"
      ]
     },
     "execution_count": 4,
     "metadata": {},
     "output_type": "execute_result"
    },
    {
     "data": {
      "text/plain": [
       "#()"
      ]
     },
     "execution_count": 4,
     "metadata": {},
     "output_type": "execute_result"
    },
    {
     "data": {
      "text/plain": [
       "#()"
      ]
     },
     "execution_count": 4,
     "metadata": {},
     "output_type": "execute_result"
    }
   ],
   "source": [
    "; make-array: create arrays of any dimensionality, fixed-size and resiable\n",
    "(make-array 5 :initial-element nil) ; 5-element vector with elements initialized NIL\n",
    "; fill pointer: for resizable vector, index of the next position to be filled\n",
    "(make-array 5 :fill-pointer 0); hold at most 5 elements\n",
    "; adjustable: underlying memory can be resized as needed\n",
    "(make-array 5 :fill-pointer 0 :adjustable t)"
   ]
  },
  {
   "cell_type": "markdown",
   "metadata": {},
   "source": [
    "## vectors\n",
    "* fxied size vectors\n",
    "* resizable vectors"
   ]
  },
  {
   "cell_type": "code",
   "execution_count": 1,
   "metadata": {
    "vscode": {
     "languageId": "commonlisp"
    }
   },
   "outputs": [
    {
     "data": {
      "text/plain": [
       "#()"
      ]
     },
     "execution_count": 1,
     "metadata": {},
     "output_type": "execute_result"
    },
    {
     "data": {
      "text/plain": [
       "#(1)"
      ]
     },
     "execution_count": 1,
     "metadata": {},
     "output_type": "execute_result"
    },
    {
     "data": {
      "text/plain": [
       "#(1 2)"
      ]
     },
     "execution_count": 1,
     "metadata": {},
     "output_type": "execute_result"
    }
   ],
   "source": [
    "(vector)\n",
    "(vector 1)\n",
    "(vector 1 2)"
   ]
  },
  {
   "cell_type": "code",
   "execution_count": 6,
   "metadata": {
    "vscode": {
     "languageId": "commonlisp"
    }
   },
   "outputs": [
    {
     "data": {
      "text/plain": [
       "*X*"
      ]
     },
     "execution_count": 6,
     "metadata": {},
     "output_type": "execute_result"
    },
    {
     "data": {
      "text/plain": [
       "0"
      ]
     },
     "execution_count": 6,
     "metadata": {},
     "output_type": "execute_result"
    },
    {
     "data": {
      "text/plain": [
       "#(A)"
      ]
     },
     "execution_count": 6,
     "metadata": {},
     "output_type": "execute_result"
    },
    {
     "data": {
      "text/plain": [
       "1"
      ]
     },
     "execution_count": 6,
     "metadata": {},
     "output_type": "execute_result"
    },
    {
     "data": {
      "text/plain": [
       "#(A B)"
      ]
     },
     "execution_count": 6,
     "metadata": {},
     "output_type": "execute_result"
    },
    {
     "data": {
      "text/plain": [
       "2"
      ]
     },
     "execution_count": 6,
     "metadata": {},
     "output_type": "execute_result"
    },
    {
     "data": {
      "text/plain": [
       "#(A B C)"
      ]
     },
     "execution_count": 6,
     "metadata": {},
     "output_type": "execute_result"
    },
    {
     "data": {
      "text/plain": [
       "C"
      ]
     },
     "execution_count": 6,
     "metadata": {},
     "output_type": "execute_result"
    },
    {
     "data": {
      "text/plain": [
       "#(A B)"
      ]
     },
     "execution_count": 6,
     "metadata": {},
     "output_type": "execute_result"
    },
    {
     "data": {
      "text/plain": [
       "B"
      ]
     },
     "execution_count": 6,
     "metadata": {},
     "output_type": "execute_result"
    },
    {
     "data": {
      "text/plain": [
       "#(A)"
      ]
     },
     "execution_count": 6,
     "metadata": {},
     "output_type": "execute_result"
    },
    {
     "data": {
      "text/plain": [
       "A"
      ]
     },
     "execution_count": 6,
     "metadata": {},
     "output_type": "execute_result"
    },
    {
     "data": {
      "text/plain": [
       "#()"
      ]
     },
     "execution_count": 6,
     "metadata": {},
     "output_type": "execute_result"
    }
   ],
   "source": [
    "; vector-push: add the element at the fill pointer\n",
    "; vector-pop: return the most recently pushed item, decrement the fill pointer\n",
    "; vector-push-extend: add elements to adjustable vector\n",
    "\n",
    "(defparameter *x* (make-array 5 :fill-pointer 0))\n",
    "(vector-push 'a *x*)\n",
    "*x*\n",
    "(vector-push 'b *x*)\n",
    "*x*\n",
    "(vector-push 'c *x*)\n",
    "*x*\n",
    "(vector-pop *x*)\n",
    "*x*\n",
    "(vector-pop *x*)\n",
    "*x*\n",
    "(vector-pop *x*)\n",
    "*x*"
   ]
  },
  {
   "cell_type": "code",
   "execution_count": 7,
   "metadata": {
    "vscode": {
     "languageId": "commonlisp"
    }
   },
   "outputs": [
    {
     "name": "stderr",
     "output_type": "stream",
     "text": [
      "SIMPLE-ERROR: There is nothing left to pop.\n",
      "\n"
     ]
    },
    {
     "ename": "SIMPLE-ERROR",
     "evalue": "There is nothing left to pop.",
     "output_type": "error",
     "traceback": [
      "0: (VECTOR-POP #())",
      "1: (JUPYTER/COMMON-LISP::EVAL-AND-PRINT (VECTOR-POP *X*) 0 NIL)",
      "2: ((:METHOD JUPYTER:EVALUATE-FORM (JUPYTER/COMMON-LISP:KERNEL T T T)) #<unused argument> #<FORM-TRACKING-STREAM for \"file /var/folders/_8/xdwzpdgj0ps7wgh7llzxztk40000gn/T/D603431CF9DD465A7510B81933BD0794-1718086240.lisp\" {100413AA23}> CELL:1718086240.LISP.NEWEST NIL #<unused argument> #<unused argument>)",
      "3: (JUPYTER/COMMON-LISP::REPL (vector-pop *x*) CELL:1718086240.LISP.NEWEST NIL)",
      "4: ((:METHOD JUPYTER:EVALUATE-CODE (JUPYTER/COMMON-LISP:KERNEL T)) #<unused argument> (vector-pop *x*) CELL:1718086240.LISP.NEWEST NIL)",
      "5: (JUPYTER::HANDLE-EXECUTE-REQUEST)",
      "6: (JUPYTER::RUN-SHELL #<KERNEL {1001FA5E43}>)",
      "7: ((LABELS BORDEAUX-THREADS::%BINDING-DEFAULT-SPECIALS-WRAPPER :IN BORDEAUX-THREADS::BINDING-DEFAULT-SPECIALS))",
      "8: ((FLET SB-UNIX::BODY :IN SB-THREAD::RUN))",
      "9: ((FLET \"WITHOUT-INTERRUPTS-BODY-\" :IN SB-THREAD::RUN))",
      "10: ((FLET SB-UNIX::BODY :IN SB-THREAD::RUN))",
      "11: ((FLET \"WITHOUT-INTERRUPTS-BODY-\" :IN SB-THREAD::RUN))",
      "12: (SB-THREAD::RUN)",
      "13: (\"foreign function: call_into_lisp_\")",
      "14: (\"foreign function: funcall1\")"
     ]
    }
   ],
   "source": [
    "; (vector-pop *x*); SIMPLE-ERROR: There is nothing left to pop."
   ]
  },
  {
   "cell_type": "markdown",
   "metadata": {},
   "source": [
    "## strings"
   ]
  },
  {
   "cell_type": "code",
   "execution_count": 8,
   "metadata": {
    "vscode": {
     "languageId": "commonlisp"
    }
   },
   "outputs": [
    {
     "data": {
      "text/plain": [
       "\"\""
      ]
     },
     "execution_count": 8,
     "metadata": {},
     "output_type": "execute_result"
    }
   ],
   "source": [
    "; :element-type\n",
    "(make-array 5 :fill-pointer 0 :adjustable t :element-type 'character)"
   ]
  },
  {
   "cell_type": "markdown",
   "metadata": {},
   "source": [
    "# sequences"
   ]
  },
  {
   "cell_type": "code",
   "execution_count": 11,
   "metadata": {
    "vscode": {
     "languageId": "commonlisp"
    }
   },
   "outputs": [
    {
     "data": {
      "text/plain": [
       "*X*"
      ]
     },
     "execution_count": 11,
     "metadata": {},
     "output_type": "execute_result"
    },
    {
     "data": {
      "text/plain": [
       "3"
      ]
     },
     "execution_count": 11,
     "metadata": {},
     "output_type": "execute_result"
    },
    {
     "data": {
      "text/plain": [
       "1"
      ]
     },
     "execution_count": 11,
     "metadata": {},
     "output_type": "execute_result"
    },
    {
     "data": {
      "text/plain": [
       "10"
      ]
     },
     "execution_count": 11,
     "metadata": {},
     "output_type": "execute_result"
    },
    {
     "data": {
      "text/plain": [
       "#(10 2 3)"
      ]
     },
     "execution_count": 11,
     "metadata": {},
     "output_type": "execute_result"
    }
   ],
   "source": [
    "; length: return the number of lements it contains\n",
    "; elt: zero-indexed element\n",
    ";;     setfable place\n",
    "(defparameter *x* (vector 1 2 3))\n",
    "(length *x*)\n",
    "(elt *x* 0)\n",
    "; (elt *x* 3) ; INDEX-TOO-LARGE-ERROR: Invalid index 3 for (SIMPLE-VECTOR 3), should be a non-negative integer below 3.\n",
    "(setf (elt *x* 0) 10)\n",
    "*x*"
   ]
  },
  {
   "cell_type": "markdown",
   "metadata": {},
   "source": [
    "## sequence iterating"
   ]
  },
  {
   "cell_type": "code",
   "execution_count": 12,
   "metadata": {
    "vscode": {
     "languageId": "commonlisp"
    }
   },
   "outputs": [
    {
     "data": {
      "text/plain": [
       "3"
      ]
     },
     "execution_count": 12,
     "metadata": {},
     "output_type": "execute_result"
    },
    {
     "data": {
      "text/plain": [
       "1"
      ]
     },
     "execution_count": 12,
     "metadata": {},
     "output_type": "execute_result"
    },
    {
     "data": {
      "text/plain": [
       "NIL"
      ]
     },
     "execution_count": 12,
     "metadata": {},
     "output_type": "execute_result"
    },
    {
     "data": {
      "text/plain": [
       "0"
      ]
     },
     "execution_count": 12,
     "metadata": {},
     "output_type": "execute_result"
    },
    {
     "data": {
      "text/plain": [
       "#(2 2 3 2 3 4)"
      ]
     },
     "execution_count": 12,
     "metadata": {},
     "output_type": "execute_result"
    },
    {
     "data": {
      "text/plain": [
       "(2 2 3 2 3 4)"
      ]
     },
     "execution_count": 12,
     "metadata": {},
     "output_type": "execute_result"
    },
    {
     "data": {
      "text/plain": [
       "\"foobrbz\""
      ]
     },
     "execution_count": 12,
     "metadata": {},
     "output_type": "execute_result"
    },
    {
     "data": {
      "text/plain": [
       "#(10 2 10 2 3 10 2 3 4)"
      ]
     },
     "execution_count": 12,
     "metadata": {},
     "output_type": "execute_result"
    },
    {
     "data": {
      "text/plain": [
       "(10 2 10 2 3 10 2 3 4)"
      ]
     },
     "execution_count": 12,
     "metadata": {},
     "output_type": "execute_result"
    },
    {
     "data": {
      "text/plain": [
       "\"fooxarxaz\""
      ]
     },
     "execution_count": 12,
     "metadata": {},
     "output_type": "execute_result"
    }
   ],
   "source": [
    "; count: return number of items appears in sequence\n",
    "; find: return item or NIL\n",
    "; position: return index into sequence or NIL\n",
    "; remove: return sequence with instances of item removed\n",
    "; substitute: return sequence with instances of item replaced with new item\n",
    "\n",
    "(count 1 #(1 2 1 2 3 1 2 3 4))            ; 3\n",
    "(find 1 #(1 2 1 2 3 1 2 3 4))             ; 1\n",
    "(find 10 #(1 2 1 2 3 1 2 3 4))            ; NIL\n",
    "(position 1 #(1 2 1 2 3 1 2 3 4))         ; 0\n",
    "(remove 1 #(1 2 1 2 3 1 2 3 4))           ; #(2 2 3 2 3 4)\n",
    "(remove 1 '(1 2 1 2 3 1 2 3 4))           ; (2 2 3 2 3 4)\n",
    "(remove #\\a \"foobarbaz\")                  ; \"foobrbz\"\n",
    "(substitute 10 1 #(1 2 1 2 3 1 2 3 4))    ; #(10 2 10 2 3 10 2 3 4) \n",
    "(substitute 10 1 '(1 2 1 2 3 1 2 3 4))    ; (10 2 10 2 3 10 2 3 4)\n",
    "(substitute #\\x #\\b \"foobarbaz\")          ; \"fooxarxaz\""
   ]
  },
  {
   "cell_type": "code",
   "execution_count": 19,
   "metadata": {
    "vscode": {
     "languageId": "commonlisp"
    }
   },
   "outputs": [
    {
     "data": {
      "text/plain": [
       "1"
      ]
     },
     "execution_count": 19,
     "metadata": {},
     "output_type": "execute_result"
    },
    {
     "data": {
      "text/plain": [
       "1"
      ]
     },
     "execution_count": 19,
     "metadata": {},
     "output_type": "execute_result"
    },
    {
     "data": {
      "text/plain": [
       "(A 10)"
      ]
     },
     "execution_count": 19,
     "metadata": {},
     "output_type": "execute_result"
    },
    {
     "data": {
      "text/plain": [
       "(A 30)"
      ]
     },
     "execution_count": 19,
     "metadata": {},
     "output_type": "execute_result"
    },
    {
     "data": {
      "text/plain": [
       "\"foobrbaz\""
      ]
     },
     "execution_count": 19,
     "metadata": {},
     "output_type": "execute_result"
    },
    {
     "data": {
      "text/plain": [
       "\"foobarbz\""
      ]
     },
     "execution_count": 19,
     "metadata": {},
     "output_type": "execute_result"
    }
   ],
   "source": [
    "; keyword arguments\n",
    "; :test: default EQL\n",
    ";; :test-not: :test with complement\n",
    "; :key: default NIL (use element as it is)\n",
    "; :start: start index(inclusive) of subsequence. default 0\n",
    "; :end: end index(exclusive) of subsequence. default NIL (end of sequence)\n",
    "; :from-end: default NIL\n",
    "; :count: number of elements to remove or substitude. default NIL(means all). - REMOVE, SUBSTITUTE only\n",
    "(count \"foo\" #(\"foo\" \"bar\" \"baz\") :test #'string=)                     ; 1\n",
    "(count \"foo\" #(\"foo\" \"bar\" \"baz\") :test-not (complement #'string=))    ; 1\n",
    "(find 'a #((a 10) (b 20) (a 30) (d 40)) :key #'first)                  ; (A 10)\n",
    "(find 'a #((a 10) (b 20) (a 30) (d 40)) :key #'first :from-end t)      ; (A 30)\n",
    "(remove #\\a \"foobarbaz\" :count 1)                                      ; \"foobrbaz\"\n",
    "(remove #\\a \"foobarbaz\" :count 1 :from-end t)                          ; \"foobarbz\""
   ]
  },
  {
   "cell_type": "markdown",
   "metadata": {},
   "source": [
    "## higher-order function variants"
   ]
  },
  {
   "cell_type": "code",
   "execution_count": 21,
   "metadata": {
    "vscode": {
     "languageId": "commonlisp"
    }
   },
   "outputs": [
    {
     "data": {
      "text/plain": [
       "2"
      ]
     },
     "execution_count": 21,
     "metadata": {},
     "output_type": "execute_result"
    },
    {
     "data": {
      "text/plain": [
       "3"
      ]
     },
     "execution_count": 21,
     "metadata": {},
     "output_type": "execute_result"
    },
    {
     "data": {
      "text/plain": [
       "4"
      ]
     },
     "execution_count": 21,
     "metadata": {},
     "output_type": "execute_result"
    },
    {
     "data": {
      "text/plain": [
       "#(\"foo\" \"foom\")"
      ]
     },
     "execution_count": 21,
     "metadata": {},
     "output_type": "execute_result"
    }
   ],
   "source": [
    "(count-if #'evenp #(1 2 3 4 5))                      ; 2\n",
    "(count-if-not #'evenp #(1 2 3 4 5))                  ; 3\n",
    "(position-if #'digit-char-p \"abcd0001\")              ; 4\n",
    "(remove-if-not #'(lambda (x) (char= (elt x 0) #\\f))  ; #(\"foo\" \"foom\")\n",
    "  #(\"foo\" \"bar\" \"baz\" \"foom\"))"
   ]
  },
  {
   "cell_type": "code",
   "execution_count": 22,
   "metadata": {
    "vscode": {
     "languageId": "commonlisp"
    }
   },
   "outputs": [
    {
     "data": {
      "text/plain": [
       "#(1 2 3 4)"
      ]
     },
     "execution_count": 22,
     "metadata": {},
     "output_type": "execute_result"
    }
   ],
   "source": [
    "; remove-duplicates\n",
    "(remove-duplicates #(1 2 1 2 3 1 2 3 4)) ; #(1 2 3 4)"
   ]
  },
  {
   "cell_type": "markdown",
   "metadata": {},
   "source": [
    "## whole sequence manipulations"
   ]
  },
  {
   "cell_type": "code",
   "execution_count": 23,
   "metadata": {
    "vscode": {
     "languageId": "commonlisp"
    }
   },
   "outputs": [
    {
     "data": {
      "text/plain": [
       "#(1 2 3)"
      ]
     },
     "execution_count": 23,
     "metadata": {},
     "output_type": "execute_result"
    },
    {
     "data": {
      "text/plain": [
       "#(3 2 1)"
      ]
     },
     "execution_count": 23,
     "metadata": {},
     "output_type": "execute_result"
    },
    {
     "data": {
      "text/plain": [
       "#(1 2 3 4 5 6)"
      ]
     },
     "execution_count": 23,
     "metadata": {},
     "output_type": "execute_result"
    },
    {
     "data": {
      "text/plain": [
       "(1 2 3 4 5 6)"
      ]
     },
     "execution_count": 23,
     "metadata": {},
     "output_type": "execute_result"
    },
    {
     "data": {
      "text/plain": [
       "\"abcdef\""
      ]
     },
     "execution_count": 23,
     "metadata": {},
     "output_type": "execute_result"
    }
   ],
   "source": [
    "; copy-seq\n",
    "; reverse\n",
    "; concatenate: type descriptor of result sequence\n",
    "(copy-seq #(1 2 3))                         ; #(1 2 3)\n",
    "(reverse #(1 2 3))                          ; #(3 2 1)\n",
    "(concatenate 'vector #(1 2 3) '(4 5 6))     ; #(1 2 3 4 5 6)\n",
    "(concatenate 'list #(1 2 3) '(4 5 6))       ; (1 2 3 4 5 6)\n",
    "(concatenate 'string \"abc\" '(#\\d #\\e #\\f))  ; \"abcdef\""
   ]
  },
  {
   "cell_type": "markdown",
   "metadata": {},
   "source": [
    "## sorting, merging"
   ]
  },
  {
   "cell_type": "code",
   "execution_count": 25,
   "metadata": {
    "vscode": {
     "languageId": "commonlisp"
    }
   },
   "outputs": [
    {
     "data": {
      "text/plain": [
       "#(\"bar\" \"baz\" \"foo\")"
      ]
     },
     "execution_count": 25,
     "metadata": {},
     "output_type": "execute_result"
    },
    {
     "data": {
      "text/plain": [
       "#(\"bar\" \"baz\" \"foo\")"
      ]
     },
     "execution_count": 25,
     "metadata": {},
     "output_type": "execute_result"
    },
    {
     "data": {
      "text/plain": [
       "#(\"bar\" \"baz\" \"foo\")"
      ]
     },
     "execution_count": 25,
     "metadata": {},
     "output_type": "execute_result"
    }
   ],
   "source": [
    "; sort\n",
    "; stable-sort\n",
    "(sort (vector \"foo\" \"bar\" \"baz\") #'string<)         ; #(\"bar\" \"baz\" \"foo\")\n",
    "(stable-sort (vector \"foo\" \"bar\" \"baz\") #'string<)  ; #(\"bar\" \"baz\" \"foo\")\n",
    "; destructive functions\n",
    "(let ((s #(\"foo\" \"bar\" \"baz\")))\n",
    "  (setf s (sort s #'string<)))                      ; #(\"bar\" \"baz\" \"foo\")"
   ]
  },
  {
   "cell_type": "code",
   "execution_count": 28,
   "metadata": {
    "vscode": {
     "languageId": "commonlisp"
    }
   },
   "outputs": [
    {
     "data": {
      "text/plain": [
       "#(1 2 3 4 5 6)"
      ]
     },
     "execution_count": 28,
     "metadata": {},
     "output_type": "execute_result"
    },
    {
     "data": {
      "text/plain": [
       "(1 2 3 4 5 6)"
      ]
     },
     "execution_count": 28,
     "metadata": {},
     "output_type": "execute_result"
    },
    {
     "name": "stdout",
     "output_type": "stream",
     "text": [
      "SB-INT:CONSTANT-MODIFIED: Destructive function MERGE called on constant data: #(1 3 5)\n",
      "See also:\n",
      "  The ANSI Standard, Special Operator QUOTE\n",
      "  The ANSI Standard, Section 3.7.1\n",
      "SB-INT:CONSTANT-MODIFIED: Destructive function MERGE called on constant data: #(2 4 6)\n",
      "See also:\n",
      "  The ANSI Standard, Special Operator QUOTE\n",
      "  The ANSI Standard, Section 3.7.1\n",
      "SB-INT:CONSTANT-MODIFIED: Destructive function MERGE called on constant data: #(1 3 5)\n",
      "See also:\n",
      "  The ANSI Standard, Special Operator QUOTE\n",
      "  The ANSI Standard, Section 3.7.1\n",
      "SB-INT:CONSTANT-MODIFIED: Destructive function MERGE called on constant data: #(2 4 6)\n",
      "See also:\n",
      "  The ANSI Standard, Special Operator QUOTE\n",
      "  The ANSI Standard, Section 3.7.1\n"
     ]
    }
   ],
   "source": [
    "(merge 'vector #(1 3 5) #(2 4 6) #'<) ; #(1 2 3 4 5 6)\n",
    "(merge 'list #(1 3 5) #(2 4 6) #'<)   ; (1 2 3 4 5 6)"
   ]
  },
  {
   "cell_type": "markdown",
   "metadata": {},
   "source": [
    "## subsequence manipulations"
   ]
  },
  {
   "cell_type": "code",
   "execution_count": 33,
   "metadata": {
    "vscode": {
     "languageId": "commonlisp"
    }
   },
   "outputs": [
    {
     "data": {
      "text/plain": [
       "\"barbaz\""
      ]
     },
     "execution_count": 33,
     "metadata": {},
     "output_type": "execute_result"
    },
    {
     "data": {
      "text/plain": [
       "\"bar\""
      ]
     },
     "execution_count": 33,
     "metadata": {},
     "output_type": "execute_result"
    },
    {
     "data": {
      "text/plain": [
       "*X*"
      ]
     },
     "execution_count": 33,
     "metadata": {},
     "output_type": "execute_result"
    },
    {
     "data": {
      "text/plain": [
       "\"xxx\""
      ]
     },
     "execution_count": 33,
     "metadata": {},
     "output_type": "execute_result"
    },
    {
     "data": {
      "text/plain": [
       "\"fooxxxbaz\""
      ]
     },
     "execution_count": 33,
     "metadata": {},
     "output_type": "execute_result"
    },
    {
     "data": {
      "text/plain": [
       "\"abcd\""
      ]
     },
     "execution_count": 33,
     "metadata": {},
     "output_type": "execute_result"
    },
    {
     "data": {
      "text/plain": [
       "\"fooabcbaz\""
      ]
     },
     "execution_count": 33,
     "metadata": {},
     "output_type": "execute_result"
    },
    {
     "data": {
      "text/plain": [
       "\"xx\""
      ]
     },
     "execution_count": 33,
     "metadata": {},
     "output_type": "execute_result"
    },
    {
     "data": {
      "text/plain": [
       "\"fooxxcbaz\""
      ]
     },
     "execution_count": 33,
     "metadata": {},
     "output_type": "execute_result"
    },
    {
     "data": {
      "text/plain": [
       "3"
      ]
     },
     "execution_count": 33,
     "metadata": {},
     "output_type": "execute_result"
    },
    {
     "data": {
      "text/plain": [
       "3"
      ]
     },
     "execution_count": 33,
     "metadata": {},
     "output_type": "execute_result"
    },
    {
     "data": {
      "text/plain": [
       "3"
      ]
     },
     "execution_count": 33,
     "metadata": {},
     "output_type": "execute_result"
    },
    {
     "data": {
      "text/plain": [
       "3"
      ]
     },
     "execution_count": 33,
     "metadata": {},
     "output_type": "execute_result"
    }
   ],
   "source": [
    "; subseq\n",
    "; search\n",
    "; mismatch: find where two sequences with a common prefix first diverge\n",
    "(subseq \"foobarbaz\" 3)    ; \"barbaz\"\n",
    "(subseq \"foobarbaz\" 3 6)  ; \"bar\"\n",
    "(defparameter *x* (copy-seq \"foobarbaz\"))\n",
    "(setf (subseq *x* 3 6) \"xxx\")\n",
    "*x* ; \"fooxxxbaz\"\n",
    "(setf (subseq *x* 3 6) \"abcd\")\n",
    "*x* ; \"fooabcbaz\"\n",
    "(setf (subseq *x* 3 6) \"xx\")\n",
    "*x* ; \"fooxxcbaz\"\n",
    "\n",
    "(position #\\b \"foobarbaz\") ; 3\n",
    "(search \"bar\" \"foobarbaz\") ; 3\n",
    "\n",
    "(mismatch \"foobarbaz\" \"foom\")         ; 3\n",
    "(mismatch \"foobar\" \"bar\" :from-end t) ; 3"
   ]
  },
  {
   "cell_type": "markdown",
   "metadata": {
    "vscode": {
     "languageId": "commonlisp"
    }
   },
   "source": [
    "## sequence predicates"
   ]
  },
  {
   "cell_type": "code",
   "execution_count": 35,
   "metadata": {
    "vscode": {
     "languageId": "commonlisp"
    }
   },
   "outputs": [
    {
     "data": {
      "text/plain": [
       "NIL"
      ]
     },
     "execution_count": 35,
     "metadata": {},
     "output_type": "execute_result"
    },
    {
     "data": {
      "text/plain": [
       "T"
      ]
     },
     "execution_count": 35,
     "metadata": {},
     "output_type": "execute_result"
    },
    {
     "data": {
      "text/plain": [
       "NIL"
      ]
     },
     "execution_count": 35,
     "metadata": {},
     "output_type": "execute_result"
    },
    {
     "data": {
      "text/plain": [
       "T"
      ]
     },
     "execution_count": 35,
     "metadata": {},
     "output_type": "execute_result"
    },
    {
     "data": {
      "text/plain": [
       "NIL"
      ]
     },
     "execution_count": 35,
     "metadata": {},
     "output_type": "execute_result"
    },
    {
     "data": {
      "text/plain": [
       "T"
      ]
     },
     "execution_count": 35,
     "metadata": {},
     "output_type": "execute_result"
    },
    {
     "data": {
      "text/plain": [
       "NIL"
      ]
     },
     "execution_count": 35,
     "metadata": {},
     "output_type": "execute_result"
    },
    {
     "data": {
      "text/plain": [
       "T"
      ]
     },
     "execution_count": 35,
     "metadata": {},
     "output_type": "execute_result"
    }
   ],
   "source": [
    "; every, some, notnay, notevery\n",
    "(every #'evenp #(1 2 3 4 5))      ; NIL\n",
    "(some #'evenp #(1 2 3 4 5))       ; T\n",
    "(notany #'evenp #(1 2 3 4 5))     ; NIL\n",
    "(notevery #'evenp #(1 2 3 4 5))   ; T\n",
    "\n",
    "; with two sequences\n",
    "(every #'> #(1 2 3 4) #(5 4 3 2))     ; NIL\n",
    "(some #'> #(1 2 3 4) #(5 4 3 2))      ; T\n",
    "(notany #'> #(1 2 3 4) #(5 4 3 2))    ; NIL\n",
    "(notevery #'> #(1 2 3 4) #(5 4 3 2))  ; T"
   ]
  },
  {
   "cell_type": "markdown",
   "metadata": {},
   "source": [
    "## sequence mapping functions"
   ]
  },
  {
   "cell_type": "code",
   "execution_count": 40,
   "metadata": {
    "vscode": {
     "languageId": "commonlisp"
    }
   },
   "outputs": [
    {
     "data": {
      "text/plain": [
       "#(10 18 24 28 30)"
      ]
     },
     "execution_count": 40,
     "metadata": {},
     "output_type": "execute_result"
    },
    {
     "data": {
      "text/plain": [
       "(12 15 18)"
      ]
     },
     "execution_count": 40,
     "metadata": {},
     "output_type": "execute_result"
    },
    {
     "data": {
      "text/plain": [
       "55"
      ]
     },
     "execution_count": 40,
     "metadata": {},
     "output_type": "execute_result"
    }
   ],
   "source": [
    "; map\n",
    "; map-into\n",
    "; reduce\n",
    "(map 'vector #'* #(1 2 3 4 5) #(10 9 8 7 6)) ; #(10 18 24 28 30)\n",
    "(let ((a (list 1 2 3))\n",
    "      (b #(4 5 6))\n",
    "      (c #(7 8 9)))\n",
    "  (map-into a #'+ a b c))                    ; (12 15 18)\n",
    "(reduce #'+ #(1 2 3 4 5 6 7 8 9 10))         ; 55"
   ]
  },
  {
   "cell_type": "markdown",
   "metadata": {},
   "source": [
    "# hash tables"
   ]
  },
  {
   "cell_type": "code",
   "execution_count": 52,
   "metadata": {
    "vscode": {
     "languageId": "commonlisp"
    }
   },
   "outputs": [
    {
     "data": {
      "text/plain": [
       "*H*"
      ]
     },
     "execution_count": 52,
     "metadata": {},
     "output_type": "execute_result"
    },
    {
     "data": {
      "text/plain": [
       "NIL"
      ]
     },
     "execution_count": 52,
     "metadata": {},
     "output_type": "execute_result"
    },
    {
     "data": {
      "text/plain": [
       "NIL"
      ]
     },
     "execution_count": 52,
     "metadata": {},
     "output_type": "execute_result"
    },
    {
     "data": {
      "text/plain": [
       "QUUX"
      ]
     },
     "execution_count": 52,
     "metadata": {},
     "output_type": "execute_result"
    },
    {
     "data": {
      "text/plain": [
       "QUUX"
      ]
     },
     "execution_count": 52,
     "metadata": {},
     "output_type": "execute_result"
    },
    {
     "data": {
      "text/plain": [
       "T"
      ]
     },
     "execution_count": 52,
     "metadata": {},
     "output_type": "execute_result"
    },
    {
     "data": {
      "text/plain": [
       "SHOW-VALUE"
      ]
     },
     "execution_count": 52,
     "metadata": {},
     "output_type": "execute_result"
    },
    {
     "data": {
      "text/plain": [
       "NIL"
      ]
     },
     "execution_count": 52,
     "metadata": {},
     "output_type": "execute_result"
    },
    {
     "data": {
      "text/plain": [
       "\"Value QUUX actually present.\""
      ]
     },
     "execution_count": 52,
     "metadata": {},
     "output_type": "execute_result"
    },
    {
     "data": {
      "text/plain": [
       "\"Value NIL actually present.\""
      ]
     },
     "execution_count": 52,
     "metadata": {},
     "output_type": "execute_result"
    },
    {
     "data": {
      "text/plain": [
       "\"Value NIL because key not found.\""
      ]
     },
     "execution_count": 52,
     "metadata": {},
     "output_type": "execute_result"
    },
    {
     "data": {
      "text/plain": [
       "T"
      ]
     },
     "execution_count": 52,
     "metadata": {},
     "output_type": "execute_result"
    },
    {
     "data": {
      "text/plain": [
       "NIL"
      ]
     },
     "execution_count": 52,
     "metadata": {},
     "output_type": "execute_result"
    },
    {
     "data": {
      "text/plain": [
       "NIL"
      ]
     },
     "execution_count": 52,
     "metadata": {},
     "output_type": "execute_result"
    },
    {
     "data": {
      "text/plain": [
       "#<HASH-TABLE :TEST EQL :COUNT 0 {1003697E63}>"
      ]
     },
     "execution_count": 52,
     "metadata": {},
     "output_type": "execute_result"
    },
    {
     "data": {
      "text/plain": [
       "NIL"
      ]
     },
     "execution_count": 52,
     "metadata": {},
     "output_type": "execute_result"
    },
    {
     "name": "stdout",
     "output_type": "stream",
     "text": [
      "SB-KERNEL:REDEFINITION-WITH-DEFUN: redefining COMMON-LISP-USER::SHOW-VALUE in DEFUN\n",
      "FOO: QUUX\n",
      "FOO: QUUX\n"
     ]
    }
   ],
   "source": [
    "; make-hash-table\n",
    ";; :test: EQ, EQL(default), EQUAL, EQUALP\n",
    "; gethash\n",
    "; remhash\n",
    "; clrhash\n",
    "; maphash: iteration\n",
    "(defparameter *h* (make-hash-table))\n",
    "(gethash 'foo *h*)\n",
    "(setf (gethash 'foo *h*) 'quux)\n",
    "(gethash 'foo *h*)\n",
    "\n",
    "(defun show-value (key hash-table)\n",
    "  (multiple-value-bind (value present) (gethash key hash-table)\n",
    "    (if present\n",
    "        (format nil \"Value ~A actually present.\" value)\n",
    "        (format nil \"Value ~A because key not found.\" value))))\n",
    "(setf (gethash 'bar *h*) nil) ; value NIL\n",
    "(show-value 'foo *h*) ; \"Value QUUX actually present.\"\n",
    "(show-value 'bar *h*) ; \"Value NIL actually present.\"\n",
    "(show-value 'baz *h*) ; \"Value NIL because key not found.\"\n",
    "\n",
    "(remhash 'bar *h*)\n",
    "(maphash #'(lambda (k v) (format t \"~A: ~A~%\" k v)) *h*) ; FOO: QUUX\n",
    "; hask-keys, hash-value\n",
    "(loop for k being the hash-keys in *h* using (hash-value v)\n",
    "      do (format t \"~A: ~A~%\" k v)); FOO: QUUX\n",
    "\n",
    "(clrhash *h*)\n",
    "(maphash #'(lambda (k v) (format t \"~A: ~A~%\" k v)) *h*)"
   ]
  },
  {
   "cell_type": "code",
   "execution_count": 49,
   "metadata": {
    "vscode": {
     "languageId": "commonlisp"
    }
   },
   "outputs": [
    {
     "data": {
      "text/plain": [
       "T"
      ]
     },
     "execution_count": 49,
     "metadata": {},
     "output_type": "execute_result"
    },
    {
     "data": {
      "text/plain": [
       "NIL"
      ]
     },
     "execution_count": 49,
     "metadata": {},
     "output_type": "execute_result"
    },
    {
     "name": "stdout",
     "output_type": "stream",
     "text": [
      "FOO: QUUX\n"
     ]
    }
   ],
   "source": []
  }
 ],
 "metadata": {
  "kernelspec": {
   "display_name": "Common Lisp",
   "language": "common-lisp",
   "name": "common-lisp"
  },
  "language_info": {
   "codemirror_mode": "text/x-common-lisp",
   "file_extension": ".lisp",
   "mimetype": "text/x-common-lisp",
   "name": "common-lisp",
   "pygments_lexer": "common-lisp",
   "version": "2.4.7"
  }
 },
 "nbformat": 4,
 "nbformat_minor": 2
}
