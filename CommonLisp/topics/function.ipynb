{
 "cells": [
  {
   "cell_type": "markdown",
   "metadata": {},
   "source": [
    "# Functions"
   ]
  },
  {
   "cell_type": "markdown",
   "metadata": {},
   "source": [
    "# Parameter Lists"
   ]
  },
  {
   "cell_type": "markdown",
   "metadata": {},
   "source": [
    "# destructuring-bind"
   ]
  },
  {
   "cell_type": "code",
   "execution_count": 1,
   "metadata": {
    "vscode": {
     "languageId": "commonlisp"
    }
   },
   "outputs": [
    {
     "data": {
      "text/plain": [
       "(A B C (D E))"
      ]
     },
     "execution_count": 1,
     "metadata": {},
     "output_type": "execute_result"
    }
   ],
   "source": [
    "(destructuring-bind (w (x y) . z) '(a (b c) d e)\n",
    "    (list w x y z))"
   ]
  },
  {
   "cell_type": "code",
   "execution_count": 3,
   "metadata": {
    "vscode": {
     "languageId": "commonlisp"
    }
   },
   "outputs": [
    {
     "name": "stderr",
     "output_type": "stream",
     "text": [
      "ARG-COUNT-ERROR: Error while parsing arguments to DESTRUCTURING-BIND:\n",
      "  too many elements in\n",
      "    (A (B C) D E)\n",
      "  to satisfy lambda list\n",
      "    (W (X Y) Z):\n",
      "  exactly 3 expected, but got 4\n",
      "\n"
     ]
    },
    {
     "ename": "ARG-COUNT-ERROR",
     "evalue": "Error while parsing arguments to DESTRUCTURING-BIND:\n  too many elements in\n    (A (B C) D E)\n  to satisfy lambda list\n    (W (X Y) Z):\n  exactly 3 expected, but got 4",
     "output_type": "error",
     "traceback": [
      "0: (SB-C::CHECK-DS-LIST #<unavailable argument> #<unavailable argument> #<unavailable argument> #<unavailable argument>)",
      "1: ((LAMBDA NIL :IN \"/private/var/folders/_8/xdwzpdgj0ps7wgh7llzxztk40000gn/T/82DE9C1A787249CC3FACC0A9E5A2A26C-763887647.lisp\"))",
      "2: (JUPYTER/COMMON-LISP::EVAL-AND-PRINT (DESTRUCTURING-BIND (W (X Y) Z) (QUOTE (A (B C) D E)) (LIST W X Y Z)) 0 NIL)",
      "3: ((:METHOD JUPYTER:EVALUATE-FORM (JUPYTER/COMMON-LISP:KERNEL T T T)) #<unused argument> #<FORM-TRACKING-STREAM for \"file /var/folders/_8/xdwzpdgj0ps7wgh7llzxztk40000gn/T/82DE9C1A787249CC3FACC0A9E5A2A26C-763887647.lisp\" {1004092103}> CELL:763887647.LISP.NEWEST NIL #<unused argument> #<unused argument>)",
      "4: (JUPYTER/COMMON-LISP::REPL (destructuring-bind (w (x y) z) '(a (b c) d e)\n    (list w x y z)) CELL:763887647.LISP.NEWEST NIL)",
      "5: ((:METHOD JUPYTER:EVALUATE-CODE (JUPYTER/COMMON-LISP:KERNEL T)) #<unused argument> (destructuring-bind (w (x y) z) '(a (b c) d e)\n    (list w x y z)) CELL:763887647.LISP.NEWEST NIL)",
      "6: (JUPYTER::HANDLE-EXECUTE-REQUEST)",
      "7: (JUPYTER::RUN-SHELL #<KERNEL {1001FA5E43}>)",
      "8: ((LABELS BORDEAUX-THREADS::%BINDING-DEFAULT-SPECIALS-WRAPPER :IN BORDEAUX-THREADS::BINDING-DEFAULT-SPECIALS))",
      "9: ((FLET SB-UNIX::BODY :IN SB-THREAD::RUN))",
      "10: ((FLET \"WITHOUT-INTERRUPTS-BODY-\" :IN SB-THREAD::RUN))",
      "11: ((FLET SB-UNIX::BODY :IN SB-THREAD::RUN))",
      "12: ((FLET \"WITHOUT-INTERRUPTS-BODY-\" :IN SB-THREAD::RUN))",
      "13: (SB-THREAD::RUN)",
      "14: (\"foreign function: call_into_lisp_\")",
      "15: (\"foreign function: funcall1\")"
     ]
    }
   ],
   "source": [
    "(destructuring-bind (w (x y) z) '(a (b c) d e)\n",
    "    (list w x y z))"
   ]
  }
 ],
 "metadata": {
  "kernelspec": {
   "display_name": "Common Lisp",
   "language": "common-lisp",
   "name": "common-lisp"
  },
  "language_info": {
   "codemirror_mode": "text/x-common-lisp",
   "file_extension": ".lisp",
   "mimetype": "text/x-common-lisp",
   "name": "common-lisp",
   "pygments_lexer": "common-lisp",
   "version": "2.4.7"
  }
 },
 "nbformat": 4,
 "nbformat_minor": 2
}
