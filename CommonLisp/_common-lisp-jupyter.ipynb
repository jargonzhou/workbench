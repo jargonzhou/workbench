{
 "cells": [
  {
   "cell_type": "markdown",
   "metadata": {},
   "source": [
    "- common-lisp-jupyter: A Common Lisp kernel for Jupyter along with a library for building Jupyter kernels, based on Maxima-Jupyter by Robert Dodier which was based on cl-jupyter by Frederic Peschanski.\n",
    "  - https://github.com/yitzchak/common-lisp-jupyter\n",
    "  - https://yitzchak.github.io/common-lisp-jupyter/"
   ]
  },
  {
   "cell_type": "code",
   "execution_count": 1,
   "metadata": {
    "vscode": {
     "languageId": "commonlisp"
    }
   },
   "outputs": [
    {
     "data": {
      "text/plain": [
       "2"
      ]
     },
     "execution_count": 1,
     "metadata": {},
     "output_type": "execute_result"
    }
   ],
   "source": [
    "(+ 1 1)"
   ]
  },
  {
   "cell_type": "code",
   "execution_count": 2,
   "metadata": {
    "vscode": {
     "languageId": "commonlisp"
    }
   },
   "outputs": [
    {
     "data": {
      "text/plain": [
       "NIL"
      ]
     },
     "execution_count": 2,
     "metadata": {},
     "output_type": "execute_result"
    },
    {
     "name": "stdout",
     "output_type": "stream",
     "text": [
      "Hello, Common Lisp!\n"
     ]
    }
   ],
   "source": [
    "(format t \"~a~%\" \"Hello, Common Lisp!\")"
   ]
  },
  {
   "cell_type": "markdown",
   "metadata": {
    "vscode": {
     "languageId": "makefile"
    }
   },
   "source": [
    "# With Lisp Files"
   ]
  },
  {
   "cell_type": "code",
   "execution_count": 1,
   "metadata": {
    "vscode": {
     "languageId": "commonlisp"
    }
   },
   "outputs": [
    {
     "data": {
      "text/plain": [
       "T"
      ]
     },
     "execution_count": 1,
     "metadata": {},
     "output_type": "execute_result"
    },
    {
     "data": {
      "text/plain": [
       "\"Hello, Common!\""
      ]
     },
     "execution_count": 1,
     "metadata": {},
     "output_type": "execute_result"
    },
    {
     "name": "stdout",
     "output_type": "stream",
     "text": [
      "\n",
      "\"Hello, Common!\" "
     ]
    }
   ],
   "source": [
    "(load \"common\")\n",
    "(cl-common:hello)"
   ]
  },
  {
   "cell_type": "markdown",
   "metadata": {},
   "source": [
    "# Help"
   ]
  },
  {
   "cell_type": "code",
   "execution_count": null,
   "metadata": {
    "vscode": {
     "languageId": "commonlisp"
    }
   },
   "outputs": [
    {
     "data": {
      "text/plain": [
       "(1 2 3)"
      ]
     },
     "execution_count": 1,
     "metadata": {},
     "output_type": "execute_result"
    },
    {
     "name": "stdout",
     "output_type": "stream",
     "text": [
      "SIMPLE-WARNING: undefined variable: COMMON-LISP-USER::X\n",
      "SIMPLE-WARNING: undefined variable: COMMON-LISP-USER::X\n",
      "\n",
      "(1 2 3)\n",
      "  [list]\n"
     ]
    }
   ],
   "source": [
    "(setf x (list 1 2 3))\n",
    "\n",
    "(describe x)\n",
    "\n",
    "; an interactive version of describe\n",
    "; (inspect x)"
   ]
  },
  {
   "cell_type": "markdown",
   "metadata": {},
   "source": [
    "# shasht\n",
    "- https://github.com/yitzchak/shasht\n",
    "Common Lisp JSON reading and writing for the Kzinti."
   ]
  },
  {
   "cell_type": "code",
   "execution_count": 3,
   "metadata": {
    "vscode": {
     "languageId": "commonlisp"
    }
   },
   "outputs": [
    {
     "name": "stdout",
     "output_type": "stream",
     "text": [
      "To load \"shasht\":\n",
      "  Load 1 ASDF system:\n",
      "    shasht\n"
     ]
    },
    {
     "data": {
      "text/plain": [
       "(:SHASHT)"
      ]
     },
     "execution_count": 3,
     "metadata": {},
     "output_type": "execute_result"
    },
    {
     "name": "stdout",
     "output_type": "stream",
     "text": [
      "\n",
      "; Loading \"shasht\"\n",
      "\n"
     ]
    }
   ],
   "source": [
    "(ql:quickload :shasht)"
   ]
  },
  {
   "cell_type": "code",
   "execution_count": 4,
   "metadata": {
    "vscode": {
     "languageId": "commonlisp"
    }
   },
   "outputs": [
    {
     "data": {
      "text/plain": [
       "(:OBJECT-PLIST \"foo\" \"bar\" \"quux\" 1.23)"
      ]
     },
     "execution_count": 4,
     "metadata": {},
     "output_type": "execute_result"
    },
    {
     "name": "stdout",
     "output_type": "stream",
     "text": [
      "{\n",
      "  \"foo\": \"bar\",\n",
      "  \"quux\": 1.23\n",
      "}"
     ]
    }
   ],
   "source": [
    "(shasht:write-json `(:object-plist \"foo\" \"bar\" \"quux\" 1.23) t)"
   ]
  },
  {
   "cell_type": "code",
   "execution_count": 5,
   "metadata": {
    "vscode": {
     "languageId": "commonlisp"
    }
   },
   "outputs": [
    {
     "data": {
      "application/json": {
       "foo": "bar",
       "quux": {
        "a": 1,
        "b": 2
       }
      }
     },
     "metadata": {
      "application/json": {
       "expanded": true
      }
     },
     "output_type": "display_data"
    }
   ],
   "source": [
    "(jupyter:json `(:object-plist \"foo\" \"bar\" \"quux\" (:object-plist \"a\" 1 \"b\" 2)) :expanded t :display t :id \"a\")"
   ]
  },
  {
   "cell_type": "markdown",
   "metadata": {},
   "source": [
    "# Debug"
   ]
  },
  {
   "cell_type": "code",
   "execution_count": null,
   "metadata": {
    "vscode": {
     "languageId": "commonlisp"
    }
   },
   "outputs": [
    {
     "data": {
      "text/plain": [
       "NIL"
      ]
     },
     "execution_count": 6,
     "metadata": {},
     "output_type": "execute_result"
    },
    {
     "data": {
      "text/plain": [
       "FU"
      ]
     },
     "execution_count": 6,
     "metadata": {},
     "output_type": "execute_result"
    },
    {
     "name": "stdout",
     "output_type": "stream",
     "text": [
      "SB-INT:SIMPLE-STYLE-WARNING: DECLAIM where DECLARE was probably intended\n",
      "SIMPLE-WARNING: undefined variable: COMMON-LISP-USER::Y\n"
     ]
    }
   ],
   "source": [
    "; quicklisp\\dists\\quicklisp\\software\\common-lisp-jupyter-20241012-git\\examples\\debug.ipynb\n",
    "(declaim (optimize (debug 3)\n",
    "                   (safety 3)\n",
    "                   (speed 0)))\n",
    "\n",
    "(defun fu (x)\n",
    "  (print \"1\")\n",
    "  (break) ;; break\n",
    "  (print \"2\")\n",
    "  (+ x y))"
   ]
  },
  {
   "cell_type": "code",
   "execution_count": 7,
   "metadata": {
    "vscode": {
     "languageId": "commonlisp"
    }
   },
   "outputs": [
    {
     "name": "stdout",
     "output_type": "stream",
     "text": [
      "\n",
      "\"1\" Resuming thread #<THREAD tid=12260 \"SHELL Thread\" RUNNING {1103A87A53}>\n",
      "\n",
      "Type HELP for debugger help, or (SB-EXT:EXIT) to exit from SBCL.\n",
      "\n",
      "\n",
      "restarts (invokable by number or by possibly-abbreviated name):\n",
      "\n",
      "  0: [CONTINUE] Return from BREAK.\n",
      "\n",
      "  1: [ABORT   ] abort thread (#<THREAD tid=12260 \"SHELL Thread\" RUNNING {1103A87A53}>)\n",
      "\n",
      "(FU 7)\n",
      "   source: (BREAK)\n",
      "0] "
     ]
    },
    {
     "name": "stderr",
     "output_type": "stream",
     "text": [
      "\n",
      "\n",
      "debugger invoked on a SIMPLE-CONDITION in thread\n",
      "#<THREAD tid=12260 \"SHELL Thread\" RUNNING {1103A87A53}>:\n",
      "  break\n",
      "UNBOUND-VARIABLE: The variable Y is unbound.\n",
      "\n"
     ]
    },
    {
     "ename": "UNBOUND-VARIABLE",
     "evalue": "The variable Y is unbound.",
     "output_type": "error",
     "traceback": [
      "0: (FU 7)",
      "1: ((LAMBDA NIL :IN \"C:/Users/zhouj/AppData/Local/Temp/E2C591AEC6FE48B9252B2C0E04464607-1752523104.lisp\"))",
      "2: (JUPYTER/COMMON-LISP::EVAL-AND-PRINT (FU 7) 0 NIL)",
      "3: ((:METHOD JUPYTER:EVALUATE-FORM (JUPYTER/COMMON-LISP:KERNEL T T T)) #<unused argument> #<FORM-TRACKING-STREAM for \"file C:\\\\Users\\\\zhouj\\\\AppData\\\\Local\\\\Temp\\\\E2C591AEC6FE48B9252B2C0E04464607-1752523104.lisp\" {1102996B53}> CELL:1752523104.LISP.NEWEST NIL #<unused argument> #<unused argument>)",
      "4: (JUPYTER/COMMON-LISP::REPL (fu 7)\n; (step (fu 7))\n\n\n;; 0: [CONTINUE] Return from BREAK. CELL:1752523104.LISP.NEWEST NIL)",
      "5: ((:METHOD JUPYTER:EVALUATE-CODE (JUPYTER/COMMON-LISP:KERNEL T)) #<unused argument> (fu 7)\n; (step (fu 7))\n\n\n;; 0: [CONTINUE] Return from BREAK. CELL:1752523104.LISP.NEWEST NIL)",
      "6: (JUPYTER::HANDLE-EXECUTE-REQUEST)",
      "7: (JUPYTER::RUN-SHELL #<KERNEL {1102892B73}>)",
      "8: ((LABELS BORDEAUX-THREADS::%BINDING-DEFAULT-SPECIALS-WRAPPER :IN BORDEAUX-THREADS::BINDING-DEFAULT-SPECIALS))",
      "9: ((FLET SB-UNIX::BODY :IN SB-THREAD::RUN))",
      "10: ((FLET \"WITHOUT-INTERRUPTS-BODY-\" :IN SB-THREAD::RUN))",
      "11: ((FLET SB-UNIX::BODY :IN SB-THREAD::RUN))",
      "12: ((FLET \"WITHOUT-INTERRUPTS-BODY-\" :IN SB-THREAD::RUN))",
      "13: (SB-THREAD::RUN)",
      "14: (\"foreign function: #x140045AB5\")",
      "15: (\"foreign function: #x14000A14A\")"
     ]
    },
    {
     "name": "stdout",
     "output_type": "stream",
     "text": [
      "\n",
      "\"2\" "
     ]
    }
   ],
   "source": [
    "(fu 7)\n",
    "; (step (fu 7))\n",
    "\n",
    "\n",
    ";; 0: [CONTINUE] Return from BREAK."
   ]
  },
  {
   "cell_type": "markdown",
   "metadata": {},
   "source": [
    "# Lisp Image"
   ]
  },
  {
   "cell_type": "code",
   "execution_count": 4,
   "metadata": {
    "vscode": {
     "languageId": "commonlisp"
    }
   },
   "outputs": [
    {
     "data": {
      "text/plain": [
       "(\"SB-INTROSPECT\" \"URI\" \"IRONCLAD\" \"SB-ROTATE-BYTE\" \"SB-BSD-SOCKETS\" \"SB-POSIX\"\n",
       " \"ASDF\" \"asdf\" \"UIOP\" \"uiop\")"
      ]
     },
     "execution_count": 4,
     "metadata": {},
     "output_type": "execute_result"
    }
   ],
   "source": [
    "; WARN: The variable *modules* is deprecated.\n",
    "*modules*"
   ]
  },
  {
   "cell_type": "code",
   "execution_count": null,
   "metadata": {
    "vscode": {
     "languageId": "commonlisp"
    }
   },
   "outputs": [
    {
     "data": {
      "text/plain": [
       "#<PACKAGE \"COMMON-LISP-USER\">"
      ]
     },
     "execution_count": 3,
     "metadata": {},
     "output_type": "execute_result"
    }
   ],
   "source": [
    "; current package\n",
    "*package*"
   ]
  },
  {
   "cell_type": "code",
   "execution_count": 1,
   "metadata": {
    "vscode": {
     "languageId": "commonlisp"
    }
   },
   "outputs": [
    {
     "data": {
      "text/plain": [
       "(#<PACKAGE \"SB-MOP\"> #<PACKAGE \"CFFI-GROVEL\"> #<PACKAGE \"QL-SETUP\">\n",
       " #<PACKAGE \"BABEL-ENCODINGS\"> #<PACKAGE \"ASDF/OPERATION\"> #<PACKAGE \"QL-CDB\">\n",
       " #<PACKAGE \"SB-KERNEL\"> #<PACKAGE \"TRIVIAL-MIMES\"> #<PACKAGE \"SB-EVAL\">\n",
       " #<PACKAGE \"ALEXANDRIA\"> #<PACKAGE \"SB-ROTATE-BYTE\">\n",
       " #<PACKAGE \"JUPYTER/WIDGETS\"> #<PACKAGE \"TRIVIAL-INDENT\"> #<PACKAGE \"SB-DEBUG\">\n",
       " #<PACKAGE \"UIOP/IMAGE\"> #<PACKAGE \"SB-WALKER\"> #<PACKAGE \"CFFI\">\n",
       " #<PACKAGE \"KEYWORD\"> #<PACKAGE \"QL-INFO\"> #<PACKAGE \"ACCLIMATION\">\n",
       " #<PACKAGE \"SB-FORMAT\"> #<PACKAGE \"SB-INTROSPECT\"> #<PACKAGE \"CFFI-FEATURES\">\n",
       " #<PACKAGE \"CFFI-TOOLCHAIN\"> #<PACKAGE \"CL-BASE64-SYSTEM\">\n",
       " #<PACKAGE \"ASDF/FORCING\"> #<PACKAGE \"SB-C\"> #<PACKAGE \"SB-EXT\">\n",
       " #<PACKAGE \"QL-MINITAR\"> #<PACKAGE \"ASDF/PACKAGE-INFERRED-SYSTEM\">\n",
       " #<PACKAGE \"SB-REGALLOC\"> #<PACKAGE \"SB-BROTHERTREE\">\n",
       " #<PACKAGE \"JUPYTER/COMMON-LISP\"> #<PACKAGE \"ASDF/PARSE-DEFSYSTEM\">\n",
       " #<PACKAGE \"ASDF/USER\"> #<PACKAGE \"QL-ALLEGRO\"> #<PACKAGE \"SB-LOCKLESS\">\n",
       " #<PACKAGE \"PURI\"> #<PACKAGE \"JUPYTER/CONVERT\"> #<PACKAGE \"IRONCLAD-SYSTEM\">\n",
       " #<PACKAGE \"QL-CCL\"> #<PACKAGE \"UIOP/UTILITY\"> #<PACKAGE \"SB-WIN32\">\n",
       " #<PACKAGE \"CLOSER-COMMON-LISP\"> #<PACKAGE \"QUICKLISP-CLIENT\">\n",
       " #<PACKAGE \"QL-MEZZANO\"> #<PACKAGE \"QL-ABCL\"> #<PACKAGE \"PURI-SYSTEM\">\n",
       " #<PACKAGE \"QL-CMUCL\"> #<PACKAGE \"ASDF/FOOTER\"> #<PACKAGE \"ASDF/INTERFACE\">\n",
       " #<PACKAGE \"ASDF/SYSTEM-REGISTRY\"> #<PACKAGE \"SB-PCL\"> #<PACKAGE \"QL-IMPL\">\n",
       " #<PACKAGE \"SB-SYS\"> #<PACKAGE \"ASDF/ACTION\"> #<PACKAGE \"QL-CLASP\">\n",
       " #<PACKAGE \"SB-BIGNUM\"> #<PACKAGE \"ASDF/CONCATENATE-SOURCE\">\n",
       " #<PACKAGE \"ASDF/SYSTEM\"> #<PACKAGE \"SB-PROFILE\"> #<PACKAGE \"ASDF/BUNDLE\">\n",
       " #<PACKAGE \"TRIVIAL-GRAY-STREAMS\"> #<PACKAGE \"QL-MKCL\">\n",
       " #<PACKAGE \"ASDF/BACKWARD-INTERFACE\"> #<PACKAGE \"UIOP/PACKAGE\">\n",
       " #<PACKAGE \"STATIC-VECTORS\"> #<PACKAGE \"UIOP/CONFIGURATION\">\n",
       " #<PACKAGE \"MULTILANG-DOCUMENTATION\"> #<PACKAGE \"UIOP/OS\"> #<PACKAGE \"QL-ECL\">\n",
       " #<PACKAGE \"QL-HTTP\"> #<PACKAGE \"SB-ASSEM\"> #<PACKAGE \"SHASHT\">\n",
       " #<PACKAGE \"ECLECTOR.READER\"> #<PACKAGE \"ASDF/UPGRADE\">\n",
       " #<PACKAGE \"SB-BSD-SOCKETS-INTERNAL\"> #<PACKAGE \"QL-GUNZIPPER\">\n",
       " #<PACKAGE \"SB-UNIX\"> #<PACKAGE \"DOCUMENTATION-UTILS\">\n",
       " #<PACKAGE \"TRIVIAL-GARBAGE\"> #<PACKAGE \"NONTRIVIAL-GRAY-STREAMS\">\n",
       " #<PACKAGE \"SB-FASL\"> #<PACKAGE \"SYSTEM-LOCALE\"> #<PACKAGE \"SB-GRAY\">\n",
       " #<PACKAGE \"DISSECT\"> #<PACKAGE \"QL-SCL\"> #<PACKAGE \"ASDF/FIND-SYSTEM\">\n",
       " #<PACKAGE \"COMMON-LISP\"> #<PACKAGE \"SB-SEQUENCE\"> #<PACKAGE \"CL-BASE64\">\n",
       " #<PACKAGE \"IRONCLAD\"> #<PACKAGE \"ECLECTOR.READTABLE\">\n",
       " #<PACKAGE \"QL-DIST-USER\"> #<PACKAGE \"QL-NETWORK\">\n",
       " #<PACKAGE \"UIOP/BACKWARD-DRIVER\"> #<PACKAGE \"ASDF/OPERATE\">\n",
       " #<PACKAGE \"SB-DISASSEM\"> #<PACKAGE \"UIOP/VERSION\">\n",
       " #<PACKAGE \"UIOP/LAUNCH-PROGRAM\"> #<PACKAGE \"COMMON-LISP-USER\">\n",
       " #<PACKAGE \"IRONCLAD-VM\"> #<PACKAGE \"SB-BSD-SOCKETS\"> #<PACKAGE \"QL-LISPWORKS\">\n",
       " #<PACKAGE \"QL-DIST\"> #<PACKAGE \"ASDF/SOURCE-REGISTRY\">\n",
       " #<PACKAGE \"UIOP/FILESYSTEM\"> #<PACKAGE \"JUPYTER\"> #<PACKAGE \"ALEXANDRIA-2\">\n",
       " #<PACKAGE \"PZMQ\"> #<PACKAGE \"LANGUAGE-CODES\"> #<PACKAGE \"GLOBAL-VARS\">\n",
       " #<PACKAGE \"BORDEAUX-THREADS\"> #<PACKAGE \"JUPYTER/LAB-EXTENSION\">\n",
       " #<PACKAGE \"CLOSER-MOP\"> #<PACKAGE \"ASDF/FIND-COMPONENT\">\n",
       " #<PACKAGE \"UIOP/STREAM\"> #<PACKAGE \"ECLECTOR.PARSE-RESULT\">\n",
       " #<PACKAGE \"ASDF/OUTPUT-TRANSLATIONS\"> #<PACKAGE \"QL-IMPL-UTIL\">\n",
       " #<PACKAGE \"UIOP/RUN-PROGRAM\"> #<PACKAGE \"SB-LOOP\"> #<PACKAGE \"SB-UNICODE\">\n",
       " #<PACKAGE \"QL-PROGRESS\"> #<PACKAGE \"SB-INT\"> #<PACKAGE \"ASDF/COMPONENT\">\n",
       " #<PACKAGE \"SB-THREAD\"> #<PACKAGE \"QL-SBCL\">\n",
       " #<PACKAGE \"ECLECTOR.READTABLE.SIMPLE\"> #<PACKAGE \"ASDF/LISP-ACTION\">\n",
       " #<PACKAGE \"UIOP/PATHNAME\"> #<PACKAGE \"IMPL-SPECIFIC-GRAY\">\n",
       " #<PACKAGE \"SB-APROF\"> #<PACKAGE \"INDENTIFY\"> #<PACKAGE \"QL-CLISP\">\n",
       " #<PACKAGE \"ECLECTOR.BASE\"> #<PACKAGE \"SB-POSIX\"> #<PACKAGE \"QL-CONFIG\">\n",
       " #<PACKAGE \"UIOP/LISP-BUILD\"> #<PACKAGE \"QL-UTIL\"> #<PACKAGE \"SB-PRETTY\">\n",
       " #<PACKAGE \"UIOP/DRIVER\"> #<PACKAGE \"BT2\"> #<PACKAGE \"IRONCLAD-TESTS\">\n",
       " #<PACKAGE \"SB-ALIEN-INTERNALS\"> #<PACKAGE \"ASDF/PLAN\">\n",
       " #<PACKAGE \"UIOP/COMMON-LISP\"> #<PACKAGE \"ASDF/BACKWARD-INTERNALS\">\n",
       " #<PACKAGE \"SB-VM\"> #<PACKAGE \"ASDF/SESSION\"> #<PACKAGE \"SB-X86-64-ASM\">\n",
       " #<PACKAGE \"CFFI-SYS\"> #<PACKAGE \"QL-BUNDLE\"> #<PACKAGE \"SB-ALIEN\">\n",
       " #<PACKAGE \"CLOSER-COMMON-LISP-USER\"> #<PACKAGE \"SB-IMPL\">\n",
       " #<PACKAGE \"JUPYTER/MARKDOWN-FORMATTER\"> #<PACKAGE \"TRIVIAL-DO\">\n",
       " #<PACKAGE \"BABEL\"> #<PACKAGE \"SB-DI\">)"
      ]
     },
     "execution_count": 1,
     "metadata": {},
     "output_type": "execute_result"
    }
   ],
   "source": [
    "; returns a fresh list of all registered packages\n",
    "(list-all-packages)"
   ]
  },
  {
   "cell_type": "code",
   "execution_count": null,
   "metadata": {
    "vscode": {
     "languageId": "commonlisp"
    }
   },
   "outputs": [
    {
     "data": {
      "text/plain": [
       "(:GRAY-STREAMS-LINE-LENGTH :GRAY-STREAMS-INTERACTIVE\n",
       " :GRAY-STREAMS-FILE-POSITION/OPTIONAL :GRAY-STREAMS-FILE-POSITION\n",
       " :GRAY-STREAMS-SEQUENCE/OPTIONAL :GRAY-STREAMS-SEQUENCE\n",
       " :GRAY-STREAMS-DIRECTIONP :IRONCLAD-ASSEMBLY :IRONCLAD-SB-VM-EA\n",
       " :IRONCLAD-FAST-MOD64-ARITHMETIC :IRONCLAD-FAST-MOD32-ARITHMETIC :CLOSER-MOP\n",
       " :BORDEAUX-THREADS :GLOBAL-VARS CFFI-FEATURES:FLAT-NAMESPACE\n",
       " CFFI-FEATURES:X86-64 CFFI-FEATURES:WINDOWS :CFFI CFFI-SYS::FLAT-NAMESPACE\n",
       " :WINDOWS ALEXANDRIA::SEQUENCE-EMPTYP :THREAD-SUPPORT :QUICKLISP :ASDF3.3\n",
       " :ASDF3.2 :ASDF3.1 :ASDF3 :ASDF2 :ASDF :OS-WINDOWS :NON-BASE-CHARS-EXIST-P\n",
       " :ASDF-UNICODE :ARENA-ALLOCATOR :X86-64 :GENCGC :64-BIT :ANSI-CL :COMMON-LISP\n",
       " :IEEE-FLOATING-POINT :LITTLE-ENDIAN :PACKAGE-LOCAL-NICKNAMES :SB-LDB\n",
       " :SB-PACKAGE-LOCKS :SB-SAFEPOINT :SB-THREAD :SB-UNICODE :SBCL :WIN32)"
      ]
     },
     "execution_count": 5,
     "metadata": {},
     "output_type": "execute_result"
    }
   ],
   "source": [
    "; features\n",
    "*features*"
   ]
  },
  {
   "cell_type": "code",
   "execution_count": null,
   "metadata": {
    "vscode": {
     "languageId": "commonlisp"
    }
   },
   "outputs": [
    {
     "data": {
      "text/plain": [
       "#P\"d:/GoogleDrive/code/jupyter-notebooks/CommonLisp/\""
      ]
     },
     "execution_count": 6,
     "metadata": {},
     "output_type": "execute_result"
    }
   ],
   "source": [
    "; a pathname, used as the default whenever a function needs a default pathname and one is not supplied.\n",
    "*default-pathname-defaults*"
   ]
  },
  {
   "cell_type": "code",
   "execution_count": 8,
   "metadata": {
    "vscode": {
     "languageId": "commonlisp"
    }
   },
   "outputs": [
    {
     "data": {
      "text/plain": [
       "#P\"CELL:41854328.LISP.NEWEST\""
      ]
     },
     "execution_count": 8,
     "metadata": {},
     "output_type": "execute_result"
    },
    {
     "data": {
      "text/plain": [
       "#P\"C:/Users/zhouj/AppData/Local/Temp/7C24D9A04C0A4F313801ECF03F997FE3-41854328.lisp\""
      ]
     },
     "execution_count": 8,
     "metadata": {},
     "output_type": "execute_result"
    }
   ],
   "source": [
    "*load-pathname*\n",
    "*load-truename*"
   ]
  },
  {
   "cell_type": "markdown",
   "metadata": {},
   "source": [
    "# Inspection"
   ]
  },
  {
   "cell_type": "code",
   "execution_count": null,
   "metadata": {
    "vscode": {
     "languageId": "commonlisp"
    }
   },
   "outputs": [
    {
     "data": {
      "text/plain": [
       "(SB-SEQUENCE:FIND-IF FIND-IF)"
      ]
     },
     "execution_count": 11,
     "metadata": {},
     "output_type": "execute_result"
    },
    {
     "data": {
      "text/plain": [
       "NIL"
      ]
     },
     "execution_count": 11,
     "metadata": {},
     "output_type": "execute_result"
    },
    {
     "data": {
      "text/plain": [
       "(SB-SEQUENCE:FIND-IF FIND-IF)"
      ]
     },
     "execution_count": 11,
     "metadata": {},
     "output_type": "execute_result"
    },
    {
     "data": {
      "text/plain": [
       "FIND-IF"
      ]
     },
     "execution_count": 11,
     "metadata": {},
     "output_type": "execute_result"
    },
    {
     "data": {
      "text/plain": [
       ":INHERITED"
      ]
     },
     "execution_count": 11,
     "metadata": {},
     "output_type": "execute_result"
    },
    {
     "data": {
      "text/plain": [
       "NIL"
      ]
     },
     "execution_count": 11,
     "metadata": {},
     "output_type": "execute_result"
    },
    {
     "data": {
      "text/plain": [
       "NIL"
      ]
     },
     "execution_count": 11,
     "metadata": {},
     "output_type": "execute_result"
    }
   ],
   "source": [
    "; search every registered package for symbols: use string=\n",
    "(find-all-symbols 'find-if)\n",
    "(find-all-symbols \"find-if\") ; not found\n",
    "(find-all-symbols \"FIND-IF\")\n",
    "\n",
    "; locate a symbol. second value: internal, external, inherited(through use-package)\n",
    "(find-symbol \"FIND-IF\")\n",
    "(find-symbol \"find-if\") ; not found"
   ]
  },
  {
   "cell_type": "code",
   "execution_count": 4,
   "metadata": {
    "vscode": {
     "languageId": "commonlisp"
    }
   },
   "outputs": [
    {
     "data": {
      "text/plain": [
       "(FIND-IF SB-SEQUENCE:FIND-IF SB-C::FIND-IF-DERIVE-TYPE-OPTIMIZER\n",
       "         SB-IMPL::FIND-IF-IN-CLOSURE SB-C::FIND-IF-IR2-HOOK-OPTIMIZER\n",
       "         FIND-IF-NOT SB-SEQUENCE:FIND-IF-NOT\n",
       "         SB-C::FIND-IF-NOT-DERIVE-TYPE-OPTIMIZER)"
      ]
     },
     "execution_count": 4,
     "metadata": {},
     "output_type": "execute_result"
    },
    {
     "name": "stdout",
     "output_type": "stream",
     "text": [
      "\n",
      "FIND-IF (fbound)\n",
      "SB-SEQUENCE:FIND-IF (fbound)\n",
      "SB-C::FIND-IF-DERIVE-TYPE-OPTIMIZER (fbound)\n",
      "SB-IMPL::FIND-IF-IN-CLOSURE (fbound)\n",
      "SB-C::FIND-IF-IR2-HOOK-OPTIMIZER (fbound)\n",
      "FIND-IF-NOT (fbound)\n",
      "SB-SEQUENCE:FIND-IF-NOT (fbound)\n",
      "SB-C::FIND-IF-NOT-DERIVE-TYPE-OPTIMIZER (fbound)"
     ]
    }
   ],
   "source": [
    "; search for interned symbols\n",
    "(apropos \"find-if\")\n",
    "\n",
    "(apropos-list \"find-if\")"
   ]
  },
  {
   "cell_type": "code",
   "execution_count": 1,
   "metadata": {
    "vscode": {
     "languageId": "commonlisp"
    }
   },
   "outputs": [
    {
     "data": {
      "text/plain": [
       "T"
      ]
     },
     "execution_count": 1,
     "metadata": {},
     "output_type": "execute_result"
    },
    {
     "data": {
      "text/plain": [
       "\"Hello, Common!\""
      ]
     },
     "execution_count": 1,
     "metadata": {},
     "output_type": "execute_result"
    },
    {
     "data": {
      "text/plain": [
       "NIL"
      ]
     },
     "execution_count": 1,
     "metadata": {},
     "output_type": "execute_result"
    },
    {
     "name": "stdout",
     "output_type": "stream",
     "text": [
      "\n",
      "\"Hello, Common!\" DUMP-SYMBOL [FUNCTION]\n",
      "  \"Dump symbols.\"\n",
      "\n",
      "HELLO-MACRO [MACRO]\n",
      "  \"Demo macro: hello-macro.\"\n",
      "\n",
      "SYMBOL-FUNCTION-OR-NIL [FUNCTION]\n",
      "  COMPILED-FUNCTION\n",
      "\n",
      "HELLO [FUNCTION]\n",
      "  \"Demo function: hello.\"\n",
      "\n"
     ]
    }
   ],
   "source": [
    "(load \"common\")\n",
    "(cl-common:hello)\n",
    "\n",
    "; list all symbols in a specific package\n",
    "(do-external-symbols (s (find-package 'cl-common))\n",
    "  (cl-common:dump-symbol s))"
   ]
  },
  {
   "cell_type": "code",
   "execution_count": null,
   "metadata": {
    "vscode": {
     "languageId": "commonlisp"
    }
   },
   "outputs": [],
   "source": [
    "; Common Lisp exporting symbols from packages\n",
    "; https://stackoverflow.com/questions/9743056/common-lisp-exporting-symbols-from-packages\n",
    "\n",
    "(do-all-symbols (sym (find-package :foo)) (export sym))\n",
    "(let ((pack (find-package :foo)))\n",
    "  (do-all-symbols (sym pack) (when (eql (symbol-package sym) pack) (export sym))))"
   ]
  },
  {
   "cell_type": "markdown",
   "metadata": {},
   "source": [
    "# Packages"
   ]
  },
  {
   "cell_type": "markdown",
   "metadata": {},
   "source": [
    "## On Lisp - Appendix: Packages"
   ]
  },
  {
   "cell_type": "code",
   "execution_count": null,
   "metadata": {
    "vscode": {
     "languageId": "commonlisp"
    }
   },
   "outputs": [
    {
     "data": {
      "text/plain": [
       "#<PACKAGE \"COMMON-LISP-USER\">"
      ]
     },
     "execution_count": 1,
     "metadata": {},
     "output_type": "execute_result"
    }
   ],
   "source": [
    "; current package\n",
    "*package*"
   ]
  },
  {
   "cell_type": "code",
   "execution_count": 2,
   "metadata": {
    "vscode": {
     "languageId": "commonlisp"
    }
   },
   "outputs": [
    {
     "data": {
      "text/plain": [
       "\"COMMON-LISP-USER\""
      ]
     },
     "execution_count": 2,
     "metadata": {},
     "output_type": "execute_result"
    }
   ],
   "source": [
    "; package name: a string\n",
    "(package-name *package*)"
   ]
  },
  {
   "cell_type": "markdown",
   "metadata": {},
   "source": [
    "### Symbol Intern when read"
   ]
  },
  {
   "cell_type": "code",
   "execution_count": 1,
   "metadata": {
    "vscode": {
     "languageId": "commonlisp"
    }
   },
   "outputs": [
    {
     "data": {
      "text/plain": [
       "#<PACKAGE \"COMMON-LISP-USER\">"
      ]
     },
     "execution_count": 1,
     "metadata": {},
     "output_type": "execute_result"
    }
   ],
   "source": [
    "; symbol interned when was read\n",
    "(symbol-package 'foo)"
   ]
  },
  {
   "cell_type": "code",
   "execution_count": 2,
   "metadata": {
    "vscode": {
     "languageId": "commonlisp"
    }
   },
   "outputs": [
    {
     "data": {
      "text/plain": [
       "FOO"
      ]
     },
     "execution_count": 2,
     "metadata": {},
     "output_type": "execute_result"
    },
    {
     "data": {
      "text/plain": [
       ":INTERNAL"
      ]
     },
     "execution_count": 2,
     "metadata": {},
     "output_type": "execute_result"
    }
   ],
   "source": [
    "(find-symbol \"FOO\" *package*)"
   ]
  },
  {
   "cell_type": "code",
   "execution_count": 3,
   "metadata": {
    "vscode": {
     "languageId": "commonlisp"
    }
   },
   "outputs": [
    {
     "data": {
      "text/plain": [
       "99"
      ]
     },
     "execution_count": 3,
     "metadata": {},
     "output_type": "execute_result"
    },
    {
     "name": "stdout",
     "output_type": "stream",
     "text": [
      "SIMPLE-WARNING: undefined variable: COMMON-LISP-USER::FOO\n"
     ]
    }
   ],
   "source": [
    "(setq foo 99)"
   ]
  },
  {
   "cell_type": "markdown",
   "metadata": {},
   "source": [
    "### Switch Packages"
   ]
  },
  {
   "cell_type": "code",
   "execution_count": null,
   "metadata": {
    "vscode": {
     "languageId": "commonlisp"
    }
   },
   "outputs": [
    {
     "data": {
      "text/plain": [
       "#<PACKAGE \"COMMON-LISP-USER\">"
      ]
     },
     "execution_count": 14,
     "metadata": {},
     "output_type": "execute_result"
    },
    {
     "data": {
      "text/plain": [
       "NIL"
      ]
     },
     "execution_count": 14,
     "metadata": {},
     "output_type": "execute_result"
    },
    {
     "data": {
      "text/plain": [
       "#<PACKAGE \"MINE\">"
      ]
     },
     "execution_count": 14,
     "metadata": {},
     "output_type": "execute_result"
    },
    {
     "data": {
      "text/plain": [
       "#<COMMON-LISP:PACKAGE \"MINE\">"
      ]
     },
     "execution_count": 14,
     "metadata": {},
     "output_type": "execute_result"
    },
    {
     "data": {
      "text/plain": [
       "T"
      ]
     },
     "execution_count": 14,
     "metadata": {},
     "output_type": "execute_result"
    }
   ],
   "source": [
    "; switch to a new package, created if necessary\n",
    "; (in-package 'mine :use 'common-lisp) ; ERROR\n",
    "\n",
    "; delete package then make\n",
    "(in-package :cl-user)\n",
    "(if (find-package 'mine)\n",
    "  (delete-package 'mine))\n",
    "(make-package 'mine)\n",
    "\n",
    "(in-package :mine)\n",
    "(cl:use-package 'common-lisp 'mine)"
   ]
  },
  {
   "cell_type": "code",
   "execution_count": 15,
   "metadata": {
    "vscode": {
     "languageId": "commonlisp"
    }
   },
   "outputs": [
    {
     "data": {
      "text/plain": [
       "#<PACKAGE \"MINE\">"
      ]
     },
     "execution_count": 15,
     "metadata": {},
     "output_type": "execute_result"
    }
   ],
   "source": [
    "*package*"
   ]
  },
  {
   "cell_type": "code",
   "execution_count": null,
   "metadata": {
    "vscode": {
     "languageId": "commonlisp"
    }
   },
   "outputs": [
    {
     "name": "stderr",
     "output_type": "stream",
     "text": [
      "UNBOUND-VARIABLE: The variable FOO is unbound.\n",
      "\n"
     ]
    },
    {
     "ename": "UNBOUND-VARIABLE",
     "evalue": "The variable FOO is unbound.",
     "output_type": "error",
     "traceback": [
      "0: ((LAMBDA NIL :IN \"C:/Users/zhouj/AppData/Local/Temp/15729030297944F0A3998BBFCD0ABC8D-2022991849.lisp\"))",
      "1: (JUPYTER/COMMON-LISP::EVAL-AND-PRINT FOO 0 NIL)",
      "2: ((:METHOD JUPYTER:EVALUATE-FORM (JUPYTER/COMMON-LISP:KERNEL T T T)) #<unused argument> #<FORM-TRACKING-STREAM for \"file C:\\\\Users\\\\zhouj\\\\AppData\\\\Local\\\\Temp\\\\15729030297944F0A3998BBFCD0ABC8D-2022991849.lisp\" {1102D6E503}> CELL:2022991849.LISP.NEWEST NIL #<unused argument> #<unused argument>)",
      "3: (JUPYTER/COMMON-LISP::REPL foo CELL:2022991849.LISP.NEWEST NIL)",
      "4: ((:METHOD JUPYTER:EVALUATE-CODE (JUPYTER/COMMON-LISP:KERNEL T)) #<unused argument> foo CELL:2022991849.LISP.NEWEST NIL)",
      "5: (JUPYTER::HANDLE-EXECUTE-REQUEST)",
      "6: (JUPYTER::RUN-SHELL #<KERNEL {11025F0C83}>)",
      "7: ((LABELS BORDEAUX-THREADS::%BINDING-DEFAULT-SPECIALS-WRAPPER :IN BORDEAUX-THREADS::BINDING-DEFAULT-SPECIALS))",
      "8: ((FLET SB-UNIX::BODY :IN SB-THREAD::RUN))",
      "9: ((FLET \"WITHOUT-INTERRUPTS-BODY-\" :IN SB-THREAD::RUN))",
      "10: ((FLET SB-UNIX::BODY :IN SB-THREAD::RUN))",
      "11: ((FLET \"WITHOUT-INTERRUPTS-BODY-\" :IN SB-THREAD::RUN))",
      "12: (SB-THREAD::RUN)",
      "13: (\"foreign function: #x140045B65\")",
      "14: (\"foreign function: #x14000A13A\")"
     ]
    },
    {
     "name": "stdout",
     "output_type": "stream",
     "text": [
      "SIMPLE-WARNING: undefined variable: MINE::FOO\n"
     ]
    }
   ],
   "source": [
    "foo ; interned"
   ]
  },
  {
   "cell_type": "code",
   "execution_count": 17,
   "metadata": {
    "vscode": {
     "languageId": "commonlisp"
    }
   },
   "outputs": [
    {
     "data": {
      "text/plain": [
       "99"
      ]
     },
     "execution_count": 17,
     "metadata": {},
     "output_type": "execute_result"
    },
    {
     "name": "stdout",
     "output_type": "stream",
     "text": [
      "SIMPLE-WARNING: undefined variable: COMMON-LISP-USER::FOO\n"
     ]
    }
   ],
   "source": [
    "cl-user::foo"
   ]
  },
  {
   "cell_type": "markdown",
   "metadata": {},
   "source": [
    "### Export Symbols"
   ]
  },
  {
   "cell_type": "code",
   "execution_count": 20,
   "metadata": {
    "vscode": {
     "languageId": "commonlisp"
    }
   },
   "outputs": [
    {
     "data": {
      "text/plain": [
       "#<PACKAGE \"COMMON-LISP-USER\">"
      ]
     },
     "execution_count": 20,
     "metadata": {},
     "output_type": "execute_result"
    },
    {
     "data": {
      "text/plain": [
       "T"
      ]
     },
     "execution_count": 20,
     "metadata": {},
     "output_type": "execute_result"
    },
    {
     "data": {
      "text/plain": [
       "5"
      ]
     },
     "execution_count": 20,
     "metadata": {},
     "output_type": "execute_result"
    },
    {
     "name": "stdout",
     "output_type": "stream",
     "text": [
      "SIMPLE-WARNING: undefined variable: COMMON-LISP-USER:BAR\n"
     ]
    }
   ],
   "source": [
    "(in-package :cl-user)\n",
    "(export 'bar)\n",
    "(setq bar 5)"
   ]
  },
  {
   "cell_type": "code",
   "execution_count": 22,
   "metadata": {
    "vscode": {
     "languageId": "commonlisp"
    }
   },
   "outputs": [
    {
     "data": {
      "text/plain": [
       "#<PACKAGE \"MINE\">"
      ]
     },
     "execution_count": 22,
     "metadata": {},
     "output_type": "execute_result"
    },
    {
     "data": {
      "text/plain": [
       "5"
      ]
     },
     "execution_count": 22,
     "metadata": {},
     "output_type": "execute_result"
    },
    {
     "name": "stdout",
     "output_type": "stream",
     "text": [
      "SIMPLE-WARNING: undefined variable: COMMON-LISP-USER:BAR\n"
     ]
    }
   ],
   "source": [
    "(in-package :mine)\n",
    "cl-user:bar"
   ]
  },
  {
   "cell_type": "markdown",
   "metadata": {},
   "source": [
    "### Import Symbols"
   ]
  },
  {
   "cell_type": "code",
   "execution_count": 23,
   "metadata": {
    "vscode": {
     "languageId": "commonlisp"
    }
   },
   "outputs": [
    {
     "data": {
      "text/plain": [
       "#<PACKAGE \"MINE\">"
      ]
     },
     "execution_count": 23,
     "metadata": {},
     "output_type": "execute_result"
    },
    {
     "data": {
      "text/plain": [
       "T"
      ]
     },
     "execution_count": 23,
     "metadata": {},
     "output_type": "execute_result"
    },
    {
     "data": {
      "text/plain": [
       "5"
      ]
     },
     "execution_count": 23,
     "metadata": {},
     "output_type": "execute_result"
    },
    {
     "name": "stdout",
     "output_type": "stream",
     "text": [
      "SIMPLE-WARNING: undefined variable: COMMON-LISP-USER:BAR\n"
     ]
    }
   ],
   "source": [
    "*package*\n",
    "(import 'cl-user:bar)\n",
    "bar"
   ]
  },
  {
   "cell_type": "code",
   "execution_count": 25,
   "metadata": {
    "vscode": {
     "languageId": "commonlisp"
    }
   },
   "outputs": [
    {
     "name": "stderr",
     "output_type": "stream",
     "text": [
      "NAME-CONFLICT: IMPORT (COMMON-LISP-USER::FOO) causes name-conflicts in #<PACKAGE \"MINE\">\n",
      "between the following symbols:\n",
      "  MINE::FOO, COMMON-LISP-USER::FOO\n",
      "See also:\n",
      "  The ANSI Standard, Section 11.1.1.2.5\n",
      "\n"
     ]
    },
    {
     "ename": "NAME-CONFLICT",
     "evalue": "IMPORT (COMMON-LISP-USER::FOO) causes name-conflicts in #<PACKAGE \"MINE\">\nbetween the following symbols:\n  MINE::FOO, COMMON-LISP-USER::FOO\nSee also:\n  The ANSI Standard, Section 11.1.1.2.5",
     "output_type": "error",
     "traceback": [
      "0: (SB-EXT:NAME-CONFLICT #<PACKAGE \"MINE\"> IMPORT (FOO) FOO FOO)",
      "1: ((FLET SB-THREAD::WITH-RECURSIVE-LOCK-THUNK :IN IMPORT))",
      "2: ((FLET \"WITHOUT-INTERRUPTS-BODY-\" :IN SB-THREAD::CALL-WITH-RECURSIVE-LOCK))",
      "3: (SB-THREAD::CALL-WITH-RECURSIVE-LOCK #<FUNCTION (FLET SB-THREAD::WITH-RECURSIVE-LOCK-THUNK :IN IMPORT) {478F10B}> #<MUTEX \"Package Graph Lock\" taken owner=SHELL Thread>)",
      "4: (IMPORT FOO #<PACKAGE \"MINE\">)",
      "5: (JUPYTER/COMMON-LISP::EVAL-AND-PRINT (IMPORT (QUOTE FOO)) 0 NIL)",
      "6: ((:METHOD JUPYTER:EVALUATE-FORM (JUPYTER/COMMON-LISP:KERNEL T T T)) #<unused argument> #<FORM-TRACKING-STREAM for \"file C:\\\\Users\\\\zhouj\\\\AppData\\\\Local\\\\Temp\\\\15729030297944F0A3998BBFCD0ABC8D-1125542970.lisp\" {110305B713}> CELL:1125542970.LISP.NEWEST NIL #<unused argument> #<unused argument>)",
      "7: (JUPYTER/COMMON-LISP::REPL ; name conflict\n(import 'cl-user::foo) CELL:1125542970.LISP.NEWEST NIL)",
      "8: ((:METHOD JUPYTER:EVALUATE-CODE (JUPYTER/COMMON-LISP:KERNEL T)) #<unused argument> ; name conflict\n(import 'cl-user::foo) CELL:1125542970.LISP.NEWEST NIL)",
      "9: (JUPYTER::HANDLE-EXECUTE-REQUEST)",
      "10: (JUPYTER::RUN-SHELL #<KERNEL {11025F0C83}>)",
      "11: ((LABELS BORDEAUX-THREADS::%BINDING-DEFAULT-SPECIALS-WRAPPER :IN BORDEAUX-THREADS::BINDING-DEFAULT-SPECIALS))",
      "12: ((FLET SB-UNIX::BODY :IN SB-THREAD::RUN))",
      "13: ((FLET \"WITHOUT-INTERRUPTS-BODY-\" :IN SB-THREAD::RUN))",
      "14: ((FLET SB-UNIX::BODY :IN SB-THREAD::RUN))",
      "15: ((FLET \"WITHOUT-INTERRUPTS-BODY-\" :IN SB-THREAD::RUN))",
      "16: (SB-THREAD::RUN)",
      "17: (\"foreign function: #x140045B65\")",
      "18: (\"foreign function: #x14000A13A\")"
     ]
    }
   ],
   "source": [
    "; name conflict\n",
    "(import 'cl-user::foo)"
   ]
  },
  {
   "cell_type": "code",
   "execution_count": 29,
   "metadata": {
    "vscode": {
     "languageId": "commonlisp"
    }
   },
   "outputs": [
    {
     "data": {
      "text/plain": [
       "#<PACKAGE \"MINE\">"
      ]
     },
     "execution_count": 29,
     "metadata": {},
     "output_type": "execute_result"
    },
    {
     "data": {
      "text/plain": [
       "T"
      ]
     },
     "execution_count": 29,
     "metadata": {},
     "output_type": "execute_result"
    },
    {
     "data": {
      "text/plain": [
       "99"
      ]
     },
     "execution_count": 29,
     "metadata": {},
     "output_type": "execute_result"
    },
    {
     "data": {
      "text/plain": [
       "5"
      ]
     },
     "execution_count": 29,
     "metadata": {},
     "output_type": "execute_result"
    },
    {
     "data": {
      "text/plain": [
       "#<FUNCTION CONS>"
      ]
     },
     "execution_count": 29,
     "metadata": {},
     "output_type": "execute_result"
    },
    {
     "name": "stdout",
     "output_type": "stream",
     "text": [
      "SIMPLE-WARNING: undefined variable: COMMON-LISP-USER::FOO\n",
      "SIMPLE-WARNING: undefined variable: COMMON-LISP-USER:BAR\n"
     ]
    }
   ],
   "source": [
    "; import all symbols\n",
    "*package*\n",
    "(use-package :cl-user)\n",
    "cl-user::foo\n",
    "bar\n",
    "#'cons"
   ]
  },
  {
   "cell_type": "markdown",
   "metadata": {},
   "source": [
    "### Define Packages"
   ]
  },
  {
   "cell_type": "code",
   "execution_count": 35,
   "metadata": {
    "vscode": {
     "languageId": "commonlisp"
    }
   },
   "outputs": [
    {
     "data": {
      "text/plain": [
       "#<PACKAGE \"COMMON-LISP-USER\">"
      ]
     },
     "execution_count": 35,
     "metadata": {},
     "output_type": "execute_result"
    },
    {
     "data": {
      "text/plain": [
       "#<PACKAGE \"MY-APPLICATION\">"
      ]
     },
     "execution_count": 35,
     "metadata": {},
     "output_type": "execute_result"
    },
    {
     "data": {
      "text/plain": [
       "#<PACKAGE \"MY-APPLICATION\">"
      ]
     },
     "execution_count": 35,
     "metadata": {},
     "output_type": "execute_result"
    },
    {
     "data": {
      "text/plain": [
       "WIN"
      ]
     },
     "execution_count": 35,
     "metadata": {},
     "output_type": "execute_result"
    },
    {
     "data": {
      "text/plain": [
       "LOSE"
      ]
     },
     "execution_count": 35,
     "metadata": {},
     "output_type": "execute_result"
    },
    {
     "data": {
      "text/plain": [
       "DRAW"
      ]
     },
     "execution_count": 35,
     "metadata": {},
     "output_type": "execute_result"
    }
   ],
   "source": [
    "; define packages\n",
    "(in-package :cl-user)\n",
    "(defpackage my-application\n",
    "  (:use cl)\n",
    "  (:nicknames app)\n",
    "  (:export win lose draw))\n",
    "(in-package :my-application)\n",
    "\n",
    "(defun win () nil)\n",
    "(defun lose () nil)\n",
    "(defun draw () nil)"
   ]
  },
  {
   "cell_type": "code",
   "execution_count": 36,
   "metadata": {
    "vscode": {
     "languageId": "commonlisp"
    }
   },
   "outputs": [
    {
     "data": {
      "text/plain": [
       "#<PACKAGE \"MINE\">"
      ]
     },
     "execution_count": 36,
     "metadata": {},
     "output_type": "execute_result"
    },
    {
     "data": {
      "text/plain": [
       "#<PACKAGE \"COMMON-LISP-USER\">"
      ]
     },
     "execution_count": 36,
     "metadata": {},
     "output_type": "execute_result"
    },
    {
     "data": {
      "text/plain": [
       "T"
      ]
     },
     "execution_count": 36,
     "metadata": {},
     "output_type": "execute_result"
    }
   ],
   "source": [
    "(in-package :mine)\n",
    "(in-package :cl-user)\n",
    "(export 'bar)"
   ]
  },
  {
   "cell_type": "code",
   "execution_count": 1,
   "metadata": {
    "vscode": {
     "languageId": "commonlisp"
    }
   },
   "outputs": [
    {
     "data": {
      "text/plain": [
       "#<PACKAGE \"COMMON-LISP-USER\">"
      ]
     },
     "execution_count": 1,
     "metadata": {},
     "output_type": "execute_result"
    },
    {
     "data": {
      "text/plain": [
       "#<PACKAGE \"COMMON-LISP-USER\">"
      ]
     },
     "execution_count": 1,
     "metadata": {},
     "output_type": "execute_result"
    },
    {
     "data": {
      "text/plain": [
       "5"
      ]
     },
     "execution_count": 1,
     "metadata": {},
     "output_type": "execute_result"
    },
    {
     "data": {
      "text/plain": [
       "NIL"
      ]
     },
     "execution_count": 1,
     "metadata": {},
     "output_type": "execute_result"
    },
    {
     "data": {
      "text/plain": [
       "#<PACKAGE \"MINE\">"
      ]
     },
     "execution_count": 1,
     "metadata": {},
     "output_type": "execute_result"
    },
    {
     "data": {
      "text/plain": [
       "#<COMMON-LISP:PACKAGE \"MINE\">"
      ]
     },
     "execution_count": 1,
     "metadata": {},
     "output_type": "execute_result"
    },
    {
     "name": "stderr",
     "output_type": "stream",
     "text": [
      "SIMPLE-PACKAGE-ERROR: These symbols are not accessible in the COMMON-LISP-USER package:(MINE::BAR)\n",
      "\n"
     ]
    },
    {
     "ename": "SIMPLE-PACKAGE-ERROR",
     "evalue": "These symbols are not accessible in the COMMON-LISP-USER package:(MINE::BAR)",
     "output_type": "error",
     "traceback": [
      "0: ((FLET SB-THREAD::WITH-RECURSIVE-LOCK-THUNK :IN EXPORT))",
      "1: ((FLET \"WITHOUT-INTERRUPTS-BODY-\" :IN SB-THREAD::CALL-WITH-RECURSIVE-LOCK))",
      "2: (SB-THREAD::CALL-WITH-RECURSIVE-LOCK #<FUNCTION (FLET SB-THREAD::WITH-RECURSIVE-LOCK-THUNK :IN EXPORT) {474F0EB}> #<MUTEX \"Package Graph Lock\" taken owner=SHELL Thread>)",
      "3: (EXPORT BAR #<PACKAGE \"COMMON-LISP-USER\">)",
      "4: ((LAMBDA NIL :IN \"C:/Users/zhouj/AppData/Local/Temp/047438752AC24FA000E04F17E7DE98C9-3357482033.lisp\"))",
      "5: (JUPYTER/COMMON-LISP::EVAL-AND-PRINT (PROGN (IN-PACKAGE CL-USER) (EXPORT (QUOTE BAR))) 6 NIL)",
      "6: ((:METHOD JUPYTER:EVALUATE-FORM (JUPYTER/COMMON-LISP:KERNEL T T T)) #<unused argument> #<FORM-TRACKING-STREAM for \"file C:\\\\Users\\\\zhouj\\\\AppData\\\\Local\\\\Temp\\\\047438752AC24FA000E04F17E7DE98C9-3357482033.lisp\" {1105B78E13}> CELL:3357482033.LISP.NEWEST NIL #<unused argument> #<unused argument>)",
      "7: (JUPYTER/COMMON-LISP::REPL (in-package :cl-user)\n(symbol-package 'bar)\n(setq bar 5)\n\n(if (find-package 'mine)\n  (delete-package 'mine))\n(make-package 'mine)\n\n(in-package :mine)\n(progn (cl:in-package :cl-user)\n       (cl:export 'bar)) CELL:3357482033.LISP.NEWEST NIL)",
      "8: ((:METHOD JUPYTER:EVALUATE-CODE (JUPYTER/COMMON-LISP:KERNEL T)) #<unused argument> (in-package :cl-user)\n(symbol-package 'bar)\n(setq bar 5)\n\n(if (find-package 'mine)\n  (delete-package 'mine))\n(make-package 'mine)\n\n(in-package :mine)\n(progn (cl:in-package :cl-user)\n       (cl:export 'bar)) CELL:3357482033.LISP.NEWEST NIL)",
      "9: (JUPYTER::HANDLE-EXECUTE-REQUEST)",
      "10: (JUPYTER::RUN-SHELL #<KERNEL {1102618C33}>)",
      "11: ((LABELS BORDEAUX-THREADS::%BINDING-DEFAULT-SPECIALS-WRAPPER :IN BORDEAUX-THREADS::BINDING-DEFAULT-SPECIALS))",
      "12: ((FLET SB-UNIX::BODY :IN SB-THREAD::RUN))",
      "13: ((FLET \"WITHOUT-INTERRUPTS-BODY-\" :IN SB-THREAD::RUN))",
      "14: ((FLET SB-UNIX::BODY :IN SB-THREAD::RUN))",
      "15: ((FLET \"WITHOUT-INTERRUPTS-BODY-\" :IN SB-THREAD::RUN))",
      "16: (SB-THREAD::RUN)",
      "17: (\"foreign function: #x140045B65\")",
      "18: (\"foreign function: #x14000A13A\")"
     ]
    },
    {
     "name": "stdout",
     "output_type": "stream",
     "text": [
      "SIMPLE-WARNING: undefined variable: COMMON-LISP-USER::BAR\n",
      "SB-INT:SIMPLE-STYLE-WARNING: undefined function: MINE::PROGN\n"
     ]
    }
   ],
   "source": [
    "(in-package :cl-user)\n",
    "(symbol-package 'bar)\n",
    "(setq bar 5)\n",
    "\n",
    "(if (find-package 'mine)\n",
    "  (delete-package 'mine))\n",
    "(make-package 'mine)\n",
    "\n",
    "(in-package :mine)\n",
    "(progn (cl:in-package :cl-user)\n",
    "       (cl:export 'bar))"
   ]
  },
  {
   "cell_type": "code",
   "execution_count": 3,
   "metadata": {
    "vscode": {
     "languageId": "commonlisp"
    }
   },
   "outputs": [
    {
     "data": {
      "text/plain": [
       "5"
      ]
     },
     "execution_count": 3,
     "metadata": {},
     "output_type": "execute_result"
    },
    {
     "name": "stdout",
     "output_type": "stream",
     "text": [
      "SIMPLE-WARNING: undefined variable: COMMON-LISP-USER::BAR\n"
     ]
    }
   ],
   "source": [
    "cl-user::bar"
   ]
  },
  {
   "cell_type": "markdown",
   "metadata": {},
   "source": [
    "### Keyword Symbols"
   ]
  },
  {
   "cell_type": "code",
   "execution_count": 1,
   "metadata": {
    "vscode": {
     "languageId": "commonlisp"
    }
   },
   "outputs": [
    {
     "data": {
      "text/plain": [
       "#<PACKAGE \"OTHER\">"
      ]
     },
     "execution_count": 1,
     "metadata": {},
     "output_type": "execute_result"
    },
    {
     "data": {
      "text/plain": [
       "#<PACKAGE \"OTHER\">"
      ]
     },
     "execution_count": 1,
     "metadata": {},
     "output_type": "execute_result"
    },
    {
     "data": {
      "text/plain": [
       "NOISE"
      ]
     },
     "execution_count": 1,
     "metadata": {},
     "output_type": "execute_result"
    },
    {
     "data": {
      "text/plain": [
       "OINK"
      ]
     },
     "execution_count": 1,
     "metadata": {},
     "output_type": "execute_result"
    }
   ],
   "source": [
    "(defpackage other\n",
    "  (:use common-lisp)\n",
    "  (:export noise))\n",
    "\n",
    "(in-package :other)\n",
    "\n",
    "(defun noise (animal)\n",
    "  (case animal\n",
    "    (dog 'woof)\n",
    "    (cat 'meow)\n",
    "    (pig 'oink)))\n",
    "\n",
    "(noise 'pig)"
   ]
  },
  {
   "cell_type": "code",
   "execution_count": 3,
   "metadata": {
    "vscode": {
     "languageId": "commonlisp"
    }
   },
   "outputs": [
    {
     "data": {
      "text/plain": [
       "#<PACKAGE \"COMMON-LISP-USER\">"
      ]
     },
     "execution_count": 3,
     "metadata": {},
     "output_type": "execute_result"
    },
    {
     "data": {
      "text/plain": [
       "NIL"
      ]
     },
     "execution_count": 3,
     "metadata": {},
     "output_type": "execute_result"
    }
   ],
   "source": [
    "(in-package :cl-user)\n",
    "(other:noise 'pig)"
   ]
  },
  {
   "cell_type": "code",
   "execution_count": 4,
   "metadata": {
    "vscode": {
     "languageId": "commonlisp"
    }
   },
   "outputs": [
    {
     "data": {
      "text/plain": [
       "T"
      ]
     },
     "execution_count": 4,
     "metadata": {},
     "output_type": "execute_result"
    },
    {
     "data": {
      "text/plain": [
       "#<PACKAGE \"OTHER\">"
      ]
     },
     "execution_count": 4,
     "metadata": {},
     "output_type": "execute_result"
    },
    {
     "data": {
      "text/plain": [
       "#<PACKAGE \"OTHER\">"
      ]
     },
     "execution_count": 4,
     "metadata": {},
     "output_type": "execute_result"
    },
    {
     "data": {
      "text/plain": [
       "NOISE"
      ]
     },
     "execution_count": 4,
     "metadata": {},
     "output_type": "execute_result"
    },
    {
     "data": {
      "text/plain": [
       "#<PACKAGE \"COMMON-LISP-USER\">"
      ]
     },
     "execution_count": 4,
     "metadata": {},
     "output_type": "execute_result"
    },
    {
     "data": {
      "text/plain": [
       ":OINK"
      ]
     },
     "execution_count": 4,
     "metadata": {},
     "output_type": "execute_result"
    }
   ],
   "source": [
    "(if (find-package 'other)\n",
    "  (delete-package 'other))\n",
    "\n",
    "(defpackage other\n",
    "  (:use common-lisp)\n",
    "  (:export noise))\n",
    "\n",
    "(in-package :other)\n",
    "\n",
    "; use keywords\n",
    "(defun noise (animal)\n",
    "  (case animal\n",
    "    (:dog :woof)\n",
    "    (:cat :meow)\n",
    "    (:pig :oink)))\n",
    "\n",
    "(in-package :cl-user)\n",
    "(other:noise :pig)"
   ]
  },
  {
   "cell_type": "markdown",
   "metadata": {},
   "source": [
    "# Profiling"
   ]
  },
  {
   "cell_type": "code",
   "execution_count": 1,
   "metadata": {
    "vscode": {
     "languageId": "commonlisp"
    }
   },
   "outputs": [
    {
     "data": {
      "text/plain": [
       "6"
      ]
     },
     "execution_count": 1,
     "metadata": {},
     "output_type": "execute_result"
    },
    {
     "data": {
      "text/plain": [
       "6"
      ]
     },
     "execution_count": 1,
     "metadata": {},
     "output_type": "execute_result"
    },
    {
     "name": "stdout",
     "output_type": "stream",
     "text": [
      "\n",
      "Evaluation took:\n",
      "  0.000 seconds of real time\n",
      "  0.000002 seconds of total run time (0.000001 user, 0.000001 system)\n",
      "  100.00% CPU\n",
      "  546 processor cycles\n",
      "  0 bytes consed\n",
      "  \n",
      "\n",
      "Evaluation took:\n",
      "  0.000 seconds of real time\n",
      "  0.000001 seconds of total run time (0.000001 user, 0.000000 system)\n",
      "  100.00% CPU\n",
      "  522 processor cycles\n",
      "  0 bytes consed\n",
      "  \n"
     ]
    }
   ],
   "source": [
    "(time (apply #'+ '(1 2 3)))\n",
    "(time (reduce #'+ '(1 2 3)))"
   ]
  },
  {
   "cell_type": "code",
   "execution_count": null,
   "metadata": {
    "vscode": {
     "languageId": "commonlisp"
    }
   },
   "outputs": [],
   "source": [
    "(require :sb-sprof)"
   ]
  }
 ],
 "metadata": {
  "kernelspec": {
   "display_name": "Common Lisp",
   "language": "common-lisp",
   "name": "common-lisp"
  },
  "language_info": {
   "codemirror_mode": "text/x-common-lisp",
   "file_extension": ".lisp",
   "mimetype": "text/x-common-lisp",
   "name": "common-lisp",
   "pygments_lexer": "common-lisp",
   "version": "2.4.10"
  },
  "toc": {
   "base_numbering": 1,
   "nav_menu": {},
   "number_sections": true,
   "sideBar": true,
   "skip_h1_title": false,
   "title_cell": "Table of Contents",
   "title_sidebar": "Contents",
   "toc_cell": false,
   "toc_position": {},
   "toc_section_display": true,
   "toc_window_display": false
  }
 },
 "nbformat": 4,
 "nbformat_minor": 4
}
