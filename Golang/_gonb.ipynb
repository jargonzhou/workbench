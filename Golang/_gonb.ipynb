{
 "cells": [
  {
   "cell_type": "markdown",
   "id": "25f4715b",
   "metadata": {},
   "source": [
    "# GoNB\n",
    "- gonb: GoNB, A Modern Go Kernel for Jupyter 📓Notebooks📓\n",
    "  - https://github.com/janpfeifer/gonb\n",
    "  - https://github.com/janpfeifer/gonb/blob/main/examples/tutorial.ipynb"
   ]
  },
  {
   "cell_type": "code",
   "execution_count": 1,
   "id": "4adc07b9",
   "metadata": {},
   "outputs": [
    {
     "name": "stdout",
     "output_type": "stream",
     "text": [
      "go version go1.22.2 linux/amd64\n"
     ]
    }
   ],
   "source": [
    "!go version"
   ]
  },
  {
   "cell_type": "markdown",
   "id": "cfb5e020",
   "metadata": {},
   "source": [
    "# goproxy\n",
    "* https://goproxy.cn/"
   ]
  },
  {
   "cell_type": "code",
   "execution_count": 1,
   "id": "b5f1f981",
   "metadata": {},
   "outputs": [],
   "source": [
    "!go env -w GO111MODULE=on\n",
    "!go env -w GOPROXY=https://goproxy.cn,direct"
   ]
  },
  {
   "cell_type": "code",
   "execution_count": 2,
   "id": "69fa5852",
   "metadata": {},
   "outputs": [
    {
     "name": "stdout",
     "output_type": "stream",
     "text": [
      "GOPROXY='https://goproxy.cn,direct'\n"
     ]
    }
   ],
   "source": [
    "!go env | grep GOPROXY"
   ]
  },
  {
   "cell_type": "markdown",
   "id": "df0760c8",
   "metadata": {},
   "source": [
    "# Help"
   ]
  },
  {
   "cell_type": "code",
   "execution_count": 2,
   "id": "8f23f622",
   "metadata": {},
   "outputs": [
    {
     "data": {
      "text/markdown": [
       "## GoNB Help Page\n",
       "\n",
       "**GoNB** is a Go kernel that compiles and executes on-the-fly Go code.\n",
       "\n",
       "When executing a cell, **GoNB** will save the cell contents (except non-Go commands see\n",
       "below) into a `main.go` file, compile and execute it.\n",
       "\n",
       "It also saves any global declarations (imports, functions, types, variables, constants)\n",
       "and reuse them at the next cell execution -- so you can define a function in one\n",
       "cell, and reuse in the next one. Just the `func main()` is not reused.\n",
       "\n",
       "A `hello world` example would look like:\n",
       "\n",
       "```go\n",
       "func main() {\n",
       "    fmt.Printf(`Hello world!\\n`);\n",
       "}\n",
       "\n",
       "```\n",
       "\n",
       "But to avoid having to type `func main()` all the time, you can use `%%` and everything\n",
       "after is wrapped inside a `func main() { ... }`. \n",
       "So our revised `hello world` looks like:\n",
       "\n",
       "```go\n",
       "%%\n",
       "fmt.Printf(`Hello world!\\n`)\n",
       "\n",
       "```\n",
       "\n",
       "\n",
       "### Init Functions -- `func init()`\n",
       "\n",
       "Since there is always only one definition per function name, it's not possible for\n",
       "each cell to have its own init() function. \n",
       "Instead, **GoNB** converts any function named `init_something()` to `init()` before \n",
       "compiling and executing. \n",
       "This way each cell can create its own `init_...()` and have it called at every cell execution.\n",
       "\n",
       "\n",
       "### Special non-Go Commands\n",
       "\n",
       "- `%% [<args...>]` or `%main [<args...>]`: Marks the lines as follows to be wrapped in a `func main() {...}` during\n",
       "  execution. A shortcut to quickly execute code. It also automatically includes `flag.Parse()`\n",
       "  as the very first statement. Anything after`%%` or `%main` are taken as arguments\n",
       "  to be passed to the program -- it resets previous values given by `%args`.\n",
       "- `%args <args...>`: Sets arguments to be passed when executing the Go code. This allows one to\n",
       "  use flags as a normal program. Notice that if a value after `%%` or `%main` is given, it will\n",
       "  overwrite the values here.\n",
       "- `%exec <my_func> [<args...>]`: this will call the function `my_func()`, and optionally set the program arguments.\n",
       "  Behind the scenes it creates a trivial `func main()` that parses the flags and calls `my_func()` (without any\n",
       "  parameters or return values).\n",
       "- `%autoget` and `%noautoget`: Default is `%autoget`, which automatically does `go get` for\n",
       "  packages not yet available.\n",
       "- `%cd [<directory>]`: Change current directory of the Go kernel, and the directory from where\n",
       "  the cells are executed. If no directory is given it reports the current directory.\n",
       "- `%env VAR value`: Sets the environment variable VAR to the given value. These variables\n",
       "  will be available both for Go code and for shell scripts.\n",
       "- `%goflags <values...>`: Configures list of extra arguments to pass to `go build` when compiling the\n",
       "  code for execution of a cell.\n",
       "  If no values are given, it simply shows the current setting.\n",
       "  To reset its value, use `%goflags \"\"\"`.\n",
       "  See example on how to use this in the [tutorial](https://github.com/janpfeifer/gonb/blob/main/examples/tutorial.ipynb). \n",
       "- `%with_inputs`: will prompt for inputs for the next shell command. Use this if\n",
       "  the next shell command (`!`) you execute reads the stdin. Jupyter will require\n",
       "  you to enter one last value after the shell script executes.\n",
       "- `%with_password`: will prompt for a password passed to the next shell command.\n",
       "  Do this is if your next shell command requires a password.\n",
       "- `%capture [-a] <file_path>` will make a copy of all **cell execution output** to the given file. By default\n",
       "  it overwrites the file contents each time the cell is executed. Use `-a` instead to append to the file.\n",
       "  It works only for the current cell. See also `%%writefile` to write files with a specific content.\n",
       "  It doesn't work with `%wasm` cells.\n",
       "\n",
       "**Notes**: \n",
       "\n",
       "1. The special commands below can be used in the start of the line as is, or prefixed by a `//gonb:`, which may be easier\n",
       "on some IDEs if editing the code externally (since these special commands are not proper Go). \n",
       "So `//gonb:%%` is the same as `%%` \n",
       "2. All these commands are executed **before** any Go code in the same cell.\n",
       "\n",
       "\n",
       "### Managing Memorized Definitions\n",
       "\n",
       "- `%list` (or `%ls`): Lists all memorized definitions (imports, constants, types, variables and\n",
       "  functions) that are carried from one cell to another.\n",
       "- `%remove <definitions>` (or `%rm <definitions>`): Removes (forgets) given definition(s). Use as key the\n",
       "  value(s) listed with `%ls`.\n",
       "- `%reset [go.mod]` clears all memorized definitions (imports, constants, types, functions, etc.)\n",
       "  as well as re-initializes the `go.mod` file. \n",
       "  If the optional `go.mod` parameter is given, it will re-initialize only the `go.mod` file -- \n",
       "  useful when testing different set up of versions of libraries.\n",
       "\n",
       "\n",
       "### Executing Shell Commands\n",
       "\n",
       "- `!<shell_cmd>`: executes the given command on a new shell. It makes it easy to run\n",
       "  commands on the kernels box, for instance to install requirements, or quickly\n",
       "  check contents of directories or files. Lines ending in `\\` are continued on\n",
       "  the next line -- so multi-line commands can be entered. But each command is\n",
       "  executed in its own shell, that is, variables and state is not carried over.\n",
       "- `!*<shell_cmd>`: same as `!<shell_cmd>` except it first changes directory to\n",
       "  the temporary directory used to compile the go code -- the latest execution\n",
       "  is always saved in the file `main.go`. It's also where the `go.mod` file for\n",
       "  the notebook is created and maintained. Useful for manipulating `go.mod`,\n",
       "  for instance to get a package from some specific version, something\n",
       "  like `!*go get github.com/my/package@v3`.\n",
       "\n",
       "Notice that when the cell is executed, first all shell commands are executed, and only after that, if there is\n",
       "any Go code in the cell, it is executed.\n",
       "\n",
       "### Running a Debugger\n",
       "\n",
       "While **GoNB** doesn't (yet) talk the debug protocol with JupyterLab, it's easy to start a GUI debugger\n",
       "from a cell, if being executed on the same machine as the browser.\n",
       "\n",
       "The common Go debugger recommendation is [delve](https://github.com/go-delve/delve), and in particular its front-end\n",
       "[gdlv](https://github.com/aarzilli/gdlv). And to make it simpler **GoNB** includes a small wrapper script \n",
       "[`ndlv`](https://github.com/janpfeifer/gonb/blob/main/cmd/ndlv/ndlv) to\n",
       "set the directory and program name to the last cell executed. Copy or link that script somewhere in your `PATH`\n",
       "(maybe `${HOME}/bin` if you have such directory set up).\n",
       "\n",
       "To open the debugger, after executing a cell you want to debug, you create and execute a new cell with this single shell command:\n",
       "\n",
       "```\n",
       "!ndlv\n",
       "```\n",
       "\n",
       "### Tracking of Go Files In Development:\n",
       "\n",
       "A convenient way to develop programs or libraries in **GoNB** is to use replace\n",
       "rules in **GoNB**'s `go.mod` to your program or library being developed and test\n",
       "your program from **GoNB** -- see the \n",
       "[Tutorial]((https://github.com/janpfeifer/gonb/blob/main/examples/tutorial.ipynb))'s\n",
       "section \"Developing Go libraries with a notebook\" for different ways of achieving this.\n",
       "\n",
       "To manipulate the list of files tracked for changes:\n",
       "\n",
       "- `%track [file_or_directory]`: add file or directory to list of tracked files,\n",
       "  which are monitored by **GoNB** (and 'gopls') for auto-complete or contextual help.\n",
       "  If no file is given, it lists the currently tracked files.\n",
       "- `%untrack [file_or_directory][...]`: remove file or directory from list of tracked files.\n",
       "  If suffixed with `...` it will remove all files prefixed with the string given (without the\n",
       "  `...`). If no file is given, it lists the currently tracked files.\n",
       "\n",
       "\n",
       "### Environment Variables\n",
       "\n",
       "For convenience, **GoNB** defines the following environment variables -- available for the shell\n",
       "scripts (`!` and `!*`) and for the Go cells:\n",
       "\n",
       "- `GONB_DIR`: the directory where commands are executed from. This can be changed with `%cd`.\n",
       "- `GONB_TMP_DIR`: the directory where the temporary Go code, with the cell code, is stored\n",
       "  and compiled. This is the directory where `!*` scripts are executed. It only changes when a kernel\n",
       "  is restarted, and a new temporary directory is created.\n",
       "- `GONB_PIPE`: is the _named pipe_ directory used to communicate rich content (HTML, images)\n",
       "  to the kernel. Only available for _Go_ cells, and a new one is created at every execution.\n",
       "  This is used by the `**GoNB**ui`` functions described above, and doesn't need to be accessed directly.\n",
       "\n",
       "### Widgets\n",
       "\n",
       "The package `gonbui/widgets` offers widgets that can be used to interact in a more\n",
       "dynamic way, using the HTML element in the browser. E.g.: buttons, sliders.\n",
       "\n",
       "It's not necessary to do anything, but, to help debug the communication system\n",
       "with the front-end, **GoNB** offers a couple of special commands:\n",
       "\n",
       "- `%widgets` - install the javascript needed to communicate with the frontend.\n",
       "  This is usually not needed, since it happens automatically when using Widgets.\n",
       "- `%widgets_hb` - send a _heartbeat_ signal to the front-end and wait for the\n",
       "  reply.\n",
       "  Used for debugging only.\n",
       "\n",
       "### Writing for WASM (WebAssembly) (Experimental)\n",
       "\n",
       "**GoNB** can also compile to WASM and run in the notebook. This is experimental, and likely to change\n",
       "(feedback is very welcome), and can be used to write interactive widgets in Go, in the notebook.\n",
       "\n",
       "When a cell with `%wasm` is executed, a temporary directory is created under the Jupyter root directory\n",
       "called `jupyter_files/<kernel unique id>/` and the cell is compiled to a wasm file and put in that \n",
       "directory.\n",
       "\n",
       "Then **GONB** outputs the javascript needed to run the compiled wam.\n",
       "\n",
       "In the Go code, the following extra constants/variables are created in the global namespace, and can be used\n",
       "in your Go code:\n",
       "\n",
       "- `GonbWasmDir`, `GonbWasmUrl`: the directory and url (served by Jupyter) where the generated `.wasm` files are read.\n",
       "  Potentially, the user can use it to serve other files.\n",
       "  These are unique for the kernel, but shared among cells.\n",
       "- `GonbWasmDivId`: When a `%wasm` cell is executed, an empty `<div id=\"<unique_id>\"></div>`\n",
       "  is created with a unique id -- every cell will have a different one.\n",
       "  This is where the Wasm code can dynamically create content.\n",
       "\n",
       "The following environment variables are set when `%wasm` is created:\n",
       "\n",
       "- `GONB_WASM_SUBDIR`, `GONB_WASM_URL`: the directory and url (served by Jupyter) where the generated `.wasm` files are read.\n",
       "  Potentially, the user can use it to serve other files.\n",
       "  These environment variables are available for shell scripts (`!...` and `!*...` special commands) and non-wasm \n",
       "  programs if they want to serve different files from there.\n",
       "\n",
       "\n",
       "### Writing Tests and Benchmarks\n",
       "\n",
       "If a cell includes the `%test` command (anywhere in cell), it is compiled with `go test`\n",
       "(as opposed to `go build`).\n",
       "This can be very useful both to demonstrate tests, or simply help develop/debug them in a notebook.\n",
       "\n",
       "If `%test` is given without any flags, it uses by default the flags `-test.v` (verbose) and `-test.run` defined\n",
       "with the list of the tests defined in the current cell. \n",
       "That is, it will run only the tests in the current cell. \n",
       "Also, if there are any benchmarks in the current cell, it appends the flag `-test.bench=.` and runs the benchmarks\n",
       "defined in the current cell.\n",
       "\n",
       "Alternatively one can use `%test <flags>`, and the `flags` are passed to the binary compiled with `go test`. \n",
       "Remember that test flags require to be prefixed with `test.`. \n",
       "So for a verbose output, use `%test -test.v`. \n",
       "For benchmarks, run `%test -test.bench=. -test.run=Benchmark`. \n",
       "\n",
       "See examples in the [`gotest.ipynb` notebook here](https://github.com/janpfeifer/gonb/blob/main/examples/tests/gotest.ipynb).\n",
       "\n",
       "\n",
       "### Cell Magic\n",
       "\n",
       "The following are special commands that change how the cell is interpreted, so they are prefixed with `%%` (two '%'\n",
       "symbols). They try to follow [IPython's Cell Magic](https://ipython.readthedocs.io/en/stable/interactive/magics.html#cell-magics).\n",
       "\n",
       "They must always appear as the first line of the cell.\n",
       "\n",
       "The contents in the cells are not assumed to be Go, so auto-complete and contextual help are disabled in those cells.\n",
       "\n",
       "#### `%%writefile`\n",
       "\n",
       "```\n",
       "%%writefile [-a] <filePath>\n",
       "```\n",
       "\n",
       "Write contents of the cell (except the first line with the '%%writefile') to the given `<filePath>`. If `-a` is given\n",
       "it will append the cell contents to the file.\n",
       "\n",
       "This can be handy if for instance the notebook needs to write a configuration file, or simply to dump the code inside\n",
       "the cell into some file.\n",
       "\n",
       "File path passes through a tilde (`~`) expansion to the user's home directory, as well as environment variable substitution (e.g.: `${HOME}` or `$MY_DIR/a/b`).\n",
       "\n",
       "See also `%capture` to instead write the output of the execution of the cell to a file.\n",
       "\n",
       "### `%%script`, `%%bash` and `%%sh`\n",
       "\n",
       "```\n",
       "%%script <command>\n",
       "```\n",
       "\n",
       "Execute `<command>` and feed it (`STDIN`) with the contents of the cell. The `%%bash` and `%%sh` magic is an alias to `%%script bash` and `%%script sh` respectively.\n",
       "\n",
       "Generally, a convenient way to run larger scripts.\n",
       "\n",
       "\n",
       "### Other\n",
       "\n",
       "- `%goworkfix`: work around 'go get' inability to handle 'go.work' files. If you are\n",
       "  using 'go.work' file to point to locally modified modules, consider using this. It creates\n",
       "  'go mod edit --replace' rules to point to the modules pointed to the 'use' rules in 'go.work'\n",
       "  file.\n",
       "  It overwrites/updates 'replace' rules for those modules, if they already exist. See \n",
       "  [tutorial](https://github.com/janpfeifer/gonb/blob/main/examples/tutorial.ipynb) for an example.\n",
       "\n",
       "### Links\n",
       "\n",
       "- [github.com/janpfeifer/gonb](https://github.com/janpfeifer/gonb) - GitHub page.\n",
       "- [Tutorial](https://github.com/janpfeifer/gonb/blob/main/examples/tutorial.ipynb).\n",
       "- [go.dev](https://pkg.go.dev/github.com/janpfeifer/gonb) package reference."
      ]
     },
     "metadata": {},
     "output_type": "display_data"
    }
   ],
   "source": [
    "%help"
   ]
  },
  {
   "cell_type": "markdown",
   "id": "f1713300",
   "metadata": {},
   "source": [
    "# Hello World"
   ]
  },
  {
   "cell_type": "code",
   "execution_count": 2,
   "id": "c487ddbb",
   "metadata": {},
   "outputs": [
    {
     "name": "stdout",
     "output_type": "stream",
     "text": [
      "Hello, world.\n"
     ]
    }
   ],
   "source": [
    "import \"fmt\"\n",
    "\n",
    "func main() {\n",
    "    fmt.Println(\"Hello, world.\")\n",
    "}"
   ]
  },
  {
   "cell_type": "code",
   "execution_count": 3,
   "id": "cd61a6c4",
   "metadata": {},
   "outputs": [
    {
     "name": "stdout",
     "output_type": "stream",
     "text": [
      "Hello, world.\n"
     ]
    }
   ],
   "source": [
    "%%\n",
    "fmt.Println(\"Hello, world.\")"
   ]
  },
  {
   "cell_type": "markdown",
   "id": "97155809",
   "metadata": {},
   "source": [
    "# Shell"
   ]
  },
  {
   "cell_type": "code",
   "execution_count": 5,
   "id": "c20ba096",
   "metadata": {},
   "outputs": [
    {
     "name": "stdout",
     "output_type": "stream",
     "text": [
      "_gonb.ipynb\n"
     ]
    }
   ],
   "source": [
    "!ls"
   ]
  },
  {
   "cell_type": "code",
   "execution_count": 3,
   "id": "23d1f150",
   "metadata": {},
   "outputs": [
    {
     "name": "stdout",
     "output_type": "stream",
     "text": [
      "/usr/bin/zsh\n"
     ]
    }
   ],
   "source": [
    "!echo $SHELL"
   ]
  },
  {
   "cell_type": "code",
   "execution_count": 6,
   "id": "b3fb291d",
   "metadata": {},
   "outputs": [
    {
     "name": "stdout",
     "output_type": "stream",
     "text": [
      "export PATH=\"/home/zhoujiagen/go/bin:$PATH\"\n",
      "export GOPATH=/home/zhoujiagen/go/path\n",
      "export GODEBUG=installgoroot=all\n",
      "export PATH=\"$GOPATH/bin:$PATH\"\n"
     ]
    }
   ],
   "source": [
    "!cat ~/.zshrc | grep -e \"[gG][oO]\""
   ]
  },
  {
   "cell_type": "code",
   "execution_count": 7,
   "id": "114b4ff3",
   "metadata": {},
   "outputs": [
    {
     "name": "stdout",
     "output_type": "stream",
     "text": [
      "/usr/bin/zsh . /home/zhoujiagen/go/path .\n"
     ]
    }
   ],
   "source": [
    "!echo $SHELL \".\" $GOPATH \".\" $GOROOT"
   ]
  },
  {
   "cell_type": "markdown",
   "id": "fa23df88",
   "metadata": {},
   "source": [
    "# Definitions"
   ]
  },
  {
   "cell_type": "code",
   "execution_count": 7,
   "id": "550b1477",
   "metadata": {},
   "outputs": [],
   "source": [
    "func add(a, b int) int {\n",
    "\treturn a + b\n",
    "}\n",
    "\n",
    "type MyInt int"
   ]
  },
  {
   "cell_type": "code",
   "execution_count": 8,
   "id": "08ce2b0e",
   "metadata": {},
   "outputs": [
    {
     "data": {
      "text/html": [
       "<h3>Memorized Definitions</h3>\n"
      ]
     },
     "metadata": {},
     "output_type": "display_data"
    },
    {
     "data": {
      "text/html": [
       "<h4>Imports</h4>\n",
       "<ul>\n",
       "<li><pre>fmt</pre></li>\n",
       "</ul>"
      ]
     },
     "metadata": {},
     "output_type": "display_data"
    },
    {
     "data": {
      "text/html": [
       "<h4>Types</h4>\n",
       "<ul>\n",
       "<li><pre>MyInt</pre></li>\n",
       "</ul>"
      ]
     },
     "metadata": {},
     "output_type": "display_data"
    },
    {
     "data": {
      "text/html": [
       "<h4>Functions</h4>\n",
       "<ul>\n",
       "<li><pre>add</pre></li>\n",
       "</ul>"
      ]
     },
     "metadata": {},
     "output_type": "display_data"
    }
   ],
   "source": [
    "%list"
   ]
  },
  {
   "cell_type": "markdown",
   "id": "bc0f8197",
   "metadata": {},
   "source": [
    "# Test and Benchmark"
   ]
  },
  {
   "cell_type": "code",
   "execution_count": 9,
   "id": "b355898e",
   "metadata": {},
   "outputs": [
    {
     "name": "stdout",
     "output_type": "stream",
     "text": [
      "%goflags=[\"--cover\" \"--covermode=set\"]\n"
     ]
    }
   ],
   "source": [
    "%goflags --cover --covermode=set"
   ]
  },
  {
   "cell_type": "code",
   "execution_count": 6,
   "id": "efc68097",
   "metadata": {},
   "outputs": [
    {
     "name": "stdout",
     "output_type": "stream",
     "text": [
      "55\n",
      "2178309\n",
      "2178309\n"
     ]
    }
   ],
   "source": [
    "import (\n",
    "\t\"math\"\n",
    "\t\"golang.org/x/exp/constraints\"\n",
    ")\n",
    "\n",
    "// Slow\n",
    "func FibonacciA(n int) int {\n",
    "\tif n <= 1 {\n",
    "\t\t\treturn n\n",
    "\t}\n",
    "\treturn FibonacciA(n-1) + FibonacciA(n-2)    \n",
    "}\n",
    "\n",
    "// Fast\n",
    "func FibonacciB(n int) int {\n",
    "\tif n <= 1 {\n",
    "\t\t\treturn n\n",
    "\t}\n",
    "\tfib, fibMinus1 := 1, 0\n",
    "\tfor ii := 2; ii <= n; ii ++ {\n",
    "\t\t\tnewFib := fib + fibMinus1\n",
    "\t\t\tfib, fibMinus1 = newFib, fib\n",
    "\t}\n",
    "\treturn fib\n",
    "}\n",
    "\n",
    "%%\n",
    "fmt.Println(FibonacciA(10))\n",
    "fmt.Println(FibonacciA(32))\n",
    "fmt.Println(FibonacciB(32))"
   ]
  },
  {
   "cell_type": "markdown",
   "id": "278a01ca",
   "metadata": {},
   "source": [
    "## Test"
   ]
  },
  {
   "cell_type": "code",
   "execution_count": 10,
   "id": "7ce4cf50",
   "metadata": {},
   "outputs": [
    {
     "name": "stdout",
     "output_type": "stream",
     "text": [
      "=== RUN   TestA\n",
      "Testing A\n",
      "--- PASS: TestA (0.00s)\n",
      "=== RUN   TestAB\n",
      "Testing AB\n",
      "--- PASS: TestAB (0.00s)\n",
      "=== RUN   TestB\n",
      "Testing B\n",
      "--- PASS: TestB (0.00s)\n",
      "PASS\n",
      "coverage: [no statements]\n"
     ]
    }
   ],
   "source": [
    "import (\n",
    "\t\"github.com/stretchr/testify/require\"\n",
    "\t\"testing\"\n",
    ")\n",
    "\n",
    "func TestA(t *testing.T) {\n",
    "\tfmt.Printf(\"Testing A\\n\")\n",
    "\trequire.Equal(t, 55, FibonacciA(10))\n",
    "}\n",
    "\n",
    "func TestB(t *testing.T) {\n",
    "\tfmt.Printf(\"Testing B\\n\")\n",
    "\trequire.Equal(t, 55, FibonacciB(10))\n",
    "}\n",
    "\n",
    "func TestAB(t *testing.T) {\n",
    "\tfmt.Printf(\"Testing AB\\n\")\n",
    "\trequire.Equal(t, 55, FibonacciA(10))\n",
    "\trequire.Equal(t, 55, FibonacciB(10))\n",
    "}\n",
    "\n",
    "%test"
   ]
  },
  {
   "cell_type": "markdown",
   "id": "5456a0b5",
   "metadata": {},
   "source": [
    "## Benchmark"
   ]
  },
  {
   "cell_type": "code",
   "execution_count": 11,
   "id": "4d6689da",
   "metadata": {},
   "outputs": [
    {
     "name": "stdout",
     "output_type": "stream",
     "text": [
      "goos: linux\n",
      "goarch: amd64\n",
      "pkg: gonb_b8993953\n",
      "cpu: 13th Gen Intel(R) Core(TM) i7-13700H\n",
      "BenchmarkFibonacciA32\n",
      "BenchmarkFibonacciA32-20    \t     153\t   7853919 ns/op\n",
      "BenchmarkFibonacciB32\n",
      "BenchmarkFibonacciB32-20    \t80521435\t        15.26 ns/op\n",
      "PASS\n",
      "coverage: [no statements]\n"
     ]
    }
   ],
   "source": [
    "func BenchmarkFibonacciA32(b *testing.B) {\n",
    "\tfor i := 0; i < b.N; i++ {\n",
    "\t\t\tFibonacciA(32)\n",
    "\t}\n",
    "}\n",
    "\n",
    "func BenchmarkFibonacciB32(b *testing.B) {\n",
    "\tfor i := 0; i < b.N; i++ {\n",
    "\t\t\tFibonacciB(32)\n",
    "\t}\n",
    "}\n",
    "\n",
    "%test"
   ]
  }
 ],
 "metadata": {
  "kernelspec": {
   "display_name": "Go (gonb)",
   "language": "go",
   "name": "gonb"
  },
  "language_info": {
   "codemirror_mode": "",
   "file_extension": ".go",
   "mimetype": "",
   "name": "go",
   "nbconvert_exporter": "",
   "pygments_lexer": "",
   "version": "go1.23.4"
  },
  "toc": {
   "base_numbering": 1,
   "nav_menu": {},
   "number_sections": true,
   "sideBar": true,
   "skip_h1_title": false,
   "title_cell": "Table of Contents",
   "title_sidebar": "Contents",
   "toc_cell": false,
   "toc_position": {},
   "toc_section_display": true,
   "toc_window_display": false
  }
 },
 "nbformat": 4,
 "nbformat_minor": 5
}
