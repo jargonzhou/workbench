{
 "cells": [
  {
   "cell_type": "markdown",
   "metadata": {},
   "source": [
    "# Data Strutures\n",
    "* predeclared types\n",
    "* composite types\n",
    "* control structures\n",
    "* functions\n",
    "* pointers\n",
    "* types, methods, interfaces\n",
    "* [errors.ipynb](./errors.ipynb)\n",
    "* [generics.ipynb](./generics.ipynb)\n",
    "* [concurrency.ipynb](./concurrency.ipynb)\n",
    "* [context.ipynb](./context.ipynb)\n",
    "* [tests.ipynb](./tests.ipynb)\n",
    "* [reflect](./std.ipynb)\n",
    "* [unsafe](./std.ipynb)\n",
    "* cgo"
   ]
  }
 ],
 "metadata": {
  "language_info": {
   "name": "python"
  }
 },
 "nbformat": 4,
 "nbformat_minor": 2
}
