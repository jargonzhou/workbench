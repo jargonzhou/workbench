{
 "cells": [
  {
   "cell_type": "markdown",
   "metadata": {},
   "source": [
    "# Tests\n",
    "* unit test: [Test](../_gonb.ipynb)\n",
    "  * https://pkg.go.dev/testing\n",
    "* benchmark: [Benchmark](../_gonb.ipynb)\n",
    "* integration test\n",
    "* concurrency test"
   ]
  }
 ],
 "metadata": {
  "language_info": {
   "name": "python"
  }
 },
 "nbformat": 4,
 "nbformat_minor": 2
}
