{
 "cells": [
  {
   "cell_type": "markdown",
   "metadata": {},
   "source": [
    "# Standard library\n",
    "* https://pkg.go.dev/std"
   ]
  },
  {
   "cell_type": "markdown",
   "metadata": {},
   "source": [
    "# archive"
   ]
  },
  {
   "cell_type": "markdown",
   "metadata": {},
   "source": [
    "# bufio"
   ]
  },
  {
   "cell_type": "markdown",
   "metadata": {},
   "source": [
    "# builtin"
   ]
  },
  {
   "cell_type": "markdown",
   "metadata": {},
   "source": [
    "# bytes"
   ]
  },
  {
   "cell_type": "code",
   "execution_count": 3,
   "metadata": {},
   "outputs": [
    {
     "name": "stdout",
     "output_type": "stream",
     "text": [
      "-1\n",
      "1\n",
      "0\n"
     ]
    }
   ],
   "source": [
    "// type Ordered interface { ... }\n",
    "\n",
    "import (\n",
    "\t\"cmp\"\n",
    "\t\"fmt\")\n",
    "\n",
    "%%\n",
    "fmt.Println(cmp.Compare(1, 2))\n",
    "fmt.Println(cmp.Compare(2, 1))\n",
    "fmt.Println(cmp.Compare(1, 1))"
   ]
  },
  {
   "cell_type": "markdown",
   "metadata": {},
   "source": [
    "# cmp\n",
    "* https://pkg.go.dev/cmp"
   ]
  },
  {
   "cell_type": "markdown",
   "metadata": {},
   "source": [
    "# compress"
   ]
  },
  {
   "cell_type": "markdown",
   "metadata": {},
   "source": [
    "# container"
   ]
  },
  {
   "cell_type": "markdown",
   "metadata": {},
   "source": [
    "# context\n",
    "* https://pkg.go.dev/context\n",
    "* [context.ipynb](./context.ipynb)"
   ]
  },
  {
   "cell_type": "markdown",
   "metadata": {},
   "source": [
    "# crypto"
   ]
  },
  {
   "cell_type": "markdown",
   "metadata": {},
   "source": [
    "# database"
   ]
  },
  {
   "cell_type": "markdown",
   "metadata": {},
   "source": [
    "# debug"
   ]
  },
  {
   "cell_type": "markdown",
   "metadata": {},
   "source": [
    "# embed"
   ]
  },
  {
   "cell_type": "markdown",
   "metadata": {},
   "source": [
    "# encoding"
   ]
  },
  {
   "cell_type": "markdown",
   "metadata": {},
   "source": [
    "## encoding/json"
   ]
  },
  {
   "cell_type": "code",
   "execution_count": 2,
   "metadata": {},
   "outputs": [
    {
     "name": "stdout",
     "output_type": "stream",
     "text": [
      "=== RUN   TestJSON\n",
      "    main_test.go:42: [\n",
      "          {\n",
      "            \"Title\": \"mivie1\",\n",
      "            \"released\": 1942,\n",
      "            \"Actors\": [\n",
      "              \"H1\",\n",
      "              \"I1\"\n",
      "            ]\n",
      "          },\n",
      "          {\n",
      "            \"Title\": \"mivie2\",\n",
      "            \"released\": 1967,\n",
      "            \"color\": true,\n",
      "            \"Actors\": [\n",
      "              \"S2\",\n",
      "              \"J2\"\n",
      "            ]\n",
      "          }\n",
      "        ]\n",
      "    main_test.go:49: [{mivie1} {mivie2}]\n",
      "--- PASS: TestJSON (0.00s)\n",
      "PASS\n"
     ]
    }
   ],
   "source": [
    "\n",
    "import (\n",
    "\t\"encoding/json\"\n",
    "\t\"testing\"\n",
    ")\n",
    "\n",
    "type Movie struct {\n",
    "\tTitle  string\n",
    "\tYear   int  `json:\"released\"`\n",
    "\tColor  bool `json:\"color,omitempty\"`\n",
    "\tActors []string\n",
    "}\n",
    "\n",
    "var movies = []Movie{\n",
    "\t{Title: \"mivie1\", Year: 1942, Color: false, Actors: []string{\"H1\", \"I1\"}},\n",
    "\t{Title: \"mivie2\", Year: 1967, Color: true, Actors: []string{\"S2\", \"J2\"}},\n",
    "}\n",
    "\n",
    "func TestJSON(t *testing.T) {\n",
    "\t// 序列化\n",
    "\t//data, err := json.Marshal(movies)\n",
    "\tdata, err := json.MarshalIndent(movies, \"\", \"  \")\n",
    "\tif err != nil {\n",
    "\t\tt.Errorf(\"JSON marshaling failed: %s\", err)\n",
    "\t}\n",
    "\tt.Logf(\"%s\\n\", data)\n",
    "\n",
    "\t// 反序列化\n",
    "\tvar titles []struct{ Title string }\n",
    "\tif err := json.Unmarshal(data, &titles); err != nil {\n",
    "\t\tt.Errorf(\"JSON Unmarshal failed: %s\", err)\n",
    "\t}\n",
    "\tt.Log(titles)\n",
    "}\n",
    "\n",
    "%test"
   ]
  },
  {
   "cell_type": "markdown",
   "metadata": {},
   "source": [
    "# errors\n",
    "* [errors.ipynb](./errors.ipynb)"
   ]
  },
  {
   "cell_type": "markdown",
   "metadata": {},
   "source": [
    "# expvar"
   ]
  },
  {
   "cell_type": "markdown",
   "metadata": {},
   "source": [
    "# flag"
   ]
  },
  {
   "cell_type": "markdown",
   "metadata": {},
   "source": [
    "# fmt"
   ]
  },
  {
   "cell_type": "markdown",
   "metadata": {},
   "source": [
    "# hash"
   ]
  },
  {
   "cell_type": "markdown",
   "metadata": {},
   "source": [
    "# html"
   ]
  },
  {
   "cell_type": "markdown",
   "metadata": {},
   "source": [
    "# image"
   ]
  },
  {
   "cell_type": "markdown",
   "metadata": {},
   "source": [
    "# index"
   ]
  },
  {
   "cell_type": "markdown",
   "metadata": {},
   "source": [
    "# io"
   ]
  },
  {
   "cell_type": "markdown",
   "metadata": {},
   "source": [
    "# iter"
   ]
  },
  {
   "cell_type": "markdown",
   "metadata": {},
   "source": [
    "# log\n",
    "* https://pkg.go.dev/log@go1.23.5"
   ]
  },
  {
   "cell_type": "markdown",
   "metadata": {},
   "source": [
    "## log/slog\n",
    "structured logging"
   ]
  },
  {
   "cell_type": "markdown",
   "metadata": {},
   "source": [
    "# maps"
   ]
  },
  {
   "cell_type": "markdown",
   "metadata": {},
   "source": [
    "# math"
   ]
  },
  {
   "cell_type": "markdown",
   "metadata": {},
   "source": [
    "# mine"
   ]
  },
  {
   "cell_type": "markdown",
   "metadata": {},
   "source": [
    "# net"
   ]
  },
  {
   "cell_type": "markdown",
   "metadata": {},
   "source": [
    "## net/http"
   ]
  },
  {
   "cell_type": "code",
   "execution_count": 1,
   "metadata": {},
   "outputs": [
    {
     "name": "stdout",
     "output_type": "stream",
     "text": [
      "=== RUN   TestHTTP\n"
     ]
    },
    {
     "name": "stderr",
     "output_type": "stream",
     "text": [
      "signal: interrupt\n"
     ]
    }
   ],
   "source": [
    "import (\n",
    "\t\"fmt\"\n",
    "\t\"log\"\n",
    "\t\"net/http\"\n",
    "\t\"sync\"\n",
    "\t\"testing\"\n",
    ")\n",
    "\n",
    "var mu sync.Mutex // 信号量, 控制count\n",
    "var count int     // 访问次数\n",
    "\n",
    "func init() {\n",
    "\t// log.SetFlags(log.Ldate | log.Ltime | log.Llongfile)\n",
    "\tlog.SetFlags(log.Ldate | log.Ltime | log.Lshortfile)\n",
    "}\n",
    "\n",
    "func handler(w http.ResponseWriter, r *http.Request) {\n",
    "\tmu.Lock()\n",
    "\tcount++\n",
    "\tmu.Unlock()\n",
    "\n",
    "\tfmt.Fprintf(w, \"URL.Path=%q\\n\", r.URL.Path)\n",
    "\tdebugHandler(w, r)\n",
    "}\n",
    "\n",
    "func debugHandler(w http.ResponseWriter, r *http.Request) {\n",
    "\tfmt.Fprintf(w, \"\\n\\n=== DEBUG === \\n\\n\")\n",
    "\t// method, url, protocol\n",
    "\tfmt.Fprintf(w, \"%s %s %s\\n\", r.Method, r.URL, r.Proto)\n",
    "\t// headers\n",
    "\tfor k, v := range r.Header {\n",
    "\t\tfmt.Fprintf(w, \"Header[%q]=%q\\n\", k, v)\n",
    "\t}\n",
    "\t// host\n",
    "\tfmt.Fprintf(w, \"Host=%q\\n\", r.Host)\n",
    "\t// remote address\n",
    "\tfmt.Fprintf(w, \"RemoteAddr=%q\\n\", r.RemoteAddr)\n",
    "\t// form\n",
    "\tif err := r.ParseForm(); err != nil {\n",
    "\t\tlog.Print(err)\n",
    "\t}\n",
    "\tfor k, v := range r.Form {\n",
    "\t\tfmt.Fprintf(w, \"Form[%q]=%q\", k, v)\n",
    "\t}\n",
    "}\n",
    "\n",
    "func counterHandler(w http.ResponseWriter, r *http.Request) {\n",
    "\tmu.Lock()\n",
    "\tfmt.Fprintf(w, \"Count %d\\n\", count)\n",
    "\tmu.Unlock()\n",
    "\n",
    "\tdebugHandler(w, r)\n",
    "}\n",
    "\n",
    "func TestHTTP(t *testing.T) {\n",
    "\thttp.HandleFunc(\"/\", handler)\n",
    "\thttp.HandleFunc(\"/count\", counterHandler)\n",
    "\tlog.Fatal(http.ListenAndServe(\"localhost:9999\", nil))\n",
    "}\n",
    "\n",
    "%test"
   ]
  },
  {
   "cell_type": "markdown",
   "metadata": {},
   "source": [
    "# os\n",
    "* https://pkg.go.dev/os"
   ]
  },
  {
   "cell_type": "markdown",
   "metadata": {},
   "source": [
    "## os/exec"
   ]
  },
  {
   "cell_type": "markdown",
   "metadata": {},
   "source": [
    "## os/signal\n",
    "* https://gobyexample.com/signals"
   ]
  },
  {
   "cell_type": "markdown",
   "metadata": {},
   "source": [
    "## os/user"
   ]
  },
  {
   "cell_type": "markdown",
   "metadata": {},
   "source": [
    "# path"
   ]
  },
  {
   "cell_type": "markdown",
   "metadata": {},
   "source": [
    "# plugin"
   ]
  },
  {
   "cell_type": "markdown",
   "metadata": {},
   "source": [
    "# reflect\n",
    "* https://pkg.go.dev/reflect"
   ]
  },
  {
   "cell_type": "markdown",
   "metadata": {},
   "source": [
    "# regexp\n",
    "* https://pkg.go.dev/regexp"
   ]
  },
  {
   "cell_type": "markdown",
   "metadata": {},
   "source": [
    "# runtime"
   ]
  },
  {
   "cell_type": "markdown",
   "metadata": {},
   "source": [
    "## runtime/cgo\n",
    "* [tools/_cgo.ipynb](../tools/_cgo.ipynb)"
   ]
  },
  {
   "cell_type": "markdown",
   "metadata": {},
   "source": [
    "## runtime/coverage"
   ]
  },
  {
   "cell_type": "markdown",
   "metadata": {},
   "source": [
    "## runtime/debug"
   ]
  },
  {
   "cell_type": "markdown",
   "metadata": {},
   "source": [
    "## runtime/metrics"
   ]
  },
  {
   "cell_type": "markdown",
   "metadata": {},
   "source": [
    "## runtime/pprof"
   ]
  },
  {
   "cell_type": "markdown",
   "metadata": {},
   "source": [
    "## runtime/race"
   ]
  },
  {
   "cell_type": "markdown",
   "metadata": {},
   "source": [
    "## runtime/trace"
   ]
  },
  {
   "cell_type": "markdown",
   "metadata": {},
   "source": [
    "# slices"
   ]
  },
  {
   "cell_type": "markdown",
   "metadata": {},
   "source": [
    "# sort"
   ]
  },
  {
   "cell_type": "markdown",
   "metadata": {},
   "source": [
    "# strconv"
   ]
  },
  {
   "cell_type": "markdown",
   "metadata": {},
   "source": [
    "# strings"
   ]
  },
  {
   "cell_type": "markdown",
   "metadata": {},
   "source": [
    "# structs"
   ]
  },
  {
   "cell_type": "markdown",
   "metadata": {},
   "source": [
    "# sync\n",
    "* https://pkg.go.dev/sync"
   ]
  },
  {
   "cell_type": "markdown",
   "metadata": {},
   "source": [
    "# syscall\n",
    "* https://pkg.go.dev/syscall"
   ]
  },
  {
   "cell_type": "markdown",
   "metadata": {},
   "source": [
    "# testing\n",
    "* https://pkg.go.dev/testing\n",
    "* [tests.ipynb](./tests.ipynb)"
   ]
  },
  {
   "cell_type": "markdown",
   "metadata": {},
   "source": [
    "# text"
   ]
  },
  {
   "cell_type": "markdown",
   "metadata": {},
   "source": [
    "## text/template\n",
    "* https://pkg.go.dev/text/template"
   ]
  },
  {
   "cell_type": "code",
   "execution_count": 3,
   "metadata": {},
   "outputs": [],
   "source": [
    "// Github\n",
    "\n",
    "\n",
    "import (\n",
    "\t\"encoding/json\"\n",
    "\t\"fmt\"\n",
    "\t\"net/http\"\n",
    "\t\"net/url\"\n",
    "\t\"strings\"\n",
    "\t\"time\"\n",
    ")\n",
    "\n",
    "const (\n",
    "\tIssuesURL = \"https://api.github.com/search/issues\"\n",
    ")\n",
    "\n",
    "type IssueSearchResult struct {\n",
    "\tTotalCount int `json:\"total_count\"`\n",
    "\tItems      []*Issue\n",
    "}\n",
    "\n",
    "// Issue\n",
    "type Issue struct {\n",
    "\tNumber    int\n",
    "\tHTMLURL   string `json:\"html_url\"`\n",
    "\tTitle     string\n",
    "\tState     string\n",
    "\tUser      *User\n",
    "\tCreatedAt time.Time `json:\"created_at\"`\n",
    "\tBody      string    // Markdown格式\n",
    "}\n",
    "\n",
    "// User\n",
    "type User struct {\n",
    "\tLogin   string\n",
    "\tHTMLURL string `json:\"html_url\"`\n",
    "}\n",
    "\n",
    "// SearchIssue\n",
    "func SearchIssue(terms []string) (*IssueSearchResult, error) {\n",
    "\tq := url.QueryEscape(strings.Join(terms, \" \"))\n",
    "\tqueryUrl := IssuesURL + \"?q=\" + q\n",
    "\tfmt.Println(queryUrl)\n",
    "\tresp, err := http.Get(queryUrl)\n",
    "\tif err != nil {\n",
    "\t\treturn nil, err\n",
    "\t}\n",
    "\n",
    "\tif resp.StatusCode != http.StatusOK {\n",
    "\t\tresp.Body.Close()\n",
    "\t\treturn nil, fmt.Errorf(\"search query failed: %s\", resp.Status)\n",
    "\t}\n",
    "\n",
    "\tvar result IssueSearchResult\n",
    "\tif err := json.NewDecoder(resp.Body).Decode(&result); err != nil {\n",
    "\t\tresp.Body.Close()\n",
    "\t\treturn nil, err\n",
    "\t}\n",
    "\tresp.Body.Close()\n",
    "\treturn &result, nil\n",
    "}"
   ]
  },
  {
   "cell_type": "code",
   "execution_count": 4,
   "metadata": {},
   "outputs": [
    {
     "name": "stdout",
     "output_type": "stream",
     "text": [
      "=== RUN   TestTemplate\n",
      "https://api.github.com/search/issues?q=HBase\n",
      "44456 issues:\n",
      "------------------------------------------------\n",
      "Number: 9\n",
      "User: elliVM\n",
      "Title: Implement write to HBase \n",
      "Age: 3 days\n",
      "------------------------------------------------\n",
      "Number: 140\n",
      "User: stuBirdFly\n",
      "Title: hbase support cell TTL\n",
      "Age: 29 days\n",
      "------------------------------------------------\n",
      "Number: 7\n",
      "User: elliVM\n",
      "Title: Implement SQL to HBase data mapping\n",
      "Age: 3 days\n",
      "------------------------------------------------\n",
      "Number: 6\n",
      "User: elliVM\n",
      "Title: Draft WIP: Provide replication feature from Teragrep Mariadb to \n",
      "Age: 9 days\n",
      "------------------------------------------------\n",
      "Number: 18\n",
      "User: renovate[bot]\n",
      "Title: Update dependency org.apache.hbase:hbase-server to v0.99.2\n",
      "Age: 17 days\n",
      "------------------------------------------------\n",
      "Number: 17\n",
      "User: renovate[bot]\n",
      "Title: Update dependency org.apache.hbase:hbase-protocol to v0.99.2\n",
      "Age: 17 days\n",
      "------------------------------------------------\n",
      "Number: 135\n",
      "User: rmdmattingly\n",
      "Title: HBASE-29072 `StochasticLoadBalancer#areReplicasColocated` ignore\n",
      "Age: 2 days\n",
      "------------------------------------------------\n",
      "Number: 16\n",
      "User: renovate[bot]\n",
      "Title: Update dependency org.apache.hbase:hbase-hadoop2-compat to v0.99\n",
      "Age: 18 days\n",
      "------------------------------------------------\n",
      "Number: 15\n",
      "User: renovate[bot]\n",
      "Title: Update dependency org.apache.hbase:hbase-hadoop-compat to v0.99.\n",
      "Age: 18 days\n",
      "------------------------------------------------\n",
      "Number: 107\n",
      "User: JackShi148\n",
      "Title: OBKV Hbase Put compatible to hbase 1.x\n",
      "Age: 70 days\n",
      "------------------------------------------------\n",
      "Number: 6019\n",
      "User: flaming-archer\n",
      "Title: [EPIC] Support Hbase catalog\n",
      "Age: 21 days\n",
      "------------------------------------------------\n",
      "Number: 6\n",
      "User: renovate[bot]\n",
      "Title: Dependency Dashboard\n",
      "Age: 25 days\n",
      "------------------------------------------------\n",
      "Number: 125\n",
      "User: elliVM\n",
      "Title: HBase database POC \n",
      "Age: 52 days\n",
      "------------------------------------------------\n",
      "Number: 124\n",
      "User: elliVM\n",
      "Title: Add HBase dependencies\n",
      "Age: 52 days\n",
      "------------------------------------------------\n",
      "Number: 137\n",
      "User: rmdmattingly\n",
      "Title: HBASE-28513 The StochasticLoadBalancer should support discrete e\n",
      "Age: 0 days\n",
      "------------------------------------------------\n",
      "Number: 45\n",
      "User: javaofferss\n",
      "Title: support hbase jql\n",
      "Age: 49 days\n",
      "------------------------------------------------\n",
      "Number: 1\n",
      "User: yjwww\n",
      "Title: How to adapt to HBase\n",
      "Age: 36 days\n",
      "------------------------------------------------\n",
      "Number: 11\n",
      "User: staging-whitesource-for-github-com[bot]\n",
      "Title: nifi-hbase_2-client-service-2.0.0-SNAPSHOT.jar: 3 vulnerabilitie\n",
      "Age: 2 days\n",
      "------------------------------------------------\n",
      "Number: 613\n",
      "User: github-actions[bot]\n",
      "Title: Maven 4 Test Results: hbase-thirdparty (4.0.0-rc-1)\n",
      "Age: 31 days\n",
      "------------------------------------------------\n",
      "Number: 1893\n",
      "User: github-actions[bot]\n",
      "Title: Maven 4 Test Results: hbase-thirdparty (4.0.0-rc-2)\n",
      "Age: 30 days\n",
      "------------------------------------------------\n",
      "Number: 927\n",
      "User: github-actions[bot]\n",
      "Title: Maven 4 Test Results: hbase-thirdparty (4.0.0-rc-1)\n",
      "Age: 31 days\n",
      "------------------------------------------------\n",
      "Number: 4467\n",
      "User: gsbingo17\n",
      "Title: Feature Request: support SubstringComparator with NOT_EQUAL\n",
      "Age: 12 days\n",
      "------------------------------------------------\n",
      "Number: 141\n",
      "User: stoty\n",
      "Title: HBASE-29077 Redirect spark-connector-it logs to file by default\n",
      "Age: 3 days\n",
      "------------------------------------------------\n",
      "Number: 24\n",
      "User: renovate[bot]\n",
      "Title: Update hbase.version to v2 (major)\n",
      "Age: 17 days\n",
      "------------------------------------------------\n",
      "Number: 1051\n",
      "User: github-actions[bot]\n",
      "Title: Maven 4 Test Results: phoenix (4.0.0-rc-1)\n",
      "Age: 31 days\n",
      "------------------------------------------------\n",
      "Number: 1877\n",
      "User: github-actions[bot]\n",
      "Title: Maven 4 Test Results: hbase-connectors (4.0.0-rc-2)\n",
      "Age: 30 days\n",
      "------------------------------------------------\n",
      "Number: 915\n",
      "User: github-actions[bot]\n",
      "Title: Maven 4 Test Results: hbase-operator-tools (4.0.0-rc-1)\n",
      "Age: 31 days\n",
      "------------------------------------------------\n",
      "Number: 637\n",
      "User: github-actions[bot]\n",
      "Title: Maven 4 Test Results: hbase-operator-tools (4.0.0-rc-1)\n",
      "Age: 31 days\n",
      "------------------------------------------------\n",
      "Number: 910\n",
      "User: github-actions[bot]\n",
      "Title: Maven 4 Test Results: hbase-connectors (4.0.0-rc-1)\n",
      "Age: 31 days\n",
      "------------------------------------------------\n",
      "Number: 1883\n",
      "User: github-actions[bot]\n",
      "Title: Maven 4 Test Results: hbase-operator-tools (4.0.0-rc-2)\n",
      "Age: 30 days\n",
      "--- PASS: TestTemplate (1.19s)\n",
      "PASS\n"
     ]
    }
   ],
   "source": [
    "\n",
    "import (\n",
    "\t\"os\"\n",
    "\t\"testing\"\n",
    "\t\"text/template\"\n",
    "\t\"time\"\n",
    "\n",
    "\t// \"github.com/zhoujiagen/examples/github\"\n",
    ")\n",
    "\n",
    "// 展示了模板语言: 动作, 循环, 函数\n",
    "const textTemplate = `{{.TotalCount}} issues:\n",
    "{{range .Items}}------------------------------------------------\n",
    "Number: {{.Number}}\n",
    "User: {{.User.Login}}\n",
    "Title: {{.Title | printf \"%.64s\"}}\n",
    "Age: {{.CreatedAt | daysAgo}} days\n",
    "{{end}}`\n",
    "\n",
    "func daysAgo(t time.Time) int {\n",
    "\treturn int(time.Since(t).Hours() / 24)\n",
    "}\n",
    "\n",
    "var textReport = template.Must(template.New(\"issuelist\").\n",
    "\tFuncs(template.FuncMap{\"daysAgo\": daysAgo}).\n",
    "\tParse(textTemplate))\n",
    "\n",
    "func TestTemplate(t *testing.T) {\n",
    "\tterms := []string{\"HBase\"}\n",
    "\t// result, err := github.SearchIssue(terms)\n",
    "\tresult, err := SearchIssue(terms)\n",
    "\tif err != nil {\n",
    "\t\tt.Error(err)\n",
    "\t}\n",
    "\n",
    "\tif err := textReport.Execute(os.Stdout, result); err != nil {\n",
    "\t\tt.Error(err)\n",
    "\t}\n",
    "}\n",
    "\n",
    "%test"
   ]
  },
  {
   "cell_type": "markdown",
   "metadata": {},
   "source": [
    "# time\n",
    "* https://pkg.go.dev/time"
   ]
  },
  {
   "cell_type": "markdown",
   "metadata": {},
   "source": [
    "# unicode"
   ]
  },
  {
   "cell_type": "markdown",
   "metadata": {},
   "source": [
    "# unique"
   ]
  },
  {
   "cell_type": "markdown",
   "metadata": {},
   "source": [
    "# unsafe\n",
    "* https://pkg.go.dev/unsafe"
   ]
  }
 ],
 "metadata": {
  "kernelspec": {
   "display_name": "Go (gonb)",
   "language": "go",
   "name": "gonb"
  },
  "language_info": {
   "codemirror_mode": "",
   "file_extension": ".go",
   "mimetype": "",
   "name": "go",
   "nbconvert_exporter": "",
   "pygments_lexer": "",
   "version": "go1.23.4"
  }
 },
 "nbformat": 4,
 "nbformat_minor": 2
}
