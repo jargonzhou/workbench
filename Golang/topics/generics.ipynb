{
 "cells": [
  {
   "cell_type": "markdown",
   "metadata": {},
   "source": [
    "# Generics"
   ]
  },
  {
   "cell_type": "code",
   "execution_count": 1,
   "metadata": {},
   "outputs": [
    {
     "name": "stdout",
     "output_type": "stream",
     "text": [
      "go version go1.22.2 linux/amd64\n"
     ]
    }
   ],
   "source": [
    "!go version"
   ]
  },
  {
   "cell_type": "markdown",
   "metadata": {},
   "source": [
    "# `any`"
   ]
  },
  {
   "cell_type": "code",
   "execution_count": 2,
   "metadata": {},
   "outputs": [
    {
     "name": "stdout",
     "output_type": "stream",
     "text": [
      "&{5 <nil> <nil>}\n"
     ]
    },
    {
     "name": "stderr",
     "output_type": "stream",
     "text": [
      "panic: interface conversion: interface {} is main.OrderableInt, not string\n",
      "\n",
      "goroutine 1 [running]:\n",
      "main.OrderableString.Order(...)\n",
      "\t \u001b[7m[[ Cell [2] Line 42 ]]\u001b[0m /tmp/gonb_f7089ad0/main.go:24\n",
      "main.(*Tree).Insert(0xc000130000, {0x4cb498, 0x4caec0})\n",
      "\t \u001b[7m[[ Cell [2] Line 20 ]]\u001b[0m /tmp/gonb_f7089ad0/main.go:32 +0x4d\n",
      "main.main()\n",
      "\t \u001b[7m[[ Cell [2] Line 49 ]]\u001b[0m /tmp/gonb_f7089ad0/main.go:48 +0xd1\n",
      "exit status 2\n"
     ]
    }
   ],
   "source": [
    "import \"strings\"\n",
    "import \"fmt\"\n",
    "\n",
    "// example in 'Learning Go'\n",
    "\n",
    "type Orderable interface {\n",
    "\tOrder(any) int // any\n",
    "}\n",
    "\n",
    "type Tree struct {\n",
    "\tval Orderable\n",
    "\tleft, right *Tree\n",
    "}\n",
    "\n",
    "func (t *Tree) Insert(val Orderable) *Tree {\n",
    "\tif t == nil {\n",
    "\t\treturn &Tree{val: val}\n",
    "\t}\n",
    "\n",
    "\tswitch comp := val.Order(t.val); {\n",
    "\tcase comp < 0:\n",
    "\t\tt.left = t.left.Insert(val)\n",
    "\tcase comp > 0:\n",
    "\t\tt.right = t.right.Insert(val)\n",
    "\t}\n",
    "\n",
    "\treturn t\n",
    "}\n",
    "\n",
    "// int\n",
    "type OrderableInt int\n",
    "\n",
    "func (oi OrderableInt) Order(val any) int {\n",
    "\treturn int(oi - val.(OrderableInt))\n",
    "}\n",
    "\n",
    "// string\n",
    "\n",
    "type OrderableString string\n",
    "\n",
    "func (os OrderableString) Order(val any) int {\n",
    "\treturn strings.Compare(string(os), val.(string))\n",
    "}\n",
    "\n",
    "%%\n",
    "var it *Tree\n",
    "it = it.Insert(OrderableInt(5))\n",
    "fmt.Printf(\"%v\\n\", it)\n",
    "it = it.Insert(OrderableString(\"nope\"))\n",
    "fmt.Printf(\"%v\\n\", it)"
   ]
  },
  {
   "cell_type": "markdown",
   "metadata": {},
   "source": [
    "# `Stack[T any]`"
   ]
  },
  {
   "cell_type": "code",
   "execution_count": 3,
   "metadata": {},
   "outputs": [
    {
     "name": "stdout",
     "output_type": "stream",
     "text": [
      "30 true\n",
      "{[10 20]}\n"
     ]
    }
   ],
   "source": [
    "// example in 'Learning Go'\n",
    "\n",
    "// type paramter: T\n",
    "// type constraint: any\n",
    "type Stack[T any] struct {\n",
    "\tvals []T\n",
    "}\n",
    "\n",
    "func (s *Stack[T]) Push(val T) {\n",
    "\ts.vals = append(s.vals, val)\n",
    "}\n",
    "\n",
    "func (s *Stack[T]) Pop() (T, bool) {\n",
    "\tif len(s.vals) == 0 {\n",
    "\t\tvar zero T\n",
    "\t\treturn zero, false\n",
    "\t}\n",
    "\ttop := s.vals[len(s.vals) - 1]\n",
    "\ts.vals = s.vals[:len(s.vals) - 1]\n",
    "\treturn top, true\n",
    "}\n",
    "\n",
    "%%\n",
    "var intStack Stack[int]\n",
    "intStack.Push(10)\n",
    "intStack.Push(20)\n",
    "intStack.Push(30)\n",
    "v, ok := intStack.Pop()\n",
    "fmt.Println(v, ok)\n",
    "fmt.Printf(\"%v\\n\", intStack)"
   ]
  },
  {
   "cell_type": "code",
   "execution_count": 4,
   "metadata": {},
   "outputs": [
    {
     "data": {
      "text/html": [
       "\n",
       "<style>\n",
       ".gonb-err-location {\n",
       "\tbackground: var(--jp-err-color2);  \n",
       "\tborder-radius: 3px;\n",
       "\tborder-style: dotted;\n",
       "\tborder-width: 1px;\n",
       "\tborder-color: var(--jp-border-color2);\n",
       "}\n",
       ".gonb-err-location:hover {\n",
       "\tborder-width: 2px;\n",
       "\tborder-style: solid;\n",
       "\tborder-color: var(--jp-border-color2);\n",
       "}\n",
       ".gonb-err-context {\n",
       "\tdisplay: none;\n",
       "}\n",
       ".gonb-err-location:hover + .gonb-err-context {\n",
       "\tbackground: var(--jp-dialog-background);  \n",
       "\tborder-radius: 3px;\n",
       "\tborder-style: solid;\n",
       "\tborder-width: 1px;\n",
       "\tborder-color: var(--jp-border-color2);\n",
       "\tdisplay: block;\n",
       "\twhite-space: pre;\n",
       "\tfont-family: monospace;\n",
       "}\n",
       ".gonb-err-line {\n",
       "\tborder-radius: 3px;\n",
       "\tborder-style: dotted;\n",
       "\tborder-width: 1px;\t\n",
       "\tborder-color: var(--jp-border-color2);\n",
       "\tbackground-color: var(--jp-rendermime-err-background);\n",
       "\tfont-weight: bold;\n",
       "}\n",
       ".gonb-cell-line-info {\n",
       "\tbackground: var(--jp-layout-color2);\n",
       "\tcolor: #999;\n",
       "\tmargin: 0.1em;\n",
       "\tborder: 1px solid var(--jp-border-color1);\n",
       "\tpadding-left: 0.2em;\n",
       "\tpadding-right: 0.2em;\n",
       "}\n",
       "</style>\n",
       "<div class=\"lm-Widget p-Widget lm-Panel p-Panel jp-OutputArea-child\">\n",
       "<div class=\"lm-Widget p-Widget jp-RenderedText jp-mod-trusted jp-OutputArea-output\" data-mime-type=\"application/vnd.jupyter.stderr\" style=\"font-family: monospace;\">\n",
       "\n",
       "\n",
       "<span style=\"white-space: pre;\"> # gonb_f7089ad0</span>\n",
       "\n",
       "<br/>\n",
       "\n",
       "<span class=\"gonb-cell-line-info\">Cell[4]: Line 3</span>\n",
       "<span class=\"gonb-err-location\">./main.go:62:15: </span> cannot use \"nope\" (untyped string constant) as int value in argument to intStack.Push\n",
       "<div class=\"gonb-err-context\">\n",
       "func main() {\n",
       "\tflag.Parse()\n",
       "var intStack Stack[int]\n",
       "<div class=\"gonb-err-line\">intStack.Push(&#34;nope&#34;)\n",
       "</div>\n",
       "}\n",
       "\n",
       "</div>\n",
       "\n",
       "<br/>\n",
       "\n",
       "\n",
       "<span style=\"white-space: pre;\"> </span>\n",
       "\n",
       "<br/>\n",
       "\n",
       "</div>\n"
      ]
     },
     "metadata": {},
     "output_type": "display_data"
    },
    {
     "ename": "ERROR",
     "evalue": "failed to run \"/home/zhoujiagen/go/bin/go build -o /tmp/gonb_f7089ad0/gonb_f7089ad0\": exit status 1",
     "output_type": "error",
     "traceback": [
      "failed to run \"/home/zhoujiagen/go/bin/go build -o /tmp/gonb_f7089ad0/gonb_f7089ad0\": exit status 1"
     ]
    }
   ],
   "source": [
    "%%\n",
    "var intStack Stack[int]\n",
    "intStack.Push(\"nope\")"
   ]
  },
  {
   "cell_type": "code",
   "execution_count": 5,
   "metadata": {},
   "outputs": [
    {
     "data": {
      "text/html": [
       "\n",
       "<style>\n",
       ".gonb-err-location {\n",
       "\tbackground: var(--jp-err-color2);  \n",
       "\tborder-radius: 3px;\n",
       "\tborder-style: dotted;\n",
       "\tborder-width: 1px;\n",
       "\tborder-color: var(--jp-border-color2);\n",
       "}\n",
       ".gonb-err-location:hover {\n",
       "\tborder-width: 2px;\n",
       "\tborder-style: solid;\n",
       "\tborder-color: var(--jp-border-color2);\n",
       "}\n",
       ".gonb-err-context {\n",
       "\tdisplay: none;\n",
       "}\n",
       ".gonb-err-location:hover + .gonb-err-context {\n",
       "\tbackground: var(--jp-dialog-background);  \n",
       "\tborder-radius: 3px;\n",
       "\tborder-style: solid;\n",
       "\tborder-width: 1px;\n",
       "\tborder-color: var(--jp-border-color2);\n",
       "\tdisplay: block;\n",
       "\twhite-space: pre;\n",
       "\tfont-family: monospace;\n",
       "}\n",
       ".gonb-err-line {\n",
       "\tborder-radius: 3px;\n",
       "\tborder-style: dotted;\n",
       "\tborder-width: 1px;\t\n",
       "\tborder-color: var(--jp-border-color2);\n",
       "\tbackground-color: var(--jp-rendermime-err-background);\n",
       "\tfont-weight: bold;\n",
       "}\n",
       ".gonb-cell-line-info {\n",
       "\tbackground: var(--jp-layout-color2);\n",
       "\tcolor: #999;\n",
       "\tmargin: 0.1em;\n",
       "\tborder: 1px solid var(--jp-border-color1);\n",
       "\tpadding-left: 0.2em;\n",
       "\tpadding-right: 0.2em;\n",
       "}\n",
       "</style>\n",
       "<div class=\"lm-Widget p-Widget lm-Panel p-Panel jp-OutputArea-child\">\n",
       "<div class=\"lm-Widget p-Widget jp-RenderedText jp-mod-trusted jp-OutputArea-output\" data-mime-type=\"application/vnd.jupyter.stderr\" style=\"font-family: monospace;\">\n",
       "\n",
       "\n",
       "<span style=\"white-space: pre;\"> # gonb_f7089ad0</span>\n",
       "\n",
       "<br/>\n",
       "\n",
       "<span class=\"gonb-cell-line-info\">Cell[5]: Line 3</span>\n",
       "<span class=\"gonb-err-location\">./main.go:60:6: </span> invalid operation: v == val (incomparable types in type set)\n",
       "<div class=\"gonb-err-context\">\n",
       "\n",
       "func (s Stack[T]) Contains(val T) bool {\n",
       "\tfor _,v := range(s.vals) {\n",
       "<div class=\"gonb-err-line\">\t\tif v == val {\n",
       "</div>\t\t\treturn true\n",
       "\t\t}\n",
       "\n",
       "</div>\n",
       "\n",
       "<br/>\n",
       "\n",
       "\n",
       "<span style=\"white-space: pre;\"> </span>\n",
       "\n",
       "<br/>\n",
       "\n",
       "</div>\n"
      ]
     },
     "metadata": {},
     "output_type": "display_data"
    },
    {
     "ename": "ERROR",
     "evalue": "failed to run \"/home/zhoujiagen/go/bin/go build -o /tmp/gonb_f7089ad0/gonb_f7089ad0\": exit status 1",
     "output_type": "error",
     "traceback": [
      "failed to run \"/home/zhoujiagen/go/bin/go build -o /tmp/gonb_f7089ad0/gonb_f7089ad0\": exit status 1"
     ]
    }
   ],
   "source": [
    "func (s Stack[T]) Contains(val T) bool {\n",
    "\tfor _,v := range(s.vals) {\n",
    "\t\tif v == val {\n",
    "\t\t\treturn true\n",
    "\t\t}\n",
    "\t}\n",
    "\treturn false\n",
    "}"
   ]
  },
  {
   "cell_type": "code",
   "execution_count": 6,
   "metadata": {},
   "outputs": [
    {
     "name": "stdout",
     "output_type": "stream",
     "text": [
      "true\n",
      "false\n"
     ]
    }
   ],
   "source": [
    "import \"fmt\"\n",
    "\n",
    "type Stack2[T comparable] struct { // comparable interface\n",
    "\tvals []T\n",
    "}\n",
    "\n",
    "func (s *Stack2[T]) Push(val T) {\n",
    "\ts.vals = append(s.vals, val)\n",
    "}\n",
    "\n",
    "func (s *Stack2[T]) Pop() (T, bool) {\n",
    "\tif len(s.vals) == 0 {\n",
    "\t\tvar zero T\n",
    "\t\treturn zero, false\n",
    "\t}\n",
    "\ttop := s.vals[len(s.vals) - 1]\n",
    "\ts.vals = s.vals[:len(s.vals) - 1]\n",
    "\treturn top, true\n",
    "}\n",
    "\n",
    "func (s Stack2[T]) Contains(val T) bool {\n",
    "\tfor _,v := range(s.vals) {\n",
    "\t\tif v == val {\n",
    "\t\t\treturn true\n",
    "\t\t}\n",
    "\t}\n",
    "\treturn false\n",
    "}\n",
    "\n",
    "%%\n",
    "var s Stack2[int]\n",
    "s.Push(10)\n",
    "s.Push(20)\n",
    "s.Push(30)\n",
    "fmt.Println(s.Contains(10))\n",
    "fmt.Println(s.Contains(5))"
   ]
  },
  {
   "cell_type": "markdown",
   "metadata": {},
   "source": [
    "# generic functions"
   ]
  },
  {
   "cell_type": "code",
   "execution_count": 7,
   "metadata": {},
   "outputs": [
    {
     "name": "stdout",
     "output_type": "stream",
     "text": [
      "[One Two]\n",
      "[3 3]\n",
      "6\n"
     ]
    }
   ],
   "source": [
    "// example in 'Learning Go'\n",
    "import \"fmt\"\n",
    "\n",
    "func Map[T1, T2 any](s []T1, f func(T1) T2) []T2 {\n",
    "\tr := make([]T2, len(s))\n",
    "\tfor i,v := range s {\n",
    "\t\tr[i] = f(v)\n",
    "\t}\n",
    "\treturn r\n",
    "}\n",
    "\n",
    "func Reduce[T1, T2 any](s []T1, initializer T2, f func(T2, T1) T2) T2 {\n",
    "\tr := initializer\n",
    "\tfor _, v := range s {\n",
    "\t\tr = f(r, v)\n",
    "\t}\n",
    "\treturn r\n",
    "}\n",
    "\n",
    "func Filter[T any](s []T, f func(T) bool) []T {\n",
    "\tvar r []T\n",
    "\tfor _, v := range s {\n",
    "\t\tif f(v) {\n",
    "\t\t\tr = append(r, v)\n",
    "\t\t}\n",
    "\t}\n",
    "\treturn r\n",
    "}\n",
    "\n",
    "%% \n",
    "words := []string{\"One\", \"Potato\", \"Two\", \"Potato\"}\n",
    "filtered := Filter(words, func(s string) bool {\n",
    "\treturn s != \"Potato\"\n",
    "})\n",
    "fmt.Println(filtered)\n",
    "lengths := Map(filtered, func(s string) int {\n",
    "\treturn len(s)\n",
    "})\n",
    "fmt.Println(lengths)\n",
    "sum := Reduce(lengths, 0, func(acc int, val int) int {\n",
    "\treturn acc + val\n",
    "})\n",
    "fmt.Println(sum)"
   ]
  },
  {
   "cell_type": "markdown",
   "metadata": {},
   "source": [
    "# generics and interfaces"
   ]
  },
  {
   "cell_type": "code",
   "execution_count": 8,
   "metadata": {},
   "outputs": [
    {
     "name": "stdout",
     "output_type": "stream",
     "text": [
      "{{1,1} {5,5}}\n",
      "{{10,10,10} {11,5,0}}\n"
     ]
    }
   ],
   "source": [
    "// example in 'Learning Go'\n",
    "import (\n",
    "\t\"fmt\"\n",
    "\t\"math\"\n",
    ")\n",
    "\n",
    "type Pair[T fmt.Stringer] struct {\n",
    "\tVal1 T\n",
    "\tVal2 T\n",
    "}\n",
    "\n",
    "// interface with type parameters\n",
    "type Differ[T any] interface {\n",
    "\tfmt.Stringer\n",
    "\tDiff(T) float64\n",
    "}\n",
    "\n",
    "func FindCloser[T Differ[T]](pair1, pair2 Pair[T]) Pair[T] {\n",
    "\td1 := pair1.Val1.Diff(pair1.Val2)\n",
    "\td2 := pair2.Val1.Diff(pair2.Val2)\n",
    "\tif d1 < d2 {\n",
    "\t\treturn pair1\n",
    "\t}\n",
    "\treturn pair2\n",
    "}\n",
    "\n",
    "// implementation\n",
    "\n",
    "type Point2D struct {\n",
    "\tX, Y int\n",
    "}\n",
    "\n",
    "func (p2 Point2D) String() string {\n",
    "\treturn fmt.Sprintf(\"{%d,%d}\", p2.X, p2.Y)\n",
    "}\n",
    "\n",
    "func (p2 Point2D) Diff(from Point2D) float64 {\n",
    "\tx := p2.X - from.X\n",
    "\ty := p2.Y - from.Y\n",
    "\treturn math.Sqrt(float64(x*x) + float64(y*y))\n",
    "}\n",
    "\n",
    "type Point3D struct {\n",
    "\tX,Y,Z int\n",
    "}\n",
    "\n",
    "func (p3 Point3D) String() string {\n",
    "\treturn fmt.Sprintf(\"{%d,%d,%d}\", p3.X, p3.Y, p3.Z)\n",
    "}\n",
    "\n",
    "func (p3 Point3D) Diff(from Point3D) float64 {\n",
    "\tx := p3.X - from.X\n",
    "\ty := p3.Y - from.Y\n",
    "\tz := p3.Z - from.Z\n",
    "\treturn math.Sqrt(float64(x*x) + float64(y*y) + float64(z*z))\n",
    "}\n",
    "\n",
    "%%\n",
    "pair2Da := Pair[Point2D]{Point2D{1,1}, Point2D{5,5}}\n",
    "pair2Db := Pair[Point2D]{Point2D{10,10}, Point2D{15,5}}\n",
    "closer := FindCloser(pair2Da, pair2Db)\n",
    "fmt.Println(closer)\n",
    "\n",
    "pair3Da := Pair[Point3D]{Point3D{1,1,10}, Point3D{5,5,0}}\n",
    "pair3Db := Pair[Point3D]{Point3D{10,10,10}, Point3D{11,5,0}}\n",
    "closer2 := FindCloser(pair3Da, pair3Db)\n",
    "fmt.Println(closer2)"
   ]
  },
  {
   "cell_type": "markdown",
   "metadata": {},
   "source": [
    "# type terms"
   ]
  },
  {
   "cell_type": "code",
   "execution_count": 9,
   "metadata": {},
   "outputs": [
    {
     "name": "stdout",
     "output_type": "stream",
     "text": [
      "1 9223372036854775807 <nil>\n",
      "0 10 <nil>\n"
     ]
    }
   ],
   "source": [
    "import (\n",
    "\t\"errors\"\n",
    "\t\"fmt\"\n",
    ")\n",
    "\n",
    "// can only used as type constraints\n",
    "type Integer interface {\n",
    "\t// type element: compose of type terms\n",
    "\t// exact match\n",
    "\t// int | int8 | int16 | int32 | int64 |\n",
    "\t// uint | uint8 | uint16 | uint32 | uint64 | uintptr\n",
    "\t\n",
    "\t// consider underlying type\n",
    "\t~int | ~int8 | ~int16 | ~int32 | ~int64 |\n",
    "\t~uint | ~uint8 | ~uint16 | ~uint32 | ~uint64 | ~uintptr\n",
    "}\n",
    "\n",
    "func divAndReainder[T Integer](num, denom T) (T, T, error) {\n",
    "\tif denom == 0 {\n",
    "\t\treturn 0,0,errors.New(\"cannot divide by zero\")\n",
    "\t}\n",
    "\t// operators: /, %\n",
    "\treturn num / denom, num % denom, nil\n",
    "}\n",
    "\n",
    "\n",
    "type MyInt int\n",
    "\n",
    "%%\n",
    "var a uint = 18_446_744_073_709_551_615\n",
    "var b uint = 9_223_372_036_854_775_808\n",
    "fmt.Println(divAndReainder(a, b))\n",
    "\n",
    "var myA MyInt = 10\n",
    "var myB MyInt = 20\n",
    "fmt.Println(divAndReainder(myA, myB))"
   ]
  },
  {
   "cell_type": "code",
   "execution_count": 10,
   "metadata": {},
   "outputs": [
    {
     "data": {
      "text/html": [
       "\n",
       "<style>\n",
       ".gonb-err-location {\n",
       "\tbackground: var(--jp-err-color2);  \n",
       "\tborder-radius: 3px;\n",
       "\tborder-style: dotted;\n",
       "\tborder-width: 1px;\n",
       "\tborder-color: var(--jp-border-color2);\n",
       "}\n",
       ".gonb-err-location:hover {\n",
       "\tborder-width: 2px;\n",
       "\tborder-style: solid;\n",
       "\tborder-color: var(--jp-border-color2);\n",
       "}\n",
       ".gonb-err-context {\n",
       "\tdisplay: none;\n",
       "}\n",
       ".gonb-err-location:hover + .gonb-err-context {\n",
       "\tbackground: var(--jp-dialog-background);  \n",
       "\tborder-radius: 3px;\n",
       "\tborder-style: solid;\n",
       "\tborder-width: 1px;\n",
       "\tborder-color: var(--jp-border-color2);\n",
       "\tdisplay: block;\n",
       "\twhite-space: pre;\n",
       "\tfont-family: monospace;\n",
       "}\n",
       ".gonb-err-line {\n",
       "\tborder-radius: 3px;\n",
       "\tborder-style: dotted;\n",
       "\tborder-width: 1px;\t\n",
       "\tborder-color: var(--jp-border-color2);\n",
       "\tbackground-color: var(--jp-rendermime-err-background);\n",
       "\tfont-weight: bold;\n",
       "}\n",
       ".gonb-cell-line-info {\n",
       "\tbackground: var(--jp-layout-color2);\n",
       "\tcolor: #999;\n",
       "\tmargin: 0.1em;\n",
       "\tborder: 1px solid var(--jp-border-color1);\n",
       "\tpadding-left: 0.2em;\n",
       "\tpadding-right: 0.2em;\n",
       "}\n",
       "</style>\n",
       "<div class=\"lm-Widget p-Widget lm-Panel p-Panel jp-OutputArea-child\">\n",
       "<div class=\"lm-Widget p-Widget jp-RenderedText jp-mod-trusted jp-OutputArea-output\" data-mime-type=\"application/vnd.jupyter.stderr\" style=\"font-family: monospace;\">\n",
       "\n",
       "\n",
       "<span style=\"white-space: pre;\"> # gonb_f7089ad0</span>\n",
       "\n",
       "<br/>\n",
       "\n",
       "<span class=\"gonb-cell-line-info\">Cell[10]: Line 25</span>\n",
       "<span class=\"gonb-err-location\">./main.go:194:23: </span> int does not satisfy ImpossiblePrintableInt (missing method String)\n",
       "<div class=\"gonb-err-context\">\n",
       "\n",
       "func main() {\n",
       "\tflag.Parse()\n",
       "<div class=\"gonb-err-line\">s := ImpossibleStruct[int]{10}\n",
       "</div>s2 := ImpossibleStruct[MyInt]{10}\n",
       "fmt.Printf(&#34;%v %v\\n&#34;, s, s2)\n",
       "\n",
       "</div>\n",
       "\n",
       "<br/>\n",
       "\n",
       "<span class=\"gonb-cell-line-info\">Cell[10]: Line 26</span>\n",
       "<span class=\"gonb-err-location\">./main.go:195:24: </span> MyInt does not satisfy ImpossiblePrintableInt (possibly missing ~ for int in ImpossiblePrintableInt)\n",
       "<div class=\"gonb-err-context\">\n",
       "func main() {\n",
       "\tflag.Parse()\n",
       "s := ImpossibleStruct[int]{10}\n",
       "<div class=\"gonb-err-line\">s2 := ImpossibleStruct[MyInt]{10}\n",
       "</div>fmt.Printf(&#34;%v %v\\n&#34;, s, s2)\n",
       "\n",
       "\n",
       "</div>\n",
       "\n",
       "<br/>\n",
       "\n",
       "\n",
       "<span style=\"white-space: pre;\"> </span>\n",
       "\n",
       "<br/>\n",
       "\n",
       "</div>\n"
      ]
     },
     "metadata": {},
     "output_type": "display_data"
    },
    {
     "ename": "ERROR",
     "evalue": "failed to run \"/home/zhoujiagen/go/bin/go build -o /tmp/gonb_f7089ad0/gonb_f7089ad0\": exit status 1",
     "output_type": "error",
     "traceback": [
      "failed to run \"/home/zhoujiagen/go/bin/go build -o /tmp/gonb_f7089ad0/gonb_f7089ad0\": exit status 1"
     ]
    }
   ],
   "source": [
    "import \"fmt\"\n",
    "\n",
    "// both type elements and method elements in interface used for type parameter\n",
    "type PrintableInt interface {\n",
    "\t~int\n",
    "\tString() string\n",
    "}\n",
    "\n",
    "// declare a type parameter interface that cannot instantiate\n",
    "type ImpossiblePrintableInt interface {\n",
    "\tint\n",
    "\tString() string\n",
    "}\n",
    "\n",
    "type ImpossibleStruct[T ImpossiblePrintableInt] struct {\n",
    "\tval T\n",
    "}\n",
    "\n",
    "type MyInt int\n",
    "func (mi MyInt) String() string {\n",
    "\treturn fmt.Sprint(mi)\n",
    "}\n",
    "\n",
    "%%\n",
    "s := ImpossibleStruct[int]{10}\n",
    "s2 := ImpossibleStruct[MyInt]{10}\n",
    "fmt.Printf(\"%v %v\\n\", s, s2)"
   ]
  },
  {
   "cell_type": "code",
   "execution_count": null,
   "metadata": {},
   "outputs": [],
   "source": [
    "// type terms can also be:\n",
    "// slices, maps, arrays, channels, structs, functions"
   ]
  },
  {
   "cell_type": "markdown",
   "metadata": {},
   "source": [
    "# type inference"
   ]
  },
  {
   "cell_type": "code",
   "execution_count": 11,
   "metadata": {},
   "outputs": [
    {
     "name": "stdout",
     "output_type": "stream",
     "text": [
      "10\n"
     ]
    }
   ],
   "source": [
    "// example in 'Learning Go'\n",
    "import \"fmt\"\n",
    "\n",
    "type Integer interface{\n",
    "\tint | int8 | int16 | int32 | int64 |\n",
    "\tuint | uint8 | uint16 | uint32 | uint64 \n",
    "}\n",
    "\n",
    "func Convert[T1, T2 Integer](in T1) T2 {\n",
    "\treturn T2(in)\n",
    "}\n",
    "\n",
    "%%\n",
    "var a int = 10\n",
    "b := Convert[int, int64](a) // cannot infer return type\n",
    "fmt.Println(b)"
   ]
  },
  {
   "cell_type": "markdown",
   "metadata": {},
   "source": [
    "# limit constants"
   ]
  },
  {
   "cell_type": "code",
   "execution_count": 12,
   "metadata": {},
   "outputs": [],
   "source": [
    "// example in 'Learning Go'\n",
    "type Integer interface{\n",
    "\tint | int8 | int16 | int32 | int64 |\n",
    "\tuint | uint8 | uint16 | uint32 | uint64 \n",
    "}\n",
    "\n",
    "// cannot convert 1_000 (untyped int constant 1000) to type T\n",
    "// func Plus1000[T Integer](in T) T {\n",
    "// \treturn in + 1_000\n",
    "// }\n",
    "\n",
    "func Plus100[T Integer](in T) T {\n",
    "\treturn in + 100\n",
    "}"
   ]
  },
  {
   "cell_type": "markdown",
   "metadata": {},
   "source": [
    "# generic functions with generic data structures"
   ]
  },
  {
   "cell_type": "code",
   "execution_count": 13,
   "metadata": {},
   "outputs": [
    {
     "data": {
      "text/html": [
       "<h3>Memorized Definitions</h3>\n"
      ]
     },
     "metadata": {},
     "output_type": "display_data"
    },
    {
     "data": {
      "text/html": [
       "<h4>Imports</h4>\n",
       "<ul>\n",
       "<li><pre>errors</pre></li>\n",
       "<li><pre>fmt</pre></li>\n",
       "<li><pre>math</pre></li>\n",
       "<li><pre>strings</pre></li>\n",
       "</ul>"
      ]
     },
     "metadata": {},
     "output_type": "display_data"
    },
    {
     "data": {
      "text/html": [
       "<h4>Types</h4>\n",
       "<ul>\n",
       "<li><pre>Differ</pre></li>\n",
       "<li><pre>Integer</pre></li>\n",
       "<li><pre>MyInt</pre></li>\n",
       "<li><pre>Orderable</pre></li>\n",
       "<li><pre>OrderableInt</pre></li>\n",
       "<li><pre>OrderableString</pre></li>\n",
       "<li><pre>Pair</pre></li>\n",
       "<li><pre>Point2D</pre></li>\n",
       "<li><pre>Point3D</pre></li>\n",
       "<li><pre>Stack</pre></li>\n",
       "<li><pre>Stack2</pre></li>\n",
       "<li><pre>Tree</pre></li>\n",
       "</ul>"
      ]
     },
     "metadata": {},
     "output_type": "display_data"
    },
    {
     "data": {
      "text/html": [
       "<h4>Functions</h4>\n",
       "<ul>\n",
       "<li><pre>Convert</pre></li>\n",
       "<li><pre>Filter</pre></li>\n",
       "<li><pre>FindCloser</pre></li>\n",
       "<li><pre>Map</pre></li>\n",
       "<li><pre>OrderableInt~Order</pre></li>\n",
       "<li><pre>OrderableString~Order</pre></li>\n",
       "<li><pre>Plus100</pre></li>\n",
       "<li><pre>Point2D~Diff</pre></li>\n",
       "<li><pre>Point2D~String</pre></li>\n",
       "<li><pre>Point3D~Diff</pre></li>\n",
       "<li><pre>Point3D~String</pre></li>\n",
       "<li><pre>Reduce</pre></li>\n",
       "<li><pre>Stack2[T]~Pop</pre></li>\n",
       "<li><pre>Stack2[T]~Push</pre></li>\n",
       "<li><pre>Stack[T]~Pop</pre></li>\n",
       "<li><pre>Stack[T]~Push</pre></li>\n",
       "<li><pre>Tree~Insert</pre></li>\n",
       "<li><pre>divAndReainder</pre></li>\n",
       "<li><pre>unknown~Contains</pre></li>\n",
       "</ul>"
      ]
     },
     "metadata": {},
     "output_type": "display_data"
    }
   ],
   "source": [
    "%list"
   ]
  },
  {
   "cell_type": "code",
   "execution_count": 14,
   "metadata": {},
   "outputs": [
    {
     "name": "stdout",
     "output_type": "stream",
     "text": [
      "&{0x48aee0 <nil>}\n",
      "true\n",
      "false\n"
     ]
    }
   ],
   "source": [
    "// example in 'Learing Go'\n",
    "\n",
    "import (\n",
    "\t\"fmt\"\n",
    "\t\"cmp\"\n",
    ")\n",
    "\n",
    "// generic function\n",
    "type OrderableFunc[T any] func(t1, t2 T) int\n",
    "\n",
    "// generic struct\n",
    "// WARN: rename Node to TNode, Tree to TTree due to previous definitions\n",
    "type TNode[T any] struct {\n",
    "\tval T\n",
    "\tleft, right *TNode[T]\n",
    "}\n",
    "\n",
    "type TTree[T any] struct {\n",
    "\tf OrderableFunc[T]\n",
    "\troot *TNode[T]\n",
    "}\n",
    "\n",
    "// consturct a new tree\n",
    "func NewTree[T any](f OrderableFunc[T]) *TTree[T] {\n",
    "\treturn &TTree[T]{\n",
    "\t\tf: f,\n",
    "\t}\n",
    "}\n",
    "\n",
    "func (t *TTree[T]) Add(v T) {\n",
    "\tt.root = t.root.Add(t.f, v)\n",
    "}\n",
    "\n",
    "func (t *TTree[T]) Contains(v T) bool {\n",
    "\treturn t.root.Contains(t.f, v)\n",
    "}\n",
    "\n",
    "func (n *TNode[T]) Add(f OrderableFunc[T], v T) *TNode[T] {\n",
    "\tif n == nil {\n",
    "\t\treturn &TNode[T]{val: v}\n",
    "\t}\n",
    "\n",
    "\tswitch r := f(v, n.val); {\n",
    "\tcase r <= -1:  // new value in less than current value\n",
    "\t\tn.left = n.left.Add(f, v)\n",
    "\tcase r >= 1:\n",
    "\t\tn.right = n.right.Add(f, v)\n",
    "\t}\n",
    "\treturn n\n",
    "}\n",
    "\n",
    "func (n *TNode[T]) Contains(f OrderableFunc[T], v T) bool {\n",
    "\tif n == nil {\n",
    "\t\treturn false\n",
    "\t}\n",
    "\n",
    "\tswitch r := f(v, n.val); {\n",
    "\tcase r <= -1:\n",
    "\t\treturn n.left.Contains(f, v)\n",
    "\tcase r >= 1:\n",
    "\t\treturn n.right.Contains(f, v)\n",
    "\t}\n",
    "\treturn true\n",
    "}\n",
    "\n",
    "%%\n",
    "// int\n",
    "t1 := NewTree(cmp.Compare[int])\n",
    "fmt.Printf(\"%v\\n\", t1)\n",
    "t1.Add(10)\n",
    "t1.Add(30)\n",
    "t1.Add(15)\n",
    "\n",
    "fmt.Println(t1.Contains(15))\n",
    "fmt.Println(t1.Contains(40))\n",
    "\n",
    "\n",
    "// struct"
   ]
  },
  {
   "cell_type": "code",
   "execution_count": null,
   "metadata": {},
   "outputs": [],
   "source": [
    "// !go run test_topics.go"
   ]
  },
  {
   "cell_type": "code",
   "execution_count": null,
   "metadata": {},
   "outputs": [],
   "source": [
    "%%\n",
    "t1 := NewTree(cmp.Compare[int])\n",
    "fmt.Printf(\"%v\\n\", t1)\n",
    "t1.Add(10)\n",
    "t1.Add(30)\n",
    "t1.Add(15)\n",
    "\n",
    "fmt.Println(t1.Contains(15))\n",
    "fmt.Println(t1.Contains(40))"
   ]
  },
  {
   "cell_type": "markdown",
   "metadata": {},
   "source": [
    "# `comparable`\n",
    "* more info: [All your comparable types](https://go.dev/blog/comparable)"
   ]
  },
  {
   "cell_type": "code",
   "execution_count": 16,
   "metadata": {},
   "outputs": [],
   "source": [
    "import \"fmt\"\n",
    "\n",
    "type Thinger interface {\n",
    "\tThing()\n",
    "}\n",
    "\n",
    "type ThingerInt int\n",
    "\n",
    "func (t ThingerInt) Thing() {\n",
    "\tfmt.Println(\"ThingInt:\", t)\n",
    "}\n",
    "\n",
    "type ThingerSlice []int\n",
    "\n",
    "func (t ThingerSlice) Thing() {\n",
    "\tfmt.Println(\"ThingSlice:\", t)\n",
    "}\n",
    "\n",
    "\n",
    "func Comparer[T comparable](t1, t2 T) {\n",
    "\tif t1 == t2 {\n",
    "\t\tfmt.Println(\"equal!\")\n",
    "\t}\n",
    "}"
   ]
  },
  {
   "cell_type": "code",
   "execution_count": 17,
   "metadata": {},
   "outputs": [
    {
     "name": "stdout",
     "output_type": "stream",
     "text": [
      "equal!\n",
      "equal!\n"
     ]
    }
   ],
   "source": [
    "%%\n",
    "var a int = 10\n",
    "var b int = 10\n",
    "Comparer(a, b)\n",
    "\n",
    "var a2 ThingerInt = 20\n",
    "var b2 ThingerInt = 20\n",
    "Comparer(a2, b2)"
   ]
  },
  {
   "cell_type": "code",
   "execution_count": 18,
   "metadata": {},
   "outputs": [
    {
     "data": {
      "text/html": [
       "\n",
       "<style>\n",
       ".gonb-err-location {\n",
       "\tbackground: var(--jp-err-color2);  \n",
       "\tborder-radius: 3px;\n",
       "\tborder-style: dotted;\n",
       "\tborder-width: 1px;\n",
       "\tborder-color: var(--jp-border-color2);\n",
       "}\n",
       ".gonb-err-location:hover {\n",
       "\tborder-width: 2px;\n",
       "\tborder-style: solid;\n",
       "\tborder-color: var(--jp-border-color2);\n",
       "}\n",
       ".gonb-err-context {\n",
       "\tdisplay: none;\n",
       "}\n",
       ".gonb-err-location:hover + .gonb-err-context {\n",
       "\tbackground: var(--jp-dialog-background);  \n",
       "\tborder-radius: 3px;\n",
       "\tborder-style: solid;\n",
       "\tborder-width: 1px;\n",
       "\tborder-color: var(--jp-border-color2);\n",
       "\tdisplay: block;\n",
       "\twhite-space: pre;\n",
       "\tfont-family: monospace;\n",
       "}\n",
       ".gonb-err-line {\n",
       "\tborder-radius: 3px;\n",
       "\tborder-style: dotted;\n",
       "\tborder-width: 1px;\t\n",
       "\tborder-color: var(--jp-border-color2);\n",
       "\tbackground-color: var(--jp-rendermime-err-background);\n",
       "\tfont-weight: bold;\n",
       "}\n",
       ".gonb-cell-line-info {\n",
       "\tbackground: var(--jp-layout-color2);\n",
       "\tcolor: #999;\n",
       "\tmargin: 0.1em;\n",
       "\tborder: 1px solid var(--jp-border-color1);\n",
       "\tpadding-left: 0.2em;\n",
       "\tpadding-right: 0.2em;\n",
       "}\n",
       "</style>\n",
       "<div class=\"lm-Widget p-Widget lm-Panel p-Panel jp-OutputArea-child\">\n",
       "<div class=\"lm-Widget p-Widget jp-RenderedText jp-mod-trusted jp-OutputArea-output\" data-mime-type=\"application/vnd.jupyter.stderr\" style=\"font-family: monospace;\">\n",
       "\n",
       "\n",
       "<span style=\"white-space: pre;\"> # gonb_f7089ad0</span>\n",
       "\n",
       "<br/>\n",
       "\n",
       "<span class=\"gonb-cell-line-info\">Cell[18]: Line 4</span>\n",
       "<span class=\"gonb-err-location\">./main.go:253:9: </span> ThingerSlice does not satisfy comparable\n",
       "<div class=\"gonb-err-context\">\n",
       "\tflag.Parse()\n",
       "var a3 ThingerSlice = []int{1,2,3}\n",
       "var b3 ThingerSlice = []int{1,2,3}\n",
       "<div class=\"gonb-err-line\">Comparer(a3, b3)\n",
       "</div>\n",
       "}\n",
       "\n",
       "</div>\n",
       "\n",
       "<br/>\n",
       "\n",
       "\n",
       "<span style=\"white-space: pre;\"> </span>\n",
       "\n",
       "<br/>\n",
       "\n",
       "</div>\n"
      ]
     },
     "metadata": {},
     "output_type": "display_data"
    },
    {
     "ename": "ERROR",
     "evalue": "failed to run \"/home/zhoujiagen/go/bin/go build -o /tmp/gonb_f7089ad0/gonb_f7089ad0\": exit status 1",
     "output_type": "error",
     "traceback": [
      "failed to run \"/home/zhoujiagen/go/bin/go build -o /tmp/gonb_f7089ad0/gonb_f7089ad0\": exit status 1"
     ]
    }
   ],
   "source": [
    "%%\n",
    "var a3 ThingerSlice = []int{1,2,3}\n",
    "var b3 ThingerSlice = []int{1,2,3}\n",
    "Comparer(a3, b3)"
   ]
  },
  {
   "cell_type": "code",
   "execution_count": null,
   "metadata": {},
   "outputs": [
    {
     "name": "stdout",
     "output_type": "stream",
     "text": [
      "equal!\n"
     ]
    }
   ],
   "source": [
    "%%\n",
    "var a2 ThingerInt = 20\n",
    "var b2 ThingerInt = 20\n",
    "var a4 Thinger = a2 // assign ThingerInt to Thinger\n",
    "var b4 Thinger = b2\n",
    "Comparer(a4, b4)"
   ]
  },
  {
   "cell_type": "code",
   "execution_count": 21,
   "metadata": {},
   "outputs": [
    {
     "name": "stderr",
     "output_type": "stream",
     "text": [
      "panic: runtime error: comparing uncomparable type main.ThingerSlice\n",
      "\n",
      "goroutine 1 [running]:\n",
      "main.Comparer[...]({0x4ca1a8?, 0xc00011cf28?}, {0x4ca1a8?, 0xc00011cf10?})\n",
      "\t \u001b[7m[[ Cell [16] Line 21 ]]\u001b[0m /tmp/gonb_f7089ad0/main.go:61 +0x35\n",
      "main.main()\n",
      "\t \u001b[7m[[ Cell [21] Line 6 ]]\u001b[0m /tmp/gonb_f7089ad0/main.go:255 +0x106\n",
      "exit status 2\n"
     ]
    }
   ],
   "source": [
    "%%\n",
    "var a3 ThingerSlice = []int{1,2,3}\n",
    "var b3 ThingerSlice = []int{1,2,3}\n",
    "var a4 Thinger = a3 // assign ThingerSlice to Thinger\n",
    "var b4 Thinger = b3\n",
    "Comparer(a4, b4)"
   ]
  },
  {
   "cell_type": "markdown",
   "metadata": {},
   "source": [
    "# NOT INCLUDED FEATURES\n",
    "* operator overloading\n",
    "* additional type parameters on methods\n",
    "* variadic type parameters\n",
    "* specialization: function/method be overloaded with one or more type-specific version in addition to the generic version\n",
    "* currying: paritially instantiate a function or type by specifying some of the type parameters\n",
    "* metaprogramming: specify code that runs at compile time to produce code that runs at runtime"
   ]
  },
  {
   "cell_type": "markdown",
   "metadata": {},
   "source": [
    "# Performance Impact"
   ]
  },
  {
   "cell_type": "code",
   "execution_count": 23,
   "metadata": {},
   "outputs": [],
   "source": [
    "type Ager interface {\n",
    "\tage() int\n",
    "}\n",
    "\n",
    "func doubleAge(a Ager) int {\n",
    "\treturn a.age() * 2\n",
    "}\n",
    "\n",
    "func doubleAgeGeneric[T Ager](a T) int {\n",
    "\treturn a.age() * 2\n",
    "}\n",
    "\n",
    "type SAger struct {\n",
    "\tagei int\n",
    "}\n",
    "\n",
    "func (sa SAger) age() int {\n",
    "\treturn sa.agei\n",
    "}"
   ]
  },
  {
   "cell_type": "code",
   "execution_count": 27,
   "metadata": {},
   "outputs": [
    {
     "name": "stdout",
     "output_type": "stream",
     "text": [
      "goos: linux\n",
      "goarch: amd64\n",
      "pkg: gonb_f7089ad0\n",
      "cpu: 13th Gen Intel(R) Core(TM) i7-13700H\n",
      "BenchmarkDoubleAg\n",
      "BenchmarkDoubleAg-20           \t1000000000\t         0.0000002 ns/op\n",
      "BenchmarkDoubleAgGeneric\n",
      "BenchmarkDoubleAgGeneric-20    \t1000000000\t         0.0000002 ns/op\n",
      "PASS\n"
     ]
    }
   ],
   "source": [
    "import \"testing\"\n",
    "\n",
    "var sa = SAger{agei: 42}\n",
    "\n",
    "func BenchmarkDoubleAg(b *testing.B) {\n",
    "\tdoubleAge(sa)\n",
    "}\n",
    "\n",
    "func BenchmarkDoubleAgGeneric(b *testing.B) {\n",
    "\tdoubleAgeGeneric(sa)\n",
    "}\n",
    "\n",
    "\n",
    "%test"
   ]
  },
  {
   "cell_type": "markdown",
   "metadata": {},
   "source": [
    "# API Impact\n",
    "* `any`, `comparable`\n",
    "* packages\n",
    "  * `slices`\n",
    "  * `maps`\n",
    "  * `sync`\n",
    "  * ..."
   ]
  }
 ],
 "metadata": {
  "kernelspec": {
   "display_name": "Go (gonb)",
   "language": "go",
   "name": "gonb"
  },
  "language_info": {
   "codemirror_mode": "",
   "file_extension": ".go",
   "mimetype": "",
   "name": "go",
   "nbconvert_exporter": "",
   "pygments_lexer": "",
   "version": "go1.23.4"
  }
 },
 "nbformat": 4,
 "nbformat_minor": 2
}
