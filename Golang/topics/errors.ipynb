{
 "cells": [
  {
   "cell_type": "markdown",
   "metadata": {},
   "source": [
    "# Errors\n",
    "* https://pkg.go.dev/errors"
   ]
  },
  {
   "cell_type": "markdown",
   "metadata": {},
   "source": [
    "# panic, recovery\n",
    "* https://pkg.go.dev/builtin#panic\n",
    "https://pkg.go.dev/builtin#recover"
   ]
  }
 ],
 "metadata": {
  "language_info": {
   "name": "python"
  }
 },
 "nbformat": 4,
 "nbformat_minor": 2
}
