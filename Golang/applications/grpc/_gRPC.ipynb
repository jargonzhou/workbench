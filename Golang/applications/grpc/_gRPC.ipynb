{
 "cells": [
  {
   "cell_type": "markdown",
   "metadata": {},
   "source": [
    "# gRPC\n",
    "* https://grpc.io/docs/languages/go/quickstart/"
   ]
  },
  {
   "cell_type": "code",
   "execution_count": 1,
   "metadata": {},
   "outputs": [
    {
     "name": "stderr",
     "output_type": "stream",
     "text": [
      "go: downloading google.golang.org/protobuf v1.36.2\n",
      "go: downloading google.golang.org/grpc/cmd/protoc-gen-go-grpc v1.5.1\n",
      "go: downloading google.golang.org/grpc v1.69.4\n",
      "go: downloading google.golang.org/protobuf v1.34.1\n"
     ]
    }
   ],
   "source": [
    "!go install google.golang.org/protobuf/cmd/protoc-gen-go@latest\n",
    "!go install google.golang.org/grpc/cmd/protoc-gen-go-grpc@latest"
   ]
  },
  {
   "cell_type": "code",
   "execution_count": 4,
   "metadata": {},
   "outputs": [
    {
     "name": "stdout",
     "output_type": "stream",
     "text": [
      "/usr/bin/protoc\n",
      "libprotoc 3.6.1\n"
     ]
    }
   ],
   "source": [
    "!which protoc && protoc --version"
   ]
  },
  {
   "cell_type": "code",
   "execution_count": 22,
   "metadata": {},
   "outputs": [],
   "source": [
    "!protoc --proto_path=$PWD/pb --go_out=pb_gen --go_opt=paths=source_relative --go-grpc_out=pb_gen --go-grpc_opt=paths=source_relative $PWD/pb/helloworld.proto"
   ]
  },
  {
   "cell_type": "code",
   "execution_count": null,
   "metadata": {},
   "outputs": [
    {
     "name": "stderr",
     "output_type": "stream",
     "text": [
      "go: /mnt/d/GoogleDrive/wiki/jupyter-notebooks/Golang/applications/grpc/go.mod already exists\n",
      "exit status 1\n",
      "go: finding module for package google.golang.org/protobuf/runtime/protoimpl\n",
      "go: finding module for package google.golang.org/grpc/status\n",
      "go: finding module for package google.golang.org/grpc\n",
      "go: finding module for package google.golang.org/protobuf/reflect/protoreflect\n",
      "go: finding module for package google.golang.org/grpc/codes\n",
      "go: found google.golang.org/grpc in google.golang.org/grpc v1.69.4\n",
      "go: found google.golang.org/grpc/codes in google.golang.org/grpc v1.69.4\n",
      "go: found google.golang.org/grpc/status in google.golang.org/grpc v1.69.4\n",
      "go: found google.golang.org/protobuf/reflect/protoreflect in google.golang.org/protobuf v1.36.2\n",
      "go: found google.golang.org/protobuf/runtime/protoimpl in google.golang.org/protobuf v1.36.2\n",
      "go: downloading google.golang.org/genproto/googleapis/rpc v0.0.0-20241015192408-796eee8c2d53\n",
      "go: downloading golang.org/x/net v0.30.0\n",
      "go: downloading github.com/golang/protobuf v1.5.4\n",
      "go: downloading go.opentelemetry.io/otel/sdk/metric v1.31.0\n",
      "go: downloading go.opentelemetry.io/otel v1.31.0\n",
      "go: downloading go.opentelemetry.io/otel/metric v1.31.0\n",
      "go: downloading go.opentelemetry.io/otel/trace v1.31.0\n",
      "protocol error: received DATA after END_STREAM\n",
      "go: downloading go.opentelemetry.io/otel/sdk v1.31.0\n",
      "go: downloading golang.org/x/text v0.19.0\n",
      "go: downloading github.com/go-logr/logr v1.4.2\n",
      "go: downloading github.com/go-logr/stdr v1.2.2\n",
      "go: downloading github.com/google/uuid v1.6.0\n"
     ]
    }
   ],
   "source": [
    "// create module 'hellogrpc'\n",
    "!go mod init hellogrpc\n",
    "!go mod tidy"
   ]
  },
  {
   "cell_type": "markdown",
   "metadata": {},
   "source": [
    "# Server"
   ]
  },
  {
   "cell_type": "code",
   "execution_count": null,
   "metadata": {},
   "outputs": [
    {
     "name": "stderr",
     "output_type": "stream",
     "text": [
      "2025/01/14 12:17:03 server listening at [::]:50051\n",
      "2025/01/14 12:17:06 Received: world\n",
      "2025/01/14 12:17:15 Received: world\n"
     ]
    }
   ],
   "source": [
    "!go run server/server.go"
   ]
  },
  {
   "cell_type": "markdown",
   "metadata": {},
   "source": [
    "# Client\n",
    "\n",
    "* [client.ipynb](./client.ipynb)"
   ]
  }
 ],
 "metadata": {
  "kernelspec": {
   "display_name": "Go (gonb)",
   "language": "go",
   "name": "gonb"
  },
  "language_info": {
   "codemirror_mode": "",
   "file_extension": ".go",
   "mimetype": "",
   "name": "go",
   "nbconvert_exporter": "",
   "pygments_lexer": "",
   "version": "go1.23.4"
  }
 },
 "nbformat": 4,
 "nbformat_minor": 2
}
