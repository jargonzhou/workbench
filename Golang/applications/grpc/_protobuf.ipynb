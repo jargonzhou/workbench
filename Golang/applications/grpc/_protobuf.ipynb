{
 "cells": [
  {
   "cell_type": "markdown",
   "metadata": {},
   "source": [
    "# Protocol Buffers\n",
    "* https://protobuf.dev/getting-started/gotutorial/"
   ]
  },
  {
   "cell_type": "code",
   "execution_count": null,
   "metadata": {},
   "outputs": [
    {
     "name": "stderr",
     "output_type": "stream",
     "text": [
      "sudo: a password is required\n",
      "exit status 1\n"
     ]
    }
   ],
   "source": [
    "// Windows WSL\n",
    "// !sudo apt install -y protobuf-compiler"
   ]
  },
  {
   "cell_type": "code",
   "execution_count": 3,
   "metadata": {},
   "outputs": [
    {
     "name": "stdout",
     "output_type": "stream",
     "text": [
      "libprotoc 3.6.1\n"
     ]
    }
   ],
   "source": [
    "!protoc --version"
   ]
  },
  {
   "cell_type": "markdown",
   "metadata": {},
   "source": [
    "# Help"
   ]
  },
  {
   "cell_type": "code",
   "execution_count": 1,
   "metadata": {},
   "outputs": [
    {
     "name": "stderr",
     "output_type": "stream",
     "text": [
      "  @<filename>                 Read options and filenames from file. If a\n",
      "                              relative file path is specified, the file\n",
      "                              will be searched in the working directory.\n",
      "                              The --proto_path option will not affect how\n",
      "                              this argument file is searched. Content of\n",
      "                              the file will be expanded in the position of\n",
      "                              @<filename> as in the argument list. Note\n",
      "                              that shell expansion is not applied to the\n",
      "                              content of the file (i.e., you cannot use\n",
      "                              quotes, wildcards, escapes, commands, etc.).\n",
      "                              Each line corresponds to a single argument,\n",
      "                              even if it contains spaces.\n"
     ]
    },
    {
     "name": "stdout",
     "output_type": "stream",
     "text": [
      "Usage: protoc [OPTION] PROTO_FILES\n",
      "Parse PROTO_FILES and generate output based on the options given:\n",
      "  -IPATH, --proto_path=PATH   Specify the directory in which to search for\n",
      "                              imports.  May be specified multiple times;\n",
      "                              directories will be searched in order.  If not\n",
      "                              given, the current working directory is used.\n",
      "  --version                   Show version info and exit.\n",
      "  -h, --help                  Show this text and exit.\n",
      "  --encode=MESSAGE_TYPE       Read a text-format message of the given type\n",
      "                              from standard input and write it in binary\n",
      "                              to standard output.  The message type must\n",
      "                              be defined in PROTO_FILES or their imports.\n",
      "  --decode=MESSAGE_TYPE       Read a binary message of the given type from\n",
      "                              standard input and write it in text format\n",
      "                              to standard output.  The message type must\n",
      "                              be defined in PROTO_FILES or their imports.\n",
      "  --decode_raw                Read an arbitrary protocol message from\n",
      "                              standard input and write the raw tag/value\n",
      "                              pairs in text format to standard output.  No\n",
      "                              PROTO_FILES should be given when using this\n",
      "                              flag.\n",
      "  --descriptor_set_in=FILES   Specifies a delimited list of FILES\n",
      "                              each containing a FileDescriptorSet (a\n",
      "                              protocol buffer defined in descriptor.proto).\n",
      "                              The FileDescriptor for each of the PROTO_FILES\n",
      "                              provided will be loaded from these\n",
      "                              FileDescriptorSets. If a FileDescriptor\n",
      "                              appears multiple times, the first occurrence\n",
      "                              will be used.\n",
      "  -oFILE,                     Writes a FileDescriptorSet (a protocol buffer,\n",
      "    --descriptor_set_out=FILE defined in descriptor.proto) containing all of\n",
      "                              the input files to FILE.\n",
      "  --include_imports           When using --descriptor_set_out, also include\n",
      "                              all dependencies of the input files in the\n",
      "                              set, so that the set is self-contained.\n",
      "  --include_source_info       When using --descriptor_set_out, do not strip\n",
      "                              SourceCodeInfo from the FileDescriptorProto.\n",
      "                              This results in vastly larger descriptors that\n",
      "                              include information about the original\n",
      "                              location of each decl in the source file as\n",
      "                              well as surrounding comments.\n",
      "  --dependency_out=FILE       Write a dependency output file in the format\n",
      "                              expected by make. This writes the transitive\n",
      "                              set of input file paths to FILE\n",
      "  --error_format=FORMAT       Set the format in which to print errors.\n",
      "                              FORMAT may be 'gcc' (the default) or 'msvs'\n",
      "                              (Microsoft Visual Studio format).\n",
      "  --print_free_field_numbers  Print the free field numbers of the messages\n",
      "                              defined in the given proto files. Groups share\n",
      "                              the same field number space with the parent \n",
      "                              message. Extension ranges are counted as \n",
      "                              occupied fields numbers.\n",
      "\n",
      "  --plugin=EXECUTABLE         Specifies a plugin executable to use.\n",
      "                              Normally, protoc searches the PATH for\n",
      "                              plugins, but you may specify additional\n",
      "                              executables not in the path using this flag.\n",
      "                              Additionally, EXECUTABLE may be of the form\n",
      "                              NAME=PATH, in which case the given plugin name\n",
      "                              is mapped to the given executable even if\n",
      "                              the executable's own name differs.\n",
      "  --cpp_out=OUT_DIR           Generate C++ header and source.\n",
      "  --csharp_out=OUT_DIR        Generate C# source file.\n",
      "  --java_out=OUT_DIR          Generate Java source file.\n",
      "  --js_out=OUT_DIR            Generate JavaScript source.\n",
      "  --objc_out=OUT_DIR          Generate Objective C header and source.\n",
      "  --php_out=OUT_DIR           Generate PHP source file.\n",
      "  --python_out=OUT_DIR        Generate Python source file.\n",
      "  --ruby_out=OUT_DIR          Generate Ruby source file.\n"
     ]
    }
   ],
   "source": [
    "!protoc --help"
   ]
  }
 ],
 "metadata": {
  "kernelspec": {
   "display_name": "Go (gonb)",
   "language": "go",
   "name": "gonb"
  },
  "language_info": {
   "codemirror_mode": "",
   "file_extension": ".go",
   "mimetype": "",
   "name": "go",
   "nbconvert_exporter": "",
   "pygments_lexer": "",
   "version": "go1.23.4"
  }
 },
 "nbformat": 4,
 "nbformat_minor": 2
}
