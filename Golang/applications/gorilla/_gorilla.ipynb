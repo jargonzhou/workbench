{
 "cells": [
  {
   "cell_type": "markdown",
   "metadata": {},
   "source": [
    "# gorilla\n",
    "* https://gorilla.github.io/\n",
    "* Code: [Gorilla web toolkit](https://github.com/gorilla)"
   ]
  },
  {
   "cell_type": "markdown",
   "metadata": {},
   "source": [
    "# Examples: Web Development with Go, 2015"
   ]
  },
  {
   "cell_type": "code",
   "execution_count": 2,
   "metadata": {},
   "outputs": [
    {
     "name": "stderr",
     "output_type": "stream",
     "text": [
      "go: creating new go.mod: module hellogorilla\n"
     ]
    }
   ],
   "source": [
    "!mkdir -p hellogorilla && cd hellogorilla && go mod init hellogorilla"
   ]
  },
  {
   "cell_type": "code",
   "execution_count": 5,
   "metadata": {},
   "outputs": [
    {
     "name": "stderr",
     "output_type": "stream",
     "text": [
      "go: finding module for package github.com/go-sql-driver/mysql\n",
      "go: finding module for package github.com/urfave/negroni\n",
      "go: finding module for package github.com/gorilla/mux\n",
      "go: found github.com/gorilla/mux in github.com/gorilla/mux v1.8.1\n",
      "go: found github.com/urfave/negroni in github.com/urfave/negroni v1.0.0\n",
      "go: found github.com/go-sql-driver/mysql in github.com/go-sql-driver/mysql v1.8.1\n"
     ]
    }
   ],
   "source": [
    "!cd hellogorilla && go mod tidy"
   ]
  },
  {
   "cell_type": "code",
   "execution_count": null,
   "metadata": {},
   "outputs": [
    {
     "name": "stderr",
     "output_type": "stream",
     "text": [
      "2025/01/14 13:26:37 Open root:devops+mysql@tcp(127.0.0.1:3306)/movies?parseTime=true succeed!\n",
      "2025/01/14 13:26:37 {GET /api/health ^/api/health$  }\n",
      "2025/01/14 13:26:37 {GET /api/notes ^/api/notes$  }\n",
      "2025/01/14 13:26:37 {POST /api/notes ^/api/notes$  }\n",
      "2025/01/14 13:26:37 {GET /api/notes/{id} ^/api/notes/(?P<v0>[^/]+)$  }\n",
      "2025/01/14 13:26:37 {PUT /api/notes/{id} ^/api/notes/(?P<v0>[^/]+)$  }\n",
      "2025/01/14 13:26:37 {DELETE /api/notes/{id} ^/api/notes/(?P<v0>[^/]+)$  }\n",
      "2025/01/14 13:26:37 {POST /api/user/login ^/api/user/login$  }\n",
      "2025/01/14 13:26:37 { /notes ^/notes$  }\n",
      "2025/01/14 13:26:37 { /notes/add ^/notes/add$  }\n",
      "2025/01/14 13:26:37 { /notes/save ^/notes/save$  }\n",
      "2025/01/14 13:26:37 { /notes/edit/{id} ^/notes/edit/(?P<v0>[^/]+)$  }\n",
      "2025/01/14 13:26:37 { /notes/update/{id} ^/notes/update/(?P<v0>[^/]+)$  }\n",
      "2025/01/14 13:26:37 { /notes/delete/{id} ^/notes/delete/(?P<v0>[^/]+)$  }\n",
      "2025/01/14 13:26:37 { /public ^/public  }\n",
      "2025/01/14 13:26:37 Listening on :9999...\n",
      "2025/01/14 13:27:02 ERROR: ERROR_AUTH_INFO 需要登录\n",
      "2025/01/14 13:27:02 http: superfluous response.WriteHeader call from github.com/urfave/negroni.(*responseWriter).WriteHeader (response_writer.go:53)\n"
     ]
    },
    {
     "name": "stdout",
     "output_type": "stream",
     "text": [
      "[negroni] 2025-01-14T13:27:02+08:00 | 200 | \t 7.77669ms | localhost:9999 | GET /api/health\n",
      "[negroni] 2025-01-14T13:27:08+08:00 | 200 | \t 178.642µs | localhost:9999 | POST /api/user/login\n",
      "[negroni] 2025-01-14T13:27:19+08:00 | 200 | \t 1.028564ms | localhost:9999 | GET /api/health\n"
     ]
    }
   ],
   "source": [
    "!cd hellogorilla && go run main.go"
   ]
  }
 ],
 "metadata": {
  "kernelspec": {
   "display_name": "Go (gonb)",
   "language": "go",
   "name": "gonb"
  },
  "language_info": {
   "codemirror_mode": "",
   "file_extension": ".go",
   "mimetype": "",
   "name": "go",
   "nbconvert_exporter": "",
   "pygments_lexer": "",
   "version": "go1.23.4"
  }
 },
 "nbformat": 4,
 "nbformat_minor": 2
}
