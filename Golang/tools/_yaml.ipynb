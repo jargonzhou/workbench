{
 "cells": [
  {
   "cell_type": "markdown",
   "metadata": {},
   "source": [
    "# YAML"
   ]
  },
  {
   "cell_type": "code",
   "execution_count": 1,
   "metadata": {},
   "outputs": [
    {
     "name": "stdout",
     "output_type": "stream",
     "text": [
      "=== RUN   TestYaml\n",
      "    main_test.go:33: === t:\n",
      "        {Easy! {2 [3 4]}}\n",
      "        \n",
      "    main_test.go:40: === t dump:\n",
      "        a: Easy!\n",
      "        b:\n",
      "          c: 2\n",
      "          d: [3, 4]\n",
      "        \n",
      "        \n",
      "--- PASS: TestYaml (0.00s)\n",
      "=== RUN   TestYamlMap\n",
      "    main_test.go:51: === m:\n",
      "        map[a:Easy! b:map[c:2 d:[3 4]]]\n",
      "        \n",
      "    main_test.go:56: === m dump:\n",
      "        a: Easy!\n",
      "        b:\n",
      "          c: 2\n",
      "          d:\n",
      "          - 3\n",
      "          - 4\n",
      "        \n",
      "--- PASS: TestYamlMap (0.00s)\n",
      "PASS\n"
     ]
    }
   ],
   "source": [
    "\n",
    "import (\n",
    "\t\"testing\"\n",
    "\n",
    "\t\"gopkg.in/yaml.v2\"\n",
    ")\n",
    "\n",
    "// 注意: 两个空格, 而不是TAB\n",
    "var data = `\n",
    "a: Easy!\n",
    "b:\n",
    "  c: 2\n",
    "  d: [3,4]\n",
    "`\n",
    "\n",
    "type T struct {\n",
    "\tA string\n",
    "\tB struct {\n",
    "\t\tRenamedC int   `yaml:\"c\"`\n",
    "\t\tD        []int `yaml:\",flow\"`\n",
    "\t}\n",
    "}\n",
    "\n",
    "func TestYaml(test *testing.T) {\n",
    "\t// 反序列化\n",
    "\tt := T{}\n",
    "\terr := yaml.Unmarshal([]byte(data), &t)\n",
    "\tif err != nil {\n",
    "\t\ttest.Errorf(\"error: %v\", err)\n",
    "\t}\n",
    "\ttest.Logf(\"=== t:\\n%v\\n\\n\", t)\n",
    "\n",
    "\t// 序列化\n",
    "\td, err := yaml.Marshal(&t)\n",
    "\tif err != nil {\n",
    "\t\ttest.Errorf(\"error: %v\", err)\n",
    "\t}\n",
    "\ttest.Logf(\"=== t dump:\\n%v\\n\\n\", string(d))\n",
    "}\n",
    "\n",
    "func TestYamlMap(t *testing.T) {\n",
    "\t// 使用字典\n",
    "\tm := make(map[interface{}]interface{})\n",
    "\n",
    "\terr := yaml.Unmarshal([]byte(data), &m)\n",
    "\tif err != nil {\n",
    "\t\tt.Errorf(\"error: %v\", err)\n",
    "\t}\n",
    "\tt.Logf(\"=== m:\\n%v\\n\\n\", m)\n",
    "\td, err := yaml.Marshal(&m)\n",
    "\tif err != nil {\n",
    "\t\tt.Errorf(\"error: %v\", err)\n",
    "\t}\n",
    "\tt.Logf(\"=== m dump:\\n%v\\n\", string(d))\n",
    "}\n",
    "\n",
    "%test"
   ]
  }
 ],
 "metadata": {
  "kernelspec": {
   "display_name": "Go (gonb)",
   "language": "go",
   "name": "gonb"
  },
  "language_info": {
   "codemirror_mode": "",
   "file_extension": ".go",
   "mimetype": "",
   "name": "go",
   "nbconvert_exporter": "",
   "pygments_lexer": "",
   "version": "go1.23.4"
  }
 },
 "nbformat": 4,
 "nbformat_minor": 2
}
