{
 "cells": [
  {
   "cell_type": "markdown",
   "metadata": {},
   "source": [
    "# 企业微信Robot\n",
    "* [群机器人配置说明](https://developer.work.weixin.qq.com/document/path/91770)"
   ]
  },
  {
   "cell_type": "code",
   "execution_count": 1,
   "metadata": {},
   "outputs": [],
   "source": [
    "import (\n",
    "\t\"bytes\"\n",
    "\t\"encoding/json\"\n",
    "\t\"fmt\"\n",
    "\t\"io/ioutil\"\n",
    "\t\"net/http\"\n",
    "\t\"os\"\n",
    ")\n",
    "\n",
    "/*\n",
    "   data = {\n",
    "       'msgtype': 'text',\n",
    "       \"text\": {\n",
    "           \"content\": text,\n",
    "           \"mentioned_list\": memtion_users\n",
    "       }\n",
    "   }\n",
    "*/\n",
    "type WeixinRobotMessage struct {\n",
    "\tMsgtype string                 `json:\"msgtype\"`\n",
    "\tText    WeixinRobotMessageText `json:\"text\"`\n",
    "}\n",
    "type WeixinRobotMessageText struct {\n",
    "\tContent string `json:\"content\"`\n",
    "}\n",
    "\n",
    "func SendRobotMessage(robotUrl, message string) {\n",
    "\tmsg := WeixinRobotMessage{\n",
    "\t\tMsgtype: \"text\",\n",
    "\t\tText:    WeixinRobotMessageText{Content: message},\n",
    "\t}\n",
    "\n",
    "\tdata, err := json.Marshal(msg)\n",
    "\tif err != nil {\n",
    "\t\tfmt.Printf(\"send robot message failed: %v\", err)\n",
    "\t\tos.Exit(1)\n",
    "\t}\n",
    "\n",
    "\tresp, err := http.Post(robotUrl, \"application/json\", bytes.NewBuffer(data))\n",
    "\tif err != nil {\n",
    "\t\tfmt.Printf(\"send robot message failed: %v\", err)\n",
    "\t\tos.Exit(1)\n",
    "\t}\n",
    "\tfmt.Println(resp.Status)\n",
    "\t// if resp.StatusCode != http.StatusOK {\n",
    "\t// }\n",
    "\tbody, err := ioutil.ReadAll(resp.Body)\n",
    "\tif err != nil {\n",
    "\t\tfmt.Printf(\"send robot message failed: %v\", err)\n",
    "\t\tos.Exit(1)\n",
    "\t}\n",
    "\tfmt.Println(string(body))\n",
    "\tresp.Body.Close()\n",
    "}\n"
   ]
  },
  {
   "cell_type": "code",
   "execution_count": 2,
   "metadata": {},
   "outputs": [
    {
     "name": "stdout",
     "output_type": "stream",
     "text": [
      "=== RUN   TestSendRobotMessage\n",
      "200 OK\n",
      "{\"errcode\":0,\"errmsg\":\"ok\"}\n",
      "--- PASS: TestSendRobotMessage (0.22s)\n",
      "PASS\n"
     ]
    }
   ],
   "source": [
    "import (\n",
    "\t\"testing\"\n",
    ")\n",
    "\n",
    "func TestSendRobotMessage(t *testing.T) {\n",
    "\trobotUrl := \"https://qyapi.weixin.qq.com/cgi-bin/webhook/send?key=ab49826a-1cfe-4286-a561-774f68852d8f\"\n",
    "\ttext := \"我是robot\"\n",
    "\tSendRobotMessage(robotUrl, text)\n",
    "}\n",
    "\n",
    "%test"
   ]
  }
 ],
 "metadata": {
  "kernelspec": {
   "display_name": "Go (gonb)",
   "language": "go",
   "name": "gonb"
  },
  "language_info": {
   "codemirror_mode": "",
   "file_extension": ".go",
   "mimetype": "",
   "name": "go",
   "nbconvert_exporter": "",
   "pygments_lexer": "",
   "version": "go1.23.4"
  }
 },
 "nbformat": 4,
 "nbformat_minor": 2
}
