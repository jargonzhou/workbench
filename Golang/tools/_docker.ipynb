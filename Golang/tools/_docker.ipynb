{
 "cells": [
  {
   "cell_type": "markdown",
   "metadata": {},
   "source": [
    "# Docker"
   ]
  },
  {
   "cell_type": "markdown",
   "metadata": {},
   "source": [
    "# Client\n",
    "* https://pkg.go.dev/github.com/moby/moby/client"
   ]
  },
  {
   "cell_type": "code",
   "execution_count": 6,
   "metadata": {},
   "outputs": [
    {
     "name": "stdout",
     "output_type": "stream",
     "text": [
      "8aa6cf6e90 [/dapr_scheduler] docker.io/daprio/dapr:1.14.1\n",
      "d024393a3a [/dapr_placement] docker.io/daprio/dapr:1.14.1\n",
      "afb8ec0029 [/dapr_redis] docker.io/redis:6\n",
      "696f04281a [/dapr_zipkin] docker.io/openzipkin/zipkin\n"
     ]
    }
   ],
   "source": [
    "import (\n",
    "\t\"context\"\n",
    "\t\"fmt\"\n",
    "\t\"log\"\n",
    "\n",
    "\t\"github.com/docker/docker/api/types/container\"\n",
    "\t\"github.com/docker/docker/client\"\n",
    ")\n",
    "\n",
    "func main() {\n",
    "\tcli, err := client.NewClientWithOpts(\n",
    "\t\tclient.WithAPIVersionNegotiation(), // with API version negotiation\n",
    "\t\tclient.FromEnv)\n",
    "\tif err != nil {\n",
    "\t\tlog.Fatal(err)\n",
    "\t\t//panic(err)\n",
    "\t}\n",
    "\tdefer cli.Close()\n",
    "\n",
    "\tcontainers, err := cli.ContainerList(context.Background(), container.ListOptions{\n",
    "\t\tAll: true,\n",
    "\t})\n",
    "\tif err != nil {\n",
    "\t\tlog.Fatal(err)\n",
    "\t\t// panic(err)\n",
    "\t}\n",
    "\n",
    "\tfor _, container := range containers {\n",
    "\t\t// https://pkg.go.dev/github.com/docker/docker/api/types#Container\n",
    "\t\tfmt.Printf(\"%s %v %s\\n\", container.ID[:10], container.Names, container.Image)\n",
    "\t}\n",
    "}"
   ]
  }
 ],
 "metadata": {
  "kernelspec": {
   "display_name": "Go (gonb)",
   "language": "go",
   "name": "gonb"
  },
  "language_info": {
   "codemirror_mode": "",
   "file_extension": ".go",
   "mimetype": "",
   "name": "go",
   "nbconvert_exporter": "",
   "pygments_lexer": "",
   "version": "go1.23.4"
  }
 },
 "nbformat": 4,
 "nbformat_minor": 2
}
