{
 "cells": [
  {
   "cell_type": "markdown",
   "metadata": {},
   "source": [
    "# Go Tools\n",
    "* https://github.com/golang/tools\n",
    "\n",
    "\n",
    "* go build: compiler\n",
    "* go fmt: code formatter\n",
    "* go mod: dependency manager\n",
    "* go test: test runner\n",
    "* go vet: scan for coding mistakes\n",
    "* ..."
   ]
  },
  {
   "cell_type": "markdown",
   "metadata": {},
   "source": [
    "# Help"
   ]
  },
  {
   "cell_type": "code",
   "execution_count": 2,
   "metadata": {},
   "outputs": [
    {
     "name": "stdout",
     "output_type": "stream",
     "text": [
      "Go is a tool for managing Go source code.\n",
      "\n",
      "Usage:\n",
      "\n",
      "\tgo <command> [arguments]\n",
      "\n",
      "The commands are:\n",
      "\n",
      "\tbug         start a bug report\n",
      "\tbuild       compile packages and dependencies\n",
      "\tclean       remove object files and cached files\n",
      "\tdoc         show documentation for package or symbol\n",
      "\tenv         print Go environment information\n",
      "\tfix         update packages to use new APIs\n",
      "\tfmt         gofmt (reformat) package sources\n",
      "\tgenerate    generate Go files by processing source\n",
      "\tget         add dependencies to current module and install them\n",
      "\tinstall     compile and install packages and dependencies\n",
      "\tlist        list packages or modules\n",
      "\tmod         module maintenance\n",
      "\twork        workspace maintenance\n",
      "\trun         compile and run Go program\n",
      "\ttest        test packages\n",
      "\ttool        run specified go tool\n",
      "\tversion     print Go version\n",
      "\tvet         report likely mistakes in packages\n",
      "\n",
      "Use \"go help <command>\" for more information about a command.\n",
      "\n",
      "Additional help topics:\n",
      "\n",
      "\tbuildconstraint build constraints\n",
      "\tbuildmode       build modes\n",
      "\tc               calling between Go and C\n",
      "\tcache           build and test caching\n",
      "\tenvironment     environment variables\n",
      "\tfiletype        file types\n",
      "\tgo.mod          the go.mod file\n",
      "\tgopath          GOPATH environment variable\n",
      "\tgoproxy         module proxy protocol\n",
      "\timportpath      import path syntax\n",
      "\tmodules         modules, module versions, and more\n",
      "\tmodule-auth     module authentication using go.sum\n",
      "\tpackages        package lists and patterns\n",
      "\tprivate         configuration for downloading non-public code\n",
      "\ttestflag        testing flags\n",
      "\ttestfunc        testing functions\n",
      "\tvcs             controlling version control with GOVCS\n",
      "\n",
      "Use \"go help <topic>\" for more information about that topic.\n",
      "\n"
     ]
    }
   ],
   "source": [
    "!go help"
   ]
  },
  {
   "cell_type": "markdown",
   "metadata": {},
   "source": [
    "# go env"
   ]
  },
  {
   "cell_type": "code",
   "execution_count": 3,
   "metadata": {},
   "outputs": [
    {
     "name": "stdout",
     "output_type": "stream",
     "text": [
      "GO111MODULE='on'\n",
      "GOARCH='amd64'\n",
      "GOBIN=''\n",
      "GOCACHE='/home/zhoujiagen/.cache/go-build'\n",
      "GOENV='/home/zhoujiagen/.config/go/env'\n",
      "GOEXE=''\n",
      "GOEXPERIMENT=''\n",
      "GOFLAGS=''\n",
      "GOHOSTARCH='amd64'\n",
      "GOHOSTOS='linux'\n",
      "GOINSECURE=''\n",
      "GOMODCACHE='/home/zhoujiagen/go/path/pkg/mod'\n",
      "GONOPROXY=''\n",
      "GONOSUMDB=''\n",
      "GOOS='linux'\n",
      "GOPATH='/home/zhoujiagen/go/path'\n",
      "GOPRIVATE=''\n",
      "GOPROXY='https://goproxy.cn,direct'\n",
      "GOROOT='/home/zhoujiagen/go'\n",
      "GOSUMDB='sum.golang.org'\n",
      "GOTMPDIR=''\n",
      "GOTOOLCHAIN='auto'\n",
      "GOTOOLDIR='/home/zhoujiagen/go/pkg/tool/linux_amd64'\n",
      "GOVCS=''\n",
      "GOVERSION='go1.22.2'\n",
      "GCCGO='gccgo'\n",
      "GOAMD64='v1'\n",
      "AR='ar'\n",
      "CC='gcc'\n",
      "CXX='g++'\n",
      "CGO_ENABLED='1'\n",
      "GOMOD='/dev/null'\n",
      "GOWORK=''\n",
      "CGO_CFLAGS='-O2 -g'\n",
      "CGO_CPPFLAGS=''\n",
      "CGO_CXXFLAGS='-O2 -g'\n",
      "CGO_FFLAGS='-O2 -g'\n",
      "CGO_LDFLAGS='-O2 -g'\n",
      "PKG_CONFIG='pkg-config'\n",
      "GOGCCFLAGS='-fPIC -m64 -pthread -Wl,--no-gc-sections -fmessage-length=0 -ffile-prefix-map=/tmp/go-build3408450706=/tmp/go-build -gno-record-gcc-switches'\n"
     ]
    }
   ],
   "source": [
    "!go env"
   ]
  },
  {
   "cell_type": "markdown",
   "metadata": {},
   "source": [
    "# go mod"
   ]
  },
  {
   "cell_type": "code",
   "execution_count": 1,
   "metadata": {},
   "outputs": [
    {
     "name": "stdout",
     "output_type": "stream",
     "text": [
      "/mnt/d/GoogleDrive/wiki/jupyter-notebooks/Golang\n"
     ]
    }
   ],
   "source": [
    "!pwd"
   ]
  },
  {
   "cell_type": "code",
   "execution_count": 2,
   "metadata": {},
   "outputs": [
    {
     "name": "stderr",
     "output_type": "stream",
     "text": [
      "go: creating new go.mod: module hello_world\n"
     ]
    }
   ],
   "source": [
    "!mkdir hello_world && cd hello_world && go mod init hello_world"
   ]
  },
  {
   "cell_type": "code",
   "execution_count": 3,
   "metadata": {},
   "outputs": [
    {
     "name": "stdout",
     "output_type": "stream",
     "text": [
      "package main\n",
      "\n",
      "import \"fmt\"\n",
      "\n",
      "func main() {\n",
      "\tfmt.Println(\"Hello, 世界!\")\n",
      "}\n"
     ]
    }
   ],
   "source": [
    "!cat hello_world/hello.go"
   ]
  },
  {
   "cell_type": "code",
   "execution_count": 4,
   "metadata": {},
   "outputs": [],
   "source": [
    "!cd hello_world && go build"
   ]
  },
  {
   "cell_type": "code",
   "execution_count": 5,
   "metadata": {},
   "outputs": [
    {
     "name": "stdout",
     "output_type": "stream",
     "text": [
      "Hello, 世界!\n"
     ]
    }
   ],
   "source": [
    "!cd hello_world && ./hello_world"
   ]
  },
  {
   "cell_type": "code",
   "execution_count": 6,
   "metadata": {},
   "outputs": [],
   "source": [
    "!cd hello_world && rm -rf hello_world"
   ]
  },
  {
   "cell_type": "markdown",
   "metadata": {},
   "source": [
    "# go fmt"
   ]
  },
  {
   "cell_type": "code",
   "execution_count": 8,
   "metadata": {},
   "outputs": [],
   "source": [
    "!cd hello_world && go fmt ./..."
   ]
  },
  {
   "cell_type": "markdown",
   "metadata": {},
   "source": [
    "# go vet"
   ]
  },
  {
   "cell_type": "code",
   "execution_count": 9,
   "metadata": {},
   "outputs": [],
   "source": [
    "!cd hello_world && go vet ./..."
   ]
  },
  {
   "cell_type": "markdown",
   "metadata": {},
   "source": [
    "# Make"
   ]
  },
  {
   "cell_type": "code",
   "execution_count": 13,
   "metadata": {},
   "outputs": [
    {
     "name": "stdout",
     "output_type": "stream",
     "text": [
      ".DEFAULT_GOAL := build\n",
      "\n",
      ".PHONY:fmt vet build\n",
      "fmt:\n",
      "\tgo fmt ./...\n",
      "\n",
      "vet: fmt\n",
      "\tgo vet ./...\n",
      "\n",
      "build: vet\n",
      "\tgo build\n",
      "\n",
      "clean:\n",
      "\trm -rf hello_world"
     ]
    }
   ],
   "source": [
    "!cat hello_world/Makefile"
   ]
  },
  {
   "cell_type": "code",
   "execution_count": 14,
   "metadata": {},
   "outputs": [
    {
     "name": "stdout",
     "output_type": "stream",
     "text": [
      "go fmt ./...\n",
      "go vet ./...\n",
      "go build\n"
     ]
    }
   ],
   "source": [
    "!cd hello_world && make"
   ]
  },
  {
   "cell_type": "code",
   "execution_count": 16,
   "metadata": {},
   "outputs": [
    {
     "name": "stdout",
     "output_type": "stream",
     "text": [
      "Hello, 世界!\n"
     ]
    }
   ],
   "source": [
    "!./hello_world/hello_world"
   ]
  },
  {
   "cell_type": "code",
   "execution_count": 17,
   "metadata": {},
   "outputs": [
    {
     "name": "stdout",
     "output_type": "stream",
     "text": [
      "rm -rf hello_world\n"
     ]
    }
   ],
   "source": [
    "!cd hello_world && make clean"
   ]
  },
  {
   "cell_type": "markdown",
   "metadata": {},
   "source": [
    "# gopls: the Go language server\n",
    "* https://github.com/golang/tools/blob/master/gopls/README.md"
   ]
  },
  {
   "cell_type": "code",
   "execution_count": 1,
   "metadata": {},
   "outputs": [
    {
     "name": "stderr",
     "output_type": "stream",
     "text": [
      "go: downloading golang.org/x/tools v0.29.0\n",
      "go: downloading golang.org/x/tools/gopls v0.17.1\n",
      "go: golang.org/x/tools/gopls@v0.17.1 requires go >= 1.23.1; switching to go1.23.4\n",
      "go: downloading go1.23.4 (linux/amd64)\n",
      "go: downloading golang.org/x/tools v0.27.1-0.20241219162658-575221bfbda3\n",
      "go: downloading golang.org/x/mod v0.22.0\n",
      "go: downloading mvdan.cc/xurls/v2 v2.5.0\n",
      "go: downloading golang.org/x/sync v0.9.0\n",
      "go: downloading golang.org/x/vuln v1.0.4\n",
      "go: downloading honnef.co/go/tools v0.5.1\n",
      "go: downloading mvdan.cc/gofumpt v0.7.0\n",
      "go: downloading golang.org/x/text v0.20.0\n",
      "go: downloading github.com/google/go-cmp v0.6.0\n",
      "go: downloading golang.org/x/exp/typeparams v0.0.0-20231108232855-2478ac86f678\n",
      "go: downloading github.com/BurntSushi/toml v1.4.1-0.20240526193622-a339e1f7089c\n"
     ]
    }
   ],
   "source": [
    "!go install golang.org/x/tools/gopls@latest"
   ]
  }
 ],
 "metadata": {
  "kernelspec": {
   "display_name": "Go (gonb)",
   "language": "go",
   "name": "gonb"
  },
  "language_info": {
   "codemirror_mode": "",
   "file_extension": ".go",
   "mimetype": "",
   "name": "go",
   "nbconvert_exporter": "",
   "pygments_lexer": "",
   "version": "go1.23.4"
  }
 },
 "nbformat": 4,
 "nbformat_minor": 2
}
