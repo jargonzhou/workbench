{
 "cells": [
  {
   "cell_type": "markdown",
   "metadata": {},
   "source": [
    "# containerd\n",
    "* https://containerd.io"
   ]
  },
  {
   "cell_type": "code",
   "execution_count": 1,
   "metadata": {},
   "outputs": [
    {
     "name": "stderr",
     "output_type": "stream",
     "text": [
      "2025/01/14 12:25:44 failed to dial \"/run/containerd/containerd.sock\": context deadline exceeded: connection error: desc = \"transport: error while dialing: dial unix:///run/containerd/containerd.sock: timeout\"\n",
      "exit status 1\n"
     ]
    }
   ],
   "source": [
    "\n",
    "import (\n",
    "\t\"context\"\n",
    "\t\"fmt\"\n",
    "\t\"log\"\n",
    "\t\"syscall\"\n",
    "\t\"time\"\n",
    "\n",
    "\t\"github.com/containerd/containerd\"\n",
    "\t\"github.com/containerd/containerd/cio\"\n",
    "\t\"github.com/containerd/containerd/namespaces\"\n",
    "\t\"github.com/containerd/containerd/oci\"\n",
    ")\n",
    "\n",
    "// examples from https://containerd.io/docs/getting-started/\n",
    "func main() {\n",
    "\tif err := redisExample(); err != nil {\n",
    "\t\tlog.Fatal(err)\n",
    "\t}\n",
    "}\n",
    "\n",
    "func redisExample() error {\n",
    "\tclient, err := containerd.New(\"/run/containerd/containerd.sock\")\n",
    "\tif err != nil {\n",
    "\t\treturn err\n",
    "\t}\n",
    "\tdefer client.Close()\n",
    "\n",
    "\tctx := namespaces.WithNamespace(context.Background(), \"example\")\n",
    "\n",
    "\timage, err := client.Pull(ctx, \"docker.io/library/redis:aplpine\", containerd.WithPullUnpack)\n",
    "\tif err != nil {\n",
    "\t\treturn err\n",
    "\t}\n",
    "\n",
    "\tcontainer, err := client.NewContainer(\n",
    "\t\tctx,\n",
    "\t\t\"redis-server\",\n",
    "\t\tcontainerd.WithImage(image),\n",
    "\t\tcontainerd.WithNewSnapshot(\"redis-server-snapshot\", image),\n",
    "\t\tcontainerd.WithNewSpec(oci.WithImageConfig(image)),\n",
    "\t)\n",
    "\tif err != nil {\n",
    "\t\treturn err\n",
    "\t}\n",
    "\tdefer container.Delete(ctx, containerd.WithSnapshotCleanup)\n",
    "\n",
    "\ttask, err := container.NewTask(ctx, cio.NewCreator(cio.WithStdio))\n",
    "\tif err != nil {\n",
    "\t\treturn err\n",
    "\t}\n",
    "\tdefer task.Delete(ctx)\n",
    "\n",
    "\texitStatusC, err := task.Wait(ctx)\n",
    "\tif err != nil {\n",
    "\t\tfmt.Println(err)\n",
    "\t}\n",
    "\n",
    "\tif err := task.Start(ctx); err != nil {\n",
    "\t\treturn err\n",
    "\t}\n",
    "\n",
    "\ttime.Sleep(3 * time.Second)\n",
    "\n",
    "\tif err := task.Kill(ctx, syscall.SIGTERM); err != nil {\n",
    "\t\treturn err\n",
    "\t}\n",
    "\n",
    "\tstatus := <-exitStatusC\n",
    "\tcode, _, err := status.Result()\n",
    "\tif err != nil {\n",
    "\t\treturn err\n",
    "\t}\n",
    "\tfmt.Printf(\"redis-server exist with status: %d\\n\", code)\n",
    "\n",
    "\treturn nil\n",
    "}"
   ]
  }
 ],
 "metadata": {
  "kernelspec": {
   "display_name": "Go (gonb)",
   "language": "go",
   "name": "gonb"
  },
  "language_info": {
   "codemirror_mode": "",
   "file_extension": ".go",
   "mimetype": "",
   "name": "go",
   "nbconvert_exporter": "",
   "pygments_lexer": "",
   "version": "go1.23.4"
  }
 },
 "nbformat": 4,
 "nbformat_minor": 2
}
