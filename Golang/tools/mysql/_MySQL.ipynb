{
 "cells": [
  {
   "cell_type": "markdown",
   "metadata": {},
   "source": [
    "# MySQL"
   ]
  },
  {
   "cell_type": "markdown",
   "metadata": {},
   "source": [
    "# CRUD"
   ]
  },
  {
   "cell_type": "code",
   "execution_count": 1,
   "metadata": {},
   "outputs": [],
   "source": [
    "\n",
    "import (\n",
    "\t\"database/sql\"\n",
    "\t\"log\"\n",
    "\t\"math/rand\"\n",
    "\t\"strconv\"\n",
    "\t\"testing\"\n",
    "\t\"time\"\n",
    "\n",
    "\t_ \"github.com/go-sql-driver/mysql\"\n",
    ")\n",
    "\n",
    "/** 数据准备\n",
    "CREATE SCHEMA `movies` DEFAULT CHARACTER SET utf8mb4 COLLATE utf8mb4_bin ;\n",
    "\n",
    "CREATE TABLE `Movies` (\n",
    "  `title` varchar(100) NOT NULL,\n",
    "  `year` int(11) NOT NULL,\n",
    "  `length` int(11) DEFAULT NULL,\n",
    "  `genre` varchar(10) DEFAULT NULL,\n",
    "  `studioName` varchar(30) DEFAULT NULL,\n",
    "  `producerC#` int(11) DEFAULT NULL,\n",
    "  PRIMARY KEY (`title`,`year`)\n",
    ") ENGINE=InnoDB DEFAULT CHARSET=utf8mb4 COLLATE=utf8mb4_bin;\n",
    "*/\n",
    "\n",
    "type RMovie struct {\n",
    "\tTitle      string\n",
    "\tYear       int\n",
    "\tLength     int    // nullable\n",
    "\tGenre      string // nullable\n",
    "\tStudioName string // nullable\n",
    "\tProducerC  int    // nullable\n",
    "}\n",
    "\n",
    "// 解析行\n",
    "func (movie *RMovie) Scan(rows *sql.Rows) error {\n",
    "\t// 处理NULL\n",
    "\tvar length sql.NullInt64\n",
    "\tvar genre sql.NullString\n",
    "\tvar studioName sql.NullString\n",
    "\tvar producerC sql.NullInt64\n",
    "\terr := rows.Scan(&movie.Title, &movie.Year, &length, &genre, &studioName, &producerC)\n",
    "\tif err != nil {\n",
    "\t\treturn err\n",
    "\t}\n",
    "\n",
    "\tif length.Valid {\n",
    "\t\tmovie.Length = int(length.Int64)\n",
    "\t}\n",
    "\tif genre.Valid {\n",
    "\t\tmovie.Genre = genre.String\n",
    "\t}\n",
    "\tif studioName.Valid {\n",
    "\t\tmovie.StudioName = studioName.String\n",
    "\t}\n",
    "\tif producerC.Valid {\n",
    "\t\tmovie.ProducerC = int(producerC.Int64)\n",
    "\t}\n",
    "\n",
    "\treturn nil\n",
    "}\n",
    "\n",
    "// 配置连接\n",
    "func Configure(db *sql.DB) {\n",
    "\tdb.SetMaxOpenConns(10)\n",
    "\tdb.SetMaxIdleConns(10)\n",
    "\tdb.SetConnMaxLifetime(time.Minute * 5)\n",
    "}\n",
    "\n",
    "// 保存\n",
    "func Save(db *sql.DB, movie *RMovie) {\n",
    "\ttx, err := db.Begin()\n",
    "\tif err != nil {\n",
    "\t\tlog.Fatalf(\"error: %v\", err)\n",
    "\t}\n",
    "\n",
    "\tstmt, err := db.Prepare(\"INSERT INTO Movies(title, year, length, genre, studioName, `producerC#`) \" +\n",
    "\t\t\"VALUES (?,?,?,?,?,?)\")\n",
    "\tif err != nil {\n",
    "\t\tlog.Fatalf(\"error: %v\", err)\n",
    "\t}\n",
    "\n",
    "\tres, err := stmt.Exec(movie.Title, movie.Year, movie.Length, movie.Genre, movie.StudioName, movie.ProducerC)\n",
    "\tif err != nil {\n",
    "\t\tlog.Fatalf(\"error: %v\", err)\n",
    "\t}\n",
    "\n",
    "\trowCnt, err := res.RowsAffected()\n",
    "\tif err != nil {\n",
    "\t\tlog.Fatalf(\"error: %v\", err)\n",
    "\t}\n",
    "\tlog.Printf(\"RowsAffected=%d\\n\", rowCnt)\n",
    "\n",
    "\ttx.Commit()\n",
    "}\n",
    "\n",
    "// 查询\n",
    "func Query(db *sql.DB) {\n",
    "\trows, err := db.Query(\"SELECT * FROM Movies\")\n",
    "\tdefer rows.Close()\n",
    "\n",
    "\tfor rows.Next() {\n",
    "\t\tvar movie RMovie\n",
    "\t\terr := movie.Scan(rows)\n",
    "\n",
    "\t\tif err != nil {\n",
    "\t\t\tlog.Fatalf(\"error: %v\", err)\n",
    "\t\t}\n",
    "\t\tlog.Printf(\"%v\\n\", movie)\n",
    "\t}\n",
    "\n",
    "\terr = rows.Err()\n",
    "\tif err != nil {\n",
    "\t\tlog.Fatalf(\"error: %v\", err)\n",
    "\t}\n",
    "}"
   ]
  },
  {
   "cell_type": "code",
   "execution_count": 2,
   "metadata": {},
   "outputs": [
    {
     "name": "stdout",
     "output_type": "stream",
     "text": [
      "=== RUN   TestMySQL\n"
     ]
    },
    {
     "name": "stderr",
     "output_type": "stream",
     "text": [
      "2025/01/14 12:50:59 RowsAffected=1\n",
      "2025/01/14 12:50:59 {title8986880527615784937 2000 120 genre1 studioName1 1}\n"
     ]
    },
    {
     "name": "stdout",
     "output_type": "stream",
     "text": [
      "--- PASS: TestMySQL (0.01s)\n",
      "PASS\n"
     ]
    }
   ],
   "source": [
    "func TestMySQL(t *testing.T) {\n",
    "\t// 建立连接\n",
    "\tdb, err := sql.Open(\"mysql\", \"root:devops+mysql@tcp(127.0.0.1:3306)/movies\")\n",
    "\tif err != nil {\n",
    "\t\tt.Errorf(\"error: %v\", err)\n",
    "\t}\n",
    "\t// 配置连接\n",
    "\tConfigure(db)\n",
    "\t// 最后关闭连接\n",
    "\tdefer db.Close()\n",
    "\n",
    "\t// 执行插入\n",
    "\trandSeed := time.Now().UnixNano()\n",
    "\tr := rand.New(rand.NewSource(randSeed))\n",
    "\tmovie := RMovie{\n",
    "\t\tTitle:      \"title\" + strconv.Itoa(r.Int()),\n",
    "\t\tYear:       2000,\n",
    "\t\tLength:     120,\n",
    "\t\tGenre:      \"genre1\",\n",
    "\t\tStudioName: \"studioName1\",\n",
    "\t\tProducerC:  1,\n",
    "\t}\n",
    "\tSave(db, &movie)\n",
    "\n",
    "\t// 执行查询\n",
    "\tQuery(db)\n",
    "}\n",
    "\n",
    "\n",
    "%test"
   ]
  },
  {
   "cell_type": "markdown",
   "metadata": {},
   "source": [
    "# Hacking: binlog, wire protocol"
   ]
  },
  {
   "cell_type": "code",
   "execution_count": 1,
   "metadata": {},
   "outputs": [
    {
     "name": "stderr",
     "output_type": "stream",
     "text": [
      "go: creating new go.mod: module mysql_hack\n",
      "go: to add module requirements and sums:\n",
      "\tgo mod tidy\n"
     ]
    }
   ],
   "source": [
    "!cd mysql_hack && go mod init mysql_hack"
   ]
  },
  {
   "cell_type": "code",
   "execution_count": 3,
   "metadata": {},
   "outputs": [],
   "source": [
    "!cd mysql_hack && go mod tidy"
   ]
  }
 ],
 "metadata": {
  "kernelspec": {
   "display_name": "Go (gonb)",
   "language": "go",
   "name": "gonb"
  },
  "language_info": {
   "codemirror_mode": "",
   "file_extension": ".go",
   "mimetype": "",
   "name": "go",
   "nbconvert_exporter": "",
   "pygments_lexer": "",
   "version": "go1.23.4"
  }
 },
 "nbformat": 4,
 "nbformat_minor": 2
}
