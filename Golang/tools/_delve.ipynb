{
 "cells": [
  {
   "cell_type": "markdown",
   "metadata": {},
   "source": [
    "# delve\n",
    "* Delve is a debugger for the Go programming language.\n",
    "* https://github.com/go-delve/delve"
   ]
  },
  {
   "cell_type": "code",
   "execution_count": 1,
   "metadata": {},
   "outputs": [
    {
     "name": "stderr",
     "output_type": "stream",
     "text": [
      "go: downloading github.com/go-delve/delve v1.24.0\n",
      "go: downloading github.com/sirupsen/logrus v1.9.3\n",
      "go: downloading github.com/spf13/cobra v1.7.0\n",
      "go: downloading golang.org/x/telemetry v0.0.0-20241106142447-58a1122356f5\n",
      "go: downloading github.com/mattn/go-isatty v0.0.20\n",
      "go: downloading github.com/cosiner/argv v0.1.0\n",
      "go: downloading github.com/derekparker/trie v0.0.0-20230829180723-39f4de51ef7d\n",
      "go: downloading github.com/go-delve/liner v1.2.3-0.20231231155935-4726ab1d7f62\n",
      "go: downloading gopkg.in/yaml.v3 v3.0.1\n",
      "go: downloading github.com/spf13/pflag v1.0.5\n",
      "go: downloading github.com/hashicorp/golang-lru v1.0.2\n",
      "go: downloading golang.org/x/arch v0.11.0\n",
      "go: downloading github.com/google/go-dap v0.12.0\n",
      "go: downloading golang.org/x/sys v0.26.0\n",
      "go: downloading go.starlark.net v0.0.0-20231101134539-556fd59b42f6\n",
      "go: downloading github.com/cilium/ebpf v0.11.0\n",
      "go: downloading github.com/cpuguy83/go-md2man/v2 v2.0.2\n",
      "go: downloading github.com/mattn/go-runewidth v0.0.13\n",
      "go: downloading golang.org/x/sync v0.8.0\n",
      "go: downloading github.com/russross/blackfriday/v2 v2.1.0\n",
      "go: downloading github.com/rivo/uniseg v0.2.0\n",
      "go: downloading golang.org/x/exp v0.0.0-20230224173230-c95f2b4c22f2\n"
     ]
    }
   ],
   "source": [
    "!go install github.com/go-delve/delve/cmd/dlv@latest"
   ]
  },
  {
   "cell_type": "markdown",
   "metadata": {},
   "source": [
    "# Help"
   ]
  },
  {
   "cell_type": "code",
   "execution_count": 1,
   "metadata": {},
   "outputs": [
    {
     "name": "stdout",
     "output_type": "stream",
     "text": [
      "/home/zhoujiagen/go/path/bin/dlv\n"
     ]
    }
   ],
   "source": [
    "!which dlv"
   ]
  },
  {
   "cell_type": "code",
   "execution_count": 2,
   "metadata": {},
   "outputs": [
    {
     "name": "stdout",
     "output_type": "stream",
     "text": [
      "Delve is a source level debugger for Go programs.\n",
      "\n",
      "Delve enables you to interact with your program by controlling the execution of the process,\n",
      "evaluating variables, and providing information of thread / goroutine state, CPU register state and more.\n",
      "\n",
      "The goal of this tool is to provide a simple yet powerful interface for debugging Go programs.\n",
      "\n",
      "Pass flags to the program you are debugging using `--`, for example:\n",
      "\n",
      "`dlv exec ./hello -- server --config conf/config.toml`\n",
      "\n",
      "Usage:\n",
      "  dlv [command]\n",
      "\n",
      "Available Commands:\n",
      "  attach                       Attach to running process and begin debugging.\n",
      "  completion                   Generate the autocompletion script for the specified shell\n",
      "  connect                      Connect to a headless debug server with a terminal client.\n",
      "  core                         Examine a core dump.\n",
      "  dap                          Starts a headless TCP server communicating via Debug Adaptor Protocol (DAP).\n",
      "  debug                        Compile and begin debugging main package in current directory, or the package specified.\n",
      "  exec                         Execute a precompiled binary, and begin a debug session.\n",
      "  help                         Help about any command\n",
      "  test                         Compile test binary and begin debugging program.\n",
      "  trace                        Compile and begin tracing program.\n",
      "  version                      Prints version.\n",
      "\n",
      "Additional help topics:\n",
      "  dlv backend                      Help about the --backend flag.\n",
      "  dlv log                          Help about logging flags.\n",
      "  dlv redirect                     Help about file redirection.\n",
      "\n",
      "Use \"dlv [command] --help\" for more information about a command.\n"
     ]
    }
   ],
   "source": [
    "!dlv help"
   ]
  }
 ],
 "metadata": {
  "kernelspec": {
   "display_name": "Go (gonb)",
   "language": "go",
   "name": "gonb"
  },
  "language_info": {
   "codemirror_mode": "",
   "file_extension": ".go",
   "mimetype": "",
   "name": "go",
   "nbconvert_exporter": "",
   "pygments_lexer": "",
   "version": "go1.23.4"
  }
 },
 "nbformat": 4,
 "nbformat_minor": 2
}
