{
 "cells": [
  {
   "cell_type": "markdown",
   "metadata": {},
   "source": [
    "# corba\n",
    "* https://github.com/spf13/cobra"
   ]
  },
  {
   "cell_type": "code",
   "execution_count": 3,
   "metadata": {},
   "outputs": [
    {
     "name": "stderr",
     "output_type": "stream",
     "text": [
      "go: /mnt/d/GoogleDrive/wiki/jupyter-notebooks/Golang/tools/go.mod already exists\n",
      "exit status 1\n"
     ]
    }
   ],
   "source": [
    "!go mod init hellocorba"
   ]
  },
  {
   "cell_type": "code",
   "execution_count": 15,
   "metadata": {},
   "outputs": [],
   "source": [
    "!cd hellocorba && go mod tidy"
   ]
  },
  {
   "cell_type": "code",
   "execution_count": 16,
   "metadata": {},
   "outputs": [
    {
     "name": "stdout",
     "output_type": "stream",
     "text": [
      "A long description of corba.\n",
      "\n",
      "Usage:\n",
      "  corba [command]\n",
      "\n",
      "Available Commands:\n",
      "  add         Short description of add\n",
      "  completion  Generate the autocompletion script for the specified shell\n",
      "  help        Help about any command\n",
      "  init        Short description of init\n",
      "  version     Short description of version\n",
      "\n",
      "Flags:\n",
      "  -a, --author string    author name for copyright attribution (default \"zhoujiagen\")\n",
      "  -h, --help             help for corba\n",
      "  -l, --license string   name of license for the project\n",
      "      --viper            use Viper for configuration (default true)\n",
      "\n",
      "Use \"corba [command] --help\" for more information about a command.\n"
     ]
    }
   ],
   "source": [
    "!cd hellocorba && go run main.go"
   ]
  }
 ],
 "metadata": {
  "kernelspec": {
   "display_name": "Go (gonb)",
   "language": "go",
   "name": "gonb"
  },
  "language_info": {
   "codemirror_mode": "",
   "file_extension": ".go",
   "mimetype": "",
   "name": "go",
   "nbconvert_exporter": "",
   "pygments_lexer": "",
   "version": "go1.23.4"
  }
 },
 "nbformat": 4,
 "nbformat_minor": 2
}
