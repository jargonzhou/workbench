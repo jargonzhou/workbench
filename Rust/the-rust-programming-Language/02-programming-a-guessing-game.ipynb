{
 "cells": [
  {
   "cell_type": "code",
   "execution_count": 3,
   "metadata": {
    "vscode": {
     "languageId": "rust"
    }
   },
   "outputs": [],
   "source": [
    ":dep rand = \"0.8.5\"\n",
    "// for input\n",
    ":dep evcxr_input = \"1.0.0\""
   ]
  },
  {
   "cell_type": "code",
   "execution_count": 4,
   "metadata": {
    "vscode": {
     "languageId": "rust"
    }
   },
   "outputs": [
    {
     "name": "stdout",
     "output_type": "stream",
     "text": [
      "Guess the number!\n",
      "Please input your guess.\n",
      "You guessed: 10\n",
      "Too small!\n",
      "Please input your guess.\n",
      "You guessed: 50\n",
      "Too big!\n",
      "Please input your guess.\n",
      "You guessed: 50\n",
      "Too big!\n",
      "Please input your guess.\n",
      "You guessed: 32\n",
      "Too big!\n",
      "Please input your guess.\n",
      "You guessed: 32\n",
      "Too big!\n",
      "Please input your guess.\n",
      "You guessed: 23\n",
      "Too big!\n",
      "Please input your guess.\n",
      "You guessed: 12\n",
      "Too small!\n",
      "Please input your guess.\n",
      "You guessed: 20\n",
      "Too small!\n",
      "Please input your guess.\n",
      "You guessed: 20\n",
      "Too small!\n",
      "Please input your guess.\n",
      "You guessed: 22\n",
      "Too big!\n",
      "Please input your guess.\n",
      "You guessed: 22\n",
      "Too big!\n",
      "Please input your guess.\n",
      "You guessed: 21\n",
      "You win!\n"
     ]
    },
    {
     "data": {
      "text/plain": [
       "()"
      ]
     },
     "execution_count": 4,
     "metadata": {},
     "output_type": "execute_result"
    }
   ],
   "source": [
    "use rand::Rng;\n",
    "// use std::io;\n",
    "use evcxr_input::get_string;\n",
    "use std::cmp::Ordering;\n",
    "\n",
    "println!(\"Guess the number!\");\n",
    "\n",
    "let secret_number = rand::thread_rng().gen_range(1..=100);\n",
    "\n",
    "loop {\n",
    "    println!(\"Please input your guess.\");\n",
    "\n",
    "    // read from stdin\n",
    "    // let mut guess = String::new();\n",
    "    // io::stdin().read_line(&mut guess).expect(\"Failed to read line\");\n",
    "    // read from notebook\n",
    "    let mut guess = get_string(\"here goes the argument: \");\n",
    "\n",
    "    let guess: u32 = match guess.trim().parse() {\n",
    "        Ok(num) => num,\n",
    "        Err(_) => {\n",
    "            continue;\n",
    "        }\n",
    "    };\n",
    "\n",
    "    println!(\"You guessed: {guess}\");\n",
    "\n",
    "    match guess.cmp(&secret_number) {\n",
    "        Ordering::Less => println!(\"Too small!\"),\n",
    "        Ordering::Greater => println!(\"Too big!\"),\n",
    "        Ordering::Equal => {\n",
    "            println!(\"You win!\");\n",
    "            break;\n",
    "        }\n",
    "    }\n",
    "}\n"
   ]
  }
 ],
 "metadata": {
  "kernelspec": {
   "display_name": "Rust",
   "language": "rust",
   "name": "rust"
  },
  "language_info": {
   "codemirror_mode": "rust",
   "file_extension": ".rs",
   "mimetype": "text/rust",
   "name": "Rust",
   "pygment_lexer": "rust",
   "version": ""
  }
 },
 "nbformat": 4,
 "nbformat_minor": 2
}
