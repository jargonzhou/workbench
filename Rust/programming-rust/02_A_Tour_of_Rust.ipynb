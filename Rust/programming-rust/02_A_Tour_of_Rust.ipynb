{
 "cells": [
  {
   "cell_type": "markdown",
   "metadata": {},
   "source": [
    "# Rust Functions"
   ]
  },
  {
   "cell_type": "code",
   "execution_count": 2,
   "metadata": {
    "vscode": {
     "languageId": "rust"
    }
   },
   "outputs": [],
   "source": [
    "fn gcd(mut n: u64, mut m: u64) -> u64 {\n",
    "    assert!(n != 0 && m != 0);\n",
    "    while m != 0 {\n",
    "        if m < n {\n",
    "            let t = m;\n",
    "            m = n;\n",
    "            n = t;\n",
    "        }\n",
    "        m = m % n;\n",
    "    }\n",
    "    n\n",
    "}\n"
   ]
  },
  {
   "cell_type": "code",
   "execution_count": 4,
   "metadata": {
    "vscode": {
     "languageId": "rust"
    }
   },
   "outputs": [
    {
     "data": {
      "text/plain": [
       "1"
      ]
     },
     "execution_count": 4,
     "metadata": {},
     "output_type": "execute_result"
    }
   ],
   "source": [
    "// block expression\n",
    "{\n",
    "    print!(\"evaluating\");\n",
    "    let a = 1i32;\n",
    "    a\n",
    "}"
   ]
  },
  {
   "cell_type": "markdown",
   "metadata": {},
   "source": [
    "# Writing and Running Unit Tests"
   ]
  },
  {
   "cell_type": "code",
   "execution_count": 14,
   "metadata": {
    "vscode": {
     "languageId": "rust"
    }
   },
   "outputs": [],
   "source": [
    "// #[test]\n",
    "fn test_gcd() {\n",
    "    assert_eq!(gcd(14, 15), 1);\n",
    "    assert_eq!(gcd(2 * 3 * 5 * 11 * 17, 3 * 7 * 11 * 13 * 19), 3 * 11)\n",
    "}"
   ]
  },
  {
   "cell_type": "code",
   "execution_count": 15,
   "metadata": {
    "vscode": {
     "languageId": "rust"
    }
   },
   "outputs": [],
   "source": [
    "test_gcd();"
   ]
  },
  {
   "cell_type": "markdown",
   "metadata": {},
   "source": [
    "# Handling Command-Line Arguments"
   ]
  },
  {
   "cell_type": "code",
   "execution_count": 23,
   "metadata": {
    "vscode": {
     "languageId": "rust"
    }
   },
   "outputs": [
    {
     "data": {
      "text/plain": [
       "\"aaa\""
      ]
     },
     "execution_count": 23,
     "metadata": {},
     "output_type": "execute_result"
    }
   ],
   "source": [
    "// https://github.com/evcxr/evcxr/blob/main/evcxr_input/src/lib.rs\n",
    ":dep evcxr_input = \"1.0.0\"\n",
    "\n",
    "use evcxr_input::get_string;\n",
    "let a = get_string(\"here goes the argument: \");\n",
    "a"
   ]
  },
  {
   "cell_type": "code",
   "execution_count": 29,
   "metadata": {
    "vscode": {
     "languageId": "rust"
    }
   },
   "outputs": [],
   "source": [
    "use std::str::FromStr;\n",
    "use std::env;\n",
    "\n",
    "fn main() {\n",
    "    let mut numbers = Vec::new();\n",
    "\n",
    "    if env::args().len() > 1 {\n",
    "        for arg in env::args().skip(1) {\n",
    "            // Result\n",
    "            numbers.push(u64::from_str(&arg).expect(\"error parsing argument\"));\n",
    "        }\n",
    "    } else {\n",
    "        let input: String = get_string(\"here goes the argument: \");\n",
    "        let args: Vec<&str> = input.split(' ').collect();\n",
    "        for arg in args {\n",
    "            numbers.push(u64::from_str(&arg).expect(\"error parsing argument\"));\n",
    "        }\n",
    "    }\n",
    "\n",
    "    if numbers.len() == 0 {\n",
    "        eprintln!(\"Usage: gcd NUMBER ...\");\n",
    "        std::process::exit(1);\n",
    "    }\n",
    "\n",
    "    let mut d = numbers[0];\n",
    "    for m in &numbers[1..] {\n",
    "        d = gcd(d, *m);\n",
    "    }\n",
    "\n",
    "    println!(\"The gcd of {:?} is {}\", numbers, d);\n",
    "}\n"
   ]
  },
  {
   "cell_type": "code",
   "execution_count": 30,
   "metadata": {
    "vscode": {
     "languageId": "rust"
    }
   },
   "outputs": [
    {
     "name": "stdout",
     "output_type": "stream",
     "text": [
      "The gcd of [4, 5, 6, 7, 8] is 1\n"
     ]
    }
   ],
   "source": [
    "main();"
   ]
  },
  {
   "cell_type": "markdown",
   "metadata": {},
   "source": [
    "# Serving Pages to the Web"
   ]
  },
  {
   "cell_type": "code",
   "execution_count": null,
   "metadata": {
    "vscode": {
     "languageId": "rust"
    }
   },
   "outputs": [],
   "source": [
    "// WARN: rather slow!!!\n",
    ":dep actix-web = \"4.9.0\"\n",
    ":dep serde = { version = \"1.0.213\", features = [\"derive\"] }"
   ]
  },
  {
   "cell_type": "code",
   "execution_count": null,
   "metadata": {
    "vscode": {
     "languageId": "rust"
    }
   },
   "outputs": [],
   "source": [
    "/// Example of actix-web\n",
    "/// https://actix.rs/docs/getting-started\n",
    "use actix_web::{web, App, HttpResponse, HttpServer, Responder};\n",
    "use serde::Deserialize;\n",
    "\n",
    "#[derive(Deserialize)]\n",
    "struct GcdParameters {\n",
    "    n: u64,\n",
    "    m: u64,\n",
    "}\n",
    "\n",
    "async fn get_index() -> impl Responder {\n",
    "    HttpResponse::Ok()\n",
    "        .content_type(\"text/html\")\n",
    "        // raw string\n",
    "        .body(\n",
    "            r#\"\n",
    "        <title>GCD</title>\n",
    "        <form action=\"/gcd\" method=\"post\">\n",
    "            <input type=\"text\" name=\"n\" />\n",
    "            <input type=\"text\" name=\"m\" />\n",
    "            <button type=\"submit\">Compute</button>\n",
    "        </form>\n",
    "        \"#,\n",
    "        )\n",
    "}\n",
    "\n",
    "async fn post_gcd(form: web::Form<GcdParameters>) -> impl Responder {\n",
    "    if form.m == 0 || form.m == 0 {\n",
    "        return HttpResponse::BadRequest()\n",
    "            .content_type(\"text/html\")\n",
    "            .body(\"Zero argument!\");\n",
    "    }\n",
    "\n",
    "    let response = format!(\n",
    "        \"The GCD of {} and {} is <b>{}</b>\\n\",\n",
    "        form.n,\n",
    "        form.m,\n",
    "        gcd(form.n, form.m)\n",
    "    );\n",
    "\n",
    "    HttpResponse::Ok().content_type(\"text/html\").body(response)\n",
    "}\n",
    "\n",
    "fn gcd(mut n: u64, mut m: u64) -> u64 {\n",
    "    assert!(n != 0 && m != 0);\n",
    "    while m != 0 {\n",
    "        if m < n {\n",
    "            let t = m;\n",
    "            m = n;\n",
    "            n = t;\n",
    "        }\n",
    "        m = m % n;\n",
    "    }\n",
    "    n\n",
    "}\n",
    "\n",
    "#[actix_web::main]\n",
    "async fn main() -> std::io::Result<()> {\n",
    "    // closure expression: ||\n",
    "    let server = HttpServer::new(|| {\n",
    "        App::new()\n",
    "            .route(\"/\", web::get().to(get_index))\n",
    "            .route(\"/gcd\", web::post().to(post_gcd))\n",
    "    });\n",
    "\n",
    "    println!(\"Serving on http://localhost:3000...\");\n",
    "    server\n",
    "        .bind(\"127.0.0.1:3000\")\n",
    "        .expect(\"error binding server to address\")\n",
    "        .run()\n",
    "        .await\n",
    "}"
   ]
  },
  {
   "cell_type": "markdown",
   "metadata": {},
   "source": [
    "# Concurrency"
   ]
  },
  {
   "cell_type": "code",
   "execution_count": null,
   "metadata": {
    "vscode": {
     "languageId": "rust"
    }
   },
   "outputs": [],
   "source": [
    ":dep num = \"0.4.3\"\n",
    ":dep image = \"0.25.4\"\n",
    ":dep crossbeam = \"0.8.4\""
   ]
  },
  {
   "cell_type": "code",
   "execution_count": null,
   "metadata": {
    "vscode": {
     "languageId": "rust"
    }
   },
   "outputs": [],
   "source": [
    "//! 输出Mandelbrot集.\n",
    "\n",
    "use image::ColorType;\n",
    "use num::Complex;\n",
    "\n",
    "/// 将像素转换为复数.\n",
    "#[allow(dead_code)]\n",
    "fn pixel_to_point(\n",
    "    bounds: (usize, usize),\n",
    "    pixel: (usize, usize),\n",
    "    upper_left: Complex<f64>,\n",
    "    lower_right: Complex<f64>\n",
    ") -> Complex<f64> {\n",
    "    let (width, height) = (lower_right.re - upper_left.re, upper_left.im - lower_right.im);\n",
    "\n",
    "    Complex {\n",
    "        re: upper_left.re + ((pixel.0 as f64) * width) / (bounds.0 as f64),\n",
    "        im: upper_left.im - ((pixel.1 as f64) * height) / (bounds.1 as f64),\n",
    "    }\n",
    "}\n",
    "\n",
    "/// 在像素缓冲区中表示Mandelbrot集\n",
    "#[allow(dead_code)]\n",
    "pub fn render(\n",
    "    pixels: &mut [u8],\n",
    "    bounds: (usize, usize),\n",
    "    upper_left: Complex<f64>,\n",
    "    lower_right: Complex<f64>\n",
    ") {\n",
    "    assert_eq!(pixels.len(), bounds.0 * bounds.1);\n",
    "\n",
    "    for row in 0..bounds.1 {\n",
    "        for column in 0..bounds.0 {\n",
    "            let point = pixel_to_point(bounds, (column, row), upper_left, lower_right);\n",
    "\n",
    "            pixels[row * bounds.0 + column] = match escape_time(point, 255) {\n",
    "                None => 0,\n",
    "                Some(count) => 255 - (count as u8),\n",
    "            };\n",
    "        }\n",
    "    }\n",
    "}\n",
    "\n",
    "/// 并发的`render`\n",
    "#[allow(dead_code)]\n",
    "pub fn render_c(\n",
    "    pixels: &mut [u8],\n",
    "    bounds: (usize, usize),\n",
    "    upper_left: Complex<f64>,\n",
    "    lower_right: Complex<f64>\n",
    ") {\n",
    "    let threads = 8;\n",
    "    let rows_per_band = bounds.1 / threads + 1;\n",
    "    {\n",
    "        let bands: Vec<&mut [u8]> = pixels.chunks_mut(rows_per_band * bounds.0).collect();\n",
    "\n",
    "        crossbeam\n",
    "            ::scope(|spawner| {\n",
    "                for (i, band) in bands.into_iter().enumerate() {\n",
    "                    let top = rows_per_band * i;\n",
    "                    let height = band.len() / bounds.0;\n",
    "                    let band_bounds = (bounds.0, height);\n",
    "                    let band_upper_left = pixel_to_point(bounds, (0, top), upper_left, lower_right);\n",
    "                    let band_lower_right = pixel_to_point(\n",
    "                        bounds,\n",
    "                        (bounds.0, top + height),\n",
    "                        upper_left,\n",
    "                        lower_right\n",
    "                    );\n",
    "\n",
    "                    spawner.spawn(move |_| {\n",
    "                        render(band, band_bounds, band_upper_left, band_lower_right);\n",
    "                    });\n",
    "                }\n",
    "            })\n",
    "            .unwrap();\n",
    "    }\n",
    "}\n",
    "\n",
    "/// 确定`c`是否在Mandelbrot集中, 使用最多`limit`次迭代.\n",
    "#[allow(dead_code)]\n",
    "fn escape_time(c: Complex<f64>, limit: u32) -> Option<u32> {\n",
    "    let mut z = Complex { re: 0.0, im: 0.0 };\n",
    "    for i in 0..limit {\n",
    "        z = z * z + c;\n",
    "        if z.norm_sqr() > 4.0 {\n",
    "            return Some(i);\n",
    "        }\n",
    "    }\n",
    "\n",
    "    None\n",
    "}\n",
    "\n",
    "/// 将像素写入图片.\n",
    "pub fn write_image(\n",
    "    filename: &str,\n",
    "    pixels: &[u8],\n",
    "    bounds: (usize, usize)\n",
    ") -> Result<(), std::io::Error> {\n",
    "    image::save_buffer(filename, &pixels, bounds.0 as u32, bounds.1 as u32, ColorType::L8).unwrap();\n",
    "    Ok(())\n",
    "}\n",
    "\n",
    "fn main() {\n",
    "    use num::Complex;\n",
    "    let bounds = (4000, 3000);\n",
    "    let upper_left = Complex { re: -1.2, im: 0.35 };\n",
    "    let lower_right = Complex { re: -1.0, im: 0.2 };\n",
    "    let mut pixels = vec![0; bounds.0 * bounds.1];\n",
    "\n",
    "    // render(&mut pixels, bounds, upper_left, lower_right);\n",
    "    render_c(&mut pixels, bounds, upper_left, lower_right);\n",
    "\n",
    "    write_image(\"mandelbrot.png\", &pixels, bounds).expect(\"error writing PNG file\");\n",
    "}\n"
   ]
  },
  {
   "cell_type": "code",
   "execution_count": null,
   "metadata": {
    "vscode": {
     "languageId": "rust"
    }
   },
   "outputs": [],
   "source": [
    "use num::Complex;\n",
    "let bounds = (4000, 3000);\n",
    "let upper_left = Complex {\n",
    "    re: -1.2,\n",
    "    im: 0.35,\n",
    "};\n",
    "let lower_right = Complex { re: -1.0, im: 0.2 };\n",
    "let mut pixels = vec![0; bounds.0 * bounds.1];\n",
    "\n",
    "// render(&mut pixels, bounds, upper_left, lower_right);\n",
    "render_c(&mut pixels, bounds, upper_left, lower_right);\n",
    "\n",
    "write_image(\"mandelbrot.png\", &pixels, bounds).expect(\"error writing PNG file\");\n"
   ]
  },
  {
   "cell_type": "markdown",
   "metadata": {},
   "source": [
    "# Filesystems and Command-Line Tools"
   ]
  },
  {
   "cell_type": "code",
   "execution_count": 2,
   "metadata": {
    "vscode": {
     "languageId": "rust"
    }
   },
   "outputs": [],
   "source": [
    "// https://github.com/evcxr/evcxr/blob/main/evcxr_input/src/lib.rs\n",
    ":dep evcxr_input = \"1.0.0\""
   ]
  },
  {
   "cell_type": "code",
   "execution_count": 5,
   "metadata": {
    "vscode": {
     "languageId": "rust"
    }
   },
   "outputs": [],
   "source": [
    "use evcxr_input::get_string;\n",
    "#[derive(Debug)]\n",
    "struct Arguments {\n",
    "    target: String,\n",
    "    replacement: String,\n",
    "    filename: String,\n",
    "    output: String\n",
    "}\n",
    "\n",
    "fn parse_args() -> Arguments {\n",
    "    let input = get_string(\"here goes the argument: \");\n",
    "    let args: Vec<&str> = input.split(' ').collect();\n",
    "\n",
    "    if args.len() != 4 {\n",
    "        eprintln!(\"wrong number of arguments, expect [target] [replacement] [filename] [output]\");\n",
    "        std::process::exit(1);\n",
    "    }\n",
    "    Arguments {\n",
    "        target: args[0].to_string(),\n",
    "        replacement: args[1].to_string(),\n",
    "        filename: args[2].to_string(),\n",
    "        output: args[3].to_string()\n",
    "    }\n",
    "}\n"
   ]
  },
  {
   "cell_type": "code",
   "execution_count": 6,
   "metadata": {
    "vscode": {
     "languageId": "rust"
    }
   },
   "outputs": [],
   "source": [
    ":dep regex = \"1.11.1\""
   ]
  },
  {
   "cell_type": "code",
   "execution_count": 10,
   "metadata": {
    "vscode": {
     "languageId": "rust"
    }
   },
   "outputs": [],
   "source": [
    "use regex::Regex;\n",
    "use std::fs;\n",
    "\n",
    "fn replace(target: &str, replacement: &str, text: &str) -> Result<String, regex::Error> {\n",
    "    let regex = Regex::new(target)?;\n",
    "    Ok(regex.replace_all(text, replacement).to_string())\n",
    "}\n",
    "\n",
    "let args = parse_args();\n",
    "let content = match fs::read_to_string(&args.filename) {\n",
    "    Ok(v) => v,\n",
    "    Err(e) => {\n",
    "        eprintln!(\"Failed to read file '{}': {:?}\", args.filename, e);\n",
    "        std::process::exit(1);\n",
    "    }\n",
    "};\n",
    "\n",
    "let replaced = match replace(&args.target, &args.replacement, &content) {\n",
    "    Ok(v) => v,\n",
    "    Err(e) => {\n",
    "        eprintln!(\"Failed to replace text: {:?}\", e);\n",
    "        std::process::exit(1);\n",
    "    }\n",
    "};\n",
    "\n",
    "match fs::write(&args.output, &replaced) {\n",
    "    Ok(v) => v,\n",
    "    Err(e) => {\n",
    "        eprintln!(\"Failed to write to file '{}': {:?}\", args.filename, e);\n",
    "        std::process::exit(1);\n",
    "    }\n",
    "};\n",
    "\n",
    "// sample input:\n",
    "// Rust RUST sample.txt sample-.txt"
   ]
  }
 ],
 "metadata": {
  "kernelspec": {
   "display_name": "Rust",
   "language": "rust",
   "name": "rust"
  },
  "language_info": {
   "codemirror_mode": "rust",
   "file_extension": ".rs",
   "mimetype": "text/rust",
   "name": "Rust",
   "pygment_lexer": "rust",
   "version": ""
  }
 },
 "nbformat": 4,
 "nbformat_minor": 2
}
