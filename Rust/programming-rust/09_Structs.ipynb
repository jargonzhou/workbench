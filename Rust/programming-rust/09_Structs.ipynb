{
 "cells": [
  {
   "cell_type": "markdown",
   "metadata": {},
   "source": [
    "# Named-Field Structs"
   ]
  },
  {
   "cell_type": "code",
   "execution_count": 6,
   "metadata": {
    "vscode": {
     "languageId": "rust"
    }
   },
   "outputs": [],
   "source": [
    "#[derive(Debug)]\n",
    "struct GrayscaleMap {\n",
    "    pixels: Vec<u8>,\n",
    "    size: (usize, usize)\n",
    "}"
   ]
  },
  {
   "cell_type": "code",
   "execution_count": 7,
   "metadata": {
    "vscode": {
     "languageId": "rust"
    }
   },
   "outputs": [],
   "source": [
    "let width = 1024;\n",
    "let height = 576;\n",
    "let image = GrayscaleMap {\n",
    "    pixels: vec![0; width & height],\n",
    "    size: (width, height)\n",
    "};"
   ]
  },
  {
   "cell_type": "code",
   "execution_count": 8,
   "metadata": {
    "vscode": {
     "languageId": "rust"
    }
   },
   "outputs": [
    {
     "data": {
      "text/plain": [
       "GrayscaleMap { pixels: [], size: (1024, 576) }"
      ]
     },
     "execution_count": 8,
     "metadata": {},
     "output_type": "execute_result"
    }
   ],
   "source": [
    "image"
   ]
  },
  {
   "cell_type": "markdown",
   "metadata": {},
   "source": [
    "# Tuple-Like Structs"
   ]
  },
  {
   "cell_type": "code",
   "execution_count": null,
   "metadata": {
    "vscode": {
     "languageId": "rust"
    }
   },
   "outputs": [],
   "source": []
  },
  {
   "cell_type": "markdown",
   "metadata": {},
   "source": [
    "# Unit-Like Structs"
   ]
  },
  {
   "cell_type": "markdown",
   "metadata": {},
   "source": []
  },
  {
   "cell_type": "markdown",
   "metadata": {},
   "source": [
    "# Struct Layout"
   ]
  },
  {
   "cell_type": "markdown",
   "metadata": {},
   "source": [
    "# Defining Methods with impl"
   ]
  },
  {
   "cell_type": "markdown",
   "metadata": {},
   "source": [
    "# Associated Consts"
   ]
  },
  {
   "cell_type": "markdown",
   "metadata": {},
   "source": [
    "# Generic Structs"
   ]
  },
  {
   "cell_type": "markdown",
   "metadata": {},
   "source": [
    "# Structs with Lifetime Parameters"
   ]
  },
  {
   "cell_type": "code",
   "execution_count": 11,
   "metadata": {
    "vscode": {
     "languageId": "rust"
    }
   },
   "outputs": [],
   "source": [
    "#[derive(Debug)]\n",
    "struct Extrema<'elt> {\n",
    "    greatest: &'elt i32,\n",
    "    least: &'elt i32\n",
    "}"
   ]
  },
  {
   "cell_type": "code",
   "execution_count": 12,
   "metadata": {
    "vscode": {
     "languageId": "rust"
    }
   },
   "outputs": [],
   "source": [
    "fn find_extrema<'s>(slice: &'s [i32]) -> Extrema<'s> {\n",
    "    let mut greatest = &slice[0];\n",
    "    let mut least = &slice[0];\n",
    "\n",
    "    for i in 1..slice.len() {\n",
    "        if slice[i] < *least { least = &slice[i]; }\n",
    "        if slice[i] > *greatest { greatest = &slice[i]; }\n",
    "    }\n",
    "    Extrema { greatest, least }\n",
    "}"
   ]
  },
  {
   "cell_type": "code",
   "execution_count": 23,
   "metadata": {
    "vscode": {
     "languageId": "rust"
    }
   },
   "outputs": [
    {
     "name": "stdout",
     "output_type": "stream",
     "text": [
      "Extrema { greatest: 4, least: 1 }\n"
     ]
    },
    {
     "data": {
      "text/plain": [
       "()"
      ]
     },
     "execution_count": 23,
     "metadata": {},
     "output_type": "execute_result"
    }
   ],
   "source": [
    "{\n",
    "    let a = [1, 2, 3, 4];\n",
    "    let r = find_extrema(&a);\n",
    "    println!(\"{:?}\", r);\n",
    "    assert_eq!(*r.least, 1);\n",
    "    assert_eq!(*r.greatest, 4);\n",
    "}\n"
   ]
  },
  {
   "cell_type": "markdown",
   "metadata": {},
   "source": [
    "# Deriving Common Traits for Struct Types"
   ]
  },
  {
   "cell_type": "code",
   "execution_count": null,
   "metadata": {
    "vscode": {
     "languageId": "rust"
    }
   },
   "outputs": [],
   "source": [
    "#[derive(Copy, Clone, Debug, PartialEq)]\n",
    "struct Point {\n",
    "    x: f64,\n",
    "    y: f64\n",
    "}"
   ]
  },
  {
   "cell_type": "markdown",
   "metadata": {},
   "source": [
    "# Interior Mutability"
   ]
  },
  {
   "cell_type": "code",
   "execution_count": 28,
   "metadata": {
    "vscode": {
     "languageId": "rust"
    }
   },
   "outputs": [
    {
     "ename": "Error",
     "evalue": "unresolved import `libc::SPLICE_F_NONBLOCK`",
     "output_type": "error",
     "traceback": [
      "unresolved import `libc::SPLICE_F_NONBLOCK`"
     ]
    }
   ],
   "source": [
    "// :dep fd = \"0.2.3\""
   ]
  },
  {
   "cell_type": "code",
   "execution_count": 3,
   "metadata": {
    "vscode": {
     "languageId": "rust"
    }
   },
   "outputs": [],
   "source": [
    "use std::rc::Rc;\n",
    "use std::cell::Cell;\n",
    "use std::cell::RefCell;\n",
    "use std::fs::File;\n",
    "\n",
    "// mock\n",
    "mod fd {\n",
    "    pub struct FileDesc;\n",
    "}\n",
    "\n",
    "struct SpiderRobot {\n",
    "    species: String,\n",
    "    web_enabled: bool,\n",
    "    leg_devices: [fd::FileDesc; 8],\n",
    "    hardware_error_count: Cell<u32>, // Cell\n",
    "    log_file: RefCell<File> // RefCell\n",
    "}\n",
    "\n",
    "struct Camera;\n",
    "struct Accelerometer;\n",
    "\n",
    "struct SpiderSenses {\n",
    "    robot: Rc<SpiderRobot>,\n",
    "    eyes: [Camera; 32],\n",
    "    motion: Accelerometer\n",
    "}"
   ]
  },
  {
   "cell_type": "code",
   "execution_count": 4,
   "metadata": {
    "vscode": {
     "languageId": "rust"
    }
   },
   "outputs": [],
   "source": [
    "use std::io::Write;\n",
    "\n",
    "impl SpiderRobot {\n",
    "    /// Increse the error count.\n",
    "    fn add_hardware_error(&self) {\n",
    "        let n = self.hardware_error_count.get();\n",
    "        self.hardware_error_count.set(n + 1);\n",
    "    }\n",
    "\n",
    "    /// True if any errors reported.\n",
    "    fn has_hardware_errors(&self) -> bool {\n",
    "        self.hardware_error_count.get() > 0\n",
    "    }\n",
    "\n",
    "    /// Write a line to the log file.\n",
    "    fn log(&self, message: &str) {\n",
    "        let mut file = self.log_file.borrow_mut();\n",
    "        writeln!(file, \"{}\", message).unwrap();\n",
    "    }\n",
    "}"
   ]
  },
  {
   "cell_type": "code",
   "execution_count": 6,
   "metadata": {
    "vscode": {
     "languageId": "rust"
    }
   },
   "outputs": [
    {
     "name": "stdout",
     "output_type": "stream",
     "text": [
      "RefCell { value: <borrowed> }\n",
      "\"hello word\"\n"
     ]
    },
    {
     "data": {
      "text/plain": [
       "()"
      ]
     },
     "execution_count": 6,
     "metadata": {},
     "output_type": "execute_result"
    }
   ],
   "source": [
    "let ref_cell: RefCell<String> = RefCell::new(\"hello\".to_string());\n",
    "\n",
    "{\n",
    "    let r = ref_cell.borrow();\n",
    "    let count = r.len();\n",
    "    assert_eq!(count, 5);\n",
    "}\n",
    "\n",
    "{\n",
    "    let mut w = ref_cell.borrow_mut();\n",
    "    w.push_str(\" word\");\n",
    "    println!(\"{:?}\", ref_cell);\n",
    "    println!(\"{:?}\", w);\n",
    "}\n"
   ]
  }
 ],
 "metadata": {
  "kernelspec": {
   "display_name": "Rust",
   "language": "rust",
   "name": "rust"
  },
  "language_info": {
   "codemirror_mode": "rust",
   "file_extension": ".rs",
   "mimetype": "text/rust",
   "name": "Rust",
   "pygment_lexer": "rust",
   "version": ""
  }
 },
 "nbformat": 4,
 "nbformat_minor": 2
}
