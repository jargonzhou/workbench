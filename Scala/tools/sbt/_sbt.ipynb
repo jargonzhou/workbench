{
 "cells": [
  {
   "cell_type": "markdown",
   "metadata": {},
   "source": [
    "# sbt\n",
    "* https://www.scala-sbt.org/"
   ]
  },
  {
   "cell_type": "code",
   "execution_count": 3,
   "metadata": {},
   "outputs": [
    {
     "name": "stdout",
     "output_type": "stream",
     "text": [
      "Compiling d:\\GoogleDrive\\wiki\\jupyter-notebooks\\Scala\\snippets\\MyScript.sc\n"
     ]
    },
    {
     "name": "stderr",
     "output_type": "stream",
     "text": [
      "-- Warning: d:\\GoogleDrive\\wiki\\jupyter-notebooks\\Scala\\snippets\\MyScript.sc:3:16 \n",
      "3 |package $sess.^.^.snippets\n",
      "  |                ^\n",
      "  |The package name `^` will be encoded on the classpath, and can lead to undefined behaviour.\n",
      "-- Warning: d:\\GoogleDrive\\wiki\\jupyter-notebooks\\Scala\\snippets\\MyScript.sc:3:14 \n",
      "3 |package $sess.^.^.snippets\n",
      "  |              ^\n",
      "  |The package name `^` will be encoded on the classpath, and can lead to undefined behaviour.\n"
     ]
    },
    {
     "name": "stdout",
     "output_type": "stream",
     "text": [
      "Hello World!!\n",
      "x is 123\n",
      "Scala compiler version 2.13.13 -- Copyright 2002-2024, LAMP/EPFL and Lightbend, Inc."
     ]
    },
    {
     "data": {
      "text/plain": [
       "\u001b[32mimport \u001b[39m\u001b[36m$ivy.$                           \n",
       "\n",
       "\u001b[39m\r\n",
       "\u001b[32mimport \u001b[39m\u001b[36m$file.$                    , MyScript._\n",
       "\n",
       "\u001b[39m"
      ]
     },
     "execution_count": 3,
     "metadata": {},
     "output_type": "execute_result"
    }
   ],
   "source": [
    "import $ivy.`com.lihaoyi::os-lib:0.11.3`\n",
    "\n",
    "import $file.^.^.snippets.MyScript, MyScript._\n",
    "\n",
    "exec(\"scalac.bat\", \"--version\") // 2.13.13"
   ]
  },
  {
   "cell_type": "code",
   "execution_count": 2,
   "metadata": {},
   "outputs": [
    {
     "name": "stdout",
     "output_type": "stream",
     "text": [
      "sbt version in this project: 1.10.7\n",
      "sbt script version: 1.10.7"
     ]
    }
   ],
   "source": [
    "exec(\"sbt.bat\", \"--version\")"
   ]
  },
  {
   "cell_type": "markdown",
   "metadata": {},
   "source": [
    "# Create project\n",
    "* https://docs.scala-lang.org/getting-started/index.html"
   ]
  },
  {
   "cell_type": "code",
   "execution_count": 1,
   "metadata": {},
   "outputs": [],
   "source": [
    "// $ sbt.bat new scala/hello-world.g8\n",
    "// [info] waiting for lock on C:\\Users\\zhouj\\.ivy2\\.sbt.ivy.lock to be available...\n",
    "// [info] resolving Giter8 0.17.0...\n",
    "// A template to demonstrate a minimal Scala application \n",
    "\n",
    "// name [Hello World template]: hello-world\n",
    "\n",
    "// Template applied in D:\\GoogleDrive\\wiki\\jupyter-notebooks\\Scala\\tools\\sbt\\.\\hello-world\n",
    "\n",
    "\n",
    "// exec(\"sbt.bat\", \"new\", \"scala/hello-world.g8\")"
   ]
  },
  {
   "cell_type": "code",
   "execution_count": null,
   "metadata": {},
   "outputs": [
    {
     "data": {
      "text/plain": [
       "\u001b[36mres2\u001b[39m: \u001b[32mIndexedSeq\u001b[39m[\u001b[32mPath\u001b[39m] = \u001b[33mArraySeq\u001b[39m(\n",
       "  d:\\GoogleDrive\\wiki\\jupyter-notebooks\\Scala\\tools\\sbt\\hello-world\\.bsp,\n",
       "  d:\\GoogleDrive\\wiki\\jupyter-notebooks\\Scala\\tools\\sbt\\hello-world\\.bsp\\sbt.json,\n",
       "  d:\\GoogleDrive\\wiki\\jupyter-notebooks\\Scala\\tools\\sbt\\hello-world\\build.sbt,\n",
       "  d:\\GoogleDrive\\wiki\\jupyter-notebooks\\Scala\\tools\\sbt\\hello-world\\core,\n",
       "  d:\\GoogleDrive\\wiki\\jupyter-notebooks\\Scala\\tools\\sbt\\hello-world\\core\\.bsp,\n",
       "  d:\\GoogleDrive\\wiki\\jupyter-notebooks\\Scala\\tools\\sbt\\hello-world\\core\\.bsp\\sbt.json,\n",
       "  d:\\GoogleDrive\\wiki\\jupyter-notebooks\\Scala\\tools\\sbt\\hello-world\\core\\.gitignore,\n",
       "  d:\\GoogleDrive\\wiki\\jupyter-notebooks\\Scala\\tools\\sbt\\hello-world\\core\\build.sbt,\n",
       "  d:\\GoogleDrive\\wiki\\jupyter-notebooks\\Scala\\tools\\sbt\\hello-world\\core\\project,\n",
       "  d:\\GoogleDrive\\wiki\\jupyter-notebooks\\Scala\\tools\\sbt\\hello-world\\core\\project\\build.properties,\n",
       "  d:\\GoogleDrive\\wiki\\jupyter-notebooks\\Scala\\tools\\sbt\\hello-world\\core\\src,\n",
       "  d:\\GoogleDrive\\wiki\\jupyter-notebooks\\Scala\\tools\\sbt\\hello-world\\core\\src\\main,\n",
       "  d:\\GoogleDrive\\wiki\\jupyter-notebooks\\Scala\\tools\\sbt\\hello-world\\core\\src\\main\\scala,\n",
       "  d:\\GoogleDrive\\wiki\\jupyter-notebooks\\Scala\\tools\\sbt\\hello-world\\core\\src\\main\\scala\\example,\n",
       "  d:\\GoogleDrive\\wiki\\jupyter-notebooks\\Scala\\tools\\sbt\\hello-world\\core\\src\\main\\scala\\example\\core,\n",
       "  d:\\GoogleDrive\\wiki\\jupyter-notebooks\\Scala\\tools\\sbt\\hello-world\\core\\src\\main\\scala\\example\\core\\Weather.scala,\n",
       "  d:\\GoogleDrive\\wiki\\jupyter-notebooks\\Scala\\tools\\sbt\\hello-world\\core\\src\\test,\n",
       "  d:\\GoogleDrive\\wiki\\jupyter-notebooks\\Scala\\tools\\sbt\\hello-world\\core\\src\\test\\scala,\n",
       "  d:\\GoogleDrive\\wiki\\jupyter-notebooks\\Scala\\tools\\sbt\\hello-world\\project,\n",
       "  d:\\GoogleDrive\\wiki\\jupyter-notebooks\\Scala\\tools\\sbt\\hello-world\\project\\build.properties,\n",
       "  d:\\GoogleDrive\\wiki\\jupyter-notebooks\\Scala\\tools\\sbt\\hello-world\\project\\Dependencies.scala,\n",
       "  d:\\GoogleDrive\\wiki\\jupyter-notebooks\\Scala\\tools\\sbt\\hello-world\\project\\plugins.sbt,\n",
       "..."
      ]
     },
     "execution_count": 2,
     "metadata": {},
     "output_type": "execute_result"
    }
   ],
   "source": [
    "// a multi project\n",
    "os.walk(os.pwd / \"hello-world\")\n",
    "  .filter(f => !f.toString.contains(\"target\") && !f.toString.contains(\".idea\"))"
   ]
  },
  {
   "cell_type": "code",
   "execution_count": 6,
   "metadata": {},
   "outputs": [
    {
     "name": "stdout",
     "output_type": "stream",
     "text": [
      "[info] welcome to sbt 1.10.7 (Eclipse Adoptium Java 17.0.9)\n",
      "[info] loading settings for project hello-world-build from plugins.sbt...\n",
      "[info] loading project definition from D:\\GoogleDrive\\wiki\\jupyter-notebooks\\Scala\\tools\\sbt\\hello-world\\project\n",
      "[info] loading settings for project root from build.sbt...\n",
      "[info] loading settings for project helloCore from build.sbt...\n",
      "[info] set current project to hello-world (in build file:/D:/GoogleDrive/wiki/jupyter-notebooks/Scala/tools/sbt/hello-world/)\n",
      "[info] compiling 1 Scala source to D:\\GoogleDrive\\wiki\\jupyter-notebooks\\Scala\\tools\\sbt\\hello-world\\core\\target\\scala-2.13\\classes ...\n",
      "[info] done compiling\n",
      "[info] compiling 1 Scala source to D:\\GoogleDrive\\wiki\\jupyter-notebooks\\Scala\\tools\\sbt\\hello-world\\target\\scala-2.13\\classes ...\n",
      "[info] done compiling\n",
      "[info] running example.Main \n",
      "Hello, World!\n",
      "Hello! The weather in New York is ok.\n",
      "[success] Total time: 8 s, completed 2025年1月11日 下午2:41:11"
     ]
    }
   ],
   "source": [
    "exec2(cwd=os.pwd / \"hello-world\", \"sbt.bat\", \"run\")"
   ]
  },
  {
   "cell_type": "markdown",
   "metadata": {},
   "source": [
    "# Plugins\n",
    "* https://www.scala-sbt.org/1.x/docs/Community-Plugins.html\n",
    "\n",
    "\n",
    "TODO"
   ]
  }
 ],
 "metadata": {
  "kernelspec": {
   "display_name": "Scala",
   "language": "scala",
   "name": "scala"
  },
  "language_info": {
   "codemirror_mode": "text/x-scala",
   "file_extension": ".sc",
   "mimetype": "text/x-scala",
   "name": "scala",
   "nbconvert_exporter": "script",
   "version": "2.13.14"
  }
 },
 "nbformat": 4,
 "nbformat_minor": 2
}
