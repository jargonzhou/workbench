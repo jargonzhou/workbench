{
 "cells": [
  {
   "cell_type": "markdown",
   "metadata": {},
   "source": [
    "# OS-Lib\n",
    "* OS-Lib is a simple, flexible, high-performance Scala interface to common OS filesystem and subprocess APIs\n",
    "* https://github.com/com-lihaoyi/os-lib"
   ]
  },
  {
   "cell_type": "code",
   "execution_count": 1,
   "metadata": {},
   "outputs": [
    {
     "data": {
      "text/plain": [
       "\u001b[32mimport \u001b[39m\u001b[36m$ivy.$\u001b[39m"
      ]
     },
     "execution_count": 1,
     "metadata": {},
     "output_type": "execute_result"
    }
   ],
   "source": [
    "import $ivy.`com.lihaoyi::os-lib:0.11.3`"
   ]
  },
  {
   "cell_type": "code",
   "execution_count": 9,
   "metadata": {},
   "outputs": [
    {
     "data": {
      "text/plain": [
       "\u001b[36mres9\u001b[39m: \u001b[32mos\u001b[39m.\u001b[32mPath\u001b[39m = d:\\GoogleDrive\\wiki\\jupyter-notebooks\\Scala\\tools"
      ]
     },
     "execution_count": 9,
     "metadata": {},
     "output_type": "execute_result"
    }
   ],
   "source": [
    "os.pwd"
   ]
  },
  {
   "cell_type": "code",
   "execution_count": 1,
   "metadata": {},
   "outputs": [
    {
     "data": {
      "text/plain": [
       "\u001b[36mres1\u001b[39m: \u001b[32mIndexedSeq\u001b[39m[\u001b[32mPath\u001b[39m] = \u001b[33mArraySeq\u001b[39m(\n",
       "  d:\\GoogleDrive\\wiki\\jupyter-notebooks\\Scala\\tools\\_Ammonite.ipynb,\n",
       "  d:\\GoogleDrive\\wiki\\jupyter-notebooks\\Scala\\tools\\_os-lib.ipynb,\n",
       "  d:\\GoogleDrive\\wiki\\jupyter-notebooks\\Scala\\tools\\_reftree.ipynb,\n",
       "  d:\\GoogleDrive\\wiki\\jupyter-notebooks\\Scala\\tools\\docker-compose.yml,\n",
       "  d:\\GoogleDrive\\wiki\\jupyter-notebooks\\Scala\\tools\\example.png,\n",
       "  d:\\GoogleDrive\\wiki\\jupyter-notebooks\\Scala\\tools\\sbt\n",
       ")"
      ]
     },
     "execution_count": 1,
     "metadata": {},
     "output_type": "execute_result"
    }
   ],
   "source": [
    "os.list(os.pwd)"
   ]
  },
  {
   "cell_type": "code",
   "execution_count": 3,
   "metadata": {},
   "outputs": [
    {
     "data": {
      "text/plain": [
       "\u001b[36mres3\u001b[39m: \u001b[32mString\u001b[39m = \u001b[32m\"d:\\\\GoogleDrive\\\\wiki\\\\jupyter-notebooks\\\\Scala\\\\tools\"\u001b[39m"
      ]
     },
     "execution_count": 3,
     "metadata": {},
     "output_type": "execute_result"
    }
   ],
   "source": [
    "os.pwd.toString"
   ]
  },
  {
   "cell_type": "code",
   "execution_count": 5,
   "metadata": {},
   "outputs": [
    {
     "data": {
      "text/plain": [
       "\u001b[36mres5\u001b[39m: \u001b[32mIndexedSeq\u001b[39m[\u001b[32mPath\u001b[39m] = \u001b[33mArraySeq\u001b[39m(\n",
       "  d:\\GoogleDrive\\wiki\\jupyter-notebooks\\Scala\\tools\\docker-compose.yml,\n",
       "  d:\\GoogleDrive\\wiki\\jupyter-notebooks\\Scala\\tools\\example.png,\n",
       "  d:\\GoogleDrive\\wiki\\jupyter-notebooks\\Scala\\tools\\sbt,\n",
       "  d:\\GoogleDrive\\wiki\\jupyter-notebooks\\Scala\\tools\\sbt\\hello-world,\n",
       "  d:\\GoogleDrive\\wiki\\jupyter-notebooks\\Scala\\tools\\sbt\\hello-world\\build.sbt,\n",
       "  d:\\GoogleDrive\\wiki\\jupyter-notebooks\\Scala\\tools\\sbt\\hello-world\\project,\n",
       "  d:\\GoogleDrive\\wiki\\jupyter-notebooks\\Scala\\tools\\sbt\\hello-world\\project\\build.properties,\n",
       "  d:\\GoogleDrive\\wiki\\jupyter-notebooks\\Scala\\tools\\sbt\\hello-world\\src,\n",
       "  d:\\GoogleDrive\\wiki\\jupyter-notebooks\\Scala\\tools\\sbt\\hello-world\\src\\main,\n",
       "  d:\\GoogleDrive\\wiki\\jupyter-notebooks\\Scala\\tools\\sbt\\hello-world\\src\\main\\scala,\n",
       "  d:\\GoogleDrive\\wiki\\jupyter-notebooks\\Scala\\tools\\sbt\\hello-world\\src\\main\\scala\\Main.scala,\n",
       "  d:\\GoogleDrive\\wiki\\jupyter-notebooks\\Scala\\tools\\sbt\\_sbt.ipynb,\n",
       "  d:\\GoogleDrive\\wiki\\jupyter-notebooks\\Scala\\tools\\_Ammonite.ipynb,\n",
       "  d:\\GoogleDrive\\wiki\\jupyter-notebooks\\Scala\\tools\\_os-lib.ipynb,\n",
       "  d:\\GoogleDrive\\wiki\\jupyter-notebooks\\Scala\\tools\\_reftree.ipynb\n",
       ")"
      ]
     },
     "execution_count": 5,
     "metadata": {},
     "output_type": "execute_result"
    }
   ],
   "source": [
    "os.walk(os.pwd)\n",
    "  .filter(f => !f.toString.contains(\"target\"))"
   ]
  },
  {
   "cell_type": "code",
   "execution_count": 11,
   "metadata": {},
   "outputs": [
    {
     "name": "stdout",
     "output_type": "stream",
     "text": [
      "@main def m(args: String*) =\n",
      "  println(\"Hello, Scala!\")\n",
      "  var i = 0\n",
      "  while i < args.length do\n",
      "    println(args(i))\n",
      "    i += 1\n"
     ]
    }
   ],
   "source": [
    "// os.up: up a level\n",
    "println(os.read(os.pwd / os.up / \"snippets\" / \"hello.scala\"))"
   ]
  },
  {
   "cell_type": "markdown",
   "metadata": {},
   "source": [
    "## execute commands"
   ]
  },
  {
   "cell_type": "code",
   "execution_count": 25,
   "metadata": {},
   "outputs": [
    {
     "name": "stdout",
     "output_type": "stream",
     "text": [
      "(0,Usage: scalac <options> <source files>\n",
      "\n",
      "Standard options:\n",
      "  -Dproperty=value             Pass -Dproperty=value directly to the runtime system.\n",
      "  -J<flag>                     Pass <flag> directly to the runtime system.\n",
      "  -P:<plugin>:<opt>            Pass an option to a plugin\n",
      "  -V                           Print a synopsis of verbose options. [false]\n",
      "  -W                           Print a synopsis of warning options. [false]\n",
      "  -Werror                      Fail the compilation if there are any warnings. [false]\n",
      "  -X                           Print a synopsis of advanced options. [false]\n",
      "  -Y                           Print a synopsis of private options. [false]\n",
      "  -bootclasspath <path>        Override location of bootstrap class files.\n",
      "  -classpath <path>            Specify where to find user class files.\n",
      "  -d <directory|jar>           destination for generated classfiles.\n",
      "  -dependencyfile <file>       Set dependency tracking file.\n",
      "  -deprecation                 Emit warning and location for usages of deprecated APIs. See also -Wconf. [false]\n",
      "  -encoding <encoding>         Specify character encoding used by source files.\n",
      "  -explaintypes                Explain type errors in more detail. [false]\n",
      "  -extdirs <path>              Override location of installed extensions.\n",
      "  -feature                     Emit warning and location for usages of features that should be imported explicitly. See also -Wconf. [false]\n",
      "  -g:<level>                   Set level of generated debugging info. (none,source,line,[vars],notailcalls)\n",
      "  -help                        Print a synopsis of standard options [false]\n",
      "  -javabootclasspath <path>    Override java boot classpath.\n",
      "  -javaextdirs <path>          Override java extdirs classpath.\n",
      "  -language:<features>         Enable or disable language features\n",
      "  -no-specialization           Ignore @specialize annotations. [false]\n",
      "  -nobootcp                    Do not use the boot classpath for the scala jars. [false]\n",
      "  -nowarn                      Generate no warnings. [false]\n",
      "  -opt:<optimizations>         Enable optimizations: `-opt:local`, `-opt:inline:<pattern>`; `-opt:help` for details.\n",
      "  -opt-inline-from:<patterns>  Patterns for classfile names from which to allow inlining, `help` for details.\n",
      "  -opt-warnings:<warnings>     Enable optimizer warnings, `help` for details.\n",
      "  -print                       Print program with Scala-specific features removed. [false]\n",
      "  -quickfix:<filters>          Apply quick fixes provided by the compiler for warnings and errors to source files\n",
      "  -release:<release>           Compile for a version of the Java API and target class file. (8,9,10,11,12,13,14,15,16,[17])\n",
      "  -rootdir <path>              The absolute path of the project root directory, usually the git/scm checkout. Used by -Wconf.\n",
      "  -sourcepath <path>           Specify location(s) of source files.\n",
      "  -toolcp <path>               Add to the runner classpath.\n",
      "  -unchecked                   Enable additional warnings where generated code depends on assumptions. See also -Wconf. [false]\n",
      "  -uniqid                      Uniquely tag all identifiers in debugging output. [false]\n",
      "  -usejavacp                   Utilize the java.class.path in classpath resolution. [false]\n",
      "  -usemanifestcp               Utilize the manifest in classpath resolution. [false]\n",
      "  -verbose                     Output messages about what the compiler is doing. [false]\n",
      "  -version                     Print product version and exit. [false]\n",
      "  @<file>                      A text file containing compiler arguments (options and source files) [false]\n",
      "\n",
      "Deprecated settings:\n",
      "  -optimize                    Enables optimizations. [false]\n",
      "                                 deprecated: Since 2.12, enables -opt:inline:**. This can be dangerous.\n",
      "  -target:<target>             Target platform for object files. ([8],9,10,11,12,13,14,15,16,17)\n",
      "                                 deprecated: Use -release instead to compile against the correct platform API.,)\n"
     ]
    },
    {
     "data": {
      "text/plain": [
       "\u001b[36mres\u001b[39m: \u001b[32mos\u001b[39m.\u001b[32mCommandResult\u001b[39m = \u001b[33mCommandResult\u001b[39m(\n",
       "  command = \u001b[33mArraySeq\u001b[39m(\u001b[32m\"scalac.bat\"\u001b[39m, \u001b[32m\"-help\"\u001b[39m),\n",
       "  exitCode = \u001b[32m0\u001b[39m,\n",
       "  chunks = \u001b[33mVector\u001b[39m(\n",
       "    \u001b[33mLeft\u001b[39m(\n",
       "      value = Usage: scalac <options> <source files>\r\n",
       "\r\n",
       "Standard options:\r\n",
       "  -Dproperty=value             Pass -Dproperty=value directly to the runtime system.\r\n",
       "  -J<flag>                     Pass <flag> directly to the runtime system.\r\n",
       "  -P:<plugin>:<opt>            Pass an option to a plugin\r\n",
       "  -V                           Print a synopsis of verbose options. [false]\r\n",
       "  -W                           Print a synopsis of warning options. [false]\r\n",
       "  -Werror                      Fail the compilation if there are any warnings. [false]\r\n",
       "  -X                           Print a synopsis of advanced options. [false]\r\n",
       "  -Y                           Print a synopsis of private options. [false]\r\n",
       "  -bootclasspath <path>        Override location of bootstrap class files.\r\n",
       "  -classpath <path>            Specify where to find user class files.\r\n",
       "  -d <directory|jar>           destination for generated classfiles.\r\n",
       "  -dependencyfile <file>       Set dependency tracking file.\r\n",
       "  -deprecation                 Emit warning and location for usages of deprecated APIs. See also -Wconf. [false]\r..."
      ]
     },
     "execution_count": 25,
     "metadata": {},
     "output_type": "execute_result"
    }
   ],
   "source": [
    "// $ scala.bat --help\n",
    "// Usage: scala <options> [<script|class|object|jar> <arguments>]\n",
    "//    or  scala -help\n",
    "\n",
    "// All options to scalac (see scalac -help) are also allowed.\n",
    "val res = os.proc(\"scalac.bat\", \"-help\").call()\n",
    "println((res.exitCode, res.out.trim(), res.err.trim()))"
   ]
  },
  {
   "cell_type": "code",
   "execution_count": 22,
   "metadata": {},
   "outputs": [
    {
     "name": "stdout",
     "output_type": "stream",
     "text": [
      "(0,Scala compiler version 2.13.13 -- Copyright 2002-2024, LAMP/EPFL and Lightbend, Inc.,)\n"
     ]
    },
    {
     "data": {
      "text/plain": [
       "\u001b[36mres\u001b[39m: \u001b[32mos\u001b[39m.\u001b[32mCommandResult\u001b[39m = \u001b[33mCommandResult\u001b[39m(\n",
       "  command = \u001b[33mArraySeq\u001b[39m(\u001b[32m\"scalac.bat\"\u001b[39m, \u001b[32m\"--version\"\u001b[39m),\n",
       "  exitCode = \u001b[32m0\u001b[39m,\n",
       "  chunks = \u001b[33mVector\u001b[39m(\n",
       "    \u001b[33mLeft\u001b[39m(\n",
       "      value = Scala compiler version 2.13.13 -- Copyright 2002-2024, LAMP/EPFL and Lightbend, Inc.\r\n",
       "\n",
       "    )\n",
       "  )\n",
       ")"
      ]
     },
     "execution_count": 22,
     "metadata": {},
     "output_type": "execute_result"
    }
   ],
   "source": [
    "val res = os.proc(\"scalac.bat\", \"--version\").call()\n",
    "println((res.exitCode, res.out.trim(), res.err.trim()))"
   ]
  },
  {
   "cell_type": "code",
   "execution_count": 19,
   "metadata": {},
   "outputs": [
    {
     "name": "stdout",
     "output_type": "stream",
     "text": [
      "(0,Hello, Scala!,)\n"
     ]
    },
    {
     "data": {
      "text/plain": [
       "\u001b[36mres\u001b[39m: \u001b[32mos\u001b[39m.\u001b[32mCommandResult\u001b[39m = \u001b[33mCommandResult\u001b[39m(\n",
       "  command = \u001b[33mArraySeq\u001b[39m(\u001b[32m\"scala.bat\"\u001b[39m, \u001b[32m\"../snippets/hello.scala\"\u001b[39m),\n",
       "  exitCode = \u001b[32m0\u001b[39m,\n",
       "  chunks = \u001b[33mVector\u001b[39m(\n",
       "    \u001b[33mLeft\u001b[39m(\n",
       "      value = Hello, Scala!\r\n",
       "\n",
       "    )\n",
       "  )\n",
       ")"
      ]
     },
     "execution_count": 19,
     "metadata": {},
     "output_type": "execute_result"
    }
   ],
   "source": [
    "val res = os.proc(\"scala.bat\", \"../snippets/hello.scala\").call()\n",
    "println((res.exitCode, res.out.trim(), res.err.trim()))"
   ]
  },
  {
   "cell_type": "code",
   "execution_count": null,
   "metadata": {},
   "outputs": [
    {
     "name": "stdout",
     "output_type": "stream",
     "text": [
      "Hello, Scala!java.io.IOException: Cannot run program \"command-not-found.bat\" (in directory \"d:\\GoogleDrive\\wiki\\jupyter-notebooks\\Scala\"): CreateProcess error=2, 系统找不到指定的文件。\n"
     ]
    },
    {
     "data": {
      "text/plain": [
       "defined \u001b[32mfunction\u001b[39m \u001b[36mexec\u001b[39m\r\n",
       "defined \u001b[32mfunction\u001b[39m \u001b[36mexecForce\u001b[39m"
      ]
     },
     "metadata": {},
     "output_type": "display_data"
    }
   ],
   "source": [
    "// PUT in snippets: snippets.MyScript\n",
    "\n",
    "// def exec(commands: String*): Unit = \n",
    "//   val res = os.proc(commands).call()\n",
    "//   if res.exitCode == 0 then\n",
    "//     print(res.out.trim())\n",
    "//   else\n",
    "//     print(res.err.trim())\n",
    "\n",
    "// def execForce(commands: String*): Unit =\n",
    "//   try\n",
    "//     exec(commands*)\n",
    "//   catch\n",
    "//     case ex: Exception => println(ex)\n",
    "\n",
    "// exec(\"scala.bat\", \"snippets/hello.scala\")\n",
    "\n",
    "// execForce(\"command-not-found.bat\")"
   ]
  }
 ],
 "metadata": {
  "kernelspec": {
   "display_name": "Scala",
   "language": "scala",
   "name": "scala"
  },
  "language_info": {
   "codemirror_mode": "text/x-scala",
   "file_extension": ".sc",
   "mimetype": "text/x-scala",
   "name": "scala",
   "nbconvert_exporter": "script",
   "version": "2.13.14"
  }
 },
 "nbformat": 4,
 "nbformat_minor": 2
}
