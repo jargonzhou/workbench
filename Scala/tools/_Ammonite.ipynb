{
 "cells": [
  {
   "cell_type": "markdown",
   "metadata": {},
   "source": [
    "# Ammonite\n",
    "* http://ammonite.io/"
   ]
  },
  {
   "cell_type": "code",
   "execution_count": 1,
   "metadata": {},
   "outputs": [
    {
     "data": {
      "text/plain": [
       "\u001b[32mimport \u001b[39m\u001b[36m$ivy.$                           \r\n",
       "\u001b[39m"
      ]
     },
     "execution_count": 1,
     "metadata": {},
     "output_type": "execute_result"
    }
   ],
   "source": [
    "import $ivy.`com.lihaoyi::os-lib:0.11.3`"
   ]
  },
  {
   "cell_type": "markdown",
   "metadata": {},
   "source": [
    "# Ammonite-REPL"
   ]
  },
  {
   "cell_type": "code",
   "execution_count": 1,
   "metadata": {},
   "outputs": [
    {
     "name": "stdout",
     "output_type": "stream",
     "text": [
      "Compiling d:\\GoogleDrive\\wiki\\jupyter-notebooks\\Scala\\snippets\\MyScript.sc\n"
     ]
    },
    {
     "name": "stderr",
     "output_type": "stream",
     "text": [
      "-- Warning: d:\\GoogleDrive\\wiki\\jupyter-notebooks\\Scala\\snippets\\MyScript.sc:3:14 \n",
      "3 |package $sess.^.snippets\n",
      "  |              ^\n",
      "  |The package name `^` will be encoded on the classpath, and can lead to undefined behaviour.\n"
     ]
    },
    {
     "name": "stdout",
     "output_type": "stream",
     "text": [
      "Hello World!!\n",
      "x is 123\n"
     ]
    },
    {
     "data": {
      "text/plain": [
       "\u001b[32mimport \u001b[39m\u001b[36m$file.$                  \r\n",
       "\u001b[39m"
      ]
     },
     "execution_count": 1,
     "metadata": {},
     "output_type": "execute_result"
    }
   ],
   "source": [
    "// for side effect\n",
    "import $file.^.snippets.MyScript"
   ]
  },
  {
   "cell_type": "code",
   "execution_count": 2,
   "metadata": {},
   "outputs": [
    {
     "name": "stdout",
     "output_type": "stream",
     "text": [
      "Hello Scala!\n",
      "Scala code runner version: 1.5.4\n",
      "Scala version (default): 3.6.2"
     ]
    },
    {
     "data": {
      "text/plain": [
       "\u001b[32mimport \u001b[39m\u001b[36m$ivy.$                           \n",
       "\u001b[39m\r\n",
       "\u001b[32mimport \u001b[39m\u001b[36m$file.$                  , MyScript._\n",
       "\n",
       "\u001b[39m"
      ]
     },
     "execution_count": 2,
     "metadata": {},
     "output_type": "execute_result"
    }
   ],
   "source": [
    "// imports functions, etc\n",
    "import $ivy.`com.lihaoyi::os-lib:0.11.3`\n",
    "import $file.^.snippets.MyScript, MyScript._\n",
    "\n",
    "hello()\n",
    "exec(\"scala.bat\", \"--version\")"
   ]
  },
  {
   "cell_type": "code",
   "execution_count": 1,
   "metadata": {},
   "outputs": [
    {
     "data": {
      "text/plain": [
       "\u001b[32mimport \u001b[39m\u001b[36m$cp.$                    \r\n",
       "\u001b[39m"
      ]
     },
     "execution_count": 1,
     "metadata": {},
     "output_type": "execute_result"
    }
   ],
   "source": [
    "// jars, NOT folders\n",
    "import $cp.`../Scala/snippets/*`\n",
    "\n",
    "// TODO: how to import no package jars???"
   ]
  },
  {
   "cell_type": "code",
   "execution_count": 9,
   "metadata": {},
   "outputs": [
    {
     "name": "stderr",
     "output_type": "stream",
     "text": [
      "Downloading https://repo1.maven.org/maven2/org/scalaz/scalaz-core_3/7.3.8/scalaz-core_3-7.3.8.pom\n",
      "Downloaded https://repo1.maven.org/maven2/org/scalaz/scalaz-core_3/7.3.8/scalaz-core_3-7.3.8.pom\n",
      "Downloading https://repo1.maven.org/maven2/org/scalaz/scalaz-core_3/7.3.8/scalaz-core_3-7.3.8-sources.jar\n",
      "Downloading https://repo1.maven.org/maven2/org/scalaz/scalaz-core_3/7.3.8/scalaz-core_3-7.3.8.jar\n",
      "Downloaded https://repo1.maven.org/maven2/org/scalaz/scalaz-core_3/7.3.8/scalaz-core_3-7.3.8-sources.jar\n",
      "Downloaded https://repo1.maven.org/maven2/org/scalaz/scalaz-core_3/7.3.8/scalaz-core_3-7.3.8.jar\n"
     ]
    },
    {
     "data": {
      "text/plain": [
       "\u001b[32mimport \u001b[39m\u001b[36m$ivy.$                              , scalaz._, Scalaz._\n",
       "\n",
       "\u001b[39m\r\n",
       "\u001b[36mres9_1\u001b[39m: \u001b[32mOption\u001b[39m[\u001b[32mInt\u001b[39m] = \u001b[33mSome\u001b[39m(value = \u001b[32m3\u001b[39m)"
      ]
     },
     "execution_count": 9,
     "metadata": {},
     "output_type": "execute_result"
    }
   ],
   "source": [
    "import $ivy.`org.scalaz::scalaz-core:7.3.8`, scalaz._, Scalaz._\n",
    "\n",
    "(Option(1) |@| Option(2))(_ + _)"
   ]
  },
  {
   "cell_type": "markdown",
   "metadata": {},
   "source": [
    "# Scala Scripts"
   ]
  },
  {
   "cell_type": "code",
   "execution_count": 2,
   "metadata": {},
   "outputs": [
    {
     "name": "stdout",
     "output_type": "stream",
     "text": [
      "(0,Hello World!!\n",
      "x is 123,)\n"
     ]
    },
    {
     "data": {
      "text/plain": [
       "\u001b[36mres\u001b[39m: \u001b[32mCommandResult\u001b[39m = \u001b[33mCommandResult\u001b[39m(\n",
       "  command = \u001b[33mArraySeq\u001b[39m(\u001b[32m\"amm.bat\"\u001b[39m, \u001b[32m\"snippets/MyScript.sc\"\u001b[39m),\n",
       "  exitCode = \u001b[32m0\u001b[39m,\n",
       "  chunks = \u001b[33mVector\u001b[39m(\n",
       "    \u001b[33mLeft\u001b[39m(\n",
       "      value = Hello World!!\r\n",
       "x is 123\r\n",
       "\n",
       "    )\n",
       "  )\n",
       ")"
      ]
     },
     "execution_count": 2,
     "metadata": {},
     "output_type": "execute_result"
    }
   ],
   "source": [
    "val res = os.proc(\"amm.bat\", \"snippets/MyScript.sc\").call()\n",
    "println((res.exitCode, res.out.trim(), res.err.trim()))"
   ]
  }
 ],
 "metadata": {
  "kernelspec": {
   "display_name": "Scala",
   "language": "scala",
   "name": "scala"
  },
  "language_info": {
   "codemirror_mode": "text/x-scala",
   "file_extension": ".sc",
   "mimetype": "text/x-scala",
   "name": "scala",
   "nbconvert_exporter": "script",
   "version": "2.13.14"
  }
 },
 "nbformat": 4,
 "nbformat_minor": 2
}
