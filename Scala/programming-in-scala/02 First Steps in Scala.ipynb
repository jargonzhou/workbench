{
 "cells": [
  {
   "cell_type": "markdown",
   "id": "ef0766b2",
   "metadata": {},
   "source": [
    "# STEP 1. LEARN TO USE THE SCALA INTERPRETER"
   ]
  },
  {
   "cell_type": "code",
   "execution_count": 1,
   "id": "eeb78be3",
   "metadata": {},
   "outputs": [
    {
     "data": {
      "text/plain": [
       "\u001b[36mres0\u001b[39m: \u001b[32mInt\u001b[39m = \u001b[32m3\u001b[39m"
      ]
     },
     "execution_count": 1,
     "metadata": {},
     "output_type": "execute_result"
    }
   ],
   "source": [
    "1 + 2"
   ]
  },
  {
   "cell_type": "code",
   "execution_count": 2,
   "id": "afec82f8",
   "metadata": {},
   "outputs": [
    {
     "data": {
      "text/plain": [
       "\u001b[36mres1\u001b[39m: \u001b[32mInt\u001b[39m = \u001b[32m9\u001b[39m"
      ]
     },
     "execution_count": 2,
     "metadata": {},
     "output_type": "execute_result"
    }
   ],
   "source": [
    "res0 * 3"
   ]
  },
  {
   "cell_type": "code",
   "execution_count": 3,
   "id": "c404f39a",
   "metadata": {},
   "outputs": [
    {
     "name": "stdout",
     "output_type": "stream",
     "text": [
      "Hello, world!\n"
     ]
    }
   ],
   "source": [
    "println(\"Hello, world!\")"
   ]
  },
  {
   "cell_type": "markdown",
   "id": "49c25049",
   "metadata": {},
   "source": [
    "# STEP 2. DEFINE SOME VARIABLES"
   ]
  },
  {
   "cell_type": "code",
   "execution_count": 4,
   "id": "0c66af35",
   "metadata": {},
   "outputs": [
    {
     "data": {
      "text/plain": [
       "\u001b[36mmsg\u001b[39m: \u001b[32mString\u001b[39m = \u001b[32m\"Hello, world!\"\u001b[39m"
      ]
     },
     "execution_count": 4,
     "metadata": {},
     "output_type": "execute_result"
    }
   ],
   "source": [
    "val msg = \"Hello, world!\""
   ]
  },
  {
   "cell_type": "code",
   "execution_count": 5,
   "id": "990c2abb",
   "metadata": {},
   "outputs": [
    {
     "data": {
      "text/plain": [
       "\u001b[36mmsg2\u001b[39m: \u001b[32mString\u001b[39m = \u001b[32m\"Hello again, world!\"\u001b[39m"
      ]
     },
     "execution_count": 5,
     "metadata": {},
     "output_type": "execute_result"
    }
   ],
   "source": [
    "val msg2: java.lang.String = \"Hello again, world!\""
   ]
  },
  {
   "cell_type": "code",
   "execution_count": 6,
   "id": "d857496e",
   "metadata": {},
   "outputs": [
    {
     "data": {
      "text/plain": [
       "\u001b[36mmsg3\u001b[39m: \u001b[32mString\u001b[39m = \u001b[32m\"Hello yet again, world!\"\u001b[39m"
      ]
     },
     "execution_count": 6,
     "metadata": {},
     "output_type": "execute_result"
    }
   ],
   "source": [
    "val msg3: String = \"Hello yet again, world!\""
   ]
  },
  {
   "cell_type": "code",
   "execution_count": 7,
   "id": "5327083b",
   "metadata": {},
   "outputs": [
    {
     "name": "stdout",
     "output_type": "stream",
     "text": [
      "Hello, world!\n"
     ]
    }
   ],
   "source": [
    "println(msg)"
   ]
  },
  {
   "cell_type": "code",
   "execution_count": 7,
   "id": "0b6f6ebe",
   "metadata": {},
   "outputs": [],
   "source": [
    "// msg = \"Goodbye cruel world!\""
   ]
  },
  {
   "cell_type": "code",
   "execution_count": 8,
   "id": "8d3d88d2",
   "metadata": {},
   "outputs": [
    {
     "data": {
      "text/html": [
       "<div class=\"jp-RenderedText\">\n",
       "<pre><code><span style=\"color: rgb(0, 187, 187)\"><span class=\"ansi-cyan-fg\">greeting</span></span>: <span style=\"color: rgb(0, 187, 0)\"><span class=\"ansi-green-fg\">String</span></span> = <style>@keyframes fadein { from { opacity: 0; } to { opacity: 1; } }</style><span style=\"animation: fadein 2s;\"><span style=\"color: rgb(0, 187, 0)\"><span class=\"ansi-green-fg\">&quot;Leave me alone, world!&quot;</span></span></span></code></pre>\n",
       "</div>"
      ],
      "text/plain": [
       "\u001b[36mgreeting\u001b[39m: \u001b[32mString\u001b[39m = \u001b[32m\"Leave me alone, world!\"\u001b[39m"
      ]
     },
     "metadata": {},
     "output_type": "display_data"
    }
   ],
   "source": [
    "var greeting = \"Hello, world!\""
   ]
  },
  {
   "cell_type": "code",
   "execution_count": 9,
   "id": "489c366d",
   "metadata": {},
   "outputs": [],
   "source": [
    "greeting = \"Leave me alone, world!\""
   ]
  },
  {
   "cell_type": "code",
   "execution_count": 10,
   "id": "4167aa69",
   "metadata": {},
   "outputs": [
    {
     "data": {
      "text/plain": [
       "\u001b[36mres9\u001b[39m: \u001b[32mString\u001b[39m = \u001b[32m\"Leave me alone, world!\"\u001b[39m"
      ]
     },
     "execution_count": 10,
     "metadata": {},
     "output_type": "execute_result"
    }
   ],
   "source": [
    "greeting"
   ]
  },
  {
   "cell_type": "markdown",
   "id": "e1cea4c4",
   "metadata": {},
   "source": [
    "# STEP 3. DEFINE SOME FUNCTIONS"
   ]
  },
  {
   "cell_type": "code",
   "execution_count": 11,
   "id": "f34749ef",
   "metadata": {},
   "outputs": [
    {
     "data": {
      "text/plain": [
       "defined \u001b[32mfunction\u001b[39m \u001b[36mmax\u001b[39m"
      ]
     },
     "execution_count": 11,
     "metadata": {},
     "output_type": "execute_result"
    }
   ],
   "source": [
    "def max(x: Int, y: Int): Int = {\n",
    "  if (x > y) x\n",
    "  else y\n",
    "}"
   ]
  },
  {
   "cell_type": "code",
   "execution_count": 12,
   "id": "dc676ee1",
   "metadata": {},
   "outputs": [
    {
     "data": {
      "text/plain": [
       "defined \u001b[32mfunction\u001b[39m \u001b[36mmax\u001b[39m"
      ]
     },
     "execution_count": 12,
     "metadata": {},
     "output_type": "execute_result"
    }
   ],
   "source": [
    "def max(x: Int, y: Int) = if (x > y) x else y"
   ]
  },
  {
   "cell_type": "code",
   "execution_count": 13,
   "id": "c04c1c9a",
   "metadata": {},
   "outputs": [
    {
     "data": {
      "text/plain": [
       "\u001b[36mres12\u001b[39m: \u001b[32mInt\u001b[39m = \u001b[32m5\u001b[39m"
      ]
     },
     "execution_count": 13,
     "metadata": {},
     "output_type": "execute_result"
    }
   ],
   "source": [
    "max(3, 5)"
   ]
  },
  {
   "cell_type": "code",
   "execution_count": 14,
   "id": "24e34877",
   "metadata": {},
   "outputs": [
    {
     "data": {
      "text/plain": [
       "defined \u001b[32mfunction\u001b[39m \u001b[36mgreet\u001b[39m"
      ]
     },
     "execution_count": 14,
     "metadata": {},
     "output_type": "execute_result"
    }
   ],
   "source": [
    "def greet() = println(\"Hello, world!\")"
   ]
  },
  {
   "cell_type": "code",
   "execution_count": 15,
   "id": "9ea2dcf0",
   "metadata": {},
   "outputs": [
    {
     "data": {
      "text/plain": [
       "\u001b[36mres14\u001b[39m: \u001b[32mreflect\u001b[39m.\u001b[32mruntime\u001b[39m.\u001b[32mpackage\u001b[39m.\u001b[32muniverse\u001b[39m.\u001b[32mType\u001b[39m = \u001b[33mTypeRef\u001b[39m(\n",
       "  pre = \u001b[33mThisType\u001b[39m(sym = package scala),\n",
       "  sym = class Unit,\n",
       "  args = \u001b[33mList\u001b[39m()\n",
       ")"
      ]
     },
     "execution_count": 15,
     "metadata": {},
     "output_type": "execute_result"
    }
   ],
   "source": [
    "repl.typeOf(greet)"
   ]
  },
  {
   "cell_type": "markdown",
   "id": "0972893f",
   "metadata": {},
   "source": [
    "# STEP 4. WRITE SOME SCALA SCRIPTS"
   ]
  },
  {
   "cell_type": "code",
   "execution_count": 16,
   "id": "f7d8155b",
   "metadata": {},
   "outputs": [
    {
     "data": {
      "text/plain": [
       "\u001b[32mimport \u001b[39m\u001b[36m$ivy.$                          \u001b[39m"
      ]
     },
     "execution_count": 16,
     "metadata": {},
     "output_type": "execute_result"
    }
   ],
   "source": [
    "import $ivy.`com.lihaoyi::os-lib:0.9.1`"
   ]
  },
  {
   "cell_type": "code",
   "execution_count": 17,
   "id": "b195e45c",
   "metadata": {},
   "outputs": [
    {
     "name": "stdout",
     "output_type": "stream",
     "text": [
      "println(\"Hello, \" + args(0) + \"!\")\n"
     ]
    }
   ],
   "source": [
    "println(os.read(os.pwd / \"ch02\" / \"helloarg.scala\"))"
   ]
  },
  {
   "cell_type": "code",
   "execution_count": 18,
   "id": "14d6804f",
   "metadata": {},
   "outputs": [
    {
     "data": {
      "text/plain": [
       "\u001b[36mres17\u001b[39m: \u001b[32mString\u001b[39m = \u001b[32m\"Hello, planet!\"\u001b[39m"
      ]
     },
     "execution_count": 18,
     "metadata": {},
     "output_type": "execute_result"
    }
   ],
   "source": [
    "os.proc(\"scala\", \"ch02/helloarg.scala\" , \"planet\").call().out.trim()"
   ]
  },
  {
   "cell_type": "markdown",
   "id": "798a9b94",
   "metadata": {},
   "source": [
    "# STEP 5. LOOP WITH WHILE; DECIDE WITH IF"
   ]
  },
  {
   "cell_type": "code",
   "execution_count": 19,
   "id": "4fb1430f",
   "metadata": {},
   "outputs": [
    {
     "name": "stdout",
     "output_type": "stream",
     "text": [
      "var i = 0\n",
      "while (i < args.length) {\n",
      "  println(args(i))\n",
      "  i += 1\n",
      "}\n"
     ]
    },
    {
     "data": {
      "text/plain": [
       "\u001b[36mres18_1\u001b[39m: \u001b[32mString\u001b[39m = \u001b[32m\"\"\"Scala\n",
       "is\n",
       "fun\"\"\"\u001b[39m"
      ]
     },
     "execution_count": 19,
     "metadata": {},
     "output_type": "execute_result"
    }
   ],
   "source": [
    "println(os.read(os.pwd / \"ch02\" / \"printargs.scala\"))\n",
    "os.proc(\"scala\", \"ch02/printargs.scala\" , \"Scala\", \"is\", \"fun\").call().out.trim()"
   ]
  },
  {
   "cell_type": "code",
   "execution_count": 20,
   "id": "ba2bfbfa",
   "metadata": {},
   "outputs": [
    {
     "name": "stdout",
     "output_type": "stream",
     "text": [
      "var i = 0\n",
      "while (i < args.length) {\n",
      "  if (i != 0)\n",
      "    print(\" \")\n",
      "  print(args(i))\n",
      "  i += 1\n",
      "}\n",
      "println()\n"
     ]
    },
    {
     "data": {
      "text/plain": [
       "\u001b[36mres19_1\u001b[39m: \u001b[32mString\u001b[39m = \u001b[32m\"Scala is even more fun\"\u001b[39m"
      ]
     },
     "execution_count": 20,
     "metadata": {},
     "output_type": "execute_result"
    }
   ],
   "source": [
    "println(os.read(os.pwd / \"ch02\" / \"echoargs.scala\"))\n",
    "os.proc(\"scala\", \"ch02/echoargs.scala\" , \"Scala\", \"is\", \"even\", \"more\", \"fun\").call().out.trim()"
   ]
  },
  {
   "cell_type": "code",
   "execution_count": 21,
   "id": "02b59fbc",
   "metadata": {},
   "outputs": [
    {
     "name": "stdout",
     "output_type": "stream",
     "text": [
      "Scala is even more fun\n"
     ]
    },
    {
     "data": {
      "text/plain": [
       "\u001b[36mi\u001b[39m: \u001b[32mInt\u001b[39m = \u001b[32m5\u001b[39m\n",
       "\u001b[36m_args\u001b[39m: \u001b[32mArray\u001b[39m[\u001b[32mString\u001b[39m] = \u001b[33mArray\u001b[39m(\u001b[32m\"Scala\"\u001b[39m, \u001b[32m\"is\"\u001b[39m, \u001b[32m\"even\"\u001b[39m, \u001b[32m\"more\"\u001b[39m, \u001b[32m\"fun\"\u001b[39m)"
      ]
     },
     "execution_count": 21,
     "metadata": {},
     "output_type": "execute_result"
    }
   ],
   "source": [
    "var i = 0;\n",
    "val _args = Array(\"Scala\", \"is\", \"even\", \"more\", \"fun\")\n",
    "while (i < _args.length) {\n",
    "  if (i != 0) {\n",
    "    print(\" \");\n",
    "  }\n",
    "  print(_args(i));\n",
    "  i += 1;\n",
    "}\n",
    "println();"
   ]
  },
  {
   "cell_type": "markdown",
   "id": "d610c06e",
   "metadata": {},
   "source": [
    "# STEP 6. ITERATE WITH FOREACH AND FOR"
   ]
  },
  {
   "cell_type": "code",
   "execution_count": 22,
   "id": "9185d5f9",
   "metadata": {},
   "outputs": [
    {
     "name": "stdout",
     "output_type": "stream",
     "text": [
      "args.foreach((arg: String) => println(arg))\n"
     ]
    },
    {
     "data": {
      "text/plain": [
       "\u001b[36mres21_1\u001b[39m: \u001b[32mString\u001b[39m = \u001b[32m\"\"\"Concise\n",
       "is\n",
       "nice\"\"\"\u001b[39m"
      ]
     },
     "execution_count": 22,
     "metadata": {},
     "output_type": "execute_result"
    }
   ],
   "source": [
    "println(os.read(os.pwd / \"ch02\" / \"pa.scala\"))\n",
    "os.proc(\"scala\", \"ch02/pa.scala\" , \"Concise\", \"is\", \"nice\").call().out.trim()"
   ]
  },
  {
   "cell_type": "code",
   "execution_count": 23,
   "id": "a97760db",
   "metadata": {},
   "outputs": [
    {
     "name": "stdout",
     "output_type": "stream",
     "text": [
      "Concise\n",
      "is\n",
      "nice\n"
     ]
    },
    {
     "data": {
      "text/plain": [
       "\u001b[36m_args\u001b[39m: \u001b[32mArray\u001b[39m[\u001b[32mString\u001b[39m] = \u001b[33mArray\u001b[39m(\u001b[32m\"Concise\"\u001b[39m, \u001b[32m\"is\"\u001b[39m, \u001b[32m\"nice\"\u001b[39m)"
      ]
     },
     "execution_count": 23,
     "metadata": {},
     "output_type": "execute_result"
    }
   ],
   "source": [
    "val _args = Array(\"Concise\", \"is\", \"nice\")\n",
    "_args.foreach((arg: String) => println(arg))"
   ]
  },
  {
   "cell_type": "code",
   "execution_count": 24,
   "id": "9e82face",
   "metadata": {},
   "outputs": [
    {
     "name": "stdout",
     "output_type": "stream",
     "text": [
      "Concise\n",
      "is\n",
      "nice\n"
     ]
    }
   ],
   "source": [
    "_args.foreach(println)"
   ]
  },
  {
   "cell_type": "code",
   "execution_count": 25,
   "id": "edc0da1f",
   "metadata": {},
   "outputs": [
    {
     "name": "stdout",
     "output_type": "stream",
     "text": [
      "for (arg <- args)\n",
      "  println(arg)\n"
     ]
    },
    {
     "data": {
      "text/plain": [
       "\u001b[36mres24_1\u001b[39m: \u001b[32mString\u001b[39m = \u001b[32m\"\"\"for\n",
       "arg\n",
       "in\n",
       "args\"\"\"\u001b[39m"
      ]
     },
     "execution_count": 25,
     "metadata": {},
     "output_type": "execute_result"
    }
   ],
   "source": [
    "println(os.read(os.pwd / \"ch02\" / \"forargs.scala\"))\n",
    "os.proc(\"scala\", \"ch02/forargs.scala\" , \"for\", \"arg\", \"in\", \"args\").call().out.trim()"
   ]
  }
 ],
 "metadata": {
  "kernelspec": {
   "display_name": "Scala",
   "language": "scala",
   "name": "scala"
  },
  "language_info": {
   "codemirror_mode": "text/x-scala",
   "file_extension": ".sc",
   "mimetype": "text/x-scala",
   "name": "scala",
   "nbconvert_exporter": "script",
   "version": "2.13.10"
  },
  "toc": {
   "base_numbering": 1,
   "nav_menu": {},
   "number_sections": true,
   "sideBar": true,
   "skip_h1_title": false,
   "title_cell": "Table of Contents",
   "title_sidebar": "Contents",
   "toc_cell": false,
   "toc_position": {},
   "toc_section_display": true,
   "toc_window_display": true
  }
 },
 "nbformat": 4,
 "nbformat_minor": 5
}
