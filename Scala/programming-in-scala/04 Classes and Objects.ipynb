{
 "cells": [
  {
   "cell_type": "markdown",
   "id": "3345f647",
   "metadata": {},
   "source": [
    "# 4.1 CLASSES, FIELDS, AND METHODS"
   ]
  },
  {
   "cell_type": "code",
   "execution_count": 1,
   "id": "a88a3f80",
   "metadata": {},
   "outputs": [
    {
     "data": {
      "text/plain": [
       "defined \u001b[32mclass\u001b[39m \u001b[36mChecksumAccumulator\u001b[39m\n",
       "\u001b[36mres0_1\u001b[39m: \u001b[32mChecksumAccumulator\u001b[39m = ammonite.$sess.cmd0$Helper$ChecksumAccumulator@1ce67871"
      ]
     },
     "execution_count": 1,
     "metadata": {},
     "output_type": "execute_result"
    }
   ],
   "source": [
    "class ChecksumAccumulator {\n",
    "  // class definition goes here\n",
    "}\n",
    "\n",
    "new ChecksumAccumulator"
   ]
  },
  {
   "cell_type": "code",
   "execution_count": 1,
   "id": "9e6c9f20",
   "metadata": {},
   "outputs": [
    {
     "name": "stderr",
     "output_type": "stream",
     "text": [
      "cmd1.sc:11: reassignment to val\n",
      "val res1_4 = acc = new ChecksumAccumulator\n",
      "                 ^Compilation Failed"
     ]
    },
    {
     "ename": "",
     "evalue": "",
     "output_type": "error",
     "traceback": [
      "Compilation Failed"
     ]
    }
   ],
   "source": [
    "class ChecksumAccumulator {\n",
    "  var sum = 0\n",
    "}\n",
    "\n",
    "val acc = new ChecksumAccumulator\n",
    "val csa = new ChecksumAccumulator\n",
    "\n",
    "acc.sum = 3\n",
    "\n",
    "// Won't compile, because acc is a val\n",
    "// acc = new ChecksumAccumulator"
   ]
  },
  {
   "cell_type": "code",
   "execution_count": 1,
   "id": "37fc781f",
   "metadata": {},
   "outputs": [
    {
     "name": "stderr",
     "output_type": "stream",
     "text": [
      "cmd1.sc:6: variable sum in class ChecksumAccumulator cannot be accessed as a member of Helper.this.ChecksumAccumulator from class Helper in class cmd1\n",
      "val res1_2 = acc.sum = 5 // Won't compile, because sum is private\n",
      "                 ^Compilation Failed"
     ]
    },
    {
     "ename": "",
     "evalue": "",
     "output_type": "error",
     "traceback": [
      "Compilation Failed"
     ]
    }
   ],
   "source": [
    "class ChecksumAccumulator {\n",
    "  private var sum = 0\n",
    "}\n",
    "\n",
    "val acc = new ChecksumAccumulator\n",
    "// acc.sum = 5 // Won't compile, because sum is private"
   ]
  },
  {
   "cell_type": "code",
   "execution_count": 2,
   "id": "8d079778",
   "metadata": {},
   "outputs": [
    {
     "data": {
      "text/plain": [
       "defined \u001b[32mclass\u001b[39m \u001b[36mChecksumAccumulator\u001b[39m"
      ]
     },
     "execution_count": 2,
     "metadata": {},
     "output_type": "execute_result"
    }
   ],
   "source": [
    "class ChecksumAccumulator {\n",
    "  private var sum = 0\n",
    "\n",
    "  def add(b: Byte): Unit = {\n",
    "    sum += b\n",
    "  }\n",
    "\n",
    "  def checksum(): Int = {\n",
    "    return ~(sum & 0xFF) + 1\n",
    "  }\n",
    "}"
   ]
  },
  {
   "cell_type": "code",
   "execution_count": 2,
   "id": "c4354317",
   "metadata": {},
   "outputs": [
    {
     "name": "stderr",
     "output_type": "stream",
     "text": [
      "cmd2.sc:2: reassignment to val\n",
      "  b = 1 // This won't compile, because b is a val\n",
      "    ^cmd2.sc:3: not found: value sum\n",
      "  sum += b\n",
      "  ^Compilation Failed"
     ]
    },
    {
     "ename": "",
     "evalue": "",
     "output_type": "error",
     "traceback": [
      "Compilation Failed"
     ]
    }
   ],
   "source": [
    "// def add(b: Byte): Unit = {\n",
    "//   b = 1 // This won't compile, because b is a val\n",
    "//   sum += b\n",
    "// }"
   ]
  },
  {
   "cell_type": "code",
   "execution_count": 3,
   "id": "1250e21d",
   "metadata": {},
   "outputs": [
    {
     "data": {
      "text/plain": [
       "defined \u001b[32mclass\u001b[39m \u001b[36mChecksumAccumulator\u001b[39m"
      ]
     },
     "execution_count": 3,
     "metadata": {},
     "output_type": "execute_result"
    }
   ],
   "source": [
    "class ChecksumAccumulator {\n",
    "  private var sum = 0\n",
    "  def add(b: Byte) = sum += b\n",
    "  def checksum() = ~(sum & 0xFF) + 1\n",
    "}"
   ]
  },
  {
   "cell_type": "code",
   "execution_count": 4,
   "id": "ca5620f5",
   "metadata": {},
   "outputs": [
    {
     "data": {
      "text/plain": [
       "defined \u001b[32mclass\u001b[39m \u001b[36mChecksumAccumulator\u001b[39m"
      ]
     },
     "execution_count": 4,
     "metadata": {},
     "output_type": "execute_result"
    }
   ],
   "source": [
    "class ChecksumAccumulator {\n",
    "  private var sum = 0\n",
    "  def add(b: Byte): Unit = { sum += b }\n",
    "  def checksum(): Int = ~(sum & 0xFF) + 1\n",
    "}"
   ]
  },
  {
   "cell_type": "markdown",
   "id": "fbc909ef",
   "metadata": {},
   "source": [
    "# 4.2 SEMICOLON INFERENCE"
   ]
  },
  {
   "cell_type": "code",
   "execution_count": 5,
   "id": "92a5b493",
   "metadata": {},
   "outputs": [
    {
     "name": "stdout",
     "output_type": "stream",
     "text": [
      "hello\n"
     ]
    },
    {
     "data": {
      "text/plain": [
       "\u001b[36ms\u001b[39m: \u001b[32mString\u001b[39m = \u001b[32m\"hello\"\u001b[39m"
      ]
     },
     "execution_count": 5,
     "metadata": {},
     "output_type": "execute_result"
    }
   ],
   "source": [
    "val s = \"hello\"; println(s)"
   ]
  },
  {
   "cell_type": "markdown",
   "id": "e4fbf367",
   "metadata": {},
   "source": [
    "# 4.3 SINGLETON OBJECTS"
   ]
  },
  {
   "cell_type": "code",
   "execution_count": 6,
   "id": "ae6b3c11",
   "metadata": {},
   "outputs": [
    {
     "data": {
      "text/plain": [
       "\u001b[32mimport \u001b[39m\u001b[36mscala.collection.mutable\n",
       "\n",
       "\u001b[39m\n",
       "defined \u001b[32mobject\u001b[39m \u001b[36mChecksumAccumulator\u001b[39m\n",
       "\u001b[36mres5_2\u001b[39m: \u001b[32mInt\u001b[39m = \u001b[32m-248\u001b[39m"
      ]
     },
     "execution_count": 6,
     "metadata": {},
     "output_type": "execute_result"
    }
   ],
   "source": [
    "import scala.collection.mutable\n",
    "\n",
    "object ChecksumAccumulator {\n",
    "  private val cache = mutable.Map.empty[String, Int]\n",
    "\n",
    "  def calculate(s: String): Int =\n",
    "    if (cache.contains(s))\n",
    "      cache(s)\n",
    "    else {\n",
    "      val acc = new ChecksumAccumulator\n",
    "      for (c <- s)\n",
    "        acc.add(c.toByte)\n",
    "      val cs = acc.checksum()\n",
    "      cache += (s -> cs)\n",
    "      cs\n",
    "    }\n",
    "}\n",
    "\n",
    "ChecksumAccumulator.calculate(\"Every value is an object.\")"
   ]
  },
  {
   "cell_type": "markdown",
   "id": "0c32ec06",
   "metadata": {},
   "source": [
    "# 4.4 A SCALA APPLICATION"
   ]
  },
  {
   "cell_type": "code",
   "execution_count": 7,
   "id": "47253e92",
   "metadata": {},
   "outputs": [
    {
     "data": {
      "text/plain": [
       "\u001b[32mimport \u001b[39m\u001b[36mChecksumAccumulator.calculate\n",
       "\n",
       "\u001b[39m\n",
       "defined \u001b[32mobject\u001b[39m \u001b[36mSummer\u001b[39m"
      ]
     },
     "execution_count": 7,
     "metadata": {},
     "output_type": "execute_result"
    }
   ],
   "source": [
    "import ChecksumAccumulator.calculate\n",
    "\n",
    "object Summer {\n",
    "  def main(args: Array[String]) = {\n",
    "  for (arg <- args)\n",
    "    println(arg + \": \" + calculate(arg))\n",
    "  }\n",
    "}"
   ]
  },
  {
   "cell_type": "code",
   "execution_count": 8,
   "id": "bd754d00",
   "metadata": {},
   "outputs": [
    {
     "data": {
      "text/plain": [
       "\u001b[32mimport \u001b[39m\u001b[36m$ivy.$                          \u001b[39m"
      ]
     },
     "execution_count": 8,
     "metadata": {},
     "output_type": "execute_result"
    }
   ],
   "source": [
    "import $ivy.`com.lihaoyi::os-lib:0.9.1`"
   ]
  },
  {
   "cell_type": "code",
   "execution_count": 10,
   "id": "3d8c03f5",
   "metadata": {},
   "outputs": [
    {
     "name": "stdout",
     "output_type": "stream",
     "text": [
      "import scala.collection.mutable\n",
      "\n",
      "class ChecksumAccumulator {\n",
      "  private var sum = 0\n",
      "\n",
      "  def add(b: Byte): Unit = {\n",
      "    sum += b\n",
      "  }\n",
      "\n",
      "  def checksum(): Int = {\n",
      "    return ~(sum & 0xFF) + 1\n",
      "  }\n",
      "}\n",
      "\n",
      "object ChecksumAccumulator {\n",
      "  private val cache = mutable.Map.empty[String, Int]\n",
      "\n",
      "  def calculate(s: String): Int =\n",
      "    if (cache.contains(s))\n",
      "      cache(s)\n",
      "    else {\n",
      "      val acc = new ChecksumAccumulator\n",
      "      for (c <- s)\n",
      "        acc.add(c.toByte)\n",
      "      val cs = acc.checksum()\n",
      "      cache += (s -> cs)\n",
      "      cs\n",
      "    }\n",
      "}\n"
     ]
    }
   ],
   "source": [
    "println(os.read(os.pwd / \"ch04\" / \"ChecksumAccumulator.scala\"))"
   ]
  },
  {
   "cell_type": "code",
   "execution_count": 11,
   "id": "8c99b298",
   "metadata": {},
   "outputs": [
    {
     "name": "stdout",
     "output_type": "stream",
     "text": [
      "import ChecksumAccumulator.calculate\n",
      "\n",
      "object Summer {\n",
      "  def main(args: Array[String]) = {\n",
      "  for (arg <- args)\n",
      "    println(arg + \": \" + calculate(arg))\n",
      "  }\n",
      "}\n"
     ]
    }
   ],
   "source": [
    "println(os.read(os.pwd / \"ch04\" / \"Summer.scala\"))"
   ]
  },
  {
   "cell_type": "code",
   "execution_count": 13,
   "id": "db365382",
   "metadata": {},
   "outputs": [
    {
     "name": "stdout",
     "output_type": "stream",
     "text": [
      "of: -213\n",
      "love: -182\n"
     ]
    },
    {
     "data": {
      "text/plain": [
       "\u001b[36mres12_0\u001b[39m: \u001b[32mos\u001b[39m.\u001b[32mCommandResult\u001b[39m = \u001b[33mCommandResult\u001b[39m(\n",
       "  command = \u001b[33mArraySeq\u001b[39m(\n",
       "    \u001b[32m\"scalac\"\u001b[39m,\n",
       "    \u001b[32m\"ch04/ChecksumAccumulator.scala\"\u001b[39m,\n",
       "    \u001b[32m\"ch04/Summer.scala\"\u001b[39m\n",
       "  ),\n",
       "  exitCode = \u001b[32m0\u001b[39m,\n",
       "  chunks = \u001b[33mVector\u001b[39m()\n",
       ")"
      ]
     },
     "execution_count": 13,
     "metadata": {},
     "output_type": "execute_result"
    }
   ],
   "source": [
    "os.proc(\"scalac\", \"ch04/ChecksumAccumulator.scala\" , \"ch04/Summer.scala\").call()\n",
    "println(os.proc(\"scala\", \"Summer\", \"of\", \"love\").call().out.trim())"
   ]
  },
  {
   "cell_type": "markdown",
   "id": "40685fee",
   "metadata": {},
   "source": [
    "# 4.5 THE APP TRAIT"
   ]
  },
  {
   "cell_type": "code",
   "execution_count": 15,
   "id": "5dcfe5a6",
   "metadata": {},
   "outputs": [
    {
     "name": "stdout",
     "output_type": "stream",
     "text": [
      "import ChecksumAccumulator.calculate\n",
      "\n",
      "object FallWinterSpringSummer extends App {\n",
      "  for (season <- List(\"fall\", \"winter\", \"spring\"))\n",
      "    println(season + \": \" + calculate(season))\n",
      "}\n"
     ]
    }
   ],
   "source": [
    "println(os.read(os.pwd / \"ch04\" / \"FallWinterSpringSummer.scala\"))"
   ]
  },
  {
   "cell_type": "code",
   "execution_count": 17,
   "id": "6d19b207",
   "metadata": {},
   "outputs": [
    {
     "name": "stdout",
     "output_type": "stream",
     "text": [
      "fall: -159\n",
      "winter: -153\n",
      "spring: -147\n"
     ]
    },
    {
     "data": {
      "text/plain": [
       "\u001b[36mres16_0\u001b[39m: \u001b[32mos\u001b[39m.\u001b[32mCommandResult\u001b[39m = \u001b[33mCommandResult\u001b[39m(\n",
       "  command = \u001b[33mArraySeq\u001b[39m(\u001b[32m\"scalac\"\u001b[39m, \u001b[32m\"ch04/FallWinterSpringSummer.scala\"\u001b[39m),\n",
       "  exitCode = \u001b[32m0\u001b[39m,\n",
       "  chunks = \u001b[33mVector\u001b[39m()\n",
       ")"
      ]
     },
     "execution_count": 17,
     "metadata": {},
     "output_type": "execute_result"
    }
   ],
   "source": [
    "os.proc(\"scalac\", \"ch04/FallWinterSpringSummer.scala\").call()\n",
    "println(os.proc(\"scala\", \"FallWinterSpringSummer\").call().out.trim())"
   ]
  }
 ],
 "metadata": {
  "kernelspec": {
   "display_name": "Scala",
   "language": "scala",
   "name": "scala"
  },
  "language_info": {
   "codemirror_mode": "text/x-scala",
   "file_extension": ".sc",
   "mimetype": "text/x-scala",
   "name": "scala",
   "nbconvert_exporter": "script",
   "version": "2.13.10"
  },
  "toc": {
   "base_numbering": 1,
   "nav_menu": {},
   "number_sections": true,
   "sideBar": true,
   "skip_h1_title": false,
   "title_cell": "Table of Contents",
   "title_sidebar": "Contents",
   "toc_cell": false,
   "toc_position": {},
   "toc_section_display": true,
   "toc_window_display": false
  }
 },
 "nbformat": 4,
 "nbformat_minor": 5
}
