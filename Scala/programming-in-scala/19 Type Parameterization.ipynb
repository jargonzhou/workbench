{
 "cells": [
  {
   "cell_type": "markdown",
   "id": "00f71a69",
   "metadata": {
    "toc": true
   },
   "source": [
    "<h1>Table of Contents<span class=\"tocSkip\"></span></h1>\n",
    "<div class=\"toc\"><ul class=\"toc-item\"><li><span><a href=\"#FUNCTIONAL-QUEUES\" data-toc-modified-id=\"FUNCTIONAL-QUEUES-1\"><span class=\"toc-item-num\">1&nbsp;&nbsp;</span>FUNCTIONAL QUEUES</a></span></li><li><span><a href=\"#INFORMATION-HIDING\" data-toc-modified-id=\"INFORMATION-HIDING-2\"><span class=\"toc-item-num\">2&nbsp;&nbsp;</span>INFORMATION HIDING</a></span></li><li><span><a href=\"#VARIANCE-ANNOTATIONS\" data-toc-modified-id=\"VARIANCE-ANNOTATIONS-3\"><span class=\"toc-item-num\">3&nbsp;&nbsp;</span>VARIANCE ANNOTATIONS</a></span></li><li><span><a href=\"#CHECKING-VARIANCE-ANNOTATIONS\" data-toc-modified-id=\"CHECKING-VARIANCE-ANNOTATIONS-4\"><span class=\"toc-item-num\">4&nbsp;&nbsp;</span>CHECKING VARIANCE ANNOTATIONS</a></span></li><li><span><a href=\"#LOWER-BOUNDS\" data-toc-modified-id=\"LOWER-BOUNDS-5\"><span class=\"toc-item-num\">5&nbsp;&nbsp;</span>LOWER BOUNDS</a></span></li><li><span><a href=\"#CONTRAVARIANCE\" data-toc-modified-id=\"CONTRAVARIANCE-6\"><span class=\"toc-item-num\">6&nbsp;&nbsp;</span>CONTRAVARIANCE</a></span></li><li><span><a href=\"#OBJECT-PRIVATE-DATA\" data-toc-modified-id=\"OBJECT-PRIVATE-DATA-7\"><span class=\"toc-item-num\">7&nbsp;&nbsp;</span>OBJECT PRIVATE DATA</a></span></li><li><span><a href=\"#UPPER-BOUNDS\" data-toc-modified-id=\"UPPER-BOUNDS-8\"><span class=\"toc-item-num\">8&nbsp;&nbsp;</span>UPPER BOUNDS</a></span></li></ul></div>"
   ]
  },
  {
   "cell_type": "markdown",
   "id": "e225dcc2",
   "metadata": {},
   "source": [
    "# FUNCTIONAL QUEUES"
   ]
  },
  {
   "cell_type": "code",
   "execution_count": 1,
   "id": "7b7ad532",
   "metadata": {},
   "outputs": [
    {
     "data": {
      "text/plain": [
       "defined \u001b[32mclass\u001b[39m \u001b[36mSlowAppendQueue\u001b[39m"
      ]
     },
     "execution_count": 1,
     "metadata": {},
     "output_type": "execute_result"
    }
   ],
   "source": [
    "class SlowAppendQueue[T](elems: List[T]) {\n",
    "    def head = elems.head\n",
    "    def tail = new SlowAppendQueue(elems.tail)\n",
    "    def enqueue(x: T) = new SlowAppendQueue(elems ::: List(x))\n",
    "}"
   ]
  },
  {
   "cell_type": "code",
   "execution_count": 2,
   "id": "589731e5",
   "metadata": {},
   "outputs": [
    {
     "data": {
      "text/plain": [
       "defined \u001b[32mclass\u001b[39m \u001b[36mSlowHeadQueue\u001b[39m"
      ]
     },
     "execution_count": 2,
     "metadata": {},
     "output_type": "execute_result"
    }
   ],
   "source": [
    "class SlowHeadQueue[T](smele: List[T]) {\n",
    "    def head = smele.last\n",
    "    def tail = new SlowHeadQueue(smele.init)\n",
    "    def enqueue(x: T) = new SlowHeadQueue(x :: smele)\n",
    "}"
   ]
  },
  {
   "cell_type": "code",
   "execution_count": 13,
   "id": "bd64349b",
   "metadata": {},
   "outputs": [
    {
     "data": {
      "text/plain": [
       "defined \u001b[32mclass\u001b[39m \u001b[36mQueue\u001b[39m\r\n",
       "defined \u001b[32mobject\u001b[39m \u001b[36mQueue\u001b[39m"
      ]
     },
     "execution_count": 13,
     "metadata": {},
     "output_type": "execute_result"
    }
   ],
   "source": [
    "class Queue[T](\n",
    "    private val leading: List[T],\n",
    "    private val trailing: List[T]\n",
    ") {\n",
    "    private def mirror = \n",
    "        if (leading.isEmpty)\n",
    "            new Queue(trailing.reverse, Nil)\n",
    "        else\n",
    "            this\n",
    "    \n",
    "    def head = mirror.leading.head\n",
    "    \n",
    "    def tail = {\n",
    "        val q = mirror\n",
    "        new Queue(q.leading.tail, q.trailing)\n",
    "    }\n",
    "    \n",
    "    def enqueue(x: T) =\n",
    "        new Queue(leading, x :: trailing)\n",
    "    \n",
    "    override def toString = {\n",
    "        val q = mirror\n",
    "        \"Queue(\"+(leading ++ trailing.reverse).mkString(\",\")+\")\"\n",
    "    }\n",
    "}\n",
    "\n",
    "object Queue {\n",
    "    def apply[T](xs: T*) = new Queue(xs.toList, Nil)\n",
    "}"
   ]
  },
  {
   "cell_type": "code",
   "execution_count": 14,
   "id": "f5901e37",
   "metadata": {},
   "outputs": [
    {
     "data": {
      "text/plain": [
       "\u001b[36mq\u001b[39m: \u001b[32mQueue\u001b[39m[\u001b[32mInt\u001b[39m] = Queue(1,2,3)\r\n",
       "\u001b[36mq1\u001b[39m: \u001b[32mQueue\u001b[39m[\u001b[32mInt\u001b[39m] = Queue(1,2,3,4)\r\n",
       "\u001b[36mres13_2\u001b[39m: \u001b[32mQueue\u001b[39m[\u001b[32mInt\u001b[39m] = Queue(1,2,3,4)"
      ]
     },
     "execution_count": 14,
     "metadata": {},
     "output_type": "execute_result"
    }
   ],
   "source": [
    "val q = Queue(1,2,3)\n",
    "val q1 = q enqueue 4\n",
    "q1"
   ]
  },
  {
   "cell_type": "markdown",
   "id": "79a6823a",
   "metadata": {},
   "source": [
    "# INFORMATION HIDING"
   ]
  },
  {
   "cell_type": "code",
   "execution_count": 17,
   "id": "f067e73d",
   "metadata": {},
   "outputs": [
    {
     "data": {
      "text/plain": [
       "defined \u001b[32mtrait\u001b[39m \u001b[36mQueue\u001b[39m\r\n",
       "defined \u001b[32mobject\u001b[39m \u001b[36mQueue\u001b[39m"
      ]
     },
     "execution_count": 17,
     "metadata": {},
     "output_type": "execute_result"
    }
   ],
   "source": [
    "trait Queue[T] {\n",
    "    def head: T\n",
    "    def tail: Queue[T]\n",
    "    def enqueue(x: T): Queue[T]\n",
    "}\n",
    "\n",
    "object Queue {\n",
    "    def apply[T](xs: T*): Queue[T] = new QueueImpl[T](xs.toList, Nil)\n",
    "    \n",
    "    private class QueueImpl[T](\n",
    "        private val leading: List[T],\n",
    "        private val trailing: List[T]\n",
    "    ) extends Queue[T] {\n",
    "        private def mirror = \n",
    "            if (leading.isEmpty)\n",
    "                new QueueImpl(trailing.reverse, Nil)\n",
    "            else\n",
    "                this\n",
    "\n",
    "        def head = mirror.leading.head\n",
    "\n",
    "        def tail = {\n",
    "            val q = mirror\n",
    "            new QueueImpl(q.leading.tail, q.trailing)\n",
    "        }\n",
    "\n",
    "        def enqueue(x: T) =\n",
    "            new QueueImpl(leading, x :: trailing)\n",
    "\n",
    "        override def toString = {\n",
    "            val q = mirror\n",
    "            \"Queue(\"+(leading ++ trailing.reverse).mkString(\",\")+\")\"\n",
    "        }\n",
    "    }\n",
    "}"
   ]
  },
  {
   "cell_type": "code",
   "execution_count": 18,
   "id": "368249ed",
   "metadata": {},
   "outputs": [
    {
     "data": {
      "text/plain": [
       "\u001b[36mq\u001b[39m: \u001b[32mQueue\u001b[39m[\u001b[32mInt\u001b[39m] = Queue(1,2,3)\r\n",
       "\u001b[36mq1\u001b[39m: \u001b[32mQueue\u001b[39m[\u001b[32mInt\u001b[39m] = Queue(1,2,3,4)\r\n",
       "\u001b[36mres17_2\u001b[39m: \u001b[32mQueue\u001b[39m[\u001b[32mInt\u001b[39m] = Queue(1,2,3,4)"
      ]
     },
     "execution_count": 18,
     "metadata": {},
     "output_type": "execute_result"
    }
   ],
   "source": [
    "val q = Queue(1,2,3)\n",
    "val q1 = q enqueue 4\n",
    "q1"
   ]
  },
  {
   "cell_type": "markdown",
   "id": "44254089",
   "metadata": {},
   "source": [
    "# VARIANCE ANNOTATIONS"
   ]
  },
  {
   "cell_type": "markdown",
   "id": "3cf6edb1",
   "metadata": {},
   "source": [
    "```scala\n",
    "sealed abstract class List[+A] extends AbstractSeq[A]\n",
    "                                  with LinearSeq[A]\n",
    "                                  with Product\n",
    "                                  with GenericTraversableTemplate[A, List]\n",
    "                                  with LinearSeqOptimized[A, List[A]]\n",
    "                                  with scala.Serializable {}\n",
    "\n",
    "\n",
    "trait Function1[@specialized(scala.Int, scala.Long, scala.Float, scala.Double) -T1, \n",
    "                @specialized(scala.Unit, scala.Boolean, scala.Int, scala.Float, scala.Long, scala.Double) +R] \n",
    "extends AnyRef {}\n",
    "\n",
    "trait Function2[@specialized(scala.Int, scala.Long, scala.Double) -T1, \n",
    "                @specialized(scala.Int, scala.Long, scala.Double) -T2, \n",
    "                @specialized(scala.Unit, scala.Boolean, scala.Int, scala.Float, scala.Long, scala.Double) +R] \n",
    "extends AnyRef {}\n",
    "```"
   ]
  },
  {
   "cell_type": "markdown",
   "id": "045a24f7",
   "metadata": {},
   "source": [
    "# CHECKING VARIANCE ANNOTATIONS"
   ]
  },
  {
   "cell_type": "code",
   "execution_count": null,
   "id": "f69bc169",
   "metadata": {},
   "outputs": [],
   "source": []
  },
  {
   "cell_type": "markdown",
   "id": "1fc78a38",
   "metadata": {},
   "source": [
    "# LOWER BOUNDS"
   ]
  },
  {
   "cell_type": "code",
   "execution_count": 19,
   "id": "eaab2ba0",
   "metadata": {},
   "outputs": [
    {
     "data": {
      "text/plain": [
       "defined \u001b[32mclass\u001b[39m \u001b[36mQueue\u001b[39m"
      ]
     },
     "execution_count": 19,
     "metadata": {},
     "output_type": "execute_result"
    }
   ],
   "source": [
    "class Queue[+T](\n",
    "    private val leading: List[T],\n",
    "    private val trailing: List[T]\n",
    ") {\n",
    "    def eneuque[U >: T](x: U) = \n",
    "        new Queue[U](leading, x :: trailing)\n",
    "}"
   ]
  },
  {
   "cell_type": "markdown",
   "id": "d556aa9e",
   "metadata": {},
   "source": [
    "# CONTRAVARIANCE"
   ]
  },
  {
   "cell_type": "code",
   "execution_count": 2,
   "id": "dd8812c3",
   "metadata": {},
   "outputs": [
    {
     "name": "stdout",
     "output_type": "stream",
     "text": [
      "Programming in Scala\n",
      "Walden\n"
     ]
    },
    {
     "data": {
      "text/plain": [
       "defined \u001b[32mclass\u001b[39m \u001b[36mPublication\u001b[39m\r\n",
       "defined \u001b[32mclass\u001b[39m \u001b[36mBook\u001b[39m\r\n",
       "defined \u001b[32mobject\u001b[39m \u001b[36mLibrary\u001b[39m\r\n",
       "defined \u001b[32mobject\u001b[39m \u001b[36mCustomer\u001b[39m"
      ]
     },
     "execution_count": 2,
     "metadata": {},
     "output_type": "execute_result"
    }
   ],
   "source": [
    "class Publication(val title: String)\n",
    "class Book(title: String) extends Publication(title)\n",
    "\n",
    "object Library {\n",
    "val books: Set[Book] =\n",
    "    Set(\n",
    "        new Book(\"Programming in Scala\"),\n",
    "        new Book(\"Walden\")\n",
    "     )\n",
    "    def printBookList(info: Book => AnyRef) = {\n",
    "        for (book <- books) println(info(book))\n",
    "    }\n",
    "}\n",
    " \n",
    "object Customer extends App {\n",
    "    def getTitle(p: Publication): String = p.title\n",
    "    Library.printBookList(getTitle)\n",
    "}\n",
    "\n",
    "Library.printBookList(Customer.getTitle)"
   ]
  },
  {
   "cell_type": "code",
   "execution_count": 3,
   "id": "3c4e111a",
   "metadata": {},
   "outputs": [
    {
     "data": {
      "text/plain": [
       "\u001b[36mf1\u001b[39m: \u001b[32mBook\u001b[39m => \u001b[32mAnyRef\u001b[39m = ammonite.$sess.cmd2$Helper$$Lambda$2229/522601678@2e8c1bfd\r\n",
       "\u001b[36mf2\u001b[39m: \u001b[32mPublication\u001b[39m => \u001b[32mString\u001b[39m = ammonite.$sess.cmd2$Helper$$Lambda$2230/1727888692@728af151\r\n",
       "\u001b[36mres2_2\u001b[39m: \u001b[32mBoolean\u001b[39m = \u001b[32mtrue\u001b[39m"
      ]
     },
     "execution_count": 3,
     "metadata": {},
     "output_type": "execute_result"
    }
   ],
   "source": [
    "// Book => AnyRef\n",
    "val f1: Book => AnyRef = _.title\n",
    "\n",
    "// Publication => String\n",
    "val f2: Publication => String = _.title\n",
    "\n",
    "f2.isInstanceOf[Book => AnyRef]"
   ]
  },
  {
   "cell_type": "markdown",
   "id": "cc3658d0",
   "metadata": {},
   "source": [
    "# OBJECT PRIVATE DATA"
   ]
  },
  {
   "cell_type": "code",
   "execution_count": 4,
   "id": "3e614533",
   "metadata": {},
   "outputs": [
    {
     "data": {
      "text/plain": [
       "defined \u001b[32mclass\u001b[39m \u001b[36mQueue\u001b[39m"
      ]
     },
     "execution_count": 4,
     "metadata": {},
     "output_type": "execute_result"
    }
   ],
   "source": [
    "class Queue[+T] private (\n",
    "    private[this] var leading: List[T],\n",
    "    private[this] var trailing: List[T]\n",
    ") {\n",
    "    private def mirror() = \n",
    "        if (leading.isEmpty) {\n",
    "            while (!trailing.isEmpty) {\n",
    "                leading = trailing.head :: leading\n",
    "                trailing = trailing.tail\n",
    "            }\n",
    "        }\n",
    "    \n",
    "    def head: T = {\n",
    "        mirror()\n",
    "        leading.head\n",
    "    }\n",
    "    \n",
    "    def tail: Queue[T] = {\n",
    "        mirror()\n",
    "        new Queue(leading.tail, trailing)\n",
    "    }\n",
    "    \n",
    "    def eneuque[U >: T](x: U) =\n",
    "        new Queue[U](leading, x :: trailing)\n",
    "}"
   ]
  },
  {
   "cell_type": "markdown",
   "id": "a41bcf71",
   "metadata": {},
   "source": [
    "# UPPER BOUNDS"
   ]
  },
  {
   "cell_type": "code",
   "execution_count": 6,
   "id": "147c7eb6",
   "metadata": {},
   "outputs": [
    {
     "data": {
      "text/plain": [
       "defined \u001b[32mclass\u001b[39m \u001b[36mPerson\u001b[39m\r\n",
       "defined \u001b[32mfunction\u001b[39m \u001b[36morderedMergeSort\u001b[39m\r\n",
       "\u001b[36mpeople\u001b[39m: \u001b[32mList\u001b[39m[\u001b[32mPerson\u001b[39m] = \u001b[33mList\u001b[39m(\n",
       "  Larry Wall,\n",
       "  Anders Hejlsberg,\n",
       "  Guido van Rossum,\n",
       "  Alan Kay,\n",
       "  Yukihiro Matsumoto\n",
       ")\r\n",
       "\u001b[36msortedPeople\u001b[39m: \u001b[32mList\u001b[39m[\u001b[32mPerson\u001b[39m] = \u001b[33mList\u001b[39m(\n",
       "  Anders Hejlsberg,\n",
       "  Alan Kay,\n",
       "  Yukihiro Matsumoto,\n",
       "  Guido van Rossum,\n",
       "  Larry Wall\n",
       ")"
      ]
     },
     "execution_count": 6,
     "metadata": {},
     "output_type": "execute_result"
    }
   ],
   "source": [
    "class Person(val firstName: String, val lastName: String) extends Ordered[Person] {\n",
    "\n",
    "    def compare(that: Person) = {\n",
    "        val lastNameComparison = lastName.compareToIgnoreCase(that.lastName)\n",
    "        if (lastNameComparison != 0)\n",
    "            lastNameComparison\n",
    "        else\n",
    "            firstName.compareToIgnoreCase(that.firstName)\n",
    "    }\n",
    "    \n",
    "    override def toString = firstName + \" \" + lastName\n",
    "}\n",
    "\n",
    "def orderedMergeSort[T <: Ordered[T]](xs: List[T]): List[T] = {\n",
    "    def merge(xs: List[T], ys: List[T]): List[T] = \n",
    "        (xs, ys) match {\n",
    "            case (Nil, _) => ys\n",
    "            case (_, Nil) => xs\n",
    "            case (x :: xs1, y :: ys1) =>\n",
    "                if (x < y) x :: merge(xs1, ys)\n",
    "                else y :: merge(xs, ys1)\n",
    "        }\n",
    "    \n",
    "    val n = xs.length / 2\n",
    "    if (n == 0) xs\n",
    "    else {\n",
    "        val (ys, zs) = xs splitAt n\n",
    "        merge(orderedMergeSort(ys), orderedMergeSort(zs))\n",
    "    }\n",
    "}\n",
    "\n",
    "val people = List(\n",
    "    new Person(\"Larry\", \"Wall\"),\n",
    "    new Person(\"Anders\", \"Hejlsberg\"),\n",
    "    new Person(\"Guido\", \"van Rossum\"),\n",
    "    new Person(\"Alan\", \"Kay\"),\n",
    "    new Person(\"Yukihiro\", \"Matsumoto\")\n",
    ")\n",
    "val sortedPeople = orderedMergeSort(people)\n"
   ]
  }
 ],
 "metadata": {
  "kernelspec": {
   "display_name": "Scala",
   "language": "scala",
   "name": "scala"
  },
  "language_info": {
   "codemirror_mode": "text/x-scala",
   "file_extension": ".sc",
   "mimetype": "text/x-scala",
   "name": "scala",
   "nbconvert_exporter": "script",
   "version": "2.12.17"
  },
  "toc": {
   "base_numbering": 1,
   "nav_menu": {},
   "number_sections": true,
   "sideBar": true,
   "skip_h1_title": false,
   "title_cell": "Table of Contents",
   "title_sidebar": "Contents",
   "toc_cell": true,
   "toc_position": {
    "height": "calc(100% - 180px)",
    "left": "10px",
    "top": "150px",
    "width": "338.913px"
   },
   "toc_section_display": true,
   "toc_window_display": true
  },
  "varInspector": {
   "cols": {
    "lenName": 16,
    "lenType": 16,
    "lenVar": 40
   },
   "kernels_config": {
    "python": {
     "delete_cmd_postfix": "",
     "delete_cmd_prefix": "del ",
     "library": "var_list.py",
     "varRefreshCmd": "print(var_dic_list())"
    },
    "r": {
     "delete_cmd_postfix": ") ",
     "delete_cmd_prefix": "rm(",
     "library": "var_list.r",
     "varRefreshCmd": "cat(var_dic_list()) "
    }
   },
   "types_to_exclude": [
    "module",
    "function",
    "builtin_function_or_method",
    "instance",
    "_Feature"
   ],
   "window_display": false
  }
 },
 "nbformat": 4,
 "nbformat_minor": 5
}
