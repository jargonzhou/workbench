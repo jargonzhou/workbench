{
 "cells": [
  {
   "cell_type": "code",
   "execution_count": 9,
   "id": "01a5e982",
   "metadata": {},
   "outputs": [
    {
     "data": {
      "text/plain": [
       "defined \u001b[32mclass\u001b[39m \u001b[36mElement\u001b[39m\n",
       "defined \u001b[32mobject\u001b[39m \u001b[36mElement\u001b[39m"
      ]
     },
     "execution_count": 9,
     "metadata": {},
     "output_type": "execute_result"
    }
   ],
   "source": [
    "abstract class Element {\n",
    "  import Element.elem\n",
    "    \n",
    "  def contents: Array[String]\n",
    "  def width: Int =\n",
    "    if (height == 0) 0 else contents(0).length\n",
    "  def height: Int = contents.length\n",
    "  \n",
    "  def above(that: Element): Element = {\n",
    "    val this1 = this widen that.width\n",
    "    val that1 = that widen this.width\n",
    "    elem(this1.contents ++ that1.contents)\n",
    "  }\n",
    "\n",
    "  def beside(that: Element): Element = {\n",
    "    val this1 = this heighten that.height\n",
    "    val that1 = that heighten this.height\n",
    "    elem(\n",
    "      for ((line1, line2) <- this1.contents zip that1.contents)\n",
    "      yield line1 + line2)\n",
    "  }\n",
    "  \n",
    "  def widen(w: Int): Element =\n",
    "    if (w <= width) this\n",
    "    else {\n",
    "      val left = elem(' ', (w - width) / 2, height)\n",
    "      val right = elem(' ', w - width - left.width, height)\n",
    "      left beside this beside right\n",
    "    }\n",
    "  \n",
    "  def heighten(h: Int): Element =\n",
    "    if (h <= height) this\n",
    "    else {\n",
    "      val top = elem(' ', width, (h - height) / 2)\n",
    "      val bot = elem(' ', width, h - height - top.height)\n",
    "      top above this above bot\n",
    "    }\n",
    "    \n",
    "  override def toString = contents mkString \"\\n\"\n",
    "}\n",
    "\n",
    "object Element {\n",
    "  private class ArrayElement(\n",
    "  val contents: Array[String]\n",
    ") extends Element\n",
    "\n",
    "  private class LineElement(s: String) extends Element {\n",
    "    val contents = Array(s)\n",
    "    override def width = s.length\n",
    "    override def height = 1\n",
    "  }\n",
    "\n",
    "  private class UniformElement(\n",
    "    ch: Char,\n",
    "    override val width: Int,\n",
    "    override val height: Int\n",
    "  ) extends Element {\n",
    "    private val line = ch.toString * width\n",
    "    def contents = Array.fill(height)(line)\n",
    "  }\n",
    "\n",
    "  def elem(contents: Array[String]): Element =\n",
    "    new ArrayElement(contents)\n",
    "  def elem(chr: Char, width: Int, height: Int): Element =\n",
    "    new UniformElement(chr, width, height)\n",
    "  def elem(line: String): Element =\n",
    "    new LineElement(line)\n",
    "}"
   ]
  },
  {
   "cell_type": "code",
   "execution_count": 11,
   "id": "20d2ed2b",
   "metadata": {},
   "outputs": [
    {
     "data": {
      "text/plain": [
       "defined \u001b[32mobject\u001b[39m \u001b[36mSpiral\u001b[39m"
      ]
     },
     "execution_count": 11,
     "metadata": {},
     "output_type": "execute_result"
    }
   ],
   "source": [
    "object Spiral {\n",
    "  import Element.elem\n",
    "  \n",
    "  val space = elem(\" \")\n",
    "  val corner = elem(\"+\")\n",
    "\n",
    "  def spiral(nEdges: Int, direction: Int): Element = {\n",
    "    if (nEdges == 1)\n",
    "      elem(\"+\")\n",
    "    else {\n",
    "      val sp = spiral(nEdges - 1, (direction + 3) % 4)\n",
    "      def verticalBar = elem('|', 1, sp.height)\n",
    "      def horizontalBar = elem('-', sp.width, 1)\n",
    "      if (direction == 0)\n",
    "        (corner beside horizontalBar) above (sp beside space)\n",
    "      else if (direction == 1)\n",
    "        (sp above space) beside (corner above verticalBar)\n",
    "      else if (direction == 2)\n",
    "        (space beside sp) above (horizontalBar beside corner)\n",
    "      else\n",
    "        (verticalBar above corner) beside (space above sp)\n",
    "    }\n",
    "  }\n",
    "\n",
    "//   def main(args: Array[String]) = {\n",
    "//     val nSides = args(0).toInt\n",
    "//     println(spiral(nSides, 0))\n",
    "//   }\n",
    "}"
   ]
  },
  {
   "cell_type": "code",
   "execution_count": 12,
   "id": "6b3d5412",
   "metadata": {},
   "outputs": [
    {
     "name": "stdout",
     "output_type": "stream",
     "text": [
      "+-----\n",
      "|     \n",
      "| +-+ \n",
      "| + | \n",
      "|   | \n",
      "+---+ \n"
     ]
    }
   ],
   "source": [
    "println(Spiral.spiral(6, 0))"
   ]
  },
  {
   "cell_type": "code",
   "execution_count": 13,
   "id": "98defbcb",
   "metadata": {},
   "outputs": [
    {
     "name": "stdout",
     "output_type": "stream",
     "text": [
      "+----------\n",
      "|          \n",
      "| +------+ \n",
      "| |      | \n",
      "| | +--+ | \n",
      "| | |  | | \n",
      "| | ++ | | \n",
      "| |    | | \n",
      "| +----+ | \n",
      "|        | \n",
      "+--------+ \n"
     ]
    }
   ],
   "source": [
    "println(Spiral.spiral(11, 0))"
   ]
  },
  {
   "cell_type": "code",
   "execution_count": 14,
   "id": "d5cf7cc6",
   "metadata": {},
   "outputs": [
    {
     "name": "stdout",
     "output_type": "stream",
     "text": [
      "+----------------\n",
      "|                \n",
      "| +------------+ \n",
      "| |            | \n",
      "| | +--------+ | \n",
      "| | |        | | \n",
      "| | | +----+ | | \n",
      "| | | |    | | | \n",
      "| | | | ++ | | | \n",
      "| | | |  | | | | \n",
      "| | | +--+ | | | \n",
      "| | |      | | | \n",
      "| | +------+ | | \n",
      "| |          | | \n",
      "| +----------+ | \n",
      "|              | \n",
      "+--------------+ \n"
     ]
    }
   ],
   "source": [
    "println(Spiral.spiral(17, 0))"
   ]
  }
 ],
 "metadata": {
  "kernelspec": {
   "display_name": "Scala",
   "language": "scala",
   "name": "scala"
  },
  "language_info": {
   "codemirror_mode": "text/x-scala",
   "file_extension": ".sc",
   "mimetype": "text/x-scala",
   "name": "scala",
   "nbconvert_exporter": "script",
   "version": "2.12.17"
  },
  "toc": {
   "base_numbering": 1,
   "nav_menu": {},
   "number_sections": true,
   "sideBar": true,
   "skip_h1_title": false,
   "title_cell": "Table of Contents",
   "title_sidebar": "Contents",
   "toc_cell": false,
   "toc_position": {},
   "toc_section_display": true,
   "toc_window_display": false
  }
 },
 "nbformat": 4,
 "nbformat_minor": 5
}
