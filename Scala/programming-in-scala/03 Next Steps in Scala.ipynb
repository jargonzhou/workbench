{
 "cells": [
  {
   "cell_type": "markdown",
   "id": "76d2eb25",
   "metadata": {},
   "source": [
    "# STEP 7. PARAMETERIZE ARRAYS WITH TYPES"
   ]
  },
  {
   "cell_type": "code",
   "execution_count": 1,
   "id": "bc2997cb",
   "metadata": {},
   "outputs": [
    {
     "data": {
      "text/plain": [
       "\u001b[36mbig\u001b[39m: \u001b[32mjava\u001b[39m.\u001b[32mmath\u001b[39m.\u001b[32mBigInteger\u001b[39m = 12345"
      ]
     },
     "execution_count": 1,
     "metadata": {},
     "output_type": "execute_result"
    }
   ],
   "source": [
    "val big = new java.math.BigInteger(\"12345\")"
   ]
  },
  {
   "cell_type": "code",
   "execution_count": 2,
   "id": "d08e2c05",
   "metadata": {},
   "outputs": [
    {
     "name": "stdout",
     "output_type": "stream",
     "text": [
      "Hello, world!\n"
     ]
    },
    {
     "data": {
      "text/plain": [
       "\u001b[36mgreetStrings\u001b[39m: \u001b[32mArray\u001b[39m[\u001b[32mString\u001b[39m] = \u001b[33mArray\u001b[39m(\n",
       "  \u001b[32m\"Hello\"\u001b[39m,\n",
       "  \u001b[32m\", \"\u001b[39m,\n",
       "  \u001b[32m\"\"\"world!\n",
       "\"\"\"\u001b[39m\n",
       ")"
      ]
     },
     "execution_count": 2,
     "metadata": {},
     "output_type": "execute_result"
    }
   ],
   "source": [
    "val greetStrings = new Array[String](3)\n",
    "greetStrings(0) = \"Hello\"\n",
    "greetStrings(1) = \", \"\n",
    "greetStrings(2) = \"world!\\n\"\n",
    "for (i <- 0 to 2)\n",
    "    print(greetStrings(i))"
   ]
  },
  {
   "cell_type": "code",
   "execution_count": 3,
   "id": "1a54b7b9",
   "metadata": {},
   "outputs": [
    {
     "name": "stdout",
     "output_type": "stream",
     "text": [
      "Hello, world!\n"
     ]
    },
    {
     "data": {
      "text/plain": [
       "\u001b[36mgreetStrings\u001b[39m: \u001b[32mArray\u001b[39m[\u001b[32mString\u001b[39m] = \u001b[33mArray\u001b[39m(\n",
       "  \u001b[32m\"Hello\"\u001b[39m,\n",
       "  \u001b[32m\", \"\u001b[39m,\n",
       "  \u001b[32m\"\"\"world!\n",
       "\"\"\"\u001b[39m\n",
       ")"
      ]
     },
     "execution_count": 3,
     "metadata": {},
     "output_type": "execute_result"
    }
   ],
   "source": [
    "val greetStrings = new Array[String](3)\n",
    "greetStrings.update(0, \"Hello\")\n",
    "greetStrings.update(1, \", \")\n",
    "greetStrings.update(2, \"world!\\n\")\n",
    "for (i <- 0.to(2))\n",
    "    print(greetStrings.apply(i))"
   ]
  },
  {
   "cell_type": "code",
   "execution_count": 4,
   "id": "c979f31b",
   "metadata": {},
   "outputs": [
    {
     "data": {
      "text/plain": [
       "\u001b[36mnumNames\u001b[39m: \u001b[32mArray\u001b[39m[\u001b[32mString\u001b[39m] = \u001b[33mArray\u001b[39m(\u001b[32m\"zero\"\u001b[39m, \u001b[32m\"one\"\u001b[39m, \u001b[32m\"two\"\u001b[39m)\n",
       "\u001b[36mnumNames2\u001b[39m: \u001b[32mArray\u001b[39m[\u001b[32mString\u001b[39m] = \u001b[33mArray\u001b[39m(\u001b[32m\"zero\"\u001b[39m, \u001b[32m\"one\"\u001b[39m, \u001b[32m\"two\"\u001b[39m)"
      ]
     },
     "execution_count": 4,
     "metadata": {},
     "output_type": "execute_result"
    }
   ],
   "source": [
    "val numNames = Array(\"zero\", \"one\", \"two\")\n",
    "val numNames2 = Array.apply(\"zero\", \"one\", \"two\")"
   ]
  },
  {
   "cell_type": "markdown",
   "id": "bab0cdf9",
   "metadata": {},
   "source": [
    "# STEP 8. USE LISTS"
   ]
  },
  {
   "cell_type": "code",
   "execution_count": 5,
   "id": "f7ffea89",
   "metadata": {},
   "outputs": [
    {
     "name": "stdout",
     "output_type": "stream",
     "text": [
      "List(1, 2) and List(3, 4) were not mutated.\n",
      "Thus, List(1, 2, 3, 4) is a new list.\n"
     ]
    },
    {
     "data": {
      "text/plain": [
       "\u001b[36moneTwoThree\u001b[39m: \u001b[32mList\u001b[39m[\u001b[32mInt\u001b[39m] = \u001b[33mList\u001b[39m(\u001b[32m1\u001b[39m, \u001b[32m2\u001b[39m, \u001b[32m3\u001b[39m)\n",
       "\u001b[36moneTwo\u001b[39m: \u001b[32mList\u001b[39m[\u001b[32mInt\u001b[39m] = \u001b[33mList\u001b[39m(\u001b[32m1\u001b[39m, \u001b[32m2\u001b[39m)\n",
       "\u001b[36mthreeFour\u001b[39m: \u001b[32mList\u001b[39m[\u001b[32mInt\u001b[39m] = \u001b[33mList\u001b[39m(\u001b[32m3\u001b[39m, \u001b[32m4\u001b[39m)\n",
       "\u001b[36moneTwoThreeFour\u001b[39m: \u001b[32mList\u001b[39m[\u001b[32mInt\u001b[39m] = \u001b[33mList\u001b[39m(\u001b[32m1\u001b[39m, \u001b[32m2\u001b[39m, \u001b[32m3\u001b[39m, \u001b[32m4\u001b[39m)"
      ]
     },
     "execution_count": 5,
     "metadata": {},
     "output_type": "execute_result"
    }
   ],
   "source": [
    "val oneTwoThree = List(1, 2, 3)\n",
    "val oneTwo = List(1, 2)\n",
    "val threeFour = List(3, 4)\n",
    "val oneTwoThreeFour = oneTwo ::: threeFour\n",
    "println(oneTwo + \" and \" + threeFour + \" were not mutated.\")\n",
    "println(\"Thus, \" + oneTwoThreeFour + \" is a new list.\")"
   ]
  },
  {
   "cell_type": "code",
   "execution_count": 6,
   "id": "2448f5bd",
   "metadata": {},
   "outputs": [
    {
     "name": "stdout",
     "output_type": "stream",
     "text": [
      "List(1, 2, 3)\n"
     ]
    },
    {
     "data": {
      "text/plain": [
       "\u001b[36mtwoThree\u001b[39m: \u001b[32mList\u001b[39m[\u001b[32mInt\u001b[39m] = \u001b[33mList\u001b[39m(\u001b[32m2\u001b[39m, \u001b[32m3\u001b[39m)\n",
       "\u001b[36moneTwoThree\u001b[39m: \u001b[32mList\u001b[39m[\u001b[32mInt\u001b[39m] = \u001b[33mList\u001b[39m(\u001b[32m1\u001b[39m, \u001b[32m2\u001b[39m, \u001b[32m3\u001b[39m)"
      ]
     },
     "execution_count": 6,
     "metadata": {},
     "output_type": "execute_result"
    }
   ],
   "source": [
    "val twoThree = List(2, 3)\n",
    "val oneTwoThree = 1 :: twoThree\n",
    "println(oneTwoThree)"
   ]
  },
  {
   "cell_type": "code",
   "execution_count": 7,
   "id": "f73e4017",
   "metadata": {},
   "outputs": [
    {
     "name": "stdout",
     "output_type": "stream",
     "text": [
      "List(1, 2, 3)\n"
     ]
    },
    {
     "data": {
      "text/plain": [
       "\u001b[36moneTwoThree\u001b[39m: \u001b[32mList\u001b[39m[\u001b[32mInt\u001b[39m] = \u001b[33mList\u001b[39m(\u001b[32m1\u001b[39m, \u001b[32m2\u001b[39m, \u001b[32m3\u001b[39m)"
      ]
     },
     "execution_count": 7,
     "metadata": {},
     "output_type": "execute_result"
    }
   ],
   "source": [
    "val oneTwoThree = 1 :: 2 :: 3 :: Nil\n",
    "println(oneTwoThree)"
   ]
  },
  {
   "cell_type": "markdown",
   "id": "b8917b91",
   "metadata": {},
   "source": [
    "# STEP 9. USE TUPLES"
   ]
  },
  {
   "cell_type": "code",
   "execution_count": 8,
   "id": "48e20591",
   "metadata": {},
   "outputs": [
    {
     "name": "stdout",
     "output_type": "stream",
     "text": [
      "99\n",
      "Luftballons\n"
     ]
    },
    {
     "data": {
      "text/plain": [
       "\u001b[36mpair\u001b[39m: (\u001b[32mInt\u001b[39m, \u001b[32mString\u001b[39m) = (\u001b[32m99\u001b[39m, \u001b[32m\"Luftballons\"\u001b[39m)"
      ]
     },
     "execution_count": 8,
     "metadata": {},
     "output_type": "execute_result"
    }
   ],
   "source": [
    "val pair = (99, \"Luftballons\")\n",
    "println(pair._1)\n",
    "println(pair._2)"
   ]
  },
  {
   "cell_type": "markdown",
   "id": "a2a964d5",
   "metadata": {},
   "source": [
    "# STEP 10. USE SETS AND MAPS"
   ]
  },
  {
   "cell_type": "code",
   "execution_count": 9,
   "id": "85b79ebf",
   "metadata": {},
   "outputs": [
    {
     "name": "stdout",
     "output_type": "stream",
     "text": [
      "false\n"
     ]
    },
    {
     "data": {
      "text/html": [
       "<div class=\"jp-RenderedText\">\n",
       "<pre><code><span style=\"color: rgb(0, 187, 187)\"><span class=\"ansi-cyan-fg\">jetSet</span></span>: <span style=\"color: rgb(0, 187, 0)\"><span class=\"ansi-green-fg\">Set</span></span>[<span style=\"color: rgb(0, 187, 0)\"><span class=\"ansi-green-fg\">String</span></span>] = <span style=\"color: yellow\"><span class=\"ansi-yellow-fg\">Set</span></span>(<span style=\"color: rgb(0, 187, 0)\"><span class=\"ansi-green-fg\">&quot;Boeing&quot;</span></span>, <span style=\"color: rgb(0, 187, 0)\"><span class=\"ansi-green-fg\">&quot;Airbus&quot;</span></span>, <span style=\"color: rgb(0, 187, 0)\"><span class=\"ansi-green-fg\">&quot;Lear&quot;</span></span>)</code></pre>\n",
       "</div>"
      ],
      "text/plain": [
       "\u001b[36mjetSet\u001b[39m: \u001b[32mSet\u001b[39m[\u001b[32mString\u001b[39m] = \u001b[33mSet\u001b[39m(\u001b[32m\"Boeing\"\u001b[39m, \u001b[32m\"Airbus\"\u001b[39m, \u001b[32m\"Lear\"\u001b[39m)"
      ]
     },
     "metadata": {},
     "output_type": "display_data"
    }
   ],
   "source": [
    "var jetSet = Set(\"Boeing\", \"Airbus\")\n",
    "jetSet += \"Lear\"\n",
    "println(jetSet.contains(\"Cessna\"))"
   ]
  },
  {
   "cell_type": "code",
   "execution_count": 10,
   "id": "c6b1284a",
   "metadata": {},
   "outputs": [
    {
     "name": "stdout",
     "output_type": "stream",
     "text": [
      "HashSet(Hitch, Shrek, Poltergeist)\n"
     ]
    },
    {
     "data": {
      "text/plain": [
       "\u001b[32mimport \u001b[39m\u001b[36mscala.collection.mutable\n",
       "\u001b[39m\n",
       "\u001b[36mmovieSet\u001b[39m: \u001b[32mmutable\u001b[39m.\u001b[32mSet\u001b[39m[\u001b[32mString\u001b[39m] = \u001b[33mHashSet\u001b[39m(\u001b[32m\"Hitch\"\u001b[39m, \u001b[32m\"Shrek\"\u001b[39m, \u001b[32m\"Poltergeist\"\u001b[39m)\n",
       "\u001b[36mres9_2\u001b[39m: \u001b[32mmutable\u001b[39m.\u001b[32mSet\u001b[39m[\u001b[32mString\u001b[39m] = \u001b[33mHashSet\u001b[39m(\u001b[32m\"Hitch\"\u001b[39m, \u001b[32m\"Shrek\"\u001b[39m, \u001b[32m\"Poltergeist\"\u001b[39m)"
      ]
     },
     "execution_count": 10,
     "metadata": {},
     "output_type": "execute_result"
    }
   ],
   "source": [
    "import scala.collection.mutable\n",
    "val movieSet = mutable.Set(\"Hitch\", \"Poltergeist\")\n",
    "movieSet += \"Shrek\"\n",
    "println(movieSet)"
   ]
  },
  {
   "cell_type": "code",
   "execution_count": 11,
   "id": "a62e51f5",
   "metadata": {},
   "outputs": [
    {
     "name": "stdout",
     "output_type": "stream",
     "text": [
      "HashSet(Chilies, Tomatoes, Coriander)\n"
     ]
    },
    {
     "data": {
      "text/plain": [
       "\u001b[32mimport \u001b[39m\u001b[36mscala.collection.immutable.HashSet\n",
       "\u001b[39m\n",
       "\u001b[36mhashSet\u001b[39m: \u001b[32mHashSet\u001b[39m[\u001b[32mString\u001b[39m] = \u001b[33mHashSet\u001b[39m(\u001b[32m\"Chilies\"\u001b[39m, \u001b[32m\"Tomatoes\"\u001b[39m)"
      ]
     },
     "execution_count": 11,
     "metadata": {},
     "output_type": "execute_result"
    }
   ],
   "source": [
    "import scala.collection.immutable.HashSet\n",
    "val hashSet = HashSet(\"Tomatoes\", \"Chilies\")\n",
    "println(hashSet + \"Coriander\")"
   ]
  },
  {
   "cell_type": "code",
   "execution_count": 12,
   "id": "697589be",
   "metadata": {},
   "outputs": [
    {
     "name": "stdout",
     "output_type": "stream",
     "text": [
      "Find big X on ground.\n"
     ]
    },
    {
     "data": {
      "text/plain": [
       "\u001b[32mimport \u001b[39m\u001b[36mscala.collection.mutable\n",
       "\u001b[39m\n",
       "\u001b[36mtreasureMap\u001b[39m: \u001b[32mmutable\u001b[39m.\u001b[32mMap\u001b[39m[\u001b[32mInt\u001b[39m, \u001b[32mString\u001b[39m] = \u001b[33mHashMap\u001b[39m(\n",
       "  \u001b[32m1\u001b[39m -> \u001b[32m\"Go to island.\"\u001b[39m,\n",
       "  \u001b[32m2\u001b[39m -> \u001b[32m\"Find big X on ground.\"\u001b[39m,\n",
       "  \u001b[32m3\u001b[39m -> \u001b[32m\"Dig.\"\u001b[39m\n",
       ")\n",
       "\u001b[36mres11_2\u001b[39m: \u001b[32mmutable\u001b[39m.\u001b[32mMap\u001b[39m[\u001b[32mInt\u001b[39m, \u001b[32mString\u001b[39m] = \u001b[33mHashMap\u001b[39m(\n",
       "  \u001b[32m1\u001b[39m -> \u001b[32m\"Go to island.\"\u001b[39m,\n",
       "  \u001b[32m2\u001b[39m -> \u001b[32m\"Find big X on ground.\"\u001b[39m,\n",
       "  \u001b[32m3\u001b[39m -> \u001b[32m\"Dig.\"\u001b[39m\n",
       ")\n",
       "\u001b[36mres11_3\u001b[39m: \u001b[32mmutable\u001b[39m.\u001b[32mMap\u001b[39m[\u001b[32mInt\u001b[39m, \u001b[32mString\u001b[39m] = \u001b[33mHashMap\u001b[39m(\n",
       "  \u001b[32m1\u001b[39m -> \u001b[32m\"Go to island.\"\u001b[39m,\n",
       "  \u001b[32m2\u001b[39m -> \u001b[32m\"Find big X on ground.\"\u001b[39m,\n",
       "  \u001b[32m3\u001b[39m -> \u001b[32m\"Dig.\"\u001b[39m\n",
       ")\n",
       "\u001b[36mres11_4\u001b[39m: \u001b[32mmutable\u001b[39m.\u001b[32mMap\u001b[39m[\u001b[32mInt\u001b[39m, \u001b[32mString\u001b[39m] = \u001b[33mHashMap\u001b[39m(\n",
       "  \u001b[32m1\u001b[39m -> \u001b[32m\"Go to island.\"\u001b[39m,\n",
       "  \u001b[32m2\u001b[39m -> \u001b[32m\"Find big X on ground.\"\u001b[39m,\n",
       "  \u001b[32m3\u001b[39m -> \u001b[32m\"Dig.\"\u001b[39m\n",
       ")"
      ]
     },
     "execution_count": 12,
     "metadata": {},
     "output_type": "execute_result"
    }
   ],
   "source": [
    "import scala.collection.mutable\n",
    "val treasureMap = mutable.Map[Int, String]()\n",
    "treasureMap += (1 -> \"Go to island.\")\n",
    "treasureMap += (2 -> \"Find big X on ground.\")\n",
    "treasureMap += (3 -> \"Dig.\")\n",
    "println(treasureMap(2))"
   ]
  },
  {
   "cell_type": "code",
   "execution_count": 13,
   "id": "20d15051",
   "metadata": {},
   "outputs": [
    {
     "name": "stdout",
     "output_type": "stream",
     "text": [
      "IV\n"
     ]
    },
    {
     "data": {
      "text/plain": [
       "\u001b[36mromanNumeral\u001b[39m: \u001b[32mMap\u001b[39m[\u001b[32mInt\u001b[39m, \u001b[32mString\u001b[39m] = \u001b[33mHashMap\u001b[39m(\n",
       "  \u001b[32m5\u001b[39m -> \u001b[32m\"V\"\u001b[39m,\n",
       "  \u001b[32m1\u001b[39m -> \u001b[32m\"I\"\u001b[39m,\n",
       "  \u001b[32m2\u001b[39m -> \u001b[32m\"II\"\u001b[39m,\n",
       "  \u001b[32m3\u001b[39m -> \u001b[32m\"III\"\u001b[39m,\n",
       "  \u001b[32m4\u001b[39m -> \u001b[32m\"IV\"\u001b[39m\n",
       ")"
      ]
     },
     "execution_count": 13,
     "metadata": {},
     "output_type": "execute_result"
    }
   ],
   "source": [
    "val romanNumeral = Map(\n",
    "1 -> \"I\", 2 -> \"II\", 3 -> \"III\", 4 -> \"IV\", 5 -> \"V\"\n",
    ")\n",
    "println(romanNumeral(4))"
   ]
  },
  {
   "cell_type": "markdown",
   "id": "214b38d9",
   "metadata": {},
   "source": [
    "# STEP 11. LEARN TO RECOGNIZE THE FUNCTIONAL STYLE"
   ]
  },
  {
   "cell_type": "code",
   "execution_count": 14,
   "id": "ca862fb3",
   "metadata": {},
   "outputs": [
    {
     "data": {
      "text/plain": [
       "defined \u001b[32mfunction\u001b[39m \u001b[36mprintArgs\u001b[39m"
      ]
     },
     "execution_count": 14,
     "metadata": {},
     "output_type": "execute_result"
    }
   ],
   "source": [
    "def printArgs(args: Array[String]): Unit = {\n",
    "    var i = 0\n",
    "    while (i < args.length) {\n",
    "        println(args(i))\n",
    "        i += 1\n",
    "    }\n",
    "}"
   ]
  },
  {
   "cell_type": "code",
   "execution_count": 15,
   "id": "a225e5d2",
   "metadata": {},
   "outputs": [
    {
     "data": {
      "text/plain": [
       "defined \u001b[32mfunction\u001b[39m \u001b[36mprintArgs\u001b[39m"
      ]
     },
     "execution_count": 15,
     "metadata": {},
     "output_type": "execute_result"
    }
   ],
   "source": [
    "def printArgs(args: Array[String]): Unit = {\n",
    "    for (arg <- args)\n",
    "        println(arg)\n",
    "}"
   ]
  },
  {
   "cell_type": "code",
   "execution_count": 16,
   "id": "e4a64db3",
   "metadata": {},
   "outputs": [
    {
     "data": {
      "text/plain": [
       "defined \u001b[32mfunction\u001b[39m \u001b[36mprintArgs\u001b[39m"
      ]
     },
     "execution_count": 16,
     "metadata": {},
     "output_type": "execute_result"
    }
   ],
   "source": [
    "def printArgs(args: Array[String]): Unit = {\n",
    "    args.foreach(println)\n",
    "}"
   ]
  },
  {
   "cell_type": "code",
   "execution_count": 17,
   "id": "0d45b6d6",
   "metadata": {},
   "outputs": [
    {
     "data": {
      "text/plain": [
       "defined \u001b[32mfunction\u001b[39m \u001b[36mformatArgs\u001b[39m"
      ]
     },
     "execution_count": 17,
     "metadata": {},
     "output_type": "execute_result"
    }
   ],
   "source": [
    "def formatArgs(args: Array[String]) = args.mkString(\"\\n\")"
   ]
  },
  {
   "cell_type": "code",
   "execution_count": 18,
   "id": "12a33600",
   "metadata": {},
   "outputs": [
    {
     "name": "stdout",
     "output_type": "stream",
     "text": [
      "Hello\n",
      ", \n",
      "world!\n",
      "\n"
     ]
    }
   ],
   "source": [
    "println(formatArgs(Array(\"Hello\", \", \", \"world!\\n\")))"
   ]
  },
  {
   "cell_type": "markdown",
   "id": "2d8c3298",
   "metadata": {},
   "source": [
    "# STEP 12. READ LINES FROM A FILE"
   ]
  },
  {
   "cell_type": "code",
   "execution_count": 19,
   "id": "d33a8f3e",
   "metadata": {},
   "outputs": [
    {
     "data": {
      "text/plain": [
       "\u001b[32mimport \u001b[39m\u001b[36m$ivy.$                          \u001b[39m"
      ]
     },
     "execution_count": 19,
     "metadata": {},
     "output_type": "execute_result"
    }
   ],
   "source": [
    "import $ivy.`com.lihaoyi::os-lib:0.9.1`"
   ]
  },
  {
   "cell_type": "code",
   "execution_count": 20,
   "id": "73cd6012",
   "metadata": {},
   "outputs": [
    {
     "data": {
      "text/plain": [
       "\u001b[36mres19\u001b[39m: \u001b[32mString\u001b[39m = \u001b[32m\"\"\"import scala.io.Source\n",
       "\n",
       "if (args.length > 0) {\n",
       "  for (line <- Source.fromFile(args(0)).getLines())\n",
       "    println(line.length + \" \" + line) \n",
       "}\n",
       "else\n",
       "  Console.err.println(\"Please enter filename\")\n",
       "\"\"\"\u001b[39m"
      ]
     },
     "execution_count": 20,
     "metadata": {},
     "output_type": "execute_result"
    }
   ],
   "source": [
    "os.read(os.pwd / \"ch03\" / \"countchars1.scala\")"
   ]
  },
  {
   "cell_type": "code",
   "execution_count": 21,
   "id": "39d4b5f8",
   "metadata": {},
   "outputs": [
    {
     "data": {
      "text/plain": [
       "\u001b[36mres20\u001b[39m: \u001b[32mString\u001b[39m = \u001b[32m\"\"\"22 import scala.io.Source\n",
       "0 \n",
       "22 if (args.length > 0) {\n",
       "51   for (line <- Source.fromFile(args(0)).getLines())\n",
       "38     println(line.length + \" \" + line) \n",
       "1 }\n",
       "4 else\n",
       "46   Console.err.println(\"Please enter filename\")\"\"\"\u001b[39m"
      ]
     },
     "execution_count": 21,
     "metadata": {},
     "output_type": "execute_result"
    }
   ],
   "source": [
    "os.proc(\"scala\", \"ch03/countchars1.scala\" , \"ch03/countchars1.scala\").call().out.trim()"
   ]
  },
  {
   "cell_type": "code",
   "execution_count": 22,
   "id": "1e1d2296",
   "metadata": {},
   "outputs": [
    {
     "data": {
      "text/plain": [
       "\u001b[36mres21\u001b[39m: \u001b[32mString\u001b[39m = \u001b[32m\"\"\"import scala.io.Source\n",
       "\n",
       "def widthOfLength(s: String): Int = s.length.toString.length\n",
       "\n",
       "if (args.length > 0) {\n",
       "  val lines = Source.fromFile(args(0)).getLines().toList\n",
       "  val longestLine = lines.reduceLeft(\n",
       "    (a, b) => if (a.length > b.length) a else b\n",
       "  )\n",
       "  val maxWidth = widthOfLength(longestLine)\n",
       "\n",
       "  for (line <- lines) {\n",
       "    val numSpaces = maxWidth - widthOfLength(line)\n",
       "    val padding = \" \" * numSpaces\n",
       "    println(padding + line.length + \" | \" + line)\n",
       "  }\n",
       "}\n",
       "else\n",
       "  Console.err.println(\"Please enter filename\")\n",
       "\"\"\"\u001b[39m"
      ]
     },
     "execution_count": 22,
     "metadata": {},
     "output_type": "execute_result"
    }
   ],
   "source": [
    "os.read(os.pwd / \"ch03\" / \"countchars2.scala\")"
   ]
  },
  {
   "cell_type": "code",
   "execution_count": 23,
   "id": "ea637834",
   "metadata": {},
   "outputs": [
    {
     "data": {
      "text/plain": [
       "\u001b[36mres22\u001b[39m: \u001b[32mString\u001b[39m = \u001b[32m\"\"\"22 | import scala.io.Source\n",
       " 0 | \n",
       "60 | def widthOfLength(s: String): Int = s.length.toString.length\n",
       " 0 | \n",
       "22 | if (args.length > 0) {\n",
       "56 |   val lines = Source.fromFile(args(0)).getLines().toList\n",
       "37 |   val longestLine = lines.reduceLeft(\n",
       "47 |     (a, b) => if (a.length > b.length) a else b\n",
       " 3 |   )\n",
       "43 |   val maxWidth = widthOfLength(longestLine)\n",
       " 0 | \n",
       "23 |   for (line <- lines) {\n",
       "50 |     val numSpaces = maxWidth - widthOfLength(line)\n",
       "33 |     val padding = \" \" * numSpaces\n",
       "49 |     println(padding + line.length + \" | \" + line)\n",
       " 3 |   }\n",
       " 1 | }\n",
       " 4 | else\n",
       "46 |   Console.err.println(\"Please enter filename\")\"\"\"\u001b[39m"
      ]
     },
     "execution_count": 23,
     "metadata": {},
     "output_type": "execute_result"
    }
   ],
   "source": [
    "// must speicify the function's return type\n",
    "os.proc(\"scala\", \"ch03/countchars2.scala\" , \"ch03/countchars2.scala\").call().out.trim()"
   ]
  }
 ],
 "metadata": {
  "kernelspec": {
   "display_name": "Scala",
   "language": "scala",
   "name": "scala"
  },
  "language_info": {
   "codemirror_mode": "text/x-scala",
   "file_extension": ".sc",
   "mimetype": "text/x-scala",
   "name": "scala",
   "nbconvert_exporter": "script",
   "version": "2.13.10"
  },
  "toc": {
   "base_numbering": 1,
   "nav_menu": {},
   "number_sections": true,
   "sideBar": true,
   "skip_h1_title": false,
   "title_cell": "Table of Contents",
   "title_sidebar": "Contents",
   "toc_cell": false,
   "toc_position": {},
   "toc_section_display": true,
   "toc_window_display": true
  }
 },
 "nbformat": 4,
 "nbformat_minor": 5
}
