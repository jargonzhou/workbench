{
 "cells": [
  {
   "cell_type": "markdown",
   "id": "bf3c47ad",
   "metadata": {
    "toc": true
   },
   "source": [
    "<h1>Table of Contents<span class=\"tocSkip\"></span></h1>\n",
    "<div class=\"toc\"><ul class=\"toc-item\"><li><span><a href=\"#A-QUICK-TOUR-OF-ABSTRACT-MEMBERS\" data-toc-modified-id=\"A-QUICK-TOUR-OF-ABSTRACT-MEMBERS-1\"><span class=\"toc-item-num\">1&nbsp;&nbsp;</span>A QUICK TOUR OF ABSTRACT MEMBERS</a></span></li><li><span><a href=\"#TYPE-MEMBERS\" data-toc-modified-id=\"TYPE-MEMBERS-2\"><span class=\"toc-item-num\">2&nbsp;&nbsp;</span>TYPE MEMBERS</a></span></li><li><span><a href=\"#ABSTRACT-VALS\" data-toc-modified-id=\"ABSTRACT-VALS-3\"><span class=\"toc-item-num\">3&nbsp;&nbsp;</span>ABSTRACT VALS</a></span></li><li><span><a href=\"#ABSTRACT-VARS\" data-toc-modified-id=\"ABSTRACT-VARS-4\"><span class=\"toc-item-num\">4&nbsp;&nbsp;</span>ABSTRACT VARS</a></span></li><li><span><a href=\"#INITIALIZING-ABSTRACT-VALS\" data-toc-modified-id=\"INITIALIZING-ABSTRACT-VALS-5\"><span class=\"toc-item-num\">5&nbsp;&nbsp;</span>INITIALIZING ABSTRACT VALS</a></span><ul class=\"toc-item\"><li><span><a href=\"#lazy-vals\" data-toc-modified-id=\"lazy-vals-5.1\"><span class=\"toc-item-num\">5.1&nbsp;&nbsp;</span>lazy vals</a></span></li></ul></li><li><span><a href=\"#ABSTRACT-TYPES\" data-toc-modified-id=\"ABSTRACT-TYPES-6\"><span class=\"toc-item-num\">6&nbsp;&nbsp;</span>ABSTRACT TYPES</a></span></li><li><span><a href=\"#PATH-DEPENDENT-TYPES\" data-toc-modified-id=\"PATH-DEPENDENT-TYPES-7\"><span class=\"toc-item-num\">7&nbsp;&nbsp;</span>PATH-DEPENDENT TYPES</a></span></li><li><span><a href=\"#REFINEMENT-TYPES\" data-toc-modified-id=\"REFINEMENT-TYPES-8\"><span class=\"toc-item-num\">8&nbsp;&nbsp;</span>REFINEMENT TYPES</a></span></li><li><span><a href=\"#ENUMERATIONS\" data-toc-modified-id=\"ENUMERATIONS-9\"><span class=\"toc-item-num\">9&nbsp;&nbsp;</span>ENUMERATIONS</a></span></li><li><span><a href=\"#CASE-STUDY:-CURRENCIES\" data-toc-modified-id=\"CASE-STUDY:-CURRENCIES-10\"><span class=\"toc-item-num\">10&nbsp;&nbsp;</span>CASE STUDY: CURRENCIES</a></span><ul class=\"toc-item\"><li><span><a href=\"#first-try\" data-toc-modified-id=\"first-try-10.1\"><span class=\"toc-item-num\">10.1&nbsp;&nbsp;</span>first try</a></span></li><li><span><a href=\"#second-try\" data-toc-modified-id=\"second-try-10.2\"><span class=\"toc-item-num\">10.2&nbsp;&nbsp;</span>second try</a></span></li><li><span><a href=\"#final-try\" data-toc-modified-id=\"final-try-10.3\"><span class=\"toc-item-num\">10.3&nbsp;&nbsp;</span>final try</a></span></li></ul></li></ul></div>"
   ]
  },
  {
   "cell_type": "markdown",
   "id": "bf229cf5",
   "metadata": {},
   "source": [
    "# A QUICK TOUR OF ABSTRACT MEMBERS"
   ]
  },
  {
   "cell_type": "code",
   "execution_count": 5,
   "id": "f696519e",
   "metadata": {},
   "outputs": [
    {
     "data": {
      "text/plain": [
       "defined \u001b[32mtrait\u001b[39m \u001b[36mAbstract\u001b[39m\r\n",
       "defined \u001b[32mclass\u001b[39m \u001b[36mConcrete\u001b[39m"
      ]
     },
     "execution_count": 5,
     "metadata": {},
     "output_type": "execute_result"
    }
   ],
   "source": [
    "trait Abstract {\n",
    "    type T\n",
    "    def transform(x: T): T\n",
    "    val initial: T\n",
    "    var current: T\n",
    "}\n",
    "\n",
    "class Concrete extends Abstract {\n",
    "    type T = String\n",
    "    def transform(x: String) = x + x\n",
    "    val initial = \"hi\"\n",
    "    var current = initial\n",
    "}"
   ]
  },
  {
   "cell_type": "markdown",
   "id": "bba576ce",
   "metadata": {},
   "source": [
    "# TYPE MEMBERS"
   ]
  },
  {
   "cell_type": "code",
   "execution_count": 5,
   "id": "59677720",
   "metadata": {},
   "outputs": [],
   "source": [
    "// nothing"
   ]
  },
  {
   "cell_type": "markdown",
   "id": "c84663ef",
   "metadata": {},
   "source": [
    "# ABSTRACT VALS"
   ]
  },
  {
   "cell_type": "code",
   "execution_count": 6,
   "id": "2cb4deab",
   "metadata": {},
   "outputs": [
    {
     "data": {
      "text/plain": [
       "defined \u001b[32mclass\u001b[39m \u001b[36mFruit\u001b[39m\r\n",
       "defined \u001b[32mclass\u001b[39m \u001b[36mApple\u001b[39m"
      ]
     },
     "execution_count": 6,
     "metadata": {},
     "output_type": "execute_result"
    }
   ],
   "source": [
    "abstract class Fruit {\n",
    "    val v: String\n",
    "    def m: String\n",
    "}\n",
    "\n",
    "abstract class Apple extends Fruit {\n",
    "    val v: String\n",
    "    val m: String\n",
    "}"
   ]
  },
  {
   "cell_type": "code",
   "execution_count": 6,
   "id": "252ca84a",
   "metadata": {},
   "outputs": [
    {
     "name": "stderr",
     "output_type": "stream",
     "text": [
      "cmd6.sc:2: overriding value v in class Fruit of type String;\n",
      " method v needs to be a stable, immutable value\n",
      "    def v: String\n",
      "        ^Compilation Failed"
     ]
    },
    {
     "ename": "",
     "evalue": "",
     "output_type": "error",
     "traceback": [
      "Compilation Failed"
     ]
    }
   ],
   "source": [
    "abstract class BadApple extends Fruit {\n",
    "    def v: String\n",
    "    def m: String\n",
    "}"
   ]
  },
  {
   "cell_type": "markdown",
   "id": "b43581b3",
   "metadata": {},
   "source": [
    "# ABSTRACT VARS"
   ]
  },
  {
   "cell_type": "code",
   "execution_count": 7,
   "id": "7384658a",
   "metadata": {},
   "outputs": [
    {
     "data": {
      "text/plain": [
       "defined \u001b[32mtrait\u001b[39m \u001b[36mAbstractTime\u001b[39m"
      ]
     },
     "execution_count": 7,
     "metadata": {},
     "output_type": "execute_result"
    }
   ],
   "source": [
    "trait AbstractTime {\n",
    "    var hour: Int\n",
    "    var minute: Int\n",
    "}"
   ]
  },
  {
   "cell_type": "markdown",
   "id": "5980f182",
   "metadata": {},
   "source": [
    "# INITIALIZING ABSTRACT VALS"
   ]
  },
  {
   "cell_type": "code",
   "execution_count": 8,
   "id": "4f3e125b",
   "metadata": {},
   "outputs": [
    {
     "data": {
      "text/plain": [
       "defined \u001b[32mtrait\u001b[39m \u001b[36mRationalTrait\u001b[39m"
      ]
     },
     "execution_count": 8,
     "metadata": {},
     "output_type": "execute_result"
    }
   ],
   "source": [
    "trait RationalTrait {\n",
    "    val numerArg: Int\n",
    "    val denomArg: Int\n",
    "}"
   ]
  },
  {
   "cell_type": "code",
   "execution_count": 10,
   "id": "69902e16",
   "metadata": {},
   "outputs": [
    {
     "data": {
      "text/plain": [
       "\u001b[36mr\u001b[39m: \u001b[32mAnyRef\u001b[39m with \u001b[32mRationalTrait\u001b[39m = ammonite.$sess.cmd9$Helper$$anon$1@1af66b9d\r\n",
       "\u001b[36mres9_1\u001b[39m: \u001b[32mInt\u001b[39m = \u001b[32m1\u001b[39m\r\n",
       "\u001b[36mres9_2\u001b[39m: \u001b[32mInt\u001b[39m = \u001b[32m2\u001b[39m"
      ]
     },
     "execution_count": 10,
     "metadata": {},
     "output_type": "execute_result"
    }
   ],
   "source": [
    "val r = new RationalTrait {\n",
    "    val numerArg = 1\n",
    "    val denomArg = 2\n",
    "}\n",
    "r.numerArg\n",
    "r.denomArg"
   ]
  },
  {
   "cell_type": "code",
   "execution_count": 11,
   "id": "b46d0eb9",
   "metadata": {},
   "outputs": [
    {
     "data": {
      "text/plain": [
       "defined \u001b[32mtrait\u001b[39m \u001b[36mRationalTrait\u001b[39m"
      ]
     },
     "execution_count": 11,
     "metadata": {},
     "output_type": "execute_result"
    }
   ],
   "source": [
    "trait RationalTrait {\n",
    "    val numerArg: Int\n",
    "    val denomArg: Int\n",
    "    require(denomArg != 0)\n",
    "    private val g = gcd(numerArg, denomArg)\n",
    "    val numer = numerArg / g\n",
    "    val denom = denomArg / g\n",
    "    private def gcd(a: Int, b: Int): Int =\n",
    "        if (b == 0) a else gcd(b, a %b)\n",
    "    override def toString = numer + \"/\" + denom\n",
    "}"
   ]
  },
  {
   "cell_type": "code",
   "execution_count": 12,
   "id": "fea2ed2a",
   "metadata": {},
   "outputs": [
    {
     "ename": "",
     "evalue": "",
     "output_type": "error",
     "traceback": [
      "\u001b[31mjava.lang.IllegalArgumentException: requirement failed\u001b[39m\r\n  scala.Predef$.require(\u001b[32mPredef.scala\u001b[39m:\u001b[32m268\u001b[39m)\r\n  ammonite.$sess.cmd10$Helper$RationalTrait.$init$(\u001b[32mcmd10.sc\u001b[39m:\u001b[32m4\u001b[39m)\r\n  ammonite.$sess.cmd11$Helper$$anon$1.<init>(\u001b[32mcmd11.sc\u001b[39m:\u001b[32m3\u001b[39m)\r\n  ammonite.$sess.cmd11$Helper.<init>(\u001b[32mcmd11.sc\u001b[39m:\u001b[32m3\u001b[39m)\r\n  ammonite.$sess.cmd11$.<init>(\u001b[32mcmd11.sc\u001b[39m:\u001b[32m7\u001b[39m)\r\n  ammonite.$sess.cmd11$.<clinit>(\u001b[32mcmd11.sc\u001b[39m:\u001b[32m-1\u001b[39m)"
     ]
    }
   ],
   "source": [
    "val x = 2\n",
    "\n",
    "new RationalTrait {\n",
    "    val numerArg = x\n",
    "    val denomArg = x\n",
    "}"
   ]
  },
  {
   "cell_type": "code",
   "execution_count": 14,
   "id": "b812aae3",
   "metadata": {},
   "outputs": [
    {
     "data": {
      "text/plain": [
       "\u001b[36mx\u001b[39m: \u001b[32mInt\u001b[39m = \u001b[32m2\u001b[39m\r\n",
       "\u001b[36mres13_1\u001b[39m: \u001b[32mAnyRef\u001b[39m with \u001b[32mRationalTrait\u001b[39m = 1/2"
      ]
     },
     "execution_count": 14,
     "metadata": {},
     "output_type": "execute_result"
    }
   ],
   "source": [
    "val x = 2\n",
    "\n",
    "// pre-initialized fields\n",
    "new {\n",
    "    val numerArg = x\n",
    "    val denomArg = 2 * x\n",
    "} with RationalTrait"
   ]
  },
  {
   "cell_type": "code",
   "execution_count": 16,
   "id": "afd556cd",
   "metadata": {},
   "outputs": [
    {
     "data": {
      "text/plain": [
       "defined \u001b[32mobject\u001b[39m \u001b[36mtwoThirds\u001b[39m\r\n",
       "\u001b[36mres15_1\u001b[39m: \u001b[32mtwoThirds\u001b[39m.type = 2/3"
      ]
     },
     "execution_count": 16,
     "metadata": {},
     "output_type": "execute_result"
    }
   ],
   "source": [
    "object twoThirds extends {\n",
    "    val numerArg = 2\n",
    "    val denomArg = 3\n",
    "} with RationalTrait\n",
    "\n",
    "twoThirds"
   ]
  },
  {
   "cell_type": "code",
   "execution_count": 17,
   "id": "8b132899",
   "metadata": {},
   "outputs": [
    {
     "data": {
      "text/plain": [
       "defined \u001b[32mclass\u001b[39m \u001b[36mRationalClass\u001b[39m\r\n",
       "\u001b[36mres16_1\u001b[39m: \u001b[32mRationalClass\u001b[39m = 2/3"
      ]
     },
     "execution_count": 17,
     "metadata": {},
     "output_type": "execute_result"
    }
   ],
   "source": [
    "class RationalClass(n: Int, d: Int) extends {\n",
    "    val numerArg = n\n",
    "    val denomArg = d\n",
    "} with RationalTrait\n",
    "\n",
    "new RationalClass(2, 3)"
   ]
  },
  {
   "cell_type": "markdown",
   "id": "217d6050",
   "metadata": {},
   "source": [
    "## lazy vals"
   ]
  },
  {
   "cell_type": "code",
   "execution_count": 20,
   "id": "62dc8b88",
   "metadata": {},
   "outputs": [
    {
     "name": "stdout",
     "output_type": "stream",
     "text": [
      "init x\n"
     ]
    },
    {
     "data": {
      "text/plain": [
       "defined \u001b[32mobject\u001b[39m \u001b[36mDemo\u001b[39m\r\n",
       "\u001b[36mres19_1\u001b[39m: \u001b[32mDemo\u001b[39m.type = ammonite.$sess.cmd19$Helper$Demo$@3a6c56e9"
      ]
     },
     "execution_count": 20,
     "metadata": {},
     "output_type": "execute_result"
    }
   ],
   "source": [
    "object Demo {\n",
    "    val x = { println(\"init x\"); \"done\"}\n",
    "}\n",
    "\n",
    "Demo"
   ]
  },
  {
   "cell_type": "code",
   "execution_count": 21,
   "id": "60d27da5",
   "metadata": {},
   "outputs": [
    {
     "data": {
      "text/plain": [
       "\u001b[36mres20\u001b[39m: \u001b[32mString\u001b[39m = \u001b[32m\"done\"\u001b[39m"
      ]
     },
     "execution_count": 21,
     "metadata": {},
     "output_type": "execute_result"
    }
   ],
   "source": [
    "Demo.x"
   ]
  },
  {
   "cell_type": "code",
   "execution_count": 22,
   "id": "c4506395",
   "metadata": {},
   "outputs": [
    {
     "data": {
      "text/plain": [
       "defined \u001b[32mobject\u001b[39m \u001b[36mDemo\u001b[39m\r\n",
       "\u001b[36mres21_1\u001b[39m: \u001b[32mDemo\u001b[39m.type = ammonite.$sess.cmd21$Helper$Demo$@14caf111"
      ]
     },
     "execution_count": 22,
     "metadata": {},
     "output_type": "execute_result"
    }
   ],
   "source": [
    "object Demo {\n",
    "    lazy val x = { println(\"init x\"); \"done\"}\n",
    "}\n",
    "\n",
    "Demo"
   ]
  },
  {
   "cell_type": "code",
   "execution_count": 23,
   "id": "8cc517fc",
   "metadata": {},
   "outputs": [
    {
     "name": "stdout",
     "output_type": "stream",
     "text": [
      "init x\n"
     ]
    },
    {
     "data": {
      "text/plain": [
       "\u001b[36mres22\u001b[39m: \u001b[32mString\u001b[39m = \u001b[32m\"done\"\u001b[39m"
      ]
     },
     "execution_count": 23,
     "metadata": {},
     "output_type": "execute_result"
    }
   ],
   "source": [
    "Demo.x"
   ]
  },
  {
   "cell_type": "code",
   "execution_count": 24,
   "id": "eff313c3",
   "metadata": {},
   "outputs": [
    {
     "data": {
      "text/plain": [
       "defined \u001b[32mtrait\u001b[39m \u001b[36mLazyRationalTrait\u001b[39m"
      ]
     },
     "execution_count": 24,
     "metadata": {},
     "output_type": "execute_result"
    }
   ],
   "source": [
    "trait LazyRationalTrait {\n",
    "    val numerArg: Int\n",
    "    val denomArg: Int\n",
    "    \n",
    "    private lazy val g = {\n",
    "        require(denomArg != 0)\n",
    "        gcd(numerArg, denomArg)\n",
    "    }\n",
    "        \n",
    "    lazy val numer = numerArg / g\n",
    "    lazy val denom = denomArg / g\n",
    "    private def gcd(a: Int, b: Int): Int =\n",
    "        if (b == 0) a else gcd(b, a %b)\n",
    "    override def toString = numer + \"/\" + denom\n",
    "}"
   ]
  },
  {
   "cell_type": "code",
   "execution_count": 25,
   "id": "0cf895f3",
   "metadata": {},
   "outputs": [
    {
     "data": {
      "text/plain": [
       "\u001b[36mx\u001b[39m: \u001b[32mInt\u001b[39m = \u001b[32m2\u001b[39m\r\n",
       "\u001b[36mres24_1\u001b[39m: \u001b[32mAnyRef\u001b[39m with \u001b[32mLazyRationalTrait\u001b[39m = 2/3"
      ]
     },
     "execution_count": 25,
     "metadata": {},
     "output_type": "execute_result"
    }
   ],
   "source": [
    "val x = 2\n",
    "\n",
    "new LazyRationalTrait {\n",
    "    val numerArg = x\n",
    "    val denomArg = x + 1\n",
    "}"
   ]
  },
  {
   "cell_type": "markdown",
   "id": "28d4cd56",
   "metadata": {},
   "source": [
    "# ABSTRACT TYPES"
   ]
  },
  {
   "cell_type": "code",
   "execution_count": 25,
   "id": "575a29f7",
   "metadata": {},
   "outputs": [
    {
     "name": "stderr",
     "output_type": "stream",
     "text": [
      "cmd25.sc:7: class Cow needs to be abstract, since method eat in class Animal of type (food: Helper.this.Food)Unit is not defined\n",
      "(Note that Helper.this.Food does not match Helper.this.Grass: class Grass in class Helper is a subclass of class Food in class Helper, but method parameter types must match exactly.)\n",
      "class Cow extends Animal {\n",
      "      ^cmd25.sc:8: method eat overrides nothing.\n",
      "Note: the super classes of class Cow contain the following, non final members named eat:\n",
      "def eat(food: Helper.this.Food): Unit\n",
      "    override def eat(food: Grass) = {}\n",
      "                 ^Compilation Failed"
     ]
    },
    {
     "ename": "",
     "evalue": "",
     "output_type": "error",
     "traceback": [
      "Compilation Failed"
     ]
    }
   ],
   "source": [
    "class Food\n",
    "abstract class Animal {\n",
    "    def eat(food: Food)\n",
    "}\n",
    "\n",
    "class Grass extends Food\n",
    "class Cow extends Animal {\n",
    "    override def eat(food: Grass) = {}\n",
    "}"
   ]
  },
  {
   "cell_type": "code",
   "execution_count": 26,
   "id": "422a5a4e",
   "metadata": {},
   "outputs": [
    {
     "data": {
      "text/plain": [
       "defined \u001b[32mclass\u001b[39m \u001b[36mFood\u001b[39m\r\n",
       "defined \u001b[32mclass\u001b[39m \u001b[36mAnimal\u001b[39m\r\n",
       "defined \u001b[32mclass\u001b[39m \u001b[36mGrass\u001b[39m\r\n",
       "defined \u001b[32mclass\u001b[39m \u001b[36mCow\u001b[39m"
      ]
     },
     "execution_count": 26,
     "metadata": {},
     "output_type": "execute_result"
    }
   ],
   "source": [
    "class Food\n",
    "abstract class Animal {\n",
    "    type SuitableFood <: Food\n",
    "    def eat(food: SuitableFood)\n",
    "}\n",
    "\n",
    "class Grass extends Food\n",
    "class Cow extends Animal {\n",
    "    type SuitableFood = Grass\n",
    "    def eat(food: Grass) = {}\n",
    "}"
   ]
  },
  {
   "cell_type": "code",
   "execution_count": 26,
   "id": "b03ecf18",
   "metadata": {},
   "outputs": [
    {
     "name": "stderr",
     "output_type": "stream",
     "text": [
      "cmd26.sc:3: type mismatch;\n",
      " found   : Helper.this.Fish\n",
      " required: Helper.this.bessy.SuitableFood\n",
      "val res26_2 = bessy eat (new Fish)\n",
      "                         ^Compilation Failed"
     ]
    },
    {
     "ename": "",
     "evalue": "",
     "output_type": "error",
     "traceback": [
      "Compilation Failed"
     ]
    }
   ],
   "source": [
    "class Fish extends Food\n",
    "val bessy: Animal = new Cow\n",
    "bessy eat (new Fish)"
   ]
  },
  {
   "cell_type": "markdown",
   "id": "17b9dfca",
   "metadata": {},
   "source": [
    "# PATH-DEPENDENT TYPES"
   ]
  },
  {
   "cell_type": "code",
   "execution_count": 27,
   "id": "20f7bd76",
   "metadata": {},
   "outputs": [
    {
     "data": {
      "text/plain": [
       "defined \u001b[32mclass\u001b[39m \u001b[36mDogFood\u001b[39m\r\n",
       "defined \u001b[32mclass\u001b[39m \u001b[36mDog\u001b[39m"
      ]
     },
     "execution_count": 27,
     "metadata": {},
     "output_type": "execute_result"
    }
   ],
   "source": [
    "class DogFood extends Food\n",
    "class Dog extends Animal {\n",
    "    type SuitableFood = DogFood\n",
    "    override def eat(food: DogFood) = {}\n",
    "}"
   ]
  },
  {
   "cell_type": "code",
   "execution_count": 28,
   "id": "28cffa62",
   "metadata": {},
   "outputs": [
    {
     "data": {
      "text/plain": [
       "\u001b[36mbessy\u001b[39m: \u001b[32mCow\u001b[39m = ammonite.$sess.cmd25$Helper$Cow@24106ebe\r\n",
       "\u001b[36mlassie\u001b[39m: \u001b[32mDog\u001b[39m = ammonite.$sess.cmd26$Helper$Dog@60b80e01"
      ]
     },
     "execution_count": 28,
     "metadata": {},
     "output_type": "execute_result"
    }
   ],
   "source": [
    "val bessy = new Cow\n",
    "val lassie = new Dog"
   ]
  },
  {
   "cell_type": "code",
   "execution_count": 28,
   "id": "1c2a3fd0",
   "metadata": {},
   "outputs": [
    {
     "name": "stderr",
     "output_type": "stream",
     "text": [
      "cmd28.sc:1: type mismatch;\n",
      " found   : ammonite.$sess.cmd27.wrapper.cmd25.Grass\n",
      " required: ammonite.$sess.cmd27.wrapper.cmd26.DogFood\n",
      "val res28 = lassie eat (new bessy.SuitableFood)\n",
      "                        ^Compilation Failed"
     ]
    },
    {
     "ename": "",
     "evalue": "",
     "output_type": "error",
     "traceback": [
      "Compilation Failed"
     ]
    }
   ],
   "source": [
    "lassie eat (new bessy.SuitableFood)"
   ]
  },
  {
   "cell_type": "code",
   "execution_count": 29,
   "id": "56c70beb",
   "metadata": {},
   "outputs": [
    {
     "data": {
      "text/plain": [
       "\u001b[36mbootsie\u001b[39m: \u001b[32mDog\u001b[39m = ammonite.$sess.cmd26$Helper$Dog@26495ebe"
      ]
     },
     "execution_count": 29,
     "metadata": {},
     "output_type": "execute_result"
    }
   ],
   "source": [
    "val bootsie = new Dog\n",
    "\n",
    "lassie eat (new bootsie.SuitableFood)"
   ]
  },
  {
   "cell_type": "code",
   "execution_count": 35,
   "id": "db4bb630",
   "metadata": {},
   "outputs": [
    {
     "data": {
      "text/plain": [
       "defined \u001b[32mclass\u001b[39m \u001b[36mOuter\u001b[39m\r\n",
       "\u001b[36mo1\u001b[39m: \u001b[32mOuter\u001b[39m = ammonite.$sess.cmd34$Helper$Outer@73be5840\r\n",
       "\u001b[36mo2\u001b[39m: \u001b[32mOuter\u001b[39m = ammonite.$sess.cmd34$Helper$Outer@7c1e82d0\r\n",
       "\u001b[36mres34_3\u001b[39m: \u001b[32mBoolean\u001b[39m = \u001b[32mfalse\u001b[39m\r\n",
       "\u001b[36mo1i\u001b[39m: \u001b[32mo1\u001b[39m.\u001b[32mInner\u001b[39m = ammonite.$sess.cmd34$Helper$Outer$Inner@100bedd1\r\n",
       "\u001b[36mo2i\u001b[39m: \u001b[32mo2\u001b[39m.\u001b[32mInner\u001b[39m = ammonite.$sess.cmd34$Helper$Outer$Inner@78a568c5\r\n",
       "\u001b[36mres34_6\u001b[39m: \u001b[32mBoolean\u001b[39m = \u001b[32mtrue\u001b[39m\r\n",
       "\u001b[36mres34_7\u001b[39m: \u001b[32mBoolean\u001b[39m = \u001b[32mtrue\u001b[39m"
      ]
     },
     "execution_count": 35,
     "metadata": {},
     "output_type": "execute_result"
    }
   ],
   "source": [
    "class Outer {\n",
    "    class Inner\n",
    "}\n",
    "\n",
    "val o1 = new Outer\n",
    "val o2 = new Outer\n",
    "o1 == o2\n",
    "val o1i = new o1.Inner\n",
    "val o2i = new o2.Inner\n",
    "o1i.isInstanceOf[o1.Inner]\n",
    "o1i.isInstanceOf[o2.Inner]"
   ]
  },
  {
   "cell_type": "code",
   "execution_count": 35,
   "id": "8f67cb5c",
   "metadata": {},
   "outputs": [
    {
     "name": "stderr",
     "output_type": "stream",
     "text": [
      "cmd35.sc:1: cmd35.this.cmd34.Outer is not a legal prefix for a constructor\n",
      "val res35 = new Outer#Inner\n",
      "                      ^Compilation Failed"
     ]
    },
    {
     "ename": "",
     "evalue": "",
     "output_type": "error",
     "traceback": [
      "Compilation Failed"
     ]
    }
   ],
   "source": [
    "new Outer#Inner"
   ]
  },
  {
   "cell_type": "markdown",
   "id": "1cbd753f",
   "metadata": {},
   "source": [
    "# REFINEMENT TYPES"
   ]
  },
  {
   "cell_type": "code",
   "execution_count": 37,
   "id": "dd3e48c9",
   "metadata": {},
   "outputs": [
    {
     "data": {
      "text/plain": [
       "defined \u001b[32mclass\u001b[39m \u001b[36mFood\u001b[39m\r\n",
       "defined \u001b[32mclass\u001b[39m \u001b[36mAnimal\u001b[39m\r\n",
       "defined \u001b[32mclass\u001b[39m \u001b[36mGrass\u001b[39m\r\n",
       "defined \u001b[32mclass\u001b[39m \u001b[36mPasture\u001b[39m\r\n",
       "\u001b[36mres36_4\u001b[39m: \u001b[32mList\u001b[39m[\u001b[32mAnimal\u001b[39m{type SuitableFood = Helper.this.Grass}] = \u001b[33mList\u001b[39m()"
      ]
     },
     "execution_count": 37,
     "metadata": {},
     "output_type": "execute_result"
    }
   ],
   "source": [
    "class Food\n",
    "abstract class Animal {\n",
    "    type SuitableFood <: Food\n",
    "    def eat(food: SuitableFood)\n",
    "}\n",
    "\n",
    "class Grass extends Food\n",
    "class Pasture {\n",
    "    var animals: List[Animal { type SuitableFood = Grass }] = Nil\n",
    "}\n",
    "\n",
    "new Pasture().animals"
   ]
  },
  {
   "cell_type": "markdown",
   "id": "45e80127",
   "metadata": {},
   "source": [
    "# ENUMERATIONS"
   ]
  },
  {
   "cell_type": "code",
   "execution_count": 38,
   "id": "fae8c7f7",
   "metadata": {},
   "outputs": [
    {
     "data": {
      "text/plain": [
       "defined \u001b[32mobject\u001b[39m \u001b[36mColor\u001b[39m\r\n",
       "\u001b[32mimport \u001b[39m\u001b[36mColor._\n",
       "\n",
       "\u001b[39m\r\n",
       "\u001b[36mres37_2\u001b[39m: \u001b[32mValue\u001b[39m = Red"
      ]
     },
     "execution_count": 38,
     "metadata": {},
     "output_type": "execute_result"
    }
   ],
   "source": [
    "object Color extends Enumeration {\n",
    "    val Red, Green, Blud = Value\n",
    "}\n",
    "\n",
    "import Color._\n",
    "\n",
    "Red"
   ]
  },
  {
   "cell_type": "code",
   "execution_count": 40,
   "id": "563f3353",
   "metadata": {},
   "outputs": [
    {
     "name": "stdout",
     "output_type": "stream",
     "text": [
      "N E S W \n"
     ]
    },
    {
     "data": {
      "text/plain": [
       "defined \u001b[32mobject\u001b[39m \u001b[36mDirection\u001b[39m\r\n",
       "\u001b[36mres39_3\u001b[39m: \u001b[32mInt\u001b[39m = \u001b[32m1\u001b[39m\r\n",
       "\u001b[36mres39_4\u001b[39m: \u001b[32mValue\u001b[39m = E"
      ]
     },
     "execution_count": 40,
     "metadata": {},
     "output_type": "execute_result"
    }
   ],
   "source": [
    "object Direction extends Enumeration {\n",
    "    val North = Value(\"N\")\n",
    "    val East = Value(\"E\")\n",
    "    val South = Value(\"S\")\n",
    "    val West = Value(\"W\")\n",
    "}\n",
    "\n",
    "for (d <- Direction.values)\n",
    "    print(d + \" \")\n",
    "println()\n",
    "\n",
    "Direction.East.id\n",
    "\n",
    "Direction(1)"
   ]
  },
  {
   "cell_type": "markdown",
   "id": "98c76dac",
   "metadata": {},
   "source": [
    "# CASE STUDY: CURRENCIES"
   ]
  },
  {
   "cell_type": "markdown",
   "id": "b49f87b6",
   "metadata": {},
   "source": [
    "## first try"
   ]
  },
  {
   "cell_type": "code",
   "execution_count": 1,
   "id": "273a716d",
   "metadata": {},
   "outputs": [
    {
     "data": {
      "text/plain": [
       "defined \u001b[32mclass\u001b[39m \u001b[36mCurrency\u001b[39m\r\n",
       "\u001b[36mres0_1\u001b[39m: \u001b[32mCurrency\u001b[39m{val designation: String} = 79 USD\r\n",
       "defined \u001b[32mclass\u001b[39m \u001b[36mDollar\u001b[39m\r\n",
       "defined \u001b[32mclass\u001b[39m \u001b[36mEuro\u001b[39m"
      ]
     },
     "execution_count": 1,
     "metadata": {},
     "output_type": "execute_result"
    }
   ],
   "source": [
    "abstract class Currency {\n",
    "    val amount: Long\n",
    "    def designation: String\n",
    "    override def toString = amount + \" \" + designation\n",
    "    def +(that: Currency): Currency = ???\n",
    "    def *(x: Double): Currency = ???\n",
    "}\n",
    "\n",
    "new Currency {\n",
    "    val amount = 79L\n",
    "    val designation = \"USD\"\n",
    "}\n",
    "\n",
    "abstract class Dollar extends Currency {\n",
    "    def designation = \"USD\"\n",
    "}\n",
    "abstract class Euro extends Currency {\n",
    "    def designation = \"Euro\"\n",
    "}"
   ]
  },
  {
   "cell_type": "markdown",
   "id": "42dd26fa",
   "metadata": {},
   "source": [
    "## second try"
   ]
  },
  {
   "cell_type": "code",
   "execution_count": 2,
   "id": "9878e760",
   "metadata": {},
   "outputs": [
    {
     "data": {
      "text/plain": [
       "defined \u001b[32mclass\u001b[39m \u001b[36mAbstractCurrency\u001b[39m\r\n",
       "defined \u001b[32mclass\u001b[39m \u001b[36mDollar\u001b[39m"
      ]
     },
     "execution_count": 2,
     "metadata": {},
     "output_type": "execute_result"
    }
   ],
   "source": [
    "abstract class AbstractCurrency {\n",
    "    type Currency <: AbstractCurrency\n",
    "    val amount: Long\n",
    "    def designation: String\n",
    "    override def toString = amount + \" \" + designation\n",
    "//     def +(that: Currency): Currency = new Currency { // NOT COMPILE\n",
    "//         val amount = this.amount + that.amount\n",
    "//     }\n",
    "    def make(amount: Long): Currency // factory method\n",
    "    def +(that: Currency): Currency = make(this.amount + that.amount)\n",
    "    def *(x: Double): Currency = ???\n",
    "}\n",
    "\n",
    "abstract class Dollar extends AbstractCurrency {\n",
    "    type Currency = Dollar\n",
    "    def designation = \"USD\"\n",
    "}\n"
   ]
  },
  {
   "cell_type": "markdown",
   "id": "461dd8d9",
   "metadata": {},
   "source": [
    "## final try"
   ]
  },
  {
   "cell_type": "code",
   "execution_count": 3,
   "id": "f4e3ef00",
   "metadata": {},
   "outputs": [
    {
     "data": {
      "text/plain": [
       "defined \u001b[32mobject\u001b[39m \u001b[36mConverter\u001b[39m\r\n",
       "defined \u001b[32mclass\u001b[39m \u001b[36mCurrencyZone\u001b[39m\r\n",
       "defined \u001b[32mobject\u001b[39m \u001b[36mUS\u001b[39m\r\n",
       "defined \u001b[32mobject\u001b[39m \u001b[36mEurope\u001b[39m\r\n",
       "defined \u001b[32mobject\u001b[39m \u001b[36mJapan\u001b[39m"
      ]
     },
     "execution_count": 3,
     "metadata": {},
     "output_type": "execute_result"
    }
   ],
   "source": [
    "object Converter {\n",
    "    var exchangeRate = Map(\n",
    "        \"USD\" -> Map(\"USD\" -> 1.0 , \"EUR\" -> 0.7596, \"JPY\" -> 1.211 , \"CHF\" -> 1.223),\n",
    "        \"EUR\" -> Map(\"USD\" -> 1.316 , \"EUR\" -> 1.0 , \"JPY\" -> 1.594 , \"CHF\" -> 1.623),\n",
    "        \"JPY\" -> Map(\"USD\" -> 0.8257, \"EUR\" -> 0.6272, \"JPY\" -> 1.0 , \"CHF\" -> 1.018),\n",
    "        \"CHF\" -> Map(\"USD\" -> 0.8108, \"EUR\" -> 0.6160, \"JPY\" -> 0.982 , \"CHF\" -> 1.0 )\n",
    "    )\n",
    "}\n",
    "\n",
    "abstract class CurrencyZone {\n",
    "    type Currency <: AbstractCurrency\n",
    "    def make(x: Long): Currency\n",
    "    \n",
    "    abstract class AbstractCurrency {\n",
    "        val amount: Long\n",
    "        def designation: String\n",
    "                \n",
    "        def +(that: Currency): Currency = \n",
    "            make(this.amount + that.amount)\n",
    "        def -(that: Currency): Currency = \n",
    "            make(this.amount - that.amount)\n",
    "        def *(x: Double): Currency =\n",
    "            make((this.amount * x).toLong)\n",
    "        def /(x: Double): Currency =\n",
    "            make((this.amount / x).toLong)\n",
    "        def /(that: Currency) =\n",
    "            this.amount.toDouble / that.amount\n",
    "        \n",
    "        def from(other: CurrencyZone#AbstractCurrency): Currency = {\n",
    "            make(math.round(\n",
    "                other.amount.toDouble * Converter.exchangeRate(other.designation)(this.designation)))\n",
    "        }\n",
    "        \n",
    "        private def decimals(n: Long): Int =\n",
    "            if (n == 1) 0 else 1 + decimals(n / 10)\n",
    "        override def toString = \n",
    "            (\"%.\"+decimals(CurrencyUnit.amount)+\"f\").format(\n",
    "                amount.toDouble / CurrencyUnit.amount.toDouble) + \" \" + designation\n",
    "    }\n",
    "    \n",
    "    val CurrencyUnit: Currency\n",
    " }\n",
    "\n",
    "object US extends CurrencyZone {\n",
    "    abstract class Dollar extends AbstractCurrency {\n",
    "        def designation = \"USD\"\n",
    "    }\n",
    "    type Currency = Dollar\n",
    "    def make(cents: Long) = new Dollar { val amount = cents }\n",
    "    \n",
    "    val Cent = make(1)\n",
    "    val Dollar = make(100)\n",
    "    val CurrencyUnit = Dollar\n",
    "}\n",
    "\n",
    "object Europe extends CurrencyZone {\n",
    "    abstract class Euro extends AbstractCurrency {\n",
    "        def designation = \"EUR\"\n",
    "    }\n",
    "    type Currency = Euro\n",
    "    def make(cents: Long) = new Euro {\n",
    "        val amount = cents\n",
    "    }\n",
    "    val Cent = make(1)\n",
    "    val Euro = make(100)\n",
    "    val CurrencyUnit = Euro\n",
    "}\n",
    "\n",
    "object Japan extends CurrencyZone {\n",
    "    abstract class Yen extends AbstractCurrency {\n",
    "        def designation = \"JPY\"\n",
    "    }\n",
    "    type Currency = Yen\n",
    "    def make(yen: Long) = new Yen {\n",
    "        val amount = yen\n",
    "    }\n",
    "    val Yen = make(1)\n",
    "    val CurrencyUnit = Yen\n",
    "}"
   ]
  },
  {
   "cell_type": "code",
   "execution_count": 4,
   "id": "bfe8559c",
   "metadata": {},
   "outputs": [
    {
     "data": {
      "text/plain": [
       "\u001b[36myen\u001b[39m: \u001b[32mJapan\u001b[39m.\u001b[32mCurrency\u001b[39m = 12110 JPY\r\n",
       "\u001b[36meuro\u001b[39m: \u001b[32mEurope\u001b[39m.\u001b[32mCurrency\u001b[39m = 75.95 EUR\r\n",
       "\u001b[36mdollar\u001b[39m: \u001b[32mUS\u001b[39m.\u001b[32mCurrency\u001b[39m = 99.95 USD\r\n",
       "\u001b[36mres3_3\u001b[39m: \u001b[32mUS\u001b[39m.\u001b[32mCurrency\u001b[39m = 199.95 USD"
      ]
     },
     "execution_count": 4,
     "metadata": {},
     "output_type": "execute_result"
    }
   ],
   "source": [
    "val yen = Japan.Yen from US.Dollar * 100\n",
    "val euro = Europe.Euro from yen\n",
    "val dollar = US.Dollar from euro\n",
    "\n",
    "US.Dollar * 100 + dollar"
   ]
  },
  {
   "cell_type": "code",
   "execution_count": 4,
   "id": "99ae78d1",
   "metadata": {},
   "outputs": [
    {
     "name": "stderr",
     "output_type": "stream",
     "text": [
      "cmd4.sc:1: type mismatch;\n",
      " found   : cmd4.this.cmd2.Europe.Euro\n",
      " required: cmd4.this.cmd2.US.Currency\n",
      "    (which expands to)  cmd4.this.cmd2.US.Dollar\n",
      "val res4 = US.Dollar + Europe.Euro\n",
      "                              ^Compilation Failed"
     ]
    },
    {
     "ename": "",
     "evalue": "",
     "output_type": "error",
     "traceback": [
      "Compilation Failed"
     ]
    }
   ],
   "source": [
    "// US.Dollar + Europe.Euro // type mismatch"
   ]
  },
  {
   "cell_type": "code",
   "execution_count": null,
   "id": "63bb1dd8",
   "metadata": {},
   "outputs": [],
   "source": []
  }
 ],
 "metadata": {
  "kernelspec": {
   "display_name": "Scala",
   "language": "scala",
   "name": "scala"
  },
  "language_info": {
   "codemirror_mode": "text/x-scala",
   "file_extension": ".sc",
   "mimetype": "text/x-scala",
   "name": "scala",
   "nbconvert_exporter": "script",
   "version": "2.12.17"
  },
  "toc": {
   "base_numbering": 1,
   "nav_menu": {},
   "number_sections": true,
   "sideBar": true,
   "skip_h1_title": false,
   "title_cell": "Table of Contents",
   "title_sidebar": "Contents",
   "toc_cell": true,
   "toc_position": {
    "height": "calc(100% - 180px)",
    "left": "10px",
    "top": "150px",
    "width": "269.7px"
   },
   "toc_section_display": true,
   "toc_window_display": true
  },
  "varInspector": {
   "cols": {
    "lenName": 16,
    "lenType": 16,
    "lenVar": 40
   },
   "kernels_config": {
    "python": {
     "delete_cmd_postfix": "",
     "delete_cmd_prefix": "del ",
     "library": "var_list.py",
     "varRefreshCmd": "print(var_dic_list())"
    },
    "r": {
     "delete_cmd_postfix": ") ",
     "delete_cmd_prefix": "rm(",
     "library": "var_list.r",
     "varRefreshCmd": "cat(var_dic_list()) "
    }
   },
   "types_to_exclude": [
    "module",
    "function",
    "builtin_function_or_method",
    "instance",
    "_Feature"
   ],
   "window_display": false
  }
 },
 "nbformat": 4,
 "nbformat_minor": 5
}
