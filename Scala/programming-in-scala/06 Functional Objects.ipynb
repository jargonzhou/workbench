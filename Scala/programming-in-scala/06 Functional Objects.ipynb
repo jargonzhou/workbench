{
 "cells": [
  {
   "cell_type": "code",
   "execution_count": 1,
   "id": "8f012b2e",
   "metadata": {},
   "outputs": [
    {
     "data": {
      "text/plain": [
       "defined \u001b[32mclass\u001b[39m \u001b[36mRational\u001b[39m"
      ]
     },
     "execution_count": 1,
     "metadata": {},
     "output_type": "execute_result"
    }
   ],
   "source": [
    "class Rational(n: Int, d: Int) {\n",
    "  require(d != 0)\n",
    "\n",
    "  private val g = gcd(n.abs, d.abs)\n",
    "\n",
    "  val numer = n / g\n",
    "  val denom = d / g\n",
    "\n",
    "  def this(n: Int) = this(n, 1)\n",
    "\n",
    "  def + (that: Rational): Rational =\n",
    "    new Rational(\n",
    "      numer * that.denom + that.numer * denom,\n",
    "      denom * that.denom\n",
    "    )\n",
    "\n",
    "  def + (i: Int): Rational =\n",
    "    new Rational(numer + i * denom, denom)\n",
    "\n",
    "  def - (that: Rational): Rational =\n",
    "    new Rational(\n",
    "      numer * that.denom - that.numer * denom,\n",
    "      denom * that.denom\n",
    "    )\n",
    "\n",
    "  def - (i: Int): Rational =\n",
    "    new Rational(numer - i * denom, denom)\n",
    "\n",
    "  def * (that: Rational): Rational =\n",
    "    new Rational(numer * that.numer, denom * that.denom)\n",
    "\n",
    "  def * (i: Int): Rational =\n",
    "    new Rational(numer * i, denom)\n",
    "\n",
    "  def / (that: Rational): Rational =\n",
    "    new Rational(numer * that.denom, denom * that.numer)\n",
    "\n",
    "  def / (i: Int): Rational =\n",
    "    new Rational(numer, denom * i)\n",
    "\n",
    "  override def toString = numer + \"/\" + denom\n",
    "\n",
    "  private def gcd(a: Int, b: Int): Int =\n",
    "    if (b == 0) a else gcd(b, a % b)\n",
    "}"
   ]
  },
  {
   "cell_type": "code",
   "execution_count": 2,
   "id": "7e64208b",
   "metadata": {},
   "outputs": [
    {
     "data": {
      "text/plain": [
       "\u001b[36mx\u001b[39m: \u001b[32mRational\u001b[39m = 2/3\n",
       "\u001b[36mres1_1\u001b[39m: \u001b[32mRational\u001b[39m = 4/9\n",
       "\u001b[36mres1_2\u001b[39m: \u001b[32mRational\u001b[39m = 4/3"
      ]
     },
     "execution_count": 2,
     "metadata": {},
     "output_type": "execute_result"
    }
   ],
   "source": [
    "val x = new Rational(2, 3)\n",
    "x * x\n",
    "x * 2"
   ]
  },
  {
   "cell_type": "code",
   "execution_count": 2,
   "id": "eb425510",
   "metadata": {},
   "outputs": [
    {
     "name": "stderr",
     "output_type": "stream",
     "text": [
      "cmd2.sc:1: overloaded method * with alternatives:\n",
      "  (x: Double)Double <and>\n",
      "  (x: Float)Float <and>\n",
      "  (x: Long)Long <and>\n",
      "  (x: Int)Int <and>\n",
      "  (x: Char)Int <and>\n",
      "  (x: Short)Int <and>\n",
      "  (x: Byte)Int\n",
      " cannot be applied to (ammonite.$sess.cmd1.wrapper.cmd0.Rational)\n",
      "val res2 = 2 * x\n",
      "             ^Compilation Failed"
     ]
    },
    {
     "ename": "",
     "evalue": "",
     "output_type": "error",
     "traceback": [
      "Compilation Failed"
     ]
    }
   ],
   "source": [
    "// 2 * x"
   ]
  },
  {
   "cell_type": "code",
   "execution_count": 3,
   "id": "f1c3759e",
   "metadata": {},
   "outputs": [
    {
     "data": {
      "text/plain": [
       "defined \u001b[32mfunction\u001b[39m \u001b[36mintToRational\u001b[39m\n",
       "\u001b[36mres2_1\u001b[39m: \u001b[32mRational\u001b[39m = 4/3"
      ]
     },
     "execution_count": 3,
     "metadata": {},
     "output_type": "execute_result"
    }
   ],
   "source": [
    "implicit def intToRational(x: Int): Rational = new Rational(x)\n",
    "\n",
    "2 * x"
   ]
  }
 ],
 "metadata": {
  "kernelspec": {
   "display_name": "Scala",
   "language": "scala",
   "name": "scala"
  },
  "language_info": {
   "codemirror_mode": "text/x-scala",
   "file_extension": ".sc",
   "mimetype": "text/x-scala",
   "name": "scala",
   "nbconvert_exporter": "script",
   "version": "2.13.10"
  },
  "toc": {
   "base_numbering": 1,
   "nav_menu": {},
   "number_sections": true,
   "sideBar": true,
   "skip_h1_title": false,
   "title_cell": "Table of Contents",
   "title_sidebar": "Contents",
   "toc_cell": false,
   "toc_position": {},
   "toc_section_display": true,
   "toc_window_display": false
  }
 },
 "nbformat": 4,
 "nbformat_minor": 5
}
