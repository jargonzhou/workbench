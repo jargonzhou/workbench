{
 "cells": [
  {
   "cell_type": "markdown",
   "id": "4a7b2498",
   "metadata": {},
   "source": [
    "# 29.1 THE PROBLEM"
   ]
  },
  {
   "cell_type": "code",
   "execution_count": null,
   "id": "f2b8bed0",
   "metadata": {},
   "outputs": [],
   "source": []
  },
  {
   "cell_type": "markdown",
   "id": "3e064218",
   "metadata": {},
   "source": [
    "# 29.2 A RECIPE APPLICATION"
   ]
  },
  {
   "cell_type": "code",
   "execution_count": 8,
   "id": "7b07ef8f",
   "metadata": {},
   "outputs": [
    {
     "data": {
      "text/plain": [
       "defined \u001b[32mclass\u001b[39m \u001b[36mFood\u001b[39m"
      ]
     },
     "execution_count": 8,
     "metadata": {},
     "output_type": "execute_result"
    }
   ],
   "source": [
    "abstract class Food(val name: String) {\n",
    "  override def toString = name\n",
    "}"
   ]
  },
  {
   "cell_type": "code",
   "execution_count": 9,
   "id": "50c60845",
   "metadata": {},
   "outputs": [
    {
     "data": {
      "text/plain": [
       "defined \u001b[32mclass\u001b[39m \u001b[36mRecipe\u001b[39m"
      ]
     },
     "execution_count": 9,
     "metadata": {},
     "output_type": "execute_result"
    }
   ],
   "source": [
    "class Recipe(\n",
    "  val name: String,\n",
    "  val ingredients: List[Food],\n",
    "  val instructions: String\n",
    ") {\n",
    "  override def toString = name\n",
    "}"
   ]
  },
  {
   "cell_type": "code",
   "execution_count": 10,
   "id": "0fab3150",
   "metadata": {},
   "outputs": [
    {
     "data": {
      "text/plain": [
       "defined \u001b[32mobject\u001b[39m \u001b[36mApple\u001b[39m\n",
       "defined \u001b[32mobject\u001b[39m \u001b[36mOrange\u001b[39m\n",
       "defined \u001b[32mobject\u001b[39m \u001b[36mCream\u001b[39m\n",
       "defined \u001b[32mobject\u001b[39m \u001b[36mSugar\u001b[39m\n",
       "defined \u001b[32mobject\u001b[39m \u001b[36mFruitSalad\u001b[39m"
      ]
     },
     "execution_count": 10,
     "metadata": {},
     "output_type": "execute_result"
    }
   ],
   "source": [
    "object Apple extends Food(\"Apple\")\n",
    "object Orange extends Food(\"Orange\")\n",
    "object Cream extends Food(\"Cream\")\n",
    "object Sugar extends Food(\"Sugar\")\n",
    "\n",
    "object FruitSalad extends Recipe(\n",
    "  \"fruit salad\",\n",
    "  List(Apple, Orange, Cream, Sugar),\n",
    "  \"Stir it all together.\"\n",
    ")"
   ]
  },
  {
   "cell_type": "code",
   "execution_count": null,
   "id": "24e9632f",
   "metadata": {},
   "outputs": [],
   "source": [
    "object SimpleDatabase {\n",
    "  def allFoods = List(Apple, Orange, Cream, Sugar)\n",
    "\n",
    "  def foodNamed(name: String): Option[Food] =\n",
    "    allFoods.find(_.name == name)\n",
    "\n",
    "  def allRecipes: List[Recipe] = List(FruitSalad)\n",
    "\n",
    "  case class FoodCategory(name: String, foods: List[Food])\n",
    "\n",
    "  private var categories = List(\n",
    "    FoodCategory(\"fruits\", List(Apple, Orange)),\n",
    "    FoodCategory(\"misc\", List(Cream, Sugar)))\n",
    "\n",
    "  def allCategories = categories\n",
    "}\n",
    "\n",
    "object SimpleBrowser {\n",
    "  def recipesUsing(food: Food) =\n",
    "    SimpleDatabase.allRecipes.filter(recipe =>\n",
    "      recipe.ingredients.contains(food))\n",
    "\n",
    "  def displayCategory(category: SimpleDatabase.FoodCategory) = {\n",
    "    println(category)\n",
    "  }\n",
    "}"
   ]
  },
  {
   "cell_type": "code",
   "execution_count": 11,
   "id": "b1b4059b",
   "metadata": {},
   "outputs": [
    {
     "data": {
      "text/plain": [
       "\u001b[36mapple\u001b[39m: \u001b[32m$sess\u001b[39m.\u001b[32mcmd3\u001b[39m.\u001b[32mwrapper\u001b[39m.\u001b[32mcmd0\u001b[39m.\u001b[32mFood\u001b[39m = Apple\n",
       "\u001b[36mres10_1\u001b[39m: \u001b[32mList\u001b[39m[\u001b[32m$sess\u001b[39m.\u001b[32mcmd1\u001b[39m.\u001b[32mwrapper\u001b[39m.\u001b[32mcmd0\u001b[39m.\u001b[32mRecipe\u001b[39m] = \u001b[33mList\u001b[39m(fruit salad)"
      ]
     },
     "execution_count": 11,
     "metadata": {},
     "output_type": "execute_result"
    }
   ],
   "source": [
    "val apple = SimpleDatabase.foodNamed(\"Apple\").get\n",
    "SimpleBrowser.recipesUsing(apple)"
   ]
  },
  {
   "cell_type": "markdown",
   "id": "c2b3e791",
   "metadata": {},
   "source": [
    "# 29.3 ABSTRACTION"
   ]
  },
  {
   "cell_type": "code",
   "execution_count": 15,
   "id": "db3885a6",
   "metadata": {},
   "outputs": [
    {
     "data": {
      "text/plain": [
       "defined \u001b[32mclass\u001b[39m \u001b[36mDatabase\u001b[39m"
      ]
     },
     "execution_count": 15,
     "metadata": {},
     "output_type": "execute_result"
    }
   ],
   "source": [
    "abstract class Database {\n",
    "  def allFoods: List[Food]\n",
    "\n",
    "  def allRecipes: List[Recipe]\n",
    "\n",
    "  def foodNamed(name: String) =\n",
    "    allFoods.find(f => f.name == name)\n",
    "\n",
    "  case class FoodCategory(name: String, foods: List[Food])\n",
    "\n",
    "  def allCategories: List[FoodCategory]\n",
    "}"
   ]
  },
  {
   "cell_type": "code",
   "execution_count": 16,
   "id": "fed6781b",
   "metadata": {},
   "outputs": [
    {
     "data": {
      "text/plain": [
       "defined \u001b[32mclass\u001b[39m \u001b[36mBrowser\u001b[39m"
      ]
     },
     "execution_count": 16,
     "metadata": {},
     "output_type": "execute_result"
    }
   ],
   "source": [
    "abstract class Browser {\n",
    "  val database: Database\n",
    "\n",
    "  def recipesUsing(food: Food) =\n",
    "    database.allRecipes.filter(recipe =>\n",
    "      recipe.ingredients.contains(food))\n",
    "\n",
    "  def displayCategory(category: database.FoodCategory) = {\n",
    "    println(category)\n",
    "  }\n",
    "}"
   ]
  },
  {
   "cell_type": "code",
   "execution_count": 17,
   "id": "dd1e8eae",
   "metadata": {},
   "outputs": [
    {
     "data": {
      "text/plain": [
       "defined \u001b[32mobject\u001b[39m \u001b[36mSimpleDatabase\u001b[39m"
      ]
     },
     "execution_count": 17,
     "metadata": {},
     "output_type": "execute_result"
    }
   ],
   "source": [
    "object SimpleDatabase extends Database {\n",
    "  def allFoods = List(Apple, Orange, Cream, Sugar)\n",
    "\n",
    "  def allRecipes: List[Recipe] = List(FruitSalad)\n",
    "\n",
    "  private var categories = List(\n",
    "    FoodCategory(\"fruits\", List(Apple, Orange)),\n",
    "    FoodCategory(\"misc\", List(Cream, Sugar)))\n",
    "\n",
    "  def allCategories = categories\n",
    "}"
   ]
  },
  {
   "cell_type": "code",
   "execution_count": 18,
   "id": "cf446bc3",
   "metadata": {},
   "outputs": [
    {
     "data": {
      "text/plain": [
       "defined \u001b[32mobject\u001b[39m \u001b[36mSimpleBrowser\u001b[39m"
      ]
     },
     "execution_count": 18,
     "metadata": {},
     "output_type": "execute_result"
    }
   ],
   "source": [
    "object SimpleBrowser extends Browser {\n",
    "  val database = SimpleDatabase\n",
    "}"
   ]
  },
  {
   "cell_type": "code",
   "execution_count": 19,
   "id": "325023e1",
   "metadata": {},
   "outputs": [
    {
     "data": {
      "text/plain": [
       "\u001b[36mapple\u001b[39m: \u001b[32mFood\u001b[39m = Apple\n",
       "\u001b[36mres18_1\u001b[39m: \u001b[32mList\u001b[39m[\u001b[32mRecipe\u001b[39m] = \u001b[33mList\u001b[39m(fruit salad)"
      ]
     },
     "execution_count": 19,
     "metadata": {},
     "output_type": "execute_result"
    }
   ],
   "source": [
    "val apple = SimpleDatabase.foodNamed(\"Apple\").get\n",
    "SimpleBrowser.recipesUsing(apple)"
   ]
  },
  {
   "cell_type": "code",
   "execution_count": 20,
   "id": "2e88e8be",
   "metadata": {},
   "outputs": [
    {
     "data": {
      "text/plain": [
       "defined \u001b[32mobject\u001b[39m \u001b[36mStudentDatabase\u001b[39m\n",
       "defined \u001b[32mobject\u001b[39m \u001b[36mStudentBrowser\u001b[39m"
      ]
     },
     "execution_count": 20,
     "metadata": {},
     "output_type": "execute_result"
    }
   ],
   "source": [
    "object StudentDatabase extends Database {\n",
    "\n",
    "  object FrozenFood extends Food(\"FrozenFood\")\n",
    "\n",
    "  object HeatItUp extends Recipe(\n",
    "    \"heat it up\",\n",
    "    List(FrozenFood),\n",
    "    \"Microwave the 'food' for 10 minutes.\")\n",
    "\n",
    "  def allFoods = List(FrozenFood)\n",
    "\n",
    "  def allRecipes = List(HeatItUp)\n",
    "\n",
    "  def allCategories = List(\n",
    "    FoodCategory(\"edible\", List(FrozenFood)))\n",
    "}\n",
    "\n",
    "object StudentBrowser extends Browser {\n",
    "  val database = StudentDatabase\n",
    "}"
   ]
  },
  {
   "cell_type": "markdown",
   "id": "e0c4f486",
   "metadata": {},
   "source": [
    "# 29.4 SPLITTING MODULES INTO TRAITS"
   ]
  },
  {
   "cell_type": "code",
   "execution_count": 21,
   "id": "521fe4b4",
   "metadata": {},
   "outputs": [
    {
     "data": {
      "text/plain": [
       "defined \u001b[32mtrait\u001b[39m \u001b[36mFoodCategories\u001b[39m"
      ]
     },
     "execution_count": 21,
     "metadata": {},
     "output_type": "execute_result"
    }
   ],
   "source": [
    "trait FoodCategories {\n",
    "  case class FoodCategory(name: String, foods: List[Food])\n",
    "\n",
    "  def allCategories: List[FoodCategory]\n",
    "}"
   ]
  },
  {
   "cell_type": "code",
   "execution_count": 22,
   "id": "4b5a97a2",
   "metadata": {},
   "outputs": [
    {
     "data": {
      "text/plain": [
       "defined \u001b[32mclass\u001b[39m \u001b[36mDatabase\u001b[39m"
      ]
     },
     "execution_count": 22,
     "metadata": {},
     "output_type": "execute_result"
    }
   ],
   "source": [
    "abstract class Database extends FoodCategories {\n",
    "  def allFoods: List[Food]\n",
    "\n",
    "  def allRecipes: List[Recipe]\n",
    "\n",
    "  def foodNamed(name: String) =\n",
    "    allFoods.find(f => f.name == name)\n",
    "}"
   ]
  },
  {
   "cell_type": "code",
   "execution_count": 23,
   "id": "d85a2b35",
   "metadata": {},
   "outputs": [
    {
     "data": {
      "text/plain": [
       "defined \u001b[32mtrait\u001b[39m \u001b[36mSimpleFoods\u001b[39m\n",
       "defined \u001b[32mtrait\u001b[39m \u001b[36mSimpleRecipes\u001b[39m\n",
       "defined \u001b[32mobject\u001b[39m \u001b[36mSimpleDatabase\u001b[39m"
      ]
     },
     "execution_count": 23,
     "metadata": {},
     "output_type": "execute_result"
    }
   ],
   "source": [
    "trait SimpleFoods {\n",
    "  object Pear extends Food(\"Pear\")\n",
    "  def allFoods = List(Apple, Pear)\n",
    "  def allCategories = Nil\n",
    "}\n",
    "\n",
    "trait SimpleRecipes {\n",
    "  this: SimpleFoods =>\n",
    "  \n",
    "  object FruitSalad extends Recipe(\n",
    "    \"fruit salad\",\n",
    "    List(Apple, Pear), // Now Pear is in scope\n",
    "    \"Mix it all together.\"\n",
    "  )\n",
    "  def allRecipes = List(FruitSalad)\n",
    "}\n",
    "\n",
    "object SimpleDatabase extends Database\n",
    "  with SimpleFoods with SimpleRecipes"
   ]
  },
  {
   "cell_type": "markdown",
   "id": "e2ba7418",
   "metadata": {},
   "source": [
    "# 29.5 RUNTIME LINKING"
   ]
  },
  {
   "cell_type": "code",
   "execution_count": 28,
   "id": "74dce63d",
   "metadata": {},
   "outputs": [
    {
     "name": "stdout",
     "output_type": "stream",
     "text": [
      "/// Food\n",
      "\n",
      "abstract class Food(val name: String) {\n",
      "  override def toString = name\n",
      "}\n",
      "\n",
      "/// Recipe\n",
      "\n",
      "class Recipe(\n",
      "  val name: String,\n",
      "  val ingredients: List[Food],\n",
      "  val instructions: String\n",
      ") {\n",
      "  override def toString = name\n",
      "}\n",
      "\n",
      "\n",
      "/// Database\n",
      "\n",
      "trait FoodCategories {\n",
      "  case class FoodCategory(name: String, foods: List[Food])\n",
      "\n",
      "  def allCategories: List[FoodCategory]\n",
      "}\n",
      "\n",
      "abstract class Database extends FoodCategories {\n",
      "  def allFoods: List[Food]\n",
      "\n",
      "  def allRecipes: List[Recipe]\n",
      "\n",
      "  def foodNamed(name: String) =\n",
      "    allFoods.find(f => f.name == name)\n",
      "}\n",
      "\n",
      "/// Browser\n",
      "\n",
      "abstract class Browser {\n",
      "  val database: Database\n",
      "\n",
      "  def recipesUsing(food: Food) =\n",
      "    database.allRecipes.filter(recipe =>\n",
      "      recipe.ingredients.contains(food))\n",
      "\n",
      "  def displayCategory(category: database.FoodCategory) = {\n",
      "    println(category)\n",
      "  }\n",
      "}\n",
      "\n",
      "/// StudentDatabase, StudentBrowser\n",
      "\n",
      "object StudentDatabase extends Database {\n",
      "\n",
      "  object FrozenFood extends Food(\"FrozenFood\")\n",
      "\n",
      "  object HeatItUp extends Recipe(\n",
      "    \"heat it up\",\n",
      "    List(FrozenFood),\n",
      "    \"Microwave the 'food' for 10 minutes.\")\n",
      "\n",
      "  def allFoods = List(FrozenFood)\n",
      "\n",
      "  def allRecipes = List(HeatItUp)\n",
      "\n",
      "  def allCategories = List(\n",
      "    FoodCategory(\"edible\", List(FrozenFood)))\n",
      "}\n",
      "\n",
      "object StudentBrowser extends Browser {\n",
      "  val database = StudentDatabase\n",
      "}\n",
      "\n",
      "/// SimpleDatabase\n",
      "\n",
      "trait SimpleFoods {\n",
      "  object Apple extends Food(\"Apple\")\n",
      "  object Pear extends Food(\"Pear\")\n",
      "  def allFoods = List(Apple, Pear)\n",
      "  def allCategories = Nil\n",
      "}\n",
      "\n",
      "trait SimpleRecipes {\n",
      "  this: SimpleFoods =>\n",
      "  \n",
      "  object FruitSalad extends Recipe(\n",
      "    \"fruit salad\",\n",
      "    List(Apple, Pear), // Now Pear is in scope\n",
      "    \"Mix it all together.\"\n",
      "  )\n",
      "  def allRecipes = List(FruitSalad)\n",
      "}\n",
      "\n",
      "object SimpleDatabase extends Database\n",
      "  with SimpleFoods with SimpleRecipes\n",
      "\n",
      "/// GotApples\n",
      "\n",
      "object GotApples {\n",
      "  def main(args: Array[String]) = {\n",
      "    val db: Database =\n",
      "      if(args(0) == \"student\")\n",
      "        StudentDatabase\n",
      "      else\n",
      "        SimpleDatabase\n",
      "\n",
      "    object browser extends Browser {\n",
      "      val database = db\n",
      "    }\n",
      "\n",
      "    val apple = SimpleDatabase.foodNamed(\"Apple\").get\n",
      "\n",
      "    for(recipe <- browser.recipesUsing(apple))\n",
      "      println(recipe)\n",
      "  }\n",
      "}\n"
     ]
    },
    {
     "data": {
      "text/plain": [
       "\u001b[32mimport \u001b[39m\u001b[36m$ivy.$                          \n",
       "\u001b[39m"
      ]
     },
     "execution_count": 28,
     "metadata": {},
     "output_type": "execute_result"
    }
   ],
   "source": [
    "import $ivy.`com.lihaoyi::os-lib:0.9.1`\n",
    "println(os.read(os.pwd / \"ch29\" / \"GotApples1.scala\"))"
   ]
  },
  {
   "cell_type": "code",
   "execution_count": 29,
   "id": "64eddd11",
   "metadata": {},
   "outputs": [
    {
     "data": {
      "text/plain": [
       "\u001b[36mres28\u001b[39m: \u001b[32mString\u001b[39m = \u001b[32m\"fruit salad\"\u001b[39m"
      ]
     },
     "execution_count": 29,
     "metadata": {},
     "output_type": "execute_result"
    }
   ],
   "source": [
    "os.proc(\"scala\", \"ch29/GotApples1.scala\" , \"simple\").call().out.trim()"
   ]
  },
  {
   "cell_type": "code",
   "execution_count": 30,
   "id": "666535fc",
   "metadata": {},
   "outputs": [
    {
     "data": {
      "text/plain": [
       "\u001b[36mres29\u001b[39m: \u001b[32mString\u001b[39m = \u001b[32m\"\"\u001b[39m"
      ]
     },
     "execution_count": 30,
     "metadata": {},
     "output_type": "execute_result"
    }
   ],
   "source": [
    "os.proc(\"scala\", \"ch29/GotApples1.scala\" , \"student\").call().out.trim()"
   ]
  },
  {
   "cell_type": "markdown",
   "id": "c6af1419",
   "metadata": {},
   "source": [
    "# 29.6 TRACKING MODULE INSTANCES"
   ]
  },
  {
   "cell_type": "code",
   "execution_count": 31,
   "id": "b85e4797",
   "metadata": {},
   "outputs": [
    {
     "data": {
      "text/plain": [
       "\u001b[36mcategory\u001b[39m: \u001b[32mStudentDatabase\u001b[39m.\u001b[32mFoodCategory\u001b[39m = \u001b[33mFoodCategory\u001b[39m(\n",
       "  name = \u001b[32m\"edible\"\u001b[39m,\n",
       "  foods = \u001b[33mList\u001b[39m(FrozenFood)\n",
       ")"
      ]
     },
     "execution_count": 31,
     "metadata": {},
     "output_type": "execute_result"
    }
   ],
   "source": [
    "val category = StudentDatabase.allCategories.head"
   ]
  },
  {
   "cell_type": "code",
   "execution_count": 31,
   "id": "99c29a4f",
   "metadata": {},
   "outputs": [
    {
     "name": "stderr",
     "output_type": "stream",
     "text": [
      "cmd31.sc:1: type mismatch;\n",
      " found   : ammonite.$sess.cmd30.wrapper.cmd19.StudentDatabase.FoodCategory\n",
      " required: cmd31.this.cmd17.SimpleBrowser.database.FoodCategory\n",
      "val res31 = SimpleBrowser.displayCategory(category)\n",
      "                                          ^Compilation Failed"
     ]
    },
    {
     "ename": "",
     "evalue": "",
     "output_type": "error",
     "traceback": [
      "Compilation Failed"
     ]
    }
   ],
   "source": [
    "// SimpleBrowser.displayCategory(category)"
   ]
  },
  {
   "cell_type": "code",
   "execution_count": 32,
   "id": "148b42cf",
   "metadata": {},
   "outputs": [
    {
     "name": "stdout",
     "output_type": "stream",
     "text": [
      "/// Food\n",
      "\n",
      "abstract class Food(val name: String) {\n",
      "  override def toString = name\n",
      "}\n",
      "\n",
      "/// Recipe\n",
      "\n",
      "class Recipe(\n",
      "  val name: String,\n",
      "  val ingredients: List[Food],\n",
      "  val instructions: String\n",
      ") {\n",
      "  override def toString = name\n",
      "}\n",
      "\n",
      "\n",
      "/// Database\n",
      "\n",
      "trait FoodCategories {\n",
      "  case class FoodCategory(name: String, foods: List[Food])\n",
      "\n",
      "  def allCategories: List[FoodCategory]\n",
      "}\n",
      "\n",
      "abstract class Database extends FoodCategories {\n",
      "  def allFoods: List[Food]\n",
      "\n",
      "  def allRecipes: List[Recipe]\n",
      "\n",
      "  def foodNamed(name: String) =\n",
      "    allFoods.find(f => f.name == name)\n",
      "}\n",
      "\n",
      "/// Browser\n",
      "\n",
      "abstract class Browser {\n",
      "  val database: Database\n",
      "\n",
      "  def recipesUsing(food: Food) =\n",
      "    database.allRecipes.filter(recipe =>\n",
      "      recipe.ingredients.contains(food))\n",
      "\n",
      "  def displayCategory(category: database.FoodCategory) = {\n",
      "    println(category)\n",
      "  }\n",
      "}\n",
      "\n",
      "/// StudentDatabase, StudentBrowser\n",
      "\n",
      "object StudentDatabase extends Database {\n",
      "\n",
      "  object FrozenFood extends Food(\"FrozenFood\")\n",
      "\n",
      "  object HeatItUp extends Recipe(\n",
      "    \"heat it up\",\n",
      "    List(FrozenFood),\n",
      "    \"Microwave the 'food' for 10 minutes.\")\n",
      "\n",
      "  def allFoods = List(FrozenFood)\n",
      "\n",
      "  def allRecipes = List(HeatItUp)\n",
      "\n",
      "  def allCategories = List(\n",
      "    FoodCategory(\"edible\", List(FrozenFood)))\n",
      "}\n",
      "\n",
      "object StudentBrowser extends Browser {\n",
      "  val database = StudentDatabase\n",
      "}\n",
      "\n",
      "/// SimpleDatabase\n",
      "\n",
      "trait SimpleFoods {\n",
      "  object Apple extends Food(\"Apple\")\n",
      "  object Pear extends Food(\"Pear\")\n",
      "  def allFoods = List(Apple, Pear)\n",
      "  def allCategories = Nil\n",
      "}\n",
      "\n",
      "trait SimpleRecipes {\n",
      "  this: SimpleFoods =>\n",
      "  \n",
      "  object FruitSalad extends Recipe(\n",
      "    \"fruit salad\",\n",
      "    List(Apple, Pear), // Now Pear is in scope\n",
      "    \"Mix it all together.\"\n",
      "  )\n",
      "  def allRecipes = List(FruitSalad)\n",
      "}\n",
      "\n",
      "object SimpleDatabase extends Database\n",
      "  with SimpleFoods with SimpleRecipes\n",
      "\n",
      "/// GotApples\n",
      "\n",
      "object GotApples {\n",
      "  def main(args: Array[String]) = {\n",
      "    val db: Database =\n",
      "      if(args(0) == \"student\")\n",
      "        StudentDatabase\n",
      "      else\n",
      "        SimpleDatabase\n",
      "\n",
      "    object browser extends Browser {\n",
      "      val database = db\n",
      "    }\n",
      "\n",
      "    val apple = SimpleDatabase.foodNamed(\"Apple\").get\n",
      "\n",
      "    for(recipe <- browser.recipesUsing(apple))\n",
      "      println(recipe)\n",
      "      \n",
      "    for (category <- db.allCategories)\n",
      "      browser.displayCategory(category)\n",
      "  }\n",
      "}\n"
     ]
    }
   ],
   "source": [
    "println(os.read(os.pwd / \"ch29\" / \"GotApples2.scala\"))"
   ]
  },
  {
   "cell_type": "code",
   "execution_count": 43,
   "id": "f70f5ec9",
   "metadata": {},
   "outputs": [
    {
     "ename": "",
     "evalue": "",
     "output_type": "error",
     "traceback": [
      "\u001b[31mos.SubprocessException: Result of scala…: 1\n\u001b[39m\n  os.proc.call(\u001b[32mProcessOps.scala\u001b[39m:\u001b[32m87\u001b[39m)\n  ammonite.$sess.cmd42$Helper.<init>(\u001b[32mcmd42.sc\u001b[39m:\u001b[32m1\u001b[39m)\n  ammonite.$sess.cmd42$.<clinit>(\u001b[32mcmd42.sc\u001b[39m:\u001b[32m7\u001b[39m)"
     ]
    }
   ],
   "source": [
    "os.proc(\"scala\", \"ch29/GotApples2.scala\" , \"simple\").call()"
   ]
  },
  {
   "cell_type": "code",
   "execution_count": 47,
   "id": "82e1364f",
   "metadata": {},
   "outputs": [
    {
     "name": "stdout",
     "output_type": "stream",
     "text": [
      "/// Food\n",
      "\n",
      "abstract class Food(val name: String) {\n",
      "  override def toString = name\n",
      "}\n",
      "\n",
      "/// Recipe\n",
      "\n",
      "class Recipe(\n",
      "  val name: String,\n",
      "  val ingredients: List[Food],\n",
      "  val instructions: String\n",
      ") {\n",
      "  override def toString = name\n",
      "}\n",
      "\n",
      "\n",
      "/// Database\n",
      "\n",
      "trait FoodCategories {\n",
      "  case class FoodCategory(name: String, foods: List[Food])\n",
      "\n",
      "  def allCategories: List[FoodCategory]\n",
      "}\n",
      "\n",
      "abstract class Database extends FoodCategories {\n",
      "  def allFoods: List[Food]\n",
      "\n",
      "  def allRecipes: List[Recipe]\n",
      "\n",
      "  def foodNamed(name: String) =\n",
      "    allFoods.find(f => f.name == name)\n",
      "}\n",
      "\n",
      "/// Browser\n",
      "\n",
      "abstract class Browser {\n",
      "  val database: Database\n",
      "\n",
      "  def recipesUsing(food: Food) =\n",
      "    database.allRecipes.filter(recipe =>\n",
      "      recipe.ingredients.contains(food))\n",
      "\n",
      "  def displayCategory(category: database.FoodCategory) = {\n",
      "    println(category)\n",
      "  }\n",
      "}\n",
      "\n",
      "/// StudentDatabase, StudentBrowser\n",
      "\n",
      "object StudentDatabase extends Database {\n",
      "\n",
      "  object FrozenFood extends Food(\"FrozenFood\")\n",
      "\n",
      "  object HeatItUp extends Recipe(\n",
      "    \"heat it up\",\n",
      "    List(FrozenFood),\n",
      "    \"Microwave the 'food' for 10 minutes.\")\n",
      "\n",
      "  def allFoods = List(FrozenFood)\n",
      "\n",
      "  def allRecipes = List(HeatItUp)\n",
      "\n",
      "  def allCategories = List(\n",
      "    FoodCategory(\"edible\", List(FrozenFood)))\n",
      "}\n",
      "\n",
      "object StudentBrowser extends Browser {\n",
      "  val database = StudentDatabase\n",
      "}\n",
      "\n",
      "/// SimpleDatabase\n",
      "\n",
      "trait SimpleFoods {\n",
      "  object Apple extends Food(\"Apple\")\n",
      "  object Pear extends Food(\"Pear\")\n",
      "  def allFoods = List(Apple, Pear)\n",
      "  def allCategories = Nil\n",
      "}\n",
      "\n",
      "trait SimpleRecipes {\n",
      "  this: SimpleFoods =>\n",
      "  \n",
      "  object FruitSalad extends Recipe(\n",
      "    \"fruit salad\",\n",
      "    List(Apple, Pear), // Now Pear is in scope\n",
      "    \"Mix it all together.\"\n",
      "  )\n",
      "  def allRecipes = List(FruitSalad)\n",
      "}\n",
      "\n",
      "object SimpleDatabase extends Database\n",
      "  with SimpleFoods with SimpleRecipes\n",
      "\n",
      "/// GotApples\n",
      "\n",
      "object GotApples {\n",
      "  def main(args: Array[String]) = {\n",
      "    val db: Database =\n",
      "      if(args(0) == \"student\")\n",
      "        StudentDatabase\n",
      "      else\n",
      "        SimpleDatabase\n",
      "\n",
      "    object browser extends Browser {\n",
      "      val database: db.type = db\n",
      "    }\n",
      "\n",
      "    val apple = SimpleDatabase.foodNamed(\"Apple\").get\n",
      "\n",
      "    for(recipe <- browser.recipesUsing(apple))\n",
      "      println(recipe)\n",
      "      \n",
      "    for (category <- db.allCategories)\n",
      "      browser.displayCategory(category)\n",
      "  }\n",
      "}\n"
     ]
    }
   ],
   "source": [
    "// val database: db.type = db\n",
    "println(os.read(os.pwd / \"ch29\" / \"GotApples2.scala\"))"
   ]
  },
  {
   "cell_type": "code",
   "execution_count": 49,
   "id": "7372e7fe",
   "metadata": {},
   "outputs": [
    {
     "data": {
      "text/plain": [
       "\u001b[36mres48\u001b[39m: \u001b[32mString\u001b[39m = \u001b[32m\"fruit salad\"\u001b[39m"
      ]
     },
     "execution_count": 49,
     "metadata": {},
     "output_type": "execute_result"
    }
   ],
   "source": [
    "os.proc(\"scala\", \"ch29/GotApples2.scala\" , \"simple\").call().out.trim()"
   ]
  },
  {
   "cell_type": "code",
   "execution_count": 50,
   "id": "032f5268",
   "metadata": {},
   "outputs": [
    {
     "data": {
      "text/plain": [
       "\u001b[36mres49\u001b[39m: \u001b[32mString\u001b[39m = \u001b[32m\"FoodCategory(edible,List(FrozenFood))\"\u001b[39m"
      ]
     },
     "execution_count": 50,
     "metadata": {},
     "output_type": "execute_result"
    }
   ],
   "source": [
    "os.proc(\"scala\", \"ch29/GotApples2.scala\" , \"student\").call().out.trim()"
   ]
  }
 ],
 "metadata": {
  "kernelspec": {
   "display_name": "Scala",
   "language": "scala",
   "name": "scala"
  },
  "language_info": {
   "codemirror_mode": "text/x-scala",
   "file_extension": ".sc",
   "mimetype": "text/x-scala",
   "name": "scala",
   "nbconvert_exporter": "script",
   "version": "2.12.17"
  },
  "toc": {
   "base_numbering": 1,
   "nav_menu": {},
   "number_sections": true,
   "sideBar": true,
   "skip_h1_title": false,
   "title_cell": "Table of Contents",
   "title_sidebar": "Contents",
   "toc_cell": false,
   "toc_position": {},
   "toc_section_display": true,
   "toc_window_display": false
  }
 },
 "nbformat": 4,
 "nbformat_minor": 5
}
