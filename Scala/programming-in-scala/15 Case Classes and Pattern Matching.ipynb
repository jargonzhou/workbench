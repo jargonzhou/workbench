{
 "cells": [
  {
   "cell_type": "markdown",
   "id": "593e513e",
   "metadata": {},
   "source": [
    "# A SIMPLE EXAMPLE"
   ]
  },
  {
   "cell_type": "code",
   "execution_count": null,
   "id": "cdbf4128",
   "metadata": {},
   "outputs": [],
   "source": []
  },
  {
   "cell_type": "markdown",
   "id": "42703bd3",
   "metadata": {},
   "source": [
    "# KINDS OF PATTERNS"
   ]
  },
  {
   "cell_type": "code",
   "execution_count": null,
   "id": "eebfed5a",
   "metadata": {},
   "outputs": [],
   "source": []
  },
  {
   "cell_type": "markdown",
   "id": "5f93410a",
   "metadata": {},
   "source": [
    "# PATTERN GUARDS"
   ]
  },
  {
   "cell_type": "code",
   "execution_count": null,
   "id": "2796d88a",
   "metadata": {},
   "outputs": [],
   "source": []
  },
  {
   "cell_type": "markdown",
   "id": "20c3ee99",
   "metadata": {},
   "source": [
    "# PATTERN OVERLAPS"
   ]
  },
  {
   "cell_type": "code",
   "execution_count": null,
   "id": "4a0b4614",
   "metadata": {},
   "outputs": [],
   "source": []
  },
  {
   "cell_type": "markdown",
   "id": "0e15abc8",
   "metadata": {},
   "source": [
    "# SEALED CLASSES"
   ]
  },
  {
   "cell_type": "code",
   "execution_count": null,
   "id": "8d0ee94f",
   "metadata": {},
   "outputs": [],
   "source": []
  },
  {
   "cell_type": "markdown",
   "id": "68e2c2d1",
   "metadata": {},
   "source": [
    "# THE OPTION TYPE"
   ]
  },
  {
   "cell_type": "code",
   "execution_count": null,
   "id": "640fca51",
   "metadata": {},
   "outputs": [],
   "source": []
  },
  {
   "cell_type": "markdown",
   "id": "d83e4646",
   "metadata": {},
   "source": [
    "# PATTERNS EVERYWHERE"
   ]
  },
  {
   "cell_type": "code",
   "execution_count": null,
   "id": "178e4e53",
   "metadata": {},
   "outputs": [],
   "source": []
  },
  {
   "cell_type": "markdown",
   "id": "9270d39e",
   "metadata": {},
   "source": [
    "# A LARGER EXAMPLE"
   ]
  },
  {
   "cell_type": "code",
   "execution_count": 1,
   "id": "65fa7baa",
   "metadata": {},
   "outputs": [
    {
     "data": {
      "text/plain": [
       "defined \u001b[32mclass\u001b[39m \u001b[36mElement\u001b[39m\n",
       "defined \u001b[32mobject\u001b[39m \u001b[36mElement\u001b[39m"
      ]
     },
     "execution_count": 1,
     "metadata": {},
     "output_type": "execute_result"
    }
   ],
   "source": [
    "// layout abstraction in chapter 10\n",
    "\n",
    "abstract class Element {\n",
    "  import Element.elem\n",
    "    \n",
    "  def contents: Array[String]\n",
    "  def width: Int =\n",
    "    if (height == 0) 0 else contents(0).length\n",
    "  def height: Int = contents.length\n",
    "  \n",
    "  def above(that: Element): Element = {\n",
    "    val this1 = this widen that.width\n",
    "    val that1 = that widen this.width\n",
    "    elem(this1.contents ++ that1.contents)\n",
    "  }\n",
    "\n",
    "  def beside(that: Element): Element = {\n",
    "    val this1 = this heighten that.height\n",
    "    val that1 = that heighten this.height\n",
    "    elem(\n",
    "      for ((line1, line2) <- this1.contents zip that1.contents)\n",
    "      yield line1 + line2)\n",
    "  }\n",
    "  \n",
    "  def widen(w: Int): Element =\n",
    "    if (w <= width) this\n",
    "    else {\n",
    "      val left = elem(' ', (w - width) / 2, height)\n",
    "      val right = elem(' ', w - width - left.width, height)\n",
    "      left beside this beside right\n",
    "    }\n",
    "  \n",
    "  def heighten(h: Int): Element =\n",
    "    if (h <= height) this\n",
    "    else {\n",
    "      val top = elem(' ', width, (h - height) / 2)\n",
    "      val bot = elem(' ', width, h - height - top.height)\n",
    "      top above this above bot\n",
    "    }\n",
    "    \n",
    "  override def toString = contents mkString \"\\n\"\n",
    "}\n",
    "\n",
    "object Element {\n",
    "  private class ArrayElement(\n",
    "  val contents: Array[String]\n",
    ") extends Element\n",
    "\n",
    "  private class LineElement(s: String) extends Element {\n",
    "    val contents = Array(s)\n",
    "    override def width = s.length\n",
    "    override def height = 1\n",
    "  }\n",
    "\n",
    "  private class UniformElement(\n",
    "    ch: Char,\n",
    "    override val width: Int,\n",
    "    override val height: Int\n",
    "  ) extends Element {\n",
    "    private val line = ch.toString * width\n",
    "    def contents = Array.fill(height)(line)\n",
    "  }\n",
    "\n",
    "  def elem(contents: Array[String]): Element =\n",
    "    new ArrayElement(contents)\n",
    "  def elem(chr: Char, width: Int, height: Int): Element =\n",
    "    new UniformElement(chr, width, height)\n",
    "  def elem(line: String): Element =\n",
    "    new LineElement(line)\n",
    "}"
   ]
  },
  {
   "cell_type": "code",
   "execution_count": 2,
   "id": "c55a81d2",
   "metadata": {},
   "outputs": [
    {
     "data": {
      "text/plain": [
       "defined \u001b[32mclass\u001b[39m \u001b[36mExpr\u001b[39m\n",
       "defined \u001b[32mclass\u001b[39m \u001b[36mVar\u001b[39m\n",
       "defined \u001b[32mclass\u001b[39m \u001b[36mNumber\u001b[39m\n",
       "defined \u001b[32mclass\u001b[39m \u001b[36mUnOp\u001b[39m\n",
       "defined \u001b[32mclass\u001b[39m \u001b[36mBinOp\u001b[39m"
      ]
     },
     "execution_count": 2,
     "metadata": {},
     "output_type": "execute_result"
    }
   ],
   "source": [
    "// expression\n",
    "sealed abstract class Expr\n",
    "case class Var(name: String) extends Expr\n",
    "case class Number(num: Double) extends Expr\n",
    "case class UnOp(operator: String, arg: Expr) extends Expr\n",
    "case class BinOp(operator: String, left: Expr, right: Expr) extends Expr"
   ]
  },
  {
   "cell_type": "code",
   "execution_count": 3,
   "id": "8b4b77c1",
   "metadata": {},
   "outputs": [
    {
     "data": {
      "text/plain": [
       "defined \u001b[32mclass\u001b[39m \u001b[36mExprFormatter\u001b[39m"
      ]
     },
     "execution_count": 3,
     "metadata": {},
     "output_type": "execute_result"
    }
   ],
   "source": [
    "// expression formatter\n",
    "\n",
    "class ExprFormatter {\n",
    "    private val opGroups = \n",
    "        Array(\n",
    "            Set(\"|\", \"||\"),\n",
    "            Set(\"&\", \"&&\"),\n",
    "            Set(\"^\"),\n",
    "            Set(\"==\", \"!=\"),\n",
    "            Set(\"<\", \"<=\", \">\", \">=\"),\n",
    "            Set(\"+\", \"-\"),\n",
    "            Set(\"*\", \"%\"))\n",
    "    \n",
    "    private val precedence = {\n",
    "        val assocs = for {\n",
    "            i <- 0 until opGroups.length\n",
    "            op <- opGroups(i)\n",
    "        } yield op -> i\n",
    "        assocs.toMap\n",
    "    }\n",
    "    \n",
    "    private val unaryPrecedence = opGroups.length\n",
    "    private val fractionPrecedence = -1\n",
    "    \n",
    "    private def format(e: Expr, enclPrec: Int): Element = {\n",
    "        import Element.elem\n",
    "        e match {\n",
    "            case Var(name) =>\n",
    "                elem(name)\n",
    "            case Number(num) =>\n",
    "                def stripDot(s: String) = \n",
    "                    if (s endsWith \".0\") s.substring(0, s.length - 2)\n",
    "                    else s\n",
    "                elem(stripDot(num.toString))\n",
    "            case UnOp(op, arg) =>\n",
    "                elem(op) beside format(arg, unaryPrecedence)\n",
    "            case BinOp(\"/\", left, right) =>\n",
    "                val top = format(left, fractionPrecedence)\n",
    "                val bot = format(right, fractionPrecedence)\n",
    "                val line = elem('-', top.width max bot.width, 1)\n",
    "                val frac = top above line above bot\n",
    "                if (enclPrec != fractionPrecedence) frac\n",
    "                else elem(\" \") beside frac beside elem(\" \")\n",
    "            case BinOp(op, left, right) =>\n",
    "                val opPrec = precedence(op)\n",
    "                val l = format(left, opPrec)\n",
    "                val r = format(right, opPrec + 1)\n",
    "                val oper = l beside elem(\" \" + op + \" \") beside r\n",
    "                if (enclPrec <= opPrec) oper\n",
    "                else elem(\"(\") beside oper beside elem(\")\")\n",
    "        }\n",
    "    }\n",
    "    \n",
    "    def format(e: Expr): Element = format(e, 0)\n",
    "}"
   ]
  },
  {
   "cell_type": "code",
   "execution_count": 4,
   "id": "c45f9c5d",
   "metadata": {},
   "outputs": [
    {
     "data": {
      "text/plain": [
       "\u001b[36mf\u001b[39m: \u001b[32mExprFormatter\u001b[39m = ammonite.$sess.cmd2$Helper$ExprFormatter@191681f7\n",
       "\u001b[36me1\u001b[39m: \u001b[32mBinOp\u001b[39m = \u001b[33mBinOp\u001b[39m(\n",
       "  \u001b[32m\"*\"\u001b[39m,\n",
       "  \u001b[33mBinOp\u001b[39m(\u001b[32m\"/\"\u001b[39m, \u001b[33mNumber\u001b[39m(\u001b[32m1.0\u001b[39m), \u001b[33mNumber\u001b[39m(\u001b[32m2.0\u001b[39m)),\n",
       "  \u001b[33mBinOp\u001b[39m(\u001b[32m\"+\"\u001b[39m, \u001b[33mVar\u001b[39m(\u001b[32m\"x\"\u001b[39m), \u001b[33mNumber\u001b[39m(\u001b[32m1.0\u001b[39m))\n",
       ")\n",
       "\u001b[36me2\u001b[39m: \u001b[32mBinOp\u001b[39m = \u001b[33mBinOp\u001b[39m(\n",
       "  \u001b[32m\"*\"\u001b[39m,\n",
       "  \u001b[33mBinOp\u001b[39m(\u001b[32m\"/\"\u001b[39m, \u001b[33mVar\u001b[39m(\u001b[32m\"x\"\u001b[39m), \u001b[33mNumber\u001b[39m(\u001b[32m2.0\u001b[39m)),\n",
       "  \u001b[33mBinOp\u001b[39m(\u001b[32m\"/\"\u001b[39m, \u001b[33mNumber\u001b[39m(\u001b[32m1.5\u001b[39m), \u001b[33mVar\u001b[39m(\u001b[32m\"x\"\u001b[39m))\n",
       ")\n",
       "\u001b[36me3\u001b[39m: \u001b[32mBinOp\u001b[39m = \u001b[33mBinOp\u001b[39m(\n",
       "  \u001b[32m\"/\"\u001b[39m,\n",
       "  \u001b[33mBinOp\u001b[39m(\n",
       "    \u001b[32m\"*\"\u001b[39m,\n",
       "    \u001b[33mBinOp\u001b[39m(\u001b[32m\"/\"\u001b[39m, \u001b[33mNumber\u001b[39m(\u001b[32m1.0\u001b[39m), \u001b[33mNumber\u001b[39m(\u001b[32m2.0\u001b[39m)),\n",
       "    \u001b[33mBinOp\u001b[39m(\u001b[32m\"+\"\u001b[39m, \u001b[33mVar\u001b[39m(\u001b[32m\"x\"\u001b[39m), \u001b[33mNumber\u001b[39m(\u001b[32m1.0\u001b[39m))\n",
       "  ),\n",
       "  \u001b[33mBinOp\u001b[39m(\n",
       "    \u001b[32m\"*\"\u001b[39m,\n",
       "    \u001b[33mBinOp\u001b[39m(\u001b[32m\"/\"\u001b[39m, \u001b[33mVar\u001b[39m(\u001b[32m\"x\"\u001b[39m), \u001b[33mNumber\u001b[39m(\u001b[32m2.0\u001b[39m)),\n",
       "    \u001b[33mBinOp\u001b[39m(\u001b[32m\"/\"\u001b[39m, \u001b[33mNumber\u001b[39m(\u001b[32m1.5\u001b[39m), \u001b[33mVar\u001b[39m(\u001b[32m\"x\"\u001b[39m))\n",
       "  )\n",
       ")"
      ]
     },
     "execution_count": 4,
     "metadata": {},
     "output_type": "execute_result"
    }
   ],
   "source": [
    "val f = new ExprFormatter\n",
    "val e1 = BinOp(\"*\", BinOp(\"/\", Number(1), Number(2)),\n",
    "               BinOp(\"+\", Var(\"x\"), Number(1)))\n",
    "val e2 = BinOp(\"*\", BinOp(\"/\", Var(\"x\"), Number(2)),\n",
    "               BinOp(\"/\", Number(1.5), Var(\"x\")))\n",
    "val e3 = BinOp(\"/\", e1, e2)"
   ]
  },
  {
   "cell_type": "code",
   "execution_count": 5,
   "id": "7479adb0",
   "metadata": {},
   "outputs": [
    {
     "name": "stdout",
     "output_type": "stream",
     "text": [
      "1          \n",
      "- * (x + 1)\n",
      "2          \n",
      "x   1.5\n",
      "- * ---\n",
      "2    x \n",
      "1          \n",
      "- * (x + 1)\n",
      "2          \n",
      "-----------\n",
      "  x   1.5  \n",
      "  - * ---  \n",
      "  2    x   \n"
     ]
    }
   ],
   "source": [
    "for (e <- Array(e1, e2, e3))\n",
    "    println(f.format(e))"
   ]
  }
 ],
 "metadata": {
  "kernelspec": {
   "display_name": "Scala",
   "language": "scala",
   "name": "scala"
  },
  "language_info": {
   "codemirror_mode": "text/x-scala",
   "file_extension": ".sc",
   "mimetype": "text/x-scala",
   "name": "scala",
   "nbconvert_exporter": "script",
   "version": "2.12.17"
  },
  "toc": {
   "base_numbering": 1,
   "nav_menu": {},
   "number_sections": true,
   "sideBar": true,
   "skip_h1_title": false,
   "title_cell": "Table of Contents",
   "title_sidebar": "Contents",
   "toc_cell": false,
   "toc_position": {},
   "toc_section_display": true,
   "toc_window_display": false
  }
 },
 "nbformat": 4,
 "nbformat_minor": 5
}
