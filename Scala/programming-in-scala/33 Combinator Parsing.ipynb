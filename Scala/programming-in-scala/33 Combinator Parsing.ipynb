{
 "cells": [
  {
   "cell_type": "markdown",
   "id": "619ecee3",
   "metadata": {},
   "source": [
    "# 1 EXAMPLE: ARITHMETIC EXPRESSIONS"
   ]
  },
  {
   "cell_type": "markdown",
   "id": "d471c2e0",
   "metadata": {},
   "source": [
    "```BNF\n",
    "expr ::= term \\{\"+\" term | \"-\" term\\}.\n",
    "term ::= factor \\{\"*\" factor | \"/\" factor\\}.\n",
    "factor ::= floatingPointNumber | \"(\" expr \")\".\n",
    "```"
   ]
  },
  {
   "cell_type": "code",
   "execution_count": 1,
   "id": "0bc145c5",
   "metadata": {},
   "outputs": [
    {
     "data": {
      "text/plain": [
       "\u001b[32mimport \u001b[39m\u001b[36m$ivy.$                                                           \n",
       "\n",
       "\u001b[39m\n",
       "\u001b[32mimport \u001b[39m\u001b[36mscala.util.parsing.combinator._\u001b[39m"
      ]
     },
     "execution_count": 1,
     "metadata": {},
     "output_type": "execute_result"
    }
   ],
   "source": [
    "import $ivy.`org.scala-lang.modules:scala-parser-combinators_2.12:2.3.0`\n",
    "\n",
    "import scala.util.parsing.combinator._"
   ]
  },
  {
   "cell_type": "markdown",
   "id": "dba3117f",
   "metadata": {},
   "source": [
    "- Code: https://github.com/scala/scala-parser-combinators\n",
    "- 2.3.0 API: https://javadoc.io/static/org.scala-lang.modules/scala-parser-combinators_2.12/2.3.0/scala/util/parsing/combinator/index.html"
   ]
  },
  {
   "cell_type": "code",
   "execution_count": 2,
   "id": "13e2c8a2",
   "metadata": {},
   "outputs": [
    {
     "data": {
      "text/plain": [
       "defined \u001b[32mclass\u001b[39m \u001b[36mArith\u001b[39m"
      ]
     },
     "execution_count": 2,
     "metadata": {},
     "output_type": "execute_result"
    }
   ],
   "source": [
    "class Arith extends JavaTokenParsers {\n",
    "    def expr: Parser[Any] = term ~ rep(\"+\" ~ term | \"-\" ~ term)\n",
    "    def term: Parser[Any] = factor ~ rep(\"*\" ~ factor | \"/\" ~ factor)\n",
    "    def factor: Parser[Any] = floatingPointNumber | \"(\" ~ expr ~ \")\"\n",
    "}"
   ]
  },
  {
   "cell_type": "markdown",
   "id": "06f31a60",
   "metadata": {},
   "source": [
    "# 2 RUNNING YOUR PARSER"
   ]
  },
  {
   "cell_type": "code",
   "execution_count": 3,
   "id": "05f1c1a1",
   "metadata": {},
   "outputs": [
    {
     "data": {
      "text/plain": [
       "\u001b[36marith\u001b[39m: \u001b[32mArith\u001b[39m = ammonite.$sess.cmd1$Helper$Arith@2719f805"
      ]
     },
     "execution_count": 3,
     "metadata": {},
     "output_type": "execute_result"
    }
   ],
   "source": [
    "val arith = new Arith"
   ]
  },
  {
   "cell_type": "code",
   "execution_count": 4,
   "id": "fa16ad1a",
   "metadata": {},
   "outputs": [
    {
     "data": {
      "text/plain": [
       "\u001b[36minput\u001b[39m: \u001b[32mString\u001b[39m = \u001b[32m\"2 * (3 + 7)\"\u001b[39m\n",
       "\u001b[36mres3_1\u001b[39m: \u001b[32marith\u001b[39m.\u001b[32mParseResult\u001b[39m[\u001b[32mAny\u001b[39m] = \u001b[33mSuccess\u001b[39m(\n",
       "  \u001b[32m\"2\"\u001b[39m ~ \u001b[33mList\u001b[39m(\u001b[32m\"*\"\u001b[39m ~ \u001b[32m\"(\"\u001b[39m ~ \u001b[32m\"3\"\u001b[39m ~ \u001b[33mList\u001b[39m() ~ \u001b[33mList\u001b[39m(\u001b[32m\"+\"\u001b[39m ~ \u001b[32m\"7\"\u001b[39m ~ \u001b[33mList\u001b[39m()) ~ \u001b[32m\")\"\u001b[39m) ~ \u001b[33mList\u001b[39m(),\n",
       "  CharSequenceReader()\n",
       ")"
      ]
     },
     "execution_count": 4,
     "metadata": {},
     "output_type": "execute_result"
    }
   ],
   "source": [
    "val input = \"2 * (3 + 7)\"\n",
    "arith.parseAll(arith.expr, input)"
   ]
  },
  {
   "cell_type": "code",
   "execution_count": 5,
   "id": "395a93bb",
   "metadata": {},
   "outputs": [
    {
     "name": "stdout",
     "output_type": "stream",
     "text": [
      "[1.12] failure: '/' expected but ')' found\n",
      "\n",
      "2 * (3 + 7))\n",
      "           ^\n"
     ]
    },
    {
     "data": {
      "text/plain": [
       "\u001b[36minput\u001b[39m: \u001b[32mString\u001b[39m = \u001b[32m\"2 * (3 + 7))\"\u001b[39m"
      ]
     },
     "execution_count": 5,
     "metadata": {},
     "output_type": "execute_result"
    }
   ],
   "source": [
    "val input = \"2 * (3 + 7))\"\n",
    "println(arith.parseAll(arith.expr, input))"
   ]
  },
  {
   "cell_type": "markdown",
   "id": "0498c3f8",
   "metadata": {},
   "source": [
    "# 3 BASIC REGULAR EXPRESSION PARSERS"
   ]
  },
  {
   "cell_type": "code",
   "execution_count": 6,
   "id": "747777b9",
   "metadata": {},
   "outputs": [
    {
     "data": {
      "text/plain": [
       "defined \u001b[32mobject\u001b[39m \u001b[36mMyParsers\u001b[39m\n",
       "\u001b[36mres5_1\u001b[39m: \u001b[32mMyParsers\u001b[39m.\u001b[32mParseResult\u001b[39m[\u001b[32mString\u001b[39m] = \u001b[33mSuccess\u001b[39m(\u001b[32m\"abd\"\u001b[39m, CharSequenceReader())"
      ]
     },
     "execution_count": 6,
     "metadata": {},
     "output_type": "execute_result"
    }
   ],
   "source": [
    "object MyParsers extends RegexParsers {\n",
    "    def ident = \"\"\"[a-zA-Z_]\\w*\"\"\".r\n",
    "}\n",
    "\n",
    "MyParsers.parseAll(MyParsers.ident, \"abd\")"
   ]
  },
  {
   "cell_type": "markdown",
   "id": "03dd032a",
   "metadata": {},
   "source": [
    "# 4 ANOTHER EXAMPLE: JSON"
   ]
  },
  {
   "cell_type": "markdown",
   "id": "5a919e9f",
   "metadata": {},
   "source": [
    "```BNF\n",
    "value ::= obj | arr | stringLiteral |\n",
    "    floatingPointNumber |\n",
    "    \"null\" | \"true\" | \"false\".\n",
    "obj ::= \"{\" [members] \"}\".\n",
    "arr ::= \"[\" [values] \"]\".\n",
    "members ::= member \\{\",\" member\\}.\n",
    "member ::= stringLiteral \":\" value.\n",
    "values ::= value \\{\",\" value\\}.\n",
    "```"
   ]
  },
  {
   "cell_type": "code",
   "execution_count": 7,
   "id": "079b04d9",
   "metadata": {},
   "outputs": [
    {
     "data": {
      "text/plain": [
       "\u001b[36mjsonData\u001b[39m: \u001b[32mString\u001b[39m = \u001b[32m\"\"\"{\n",
       "     \"address book\": {\n",
       "         \"name\": \"John Smith\",\n",
       "         \"address\": {\n",
       "             \"street\": \"10 Market Street\",\n",
       "             \"city\" : \"San Francisco, CA\",\n",
       "             \"zip\" : 94111\n",
       "         },\n",
       "         \"phone numbers\": [\n",
       "             \"408 338-4238\",\n",
       "             \"408 111-6892\"\n",
       "         ]\n",
       "     }\n",
       " }\"\"\"\u001b[39m"
      ]
     },
     "execution_count": 7,
     "metadata": {},
     "output_type": "execute_result"
    }
   ],
   "source": [
    "val jsonData = \"\"\"{\n",
    "     \"address book\": {\n",
    "         \"name\": \"John Smith\",\n",
    "         \"address\": {\n",
    "             \"street\": \"10 Market Street\",\n",
    "             \"city\" : \"San Francisco, CA\",\n",
    "             \"zip\" : 94111\n",
    "         },\n",
    "         \"phone numbers\": [\n",
    "             \"408 338-4238\",\n",
    "             \"408 111-6892\"\n",
    "         ]\n",
    "     }\n",
    " }\"\"\""
   ]
  },
  {
   "cell_type": "code",
   "execution_count": 8,
   "id": "13dadb32",
   "metadata": {},
   "outputs": [
    {
     "data": {
      "text/plain": [
       "\u001b[32mimport \u001b[39m\u001b[36mscala.util.parsing.combinator._\n",
       "\n",
       "\u001b[39m\n",
       "defined \u001b[32mclass\u001b[39m \u001b[36mJSON\u001b[39m"
      ]
     },
     "execution_count": 8,
     "metadata": {},
     "output_type": "execute_result"
    }
   ],
   "source": [
    "import scala.util.parsing.combinator._\n",
    "\n",
    "class JSON extends JavaTokenParsers {\n",
    "    def value: Parser[Any] \n",
    "    = (obj\n",
    "       | arr\n",
    "       | stringLiteral\n",
    "       | floatingPointNumber\n",
    "       | \"null\"\n",
    "       | \"true\"\n",
    "       | \"false\")\n",
    "    def obj: Parser[Any] = \"{\" ~ members ~ \"}\"\n",
    "    def arr: Parser[Any] = \"[\" ~ values ~ \"]\"\n",
    "    def members: Parser[Any] = repsep(member, \",\")\n",
    "    def member: Parser[Any] = stringLiteral ~ \":\" ~ value\n",
    "    def values: Parser[Any] = repsep(value, \",\")\n",
    "}"
   ]
  },
  {
   "cell_type": "code",
   "execution_count": 9,
   "id": "4e651e0a",
   "metadata": {},
   "outputs": [
    {
     "data": {
      "text/plain": [
       "\u001b[36mjsonParsers\u001b[39m: \u001b[32mJSON\u001b[39m = ammonite.$sess.cmd7$Helper$JSON@5e175161\n",
       "\u001b[36mres8_1\u001b[39m: \u001b[32mjsonParsers\u001b[39m.\u001b[32mParseResult\u001b[39m[\u001b[32mAny\u001b[39m] = \u001b[33mSuccess\u001b[39m(\n",
       "  \u001b[32m\"{\"\u001b[39m ~ \u001b[33mList\u001b[39m(\n",
       "    \u001b[32m\"\\\"address book\\\"\"\u001b[39m ~ \u001b[32m\":\"\u001b[39m ~ \u001b[32m\"{\"\u001b[39m ~ \u001b[33mList\u001b[39m(\n",
       "      \u001b[32m\"\\\"name\\\"\"\u001b[39m ~ \u001b[32m\":\"\u001b[39m ~ \u001b[32m\"\\\"John Smith\\\"\"\u001b[39m,\n",
       "      \u001b[32m\"\\\"address\\\"\"\u001b[39m ~ \u001b[32m\":\"\u001b[39m ~ \u001b[32m\"{\"\u001b[39m ~ \u001b[33mList\u001b[39m(\n",
       "        \u001b[32m\"\\\"street\\\"\"\u001b[39m ~ \u001b[32m\":\"\u001b[39m ~ \u001b[32m\"\\\"10 Market Street\\\"\"\u001b[39m,\n",
       "        \u001b[32m\"\\\"city\\\"\"\u001b[39m ~ \u001b[32m\":\"\u001b[39m ~ \u001b[32m\"\\\"San Francisco, CA\\\"\"\u001b[39m,\n",
       "        \u001b[32m\"\\\"zip\\\"\"\u001b[39m ~ \u001b[32m\":\"\u001b[39m ~ \u001b[32m\"94111\"\u001b[39m\n",
       "      ) ~ \u001b[32m\"}\"\u001b[39m,\n",
       "      \u001b[32m\"\\\"phone numbers\\\"\"\u001b[39m ~ \u001b[32m\":\"\u001b[39m ~ \u001b[32m\"[\"\u001b[39m ~ \u001b[33mList\u001b[39m(\u001b[32m\"\\\"408 338-4238\\\"\"\u001b[39m, \u001b[32m\"\\\"408 111-6892\\\"\"\u001b[39m) ~ \u001b[32m\"]\"\u001b[39m\n",
       "    ) ~ \u001b[32m\"}\"\u001b[39m\n",
       "  ) ~ \u001b[32m\"}\"\u001b[39m,\n",
       "  CharSequenceReader()\n",
       ")"
      ]
     },
     "execution_count": 9,
     "metadata": {},
     "output_type": "execute_result"
    }
   ],
   "source": [
    "val jsonParsers = new JSON\n",
    "jsonParsers.parseAll(jsonParsers.value, jsonData)"
   ]
  },
  {
   "cell_type": "markdown",
   "id": "13f0824e",
   "metadata": {},
   "source": [
    "# 5 PARSER OUTPUT"
   ]
  },
  {
   "cell_type": "code",
   "execution_count": 10,
   "id": "751107e8",
   "metadata": {},
   "outputs": [
    {
     "data": {
      "text/plain": [
       "\u001b[32mimport \u001b[39m\u001b[36mscala.util.parsing.combinator._\n",
       "\n",
       "\u001b[39m\n",
       "defined \u001b[32mclass\u001b[39m \u001b[36mJSON\u001b[39m\n",
       "\u001b[36mjsonParsers\u001b[39m: \u001b[32mJSON\u001b[39m = ammonite.$sess.cmd9$Helper$JSON@14ef7b11\n",
       "\u001b[36mres9_3\u001b[39m: \u001b[32mjsonParsers\u001b[39m.\u001b[32mParseResult\u001b[39m[\u001b[32mAny\u001b[39m] = \u001b[33mSuccess\u001b[39m(\n",
       "  \u001b[33mMap\u001b[39m(\n",
       "    \u001b[32m\"\\\"address book\\\"\"\u001b[39m -> \u001b[33mMap\u001b[39m(\n",
       "      \u001b[32m\"\\\"name\\\"\"\u001b[39m -> \u001b[32m\"\\\"John Smith\\\"\"\u001b[39m,\n",
       "      \u001b[32m\"\\\"address\\\"\"\u001b[39m -> \u001b[33mMap\u001b[39m(\n",
       "        \u001b[32m\"\\\"street\\\"\"\u001b[39m -> \u001b[32m\"\\\"10 Market Street\\\"\"\u001b[39m,\n",
       "        \u001b[32m\"\\\"city\\\"\"\u001b[39m -> \u001b[32m\"\\\"San Francisco, CA\\\"\"\u001b[39m,\n",
       "        \u001b[32m\"\\\"zip\\\"\"\u001b[39m -> \u001b[32m94111.0\u001b[39m\n",
       "      ),\n",
       "      \u001b[32m\"\\\"phone numbers\\\"\"\u001b[39m -> \u001b[33mList\u001b[39m(\u001b[32m\"\\\"408 338-4238\\\"\"\u001b[39m, \u001b[32m\"\\\"408 111-6892\\\"\"\u001b[39m)\n",
       "    )\n",
       "  ),\n",
       "  CharSequenceReader()\n",
       ")"
      ]
     },
     "execution_count": 10,
     "metadata": {},
     "output_type": "execute_result"
    }
   ],
   "source": [
    "import scala.util.parsing.combinator._\n",
    "\n",
    "class JSON extends JavaTokenParsers {\n",
    "\n",
    "    def obj: Parser[Map[String, Any]] = \"{\" ~> members <~ \"}\" ^^ ( Map() ++ _)\n",
    "    \n",
    "    def arr: Parser[List[Any]] = \"[\"~> values <~\"]\"\n",
    "    \n",
    "    def members: Parser[Map[String, Any]] = repsep(member, \",\") ^^ (_.toMap)\n",
    "    \n",
    "    def member: Parser[(String, Any)] = stringLiteral ~ \":\" ~ value ^^ {\n",
    "        case key ~ \":\" ~ v => (key, v)\n",
    "    }\n",
    "    \n",
    "    def values: Parser[List[Any]] = repsep(value, \",\")\n",
    "        \n",
    "    def value: Parser[Any] = (\n",
    "        obj\n",
    "        | arr\n",
    "        | stringLiteral\n",
    "        | floatingPointNumber ^^ (_.toDouble)\n",
    "        | \"null\" ^^ (x => null)\n",
    "        | \"true\" ^^ (x => true)\n",
    "        | \"false\" ^^ (x => false)\n",
    "    )\n",
    "}\n",
    "\n",
    "val jsonParsers = new JSON\n",
    "jsonParsers.parseAll(jsonParsers.value, jsonData)"
   ]
  },
  {
   "cell_type": "markdown",
   "id": "5d5a97ae",
   "metadata": {},
   "source": [
    "Table 33.1 - Summary of parser combinators\n",
    "\n",
    "- `\"...\"`: literal\n",
    "- `\"...\".r`: regular expression\n",
    "- `P~Q`: sequential composition\n",
    "- `P <~ Q`, `P ~> Q`: sequential composition; keep left/right only\n",
    "- `P | Q`: alternative\n",
    "- `opt(P)`: option\n",
    "- `rep(P)`: repetition\n",
    "- `repsep(P, Q)`: interleaved repetition\n",
    "- `P ^^ f`: result conversion\n"
   ]
  },
  {
   "cell_type": "markdown",
   "id": "838b1853",
   "metadata": {},
   "source": [
    "# 6 IMPLEMENTING COMBINATOR PARSERS"
   ]
  },
  {
   "cell_type": "markdown",
   "id": "c2cc3d12",
   "metadata": {},
   "source": [
    "```scala\n",
    "package scala.util.parsing.combinator\n",
    "\n",
    "trait Parsers {\n",
    "    type Elem\n",
    "    type Input = Reader[Elem]\n",
    "    \n",
    "    sealed abstract class ParseResult[+T]\n",
    "    case class Success[T](result: T, in: Input) extends ParseResult[T]\n",
    "    sealed abstract class NoSuccess extends ParseResult[Nothing]\n",
    "    case class Failure(msg: String, next: Input) extends NoSuccess\n",
    "    case class Error(msg: String, next: Input) extends NoSuccess\n",
    "    \n",
    "    abstract class Parser[+T] extends (Input) ⇒ ParseResult[T] {\n",
    "        def ~[U](q: ⇒ Parser[U]): Parser[~[T, U]]\n",
    "        def <~[U](q: ⇒ Parser[U]): Parser[T]\n",
    "        def ~>[U](q: ⇒ Parser[U]): Parser[U]\n",
    "        def |[U >: T](q: ⇒ Parser[U]): Parser[U]\n",
    "        def ^^[U](f: (T) ⇒ U): Parser[U]\n",
    "    }\n",
    "    \n",
    "    trait OnceParser[+T] extends Parser[T]\n",
    "    \n",
    "    case class ~[+a, +b](_1: a, _2: b)\n",
    "    \n",
    "    def elem(e: Elem): Parser[Elem]\n",
    "    def success[T](v: T): Parser[T]\n",
    "    def failure(msg: String): Parser[Nothing]\n",
    "    def opt[T](p: ⇒ Parser[T]): Parser[Option[T]]\n",
    "    def rep[T](p: ⇒ Parser[T]): Parser[List[T]]\n",
    "    def repsep[T](p: ⇒ Parser[T], q: ⇒ Parser[Any]): Parser[List[T]]\n",
    "}\n",
    "```\n",
    "\n",
    "```scala\n",
    "package scala.util.parsing.input\n",
    "\n",
    "abstract class Reader[+T]\n",
    "```"
   ]
  },
  {
   "cell_type": "markdown",
   "id": "7b1655af",
   "metadata": {},
   "source": [
    "Dealing with recursion\n",
    "\n",
    "```scala\n",
    "// the parameter of | is a by-name parameter\n",
    "def parens = floatingPointNumber | \"(\"~parens~\")\"\n",
    "```"
   ]
  },
  {
   "cell_type": "markdown",
   "id": "6498645a",
   "metadata": {},
   "source": [
    "# 7 STRING LITERALS AND REGULAR EXPRESSIONS"
   ]
  },
  {
   "cell_type": "markdown",
   "id": "e82e0cf9",
   "metadata": {},
   "source": [
    "```scala\n",
    "package scala.util.parsing.combinator\n",
    "\n",
    "trait RegexParsers extends Parsers {\n",
    "    type Elem = Char\n",
    "    \n",
    "    implicit def literal(s: String): Parser[String]\n",
    "    implicit def regex(r: Regex): Parser[String]\n",
    "    \n",
    "    protected val whiteSpace = \"\"\"\\s+\"\"\".r\n",
    "    protected def handleWhiteSpace(source: java.lang.CharSequence, offset: Int): Int = {...}\n",
    "}\n",
    "```"
   ]
  },
  {
   "cell_type": "markdown",
   "id": "7c91a657",
   "metadata": {},
   "source": [
    "# 8 LEXING AND PARSING"
   ]
  },
  {
   "cell_type": "markdown",
   "id": "b6d963b5",
   "metadata": {},
   "source": [
    "```scala\n",
    "package scala.util.parsing.combinator.lexical\n",
    "package scala.util.parsing.combinator.syntactical\n",
    "```"
   ]
  },
  {
   "cell_type": "markdown",
   "id": "89e2a0ac",
   "metadata": {},
   "source": [
    "# 9 ERROR REPORTING"
   ]
  },
  {
   "cell_type": "markdown",
   "id": "848c57d6",
   "metadata": {},
   "source": [
    "Scala's parsing library implements a simple heuristic: among all failures, \n",
    "the one that occurred at the  latest position in the input is chosen.\n",
    "\n",
    "```scala\n",
    "[1.13] failure: \"false\" expected but identifier John found\n",
    " \n",
    " { \"name\": John,\n",
    "           ^\n",
    "def value: Parser[Any] =\n",
    "  obj | arr | stringLit | floatingPointNumber | \"null\" |\n",
    "  \"true\" | \"false\" | failure(\"illegal start of value\")  \n",
    "\n",
    "  \n",
    "[1.13] failure: illegal start of value\n",
    " \n",
    " { \"name\": John,\n",
    "           ^  \n",
    "```\n",
    "  \n",
    "```scala\n",
    "trait Parsers {\n",
    "  \n",
    "    case class Success[+T](result: T, override val next: Input) extends ParseResult[T] {\n",
    "        def lastFailure: Option[Failure] = None\n",
    "    }\n",
    "\n",
    "  def phrase[T](p: Parser[T]) = new Parser[T] {\n",
    "    def apply(in: Input) = p(in) match {\n",
    "      case s @ Success(_, in1) =>\n",
    "        if (in1.atEnd) s\n",
    "        else s.lastFailure match {\n",
    "          case Some(failure) => failure\n",
    "          case _ => Failure(\"end of input expected\", in1)\n",
    "        }\n",
    "      case ns => ns\n",
    "    }\n",
    "  }\n",
    "}\n",
    "```"
   ]
  },
  {
   "cell_type": "markdown",
   "id": "b03fe05f",
   "metadata": {},
   "source": [
    "# 10 BACKTRACKING VERSUS LL(1)"
   ]
  },
  {
   "cell_type": "markdown",
   "id": "aaea1568",
   "metadata": {},
   "source": [
    "The parser combinators employ **backtracking** to choose between different parsers in an alternative. \n",
    "In  an expression `P | Q`, if `P` fails, then `Q` is run on the same input as `P`. \n",
    "This happens even if `P` has parsed some tokens before failing. \n",
    "In this case the same tokens will be parsed again by `Q`.\n",
    "\n",
    "```BNF\n",
    "//  need to avoid left-recursive productions\n",
    "expr ::= expr \"+\" term | term.\n",
    "// backtracking is potentially costly: (1 + 2) * 3\n",
    "expr ::= term \"+\" expr | term.\n",
    "\n",
    "// modify the grammar so that backtracking can be avoided\n",
    "expr ::= term [\"+\" expr].\n",
    "expr ::= term \\{\"+\" term\\}.\n",
    "```\n",
    "\n",
    "Many languages admit so-called \"LL(1)\" grammars.\n",
    "When a combinator parser is formed from such a grammar, it will never backtrack, i.e., \n",
    "the input position will never be reset to an earlier value.\n",
    "\n",
    "The combinator parsing framework allows you to express the expectation that a grammar is LL(1) explicitly, \n",
    "using a new operator `~!`. \n",
    "This operator is like sequential composition `~` but it will never \n",
    "backtrack to \"un-read\" input elements that have already been parsed.\n",
    "\n",
    "```scala\n",
    "def expr : Parser[Any] = \n",
    "    term ~! rep(\"+\" ~! term | \"-\" ~! term)\n",
    "def term : Parser[Any] =\n",
    "    factor ~! rep(\"*\" ~! factor | \"/\" ~! factor)\n",
    "def factor: Parser[Any] =\n",
    "    \"(\" ~! expr ~! \")\" | floatingPointNumber\n",
    "```"
   ]
  }
 ],
 "metadata": {
  "kernelspec": {
   "display_name": "Scala",
   "language": "scala",
   "name": "scala"
  },
  "language_info": {
   "codemirror_mode": "text/x-scala",
   "file_extension": ".sc",
   "mimetype": "text/x-scala",
   "name": "scala",
   "nbconvert_exporter": "script",
   "version": "2.12.17"
  },
  "toc": {
   "base_numbering": 1,
   "nav_menu": {},
   "number_sections": true,
   "sideBar": true,
   "skip_h1_title": false,
   "title_cell": "Table of Contents",
   "title_sidebar": "Contents",
   "toc_cell": false,
   "toc_position": {
    "height": "238.414px",
    "left": "10px",
    "top": "150px",
    "width": "257.305px"
   },
   "toc_section_display": true,
   "toc_window_display": true
  },
  "varInspector": {
   "cols": {
    "lenName": 16,
    "lenType": 16,
    "lenVar": 40
   },
   "kernels_config": {
    "python": {
     "delete_cmd_postfix": "",
     "delete_cmd_prefix": "del ",
     "library": "var_list.py",
     "varRefreshCmd": "print(var_dic_list())"
    },
    "r": {
     "delete_cmd_postfix": ") ",
     "delete_cmd_prefix": "rm(",
     "library": "var_list.r",
     "varRefreshCmd": "cat(var_dic_list()) "
    }
   },
   "types_to_exclude": [
    "module",
    "function",
    "builtin_function_or_method",
    "instance",
    "_Feature"
   ],
   "window_display": false
  }
 },
 "nbformat": 4,
 "nbformat_minor": 5
}
