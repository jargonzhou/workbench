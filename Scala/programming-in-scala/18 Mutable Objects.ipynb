{
 "cells": [
  {
   "cell_type": "markdown",
   "id": "ddab0153",
   "metadata": {},
   "source": [
    "# 18.1 WHAT MAKES AN OBJECT MUTABLE?"
   ]
  },
  {
   "cell_type": "code",
   "execution_count": null,
   "id": "4026148a",
   "metadata": {},
   "outputs": [],
   "source": []
  },
  {
   "cell_type": "markdown",
   "id": "05fb2eb0",
   "metadata": {},
   "source": [
    "# 18.2 REASSIGNABLE VARIABLES AND PROPERTIES"
   ]
  },
  {
   "cell_type": "code",
   "execution_count": null,
   "id": "39d14f14",
   "metadata": {},
   "outputs": [],
   "source": []
  },
  {
   "cell_type": "markdown",
   "id": "619d9e0f",
   "metadata": {},
   "source": [
    "# 18.3 CASE STUDY: DISCRETE EVENT SIMULATION"
   ]
  },
  {
   "cell_type": "code",
   "execution_count": null,
   "id": "5101ed85",
   "metadata": {},
   "outputs": [],
   "source": []
  },
  {
   "cell_type": "markdown",
   "id": "745fff5a",
   "metadata": {},
   "source": [
    "# 18.4 A LANGUAGE FOR DIGITAL CIRCUITS"
   ]
  },
  {
   "cell_type": "code",
   "execution_count": null,
   "id": "44001bee",
   "metadata": {},
   "outputs": [],
   "source": []
  },
  {
   "cell_type": "markdown",
   "id": "ae0dcedf",
   "metadata": {},
   "source": [
    "# 18.5 THE SIMULATION API"
   ]
  },
  {
   "cell_type": "code",
   "execution_count": 1,
   "id": "6d75bc66",
   "metadata": {},
   "outputs": [
    {
     "data": {
      "text/plain": [
       "defined \u001b[32mclass\u001b[39m \u001b[36mSimulation\u001b[39m"
      ]
     },
     "execution_count": 1,
     "metadata": {},
     "output_type": "execute_result"
    }
   ],
   "source": [
    "abstract class Simulation {\n",
    "    type Action = () => Unit\n",
    "    case class WorkItem(time: Int, action: Action)\n",
    "    \n",
    "    private var curtime = 0\n",
    "    def currentTime: Int = curtime\n",
    "    \n",
    "    private var agenda: List[WorkItem] = List()\n",
    "    \n",
    "    private def insert(ag: List[WorkItem], item: WorkItem): List[WorkItem] = {\n",
    "        if (ag.isEmpty || item.time < ag.head.time) item :: ag\n",
    "        else ag.head :: insert(ag.tail, item)\n",
    "    }\n",
    "    \n",
    "    def afterDelay(delay: Int)(block: => Unit) = {\n",
    "        val item = WorkItem(currentTime + delay, () => block)\n",
    "        agenda = insert(agenda, item)\n",
    "    }\n",
    "    \n",
    "    private def next() = {\n",
    "        (agenda: @unchecked) match {\n",
    "            case item :: rest =>\n",
    "                agenda = rest\n",
    "                curtime = item.time\n",
    "                item.action()\n",
    "        }\n",
    "    }\n",
    "    \n",
    "    def run() = {\n",
    "        afterDelay(0) {\n",
    "            println(\"*** simulation started, time = \" + currentTime + \" ***\")\n",
    "        }\n",
    "        while (!agenda.isEmpty) next()\n",
    "    }\n",
    "}"
   ]
  },
  {
   "cell_type": "markdown",
   "id": "861280cc",
   "metadata": {},
   "source": [
    "# 18.6 CIRCUIT SIMULATION"
   ]
  },
  {
   "cell_type": "code",
   "execution_count": 2,
   "id": "b4a1c8c6",
   "metadata": {},
   "outputs": [
    {
     "data": {
      "text/plain": [
       "defined \u001b[32mclass\u001b[39m \u001b[36mBasicCircuitSimulation\u001b[39m"
      ]
     },
     "execution_count": 2,
     "metadata": {},
     "output_type": "execute_result"
    }
   ],
   "source": [
    "abstract class BasicCircuitSimulation extends Simulation {\n",
    "    def InverterDelay: Int\n",
    "    def AndGateDelay: Int\n",
    "    def OrGateDelay: Int\n",
    "    \n",
    "    class Wire {\n",
    "        private var sigVal = false\n",
    "        private var actions: List[Action] = List()\n",
    "        \n",
    "        def getSignal = sigVal\n",
    "        def setSignal(s: Boolean) =\n",
    "            if (s != sigVal) {\n",
    "                sigVal = s\n",
    "                actions foreach (_ ())\n",
    "            }\n",
    "        \n",
    "        def addAction(a: Action) = {\n",
    "            actions = a :: actions\n",
    "            a()\n",
    "        }\n",
    "    }\n",
    "    \n",
    "    def inverter(input: Wire, output: Wire) = {\n",
    "        def invertAction() = {\n",
    "            val inputSig = input.getSignal\n",
    "            afterDelay(InverterDelay) {\n",
    "                output setSignal !inputSig\n",
    "            }\n",
    "        }\n",
    "        input addAction invertAction\n",
    "    }\n",
    "    \n",
    "    def andGate(a1: Wire, a2: Wire, output: Wire) = {\n",
    "        def andAction() = {\n",
    "            val a1Sig = a1.getSignal\n",
    "            val a2Sig = a2.getSignal\n",
    "            afterDelay(AndGateDelay) {\n",
    "                output setSignal (a1Sig & a2Sig)\n",
    "            }\n",
    "        }\n",
    "        a1 addAction andAction\n",
    "        a2 addAction andAction\n",
    "    }\n",
    "    \n",
    "    def orGate(o1: Wire, o2: Wire, output: Wire) = {\n",
    "        def orAction() = {\n",
    "            val o1Sig = o1.getSignal\n",
    "            val o2Sig = o2.getSignal\n",
    "            afterDelay(OrGateDelay) {\n",
    "                output setSignal (o1Sig | o2Sig)\n",
    "            }\n",
    "        }\n",
    "        o1 addAction orAction\n",
    "        o2 addAction orAction\n",
    "    }\n",
    "    \n",
    "    def probe(name: String, wire: Wire) = {\n",
    "        def probeAction() = {\n",
    "            println(name + \" \" + currentTime + \" new-value = \" + wire.getSignal)\n",
    "        }\n",
    "        wire addAction probeAction\n",
    "    }\n",
    "}"
   ]
  },
  {
   "cell_type": "code",
   "execution_count": 3,
   "id": "e427ff97",
   "metadata": {},
   "outputs": [
    {
     "data": {
      "text/plain": [
       "defined \u001b[32mclass\u001b[39m \u001b[36mCircuitSimlation\u001b[39m"
      ]
     },
     "execution_count": 3,
     "metadata": {},
     "output_type": "execute_result"
    }
   ],
   "source": [
    "abstract class CircuitSimlation extends BasicCircuitSimulation {\n",
    "    def halfAdder(a: Wire, b: Wire, s: Wire, c: Wire) = {\n",
    "        val d, e = new Wire\n",
    "        orGate(a, b, d)\n",
    "        andGate(a, b, c)\n",
    "        inverter(c, e)\n",
    "        andGate(d, e, s)\n",
    "    }\n",
    "    def fullAdder(a: Wire, b: Wire, cin: Wire, sum: Wire, cout: Wire) = {\n",
    "        val s, c1, c2 = new Wire\n",
    "        halfAdder(a, cin, s, c1)\n",
    "        halfAdder(b, s, sum, c2)\n",
    "        orGate(c1, c2, cout)\n",
    "    }\n",
    "}"
   ]
  },
  {
   "cell_type": "code",
   "execution_count": 4,
   "id": "59046a51",
   "metadata": {},
   "outputs": [
    {
     "data": {
      "text/plain": [
       "defined \u001b[32mobject\u001b[39m \u001b[36mMySimulation\u001b[39m\n",
       "\u001b[32mimport \u001b[39m\u001b[36mMySimulation._\u001b[39m"
      ]
     },
     "execution_count": 4,
     "metadata": {},
     "output_type": "execute_result"
    }
   ],
   "source": [
    "object MySimulation extends CircuitSimlation {\n",
    "    def InverterDelay = 1\n",
    "    def AndGateDelay = 3\n",
    "    def OrGateDelay = 5\n",
    "}\n",
    "\n",
    "import MySimulation._"
   ]
  },
  {
   "cell_type": "code",
   "execution_count": 5,
   "id": "d16cad0c",
   "metadata": {},
   "outputs": [
    {
     "data": {
      "text/plain": [
       "\u001b[36minput1\u001b[39m: \u001b[32mWire\u001b[39m = ammonite.$sess.cmd1$Helper$BasicCircuitSimulation$Wire@46cccdfd\n",
       "\u001b[36minput2\u001b[39m: \u001b[32mWire\u001b[39m = ammonite.$sess.cmd1$Helper$BasicCircuitSimulation$Wire@5b62e00a\n",
       "\u001b[36msum\u001b[39m: \u001b[32mWire\u001b[39m = ammonite.$sess.cmd1$Helper$BasicCircuitSimulation$Wire@362078d5\n",
       "\u001b[36mcarry\u001b[39m: \u001b[32mWire\u001b[39m = ammonite.$sess.cmd1$Helper$BasicCircuitSimulation$Wire@15a09505"
      ]
     },
     "execution_count": 5,
     "metadata": {},
     "output_type": "execute_result"
    }
   ],
   "source": [
    "val input1, input2, sum, carry = new Wire"
   ]
  },
  {
   "cell_type": "code",
   "execution_count": 6,
   "id": "5d07a85d",
   "metadata": {},
   "outputs": [
    {
     "name": "stdout",
     "output_type": "stream",
     "text": [
      "sum 0 new-value = false\n",
      "carry 0 new-value = false\n"
     ]
    }
   ],
   "source": [
    "probe(\"sum\", sum)\n",
    "probe(\"carry\", carry)"
   ]
  },
  {
   "cell_type": "code",
   "execution_count": 7,
   "id": "f7f4f52c",
   "metadata": {},
   "outputs": [],
   "source": [
    "halfAdder(input1, input2, sum, carry)"
   ]
  },
  {
   "cell_type": "code",
   "execution_count": 8,
   "id": "80d2e307",
   "metadata": {},
   "outputs": [
    {
     "name": "stdout",
     "output_type": "stream",
     "text": [
      "*** simulation started, time = 0 ***\n",
      "sum 8 new-value = true\n"
     ]
    }
   ],
   "source": [
    "input1 setSignal true\n",
    "run()"
   ]
  },
  {
   "cell_type": "code",
   "execution_count": 9,
   "id": "b9e1ac72",
   "metadata": {},
   "outputs": [
    {
     "name": "stdout",
     "output_type": "stream",
     "text": [
      "*** simulation started, time = 8 ***\n",
      "carry 11 new-value = true\n",
      "sum 15 new-value = false\n"
     ]
    }
   ],
   "source": [
    "input2 setSignal true\n",
    "run()"
   ]
  }
 ],
 "metadata": {
  "kernelspec": {
   "display_name": "Scala",
   "language": "scala",
   "name": "scala"
  },
  "language_info": {
   "codemirror_mode": "text/x-scala",
   "file_extension": ".sc",
   "mimetype": "text/x-scala",
   "name": "scala",
   "nbconvert_exporter": "script",
   "version": "2.12.17"
  },
  "toc": {
   "base_numbering": 1,
   "nav_menu": {},
   "number_sections": true,
   "sideBar": true,
   "skip_h1_title": false,
   "title_cell": "Table of Contents",
   "title_sidebar": "Contents",
   "toc_cell": false,
   "toc_position": {},
   "toc_section_display": true,
   "toc_window_display": false
  }
 },
 "nbformat": 4,
 "nbformat_minor": 5
}
