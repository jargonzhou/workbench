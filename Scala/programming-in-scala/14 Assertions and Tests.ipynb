{
 "cells": [
  {
   "cell_type": "markdown",
   "id": "6bfb484b",
   "metadata": {},
   "source": [
    "# ASSERTIONS"
   ]
  },
  {
   "cell_type": "code",
   "execution_count": null,
   "id": "c62564a8",
   "metadata": {},
   "outputs": [],
   "source": []
  },
  {
   "cell_type": "markdown",
   "id": "1e2455cd",
   "metadata": {},
   "source": [
    "# TESTING IN SCALA"
   ]
  },
  {
   "cell_type": "code",
   "execution_count": null,
   "id": "a4f880cb",
   "metadata": {},
   "outputs": [],
   "source": []
  },
  {
   "cell_type": "markdown",
   "id": "33f88ae7",
   "metadata": {},
   "source": [
    "# INFORMATIVE FAILURE REPORTS"
   ]
  },
  {
   "cell_type": "code",
   "execution_count": null,
   "id": "943df885",
   "metadata": {},
   "outputs": [],
   "source": []
  },
  {
   "cell_type": "markdown",
   "id": "58f8d0fc",
   "metadata": {},
   "source": [
    "# TESTS AS SPECIFICATIONS"
   ]
  },
  {
   "cell_type": "code",
   "execution_count": null,
   "id": "c8d7c6f6",
   "metadata": {},
   "outputs": [],
   "source": []
  },
  {
   "cell_type": "markdown",
   "id": "593a477f",
   "metadata": {},
   "source": [
    "# PROPERTY-BASED TESTING"
   ]
  },
  {
   "cell_type": "code",
   "execution_count": null,
   "id": "e39df742",
   "metadata": {},
   "outputs": [],
   "source": []
  },
  {
   "cell_type": "markdown",
   "id": "b0acc7f1",
   "metadata": {},
   "source": [
    "# ORGANIZING AND RUNNING TESTS"
   ]
  },
  {
   "cell_type": "code",
   "execution_count": null,
   "id": "cc7789ac",
   "metadata": {},
   "outputs": [],
   "source": []
  },
  {
   "cell_type": "markdown",
   "id": "c84674a6",
   "metadata": {},
   "source": [
    "# ScalaTest\n",
    "\n",
    "- https://www.scalatest.org/user_guide/selecting_a_style"
   ]
  },
  {
   "cell_type": "code",
   "execution_count": 3,
   "id": "20151323",
   "metadata": {},
   "outputs": [
    {
     "data": {
      "text/plain": [
       "\u001b[32mimport \u001b[39m\u001b[36m$ivy.$                                    \u001b[39m"
      ]
     },
     "execution_count": 3,
     "metadata": {},
     "output_type": "execute_result"
    }
   ],
   "source": [
    "import $ivy.`org.scalatest:scalatest_2.12:3.2.16`"
   ]
  },
  {
   "cell_type": "code",
   "execution_count": 4,
   "id": "750e7a5a",
   "metadata": {},
   "outputs": [
    {
     "data": {
      "text/plain": [
       "\u001b[32mimport \u001b[39m\u001b[36m$ivy.$                                                \u001b[39m"
      ]
     },
     "execution_count": 4,
     "metadata": {},
     "output_type": "execute_result"
    }
   ],
   "source": [
    "// libraryDependencies += \"org.scalatest\" %% \"scalatest-featurespec\" % \"3.2.16\" % \"test\"\n",
    "import $ivy.`org.scalatest:scalatest-featurespec_2.12:3.2.16`"
   ]
  },
  {
   "cell_type": "code",
   "execution_count": 5,
   "id": "cdff5154",
   "metadata": {},
   "outputs": [
    {
     "data": {
      "text/plain": [
       "\u001b[32mimport \u001b[39m\u001b[36morg.scalatest._\n",
       "\n",
       "\u001b[39m\n",
       "defined \u001b[32mclass\u001b[39m \u001b[36mTVSet\u001b[39m\n",
       "defined \u001b[32mclass\u001b[39m \u001b[36mTVSetSpec\u001b[39m"
      ]
     },
     "execution_count": 5,
     "metadata": {},
     "output_type": "execute_result"
    }
   ],
   "source": [
    "// example in website\n",
    "import org.scalatest._\n",
    "\n",
    "class TVSet {\n",
    "  private var on: Boolean = false\n",
    "  def isOn: Boolean = on\n",
    "  def pressPowerButton() {\n",
    "    on = !on\n",
    "  }\n",
    "}\n",
    "\n",
    "class TVSetSpec extends featurespec.AnyFeatureSpec with GivenWhenThen {\n",
    "\n",
    "  info(\"As a TV set owner\")\n",
    "  info(\"I want to be able to turn the TV on and off\")\n",
    "  info(\"So I can watch TV when I want\")\n",
    "  info(\"And save energy when I'm not watching TV\")\n",
    "\n",
    "  feature(\"TV power button\") {\n",
    "    scenario(\"User presses power button when TV is off\") {\n",
    "\n",
    "      Given(\"a TV set that is switched off\")\n",
    "      val tv = new TVSet\n",
    "      assert(!tv.isOn)\n",
    "\n",
    "      When(\"the power button is pressed\")\n",
    "      tv.pressPowerButton()\n",
    "\n",
    "      Then(\"the TV should switch on\")\n",
    "      assert(tv.isOn)\n",
    "    }\n",
    "\n",
    "    scenario(\"User presses power button when TV is on\") {\n",
    "\n",
    "      Given(\"a TV set that is switched on\")\n",
    "      val tv = new TVSet\n",
    "      tv.pressPowerButton()\n",
    "      assert(tv.isOn)\n",
    "\n",
    "      When(\"the power button is pressed\")\n",
    "      tv.pressPowerButton()\n",
    "\n",
    "      Then(\"the TV should switch off\")\n",
    "      assert(!tv.isOn)\n",
    "    }\n",
    "  }\n",
    "}"
   ]
  },
  {
   "cell_type": "code",
   "execution_count": 6,
   "id": "885d4cb3",
   "metadata": {},
   "outputs": [
    {
     "name": "stdout",
     "output_type": "stream",
     "text": [
      "\u001b[32mcmd4$Helper$TVSetSpec:\u001b[0m\n",
      "\u001b[32mAs a TV set owner \u001b[0m\n",
      "\u001b[32mI want to be able to turn the TV on and off \u001b[0m\n",
      "\u001b[32mSo I can watch TV when I want \u001b[0m\n",
      "\u001b[32mAnd save energy when I'm not watching TV \u001b[0m\n",
      "\u001b[32mFeature: TV power button\u001b[0m\n",
      "\u001b[32m  Scenario: User presses power button when TV is off\u001b[0m\n",
      "\u001b[32m    Given a TV set that is switched off \u001b[0m\n",
      "\u001b[32m    When the power button is pressed \u001b[0m\n",
      "\u001b[32m    Then the TV should switch on \u001b[0m\n",
      "\u001b[32m  Scenario: User presses power button when TV is on\u001b[0m\n",
      "\u001b[32m    Given a TV set that is switched on \u001b[0m\n",
      "\u001b[32m    When the power button is pressed \u001b[0m\n",
      "\u001b[32m    Then the TV should switch off \u001b[0m\n"
     ]
    }
   ],
   "source": [
    "new TVSetSpec().execute()"
   ]
  },
  {
   "cell_type": "code",
   "execution_count": 8,
   "id": "b3789dbf",
   "metadata": {},
   "outputs": [
    {
     "name": "stdout",
     "output_type": "stream",
     "text": [
      "\u001b[32mcmd7$Helper$TVSetSpec2:\u001b[0m\n",
      "\u001b[32mFeature: TV power button\u001b[0m\n",
      "\u001b[33m  Scenario: User presses power button when TV is off (pending)\u001b[0m\n",
      "\u001b[33m    Given a TV set that is switched off \u001b[0m\n",
      "\u001b[33m    When the power button is pressed \u001b[0m\n",
      "\u001b[33m    Then the TV should switch on \u001b[0m\n"
     ]
    },
    {
     "data": {
      "text/plain": [
       "\u001b[32mimport \u001b[39m\u001b[36morg.scalatest._\n",
       "\n",
       "\u001b[39m\n",
       "defined \u001b[32mclass\u001b[39m \u001b[36mTVSetSpec2\u001b[39m"
      ]
     },
     "execution_count": 8,
     "metadata": {},
     "output_type": "execute_result"
    }
   ],
   "source": [
    "// example in book\n",
    "import org.scalatest._\n",
    "\n",
    "class TVSetSpec2 extends featurespec.AnyFeatureSpec with GivenWhenThen {\n",
    "\n",
    "  feature(\"TV power button\") {\n",
    "    scenario(\"User presses power button when TV is off\") {\n",
    "      Given(\"a TV set that is switched off\")\n",
    "      When(\"the power button is pressed\")\n",
    "      Then(\"the TV should switch on\")\n",
    "      pending\n",
    "    }\n",
    "  }\n",
    "}\n",
    "\n",
    "new TVSetSpec2().execute()"
   ]
  },
  {
   "cell_type": "markdown",
   "id": "1e78f2ec",
   "metadata": {},
   "source": [
    "# spec2"
   ]
  },
  {
   "cell_type": "code",
   "execution_count": null,
   "id": "f0bc61d1",
   "metadata": {},
   "outputs": [],
   "source": []
  },
  {
   "cell_type": "markdown",
   "id": "f0abc508",
   "metadata": {},
   "source": [
    "# ScalaCheck"
   ]
  },
  {
   "cell_type": "code",
   "execution_count": null,
   "id": "ec8ca6ce",
   "metadata": {},
   "outputs": [],
   "source": []
  }
 ],
 "metadata": {
  "kernelspec": {
   "display_name": "Scala",
   "language": "scala",
   "name": "scala"
  },
  "language_info": {
   "codemirror_mode": "text/x-scala",
   "file_extension": ".sc",
   "mimetype": "text/x-scala",
   "name": "scala",
   "nbconvert_exporter": "script",
   "version": "2.12.17"
  },
  "toc": {
   "base_numbering": 1,
   "nav_menu": {},
   "number_sections": true,
   "sideBar": true,
   "skip_h1_title": false,
   "title_cell": "Table of Contents",
   "title_sidebar": "Contents",
   "toc_cell": false,
   "toc_position": {},
   "toc_section_display": true,
   "toc_window_display": false
  }
 },
 "nbformat": 4,
 "nbformat_minor": 5
}
