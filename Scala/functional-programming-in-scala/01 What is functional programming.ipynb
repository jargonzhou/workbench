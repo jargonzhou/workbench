{
 "cells": [
  {
   "cell_type": "markdown",
   "id": "51c56a15",
   "metadata": {},
   "source": [
    "# 1.1 The benefits of FP: a simple example"
   ]
  },
  {
   "cell_type": "code",
   "execution_count": 1,
   "id": "c1ff06b7",
   "metadata": {},
   "outputs": [
    {
     "data": {
      "text/plain": [
       "defined \u001b[32mclass\u001b[39m \u001b[36mCoffee\u001b[39m\n",
       "defined \u001b[32mclass\u001b[39m \u001b[36mCreditCard\u001b[39m\n",
       "defined \u001b[32mclass\u001b[39m \u001b[36mCafe\u001b[39m"
      ]
     },
     "execution_count": 1,
     "metadata": {},
     "output_type": "execute_result"
    }
   ],
   "source": [
    "class Coffee(val price: BigDecimal = 0)\n",
    "\n",
    "class CreditCard {\n",
    "    def charge(v: BigDecimal): Unit = ???\n",
    "}\n",
    "\n",
    "class Cafe {\n",
    "    def buyCoffeee(cc: CreditCard): Coffee = {\n",
    "        val cup = new Coffee()\n",
    "        cc.charge(cup.price)\n",
    "        cup\n",
    "    }\n",
    "}"
   ]
  },
  {
   "cell_type": "code",
   "execution_count": 3,
   "id": "905ce085",
   "metadata": {},
   "outputs": [
    {
     "data": {
      "text/plain": [
       "defined \u001b[32mclass\u001b[39m \u001b[36mCoffee\u001b[39m\n",
       "defined \u001b[32mclass\u001b[39m \u001b[36mCreditCard\u001b[39m\n",
       "defined \u001b[32mclass\u001b[39m \u001b[36mPayments\u001b[39m\n",
       "defined \u001b[32mclass\u001b[39m \u001b[36mCafe\u001b[39m"
      ]
     },
     "execution_count": 3,
     "metadata": {},
     "output_type": "execute_result"
    }
   ],
   "source": [
    "class Coffee(val price: BigDecimal = 0)\n",
    "class CreditCard\n",
    "class Payments {\n",
    "    def charge(cc: CreditCard, v: BigDecimal): Unit = ???\n",
    "}\n",
    "\n",
    "class Cafe {\n",
    "    def buyCoffee(cc: CreditCard, p: Payments): Coffee = {\n",
    "        val cup = new Coffee()\n",
    "        p.charge(cc, cup.price)\n",
    "        cup\n",
    "    }\n",
    "}"
   ]
  },
  {
   "cell_type": "code",
   "execution_count": 7,
   "id": "06aa0a0a",
   "metadata": {},
   "outputs": [
    {
     "data": {
      "text/plain": [
       "defined \u001b[32mclass\u001b[39m \u001b[36mCoffee\u001b[39m\n",
       "defined \u001b[32mclass\u001b[39m \u001b[36mCreditCard\u001b[39m\n",
       "defined \u001b[32mclass\u001b[39m \u001b[36mCharge\u001b[39m\n",
       "defined \u001b[32mclass\u001b[39m \u001b[36mCafe\u001b[39m"
      ]
     },
     "execution_count": 7,
     "metadata": {},
     "output_type": "execute_result"
    }
   ],
   "source": [
    "class Coffee(val price: BigDecimal = 0)\n",
    "class CreditCard\n",
    "case class Charge(cc: CreditCard, amount: BigDecimal) {\n",
    "    def combine(other: Charge): Charge = {\n",
    "        if (cc == other.cc)\n",
    "            Charge(cc, amount + other.amount)\n",
    "        else\n",
    "            throw new Exception(\"Can't combine charges to different cards\")\n",
    "    }\n",
    "}\n",
    "\n",
    "class Cafe {\n",
    "    def buyCoffee(cc: CreditCard): (Coffee, Charge) = {\n",
    "        val cup = new Coffee()\n",
    "        (cup, Charge(cc, cup.price))\n",
    "    }\n",
    "    \n",
    "    def buyCoffees(cc: CreditCard, n: Int): (List[Coffee], Charge) = {\n",
    "        val purchases: List[(Coffee, Charge)] = List.fill(n)(buyCoffee(cc))\n",
    "        val (coffees, charges) = purchases.unzip\n",
    "        (coffees, charges.reduce((c1,c2) => c1.combine(c2)))\n",
    "    }\n",
    "}"
   ]
  },
  {
   "cell_type": "code",
   "execution_count": 8,
   "id": "da50098f",
   "metadata": {},
   "outputs": [
    {
     "data": {
      "text/plain": [
       "defined \u001b[32mfunction\u001b[39m \u001b[36mcoalesce\u001b[39m"
      ]
     },
     "execution_count": 8,
     "metadata": {},
     "output_type": "execute_result"
    }
   ],
   "source": [
    "def coalesce(charges: List[Charge]): List[Charge] = \n",
    "    charges.groupBy(_.cc).values.map(_.reduce(_ combine _)).toList"
   ]
  },
  {
   "cell_type": "markdown",
   "id": "512f8480",
   "metadata": {},
   "source": [
    "# 1.2 Exactly what is a (pure) function?"
   ]
  },
  {
   "cell_type": "code",
   "execution_count": null,
   "id": "42c69465",
   "metadata": {},
   "outputs": [],
   "source": []
  },
  {
   "cell_type": "markdown",
   "id": "4200135a",
   "metadata": {},
   "source": [
    "# 1.3 Referential transparency, purity, and the substitution model"
   ]
  },
  {
   "cell_type": "code",
   "execution_count": 13,
   "id": "d85db251",
   "metadata": {},
   "outputs": [
    {
     "data": {
      "text/plain": [
       "\u001b[36mx\u001b[39m: \u001b[32mString\u001b[39m = \u001b[32m\"Hello, World\"\u001b[39m\n",
       "\u001b[36mr1\u001b[39m: \u001b[32mString\u001b[39m = \u001b[32m\"dlroW ,olleH\"\u001b[39m\n",
       "\u001b[36mr2\u001b[39m: \u001b[32mString\u001b[39m = \u001b[32m\"dlroW ,olleH\"\u001b[39m"
      ]
     },
     "execution_count": 13,
     "metadata": {},
     "output_type": "execute_result"
    }
   ],
   "source": [
    "val x = \"Hello, World\"\n",
    "val r1 = x.reverse\n",
    "val r2 = x.reverse"
   ]
  },
  {
   "cell_type": "code",
   "execution_count": 12,
   "id": "a9a5f4ba",
   "metadata": {},
   "outputs": [
    {
     "data": {
      "text/plain": [
       "\u001b[36mr1\u001b[39m: \u001b[32mString\u001b[39m = \u001b[32m\"dlroW ,olleH\"\u001b[39m\n",
       "\u001b[36mr2\u001b[39m: \u001b[32mString\u001b[39m = \u001b[32m\"dlroW ,olleH\"\u001b[39m"
      ]
     },
     "execution_count": 12,
     "metadata": {},
     "output_type": "execute_result"
    }
   ],
   "source": [
    "val r1 = \"Hello, World\".reverse\n",
    "val r2 = \"Hello, World\".reverse"
   ]
  },
  {
   "cell_type": "code",
   "execution_count": 16,
   "id": "ccc5a0c6",
   "metadata": {},
   "outputs": [
    {
     "data": {
      "text/plain": [
       "\u001b[36mx\u001b[39m: \u001b[32mStringBuilder\u001b[39m = \u001b[33mIndexedSeq\u001b[39m(\n",
       "  \u001b[32m'H'\u001b[39m,\n",
       "  \u001b[32m'e'\u001b[39m,\n",
       "  \u001b[32m'l'\u001b[39m,\n",
       "  \u001b[32m'l'\u001b[39m,\n",
       "  \u001b[32m'o'\u001b[39m,\n",
       "  \u001b[32m','\u001b[39m,\n",
       "  \u001b[32m' '\u001b[39m,\n",
       "  \u001b[32m'W'\u001b[39m,\n",
       "  \u001b[32m'o'\u001b[39m,\n",
       "  \u001b[32m'r'\u001b[39m,\n",
       "  \u001b[32m'l'\u001b[39m,\n",
       "  \u001b[32m'd'\u001b[39m\n",
       ")\n",
       "\u001b[36my\u001b[39m: \u001b[32mStringBuilder\u001b[39m = \u001b[33mIndexedSeq\u001b[39m(\n",
       "  \u001b[32m'H'\u001b[39m,\n",
       "  \u001b[32m'e'\u001b[39m,\n",
       "  \u001b[32m'l'\u001b[39m,\n",
       "  \u001b[32m'l'\u001b[39m,\n",
       "  \u001b[32m'o'\u001b[39m,\n",
       "  \u001b[32m','\u001b[39m,\n",
       "  \u001b[32m' '\u001b[39m,\n",
       "  \u001b[32m'W'\u001b[39m,\n",
       "  \u001b[32m'o'\u001b[39m,\n",
       "  \u001b[32m'r'\u001b[39m,\n",
       "  \u001b[32m'l'\u001b[39m,\n",
       "  \u001b[32m'd'\u001b[39m\n",
       ")\n",
       "\u001b[36mr1\u001b[39m: \u001b[32mString\u001b[39m = \u001b[32m\"Hello, World\"\u001b[39m\n",
       "\u001b[36mr2\u001b[39m: \u001b[32mString\u001b[39m = \u001b[32m\"Hello, World\"\u001b[39m"
      ]
     },
     "execution_count": 16,
     "metadata": {},
     "output_type": "execute_result"
    }
   ],
   "source": [
    "val x = new StringBuilder(\"Hello\")\n",
    "val y = x.append(\", World\")\n",
    "val r1 = y.toString\n",
    "val r2 = y.toString"
   ]
  },
  {
   "cell_type": "code",
   "execution_count": 17,
   "id": "6b8148ab",
   "metadata": {},
   "outputs": [
    {
     "data": {
      "text/plain": [
       "\u001b[36mx\u001b[39m: \u001b[32mStringBuilder\u001b[39m = \u001b[33mIndexedSeq\u001b[39m(\n",
       "  \u001b[32m'H'\u001b[39m,\n",
       "  \u001b[32m'e'\u001b[39m,\n",
       "  \u001b[32m'l'\u001b[39m,\n",
       "  \u001b[32m'l'\u001b[39m,\n",
       "  \u001b[32m'o'\u001b[39m,\n",
       "  \u001b[32m','\u001b[39m,\n",
       "  \u001b[32m' '\u001b[39m,\n",
       "  \u001b[32m'W'\u001b[39m,\n",
       "  \u001b[32m'o'\u001b[39m,\n",
       "  \u001b[32m'r'\u001b[39m,\n",
       "  \u001b[32m'l'\u001b[39m,\n",
       "  \u001b[32m'd'\u001b[39m,\n",
       "  \u001b[32m','\u001b[39m,\n",
       "  \u001b[32m' '\u001b[39m,\n",
       "  \u001b[32m'W'\u001b[39m,\n",
       "  \u001b[32m'o'\u001b[39m,\n",
       "  \u001b[32m'r'\u001b[39m,\n",
       "  \u001b[32m'l'\u001b[39m,\n",
       "  \u001b[32m'd'\u001b[39m\n",
       ")\n",
       "\u001b[36mr1\u001b[39m: \u001b[32mString\u001b[39m = \u001b[32m\"Hello, World\"\u001b[39m\n",
       "\u001b[36mr2\u001b[39m: \u001b[32mString\u001b[39m = \u001b[32m\"Hello, World, World\"\u001b[39m"
      ]
     },
     "execution_count": 17,
     "metadata": {},
     "output_type": "execute_result"
    }
   ],
   "source": [
    "val x = new StringBuilder(\"Hello\")\n",
    "val r1 = x.append(\", World\").toString\n",
    "val r2 = x.append(\", World\").toString"
   ]
  }
 ],
 "metadata": {
  "kernelspec": {
   "display_name": "Scala",
   "language": "scala",
   "name": "scala"
  },
  "language_info": {
   "codemirror_mode": "text/x-scala",
   "file_extension": ".sc",
   "mimetype": "text/x-scala",
   "name": "scala",
   "nbconvert_exporter": "script",
   "version": "2.13.10"
  },
  "toc": {
   "base_numbering": 1,
   "nav_menu": {},
   "number_sections": true,
   "sideBar": true,
   "skip_h1_title": false,
   "title_cell": "Table of Contents",
   "title_sidebar": "Contents",
   "toc_cell": false,
   "toc_position": {},
   "toc_section_display": true,
   "toc_window_display": true
  }
 },
 "nbformat": 4,
 "nbformat_minor": 5
}
