{
 "cells": [
  {
   "cell_type": "markdown",
   "id": "76fc7700",
   "metadata": {},
   "source": [
    "# 2.1 Introducing Scala the language: an example"
   ]
  },
  {
   "cell_type": "code",
   "execution_count": 2,
   "id": "fffe31d5",
   "metadata": {},
   "outputs": [
    {
     "data": {
      "text/plain": [
       "defined \u001b[32mobject\u001b[39m \u001b[36mMyModule\u001b[39m"
      ]
     },
     "execution_count": 2,
     "metadata": {},
     "output_type": "execute_result"
    }
   ],
   "source": [
    "// A commment!\n",
    "/* Another comment */\n",
    "/** A documentation comment */\n",
    "object MyModule {\n",
    "    def abs(n: Int): Int = \n",
    "        if (n < 0) -n\n",
    "        else n\n",
    "    \n",
    "    // private\n",
    "    def formatAbs(x: Int) = {\n",
    "        val msg = \"The absolute value of %d is %d\"\n",
    "        msg.format(x, abs(x))\n",
    "    }\n",
    "}"
   ]
  },
  {
   "cell_type": "code",
   "execution_count": 3,
   "id": "3378a777",
   "metadata": {},
   "outputs": [
    {
     "data": {
      "text/plain": [
       "\u001b[32mimport \u001b[39m\u001b[36mMyModule._\n",
       "\u001b[39m\n",
       "\u001b[36mres2_1\u001b[39m: \u001b[32mString\u001b[39m = \u001b[32m\"The absolute value of -42 is 42\"\u001b[39m"
      ]
     },
     "execution_count": 3,
     "metadata": {},
     "output_type": "execute_result"
    }
   ],
   "source": [
    "import MyModule._\n",
    "formatAbs(-42)"
   ]
  },
  {
   "cell_type": "markdown",
   "id": "b6c02dcd",
   "metadata": {},
   "source": [
    "# 2.2 Running our program"
   ]
  },
  {
   "cell_type": "code",
   "execution_count": 5,
   "id": "a579d54b",
   "metadata": {},
   "outputs": [
    {
     "name": "stdout",
     "output_type": "stream",
     "text": [
      "// A commment!\n",
      "/* Another comment */\n",
      "/** A documentation comment */\n",
      "object MyModule {\n",
      "    def abs(n: Int): Int = \n",
      "        if (n < 0) -n\n",
      "        else n\n",
      "    \n",
      "    private def formatAbs(x: Int) = {\n",
      "        val msg = \"The absolute value of %d is %d\"\n",
      "        msg.format(x, abs(x))\n",
      "    }\n",
      "    \n",
      "    def main(args: Array[String]): Unit =\n",
      "        println(formatAbs(-42))\n",
      "}\n"
     ]
    },
    {
     "data": {
      "text/plain": [
       "\u001b[32mimport \u001b[39m\u001b[36m$ivy.$                          \n",
       "\u001b[39m"
      ]
     },
     "execution_count": 5,
     "metadata": {},
     "output_type": "execute_result"
    }
   ],
   "source": [
    "import $ivy.`com.lihaoyi::os-lib:0.9.1`\n",
    "println(os.read(os.pwd / \"ch02\" / \"MyModule.scala\"))"
   ]
  },
  {
   "cell_type": "code",
   "execution_count": 6,
   "id": "8feb35f0",
   "metadata": {},
   "outputs": [
    {
     "data": {
      "text/plain": [
       "\u001b[36mres5\u001b[39m: \u001b[32mString\u001b[39m = \u001b[32m\"\"\"The absolute value of -42 is 42\n",
       "\"\"\"\u001b[39m"
      ]
     },
     "execution_count": 6,
     "metadata": {},
     "output_type": "execute_result"
    }
   ],
   "source": [
    "os.proc(\"scala\", \"ch02/MyModule.scala\").call().out.text"
   ]
  },
  {
   "cell_type": "markdown",
   "id": "7a60a543",
   "metadata": {},
   "source": [
    "# 2.3 Modules, objects, and namespaces"
   ]
  },
  {
   "cell_type": "code",
   "execution_count": 7,
   "id": "6af70945",
   "metadata": {},
   "outputs": [
    {
     "data": {
      "text/plain": [
       "\u001b[32mimport \u001b[39m\u001b[36mMyModule.abs\n",
       "\u001b[39m\n",
       "\u001b[36mres6_1\u001b[39m: \u001b[32mInt\u001b[39m = \u001b[32m42\u001b[39m"
      ]
     },
     "execution_count": 7,
     "metadata": {},
     "output_type": "execute_result"
    }
   ],
   "source": [
    "import MyModule.abs\n",
    "abs(-42)"
   ]
  },
  {
   "cell_type": "code",
   "execution_count": 8,
   "id": "13a577de",
   "metadata": {},
   "outputs": [
    {
     "data": {
      "text/plain": [
       "\u001b[32mimport \u001b[39m\u001b[36mMyModule._\u001b[39m"
      ]
     },
     "execution_count": 8,
     "metadata": {},
     "output_type": "execute_result"
    }
   ],
   "source": [
    "import MyModule._"
   ]
  },
  {
   "cell_type": "markdown",
   "id": "9d95d8a8",
   "metadata": {},
   "source": [
    "# 2.4 Higher-order functions: passing functions to functions"
   ]
  },
  {
   "cell_type": "code",
   "execution_count": 9,
   "id": "71946788",
   "metadata": {},
   "outputs": [
    {
     "data": {
      "text/plain": [
       "defined \u001b[32mfunction\u001b[39m \u001b[36mfactorial\u001b[39m"
      ]
     },
     "execution_count": 9,
     "metadata": {},
     "output_type": "execute_result"
    }
   ],
   "source": [
    "def factorial(n: Int): Int = {\n",
    "    @annotation.tailrec\n",
    "    def go(n: Int, acc: Int): Int = {\n",
    "        if (n <= 0) acc\n",
    "        else go(n-1, n*acc)\n",
    "    }\n",
    "    \n",
    "    go(n, 1)\n",
    "}"
   ]
  },
  {
   "cell_type": "code",
   "execution_count": 10,
   "id": "fb0a4517",
   "metadata": {},
   "outputs": [
    {
     "data": {
      "text/plain": [
       "\u001b[36mres9\u001b[39m: \u001b[32mInt\u001b[39m = \u001b[32m720\u001b[39m"
      ]
     },
     "execution_count": 10,
     "metadata": {},
     "output_type": "execute_result"
    }
   ],
   "source": [
    "factorial(6)"
   ]
  },
  {
   "cell_type": "markdown",
   "id": "d0a2c77e",
   "metadata": {},
   "source": [
    "## EXERCISE 2.1\n",
    "\n",
    "Write a recursive function to get the nth Fibonacci number (http://mng.bz/C29s).\n",
    "The first two Fibonacci numbers are 0 and 1. The nth number is always the sum of the\n",
    "previous two—the sequence begins 0, 1, 1, 2, 3, 5. Your definition should use a\n",
    "local tail-recursive function.\n",
    "\n",
    "```scala\n",
    "def fib(n: Int): Int\n",
    "```"
   ]
  },
  {
   "cell_type": "code",
   "execution_count": 12,
   "id": "d8fe36bf",
   "metadata": {},
   "outputs": [
    {
     "name": "stdout",
     "output_type": "stream",
     "text": [
      "0, 1, 1, 2, 3, 5, 8, 13, 21, 34, 55\n"
     ]
    },
    {
     "data": {
      "text/plain": [
       "defined \u001b[32mfunction\u001b[39m \u001b[36mfib0\u001b[39m"
      ]
     },
     "execution_count": 12,
     "metadata": {},
     "output_type": "execute_result"
    }
   ],
   "source": [
    "def fib0(n: Int): Int = {\n",
    "    if (n < 2) n\n",
    "    else fib0(n-2) + fib0(n-1)\n",
    "}\n",
    "\n",
    "println(\n",
    "    (for {\n",
    "        i <- 0 to 10\n",
    "    } yield fib0(i)).mkString(\", \"))"
   ]
  },
  {
   "cell_type": "code",
   "execution_count": 13,
   "id": "551edb91",
   "metadata": {},
   "outputs": [
    {
     "name": "stdout",
     "output_type": "stream",
     "text": [
      "0, 1, 1, 2, 3, 5, 8, 13, 21, 34, 55\n"
     ]
    },
    {
     "data": {
      "text/plain": [
       "defined \u001b[32mfunction\u001b[39m \u001b[36mfib\u001b[39m"
      ]
     },
     "execution_count": 13,
     "metadata": {},
     "output_type": "execute_result"
    }
   ],
   "source": [
    "def fib(n: Int): Int = {\n",
    "    @annotation.tailrec\n",
    "    def go(p: (Int, Int), idx: Int): (Int, Int) = {\n",
    "        if (idx == 0) p\n",
    "        else go((p._2, p._1 + p._2), idx-1)\n",
    "    }\n",
    "    \n",
    "    go((0,1), n)._1\n",
    "}\n",
    "\n",
    "println(\n",
    "    (for {\n",
    "        i <- 0 to 10\n",
    "    } yield fib(i)).mkString(\", \"))\n"
   ]
  },
  {
   "cell_type": "code",
   "execution_count": 14,
   "id": "80b10f12",
   "metadata": {},
   "outputs": [
    {
     "data": {
      "text/plain": [
       "defined \u001b[32mobject\u001b[39m \u001b[36mMyModule\u001b[39m\n",
       "\u001b[36mres13_1\u001b[39m: \u001b[32mString\u001b[39m = \u001b[32m\"The absolute value of -42 is 42\"\u001b[39m\n",
       "\u001b[36mres13_2\u001b[39m: \u001b[32mString\u001b[39m = \u001b[32m\"The factorial of 7 is 5040.\"\u001b[39m"
      ]
     },
     "execution_count": 14,
     "metadata": {},
     "output_type": "execute_result"
    }
   ],
   "source": [
    "object MyModule {\n",
    "    def abs(n: Int): Int = \n",
    "        if (n < 0) -n\n",
    "        else n\n",
    "    \n",
    "    // private\n",
    "    def formatAbs(x: Int) = {\n",
    "        val msg = \"The absolute value of %d is %d\"\n",
    "        msg.format(x, abs(x))\n",
    "    }\n",
    "    \n",
    "    // private\n",
    "    def formatFactorial(n: Int) = {\n",
    "        val msg = \"The factorial of %d is %d.\"\n",
    "        msg.format(n, factorial(n))\n",
    "    }\n",
    "}\n",
    "\n",
    "// import MyModule._\n",
    "MyModule.formatAbs(-42)\n",
    "MyModule.formatFactorial(7)"
   ]
  },
  {
   "cell_type": "code",
   "execution_count": 15,
   "id": "87aa47e9",
   "metadata": {},
   "outputs": [
    {
     "data": {
      "text/plain": [
       "defined \u001b[32mfunction\u001b[39m \u001b[36mformatResult\u001b[39m\n",
       "\u001b[36mres14_1\u001b[39m: \u001b[32mString\u001b[39m = \u001b[32m\"The absolute value of -42 is 42.\"\u001b[39m\n",
       "\u001b[36mres14_2\u001b[39m: \u001b[32mString\u001b[39m = \u001b[32m\"The factorial of 7 is 5040.\"\u001b[39m"
      ]
     },
     "execution_count": 15,
     "metadata": {},
     "output_type": "execute_result"
    }
   ],
   "source": [
    "def formatResult(name: String, n: Int, f: Int => Int) = {\n",
    "    val msg = \"The %s of %d is %d.\"\n",
    "    msg.format(name, n, f(n))\n",
    "}\n",
    "\n",
    "formatResult(\"absolute value\", -42, abs)\n",
    "formatResult(\"factorial\", 7, factorial)"
   ]
  },
  {
   "cell_type": "markdown",
   "id": "af45008b",
   "metadata": {},
   "source": [
    "# 2.5 Polymorphic functions: abstracting over types"
   ]
  },
  {
   "cell_type": "code",
   "execution_count": 16,
   "id": "4608016e",
   "metadata": {},
   "outputs": [
    {
     "data": {
      "text/plain": [
       "defined \u001b[32mfunction\u001b[39m \u001b[36mfindFirst\u001b[39m"
      ]
     },
     "execution_count": 16,
     "metadata": {},
     "output_type": "execute_result"
    }
   ],
   "source": [
    "def findFirst(ss: Array[String], key: String): Int = {\n",
    "    @annotation.tailrec\n",
    "    def loop(n: Int): Int = \n",
    "        if (n >= ss.length) -1\n",
    "        else if (ss(n) == key) n\n",
    "        else loop(n + 1)\n",
    "    \n",
    "    loop(0)\n",
    "}"
   ]
  },
  {
   "cell_type": "code",
   "execution_count": 17,
   "id": "0fb62529",
   "metadata": {},
   "outputs": [
    {
     "data": {
      "text/plain": [
       "defined \u001b[32mfunction\u001b[39m \u001b[36mfindFirst\u001b[39m"
      ]
     },
     "execution_count": 17,
     "metadata": {},
     "output_type": "execute_result"
    }
   ],
   "source": [
    "def findFirst[A](as: Array[A], p: A => Boolean): Int = {\n",
    "    @annotation.tailrec\n",
    "    def loop(n: Int): Int = \n",
    "        if (n >= as.length) -1\n",
    "        else if (p(as(n))) n\n",
    "        else loop(n + 1)\n",
    "    \n",
    "    loop(0)\n",
    "}"
   ]
  },
  {
   "cell_type": "markdown",
   "id": "eae101cb",
   "metadata": {},
   "source": [
    "## EXERCISE 2.2\n",
    "\n",
    "Implement isSorted, which checks whether an Array[A] is sorted according to a\n",
    "given comparison function:\n",
    "\n",
    "```scala\n",
    "def isSorted[A](as: Array[A], ordered: (A,A) => Boolean): Boolean\n",
    "```"
   ]
  },
  {
   "cell_type": "code",
   "execution_count": 20,
   "id": "12f8ac9d",
   "metadata": {},
   "outputs": [
    {
     "data": {
      "text/plain": [
       "defined \u001b[32mfunction\u001b[39m \u001b[36misSorted\u001b[39m\n",
       "\u001b[36masc\u001b[39m: (\u001b[32mInt\u001b[39m, \u001b[32mInt\u001b[39m) => \u001b[32mBoolean\u001b[39m = ammonite.$sess.cmd19$Helper$$Lambda$2776/1046247325@38665f40\n",
       "\u001b[36mres19_2\u001b[39m: \u001b[32mBoolean\u001b[39m = \u001b[32mtrue\u001b[39m\n",
       "\u001b[36mres19_3\u001b[39m: \u001b[32mBoolean\u001b[39m = \u001b[32mtrue\u001b[39m\n",
       "\u001b[36mres19_4\u001b[39m: \u001b[32mBoolean\u001b[39m = \u001b[32mfalse\u001b[39m"
      ]
     },
     "execution_count": 20,
     "metadata": {},
     "output_type": "execute_result"
    }
   ],
   "source": [
    "def isSorted[A](as: Array[A], ordered: (A,A) => Boolean): Boolean = {\n",
    "    def loop(n: Int): Boolean =\n",
    "        if (n >= as.length) true\n",
    "        else if (ordered(as(n), as(n-1))) false\n",
    "        else loop(n + 1)\n",
    "    if (as.length == 0) true\n",
    "    else loop(1)\n",
    "}\n",
    "\n",
    "val asc: (Int, Int) => Boolean = _ <= _\n",
    "isSorted(Array(1), asc)\n",
    "isSorted(Array(1, 2), asc)\n",
    "isSorted(Array(2, 1), asc)"
   ]
  },
  {
   "cell_type": "code",
   "execution_count": 21,
   "id": "9e0998d4",
   "metadata": {},
   "outputs": [
    {
     "data": {
      "text/plain": [
       "\u001b[36mres20\u001b[39m: \u001b[32mInt\u001b[39m = \u001b[32m1\u001b[39m"
      ]
     },
     "execution_count": 21,
     "metadata": {},
     "output_type": "execute_result"
    }
   ],
   "source": [
    "findFirst(Array(7, 9, 13), (x: Int) => x == 9)"
   ]
  },
  {
   "cell_type": "code",
   "execution_count": 22,
   "id": "56551816",
   "metadata": {},
   "outputs": [
    {
     "data": {
      "text/plain": [
       "\u001b[36mres21\u001b[39m: (\u001b[32mInt\u001b[39m, \u001b[32mInt\u001b[39m) => \u001b[32mBoolean\u001b[39m = ammonite.$sess.cmd21$Helper$$Lambda$2783/780474893@12b4e4fd"
      ]
     },
     "execution_count": 22,
     "metadata": {},
     "output_type": "execute_result"
    }
   ],
   "source": [
    "(x: Int, y: Int) => x == y"
   ]
  },
  {
   "cell_type": "code",
   "execution_count": 23,
   "id": "c301a778",
   "metadata": {},
   "outputs": [
    {
     "data": {
      "text/plain": [
       "\u001b[36mlessThan\u001b[39m: \u001b[32mAnyRef\u001b[39m with (\u001b[32mInt\u001b[39m, \u001b[32mInt\u001b[39m) => \u001b[32mBoolean\u001b[39m = <function2>\n",
       "\u001b[36mb\u001b[39m: \u001b[32mBoolean\u001b[39m = \u001b[32mtrue\u001b[39m"
      ]
     },
     "execution_count": 23,
     "metadata": {},
     "output_type": "execute_result"
    }
   ],
   "source": [
    "val lessThan = new Function2[Int, Int, Boolean] {\n",
    "    def apply(a: Int, b: Int) = a < b\n",
    "}\n",
    "val b = lessThan(10, 20)"
   ]
  },
  {
   "cell_type": "markdown",
   "id": "321be8ef",
   "metadata": {},
   "source": [
    "# 2.6 Following types to implementations"
   ]
  },
  {
   "cell_type": "code",
   "execution_count": 24,
   "id": "9986a38c",
   "metadata": {},
   "outputs": [
    {
     "data": {
      "text/plain": [
       "defined \u001b[32mfunction\u001b[39m \u001b[36mpartial1\u001b[39m"
      ]
     },
     "execution_count": 24,
     "metadata": {},
     "output_type": "execute_result"
    }
   ],
   "source": [
    "def partial1[A,B,C](a: A, f: (A, B) => C): B => C =\n",
    "    (b: B) => f(a, b)"
   ]
  },
  {
   "cell_type": "markdown",
   "id": "67a41e28",
   "metadata": {},
   "source": [
    "## EXERCISE 2.3\n",
    "\n",
    "Let’s look at another example, currying, which converts a function f of two arguments\n",
    "into a function of one argument that partially applies f. Here again there’s only one\n",
    "implementation that compiles. Write this implementation.\n",
    "\n",
    "```scala\n",
    "def curry[A,B,C](f: (A, B) => C): A => (B => C)\n",
    "```"
   ]
  },
  {
   "cell_type": "code",
   "execution_count": 25,
   "id": "a6bc735c",
   "metadata": {},
   "outputs": [
    {
     "data": {
      "text/plain": [
       "defined \u001b[32mfunction\u001b[39m \u001b[36mcurry\u001b[39m"
      ]
     },
     "execution_count": 25,
     "metadata": {},
     "output_type": "execute_result"
    }
   ],
   "source": [
    "def curry[A,B,C](f: (A, B) => C): A => (B => C) =\n",
    "    (a: A) => ((b: B) => f(a, b))"
   ]
  },
  {
   "cell_type": "markdown",
   "id": "a51f670c",
   "metadata": {},
   "source": [
    "## EXERCISE 2.4\n",
    "\n",
    "Implement uncurry, which reverses the transformation of curry. Note that since =>\n",
    "associates to the right, A => (B => C) can be written as A => B => C.\n",
    "\n",
    "```scala\n",
    "def uncurry[A,B,C](f: A => B => C): (A, B) => C\n",
    "```"
   ]
  },
  {
   "cell_type": "code",
   "execution_count": 26,
   "id": "f20c8a99",
   "metadata": {},
   "outputs": [
    {
     "data": {
      "text/plain": [
       "defined \u001b[32mfunction\u001b[39m \u001b[36muncurry\u001b[39m"
      ]
     },
     "execution_count": 26,
     "metadata": {},
     "output_type": "execute_result"
    }
   ],
   "source": [
    "def uncurry[A,B,C](f: A => B => C): (A, B) => C = \n",
    "    (a: A, b: B) => f(a)(b)"
   ]
  },
  {
   "cell_type": "code",
   "execution_count": 27,
   "id": "c55cd6c6",
   "metadata": {},
   "outputs": [
    {
     "data": {
      "text/plain": [
       "\u001b[36mf\u001b[39m: (\u001b[32mInt\u001b[39m, \u001b[32mInt\u001b[39m) => \u001b[32mInt\u001b[39m = ammonite.$sess.cmd26$Helper$$Lambda$2820/1101631969@194da2"
      ]
     },
     "execution_count": 27,
     "metadata": {},
     "output_type": "execute_result"
    }
   ],
   "source": [
    "val f: (Int, Int) => Int = (x: Int, y: Int) => x + y"
   ]
  },
  {
   "cell_type": "code",
   "execution_count": 28,
   "id": "597c49ea",
   "metadata": {},
   "outputs": [
    {
     "data": {
      "text/plain": [
       "\u001b[36mres27\u001b[39m: \u001b[32mInt\u001b[39m => \u001b[32mInt\u001b[39m => \u001b[32mInt\u001b[39m = ammonite.$sess.cmd24$Helper$$Lambda$2822/565325139@6d3861d1"
      ]
     },
     "execution_count": 28,
     "metadata": {},
     "output_type": "execute_result"
    }
   ],
   "source": [
    "curry(f)"
   ]
  },
  {
   "cell_type": "code",
   "execution_count": 29,
   "id": "384c9432",
   "metadata": {},
   "outputs": [
    {
     "data": {
      "text/plain": [
       "\u001b[36mf2\u001b[39m: (\u001b[32mInt\u001b[39m, \u001b[32mInt\u001b[39m) => \u001b[32mInt\u001b[39m = ammonite.$sess.cmd25$Helper$$Lambda$2824/952528429@24aa6bc8"
      ]
     },
     "execution_count": 29,
     "metadata": {},
     "output_type": "execute_result"
    }
   ],
   "source": [
    "val f2 = uncurry(curry(f))"
   ]
  },
  {
   "cell_type": "code",
   "execution_count": 30,
   "id": "8b6c1bdb",
   "metadata": {},
   "outputs": [
    {
     "data": {
      "text/plain": [
       "\u001b[36mres29_0\u001b[39m: \u001b[32mInt\u001b[39m = \u001b[32m3\u001b[39m\n",
       "\u001b[36mres29_1\u001b[39m: \u001b[32mInt\u001b[39m = \u001b[32m3\u001b[39m"
      ]
     },
     "execution_count": 30,
     "metadata": {},
     "output_type": "execute_result"
    }
   ],
   "source": [
    "f(1,2)\n",
    "f2(1,2)"
   ]
  },
  {
   "cell_type": "markdown",
   "id": "52a953ca",
   "metadata": {},
   "source": [
    "## EXERCISE 2.5\n",
    "\n",
    "Implement the higher-order function that composes two functions.\n",
    "\n",
    "```scala\n",
    "def compose[A,B,C](f: B => C, g: A => B): A => C\n",
    "```"
   ]
  },
  {
   "cell_type": "code",
   "execution_count": 31,
   "id": "ed04044f",
   "metadata": {},
   "outputs": [
    {
     "data": {
      "text/plain": [
       "defined \u001b[32mfunction\u001b[39m \u001b[36mcompose\u001b[39m"
      ]
     },
     "execution_count": 31,
     "metadata": {},
     "output_type": "execute_result"
    }
   ],
   "source": [
    "def compose[A,B,C](f: B => C, g: A => B): A => C =\n",
    "    (a: A) => f(g(a))"
   ]
  },
  {
   "cell_type": "code",
   "execution_count": 32,
   "id": "84aef763",
   "metadata": {},
   "outputs": [
    {
     "data": {
      "text/plain": [
       "\u001b[36mf\u001b[39m: \u001b[32mDouble\u001b[39m => \u001b[32mDouble\u001b[39m = ammonite.$sess.cmd31$Helper$$Lambda$2829/822870283@463cb4b8"
      ]
     },
     "execution_count": 32,
     "metadata": {},
     "output_type": "execute_result"
    }
   ],
   "source": [
    "val f = (x: Double) => math.Pi / 2 - x"
   ]
  },
  {
   "cell_type": "code",
   "execution_count": 33,
   "id": "4c1f4c36",
   "metadata": {},
   "outputs": [
    {
     "data": {
      "text/plain": [
       "\u001b[36mcos\u001b[39m: \u001b[32mDouble\u001b[39m => \u001b[32mDouble\u001b[39m = scala.Function1$$Lambda$720/1423430144@2e4565a1"
      ]
     },
     "execution_count": 33,
     "metadata": {},
     "output_type": "execute_result"
    }
   ],
   "source": [
    "val cos = f andThen math.sin // Function1"
   ]
  },
  {
   "cell_type": "code",
   "execution_count": 35,
   "id": "3799a5f4",
   "metadata": {},
   "outputs": [
    {
     "data": {
      "text/plain": [
       "\u001b[36mcos2\u001b[39m: \u001b[32mDouble\u001b[39m => \u001b[32mDouble\u001b[39m = ammonite.$sess.cmd30$Helper$$Lambda$2835/1998102950@2ab58cb2"
      ]
     },
     "execution_count": 35,
     "metadata": {},
     "output_type": "execute_result"
    }
   ],
   "source": [
    "val cos2 = compose(math.sin, f)"
   ]
  },
  {
   "cell_type": "code",
   "execution_count": 37,
   "id": "f995c47f",
   "metadata": {},
   "outputs": [
    {
     "data": {
      "text/plain": [
       "\u001b[36mres36_0\u001b[39m: \u001b[32mDouble\u001b[39m = \u001b[32m0.6967067093471654\u001b[39m\n",
       "\u001b[36mres36_1\u001b[39m: \u001b[32mDouble\u001b[39m = \u001b[32m0.6967067093471654\u001b[39m"
      ]
     },
     "execution_count": 37,
     "metadata": {},
     "output_type": "execute_result"
    }
   ],
   "source": [
    "cos(4.0/5)\n",
    "cos2(4.0/5)"
   ]
  }
 ],
 "metadata": {
  "kernelspec": {
   "display_name": "Scala",
   "language": "scala",
   "name": "scala"
  },
  "language_info": {
   "codemirror_mode": "text/x-scala",
   "file_extension": ".sc",
   "mimetype": "text/x-scala",
   "name": "scala",
   "nbconvert_exporter": "script",
   "version": "2.13.10"
  },
  "toc": {
   "base_numbering": 1,
   "nav_menu": {},
   "number_sections": true,
   "sideBar": true,
   "skip_h1_title": false,
   "title_cell": "Table of Contents",
   "title_sidebar": "Contents",
   "toc_cell": false,
   "toc_position": {},
   "toc_section_display": true,
   "toc_window_display": true
  }
 },
 "nbformat": 4,
 "nbformat_minor": 5
}
