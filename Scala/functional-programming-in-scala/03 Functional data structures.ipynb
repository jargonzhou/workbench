{
 "cells": [
  {
   "cell_type": "markdown",
   "id": "3371a1f4",
   "metadata": {},
   "source": [
    "# 3.1 Defining functional data structures"
   ]
  },
  {
   "cell_type": "code",
   "execution_count": 1,
   "id": "f2b043ef",
   "metadata": {},
   "outputs": [
    {
     "data": {
      "text/plain": [
       "defined \u001b[32mtrait\u001b[39m \u001b[36mLIST\u001b[39m\n",
       "defined \u001b[32mobject\u001b[39m \u001b[36mNIL\u001b[39m\n",
       "defined \u001b[32mclass\u001b[39m \u001b[36mCONS\u001b[39m\n",
       "defined \u001b[32mobject\u001b[39m \u001b[36mLIST\u001b[39m"
      ]
     },
     "execution_count": 1,
     "metadata": {},
     "output_type": "execute_result"
    }
   ],
   "source": [
    "sealed trait LIST[+A]\n",
    "case object NIL extends LIST[Nothing]\n",
    "case class CONS[+A](head: A, tail: LIST[A]) extends LIST[A]\n",
    "\n",
    "object LIST {\n",
    "    def sum(ints: LIST[Int]): Int = ints match {\n",
    "        case NIL => 0\n",
    "        case CONS(x,xs) => x + sum(xs)\n",
    "    }\n",
    "    \n",
    "    def product(ds: LIST[Double]): Double = ds match {\n",
    "        case NIL => 1.0\n",
    "        case CONS(0.0, _) => 0.0\n",
    "        case CONS(x, xs) => x * product(xs)\n",
    "    }\n",
    "    \n",
    "    def apply[A](as: A*): LIST[A] =\n",
    "        if (as.isEmpty) NIL\n",
    "        else CONS(as.head, apply(as.tail: _*))\n",
    "}"
   ]
  },
  {
   "cell_type": "code",
   "execution_count": 2,
   "id": "4be838d0",
   "metadata": {},
   "outputs": [
    {
     "data": {
      "text/plain": [
       "\u001b[36mex1\u001b[39m: \u001b[32mLIST\u001b[39m[\u001b[32mDouble\u001b[39m] = NIL\n",
       "\u001b[36mex2\u001b[39m: \u001b[32mLIST\u001b[39m[\u001b[32mInt\u001b[39m] = \u001b[33mCONS\u001b[39m(head = \u001b[32m1\u001b[39m, tail = NIL)\n",
       "\u001b[36mex3\u001b[39m: \u001b[32mLIST\u001b[39m[\u001b[32mString\u001b[39m] = \u001b[33mCONS\u001b[39m(head = \u001b[32m\"a\"\u001b[39m, tail = \u001b[33mCONS\u001b[39m(head = \u001b[32m\"b\"\u001b[39m, tail = NIL))"
      ]
     },
     "execution_count": 2,
     "metadata": {},
     "output_type": "execute_result"
    }
   ],
   "source": [
    "val ex1: LIST[Double] = NIL\n",
    "val ex2: LIST[Int] = CONS(1, NIL)\n",
    "val ex3: LIST[String] = CONS(\"a\", CONS(\"b\", NIL))"
   ]
  },
  {
   "cell_type": "markdown",
   "id": "0a30226e",
   "metadata": {},
   "source": [
    "# 3.2 Pattern matching"
   ]
  },
  {
   "cell_type": "code",
   "execution_count": 3,
   "id": "99ea7096",
   "metadata": {},
   "outputs": [
    {
     "data": {
      "text/plain": [
       "\u001b[36mres2\u001b[39m: \u001b[32mInt\u001b[39m = \u001b[32m42\u001b[39m"
      ]
     },
     "execution_count": 3,
     "metadata": {},
     "output_type": "execute_result"
    }
   ],
   "source": [
    "LIST(1,2,3) match {case _ => 42}"
   ]
  },
  {
   "cell_type": "code",
   "execution_count": 4,
   "id": "0586fff9",
   "metadata": {},
   "outputs": [
    {
     "data": {
      "text/plain": [
       "\u001b[36mres3\u001b[39m: \u001b[32mInt\u001b[39m = \u001b[32m1\u001b[39m"
      ]
     },
     "execution_count": 4,
     "metadata": {},
     "output_type": "execute_result"
    }
   ],
   "source": [
    "LIST(1,2,3) match {case CONS(h,_) => h}"
   ]
  },
  {
   "cell_type": "code",
   "execution_count": 5,
   "id": "d8891c7e",
   "metadata": {},
   "outputs": [
    {
     "data": {
      "text/plain": [
       "\u001b[36mres4\u001b[39m: \u001b[32mLIST\u001b[39m[\u001b[32mInt\u001b[39m] = \u001b[33mCONS\u001b[39m(head = \u001b[32m2\u001b[39m, tail = \u001b[33mCONS\u001b[39m(head = \u001b[32m3\u001b[39m, tail = NIL))"
      ]
     },
     "execution_count": 5,
     "metadata": {},
     "output_type": "execute_result"
    }
   ],
   "source": [
    "LIST(1,2,3) match {case CONS(_,t) => t}"
   ]
  },
  {
   "cell_type": "markdown",
   "id": "395374a0",
   "metadata": {},
   "source": [
    "## EXERCISE 3.1\n",
    "\n",
    "What will be the result of the following match expression?\n",
    "\n",
    "```scala\n",
    "val x = List(1,2,3,4,5) match {\n",
    "    case Cons(x, Cons(2, Cons(4, _))) => x\n",
    "    case Nil => 42\n",
    "    case Cons(x, Cons(y, Cons(3, Cons(4, _)))) => x + y\n",
    "    case Cons(h, t) => h + sum(t)\n",
    "    case _ => 101\n",
    "}\n",
    "```"
   ]
  },
  {
   "cell_type": "code",
   "execution_count": 6,
   "id": "ef8317e4",
   "metadata": {},
   "outputs": [
    {
     "data": {
      "text/plain": [
       "\u001b[32mimport \u001b[39m\u001b[36mLIST._\n",
       "\n",
       "\u001b[39m\n",
       "\u001b[36mx\u001b[39m: \u001b[32mInt\u001b[39m = \u001b[32m3\u001b[39m"
      ]
     },
     "execution_count": 6,
     "metadata": {},
     "output_type": "execute_result"
    }
   ],
   "source": [
    "import LIST._\n",
    "\n",
    "val x = LIST(1,2,3,4,5) match {\n",
    "    case CONS(x, CONS(2, CONS(4, _))) => x\n",
    "    case NIL => 42\n",
    "    case CONS(x, CONS(y, CONS(3, CONS(4, _)))) => x + y\n",
    "    case CONS(h, t) => h + sum(t)\n",
    "    case _ => 101\n",
    "}"
   ]
  },
  {
   "cell_type": "markdown",
   "id": "c89c440b",
   "metadata": {},
   "source": [
    "# 3.3 Data sharing in functional data structures"
   ]
  },
  {
   "cell_type": "markdown",
   "id": "8d271a94",
   "metadata": {},
   "source": [
    "## EXERCISE 3.2\n",
    "\n",
    "Implement the function tail for removing the first element of a List. Note that the\n",
    "function takes constant time. What are different choices you could make in your\n",
    "implementation if the List is Nil? We’ll return to this question in the next chapter."
   ]
  },
  {
   "cell_type": "code",
   "execution_count": 7,
   "id": "2412539a",
   "metadata": {},
   "outputs": [
    {
     "data": {
      "text/plain": [
       "defined \u001b[32mtrait\u001b[39m \u001b[36mLIST\u001b[39m\n",
       "defined \u001b[32mobject\u001b[39m \u001b[36mNIL\u001b[39m\n",
       "defined \u001b[32mclass\u001b[39m \u001b[36mCONS\u001b[39m\n",
       "defined \u001b[32mobject\u001b[39m \u001b[36mLIST\u001b[39m\n",
       "\u001b[36mres6_4\u001b[39m: \u001b[32mNIL\u001b[39m = NIL\n",
       "\u001b[36mres6_5\u001b[39m: \u001b[32mLIST\u001b[39m[\u001b[32mInt\u001b[39m] = \u001b[33mCONS\u001b[39m(head = \u001b[32m2\u001b[39m, tail = NIL)"
      ]
     },
     "execution_count": 7,
     "metadata": {},
     "output_type": "execute_result"
    }
   ],
   "source": [
    "sealed trait LIST[+A] {\n",
    "    def tail: LIST[A]\n",
    "}\n",
    "case object NIL extends LIST[Nothing] {\n",
    "    override def tail = NIL\n",
    "}\n",
    "case class CONS[+A](head: A, tail: LIST[A]) extends LIST[A]\n",
    "\n",
    "object LIST {\n",
    "    def sum(ints: LIST[Int]): Int = ints match {\n",
    "        case NIL => 0\n",
    "        case CONS(x,xs) => x + sum(xs)\n",
    "    }\n",
    "    \n",
    "    def product(ds: LIST[Double]): Double = ds match {\n",
    "        case NIL => 1.0\n",
    "        case CONS(0.0, _) => 0.0\n",
    "        case CONS(x, xs) => x * product(xs)\n",
    "    }\n",
    "    \n",
    "    def apply[A](as: A*): LIST[A] =\n",
    "        if (as.isEmpty) NIL\n",
    "        else CONS(as.head, apply(as.tail: _*))\n",
    "}\n",
    "\n",
    "NIL.tail\n",
    "LIST(1,2).tail"
   ]
  },
  {
   "cell_type": "markdown",
   "id": "43c73b86",
   "metadata": {},
   "source": [
    "## EXERCISE 3.3\n",
    "\n",
    "Using the same idea, implement the function setHead for replacing the first element\n",
    "of a List with a different value."
   ]
  },
  {
   "cell_type": "code",
   "execution_count": 9,
   "id": "8cee718f",
   "metadata": {},
   "outputs": [
    {
     "data": {
      "text/plain": [
       "defined \u001b[32mtrait\u001b[39m \u001b[36mLIST\u001b[39m\n",
       "defined \u001b[32mobject\u001b[39m \u001b[36mNIL\u001b[39m\n",
       "defined \u001b[32mclass\u001b[39m \u001b[36mCONS\u001b[39m\n",
       "defined \u001b[32mobject\u001b[39m \u001b[36mLIST\u001b[39m\n",
       "\u001b[36mres8_4\u001b[39m: \u001b[32mNothing\u001b[39m => \u001b[32mLIST\u001b[39m[\u001b[32mNothing\u001b[39m] = ammonite.$sess.cmd8$Helper$$Lambda$2801/1399130233@7f9c7b3f\n",
       "\u001b[36mres8_5\u001b[39m: \u001b[32mLIST\u001b[39m[\u001b[32mInt\u001b[39m] = \u001b[33mCONS\u001b[39m(head = \u001b[32m3\u001b[39m, tail = NIL)\n",
       "\u001b[36mres8_6\u001b[39m: \u001b[32mLIST\u001b[39m[\u001b[32mInt\u001b[39m] = \u001b[33mCONS\u001b[39m(head = \u001b[32m3\u001b[39m, tail = \u001b[33mCONS\u001b[39m(head = \u001b[32m2\u001b[39m, tail = NIL))"
      ]
     },
     "execution_count": 9,
     "metadata": {},
     "output_type": "execute_result"
    }
   ],
   "source": [
    "sealed trait LIST[+A] {\n",
    "    def tail: LIST[A]\n",
    "    def setHeader[B >: A](a: B): LIST[B]\n",
    "}\n",
    "case object NIL extends LIST[Nothing] {\n",
    "    override def tail = NIL\n",
    "    override def setHeader[B >: Nothing](a: B): LIST[B] = LIST(a)\n",
    "}\n",
    "case class CONS[+A](head: A, tail: LIST[A]) extends LIST[A] {\n",
    "    override def setHeader[B >: A](a: B): LIST[B] = CONS(a, tail)\n",
    "}\n",
    "\n",
    "object LIST {\n",
    "    def sum(ints: LIST[Int]): Int = ints match {\n",
    "        case NIL => 0\n",
    "        case CONS(x,xs) => x + sum(xs)\n",
    "    }\n",
    "    \n",
    "    def product(ds: LIST[Double]): Double = ds match {\n",
    "        case NIL => 1.0\n",
    "        case CONS(0.0, _) => 0.0\n",
    "        case CONS(x, xs) => x * product(xs)\n",
    "    }\n",
    "    \n",
    "    def apply[A](as: A*): LIST[A] =\n",
    "        if (as.isEmpty) NIL\n",
    "        else CONS(as.head, apply(as.tail: _*))\n",
    "}\n",
    "\n",
    "NIL.setHeader(_: Nothing)\n",
    "NIL.setHeader(3)\n",
    "LIST(1,2).setHeader(3)"
   ]
  },
  {
   "cell_type": "markdown",
   "id": "e833a1e4",
   "metadata": {},
   "source": [
    "## EXERCISE 3.4\n",
    "\n",
    "Generalize tail to the function drop, which removes the first n elements from a list.\n",
    "Note that this function takes time proportional only to the number of elements being\n",
    "dropped—we don’t need to make a copy of the entire List.\n",
    "\n",
    "```scala\n",
    "def drop[A](l: List[A], n: Int): List[A]\n",
    "```"
   ]
  },
  {
   "cell_type": "code",
   "execution_count": null,
   "id": "c154aa8b",
   "metadata": {},
   "outputs": [],
   "source": []
  },
  {
   "cell_type": "markdown",
   "id": "5217181e",
   "metadata": {},
   "source": [
    "## EXERCISE 3.5\n",
    "\n",
    "Implement dropWhile, which removes elements from the List prefix as long as they\n",
    "match a predicate.\n",
    "\n",
    "```scala\n",
    "def dropWhile[A](l: List[A], f: A => Boolean): List[A]\n",
    "```"
   ]
  },
  {
   "cell_type": "code",
   "execution_count": null,
   "id": "da3177dc",
   "metadata": {},
   "outputs": [],
   "source": []
  },
  {
   "cell_type": "markdown",
   "id": "5f99a938",
   "metadata": {},
   "source": [
    "# 3.4 Recursion over lists and generalizing to higher-order functions"
   ]
  },
  {
   "cell_type": "code",
   "execution_count": null,
   "id": "e79a1306",
   "metadata": {},
   "outputs": [],
   "source": []
  },
  {
   "cell_type": "markdown",
   "id": "b2806614",
   "metadata": {},
   "source": [
    "# 3.5 Trees"
   ]
  },
  {
   "cell_type": "code",
   "execution_count": null,
   "id": "f439c7ad",
   "metadata": {},
   "outputs": [],
   "source": []
  }
 ],
 "metadata": {
  "kernelspec": {
   "display_name": "Scala",
   "language": "scala",
   "name": "scala"
  },
  "language_info": {
   "codemirror_mode": "text/x-scala",
   "file_extension": ".sc",
   "mimetype": "text/x-scala",
   "name": "scala",
   "nbconvert_exporter": "script",
   "version": "2.13.10"
  },
  "toc": {
   "base_numbering": 1,
   "nav_menu": {},
   "number_sections": true,
   "sideBar": true,
   "skip_h1_title": false,
   "title_cell": "Table of Contents",
   "title_sidebar": "Contents",
   "toc_cell": false,
   "toc_position": {},
   "toc_section_display": true,
   "toc_window_display": true
  }
 },
 "nbformat": 4,
 "nbformat_minor": 5
}
