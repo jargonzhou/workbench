{
 "cells": [
  {
   "cell_type": "markdown",
   "metadata": {},
   "source": [
    "# almond\n",
    "* A Scala kernel for Jupyter: https://almond.sh/\n",
    "\n",
    "\n",
    "ref:\n",
    "\n",
    "* [Interactive Computing in Scala with Jupyter and almond](https://blog.brunk.io/posts/interactive-computing-with-jupyter-and-almond/)\n",
    "* [Which API for plotting](https://users.scala-lang.org/t/which-api-for-plotting/8826) - Scala users"
   ]
  },
  {
   "cell_type": "markdown",
   "metadata": {},
   "source": [
    "# Coursier\n",
    "* Pure Scala Artifact Fetching: https://get-coursier.io/"
   ]
  },
  {
   "cell_type": "raw",
   "metadata": {
    "vscode": {
     "languageId": "raw"
    }
   },
   "source": [
    "# install\n",
    "cs install scala:3.6.2 scalac:3.6.2\n",
    "cs launch --use-bootstrap almond -- --install --force\n",
    "\n",
    "cs install scala:2.13.13 scalac:2.13.13\n",
    "cs launch --use-bootstrap almond --scala 2.13.13 -- --install --force"
   ]
  },
  {
   "cell_type": "code",
   "execution_count": 1,
   "metadata": {},
   "outputs": [
    {
     "data": {
      "text/plain": [
       "\u001b[36ma\u001b[39m: \u001b[32mInt\u001b[39m = \u001b[32m1\u001b[39m\r\n",
       "\u001b[36mb\u001b[39m: \u001b[32mInt\u001b[39m = \u001b[32m2\u001b[39m\r\n",
       "\u001b[36mres1_2\u001b[39m: \u001b[32mInt\u001b[39m = \u001b[32m3\u001b[39m"
      ]
     },
     "execution_count": 1,
     "metadata": {},
     "output_type": "execute_result"
    }
   ],
   "source": [
    "val a = 1\n",
    "val b = 2\n",
    "a + b"
   ]
  },
  {
   "cell_type": "code",
   "execution_count": 2,
   "metadata": {},
   "outputs": [
    {
     "data": {
      "text/plain": [
       "\u001b[36mres2\u001b[39m: \u001b[32mString\u001b[39m = \u001b[32m\"a=1\"\u001b[39m"
      ]
     },
     "execution_count": 2,
     "metadata": {},
     "output_type": "execute_result"
    }
   ],
   "source": [
    "// string interpolation\n",
    "s\"a=${a}\""
   ]
  },
  {
   "cell_type": "markdown",
   "metadata": {},
   "source": [
    "# Jupyter API"
   ]
  },
  {
   "cell_type": "code",
   "execution_count": 2,
   "metadata": {},
   "outputs": [
    {
     "data": {
      "text/plain": [
       "\u001b[36mres2\u001b[39m: \u001b[32mString\u001b[39m = \u001b[32m\"aaa\"\u001b[39m"
      ]
     },
     "execution_count": 2,
     "metadata": {},
     "output_type": "execute_result"
    }
   ],
   "source": [
    "kernel.stdin() // clear text input"
   ]
  },
  {
   "cell_type": "code",
   "execution_count": 5,
   "metadata": {},
   "outputs": [
    {
     "data": {
      "text/plain": [
       "defined \u001b[32mclass\u001b[39m \u001b[36mPassword\u001b[39m\r\n",
       "\u001b[36muser\u001b[39m: \u001b[32mString\u001b[39m = \u001b[32m\"user\"\u001b[39m\r\n",
       "\u001b[36mpassword\u001b[39m: \u001b[32mPassword\u001b[39m = ****"
      ]
     },
     "execution_count": 5,
     "metadata": {},
     "output_type": "execute_result"
    }
   ],
   "source": [
    "final class Password(val value: String) {\n",
    "  override def toString = \"****\"\n",
    "}\n",
    "\n",
    "val user = kernel.stdin(\"user: \")\n",
    "val password = new Password(kernel.stdin(prompt = \">> \", password = true))\n"
   ]
  },
  {
   "cell_type": "markdown",
   "metadata": {},
   "source": [
    "# Ploting"
   ]
  },
  {
   "cell_type": "code",
   "execution_count": 7,
   "metadata": {},
   "outputs": [
    {
     "data": {
      "text/html": [
       "<b>Bold</b>"
      ]
     },
     "metadata": {},
     "output_type": "display_data"
    },
    {
     "data": {
      "text/plain": [
       "\u001b[32mimport \u001b[39m\u001b[36malmond.display._\u001b[39m"
      ]
     },
     "execution_count": 7,
     "metadata": {},
     "output_type": "execute_result"
    }
   ],
   "source": [
    "import almond.display._\n",
    "\n",
    "Html(\"<b>Bold</b>\")"
   ]
  },
  {
   "cell_type": "code",
   "execution_count": 19,
   "metadata": {},
   "outputs": [
    {
     "data": {
      "application/myapp+json": {
       "a": "A"
      },
      "text/html": [
       "<b>AAAA</b>"
      ]
     },
     "metadata": {},
     "output_type": "display_data"
    }
   ],
   "source": [
    "kernel.publish.display(\n",
    "  almond.interpreter.api.DisplayData(\n",
    "    Map(\n",
    "      // if we set up an extension for application/myapp+json, first element should be picked\n",
    "      // \"application/myapp+json\" -> \"\"\"{\"a\": \"A\"}\"\"\",\n",
    "      // else, text/html should be displayed\n",
    "      \"text/html\" -> \"<b>AAAA</b>\"\n",
    "    )\n",
    "  )\n",
    ")"
   ]
  },
  {
   "cell_type": "code",
   "execution_count": 9,
   "metadata": {},
   "outputs": [
    {
     "name": "stderr",
     "output_type": "stream",
     "text": [
      "cmd9.sc:2: object Image in object Display is deprecated (since 0.4.1): Use almond.display.Image instead\n",
      "val res9_1 = IMAGE.fromUrl(\"https://scala-lang.org/resources/img/frontpage/scala-spiral.png\", width=Some(\"50\"))\n",
      "             ^\n",
      "cmd9.sc:16: class Display in package helpers is deprecated (since 0.4.1): Use almond.display.Data instead\n",
      "          .print(res9_1, \"res9_1\", _root_.scala.None)\n",
      "                ^\n"
     ]
    },
    {
     "data": {
      "text/html": [
       "<img src='https://scala-lang.org/resources/img/frontpage/scala-spiral.png' width=50/>"
      ]
     },
     "metadata": {
      "width": "50"
     },
     "output_type": "display_data"
    },
    {
     "data": {
      "text/plain": [
       "\u001b[32mimport \u001b[39m\u001b[36malmond.api.helpers.Display.{Image => IMAGE}\u001b[39m\r\n",
       "\u001b[36mres9_1\u001b[39m: \u001b[32malmond\u001b[39m.\u001b[32mapi\u001b[39m.\u001b[32mhelpers\u001b[39m.\u001b[32mDisplay\u001b[39m = image/png #d4dcff13-f72f-4dce-b71f-cca1866b376a"
      ]
     },
     "execution_count": 9,
     "metadata": {},
     "output_type": "execute_result"
    }
   ],
   "source": [
    "import almond.api.helpers.Display.{Image => IMAGE}\n",
    "IMAGE.fromUrl(\"https://scala-lang.org/resources/img/frontpage/scala-spiral.png\", width=Some(\"50\"))"
   ]
  },
  {
   "cell_type": "code",
   "execution_count": 4,
   "metadata": {},
   "outputs": [
    {
     "data": {
      "text/html": [
       "\n",
       "<b>\n",
       "aaa\n",
       "<div id=\"vis\"></div>\n",
       "</b>\n"
      ]
     },
     "metadata": {},
     "output_type": "display_data"
    },
    {
     "data": {
      "text/plain": [
       "\u001b[36mhtml\u001b[39m: \u001b[32mString\u001b[39m = \u001b[32m\"\"\"\n",
       "<b>\n",
       "aaa\n",
       "<div id=\"vis\"></div>\n",
       "</b>\n",
       "\"\"\"\u001b[39m"
      ]
     },
     "execution_count": 4,
     "metadata": {},
     "output_type": "execute_result"
    }
   ],
   "source": [
    "val html = \"\"\"\n",
    "<b>\n",
    "aaa\n",
    "<div id=\"vis\"></div>\n",
    "</b>\n",
    "\"\"\"\n",
    "\n",
    "kernel.publish.display(\n",
    "  almond.interpreter.api.DisplayData(\n",
    "    Map(\"text/html\" -> html)\n",
    "  )\n",
    ")"
   ]
  },
  {
   "cell_type": "code",
   "execution_count": 6,
   "metadata": {},
   "outputs": [
    {
     "data": {
      "text/plain": [
       "\u001b[36mres6_1\u001b[39m: \u001b[32mBoolean\u001b[39m = \u001b[32mtrue\u001b[39m"
      ]
     },
     "execution_count": 6,
     "metadata": {},
     "output_type": "execute_result"
    }
   ],
   "source": [
    "private def runSql(sql: String): String = {\n",
    "  println(\"Running query...\")\n",
    "  val fakeResult =\n",
    "    \"\"\"<table>\n",
    "      |<tr>\n",
    "      |<th>Id</th>\n",
    "      |<th>Name</th>\n",
    "      |</tr>\n",
    "      |<tr>\n",
    "      |<td>1</td>\n",
    "      |<td>Tree</td>\n",
    "      |</tr>\n",
    "      |<tr>\n",
    "      |<td>2</td>\n",
    "      |<td>Apple</td>\n",
    "      |</tr>\n",
    "      |</table>\n",
    "      |\"\"\".stripMargin\n",
    "  fakeResult\n",
    "}\n",
    "\n",
    "kernel.addExecuteHook { code =>\n",
    "  import almond.api.JupyterApi\n",
    "  import almond.interpreter.api.DisplayData\n",
    "\n",
    "  if (code.linesIterator.take(1).toList == List(\"%sql\")) {\n",
    "    val sql = code.linesWithSeparators.drop(1).mkString // drop first line with \"%sql\"\n",
    "    val result = runSql(sql)\n",
    "    Left(JupyterApi.ExecuteHookResult.Success(DisplayData.html(result)))\n",
    "  }\n",
    "  else\n",
    "    Right(code) // just pass on code\n",
    "}"
   ]
  },
  {
   "cell_type": "code",
   "execution_count": 6,
   "metadata": {},
   "outputs": [
    {
     "name": "stdout",
     "output_type": "stream",
     "text": [
      "Running query...\n"
     ]
    },
    {
     "data": {
      "text/html": [
       "<table>\n",
       "<tr>\n",
       "<th>Id</th>\n",
       "<th>Name</th>\n",
       "</tr>\n",
       "<tr>\n",
       "<td>1</td>\n",
       "<td>Tree</td>\n",
       "</tr>\n",
       "<tr>\n",
       "<td>2</td>\n",
       "<td>Apple</td>\n",
       "</tr>\n",
       "</table>\n"
      ]
     },
     "execution_count": 6,
     "metadata": {},
     "output_type": "execute_result"
    }
   ],
   "source": [
    "%sql\n",
    "SELECT id, name FROM my_table"
   ]
  },
  {
   "cell_type": "markdown",
   "metadata": {},
   "source": [
    "## Javascript"
   ]
  },
  {
   "cell_type": "code",
   "execution_count": 1,
   "metadata": {},
   "outputs": [
    {
     "data": {
      "text/html": [
       "<div id=\"vis\"></div>"
      ]
     },
     "metadata": {},
     "output_type": "display_data"
    }
   ],
   "source": [
    "Html(\"\"\"<div id=\"vis\"></div>\"\"\")"
   ]
  },
  {
   "cell_type": "code",
   "execution_count": 3,
   "metadata": {},
   "outputs": [
    {
     "name": "stderr",
     "output_type": "stream",
     "text": [
      "Downloading https://repo1.maven.org/maven2/com/lihaoyi/ujson_2.13/4.0.2/ujson_2.13-4.0.2-sources.jar\n",
      "Downloading https://repo1.maven.org/maven2/com/lihaoyi/upickle-core_2.13/4.0.2/upickle-core_2.13-4.0.2-sources.jar\n",
      "Downloaded https://repo1.maven.org/maven2/com/lihaoyi/upickle-core_2.13/4.0.2/upickle-core_2.13-4.0.2-sources.jar\n",
      "Downloaded https://repo1.maven.org/maven2/com/lihaoyi/ujson_2.13/4.0.2/ujson_2.13-4.0.2-sources.jar\n",
      "Downloading https://repo1.maven.org/maven2/com/lihaoyi/requests_2.13/0.9.0/requests_2.13-0.9.0-sources.jar\n",
      "Downloaded https://repo1.maven.org/maven2/com/lihaoyi/requests_2.13/0.9.0/requests_2.13-0.9.0-sources.jar\n"
     ]
    },
    {
     "ename": "requests.TimeoutException",
     "evalue": "Request to https://vega.github.io/vega/examples/bar-chart.vg.json timed out. (readTimeout: 10000, connectTimout: 10000)",
     "output_type": "error",
     "traceback": [
      "\u001b[31mrequests.TimeoutException: Request to https://vega.github.io/vega/examples/bar-chart.vg.json timed out. (readTimeout: 10000, connectTimout: 10000)\u001b[39m",
      "  requests.Requester$$anon$1.readBytesThrough(\u001b[32mRequester.scala\u001b[39m:\u001b[32m287\u001b[39m)",
      "  geny.Readable.writeBytesTo(\u001b[32mWritable.scala\u001b[39m:\u001b[32m93\u001b[39m)",
      "  geny.Readable.writeBytesTo$(\u001b[32mWritable.scala\u001b[39m:\u001b[32m93\u001b[39m)",
      "  requests.Requester$$anon$1.writeBytesTo(\u001b[32mRequester.scala\u001b[39m:\u001b[32m191\u001b[39m)",
      "  requests.Requester.apply(\u001b[32mRequester.scala\u001b[39m:\u001b[32m140\u001b[39m)",
      "  ammonite.$sess.cmd3$Helper.<init>(\u001b[32mcmd3.sc\u001b[39m:\u001b[32m26\u001b[39m)",
      "  ammonite.$sess.cmd3$.<clinit>(\u001b[32mcmd3.sc\u001b[39m:\u001b[32m7\u001b[39m)"
     ]
    }
   ],
   "source": [
    "// NOT WORKING in VSCode!!!\n",
    "\n",
    "// lib\n",
    "Javascript(\"\"\"\n",
    "var script = document.createElement('script'); \n",
    "script.type = 'text/javascript'; \n",
    "script.src = 'https://cdn.jsdelivr.net/npm/vega@5'; \n",
    "document.head.appendChild(script); \n",
    "\n",
    "var script = document.createElement('script'); \n",
    "script.type = 'text/javascript'; \n",
    "script.src = 'https://cdn.jsdelivr.net/npm/vega-lite@5'; \n",
    "document.head.appendChild(script); \n",
    "\n",
    "var script = document.createElement('script'); \n",
    "script.type = 'text/javascript'; \n",
    "script.src = 'https://cdn.jsdelivr.net/npm/vega-embed@6'; \n",
    "document.head.appendChild(script); \n",
    "\"\"\")\n",
    "\n",
    "// data\n",
    "// import $ivy.`com.lihaoyi::ujson:1.3.12`\n",
    "import $ivy.`com.lihaoyi::ujson:4.0.2`\n",
    "// import $ivy.`com.lihaoyi::requests:0.6.5`\n",
    "import $ivy.`com.lihaoyi::requests:0.9.0`\n",
    "val spec = ujson.read(requests.get(\"https://vega.github.io/vega/examples/bar-chart.vg.json\").text())\n",
    "\n",
    "spec(\"data\")(0)(\"values\") = ujson.Arr(\n",
    "  ujson.Obj(\"category\" -> \"Epic\", \"amount\" -> 50),\n",
    "  ujson.Obj(\"category\" -> \"amounts\", \"amount\" -> 100)\n",
    ")\n",
    "\n",
    "// display\n",
    "Javascript(s\"\"\" vegaEmbed(element, $spec).then(function(result) { }).catch(console.error) \"\"\")"
   ]
  }
 ],
 "metadata": {
  "kernelspec": {
   "display_name": "Scala",
   "language": "scala",
   "name": "scala"
  },
  "language_info": {
   "codemirror_mode": "text/x-scala",
   "file_extension": ".sc",
   "mimetype": "text/x-scala",
   "name": "scala",
   "nbconvert_exporter": "script",
   "version": "2.13.13"
  }
 },
 "nbformat": 4,
 "nbformat_minor": 2
}
