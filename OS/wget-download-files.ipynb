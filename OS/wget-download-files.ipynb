{
 "cells": [
  {
   "cell_type": "code",
   "execution_count": 8,
   "metadata": {},
   "outputs": [
    {
     "name": "stdout",
     "output_type": "stream",
     "text": [
      "['5_min_rule_sigmod.pdf', 'alphasortsigmod.pdf', 'aries.pdf', 'bigtable.pdf', 'btree.pdf', 'cap.pdf', 'chord.pdf', 'cloud-computing.pdf', 'codd.pdf', 'column-vs-row.pdf', 'cstore.pdf', 'data-center-computer.pdf', 'dremel.pdf', 'dynamo.pdf', 'eddies.pdf', 'fntdb07-architecture.pdf', 'gfs.pdf', 'goes-around.pdf', 'mapreduce.pdf', 'occ.pdf', 'patsort-sigmod14.pdf', 'paxos.pdf', 'raft.pdf', 'rstar-tree.pdf', 'shark.pdf', 'spark.pdf', 'systemr-optimizer.pdf', 'systemr.pdf', 'trusting-trust.pdf', 'variant-index.pdf', 'vertica-7-years.pdf']\n",
      "['.DS_Store', '5_min_rule_sigmod.pdf', 'alphasortsigmod.pdf', 'aries.pdf', 'bigtable.pdf', 'btree.pdf', 'cap.pdf', 'chord.pdf', 'cloud-computing.pdf', 'codd.pdf', 'column-vs-row.pdf', 'cstore.pdf', 'data-center-computer.pdf', 'dremel.pdf', 'dynamo.pdf', 'eddies.pdf', 'fntdb07-architecture.pdf', 'gfs.pdf', 'goes-around.pdf', 'mapreduce.pdf', 'occ.pdf', 'patsort-sigmod14.pdf', 'paxos.pdf', 'raft.pdf', 'rstar-tree.pdf', 'shark.pdf', 'spark.pdf', 'systemr-optimizer.pdf', 'systemr.pdf', 'trusting-trust.pdf', 'variant-index.pdf', 'vertica-7-years.pdf']\n",
      "[]\n",
      "CompletedProcess(args='rm -rf /Users/zhoujiagen/Google\\\\ Drive/references/gda-data-storage/db-readings/wget-log', returncode=0, stdout=b'', stderr=b'')\n"
     ]
    }
   ],
   "source": [
    "import os\n",
    "import subprocess\n",
    "\n",
    "file_names = []\n",
    "\n",
    "URL_PREFIX = \"https://raw.githubusercontent.com/rxin/db-readings/master/papers/\"\n",
    "SOURCE_FILE = \"/Users/zhoujiagen/Downloads/download.txt\"\n",
    "TARGET_DIR = \"/Users/zhoujiagen/Google Drive/references/gda-data-storage/db-readings/\"\n",
    "TARGET_DIR_IN_SHELL = TARGET_DIR.replace(\" \", \"\\ \")\n",
    "\n",
    "with open(SOURCE_FILE, 'rt') as f:\n",
    "    for file_name in f.readlines():\n",
    "        file_names.append(file_name[:len(file_name)-1])\n",
    "file_names.sort()\n",
    "print(file_names)\n",
    "\n",
    "exist_file_names = os.listdir(TARGET_DIR)\n",
    "exist_file_names.sort()\n",
    "print(exist_file_names)\n",
    "\n",
    "to_download_file_names = []\n",
    "for file_name in file_names:\n",
    "    if file_name not in exist_file_names:\n",
    "        to_download_file_names.append(file_name)\n",
    "to_download_file_names.sort()\n",
    "print(to_download_file_names)        \n",
    "        \n",
    "url_targets = map(lambda x: (URL_PREFIX + x, TARGET_DIR_IN_SHELL + x), to_download_file_names)\n",
    "for url_target in url_targets:\n",
    "    cmd = \"wget {} -O {}\".format(url_target[0], url_target[1])\n",
    "    print(cmd)\n",
    "    p = subprocess.run(cmd, shell=True, check=True, capture_output=True)\n",
    "    print(p)\n",
    "\n",
    "# 移除wget-log\n",
    "cmd = \"rm -rf {}wget-log\".format(TARGET_DIR_IN_SHELL)\n",
    "p = subprocess.run(cmd, shell=True, check=True, capture_output=True)\n",
    "print(p)    "
   ]
  },
  {
   "cell_type": "code",
   "execution_count": null,
   "metadata": {},
   "outputs": [],
   "source": []
  }
 ],
 "metadata": {
  "kernelspec": {
   "display_name": "Python 3 (ipykernel)",
   "language": "python",
   "name": "python3"
  },
  "language_info": {
   "codemirror_mode": {
    "name": "ipython",
    "version": 3
   },
   "file_extension": ".py",
   "mimetype": "text/x-python",
   "name": "python",
   "nbconvert_exporter": "python",
   "pygments_lexer": "ipython3",
   "version": "3.8.16"
  },
  "toc": {
   "base_numbering": 1,
   "nav_menu": {},
   "number_sections": true,
   "sideBar": true,
   "skip_h1_title": false,
   "title_cell": "Table of Contents",
   "title_sidebar": "Contents",
   "toc_cell": false,
   "toc_position": {},
   "toc_section_display": true,
   "toc_window_display": false
  }
 },
 "nbformat": 4,
 "nbformat_minor": 2
}
