{
 "cells": [
  {
   "cell_type": "markdown",
   "metadata": {},
   "source": [
    "# Shell Programming\n",
    "\n",
    "Books:\n",
    "- Bresnahan, Christine / Blum, Richard. **Linux Command Line and Shell Scripting Bible**. 2015, 3. edition. Wiley."
   ]
  }
 ],
 "metadata": {
  "language_info": {
   "name": "python"
  }
 },
 "nbformat": 4,
 "nbformat_minor": 2
}
