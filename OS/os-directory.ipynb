{
 "cells": [
  {
   "cell_type": "markdown",
   "metadata": {},
   "source": [
    "- [How to list directory tree structure in python?](https://www.tutorialspoint.com/how-to-list-directory-tree-structure-in-python)"
   ]
  },
  {
   "cell_type": "markdown",
   "metadata": {},
   "source": [
    "# Using `os.walk()` for Recursive Directory Traversal"
   ]
  },
  {
   "cell_type": "code",
   "execution_count": 3,
   "metadata": {},
   "outputs": [
    {
     "name": "stdout",
     "output_type": "stream",
     "text": [
      "Directory: .\n",
      "  File: ipywidgets-example.ipynb\n",
      "  File: itchat.ipynb\n",
      "  File: local-maven.ipynb\n",
      "  File: scholarly.ipynb\n",
      "  File: SlackDeveloperKitforPython.ipynb\n",
      "  File: wget-download-files.ipynb\n",
      "  File: win32.ipynb\n",
      "Directory: .\\Ethereum\n",
      "  File: Ethereum-JSON.ipynb\n",
      "  File: Ethereum-playground.ipynb\n"
     ]
    }
   ],
   "source": [
    "import os\n",
    "\n",
    "def list_directory_tree_with_os_walk(starting_directory):\n",
    "    for root, directories, files in os.walk(starting_directory):\n",
    "        print(f\"Directory: {root}\")\n",
    "        for file in files:\n",
    "            print(f\"  File: {file}\")\n",
    "\n",
    "list_directory_tree_with_os_walk(\".\")"
   ]
  },
  {
   "cell_type": "markdown",
   "metadata": {},
   "source": [
    "# Utilizing `pathlib.Path` for Directory Tree Traversal\n",
    "\n",
    "- https://docs.python.org/3/library/pathlib.html"
   ]
  },
  {
   "cell_type": "code",
   "execution_count": 7,
   "metadata": {},
   "outputs": [
    {
     "name": "stdout",
     "output_type": "stream",
     "text": [
      "Directory: Ethereum\n",
      "File: ipywidgets-example.ipynb\n",
      "File: itchat.ipynb\n",
      "File: local-maven.ipynb\n",
      "File: scholarly.ipynb\n",
      "File: SlackDeveloperKitforPython.ipynb\n",
      "File: wget-download-files.ipynb\n",
      "File: win32.ipynb\n",
      "File: Ethereum\\Ethereum-JSON.ipynb\n",
      "File: Ethereum\\Ethereum-playground.ipynb\n"
     ]
    }
   ],
   "source": [
    "from pathlib import Path\n",
    "\n",
    "def list_directory_tree_with_pathlib(starting_directory, glob=\"*\"):\n",
    "    path_object = Path(starting_directory)\n",
    "    for file_path in path_object.rglob(glob):\n",
    "        if file_path.is_file():\n",
    "            print(f\"File: {file_path}\")\n",
    "        elif file_path.is_dir():\n",
    "            print(f\"Directory: {file_path}\")\n",
    "\n",
    "list_directory_tree_with_pathlib(\".\")"
   ]
  },
  {
   "cell_type": "code",
   "execution_count": null,
   "metadata": {},
   "outputs": [],
   "source": [
    "list_directory_tree_with_pathlib(\"C:/Users/zhouj/.m2/repository\", \"*.pom\")"
   ]
  },
  {
   "cell_type": "code",
   "execution_count": 61,
   "metadata": {},
   "outputs": [
    {
     "data": {
      "text/html": [
       "<div>\n",
       "<style scoped>\n",
       "    .dataframe tbody tr th:only-of-type {\n",
       "        vertical-align: middle;\n",
       "    }\n",
       "\n",
       "    .dataframe tbody tr th {\n",
       "        vertical-align: top;\n",
       "    }\n",
       "\n",
       "    .dataframe thead th {\n",
       "        text-align: right;\n",
       "    }\n",
       "</style>\n",
       "<table border=\"1\" class=\"dataframe\">\n",
       "  <thead>\n",
       "    <tr style=\"text-align: right;\">\n",
       "      <th></th>\n",
       "      <th>group</th>\n",
       "      <th>artifact</th>\n",
       "      <th>version</th>\n",
       "      <th>size</th>\n",
       "      <th>ctime</th>\n",
       "    </tr>\n",
       "  </thead>\n",
       "  <tbody>\n",
       "    <tr>\n",
       "      <th>2278</th>\n",
       "      <td>org.rocksdb</td>\n",
       "      <td>rocksdbjni</td>\n",
       "      <td>9.4.0</td>\n",
       "      <td>70111775</td>\n",
       "      <td>2024-08-07 11:15:18.763036</td>\n",
       "    </tr>\n",
       "    <tr>\n",
       "      <th>2098</th>\n",
       "      <td>org.jetbrains.kotlin</td>\n",
       "      <td>kotlin-compiler</td>\n",
       "      <td>1.9.22</td>\n",
       "      <td>61634292</td>\n",
       "      <td>2024-04-26 17:09:10.732087</td>\n",
       "    </tr>\n",
       "    <tr>\n",
       "      <th>2277</th>\n",
       "      <td>org.rocksdb</td>\n",
       "      <td>rocksdbjni</td>\n",
       "      <td>7.0.3</td>\n",
       "      <td>54269203</td>\n",
       "      <td>2024-04-10 10:55:52.766078</td>\n",
       "    </tr>\n",
       "    <tr>\n",
       "      <th>1832</th>\n",
       "      <td>org.bytedeco</td>\n",
       "      <td>opencv</td>\n",
       "      <td>4.9.0-1.5.10</td>\n",
       "      <td>32402985</td>\n",
       "      <td>2024-07-26 09:41:59.711084</td>\n",
       "    </tr>\n",
       "    <tr>\n",
       "      <th>1829</th>\n",
       "      <td>org.bytedeco</td>\n",
       "      <td>opencv</td>\n",
       "      <td>4.9.0-1.5.10</td>\n",
       "      <td>30232840</td>\n",
       "      <td>2024-07-26 09:43:46.465367</td>\n",
       "    </tr>\n",
       "    <tr>\n",
       "      <th>...</th>\n",
       "      <td>...</td>\n",
       "      <td>...</td>\n",
       "      <td>...</td>\n",
       "      <td>...</td>\n",
       "      <td>...</td>\n",
       "    </tr>\n",
       "    <tr>\n",
       "      <th>2126</th>\n",
       "      <td>org.jetbrains.kotlin</td>\n",
       "      <td>kotlin-stdlib-jdk7</td>\n",
       "      <td>1.9.22</td>\n",
       "      <td>961</td>\n",
       "      <td>2024-04-26 17:08:46.489465</td>\n",
       "    </tr>\n",
       "    <tr>\n",
       "      <th>726</th>\n",
       "      <td>io.projectreactor.netty</td>\n",
       "      <td>reactor-netty</td>\n",
       "      <td>1.0.10</td>\n",
       "      <td>365</td>\n",
       "      <td>2024-04-10 10:54:38.302140</td>\n",
       "    </tr>\n",
       "    <tr>\n",
       "      <th>2238</th>\n",
       "      <td>org.openjfx</td>\n",
       "      <td>javafx-graphics</td>\n",
       "      <td>17</td>\n",
       "      <td>261</td>\n",
       "      <td>2024-07-25 18:29:24.046959</td>\n",
       "    </tr>\n",
       "    <tr>\n",
       "      <th>2236</th>\n",
       "      <td>org.openjfx</td>\n",
       "      <td>javafx-base</td>\n",
       "      <td>17</td>\n",
       "      <td>261</td>\n",
       "      <td>2024-07-25 18:30:57.794965</td>\n",
       "    </tr>\n",
       "    <tr>\n",
       "      <th>879</th>\n",
       "      <td>io.sentry</td>\n",
       "      <td>sentry-spring-boot-starter</td>\n",
       "      <td>6.31.0</td>\n",
       "      <td>261</td>\n",
       "      <td>2024-03-20 17:51:47.806101</td>\n",
       "    </tr>\n",
       "  </tbody>\n",
       "</table>\n",
       "<p>2602 rows × 5 columns</p>\n",
       "</div>"
      ],
      "text/plain": [
       "                        group                    artifact       version  \\\n",
       "2278              org.rocksdb                  rocksdbjni         9.4.0   \n",
       "2098     org.jetbrains.kotlin             kotlin-compiler        1.9.22   \n",
       "2277              org.rocksdb                  rocksdbjni         7.0.3   \n",
       "1832             org.bytedeco                      opencv  4.9.0-1.5.10   \n",
       "1829             org.bytedeco                      opencv  4.9.0-1.5.10   \n",
       "...                       ...                         ...           ...   \n",
       "2126     org.jetbrains.kotlin          kotlin-stdlib-jdk7        1.9.22   \n",
       "726   io.projectreactor.netty               reactor-netty        1.0.10   \n",
       "2238              org.openjfx             javafx-graphics            17   \n",
       "2236              org.openjfx                 javafx-base            17   \n",
       "879                 io.sentry  sentry-spring-boot-starter        6.31.0   \n",
       "\n",
       "          size                      ctime  \n",
       "2278  70111775 2024-08-07 11:15:18.763036  \n",
       "2098  61634292 2024-04-26 17:09:10.732087  \n",
       "2277  54269203 2024-04-10 10:55:52.766078  \n",
       "1832  32402985 2024-07-26 09:41:59.711084  \n",
       "1829  30232840 2024-07-26 09:43:46.465367  \n",
       "...        ...                        ...  \n",
       "2126       961 2024-04-26 17:08:46.489465  \n",
       "726        365 2024-04-10 10:54:38.302140  \n",
       "2238       261 2024-07-25 18:29:24.046959  \n",
       "2236       261 2024-07-25 18:30:57.794965  \n",
       "879        261 2024-03-20 17:51:47.806101  \n",
       "\n",
       "[2602 rows x 5 columns]"
      ]
     },
     "execution_count": 61,
     "metadata": {},
     "output_type": "execute_result"
    }
   ],
   "source": [
    "from pathlib import Path\n",
    "import pandas as pd\n",
    "from datetime import datetime\n",
    "\n",
    "# verify with shell: find . | grep -E 'jar$' | wc -l\n",
    "def list_artifact(starting_directory : str, glob=\"*\") -> list[str]:\n",
    "    poms = []\n",
    "    path_object = Path(starting_directory)\n",
    "    for file_path in path_object.rglob(glob):\n",
    "        if file_path.is_file():\n",
    "            stat = file_path.stat()\n",
    "            p = file_path.as_posix()\n",
    "            if p.find('-sources') != -1: # skip sources\n",
    "                continue\n",
    "            artifacts = p.removeprefix(starting_directory).split('/')\n",
    "            # print(artifacts)\n",
    "            poms.append({\n",
    "                # 'folder': file_path.parent.as_posix(),\n",
    "                # 'path': artifacts,\n",
    "                'group': '.'.join(artifacts[:-3]),\n",
    "                'artifact':  artifacts[-3],\n",
    "                'version': artifacts[-2],\n",
    "                'size': stat.st_size, # / 1024 / 1024, # MB\n",
    "                'ctime': datetime.fromtimestamp(stat.st_ctime)\n",
    "            })\n",
    "    return poms\n",
    "\n",
    "artifact_home = \"C:/Users/zhouj/.m2/repository/\"\n",
    "artifacts = list_artifact(artifact_home, \"*.jar\")\n",
    "s = pd.json_normalize(artifacts)\n",
    "s.sort_values(by=['size', 'group', 'artifact'], ascending=False)\n",
    "# s['path.size'].sum()"
   ]
  },
  {
   "cell_type": "code",
   "execution_count": 62,
   "metadata": {},
   "outputs": [
    {
     "data": {
      "text/html": [
       "<div>\n",
       "<style scoped>\n",
       "    .dataframe tbody tr th:only-of-type {\n",
       "        vertical-align: middle;\n",
       "    }\n",
       "\n",
       "    .dataframe tbody tr th {\n",
       "        vertical-align: top;\n",
       "    }\n",
       "\n",
       "    .dataframe thead th {\n",
       "        text-align: right;\n",
       "    }\n",
       "</style>\n",
       "<table border=\"1\" class=\"dataframe\">\n",
       "  <thead>\n",
       "    <tr style=\"text-align: right;\">\n",
       "      <th></th>\n",
       "      <th>group</th>\n",
       "      <th>artifact</th>\n",
       "      <th>version</th>\n",
       "      <th>size</th>\n",
       "      <th>ctime</th>\n",
       "    </tr>\n",
       "  </thead>\n",
       "  <tbody>\n",
       "    <tr>\n",
       "      <th>2277</th>\n",
       "      <td>org.rocksdb</td>\n",
       "      <td>rocksdbjni</td>\n",
       "      <td>7.0.3</td>\n",
       "      <td>54269203</td>\n",
       "      <td>2024-04-10 10:55:52.766078</td>\n",
       "    </tr>\n",
       "    <tr>\n",
       "      <th>2278</th>\n",
       "      <td>org.rocksdb</td>\n",
       "      <td>rocksdbjni</td>\n",
       "      <td>9.4.0</td>\n",
       "      <td>70111775</td>\n",
       "      <td>2024-08-07 11:15:18.763036</td>\n",
       "    </tr>\n",
       "  </tbody>\n",
       "</table>\n",
       "</div>"
      ],
      "text/plain": [
       "            group    artifact version      size                      ctime\n",
       "2277  org.rocksdb  rocksdbjni   7.0.3  54269203 2024-04-10 10:55:52.766078\n",
       "2278  org.rocksdb  rocksdbjni   9.4.0  70111775 2024-08-07 11:15:18.763036"
      ]
     },
     "execution_count": 62,
     "metadata": {},
     "output_type": "execute_result"
    }
   ],
   "source": [
    "s[s['group'] == 'org.rocksdb']"
   ]
  },
  {
   "cell_type": "markdown",
   "metadata": {},
   "source": [
    "# Displaying Indentation for Better Structure"
   ]
  },
  {
   "cell_type": "code",
   "execution_count": 5,
   "metadata": {},
   "outputs": [
    {
     "name": "stdout",
     "output_type": "stream",
     "text": [
      "Directory: Ethereum\n",
      "  File: Ethereum-JSON.ipynb\n",
      "  File: Ethereum-playground.ipynb\n",
      "File: ipywidgets-example.ipynb\n",
      "File: itchat.ipynb\n",
      "File: local-maven.ipynb\n",
      "File: scholarly.ipynb\n",
      "File: SlackDeveloperKitforPython.ipynb\n",
      "File: wget-download-files.ipynb\n",
      "File: win32.ipynb\n"
     ]
    }
   ],
   "source": [
    "import os\n",
    "\n",
    "def list_directory_tree_with_indentation(directory, indent=0):\n",
    "    for item in os.listdir(directory):\n",
    "        item_path = os.path.join(directory, item)\n",
    "        if os.path.isfile(item_path):\n",
    "            print(f\"{'  ' * indent}File: {item}\")\n",
    "        elif os.path.isdir(item_path):\n",
    "            print(f\"{'  ' * indent}Directory: {item}\")\n",
    "            list_directory_tree_with_indentation(item_path, indent+1)\n",
    "\n",
    "list_directory_tree_with_indentation(\".\")"
   ]
  },
  {
   "cell_type": "markdown",
   "metadata": {},
   "source": [
    "# Excluding Certain Directories from the Listing"
   ]
  },
  {
   "cell_type": "code",
   "execution_count": 6,
   "metadata": {},
   "outputs": [
    {
     "name": "stdout",
     "output_type": "stream",
     "text": [
      "Directory: Ethereum\n",
      "File: Ethereum-JSON.ipynb\n",
      "File: Ethereum-playground.ipynb\n",
      "File: ipywidgets-example.ipynb\n",
      "File: itchat.ipynb\n",
      "File: local-maven.ipynb\n",
      "File: scholarly.ipynb\n",
      "File: SlackDeveloperKitforPython.ipynb\n",
      "File: wget-download-files.ipynb\n",
      "File: win32.ipynb\n"
     ]
    }
   ],
   "source": [
    "import os\n",
    "\n",
    "def list_directory_tree_exclude_directories(directory, exclude_dirs=[]):\n",
    "    for item in os.listdir(directory):\n",
    "        item_path = os.path.join(directory, item)\n",
    "        if os.path.isfile(item_path):\n",
    "            print(f\"File: {item}\")\n",
    "        elif os.path.isdir(item_path):\n",
    "            if item not in exclude_dirs:\n",
    "                print(f\"Directory: {item}\")\n",
    "                list_directory_tree_exclude_directories(item_path, exclude_dirs)\n",
    "\n",
    "list_directory_tree_exclude_directories(\".\")"
   ]
  },
  {
   "cell_type": "markdown",
   "metadata": {},
   "source": [
    "# Displaying File Sizes and Last Modified Dates"
   ]
  },
  {
   "cell_type": "code",
   "execution_count": 1,
   "metadata": {},
   "outputs": [
    {
     "name": "stdout",
     "output_type": "stream",
     "text": [
      "Directory: Ethereum\n",
      "File: Ethereum-JSON.ipynb - Size: 51675 bytes - Last Modified: 2024-08-01 21:38:36.656669\n",
      "File: Ethereum-playground.ipynb - Size: 40346 bytes - Last Modified: 2024-08-01 21:38:36.657774\n",
      "File: ipywidgets-example.ipynb - Size: 31761 bytes - Last Modified: 2024-08-01 21:38:36.658773\n",
      "File: itchat.ipynb - Size: 3691 bytes - Last Modified: 2024-08-01 21:38:36.659777\n",
      "File: local-maven.ipynb - Size: 0 bytes - Last Modified: 2024-08-07 12:56:07.192273\n",
      "File: scholarly.ipynb - Size: 133429 bytes - Last Modified: 2024-08-01 21:38:36.660772\n",
      "File: SlackDeveloperKitforPython.ipynb - Size: 61389 bytes - Last Modified: 2024-08-01 21:38:36.657774\n",
      "File: wget-download-files.ipynb - Size: 4083 bytes - Last Modified: 2024-08-01 21:38:36.660772\n",
      "File: win32.ipynb - Size: 3099 bytes - Last Modified: 2024-08-01 21:38:36.660772\n"
     ]
    }
   ],
   "source": [
    "import os\n",
    "from datetime import datetime\n",
    "\n",
    "def list_directory_tree_with_file_info(directory):\n",
    "    for item in os.listdir(directory):\n",
    "        item_path = os.path.join(directory, item)\n",
    "        if os.path.isfile(item_path):\n",
    "            file_size = os.path.getsize(item_path)\n",
    "            last_modified = datetime.fromtimestamp(os.path.getmtime(item_path))\n",
    "            print(f\"File: {item} - Size: {file_size} bytes - Last Modified: {last_modified}\")\n",
    "        elif os.path.isdir(item_path):\n",
    "            print(f\"Directory: {item}\")\n",
    "            list_directory_tree_with_file_info(item_path)\n",
    "\n",
    "list_directory_tree_with_file_info(\".\")"
   ]
  }
 ],
 "metadata": {
  "kernelspec": {
   "display_name": "Python 3",
   "language": "python",
   "name": "python3"
  },
  "language_info": {
   "codemirror_mode": {
    "name": "ipython",
    "version": 3
   },
   "file_extension": ".py",
   "mimetype": "text/x-python",
   "name": "python",
   "nbconvert_exporter": "python",
   "pygments_lexer": "ipython3",
   "version": "3.11.5"
  }
 },
 "nbformat": 4,
 "nbformat_minor": 2
}
