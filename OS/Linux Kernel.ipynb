{
 "cells": [
  {
   "cell_type": "markdown",
   "metadata": {},
   "source": [
    "# Linux Kernel"
   ]
  },
  {
   "cell_type": "markdown",
   "metadata": {},
   "source": [
    "# Netfilter\n",
    "* [wikipedia](https://en.wikipedia.org/wiki/Netfilter)\n",
    "* [A Deep Dive into Iptables and Netfilter Architecture](https://www.digitalocean.com/community/tutorials/a-deep-dive-into-iptables-and-netfilter-architecture) - 2022-11-02\n",
    "\n",
    "\n",
    "> **iptables** is a generic firewalling software that allows you to define rulesets. Each rule within an IP table consists of a number of classifiers (iptables matches) and one connected action (iptables target).\n",
    "\n",
    "> **nftables** is the successor of iptables, it allows for much more flexible, scalable and performance packet classification. This is where all the fancy new features are developed."
   ]
  },
  {
   "cell_type": "code",
   "execution_count": 1,
   "metadata": {},
   "outputs": [
    {
     "name": "stdout",
     "output_type": "stream",
     "text": [
      "env: ROOT_PWD=zhoujiagen\n"
     ]
    }
   ],
   "source": [
    "%env ROOT_PWD=zhoujiagen"
   ]
  },
  {
   "cell_type": "markdown",
   "metadata": {},
   "source": [
    "## 组件"
   ]
  },
  {
   "cell_type": "markdown",
   "metadata": {},
   "source": [
    "![](https://upload.wikimedia.org/wikipedia/commons/thumb/d/dd/Netfilter-components.svg/2560px-Netfilter-components.svg.png)"
   ]
  },
  {
   "cell_type": "markdown",
   "metadata": {},
   "source": [
    "### 内核模块\n",
    "\n",
    "- ip_tables, ip6_tables, arp_tables, ebtables: hook系统中legacy包过滤组件.\n",
    "- nf_tables: 新的包过滤组件."
   ]
  },
  {
   "cell_type": "markdown",
   "metadata": {},
   "source": [
    "### 用户空间工具\n",
    "\n",
    "- iptables(8), ip6tables(8): iptables/ip6tables — administration tool for IPv4/IPv6 packet filtering and NAT\n",
    "- ebtables(8): ebtables − Ethernet bridge frame table administration\n",
    "- arptables(8): arptables − ARP table administration\n",
    "- ipset(8): ipset — administration tool for IP sets\n",
    "- nftables(8): nft - Administration tool of the nftables framework for packet filtering and classification\n",
    "  - 替代iptables, ip6tables, arptables, ebtables"
   ]
  },
  {
   "cell_type": "markdown",
   "metadata": {},
   "source": [
    "### hooks\n",
    "- NF_IP_PRE_ROUTING: 在输入流量进入网络栈后很快触发, 在路由决策之前处理.\n",
    "- NF_IP_LOCAL_IN: 输入包已路由且目的是本机后触发.\n",
    "- NF_IP_FORWARD: 输入包已路由且转发到其他机器后触发.\n",
    "- NF_IP_LOCAL_OUT: 在本机产生的输出流量达到网络栈后触发.\n",
    "- NF_IP_POST_ROUTING: 在已路由后的输出或转发流量的实际发送之前触发."
   ]
  },
  {
   "cell_type": "markdown",
   "metadata": {},
   "source": [
    "## legacy iptables包过滤\n",
    "* [iptables - wikipedia](https://en.wikipedia.org/wiki/Iptables)\n",
    "* https://man7.org/linux/man-pages/man8/iptables.8.html\n",
    "* https://man7.org/linux/man-pages/man8/iptables-extensions.8.html: iptables-extensions — list of extensions in the standard iptables distribution"
   ]
  },
  {
   "cell_type": "markdown",
   "metadata": {},
   "source": [
    "数据流:\n",
    "![](https://upload.wikimedia.org/wikipedia/commons/thumb/3/37/Netfilter-packet-flow.svg/2880px-Netfilter-packet-flow.svg.png)"
   ]
  },
  {
   "cell_type": "markdown",
   "metadata": {},
   "source": [
    "### tables\n",
    "- filter: 放行/拒绝过滤\n",
    "- nat: 网络地址转换\n",
    "- mangle: 修改IP头\n",
    "- raw: 连接跟踪(connection tracking)\n",
    "- security: 加SELinux标记\n",
    "\n",
    "### chains\n",
    "- PREROUTING: 由NF_IP_PRE_ROUTING hook触发\n",
    "- INPUT: 由NF_IP_LOCAL_ING hook触发\n",
    "- FORWARD: 由NF_IP_FORWARDG hook触发\n",
    "- OUTPUT: 由NF_IP_LOCAL_OUTG hook触发\n",
    "- POSTROUTING: 由NF_IP_POST_ROUTINGG hook触发\n",
    "\n",
    "包通过的链:\n",
    "- 收到的, 目的本机: PREROUTING -> INPUT\n",
    "- 收到的, 目的其他机器: PREROUTING -> FORWARD -> POSTROUTING\n",
    "- 本机产生的: OUTPUT -> POSTROUTING\n",
    "\n",
    "\n",
    "### 表-链关系\n",
    "\n",
    "| Tables↓/Chains→               | PREROUTING | INPUT | FORWARD | OUTPUT | POSTROUTING |\n",
    "| :---------------------------- | :--------- | :---- | :------ | :----- | :---------- |\n",
    "| (routing decision)            |            |       |         | ✓      |             |\n",
    "| raw                           | ✓          |       |         | ✓      |             |\n",
    "| (connection tracking enabled) | ✓          |       |         | ✓      |             |\n",
    "| mangle                        | ✓          | ✓     | ✓       | ✓      | ✓           |\n",
    "| nat (DNAT)                    | ✓          |       |         | ✓      |             |\n",
    "| (routing decision)            | ✓          |       |         | ✓      |             |\n",
    "| filter                        |            | ✓     | ✓       | ✓      |             |\n",
    "| security                      |            | ✓     | ✓       | ✓      |             |\n",
    "| nat (SNAT)                    |            | ✓     |         |        | ✓           |\n",
    "\n",
    "### 规则\n",
    "放置在table的chain中, chain被调用时, 依次匹配chain中的规则.\n",
    "\n",
    "- 匹配部分(matching)\n",
    "  - 协议类型, 目的/源地址, 目的/源端口, 目的/源网段, 接收/发送的网卡接口, 协议头, 连接状态等.\n",
    "- 动作部分(action)\n",
    "  - 终止目标(target): 控制转回hook\n",
    "  - 非终止目标: 继续链的执行\n",
    "    - 跳转目标: 跳转到其他链继续处理; 例跳转到用户自定义的链.\n",
    "\n",
    "target:\n",
    "- ACCEPT: 让包通过\n",
    "- DROP: 丢弃包\n",
    "- RETURN: 结束该链的遍历, 在前一个链(调用链)的下一个规则恢复执行\n",
    "- user-defined chain's name: 在用户自定义的链执行"
   ]
  },
  {
   "cell_type": "markdown",
   "metadata": {},
   "source": [
    "### examples\n",
    "* [Iptables tutorial: securing VPS with Linux firewall](https://www.hostinger.com/tutorials/iptables-tutorial)\n",
    "* [Iptables Essentials: Common Firewall Rules and Commands](https://www.digitalocean.com/community/tutorials/iptables-essentials-common-firewall-rules-and-commands)\n",
    "* [iptables — a comprehensive guide](https://sudamtm.medium.com/iptables-a-comprehensive-guide-276b8604eff1)"
   ]
  },
  {
   "cell_type": "code",
   "execution_count": 5,
   "metadata": {},
   "outputs": [],
   "source": [
    "# !echo $ROOT_PWD | sudo -S iptables --help"
   ]
  },
  {
   "cell_type": "code",
   "execution_count": null,
   "metadata": {},
   "outputs": [],
   "source": [
    "# !man iptables > iptables.main"
   ]
  },
  {
   "cell_type": "code",
   "execution_count": null,
   "metadata": {},
   "outputs": [],
   "source": [
    "# # installation\n",
    "# !sudo apt-get update\n",
    "# !sudo apt-get install iptables\n",
    "\n",
    "# # Check the status of your current iptables configuration\n",
    "# !sudo iptables -L -v\n",
    "\n",
    "# # Define Chain Rules\n",
    "# # -i (interface) — the network interface whose traffic you want to filter, such as eth0, lo, ppp0, etc.\n",
    "# # -p (protocol) — the network protocol where your filtering process takes place. It can be either tcp, udp, udplite, icmp, sctp, icmpv6, and so on. Alternatively, you can type all to choose every protocol.\n",
    "# # -s (source) — the address from which traffic comes from. You can add a hostname or IP address.\n",
    "# # –dport (destination port) — the destination port number of a protocol, such as 22 (SSH), 443 (https), etc.\n",
    "# # -j (target) — the target name (ACCEPT, DROP, RETURN). You need to insert this every time you make a new rule.\n",
    "# # \n",
    "# # !sudo iptables -A <chain> -i <interface> -p <protocol (tcp/udp) > -s <source> --dport <port no.>  -j <target>\n",
    "\n",
    "# # -i lo\n",
    "# # To allow traffic on localhost\n",
    "# !sudo iptables -A INPUT -i lo -j ACCEPT\n",
    "\n",
    "# # -p\n",
    "# # Enabling Connections on HTTP, SSH, and SSL Port\n",
    "# !sudo iptables -A INPUT -p tcp --dport 22 -j ACCEPT\n",
    "# !sudo iptables -A INPUT -p tcp --dport 80 -j ACCEPT\n",
    "# !sudo iptables -A INPUT -p tcp --dport 443 -j ACCEPT\n",
    "\n",
    "# # -s\n",
    "# # Filtering Packets Based on Source\n",
    "# !sudo iptables -A INPUT -s 192.168.1.3 -j ACCEPT\n",
    "# !sudo iptables -A INPUT -s 192.168.1.3 -j DROP\n",
    "# # drop packets from a range of IP addresses\n",
    "# !sudo iptables -A INPUT -m iprange --src-range 192.168.1.100-192.168.1.200 -j DROP\n",
    "\n",
    "# # Dropping all Other Traffic\n",
    "# !sudo iptables -A INPUT -j DROP\n",
    "\n",
    "# # Deleting Rules\n",
    "# # remove all rules and start with a clean slate\n",
    "# !sudo iptables -F\n",
    "\n",
    "# # see all the available rules\n",
    "# !sudo iptables -L --line-numbers\n",
    "\n",
    "# # delete a specific rule\n",
    "# !sudo iptables -D INPUT 3\n",
    "\n",
    "# # Persist Changes\n",
    "# !sudo iptables-save > /etc/iptables/rules.v4\n",
    "# !sudo iptables-save > /etc/iptables/rules.v6\n",
    "# # load the saved rules\n",
    "# !sudo iptables-restore < /etc/iptables/rules.v4\n",
    "# !sudo iptables-restore < /etc/iptables/rules.v6\n",
    "\n",
    "# # automatic loading\n",
    "# # still need to use !sudo iptables-save command each time you make changes to iptables\n",
    "# !sudo apt-get install iptables-persistent"
   ]
  },
  {
   "cell_type": "code",
   "execution_count": 23,
   "metadata": {},
   "outputs": [
    {
     "name": "stdout",
     "output_type": "stream",
     "text": [
      "[sudo] password for zhoujiagen: "
     ]
    }
   ],
   "source": [
    "# 追加规则\n",
    "!echo $ROOT_PWD | sudo -S iptables -A INPUT -p tcp --dport 81 -j ACCEPT"
   ]
  },
  {
   "cell_type": "code",
   "execution_count": 25,
   "metadata": {},
   "outputs": [
    {
     "name": "stdout",
     "output_type": "stream",
     "text": [
      "[sudo] password for zhoujiagen: "
     ]
    }
   ],
   "source": [
    "# 删除规则\n",
    "!echo $ROOT_PWD | sudo -S iptables -D INPUT 1"
   ]
  },
  {
   "cell_type": "code",
   "execution_count": 24,
   "metadata": {},
   "outputs": [
    {
     "name": "stdout",
     "output_type": "stream",
     "text": [
      "[sudo] password for zhoujiagen: Chain INPUT (policy ACCEPT 0 packets, 0 bytes)\n",
      "num   pkts bytes target     prot opt in     out     source               destination         \n",
      "1        0     0 ACCEPT     tcp  --  any    any     anywhere             anywhere             tcp dpt:81\n",
      "\n",
      "Chain FORWARD (policy ACCEPT 0 packets, 0 bytes)\n",
      "num   pkts bytes target     prot opt in     out     source               destination         \n",
      "\n",
      "Chain OUTPUT (policy ACCEPT 0 packets, 0 bytes)\n",
      "num   pkts bytes target     prot opt in     out     source               destination         \n"
     ]
    }
   ],
   "source": [
    "# 查看所有规则\n",
    "!echo $ROOT_PWD | sudo -S iptables -L -v --line-numbers"
   ]
  },
  {
   "cell_type": "markdown",
   "metadata": {},
   "source": [
    "## nftables\n",
    "* [wikipedia](https://en.wikipedia.org/wiki/Nftables)\n",
    "* https://wiki.nftables.org/wiki-nftables/index.php/Main_Page\n",
    "* https://manpages.ubuntu.com/manpages/jammy/man8/nft.8.html"
   ]
  },
  {
   "cell_type": "code",
   "execution_count": null,
   "metadata": {},
   "outputs": [],
   "source": [
    "!sudo apt-get install nftables"
   ]
  },
  {
   "cell_type": "code",
   "execution_count": 36,
   "metadata": {},
   "outputs": [
    {
     "name": "stdout",
     "output_type": "stream",
     "text": [
      "[sudo] password for zhoujiagen: nftables v1.0.2 (Lester Gooch)\n"
     ]
    }
   ],
   "source": [
    "!echo $ROOT_PWD | sudo -S nft --version"
   ]
  },
  {
   "cell_type": "code",
   "execution_count": 39,
   "metadata": {},
   "outputs": [],
   "source": [
    "# !echo $ROOT_PWD | sudo -S nft --help"
   ]
  },
  {
   "cell_type": "code",
   "execution_count": 34,
   "metadata": {},
   "outputs": [
    {
     "name": "stdout",
     "output_type": "stream",
     "text": [
      "[sudo] password for zhoujiagen: table ip filter {\n",
      "\tchain INPUT {\n",
      "\t\ttype filter hook input priority filter; policy accept;\n",
      "\t}\n",
      "}\n"
     ]
    }
   ],
   "source": [
    "!echo $ROOT_PWD | sudo -S nft list ruleset"
   ]
  },
  {
   "cell_type": "code",
   "execution_count": 40,
   "metadata": {},
   "outputs": [
    {
     "name": "stdout",
     "output_type": "stream",
     "text": [
      "[sudo] password for zhoujiagen: table ip filter\n"
     ]
    }
   ],
   "source": [
    "!echo $ROOT_PWD | sudo -S nft list tables"
   ]
  },
  {
   "cell_type": "code",
   "execution_count": 41,
   "metadata": {},
   "outputs": [
    {
     "name": "stdout",
     "output_type": "stream",
     "text": [
      "[sudo] password for zhoujiagen: table ip filter {\n",
      "\tchain INPUT {\n",
      "\t\ttype filter hook input priority filter; policy accept;\n",
      "\t}\n",
      "}\n"
     ]
    }
   ],
   "source": [
    "!echo $ROOT_PWD | sudo -S nft list chains"
   ]
  },
  {
   "cell_type": "code",
   "execution_count": 42,
   "metadata": {},
   "outputs": [
    {
     "name": "stdout",
     "output_type": "stream",
     "text": [
      "[sudo] password for zhoujiagen: table ip filter {\n",
      "}\n"
     ]
    }
   ],
   "source": [
    "!echo $ROOT_PWD | sudo -S nft list sets"
   ]
  },
  {
   "cell_type": "code",
   "execution_count": 43,
   "metadata": {},
   "outputs": [
    {
     "name": "stdout",
     "output_type": "stream",
     "text": [
      "[sudo] password for zhoujiagen: table ip filter {\n",
      "}\n"
     ]
    }
   ],
   "source": [
    "!echo $ROOT_PWD | sudo -S nft list maps"
   ]
  },
  {
   "cell_type": "code",
   "execution_count": 44,
   "metadata": {},
   "outputs": [
    {
     "name": "stdout",
     "output_type": "stream",
     "text": [
      "[sudo] password for zhoujiagen: table ip filter {\n",
      "}\n"
     ]
    }
   ],
   "source": [
    "!echo $ROOT_PWD | sudo -S nft list flowtables"
   ]
  }
 ],
 "metadata": {
  "kernelspec": {
   "display_name": "Python 3",
   "language": "python",
   "name": "python3"
  },
  "language_info": {
   "codemirror_mode": {
    "name": "ipython",
    "version": 3
   },
   "file_extension": ".py",
   "mimetype": "text/x-python",
   "name": "python",
   "nbconvert_exporter": "python",
   "pygments_lexer": "ipython3",
   "version": "3.12.7"
  }
 },
 "nbformat": 4,
 "nbformat_minor": 2
}
