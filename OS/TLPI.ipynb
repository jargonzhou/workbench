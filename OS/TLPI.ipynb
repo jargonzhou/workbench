{
 "cells": [
  {
   "cell_type": "markdown",
   "metadata": {},
   "source": [
    "# The Linux Programming Interface\n",
    "- Kerrisk, Michael. **The Linux Programming Interface**. 2010. No Starch Press.\n",
    "- obsidian://open?vault=obsidian&file=DevOps%2FLinux%2Fbook.The%20Linux%20Programming%20Interface"
   ]
  },
  {
   "cell_type": "code",
   "execution_count": null,
   "metadata": {},
   "outputs": [
    {
     "name": "stdout",
     "output_type": "stream",
     "text": [
      "/mnt/d/workspace/github/workbench/OS/tlpi-cmake\n"
     ]
    }
   ],
   "source": [
    "# 工作目录\n",
    "# with Make: /mnt/d/workspace/github/workbench/OS/tlpi-make\n",
    "%cd /mnt/d/workspace/github/workbench/OS/tlpi-cmake"
   ]
  },
  {
   "cell_type": "code",
   "execution_count": 2,
   "metadata": {},
   "outputs": [
    {
     "name": "stdout",
     "output_type": "stream",
     "text": [
      "-- The C compiler identification is GNU 11.2.0\n",
      "-- The CXX compiler identification is GNU 11.2.0\n",
      "-- Detecting C compiler ABI info\n",
      "-- Detecting C compiler ABI info - done\n",
      "-- Check for working C compiler: /bin/cc - skipped\n",
      "-- Detecting C compile features\n",
      "-- Detecting C compile features - done\n",
      "-- Detecting CXX compiler ABI info\n",
      "-- Detecting CXX compiler ABI info - done\n",
      "-- Check for working CXX compiler: /bin/c++ - skipped\n",
      "-- Detecting CXX compile features\n",
      "-- Detecting CXX compile features - done\n",
      "-- Configuring done\n",
      "-- Generating done\n",
      "-- Build files have been written to: /mnt/d/workspace/github/workbench/OS/tlpi-cmake/build\n",
      "[  4%] \u001b[32mBuilding C object src/lib/CMakeFiles/lib.dir/error_functions.c.o\u001b[0m\n",
      "[  8%] \u001b[32mBuilding C object src/lib/CMakeFiles/lib.dir/get_num.c.o\u001b[0m\n",
      "[ 13%] \u001b[32m\u001b[1mLinking C static library liblib.a\u001b[0m\n",
      "[ 13%] Built target lib\n",
      "[ 17%] \u001b[32mBuilding C object test/CMakeFiles/get_libc_version.dir/gnu/get_libc_version.c.o\u001b[0m\n",
      "[ 21%] \u001b[32m\u001b[1mLinking C executable get_libc_version\u001b[0m\n",
      "[ 21%] Built target get_libc_version\n",
      "[ 26%] \u001b[32mBuilding C object test/CMakeFiles/test_lib.dir/lib/test_lib.c.o\u001b[0m\n",
      "[ 30%] \u001b[32m\u001b[1mLinking C executable test_lib\u001b[0m\n",
      "[ 30%] Built target test_lib\n",
      "[ 34%] \u001b[32mBuilding C object src/process/CMakeFiles/process_id.dir/process_id.c.o\u001b[0m\n",
      "[ 39%] \u001b[32m\u001b[1mLinking C executable process_id\u001b[0m\n",
      "[ 39%] Built target process_id\n",
      "[ 43%] \u001b[32mBuilding C object src/process/CMakeFiles/mem_segments.dir/mem_segments.c.o\u001b[0m\n",
      "[ 47%] \u001b[32m\u001b[1mLinking C executable mem_segments\u001b[0m\n",
      "[ 47%] Built target mem_segments\n",
      "[ 52%] \u001b[32mBuilding C object src/process/CMakeFiles/necho.dir/necho.c.o\u001b[0m\n",
      "[ 56%] \u001b[32m\u001b[1mLinking C executable necho\u001b[0m\n",
      "[ 56%] Built target necho\n",
      "[ 60%] \u001b[32mBuilding C object src/process/CMakeFiles/display_env.dir/display_env.c.o\u001b[0m\n",
      "[ 65%] \u001b[32m\u001b[1mLinking C executable display_env\u001b[0m\n",
      "[ 65%] Built target display_env\n",
      "[ 69%] \u001b[32mBuilding C object src/process/CMakeFiles/modify_env.dir/modify_env.c.o\u001b[0m\n",
      "[ 73%] \u001b[32m\u001b[1mLinking C executable modify_env\u001b[0m\n",
      "[ 73%] Built target modify_env\n",
      "[ 78%] \u001b[32mBuilding C object src/process/CMakeFiles/longjmp.dir/longjmp.c.o\u001b[0m\n",
      "[ 82%] \u001b[32m\u001b[1mLinking C executable longjmp\u001b[0m\n",
      "[ 82%] Built target longjmp\n",
      "[ 86%] \u001b[32mBuilding C object src/process/CMakeFiles/setjmp_vars.dir/setjmp_vars.c.o\u001b[0m\n",
      "[ 91%] \u001b[32m\u001b[1mLinking C executable setjmp_vars\u001b[0m\n",
      "[ 91%] Built target setjmp_vars\n",
      "[ 95%] \u001b[32mBuilding C object src/memory/CMakeFiles/free_and_sbrk.dir/free_and_sbrk.c.o\u001b[0m\n",
      "[100%] \u001b[32m\u001b[1mLinking C executable free_and_sbrk\u001b[0m\n",
      "[100%] Built target free_and_sbrk\n"
     ]
    }
   ],
   "source": [
    "!rm -rf ./build && cmake -B build\n",
    "!cd build && make"
   ]
  },
  {
   "cell_type": "code",
   "execution_count": 6,
   "metadata": {},
   "outputs": [],
   "source": [
    "# 清理\n",
    "!rm -rf ./build"
   ]
  },
  {
   "cell_type": "markdown",
   "metadata": {},
   "source": [
    "# Tests\n",
    "\n",
    "TODO(zhoujiagen): change to CMake tests."
   ]
  },
  {
   "cell_type": "code",
   "execution_count": 4,
   "metadata": {},
   "outputs": [
    {
     "name": "stdout",
     "output_type": "stream",
     "text": [
      "GNU libc version: 2.35\n"
     ]
    }
   ],
   "source": [
    "!cd build/test && ./get_libc_version"
   ]
  },
  {
   "cell_type": "code",
   "execution_count": 5,
   "metadata": {},
   "outputs": [
    {
     "name": "stdout",
     "output_type": "stream",
     "text": [
      "blockSize=1234\n"
     ]
    }
   ],
   "source": [
    "!cd build/test && ./test_lib"
   ]
  }
 ],
 "metadata": {
  "kernelspec": {
   "display_name": "Python 3",
   "language": "python",
   "name": "python3"
  },
  "language_info": {
   "codemirror_mode": {
    "name": "ipython",
    "version": 3
   },
   "file_extension": ".py",
   "mimetype": "text/x-python",
   "name": "python",
   "nbconvert_exporter": "python",
   "pygments_lexer": "ipython3",
   "version": "3.12.7"
  }
 },
 "nbformat": 4,
 "nbformat_minor": 2
}
