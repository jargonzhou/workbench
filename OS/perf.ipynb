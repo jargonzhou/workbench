{
 "cells": [
  {
   "cell_type": "markdown",
   "metadata": {},
   "source": [
    "# perf\n",
    "* https://perfwiki.github.io/main/\n",
    "* [perf Examples](https://www.brendangregg.com/perf.html)\n",
    " [perf doc in Linux code](https://github.com/torvalds/linux/blob/master/tools/perf/Documentation/perf.txt)\n",
    "\n",
    "the perf Linux profiler, which has also been called Performance Counters for Linux (PCL), Linux perf events (LPE), or perf_events\n",
    "\n",
    "The pref_events facility is used by perf command for sampling and tracing, and it was added to Linux 2.6.21 in 2009.\n",
    "\n",
    "事件驱动的可观察性工具:\n",
    "![](https://www.brendangregg.com/perf_events/perf_events_map.png)"
   ]
  },
  {
   "cell_type": "markdown",
   "metadata": {},
   "source": [
    "# Installation"
   ]
  },
  {
   "cell_type": "markdown",
   "metadata": {},
   "source": [
    "## Ubuntu\n",
    "\n",
    "```shell\n",
    "sudo apt-get install linux-tools-common linux-tools-generic linux-tools-`uname -r`\n",
    "```"
   ]
  },
  {
   "cell_type": "markdown",
   "metadata": {},
   "source": [
    "## WSL"
   ]
  },
  {
   "cell_type": "code",
   "execution_count": 1,
   "metadata": {},
   "outputs": [
    {
     "name": "stdout",
     "output_type": "stream",
     "text": [
      "WARNING: perf not found for kernel 5.15.153.1-microsoft\n",
      "\n",
      "  You may need to install the following packages for this specific kernel:\n",
      "    linux-tools-5.15.153.1-microsoft-standard-WSL2\n",
      "    linux-cloud-tools-5.15.153.1-microsoft-standard-WSL2\n",
      "\n",
      "  You may also want to install one of the following packages to keep up to date:\n",
      "    linux-tools-standard-WSL2\n",
      "    linux-cloud-tools-standard-WSL2\n"
     ]
    }
   ],
   "source": [
    "!perf --version"
   ]
  },
  {
   "cell_type": "code",
   "execution_count": 3,
   "metadata": {},
   "outputs": [
    {
     "name": "stdout",
     "output_type": "stream",
     "text": [
      "env: ROOT_PWD=zhoujiagen\n",
      "Reading package lists... Donen: \n",
      "Building dependency tree... Done\n",
      "Reading state information... Done\n",
      "E: Unable to locate package linux-tools-5.15.153.1-microsoft-standard-WSL2\n",
      "E: Couldn't find any package by glob 'linux-tools-5.15.153.1-microsoft-standard-WSL2'\n",
      "E: Couldn't find any package by regex 'linux-tools-5.15.153.1-microsoft-standard-WSL2'\n"
     ]
    }
   ],
   "source": [
    "%env ROOT_PWD=zhoujiagen\n",
    "!echo $ROOT_PWD | sudo -S apt-get install linux-tools-5.15.153.1-microsoft-standard-WSL2"
   ]
  },
  {
   "cell_type": "markdown",
   "metadata": {},
   "source": [
    "* [Is there any method to run perf under WSL?](https://stackoverflow.com/questions/60237123/is-there-any-method-to-run-perf-under-wsl)\n",
    "\n",
    "Method 1:\n",
    "\n",
    "```\n",
    "sudo apt install build-essential flex bison libssl-dev libelf-dev\n",
    "git clone --depth=1 https://github.com/microsoft/WSL2-Linux-Kernel.git\n",
    "cd WSL2-Linux-Kernel/tools/perf\n",
    "make\n",
    "# use perf in that folder\n",
    "```"
   ]
  },
  {
   "cell_type": "code",
   "execution_count": 7,
   "metadata": {},
   "outputs": [
    {
     "name": "stdout",
     "output_type": "stream",
     "text": [
      "/home/zhoujiagen/WSL2-Linux-Kernel/tools/perf\n",
      "perf version 5.15.153.1.g33cad9854e0b\n"
     ]
    },
    {
     "name": "stderr",
     "output_type": "stream",
     "text": [
      "/home/zhoujiagen/.local/lib/python3.12/site-packages/IPython/core/magics/osm.py:393: UserWarning: This is now an optional IPython functionality, using bookmarks requires you to install the `pickleshare` library.\n",
      "  bkms = self.shell.db.get('bookmarks', {})\n",
      "/home/zhoujiagen/.local/lib/python3.12/site-packages/IPython/core/magics/osm.py:417: UserWarning: This is now an optional IPython functionality, setting dhist requires you to install the `pickleshare` library.\n",
      "  self.shell.db['dhist'] = compress_dhist(dhist)[-100:]\n"
     ]
    }
   ],
   "source": [
    "%cd ~/WSL2-Linux-Kernel/tools/perf/\n",
    "!./perf --version"
   ]
  },
  {
   "cell_type": "code",
   "execution_count": 8,
   "metadata": {},
   "outputs": [
    {
     "name": "stdout",
     "output_type": "stream",
     "text": [
      "Package: linux-tools-generic\n",
      "Version: 5.15.0.25.27\n",
      "Priority: optional\n",
      "Section: kernel\n",
      "Source: linux-meta\n",
      "Origin: Ubuntu\n",
      "Maintainer: Ubuntu Kernel Team <kernel-team@lists.ubuntu.com>\n",
      "Bugs: https://bugs.launchpad.net/ubuntu/+filebug\n",
      "Installed-Size: 19.5 kB\n",
      "Provides: linux-tools\n",
      "Depends: linux-tools-5.15.0-25-generic\n",
      "Download-Size: 2444 B\n",
      "APT-Manual-Installed: yes\n",
      "APT-Sources: http://th.archive.ubuntu.com/ubuntu jammy/main amd64 Packages\n",
      "Description: Generic Linux kernel tools\n",
      " This package will always depend on the latest generic kernel tools\n",
      " available.\n",
      "\n",
      "\u001b[33mN: \u001b[0mThere are 2 additional records. Please use the '-a' switch to see them.\u001b[0m\n"
     ]
    }
   ],
   "source": [
    "# Method 2: with linux-tools-generic\n",
    "!apt info linux-tools-generic"
   ]
  },
  {
   "cell_type": "code",
   "execution_count": 6,
   "metadata": {},
   "outputs": [
    {
     "name": "stdout",
     "output_type": "stream",
     "text": [
      "perf version 5.15.30\n"
     ]
    }
   ],
   "source": [
    "!/usr/lib/linux-tools-5.15.0-25/perf --version"
   ]
  },
  {
   "cell_type": "markdown",
   "metadata": {},
   "source": [
    "# Help"
   ]
  },
  {
   "cell_type": "code",
   "execution_count": 9,
   "metadata": {},
   "outputs": [
    {
     "name": "stdout",
     "output_type": "stream",
     "text": [
      "/home/zhoujiagen/WSL2-Linux-Kernel/tools/perf\n",
      "\n",
      " usage: perf [--version] [--help] [OPTIONS] COMMAND [ARGS]\n",
      "\n",
      " The most commonly used perf commands are:\n",
      "   annotate        Read perf.data (created by perf record) and display annotated code\n",
      "   archive         Create archive with object files with build-ids found in perf.data file\n",
      "   bench           General framework for benchmark suites\n",
      "   buildid-cache   Manage build-id cache.\n",
      "   buildid-list    List the buildids in a perf.data file\n",
      "   c2c             Shared Data C2C/HITM Analyzer.\n",
      "   config          Get and set variables in a configuration file.\n",
      "   daemon          Run record sessions on background\n",
      "   data            Data file related processing\n",
      "   diff            Read perf.data files and display the differential profile\n",
      "   evlist          List the event names in a perf.data file\n",
      "   ftrace          simple wrapper for kernel's ftrace functionality\n",
      "   inject          Filter to augment the events stream with additional information\n",
      "   iostat          Show I/O performance metrics\n",
      "   kallsyms        Searches running kernel for symbols\n",
      "   kmem            Tool to trace/measure kernel memory properties\n",
      "   kvm             Tool to trace/measure kvm guest os\n",
      "   list            List all symbolic event types\n",
      "   lock            Analyze lock events\n",
      "   mem             Profile memory accesses\n",
      "   record          Run a command and record its profile into perf.data\n",
      "   report          Read perf.data (created by perf record) and display the profile\n",
      "   sched           Tool to trace/measure scheduler properties (latencies)\n",
      "   script          Read perf.data (created by perf record) and display trace output\n",
      "   stat            Run a command and gather performance counter statistics\n",
      "   test            Runs sanity tests.\n",
      "   timechart       Tool to visualize total system behavior during a workload\n",
      "   top             System profiling tool.\n",
      "   version         display the version of perf binary\n",
      "   probe           Define new dynamic tracepoints\n",
      "   trace           strace inspired tool\n",
      "\n",
      " See 'perf help COMMAND' for more information on a specific command.\n",
      "\n"
     ]
    }
   ],
   "source": [
    "%cd ~/WSL2-Linux-Kernel/tools/perf/\n",
    "!./perf"
   ]
  }
 ],
 "metadata": {
  "kernelspec": {
   "display_name": "Python 3",
   "language": "python",
   "name": "python3"
  },
  "language_info": {
   "codemirror_mode": {
    "name": "ipython",
    "version": 3
   },
   "file_extension": ".py",
   "mimetype": "text/x-python",
   "name": "python",
   "nbconvert_exporter": "python",
   "pygments_lexer": "ipython3",
   "version": "3.12.7"
  }
 },
 "nbformat": 4,
 "nbformat_minor": 2
}
