{
 "cells": [
  {
   "cell_type": "markdown",
   "metadata": {},
   "source": [
    "# Linux\n",
    "* [Linux - wikipedia](https://en.wikipedia.org/wiki/Linux)\n",
    "* [The Linux Kernel Archives](https://www.kernel.org/)"
   ]
  },
  {
   "cell_type": "code",
   "execution_count": null,
   "metadata": {},
   "outputs": [
    {
     "name": "stdout",
     "output_type": "stream",
     "text": [
      "/usr/bin/zsh\n"
     ]
    }
   ],
   "source": [
    "!echo $SHELL"
   ]
  },
  {
   "cell_type": "code",
   "execution_count": null,
   "metadata": {},
   "outputs": [],
   "source": [
    "!source ~/.zshrc"
   ]
  },
  {
   "cell_type": "markdown",
   "metadata": {},
   "source": [
    "# Linux Foundation Referenced Specifications\n",
    "* https://refspecs.linuxfoundation.org/\n",
    "\n",
    "\n",
    "* Linux Standard Base (LSB)\n",
    "* Filesystem Hierarchy Standard (FHS)\n",
    "* Application Programming Interface (API) Standards\n",
    "  * [POSIX.1-2024](https://pubs.opengroup.org/onlinepubs/9799919799/mindex.html): The Open Group Base Specifications Issue 8, IEEE Std 1003.1™-2024 Edition\n",
    "  * [POSIX.1-2017 - local](file:///D:/GoogleDrive/obsidian/_References/computer-architecture/susv4/index.html)\n",
    "* DWARF Standards\n",
    "* ELF and ABI Standards\n",
    "  * Processor Specific ELF documents\n",
    "* Application Binary Interface (ABI) Specifications/Standards"
   ]
  },
  {
   "cell_type": "markdown",
   "metadata": {},
   "source": [
    "## LSB(Linux Standard Base)\n",
    "* [Linux Standard Base](https://refspecs.linuxfoundation.org/lsb.shtml): LSB"
   ]
  },
  {
   "cell_type": "markdown",
   "metadata": {},
   "source": [
    "* Common\n",
    "* Core\n",
    "\t* Generic\n",
    "\t* IA32\n",
    "\t* IA64\n",
    "\t* PPC32\n",
    "\t* PPC64\n",
    "\t* S390\n",
    "\t* S390X\n",
    "\t* AMD64\n",
    "\n",
    "* Desktop\n",
    "\t* Generic\n",
    "\t* IA32\n",
    "\t* IA64\n",
    "\t* PPC32\n",
    "\t* PPC64\n",
    "\t* S390\n",
    "\t* S390X\n",
    "\t* AMD64\n",
    "\n",
    "* Runtime Languages\n",
    "\n",
    "* Imaging\n",
    "\n",
    "* Gtk3, Graphics"
   ]
  },
  {
   "cell_type": "markdown",
   "metadata": {},
   "source": [
    "# Man Pages\n",
    "\n",
    "[The Linux man-pages project](https://www.kernel.org/doc/man-pages/):\n",
    "\n",
    "- 1: [User commands](http://man7.org/linux/man-pages/dir_section_1.html); man-pages includes a very few Section 1 pages that document programs supplied by the GNU C library. [菜鸟教程, Linux 命令大全](https://www.runoob.com/linux/linux-command-manual.html)\n",
    "- 2: [System calls](http://man7.org/linux/man-pages/dir_section_2.html) documents the system calls provided by the Linux kernel.\n",
    "- 3: [Library functions](http://man7.org/linux/man-pages/dir_section_3.html) documents the functions provided by the standard C library.\n",
    "- 4: [Devices](http://man7.org/linux/man-pages/dir_section_4.html) documents details of various devices, most of which reside in /dev.\n",
    "- 5: [Files](http://man7.org/linux/man-pages/dir_section_5.html) describes various file formats, and includes proc(5), which documents the /proc file system.\n",
    "- 7: [Overviews, conventions, and miscellaneous](http://man7.org/linux/man-pages/dir_section_7.html).\n",
    "- 8: [Superuser and system administration commands](http://man7.org/linux/man-pages/dir_section_8.html); man-pages includes a very few Section 8 pages that document programs supplied by the GNU C library."
   ]
  },
  {
   "cell_type": "markdown",
   "metadata": {},
   "source": [
    "# Kernel Parameters\n",
    "* [Kernel parameters - ArchWiki](https://wiki.archlinux.org/index.php/kernel_parameters)"
   ]
  },
  {
   "cell_type": "markdown",
   "metadata": {},
   "source": [
    "1. When building the kernel. See Kernel Compilation for details.\n",
    "2. When starting the kernel (usually, when invoked from a boot loader).\n",
    "3. At runtime (through the files in `/proc` and `/sys`). See `sysctl` for details. \n",
    "  * http://man7.org/linux/man-pages/man5/proc.5.html\n",
    "  * http://man7.org/linux/man-pages/man8/sysctl.8.html"
   ]
  },
  {
   "cell_type": "markdown",
   "metadata": {},
   "source": [
    "# Vendors"
   ]
  },
  {
   "cell_type": "markdown",
   "metadata": {},
   "source": [
    "## Ubuntu"
   ]
  },
  {
   "cell_type": "code",
   "execution_count": null,
   "metadata": {},
   "outputs": [
    {
     "name": "stdout",
     "output_type": "stream",
     "text": [
      "No LSB modules are available.\n",
      "Distributor ID:\tUbuntu\n",
      "Description:\tUbuntu 22.04 LTS\n",
      "Release:\t22.04\n",
      "Codename:\tjammy\n"
     ]
    }
   ],
   "source": [
    "# 版本查看\n",
    "# fix lsb_release command not found\n",
    "# $ sudo apt-get update && sudo apt-get install -y lsb-release && sudo apt-get clean all\n",
    "!lsb_release -a"
   ]
  },
  {
   "cell_type": "code",
   "execution_count": 3,
   "metadata": {},
   "outputs": [
    {
     "name": "stdout",
     "output_type": "stream",
     "text": [
      " Static hostname: zhoujiagen\n",
      "       Icon name: computer-container\n",
      "         Chassis: container\n",
      "      Machine ID: c8a65033ea75404ca744592746eca2dd\n",
      "         Boot ID: f1d0dac8db994ef7bb663f1b5013c603\n",
      "  Virtualization: wsl\n",
      "Operating System: \u001b]8;;https://www.ubuntu.com/\u0007Ubuntu 22.04 LTS\u001b]8;;\u0007                        \n",
      "          Kernel: Linux 5.15.153.1-microsoft-standard-WSL2\n",
      "    Architecture: x86-64\n"
     ]
    }
   ],
   "source": [
    "!hostnamectl"
   ]
  },
  {
   "cell_type": "code",
   "execution_count": 4,
   "metadata": {},
   "outputs": [
    {
     "name": "stdout",
     "output_type": "stream",
     "text": [
      "DISTRIB_ID=Ubuntu\n",
      "DISTRIB_RELEASE=22.04\n",
      "DISTRIB_CODENAME=jammy\n",
      "DISTRIB_DESCRIPTION=\"Ubuntu 22.04 LTS\"\n",
      "PRETTY_NAME=\"Ubuntu 22.04 LTS\"\n",
      "NAME=\"Ubuntu\"\n",
      "VERSION_ID=\"22.04\"\n",
      "VERSION=\"22.04 (Jammy Jellyfish)\"\n",
      "VERSION_CODENAME=jammy\n",
      "ID=ubuntu\n",
      "ID_LIKE=debian\n",
      "HOME_URL=\"https://www.ubuntu.com/\"\n",
      "SUPPORT_URL=\"https://help.ubuntu.com/\"\n",
      "BUG_REPORT_URL=\"https://bugs.launchpad.net/ubuntu/\"\n",
      "PRIVACY_POLICY_URL=\"https://www.ubuntu.com/legal/terms-and-policies/privacy-policy\"\n",
      "UBUNTU_CODENAME=jammy\n"
     ]
    }
   ],
   "source": [
    "!cat /etc/*ease"
   ]
  },
  {
   "cell_type": "markdown",
   "metadata": {},
   "source": [
    "## WSL\n",
    "* https://github.com/microsoft/WSL2-Linux-Kernel.git"
   ]
  },
  {
   "cell_type": "markdown",
   "metadata": {},
   "source": [
    "use `root` as default user:\n",
    "\n",
    "```shell\n",
    "ubuntu2004.exe config --default-user root\n",
    "```"
   ]
  },
  {
   "cell_type": "markdown",
   "metadata": {},
   "source": [
    "# time\n",
    "* [How to get execution millisecond time of a command in zsh?](https://unix.stackexchange.com/questions/453338/how-to-get-execution-millisecond-time-of-a-command-in-zsh)"
   ]
  },
  {
   "cell_type": "code",
   "execution_count": 5,
   "metadata": {},
   "outputs": [
    {
     "name": "stdout",
     "output_type": "stream",
     "text": [
      "%J  %U user %S system %P cpu %*E total\n"
     ]
    }
   ],
   "source": [
    "!echo $TIMEFMT"
   ]
  },
  {
   "cell_type": "code",
   "execution_count": 4,
   "metadata": {},
   "outputs": [
    {
     "name": "stdout",
     "output_type": "stream",
     "text": [
      "TIME(1)                     General Commands Manual                    TIME(1)\n",
      "\n",
      "NAME\n",
      "       time - run programs and summarize system resource usage\n",
      "\n",
      "SYNOPSIS\n",
      "       time   [ -apqvV ] [ -f FORMAT ] [ -o FILE ]\n",
      "              [ --append ] [ --verbose ] [ --quiet ] [ --portability ]\n",
      "              [ --format=FORMAT ] [ --output=FILE ] [ --version ]\n",
      "              [ --help ] COMMAND [ ARGS ]\n",
      "\n",
      "DESCRIPTION\n",
      "       time run the program COMMAND with any given arguments ARG....  When\n",
      "       COMMAND finishes, time displays information about resources used by\n",
      "       COMMAND (on the standard error output, by default).  If COMMAND exits\n",
      "       with non-zero status, time displays a warning message and the exit\n",
      "       status.\n",
      "\n",
      "       time determines which information to display about the resources used\n",
      "       by the COMMAND from the string FORMAT.  If no format is specified on\n",
      "       the command line, but the TIME environment variable is set, its value\n",
      "       is used as the format.  Otherwise, a default format built into time is\n",
      "       used.\n",
      "\n",
      "       Options to time must appear on the command line before COMMAND.\n",
      "       Anything on the command line after COMMAND is passed as arguments to\n",
      "       COMMAND.\n",
      "\n",
      "OPTIONS\n",
      "       -o FILE, --output=FILE\n",
      "              Write the resource use statistics to FILE instead of to the\n",
      "              standard error stream.  By default, this overwrites the file,\n",
      "              destroying the file's previous contents.  This option is useful\n",
      "              for collecting information on interactive programs and programs\n",
      "              that produce output on the standard error stream.\n",
      "\n",
      "       -a, --append\n",
      "              Append the resource use information to the output file instead\n",
      "              of overwriting it.  This option is only useful with the `-o' or\n",
      "              `--output' option.\n",
      "\n",
      "       -f FORMAT, --format FORMAT\n",
      "              Use FORMAT as the format string that controls the output of\n",
      "              time.  See the below more information.\n",
      "\n",
      "       --help Print a summary of the command line options and exit.\n",
      "\n",
      "       -p, --portability\n",
      "              Use the following format string, for conformance with POSIX\n",
      "              standard 1003.2:\n",
      "                        real %e\n",
      "                        user %U\n",
      "                        sys %S\n",
      "\n",
      "       -v, --verbose\n",
      "              Use the built-in verbose format, which displays each available\n",
      "              piece of information on the program's resource use on its own\n",
      "              line, with an English description of its meaning.\n",
      "\n",
      "       --quiet\n",
      "              Do not report the status of the program even if it is different\n",
      "              from zero.\n",
      "\n",
      "       -V, --version\n",
      "              Print the version number of time and exit.\n",
      "\n",
      "FORMATTING THE OUTPUT\n",
      "       The format string FORMAT controls the contents of the time output.  The\n",
      "       format string can be set using the `-f' or `--format', `-v' or\n",
      "       `--verbose', or `-p' or `--portability' options.  If they are not\n",
      "       given, but the TIME environment variable is set, its value is used as\n",
      "       the format string.  Otherwise, a built-in default format is used.  The\n",
      "       default format is:\n",
      "         %Uuser %Ssystem %Eelapsed %PCPU (%Xtext+%Ddata %Mmax)k\n",
      "         %Iinputs+%Ooutputs (%Fmajor+%Rminor)pagefaults %Wswaps\n",
      "\n",
      "       The format string usually consists of `resource specifiers'\n",
      "       interspersed with plain text.  A percent sign (`%') in the format\n",
      "       string causes the following character to be interpreted as a resource\n",
      "       specifier, which is similar to the formatting characters in the\n",
      "       printf(3) function.\n",
      "\n",
      "       A backslash (`\\') introduces a `backslash escape', which is translated\n",
      "       into a single printing character upon output.  `\\t' outputs a tab\n",
      "       character, `\\n' outputs a newline, and `\\\\' outputs a backslash.  A\n",
      "       backslash followed by any other character outputs a question mark (`?')\n",
      "       followed by a backslash, to indicate that an invalid backslash escape\n",
      "       was given.\n",
      "\n",
      "       Other text in the format string is copied verbatim to the output.  time\n",
      "       always prints a newline after printing the resource use information, so\n",
      "       normally format strings do not end with a newline character (or `\\n').\n",
      "\n",
      "       There are many resource specifications.  Not all resources are measured\n",
      "       by all versions of Unix, so some of the values might be reported as\n",
      "       zero.  Any character following a percent sign that is not listed in the\n",
      "       table below causes a question mark (`?') to be output, followed by that\n",
      "       character, to indicate that an invalid resource specifier was given.\n",
      "\n",
      "       The resource specifiers, which are a superset of those recognized by\n",
      "       the tcsh(1) builtin `time' command, are:\n",
      "              %      A literal `%'.\n",
      "              C      Name and command line arguments of the command being\n",
      "                     timed.\n",
      "              D      Average size of the process's unshared data area, in\n",
      "                     Kilobytes.\n",
      "              E      Elapsed real (wall clock) time used by the process, in\n",
      "                     [hours:]minutes:seconds.\n",
      "              F      Number of major, or I/O-requiring, page faults that\n",
      "                     occurred while the process was running.  These are faults\n",
      "                     where the page has actually migrated out of primary\n",
      "                     memory.\n",
      "              I      Number of file system inputs by the process.\n",
      "              K      Average total (data+stack+text) memory use of the\n",
      "                     process, in Kilobytes.\n",
      "              M      Maximum resident set size of the process during its\n",
      "                     lifetime, in Kilobytes.\n",
      "              O      Number of file system outputs by the process.\n",
      "              P      Percentage of the CPU that this job got.  This is just\n",
      "                     user + system times divided by the total running time.\n",
      "                     It also prints a percentage sign.\n",
      "              R      Number of minor, or recoverable, page faults.  These are\n",
      "                     pages that are not valid (so they fault) but which have\n",
      "                     not yet been claimed by other virtual pages.  Thus the\n",
      "                     data in the page is still valid but the system tables\n",
      "                     must be updated.\n",
      "              S      Total number of CPU-seconds used by the system on behalf\n",
      "                     of the process (in kernel mode), in seconds.\n",
      "              U      Total number of CPU-seconds that the process used\n",
      "                     directly (in user mode), in seconds.\n",
      "              W      Number of times the process was swapped out of main\n",
      "                     memory.\n",
      "              X      Average amount of shared text in the process, in\n",
      "                     Kilobytes.\n",
      "              Z      System's page size, in bytes.  This is a per-system\n",
      "                     constant, but varies between systems.\n",
      "              c      Number of times the process was context-switched\n",
      "                     involuntarily (because the time slice expired).\n",
      "              e      Elapsed real (wall clock) time used by the process, in\n",
      "                     seconds.\n",
      "              k      Number of signals delivered to the process.\n",
      "              p      Average unshared stack size of the process, in Kilobytes.\n",
      "              r      Number of socket messages received by the process.\n",
      "              s      Number of socket messages sent by the process.\n",
      "              t      Average resident set size of the process, in Kilobytes.\n",
      "              w      Number of times that the program was context-switched\n",
      "                     voluntarily, for instance while waiting for an I/O\n",
      "                     operation to complete.\n",
      "              x      Exit status of the command.\n",
      "\n",
      "EXAMPLES\n",
      "       To run the command `wc /etc/hosts' and show the default information:\n",
      "            time wc /etc/hosts\n",
      "\n",
      "       To run the command `ls -Fs' and show just the user, system, and total\n",
      "       time:\n",
      "            time -f \"\\t%E real,\\t%U user,\\t%S sys\" ls -Fs\n",
      "\n",
      "       To edit the file BORK and have `time' append the elapsed time and\n",
      "       number of signals to the file `log', reading the format string from the\n",
      "       environment variable `TIME':\n",
      "            export TIME=\"\\t%E,\\t%k\" # If using bash or ksh\n",
      "            setenv TIME \"\\t%E,\\t%k\" # If using csh or tcsh\n",
      "            time -a -o log emacs bork\n",
      "\n",
      "       Users of the bash shell need to use an explicit path in order to run\n",
      "       the external time command and not the shell builtin variant.  On system\n",
      "       where time is installed in /usr/bin, the first example would become\n",
      "            /usr/bin/time wc /etc/hosts\n",
      "\n",
      "ACCURACY\n",
      "       The elapsed time is not collected atomically with the execution of the\n",
      "       program; as a result, in bizarre circumstances (if the time command\n",
      "       gets stopped or swapped out in between when the program being timed\n",
      "       exits and when time calculates how long it took to run), it could be\n",
      "       much larger than the actual execution time.\n",
      "\n",
      "       When the running time of a command is very nearly zero, some values\n",
      "       (e.g., the percentage of CPU used) may be reported as either zero\n",
      "       (which is wrong) or a question mark.\n",
      "\n",
      "       Most information shown by time is derived from the wait3(2) system\n",
      "       call.  The numbers are only as good as those returned by wait3(2).  On\n",
      "       systems that do not have a wait3(2) call that returns status\n",
      "       information, the times(2) system call is used instead.  However, it\n",
      "       provides much less information than wait3(2), so on those systems time\n",
      "       reports the majority of the resources as zero.\n",
      "\n",
      "       The `%I' and `%O' values are allegedly only `real' input and output and\n",
      "       do not include those supplied by caching devices.  The meaning of\n",
      "       `real' I/O reported by `%I' and `%O' may be muddled for workstations,\n",
      "       especially diskless ones.\n",
      "\n",
      "DIAGNOSTICS\n",
      "       The time command returns when the program exits, stops, or is\n",
      "       terminated by a signal.  If the program exited normally, the return\n",
      "       value of time is the return value of the program it executed and\n",
      "       measured.  Otherwise, the return value is 128 plus the number of the\n",
      "       signal which caused the program to stop or terminate.\n",
      "AUTHOR\n",
      "       time was written by David MacKenzie.  This man page was added by Dirk\n",
      "       Eddelbuettel <edd@debian.org>, the Debian GNU/Linux maintainer, for use\n",
      "       by the Debian GNU/Linux distribution but may of course be used by\n",
      "       others.\n",
      "\n",
      "SEE ALSO\n",
      "       tcsh(1), printf(3)\n",
      "\n",
      "                               Debian GNU/Linux                        TIME(1)\n"
     ]
    }
   ],
   "source": [
    "!man time"
   ]
  },
  {
   "cell_type": "code",
   "execution_count": 7,
   "metadata": {},
   "outputs": [
    {
     "data": {
      "text/plain": [
       "['zsh:1: command not found: --help',\n",
       " '--help  0.00s user 0.01s system 5% cpu 0.254 total']"
      ]
     },
     "execution_count": 7,
     "metadata": {},
     "output_type": "execute_result"
    }
   ],
   "source": [
    "!time --help"
   ]
  },
  {
   "cell_type": "code",
   "execution_count": 6,
   "metadata": {},
   "outputs": [
    {
     "name": "stdout",
     "output_type": "stream",
     "text": [
      "zsh:1: command not found: -p\n",
      "-p sleep 3  0.00s user 0.01s system 5% cpu 0.250 total\n",
      "sleep 3  0.00s user 0.00s system 0% cpu 3.001 total\n"
     ]
    }
   ],
   "source": [
    "!time -p sleep 3\n",
    "!time sleep 3"
   ]
  },
  {
   "cell_type": "markdown",
   "metadata": {},
   "source": [
    "# base64\n",
    "\n",
    "- [RFC4648 The Base16, Base32, and Base64 Data Encodings](https://datatracker.ietf.org/doc/html/rfc4648)\n",
    "- [base64 - base64 encode/decode data and print to standard output](https://man7.org/linux/man-pages/man1/base64.1.html)\n",
    "- [Linux Command Line Base64 Encoding and Decoding of Strings](https://www.baeldung.com/linux/cli-base64-encode-decode)\n",
    "- [base64](https://www.liaoxuefeng.com/wiki/1016959663602400/1017684507717184): with Python, remove tailing `=`"
   ]
  },
  {
   "cell_type": "markdown",
   "metadata": {},
   "source": [
    "# dd"
   ]
  },
  {
   "cell_type": "markdown",
   "metadata": {},
   "source": [
    "```shell\n",
    "1 dd写\n",
    "每次写入8k的数据，执行300000次, /data/testio为目标文件\n",
    "time dd if=/dev/zero of=/data/testio bs=8k count=300000\n",
    "\n",
    "记录了300000+0 的读入\n",
    "记录了300000+0 的写出\n",
    "2457600000字节(2.5 GB)已复制，2.70734 秒，908 MB/秒\n",
    "real    0m2.709s\n",
    "user    0m0.038s\n",
    "sys    0m2.486s\n",
    "\n",
    "2 dd读\n",
    "time dd if=/data/testio of=/dev/null bs=8k\n",
    "\n",
    "记录了300000+0 的读入\n",
    "记录了300000+0 的写出\n",
    "2457600000字节(2.5 GB)已复制，0.746326 秒，3.3 GB/秒\n",
    "real    0m0.748s\n",
    "user    0m0.021s\n",
    "sys    0m0.727s\n",
    "\n",
    "3 dd读写\n",
    "(3.1) /data/testio2不存在\n",
    "time dd if=/data/testio of=/data/testio2 bs=8k\n",
    "记录了300000+0 的读入\n",
    "记录了300000+0 的写出\n",
    "2457600000字节(2.5 GB)已复制，2.96432 秒，829 MB/秒\n",
    "\n",
    "real    0m2.966s\n",
    "user    0m0.033s\n",
    "sys    0m2.714s\n",
    "\n",
    "(3.2) /data/testio2由(3.1)生成\n",
    "记录了300000+0 的读入\n",
    "记录了300000+0 的写出\n",
    "2457600000字节(2.5 GB)已复制，34.3415 秒，71.6 MB/秒\n",
    "\n",
    "real    0m54.907s\n",
    "user    0m0.040s\n",
    "sys    0m5.030s\n",
    "\n",
    "4 hdparm读\n",
    "/dev/vdb1为挂载点\n",
    "hdparm -Tt /dev/vdb1\n",
    "\n",
    "/dev/vdb1:\n",
    " Timing cached reads:   16718 MB in  2.00 seconds = 8367.73 MB/sec\n",
    " Timing buffered disk reads: 194 MB in  3.01 seconds =  64.35 MB/sec\n",
    "```"
   ]
  },
  {
   "cell_type": "markdown",
   "metadata": {},
   "source": [
    "# df"
   ]
  },
  {
   "cell_type": "markdown",
   "metadata": {},
   "source": [
    "文件系统类型\n",
    "\n",
    "```shell\n",
    "# df -ahT\n",
    "Filesystem     Type         Size  Used Avail Use% Mounted on\n",
    "/dev/vda1      ext4          40G  7.0G   31G  19% /\n",
    "proc           proc            0     0     0    - /proc\n",
    "sysfs          sysfs           0     0     0    - /sys\n",
    "devpts         devpts          0     0     0    - /dev/pts\n",
    "tmpfs          tmpfs        7.8G     0  7.8G   0% /dev/shm\n",
    "none           binfmt_misc     0     0     0    - /proc/sys/fs/binfmt_misc\n",
    "/dev/vdb1      ext4         197G   40G  148G  21% /data\n",
    "```"
   ]
  }
 ],
 "metadata": {
  "kernelspec": {
   "display_name": "Python 3",
   "language": "python",
   "name": "python3"
  },
  "language_info": {
   "codemirror_mode": {
    "name": "ipython",
    "version": 3
   },
   "file_extension": ".py",
   "mimetype": "text/x-python",
   "name": "python",
   "nbconvert_exporter": "python",
   "pygments_lexer": "ipython3",
   "version": "3.12.7"
  }
 },
 "nbformat": 4,
 "nbformat_minor": 2
}
