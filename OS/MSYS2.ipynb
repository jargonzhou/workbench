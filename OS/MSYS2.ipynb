{
 "cells": [
  {
   "cell_type": "markdown",
   "metadata": {},
   "source": [
    "# MSYS2\n",
    "* https://www.msys2.org/\n",
    "\n",
    "MSYS2 is a collection of tools and libraries providing you with an easy-to-use environment for building, installing and running native Windows software."
   ]
  },
  {
   "cell_type": "markdown",
   "metadata": {},
   "source": [
    "```shell\n",
    "# in MSYS2 UCRT64\n",
    "pacman -S mingw-w64-ucrt-x86_64-gcc\n",
    "\n",
    "$ gcc --version\n",
    "gcc.exe (Rev2, Built by MSYS2 project) 14.2.0\n",
    "Copyright (C) 2024 Free Software Foundation, Inc.\n",
    "This is free software; see the source for copying conditions.  There is NO\n",
    "warranty; not even for MERCHANTABILITY or FITNESS FOR A PARTICULAR PURPOSE.\n",
    "```\n",
    "\n",
    "put in environment variables to take preference!!!"
   ]
  }
 ],
 "metadata": {
  "language_info": {
   "name": "python"
  }
 },
 "nbformat": 4,
 "nbformat_minor": 2
}
