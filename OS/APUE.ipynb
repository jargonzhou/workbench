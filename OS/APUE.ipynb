{
 "cells": [
  {
   "cell_type": "markdown",
   "metadata": {},
   "source": [
    "# Advanced Programming in the UNIX Environment\n",
    "- Stevens, W. Richard / Rago, Stephen A. **Advanced Programming in the UNIX Environment**. 2014, 3. edition.\n",
    "- obsidian://open?vault=obsidian&file=DevOps%2FLinux%2Fbook.Advanced%20Programming%20in%20the%20UNIX%C2%AE%20Environment"
   ]
  },
  {
   "cell_type": "code",
   "execution_count": 1,
   "metadata": {},
   "outputs": [
    {
     "name": "stdout",
     "output_type": "stream",
     "text": [
      "/mnt/d/workspace/github/workbench/OS/apue\n"
     ]
    }
   ],
   "source": [
    "# 工作目录\n",
    "%cd apue"
   ]
  },
  {
   "cell_type": "code",
   "execution_count": 2,
   "metadata": {},
   "outputs": [
    {
     "name": "stdout",
     "output_type": "stream",
     "text": [
      "linux\n"
     ]
    }
   ],
   "source": [
    "# make sure 'LF\" end of line sequence\n",
    "!chmod +x systype.sh\n",
    "!./systype.sh"
   ]
  },
  {
   "cell_type": "code",
   "execution_count": 14,
   "metadata": {},
   "outputs": [
    {
     "name": "stdout",
     "output_type": "stream",
     "text": [
      "cc -Wall -g  -DLINUX -D_GNU_SOURCE -pthread -I../include   hello.c  -L../lib -lapue -o hello\n",
      "/bin/ld: cannot find -lapue: No such file or directory\n",
      "collect2: error: ld returned 1 exit status\n",
      "make: *** [<builtin>: hello] Error 1\n"
     ]
    }
   ],
   "source": [
    "# build all\n",
    "!make"
   ]
  },
  {
   "cell_type": "code",
   "execution_count": 15,
   "metadata": {},
   "outputs": [
    {
     "name": "stdout",
     "output_type": "stream",
     "text": [
      "rm -rf *.dSYM hello ex_atexit echoarg ex_malloc env ex_setjmp limits\n"
     ]
    }
   ],
   "source": [
    "# 清理\n",
    "!make clean"
   ]
  },
  {
   "cell_type": "code",
   "execution_count": 3,
   "metadata": {},
   "outputs": [
    {
     "name": "stdout",
     "output_type": "stream",
     "text": [
      "cc -Wall -g  -DLINUX -D_GNU_SOURCE -pthread -I../include  -c -o log.o log.c\n",
      "cc -Wall -g  -DLINUX -D_GNU_SOURCE -pthread -I../include  -c -o error.o error.c\n",
      "cc -Wall -g  -DLINUX -D_GNU_SOURCE -pthread -I../include  -c -o print.o print.c\n",
      "cc -Wall -g  -DLINUX -D_GNU_SOURCE -pthread -I../include  -c -o sync.o sync.c\n",
      "cc -Wall -g  -DLINUX -D_GNU_SOURCE -pthread -I../include  -c -o thd.o thd.c\n",
      "cc -Wall -g  -DLINUX -D_GNU_SOURCE -pthread -I../include  -c -o fd.o fd.c\n",
      "cc -Wall -g  -DLINUX -D_GNU_SOURCE -pthread -I../include  -c -o sock.o sock.c\n",
      "ar rv libapue.a log.o error.o print.o sync.o thd.o fd.o sock.o\n",
      "ar: creating libapue.a\n",
      "a - log.o\n",
      "a - error.o\n",
      "a - print.o\n",
      "a - sync.o\n",
      "a - thd.o\n",
      "a - fd.o\n",
      "a - sock.o\n"
     ]
    }
   ],
   "source": [
    "# build lib\n",
    "!cd lib && make"
   ]
  },
  {
   "cell_type": "markdown",
   "metadata": {},
   "source": [
    "# 1 UNIX基础知识\n"
   ]
  },
  {
   "cell_type": "markdown",
   "metadata": {},
   "source": [
    "# 2 UNIX标准及实现"
   ]
  },
  {
   "cell_type": "markdown",
   "metadata": {
    "vscode": {
     "languageId": "plaintext"
    }
   },
   "source": [
    "# 3 文件IO"
   ]
  },
  {
   "cell_type": "markdown",
   "metadata": {
    "vscode": {
     "languageId": "plaintext"
    }
   },
   "source": [
    "# 4 文件和目录"
   ]
  },
  {
   "cell_type": "markdown",
   "metadata": {
    "vscode": {
     "languageId": "plaintext"
    }
   },
   "source": [
    "# 5 标准IO库"
   ]
  },
  {
   "cell_type": "markdown",
   "metadata": {
    "vscode": {
     "languageId": "makefile"
    }
   },
   "source": [
    "# 6 系统数据文件和信息"
   ]
  },
  {
   "cell_type": "markdown",
   "metadata": {
    "vscode": {
     "languageId": "plaintext"
    }
   },
   "source": [
    "# 7 进程环境\n",
    "\n",
    "- hello.c\n",
    "- ex_atexit.c\n",
    "- echoarg.c\n",
    "- ex_malloc.c\n",
    "- env.c\n",
    "- ex_setjmp.c\n",
    "- limits.c"
   ]
  },
  {
   "cell_type": "code",
   "execution_count": null,
   "metadata": {},
   "outputs": [
    {
     "name": "stdout",
     "output_type": "stream",
     "text": [
      "/mnt/d/workspace/github/workbench/OS/apue/ch07\n"
     ]
    }
   ],
   "source": [
    "%cd /mnt/d/workspace/github/workbench/OS/apue/ch07"
   ]
  },
  {
   "cell_type": "code",
   "execution_count": 12,
   "metadata": {},
   "outputs": [
    {
     "name": "stdout",
     "output_type": "stream",
     "text": [
      "cc -Wall -g  -DLINUX -D_GNU_SOURCE -pthread -I../include   hello.c  -L../lib -lapue -o hello\n",
      "cc -Wall -g  -DLINUX -D_GNU_SOURCE -pthread -I../include   ex_atexit.c  -L../lib -lapue -o ex_atexit\n",
      "cc -Wall -g  -DLINUX -D_GNU_SOURCE -pthread -I../include   echoarg.c  -L../lib -lapue -o echoarg\n",
      "cc -Wall -g  -DLINUX -D_GNU_SOURCE -pthread -I../include   ex_malloc.c  -L../lib -lapue -o ex_malloc\n",
      "cc -Wall -g  -DLINUX -D_GNU_SOURCE -pthread -I../include   env.c  -L../lib -lapue -o env\n",
      "cc -Wall -g  -DLINUX -D_GNU_SOURCE -pthread -I../include   ex_setjmp.c  -L../lib -lapue -o ex_setjmp\n",
      "cc -Wall -g  -DLINUX -D_GNU_SOURCE -pthread -I../include   limits.c  -L../lib -lapue -o limits\n"
     ]
    }
   ],
   "source": [
    "!make"
   ]
  },
  {
   "cell_type": "code",
   "execution_count": 13,
   "metadata": {},
   "outputs": [
    {
     "name": "stdout",
     "output_type": "stream",
     "text": [
      "hello, world\n"
     ]
    }
   ],
   "source": [
    "!./hello"
   ]
  },
  {
   "cell_type": "code",
   "execution_count": 14,
   "metadata": {},
   "outputs": [
    {
     "name": "stdout",
     "output_type": "stream",
     "text": [
      "main is done\n",
      "exit handler: my_exit1\n",
      "exit handler: my_exit1\n",
      "exit handler: my_exit2\n"
     ]
    }
   ],
   "source": [
    "!./ex_atexit"
   ]
  },
  {
   "cell_type": "code",
   "execution_count": 16,
   "metadata": {},
   "outputs": [
    {
     "name": "stdout",
     "output_type": "stream",
     "text": [
      "argv[0]: ./echoarg\n",
      "argv[1]: arg1\n",
      "argv[2]: TEST\n",
      "argv[3]: foo\n"
     ]
    }
   ],
   "source": [
    "!./echoarg arg1 TEST foo"
   ]
  },
  {
   "cell_type": "code",
   "execution_count": 17,
   "metadata": {},
   "outputs": [
    {
     "name": "stdout",
     "output_type": "stream",
     "text": [
      "0x558fdb2722a0\n"
     ]
    }
   ],
   "source": [
    "!./ex_malloc"
   ]
  },
  {
   "cell_type": "code",
   "execution_count": 18,
   "metadata": {},
   "outputs": [
    {
     "name": "stdout",
     "output_type": "stream",
     "text": [
      "shell: /usr/bin/zsh\n",
      "NAME1: VALUE2\n",
      "NAME1: (null)\n"
     ]
    }
   ],
   "source": [
    "!./env"
   ]
  },
  {
   "cell_type": "code",
   "execution_count": 19,
   "metadata": {},
   "outputs": [
    {
     "name": "stdout",
     "output_type": "stream",
     "text": [
      "in f1():\n",
      "globval=11,autoval=12,regival=13,volaval=14,statval=15\n",
      "after longjmp: \n",
      "globval=11,autoval=12,regival=3,volaval=14,statval=15\n"
     ]
    }
   ],
   "source": [
    "!./ex_setjmp"
   ]
  },
  {
   "cell_type": "code",
   "execution_count": 20,
   "metadata": {},
   "outputs": [
    {
     "name": "stdout",
     "output_type": "stream",
     "text": [
      "RLIMIT_AS      (infinite) (infinite) \n",
      "RLIMIT_CORE             0 (infinite) \n",
      "RLIMIT_CPU     (infinite) (infinite) \n",
      "RLIMIT_DATA    (infinite) (infinite) \n",
      "RLIMIT_FSIZE   (infinite) (infinite) \n",
      "RLIMIT_NOFILE     1048576    1048576 \n",
      "RLIMIT_STACK      8388608 (infinite) \n"
     ]
    }
   ],
   "source": [
    "!./limits"
   ]
  },
  {
   "cell_type": "code",
   "execution_count": 21,
   "metadata": {},
   "outputs": [
    {
     "name": "stdout",
     "output_type": "stream",
     "text": [
      "rm -rf *.dSYM hello ex_atexit echoarg ex_malloc env ex_setjmp limits\n"
     ]
    }
   ],
   "source": [
    "!make clean"
   ]
  },
  {
   "cell_type": "markdown",
   "metadata": {
    "vscode": {
     "languageId": "plaintext"
    }
   },
   "source": [
    "# 8 进程控制\n",
    "\n",
    "- ex_fork.c\n",
    "- ex_vfork.c\n",
    "- ex_wait.c\n",
    "- race.c\n",
    "- ex_exec.c\n",
    "- echoall.c\n",
    "- ex_nice.c\n",
    "- ex_times.c"
   ]
  },
  {
   "cell_type": "code",
   "execution_count": 22,
   "metadata": {},
   "outputs": [
    {
     "name": "stdout",
     "output_type": "stream",
     "text": [
      "/mnt/d/workspace/github/workbench/OS/apue/ch08\n"
     ]
    }
   ],
   "source": [
    "%cd /mnt/d/workspace/github/workbench/OS/apue/ch08"
   ]
  },
  {
   "cell_type": "code",
   "execution_count": 24,
   "metadata": {},
   "outputs": [
    {
     "name": "stdout",
     "output_type": "stream",
     "text": [
      "cc -Wall -g  -DLINUX -D_GNU_SOURCE -pthread -I../include   ex_fork.c  -L../lib -lapue -o ex_fork\n",
      "cc -Wall -g  -DLINUX -D_GNU_SOURCE -pthread -I../include   ex_vfork.c  -L../lib -lapue -o ex_vfork\n",
      "cc -Wall -g  -DLINUX -D_GNU_SOURCE -pthread -I../include   ex_wait.c  -L../lib -lapue -o ex_wait\n",
      "\u001b[01m\u001b[Kex_wait.c:\u001b[m\u001b[K In function ‘\u001b[01m\u001b[Kmain\u001b[m\u001b[K’:\n",
      "\u001b[01m\u001b[Kex_wait.c:31:12:\u001b[m\u001b[K \u001b[01;35m\u001b[Kwarning: \u001b[m\u001b[Kdivision by zero [\u001b[01;35m\u001b[K\u001b]8;;https://gcc.gnu.org/onlinedocs/gcc/Warning-Options.html#index-Wdiv-by-zero\u0007-Wdiv-by-zero\u001b]8;;\u0007\u001b[m\u001b[K]\n",
      "   31 |     status \u001b[01;35m\u001b[K/=\u001b[m\u001b[K 0; // generate SIGFPE\n",
      "      |            \u001b[01;35m\u001b[K^~\u001b[m\u001b[K\n",
      "cc -Wall -g  -DLINUX -D_GNU_SOURCE -pthread -I../include   race.c  -L../lib -lapue -o race\n",
      "cc -Wall -g  -DLINUX -D_GNU_SOURCE -pthread -I../include   echoall.c  -L../lib -lapue -o echoall\n",
      "cc -Wall -g  -DLINUX -D_GNU_SOURCE -pthread -I../include   ex_exec.c  -L../lib -lapue -o ex_exec\n",
      "cc -Wall -g  -DLINUX -D_GNU_SOURCE -pthread -I../include   ex_nice.c  -L../lib -lapue -o ex_nice\n",
      "cc -Wall -g  -DLINUX -D_GNU_SOURCE -pthread -I../include   ex_times.c  -L../lib -lapue -o ex_times\n"
     ]
    }
   ],
   "source": [
    "!make"
   ]
  },
  {
   "cell_type": "code",
   "execution_count": null,
   "metadata": {},
   "outputs": [
    {
     "name": "stdout",
     "output_type": "stream",
     "text": [
      "a write to stdout\n",
      "before fork\n",
      "pid = 28619, glob = 7, var = 89\n",
      "pid = 28618, glob = 6, var = 88\n"
     ]
    }
   ],
   "source": [
    "# 子进程的变量值修改: var\n",
    "!./ex_fork"
   ]
  },
  {
   "cell_type": "code",
   "execution_count": 26,
   "metadata": {},
   "outputs": [
    {
     "name": "stdout",
     "output_type": "stream",
     "text": [
      "before vfork\n",
      "pid = 28762, glob=7, var=89\n"
     ]
    }
   ],
   "source": [
    "!./ex_vfork"
   ]
  },
  {
   "cell_type": "code",
   "execution_count": 27,
   "metadata": {},
   "outputs": [
    {
     "name": "stdout",
     "output_type": "stream",
     "text": [
      "normal termination, exit status = 7\n",
      "abnormal termination, signal number = 6 (core file generated)\n",
      "abnormal termination, signal number = 8 (core file generated)\n"
     ]
    }
   ],
   "source": [
    "!./ex_wait"
   ]
  },
  {
   "cell_type": "code",
   "execution_count": 35,
   "metadata": {},
   "outputs": [
    {
     "name": "stdout",
     "output_type": "stream",
     "text": [
      "output from parent\n",
      "output fro"
     ]
    }
   ],
   "source": [
    "# 多次执行\n",
    "!./race"
   ]
  },
  {
   "cell_type": "code",
   "execution_count": 36,
   "metadata": {},
   "outputs": [
    {
     "name": "stdout",
     "output_type": "stream",
     "text": [
      "output from parent\n",
      "output from child\n"
     ]
    }
   ],
   "source": [
    "!./race"
   ]
  },
  {
   "cell_type": "code",
   "execution_count": 38,
   "metadata": {},
   "outputs": [
    {
     "name": "stdout",
     "output_type": "stream",
     "text": [
      "execle error: No such file or directory\n"
     ]
    }
   ],
   "source": [
    "!./ex_exec"
   ]
  },
  {
   "cell_type": "code",
   "execution_count": 39,
   "metadata": {},
   "outputs": [
    {
     "name": "stdout",
     "output_type": "stream",
     "text": [
      "NZERO=20\n",
      "current nice value in parent is 20\n",
      "current nice value in child is 20, adjusting by 0\n",
      "now child nice value is 20\n",
      "child count = 612387563\n",
      "parent count = 612635402\n"
     ]
    }
   ],
   "source": [
    "!./ex_nice"
   ]
  },
  {
   "cell_type": "code",
   "execution_count": 40,
   "metadata": {},
   "outputs": [
    {
     "name": "stdout",
     "output_type": "stream",
     "text": [
      "\n",
      "command: sleep 5\n",
      "\treal:    5.01\n",
      "\tuser:    0.00\n",
      "\tsys:    0.00\n",
      "\tchild user:    0.00\n",
      "\tchild sys:    0.00\n",
      "normal termination, exit status = 0\n",
      "\n",
      "command: date\n",
      "Tue Feb 25 12:31:28 CST 2025\n",
      "\treal:    0.00\n",
      "\tuser:    0.00\n",
      "\tsys:    0.00\n",
      "\tchild user:    0.00\n",
      "\tchild sys:    0.00\n",
      "normal termination, exit status = 0\n",
      "\n",
      "command: man bash >/dev/null\n",
      "\treal:    1.44\n",
      "\tuser:    0.00\n",
      "\tsys:    0.00\n",
      "\tchild user:    0.16\n",
      "\tchild sys:    0.07\n",
      "normal termination, exit status = 0\n"
     ]
    }
   ],
   "source": [
    "!./ex_times \"sleep 5\" \"date\" \"man bash >/dev/null\""
   ]
  },
  {
   "cell_type": "code",
   "execution_count": 41,
   "metadata": {},
   "outputs": [
    {
     "name": "stdout",
     "output_type": "stream",
     "text": [
      "rm -rf *.dSYM ex_fork ex_vfork ex_wait race echoall ex_exec ex_nice ex_times\n"
     ]
    }
   ],
   "source": [
    "!make clean"
   ]
  },
  {
   "cell_type": "markdown",
   "metadata": {
    "vscode": {
     "languageId": "plaintext"
    }
   },
   "source": [
    "# 9 进程关系"
   ]
  },
  {
   "cell_type": "markdown",
   "metadata": {
    "vscode": {
     "languageId": "plaintext"
    }
   },
   "source": [
    "# 10 信号"
   ]
  },
  {
   "cell_type": "markdown",
   "metadata": {
    "vscode": {
     "languageId": "plaintext"
    }
   },
   "source": [
    "# 11 线程"
   ]
  },
  {
   "cell_type": "markdown",
   "metadata": {
    "vscode": {
     "languageId": "plaintext"
    }
   },
   "source": [
    "# 12 线程控制"
   ]
  },
  {
   "cell_type": "markdown",
   "metadata": {
    "vscode": {
     "languageId": "plaintext"
    }
   },
   "source": [
    "# 13 守护进程"
   ]
  },
  {
   "cell_type": "markdown",
   "metadata": {
    "vscode": {
     "languageId": "plaintext"
    }
   },
   "source": [
    "# 14 高级IO"
   ]
  },
  {
   "cell_type": "markdown",
   "metadata": {},
   "source": [
    "- 非阻塞IO\n",
    "``` C\n",
    "O_NONBLOCK\n",
    "open()\n",
    "fcntl()\n",
    "```\n",
    "\n",
    "- 记录锁: 数据结构`flock`\n",
    "``` C\n",
    "fcntl()\n",
    "```\n",
    "\n",
    "建议性锁, 强制性锁\n",
    "\n",
    "- IO多路复用(multiplexing)\n",
    "``` C\n",
    "select()\n",
    "pselect()\n",
    "poll()\n",
    "```\n",
    "\n",
    "- 异步IO: 数据结构`aiocb`\n",
    "\n",
    "> http://man7.org/linux/man-pages/man7/aio.7.html\n",
    "\n",
    "``` C\n",
    "aio_read()\n",
    "aio_write()\n",
    "aio_fsync()\n",
    "aio_error()\n",
    "aio_return()\n",
    "aio_suspend()\n",
    "aio_cancel()\n",
    "lio_listio()\n",
    "```\n",
    "\n",
    "\n",
    "散布读(scatter read)/聚集写(gather write): 一次函数调用中读/写多个非连续缓冲区\n",
    "``` C\n",
    "readv()\n",
    "writev()\n",
    "```\n",
    "\n",
    "- 内存映射IO(memory-mapped IO)\n",
    "``` C\n",
    "mmap()\n",
    "mprotect()\n",
    "msync()\n",
    "munmap()\n",
    "```\n"
   ]
  },
  {
   "cell_type": "markdown",
   "metadata": {
    "vscode": {
     "languageId": "plaintext"
    }
   },
   "source": [
    "# 15 进程间通信"
   ]
  },
  {
   "cell_type": "markdown",
   "metadata": {
    "vscode": {
     "languageId": "plaintext"
    }
   },
   "source": [
    "# 16 网络IPC: 套接字"
   ]
  },
  {
   "cell_type": "markdown",
   "metadata": {
    "vscode": {
     "languageId": "plaintext"
    }
   },
   "source": [
    "# 17 高级进程间通信"
   ]
  },
  {
   "cell_type": "markdown",
   "metadata": {
    "vscode": {
     "languageId": "plaintext"
    }
   },
   "source": [
    "# 18 终端IO"
   ]
  },
  {
   "cell_type": "markdown",
   "metadata": {},
   "source": [
    "# 19 伪终端"
   ]
  },
  {
   "cell_type": "markdown",
   "metadata": {},
   "source": [
    "# 20 数据库函数库"
   ]
  },
  {
   "cell_type": "markdown",
   "metadata": {},
   "source": [
    "# 21 与网络打印机通信"
   ]
  }
 ],
 "metadata": {
  "kernelspec": {
   "display_name": "Python 3",
   "language": "python",
   "name": "python3"
  },
  "language_info": {
   "codemirror_mode": {
    "name": "ipython",
    "version": 3
   },
   "file_extension": ".py",
   "mimetype": "text/x-python",
   "name": "python",
   "nbconvert_exporter": "python",
   "pygments_lexer": "ipython3",
   "version": "3.12.7"
  }
 },
 "nbformat": 4,
 "nbformat_minor": 2
}
