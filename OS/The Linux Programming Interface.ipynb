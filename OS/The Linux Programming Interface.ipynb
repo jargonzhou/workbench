{
 "cells": [
  {
   "cell_type": "markdown",
   "metadata": {},
   "source": [
    "# The Linux Programming Interface\n",
    "- Kerrisk, Michael. **The Linux Programming Interface**. 2010. No Starch Press.\n",
    "- obsidian://open?vault=obsidian&file=DevOps%2FLinux%2Fbook.The%20Linux%20Programming%20Interface\n",
    "\n",
    "parts:\n",
    "- Background and concepts: 1-3\n",
    "- Fundamental features of the system programming interface: 4-12\n",
    "- More advanced features of the system programming interface: 13-23\n",
    "- Processes, programs, and threads: 24-33\n",
    "- Advanced process and program topics: 34-42\n",
    "- Interprocess communication (IPC): 43-55\n",
    "- Sockets and network programming: 56-61\n",
    "- Advanced I/O topics: 62-64"
   ]
  },
  {
   "cell_type": "markdown",
   "metadata": {},
   "source": [
    "# Codes"
   ]
  },
  {
   "cell_type": "code",
   "execution_count": null,
   "metadata": {},
   "outputs": [
    {
     "name": "stdout",
     "output_type": "stream",
     "text": [
      "/mnt/d/workspace/github/workbench/OS/tlpi-cmake\n"
     ]
    }
   ],
   "source": [
    "# 工作目录\n",
    "# with Make: /mnt/d/workspace/github/workbench/OS/tlpi-make\n",
    "%cd /mnt/d/workspace/github/workbench/OS/tlpi-cmake"
   ]
  },
  {
   "cell_type": "code",
   "execution_count": null,
   "metadata": {},
   "outputs": [
    {
     "name": "stdout",
     "output_type": "stream",
     "text": [
      "-- The C compiler identification is GNU 11.2.0\n",
      "-- The CXX compiler identification is GNU 11.2.0\n",
      "-- Detecting C compiler ABI info\n",
      "-- Detecting C compiler ABI info - done\n",
      "-- Check for working C compiler: /bin/cc - skipped\n",
      "-- Detecting C compile features\n",
      "-- Detecting C compile features - done\n",
      "-- Detecting CXX compiler ABI info\n",
      "-- Detecting CXX compiler ABI info - done\n",
      "-- Check for working CXX compiler: /bin/c++ - skipped\n",
      "-- Detecting CXX compile features\n",
      "-- Detecting CXX compile features - done\n",
      "-- Configuring done\n",
      "-- Generating done\n",
      "-- Build files have been written to: /mnt/d/workspace/github/workbench/OS/tlpi-cmake/build\n",
      "[  4%] \u001b[32mBuilding C object src/lib/CMakeFiles/lib.dir/error_functions.c.o\u001b[0m\n",
      "[  8%] \u001b[32mBuilding C object src/lib/CMakeFiles/lib.dir/get_num.c.o\u001b[0m\n",
      "[ 13%] \u001b[32m\u001b[1mLinking C static library liblib.a\u001b[0m\n",
      "[ 13%] Built target lib\n",
      "[ 17%] \u001b[32mBuilding C object test/CMakeFiles/get_libc_version.dir/gnu/get_libc_version.c.o\u001b[0m\n",
      "[ 21%] \u001b[32m\u001b[1mLinking C executable get_libc_version\u001b[0m\n",
      "[ 21%] Built target get_libc_version\n",
      "[ 26%] \u001b[32mBuilding C object test/CMakeFiles/test_lib.dir/lib/test_lib.c.o\u001b[0m\n",
      "[ 30%] \u001b[32m\u001b[1mLinking C executable test_lib\u001b[0m\n",
      "[ 30%] Built target test_lib\n",
      "[ 34%] \u001b[32mBuilding C object src/process/CMakeFiles/process_id.dir/process_id.c.o\u001b[0m\n",
      "[ 39%] \u001b[32m\u001b[1mLinking C executable process_id\u001b[0m\n",
      "[ 39%] Built target process_id\n",
      "[ 43%] \u001b[32mBuilding C object src/process/CMakeFiles/mem_segments.dir/mem_segments.c.o\u001b[0m\n",
      "[ 47%] \u001b[32m\u001b[1mLinking C executable mem_segments\u001b[0m\n",
      "[ 47%] Built target mem_segments\n",
      "[ 52%] \u001b[32mBuilding C object src/process/CMakeFiles/necho.dir/necho.c.o\u001b[0m\n",
      "[ 56%] \u001b[32m\u001b[1mLinking C executable necho\u001b[0m\n",
      "[ 56%] Built target necho\n",
      "[ 60%] \u001b[32mBuilding C object src/process/CMakeFiles/display_env.dir/display_env.c.o\u001b[0m\n",
      "[ 65%] \u001b[32m\u001b[1mLinking C executable display_env\u001b[0m\n",
      "[ 65%] Built target display_env\n",
      "[ 69%] \u001b[32mBuilding C object src/process/CMakeFiles/modify_env.dir/modify_env.c.o\u001b[0m\n",
      "[ 73%] \u001b[32m\u001b[1mLinking C executable modify_env\u001b[0m\n",
      "[ 73%] Built target modify_env\n",
      "[ 78%] \u001b[32mBuilding C object src/process/CMakeFiles/longjmp.dir/longjmp.c.o\u001b[0m\n",
      "[ 82%] \u001b[32m\u001b[1mLinking C executable longjmp\u001b[0m\n",
      "[ 82%] Built target longjmp\n",
      "[ 86%] \u001b[32mBuilding C object src/process/CMakeFiles/setjmp_vars.dir/setjmp_vars.c.o\u001b[0m\n",
      "[ 91%] \u001b[32m\u001b[1mLinking C executable setjmp_vars\u001b[0m\n",
      "[ 91%] Built target setjmp_vars\n",
      "[ 95%] \u001b[32mBuilding C object src/memory/CMakeFiles/free_and_sbrk.dir/free_and_sbrk.c.o\u001b[0m\n",
      "[100%] \u001b[32m\u001b[1mLinking C executable free_and_sbrk\u001b[0m\n",
      "[100%] Built target free_and_sbrk\n"
     ]
    }
   ],
   "source": [
    "!rm -rf ./build && cmake -B build\n",
    "!cd build && make"
   ]
  },
  {
   "cell_type": "code",
   "execution_count": null,
   "metadata": {},
   "outputs": [],
   "source": [
    "# 清理\n",
    "!rm -rf ./build"
   ]
  },
  {
   "cell_type": "markdown",
   "metadata": {},
   "source": [
    "## Tests\n",
    "\n",
    "need to use CMake tests."
   ]
  },
  {
   "cell_type": "code",
   "execution_count": null,
   "metadata": {},
   "outputs": [],
   "source": []
  },
  {
   "cell_type": "code",
   "execution_count": null,
   "metadata": {},
   "outputs": [
    {
     "name": "stdout",
     "output_type": "stream",
     "text": [
      "GNU libc version: 2.35\n"
     ]
    }
   ],
   "source": [
    "!cd build/test && ./get_libc_version"
   ]
  },
  {
   "cell_type": "code",
   "execution_count": null,
   "metadata": {},
   "outputs": [
    {
     "name": "stdout",
     "output_type": "stream",
     "text": [
      "blockSize=1234\n"
     ]
    }
   ],
   "source": [
    "!cd build/test && ./test_lib"
   ]
  },
  {
   "cell_type": "markdown",
   "metadata": {},
   "source": [
    "# 1. History and Standards\n",
    "# 2. Fundamental Concepts \n",
    "# 3. System Programming Concepts"
   ]
  },
  {
   "cell_type": "markdown",
   "metadata": {},
   "source": [
    "# 4. File I/O: The Universal I/O Model\n",
    "# 5. File I/O: Further Details "
   ]
  },
  {
   "cell_type": "markdown",
   "metadata": {},
   "source": [
    "# 6. Processes"
   ]
  },
  {
   "cell_type": "markdown",
   "metadata": {},
   "source": [
    "Figure 6-1: Typical memory layout of a process on Linux/x86-32\n",
    "\n",
    "<img src=\"./images/Linux X86-32 Process Memory Layout.png\"/>"
   ]
  },
  {
   "cell_type": "markdown",
   "metadata": {},
   "source": [
    "# 7. Memory Allocation\n",
    "# 8. Users and Groups\n",
    "# 9. Process Credentials \n",
    "# 10. Time\n",
    "# 11. System Limits and Options\n",
    "# 12. System and Process Information"
   ]
  },
  {
   "cell_type": "markdown",
   "metadata": {},
   "source": [
    "# 13. File I/O Buffering\n",
    "# 14. File Systems \n",
    "# 15. File Attributes \n",
    "# 16. Extended Attributes \n",
    "# 17. Access Control Lists\n",
    "# 18. Directories and Links \n",
    "# 19. Monitoring File Events \n",
    "# 20. Signals: Fundamental Concepts \n",
    "# 21. Signals: Signal Handlers\n",
    "# 22. Signals: Advanced Features \n",
    "# 23. Timers and Sleeping"
   ]
  },
  {
   "cell_type": "markdown",
   "metadata": {},
   "source": [
    "# 24. Process Creation\n",
    "# 25. Process Termination\n",
    "# 26. Monitoring Child Processes \n",
    "# 27. Program Execution\n",
    "# 28. Process Creation and Program Execution in More Detail\n",
    "# 29. Threads: Introduction\n",
    "# 30. Threads: Thread Synchronization\n",
    "# 31. Threads: Thread Safety and Per-Thread Storage\n",
    "# 32. Threads: Thread Cancellation\n",
    "# 33. Threads: Further Details "
   ]
  },
  {
   "cell_type": "markdown",
   "metadata": {},
   "source": [
    "# 34. Process Groups, Sessions, and Job Control \n",
    "# 35. Process Priorities and Scheduling \n",
    "# 36. Process Resources \n",
    "# 37. Daemons \n",
    "# 38. Writing Secure Privileged Programs \n",
    "# 39. Capabilities \n",
    "# 40. Login Accounting\n",
    "# 41. Fundamentals of Shared Libraries \n",
    "# 42. Advanced Features of Shared Libraries"
   ]
  },
  {
   "cell_type": "markdown",
   "metadata": {},
   "source": [
    "# 43. Interprocess Communication Overview \n",
    "\n",
    "IPC设施分类:\n",
    "- communication\n",
    "  - data transfer\n",
    "    - byte stream: pipe, FIFO, stream socket\n",
    "    - pseudoterminal\n",
    "    - message: System V message queue, POSIX message queue, datagram socket\n",
    "  - shared memory\n",
    "    - System V shared memory\n",
    "    - POSIX shared memory\n",
    "    - memory mapping: anonymous mapping, mapped file\n",
    "- synchronization\n",
    "  - semaphore\n",
    "    - System V semaphore\n",
    "    - POSIX semaphore: named, unnamed\n",
    "  - file lock\n",
    "    - record lock: `fcntl()`\n",
    "    - file lock: `flock()`\n",
    "  - mutex(threads)\n",
    "  - condition variable(threads)\n",
    "- signal\n",
    "  - standard signal\n",
    "  - realtime signal"
   ]
  },
  {
   "cell_type": "markdown",
   "metadata": {},
   "source": [
    "# 44. Pipes and FIFOs\n",
    "# 45. Introduction to System V IPC\n",
    "# 46. System V Message Queues \n",
    "# 47. System V Semaphores \n",
    "# 48. System V Shared Memory\n",
    "# 49. Memory Mappings \n",
    "# 50. Virtual Memory Operations\n",
    "# 51. Introduction to POSIX IPC\n",
    "# 52. POSIX Message Queues \n",
    "# 53. POSIX Semaphores \n",
    "# 54. POSIX Shared Memory\n",
    "# 55. File Locking"
   ]
  },
  {
   "cell_type": "markdown",
   "metadata": {},
   "source": [
    "# 56. Sockets: Introduction \n",
    "# 57. Sockets: UNIX Domain \n",
    "# 58. Sockets: Fundamentals of TCP/IP Networks\n",
    "# 59. Sockets: Internet Domains \n",
    "# 60. Sockets: Server Design \n",
    "# 61. Sockets: Advanced Topics"
   ]
  },
  {
   "cell_type": "markdown",
   "metadata": {},
   "source": [
    "- Partial Reads and Writes on Stream Sockets\n",
    "- The `shutdown()` System Call\n",
    "- Socket-Specific I/O System Calls: `recv()` and `send()`\n",
    "- The `sendfile()` System Call \n",
    "- Retrieving Socket Addresses \n",
    "- A Closer Look at TCP\n",
    "- Monitoring Sockets: `netstat`\n",
    "- Using `tcpdump` to Monitor TCP Traffic\n",
    "- Socket Options\n",
    "- The `SO_REUSEADDR` Socket Option\n",
    "- Inheritance of Flags and Options Across `accept()`\n",
    "- TCP Versus UDP \n",
    "- Advanced Features\n",
    "  - Out-of-Band Data\n",
    "  - The `sendmsg()` and `recvmsg()` System Calls\n",
    "  - Passing File Descriptors\n",
    "  - Receiving Sender Credentials\n",
    "  - Sequenced-Packet Sockets\n",
    "  - SCTP and DCCP Transport-Layer Protocols "
   ]
  },
  {
   "cell_type": "markdown",
   "metadata": {},
   "source": [
    "## The `sendfile()` System Call"
   ]
  },
  {
   "cell_type": "markdown",
   "metadata": {},
   "source": [
    "例: 读磁盘文件写入socket\n",
    "\n",
    "`sendfile`之间将文件内容传输到socket, 避免了经过用户空间. 零拷贝传输(zero-copy transfer)."
   ]
  },
  {
   "cell_type": "markdown",
   "metadata": {},
   "source": [
    "```c\n",
    "#include <sys/sendfile.h>\n",
    "\n",
    "// Returns number of bytes transferred, or –1 on error\n",
    "ssize_t sendfile(\n",
    "  int out_fd,        // 到, 必须是一个socket\n",
    "  int in_fd,         // 从, 必须是可以使用`mmap()`的文件\n",
    "  off_t *offset,     // in_fd中的偏移量\n",
    "  size_t count       // 传输的字节数量\n",
    ");\n",
    "```"
   ]
  },
  {
   "cell_type": "markdown",
   "metadata": {},
   "source": [
    "从Linux 2.6.17, 新的系统调用: `spilce()`, `vmsplice()`, `tee()`"
   ]
  },
  {
   "cell_type": "markdown",
   "metadata": {},
   "source": [
    "# 62. Terminals \n"
   ]
  },
  {
   "cell_type": "markdown",
   "metadata": {},
   "source": [
    "# 63. Alternative I/O Models\n",
    "\n",
    "- I/O multiplexing: `select()`, `poll`\n",
    "- signal-driven I/O\n",
    "- Linux `epoll` API\n",
    "\n",
    "> One I/O model that we don’t describe in this chapter is POSIX asynchronous\n",
    "I/O (AIO).\n",
    ">\n",
    "> Currently, Linux provides a threads-based implementation of POSIX AIO within glibc. At the time of writing, work is ongoing toward providing an in-kernel implementation of POSIX AIO, which should provide better scaling performance. POSIX AIO is described in [Gallmeister, 1995] and [Robbins & Robbins, 2003]."
   ]
  },
  {
   "cell_type": "markdown",
   "metadata": {},
   "source": [
    "blokcing IO model\n",
    "\n",
    "nonblocking IO model: `O_NONBLOCK`\n",
    "- apply to: pipes, FIFOs, sockets, ternimals, pseudoterminals, other types of devices\n",
    "- poll\n",
    "\n",
    "multiple processes/threads\n",
    "\n",
    "\n",
    "alternatives: 同时监控一个或多个文件描述符, 查看它们是否准备好执行IO. 文件描述符切换到准备好状态是由某种IO事件触发的. 这些方法只是告知有文件描述符处于准备好状态, 但不执行实际的IO.\n",
    "- IO multiplexing: IO多路复用, `select()`, `poll()`\n",
    "  - 可移植的\n",
    "  - 在监控大量文件描述符时(几百或几千), 性能不好\n",
    "- Signal-driven IO: 信号驱动的IO\n",
    "  - 可以高效的监控大量文件描述符\n",
    "- `epoll`: Linux 2.6\n",
    "  - 可以高效的监控大量文件描述符\n",
    "  - 可以指定监控的内容: 读就绪, 写就绪等\n",
    "  - 可以选择水平触发或边缘触发的通知\n",
    "\n",
    "[libevent](https://libevent.org/)\n",
    "\n",
    "> The libevent API provides a mechanism to execute a callback function when a specific event occurs on a file descriptor or after a timeout has been reached. Furthermore, libevent also support callbacks due to signals or regular timeouts.\n",
    ">\n",
    "> Currently, libevent supports /dev/poll, kqueue(2), event ports, POSIX select(2), Windows select(), poll(2), and epoll(4)"
   ]
  },
  {
   "cell_type": "markdown",
   "metadata": {},
   "source": [
    "文件描述符就绪通知的两种模型:\n",
    "- 水平触发的通知: level-triggered notification\n",
    "  - 如果文件描述符可以不阻塞的执行一个IO系统调用, 认为它已就绪.\n",
    "  - IO模型: `select()`, `poll()`, `epoll`\n",
    "  - 可以随时检查描述符的就绪状态: 不需要尽可能多的执行IO.\n",
    "- 边缘触发的通知: edge-triggered notification\n",
    "  - 在上次监控之后, 文件描述符上有新的IO活动, 发出通知.\n",
    "  - IO模型: signal-driven IO, `epoll`\n",
    "  - 只在IO事件发生时接收到通知, 在另一个IO事件发生前不会接收通知; 通知时不知道有多少IO可以执行: 收到通知时尽可能多的执行IO, 将文件描述符设置为非阻塞模式, 重复执行IO直到相应的系统调用以`EAGAIN`或`EWOULDBLOCK`错误失败."
   ]
  },
  {
   "cell_type": "markdown",
   "metadata": {},
   "source": [
    "## IO Multiplexing"
   ]
  },
  {
   "cell_type": "markdown",
   "metadata": {},
   "source": [
    "```c\n",
    "#include <sys/time.h> /* For portability */\n",
    "#include <sys/select.h>\n",
    "\n",
    "// Returns number of ready file descriptors, 0 on timeout, or –1 on error \n",
    "int select(int nfds,           // 3个文件描述符集中最大文件描述号 + 1\n",
    "  fd_set *readfds,             // 读文件描述符集\n",
    "  fd_set *writefds,            // 写文件描述符集\n",
    "  fd_set *exceptfds,           // 异常文件描述符集\n",
    "  struct timeval *timeout      // 阻塞select的时间上限\n",
    ");\n",
    "\n",
    "// 文件描述符集的操作\n",
    "// FD_SETSIZE: 文件描述符集的最大大小, Linux 1024\n",
    "void FD_ZERO(fd_set *fdset);         // 空\n",
    "void FD_SET(int fd, fd_set *fdset);  // 添加fd到fdset中\n",
    "void FD_CLR(int fd, fd_set *fdset);  // 从fdset中移除fd\n",
    "int FD_ISSET(int fd, fd_set *fdset); // Returns true (1) if fd is in fdset, or false (0) otherwise\n",
    "\n",
    "struct timeval {\n",
    "  time_t tv_sec; /* Seconds */\n",
    "  suseconds_t tv_usec; /* Microseconds (long int) */\n",
    "};\n",
    "```"
   ]
  },
  {
   "cell_type": "markdown",
   "metadata": {},
   "source": [
    "```c\n",
    "#include <poll.h>\n",
    "\n",
    "// Returns number of ready file descriptors, 0 on timeout, or –1 on error\n",
    "int poll(\n",
    "  struct pollfd fds[],  // 监控的文件描述符数组\n",
    "  nfds_t nfds,          // fds中项的数量\n",
    "  int timeout           // 阻塞poll的时间上限\n",
    "  );\n",
    "\n",
    "struct pollfd {\n",
    "  int fd;         /* File descriptor */\n",
    "  short events;   /* Requested events bit mask */\n",
    "  short revents;  /* Returned events bit mask */\n",
    "};\n",
    "```"
   ]
  },
  {
   "cell_type": "markdown",
   "metadata": {},
   "source": [
    "`select()`和`poll()`告知IO操作是否不会被阻塞, 而不是IO操作是否可以成功传输数据.\n",
    "\n",
    "在Linux中, `select()`和`poll()`均使用`poll` routine实现:\n",
    "- 每个routine返回单个文件描述符就绪状态的信息: `poll()`中`revents`字段中的位掩码.\n",
    "\n",
    "存在的问题:\n",
    "- Linux内核不会记住多次调用中的要监控的文件描述符列表.\n",
    "- 而signal-driven IO和`epoll`允许内核中记录某个进程感兴趣的文件描述符列表."
   ]
  },
  {
   "cell_type": "markdown",
   "metadata": {},
   "source": [
    "## Signal-Driven IO"
   ]
  },
  {
   "cell_type": "markdown",
   "metadata": {},
   "source": [
    "- 信号: `SIGIO`\n",
    "- 打开文件状态标记: `O_ASYNC | O_NONBLOCK`"
   ]
  },
  {
   "cell_type": "markdown",
   "metadata": {},
   "source": [
    "## The `epoll` API"
   ]
  },
  {
   "cell_type": "markdown",
   "metadata": {},
   "source": [
    "epoll: event poll\n",
    "\n",
    "数据结构: epoll instance\n",
    "- 通过一个打开的文件描述符fd引用, 该fd不用于IO, 而是一个内核数据结构的句柄:\n",
    "  - the interest list: 某个进程声明的要监控的文件描述符列表 - 感兴趣的列表.\n",
    "  - the ready list: 感兴趣列表中就绪的文件描述符列表 - 就绪列表."
   ]
  },
  {
   "cell_type": "markdown",
   "metadata": {},
   "source": [
    "3个系统调用:\n",
    "- `epoll_create()`: 创建epoll instance, 返回其文件描述符.\n",
    "- `epoll_ctl()`: 操作epoll instance中的感兴趣列表, 例如添加新的fd, 移除已有的fd, 修改fd监控事件掩码.\n",
    "- `epoll_wait()`: 返回epoll instance中就绪列表."
   ]
  },
  {
   "cell_type": "markdown",
   "metadata": {},
   "source": [
    "```c\n",
    "#include <sys/epoll.h>\n",
    "\n",
    "// Returns file descriptor on success, or –1 on error\n",
    "int epoll_create(int size); // 从2.6.8开始size参数不再需要\n",
    "\n",
    "\n",
    "// Returns 0 on success, or –1 on error\n",
    "int epoll_ctl(int epfd,    // epoll instance的文件句柄\n",
    "  int op,                  // 修改的操作: EPOLL_CTL_ADD, EPOLL_CTL_MOD, EPOLL_CTL_DEL\n",
    "  int fd,                  // 感兴趣列表中要修改的文件描述符\n",
    "  struct epoll_event *ev   // op=EPOLL_CTL_MOD时, fd上的感兴趣事件设置\n",
    ");\n",
    "\n",
    "struct epoll_event {\n",
    "  uint32_t events;   /* epoll events (bit mask) */\n",
    "  epoll_data_t data; /* User data */ // 提供了找到与事件相关的文件描述符的唯一机制: \n",
    "                                     // fd, 或者ptr指向包含文件描述符的结构\n",
    "};\n",
    "typedef union epoll_data {\n",
    "  void *ptr;         /* Pointer to user-defined data */\n",
    "  int fd;            /* File descriptor */\n",
    "  uint32_t u32;      /* 32-bit integer */\n",
    "  uint64_t u64;      /* 64-bit integer */\n",
    "} epoll_data_t;\n",
    "\n",
    "// Returns number of ready file descriptors, 0 on timeout, or –1 on error\n",
    "int epoll_wait(int epfd,       // epoll instance的文件句柄\n",
    "  struct epoll_event *evlist,  // 就绪的文件描述符的信息 - 由调用者分配内存\n",
    "  int maxevents,               // evlist中元素数量\n",
    "  int timeout                  // 阻塞epoll_wait的时间上限\n",
    ");\n",
    "```"
   ]
  },
  {
   "cell_type": "markdown",
   "metadata": {},
   "source": [
    "limit: `max_user_watches`\n",
    "- 含义: 每个用户可以在所有`epoll`感兴趣列表中注册的文件描述符总数\n",
    "- 原因: `epoll`感兴趣列表中注册的每个文件描述符需要一些不可交换出的(nonswappable)内核内存."
   ]
  },
  {
   "cell_type": "markdown",
   "metadata": {},
   "source": [
    "Table 63-8: Bit-mask values for the epoll `events` field"
   ]
  },
  {
   "cell_type": "markdown",
   "metadata": {},
   "source": [
    "`epoll`默认提供水平触发的通知.\n",
    "\n",
    "`epoll`使用边缘触发的通知: `epoll_ct()`的`env.ents`中使用`EPOLLET`标志.\n",
    "\n",
    "边缘触发可能产生的问题: 文件描述符饥饿\n",
    "- 原因: 使用边缘触发需要尽可能多的执行IO, 在一个文件描述符上执行大量的IO会导致下次`epoll_wait()`检查延迟.\n",
    "- 解决方法: 定一个应用的文件描述符列表(应用fd列表)\n",
    "  - `epoll_wait()`发现就绪的文件描述符时, 加入应用fd列表, 设置下次`epoll_wait()`检查较短的超时时间.\n",
    "  - 在应用fd列表中执行受限数量的IO(可以是轮询方式). 在相应的非阻塞IO系统调用以`EAGAIN`或`EWOULDBLOCK`错误失败时, 将fd从应用fd列表中移除."
   ]
  },
  {
   "cell_type": "markdown",
   "metadata": {},
   "source": [
    "## Waiting on Signals and File Descriptors"
   ]
  },
  {
   "cell_type": "markdown",
   "metadata": {},
   "source": [
    "同时等待信号和就绪的文件描述符\n",
    "\n",
    "系统调用: `pselect()`"
   ]
  },
  {
   "cell_type": "markdown",
   "metadata": {},
   "source": [
    "```c\n",
    "#define _XOPEN_SOURCE 600\n",
    "#include <sys/select.h>\n",
    "\n",
    "// Returns number of ready file descriptors, 0 on timeout, or –1 on error\n",
    "int pselect(int nfds, \n",
    "  fd_set *readfds, \n",
    "  fd_set *writefds, \n",
    "  fd_set *exceptfds,\n",
    "  struct timespec *timeout, \n",
    "  const sigset_t *sigmask    // 信号掩码: 阻塞信号传递\n",
    ");\n",
    "```"
   ]
  },
  {
   "cell_type": "markdown",
   "metadata": {},
   "source": [
    "\n",
    "# 64. Pseudoterminals"
   ]
  }
 ],
 "metadata": {
  "kernelspec": {
   "display_name": "Python 3",
   "language": "python",
   "name": "python3"
  },
  "language_info": {
   "codemirror_mode": {
    "name": "ipython",
    "version": 3
   },
   "file_extension": ".py",
   "mimetype": "text/x-python",
   "name": "python",
   "nbconvert_exporter": "python",
   "pygments_lexer": "ipython3",
   "version": "3.12.7"
  }
 },
 "nbformat": 4,
 "nbformat_minor": 2
}
