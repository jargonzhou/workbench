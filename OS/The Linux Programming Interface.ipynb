{
 "cells": [
  {
   "cell_type": "markdown",
   "metadata": {},
   "source": [
    "# The Linux Programming Interface\n",
    "- Kerrisk, Michael. **The Linux Programming Interface**. 2010. No Starch Press.\n",
    "- obsidian://open?vault=obsidian&file=DevOps%2FLinux%2Fbook.The%20Linux%20Programming%20Interface\n",
    "\n",
    "parts:\n",
    "- Background and concepts: 1-3\n",
    "- Fundamental features of the system programming interface: 4-12\n",
    "- More advanced features of the system programming interface: 13-23\n",
    "- Processes, programs, and threads: 24-33\n",
    "- Advanced process and program topics: 34-42\n",
    "- Interprocess communication (IPC): 43-55\n",
    "- Sockets and network programming: 56-61\n",
    "- Advanced I/O topics: 62-64"
   ]
  },
  {
   "cell_type": "markdown",
   "metadata": {},
   "source": [
    "# Codes"
   ]
  },
  {
   "cell_type": "code",
   "execution_count": null,
   "metadata": {},
   "outputs": [
    {
     "name": "stdout",
     "output_type": "stream",
     "text": [
      "/mnt/d/workspace/github/workbench/OS/tlpi-cmake\n"
     ]
    }
   ],
   "source": [
    "# 工作目录\n",
    "# with Make: /mnt/d/workspace/github/workbench/OS/tlpi-make\n",
    "%cd /mnt/d/workspace/github/workbench/OS/tlpi-cmake"
   ]
  },
  {
   "cell_type": "code",
   "execution_count": null,
   "metadata": {},
   "outputs": [
    {
     "name": "stdout",
     "output_type": "stream",
     "text": [
      "-- The C compiler identification is GNU 11.2.0\n",
      "-- The CXX compiler identification is GNU 11.2.0\n",
      "-- Detecting C compiler ABI info\n",
      "-- Detecting C compiler ABI info - done\n",
      "-- Check for working C compiler: /bin/cc - skipped\n",
      "-- Detecting C compile features\n",
      "-- Detecting C compile features - done\n",
      "-- Detecting CXX compiler ABI info\n",
      "-- Detecting CXX compiler ABI info - done\n",
      "-- Check for working CXX compiler: /bin/c++ - skipped\n",
      "-- Detecting CXX compile features\n",
      "-- Detecting CXX compile features - done\n",
      "-- Configuring done\n",
      "-- Generating done\n",
      "-- Build files have been written to: /mnt/d/workspace/github/workbench/OS/tlpi-cmake/build\n",
      "[  4%] \u001b[32mBuilding C object src/lib/CMakeFiles/lib.dir/error_functions.c.o\u001b[0m\n",
      "[  8%] \u001b[32mBuilding C object src/lib/CMakeFiles/lib.dir/get_num.c.o\u001b[0m\n",
      "[ 13%] \u001b[32m\u001b[1mLinking C static library liblib.a\u001b[0m\n",
      "[ 13%] Built target lib\n",
      "[ 17%] \u001b[32mBuilding C object test/CMakeFiles/get_libc_version.dir/gnu/get_libc_version.c.o\u001b[0m\n",
      "[ 21%] \u001b[32m\u001b[1mLinking C executable get_libc_version\u001b[0m\n",
      "[ 21%] Built target get_libc_version\n",
      "[ 26%] \u001b[32mBuilding C object test/CMakeFiles/test_lib.dir/lib/test_lib.c.o\u001b[0m\n",
      "[ 30%] \u001b[32m\u001b[1mLinking C executable test_lib\u001b[0m\n",
      "[ 30%] Built target test_lib\n",
      "[ 34%] \u001b[32mBuilding C object src/process/CMakeFiles/process_id.dir/process_id.c.o\u001b[0m\n",
      "[ 39%] \u001b[32m\u001b[1mLinking C executable process_id\u001b[0m\n",
      "[ 39%] Built target process_id\n",
      "[ 43%] \u001b[32mBuilding C object src/process/CMakeFiles/mem_segments.dir/mem_segments.c.o\u001b[0m\n",
      "[ 47%] \u001b[32m\u001b[1mLinking C executable mem_segments\u001b[0m\n",
      "[ 47%] Built target mem_segments\n",
      "[ 52%] \u001b[32mBuilding C object src/process/CMakeFiles/necho.dir/necho.c.o\u001b[0m\n",
      "[ 56%] \u001b[32m\u001b[1mLinking C executable necho\u001b[0m\n",
      "[ 56%] Built target necho\n",
      "[ 60%] \u001b[32mBuilding C object src/process/CMakeFiles/display_env.dir/display_env.c.o\u001b[0m\n",
      "[ 65%] \u001b[32m\u001b[1mLinking C executable display_env\u001b[0m\n",
      "[ 65%] Built target display_env\n",
      "[ 69%] \u001b[32mBuilding C object src/process/CMakeFiles/modify_env.dir/modify_env.c.o\u001b[0m\n",
      "[ 73%] \u001b[32m\u001b[1mLinking C executable modify_env\u001b[0m\n",
      "[ 73%] Built target modify_env\n",
      "[ 78%] \u001b[32mBuilding C object src/process/CMakeFiles/longjmp.dir/longjmp.c.o\u001b[0m\n",
      "[ 82%] \u001b[32m\u001b[1mLinking C executable longjmp\u001b[0m\n",
      "[ 82%] Built target longjmp\n",
      "[ 86%] \u001b[32mBuilding C object src/process/CMakeFiles/setjmp_vars.dir/setjmp_vars.c.o\u001b[0m\n",
      "[ 91%] \u001b[32m\u001b[1mLinking C executable setjmp_vars\u001b[0m\n",
      "[ 91%] Built target setjmp_vars\n",
      "[ 95%] \u001b[32mBuilding C object src/memory/CMakeFiles/free_and_sbrk.dir/free_and_sbrk.c.o\u001b[0m\n",
      "[100%] \u001b[32m\u001b[1mLinking C executable free_and_sbrk\u001b[0m\n",
      "[100%] Built target free_and_sbrk\n"
     ]
    }
   ],
   "source": [
    "!rm -rf ./build && cmake -B build\n",
    "!cd build && make"
   ]
  },
  {
   "cell_type": "code",
   "execution_count": null,
   "metadata": {},
   "outputs": [],
   "source": [
    "# 清理\n",
    "!rm -rf ./build"
   ]
  },
  {
   "cell_type": "markdown",
   "metadata": {},
   "source": [
    "## Tests\n",
    "\n",
    "need to use CMake tests."
   ]
  },
  {
   "cell_type": "code",
   "execution_count": null,
   "metadata": {},
   "outputs": [],
   "source": []
  },
  {
   "cell_type": "code",
   "execution_count": null,
   "metadata": {},
   "outputs": [
    {
     "name": "stdout",
     "output_type": "stream",
     "text": [
      "GNU libc version: 2.35\n"
     ]
    }
   ],
   "source": [
    "!cd build/test && ./get_libc_version"
   ]
  },
  {
   "cell_type": "code",
   "execution_count": null,
   "metadata": {},
   "outputs": [
    {
     "name": "stdout",
     "output_type": "stream",
     "text": [
      "blockSize=1234\n"
     ]
    }
   ],
   "source": [
    "!cd build/test && ./test_lib"
   ]
  },
  {
   "cell_type": "markdown",
   "metadata": {},
   "source": [
    "# 1. History and Standards\n",
    "# 2. Fundamental Concepts \n",
    "# 3. System Programming Concepts"
   ]
  },
  {
   "cell_type": "markdown",
   "metadata": {},
   "source": [
    "# 4. File I/O: The Universal I/O Model\n",
    "# 5. File I/O: Further Details \n",
    "# 6. Processes\n",
    "# 7. Memory Allocation\n",
    "# 8. Users and Groups\n",
    "# 9. Process Credentials \n",
    "# 10. Time\n",
    "# 11. System Limits and Options\n",
    "# 12. System and Process Information"
   ]
  },
  {
   "cell_type": "markdown",
   "metadata": {},
   "source": [
    "# 13. File I/O Buffering\n",
    "# 14. File Systems \n",
    "# 15. File Attributes \n",
    "# 16. Extended Attributes \n",
    "# 17. Access Control Lists\n",
    "# 18. Directories and Links \n",
    "# 19. Monitoring File Events \n",
    "# 20. Signals: Fundamental Concepts \n",
    "# 21. Signals: Signal Handlers\n",
    "# 22. Signals: Advanced Features \n",
    "# 23. Timers and Sleeping"
   ]
  },
  {
   "cell_type": "markdown",
   "metadata": {},
   "source": [
    "# 24. Process Creation\n",
    "# 25. Process Termination\n",
    "# 26. Monitoring Child Processes \n",
    "# 27. Program Execution\n",
    "# 28. Process Creation and Program Execution in More Detail\n",
    "# 29. Threads: Introduction\n",
    "# 30. Threads: Thread Synchronization\n",
    "# 31. Threads: Thread Safety and Per-Thread Storage\n",
    "# 32. Threads: Thread Cancellation\n",
    "# 33. Threads: Further Details "
   ]
  },
  {
   "cell_type": "markdown",
   "metadata": {},
   "source": [
    "# 34. Process Groups, Sessions, and Job Control \n",
    "# 35. Process Priorities and Scheduling \n",
    "# 36. Process Resources \n",
    "# 37. Daemons \n",
    "# 38. Writing Secure Privileged Programs \n",
    "# 39. Capabilities \n",
    "# 40. Login Accounting\n",
    "# 41. Fundamentals of Shared Libraries \n",
    "# 42. Advanced Features of Shared Libraries"
   ]
  },
  {
   "cell_type": "markdown",
   "metadata": {},
   "source": [
    "# 43. Interprocess Communication Overview \n",
    "\n",
    "IPC设施分类:\n",
    "- communication\n",
    "  - data transfer\n",
    "    - byte stream: pipe, FIFO, stream socket\n",
    "    - pseudoterminal\n",
    "    - message: System V message queue, POSIX message queue, datagram socket\n",
    "  - shared memory\n",
    "    - System V shared memory\n",
    "    - POSIX shared memory\n",
    "    - memory mapping: anonymous mapping, mapped file\n",
    "- synchronization\n",
    "  - semaphore\n",
    "    - System V semaphore\n",
    "    - POSIX semaphore: named, unnamed\n",
    "  - file lock\n",
    "    - record lock: `fcntl()`\n",
    "    - file lock: `flock()`\n",
    "  - mutex(threads)\n",
    "  - condition variable(threads)\n",
    "- signal\n",
    "  - standard signal\n",
    "  - realtime signal"
   ]
  },
  {
   "cell_type": "markdown",
   "metadata": {},
   "source": [
    "# 44. Pipes and FIFOs\n",
    "# 45. Introduction to System V IPC\n",
    "# 46. System V Message Queues \n",
    "# 47. System V Semaphores \n",
    "# 48. System V Shared Memory\n",
    "# 49. Memory Mappings \n",
    "# 50. Virtual Memory Operations\n",
    "# 51. Introduction to POSIX IPC\n",
    "# 52. POSIX Message Queues \n",
    "# 53. POSIX Semaphores \n",
    "# 54. POSIX Shared Memory\n",
    "# 55. File Locking"
   ]
  },
  {
   "cell_type": "markdown",
   "metadata": {},
   "source": [
    "# 56. Sockets: Introduction \n",
    "# 57. Sockets: UNIX Domain \n",
    "# 58. Sockets: Fundamentals of TCP/IP Networks\n",
    "# 59. Sockets: Internet Domains \n",
    "# 60. Sockets: Server Design \n",
    "# 61. Sockets: Advanced Topics"
   ]
  },
  {
   "cell_type": "markdown",
   "metadata": {},
   "source": [
    "# 62. Terminals \n"
   ]
  },
  {
   "cell_type": "markdown",
   "metadata": {},
   "source": [
    "# 63. Alternative I/O Models\n",
    "\n",
    "- I/O multiplexing: `select()`, `poll`\n",
    "- signal-driven I/O\n",
    "- Linux `epoll` API\n",
    "\n",
    "> One I/O model that we don’t describe in this chapter is POSIX asynchronous\n",
    "I/O (AIO).\n",
    ">\n",
    "> Currently, Linux provides a threads-based implementation of POSIX AIO within glibc. At the time of writing, work is ongoing toward providing an in-kernel implementation of POSIX AIO, which should provide better scaling performance. POSIX AIO is described in [Gallmeister, 1995] and [Robbins & Robbins, 2003]."
   ]
  },
  {
   "cell_type": "markdown",
   "metadata": {},
   "source": [
    "\n",
    "# 64. Pseudoterminals"
   ]
  }
 ],
 "metadata": {
  "kernelspec": {
   "display_name": "Python 3",
   "language": "python",
   "name": "python3"
  },
  "language_info": {
   "codemirror_mode": {
    "name": "ipython",
    "version": 3
   },
   "file_extension": ".py",
   "mimetype": "text/x-python",
   "name": "python",
   "nbconvert_exporter": "python",
   "pygments_lexer": "ipython3",
   "version": "3.12.7"
  }
 },
 "nbformat": 4,
 "nbformat_minor": 2
}
