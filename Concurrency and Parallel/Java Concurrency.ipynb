{
 "cells": [
  {
   "cell_type": "markdown",
   "metadata": {},
   "source": [
    "# Java Concurrency\n",
    "* https://docs.oracle.com/javase/8/docs/api/java/util/concurrent/package-summary.html\n",
    "* Doug Lea's Home Page: https://gee.cs.oswego.edu/\n",
    "  * [Concurrency JSR-166 Interest Site](https://gee.cs.oswego.edu/dl/concurrency-interest/index.html)\n",
    "  * ...\n",
    "\n",
    "Introduction materials:\n",
    "* https://www.baeldung.com/java-util-concurrent\n",
    "* https://www.geeksforgeeks.org/java-util-concurrent-package/\n"
   ]
  },
  {
   "cell_type": "markdown",
   "metadata": {},
   "source": [
    "Actions:\n",
    "\n",
    "* /mnt/d/workspace/github/learning-cloudnative/compute/multiprocessor/java"
   ]
  }
 ],
 "metadata": {
  "language_info": {
   "name": "python"
  }
 },
 "nbformat": 4,
 "nbformat_minor": 2
}
