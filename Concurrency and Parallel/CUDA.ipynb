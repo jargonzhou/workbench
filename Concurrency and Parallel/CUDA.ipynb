{
 "cells": [
  {
   "cell_type": "markdown",
   "metadata": {},
   "source": [
    "# CUDA\n",
    "* https://developer.nvidia.com/cuda-toolkit"
   ]
  },
  {
   "cell_type": "markdown",
   "metadata": {},
   "source": [
    "# No NVIDIA GPU support in current Windows OS"
   ]
  },
  {
   "cell_type": "markdown",
   "metadata": {},
   "source": [
    "- https://www.freecodecamp.org/chinese/news/what-graphics-card-do-i-have-how-to-check-your-gpu-in-windows-10-pc-guide/\n",
    "\n",
    "\n",
    "Windows: `dxdiag`\n",
    "\n",
    "```\n",
    "---------------\n",
    "Display Devices\n",
    "---------------\n",
    "           Card name: Intel(R) Iris(R) Xe Graphics\n",
    "        Manufacturer: Intel Corporation\n",
    "           Chip type: Intel(R) Iris(R) Xe Graphics Family\n",
    "            DAC type: Internal\n",
    "         Device Type: Full Device (POST)\n",
    "          Device Key: Enum\\PCI\\VEN_8086&DEV_A7A0&SUBSYS_3C4817AA&REV_04\n",
    "       Device Status: 0180200A [DN_DRIVER_LOADED|DN_STARTED|DN_DISABLEABLE|DN_NT_ENUMERATOR|DN_NT_DRIVER] \n",
    " Device Problem Code: No Problem\n",
    " Driver Problem Code: Unknown\n",
    "      Display Memory: 16374 MB\n",
    "    Dedicated Memory: 128 MB\n",
    "       Shared Memory: 16246 MB\n",
    "        Current Mode: 2880 x 1800 (32 bit) (60Hz)\n",
    "         HDR Support: Supported\n",
    "    Display Topology: Extend\n",
    " Display Color Space: DXGI_COLOR_SPACE_RGB_FULL_G22_NONE_P709\n",
    "     Color Primaries: Red(0.639648,0.330078), Green(0.299805,0.599609), Blue(0.150391,0.059570), White Point(0.313477,0.329102)\n",
    "   Display Luminance: Min Luminance = 0.500000, Max Luminance = 270.000000, MaxFullFrameLuminance = 270.000000\n",
    "        Monitor Name: Generic PnP Monitor\n",
    "       Monitor Model: unknown\n",
    "          Monitor Id: LEN9123\n",
    "         Native Mode: 2880 x 1800(p) (60.000Hz)\n",
    "         Output Type: Internal\n",
    "Monitor Capabilities: HDR Not Supported\n",
    "```\n"
   ]
  },
  {
   "cell_type": "markdown",
   "metadata": {},
   "source": [
    "- https://www.cnblogs.com/LandWind/p/wsl2-cuda-cudnn-first-start.html\n",
    "\n",
    "```shell\n",
    "mkdir cuda\n",
    "cd cuda\n",
    "wget https://developer.download.nvidia.com/compute/cuda/repos/wsl-ubuntu/x86_64/cuda-keyring_1.1-1_all.deb\n",
    "sudo dpkg -i cuda-keyring_1.1-1_all.deb\n",
    "sudo apt-get update\n",
    "sudo apt-get -y install cuda-toolkit-12-6\n",
    "\n",
    "vi ~/.zshrc\n",
    "export PATH=\"/usr/local/cuda-12.6/bin:$PATH\"\n",
    "export LD_LIBRARY_PATH=\"/usr/local/cuda-12.6/lib64:$LD_LIBRARY_PATH\"\n",
    "\n",
    "source ~/.zshrc\n",
    "sudo apt-get install freeglut3-dev build-essential libx11-dev libxmu-dev libxi-dev libgl1-mesa-glx libglu1-mesa libglu1-mesa-dev\n",
    "nvcc -V\n",
    "pip install torch torchvision torchaudio --extra-index-url https://download.pytorch.org/whl/cu126 -i https://pypi.tuna.tsinghua.edu.cn/simple\n",
    "python ex_pytorch.py\n",
    "```"
   ]
  }
 ],
 "metadata": {
  "language_info": {
   "name": "python"
  }
 },
 "nbformat": 4,
 "nbformat_minor": 2
}
