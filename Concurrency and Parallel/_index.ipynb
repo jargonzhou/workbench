{
 "cells": [
  {
   "cell_type": "markdown",
   "metadata": {},
   "source": [
    "# Concurrency and Parallel\n",
    "* aipp: An Introduction to Parallel Programming\n",
    "  * https://www.elsevier.com/books-and-journals/book-companion/9780128046050 \n",
    "* tamp: The Art of Multiprocessor Programming\n",
    "  * https://shop.elsevier.com/books/the-art-of-multiprocessor-programming/herlihy/978-0-12-415950-1"
   ]
  },
  {
   "cell_type": "markdown",
   "metadata": {},
   "source": [
    "# TODO\n",
    "\n",
    "* hwo to timming/profiling?\n",
    "* how to debug?\n",
    "* how to do the correctness verification?\n",
    "\n",
    "patterns:\n",
    "* how to devide/partition the problem to use parallism?\n",
    "* how to arrange the communication among processes/threads?"
   ]
  },
  {
   "cell_type": "markdown",
   "metadata": {},
   "source": [
    "# Design"
   ]
  },
  {
   "cell_type": "markdown",
   "metadata": {},
   "source": [
    "* ref [Designing and Building Parallel Programs](https://www.mcs.anl.gov/~itf/dbpp/)\n",
    "\n",
    "方法论PCAM\n",
    "\n",
    "* 划分(**P**artitioning): 将要执行的计算和操作的数据划分为小任务.\n",
    "* 通信(**C**ommunication): 确定协同任务执行的通信, 定义恰当的通信结构和算法.\n",
    "* 聚合(**A**gglomeration/**A**ggregation): 根据性能要求和实现成本评估前两步中定义的任务和通信机构, 必要时聚合小任务成大任务, 以调高性能或降低开发成本.\n",
    "* 映射(**M**apping): 以尝试满足最大化核利用率和最小化通信成本这两个相互冲突的目标的方式, 将任务指派给处理器. 可以静态的指定映射, 或者运行时通过负载均衡算法确定映射.\n",
    "\n",
    "![](https://www.mcs.anl.gov/~itf/dbpp/text/img160.gif)"
   ]
  },
  {
   "cell_type": "code",
   "execution_count": 2,
   "metadata": {},
   "outputs": [],
   "source": [
    "# from IPython.display import Image\n",
    "# Image(url=\"https://www.mcs.anl.gov/~itf/dbpp/text/img160.gif\") "
   ]
  },
  {
   "cell_type": "markdown",
   "metadata": {},
   "source": [
    "# Problems\n",
    "\n",
    "Collect Parallel Problems here.\n",
    "\n",
    "\n",
    "[Embarrassingly parallel - wikipedia](https://en.wikipedia.org/wiki/Embarrassingly_parallel):\n",
    "\n",
    "* 蒙特卡洛分析.\n",
    "* 使用分布式集合处理的分布式数据库查询.\n",
    "* 数值积分.\n",
    "* 有相似特性的不相关文件的批量处理, 例如图片大小切换和转换.\n",
    "* Mandelbrot集,Perlin噪声或类似图片, 每个点是单独计算的.\n",
    "* 计算机图像渲染. 在计算机动画中, 每个帧或像素可以独立渲染.\n",
    "* 密码学中的一些暴力搜索.\n",
    "* 生物信息学中有分开的数据库的BLAST搜索.\n",
    "* 大规模面部识别系统, 将几千个任意面部与类似大小的预置面部比对.\n",
    "* 比较多个独立场景的计算机模拟.\n",
    "* 基因算法.\n",
    "* 数值天气预测的系综(ensemble)计算.\n",
    "* 粒子物理学中的事件模拟和重构.\n",
    "* 行进平方算法: 在计算机图形学中，行进平方是一种为二维标量场生成轮廓的算法.\n",
    "* 二次筛和数域筛的筛分步骤.\n",
    "* 机器学习技术中随机森林的树生长步骤.\n",
    "* 离散傅里叶变换, 每个谐波是独立计算的.\n",
    "* GPU上运行的卷积神经网络.\n",
    "* 约束规划中的并行搜索."
   ]
  },
  {
   "cell_type": "markdown",
   "metadata": {},
   "source": [
    "Chapter 10 The Seven Computational Giants of Massive Data Analysis of 'Frontiers in Massive Data Analysis':\n",
    "\n",
    "* basic statistics: 基本统计\n",
    "* generalized N-body problems: 通用N体问题\n",
    "* graph-theoretic computations: 图理论计算\n",
    "* linear algebraic computations: 线性代数计算\n",
    "* optimizations: 优化\n",
    "* integration: 积分\n",
    "* alignment problems: 对齐问题"
   ]
  },
  {
   "cell_type": "markdown",
   "metadata": {},
   "source": [
    "* 奇偶排序: see [Odd-even sort - wikipedia](https://en.wikipedia.org/wiki/Odd%E2%80%93even_sort), aipp\n",
    "* 梯形法数值积分: see aipp\n",
    "* 生产者, 消费者: see aipp\n",
    "* 斐波那契数: see aipp"
   ]
  },
  {
   "cell_type": "markdown",
   "metadata": {},
   "source": [
    "# Libraries"
   ]
  },
  {
   "cell_type": "markdown",
   "metadata": {},
   "source": [
    "* [MPI.ipynb](./MPI.ipynb)\n",
    "* [Pthreads.ipynb](./Pthreads.ipynb)\n",
    "* [OpenMP.ipynb](./OpenMP.ipynb)\n",
    "* [CUDA.ipynb](./CUDA.ipynb)"
   ]
  },
  {
   "cell_type": "markdown",
   "metadata": {},
   "source": [
    "# Java\n",
    "* [Java Concurrency.ipynb](./Java%20Concurrency.ipynb)"
   ]
  },
  {
   "cell_type": "markdown",
   "metadata": {},
   "source": [
    "# Python\n",
    "* [Python asyncio.ipynb](./Python%20asyncio.ipynb)"
   ]
  }
 ],
 "metadata": {
  "kernelspec": {
   "display_name": "Python 3",
   "language": "python",
   "name": "python3"
  },
  "language_info": {
   "codemirror_mode": {
    "name": "ipython",
    "version": 3
   },
   "file_extension": ".py",
   "mimetype": "text/x-python",
   "name": "python",
   "nbconvert_exporter": "python",
   "pygments_lexer": "ipython3",
   "version": "3.12.7"
  }
 },
 "nbformat": 4,
 "nbformat_minor": 2
}
