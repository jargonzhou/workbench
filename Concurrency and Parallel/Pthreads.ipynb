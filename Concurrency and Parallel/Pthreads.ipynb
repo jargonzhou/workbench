{
 "cells": [
  {
   "cell_type": "markdown",
   "metadata": {},
   "source": [
    "# Pthreads: POSIX threads\n",
    "* https://man7.org/linux/man-pages/man7/pthreads.7.html\n",
    "* The Linux Programming Interface\n",
    "  * Chapter 29: Threads: Introduction\n",
    "  * Chapter 30: Threads: Thread Synchronization\n",
    "  * Chapter 31: Threads: Thread Safety and Per-Thread Storage\n",
    "  * Chapter 32: Threads: Thread Cancellation\n",
    "  * Chapter 33: Threads: Further Details\n",
    "* Programming with POSIX Threads\n",
    "* Unix™ Systems Programming- Communication, Concurrency, and Threads\n",
    "* Advanced Programming in the UNIX Environment\n",
    "  * Chapter 11. Threads\n",
    "  * Chapter 12. Thread Control"
   ]
  },
  {
   "cell_type": "code",
   "execution_count": 1,
   "metadata": {},
   "outputs": [
    {
     "name": "stdout",
     "output_type": "stream",
     "text": [
      "gcc (Ubuntu 11.2.0-19ubuntu1) 11.2.0\n",
      "Copyright (C) 2021 Free Software Foundation, Inc.\n",
      "This is free software; see the source for copying conditions.  There is NO\n",
      "warranty; not even for MERCHANTABILITY or FITNESS FOR A PARTICULAR PURPOSE.\n",
      "\n"
     ]
    }
   ],
   "source": [
    "!gcc --version"
   ]
  },
  {
   "cell_type": "code",
   "execution_count": 2,
   "metadata": {},
   "outputs": [
    {
     "name": "stdout",
     "output_type": "stream",
     "text": [
      "/mnt/d/GoogleDrive/wiki/jupyter-notebooks/Concurrency and Parallel/Pthreads\n"
     ]
    },
    {
     "name": "stderr",
     "output_type": "stream",
     "text": [
      "/home/zhoujiagen/.local/lib/python3.12/site-packages/IPython/core/magics/osm.py:417: UserWarning: This is now an optional IPython functionality, setting dhist requires you to install the `pickleshare` library.\n",
      "  self.shell.db['dhist'] = compress_dhist(dhist)[-100:]\n"
     ]
    }
   ],
   "source": [
    "# working directory\n",
    "%cd Pthreads"
   ]
  },
  {
   "cell_type": "markdown",
   "metadata": {},
   "source": [
    "# Hello World\n",
    "* [Pthreads/aipp_4_1.c](./Pthreads/aipp_4_1.c)"
   ]
  },
  {
   "cell_type": "code",
   "execution_count": 3,
   "metadata": {},
   "outputs": [],
   "source": [
    "# 编译\n",
    "!gcc -g -Wall -o aipp_4_1 aipp_4_1.c -lpthread"
   ]
  },
  {
   "cell_type": "code",
   "execution_count": 4,
   "metadata": {},
   "outputs": [
    {
     "name": "stdout",
     "output_type": "stream",
     "text": [
      "Hello from main thread\n",
      "Hello from thread 0 of 1\n"
     ]
    }
   ],
   "source": [
    "# 执行\n",
    "!./aipp_4_1 1"
   ]
  },
  {
   "cell_type": "code",
   "execution_count": 5,
   "metadata": {},
   "outputs": [
    {
     "name": "stdout",
     "output_type": "stream",
     "text": [
      "Hello from thread 0 of 4\n",
      "Hello from main thread\n",
      "Hello from thread 1 of 4\n",
      "Hello from thread 2 of 4\n",
      "Hello from thread 3 of 4\n"
     ]
    }
   ],
   "source": [
    "!./aipp_4_1 4"
   ]
  },
  {
   "cell_type": "code",
   "execution_count": 6,
   "metadata": {},
   "outputs": [],
   "source": [
    "# 清理\n",
    "!rm -f aipp_4_1"
   ]
  },
  {
   "cell_type": "code",
   "execution_count": 7,
   "metadata": {},
   "outputs": [
    {
     "name": "stdout",
     "output_type": "stream",
     "text": [
      "Hello from thread 0 of 4: working on Hello World Task\n",
      "Hello from main thread\n",
      "Hello from thread 1 of 4: working on Hello World Task\n",
      "Hello from thread 3 of 4: working on Hello World Task\n",
      "Hello from thread 2 of 4: working on Hello World Task\n"
     ]
    }
   ],
   "source": [
    "# 使用结构体作为线程函数参数\n",
    "filename = 'aipp_4_1-2'\n",
    "!gcc -g -Wall -o {filename} {filename}.c -lpthread\n",
    "!./{filename} 4\n",
    "!rm -f {filename}"
   ]
  },
  {
   "cell_type": "markdown",
   "metadata": {},
   "source": [
    "# Help"
   ]
  },
  {
   "cell_type": "code",
   "execution_count": null,
   "metadata": {},
   "outputs": [
    {
     "name": "stdout",
     "output_type": "stream",
     "text": [
      "PTHREAD_CREATE(3)          Linux Programmer's Manual         PTHREAD_CREATE(3)\n",
      "\n",
      "NAME\n",
      "       pthread_create - create a new thread\n",
      "\n",
      "SYNOPSIS\n",
      "       #include <pthread.h>\n",
      "\n",
      "       int pthread_create(pthread_t *thread, const pthread_attr_t *attr,\n",
      "                          void *(*start_routine) (void *), void *arg);\n",
      "\n",
      "       Compile and link with -pthread.\n",
      "\n",
      "DESCRIPTION\n",
      "       The  pthread_create()  function  starts  a  new  thread  in the calling\n",
      "       process.  The new thread starts execution by invoking  start_routine();\n",
      "       arg is passed as the sole argument of start_routine().\n",
      "\n",
      "       The new thread terminates in one of the following ways:\n",
      "\n",
      "       * It  calls  pthread_exit(3),  specifying  an exit status value that is\n",
      "         available  to  another  thread  in  the  same  process   that   calls\n",
      "         pthread_join(3).\n",
      "\n",
      "       * It  returns  from  start_routine().   This  is  equivalent to calling\n",
      "         pthread_exit(3) with the value supplied in the return statement.\n",
      "\n",
      "       * It is canceled (see pthread_cancel(3)).\n",
      "\n",
      "       * Any of the threads in the process calls exit(3), or the  main  thread\n",
      "         performs  a  return  from main().  This causes the termination of all\n",
      "         threads in the process.\n",
      "\n",
      "       The attr argument points to a pthread_attr_t structure  whose  contents\n",
      "       are  used  at  thread creation time to determine attributes for the new\n",
      "       thread; this structure is initialized  using  pthread_attr_init(3)  and\n",
      "       related  functions.   If  attr is NULL, then the thread is created with\n",
      "       default attributes.\n",
      "\n",
      "       Before returning, a successful call to pthread_create() stores  the  ID\n",
      "       of  the  new thread in the buffer pointed to by thread; this identifier\n",
      "       is used to refer to the thread in subsequent calls  to  other  pthreads\n",
      "       functions.\n",
      "\n",
      "       The  new  thread  inherits  a copy of the creating thread's signal mask\n",
      "       (pthread_sigmask(3)).  The set of pending signals for the new thread is\n",
      "       empty  (sigpending(2)).   The  new thread does not inherit the creating\n",
      "       thread's alternate signal stack (sigaltstack(2)).\n",
      "\n",
      "       The new thread inherits the calling thread's floating-point environment\n",
      "       (fenv(3)).\n",
      "\n",
      "       The  initial  value  of  the  new  thread's  CPU-time  clock  is 0 (see\n",
      "       pthread_getcpuclockid(3)).\n",
      "\n",
      "   Linux-specific details\n",
      "       The new thread inherits copies of the calling thread's capability  sets\n",
      "       (see capabilities(7)) and CPU affinity mask (see sched_setaffinity(2)).\n",
      "\n",
      "RETURN VALUE\n",
      "       On  success,  pthread_create() returns 0; on error, it returns an error\n",
      "       number, and the contents of *thread are undefined.\n",
      "\n",
      "ERRORS\n",
      "       EAGAIN Insufficient resources to create another thread.\n",
      "\n",
      "       EAGAIN A system-imposed limit on the number of threads was encountered.\n",
      "              There  are  a  number of limits that may trigger this error: the\n",
      "              RLIMIT_NPROC soft resource limit (set via  setrlimit(2)),  which\n",
      "              limits  the  number of processes and threads for a real user ID,\n",
      "              was reached; the kernel's system-wide limit  on  the  number  of\n",
      "              processes and threads, /proc/sys/kernel/threads-max, was reached\n",
      "              (see proc(5)); or the maximum  number  of  PIDs,  /proc/sys/ker‐\n",
      "              nel/pid_max, was reached (see proc(5)).\n",
      "\n",
      "       EINVAL Invalid settings in attr.\n",
      "\n",
      "       EPERM  No permission to set the scheduling policy and parameters speci‐\n",
      "              fied in attr.\n",
      "\n",
      "ATTRIBUTES\n",
      "       For an  explanation  of  the  terms  used  in  this  section,  see  at‐\n",
      "       tributes(7).\n",
      "\n",
      "       ┌─────────────────┬───────────────┬─────────┐\n",
      "       │Interface        │ Attribute     │ Value   │\n",
      "       ├─────────────────┼───────────────┼─────────┤\n",
      "       │pthread_create() │ Thread safety │ MT-Safe │\n",
      "       └─────────────────┴───────────────┴─────────┘\n",
      "\n",
      "CONFORMING TO\n",
      "       POSIX.1-2001, POSIX.1-2008.\n",
      "\n",
      "NOTES\n",
      "       See  pthread_self(3)  for further information on the thread ID returned\n",
      "       in *thread by pthread_create().  Unless real-time  scheduling  policies\n",
      "       are  being employed, after a call to pthread_create(), it is indetermi‐\n",
      "       nate which thread—the caller or the new thread—will next execute.\n",
      "\n",
      "       A thread may either be joinable or detached.  If a thread is  joinable,\n",
      "       then  another thread can call pthread_join(3) to wait for the thread to\n",
      "       terminate and fetch its exit status.  Only when a  terminated  joinable\n",
      "       thread  has  been joined are the last of its resources released back to\n",
      "       the system.  When a detached thread terminates, its resources are auto‐\n",
      "       matically  released back to the system: it is not possible to join with\n",
      "       the thread in order to obtain its exit status.   Making  a  thread  de‐\n",
      "       tached is useful for some types of daemon threads whose exit status the\n",
      "       application does not need to care about.  By default, a new  thread  is\n",
      "       created  in  a joinable state, unless attr was set to create the thread\n",
      "       in a detached state (using pthread_attr_setdetachstate(3)).\n",
      "\n",
      "       Under the NPTL threading implementation, if the RLIMIT_STACK  soft  re‐\n",
      "       source  limit  at the time the program started has any value other than\n",
      "       \"unlimited\", then it determines the default stack size of new  threads.\n",
      "       Using pthread_attr_setstacksize(3), the stack size attribute can be ex‐\n",
      "       plicitly set in the attr argument used to create a thread, in order  to\n",
      "       obtain  a  stack  size other than the default.  If the RLIMIT_STACK re‐\n",
      "       source limit is set to \"unlimited\", a per-architecture  value  is  used\n",
      "       for the stack size.  Here is the value for a few architectures:\n",
      "\n",
      "              ┌─────────────┬────────────────────┐\n",
      "              │Architecture │ Default stack size │\n",
      "              ├─────────────┼────────────────────┤\n",
      "              │i386         │               2 MB │\n",
      "              ├─────────────┼────────────────────┤\n",
      "              │IA-64        │              32 MB │\n",
      "              ├─────────────┼────────────────────┤\n",
      "              │PowerPC      │               4 MB │\n",
      "              ├─────────────┼────────────────────┤\n",
      "              │S/390        │               2 MB │\n",
      "              ├─────────────┼────────────────────┤\n",
      "              │Sparc-32     │               2 MB │\n",
      "              ├─────────────┼────────────────────┤\n",
      "              │Sparc-64     │               4 MB │\n",
      "              ├─────────────┼────────────────────┤\n",
      "              │x86_64       │               2 MB │\n",
      "              └─────────────┴────────────────────┘\n",
      "BUGS\n",
      "       In  the  obsolete LinuxThreads implementation, each of the threads in a\n",
      "       process has a different process ID.  This is in violation of the  POSIX\n",
      "       threads  specification, and is the source of many other nonconformances\n",
      "       to the standard; see pthreads(7).\n",
      "\n",
      "EXAMPLES\n",
      "       The program below demonstrates the use of pthread_create(), as well  as\n",
      "       a number of other functions in the pthreads API.\n",
      "\n",
      "       In  the  following run, on a system providing the NPTL threading imple‐\n",
      "       mentation, the stack size defaults to the value  given  by  the  \"stack\n",
      "       size\" resource limit:\n",
      "\n",
      "           $ ulimit -s\n",
      "           8192            # The stack size limit is 8 MB (0x800000 bytes)\n",
      "           $ ./a.out hola salut servus\n",
      "           Thread 1: top of stack near 0xb7dd03b8; argv_string=hola\n",
      "           Thread 2: top of stack near 0xb75cf3b8; argv_string=salut\n",
      "           Thread 3: top of stack near 0xb6dce3b8; argv_string=servus\n",
      "           Joined with thread 1; returned value was HOLA\n",
      "           Joined with thread 2; returned value was SALUT\n",
      "           Joined with thread 3; returned value was SERVUS\n",
      "\n",
      "       In  the next run, the program explicitly sets a stack size of 1 MB (us‐\n",
      "       ing pthread_attr_setstacksize(3)) for the created threads:\n",
      "\n",
      "           $ ./a.out -s 0x100000 hola salut servus\n",
      "           Thread 1: top of stack near 0xb7d723b8; argv_string=hola\n",
      "           Thread 2: top of stack near 0xb7c713b8; argv_string=salut\n",
      "           Thread 3: top of stack near 0xb7b703b8; argv_string=servus\n",
      "           Joined with thread 1; returned value was HOLA\n",
      "           Joined with thread 2; returned value was SALUT\n",
      "           Joined with thread 3; returned value was SERVUS\n",
      "\n",
      "   Program source\n",
      "\n",
      "       #include <pthread.h>\n",
      "       #include <string.h>\n",
      "       #include <stdio.h>\n",
      "       #include <stdlib.h>\n",
      "       #include <unistd.h>\n",
      "       #include <errno.h>\n",
      "       #include <ctype.h>\n",
      "\n",
      "       #define handle_error_en(en, msg) \\\n",
      "               do { errno = en; perror(msg); exit(EXIT_FAILURE); } while (0)\n",
      "\n",
      "       #define handle_error(msg) \\\n",
      "               do { perror(msg); exit(EXIT_FAILURE); } while (0)\n",
      "\n",
      "       struct thread_info {    /* Used as argument to thread_start() */\n",
      "           pthread_t thread_id;        /* ID returned by pthread_create() */\n",
      "           int       thread_num;       /* Application-defined thread # */\n",
      "           char     *argv_string;      /* From command-line argument */\n",
      "       };\n",
      "\n",
      "       /* Thread start function: display address near top of our stack,\n",
      "          and return upper-cased copy of argv_string */\n",
      "\n",
      "       static void *\n",
      "       thread_start(void *arg)\n",
      "       {\n",
      "           struct thread_info *tinfo = arg;\n",
      "           char *uargv;\n",
      "\n",
      "           printf(\"Thread %d: top of stack near %p; argv_string=%s\\n\",\n",
      "                   tinfo->thread_num, &p, tinfo->argv_string);\n",
      "\n",
      "           uargv = strdup(tinfo->argv_string);\n",
      "           if (uargv == NULL)\n",
      "               handle_error(\"strdup\");\n",
      "\n",
      "           for (char *p = uargv; *p != '\\0'; p++)\n",
      "               *p = toupper(*p);\n",
      "\n",
      "           return uargv;\n",
      "       }\n",
      "\n",
      "       int\n",
      "       main(int argc, char *argv[])\n",
      "       {\n",
      "           int s, opt, num_threads;\n",
      "           pthread_attr_t attr;\n",
      "           size_t stack_size;\n",
      "           void *res;\n",
      "\n",
      "           /* The \"-s\" option specifies a stack size for our threads */\n",
      "\n",
      "           stack_size = -1;\n",
      "           while ((opt = getopt(argc, argv, \"s:\")) != -1) {\n",
      "               switch (opt) {\n",
      "               case 's':\n",
      "                   stack_size = strtoul(optarg, NULL, 0);\n",
      "                   break;\n",
      "\n",
      "               default:\n",
      "                   fprintf(stderr, \"Usage: %s [-s stack-size] arg...\\n\",\n",
      "                           argv[0]);\n",
      "                   exit(EXIT_FAILURE);\n",
      "               }\n",
      "           }\n",
      "\n",
      "           num_threads = argc - optind;\n",
      "\n",
      "           /* Initialize thread creation attributes */\n",
      "\n",
      "           s = pthread_attr_init(&attr);\n",
      "           if (s != 0)\n",
      "               handle_error_en(s, \"pthread_attr_init\");\n",
      "\n",
      "           if (stack_size > 0) {\n",
      "               s = pthread_attr_setstacksize(&attr, stack_size);\n",
      "               if (s != 0)\n",
      "                   handle_error_en(s, \"pthread_attr_setstacksize\");\n",
      "           }\n",
      "\n",
      "           /* Allocate memory for pthread_create() arguments */\n",
      "\n",
      "           struct thread_info *tinfo = calloc(num_threads, sizeof(*tinfo));\n",
      "           if (tinfo == NULL)\n",
      "               handle_error(\"calloc\");\n",
      "\n",
      "           /* Create one thread for each command-line argument */\n",
      "\n",
      "           for (int tnum = 0; tnum < num_threads; tnum++) {\n",
      "               tinfo[tnum].thread_num = tnum + 1;\n",
      "               tinfo[tnum].argv_string = argv[optind + tnum];\n",
      "\n",
      "               /* The pthread_create() call stores the thread ID into\n",
      "                  corresponding element of tinfo[] */\n",
      "\n",
      "               s = pthread_create(&tinfo[tnum].thread_id, &attr,\n",
      "                                  &thread_start, &tinfo[tnum]);\n",
      "               if (s != 0)\n",
      "                   handle_error_en(s, \"pthread_create\");\n",
      "           }\n",
      "\n",
      "           /* Destroy the thread attributes object, since it is no\n",
      "              longer needed */\n",
      "\n",
      "           s = pthread_attr_destroy(&attr);\n",
      "           if (s != 0)\n",
      "               handle_error_en(s, \"pthread_attr_destroy\");\n",
      "\n",
      "           /* Now join with each thread, and display its returned value */\n",
      "\n",
      "           for (int tnum = 0; tnum < num_threads; tnum++) {\n",
      "               s = pthread_join(tinfo[tnum].thread_id, &res);\n",
      "               if (s != 0)\n",
      "                   handle_error_en(s, \"pthread_join\");\n",
      "\n",
      "               printf(\"Joined with thread %d; returned value was %s\\n\",\n",
      "                       tinfo[tnum].thread_num, (char *) res);\n",
      "               free(res);      /* Free memory allocated by thread */\n",
      "           }\n",
      "\n",
      "           free(tinfo);\n",
      "           exit(EXIT_SUCCESS);\n",
      "       }\n",
      "\n",
      "SEE ALSO\n",
      "       getrlimit(2), pthread_attr_init(3), pthread_cancel(3),\n",
      "       pthread_detach(3), pthread_equal(3), pthread_exit(3),\n",
      "       pthread_getattr_np(3), pthread_join(3), pthread_self(3),\n",
      "       pthread_setattr_default_np(3), pthreads(7)\n",
      "\n",
      "COLOPHON\n",
      "       This page is part of release 5.10 of the Linux man-pages project.  A\n",
      "       description of the project, information about reporting bugs, and the\n",
      "       latest version of this page, can be found at\n",
      "       https://www.kernel.org/doc/man-pages/.\n",
      "\n",
      "Linux                             2020-11-01                 PTHREAD_CREATE(3)\n"
     ]
    }
   ],
   "source": [
    "!man pthread_create"
   ]
  },
  {
   "cell_type": "markdown",
   "metadata": {},
   "source": [
    "# 示例: 矩阵-向量乘法"
   ]
  },
  {
   "cell_type": "markdown",
   "metadata": {},
   "source": [
    "# Busy-Waiting"
   ]
  },
  {
   "cell_type": "markdown",
   "metadata": {},
   "source": [
    "# Mutexes\n",
    "\n",
    "```c\n",
    "pthread_mutex_t\n",
    "\n",
    "pthread_mutex_init()\n",
    "pthread_mutex_destroy()\n",
    "pthread_mutex_lock()\n",
    "pthread_mutex_unlock()\n",
    "```"
   ]
  },
  {
   "cell_type": "markdown",
   "metadata": {},
   "source": [
    "# Semaphores\n",
    "\n",
    "```c\n",
    "# include <semaphore.h>\n",
    "\n",
    "sem_init()\n",
    "sem_destroy()\n",
    "sem_post()\n",
    "sem_wait()\n",
    "```"
   ]
  },
  {
   "cell_type": "markdown",
   "metadata": {},
   "source": [
    "# Barriers and Condition Variables\n",
    "\n",
    "options to support barriers:\n",
    "* busy-waiting and a mutex\n",
    "* semaphores\n",
    "* condition variable: always associated with a mutex\n",
    "\n",
    "```c\n",
    "pthread_cond_t // PTHREAD_COND_INITIALIZER\n",
    "\n",
    "pthread_cond_init()\n",
    "pthread_cond_destroy()\n",
    "\n",
    "pthread_cond_signal()\n",
    "pthread_cond_broadcast()\n",
    "pthread_cond_wait()\n",
    "```"
   ]
  },
  {
   "cell_type": "markdown",
   "metadata": {},
   "source": [
    "# Read-Write Locks\n",
    "\n",
    "```c\n",
    "pthread_rwlock_t // PTHREAD_RWLOCK_INITIALIZER\n",
    "\n",
    "pthread_rwlock_init()\n",
    "pthread_rwlock_destroy()\n",
    "\n",
    "pthread_rwlock_rdlock()\n",
    "pthread_rwlock_wrlock()\n",
    "pthread_rwlock_unlock()\n",
    "```"
   ]
  },
  {
   "cell_type": "markdown",
   "metadata": {},
   "source": [
    "# Caches\n",
    "* Cache Coherence\n",
    "* False Sharing"
   ]
  },
  {
   "cell_type": "markdown",
   "metadata": {},
   "source": [
    "# Thread Satety"
   ]
  },
  {
   "cell_type": "markdown",
   "metadata": {},
   "source": [
    "# Examples in tamp "
   ]
  },
  {
   "cell_type": "markdown",
   "metadata": {},
   "source": [
    "\n",
    "```shell\n",
    "$ make\n",
    "\n",
    "# clean\n",
    "$ make clean\n",
    "rm -f threadid threads queue ptqueue\n",
    "```"
   ]
  },
  {
   "cell_type": "code",
   "execution_count": 1,
   "metadata": {},
   "outputs": [
    {
     "name": "stdout",
     "output_type": "stream",
     "text": [
      "/mnt/d/GoogleDrive/wiki/jupyter-notebooks/Concurrency and Parallel/Pthreads/tamp\n"
     ]
    },
    {
     "name": "stderr",
     "output_type": "stream",
     "text": [
      "/home/zhoujiagen/.local/lib/python3.12/site-packages/IPython/core/magics/osm.py:417: UserWarning: This is now an optional IPython functionality, setting dhist requires you to install the `pickleshare` library.\n",
      "  self.shell.db['dhist'] = compress_dhist(dhist)[-100:]\n"
     ]
    }
   ],
   "source": [
    "%cd Pthreads/tamp"
   ]
  },
  {
   "cell_type": "code",
   "execution_count": 2,
   "metadata": {},
   "outputs": [
    {
     "name": "stdout",
     "output_type": "stream",
     "text": [
      "Makefile  ptqueue.c  queue.c  threadid.c  threads.c\n"
     ]
    }
   ],
   "source": [
    "!ls"
   ]
  },
  {
   "cell_type": "markdown",
   "metadata": {},
   "source": [
    "* [threadid.c](./Pthreads/tamp/threadid.c): Illustrates thread-local storage with Pthreads"
   ]
  },
  {
   "cell_type": "code",
   "execution_count": 13,
   "metadata": {},
   "outputs": [
    {
     "name": "stdout",
     "output_type": "stream",
     "text": [
      "Hello from thread 0\n",
      "Hello from thread 1\n",
      "Hello from thread 2\n",
      "Hello from thread 3\n",
      "Hello from thread 4\n",
      "Hello from thread 5\n",
      "Hello from thread 6\n",
      "Hello from thread 7\n"
     ]
    }
   ],
   "source": [
    "!gcc -g -Wall -pthread -o threadid threadid.c\n",
    "!./threadid\n",
    "!rm -f threadid"
   ]
  },
  {
   "cell_type": "markdown",
   "metadata": {},
   "source": [
    "* [threads.c](./Pthreads/tamp/threads.c): Illustrates Pthread creation and joining"
   ]
  },
  {
   "cell_type": "code",
   "execution_count": 16,
   "metadata": {},
   "outputs": [
    {
     "name": "stdout",
     "output_type": "stream",
     "text": [
      "Hello from thread 0\n",
      "Hello from thread 2\n",
      "Hello from thread 1\n",
      "Hello from thread 3\n",
      "Hello from thread 4\n",
      "Hello from thread 6\n",
      "Hello from thread 5\n",
      "Hello from thread 7\n"
     ]
    }
   ],
   "source": [
    "!gcc -g -pthread -o threads threads.c\n",
    "!./threads\n",
    "!rm -f threads"
   ]
  },
  {
   "cell_type": "markdown",
   "metadata": {},
   "source": [
    "* [queue.c](./Pthreads/tamp/queue.c): Simple bounded queue using Pthreads"
   ]
  },
  {
   "cell_type": "code",
   "execution_count": 18,
   "metadata": {},
   "outputs": [
    {
     "name": "stdout",
     "output_type": "stream",
     "text": [
      "\u001b[01m\u001b[Kqueue.c:\u001b[m\u001b[K In function ‘\u001b[01m\u001b[KdoEnq\u001b[m\u001b[K’:\n",
      "\u001b[01m\u001b[Kqueue.c:36:11:\u001b[m\u001b[K \u001b[01;35m\u001b[Kwarning: \u001b[m\u001b[Kcast from pointer to integer of different size [\u001b[01;35m\u001b[K\u001b]8;;https://gcc.gnu.org/onlinedocs/gcc/Warning-Options.html#index-Wpointer-to-int-cast\u0007-Wpointer-to-int-cast\u001b]8;;\u0007\u001b[m\u001b[K]\n",
      "   36 |   int i = \u001b[01;35m\u001b[K(\u001b[m\u001b[Kint)arg;\n",
      "      |           \u001b[01;35m\u001b[K^\u001b[m\u001b[K\n",
      "\u001b[01m\u001b[Kqueue.c:\u001b[m\u001b[K In function ‘\u001b[01m\u001b[Kmain\u001b[m\u001b[K’:\n",
      "\u001b[01m\u001b[Kqueue.c:61:52:\u001b[m\u001b[K \u001b[01;35m\u001b[Kwarning: \u001b[m\u001b[Kcast to pointer from integer of different size [\u001b[01;35m\u001b[K\u001b]8;;https://gcc.gnu.org/onlinedocs/gcc/Warning-Options.html#index-Wint-to-pointer-cast\u0007-Wint-to-pointer-cast\u001b]8;;\u0007\u001b[m\u001b[K]\n",
      "   61 |     if (pthread_create(&deqThread[i], NULL, doDeq, \u001b[01;35m\u001b[K(\u001b[m\u001b[Kvoid*)i) != 0) {\n",
      "      |                                                    \u001b[01;35m\u001b[K^\u001b[m\u001b[K\n",
      "\u001b[01m\u001b[Kqueue.c:65:52:\u001b[m\u001b[K \u001b[01;35m\u001b[Kwarning: \u001b[m\u001b[Kcast to pointer from integer of different size [\u001b[01;35m\u001b[K\u001b]8;;https://gcc.gnu.org/onlinedocs/gcc/Warning-Options.html#index-Wint-to-pointer-cast\u0007-Wint-to-pointer-cast\u001b]8;;\u0007\u001b[m\u001b[K]\n",
      "   65 |     if (pthread_create(&enqThread[i], NULL, doEnq, \u001b[01;35m\u001b[K(\u001b[m\u001b[Kvoid*)i) != 0) {\n",
      "      |                                                    \u001b[01;35m\u001b[K^\u001b[m\u001b[K\n",
      "\u001b[01m\u001b[Kqueue.c:53:10:\u001b[m\u001b[K \u001b[01;35m\u001b[Kwarning: \u001b[m\u001b[Kunused variable ‘\u001b[01m\u001b[Kj\u001b[m\u001b[K’ [\u001b[01;35m\u001b[K\u001b]8;;https://gcc.gnu.org/onlinedocs/gcc/Warning-Options.html#index-Wunused-variable\u0007-Wunused-variable\u001b]8;;\u0007\u001b[m\u001b[K]\n",
      "   53 |   int i, \u001b[01;35m\u001b[Kj\u001b[m\u001b[K;\n",
      "      |          \u001b[01;35m\u001b[K^\u001b[m\u001b[K\n",
      "queue ckecked out\n"
     ]
    }
   ],
   "source": [
    "!gcc -g -Wall -pthread -o queue queue.c\n",
    "!./queue\n",
    "!rm -f queue"
   ]
  },
  {
   "cell_type": "markdown",
   "metadata": {},
   "source": [
    "* [ptqueue.c](./Pthreads/tamp/ptqueue.c): Simple bounded queue using Pthreads"
   ]
  },
  {
   "cell_type": "code",
   "execution_count": 19,
   "metadata": {},
   "outputs": [
    {
     "name": "stdout",
     "output_type": "stream",
     "text": [
      "\u001b[01m\u001b[Kptqueue.c:\u001b[m\u001b[K In function ‘\u001b[01m\u001b[KdoEnq\u001b[m\u001b[K’:\n",
      "\u001b[01m\u001b[Kptqueue.c:36:11:\u001b[m\u001b[K \u001b[01;35m\u001b[Kwarning: \u001b[m\u001b[Kcast from pointer to integer of different size [\u001b[01;35m\u001b[K\u001b]8;;https://gcc.gnu.org/onlinedocs/gcc/Warning-Options.html#index-Wpointer-to-int-cast\u0007-Wpointer-to-int-cast\u001b]8;;\u0007\u001b[m\u001b[K]\n",
      "   36 |   int i = \u001b[01;35m\u001b[K(\u001b[m\u001b[Kint)arg;\n",
      "      |           \u001b[01;35m\u001b[K^\u001b[m\u001b[K\n",
      "\u001b[01m\u001b[Kptqueue.c:\u001b[m\u001b[K In function ‘\u001b[01m\u001b[Kmain\u001b[m\u001b[K’:\n",
      "\u001b[01m\u001b[Kptqueue.c:57:53:\u001b[m\u001b[K \u001b[01;35m\u001b[Kwarning: \u001b[m\u001b[Kcast to pointer from integer of different size [\u001b[01;35m\u001b[K\u001b]8;;https://gcc.gnu.org/onlinedocs/gcc/Warning-Options.html#index-Wint-to-pointer-cast\u0007-Wint-to-pointer-cast\u001b]8;;\u0007\u001b[m\u001b[K]\n",
      "   57 |     if ( pthread_create(&deqThread[i], NULL, doDeq, \u001b[01;35m\u001b[K(\u001b[m\u001b[Kvoid*)i) != 0 ) {\n",
      "      |                                                     \u001b[01;35m\u001b[K^\u001b[m\u001b[K\n",
      "\u001b[01m\u001b[Kptqueue.c:61:53:\u001b[m\u001b[K \u001b[01;35m\u001b[Kwarning: \u001b[m\u001b[Kcast to pointer from integer of different size [\u001b[01;35m\u001b[K\u001b]8;;https://gcc.gnu.org/onlinedocs/gcc/Warning-Options.html#index-Wint-to-pointer-cast\u0007-Wint-to-pointer-cast\u001b]8;;\u0007\u001b[m\u001b[K]\n",
      "   61 |     if ( pthread_create(&enqThread[i], NULL, doEnq, \u001b[01;35m\u001b[K(\u001b[m\u001b[Kvoid*)i) != 0 ) {\n",
      "      |                                                     \u001b[01;35m\u001b[K^\u001b[m\u001b[K\n",
      "queue ckecked out\n"
     ]
    }
   ],
   "source": [
    "!gcc -g -pthread -o ptqueue ptqueue.c\n",
    "!./ptqueue\n",
    "!rm -f ptqueue"
   ]
  }
 ],
 "metadata": {
  "kernelspec": {
   "display_name": "Python 3",
   "language": "python",
   "name": "python3"
  },
  "language_info": {
   "codemirror_mode": {
    "name": "ipython",
    "version": 3
   },
   "file_extension": ".py",
   "mimetype": "text/x-python",
   "name": "python",
   "nbconvert_exporter": "python",
   "pygments_lexer": "ipython3",
   "version": "3.12.7"
  }
 },
 "nbformat": 4,
 "nbformat_minor": 2
}
