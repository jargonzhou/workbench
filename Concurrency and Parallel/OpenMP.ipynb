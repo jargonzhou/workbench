{
 "cells": [
  {
   "cell_type": "markdown",
   "metadata": {},
   "source": [
    "# OpenMP: Open Multi-Processing\n",
    "* http://openmp.org/\n",
    "* [Specifications](https://www.openmp.org/specifications/)\n",
    "  * [OpenMP 4.5 Reference Guide - C/C++](https://www.openmp.org/wp-content/uploads/OpenMP-4.5-1115-CPP-web.pdf): 指令和构造, 运行时库例程, 子句, 环境变量, ICV(Internal Control Variables, 内部控制变量)的环境变量值\n",
    "* [OpemMP Compilers & Tools](https://www.openmp.org/resources/openmp-compilers-tools/)\n",
    "  * [GNU Offloading and Multi-Processing Project (GOMP)](https://gcc.gnu.org/projects/gomp/): 选项`-fopenmp`, `-fopenmp-simd`\n",
    "\n",
    "\n",
    "More:\n",
    "\n",
    "* [GCC Wiki - OpenMP](https://gcc.gnu.org/wiki/openmp)\n",
    "* [ACENET workshop on OpenMP](https://acenet-arc.github.io/ACENET_Summer_School_OpenMP/)"
   ]
  },
  {
   "cell_type": "code",
   "execution_count": 1,
   "metadata": {},
   "outputs": [
    {
     "name": "stdout",
     "output_type": "stream",
     "text": [
      "#define _OPENMP 201511\n"
     ]
    }
   ],
   "source": [
    "# 查看支持的OpenMP版本\n",
    "# ref https://www.openmp.org/specifications/\n",
    "# OpenMP 4.5\n",
    "!echo | cpp -fopenmp -dM | grep -i openmp"
   ]
  },
  {
   "cell_type": "code",
   "execution_count": 2,
   "metadata": {},
   "outputs": [
    {
     "name": "stdout",
     "output_type": "stream",
     "text": [
      "#define _OPENMP 201511\n"
     ]
    }
   ],
   "source": [
    "# 另一种查看版本方法\n",
    "!gcc -fopenmp -dM -E - < /dev/null | grep -i open"
   ]
  },
  {
   "cell_type": "markdown",
   "metadata": {},
   "source": [
    "# Hello World\n",
    "* [OpenMP/aipp_5_1.c](./OpenMP/aipp_5_1.c): `parallel`, `_OPENMP`"
   ]
  },
  {
   "cell_type": "code",
   "execution_count": 2,
   "metadata": {},
   "outputs": [
    {
     "name": "stdout",
     "output_type": "stream",
     "text": [
      "/mnt/d/GoogleDrive/wiki/jupyter-notebooks/Concurrency and Parallel/OpenMP\n"
     ]
    },
    {
     "name": "stderr",
     "output_type": "stream",
     "text": [
      "/home/zhoujiagen/.local/lib/python3.12/site-packages/IPython/core/magics/osm.py:417: UserWarning: This is now an optional IPython functionality, setting dhist requires you to install the `pickleshare` library.\n",
      "  self.shell.db['dhist'] = compress_dhist(dhist)[-100:]\n"
     ]
    }
   ],
   "source": [
    "%cd OpenMP"
   ]
  },
  {
   "cell_type": "code",
   "execution_count": 4,
   "metadata": {},
   "outputs": [],
   "source": [
    "# 编译\n",
    "!gcc -g -Wall -fopenmp -o aipp_5_1 aipp_5_1.c"
   ]
  },
  {
   "cell_type": "code",
   "execution_count": 5,
   "metadata": {},
   "outputs": [
    {
     "name": "stdout",
     "output_type": "stream",
     "text": [
      "Hello from thread 3 of 4\n",
      "Hello from thread 1 of 4\n",
      "Hello from thread 2 of 4\n",
      "Hello from thread 0 of 4\n"
     ]
    }
   ],
   "source": [
    "# 执行\n",
    "!./aipp_5_1 4"
   ]
  },
  {
   "cell_type": "code",
   "execution_count": 6,
   "metadata": {},
   "outputs": [
    {
     "name": "stdout",
     "output_type": "stream",
     "text": [
      "Hello from thread 0 of 1\n"
     ]
    }
   ],
   "source": [
    "!./aipp_5_1 1"
   ]
  },
  {
   "cell_type": "code",
   "execution_count": 7,
   "metadata": {},
   "outputs": [],
   "source": [
    "# 清理\n",
    "!rm -f aipp_5_1"
   ]
  },
  {
   "cell_type": "code",
   "execution_count": 6,
   "metadata": {},
   "outputs": [
    {
     "name": "stdout",
     "output_type": "stream",
     "text": [
      "Hello from thread 0 of 4\n",
      "Hello from thread 2 of 4\n",
      "Hello from thread 1 of 4\n",
      "Hello from thread 3 of 4\n",
      "./aipp_5_1 4  0.00s user 0.00s system 79% cpu 0.004 total\n"
     ]
    }
   ],
   "source": [
    "# 使用预处理器宏_OPENMP: 不使用-fopenmp选项\n",
    "filename = 'aipp_5_1'\n",
    "!gcc -g -Wall -fopenmp -o {filename} {filename}.c\n",
    "!time ./{filename} 4\n",
    "!rm -f {filename}"
   ]
  },
  {
   "cell_type": "markdown",
   "metadata": {},
   "source": [
    "# 梯形法数值积分\n",
    "* [OpenMP/aipp_5_2.c](./OpenMP/aipp_5_2.c): `critical`\n",
    "* [OpenMP/aipp_5_2-2.c](./OpenMP/aipp_5_2-2.c): `reduction`"
   ]
  },
  {
   "cell_type": "code",
   "execution_count": 9,
   "metadata": {},
   "outputs": [
    {
     "data": {
      "text/plain": [
       "np.float64(9.000004299928621)"
      ]
     },
     "execution_count": 9,
     "metadata": {},
     "output_type": "execute_result"
    }
   ],
   "source": [
    "import numpy as np\n",
    "\n",
    "x = np.linspace(0.0, 3.0, 1024)\n",
    "y = x * x\n",
    "np.trapezoid(y, x=x)"
   ]
  },
  {
   "cell_type": "code",
   "execution_count": 5,
   "metadata": {},
   "outputs": [
    {
     "name": "stdout",
     "output_type": "stream",
     "text": [
      "With n=1024 trapezoids, estimated integral from 0.000000 to 3.000000 = 9.000004291534424e+00\n",
      "./aipp_5_2 4  0.00s user 0.00s system 15% cpu 0.006 total\n"
     ]
    }
   ],
   "source": [
    "filename = 'aipp_5_2'\n",
    "!gcc -g -Wall -fopenmp -o {filename} {filename}.c\n",
    "!echo 0.0 3.0 1024 | time ./{filename} 4\n",
    "!rm -f {filename}"
   ]
  },
  {
   "cell_type": "code",
   "execution_count": 4,
   "metadata": {},
   "outputs": [
    {
     "name": "stdout",
     "output_type": "stream",
     "text": [
      "With n=1024 trapezoids, estimated integral from 0.000000 to 3.000000 = 9.000004291534424e+00\n",
      "./aipp_5_2-2 4  0.00s user 0.00s system 35% cpu 0.005 total\n"
     ]
    }
   ],
   "source": [
    "# 使用reduction clause\n",
    "filename = 'aipp_5_2-2'\n",
    "!gcc -g -Wall -fopenmp -o {filename} {filename}.c\n",
    "!echo 0.0 3.0 1024 | time ./{filename} 4\n",
    "!rm -f {filename}"
   ]
  },
  {
   "cell_type": "markdown",
   "metadata": {},
   "source": [
    "# `parallel for`\n",
    "* [OpenMP/ex_parallel_for.c](./OpenMP/ex_parallel_for.c)"
   ]
  },
  {
   "cell_type": "code",
   "execution_count": 11,
   "metadata": {},
   "outputs": [
    {
     "name": "stdout",
     "output_type": "stream",
     "text": [
      "With n=1024 trapezoids, estimated integral from 0.000000 to 3.000000 = 9.000004291534424e+00\n",
      "./ex_parallel_for 4  0.00s user 0.00s system 17% cpu 0.005 total\n"
     ]
    }
   ],
   "source": [
    "filename = 'ex_parallel_for'\n",
    "!gcc -g -Wall -fopenmp -o {filename} {filename}.c\n",
    "!echo 0.0 3.0 1024 | time ./{filename} 4\n",
    "!rm -f {filename}"
   ]
  },
  {
   "cell_type": "markdown",
   "metadata": {},
   "source": [
    "## 数据依赖\n",
    "* [OpenMP/pi.c](./OpenMP/pi.c): `private`\n",
    "\n",
    "估计$\\pi$:\n",
    "\n",
    "$$\n",
    "\\pi = 4 \\sum_{k=0}^{\\infin} \\frac{(-1)^{k}}{2k + 1}\n",
    "$$\n",
    "\n"
   ]
  },
  {
   "cell_type": "code",
   "execution_count": 15,
   "metadata": {},
   "outputs": [
    {
     "name": "stdout",
     "output_type": "stream",
     "text": [
      "With n=1000 terms and 4 threads, estimated of pi = 3.140592653839791e+00\n",
      "./pi 1000 4  0.00s user 0.00s system 20% cpu 0.006 total\n"
     ]
    }
   ],
   "source": [
    "filename = 'pi'\n",
    "!gcc -g -Wall -fopenmp -o {filename} {filename}.c\n",
    "!time ./{filename} 1000 4\n",
    "!rm -f {filename}"
   ]
  },
  {
   "cell_type": "markdown",
   "metadata": {},
   "source": [
    "## 排序\n",
    "* [OpenMP/odd_even_sort.c](./OpenMP/odd_even_sort.c): 奇偶排序 `for`"
   ]
  },
  {
   "cell_type": "code",
   "execution_count": 18,
   "metadata": {},
   "outputs": [
    {
     "name": "stdout",
     "output_type": "stream",
     "text": [
      "With 4 threads, result = 6 7 8 9 \n",
      "./odd_even_sort 4  0.00s user 0.00s system 36% cpu 0.003 total\n"
     ]
    }
   ],
   "source": [
    "filename = 'odd_even_sort'\n",
    "!gcc -g -Wall -fopenmp -o {filename} {filename}.c\n",
    "!time ./{filename} 4\n",
    "!rm -f {filename}"
   ]
  },
  {
   "cell_type": "code",
   "execution_count": 19,
   "metadata": {},
   "outputs": [
    {
     "name": "stdout",
     "output_type": "stream",
     "text": [
      "With 4 threads, result = 6 7 8 9 \n",
      "./odd_even_sort 4  0.00s user 0.00s system 24% cpu 0.004 total\n"
     ]
    }
   ],
   "source": [
    "# use parallel + for to reuse threads\n",
    "filename = 'odd_even_sort'\n",
    "!gcc -g -Wall -fopenmp -o {filename} {filename}.c\n",
    "!time ./{filename} 4\n",
    "!rm -f {filename}"
   ]
  },
  {
   "cell_type": "markdown",
   "metadata": {},
   "source": [
    "## 调度循环\n",
    "* [OpenMP/ex_schedule.c](./OpenMP/ex_schedule.c): `schedule`"
   ]
  },
  {
   "cell_type": "code",
   "execution_count": 26,
   "metadata": {},
   "outputs": [
    {
     "name": "stdout",
     "output_type": "stream",
     "text": [
      "With 4 threads, sum = 1.133390068763746e+00\n",
      "./ex_schedule 1000 4  0.00s user 0.00s system 68% cpu 0.005 total\n"
     ]
    }
   ],
   "source": [
    "filename = 'ex_schedule'\n",
    "!gcc -g -Wall -fopenmp -o {filename} {filename}.c -lm\n",
    "!time ./{filename} 1000 4\n",
    "!rm -f {filename}"
   ]
  },
  {
   "cell_type": "code",
   "execution_count": 27,
   "metadata": {},
   "outputs": [
    {
     "name": "stdout",
     "output_type": "stream",
     "text": [
      "With 4 threads, sum = 1.133390068763715e+00\n",
      "./ex_schedule 1000 4  0.00s user 0.00s system 54% cpu 0.004 total\n"
     ]
    }
   ],
   "source": [
    "# schedule(static, 1) \n",
    "filename = 'ex_schedule'\n",
    "!gcc -g -Wall -fopenmp -o {filename} {filename}.c -lm\n",
    "!time ./{filename} 1000 4\n",
    "!rm -f {filename}"
   ]
  },
  {
   "cell_type": "markdown",
   "metadata": {},
   "source": [
    "# 生产者, 消费者\n",
    "* 队列\n",
    "\n",
    "constructs:\n",
    "\n",
    "```c\n",
    "// queue tail pointer: enqueue, dequeue\n",
    "#pragma omp critical\n",
    "\n",
    "// explicit barrier\n",
    "#pragma omp barrier\n",
    "\n",
    "// protect critical sections that consist of a single C assignment statement\n",
    "#pragma omp atomic\n",
    "\n",
    "// name a critical section\n",
    "#pragma omp critical(name)\n",
    "\n",
    "// locks: simple, nested\n",
    "omp_lock_t\n",
    "omp_init_lock()\n",
    "omp_set_lock()\n",
    "omp_unset_lock()\n",
    "omp_test_lock()\n",
    "omp_destroy_lock()\n",
    "\n",
    "omp_nest_lock_t\n",
    "omp_init_nest_lock()\n",
    "omp_set_nest_lock()\n",
    "omp_unset_nest_lock()\n",
    "omp_test_nest_lock()\n",
    "omp_destroy_nest_lock()\n",
    "```"
   ]
  },
  {
   "cell_type": "markdown",
   "metadata": {},
   "source": [
    "# Tasking\n",
    "* [OpenMP/ex_task.c](./OpenMP/ex_task.c): `task`, `taskwait`"
   ]
  },
  {
   "cell_type": "code",
   "execution_count": 41,
   "metadata": {},
   "outputs": [
    {
     "name": "stdout",
     "output_type": "stream",
     "text": [
      "fib(35) = 9227465\n",
      "./ex_task 35 4  29.83s user 4.68s system 268% cpu 12.859 total\n"
     ]
    }
   ],
   "source": [
    "filename = 'ex_task'\n",
    "!gcc -g -Wall -fopenmp -o {filename} {filename}.c\n",
    "!time ./{filename} 35 4\n",
    "!rm -f {filename}"
   ]
  },
  {
   "cell_type": "code",
   "execution_count": 40,
   "metadata": {},
   "outputs": [
    {
     "name": "stdout",
     "output_type": "stream",
     "text": [
      "fib(35) = 9227465\n",
      "./ex_task 35 4  13.61s user 1.22s system 268% cpu 5.520 total\n"
     ]
    }
   ],
   "source": [
    "# task if (n > 20): reduce task creation\n",
    "filename = 'ex_task'\n",
    "!gcc -g -Wall -fopenmp -o {filename} {filename}.c\n",
    "!time ./{filename} 35 4\n",
    "!rm -f {filename}"
   ]
  },
  {
   "cell_type": "code",
   "execution_count": 39,
   "metadata": {},
   "outputs": [
    {
     "name": "stdout",
     "output_type": "stream",
     "text": [
      "fib(35) = 9227465\n",
      "./ex_task 35 2  5.08s user 0.56s system 173% cpu 3.258 total\n",
      "fib(35) = 9227465\n",
      "./ex_task 35 1  1.09s user 0.00s system 99% cpu 1.097 total\n"
     ]
    }
   ],
   "source": [
    "# NOTE: Why only one thread execute faster?\n",
    "# Can we find another running example to view the benifits of tasking API???\n",
    "filename = 'ex_task'\n",
    "!gcc -g -Wall -fopenmp -o {filename} {filename}.c\n",
    "!time ./{filename} 35 2\n",
    "!rm -f {filename}\n",
    "\n",
    "filename = 'ex_task'\n",
    "!gcc -g -Wall -fopenmp -o {filename} {filename}.c\n",
    "!time ./{filename} 35 1\n",
    "!rm -f {filename}"
   ]
  }
 ],
 "metadata": {
  "kernelspec": {
   "display_name": "Python 3",
   "language": "python",
   "name": "python3"
  },
  "language_info": {
   "codemirror_mode": {
    "name": "ipython",
    "version": 3
   },
   "file_extension": ".py",
   "mimetype": "text/x-python",
   "name": "python",
   "nbconvert_exporter": "python",
   "pygments_lexer": "ipython3",
   "version": "3.12.7"
  }
 },
 "nbformat": 4,
 "nbformat_minor": 2
}
