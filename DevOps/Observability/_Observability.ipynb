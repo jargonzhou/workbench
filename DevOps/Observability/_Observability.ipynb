{
 "cells": [
  {
   "cell_type": "markdown",
   "metadata": {},
   "source": [
    "# Observability\n",
    "- [Observability_(software) - wikipedia](https://en.wikipedia.org/wiki/Observability_(software)）\n",
    "  \n",
    "> In distributed systems, **observability** is the ability to collect data about programs' execution, modules' internal states, and the communication among components. To improve observability, software engineers use a wide range of **logging and tracing techniques** to gather telemetry information, and tools to analyze and use it. Observability is foundational to site reliability engineering, as it is the first step in triaging a service outage.\n",
    ">\n",
    "> One of the goals of observability is to minimize the amount of prior knowledge needed to debug an issue."
   ]
  },
  {
   "cell_type": "markdown",
   "metadata": {},
   "source": [
    "# Terminology"
   ]
  },
  {
   "cell_type": "markdown",
   "metadata": {},
   "source": [
    "\n",
    "| term                    | description                                                                                                                                                                                                                                                                                                                                        | source           |\n",
    "| :---------------------- | :------------------------------------------------------------------------------------------------------------------------------------------------------------------------------------------------------------------------------------------------------------------------------------------------------------------------------------------------- | :--------------- |\n",
    "| profiling               | 剖析                                                                                                                                                                                                                                                                                                                                                 |                  |\n",
    "| tracing                 | event-based recording.                                                                                                                                                                                                                                                                                                                             |                  |\n",
    "| snooping                | snooping, event dumping, and tracing usually refer to the same thing.                                                                                                                                                                                                                                                                              |                  |\n",
    "| sampling                | take a subset of measurements to paint a coarse picture of the target.                                                                                                                                                                                                                                                                             |                  |\n",
    "| observability           | refers to understanding a system through observation, and classifies the tools that accomplish this. These tools includes tracing tools, sampling tools, and tools based on fixed counters. It does not include benchmark tools.                                                                                                                   |                  |\n",
    "| dynamic instrumentation | dynamic tracing, insert instrumentation points into live software, in production. kprobes for kernel functions, uprobes for user-level functions.                                                                                                                                                                                                  |                  |\n",
    "| static instrumentation  | stable event names are coded into the software and manintained by the developers. tracepoints for kernel, user-level statically defined tracing(USDT) for user-level.                                                                                                                                                                              |                  |\n",
    "| instrument              | 探查                                                                                                                                                                                                                                                                                                                                                 |                  |\n",
    "| flame-graph             | 火焰图, 剖析器输出的可视化图.                                                                                                                                                                                                                                                                                                                                   | Brendan Gregg    |\n",
    "| vmstat                  | 系统级别虚拟内存和物理内存的统计.                                                                                                                                                                                                                                                                                                                                  |                  |\n",
    "| mpstat                  | CPU的使用情况统计.                                                                                                                                                                                                                                                                                                                                        |                  |\n",
    "| iostat                  | 磁盘I/O的使用情况统计.                                                                                                                                                                                                                                                                                                                                      |                  |\n",
    "| netstat                 | 网络接口的统计, TCP/IP栈的统计.                                                                                                                                                                                                                                                                                                                               |                  |\n",
    "| sar                     | 监视单一操作系统的工具.                                                                                                                                                                                                                                                                                                                                       | AT&T UNIX        |\n",
    "| ps                      | 显示进程状态.                                                                                                                                                                                                                                                                                                                                            |                  |\n",
    "| top                     | 将进程按统计数据排序.                                                                                                                                                                                                                                                                                                                                        |                  |\n",
    "| ~~pmap~~                | 进程的内存段和使用统计.                                                                                                                                                                                                                                                                                                                                       |                  |\n",
    "| ~~tcpdump~~             | 网络包跟踪, 使用了libpcap库.                                                                                                                                                                                                                                                                                                                                | [[code.tcpdump]] |\n",
    "| ~~blktrace~~            | 块I/O跟踪.                                                                                                                                                                                                                                                                                                                                            | Linux            |\n",
    "| ~~perf~~                | Linux性能工具集.                                                                                                                                                                                                                                                                                                                                        | Linux            |\n",
    "| ~~oprofile~~            | Linux系统剖析.                                                                                                                                                                                                                                                                                                                                         | Linux            |\n",
    "| ~~`/proc`~~             | 提供内核统计信息的文件系统接口.                                                                                                                                                                                                                                                                                                                                   |                  |\n",
    "| ~~`/sys`~~              | sysfs文件系统, 为内核统计提供一个基于目录的结构.                                                                                                                                                                                                                                                                                                                       | Linux            |\n",
    "| ~~strace~~              | 基于Linux系统的系统调用跟踪.                                                                                                                                                                                                                                                                                                                                  | Linux            |\n",
    "| ~~DTrace~~              | 一个包括了编程语言和工具的观测框架. 通过称为探针的指令点, 可以观察所有用户级和内核级的代码.                                                                                                                                                                                                                                                                                                   |                  |\n",
    "| ~~SystemTap~~           | 对用户级和内核级的代码提供静态和动态跟踪能力: 静态探针使用tracepoint, 动态探针使用kprobes, 用户级别的探针使用uprobes.                                                                                                                                                                                                                                                                         | Linux            |\n",
    "| ~~tracepoint~~          | A tracepoint placed in code provides a hook to call a function (probe) that you can provide at runtime. A tracepoint can be “on” (a probe is connected to it) or “off” (no probe is attached).<br/>Using the Linux Kernel Tracepoints: https://www.kernel.org/doc/html/latest/trace/tracepoints.html                                               |                  |\n",
    "| ~~probe~~               | 探针                                                                                                                                                                                                                                                                                                                                                 |                  |\n",
    "| ~~event tracing~~       | Tracepoints can be used without creating custom kernel modules to register probe functions using the event tracing infrastructure.<br/>Event Tracing: https://www.kernel.org/doc/html/latest/trace/events.html                                                                                                                                     |                  |\n",
    "| ~~ftrace~~              | Ftrace is an internal tracer designed to help out developers and designers of systems to find what is going on inside the kernel. It can be used for debugging or analyzing latencies and performance issues that take place outside of user-space.<br/>ftrace - Function Tracer: https://www.kernel.org/doc/html/latest/trace/ftrace.html         |                  |\n",
    "| ~~Kprobes~~             | Kprobes enables you to dynamically break into any kernel routine and collect debugging and performance information non-disruptively. You can trap at almost any kernel code address, specifying a handler routine to be invoked when the breakpoint is hit.<br/>Kernel Probes (Kprobes): https://www.kernel.org/doc/html/latest/trace/kprobes.html |                  |\n",
    "| ~~BPF~~                 | Berkeley Packet Filter<br/>BPF Documentation: https://www.kernel.org/doc/html/latest/bpf/index.html                                                                                                                                                                                                                                                |                  |\n",
    "| ~~BCC~~                 | BPF Compiler Collection. It provides a C programming environment for writing kernel BPF code and other languages for the user-level interface: Python, Lua, and C++.                                                                                                                                                                               |                  |\n",
    "| ~~bpftrace~~            | A front end that provides a special-purpose, high-level language for developing BPF tools.                                                                                                                                                                                                                                                         |                  |\n"
   ]
  },
  {
   "cell_type": "markdown",
   "metadata": {},
   "source": [
    "# Tools"
   ]
  },
  {
   "cell_type": "markdown",
   "metadata": {},
   "source": [
    "## Micrometer\n",
    "- https://micrometer.io/\n",
    "> Micrometer provides a facade for the most popular observability systems, allowing you to instrument your JVM-based application code without vendor lock-in. Think SLF4J, but for observability.\n",
    "\n",
    "\n",
    "in Spring Boot: https://docs.spring.io/spring-boot/reference/actuator/metrics.html#actuator.metrics"
   ]
  },
  {
   "cell_type": "markdown",
   "metadata": {},
   "source": [
    "## Spectator\n",
    "- https://github.com/Netflix/spectator\n",
    "> Simple library for instrumenting code to record dimensional time series.\n",
    "```java\n",
    "com.netflix.spectator:spectator-api:${version}\n",
    "```"
   ]
  },
  {
   "cell_type": "markdown",
   "metadata": {},
   "source": [
    "## Dropwizard Metrics\n",
    "- https://github.com/dropwizard/metrics - 2024-09-21 version 4.2.x maintained\n",
    "> Metrics is a Java library which gives you unparalleled insight into what your code does in production.\n",
    ">Metrics provides a powerful toolkit of ways to measure the behavior of critical components in your production environment.\n",
    ">\n",
    ">With modules for common libraries like Jetty, Logback, Log4j, Apache HttpClient, Ehcache, JDBI, Jersey and reporting backends like Graphite, Metrics provides you with full-stack visibility.\n",
    "```java\n",
    "io.dropwizard.metrics:metrics-core:${metrics.version}\n",
    "```\n",
    "- [Intro to Dropwizard Metrics - Baeldung](https://www.baeldung.com/dropwizard-metrics)"
   ]
  }
 ],
 "metadata": {
  "language_info": {
   "name": "python"
  }
 },
 "nbformat": 4,
 "nbformat_minor": 2
}
