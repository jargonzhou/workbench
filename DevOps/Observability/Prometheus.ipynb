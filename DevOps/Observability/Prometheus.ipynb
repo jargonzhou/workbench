{
 "cells": [
  {
   "cell_type": "markdown",
   "metadata": {},
   "source": [
    "# Prometheus\n",
    "* https://prometheus.io/\n",
    "* https://github.com/prometheus/prometheus\n",
    "  * Golang, React\n",
    "\n",
    "> The Prometheus monitoring system and time series database.\n",
    "\n",
    "books:\n",
    "- Brazil, Brian. **Prometheus: Up & Running**. 2018. O’Reilly Media.\n",
    "\n",
    "\n",
    "actions:\n",
    "- https://github.com/jargonzhou/application-store/tree/main/ops/prometheus\n",
    "- [APM.ipynb](../APM.ipynb)"
   ]
  },
  {
   "cell_type": "markdown",
   "metadata": {},
   "source": [
    "# Architecture"
   ]
  },
  {
   "cell_type": "markdown",
   "metadata": {},
   "source": [
    "This diagram illustrates the architecture of Prometheus and some of its ecosystem components:\n",
    "\n",
    "![https://github.com/prometheus/prometheus/raw/main/documentation/images/architecture.svg](https://github.com/prometheus/prometheus/raw/main/documentation/images/architecture.svg)\n",
    "\n",
    "Prometheus scrapes metrics from instrumented jobs, either directly or via an intermediary push gateway for short-lived jobs. It stores all scraped samples locally and runs rules over this data to either aggregate and record new time series from existing data or generate alerts. Grafana or other API consumers can be used to visualize the collected data."
   ]
  },
  {
   "cell_type": "markdown",
   "metadata": {},
   "source": [
    "# Data Model\n",
    "\n",
    "Prometheus fundamentally stores all data as _[time series](https://en.wikipedia.org/wiki/Time_series)_: streams of timestamped values belonging to the same metric and the same set of labeled dimensions. Besides stored time series, Prometheus may generate temporary derived time series as the result of queries."
   ]
  },
  {
   "cell_type": "markdown",
   "metadata": {},
   "source": [
    "# Querying Prometheus\n",
    "\n",
    "Prometheus provides a functional query language called **PromQL (Prometheus Query Language)** that lets the user select and aggregate time series data in real time. The result of an expression can either be shown as a graph, viewed as tabular data in Prometheus's expression browser, or consumed by external systems via the [HTTP API](https://prometheus.io/docs/prometheus/latest/querying/api/).\n"
   ]
  },
  {
   "cell_type": "markdown",
   "metadata": {},
   "source": [
    "# Storage\n",
    "\n",
    "Prometheus includes a local on-disk time series database, but also optionally integrates with remote storage systems.\n",
    "\n",
    "- TSDB format: https://github.com/prometheus/prometheus/blob/release-2.47/tsdb/docs/format/README.md"
   ]
  },
  {
   "cell_type": "markdown",
   "metadata": {},
   "source": [
    "# Visualization\n",
    "\n",
    "- [Grafana.ipynb](./Grafana.ipynb)"
   ]
  },
  {
   "cell_type": "markdown",
   "metadata": {},
   "source": [
    "# Instrumenting\n",
    "\n",
    "- Pushing Metrics: https://prometheus.io/docs/instrumenting/pushing/\n",
    "- Exporters and Intergration: https://prometheus.io/docs/instrumenting/exporters/"
   ]
  },
  {
   "cell_type": "markdown",
   "metadata": {},
   "source": [
    "# Altering\n",
    "\n",
    "- Altering Overview: https://prometheus.io/docs/alerting/latest/overview/\n",
    "- [Prometheus的alertmanager使用](https://www.liuvv.com/p/6df22f03.html)\n",
    "- [A simple echo server to inspect http web requests](https://gist.github.com/huyng/814831)\n",
    "\t- [Webhook.site](https://webhook.site/)\n",
    "- [Observability Metrics: Prometheus, Grafana, Alert Manager & Slack Notifications](https://medium.com/cloud-native-daily/chapter-9-observability-metrics-prometheus-grafana-alert-manager-slack-notifications-b5dcac31b462)\n"
   ]
  }
 ],
 "metadata": {
  "language_info": {
   "name": "python"
  }
 },
 "nbformat": 4,
 "nbformat_minor": 2
}
