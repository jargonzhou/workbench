{
 "cells": [
  {
   "cell_type": "markdown",
   "metadata": {},
   "source": [
    "# BCC"
   ]
  },
  {
   "cell_type": "code",
   "execution_count": null,
   "metadata": {},
   "outputs": [
    {
     "name": "stdout",
     "output_type": "stream",
     "text": [
      "env: ROOT_PWD=zhoujiagen\n",
      "[sudo] password for zhoujiagen: "
     ]
    },
    {
     "name": "stdout",
     "output_type": "stream",
     "text": [
      "PCOMM            PID    PPID   RET ARGS\n",
      "sh               154952 1094     0 /bin/sh -c ls -l /proc/[0-9]*/fd/[0-9]* | grep socket:\n",
      "grep             154954 154952   0 /usr/bin/grep socket:\n",
      "ls               154953 154952   0 /usr/bin/ls -l /proc/10484/fd/0 /proc/10484/fd/1 /proc/10484/fd/2 /proc/10484/fd/20 /proc/10484/fd/21 /proc/10484/fd/23 /proc/10484/fd/24 /proc/10484/fd/27 /proc/10484/fd/33 /proc/10484/fd/35 /proc/10484/fd/36 /proc/10484/fd/37 /proc/10484/fd/38 /proc/10484/fd/39 /proc/10484/fd/43 /proc/10484/fd/46 /proc/10668/fd/0 /proc/10668/fd/1 ...\n",
      "sh               154955 1094     0 /bin/sh -c ps -F -A -l | grep root\n",
      "ps               154956 154955   0 /usr/bin/ps -F -A -l\n",
      "grep             154957 154955   0 /usr/bin/grep root\n",
      "sh               154958 1094     0 /bin/sh -c ls -l /proc/[0-9]*/fd/[0-9]* | grep socket:\n",
      "grep             154960 154958   0 /usr/bin/grep socket:\n",
      "ls               154959 154958   0 /usr/bin/ls -l /proc/10484/fd/0 /proc/10484/fd/1 /proc/10484/fd/2 /proc/10484/fd/20 /proc/10484/fd/21 /proc/10484/fd/23 /proc/10484/fd/24 /proc/10484/fd/27 /proc/10484/fd/33 /proc/10484/fd/35 /proc/10484/fd/36 /proc/10484/fd/37 /proc/10484/fd/38 /proc/10484/fd/39 /proc/10484/fd/43 /proc/10484/fd/46 /proc/10668/fd/0 /proc/10668/fd/1 ...\n",
      "sh               154961 1094     0 /bin/sh -c ps -F -A -l | grep root\n",
      "grep             154963 154961   0 /usr/bin/grep root\n",
      "ps               154962 154961   0 /usr/bin/ps -F -A -l\n",
      "^C\n"
     ]
    }
   ],
   "source": [
    "%env ROOT_PWD=zhoujiagen\n",
    "# !echo $ROOT_PWD | sudo -S /sbin/opensnoop-bpfcc # WHY NOT WORK???\n",
    "!echo $ROOT_PWD | sudo -S /sbin/execsnoop-bpfcc"
   ]
  },
  {
   "cell_type": "markdown",
   "metadata": {},
   "source": [
    "# 开发"
   ]
  },
  {
   "cell_type": "code",
   "execution_count": 4,
   "metadata": {},
   "outputs": [
    {
     "name": "stdout",
     "output_type": "stream",
     "text": [
      "env: ROOT_PWD=zhoujiagen\n",
      "[Errno 2] No such file or directory: 'BCC'\n",
      "/mnt/d/GoogleDrive/wiki/jupyter-notebooks/OS/BCC\n",
      "[sudo] password for zhoujiagen: b'           <...>-82825   [018] ....1 19203.214567: bpf_trace_printk: Hello, World!'\n",
      "b''\n",
      "b'           <...>-87539   [004] ....1 19203.217537: bpf_trace_printk: Hello, World!'\n",
      "b''\n",
      "b'           <...>-87539   [004] ....1 19203.217634: bpf_trace_printk: Hello, World!'\n",
      "b''\n",
      "b'            node-82825   [018] ....1 19203.239305: bpf_trace_printk: Hello, World!'\n",
      "b''\n",
      "b'           <...>-87542   [007] ....1 19203.241629: bpf_trace_printk: Hello, World!'\n",
      "b''\n",
      "b'              sh-87542   [007] ....1 19203.241697: bpf_trace_printk: Hello, World!'\n",
      "b''\n",
      "^C\n",
      "Traceback (most recent call last):\n",
      "  File \"/mnt/d/GoogleDrive/wiki/jupyter-notebooks/OS/BCC/hello_world.py\", line 11, in <module>\n",
      "    b.trace_print()\n",
      "  File \"/usr/lib/python3/dist-packages/bcc/__init__.py\", line 1199, in trace_print\n",
      "    line = self.trace_readline(nonblocking=False)\n",
      "           ^^^^^^^^^^^^^^^^^^^^^^^^^^^^^^^^^^^^^^\n",
      "  File \"/usr/lib/python3/dist-packages/bcc/__init__.py\", line 1179, in trace_readline\n",
      "    line = trace.readline(1024).rstrip()\n",
      "           ^^^^^^^^^^^^^^^^^^^^\n",
      "KeyboardInterrupt\n"
     ]
    }
   ],
   "source": [
    "%env ROOT_PWD=zhoujiagen\n",
    "%cd BCC\n",
    "!echo $ROOT_PWD | sudo -S python3 hello_world.py"
   ]
  },
  {
   "cell_type": "markdown",
   "metadata": {},
   "source": [
    "TODO: more examples in [link](https://github.com/iovisor/bcc/blob/master/docs/tutorial_bcc_python_developer.md)"
   ]
  },
  {
   "cell_type": "markdown",
   "metadata": {},
   "source": [
    "# 工具汇总"
   ]
  },
  {
   "cell_type": "markdown",
   "metadata": {},
   "source": [
    "|Tool|Description|\n",
    "|:---|:---|\n",
    "|argdist|函数参数的频率或直方图.Trace a function and display a histogram or frequency count of its parameter values. Uses Linux eBPF/bcc.|\n",
    "|bashreadline||\n",
    "|biolatency|以直方图形式输出磁盘I/O延迟.<br/>Summarize block device I/O latency as a histogram.|\n",
    "|biosnoop|输出每个磁盘I/O详情及其延迟.<br/>Trace block device I/O and print details incl. issuing PID.|\n",
    "|biotop||\n",
    "|bitesize||\n",
    "|bpflist|Display processes currently using BPF programs and maps.|\n",
    "|btrfsdist||\n",
    "|btrfsslower|see ext4slower|\n",
    "|cachestat|每秒输出文件系统缓存的统计信息.<br/>Statistics for linux page cache hit/miss ratios. Uses Linux eBPF/bcc.|\n",
    "|cachetop||\n",
    "|capable||\n",
    "|cobjnew||\n",
    "|cpudist|on-CPU、off-CPU任务时间的直方图.On- and off-CPU task time as a histogram.|\n",
    "|cpuunclaimed||\n",
    "|criticalstat||\n",
    "|dbslower||\n",
    "|dbstat||\n",
    "|dcsnoop||\n",
    "|dcstat||\n",
    "|deadlock||\n",
    "|deadlock.c||\n",
    "|drsnoop||\n",
    "|execsnoop|输出系统调用`execve(2)`创建的新进程.<br/>Trace new processes via exec() syscalls. Uses Linux eBPF/bcc.|\n",
    "|exitsnoop|跟踪进程退出, 展示其存活时间和退出原因.Trace all process termination (exit, fatal signal). Uses Linux eBPF/bcc.|\n",
    "|ext4dist||\n",
    "|ext4slower|查看文件系统中慢的磁盘I/O.<br/>Trace slow ext4/btrfs/xfs/zfs file operations, with per-event details.|\n",
    "|filelife||\n",
    "|fileslower||\n",
    "|filetop||\n",
    "|funccount|函数调用事件计数.Count function, tracepoint, and USDT probe calls matching a pattern. Uses Linux eBPF/bcc.|\n",
    "|funclatency||\n",
    "|funcslower||\n",
    "|gethostlatency||\n",
    "|hardirqs|硬件中断的耗时.Measure hard IRQ (hard interrupt) event time. Uses Linux eBPF/bcc.|\n",
    "|inject||\n",
    "|javacalls||\n",
    "|javaflow||\n",
    "|javagc||\n",
    "|javaobjnew||\n",
    "|javastat||\n",
    "|javathreads||\n",
    "|killsnoop||\n",
    "|klockstat||\n",
    "|llcstat|使用PMC展示LLC(last-level cache)个各进程的命中率和未命中率.Summarize CPU cache references and misses by process. Uses Linux eBPF/bcc.|\n",
    "|mdflush||\n",
    "|memleak||\n",
    "|mountsnoop||\n",
    "|mysqld_qslower||\n",
    "|nfsdist||\n",
    "|nfsslower||\n",
    "|nodegc||\n",
    "|nodestat||\n",
    "|offcputime|汇总线程阻塞及off-CPU的时间.Summarize off-CPU time by kernel stack trace. Uses Linux eBPF/bcc.|\n",
    "|offwaketime||\n",
    "|oomkill||\n",
    "|opensnoop|输出系统调用`open(2)`及其变种的调用情况.<br/>Trace open() syscalls. Uses Linux eBPF/bcc.|\n",
    "|perlcalls||\n",
    "|perlflow||\n",
    "|perlstat||\n",
    "|phpcalls||\n",
    "|phpflow||\n",
    "|phpstat||\n",
    "|pidpersec||\n",
    "|profile|CPU探查器, 用于理解消耗CPU资源的代码路径.<br/>Profile CPU usage by sampling stack traces. Uses Linux eBPF/bcc.|\n",
    "|pythoncalls||\n",
    "|pythonflow||\n",
    "|pythongc||\n",
    "|pythonstat||\n",
    "|reset-trace||\n",
    "|rubycalls||\n",
    "|rubyflow||\n",
    "|rubygc||\n",
    "|rubyobjnew||\n",
    "|rubystat||\n",
    "|runqlat|测量CPU调度器的延迟, 称为运行队列延迟. 以直方图形式输出线程等待CPU的时间.<br/>Run queue (scheduler) latency as a histogram.|\n",
    "|runqlen|采样CPU运行队列的长度, 以直方图形式展示等待运行的任务数量.Scheduler run queue length as a histogram.|\n",
    "|runqslower|列出运行队列延迟超过给定阈值的进程.Trace long process scheduling delays.|\n",
    "|shmsnoop||\n",
    "|slabratetop||\n",
    "|sofdsnoop||\n",
    "|softirqs|软件中断的耗时.Measure soft IRQ (soft interrupt) event time. Uses Linux eBPF/bcc.|\n",
    "|solisten||\n",
    "|sslsniff||\n",
    "|stackcount|产生事件的调用栈计数.Count function calls and their stack traces. Uses Linux eBPF/bcc.|\n",
    "|statsnoop||\n",
    "|syncsnoop||\n",
    "|syscount|系统调用计数.Summarize syscall counts and latencies.|\n",
    "|tclcalls||\n",
    "|tclflow||\n",
    "|tclobjnew||\n",
    "|tclstat||\n",
    "|tcpaccept|输出被动TCP连接信息.<br/>Trace TCP passive connections (accept()). Uses Linux eBPF/bcc.|\n",
    "|tcpconnect|输出主动TCP连接的信息.<br/>Trace TCP active connections (connect()). Uses Linux eBPF/bcc.|\n",
    "|tcpconnlat||\n",
    "|tcpdrop||\n",
    "|tcplife||\n",
    "|tcpretrans|输出每个TCP重传报文.<br/>Trace or count TCP retransmits and TLPs. Uses Linux eBPF/bcc.|\n",
    "|tcpstates||\n",
    "|tcpsubnet||\n",
    "|tcptop||\n",
    "|tcptracer||\n",
    "|tplist|展示内核跟踪点或USDT探针及其格式.Display kernel tracepoints or USDT probes and their formats.|\n",
    "|trace|多种源(kprobes, uprobes, tracepoints, USDT probes)的每事件跟踪.Trace a function and print its arguments or return value, optionally evaluating a filter. Uses Linux eBPF/bcc.|\n",
    "|ttysnoop||\n",
    "|vfscount||\n",
    "|vfsstat||\n",
    "|wakeuptime||\n",
    "|xfsdist||\n",
    "|xfsslower|see ext4slower|\n",
    "|zfsdist||\n",
    "|zfsslower|see ext4slower|"
   ]
  },
  {
   "cell_type": "markdown",
   "metadata": {},
   "source": [
    "# 所有层"
   ]
  },
  {
   "cell_type": "markdown",
   "metadata": {},
   "source": [
    "## argdist"
   ]
  },
  {
   "cell_type": "markdown",
   "metadata": {},
   "source": [
    "\n",
    "```\n",
    "argdist {-C|-H} [options] probe\n",
    "```\n",
    "\n",
    "- `-C`: frequency count\n",
    "- `-H`: power-of-two histogram\n",
    "\n",
    "`probe`:\n",
    "\n",
    "```\n",
    "eventname(signature) [ :type[,type...] :expr[,expr...] [:filter] ] [#label]\n",
    "```\n",
    "\n",
    "- `eventname`, `signature`: 同[eventname](#trace), 但不支持内核函数的简写\n",
    "- `type`: 汇总的值的类型\n",
    "- `expr`: 汇总的表达式; 特殊的变量: `$retval`、`$latency`、`$entry(param)`\n",
    "- `filter`: 可选的过滤事件的布尔表达式\n",
    "- `label`: 可选的添加到输出的标记性文本\n",
    "\n",
    "```\n",
    "## 内核函数vfs_read()的返回值的直方图\n",
    "argdist -H 'r::vfs_read()'\n",
    "## 进程1005中用户级libc中read()的返回值的直方图\n",
    "argdist -p 1005 -H 'r:c:read()' # PID=1005\n",
    "## 按系统调用ID计数\n",
    "argdist -C 't:raw_syscalls:sys_enter():int:args->id'\n",
    "## tcp_sendmsg(...)中size参数的计数\n",
    "argdist -C 'p::tcp_sendmsg(struct sock *sk, struct msghdr *msg, size_t size):u32:size'\n",
    "argdist -H 'p::tcp_sendmsg(struct sock *sk, struct msghdr *msg, size_t size):u32:size'\n",
    "## 进程181中libc的write(...)中fd参数的计数\n",
    "argdist -p 181 -C 'p:c:write(int fd):int:fd'\n",
    "## 延迟>0.1ms的进程的频率\n",
    "argdist -C 'r::__vfs_read():u32:$PID:$lantency > 100000'\n",
    "```\n"
   ]
  },
  {
   "cell_type": "markdown",
   "metadata": {},
   "source": [
    "## funccount"
   ]
  },
  {
   "cell_type": "markdown",
   "metadata": {},
   "source": [
    "\n",
    "```\n",
    "funccount [options] eventname\n",
    "```\n",
    "\n",
    "`eventname`:\n",
    "\n",
    "- `name`, `p:name`: 探查内核函数`name()`\n",
    "- `lib:name`, `p:lib:name`: 探查库`lib`中用户层的函数`name()`\n",
    "- `path:name`: 探查路径`path`下用户层函数`name()`\n",
    "- `t:system:name`: 探查跟踪点`system:name`\n",
    "- `u:lib:name`: 探查库`lib`中名称为`name`的USDT探针\n",
    "- `*`: 通配符. 选项`-r`允许使用正则表达式.\n",
    "\n",
    "```\n",
    "funccount 'tcp_*'\n",
    "funccount -i 1 'tcp_send*'\n",
    "funccount -i 1 't:block:*'\n",
    "funccount -i 1 t:sched:sched_process_fork\n",
    "funccount -i 1 c:getaddrinfo\n",
    "funccount 'go:os.*'\n",
    "```\n",
    "\n",
    "```\n",
    "$ bpftrace -e 'k:tcp_* { @[probe] = count(); }'\n",
    "Attaching 333 probes...\n",
    "^C\n",
    "\n",
    "@[kprobe:tcp_recv_timestamp]: 1\n",
    "@[kprobe:tcp_write_xmit]: 1\n",
    "@[kprobe:tcp_init_cwnd]: 1\n",
    "@[kprobe:tcp_rate_skb_delivered]: 1\n",
    "@[kprobe:tcp_wfree]: 1\n",
    "......\n",
    "```\n"
   ]
  },
  {
   "cell_type": "markdown",
   "metadata": {},
   "source": [
    "## funcslower"
   ]
  },
  {
   "cell_type": "markdown",
   "metadata": {},
   "source": [
    "## funclatency"
   ]
  },
  {
   "cell_type": "markdown",
   "metadata": {},
   "source": [
    "## profile"
   ]
  },
  {
   "cell_type": "markdown",
   "metadata": {},
   "source": [
    "\n",
    "```\n",
    "# -a: include kernel annotation\n",
    "# -f: output in folded format\n",
    "profile -af 30 > profile.output\n",
    "# 生成火焰图\n",
    "flamegraph.pl --color=java < profile.output > profile.svg\n",
    "```"
   ]
  },
  {
   "cell_type": "markdown",
   "metadata": {},
   "source": [
    "## stackcount"
   ]
  },
  {
   "cell_type": "markdown",
   "metadata": {},
   "source": [
    "\n",
    "```\n",
    "stackcount [options] eventname\n",
    "```\n",
    "\n",
    "`eventname` see [eventname](#funccount)\n",
    "\n",
    "\n",
    "```\n",
    "stackcount t:block:block_rq_insert\n",
    "stackcount ip_output\n",
    "statckcount t:sched:sched_switch\n",
    "stackcount t:syscalls:sys_enter_read\n",
    "```\n"
   ]
  },
  {
   "cell_type": "markdown",
   "metadata": {},
   "source": [
    "## tplist"
   ]
  },
  {
   "cell_type": "markdown",
   "metadata": {},
   "source": [
    "```\n",
    "$ tplist -v syscalls:sys_enter_read\n",
    "syscalls:sys_enter_read\n",
    "    int __syscall_nr;\n",
    "    unsigned int fd;\n",
    "    char * buf;\n",
    "    size_t count;\n",
    "\n",
    "```"
   ]
  },
  {
   "cell_type": "markdown",
   "metadata": {},
   "source": [
    "## trace"
   ]
  },
  {
   "cell_type": "markdown",
   "metadata": {},
   "source": [
    "\n",
    "```\n",
    "trace [options] probe [probe ...]\n",
    "```\n",
    "\n",
    "`probe`:\n",
    "\n",
    "```\n",
    "eventname(signature) (boolean filter) \"format string\", arguments\n",
    "```\n",
    "\n",
    "`eventname`:\n",
    "\n",
    "- `name`, `p:name`: 探查内核函数`name()`\n",
    "<br>`r::name`: 探查内核函数`name()`的返回\n",
    "- `lib:name`, `p:lib:name`: 探查库`lib`中用户层的函数`name()`\n",
    "<br>`r:lib:name`: 探查库`lib`中用户层的函数`name()`的返回值\n",
    "- `path:name`: 探查路径`path`下用户层函数`name()`\n",
    "<br>`r:path:name`: 探查路径`path`下用户层函数`name()`的返回值\n",
    "- `t:system:name`: 探查跟踪点`system:name`\n",
    "- `u:lib:name`: 探查库`lib`中名称为`name`的USDT探针\n",
    "- `*`: 通配符. 选项`-r`允许使用正则表达式.\n",
    "\n",
    "\n",
    "The `format string` is based on `printf()`.\n",
    "\n",
    "```\n",
    "## fs/open.c\n",
    "trace 'do_sys_open \"%s\", arg2'\n",
    "trace 'r::do_sys_open \"ret: %d\", retval'\n",
    "\n",
    "## kernel/time/hrtimer.c\n",
    "trace -U 'do_nanosleep \"mode: %d\", arg2'\n",
    "trace 'do_nanosleep(struct hrtimer_sleeper *t) \"task: %x\", t->task'\n",
    "\n",
    "## pam lib\n",
    "trace 'pam:pam_start \"%s: %s\", arg1, arg2'\n",
    "\n",
    "## trace structs\n",
    "trace 'do_nanosleep(struct hrtimer_sleeper *t) \"task: %x\", t->task'\n",
    "trace -I 'net/sock.h' 'udpv6_sendmsg(struct sock *sk) (sk->sk_dport == 13568)'\n",
    "```\n"
   ]
  },
  {
   "cell_type": "markdown",
   "metadata": {},
   "source": [
    "# 应用\n",
    "\n",
    "传统工具: 系统调试器."
   ]
  },
  {
   "cell_type": "markdown",
   "metadata": {},
   "source": [
    "## bashfunc\n",
    "## bashfunclat\n",
    "## bashreadline\n",
    "## dbslower\n",
    "## dbstat\n",
    "## mysqld_clat\n",
    "## mysqld_qslower\n",
    "## ucalls\n",
    "## uflow\n",
    "## ugc\n",
    "## uobjnew\n",
    "## ustat\n",
    "## uthreads"
   ]
  },
  {
   "cell_type": "markdown",
   "metadata": {},
   "source": [
    "# 运行时\n",
    "\n",
    "传统工具: 运行时调试器."
   ]
  },
  {
   "cell_type": "markdown",
   "metadata": {},
   "source": [
    "## javathreads\n",
    "## jnistacks"
   ]
  },
  {
   "cell_type": "markdown",
   "metadata": {},
   "source": [
    "# 系统库\n",
    "\n",
    "传统工具: ltrace(1)."
   ]
  },
  {
   "cell_type": "markdown",
   "metadata": {},
   "source": [
    "## gethostlatency\n",
    "## memleak\n",
    "## pmheld\n",
    "## pmlock\n",
    "## sslsniff\n",
    "## threadssnoop"
   ]
  },
  {
   "cell_type": "markdown",
   "metadata": {},
   "source": [
    "# 系统调用接口\n",
    "\n",
    "传统工具: strace(1), perf(1)."
   ]
  },
  {
   "cell_type": "markdown",
   "metadata": {},
   "source": [
    "## elfsnoop"
   ]
  },
  {
   "cell_type": "markdown",
   "metadata": {},
   "source": [
    "## eperm"
   ]
  },
  {
   "cell_type": "markdown",
   "metadata": {},
   "source": [
    "## execsnoop"
   ]
  },
  {
   "cell_type": "markdown",
   "metadata": {},
   "source": [
    "## exitsnoop"
   ]
  },
  {
   "cell_type": "markdown",
   "metadata": {},
   "source": [
    "```\n",
    "$ exitsnoop\n",
    "PCOMM            PID    PPID   TID    AGE(s)  EXIT_CODE\n",
    "ls               1410   942    1410   0.00    0\n",
    "tree             1412   942    1412   0.02    0\n",
    "^C\n",
    "```"
   ]
  },
  {
   "cell_type": "markdown",
   "metadata": {},
   "source": [
    "## ioprofile"
   ]
  },
  {
   "cell_type": "markdown",
   "metadata": {},
   "source": [
    "## killsnoop"
   ]
  },
  {
   "cell_type": "markdown",
   "metadata": {},
   "source": [
    "## modsnoop"
   ]
  },
  {
   "cell_type": "markdown",
   "metadata": {},
   "source": [
    "## naptime"
   ]
  },
  {
   "cell_type": "markdown",
   "metadata": {},
   "source": [
    "## opensnoop"
   ]
  },
  {
   "cell_type": "markdown",
   "metadata": {},
   "source": [
    "\n",
    "```\n",
    "## 跟踪所有open()系统调用\n",
    "opensnoop\n",
    "## 跟踪10内的所有open()系统调用\n",
    "opensnoop -d 10\n",
    "```\n",
    "\n",
    "字段:\n",
    "\n",
    "- TIME(s): Time of the call, in seconds.\n",
    "- UID: User ID\n",
    "- PID: Process ID\n",
    "- TID: Thread ID\n",
    "- COMM: Process name\n",
    "- FD: File descriptor (if success), or -1 (if failed)\n",
    "- ERR: Error number (see the system's errno.h)\n",
    "- FLAGS: Flags passed to open(2), in octal\n",
    "- PATH: Open path\n"
   ]
  },
  {
   "cell_type": "code",
   "execution_count": null,
   "metadata": {},
   "outputs": [],
   "source": []
  },
  {
   "cell_type": "markdown",
   "metadata": {},
   "source": [
    "## pidpersec"
   ]
  },
  {
   "cell_type": "markdown",
   "metadata": {},
   "source": [
    "## scread"
   ]
  },
  {
   "cell_type": "markdown",
   "metadata": {},
   "source": [
    "## setuids"
   ]
  },
  {
   "cell_type": "markdown",
   "metadata": {},
   "source": [
    "## shellsnoop"
   ]
  },
  {
   "cell_type": "markdown",
   "metadata": {},
   "source": [
    "## signals"
   ]
  },
  {
   "cell_type": "markdown",
   "metadata": {},
   "source": [
    "## statsnoop"
   ]
  },
  {
   "cell_type": "markdown",
   "metadata": {},
   "source": [
    "## syncsnoop"
   ]
  },
  {
   "cell_type": "markdown",
   "metadata": {},
   "source": [
    "## syscount"
   ]
  },
  {
   "cell_type": "markdown",
   "metadata": {},
   "source": [
    "\n",
    "```\n",
    "# 每秒的系统调用计数: top10\n",
    "$ syscount -i 1\n",
    "Tracing syscalls, printing top 10... Ctrl+C to quit.\n",
    "[09:22:36]\n",
    "SYSCALL                   COUNT\n",
    "rt_sigprocmask               24\n",
    "bpf                          13\n",
    "select                       13\n",
    "write                         9\n",
    "read                          7\n",
    "getpid                        6\n",
    "futex                         3\n",
    "gettid                        2\n",
    "epoll_wait                    2\n",
    "ioctl                         2\n",
    "\n",
    "[09:22:37]\n",
    "SYSCALL                   COUNT\n",
    "rt_sigprocmask               16\n",
    "bpf                          11\n",
    "select                        9\n",
    "write                         6\n",
    "getpid                        4\n",
    "read                          4\n",
    "futex                         3\n",
    "clock_nanosleep               1\n",
    "```\n",
    "\n",
    "```\n",
    "$ bpftrace -e 't:syscalls:sys_enter_* { @[probe] = count(); }'\n",
    "Attaching 332 probes...\n",
    "^C\n",
    "\n",
    "@[tracepoint:syscalls:sys_enter_prctl]: 1\n",
    "@[tracepoint:syscalls:sys_enter_epoll_create1]: 1\n",
    "@[tracepoint:syscalls:sys_enter_bind]: 1\n",
    "@[tracepoint:syscalls:sys_enter_kill]: 1\n",
    "@[tracepoint:syscalls:sys_enter_clone]: 1\n",
    "@[tracepoint:syscalls:sys_enter_sendmmsg]: 1\n",
    "@[tracepoint:syscalls:sys_enter_socket]: 1\n",
    "......\n",
    "```\n"
   ]
  },
  {
   "cell_type": "markdown",
   "metadata": {},
   "source": [
    "# 内核\n",
    "\n",
    "传统工具: Ftrace, perf(1)."
   ]
  },
  {
   "cell_type": "markdown",
   "metadata": {},
   "source": [
    "## 虚拟文件系统(VFS)"
   ]
  },
  {
   "cell_type": "markdown",
   "metadata": {},
   "source": [
    "### bufgrow\n",
    "### cacheestat\n",
    "### cachetop\n",
    "### dcsnoop\n",
    "### dcstat\n",
    "### filelife\n",
    "### fileslower\n",
    "### filetop\n",
    "### filetype\n",
    "### fsrwstat\n",
    "### icstat\n",
    "### mmapfiles\n",
    "### mountsnoop\n",
    "### readahead\n",
    "### vfscount\n",
    "### vfssize\n",
    "### vfsstat\n",
    "### writeback\n",
    "### writesync"
   ]
  },
  {
   "cell_type": "markdown",
   "metadata": {},
   "source": [
    "## 文件系统"
   ]
  },
  {
   "cell_type": "markdown",
   "metadata": {},
   "source": [
    "### btrfsslower, btrfsdist\n",
    "### ext4slower, ext4dist\n",
    "### nfsslower, nfsdist\n",
    "### overlayfs\n",
    "### xfsslower, xfsdist\n",
    "### zfsslower, zfsdist"
   ]
  },
  {
   "cell_type": "markdown",
   "metadata": {},
   "source": [
    "## 卷管理器"
   ]
  },
  {
   "cell_type": "markdown",
   "metadata": {},
   "source": [
    "### mdflush"
   ]
  },
  {
   "cell_type": "markdown",
   "metadata": {},
   "source": [
    "## 块设备"
   ]
  },
  {
   "cell_type": "markdown",
   "metadata": {},
   "source": [
    "### bioerr\n",
    "### biolatency\n",
    "### biopattern\n",
    "### biosnoop\n",
    "### biostacks\n",
    "### biotop\n",
    "### bitesize\n",
    "### blkthrot\n",
    "### issched\n",
    "### seeksize"
   ]
  },
  {
   "cell_type": "markdown",
   "metadata": {},
   "source": [
    "## Sockets"
   ]
  },
  {
   "cell_type": "markdown",
   "metadata": {},
   "source": [
    "### skbdrop\n",
    "### skblife\n",
    "### so1stbyte\n",
    "### soaccept\n",
    "### socketio\n",
    "### socksize\n",
    "### sockstat\n",
    "### soconnect\n",
    "### soconnlat\n",
    "### sofamily\n",
    "### sofdsnoop\n",
    "### soprotocol\n",
    "### sormem"
   ]
  },
  {
   "cell_type": "markdown",
   "metadata": {},
   "source": [
    "## TCP/UDP"
   ]
  },
  {
   "cell_type": "markdown",
   "metadata": {},
   "source": [
    "### tcpaccept\n",
    "### tcpconnect\n",
    "### tcpconnlat\n",
    "### tcpdrop\n",
    "### tcplife\n",
    "### tcpnagle\n",
    "### tcpreset\n",
    "### tcpretrans\n",
    "### tcpstates\n",
    "### tcpsubnet\n",
    "### tcpsynbl\n",
    "### tcptop\n",
    "### tcptracer\n",
    "### tcpwin\n",
    "### updconnect"
   ]
  },
  {
   "cell_type": "markdown",
   "metadata": {},
   "source": [
    "## IP"
   ]
  },
  {
   "cell_type": "markdown",
   "metadata": {},
   "source": [
    "### ipecn\n",
    "### qdisc-fq\n",
    "### superping"
   ]
  },
  {
   "cell_type": "markdown",
   "metadata": {},
   "source": [
    "## 调度器"
   ]
  },
  {
   "cell_type": "markdown",
   "metadata": {},
   "source": [
    "### cppunclaimed"
   ]
  },
  {
   "cell_type": "markdown",
   "metadata": {},
   "source": [
    "### cpudist\n",
    "\n",
    "```\n",
    "# 运行10秒, 输出一次\n",
    "$ cpudist 10 1\n",
    "Tracing on-CPU time... Hit Ctrl-C to end.\n",
    "\n",
    "     usecs               : count     distribution\n",
    "         0 -> 1          : 0        |                                        |\n",
    "         2 -> 3          : 0        |                                        |\n",
    "         4 -> 7          : 1        |                                        |\n",
    "         8 -> 15         : 2        |*                                       |\n",
    "        16 -> 31         : 5        |****                                    |\n",
    "        32 -> 63         : 0        |                                        |\n",
    "        64 -> 127        : 5        |****                                    |\n",
    "       128 -> 255        : 3        |**                                      |\n",
    "       256 -> 511        : 0        |                                        |\n",
    "       512 -> 1023       : 2        |*                                       |\n",
    "      1024 -> 2047       : 0        |                                        |\n",
    "      2048 -> 4095       : 35       |**********************************      |\n",
    "      4096 -> 8191       : 28       |***************************             |\n",
    "      8192 -> 16383      : 12       |***********                             |\n",
    "     16384 -> 32767      : 36       |***********************************     |\n",
    "     32768 -> 65535      : 27       |**************************              |\n",
    "     65536 -> 131071     : 41       |****************************************|\n",
    "    131072 -> 262143     : 19       |******************                      |\n",
    "```\n"
   ]
  },
  {
   "cell_type": "markdown",
   "metadata": {},
   "source": [
    "### cpuwalk\n",
    "### deadlock\n",
    "### mheld\n",
    "### mlock\n",
    "### offcpuhist"
   ]
  },
  {
   "cell_type": "markdown",
   "metadata": {},
   "source": [
    "### offcputime\n",
    "\n",
    "\n",
    "```\n",
    "# -u     Only trace user threads (no kernel threads).\n",
    "# -k     Only trace kernel threads (no user threads).\n",
    "# -U     Show stacks from user space only (no kernel space stacks).\n",
    "# -K     Show stacks from kernel space only (no user space stacks).\n",
    "# -f     Print output in folded stack format.\n",
    "\n",
    "offcputime -fKu 10 > offcputime.output\n",
    "# 生成火焰图\n",
    "flamegraph.pl < offcputime.output > offcputime.svg\n",
    "```\n",
    "\n",
    "\n",
    "\n"
   ]
  },
  {
   "cell_type": "markdown",
   "metadata": {},
   "source": [
    "### offwaketime\n",
    "### pidnss\n"
   ]
  },
  {
   "cell_type": "markdown",
   "metadata": {},
   "source": [
    "### runqlat"
   ]
  },
  {
   "cell_type": "markdown",
   "metadata": {},
   "source": [
    "\n",
    "```\n",
    "# 运行10秒, 输出一次\n",
    "$ runqlat 10 1\n",
    "Tracing run queue latency... Hit Ctrl-C to end.\n",
    "\n",
    "     usecs               : count     distribution\n",
    "         0 -> 1          : 7        |**                                      |\n",
    "         2 -> 3          : 43       |*************                           |\n",
    "         4 -> 7          : 63       |********************                    |\n",
    "         8 -> 15         : 123      |****************************************|\n",
    "        16 -> 31         : 56       |******************                      |\n",
    "        32 -> 63         : 15       |****                                    |\n",
    "        64 -> 127        : 3        |                                        |\n",
    "       128 -> 255        : 6        |*                                       |\n",
    "       256 -> 511        : 4        |*                                       |\n",
    "       512 -> 1023       : 0        |                                        |\n",
    "      1024 -> 2047       : 1        |                                        |\n",
    "\n",
    "```\n"
   ]
  },
  {
   "cell_type": "markdown",
   "metadata": {},
   "source": [
    "### runqlen\n",
    "\n",
    "\n",
    "```\n",
    "# 运行10秒, 输出一次\n",
    "$ runqlen 10 1\n",
    "Sampling run queue length... Hit Ctrl-C to end.\n",
    "\n",
    "     runqlen       : count     distribution\n",
    "        0          : 991      |****************************************|\n",
    "```\n"
   ]
  },
  {
   "cell_type": "markdown",
   "metadata": {},
   "source": [
    "### runqslower\n",
    "\n",
    "\n",
    "```\n",
    "$ runqslower 100\n",
    "Tracing run queue latency higher than 100 us\n",
    "TIME     COMM             PID           LAT(us)\n",
    "09:40:00 b'kworker/u2:2'  1472              156\n",
    "09:40:00 b'runqslower' 1643              162\n",
    "09:40:00 b'runqslower' 1643              181\n",
    "09:40:00 b'runqslower' 1643              400\n",
    "09:40:01 b'systemd-journal' 1644              121\n",
    "09:40:01 b'runqslower' 1643              144\n",
    "09:40:01 b'runqslower' 1643              271\n",
    "09:40:01 b'runqslower' 1643              151\n",
    "09:40:01 b'runqslower' 1643              181\n",
    "09:40:01 b'jbd2/sda2-8'   327               517\n",
    "09:40:01 b'jbd2/sda2-8'   327               865\n",
    "09:40:01 b'journal-offline' 1645              896\n",
    "09:40:01 b'journal-offline' 1644              994\n",
    "09:40:01 b'sshd'          1039             2033\n",
    "```\n"
   ]
  },
  {
   "cell_type": "markdown",
   "metadata": {},
   "source": [
    "### smpcalls\n",
    "\n",
    "\n",
    "```\n",
    "$ bpftrace smpcalls.bt\n",
    "Attaching 8 probes...\n",
    "Tracing SMP calls. Hit Ctrl-C to stop.\n",
    "^C\n",
    "\n",
    "\n",
    "@time_ns[__cpa_flush_tlb]:\n",
    "[512, 1K)              1 |@@@@@@@@@@@@@@@@@@@@@@@@@@@@@@@@@@@@@@@@@@@@@@@@@@@@|\n",
    "\n",
    "@time_ns[do_kernel_range_flush]:\n",
    "[2K, 4K)               1 |@@@@@@@@@@@@@@@@@@@@@@@@@@@@@@@@@@@@@@@@@@@@@@@@@@@@|\n",
    "\n",
    "@time_ns[do_flush_tlb_all]:\n",
    "[1K, 2K)               1 |@@@@@@@@@@@@@@@@@@@@@@@@@@@@@@@@@@@@@@@@@@@@@@@@@@@@|\n",
    "\n",
    "@time_ns[remote_function]:\n",
    "[2K, 4K)               1 |@@@@@@@@@@@@@@@@@@@@@@@@@@@@@@@@@@@@@@@@@@@@@@@@@@@@|\n",
    "[4K, 8K)               1 |@@@@@@@@@@@@@@@@@@@@@@@@@@@@@@@@@@@@@@@@@@@@@@@@@@@@|\n",
    "```\n",
    "\n"
   ]
  },
  {
   "cell_type": "markdown",
   "metadata": {},
   "source": [
    "### softirqs\n",
    "\n",
    "\n",
    "```\n",
    "$ softirqs 10 1\n",
    "Tracing soft irq event time... Hit Ctrl-C to end.\n",
    "^C\n",
    "SOFTIRQ          TOTAL_usecs\n",
    "net_tx                     5\n",
    "rcu                       15\n",
    "block                    125\n",
    "net_rx                   294\n",
    "timer                   1445\n",
    "```\n",
    "\n",
    "```\n",
    "$ bpftrace -e 'tracepoint:irq:softirq_entry { @[args->vec] = count(); }'\n",
    "Attaching 1 probe...\n",
    "^C\n",
    "\n",
    "@[2]: 1\n",
    "@[4]: 2\n",
    "@[3]: 5\n",
    "@[9]: 9\n",
    "@[1]: 50\n",
    "```\n",
    "\n",
    "\n",
    "\n"
   ]
  },
  {
   "cell_type": "markdown",
   "metadata": {},
   "source": [
    "### threaded\n",
    "### wakeuptime\n",
    "### workq"
   ]
  },
  {
   "cell_type": "markdown",
   "metadata": {},
   "source": [
    "## 虚拟内存"
   ]
  },
  {
   "cell_type": "markdown",
   "metadata": {},
   "source": [
    "### brkstack\n",
    "### drssnoop\n",
    "### faults\n",
    "### ffaults\n",
    "### fmapfault\n",
    "### hfaults\n",
    "### kmem\n",
    "### kpages\n",
    "### memleak\n",
    "### mmapsnoop\n",
    "### numamove\n",
    "### oomkill\n",
    "### shmsnoop\n",
    "### slabratetop\n",
    "### swapin\n",
    "### vmscan"
   ]
  },
  {
   "cell_type": "markdown",
   "metadata": {},
   "source": [
    "# 硬件\n",
    "\n",
    "传统工具: perf, sar, /proc计数器."
   ]
  },
  {
   "cell_type": "markdown",
   "metadata": {},
   "source": [
    "## 网络设备"
   ]
  },
  {
   "cell_type": "markdown",
   "metadata": {},
   "source": [
    "### ieee80211scan"
   ]
  },
  {
   "cell_type": "markdown",
   "metadata": {},
   "source": [
    "## 设备驱动器"
   ]
  },
  {
   "cell_type": "markdown",
   "metadata": {},
   "source": [
    "### criticalstat\n",
    "### hardirqs\n",
    "\n",
    "```\n",
    "$ hardirqs 10 1\n",
    "Tracing hard irq event time... Hit Ctrl-C to end.\n",
    "^C\n",
    "HARDIRQ                    TOTAL_usecs\n",
    "ata_piix                            98\n",
    "enp0s3                             254\n",
    "```\n",
    "\n",
    "### nvmelatency\n",
    "### scsilatency\n",
    "### scsiresult\n",
    "### ttysnoop"
   ]
  },
  {
   "cell_type": "markdown",
   "metadata": {},
   "source": [
    "## CPU"
   ]
  },
  {
   "cell_type": "markdown",
   "metadata": {},
   "source": [
    "### cpufreq"
   ]
  },
  {
   "cell_type": "markdown",
   "metadata": {},
   "source": [
    "### llcstat"
   ]
  },
  {
   "cell_type": "markdown",
   "metadata": {},
   "source": [
    "```\n",
    "# 在虚拟机中无法运行\n",
    "$ llcstat\n",
    "perf_event_open failed: No such file or directory\n",
    "Failed to attach to a hardware event. Is this a virtual machine?\n",
    "```\n"
   ]
  },
  {
   "cell_type": "markdown",
   "metadata": {},
   "source": [
    "# 其他"
   ]
  },
  {
   "cell_type": "markdown",
   "metadata": {},
   "source": [
    "## capable"
   ]
  },
  {
   "cell_type": "markdown",
   "metadata": {},
   "source": [
    "## kvmexits"
   ]
  },
  {
   "cell_type": "markdown",
   "metadata": {},
   "source": [
    "## xenhyper"
   ]
  }
 ],
 "metadata": {
  "kernelspec": {
   "display_name": "Python 3",
   "language": "python",
   "name": "python3"
  },
  "language_info": {
   "codemirror_mode": {
    "name": "ipython",
    "version": 3
   },
   "file_extension": ".py",
   "mimetype": "text/x-python",
   "name": "python",
   "nbconvert_exporter": "python",
   "pygments_lexer": "ipython3",
   "version": "3.12.7"
  }
 },
 "nbformat": 4,
 "nbformat_minor": 2
}
