{
 "cells": [
  {
   "cell_type": "markdown",
   "metadata": {},
   "source": [
    "# Sentry\n",
    "- [Code - self-hosted](https://github.com/getsentry/self-hosted)\n",
    "- [Doc - self-hosts](https://develop.sentry.dev/self-hosted/)\n",
    "- [sentry vs. getsentry](https://develop.sentry.dev/sentry-vs-getsentry/): [`sentry`](https://github.com/getsentry/sentry) is open and `getsentry` is closed\n",
    "\n",
    "> Sentry is a developer-first error tracking and performance monitoring platform."
   ]
  }
 ],
 "metadata": {
  "language_info": {
   "name": "python"
  }
 },
 "nbformat": 4,
 "nbformat_minor": 2
}
