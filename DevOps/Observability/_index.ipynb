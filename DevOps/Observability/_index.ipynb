{
 "cells": [
  {
   "cell_type": "markdown",
   "metadata": {},
   "source": [
    "# Observability\n",
    "* https://en.wikipedia.org/wiki/Observability_(software)\n",
    "* https://en.wikipedia.org/wiki/Observability\n",
    "\n",
    "In software engineering, more specifically in distributed computing, observability is the ability to collect data about programs' execution, modules' internal states, and the communication among components.\n",
    "\n",
    "Observability relies on three main types of telemetry data: metrics, logs and traces.\n",
    "\n",
    "\n",
    "More:\n",
    "* [OS Performance.ipynb](./OS%20Performance.ipynb)"
   ]
  },
  {
   "cell_type": "markdown",
   "metadata": {},
   "source": [
    "# Metrics\n",
    "\n",
    "more:\n",
    "* [Metric Types - Splunk Observability Cloud](https://docs.splunk.com/observability/en/metrics-and-metadata/metric-types.html): Gauge metrics, Counter metrics, Cumulative counter metrics, Histograms\n",
    "* [What are Metrics in Observability: Definition, Importance, Challenges, Best Practices - Edge Delta](https://edgedelta.com/company/blog/what-are-metrics-in-observability): system metrics, application metrics, business metrics"
   ]
  },
  {
   "cell_type": "markdown",
   "metadata": {},
   "source": [
    "## Metrics (Java)\n",
    "* https://metrics.dropwizard.io/4.2.0/manual/core.html\n",
    "\n",
    "Metrics is a Java library which gives you unparalleled insight into what your code does in production.\n",
    "\n",
    "* Gauges\n",
    "* Counters\n",
    "* Histograms: A Histogram measures the distribution of values in a stream of data.\n",
    "  * Histogram metrics allow you to measure not just easy things like the min, mean, max, and standard deviation of values, but also quantiles like the median or 95th percentile.\n",
    "  * reservoir sampling(水库采样): Uniform Reservoirs, Exponentially Decaying Reservoirs, Sliding Window Reservoirs, Sliding Time Window Reservoirs\n",
    "* Meters: A meter measures the rate at which a set of events occur.\n",
    "* Timers: A timer is basically a histogram of the duration of a type of event and a meter of the rate of its occurrence."
   ]
  },
  {
   "cell_type": "markdown",
   "metadata": {},
   "source": [
    "## Prometheus metric types\n",
    "* https://prometheus.io/docs/concepts/metric_types/\n",
    "\n",
    "* Counter: A counter is a cumulative metric that represents a single monotonically increasing counter whose value can only increase or be reset to zero on restart. For example, you can use a counter to represent the number of requests served, tasks completed, or errors.\n",
    "* Gauge: A gauge is a metric that represents a single numerical value that can arbitrarily go up and down.\n",
    "* Histogram: A histogram samples observations (usually things like request durations or response sizes) and counts them in configurable buckets. It also provides a sum of all observed values."
   ]
  },
  {
   "cell_type": "markdown",
   "metadata": {},
   "source": [
    "# Logs"
   ]
  },
  {
   "cell_type": "markdown",
   "metadata": {},
   "source": [
    "# Traces"
   ]
  },
  {
   "cell_type": "markdown",
   "metadata": {},
   "source": [
    "# Continuous profiling"
   ]
  },
  {
   "cell_type": "markdown",
   "metadata": {},
   "source": [
    "# Instrumentation"
   ]
  }
 ],
 "metadata": {
  "language_info": {
   "name": "python"
  }
 },
 "nbformat": 4,
 "nbformat_minor": 2
}
