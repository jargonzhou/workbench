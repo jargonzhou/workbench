{
 "cells": [
  {
   "cell_type": "markdown",
   "metadata": {},
   "source": [
    "# Apache SkyWalking\n",
    "* https://skywalking.apache.org/\n",
    "\n",
    "SkyWalking is logically split into four parts: Probes, Platform backend, Storage and UI.\n",
    "\n",
    "![https://skywalking.apache.org/images/home/architecture_2160x720.png?t=20220617](https://skywalking.apache.org/images/home/architecture_2160x720.png?t=20220617)\n",
    "\n",
    "- **Probe**s collect telemetry data, including metrics, traces, logs and events in various formats(SkyWalking, Zipkin, OpenTelemetry, Prometheus, Zabbix, etc.)\n",
    "- **Platform backend** supports data aggregation, analysis and streaming process covers traces, metrics, logs and events. Work as Aggregator Role, Receiver Role or both.\n",
    "- **Storage** houses SkyWalking data through an open/plugable interface. You can choose an existing implementation, such as ElasticSearch, H2, MySQL, TiDB, BanyanDB, or implement your own.\n",
    "- **UI** is a highly customizable web based interface allowing SkyWalking end users to visualize and manage SkyWalking data.\n",
    "\n",
    "\n",
    "actions:\n",
    "- https://github.com/jargonzhou/application-store/tree/main/ops/skywalking\n",
    "- workbench\\Java\\JavaEE\\example-springcloud\\admin\\skywalking"
   ]
  },
  {
   "cell_type": "markdown",
   "metadata": {},
   "source": [
    "# Agents\n",
    "\n",
    "- language based native agent: `-javaagent`\n",
    "- service mesh probes: sidecar, control plane, proxy\n",
    "- 3rd-party instrument library: Zipkin\n",
    "- eBPF agent\n",
    "\n",
    "# OAP: Observability Analysis Platform\n",
    "\n",
    "# Capabilities\n",
    "\n",
    "- tracing: Zipkin v1/v2, Jaeger\n",
    "- metrics: Istio, Envoy, Linkerd\n",
    "- logging: disk, network\n",
    "\n",
    "# languages engine\n",
    "\n",
    "- Observability Analysis Language: OAL\n",
    "- Meter Analysis Language: MAL\n",
    "- Log Analysis Language: LAL\n",
    "\n",
    "# Profiling\n",
    "\n",
    "- in-process: auto-instrument agents\n",
    "- out-of-process: eBPF agent\n",
    "- continuous: eBPF agent\n",
    "\n",
    "# Setup\n",
    "\n",
    "- Tracing\n",
    "- Metrics\n",
    "- Logging\n",
    "- Profiling\n",
    "- Backend setup\n",
    "- UI setup\n",
    "- …"
   ]
  },
  {
   "cell_type": "markdown",
   "metadata": {},
   "source": [
    "# API\n",
    "\n",
    "## Telemetry APIs/Protocols\n",
    "\n",
    "- Tracing: Trace Data Protocol, Cross Process Propagation/Correlation Headers Protocol\n",
    "- Metrics APIs: Meter APIs, Browser Protocol, JVM Metrics APIs\n",
    "- Log Data Protocol\n",
    "- Service Instance Properties APIs\n",
    "- Events Report Protocol\n",
    "- Profiling APIs\n",
    "\n",
    "## Query APIs\n",
    "\n",
    "- GraphQL APIs: Query Protocol, MQE(Metrics Query Expression)\n",
    "- PromQL(PromQL Query Language) APIs\n",
    "- LogQL(Log Query Lanaguage) APIs"
   ]
  }
 ],
 "metadata": {
  "language_info": {
   "name": "python"
  }
 },
 "nbformat": 4,
 "nbformat_minor": 2
}
