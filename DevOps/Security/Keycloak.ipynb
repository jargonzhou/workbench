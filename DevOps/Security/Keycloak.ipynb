{
 "cells": [
  {
   "cell_type": "markdown",
   "metadata": {},
   "source": [
    "# Keycloak\n",
    "* https://www.keycloak.org/\n",
    "* https://github.com/keycloak/keycloak\n",
    "\n",
    "Books:\n",
    "- Thorgersen, Stian / Silva, IconPedro Igor. **Keycloak - Identity and Access Management for Modern Applications: Harness the power of Keycloak, OpenID Connect, and OAuth 2.0 to secure applications**. 2023, 2. edition. Packet.\n",
    "  - Keycloak version: 22.0.0\n",
    "  - Node.js示例\n",
    "  - 标准简介: OAuth 2.0, OpenID Connect, JWT(JSON Web Tokens), SAML 2.0(Secueiry Assertion Markup Language)\n",
    "  - 应用类型: 内部/外部应用, Web应用(服务端, SPA), native和移动端应用, REST服务\n",
    "  - integration: Golang, Java(Quarkus, Spring Boot), JavaScript, Node.js, Apache HTTP Server\n",
    "  - 授权策略: RBAC, GBAC, OAuth2 scopes, ABAC\n",
    "\n",
    "actions:\n",
    "- https://github.com/jargonzhou/application-store/tree/main/security/keycloak\n",
    "- example-springcloud/keycloak-resource-client\n",
    "- example-springcloud/keycloak-resource-server: 策略实施过滤器\n",
    "- HTTPie: Archived > Keycloak\n",
    "\n",
    "example:\n",
    "- Quarkus Cookbook: Authentication and Authorization\n",
    "- Spring\n",
    "  - https://github.com/keycloak/keycloak-quickstarts/blob/latest/spring/rest-authz-resource-server/README.md\n",
    "  - [A Quick Guide to OAuth2 With Spring Boot And Keycloak](https://www.baeldung.com/spring-boot-keycloak)\n",
    "  - [Simple Single Sign-On with Spring Security OAuth2](https://www.baeldung.com/sso-spring-security-oauth2)\n",
    "  - [Keycloak Integration – OAuth2 and OpenID with Swagger UI](https://www.baeldung.com/keycloak-oauth2-openid-swagger)\n"
   ]
  },
  {
   "cell_type": "markdown",
   "metadata": {},
   "source": [
    ">**Keycloak** is an [open source software](https://en.wikipedia.org/wiki/Open-source_software \"Open-source software\") product to allow [single sign-on](https://en.wikipedia.org/wiki/Single_sign-on \"Single sign-on\") with [identity and access management](https://en.wikipedia.org/wiki/Identity_management \"Identity management\") aimed at modern applications and services. As of March 2018 this [WildFly](https://en.wikipedia.org/wiki/WildFly \"WildFly\") community project is under the stewardship of [Red Hat](https://en.wikipedia.org/wiki/Red_Hat \"Red Hat\") who use it as the [upstream](https://en.wikipedia.org/wiki/Upstream_(software_development) \"Upstream (software development)\") project for their [Red Hat build of Keycloak](https://en.wikipedia.org/wiki/Red_Hat#Red_Hat_build_of_Keycloak \"Red Hat\").\n",
    ">\n",
    "> Keycloak supports various protocols such as [OpenID](https://en.wikipedia.org/wiki/OpenID \"OpenID\"), [OAuth](https://en.wikipedia.org/wiki/OAuth \"OAuth\") version 2.0 and [SAML](https://en.wikipedia.org/wiki/SAML \"SAML\") and provides features such as user management, [two-factor authentication](https://en.wikipedia.org/wiki/Two-factor_authentication \"Two-factor authentication\"), permissions and roles management, creating [token services](https://en.wikipedia.org/wiki/Security_token_service \"Security token service\"), etc.\n",
    "\n",
    "> **Open Source Identity and Access Management (IAM)**\n",
    "> Add authentication to applications and secure services with minimum effort.\n",
    "> No need to deal with storing users or authenticating users.\n",
    "> Keycloak provides user federation, strong authentication, user management, fine-grained authorization, and more."
   ]
  },
  {
   "cell_type": "markdown",
   "metadata": {},
   "source": [
    "# Documentation\n",
    "* https://www.keycloak.org/documentation"
   ]
  },
  {
   "cell_type": "markdown",
   "metadata": {},
   "source": [
    "## Getting started\n",
    "A **realm** in Keycloak is equivalent to a tenant. Each realm allows an administrator to create isolated groups of *applications* and *users*. Initially, Keycloak includes a single realm, called `master`. Use this realm only for managing Keycloak and not for managing any applications.\n",
    "\n",
    "consoles:\n",
    "- Admin: `master` realm, http://localhost:19001/admin\n",
    "\t- create realm `myrealm`\n",
    "\t\t- create user: `myuser`\n",
    "\t\t\t- Credentials: password `myuser`\n",
    "\t\t- create client/application: to secure the application\n",
    "\t\t\t- client type `OpenID Connect`\n",
    "\t\t\t- client id `myclient`\n",
    "\t\t\t- flow (capability config): Standard flow\n",
    "\t\t\t- login settings: \n",
    "  \t\t\t- valid redirect URIs: `https://www.keycloak.org/app/*`\n",
    "  \t\t\t- web origin `https://www.keycloak.org`\n",
    "- Account: `myrealm`, http://localhost:19001/realms/myrealm/account/#/\n",
    "\t- login with user `myuser`\n",
    "- [the SPA testing application](https://www.keycloak.org/app/) - `myclient`\n",
    "\t- Keycloak URL: http://localhost:19001\n",
    "\t- Realm: `myrealm`\n",
    "\t- Client: `myclient`\n",
    "\t- Sign in => http://localhost:19001/realms/myrealm/protocol/openid-connect/auth?client_id=myclient&redirect_uri=https%3A%2F%2Fwww.keycloak.org%2Fapp%2F%23url%3Dhttp%3A%2F%2Flocalhost%3A18080%26realm%3Dmyrealm%26client%3Dmyclient&state=42706940-9ec7-401e-84a9-733576e1f64d&response_mode=fragment&response_type=code&scope=openid&nonce=b1d5f8f5-fd37-462f-80c9-2311313ea8df&code_challenge=tHkkuB3T2TDJ7Lv3sihyrGT104lKhrWpgjNwdarbIvk&code_challenge_method=S256\n",
    "\t\t- `myuser`"
   ]
  },
  {
   "cell_type": "markdown",
   "metadata": {},
   "source": [
    "> ## Server Installation and Configuration"
   ]
  },
  {
   "cell_type": "markdown",
   "metadata": {},
   "source": [
    "> ## Server Container Image"
   ]
  },
  {
   "cell_type": "markdown",
   "metadata": {},
   "source": [
    "## Securing Applications and Services\n"
   ]
  },
  {
   "cell_type": "markdown",
   "metadata": {},
   "source": [
    "Planning for securing applications and services\n",
    "* [quickstarts repo](https://github.com/keycloak/keycloak-quickstarts)\n",
    "  * OpenID Connect: Java, JavaScript, Node.js, C#, Ptyhon, Android, iOS, Apache HTTP Server\n",
    "    * [Spring Boot](https://github.com/keycloak/keycloak-quickstarts/tree/latest/spring/rest-authz-resource-server)\n",
    "  * SAML: Java, Apache HTTP Server"
   ]
  },
  {
   "cell_type": "markdown",
   "metadata": {},
   "source": [
    "Secure applications and services with OpenID Connect\n",
    "* Endpoints: /realms/{realm-name}/.well-known/openid-configuration\n",
    "  * Authorization endpoint: /realms/{realm-name}/protocol/openid-connect/auth\n",
    "  * Token endpoint: /realms/{realm-name}/protocol/openid-connect/token\n",
    "  * Userinfo endpoint: /realms/{realm-name}/protocol/openid-connect/userinfo\n",
    "  * Logout endpoint: /realms/{realm-name}/protocol/openid-connect/logout\n",
    "  * Certificate endpoint: /realms/{realm-name}/protocol/openid-connect/certs\n",
    "  * Introspection endpoint: /realms/{realm-name}/protocol/openid-connect/token/introspect\n",
    "  * Dynamic Client Registration endpoint: /realms/{realm-name}/clients-registrations/openid-connect\n",
    "  * Token Revocation endpoint: /realms/{realm-name}/protocol/openid-connect/revoke\n",
    "  * Device Authorization endpoint: /realms/{realm-name}/protocol/openid-connect/auth/device\n",
    "  * Backchannel Authentication endpoint: /realms/{realm-name}/protocol/openid-connect/ext/ciba/auth\n",
    "* Grant Types:\n",
    "  * Authorization code\n",
    "  * Implicit\n",
    "  * Resource Owner Password Credentials\n",
    "  * Client credentials\n",
    "  * Device Authorization Grant\n",
    "  * Client Initiated Backchannel Authentication Grant\n",
    "* 术语\n",
    "  * clients: 与Keycloak交互以验证用户和获取token的实体. 通常是代表用户的应用和服务, 提供了单点登录用户体验, 使用Keycloak颁发的token访问其他服务. 也可以是获取token且代表自己访问其他服务的实体.\n",
    "  * application: 各种应用\n",
    "  * client adapters: 便于集成Keycloak的库.\n",
    "  * creating/registering a client: 使用管理控制台创建客户端, 使用Keycloak客户端注册服务注册客户端\n",
    "  * a service account: 可以获取代表自己的token的客户端\n"
   ]
  },
  {
   "cell_type": "markdown",
   "metadata": {},
   "source": [
    "客户端注册:\n",
    "- Client registration service\n",
    "- Client registration CLI\n",
    "\n",
    "token交换\n",
    "- Using token exchange\n",
    "\n",
    "客户端\n",
    "- Keycloak admin client: ` org.keycloak.admin.client.Keycloak`\n",
    "- Keycloak authorization client: 配置`keycloak.json`\n",
    "- Keycloak policy enforcer: 授权上下文`org.keycloak.AuthorizationContext`\n",
    "\n",
    "外部集成\n",
    "- Apache APISIX\n",
    "- KrakenD\n",
    "- Quarus\n",
    "- Traefik Hub\n",
    "- WildFly"
   ]
  },
  {
   "cell_type": "markdown",
   "metadata": {},
   "source": [
    "## Server Administration\n",
    "- [Server Administration Guide](https://www.keycloak.org/docs/24.0.1/server_admin/)\n",
    "> Basic Keycloak operations\n",
    "> Keycloak is a separate server that you manage on your network. Applications are configured to point to and be secured by this server. Keycloak uses open protocol standards like OpenID Connect or SAML 2.0 to secure your applications. Browser applications redirect a user’s browser from the application to the Keycloak authentication server where they enter their credentials. This redirection is important because users are completely isolated from applications and applications never see a user’s credentials. Applications instead are given an identity token or assertion that is cryptographically signed. These tokens can have identity information like username, address, email, and other profile data. They can also hold permission data so that applications can make authorization decisions. These tokens can also be used to make secure invocations on REST-based services.\n",
    "\n",
    "- [Configuring TLS](https://www.keycloak.org/server/enabletls)\n",
    "\t- option1: PEM formated certificate and private key files\n",
    "\t- option2: Java keystore file, keystore password\n",
    "\t- mTLS: use a truststore to validate client certificats, truststore password\n",
    "\t- secure credentials: using a vault / mounted secret\n",
    "\n",
    "\n",
    "\n",
    "\n"
   ]
  },
  {
   "cell_type": "markdown",
   "metadata": {},
   "source": [
    "> ## Server Developer\n"
   ]
  },
  {
   "cell_type": "markdown",
   "metadata": {},
   "source": [
    "## Authorization Services\n",
    "\n",
    "细粒度的授权策略, 不同的访问控制机制:\n",
    "- Attribute-based access control (ABAC)\n",
    "- Role-based access control (RBAC)\n",
    "- User-based access control (UBAC)\n",
    "- Context-based access control (CBAC)\n",
    "- Rule-based access control\n",
    "  - Using JavaScript\n",
    "- Time-based access control\n",
    "- Support for custom access control mechanisms (ACMs) through a Service Provider Interface (SPI)\n",
    "\n",
    "主要的授权过程:\n",
    "- 资源管理(Resource Management)\n",
    "- 权限和策略管理(Permission and Policy Management)\n",
    "- 策略实施(Policy Enforcement)"
   ]
  },
  {
   "cell_type": "markdown",
   "metadata": {},
   "source": [
    "## Upgrading\n",
    "\n",
    "The client libraries are those artifacts: [link](https://www.keycloak.org/securing-apps/upgrading)\n",
    "- Java admin client - Maven artifact `org.keycloak:keycloak-admin-client` 管理客户端\n",
    "- Java authorization client - Maven artifact `org.keycloak:keycloak-authz-client` 授权客户端\n",
    "- Java policy enforcer - Maven artifact `org.keycloak:keycloak-policy-enforcer` 策略实施器\n",
    "- Java common classes used by other client libraries above - Maven artifact `org.keycloak:keycloak-client-common-synced`"
   ]
  },
  {
   "cell_type": "markdown",
   "metadata": {},
   "source": [
    "## API\n",
    "- JavaDoc\n",
    "- [Administration REST API](https://www.keycloak.org/docs-api/latest/rest-api/index.html)\n",
    "\n",
    "More:\n",
    "- [Dynamic Client Registration in Keycloak](https://medium.com/keycloak/dynamic-client-registration-in-keycloak-4dd1c5cd5e69)\n",
    "\t- [Collections](https://medium.com/keycloak)\n"
   ]
  },
  {
   "cell_type": "markdown",
   "metadata": {},
   "source": []
  }
 ],
 "metadata": {
  "language_info": {
   "name": "python"
  }
 },
 "nbformat": 4,
 "nbformat_minor": 2
}
