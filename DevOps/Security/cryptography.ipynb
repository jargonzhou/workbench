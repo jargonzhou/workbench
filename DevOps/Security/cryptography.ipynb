{
 "cells": [
  {
   "cell_type": "markdown",
   "id": "73418026",
   "metadata": {},
   "source": [
    "# Cryptography\n",
    "\n",
    "Books:\n",
    "- Wong, David. **Real-World Cryptography**. 2021. Manning."
   ]
  },
  {
   "cell_type": "markdown",
   "id": "94995d00",
   "metadata": {},
   "source": [
    "# Terminology"
   ]
  },
  {
   "cell_type": "markdown",
   "id": "5ac609a6",
   "metadata": {},
   "source": [
    "- symmetric cryptography/secret key cryptography - 对称密码学/密钥密码学\n",
    "- symmetric encryption algorithm: cipher - 对称加密算法\n",
    "- cryptographers: the people who build cryptographic primitives\n",
    "- cryptanalysts: the people who break cryptographic primitives\n",
    "\n",
    "- AES: Advanced Encryption Standard\n",
    "\n",
    "- Kerckhoffs' principle: 算法公开, 只需密钥是保密的\n",
    "\n",
    "- key distribution: 密钥分发\n",
    "- asymmetric cryptography/publick key cryptography - 非对称密码学/公钥密码学\n",
    "  - 没有解决信任问题: 公钥确实是属于某参与方的\n",
    "- key exchange: 密钥交换\n",
    "  - DH key exchange algorithm: Diffile-Hellman - 用于在两方之间建立共用的秘密\n",
    "  - 密钥交换开始时各方需要使用相同的一组参数\n",
    "- secret: 保密的, 秘密\n",
    "- MIMT attacker: man-in-the-middle\n",
    "\n",
    "- asymmetric encryption: 不对称加密\n",
    "- RSA: Ron Rivest, Adi Shamir, Leonard Adleman\n",
    "  - a public key encryption algorithm: public key, private key - 任何人可以使用公钥加密, 但只有私钥拥有者可以解密\n",
    "  - a digital sinature scheme: 数字签名方案 - 用于建立信任. 私钥拥有者使用私钥签名, 任何人使用公钥验证签名\n",
    "- unforgeable: 不可伪造的\n",
    "\n",
    "\n",
    "另一种分类:\n",
    "- math-base construction: 依赖于诸如因子分解的数学问题. 例: RSA算法.\n",
    "- heuristic-based construction: 依赖于密码分析员的观察和统计分析. 例: AES算法.\n",
    "\n",
    "密码学原语(primitive)和协议提供的属性:\n",
    "- confidentiality: 机密性.\n",
    "- authentication: 身份认证."
   ]
  },
  {
   "cell_type": "markdown",
   "id": "d0e2c299",
   "metadata": {},
   "source": [
    "# Hash Functions\n",
    "\n",
    "more: https://en.wikipedia.org/wiki/Hash_function"
   ]
  },
  {
   "cell_type": "code",
   "execution_count": null,
   "id": "28f64183",
   "metadata": {},
   "outputs": [
    {
     "name": "stdout",
     "output_type": "stream",
     "text": [
      "SHA2-256(stdin)= 577e0eb8ed9b6d15f6676f6d884797e6ddf0ce056f0778560da1e9707f8c2722\n",
      "SHA2-256(stdin)= 577e0eb8ed9b6d15f6676f6d884797e6ddf0ce056f0778560da1e9707f8c2722\n",
      "SHA2-256(stdin)= 51ca129186a667f9b2b9f90622d72e01cf8795d9d3ab4f20048c0a530b3e3e1b\n"
     ]
    }
   ],
   "source": [
    "# 例: SHA-256 \n",
    "!echo -n \"hello\" | openssl dgst -sha256\n",
    "!echo -n \"hello\" | openssl dgst -sha256\n",
    "!echo -n \"hella\" | openssl dgst -sha256"
   ]
  },
  {
   "cell_type": "markdown",
   "id": "32ffddd1",
   "metadata": {},
   "source": [
    "哈希函数的安全属性:\n",
    "- pre-image resistance: 原像抗性, 不可逆, 单向 \n",
    "  - 不能从输出恢复输入\n",
    "- second pre-image resistance: 第二原像抗性, 完整性(integrity)\n",
    "  - 给定输入和输出, 不能找到另一个产生相同输出的输入\n",
    "- collision resistance: 抗碰撞性 \n",
    "  - 不能找到产生相同输出的两个不同的输入"
   ]
  },
  {
   "cell_type": "markdown",
   "id": "5b02126f",
   "metadata": {},
   "source": [
    "broken:\n",
    "- MD5: 2004\n",
    "- SHA-1: 2016\n",
    "\n",
    "SHA-2: Merkle-Damgard\n",
    "- Secure Hash Algorithm 2, 2001, NIST\n",
    "- versions: SHA-224, SHA-256, SHA-384, SHA-512, SHA-512/224, SHA-512/256\n",
    "\n",
    "SHA-3: Sponge\n",
    "- 2015, NIST\n",
    "- versions: SHA-3-224, SHA-3-256, SHA-3-384, SHA-3-512\n",
    "\n",
    "SHA-3 XOF(extendable output function)\n",
    "- SHAKE\n",
    "- cSHAKE\n",
    "  - TupleHash"
   ]
  },
  {
   "cell_type": "code",
   "execution_count": null,
   "id": "eb1191f6",
   "metadata": {},
   "outputs": [
    {
     "name": "stdout",
     "output_type": "stream",
     "text": [
      "SHA3-256(stdin)= 6d117591db75a05e93627bded8405390ba0808b6f3011ec944bda906930423b1\n",
      "SHA3-256(stdin)= 9b52dc2aa2e7e3e24adaef1ec1a9499e0f0c9480b0179bd7d66933f0d74e26fb\n"
     ]
    }
   ],
   "source": [
    "# example: TupleHash\n",
    "# Windows\n",
    "!echo -n \"Alice\"\"Bob\"\"100\"\"15\" | openssl dgst -sha3-256\n",
    "!echo -n \"Alice\"\"Bob\"\"1001\"\"5\" | openssl dgst -sha3-256\n",
    "\n",
    "# WSL\n",
    "# ➜  ~ echo -n \"Alice\"\"Bob\"\"100\"\"15\" | openssl dgst -sha3-256\n",
    "# SHA3-256(stdin)= 34d6b397c7f2e8a303fc8e39d283771c0397dad74cef08376e27483efc29bb02\n",
    "# ➜  ~ echo -n \"Alice\"\"Bob\"\"1001\"\"5\" | openssl dgst -sha3-256\n",
    "# SHA3-256(stdin)= 34d6b397c7f2e8a303fc8e39d283771c0397dad74cef08376e27483efc29bb02\n",
    "\n",
    "# ➜  ~ echo -n \"Alice\"\"||Bob\"\"||100\"\"||15\" | openssl dgst -sha3-256\n",
    "# SHA3-256(stdin)= 8becd187abba6816ff99f6e97e941910a1f2e8c4a0db68815a28c681575fc039\n",
    "# ➜  ~ echo -n \"Alice\"\"||Bob\"\"||1001\"\"||5\" | openssl dgst -sha3-256\n",
    "# SHA3-256(stdin)= bad466c2cf21f043013c45384059a791289283dd469765d6d43cbb1d22155f4f"
   ]
  },
  {
   "cell_type": "markdown",
   "id": "0a4ab5f6",
   "metadata": {},
   "source": [
    "# MAC: Message Authentication Code\n",
    "\n",
    "more: https://en.wikipedia.org/wiki/Message_authentication_code"
   ]
  },
  {
   "cell_type": "markdown",
   "id": "ac598e55",
   "metadata": {},
   "source": [
    "消息验证码: 组合使用一个哈希函数和一个密钥, 用于保护数据的完整性.\n",
    "- 哈希函数: 提供身份验证和数据完整性, 但基于额外的可信通道(trusted channel)\n",
    "- 密钥: 提供机密性和身份认证.\n",
    "- 用于创建可信通道.\n",
    "\n",
    "MAC(Key, Message) -> Authentication tag\n",
    "\n",
    "<img src=\"https://upload.wikimedia.org/wikipedia/commons/thumb/0/08/MAC.svg/1322px-MAC.svg.png\" width=\"800\"/>\n",
    "\n",
    "HMAC: hash-based message authentication code\n",
    "\n",
    "\n",
    "MAC的安全属性:\n",
    "- MACs are resistance against forgery of authentication tags - 阻止在新的消息上伪造生成authentication tag\n",
    "- an authentication tag need to be of a mimimum length to be secure - 通常128-bit\n",
    "  - 碰撞: MAC(key, X) = MAC(key, Y)\n",
    "- message can be replayed if authenticated naively - 消息重放\n",
    "  - 解决方法: 在消息中添加序列号\n",
    "- verifying an authentication is prone to bugs - 常量实现内完成验证\n",
    "  - 攻击: timing attack"
   ]
  },
  {
   "cell_type": "code",
   "execution_count": null,
   "id": "f536ba70",
   "metadata": {},
   "outputs": [
    {
     "name": "stdout",
     "output_type": "stream",
     "text": [
      "8c84b58e026bf7169d16bd11ac047a86dd535958f7fec16560c7204efbbed2f8\n"
     ]
    }
   ],
   "source": [
    "import hashlib\n",
    "import base64\n",
    "import hmac\n",
    "\n",
    "print(hmac.new(b\"nonbase64key\", \"password\".encode(), hashlib.sha256).hexdigest())"
   ]
  },
  {
   "cell_type": "code",
   "execution_count": null,
   "id": "05970d82",
   "metadata": {},
   "outputs": [
    {
     "data": {
      "text/plain": [
       "'6e6f6e6261736536346b6579'"
      ]
     },
     "execution_count": 8,
     "metadata": {},
     "output_type": "execute_result"
    }
   ],
   "source": [
    "b\"nonbase64key\".hex()"
   ]
  },
  {
   "cell_type": "code",
   "execution_count": null,
   "id": "f6119870",
   "metadata": {},
   "outputs": [
    {
     "name": "stdout",
     "output_type": "stream",
     "text": [
      "SHA2-256(stdin)= 8f0a013a31a3ff9c076fa743053a2315a0b0f32fcf4a8dbc14785ccf0526b64b\n"
     ]
    }
   ],
   "source": [
    "# !echo -n \"password\" | openssl sha256 -hex -mac HMAC -macopt hexkey:{b\"nonbase64key\".hex()}\n",
    "\n",
    "# WSL\n",
    "# ➜  ~ echo -n \"password\" | openssl sha256 -hex -mac HMAC -macopt hexkey:6e6f6e6261736536346b6579\n",
    "# SHA256(stdin)= 8c84b58e026bf7169d16bd11ac047a86dd535958f7fec16560c7204efbbed2f8"
   ]
  },
  {
   "cell_type": "markdown",
   "id": "9e5db0fc",
   "metadata": {},
   "source": [
    "# Authenticated Encryption"
   ]
  },
  {
   "cell_type": "markdown",
   "id": "a6c3def3",
   "metadata": {},
   "source": [
    "symmetric key: 对称密钥\n",
    "\n",
    "Encrypt(key, plaintext) -> ciphertext\n",
    "\n",
    "Decrypt(key, ciphertext) -> plaintext"
   ]
  },
  {
   "cell_type": "markdown",
   "id": "e626cc89",
   "metadata": {},
   "source": [
    "AES: Advanced Encryption Standard, NIST, 1997\n",
    "- versions: AES-128, AES-192, AES-256\n",
    "- block ciphter: key, 128-bit plaintext, output 128-bit ciphertext\n",
    "\n",
    "加密不是128-bit的数据时, 需要\n",
    "- padding\n",
    "  - PKCS#7: 补齐的字节的值是需要补齐的长度\n",
    "- a mode of operation: 拆分为16-byte的块\n",
    "  - ECB: electronic codebook - 加密是确定性的, 单独加密每个块, 结果密文中可能有重复的模式\n",
    "  - CBC: cipher block chaining - 使用初始化向量IV(intialization vector), 以\"随机化\"加密\n",
    "    - IV需要以明文形式与密文一起传输.\n",
    "\n",
    "ASE-CBC-HMAC: 密文或IV被篡改对解密造成影响\n",
    "- 使用HMAC对IV和密文生成authentication tag, 避免被篡改\n",
    "\n",
    "AEAD: authenticated encryption with associated data\n",
    "- AES-GCM: Galois/Counter Mode, GMAC, NIST, 2007\n",
    "- ChaCha20-Poly1305\n",
    "\n",
    "AEAD Encrypt(key, plaintext, associated-data) -> ciphertext+tag\n",
    "\n",
    "> library: \n",
    "> \n",
    "> - JavaScript, the Web Crypto API\n",
    "> - Java: Bouncy Castle [AES.GCM](https://javadoc.io/doc/org.bouncycastle/bcprov-jdk15on/latest/org/bouncycastle/jcajce/provider/symmetric/AES.GCM.html)"
   ]
  },
  {
   "cell_type": "markdown",
   "id": "f8a070e8",
   "metadata": {},
   "source": [
    "# Key Exchanges"
   ]
  },
  {
   "cell_type": "markdown",
   "id": "b0f3dd32",
   "metadata": {},
   "source": [
    "密钥交换:\n",
    "- 用途: 让参与方就一个共享的秘密达成一致, 然后用于使用带身份验证的加密算法的加密通信.\n",
    "- 公钥, 私钥: 拿自己的私钥和他人的公钥生成密钥"
   ]
  },
  {
   "cell_type": "markdown",
   "id": "4e76ffd1",
   "metadata": {},
   "source": [
    "- Diffie-Hellman (DH) key exchange\n",
    "- Elliptic Curve Diffie-Hellman (ECDH) key exchange\n",
    "\n",
    "theory: SKIP\n",
    "\n",
    "action: workbench\\DataEngineering\\codes\\data-engineering-java\\infrastructure\\cryptography\\src\\test\\java\\com\\spike\\dataengineering\\cryptography\\DHTest.java"
   ]
  },
  {
   "cell_type": "markdown",
   "id": "288a045f",
   "metadata": {},
   "source": [
    "# Asymmetric Encryption"
   ]
  },
  {
   "cell_type": "markdown",
   "id": "5889dad5",
   "metadata": {},
   "source": [
    "hybrid encryption: 混合加密\n",
    "- 混合: 非对称加密, 带身份认证的加密\n",
    "- 解决问题: 非对称加密在可加密数据的大小和速度存在局限性"
   ]
  },
  {
   "cell_type": "markdown",
   "id": "0ad5bc45",
   "metadata": {},
   "source": [
    "- 非对称密钥对生成算法: Generate asymmetric key pair(Security paramenter) -> Private key, Public Key\n",
    "- 非对称加密: Asymmetric encryption(Message, Public Key) -> Ciphertext\n",
    "- 非对称解密: Asymmetric descryption(Ciphertext, Private Key) -> Plaintext or error"
   ]
  },
  {
   "cell_type": "markdown",
   "id": "f6d9eb87",
   "metadata": {},
   "source": [
    "密钥交换, 密钥封装:\n",
    "- (B) Generate symmetric key(Security parameter) -> Symmetric key\n",
    "- (B) Asymmetric encryption(Symmetric key, A's public key) -> Encrypted symmetric key\n",
    "- (B) - Encrypted symmetric key -> (A)\n",
    "- (A) Asymmetric decryption(Encrypted symmetric key, A's private key) -> Symmetric key\n",
    "\n",
    "\n",
    "混合加密:\n",
    "- 同上面的密钥交换, and\n",
    "- (B) Authenticated encryption(Symmetric key, Message) -> Ciphertext\n",
    "- (B) - Encrypted symmetric key, Ciphertext -> (A)"
   ]
  },
  {
   "cell_type": "markdown",
   "id": "2f8e44e5",
   "metadata": {},
   "source": [
    "> library:\n",
    ">\n",
    "> Tink: Google - [link](https://github.com/tink-crypto/tink-java)\n",
    "\n",
    "混合加密例: ECIES_P256_HKDF_HMAC_SHA256_AES128_GCM\n",
    "- ECIES: Elliptic Curve Integrated Encryption Scheme, 一个混合加密标准\n",
    "- P256: NIST标准化的椭圆曲线(elliptic curve)\n",
    "- HKDF: 密钥导出函数\n",
    "- HMAC: 消息验证码\n",
    "- SHA-256: 哈希函数\n",
    "- AES-128-GCM: AES-GCM带身份验证的加密算法\n",
    "\n",
    "action: workbench\\DataEngineering\\codes\\data-engineering-java\\infrastructure\\cryptography\\src\\test\\java\\com\\spike\\dataengineering\\cryptography\\HybridEncryptionTest.java\n",
    "\n",
    "\n",
    "ECIES:\n",
    "- (B) Genrate (EC)DH key pair(Security parameter) -> Private Key, Public Key\n",
    "- (B) Key exchange(Private Key, A's Public Key) -> shared secret as symmetric key\n",
    "- (B) Authenticated encryption(Message, symmetric key) -> Ciphtertext\n",
    "- (B) - Publikc key, Ciphtertext -> (A)\n",
    "- (A) Key exchange(Private Key, B's Public Key) -> shared secret as symmetric key\n",
    "- (A) Authenticated descrytion(Ciphertext, symmetric key) -> Message or error\n"
   ]
  },
  {
   "cell_type": "markdown",
   "id": "d7eb9c92",
   "metadata": {},
   "source": [
    "# Signature, Zero-Knowledge Proof"
   ]
  },
  {
   "cell_type": "markdown",
   "id": "31e1c590",
   "metadata": {},
   "source": [
    "digitial signatures/signature schemes:\n",
    "- 密钥对生成算法\n",
    "- 签名算法: 使用私钥和消息, 产生签名\n",
    "- 验证算法: 使用公钥, 消息, 签名, 返回成功或失败\n",
    "\n",
    "<img src=\"https://upload.wikimedia.org/wikipedia/commons/thumb/7/78/Private_key_signing.svg/1920px-Private_key_signing.svg.png\" width=\"400\"/>\n",
    "\n",
    "性质:\n",
    "- 保证消息完整性: 如果修改了消息, 产生的签名无效\n",
    "- 不可抵赖性\n",
    "\n",
    "> library: \n",
    "> \n",
    "> pyca/cryptograph - [link](https://cryptography.io/en/latest/)"
   ]
  },
  {
   "cell_type": "markdown",
   "id": "edd2492b",
   "metadata": {},
   "source": [
    "使用场景:\n",
    "- 带身份验证的密钥交换: 无法解决主动的中间人攻击\n",
    "- PKI: Public Key Infrastructure, 公钥基础设施 - authority"
   ]
  },
  {
   "cell_type": "code",
   "execution_count": 22,
   "id": "b688be85",
   "metadata": {},
   "outputs": [
    {
     "name": "stdout",
     "output_type": "stream",
     "text": [
      "Requirement already satisfied: cryptography in d:\\software\\miniconda3\\lib\\site-packages (43.0.0)\n",
      "Requirement already satisfied: cffi>=1.12 in d:\\software\\miniconda3\\lib\\site-packages (from cryptography) (1.17.1)\n",
      "Requirement already satisfied: pycparser in d:\\software\\miniconda3\\lib\\site-packages (from cffi>=1.12->cryptography) (2.21)\n"
     ]
    }
   ],
   "source": [
    "!pip install cryptography"
   ]
  },
  {
   "cell_type": "code",
   "execution_count": 25,
   "id": "5930881c",
   "metadata": {},
   "outputs": [
    {
     "name": "stdout",
     "output_type": "stream",
     "text": [
      "valid\n"
     ]
    }
   ],
   "source": [
    "from cryptography.hazmat.primitives.asymmetric.ed25519 import Ed25519PrivateKey\n",
    "from cryptography.exceptions import InvalidSignature\n",
    "\n",
    "private_key = Ed25519PrivateKey.generate()\n",
    "public_key = private_key.public_key()\n",
    "\n",
    "message = b\"the message\"\n",
    "\n",
    "signature = private_key.sign(message)\n",
    "\n",
    "try:\n",
    "  public_key.verify(signature, message)\n",
    "  print(\"valid\")\n",
    "except InvalidSignature:\n",
    "  print(\"invalid\")"
   ]
  },
  {
   "cell_type": "markdown",
   "id": "624fc40d",
   "metadata": {},
   "source": [
    "ZKPs: Zero-Knowledge Proofs, 零知识证明\n",
    "\n",
    "example: 要证明知道给定 $Y = g^{x}$ 中的 $x$\n",
    "- 只需要传递 $x$ - the witness 证据\n",
    "\n",
    "Schnorr identification protocol: 一个交互式的零知识证明\n",
    "- (A) i will prove that i know $x$ in $Y = g^{x} mod p$\n",
    "- (A) commitment: a random value $R = g^{x}$\n",
    "- (B) challenge: a random value $c$\n",
    "- (A) a hidden witness: $s = k + c \\times x$\n",
    "- (B) verify: $g^{s} = Y^{c} \\time R$\n",
    "\n",
    "Schnorr signature: 非交互式        <- 文中没有讲清楚: ref [Schnorr协议：非交互零知识身份证明和数字签名](https://zhuanlan.zhihu.com/p/107752440) and [wikipedia](https://en.wikipedia.org/wiki/Schnorr_signature)\n",
    "- (A) commitment: $R = g^{x}$\n",
    "- (A) random challenge: $c = HASH(R, msg)$\n",
    "- (A) a hidden witness: $s = k + c \\times x$"
   ]
  },
  {
   "cell_type": "markdown",
   "id": "07d0b679",
   "metadata": {},
   "source": [
    "签名算法:\n",
    "- RSA\n",
    "- DSA: Digital Signature Algorithm, NIST 1991\n",
    "- ECDSA: Elliptic Curve Digital Signature Algorithm\n",
    "- EdDSA: Edwards-curve Digital Signature ALgorithm, 2008"
   ]
  },
  {
   "cell_type": "markdown",
   "id": "238e096f",
   "metadata": {},
   "source": [
    "# Randomness, Secrets"
   ]
  },
  {
   "cell_type": "markdown",
   "id": "a60ff15d",
   "metadata": {},
   "source": [
    "随机性:\n",
    "- 用例: secret keys, nonces, IVs, prime numbers, challenges, ...\n",
    "- 来源: 硬件中断的时间(例如鼠标移动), 软件中断的时间, 硬盘寻道时间, ...\n",
    "\n",
    "TRNGs: true random number generators\n",
    "\n",
    "PRNG: pseudorandom number generator, 伪随机数生成器\n",
    "- seed\n",
    "- 密码学安全的PRNG属性: \n",
    "  - 确定性: 使用相同的seed产生相同的随机数序列\n",
    "  - 随机不可区分的: 无法区分数是从一组可能的数中PRNG生成的还是挑选出来的. 根据生成的随机数无法恢复PRNG的内部状态.\n",
    "\n",
    "实践中获取随机性:\n",
    "- noise source\n",
    "- cleaning and mixing\n",
    "- PRNGs\n",
    "\n",
    "```shell\n",
    "# /dev/random\n",
    "➜  ~ dd if=/dev/urandom bs=16 count=1 2> /dev/null | xxd -p\n",
    "95a0816e638b83b83c9f961a2b6901b2\n",
    "\n",
    "# system call\n",
    "getrandom\n",
    "```"
   ]
  },
  {
   "cell_type": "markdown",
   "id": "bd1800f3",
   "metadata": {},
   "source": [
    "key derivation: derive several secrets from one secret\n",
    "\n",
    "KDF: key derivation function\n",
    "- HKDF: HMAC-base key derivation function, RFC 5869"
   ]
  },
  {
   "cell_type": "markdown",
   "id": "7f80746f",
   "metadata": {},
   "source": [
    "管理key和secret\n",
    "- key management\n",
    "  - key rotation\n",
    "  - key revocation"
   ]
  },
  {
   "cell_type": "markdown",
   "id": "f3c62022",
   "metadata": {},
   "source": [
    "decentralize trust with threshold cryptography - ???\n",
    "- secret sharing/secret splitting\n",
    "- multi-signature\n",
    "- DKG: distributed key generation\n"
   ]
  },
  {
   "cell_type": "markdown",
   "id": "6be5ddd6",
   "metadata": {},
   "source": [
    "# Protocols\n",
    "\n",
    "- secure transport\n",
    "- end-to-end encryption\n",
    "- user authentication\n",
    "- cryptocurrency\n",
    "- hardware cryptography\n",
    "- post-quantum cryptograph\n",
    "- next-generation cryptography\n",
    "- cryptography failed: when and where"
   ]
  }
 ],
 "metadata": {
  "kernelspec": {
   "display_name": "base",
   "language": "python",
   "name": "python3"
  },
  "language_info": {
   "codemirror_mode": {
    "name": "ipython",
    "version": 3
   },
   "file_extension": ".py",
   "mimetype": "text/x-python",
   "name": "python",
   "nbconvert_exporter": "python",
   "pygments_lexer": "ipython3",
   "version": "3.12.3"
  }
 },
 "nbformat": 4,
 "nbformat_minor": 5
}
