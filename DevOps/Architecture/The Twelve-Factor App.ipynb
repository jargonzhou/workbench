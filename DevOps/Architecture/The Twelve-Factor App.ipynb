{
 "cells": [
  {
   "cell_type": "markdown",
   "metadata": {},
   "source": [
    "# The Twelve-Factor App\n",
    "- https://12factor.net/"
   ]
  },
  {
   "cell_type": "markdown",
   "metadata": {},
   "source": [
    "\n",
    "| #    | Factor              | Description                                                      |\n",
    "| ---- | ------------------- | ---------------------------------------------------------------- |\n",
    "| I    | Codebase            | One codebase tracked in revision control, many deploys           |\n",
    "| II   | Dependencies        | Explicitly declare and isolate dependencies                      |\n",
    "| III  | Config              | Store config in the environment                                  |\n",
    "| IV   | Backing services    | Treat backing services as attached resources                     |\n",
    "| V    | Build, release, run | Strictly separate build and run stages                           |\n",
    "| VI   | Processes           | Execute the app as one or more stateless processes               |\n",
    "| VII  | Port binding        | Export services via port binding                                 |\n",
    "| VIII | Concurrency         | Scale out via the process model                                  |\n",
    "| IX   | Disposability       | Maximize robustness with fast startup and graceful shutdown      |\n",
    "| X    | Dev/prod parity     | Keep development, staging, and production as similar as possible |\n",
    "| XI   | Logs                | Treat logs as event streams                                      |\n",
    "| XII  | Admin processes     | Run admin/management tasks as one-off processes                  |\n",
    "\n",
    "\n",
    "> [The Fifteen-Factor App](https://domenicoluciani.com/2021/10/30/15-factor-app.html)\n",
    ">\n",
    ">- [Beyond the Twelve-Factor App](https://www.oreilly.com/library/view/beyond-the-twelve-factor/9781492042631/) by Kevin Hoffman\n",
    ">\n",
    ">13. API First \n",
    "    - We should define the service contract first to help our consumers understand what to send and receive, defining a common contract.  \n",
    "    - This approach enables consumers and service developers to work in parallel. \n",
    "    - It helps avoid bottlenecks and facilitates the virtualization of the APIs so the consumers can run the tests against the mocks.\n",
    ">14. Telemetry \n",
    "    - Monitoring our microservices, containers, and env help us to scale, self-heal and manage alerts for end-users and platform operators. \n",
    "    - We can use machine learning towards those metrics to derive future business strategies. \n",
    "    - We can observe the application’s performance, stream of events and data, health checks, when the application starts, scales, and so on.\n",
    ">15. Authentication \n",
    "    - Make sure all security policies are in place. Developers tend to underestimate the importance that security has. \n",
    "    - APIs should be secured using OAuth, RBAC, etc. \n",
    "    - Web content should be exposed externally on HTTPS \n",
    "    - MFA \n",
    "    - Database protection\n"
   ]
  },
  {
   "cell_type": "markdown",
   "metadata": {},
   "source": [
    "## Mentioned Resources"
   ]
  },
  {
   "cell_type": "markdown",
   "metadata": {},
   "source": [
    "\n",
    "- Tornado: [https://www.tornadoweb.org/en/stable/](https://www.tornadoweb.org/en/stable/)\n",
    "\n",
    "[Tornado](https://www.tornadoweb.org/) is a Python web framework and asynchronous networking library, originally developed at [FriendFeed](https://en.wikipedia.org/wiki/FriendFeed). By using non-blocking network I/O, Tornado can scale to tens of thousands of open connections, making it ideal for [long polling](https://en.wikipedia.org/wiki/Push_technology#Long_polling), [WebSockets](https://en.wikipedia.org/wiki/WebSocket), and other applications that require a long-lived connection to each user.\n",
    "\n",
    "- Jetty: [https://eclipse.dev/jetty/](https://eclipse.dev/jetty/)\n",
    "\n",
    "Jetty provides a web server and servlet container, additionally providing support for HTTP/2, WebSocket, OSGi, JMX, JNDI, JAAS and many other integrations. These components are open source and are freely available for commercial use and distribution.\n",
    "\n",
    "Jetty is used in a wide variety of projects and products, both in development and production. Jetty has long been loved by developers due to its long history of being easily embedded in devices, tools, frameworks, application servers, and modern cloud services."
   ]
  }
 ],
 "metadata": {
  "language_info": {
   "name": "python"
  }
 },
 "nbformat": 4,
 "nbformat_minor": 2
}
