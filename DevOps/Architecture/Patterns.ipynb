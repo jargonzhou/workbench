{
 "cells": [
  {
   "cell_type": "markdown",
   "id": "65187864",
   "metadata": {},
   "source": [
    "# Patterns\n",
    "\n",
    "books:\n",
    "* Gamma, Erich / Helm, Richard / Johnson, Ralph / Vlissides, John. **Design Patterns: Elements of Reusable Object-Oriented Software**. 1997. Oxford University Press. - UML: workbench\\UML\\GoF\n",
    "* POSA: Pattern-Oriented Software Architecture\n",
    "  * Volume 1 A System of Pattern\n",
    "  * Volume 2 Patterns for Concurrent and Networked Objects\n",
    "  * Volume 3 Patterns for Resource Management\n",
    "  * Volume 4 A Pattern Language for Distributed Computing\n",
    "  * Volume 5 On Patterns and Pattern Languages"
   ]
  },
  {
   "cell_type": "markdown",
   "id": "8aebe434",
   "metadata": {},
   "source": [
    "# SOLID"
   ]
  },
  {
   "cell_type": "markdown",
   "id": "f65f9d1d",
   "metadata": {},
   "source": [
    "设计模式的六大原则(SOLID)\n",
    "\n",
    "总原则: **开闭原则**(**O**pen Closed Principle): 一个软件实体, 如类、模块和函数应该对扩展开放, 对修改关闭. \n",
    "\n",
    "1. **单一职责原则**(**S**ingle Responsibility Principle): 一个类应该只有一个发生变化的原因. \n",
    "2. **里氏替换原则**(**L**iskov Substitution Principle): 所有引用基类的地方必须能透明地使用其子类的对象. \n",
    "3. **依赖倒置原则**(**D**ependence Inversion Principle): 上层模块不应该依赖底层模块, 它们都应该依赖于抽象. 抽象不应该依赖于细节, 细节应该依赖于抽象. - [ref](https://baike.baidu.com/item/%E4%BE%9D%E8%B5%96%E5%80%92%E7%BD%AE%E5%8E%9F%E5%88%99/6189149)\n",
    "4. **接口隔离原则**(**I**nterface Segregation Principle): 客户端不应该依赖它不需要的接口. 类间的依赖关系应该建立在最小的接口上. \n",
    "5. **迪米特法则**(**最少知道原则**)(Law of Demeter): 只与你的直接朋友交谈, 不跟“陌生人”说话. 一个类对自己依赖的类知道的越少越好\n",
    "6. **合成复用原则**(Composite Reuse Principle): 尽量使用对象组合/聚合, 而不是继承关系达到软件复用的目的. \n"
   ]
  },
  {
   "cell_type": "markdown",
   "id": "1585db36",
   "metadata": {},
   "source": [
    "# GoF"
   ]
  },
  {
   "cell_type": "markdown",
   "id": "f513b772",
   "metadata": {},
   "source": [
    "*创建型*模式（Creational Pattern）：对类的实例化过程进行了抽象，能够将软件模块中对象的创建和对象的使用分离。\n",
    "\n",
    "1. *工厂模式*（Factory Pattern）\n",
    "    在工厂模式中，我们在创建对象时不会对客户端暴露创建逻辑，并且是通过使用一个共同的接口来指向新创建的对象。\n",
    "2. *抽象工厂模式*（Abstract Factory Pattern）\n",
    "    围绕一个超级工厂创建其他工厂\n",
    "3. *单例模式*（Singleton Pattern）\n",
    "    保证一个类仅有一个实例，并提供一个访问它的全局访问点。\n",
    "4. *建造者模式*（Builder Pattern）\n",
    "    使用多个简单的对象一步一步构建成一个复杂的对象; 将一个复杂的构建与其表示相分离.\n",
    "5. *原型模式*（Prototype Pattern）\n",
    "    实现了一个原型接口，该接口用于创建当前对象的克隆"
   ]
  },
  {
   "cell_type": "markdown",
   "id": "8fd43f17",
   "metadata": {},
   "source": [
    "*结构型*模式（Structural Pattern）：关注于对象的组成以及对象之间的依赖关系，描述如何将类或者对象结合在一起形成更大的结构，就像搭积木，可以通过简单积木的组合形成复杂的、功能更为强大的结构。\n",
    "    \n",
    "1. *适配器模式*（Adapter Pattern）\n",
    "    作为两个不兼容的接口之间的桥梁\n",
    "2. *装饰器模式*（Decorator Pattern）\n",
    "    创建了一个装饰类，用来包装原有的类，并在保持类方法签名完整性的前提下，提供了额外的功能\n",
    "3. *代理模式*（Proxy Pattern）\n",
    "    创建具有现有对象的对象，以便向外界提供功能接口\n",
    "4. *外观模式*（Facade Pattern）\n",
    "    隐藏系统的复杂性，并向客户端提供了一个客户端可以访问系统的接口\n",
    "5. *桥接模式*（Bridge Pattern）\n",
    "    提供抽象化和实现化之间的桥接结构，来实现二者的解耦\n",
    "6. *组合模式*（Composite Pattern）\n",
    "    依据树形结构来组合对象，用来表示部分以及整体层次\n",
    "7. *享元模式*（Flyweight Pattern）\n",
    "    支持大量细粒度的对象"
   ]
  },
  {
   "cell_type": "markdown",
   "id": "18af9404",
   "metadata": {},
   "source": [
    "*行为型*模式（Behavioral Pattern）：关注于对象的行为问题，是对在不同的对象之间划分责任和算法的抽象化；不仅仅关注类和对象的结构，而且重点关注它们之间的相互作用。\n",
    "\n",
    "1. *策略模式*（Strategy Pattern）\n",
    "    一个类的行为或其算法可以在运行时更改\n",
    "2. *模板模式*（Template Pattern）\n",
    "    定义一个操作中的算法的骨架，而将一些步骤延迟到子类中\n",
    "3. *观察者模式*（ObserverPattern）\n",
    "    定义对象间的一种一对多的依赖关系，当一个对象的状态发生改变时，所有依赖于它的对象都得到通知并被自动更新\n",
    "4. *迭代器模式*（Iterator Pattern）\n",
    "    用于顺序访问集合对象的元素，不需要知道集合对象的底层表示\n",
    "5. *责任链模式*（Chain of Responsibility Pattern）\n",
    "    为请求创建了一个接收者对象的链\n",
    "6. *命令模式*（Command Pattern）\n",
    "    将一个请求封装成一个对象，从而使您可以用不同的请求对客户进行参数化\n",
    "7. *备忘录模式*（Memento Pattern）\n",
    "    在不破坏封装性的前提下，捕获一个对象的内部状态，并在该对象之外保存这个状态\n",
    "8. *状态模式*（State Pattern）\n",
    "    类的行为是基于它的状态改变的\n",
    "9. *访问者模式*（Visitor Pattern）\n",
    "    将数据结构与数据操作分离\n",
    "10. *中介者模式*（Mediator Pattern）\n",
    "    降低多个对象和类之间的通信复杂性\n",
    "11. *解释器模式*（Interpreter Pattern）\n",
    "    给定一个语言，定义它的文法表示，并定义一个解释器，这个解释器使用该标识来解释语言中的句子"
   ]
  }
 ],
 "metadata": {
  "language_info": {
   "name": "python"
  }
 },
 "nbformat": 4,
 "nbformat_minor": 5
}
