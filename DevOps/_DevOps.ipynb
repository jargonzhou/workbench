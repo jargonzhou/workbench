{
 "cells": [
  {
   "cell_type": "markdown",
   "metadata": {},
   "source": [
    "# DevOps\n",
    "\n",
    "More:\n",
    "- [Kubernetes](./Kubernetes.ipynb)\n",
    "- [Observability](./Observability/_index.ipynb)\n",
    "- [Python for DevOps](./Python_DevOps.ipynb)"
   ]
  }
 ],
 "metadata": {
  "language_info": {
   "name": "python"
  }
 },
 "nbformat": 4,
 "nbformat_minor": 2
}
