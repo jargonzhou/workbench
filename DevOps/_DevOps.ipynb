{
 "cells": [
  {
   "cell_type": "markdown",
   "metadata": {},
   "source": [
    "# DevOps\n",
    "\n",
    "More:\n",
    "- [Kubernetes](./Kubernetes.ipynb)\n",
    "- [Observability](./Observability/_index.ipynb)\n",
    "- [Python for DevOps](./Python_DevOps.ipynb)"
   ]
  },
  {
   "cell_type": "markdown",
   "metadata": {},
   "source": [
    "# 管理\n",
    "\n",
    "* [生产管理必备：5大口诀、6M1E分析、7个要点、8个工具、9字口诀、10个公式](https://zhuanlan.zhihu.com/p/3506434275)"
   ]
  }
 ],
 "metadata": {
  "language_info": {
   "name": "python"
  }
 },
 "nbformat": 4,
 "nbformat_minor": 2
}
