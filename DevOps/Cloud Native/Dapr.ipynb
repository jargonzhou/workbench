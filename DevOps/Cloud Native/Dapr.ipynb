{
 "cells": [
  {
   "cell_type": "markdown",
   "metadata": {},
   "source": [
    "# Dapr\n",
    "* https://dapr.io/\n",
    "* [Dapr - wikipedia](https://en.wikipedia.org/wiki/Dapr)\n",
    "\n",
    "Misc:\n",
    "- [CloudEvents Specification](https://github.com/cloudevents/spec): CloudEvents is a specification for describing event data in common formats to provide interoperability across services, platforms and systems."
   ]
  },
  {
   "cell_type": "markdown",
   "metadata": {},
   "source": [
    "> APIs for Building Secure and Reliable Microservices\n",
    ">\n",
    "> Dapr provides integrated APIs for communication, state, and workflow. Dapr leverages industry best practices for security, resiliency, and observability, so you can focus on your code.\n",
    "\n",
    "\n",
    "> What is Dapr?\n",
    ">\n",
    "> Dapr is **a portable, event-driven runtime** that makes it easy for any developer to build resilient, stateless and stateful applications that run on the cloud and edge and embraces the diversity of languages and developer frameworks. Leveraging the benefits of *a sidecar architecture*, Dapr helps you tackle the challenges that come with building microservices and keeps your code platform agnostic.\n",
    ">\n",
    "> Any language, any framework, anywhere:\n",
    "> ![](https://docs.dapr.io/images/overview.png)"
   ]
  },
  {
   "cell_type": "markdown",
   "metadata": {},
   "source": [
    "# Books"
   ]
  },
  {
   "cell_type": "markdown",
   "metadata": {},
   "source": [
    "## Learning Dapr"
   ]
  },
  {
   "cell_type": "markdown",
   "metadata": {},
   "source": [
    "Version: `cli version: 0.1.0, runtime version: 0.1.0` in book(P.xxiv)\n",
    "\n",
    "| #   | Title                |\n",
    "| :-- | :--------------------|\n",
    "| 1   | Services             |\n",
    "| 2   | State                |\n",
    "| 3   | Messaging            |\n",
    "| 4   | Security             |\n",
    "| 5   | Actors               |\n",
    "| 6   | Application Patterns |\n",
    "| 7   | Dapr’s Future        |"
   ]
  },
  {
   "cell_type": "markdown",
   "metadata": {},
   "source": [
    "Dapr Architecture\n",
    "\n",
    "| Component                     | Description                                                                                                                                                          |\n",
    "| :---------------------------- | -------------------------------------------------------------------------------------------------------------------------------------------------------------------- |\n",
    "| Dapr CLI                      | command line tool to configure, manage, monitor Dapr instances. access Dapr dashboard.                                                                               |\n",
    "| Dapr host                     | hosts an instance of the Dapr runtime. in kubernetes mode: a container. in standalone mode: a service process or a daemon.                                           |\n",
    "| Dapr API                      | define the programmable interface to Dapr runtime.                                                                                                                   |\n",
    "| Dapr runtime                  | implement the Dapr API.                                                                                                                                              |\n",
    "| Dapr operator                 | in Kubernetes mode: manage configurations and bindings.                                                                                                              |\n",
    "| Dapr sidecar injector         | in Kubernetes mode: handle Dapr sidecar container injection.                                                                                                         |\n",
    "| Dapr placement service        | manage routes to Dapr instances or service partitions: a route table that directs requests to a specific actor ID or partition iD to the same Dapr runtime instance. |\n",
    "| Dapr Sentry                   | a built-in CA(Certificate Authority).                                                                                                                                |\n",
    "| Building block: State stores  | save actor and stateful service state into configurable state store: Azure Cosmos DB, Cassandra, etcd, Firestore, Memcached, MongoDB, ZooKeeper, etc.                |\n",
    "| Building block: Pub/sub       | default use Redis Streams as the messaging backbone, offer at least once message delivery.                                                                           |\n",
    "| Building block: Bindings      | connect application code to different input and output channels.                                                                                                     |\n",
    "| Building block: Observability | OpenTelemetry, for collecting application metrics and distributed traces.                                                                                            |\n"
   ]
  },
  {
   "cell_type": "markdown",
   "metadata": {},
   "source": [
    "# Doc\n",
    "* https://docs.dapr.io/"
   ]
  },
  {
   "cell_type": "markdown",
   "metadata": {},
   "source": [
    "\n",
    "- [Concepts](https://docs.dapr.io/concepts/ \"Dapr concepts\")\n",
    "\t- [Overview](https://v1-12.docs.dapr.io/concepts/overview/): Introduction to the Distributed Application Runtime\n",
    "\t- [Building blocks](https://v1-12.docs.dapr.io/concepts/building-blocks-concept/): Modular best practices accessible over standard HTTP or gRPC APIs\n",
    "\t- [Components](https://v1-12.docs.dapr.io/concepts/components-concept/): Modular functionality used by building blocks and applications\n",
    "\t- [Application and control plane configuration](https://v1-12.docs.dapr.io/concepts/configuration-concept/): Change the behavior of Dapr application sidecars or globally on Dapr control plane system services\n",
    "\t- [Resiliency](https://v1-12.docs.dapr.io/concepts/resiliency-concept/): Configure policies and monitor app and sidecar health\n",
    "\t- [Observability](https://v1-12.docs.dapr.io/concepts/observability-concept/): Observe applications through tracing, metrics, logs and health\n",
    "\t- [Security](https://v1-12.docs.dapr.io/concepts/security-concept/): How Dapr is designed with security in mind\n",
    "\t- [Overview of the Dapr services](https://v1-12.docs.dapr.io/concepts/dapr-services/): Learn about the services that make up the Dapr runtime\n",
    "\t- [Dapr and service meshes](https://v1-12.docs.dapr.io/concepts/service-mesh/): How Dapr compares to and works with service meshes\n",
    "\t- [Dapr terminology and definitions](https://v1-12.docs.dapr.io/concepts/terminology/): Definitions for common terms and acronyms in the Dapr documentation\n",
    "\t- [Frequently asked questions and answers](https://v1-12.docs.dapr.io/concepts/faq/): Common questions asked about Dapr\n",
    "- [Getting started](https://docs.dapr.io/getting-started/ \"Getting started with Dapr\")\n",
    "\t- [Install the Dapr CLI](https://v1-12.docs.dapr.io/getting-started/install-dapr-cli/): Install the Dapr CLI as the main tool for running Dapr-related tasks\n",
    "\t- [Initialize Dapr in your local environment](https://v1-12.docs.dapr.io/getting-started/install-dapr-selfhost/): Fetch the Dapr sidecar binaries and install them locally using `dapr init`\n",
    "\t-  [Use the Dapr API](https://v1-12.docs.dapr.io/getting-started/get-started-api/): Run a Dapr sidecar and try out the state management API\t\t\n",
    "\t- [Dapr Quickstarts](https://v1-12.docs.dapr.io/getting-started/quickstarts/): Try out Dapr quickstarts with code samples that are aimed to get you started quickly with Dapr\n",
    "\t- [Dapr Tutorials](https://v1-12.docs.dapr.io/getting-started/tutorials/): Walk through in-depth examples to learn more about how to work with Dapr concepts\n",
    "- [Developing applications](https://docs.dapr.io/developing-applications/ \"Developing applications with Dapr\")\n",
    "\t- [Building blocks](https://v1-12.docs.dapr.io/developing-applications/building-blocks/): Dapr capabilities that solve common development challenges for distributed applications\n",
    "\t\t- [Service invocation](https://v1-12.docs.dapr.io/developing-applications/building-blocks/service-invocation/): Perform direct, secure, service-to-service method calls\n",
    "\t\t- [State management](https://v1-12.docs.dapr.io/developing-applications/building-blocks/state-management/): Create long running stateful services\n",
    "\t\t- [Publish & subscribe messaging](https://v1-12.docs.dapr.io/developing-applications/building-blocks/pubsub/): Secure, scalable messaging between services\n",
    "\t\t- [Bindings](https://v1-12.docs.dapr.io/developing-applications/building-blocks/bindings/): Interface with or be triggered from external systems\n",
    "\t\t- [Actors](https://v1-12.docs.dapr.io/developing-applications/building-blocks/actors/): Encapsulate code and data in reusable actor objects as a common microservices design pattern\n",
    "\t\t- [Secrets management](https://v1-12.docs.dapr.io/developing-applications/building-blocks/secrets/): Securely access secrets from your application\n",
    "\t\t- [Configuration](https://v1-12.docs.dapr.io/developing-applications/building-blocks/configuration/): Manage and be notified of application configuration changes\n",
    "\t\t- [Distributed lock](https://v1-12.docs.dapr.io/developing-applications/building-blocks/distributed-lock/): Distributed locks provide mutually exclusive access to shared resources from an application.\n",
    "\t\t- [Workflow](https://v1-12.docs.dapr.io/developing-applications/building-blocks/workflow/): Orchestrate logic across various microservices\n",
    "\t\t- [Cryptography](https://v1-12.docs.dapr.io/developing-applications/building-blocks/cryptography/): Perform cryptographic operations without exposing keys to your application\n",
    "\t- [Dapr Software Development Kits (SDKs)](https://v1-12.docs.dapr.io/developing-applications/sdks/): Use your favorite languages with Dapr\n",
    "\t- [Components](https://v1-12.docs.dapr.io/developing-applications/develop-components/): Learn more about developing Dapr’s pluggable and middleware components\n",
    "\t\t- [Pluggable components](https://v1-12.docs.dapr.io/developing-applications/develop-components/pluggable-components/): Guidance on how to work with pluggable components\n",
    "\t\t- [How to: Author middleware components](https://v1-12.docs.dapr.io/developing-applications/develop-components/develop-middleware/): Learn how to develop middleware components\n",
    "\t- [Local development](https://v1-12.docs.dapr.io/developing-applications/local-development/): Capabilities for developing Dapr applications locally\n",
    "\t\t- [IDE support](https://v1-12.docs.dapr.io/developing-applications/local-development/ides/): Support for common Integrated Development Environments (IDEs)\n",
    "\t\t- [Multi-App Run](https://v1-12.docs.dapr.io/developing-applications/local-development/multi-app-dapr-run/): Support for running multiple Dapr applications with one command\n",
    "\t- [Debugging Dapr applications and the Dapr control plane](https://v1-12.docs.dapr.io/developing-applications/debugging/): Guides on how to debug Dapr applications and the Dapr control plane\n",
    "\t- [Integrations](https://v1-12.docs.dapr.io/developing-applications/integrations/): Dapr integrations with other technologies\n",
    "\n",
    "- [Operations](https://docs.dapr.io/operations/ \"Deploying and configuring Dapr in your environment\")\n",
    "\n",
    "- [Reference](https://docs.dapr.io/reference/ \"Dapr Reference Docs\")\n",
    "\t- [Dapr API reference](https://v1-12.docs.dapr.io/reference/api/): Information on each api, the associated endpoints, and what capabilities are available\n",
    "\t- [Dapr CLI reference](https://v1-12.docs.dapr.io/reference/cli/): Detailed information on the Dapr CLI commands\n",
    "\t- [Dapr arguments and annotations for daprd, CLI, and Kubernetes](https://v1-12.docs.dapr.io/reference/arguments-annotations-overview/): The arguments and annotations available when configuring Dapr in different environments\n",
    "\t- [Environment variable reference](https://v1-12.docs.dapr.io/reference/environment/): A list of environment variables used by Dapr\n",
    "\t- [Dapr components reference](https://v1-12.docs.dapr.io/reference/components-reference/): Detailed information and specifications on Dapr components\n",
    "\t\t- [Pub/sub brokers component specs](https://docs.dapr.io/reference/components-reference/supported-pubsub/): The supported pub/sub brokers that interface with Dapr\n",
    "\t\t- [Workflow backend component specs](https://docs.dapr.io/reference/components-reference/supported-workflow-backend/): The supported workflow backend that orchestrate workflow and save workflow state\n",
    "\t\t- [Bindings component specs](https://docs.dapr.io/reference/components-reference/supported-bindings/): The supported external bindings that interface with Dapr\n",
    "\t\t- [State store component specs](https://docs.dapr.io/reference/components-reference/supported-state-stores/): The supported state stores that interface with Dapr\n",
    "\t\t- [Secret store component specs](https://docs.dapr.io/reference/components-reference/supported-secret-stores/): The supported secret stores that interface with Dapr\n",
    "\t\t- [Configuration store component specs](https://docs.dapr.io/reference/components-reference/supported-configuration-stores/): The supported configuration stores that interface with Dapr\n",
    "\t\t- [Lock component specs](https://docs.dapr.io/reference/components-reference/supported-locks/): The supported locks that interface with Dapr\n",
    "\t\t- [Cryptography component specs](https://docs.dapr.io/reference/components-reference/supported-cryptography/): The supported cryptography components that interface with Dapr\n",
    "\t\t- [Name resolution provider component specs](https://docs.dapr.io/reference/components-reference/supported-name-resolution/): The supported name resolution providers to enable Dapr service invocation\n",
    "\t\t- [Middleware component specs](https://docs.dapr.io/reference/components-reference/supported-middleware/): List of all the supported middleware components that can be injected in Dapr’s processing pipeline.\n",
    "\t- [Dapr resource specs](https://v1-12.docs.dapr.io/reference/resource-specs/): Detailed information and specifications on Dapr resources\n",
    "\t\t- [Component spec](https://v1-12.docs.dapr.io/reference/resource-specs/component-schema/): The basic spec for a Dapr component `Component`\n",
    "\t\t- [Subscription spec](https://v1-12.docs.dapr.io/reference/resource-specs/subscription-schema/): The basic spec for a Dapr subscription `Subscription`\n",
    "\t\t- [Resiliency spec](https://v1-12.docs.dapr.io/reference/resource-specs/resiliency-schema/): The basic spec for a Dapr resiliency resource `Resiliency`\n",
    "\t\t- [HTTPEndpoint spec](https://v1-12.docs.dapr.io/reference/resource-specs/httpendpoints-schema/): The basic spec for a Dapr HTTPEndpoint resource `HTTPEndpoint`\n",
    "\t\t- [Configuration spec](https://v1-12.docs.dapr.io/reference/resource-specs/configuration-schema/): The basic spec for a Dapr Configuration resource `Configuration`\n",
    "\t- [Dapr errors](https://v1-14.docs.dapr.io/reference/errors/): Information on Dapr errors and how to handle them\n",
    "\n",
    "- [Contributing](https://docs.dapr.io/contributing/ \"Contributing to Dapr\")\n"
   ]
  },
  {
   "cell_type": "markdown",
   "metadata": {},
   "source": [
    "# Code\n",
    "* https://github.com/dapr/dapr"
   ]
  },
  {
   "cell_type": "markdown",
   "metadata": {},
   "source": [
    "\n",
    "|Repo|Description|\n",
    "|:--|:--|\n",
    "|[Dapr](https://github.com/dapr/dapr)|The main repository that you are currently in. Contains the Dapr runtime code and overview documentation.|\n",
    "|[CLI](https://github.com/dapr/cli)|The Dapr CLI allows you to setup Dapr on your local dev machine or on a Kubernetes cluster, provides debugging support, launches and manages Dapr instances.|\n",
    "|[Docs](https://docs.dapr.io/)|The documentation for Dapr.|\n",
    "|[Quickstarts](https://github.com/dapr/quickstarts)|This repository contains a series of simple code samples that highlight the main Dapr capabilities.|\n",
    "|[Samples](https://github.com/dapr/samples)|This repository holds community maintained samples for various Dapr use cases.|\n",
    "|[Components-contrib](https://github.com/dapr/components-contrib)|The purpose of components contrib is to provide open, community driven reusable components for building distributed applications.|\n",
    "|[Dashboard](https://github.com/dapr/dashboard)|General purpose dashboard for Dapr|\n",
    "|[Go-sdk](https://github.com/dapr/go-sdk)|Dapr SDK for Go|\n",
    "|[Java-sdk](https://github.com/dapr/java-sdk)|Dapr SDK for Java|\n",
    "|[JS-sdk](https://github.com/dapr/js-sdk)|Dapr SDK for JavaScript|\n",
    "|[Python-sdk](https://github.com/dapr/python-sdk)|Dapr SDK for Python|\n",
    "|[Dotnet-sdk](https://github.com/dapr/dotnet-sdk)|Dapr SDK for .NET|\n",
    "|[Rust-sdk](https://github.com/dapr/rust-sdk)|Dapr SDK for Rust|\n",
    "|[Cpp-sdk](https://github.com/dapr/cpp-sdk)|Dapr SDK for C++|\n",
    "|[PHP-sdk](https://github.com/dapr/php-sdk)|Dapr SDK for PHP|\n"
   ]
  },
  {
   "cell_type": "markdown",
   "metadata": {},
   "source": [
    "# CLI"
   ]
  },
  {
   "cell_type": "code",
   "execution_count": null,
   "metadata": {},
   "outputs": [
    {
     "name": "stdout",
     "output_type": "stream",
     "text": [
      "CLI version: 1.15.0 \n",
      "Runtime version: 1.14.1\n"
     ]
    }
   ],
   "source": [
    "!dapr version"
   ]
  },
  {
   "cell_type": "code",
   "execution_count": 20,
   "metadata": {},
   "outputs": [],
   "source": [
    "# !dapr help"
   ]
  },
  {
   "cell_type": "markdown",
   "metadata": {},
   "source": [
    "# Initialization"
   ]
  },
  {
   "cell_type": "markdown",
   "metadata": {},
   "source": [
    "## locally\n",
    "\n",
    "- Redis\n",
    "- Zipkin\n",
    "- default component folder: `~/.dapr`\n",
    "- Dapr placement service for local actor"
   ]
  },
  {
   "cell_type": "code",
   "execution_count": null,
   "metadata": {},
   "outputs": [
    {
     "name": "stdout",
     "output_type": "stream",
     "text": [
      "Making the jump to hyperspace...\n",
      "Container images will be pulled from Docker Hub\n",
      "Installing runtime version 1.15.3\n"
     ]
    },
    {
     "name": "stderr",
     "output_type": "stream",
     "text": [
      "C:\\Users\\zhouj\\.dapr\\bin\\daprd.exe file already exists, please run `dapr uninstall` first before running `dapr init`\n"
     ]
    }
   ],
   "source": [
    "!dapr init"
   ]
  },
  {
   "cell_type": "code",
   "execution_count": null,
   "metadata": {},
   "outputs": [
    {
     "name": "stdout",
     "output_type": "stream",
     "text": [
      " Volume in drive C is Windows-SSD\n",
      " Volume Serial Number is 4624-083B\n",
      "\n",
      " Directory of C:\\Users\\zhouj\\.dapr\n",
      "\n",
      "2024/08/15  14:47    <DIR>          .\n",
      "2025/03/13  18:36    <DIR>          ..\n",
      "2024/08/15  14:49    <DIR>          bin\n",
      "2024/09/23  17:02    <DIR>          components\n",
      "2024/08/15  14:47               187 config.yaml\n",
      "               1 File(s)            187 bytes\n",
      "               4 Dir(s)  79,230,611,456 bytes free\n"
     ]
    }
   ],
   "source": [
    "!dir %userprofile%\\.dapr"
   ]
  },
  {
   "cell_type": "markdown",
   "metadata": {},
   "source": [
    "## Kubernetes"
   ]
  },
  {
   "cell_type": "code",
   "execution_count": 13,
   "metadata": {},
   "outputs": [
    {
     "name": "stdout",
     "output_type": "stream",
     "text": [
      "Making the jump to hyperspace...\n",
      "Note: To install Dapr using Helm, see here: https://docs.dapr.io/getting-started/install-dapr-kubernetes/#install-with-helm-advanced\n",
      "\n",
      "Container images will be pulled from Docker Hub\n",
      "Deploying the Dapr control plane with latest version to your cluster...\n"
     ]
    },
    {
     "name": "stderr",
     "output_type": "stream",
     "text": [
      "cannot re-use a name that is still in use\n"
     ]
    }
   ],
   "source": [
    "# kubernetes\n",
    "# install to another namespace: dapr init -k -n mynamespace\n",
    "# with Redis, Zipkin: dapr init -k --dev\n",
    "!dapr init -k\n",
    "# Making the jump to hyperspace...\n",
    "# Note: To install Dapr using Helm, see here: https://docs.dapr.io/getting-started/install-dapr-kubernetes/#install-with-helm-advanced\n",
    "\n",
    "# Container images will be pulled from Docker Hub\n",
    "# Deploying the Dapr control plane with latest version to your cluster...\n",
    "# Deploying the Dapr dashboard with latest version to your cluster...\n",
    "# Success! Dapr has been installed to namespace dapr-system. To verify, run `dapr status -k' in your terminal. To get started, go here: https://docs.dapr.io/getting-started"
   ]
  },
  {
   "cell_type": "code",
   "execution_count": 16,
   "metadata": {},
   "outputs": [
    {
     "name": "stdout",
     "output_type": "stream",
     "text": [
      "  NAME                   NAMESPACE    HEALTHY  STATUS   REPLICAS  VERSION  AGE  CREATED              \n",
      "  dapr-dashboard         dapr-system  True     Running  1         0.15.0   6m   2025-03-14 09:55.44  \n",
      "  dapr-operator          dapr-system  True     Running  1         1.15.3   6m   2025-03-14 09:55.30  \n",
      "  dapr-sidecar-injector  dapr-system  True     Running  1         1.15.3   6m   2025-03-14 09:55.30  \n",
      "  dapr-sentry            dapr-system  True     Running  1         1.15.3   6m   2025-03-14 09:55.30  \n",
      "  dapr-placement-server  dapr-system  True     Running  1         1.15.3   6m   2025-03-14 09:55.30  \n",
      "  dapr-scheduler-server  dapr-system  True     Running  3         1.15.3   6m   2025-03-14 09:55.30  \n"
     ]
    }
   ],
   "source": [
    "!dapr status -k"
   ]
  },
  {
   "cell_type": "code",
   "execution_count": 17,
   "metadata": {},
   "outputs": [
    {
     "name": "stdout",
     "output_type": "stream",
     "text": [
      "^C\n"
     ]
    }
   ],
   "source": [
    "# Dashboard\n",
    "!dapr dashboard -k"
   ]
  },
  {
   "cell_type": "code",
   "execution_count": null,
   "metadata": {},
   "outputs": [
    {
     "name": "stderr",
     "output_type": "stream",
     "text": [
      "E0314 09:51:23.483618   26144 memcache.go:265] couldn't get current server API group list: Get \"https://127.0.0.1:56964/api?timeout=32s\": dial tcp 127.0.0.1:56964: connectex: No connection could be made because the target machine actively refused it.\n",
      "E0314 09:51:25.549331   26144 memcache.go:265] couldn't get current server API group list: Get \"https://127.0.0.1:56964/api?timeout=32s\": dial tcp 127.0.0.1:56964: connectex: No connection could be made because the target machine actively refused it.\n",
      "E0314 09:51:27.586840   26144 memcache.go:265] couldn't get current server API group list: Get \"https://127.0.0.1:56964/api?timeout=32s\": dial tcp 127.0.0.1:56964: connectex: No connection could be made because the target machine actively refused it.\n",
      "E0314 09:51:29.626327   26144 memcache.go:265] couldn't get current server API group list: Get \"https://127.0.0.1:56964/api?timeout=32s\": dial tcp 127.0.0.1:56964: connectex: No connection could be made because the target machine actively refused it.\n",
      "E0314 09:51:31.664364   26144 memcache.go:265] couldn't get current server API group list: Get \"https://127.0.0.1:56964/api?timeout=32s\": dial tcp 127.0.0.1:56964: connectex: No connection could be made because the target machine actively refused it.\n",
      "Unable to connect to the server: dial tcp 127.0.0.1:56964: connectex: No connection could be made because the target machine actively refused it.\n"
     ]
    }
   ],
   "source": [
    "# Redis password: user `redis`\n",
    "# https://kubernetes.io/docs/tasks/configmap-secret/managing-secret-using-kubectl/\n",
    "!kubectl get secret dapr-dev-redis -o jsonpath='{.data}'\n",
    "# {\"redis-password\":\"Q2pXUHRVMVJsNw==\"}\n",
    "# $ echo 'Q2pXUHRVMVJsNw==' | base64 --decode\n",
    "# CjWPtU1Rl7\n",
    "\n",
    "# $ redis-cli \n",
    "# 127.0.0.1:6379> auth default CjWPtU1Rl7\n",
    "# OK"
   ]
  },
  {
   "cell_type": "code",
   "execution_count": null,
   "metadata": {},
   "outputs": [
    {
     "name": "stdout",
     "output_type": "stream",
     "text": [
      "Removing Dapr from your cluster...\n",
      "Dapr has been removed successfully\n"
     ]
    }
   ],
   "source": [
    "# uninstall\n",
    "!dapr uninstall -k"
   ]
  },
  {
   "cell_type": "markdown",
   "metadata": {},
   "source": [
    "# Using the Dapr API"
   ]
  },
  {
   "cell_type": "code",
   "execution_count": null,
   "metadata": {},
   "outputs": [],
   "source": [
    "# sidecar\n",
    "!dapr run --app-id myapp --dapr-http-port 3500\n",
    "\n",
    "# POST\n",
    "!curl -X POST -H \"Content-Type: application/json\" -d '[{ \"key\": \"name\", \"value\": \"Bruce Wayne\"}]' http://localhost:3500/v1.0/state/statestore\n",
    "\n",
    "# GET\n",
    "!curl http://localhost:3500/v1.0/state/statestore/name \n",
    "\n",
    "# Verify: Use RedisInsight! redis-cli NOT WORK!!!\n",
    "# keys *\n",
    "# hgetall \"myapp||name\"\n",
    "\n",
    "# DELETE\n",
    "!curl -v -X DELETE -H \"Content-Type: application/json\" http://localhost:3500/v1.0/state/statestore/name"
   ]
  },
  {
   "cell_type": "markdown",
   "metadata": {},
   "source": [
    "# Components"
   ]
  },
  {
   "cell_type": "markdown",
   "metadata": {},
   "source": [
    "## Pub/sub brokers\n",
    "\n",
    "## Workflow backend\n",
    "\n",
    "## Bindings\n",
    "\n",
    "## State store\n",
    "\n",
    "## Secret store\n",
    "\n",
    "## Configuration Store\n",
    "\n",
    "## Lock\n",
    "\n",
    "## Cryptography"
   ]
  },
  {
   "cell_type": "markdown",
   "metadata": {},
   "source": [
    "# Examples"
   ]
  },
  {
   "cell_type": "markdown",
   "metadata": {},
   "source": [
    "- [quickstarts repository](https://github.com/dapr/quickstarts)\n",
    "- [samples repository](https://github.com/dapr/samples)"
   ]
  }
 ],
 "metadata": {
  "kernelspec": {
   "display_name": "base",
   "language": "python",
   "name": "python3"
  },
  "language_info": {
   "codemirror_mode": {
    "name": "ipython",
    "version": 3
   },
   "file_extension": ".py",
   "mimetype": "text/x-python",
   "name": "python",
   "nbconvert_exporter": "python",
   "pygments_lexer": "ipython3",
   "version": "3.12.3"
  }
 },
 "nbformat": 4,
 "nbformat_minor": 2
}
