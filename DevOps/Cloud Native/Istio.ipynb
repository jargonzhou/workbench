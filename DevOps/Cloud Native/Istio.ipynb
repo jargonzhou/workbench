{
 "cells": [
  {
   "cell_type": "markdown",
   "metadata": {},
   "source": [
    "# Istio\n",
    "\n",
    "- [Istio](https://istio.io/): Simplify observability, traffic management, security, and policy with the leading service mesh.\n",
    "\t- [Code](https://github.com/istio/istio)"
   ]
  },
  {
   "cell_type": "markdown",
   "metadata": {},
   "source": [
    "> What is Istio?\n",
    ">\n",
    "> Istio is **an open source service mesh** that layers transparently onto existing distributed applications. Istio’s powerful features provide a uniform and more efficient way to secure, connect, and monitor services. Istio is the path to *load balancing*, *service-to-service authentication*, and *monitoring* – with few or no service code changes. Its powerful **control plane** brings vital features, including:\n",
    "> - Secure service-to-service communication in a cluster with TLS encryption, strong identity-based authentication and authorization\n",
    "> - Automatic load balancing for HTTP, gRPC, WebSocket, and TCP traffic\n",
    "> - Fine-grained control of traffic behavior with rich routing rules, retries, failovers, and fault injection\n",
    "> - A pluggable policy layer and configuration API supporting access controls, rate limits and quotas\n",
    "> - Automatic metrics, logs, and traces for all traffic within a cluster, including cluster ingress and egress\n",
    ">\n",
    "> Istio is designed for extensibility and can handle a diverse range of deployment needs. Istio’s control plane runs on Kubernetes, and you can add applications deployed in that cluster to your mesh, extend the mesh to other clusters, or even connect VMs or other endpoints running outside of Kubernetes."
   ]
  },
  {
   "cell_type": "markdown",
   "metadata": {},
   "source": [
    "# Books"
   ]
  },
  {
   "cell_type": "markdown",
   "metadata": {},
   "source": [
    "## Istio in Action"
   ]
  },
  {
   "cell_type": "markdown",
   "metadata": {},
   "source": [
    "- Christian E. Posta, Rinor Maloku. **Istio in Action**. Manning: 2022.\n",
    "  - [Code](https://github.com/istioinaction/book-source-code)\n",
    "  - Istio 1.13.0, Docker Desktop 1.21.1\n",
    "  - PART 1 **Understanding Istio**: 1-3\n",
    "  - PART 2 **Securing, Observing, And Controlling Your Service's Network Traffic**: 4-9\n",
    "  - PART 3 **Istio Day-2 Operations**: 10-11\n",
    "  - PART 4 **Istio In Your Organization**: 12-14\n",
    "\n",
    "Sample applications:\n",
    "\n",
    "| app     | implement language | dependencies                                |\n",
    "| :------ | :----------------- | :------------------------------------------ |\n",
    "| catalog | NodeJS 14          | express, json-server, faker, lodash         |\n",
    "| forum   | Go 1.12            | https://github.com/julienschmidt/httprouter |\n",
    "| webapp  | Go 1.16            | https://github.com/beego/beego              |"
   ]
  },
  {
   "cell_type": "markdown",
   "metadata": {},
   "source": [
    "- PART 1 **Understanding Istio**: 1-3\n",
    "- PART 2 **Securing, Observing, And Controlling Your Service's Network Traffic**: 4-9\n",
    "- PART 3 **Istio Day-2 Operations**: 10-11\n",
    "- PART 4 **Istio In Your Organization**: 12-14\n",
    "\n",
    "| #   | Title                                                                       |\n",
    "| :-- | :-------------------------------------------------------------------------- |\n",
    "| 1   | Introducing the Istio service mesh                                          |\n",
    "| 2   | First steps with Istio                                                      |\n",
    "| 3   | Istio’s data plane: The Envoy proxy                                         |\n",
    "| 4   | Istio gateways: Getting traffic into a cluster                              |\n",
    "| 5   | Traffic control: Fine-grained traffic routing                               |\n",
    "| 6   | Resilience: Solving application networking challenges                       |\n",
    "| 7   | Observability: Understanding the behavior of your services                  |\n",
    "| 8   | Observability: Visualizing network behavior with Grafana, Jaeger, and Kiali |\n",
    "| 9   | Securing microservice communication                                         |\n",
    "| 10  | Troubleshooting the data plane                                              |\n",
    "| 11  | Performance-tuning the control plane                                        |\n",
    "| 12  | Scaling Istio in your organization                                          |\n",
    "| 13  | Incorporating virtual machine workloads into the mesh                       |\n",
    "| 14  | Extending Istio on the request path                                         |"
   ]
  },
  {
   "cell_type": "markdown",
   "metadata": {},
   "source": [
    "## Istio权威指南"
   ]
  },
  {
   "cell_type": "markdown",
   "metadata": {},
   "source": [
    "- 华为云云原生团队.《Istio权威指南》（上下册 ）, 2023.\n",
    "\n",
    "> 你好, Istio\n",
    "\n",
    "服务治理包括:\n",
    "- 流量管理(Traffic Management)\n",
    "- 可观测性(Observability)\n",
    "- 安全(Security)\n",
    "\n",
    "示例应用: 天气预报\n",
    "- forecast: Node.js\n",
    "- recommendation: Java\n",
    "\n",
    "Istio与Kubernetes:\n",
    "- Istio在Kubernetes上添加了一层面向应用的服务管理平台和基础设置, 提供了七层流量管理功能.\n",
    "- Kubernetes Workload: Istio复用了Kubernetes的Service定义, 数据面组件是每个Pod中部署的Sidecar.\n",
    "- 网络: Istio基于Kubernetes的CNI实现了一个Istio CNI插件, 在Pod创建或销毁的时候执行服务网格拦截流量的规则, 将业务流量转发到数据面代理.\n",
    "\n",
    "> Istio的架构概述\n",
    "\n",
    "> 流量治理的原理\n",
    "\n",
    "> 可观测性和策略控制的原理\n",
    "\n",
    "> 服务安全的原理\n",
    "\n",
    "> 服务网格数据面代理Sidecar\n",
    "\n",
    "> 异构基础设施\n",
    "\n",
    "\n",
    "> 环境准备\n",
    "\n",
    "> 可观测性实践\n",
    "\n",
    "> 灰度发布实践\n",
    "\n",
    "> 流量治理实践\n",
    "\n",
    "> 服务安全实践\n",
    "\n",
    "> 网管流量实践\n",
    "\n",
    "> 异构基础设施实践"
   ]
  },
  {
   "cell_type": "markdown",
   "metadata": {},
   "source": [
    "# Concepts"
   ]
  },
  {
   "cell_type": "markdown",
   "metadata": {},
   "source": [
    "- Traffic Management\n",
    "\t- Introducing Istio traffic management\n",
    "\t- Virtual services\n",
    "\t- Destination rules\n",
    "\t- Gateways\n",
    "\t- Service entries\n",
    "\t- Sidecars\n",
    "\t- Network resilience and testing\n",
    "- Security\n",
    "\t- High-level architecture\n",
    "\t- Istio identity\n",
    "\t- Identity and certificate management\n",
    "\t- Authentication\n",
    "\t- Authorization\n",
    "- Observability\n",
    "\t- Metrics\n",
    "\t- Distributed traces\n",
    "\t- Access logs\n",
    "- Extensibility\n",
    "\t- High-level architecture\n",
    "\t- Example\n",
    "\t- Ecosystem"
   ]
  },
  {
   "cell_type": "markdown",
   "metadata": {},
   "source": [
    "# Deployment"
   ]
  },
  {
   "cell_type": "markdown",
   "metadata": {},
   "source": [
    "Architecture:\n",
    "- **Envoy**: Sidecar proxies per microservice to handle ingress/egress traffic between services in the cluster and from a service to external services. The proxies form a secure microservice mesh providing a rich set of functions like discovery, rich layer-7 routing, circuit breakers, policy enforcement and telemetry recording/reporting functions.\n",
    "- **Istiod**: The Istio control plane. It provides service discovery, configuration and certificate management.\n",
    "\t- Introducing istiod: simplifying the control plane: https://istio.io/latest/blog/2020/istiod/\n",
    "\t- **Pilot**: Responsible for configuring the proxies at runtime.\n",
    "\t- **Citadel**: Responsible for certificate issuance and rotation.\n",
    "\t- **Galley**: Responsible for validating, ingesting, aggregating, transforming and distributing config within Istio.\n",
    "- **Operator**: The component provides user friendly options to operate the Istio service mesh.\n",
    "\t- the sidecar injector\n",
    "\n",
    "![Istio Architecture](https://istio.io/latest/docs/ops/deployment/architecture/arch.svg)\n"
   ]
  },
  {
   "cell_type": "markdown",
   "metadata": {},
   "source": [
    "# CLI"
   ]
  },
  {
   "cell_type": "markdown",
   "metadata": {},
   "source": [
    "- instsall-cni\n",
    "- istioctl\n",
    "- operator\n",
    "- pilot-agent\n",
    "- pilot-discovery"
   ]
  },
  {
   "cell_type": "markdown",
   "metadata": {},
   "source": [
    "# Kiali\n",
    "\n",
    "- [Kiali - The Console for Istio Service Mesh](https://kiali.io/)\n",
    "![](https://kiali.io/images/documentation/architecture/arch.png)"
   ]
  }
 ],
 "metadata": {
  "language_info": {
   "name": "python"
  }
 },
 "nbformat": 4,
 "nbformat_minor": 2
}
