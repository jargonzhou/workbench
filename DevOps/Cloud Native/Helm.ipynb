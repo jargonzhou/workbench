{
 "cells": [
  {
   "cell_type": "markdown",
   "metadata": {},
   "source": [
    "# Helm\n",
    "- [Home](https://helm.sh/)\n",
    "- The Kubernetes Helm Architecture: \n",
    "\t- [v2 (legacy)](https://v2.helm.sh/docs/architecture/)\n",
    "\t- [v3](https://helm.sh/docs/topics/architecture/)\n",
    "\n",
    "- [Artifact Hub](https://artifacthub.io/): Find, install and publish Kubernetes packages\n",
    "- [Bitnami Helm Charts](https://github.com/bitnami/charts)\n",
    "\n",
    "> Heml: The package manager for Kubernetes.\n",
    "\n",
    "Action Version: v2.h - 2021-05\n",
    "\n",
    "\n",
    "books:\n",
    "- Learning Helm, 2021"
   ]
  },
  {
   "cell_type": "markdown",
   "metadata": {},
   "source": [
    "# chart, config, release"
   ]
  },
  {
   "cell_type": "markdown",
   "metadata": {},
   "source": [
    "- 1. The **chart** is a bundle of information necessary to create an instance of a Kubernetes application.\n",
    "- 2. The **config** contains configuration information that can be merged into a packaged chart to create a releasable object.\n",
    "- 3. A **release** is a running instance of a chart, combined with a specific config."
   ]
  },
  {
   "cell_type": "markdown",
   "metadata": {},
   "source": [
    "## chart文件结构\n",
    "\n",
    "WordPress例:\n",
    "\n",
    "```\n",
    "wordpress/\n",
    "  Chart.yaml          # 包含了chart信息的YAML文件\n",
    "  LICENSE             # 可选: 包含chart许可证的纯文本文件\n",
    "  README.md           # 可选: 可读的README文件\n",
    "  values.yaml         # chart 默认的配置值\n",
    "  values.schema.json  # 可选: 一个使用JSON结构的values.yaml文件\n",
    "  charts/             # 包含chart依赖的其他chart\n",
    "  crds/               # 自定义资源的定义\n",
    "  templates/          # 模板目录， 当和values 结合时，可生成有效的Kubernetes manifest文件\n",
    "  templates/NOTES.txt # 可选: 包含简要使用说明的纯文本文件\n",
    "```"
   ]
  },
  {
   "cell_type": "markdown",
   "metadata": {},
   "source": [
    "## Chart.yaml\n",
    "\n",
    "```yaml\n",
    "apiVersion: chart API 版本 （必需）\n",
    "name: chart名称 （必需）\n",
    "version: 语义化2 版本（必需）\n",
    "kubeVersion: 兼容Kubernetes版本的语义化版本（可选）\n",
    "description: 一句话对这个项目的描述（可选）\n",
    "type: chart类型 （可选）: application(默认), library\n",
    "keywords:\n",
    "  - 关于项目的一组关键字（可选）\n",
    "home: 项目home页面的URL （可选）\n",
    "sources:\n",
    "  - 项目源码的URL列表（可选）\n",
    "dependencies: # chart 必要条件列表 （可选）\n",
    "  - name: chart名称 (nginx)\n",
    "    version: chart版本 (\"1.2.3\")\n",
    "    repository: 仓库URL (\"https://example.com/charts\") 或别名 (\"@repo-name\")\n",
    "    condition: （可选） 解析为布尔值的yaml路径，用于启用/禁用chart (e.g. subchart1.enabled)\n",
    "    tags: # （可选）\n",
    "      - 用于一次启用/禁用 一组chart的tag\n",
    "    enabled: （可选） 决定是否加载chart的布尔值\n",
    "    import-values: # （可选）\n",
    "      - ImportValue 保存源值到导入父键的映射。每项可以是字符串或者一对子/父列表项\n",
    "    alias: （可选） chart中使用的别名。当你要多次添加相同的chart时会很有用\n",
    "maintainers: # （可选）\n",
    "  - name: 维护者名字 （每个维护者都需要）\n",
    "    email: 维护者邮箱 （每个维护者可选）\n",
    "    url: 维护者URL （每个维护者可选）\n",
    "icon: 用做icon的SVG或PNG图片URL （可选）\n",
    "appVersion: 包含的应用版本（可选）。不需要是语义化的\n",
    "deprecated: 不被推荐的chart （可选，布尔值）\n",
    "annotations:\n",
    "  example: 按名称输入的批注列表 （可选）.\n",
    "```\n",
    "\n",
    "- 通过依赖导入子chart中的值: exports format, child-parent format"
   ]
  },
  {
   "cell_type": "markdown",
   "metadata": {},
   "source": [
    "## templates, values"
   ]
  },
  {
   "cell_type": "markdown",
   "metadata": {},
   "source": [
    "Helm渲染Chart时, 将templates/目录中的所有模板交给模板引擎, 生成K8S manifest文件.\n",
    "\n",
    "模板用Go模板语言编写, 使用[Sprig库](https://github.com/Masterminds/sprig)和一些[特殊函数](https://helm.sh/docs/howto/charts_tips_and_tricks/)\n",
    "\n",
    "给模板提供值: chart开发者提供values.yaml, chart用户在使用helm install时提供一个yaml文件; 后者会覆盖前者.\n",
    "\n",
    "templates/`_helpers.tpl`: 模板片段的默认文件, 不包含manifest.\n",
    "\n",
    "\n",
    "调试模板: [Debugging Templates](https://helm.sh/docs/chart_template_guide/debugging/)\n",
    "\n",
    "```\n",
    "helm template ./hk_task_chart\n",
    "helm install -f hk_task_chart\\values.yaml --dry-run --debug task-zjg ./hk_task_chart\n",
    "```\n"
   ]
  },
  {
   "cell_type": "markdown",
   "metadata": {},
   "source": [
    "## values.schema.json\n",
    "使用[JSON Schema](https://json-schema.org/)"
   ]
  },
  {
   "cell_type": "markdown",
   "metadata": {},
   "source": [
    "# Client, Library"
   ]
  },
  {
   "cell_type": "markdown",
   "metadata": {},
   "source": [
    "# CLI"
   ]
  },
  {
   "cell_type": "code",
   "execution_count": 1,
   "metadata": {},
   "outputs": [
    {
     "name": "stdout",
     "output_type": "stream",
     "text": [
      "The Kubernetes package manager\n",
      "\n",
      "Common actions for Helm:\n",
      "\n",
      "- helm search:    search for charts\n",
      "- helm pull:      download a chart to your local directory to view\n",
      "- helm install:   upload the chart to Kubernetes\n",
      "- helm list:      list releases of charts\n",
      "\n",
      "Environment variables:\n",
      "\n",
      "| Name                               | Description                                                                                                |\n",
      "|------------------------------------|------------------------------------------------------------------------------------------------------------|\n",
      "| $HELM_CACHE_HOME                   | set an alternative location for storing cached files.                                                      |\n",
      "| $HELM_CONFIG_HOME                  | set an alternative location for storing Helm configuration.                                                |\n",
      "| $HELM_DATA_HOME                    | set an alternative location for storing Helm data.                                                         |\n",
      "| $HELM_DEBUG                        | indicate whether or not Helm is running in Debug mode                                                      |\n",
      "| $HELM_DRIVER                       | set the backend storage driver. Values are: configmap, secret, memory, sql.                                |\n",
      "| $HELM_DRIVER_SQL_CONNECTION_STRING | set the connection string the SQL storage driver should use.                                               |\n",
      "| $HELM_MAX_HISTORY                  | set the maximum number of helm release history.                                                            |\n",
      "| $HELM_NAMESPACE                    | set the namespace used for the helm operations.                                                            |\n",
      "| $HELM_NO_PLUGINS                   | disable plugins. Set HELM_NO_PLUGINS=1 to disable plugins.                                                 |\n",
      "| $HELM_PLUGINS                      | set the path to the plugins directory                                                                      |\n",
      "| $HELM_REGISTRY_CONFIG              | set the path to the registry config file.                                                                  |\n",
      "| $HELM_REPOSITORY_CACHE             | set the path to the repository cache directory                                                             |\n",
      "| $HELM_REPOSITORY_CONFIG            | set the path to the repositories file.                                                                     |\n",
      "| $KUBECONFIG                        | set an alternative Kubernetes configuration file (default \"~/.kube/config\")                                |\n",
      "| $HELM_KUBEAPISERVER                | set the Kubernetes API Server Endpoint for authentication                                                  |\n",
      "| $HELM_KUBECAFILE                   | set the Kubernetes certificate authority file.                                                             |\n",
      "| $HELM_KUBEASGROUPS                 | set the Groups to use for impersonation using a comma-separated list.                                      |\n",
      "| $HELM_KUBEASUSER                   | set the Username to impersonate for the operation.                                                         |\n",
      "| $HELM_KUBECONTEXT                  | set the name of the kubeconfig context.                                                                    |\n",
      "| $HELM_KUBETOKEN                    | set the Bearer KubeToken used for authentication.                                                          |\n",
      "| $HELM_KUBEINSECURE_SKIP_TLS_VERIFY | indicate if the Kubernetes API server's certificate validation should be skipped (insecure)                |\n",
      "| $HELM_KUBETLS_SERVER_NAME          | set the server name used to validate the Kubernetes API server certificate                                 |\n",
      "| $HELM_BURST_LIMIT                  | set the default burst limit in the case the server contains many CRDs (default 100, -1 to disable)         |\n",
      "| $HELM_QPS                          | set the Queries Per Second in cases where a high number of calls exceed the option for higher burst values |\n",
      "\n",
      "Helm stores cache, configuration, and data based on the following configuration order:\n",
      "\n",
      "- If a HELM_*_HOME environment variable is set, it will be used\n",
      "- Otherwise, on systems supporting the XDG base directory specification, the XDG variables will be used\n",
      "- When no other location is set a default location will be used based on the operating system\n",
      "\n",
      "By default, the default directories depend on the Operating System. The defaults are listed below:\n",
      "\n",
      "| Operating System | Cache Path                | Configuration Path             | Data Path               |\n",
      "|------------------|---------------------------|--------------------------------|-------------------------|\n",
      "| Linux            | $HOME/.cache/helm         | $HOME/.config/helm             | $HOME/.local/share/helm |\n",
      "| macOS            | $HOME/Library/Caches/helm | $HOME/Library/Preferences/helm | $HOME/Library/helm      |\n",
      "| Windows          | %TEMP%\\helm               | %APPDATA%\\helm                 | %APPDATA%\\helm          |\n",
      "\n",
      "Usage:\n",
      "  helm [command]\n",
      "\n",
      "Available Commands:\n",
      "  completion  generate autocompletion scripts for the specified shell\n",
      "  create      create a new chart with the given name\n",
      "  dependency  manage a chart's dependencies\n",
      "  env         helm client environment information\n",
      "  get         download extended information of a named release\n",
      "  help        Help about any command\n",
      "  history     fetch release history\n",
      "  install     install a chart\n",
      "  lint        examine a chart for possible issues\n",
      "  list        list releases\n",
      "  package     package a chart directory into a chart archive\n",
      "  plugin      install, list, or uninstall Helm plugins\n",
      "  pull        download a chart from a repository and (optionally) unpack it in local directory\n",
      "  push        push a chart to remote\n",
      "  registry    login to or logout from a registry\n",
      "  repo        add, list, remove, update, and index chart repositories\n",
      "  rollback    roll back a release to a previous revision\n",
      "  search      search for a keyword in charts\n",
      "  show        show information of a chart\n",
      "  status      display the status of the named release\n",
      "  template    locally render templates\n",
      "  test        run tests for a release\n",
      "  uninstall   uninstall a release\n",
      "  upgrade     upgrade a release\n",
      "  verify      verify that a chart at the given path has been signed and is valid\n",
      "  version     print the client version information\n",
      "\n",
      "Flags:\n",
      "      --burst-limit int                 client-side default throttling limit (default 100)\n",
      "      --debug                           enable verbose output\n",
      "  -h, --help                            help for helm\n",
      "      --kube-apiserver string           the address and the port for the Kubernetes API server\n",
      "      --kube-as-group stringArray       group to impersonate for the operation, this flag can be repeated to specify multiple groups.\n",
      "      --kube-as-user string             username to impersonate for the operation\n",
      "      --kube-ca-file string             the certificate authority file for the Kubernetes API server connection\n",
      "      --kube-context string             name of the kubeconfig context to use\n",
      "      --kube-insecure-skip-tls-verify   if true, the Kubernetes API server's certificate will not be checked for validity. This will make your HTTPS connections insecure\n",
      "      --kube-tls-server-name string     server name to use for Kubernetes API server certificate validation. If it is not provided, the hostname used to contact the server is used\n",
      "      --kube-token string               bearer token used for authentication\n",
      "      --kubeconfig string               path to the kubeconfig file\n",
      "  -n, --namespace string                namespace scope for this request\n",
      "      --qps float32                     queries per second used when communicating with the Kubernetes API, not including bursting\n",
      "      --registry-config string          path to the registry config file (default \"C:\\\\Users\\\\zhouj\\\\AppData\\\\Roaming\\\\helm\\\\registry\\\\config.json\")\n",
      "      --repository-cache string         path to the file containing cached repository indexes (default \"C:\\\\Users\\\\zhouj\\\\AppData\\\\Local\\\\Temp\\\\helm\\\\repository\")\n",
      "      --repository-config string        path to the file containing repository names and URLs (default \"C:\\\\Users\\\\zhouj\\\\AppData\\\\Roaming\\\\helm\\\\repositories.yaml\")\n",
      "\n",
      "Use \"helm [command] --help\" for more information about a command.\n"
     ]
    }
   ],
   "source": [
    "!helm help"
   ]
  },
  {
   "cell_type": "code",
   "execution_count": 2,
   "metadata": {},
   "outputs": [
    {
     "name": "stdout",
     "output_type": "stream",
     "text": [
      "\n",
      "This command consists of multiple subcommands which can be used to\n",
      "get extended information about the release, including:\n",
      "\n",
      "- The values used to generate the release\n",
      "- The generated manifest file\n",
      "- The notes provided by the chart of the release\n",
      "- The hooks associated with the release\n",
      "- The metadata of the release\n",
      "\n",
      "Usage:\n",
      "  helm get [command]\n",
      "\n",
      "Available Commands:\n",
      "  all         download all information for a named release\n",
      "  hooks       download all hooks for a named release\n",
      "  manifest    download the manifest for a named release\n",
      "  metadata    This command fetches metadata for a given release\n",
      "  notes       download the notes for a named release\n",
      "  values      download the values file for a named release\n",
      "\n",
      "Flags:\n",
      "  -h, --help   help for get\n",
      "\n",
      "Global Flags:\n",
      "      --burst-limit int                 client-side default throttling limit (default 100)\n",
      "      --debug                           enable verbose output\n",
      "      --kube-apiserver string           the address and the port for the Kubernetes API server\n",
      "      --kube-as-group stringArray       group to impersonate for the operation, this flag can be repeated to specify multiple groups.\n",
      "      --kube-as-user string             username to impersonate for the operation\n",
      "      --kube-ca-file string             the certificate authority file for the Kubernetes API server connection\n",
      "      --kube-context string             name of the kubeconfig context to use\n",
      "      --kube-insecure-skip-tls-verify   if true, the Kubernetes API server's certificate will not be checked for validity. This will make your HTTPS connections insecure\n",
      "      --kube-tls-server-name string     server name to use for Kubernetes API server certificate validation. If it is not provided, the hostname used to contact the server is used\n",
      "      --kube-token string               bearer token used for authentication\n",
      "      --kubeconfig string               path to the kubeconfig file\n",
      "  -n, --namespace string                namespace scope for this request\n",
      "      --qps float32                     queries per second used when communicating with the Kubernetes API, not including bursting\n",
      "      --registry-config string          path to the registry config file (default \"C:\\\\Users\\\\zhouj\\\\AppData\\\\Roaming\\\\helm\\\\registry\\\\config.json\")\n",
      "      --repository-cache string         path to the file containing cached repository indexes (default \"C:\\\\Users\\\\zhouj\\\\AppData\\\\Local\\\\Temp\\\\helm\\\\repository\")\n",
      "      --repository-config string        path to the file containing repository names and URLs (default \"C:\\\\Users\\\\zhouj\\\\AppData\\\\Roaming\\\\helm\\\\repositories.yaml\")\n",
      "\n",
      "Use \"helm get [command] --help\" for more information about a command.\n"
     ]
    }
   ],
   "source": [
    "!helm get -h"
   ]
  },
  {
   "cell_type": "markdown",
   "metadata": {},
   "source": [
    "```shell\n",
    " 添加Helm仓库\n",
    "$ helm repo add stable https://charts.helm.sh/stable\n",
    "\n",
    " 搜索charts\n",
    "$ helm search repo stable\n",
    "\n",
    " 安装charts: release\n",
    "$ helm repo update\n",
    "$ helm install stable/mysql --generate-name\n",
    "Released smiling-penguin\n",
    "\n",
    " 查看chart信息\n",
    "$ helm show chart stable/mysql\n",
    "$ helm show all stable/mysql\n",
    "\n",
    " 列出release\n",
    "$ helm ls\n",
    "\n",
    " 卸载release\n",
    "$ helm uninstall smiling-penguin\n",
    " 查看release状态\n",
    "$ helm status smiling-penguin\n",
    "Status: UNINSTALLED\n",
    "```"
   ]
  }
 ],
 "metadata": {
  "kernelspec": {
   "display_name": "Python 3",
   "language": "python",
   "name": "python3"
  },
  "language_info": {
   "codemirror_mode": {
    "name": "ipython",
    "version": 3
   },
   "file_extension": ".py",
   "mimetype": "text/x-python",
   "name": "python",
   "nbconvert_exporter": "python",
   "pygments_lexer": "ipython3",
   "version": "3.12.3"
  }
 },
 "nbformat": 4,
 "nbformat_minor": 2
}
