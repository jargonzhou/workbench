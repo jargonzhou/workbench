{
 "cells": [
  {
   "cell_type": "markdown",
   "id": "e3a21ebc",
   "metadata": {},
   "source": [
    "# Docker\n",
    "* https://www.docker.com/\n",
    "\n",
    "books:\n",
    "* (Docker A) 浙江大学SEL实验室. **Docker容器与容器云**. 2016-10, 2. edition. 人民邮电出版社."
   ]
  },
  {
   "cell_type": "markdown",
   "id": "b591924c",
   "metadata": {},
   "source": [
    "# Docker网络"
   ]
  },
  {
   "cell_type": "markdown",
   "id": "0252b098",
   "metadata": {},
   "source": [
    "> (Docker A) P.110\n",
    "\n",
    "驱动:\n",
    "* bridge - 默认\n",
    "  * 将Docker容器连接到Docker网桥上, 与外界通信使用NAT.\n",
    "* host\n",
    "  * 不创建独立的network namespace, Docker容器与宿主机共用一个network namespace.\n",
    "* overlay\n",
    "  * 采用VXLAN方式: 隧道技术, 将一种协议包装在另一个写一种传输, 用于连接使用不同网络而被隔离的主机.\n",
    "* remote\n",
    "  * 调用用户的网络驱动插件.\n",
    "* null\n",
    "  * Docker容器有自己的network namespace, 未进行网络配置, 需要用户添加网卡,配置IP等.\n"
   ]
  }
 ],
 "metadata": {
  "language_info": {
   "name": "python"
  }
 },
 "nbformat": 4,
 "nbformat_minor": 5
}
