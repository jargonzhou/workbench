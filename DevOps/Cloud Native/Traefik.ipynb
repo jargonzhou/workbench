{
 "cells": [
  {
   "cell_type": "markdown",
   "metadata": {},
   "source": [
    "# Traefik\n",
    "* https://traefik.io/"
   ]
  },
  {
   "cell_type": "markdown",
   "metadata": {},
   "source": [
    "> Traefik is an open-source **Edge Router** that makes publishing your services a fun and easy experience. It receives requests on behalf of your system and finds out which components are responsible for handling them."
   ]
  },
  {
   "cell_type": "markdown",
   "metadata": {},
   "source": [
    "# Concepts"
   ]
  },
  {
   "cell_type": "markdown",
   "metadata": {},
   "source": [
    "1. [EntryPoints](https://doc.traefik.io/traefik/routing/entrypoints/): EntryPoints are the network entry points into Traefik. They define the port which will receive the packets, and whether to listen for TCP or UDP.\n",
    "2. [Routers](https://doc.traefik.io/traefik/routing/routers/): A router is in charge of connecting incoming requests to the services that can handle them.\n",
    "3. [Middlewares](https://doc.traefik.io/traefik/middlewares/overview/): Attached to the routers, middlewares can modify the requests or responses before they are sent to your service\n",
    "4. [Services](https://doc.traefik.io/traefik/routing/services/): Services are responsible for configuring how to reach the actual services that will eventually handle the incoming requests.\n",
    "\n",
    "**Edge Router**\n",
    "Traefik is an Edge Router; this means that it's the door to your platform, and that it intercepts and routes every incoming request: it knows all the logic and every rule that determine which services handle which requests (based on the path, the host, headers, etc.).\n",
    "\n",
    "**Auto Service Discovery**\n",
    "Where traditionally edge routers (or reverse proxies) need a configuration file that contains every possible route to your services, Traefik gets them from the services themselves.\n",
    "Deploying your services, you attach information that tells Traefik the characteristics of the requests the services can handle."
   ]
  },
  {
   "cell_type": "markdown",
   "metadata": {},
   "source": [
    "# Provider: Docker"
   ]
  },
  {
   "cell_type": "markdown",
   "metadata": {},
   "source": [
    "- https://doc.traefik.io/traefik/providers/docker/\n",
    "- routing: https://doc.traefik.io/traefik/routing/providers/docker/\n"
   ]
  },
  {
   "cell_type": "markdown",
   "metadata": {},
   "source": [
    "# Middlewares"
   ]
  },
  {
   "cell_type": "markdown",
   "metadata": {},
   "source": [
    "## HTTP\n",
    "* https://doc.traefik.io/traefik/middlewares/http/overview/\n",
    "\n",
    "|Middleware|Purpose|Area|\n",
    "|---|---|---|\n",
    "|[AddPrefix](https://doc.traefik.io/traefik/middlewares/http/addprefix/)|Adds a Path Prefix|Path Modifier|\n",
    "|[BasicAuth](https://doc.traefik.io/traefik/middlewares/http/basicauth/)|Adds Basic Authentication|Security, Authentication|\n",
    "|[Buffering](https://doc.traefik.io/traefik/middlewares/http/buffering/)|Buffers the request/response|Request Lifecycle|\n",
    "|[Chain](https://doc.traefik.io/traefik/middlewares/http/chain/)|Combines multiple pieces of middleware|Misc|\n",
    "|[CircuitBreaker](https://doc.traefik.io/traefik/middlewares/http/circuitbreaker/)|Prevents calling unhealthy services|Request Lifecycle|\n",
    "|[Compress](https://doc.traefik.io/traefik/middlewares/http/compress/)|Compresses the response|Content Modifier|\n",
    "|[ContentType](https://doc.traefik.io/traefik/middlewares/http/contenttype/)|Handles Content-Type auto-detection|Misc|\n",
    "|[DigestAuth](https://doc.traefik.io/traefik/middlewares/http/digestauth/)|Adds Digest Authentication|Security, Authentication|\n",
    "|[Errors](https://doc.traefik.io/traefik/middlewares/http/errorpages/)|Defines custom error pages|Request Lifecycle|\n",
    "|[ForwardAuth](https://doc.traefik.io/traefik/middlewares/http/forwardauth/)|Delegates Authentication|Security, Authentication|\n",
    "|[Headers](https://doc.traefik.io/traefik/middlewares/http/headers/)|Adds / Updates headers|Security|\n",
    "|[IPAllowList](https://doc.traefik.io/traefik/middlewares/http/ipallowlist/)|Limits the allowed client IPs|Security, Request lifecycle|\n",
    "|[InFlightReq](https://doc.traefik.io/traefik/middlewares/http/inflightreq/)|Limits the number of simultaneous connections|Security, Request lifecycle|\n",
    "|[PassTLSClientCert](https://doc.traefik.io/traefik/middlewares/http/passtlsclientcert/)|Adds Client Certificates in a Header|Security|\n",
    "|[RateLimit](https://doc.traefik.io/traefik/middlewares/http/ratelimit/)|Limits the call frequency|Security, Request lifecycle|\n",
    "|[RedirectScheme](https://doc.traefik.io/traefik/middlewares/http/redirectscheme/)|Redirects based on scheme|Request lifecycle|\n",
    "|[RedirectRegex](https://doc.traefik.io/traefik/middlewares/http/redirectregex/)|Redirects based on regex|Request lifecycle|\n",
    "|[ReplacePath](https://doc.traefik.io/traefik/middlewares/http/replacepath/)|Changes the path of the request|Path Modifier|\n",
    "|[ReplacePathRegex](https://doc.traefik.io/traefik/middlewares/http/replacepathregex/)|Changes the path of the request|Path Modifier|\n",
    "|[Retry](https://doc.traefik.io/traefik/middlewares/http/retry/)|Automatically retries in case of error|Request lifecycle|\n",
    "|[StripPrefix](https://doc.traefik.io/traefik/middlewares/http/stripprefix/)|Changes the path of the request|Path Modifier|\n",
    "|[StripPrefixRegex](https://doc.traefik.io/traefik/middlewares/http/stripprefixregex/)|Changes the path of the request|Path Modifier|"
   ]
  },
  {
   "cell_type": "markdown",
   "metadata": {},
   "source": [
    "## TCP\n",
    "* https://doc.traefik.io/traefik/middlewares/tcp/overview/\n",
    "\n",
    "| Middleware                                                                   | Purpose                                        | Area                        |\n",
    "| ---------------------------------------------------------------------------- | ---------------------------------------------- | --------------------------- |\n",
    "| [InFlightConn](https://doc.traefik.io/traefik/middlewares/tcp/inflightconn/) | Limits the number of simultaneous connections. | Security, Request lifecycle |\n",
    "| [IPAllowList](https://doc.traefik.io/traefik/middlewares/tcp/ipallowlist/)   | Limit the allowed client IPs.                  | Security, Request lifecycle |"
   ]
  }
 ],
 "metadata": {
  "language_info": {
   "name": "python"
  }
 },
 "nbformat": 4,
 "nbformat_minor": 2
}
