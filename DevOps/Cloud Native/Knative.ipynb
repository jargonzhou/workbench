{
 "cells": [
  {
   "cell_type": "markdown",
   "metadata": {},
   "source": [
    "# Knative\n",
    "* https://knative.dev\n",
    "\n",
    "Books:\n",
    "- Chester, Jacques. **Knative in Action**. 2021. Manning."
   ]
  },
  {
   "cell_type": "code",
   "execution_count": 1,
   "metadata": {},
   "outputs": [
    {
     "name": "stdout",
     "output_type": "stream",
     "text": [
      "d:\\workspace\\github\\workbench\\DevOps\\Knative\n"
     ]
    }
   ],
   "source": [
    "# 工作目录\n",
    "%cd Knative"
   ]
  },
  {
   "cell_type": "markdown",
   "metadata": {},
   "source": [
    "# The Knative CLI: kn"
   ]
  },
  {
   "cell_type": "code",
   "execution_count": 87,
   "metadata": {},
   "outputs": [
    {
     "name": "stdout",
     "output_type": "stream",
     "text": [
      "Version:      v1.17.0\n",
      "Build Date:   2025-01-22 16:25:15\n",
      "Git Revision: f7347245\n",
      "Supported APIs:\n",
      "* Serving\n",
      "  - serving.knative.dev/v1 (knative-serving v1.17.0)\n",
      "* Eventing\n",
      "  - sources.knative.dev/v1 (knative-eventing v1.17.0)\n",
      "  - eventing.knative.dev/v1 (knative-eventing v1.17.0)\n"
     ]
    }
   ],
   "source": [
    "!kn version"
   ]
  },
  {
   "cell_type": "code",
   "execution_count": 88,
   "metadata": {},
   "outputs": [],
   "source": [
    "# terminal 1: 指定Kubernetes版本\n",
    "# !kn quickstart minikube -k 1.32.0 \n",
    "# Running Knative Quickstart using Minikube\n",
    "# Minikube version is: v1.35.0\n",
    "\n",
    "# ☸ Creating Minikube cluster...\n",
    "# 😄  Microsoft Windows 11 Home China 10.0.26100.3476 Build 26100.3476 上的 [knative] minikube v1.35.0\n",
    "# ✨  根据用户配置使用 docker 驱动程序\n",
    "# 📌  使用具有 root 权限的 Docker Desktop 驱动程序\n",
    "# 👍  在集群中 \"knative\" 启动节点 \"knative\" primary control-plane\n",
    "# 🚜  正在拉取基础镜像 v0.0.46 ...\n",
    "# 🔥  创建 docker container（CPU=3，内存=3072MB）...\n",
    "# ❗  从 Minikube 的 container 内部连接到 https://registry.k8s.io/ 失败\n",
    "# 💡  要获取新的外部镜像，可能需要配置代理：https://minikube.sigs.k8s.io/docs/reference/networking/proxy/\n",
    "# 🐳  正在 Docker 27.4.1 中准备 Kubernetes v1.32.0…\n",
    "#     ▪ 正在生成证书和密钥...\n",
    "#     ▪ 正在启动控制平面...\n",
    "#     ▪ 配置 RBAC 规则 ...\n",
    "# 🔗  配置 bridge CNI (Container Networking Interface) ...\n",
    "# 🔎  正在验证 Kubernetes 组件...\n",
    "#     ▪ 正在使用镜像 gcr.io/k8s-minikube/storage-provisioner:v5\n",
    "# ╭─────────────────────────────────────────────────────────────────╮\n",
    "# │                                                                 │\n",
    "# │    注册表插件 docker Driver 使用端口 51572 代替默认端口 5000    │\n",
    "# │                                                                 │\n",
    "# ╰─────────────────────────────────────────────────────────────────╯\n",
    "# 📘  更多信息，请参阅 https://minikube.sigs.k8s.io/docs/drivers/docker\n",
    "#     ▪ 正在使用镜像 gcr.io/k8s-minikube/kube-registry-proxy:0.0.8\n",
    "#     ▪ 正在使用镜像 docker.io/registry:2.8.3\n",
    "# 🔎  正在验证 registry 插件...\n",
    "# E0313 10:06:08.526283   21804 pod_ready.go:67] WaitExtra: waitPodCondition: error getting pod \"coredns-668d6bf9bc-tlfp8\" in \"kube-system\" namespace (skipping!): pods \"coredns-668d6bf9bc-tlfp8\" not found\n",
    "# 🌟  启用插件： storage-provisioner, default-storageclass, registry\n",
    "\n",
    "# ❗  C:\\Program Files\\Docker\\Docker\\resources\\bin\\kubectl.exe 的版本为 1.27.2，可能与 Kubernetes 1.32.0 不兼容。\n",
    "#     ▪ 想要使用 kubectl v1.32.0 吗？尝试使用 'minikube kubectl -- get pods -A' 命令\n",
    "# 🏄  完成！kubectl 现在已配置，默认使用\"knative\"集群和\"default\"命名空间\n",
    "\n",
    "\n",
    "# To finish setting up networking for minikube, run the following command in a separate terminal window:\n",
    "#     minikube tunnel --profile knative\n",
    "# The tunnel command must be running in a terminal window any time when using the knative quickstart environment.\n",
    "\n",
    "# Press the Enter key to continue\n",
    "\n",
    "# 🍿 Installing Knative Serving v1.17.0 ...\n",
    "#     CRDs installed...\n",
    "#     Core installed...\n",
    "#     Finished installing Knative Serving\n",
    "# 🕸️ Installing Kourier networking layer v1.17.0 ...\n",
    "#     Kourier installed...\n",
    "#     Ingress patched...\n",
    "#     Finished installing Kourier Networking layer\n",
    "# 🕸️ Configuring Kourier for Minikube...\n",
    "#     Domain DNS set up...\n",
    "#     Finished configuring Kourier\n",
    "# 🔥 Installing Knative Eventing v1.17.0 ...\n",
    "#     CRDs installed...\n",
    "#     Core installed...\n",
    "#     In-memory channel installed...\n",
    "#     Mt-channel broker installed...\n",
    "#     Example broker installed...\n",
    "#     Finished installing Knative Eventing\n",
    "# 🚀 Knative install took: 25m4s\n",
    "# 🎉 Now have some fun with Serverless and Event Driven Apps!"
   ]
  },
  {
   "cell_type": "code",
   "execution_count": 89,
   "metadata": {},
   "outputs": [],
   "source": [
    "# terminal 2\n",
    "# !minikube tunnel --profile knative\n",
    "# ✅  隧道成功启动\n",
    "\n",
    "# 📌  注意：请不要关闭此终端，因为此进程必须保持活动状态才能访问隧道......"
   ]
  },
  {
   "cell_type": "code",
   "execution_count": 90,
   "metadata": {},
   "outputs": [
    {
     "name": "stdout",
     "output_type": "stream",
     "text": [
      "|----------|-----------|---------|--------------|------|---------|---------|-------|----------------|--------------------|\n",
      "| Profile  | VM Driver | Runtime |      IP      | Port | Version | Status  | Nodes | Active Profile | Active Kubecontext |\n",
      "|----------|-----------|---------|--------------|------|---------|---------|-------|----------------|--------------------|\n",
      "| knative  | docker    | docker  | 192.168.58.2 | 8443 | v1.32.0 | OK      |     1 |                | *                  |\n",
      "| minikube | docker    | docker  | 192.168.49.2 | 8443 | v1.32.0 | Stopped |     1 | *              |                    |\n",
      "|----------|-----------|---------|--------------|------|---------|---------|-------|----------------|--------------------|\n"
     ]
    }
   ],
   "source": [
    "!minikube profile list"
   ]
  },
  {
   "cell_type": "code",
   "execution_count": 91,
   "metadata": {},
   "outputs": [
    {
     "name": "stdout",
     "output_type": "stream",
     "text": [
      "* Microsoft Windows 11 Home China 10.0.26100.3476 Build 26100.3476 上的 [knative] minikube v1.35.0\n",
      "* 根据现有的配置文件使用 docker 驱动程序\n",
      "* 在集群中 \"knative\" 启动节点 \"knative\" primary control-plane\n",
      "* 正在拉取基础镜像 v0.0.46 ...\n",
      "* 正在更新运行中的 docker \"knative\" container ...\n",
      "* 正在 Docker 27.4.1 中准备 Kubernetes v1.32.0…\n",
      "* 正在验证 Kubernetes 组件...\n",
      "  - 正在使用镜像 gcr.io/k8s-minikube/storage-provisioner:v5\n",
      "╭─────────────────────────────────────────────────────────────────╮\n",
      "│                                                                 │\n",
      "│    注册表插件 docker Driver 使用端口 53601 代替默认端口 5000    │\n",
      "│                                                                 │\n",
      "╰─────────────────────────────────────────────────────────────────╯\n",
      "* 更多信息，请参阅 https://minikube.sigs.k8s.io/docs/drivers/docker\n",
      "  - 正在使用镜像 gcr.io/k8s-minikube/kube-registry-proxy:0.0.8\n",
      "  - 正在使用镜像 docker.io/registry:2.8.3\n",
      "* 正在验证 registry 插件...\n",
      "* 启用插件： storage-provisioner, default-storageclass, registry\n",
      "\n",
      "  - 想要使用 kubectl v1.32.0 吗？尝试使用 'minikube kubectl -- get pods -A' 命令\n",
      "* 完成！kubectl 现在已配置，默认使用\"knative\"集群和\"default\"命名空间\n"
     ]
    },
    {
     "name": "stderr",
     "output_type": "stream",
     "text": [
      "! 从 Minikube 的 container 内部连接到 https://registry.k8s.io/ 失败\n",
      "* 要获取新的外部镜像，可能需要配置代理：https://minikube.sigs.k8s.io/docs/reference/networking/proxy/\n",
      "! C:\\Program Files\\Docker\\Docker\\resources\\bin\\kubectl.exe 的版本为 1.27.2，可能与 Kubernetes 1.32.0 不兼容。\n"
     ]
    }
   ],
   "source": [
    "# 启动knative集群\n",
    "# --force: 跳过验证\n",
    "!minikube start -p knative"
   ]
  },
  {
   "cell_type": "markdown",
   "metadata": {},
   "source": [
    "# tutorial\n",
    "* https://knative.dev/docs/getting-started/first-service/"
   ]
  },
  {
   "cell_type": "code",
   "execution_count": 92,
   "metadata": {},
   "outputs": [],
   "source": [
    "# !docker pull ghcr.io/knative/helloworld-go:latest"
   ]
  },
  {
   "cell_type": "code",
   "execution_count": 93,
   "metadata": {},
   "outputs": [
    {
     "name": "stderr",
     "output_type": "stream",
     "text": [
      "Error: Internal error occurred: failed calling webhook \"webhook.serving.knative.dev\": failed to call webhook: Post \"https://webhook.knative-serving.svc:443/defaulting?timeout=10s\": dial tcp 10.97.165.103:443: connect: no route to host\n",
      "Run 'kn --help' for usage\n"
     ]
    }
   ],
   "source": [
    "!kn service create hello \\\n",
    "  --image ghcr.io/knative/helloworld-go:latest \\\n",
    "  --port 8080 \\\n",
    "  --env TARGET=World"
   ]
  },
  {
   "cell_type": "code",
   "execution_count": 94,
   "metadata": {},
   "outputs": [
    {
     "name": "stdout",
     "output_type": "stream",
     "text": [
      "kn is the command line interface for managing Knative Serving and Eventing resources\n",
      "\n",
      "Find more information about Knative at: https://knative.dev\n",
      "\n",
      "Serving Commands:\n",
      "  service      Manage Knative services\n",
      "  revision     Manage service revisions\n",
      "  route        List and describe service routes\n",
      "  domain       Manage domain mappings\n",
      "  container    Manage service's containers (experimental)\n",
      "\n",
      "Eventing Commands:\n",
      "  source       Manage event sources\n",
      "  broker       Manage message brokers\n",
      "  trigger      Manage event triggers\n",
      "  channel      Manage event channels\n",
      "  subscription Manage event subscriptions\n",
      "  eventtype    Manage eventtypes\n",
      "\n",
      "Other Commands:\n",
      "  plugin       Manage kn plugins\n",
      "  secret       Manage secrets\n",
      "  completion   Output shell completion code\n",
      "  version      Show the version of this client\n",
      "\n",
      "Plugins:\n",
      "  func        C:\\Users\\zhouj\\bin\\kn-func.exe\n",
      "  quickstart  C:\\Users\\zhouj\\bin\\kn-quickstart.exe\n",
      "\n",
      "\n",
      "Use \"kn <command> --help\" for more information about a given command.\n",
      "Use \"kn options\" for a list of global command-line options (applies to all commands).\n"
     ]
    }
   ],
   "source": [
    "!kn help"
   ]
  },
  {
   "cell_type": "code",
   "execution_count": 95,
   "metadata": {},
   "outputs": [
    {
     "name": "stdout",
     "output_type": "stream",
     "text": [
      "No services found.\n"
     ]
    }
   ],
   "source": [
    "!kn service list"
   ]
  },
  {
   "cell_type": "code",
   "execution_count": 96,
   "metadata": {},
   "outputs": [],
   "source": [
    "# !curl -s http://hello.default.127.0.0.1.sslip.io"
   ]
  },
  {
   "cell_type": "code",
   "execution_count": 97,
   "metadata": {},
   "outputs": [
    {
     "name": "stderr",
     "output_type": "stream",
     "text": [
      "Error: services.serving.knative.dev \"hello\" not found\n",
      "Run 'kn --help' for usage\n"
     ]
    }
   ],
   "source": [
    "# 清理\n",
    "!kn service delete hello"
   ]
  },
  {
   "cell_type": "markdown",
   "metadata": {},
   "source": [
    "# Functions\n",
    "* references: https://github.com/knative/func/blob/main/docs/reference/func.md"
   ]
  },
  {
   "cell_type": "code",
   "execution_count": 98,
   "metadata": {},
   "outputs": [
    {
     "name": "stdout",
     "output_type": "stream",
     "text": [
      "v0.44.0\n"
     ]
    }
   ],
   "source": [
    "!func version"
   ]
  },
  {
   "cell_type": "code",
   "execution_count": 99,
   "metadata": {},
   "outputs": [
    {
     "name": "stdout",
     "output_type": "stream",
     "text": [
      "v0.44.0\n"
     ]
    }
   ],
   "source": [
    "# $ mklink kn-func.exe func.exe\n",
    "# symbolic link created for kn-func.exe <<===>> func.exe\n",
    "!kn func version"
   ]
  },
  {
   "cell_type": "code",
   "execution_count": 100,
   "metadata": {},
   "outputs": [
    {
     "name": "stderr",
     "output_type": "stream",
     "text": [
      "Error: function at 'd:\\workspace\\github\\workbench\\DevOps\\Knative\\hello' already initialized\n"
     ]
    }
   ],
   "source": [
    "# 创建项目\n",
    "!func create -l go hello"
   ]
  },
  {
   "cell_type": "markdown",
   "metadata": {},
   "source": [
    "## run"
   ]
  },
  {
   "cell_type": "code",
   "execution_count": null,
   "metadata": {},
   "outputs": [],
   "source": [
    "# 运行\n",
    "!cd hello && func run --build --registry 192.168.3.178:5000\n",
    "# ...\n",
    "# Function built: 192.168.3.178:5000/hello:latest\n",
    "# Initializing HTTP function\n",
    "# listening on http port 8080\n",
    "# Running on host port 52550\n",
    "\n",
    "# Received request\n",
    "# \"POST / HTTP/1.1\\r\\nHost: localhost:52550\\r\\nAccept-Encoding: gzip\\r\\nContent-Length: 25\\r\\nContent-Type: application/json\\r\\nUser-Agent: Go-http-client/1.1\\r\\n\\r\\n{\\\"message\\\":\\\"Hello World\\\"}\""
   ]
  },
  {
   "cell_type": "code",
   "execution_count": 16,
   "metadata": {},
   "outputs": [
    {
     "name": "stdout",
     "output_type": "stream",
     "text": [
      "\"POST / HTTP/1.1\\r\\nHost: localhost:59677\\r\\nAccept-Encoding: gzip\\r\\nContent-Length: 25\\r\\nContent-Type: application/json\\r\\nUser-Agent: Go-http-client/1.1\\r\\n\\r\\n{\\\"message\\\":\\\"Hello World\\\"}\"\n"
     ]
    }
   ],
   "source": [
    "!cd hello && func invoke"
   ]
  },
  {
   "cell_type": "code",
   "execution_count": 18,
   "metadata": {},
   "outputs": [
    {
     "name": "stdout",
     "output_type": "stream",
     "text": [
      "no functions found\n"
     ]
    }
   ],
   "source": [
    "!func list -A"
   ]
  },
  {
   "cell_type": "code",
   "execution_count": null,
   "metadata": {},
   "outputs": [],
   "source": [
    "!func delete hello"
   ]
  },
  {
   "cell_type": "markdown",
   "metadata": {},
   "source": [
    "## build"
   ]
  },
  {
   "cell_type": "code",
   "execution_count": null,
   "metadata": {},
   "outputs": [],
   "source": [
    "!cd hello && func build --registry docker.io/zhoujiagen\n",
    "!docker push docker.io/zhoujiagen/hello"
   ]
  },
  {
   "cell_type": "markdown",
   "metadata": {},
   "source": [
    "## deploy"
   ]
  },
  {
   "cell_type": "code",
   "execution_count": null,
   "metadata": {},
   "outputs": [],
   "source": [
    "# !docker pull ghcr.io/knative/builder-jammy-tiny:latest\n",
    "\n",
    "# local registry test: NOT WOTK!!!\n",
    "# after building\n",
    "# add config to docker daemon.json: \"insecure-registries\": [\"192.168.3.178:5000\"]\n",
    "# !docker push localhost:5000/hello\n",
    "\n",
    "# USE docker.io!!!"
   ]
  },
  {
   "cell_type": "code",
   "execution_count": null,
   "metadata": {},
   "outputs": [],
   "source": [
    "!cd hello && func deploy --registry docker.io/zhoujiagen"
   ]
  },
  {
   "cell_type": "code",
   "execution_count": null,
   "metadata": {},
   "outputs": [
    {
     "name": "stderr",
     "output_type": "stream",
     "text": [
      "\n",
      "Service output:\n",
      "\n",
      "Error: deploy error. knative deployer failed to wait for the Knative Service to become ready: RevisionFailed: Revision \"hello-00001\" failed with message: Unable to fetch image \"docker.io/zhoujiagen/hello\": failed to resolve image to digest: Get \"https://index.docker.io/v2/\": context deadline exceeded.\n"
     ]
    }
   ],
   "source": [
    "!cd hello && func deploy --push=false --build=false --image docker.io/zhoujiagen/hello@sha256:1f17a60feb71dab2048abee66db80b069c73f08706340f6ed6ffd86b813b542c\n",
    "# Deploying image 'docker.io/zhoujiagen/hello@sha256:1f17a60feb71dab2048abee66db80b069c73f08706340f6ed6ffd86b813b542c', which has a digest. Build and push are disabled.\n",
    "# 🎯 Creating Triggers on the cluster\n",
    "# ✅ Function updated in namespace \"default\" and exposed at URL: \n",
    "#    http://hello.default.127.0.0.1.sslip.io"
   ]
  },
  {
   "cell_type": "code",
   "execution_count": 24,
   "metadata": {},
   "outputs": [
    {
     "name": "stdout",
     "output_type": "stream",
     "text": [
      "NAME   NAMESPACE  RUNTIME  URL                                      READY\n",
      "hello  default    go       http://hello.default.127.0.0.1.sslip.io  True\n"
     ]
    }
   ],
   "source": [
    "!kn func list -A"
   ]
  },
  {
   "cell_type": "code",
   "execution_count": 31,
   "metadata": {},
   "outputs": [
    {
     "name": "stdout",
     "output_type": "stream",
     "text": [
      "\"POST / HTTP/1.1\\r\\nHost: hello.default.127.0.0.1.sslip.io\\r\\nAccept-Encoding: gzip\\r\\nContent-Length: 25\\r\\nContent-Type: application/json\\r\\nForwarded: for=10.244.0.82;proto=http\\r\\nK-Proxy-Request: activator\\r\\nUser-Agent: Go-http-client/1.1\\r\\nX-Forwarded-For: 10.244.0.82, 10.244.0.93\\r\\nX-Forwarded-Proto: http\\r\\nX-Request-Id: 6d027a64-2696-451e-b390-347ab8b86014\\r\\n\\r\\n{\\\"message\\\":\\\"Hello World\\\"}\"\n"
     ]
    }
   ],
   "source": [
    "!cd hello && func invoke"
   ]
  },
  {
   "cell_type": "code",
   "execution_count": 33,
   "metadata": {},
   "outputs": [
    {
     "name": "stdout",
     "output_type": "stream",
     "text": [
      "\"POST / HTTP/1.1\\r\\nHost: hello.default.127.0.0.1.sslip.io\\r\\nAccept: */*\\r\\nContent-Length: 0\\r\\nForwarded: for=10.244.0.82;proto=http\\r\\nK-Proxy-Request: activator\\r\\nUser-Agent: curl/8.10.1\\r\\nX-Forwarded-For: 10.244.0.82, 10.244.0.93\\r\\nX-Forwarded-Proto: http\\r\\nX-Request-Id: 889c933e-9b9c-4724-8d50-e4894db87aba\\r\\n\\r\\n\"\n"
     ]
    }
   ],
   "source": [
    "!curl -s -X POST http://hello.default.127.0.0.1.sslip.io"
   ]
  },
  {
   "cell_type": "code",
   "execution_count": 45,
   "metadata": {},
   "outputs": [
    {
     "name": "stdout",
     "output_type": "stream",
     "text": [
      "no functions found in namespace 'default'\n"
     ]
    },
    {
     "name": "stderr",
     "output_type": "stream",
     "text": [
      "Error: function not found\n"
     ]
    }
   ],
   "source": [
    "!func list\n",
    "!func delete hello"
   ]
  },
  {
   "cell_type": "markdown",
   "metadata": {},
   "source": [
    "## test 'image' with service"
   ]
  },
  {
   "cell_type": "code",
   "execution_count": null,
   "metadata": {},
   "outputs": [
    {
     "name": "stdout",
     "output_type": "stream",
     "text": [
      "Creating service 'hello' in namespace 'default':\n",
      "\n",
      "  0.019s The Route is still working to reflect the latest desired specification.\n",
      "  0.048s ...\n",
      "  0.054s Configuration \"hello\" is waiting for a Revision to become ready.\n",
      " 46.763s ...\n",
      " 46.785s Ingress has not yet been reconciled.\n",
      " 46.848s Waiting for load balancer to be ready\n",
      " 47.013s Ready to serve.\n",
      "\n",
      "Service 'hello' created to latest revision 'hello-00001' is available at URL:\n",
      "http://hello.default.127.0.0.1.sslip.io\n"
     ]
    },
    {
     "name": "stderr",
     "output_type": "stream",
     "text": [
      "Warning: Kubernetes default value is insecure, Knative may default this to secure in a future release: spec.template.spec.containers[0].securityContext.allowPrivilegeEscalation, spec.template.spec.containers[0].securityContext.capabilities, spec.template.spec.containers[0].securityContext.runAsNonRoot, spec.template.spec.containers[0].securityContext.seccompProfile\n"
     ]
    }
   ],
   "source": [
    "# !kn service create hello -f serving.hello.yaml\n",
    "!kn service create hello \\\n",
    "  --image docker.io/zhoujiagen/hello \\\n",
    "  --port 8080"
   ]
  },
  {
   "cell_type": "code",
   "execution_count": null,
   "metadata": {},
   "outputs": [
    {
     "name": "stdout",
     "output_type": "stream",
     "text": [
      "NAME    URL                                       LATEST        AGE     CONDITIONS   READY   REASON\n",
      "hello   http://hello.default.127.0.0.1.sslip.io   hello-00001   3m46s   3 OK / 3     True    \n"
     ]
    }
   ],
   "source": [
    "!kn service list"
   ]
  },
  {
   "cell_type": "code",
   "execution_count": null,
   "metadata": {},
   "outputs": [
    {
     "name": "stdout",
     "output_type": "stream",
     "text": [
      "Service 'hello' successfully deleted in namespace 'default'.\n"
     ]
    }
   ],
   "source": [
    "!kn service delete hello"
   ]
  },
  {
   "cell_type": "code",
   "execution_count": 40,
   "metadata": {},
   "outputs": [],
   "source": [
    "# !curl -s http://hello.default.127.0.0.1.sslip.io"
   ]
  },
  {
   "cell_type": "markdown",
   "metadata": {},
   "source": [
    "# Serving"
   ]
  },
  {
   "cell_type": "markdown",
   "metadata": {},
   "source": [
    "# Eventing"
   ]
  },
  {
   "cell_type": "markdown",
   "metadata": {},
   "source": [
    "## CloudEvents Player"
   ]
  },
  {
   "cell_type": "code",
   "execution_count": 29,
   "metadata": {},
   "outputs": [],
   "source": [
    "# !docker pull quay.io/ruben/cloudevents-player:latest"
   ]
  },
  {
   "cell_type": "code",
   "execution_count": 38,
   "metadata": {},
   "outputs": [
    {
     "name": "stdout",
     "output_type": "stream",
     "text": [
      "Service 'cloudevents-player' successfully deleted in namespace 'default'.\n",
      "NAME    URL                                       LATEST        AGE   CONDITIONS   READY   REASON\n",
      "hello   http://hello.default.127.0.0.1.sslip.io   hello-00001   60m   3 OK / 3     True    \n"
     ]
    }
   ],
   "source": [
    "!kn service delete cloudevents-player\n",
    "!kn service list"
   ]
  },
  {
   "cell_type": "code",
   "execution_count": null,
   "metadata": {},
   "outputs": [
    {
     "name": "stdout",
     "output_type": "stream",
     "text": [
      "Creating service 'cloudevents-player' in namespace 'default':\n",
      "\n",
      "  0.023s The Route is still working to reflect the latest desired specification.\n",
      "  0.031s ...\n",
      "  0.050s Configuration \"cloudevents-player\" is waiting for a Revision to become ready.\n",
      "  3.455s ...\n",
      "  3.474s Ingress has not yet been reconciled.\n",
      "  3.572s Waiting for load balancer to be ready\n",
      "  3.696s Ready to serve.\n",
      "\n",
      "Service 'cloudevents-player' created to latest revision 'cloudevents-player-00001' is available at URL:\n",
      "http://cloudevents-player.default.127.0.0.1.sslip.io\n"
     ]
    },
    {
     "name": "stderr",
     "output_type": "stream",
     "text": [
      "Warning: Kubernetes default value is insecure, Knative may default this to secure in a future release: spec.template.spec.containers[0].securityContext.allowPrivilegeEscalation, spec.template.spec.containers[0].securityContext.capabilities, spec.template.spec.containers[0].securityContext.runAsNonRoot, spec.template.spec.containers[0].securityContext.seccompProfile\n"
     ]
    }
   ],
   "source": [
    "# 访问URL返回默认的apache页面\n",
    "# ref: https://stackoverflow.com/questions/77622915/knative-serving-just-returns-default-apache-webpage\n",
    "# 卸载WSL Ubunutu中Apache2和Nginx\n",
    "\n",
    "!kn service create cloudevents-player \\\n",
    "  --image quay.io/ruben/cloudevents-player:latest \\\n",
    "  --port 8080"
   ]
  },
  {
   "cell_type": "code",
   "execution_count": null,
   "metadata": {},
   "outputs": [
    {
     "name": "stderr",
     "output_type": "stream",
     "text": [
      "Error: sinkbindings.sources.knative.dev \"ce-player-binding\" already exists\n",
      "Run 'kn --help' for usage\n"
     ]
    }
   ],
   "source": [
    "# source\n",
    "!kn source binding create ce-player-binding --subject \"Service:serving.knative.dev/v1:cloudevents-player\" --sink broker:example-broker"
   ]
  },
  {
   "cell_type": "code",
   "execution_count": null,
   "metadata": {},
   "outputs": [
    {
     "name": "stdout",
     "output_type": "stream",
     "text": [
      "Trigger 'cloudevents-trigger' successfully created in namespace 'default'.\n"
     ]
    }
   ],
   "source": [
    "# trigger to cloudevents-player\n",
    "!kn trigger create cloudevents-trigger --sink cloudevents-player  --broker example-broker"
   ]
  },
  {
   "cell_type": "code",
   "execution_count": 42,
   "metadata": {},
   "outputs": [],
   "source": [
    "# send events, view results"
   ]
  },
  {
   "cell_type": "code",
   "execution_count": 43,
   "metadata": {},
   "outputs": [
    {
     "name": "stdout",
     "output_type": "stream",
     "text": [
      "Trigger 'cloudevents-trigger' deleted in namespace 'default'.\n",
      "Sink binding 'ce-player-binding' deleted in namespace 'default'.\n",
      "Service 'cloudevents-player' successfully deleted in namespace 'default'.\n"
     ]
    }
   ],
   "source": [
    "# 清理\n",
    "!kn trigger delete cloudevents-trigger\n",
    "!kn source binding delete ce-player-binding\n",
    "!kn service delete cloudevents-player"
   ]
  }
 ],
 "metadata": {
  "kernelspec": {
   "display_name": "base",
   "language": "python",
   "name": "python3"
  },
  "language_info": {
   "codemirror_mode": {
    "name": "ipython",
    "version": 3
   },
   "file_extension": ".py",
   "mimetype": "text/x-python",
   "name": "python",
   "nbconvert_exporter": "python",
   "pygments_lexer": "ipython3",
   "version": "3.12.3"
  }
 },
 "nbformat": 4,
 "nbformat_minor": 2
}
