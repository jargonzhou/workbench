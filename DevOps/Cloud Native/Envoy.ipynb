{
 "cells": [
  {
   "cell_type": "markdown",
   "metadata": {},
   "source": [
    "# Envoy\n",
    "- [Documentation](https://www.envoyproxy.io/docs/envoy/latest/)\n",
    "- [Code](https://github.com/envoyproxy/envoy)\n",
    "\n",
    "Misc:\n",
    "- [Envoy入门及容器部署](https://zhuanlan.zhihu.com/p/618278409?utm_id=0)\n",
    "- [Envoy documentation — envoy tag-v1.28.0 documentation](https://www.envoyproxy.io/docs/envoy/v1.28.0/)\n",
    "\t- RocketMQ Proxy: https://www.envoyproxy.io/docs/envoy/v1.28.0/api-v3/extensions/filters/network/rocketmq_proxy/v3/rocketmq_proxy.proto\n",
    "\t- example: https://github.com/envoyproxy/envoy/issues/15514\n",
    "\t- RocketMQ Clients: https://github.com/apache/rocketmq-clients\n",
    "\t- [RocketMQ 5.x如何使用GRPC方式发送消费消息](https://juejin.cn/post/7265260701593288715)"
   ]
  },
  {
   "cell_type": "markdown",
   "metadata": {},
   "source": [
    "> What is Envoy\n",
    ">\n",
    "> Envoy is an L7 proxy and communication bus designed for large modern service oriented architectures. The project was born out of the belief that:\n",
    ">\n",
    "> The network should be transparent to applications. When network and application problems do occur it should be easy to determine the source of the problem."
   ]
  },
  {
   "cell_type": "markdown",
   "metadata": {},
   "source": [
    "# v3 xDS API\n",
    "- [Reference - v1.28.0](https://www.envoyproxy.io/docs/envoy/v1.28.0/api-v3/api)\n",
    "- [xDS REST and gRPC protocol - v1.28.0](https://www.envoyproxy.io/docs/envoy/v1.28.0/api-docs/xds_protocol)"
   ]
  },
  {
   "cell_type": "markdown",
   "metadata": {},
   "source": [
    "> Bootstrap\n",
    "\n",
    "> Listeners\n",
    "\n",
    "> Clusters\n",
    "\n",
    "> HTTP route management\n",
    "\n",
    "> Extensions\n",
    "\n",
    "- [envoy.filters.network.http_connection_manager - v1.28.0](https://www.envoyproxy.io/docs/envoy/v1.28.0/api-v3/extensions/filters/network/http_connection_manager/v3/http_connection_manager.proto)\n",
    "- [envoy.filters.http.jwt_authn - v1.28.0](https://www.envoyproxy.io/docs/envoy/v1.28.0/api-v3/extensions/filters/http/jwt_authn/v3/config.proto)\n",
    "- [envoy.filters.network.mongo_proxy - v1.28.0](https://www.envoyproxy.io/docs/envoy/v1.28.0/api-v3/extensions/filters/network/mongo_proxy/v3/mongo_proxy.proto)\n",
    "- envoy.filters.network.rocketmq_proxy - v1.28.0\n",
    "\t- example: https://github.com/envoyproxy/envoy/issues/15514\n",
    "\t- RocketMQ Clients: https://github.com/apache/rocketmq-clients\n",
    "\t\t- [RocketMQ 5.x如何使用GRPC方式发送消费消息](https://juejin.cn/post/7265260701593288715)\n",
    "\n",
    "> Admin\n",
    "\n",
    "> Envoy data\n",
    "\n",
    "> Services\n",
    "\n",
    "> Common messages\n",
    "\n",
    "> Common message(XDS)\n",
    "\n",
    "> Types\n"
   ]
  },
  {
   "cell_type": "markdown",
   "metadata": {},
   "source": [
    "# Examples"
   ]
  },
  {
   "cell_type": "markdown",
   "metadata": {},
   "source": [
    "- [Envoy JWT](https://www.cnblogs.com/wangguishe/p/16737415.html), [EnvoyProxy 5: Authorized Access with JWT](https://www.funnel-labs.io/2022/10/21/envoyproxy-5-authorized-access-with-jwt) - with provider Keycloak"
   ]
  }
 ],
 "metadata": {
  "language_info": {
   "name": "python"
  }
 },
 "nbformat": 4,
 "nbformat_minor": 2
}
