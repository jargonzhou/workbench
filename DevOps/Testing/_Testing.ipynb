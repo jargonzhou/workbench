{
 "cells": [
  {
   "cell_type": "markdown",
   "metadata": {},
   "source": [
    "# Testing"
   ]
  },
  {
   "cell_type": "markdown",
   "metadata": {},
   "source": [
    "# JUnit\n",
    "- [JUnit 5 User Guide](https://junit.org/junit5/docs/current/user-guide/)\n",
    "JUnit 5 = JUnit Platform + JUnit Jupiter + JUnit Vintage\n",
    "- The JUnit Platform serves as a foundation for launching testing frameworks on the JVM.\n",
    "- JUnit Jupiter is the combination of the programming model and extension model for writing tests and extensions in JUnit 5.\n",
    "- JUnit Vintage provides a TestEngine for running JUnit 3 and JUnit 4 based tests on the platform.\n",
    "\n",
    "\n",
    "books:\n",
    "- Tudose, Cătălin  **JUnit in Action**. 2020, 3. edition. Manning.\n",
    "\n",
    "  - Part 1. JUnit: 1-5\n",
    "  - Part 2. Different testing strategies: 6-9\n",
    "  - Part 3. Working with JUnit 5 and other tools: 10-13\n",
    "  - Part 4. Working with modern frameworks and JUnit 5: 14-19\n",
    "  - Part 5. Developing applicationswith JUnit 5: 20-22\n",
    "\n",
    "| #   | Title                                                       |\n",
    "| :-- | :---------------------------------------------------------- |\n",
    "| 1   | [[#5.1 JUnit jump-start]]                                   |\n",
    "| 2   | [[#5.2 Exploring core JUnit]]                               |\n",
    "| 3   | [[#5.3 JUnit architecture]]                                 |\n",
    "| 4   | [[#5.4 Migrating from JUnit 4 to JUnit 5]]                  |\n",
    "| 5   | [[#5.5 Software testing principles]]                        |\n",
    "| 6   | [[#5.6 Test quality]]                                       |\n",
    "| 7   | [[#5.7 Coarse-grained testing with stubs]]                  |\n",
    "| 8   | [[#5.8 Testing with mock objects]]                          |\n",
    "| 9   | [[#5.9 In-container testing]]                               |\n",
    "| 10  | [[#5.10 Running JUnit tests from Maven 3]]                  |\n",
    "| 11  | [[#5.11 Running JUnit tests from Gradle 6]]                 |\n",
    "| 12  | [[#5.12 JUnit 5 IDE support]]                               |\n",
    "| 13  | [[#5.13 Continuous integration with JUnit 5]]               |\n",
    "| 14  | [[#5.14 JUnit 5 extension model]]                           |\n",
    "| 15  | [[#5.15 Presentation-layer testing]]                        |\n",
    "| 16  | [[#5.16 Testing Spring applications]]                       |\n",
    "| 17  | [[#5.17 Testing Spring Boot applications]]                  |\n",
    "| 18  | [[#5.18 Testing a REST API]]                                |\n",
    "| 19  | [[#5.19 Testing database applications]]                     |\n",
    "| 20  | [[#5.20 Test-driven development with JUnit 5]]              |\n",
    "| 21  | [[#5.21 Behavior-driven development with JUnit 5]]          |\n",
    "| 22  | [[#5.22 Implementing a test pyramid strategy with JUnit 5]] |\n"
   ]
  },
  {
   "cell_type": "markdown",
   "metadata": {},
   "source": [
    "# REST-assured\n",
    "- https://github.com/rest-assured/rest-assured\n",
    "\n",
    "> Testing and validation of REST services in Java is harder than in dynamic languages such as Ruby and Groovy. REST Assured brings the simplicity of using these languages into the Java domain."
   ]
  },
  {
   "cell_type": "markdown",
   "metadata": {},
   "source": [
    "# Fuzz Testing\n",
    "\n",
    "- [Fuzzing - wikipedia](https://en.wikipedia.org/wiki/Fuzzing)\n",
    "\n",
    "> Fuzz Testing (模糊测试)\n",
    ">\n",
    "> In programming and software development, fuzzing or fuzz testing is an automated software testing technique that involves providing invalid, unexpected, or random data as inputs to a computer program. The program is then monitored for exceptions such as crashes, failing built-in code assertions, or potential memory leaks. \n",
    "> Typically, fuzzers are used to test programs that take structured inputs. This structure is specified, e.g., in a file format or protocol and distinguishes valid from invalid input. An effective fuzzer generates semi-valid inputs that are \"valid enough\" in that they are not directly rejected by the parser, but do create unexpected behaviors deeper in the program and are \"invalid enough\" to expose corner cases that have not been properly dealt with.\n",
    "\n",
    "- [Google oss-fuzz](https://github.com/google/oss-fuzz): OSS-Fuzz - continuous fuzzing for open source software.\n",
    "- [The Fuzzing Book: Tools and Techniques for Generating Software Tests](https://www.fuzzingbook.org/)\n",
    "- [Awesome-Grammar-Fuzzing](https://github.com/Microsvuln/Awesome-Grammar-Fuzzing)\n",
    "\n"
   ]
  },
  {
   "cell_type": "markdown",
   "metadata": {},
   "source": [
    "# Load Testing\n",
    "## Fortio\n",
    "- https://github.com/fortio/fortio\n",
    "> [!info] Fortio\n",
    "> Fortio load testing library, command line tool, advanced echo server and web UI in go (golang). Allows to specify a set query-per-second load and record latency histograms and other useful stats.\n",
    ">\n",
    "> Fortio (Φορτίο) started as, and is, [Istio](https://istio.io/)'s load testing tool and later (2018) graduated to be its own project.\n"
   ]
  },
  {
   "cell_type": "markdown",
   "metadata": {},
   "source": [
    "# TestContainers\n",
    "- https://testcontainers.com/\n",
    "\n",
    "> Testcontainers: Unit tests with real dependencies\n",
    ">\n",
    "> Testcontainers is an open source framework for providing throwaway, lightweight instances of databases, message brokers, web browsers, or just about anything that can run in a Docker container.\n",
    "\n",
    "Test dependencies as code\n",
    "- [Java](https://testcontainers.com/guides/getting-started-with-testcontainers-for-java/): examples in 'Cloud Native Spring'\n",
    "- [Python](https://testcontainers-python.readthedocs.io/en/latest/): examples in 'Data Pipelines with Apache Airflow'"
   ]
  },
  {
   "cell_type": "markdown",
   "metadata": {},
   "source": [
    "More:\n",
    "- Redis: https://testcontainers.com/modules/redis/"
   ]
  },
  {
   "cell_type": "markdown",
   "metadata": {},
   "source": [
    "# Misc\n",
    "- [curl](https://curl.se/docs/manpage.html)\n",
    "- [nc - arbitrary TCP and UDP connections and listens](https://linux.die.net/man/1/nc)\n",
    "\t- [How to Use Netcat Commands: Examples and Cheat Sheets](https://www.varonis.com/blog/netcat-commands)\n",
    "\t- [The netcat Command in Linux](https://www.baeldung.com/linux/netcat-command)\n"
   ]
  }
 ],
 "metadata": {
  "language_info": {
   "name": "python"
  }
 },
 "nbformat": 4,
 "nbformat_minor": 2
}
