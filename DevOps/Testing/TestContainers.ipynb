{
 "cells": [
  {
   "cell_type": "markdown",
   "metadata": {},
   "source": [
    "# TestContainers\n",
    "- https://testcontainers.com/\n",
    "\n",
    "> Testcontainers: Unit tests with real dependencies\n",
    ">\n",
    "> Testcontainers is an open source framework for providing throwaway, lightweight instances of databases, message brokers, web browsers, or just about anything that can run in a Docker container.\n",
    "\n",
    "Test dependencies as code\n",
    "- [Java](https://testcontainers.com/guides/getting-started-with-testcontainers-for-java/): examples in 'Cloud Native Spring'\n",
    "- [Python](https://testcontainers-python.readthedocs.io/en/latest/): examples in 'Data Pipelines with Apache Airflow'"
   ]
  }
 ],
 "metadata": {
  "language_info": {
   "name": "python"
  }
 },
 "nbformat": 4,
 "nbformat_minor": 2
}
