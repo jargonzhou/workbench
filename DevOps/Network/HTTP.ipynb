{
 "cells": [
  {
   "cell_type": "markdown",
   "id": "478a106f",
   "metadata": {},
   "source": [
    "# HTTP: Hypertext Transfer Protocol\n",
    "\n",
    "books:\n",
    "- Pollard, Barry. **HTTP/2 in Action**. 2019. Manning."
   ]
  },
  {
   "cell_type": "markdown",
   "id": "567ef375",
   "metadata": {},
   "source": [
    "# History\n",
    "\n",
    "- 0.9: 1991\n",
    "  - GET\n",
    "- 1.0: 1996, RFC 1945\n",
    "  - HEAD, POST\n",
    "  - headers: request, response\n",
    "    - `Expires`\n",
    "  - 3-digit response code\n",
    "    - 1xx: informational\n",
    "    - 2xx: successful\n",
    "    - 3xx: redirection\n",
    "    - 4xx: client error\n",
    "    - 5xx: server error\n",
    "- 1.1: 1997\n",
    "  - 2022 RFC 9110 'HTTP Semantics', RFC 9112 'HTTP/1.1'\n",
    "  - PUT, OPTIONS, CONNECT, TRACE, DELETE\n",
    "  - mandantory `Host` header \n",
    "  - persistent connections: 持久连接. `Connection: Keep-Alive`, `Connection: close`\n",
    "    - pipelining: 管线化. 通过同一个持久连接发送多个请求, 按序获得响应. 大多数实现还是请求-响应协议.\n",
    "  - `Cache-Control`, `ETag`\n",
    "  - cookies\n",
    "  - character sets\n",
    "  - proxy support\n",
    "  - authentication\n",
    "  - new status code\n",
    "  - trailing headers\n",
    "  - chunked transfer: 分块传输\n",
    "  - range requests: 断点续传"
   ]
  },
  {
   "cell_type": "markdown",
   "id": "29f4b68b",
   "metadata": {},
   "source": [
    "# HTTPS\n",
    "\n",
    "HTTPS use SSL or TLS to procide encryption.\n",
    "- SSL: Secure Socket Layer. owned by Netscape\n",
    "- TLS: Transport Layer Security. standard"
   ]
  },
  {
   "cell_type": "markdown",
   "id": "0d8c6ee4",
   "metadata": {},
   "source": [
    "\n"
   ]
  },
  {
   "cell_type": "markdown",
   "id": "9ac264ff",
   "metadata": {},
   "source": [
    "SSL/TLS协议运行机制的概述\n",
    "https://www.ruanyifeng.com/blog/2014/02/ssl_tls.html\n",
    "\n",
    "每一次对话 (session), 客户端和服务器端都生成一个\"*对话密钥*\" (session key), 用它来加密信息. 由于\"对话密钥\"是*对称加密*, 所以运算速度非常快, 而服务器公钥只用于加密\"对话密钥\"本身, 这样就减少了加密运算的消耗时间. \n",
    "\n",
    "SSL/TLS协议的基本过程是这样的：\n",
    "\n",
    "- (1) 客户端向服务器端索要并验证公钥. \n",
    "- (2) 双方协商生成\"对话密钥\". \n",
    "- (3) 双方采用\"对话密钥\"进行加密通信. \n",
    "\n",
    "上面过程的前两步, 又称为\"握手阶段\" (handshake). \n",
    "\n",
    "握手阶段的详细过程:\n",
    "\n",
    "4.1 客户端发出请求 (ClientHello)\n",
    "- (1) 支持的协议版本, 比如TLS 1.0版. \n",
    "- (2) *一个客户端生成的随机数*, 稍后用于生成\"对话密钥\". \n",
    "- (3) 支持的加密方法, 比如RSA公钥加密. \n",
    "- (4) 支持的压缩方法. \n",
    "\n",
    "4.2 服务器回应 (SeverHello)\n",
    "- (1) 确认使用的加密通信协议版本, 比如TLS 1.0版本. 如果浏览器与服务器支持的版本不一致, 服务器关闭加密通信. \n",
    "- (2) *一个服务器生成的随机数*, 稍后用于生成\"对话密钥\". \n",
    "- (3) 确认使用的加密方法, 比如RSA公钥加密. \n",
    "- (4) *服务器证书*. \n",
    "\n",
    "4.3 客户端回应\n",
    "- (1) *一个随机数*. 该随机数*用服务器公钥加密*, 防止被窃听. \n",
    "- (2) *编码改变通知*, 表示随后的信息都将用双方商定的加密方法和密钥发送. \n",
    "- (3) *客户端握手结束通知*, 表示客户端的握手阶段已经结束. 这一项同时也是前面发送的所有内容的hash值, 用来供服务器校验. \n",
    "\n",
    "上面第一项的随机数, 是整个握手阶段出现的第三个随机数, 又称\"pre-master key\". 有了它以后, 客户端和服务器就同时有了三个随机数, 接着双方就用事先商定的加密方法, 各自生成本次会话所用的同一把\"会话密钥\". \n",
    "\n",
    "三个随机数:\n",
    "\n",
    "不管是客户端还是服务器, 都需要随机数, 这样生成的密钥才不会每次都一样. 由于SSL协议中证书是静态的, 因此十分有必要引入一种随机因素来保证协商出来的密钥的随机性. \n",
    "对于RSA密钥交换算法来说, pre-master-key本身就是一个随机数, 再加上hello消息中的随机, **三个随机数通过一个密钥导出器最终导出一个对称密钥**. \n",
    "\n",
    "4.4 服务器的最后回应\n",
    "- (1)*编码改变通知*, 表示随后的信息都将用双方商定的加密方法和密钥发送. \n",
    "- (2)*服务器握手结束通知*, 表示服务器的握手阶段已经结束. 这一项同时也是前面发送的所有内容的hash值, 用来供客户端校验. \n",
    "\n",
    "至此, 整个握手阶段全部结束. 接下来, 客户端与服务器进入加密通信, 就完全是使用普通的HTTP协议, 只不过用\"会话密钥\"加密内容. "
   ]
  },
  {
   "cell_type": "markdown",
   "id": "50a87245",
   "metadata": {},
   "source": [
    "# SPDY\n",
    "\n",
    "2009\n",
    "\n",
    "new concepts to HTTP/1.1:\n",
    "- multiplexed stream: 多路复用流\n",
    "- request prioritization: 请求优先级\n",
    "- HTTP header compression: 头压缩"
   ]
  },
  {
   "cell_type": "markdown",
   "id": "23e7dd4b",
   "metadata": {},
   "source": [
    "# HTTP/2\n",
    "\n",
    "2015, RFC 7450\n",
    "\n",
    "new concepts to HTTP/1:\n",
    "- binary rather than textual protocol: 二进制协议\n",
    "- multiplexed rather than synchronous: use a single connection with streams. 多路复用, 一个连接中多个请求的流, 请求响应数据帧.\n",
    "- flow control: 流层次的背压\n",
    "- stream prioritization: 请求优先级\n",
    "  - HTTP/1例: 先请求关键资源(HTML, CSS, 关键JavaScript), 再请求非阻塞项(图片, 异步JavaScript). 请求由浏览器排队, 并确定优先级.\n",
    "  - 由服务端实现: 等待发送的帧队里中, 优先发送搞优先级请求的响应帧. \n",
    "- header compression: 处理重复的头\n",
    "  - 允许跨请求的头压缩, 避免了体压缩算法中的安全性问题.\n",
    "- server push: 服务端推送, 主动发送与客户端请求相关的资源"
   ]
  },
  {
   "cell_type": "markdown",
   "id": "8e9ac420",
   "metadata": {},
   "source": [
    "## Create HTTP/2 Connection\n",
    "\n",
    "4 ways:\n",
    "- use HTTPS negotiation: HTTP/2支持作为HTTPS握手的一部分, 节省了升级重定向.\n",
    "- use the HTTP `Upgrade` header\n",
    "- use prior knowledge\n",
    "- use HTTP Alternative Services"
   ]
  },
  {
   "cell_type": "markdown",
   "id": "35f1f1c8",
   "metadata": {},
   "source": [
    "HTTPS handshake - TLSv1.2\n",
    "\n",
    "Client -> Server:\n",
    "- 1. ClientHello: 客户端的密码技术能力\n",
    "\n",
    "Server -> Client:\n",
    "- 2. ServerHello: 根据客户端能力, 选择HTTPS协议(例如TLSv1.2), 用于该连接的cipher(例ECDHE-RSA-AES128-GCM-SHA256)\n",
    "- 3. ServerCetificate: 服务端HTTPS证书\n",
    "- 4. ServerKeyExchange: 根据选择的cipher使用的密钥详情\n",
    "- 5. CertificateRequest: 是否需要客户端HTTPS证书\n",
    "- 6. ServerHelloDone\n",
    "\n",
    "Client -> Server:\n",
    "- 7. ClientCertificate: 服务端需要时发送\n",
    "- 8. ClientKeyExchange - 用公私钥加密: 客户端cipher使用的密钥详情, 用服务端证书中公钥加密.\n",
    "- 9. CertificateVerify - 用公私钥加密: 使用客户端证书时发送, 用客户端证书私钥加密.\n",
    "- 10. ChangeCipherSpec: 客户端使用ServerKeyExchange和ClientKeyExchange确定对称密钥, 告知服务端开始使用对称密钥.\n",
    "- 11. Finished - 用约定的密钥加密\n",
    "\n",
    "Server -> Client:\n",
    "- 12. ChangeCipherSpec: 告知客户端开始使用对称密钥.\n",
    "- 13. Finished - 用约定的密钥加密\n",
    "\n",
    "\n",
    "TODO: key exchange, cipher???"
   ]
  },
  {
   "cell_type": "markdown",
   "id": "f665e0fa",
   "metadata": {},
   "source": [
    "ALPN: Application Layer Protocol Negotiation\n",
    "- ClientHello: with ALPN options\n",
    "- ServerHello: with ALPN choice"
   ]
  },
  {
   "cell_type": "markdown",
   "id": "345b7e73",
   "metadata": {},
   "source": [
    "`Upgrade` header: 只在未加密的HTTP连接中使用\n",
    "- h2c: unencrypted HTTP connection\n",
    "- h2: encrypted HTTPS HTTP/2 connection\n",
    "- 由客户端决定发送:\n",
    "  - 每个请求中\n",
    "  - 只在初始请求中\n",
    "  - 服务端已经在响应中告知HTTP/2支持: `Upgrade`头"
   ]
  },
  {
   "cell_type": "markdown",
   "id": "7c528b37",
   "metadata": {},
   "source": [
    "使用先验知识: 客户端已经知道服务端支持HTTP/2, 直接使用HTTP/2, 避免了升级请求.\n",
    "- 明确知道后端服务支持HTTP/2.\n",
    "- 通过HTTP/1.1通告的`Alt-Svc` header, 或者`ALTSVC`帧."
   ]
  },
  {
   "cell_type": "markdown",
   "id": "61198110",
   "metadata": {},
   "source": [
    "HTTP Alternative Services:\n",
    "- 服务端告知使用HTTP/1.1的客户端, 用`Alt-Svc`头告知, 请求的资源使用不同的协议在另一个位置可用.\n",
    "- 在已有的HTTP/2连接上: `ALTSVC`帧: 例客户端想切换到不同的连接."
   ]
  },
  {
   "cell_type": "markdown",
   "id": "7f35cf8f",
   "metadata": {},
   "source": [
    "HTTP/2 preface消息:\n",
    "- `PRI`方法\n",
    "- 用于客户端尝试与不支持HTTP/2的服务端使用HTTP/2, 这时服务端不理解`PRI`方法而拒绝该消息."
   ]
  },
  {
   "cell_type": "markdown",
   "id": "f25f0ed9",
   "metadata": {},
   "source": [
    "## HTTP/2 Frames"
   ]
  },
  {
   "cell_type": "markdown",
   "id": "d6c72c09",
   "metadata": {},
   "source": [
    "查看:\n",
    "- Chrome net-export\n",
    "- nghttp\n",
    "- Wireshark"
   ]
  },
  {
   "cell_type": "markdown",
   "id": "8169c792",
   "metadata": {},
   "source": [
    "帧格式: ...\n",
    "\n",
    "\n",
    "帧类型:\n",
    "- DATA (0x0)\n",
    "- HEADERS (0x1)\n",
    "- PRIORITY (0x2)\n",
    "- RST_STREAM (0x3)\n",
    "- SETTINGS (0x4)\n",
    "- PUSH_PROMISE (0x5)\n",
    "- PING (0x6)\n",
    "- GOAWAY (0x7)\n",
    "- WINDOW_UPDATE (0x8)\n",
    "- CONTINUATION (0x9)\n",
    "- ALTSVC (0xa), added through RFC 7838\n",
    "- (0xb), not used at present but used in the past\n",
    "- ORIGIN (0xc), added through RFC 8336\n",
    "- CACHE_DIGEST, proposed"
   ]
  },
  {
   "cell_type": "markdown",
   "id": "02e5f8a4",
   "metadata": {},
   "source": [
    "## HTTP/2 Sever Push"
   ]
  },
  {
   "cell_type": "markdown",
   "id": "bf24fd4e",
   "metadata": {},
   "source": [
    "How to push?\n",
    "\n",
    "Nginx:\n",
    "```shell\n",
    "# use HHTP link header\n",
    "add_header Link \"</assets/css/common.css>;as=style;rel=preload\"\n",
    "\n",
    "# push earlier\n",
    "http2_push /assets/css/common.css;\n",
    "```"
   ]
  },
  {
   "cell_type": "markdown",
   "id": "cfe6da1b",
   "metadata": {},
   "source": [
    "## HTTP/2 Advance concepts\n",
    "- stream states\n",
    "- flow control\n",
    "- prioritization\n",
    "- conformance testing\n",
    "- HPACK protocol: header compression 头压缩"
   ]
  },
  {
   "cell_type": "markdown",
   "id": "85c456b0",
   "metadata": {},
   "source": [
    "# HTTP/3"
   ]
  },
  {
   "cell_type": "markdown",
   "id": "f507e861",
   "metadata": {},
   "source": [
    "## QUIC\n",
    "- original acronym: Quick UDP Internet Connections\n",
    "- QUIC is a name, not an acronym"
   ]
  },
  {
   "cell_type": "markdown",
   "id": "26ac7d5b",
   "metadata": {},
   "source": [
    "features:\n",
    "- dramatically reduce connection establishment time: 减少连接建立时间\n",
    "  - 客户端再没有建立连接的情况下, 向服务端发送请求\n",
    "- improved congestion control\n",
    "- multiplexing without HOL line blocking\n",
    "- forward error correction: 纠错码\n",
    "  - 减少包重传\n",
    "- connection migration: 连接迁移\n",
    "  - 通过允许连接在网络上移动来减少连接设置消耗\n",
    "  - 例: 在Wi-Fi中开始会话, 然后移动到移动网络中, 不需要重启会话.\n",
    "  - 甚至在一个QUIC连接中同时使用Wi-Fi和移动网络: 使用multipath技术."
   ]
  },
  {
   "cell_type": "markdown",
   "id": "f21c1558",
   "metadata": {},
   "source": [
    "standard:\n",
    "- gQUIC: Google\n",
    "  - tool: Chrome net-export\n",
    "- iQUIC: IETF"
   ]
  },
  {
   "cell_type": "markdown",
   "id": "4096e871",
   "metadata": {},
   "source": [
    "# Tools"
   ]
  },
  {
   "cell_type": "markdown",
   "id": "f75b486a",
   "metadata": {},
   "source": [
    "- telnet\n",
    "- nc\n",
    "- Chrome developer tools\n",
    "- Advanced REST client application: https://install.advancedrestclient.com\n",
    "- curl, wget, httpie, SOAP-UI\n",
    "- Fiddler, Wireshark: network sniffer programs\n",
    "- site performance: https://www.webpagetest.org/\n",
    "  - Waterfall diagram\n",
    "- HTTP/2 support: https://caniuse.com/?search=HTTP%2F2\n",
    "  - brower\n",
    "  - server: Apache httpd 2.4.17, Jetty 9.3, Netty 4.1, Nginx 1.9.5, Tomcat 8.5\n",
    "- Chrome net-export: `chrome://net-export/`, https://netlog-viewer.appspot.com\n",
    "- nghttp: nghttp2 C库上开发的命令行工具"
   ]
  }
 ],
 "metadata": {
  "language_info": {
   "name": "python"
  }
 },
 "nbformat": 4,
 "nbformat_minor": 5
}
