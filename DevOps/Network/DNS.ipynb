{
 "cells": [
  {
   "cell_type": "markdown",
   "metadata": {},
   "source": [
    "# DNS(Domain Name System)\n",
    "\n",
    "books:\n",
    "- TCP/IP Illustrated, Volume 1: The Protocols. - Chapter 11. Name Resolution and the Domain Name System (DNS)\n",
    "- Liu, Cricket / Albitz, Paul. **DNS and BIND**. 2006, 5. edition. O'Reilly Media."
   ]
  },
  {
   "cell_type": "markdown",
   "metadata": {},
   "source": [
    "TLDs: top-level domains\n",
    "- gTLDs: generic TLDs\n",
    "  - generic\n",
    "  - generic-restricted\n",
    "  - sponsored\n",
    "- ccTLDs: country-code TLDs\n",
    "  - ex: uk, su, ac, eu, tp\n",
    "- IDN ccTLDs: internationalized country-code TLDs\n",
    "- ARPA: infrastructure TLD\n",
    "\n",
    "IDNS: internationalized domain names"
   ]
  },
  {
   "cell_type": "markdown",
   "metadata": {},
   "source": [
    "FQDNs: fully qualified domain names"
   ]
  },
  {
   "cell_type": "markdown",
   "metadata": {},
   "source": [
    "# Protocol"
   ]
  },
  {
   "cell_type": "markdown",
   "metadata": {},
   "source": [
    "- a query/response protocol used for perfoming queries against the DNS for particular names\n",
    "- protocol for name servers to exchange database records (zone transfers)\n",
    "- DNS notify: notify secondary servers taht the zone database has evolved and a zone transfer is necessary\n",
    "- dynamic updates: dynamically update the zone"
   ]
  },
  {
   "cell_type": "markdown",
   "metadata": {},
   "source": [
    "root servers: https://www.iana.org/domains/root/servers"
   ]
  },
  {
   "cell_type": "markdown",
   "metadata": {},
   "source": [
    "## Message Format\n",
    "* https://www.rfc-editor.org/rfc/rfc6895.txt"
   ]
  },
  {
   "cell_type": "markdown",
   "metadata": {},
   "source": [
    "Querey/Response Headers:\n",
    "\n",
    "```\n",
    "                     1  1  1  1  1  1\n",
    " 0  1  2  3  4  5  6  7  8  9  0  1  2  3  4  5\n",
    "+--+--+--+--+--+--+--+--+--+--+--+--+--+--+--+--+\n",
    "|                      ID                       |\n",
    "+--+--+--+--+--+--+--+--+--+--+--+--+--+--+--+--+\n",
    "|QR|   OpCode  |AA|TC|RD|RA| Z|AD|CD|   RCODE   |\n",
    "+--+--+--+--+--+--+--+--+--+--+--+--+--+--+--+--+\n",
    "|                QDCOUNT/ZOCOUNT                | query/zone\n",
    "+--+--+--+--+--+--+--+--+--+--+--+--+--+--+--+--+\n",
    "|                ANCOUNT/PRCOUNT                | answer/prerequisite\n",
    "+--+--+--+--+--+--+--+--+--+--+--+--+--+--+--+--+\n",
    "|                NSCOUNT/UPCOUNT                | authority record/update\n",
    "+--+--+--+--+--+--+--+--+--+--+--+--+--+--+--+--+\n",
    "|                    ARCOUNT                    | additional information\n",
    "+--+--+--+--+--+--+--+--+--+--+--+--+--+--+--+--+\n",
    "```\n",
    "\n",
    "- QR: query 0, response 1\n",
    "- AA: authoritative answer\n",
    "- TC: truncated answer\n",
    "- RD: recursion desired\n",
    "- RA: recursion available\n",
    "- Z: zero\n",
    "- AD: atuthentic data\n",
    "- CD: checking disabled\n",
    "\n",
    "OpCode:\n",
    "- 0: query\n",
    "- 4: notify\n",
    "- 5: update\n",
    "\n",
    "RCODE:\n",
    "- 0: no error\n",
    "- 1: format error\n",
    "- 2: server failure\n",
    "- 3: non-existent domain\n",
    "- 4: not implemented\n",
    "- 5: query refused "
   ]
  },
  {
   "cell_type": "markdown",
   "metadata": {},
   "source": [
    "Resource Records:\n",
    "\n",
    "- question/query and zone section format\n",
    "- answer, authority and additional information section format\n",
    "\n",
    "```\n",
    "                                1  1  1  1  1  1\n",
    "  0  1  2  3  4  5  6  7  8  9  0  1  2  3  4  5\n",
    "+--+--+--+--+--+--+--+--+--+--+--+--+--+--+--+--+\n",
    "|                                               |\n",
    "/                                               /\n",
    "/                     NAME                      / Query Name/Zone Name\n",
    "/                                               /\n",
    "+--+--+--+--+--+--+--+--+--+--+--+--+--+--+--+--+\n",
    "|                     TYPE                      | Query Type/Zone Type\n",
    "+--+--+--+--+--+--+--+--+--+--+--+--+--+--+--+--+\n",
    "|                     CLASS                     | Query Class/Zone Class\n",
    "+--+--+--+--+--+--+--+--+--+--+--+--+--+--+--+--+\n",
    "|                     TTL                       |\n",
    "|                                               |\n",
    "+--+--+--+--+--+--+--+--+--+--+--+--+--+--+--+--+\n",
    "|                   RDLENGTH                    |\n",
    "+--+--+--+--+--+--+--+--+--+--+--+--+--+--+--+--|\n",
    "/                    RDATA                      /\n",
    "/                                               /\n",
    "+--+--+--+--+--+--+--+--+--+--+--+--+--+--+--+--+\n",
    "```\n",
    "\n",
    "NAME: names and labels\n",
    "- data labels\n",
    "- compression labels\n",
    "\n",
    "TYPE:\n",
    "- A: IPv4 address record\n",
    "- AAAA: IPv6 address record\n",
    "- NS: name server\n",
    "- CNAME: canonical name - name aliasing\n",
    "- SRV: server selection - transport endpoints of a generic service\n",
    "- ...\n",
    "- ANY: request for all records\n",
    "\n",
    "CLASS:\n",
    "- 1: Internet data\n",
    "\n",
    "TTL\n",
    "\n",
    "RDLNGTH\n",
    "\n",
    "RDATA:\n",
    "\n"
   ]
  },
  {
   "cell_type": "markdown",
   "metadata": {},
   "source": [
    "# Implementation"
   ]
  },
  {
   "cell_type": "markdown",
   "metadata": {},
   "source": [
    "* [A List of Free and Public DNS Servers for 2025](https://www.lifewire.com/free-and-public-dns-servers-2626062)\n",
    "\n",
    "\n",
    "|Provider|Primary DNS|Secondary DNS|\n",
    "|---|---|---|\n",
    "|Google|8.8.8.8|8.8.4.4|\n",
    "|Control D|76.76.2.0|76.76.10.0|\n",
    "|Quad9|9.9.9.9|149.112.112.112|\n",
    "|OpenDNS Home|208.67.222.222|208.67.220.220|\n",
    "|Cloudflare|1.1.1.1|1.0.0.1|\n",
    "|AdGuard DNS|94.140.14.14|94.140.15.15|\n",
    "|CleanBrowsing|185.228.168.9|185.228.169.9|\n",
    "|Alternate DNS|76.76.19.19|76.223.122.150|"
   ]
  },
  {
   "cell_type": "markdown",
   "metadata": {},
   "source": [
    "## BIND9\n",
    "* https://gitlab.isc.org/isc-projects/bind9\n",
    "* [Ubuntu Domain Name Service (DNS)](https://documentation.ubuntu.com/server/how-to/networking/install-dns/index.html)"
   ]
  },
  {
   "cell_type": "markdown",
   "metadata": {},
   "source": [
    "```shell\n",
    "# https://documentation.ubuntu.com/server/how-to/networking/install-dns/index.html\n",
    "~ sudo apt install bind9\n",
    "~ sudo apt-get install dnsutils\n",
    "```"
   ]
  },
  {
   "cell_type": "code",
   "execution_count": null,
   "metadata": {},
   "outputs": [],
   "source": [
    "!sudo systemctl restart bind9.service"
   ]
  },
  {
   "cell_type": "markdown",
   "metadata": {},
   "source": [
    "```shell\n",
    "✗ dig -v\n",
    "netmgr/netmgr.c:232:isc__netmgr_create(): fatal error: libuv version too new: running with libuv 1.43.0 when compiled with libuv 1.34.2 will lead to libuv failures\n",
    "[1]    7331 IOT instruction (core dumped)  dig -v\n",
    "# manual install libuv 1.34.2\n",
    "# https://ubuntu.pkgs.org/20.04/ubuntu-main-amd64/libuv1_1.34.2-1ubuntu1_amd64.deb.html\n",
    "~ sudo dpkg -i libuv1_1.34.2-1ubuntu1_amd64.deb\n",
    "~ dig -v\n",
    "DiG 9.18.30-0ubuntu0.20.04.2-Ubuntu\n",
    "```"
   ]
  },
  {
   "cell_type": "code",
   "execution_count": 2,
   "metadata": {},
   "outputs": [
    {
     "name": "stdout",
     "output_type": "stream",
     "text": [
      "Python 3.12.9\n"
     ]
    }
   ],
   "source": [
    "!python --version"
   ]
  },
  {
   "cell_type": "code",
   "execution_count": null,
   "metadata": {},
   "outputs": [
    {
     "name": "stdout",
     "output_type": "stream",
     "text": [
      "1: lo: <LOOPBACK,UP,LOWER_UP> mtu 65536 qdisc noqueue state UNKNOWN group default qlen 1000\n",
      "    link/loopback 00:00:00:00:00:00 brd 00:00:00:00:00:00\n",
      "    inet 127.0.0.1/8 scope host lo\n",
      "       valid_lft forever preferred_lft forever\n",
      "    inet 10.255.255.254/32 brd 10.255.255.254 scope global lo\n",
      "       valid_lft forever preferred_lft forever\n",
      "    inet6 ::1/128 scope host \n",
      "       valid_lft forever preferred_lft forever\n",
      "2: eth0: <BROADCAST,MULTICAST,UP,LOWER_UP> mtu 1500 qdisc mq state UP group default qlen 1000\n",
      "    link/ether 00:15:5d:58:01:89 brd ff:ff:ff:ff:ff:ff\n",
      "    inet 172.22.152.92/20 brd 172.22.159.255 scope global eth0\n",
      "       valid_lft forever preferred_lft forever\n",
      "    inet6 fe80::215:5dff:fe58:189/64 scope link \n",
      "       valid_lft forever preferred_lft forever\n"
     ]
    }
   ],
   "source": [
    "!ip a"
   ]
  },
  {
   "cell_type": "markdown",
   "metadata": {},
   "source": [
    "`spike.com`: directory `/etc/bind`\n",
    "\n",
    "named.conf.local\n",
    "```conf\n",
    "include \"/etc/bind/zones.spike.com\";\n",
    "include \"/etc/bind/zones.r\";\n",
    "```\n",
    "\n",
    "zones.spike.com\n",
    "```conf\n",
    "zone \"spike.com\"      { type master; file \"/etc/bind/db.spike.com\"; };\n",
    "```\n",
    "\n",
    "db.spike.com\n",
    "```conf\n",
    ";\n",
    "; BIND data file for spike.com\n",
    ";\n",
    "$TTL\t604800\n",
    "@\tIN\tSOA\tspike.com. root.spike.com. (\n",
    "\t\t\t      2\t\t; Serial\n",
    "\t\t\t 604800\t\t; Refresh\n",
    "\t\t\t  86400\t\t; Retry\n",
    "\t\t\t2419200\t\t; Expire\n",
    "\t\t\t 604800 )\t; Negative Cache TTL\n",
    ";\n",
    "@\tIN\tNS\tns.spike.com.\n",
    "@\tIN\tA\t172.22.152.92\n",
    "@\tIN\tAAAA\t::1\n",
    "ns IN A 172.22.152.92\n",
    "```\n",
    "\n",
    "zones.r\n",
    "```conf\n",
    "zone \"92.152.22.in-addr.arpa\"      { type master; file \"/etc/bind/db.172\"; };\n",
    "```\n",
    "\n",
    "db.127\n",
    "```conf\n",
    ";\n",
    "; BIND reverse data file for local 172.22.152.92/20 net\n",
    ";\n",
    "$TTL\t604800\n",
    "@\tIN\tSOA\tns.spike.com. root.spike.com. (\n",
    "\t\t\t      2\t\t; Serial\n",
    "\t\t\t 604800\t\t; Refresh\n",
    "\t\t\t  86400\t\t; Retry\n",
    "\t\t\t2419200\t\t; Expire\n",
    "\t\t\t 604800 )\t; Negative Cache TTL\n",
    ";\n",
    "@\tIN\tNS\tns.\n",
    "10\tIN\tPTR\tns.spike.com.\n",
    "```\n",
    "\n",
    "/etc/resolv.conf\n",
    "```conf\n",
    "nameserver 172.22.152.92\n",
    "search spike.com\n",
    "```\n"
   ]
  },
  {
   "cell_type": "code",
   "execution_count": 3,
   "metadata": {},
   "outputs": [
    {
     "name": "stdout",
     "output_type": "stream",
     "text": [
      "\n",
      "; <<>> DiG 9.18.30-0ubuntu0.20.04.2-Ubuntu <<>> -x 127.0.0.1\n",
      ";; global options: +cmd\n",
      ";; Got answer:\n",
      ";; ->>HEADER<<- opcode: QUERY, status: NOERROR, id: 55802\n",
      ";; flags: qr aa rd ad; QUERY: 1, ANSWER: 5, AUTHORITY: 0, ADDITIONAL: 1\n",
      ";; WARNING: recursion requested but not available\n",
      "\n",
      ";; OPT PSEUDOSECTION:\n",
      "; EDNS: version: 0, flags:; udp: 1232\n",
      ";; QUESTION SECTION:\n",
      ";1.0.0.127.in-addr.arpa.\t\tIN\tPTR\n",
      "\n",
      ";; ANSWER SECTION:\n",
      "1.0.0.127.in-addr.arpa.\t601591\tIN\tPTR\tharbordevopsp.com.\n",
      "1.0.0.127.in-addr.arpa.\t601591\tIN\tPTR\tec95f593874f.\n",
      "1.0.0.127.in-addr.arpa.\t601591\tIN\tPTR\tzhoujiagen.\n",
      "1.0.0.127.in-addr.arpa.\t601591\tIN\tPTR\tauthz.com.\n",
      "1.0.0.127.in-addr.arpa.\t601591\tIN\tPTR\tdemo.localdev.me.\n",
      "\n",
      ";; Query time: 9 msec\n",
      ";; SERVER: 10.255.255.254#53(10.255.255.254) (UDP)\n",
      ";; WHEN: Wed Apr 02 15:50:08 CST 2025\n",
      ";; MSG SIZE  rcvd: 207\n",
      "\n"
     ]
    }
   ],
   "source": [
    "!dig -x 127.0.0.1"
   ]
  },
  {
   "cell_type": "code",
   "execution_count": 7,
   "metadata": {},
   "outputs": [],
   "source": [
    "# !dig ubuntu.com"
   ]
  },
  {
   "cell_type": "code",
   "execution_count": 6,
   "metadata": {},
   "outputs": [],
   "source": [
    "# !dig spike.com"
   ]
  },
  {
   "cell_type": "markdown",
   "metadata": {},
   "source": [
    "## CoreDNS\n",
    "* https://coredns.io/\n",
    "\n",
    "> CoreDNS: DNS and Service Discovery\n",
    "\n",
    "actions:\n",
    "- https://github.com/jargonzhou/application-store/tree/main/ops/coredns"
   ]
  },
  {
   "cell_type": "code",
   "execution_count": 1,
   "metadata": {},
   "outputs": [
    {
     "name": "stdout",
     "output_type": "stream",
     "text": [
      "\n",
      "; <<>> DiG 9.18.30-0ubuntu0.20.04.2-Ubuntu <<>> @192.168.3.178 -p 1053 -t SRV +all -q users.services.devops.org\n",
      "; (1 server found)\n",
      ";; global options: +cmd\n",
      ";; Got answer:\n",
      ";; ->>HEADER<<- opcode: QUERY, status: NOERROR, id: 36722\n",
      ";; flags: qr aa rd; QUERY: 1, ANSWER: 3, AUTHORITY: 0, ADDITIONAL: 4\n",
      ";; WARNING: recursion requested but not available\n",
      "\n",
      ";; OPT PSEUDOSECTION:\n",
      "; EDNS: version: 0, flags:; udp: 1232\n",
      "; COOKIE: 5794505e0072144d (echoed)\n",
      ";; QUESTION SECTION:\n",
      ";users.services.devops.org.\tIN\tSRV\n",
      "\n",
      ";; ANSWER SECTION:\n",
      "users.services.devops.org. 300\tIN\tSRV\t10 16 20020 users.services.devops.org.\n",
      "users.services.devops.org. 300\tIN\tSRV\t10 16 20020 s1.users.services.devops.org.\n",
      "users.services.devops.org. 300\tIN\tSRV\t10 66 20021 s2.users.services.devops.org.\n",
      "\n",
      ";; ADDITIONAL SECTION:\n",
      "users.services.devops.org. 300\tIN\tA\t192.168.3.178\n",
      "s1.users.services.devops.org. 300 IN\tA\t192.168.3.178\n",
      "s2.users.services.devops.org. 300 IN\tA\t192.168.3.178\n",
      "\n",
      ";; Query time: 9 msec\n",
      ";; SERVER: 192.168.3.178#1053(192.168.3.178) (UDP)\n",
      ";; WHEN: Thu Apr 03 14:54:13 CST 2025\n",
      ";; MSG SIZE  rcvd: 411\n",
      "\n"
     ]
    }
   ],
   "source": [
    "!dig @192.168.3.178 -p 1053 -t SRV +all -q users.services.devops.org"
   ]
  },
  {
   "cell_type": "markdown",
   "metadata": {},
   "source": [
    "# Clients\n",
    "\n",
    "\n",
    "more:\n",
    "- dig: DNS lookup utility\n",
    "- nslookup: query Internet name servers interactively\n",
    "- host: DNS lookup utility\n",
    "- Wireshark"
   ]
  },
  {
   "cell_type": "markdown",
   "metadata": {},
   "source": [
    "## dnsjava\n",
    "* https://github.com/dnsjava/dnsjava\n",
    "\n",
    "actions:\n",
    "- workbench\\DataEngineering\\codes\\data-engineering-java\\infrastructure\\wire\\dns"
   ]
  }
 ],
 "metadata": {
  "kernelspec": {
   "display_name": "Python 3",
   "language": "python",
   "name": "python3"
  },
  "language_info": {
   "codemirror_mode": {
    "name": "ipython",
    "version": 3
   },
   "file_extension": ".py",
   "mimetype": "text/x-python",
   "name": "python",
   "nbconvert_exporter": "python",
   "pygments_lexer": "ipython3",
   "version": "3.12.9"
  }
 },
 "nbformat": 4,
 "nbformat_minor": 2
}
