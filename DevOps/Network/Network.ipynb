{
 "cells": [
  {
   "cell_type": "markdown",
   "metadata": {},
   "source": [
    "# Network\n",
    "\n",
    "books:\n",
    "- UNIX网络编程卷1：套接字API \n",
    "- UNIX网络编程卷2：进程间通信 \n",
    "- TCP/IP Illustrated, Volume 1: The Protocols\n",
    "- TCP IP Illustrated, Volume 2: The Implementation\n",
    "- Understanding Linux Network Internals \n",
    "\n",
    "more books:\n",
    "- The Linux Programming Interface \n",
    "- Advanced Programming in the UNIX Environment \n",
    "\n",
    "More:\n",
    "- [Network.md](./Network.md)"
   ]
  },
  {
   "cell_type": "markdown",
   "metadata": {},
   "source": [
    "# 术语"
   ]
  },
  {
   "cell_type": "markdown",
   "metadata": {},
   "source": [
    "## I/O模型\n",
    "\n",
    "> UNIX网络编程卷1：套接字API - 6.2 I/O模型\n",
    "\n",
    "- 阻塞I/O\n",
    "- 非阻塞I/O\n",
    "- I/O复用: `select`, `poll`\n",
    "- 信号驱动I/O: `SIGIO`\n",
    "- 异步/IO: POSIX.1 `aio_`\n",
    "\n",
    "对一个套接口上的输入操作, 有两个阶段:\n",
    "- 1. 等待数据到达网络, 当分组到达时, 它被拷贝到内核的某个缓冲区.\n",
    "- 2. 将数据从内核缓冲区拷贝到应用缓冲区.\n",
    "\n",
    "\n",
    "<!-- ![](./images/IO模型比较.png) -->\n",
    "<img src=\"./images/IO模型比较.png\" alt=\"drawing\" width=\"800\"/>\n"
   ]
  },
  {
   "cell_type": "markdown",
   "metadata": {},
   "source": [
    "## 阻塞/非阻塞\n",
    "\n",
    "<!-- ![](./images/阻塞IO模型.png) -->\n",
    "<img src=\"./images/阻塞IO模型.png\" alt=\"drawing\" width=\"800\"/>\n",
    "\n",
    "\n",
    "- `recvfrom`: 有一个从应用进程中运行到内核中运行的切换, 再跟一个返回到应用进程的切换.\n",
    "- `recvfrom`直到数据报到达且拷贝到应用缓冲区或是出错才返回.\n",
    "- 进程阻塞的时间: 从调用`recvfrom`开始到它返回的这段时间.\n",
    "- 轮询(polling): 循环调用`recvfrom`, 不断查询内核, 看某个操作是否准备好.\n",
    "\n",
    "> UNIX网络编程卷1：套接字API - 15. 非阻塞I/O\n",
    "\n",
    "缺省情况下, 套接字是阻塞方式的, 这意味着当一个套接口调用不能立即完成时, 进程进入睡眠状态, 等待操作完成.\n",
    "\n",
    "<!-- ![](./images/非阻塞IO模型.png) -->\n",
    "<img src=\"./images/非阻塞IO模型.png\" alt=\"drawing\" width=\"800\"/>\n",
    "\n",
    "\n",
    "- 将套接口设置成非阻塞方式, 即通知内核: 当请求的I/O操作非得让进程睡眠不能完成时, 不要让进程睡眠, 而应返回一个错误.\n",
    "- 前3次调用`recvfrom`时无数据返回, 内核立即返回一个`EWOULDBLOCK`错误.\n",
    "- 第4次调用`recvfrom`是数据报已准备好, 被拷贝到应用缓冲区, `recvfrom`返回成功.\n",
    "\n",
    "\n",
    "\n",
    "\n",
    "\n",
    "\n"
   ]
  },
  {
   "cell_type": "markdown",
   "metadata": {},
   "source": [
    "## I/O复用: select, poll, epoll\n",
    "\n",
    "<!-- ![](./images/IO复用模型.png) -->\n",
    "<img src=\"./images/IO复用模型.png\" alt=\"drawing\" width=\"800\"/>\n",
    "\n",
    "\n",
    "- 调用`select`或`poll`, 在这些系统调用的某一个上阻塞, 而不是阻塞于真正的I/O系统调用.\n",
    "- 阻塞于`select`调用, 等待数据报套接口可读: 等待可能多个套接口中的任一个变为可读.\n",
    "- 当`select`返回套接口可读条件时, 调用`recvfrom`将数据报拷贝到应用缓冲区."
   ]
  },
  {
   "cell_type": "markdown",
   "metadata": {},
   "source": [
    "## 信号驱动I/O\n",
    "\n",
    "<!-- ![](./images/信号驱动IO模型.png) -->\n",
    "<img src=\"./images/信号驱动IO模型.png\" alt=\"drawing\" width=\"800\"/>\n",
    "\n",
    "- 使用信号, 让内核在描述字准备好时用信号`SIGIO`通知我们.\n",
    "- 先允许套接口进行信号驱动I/O, 通过系统调用`sigaction`安装一个信号处理程序(该系统调用是非阻塞的, 立即返回, 进程继续工作).\n",
    "- 当数据报准备好被读时, 内核为进程生成一个`SIGIO`信号.\n",
    "- 可以在信号处理程序中调用`recvfrom`读数据报, 并通知主循环数据已准备好被处理, 也可以通知主循环让它读数据报."
   ]
  },
  {
   "cell_type": "markdown",
   "metadata": {},
   "source": [
    "## 同步/异步\n",
    "\n",
    "- 同步I/O操作引起请求进程阻塞, 直到I/O完成.\n",
    "- 异步I/O操作不引起请求进程阻塞.\n",
    "\n",
    "<!-- ![](./images/异步IO模型.png) -->\n",
    "<img src=\"./images/异步IO模型.png\" alt=\"drawing\" width=\"800\"/>\n",
    "\n",
    "- 让内核启动操作, 并在整个操作完成(包括将数据从内核拷贝到应用缓冲区)后, 通知我们.\n",
    "- 调用`aio_read`给内核传递描述字, 缓冲区指针, 缓冲区大小, 文件偏移, 并告诉内核当整个操作完成时如何通知我们(例如生成一个信号).\n",
    "- `aio_read`立即返回, 进程不阻塞于等待I/O操作的完成.\n"
   ]
  },
  {
   "cell_type": "markdown",
   "metadata": {},
   "source": [
    "# OSI Model"
   ]
  },
  {
   "cell_type": "markdown",
   "metadata": {},
   "source": [
    "<!-- ![](./images/OSI%20model.png) -->\n",
    "<img src=\"./images/OSI%20model.png\" alt=\"drawing\" width=\"800\"/>"
   ]
  },
  {
   "cell_type": "markdown",
   "metadata": {},
   "source": [
    "# TCP/IP Suite"
   ]
  },
  {
   "cell_type": "markdown",
   "metadata": {},
   "source": [
    "<img src=\"./images/TCPIP%20Suite.png\" alt=\"drawing\" width=\"800\"/>"
   ]
  },
  {
   "cell_type": "markdown",
   "metadata": {},
   "source": [
    "Address, Protocols:\n",
    "\n",
    "<img src=\"./images/TCPIP address and protocols.png\" alt=\"drawing\" width=\"800\"/>"
   ]
  },
  {
   "cell_type": "markdown",
   "metadata": {},
   "source": [
    "# RFC\n",
    "- [Official Internet Protocol Standards](https://www.rfc-editor.org/standards.php)"
   ]
  },
  {
   "cell_type": "markdown",
   "metadata": {},
   "source": [
    "# Packet"
   ]
  },
  {
   "cell_type": "markdown",
   "metadata": {},
   "source": [
    "- [pocketguide1.pdf](./pocketguide1.pdf)"
   ]
  },
  {
   "cell_type": "markdown",
   "metadata": {},
   "source": [
    "# IP"
   ]
  },
  {
   "cell_type": "markdown",
   "metadata": {},
   "source": [
    "# DNS\n",
    "- [DNS.ipynb](./DNS.ipynb)"
   ]
  },
  {
   "cell_type": "markdown",
   "metadata": {},
   "source": [
    "# TCP\n",
    "- [TCP.ipynb](./TCP.ipynb)"
   ]
  },
  {
   "cell_type": "markdown",
   "metadata": {},
   "source": [
    "# UDP"
   ]
  },
  {
   "cell_type": "markdown",
   "metadata": {},
   "source": [
    "# Apache Commons Net\n",
    "* https://commons.apache.org/proper/commons-net/"
   ]
  },
  {
   "cell_type": "markdown",
   "metadata": {},
   "source": [
    "Supported protocols include:\n",
    "\n",
    "- FTP/FTPS\n",
    "- FTP over HTTP (experimental)\n",
    "- NNTP\n",
    "- SMTP(S)\n",
    "- POP3(S)\n",
    "- IMAP(S)\n",
    "- Telnet\n",
    "- TFTP\n",
    "- Finger\n",
    "- Whois\n",
    "- rexec/rcmd/rlogin\n",
    "- Time (rdate) and Daytime\n",
    "- Echo\n",
    "- Discard\n",
    "- NTP/SNTP"
   ]
  },
  {
   "cell_type": "markdown",
   "metadata": {},
   "source": [
    "# Netty\n",
    "- [Netty.ipynb](./Netty.ipynb)"
   ]
  },
  {
   "cell_type": "markdown",
   "metadata": {},
   "source": [
    "# gRPC\n",
    "\n",
    "- [透明重试](https://github.com/grpc/proposal/blob/master/A6-client-retries.md#transparent-retries)\n",
    "\n",
    "actions:\n",
    "- Golang\\applications\\grpc\n",
    "- Python\\applications\\network"
   ]
  },
  {
   "cell_type": "markdown",
   "metadata": {},
   "source": [
    "# HTTP\n",
    "* [HTTP.ipynb](./HTTP.ipynb)"
   ]
  },
  {
   "cell_type": "markdown",
   "metadata": {},
   "source": [
    "# Tools\n",
    "- [RFC20 - ASCII format for Network Interchange](https://datatracker.ietf.org/doc/html/rfc20)\n",
    "\n",
    "Misc:\n",
    "- [An ASCII Header Generator for Network Protocols](https://github.com/luismartingarcia/protocol)"
   ]
  },
  {
   "cell_type": "code",
   "execution_count": 4,
   "metadata": {},
   "outputs": [],
   "source": [
    "import requests\n",
    "\n",
    "res = requests.get('https://www.rfc-editor.org/rfc/rfc20.txt').text"
   ]
  },
  {
   "cell_type": "code",
   "execution_count": 63,
   "metadata": {},
   "outputs": [],
   "source": [
    "# print(res)"
   ]
  },
  {
   "cell_type": "markdown",
   "metadata": {},
   "source": [
    "## nwdiag\n",
    "* https://github.com/blockdiag/nwdiag\n",
    "* fonts: http://blockdiag.com/en/nwdiag/introduction.html\n",
    "\n",
    "> nwdiag generate network-diagram image file from spec-text file.\n",
    "\n",
    "> nwdiag package contains three commands: nwdiag, packetdiag and rackdiag. [ref](https://groups.google.com/g/blockdiag-discuss/c/gp0_1fBbFcE)\n",
    "\n",
    "\n",
    "WARN: not well-documented grammar see [parser.py](https://github.com/blockdiag/nwdiag/blob/master/src/packetdiag/parser.py)"
   ]
  },
  {
   "cell_type": "code",
   "execution_count": 56,
   "metadata": {},
   "outputs": [
    {
     "name": "stdout",
     "output_type": "stream",
     "text": [
      "Requirement already satisfied: blockdiag in d:\\software\\miniconda3\\lib\\site-packages (3.0.0)\n",
      "Requirement already satisfied: setuptools in d:\\software\\miniconda3\\lib\\site-packages (from blockdiag) (75.2.0)\n",
      "Requirement already satisfied: funcparserlib>=1.0.0a0 in d:\\software\\miniconda3\\lib\\site-packages (from blockdiag) (2.0.0a0)\n",
      "Requirement already satisfied: Pillow>3.0 in d:\\software\\miniconda3\\lib\\site-packages (from blockdiag) (9.5.0)\n",
      "Requirement already satisfied: webcolors in d:\\software\\miniconda3\\lib\\site-packages (from blockdiag) (24.8.0)\n",
      "Requirement already satisfied: funcparserlib in d:\\software\\miniconda3\\lib\\site-packages (2.0.0a0)\n",
      "Requirement already satisfied: nwdiag in d:\\software\\miniconda3\\lib\\site-packages (3.0.0)\n",
      "Requirement already satisfied: blockdiag>=3.0.0 in d:\\software\\miniconda3\\lib\\site-packages (from nwdiag) (3.0.0)\n",
      "Requirement already satisfied: setuptools in d:\\software\\miniconda3\\lib\\site-packages (from blockdiag>=3.0.0->nwdiag) (75.2.0)\n",
      "Requirement already satisfied: funcparserlib>=1.0.0a0 in d:\\software\\miniconda3\\lib\\site-packages (from blockdiag>=3.0.0->nwdiag) (2.0.0a0)\n",
      "Requirement already satisfied: Pillow>3.0 in d:\\software\\miniconda3\\lib\\site-packages (from blockdiag>=3.0.0->nwdiag) (9.5.0)\n",
      "Requirement already satisfied: webcolors in d:\\software\\miniconda3\\lib\\site-packages (from blockdiag>=3.0.0->nwdiag) (24.8.0)\n",
      "Requirement already satisfied: Pillow==9.5.0 in d:\\software\\miniconda3\\lib\\site-packages (9.5.0)\n"
     ]
    }
   ],
   "source": [
    "!pip install blockdiag\n",
    "!pip install funcparserlib\n",
    "!pip install nwdiag\n",
    "# https://github.com/tensorflow/models/issues/11040\n",
    "!pip install Pillow==9.5.0"
   ]
  },
  {
   "cell_type": "code",
   "execution_count": 57,
   "metadata": {},
   "outputs": [
    {
     "name": "stdout",
     "output_type": "stream",
     "text": [
      "nwdiag 3.0.0\n"
     ]
    }
   ],
   "source": [
    "!nwdiag --version"
   ]
  },
  {
   "cell_type": "code",
   "execution_count": null,
   "metadata": {},
   "outputs": [
    {
     "name": "stdout",
     "output_type": "stream",
     "text": [
      "Usage: nwdiag [options] infile\n",
      "\n",
      "Options:\n",
      "  --version             show program's version number and exit\n",
      "  -h, --help            show this help message and exit\n",
      "  -a, --antialias       Pass diagram image to anti-alias filter\n",
      "  -c FILE, --config=FILE\n",
      "                        read configurations from FILE\n",
      "  --debug               Enable debug mode\n",
      "  -o FILE               write diagram to FILE\n",
      "  -f FONT, --font=FONT  use FONT to draw diagram\n",
      "  --fontmap=FONT        use FONTMAP file to draw diagram\n",
      "  --no-transparency     do not make transparent background of diagram (PNG\n",
      "                        only)\n",
      "  --size=SIZE           Size of diagram (ex. 320x240)\n",
      "  -T TYPE               Output diagram as TYPE format\n",
      "  --nodoctype           Do not output doctype definition tags (SVG only)\n"
     ]
    }
   ],
   "source": [
    "!nwdiag --help"
   ]
  },
  {
   "cell_type": "code",
   "execution_count": 88,
   "metadata": {},
   "outputs": [
    {
     "data": {
      "image/png": "[encoded data removed]",
      "text/plain": [
       "<IPython.core.display.Image object>"
      ]
     },
     "execution_count": 88,
     "metadata": {},
     "output_type": "execute_result"
    }
   ],
   "source": [
    "!nwdiag -f C:/Windows/Fonts/DejaVuSansMono.ttf -o diag/sample.png diag/sample.diag\n",
    "from IPython.display import Image\n",
    "Image(filename=\"diag\\\\sample.png\") "
   ]
  },
  {
   "cell_type": "code",
   "execution_count": 89,
   "metadata": {},
   "outputs": [
    {
     "data": {
      "image/png": "[encoded data removed]",
      "text/plain": [
       "<IPython.core.display.Image object>"
      ]
     },
     "execution_count": 89,
     "metadata": {},
     "output_type": "execute_result"
    }
   ],
   "source": [
    "!packetdiag -f C:/Windows/Fonts/DejaVuSansMono.ttf -o diag/tcp.png diag/tcp.diag\n",
    "from IPython.display import Image\n",
    "Image(filename=\"diag\\\\tcp.png\") "
   ]
  },
  {
   "cell_type": "code",
   "execution_count": 90,
   "metadata": {},
   "outputs": [
    {
     "data": {
      "image/png": "[encoded data removed]",
      "text/plain": [
       "<IPython.core.display.Image object>"
      ]
     },
     "execution_count": 90,
     "metadata": {},
     "output_type": "execute_result"
    }
   ],
   "source": [
    "!rackdiag -f C:/Windows/Fonts/DejaVuSansMono.ttf -o diag/rack.png diag/rack.diag\n",
    "from IPython.display import Image\n",
    "Image(filename=\"diag\\\\rack.png\") "
   ]
  },
  {
   "cell_type": "markdown",
   "metadata": {},
   "source": [
    "## vscode-pdf\n",
    "* https://marketplace.visualstudio.com/items?itemName=tomoki1207.pdf"
   ]
  },
  {
   "cell_type": "markdown",
   "metadata": {},
   "source": [
    "## tcpdump\n",
    "- [tcpdump.ipynb](./tools/tcpdump.ipynb)"
   ]
  },
  {
   "cell_type": "markdown",
   "metadata": {},
   "source": [
    "## Wireshark\n",
    "* [Wireshark.ipynb](./tools/Wireshark.ipynb)"
   ]
  },
  {
   "cell_type": "markdown",
   "metadata": {},
   "source": [
    "## HAProxy\n",
    "* [HAProxy.ipynb](./tools/HAProxy.ipynb)"
   ]
  },
  {
   "cell_type": "markdown",
   "metadata": {},
   "source": [
    "# Linux Network Kernel Parameters\n",
    "\n",
    "* [linux-network-performance-parameters](https://github.com/leandromoreira/linux-network-performance-parameters)"
   ]
  },
  {
   "cell_type": "code",
   "execution_count": 2,
   "metadata": {},
   "outputs": [
    {
     "name": "stdout",
     "output_type": "stream",
     "text": [
      "env: ROOT_PWD=zhoujiagen\n"
     ]
    }
   ],
   "source": [
    "%env ROOT_PWD=zhoujiagen"
   ]
  },
  {
   "cell_type": "code",
   "execution_count": null,
   "metadata": {},
   "outputs": [
    {
     "name": "stdout",
     "output_type": "stream",
     "text": [
      "[sudo] password for zhoujiagen: net.bridge.bridge-nf-call-arptables = 1\n",
      "net.bridge.bridge-nf-call-ip6tables = 1\n",
      "net.bridge.bridge-nf-call-iptables = 1\n",
      "net.bridge.bridge-nf-filter-pppoe-tagged = 0\n",
      "net.bridge.bridge-nf-filter-vlan-tagged = 0\n",
      "net.bridge.bridge-nf-pass-vlan-input-dev = 0\n",
      "net.core.bpf_jit_enable = 1\n",
      "net.core.bpf_jit_harden = 0\n",
      "net.core.bpf_jit_kallsyms = 1\n",
      "net.core.bpf_jit_limit = 528482304\n",
      "net.core.busy_poll = 0\n",
      "net.core.busy_read = 0\n",
      "net.core.default_qdisc = fq_codel\n",
      "net.core.dev_weight = 64\n",
      "net.core.dev_weight_rx_bias = 1\n",
      "net.core.dev_weight_tx_bias = 1\n",
      "net.core.devconf_inherit_init_net = 0\n",
      "net.core.fb_tunnels_only_for_init_net = 0\n",
      "net.core.flow_limit_cpu_bitmap = 00000\n",
      "net.core.flow_limit_table_len = 4096\n"
     ]
    }
   ],
   "source": [
    "# sysctl \n",
    "# -a: Display all values currently available.\n",
    "# -w: Use this option when all arguments prescribe a key to be set.\n",
    "# -p: Use this option when all arguments prescribe a key to be set.\n",
    "!echo $ROOT_PWD | sudo -S sysctl -a | grep net | sort | head -n 20"
   ]
  },
  {
   "cell_type": "code",
   "execution_count": 15,
   "metadata": {},
   "outputs": [
    {
     "name": "stdout",
     "output_type": "stream",
     "text": [
      "[sudo] password for zhoujiagen: net.ipv4.tcp_orphan_retries = 0\n",
      "net.ipv4.tcp_retries1 = 3\n",
      "net.ipv4.tcp_retries2 = 15\n",
      "net.ipv4.tcp_syn_retries = 6\n",
      "net.ipv4.tcp_synack_retries = 5\n",
      "net.ipv4.vs.sync_retries = 0\n",
      "net.ipv6.idgen_retries = 3\n"
     ]
    }
   ],
   "source": [
    "!echo $ROOT_PWD | sudo -S sysctl -a | grep net | grep retrie"
   ]
  },
  {
   "cell_type": "code",
   "execution_count": 5,
   "metadata": {},
   "outputs": [
    {
     "name": "stdout",
     "output_type": "stream",
     "text": [
      "# Functions previously found in netbase\n",
      "#net.ipv4.conf.default.rp_filter=1\n",
      "#net.ipv4.conf.all.rp_filter=1\n",
      "# See http://lwn.net/Articles/277146/\n",
      "#net.ipv4.tcp_syncookies=1\n",
      "#net.ipv4.ip_forward=1\n",
      "#net.ipv6.conf.all.forwarding=1\n",
      "# Additional settings - these settings can improve the network\n",
      "# security of the host and prevent against some network attacks\n",
      "# redirection. Some network environments, however, require that these\n",
      "#net.ipv4.conf.all.accept_redirects = 0\n",
      "#net.ipv6.conf.all.accept_redirects = 0\n",
      "# net.ipv4.conf.all.secure_redirects = 1\n",
      "#net.ipv4.conf.all.send_redirects = 0\n",
      "#net.ipv4.conf.all.accept_source_route = 0\n",
      "#net.ipv6.conf.all.accept_source_route = 0\n",
      "#net.ipv4.conf.all.log_martians = 1\n"
     ]
    }
   ],
   "source": [
    "!cat /etc/sysctl.conf | grep \"net\" # | grep -v \"#\""
   ]
  },
  {
   "cell_type": "code",
   "execution_count": 11,
   "metadata": {},
   "outputs": [
    {
     "name": "stdout",
     "output_type": "stream",
     "text": [
      "7200\n"
     ]
    }
   ],
   "source": [
    "# ex: echo \"0\" > /proc/sys/net/ipv4/tcp_tw_recycle # net.ipv4.tcp_tw_recycle has been removed from Linux in 4.12\n",
    "# !tree /proc/sys/net\n",
    "!cat /proc/sys/net/ipv4/tcp_keepalive_time"
   ]
  },
  {
   "cell_type": "markdown",
   "metadata": {},
   "source": [
    "# Ubuntu Network\n",
    "* https://documentation.ubuntu.com/server/explanation/networking/"
   ]
  },
  {
   "cell_type": "markdown",
   "metadata": {},
   "source": [
    "## netplan\n",
    "* https://github.com/canonical/netplan"
   ]
  },
  {
   "cell_type": "markdown",
   "metadata": {},
   "source": [
    "```shell\n",
    "sudo apt-get install netplan.io\n",
    "```"
   ]
  },
  {
   "cell_type": "markdown",
   "metadata": {},
   "source": [
    "# NetworkManager\n",
    "* [Ubuntu NetworkManager and netplan](https://ubuntu.com/core/docs/networkmanager/networkmanager-and-netplan)"
   ]
  }
 ],
 "metadata": {
  "kernelspec": {
   "display_name": "base",
   "language": "python",
   "name": "python3"
  },
  "language_info": {
   "codemirror_mode": {
    "name": "ipython",
    "version": 3
   },
   "file_extension": ".py",
   "mimetype": "text/x-python",
   "name": "python",
   "nbconvert_exporter": "python",
   "pygments_lexer": "ipython3",
   "version": "3.12.3"
  }
 },
 "nbformat": 4,
 "nbformat_minor": 2
}
