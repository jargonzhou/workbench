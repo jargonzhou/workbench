{
 "cells": [
  {
   "cell_type": "markdown",
   "metadata": {},
   "source": [
    "# Netty\n",
    "- [netty/netty](https://github.com/netty/netty): Netty project - an event-driven asynchronous network application framework\n",
    "\n",
    "> Netty is an NIO client server framework which enables quick and easy development of network applications such as protocol servers and clients. It greatly simplifies and streamlines network programming such as TCP and UDP socket server.\n",
    "\n",
    "> 'Quick and easy' doesn't mean that a resulting application will suffer from a maintainability or a performance issue. Netty has been designed carefully with the experiences earned from the implementation of a lot of protocols such as FTP, SMTP, HTTP, and various binary and text-based legacy protocols. As a result, Netty has succeeded to find a way to achieve ease of development, performance, stability, and flexibility without a compromise.\n",
    "\n",
    "books:\n",
    "- Netty in Action\n",
    "- Netty权威指南\n",
    "\n",
    "actions:\n",
    "- example: `D:\\workspace\\github\\learning-cloudnative\\networking`\n",
    "- UML: `D:\\workspace\\github\\workbench\\UML`\n",
    "- code: `D:\\workspace\\rtfsc\\netty`\n",
    "\n",
    "\n",
    "\n",
    "More:\n",
    "- [万字长文带你深入理解netty，史上最强详解！](https://zhuanlan.zhihu.com/p/389034303?utm_id=0)\n",
    "- [9.2 I/O 多路复用：select/poll/epoll](https://www.xiaolincoding.com/os/8_network_system/selete_poll_epoll.html)\n",
    "- [Netty堆外内存泄漏排查，这一篇全讲清楚了 - 掘金](https://juejin.cn/post/6844904036672471048)"
   ]
  },
  {
   "cell_type": "markdown",
   "metadata": {},
   "source": [
    "![Netty高层次的组件图](https://netty.io/images/components.png)"
   ]
  },
  {
   "cell_type": "markdown",
   "metadata": {},
   "source": [
    "# Components"
   ]
  },
  {
   "cell_type": "markdown",
   "metadata": {},
   "source": [
    "## Channel, EventLoop, ChannelFuture\n",
    "\n",
    "Channel: abstract Sockets\n",
    "- EmbeddedChannel\n",
    "- LocalServerChannel\n",
    "- NioDatagramChannel\n",
    "- NioSctpChannel\n",
    "- NioSocketChannel\n",
    "\n",
    "EventLoop: abstract control flow, multithreading, concurrency\n",
    "- an EventLoopGroup container 1+ EventLoops.\n",
    "- **an EventLoop is bound to a single Thread for its lifetime**.\n",
    "- all IO events processed by an EventLoop are handled on its dedicated Thread. - IO thread\n",
    "- **a Channel is registered for its lifetime with a single EventLoop**.\n",
    "- a single EventLoop may be assigned to 1+ Channels.\n",
    "\n",
    "ChannelFuture: abstract asynchronous notification\n",
    "- ChannelFutureListener: ChannelFuture#addListener()\n",
    "\n",
    "## ChannelHandler, ChannelPipeline\n",
    "\n",
    "ChannelHandler: container for application logic, handle inbound and outbound data. its methods are triggered by network events.\n",
    "- ChannelInboundHandler\n",
    "- ChannelOutboundHandler\n",
    "- SimpleChannelInboundHandler: receive a decoded message and apply business logic to the data. `channelRead0(ChannelHandlerContext, T)`\n",
    "- adapters: \n",
    "  - ChannelHandlerAdapter\n",
    "  - ChannelInboundHandlerAdapter\n",
    "  - ChannelOutboundHandlerAdapter\n",
    "  - ChannelDuplexHandlerAdapter\n",
    "  - encoders, decoders\n",
    "\n",
    "\n",
    "ChannelPipeline: a container for a chain of ChannelHandlers, propagate the flow of inbound and outbound events along the chain.\n",
    "- when a Channel is created, it is assigned its own ChannelPipeline.\n",
    "- ChannelIntitializer, ServerBootstrap\n",
    "- ChannelIntitializer#initChannel()\n",
    "\n",
    "encoder, decoder\n",
    "- encode the outbound message to bytes\n",
    "- decode the inbound message from bytes\n",
    "- MessageToByteEncoder, ByteToMessageDecoder\n",
    "- ProtobufEncoder, ProtobufDecoder\n",
    "\n",
    "## Bootstrapping\n",
    "\n",
    "container for the configuration of an application's network layer:\n",
    "- server: bind a process to a given port\n",
    "  - ServerBootstrap, 2 EventLoopGroups\n",
    "  - ServerChannel, Channel\n",
    "- client: connect one process to another one running on a specific host at specific port\n",
    "  - Bootstrap: 1 EventLoopGroup"
   ]
  },
  {
   "cell_type": "markdown",
   "metadata": {},
   "source": [
    "# Transports"
   ]
  },
  {
   "cell_type": "markdown",
   "metadata": {},
   "source": [
    "- OIO: io.netty.channel.socket.oio\n",
    "  - `java.net`\n",
    "  - OioServerSocketChannel\n",
    "  - NioEventLoopGroup\n",
    "- NIO: io.netty.channel.socket.nio\n",
    "  - selector-base API since JDK 1.4\n",
    "  - NioServerSocketChannel\n",
    "- Epoll: io.netty.channel.epoll\n",
    "  - Linux 2.5.44\n",
    "  - Linux JDK NIP API\n",
    "  - EpollServerSocketChannel\n",
    "- Local: io.netty.channel.local\n",
    "  - clients and server with same JVM\n",
    "- Embedded: io.netty.channel.embedded\n",
    "  - embed ChannelHandlers as helper classes inside other ChannelHandlers\n",
    "  - unit test\n",
    "  - EmbeddedChannel"
   ]
  },
  {
   "cell_type": "markdown",
   "metadata": {},
   "source": [
    "io.netty.channel.Channel\n",
    "- hold: ChannelPipeline, ChannelConfig\n",
    "- implementations are thread-safe\n",
    "- ServerChannel: tag interface\n",
    "- SocketChannel\n",
    "- DatagramChannel\n",
    "- AbstractChannel: skeletal implementation\n",
    "- methods\n",
    "  - `isActive()`: meaning depend on transport. for socket, active once connected to remote peer; for datagram, active once opened.\n",
    "\n",
    "io.netty.channel.Channel.Unsafe\n",
    "- should NOT called from user-code\n",
    "- implement the actual transport"
   ]
  },
  {
   "cell_type": "markdown",
   "metadata": {},
   "source": [
    "# ByteBuf"
   ]
  },
  {
   "cell_type": "markdown",
   "metadata": {},
   "source": [
    "ByteBuf: alternative Java NIO ByteBuffer\n",
    "- readerIndex, writerIndex\n",
    "  - `read`, `write`: advance the index.\n",
    "  - `get`, `read`: not advance the index.\n",
    "\n",
    "```\n",
    "+-------------------+------------------+------------------+\n",
    "| discardable bytes |  readable bytes  |  writable bytes  |\n",
    "|                   |     (CONTENT)    |                  |\n",
    "+-------------------+------------------+------------------+\n",
    "|                   |                  |                  |\n",
    "0      <=      readerIndex   <=   writerIndex    <=    capacity\n",
    "```\n",
    "\n",
    "- patterns\n",
    "  - heap buffer: on JVM heap space, `hasArray()`\n",
    "  - direct buffer: JDK 1.4 NIO, allocate memory via native calls, `!hasArray()`\n",
    "  - composite buffer: CompositeByteBuf\n"
   ]
  },
  {
   "cell_type": "markdown",
   "metadata": {},
   "source": [
    "byte level operations:\n",
    "- random access indexing: `capacity()`, `getByte(int)`\n",
    "- sequential access indexing\n",
    "- discardable bytes: `discardReadBytes()`\n",
    "- readable bytes: `isReable()`, `readByte()`\n",
    "- writable bytes: `writableBytes()`, `writeInt(int)`\n",
    "- index management: `markReaderIndex()/resetReaderIndex()`, `markWriterIndex()/resetWriterIndex()`, `clear()`\n",
    "- search operations: `process(byte)`, `forEachByte(...)`\n",
    "- derived buffers: \n",
    "  - view of ByteBuf: `duplicate()`, `slice()`, `Unpolled.unmodifiableBuffer(...)`, `oreder(ByteOrder)`, `readSlice(int)`\n",
    "  - copy: `copy()`\n",
    "- read/write operations: `get()/set()`, `read()/write()`\n",
    "- more operations\n",
    "  - `isReadable()/isWriteable()`, `readableBytes()/writableBytes()`, `capacity()`, `maxCapacity()`, `hasArray()/array()`"
   ]
  },
  {
   "cell_type": "markdown",
   "metadata": {},
   "source": [
    "ByteBufHolder: A packet which is send or receive.\n",
    "- `content()`\n",
    "- `copy()`: deep copy\n",
    "- `duplicate()`: shallow/shared copy"
   ]
  },
  {
   "cell_type": "markdown",
   "metadata": {},
   "source": [
    "ByteBuf allocation\n",
    "- on-demand: `ByteBufAllocator` \n",
    "  - pooling\n",
    "  - channel.alloc(), ctx.alloc()\n",
    "- unpooled buffers: `Unpooled` "
   ]
  },
  {
   "cell_type": "markdown",
   "metadata": {},
   "source": [
    "ByteBufUtil\n",
    "- `hexdump()`\n",
    "- `equals(ByteBuf, ByteBuf)`"
   ]
  },
  {
   "cell_type": "markdown",
   "metadata": {},
   "source": [
    "ReferenceCounted\n",
    "- `refCnt()`\n",
    "- `release()`"
   ]
  },
  {
   "cell_type": "markdown",
   "metadata": {},
   "source": [
    "# ChannelHandler, ChannelPipeline"
   ]
  },
  {
   "cell_type": "markdown",
   "metadata": {},
   "source": [
    "Channel lifecycle:\n",
    "- ChannelUnregistered: Channel created, NOT registered to an EventLoop\n",
    "- ChannelRegistered: registered to an EventLoop\n",
    "- ChannelActive: active(connected to its remote peer), possible to receive and send data\n",
    "- ChannelInactive: NOT connected to remote peer"
   ]
  },
  {
   "cell_type": "markdown",
   "metadata": {},
   "source": [
    "ChannelHandler lifecycle:\n",
    "- handlerAdded: called when ChannelHander is added to a ChannelPipeline\n",
    "- handlerRemoved: called when ChannelHander is removed from a ChannelPipeline\n",
    "- exceptionCaught: called if an error occurs in the ChannelPipeline during processing"
   ]
  },
  {
   "cell_type": "markdown",
   "metadata": {},
   "source": [
    "ChannelInboundHandler\n",
    "- channedlRegistered: invoked when Channel is registered to its EventLoop and able to handle IO\n",
    "- channelUnregistered\n",
    "- channelActive: invoked when Channel is connected/bound and ready\n",
    "- channelInactive: invoked when Channel no longer connected to its remote peer\n",
    "- channelReadComplete: invoked when a read operation on Channel has completed\n",
    "- channelRead: invoked if data is read from the Channel\n",
    "- channelWritabilityChanged: invoked when the writability of Channel changes.\n",
    "  - ensuer writes are NOT done too quickly(avoid OOM) or can resume writes when Channel become writable again\n",
    "  - Channel#isWritable()\n",
    "  - Channel.confg().setWriteHighWaterMark()/setWriteLowWaterMark()\n",
    "- userEventTriggered: invoked when ChannelInboundHandler#fireUserEventTriggered() is called due to a POJO was passed through ChannelPipeline"
   ]
  },
  {
   "cell_type": "markdown",
   "metadata": {},
   "source": [
    "ChannelOutboundHandler\n",
    "- bind: invoked on request to bind Channel to a local address\n",
    "- connect: invoked on request to connect Channel to the remote peer\n",
    "- disconnect: invoked on request to disconnect Channel from the the remote peer\n",
    "- close: invoked on request to close Channel\n",
    "- deregister: invoked on request to deregister Channel from its EventLoop\n",
    "- read: invoke on request to read more data from Channel\n",
    "- flush: invoke on request to flush queued data to the remote peer through Channel\n",
    "- write: invoked on request to write data through Channel to the remote peer\n",
    "\n",
    "ChannelPromise: subinterface of ChannelFuture\n",
    "- setSuccess\n",
    "- setFailure"
   ]
  },
  {
   "cell_type": "markdown",
   "metadata": {},
   "source": [
    "adapters:\n",
    "- ChannelHandlerAdapter\n",
    "- ChannelInboundHandlerAdapter\n",
    "- ChannelOutboundHandlerAdapter"
   ]
  },
  {
   "cell_type": "markdown",
   "metadata": {},
   "source": [
    "for polled ByteBuf: adjust the reference count\n",
    "- ReferenceCountUtil.release\n",
    "- ReferenceCounted\n",
    "\n",
    "- inbound\n",
    "\n",
    "When a `ChannelInboundHandler` implementation overrides `channelRead()`, it is responsible for explicitly releasing the memory associated with **pooled** `ByteBuf` instances. Netty provides a utility method for this purpose, `ReferenceCountUtil.release()`. \n",
    "Netty provides a special `ChannelInboundHandler` implementation called `SimpleChannelInboundHandler`. This\n",
    "implementation will automatically release a message once it’s consumed by `channelRead0()`.\n",
    "\n",
    "- outbound\n",
    "\n",
    "It is the responsibility of the user to call `ReferenceCountUtil.release()` if a message is consumed or discarded and not passed to the next `ChannelOutboundHandler` in the `ChannelPipeline`. If the message reaches the actual transport layer, it will be released automatically when it’s written or the `Channel` is closed.\n",
    "\n",
    "ResourceLeakDetector\n",
    "- Whenever you act on data by calling `ChannelInboundHandler.channelRead()` or `ChannelOutboundHandler.write()`, you need to ensure that there are no resource leaks.\n",
    "- sample 1% of buffer allocations\n",
    "- level: `io.netty.util.ResourceLeakDetector.Level`\n",
    "  - DISABLED\n",
    "  - SIMPLE\n",
    "  - ADVANCED: report also when the message was accessed\n",
    "  - PARANOID: every access is sampled\n",
    "\n",
    "```shell\n",
    "java -Dio.netty.leakDetectionLevel=ADVANCED\n",
    "```"
   ]
  },
  {
   "cell_type": "markdown",
   "metadata": {},
   "source": [
    "ChannelPipeline: a chain of ChannelHandlers that intercept the inbound/outbound evnets flow through a Channel\n",
    "- new Channel cread is asssigned a new ChannelPipeline, this association is permanent\n",
    "- event will handled by either ChannelInboundHandler or ChannelOutboundHandler\n",
    "- subsequently envent will be forwarded to the next handler by a call to a ChannelHandlerContext\n",
    "\n",
    "methods:\n",
    "- modify\n",
    "```java\n",
    "addFirst(String name, ChannelHandler handler)\n",
    "addFirst(EventExecutorGroup group, String name, ChannelHandler handler)\n",
    "```\n",
    "- access: `get`, `context`, `names`\n",
    "- firing events - inbound\n",
    "  - fireChannelRegistered: call next ChannelInboundHandler#channelRegistered(ctx)\n",
    "  - fireChannelUnregistered: call next ChannelInboundHandler#channelUnregistered(ctx)\n",
    "  - fireChannelActive: call next ChannelInboundHandler#channelActive(ctx)\n",
    "  - fireChannelInactive: call next ChannelInboundHandler#channelInactive(ctx)\n",
    "  - fireExceptionCaught: call next ChannelInboundHandler#exceptionCaught(ctx, t)\n",
    "  - fireUserEventTriggered: call next ChannelInboundHandler#userEventTriggered(ctx, o)\n",
    "  - fireChannelRead: call next ChannelInboundHandler#channelRead(ctx, msg)\n",
    "  - fireChannelReadComplete: call next ChannelInboundHandler#channelReadComplete(ctx)\n",
    "- firing events - outbound\n",
    "  - bind: bind Channel to local address. call next ChannelOutboundHandler#bind\n",
    "  - connect: connect Channel to remote address. call next ChannelOutboundHandler#connect\n",
    "  - disconnect: disconnect Channel. call next ChannelOutboundHandler#disconnect\n",
    "  - close: close Channel. call next ChannelOutboundHandler#close\n",
    "  - deregister: deregister Channel from EventLoop. call next ChannelOutboundHandler#deregister\n",
    "  - flush: flush all pending writes of Channel. call next ChannelOutboundHandler#flush\n",
    "  - write: write message to Channel' queue. call next ChannelOutboundHandler#write\n",
    "  - writeAndFlush: write and flush\n",
    "  - read: request to read more data from Channel. call next ChannelOutboundHandler#read"
   ]
  },
  {
   "cell_type": "markdown",
   "metadata": {},
   "source": [
    "ChannelHandlerContext\n",
    "- an association between a ChannelHandler and a ChannelPipeline, created whenenver a ChannelHandler is added to a ChannelPipeline.\n",
    "- enable ChannelHandler to interact with its ChannelPipiline and other handlers\n",
    "- ChannelHandler can notify the next ChannelHandler in the ChannelPipeline and even dynamically modify the ChannelPipeline it belongs to.\n",
    "- API: handle events, perform IO operations.\n",
    "  - some also present on Channel and ChannelPipeline: BUT start at the current associated ChannelHandler, propagate to the next ChannelHandler in the pipeline which can handle the event.\n",
    "\n",
    "methods:\n",
    "- bind: bind to SocketAddress\n",
    "- channel\n",
    "- close: close the channel\n",
    "- connect: connect to SocketeAddress\n",
    "- deregister: deregister from assigned EventExecutor\n",
    "- disconnect: disconnect from remote peer\n",
    "- executor: the EventExecutor that dispatch events\n",
    "- fireChannelActive: trigger call to channelActive() on next ChannelInboundHandler\n",
    "- fireChannelInactive: trigger call to channelInactive() on next ChannelInboundHandler\n",
    "- fireChannelRead: trigger call to channelRead() on next ChannelInboundHandler\n",
    "- fireChannelReadComplete: trigger channelWritabilityChanged event to next ChannelInboundHandler\n",
    "- handler\n",
    "- isRemoved\n",
    "- name\n",
    "- pipeline\n",
    "- read: read data from Channel into the first inbound buffer. trigger channelRead event if successful, notify the handler channelReadComplete.\n",
    "- write: write message via this instance through the pipeline\n",
    "\n",
    "advanced uses:\n",
    "- dynamic protocol change: ChannelHandlerContext#pipeline()\n",
    "- cache a reference to ChannelHandlerContext\n",
    "- `@Sharable`: a ChannelHandler can belong to more than one ChannelPipeline"
   ]
  },
  {
   "cell_type": "markdown",
   "metadata": {},
   "source": [
    "exception handling\n",
    "- inbound exceptions\n",
    "  - flow through the ChannelPipeline starting at the ChannelInboundHandler where it was triggered.\n",
    "  - `ChannelInboundHandler#exceptionCaught(ctx, e)`\n",
    "- outbound exceptions\n",
    "  - every outbound operation return ChannelFure. registered ChannelFutureListerners are notifyed of sucess or error when operation completes.\n",
    "  - ChannelOutboundHandler's method parameter ChannelPromise "
   ]
  },
  {
   "cell_type": "markdown",
   "metadata": {},
   "source": [
    "# EventLoop"
   ]
  },
  {
   "cell_type": "markdown",
   "metadata": {},
   "source": [
    "- threading pooling pattern\n",
    "\n",
    "EventLoop\n",
    "- powered by one Thread that never changes\n",
    "- immediate or scheduled execution\n",
    "- one EventLoop may be assigned to service multiple Channels\n",
    "- `scheculre()`, `scheduleAtFixedRate()`\n",
    "- internal task queue: if the calling Thread is not the Channel related EventLoop\n",
    "- long runnint tasks: use a dedicated EventExecutor\n",
    "\n",
    "Netty 4: all IO operations and events are handled by the Thread assigned to the EventLoop.\n",
    "\n",
    "Netty 3: inbound events are executed in IO thread, outbound events are handled by the calling thread (IO thread or any other)."
   ]
  },
  {
   "cell_type": "markdown",
   "metadata": {},
   "source": [
    "EventLoopGroup\n",
    "- asynchronous transport: a EventLoop/Thread is shared among Channels\n",
    "- bloking transport: each Channel gets a dedicated EventLoop"
   ]
  },
  {
   "cell_type": "markdown",
   "metadata": {},
   "source": [
    "# Bootstrapping"
   ]
  },
  {
   "cell_type": "markdown",
   "metadata": {},
   "source": [
    "ServerBootstrap\n",
    "- group(EventLoopGroup), group(EventLoopGroup, EventLoopGroup)\n",
    "- channel, channelFactory\n",
    "- localAddress\n",
    "- option: apply to ServerChannel's ChannelConfig\n",
    "- childOption: apply to Channel's ChannelConfig\n",
    "- attr: attribute on ServerChannel, set by bind()\n",
    "- childAttr: attribute on accepted Channels\n",
    "- handler: ServerChannel's ChannelPipeline\n",
    "- childHandler: accepted Channels' ChannelPipeline\n",
    "- bind: bind the ServerChannel\n",
    "- clone\n",
    "\n",
    "Bootstrap: clients, connectionless protocols\n",
    "- group(EventLoopGroup)\n",
    "- channel, channelFactory\n",
    "- localAddress\n",
    "- remoteAddress\n",
    "- option\n",
    "- attr\n",
    "- handler\n",
    "- bind: bind the Channel. - UDP\n",
    "- connect: connect to the remote peer, establish the connection. - TCP\n",
    "- clone"
   ]
  },
  {
   "cell_type": "markdown",
   "metadata": {},
   "source": [
    "ChannelInitializer"
   ]
  },
  {
   "cell_type": "markdown",
   "metadata": {},
   "source": [
    "ChannelOption"
   ]
  },
  {
   "cell_type": "markdown",
   "metadata": {},
   "source": [
    "AttributeMap, `AttributeKey<T>`\n",
    "- Bootstrap#attr\n",
    "- Channel#attr: never return null"
   ]
  },
  {
   "cell_type": "markdown",
   "metadata": {},
   "source": [
    "# Unit testing"
   ]
  },
  {
   "cell_type": "markdown",
   "metadata": {},
   "source": [
    "EmbeddedChannel\n",
    "- writeInbound\n",
    "- readInbound\n",
    "- writeOutbound\n",
    "- readOutbound\n",
    "- finish: return true if inbound/outbound data can be read. call close()"
   ]
  },
  {
   "cell_type": "markdown",
   "metadata": {},
   "source": [
    "# Codec Framework"
   ]
  },
  {
   "cell_type": "markdown",
   "metadata": {},
   "source": [
    "codec:\n",
    "- encoder: convert message to network byte stream. - outbound data\n",
    "- decoder: convert network byte stream to message - inbound data"
   ]
  },
  {
   "cell_type": "markdown",
   "metadata": {},
   "source": [
    "decoders\n",
    "- ByteToMessageDecoder\n",
    "  - decode: called repeated until no new items have been added to List or no more bytes are readable in ByteBuf. if List is not empty, its content are passed to next handler.\n",
    "  - decodeLast: called once when Channel goes inactive, default call decode()\n",
    "- ReplayingDecoder: extends ByteToMessageDecoder\n",
    "  - ReplayingDecoderBuffer: not all ByteBuf operations are supported.\n",
    "- MessageToMessageDecoder\n",
    "\n",
    "\n",
    "More: `io.netty.handler.codec`\n",
    "- LineBasedFrameDecoder\n",
    "- HttpObjectDecoder\n",
    "- HttpObjectAggregator\n",
    "\n",
    "exceptions:\n",
    "- TooLongFrameException"
   ]
  },
  {
   "cell_type": "markdown",
   "metadata": {},
   "source": [
    "encoders\n",
    "- MessageToByteEncoder\n",
    "  - encode\n",
    "- MessageToMessageEncoder "
   ]
  },
  {
   "cell_type": "markdown",
   "metadata": {},
   "source": [
    "abstract codec classes:\n",
    "- ByteToMessageCodec\n",
    "  - decode\n",
    "  - decodeLast\n",
    "  - encode\n",
    "- MessageToMessageCodec \n",
    "  - decode\n",
    "  - encode\n",
    "- CombinedChannelDuplexHandler: a container for a ChannelInboundHandler and a ChannelOutboundHandler"
   ]
  },
  {
   "cell_type": "markdown",
   "metadata": {},
   "source": [
    "# Provided ChannelHanders and codes"
   ]
  },
  {
   "cell_type": "markdown",
   "metadata": {},
   "source": [
    "SSL/TLS\n",
    "- `javax.net.ssl`, SSLContext, SSLEngine\n",
    "- SslHandler\n",
    "\n",
    "HTTP/HTTPS\n",
    "- FullHttpRequest: HttpRequest, HttpContent, LastHttpContent\n",
    "- FullHttpResponse: HttpResponse, HttpContent, LastHttpContent\n",
    "- HttpRequestEncoder\n",
    "- HttpResponseEncoder\n",
    "- HttpRequestDecoder\n",
    "- HttpResponseDecoder\n",
    "- HttpClientCodec\n",
    "- HttpServerCodec\n",
    "- message aggregation: HttpObjectAggregator\n",
    "- compression: HttpContentDecompressor, HttpContentCompressor\n",
    "- WebSocket: WebSocketFrame\n",
    "  - WebSocketServerProtocolHandler\n",
    "  - TextFrameHandler: TextWebSocketFrame\n",
    "  - BinaryFrameHandler: BinaryWebSocketFrame\n",
    "  - ContinuationFrameHandler: ContinuationWebSocketFrame"
   ]
  },
  {
   "cell_type": "markdown",
   "metadata": {},
   "source": [
    "idle connections, timeouts\n",
    "- IdleStateHandler: connection idles too long\n",
    "  - IdleStateEvent\n",
    "  - ChannelInboundHandler#userEventTriggered\n",
    "- ReadTimeoutHandler: throw exception and close Channel when no inbound data is received for specified interval\n",
    "  - ReadTimeoutException\n",
    "  - ChannelHandler#exceptionCaught \n",
    "- WriteTimeoutHandler: throw exception and close Channel when a write operation cannot finish in specified interval. \n",
    "  - WriteTimeoutException\n",
    "  - ChannelHandler#exceptionCaught "
   ]
  },
  {
   "cell_type": "markdown",
   "metadata": {},
   "source": [
    "delimited and length-based protocols\n",
    "- DelimiterBasedFrameDecoder\n",
    "- LineBasedFrameDecoder\n",
    "- FixedLengthFrameDecoder\n",
    "- LengthFieldBasedFrameDecoder"
   ]
  },
  {
   "cell_type": "markdown",
   "metadata": {},
   "source": [
    "writing big data:\n",
    "- FileRegion\n",
    "- DefaultFileRegion: zero-copy\n",
    "- ChunkedWriteHandler: need to copy data from file system to user memory\n",
    "  - ChunkedInput: ChunkedFile, ChunkedNioFile, ChunkedStream, ChunkedNioStream"
   ]
  },
  {
   "cell_type": "markdown",
   "metadata": {},
   "source": [
    "serializing data\n",
    "- JDK serialization\n",
    "  - CompatibleObjectDecoder, CompatibleObjectEncoder, \n",
    "  - ObjectDecoder, ObjectEncoder\n",
    "- JBoss Marshalling\n",
    "  - CompatibleMarshallingDecoder, CompatibleMarshallingEncoder\n",
    "  - MarshallingDecoder, MarshallingEncoder\n",
    "- Protocol Buffers\n",
    "  - ProtobufDecoder\n",
    "  - ProtobufEncoder\n",
    "  - ProtobufVarint32FrameDecoder"
   ]
  },
  {
   "cell_type": "markdown",
   "metadata": {},
   "source": [
    "# Protocol: WebSocket"
   ]
  },
  {
   "cell_type": "markdown",
   "metadata": {},
   "source": [
    "- HttpServerCodec\n",
    "- ChunkedWriteHandler\n",
    "- HttpObjectAggregator: FullHttpRequest\n",
    "- WebSocketServerProtocolHandler\n",
    "  - HandshakeComplete\n",
    "- SslHandler "
   ]
  },
  {
   "cell_type": "markdown",
   "metadata": {},
   "source": [
    "# Protocol: UDP"
   ]
  },
  {
   "cell_type": "markdown",
   "metadata": {},
   "source": [
    "- AddressedEnvelope, DefaultAddressedEnvelope\n",
    "- DatagramPacket\n",
    "- DatagramChannel, NioDatagramChannnel"
   ]
  },
  {
   "cell_type": "markdown",
   "metadata": {},
   "source": [
    "# RTFSC\n",
    "\n",
    "`D:\\workspace\\rtfsc\\netty` Branch 4.1."
   ]
  },
  {
   "cell_type": "markdown",
   "metadata": {},
   "source": [
    "## System Properties\n",
    "- [Document available system properties](https://github.com/netty/netty/issues/6305)"
   ]
  },
  {
   "cell_type": "markdown",
   "metadata": {},
   "source": [
    "```shell\n",
    "find . -name \\*.java -print0 | xargs -0 grep -e '\"io\\.netty\\.' | grep -v Test\n",
    "# manual remove package\n",
    "```\n",
    "\n",
    "### common\n",
    "\n",
    "- common/concurrent/DefaultPromise.java:            SystemPropertyUtil.getInt(\"io.netty.defaultPromise.maxListenerStackDepth\", 8));\n",
    "- common/concurrent/GlobalEventExecutor.java:        int quietPeriod = SystemPropertyUtil.getInt(\"io.netty.globalEventExecutor.quietPeriodSeconds\", 1);\n",
    "- common/concurrent/SingleThreadEventExecutor.java:            SystemPropertyUtil.getInt(\"io.netty.eventexecutor.maxPendingTasks\", Integer.MAX_VALUE));\n",
    "- common/internal/Hidden.java:                    \"io.netty.channel.nio.NioEventLoop\",\n",
    "- common/internal/Hidden.java:                    \"io.netty.channel.kqueue.KQueueEventLoop\",\n",
    "- common/internal/Hidden.java:                    \"io.netty.channel.epoll.EpollEventLoop\",\n",
    "- common/internal/Hidden.java:                    \"io.netty.util.HashedWheelTimer\",\n",
    "- common/internal/Hidden.java:                    \"io.netty.util.HashedWheelTimer\",\n",
    "- common/internal/Hidden.java:                    \"io.netty.util.HashedWheelTimer$Worker\",\n",
    "- common/internal/Hidden.java:                    \"io.netty.util.concurrent.SingleThreadEventExecutor\",\n",
    "- common/internal/Hidden.java:                    \"io.netty.buffer.PoolArena\",\n",
    "- common/internal/Hidden.java:                    \"io.netty.buffer.PoolSubpage\",\n",
    "- common/internal/Hidden.java:                    \"io.netty.buffer.PoolChunk\",\n",
    "- common/internal/Hidden.java:                    \"io.netty.buffer.PoolChunk\",\n",
    "- common/internal/Hidden.java:                    \"io.netty.buffer.AdaptivePoolingAllocator$1\",\n",
    "- common/internal/Hidden.java:                    \"io.netty.buffer.AdaptivePoolingAllocator$1\",\n",
    "- common/internal/Hidden.java:                    \"io.netty.handler.ssl.SslHandler\",\n",
    "- common/internal/Hidden.java:                    \"io.netty.handler.ssl.SslHandler\",\n",
    "- common/internal/Hidden.java:                    \"io.netty.handler.ssl.SslHandler\",\n",
    "- common/internal/Hidden.java:                    \"io.netty.util.concurrent.GlobalEventExecutor\",\n",
    "- common/internal/Hidden.java:                    \"io.netty.util.concurrent.GlobalEventExecutor\",\n",
    "- common/internal/Hidden.java:                    \"io.netty.util.concurrent.SingleThreadEventExecutor\",\n",
    "- common/internal/Hidden.java:                    \"io.netty.util.concurrent.SingleThreadEventExecutor\",\n",
    "- common/internal/Hidden.java:                    \"io.netty.handler.ssl.ReferenceCountedOpenSslClientContext$ExtendedTrustManagerVerifyCallback\",\n",
    "- common/internal/Hidden.java:                    \"io.netty.handler.ssl.JdkSslContext$Defaults\",\n",
    "- common/internal/Hidden.java:                    \"io.netty.resolver.dns.UnixResolverDnsServerAddressStreamProvider\",\n",
    "- common/internal/Hidden.java:                    \"io.netty.resolver.dns.UnixResolverDnsServerAddressStreamProvider\",\n",
    "- common/internal/Hidden.java:                    \"io.netty.resolver.dns.UnixResolverDnsServerAddressStreamProvider\",\n",
    "- common/internal/Hidden.java:                    \"io.netty.resolver.HostsFileEntriesProvider$ParserImpl\",\n",
    "- common/internal/Hidden.java:                    \"io.netty.util.NetUtil$SoMaxConnAction\",\n",
    "- common/internal/Hidden.java:            builder.allowBlockingCallsInside(\"io.netty.util.internal.ReferenceCountUpdater\",\n",
    "- common/internal/Hidden.java:            builder.allowBlockingCallsInside(\"io.netty.util.internal.PlatformDependent\", \"createTempFile\");\n",
    "- common/internal/InternalThreadLocalMap.java:                SystemPropertyUtil.getInt(\"io.netty.threadLocalMap.stringBuilder.initialSize\", 1024);\n",
    "- common/internal/InternalThreadLocalMap.java:                SystemPropertyUtil.getInt(\"io.netty.threadLocalMap.stringBuilder.maxSize\", 1024 * 4);\n",
    "- common/internal/NativeLibraryLoader.java:        String workdir = SystemPropertyUtil.get(\"io.netty.native.workdir\");\n",
    "- common/internal/NativeLibraryLoader.java:                \"io.netty.native.deleteLibAfterLoading\", true);\n",
    "- common/internal/NativeLibraryLoader.java:                \"io.netty.native.tryPatchShadedId\", true);\n",
    "- common/internal/NativeLibraryLoader.java:                \"io.netty.native.detectNativeLibraryDuplicates\", true);\n",
    "- common/internal/NativeLibraryLoader.java:                    // Pass \"io.netty.native.workdir\" as an argument to allow shading tools to see\n",
    "- common/internal/NativeLibraryLoader.java:                                tmpFile.getPath(), \"io.netty.native.workdir\");\n",
    "- common/internal/ObjectCleaner.java:            max(500, getInt(\"io.netty.util.internal.ObjectCleaner.refQueuePollTimeout\", 10000));\n",
    "- common/internal/PlatformDependent.java:        long maxDirectMemory = SystemPropertyUtil.getLong(\"io.netty.maxDirectMemory\", -1);\n",
    "- common/internal/PlatformDependent.java:                SystemPropertyUtil.getInt(\"io.netty.uninitializedArrayAllocationThreshold\", 1024);\n",
    "- common/internal/PlatformDependent.java:                                  && !SystemPropertyUtil.getBoolean(\"io.netty.noPreferDirect\", false);\n",
    "- common/internal/PlatformDependent.java:        String osClassifiersPropertyName = \"io.netty.osClassifiers\";\n",
    "- common/internal/PlatformDependent.java:            f = toDirectory(SystemPropertyUtil.get(\"io.netty.tmpdir\"));\n",
    "- common/internal/PlatformDependent.java:        int bitMode = SystemPropertyUtil.getInt(\"io.netty.bitMode\", 0);\n",
    "- common/internal/PlatformDependent0.java:        boolean noUnsafe = SystemPropertyUtil.getBoolean(\"io.netty.noUnsafe\", false);\n",
    "- common/internal/PlatformDependent0.java:        if (SystemPropertyUtil.contains(\"io.netty.tryUnsafe\")) {\n",
    "- common/internal/PlatformDependent0.java:            unsafePropName = \"io.netty.tryUnsafe\";\n",
    "- common/internal/PlatformDependent0.java:        return SystemPropertyUtil.getBoolean(\"io.netty.tryReflectionSetAccessible\",\n",
    "- common/internal/svm/CleanerJava6Substitution.java:@TargetClass(className = \"io.netty.util.internal.CleanerJava6\")\n",
    "- common/internal/svm/PlatformDependent0Substitution.java:@TargetClass(className = \"io.netty.util.internal.PlatformDependent0\")\n",
    "- common/internal/svm/PlatformDependentSubstitution.java:@TargetClass(className = \"io.netty.util.internal.PlatformDependent\")\n",
    "- common/internal/svm/UnsafeRefArrayAccessSubstitution.java:@TargetClass(className = \"io.netty.util.internal.shaded.org.jctools.util.UnsafeRefArrayAccess\")\n",
    "- common/internal/ThreadLocalRandom.java:        initialSeedUniquifier = SystemPropertyUtil.getLong(\"io.netty.initialSeedUniquifier\", 0);\n",
    "- common/NettyRuntime.java:         * This can be overridden by setting the system property \"io.netty.availableProcessors\" or by invoking\n",
    "- common/NettyRuntime.java:                                \"io.netty.availableProcessors\",\n",
    "- common/NettyRuntime.java:     * can be overridden by setting the system property \"io.netty.availableProcessors\" or by invoking\n",
    "- common/NetUtil.java:                    if (SystemPropertyUtil.getBoolean(\"io.netty.net.somaxconn.trySysctl\", false)) {\n",
    "- common/Recycler.java:        int maxCapacityPerThread = SystemPropertyUtil.getInt(\"io.netty.recycler.maxCapacityPerThread\",\n",
    "- common/Recycler.java:                SystemPropertyUtil.getInt(\"io.netty.recycler.maxCapacity\", DEFAULT_INITIAL_MAX_CAPACITY_PER_THREAD));\n",
    "- common/Recycler.java:        DEFAULT_QUEUE_CHUNK_SIZE_PER_THREAD = SystemPropertyUtil.getInt(\"io.netty.recycler.chunkSize\", 32);\n",
    "- common/Recycler.java:        RATIO = max(0, SystemPropertyUtil.getInt(\"io.netty.recycler.ratio\", 8));\n",
    "- common/Recycler.java:        BLOCKING_POOL = SystemPropertyUtil.getBoolean(\"io.netty.recycler.blocking\", false);\n",
    "- common/Recycler.java:        BATCH_FAST_TL_ONLY = SystemPropertyUtil.getBoolean(\"io.netty.recycler.batchFastThreadLocalOnly\", true);\n",
    "- common/ResourceLeakDetector.java:    private static final String PROP_LEVEL_OLD = \"io.netty.leakDetectionLevel\";\n",
    "- common/ResourceLeakDetector.java:    private static final String PROP_LEVEL = \"io.netty.leakDetection.level\"; - 资源泄露检查的等级\n",
    "- common/ResourceLeakDetector.java:    private static final String PROP_TARGET_RECORDS = \"io.netty.leakDetection.targetRecords\";\n",
    "- common/ResourceLeakDetector.java:    private static final String PROP_SAMPLING_INTERVAL = \"io.netty.leakDetection.samplingInterval\";\n",
    "- common/ResourceLeakDetector.java:        if (SystemPropertyUtil.get(\"io.netty.noResourceLeakDetection\") != null) {\n",
    "- common/ResourceLeakDetector.java:            disabled = SystemPropertyUtil.getBoolean(\"io.netty.noResourceLeakDetection\", false);\n",
    "- common/ResourceLeakDetectorFactory.java:                customLeakDetector = SystemPropertyUtil.get(\"io.netty.customResourceLeakDetector\");\n",
    "- common/ThreadDeathWatcher.java:        String serviceThreadPrefix = SystemPropertyUtil.get(\"io.netty.serviceThreadPrefix\");\n",
    "\n",
    "### buffer\n",
    "\n",
    "- buffer/AbstractByteBuf.java:    private static final String LEGACY_PROP_CHECK_ACCESSIBLE = \"io.netty.buffer.bytebuf.checkAccessible\";\n",
    "- buffer/AbstractByteBuf.java:    private static final String PROP_CHECK_ACCESSIBLE = \"io.netty.buffer.checkAccessible\";\n",
    "- buffer/AbstractByteBuf.java:    private static final String PROP_CHECK_BOUNDS = \"io.netty.buffer.checkBounds\";\n",
    "- buffer/AdaptiveByteBufAllocator.java:                \"io.netty.allocator.useCachedMagazinesForNonEventLoopThreads\", false);\n",
    "- buffer/AdaptivePoolingAllocator.java:            \"io.netty.allocator.centralQueueCapacity\", NettyRuntime.availableProcessors()));\n",
    "- buffer/AdaptivePoolingAllocator.java:            \"io.netty.allocator.magazineBufferQueueCapacity\", 1024);\n",
    "- buffer/AdvancedLeakAwareByteBuf.java:    private static final String PROP_ACQUIRE_AND_RELEASE_ONLY = \"io.netty.leakDetection.acquireAndReleaseOnly\";\n",
    "- buffer/ByteBufUtil.java:                \"io.netty.allocator.type\", PlatformDependent.isAndroid() ? \"unpooled\" : \"pooled\");\n",
    "- buffer/ByteBufUtil.java:        THREAD_LOCAL_BUFFER_SIZE = SystemPropertyUtil.getInt(\"io.netty.threadLocalDirectBufferSize\", 0);\n",
    "- buffer/ByteBufUtil.java:        MAX_CHAR_BUFFER_SIZE = SystemPropertyUtil.getInt(\"io.netty.maxThreadLocalCharBufferSize\", 16 * 1024);\n",
    "- buffer/PooledByteBufAllocator.java:                \"io.netty.allocator.directMemoryCacheAlignment\", 0);\n",
    "- buffer/PooledByteBufAllocator.java:        int defaultPageSize = SystemPropertyUtil.getInt(\"io.netty.allocator.pageSize\", 8192);\n",
    "- buffer/PooledByteBufAllocator.java:        int defaultMaxOrder = SystemPropertyUtil.getInt(\"io.netty.allocator.maxOrder\", 9);\n",
    "- buffer/PooledByteBufAllocator.java:                        \"io.netty.allocator.numHeapArenas\",\n",
    "- buffer/PooledByteBufAllocator.java:                        \"io.netty.allocator.numDirectArenas\",\n",
    "- buffer/PooledByteBufAllocator.java:        DEFAULT_SMALL_CACHE_SIZE = SystemPropertyUtil.getInt(\"io.netty.allocator.smallCacheSize\", 256);\n",
    "- buffer/PooledByteBufAllocator.java:        DEFAULT_NORMAL_CACHE_SIZE = SystemPropertyUtil.getInt(\"io.netty.allocator.normalCacheSize\", 64);\n",
    "- buffer/PooledByteBufAllocator.java:                \"io.netty.allocator.maxCachedBufferCapacity\", 32 * 1024);\n",
    "- buffer/PooledByteBufAllocator.java:                \"io.netty.allocator.cacheTrimInterval\", 8192);\n",
    "- buffer/PooledByteBufAllocator.java:        if (SystemPropertyUtil.contains(\"io.netty.allocation.cacheTrimIntervalMillis\")) {\n",
    "- buffer/PooledByteBufAllocator.java:            if (SystemPropertyUtil.contains(\"io.netty.allocator.cacheTrimIntervalMillis\")) {\n",
    "- buffer/PooledByteBufAllocator.java:                        \"io.netty.allocator.cacheTrimIntervalMillis\", 0);\n",
    "- buffer/PooledByteBufAllocator.java:                        \"io.netty.allocation.cacheTrimIntervalMillis\", 0);\n",
    "- buffer/PooledByteBufAllocator.java:                    \"io.netty.allocator.cacheTrimIntervalMillis\", 0);\n",
    "- buffer/PooledByteBufAllocator.java:                \"io.netty.allocator.useCacheForAllThreads\", false);\n",
    "- buffer/PooledByteBufAllocator.java:                \"io.netty.allocator.disableCacheFinalizersForFastThreadLocalThreads\", false);\n",
    "- buffer/PooledByteBufAllocator.java:                \"io.netty.allocator.maxCachedByteBuffersPerChunk\", 1023);\n",
    "\n",
    "### codec\n",
    "\n",
    "- codec/compression/JdkZlibEncoder.java:                \"io.netty.jdkzlib.encoder.maxInitialOutputBufferSize\",\n",
    "- codec/compression/JdkZlibEncoder.java:                \"io.netty.jdkzlib.encoder.maxInputBufferSize\",\n",
    "- codec/compression/Snappy.java:            SystemPropertyUtil.getBoolean(\"io.netty.handler.codec.compression.snappy.reuseHashTable\", false);\n",
    "- codec/compression/ZlibCodecFactory.java:        noJdkZlibDecoder = SystemPropertyUtil.getBoolean(\"io.netty.noJdkZlibDecoder\",\n",
    "- codec/compression/ZlibCodecFactory.java:        noJdkZlibEncoder = SystemPropertyUtil.getBoolean(\"io.netty.noJdkZlibEncoder\", false);\n",
    "- codec-http2/http2/WeightedFairQueueByteDistributor.java:            max(1, SystemPropertyUtil.getInt(\"io.netty.http2.childrenMapSize\", 2));\n",
    "\n",
    "### handler\n",
    "\n",
    "- handler/ssl/ConscryptAlpnSslEngine.java:            \"io.netty.handler.ssl.conscrypt.useBufferAllocator\", true);\n",
    "- handler/ssl/OpenSsl.java:        if (SystemPropertyUtil.getBoolean(\"io.netty.handler.ssl.noOpenSsl\", false)) {\n",
    "- handler/ssl/OpenSsl.java:                Class.forName(\"io.netty.internal.tcnative.SSLContext\", false,\n",
    "- handler/ssl/OpenSsl.java:                    String engine = SystemPropertyUtil.get(\"io.netty.handler.ssl.openssl.engine\", null);\n",
    "- handler/ssl/OpenSsl.java:                                        \"io.netty.handler.ssl.openssl.useKeyManagerFactory\");\n",
    "- handler/ssl/OpenSsl.java:                                            \"io.netty.handler.ssl.openssl.useKeyManagerFactory\", true);\n",
    "- handler/ssl/ReferenceCountedOpenSslContext.java:            SystemPropertyUtil.getInt(\"io.netty.handler.ssl.openssl.bioNonApplicationBufferSize\",\n",
    "- handler/ssl/ReferenceCountedOpenSslContext.java:            SystemPropertyUtil.getBoolean(\"io.netty.handler.ssl.openssl.useTasks\", true);\n",
    "- handler/ssl/ReferenceCountedOpenSslContext.java:            SystemPropertyUtil.getBoolean(\"io.netty.handler.ssl.openssl.sessionCacheServer\", true);\n",
    "- handler/ssl/ReferenceCountedOpenSslContext.java:            SystemPropertyUtil.getBoolean(\"io.netty.handler.ssl.openssl.sessionCacheClient\", true);\n",
    "- handler/ssl/SslHandler.java:                if (classname.startsWith(\"io.netty.\")) {\n",
    "- handler/ssl/SslMasterKeyHandler.java:    public static final String SYSTEM_PROP_KEY = \"io.netty.ssl.masterKeyHandler\";\n",
    "- handler/ssl/SslMasterKeyHandler.java:                InternalLoggerFactory.getInstance(\"io.netty.wireshark\");\n",
    "- handler/ssl/util/SelfSignedCertificate.java:            \"io.netty.selfSignedCertificate.defaultNotBefore\", System.currentTimeMillis() - 86400000L * 365));\n",
    "- handler/ssl/util/SelfSignedCertificate.java:            \"io.netty.selfSignedCertificate.defaultNotAfter\", 253402300799000L));\n",
    "- handler/ssl/util/SelfSignedCertificate.java:            SystemPropertyUtil.getInt(\"io.netty.handler.ssl.util.selfSignedKeyStrength\", 2048);\n",
    "- handler-ssl-ocsp/ssl/ocsp/OcspClient.java:            \"io.netty.ocsp.responseSize\", 1024 * 10);\n",
    "- handler-ssl-ocsp/ssl/ocsp/OcspServerCertificateValidator.java:            AttributeKey.newInstance(\"io.netty.handler.ssl.ocsp.pipeline\");\n",
    "\n",
    "\n",
    "### transport\n",
    "\n",
    "- transport/bootstrap/ChannelInitializerExtension.java:    public static final String EXTENSIONS_SYSTEM_PROPERTY = \"io.netty.bootstrap.extensions\";\n",
    "- transport/AbstractChannelHandlerContext.java:                SystemPropertyUtil.getBoolean(\"io.netty.transport.estimateSizeOnSubmit\", true);\n",
    "- transport/AbstractChannelHandlerContext.java:                SystemPropertyUtil.getInt(\"io.netty.transport.writeTaskSizeOverhead\", 32);\n",
    "- transport/ChannelOutboundBuffer.java:            SystemPropertyUtil.getInt(\"io.netty.transport.outboundBufferEntrySizeOverhead\", 96);\n",
    "- transport/DefaultChannelId.java:        String customProcessId = SystemPropertyUtil.get(\"io.netty.processId\");\n",
    "- transport/DefaultChannelId.java:        String customMachineId = SystemPropertyUtil.get(\"io.netty.machineId\");\n",
    "- transport/MultithreadEventLoopGroup.java:                \"io.netty.eventLoopThreads\", NettyRuntime.availableProcessors() * 2)); - EventLoopGroup中线程数量\n",
    "- transport/nio/NioEventLoop.java:            SystemPropertyUtil.getBoolean(\"io.netty.noKeySetOptimization\", false);\n",
    "- transport/nio/NioEventLoop.java:        int selectorAutoRebuildThreshold = SystemPropertyUtil.getInt(\"io.netty.selectorAutoRebuildThreshold\", 512);\n",
    "- transport/PendingWriteQueue.java:            SystemPropertyUtil.getInt(\"io.netty.transport.pendingWriteSizeOverhead\", 64);\n",
    "- transport/pool/SimpleChannelPool.java:        AttributeKey.newInstance(\"io.netty.channel.pool.SimpleChannelPool\");\n",
    "- transport/SingleThreadEventLoop.java:            SystemPropertyUtil.getInt(\"io.netty.eventLoop.maxPendingTasks\", Integer.MAX_VALUE));\n",
    "- transport/nativeimage/ChannelHandlerMetadataUtil.java:        if (Arrays.asList(packageNames).contains(\"io.netty.channel\")) {\n",
    "- transport-classes-epoll/epoll/Epoll.java:        if (SystemPropertyUtil.getBoolean(\"io.netty.transport.noNative\", false)) {\n",
    "- transport-classes-epoll/epoll/EpollEventLoop.java:            SystemPropertyUtil.getLong(\"io.netty.channel.epoll.epollWaitThreshold\", 10);\n",
    "- transport-classes-kqueue/kqueue/KQueue.java:        if (SystemPropertyUtil.getBoolean(\"io.netty.transport.noNative\", false)) {\n",
    "\n",
    "### microbench\n",
    "\n",
    "- microbench/ByteBufAccessBenchmark.java:        System.setProperty(\"io.netty.buffer.checkAccessible\", checkAccessible);\n",
    "- microbench/ByteBufAccessBenchmark.java:        System.setProperty(\"io.netty.buffer.checkBounds\", checkBounds);\n",
    "- microbench/ByteBufAccessBenchmark.java:        System.clearProperty(\"io.netty.buffer.checkAccessible\");\n",
    "- microbench/ByteBufAccessBenchmark.java:        System.clearProperty(\"io.netty.buffer.checkBounds\");\n",
    "- microbench/ByteBufZeroingBenchmark.java:        System.setProperty(\"io.netty.buffer.checkAccessible\", checkAccessible);\n",
    "- microbench/ByteBufZeroingBenchmark.java:        System.setProperty(\"io.netty.buffer.checkBounds\", checkBounds);\n",
    "- microbench/buffer/ByteBufBenchmark.java:        System.setProperty(\"io.netty.buffer.checkAccessible\", \"false\");\n",
    "- microbench/buffer/ByteBufBenchmark.java:        System.setProperty(\"io.netty.buffer.checkBounds\", checkBounds);\n",
    "- microbench/buffer/ByteBufCopyBenchmark.java:        System.setProperty(\"io.netty.buffer.bytebuf.checkAccessible\", \"false\");\n",
    "- microbench/buffer/ByteBufIndexOfBenchmark.java:        System.setProperty(\"io.netty.noUnsafe\", Boolean.valueOf(noUnsafe).toString());\n",
    "- microbench/buffer/ByteBufLastIndexOfBenchmark.java:        System.setProperty(\"io.netty.noUnsafe\", Boolean.valueOf(noUnsafe).toString());\n",
    "- microbench/buffer/HeapByteBufBenchmark.java:        System.setProperty(\"io.netty.buffer.bytebuf.checkBounds\", checkBounds);\n",
    "- microbench/buffer/HeapByteBufBenchmark.java:        unsafeBuffer = newBuffer(\"io.netty.buffer.UnpooledUnsafeHeapByteBuf\");\n",
    "- microbench/buffer/HeapByteBufBenchmark.java:        buffer = newBuffer(\"io.netty.buffer.UnpooledHeapByteBuf\");\n",
    "- microbench/buffer/Utf8EncodingBenchmark.java:        System.setProperty(\"io.netty.noUnsafe\", Boolean.valueOf(noUnsafe).toString());\n",
    "- microbench/channel/DefaultChannelIdBenchmark.java:        System.setProperty(\"io.netty.noUnsafe\", Boolean.valueOf(noUnsafe).toString());\n",
    "- microbench/AsciiStringCaseConversionBenchmark.java:        System.setProperty(\"io.netty.noUnsafe\", Boolean.valueOf(noUnsafe).toString());\n",
    "\n",
    "### resolver\n",
    "\n",
    "- resolver/DefaultHostsFileEntriesResolver.java:                \"io.netty.hostsFileRefreshInterval\", /*nanos*/0);\n",
    "- resolver-dns/dns/DefaultDnsServerAddressStreamProvider.java:    private static final String DEFAULT_FALLBACK_SERVER_PROPERTY = \"io.netty.resolver.dns.defaultNameServerFallback\";\n",
    "- resolver-dns/dns/DnsNameResolver.java:            AttributeKey.newInstance(\"io.netty.resolver.dns.pipeline\");\n",
    "- resolver-dns/dns/DnsQueryContext.java:                SystemPropertyUtil.getLong(\"io.netty.resolver.dns.idReuseOnTimeoutDelayMillis\", 10000);\n",
    "- resolver-dns/dns/DnsResolveContext.java:            \"io.netty.resolver.dns.tryCnameOnAddressLookups\";\n",
    "- resolver-dns/dns/DnsServerAddressStreamProviders.java:            \"io.netty.resolver.dns.macos.MacOSDnsServerAddressStreamProvider\";\n",
    "\n",
    "### testsuite\n",
    "\n",
    "- testsuite-shadingShadingIT.java:                \"io.netty.channel.kqueue.KQueue\" : \"io.netty.channel.epoll.Epoll\";\n",
    "- testsuite-shadingShadingIT.java:        String className = \"io.netty.handler.ssl.OpenSsl\";\n"
   ]
  },
  {
   "cell_type": "markdown",
   "metadata": {},
   "source": [
    "## Common\n",
    "- io.netty.util.concurrent.Future\n",
    "- io.netty.util.concurrent.Promise"
   ]
  },
  {
   "cell_type": "markdown",
   "metadata": {},
   "source": [
    "\n",
    "java.util.concurrent.Future\n",
    "- boolean cancel(boolean mayInterruptIfRunning)\n",
    "- boolean isCancelled() // canceld before completed\n",
    "- boolean isDone(): completed: due to normal termination, an exception, cancellation\n",
    "- V get() throws InterruptedException, ExecutionException // CancellationException\n",
    "- V get(long timeout, TimeUnit unit) throws InterruptedException, ExecutionException, TimeoutException\n",
    "\n",
    "io.netty.util.concurrent.Future: extends java.util.concurrent.Future\n",
    "- boolean isSuccess() // whether the I/O operation was completed successfully\n",
    "- boolean isCancellable()\n",
    "- Throwable cause()\n",
    "- addListener\n",
    "- removeListener\n",
    "- sync\n",
    "- await\n",
    "- V getNow()\n",
    "\n",
    "io.netty.channel.ChannelFuture"
   ]
  },
  {
   "cell_type": "markdown",
   "metadata": {},
   "source": [
    "## Bootstrapping\n",
    "- ServerBootstrap\n",
    "- Bootstrap"
   ]
  },
  {
   "cell_type": "markdown",
   "metadata": {},
   "source": [
    "ServerBootstrap\n",
    "\n",
    "fileds:\n",
    "- Map<ChannelOption<?>, Object> childOptions\n",
    "- Map<AttributeKey<?>, Object> childAttrs\n",
    "- ServerBootstrapConfig config\n",
    "- EventLoopGroup childGroup\n",
    "- ChannelHandler childHandler\n",
    "- AbstractBootstrap\n",
    "  - EventLoopGroup group\n",
    "  - ChannelFactory<? extends C> channelFactory\n",
    "  - SocketAddress localAddress\n",
    "  - Map<ChannelOption<?>, Object> options\n",
    "  - Map<AttributeKey<?>, Object> attrs\n",
    "  - ChannelHandler handler\n",
    "  - ClassLoader extensionsClassLoader\n",
    "\n",
    "entry poit: io.netty.bootstrap.AbstractBootstrap#bind(java.net.SocketAddress)\n",
    "- pipeline实例化: io.netty.channel.AbstractChannel#AbstractChannel(io.netty.channel.Channel)\n",
    "\n",
    "\n",
    "case: NIO\n",
    "- NioEventLoopGroup: extends MultithreadEventLoopGroup\n",
    "  - NioEventLoop: extends SingleThreadEventLoop\n",
    "- NioServerSocketChannel\n",
    "\n",
    "```java\n",
    "io.netty.bootstrap.AbstractBootstrap#bind()\n",
    "\\-- io.netty.bootstrap.AbstractBootstrap#doBind\n",
    "\\--\\-- io.netty.bootstrap.AbstractBootstrap#initAndRegister\n",
    "\\--\\--\\-- io.netty.bootstrap.ChannelFactory#newChannel // 1. 创建Channel, 使用DefaultChannelPipeline\n",
    "\\--\\--\\-- io.netty.bootstrap.ServerBootstrap#init // 2. 初始化: 设置选项和属性, 添加Handler\n",
    "setChannelOptions\n",
    "setAttributes\n",
    "pipeline addLast handler\n",
    "pipeline addLast ServerBootstrapAcceptor\n",
    "\\--\\--\\-- io.netty.channel.EventLoopGroup#register(io.netty.channel.Channel) // 3. 注册Channel到EventLoop\n",
    "io.netty.channel.AbstractChannel.AbstractUnsafe#register0\n",
    "\\--\\-- io.netty.bootstrap.AbstractBootstrap#doBind0\n",
    "bind localAddress // 4. 执行Socket绑定\n",
    "```"
   ]
  },
  {
   "cell_type": "markdown",
   "metadata": {},
   "source": [
    "Bootstrap\n",
    "\n",
    "```java\n",
    "io.netty.bootstrap.Bootstrap#connect()\n",
    "\\-- io.netty.bootstrap.Bootstrap#doResolveAndConnect\n",
    "\\--\\-- io.netty.bootstrap.AbstractBootstrap#initAndRegister\n",
    "io.netty.bootstrap.ChannelFactory#newChannel\n",
    "io.netty.channel.EventLoopGroup#register(io.netty.channel.Channel)\n",
    "\\--\\-- io.netty.bootstrap.Bootstrap#doResolveAndConnect0\n",
    "\\--\\--\\-- io.netty.bootstrap.Bootstrap#doConnect\n",
    "io.netty.channel.ChannelOutboundInvoker#connect(java.net.SocketAddress, io.netty.channel.ChannelPromise)\n",
    "```"
   ]
  },
  {
   "cell_type": "markdown",
   "metadata": {},
   "source": [
    "## Channel\n",
    "\n",
    "io.netty.channel.Channel\n",
    "- id\n",
    "- parent\n",
    "- EventLoop\n",
    "- ChannelPipeline\n",
    "- ChannelConfig\n",
    "- state: isOpen, isActive, isWritable\n",
    "  - bytesBeforeUnwritable\n",
    "  - bytesBeforeWritable\n",
    "- ChannelMetadata\n",
    "- localAddress\n",
    "- remoteAddress\n",
    "- closeFuture\n",
    "- Unsafe\n",
    "- ByteBufAllocator\n",
    "- ops: read(), flush()\n",
    "\n",
    "io.netty.channel.Channel.Unsafe: 用于实现实际的传输, 通常需要在IO线程中调用.\n",
    "- RecvByteBufAllocator.Handle\n",
    "- localAddress\n",
    "- remoteAddress\n",
    "- register: EventLoop, ChannelPromise\n",
    "- deregister: ChannelPromise\n",
    "- bind: localAddress, ChannelPromise\n",
    "- connect: remoteAddress, localAddress, ChannelPromise\n",
    "- disconnect: ChannelPromise\n",
    "- close: ChannelPromise\n",
    "- beginRead\n",
    "- write: msg, ChannelPromise\n",
    "- flush\n",
    "- voidPromise\n",
    "- ChannelOutboundBuffer\n",
    "\n",
    "case NIO\n",
    "- NioServerSocketChannel: extends AbstractNioMessageChannel implements ServerSocketChannel\n",
    "  - Unsafe: io.netty.channel.nio.AbstractNioMessageChannel.NioMessageUnsafe\n",
    "- NioSocketChannel: extends AbstractNioByteChannel implements SocketChannel\n",
    "  - Unsafe: io.netty.channel.socket.nio.NioSocketChannel.NioSocketChannelUnsafe"
   ]
  },
  {
   "cell_type": "markdown",
   "metadata": {},
   "source": [
    "## ByteBuf\n",
    "\n",
    "- project: buffer"
   ]
  },
  {
   "cell_type": "markdown",
   "metadata": {},
   "source": [
    "ByteBufAllocator\n",
    "\n",
    "usage:\n",
    "- io.netty.channel.ChannelConfig#getAllocator: io.netty.channel.ChannelOption#ALLOCATOR\n",
    "- io.netty.channel.ChannelHandlerContext#alloc\n",
    "\n",
    "system property:\n",
    "- `io.netty.allocator.type`: unpooled, pooled, adaptive\n"
   ]
  },
  {
   "cell_type": "markdown",
   "metadata": {},
   "source": [
    "## EventLoop"
   ]
  },
  {
   "cell_type": "markdown",
   "metadata": {},
   "source": [
    "NioEventLoopGroup\n",
    "\n",
    "```java\n",
    "io.netty.channel.nio.NioEventLoopGroup\n",
    "\\-- java.nio.channels.spi.SelectorProvider#provider\n",
    "\\-- io.netty.channel.DefaultSelectStrategyFactory#INSTANCE\n",
    "\\-- io.netty.util.concurrent.DefaultEventExecutorChooserFactory#INSTANCE\n",
    "\n",
    "io.netty.channel.nio.NioEventLoopGroup#newChild -> NioEventLoop\n",
    "io.netty.channel.nio.NioEventLoop#run // run the event loop\n",
    "\\-- io.netty.channel.nio.NioEventLoop#processSelectedKey(java.nio.channels.SelectionKey, io.netty.channel.nio.AbstractNioChannel) // OP_CONNECT, OP_ACCEPT, OP_WRITE, OP_READ\n",
    "```"
   ]
  },
  {
   "cell_type": "markdown",
   "metadata": {},
   "source": [
    "## Accept"
   ]
  },
  {
   "cell_type": "markdown",
   "metadata": {},
   "source": [
    "\n",
    "- `ServerBootstrapAcceptor#channelRead`\n",
    "\n",
    "```\n",
    "calling trace:\n",
    "\n",
    "channelRead:207, ServerBootstrap$ServerBootstrapAcceptor (io.netty.bootstrap)\n",
    "invokeChannelRead:444, AbstractChannelHandlerContext (io.netty.channel)\n",
    "invokeChannelRead:420, AbstractChannelHandlerContext (io.netty.channel)\n",
    "fireChannelRead:412, AbstractChannelHandlerContext (io.netty.channel)\n",
    "channelRead:1410, DefaultChannelPipeline$HeadContext (io.netty.channel)\n",
    "invokeChannelRead:440, AbstractChannelHandlerContext (io.netty.channel)\n",
    "invokeChannelRead:420, AbstractChannelHandlerContext (io.netty.channel)\n",
    "fireChannelRead:919, DefaultChannelPipeline (io.netty.channel)               // fire read event\n",
    "read:97, AbstractNioMessageChannel$NioMessageUnsafe (io.netty.channel.nio)   \n",
    "processSelectedKey:788, NioEventLoop (io.netty.channel.nio)\n",
    "processSelectedKeysOptimized:724, NioEventLoop (io.netty.channel.nio)\n",
    "processSelectedKeys:650, NioEventLoop (io.netty.channel.nio)\n",
    "run:562, NioEventLoop (io.netty.channel.nio)                                 // run event loop\n",
    "run:997, SingleThreadEventExecutor$4 (io.netty.util.concurrent)\n",
    "run:74, ThreadExecutorMap$2 (io.netty.util.internal)\n",
    "run:30, FastThreadLocalRunnable (io.netty.util.concurrent)\n",
    "run:834, Thread (java.lang)\n",
    "\n",
    "works:\n",
    "\n",
    "1. child pipeline add Handler\n",
    "2. set child channel options and attributes\n",
    "3. register child channel to child event loop group\n",
    "```\n"
   ]
  },
  {
   "cell_type": "markdown",
   "metadata": {},
   "source": [
    "## Read"
   ]
  },
  {
   "cell_type": "markdown",
   "metadata": {},
   "source": [
    "## Write\n",
    "\n",
    "- Channel.write()\n",
    "- ChannelHandlerContext.write()"
   ]
  },
  {
   "cell_type": "markdown",
   "metadata": {},
   "source": [
    "Channel#write()\n",
    "\n",
    "```java\n",
    "io.netty.channel.ChannelOutboundInvoker#write(java.lang.Object)\n",
    "io.netty.channel.AbstractChannel#write(java.lang.Object)\n",
    "io.netty.channel.DefaultChannelPipeline#write(java.lang.Object) // TailContext\n",
    "io.netty.channel.AbstractChannelHandlerContext#write(java.lang.Object) \n",
    "\n",
    "handler DefaultChannelPipeline.HeadContext?\n",
    "io.netty.channel.Channel.Unsafe#write // 实际写入\n",
    "```"
   ]
  },
  {
   "cell_type": "markdown",
   "metadata": {},
   "source": [
    "ChannelHandlerContext#write()\n",
    "\n",
    "```java\n",
    "io.netty.channel.AbstractChannelHandlerContext#write(java.lang.Object)\n",
    "```"
   ]
  },
  {
   "cell_type": "markdown",
   "metadata": {},
   "source": [
    "# Questions"
   ]
  },
  {
   "cell_type": "markdown",
   "metadata": {},
   "source": [
    "## TCP拆包、粘包和解决方案\n",
    "\n",
    "因为TCP只负责数据发送，并不处理业务上的数据，所以只能在上层应用协议栈解决，目前的解决方案归纳：\n",
    "\n",
    "1. 消息定长，每个报文的大小固定，如果数据不够，空位补空格。\n",
    "2. 在包的尾部加回车换行符标识。\n",
    "3. 将消息分为消息头与消息体，消息头中包含消息总长度。\n",
    "4. 设计更复杂的协议。\n",
    "\n",
    "Netty提供了多种默认的编码器解决粘包和拆包：\n",
    "1. LineBasedFrameDecoder\n",
    "基于回车换行符的解码器，当遇到\"n\"或者 \"rn\"结束符时，分为一组。支持携带结束符或者不带结束符两种编码方式，也支持配置单行的最大长度。\n",
    "2. DelimiterBasedFrameDecoder\n",
    "分隔符解码器，可以指定消息结束的分隔符，它可以自动完成以分隔符作为码流结束标识的消息的解码。回车换行解码器实际上是一种特殊的DelimiterBasedFrameDecoder解码器。\n",
    "3. FixedLengthFrameDecoder\n",
    "固定长度解码器，它能够按照指定的长度对消息进行自动解码,当制定的长度过大，消息过短时会有资源浪费，但是使用起来简单。\n",
    "4. LengthFieldBasedFrameDecoder\n",
    "通用解码器，一般协议头中带有长度字段，通过使用LengthFieldBasedFrameDecoder传入特定的参数，来解决拆包粘包。\n"
   ]
  }
 ],
 "metadata": {
  "language_info": {
   "name": "python"
  }
 },
 "nbformat": 4,
 "nbformat_minor": 2
}
