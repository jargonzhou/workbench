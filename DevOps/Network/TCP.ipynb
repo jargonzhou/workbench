{
 "cells": [
  {
   "cell_type": "markdown",
   "metadata": {},
   "source": [
    "# TCP\n",
    "* https://datatracker.ietf.org/doc/html/rfc793"
   ]
  },
  {
   "cell_type": "markdown",
   "metadata": {},
   "source": [
    "# Protocol"
   ]
  },
  {
   "cell_type": "markdown",
   "metadata": {},
   "source": [
    "> TCP/IP Illustrated, Volume 1: The Protocols 12-17"
   ]
  },
  {
   "cell_type": "markdown",
   "metadata": {},
   "source": [
    "## Format"
   ]
  },
  {
   "cell_type": "markdown",
   "metadata": {},
   "source": [
    "Header:\n",
    "\n",
    "```\n",
    "    0                   1                   2                   3\n",
    "    0 1 2 3 4 5 6 7 8 9 0 1 2 3 4 5 6 7 8 9 0 1 2 3 4 5 6 7 8 9 0 1\n",
    "   +-+-+-+-+-+-+-+-+-+-+-+-+-+-+-+-+-+-+-+-+-+-+-+-+-+-+-+-+-+-+-+-+\n",
    "   |          Source Port          |       Destination Port        |\n",
    "   +-+-+-+-+-+-+-+-+-+-+-+-+-+-+-+-+-+-+-+-+-+-+-+-+-+-+-+-+-+-+-+-+\n",
    "   |                        Sequence Number                        |\n",
    "   +-+-+-+-+-+-+-+-+-+-+-+-+-+-+-+-+-+-+-+-+-+-+-+-+-+-+-+-+-+-+-+-+\n",
    "   |                    Acknowledgment Number                      |\n",
    "   +-+-+-+-+-+-+-+-+-+-+-+-+-+-+-+-+-+-+-+-+-+-+-+-+-+-+-+-+-+-+-+-+\n",
    "   |  Data |       |C|E|U|A|P|R|S|F|                               |\n",
    "   | Offset| Rsrvd |W|C|R|C|S|S|Y|I|            Window             |\n",
    "   |       |       |R|E|G|K|H|T|N|N|                               |\n",
    "   +-+-+-+-+-+-+-+-+-+-+-+-+-+-+-+-+-+-+-+-+-+-+-+-+-+-+-+-+-+-+-+-+\n",
    "   |           Checksum            |         Urgent Pointer        |\n",
    "   +-+-+-+-+-+-+-+-+-+-+-+-+-+-+-+-+-+-+-+-+-+-+-+-+-+-+-+-+-+-+-+-+\n",
    "   |                           [Options]                           |\n",
    "   +-+-+-+-+-+-+-+-+-+-+-+-+-+-+-+-+-+-+-+-+-+-+-+-+-+-+-+-+-+-+-+-+\n",
    "   |                                                               :\n",
    "   :                             Data                              :\n",
    "   :                                                               |\n",
    "   +-+-+-+-+-+-+-+-+-+-+-+-+-+-+-+-+-+-+-+-+-+-+-+-+-+-+-+-+-+-+-+-+\n",
    "```\n",
    "\n",
    "- Data Offset: the number of 32-bit words in the TCP header\n",
    "\n",
    "- CWR: Congestion Window Reduced (the sender reduced its sending rate)\n",
    "- ECE: ECN-Echo (the sender received an Earlier Congestion Notification)\n",
    "- URG: Urgent point field is significant\n",
    "- ACK: Acknowledgement field is significant\n",
    "- PSH: Push function (the receiver should pass this data to the application ASAP, not reliably implemented or used)\n",
    "- RST: Reset the connection (connection abort, usually because of an error)\n",
    "- SYN: Synchronize sequence numbers to intiate a connection\n",
    "- FIN: No more data from sender\n",
    "\n",
    "- Window: the amount of empty spaces (in bytes) remainning in the receiver buffer \n",
    "\n",
    "options:\n",
    "- MSS: Maximum Segment Size\n",
    "- SACK\n",
    "- Timestamp\n",
    "- Window Scale\n",
    "- ..."
   ]
  },
  {
   "cell_type": "code",
   "execution_count": null,
   "metadata": {},
   "outputs": [
    {
     "data": {
      "image/png": "[encoded data removed]",
      "text/plain": [
       "<IPython.core.display.Image object>"
      ]
     },
     "metadata": {},
     "output_type": "display_data"
    }
   ],
   "source": [
    "!packetdiag -f C:/Windows/Fonts/DejaVuSansMono.ttf -o diag/tcp-rfc9293.png diag/tcp-rfc9293.diag\n",
    "from IPython.display import Image\n",
    "Image(filename=\"diag\\\\tcp-rfc9293.png\") "
   ]
  },
  {
   "cell_type": "markdown",
   "metadata": {},
   "source": [
    "## TCP Connection Management"
   ]
  },
  {
   "cell_type": "markdown",
   "metadata": {},
   "source": [
    "TCP Options:\n",
    "- EOL: end of option list\n",
    "- NOP no operation (for padding)\n",
    "- MSS: maximum segment size\n",
    "- WSOPT: window scaling factor (left-shift amount on window)\n",
    "- SACK-Permitted: sender supports SACK options\n",
    "- SACK: SACK block (out-of-order data received)\n",
    "- TSOPT: Timestamp option\n",
    "- UTO: User Timeout (aboirt after idle time)\n",
    "- TCP-AO: authentication option\n"
   ]
  },
  {
   "cell_type": "markdown",
   "metadata": {},
   "source": [
    "Path MTU Discovery with TCP(PMTUD):\n",
    "- SMSS: send maximum segment size"
   ]
  },
  {
   "cell_type": "markdown",
   "metadata": {},
   "source": [
    "## TCP Timeout and Retransmission"
   ]
  },
  {
   "cell_type": "markdown",
   "metadata": {},
   "source": [
    "RTO: retransmission timeout"
   ]
  },
  {
   "cell_type": "markdown",
   "metadata": {},
   "source": [
    "## TCP Data Flow and Window Management"
   ]
  },
  {
   "cell_type": "markdown",
   "metadata": {},
   "source": [
    "## TCP Congestion Control"
   ]
  },
  {
   "cell_type": "markdown",
   "metadata": {},
   "source": [
    "$$\n",
    "W = min(cwnd, awnd)\n",
    "$$\n",
    "\n",
    "- W: sender's actual usable window\n",
    "- cwnd: congestion window, the estimate of the network's available capacity\n",
    "- awnd: receiver's advertised window\n",
    "\n",
    "\n",
    "flight size: \n",
    "- the total amount of data a sender has introduced into the netowrk for which it has not yet received an acknowledgement\n",
    "- always <= W\n",
    "\n",
    "\n",
    "BDP (bandwidth-delay product) of the network path, the optimal window size:\n",
    "- equal to the product of the RTT and the capacity of the lowest capacity(bottleneck) link on the path from sender to receiver"
   ]
  },
  {
   "cell_type": "markdown",
   "metadata": {},
   "source": [
    "a conservation of packets in the network: 网络中留存报文\n",
    "\n",
    "ACK clock: the opration of TCP congestion control at a sender is driven/clocked by the receipt of ACKs.\n",
    "\n",
    "\n",
    "algorithms\n",
    "\n",
    "- slow start\n",
    "  - IW: initial window\n",
    "    - 2 or 3 or 4 SMSS: special case $IW = 1 \\ SMSS$\n",
    "  - no loss and ACKed: k round-trip, $cwnd = 2^{k}$\n",
    "  - $cwnd \\le ssthresh$\n",
    "  - switch to congestion avoidance: $cwnd >= ssthresh$\n",
    "\n",
    "\n",
    "\n",
    "\n",
    "- congestion avoidance\n",
    "  - seek additional capacity by increasing $cwnd$ by approminately 1 segment for each window's worth of data that is moved from sender to receiver successfully\n",
    "  - $cwnd_{t+1} = cwnd_{t} + SMSS * SMSS / cwnd_{t}$\n",
    "\n",
    "ssthreash:\n",
    "- holds the lower bound on TCP's best estimate of the optimal window size\n",
    "- initial: $ssthresh = awnd$\n",
    "- when retransmision occur: ssthresh = $max(flight \\ size / 2, 2 * SMSS)$"
   ]
  },
  {
   "cell_type": "markdown",
   "metadata": {},
   "source": [
    "## TCP Keepalive"
   ]
  },
  {
   "cell_type": "markdown",
   "metadata": {},
   "source": [
    "- keepalive timer\n",
    "- keepalive probe"
   ]
  },
  {
   "cell_type": "markdown",
   "metadata": {},
   "source": [
    "# Linux Kernel Parameters"
   ]
  },
  {
   "cell_type": "code",
   "execution_count": 1,
   "metadata": {},
   "outputs": [
    {
     "name": "stdout",
     "output_type": "stream",
     "text": [
      "env: ROOT_PWD=zhoujiagen\n"
     ]
    }
   ],
   "source": [
    "%env ROOT_PWD=zhoujiagen"
   ]
  },
  {
   "cell_type": "code",
   "execution_count": 2,
   "metadata": {},
   "outputs": [
    {
     "name": "stdout",
     "output_type": "stream",
     "text": [
      "[sudo] password for zhoujiagen: fs.nfs.nfs_callback_tcpport = 0\n",
      "fs.nfs.nlm_tcpport = 0\n",
      "net.ipv4.tcp_abort_on_overflow = 0\n",
      "net.ipv4.tcp_adv_win_scale = 1\n",
      "net.ipv4.tcp_allowed_congestion_control = reno cubic\n",
      "net.ipv4.tcp_app_win = 31\n",
      "net.ipv4.tcp_autocorking = 1\n",
      "net.ipv4.tcp_available_congestion_control = reno cubic\n",
      "net.ipv4.tcp_available_ulp = \n",
      "net.ipv4.tcp_base_mss = 1024\n",
      "net.ipv4.tcp_challenge_ack_limit = 1000\n",
      "net.ipv4.tcp_comp_sack_delay_ns = 1000000\n",
      "net.ipv4.tcp_comp_sack_nr = 44\n",
      "net.ipv4.tcp_comp_sack_slack_ns = 100000\n",
      "net.ipv4.tcp_congestion_control = cubic\n",
      "net.ipv4.tcp_dsack = 1\n",
      "net.ipv4.tcp_early_demux = 1\n",
      "net.ipv4.tcp_early_retrans = 3\n",
      "net.ipv4.tcp_ecn = 2\n",
      "net.ipv4.tcp_ecn_fallback = 1\n",
      "net.ipv4.tcp_fack = 0\n",
      "net.ipv4.tcp_fastopen = 1\n",
      "net.ipv4.tcp_fastopen_blackhole_timeout_sec = 0\n",
      "net.ipv4.tcp_fastopen_key = 3505c42c-a69cac12-e7bee254-a366e74c\n",
      "net.ipv4.tcp_fin_timeout = 60\n",
      "net.ipv4.tcp_frto = 2\n",
      "net.ipv4.tcp_fwmark_accept = 0\n",
      "net.ipv4.tcp_invalid_ratelimit = 500\n",
      "net.ipv4.tcp_keepalive_intvl = 75\n",
      "net.ipv4.tcp_keepalive_probes = 9\n",
      "net.ipv4.tcp_keepalive_time = 7200\n",
      "net.ipv4.tcp_l3mdev_accept = 0\n",
      "net.ipv4.tcp_limit_output_bytes = 1048576\n",
      "net.ipv4.tcp_low_latency = 0\n",
      "net.ipv4.tcp_max_orphans = 65536\n",
      "net.ipv4.tcp_max_reordering = 300\n",
      "net.ipv4.tcp_max_syn_backlog = 1024\n",
      "net.ipv4.tcp_max_tw_buckets = 65536\n",
      "net.ipv4.tcp_mem = 189030\t252043\t378060\n",
      "net.ipv4.tcp_migrate_req = 0\n",
      "net.ipv4.tcp_min_rtt_wlen = 300\n",
      "net.ipv4.tcp_min_snd_mss = 48\n",
      "net.ipv4.tcp_min_tso_segs = 2\n",
      "net.ipv4.tcp_moderate_rcvbuf = 1\n",
      "net.ipv4.tcp_mtu_probe_floor = 48\n",
      "net.ipv4.tcp_mtu_probing = 0\n",
      "net.ipv4.tcp_no_metrics_save = 0\n",
      "net.ipv4.tcp_no_ssthresh_metrics_save = 1\n",
      "net.ipv4.tcp_notsent_lowat = 4294967295\n",
      "net.ipv4.tcp_orphan_retries = 0\n",
      "net.ipv4.tcp_pacing_ca_ratio = 120\n",
      "net.ipv4.tcp_pacing_ss_ratio = 200\n",
      "net.ipv4.tcp_probe_interval = 600\n",
      "net.ipv4.tcp_probe_threshold = 8\n",
      "net.ipv4.tcp_recovery = 1\n",
      "net.ipv4.tcp_reflect_tos = 0\n",
      "net.ipv4.tcp_reordering = 3\n",
      "net.ipv4.tcp_retrans_collapse = 1\n",
      "net.ipv4.tcp_retries1 = 3\n",
      "net.ipv4.tcp_retries2 = 15\n",
      "net.ipv4.tcp_rfc1337 = 0\n",
      "net.ipv4.tcp_rmem = 4096\t131072\t6291456\n",
      "net.ipv4.tcp_rx_skb_cache = 0\n",
      "net.ipv4.tcp_sack = 1\n",
      "net.ipv4.tcp_slow_start_after_idle = 1\n",
      "net.ipv4.tcp_stdurg = 0\n",
      "net.ipv4.tcp_syn_retries = 6\n",
      "net.ipv4.tcp_synack_retries = 5\n",
      "net.ipv4.tcp_syncookies = 1\n",
      "net.ipv4.tcp_thin_linear_timeouts = 0\n",
      "net.ipv4.tcp_timestamps = 1\n",
      "net.ipv4.tcp_tso_win_divisor = 3\n",
      "net.ipv4.tcp_tw_reuse = 2\n",
      "net.ipv4.tcp_tx_skb_cache = 0\n",
      "net.ipv4.tcp_window_scaling = 1\n",
      "net.ipv4.tcp_wmem = 4096\t16384\t4194304\n",
      "net.ipv4.tcp_workaround_signed_windows = 0\n",
      "net.ipv4.vs.secure_tcp = 0\n",
      "net.ipv4.vs.sloppy_tcp = 0\n",
      "net.netfilter.nf_conntrack_tcp_be_liberal = 0\n",
      "net.netfilter.nf_conntrack_tcp_ignore_invalid_rst = 0\n",
      "net.netfilter.nf_conntrack_tcp_loose = 1\n",
      "net.netfilter.nf_conntrack_tcp_max_retrans = 3\n",
      "net.netfilter.nf_conntrack_tcp_timeout_close = 10\n",
      "net.netfilter.nf_conntrack_tcp_timeout_close_wait = 60\n",
      "net.netfilter.nf_conntrack_tcp_timeout_established = 432000\n",
      "net.netfilter.nf_conntrack_tcp_timeout_fin_wait = 120\n",
      "net.netfilter.nf_conntrack_tcp_timeout_last_ack = 30\n",
      "net.netfilter.nf_conntrack_tcp_timeout_max_retrans = 300\n",
      "net.netfilter.nf_conntrack_tcp_timeout_syn_recv = 60\n",
      "net.netfilter.nf_conntrack_tcp_timeout_syn_sent = 120\n",
      "net.netfilter.nf_conntrack_tcp_timeout_time_wait = 120\n",
      "net.netfilter.nf_conntrack_tcp_timeout_unacknowledged = 300\n",
      "sunrpc.tcp_fin_timeout = 15\n",
      "sunrpc.tcp_max_slot_table_entries = 65536\n",
      "sunrpc.tcp_slot_table_entries = 2\n"
     ]
    }
   ],
   "source": [
    "!echo $ROOT_PWD | sudo -S sysctl -a | grep tcp | sort"
   ]
  },
  {
   "cell_type": "markdown",
   "metadata": {},
   "source": [
    "# Programming"
   ]
  },
  {
   "cell_type": "markdown",
   "metadata": {},
   "source": [
    "> UNIX网络编程卷1：套接字API - 2.4 TCP: 传输控制协议\n",
    "\n",
    "- 1. TCP提供客户与服务器的连接connection.\n",
    "- 2. TCP提供可靠性: TCP向另一端发送数据时, 要求对方返回一个确认.\n",
    "  - 如果确认没有收到, TCP自动重传数据并等待更长时间. 数次重传失败后才放弃.\n",
    "  - 动态估算客户到服务器往返时间RTT(round-trip time)的算法\n",
    "- 3. TCP通过给发送数据的每个字节关联一个序列号进行排序.\n",
    "  - 接收方TCP根据分节中序列号排序, 再把结果传递给应用进程.\n",
    "  - 接收到重复的数据直接丢弃.\n",
    "- 4. TCP提供流量控制: 总是告诉对方它能够接受多少字节的数据(通告窗口advertised window).\n",
    "  - 窗口时刻动态的变化.\n",
    "- 5. TCP的连接时全双工的: 在连接上的应用进程既可以发送也可以接收数据.   "
   ]
  },
  {
   "cell_type": "markdown",
   "metadata": {},
   "source": [
    "> UNIX网络编程卷1：套接字API - 2.5 TCP连接的建立和终止\n",
    "\n",
    "TCP连接建立: 三路握手\n",
    "\n",
    "TCP连接终止\n",
    "\n",
    "TCP状态转换图\n",
    "\n",
    "![](./images/TCP状态转换图.png)\n",
    "\n"
   ]
  },
  {
   "cell_type": "markdown",
   "metadata": {},
   "source": [
    "- CLOSED: 起始点\n",
    "- LISTEN: 被动打开, 预期接收SYN\n",
    "- SYN_SENT: 主动打开, 发送SYN\n",
    "- SYN_RCVD: 接收SYN\n",
    "- ESTABLISHED: 连接建立\n",
    "- CLOSE_WAIT, LAST_ACK\n",
    "  - 被动关闭: 接收FIN\n",
    "- FIN_WAIT_1, FIN_WAIT_2, CLOSING, TIME_WAIT\n",
    "  - 主动关闭: 发送FIN\n",
    "\n",
    "TIME_WAIT: 2MSL超时(最大分节生命期MSL: maximum segment lifetime)\n",
    "- MSL是IP数据报在网络中生存的最长时间: 具有最大跳数的分组不能超过MSL还继续存在.\n",
    "- 分组因路由和超时重传机制产生重复: lost duplicate, wandering duplicate\n",
    "- 理由1 实现中TCP全双工连接的可靠性\n",
    "  - 全双工关闭: 必须正确处理连接终止4个分节中任何一个分节的丢失情况.\n",
    "  - 主动关闭端可能需要重发最终的ACK.\n",
    "- 理由2 允许旧的重复分节在网络中消逝\n",
    "  - TCP不能给处于TIME_WAIT状态的连接启动新的化身, 以让先前化身的老重复分组在网络中消逝."
   ]
  }
 ],
 "metadata": {
  "kernelspec": {
   "display_name": "Python 3",
   "language": "python",
   "name": "python3"
  },
  "language_info": {
   "codemirror_mode": {
    "name": "ipython",
    "version": 3
   },
   "file_extension": ".py",
   "mimetype": "text/x-python",
   "name": "python",
   "nbconvert_exporter": "python",
   "pygments_lexer": "ipython3",
   "version": "3.12.9"
  }
 },
 "nbformat": 4,
 "nbformat_minor": 2
}
