{
 "cells": [
  {
   "cell_type": "markdown",
   "id": "e1268964",
   "metadata": {},
   "source": [
    "# tcpdump\n",
    "- [Home](https://www.tcpdump.org/): This is the home web site of `tcpdump`, a powerful command-line packet analyzer; and `libpcap`, a portable C/C++ library for network traffic capture.\n",
    "- https://man7.org/linux/man-pages/man8/tcpdump.8.html\n",
    "\n",
    "\n",
    "> Latest: tcpdump 4.99.5 (2024-08-30), libpcap 1.10.5 (2024-08-30).\n",
    "\n",
    "> tcpdump, libpcap\n",
    "> \n",
    "> [tcpdump](https://www.tcpdump.org/manpages/tcpdump.1.html) - dump traffic on a network\n",
    ">\n",
    "> [pcap-filter](https://www.tcpdump.org/manpages/pcap-filter.7.html) - packet filter syntax\n",
    ">\n",
    "> [pcap](https://www.tcpdump.org/manpages/pcap.3pcap.html) - Packet Capture library\n",
    ">\n",
    "> [rpcapd](https://www.tcpdump.org/manpages/rpcapd.8.html) - capture daemon to be controlled by a remote libpcap application"
   ]
  },
  {
   "cell_type": "markdown",
   "id": "22ade75d",
   "metadata": {},
   "source": [
    "# Usage"
   ]
  },
  {
   "cell_type": "markdown",
   "id": "e9971bbd",
   "metadata": {},
   "source": [
    "## TCP SYN, ACK, FIN\n",
    "- [How to capture TCP SYN, ACK and FIN packets with tcpdump](https://www.xmodulo.com/capture-tcp-syn-ack-fin-packets-tcpdump.html)\n",
    "- [How to capture ack or syn packets by Tcpdump?](https://serverfault.com/questions/217605/how-to-capture-ack-or-syn-packets-by-tcpdump)\n",
    "- [TCP flags](https://gist.github.com/tuxfight3r/9ac030cb0d707bb446c7)\n",
    "\n",
    "```\n",
    "                     TCPDUMP FLAGS\n",
    "Unskilled =  URG  =  (Not Displayed in Flag Field, Displayed elsewhere) \n",
    "Attackers =  ACK  =  (Not Displayed in Flag Field, Displayed elsewhere)\n",
    "Pester    =  PSH  =  [P] (Push Data)\n",
    "Real      =  RST  =  [R] (Reset Connection)\n",
    "Security  =  SYN  =  [S] (Start Connection)\n",
    "Folks     =  FIN  =  [F] (Finish Connection)\n",
    "          SYN-ACK =  [S.] (SynAcK Packet)\n",
    "                     [.] (No Flag Set)\n",
    "```"
   ]
  },
  {
   "cell_type": "markdown",
   "id": "bdc0ab6a",
   "metadata": {},
   "source": [
    "```shell\n",
    "# SYN\n",
    "tcpdump -i <interface> \"tcp[tcpflags] & (tcp-syn) != 0\"\n",
    "# ACK\n",
    "tcpdump -i <interface> \"tcp[tcpflags] & (tcp-ack) != 0\"\n",
    "# FIN\n",
    "tcpdump -i <interface> \"tcp[tcpflags] & (tcp-fin) != 0\"\n",
    "# SYN or ACK\n",
    "tcpdump -r <interface> \"tcp[tcpflags] & (tcp-syn|tcp-ack) != 0\"\n",
    "\n",
    "tcpdump -i any -c100 -nn -Av 'port 3000 & tcp[tcpflags] & (tcp-syn|tcp-ack|tcp-fin) != 0\n",
    "```"
   ]
  }
 ],
 "metadata": {
  "language_info": {
   "name": "python"
  }
 },
 "nbformat": 4,
 "nbformat_minor": 5
}
