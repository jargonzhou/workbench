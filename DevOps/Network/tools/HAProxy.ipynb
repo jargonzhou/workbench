{
 "cells": [
  {
   "cell_type": "markdown",
   "id": "89cad34e",
   "metadata": {},
   "source": [
    "# HAProxy\n",
    "- [Home](http://www.haproxy.org/)\n",
    "- [HAProxy Documentation](https://docs.haproxy.org/)\n",
    "\t- Starter Guide\n",
    "\t- Configuration Manual\n",
    "\t- Management Guide\n",
    "- [Code](https://github.com/haproxy/haproxy/)\n",
    "\n",
    "- [ebooks](https://www.haproxy.com/content-library/ebooks)\n",
    "\t- HAProxy as an API Gateway\n",
    "\t- HAProxy in Kubernetes\n",
    "\t- The HAProxy Guide to Multi-Layered Security\n",
    "\n",
    "> HAProxy\n",
    "> \n",
    "> HAProxy is a free, very fast and reliable reverse-proxy offering high availability, load balancing, and proxying for TCP and HTTP-based applications. It is particularly suited for very high traffic web sites and powers a significant portion of the world's most visited ones. Over the years it has become the de-facto standard opensource load balancer, is now shipped with most mainstream Linux distributions, and is often deployed by default in cloud platforms. Since it does not advertise itself, we only know it's used when the admins report it :-)\n",
    "\n",
    "\n",
    "> 2024-09-18: LTS 3.0, 2.8, 2.6, 2.4, 2.2; DEV 3.1.\n",
    "\n",
    "actions:\n",
    "- https://github.com/zhoujiagen/application-store/tree/main/ops/haproxy"
   ]
  },
  {
   "cell_type": "markdown",
   "id": "73d5c30c",
   "metadata": {},
   "source": [
    "# haproxy.cfg"
   ]
  },
  {
   "cell_type": "markdown",
   "id": "14e254bd",
   "metadata": {},
   "source": [
    "sections:\n",
    "- global\n",
    "- defaults\n",
    "- frontend\n",
    "- backend\n",
    "- listen: combine frontend and backend into one."
   ]
  },
  {
   "cell_type": "markdown",
   "id": "ab91ca46",
   "metadata": {},
   "source": [
    "## timeout"
   ]
  },
  {
   "cell_type": "markdown",
   "metadata": {},
   "source": [
    "- [Haproxy : tcp-request connection Close the connexion in 60 seconds](https://discourse.haproxy.org/t/haproxy-tcp-request-connection-close-the-connexion-in-60-seconds/7320)\n",
    "```\n",
    "timeout client 1m\n",
    "timeout server 1m\n",
    "```\n",
    "- [Connections closed by client are left unclosed by HAProxy](https://github.com/haproxy/haproxy/issues/136)\n"
   ]
  }
 ],
 "metadata": {
  "language_info": {
   "name": "python"
  }
 },
 "nbformat": 4,
 "nbformat_minor": 5
}
