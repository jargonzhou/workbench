{
 "cells": [
  {
   "cell_type": "markdown",
   "metadata": {},
   "source": [
    "# Reactive\n",
    "\n",
    "Books:\n",
    "- Akka应用模式. Applied Akka Patterns: A Hands on Guide to Designing Distributed Application. Michael Nash, Wade Waldron.\n",
    "- 函数响应式领域建模. Functional and Reactive Domain Modeling. Debasish Ghosh."
   ]
  },
  {
   "cell_type": "markdown",
   "metadata": {},
   "source": [
    "# The Reactive Manifesto\n",
    "- https://www.reactivemanifesto.org/"
   ]
  },
  {
   "cell_type": "markdown",
   "metadata": {},
   "source": [
    "\n",
    "Reactive Systems are: \n",
    "\n",
    "**Responsive**: *The system responds in a timely manner if at all possible*. Responsiveness is the cornerstone of usability and utility, but more than that, responsiveness means that problems may be detected quickly and dealt with effectively. Responsive systems focus on providing rapid and consistent response times, establishing reliable upper bounds so they deliver a consistent quality of service. This consistent behaviour in turn simplifies error handling, builds end user confidence, and encourages further interaction. \n",
    "\n",
    "**Resilient**: *The system stays responsive in the face of failure*. This applies not only to highly-available, mission-critical systems — any system that is not resilient will be unresponsive after a failure. Resilience is achieved by replication, containment, isolation and delegation. Failures are contained within each component, isolating components from each other and thereby ensuring that parts of the system can fail and recover without compromising the system as a whole. Recovery of each component is delegated to another (external) component and high-availability is ensured by replication where necessary. The client of a component is not burdened with handling its failures. \n",
    "\n",
    "\n",
    "**Elastic**: *The system stays responsive under varying workload*. Reactive Systems can react to changes in the input rate by increasing or decreasing the resources allocated to service these inputs. This implies designs that have no contention points or central bottlenecks, resulting in the ability to shard or replicate components and distribute inputs among them. Reactive Systems support predictive, as well as Reactive, scaling algorithms by providing relevant live performance measures. They achieve elasticity in a cost-effective way on commodity hardware and software platforms. \n",
    "\n",
    "\n",
    "**Message Driven**: *Reactive Systems rely on asynchronous message-passing to establish a boundary between components that ensures loose coupling, isolation and location transparency*. This boundary also provides the means to delegate failures as messages. Employing explicit message-passing enables load management, elasticity, and flow control by shaping and monitoring the message queues in the system and applying back-pressure when necessary. Location transparent messaging as a means of communication makes it possible for the management of failure to work with the same constructs and semantics across a cluster or within a single host. Non-blocking communication allows recipients to only consume resources while active, leading to less system overhead. \n",
    "  \n",
    "![](https://www.reactivemanifesto.org/images/reactive-traits.svg) \n"
   ]
  },
  {
   "cell_type": "markdown",
   "metadata": {},
   "source": [
    "# Reactive Streams\n",
    "- http://www.reactive-streams.org/\n",
    "- https://github.com/reactive-streams/reactive-streams-jvm"
   ]
  },
  {
   "cell_type": "markdown",
   "metadata": {},
   "source": [
    "Reactive Streams is an initiative to provide a standard for asynchronous stream processing with non-blocking back pressure. This encompasses efforts aimed at **runtime environments (JVM and JavaScript)** as well as **network protocols**."
   ]
  },
  {
   "cell_type": "markdown",
   "metadata": {},
   "source": [
    "```java\n",
    "package org.reactivestreams;\n",
    "\n",
    "// 发布者\n",
    "public interface Publisher<T> {\n",
    "    public void subscribe(Subscriber<? super T> s);\n",
    "}\n",
    "\n",
    "// 订阅者\n",
    "public interface Subscriber<T> {\n",
    "    public void onSubscribe(Subscription s);\n",
    "    public void onNext(T t);\n",
    "    public void onError(Throwable t);\n",
    "    public void onComplete();\n",
    "}\n",
    "\n",
    "// 订阅\n",
    "public interface Subscription {\n",
    "    public void request(long n);\n",
    "    public void cancel();\n",
    "}\n",
    "\n",
    "// 处理器: 发布者, 订阅者\n",
    "public interface Processor<T, R> extends Subscriber<T>, Publisher<R> {\n",
    "}\n",
    "\n",
    "/**\n",
    " * Bridge between Reactive Streams API and the Java 9 {@link java.util.concurrent.Flow} API.\n",
    " */\n",
    "public final class FlowAdapters {\n",
    "}\n",
    "```"
   ]
  },
  {
   "cell_type": "markdown",
   "metadata": {},
   "source": [
    "# ReactiveX\n",
    "- https://reactivex.io/\n",
    "  - [ReactiveX - Languages](https://reactivex.io/languages.html)\n",
    "\n",
    "\n",
    "**Languages**\n",
    "\n",
    "- Java: RxJava\n",
    "- JavaScript: RxJS\n",
    "- C#: [Rx.NET](https://github.com/Reactive-Extensions/Rx.NET)\n",
    "- C#(Unity): [UniRx](https://github.com/neuecc/UniRx)\n",
    "- Scala: [RxScala](https://github.com/ReactiveX/RxScala)\n",
    "- Clojure: [RxClojure](https://github.com/ReactiveX/RxClojure)\n",
    "- C++: [RxCpp](https://github.com/Reactive-Extensions/RxCpp)\n",
    "- Lua: [RxLua](https://github.com/bjornbytes/RxLua)\n",
    "- Ruby: [Rx.rb](https://github.com/Reactive-Extensions/Rx.rb)\n",
    "- Python: [RxPY](https://github.com/ReactiveX/RxPY)\n",
    "- Go: [RxGo](https://github.com/ReactiveX/RxGo)\n",
    "- Groovy: [RxGroovy](https://github.com/ReactiveX/RxGroovy)\n",
    "- JRuby: [RxJRuby](https://github.com/ReactiveX/RxJRuby)\n",
    "- Kotlin: [RxKotlin](https://github.com/ReactiveX/RxKotlin)\n",
    "- Swift: [RxSwift](https://github.com/kzaher/RxSwift)\n",
    "- PHP: [RxPHP](https://github.com/ReactiveX/RxPHP)\n",
    "- Elixir: [reaxive](https://github.com/alfert/reaxive)\n",
    "- Dart: [RxDart](https://github.com/ReactiveX/rxdart)\n",
    "\n",
    "**ReactiveX for platforms and frameworks**\n",
    "- RxNetty\n",
    "- [RxAndroid](https://github.com/ReactiveX/RxAndroid)\n",
    "- [RxCocoa](https://github.com/kzaher/RxSwift)"
   ]
  },
  {
   "cell_type": "markdown",
   "metadata": {},
   "source": [
    "ReactiveX is **a library for composing asynchronous and event-based programs by using observable sequences**.\n",
    "\n",
    "It extends **the observer pattern** to support sequences of data and/or events and adds operators that allow you to compose sequences together declaratively while abstracting away concerns about things like low-level threading, synchronization, thread-safety, concurrent data structures, and non-blocking I/O."
   ]
  },
  {
   "cell_type": "markdown",
   "metadata": {},
   "source": [
    "## RxJava\n",
    "* https://github.com/ReactiveX/RxJava\n",
    "\n",
    "marble diagram: 弹珠图\n",
    "\n",
    "stream fusion: 流融合\n",
    "\n",
    "Actions:\n",
    "- UML/JavaEE/ReactiveX.uxf"
   ]
  },
  {
   "cell_type": "markdown",
   "metadata": {},
   "source": [
    "\n",
    "> RxJava: Reactive Extensions for the JVM\n",
    ">\n",
    "> RxJava is a Java VM implementation of [[index.ReactiveX|Reactive Extensions]]: a library for composing asynchronous and event-based programs by using observable sequences.\n",
    ">\n",
    "> It extends *the observer pattern* to support sequences of data/events and adds *operators* that allow you to compose sequences together declaratively while abstracting away concerns about things like low-level threading, synchronization, thread-safety and concurrent data structures.\n",
    "\n",
    "Features:\n",
    "- Single dependency: [Reactive-Streams](https://github.com/reactive-streams/reactive-streams-jvm).\n",
    "- Java 8+ or Android API 21+ required.\n",
    "- Java 8 lambda-friendly API.\n",
    "- Android desugar friendly.\n",
    "- Fixed API mistakes and many limits of RxJava 2.\n",
    "- Intended to be a replacement for RxJava 2 with relatively few binary incompatible changes.\n",
    "- Non-opinionated about the source of concurrency (threads, pools, event loops, fibers, actors, etc.).\n",
    "- Async or synchronous execution.\n",
    "- Virtual time and schedulers for parameterized concurrency.\n",
    "- Test and diagnostic support via test schedulers, test consumers and plugin hooks.\n",
    "- Interop with newer JDK versions via 3rd party libraries, such as [Java 9 Flow API](https://github.com/akarnokd/RxJavaJdk9Interop#rxjavajdk9interop),[Java 21 Virtual Threads](https://github.com/akarnokd/RxJavaFiberInterop#rxjavafiberinterop)"
   ]
  },
  {
   "cell_type": "markdown",
   "metadata": {},
   "source": [
    "- [Code](https://github.com/ReactiveX/RxJava)\n",
    "\t- 1.x EOL March 31, 2018\n",
    "\t- 2.x EOL February 28, 2021\n",
    "\t- 3.x lastest version 3.1.8 Sep 29, 2023\n",
    "- [API](http://reactivex.io/RxJava/3.x/javadoc/)\n",
    "- [[code.ReactiveX.pdf]] with UMLet\n",
    "\n",
    "- book: Java Concurrency in Practice by Brian Goetz\n",
    "- book: Concurrent Programming in Java by Doug Lea\n",
    "- book: Reactive Programming with RxJava\n",
    "\t- Presentation: **\"Applying Reactive Programming with Rx\" by Ben Christensen, 2015.** [link](http://gotocon.com/chicago-2015/presentation/Applying%20Reactive%20Programming%20with%20Rx)\n",
    "\t- [WSPerfLab](https://github.com/Netflix-Skunkworks/WSPerfLab): Project for testing web-service implementations."
   ]
  },
  {
   "cell_type": "markdown",
   "metadata": {},
   "source": [
    "base classes:\n",
    "\n",
    "- `io.reactivex.rxjava3.core.Flowable`: 0..N flows, supporting Reactive-Streams and backpressure\n",
    "- `io.reactivex.rxjava3.core.Observable`: 0..N flows, no backpressure,\n",
    "- `io.reactivex.rxjava3.core.Single`: a flow of exactly 1 item or an error,\n",
    "- `io.reactivex.rxjava3.core.Completable`: a flow without items but only a completion or error signal,\n",
    "- `io.reactivex.rxjava3.core.Maybe`: a flow with no items, exactly one item or an error.\n",
    "\n",
    "\n",
    "| Type                  | Class         | Interface                       | Consumer                         |\n",
    "| --------------------- | ------------- | ------------------------------- | -------------------------------- |\n",
    "| 0..N backpressured    | `Flowable`    | `org.reactivestreams.Publisher` | `org.reactivestreams.Subscriber` |\n",
    "| 0..N unbounded        | `Observable`  | `ObservableSource`              | `Observer`                       |\n",
    "| 1 element or error    | `Single`      | `SingleSource`                  | `SingleObserver`                 |\n",
    "| 0..1 element or error | `Maybe`       | `MaybeSource`                   | `MaybeObserver`                  |\n",
    "| 0 element or error    | `Completable` | `CompletableSource`             | `CompletableObserver`            |\n"
   ]
  },
  {
   "cell_type": "markdown",
   "metadata": {},
   "source": [
    "\n",
    "```java\n",
    "public class Observabale<T> {\n",
    "\t<R> Observable<R>\tflatMap( Function<? super T,? extends ObservableSource<? extends R>> mapper)\n",
    "}\n",
    "```\n",
    "\n",
    "`flatMap()` as asynchronous chaining operatror\n",
    "\n",
    "```java\n",
    "Observable.fromCallable(() -> sendEmail())\n",
    "Observable.flatMap(response -> Observable.<Ticket>empty())\n",
    "\t.doOnError(e -> log.error(\"\", e))\n",
    "\t.onErrorReturn(err -> ticket)\n",
    "```\n"
   ]
  },
  {
   "cell_type": "markdown",
   "metadata": {},
   "source": [
    "## RxJS\n",
    "- RxJS Marbles: [RxMarbles: Interactive diagrams of Rx Observables](https://rxmarbles.com/)"
   ]
  },
  {
   "cell_type": "markdown",
   "metadata": {},
   "source": [
    "## RxNetty\n",
    "- [Code](https://github.com/ReactiveX/RxNetty)"
   ]
  },
  {
   "cell_type": "markdown",
   "metadata": {},
   "source": [
    "# Project Reactor\n",
    "* https://projectreactor.io/"
   ]
  },
  {
   "cell_type": "markdown",
   "metadata": {},
   "source": [
    "Reactor is a fourth-generation reactive library, based on the Reactive Streams specification, for building non-blocking applications on the JVM\n",
    "\n",
    "- **Reactor Core**: A Reactive Streams foundation for Java 8\n",
    "- **Reactor Test**: Test utilities\n",
    "- **Reactor Extra**: Additional operators for Flux\n",
    "- **Reactor Netty**: HTTP, TCP, UDP Clients/Servers using Netty\n",
    "- **Reactor Adapter**: Adapt to/from other reactive libraries\n",
    "- **Reactor Kafka**: Reactive bridge to Apache Kafka\n",
    "- **Reactor Kotlin Extensions**:Kotlin extensions for all Java artifacts in Dysprosium+\n",
    "- **Reactor RabbitMQ**: Reactive bridge to RabbitMQ\n",
    "- **Reactor Pool**: Generic object pool for reactive applications\n",
    "- **BlockHound**: Java agent for detecting blocking calls from non-blocking threads\n",
    "- **Reactor Core .NET**: Incubating Reactive Streams foundation for .NET\n",
    "- **Reactor Core JS**: Incubating Reactive Streams foundation for JavaScript"
   ]
  },
  {
   "cell_type": "markdown",
   "metadata": {},
   "source": [
    "## Which operator do I need?\n",
    "* https://projectreactor.io/docs/core/release/reference/apdx-operatorChoice.html"
   ]
  },
  {
   "cell_type": "markdown",
   "metadata": {},
   "source": [
    "## How to read marble diagrams?\n",
    "* https://projectreactor.io/docs/core/release/reference/apdx-howtoReadMarbles.html"
   ]
  },
  {
   "cell_type": "markdown",
   "metadata": {},
   "source": [
    "# Vert.x\n",
    "\n",
    "obsidian://open?vault=obsidian&file=Languages%2FProgramming%20paradigm%2FReactive%20Programming%2FVert.x%2Fbook.Vert.x%20in%20Action"
   ]
  }
 ],
 "metadata": {
  "language_info": {
   "name": "python"
  }
 },
 "nbformat": 4,
 "nbformat_minor": 2
}
