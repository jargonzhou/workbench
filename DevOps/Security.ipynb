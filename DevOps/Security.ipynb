{
 "cells": [
  {
   "cell_type": "markdown",
   "metadata": {},
   "source": [
    "# Security"
   ]
  },
  {
   "cell_type": "markdown",
   "metadata": {},
   "source": [
    "# Specifications"
   ]
  },
  {
   "cell_type": "markdown",
   "metadata": {},
   "source": [
    "## Authentication, Authorization\n",
    "\n",
    "- [OAuth 2.0](https://oauth.net/2/): RFC 6749\n",
    "- [OpenID Connect](https://openid.net/developers/specs/)"
   ]
  },
  {
   "cell_type": "markdown",
   "metadata": {},
   "source": [
    "# Cryptography\n",
    "\n",
    "Books:\n",
    "- Wong, David. **Real-World Cryptography**. 2021. Manning."
   ]
  },
  {
   "cell_type": "markdown",
   "metadata": {},
   "source": [
    "# IAM\n",
    "\n",
    "Books:\n",
    "- Wilson, Yvonne / Hingnikar, Abhishek. **Solving Identity Management in Modern Applications: Demystifying OAuth 2, OpenID Connect, and SAML 2**. 2019. Apress.\n",
    "\n",
    "More:\n",
    "- [Keycloak.ipynb](./Security/Keycloak.ipynb)"
   ]
  },
  {
   "cell_type": "markdown",
   "metadata": {},
   "source": [
    "# Tools"
   ]
  },
  {
   "cell_type": "markdown",
   "metadata": {},
   "source": [
    "## Falco\n",
    "\n",
    "Books:\n",
    "- Degioanni, Loris / Grasso, Leonardo. **Practical Cloud Native Security with Falco**. 2022. O'Reilly Media."
   ]
  }
 ],
 "metadata": {
  "language_info": {
   "name": "python"
  }
 },
 "nbformat": 4,
 "nbformat_minor": 2
}
