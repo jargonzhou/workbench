{
 "cells": [
  {
   "cell_type": "markdown",
   "metadata": {},
   "source": [
    "# ANTLR\n",
    "* https://www.antlr.org/\n",
    "* book: The Definitive ANTLR 4 Reference"
   ]
  },
  {
   "cell_type": "code",
   "execution_count": 1,
   "metadata": {},
   "outputs": [
    {
     "data": {
      "text/plain": [
       "\u001b[32mimport \u001b[39m\u001b[36m$ivy.$                           \n",
       "\u001b[39m\r\n",
       "\u001b[32mimport \u001b[39m\u001b[36m$ivy.$                        \n",
       "\n",
       "\u001b[39m\r\n",
       "\u001b[36mres1_2\u001b[39m: \u001b[32mBoolean\u001b[39m = \u001b[32mtrue\u001b[39m\r\n",
       "\u001b[36mres1_3\u001b[39m: \u001b[32mStatInfo\u001b[39m = \u001b[33mStatInfo\u001b[39m(\n",
       "  size = \u001b[32m2140045L\u001b[39m,\n",
       "  mtime = 2024-12-23T04:20:41.3650715Z,\n",
       "  ctime = 2024-12-23T04:20:15.7657028Z,\n",
       "  atime = 2024-12-24T08:32:31.5242865Z,\n",
       "  fileType = File\n",
       ")"
      ]
     },
     "execution_count": 1,
     "metadata": {},
     "output_type": "execute_result"
    }
   ],
   "source": [
    "import $ivy.`com.lihaoyi::os-lib:0.11.3`\n",
    "import $ivy.`org.antlr:antlr4:4.13.2`\n",
    "\n",
    "os.exists(os.home / \".m2\\\\repository\\\\org\\\\antlr\\\\antlr4\\\\4.13.2\\\\antlr4-4.13.2-complete.jar\")\n",
    "\n",
    "os.stat(os.home / \"bin\" / \"antlr-4.13.2-complete.jar\")"
   ]
  },
  {
   "cell_type": "code",
   "execution_count": 3,
   "metadata": {},
   "outputs": [
    {
     "name": "stdout",
     "output_type": "stream",
     "text": [
      "(0,Requirement already satisfied: antlr4-tools in d:\\software\\miniconda3\\lib\\site-packages (0.2.1)\n",
      "Requirement already satisfied: install-jdk in d:\\software\\miniconda3\\lib\\site-packages (from antlr4-tools) (1.1.0),)\n"
     ]
    },
    {
     "data": {
      "text/plain": [
       "\u001b[32mimport \u001b[39m\u001b[36m$ivy.$                           \n",
       "\n",
       "\u001b[39m\r\n",
       "\u001b[36mres\u001b[39m: \u001b[32mCommandResult\u001b[39m = \u001b[33mCommandResult\u001b[39m(\n",
       "  command = \u001b[33mArraySeq\u001b[39m(\u001b[32m\"pip\"\u001b[39m, \u001b[32m\"install\"\u001b[39m, \u001b[32m\"antlr4-tools\"\u001b[39m),\n",
       "  exitCode = \u001b[32m0\u001b[39m,\n",
       "  chunks = \u001b[33mVector\u001b[39m(\n",
       "    \u001b[33mLeft\u001b[39m(\n",
       "      value = Requirement already satisfied: antlr4-tools in d:\\software\\miniconda3\\lib\\site-packages (0.2.1)\r\n",
       "\n",
       "    ),\n",
       "    \u001b[33mLeft\u001b[39m(\n",
       "      value = Requirement already satisfied: install-jdk in d:\\software\\miniconda3\\lib\\site-packages (from antlr4-tools) (1.1.0)\r\n",
       "\n",
       "    )\n",
       "  )\n",
       ")"
      ]
     },
     "execution_count": 3,
     "metadata": {},
     "output_type": "execute_result"
    }
   ],
   "source": [
    "val res = os.proc(\"pip\", \"install\", \"antlr4-tools\").call()\n",
    "println((res.exitCode, res.out.trim(), res.err.trim()))"
   ]
  },
  {
   "cell_type": "markdown",
   "metadata": {},
   "source": [
    "# ArrayInit.g4"
   ]
  },
  {
   "cell_type": "markdown",
   "metadata": {},
   "source": [
    "## gen code"
   ]
  },
  {
   "cell_type": "code",
   "execution_count": 3,
   "metadata": {},
   "outputs": [
    {
     "name": "stdout",
     "output_type": "stream",
     "text": [
      "(0,,)\n"
     ]
    },
    {
     "data": {
      "text/plain": [
       "\u001b[36mres\u001b[39m: \u001b[32mCommandResult\u001b[39m = \u001b[33mCommandResult\u001b[39m(\n",
       "  command = \u001b[33mArraySeq\u001b[39m(\n",
       "    \u001b[32m\"antlr4\"\u001b[39m,\n",
       "    \u001b[32m\"grammars/ArrayInit.g4\"\u001b[39m,\n",
       "    \u001b[32m\"-o\"\u001b[39m,\n",
       "    \u001b[32m\"grammars/.antlrgen/com/spike/antlr4\"\u001b[39m\n",
       "  ),\n",
       "  exitCode = \u001b[32m0\u001b[39m,\n",
       "  chunks = \u001b[33mVector\u001b[39m()\n",
       ")\r\n",
       "\u001b[36mres3_2\u001b[39m: \u001b[32mIndexedSeq\u001b[39m[\u001b[32mPath\u001b[39m] = \u001b[33mArraySeq\u001b[39m(\n",
       "  d:\\GoogleDrive\\wiki\\jupyter-notebooks\\ANTLR\\grammars\\.antlrgen\\com\\spike\\antlr4\\ArrayInit.interp,\n",
       "  d:\\GoogleDrive\\wiki\\jupyter-notebooks\\ANTLR\\grammars\\.antlrgen\\com\\spike\\antlr4\\ArrayInit.tokens,\n",
       "  d:\\GoogleDrive\\wiki\\jupyter-notebooks\\ANTLR\\grammars\\.antlrgen\\com\\spike\\antlr4\\ArrayInitBaseListener.java,\n",
       "  d:\\GoogleDrive\\wiki\\jupyter-notebooks\\ANTLR\\grammars\\.antlrgen\\com\\spike\\antlr4\\ArrayInitLexer.interp,\n",
       "  d:\\GoogleDrive\\wiki\\jupyter-notebooks\\ANTLR\\grammars\\.antlrgen\\com\\spike\\antlr4\\ArrayInitLexer.java,\n",
       "  d:\\GoogleDrive\\wiki\\jupyter-notebooks\\ANTLR\\grammars\\.antlrgen\\com\\spike\\antlr4\\ArrayInitLexer.tokens,\n",
       "  d:\\GoogleDrive\\wiki\\jupyter-notebooks\\ANTLR\\grammars\\.antlrgen\\com\\spike\\antlr4\\ArrayInitListener.java,\n",
       "  d:\\GoogleDrive\\wiki\\jupyter-notebooks\\ANTLR\\grammars\\.antlrgen\\com\\spike\\antlr4\\ArrayInitParser.java\n",
       ")"
      ]
     },
     "execution_count": 3,
     "metadata": {},
     "output_type": "execute_result"
    }
   ],
   "source": [
    "val res = os.proc(\"antlr4\", \"grammars/ArrayInit.g4\", \"-o\", \"grammars/.antlrgen/com/spike/antlr4\").call()\n",
    "println((res.exitCode, res.out.trim(), res.err.trim()))\n",
    "\n",
    "os.list(os.pwd / \"grammars\" / \".antlrgen\" / \"com\" / \"spike\" / \"antlr4\")"
   ]
  },
  {
   "cell_type": "markdown",
   "metadata": {},
   "source": [
    "## gen jar"
   ]
  },
  {
   "cell_type": "code",
   "execution_count": 4,
   "metadata": {},
   "outputs": [
    {
     "name": "stdout",
     "output_type": "stream",
     "text": [
      "(0,,)\n",
      "ArrayInit.jar(0,已添加清单\n",
      "正在添加: com/(输入 = 0) (输出 = 0)(存储了 0%)\n",
      "正在添加: com/spike/(输入 = 0) (输出 = 0)(存储了 0%)\n",
      "正在添加: com/spike/antlr4/(输入 = 0) (输出 = 0)(存储了 0%)\n",
      "正在添加: com/spike/antlr4/ArrayInitBaseListener.class(输入 = 1173) (输出 = 456)(压缩了 61%)\n",
      "正在添加: com/spike/antlr4/ArrayInitLexer.class(输入 = 3977) (输出 = 1949)(压缩了 50%)\n",
      "正在添加: com/spike/antlr4/ArrayInitListener.class(输入 = 600) (输出 = 285)(压缩了 52%)\n",
      "正在添加: com/spike/antlr4/ArrayInitParser$ArrayinitContext.class(输入 = 1349) (输出 = 602)(压缩了 55%)\n",
      "正在添加: com/spike/antlr4/ArrayInitParser$ValueContext.class(输入 = 1286) (输出 = 593)(压缩了 53%)\n",
      "正在添加: com/spike/antlr4/ArrayInitParser.class(输入 = 5726) (输出 = 2738)(压缩了 52%),)\n"
     ]
    },
    {
     "data": {
      "text/plain": [
       "\u001b[36mres\u001b[39m: \u001b[32mCommandResult\u001b[39m = \u001b[33mCommandResult\u001b[39m(\n",
       "  command = \u001b[33mArraySeq\u001b[39m(\n",
       "    \u001b[32m\"javac\"\u001b[39m,\n",
       "    \u001b[32m\"-cp\"\u001b[39m,\n",
       "    \u001b[32m\"C:\\\\Users\\\\zhouj\\\\bin\\\\antlr-4.13.2-complete.jar\"\u001b[39m,\n",
       "    \u001b[32m\"grammars/.antlrgen/com/spike/antlr4/*.java\"\u001b[39m,\n",
       "    \u001b[32m\"-d\"\u001b[39m,\n",
       "    \u001b[32m\"grammars/.antlrgen/jar\"\u001b[39m\n",
       "  ),\n",
       "  exitCode = \u001b[32m0\u001b[39m,\n",
       "  chunks = \u001b[33mVector\u001b[39m()\n",
       ")\r\n",
       "\u001b[36mjarName\u001b[39m: \u001b[32mString\u001b[39m = \u001b[32m\"ArrayInit.jar\"\u001b[39m\r\n",
       "\u001b[36mjarres\u001b[39m: \u001b[32mCommandResult\u001b[39m = \u001b[33mCommandResult\u001b[39m(\n",
       "  command = \u001b[33mArraySeq\u001b[39m(\n",
       "    \u001b[32m\"jar\"\u001b[39m,\n",
       "    \u001b[32m\"cvf\"\u001b[39m,\n",
       "    \u001b[32m\"ArrayInit.jar\"\u001b[39m,\n",
       "    \u001b[32m\"-C\"\u001b[39m,\n",
       "    \u001b[32m\"grammars/.antlrgen/jar\"\u001b[39m,\n",
       "    \u001b[32m\".\"\u001b[39m\n",
       "  ),\n",
       "  exitCode = \u001b[32m0\u001b[39m,\n",
       "  chunks = \u001b[33mVector\u001b[39m(\n",
       "    \u001b[33mLeft\u001b[39m(\n",
       "      value = 已添加清单\r\n",
       "\n",
       "    ),\n",
       "    \u001b[33mLeft\u001b[39m(\n",
       "      value = 正在添加: com/(输入 = 0) (输出 = 0)(存储了 0%)\r\n",
       "\n",
       "    ),\n",
       "    \u001b[33mLeft\u001b[39m(\n",
       "      value = 正在添加: com/spike/(输入 = 0) (输出 = 0)(存储了 0%)\r\n",
       "\n",
       "    ),\n",
       "    \u001b[33mLeft\u001b[39m(\n",
       "      value = 正在添加: com/spike/antlr4/(输入 = 0) (输出 = 0)(存储了 0%)\r\n",
       "\n",
       "    ),\n",
       "    \u001b[33mLeft\u001b[39m(\n",
       "      value = 正在添加: com/spike/antlr4/ArrayInitBaseListener.class(输入 = 1173) (输出 = 456)(压缩了 61%)\r\n",
       "\n",
       "    ),\n",
       "    \u001b[33mLeft\u001b[39m(\n",
       "      value = 正在添加: com/spike/antlr4/ArrayInitLexer.class(输入 = 3977) (输出 = 1949)..."
      ]
     },
     "execution_count": 4,
     "metadata": {},
     "output_type": "execute_result"
    }
   ],
   "source": [
    "// NOTE: restart kernel when has imported\n",
    "val res = os.proc(\"javac\", \"-cp\", \n",
    "  (os.home / \"bin\" / \"antlr-4.13.2-complete.jar\").toString, \n",
    "  \"grammars/.antlrgen/com/spike/antlr4/*.java\", \n",
    "  \"-d\", \"grammars/.antlrgen/jar\").call()\n",
    "println((res.exitCode, res.out.trim(), res.err.trim()))\n",
    "\n",
    "val jarName = s\"ArrayInit.jar\"\n",
    "print(jarName)\n",
    "val jarres = os.proc(\"jar\", \"cvf\", jarName, \"-C\", \"grammars/.antlrgen/jar\", \".\").call()\n",
    "println((jarres.exitCode, jarres.out.trim(), jarres.err.trim()))\n"
   ]
  },
  {
   "cell_type": "markdown",
   "metadata": {},
   "source": [
    "## test with Java"
   ]
  },
  {
   "cell_type": "code",
   "execution_count": 7,
   "metadata": {},
   "outputs": [
    {
     "name": "stdout",
     "output_type": "stream",
     "text": [
      "(0,,)\n",
      "(0,(arrayinit { (value 1) , (value 2) , (value 3) }),)\n"
     ]
    },
    {
     "data": {
      "text/plain": [
       "\u001b[36mjavacres\u001b[39m: \u001b[32mCommandResult\u001b[39m = \u001b[33mCommandResult\u001b[39m(\n",
       "  command = \u001b[33mArraySeq\u001b[39m(\n",
       "    \u001b[32m\"javac\"\u001b[39m,\n",
       "    \u001b[32m\"-cp\"\u001b[39m,\n",
       "    \u001b[32m\".;C:\\\\Users\\\\zhouj\\\\bin\\\\antlr-4.13.2-complete.jar;ArrayInit.jar\"\u001b[39m,\n",
       "    \u001b[32m\"t/Test.java\"\u001b[39m\n",
       "  ),\n",
       "  exitCode = \u001b[32m0\u001b[39m,\n",
       "  chunks = \u001b[33mVector\u001b[39m()\n",
       ")\r\n",
       "\u001b[36mres\u001b[39m: \u001b[32mCommandResult\u001b[39m = \u001b[33mCommandResult\u001b[39m(\n",
       "  command = \u001b[33mArraySeq\u001b[39m(\n",
       "    \u001b[32m\"java\"\u001b[39m,\n",
       "    \u001b[32m\"-cp\"\u001b[39m,\n",
       "    \u001b[32m\".;C:\\\\Users\\\\zhouj\\\\bin\\\\antlr-4.13.2-complete.jar;ArrayInit.jar;t\"\u001b[39m,\n",
       "    \u001b[32m\"Test\"\u001b[39m\n",
       "  ),\n",
       "  exitCode = \u001b[32m0\u001b[39m,\n",
       "  chunks = \u001b[33mVector\u001b[39m(\n",
       "    \u001b[33mLeft\u001b[39m(\n",
       "      value = (arrayinit { (value 1) , (value 2) , (value 3) })\r\n",
       "\n",
       "    )\n",
       "  )\n",
       ")"
      ]
     },
     "execution_count": 7,
     "metadata": {},
     "output_type": "execute_result"
    }
   ],
   "source": [
    "// without jar\n",
    "// javac -cp .:/c/Users/zhouj/bin/antlr-4.13.2-complete.jar:grammars/.antlrgen/jar t/Test.java\n",
    "// java -cp .:/c/Users/zhouj/bin/antlr-4.13.2-complete.jar:grammars/.antlrgen/jar:t Test\n",
    "\n",
    "// with jar\n",
    "val javacres = os.proc(\"javac\", \"-cp\", \n",
    "  // \".:\"+(os.home / \"bin\" / \"antlr-4.13.2-complete.jar\").toString + \":ArrayInit.jar\",\n",
    "  \".;\"+(os.home / \"bin\" / \"antlr-4.13.2-complete.jar\").toString + \";ArrayInit.jar\", // windows\n",
    "  \"t/Test.java\").call()\n",
    "println((javacres.exitCode, javacres.out.trim(), javacres.err.trim()))\n",
    "\n",
    "val res = os.proc(\"java\", \"-cp\", \n",
    "  // \".:\"+(os.home / \"bin\" / \"antlr-4.13.2-complete.jar\").toString + \":ArrayInit.jar\",\n",
    "  \".;\"+(os.home / \"bin\" / \"antlr-4.13.2-complete.jar\").toString + \";ArrayInit.jar;t\", // windows\n",
    "  \"Test\").call()\n",
    "println((res.exitCode, res.out.trim(), res.err.trim()))"
   ]
  },
  {
   "cell_type": "markdown",
   "metadata": {},
   "source": [
    "## test with Scala"
   ]
  },
  {
   "cell_type": "code",
   "execution_count": 8,
   "metadata": {},
   "outputs": [
    {
     "name": "stdout",
     "output_type": "stream",
     "text": [
      "(arrayinit { (value 1) , (value 2) , (value 3) })\n"
     ]
    },
    {
     "data": {
      "text/plain": [
       "\u001b[32mimport \u001b[39m\u001b[36m$cp.$              , com.spike.antlr4._\n",
       "// interp.load.cp(os.pwd / \"ArrayInit.jar\")\n",
       "\u001b[39m\r\n",
       "\u001b[32mimport \u001b[39m\u001b[36m$ivy.$                        , org.antlr.v4.runtime._, org.antlr.v4.runtime.tree._\n",
       "\n",
       "// create a CharStream that reads from standard input\n",
       "\u001b[39m\r\n",
       "\u001b[36minput\u001b[39m: \u001b[32mCodePointCharStream\u001b[39m = {1,2,3}\r\n",
       "\u001b[36mlexer\u001b[39m: \u001b[32mArrayInitLexer\u001b[39m = com.spike.antlr4.ArrayInitLexer@5514e083\r\n",
       "\u001b[36mtokens\u001b[39m: \u001b[32mCommonTokenStream\u001b[39m = org.antlr.v4.runtime.CommonTokenStream@6c1bd6df\r\n",
       "\u001b[36mparser\u001b[39m: \u001b[32mArrayInitParser\u001b[39m = com.spike.antlr4.ArrayInitParser@779c151\r\n",
       "\u001b[36mtree\u001b[39m: \u001b[32mArrayinitContext\u001b[39m = []"
      ]
     },
     "execution_count": 8,
     "metadata": {},
     "output_type": "execute_result"
    }
   ],
   "source": [
    "import $cp.`ArrayInit.jar`, com.spike.antlr4._\n",
    "// interp.load.cp(os.pwd / \"ArrayInit.jar\")\n",
    "import $ivy.`org.antlr:antlr4:4.13.2`, org.antlr.v4.runtime._, org.antlr.v4.runtime.tree._\n",
    "\n",
    "// create a CharStream that reads from standard input\n",
    "val input = CharStreams.fromString(\"{1,2,3}\");\n",
    "// create a lexer that feeds off of input CharStream\n",
    "val lexer = new ArrayInitLexer(input);\n",
    "// create a buffer of tokens pulled from the lexer\n",
    "val tokens = new CommonTokenStream(lexer);\n",
    "// create a parser that feeds off the tokens buffer\n",
    "val parser = new ArrayInitParser(tokens);\n",
    "val tree = parser.arrayinit(); // begin parsing at init rule\n",
    "println(tree.toStringTree(parser)); // print LISP-style tree"
   ]
  }
 ],
 "metadata": {
  "kernelspec": {
   "display_name": "Scala",
   "language": "scala",
   "name": "scala"
  },
  "language_info": {
   "codemirror_mode": "text/x-scala",
   "file_extension": ".sc",
   "mimetype": "text/x-scala",
   "name": "scala",
   "nbconvert_exporter": "script",
   "version": "2.13.14"
  }
 },
 "nbformat": 4,
 "nbformat_minor": 2
}
