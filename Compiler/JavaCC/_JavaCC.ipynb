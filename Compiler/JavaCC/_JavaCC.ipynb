{
 "cells": [
  {
   "cell_type": "markdown",
   "metadata": {},
   "source": [
    "# JavaCC\n",
    "* https://github.com/javacc/javacc\n",
    "* Documentation: https://javacc.github.io/javacc/documentation/"
   ]
  },
  {
   "cell_type": "code",
   "execution_count": 2,
   "metadata": {},
   "outputs": [
    {
     "data": {
      "text/plain": [
       "\u001b[32mimport \u001b[39m\u001b[36m$ivy.$                           \n",
       "\n",
       "\u001b[39m\r\n",
       "\u001b[32mimport \u001b[39m\u001b[36m$ivy.$                                  \n",
       "\n",
       "\n",
       "\u001b[39m\r\n",
       "defined \u001b[32mfunction\u001b[39m \u001b[36mexec\u001b[39m\r\n",
       "defined \u001b[32mfunction\u001b[39m \u001b[36mexecForce\u001b[39m\r\n",
       "defined \u001b[32mfunction\u001b[39m \u001b[36mgenAndJar\u001b[39m"
      ]
     },
     "execution_count": 2,
     "metadata": {},
     "output_type": "execute_result"
    }
   ],
   "source": [
    "import $ivy.`com.lihaoyi::os-lib:0.11.3`\n",
    "\n",
    "import $ivy.`net.java.dev.javacc:javacc:7.0.13`\n",
    "\n",
    "\n",
    "def exec(commands: String*): Unit = \n",
    "  val res = os.proc(commands).call()\n",
    "  if res.exitCode == 0 then\n",
    "    print(res.out.trim())\n",
    "  else\n",
    "    print(res.err.trim())\n",
    "\n",
    "def execForce(commands: String*): Unit =\n",
    "  try\n",
    "    exec(commands*)\n",
    "  catch\n",
    "    case ex: Exception => println(ex)\n",
    "\n",
    "def genAndJar(exampleName: String): Unit = {\n",
    "  exec(\"javacc.bat\", \"-OUTPUT_DIRECTORY:gen/com/spike/javacc\", f\"${exampleName}.jj\") // windows\n",
    "  exec(\"javac\", \"gen/com/spike/javacc/*.java\")\n",
    "  exec(\"jar\", \"cvf\", f\"${exampleName}.jar\", \"-C\", \"gen\", \".\")\n",
    "}"
   ]
  },
  {
   "cell_type": "markdown",
   "metadata": {},
   "source": [
    "# cli"
   ]
  },
  {
   "cell_type": "markdown",
   "metadata": {},
   "source": [
    "## javacc\n",
    "* https://javacc.github.io/javacc/documentation/cli.html"
   ]
  },
  {
   "cell_type": "code",
   "execution_count": 9,
   "metadata": {},
   "outputs": [
    {
     "name": "stdout",
     "output_type": "stream",
     "text": [
      "os.SubprocessException: Result of javacc.bat: 1\n",
      "Java Compiler Compiler Version 7.0.13 (Parser Generator)\n",
      "\n",
      "Usage:\n",
      "    javacc option-settings inputfile\n",
      "\n",
      "\"option-settings\" is a sequence of settings separated by spaces.\n",
      "Each option setting must be of one of the following forms:\n",
      "\n",
      "    -optionname=value (e.g., -STATIC=false)\n",
      "    -optionname:value (e.g., -STATIC:false)\n",
      "    -optionname       (equivalent to -optionname=true.  e.g., -STATIC)\n",
      "    -NOoptionname     (equivalent to -optionname=false. e.g., -NOSTATIC)\n",
      "\n",
      "Option settings are not case-sensitive, so one can say \"-nOsTaTiC\" instead\n",
      "of \"-NOSTATIC\".  Option values must be appropriate for the corresponding\n",
      "option, and must be either an integer, a boolean, or a string value.\n",
      "\n",
      "The integer valued options are:\n",
      "\n",
      "    CHOICE_AMBIGUITY_CHECK (default : 2)\n",
      "    DEPTH_LIMIT            (default : 0)\n",
      "    LOOKAHEAD              (default : 1)\n",
      "    OTHER_AMBIGUITY_CHECK  (default : 1)\n",
      "\n",
      "The boolean valued options are:\n",
      "\n",
      "    BUILD_PARSER                    (default : true)\n",
      "    BUILD_TOKEN_MANAGER             (default : true)\n",
      "    CACHE_TOKENS                    (default : false)\n",
      "    COMMON_TOKEN_ACTION             (default : false)\n",
      "    DEBUG_LOOKAHEAD                 (default : false)\n",
      "    DEBUG_PARSER                    (default : false)\n",
      "    DEBUG_TOKEN_MANAGER             (default : false)\n",
      "    ERROR_REPORTING                 (default : true)\n",
      "    FORCE_LA_CHECK                  (default : false)\n",
      "    GENERATE_ANNOTATIONS            (default : false)\n",
      "    GENERATE_BOILERPLATE            (default : true)\n",
      "    GENERATE_CHAINED_EXCEPTION      (default : false)\n",
      "    GENERATE_GENERICS               (default : false)\n",
      "    GENERATE_STRING_BUILDER         (default : false)\n",
      "    IGNORE_ACTIONS                  (default : false)\n",
      "    IGNORE_CASE                     (default : false)\n",
      "    JAVA_UNICODE_ESCAPE             (default : false)\n",
      "    KEEP_LINE_COLUMN                (default : true)\n",
      "    NO_DFA                          (default : false)\n",
      "    SANITY_CHECK                    (default : true)\n",
      "    STATIC                          (default : true)\n",
      "    STOP_ON_FIRST_ERROR             (default : false)\n",
      "    SUPPORT_CLASS_VISIBILITY_PUBLIC (default : true)\n",
      "    TOKEN_MANAGER_USES_PARSER       (default : false)\n",
      "    UNICODE_INPUT                   (default : false)\n",
      "    USER_CHAR_STREAM                (default : false)\n",
      "    USER_TOKEN_MANAGER              (default : false)\n",
      "\n",
      "The string valued options are:\n",
      "\n",
      "    GRAMMAR_ENCODING             (default : <<empty>>)\n",
      "    JAVA_TEMPLATE_TYPE           (default : classic)\n",
      "    JDK_VERSION                  (default : 1.5)\n",
      "    NAMESPACE                    (default : <<empty>>)\n",
      "    OUTPUT_DIRECTORY             (default : .)\n",
      "    OUTPUT_LANGUAGE              (default : java)\n",
      "    PARSER_CODE_GENERATOR        (default : <<empty>>)\n",
      "    PARSER_INCLUDE               (default : <<empty>>)\n",
      "    PARSER_SUPER_CLASS           \n",
      "    STACK_LIMIT                  (default : <<empty>>)\n",
      "    TOKEN_EXTENDS                (default : <<empty>>)\n",
      "    TOKEN_FACTORY                (default : <<empty>>)\n",
      "    TOKEN_INCLUDE                (default : <<empty>>)\n",
      "    TOKEN_MANAGER_CODE_GENERATOR (default : <<empty>>)\n",
      "    TOKEN_MANAGER_INCLUDE        (default : <<empty>>)\n",
      "    TOKEN_MANAGER_SUPER_CLASS    \n",
      "    TOKEN_SUPER_CLASS            \n",
      "\n",
      "EXAMPLE:\n",
      "    javacc -STATIC=false -LOOKAHEAD:2 -debug_parser mygrammar.jj\n",
      "\n",
      "\n"
     ]
    }
   ],
   "source": [
    "execForce(\"javacc.bat\")"
   ]
  },
  {
   "cell_type": "markdown",
   "metadata": {},
   "source": [
    "## jjrun"
   ]
  },
  {
   "cell_type": "code",
   "execution_count": 10,
   "metadata": {},
   "outputs": [
    {
     "name": "stdout",
     "output_type": "stream",
     "text": [
      "java.io.IOException: Cannot run program \"jjrun\" (in directory \"d:\\GoogleDrive\\wiki\\jupyter-notebooks\\Compiler\\JavaCC\"): CreateProcess error=2, 系统找不到指定的文件。\n"
     ]
    }
   ],
   "source": [
    "execForce(\"jjrun\")"
   ]
  },
  {
   "cell_type": "markdown",
   "metadata": {},
   "source": [
    "## jjtree\n",
    "* https://javacc.github.io/javacc/documentation/jjtree.html"
   ]
  },
  {
   "cell_type": "code",
   "execution_count": 11,
   "metadata": {},
   "outputs": [
    {
     "name": "stdout",
     "output_type": "stream",
     "text": [
      "os.SubprocessException: Result of jjtree.bat: 1\n",
      "Java Compiler Compiler Version 7.0.13 (Tree Builder)\n",
      "\n",
      "Usage:\n",
      "    jjtree option-settings inputfile\n",
      "\n",
      "\"option-settings\" is a sequence of settings separated by spaces.\n",
      "Each option setting must be of one of the following forms:\n",
      "\n",
      "    -optionname=value (e.g., -STATIC=false)\n",
      "    -optionname:value (e.g., -STATIC:false)\n",
      "    -optionname       (equivalent to -optionname=true.  e.g., -STATIC)\n",
      "    -NOoptionname     (equivalent to -optionname=false. e.g., -NOSTATIC)\n",
      "\n",
      "Option settings are not case-sensitive, so one can say \"-nOsTaTiC\" instead\n",
      "of \"-NOSTATIC\".  Option values must be appropriate for the corresponding\n",
      "option, and must be either an integer or a string value.\n",
      "\n",
      "The boolean valued options are:\n",
      "\n",
      "    STATIC                   (default true)\n",
      "    MULTI                    (default false)\n",
      "    NODE_DEFAULT_VOID        (default false)\n",
      "    NODE_SCOPE_HOOK          (default false)\n",
      "    NODE_USES_PARSER         (default false)\n",
      "    BUILD_NODE_FILES         (default true)\n",
      "    TRACK_TOKENS             (default false)\n",
      "    VISITOR                  (default false)\n",
      "\n",
      "The string valued options are:\n",
      "\n",
      "    JDK_VERSION              (default \"1.5\")\n",
      "    NODE_CLASS               (default \"\")\n",
      "    NODE_PREFIX              (default \"AST\")\n",
      "    NODE_PACKAGE             (default \"\")\n",
      "    NODE_EXTENDS             (default \"\")\n",
      "    NODE_FACTORY             (default \"\")\n",
      "    OUTPUT_FILE              (default remove input file suffix, add .jj)\n",
      "    OUTPUT_DIRECTORY         (default \"\")\n",
      "    JJTREE_OUTPUT_DIRECTORY  (default value of OUTPUT_DIRECTORY option)\n",
      "    VISITOR_DATA_TYPE        (default \"\")\n",
      "    VISITOR_RETURN_TYPE      (default \"Object\")\n",
      "    VISITOR_EXCEPTION        (default \"\")\n",
      "\n",
      "JJTree also accepts JavaCC options, which it inserts into the generated file.\n",
      "\n",
      "EXAMPLES:\n",
      "    jjtree -STATIC=false mygrammar.jjt\n",
      "\n",
      "ABOUT JJTree:\n",
      "    JJTree is a preprocessor for JavaCC that inserts actions into a\n",
      "    JavaCC grammar to build parse trees for the input.\n",
      "\n",
      "    For more information, see the online JJTree documentation at \n",
      "    https://javacc.dev.java.net/doc/JJTree.html \n",
      "\n",
      "\n"
     ]
    }
   ],
   "source": [
    "execForce(\"jjtree.bat\")"
   ]
  },
  {
   "cell_type": "markdown",
   "metadata": {},
   "source": [
    "## jjdoc\n",
    "* https://javacc.github.io/javacc/documentation/jjdoc.html"
   ]
  },
  {
   "cell_type": "code",
   "execution_count": 12,
   "metadata": {},
   "outputs": [
    {
     "name": "stdout",
     "output_type": "stream",
     "text": [
      "os.SubprocessException: Result of jjdoc.bat: 1\n",
      "Java Compiler Compiler Version 7.0.13 (Documentation Generator Version 0.1.4)\n",
      "\n"
     ]
    }
   ],
   "source": [
    "execForce(\"jjdoc.bat\")"
   ]
  },
  {
   "cell_type": "markdown",
   "metadata": {},
   "source": [
    "# Maven\n",
    "* https://github.com/mojohaus/javacc-maven-plugin\n",
    "\n",
    "```\n",
    "# javacc\n",
    "src/main/javacc\n",
    "# jjtree-javacc\n",
    "src/main/jjtree/*.jjt\n",
    "# jtb-javacc: JTB fro Java Tree Builder\n",
    "src/main/jtb/*.jtb\n",
    "# jjdoc\n",
    "target/site/jjdoc\n",
    "```"
   ]
  },
  {
   "cell_type": "markdown",
   "metadata": {},
   "source": [
    "# Examples\n",
    "* examples: https://javacc.github.io/javacc/tutorials/examples.html"
   ]
  },
  {
   "cell_type": "markdown",
   "metadata": {},
   "source": [
    "## JavaCC"
   ]
  },
  {
   "cell_type": "markdown",
   "metadata": {},
   "source": [
    "### Example1.jj\n",
    "识别匹配的大括号, 后接零个或多个换行符, 后继文件结束符."
   ]
  },
  {
   "cell_type": "code",
   "execution_count": 2,
   "metadata": {},
   "outputs": [
    {
     "name": "stdout",
     "output_type": "stream",
     "text": [
      "Java Compiler Compiler Version 7.0.13 (Parser Generator)\n",
      "(type \"javacc\" with no arguments for help)\n",
      "Reading from file Example1.jj . . .\n",
      "File \"TokenMgrError.java\" does not exist.  Will create one.\n",
      "File \"ParseException.java\" does not exist.  Will create one.\n",
      "File \"Token.java\" does not exist.  Will create one.\n",
      "File \"SimpleCharStream.java\" does not exist.  Will create one.\n",
      "Parser generated with 0 errors and 1 warnings."
     ]
    }
   ],
   "source": [
    "exec(\"javacc.bat\", \"-OUTPUT_DIRECTORY:gen/com/spike/javacc\", \"Example1.jj\") // windows"
   ]
  },
  {
   "cell_type": "code",
   "execution_count": 3,
   "metadata": {},
   "outputs": [
    {
     "data": {
      "text/plain": [
       "\u001b[36mres3\u001b[39m: \u001b[32mIndexedSeq\u001b[39m[\u001b[32mPath\u001b[39m] = \u001b[33mArraySeq\u001b[39m(\n",
       "  d:\\GoogleDrive\\wiki\\jupyter-notebooks\\Compiler\\JavaCC\\gen\\com,\n",
       "  d:\\GoogleDrive\\wiki\\jupyter-notebooks\\Compiler\\JavaCC\\gen\\com\\spike,\n",
       "  d:\\GoogleDrive\\wiki\\jupyter-notebooks\\Compiler\\JavaCC\\gen\\com\\spike\\javacc,\n",
       "  d:\\GoogleDrive\\wiki\\jupyter-notebooks\\Compiler\\JavaCC\\gen\\com\\spike\\javacc\\Example1.java,\n",
       "  d:\\GoogleDrive\\wiki\\jupyter-notebooks\\Compiler\\JavaCC\\gen\\com\\spike\\javacc\\Example1Constants.java,\n",
       "  d:\\GoogleDrive\\wiki\\jupyter-notebooks\\Compiler\\JavaCC\\gen\\com\\spike\\javacc\\Example1TokenManager.java,\n",
       "  d:\\GoogleDrive\\wiki\\jupyter-notebooks\\Compiler\\JavaCC\\gen\\com\\spike\\javacc\\ParseException.java,\n",
       "  d:\\GoogleDrive\\wiki\\jupyter-notebooks\\Compiler\\JavaCC\\gen\\com\\spike\\javacc\\SimpleCharStream.java,\n",
       "  d:\\GoogleDrive\\wiki\\jupyter-notebooks\\Compiler\\JavaCC\\gen\\com\\spike\\javacc\\Token.java,\n",
       "  d:\\GoogleDrive\\wiki\\jupyter-notebooks\\Compiler\\JavaCC\\gen\\com\\spike\\javacc\\TokenMgrError.java\n",
       ")"
      ]
     },
     "execution_count": 3,
     "metadata": {},
     "output_type": "execute_result"
    }
   ],
   "source": [
    "os.walk(os.pwd / \"gen\")"
   ]
  },
  {
   "cell_type": "code",
   "execution_count": 4,
   "metadata": {},
   "outputs": [],
   "source": [
    "exec(\"javac\", \"gen/com/spike/javacc/*.java\")"
   ]
  },
  {
   "cell_type": "code",
   "execution_count": 7,
   "metadata": {},
   "outputs": [
    {
     "name": "stdout",
     "output_type": "stream",
     "text": [
      "已添加清单\n",
      "正在添加: com/(输入 = 0) (输出 = 0)(存储了 0%)\n",
      "正在添加: com/spike/(输入 = 0) (输出 = 0)(存储了 0%)\n",
      "正在添加: com/spike/javacc/(输入 = 0) (输出 = 0)(存储了 0%)\n",
      "正在添加: com/spike/javacc/Example1.class(输入 = 5519) (输出 = 2858)(压缩了 48%)\n",
      "正在添加: com/spike/javacc/Example1.java(输入 = 7307) (输出 = 1685)(压缩了 76%)\n",
      "正在添加: com/spike/javacc/Example1Constants.class(输入 = 442) (输出 = 323)(压缩了 26%)\n",
      "正在添加: com/spike/javacc/Example1Constants.java(输入 = 484) (输出 = 281)(压缩了 41%)\n",
      "正在添加: com/spike/javacc/Example1TokenManager.class(输入 = 5067) (输出 = 2820)(压缩了 44%)\n",
      "正在添加: com/spike/javacc/Example1TokenManager.java(输入 = 6187) (输出 = 1869)(压缩了 69%)\n",
      "正在添加: com/spike/javacc/ParseException.class(输入 = 3356) (输出 = 1905)(压缩了 43%)\n",
      "正在添加: com/spike/javacc/ParseException.java(输入 = 6443) (输出 = 2050)(压缩了 68%)\n",
      "正在添加: com/spike/javacc/SimpleCharStream.class(输入 = 6943) (输出 = 3458)(压缩了 50%)\n",
      "正在添加: com/spike/javacc/SimpleCharStream.java(输入 = 12852) (输出 = 2620)(压缩了 79%)\n",
      "正在添加: com/spike/javacc/Token.class(输入 = 1053) (输出 = 572)(压缩了 45%)\n",
      "正在添加: com/spike/javacc/Token.java(输入 = 4229) (输出 = 1603)(压缩了 62%)\n",
      "正在添加: com/spike/javacc/TokenMgrError.class(输入 = 2871) (输出 = 1553)(压缩了 45%)\n",
      "正在添加: com/spike/javacc/TokenMgrError.java(输入 = 4743) (输出 = 1722)(压缩了 63%)"
     ]
    }
   ],
   "source": [
    "exec(\"jar\", \"cvf\", \"Example1.jar\", \"-C\", \"gen\", \".\")"
   ]
  },
  {
   "cell_type": "code",
   "execution_count": 1,
   "metadata": {},
   "outputs": [
    {
     "data": {
      "text/plain": [
       "\u001b[32mimport \u001b[39m\u001b[36m$cp.$             , com.spike.javacc._\r\n",
       "\u001b[39m"
      ]
     },
     "execution_count": 1,
     "metadata": {},
     "output_type": "execute_result"
    }
   ],
   "source": [
    "// exec(\"java\", \"-cp\", \"Example1\", \"Example1\")\n",
    "\n",
    "import $cp.`Example1.jar`, com.spike.javacc._\n",
    "\n",
    "// inputs:\n",
    "// {{}}\n",
    "// {x\n",
    "// {}}"
   ]
  },
  {
   "cell_type": "code",
   "execution_count": 2,
   "metadata": {},
   "outputs": [
    {
     "data": {
      "text/plain": [
       "\u001b[36minput\u001b[39m: \u001b[32mStringReader\u001b[39m = java.io.StringReader@2f8c391b\r\n",
       "\u001b[36mparser\u001b[39m: \u001b[32mExample1\u001b[39m = com.spike.javacc.Example1@17a90ed7"
      ]
     },
     "execution_count": 2,
     "metadata": {},
     "output_type": "execute_result"
    }
   ],
   "source": [
    "// first call\n",
    "val input = new java.io.StringReader(kernel.stdin(\">> \")) // {x<return>\n",
    "val parser = new Example1(input)\n",
    "// parser.Input()\n",
    "Example1.Input()"
   ]
  },
  {
   "cell_type": "code",
   "execution_count": 6,
   "metadata": {},
   "outputs": [
    {
     "ename": "com.spike.javacc.ParseException",
     "evalue": "Encountered \" \"}\" \"} \"\" at line 1, column 3.\r\nWas expecting one of:\r\n    <EOF> \r\n    \"\\n\" ...\r\n    \"\\r\" ...\r\n    ",
     "output_type": "error",
     "traceback": [
      "\u001b[31mcom.spike.javacc.ParseException: Encountered \" \"}\" \"} \"\" at line 1, column 3.\r\nWas expecting one of:\r\n    <EOF> \r\n    \"\\n\" ...\r\n    \"\\r\" ...\r\n    \u001b[39m",
      "  com.spike.javacc.Example1.generateParseException(\u001b[32mExample1.java\u001b[39m:\u001b[32m251\u001b[39m)",
      "  com.spike.javacc.Example1.jj_consume_token(\u001b[32mExample1.java\u001b[39m:\u001b[32m189\u001b[39m)",
      "  com.spike.javacc.Example1.Input(\u001b[32mExample1.java\u001b[39m:\u001b[32m46\u001b[39m)",
      "  ammonite.$sess.cmd6$Helper.<init>(\u001b[32mcmd6.sc\u001b[39m:\u001b[32m3\u001b[39m)",
      "  ammonite.$sess.cmd6$.<clinit>(\u001b[32mcmd6.sc\u001b[39m:\u001b[32m65418\u001b[39m)"
     ]
    }
   ],
   "source": [
    "// call again\n",
    "val input = new java.io.StringReader(kernel.stdin(\">> \")) // {x<return>\n",
    "Example1.ReInit(input)\n",
    "Example1.Input()"
   ]
  },
  {
   "cell_type": "code",
   "execution_count": 2,
   "metadata": {},
   "outputs": [],
   "source": [
    "// cleanup\n",
    "os.remove.all(os.pwd / \"gen\")"
   ]
  },
  {
   "cell_type": "code",
   "execution_count": 1,
   "metadata": {},
   "outputs": [
    {
     "data": {
      "text/plain": [
       "\u001b[36mres1\u001b[39m: \u001b[32mIndexedSeq\u001b[39m[\u001b[32mBoolean\u001b[39m] = \u001b[33mArraySeq\u001b[39m(\u001b[32mtrue\u001b[39m)"
      ]
     },
     "execution_count": 1,
     "metadata": {},
     "output_type": "execute_result"
    }
   ],
   "source": [
    "// cleanup: after restart\n",
    "os.list(os.pwd).filter(_.toString.endsWith(\".jar\")).map(os.remove(_))"
   ]
  },
  {
   "cell_type": "markdown",
   "metadata": {},
   "source": [
    "### Example2.jj\n",
    "允许大括号之间有空格"
   ]
  },
  {
   "cell_type": "code",
   "execution_count": 4,
   "metadata": {},
   "outputs": [
    {
     "name": "stdout",
     "output_type": "stream",
     "text": [
      "Java Compiler Compiler Version 7.0.13 (Parser Generator)\n",
      "(type \"javacc\" with no arguments for help)\n",
      "Reading from file Example2.jj . . .\n",
      "File \"TokenMgrError.java\" does not exist.  Will create one.\n",
      "File \"ParseException.java\" does not exist.  Will create one.\n",
      "File \"Token.java\" does not exist.  Will create one.\n",
      "File \"SimpleCharStream.java\" does not exist.  Will create one.\n",
      "Parser generated with 0 errors and 1 warnings.已添加清单\n",
      "正在添加: com/(输入 = 0) (输出 = 0)(存储了 0%)\n",
      "正在添加: com/spike/(输入 = 0) (输出 = 0)(存储了 0%)\n",
      "正在添加: com/spike/javacc/(输入 = 0) (输出 = 0)(存储了 0%)\n",
      "正在添加: com/spike/javacc/Example2.class(输入 = 5303) (输出 = 2720)(压缩了 48%)\n",
      "正在添加: com/spike/javacc/Example2.java(输入 = 6773) (输出 = 1587)(压缩了 76%)\n",
      "正在添加: com/spike/javacc/Example2Constants.class(输入 = 473) (输出 = 343)(压缩了 27%)\n",
      "正在添加: com/spike/javacc/Example2Constants.java(输入 = 514) (输出 = 285)(压缩了 44%)\n",
      "正在添加: com/spike/javacc/Example2TokenManager.class(输入 = 5163) (输出 = 2888)(压缩了 44%)\n",
      "正在添加: com/spike/javacc/Example2TokenManager.java(输入 = 6467) (输出 = 1959)(压缩了 69%)\n",
      "正在添加: com/spike/javacc/ParseException.class(输入 = 3356) (输出 = 1905)(压缩了 43%)\n",
      "正在添加: com/spike/javacc/ParseException.java(输入 = 6443) (输出 = 2050)(压缩了 68%)\n",
      "正在添加: com/spike/javacc/SimpleCharStream.class(输入 = 6943) (输出 = 3458)(压缩了 50%)\n",
      "正在添加: com/spike/javacc/SimpleCharStream.java(输入 = 12852) (输出 = 2620)(压缩了 79%)\n",
      "正在添加: com/spike/javacc/Token.class(输入 = 1053) (输出 = 572)(压缩了 45%)\n",
      "正在添加: com/spike/javacc/Token.java(输入 = 4229) (输出 = 1603)(压缩了 62%)\n",
      "正在添加: com/spike/javacc/TokenMgrError.class(输入 = 2871) (输出 = 1553)(压缩了 45%)\n",
      "正在添加: com/spike/javacc/TokenMgrError.java(输入 = 4743) (输出 = 1722)(压缩了 63%)"
     ]
    },
    {
     "data": {
      "text/plain": [
       "defined \u001b[32mfunction\u001b[39m \u001b[36mgenAndJar\u001b[39m\r\n",
       "\u001b[36mexampleName\u001b[39m: \u001b[32mString\u001b[39m = \u001b[32m\"Example2\"\u001b[39m"
      ]
     },
     "execution_count": 4,
     "metadata": {},
     "output_type": "execute_result"
    }
   ],
   "source": [
    "val exampleName = \"Example2\"\n",
    "genAndJar(exampleName)"
   ]
  },
  {
   "cell_type": "code",
   "execution_count": 5,
   "metadata": {},
   "outputs": [
    {
     "data": {
      "text/plain": [
       "\u001b[32mimport \u001b[39m\u001b[36m$cp.$             , com.spike.javacc._\r\n",
       "\u001b[39m"
      ]
     },
     "execution_count": 5,
     "metadata": {},
     "output_type": "execute_result"
    }
   ],
   "source": [
    "import $cp.`Example2.jar`, com.spike.javacc._"
   ]
  },
  {
   "cell_type": "code",
   "execution_count": 6,
   "metadata": {},
   "outputs": [
    {
     "data": {
      "text/plain": [
       "\u001b[36minput\u001b[39m: \u001b[32mStringReader\u001b[39m = java.io.StringReader@77610f04"
      ]
     },
     "execution_count": 6,
     "metadata": {},
     "output_type": "execute_result"
    }
   ],
   "source": [
    "// first call\n",
    "val input = new java.io.StringReader(kernel.stdin(\">> \")) // { }\n",
    "Example2.ReInit(input)\n",
    "Example2.Input()"
   ]
  },
  {
   "cell_type": "code",
   "execution_count": 1,
   "metadata": {},
   "outputs": [
    {
     "data": {
      "text/plain": [
       "\u001b[36mres1_1\u001b[39m: \u001b[32mIndexedSeq\u001b[39m[\u001b[32mBoolean\u001b[39m] = \u001b[33mArraySeq\u001b[39m(\u001b[32mtrue\u001b[39m)"
      ]
     },
     "execution_count": 1,
     "metadata": {},
     "output_type": "execute_result"
    }
   ],
   "source": [
    "// cleanup\n",
    "os.remove.all(os.pwd / \"gen\")\n",
    "// cleanup: after restart\n",
    "os.list(os.pwd).filter(_.toString.endsWith(\".jar\")).map(os.remove(_))"
   ]
  },
  {
   "cell_type": "markdown",
   "metadata": {},
   "source": [
    "### Example3.jj\n",
    "* `TOKEN` region\n",
    "* actions in the grammar productions"
   ]
  },
  {
   "cell_type": "code",
   "execution_count": 3,
   "metadata": {},
   "outputs": [
    {
     "name": "stdout",
     "output_type": "stream",
     "text": [
      "Java Compiler Compiler Version 7.0.13 (Parser Generator)\n",
      "(type \"javacc\" with no arguments for help)\n",
      "Reading from file Example3.jj . . .\n",
      "File \"TokenMgrError.java\" does not exist.  Will create one.\n",
      "File \"ParseException.java\" does not exist.  Will create one.\n",
      "File \"Token.java\" does not exist.  Will create one.\n",
      "File \"SimpleCharStream.java\" does not exist.  Will create one.\n",
      "Parser generated with 0 errors and 1 warnings.已添加清单\n",
      "正在添加: com/(输入 = 0) (输出 = 0)(存储了 0%)\n",
      "正在添加: com/spike/(输入 = 0) (输出 = 0)(存储了 0%)\n",
      "正在添加: com/spike/javacc/(输入 = 0) (输出 = 0)(存储了 0%)\n",
      "正在添加: com/spike/javacc/Example3.class(输入 = 5787) (输出 = 2960)(压缩了 48%)\n",
      "正在添加: com/spike/javacc/Example3.java(输入 = 6998) (输出 = 1682)(压缩了 75%)\n",
      "正在添加: com/spike/javacc/Example3Constants.class(输入 = 533) (输出 = 366)(压缩了 31%)\n",
      "正在添加: com/spike/javacc/Example3Constants.java(输入 = 616) (输出 = 326)(压缩了 47%)\n",
      "正在添加: com/spike/javacc/Example3TokenManager.class(输入 = 5163) (输出 = 2889)(压缩了 44%)\n",
      "正在添加: com/spike/javacc/Example3TokenManager.java(输入 = 6467) (输出 = 1959)(压缩了 69%)\n",
      "正在添加: com/spike/javacc/ParseException.class(输入 = 3356) (输出 = 1905)(压缩了 43%)\n",
      "正在添加: com/spike/javacc/ParseException.java(输入 = 6443) (输出 = 2050)(压缩了 68%)\n",
      "正在添加: com/spike/javacc/SimpleCharStream.class(输入 = 6943) (输出 = 3458)(压缩了 50%)\n",
      "正在添加: com/spike/javacc/SimpleCharStream.java(输入 = 12852) (输出 = 2620)(压缩了 79%)\n",
      "正在添加: com/spike/javacc/Token.class(输入 = 1053) (输出 = 572)(压缩了 45%)\n",
      "正在添加: com/spike/javacc/Token.java(输入 = 4229) (输出 = 1603)(压缩了 62%)\n",
      "正在添加: com/spike/javacc/TokenMgrError.class(输入 = 2871) (输出 = 1553)(压缩了 45%)\n",
      "正在添加: com/spike/javacc/TokenMgrError.java(输入 = 4743) (输出 = 1722)(压缩了 63%)"
     ]
    },
    {
     "data": {
      "text/plain": [
       "\u001b[36mexampleName\u001b[39m: \u001b[32mString\u001b[39m = \u001b[32m\"Example3\"\u001b[39m"
      ]
     },
     "execution_count": 3,
     "metadata": {},
     "output_type": "execute_result"
    }
   ],
   "source": [
    "val exampleName = \"Example3\"\n",
    "genAndJar(exampleName)"
   ]
  },
  {
   "cell_type": "code",
   "execution_count": 4,
   "metadata": {},
   "outputs": [
    {
     "data": {
      "text/plain": [
       "\u001b[32mimport \u001b[39m\u001b[36m$cp.$             , com.spike.javacc._\r\n",
       "\u001b[39m"
      ]
     },
     "execution_count": 4,
     "metadata": {},
     "output_type": "execute_result"
    }
   ],
   "source": [
    "import $cp.`Example3.jar`, com.spike.javacc._"
   ]
  },
  {
   "cell_type": "code",
   "execution_count": 5,
   "metadata": {},
   "outputs": [
    {
     "name": "stdout",
     "output_type": "stream",
     "text": [
      "The levels of nesting is 1\n"
     ]
    },
    {
     "data": {
      "text/plain": [
       "\u001b[36minput\u001b[39m: \u001b[32mStringReader\u001b[39m = java.io.StringReader@13df7b81"
      ]
     },
     "execution_count": 5,
     "metadata": {},
     "output_type": "execute_result"
    }
   ],
   "source": [
    "// first call\n",
    "val input = new java.io.StringReader(kernel.stdin(\">> \")) // { }\n",
    "Example3.ReInit(input)\n",
    "Example3.Input()"
   ]
  },
  {
   "cell_type": "code",
   "execution_count": 4,
   "metadata": {},
   "outputs": [
    {
     "data": {
      "text/plain": [
       "\u001b[36mres4_1\u001b[39m: \u001b[32mIndexedSeq\u001b[39m[\u001b[32mBoolean\u001b[39m] = \u001b[33mArraySeq\u001b[39m()"
      ]
     },
     "execution_count": 4,
     "metadata": {},
     "output_type": "execute_result"
    }
   ],
   "source": [
    "// cleanup\n",
    "os.remove.all(os.pwd / \"gen\")\n",
    "// cleanup: after restart\n",
    "os.list(os.pwd).filter(_.toString.endsWith(\".jar\")).map(os.remove(_))"
   ]
  },
  {
   "cell_type": "markdown",
   "metadata": {},
   "source": [
    "### NL_Xlator.jj\n",
    "* write regular expressions\n",
    "* a slightly complex set of actions"
   ]
  },
  {
   "cell_type": "markdown",
   "metadata": {},
   "source": [
    "### IdList.jj\n",
    "* `SKIP` specification"
   ]
  },
  {
   "cell_type": "markdown",
   "metadata": {},
   "source": [
    "## JJTree"
   ]
  },
  {
   "cell_type": "markdown",
   "metadata": {},
   "source": [
    "### Example1.jjt"
   ]
  },
  {
   "cell_type": "markdown",
   "metadata": {},
   "source": [
    "### Example2.jjt"
   ]
  },
  {
   "cell_type": "markdown",
   "metadata": {},
   "source": [
    "### Example3.jjt"
   ]
  },
  {
   "cell_type": "markdown",
   "metadata": {},
   "source": [
    "### Example4.jjt"
   ]
  }
 ],
 "metadata": {
  "kernelspec": {
   "display_name": "Scala",
   "language": "scala",
   "name": "scala"
  },
  "language_info": {
   "codemirror_mode": "text/x-scala",
   "file_extension": ".sc",
   "mimetype": "text/x-scala",
   "name": "scala",
   "nbconvert_exporter": "script",
   "version": "2.13.14"
  }
 },
 "nbformat": 4,
 "nbformat_minor": 2
}
