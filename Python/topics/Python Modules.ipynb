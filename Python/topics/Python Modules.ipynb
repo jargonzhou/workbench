{
 "cells": [
  {
   "cell_type": "markdown",
   "metadata": {},
   "source": [
    "# Python Modules\n",
    "* [The Python Tutorial - Modules](https://docs.python.org/3/tutorial/modules.html)\n",
    "* [Python Module Index](https://docs.python.org/3/py-modindex.html)"
   ]
  }
 ],
 "metadata": {
  "language_info": {
   "name": "python"
  }
 },
 "nbformat": 4,
 "nbformat_minor": 2
}
