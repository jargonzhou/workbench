{
 "cells": [
  {
   "cell_type": "markdown",
   "metadata": {},
   "source": [
    "# Regular Expression\n",
    "* https://docs.python.org/3/library/re.html"
   ]
  },
  {
   "cell_type": "markdown",
   "metadata": {},
   "source": [
    "# Example in 'Python for DevOps'"
   ]
  },
  {
   "cell_type": "markdown",
   "metadata": {},
   "source": [
    "## Search"
   ]
  },
  {
   "cell_type": "code",
   "execution_count": 1,
   "metadata": {},
   "outputs": [],
   "source": [
    "cc_list = '''Ezra Koenig <ekoenig@vpwk.com>,\n",
    "Rostam Batmanglij <rostam@vpwk.com>,\n",
    "Chris Tomson <ctomson@vpwk.com,\n",
    "Bobbi Baio <bbaio@vpwk.com'''"
   ]
  },
  {
   "cell_type": "code",
   "execution_count": 3,
   "metadata": {},
   "outputs": [
    {
     "data": {
      "text/plain": [
       "True"
      ]
     },
     "execution_count": 3,
     "metadata": {},
     "output_type": "execute_result"
    }
   ],
   "source": [
    "'Rostam' in cc_list"
   ]
  },
  {
   "cell_type": "code",
   "execution_count": 4,
   "metadata": {},
   "outputs": [
    {
     "data": {
      "text/plain": [
       "<re.Match object; span=(32, 38), match='Rostam'>"
      ]
     },
     "execution_count": 4,
     "metadata": {},
     "output_type": "execute_result"
    }
   ],
   "source": [
    "import re\n",
    "\n",
    "# found: return the first match found\n",
    "re.search(r'Rostam', cc_list)"
   ]
  },
  {
   "cell_type": "code",
   "execution_count": 8,
   "metadata": {},
   "outputs": [
    {
     "name": "stdout",
     "output_type": "stream",
     "text": [
      "None\n"
     ]
    }
   ],
   "source": [
    "# not found\n",
    "print(re.search(r'Rostam2', cc_list))"
   ]
  },
  {
   "cell_type": "markdown",
   "metadata": {},
   "source": [
    "## Character Sets, Character Classes"
   ]
  },
  {
   "cell_type": "code",
   "execution_count": 9,
   "metadata": {},
   "outputs": [
    {
     "data": {
      "text/plain": [
       "<re.Match object; span=(101, 106), match='Bobbi'>"
      ]
     },
     "execution_count": 9,
     "metadata": {},
     "output_type": "execute_result"
    }
   ],
   "source": [
    "re.search(r'[R,B]obb[i,y]', cc_list)"
   ]
  },
  {
   "cell_type": "code",
   "execution_count": 10,
   "metadata": {},
   "outputs": [
    {
     "data": {
      "text/plain": [
       "<re.Match object; span=(69, 74), match='Chris'>"
      ]
     },
     "execution_count": 10,
     "metadata": {},
     "output_type": "execute_result"
    }
   ],
   "source": [
    "# range\n",
    "re.search(r'Chr[a-z][a-z]', cc_list)"
   ]
  },
  {
   "cell_type": "code",
   "execution_count": 11,
   "metadata": {},
   "outputs": [
    {
     "name": "stdout",
     "output_type": "stream",
     "text": [
      "<re.Match object; span=(0, 4), match='Ezra'>\n",
      "<re.Match object; span=(5, 11), match='Koenig'>\n",
      "<re.Match object; span=(13, 29), match='ekoenig@vpwk.com'>\n"
     ]
    }
   ],
   "source": [
    "# +, {n}, \\\n",
    "print(re.search(r'[A-Za-z]+', cc_list))\n",
    "print(re.search(r'[A-Za-z]{6}', cc_list))\n",
    "print(re.search(r'[A-Za-z]+@[a-z]+\\.[a-z]+', cc_list))"
   ]
  },
  {
   "cell_type": "code",
   "execution_count": 12,
   "metadata": {},
   "outputs": [
    {
     "name": "stdout",
     "output_type": "stream",
     "text": [
      "<re.Match object; span=(0, 4), match='Ezra'>\n",
      "<re.Match object; span=(13, 29), match='ekoenig@vpwk.com'>\n"
     ]
    }
   ],
   "source": [
    "# character classes\n",
    "# \\w\n",
    "print(re.search(r'\\w+', cc_list))\n",
    "print(re.search(r'\\w+\\@\\w+\\.\\w+', cc_list))"
   ]
  },
  {
   "cell_type": "markdown",
   "metadata": {},
   "source": [
    "## Groups, Named Groupds"
   ]
  },
  {
   "cell_type": "code",
   "execution_count": 14,
   "metadata": {},
   "outputs": [
    {
     "data": {
      "text/plain": [
       "(<re.Match object; span=(13, 29), match='ekoenig@vpwk.com'>,\n",
       " 'ekoenig@vpwk.com',\n",
       " 'ekoenig',\n",
       " 'vpwk',\n",
       " 'com')"
      ]
     },
     "execution_count": 14,
     "metadata": {},
     "output_type": "execute_result"
    }
   ],
   "source": [
    "# group\n",
    "matched = re.search(r'(\\w+)\\@(\\w+)\\.(\\w+)', cc_list)\n",
    "matched, matched.group(0), matched.group(1), matched.group(2), matched.group(3)"
   ]
  },
  {
   "cell_type": "code",
   "execution_count": 15,
   "metadata": {},
   "outputs": [
    {
     "ename": "IndexError",
     "evalue": "no such group",
     "output_type": "error",
     "traceback": [
      "\u001b[1;31m---------------------------------------------------------------------------\u001b[0m",
      "\u001b[1;31mIndexError\u001b[0m                                Traceback (most recent call last)",
      "Cell \u001b[1;32mIn[15], line 1\u001b[0m\n\u001b[1;32m----> 1\u001b[0m \u001b[43mmatched\u001b[49m\u001b[38;5;241;43m.\u001b[39;49m\u001b[43mgroup\u001b[49m\u001b[43m(\u001b[49m\u001b[38;5;241;43m4\u001b[39;49m\u001b[43m)\u001b[49m\n",
      "\u001b[1;31mIndexError\u001b[0m: no such group"
     ]
    }
   ],
   "source": [
    "matched.group(4)"
   ]
  },
  {
   "cell_type": "code",
   "execution_count": 17,
   "metadata": {},
   "outputs": [
    {
     "data": {
      "text/plain": [
       "(<re.Match object; span=(13, 29), match='ekoenig@vpwk.com'>,\n",
       " 'ekoenig',\n",
       " 'vpwk',\n",
       " 'com')"
      ]
     },
     "execution_count": 17,
     "metadata": {},
     "output_type": "execute_result"
    }
   ],
   "source": [
    "# named group: ?P<NAME>\n",
    "# 引用命名的组: ?P<quote>\n",
    "#  在同一个模式中: (?P<quote>['\"]).*?(?P=quote), \\1\n",
    "#  处理匹配对象m时: m.group('quote'), m.end('quote'), ...\n",
    "#  re.sub()的替换字符串: \\g<quote>, \\g<1>, \\1\n",
    "matched = re.search(r'(?P<name>\\w+)\\@(?P<SLD>\\w+)\\.(?P<TLD>\\w+)', cc_list)\n",
    "matched, matched.group('name'), matched.group('SLD'), matched.group('TLD')"
   ]
  },
  {
   "cell_type": "code",
   "execution_count": 18,
   "metadata": {},
   "outputs": [
    {
     "ename": "IndexError",
     "evalue": "no such group",
     "output_type": "error",
     "traceback": [
      "\u001b[1;31m---------------------------------------------------------------------------\u001b[0m",
      "\u001b[1;31mIndexError\u001b[0m                                Traceback (most recent call last)",
      "Cell \u001b[1;32mIn[18], line 1\u001b[0m\n\u001b[1;32m----> 1\u001b[0m \u001b[43mmatched\u001b[49m\u001b[38;5;241;43m.\u001b[39;49m\u001b[43mgroup\u001b[49m\u001b[43m(\u001b[49m\u001b[38;5;124;43m'\u001b[39;49m\u001b[38;5;124;43mNONE\u001b[39;49m\u001b[38;5;124;43m'\u001b[39;49m\u001b[43m)\u001b[49m\n",
      "\u001b[1;31mIndexError\u001b[0m: no such group"
     ]
    }
   ],
   "source": [
    "matched.group('NONE')"
   ]
  },
  {
   "cell_type": "markdown",
   "metadata": {},
   "source": [
    "## Find All, Find Iterator"
   ]
  },
  {
   "cell_type": "code",
   "execution_count": 20,
   "metadata": {},
   "outputs": [
    {
     "data": {
      "text/plain": [
       "['ekoenig@vpwk.com', 'rostam@vpwk.com', 'ctomson@vpwk.com', 'bbaio@vpwk.com']"
      ]
     },
     "execution_count": 20,
     "metadata": {},
     "output_type": "execute_result"
    }
   ],
   "source": [
    "re.findall(r'\\w+\\@\\w+\\.\\w+', cc_list)"
   ]
  },
  {
   "cell_type": "code",
   "execution_count": 21,
   "metadata": {},
   "outputs": [
    {
     "data": {
      "text/plain": [
       "[('ekoenig', 'vpwk', 'com'),\n",
       " ('rostam', 'vpwk', 'com'),\n",
       " ('ctomson', 'vpwk', 'com'),\n",
       " ('bbaio', 'vpwk', 'com')]"
      ]
     },
     "execution_count": 21,
     "metadata": {},
     "output_type": "execute_result"
    }
   ],
   "source": [
    "# with group\n",
    "re.findall(r'(\\w+)\\@(\\w+)\\.(\\w+)', cc_list)"
   ]
  },
  {
   "cell_type": "code",
   "execution_count": 22,
   "metadata": {},
   "outputs": [
    {
     "data": {
      "text/plain": [
       "(<callable_iterator at 0x23f1f87a3e0>,\n",
       " <re.Match object; span=(13, 29), match='ekoenig@vpwk.com'>)"
      ]
     },
     "execution_count": 22,
     "metadata": {},
     "output_type": "execute_result"
    }
   ],
   "source": [
    "# return iterator\n",
    "matched = re.finditer(r'\\w+\\@\\w+\\.\\w+', cc_list)\n",
    "matched, next(matched)"
   ]
  },
  {
   "cell_type": "code",
   "execution_count": 28,
   "metadata": {},
   "outputs": [
    {
     "name": "stdout",
     "output_type": "stream",
     "text": [
      "\u001b[1;31mInit signature:\u001b[0m \u001b[0mre\u001b[0m\u001b[1;33m.\u001b[0m\u001b[0mMatch\u001b[0m\u001b[1;33m(\u001b[0m\u001b[1;33m)\u001b[0m\u001b[1;33m\u001b[0m\u001b[1;33m\u001b[0m\u001b[0m\n",
      "\u001b[1;31mDocstring:\u001b[0m     \n",
      "The result of re.match() and re.search().\n",
      "Match objects always have a boolean value of True.\n",
      "\u001b[1;31mFile:\u001b[0m           d:\\software\\miniconda3\\lib\\re\\__init__.py\n",
      "\u001b[1;31mType:\u001b[0m           type\n",
      "\u001b[1;31mSubclasses:\u001b[0m     "
     ]
    }
   ],
   "source": [
    "re.Match?"
   ]
  },
  {
   "cell_type": "code",
   "execution_count": 31,
   "metadata": {},
   "outputs": [
    {
     "name": "stdout",
     "output_type": "stream",
     "text": [
      "ekoenig@vpwk.com\n",
      "rostam@vpwk.com\n",
      "ctomson@vpwk.com\n",
      "bbaio@vpwk.com\n"
     ]
    }
   ],
   "source": [
    "matched = re.finditer(r'\\w+\\@\\w+\\.\\w+', cc_list)\n",
    "for m in matched:\n",
    "  print(m.group(0))"
   ]
  },
  {
   "cell_type": "code",
   "execution_count": 24,
   "metadata": {},
   "outputs": [
    {
     "name": "stdout",
     "output_type": "stream",
     "text": [
      "{'name': 'ekoenig', 'SLD': 'vpwk', 'TLD': 'com'}\n",
      "{'name': 'rostam', 'SLD': 'vpwk', 'TLD': 'com'}\n",
      "{'name': 'ctomson', 'SLD': 'vpwk', 'TLD': 'com'}\n",
      "{'name': 'bbaio', 'SLD': 'vpwk', 'TLD': 'com'}\n"
     ]
    }
   ],
   "source": [
    "matched = re.finditer(r\"(?P<name>\\w+)\\@(?P<SLD>\\w+)\\.(?P<TLD>\\w+)\", cc_list)\n",
    "for m in matched:\n",
    "    print(m.groupdict())"
   ]
  },
  {
   "cell_type": "markdown",
   "metadata": {},
   "source": [
    "## Substitution"
   ]
  },
  {
   "cell_type": "code",
   "execution_count": 33,
   "metadata": {},
   "outputs": [
    {
     "data": {
      "text/plain": [
       "'The passcode you entered was  #####'"
      ]
     },
     "execution_count": 33,
     "metadata": {},
     "output_type": "execute_result"
    }
   ],
   "source": [
    "# \\d to #\n",
    "re.sub(r\"\\d\", \"#\", \"The passcode you entered was  09876\")"
   ]
  },
  {
   "cell_type": "code",
   "execution_count": 35,
   "metadata": {},
   "outputs": [
    {
     "data": {
      "text/plain": [
       "'Ezra Koenig <com.vpwk.ekoenig>,\\nRostam Batmanglij <com.vpwk.rostam>,\\nChris Tomson <com.vpwk.ctomson,\\nBobbi Baio <com.vpwk.bbaio'"
      ]
     },
     "execution_count": 35,
     "metadata": {},
     "output_type": "execute_result"
    }
   ],
   "source": [
    "# 替换字符串中引用组\n",
    "re.sub(r\"(?P<name>\\w+)\\@(?P<SLD>\\w+)\\.(?P<TLD>\\w+)\",\n",
    "  r\"\\g<TLD>.\\g<SLD>.\\g<name>\", cc_list)"
   ]
  },
  {
   "cell_type": "markdown",
   "metadata": {},
   "source": [
    "## Compiling"
   ]
  },
  {
   "cell_type": "code",
   "execution_count": 36,
   "metadata": {},
   "outputs": [
    {
     "data": {
      "text/plain": [
       "(re.compile(r'\\w+\\@\\w+\\.\\w+', re.UNICODE),\n",
       " <re.Match object; span=(13, 29), match='ekoenig@vpwk.com'>)"
      ]
     },
     "execution_count": 36,
     "metadata": {},
     "output_type": "execute_result"
    }
   ],
   "source": [
    "# 编译\n",
    "regex = re.compile(r'\\w+\\@\\w+\\.\\w+')\n",
    "regex, regex.search(cc_list)"
   ]
  },
  {
   "cell_type": "markdown",
   "metadata": {},
   "source": [
    "# More\n",
    "TODO"
   ]
  }
 ],
 "metadata": {
  "kernelspec": {
   "display_name": "base",
   "language": "python",
   "name": "python3"
  },
  "language_info": {
   "codemirror_mode": {
    "name": "ipython",
    "version": 3
   },
   "file_extension": ".py",
   "mimetype": "text/x-python",
   "name": "python",
   "nbconvert_exporter": "python",
   "pygments_lexer": "ipython3",
   "version": "3.12.3"
  }
 },
 "nbformat": 4,
 "nbformat_minor": 2
}
