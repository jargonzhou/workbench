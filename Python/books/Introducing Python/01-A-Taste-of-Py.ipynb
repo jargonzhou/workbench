{
 "cells": [
  {
   "cell_type": "markdown",
   "metadata": {},
   "source": [
    "# Little Programs"
   ]
  },
  {
   "cell_type": "code",
   "execution_count": 1,
   "metadata": {},
   "outputs": [
    {
     "name": "stdout",
     "output_type": "stream",
     "text": [
      "5\n",
      "4\n",
      "3\n",
      "2\n",
      "1\n",
      "hey!\n"
     ]
    }
   ],
   "source": [
    "# countdown.py\n",
    "for countdown in 5, 4, 3, 2, 1, \"hey!\":\n",
    "    print(countdown)"
   ]
  },
  {
   "cell_type": "code",
   "execution_count": 2,
   "metadata": {},
   "outputs": [
    {
     "name": "stdout",
     "output_type": "stream",
     "text": [
      "Expecto Patronum!\n"
     ]
    }
   ],
   "source": [
    "# spells.py\n",
    "spells = [  # list\n",
    "    \"Riddikulus!\",\n",
    "    \"Wingardium Leviosa!\",\n",
    "    \"Avada Kedavra!\",\n",
    "    \"Expecto Patronum!\",\n",
    "    \"Nox!\",\n",
    "    \"Lumos!\",\n",
    "]\n",
    "print(spells[3])"
   ]
  },
  {
   "cell_type": "code",
   "execution_count": 3,
   "metadata": {},
   "outputs": [
    {
     "name": "stdout",
     "output_type": "stream",
     "text": [
      "Curly says: Nyuk nyuk!\n"
     ]
    }
   ],
   "source": [
    "# quotes.py\n",
    "quotes = {  # dictionary\n",
    "    \"Moe\": \"A wise guy, huh?\",\n",
    "    \"Larry\": \"Ow!\",\n",
    "    \"Curly\": \"Nyuk nyuk!\",\n",
    "}\n",
    "stooge = \"Curly\"\n",
    "print(stooge, \"says:\", quotes[stooge])"
   ]
  },
  {
   "cell_type": "markdown",
   "metadata": {},
   "source": [
    "# A Bigger Program"
   ]
  },
  {
   "cell_type": "code",
   "execution_count": 7,
   "metadata": {},
   "outputs": [
    {
     "name": "stdout",
     "output_type": "stream",
     "text": [
      "Let's find an old website.\n",
      "Found this copy:  http://web.archive.org/web/20151023052507/http://www.lolcats.com:80/\n",
      "It should appear in your browser now.\n"
     ]
    }
   ],
   "source": [
    "# archive.py\n",
    "import webbrowser\n",
    "import json\n",
    "from urllib.request import urlopen\n",
    "print(\"Let's find an old website.\")\n",
    "# USER INPUT\n",
    "# site = input(\"Type a website URL: \")\n",
    "# era = input(\"Type a year, month, and day, like 20150613: \")\n",
    "# SPECIFIC VALUE\n",
    "site = 'http://www.lolcats.com/'\n",
    "era = '20151022'\n",
    "url = \"http://archive.org/wayback/available?url=%s&timestamp=%s\" % (site, era)\n",
    "response = urlopen(url)\n",
    "contents = response.read()\n",
    "text = contents.decode(\"utf-8\")\n",
    "data = json.loads(text)\n",
    "try:\n",
    "    old_site = data[\"archived_snapshots\"][\"closest\"][\"url\"]\n",
    "    print(\"Found this copy: \", old_site)\n",
    "    print(\"It should appear in your browser now.\")\n",
    "    webbrowser.open(old_site)\n",
    "except:\n",
    "    print(\"Sorry, no luck finding\", site)"
   ]
  },
  {
   "cell_type": "code",
   "execution_count": 8,
   "metadata": {},
   "outputs": [
    {
     "name": "stdout",
     "output_type": "stream",
     "text": [
      "Let's find an old website.\n",
      "Found this copy:  http://web.archive.org/web/20151023052507/http://www.lolcats.com:80/\n",
      "It should appear in your browser now.\n"
     ]
    }
   ],
   "source": [
    "# archive2.py\n",
    "import webbrowser\n",
    "import requests\n",
    "print(\"Let's find an old website.\")\n",
    "# USER INPUT\n",
    "# site = input(\"Type a website URL: \")\n",
    "# era = input(\"Type a year, month, and day, like 20150613: \")\n",
    "# SPECIFIC VALUE\n",
    "site = 'http://www.lolcats.com/'\n",
    "era = '20151022'\n",
    "url = \"http://archive.org/wayback/available?url=%s&timestamp=%s\" % (site, era)\n",
    "response = requests.get(url)\n",
    "data = response.json()\n",
    "try:\n",
    "    old_site = data[\"archived_snapshots\"][\"closest\"][\"url\"]\n",
    "    print(\"Found this copy: \", old_site)\n",
    "    print(\"It should appear in your browser now.\")\n",
    "    webbrowser.open(old_site)\n",
    "except:\n",
    "    print(\"Sorry, no luck finding\", site)"
   ]
  },
  {
   "cell_type": "markdown",
   "metadata": {},
   "source": [
    "# Python Versus the Language from Planet X"
   ]
  },
  {
   "cell_type": "code",
   "execution_count": 9,
   "metadata": {},
   "outputs": [
    {
     "name": "stdout",
     "output_type": "stream",
     "text": [
      "Language 9: I am Python. What's for supper?\n"
     ]
    }
   ],
   "source": [
    "language = 9\n",
    "print(f\"Language {language}: I am Python. What's for supper?\")"
   ]
  },
  {
   "cell_type": "markdown",
   "metadata": {},
   "source": [
    "# Your Moment of Zen"
   ]
  },
  {
   "cell_type": "code",
   "execution_count": 11,
   "metadata": {},
   "outputs": [],
   "source": [
    "# Guido van Rossum is Dutch.\n",
    "import this"
   ]
  }
 ],
 "metadata": {
  "kernelspec": {
   "display_name": "Python 3",
   "language": "python",
   "name": "python3"
  },
  "language_info": {
   "codemirror_mode": {
    "name": "ipython",
    "version": 3
   },
   "file_extension": ".py",
   "mimetype": "text/x-python",
   "name": "python",
   "nbconvert_exporter": "python",
   "pygments_lexer": "ipython3",
   "version": "3.11.3"
  }
 },
 "nbformat": 4,
 "nbformat_minor": 2
}
