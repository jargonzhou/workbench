{
 "cells": [
  {
   "cell_type": "markdown",
   "metadata": {},
   "source": [
    "# Compiler"
   ]
  },
  {
   "cell_type": "code",
   "execution_count": 4,
   "metadata": {},
   "outputs": [
    {
     "name": "stdout",
     "output_type": "stream",
     "text": [
      "libprotoc 25.4\n"
     ]
    }
   ],
   "source": [
    "!protoc.exe --version"
   ]
  },
  {
   "cell_type": "code",
   "execution_count": 5,
   "metadata": {},
   "outputs": [
    {
     "name": "stdout",
     "output_type": "stream",
     "text": [
      "Usage: protoc [OPTION] PROTO_FILES\n",
      "Parse PROTO_FILES and generate output based on the options given:\n",
      "  -IPATH, --proto_path=PATH   Specify the directory in which to search for\n",
      "                              imports.  May be specified multiple times;\n",
      "                              directories will be searched in order.  If not\n",
      "                              given, the current working directory is used.\n",
      "                              If not found in any of the these directories,\n",
      "                              the --descriptor_set_in descriptors will be\n",
      "                              checked for required proto file.\n",
      "  --version                   Show version info and exit.\n",
      "  -h, --help                  Show this text and exit.\n",
      "  --encode=MESSAGE_TYPE       Read a text-format message of the given type\n",
      "                              from standard input and write it in binary\n",
      "                              to standard output.  The message type must\n",
      "                              be defined in PROTO_FILES or their imports.\n",
      "  --deterministic_output      When using --encode, ensure map fields are\n",
      "                              deterministically ordered. Note that this order\n",
      "                              is not canonical, and changes across builds or\n",
      "                              releases of protoc.\n",
      "  --decode=MESSAGE_TYPE       Read a binary message of the given type from\n",
      "                              standard input and write it in text format\n",
      "                              to standard output.  The message type must\n",
      "                              be defined in PROTO_FILES or their imports.\n",
      "  --decode_raw                Read an arbitrary protocol message from\n",
      "                              standard input and write the raw tag/value\n",
      "                              pairs in text format to standard output.  No\n",
      "                              PROTO_FILES should be given when using this\n",
      "                              flag.\n",
      "  --descriptor_set_in=FILES   Specifies a delimited list of FILES\n",
      "                              each containing a FileDescriptorSet (a\n",
      "                              protocol buffer defined in descriptor.proto).\n",
      "                              The FileDescriptor for each of the PROTO_FILES\n",
      "                              provided will be loaded from these\n",
      "                              FileDescriptorSets. If a FileDescriptor\n",
      "                              appears multiple times, the first occurrence\n",
      "                              will be used.\n",
      "  -oFILE,                     Writes a FileDescriptorSet (a protocol buffer,\n",
      "    --descriptor_set_out=FILE defined in descriptor.proto) containing all of\n",
      "                              the input files to FILE.\n",
      "  --include_imports           When using --descriptor_set_out, also include\n",
      "                              all dependencies of the input files in the\n",
      "                              set, so that the set is self-contained.\n",
      "  --include_source_info       When using --descriptor_set_out, do not strip\n",
      "                              SourceCodeInfo from the FileDescriptorProto.\n",
      "                              This results in vastly larger descriptors that\n",
      "                              include information about the original\n",
      "                              location of each decl in the source file as\n",
      "                              well as surrounding comments.\n",
      "  --retain_options            When using --descriptor_set_out, do not strip\n",
      "                              any options from the FileDescriptorProto.\n",
      "                              This results in potentially larger descriptors\n",
      "                              that include information about options that were\n",
      "                              only meant to be useful during compilation.\n",
      "  --dependency_out=FILE       Write a dependency output file in the format\n",
      "                              expected by make. This writes the transitive\n",
      "                              set of input file paths to FILE\n",
      "  --error_format=FORMAT       Set the format in which to print errors.\n",
      "                              FORMAT may be 'gcc' (the default) or 'msvs'\n",
      "                              (Microsoft Visual Studio format).\n",
      "  --fatal_warnings            Make warnings be fatal (similar to -Werr in\n",
      "                              gcc). This flag will make protoc return\n",
      "                              with a non-zero exit code if any warnings\n",
      "                              are generated.\n",
      "  --print_free_field_numbers  Print the free field numbers of the messages\n",
      "                              defined in the given proto files. Extension ranges\n",
      "                              are counted as occupied fields numbers.\n",
      "  --enable_codegen_trace      Enables tracing which parts of protoc are\n",
      "                              responsible for what codegen output. Not supported\n",
      "                              by all backends or on all platforms.\n",
      "  --plugin=EXECUTABLE         Specifies a plugin executable to use.\n",
      "                              Normally, protoc searches the PATH for\n",
      "                              plugins, but you may specify additional\n",
      "                              executables not in the path using this flag.\n",
      "                              Additionally, EXECUTABLE may be of the form\n",
      "                              NAME=PATH, in which case the given plugin name\n",
      "                              is mapped to the given executable even if\n",
      "                              the executable's own name differs.\n",
      "  --cpp_out=OUT_DIR           Generate C++ header and source.\n",
      "  --csharp_out=OUT_DIR        Generate C# source file.\n",
      "  --java_out=OUT_DIR          Generate Java source file.\n",
      "  --kotlin_out=OUT_DIR        Generate Kotlin file.\n",
      "  --objc_out=OUT_DIR          Generate Objective-C header and source.\n",
      "  --php_out=OUT_DIR           Generate PHP source file.\n",
      "  --pyi_out=OUT_DIR           Generate python pyi stub.\n",
      "  --python_out=OUT_DIR        Generate Python source file.\n",
      "  --ruby_out=OUT_DIR          Generate Ruby source file.\n",
      "  --rust_out=OUT_DIR          Generate Rust sources.\n",
      "  @<filename>                 Read options and filenames from file. If a\n",
      "                              relative file path is specified, the file\n",
      "                              will be searched in the working directory.\n",
      "                              The --proto_path option will not affect how\n",
      "                              this argument file is searched. Content of\n",
      "                              the file will be expanded in the position of\n",
      "                              @<filename> as in the argument list. Note\n",
      "                              that shell expansion is not applied to the\n",
      "                              content of the file (i.e., you cannot use\n",
      "                              quotes, wildcards, escapes, commands, etc.).\n",
      "                              Each line corresponds to a single argument,\n",
      "                              even if it contains spaces.\n"
     ]
    }
   ],
   "source": [
    "!protoc --help"
   ]
  },
  {
   "cell_type": "markdown",
   "metadata": {},
   "source": [
    "# Protocol Buffer Basics: Python\n",
    "- https://protobuf.dev/getting-started/pythontutorial/"
   ]
  },
  {
   "cell_type": "code",
   "execution_count": 2,
   "metadata": {},
   "outputs": [
    {
     "name": "stdout",
     "output_type": "stream",
     "text": [
      "Collecting protobuf\n",
      "  Using cached protobuf-5.29.1-cp38-abi3-macosx_10_9_universal2.whl.metadata (592 bytes)\n",
      "Using cached protobuf-5.29.1-cp38-abi3-macosx_10_9_universal2.whl (417 kB)\n",
      "Installing collected packages: protobuf\n",
      "Successfully installed protobuf-5.29.1\n"
     ]
    }
   ],
   "source": [
    "!pip install protobuf"
   ]
  },
  {
   "cell_type": "code",
   "execution_count": 3,
   "metadata": {},
   "outputs": [
    {
     "name": "stdout",
     "output_type": "stream",
     "text": [
      "Found existing installation: protobuf 5.29.1\n",
      "Uninstalling protobuf-5.29.1:\n",
      "  Successfully uninstalled protobuf-5.29.1\n"
     ]
    }
   ],
   "source": [
    "# cleanup\n",
    "!pip uninstall protobuf -y"
   ]
  },
  {
   "cell_type": "code",
   "execution_count": 4,
   "metadata": {},
   "outputs": [],
   "source": [
    "!protoc --proto_path=D:\\GoogleDrive\\code\\jupyter-notebooks\\Python\\network\\pb --python_out=pb_gen D:\\GoogleDrive\\code\\jupyter-notebooks\\Python\\network\\pb\\addressbook.proto"
   ]
  },
  {
   "cell_type": "code",
   "execution_count": 6,
   "metadata": {},
   "outputs": [
    {
     "data": {
      "text/plain": [
       "name: \"John Doe\"\n",
       "id: 1234\n",
       "email: \"jdoe@example.com\"\n",
       "phones {\n",
       "  number: \"555-4321\"\n",
       "  type: PHONE_TYPE_HOME\n",
       "}"
      ]
     },
     "execution_count": 6,
     "metadata": {},
     "output_type": "execute_result"
    }
   ],
   "source": [
    "from pb_gen import addressbook_pb2\n",
    "person = addressbook_pb2.Person()\n",
    "person.id = 1234\n",
    "person.name = \"John Doe\"\n",
    "person.email = \"jdoe@example.com\"\n",
    "phone = person.phones.add()\n",
    "phone.number = \"555-4321\"\n",
    "phone.type = addressbook_pb2.Person.PHONE_TYPE_HOME\n",
    "\n",
    "person"
   ]
  },
  {
   "cell_type": "code",
   "execution_count": null,
   "metadata": {},
   "outputs": [
    {
     "ename": "AttributeError",
     "evalue": "Protocol message Person has no \"no_such_field\" field.",
     "output_type": "error",
     "traceback": [
      "\u001b[1;31m---------------------------------------------------------------------------\u001b[0m",
      "\u001b[1;31mAttributeError\u001b[0m                            Traceback (most recent call last)",
      "Cell \u001b[1;32mIn[7], line 1\u001b[0m\n\u001b[1;32m----> 1\u001b[0m \u001b[43mperson\u001b[49m\u001b[38;5;241;43m.\u001b[39;49m\u001b[43mno_such_field\u001b[49m \u001b[38;5;241m=\u001b[39m \u001b[38;5;241m1\u001b[39m  \u001b[38;5;66;03m# raises AttributeError\u001b[39;00m\n\u001b[0;32m      2\u001b[0m person\u001b[38;5;241m.\u001b[39mid \u001b[38;5;241m=\u001b[39m \u001b[38;5;124m\"\u001b[39m\u001b[38;5;124m1234\u001b[39m\u001b[38;5;124m\"\u001b[39m        \u001b[38;5;66;03m# raises TypeError\u001b[39;00m\n",
      "\u001b[1;31mAttributeError\u001b[0m: Protocol message Person has no \"no_such_field\" field."
     ]
    }
   ],
   "source": [
    "# person.no_such_field = 1  # raises AttributeError\n",
    "# person.id = \"1234\"        # raises TypeError"
   ]
  },
  {
   "cell_type": "markdown",
   "metadata": {},
   "source": [
    "# Write a Message"
   ]
  },
  {
   "cell_type": "code",
   "execution_count": 9,
   "metadata": {},
   "outputs": [
    {
     "data": {
      "text/plain": [
       "people {\n",
       "  name: \"John Doe\"\n",
       "  id: 1234\n",
       "  email: \"jdoe@example.com\"\n",
       "  phones {\n",
       "    number: \"555-4321\"\n",
       "    type: PHONE_TYPE_HOME\n",
       "  }\n",
       "}"
      ]
     },
     "execution_count": 9,
     "metadata": {},
     "output_type": "execute_result"
    }
   ],
   "source": [
    "address_book = addressbook_pb2.AddressBook()\n",
    "\n",
    "person = address_book.people.add()\n",
    "person.id = 1234\n",
    "person.name = \"John Doe\"\n",
    "person.email = \"jdoe@example.com\"\n",
    "phone = person.phones.add()\n",
    "phone.number = \"555-4321\"\n",
    "phone.type = addressbook_pb2.Person.PHONE_TYPE_HOME\n",
    "\n",
    "address_book"
   ]
  },
  {
   "cell_type": "code",
   "execution_count": 10,
   "metadata": {},
   "outputs": [
    {
     "data": {
      "text/plain": [
       "b'\\n-\\n\\x08John Doe\\x10\\xd2\\t\\x1a\\x10jdoe@example.com\"\\x0c\\n\\x08555-4321\\x10\\x02'"
      ]
     },
     "execution_count": 10,
     "metadata": {},
     "output_type": "execute_result"
    }
   ],
   "source": [
    "address_book.SerializeToString()"
   ]
  },
  {
   "cell_type": "markdown",
   "metadata": {},
   "source": [
    "# Reading a Message"
   ]
  },
  {
   "cell_type": "code",
   "execution_count": 14,
   "metadata": {},
   "outputs": [
    {
     "data": {
      "text/plain": [
       "people {\n",
       "  name: \"John Doe\"\n",
       "  id: 1234\n",
       "  email: \"jdoe@example.com\"\n",
       "  phones {\n",
       "    number: \"555-4321\"\n",
       "    type: PHONE_TYPE_HOME\n",
       "  }\n",
       "}"
      ]
     },
     "execution_count": 14,
     "metadata": {},
     "output_type": "execute_result"
    }
   ],
   "source": [
    "address_book_2 = addressbook_pb2.AddressBook()\n",
    "address_book_2.ParseFromString(address_book.SerializeToString())\n",
    "\n",
    "address_book_2"
   ]
  }
 ],
 "metadata": {
  "kernelspec": {
   "display_name": "base",
   "language": "python",
   "name": "python3"
  },
  "language_info": {
   "codemirror_mode": {
    "name": "ipython",
    "version": 3
   },
   "file_extension": ".py",
   "mimetype": "text/x-python",
   "name": "python",
   "nbconvert_exporter": "python",
   "pygments_lexer": "ipython3",
   "version": "3.12.3"
  }
 },
 "nbformat": 4,
 "nbformat_minor": 2
}
