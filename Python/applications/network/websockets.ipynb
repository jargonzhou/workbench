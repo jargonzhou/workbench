{
 "cells": [
  {
   "cell_type": "markdown",
   "metadata": {},
   "source": [
    "# websockets\n",
    "- https://github.com/python-websockets/websockets"
   ]
  },
  {
   "cell_type": "code",
   "execution_count": 1,
   "metadata": {},
   "outputs": [
    {
     "name": "stdout",
     "output_type": "stream",
     "text": [
      "Collecting websockets\n",
      "  Downloading websockets-14.1-cp311-cp311-macosx_10_9_x86_64.whl.metadata (6.7 kB)\n",
      "Downloading websockets-14.1-cp311-cp311-macosx_10_9_x86_64.whl (159 kB)\n",
      "Installing collected packages: websockets\n",
      "Successfully installed websockets-14.1\n"
     ]
    }
   ],
   "source": [
    "!pip install websockets"
   ]
  },
  {
   "cell_type": "code",
   "execution_count": 2,
   "metadata": {},
   "outputs": [
    {
     "name": "stdout",
     "output_type": "stream",
     "text": [
      "Found existing installation: websockets 14.1\n",
      "Uninstalling websockets-14.1:\n",
      "  Successfully uninstalled websockets-14.1\n"
     ]
    }
   ],
   "source": [
    "# cleanup\n",
    "!pip uninstall websockets -y"
   ]
  },
  {
   "cell_type": "markdown",
   "metadata": {},
   "source": [
    "# Server"
   ]
  },
  {
   "cell_type": "code",
   "execution_count": 5,
   "metadata": {},
   "outputs": [
    {
     "name": "stdout",
     "output_type": "stream",
     "text": [
      "import asyncio\n",
      "from websockets.server import serve\n",
      "\n",
      "async def echo(websocket):\n",
      "    async for message in websocket:\n",
      "        await websocket.send(message)\n",
      "\n",
      "async def main():\n",
      "    async with serve(echo, \"localhost\", 18765):\n",
      "        await asyncio.get_running_loop().create_future()  # run forever\n",
      "\n",
      "if __name__ == '__main__':\n",
      "    asyncio.run(main())\n"
     ]
    }
   ],
   "source": [
    "#\n",
    "# Windows\n",
    "#\n",
    "!type ws\\server.py"
   ]
  },
  {
   "cell_type": "code",
   "execution_count": 2,
   "metadata": {},
   "outputs": [],
   "source": [
    "#\n",
    "# Windows\n",
    "#\n",
    "# > netstat -ano | findstr \"8765\"\n",
    "#   TCP    0.0.0.0:8765           0.0.0.0:0              LISTENING       14524\n",
    "#   TCP    127.0.0.1:18765        0.0.0.0:0              LISTENING       27416\n",
    "#   TCP    [::1]:18765            [::]:0                 LISTENING       27416\n",
    "# > TASKKILL /F /PID 14524\n",
    "# SUCCESS: The process with PID 14524 has been terminated.\n",
    "# > TASKKILL /F /PID 27416\n",
    "# SUCCESS: The process with PID 27416 has been terminated.\n",
    "!START /B python ws/server.py"
   ]
  },
  {
   "cell_type": "markdown",
   "metadata": {},
   "source": [
    "# Client"
   ]
  },
  {
   "cell_type": "code",
   "execution_count": 3,
   "metadata": {},
   "outputs": [
    {
     "name": "stdout",
     "output_type": "stream",
     "text": [
      "Received: Hello world!\n"
     ]
    }
   ],
   "source": [
    "from websockets.sync.client import connect\n",
    "\n",
    "def hello():\n",
    "    with connect(\"ws://localhost:18765\") as websocket:\n",
    "        websocket.send(\"Hello world!\")\n",
    "        message = websocket.recv()\n",
    "        print(f\"Received: {message}\")\n",
    "\n",
    "hello()"
   ]
  }
 ],
 "metadata": {
  "kernelspec": {
   "display_name": "Python 3",
   "language": "python",
   "name": "python3"
  },
  "language_info": {
   "codemirror_mode": {
    "name": "ipython",
    "version": 3
   },
   "file_extension": ".py",
   "mimetype": "text/x-python",
   "name": "python",
   "nbconvert_exporter": "python",
   "pygments_lexer": "ipython3",
   "version": "3.11.3"
  }
 },
 "nbformat": 4,
 "nbformat_minor": 2
}
