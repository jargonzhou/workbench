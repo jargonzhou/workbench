{
 "cells": [
  {
   "cell_type": "markdown",
   "metadata": {},
   "source": [
    "# WSGI\n",
    "* https://wsgi.readthedocs.io/en/latest/index.html\n",
    "\n",
    "WSGI is the **Web Server Gateway Interface**. It is a specification that describes how a web server communicates with web applications, and how web applications can be chained together to process one request.\n",
    "\n",
    "WSGI is a Python standard described in detail in PEP 3333."
   ]
  },
  {
   "cell_type": "markdown",
   "metadata": {},
   "source": [
    "# Server"
   ]
  },
  {
   "cell_type": "code",
   "execution_count": 2,
   "metadata": {},
   "outputs": [
    {
     "name": "stdout",
     "output_type": "stream",
     "text": [
      "Serving on port 8000...\n",
      "Bye.\n"
     ]
    }
   ],
   "source": [
    "from wsgiref.util import setup_testing_defaults\n",
    "from wsgiref.simple_server import make_server\n",
    "\n",
    "# A relatively simple WSGI application. It's going to print out the\n",
    "# environment dictionary after being updated by setup_testing_defaults\n",
    "def simple_app(environ, start_response):\n",
    "    setup_testing_defaults(environ)\n",
    "\n",
    "    status = '200 OK'\n",
    "    headers = [('Content-type', 'text/plain; charset=utf-8')]\n",
    "\n",
    "    start_response(status, headers)\n",
    "\n",
    "    ret = [(\"%s: %s\\n\" % (key, value)).encode(\"utf-8\")\n",
    "           for key, value in environ.items()]\n",
    "    return ret\n",
    "\n",
    "try:\n",
    "    with make_server('', 8000, simple_app) as httpd:\n",
    "        print(\"Serving on port 8000...\")\n",
    "        httpd.serve_forever()\n",
    "except KeyboardInterrupt:\n",
    "    print(\"Bye.\")\n"
   ]
  }
 ],
 "metadata": {
  "kernelspec": {
   "display_name": "Python 3",
   "language": "python",
   "name": "python3"
  },
  "language_info": {
   "codemirror_mode": {
    "name": "ipython",
    "version": 3
   },
   "file_extension": ".py",
   "mimetype": "text/x-python",
   "name": "python",
   "nbconvert_exporter": "python",
   "pygments_lexer": "ipython3",
   "version": "3.11.3"
  }
 },
 "nbformat": 4,
 "nbformat_minor": 2
}
