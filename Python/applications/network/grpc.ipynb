{
 "cells": [
  {
   "cell_type": "markdown",
   "metadata": {},
   "source": [
    "# gRPC\n",
    "* https://grpc.io/docs/languages/python/"
   ]
  },
  {
   "cell_type": "code",
   "execution_count": 4,
   "metadata": {},
   "outputs": [
    {
     "name": "stdout",
     "output_type": "stream",
     "text": [
      "Requirement already satisfied: grpcio in /usr/local/lib/python3.11/site-packages (1.68.1)\n",
      "Requirement already satisfied: grpcio-tools in /usr/local/lib/python3.11/site-packages (1.68.1)\n",
      "Requirement already satisfied: protobuf<6.0dev,>=5.26.1 in /usr/local/lib/python3.11/site-packages (from grpcio-tools) (5.29.1)\n",
      "Requirement already satisfied: grpcio>=1.68.1 in /usr/local/lib/python3.11/site-packages (from grpcio-tools) (1.68.1)\n",
      "Requirement already satisfied: setuptools in /usr/local/lib/python3.11/site-packages (from grpcio-tools) (67.6.1)\n"
     ]
    }
   ],
   "source": [
    "!pip install grpcio\n",
    "\n",
    "# Python’s gRPC tools include the protocol buffer compiler protoc and the special plugin for generating server and client code from .proto service definitions.\n",
    "!pip install grpcio-tools"
   ]
  },
  {
   "cell_type": "code",
   "execution_count": 1,
   "metadata": {},
   "outputs": [
    {
     "name": "stdout",
     "output_type": "stream",
     "text": [
      "Found existing installation: grpcio 1.68.1\n",
      "Uninstalling grpcio-1.68.1:\n",
      "  Successfully uninstalled grpcio-1.68.1\n",
      "Found existing installation: grpcio-tools 1.68.1\n",
      "Uninstalling grpcio-tools-1.68.1:\n",
      "  Successfully uninstalled grpcio-tools-1.68.1\n"
     ]
    }
   ],
   "source": [
    "# cleanup\n",
    "!pip uninstall grpcio -y\n",
    "!pip uninstall grpcio-tools -y"
   ]
  },
  {
   "cell_type": "markdown",
   "metadata": {},
   "source": [
    "# Generate Code"
   ]
  },
  {
   "cell_type": "code",
   "execution_count": 7,
   "metadata": {},
   "outputs": [],
   "source": [
    "!python3 -m grpc_tools.protoc -I./grpc --python_out=grpc_gen --pyi_out=grpc_gen --grpc_python_out=grpc_gen ./grpc/helloworld.proto"
   ]
  },
  {
   "cell_type": "markdown",
   "metadata": {},
   "source": [
    "Update in `helloworld_pb2_grpc.py`:\n",
    "\n",
    "```python\n",
    "# import helloworld_pb2 as helloworld__pb2\n",
    "from . import helloworld_pb2 as helloworld__pb2\n",
    "```"
   ]
  },
  {
   "cell_type": "markdown",
   "metadata": {},
   "source": [
    "# Server"
   ]
  },
  {
   "cell_type": "code",
   "execution_count": null,
   "metadata": {},
   "outputs": [
    {
     "name": "stdout",
     "output_type": "stream",
     "text": [
      "Server started, listening on 50051\n",
      "Bye.\n"
     ]
    }
   ],
   "source": [
    "from concurrent import futures\n",
    "import logging\n",
    "\n",
    "import grpc\n",
    "from grpc_gen import helloworld_pb2\n",
    "from grpc_gen import helloworld_pb2_grpc\n",
    "\n",
    "\n",
    "class Greeter(helloworld_pb2_grpc.GreeterServicer):\n",
    "    def SayHello(self, request, context):\n",
    "        return helloworld_pb2.HelloReply(message=\"Hello, %s!\" % request.name)\n",
    "\n",
    "t_DONE = False\n",
    "\n",
    "def serve():\n",
    "    port = \"50051\"\n",
    "    server = grpc.server(futures.ThreadPoolExecutor(max_workers=10))\n",
    "    helloworld_pb2_grpc.add_GreeterServicer_to_server(Greeter(), server)\n",
    "    server.add_insecure_port(\"[::]:\" + port)\n",
    "    server.start()\n",
    "    print(\"Server started, listening on \" + port)\n",
    "    while not t_DONE:\n",
    "        server.wait_for_termination(1) # 1 second\n",
    "    server.stop(1)\n",
    "    print(\"Bye.\")\n",
    "\n",
    "# if __name__ == \"__main__\":\n",
    "#     logging.basicConfig()\n",
    "#     serve()\n",
    "\n",
    "import threading\n",
    "t = threading.Thread(target=serve)\n",
    "t.start()"
   ]
  },
  {
   "cell_type": "code",
   "execution_count": 3,
   "metadata": {},
   "outputs": [],
   "source": [
    "t_DONE = True"
   ]
  },
  {
   "cell_type": "markdown",
   "metadata": {},
   "source": [
    "# Client"
   ]
  },
  {
   "cell_type": "code",
   "execution_count": 2,
   "metadata": {},
   "outputs": [
    {
     "name": "stdout",
     "output_type": "stream",
     "text": [
      "Will try to greet world ...\n",
      "Greeter client received: Hello, you!\n"
     ]
    }
   ],
   "source": [
    "from __future__ import print_function\n",
    "\n",
    "import logging\n",
    "\n",
    "import grpc\n",
    "from grpc_gen import helloworld_pb2\n",
    "from grpc_gen import helloworld_pb2_grpc\n",
    "\n",
    "\n",
    "def run():\n",
    "    # NOTE(gRPC Python Team): .close() is possible on a channel and should be\n",
    "    # used in circumstances in which the with statement does not fit the needs\n",
    "    # of the code.\n",
    "    print(\"Will try to greet world ...\")\n",
    "    with grpc.insecure_channel(\"localhost:50051\") as channel:\n",
    "        stub = helloworld_pb2_grpc.GreeterStub(channel)\n",
    "        response = stub.SayHello(helloworld_pb2.HelloRequest(name=\"you\"))\n",
    "    print(\"Greeter client received: \" + response.message)\n",
    "\n",
    "\n",
    "logging.basicConfig()\n",
    "run()"
   ]
  }
 ],
 "metadata": {
  "kernelspec": {
   "display_name": "Python 3",
   "language": "python",
   "name": "python3"
  },
  "language_info": {
   "codemirror_mode": {
    "name": "ipython",
    "version": 3
   },
   "file_extension": ".py",
   "mimetype": "text/x-python",
   "name": "python",
   "nbconvert_exporter": "python",
   "pygments_lexer": "ipython3",
   "version": "3.11.3"
  }
 },
 "nbformat": 4,
 "nbformat_minor": 2
}
