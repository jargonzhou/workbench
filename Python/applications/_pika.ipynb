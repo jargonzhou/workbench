{
 "cells": [
  {
   "cell_type": "markdown",
   "metadata": {},
   "source": [
    "# Pika\n",
    "* https://pika.readthedocs.io/en/stable/\n",
    "* [RabbitMQ Tutorials](https://www.rabbitmq.com/tutorials)\n",
    "\n",
    "Pika is a pure-Python implementation of the AMQP 0-9-1 protocol that tries to stay fairly independent of the underlying network support library."
   ]
  },
  {
   "cell_type": "code",
   "execution_count": 1,
   "metadata": {},
   "outputs": [
    {
     "name": "stdout",
     "output_type": "stream",
     "text": [
      "Requirement already satisfied: pika in /usr/local/lib/python3.11/site-packages (1.3.2)\n"
     ]
    }
   ],
   "source": [
    "!pip install pika"
   ]
  },
  {
   "cell_type": "code",
   "execution_count": 6,
   "metadata": {},
   "outputs": [
    {
     "name": "stdout",
     "output_type": "stream",
     "text": [
      "Found existing installation: pika 1.3.2\n",
      "Uninstalling pika-1.3.2:\n",
      "  Successfully uninstalled pika-1.3.2\n"
     ]
    }
   ],
   "source": [
    "# cleanup\n",
    "!pip uninstall pika -y"
   ]
  },
  {
   "cell_type": "code",
   "execution_count": 2,
   "metadata": {},
   "outputs": [
    {
     "data": {
      "text/plain": [
       "'1.3.2'"
      ]
     },
     "execution_count": 2,
     "metadata": {},
     "output_type": "execute_result"
    }
   ],
   "source": [
    "import pika\n",
    "pika.__version__"
   ]
  },
  {
   "cell_type": "markdown",
   "metadata": {},
   "source": [
    "# Hello world!"
   ]
  },
  {
   "cell_type": "markdown",
   "metadata": {},
   "source": [
    "## Sending"
   ]
  },
  {
   "cell_type": "code",
   "execution_count": 3,
   "metadata": {},
   "outputs": [
    {
     "name": "stdout",
     "output_type": "stream",
     "text": [
      " [x] Sent 'Hello World!'\n"
     ]
    }
   ],
   "source": [
    "with pika.BlockingConnection(pika.ConnectionParameters(\n",
    "    host='192.168.0.100',\n",
    "    port=5672,\n",
    "    credentials=pika.PlainCredentials(username='devops',\n",
    "                                      password='devops+rabbitmq'))) as connection:\n",
    "    channel = connection.channel()\n",
    "\n",
    "    channel.queue_declare(queue='hello')\n",
    "\n",
    "    channel.basic_publish(exchange='',\n",
    "                          routing_key='hello',\n",
    "                          body='Hello World!')\n",
    "    print(\" [x] Sent 'Hello World!'\")"
   ]
  },
  {
   "cell_type": "markdown",
   "metadata": {},
   "source": [
    "## Receiving"
   ]
  },
  {
   "cell_type": "code",
   "execution_count": 4,
   "metadata": {},
   "outputs": [
    {
     "name": "stdout",
     "output_type": "stream",
     "text": [
      " [*] Waiting for messages. To exit press CTRL+C\n",
      " [x] Received b'Hello World!'\n",
      "Bye.\n"
     ]
    }
   ],
   "source": [
    "def callback(ch, method, properties, body):\n",
    "    print(f\" [x] Received {body}\")\n",
    "\n",
    "\n",
    "try:\n",
    "    with pika.BlockingConnection(pika.ConnectionParameters(\n",
    "        host='192.168.0.100',\n",
    "        port=5672,\n",
    "        credentials=pika.PlainCredentials(username='devops',\n",
    "                                          password='devops+rabbitmq'))) as connection:\n",
    "        channel = connection.channel()\n",
    "        channel.queue_declare(queue='hello')\n",
    "\n",
    "        channel.basic_consume(\n",
    "            queue='hello', on_message_callback=callback, auto_ack=True)\n",
    "        print(' [*] Waiting for messages. To exit press CTRL+C')\n",
    "        channel.start_consuming()\n",
    "except KeyboardInterrupt:\n",
    "    print(\"Bye.\")"
   ]
  }
 ],
 "metadata": {
  "kernelspec": {
   "display_name": "Python 3",
   "language": "python",
   "name": "python3"
  },
  "language_info": {
   "codemirror_mode": {
    "name": "ipython",
    "version": 3
   },
   "file_extension": ".py",
   "mimetype": "text/x-python",
   "name": "python",
   "nbconvert_exporter": "python",
   "pygments_lexer": "ipython3",
   "version": "3.11.3"
  }
 },
 "nbformat": 4,
 "nbformat_minor": 2
}
