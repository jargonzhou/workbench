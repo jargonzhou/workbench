{
 "cells": [
  {
   "cell_type": "markdown",
   "metadata": {},
   "source": [
    "# Flask\n",
    "* https://flask.palletsprojects.com/en/stable/"
   ]
  },
  {
   "cell_type": "code",
   "execution_count": 1,
   "metadata": {},
   "outputs": [
    {
     "name": "stdout",
     "output_type": "stream",
     "text": [
      "Requirement already satisfied: Flask in d:\\software\\miniconda3\\lib\\site-packages (3.1.0)\n",
      "Requirement already satisfied: Werkzeug>=3.1 in d:\\software\\miniconda3\\lib\\site-packages (from Flask) (3.1.3)\n",
      "Requirement already satisfied: Jinja2>=3.1.2 in d:\\software\\miniconda3\\lib\\site-packages (from Flask) (3.1.4)\n",
      "Requirement already satisfied: itsdangerous>=2.2 in d:\\software\\miniconda3\\lib\\site-packages (from Flask) (2.2.0)\n",
      "Requirement already satisfied: click>=8.1.3 in d:\\software\\miniconda3\\lib\\site-packages (from Flask) (8.1.7)\n",
      "Requirement already satisfied: blinker>=1.9 in d:\\software\\miniconda3\\lib\\site-packages (from Flask) (1.9.0)\n",
      "Requirement already satisfied: colorama in d:\\software\\miniconda3\\lib\\site-packages (from click>=8.1.3->Flask) (0.4.6)\n",
      "Requirement already satisfied: MarkupSafe>=2.0 in d:\\software\\miniconda3\\lib\\site-packages (from Jinja2>=3.1.2->Flask) (3.0.2)\n"
     ]
    }
   ],
   "source": [
    "!pip install Flask"
   ]
  },
  {
   "cell_type": "code",
   "execution_count": null,
   "metadata": {},
   "outputs": [],
   "source": [
    "# cleanup\n",
    "!pip uninstall Flask -y"
   ]
  },
  {
   "cell_type": "markdown",
   "metadata": {},
   "source": [
    "# Quickstart"
   ]
  },
  {
   "cell_type": "code",
   "execution_count": 1,
   "metadata": {},
   "outputs": [
    {
     "name": "stdout",
     "output_type": "stream",
     "text": [
      " * Serving Flask app '__main__'\n",
      " * Debug mode: off\n"
     ]
    },
    {
     "name": "stderr",
     "output_type": "stream",
     "text": [
      "WARNING: This is a development server. Do not use it in a production deployment. Use a production WSGI server instead.\n",
      " * Running on all addresses (0.0.0.0)\n",
      " * Running on http://127.0.0.1:15000\n",
      " * Running on http://192.168.3.181:15000\n",
      "Press CTRL+C to quit\n",
      "127.0.0.1 - - [16/Dec/2024 11:12:12] \"GET /user HTTP/1.1\" 200 -\n"
     ]
    },
    {
     "name": "stderr",
     "output_type": "stream",
     "text": [
      "127.0.0.1 - - [16/Dec/2024 11:12:17] \"GET /user HTTP/1.1\" 200 -\n"
     ]
    },
    {
     "ename": "",
     "evalue": "",
     "output_type": "error",
     "traceback": [
      "\u001b[1;31mThe Kernel crashed while executing code in the current cell or a previous cell. \n",
      "\u001b[1;31mPlease review the code in the cell(s) to identify a possible cause of the failure. \n",
      "\u001b[1;31mClick <a href='https://aka.ms/vscodeJupyterKernelCrash'>here</a> for more info. \n",
      "\u001b[1;31mView Jupyter <a href='command:jupyter.viewOutput'>log</a> for further details."
     ]
    }
   ],
   "source": [
    "from flask import Flask\n",
    "\n",
    "app = Flask(__name__)\n",
    "# app = Flask(\"hello\")\n",
    "\n",
    "\n",
    "@app.route(\"/\")\n",
    "def hello_world():\n",
    "    return \"<p>Hello, World!</p>\"\n",
    "\n",
    "# response with JSON\n",
    "\n",
    "\n",
    "@app.route(\"/user\")\n",
    "def get_user():\n",
    "    return {\n",
    "        'name': 'Example User',\n",
    "        'age': 28\n",
    "    }\n",
    "\n",
    "\n",
    "app.run(host='0.0.0.0', port=15000, debug=False)"
   ]
  },
  {
   "cell_type": "code",
   "execution_count": 3,
   "metadata": {},
   "outputs": [
    {
     "name": "stdout",
     "output_type": "stream",
     "text": [
      "Usage: flask run [OPTIONS]\n",
      "\n",
      "  Run a local development server.\n",
      "\n",
      "  This server is for development purposes only. It does not provide the\n",
      "  stability, security, or performance of production WSGI servers.\n",
      "\n",
      "  The reloader and debugger are enabled by default with the '--debug' option.\n",
      "\n",
      "Options:\n",
      "  --debug / --no-debug            Set debug mode.\n",
      "  -h, --host TEXT                 The interface to bind to.\n",
      "  -p, --port INTEGER              The port to bind to.\n",
      "  --cert PATH                     Specify a certificate file to use HTTPS.\n",
      "  --key FILE                      The key file to use when specifying a\n",
      "                                  certificate.\n",
      "  --reload / --no-reload          Enable or disable the reloader. By default\n",
      "                                  the reloader is active if debug is enabled.\n",
      "  --debugger / --no-debugger      Enable or disable the debugger. By default\n",
      "                                  the debugger is active if debug is enabled.\n",
      "  --with-threads / --without-threads\n",
      "                                  Enable or disable multithreading.\n",
      "  --extra-files PATH              Extra files that trigger a reload on change.\n",
      "                                  Multiple paths are separated by ';'.\n",
      "  --exclude-patterns PATH         Files matching these fnmatch patterns will\n",
      "                                  not trigger a reload on change. Multiple\n",
      "                                  patterns are separated by ';'.\n",
      "  --help                          Show this message and exit.\n"
     ]
    }
   ],
   "source": [
    "!flask run --help"
   ]
  },
  {
   "cell_type": "code",
   "execution_count": 1,
   "metadata": {},
   "outputs": [
    {
     "name": "stdout",
     "output_type": "stream",
     "text": [
      "^C\n"
     ]
    },
    {
     "name": "stdout",
     "output_type": "stream",
     "text": [
      " * Serving Flask app 'hello'\n",
      " * Debug mode: on\n"
     ]
    },
    {
     "name": "stderr",
     "output_type": "stream",
     "text": [
      "WARNING: This is a development server. Do not use it in a production deployment. Use a production WSGI server instead.\n",
      " * Running on http://127.0.0.1:15000\n",
      "Press CTRL+C to quit\n",
      " * Restarting with stat\n",
      " * Debugger is active!\n",
      " * Debugger PIN: 136-769-936\n",
      "127.0.0.1 - - [16/Dec/2024 11:10:15] \"GET /user HTTP/1.1\" 200 -\n",
      "127.0.0.1 - - [16/Dec/2024 11:10:19] \"GET /user HTTP/1.1\" 200 -\n",
      "127.0.0.1 - - [16/Dec/2024 11:10:32] \"GET /user HTTP/1.1\" 200 -\n"
     ]
    },
    {
     "ename": "",
     "evalue": "",
     "output_type": "error",
     "traceback": [
      "\u001b[1;31mThe Kernel crashed while executing code in the current cell or a previous cell. \n",
      "\u001b[1;31mPlease review the code in the cell(s) to identify a possible cause of the failure. \n",
      "\u001b[1;31mClick <a href='https://aka.ms/vscodeJupyterKernelCrash'>here</a> for more info. \n",
      "\u001b[1;31mView Jupyter <a href='command:jupyter.viewOutput'>log</a> for further details."
     ]
    }
   ],
   "source": [
    "# or use hello.py\n",
    "\n",
    "# WARN: Interrupt not means stop!!! run in shell instead.\n",
    "\n",
    "# !flask --app hello run\n",
    "# !python -m flask --app hello run\n",
    "\n",
    "!flask --app hello run --debug --port 15000"
   ]
  }
 ],
 "metadata": {
  "kernelspec": {
   "display_name": "base",
   "language": "python",
   "name": "python3"
  },
  "language_info": {
   "codemirror_mode": {
    "name": "ipython",
    "version": 3
   },
   "file_extension": ".py",
   "mimetype": "text/x-python",
   "name": "python",
   "nbconvert_exporter": "python",
   "pygments_lexer": "ipython3",
   "version": "3.12.3"
  }
 },
 "nbformat": 4,
 "nbformat_minor": 2
}
