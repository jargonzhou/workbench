{
 "cells": [
  {
   "cell_type": "markdown",
   "metadata": {},
   "source": [
    "# Django\n",
    "* https://www.djangoproject.com/\n",
    "* [Django documentation](https://docs.djangoproject.com/en/5.1/)\n",
    "\n",
    "## Books\n",
    "\n",
    "* [Best Django Books (2023) for Beginner and Intermediate/Advanced Programmers - Will Vincent](https://wsvincent.com/best-django-books/)\n",
    "* [https://github.com/YeasirArafatRatul/DjangoBooks](https://github.com/YeasirArafatRatul/DjangoBooks)\n",
    "\n",
    "## Web Frameworks\n",
    "\n",
    "* [WebFrameworks - Python Wiki](https://wiki.python.org/moin/WebFrameworks)\n",
    "* [Top 10 Python Web Development Frameworks in 2023 | BrowserStack](https://www.browserstack.com/guide/top-python-web-development-frameworks)\n",
    "\n",
    "## Projects vs. apps\n",
    "\n",
    "What’s the difference between a project and an app? An app is a web application that does something – e.g., a blog system, a database of public records or a small poll app. A project is a collection of configuration and apps for a particular website. A project can contain multiple apps. An app can be in multiple projects."
   ]
  },
  {
   "cell_type": "code",
   "execution_count": 2,
   "metadata": {},
   "outputs": [
    {
     "name": "stdout",
     "output_type": "stream",
     "text": [
      "Requirement already satisfied: Django in /usr/local/lib/python3.11/site-packages (5.1.4)\n",
      "Requirement already satisfied: asgiref<4,>=3.8.1 in /usr/local/lib/python3.11/site-packages (from Django) (3.8.1)\n",
      "Requirement already satisfied: sqlparse>=0.3.1 in /usr/local/lib/python3.11/site-packages (from Django) (0.5.3)\n"
     ]
    },
    {
     "data": {
      "text/plain": [
       "'5.1.4'"
      ]
     },
     "execution_count": 2,
     "metadata": {},
     "output_type": "execute_result"
    }
   ],
   "source": [
    "!pip install Django\n",
    "\n",
    "import django\n",
    "django.get_version()"
   ]
  },
  {
   "cell_type": "code",
   "execution_count": 11,
   "metadata": {},
   "outputs": [
    {
     "name": "stdout",
     "output_type": "stream",
     "text": [
      "Found existing installation: Django 5.1.4\n",
      "Uninstalling Django-5.1.4:\n",
      "  Successfully uninstalled Django-5.1.4\n"
     ]
    }
   ],
   "source": [
    "# cleanup\n",
    "!pip uninstall Django -y"
   ]
  },
  {
   "cell_type": "markdown",
   "metadata": {},
   "source": [
    "# Tutorial"
   ]
  },
  {
   "cell_type": "markdown",
   "metadata": {},
   "source": [
    "## Part 1: Requests and responses"
   ]
  },
  {
   "cell_type": "markdown",
   "metadata": {},
   "source": [
    "### Creating a project"
   ]
  },
  {
   "cell_type": "code",
   "execution_count": 3,
   "metadata": {},
   "outputs": [],
   "source": [
    "!mkdir -p djangotutorial\n",
    "# project: mysite\n",
    "!django-admin startproject mysite djangotutorial"
   ]
  },
  {
   "cell_type": "code",
   "execution_count": 4,
   "metadata": {},
   "outputs": [
    {
     "name": "stdout",
     "output_type": "stream",
     "text": [
      "\u001b[01;34mdjangotutorial\u001b[00m\n",
      "├── \u001b[01;32mmanage.py\u001b[00m\n",
      "└── \u001b[01;34mmysite\u001b[00m\n",
      "    ├── __init__.py\n",
      "    ├── asgi.py\n",
      "    ├── settings.py\n",
      "    ├── urls.py\n",
      "    └── wsgi.py\n",
      "\n",
      "1 directory, 6 files\n"
     ]
    }
   ],
   "source": [
    "!tree djangotutorial"
   ]
  },
  {
   "cell_type": "markdown",
   "metadata": {},
   "source": [
    "### The development server"
   ]
  },
  {
   "cell_type": "code",
   "execution_count": 6,
   "metadata": {},
   "outputs": [
    {
     "name": "stdout",
     "output_type": "stream",
     "text": [
      "Watching for file changes with StatReloader\n",
      "Performing system checks...\n",
      "\n",
      "System check identified no issues (0 silenced).\n",
      "\u001b[31m\n",
      "You have 18 unapplied migration(s). Your project may not work properly until you apply the migrations for app(s): admin, auth, contenttypes, sessions.\u001b[0m\n",
      "\u001b[31mRun 'python manage.py migrate' to apply them.\u001b[0m\n",
      "December 15, 2024 - 04:59:59\n",
      "Django version 5.1.4, using settings 'mysite.settings'\n",
      "Starting development server at http://127.0.0.1:8000/\n",
      "Quit the server with CONTROL-C.\n",
      "\n",
      "^C\n"
     ]
    }
   ],
   "source": [
    "!cd djangotutorial && python3 manage.py runserver"
   ]
  },
  {
   "cell_type": "markdown",
   "metadata": {},
   "source": [
    "### Creating the Polls app"
   ]
  },
  {
   "cell_type": "code",
   "execution_count": 7,
   "metadata": {},
   "outputs": [],
   "source": [
    "!cd djangotutorial && python3 manage.py startapp polls"
   ]
  },
  {
   "cell_type": "code",
   "execution_count": 8,
   "metadata": {},
   "outputs": [
    {
     "name": "stdout",
     "output_type": "stream",
     "text": [
      "\u001b[01;34mdjangotutorial\u001b[00m\n",
      "├── db.sqlite3\n",
      "├── \u001b[01;32mmanage.py\u001b[00m\n",
      "├── \u001b[01;34mmysite\u001b[00m\n",
      "│   ├── __init__.py\n",
      "│   ├── \u001b[01;34m__pycache__\u001b[00m\n",
      "│   │   ├── __init__.cpython-311.pyc\n",
      "│   │   ├── settings.cpython-311.pyc\n",
      "│   │   ├── urls.cpython-311.pyc\n",
      "│   │   └── wsgi.cpython-311.pyc\n",
      "│   ├── asgi.py\n",
      "│   ├── settings.py\n",
      "│   ├── urls.py\n",
      "│   └── wsgi.py\n",
      "└── \u001b[01;34mpolls\u001b[00m\n",
      "    ├── __init__.py\n",
      "    ├── admin.py\n",
      "    ├── apps.py\n",
      "    ├── \u001b[01;34mmigrations\u001b[00m\n",
      "    │   └── __init__.py\n",
      "    ├── models.py\n",
      "    ├── tests.py\n",
      "    └── views.py\n",
      "\n",
      "4 directories, 18 files\n"
     ]
    }
   ],
   "source": [
    "!tree djangotutorial"
   ]
  },
  {
   "cell_type": "markdown",
   "metadata": {},
   "source": [
    "### Write your first view"
   ]
  },
  {
   "cell_type": "markdown",
   "metadata": {},
   "source": [
    "* edit `polls/view.py`\n",
    "* add file `polls/urls.py`\n",
    "* edit `mysite/urls.spy`"
   ]
  },
  {
   "cell_type": "code",
   "execution_count": 10,
   "metadata": {},
   "outputs": [
    {
     "name": "stdout",
     "output_type": "stream",
     "text": [
      "Watching for file changes with StatReloader\n",
      "Performing system checks...\n",
      "\n",
      "System check identified no issues (0 silenced).\n",
      "\u001b[31m\n",
      "You have 18 unapplied migration(s). Your project may not work properly until you apply the migrations for app(s): admin, auth, contenttypes, sessions.\u001b[0m\n",
      "\u001b[31mRun 'python manage.py migrate' to apply them.\u001b[0m\n",
      "December 15, 2024 - 05:07:58\n",
      "Django version 5.1.4, using settings 'mysite.settings'\n",
      "Starting development server at http://127.0.0.1:8000/\n",
      "Quit the server with CONTROL-C.\n",
      "\n",
      "[15/Dec/2024 05:08:02] \u001b[m\"GET /polls/ HTTP/1.1\" 200 42\u001b[0m\n",
      "^C\n"
     ]
    }
   ],
   "source": [
    "!cd djangotutorial && python3 manage.py runserver\n",
    "# then access: http://127.0.0.1:8000/polls/"
   ]
  },
  {
   "cell_type": "markdown",
   "metadata": {},
   "source": [
    "## Part 2: Models and the admin site"
   ]
  },
  {
   "cell_type": "markdown",
   "metadata": {},
   "source": [
    "## Part 3: Views and templates"
   ]
  },
  {
   "cell_type": "markdown",
   "metadata": {},
   "source": [
    "## Part 4: Forms and generic views"
   ]
  },
  {
   "cell_type": "markdown",
   "metadata": {},
   "source": [
    "## Part 5: Testing"
   ]
  },
  {
   "cell_type": "markdown",
   "metadata": {},
   "source": [
    "## Part 6: Static files"
   ]
  },
  {
   "cell_type": "markdown",
   "metadata": {},
   "source": [
    "## Part 7: Customizing the admin site"
   ]
  },
  {
   "cell_type": "markdown",
   "metadata": {},
   "source": [
    "## Part 8: Adding third-party packages"
   ]
  }
 ],
 "metadata": {
  "kernelspec": {
   "display_name": "Python 3",
   "language": "python",
   "name": "python3"
  },
  "language_info": {
   "codemirror_mode": {
    "name": "ipython",
    "version": 3
   },
   "file_extension": ".py",
   "mimetype": "text/x-python",
   "name": "python",
   "nbconvert_exporter": "python",
   "pygments_lexer": "ipython3",
   "version": "3.11.3"
  }
 },
 "nbformat": 4,
 "nbformat_minor": 2
}
