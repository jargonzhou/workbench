{
 "cells": [
  {
   "cell_type": "markdown",
   "metadata": {},
   "source": [
    "# IPython\n",
    "* https://ipython.readthedocs.io/en/stable/index.html\n",
    "\n",
    "books:\n",
    "* [IPython Cookbook, Second Edition (2018)](https://ipython-books.github.io/)"
   ]
  },
  {
   "cell_type": "markdown",
   "metadata": {},
   "source": [
    "# Help Commands"
   ]
  },
  {
   "cell_type": "code",
   "execution_count": 2,
   "metadata": {},
   "outputs": [
    {
     "name": "stdout",
     "output_type": "stream",
     "text": [
      "\n",
      "IPython -- An enhanced Interactive Python\n",
      "=========================================\n",
      "\n",
      "IPython offers a fully compatible replacement for the standard Python\n",
      "interpreter, with convenient shell features, special commands, command\n",
      "history mechanism and output results caching.\n",
      "\n",
      "At your system command line, type 'ipython -h' to see the command line\n",
      "options available. This document only describes interactive features.\n",
      "\n",
      "GETTING HELP\n",
      "------------\n",
      "\n",
      "Within IPython you have various way to access help:\n",
      "\n",
      "  ?         -> Introduction and overview of IPython's features (this screen).\n",
      "  object?   -> Details about 'object'.\n",
      "  object??  -> More detailed, verbose information about 'object'.\n",
      "  %quickref -> Quick reference of all IPython specific syntax and magics.\n",
      "  help      -> Access Python's own help system.\n",
      "\n",
      "If you are in terminal IPython you can quit this screen by pressing `q`.\n",
      "\n",
      "\n",
      "MAIN FEATURES\n",
      "-------------\n",
      "\n",
      "* Access to the standard Python help with object docstrings and the Python\n",
      "  manuals. Simply type 'help' (no quotes) to invoke it.\n",
      "\n",
      "* Magic commands: type %magic for information on the magic subsystem.\n",
      "\n",
      "* System command aliases, via the %alias command or the configuration file(s).\n",
      "\n",
      "* Dynamic object information:\n",
      "\n",
      "  Typing ?word or word? prints detailed information about an object. Certain\n",
      "  long strings (code, etc.) get snipped in the center for brevity.\n",
      "\n",
      "  Typing ??word or word?? gives access to the full information without\n",
      "  snipping long strings. Strings that are longer than the screen are printed\n",
      "  through the less pager.\n",
      "\n",
      "  The ?/?? system gives access to the full source code for any object (if\n",
      "  available), shows function prototypes and other useful information.\n",
      "\n",
      "  If you just want to see an object's docstring, type '%pdoc object' (without\n",
      "  quotes, and without % if you have automagic on).\n",
      "\n",
      "* Tab completion in the local namespace:\n",
      "\n",
      "  At any time, hitting tab will complete any available python commands or\n",
      "  variable names, and show you a list of the possible completions if there's\n",
      "  no unambiguous one. It will also complete filenames in the current directory.\n",
      "\n",
      "* Search previous command history in multiple ways:\n",
      "\n",
      "  - Start typing, and then use arrow keys up/down or (Ctrl-p/Ctrl-n) to search\n",
      "    through the history items that match what you've typed so far.\n",
      "\n",
      "  - Hit Ctrl-r: opens a search prompt. Begin typing and the system searches\n",
      "    your history for lines that match what you've typed so far, completing as\n",
      "    much as it can.\n",
      "\n",
      "  - %hist: search history by index.\n",
      "\n",
      "* Persistent command history across sessions.\n",
      "\n",
      "* Logging of input with the ability to save and restore a working session.\n",
      "\n",
      "* System shell with !. Typing !ls will run 'ls' in the current directory.\n",
      "\n",
      "* The reload command does a 'deep' reload of a module: changes made to the\n",
      "  module since you imported will actually be available without having to exit.\n",
      "\n",
      "* Verbose and colored exception traceback printouts. See the magic xmode and\n",
      "  xcolor functions for details (just type %magic).\n",
      "\n",
      "* Input caching system:\n",
      "\n",
      "  IPython offers numbered prompts (In/Out) with input and output caching. All\n",
      "  input is saved and can be retrieved as variables (besides the usual arrow\n",
      "  key recall).\n",
      "\n",
      "  The following GLOBAL variables always exist (so don't overwrite them!):\n",
      "  _i: stores previous input.\n",
      "  _ii: next previous.\n",
      "  _iii: next-next previous.\n",
      "  _ih : a list of all input _ih[n] is the input from line n.\n",
      "\n",
      "  Additionally, global variables named _i<n> are dynamically created (<n>\n",
      "  being the prompt counter), such that _i<n> == _ih[<n>]\n",
      "\n",
      "  For example, what you typed at prompt 14 is available as _i14 and _ih[14].\n",
      "\n",
      "  You can create macros which contain multiple input lines from this history,\n",
      "  for later re-execution, with the %macro function.\n",
      "\n",
      "  The history function %hist allows you to see any part of your input history\n",
      "  by printing a range of the _i variables. Note that inputs which contain\n",
      "  magic functions (%) appear in the history with a prepended comment. This is\n",
      "  because they aren't really valid Python code, so you can't exec them.\n",
      "\n",
      "* Output caching system:\n",
      "\n",
      "  For output that is returned from actions, a system similar to the input\n",
      "  cache exists but using _ instead of _i. Only actions that produce a result\n",
      "  (NOT assignments, for example) are cached. If you are familiar with\n",
      "  Mathematica, IPython's _ variables behave exactly like Mathematica's %\n",
      "  variables.\n",
      "\n",
      "  The following GLOBAL variables always exist (so don't overwrite them!):\n",
      "  _ (one underscore): previous output.\n",
      "  __ (two underscores): next previous.\n",
      "  ___ (three underscores): next-next previous.\n",
      "\n",
      "  Global variables named _<n> are dynamically created (<n> being the prompt\n",
      "  counter), such that the result of output <n> is always available as _<n>.\n",
      "\n",
      "  Finally, a global dictionary named _oh exists with entries for all lines\n",
      "  which generated output.\n",
      "\n",
      "* Directory history:\n",
      "\n",
      "  Your history of visited directories is kept in the global list _dh, and the\n",
      "  magic %cd command can be used to go to any entry in that list.\n",
      "\n",
      "* Auto-parentheses and auto-quotes (adapted from Nathan Gray's LazyPython)\n",
      "\n",
      "  1. Auto-parentheses\n",
      "        \n",
      "     Callable objects (i.e. functions, methods, etc) can be invoked like\n",
      "     this (notice the commas between the arguments)::\n",
      "       \n",
      "         In [1]: callable_ob arg1, arg2, arg3\n",
      "       \n",
      "     and the input will be translated to this::\n",
      "       \n",
      "         callable_ob(arg1, arg2, arg3)\n",
      "       \n",
      "     This feature is off by default (in rare cases it can produce\n",
      "     undesirable side-effects), but you can activate it at the command-line\n",
      "     by starting IPython with `--autocall 1`, set it permanently in your\n",
      "     configuration file, or turn on at runtime with `%autocall 1`.\n",
      "\n",
      "     You can force auto-parentheses by using '/' as the first character\n",
      "     of a line.  For example::\n",
      "       \n",
      "          In [1]: /globals             # becomes 'globals()'\n",
      "       \n",
      "     Note that the '/' MUST be the first character on the line!  This\n",
      "     won't work::\n",
      "       \n",
      "          In [2]: print /globals    # syntax error\n",
      "\n",
      "     In most cases the automatic algorithm should work, so you should\n",
      "     rarely need to explicitly invoke /. One notable exception is if you\n",
      "     are trying to call a function with a list of tuples as arguments (the\n",
      "     parenthesis will confuse IPython)::\n",
      "       \n",
      "          In [1]: zip (1,2,3),(4,5,6)  # won't work\n",
      "       \n",
      "     but this will work::\n",
      "       \n",
      "          In [2]: /zip (1,2,3),(4,5,6)\n",
      "          ------> zip ((1,2,3),(4,5,6))\n",
      "          Out[2]= [(1, 4), (2, 5), (3, 6)]\n",
      "\n",
      "     IPython tells you that it has altered your command line by\n",
      "     displaying the new command line preceded by -->.  e.g.::\n",
      "       \n",
      "          In [18]: callable list\n",
      "          -------> callable (list)\n",
      "\n",
      "  2. Auto-Quoting\n",
      "    \n",
      "     You can force auto-quoting of a function's arguments by using ',' as\n",
      "     the first character of a line.  For example::\n",
      "       \n",
      "          In [1]: ,my_function /home/me   # becomes my_function(\"/home/me\")\n",
      "\n",
      "     If you use ';' instead, the whole argument is quoted as a single\n",
      "     string (while ',' splits on whitespace)::\n",
      "       \n",
      "          In [2]: ,my_function a b c   # becomes my_function(\"a\",\"b\",\"c\")\n",
      "          In [3]: ;my_function a b c   # becomes my_function(\"a b c\")\n",
      "\n",
      "     Note that the ',' MUST be the first character on the line!  This\n",
      "     won't work::\n",
      "       \n",
      "          In [4]: x = ,my_function /home/me    # syntax error\n"
     ]
    }
   ],
   "source": [
    "# Introduction and overview of IPython’s features.\n",
    "?"
   ]
  },
  {
   "cell_type": "code",
   "execution_count": 3,
   "metadata": {},
   "outputs": [
    {
     "name": "stdout",
     "output_type": "stream",
     "text": [
      "\n",
      "IPython -- An enhanced Interactive Python - Quick Reference Card\n",
      "================================================================\n",
      "\n",
      "obj?, obj??      : Get help, or more help for object (also works as\n",
      "                   ?obj, ??obj).\n",
      "?foo.*abc*       : List names in 'foo' containing 'abc' in them.\n",
      "%magic           : Information about IPython's 'magic' % functions.\n",
      "\n",
      "Magic functions are prefixed by % or %%, and typically take their arguments\n",
      "without parentheses, quotes or even commas for convenience.  Line magics take a\n",
      "single % and cell magics are prefixed with two %%.\n",
      "\n",
      "Example magic function calls:\n",
      "\n",
      "%alias d ls -F   : 'd' is now an alias for 'ls -F'\n",
      "alias d ls -F    : Works if 'alias' not a python name\n",
      "alist = %alias   : Get list of aliases to 'alist'\n",
      "cd /usr/share    : Obvious. cd -<tab> to choose from visited dirs.\n",
      "%cd??            : See help AND source for magic %cd\n",
      "%timeit x=10     : time the 'x=10' statement with high precision.\n",
      "%%timeit x=2**100\n",
      "x**100           : time 'x**100' with a setup of 'x=2**100'; setup code is not\n",
      "                   counted.  This is an example of a cell magic.\n",
      "\n",
      "System commands:\n",
      "\n",
      "!cp a.txt b/     : System command escape, calls os.system()\n",
      "cp a.txt b/      : after %rehashx, most system commands work without !\n",
      "cp ${f}.txt $bar : Variable expansion in magics and system commands\n",
      "files = !ls /usr : Capture system command output\n",
      "files.s, files.l, files.n: \"a b c\", ['a','b','c'], 'a\\nb\\nc'\n",
      "\n",
      "History:\n",
      "\n",
      "_i, _ii, _iii    : Previous, next previous, next next previous input\n",
      "_i4, _ih[2:5]    : Input history line 4, lines 2-4\n",
      "exec(_i81)       : Execute input history line #81 again\n",
      "%rep 81          : Edit input history line #81\n",
      "_, __, ___       : previous, next previous, next next previous output\n",
      "_dh              : Directory history\n",
      "_oh              : Output history\n",
      "%hist            : Command history of current session.\n",
      "%hist -g foo     : Search command history of (almost) all sessions for 'foo'.\n",
      "%hist -g         : Command history of (almost) all sessions.\n",
      "%hist 1/2-8      : Command history containing lines 2-8 of session 1.\n",
      "%hist 1/ ~2/     : Command history of session 1 and 2 sessions before current.\n",
      "%hist ~8/1-~6/5  : Command history from line 1 of 8 sessions ago to\n",
      "                   line 5 of 6 sessions ago.\n",
      "%edit 0/         : Open editor to execute code with history of current session.\n",
      "\n",
      "Autocall:\n",
      "\n",
      "f 1,2            : f(1,2)  # Off by default, enable with %autocall magic.\n",
      "/f 1,2           : f(1,2) (forced autoparen)\n",
      ",f 1 2           : f(\"1\",\"2\")\n",
      ";f 1 2           : f(\"1 2\")\n",
      "\n",
      "Remember: TAB completion works in many contexts, not just file names\n",
      "or python names.\n",
      "\n",
      "The following magic functions are currently available:\n",
      "\n",
      "%alias:\n",
      "    Define an alias for a system command.\n",
      "%alias_magic:\n",
      "    ::\n",
      "%autoawait:\n",
      "    \n",
      "%autocall:\n",
      "    Make functions callable without having to type parentheses.\n",
      "%automagic:\n",
      "    Make magic functions callable without having to type the initial %.\n",
      "%autosave:\n",
      "    Set the autosave interval in the notebook (in seconds).\n",
      "%bookmark:\n",
      "    Manage IPython's bookmark system.\n",
      "%cat:\n",
      "    Alias for `!cat`\n",
      "%cd:\n",
      "    Change the current working directory.\n",
      "%clear:\n",
      "    Clear the terminal.\n",
      "%code_wrap:\n",
      "    ::\n",
      "%colors:\n",
      "    Switch color scheme for prompts, info system and exception handlers.\n",
      "%conda:\n",
      "    Run the conda package manager within the current kernel.\n",
      "%config:\n",
      "    configure IPython\n",
      "%connect_info:\n",
      "    Print information for connecting other clients to this kernel\n",
      "%cp:\n",
      "    Alias for `!cp`\n",
      "%debug:\n",
      "    ::\n",
      "%dhist:\n",
      "    Print your history of visited directories.\n",
      "%dirs:\n",
      "    Return the current directory stack.\n",
      "%doctest_mode:\n",
      "    Toggle doctest mode on and off.\n",
      "%ed:\n",
      "    Alias for `%edit`.\n",
      "%edit:\n",
      "    Bring up an editor and execute the resulting code.\n",
      "%env:\n",
      "    Get, set, or list environment variables.\n",
      "%gui:\n",
      "    Enable or disable IPython GUI event loop integration.\n",
      "%hist:\n",
      "    Alias for `%history`.\n",
      "%history:\n",
      "    ::\n",
      "%killbgscripts:\n",
      "    Kill all BG processes started by %%script and its family.\n",
      "%ldir:\n",
      "    Alias for `!ls -F -G -l %l | grep /$`\n",
      "%less:\n",
      "    Show a file through the pager.\n",
      "%lf:\n",
      "    Alias for `!ls -F -l -G %l | grep ^-`\n",
      "%lk:\n",
      "    Alias for `!ls -F -l -G %l | grep ^l`\n",
      "%ll:\n",
      "    Alias for `!ls -F -l -G`\n",
      "%load:\n",
      "    Load code into the current frontend.\n",
      "%load_ext:\n",
      "    Load an IPython extension by its module name.\n",
      "%loadpy:\n",
      "    Alias of `%load`\n",
      "%logoff:\n",
      "    Temporarily stop logging.\n",
      "%logon:\n",
      "    Restart logging.\n",
      "%logstart:\n",
      "    Start logging anywhere in a session.\n",
      "%logstate:\n",
      "    Print the status of the logging system.\n",
      "%logstop:\n",
      "    Fully stop logging and close log file.\n",
      "%ls:\n",
      "    Alias for `!ls -F -G`\n",
      "%lsmagic:\n",
      "    List currently available magic functions.\n",
      "%lx:\n",
      "    Alias for `!ls -F -l -G %l | grep ^-..x`\n",
      "%macro:\n",
      "    Define a macro for future re-execution. It accepts ranges of history,\n",
      "%magic:\n",
      "    Print information about the magic function system.\n",
      "%mamba:\n",
      "    Run the mamba package manager within the current kernel.\n",
      "%man:\n",
      "    Find the man page for the given command and display in pager.\n",
      "%matplotlib:\n",
      "    ::\n",
      "%micromamba:\n",
      "    Run the conda package manager within the current kernel.\n",
      "%mkdir:\n",
      "    Alias for `!mkdir`\n",
      "%more:\n",
      "    Show a file through the pager.\n",
      "%mv:\n",
      "    Alias for `!mv`\n",
      "%notebook:\n",
      "    ::\n",
      "%page:\n",
      "    Pretty print the object and display it through a pager.\n",
      "%pastebin:\n",
      "    Upload code to dpaste.com, returning the URL.\n",
      "%pdb:\n",
      "    Control the automatic calling of the pdb interactive debugger.\n",
      "%pdef:\n",
      "    Print the call signature for any callable object.\n",
      "%pdoc:\n",
      "    Print the docstring for an object.\n",
      "%pfile:\n",
      "    Print (or run through pager) the file where an object is defined.\n",
      "%pinfo:\n",
      "    Provide detailed information about an object.\n",
      "%pinfo2:\n",
      "    Provide extra detailed information about an object.\n",
      "%pip:\n",
      "    Run the pip package manager within the current kernel.\n",
      "%popd:\n",
      "    Change to directory popped off the top of the stack.\n",
      "%pprint:\n",
      "    Toggle pretty printing on/off.\n",
      "%precision:\n",
      "    Set floating point precision for pretty printing.\n",
      "%prun:\n",
      "    Run a statement through the python code profiler.\n",
      "%psearch:\n",
      "    Search for object in namespaces by wildcard.\n",
      "%psource:\n",
      "    Print (or run through pager) the source code for an object.\n",
      "%pushd:\n",
      "    Place the current dir on stack and change directory.\n",
      "%pwd:\n",
      "    Return the current working directory path.\n",
      "%pycat:\n",
      "    Show a syntax-highlighted file through a pager.\n",
      "%pylab:\n",
      "    ::\n",
      "%qtconsole:\n",
      "    Open a qtconsole connected to this kernel.\n",
      "%quickref:\n",
      "    Show a quick reference sheet \n",
      "%recall:\n",
      "    Repeat a command, or get command to input line for editing.\n",
      "%rehashx:\n",
      "    Update the alias table with all executable files in $PATH.\n",
      "%reload_ext:\n",
      "    Reload an IPython extension by its module name.\n",
      "%rep:\n",
      "    Alias for `%recall`.\n",
      "%rerun:\n",
      "    Re-run previous input\n",
      "%reset:\n",
      "    Resets the namespace by removing all names defined by the user, if\n",
      "%reset_selective:\n",
      "    Resets the namespace by removing names defined by the user.\n",
      "%rm:\n",
      "    Alias for `!rm`\n",
      "%rmdir:\n",
      "    Alias for `!rmdir`\n",
      "%run:\n",
      "    Run the named file inside IPython as a program.\n",
      "%save:\n",
      "    Save a set of lines or a macro to a given filename.\n",
      "%sc:\n",
      "    Shell capture - run shell command and capture output (DEPRECATED use !).\n",
      "%set_env:\n",
      "    Set environment variables.  Assumptions are that either \"val\" is a\n",
      "%store:\n",
      "    Lightweight persistence for python variables.\n",
      "%sx:\n",
      "    Shell execute - run shell command and capture output (!! is short-hand).\n",
      "%system:\n",
      "    Shell execute - run shell command and capture output (!! is short-hand).\n",
      "%tb:\n",
      "    Print the last traceback.\n",
      "%time:\n",
      "    Time execution of a Python statement or expression.\n",
      "%timeit:\n",
      "    Time execution of a Python statement or expression\n",
      "%unalias:\n",
      "    Remove an alias\n",
      "%unload_ext:\n",
      "    Unload an IPython extension by its module name.\n",
      "%who:\n",
      "    Print all interactive variables, with some minimal formatting.\n",
      "%who_ls:\n",
      "    Return a sorted list of all interactive variables.\n",
      "%whos:\n",
      "    Like %who, but gives some extra information about each variable.\n",
      "%xdel:\n",
      "    Delete a variable, trying to clear it from anywhere that\n",
      "%xmode:\n",
      "    Switch modes for the exception handlers.\n",
      "%%!:\n",
      "    Shell execute - run shell command and capture output (!! is short-hand).\n",
      "%%HTML:\n",
      "    Alias for `%%html`.\n",
      "%%SVG:\n",
      "    Alias for `%%svg`.\n",
      "%%bash:\n",
      "    %%bash script magic\n",
      "%%capture:\n",
      "    ::\n",
      "%%code_wrap:\n",
      "    ::\n",
      "%%debug:\n",
      "    ::\n",
      "%%file:\n",
      "    Alias for `%%writefile`.\n",
      "%%html:\n",
      "    ::\n",
      "%%javascript:\n",
      "    Run the cell block of Javascript code\n",
      "%%js:\n",
      "    Run the cell block of Javascript code\n",
      "%%latex:\n",
      "    Render the cell as a block of LaTeX\n",
      "%%markdown:\n",
      "    Render the cell as Markdown text block\n",
      "%%perl:\n",
      "    %%perl script magic\n",
      "%%prun:\n",
      "    Run a statement through the python code profiler.\n",
      "%%pypy:\n",
      "    %%pypy script magic\n",
      "%%python:\n",
      "    %%python script magic\n",
      "%%python2:\n",
      "    %%python2 script magic\n",
      "%%python3:\n",
      "    %%python3 script magic\n",
      "%%ruby:\n",
      "    %%ruby script magic\n",
      "%%script:\n",
      "    ::\n",
      "%%sh:\n",
      "    %%sh script magic\n",
      "%%svg:\n",
      "    Render the cell as an SVG literal\n",
      "%%sx:\n",
      "    Shell execute - run shell command and capture output (!! is short-hand).\n",
      "%%system:\n",
      "    Shell execute - run shell command and capture output (!! is short-hand).\n",
      "%%time:\n",
      "    Time execution of a Python statement or expression.\n",
      "%%timeit:\n",
      "    Time execution of a Python statement or expression\n",
      "%%writefile:\n",
      "    ::\n"
     ]
    }
   ],
   "source": [
    "# Quick reference.\n",
    "%quickref"
   ]
  },
  {
   "cell_type": "code",
   "execution_count": 4,
   "metadata": {},
   "outputs": [
    {
     "data": {
      "text/plain": [
       "Type help() for interactive help, or help(object) for help about object."
      ]
     },
     "execution_count": 4,
     "metadata": {},
     "output_type": "execute_result"
    }
   ],
   "source": [
    "# Python’s own help system.\n",
    "help"
   ]
  },
  {
   "cell_type": "code",
   "execution_count": 7,
   "metadata": {},
   "outputs": [],
   "source": [
    "# Details about ‘object’, use ‘object??’ for extra details.\n",
    "def hello():\n",
    "    print(\"Hello, IPython\")"
   ]
  },
  {
   "cell_type": "code",
   "execution_count": 8,
   "metadata": {},
   "outputs": [
    {
     "name": "stdout",
     "output_type": "stream",
     "text": [
      "\u001b[0;31mSignature:\u001b[0m \u001b[0mhello\u001b[0m\u001b[0;34m(\u001b[0m\u001b[0;34m)\u001b[0m\u001b[0;34m\u001b[0m\u001b[0;34m\u001b[0m\u001b[0m\n",
      "\u001b[0;31mDocstring:\u001b[0m <no docstring>\n",
      "\u001b[0;31mFile:\u001b[0m      /var/folders/_8/xdwzpdgj0ps7wgh7llzxztk40000gn/T/ipykernel_12410/2488959946.py\n",
      "\u001b[0;31mType:\u001b[0m      function"
     ]
    }
   ],
   "source": [
    "hello?"
   ]
  },
  {
   "cell_type": "code",
   "execution_count": 9,
   "metadata": {},
   "outputs": [
    {
     "name": "stdout",
     "output_type": "stream",
     "text": [
      "\u001b[0;31mSignature:\u001b[0m \u001b[0mhello\u001b[0m\u001b[0;34m(\u001b[0m\u001b[0;34m)\u001b[0m\u001b[0;34m\u001b[0m\u001b[0;34m\u001b[0m\u001b[0m\n",
      "\u001b[0;31mDocstring:\u001b[0m <no docstring>\n",
      "\u001b[0;31mSource:\u001b[0m   \n",
      "\u001b[0;32mdef\u001b[0m \u001b[0mhello\u001b[0m\u001b[0;34m(\u001b[0m\u001b[0;34m)\u001b[0m\u001b[0;34m:\u001b[0m\u001b[0;34m\u001b[0m\n",
      "\u001b[0;34m\u001b[0m    \u001b[0mprint\u001b[0m\u001b[0;34m(\u001b[0m\u001b[0;34m\"Hello, IPython\"\u001b[0m\u001b[0;34m)\u001b[0m\u001b[0;34m\u001b[0m\u001b[0;34m\u001b[0m\u001b[0m\n",
      "\u001b[0;31mFile:\u001b[0m      /var/folders/_8/xdwzpdgj0ps7wgh7llzxztk40000gn/T/ipykernel_12410/2488959946.py\n",
      "\u001b[0;31mType:\u001b[0m      function"
     ]
    }
   ],
   "source": [
    "hello??"
   ]
  },
  {
   "cell_type": "markdown",
   "metadata": {},
   "source": [
    "# IPython API\n",
    "* https://ipython.readthedocs.io/en/8.26.0/api/index.html"
   ]
  },
  {
   "cell_type": "code",
   "execution_count": 5,
   "metadata": {},
   "outputs": [
    {
     "data": {
      "image/png": "[encoded data removed]",
      "text/plain": [
       "<IPython.core.display.Image object>"
      ]
     },
     "execution_count": 5,
     "metadata": {},
     "output_type": "execute_result"
    }
   ],
   "source": [
    "from IPython.display import Image\n",
    "Image(filename=\"C:\\\\Users\\\\zhouj\\\\Pictures\\\\avatar.png\") "
   ]
  },
  {
   "cell_type": "markdown",
   "metadata": {},
   "source": [
    "# Exploring your objects"
   ]
  },
  {
   "cell_type": "code",
   "execution_count": 16,
   "metadata": {},
   "outputs": [],
   "source": [
    "data = ['Number of users', 123456]\n",
    "\n",
    "\n",
    "def hello():\n",
    "    \"\"\"Hello Function\"\"\"\n",
    "    print(\"Hello, IPython\")"
   ]
  },
  {
   "cell_type": "code",
   "execution_count": 11,
   "metadata": {},
   "outputs": [
    {
     "name": "stdout",
     "output_type": "stream",
     "text": [
      "\u001b[0;31mType:\u001b[0m        list\n",
      "\u001b[0;31mString form:\u001b[0m ['Number of users', 123456]\n",
      "\u001b[0;31mLength:\u001b[0m      2\n",
      "\u001b[0;31mDocstring:\u001b[0m  \n",
      "Built-in mutable sequence.\n",
      "\n",
      "If no argument is given, the constructor creates a new empty list.\n",
      "The argument must be an iterable if specified."
     ]
    }
   ],
   "source": [
    "data?"
   ]
  },
  {
   "cell_type": "code",
   "execution_count": 17,
   "metadata": {},
   "outputs": [
    {
     "name": "stdout",
     "output_type": "stream",
     "text": [
      "\u001b[0;31mClass docstring:\u001b[0m\n",
      "    Hello Function\n",
      "\u001b[0;31mCall docstring:\u001b[0m\n",
      "    Call self as a function."
     ]
    }
   ],
   "source": [
    "%pdoc hello"
   ]
  },
  {
   "cell_type": "code",
   "execution_count": 18,
   "metadata": {},
   "outputs": [
    {
     "name": "stdout",
     "output_type": "stream",
     "text": [
      " \u001b[0mhello\u001b[0m\u001b[0;34m(\u001b[0m\u001b[0;34m)\u001b[0m\u001b[0;34m\u001b[0m\u001b[0;34m\u001b[0m\u001b[0m\n",
      " "
     ]
    }
   ],
   "source": [
    "%pdef hello"
   ]
  },
  {
   "cell_type": "code",
   "execution_count": 19,
   "metadata": {},
   "outputs": [
    {
     "name": "stdout",
     "output_type": "stream",
     "text": [
      "\u001b[0;32mdef\u001b[0m \u001b[0mhello\u001b[0m\u001b[0;34m(\u001b[0m\u001b[0;34m)\u001b[0m\u001b[0;34m:\u001b[0m\u001b[0;34m\u001b[0m\n",
      "\u001b[0;34m\u001b[0m    \u001b[0;34m\"\"\"Hello Function\"\"\"\u001b[0m\u001b[0;34m\u001b[0m\n",
      "\u001b[0;34m\u001b[0m    \u001b[0mprint\u001b[0m\u001b[0;34m(\u001b[0m\u001b[0;34m\"Hello, IPython\"\u001b[0m\u001b[0;34m)\u001b[0m\u001b[0;34m\u001b[0m\u001b[0;34m\u001b[0m\u001b[0m\n"
     ]
    }
   ],
   "source": [
    "%psource hello"
   ]
  },
  {
   "cell_type": "code",
   "execution_count": 22,
   "metadata": {},
   "outputs": [
    {
     "name": "stdout",
     "output_type": "stream",
     "text": [
      "File '/var/folders/_8/xdwzpdgj0ps7wgh7llzxztk40000gn/T/ipykernel_12410/2114966693.py' does not exist, not printing.\n"
     ]
    }
   ],
   "source": [
    "%pfile hello"
   ]
  },
  {
   "cell_type": "markdown",
   "metadata": {},
   "source": [
    "# Magic functions"
   ]
  },
  {
   "cell_type": "markdown",
   "metadata": {},
   "source": [
    "## timeit"
   ]
  },
  {
   "cell_type": "code",
   "execution_count": 23,
   "metadata": {},
   "outputs": [
    {
     "name": "stdout",
     "output_type": "stream",
     "text": [
      "351 ns ± 132 ns per loop (mean ± std. dev. of 7 runs, 1,000,000 loops each)\n"
     ]
    }
   ],
   "source": [
    "# line mode\n",
    "%timeit range(1000)"
   ]
  },
  {
   "cell_type": "code",
   "execution_count": 24,
   "metadata": {},
   "outputs": [
    {
     "name": "stdout",
     "output_type": "stream",
     "text": [
      "364 μs ± 15.4 μs per loop (mean ± std. dev. of 7 runs, 1,000 loops each)\n"
     ]
    }
   ],
   "source": [
    "# cell mode\n",
    "%%timeit x = range(10000)\n",
    "max(x)"
   ]
  },
  {
   "cell_type": "markdown",
   "metadata": {},
   "source": [
    "## lsmagic"
   ]
  },
  {
   "cell_type": "code",
   "execution_count": 42,
   "metadata": {},
   "outputs": [
    {
     "data": {
      "application/json": {
       "cell": {
        "!": "OSMagics",
        "HTML": "Other",
        "SVG": "Other",
        "bash": "Other",
        "capture": "ExecutionMagics",
        "code_wrap": "ExecutionMagics",
        "debug": "ExecutionMagics",
        "file": "Other",
        "html": "DisplayMagics",
        "javascript": "DisplayMagics",
        "js": "DisplayMagics",
        "latex": "DisplayMagics",
        "markdown": "DisplayMagics",
        "perl": "Other",
        "prun": "ExecutionMagics",
        "pypy": "Other",
        "python": "Other",
        "python2": "Other",
        "python3": "Other",
        "ruby": "Other",
        "script": "ScriptMagics",
        "sh": "Other",
        "svg": "DisplayMagics",
        "sx": "OSMagics",
        "system": "OSMagics",
        "time": "ExecutionMagics",
        "timeit": "ExecutionMagics",
        "writefile": "OSMagics"
       },
       "line": {
        "alias": "OSMagics",
        "alias_magic": "BasicMagics",
        "autoawait": "AsyncMagics",
        "autocall": "AutoMagics",
        "automagic": "AutoMagics",
        "autosave": "KernelMagics",
        "bookmark": "OSMagics",
        "cat": "Other",
        "cd": "OSMagics",
        "clear": "KernelMagics",
        "code_wrap": "ExecutionMagics",
        "colors": "BasicMagics",
        "conda": "PackagingMagics",
        "config": "ConfigMagics",
        "connect_info": "KernelMagics",
        "cp": "Other",
        "debug": "ExecutionMagics",
        "dhist": "OSMagics",
        "dirs": "OSMagics",
        "doctest_mode": "BasicMagics",
        "ed": "Other",
        "edit": "KernelMagics",
        "env": "OSMagics",
        "gui": "BasicMagics",
        "hist": "Other",
        "history": "HistoryMagics",
        "killbgscripts": "ScriptMagics",
        "ldir": "Other",
        "less": "KernelMagics",
        "lf": "Other",
        "lk": "Other",
        "ll": "Other",
        "load": "CodeMagics",
        "load_ext": "ExtensionMagics",
        "loadpy": "CodeMagics",
        "logoff": "LoggingMagics",
        "logon": "LoggingMagics",
        "logstart": "LoggingMagics",
        "logstate": "LoggingMagics",
        "logstop": "LoggingMagics",
        "ls": "Other",
        "lsmagic": "BasicMagics",
        "lx": "Other",
        "macro": "ExecutionMagics",
        "magic": "BasicMagics",
        "mamba": "PackagingMagics",
        "man": "KernelMagics",
        "matplotlib": "PylabMagics",
        "micromamba": "PackagingMagics",
        "mkdir": "Other",
        "more": "KernelMagics",
        "mv": "Other",
        "notebook": "BasicMagics",
        "page": "BasicMagics",
        "pastebin": "CodeMagics",
        "pdb": "ExecutionMagics",
        "pdef": "NamespaceMagics",
        "pdoc": "NamespaceMagics",
        "pfile": "NamespaceMagics",
        "pinfo": "NamespaceMagics",
        "pinfo2": "NamespaceMagics",
        "pip": "PackagingMagics",
        "popd": "OSMagics",
        "pprint": "BasicMagics",
        "precision": "BasicMagics",
        "prun": "ExecutionMagics",
        "psearch": "NamespaceMagics",
        "psource": "NamespaceMagics",
        "pushd": "OSMagics",
        "pwd": "OSMagics",
        "pycat": "OSMagics",
        "pylab": "PylabMagics",
        "qtconsole": "KernelMagics",
        "quickref": "BasicMagics",
        "recall": "HistoryMagics",
        "rehashx": "OSMagics",
        "reload_ext": "ExtensionMagics",
        "rep": "Other",
        "rerun": "HistoryMagics",
        "reset": "NamespaceMagics",
        "reset_selective": "NamespaceMagics",
        "rm": "Other",
        "rmdir": "Other",
        "run": "ExecutionMagics",
        "save": "CodeMagics",
        "sc": "OSMagics",
        "set_env": "OSMagics",
        "store": "StoreMagics",
        "sx": "OSMagics",
        "system": "OSMagics",
        "tb": "ExecutionMagics",
        "time": "ExecutionMagics",
        "timeit": "ExecutionMagics",
        "unalias": "OSMagics",
        "unload_ext": "ExtensionMagics",
        "who": "NamespaceMagics",
        "who_ls": "NamespaceMagics",
        "whos": "NamespaceMagics",
        "xdel": "NamespaceMagics",
        "xmode": "BasicMagics"
       }
      },
      "text/plain": [
       "Available line magics:\n",
       "%alias  %alias_magic  %autoawait  %autocall  %automagic  %autosave  %bookmark  %cat  %cd  %clear  %code_wrap  %colors  %conda  %config  %connect_info  %cp  %debug  %dhist  %dirs  %doctest_mode  %ed  %edit  %env  %gui  %hist  %history  %killbgscripts  %ldir  %less  %lf  %lk  %ll  %load  %load_ext  %loadpy  %logoff  %logon  %logstart  %logstate  %logstop  %ls  %lsmagic  %lx  %macro  %magic  %mamba  %man  %matplotlib  %micromamba  %mkdir  %more  %mv  %notebook  %page  %pastebin  %pdb  %pdef  %pdoc  %pfile  %pinfo  %pinfo2  %pip  %popd  %pprint  %precision  %prun  %psearch  %psource  %pushd  %pwd  %pycat  %pylab  %qtconsole  %quickref  %recall  %rehashx  %reload_ext  %rep  %rerun  %reset  %reset_selective  %rm  %rmdir  %run  %save  %sc  %set_env  %store  %sx  %system  %tb  %time  %timeit  %unalias  %unload_ext  %who  %who_ls  %whos  %xdel  %xmode\n",
       "\n",
       "Available cell magics:\n",
       "%%!  %%HTML  %%SVG  %%bash  %%capture  %%code_wrap  %%debug  %%file  %%html  %%javascript  %%js  %%latex  %%markdown  %%perl  %%prun  %%pypy  %%python  %%python2  %%python3  %%ruby  %%script  %%sh  %%svg  %%sx  %%system  %%time  %%timeit  %%writefile\n",
       "\n",
       "Automagic is ON, % prefix IS NOT needed for line magics."
      ]
     },
     "execution_count": 42,
     "metadata": {},
     "output_type": "execute_result"
    }
   ],
   "source": [
    "# list all magic functions\n",
    "%lsmagic"
   ]
  },
  {
   "cell_type": "code",
   "execution_count": 4,
   "metadata": {},
   "outputs": [
    {
     "name": "stdout",
     "output_type": "stream",
     "text": [
      "{'alias': 'OSMagics',\n",
      " 'alias_magic': 'BasicMagics',\n",
      " 'autoawait': 'AsyncMagics',\n",
      " 'autocall': 'AutoMagics',\n",
      " 'automagic': 'AutoMagics',\n",
      " 'autosave': 'KernelMagics',\n",
      " 'bookmark': 'OSMagics',\n",
      " 'cd': 'OSMagics',\n",
      " 'clear': 'KernelMagics',\n",
      " 'cls': 'KernelMagics',\n",
      " 'code_wrap': 'ExecutionMagics',\n",
      " 'colors': 'BasicMagics',\n",
      " 'conda': 'PackagingMagics',\n",
      " 'config': 'ConfigMagics',\n",
      " 'connect_info': 'KernelMagics',\n",
      " 'copy': 'Other',\n",
      " 'ddir': 'Other',\n",
      " 'debug': 'ExecutionMagics',\n",
      " 'dhist': 'OSMagics',\n",
      " 'dirs': 'OSMagics',\n",
      " 'doctest_mode': 'BasicMagics',\n",
      " 'echo': 'Other',\n",
      " 'ed': 'Other',\n",
      " 'edit': 'KernelMagics',\n",
      " 'env': 'OSMagics',\n",
      " 'gui': 'BasicMagics',\n",
      " 'hist': 'Other',\n",
      " 'history': 'HistoryMagics',\n",
      " 'killbgscripts': 'ScriptMagics',\n",
      " 'ldir': 'Other',\n",
      " 'less': 'KernelMagics',\n",
      " 'load': 'CodeMagics',\n",
      " 'load_ext': 'ExtensionMagics',\n",
      " 'loadpy': 'CodeMagics',\n",
      " 'logoff': 'LoggingMagics',\n",
      " 'logon': 'LoggingMagics',\n",
      " 'logstart': 'LoggingMagics',\n",
      " 'logstate': 'LoggingMagics',\n",
      " 'logstop': 'LoggingMagics',\n",
      " 'ls': 'Other',\n",
      " 'lsmagic': 'BasicMagics',\n",
      " 'macro': 'ExecutionMagics',\n",
      " 'magic': 'BasicMagics',\n",
      " 'mamba': 'PackagingMagics',\n",
      " 'matplotlib': 'PylabMagics',\n",
      " 'micromamba': 'PackagingMagics',\n",
      " 'mkdir': 'Other',\n",
      " 'more': 'KernelMagics',\n",
      " 'notebook': 'BasicMagics',\n",
      " 'page': 'BasicMagics',\n",
      " 'pastebin': 'CodeMagics',\n",
      " 'pdb': 'ExecutionMagics',\n",
      " 'pdef': 'NamespaceMagics',\n",
      " 'pdoc': 'NamespaceMagics',\n",
      " 'pfile': 'NamespaceMagics',\n",
      " 'pinfo': 'NamespaceMagics',\n",
      " 'pinfo2': 'NamespaceMagics',\n",
      " 'pip': 'PackagingMagics',\n",
      " 'popd': 'OSMagics',\n",
      " 'pprint': 'BasicMagics',\n",
      " 'precision': 'BasicMagics',\n",
      " 'prun': 'ExecutionMagics',\n",
      " 'psearch': 'NamespaceMagics',\n",
      " 'psource': 'NamespaceMagics',\n",
      " 'pushd': 'OSMagics',\n",
      " 'pwd': 'OSMagics',\n",
      " 'pycat': 'OSMagics',\n",
      " 'pylab': 'PylabMagics',\n",
      " 'qtconsole': 'KernelMagics',\n",
      " 'quickref': 'BasicMagics',\n",
      " 'recall': 'HistoryMagics',\n",
      " 'rehashx': 'OSMagics',\n",
      " 'reload_ext': 'ExtensionMagics',\n",
      " 'ren': 'Other',\n",
      " 'rep': 'Other',\n",
      " 'rerun': 'HistoryMagics',\n",
      " 'reset': 'NamespaceMagics',\n",
      " 'reset_selective': 'NamespaceMagics',\n",
      " 'rmdir': 'Other',\n",
      " 'run': 'ExecutionMagics',\n",
      " 'save': 'CodeMagics',\n",
      " 'sc': 'OSMagics',\n",
      " 'set_env': 'OSMagics',\n",
      " 'store': 'StoreMagics',\n",
      " 'sx': 'OSMagics',\n",
      " 'system': 'OSMagics',\n",
      " 'tb': 'ExecutionMagics',\n",
      " 'time': 'ExecutionMagics',\n",
      " 'timeit': 'ExecutionMagics',\n",
      " 'unalias': 'OSMagics',\n",
      " 'unload_ext': 'ExtensionMagics',\n",
      " 'who': 'NamespaceMagics',\n",
      " 'who_ls': 'NamespaceMagics',\n",
      " 'whos': 'NamespaceMagics',\n",
      " 'xdel': 'NamespaceMagics',\n",
      " 'xmode': 'BasicMagics'}\n",
      "{'!': 'OSMagics',\n",
      " 'HTML': 'Other',\n",
      " 'SVG': 'Other',\n",
      " 'bash': 'Other',\n",
      " 'capture': 'ExecutionMagics',\n",
      " 'cmd': 'Other',\n",
      " 'code_wrap': 'ExecutionMagics',\n",
      " 'debug': 'ExecutionMagics',\n",
      " 'file': 'Other',\n",
      " 'html': 'DisplayMagics',\n",
      " 'javascript': 'DisplayMagics',\n",
      " 'js': 'DisplayMagics',\n",
      " 'latex': 'DisplayMagics',\n",
      " 'markdown': 'DisplayMagics',\n",
      " 'perl': 'Other',\n",
      " 'prun': 'ExecutionMagics',\n",
      " 'pypy': 'Other',\n",
      " 'python': 'Other',\n",
      " 'python2': 'Other',\n",
      " 'python3': 'Other',\n",
      " 'ruby': 'Other',\n",
      " 'script': 'ScriptMagics',\n",
      " 'sh': 'Other',\n",
      " 'svg': 'DisplayMagics',\n",
      " 'sx': 'OSMagics',\n",
      " 'system': 'OSMagics',\n",
      " 'time': 'ExecutionMagics',\n",
      " 'timeit': 'ExecutionMagics',\n",
      " 'writefile': 'OSMagics'}\n"
     ]
    }
   ],
   "source": [
    "x = %lsmagic\n",
    "import pprint\n",
    "x_json = x._repr_json_()\n",
    "pprint.pprint(x_json['line'])\n",
    "pprint.pprint(x_json['cell'])            "
   ]
  },
  {
   "cell_type": "code",
   "execution_count": 16,
   "metadata": {},
   "outputs": [
    {
     "name": "stdout",
     "output_type": "stream",
     "text": [
      "['load', 'cls', 'reset', 'timeit', 'unalias', 'ls', 'autoawait', 'pprint', 'run', 'hist', 'alias', 'reload_ext', 'logstate', 'sc', 'ScriptMagics', 'pdb', 'pushd', 'bookmark', 'AsyncMagics', 'lsmagic', 'prun', 'automagic', 'mkdir', 'cd', 'dirs', 'CodeMagics', 'ExecutionMagics', 'pycat', 'killbgscripts', 'who_ls', 'system', 'time', 'rehashx', 'more', 'less', 'pwd', 'mamba', 'whos', 'set_env', 'loadpy', 'autocall', 'macro', 'tb', 'ren', 'precision', 'history', 'pinfo', 'dhist', 'edit', 'env', 'echo', 'Other', 'rerun', 'OSMagics', 'load_ext', 'pinfo2', 'ConfigMagics', 'HistoryMagics', 'connect_info', 'PackagingMagics', 'store', 'unload_ext', 'recall', 'clear', 'page', 'magic', 'StoreMagics', 'ldir', 'ddir', 'pdoc', 'pastebin', 'pdef', 'ExtensionMagics', 'NamespaceMagics', 'save', 'quickref', 'doctest_mode', 'colors', 'ed', 'pip', 'debug', 'sx', 'reset_selective', 'PylabMagics', 'LoggingMagics', 'psearch', 'micromamba', 'qtconsole', 'psource', 'popd', 'AutoMagics', 'gui', 'alias_magic', 'notebook', 'xdel', 'conda', 'pylab', 'autosave', 'KernelMagics', 'logstart', 'pfile', 'xmode', 'logstop', 'logon', 'code_wrap', 'who', 'rep', 'BasicMagics', 'logoff', 'config', 'matplotlib', 'rmdir', 'copy']\n",
      "['js', 'SVG', 'cmd', 'timeit', 'debug', 'sx', 'system', 'time', 'perl', 'html', 'capture', 'python', 'ScriptMagics', '!', 'svg', 'bash', 'sh', 'pypy', 'prun', 'latex', 'markdown', 'javascript', 'python3', 'HTML', 'Other', 'writefile', 'ruby', 'file', 'DisplayMagics', 'code_wrap', 'OSMagics', 'ExecutionMagics', 'python2', 'script']\n"
     ]
    }
   ],
   "source": [
    "line_v_tos = list(set(x_json['line'].values()))\n",
    "line_vs = list(x_json['line'].keys()) + list(x_json['line'].values())\n",
    "line_vs=list(set(line_vs))\n",
    "print(line_vs)\n",
    "\n",
    "cell_vs = list(x_json['cell'].keys()) + list(x_json['cell'].values())\n",
    "print(list(set(cell_vs)))"
   ]
  },
  {
   "cell_type": "code",
   "execution_count": 22,
   "metadata": {},
   "outputs": [
    {
     "name": "stdout",
     "output_type": "stream",
     "text": [
      "Requirement already satisfied: igraph in d:\\software\\miniconda3\\lib\\site-packages (0.11.8)\n",
      "Requirement already satisfied: texttable>=1.6.2 in d:\\software\\miniconda3\\lib\\site-packages (from igraph) (1.7.0)\n"
     ]
    }
   ],
   "source": [
    "!pip install igraph\n",
    "import igraph as ig\n",
    "import matplotlib.pyplot as plt"
   ]
  },
  {
   "cell_type": "code",
   "execution_count": 46,
   "metadata": {},
   "outputs": [
    {
     "data": {
      "text/plain": [
       "<igraph.drawing.matplotlib.graph.GraphArtist at 0x2b1e5db9fd0>"
      ]
     },
     "execution_count": 46,
     "metadata": {},
     "output_type": "execute_result"
    },
    {
     "data": {
      "image/png": "[encoded data removed]",
      "text/plain": [
       "<Figure size 1000x1000 with 1 Axes>"
      ]
     },
     "metadata": {},
     "output_type": "display_data"
    }
   ],
   "source": [
    "g = ig.Graph()\n",
    "g.add_vertices(line_vs)\n",
    "g.add_edges([(k, v) for k, v in x_json['line'].items()])\n",
    "\n",
    "fig, ax = plt.subplots(figsize=(10,10))\n",
    "# args: https://python.igraph.org/en/stable/api/igraph.Graph.html#__plot__\n",
    "ig.plot(g, ax, \n",
    "    # layout=\"auto\",\n",
    "    layput=\"fruchterman_reingold\",\n",
    "    vertex_size=30,\n",
    "    vertex_color=[\"steelblue\" if v in line_v_tos else \"salmon\" for v in line_vs],\n",
    "    vertex_frame_width=4.0,\n",
    "    vertex_frame_color=\"white\",\n",
    "    vertex_label=line_vs,\n",
    "    vertex_label_size=7.0,\n",
    "    edge_width=0.7)"
   ]
  },
  {
   "cell_type": "markdown",
   "metadata": {},
   "source": [
    "## alias"
   ]
  },
  {
   "cell_type": "code",
   "execution_count": 6,
   "metadata": {},
   "outputs": [],
   "source": [
    "%alias show_scripts (cd ipython_scripts; ls; cd ..)"
   ]
  },
  {
   "cell_type": "code",
   "execution_count": 7,
   "metadata": {},
   "outputs": [
    {
     "name": "stdout",
     "output_type": "stream",
     "text": [
      "zsh:cd:1: no such file or directory: ipython_scripts\n",
      "helloworld.py\n"
     ]
    }
   ],
   "source": [
    "show_scripts"
   ]
  },
  {
   "cell_type": "markdown",
   "metadata": {},
   "source": [
    "## bookmark"
   ]
  },
  {
   "cell_type": "code",
   "execution_count": 5,
   "metadata": {},
   "outputs": [
    {
     "name": "stdout",
     "output_type": "stream",
     "text": [
      "Requirement already satisfied: pickleshare in /usr/local/lib/python3.11/site-packages (0.7.5)\n"
     ]
    }
   ],
   "source": [
    "!pip install pickleshare"
   ]
  },
  {
   "cell_type": "code",
   "execution_count": 1,
   "metadata": {},
   "outputs": [],
   "source": [
    "%bookmark scripts ./ipython_scripts \n",
    "%bookmark py ./ipython_scripts "
   ]
  },
  {
   "cell_type": "code",
   "execution_count": 2,
   "metadata": {},
   "outputs": [
    {
     "name": "stdout",
     "output_type": "stream",
     "text": [
      "Current bookmarks:\n",
      "py      -> ./ipython_scripts\n",
      "scripts -> ./ipython_scripts\n"
     ]
    }
   ],
   "source": [
    "%bookmark -l"
   ]
  },
  {
   "cell_type": "code",
   "execution_count": 3,
   "metadata": {},
   "outputs": [
    {
     "name": "stdout",
     "output_type": "stream",
     "text": [
      "(bookmark:py) -> ./ipython_scripts\n",
      "/Users/zhang/workspace/github/snippets/jupyter-notebooks/Python/ipython_scripts\n"
     ]
    }
   ],
   "source": [
    "%cd py"
   ]
  },
  {
   "cell_type": "code",
   "execution_count": 4,
   "metadata": {},
   "outputs": [
    {
     "name": "stdout",
     "output_type": "stream",
     "text": [
      "Current bookmarks:\n",
      "py -> ./ipython_scripts\n"
     ]
    }
   ],
   "source": [
    "# delete\n",
    "%bookmark -d scripts\n",
    "%bookmark -l"
   ]
  },
  {
   "cell_type": "markdown",
   "metadata": {},
   "source": [
    "# Running and Editing"
   ]
  },
  {
   "cell_type": "code",
   "execution_count": 11,
   "metadata": {},
   "outputs": [],
   "source": [
    "# NOT in GUI environment\n",
    "#%edit"
   ]
  },
  {
   "cell_type": "code",
   "execution_count": 8,
   "metadata": {},
   "outputs": [
    {
     "name": "stdout",
     "output_type": "stream",
     "text": [
      "hello world\n"
     ]
    }
   ],
   "source": [
    "%run ipython_scripts/helloworld.py"
   ]
  },
  {
   "cell_type": "code",
   "execution_count": 12,
   "metadata": {},
   "outputs": [
    {
     "name": "stdout",
     "output_type": "stream",
     "text": [
      "hello world\n",
      "\n",
      "IPython CPU timings (estimated):\n",
      "  User   :       0.00 s.\n",
      "  System :       0.00 s.\n",
      "Wall time:       0.04 s.\n"
     ]
    }
   ],
   "source": [
    "# timming\n",
    "%run -t ipython_scripts/helloworld.py"
   ]
  },
  {
   "cell_type": "code",
   "execution_count": 13,
   "metadata": {},
   "outputs": [
    {
     "name": "stdout",
     "output_type": "stream",
     "text": [
      "hello world\n",
      " "
     ]
    },
    {
     "name": "stdout",
     "output_type": "stream",
     "text": [
      "         176 function calls (175 primitive calls) in 0.023 seconds\n",
      "\n",
      "   Ordered by: internal time\n",
      "\n",
      "   ncalls  tottime  percall  cumtime  percall filename:lineno(function)\n",
      "        1    0.012    0.012    0.012    0.012 builtin_trap.py:39(__enter__)\n",
      "        1    0.004    0.004    0.023    0.023 interactiveshell.py:2888(safe_execfile)\n",
      "        2    0.004    0.002    0.005    0.003 iostream.py:655(write)\n",
      "        1    0.001    0.001    0.001    0.001 socket.py:626(send)\n",
      "        2    0.000    0.000    0.000    0.000 {built-in method io.open}\n",
      "        2    0.000    0.000    0.000    0.000 {built-in method posix.lstat}\n",
      "      2/1    0.000    0.000    0.023    0.023 {built-in method builtins.exec}\n",
      "        1    0.000    0.000    0.000    0.000 {built-in method builtins.compile}\n",
      "        1    0.000    0.000    0.000    0.000 {built-in method posix.getcwd}\n",
      "        2    0.000    0.000    0.000    0.000 pathlib.py:56(parse_parts)\n",
      "        2    0.000    0.000    0.000    0.000 pathlib.py:484(_parse_args)\n",
      "        1    0.000    0.000    0.000    0.000 {built-in method posix.stat}\n",
      "        1    0.000    0.000    0.000    0.000 pathlib.py:777(parent)\n",
      "        1    0.000    0.000    0.001    0.001 iostream.py:259(schedule)\n",
      "        1    0.000    0.000    0.000    0.000 <frozen posixpath>:421(_joinrealpath)\n",
      "        1    0.000    0.000    0.000    0.000 traitlets.py:676(__get__)\n",
      "        1    0.000    0.000    0.005    0.005 {built-in method builtins.print}\n",
      "        1    0.000    0.000    0.000    0.000 tz.py:74(utcoffset)\n",
      "        2    0.000    0.000    0.000    0.000 {method '__exit__' of '_io._IOBase' objects}\n",
      "        1    0.000    0.000    0.000    0.000 syspathcontext.py:64(__exit__)\n",
      "        2    0.000    0.000    0.000    0.000 pathlib.py:504(_from_parts)\n",
      "        6    0.000    0.000    0.000    0.000 pathlib.py:536(__str__)\n",
      "        2    0.000    0.000    0.000    0.000 iostream.py:505(parent_header)\n",
      "        1    0.000    0.000    0.000    0.000 <frozen posixpath>:397(abspath)\n",
      "        1    0.000    0.000    0.006    0.006 py3compat.py:51(execfile)\n",
      "        1    0.000    0.000    0.001    0.001 pathlib.py:981(resolve)\n",
      "        2    0.000    0.000    0.001    0.001 iostream.py:577(_schedule_flush)\n",
      "        3    0.000    0.000    0.000    0.000 <frozen posixpath>:71(join)\n",
      "        1    0.000    0.000    0.000    0.000 {method 'read' of '_io.BufferedReader' objects}\n",
      "        5    0.000    0.000    0.000    0.000 pathlib.py:546(__fspath__)\n",
      "        1    0.000    0.000    0.023    0.023 <string>:1(<module>)\n",
      "        1    0.000    0.000    0.000    0.000 <frozen posixpath>:412(realpath)\n",
      "       11    0.000    0.000    0.000    0.000 {built-in method sys.intern}\n",
      "        2    0.000    0.000    0.000    0.000 iostream.py:550(_is_master_process)\n",
      "        1    0.000    0.000    0.000    0.000 pathlib.py:868(__new__)\n",
      "        2    0.000    0.000    0.000    0.000 pathlib.py:239(splitroot)\n",
      "        1    0.000    0.000    0.000    0.000 syspathcontext.py:57(__enter__)\n",
      "        3    0.000    0.000    0.000    0.000 pathlib.py:523(_format_parsed_parts)\n",
      "        1    0.000    0.000    0.000    0.000 threading.py:1185(is_alive)\n",
      "        1    0.000    0.000    0.000    0.000 syspathcontext.py:54(__init__)\n",
      "       14    0.000    0.000    0.000    0.000 {built-in method builtins.isinstance}\n",
      "        1    0.000    0.000    0.000    0.000 pathlib.py:1036(open)\n",
      "        2    0.000    0.000    0.000    0.000 <frozen posixpath>:60(isabs)\n",
      "        1    0.000    0.000    0.005    0.005 helloworld.py:1(<module>)\n",
      "        5    0.000    0.000    0.000    0.000 {method 'startswith' of 'str' objects}\n",
      "        1    0.000    0.000    0.000    0.000 <frozen posixpath>:389(normpath)\n",
      "        1    0.000    0.000    0.000    0.000 traitlets.py:629(get)\n",
      "       10    0.000    0.000    0.000    0.000 {built-in method posix.fspath}\n",
      "        5    0.000    0.000    0.000    0.000 <frozen posixpath>:41(_get_sep)\n",
      "        3    0.000    0.000    0.000    0.000 {built-in method __new__ of type object at 0x1033edf10}\n",
      "        1    0.000    0.000    0.000    0.000 pathlib.py:1008(stat)\n",
      "       14    0.000    0.000    0.000    0.000 {method 'append' of 'list' objects}\n",
      "        1    0.000    0.000    0.000    0.000 pathlib.py:515(_from_parsed_parts)\n",
      "        1    0.000    0.000    0.000    0.000 threading.py:1118(_wait_for_tstate_lock)\n",
      "        3    0.000    0.000    0.000    0.000 {method 'join' of 'str' objects}\n",
      "        5    0.000    0.000    0.000    0.000 {built-in method builtins.len}\n",
      "        1    0.000    0.000    0.000    0.000 builtin_trap.py:46(__exit__)\n",
      "        2    0.000    0.000    0.000    0.000 {method 'split' of 'str' objects}\n",
      "        1    0.000    0.000    0.000    0.000 pathlib.py:1377(expanduser)\n",
      "        1    0.000    0.000    0.000    0.000 iostream.py:138(_event_pipe)\n",
      "        1    0.000    0.000    0.000    0.000 {method 'acquire' of '_thread.lock' objects}\n",
      "        1    0.000    0.000    0.000    0.000 {built-in method posix._path_normpath}\n",
      "        2    0.000    0.000    0.000    0.000 {method '__exit__' of '_thread.RLock' objects}\n",
      "        2    0.000    0.000    0.000    0.000 {method 'partition' of 'str' objects}\n",
      "        2    0.000    0.000    0.000    0.000 {method 'get' of '_contextvars.ContextVar' objects}\n",
      "        2    0.000    0.000    0.000    0.000 {method 'write' of '_io.StringIO' objects}\n",
      "        1    0.000    0.000    0.000    0.000 {method 'remove' of 'list' objects}\n",
      "        2    0.000    0.000    0.000    0.000 {method 'items' of 'dict' objects}\n",
      "        1    0.000    0.000    0.000    0.000 {method 'lstrip' of 'str' objects}\n",
      "        2    0.000    0.000    0.000    0.000 {built-in method posix.getpid}\n",
      "        2    0.000    0.000    0.000    0.000 {method 'endswith' of 'str' objects}\n",
      "        2    0.000    0.000    0.000    0.000 {built-in method _stat.S_ISLNK}\n",
      "        1    0.000    0.000    0.000    0.000 {method 'disable' of '_lsprof.Profiler' objects}\n",
      "        2    0.000    0.000    0.000    0.000 {method 'reverse' of 'list' objects}\n",
      "        1    0.000    0.000    0.000    0.000 {method 'insert' of 'list' objects}\n",
      "        2    0.000    0.000    0.000    0.000 typing.py:2233(cast)\n",
      "        1    0.000    0.000    0.000    0.000 threading.py:568(is_set)\n",
      "        1    0.000    0.000    0.000    0.000 {method 'append' of 'collections.deque' objects}"
     ]
    }
   ],
   "source": [
    "# profiler\n",
    "%run -p ipython_scripts/helloworld.py"
   ]
  },
  {
   "cell_type": "code",
   "execution_count": 14,
   "metadata": {},
   "outputs": [
    {
     "name": "stdout",
     "output_type": "stream",
     "text": [
      "Breakpoint 1 at /Users/zhang/workspace/github/snippets/jupyter-notebooks/Python/ipython_scripts/helloworld.py:1\n",
      "NOTE: Enter 'c' at the ipdb>  prompt to continue execution.\n",
      "> \u001b[0;32m/Users/zhang/workspace/github/snippets/jupyter-notebooks/Python/ipython_scripts/helloworld.py\u001b[0m(1)\u001b[0;36m<module>\u001b[0;34m()\u001b[0m\n",
      "\u001b[1;31m1\u001b[0;32m---> 1 \u001b[0;31m\u001b[0mprint\u001b[0m\u001b[0;34m(\u001b[0m\u001b[0;34m'hello world'\u001b[0m\u001b[0;34m)\u001b[0m\u001b[0;34m\u001b[0m\u001b[0;34m\u001b[0m\u001b[0m\n",
      "\u001b[0m\n",
      "hello world\n"
     ]
    }
   ],
   "source": [
    "# debugger\n",
    "%run -d ipython_scripts/helloworld.py"
   ]
  },
  {
   "cell_type": "code",
   "execution_count": 19,
   "metadata": {},
   "outputs": [
    {
     "name": "stdout",
     "output_type": "stream",
     "text": [
      "Largest one we saw: 11.950674634046297\n"
     ]
    }
   ],
   "source": [
    "# cProfile\n",
    "import numpy as np\n",
    "from numpy.linalg import eigvals\n",
    "\n",
    "def run_experiment(niter=100):\n",
    "  K = 100\n",
    "  results = []\n",
    "  for _ in range(niter):\n",
    "    mat = np.random.randn(K, K) # K*K\n",
    "    max_eigenvalue = np.abs(eigvals(mat)).max()\n",
    "    results.append(max_eigenvalue)\n",
    "  return results\n",
    "\n",
    "some_results = run_experiment()\n",
    "print('Largest one we saw: %s' % np.max(some_results)) "
   ]
  },
  {
   "cell_type": "code",
   "execution_count": 20,
   "metadata": {},
   "outputs": [
    {
     "name": "stdout",
     "output_type": "stream",
     "text": [
      " "
     ]
    },
    {
     "name": "stdout",
     "output_type": "stream",
     "text": [
      "         4004 function calls in 0.991 seconds\n",
      "\n",
      "   Ordered by: cumulative time\n",
      "   List reduced from 36 to 7 due to restriction <7>\n",
      "\n",
      "   ncalls  tottime  percall  cumtime  percall filename:lineno(function)\n",
      "        1    0.000    0.000    0.991    0.991 {built-in method builtins.exec}\n",
      "        1    0.000    0.000    0.991    0.991 <string>:1(<module>)\n",
      "        1    0.055    0.055    0.991    0.991 536348646.py:6(run_experiment)\n",
      "      100    0.915    0.009    0.934    0.009 _linalg.py:1141(eigvals)\n",
      "      100    0.001    0.000    0.006    0.000 fromnumeric.py:2611(all)\n",
      "      300    0.006    0.000    0.006    0.000 {method 'reduce' of 'numpy.ufunc' objects}\n",
      "      100    0.002    0.000    0.005    0.000 fromnumeric.py:89(_wrapreduction_any_all)"
     ]
    }
   ],
   "source": [
    "%prun -l 7 -s cumulative run_experiment()"
   ]
  },
  {
   "cell_type": "markdown",
   "metadata": {},
   "source": [
    "# Debugging"
   ]
  },
  {
   "cell_type": "code",
   "execution_count": 15,
   "metadata": {},
   "outputs": [],
   "source": [
    "def hello():\n",
    "    1 / 0"
   ]
  },
  {
   "cell_type": "code",
   "execution_count": 17,
   "metadata": {},
   "outputs": [
    {
     "ename": "ZeroDivisionError",
     "evalue": "division by zero",
     "output_type": "error",
     "traceback": [
      "\u001b[0;31m---------------------------------------------------------------------------\u001b[0m",
      "\u001b[0;31mZeroDivisionError\u001b[0m                         Traceback (most recent call last)",
      "Cell \u001b[0;32mIn[17], line 1\u001b[0m\n\u001b[0;32m----> 1\u001b[0m \u001b[43mhello\u001b[49m\u001b[43m(\u001b[49m\u001b[43m)\u001b[49m\n",
      "Cell \u001b[0;32mIn[15], line 2\u001b[0m, in \u001b[0;36mhello\u001b[0;34m()\u001b[0m\n\u001b[1;32m      1\u001b[0m \u001b[38;5;28;01mdef\u001b[39;00m \u001b[38;5;21mhello\u001b[39m():\n\u001b[0;32m----> 2\u001b[0m     \u001b[38;5;241;43m1\u001b[39;49m\u001b[43m \u001b[49m\u001b[38;5;241;43m/\u001b[39;49m\u001b[43m \u001b[49m\u001b[38;5;241;43m0\u001b[39;49m\n",
      "\u001b[0;31mZeroDivisionError\u001b[0m: division by zero"
     ]
    }
   ],
   "source": [
    "hello()"
   ]
  },
  {
   "cell_type": "code",
   "execution_count": 18,
   "metadata": {},
   "outputs": [
    {
     "name": "stdout",
     "output_type": "stream",
     "text": [
      "> \u001b[0;32m/var/folders/_8/xdwzpdgj0ps7wgh7llzxztk40000gn/T/ipykernel_13079/3236496171.py\u001b[0m(2)\u001b[0;36mhello\u001b[0;34m()\u001b[0m\n",
      "\u001b[0;32m      1 \u001b[0;31m\u001b[0;32mdef\u001b[0m \u001b[0mhello\u001b[0m\u001b[0;34m(\u001b[0m\u001b[0;34m)\u001b[0m\u001b[0;34m:\u001b[0m\u001b[0;34m\u001b[0m\u001b[0;34m\u001b[0m\u001b[0m\n",
      "\u001b[0m\u001b[0;32m----> 2 \u001b[0;31m    \u001b[0;36m1\u001b[0m \u001b[0;34m/\u001b[0m \u001b[0;36m0\u001b[0m\u001b[0;34m\u001b[0m\u001b[0;34m\u001b[0m\u001b[0m\n",
      "\u001b[0m\n"
     ]
    }
   ],
   "source": [
    "# 在发生异常后立即调用, 跳转到触发异常的栈帧\n",
    "%debug"
   ]
  },
  {
   "cell_type": "code",
   "execution_count": 19,
   "metadata": {},
   "outputs": [
    {
     "name": "stdout",
     "output_type": "stream",
     "text": [
      "Automatic pdb calling has been turned ON\n"
     ]
    }
   ],
   "source": [
    "# %pdb 在发生异常后自动调用调试器\n",
    "%pdb"
   ]
  },
  {
   "cell_type": "code",
   "execution_count": 20,
   "metadata": {},
   "outputs": [
    {
     "ename": "ZeroDivisionError",
     "evalue": "division by zero",
     "output_type": "error",
     "traceback": [
      "\u001b[0;31m---------------------------------------------------------------------------\u001b[0m",
      "\u001b[0;31mZeroDivisionError\u001b[0m                         Traceback (most recent call last)",
      "Cell \u001b[0;32mIn[20], line 1\u001b[0m\n\u001b[0;32m----> 1\u001b[0m \u001b[43mhello\u001b[49m\u001b[43m(\u001b[49m\u001b[43m)\u001b[49m\n",
      "Cell \u001b[0;32mIn[15], line 2\u001b[0m, in \u001b[0;36mhello\u001b[0;34m()\u001b[0m\n\u001b[1;32m      1\u001b[0m \u001b[38;5;28;01mdef\u001b[39;00m \u001b[38;5;21mhello\u001b[39m():\n\u001b[0;32m----> 2\u001b[0m     \u001b[38;5;241;43m1\u001b[39;49m\u001b[43m \u001b[49m\u001b[38;5;241;43m/\u001b[39;49m\u001b[43m \u001b[49m\u001b[38;5;241;43m0\u001b[39;49m\n",
      "\u001b[0;31mZeroDivisionError\u001b[0m: division by zero"
     ]
    },
    {
     "name": "stdout",
     "output_type": "stream",
     "text": [
      "> \u001b[0;32m/var/folders/_8/xdwzpdgj0ps7wgh7llzxztk40000gn/T/ipykernel_13079/3236496171.py\u001b[0m(2)\u001b[0;36mhello\u001b[0;34m()\u001b[0m\n",
      "\u001b[0;32m      1 \u001b[0;31m\u001b[0;32mdef\u001b[0m \u001b[0mhello\u001b[0m\u001b[0;34m(\u001b[0m\u001b[0;34m)\u001b[0m\u001b[0;34m:\u001b[0m\u001b[0;34m\u001b[0m\u001b[0;34m\u001b[0m\u001b[0m\n",
      "\u001b[0m\u001b[0;32m----> 2 \u001b[0;31m    \u001b[0;36m1\u001b[0m \u001b[0;34m/\u001b[0m \u001b[0;36m0\u001b[0m\u001b[0;34m\u001b[0m\u001b[0;34m\u001b[0m\u001b[0m\n",
      "\u001b[0m\n"
     ]
    }
   ],
   "source": [
    "hello()"
   ]
  },
  {
   "cell_type": "markdown",
   "metadata": {},
   "source": [
    "# History"
   ]
  },
  {
   "cell_type": "code",
   "execution_count": 1,
   "metadata": {},
   "outputs": [],
   "source": [
    "a = 1\n",
    "b = 2\n",
    "c = 3"
   ]
  },
  {
   "cell_type": "code",
   "execution_count": 2,
   "metadata": {},
   "outputs": [
    {
     "data": {
      "text/plain": [
       "1"
      ]
     },
     "execution_count": 2,
     "metadata": {},
     "output_type": "execute_result"
    }
   ],
   "source": [
    "a"
   ]
  },
  {
   "cell_type": "code",
   "execution_count": 3,
   "metadata": {},
   "outputs": [
    {
     "data": {
      "text/plain": [
       "2"
      ]
     },
     "execution_count": 3,
     "metadata": {},
     "output_type": "execute_result"
    }
   ],
   "source": [
    "b"
   ]
  },
  {
   "cell_type": "code",
   "execution_count": 4,
   "metadata": {},
   "outputs": [
    {
     "data": {
      "text/plain": [
       "3"
      ]
     },
     "execution_count": 4,
     "metadata": {},
     "output_type": "execute_result"
    }
   ],
   "source": [
    "c"
   ]
  },
  {
   "cell_type": "code",
   "execution_count": 5,
   "metadata": {},
   "outputs": [
    {
     "data": {
      "text/plain": [
       "(3, 2, 1)"
      ]
     },
     "execution_count": 5,
     "metadata": {},
     "output_type": "execute_result"
    }
   ],
   "source": [
    "# last three object\n",
    "_, __, ___"
   ]
  },
  {
   "cell_type": "code",
   "execution_count": 6,
   "metadata": {},
   "outputs": [
    {
     "name": "stdout",
     "output_type": "stream",
     "text": [
      "a = 1\n",
      "b = 2\n",
      "c = 3\n",
      "a\n",
      "b\n",
      "c\n",
      "# last three object\n",
      "_, __, ___\n",
      "%history\n"
     ]
    }
   ],
   "source": [
    "%history"
   ]
  },
  {
   "cell_type": "markdown",
   "metadata": {},
   "source": [
    "# System shell commands"
   ]
  },
  {
   "cell_type": "code",
   "execution_count": 7,
   "metadata": {},
   "outputs": [
    {
     "name": "stdout",
     "output_type": "stream",
     "text": [
      "/Users/zhang/workspace/github/snippets/jupyter-notebooks/Python\n",
      "Essential Python Libraries.ipynb \u001b[1m\u001b[36mmatplotlib\u001b[m\u001b[m\n",
      "OpenCV.ipynb                     \u001b[1m\u001b[36mnltk\u001b[m\u001b[m\n",
      "\u001b[1m\u001b[36mPractical Time Series Analysis\u001b[m\u001b[m   \u001b[1m\u001b[36mnumpy\u001b[m\u001b[m\n",
      "\u001b[1m\u001b[36mPython for Data Analysis\u001b[m\u001b[m         \u001b[1m\u001b[36mpandas\u001b[m\u001b[m\n",
      "Time Series Forecasting.ipynb    pandas-timeseries.ipynb\n",
      "WordNet.ipynb                    \u001b[1m\u001b[36mscikit-learn\u001b[m\u001b[m\n",
      "_ipython.ipynb                   \u001b[1m\u001b[36msympy\u001b[m\u001b[m\n",
      "\u001b[1m\u001b[36mdata\u001b[m\u001b[m                             \u001b[1m\u001b[36mtensorflow\u001b[m\u001b[m\n",
      "\u001b[1m\u001b[36mdataset\u001b[m\u001b[m                          tree-sitter.ipynb\n",
      "\u001b[1m\u001b[36mipython_scripts\u001b[m\u001b[m                  word2vec.ipynb\n",
      "lemon.ipynb\n"
     ]
    }
   ],
   "source": [
    "!pwd\n",
    "!ls"
   ]
  },
  {
   "cell_type": "code",
   "execution_count": 13,
   "metadata": {},
   "outputs": [
    {
     "name": "stdout",
     "output_type": "stream",
     "text": [
      "./_ipython.ipynb\n",
      "./_ipython.ipynb\n",
      "['./_ipython.ipynb']\n"
     ]
    }
   ],
   "source": [
    "file_suffix = 'ipynb'\n",
    "# pass argument: {var}, $var\n",
    "!find . | grep {file_suffix} | grep \"_ipython.ipynb\"\n",
    "!find . | grep $file_suffix | grep \"_ipython.ipynb\"\n",
    "# gather result\n",
    "x = !find . | grep {file_suffix} | grep \"_ipython.ipynb\"\n",
    "print(x)"
   ]
  },
  {
   "cell_type": "markdown",
   "metadata": {},
   "source": [
    "## Environment variables"
   ]
  },
  {
   "cell_type": "code",
   "execution_count": 2,
   "metadata": {},
   "outputs": [
    {
     "name": "stdout",
     "output_type": "stream",
     "text": [
      "env: ROOT_PWD=xxx\n",
      "xxx\n"
     ]
    }
   ],
   "source": [
    "%env ROOT_PWD=xxx\n",
    "!echo $ROOT_PWD"
   ]
  },
  {
   "cell_type": "markdown",
   "metadata": {},
   "source": [
    "## Windows"
   ]
  },
  {
   "cell_type": "code",
   "execution_count": 3,
   "metadata": {},
   "outputs": [
    {
     "data": {
      "text/plain": [
       "[' Volume in drive D is Data',\n",
       " ' Volume Serial Number is 8211-A311',\n",
       " '',\n",
       " ' Directory of d:\\\\GoogleDrive\\\\wiki\\\\jupyter-notebooks\\\\Python',\n",
       " '',\n",
       " '2025/01/25  15:46    <DIR>          .',\n",
       " '2025/01/25  15:49    <DIR>          ..',\n",
       " '2025/01/21  09:19    <DIR>          applications',\n",
       " '2024/12/31  09:38    <DIR>          books',\n",
       " '2024/12/17  09:41    <DIR>          dataset',\n",
       " '2025/01/25  15:46    <DIR>          tools',\n",
       " '2025/01/25  15:47    <DIR>          topics',\n",
       " '2025/01/22  10:54           148,876 _ipython.ipynb',\n",
       " '2024/11/04  09:23             2,827 _ipython_magics.ipynb',\n",
       " '2025/01/24  14:18             1,675 _KaTeX.ipynb',\n",
       " '               3 File(s)        153,378 bytes',\n",
       " '               7 Dir(s)  124,690,735,104 bytes free']"
      ]
     },
     "execution_count": 3,
     "metadata": {},
     "output_type": "execute_result"
    }
   ],
   "source": [
    "out = !DIR\n",
    "out"
   ]
  },
  {
   "cell_type": "markdown",
   "metadata": {},
   "source": [
    "## Auto refresh output\n",
    "* `os.system(\"ls -al\")`\n",
    "* `subprocess.Popen(\"ls -al\", shell=True)`\n",
    "* `subprocess.run([\"ls\", \"-al\"], shell=True)`"
   ]
  },
  {
   "cell_type": "code",
   "execution_count": null,
   "metadata": {},
   "outputs": [
    {
     "name": "stdout",
     "output_type": "stream",
     "text": [
      "\u001b[14A\u001b[L\u001b[1;75H2\u001b[3;14H2\u001b[5;20H1\u001b[5;36H 99\u001b[6;32H3.6\u001b[6;47H8.6\u001b[7;62H1.7\u001b[10;3H19595 zhoujia+  20   0  823100  69516  15476 S   6.7   0.4   0:02.76 python3\u001b[14B+[24;5H160 avahi     20   0    7704   3656   3320 S   0.0   0.0   0:00.19 avahi-d+:14.08 node\u001b[24;80H6   1444   1320 S   0.0   0.0   0:00.00 init-sy+\u001b[12;7H7 root\u001b[6C20   0    2628    140    132 S   0.0   0.0   0:00.00 init\u001b[13;6H37 root\u001b[6C19  -1   47680  15444  14352 S   0.0   0.1   0:00.16 systemd+\u001b[14;6H61 root\u001b[6C20   0   22740   6628   4556 S   0.0   0.0   0:00.22 systemd+\u001b[15;6H78 root\u001b[6C20   0  668328  10024    232 S   0.0   0.1   0:00.13 snapfuse\u001b[16;6H80 root\u001b[6C20   0   85720    236     52 S   0.0   0.0   0:00.00 snapfuse\u001b[17;6H82 root\u001b[6C20   0  151388    568    304 S   0.0   0.0   0:00.00 snapfuse\u001b[18;6H87 root\u001b[6C20   0   85720    224     40 S   0.0   0.0   0:00.00 snapfuse\u001b[19;6H93 root\u001b[6C20   0   85720    200     16 S   0.0   0.0   0:00.00 snapfuse\u001b[20;5H100 root\u001b[6C20   0  151388    516    232 S   0.0   0.0   0:00.00 snapfuse\u001b[21;5H104 root\u001b[6C20   0   85720    228     40 S   0.0   0.0   0:00.00 snapfuse\u001b[22;5H108 root\u001b[6C20   0  594328  14488    312 S   0.0   0.1   0:01.88 snapfuse\u001b[23;5H125 systemd+  20   0   16068   7964   6956 S   0.0   0.0   0:00.11 systemd+\u001b[24;5H160 avahi     20   0    7704   3656   3320 S   0.0   0.0   0:00.19 avahi-d+\u001b[1;75H1\u001b[3;14H1\u001b[5;11H0\u001b[5;20H0.0\u001b[5;38H9.7\u001b[6;34H7\u001b[6;49H5\u001b[6;64H2\u001b[18\u001b[10;3H19595\u001b[10;27H823100  69512  15476 S   6.7   0.4   0:02.43 python3\u001b[14B+\u001b[1;75H2\u001b[3;14H3\u001b[0\u001b[5;22H3\u001b[6;32H0.2\u001b[6;46H82.0\u001b[7;61H48.3\u001b[10;70H7\u001b[24;80H\u001b[1;74H51\u001b[3;14H1\u001b[6;34H5\u001b[6;49H7\u001b[7;64H6\u001b[24;80H\u001b[1;75H3\u001b[3;14H3\u001b[5;20H0\u001b[5;36H100\u001b[6;34H8\u001b[6;49H4\u001b[7;64H9\u001b[10;69H80\u001b[24;80H\u001b[1;75H4\u001b[3;14H4\u001b[3;53H1\u001b[5;13H3\u001b[5;36H 99\u001b[5;49H6\u001b[6;32H4\u001b[6;47H7\u001b[7;62H2\u001b[10;54H2\u001b[10;70H3\u001b[24;80H"
     ]
    }
   ],
   "source": [
    "!watch -n 1 \"top -n 1 -b\""
   ]
  },
  {
   "cell_type": "code",
   "execution_count": 1,
   "metadata": {},
   "outputs": [
    {
     "name": "stdout",
     "output_type": "stream",
     "text": [
      "top - 11:02:57 up  1:53,  1 user,  load average: 0.63, 0.36, 0.13\n",
      "Tasks:  89 total,   1 running,  88 sleeping,   0 stopped,   0 zombie\n",
      "%Cpu(s):  0.0 us,  0.0 sy,  0.0 ni,100.0 id,  0.0 wa,  0.0 hi,  0.0 si,  0.0 st\n",
      "MiB Mem :  15858.4 total,  12958.1 free,   2429.5 used,    470.8 buff/cache\n",
      "MiB Swap:   4096.0 total,   4096.0 free,      0.0 used.  13100.9 avail Mem \n",
      "\n",
      "    PID USER      PR  NI    VIRT    RES    SHR S  %CPU  %MEM     TIME+ COMMAND\n",
      "      1 root      20   0  165932  11296   8212 S   0.0   0.1   0:00.47 systemd\n",
      "      2 root      20   0    2616   1444   1320 S   0.0   0.0   0:00.00 init-sy+\n",
      "      7 root      20   0    2628    140    132 S   0.0   0.0   0:00.00 init\n",
      "     37 root      19  -1   47680  15444  14352 S   0.0   0.1   0:00.16 systemd+\n",
      "     61 root      20   0   22740   6628   4556 S   0.0   0.0   0:00.23 systemd+\n",
      "     78 root      20   0  668328  10024    232 S   0.0   0.1   0:00.13 snapfuse\n",
      "     80 root      20   0   85720    236     52 S   0.0   0.0   0:00.00 snapfuse\n",
      "     82 root      20   0  151388    568    304 S   0.0   0.0   0:00.00 snapfuse\n",
      "     87 root      20   0   85720    224     40 S   0.0   0.0   0:00.00 snapfuse\n",
      "     93 root      20   0   85720    200     16 S   0.0   0.0   0:00.00 snapfuse\n",
      "    100 root      20   0  151388    516    232 S   0.0   0.0   0:00.00 snapfuse\n",
      "    104 root      20   0   85720    228     40 S   0.0   0.0   0:00.00 snapfuse\n",
      "    108 root      20   0  594328  14488    312 S   0.0   0.1   0:01.88 snapfuse\n",
      "    125 systemd+  20   0   16068   7964   6956 S   0.0   0.0   0:00.11 systemd+\n",
      "    160 avahi     20   0    7704   3656   3320 S   0.0   0.0   0:00.20 avahi-d+\n",
      "    165 message+  20   0    8760   4648   4112 S   0.0   0.0   0:00.03 dbus-da+\n",
      "    249 root      20   0  234492   6672   6040 S   0.0   0.0   0:00.01 polkitd\n",
      "    251 syslog    20   0  222400   5280   4452 S   0.0   0.0   0:00.03 rsyslogd\n",
      "    256 root      20   0 1912576  43712  18064 S   0.0   0.3   0:00.73 snapd\n",
      "    261 root      20   0   15288   7224   6304 S   0.0   0.0   0:00.09 systemd+\n",
      "    266 root      20   0  392916  12768  10564 S   0.0   0.1   0:00.06 udisksd\n",
      "    272 avahi     20   0    7440    336      0 S   0.0   0.0   0:00.00 avahi-d+\n",
      "    291 root      20   0  316936  11572   9984 S   0.0   0.1   0:00.05 ModemMa+\n",
      "    305 systemd+  20   0   25604  12660   8308 S   0.0   0.1   0:00.11 systemd+\n",
      "    354 root      20   0    7284   2756   2496 S   0.0   0.0   0:00.01 cron\n",
      "    361 daemon    20   0    3860   1268   1124 S   0.0   0.0   0:00.00 atd\n",
      "    369 root      20   0    6216   1060    972 S   0.0   0.0   0:00.00 agetty\n",
      "    372 root      20   0    6172   1076    988 S   0.0   0.0   0:00.00 agetty\n",
      "    374 root      20   0   55172   2328    668 S   0.0   0.0   0:00.00 nginx\n",
      "    375 www-data  20   0   55844   5580   3656 S   0.0   0.0   0:00.00 nginx\n",
      "    376 www-data  20   0   55844   5580   3656 S   0.0   0.0   0:00.00 nginx\n",
      "    377 www-data  20   0   55844   5580   3656 S   0.0   0.0   0:00.00 nginx\n",
      "    378 www-data  20   0   55844   5580   3656 S   0.0   0.0   0:00.00 nginx\n",
      "    379 www-data  20   0   55844   5580   3656 S   0.0   0.0   0:00.00 nginx\n",
      "    380 www-data  20   0   55844   5580   3656 S   0.0   0.0   0:00.00 nginx\n",
      "    381 www-data  20   0   55844   5580   3656 S   0.0   0.0   0:00.00 nginx\n",
      "    382 www-data  20   0   55844   5580   3656 S   0.0   0.0   0:00.00 nginx\n",
      "    383 www-data  20   0   55844   5580   3656 S   0.0   0.0   0:00.00 nginx\n",
      "    384 www-data  20   0   55844   5580   3656 S   0.0   0.0   0:00.00 nginx\n",
      "    385 www-data  20   0   55844   5580   3656 S   0.0   0.0   0:00.00 nginx\n",
      "    386 www-data  20   0   55844   5580   3656 S   0.0   0.0   0:00.00 nginx\n",
      "    387 www-data  20   0   55844   5580   3656 S   0.0   0.0   0:00.00 nginx\n",
      "    388 www-data  20   0   55844   5580   3656 S   0.0   0.0   0:00.00 nginx\n",
      "    389 www-data  20   0   55844   5580   3656 S   0.0   0.0   0:00.00 nginx\n",
      "    390 www-data  20   0   55844   5580   3656 S   0.0   0.0   0:00.00 nginx\n",
      "    393 www-data  20   0   55844   5580   3656 S   0.0   0.0   0:00.00 nginx\n",
      "    394 www-data  20   0   55844   5580   3656 S   0.0   0.0   0:00.00 nginx\n",
      "    395 www-data  20   0   55844   5580   3656 S   0.0   0.0   0:00.00 nginx\n",
      "    396 www-data  20   0   55844   5580   3656 S   0.0   0.0   0:00.00 nginx\n",
      "    555 root      20   0    7516   5028   4108 S   0.0   0.0   0:00.01 login\n",
      "    590 zhoujia+  20   0   17032   9356   7776 S   0.0   0.1   0:00.04 systemd\n",
      "    591 root      20   0    2624    128      0 S   0.0   0.0   0:00.00 Session+\n",
      "    592 zhoujia+  20   0  168980   3592     16 S   0.0   0.0   0:00.00 (sd-pam)\n",
      "    593 root      20   0    2624    136      0 S   0.0   0.0   0:00.00 Relay(5+\n",
      "    594 zhoujia+  20   0    2888    980    884 S   0.0   0.0   0:00.00 sh\n",
      "    599 zhoujia+  20   0    2888    980    884 S   0.0   0.0   0:00.00 sh\n",
      "    601 zhoujia+  20   0   10720   6212   4508 S   0.0   0.0   0:00.04 zsh\n",
      "    658 zhoujia+  20   0    2888    952    860 S   0.0   0.0   0:00.00 sh\n",
      "    662 zhoujia+  20   0   11.3g 111768  47448 S   0.0   0.7   0:14.30 node\n",
      "    673 root      20   0    2644    128      0 S   0.0   0.0   0:00.00 Session+\n",
      "    674 root      20   0    2644    140      0 S   0.0   0.0   0:00.32 Relay(6+\n",
      "    678 zhoujia+  20   0 1001020  60868  39804 S   0.0   0.4   0:01.19 node\n",
      "    689 root      20   0    2644    128      0 S   0.0   0.0   0:00.00 Session+\n",
      "    690 root      20   0    2644    140      0 S   0.0   0.0   0:01.91 Relay(6+\n",
      "    691 zhoujia+  20   0  992152  51888  39804 S   0.0   0.3   0:05.83 node\n",
      "    698 zhoujia+  20   0   11.2g  75296  43908 S   0.0   0.5   0:03.59 node\n",
      "    744 zhoujia+  20   0   31.7g 382260  56488 S   0.0   2.4   2:17.41 node\n",
      "    860 zhoujia+  20   0  127052  84972  12072 S   0.0   0.5   0:12.51 cpptools\n",
      "   1240 root      20   0    2624    128      0 S   0.0   0.0   0:00.00 Session+\n",
      "   1241 root      20   0    2624    136      0 S   0.0   0.0   0:00.00 Relay(1+\n",
      "   1242 zhoujia+  20   0    2888    952    860 S   0.0   0.0   0:00.00 sh\n",
      "   1243 zhoujia+  20   0    2888   1756   1648 S   0.0   0.0   0:00.00 sh\n",
      "   1253 zhoujia+  20   0  991716  49748  41000 S   0.0   0.3   0:00.06 node\n",
      "   1292 zhoujia+  20   0    2892    952    856 S   0.0   0.0   0:00.00 sh\n",
      "   1316 zhoujia+  20   0 7409936 102408  21624 S   0.0   0.6   0:09.60 java\n",
      "   1504 root      20   0    2624    128      0 S   0.0   0.0   0:00.00 Session+\n",
      "   1505 root      20   0    2624    136      0 S   0.0   0.0   0:00.11 Relay(1+\n",
      "   1506 zhoujia+  20   0   14528   7872   5220 S   0.0   0.0   0:00.60 zsh\n",
      "   1727 zhoujia+  20   0    2892   1000    900 S   0.0   0.0   0:00.00 sh\n",
      "   1728 zhoujia+  20   0 7478828 127312  21464 S   0.0   0.8   0:09.52 java\n",
      "  10484 zhoujia+  20   0    5352   4308   3372 S   0.0   0.0   0:01.80 pet\n",
      "  10668 zhoujia+  20   0   11.0g  68292  44480 S   0.0   0.4   0:05.27 node\n",
      "  10680 zhoujia+  20   0   11664   7068   4428 S   0.0   0.0   0:00.21 zsh\n",
      "  10742 zhoujia+  20   0  995120  64852  41676 S   0.0   0.4   0:00.93 node\n",
      "  10784 zhoujia+  20   0 5929888 995.8m  54432 S   0.0   6.3   1:50.05 node\n",
      "  13498 zhoujia+  20   0  421268  44748   9440 S   0.0   0.3   0:01.33 python3\n",
      "  23084 zhoujia+  20   0  683700  68200  15636 S   0.0   0.4   0:00.33 python3\n",
      "  23763 zhoujia+  20   0  821984  65216  15596 S   0.0   0.4   0:00.45 python3\n",
      "  23944 zhoujia+  20   0   10772   3776   3168 R   0.0   0.0   0:00.00 top\n",
      "Bye\n"
     ]
    }
   ],
   "source": [
    "import os\n",
    "import subprocess\n",
    "import time\n",
    "from IPython.display import display, clear_output, display_pretty\n",
    "\n",
    "try:\n",
    "  while True:\n",
    "    # os.system(\"ls -al\")\n",
    "    # os.system(\"top\")\n",
    "    output = !top -n 1 -b\n",
    "    for o in output:\n",
    "      print(o)\n",
    "    # output = subprocess.run([\"ls\", \"-al\"], capture_output=True, text=True)\n",
    "    # display(output.stdout)\n",
    "    # subprocess.run([\"ls\", \"-al\"], capture_output=False, text=False)\n",
    "    # subprocess.run([\"top\"], capture_output=False, stdout=subprocess.PIPE)\n",
    "    time.sleep(1)\n",
    "    clear_output(wait=True)\n",
    "except KeyboardInterrupt:\n",
    "  print(\"Bye\")"
   ]
  },
  {
   "cell_type": "markdown",
   "metadata": {},
   "source": [
    "# Rich Outputs"
   ]
  },
  {
   "cell_type": "code",
   "execution_count": 17,
   "metadata": {},
   "outputs": [
    {
     "data": {
      "text/plain": [
       "{'a': 1, 'b': 2}"
      ]
     },
     "metadata": {},
     "output_type": "display_data"
    }
   ],
   "source": [
    "from IPython.display import display\n",
    "a = {'a': 1, 'b': 2}\n",
    "display(a)"
   ]
  },
  {
   "cell_type": "code",
   "execution_count": 18,
   "metadata": {},
   "outputs": [
    {
     "name": "stdout",
     "output_type": "stream",
     "text": [
      "Available matplotlib backends: ['agg', 'auto', 'cairo', 'gtk3', 'gtk3agg', 'gtk3cairo', 'gtk4', 'gtk4agg', 'gtk4cairo', 'inline', 'macosx', 'nbagg', 'notebook', 'osx', 'pdf', 'pgf', 'ps', 'qt', 'qt5', 'qt5agg', 'qt5cairo', 'qt6', 'qtagg', 'qtcairo', 'svg', 'template', 'tk', 'tkagg', 'tkcairo', 'webagg', 'wx', 'wx', 'wxagg', 'wxcairo']\n"
     ]
    }
   ],
   "source": [
    "# list all backends of matplotlib\n",
    "%matplotlib --list"
   ]
  },
  {
   "cell_type": "markdown",
   "metadata": {},
   "source": [
    "# Running A Cell In A Background Thread"
   ]
  },
  {
   "cell_type": "code",
   "execution_count": null,
   "metadata": {},
   "outputs": [
    {
     "name": "stdout",
     "output_type": "stream",
     "text": [
      "Step 0 at time 0.0010004043579101562\n"
     ]
    },
    {
     "name": "stdout",
     "output_type": "stream",
     "text": [
      "Step 1 at time 1.0247523784637451\n",
      "Step 2 at time 2.025313138961792\n",
      "Step 3 at time 3.0259838104248047\n",
      "Step 4 at time 4.027511835098267\n",
      "Step 5 at time 5.02941107749939\n",
      "Step 6 at time 6.030925512313843\n",
      "Step 7 at time 7.032182216644287\n",
      "Step 8 at time 8.032843589782715\n",
      "Step 9 at time 9.034812688827515\n",
      "Bye\n"
     ]
    }
   ],
   "source": [
    "import threading\n",
    "# import multiprocessing\n",
    "import time\n",
    "t0 = time.time()\n",
    "\n",
    "# Running A Cell In A Background Thread\n",
    "# https://discourse.jupyter.org/t/running-a-cell-in-a-background-thread/12267/2\n",
    "t_DONE = False\n",
    "def network_call():\n",
    "    i = 0\n",
    "    while not t_DONE:\n",
    "        print(f\"Step {i} at time {time.time() - t0}\")\n",
    "        time.sleep(1)\n",
    "        i = i + 1\n",
    "\n",
    "    print('Bye')\n",
    "\n",
    "t = threading.Thread(target=network_call)\n",
    "t.start()\n",
    "# multiprocessing.Process(target=client2_listen).start()"
   ]
  },
  {
   "cell_type": "code",
   "execution_count": 3,
   "metadata": {},
   "outputs": [
    {
     "name": "stdout",
     "output_type": "stream",
     "text": [
      "Output from another cell\n"
     ]
    }
   ],
   "source": [
    "print(\"Output from another cell\")"
   ]
  },
  {
   "cell_type": "code",
   "execution_count": 4,
   "metadata": {},
   "outputs": [],
   "source": [
    "# Stop the background thread\n",
    "t_DONE = True"
   ]
  },
  {
   "cell_type": "markdown",
   "metadata": {},
   "source": [
    "# Interrupt"
   ]
  },
  {
   "cell_type": "code",
   "execution_count": 1,
   "metadata": {},
   "outputs": [
    {
     "name": "stdout",
     "output_type": "stream",
     "text": [
      "Bye\n"
     ]
    }
   ],
   "source": [
    "try:\n",
    "    while True:\n",
    "        pass\n",
    "except KeyboardInterrupt:\n",
    "    print(\"Bye\")"
   ]
  }
 ],
 "metadata": {
  "kernelspec": {
   "display_name": "Python 3",
   "language": "python",
   "name": "python3"
  },
  "language_info": {
   "codemirror_mode": {
    "name": "ipython",
    "version": 3
   },
   "file_extension": ".py",
   "mimetype": "text/x-python",
   "name": "python",
   "nbconvert_exporter": "python",
   "pygments_lexer": "ipython3",
   "version": "3.12.7"
  },
  "toc": {
   "base_numbering": 1,
   "nav_menu": {},
   "number_sections": true,
   "sideBar": true,
   "skip_h1_title": false,
   "title_cell": "Table of Contents",
   "title_sidebar": "Contents",
   "toc_cell": false,
   "toc_position": {},
   "toc_section_display": true,
   "toc_window_display": true
  }
 },
 "nbformat": 4,
 "nbformat_minor": 4
}
