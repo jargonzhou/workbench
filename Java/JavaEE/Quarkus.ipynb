{
 "cells": [
  {
   "cell_type": "markdown",
   "metadata": {},
   "source": [
    "# Quarkus\n",
    "\n",
    "> What is Quarkus?\n",
    "\n",
    "Traditional Java stacks were engineered for monolithic applications with long startup times and large memory requirements in a world where the cloud, containers, and Kubernetes did not exist. Java frameworks needed to evolve to meet the needs of this new world.\n",
    "\n",
    "Quarkus was created to enable Java developers to create applications for a modern, cloud-native world. Quarkus is a Kubernetes-native Java framework tailored for GraalVM and HotSpot, crafted from best-of-breed Java libraries and standards. The goal is to make Java the leading platform in Kubernetes and serverless environments while offering developers a framework to address a wider range of distributed application architectures.\n",
    "\n",
    "\n",
    "- [Doc](https://quarkus.io/guides/)\n",
    "\t- [Quarkus documentation content types](https://quarkus.io/guides/doc-concept)\n",
    "- [Code](https://github.com/quarkusio/quarkus)\n",
    "\n",
    "Books:\n",
    "- Reactive Systems in Java\n",
    "- Quarkus Cookbook\n",
    "- Kubernetes Native Microservices with Quarkus and MicroProfile"
   ]
  },
  {
   "cell_type": "markdown",
   "metadata": {},
   "source": [
    "# Eclipse MicroProfile\n",
    "- [[Eclipse MicroProfile]]"
   ]
  },
  {
   "cell_type": "markdown",
   "metadata": {},
   "source": [
    "# Eclipse Vert.x\n",
    "- [[code.Eclipse Vert.x]]\n",
    "- book: [[book.Vert.x in Action]]"
   ]
  },
  {
   "cell_type": "markdown",
   "metadata": {},
   "source": [
    "# SmallRye\n",
    "> [!note] SmallRye\n",
    "> Helping Java Developers deliver for tomorrow\n",
    ">\n",
    "APIs and implementations tailored for Cloud development, including, but not limited to, Eclipse MicroProfile\n",
    "\n",
    "Home: https://smallrye.io/\n",
    "Code: [https://github.com/smallrye](https://github.com/smallrye)\n",
    "- [SmallRye JWT](https://smallrye.io/docs/smallrye-jwt/index.html)\n",
    "- [SmallRye Metrics](https://smallrye.io/docs/smallrye-metrics/3.0.0/index.html)\n",
    "\t- https://quarkus.io/guides/smallrye-metrics\n",
    "- [SmallRye Fault Tolerance](https://smallrye.io/docs/smallrye-fault-tolerance/6.2.6/index.html)\n",
    "\t- https://quarkus.io/guides/smallrye-fault-tolerance\n",
    "- [SmallRye Health](https://smallrye.io/docs/smallrye-health/3.0.1/index.html)\n",
    "\t- https://quarkus.io/guides/smallrye-health\n",
    "- SmallRye GraphQL\n",
    "\t- https://quarkus.io/guides/smallrye-graphql\n",
    "\t- https://quarkus.io/guides/smallrye-graphql-client\n",
    "- SmallRye Mutiny [https://smallrye.io/smallrye-mutiny/latest/](https://smallrye.io/smallrye-mutiny/latest/)\n",
    "> [!note] Mutiny\n",
    "> Intuitive Event-Driven Reactive Programming Library for Java\n"
   ]
  },
  {
   "cell_type": "markdown",
   "metadata": {},
   "source": [
    "# Hibernate\n",
    "- [Home](https://hibernate.org/)"
   ]
  },
  {
   "cell_type": "markdown",
   "metadata": {},
   "source": [
    "# Netty\n",
    "- [Home](https://netty.io/)"
   ]
  },
  {
   "cell_type": "markdown",
   "metadata": {},
   "source": [
    "# RESTEasy\n",
    "- [Home](https://resteasy.github.io/)"
   ]
  },
  {
   "cell_type": "markdown",
   "metadata": {},
   "source": [
    "# Apache Camel\n",
    "- [Home](https://camel.apache.org/)"
   ]
  }
 ],
 "metadata": {
  "language_info": {
   "name": "python"
  }
 },
 "nbformat": 4,
 "nbformat_minor": 2
}
