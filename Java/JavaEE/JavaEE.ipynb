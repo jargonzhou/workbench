{
 "cells": [
  {
   "cell_type": "markdown",
   "metadata": {},
   "source": [
    "# JavaEE\n",
    "* [Spring.ipynb](./Spring.ipynb)\n",
    "* [MyBatis.ipynb](./MyBatis.ipynb)\n",
    "* [Netty.ipynb](./Netty.ipynb)\n",
    "* [Dubbo.ipynb](./Dubbo.ipynb)\n",
    "* [Quartz.ipynb](./Quartz.ipynb)\n",
    "* [xxl-job.ipynb](./xxl-job.ipynb)"
   ]
  },
  {
   "cell_type": "markdown",
   "metadata": {},
   "source": [
    "# Eclipse MicroProfile\n",
    "- [Home](https://microprofile.io/)\n",
    "- [Project](https://projects.eclipse.org/projects/technology.microprofile)\n",
    "- [Starter](https://start.microprofile.io/)\n",
    "\n",
    "> Optimizing Enterprise Java for a Microservices Architecture"
   ]
  },
  {
   "cell_type": "markdown",
   "metadata": {},
   "source": [
    "## Specification\n",
    "* https://microprofile.io/specifications/"
   ]
  },
  {
   "cell_type": "markdown",
   "metadata": {},
   "source": [
    "- [releases](https://github.com/eclipse/microprofile/releases)\n",
    "\t- [v6.1](https://download.eclipse.org/microprofile/microprofile-6.1/microprofile-spec-6.1.html)\n",
    "- [Core](https://jakarta.ee/specifications/coreprofile/10/) \n",
    "- [Telemetry](https://github.com/eclipse/microprofile-telemetry/releases/tag/1.1): Platfrom\n",
    "- [Open API](https://github.com/eclipse/microprofile-open-api/releases/tag/3.1.1): Platfrom\n",
    "- [Rest Client](https://github.com/eclipse/microprofile-rest-client/releases/tag/3.0.1): Platfrom\n",
    "- [Config](https://github.com/eclipse/microprofile-config/releases/tag/3.1): Platfrom\n",
    "- [Fault Tolerance](https://github.com/eclipse/microprofile-fault-tolerance/releases/tag/4.0.2): Platfrom\n",
    "- [Metrix](https://github.com/eclipse/microprofile-metrics/releases/tag/5.1.0): Platfrom\n",
    "- [JWT Authentication](https://github.com/eclipse/microprofile-jwt-auth/releases/tag/2.1): Platfrom\n",
    "- [Health](https://github.com/eclipse/microprofile-health/releases/tag/4.0.1): Platfrom\n",
    "- Open Tracing: Standalone\n",
    "- LRA(Long Running Actions): Standalone\n",
    "- Reactive Messaging: Standalone\n",
    "- GraphQL: Standalone\n",
    "- Reactive Streams Operators: Standalone\n",
    "- Context Propagation: Standalone"
   ]
  },
  {
   "cell_type": "markdown",
   "metadata": {},
   "source": [
    "\n",
    "## Jakarta EE 10 Core Profile\n",
    "MicroProfile 6.0 and above requires [Jakarta EE 10 Core Profile](https://jakarta.ee/specifications/coreprofile/10/) support.\n",
    "- Jakarta Annotations 2.1\n",
    "- Jakarta Contexts and Dependency Injection (Lite Section) 4.0\n",
    "- Jakarta Dependency Injection 2.0\n",
    "- Jakarta Interceptors 2.1\n",
    "- Jakarta JSON Binding 3.0\n",
    "- Jakarta JSON Processing 2.1\n",
    "- Jakarta RESTful Web Services 3.1\n",
    "## MicroProfile Config 3.1\n",
    "> MicroProfile Config \n",
    "> provides applications and microservices means to obtain configuration properties through several environment-aware sources both internal and external to the application and made available through dependency injection or lookup.\n",
    "## MicroProfile Fault Tolerance 4.0\n",
    "> MicroProfile Fault Tolerance \n",
    "> provides the ability to separate execution logic from business logic. Key aspects of the API include TimeOut, RetryPolicy, Fallback, Bulkhead, and Circuit Breaker processing.\n",
    "## MicroProfile Metrics 5.1\n",
    "> MicroProfile Metrics \n",
    "> provides a unified way for MicroProfile applications to export monitoring data to management agents. Metrics will also provide a common Java API for exposing their telemetry data.\n",
    "## MicroProfile Health 4.0\n",
    "> MicroProfile Health \n",
    "> provides the ability to expose the health of an application to the underlying platform (ex: Kubernetes)\n",
    "## MicroProfile Telemetry 1.1\n",
    "> MicroProfile Telemetry \n",
    "> provides an adoption of the [OpenTelemetry](https://opentelemetry.io/) specification (currently for Distributed Tracing and Baggage in that context only).\n",
    "## MicroProfile OpenAPI 3.1\n",
    "> MicroProfile OpenAPI \n",
    "> provides a unified Java API for the [OpenAPI v3 specification](https://github.com/OAI/OpenAPI-Specification/blob/master/versions/3.0.0.md) that all application developers can use to expose their API documentation.\n",
    "## MicroProfile JWT Authentication 2.1\n",
    "> MicroProfile JWT Authentication \n",
    "> provides role based access control (RBAC) microservice endpoints using OpenID Connect (OIDC) and JSON Web Tokens (JWT).\n",
    "## MicroProfile Rest Client 3.0\n",
    "> MicroProfile Rest Client \n",
    "> provides a type-safe approach to invoke RESTful services over HTTP. As much as possible MicroProfile Rest Client attempts to use [Jakarta RESTful Web Services APIs](https://eclipse-ee4j.github.io/jaxrs-api/) for consistency and easier re-use."
   ]
  }
 ],
 "metadata": {
  "language_info": {
   "name": "python"
  }
 },
 "nbformat": 4,
 "nbformat_minor": 2
}
