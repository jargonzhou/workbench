{
 "cells": [
  {
   "cell_type": "markdown",
   "metadata": {},
   "source": [
    "# JavaEE\n",
    "* [Spring.ipynb](./Spring.ipynb)\n",
    "* [MyBatis.ipynb](./MyBatis.ipynb)\n",
    "* [Netty.ipynb](./Netty.ipynb)\n",
    "* [Dubbo.ipynb](./Dubbo.ipynb)\n",
    "* [Quartz.ipynb](./Quartz.ipynb)\n",
    "* [xxl-job.ipynb](./xxl-job.ipynb)"
   ]
  },
  {
   "cell_type": "markdown",
   "metadata": {},
   "source": [
    "## Apache Commons\n",
    "* https://commons.apache.org/"
   ]
  },
  {
   "cell_type": "markdown",
   "metadata": {},
   "source": [
    "# Bouncy Castle\n",
    "* https://www.bouncycastle.org/\n",
    "* java: https://www.bouncycastle.org/documentation/documentation-java/\n",
    "\n",
    "> The Bouncy Castle Crypto package is a Java implementation of cryptographic algorithms and cryptographic protocols that make use of the algorithms.\n",
    ">\n",
    "> The package is organized so that it contains a low-level lightweight API suitable for use in any environment with additional infrastructure built on top of that to construct a provider conforming to the JCA framework.\n",
    ">\n",
    "> Each distribution is built around a provider jar and includes extra jars for supporting X.509, PKIX, JavaMail, JakartaMail, OpenPGP, TLS, and MLS. "
   ]
  },
  {
   "cell_type": "markdown",
   "metadata": {},
   "source": [
    "Java:\n",
    "- Provider： bcprov-jdk18on\n",
    "- ASN.1 and Utilities： bcutil-jdk18on\n",
    "- PKIX/CMS/EAC/DVCS/PKCS/TSP/OPENSSL： bcpkix-jdk18on\n",
    "- OpenPGP： bcpg-jdk18on\n",
    "- S/MIME: bcmail-jdk18on\n",
    "- DTLS/TLS and JSSE Provider: bctls-jdk18on\n",
    "\n",
    "more:\n",
    "- Java FIPS \n",
    "- Java LTS "
   ]
  },
  {
   "cell_type": "markdown",
   "metadata": {},
   "source": [
    "# SLF4J"
   ]
  },
  {
   "cell_type": "markdown",
   "metadata": {},
   "source": [
    "compatibility - [ref](https://www.alibabacloud.com/blog/development-of-java-logging-part-2-logging-and-package-exclusion-with-slf4j-%2B-logback_601452)\n",
    "\n",
    "\n",
    "| **Logback Version** | **SLF4J Version**     | **JDK Version**  | **Remarks**                          |\n",
    "| ------------------- | --------------------- | ---------------- | ------------------------------------ |\n",
    "| Logback 1.2.x       | SLF4J 1.7.x           | JDK 1.5 or later |                                      |\n",
    "| Logback 1.3.x       | SLF4J 2.0.x           | JDK 8 or later   |                                      |\n",
    "| Logback 1.4.x       | SLF4J 2.0.x           | JDK 11 or later  |                                      |\n",
    "| Logback 1.5.x       | SLF4J 2.0.12 or later | JDK 11 or later  | 1.5.x was released to replace 1.4.x. |"
   ]
  },
  {
   "cell_type": "markdown",
   "metadata": {},
   "source": [
    "# Eclipse MicroProfile\n",
    "- [Home](https://microprofile.io/)\n",
    "- [Project](https://projects.eclipse.org/projects/technology.microprofile)\n",
    "- [Starter](https://start.microprofile.io/)\n",
    "\n",
    "> Optimizing Enterprise Java for a Microservices Architecture"
   ]
  },
  {
   "cell_type": "markdown",
   "metadata": {},
   "source": [
    "## Specification\n",
    "* https://microprofile.io/specifications/"
   ]
  },
  {
   "cell_type": "markdown",
   "metadata": {},
   "source": [
    "- [releases](https://github.com/eclipse/microprofile/releases)\n",
    "\t- [v6.1](https://download.eclipse.org/microprofile/microprofile-6.1/microprofile-spec-6.1.html)\n",
    "- [Core](https://jakarta.ee/specifications/coreprofile/10/) \n",
    "- [Telemetry](https://github.com/eclipse/microprofile-telemetry/releases/tag/1.1): Platfrom\n",
    "- [Open API](https://github.com/eclipse/microprofile-open-api/releases/tag/3.1.1): Platfrom\n",
    "- [Rest Client](https://github.com/eclipse/microprofile-rest-client/releases/tag/3.0.1): Platfrom\n",
    "- [Config](https://github.com/eclipse/microprofile-config/releases/tag/3.1): Platfrom\n",
    "- [Fault Tolerance](https://github.com/eclipse/microprofile-fault-tolerance/releases/tag/4.0.2): Platfrom\n",
    "- [Metrix](https://github.com/eclipse/microprofile-metrics/releases/tag/5.1.0): Platfrom\n",
    "- [JWT Authentication](https://github.com/eclipse/microprofile-jwt-auth/releases/tag/2.1): Platfrom\n",
    "- [Health](https://github.com/eclipse/microprofile-health/releases/tag/4.0.1): Platfrom\n",
    "- Open Tracing: Standalone\n",
    "- LRA(Long Running Actions): Standalone\n",
    "- Reactive Messaging: Standalone\n",
    "- GraphQL: Standalone\n",
    "- Reactive Streams Operators: Standalone\n",
    "- Context Propagation: Standalone"
   ]
  },
  {
   "cell_type": "markdown",
   "metadata": {},
   "source": [
    "\n",
    "## Jakarta EE 10 Core Profile\n",
    "MicroProfile 6.0 and above requires [Jakarta EE 10 Core Profile](https://jakarta.ee/specifications/coreprofile/10/) support.\n",
    "- Jakarta Annotations 2.1\n",
    "- Jakarta Contexts and Dependency Injection (Lite Section) 4.0\n",
    "- Jakarta Dependency Injection 2.0\n",
    "- Jakarta Interceptors 2.1\n",
    "- Jakarta JSON Binding 3.0\n",
    "- Jakarta JSON Processing 2.1\n",
    "- Jakarta RESTful Web Services 3.1\n",
    "## MicroProfile Config 3.1\n",
    "> MicroProfile Config \n",
    "> provides applications and microservices means to obtain configuration properties through several environment-aware sources both internal and external to the application and made available through dependency injection or lookup.\n",
    "## MicroProfile Fault Tolerance 4.0\n",
    "> MicroProfile Fault Tolerance \n",
    "> provides the ability to separate execution logic from business logic. Key aspects of the API include TimeOut, RetryPolicy, Fallback, Bulkhead, and Circuit Breaker processing.\n",
    "## MicroProfile Metrics 5.1\n",
    "> MicroProfile Metrics \n",
    "> provides a unified way for MicroProfile applications to export monitoring data to management agents. Metrics will also provide a common Java API for exposing their telemetry data.\n",
    "## MicroProfile Health 4.0\n",
    "> MicroProfile Health \n",
    "> provides the ability to expose the health of an application to the underlying platform (ex: Kubernetes)\n",
    "## MicroProfile Telemetry 1.1\n",
    "> MicroProfile Telemetry \n",
    "> provides an adoption of the [OpenTelemetry](https://opentelemetry.io/) specification (currently for Distributed Tracing and Baggage in that context only).\n",
    "## MicroProfile OpenAPI 3.1\n",
    "> MicroProfile OpenAPI \n",
    "> provides a unified Java API for the [OpenAPI v3 specification](https://github.com/OAI/OpenAPI-Specification/blob/master/versions/3.0.0.md) that all application developers can use to expose their API documentation.\n",
    "## MicroProfile JWT Authentication 2.1\n",
    "> MicroProfile JWT Authentication \n",
    "> provides role based access control (RBAC) microservice endpoints using OpenID Connect (OIDC) and JSON Web Tokens (JWT).\n",
    "## MicroProfile Rest Client 3.0\n",
    "> MicroProfile Rest Client \n",
    "> provides a type-safe approach to invoke RESTful services over HTTP. As much as possible MicroProfile Rest Client attempts to use [Jakarta RESTful Web Services APIs](https://eclipse-ee4j.github.io/jaxrs-api/) for consistency and easier re-use."
   ]
  },
  {
   "cell_type": "markdown",
   "metadata": {},
   "source": [
    "# Jakarta EE\n",
    "- [https://jakarta.ee/about/jakarta-ee/](https://jakarta.ee/about/jakarta-ee/)\n",
    "- Jakarta EE Baeldung Tutorials: [https://www.baeldung.com/category/java-ee](https://www.baeldung.com/category/java-ee)\n",
    "- Specifications: https://jakarta.ee/specifications/\n",
    "\n",
    "> Jakarta EE: An Open Source Framework For Developing Cloud Native Java Applications"
   ]
  },
  {
   "cell_type": "markdown",
   "metadata": {},
   "source": [
    "Platform and Profile Specifications:\n",
    "- [Jakarta EE Platform](https://jakarta.ee/specifications/platform/): Defines a platform for hosting Jakarta EE applications\n",
    "- [Jakarta EE Web Profile](https://jakarta.ee/specifications/webprofile/): Web profile of platform for hosting Jakarta EE applications\n",
    "- [Jakarta EE Core Profile](https://jakarta.ee/specifications/coreprofile/): Core profile of platform for smaller runtimes"
   ]
  },
  {
   "cell_type": "markdown",
   "metadata": {},
   "source": [
    "Individual Specifications\n",
    "- [Jakarta Activation](https://jakarta.ee/specifications/activation/): Defines standard services for MIME type data access\n",
    "- [Jakarta Annotations](https://jakarta.ee/specifications/annotations/): Declarative style annotations for common semantic concepts\n",
    "- [Jakarta Authentication](https://jakarta.ee/specifications/authentication/): Low-level container SPI for authentication mechanisms\n",
    "- [Jakarta Authorization](https://jakarta.ee/specifications/authorization/): Low-level container SPI for authorization modules\n",
    "- [Jakarta Batch](https://jakarta.ee/specifications/batch/): API plus an XML-based batch job specification language\n",
    "- [Jakarta Concurrency](https://jakarta.ee/specifications/concurrency/): API for app level concurrency that integrates with container\n",
    "- [Jakarta Config](https://jakarta.ee/specifications/config/): Standardizes externalized configuration\n",
    "- [Jakarta Connectors](https://jakarta.ee/specifications/connectors/): Architecture for connecting apps to enterprise info systems\n",
    "- [Jakarta Contexts and Dependency Injection](https://jakarta.ee/specifications/cdi/): Declarative dependency injection and supporting services\n",
    "- [Jakarta Data](https://jakarta.ee/specifications/data/): Standardized Data Access with the Repository pattern.\n",
    "- [Jakarta Debugging Support for Other Languages](https://jakarta.ee/specifications/debugging/): non-Java language debugging support\n",
    "- [Jakarta Dependency Injection](https://jakarta.ee/specifications/dependency-injection/): Common declarative dependency injection annotations\n",
    "- [Jakarta Deployment](https://jakarta.ee/specifications/deployment/): Deployment APIs for assembled Jakarta EE applications\n",
    "- [Jakarta Enterprise Beans](https://jakarta.ee/specifications/enterprise-beans/): Architecture/API for component-based business applications\n",
    "- [Jakarta Enterprise Web Services](https://jakarta.ee/specifications/enterprise-ws/): Web Services for Jakarta EE architecture\n",
    "- [Jakarta Expression Language](https://jakarta.ee/specifications/expression-language/): Defines an expression language for Java applications\n",
    "- [Jakarta Faces](https://jakarta.ee/specifications/faces/): MVC framework for building user interfaces for web apps\n",
    "- [Jakarta Interceptors](https://jakarta.ee/specifications/interceptors/): Defines a means of interposing on business method/events\n",
    "- [Jakarta JSON Binding](https://jakarta.ee/specifications/jsonb/): Binding framework for converting POJOs to/from JSON docs\n",
    "- [Jakarta JSON Processing](https://jakarta.ee/specifications/jsonp/): API to parse, generate, transform, and query JSON docs\n",
    "- [Jakarta Mail](https://jakarta.ee/specifications/mail/): Framework to build mail and messaging applications\n",
    "- [Jakarta Managed Beans](https://jakarta.ee/specifications/managedbeans/): Defines set of basic services for container-managed objects\n",
    "- [Jakarta Management](https://jakarta.ee/specifications/management/): Management model for exposing and accessing information\n",
    "- [Jakarta Messaging](https://jakarta.ee/specifications/messaging/): Messaging via loosely coupled, reliable asynch services\n",
    "- [Jakarta MVC](https://jakarta.ee/specifications/mvc/): Standardizes the action-based model-view-controller pattern\n",
    "- [Jakarta NoSQL](https://jakarta.ee/specifications/nosql/): Jakarta NoSQL defines a standard for creating …\n",
    "- [Jakarta Pages](https://jakarta.ee/specifications/pages/): Defines a template engine for web applications\n",
    "- [Jakarta Persistence](https://jakarta.ee/specifications/persistence/): Management of persistence and object/relational mapping\n",
    "- [Jakarta RESTful Web Services](https://jakarta.ee/specifications/restful-ws/): API to develop web services following the REST pattern\n",
    "- [Jakarta RPC](https://jakarta.ee/specifications/rpc/): Standardizes gRPC within Jakarta EE\n",
    "- [Jakarta Security](https://jakarta.ee/specifications/security/): Defines a standard for creating secure EE applications\n",
    "- [Jakarta Servlet](https://jakarta.ee/specifications/servlet/): A server-side API for handling HTTP requests and responses\n",
    "- [Jakarta SOAP with Attachments](https://jakarta.ee/specifications/soap-attachments/): API for SOAP 1.1, SOAP 1.2, and SOAP Attachments Feature\n",
    "- [Jakarta Standard Tag Library](https://jakarta.ee/specifications/tags/): Provides a set of tags to simplify the JSP development\n",
    "- [Jakarta Transactions](https://jakarta.ee/specifications/transactions/): Allows handling transactions consistent with X/Open XA-spec\n",
    "- [Jakarta Validation](https://jakarta.ee/specifications/bean-validation/): Object level constraint declaration and validation facility\n",
    "- [Jakarta Web Services Metadata](https://jakarta.ee/specifications/web-services-metadata/): Defines web services for WSDL binding, and configuration\n",
    "- [Jakarta WebSocket](https://jakarta.ee/specifications/websocket/): API for Server and Client Endpoints for WebSocket protocol\n",
    "- [Jakarta XML Binding](https://jakarta.ee/specifications/xml-binding/): API and tools automate mapping between XML docs and POJOs\n",
    "- [Jakarta XML Registries](https://jakarta.ee/specifications/xml-registries/): API for interoperable set of registry services\n",
    "- [Jakarta XML RPC](https://jakarta.ee/specifications/xml-rpc/): Defines consistent Java APIs for XML based RPC standards\n",
    "- [Jakarta XML Web Services](https://jakarta.ee/specifications/xml-web-services/): Defines a means for XML-Based Web Services based on SOAP"
   ]
  }
 ],
 "metadata": {
  "language_info": {
   "name": "python"
  }
 },
 "nbformat": 4,
 "nbformat_minor": 2
}
