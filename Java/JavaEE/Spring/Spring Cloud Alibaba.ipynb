{
 "cells": [
  {
   "cell_type": "markdown",
   "metadata": {},
   "source": [
    "# Spring Cloud Alibaba\n",
    "\n",
    "* ~~https://github.com/alibaba/spring-cloud-alibaba~~\n",
    "* https://sca.aliyun.com/\n",
    "* code and example: https://github.com/alibaba/spring-cloud-alibaba \n",
    "* 云原生应用脚手架: https://start.aliyun.com/\n",
    "\n",
    "2023.0.3.2\n",
    "\n",
    "开源组件:\n",
    "\n",
    "- Nacos Config\n",
    "- Nacos Discovery\n",
    "- Sentinel\n",
    "- RocketMQ\n",
    "\n",
    "商业化组件:\n",
    "\n",
    "- ANS(Application Naming Service)\n",
    "- Application Configuration Management(ACM) \n",
    "- OSS（Object Storage Service）\n",
    "- SchedulerX（Distributed job scheduling）\n",
    "- SMS（Short Message Service）"
   ]
  },
  {
   "cell_type": "markdown",
   "metadata": {},
   "source": [
    "# Nacos\n",
    "* https://nacos.io/\n",
    "\n",
    "actions:\n",
    "- application-store\\ops\\nacos\n",
    "- workbench\\Java\\JavaEE\\example-springcloud\\alibaba\\nacos-config\n",
    "- workbench\\Java\\JavaEE\\example-springcloud\\alibaba\\nacos-discovery\n",
    "- HTTPie: Archived > Nacos: Open API"
   ]
  },
  {
   "cell_type": "markdown",
   "metadata": {},
   "source": [
    "# Seata\n",
    "* https://seata.apache.org/zh-cn/\n",
    "\n",
    "actions:\n",
    "- application-store\\ops\\seata\n",
    "- workbench\\Java\\JavaEE\\example-springcloud\\persistent\\seata"
   ]
  },
  {
   "cell_type": "markdown",
   "metadata": {},
   "source": [
    "# Sentinel\n",
    "* https://sentinelguard.io/\n",
    "\n",
    "actions:\n",
    "- application-store\\ops\\sentinel\n",
    "- workbench\\Java\\JavaEE\\example-springcloud\\alibaba\\sentinel"
   ]
  },
  {
   "cell_type": "markdown",
   "metadata": {},
   "source": [
    "框架:\n",
    "![](https://sentinelguard.io/docs/zh-cn/img/sentinel-slot-chain-architecture.png)"
   ]
  }
 ],
 "metadata": {
  "language_info": {
   "name": "python"
  }
 },
 "nbformat": 4,
 "nbformat_minor": 2
}
