{
 "cells": [
  {
   "cell_type": "markdown",
   "metadata": {},
   "source": [
    "# Spring Cloud"
   ]
  },
  {
   "cell_type": "markdown",
   "metadata": {},
   "source": [
    "- [projects](https://spring.io/projects/spring-cloud)\n",
    "- [code](https://github.com/spring-cloud)\n",
    "\n",
    "Books:\n",
    "- Vitale, Thomas. **Cloud Native Spring in Action: With Spring Boot and Kubernetes**. 2023. Manning.\n",
    "\n",
    "More:\n",
    "- [Gateway](./Spring/spring-cloud-gateway.md)\n",
    "- [Netflix](./Spring/spring-cloud-netflix.md)\n",
    "- [Kubernetes](./Spring/spring-cloud-kubernetes.md)\n",
    "- [Alibaba](./Spring/spring-cloud-alibaba.md)\n",
    "\n",
    "## Book materials\n",
    "\n",
    "### tools\n",
    "- Spring Boot 2.7.3, Java 17 (P.45)\n",
    "- Docker: 20.10, Desktop 4.11\n",
    "- Kubernetes: 1.24\n",
    "\t- [minikube](https://minikube.sigs.k8s.io): 1.26\n",
    "\t- [kind](https://kind.sigs.k8s.io)\n",
    "\t- [k3d](https://k3d.io)\n",
    "\n",
    "- Other tools\n",
    "\n",
    "> [HTTPie](https://httpie.org)\n",
    ">\n",
    "> command-line HTTP and API testing client\n",
    "\n",
    "> [grype](https://github.com/anchore/grype)\n",
    ">\n",
    "> A vulnerability scanner for container images and filesystems\n",
    "\n",
    "> [Tilt](https://tilt.dev/)\n",
    ">\n",
    "> Define your dev environment as code. For microservice apps on Kubernetes.\n",
    "\n",
    "> [Octant](https://octant.dev/)\n",
    "> \n",
    "> Octant is an open source developer-centric web interface for Kubernetes that lets you inspect a Kubernetes cluster and its applications.\n",
    "> _This repository has been archived by the owner on Jan 19, 2023. It is now read-only._\n",
    "\n",
    "> [Kubeval](https://www.kubeval.com/)\n",
    ">\n",
    "> Kubeval is used to validate one or more Kubernetes configuration files, and is often used locally as part of a development workflow as well as in CI pipelines.\n",
    "\n",
    "> [Knative CLI](https://knative.dev)\n",
    ">\n",
    "> Kubernetes-based platform to deploy and manage modern serverless workloads\n",
    "\n",
    "\n",
    "> [Tekton](https://tekton.dev/docs/concepts/overview/)\n",
    "> What is Tekton?\n",
    "> \n",
    "> Tekton is a cloud-native solution for building CI/CD pipelines. It consists of Tekton Pipelines, which provides the building blocks, and of supporting components, such as Tekton CLI and Tekton Catalog, that make Tekton a complete ecosystem. Tekton is part of the CD Foundation, a Linux Foundation project.\n",
    "> \n",
    "> Tekton installs and runs as an extension on a Kubernetes cluster and comprises a set of Kubernetes Custom Resources that define the building blocks you can create and reuse for your pipelines. Once installed, Tekton Pipelines becomes available via the Kubernetes CLI (kubectl) and via API calls, just like pods and other resources.\n",
    "\n",
    "[ab - Apache HTTP server benchmarking tool](https://httpd.apache.org/docs/current/programs/ab.html)\n",
    "```shell\n",
    "# install on Ubuntu\n",
    "sudo apt install apache2\n",
    "# 编辑端口: sudo /etc/apache2/ports.conf\n",
    "sudo service apache2 start\n",
    "sudo service apache2 stop\n",
    "\n",
    "$ which ab\n",
    "/usr/bin/ab\n",
    "\n",
    "ab -n 21 -c 1 -m POST http://192.168.3.178:18022/orders\n",
    "ab -n 21 -c 1 -m GET http://192.168.3.178:18022/books\n",
    "```\n",
    "\n",
    "### misc\n",
    "\n",
    "documenting APIs\n",
    "- [Spring REST Docs](https://spring.io/projects/spring-restdocs)\n",
    "- [springdoc-openapi](https://springdoc.org)\n",
    "\n",
    "### more books\n",
    "- [[#5.2 Cloud native patterns and technologies]]\n",
    "\t- book: **Spring Start Here** by Laurent¸iu Spilca˘ (Manning, 2021)\n",
    "\t- book: **Spring in Action, sixth edition**, by Craig Walls (Manning, 2022) - [[book.Spring in Action]]\n",
    "\t- book: **Spring Boot: Up & Running** by Mark Heckler (O’Reilly, 2021)\n",
    "\t- Gradle plugin `org.springframework.boot` `2.7.3` - [link](https://plugins.gradle.org/plugin/org.springframework.boot)\n",
    "\t- Gradle plugin `io.spring.dependency-management` `1.0.13.RELEASE` - [link](https://plugins.gradle.org/plugin/io.spring.dependency-management)\n",
    "\t- [The C4 model for visualising software architecture: Context, Containers, Components, and Code](https://c4model.com/)\n",
    "\n",
    "- [[#5.3 Getting started with cloud native development]]\n",
    "\t- **Agile Testing** (Addison-Wesley Professional, 2008) by Lisa Crispin and Janet Gregory\n",
    "\t- **More Agile Testing** (Addison-Wesley Professional, 2014)\n",
    "\t- **Agile Testing Condensed** (Library and Archives Canada, 2019)\n",
    "\t- **Continuous Delivery** (Addison-Wesley Professional, 2010) by Jez Humble and Dave Farley\n",
    "\t- **Continuous Delivery Pipelines** (2021) by Dave Farley\n",
    "\n",
    "- [[#5.4 Externalized configuration management]]\n",
    "\t- `org.springframework.cloud:spring-cloud-dependencies`: `2021.0.3` - [link](https://docs.spring.io/spring-cloud/docs/2021.0.9/reference/html/)"
   ]
  },
  {
   "cell_type": "markdown",
   "metadata": {},
   "source": [
    "## Versions\n",
    "- Dubbo: 2.6.0\n",
    "- Spring Boot: 2.2.4.RELEASE\n",
    "  - 3.4.0: on 2025-02\n",
    "- Spring Cloud: Finchley.M7\n",
    "  - 2024.0.0: on 2025-02"
   ]
  },
  {
   "cell_type": "markdown",
   "metadata": {},
   "source": [
    "## Projects"
   ]
  },
  {
   "cell_type": "markdown",
   "metadata": {},
   "source": [
    "| Project                          | Description                                                                                                                                                                                                                             |\n",
    "| :------------------------------- | :-------------------------------------------------------------------------------------------------------------------------------------------------------------------------------------------------------------------------------------- |\n",
    "| Spring Cloud Config              | Centralized external configuration management backed by a git repository. The configuration resources map directly to Spring Environment but could be used by non-Spring applications if desired.                                       |\n",
    "| Spring Cloud Gateway             | Spring Cloud Gateway is an intelligent and programmable router based on Spring Framework and Spring Boot.                                                                                                                               |\n",
    "| Spring Cloud Netflix             | Integration with Eureka Services Discovery from Netflix OSS.                                                                                                                                                                            |\n",
    "| Spring Cloud Consul              | Service discovery and configuration management with Hashicorp Consul.                                                                                                                                                                   |\n",
    "| Spring Cloud Data Flow           | A cloud-native orchestration service for composable microservice applications on modern runtimes. Easy-to-use DSL, drag-and-drop GUI, and REST-APIs together simplifies the overall orchestration of microservice based data pipelines. |\n",
    "| Spring Cloud Function            | Spring Cloud Function promotes the implementation of business logic via functions. It supports a uniform programming model across serverless providers, as well as the ability to run standalone (locally or in a PaaS).                |\n",
    "| Spring Cloud Stream              | A lightweight event-driven microservices framework to quickly build applications that can connect to external systems. Simple declarative model to send and receive messages using Apache Kafka or RabbitMQ between Spring Boot apps.   |\n",
    "| Spring Cloud Stream Applications | Spring Cloud Stream Applications are out of the box Spring Boot applications providing integration with external middleware systems such as Apache Kafka, RabbitMQ etc. using the binder abstraction in Spring Cloud Stream.            |\n",
    "| Spring Cloud Task                | A short-lived microservices framework to quickly build applications that perform finite amounts of data processing. Simple declarative for adding both functional and non-functional features to Spring Boot apps.                      |\n",
    "| Spring Cloud Task App Starters   | Spring Cloud Task App Starters are Spring Boot applications that may be any process including Spring Batch jobs that do not run forever, and they end/stop after a finite period of data processing.                                    |\n",
    "| Spring Cloud Zookeeper           | Service discovery and configuration management with Apache Zookeeper.                                                                                                                                                                   |\n",
    "| Spring Cloud Contract            | Spring Cloud Contract is an umbrella project holding solutions that help users in successfully implementing the Consumer Driven Contracts approach.                                                                                     |\n",
    "| Spring Cloud OpenFeign           | Spring Cloud OpenFeign provides integrations for Spring Boot apps through autoconfiguration and binding to the Spring Environment and other Spring programming model idioms.                                                            |\n",
    "| Spring Cloud Bus                 | An event bus for linking services and service instances together with distributed messaging. Useful for propagating state changes across a cluster (e.g. config change events).                                                         |\n",
    "| Spring Cloud Open Service Broker | Provides a starting point for building a service broker that implements the Open Service Broker API.                                                                                                                                    |"
   ]
  },
  {
   "cell_type": "markdown",
   "metadata": {},
   "source": [
    "## Spring Cloud Alibaba\n",
    "* ~~https://github.com/alibaba/spring-cloud-alibaba~~\n",
    "* https://sca.aliyun.com/\n",
    "* code and example: https://github.com/alibaba/spring-cloud-alibaba \n",
    "* 云原生应用脚手架: https://start.aliyun.com/\n",
    "\n",
    "2023.0.3.2\n",
    "\n",
    "开源组件:\n",
    "\n",
    "- Nacos Config: https://nacos.io/\n",
    "- Nacos Discovery\n",
    "- Sentinel\n",
    "- RocketMQ\n",
    "\n",
    "商业化组件:\n",
    "\n",
    "- ANS(Application Naming Service)\n",
    "- Application Configuration Management(ACM) \n",
    "- OSS（Object Storage Service）\n",
    "- SchedulerX（Distributed job scheduling）\n",
    "- SMS（Short Message Service）\n",
    "\n",
    "actions:\n",
    "- HTTPie: Archived > Nacos: Open API"
   ]
  },
  {
   "cell_type": "markdown",
   "metadata": {},
   "source": [
    "# Commons\n",
    "* https://spring.io/projects/spring-cloud-commons"
   ]
  },
  {
   "cell_type": "markdown",
   "metadata": {},
   "source": [
    "- Spring Cloud Context: 应用上下文服务\n",
    "- Spring Cloud Commons: 通用抽象\n",
    "- Spring Cloud LoadBalancer: 客户端负载均衡抽象和实现\n",
    "- Spring Cloud Circuit Breaker: 断路器抽象和实现"
   ]
  },
  {
   "cell_type": "markdown",
   "metadata": {},
   "source": [
    "## LoadBalancer\n",
    "* https://docs.spring.io/spring-cloud-commons/reference/spring-cloud-commons/loadbalancer.html"
   ]
  },
  {
   "cell_type": "markdown",
   "metadata": {},
   "source": [
    "## Circuit Breaker\n",
    "* https://spring.io/projects/spring-cloud-circuitbreaker"
   ]
  },
  {
   "cell_type": "markdown",
   "metadata": {},
   "source": [
    "Supported Implementations:\n",
    "- Resilience4J\n",
    "- Spring Retry"
   ]
  },
  {
   "cell_type": "markdown",
   "metadata": {},
   "source": [
    "# Config\n",
    "* https://spring.io/projects/spring-cloud-config\n",
    "* [monitor example](https://medium.com/trendyol-tech/automating-dynamic-config-management-with-spring-cloud-config-bus-a34e15397b15)\n",
    "\n",
    "actions:\n",
    "- HTTPie: Archived > Config"
   ]
  },
  {
   "cell_type": "markdown",
   "metadata": {},
   "source": [
    "# Gateway"
   ]
  },
  {
   "cell_type": "markdown",
   "metadata": {},
   "source": [
    "# Netflix\n",
    "* https://spring.io/projects/spring-cloud-netflix"
   ]
  },
  {
   "cell_type": "markdown",
   "metadata": {},
   "source": [
    "Components:\n",
    "- Service Discovery: Eureka Clients\n",
    "- Service Discovery: Eureka Server"
   ]
  },
  {
   "cell_type": "markdown",
   "metadata": {},
   "source": [
    "# Function\n",
    "* https://spring.io/projects/spring-cloud-function\n",
    "\n",
    "actions:\n",
    "* HTTPie: Archived > Function"
   ]
  },
  {
   "cell_type": "markdown",
   "metadata": {},
   "source": [
    "# Stream\n",
    "* https://spring.io/projects/spring-cloud-stream"
   ]
  },
  {
   "cell_type": "markdown",
   "metadata": {},
   "source": [
    "# Contract"
   ]
  },
  {
   "cell_type": "markdown",
   "metadata": {},
   "source": [
    "# OpenFeign\n",
    "* https://spring.io/projects/spring-cloud-openfeign"
   ]
  },
  {
   "cell_type": "markdown",
   "metadata": {},
   "source": [
    "> WARNING: As announced in Spring Cloud 2022.0.0 release blog entry, we’re now treating the Spring Cloud OpenFeign project as feature-complete. We are only going to be adding bugfixes and possibly merging some small community feature PRs. We suggest migrating over to [Spring Interface Clients](https://docs.spring.io/spring-framework/reference/integration/rest-clients.html#rest-http-interface) instead."
   ]
  },
  {
   "cell_type": "markdown",
   "metadata": {},
   "source": [
    "# Bus"
   ]
  },
  {
   "cell_type": "markdown",
   "metadata": {},
   "source": [
    "# Kubernetes\n",
    "* https://spring.io/projects/spring-cloud-kubernetes"
   ]
  },
  {
   "cell_type": "markdown",
   "metadata": {},
   "source": [
    "## Tools\n",
    "\n",
    "- [Tilt](https://tilt.dev): Define your dev environment as code. For microservice apps on Kubernetes.\n",
    "- [Octant](https://octant.dev): Visualize your Kubernetes workloads. Octant is an open source developer-centric web interface for Kubernetes that lets you inspect a Kubernetes cluster and its applications.\n",
    "- [Kubeval](https://github.com/instrumenta/kubeval): no longer maintained\n",
    "  - alternative: [kubeconform](https://github.com/yannh/kubeconform): Kubeconform is a Kubernetes manifest validation tool. Incorporate it into your CI, or use it locally to validate your Kubernetes configuration!"
   ]
  }
 ],
 "metadata": {
  "language_info": {
   "name": "python"
  }
 },
 "nbformat": 4,
 "nbformat_minor": 2
}
