{
 "cells": [
  {
   "cell_type": "markdown",
   "id": "c12d4bf6",
   "metadata": {},
   "source": [
    "## xxl-job"
   ]
  },
  {
   "cell_type": "markdown",
   "id": "979a1b55",
   "metadata": {},
   "source": [
    "xxl-job怎样设置能等上次执行完了,再去执行下一次调度（即使设置cron时间）\n",
    "https://github.com/xuxueli/xxl-job/issues/947\n",
    "\n",
    "```java\n",
    "// https://github.com/xuxueli/xxl-job/blob/master/xxl-job-core/src/main/java/com/xxl/job/core/enums/ExecutorBlockStrategyEnum.java\n",
    "public enum ExecutorBlockStrategyEnum {\n",
    "\n",
    "    SERIAL_EXECUTION(\"Serial execution\"),\n",
    "    /*CONCURRENT_EXECUTION(\"并行\"),*/\n",
    "    DISCARD_LATER(\"Discard Later\"),\n",
    "    COVER_EARLY(\"Cover Early\");\n",
    "}\n",
    "```\n",
    "调度过于密集，执行器来不及处理时的处理策略。\n",
    "\n",
    "- (1) 单机串行：新的调度任务进入执行器后，该调度任务进入FIFO队列，以串行方式执行。\n",
    "- (2) 丢弃后续调度：新的调度任务进入执行器后，若存在相同的正在运行的调度任务，本次调度请求将会被丢弃并被标记为失败。\n",
    "- (3) 覆盖之前调度：新的调度任务进入执行器后，若存在相同的正在运行的调度任务，将会终止当前正在运行的调度任务，并清空队列，然后运行本次新的调度任务。\n"
   ]
  }
 ],
 "metadata": {
  "language_info": {
   "name": "python"
  }
 },
 "nbformat": 4,
 "nbformat_minor": 5
}
