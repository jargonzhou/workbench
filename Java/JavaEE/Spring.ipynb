{
 "cells": [
  {
   "cell_type": "markdown",
   "metadata": {},
   "source": [
    "# Spring\n",
    "\n",
    "More:\n",
    "* [_spring](./Spring/more/_spring.md)\n",
    "* [_Spring Boot](./Spring/more/_Spring%20Boot.md)\n",
    "* [_Spring Cloud](./Spring/more/_Spring%20Cloud.md)\n",
    "* [_Spring Cloud Alibaba](./Spring/more/_Spring%20Cloud%20Alibaba.md)\n",
    "* [Apollo](./Spring/more/Apollo.md)"
   ]
  },
  {
   "cell_type": "markdown",
   "metadata": {},
   "source": [
    "To back up its attack on Java complexity, Spring employs four key strategies: - in Spring in Action, 4th Edition\n",
    "- Lightweight and minimally invasive development with POJOs - 基于POJO的轻量级和最小侵入性开发\n",
    "- Loose coupling through DI and interface orientation - 基于依赖注入和面向接口编程实现松耦合\n",
    "- Declarative programming through aspects and common conventions - 基于切面和常见约定实现声明式编程\n",
    "- Eliminating boilerplate code with aspects and templates - 使用切面和模板消除模板代码"
   ]
  },
  {
   "cell_type": "markdown",
   "metadata": {},
   "source": [
    "# Tools"
   ]
  },
  {
   "cell_type": "markdown",
   "metadata": {},
   "source": [
    "* [Spring Initializr](https://start.spring.io/):\n",
    "  * [code](https://github.com/spring-io/initializr)\n",
    "* [Spring Tools 4](https://spring.io/tools): Spring Tools 4 is the next generation of Spring tooling for your favorite coding environment. Largely rebuilt from scratch, it provides world-class support for developing Spring-based enterprise applications, whether you prefer Eclipse, Visual Studio Code, or Theia IDE."
   ]
  },
  {
   "cell_type": "markdown",
   "metadata": {},
   "source": [
    "# Projects\n",
    "* https://spring.io/projects"
   ]
  },
  {
   "cell_type": "markdown",
   "metadata": {},
   "source": [
    "- 2024-09-17\n",
    "\n",
    "| Project | Description |\n",
    "| :------ | ----------- |\n",
    "|Spring Boot|Takes an opinionated view of building Spring applications and gets you up and running as quickly as possible.|\n",
    "|Spring Framework|Provides core support for dependency injection, transaction management, web apps, data access, messaging, and more.|\n",
    "|Spring Data|Provides a consistent approach to data access – relational, non-relational, map-reduce, and beyond.|\n",
    "|Spring Cloud|Provides a set of tools for common patterns in distributed systems. Useful for building and deploying microservices.|\n",
    "|Spring Cloud Data Flow|Provides an orchestration service for composable data microservice applications on modern runtimes.\n",
    "|Spring Security|Protects your application with comprehensive and extensible authentication and authorization support.|\n",
    "|Spring Authorization Server|Provides a secure, light-weight, and customizable foundation for building OpenID Connect 1.0 Identity Providers and OAuth2 Authorization Server products.|\n",
    "|Spring for GraphQL|Spring for GraphQL provides support for Spring applications built on GraphQL Java.|\n",
    "|Spring Session|Provides an API and implementations for managing a user’s session information.|\n",
    "|Spring Integration|Supports the well-known **Enterprise Integration Patterns** through lightweight messaging and declarative adapters.|\n",
    "|Spring HATEOAS|Simplifies creating REST representations that follow the HATEOAS principle.|\n",
    "|Spring Modulith|Spring Modulith allows developers to build well-structured Spring Boot applications and guides developers in finding and working with application modules driven by the domain.|\n",
    "|Spring REST Docs|Lets you document RESTful services by combining hand-written documentation with auto-generated snippets produced with Spring MVC Test or REST Assured.|\n",
    "|Spring AI|Spring AI is an application framework for AI engineering.|\n",
    "|Spring Batch|Simplifies and optimizes the work of processing high-volume batch operations.|\n",
    "|Spring CLI|A CLI focused on developer productivity|\n",
    "|Spring AMQP|Applies core Spring concepts to the development of AMQP-based messaging solutions.|\n",
    "|Spring Flo|Provides a JavaScript library that offers a basic embeddable HTML5 visual builder for pipelines and simple graphs.|\n",
    "|Spring for Apache Kafka|Provides Familiar Spring Abstractions for Apache Kafka.|\n",
    "|Spring LDAP|Simplifies the development of applications that use LDAP by using Spring's familiar template-based approach.|\n",
    "|Spring for Apache Pulsar|Provides Familiar Spring Abstractions for Apache Pulsar|\n",
    "|Spring Shell|Makes writing and testing RESTful applications easier with CLI-based resource discovery and interaction.|\n",
    "|Spring Statemachine|Provides a framework for application developers to use state machine concepts with Spring applications.|\n",
    "|Spring Web Flow|Supports building web applications that feature controlled navigation, such as checking in for a flight or applying for a loan.|\n",
    "|Spring Web Services|Facilitates the development of contract-first SOAP web services.|\n"
   ]
  },
  {
   "cell_type": "markdown",
   "metadata": {},
   "source": [
    "## Projects in the Attic"
   ]
  },
  {
   "cell_type": "markdown",
   "metadata": {},
   "source": [
    "- [Spring Data for Apache Solr](http://github.com/spring-projects/spring-data-solr)\n",
    "- [Spring Data for VMware GemFire](https://github.com/spring-projects/spring-data-geode/tree/2.3.x)\n",
    "- [Spring IO Platform](http://github.com/spring-io/platform)\n",
    "- [Spring for Android](http://github.com/spring-projects/spring-android)\n",
    "- [Spring Cloud for Cloud Foundry](http://github.com/spring-cloud/spring-cloud-cloudfoundry)\n",
    "- [Spring Cloud Connectors](http://github.com/spring-cloud/spring-cloud-connectors)\n",
    "- [Spring Cloud Pipelines](https://github.com/spring-cloud/spring-cloud-pipelines)\n",
    "- [Spring Data JDBC Extensions](http://github.com/spring-projects/spring-data-jdbc-ext)\n",
    "- [Spring Flex](http://github.com/spring-projects/spring-flex)\n",
    "- [Spring Integration Groovy DSL](http://github.com/spring-projects/spring-integration-dsl-groovy)\n",
    "- [Spring Integration Scala DSL](http://github.com/spring-projects/spring-integration-dsl-scala)\n",
    "- [Spring Mobile](http://github.com/spring-projects/spring-mobile)\n",
    "- [Spring Roo](https://github.com/spring-attic/spring-roo)\n",
    "- [Spring Scala](http://hub.darcs.net/psnively/spring-scala)\n",
    "- [Spring Security OAuth](https://github.com/spring-projects/spring-security-oauth)\n",
    "- [Spring Security SAML](https://github.com/spring-projects/spring-security-saml)\n",
    "- [Spring Social](http://github.com/spring-projects/spring-social)\n",
    "- [Spring Social Facebook](http://github.com/spring-projects/spring-social-facebook)\n",
    "- [Spring Social GitHub](http://github.com/spring-projects/spring-social-github)\n",
    "- [Spring Social LinkedIn](http://github.com/spring-projects/spring-social-linkedin)\n",
    "- [Spring Social TripIt](http://github.com/spring-projects/spring-social-tripit)\n",
    "- [Spring Social Twitter](http://github.com/spring-projects/spring-social-twitter)\n",
    "- [Spring XD](http://github.com/spring-projects/spring-xd)\n",
    "- [Spring for Apache Hadoop](http://github.com/spring-projects/spring-hadoop)"
   ]
  },
  {
   "cell_type": "markdown",
   "metadata": {},
   "source": [
    "# Spring Framework\n",
    "- code: `D:\\workspace\\rtfsc\\spring-framework`\n",
    "\n",
    "Books:\n",
    "- Spring in Action, 2022."
   ]
  },
  {
   "cell_type": "markdown",
   "metadata": {},
   "source": [
    "# Spring Boot\n",
    "* [Spring Boot.ipynb](./Spring/Spring%20Boot.ipynb)"
   ]
  },
  {
   "cell_type": "markdown",
   "metadata": {},
   "source": [
    "# Spring Security\n",
    "* [Spring Security.ipynb](./Spring//Spring%20Security.ipynb)"
   ]
  },
  {
   "cell_type": "markdown",
   "metadata": {},
   "source": [
    "# Spring Session\n",
    "* https://spring.io/projects/spring-session"
   ]
  },
  {
   "cell_type": "markdown",
   "metadata": {},
   "source": [
    "# Spring Cloud\n",
    "* [Spring Cloud.ipynb](./Spring/Spring%20Cloud.ipynb)"
   ]
  },
  {
   "cell_type": "markdown",
   "metadata": {},
   "source": [
    "# Unofficial Projects"
   ]
  },
  {
   "cell_type": "markdown",
   "metadata": {},
   "source": [
    "## druid\n",
    "- https://github.com/alibaba/druid\n",
    " \n",
    "> 阿里云计算平台DataWorks团队出品，为监控而生的数据库连接池."
   ]
  },
  {
   "cell_type": "markdown",
   "metadata": {},
   "source": [
    "## OpenAPI\n",
    "* [springfox](https://github.com/springfox/springfox): latest release 2020-07-14\n",
    "* [springdoc-openapi](https://github.com/springdoc/springdoc-openapi)"
   ]
  },
  {
   "cell_type": "markdown",
   "metadata": {},
   "source": [
    "## spring-boot-admin\n",
    "* https://github.com/codecentric/spring-boot-admin\n",
    "\n",
    "Admin UI for administration of spring boot applications"
   ]
  },
  {
   "cell_type": "markdown",
   "metadata": {},
   "source": [
    "## mybatis-spring-boot-starter\n",
    "- [MyBatis.ipynb](./MyBatis.ipynb)"
   ]
  },
  {
   "cell_type": "markdown",
   "metadata": {},
   "source": [
    "## pagehelper\n",
    "- [pagehelper-spring-boot](https://github.com/pagehelper/pagehelper-spring-boot): PageHelper-Spring-Boot-Starter will help you use PageHelper with Spring Boot."
   ]
  },
  {
   "cell_type": "markdown",
   "metadata": {},
   "source": [
    "# Misc\n",
    "\n",
    "- [Feign Ribbon Hystrix 三者关系 | 史上最全, 深度解析 - 疯狂创客圈 - 博客园](https://www.cnblogs.com/crazymakercircle/p/11664812.html)\n",
    "- [Hystrix原理分析](https://segmentfault.com/a/1190000023458164)\n",
    "- [阿里Sentinel原理解析](https://zhuanlan.zhihu.com/p/64786381)\n",
    "- [微服务权限终极解决方案，Spring Cloud Gateway + Oauth2 实现统一认证和鉴权！](https://github.com/macrozheng/mall-learning/blob/master/docs/cloud/gateway_oauth2.md)\n",
    "- [深入理解 Spring Cloud Gateway 的原理 | HeapDump性能社区](https://heapdump.cn/article/4341722)"
   ]
  }
 ],
 "metadata": {
  "language_info": {
   "name": "python"
  }
 },
 "nbformat": 4,
 "nbformat_minor": 2
}
