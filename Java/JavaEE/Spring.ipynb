{
 "cells": [
  {
   "cell_type": "markdown",
   "metadata": {},
   "source": [
    "# Spring Framework\n",
    "- code: D:\\workspace\\rtfsc\\spring-framework"
   ]
  },
  {
   "cell_type": "markdown",
   "metadata": {},
   "source": [
    "# Spring Boot\n",
    "- code: D:\\workspace\\rtfsc\\spring-boot"
   ]
  },
  {
   "cell_type": "markdown",
   "metadata": {},
   "source": [
    "# Spring Cloud\n",
    "- [1] Spring Cloud: https://spring.io/projects/spring-cloud\n",
    "- [2] Code: https://github.com/spring-cloud\n",
    "- [3] Spring Initializr: https://start.spring.io/\n",
    "\n",
    "More:\n",
    "- [Gateway](./spring-cloud-gateway.md)\n",
    "- [Netflix](./spring-cloud-netflix.md)\n",
    "- [Kubernetes](./spring-cloud-kubernetes.md)\n",
    "- [Alibaba](./spring-cloud-alibaba.md)"
   ]
  },
  {
   "cell_type": "markdown",
   "metadata": {},
   "source": [
    "## Versions\n",
    "- Dubbo: 2.6.0\n",
    "- Spring Boot: 2.2.4.RELEASE\n",
    "- Spring Cloud: Finchley.M7\n",
    "- druid: [druid](https://github.com/alibaba/druid)\n",
    "- [MyBatis-Spring-Boot-Starter](http://mybatis.org/spring-boot-starter/mybatis-spring-boot-autoconfigure/): 2.1.1, [MyBatis](https://mybatis.org/mybatis-3/zh/index.html), [MyBatis Generator](https://mybatis.org/generator/index.html)\n",
    "- pagehelper-spring-boot-starter: 1.2.13, [PageHelper-Spring-Boot-Starter](https://github.com/pagehelper/pagehelper-spring-boot)"
   ]
  }
 ],
 "metadata": {
  "language_info": {
   "name": "python"
  }
 },
 "nbformat": 4,
 "nbformat_minor": 2
}
