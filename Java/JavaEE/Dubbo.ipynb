{
 "cells": [
  {
   "cell_type": "markdown",
   "metadata": {},
   "source": [
    "# Dubbo\n",
    "* https://dubbo.apache.org/en/\n",
    "\n",
    "> 一款云原生微服务开发框架\n",
    "> \n",
    "> 构建具备内置 RPC、流量管控、安全、可观测能力的应用，支持Kubernetes和VM部署环境。\n",
    "\n",
    "脚手架: https://start.dubbo.apache.org/bootstrap.html\n",
    "\n",
    "actions: \n",
    "- workbench\\Java\\JavaEE\\example-springcloud\\alibaba\\dubbo"
   ]
  },
  {
   "cell_type": "markdown",
   "metadata": {},
   "source": [
    "![](https://dubbo.apache.org/imgs/v3/concepts/architecture-2.png)"
   ]
  },
  {
   "cell_type": "markdown",
   "metadata": {},
   "source": [
    "基于扩展点的微服务生态\n",
    "\n",
    "![](https://dubbo.apache.org/imgs/v3/feature/extensibility/arc.png)"
   ]
  },
  {
   "cell_type": "markdown",
   "metadata": {},
   "source": [
    "# 功能"
   ]
  },
  {
   "cell_type": "markdown",
   "metadata": {},
   "source": [
    "- 微服务开发\n",
    "- 服务发现: Dubbo 服务发现扩展了多种注册中心组件支持，如 Nacos、Zookeeper、Consul、Redis、kubernetes 等，可以通过配置切换不同实现，同时还支持鉴权、命名空间隔离等配置.\n",
    "- 负载均衡\n",
    "  - Weighted Random LoadBalance: 默认算法, 默认权重相同\n",
    "  - RoundRobin LoadBalance: Nginx的平滑甲醛轮询算法, 默认权重相同\n",
    "  - LeastActive LoadBalance: 最少活跃优先 + 加权随机\n",
    "  - Shortest-Response LoadBalance: 最短响应优先 + 加权随机\n",
    "  - ConsistentHash LoadBalance: 一致性哈希, 适用于有状态的请求(确定的入参, 确定的提供者)\n",
    "  - P2C LoadBalance: 随机选择两个节点, 选择连接数较小的节点\n",
    "  - Adaptive LoadBalance: P2C算法基础上, 选择负载最小的节点\n",
    "- 流量管控\n",
    "  - 条件路由规则\n",
    "  - 标签路由规则\n",
    "  - 脚本路由规则\n",
    "  - 动态配置规则\n",
    "  - 限流 & 熔断\n",
    "  - Mesh路由\n",
    "- 通信协议: Dubbo 框架提供了自定义的高性能 RPC 通信协议：基于 HTTP/2 的 Triple 协议 和 基于 TCP 的 Dubbo2 协议。除此之外，Dubbo 框架支持任意第三方通信协议，如官方支持的 gRPC、Thrift、REST、JsonRPC、Hessian2 等，更多协议可以通过自定义扩展实现。\n",
    "- 扩展适配\n",
    "  - 协议通信层\n",
    "  - 流量管控层\n",
    "  - 服务治理层\n",
    "- 观测服务\n",
    "- 认证鉴权\n",
    "- 服务网格\n",
    "- 微服务生态\n",
    "  - 服务发现\n",
    "  - 动态配置\n",
    "  - 元数据管理\n",
    "  - RPC协议\n",
    "  - 可视化观测平台\n",
    "  - 全链路追踪\n",
    "  - 限流降级\n",
    "  - 分布式事务\n",
    "  - 网关\n",
    "  - 服务网格\n",
    "- 高级功能\n",
    "  - 控制服务调用行为\n",
    "  - 诊断与调优\n"
   ]
  }
 ],
 "metadata": {
  "language_info": {
   "name": "python"
  }
 },
 "nbformat": 4,
 "nbformat_minor": 2
}
