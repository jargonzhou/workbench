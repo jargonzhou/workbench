{
 "cells": [
  {
   "cell_type": "markdown",
   "metadata": {},
   "source": [
    "# Netty\n",
    "- [netty/netty](https://github.com/netty/netty): Netty project - an event-driven asynchronous network application framework\n",
    "- example: `D:\\workspace\\github\\learning-cloudnative\\networking`\n",
    "- UML: `D:\\workspace\\github\\workbench\\UML`\n",
    "- code: `D:\\workspace\\rtfsc\\netty`\n",
    "\n",
    "More:\n",
    "- [万字长文带你深入理解netty，史上最强详解！](https://zhuanlan.zhihu.com/p/389034303?utm_id=0)\n",
    "- [9.2 I/O 多路复用：select/poll/epoll](https://www.xiaolincoding.com/os/8_network_system/selete_poll_epoll.html)\n",
    "- [Netty堆外内存泄漏排查，这一篇全讲清楚了 - 掘金](https://juejin.cn/post/6844904036672471048)"
   ]
  },
  {
   "cell_type": "markdown",
   "metadata": {},
   "source": [
    "![Netty高层次的组件图](https://netty.io/images/components.png)"
   ]
  },
  {
   "cell_type": "markdown",
   "metadata": {},
   "source": [
    "# Components"
   ]
  },
  {
   "cell_type": "markdown",
   "metadata": {},
   "source": [
    "# Transports"
   ]
  },
  {
   "cell_type": "markdown",
   "metadata": {},
   "source": [
    "# ByteBuf"
   ]
  },
  {
   "cell_type": "markdown",
   "metadata": {},
   "source": [
    "# ChannelHandler, ChannelPipeline"
   ]
  },
  {
   "cell_type": "markdown",
   "metadata": {},
   "source": [
    "# EventLoop\n",
    "- threading model"
   ]
  },
  {
   "cell_type": "markdown",
   "metadata": {},
   "source": [
    "# Unit testing"
   ]
  },
  {
   "cell_type": "markdown",
   "metadata": {},
   "source": [
    "# Codec Framework"
   ]
  },
  {
   "cell_type": "markdown",
   "metadata": {},
   "source": [
    "# Bootstrap"
   ]
  },
  {
   "cell_type": "markdown",
   "metadata": {},
   "source": [
    "\n",
    "- `com.spike.netty.example.echo.EchoServer/EchoClient`\n",
    "\n",
    "```java\n",
    "\n",
    "event loop:\n",
    "\n",
    "io.netty.channel.nio.NioEventLoopGroup\n",
    "\\-- java.nio.channels.spi.SelectorProvider#provider\n",
    "\\-- io.netty.channel.DefaultSelectStrategyFactory#INSTANCE\n",
    "\\-- io.netty.util.concurrent.DefaultEventExecutorChooserFactory#INSTANCE\n",
    "\n",
    "io.netty.channel.nio.NioEventLoopGroup#newChild -> NioEventLoop\n",
    "io.netty.channel.nio.NioEventLoop#run // run the event loop\n",
    "\\-- io.netty.channel.nio.NioEventLoop#processSelectedKey(java.nio.channels.SelectionKey, io.netty.channel.nio.AbstractNioChannel) // OP_CONNECT, OP_ACCEPT, OP_WRITE, OP_READ\n",
    "\n",
    "Server:\n",
    "\n",
    "io.netty.bootstrap.AbstractBootstrap#bind()\n",
    "\\-- io.netty.bootstrap.AbstractBootstrap#doBind\n",
    "\\--\\-- io.netty.bootstrap.AbstractBootstrap#initAndRegister\n",
    "\\--\\--\\-- io.netty.bootstrap.ChannelFactory#newChannel // 1. 创建Channel, 使用DefaultChannelPipeline\n",
    "\\--\\--\\-- io.netty.bootstrap.ServerBootstrap#init // 2. 初始化: 设置选项和属性, 添加Handler\n",
    "setChannelOptions\n",
    "setAttributes\n",
    "pipeline addLast handler\n",
    "pipeline addLast ServerBootstrapAcceptor\n",
    "\\--\\--\\-- io.netty.channel.EventLoopGroup#register(io.netty.channel.Channel) // 3. 注册Channel到EventLoop\n",
    "io.netty.channel.AbstractChannel.AbstractUnsafe#register0\n",
    "\\--\\-- io.netty.bootstrap.AbstractBootstrap#doBind0\n",
    "bind localAddress // 4. 执行Socket绑定\n",
    "\n",
    "\n",
    "Client:\n",
    "\n",
    "io.netty.bootstrap.Bootstrap#connect()\n",
    "\\-- io.netty.bootstrap.Bootstrap#doResolveAndConnect\n",
    "\\--\\-- io.netty.bootstrap.AbstractBootstrap#initAndRegister\n",
    "io.netty.bootstrap.ChannelFactory#newChannel\n",
    "io.netty.channel.EventLoopGroup#register(io.netty.channel.Channel)\n",
    "\\--\\-- io.netty.bootstrap.Bootstrap#doResolveAndConnect0\n",
    "\\--\\--\\-- io.netty.bootstrap.Bootstrap#doConnect\n",
    "io.netty.channel.ChannelOutboundInvoker#connect(java.net.SocketAddress, io.netty.channel.ChannelPromise)\n",
    "```\n"
   ]
  },
  {
   "cell_type": "markdown",
   "metadata": {},
   "source": [
    "# Request handling"
   ]
  },
  {
   "cell_type": "markdown",
   "metadata": {
    "vscode": {
     "languageId": "plaintext"
    }
   },
   "source": [
    "\n",
    "- `ServerBootstrapAcceptor#channelRead`\n",
    "\n",
    "```\n",
    "calling trace:\n",
    "\n",
    "channelRead:207, ServerBootstrap$ServerBootstrapAcceptor (io.netty.bootstrap)\n",
    "invokeChannelRead:444, AbstractChannelHandlerContext (io.netty.channel)\n",
    "invokeChannelRead:420, AbstractChannelHandlerContext (io.netty.channel)\n",
    "fireChannelRead:412, AbstractChannelHandlerContext (io.netty.channel)\n",
    "channelRead:1410, DefaultChannelPipeline$HeadContext (io.netty.channel)\n",
    "invokeChannelRead:440, AbstractChannelHandlerContext (io.netty.channel)\n",
    "invokeChannelRead:420, AbstractChannelHandlerContext (io.netty.channel)\n",
    "fireChannelRead:919, DefaultChannelPipeline (io.netty.channel)               // fire read event\n",
    "read:97, AbstractNioMessageChannel$NioMessageUnsafe (io.netty.channel.nio)   \n",
    "processSelectedKey:788, NioEventLoop (io.netty.channel.nio)\n",
    "processSelectedKeysOptimized:724, NioEventLoop (io.netty.channel.nio)\n",
    "processSelectedKeys:650, NioEventLoop (io.netty.channel.nio)\n",
    "run:562, NioEventLoop (io.netty.channel.nio)                                 // run event loop\n",
    "run:997, SingleThreadEventExecutor$4 (io.netty.util.concurrent)\n",
    "run:74, ThreadExecutorMap$2 (io.netty.util.internal)\n",
    "run:30, FastThreadLocalRunnable (io.netty.util.concurrent)\n",
    "run:834, Thread (java.lang)\n",
    "\n",
    "works:\n",
    "\n",
    "1. child pipeline add Handler\n",
    "2. set child channel options and attributes\n",
    "3. register child channel to child event loop group\n",
    "```\n"
   ]
  },
  {
   "cell_type": "markdown",
   "metadata": {},
   "source": [
    "# Protocol: WebSocket"
   ]
  },
  {
   "cell_type": "markdown",
   "metadata": {},
   "source": [
    "# Protocol: UDP"
   ]
  }
 ],
 "metadata": {
  "language_info": {
   "name": "python"
  }
 },
 "nbformat": 4,
 "nbformat_minor": 2
}
