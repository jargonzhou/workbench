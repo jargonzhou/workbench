{
 "cells": [
  {
   "cell_type": "markdown",
   "metadata": {},
   "source": [
    "# Java"
   ]
  },
  {
   "cell_type": "markdown",
   "metadata": {},
   "source": [
    "# Langauge"
   ]
  },
  {
   "cell_type": "markdown",
   "metadata": {},
   "source": [
    "## Thead"
   ]
  },
  {
   "cell_type": "markdown",
   "metadata": {},
   "source": [
    "java.lang.Thread\n",
    "- volatile String name\n",
    "- boolean daemon\n",
    "- volatile boolean interrupted\n",
    "- Runnable target\n",
    "- ThreadGroup group\n",
    "- ClassLoader contextClassLoader\n",
    "- ThreadLocal.ThreadLocalMap threadLocals // ThreadLocal\n",
    "- ThreadLocal.ThreadLocalMap inheritableThreadLocals // InheritableThreadLocal\n",
    "\n",
    "\n",
    "java.lang.ThreadLocal\n",
    "- java.lang.ThreadLocal.ThreadLocalMap\n",
    "  - Entry(ThreadLocal<?> k, Object v): extends WeakReference<ThreadLocal<?>>\n",
    "  - java.lang.ThreadLocal.ThreadLocalMap#getEntry(ThreadLocal<?> key)\n",
    "  - java.lang.ThreadLocal.ThreadLocalMap#set(ThreadLocal<?> key, Object value)\n",
    "  - java.lang.ThreadLocal.ThreadLocalMap#remove(ThreadLocal<?> key)\n",
    "- java.lang.ThreadLocal#get()\n",
    "  - java.lang.Thread#currentThread#threadLocals\n",
    "- java.lang.ThreadLocal#set(T value)\n",
    "- java.lang.ThreadLocal#remove()"
   ]
  },
  {
   "cell_type": "markdown",
   "metadata": {},
   "source": [
    "## Collections"
   ]
  },
  {
   "cell_type": "markdown",
   "metadata": {},
   "source": [
    "## Concurrent"
   ]
  },
  {
   "cell_type": "markdown",
   "metadata": {},
   "source": []
  },
  {
   "cell_type": "markdown",
   "metadata": {},
   "source": [
    "# JVM\n",
    "- [JVM.ipynb](./JVM.ipynb)"
   ]
  },
  {
   "cell_type": "markdown",
   "metadata": {},
   "source": [
    "# Tools\n",
    "- [janino](./tools/example-janino/README.md): Janino is a super-small, super-fast Java™ compiler."
   ]
  },
  {
   "cell_type": "markdown",
   "metadata": {},
   "source": [
    "## JDWP: Java Debug Wire Protocol\n",
    "- [Java Debug Wire Protocol - 17](https://docs.oracle.com/en/java/javase/17/docs/specs/jdwp/jdwp-spec.html)\n",
    "- [Java Debug Wire Protocol Transport Interface (jdwpTransport) - 17](https://docs.oracle.com/en/java/javase/17/docs/specs/jdwp/jdwp-transport.html)"
   ]
  },
  {
   "cell_type": "markdown",
   "metadata": {},
   "source": [
    "- [`java -agentlib:libname=options`](https://docs.oracle.com/en/java/javase/17/docs/specs/man/java.html)\n",
    "\n",
    "```shell\n",
    "-agentlib:jdwp=transport=dt_socket,server=y,address=8000\n",
    "```"
   ]
  },
  {
   "cell_type": "markdown",
   "metadata": {},
   "source": [
    "## JOL: Java Object Layout\n",
    "- [project](https://openjdk.org/projects/code-tools/jol/)\n",
    "- example: [Memory Layout of Objects in Java](https://www.baeldung.com/java-memory-layout)\n",
    "\n",
    "> JOL (Java Object Layout) is the tiny toolbox to analyze object layout schemes in JVMs. These tools are using Unsafe, JVMTI, and Serviceability Agent (SA) heavily to decoder the actual object layout, footprint, and references. This makes JOL much more accurate than other tools relying on heap dumps, specification assumptions, etc."
   ]
  },
  {
   "cell_type": "markdown",
   "metadata": {},
   "source": [
    "## JVM bytecode"
   ]
  },
  {
   "cell_type": "markdown",
   "metadata": {},
   "source": [
    "### ASM\n",
    "\n",
    "- [Home](https://asm.ow2.io)\n",
    "\n",
    "> ASM is an all purpose Java bytecode manipulation and analysis framework. It can be used to modify existing classes or to dynamically generate classes, directly in binary form. ASM provides some common bytecode transformations and analysis algorithms from which custom complex transformations and code analysis tools can be built. ASM offers similar functionality as other Java bytecode frameworks, but is focused on performance. Because it was designed and implemented to be as small and as fast as possible, it is well suited for use in dynamic systems (but can of course be used in a static way too, e.g. in compilers)."
   ]
  },
  {
   "cell_type": "markdown",
   "metadata": {},
   "source": [
    "### CGLIB\n",
    "\n",
    "- [Home](https://github.com/cglib/cglib)\n",
    "\n",
    "> cglib - Byte Code Generation Library is high level API to generate and transform Java byte code. It is used by AOP, testing, data access frameworks to generate dynamic proxy objects and intercept field access.\n",
    "\n",
    "> MPORTANT NOTE: cglib is unmaintained and does not work well (or possibly at all?) in newer JDKs, particularly JDK17+. If you need to support newer JDKs, we will accept well-tested well-thought-out patches... but you'll probably have better luck migrating to something like ByteBuddy. "
   ]
  },
  {
   "cell_type": "markdown",
   "metadata": {},
   "source": [
    "### Byte Buddy\n",
    "\n",
    "- [Home](https://bytebuddy.net/#/)\n",
    "\n",
    "> Byte Buddy is a code generation and manipulation library for creating and modifying Java classes during the runtime of a Java application and without the help of a compiler. Other than the code generation utilities that ship with the Java Class Library, Byte Buddy allows the creation of arbitrary classes and is not limited to implementing interfaces for the creation of runtime proxies. Furthermore, Byte Buddy offers a convenient API for changing classes either manually, using a Java agent or during a build."
   ]
  },
  {
   "cell_type": "markdown",
   "metadata": {},
   "source": [
    "## JVMCI: JVM Compiler Interface\n",
    "- [JEP 243: Java-Level JVM Compiler Interface](https://openjdk.org/jeps/243): Develop a Java based JVM compiler interface (JVMCI) enabling a compiler written in Java to be used by the JVM as a dynamic compiler.\n",
    "- [graal-jvmci-8](https://github.com/graalvm/graal-jvmci-8): This is a fork of http://hg.openjdk.java.net/jdk8u/jdk8u/hotspot that includes JVMCI."
   ]
  },
  {
   "cell_type": "markdown",
   "metadata": {},
   "source": [
    "## JVMTI(JVM Tool Interface)\n",
    "- [Java 8 JVM Tool Interface](https://docs.oracle.com/javase/8/docs/platform/jvmti/jvmti.html): The JVM tool interface (JVM TI) is a native programming interface for use by tools. It provides both a way to inspect the state and to control the execution of applications running in the Java virtual machine (JVM). JVM TI supports the full breadth of tools that need access to JVM state, including but not limited to: profiling, debugging, monitoring, thread analysis, and coverage analysis tools. Note: JVM TI was introduced at JDK 5.0. JVM TI replaced the Java Virtual Machine Profiler Interface (JVMPI) and the Java Virtual Machine Debug Interface (JVMDI) which, as of JDK 6, are no longer provided.\n",
    "- [Creating a Debugging and Profiling Agent with JVMTI](https://www.oracle.com/technical-resources/articles/javase/jvmti.html), 2004\n",
    "\n",
    "\n",
    "- example: [JVMTI](./tools/example-jvmti/README.md)"
   ]
  },
  {
   "cell_type": "markdown",
   "metadata": {},
   "source": [
    "Agent Command Line Options: `-agentlib:<agent-lib-name>=<options>`, `-agentpath:<path-to-agent>=<options>`"
   ]
  },
  {
   "cell_type": "markdown",
   "metadata": {},
   "source": [
    "# Cryptography \n",
    "\n",
    "- [Bouncy Castle – Open-source cryptographic APIs](https://www.bouncycastle.org/)\n",
    "\n",
    "Books:\n",
    "- David Hook and Jon Eaves. **Java Cryptography: Tools and Techniques**. 2018"
   ]
  },
  {
   "cell_type": "code",
   "execution_count": 3,
   "metadata": {},
   "outputs": [
    {
     "name": "stdout",
     "output_type": "stream",
     "text": [
      "yIUCX7PqcqNwT7jI_ueY2b_rKSGs1IQ1JAbOPe75Fj8\n",
      "bL1nmJNEXeT7XRbwK8AvMA0VbgpZTNMXS6UPNhPzBhY\n"
     ]
    }
   ],
   "source": [
    "// Base64\n",
    "// SHA256\n",
    "// example in Spring Security in Action, 2nd Edition, P.290.\n",
    "import java.security.SecureRandom;\n",
    "import java.security.MessageDigest;\n",
    "import java.util.Base64;\n",
    "\n",
    "// code验证器\n",
    "SecureRandom secureRandom = new SecureRandom();\n",
    "byte[] code = new byte[32];\n",
    "secureRandom.nextBytes(code);\n",
    "String verifier = Base64.getUrlEncoder()\n",
    "  .withoutPadding()\n",
    "  .encodeToString(code);\n",
    "System.out.println(verifier);\n",
    "// code验证器的SHA256消息摘要\n",
    "MessageDigest md = MessageDigest.getInstance(\"SHA-256\");\n",
    "byte[] digest = md.digest(verifier.getBytes());\n",
    "String codeChallenge = Base64.getUrlEncoder()\n",
    "  .withoutPadding()\n",
    "  .encodeToString(digest);\n",
    "System.out.println(codeChallenge);"
   ]
  },
  {
   "cell_type": "code",
   "execution_count": 7,
   "metadata": {},
   "outputs": [
    {
     "name": "stdout",
     "output_type": "stream",
     "text": [
      "Y2xpZW50OnNlY3JldA\n",
      "cmVzb3VyY2UtY2xpZW50OnNlY3JldA\n",
      "cmVzb3VyY2Vfc2VydmVyOnJlc291cmNlX3NlcnZlcl9zZWNyZXQ\n"
     ]
    }
   ],
   "source": [
    "import java.util.Base64;\n",
    "\n",
    "System.out.println(Base64.getUrlEncoder()\n",
    "  .withoutPadding()\n",
    "  .encodeToString(\"client:secret\".getBytes()));\n",
    "\n",
    "System.out.println(Base64.getUrlEncoder()\n",
    "  .withoutPadding()\n",
    "  .encodeToString(\"resource-client:secret\".getBytes()));\n",
    "\n",
    "System.out.println(Base64.getUrlEncoder()\n",
    "  .withoutPadding()\n",
    "  .encodeToString(\"resource_server:resource_server_secret\".getBytes()));"
   ]
  },
  {
   "cell_type": "markdown",
   "metadata": {},
   "source": [
    "# JavaEE\n",
    "- [JavaEE.ipynb](./JavaEE/JavaEE.ipynb)"
   ]
  }
 ],
 "metadata": {
  "kernelspec": {
   "display_name": "Java (jjava)",
   "language": "java",
   "name": "java"
  },
  "language_info": {
   "codemirror_mode": "java",
   "file_extension": ".jshell",
   "mimetype": "text/x-java-source",
   "name": "java",
   "pygments_lexer": "java",
   "version": "17.0.9+9"
  }
 },
 "nbformat": 4,
 "nbformat_minor": 2
}
