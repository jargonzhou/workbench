{
 "cells": [
  {
   "cell_type": "markdown",
   "id": "73966d7f",
   "metadata": {},
   "source": [
    "# Tomcat\n",
    "* https://tomcat.apache.org/\n",
    "\n",
    "> The Apache Tomcat® software is an open source implementation of the Jakarta Servlet, Jakarta Pages, Jakarta Expression Language, Jakarta WebSocket, Jakarta Annotations and Jakarta Authentication specifications. These specifications are part of the Jakarta EE platform.\n",
    ">\n",
    "> The Jakarta EE platform is the evolution of the Java EE platform. Tomcat 10 and later implement specifications developed as part of Jakarta EE. Tomcat 9 and earlier implement specifications developed as part of Java EE."
   ]
  },
  {
   "cell_type": "markdown",
   "id": "96d35a01",
   "metadata": {},
   "source": [
    "# 10\n",
    "* https://tomcat.apache.org/tomcat-10.1-doc/index.html"
   ]
  },
  {
   "cell_type": "markdown",
   "id": "265a05cc",
   "metadata": {},
   "source": [
    "## Architecture\n",
    "\n",
    "- **Overview** - An overview of the Tomcat server architecture with key terms and concepts.\n",
    "- **Server Startup** - A detailed description, with sequence diagrams, of how the Tomcat server starts up.\n",
    "- **Request Process Flow** - A detailed description of how Tomcat handles a request.\n",
    "\n",
    "\n",
    "more: [8.0 ref](https://blog.csdn.net/xlgen157387/article/details/79006434)"
   ]
  },
  {
   "cell_type": "markdown",
   "id": "e8dfc47d",
   "metadata": {},
   "source": [
    "Server: In the Tomcat world, a Server represents the whole container.\n",
    "- Service(*): A Service is an intermediate component which lives inside a Server and ties one or more Connectors to exactly one Engine.\n",
    "  - Connector(*): A Connector handles communications with the client.\n",
    "  - Engine(1): An Engine represents request processing pipeline for a specific Service.\n",
    "    - Host(*): A Host is an association of a network name, e.g. www.yourcompany.com, to the Tomcat server.\n",
    "      - Context(*): A Context represents a web application. A Host may contain multiple contexts, each with a unique path."
   ]
  },
  {
   "cell_type": "markdown",
   "id": "4f95af49",
   "metadata": {},
   "source": [
    "request process:\n",
    "- Thread Pool\n",
    "- TcpWorkerThread\n",
    "- SocketWithOptionsProcessor\n",
    "- Htt11Protocol\n",
    "- Http11Processor\n",
    "- CoyoteAdapter\n",
    "- StandardEngine                   -- Engine\n",
    "- StandardPipeline\n",
    "- StandardEngineValve\n",
    "- StandardHost                     -- Host\n",
    "- AccessLogValve\n",
    "- ErrorReportValve\n",
    "- StandardHostValve\n",
    "- StandardContext                  -- Context\n",
    "- StandardContextValve\n",
    "- StandardWrapper                  -- Wrapper\n",
    "- StandardWrapperValve\n",
    "- ApplicationFilterChain           -- Filter chain\n",
    "- Servlet                          -- Servlet\n",
    "\n",
    "> Valve: 阀门\n",
    "\n",
    "<img src=\"https://tomcat.apache.org/tomcat-10.1-doc/architecture/requestProcess/request-process.png\"/>"
   ]
  }
 ],
 "metadata": {
  "language_info": {
   "name": "python"
  }
 },
 "nbformat": 4,
 "nbformat_minor": 5
}
