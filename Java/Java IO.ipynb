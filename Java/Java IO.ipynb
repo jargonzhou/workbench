{
 "cells": [
  {
   "cell_type": "markdown",
   "metadata": {},
   "source": [
    "# Java IO\n",
    "\n",
    "books:\n",
    "- Friesen, Jeff. **Java IO, NIO and NIO.2**. 2015. Apress.\n",
    "  - Classic IO\n",
    "    - File\n",
    "    - RandomAccessFile\n",
    "    - Streams\n",
    "    - Writers, Readers\n",
    "  - New IO\n",
    "    - Buffers\n",
    "    - Channels\n",
    "    - Selectors\n",
    "    - Regular Expressions\n",
    "    - Charsets\n",
    "    - Formatter\n",
    "  - More New IO\n",
    "    - File System Interface\n",
    "    - Asynchronous IO\n",
    "    - Socket Channel \n",
    "- Leonard, Anghel. **Pro Java 7 NIO.2**. 2011. Apress.\n",
    "  - Path\n",
    "  - File Attributes\n",
    "  - Symbolic and Hard Linkes\n",
    "  - Files, Directories\n",
    "  - Walks\n",
    "  - Random Acess Files\n",
    "  - Sockets\n",
    "  - Asynchronous Channel API"
   ]
  },
  {
   "cell_type": "markdown",
   "metadata": {},
   "source": [
    "# Selectors"
   ]
  }
 ],
 "metadata": {
  "language_info": {
   "name": "python"
  }
 },
 "nbformat": 4,
 "nbformat_minor": 2
}
