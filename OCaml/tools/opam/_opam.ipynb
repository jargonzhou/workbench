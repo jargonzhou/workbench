{
 "cells": [
  {
   "cell_type": "markdown",
   "metadata": {},
   "source": [
    "# opam: OCaml Package Manager\n",
    "* https://opam.ocaml.org/"
   ]
  },
  {
   "cell_type": "code",
   "execution_count": 1,
   "metadata": {
    "vscode": {
     "languageId": "ocaml"
    }
   },
   "outputs": [
    {
     "name": "stdout",
     "output_type": "stream",
     "text": [
      "#  switch   compiler                   description\n",
      "   5.2.0    ocaml-base-compiler.5.2.0  5.2.0\n",
      "→  default  ocaml.4.14.0               default\n",
      "2.1.6\n",
      "The OCaml toplevel, version 4.14.0\n"
     ]
    },
    {
     "data": {
      "text/plain": [
       "- : Jupyter_notebook.Process.t =\n",
       "{Jupyter_notebook.Process.exit_status = Unix.WEXITED 0; stdout = None;\n",
       " stderr = None}\n"
      ]
     },
     "execution_count": 1,
     "metadata": {},
     "output_type": "execute_result"
    }
   ],
   "source": [
    "#require \"jupyter.notebook\" ;;\n",
    "open Jupyter_notebook;;\n",
    "\n",
    "Process.sh \"opam switch list && opam --version && ocaml --version\""
   ]
  },
  {
   "cell_type": "markdown",
   "metadata": {},
   "source": [
    "# skaffolding projects\n",
    "* https://ocaml.org/docs/your-first-program"
   ]
  },
  {
   "cell_type": "code",
   "execution_count": 3,
   "metadata": {
    "vscode": {
     "languageId": "ocaml"
    }
   },
   "outputs": [
    {
     "name": "stderr",
     "output_type": "stream",
     "text": [
      "Entering directory '/mnt/d/GoogleDrive/wiki/jupyter-notebooks/OCaml/tools/opam/hello'\n",
      "Success: initialized project component named hello\n",
      "Leaving directory '/mnt/d/GoogleDrive/wiki/jupyter-notebooks/OCaml/tools/opam/hello'\n"
     ]
    },
    {
     "data": {
      "text/plain": [
       "- : Jupyter_notebook.Process.t =\n",
       "{Jupyter_notebook.Process.exit_status = Unix.WEXITED 0; stdout = None;\n",
       " stderr = None}\n"
      ]
     },
     "execution_count": 3,
     "metadata": {},
     "output_type": "execute_result"
    }
   ],
   "source": [
    "Process.sh \"opam exec -- dune init proj hello\""
   ]
  },
  {
   "cell_type": "code",
   "execution_count": 4,
   "metadata": {
    "vscode": {
     "languageId": "ocaml"
    }
   },
   "outputs": [
    {
     "name": "stdout",
     "output_type": "stream",
     "text": [
      ".\n",
      "├── _build\n",
      "│   └── log\n",
      "├── bin\n",
      "│   ├── dune\n",
      "│   └── main.ml\n",
      "├── dune-project\n",
      "├── hello.opam\n",
      "├── lib\n",
      "│   └── dune\n",
      "└── test\n",
      "    ├── dune\n",
      "    └── test_hello.ml\n",
      "\n",
      "4 directories, 8 files\n"
     ]
    },
    {
     "data": {
      "text/plain": [
       "- : Jupyter_notebook.Process.t =\n",
       "{Jupyter_notebook.Process.exit_status = Unix.WEXITED 0; stdout = None;\n",
       " stderr = None}\n"
      ]
     },
     "execution_count": 4,
     "metadata": {},
     "output_type": "execute_result"
    }
   ],
   "source": [
    "Process.sh \"cd hello && tree .\""
   ]
  },
  {
   "cell_type": "markdown",
   "metadata": {},
   "source": [
    "## build and execute"
   ]
  },
  {
   "cell_type": "code",
   "execution_count": 5,
   "metadata": {
    "vscode": {
     "languageId": "ocaml"
    }
   },
   "outputs": [
    {
     "data": {
      "text/plain": [
       "- : Jupyter_notebook.Process.t =\n",
       "{Jupyter_notebook.Process.exit_status = Unix.WEXITED 0; stdout = None;\n",
       " stderr = None}\n"
      ]
     },
     "execution_count": 5,
     "metadata": {},
     "output_type": "execute_result"
    }
   ],
   "source": [
    "Process.sh \"cd hello && opam exec -- dune build\""
   ]
  },
  {
   "cell_type": "code",
   "execution_count": 6,
   "metadata": {
    "vscode": {
     "languageId": "ocaml"
    }
   },
   "outputs": [
    {
     "name": "stdout",
     "output_type": "stream",
     "text": [
      "Hello, World!\n"
     ]
    },
    {
     "data": {
      "text/plain": [
       "- : Jupyter_notebook.Process.t =\n",
       "{Jupyter_notebook.Process.exit_status = Unix.WEXITED 0; stdout = None;\n",
       " stderr = None}\n"
      ]
     },
     "execution_count": 6,
     "metadata": {},
     "output_type": "execute_result"
    }
   ],
   "source": [
    "Process.sh \"cd hello && opam exec -- dune exec hello\""
   ]
  },
  {
   "cell_type": "markdown",
   "metadata": {},
   "source": [
    "## watch"
   ]
  },
  {
   "cell_type": "code",
   "execution_count": null,
   "metadata": {
    "vscode": {
     "languageId": "ocaml"
    }
   },
   "outputs": [
    {
     "name": "stderr",
     "output_type": "stream",
     "text": [
      "Uncaught RPC Error\n",
      "Unix.Unix_error(Unix.EOPNOTSUPP, \"bind\", \"\")\n",
      "backtrace:\n",
      "Raised by primitive operation at Csexp_rpc.Socket.U.bind in file\n",
      "\"src/csexp_rpc/csexp_rpc.ml\", line 17, characters 23-40\n",
      "Called from Csexp_rpc.Socket.bind in file \"src/csexp_rpc/csexp_rpc.ml\"\n",
      "(inlined), line 74, characters 13-51\n",
      "Called from Csexp_rpc.Server.create.(fun) in file\n",
      "\"src/csexp_rpc/csexp_rpc.ml\", line 400, characters 10-33\n",
      "Called from Stdlib__list.rev_map.rmap_f in file \"list.ml\", line 103,\n",
      "characters 22-25\n",
      "Called from Stdune__List.map in file \"otherlibs/stdune/src/list.ml\"\n",
      "(inlined), line 5, characters 19-33\n",
      "Called from Csexp_rpc.Server.create in file \"src/csexp_rpc/csexp_rpc.ml\",\n",
      "line 390, characters 8-360\n",
      "Called from Dune_rpc_impl__Server.create in file\n",
      "\"src/dune_rpc_impl/server.ml\", line 434, characters 13-74\n",
      "Called from CamlinternalLazy.force_lazy_block in file \"camlinternalLazy.ml\",\n",
      "line 31, characters 17-27\n",
      "Re-raised at CamlinternalLazy.force_lazy_block in file \"camlinternalLazy.ml\",\n",
      "line 36, characters 4-11\n",
      "Called from Fiber__Scheduler.exec in file \"vendor/fiber/src/scheduler.ml\",\n",
      "line 76, characters 8-11\n",
      "\n",
      "Error: bind(): Operation not supported\n"
     ]
    }
   ],
   "source": [
    "(* Process.sh \"cd hello && opam exec -- dune build -w\" *)"
   ]
  },
  {
   "cell_type": "code",
   "execution_count": null,
   "metadata": {
    "vscode": {
     "languageId": "ocaml"
    }
   },
   "outputs": [
    {
     "name": "stderr",
     "output_type": "stream",
     "text": [
      "Uncaught RPC Error\n",
      "Unix.Unix_error(Unix.EOPNOTSUPP, \"bind\", \"\")\n",
      "backtrace:\n",
      "Raised by primitive operation at Csexp_rpc.Socket.U.bind in file\n",
      "\"src/csexp_rpc/csexp_rpc.ml\", line 17, characters 23-40\n",
      "Called from Csexp_rpc.Socket.bind in file \"src/csexp_rpc/csexp_rpc.ml\"\n",
      "(inlined), line 74, characters 13-51\n",
      "Called from Csexp_rpc.Server.create.(fun) in file\n",
      "\"src/csexp_rpc/csexp_rpc.ml\", line 400, characters 10-33\n",
      "Called from Stdlib__list.rev_map.rmap_f in file \"list.ml\", line 103,\n",
      "characters 22-25\n",
      "Called from Stdune__List.map in file \"otherlibs/stdune/src/list.ml\"\n",
      "(inlined), line 5, characters 19-33\n",
      "Called from Csexp_rpc.Server.create in file \"src/csexp_rpc/csexp_rpc.ml\",\n",
      "line 390, characters 8-360\n",
      "Called from Dune_rpc_impl__Server.create in file\n",
      "\"src/dune_rpc_impl/server.ml\", line 434, characters 13-74\n",
      "Called from CamlinternalLazy.force_lazy_block in file \"camlinternalLazy.ml\",\n",
      "line 31, characters 17-27\n",
      "Re-raised at CamlinternalLazy.force_lazy_block in file \"camlinternalLazy.ml\",\n",
      "line 36, characters 4-11\n",
      "Called from Fiber__Scheduler.exec in file \"vendor/fiber/src/scheduler.ml\",\n",
      "line 76, characters 8-11\n",
      "\n",
      "Error: bind(): Operation not supported\n"
     ]
    }
   ],
   "source": [
    "(* Process.sh \"cd hello && opam exec -- dune exec hello -w\" *)"
   ]
  },
  {
   "cell_type": "markdown",
   "metadata": {},
   "source": [
    "## utop"
   ]
  },
  {
   "cell_type": "code",
   "execution_count": null,
   "metadata": {
    "vscode": {
     "languageId": "ocaml"
    }
   },
   "outputs": [
    {
     "name": "stdout",
     "output_type": "stream",
     "text": [
      "        OCaml version 4.11.2\n",
      "\n",
      "Findlib has been successfully loaded. Additional directives:\n",
      "  #require \"package\";;      to load a package\n",
      "  #list;;                   to list the available packages\n",
      "  #camlp4o;;                to load camlp4 (standard syntax)\n",
      "  #camlp4r;;                to load camlp4 (revised syntax)\n",
      "  #predicates \"p,q,...\";;   to set these predicates\n",
      "  Topfind.reset();;         to force that packages will be reloaded\n",
      "  #thread;;                 to enable threads\n",
      "\n",
      "No such package: core.top\n",
      "No such package: ppx_jane\n",
      "File \"/home/zhoujiagen/.ocamlinit\", line 5, characters 5-9:\n",
      "5 | open Base;;\n",
      "         ^^^^\n",
      "Error: Unbound module Base\n"
     ]
    }
   ],
   "source": [
    "(* Process.sh \"cd hello && opam exec -- dune utop\" *)\n",
    "\n",
    "(* in utop *)\n",
    "(* utop # #show Hello.En;;\n",
    "module En = Hello.En\n",
    "module En :\n",
    "  sig val string_of_string_list : string list -> string val v : string list end *)"
   ]
  },
  {
   "cell_type": "markdown",
   "metadata": {},
   "source": [
    "## use package modules"
   ]
  },
  {
   "cell_type": "code",
   "execution_count": 5,
   "metadata": {
    "vscode": {
     "languageId": "ocaml"
    }
   },
   "outputs": [
    {
     "name": "stderr",
     "output_type": "stream",
     "text": [
      "[NOTE] Package sexplib is already installed (current version is v0.15.1).\n"
     ]
    },
    {
     "name": "stdout",
     "output_type": "stream",
     "text": [
      "¡Hola, mundo!\n",
      "(This(is an)(s expression))\n"
     ]
    },
    {
     "data": {
      "text/plain": [
       "- : Jupyter_notebook.Process.t =\n",
       "{Jupyter_notebook.Process.exit_status = Unix.WEXITED 0; stdout = None;\n",
       " stderr = None}\n"
      ]
     },
     "execution_count": 5,
     "metadata": {},
     "output_type": "execute_result"
    }
   ],
   "source": [
    "Process.sh \"cd hello && opam install sexplib && opam exec -- dune build && opam exec -- dune exec hello\""
   ]
  },
  {
   "cell_type": "markdown",
   "metadata": {},
   "source": [
    "## preprocessor"
   ]
  },
  {
   "cell_type": "code",
   "execution_count": 18,
   "metadata": {
    "vscode": {
     "languageId": "ocaml"
    }
   },
   "outputs": [
    {
     "name": "stderr",
     "output_type": "stream",
     "text": [
      "[NOTE] Package ppx_show is already installed (current version is 0.2.1).\n"
     ]
    },
    {
     "name": "stdout",
     "output_type": "stream",
     "text": [
      "¡Hola, mundo!\n",
      "(This(is an)(s expression))\n",
      "[\"Hello\"; \"using\"; \"an\"; \"opam\"; \"library\"]\n"
     ]
    },
    {
     "data": {
      "text/plain": [
       "- : Jupyter_notebook.Process.t =\n",
       "{Jupyter_notebook.Process.exit_status = Unix.WEXITED 0; stdout = None;\n",
       " stderr = None}\n"
      ]
     },
     "execution_count": 18,
     "metadata": {},
     "output_type": "execute_result"
    }
   ],
   "source": [
    "Process.sh \"cd hello && opam install ppx_show && opam exec -- dune build && opam exec -- dune exec hello\""
   ]
  },
  {
   "cell_type": "markdown",
   "metadata": {},
   "source": [
    "## cleanup"
   ]
  },
  {
   "cell_type": "code",
   "execution_count": 17,
   "metadata": {
    "vscode": {
     "languageId": "ocaml"
    }
   },
   "outputs": [
    {
     "name": "stderr",
     "output_type": "stream",
     "text": [
      "META.hello\n",
      "dune-project\n",
      "hello.dune-package\n",
      "hello.install\n",
      "hello.opam\n"
     ]
    },
    {
     "data": {
      "text/plain": [
       "- : Jupyter_notebook.Process.t =\n",
       "{Jupyter_notebook.Process.exit_status = Unix.WEXITED 0; stdout = None;\n",
       " stderr = None}\n"
      ]
     },
     "execution_count": 17,
     "metadata": {},
     "output_type": "execute_result"
    }
   ],
   "source": [
    "Process.sh \"cd hello && dune describe targets\""
   ]
  },
  {
   "cell_type": "code",
   "execution_count": 12,
   "metadata": {
    "vscode": {
     "languageId": "ocaml"
    }
   },
   "outputs": [
    {
     "name": "stdout",
     "output_type": "stream",
     "text": [
      "DUNE-CLEAN(1)                     Dune Manual                    DUNE-CLEAN(1)\n",
      "\n",
      "\n",
      "\n",
      "NAME\n",
      "       dune-clean - Clean the project.\n",
      "\n",
      "SYNOPSIS\n",
      "       dune clean [OPTION]…\n",
      "\n",
      "DESCRIPTION\n",
      "       Removes files added by dune such as _build, <package>.install, and\n",
      "       .merlin\n",
      "\n",
      "OPTIONS\n",
      "       --action-stderr-on-success=VAL\n",
      "           Same as --action-stdout-on-success but for standard error instead\n",
      "           of standard output. A good default for large mono-repositories is\n",
      "           --action-stdout-on-success=swallow\n",
      "           --action-stderr-on-success=must-be-empty. This ensures that a\n",
      "           successful build has a \"clean\" empty output.\n",
      "\n",
      "       --action-stdout-on-success=VAL\n",
      "           Specify how to deal with the standard output of actions when they\n",
      "           succeed. Possible values are: print to just print it to Dune's\n",
      "           output, swallow to completely ignore it and must-be-empty to\n",
      "           enforce that the action printed nothing. With must-be-empty, Dune\n",
      "           will consider that the action failed if it printed something to its\n",
      "           standard output. The default is print.\n",
      "\n",
      "       --build-info\n",
      "           Show build information.\n",
      "\n",
      "       --display-separate-messages\n",
      "           Separate error messages with a blank line.\n",
      "\n",
      "       --error-reporting=VAL (absent=early)\n",
      "           Controls when the build errors are reported. early reports errors\n",
      "           as soon as they are discovered. deterministic reports errors at the\n",
      "           end of the build in a deterministic order. twice reports each error\n",
      "           twice: once as soon as the error is discovered and then again at\n",
      "           the end of the build, in a deterministic order.\n",
      "\n",
      "       -f, --force\n",
      "           Force actions associated to aliases to be re-executed even if their\n",
      "           dependencies haven't changed.\n",
      "\n",
      "       --file-watcher=VAL (absent=automatic)\n",
      "           Mechanism to detect changes in the source. Automatic to make dune\n",
      "           run an external program to detect changes. Manual to notify dune\n",
      "           that files have changed manually.\n",
      "\n",
      "       --passive-watch-mode\n",
      "           Similar to [--watch], but only start a build when instructed\n",
      "           externally by an RPC.\n",
      "\n",
      "       --sandbox=VAL (absent DUNE_SANDBOX env)\n",
      "           Set sandboxing mode. Some actions require a certain sandboxing\n",
      "           mode, so they will ignore this setting. The allowed values are:\n",
      "           none, symlink, copy, hardlink.\n",
      "\n",
      "       --stop-on-first-error\n",
      "           Stop the build as soon as an error is encountered.\n",
      "\n",
      "       -w, --watch\n",
      "           Instead of terminating build after completion, wait continuously\n",
      "           for file changes.\n",
      "\n",
      "       --wait-for-filesystem-clock\n",
      "           Dune digest file contents for better incrementally. These digests\n",
      "           are themselves cached. In some cases, Dune needs to drop some\n",
      "           digest cache entries in order for things to be reliable. This\n",
      "           option makes Dune wait for the file system clock to advance so that\n",
      "           it doesn't need to drop anything. You should probably not care\n",
      "           about this option; it is mostly useful for Dune developers to make\n",
      "           Dune tests of the digest cache more reproducible.\n",
      "\n",
      "COMMON OPTIONS\n",
      "       These options are common to all commands.\n",
      "\n",
      "       --always-show-command-line\n",
      "           Always show the full command lines of programs executed by dune.\n",
      "\n",
      "       --auto-promote\n",
      "           Automatically promote files. This is similar to running dune\n",
      "           promote after the build.\n",
      "\n",
      "       --build-dir=FILE (absent DUNE_BUILD_DIR env)\n",
      "           Specified build directory. _build if unspecified\n",
      "\n",
      "       --cache=VAL (absent DUNE_CACHE env)\n",
      "           Enable or disable Dune cache (one of disabled,\n",
      "           enabled-except-user-rules or enabled). Default is\n",
      "           `enabled-except-user-rules'.\n",
      "\n",
      "       --cache-check-probability=VAL (absent DUNE_CACHE_CHECK_PROBABILITY env)\n",
      "           Check build reproducibility by re-executing randomly chosen rules\n",
      "           and comparing their results with those stored in Dune cache. Note:\n",
      "           by increasing the probability of such checks you slow down the\n",
      "           build. The default probability is zero, i.e. no rules are checked.\n",
      "\n",
      "       --cache-storage-mode=VAL (absent DUNE_CACHE_STORAGE_MODE env)\n",
      "           Dune cache storage mode (one of auto, hardlink or copy). Default is\n",
      "           `hardlink'.\n",
      "\n",
      "       --config-file=FILE\n",
      "           Load this configuration file instead of the default one.\n",
      "\n",
      "       --debug-artifact-substitution\n",
      "           Print debugging info about artifact substitution\n",
      "\n",
      "       --debug-backtraces\n",
      "           Always print exception backtraces.\n",
      "\n",
      "       --debug-cache=VAL\n",
      "           Show debug messages on cache misses for the given cache layers.\n",
      "           Value is a comma-separated list of cache layer names. All available\n",
      "           cache layers: shared,workspace-local,fs.\n",
      "\n",
      "       --debug-dependency-path\n",
      "           In case of error, print the dependency path from the targets on the\n",
      "           command line to the rule that failed.\n",
      "\n",
      "       --debug-digests\n",
      "           Explain why Dune decides to re-digest some files\n",
      "\n",
      "       --debug-load-dir\n",
      "           Print debugging info about directory loading\n",
      "\n",
      "       --debug-package-logs (absent DUNE_DEBUG_PACKAGE_LOGS env)\n",
      "           Always print the standard logs when building packages\n",
      "\n",
      "       --default-target=TARGET (absent=@@default)\n",
      "           Set the default target that is used when none is specified to dune\n",
      "           build.\n",
      "\n",
      "       --diff-command=VAL (absent DUNE_DIFF_COMMAND env)\n",
      "           Shell command to use to diff files. Use - to disable printing the\n",
      "           diff.\n",
      "\n",
      "       --disable-promotion (absent DUNE_DISABLE_PROMOTION env)\n",
      "           Disable all promotion rules\n",
      "\n",
      "       --display=MODE\n",
      "           Control the display mode of Dune. See dune-config(5) for more\n",
      "           details. Valid values for this option are progress, verbose, short,\n",
      "           quiet or tui.\n",
      "\n",
      "       --dump-gc-stats=FILE\n",
      "           Dump the garbage collector stats to a file after the build is\n",
      "           complete.\n",
      "\n",
      "       --dump-memo-graph=FILE\n",
      "           Dump the dependency graph to a file after the build is complete.\n",
      "\n",
      "       --dump-memo-graph-format=FORMAT (absent=gexf)\n",
      "           Set the file format used by --dump-memo-graph\n",
      "\n",
      "       --dump-memo-graph-with-timing\n",
      "           Re-run each cached node in the Memo graph after building and\n",
      "           include the run duration in the output of --dump-memo-graph. Since\n",
      "           all nodes contain a cached value, each measurement will only\n",
      "           account for a single node.\n",
      "\n",
      "       --help[=FMT] (default=auto)\n",
      "           Show this help in format FMT. The value FMT must be one of auto,\n",
      "           pager, groff or plain. With auto, the format is pager or plain\n",
      "           whenever the TERM env var is dumb or undefined.\n",
      "\n",
      "       --ignore-lock-dir\n",
      "           Ignore dune.lock/ directory.\n",
      "\n",
      "       --ignore-promoted-rules\n",
      "           Ignore rules with (mode promote), except ones with (only ...). The\n",
      "           variable %{ignoring_promoted_rules} in dune files reflects whether\n",
      "           this option was passed or not.\n",
      "\n",
      "       --instrument-with=BACKENDS (absent DUNE_INSTRUMENT_WITH env)\n",
      "           Enable instrumentation by BACKENDS. BACKENDS is a comma-separated\n",
      "           list of library names, each one of which must declare an\n",
      "           instrumentation backend.\n",
      "\n",
      "       -j JOBS\n",
      "           Run no more than JOBS commands simultaneously.\n",
      "\n",
      "       --no-buffer\n",
      "           Do not buffer the output of commands executed by dune. By default\n",
      "           dune buffers the output of subcommands, in order to prevent\n",
      "           interleaving when multiple commands are executed in parallel.\n",
      "           However, this can be an issue when debugging long running tests.\n",
      "           With --no-buffer, commands have direct access to the terminal. Note\n",
      "           that as a result their output won't be captured in the log file.\n",
      "           You should use this option in conjunction with -j 1, to avoid\n",
      "           interleaving. Additionally you should use --verbose as well, to\n",
      "           make sure that commands are printed before they are being executed.\n",
      "\n",
      "       --no-config\n",
      "           Do not load the configuration file\n",
      "\n",
      "       --no-print-directory\n",
      "           Suppress \"Entering directory\" messages.\n",
      "\n",
      "       --only-packages=PACKAGES\n",
      "           Ignore stanzas referring to a package that is not in PACKAGES.\n",
      "           PACKAGES is a comma-separated list of package names. Note that this\n",
      "           has the same effect as deleting the relevant stanzas from dune\n",
      "           files. It is mostly meant for releases. During development, it is\n",
      "           likely that what you want instead is to build a particular\n",
      "           <package>.install target.\n",
      "\n",
      "       -p PACKAGES, --for-release-of-packages=PACKAGES (required)\n",
      "           Shorthand for --release --only-packages PACKAGE. You must use this\n",
      "           option in your <package>.opam files, in order to build only what's\n",
      "           necessary when your project contains multiple packages as well as\n",
      "           getting reproducible builds.\n",
      "\n",
      "       --print-metrics\n",
      "           Print out various performance metrics after every build.\n",
      "\n",
      "       --profile=VAL (absent DUNE_PROFILE env)\n",
      "           Select the build profile, for instance dev or release. The default\n",
      "           is dev.\n",
      "\n",
      "       --promote-install-files[=VAL] (default=true)\n",
      "           Promote any generated <package>.install files to the source tree.\n",
      "\n",
      "       --release\n",
      "           Put dune into a reproducible release mode. Shorthand for --root .\n",
      "           --ignore-promoted-rules --no-config --profile release\n",
      "           --always-show-command-line --promote-install-files\n",
      "           --require-dune-project-file --ignore-lock-dir --default-target\n",
      "           @install. You should use this option for release builds. For\n",
      "           instance, you must use this option in your <package>.opam files.\n",
      "           Except if you already use -p, as -p implies this option.\n",
      "\n",
      "       --require-dune-project-file[=VAL] (default=true)\n",
      "           Fail if a dune-project file is missing.\n",
      "\n",
      "       --root=DIR\n",
      "           Use this directory as workspace root instead of guessing it. Note\n",
      "           that this option doesn't change the interpretation of targets given\n",
      "           on the command line. It is only intended for scripts.\n",
      "\n",
      "       --store-orig-source-dir (absent DUNE_STORE_ORIG_SOURCE_DIR env)\n",
      "           Store original source location in dune-package metadata.\n",
      "\n",
      "       --terminal-persistence=MODE\n",
      "           Change how the log of build results are displayed to the console\n",
      "           between rebuilds while in --watch mode. Supported modes: preserve,\n",
      "           clear-on-rebuild, clear-on-rebuild-and-flush-history.\n",
      "\n",
      "       --trace-extended\n",
      "           Output extended trace data (requires trace-file).\n",
      "\n",
      "       --trace-file=FILE\n",
      "           Output trace data in catapult format (compatible with\n",
      "           chrome://tracing).\n",
      "\n",
      "       --verbose\n",
      "           Same as --display verbose\n",
      "\n",
      "       --version\n",
      "           Show version information.\n",
      "\n",
      "       --watch-exclusions=REGEX\n",
      "           Adds a POSIX regular expression that will exclude matching\n",
      "           directories from `dune build --watch`. The option\n",
      "           --watch-exclusions can be repeated to add multiple exclusions.\n",
      "           Semicolons can be also used as a separator. If no exclusions are\n",
      "           provided, then a standard set of exclusions is used; however, if\n",
      "           one or more --watch-exclusions are used, none of the standard\n",
      "           exclusions are used. The standard exclusions are: ^_opam /_opam\n",
      "           ^_esy /_esy ^\\.#.* /\\.#.* ~$ ^#[^#]*#$ /#[^#]*#$ ^4913$ /4913$\n",
      "           /.git /.hg :/windows\n",
      "\n",
      "       --workspace=FILE (absent DUNE_WORKSPACE env)\n",
      "           Use this specific workspace file instead of looking it up.\n",
      "\n",
      "       -x VAL\n",
      "           Cross-compile using this toolchain.\n",
      "\n",
      "MORE HELP\n",
      "       Use `dune COMMAND --help' for help on a single command.\n",
      "\n",
      "EXIT STATUS\n",
      "       dune clean exits with:\n",
      "\n",
      "       0   on success.\n",
      "\n",
      "       1   if an error happened.\n",
      "\n",
      "       130 if it was interrupted by a signal.\n",
      "\n",
      "ENVIRONMENT\n",
      "       These environment variables affect the execution of clean:\n",
      "\n",
      "       DUNE_BUILD_DIR\n",
      "           Specified build directory. _build if unspecified\n",
      "\n",
      "       DUNE_CACHE\n",
      "           Enable or disable Dune cache (one of disabled,\n",
      "           enabled-except-user-rules or enabled). Default is\n",
      "           `enabled-except-user-rules'.\n",
      "\n",
      "       DUNE_CACHE_CHECK_PROBABILITY\n",
      "           Check build reproducibility by re-executing randomly chosen rules\n",
      "           and comparing their results with those stored in Dune cache. Note:\n",
      "           by increasing the probability of such checks you slow down the\n",
      "           build. The default probability is zero, i.e. no rules are checked.\n",
      "\n",
      "       DUNE_CACHE_STORAGE_MODE\n",
      "           Dune cache storage mode (one of auto, hardlink or copy). Default is\n",
      "           `hardlink'.\n",
      "\n",
      "       DUNE_DEBUG_PACKAGE_LOGS\n",
      "           Always print the standard logs when building packages\n",
      "\n",
      "       DUNE_DIFF_COMMAND\n",
      "           Shell command to use to diff files. Use - to disable printing the\n",
      "           diff.\n",
      "\n",
      "       DUNE_DISABLE_PROMOTION\n",
      "           Disable all promotion rules\n",
      "\n",
      "       DUNE_INSTRUMENT_WITH\n",
      "           Enable instrumentation by BACKENDS. BACKENDS is a comma-separated\n",
      "           list of library names, each one of which must declare an\n",
      "           instrumentation backend.\n",
      "\n",
      "       DUNE_PROFILE\n",
      "           Build profile. dev if unspecified or release if -p is set.\n",
      "\n",
      "       DUNE_SANDBOX\n",
      "           Sandboxing mode to use by default. (see --sandbox)\n",
      "\n",
      "       DUNE_STORE_ORIG_SOURCE_DIR\n",
      "           Store original source location in dune-package metadata.\n",
      "\n",
      "       DUNE_WORKSPACE\n",
      "           Use this specific workspace file instead of looking it up.\n",
      "\n",
      "BUGS\n",
      "       Check bug reports at https://github.com/ocaml/dune/issues\n",
      "\n",
      "SEE ALSO\n",
      "       dune(1)\n",
      "\n",
      "\n",
      "\n",
      "Dune 3.17.1                                                      DUNE-CLEAN(1)\n"
     ]
    },
    {
     "data": {
      "text/plain": [
       "- : Jupyter_notebook.Process.t =\n",
       "{Jupyter_notebook.Process.exit_status = Unix.WEXITED 0; stdout = None;\n",
       " stderr = None}\n"
      ]
     },
     "execution_count": 12,
     "metadata": {},
     "output_type": "execute_result"
    }
   ],
   "source": [
    "Process.sh \"cd hello && dune clean --help\""
   ]
  },
  {
   "cell_type": "code",
   "execution_count": null,
   "metadata": {
    "vscode": {
     "languageId": "ocaml"
    }
   },
   "outputs": [
    {
     "name": "stderr",
     "output_type": "stream",
     "text": [
      "Error: ftruncate(): No such file or directory\n"
     ]
    },
    {
     "data": {
      "text/plain": [
       "- : Jupyter_notebook.Process.t option = None\n"
      ]
     },
     "execution_count": 20,
     "metadata": {},
     "output_type": "execute_result"
    }
   ],
   "source": [
    "(* WARN: exit with 1 *)\n",
    "try\n",
    "  Some (Process.sh \"cd hello && opam exec -- dune clean\")\n",
    "with e -> None\n",
    "\n",
    "(* Process.sh \"cd hello && dune clean\" *)"
   ]
  },
  {
   "cell_type": "markdown",
   "metadata": {},
   "source": [
    "## TODO: add test"
   ]
  }
 ],
 "metadata": {
  "kernelspec": {
   "display_name": "OCaml default",
   "language": "OCaml",
   "name": "ocaml-jupyter"
  },
  "language_info": {
   "codemirror_mode": "text/x-ocaml",
   "file_extension": ".ml",
   "mimetype": "text/x-ocaml",
   "name": "OCaml",
   "nbconverter_exporter": null,
   "pygments_lexer": "OCaml",
   "version": "4.14.0"
  }
 },
 "nbformat": 4,
 "nbformat_minor": 2
}
