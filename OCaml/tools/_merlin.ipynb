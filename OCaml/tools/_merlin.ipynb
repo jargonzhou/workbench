{
 "cells": [
  {
   "cell_type": "markdown",
   "metadata": {},
   "source": [
    "# merlin\n",
    "* https://github.com/ocaml/merlin\n",
    "\n",
    "> Context sensitive completion for OCaml in Vim and Emacs"
   ]
  }
 ],
 "metadata": {
  "language_info": {
   "name": "python"
  }
 },
 "nbformat": 4,
 "nbformat_minor": 2
}
