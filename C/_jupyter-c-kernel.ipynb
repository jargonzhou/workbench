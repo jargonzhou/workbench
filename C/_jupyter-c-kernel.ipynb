{
 "cells": [
  {
   "cell_type": "markdown",
   "metadata": {},
   "source": [
    "# jupyter-c-kernel\n",
    "- https://github.com/XaverKlemenschits/jupyter-c-kernel\n",
    "\n",
    "Kernel name: C\n",
    "\n",
    "Format: Google"
   ]
  },
  {
   "cell_type": "markdown",
   "metadata": {},
   "source": [
    "# Hello World"
   ]
  },
  {
   "cell_type": "code",
   "execution_count": 1,
   "metadata": {},
   "outputs": [
    {
     "name": "stdout",
     "output_type": "stream",
     "text": [
      "Hello, World!\n"
     ]
    }
   ],
   "source": [
    "#include <stdio.h>\n",
    "\n",
    "int main(void) {\n",
    "    printf(\"Hello, World!\\n\");\n",
    "    return 0;\n",
    "}"
   ]
  },
  {
   "cell_type": "code",
   "execution_count": 2,
   "metadata": {},
   "outputs": [
    {
     "name": "stdout",
     "output_type": "stream",
     "text": [
      "sqrt(67) = 8.185353\n"
     ]
    }
   ],
   "source": [
    "//%cflags:-lm\n",
    "\n",
    "#include <stdio.h>\n",
    "#include <math.h>\n",
    "\n",
    "int main(void) {\n",
    "    printf(\"sqrt(67) = %f\\n\", sqrt(67));\n",
    "    return 0;\n",
    "}"
   ]
  },
  {
   "cell_type": "code",
   "execution_count": 1,
   "metadata": {},
   "outputs": [
    {
     "name": "stdout",
     "output_type": "stream",
     "text": [
      "Hello, World!\n"
     ]
    }
   ],
   "source": [
    "printf(\"Hello, World!\\n\");"
   ]
  },
  {
   "cell_type": "markdown",
   "metadata": {},
   "source": [
    "# Shell"
   ]
  },
  {
   "cell_type": "code",
   "execution_count": 2,
   "metadata": {},
   "outputs": [
    {
     "name": "stdout",
     "output_type": "stream",
     "text": [
      "README.md\n",
      "_ckernel.ipynb\n",
      "_gcc.ipynb\n",
      "_gcc_shell.ipynb\n",
      "_jupyter-c-kernel.ipynb\n",
      "_jupyter-cpp-kernel.ipynb\n",
      "books\n",
      "hello_world.c\n"
     ]
    }
   ],
   "source": [
    "// How do I execute a Shell built-in command with a C function?\n",
    "// https://stackoverflow.com/questions/19209141/how-do-i-execute-a-shell-built-in-command-with-a-c-function\n",
    "\n",
    "#include <stdlib.h>\n",
    "\n",
    "system(\"ls .\");"
   ]
  }
 ],
 "metadata": {
  "kernelspec": {
   "display_name": "C",
   "language": "c",
   "name": "c"
  },
  "language_info": {
   "file_extension": ".c",
   "mimetype": "text/x-csrc",
   "name": "c"
  }
 },
 "nbformat": 4,
 "nbformat_minor": 4
}
