{
 "cells": [
  {
   "cell_type": "code",
   "execution_count": 2,
   "metadata": {},
   "outputs": [
    {
     "name": "stdout",
     "output_type": "stream",
     "text": [
      "element 0 is 9, \tits square is 81\n",
      "element 1 is 2.9, \tits square is 8.41\n",
      "element 2 is 0, \tits square is 0\n",
      "element 3 is 7e-05, \tits square is 4.9e-09\n",
      "element 4 is 3e+25, \tits square is 9e+50\n"
     ]
    }
   ],
   "source": [
    "/* This may look like nonsense, but really is -*- mode: C -*- */\n",
    "#include <stdlib.h>\n",
    "#include <stdio.h>\n",
    "\n",
    "/* The main thing that this program does. */\n",
    "int main(void) {\n",
    "  // Declarations\n",
    "  double A[5] = {\n",
    "    [0] = 9.0,\n",
    "    [1] = 2.9,\n",
    "    [4] = 3.E+25,\n",
    "    [3] = .00007,\n",
    "  };\n",
    "\n",
    "  // Doing some work\n",
    "  for (size_t i = 0; i < 5; ++i) {\n",
    "    printf(\"element %zu is %g, \\tits square is %g\\n\",\n",
    "      i,\n",
    "      A[i],\n",
    "      A[i]*A[i]);\n",
    "  }\n",
    "\n",
    "  return EXIT_SUCCESS;\n",
    "}"
   ]
  }
 ],
 "metadata": {
  "kernelspec": {
   "display_name": "C",
   "language": "c",
   "name": "c"
  },
  "language_info": {
   "file_extension": ".c",
   "mimetype": "text/x-csrc",
   "name": "c"
  }
 },
 "nbformat": 4,
 "nbformat_minor": 2
}
