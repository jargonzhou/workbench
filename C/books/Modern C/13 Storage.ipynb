{
 "cells": [
  {
   "cell_type": "markdown",
   "metadata": {},
   "source": [
    "# malloc and friends"
   ]
  },
  {
   "cell_type": "markdown",
   "metadata": {},
   "source": [
    "# Storage duration, lifetime, and visibility"
   ]
  },
  {
   "cell_type": "code",
   "execution_count": 2,
   "metadata": {},
   "outputs": [
    {
     "name": "stdout",
     "output_type": "stream",
     "text": [
      "1\n"
     ]
    }
   ],
   "source": [
    "#include <stdio.h>\n",
    "\n",
    "unsigned i = 1;\n",
    "\n",
    "int main(void) {\n",
    "  unsigned i = 2; // a new object\n",
    "  if (i) {\n",
    "    extern unsigned i; // an existing object\n",
    "    printf(\"%u\\n\", i);\n",
    "  } else {\n",
    "    printf(\"%u\\n\", i);\n",
    "  }\n",
    "}"
   ]
  }
 ],
 "metadata": {
  "kernelspec": {
   "display_name": "C",
   "language": "c",
   "name": "c"
  },
  "language_info": {
   "file_extension": ".c",
   "mimetype": "text/x-csrc",
   "name": "c"
  }
 },
 "nbformat": 4,
 "nbformat_minor": 2
}
