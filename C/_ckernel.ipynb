{
 "cells": [
  {
   "cell_type": "markdown",
   "metadata": {},
   "source": [
    "# c-kernel\n",
    "- https://c-kernel.readthedocs.io/en/latest/index.html"
   ]
  },
  {
   "cell_type": "code",
   "execution_count": 1,
   "metadata": {},
   "outputs": [
    {
     "name": "stdout",
     "output_type": "stream",
     "text": [
      "Defaulting to user installation because normal site-packages is not writeable\n",
      "Collecting ckernel\n",
      "  Using cached ckernel-0.5.3-py3-none-any.whl.metadata (2.4 kB)\n",
      "Collecting sysv-ipc (from ckernel)\n",
      "  Using cached sysv_ipc-1.1.0.tar.gz (99 kB)\n",
      "  Preparing metadata (setup.py) ... \u001b[?25ldone\n",
      "\u001b[?25hRequirement already satisfied: ipykernel in /home/zhoujiagen/.local/lib/python3.12/site-packages (from ckernel) (6.29.5)\n",
      "Requirement already satisfied: jupyter-client in /home/zhoujiagen/.local/lib/python3.12/site-packages (from ckernel) (8.6.3)\n",
      "Collecting colorama (from ckernel)\n",
      "  Using cached colorama-0.4.6-py2.py3-none-any.whl.metadata (17 kB)\n",
      "Requirement already satisfied: notebook in /home/zhoujiagen/.local/lib/python3.12/site-packages (from ckernel) (7.2.2)\n",
      "Requirement already satisfied: comm>=0.1.1 in /home/zhoujiagen/.local/lib/python3.12/site-packages (from ipykernel->ckernel) (0.2.2)\n",
      "Requirement already satisfied: debugpy>=1.6.5 in /home/zhoujiagen/.local/lib/python3.12/site-packages (from ipykernel->ckernel) (1.8.8)\n",
      "Requirement already satisfied: ipython>=7.23.1 in /home/zhoujiagen/.local/lib/python3.12/site-packages (from ipykernel->ckernel) (8.29.0)\n",
      "Requirement already satisfied: jupyter-core!=5.0.*,>=4.12 in /home/zhoujiagen/.local/lib/python3.12/site-packages (from ipykernel->ckernel) (5.7.2)\n",
      "Requirement already satisfied: matplotlib-inline>=0.1 in /home/zhoujiagen/.local/lib/python3.12/site-packages (from ipykernel->ckernel) (0.1.7)\n",
      "Requirement already satisfied: nest-asyncio in /home/zhoujiagen/.local/lib/python3.12/site-packages (from ipykernel->ckernel) (1.6.0)\n",
      "Requirement already satisfied: packaging in /home/zhoujiagen/.local/lib/python3.12/site-packages (from ipykernel->ckernel) (24.2)\n",
      "Requirement already satisfied: psutil in /home/zhoujiagen/.local/lib/python3.12/site-packages (from ipykernel->ckernel) (6.1.0)\n",
      "Requirement already satisfied: pyzmq>=24 in /home/zhoujiagen/.local/lib/python3.12/site-packages (from ipykernel->ckernel) (26.2.0)\n",
      "Requirement already satisfied: tornado>=6.1 in /home/zhoujiagen/.local/lib/python3.12/site-packages (from ipykernel->ckernel) (6.4.1)\n",
      "Requirement already satisfied: traitlets>=5.4.0 in /home/zhoujiagen/.local/lib/python3.12/site-packages (from ipykernel->ckernel) (5.14.3)\n",
      "Requirement already satisfied: python-dateutil>=2.8.2 in /home/zhoujiagen/.local/lib/python3.12/site-packages (from jupyter-client->ckernel) (2.9.0.post0)\n",
      "Requirement already satisfied: jupyter-server<3,>=2.4.0 in /home/zhoujiagen/.local/lib/python3.12/site-packages (from notebook->ckernel) (2.14.2)\n",
      "Requirement already satisfied: jupyterlab-server<3,>=2.27.1 in /home/zhoujiagen/.local/lib/python3.12/site-packages (from notebook->ckernel) (2.27.3)\n",
      "Requirement already satisfied: jupyterlab<4.3,>=4.2.0 in /home/zhoujiagen/.local/lib/python3.12/site-packages (from notebook->ckernel) (4.2.5)\n",
      "Requirement already satisfied: notebook-shim<0.3,>=0.2 in /home/zhoujiagen/.local/lib/python3.12/site-packages (from notebook->ckernel) (0.2.4)\n",
      "Requirement already satisfied: decorator in /home/zhoujiagen/.local/lib/python3.12/site-packages (from ipython>=7.23.1->ipykernel->ckernel) (5.1.1)\n",
      "Requirement already satisfied: jedi>=0.16 in /home/zhoujiagen/.local/lib/python3.12/site-packages (from ipython>=7.23.1->ipykernel->ckernel) (0.19.2)\n",
      "Requirement already satisfied: prompt-toolkit<3.1.0,>=3.0.41 in /home/zhoujiagen/.local/lib/python3.12/site-packages (from ipython>=7.23.1->ipykernel->ckernel) (3.0.48)\n",
      "Requirement already satisfied: pygments>=2.4.0 in /home/zhoujiagen/.local/lib/python3.12/site-packages (from ipython>=7.23.1->ipykernel->ckernel) (2.18.0)\n",
      "Requirement already satisfied: stack-data in /home/zhoujiagen/.local/lib/python3.12/site-packages (from ipython>=7.23.1->ipykernel->ckernel) (0.6.3)\n",
      "Requirement already satisfied: pexpect>4.3 in /home/zhoujiagen/.local/lib/python3.12/site-packages (from ipython>=7.23.1->ipykernel->ckernel) (4.9.0)\n",
      "Requirement already satisfied: platformdirs>=2.5 in /home/zhoujiagen/.local/lib/python3.12/site-packages (from jupyter-core!=5.0.*,>=4.12->ipykernel->ckernel) (4.2.2)\n",
      "Requirement already satisfied: anyio>=3.1.0 in /home/zhoujiagen/.local/lib/python3.12/site-packages (from jupyter-server<3,>=2.4.0->notebook->ckernel) (4.6.2.post1)\n",
      "Requirement already satisfied: argon2-cffi>=21.1 in /home/zhoujiagen/.local/lib/python3.12/site-packages (from jupyter-server<3,>=2.4.0->notebook->ckernel) (23.1.0)\n",
      "Requirement already satisfied: jinja2>=3.0.3 in /home/zhoujiagen/.local/lib/python3.12/site-packages (from jupyter-server<3,>=2.4.0->notebook->ckernel) (3.1.4)\n",
      "Requirement already satisfied: jupyter-events>=0.9.0 in /home/zhoujiagen/.local/lib/python3.12/site-packages (from jupyter-server<3,>=2.4.0->notebook->ckernel) (0.10.0)\n",
      "Requirement already satisfied: jupyter-server-terminals>=0.4.4 in /home/zhoujiagen/.local/lib/python3.12/site-packages (from jupyter-server<3,>=2.4.0->notebook->ckernel) (0.5.3)\n",
      "Requirement already satisfied: nbconvert>=6.4.4 in /home/zhoujiagen/.local/lib/python3.12/site-packages (from jupyter-server<3,>=2.4.0->notebook->ckernel) (7.16.4)\n",
      "Requirement already satisfied: nbformat>=5.3.0 in /home/zhoujiagen/.local/lib/python3.12/site-packages (from jupyter-server<3,>=2.4.0->notebook->ckernel) (5.10.4)\n",
      "Requirement already satisfied: overrides>=5.0 in /home/zhoujiagen/.local/lib/python3.12/site-packages (from jupyter-server<3,>=2.4.0->notebook->ckernel) (7.7.0)\n",
      "Requirement already satisfied: prometheus-client>=0.9 in /home/zhoujiagen/.local/lib/python3.12/site-packages (from jupyter-server<3,>=2.4.0->notebook->ckernel) (0.21.0)\n",
      "Requirement already satisfied: send2trash>=1.8.2 in /home/zhoujiagen/.local/lib/python3.12/site-packages (from jupyter-server<3,>=2.4.0->notebook->ckernel) (1.8.3)\n",
      "Requirement already satisfied: terminado>=0.8.3 in /home/zhoujiagen/.local/lib/python3.12/site-packages (from jupyter-server<3,>=2.4.0->notebook->ckernel) (0.18.1)\n",
      "Requirement already satisfied: websocket-client>=1.7 in /home/zhoujiagen/.local/lib/python3.12/site-packages (from jupyter-server<3,>=2.4.0->notebook->ckernel) (1.8.0)\n",
      "Requirement already satisfied: async-lru>=1.0.0 in /home/zhoujiagen/.local/lib/python3.12/site-packages (from jupyterlab<4.3,>=4.2.0->notebook->ckernel) (2.0.4)\n",
      "Requirement already satisfied: httpx>=0.25.0 in /home/zhoujiagen/.local/lib/python3.12/site-packages (from jupyterlab<4.3,>=4.2.0->notebook->ckernel) (0.27.2)\n",
      "Requirement already satisfied: jupyter-lsp>=2.0.0 in /home/zhoujiagen/.local/lib/python3.12/site-packages (from jupyterlab<4.3,>=4.2.0->notebook->ckernel) (2.2.5)\n",
      "Requirement already satisfied: setuptools>=40.1.0 in /usr/local/lib/python3.12/dist-packages (from jupyterlab<4.3,>=4.2.0->notebook->ckernel) (70.1.1)\n",
      "Requirement already satisfied: babel>=2.10 in /home/zhoujiagen/.local/lib/python3.12/site-packages (from jupyterlab-server<3,>=2.27.1->notebook->ckernel) (2.16.0)\n",
      "Requirement already satisfied: json5>=0.9.0 in /home/zhoujiagen/.local/lib/python3.12/site-packages (from jupyterlab-server<3,>=2.27.1->notebook->ckernel) (0.9.28)\n",
      "Requirement already satisfied: jsonschema>=4.18.0 in /home/zhoujiagen/.local/lib/python3.12/site-packages (from jupyterlab-server<3,>=2.27.1->notebook->ckernel) (4.23.0)\n",
      "Requirement already satisfied: requests>=2.31 in /home/zhoujiagen/.local/lib/python3.12/site-packages (from jupyterlab-server<3,>=2.27.1->notebook->ckernel) (2.32.3)\n",
      "Requirement already satisfied: six>=1.5 in /usr/lib/python3/dist-packages (from python-dateutil>=2.8.2->jupyter-client->ckernel) (1.16.0)\n",
      "Requirement already satisfied: idna>=2.8 in /home/zhoujiagen/.local/lib/python3.12/site-packages (from anyio>=3.1.0->jupyter-server<3,>=2.4.0->notebook->ckernel) (3.10)\n",
      "Requirement already satisfied: sniffio>=1.1 in /home/zhoujiagen/.local/lib/python3.12/site-packages (from anyio>=3.1.0->jupyter-server<3,>=2.4.0->notebook->ckernel) (1.3.1)\n",
      "Requirement already satisfied: argon2-cffi-bindings in /home/zhoujiagen/.local/lib/python3.12/site-packages (from argon2-cffi>=21.1->jupyter-server<3,>=2.4.0->notebook->ckernel) (21.2.0)\n",
      "Requirement already satisfied: certifi in /home/zhoujiagen/.local/lib/python3.12/site-packages (from httpx>=0.25.0->jupyterlab<4.3,>=4.2.0->notebook->ckernel) (2024.8.30)\n",
      "Requirement already satisfied: httpcore==1.* in /home/zhoujiagen/.local/lib/python3.12/site-packages (from httpx>=0.25.0->jupyterlab<4.3,>=4.2.0->notebook->ckernel) (1.0.6)\n",
      "Requirement already satisfied: h11<0.15,>=0.13 in /home/zhoujiagen/.local/lib/python3.12/site-packages (from httpcore==1.*->httpx>=0.25.0->jupyterlab<4.3,>=4.2.0->notebook->ckernel) (0.14.0)\n",
      "Requirement already satisfied: parso<0.9.0,>=0.8.4 in /home/zhoujiagen/.local/lib/python3.12/site-packages (from jedi>=0.16->ipython>=7.23.1->ipykernel->ckernel) (0.8.4)\n",
      "Requirement already satisfied: MarkupSafe>=2.0 in /home/zhoujiagen/.local/lib/python3.12/site-packages (from jinja2>=3.0.3->jupyter-server<3,>=2.4.0->notebook->ckernel) (3.0.2)\n",
      "Requirement already satisfied: attrs>=22.2.0 in /home/zhoujiagen/.local/lib/python3.12/site-packages (from jsonschema>=4.18.0->jupyterlab-server<3,>=2.27.1->notebook->ckernel) (24.2.0)\n",
      "Requirement already satisfied: jsonschema-specifications>=2023.03.6 in /home/zhoujiagen/.local/lib/python3.12/site-packages (from jsonschema>=4.18.0->jupyterlab-server<3,>=2.27.1->notebook->ckernel) (2024.10.1)\n",
      "Requirement already satisfied: referencing>=0.28.4 in /home/zhoujiagen/.local/lib/python3.12/site-packages (from jsonschema>=4.18.0->jupyterlab-server<3,>=2.27.1->notebook->ckernel) (0.35.1)\n",
      "Requirement already satisfied: rpds-py>=0.7.1 in /home/zhoujiagen/.local/lib/python3.12/site-packages (from jsonschema>=4.18.0->jupyterlab-server<3,>=2.27.1->notebook->ckernel) (0.21.0)\n",
      "Requirement already satisfied: python-json-logger>=2.0.4 in /home/zhoujiagen/.local/lib/python3.12/site-packages (from jupyter-events>=0.9.0->jupyter-server<3,>=2.4.0->notebook->ckernel) (2.0.7)\n",
      "Requirement already satisfied: pyyaml>=5.3 in /usr/lib/python3/dist-packages (from jupyter-events>=0.9.0->jupyter-server<3,>=2.4.0->notebook->ckernel) (5.4.1)\n",
      "Requirement already satisfied: rfc3339-validator in /home/zhoujiagen/.local/lib/python3.12/site-packages (from jupyter-events>=0.9.0->jupyter-server<3,>=2.4.0->notebook->ckernel) (0.1.4)\n",
      "Requirement already satisfied: rfc3986-validator>=0.1.1 in /home/zhoujiagen/.local/lib/python3.12/site-packages (from jupyter-events>=0.9.0->jupyter-server<3,>=2.4.0->notebook->ckernel) (0.1.1)\n",
      "Requirement already satisfied: beautifulsoup4 in /home/zhoujiagen/.local/lib/python3.12/site-packages (from nbconvert>=6.4.4->jupyter-server<3,>=2.4.0->notebook->ckernel) (4.12.3)\n",
      "Requirement already satisfied: bleach!=5.0.0 in /home/zhoujiagen/.local/lib/python3.12/site-packages (from nbconvert>=6.4.4->jupyter-server<3,>=2.4.0->notebook->ckernel) (6.2.0)\n",
      "Requirement already satisfied: defusedxml in /home/zhoujiagen/.local/lib/python3.12/site-packages (from nbconvert>=6.4.4->jupyter-server<3,>=2.4.0->notebook->ckernel) (0.7.1)\n",
      "Requirement already satisfied: jupyterlab-pygments in /home/zhoujiagen/.local/lib/python3.12/site-packages (from nbconvert>=6.4.4->jupyter-server<3,>=2.4.0->notebook->ckernel) (0.3.0)\n",
      "Requirement already satisfied: mistune<4,>=2.0.3 in /home/zhoujiagen/.local/lib/python3.12/site-packages (from nbconvert>=6.4.4->jupyter-server<3,>=2.4.0->notebook->ckernel) (3.0.2)\n",
      "Requirement already satisfied: nbclient>=0.5.0 in /home/zhoujiagen/.local/lib/python3.12/site-packages (from nbconvert>=6.4.4->jupyter-server<3,>=2.4.0->notebook->ckernel) (0.10.0)\n",
      "Requirement already satisfied: pandocfilters>=1.4.1 in /home/zhoujiagen/.local/lib/python3.12/site-packages (from nbconvert>=6.4.4->jupyter-server<3,>=2.4.0->notebook->ckernel) (1.5.1)\n",
      "Requirement already satisfied: tinycss2 in /home/zhoujiagen/.local/lib/python3.12/site-packages (from nbconvert>=6.4.4->jupyter-server<3,>=2.4.0->notebook->ckernel) (1.4.0)\n",
      "Requirement already satisfied: fastjsonschema>=2.15 in /home/zhoujiagen/.local/lib/python3.12/site-packages (from nbformat>=5.3.0->jupyter-server<3,>=2.4.0->notebook->ckernel) (2.20.0)\n",
      "Requirement already satisfied: ptyprocess>=0.5 in /home/zhoujiagen/.local/lib/python3.12/site-packages (from pexpect>4.3->ipython>=7.23.1->ipykernel->ckernel) (0.7.0)\n",
      "Requirement already satisfied: wcwidth in /home/zhoujiagen/.local/lib/python3.12/site-packages (from prompt-toolkit<3.1.0,>=3.0.41->ipython>=7.23.1->ipykernel->ckernel) (0.2.13)\n",
      "Requirement already satisfied: charset-normalizer<4,>=2 in /home/zhoujiagen/.local/lib/python3.12/site-packages (from requests>=2.31->jupyterlab-server<3,>=2.27.1->notebook->ckernel) (3.4.0)\n",
      "Requirement already satisfied: urllib3<3,>=1.21.1 in /home/zhoujiagen/.local/lib/python3.12/site-packages (from requests>=2.31->jupyterlab-server<3,>=2.27.1->notebook->ckernel) (2.2.3)\n",
      "Requirement already satisfied: executing>=1.2.0 in /home/zhoujiagen/.local/lib/python3.12/site-packages (from stack-data->ipython>=7.23.1->ipykernel->ckernel) (2.1.0)\n",
      "Requirement already satisfied: asttokens>=2.1.0 in /home/zhoujiagen/.local/lib/python3.12/site-packages (from stack-data->ipython>=7.23.1->ipykernel->ckernel) (2.4.1)\n",
      "Requirement already satisfied: pure-eval in /home/zhoujiagen/.local/lib/python3.12/site-packages (from stack-data->ipython>=7.23.1->ipykernel->ckernel) (0.2.3)\n",
      "Requirement already satisfied: webencodings in /home/zhoujiagen/.local/lib/python3.12/site-packages (from bleach!=5.0.0->nbconvert>=6.4.4->jupyter-server<3,>=2.4.0->notebook->ckernel) (0.5.1)\n",
      "Requirement already satisfied: fqdn in /home/zhoujiagen/.local/lib/python3.12/site-packages (from jsonschema[format-nongpl]>=4.18.0->jupyter-events>=0.9.0->jupyter-server<3,>=2.4.0->notebook->ckernel) (1.5.1)\n",
      "Requirement already satisfied: isoduration in /home/zhoujiagen/.local/lib/python3.12/site-packages (from jsonschema[format-nongpl]>=4.18.0->jupyter-events>=0.9.0->jupyter-server<3,>=2.4.0->notebook->ckernel) (20.11.0)\n",
      "Requirement already satisfied: jsonpointer>1.13 in /home/zhoujiagen/.local/lib/python3.12/site-packages (from jsonschema[format-nongpl]>=4.18.0->jupyter-events>=0.9.0->jupyter-server<3,>=2.4.0->notebook->ckernel) (3.0.0)\n",
      "Requirement already satisfied: uri-template in /home/zhoujiagen/.local/lib/python3.12/site-packages (from jsonschema[format-nongpl]>=4.18.0->jupyter-events>=0.9.0->jupyter-server<3,>=2.4.0->notebook->ckernel) (1.3.0)\n",
      "Requirement already satisfied: webcolors>=24.6.0 in /home/zhoujiagen/.local/lib/python3.12/site-packages (from jsonschema[format-nongpl]>=4.18.0->jupyter-events>=0.9.0->jupyter-server<3,>=2.4.0->notebook->ckernel) (24.11.1)\n",
      "Requirement already satisfied: cffi>=1.0.1 in /home/zhoujiagen/.local/lib/python3.12/site-packages (from argon2-cffi-bindings->argon2-cffi>=21.1->jupyter-server<3,>=2.4.0->notebook->ckernel) (1.17.1)\n",
      "Requirement already satisfied: soupsieve>1.2 in /home/zhoujiagen/.local/lib/python3.12/site-packages (from beautifulsoup4->nbconvert>=6.4.4->jupyter-server<3,>=2.4.0->notebook->ckernel) (2.6)\n",
      "Requirement already satisfied: pycparser in /home/zhoujiagen/.local/lib/python3.12/site-packages (from cffi>=1.0.1->argon2-cffi-bindings->argon2-cffi>=21.1->jupyter-server<3,>=2.4.0->notebook->ckernel) (2.22)\n",
      "Requirement already satisfied: arrow>=0.15.0 in /home/zhoujiagen/.local/lib/python3.12/site-packages (from isoduration->jsonschema[format-nongpl]>=4.18.0->jupyter-events>=0.9.0->jupyter-server<3,>=2.4.0->notebook->ckernel) (1.3.0)\n",
      "Requirement already satisfied: types-python-dateutil>=2.8.10 in /home/zhoujiagen/.local/lib/python3.12/site-packages (from arrow>=0.15.0->isoduration->jsonschema[format-nongpl]>=4.18.0->jupyter-events>=0.9.0->jupyter-server<3,>=2.4.0->notebook->ckernel) (2.9.0.20241003)\n",
      "Using cached ckernel-0.5.3-py3-none-any.whl (20 kB)\n",
      "Using cached colorama-0.4.6-py2.py3-none-any.whl (25 kB)\n",
      "Building wheels for collected packages: sysv-ipc\n",
      "  Building wheel for sysv-ipc (setup.py) ... \u001b[?25lerror\n",
      "  \u001b[1;31merror\u001b[0m: \u001b[1msubprocess-exited-with-error\u001b[0m\n",
      "  \n",
      "  \u001b[31m×\u001b[0m \u001b[32mpython setup.py bdist_wheel\u001b[0m did not run successfully.\n",
      "  \u001b[31m│\u001b[0m exit code: \u001b[1;36m1\u001b[0m\n",
      "  \u001b[31m╰─>\u001b[0m \u001b[31m[19 lines of output]\u001b[0m\n",
      "  \u001b[31m   \u001b[0m ******************************************************************************\n",
      "  \u001b[31m   \u001b[0m * Setup can't determine the value of PAGE_SIZE on your system, so it will\n",
      "  \u001b[31m   \u001b[0m * default to 4096 which may not be correct.\n",
      "  \u001b[31m   \u001b[0m *\n",
      "  \u001b[31m   \u001b[0m * Please report this message and your operating system info to the package\n",
      "  \u001b[31m   \u001b[0m * maintainer listed in the README file.\n",
      "  \u001b[31m   \u001b[0m ******************************************************************************\n",
      "  \u001b[31m   \u001b[0m running bdist_wheel\n",
      "  \u001b[31m   \u001b[0m running build\n",
      "  \u001b[31m   \u001b[0m running build_ext\n",
      "  \u001b[31m   \u001b[0m building 'sysv_ipc' extension\n",
      "  \u001b[31m   \u001b[0m creating build\n",
      "  \u001b[31m   \u001b[0m creating build/temp.linux-x86_64-cpython-312\n",
      "  \u001b[31m   \u001b[0m x86_64-linux-gnu-gcc -pthread -fno-strict-overflow -Wsign-compare -DNDEBUG -g -O2 -Wall -g -fstack-protector-strong -Wformat -Werror=format-security -g -fwrapv -O2 -fPIC -I/usr/include/python3.12 -c common.c -o build/temp.linux-x86_64-cpython-312/common.o\n",
      "  \u001b[31m   \u001b[0m common.c:2:10: fatal error: Python.h: No such file or directory\n",
      "  \u001b[31m   \u001b[0m     2 | #include \"Python.h\"\n",
      "  \u001b[31m   \u001b[0m       |          ^~~~~~~~~~\n",
      "  \u001b[31m   \u001b[0m compilation terminated.\n",
      "  \u001b[31m   \u001b[0m error: command '/usr/bin/x86_64-linux-gnu-gcc' failed with exit code 1\n",
      "  \u001b[31m   \u001b[0m \u001b[31m[end of output]\u001b[0m\n",
      "  \n",
      "  \u001b[1;35mnote\u001b[0m: This error originates from a subprocess, and is likely not a problem with pip.\n",
      "\u001b[31m  ERROR: Failed building wheel for sysv-ipc\u001b[0m\u001b[31m\n",
      "\u001b[0m\u001b[?25h  Running setup.py clean for sysv-ipc\n",
      "Failed to build sysv-ipc\n",
      "\u001b[31mERROR: ERROR: Failed to build installable wheels for some pyproject.toml based projects (sysv-ipc)\u001b[0m\u001b[31m\n",
      "\u001b[0m\n",
      "\u001b[1m[\u001b[0m\u001b[34;49mnotice\u001b[0m\u001b[1;39;49m]\u001b[0m\u001b[39;49m A new release of pip is available: \u001b[0m\u001b[31;49m24.1.1\u001b[0m\u001b[39;49m -> \u001b[0m\u001b[32;49m24.3.1\u001b[0m\n",
      "\u001b[1m[\u001b[0m\u001b[34;49mnotice\u001b[0m\u001b[1;39;49m]\u001b[0m\u001b[39;49m To update, run: \u001b[0m\u001b[32;49mpython3.12 -m pip install --upgrade pip\u001b[0m\n"
     ]
    }
   ],
   "source": [
    "!pip3 install ckernel"
   ]
  },
  {
   "cell_type": "code",
   "execution_count": null,
   "metadata": {
    "vscode": {
     "languageId": "python"
    }
   },
   "outputs": [],
   "source": [
    "# Kernel name: C/C++\n",
    "!python3.12 -m ckernel install ckernel \"C/C++\""
   ]
  },
  {
   "cell_type": "code",
   "execution_count": 1,
   "metadata": {},
   "outputs": [
    {
     "name": "stdout",
     "output_type": "stream",
     "text": [
      "/usr/bin/gcc\n"
     ]
    }
   ],
   "source": [
    "!which gcc"
   ]
  },
  {
   "cell_type": "code",
   "execution_count": 2,
   "metadata": {},
   "outputs": [
    {
     "name": "stdout",
     "output_type": "stream",
     "text": [
      "gcc (Ubuntu 11.2.0-19ubuntu1) 11.2.0\n",
      "Copyright (C) 2021 Free Software Foundation, Inc.\n",
      "This is free software; see the source for copying conditions.  There is NO\n",
      "warranty; not even for MERCHANTABILITY or FITNESS FOR A PARTICULAR PURPOSE.\n",
      "\n"
     ]
    }
   ],
   "source": [
    "!gcc --version"
   ]
  },
  {
   "cell_type": "markdown",
   "metadata": {},
   "source": [
    "# Hello World\n",
    "\n",
    "WARN: generate files hello.c hello.o hello"
   ]
  },
  {
   "cell_type": "code",
   "execution_count": 3,
   "metadata": {},
   "outputs": [
    {
     "name": "stdout",
     "output_type": "stream",
     "text": [
      "wrote file hello.c\n",
      "$> gcc   hello.c    -o hello\n",
      "$> ./hello \n",
      "Hello, World!\n"
     ]
    }
   ],
   "source": [
    "//// hello.c\n",
    "#include <stdio.h>\n",
    "\n",
    "int main(void) {\n",
    "  printf(\"Hello, World!\\n\");\n",
    "  return 0;\n",
    "}"
   ]
  },
  {
   "cell_type": "markdown",
   "metadata": {},
   "source": [
    "# Adding options in magic comments\n",
    "- https://c-kernel.readthedocs.io/en/latest/01-use.html\n",
    "\n",
    "The following options can be specified in a `//%` magic comment within a code cell:\n",
    "\n",
    "| Option      | Meaning                                           | Example               |\n",
    "| ----------- | ------------------------------------------------- | --------------------- |\n",
    "| `CC`        | set the C compiler                                | `CC clang`            |\n",
    "| `CXX`       | set the C++ compiler                              | `CXX clang++`         |\n",
    "| `CFLAGS`    | add C compilation flags                           | `CFLAGS -Wall`        |\n",
    "| `CXXFLAGS`  | add C++ compilation flags                         | `CXXFLAGS -std=c++17` |\n",
    "| `LDFLAGS`   | add linker flags                                  | `LDFLAGS -lm`         |\n",
    "| `DEPENDS`   | add .o dependencies, separated by spaces          | `DEPENDS mycode.o`    |\n",
    "| `VERBOSE`   | extra output from the kernel                      |                       |\n",
    "| `ARGS`      | command-line arguments to the executable          | `ARGS arg1 arg2 etc`  |\n",
    "| `NOCOMPILE` | save and don’t compile the code cell              |                       |\n",
    "| `NOEXEC`    | save and compile, but don’t execute the code cell |                       |\n"
   ]
  },
  {
   "cell_type": "code",
   "execution_count": null,
   "metadata": {},
   "outputs": [
    {
     "name": "stdout",
     "output_type": "stream",
     "text": [
      "wrote file ex_math.c\n",
      "$> gcc  -Wall ex_math.c   -lm -o ex_math\n",
      "$> ./ex_math \n",
      "sqrt(67) = 8.185353\n"
     ]
    }
   ],
   "source": [
    "//// ex_math.c\n",
    "//% CFLAGS -Wall\n",
    "//% LDFLAGS -lm\n",
    "#include <stdio.h>\n",
    "#include <math.h>\n",
    "\n",
    "int main(void) {\n",
    "    printf(\"sqrt(67) = %f\\n\", sqrt(67));\n",
    "    return 0;\n",
    "}"
   ]
  }
 ],
 "metadata": {
  "kernelspec": {
   "display_name": "C/C++",
   "language": "",
   "name": "ckernel"
  },
  "language_info": {
   "codemirror_mode": "text/x-csrc",
   "name": "c"
  }
 },
 "nbformat": 4,
 "nbformat_minor": 4
}
