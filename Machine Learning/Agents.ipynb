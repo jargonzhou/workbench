{
 "cells": [
  {
   "cell_type": "markdown",
   "id": "63581fd2",
   "metadata": {},
   "source": [
    "# Intelligent Agent\n",
    "\n",
    "- [Wikipedia](https://en.wikipedia.org/wiki/Intelligent_agent) <--\n",
    "- [IBM](https://www.ibm.com/think/topics/ai-agents) <--\n",
    "- [Microsoft](https://news.microsoft.com/source/features/ai/ai-agents-what-they-are-and-how-theyll-change-the-way-we-work/)\n",
    "- [Google](https://cloud.google.com/discover/what-are-ai-agents)\n",
    "- [AWS](https://aws.amazon.com/what-is/ai-agents/)\n",
    "- [Github](https://github.com/resources/articles/ai/what-are-ai-agents)"
   ]
  },
  {
   "cell_type": "markdown",
   "id": "19c0f3e5",
   "metadata": {},
   "source": [
    "# Terms"
   ]
  },
  {
   "cell_type": "markdown",
   "id": "4479ecb4",
   "metadata": {},
   "source": [
    "- agent: 代理, 智能体\n",
    "  - 人工智能代理: 设计其工作流程, 利用可用工具来代表用户或其他系统自主执行任务的系统或程序. 涵盖NLP之外的广泛功能, 包括决策, 解决问题, 与外部环境交互和执行动作.\n",
    "- Attention: 注意力机制 - [wikipedia](https://en.wikipedia.org/wiki/Attention_(machine_learning)) \n",
    "  - 一种机器学习方法, 确定序列中每个组件相对于该序列中其它组件的重要性. 允许一个token直接访问句子的任何部分, 而不是仅通过先前的状态.\n",
    "  - RNN循环神经网络: 串行. 倾向于获取句末单词中包含的较新信息, 句子中较早部分的信息会被弱化.\n",
    "  - Transformer: 依赖速度更快的并行注意力机制.\n",
    "- GPT: Generative Pretrained Transformer, 生成式预训练Transformer - [wikipedia](https://en.wikipedia.org/wiki/Generative_pre-trained_transformer)\n",
    "  - 基于Transformer架构, 在大量未标记文本数据集上进行预训练, 能够生成新颖的类似人类的内容.\n",
    "  - 例: 2024-05 OpenAI GPT-4o\n",
    "- LLM: Large Language Model, 大语言模型\n",
    "  - 专为自然语言处理任务(例语言生成)而设计的机器学习模型.\n",
    "  - 是具有许多参数的语言模型, 通过自监督学习对大量文本进行训练.\n",
    "  - 例: GPT. 通过特定任务上的微调或通过提示工程化指导.\n",
    "- RAG: Retrieval-Augmented Generation, 检索增强生成\n",
    "- RNN: 循环神经网络 - [wikipedia](https://en.wikipedia.org/wiki/Recurrent_neural_network)\n",
    "  - 两种架构: LSTM(长短期记忆网络), BRNN(双向循环神经网络)\n",
    "- Transformer: 一种深度学习架构 - [wikipedia](https://en.wikipedia.org/wiki/Transformer_(deep_learning_architecture))"
   ]
  },
  {
   "cell_type": "markdown",
   "id": "14d40bf6",
   "metadata": {},
   "source": [
    "# LLM\n",
    "- [wikipedia](https://en.wikipedia.org/wiki/Large_language_model)"
   ]
  },
  {
   "cell_type": "markdown",
   "id": "e4dc485f",
   "metadata": {},
   "source": [
    "example: [example-LLM.ipynb](./example-LLM.ipynb)"
   ]
  },
  {
   "cell_type": "markdown",
   "id": "546d0068",
   "metadata": {},
   "source": [
    "# RAG\n",
    "- RAG: Retrieval-Augmented Generation, 检索增强生成 - [wikipedia](https://en.wikipedia.org/wiki/Retrieval-augmented_generation)"
   ]
  },
  {
   "cell_type": "markdown",
   "id": "2873a48e",
   "metadata": {},
   "source": [
    "- 生成优化LLM的交互方式, 让模型根据指定的一组文件回应用户的查询, 并使用这些信息增强从自身庞大的静态训练数据集中提取的信息.\n",
    "- 促使LLM能够使用特定领域或更新后的信息.\n",
    "- 案例: 让聊天机器人访问公司内部资料或权威来源的事实信息."
   ]
  },
  {
   "cell_type": "markdown",
   "id": "da46f24c",
   "metadata": {},
   "source": [
    "关键阶段\n",
    "\n",
    "<img src=\"https://upload.wikimedia.org/wikipedia/commons/thumb/1/14/RAG_diagram.svg/1024px-RAG_diagram.svg.png\" width=\"500\"/>"
   ]
  },
  {
   "cell_type": "markdown",
   "id": "67a86cdb",
   "metadata": {},
   "source": [
    "- 1. 索引: 将数据转换成LLM嵌入, 以大向量空间表示, 存储在向量数据库中.\n",
    "- 2. 检索: 给定用户查询, 使用检索器选择相关文档, 用于扩充查询.\n",
    "- 3. 增强: 通过对用户的原始查询提示工程化(prompt engineering), 将相关信息输入LLM中.\n",
    "- 4. 生成: LLM生成基于查询和相关文档的输出."
   ]
  },
  {
   "cell_type": "markdown",
   "id": "ff071074",
   "metadata": {},
   "source": [
    "# MLOps\n",
    "- https://ml-ops.org/\n",
    "- [wikipedia](https://en.wikipedia.org/wiki/MLOps)"
   ]
  },
  {
   "cell_type": "markdown",
   "id": "7a519680",
   "metadata": {},
   "source": [
    "GCP: [MLOps: Continuous delivery and automation pipelines in machine learning](https://cloud.google.com/architecture/mlops-continuous-delivery-and-automation-pipelines-in-machine-learning)\n",
    "\n",
    "terms:\n",
    "- CI: continuous integration\n",
    "- CD: continuous delivery\n",
    "- CT: continuous training\n",
    "\n",
    "\n",
    "level 0: manual process\n",
    "\n",
    "- Manual ML steps to serve the model as a prediction service.\n",
    "<img src=\"https://cloud.google.com/static/architecture/images/mlops-continuous-delivery-and-automation-pipelines-in-machine-learning-2-manual-ml.svg\"/>\n",
    "\n",
    "level 1: ML pipeline automation\n",
    "\n",
    "- ML pipeline automation for CT.\n",
    "<img src=\"https://cloud.google.com/static/architecture/images/mlops-continuous-delivery-and-automation-pipelines-in-machine-learning-3-ml-automation-ct.svg\"/>\n",
    "\n",
    "level 2: CI/CD pipepline automation\n",
    "\n",
    "- CI/CD and automated ML pipeline.\n",
    "<img src=\"https://cloud.google.com/static/architecture/images/mlops-continuous-delivery-and-automation-pipelines-in-machine-learning-4-ml-automation-ci-cd.svg\"/>"
   ]
  },
  {
   "cell_type": "markdown",
   "id": "d6a4ca19",
   "metadata": {},
   "source": [
    "## Tools\n",
    "- [Awesome MLOps](https://github.com/kelvins/awesome-mlops)\n",
    "- [Awesome-LLMOps](https://github.com/tensorchord/Awesome-LLMOps)"
   ]
  },
  {
   "cell_type": "markdown",
   "id": "2604efa1",
   "metadata": {},
   "source": [
    "\n",
    "- [25 Top MLOps Tools You Need to Know in 2025](https://www.datacamp.com/blog/top-mlops-tools)\n",
    "  - LLM框架\n",
    "    - Qdrant: 向量相似性搜索引擎和向量数据库\n",
    "    - LangChain: 用于开发基于语言模型的应用程序\n",
    "  - 实验跟踪和模型元数据管理工具\n",
    "    - MLFlow: 用于实验跟踪, 可重复性, 部署和模型注册\n",
    "    - Comet ML: 用于跟踪, 比较, 解释和优化机器学习模型及实验的平台, with Scikit-learn, PyTorch, TensorFlow, HuggingFace\n",
    "    - Weights & Blases: 用于实验跟踪, 数据和模型版本控制,  超参数优化以及模型管理.\n",
    "  - 编排和工作流管道\n",
    "    - Prefect: 一个现代化数据栈, 用于监控, 协调和编排应用程序之间的工作流程.\n",
    "    - Metaflow: 专为数据科学家打造, 专注于构建模型而无需担心MLOps工程.\n",
    "    - Kedro: 基于Python的工作流编排工具, 创建可重复, 可维护且模块化的数据科学项目.\n",
    "  - 数据和管道版本控制工具\n",
    "    - Pachyderm: Kubernetes上自动化数据转换, 支持数据版本, 数据世系和端到端流水线.\n",
    "    - DVC: 基于Git, 提供代码, 数据, 模型, 源数据和流水线的版本控制.\n",
    "    - LakeFS: 为对象存储提供类Git的管理界面, 支持对EB级数据进行版本控制.\n",
    "  - 特征存储\n",
    "    - Feast: 一个开源特征存储.\n",
    "    - Featureform: 一个虚拟特征存储, 用于定义, 管理和提供机器学习模型的特征. \n",
    "  - 模型测试\n",
    "    - Deepchecks: 机器学习验证, 取保数据和模型从研究到生产都经过全面测试.\n",
    "    - TruEra: 通过自动化测试, 可解释性和根源分析来提升模型质量和性能.\n",
    "  - 模型部署和服务工具\n",
    "    - Kubeflow: 用于在Kubernetes上数据准备, 模型训练, 模型优化, 预测服务, 在生产环境中提升模型性能.\n",
    "    - BentoML: 基于Python, 用于在生产环境中部署和维护API.\n",
    "    - Hugging Face推理端点: 一个一体化机器学习平台, 支持用户训练, 托管和共享模型, 数据集和演示.\n",
    "  - 模型监控\n",
    "    - Evidently AI: 一个Python库, 用于在开发, 验证和生产过程中监控ML模型.\n",
    "    - Fiddler AI: 一个机器学习模型佳农工具, 简洁的用户界面, 支持解释和调试预测结果, 分析整个数据集的模式行为, 大规模部署机器学习模型和监控模型性能.\n",
    "  - 运行时引擎\n",
    "    - Ray: 一个旨在扩展AI和Python应用程序的框架, 便于管理和优化机器学习项目.\n",
    "    - Nuclio: 使用无服务器设计, 专注于数据, IO和计算密集型工作负载.\n",
    "  - 端到端MLOps平台\n",
    "    - AWS SageMaker\n",
    "    - DagsHub\n",
    "    - Iguazio MLOps平台 "
   ]
  },
  {
   "cell_type": "markdown",
   "id": "10b9b4f7",
   "metadata": {},
   "source": [
    "|Tool|Main functionality|Supported frameworks|Deployment options|\n",
    "|---|---|---|---|\n",
    "|Qdrant|Vector similarity search and database management|Python, multiple languages|Cloud-native, scalable horizontally|\n",
    "|LangChain|Develop applications with language models|Python, JavaScript|REST API, templates|\n",
    "|MLFlow|Experiment tracking, model registry, deployment|Python, R, Java, REST API|Local, cloud|\n",
    "|Comet ML|Experiment tracking and optimization|Scikit-learn, PyTorch, TensorFlow, HuggingFace|Local, cloud|\n",
    "|Weights & Biases|Experiment tracking, data and model versioning|Fastai, Keras, PyTorch, HuggingFace, Yolov5, Spacy|Local, cloud|\n",
    "|Prefect|Workflow orchestration and monitoring|Python|Local (Orion UI), Cloud|\n",
    "|Metaflow|Workflow management for data science|Scikit-learn, TensorFlow, Python, R|AWS, GCP, Azure, local|\n",
    "|Kedro|Workflow orchestration, reproducibility|Python|Local, distributed|\n",
    "|Pachyderm|Data transformation, versioning, and lineage|Any language|Kubernetes|\n",
    "|DVC|Data and pipeline versioning|Git, Python|Local, cloud|\n",
    "|LakeFS|Git-like version control for data lakes|Any storage service|Local, cloud|\n",
    "|Feast|Centralized feature store for ML models|Python|Local, cloud|\n",
    "|Featureform|Virtual feature store for ML models|Python|Local, cloud|\n",
    "|Deepchecks|ML model testing and validation|Python|Local, cloud|\n",
    "|TruEra|Model quality and performance testing|Python|Local, cloud|\n",
    "|Kubeflow|ML model deployment and orchestration|TensorFlow, PyTorch, PaddlePaddle, MXNet, XGboost|Kubernetes, cloud|\n",
    "|BentoML|Model deployment and API management|Keras, ONNX, LightGBM, PyTorch, Scikit-learn|Local, cloud|\n",
    "|Hugging Face|Inference and model deployment|Any model|Cloud|\n",
    "|Evidently|Monitoring ML models for data and target drift|Python|Local, cloud|\n",
    "|Fiddler|ML model monitoring and debugging|Python|Local, cloud|\n",
    "|Ray|Scale AI and Python applications|Python|Local, cloud|\n",
    "|Nuclio|Serverless framework for data and compute-intensive workloads|Jupyter, Kubeflow|Cloud, on-premises|\n",
    "|AWS SageMaker|End-to-end ML lifecycle management|Python, R, Java, TensorFlow, PyTorch|AWS cloud|\n",
    "|DagsHub|Versioning and collaboration for ML projects|Git, DVC, MLflow|Local, cloud|\n",
    "|Iguazio|End-to-end automation of ML pipelines|Python, MLRun|Cloud, hybrid, on-premises|"
   ]
  },
  {
   "cell_type": "markdown",
   "id": "728379d5",
   "metadata": {},
   "source": [
    "- example: [MLOps & LLMOps Power Tools: 16 Must-Haves & Nice-to-Haves for 2024](https://manralai.medium.com/mlops-llmops-power-tools-16-must-haves-nice-to-haves-for-2024-91154f088e3d)"
   ]
  }
 ],
 "metadata": {
  "language_info": {
   "name": "python"
  }
 },
 "nbformat": 4,
 "nbformat_minor": 5
}
