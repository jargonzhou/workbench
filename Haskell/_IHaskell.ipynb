{
 "cells": [
  {
   "cell_type": "markdown",
   "metadata": {},
   "source": [
    "# IHaskell\n",
    "* https://github.com/IHaskell/IHaskell\n",
    "\n",
    "\n",
    "NOTE: ref Dockerfile in IHaskell to manual install.\n",
    "\n",
    "```shell\n",
    "# update stack.yaml:\n",
    "# resolver: lts-22.40 # GHC 9.6.6\n",
    "stack setup --resolver=lts-22.40 --system-ghc\n",
    "stack config set system-ghc --global true\n",
    "stack exec env --system-ghc > env\n",
    "ihaskell install --env-file env\n",
    "```"
   ]
  },
  {
   "cell_type": "code",
   "execution_count": null,
   "metadata": {},
   "outputs": [
    {
     "data": {
      "text/plain": [
       "{\"argv\":[\"/home/zhoujiagen/.local/bin/ihaskell\",\"kernel\",\"{connection_file}\",\"--ghclib\",\"/home/zhoujiagen/.ghcup/ghc/9.6.6/lib/ghc-9.6.6/lib\",\"+RTS\",\"-M3g\",\"-N2\"],\"display_name\":\"Haskell\",\"language\":\"haskell\"}ExitSuccess"
      ]
     },
     "metadata": {},
     "output_type": "display_data"
    }
   ],
   "source": [
    "import System.Process\n",
    "\n",
    "rawSystem \"cat\" [\"/home/zhoujiagen/.local/share/jupyter/kernels/haskell/kernel.json\"]"
   ]
  },
  {
   "cell_type": "markdown",
   "metadata": {},
   "source": [
    "# help"
   ]
  },
  {
   "cell_type": "code",
   "execution_count": null,
   "metadata": {},
   "outputs": [
    {
     "ename": "",
     "evalue": "",
     "output_type": "error",
     "traceback": [
      "\u001b[1;31mThe Kernel crashed while executing code in the current cell or a previous cell. \n",
      "\u001b[1;31mPlease review the code in the cell(s) to identify a possible cause of the failure. \n",
      "\u001b[1;31mClick <a href='https://aka.ms/vscodeJupyterKernelCrash'>here</a> for more info. \n",
      "\u001b[1;31mView Jupyter <a href='command:jupyter.viewOutput'>log</a> for further details."
     ]
    }
   ],
   "source": [
    ":help"
   ]
  },
  {
   "cell_type": "markdown",
   "metadata": {},
   "source": [
    "# simple\n",
    "* https://nbviewer.org/github/gibiansky/IHaskell/blob/master/notebooks/IHaskell.ipynb"
   ]
  },
  {
   "cell_type": "code",
   "execution_count": null,
   "metadata": {},
   "outputs": [
    {
     "data": {
      "text/plain": [
       "8"
      ]
     },
     "metadata": {},
     "output_type": "display_data"
    },
    {
     "data": {
      "text/plain": [
       "\"Hello, World!\""
      ]
     },
     "metadata": {},
     "output_type": "display_data"
    }
   ],
   "source": [
    "-- WARN: in VSCode cannot stop/interrupt, use restart,\n",
    "--       while in Web browser can.\n",
    "-- simple expressions\n",
    "3 + 5\n",
    "\"Hello, \" ++ \"World!\""
   ]
  },
  {
   "cell_type": "code",
   "execution_count": null,
   "metadata": {},
   "outputs": [
    {
     "ename": "",
     "evalue": "",
     "output_type": "error",
     "traceback": [
      "<interactive>:1:1: error: [GHC-88464] Variable not in scope: it1"
     ]
    }
   ],
   "source": [
    "it1"
   ]
  },
  {
   "cell_type": "markdown",
   "metadata": {},
   "source": [
    "# process"
   ]
  },
  {
   "cell_type": "code",
   "execution_count": null,
   "metadata": {},
   "outputs": [
    {
     "data": {
      "text/plain": [
       "total 8\n",
       "drwxrwxrwx 1 zhoujiagen zhoujiagen 4096 Jan 21 14:27 .\n",
       "drwxrwxrwx 1 zhoujiagen zhoujiagen 4096 Jan 21 09:46 ..\n",
       "drwxrwxrwx 1 zhoujiagen zhoujiagen 4096 Jan 21 14:08 .ipynb_checkpoints\n",
       "-rwxrwxrwx 1 zhoujiagen zhoujiagen 5704 Jan 21 14:27 _IHaskell.ipynb\n",
       "-rwxrwxrwx 1 zhoujiagen zhoujiagen    0 Jan 21 13:41 clean.sh\n",
       "-rwxrwxrwx 1 zhoujiagen zhoujiagen  198 Jan 21 11:25 docker-compose.yml\n",
       "ExitSuccess"
      ]
     },
     "metadata": {},
     "output_type": "display_data"
    }
   ],
   "source": [
    "-- example in 'Real World Haskell' - Chapter 20. System Programming in Haskell\n",
    "-- System.Cmd is deprecated use System.Process instead!!!\n",
    "import System.Cmd\n",
    "\n",
    "rawSystem \"ls\" [\"-al\", \".\"]"
   ]
  },
  {
   "cell_type": "code",
   "execution_count": null,
   "metadata": {},
   "outputs": [
    {
     "data": {
      "text/plain": [
       "total 8\n",
       "drwxrwxrwx 1 zhoujiagen zhoujiagen 4096 Jan 21 14:27 .\n",
       "drwxrwxrwx 1 zhoujiagen zhoujiagen 4096 Jan 21 09:46 ..\n",
       "drwxrwxrwx 1 zhoujiagen zhoujiagen 4096 Jan 21 14:08 .ipynb_checkpoints\n",
       "-rwxrwxrwx 1 zhoujiagen zhoujiagen 6183 Jan 21 14:33 _IHaskell.ipynb\n",
       "-rwxrwxrwx 1 zhoujiagen zhoujiagen    0 Jan 21 13:41 clean.sh\n",
       "-rwxrwxrwx 1 zhoujiagen zhoujiagen  198 Jan 21 11:25 docker-compose.yml\n",
       "ExitSuccess"
      ]
     },
     "metadata": {},
     "output_type": "display_data"
    }
   ],
   "source": [
    "import System.Process\n",
    "\n",
    "rawSystem \"ls\" [\"-al\", \".\"]\n",
    "-- callCommand \"ls -al .\""
   ]
  }
 ],
 "metadata": {
  "kernelspec": {
   "display_name": "Haskell",
   "language": "haskell",
   "name": "haskell"
  },
  "language_info": {
   "codemirror_mode": "ihaskell",
   "file_extension": ".hs",
   "mimetype": "text/x-haskell",
   "name": "haskell",
   "pygments_lexer": "Haskell",
   "version": "9.6.6"
  }
 },
 "nbformat": 4,
 "nbformat_minor": 2
}
