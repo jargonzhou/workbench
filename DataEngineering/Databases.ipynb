{
 "cells": [
  {
   "cell_type": "markdown",
   "metadata": {},
   "source": [
    "# Databases\n",
    "\n",
    "More:\n",
    "- [Elasticsearch](./Elasticsearch/Elasticsearch.ipynb)\n",
    "- [Kafka](./Kafka/Kafka.ipynb)\n",
    "- [MySQL](./MySQL/MySQL.ipynb)\n",
    "- [Redis](./Redis/Redis.ipynb)"
   ]
  }
 ],
 "metadata": {
  "language_info": {
   "name": "python"
  }
 },
 "nbformat": 4,
 "nbformat_minor": 2
}
