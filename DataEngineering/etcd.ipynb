{
 "cells": [
  {
   "cell_type": "markdown",
   "metadata": {},
   "source": [
    "# etcd\n",
    "\n",
    "* etcdctl: https://github.com/etcd-io/etcd/tree/main/etcdctl\n",
    "* jetcd: https://github.com/etcd-io/jetcd/blob/main/jetcd-core/src/test/java/io/etcd/jetcd/impl/KVTest.java\n",
    "\n",
    "\n",
    "actions:\n",
    "- https://github.com/jargonzhou/application-store/tree/main/data-engineering/etcd\n",
    "- workbench\\DataEngineering\\codes\\data-engineering-java\\database\\etcd"
   ]
  },
  {
   "cell_type": "markdown",
   "metadata": {},
   "source": [
    "# Data model\n",
    "* https://etcd.io/docs/v3.5/learning/data_model/"
   ]
  },
  {
   "cell_type": "markdown",
   "metadata": {},
   "source": [
    "logical view:\n",
    "- a flat binary key space\n",
    "- multiple revisions\n",
    "  - initial 1\n",
    "  - each atomic mutative operation creates a new revision on the key space\n",
    "  - old versions of keys can still be accessed through previsous revisions\n",
    "  - revisions before the compact revision will be removed\n",
    "- key version/generation\n",
    "  - a key's life spans a generation, from creation to deletion\n",
    "  - each key may have one or more generations\n",
    "  - create a key: increments the version of that key, start at 1 if the key does not exist at the current revision\n",
    "  - delete a key: generate a key tombstone, concluding the key's current generation by resetting version to 0\n",
    "  - modify a key: increment its version\n",
    "\n",
    "physical view:\n",
    "- persistent B+ tree"
   ]
  },
  {
   "cell_type": "markdown",
   "metadata": {},
   "source": [
    "# API\n",
    "* https://etcd.io/docs/v3.5/learning/api/"
   ]
  },
  {
   "cell_type": "markdown",
   "metadata": {},
   "source": [
    "request, response:\n",
    "- `RangeRequest`, ...\n",
    "- `ResponseHeader`\n",
    "\n",
    "key space:\n",
    "- KV: `KeyValue`, `RangeRequest`, `PutRequest`, `DeleteRangeReqeust`, `TxnRequest`\n",
    "- Watch: `Event`, `WatchCreateRequest`, `WatchCancelRequest`\n",
    "- Lease: `LeaseGrantRequest`, `LeaseRevokeRequest`, `LeaseKeepAliveRequest`\n",
    "\n",
    "cluster:\n",
    "- Auth\n",
    "- Cluster\n",
    "- Maintenance"
   ]
  }
 ],
 "metadata": {
  "language_info": {
   "name": "python"
  }
 },
 "nbformat": 4,
 "nbformat_minor": 2
}
