{
 "cells": [
  {
   "cell_type": "markdown",
   "metadata": {},
   "source": [
    "# MySQL Tools"
   ]
  },
  {
   "cell_type": "markdown",
   "metadata": {},
   "source": [
    "# Percona Toolkit\n",
    "- [Doc](https://docs.percona.com/percona-toolkit/index.html)\n",
    "- [Code](https://github.com/percona/percona-toolkit)\n",
    "\n",
    "> Percona Toolkit\n",
    ">\n",
    "> Percona Toolkit is a collection of advanced command-line tools used by Percona support staff to perform a variety of MySQL, MongoDB, and system tasks that are too difficult or complex to perform manually.\n",
    "\n",
    "| Tool                     | Description                                                                                             |\n",
    "| ------------------------ | ------------------------------------------------------------------------------------------------------- |\n",
    "| pt-align                 | Align output from other tools to columns.                                                               |\n",
    "| pt-archiver              | Archive rows from a MySQL table into another table or a file.                                           |\n",
    "| pt-config-diff           | Diff MySQL configuration files and server variables.                                                    |\n",
    "| pt-deadlock-logger       | Log MySQL deadlocks.                                                                                    |\n",
    "| pt-diskstats             | An interactive I/O monitoring tool for GNU/Linux.                                                       |\n",
    "| pt-duplicate-key-checker | Find duplicate indexes and foreign keys on MySQL tables.                                                |\n",
    "| pt-fifo-split            | Split files and pipe lines to a fifo without really splitting.                                          |\n",
    "| pt-find                  | Find MySQL tables and execute actions, like GNU find.                                                   |\n",
    "| pt-fingerprint           | Convert queries into fingerprints.                                                                      |\n",
    "| pt-fk-error-logger       | Log MySQL foreign key errors.                                                                           |\n",
    "| pt-heartbeat             | Monitor MySQL replication delay.                                                                        |\n",
    "| pt-index-usage           | Read queries from a log and analyze how they use indexes.                                               |\n",
    "| pt-ioprofile             | Watch process IO and print a table of file and I/O activity.                                            |\n",
    "| pt-k8s-debug-collector   | Collects debug data (logs, resource statuses etc.) from a k8s/OpenShift cluster.                        |\n",
    "| pt-kill                  | Kill MySQL queries that match certain criteria.                                                         |\n",
    "| pt-mext                  | Look at many samples of MySQL `SHOW GLOBAL STATUS` side-by-side.                                        |\n",
    "| pt-mongodb-index-check   | Performs checks on MongoDB indexes.                                                                     |\n",
    "| pt-mongodb-query-digest  | reports query usage statistics by aggregating queries from MongoDB query profiler.                      |\n",
    "| pt-mongodb-summary       | collects information about a MongoDB cluster.                                                           |\n",
    "| pt-mysql-summary         | Summarize MySQL information nicely.                                                                     |\n",
    "| pt-online-schema-change  | ALTER tables without locking them.                                                                      |\n",
    "| pt-pg-summary            | collects information about a PostgreSQL cluster.                                                        |\n",
    "| pt-pmp                   | Aggregate GDB stack traces for a selected program.                                                      |\n",
    "| pt-query-digest          | Analyze MySQL queries from logs, processlist, and tcpdump.                                              |\n",
    "| pt-secure-collect        | collect, sanitize, pack and encrypt data.                                                               |\n",
    "| pt-show-grants           | Canonicalize and print MySQL grants so you can effectively replicate, compare and version-control them. |\n",
    "| pt-sift                  | Browses files created by pt-stalk.                                                                      |\n",
    "| pt-slave-delay           | Make a MySQL slave server lag behind its master.                                                        |\n",
    "| pt-slave-find            | Find and print replication hierarchy tree of MySQL slaves.                                              |\n",
    "| pt-slave-restart         | Watch and restart MySQL replication after errors.                                                       |\n",
    "| pt-stalk                 | Collect forensic data about MySQL when problems occur.                                                  |\n",
    "| pt-summary               | Summarize system information nicely.                                                                    |\n",
    "| pt-table-checksum        | Verify MySQL replication integrity.                                                                     |\n",
    "| pt-table-sync            | Synchronize MySQL table data efficiently.                                                               |\n",
    "| pt-table-usage           | Analyze how queries use tables.                                                                         |\n",
    "| pt-upgrade               | Verify that query results are identical on different servers.                                           |\n",
    "| pt-variable-advisor      | Analyze MySQL variables and advise on possible problems.                                                |\n",
    "| pt-visual-explain        | Format EXPLAIN output as a tree.                                                                        |\n"
   ]
  },
  {
   "cell_type": "markdown",
   "metadata": {},
   "source": [
    "# MySQLTuner\n",
    "- [Code](https://github.com/major/MySQLTuner-perl)\n",
    "> [!info] MySQLTuner\n",
    "> MySQLTuner is a script written in Perl that will assist you with your MySQL configuration and make recommendations for increased performance and stability.\n",
    "\n",
    "Compatibility:\n",
    "MySQL 8.0, 8.2, 8.3 (full support)\n",
    "MySQL 5.7 (not supported, deprecated version)\n"
   ]
  },
  {
   "cell_type": "markdown",
   "metadata": {},
   "source": [
    "# tuning-primer.sh\n",
    "- [Code](https://github.com/BMDan/tuning-primer.sh)\n",
    "> [!info] tuning-primer.sh\n",
    "> This script takes information from `SHOW STATUS LIKE`... and `SHOW VARIABLES LIKE`... to produce sane recommendations for tuning server variables.\n",
    "\n",
    "Updated to (at least mostly) support MySQL 5.7+ and MariaDB\n",
    "\n"
   ]
  },
  {
   "cell_type": "markdown",
   "metadata": {},
   "source": [
    "# mysqlstat\n",
    "- [Code](https://github.com/hcymysql/mysqlstat)\n",
    "> [!info] mysqlstat\n",
    "> mysqlstat 是一个命令行工具，用于实时监控和分析 MySQL 服务器的性能指标和相关信息。\n",
    "> 它可以帮助 DBA（数据库管理员）和开发人员定位和解决数据库性能问题。\n"
   ]
  },
  {
   "cell_type": "markdown",
   "metadata": {},
   "source": [
    "# innotop\n",
    "- [Code](https://github.com/innotop/innotop)\n",
    "\n",
    "> innotop is a 'top' clone for MySQL with many features and flexibility.\n",
    ">\n",
    ">- completely customizable; it even has a plugin interface\n",
    ">- monitors many servers at once and can aggregate across them\n"
   ]
  },
  {
   "cell_type": "markdown",
   "metadata": {},
   "source": [
    "# MyCat\n",
    "\n",
    "```sql\n",
    "-- Mycat sequence表\n",
    "CREATE TABLE `MySQLCrashCourse`.`MYCAT_SEQUENCE` (\n",
    "  `name` VARCHAR(50) NOT NULL,\n",
    "  `current_value` INT NOT NULL,\n",
    "  `increment` INT NOT NULL DEFAULT 100,\n",
    "  PRIMARY KEY (`name`));\n",
    "\n",
    "INSERT INTO `MySQLCrashCourse`.`MYCAT_SEQUENCE` (`name`, `current_value`, `increment`) VALUES ('GLOBAL', '100000', '100');\n",
    "\n",
    "-- 函数  mycat_seq_currval\n",
    "USE `MySQLCrashCourse`;\n",
    "DROP function IF EXISTS `mycat_seq_currval`;\n",
    "\n",
    "DELIMITER $$\n",
    "USE `MySQLCrashCourse`$$\n",
    "CREATE FUNCTION `mycat_seq_currval` (seq_name VARCHAR(50))\n",
    "RETURNS VARCHAR(64) CHARSET utf8\n",
    "DETERMINISTIC\n",
    "BEGIN\n",
    "\tDECLARE retval VARCHAR(64);\n",
    "    SET retval=\"-999999999,null\";\n",
    "SELECT \n",
    "    CONCAT(CAST(current_value AS CHAR),\n",
    "            ',',\n",
    "            CAST(increment AS CHAR))\n",
    "INTO retval FROM\n",
    "    MYCAT_SEQUENCE\n",
    "WHERE\n",
    "    name = seq_name;\n",
    "\tRETURN retval;\n",
    "END$$\n",
    "\n",
    "DELIMITER ;\n",
    "\n",
    "select mycat_seq_currval('GLOBAL');\n",
    "\n",
    "-- 查看函数\n",
    "help 'function';\n",
    "-- Error Code: 1289. The 'SHOW PROCEDURE|FUNCTION CODE' feature is disabled; \n",
    "-- you need MySQL built with '--with-debug' to have it working\n",
    "show function code mysqlcrashcourse.mycat_seq_currval;\n",
    "\n",
    "SHOW FUNCTION STATUS;\n",
    "SELECT * FROM mysql.func;\n",
    "\n",
    "-- 函数  mycat_seq_setval\n",
    "USE `MySQLCrashCourse`;\n",
    "DROP function IF EXISTS `mycat_seq_setval`;\n",
    "\n",
    "DELIMITER $$\n",
    "USE `MySQLCrashCourse`$$\n",
    "CREATE FUNCTION `mycat_seq_setval` (seq_name VARCHAR(50), value INTEGER)\n",
    "RETURNS VARCHAR(64) CHARSET utf8\n",
    "BEGIN\n",
    "\tUPDATE MYCAT_SEQUENCE\n",
    "    SET current_value = value\n",
    "    WHERE name = seq_name;\n",
    "\tRETURN mycat_seq_currval(seq_name);\n",
    "END$$\n",
    "\n",
    "DELIMITER ;\n",
    "\n",
    "\n",
    "-- 函数  mycat_seq_nextval\n",
    "\n",
    "USE `MySQLCrashCourse`;\n",
    "DROP function IF EXISTS `mycat_seq_nextval`;\n",
    "\n",
    "DELIMITER $$\n",
    "USE `MySQLCrashCourse`$$\n",
    "CREATE FUNCTION `mycat_seq_nextval` (seq_name VARCHAR(50))\n",
    "RETURNS VARCHAR(64) CHARSET utf8\n",
    "BEGIN\n",
    "\tUPDATE MYCAT_SEQUENCE\n",
    "    SET current_value = current_value + increment\n",
    "    WHERE name = seq_name;\n",
    "\tRETURN mycat_seq_currval(seq_name);\n",
    "END$$\n",
    "\n",
    "DELIMITER ;\n",
    "\n",
    "select mycat_seq_nextval('GLOBAL');\n",
    "select * from MYCAT_SEQUENCE;\n",
    "\n",
    "```"
   ]
  },
  {
   "cell_type": "markdown",
   "metadata": {},
   "source": [
    "# dbsake\n",
    "- [link](https://github.com/abg/dbsake): Collection of mysql tools - latest version: 2.2.0, 2019-01-30.\n"
   ]
  },
  {
   "cell_type": "markdown",
   "metadata": {},
   "source": [
    "# ibd2sql\n",
    "- [link](https://github.com/ddcw/ibd2sql): 是一个使用纯`python3`编写的**离线解析**MYSQL INNODB存储引擎的`ibd文件`的工具.\n"
   ]
  },
  {
   "cell_type": "markdown",
   "metadata": {},
   "source": [
    "# ext3grep\n",
    "- [link](https://code.google.com/archive/p/ext3grep/)\n",
    "- [tutorial](https://www.tecmint.com/ext3grep-recover-deleted-files-on-ubuntu-debian/): ext3grep is a simple program for recovering files on an EXT3 filesystem. It is an investigation and recovery tool that is useful in forensics investigations. It helps to show information about files that existed on a partition and also recover accidentally deleted files.\n"
   ]
  },
  {
   "cell_type": "markdown",
   "metadata": {},
   "source": [
    "# extundelete\n",
    "- [link](https://extundelete.sourceforge.net/): extundelete is a utility that can recover deleted files from an ext3 or ext4 partition. The ext3 and ext4 file systems are the most common default file systems in Linux distributions like Mint, Mageia, or Ubuntu. extundelete uses information stored in the partition's journal to attempt to recover a file that has been deleted from the partition. There is no guarantee that any particular file will be able to be undeleted, so always try to have a good backup system in place, or at least put one in place after recovering your files!\n"
   ]
  }
 ],
 "metadata": {
  "language_info": {
   "name": "python"
  }
 },
 "nbformat": 4,
 "nbformat_minor": 2
}
