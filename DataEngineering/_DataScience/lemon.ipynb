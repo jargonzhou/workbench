{
 "cells": [
  {
   "cell_type": "code",
   "execution_count": 8,
   "metadata": {},
   "outputs": [
    {
     "data": {
      "text/html": [
       "<div class=\"krn-spql\"><div class=\"magic\">Endpoint set to: http://192.168.56.110:10035/repositories/lemon</div><div class=\"magic\">HTTP authentication: ['basic', 'zhoujiagen', 'zhoujiagen']</div></div>"
      ],
      "text/plain": [
       "Endpoint set to: http://192.168.56.110:10035/repositories/lemon\n",
       "HTTP authentication: ['basic', 'zhoujiagen', 'zhoujiagen']\n"
      ]
     },
     "metadata": {},
     "output_type": "display_data"
    }
   ],
   "source": [
    "# https://github.com/paulovn/sparql-kernel\n",
    "%endpoint http://192.168.56.110:10035/repositories/lemon\n",
    "%auth basic zhoujiagen zhoujiagen"
   ]
  },
  {
   "cell_type": "code",
   "execution_count": 9,
   "metadata": {},
   "outputs": [
    {
     "data": {
      "text/html": [
       "<div class=\"krn-spql\"><div class=\"magic-help\">Available magics:<br/>%auth  %display  %endpoint  %format  %graph  %lang  %log  %lsmagics  %outfile  %prefix  %qparam  %show<br/><br/>%auth (basic|digest|none) &lt;username&gt; &lt;passwd&gt; : send HTTP authentication<br/>%display raw | table [withtypes] | diagram [svg|png] [withliterals] : set display format<br/>%endpoint &lt;url&gt; : set SPARQL endpoint. **REQUIRED**<br/>%format JSON | N3 | XML | any | default : set requested result format<br/>%graph &lt;uri&gt; : set default graph for the queries<br/>%lang &lt;lang&gt; [...] | default | all : language(s) preferred for labels<br/>%log critical | error | warning | info | debug : set logging level<br/>%lsmagics  : list all magics<br/>%outfile &lt;filename&gt; | NONE : save raw output to a file (use &quot;%d&quot; in name to add cell number, &quot;NONE&quot; to cancel saving)<br/>%prefix &lt;name&gt; [&lt;uri&gt;] : set (or delete) a persistent URI prefix for all queries<br/>%qparam &lt;name&gt; [&lt;value&gt;] : add (or delete) a persistent custom parameter to the endpoint query<br/>%show &lt;n&gt; | all : maximum number of shown results</div></div>"
      ],
      "text/plain": [
       "Available magics:\n",
       "%auth  %display  %endpoint  %format  %graph  %lang  %log  %lsmagics  %outfile  %prefix  %qparam  %show\n",
       "\n",
       "%auth (basic|digest|none) <username> <passwd> : send HTTP authentication\n",
       "%display raw | table [withtypes] | diagram [svg|png] [withliterals] : set display format\n",
       "%endpoint <url> : set SPARQL endpoint. **REQUIRED**\n",
       "%format JSON | N3 | XML | any | default : set requested result format\n",
       "%graph <uri> : set default graph for the queries\n",
       "%lang <lang> [...] | default | all : language(s) preferred for labels\n",
       "%log critical | error | warning | info | debug : set logging level\n",
       "%lsmagics  : list all magics\n",
       "%outfile <filename> | NONE : save raw output to a file (use \"%d\" in name to add cell number, \"NONE\" to cancel saving)\n",
       "%prefix <name> [<uri>] : set (or delete) a persistent URI prefix for all queries\n",
       "%qparam <name> [<value>] : add (or delete) a persistent custom parameter to the endpoint query\n",
       "%show <n> | all : maximum number of shown results\n"
      ]
     },
     "metadata": {},
     "output_type": "display_data"
    }
   ],
   "source": [
    "%lsmagic"
   ]
  },
  {
   "cell_type": "code",
   "execution_count": 10,
   "metadata": {},
   "outputs": [
    {
     "data": {
      "text/html": [
       "<div class=\"krn-spql\"><div class=\"magic\">Display: table</div><div class=\"magic\">Result maximum size: unlimited</div></div>"
      ],
      "text/plain": [
       "Display: table\n",
       "Result maximum size: unlimited\n"
      ]
     },
     "metadata": {},
     "output_type": "display_data"
    }
   ],
   "source": [
    "#%display raw\n",
    "# %display table withtypes\n",
    "%display table\n",
    "%show all"
   ]
  },
  {
   "cell_type": "code",
   "execution_count": 6,
   "metadata": {},
   "outputs": [
    {
     "data": {
      "text/html": [
       "<div class=\"krn-spql\"><div class=\"krn-error\"><span class=\"title\">Error:</span> SPARQL error: QueryBadFormed: a bad request has been sent to the endpoint, probably the sparql query is bad formed. <br/><br/>Response:<br/>b'MALFORMED QUERY: Line 19, Value &quot;.&quot; not recognized'</div></div>"
      ],
      "text/plain": [
       "Error: SPARQL error: QueryBadFormed: a bad request has been sent to the endpoint, probably the sparql query is bad formed. \n",
       "\n",
       "Response:\n",
       "b'MALFORMED QUERY: Line 19, Value \".\" not recognized'"
      ]
     },
     "metadata": {},
     "output_type": "display_data"
    }
   ],
   "source": [
    "prefix dc:\t<http://purl.org/dc/elements/1.1/>\n",
    "prefix dcterms:\t<http://purl.org/dc/terms/>\n",
    "prefix err:\t<http://www.w3.org/2005/xqt-errors#>\n",
    "prefix fn:\t<http://www.w3.org/2005/xpath-functions#>\n",
    "prefix foaf:\t<http://xmlns.com/foaf/0.1/>\n",
    "prefix fti:\t<http://franz.com/ns/allegrograph/2.2/textindex/>\n",
    "prefix keyword:\t<http://franz.com/ns/keyword#>\n",
    "prefix nd:\t<http://franz.com/ns/allegrograph/5.0/geo/nd#>\n",
    "prefix ndfn:\t<http://franz.com/ns/allegrograph/5.0/geo/nd/fn#>\n",
    "prefix owl:\t<http://www.w3.org/2002/07/owl#>\n",
    "prefix rdf:\t<http://www.w3.org/1999/02/22-rdf-syntax-ns#>\n",
    "prefix rdfs:\t<http://www.w3.org/2000/01/rdf-schema#>\n",
    "prefix skos:\t<http://www.w3.org/2004/02/skos/core#>\n",
    "prefix wn:\t<http://wordnet-rdf.princeton.edu/ontology#>\n",
    "prefix xs:\t<http://www.w3.org/2001/XMLSchema#>\t\n",
    "prefix xsd:\t<http://www.w3.org/2001/XMLSchema#>\n",
    "\n",
    "# 五个模块的前缀\n",
    "prefix ontolex: <http://www.w3.org/ns/lemon/ontolex#> .\n",
    "prefix synsem: <http://www.w3.org/ns/lemon/synsem#> .\n",
    "prefix decomp: <http://www.w3.org/ns/lemon/decomp#> .\n",
    "prefix vartrans: <http://www.w3.org/ns/lemon/vartrans#> .\n",
    "prefix lime: <http://www.w3.org/ns/lemon/lime#> .\n",
    "\n",
    "prefix rdf: <http://www.w3.org/1999/02/22-rdf-syntax-ns#>.\n",
    "prefix owl: <http://www.w3.org/2002/07/owl#>.\n",
    "prefix xsd: <http://www.w3.org/2001/XMLSchema#>.\n",
    "prefix skos: <http://www.w3.org/2004/02/skos#>.\n",
    "prefix dbr: <http://dbpedia.org/resource/>.\n",
    "prefix dbo: <http://dbpedia.org/ontology/>.\n",
    "prefix void: <http://rdfs.org/ns/void#>.\n",
    "prefix lexinfo: <http://www.lexinfo.net/ontology/2.0/lexinfo#>.\n",
    "prefix semiotics: <http://www.ontologydesignpatterns.org/cp/owl/semiotics.owl#>.\n",
    "prefix oils: <http://lemon-model.net/oils#>.\n",
    "prefix dct: <http://purl.org/dc/terms/>.\n",
    "prefix provo: <http://www.w3.org/ns/prov#>."
   ]
  },
  {
   "cell_type": "markdown",
   "metadata": {},
   "source": [
    "# Ontology-lexicon interface (ontolex) 本体词汇接口"
   ]
  },
  {
   "cell_type": "markdown",
   "metadata": {},
   "source": [
    "## lexical entry"
   ]
  },
  {
   "cell_type": "code",
   "execution_count": 11,
   "metadata": {},
   "outputs": [
    {
     "data": {
      "text/html": [
       "<div class=\"krn-spql\"><table><tr class=hdr><th>subject</th>\n",
       "<th>predicate</th>\n",
       "<th>object</th></tr><tr class=odd><td class=val>f217a5a22b1fb4d6f82e311002fea8238b2</td>\n",
       "<td class=val><a href=\"http://www.w3.org/2002/07/owl#onClass\" target=\"_other\">http://www.w3.org/2002/07/owl#onClass</a></td>\n",
       "<td class=val><a href=\"http://www.w3.org/ns/lemon/ontolex#Form\" target=\"_other\">http://www.w3.org/ns/lemon/ontolex#Form</a></td></tr><tr class=even><td class=val>f217a5a22b1fb4d6f82e311002fea8238b1</td>\n",
       "<td class=val><a href=\"http://www.w3.org/2002/07/owl#onClass\" target=\"_other\">http://www.w3.org/2002/07/owl#onClass</a></td>\n",
       "<td class=val><a href=\"http://www.w3.org/ns/lemon/ontolex#Form\" target=\"_other\">http://www.w3.org/ns/lemon/ontolex#Form</a></td></tr><tr class=odd><td class=val><a href=\"http://www.w3.org/ns/lemon/ontolex#LexicalEntry\" target=\"_other\">http://www.w3.org/ns/lemon/ontolex#LexicalEntry</a></td>\n",
       "<td class=val><a href=\"http://www.w3.org/2000/01/rdf-schema#subClassOf\" target=\"_other\">http://www.w3.org/2000/01/rdf-schema#subClassOf</a></td>\n",
       "<td class=val><a href=\"http://www.ontologydesignpatterns.org/cp/owl/semiotics.owl#Expression\" target=\"_other\">http://www.ontologydesignpatterns.org/cp/owl/semiotics.owl#Expression</a></td></tr><tr class=even><td class=val>f217a5a22b1fb4d6f82e311002fea8238b1</td>\n",
       "<td class=val><a href=\"http://www.w3.org/2002/07/owl#maxQualifiedCardinality\" target=\"_other\">http://www.w3.org/2002/07/owl#maxQualifiedCardinality</a></td>\n",
       "<td class=val>1</td></tr><tr class=odd><td class=val><a href=\"http://www.w3.org/ns/lemon/ontolex#LexicalEntry\" target=\"_other\">http://www.w3.org/ns/lemon/ontolex#LexicalEntry</a></td>\n",
       "<td class=val><a href=\"http://www.w3.org/2000/01/rdf-schema#label\" target=\"_other\">http://www.w3.org/2000/01/rdf-schema#label</a></td>\n",
       "<td class=val>entrée lexicale</td></tr><tr class=even><td class=val><a href=\"http://www.w3.org/ns/lemon/ontolex#LexicalEntry\" target=\"_other\">http://www.w3.org/ns/lemon/ontolex#LexicalEntry</a></td>\n",
       "<td class=val><a href=\"http://www.w3.org/2000/01/rdf-schema#label\" target=\"_other\">http://www.w3.org/2000/01/rdf-schema#label</a></td>\n",
       "<td class=val>entrata lessicale</td></tr><tr class=odd><td class=val><a href=\"http://www.w3.org/ns/lemon/ontolex#LexicalEntry\" target=\"_other\">http://www.w3.org/ns/lemon/ontolex#LexicalEntry</a></td>\n",
       "<td class=val><a href=\"http://www.w3.org/2000/01/rdf-schema#label\" target=\"_other\">http://www.w3.org/2000/01/rdf-schema#label</a></td>\n",
       "<td class=val>lexical entry</td></tr><tr class=even><td class=val><a href=\"http://www.w3.org/ns/lemon/ontolex#LexicalEntry\" target=\"_other\">http://www.w3.org/ns/lemon/ontolex#LexicalEntry</a></td>\n",
       "<td class=val><a href=\"http://www.w3.org/1999/02/22-rdf-syntax-ns#type\" target=\"_other\">http://www.w3.org/1999/02/22-rdf-syntax-ns#type</a></td>\n",
       "<td class=val><a href=\"http://www.w3.org/2002/07/owl#Class\" target=\"_other\">http://www.w3.org/2002/07/owl#Class</a></td></tr><tr class=odd><td class=val><a href=\"http://www.w3.org/ns/lemon/ontolex#LexicalEntry\" target=\"_other\">http://www.w3.org/ns/lemon/ontolex#LexicalEntry</a></td>\n",
       "<td class=val><a href=\"http://www.w3.org/2000/01/rdf-schema#comment\" target=\"_other\">http://www.w3.org/2000/01/rdf-schema#comment</a></td>\n",
       "<td class=val>'Словарная единица' представляет собой единицу анализа словаря, которая состоит из совокупности грамматически связанных форм и совокупности основных значений, ассоциирующихся со всеми этими формами. 'Словарная единица' - это слово, словосочетание или аффикс одной части речи, морфологической модели, этимологии и набора значений.</td></tr><tr class=even><td class=val><a href=\"http://www.w3.org/ns/lemon/ontolex#LexicalEntry\" target=\"_other\">http://www.w3.org/ns/lemon/ontolex#LexicalEntry</a></td>\n",
       "<td class=val><a href=\"http://www.w3.org/2000/01/rdf-schema#label\" target=\"_other\">http://www.w3.org/2000/01/rdf-schema#label</a></td>\n",
       "<td class=val>lexikaal item</td></tr><tr class=odd><td class=val><a href=\"http://www.w3.org/ns/lemon/ontolex#LexicalEntry\" target=\"_other\">http://www.w3.org/ns/lemon/ontolex#LexicalEntry</a></td>\n",
       "<td class=val><a href=\"http://www.w3.org/2000/01/rdf-schema#subClassOf\" target=\"_other\">http://www.w3.org/2000/01/rdf-schema#subClassOf</a></td>\n",
       "<td class=val><a href=\"http://www.w3.org/2002/07/owl#Thing\" target=\"_other\">http://www.w3.org/2002/07/owl#Thing</a></td></tr><tr class=even><td class=val>f217a5a22b1fb4d6f82e311002fea8238b2</td>\n",
       "<td class=val><a href=\"http://www.w3.org/2002/07/owl#onProperty\" target=\"_other\">http://www.w3.org/2002/07/owl#onProperty</a></td>\n",
       "<td class=val><a href=\"http://www.w3.org/ns/lemon/ontolex#lexicalForm\" target=\"_other\">http://www.w3.org/ns/lemon/ontolex#lexicalForm</a></td></tr><tr class=odd><td class=val>f217a5a22b1fb4d6f82e311002fea8238b2</td>\n",
       "<td class=val><a href=\"http://www.w3.org/1999/02/22-rdf-syntax-ns#type\" target=\"_other\">http://www.w3.org/1999/02/22-rdf-syntax-ns#type</a></td>\n",
       "<td class=val><a href=\"http://www.w3.org/2002/07/owl#Restriction\" target=\"_other\">http://www.w3.org/2002/07/owl#Restriction</a></td></tr><tr class=even><td class=val>f217a5a22b1fb4d6f82e311002fea8238b1</td>\n",
       "<td class=val><a href=\"http://www.w3.org/1999/02/22-rdf-syntax-ns#type\" target=\"_other\">http://www.w3.org/1999/02/22-rdf-syntax-ns#type</a></td>\n",
       "<td class=val><a href=\"http://www.w3.org/2002/07/owl#Restriction\" target=\"_other\">http://www.w3.org/2002/07/owl#Restriction</a></td></tr><tr class=odd><td class=val>f217a5a22b1fb4d6f82e311002fea8238b1</td>\n",
       "<td class=val><a href=\"http://www.w3.org/2002/07/owl#onProperty\" target=\"_other\">http://www.w3.org/2002/07/owl#onProperty</a></td>\n",
       "<td class=val><a href=\"http://www.w3.org/ns/lemon/ontolex#canonicalForm\" target=\"_other\">http://www.w3.org/ns/lemon/ontolex#canonicalForm</a></td></tr><tr class=even><td class=val><a href=\"http://www.w3.org/ns/lemon/ontolex#LexicalEntry\" target=\"_other\">http://www.w3.org/ns/lemon/ontolex#LexicalEntry</a></td>\n",
       "<td class=val><a href=\"http://www.w3.org/2000/01/rdf-schema#isDefinedBy\" target=\"_other\">http://www.w3.org/2000/01/rdf-schema#isDefinedBy</a></td>\n",
       "<td class=val><a href=\"http://www.w3.org/ns/lemon/ontolex\" target=\"_other\">http://www.w3.org/ns/lemon/ontolex</a></td></tr><tr class=odd><td class=val><a href=\"http://www.w3.org/ns/lemon/ontolex#LexicalEntry\" target=\"_other\">http://www.w3.org/ns/lemon/ontolex#LexicalEntry</a></td>\n",
       "<td class=val><a href=\"http://www.w3.org/2000/01/rdf-schema#subClassOf\" target=\"_other\">http://www.w3.org/2000/01/rdf-schema#subClassOf</a></td>\n",
       "<td class=val>f217a5a22b1fb4d6f82e311002fea8238b1</td></tr><tr class=even><td class=val><a href=\"http://www.w3.org/ns/lemon/ontolex#LexicalEntry\" target=\"_other\">http://www.w3.org/ns/lemon/ontolex#LexicalEntry</a></td>\n",
       "<td class=val><a href=\"http://www.w3.org/2000/01/rdf-schema#subClassOf\" target=\"_other\">http://www.w3.org/2000/01/rdf-schema#subClassOf</a></td>\n",
       "<td class=val>f217a5a22b1fb4d6f82e311002fea8238b2</td></tr><tr class=odd><td class=val><a href=\"http://www.w3.org/ns/lemon/ontolex#LexicalEntry\" target=\"_other\">http://www.w3.org/ns/lemon/ontolex#LexicalEntry</a></td>\n",
       "<td class=val><a href=\"http://www.w3.org/2000/01/rdf-schema#comment\" target=\"_other\">http://www.w3.org/2000/01/rdf-schema#comment</a></td>\n",
       "<td class=val>A lexical entry represents a unit of analysis of the lexicon that consists of a set of forms that are grammatically related and a set of base meanings that are associated with all of these forms. Thus, a lexical entry is a word, multiword expression or affix with a single part-of-speech, morphological pattern, etymology and set of senses.</td></tr><tr class=even><td class=val>f217a5a22b1fb4d6f82e311002fea8238b2</td>\n",
       "<td class=val><a href=\"http://www.w3.org/2002/07/owl#minQualifiedCardinality\" target=\"_other\">http://www.w3.org/2002/07/owl#minQualifiedCardinality</a></td>\n",
       "<td class=val>1</td></tr><tr class=odd><td class=val><a href=\"http://www.w3.org/ns/lemon/ontolex#LexicalEntry\" target=\"_other\">http://www.w3.org/ns/lemon/ontolex#LexicalEntry</a></td>\n",
       "<td class=val><a href=\"http://www.w3.org/2000/01/rdf-schema#label\" target=\"_other\">http://www.w3.org/2000/01/rdf-schema#label</a></td>\n",
       "<td class=val>lexikoningång</td></tr><tr class=even><td class=val><a href=\"http://www.w3.org/ns/lemon/ontolex#LexicalEntry\" target=\"_other\">http://www.w3.org/ns/lemon/ontolex#LexicalEntry</a></td>\n",
       "<td class=val><a href=\"http://www.w3.org/2000/01/rdf-schema#label\" target=\"_other\">http://www.w3.org/2000/01/rdf-schema#label</a></td>\n",
       "<td class=val>словарная единица</td></tr><tr class=odd><td class=val><a href=\"http://www.w3.org/ns/lemon/ontolex#LexicalEntry\" target=\"_other\">http://www.w3.org/ns/lemon/ontolex#LexicalEntry</a></td>\n",
       "<td class=val><a href=\"http://www.w3.org/2000/01/rdf-schema#label\" target=\"_other\">http://www.w3.org/2000/01/rdf-schema#label</a></td>\n",
       "<td class=val>înregistrare lexicală</td></tr><tr class=even><td class=val><a href=\"http://www.w3.org/ns/lemon/ontolex#LexicalEntry\" target=\"_other\">http://www.w3.org/ns/lemon/ontolex#LexicalEntry</a></td>\n",
       "<td class=val><a href=\"http://www.w3.org/2000/01/rdf-schema#label\" target=\"_other\">http://www.w3.org/2000/01/rdf-schema#label</a></td>\n",
       "<td class=val>entrada léxica</td></tr><tr class=odd><td class=val><a href=\"http://www.w3.org/ns/lemon/ontolex#LexicalEntry\" target=\"_other\">http://www.w3.org/ns/lemon/ontolex#LexicalEntry</a></td>\n",
       "<td class=val><a href=\"http://www.w3.org/2000/01/rdf-schema#label\" target=\"_other\">http://www.w3.org/2000/01/rdf-schema#label</a></td>\n",
       "<td class=val>Lexikoneintrag</td></tr><tr class=even><td class=val><a href=\"http://www.w3.org/ns/lemon/ontolex#LexicalEntry\" target=\"_other\">http://www.w3.org/ns/lemon/ontolex#LexicalEntry</a></td>\n",
       "<td class=val><a href=\"http://www.w3.org/2000/01/rdf-schema#label\" target=\"_other\">http://www.w3.org/2000/01/rdf-schema#label</a></td>\n",
       "<td class=val>leksikale inskrywing</td></tr></table><div class=\"tinfo\">Shown: all, Total rows: 26</div></div>"
      ]
     },
     "metadata": {},
     "output_type": "display_data"
    }
   ],
   "source": [
    "DESCRIBE ontolex:LexicalEntry"
   ]
  },
  {
   "cell_type": "code",
   "execution_count": 13,
   "metadata": {},
   "outputs": [
    {
     "data": {
      "text/html": [
       "<div class=\"krn-spql\"><table><tr class=hdr><th>s</th></tr><tr class=odd><td class=val><a href=\"http://www.w3.org/ns/lemon/ontolex#Affix\" target=\"_other\">http://www.w3.org/ns/lemon/ontolex#Affix</a></td></tr><tr class=even><td class=val><a href=\"http://www.w3.org/ns/lemon/ontolex#MultiWordExpression\" target=\"_other\">http://www.w3.org/ns/lemon/ontolex#MultiWordExpression</a></td></tr><tr class=odd><td class=val><a href=\"http://www.w3.org/ns/lemon/ontolex#Word\" target=\"_other\">http://www.w3.org/ns/lemon/ontolex#Word</a></td></tr></table><div class=\"tinfo\">Total: 3, Shown: 3</div></div>"
      ]
     },
     "metadata": {},
     "output_type": "display_data"
    }
   ],
   "source": [
    "SELECT ?s\n",
    "{?s rdfs:subClassOf ontolex:LexicalEntry}"
   ]
  },
  {
   "cell_type": "markdown",
   "metadata": {},
   "source": [
    "## form"
   ]
  },
  {
   "cell_type": "code",
   "execution_count": 14,
   "metadata": {},
   "outputs": [
    {
     "data": {
      "text/html": [
       "<div class=\"krn-spql\"><table><tr class=hdr><th>subject</th>\n",
       "<th>predicate</th>\n",
       "<th>object</th></tr><tr class=odd><td class=val>f4928f3922c9f4a1fa8f439246c830a79b1</td>\n",
       "<td class=val><a href=\"http://www.w3.org/2002/07/owl#onProperty\" target=\"_other\">http://www.w3.org/2002/07/owl#onProperty</a></td>\n",
       "<td class=val><a href=\"http://www.w3.org/ns/lemon/ontolex#writtenRep\" target=\"_other\">http://www.w3.org/ns/lemon/ontolex#writtenRep</a></td></tr><tr class=even><td class=val><a href=\"http://www.w3.org/ns/lemon/ontolex#Form\" target=\"_other\">http://www.w3.org/ns/lemon/ontolex#Form</a></td>\n",
       "<td class=val><a href=\"http://www.w3.org/2000/01/rdf-schema#label\" target=\"_other\">http://www.w3.org/2000/01/rdf-schema#label</a></td>\n",
       "<td class=val>forma</td></tr><tr class=odd><td class=val><a href=\"http://www.w3.org/ns/lemon/ontolex#Form\" target=\"_other\">http://www.w3.org/ns/lemon/ontolex#Form</a></td>\n",
       "<td class=val><a href=\"http://www.w3.org/2000/01/rdf-schema#label\" target=\"_other\">http://www.w3.org/2000/01/rdf-schema#label</a></td>\n",
       "<td class=val>form</td></tr><tr class=even><td class=val><a href=\"http://www.w3.org/ns/lemon/ontolex#Form\" target=\"_other\">http://www.w3.org/ns/lemon/ontolex#Form</a></td>\n",
       "<td class=val><a href=\"http://www.w3.org/2000/01/rdf-schema#subClassOf\" target=\"_other\">http://www.w3.org/2000/01/rdf-schema#subClassOf</a></td>\n",
       "<td class=val>f4928f3922c9f4a1fa8f439246c830a79b1</td></tr><tr class=odd><td class=val><a href=\"http://www.w3.org/ns/lemon/ontolex#Form\" target=\"_other\">http://www.w3.org/ns/lemon/ontolex#Form</a></td>\n",
       "<td class=val><a href=\"http://www.w3.org/2000/01/rdf-schema#isDefinedBy\" target=\"_other\">http://www.w3.org/2000/01/rdf-schema#isDefinedBy</a></td>\n",
       "<td class=val><a href=\"http://www.w3.org/ns/lemon/ontolex\" target=\"_other\">http://www.w3.org/ns/lemon/ontolex</a></td></tr><tr class=even><td class=val><a href=\"http://www.w3.org/ns/lemon/ontolex#Form\" target=\"_other\">http://www.w3.org/ns/lemon/ontolex#Form</a></td>\n",
       "<td class=val><a href=\"http://www.w3.org/1999/02/22-rdf-syntax-ns#type\" target=\"_other\">http://www.w3.org/1999/02/22-rdf-syntax-ns#type</a></td>\n",
       "<td class=val><a href=\"http://www.w3.org/2002/07/owl#Class\" target=\"_other\">http://www.w3.org/2002/07/owl#Class</a></td></tr><tr class=odd><td class=val><a href=\"http://www.w3.org/ns/lemon/ontolex#Form\" target=\"_other\">http://www.w3.org/ns/lemon/ontolex#Form</a></td>\n",
       "<td class=val><a href=\"http://www.w3.org/2000/01/rdf-schema#label\" target=\"_other\">http://www.w3.org/2000/01/rdf-schema#label</a></td>\n",
       "<td class=val>formă</td></tr><tr class=even><td class=val>f4928f3922c9f4a1fa8f439246c830a79b1</td>\n",
       "<td class=val><a href=\"http://www.w3.org/2002/07/owl#minQualifiedCardinality\" target=\"_other\">http://www.w3.org/2002/07/owl#minQualifiedCardinality</a></td>\n",
       "<td class=val>1</td></tr><tr class=odd><td class=val><a href=\"http://www.w3.org/ns/lemon/ontolex#Form\" target=\"_other\">http://www.w3.org/ns/lemon/ontolex#Form</a></td>\n",
       "<td class=val><a href=\"http://www.w3.org/2000/01/rdf-schema#comment\" target=\"_other\">http://www.w3.org/2000/01/rdf-schema#comment</a></td>\n",
       "<td class=val>'Форма' представляет одну грамматическую реализацию словарной единицы.</td></tr><tr class=even><td class=val><a href=\"http://www.w3.org/ns/lemon/ontolex#Form\" target=\"_other\">http://www.w3.org/ns/lemon/ontolex#Form</a></td>\n",
       "<td class=val><a href=\"http://www.w3.org/2000/01/rdf-schema#label\" target=\"_other\">http://www.w3.org/2000/01/rdf-schema#label</a></td>\n",
       "<td class=val>forma</td></tr><tr class=odd><td class=val><a href=\"http://www.w3.org/ns/lemon/ontolex#Form\" target=\"_other\">http://www.w3.org/ns/lemon/ontolex#Form</a></td>\n",
       "<td class=val><a href=\"http://www.w3.org/2000/01/rdf-schema#label\" target=\"_other\">http://www.w3.org/2000/01/rdf-schema#label</a></td>\n",
       "<td class=val>vorm</td></tr><tr class=even><td class=val><a href=\"http://www.w3.org/ns/lemon/ontolex#Form\" target=\"_other\">http://www.w3.org/ns/lemon/ontolex#Form</a></td>\n",
       "<td class=val><a href=\"http://www.w3.org/2000/01/rdf-schema#label\" target=\"_other\">http://www.w3.org/2000/01/rdf-schema#label</a></td>\n",
       "<td class=val>форма</td></tr><tr class=odd><td class=val>f4928f3922c9f4a1fa8f439246c830a79b1</td>\n",
       "<td class=val><a href=\"http://www.w3.org/1999/02/22-rdf-syntax-ns#type\" target=\"_other\">http://www.w3.org/1999/02/22-rdf-syntax-ns#type</a></td>\n",
       "<td class=val><a href=\"http://www.w3.org/2002/07/owl#Restriction\" target=\"_other\">http://www.w3.org/2002/07/owl#Restriction</a></td></tr><tr class=even><td class=val><a href=\"http://www.w3.org/ns/lemon/ontolex#Form\" target=\"_other\">http://www.w3.org/ns/lemon/ontolex#Form</a></td>\n",
       "<td class=val><a href=\"http://www.w3.org/2000/01/rdf-schema#subClassOf\" target=\"_other\">http://www.w3.org/2000/01/rdf-schema#subClassOf</a></td>\n",
       "<td class=val><a href=\"http://www.w3.org/2002/07/owl#Thing\" target=\"_other\">http://www.w3.org/2002/07/owl#Thing</a></td></tr><tr class=odd><td class=val><a href=\"http://www.w3.org/ns/lemon/ontolex#Form\" target=\"_other\">http://www.w3.org/ns/lemon/ontolex#Form</a></td>\n",
       "<td class=val><a href=\"http://www.w3.org/2000/01/rdf-schema#label\" target=\"_other\">http://www.w3.org/2000/01/rdf-schema#label</a></td>\n",
       "<td class=val>vorm</td></tr><tr class=even><td class=val><a href=\"http://www.w3.org/ns/lemon/ontolex#Form\" target=\"_other\">http://www.w3.org/ns/lemon/ontolex#Form</a></td>\n",
       "<td class=val><a href=\"http://www.w3.org/2000/01/rdf-schema#label\" target=\"_other\">http://www.w3.org/2000/01/rdf-schema#label</a></td>\n",
       "<td class=val>Form</td></tr><tr class=odd><td class=val><a href=\"http://www.w3.org/ns/lemon/ontolex#Form\" target=\"_other\">http://www.w3.org/ns/lemon/ontolex#Form</a></td>\n",
       "<td class=val><a href=\"http://www.w3.org/2000/01/rdf-schema#label\" target=\"_other\">http://www.w3.org/2000/01/rdf-schema#label</a></td>\n",
       "<td class=val>forme</td></tr><tr class=even><td class=val><a href=\"http://www.w3.org/ns/lemon/ontolex#Form\" target=\"_other\">http://www.w3.org/ns/lemon/ontolex#Form</a></td>\n",
       "<td class=val><a href=\"http://www.w3.org/2000/01/rdf-schema#label\" target=\"_other\">http://www.w3.org/2000/01/rdf-schema#label</a></td>\n",
       "<td class=val>Forma</td></tr><tr class=odd><td class=val><a href=\"http://www.w3.org/ns/lemon/ontolex#Form\" target=\"_other\">http://www.w3.org/ns/lemon/ontolex#Form</a></td>\n",
       "<td class=val><a href=\"http://www.w3.org/2000/01/rdf-schema#label\" target=\"_other\">http://www.w3.org/2000/01/rdf-schema#label</a></td>\n",
       "<td class=val>form</td></tr><tr class=even><td class=val>f4928f3922c9f4a1fa8f439246c830a79b1</td>\n",
       "<td class=val><a href=\"http://www.w3.org/2002/07/owl#onDataRange\" target=\"_other\">http://www.w3.org/2002/07/owl#onDataRange</a></td>\n",
       "<td class=val><a href=\"http://www.w3.org/1999/02/22-rdf-syntax-ns#langString\" target=\"_other\">http://www.w3.org/1999/02/22-rdf-syntax-ns#langString</a></td></tr><tr class=odd><td class=val><a href=\"http://www.w3.org/ns/lemon/ontolex#Form\" target=\"_other\">http://www.w3.org/ns/lemon/ontolex#Form</a></td>\n",
       "<td class=val><a href=\"http://www.w3.org/2000/01/rdf-schema#comment\" target=\"_other\">http://www.w3.org/2000/01/rdf-schema#comment</a></td>\n",
       "<td class=val>A form represents one grammatical realization of a lexical entry.</td></tr></table><div class=\"tinfo\">Shown: all, Total rows: 21</div></div>"
      ]
     },
     "metadata": {},
     "output_type": "display_data"
    }
   ],
   "source": [
    "DESCRIBE ontolex:Form"
   ]
  },
  {
   "cell_type": "code",
   "execution_count": 16,
   "metadata": {},
   "outputs": [
    {
     "data": {
      "text/html": [
       "<div class=\"krn-spql\"><table><tr class=hdr><th>s</th></tr></table><div class=\"tinfo\">Total: 0, Shown: 0</div></div>"
      ]
     },
     "metadata": {},
     "output_type": "display_data"
    }
   ],
   "source": [
    "SELECT ?s\n",
    "{?s rdfs:subClassOf ontolex:Form}"
   ]
  },
  {
   "cell_type": "markdown",
   "metadata": {},
   "source": [
    "# Syntax and Semantics (synsem) 语法和语义"
   ]
  },
  {
   "cell_type": "code",
   "execution_count": null,
   "metadata": {},
   "outputs": [],
   "source": []
  },
  {
   "cell_type": "markdown",
   "metadata": {},
   "source": [
    "# Decomposition (decomp) 分解"
   ]
  },
  {
   "cell_type": "code",
   "execution_count": null,
   "metadata": {},
   "outputs": [],
   "source": []
  },
  {
   "cell_type": "markdown",
   "metadata": {},
   "source": [
    "# Variation and Translation (vartrans) 变种和翻译"
   ]
  },
  {
   "cell_type": "code",
   "execution_count": null,
   "metadata": {},
   "outputs": [],
   "source": []
  },
  {
   "cell_type": "markdown",
   "metadata": {},
   "source": [
    "# Linguistic Metadata (lime) 语言元数据"
   ]
  },
  {
   "cell_type": "code",
   "execution_count": null,
   "metadata": {},
   "outputs": [],
   "source": []
  },
  {
   "cell_type": "code",
   "execution_count": null,
   "metadata": {},
   "outputs": [],
   "source": []
  },
  {
   "cell_type": "code",
   "execution_count": null,
   "metadata": {},
   "outputs": [],
   "source": []
  },
  {
   "cell_type": "code",
   "execution_count": null,
   "metadata": {},
   "outputs": [],
   "source": []
  }
 ],
 "metadata": {
  "kernelspec": {
   "display_name": "SPARQL",
   "language": "sparql",
   "name": "sparql"
  },
  "language_info": {
   "codemirror_mode": {
    "name": "sparql"
   },
   "mimetype": "application/sparql-query",
   "name": "sparql",
   "pygments_lexer": "sparql-nb"
  },
  "toc": {
   "base_numbering": 1,
   "nav_menu": {},
   "number_sections": true,
   "sideBar": true,
   "skip_h1_title": false,
   "title_cell": "Table of Contents",
   "title_sidebar": "Contents",
   "toc_cell": false,
   "toc_position": {},
   "toc_section_display": true,
   "toc_window_display": true
  }
 },
 "nbformat": 4,
 "nbformat_minor": 2
}
