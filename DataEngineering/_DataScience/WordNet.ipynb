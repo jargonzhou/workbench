{
 "cells": [
  {
   "cell_type": "markdown",
   "metadata": {},
   "source": [
    "# 连接"
   ]
  },
  {
   "cell_type": "code",
   "execution_count": 2,
   "metadata": {},
   "outputs": [
    {
     "data": {
      "text/html": [
       "<div class=\"krn-spql\"><div class=\"magic\">Endpoint set to: http://192.168.56.110:10035/repositories/wordnet</div><div class=\"magic\">HTTP authentication: ['basic', 'zhoujiagen', 'zhoujiagen']</div></div>"
      ],
      "text/plain": [
       "Endpoint set to: http://192.168.56.110:10035/repositories/wordnet\n",
       "HTTP authentication: ['basic', 'zhoujiagen', 'zhoujiagen']\n"
      ]
     },
     "metadata": {},
     "output_type": "display_data"
    }
   ],
   "source": [
    "# https://github.com/paulovn/sparql-kernel\n",
    "%endpoint http://192.168.56.110:10035/repositories/wordnet\n",
    "%auth basic zhoujiagen zhoujiagen"
   ]
  },
  {
   "cell_type": "markdown",
   "metadata": {},
   "source": [
    "# 设置"
   ]
  },
  {
   "cell_type": "code",
   "execution_count": 3,
   "metadata": {},
   "outputs": [
    {
     "data": {
      "text/html": [
       "<div class=\"krn-spql\"><div class=\"magic-help\">Available magics:<br/>%auth  %display  %endpoint  %format  %graph  %lang  %log  %lsmagics  %outfile  %prefix  %qparam  %show<br/><br/>%auth (basic|digest|none) &lt;username&gt; &lt;passwd&gt; : send HTTP authentication<br/>%display raw | table [withtypes] | diagram [svg|png] [withliterals] : set display format<br/>%endpoint &lt;url&gt; : set SPARQL endpoint. **REQUIRED**<br/>%format JSON | N3 | XML | any | default : set requested result format<br/>%graph &lt;uri&gt; : set default graph for the queries<br/>%lang &lt;lang&gt; [...] | default | all : language(s) preferred for labels<br/>%log critical | error | warning | info | debug : set logging level<br/>%lsmagics  : list all magics<br/>%outfile &lt;filename&gt; | NONE : save raw output to a file (use &quot;%d&quot; in name to add cell number, &quot;NONE&quot; to cancel saving)<br/>%prefix &lt;name&gt; [&lt;uri&gt;] : set (or delete) a persistent URI prefix for all queries<br/>%qparam &lt;name&gt; [&lt;value&gt;] : add (or delete) a persistent custom parameter to the endpoint query<br/>%show &lt;n&gt; | all : maximum number of shown results</div></div>"
      ],
      "text/plain": [
       "Available magics:\n",
       "%auth  %display  %endpoint  %format  %graph  %lang  %log  %lsmagics  %outfile  %prefix  %qparam  %show\n",
       "\n",
       "%auth (basic|digest|none) <username> <passwd> : send HTTP authentication\n",
       "%display raw | table [withtypes] | diagram [svg|png] [withliterals] : set display format\n",
       "%endpoint <url> : set SPARQL endpoint. **REQUIRED**\n",
       "%format JSON | N3 | XML | any | default : set requested result format\n",
       "%graph <uri> : set default graph for the queries\n",
       "%lang <lang> [...] | default | all : language(s) preferred for labels\n",
       "%log critical | error | warning | info | debug : set logging level\n",
       "%lsmagics  : list all magics\n",
       "%outfile <filename> | NONE : save raw output to a file (use \"%d\" in name to add cell number, \"NONE\" to cancel saving)\n",
       "%prefix <name> [<uri>] : set (or delete) a persistent URI prefix for all queries\n",
       "%qparam <name> [<value>] : add (or delete) a persistent custom parameter to the endpoint query\n",
       "%show <n> | all : maximum number of shown results\n"
      ]
     },
     "metadata": {},
     "output_type": "display_data"
    }
   ],
   "source": [
    "%lsmagic"
   ]
  },
  {
   "cell_type": "code",
   "execution_count": 4,
   "metadata": {},
   "outputs": [
    {
     "data": {
      "text/html": [
       "<div class=\"krn-spql\"><div class=\"magic\">Display: table</div><div class=\"magic\">Result maximum size: unlimited</div></div>"
      ],
      "text/plain": [
       "Display: table\n",
       "Result maximum size: unlimited\n"
      ]
     },
     "metadata": {},
     "output_type": "display_data"
    }
   ],
   "source": [
    "#%display raw\n",
    "# %display table withtypes\n",
    "%display table\n",
    "%show all"
   ]
  },
  {
   "cell_type": "markdown",
   "metadata": {},
   "source": [
    "# PREFIX"
   ]
  },
  {
   "cell_type": "code",
   "execution_count": 7,
   "metadata": {},
   "outputs": [
    {
     "data": {
      "text/html": [
       "<div class=\"krn-spql\"><div class=\"krn-error\"><span class=\"title\">Error:</span> SPARQL error: QueryBadFormed: a bad request has been sent to the endpoint, probably the sparql query is bad formed. <br/><br/>Response:<br/>b'INAPPROPRIATE REQUEST: SPARQL/Update queries can only be performed through POST requests.'</div></div>"
      ],
      "text/plain": [
       "Error: SPARQL error: QueryBadFormed: a bad request has been sent to the endpoint, probably the sparql query is bad formed. \n",
       "\n",
       "Response:\n",
       "b'INAPPROPRIATE REQUEST: SPARQL/Update queries can only be performed through POST requests.'"
      ]
     },
     "metadata": {},
     "output_type": "display_data"
    }
   ],
   "source": [
    "prefix dc:\t<http://purl.org/dc/elements/1.1/>\n",
    "prefix dcterms:\t<http://purl.org/dc/terms/>\n",
    "prefix err:\t<http://www.w3.org/2005/xqt-errors#>\n",
    "prefix fn:\t<http://www.w3.org/2005/xpath-functions#>\n",
    "prefix foaf:\t<http://xmlns.com/foaf/0.1/>\n",
    "prefix fti:\t<http://franz.com/ns/allegrograph/2.2/textindex/>\n",
    "prefix keyword:\t<http://franz.com/ns/keyword#>\n",
    "prefix nd:\t<http://franz.com/ns/allegrograph/5.0/geo/nd#>\n",
    "prefix ndfn:\t<http://franz.com/ns/allegrograph/5.0/geo/nd/fn#>\n",
    "prefix owl:\t<http://www.w3.org/2002/07/owl#>\n",
    "prefix rdf:\t<http://www.w3.org/1999/02/22-rdf-syntax-ns#>\n",
    "prefix rdfs:\t<http://www.w3.org/2000/01/rdf-schema#>\n",
    "prefix skos:\t<http://www.w3.org/2004/02/skos/core#>\n",
    "prefix wn:\t<http://wordnet-rdf.princeton.edu/ontology#>\n",
    "prefix xs:\t<http://www.w3.org/2001/XMLSchema#>\t\n",
    "prefix xsd:\t<http://www.w3.org/2001/XMLSchema#>"
   ]
  },
  {
   "cell_type": "code",
   "execution_count": null,
   "metadata": {},
   "outputs": [],
   "source": [
    "SELECT 1"
   ]
  },
  {
   "cell_type": "markdown",
   "metadata": {},
   "source": [
    "# 说明"
   ]
  },
  {
   "cell_type": "markdown",
   "metadata": {},
   "source": [
    "WordNet includes the following semantic relations:\n",
    "\n",
    "+  Synonymy is WordNet’s basic relation, because WordNet uses sets of synonyms (**synsets**) to represent word senses. Synonymy (**syn** same, **onyma** name) is a symmetric relation between word forms.\n",
    "同义关系\n",
    "\n",
    "+  Antonymy (opposing-name) is also a symmetric semantic relation between word forms, especially important in organizing the meanings of adjectives and adverbs.\n",
    "\n",
    "反义关系\n",
    "\n",
    "+  Hyponymy (sub-name) and its inverse, hypernymy(super-name), are transitive relations between synsets. Because there is usually only one hypernym, this semantic relation organizes the meanings of nouns into a hierarchical structure.\n",
    "\n",
    "词义之间的上下位关系: 下义关系, 上义关系\n",
    "\n",
    "+  Meronymy (part-name) and its inverse, holonymy (whole-name), are complex semantic relations. WordNet distinguishes component parts, substantive parts, and member parts.\n",
    "\n",
    "部分词, 整体词\n",
    "\n",
    "```\n",
    "component\n",
    "n.成分； 零件； [数]要素； 组分\n",
    "adj.组成的； 合成的； 构成的； 成分的\n",
    "\n",
    "substantive\n",
    "adj.真实的； 独立的； 大量的； 本质的，实质的\n",
    "n.作名词用的词或词组； [语]实词，名词； 独立存在的实体；\n",
    "\n",
    "member\n",
    "成员； 分子； 身体部位（尤指胳膊或腿）； 构件，部件\n",
    "```\n",
    "\n",
    "+  Troponymy (manner-name) is for verbs what hyponymy is for nouns, although the resulting hierarchies are much shallower.\n",
    "\n",
    "动词词义上下位关系\n",
    "\n",
    "+  Entailment relations between verbs are also coded in WordNet.\n",
    "\n",
    "动词蕴含关系"
   ]
  },
  {
   "cell_type": "markdown",
   "metadata": {},
   "source": [
    "# 定义"
   ]
  },
  {
   "cell_type": "markdown",
   "metadata": {},
   "source": [
    "## AdjectivePosition 形容词位置"
   ]
  },
  {
   "cell_type": "code",
   "execution_count": 152,
   "metadata": {},
   "outputs": [
    {
     "data": {
      "text/html": [
       "<div class=\"krn-spql\"><table><tr class=hdr><th>p</th><th>type</th>\n",
       "<th>o</th><th>type</th></tr><tr class=odd><td class=val><a href=\"http://www.w3.org/2000/01/rdf-schema#label\" target=\"_other\">http://www.w3.org/2000/01/rdf-schema#label</a></td><td class=typ>uri</td>\n",
       "<td class=val>Adjective position</td><td class=typ>literal, en</td></tr><tr class=even><td class=val><a href=\"http://www.w3.org/1999/02/22-rdf-syntax-ns#type\" target=\"_other\">http://www.w3.org/1999/02/22-rdf-syntax-ns#type</a></td><td class=typ>uri</td>\n",
       "<td class=val><a href=\"http://www.w3.org/2002/07/owl#Class\" target=\"_other\">http://www.w3.org/2002/07/owl#Class</a></td><td class=typ>uri</td></tr></table><div class=\"tinfo\">Total: 2, Shown: 2</div></div>"
      ]
     },
     "metadata": {},
     "output_type": "display_data"
    }
   ],
   "source": [
    "SELECT ?p ?o\n",
    "{ wn:AdjectivePosition ?p ?o. }"
   ]
  },
  {
   "cell_type": "code",
   "execution_count": 35,
   "metadata": {},
   "outputs": [
    {
     "data": {
      "text/html": [
       "<div class=\"krn-spql\"><table><tr class=hdr><th>s</th><th>type</th></tr><tr class=odd><td class=val><a href=\"http://wordnet-rdf.princeton.edu/ontology#attributive\" target=\"_other\">http://wordnet-rdf.princeton.edu/ontology#attributive</a></td><td class=typ>uri</td></tr><tr class=even><td class=val><a href=\"http://wordnet-rdf.princeton.edu/ontology#predicate\" target=\"_other\">http://wordnet-rdf.princeton.edu/ontology#predicate</a></td><td class=typ>uri</td></tr><tr class=odd><td class=val><a href=\"http://wordnet-rdf.princeton.edu/ontology#immediately_postnominal\" target=\"_other\">http://wordnet-rdf.princeton.edu/ontology#immediately_postnominal</a></td><td class=typ>uri</td></tr></table><div class=\"tinfo\">Total: 3, Shown: 3</div></div>"
      ]
     },
     "metadata": {},
     "output_type": "display_data"
    }
   ],
   "source": [
    "SELECT ?s \n",
    "{ ?s rdf:type wn:AdjectivePosition}"
   ]
  },
  {
   "cell_type": "markdown",
   "metadata": {},
   "source": [
    "### attributive 用作定语的"
   ]
  },
  {
   "cell_type": "code",
   "execution_count": 153,
   "metadata": {},
   "outputs": [
    {
     "data": {
      "text/html": [
       "<div class=\"krn-spql\"><table><tr class=hdr><th>p</th><th>type</th>\n",
       "<th>o</th><th>type</th></tr><tr class=odd><td class=val><a href=\"http://www.w3.org/2000/01/rdf-schema#label\" target=\"_other\">http://www.w3.org/2000/01/rdf-schema#label</a></td><td class=typ>uri</td>\n",
       "<td class=val>Attributive</td><td class=typ>literal, en</td></tr><tr class=even><td class=val><a href=\"http://www.isocat.org/ns/dcr.rdf#datcat\" target=\"_other\">http://www.isocat.org/ns/dcr.rdf#datcat</a></td><td class=typ>uri</td>\n",
       "<td class=val><a href=\"http://www.isocat.org/datcat/DC-5242\" target=\"_other\">http://www.isocat.org/datcat/DC-5242</a></td><td class=typ>uri</td></tr><tr class=odd><td class=val><a href=\"http://www.w3.org/1999/02/22-rdf-syntax-ns#type\" target=\"_other\">http://www.w3.org/1999/02/22-rdf-syntax-ns#type</a></td><td class=typ>uri</td>\n",
       "<td class=val><a href=\"http://wordnet-rdf.princeton.edu/ontology#AdjectivePosition\" target=\"_other\">http://wordnet-rdf.princeton.edu/ontology#AdjectivePosition</a></td><td class=typ>uri</td></tr></table><div class=\"tinfo\">Total: 3, Shown: 3</div></div>"
      ]
     },
     "metadata": {},
     "output_type": "display_data"
    }
   ],
   "source": [
    "SELECT ?p ?o\n",
    "{ wn:attributive ?p ?o. }"
   ]
  },
  {
   "cell_type": "markdown",
   "metadata": {},
   "source": [
    "### predicate 谓语"
   ]
  },
  {
   "cell_type": "code",
   "execution_count": 154,
   "metadata": {},
   "outputs": [
    {
     "data": {
      "text/html": [
       "<div class=\"krn-spql\"><table><tr class=hdr><th>p</th><th>type</th>\n",
       "<th>o</th><th>type</th></tr><tr class=odd><td class=val><a href=\"http://www.w3.org/2000/01/rdf-schema#label\" target=\"_other\">http://www.w3.org/2000/01/rdf-schema#label</a></td><td class=typ>uri</td>\n",
       "<td class=val>Predicate</td><td class=typ>literal, en</td></tr><tr class=even><td class=val><a href=\"http://www.isocat.org/ns/dcr.rdf#datcat\" target=\"_other\">http://www.isocat.org/ns/dcr.rdf#datcat</a></td><td class=typ>uri</td>\n",
       "<td class=val><a href=\"http://www.isocat.org/datcat/DC-2710\" target=\"_other\">http://www.isocat.org/datcat/DC-2710</a></td><td class=typ>uri</td></tr><tr class=odd><td class=val><a href=\"http://www.w3.org/1999/02/22-rdf-syntax-ns#type\" target=\"_other\">http://www.w3.org/1999/02/22-rdf-syntax-ns#type</a></td><td class=typ>uri</td>\n",
       "<td class=val><a href=\"http://wordnet-rdf.princeton.edu/ontology#AdjectivePosition\" target=\"_other\">http://wordnet-rdf.princeton.edu/ontology#AdjectivePosition</a></td><td class=typ>uri</td></tr></table><div class=\"tinfo\">Total: 3, Shown: 3</div></div>"
      ]
     },
     "metadata": {},
     "output_type": "display_data"
    }
   ],
   "source": [
    "SELECT ?p ?o\n",
    "{ wn:predicate ?p ?o. }"
   ]
  },
  {
   "cell_type": "markdown",
   "metadata": {},
   "source": [
    "### immediately_postnominal 立即名词后置"
   ]
  },
  {
   "cell_type": "code",
   "execution_count": 155,
   "metadata": {},
   "outputs": [
    {
     "data": {
      "text/html": [
       "<div class=\"krn-spql\"><table><tr class=hdr><th>p</th><th>type</th>\n",
       "<th>o</th><th>type</th></tr><tr class=odd><td class=val><a href=\"http://www.w3.org/2000/01/rdf-schema#label\" target=\"_other\">http://www.w3.org/2000/01/rdf-schema#label</a></td><td class=typ>uri</td>\n",
       "<td class=val>Immediately postnominal</td><td class=typ>literal, en</td></tr><tr class=even><td class=val><a href=\"http://www.w3.org/1999/02/22-rdf-syntax-ns#type\" target=\"_other\">http://www.w3.org/1999/02/22-rdf-syntax-ns#type</a></td><td class=typ>uri</td>\n",
       "<td class=val><a href=\"http://wordnet-rdf.princeton.edu/ontology#AdjectivePosition\" target=\"_other\">http://wordnet-rdf.princeton.edu/ontology#AdjectivePosition</a></td><td class=typ>uri</td></tr></table><div class=\"tinfo\">Total: 2, Shown: 2</div></div>"
      ]
     },
     "metadata": {},
     "output_type": "display_data"
    }
   ],
   "source": [
    "SELECT ?p ?o\n",
    "{ wn:immediately_postnominal ?p ?o. }"
   ]
  },
  {
   "cell_type": "markdown",
   "metadata": {},
   "source": [
    "## LexicalDomain 词汇域"
   ]
  },
  {
   "cell_type": "code",
   "execution_count": 34,
   "metadata": {},
   "outputs": [
    {
     "data": {
      "text/html": [
       "<div class=\"krn-spql\"><table><tr class=hdr><th>s</th><th>type</th></tr><tr class=odd><td class=val><a href=\"http://wordnet-rdf.princeton.edu/ontology#noun.location\" target=\"_other\">http://wordnet-rdf.princeton.edu/ontology#noun.location</a></td><td class=typ>uri</td></tr><tr class=even><td class=val><a href=\"http://wordnet-rdf.princeton.edu/ontology#noun.tops\" target=\"_other\">http://wordnet-rdf.princeton.edu/ontology#noun.tops</a></td><td class=typ>uri</td></tr><tr class=odd><td class=val><a href=\"http://wordnet-rdf.princeton.edu/ontology#adj.all\" target=\"_other\">http://wordnet-rdf.princeton.edu/ontology#adj.all</a></td><td class=typ>uri</td></tr><tr class=even><td class=val><a href=\"http://wordnet-rdf.princeton.edu/ontology#noun.communication\" target=\"_other\">http://wordnet-rdf.princeton.edu/ontology#noun.communication</a></td><td class=typ>uri</td></tr><tr class=odd><td class=val><a href=\"http://wordnet-rdf.princeton.edu/ontology#noun.act\" target=\"_other\">http://wordnet-rdf.princeton.edu/ontology#noun.act</a></td><td class=typ>uri</td></tr><tr class=even><td class=val><a href=\"http://wordnet-rdf.princeton.edu/ontology#adj.pert\" target=\"_other\">http://wordnet-rdf.princeton.edu/ontology#adj.pert</a></td><td class=typ>uri</td></tr><tr class=odd><td class=val><a href=\"http://wordnet-rdf.princeton.edu/ontology#noun.cognition\" target=\"_other\">http://wordnet-rdf.princeton.edu/ontology#noun.cognition</a></td><td class=typ>uri</td></tr><tr class=even><td class=val><a href=\"http://wordnet-rdf.princeton.edu/ontology#verb.competition\" target=\"_other\">http://wordnet-rdf.princeton.edu/ontology#verb.competition</a></td><td class=typ>uri</td></tr><tr class=odd><td class=val><a href=\"http://wordnet-rdf.princeton.edu/ontology#noun.state\" target=\"_other\">http://wordnet-rdf.princeton.edu/ontology#noun.state</a></td><td class=typ>uri</td></tr><tr class=even><td class=val><a href=\"http://wordnet-rdf.princeton.edu/ontology#noun.shape\" target=\"_other\">http://wordnet-rdf.princeton.edu/ontology#noun.shape</a></td><td class=typ>uri</td></tr><tr class=odd><td class=val><a href=\"http://wordnet-rdf.princeton.edu/ontology#adv.all\" target=\"_other\">http://wordnet-rdf.princeton.edu/ontology#adv.all</a></td><td class=typ>uri</td></tr><tr class=even><td class=val><a href=\"http://wordnet-rdf.princeton.edu/ontology#noun.attribute\" target=\"_other\">http://wordnet-rdf.princeton.edu/ontology#noun.attribute</a></td><td class=typ>uri</td></tr><tr class=odd><td class=val><a href=\"http://wordnet-rdf.princeton.edu/ontology#verb.communication\" target=\"_other\">http://wordnet-rdf.princeton.edu/ontology#verb.communication</a></td><td class=typ>uri</td></tr><tr class=even><td class=val><a href=\"http://wordnet-rdf.princeton.edu/ontology#noun.substance\" target=\"_other\">http://wordnet-rdf.princeton.edu/ontology#noun.substance</a></td><td class=typ>uri</td></tr><tr class=odd><td class=val><a href=\"http://wordnet-rdf.princeton.edu/ontology#verb.change\" target=\"_other\">http://wordnet-rdf.princeton.edu/ontology#verb.change</a></td><td class=typ>uri</td></tr><tr class=even><td class=val><a href=\"http://wordnet-rdf.princeton.edu/ontology#verb.social\" target=\"_other\">http://wordnet-rdf.princeton.edu/ontology#verb.social</a></td><td class=typ>uri</td></tr><tr class=odd><td class=val><a href=\"http://wordnet-rdf.princeton.edu/ontology#noun.motive\" target=\"_other\">http://wordnet-rdf.princeton.edu/ontology#noun.motive</a></td><td class=typ>uri</td></tr><tr class=even><td class=val><a href=\"http://wordnet-rdf.princeton.edu/ontology#noun.group\" target=\"_other\">http://wordnet-rdf.princeton.edu/ontology#noun.group</a></td><td class=typ>uri</td></tr><tr class=odd><td class=val><a href=\"http://wordnet-rdf.princeton.edu/ontology#noun.feeling\" target=\"_other\">http://wordnet-rdf.princeton.edu/ontology#noun.feeling</a></td><td class=typ>uri</td></tr><tr class=even><td class=val><a href=\"http://wordnet-rdf.princeton.edu/ontology#noun.event\" target=\"_other\">http://wordnet-rdf.princeton.edu/ontology#noun.event</a></td><td class=typ>uri</td></tr><tr class=odd><td class=val><a href=\"http://wordnet-rdf.princeton.edu/ontology#unlabeled\" target=\"_other\">http://wordnet-rdf.princeton.edu/ontology#unlabeled</a></td><td class=typ>uri</td></tr><tr class=even><td class=val><a href=\"http://wordnet-rdf.princeton.edu/ontology#noun.linkdef\" target=\"_other\">http://wordnet-rdf.princeton.edu/ontology#noun.linkdef</a></td><td class=typ>uri</td></tr><tr class=odd><td class=val><a href=\"http://wordnet-rdf.princeton.edu/ontology#noun.object\" target=\"_other\">http://wordnet-rdf.princeton.edu/ontology#noun.object</a></td><td class=typ>uri</td></tr><tr class=even><td class=val><a href=\"http://wordnet-rdf.princeton.edu/ontology#verb.stative\" target=\"_other\">http://wordnet-rdf.princeton.edu/ontology#verb.stative</a></td><td class=typ>uri</td></tr><tr class=odd><td class=val><a href=\"http://wordnet-rdf.princeton.edu/ontology#noun.animal\" target=\"_other\">http://wordnet-rdf.princeton.edu/ontology#noun.animal</a></td><td class=typ>uri</td></tr><tr class=even><td class=val><a href=\"http://wordnet-rdf.princeton.edu/ontology#verb.emotion\" target=\"_other\">http://wordnet-rdf.princeton.edu/ontology#verb.emotion</a></td><td class=typ>uri</td></tr><tr class=odd><td class=val><a href=\"http://wordnet-rdf.princeton.edu/ontology#noun.food\" target=\"_other\">http://wordnet-rdf.princeton.edu/ontology#noun.food</a></td><td class=typ>uri</td></tr><tr class=even><td class=val><a href=\"http://wordnet-rdf.princeton.edu/ontology#noun.possession\" target=\"_other\">http://wordnet-rdf.princeton.edu/ontology#noun.possession</a></td><td class=typ>uri</td></tr><tr class=odd><td class=val><a href=\"http://wordnet-rdf.princeton.edu/ontology#verb.creation\" target=\"_other\">http://wordnet-rdf.princeton.edu/ontology#verb.creation</a></td><td class=typ>uri</td></tr><tr class=even><td class=val><a href=\"http://wordnet-rdf.princeton.edu/ontology#verb.cognition\" target=\"_other\">http://wordnet-rdf.princeton.edu/ontology#verb.cognition</a></td><td class=typ>uri</td></tr><tr class=odd><td class=val><a href=\"http://wordnet-rdf.princeton.edu/ontology#noun.process\" target=\"_other\">http://wordnet-rdf.princeton.edu/ontology#noun.process</a></td><td class=typ>uri</td></tr><tr class=even><td class=val><a href=\"http://wordnet-rdf.princeton.edu/ontology#noun.plant\" target=\"_other\">http://wordnet-rdf.princeton.edu/ontology#noun.plant</a></td><td class=typ>uri</td></tr><tr class=odd><td class=val><a href=\"http://wordnet-rdf.princeton.edu/ontology#noun.phenomenon\" target=\"_other\">http://wordnet-rdf.princeton.edu/ontology#noun.phenomenon</a></td><td class=typ>uri</td></tr><tr class=even><td class=val><a href=\"http://wordnet-rdf.princeton.edu/ontology#verb.possession\" target=\"_other\">http://wordnet-rdf.princeton.edu/ontology#verb.possession</a></td><td class=typ>uri</td></tr><tr class=odd><td class=val><a href=\"http://wordnet-rdf.princeton.edu/ontology#verb.weather\" target=\"_other\">http://wordnet-rdf.princeton.edu/ontology#verb.weather</a></td><td class=typ>uri</td></tr><tr class=even><td class=val><a href=\"http://wordnet-rdf.princeton.edu/ontology#adj.ppl\" target=\"_other\">http://wordnet-rdf.princeton.edu/ontology#adj.ppl</a></td><td class=typ>uri</td></tr><tr class=odd><td class=val><a href=\"http://wordnet-rdf.princeton.edu/ontology#verb.motion\" target=\"_other\">http://wordnet-rdf.princeton.edu/ontology#verb.motion</a></td><td class=typ>uri</td></tr><tr class=even><td class=val><a href=\"http://wordnet-rdf.princeton.edu/ontology#noun.person\" target=\"_other\">http://wordnet-rdf.princeton.edu/ontology#noun.person</a></td><td class=typ>uri</td></tr><tr class=odd><td class=val><a href=\"http://wordnet-rdf.princeton.edu/ontology#verb.contact\" target=\"_other\">http://wordnet-rdf.princeton.edu/ontology#verb.contact</a></td><td class=typ>uri</td></tr><tr class=even><td class=val><a href=\"http://wordnet-rdf.princeton.edu/ontology#noun.body\" target=\"_other\">http://wordnet-rdf.princeton.edu/ontology#noun.body</a></td><td class=typ>uri</td></tr><tr class=odd><td class=val><a href=\"http://wordnet-rdf.princeton.edu/ontology#verb.body\" target=\"_other\">http://wordnet-rdf.princeton.edu/ontology#verb.body</a></td><td class=typ>uri</td></tr><tr class=even><td class=val><a href=\"http://wordnet-rdf.princeton.edu/ontology#noun.artifact\" target=\"_other\">http://wordnet-rdf.princeton.edu/ontology#noun.artifact</a></td><td class=typ>uri</td></tr><tr class=odd><td class=val><a href=\"http://wordnet-rdf.princeton.edu/ontology#noun.time\" target=\"_other\">http://wordnet-rdf.princeton.edu/ontology#noun.time</a></td><td class=typ>uri</td></tr><tr class=even><td class=val><a href=\"http://wordnet-rdf.princeton.edu/ontology#verb.consumption\" target=\"_other\">http://wordnet-rdf.princeton.edu/ontology#verb.consumption</a></td><td class=typ>uri</td></tr><tr class=odd><td class=val><a href=\"http://wordnet-rdf.princeton.edu/ontology#verb.perception\" target=\"_other\">http://wordnet-rdf.princeton.edu/ontology#verb.perception</a></td><td class=typ>uri</td></tr><tr class=even><td class=val><a href=\"http://wordnet-rdf.princeton.edu/ontology#noun.quantity\" target=\"_other\">http://wordnet-rdf.princeton.edu/ontology#noun.quantity</a></td><td class=typ>uri</td></tr></table><div class=\"tinfo\">Total: 46, Shown: 46</div></div>"
      ]
     },
     "metadata": {},
     "output_type": "display_data"
    }
   ],
   "source": [
    "SELECT ?s \n",
    "{ ?s rdf:type wn:LexicalDomain}"
   ]
  },
  {
   "cell_type": "markdown",
   "metadata": {},
   "source": [
    "### noun.*\n",
    "\n",
    "+ noun.act\n",
    "+ noun.animal\n",
    "+ noun.artifact\n",
    "+ noun.attribute\n",
    "+ noun.body\n",
    "+ noun.cognition\n",
    "+ noun.communication\n",
    "+ noun.event\n",
    "+ noun.feeling\n",
    "+ noun.food\n",
    "+ noun.group\n",
    "+ noun.linkdef\n",
    "+ noun.location\n",
    "+ noun.motive\n",
    "+ noun.object\n",
    "+ noun.person\n",
    "+ noun.phenomenon\n",
    "+ noun.plant\n",
    "+ noun.possession\n",
    "+ noun.process\n",
    "+ noun.quantity\n",
    "+ noun.shape\n",
    "+ noun.state\n",
    "+ noun.substance\n",
    "+ noun.time\n",
    "+ noun.tops"
   ]
  },
  {
   "cell_type": "code",
   "execution_count": 156,
   "metadata": {},
   "outputs": [
    {
     "data": {
      "text/html": [
       "<div class=\"krn-spql\"><table><tr class=hdr><th>p</th><th>type</th>\n",
       "<th>o</th><th>type</th></tr><tr class=odd><td class=val><a href=\"http://www.w3.org/2000/01/rdf-schema#label\" target=\"_other\">http://www.w3.org/2000/01/rdf-schema#label</a></td><td class=typ>uri</td>\n",
       "<td class=val>Noun</td><td class=typ>literal, en</td></tr><tr class=even><td class=val><a href=\"http://www.isocat.org/ns/dcr.rdf#datcat\" target=\"_other\">http://www.isocat.org/ns/dcr.rdf#datcat</a></td><td class=typ>uri</td>\n",
       "<td class=val><a href=\"http://www.isocat.org/datcat/DC-1333\" target=\"_other\">http://www.isocat.org/datcat/DC-1333</a></td><td class=typ>uri</td></tr><tr class=odd><td class=val><a href=\"http://www.w3.org/1999/02/22-rdf-syntax-ns#type\" target=\"_other\">http://www.w3.org/1999/02/22-rdf-syntax-ns#type</a></td><td class=typ>uri</td>\n",
       "<td class=val><a href=\"http://wordnet-rdf.princeton.edu/ontology#PartOfSpeech\" target=\"_other\">http://wordnet-rdf.princeton.edu/ontology#PartOfSpeech</a></td><td class=typ>uri</td></tr></table><div class=\"tinfo\">Total: 3, Shown: 3</div></div>"
      ]
     },
     "metadata": {},
     "output_type": "display_data"
    }
   ],
   "source": [
    "SELECT ?p ?o\n",
    "{ wn:noun ?p ?o. }"
   ]
  },
  {
   "cell_type": "markdown",
   "metadata": {},
   "source": [
    "### verb.*\n",
    "\n",
    "+ verb.body\n",
    "+ verb.change\n",
    "+ verb.cognition\n",
    "+ verb.communication\n",
    "+ verb.competition\n",
    "+ verb.consumption\n",
    "+ verb.contact\n",
    "+ verb.creation\n",
    "+ verb.emotion\n",
    "+ verb.motion\n",
    "+ verb.perception\n",
    "+ verb.possession\n",
    "+ verb.social\n",
    "+ verb.stative\n",
    "+ verb.weather"
   ]
  },
  {
   "cell_type": "code",
   "execution_count": 157,
   "metadata": {},
   "outputs": [
    {
     "data": {
      "text/html": [
       "<div class=\"krn-spql\"><table><tr class=hdr><th>p</th><th>type</th>\n",
       "<th>o</th><th>type</th></tr><tr class=odd><td class=val><a href=\"http://www.w3.org/2000/01/rdf-schema#label\" target=\"_other\">http://www.w3.org/2000/01/rdf-schema#label</a></td><td class=typ>uri</td>\n",
       "<td class=val>Verb</td><td class=typ>literal, en</td></tr><tr class=even><td class=val><a href=\"http://www.isocat.org/ns/dcr.rdf#datcat\" target=\"_other\">http://www.isocat.org/ns/dcr.rdf#datcat</a></td><td class=typ>uri</td>\n",
       "<td class=val><a href=\"http://www.isocat.org/datcat/DC-1424\" target=\"_other\">http://www.isocat.org/datcat/DC-1424</a></td><td class=typ>uri</td></tr><tr class=odd><td class=val><a href=\"http://www.w3.org/1999/02/22-rdf-syntax-ns#type\" target=\"_other\">http://www.w3.org/1999/02/22-rdf-syntax-ns#type</a></td><td class=typ>uri</td>\n",
       "<td class=val><a href=\"http://wordnet-rdf.princeton.edu/ontology#PartOfSpeech\" target=\"_other\">http://wordnet-rdf.princeton.edu/ontology#PartOfSpeech</a></td><td class=typ>uri</td></tr></table><div class=\"tinfo\">Total: 3, Shown: 3</div></div>"
      ]
     },
     "metadata": {},
     "output_type": "display_data"
    }
   ],
   "source": [
    "SELECT ?p ?o\n",
    "{ wn:verb ?p ?o. }"
   ]
  },
  {
   "cell_type": "markdown",
   "metadata": {},
   "source": [
    "### adj.*\n",
    "+ adj.all\n",
    "+ adj.pert\n",
    "+ adj.ppl"
   ]
  },
  {
   "cell_type": "code",
   "execution_count": 158,
   "metadata": {},
   "outputs": [
    {
     "data": {
      "text/html": [
       "<div class=\"krn-spql\"><table><tr class=hdr><th>p</th><th>type</th>\n",
       "<th>o</th><th>type</th></tr><tr class=odd><td class=val><a href=\"http://www.w3.org/2000/01/rdf-schema#label\" target=\"_other\">http://www.w3.org/2000/01/rdf-schema#label</a></td><td class=typ>uri</td>\n",
       "<td class=val>Adj.all</td><td class=typ>literal, en</td></tr><tr class=even><td class=val><a href=\"http://www.w3.org/1999/02/22-rdf-syntax-ns#type\" target=\"_other\">http://www.w3.org/1999/02/22-rdf-syntax-ns#type</a></td><td class=typ>uri</td>\n",
       "<td class=val><a href=\"http://wordnet-rdf.princeton.edu/ontology#LexicalDomain\" target=\"_other\">http://wordnet-rdf.princeton.edu/ontology#LexicalDomain</a></td><td class=typ>uri</td></tr></table><div class=\"tinfo\">Total: 2, Shown: 2</div></div>"
      ]
     },
     "metadata": {},
     "output_type": "display_data"
    }
   ],
   "source": [
    "SELECT ?p ?o\n",
    "{ wn:adj.all ?p ?o. }"
   ]
  },
  {
   "cell_type": "markdown",
   "metadata": {},
   "source": [
    "### adv.all"
   ]
  },
  {
   "cell_type": "code",
   "execution_count": 159,
   "metadata": {},
   "outputs": [
    {
     "data": {
      "text/html": [
       "<div class=\"krn-spql\"><table><tr class=hdr><th>p</th><th>type</th>\n",
       "<th>o</th><th>type</th></tr><tr class=odd><td class=val><a href=\"http://www.w3.org/2000/01/rdf-schema#label\" target=\"_other\">http://www.w3.org/2000/01/rdf-schema#label</a></td><td class=typ>uri</td>\n",
       "<td class=val>Adv.all</td><td class=typ>literal, en</td></tr><tr class=even><td class=val><a href=\"http://www.w3.org/1999/02/22-rdf-syntax-ns#type\" target=\"_other\">http://www.w3.org/1999/02/22-rdf-syntax-ns#type</a></td><td class=typ>uri</td>\n",
       "<td class=val><a href=\"http://wordnet-rdf.princeton.edu/ontology#LexicalDomain\" target=\"_other\">http://wordnet-rdf.princeton.edu/ontology#LexicalDomain</a></td><td class=typ>uri</td></tr></table><div class=\"tinfo\">Total: 2, Shown: 2</div></div>"
      ]
     },
     "metadata": {},
     "output_type": "display_data"
    }
   ],
   "source": [
    "SELECT ?p ?o\n",
    "{ wn:adv.all ?p ?o. }"
   ]
  },
  {
   "cell_type": "markdown",
   "metadata": {},
   "source": [
    "### unlabeled 未标记的"
   ]
  },
  {
   "cell_type": "code",
   "execution_count": 160,
   "metadata": {},
   "outputs": [
    {
     "data": {
      "text/html": [
       "<div class=\"krn-spql\"><table><tr class=hdr><th>p</th><th>type</th>\n",
       "<th>o</th><th>type</th></tr><tr class=odd><td class=val><a href=\"http://www.w3.org/2000/01/rdf-schema#label\" target=\"_other\">http://www.w3.org/2000/01/rdf-schema#label</a></td><td class=typ>uri</td>\n",
       "<td class=val>Unlabeled</td><td class=typ>literal, en</td></tr><tr class=even><td class=val><a href=\"http://www.w3.org/1999/02/22-rdf-syntax-ns#type\" target=\"_other\">http://www.w3.org/1999/02/22-rdf-syntax-ns#type</a></td><td class=typ>uri</td>\n",
       "<td class=val><a href=\"http://wordnet-rdf.princeton.edu/ontology#LexicalDomain\" target=\"_other\">http://wordnet-rdf.princeton.edu/ontology#LexicalDomain</a></td><td class=typ>uri</td></tr></table><div class=\"tinfo\">Total: 2, Shown: 2</div></div>"
      ]
     },
     "metadata": {},
     "output_type": "display_data"
    }
   ],
   "source": [
    "SELECT ?p ?o\n",
    "{ wn:unlabeled ?p ?o. }"
   ]
  },
  {
   "cell_type": "markdown",
   "metadata": {},
   "source": [
    "## PartOfSpeech 词性"
   ]
  },
  {
   "cell_type": "code",
   "execution_count": 46,
   "metadata": {},
   "outputs": [
    {
     "data": {
      "text/html": [
       "<div class=\"krn-spql\"><table><tr class=hdr><th>p</th><th>type</th>\n",
       "<th>o</th><th>type</th></tr><tr class=odd><td class=val><a href=\"http://www.w3.org/2000/01/rdf-schema#label\" target=\"_other\">http://www.w3.org/2000/01/rdf-schema#label</a></td><td class=typ>uri</td>\n",
       "<td class=val>Part of speech</td><td class=typ>literal, en</td></tr><tr class=even><td class=val><a href=\"http://www.isocat.org/ns/dcr.rdf#datcat\" target=\"_other\">http://www.isocat.org/ns/dcr.rdf#datcat</a></td><td class=typ>uri</td>\n",
       "<td class=val><a href=\"http://www.isocat.org/datcat/DC-396\" target=\"_other\">http://www.isocat.org/datcat/DC-396</a></td><td class=typ>uri</td></tr><tr class=odd><td class=val><a href=\"http://www.w3.org/1999/02/22-rdf-syntax-ns#type\" target=\"_other\">http://www.w3.org/1999/02/22-rdf-syntax-ns#type</a></td><td class=typ>uri</td>\n",
       "<td class=val><a href=\"http://www.w3.org/2002/07/owl#Class\" target=\"_other\">http://www.w3.org/2002/07/owl#Class</a></td><td class=typ>uri</td></tr></table><div class=\"tinfo\">Total: 3, Shown: 3</div></div>"
      ]
     },
     "metadata": {},
     "output_type": "display_data"
    }
   ],
   "source": [
    "SELECT ?p ?o\n",
    "{ wn:PartOfSpeech ?p ?o. }"
   ]
  },
  {
   "cell_type": "code",
   "execution_count": 36,
   "metadata": {},
   "outputs": [
    {
     "data": {
      "text/html": [
       "<div class=\"krn-spql\"><table><tr class=hdr><th>s</th><th>type</th></tr><tr class=odd><td class=val><a href=\"http://wordnet-rdf.princeton.edu/ontology#phrase\" target=\"_other\">http://wordnet-rdf.princeton.edu/ontology#phrase</a></td><td class=typ>uri</td></tr><tr class=even><td class=val><a href=\"http://wordnet-rdf.princeton.edu/ontology#adverb\" target=\"_other\">http://wordnet-rdf.princeton.edu/ontology#adverb</a></td><td class=typ>uri</td></tr><tr class=odd><td class=val><a href=\"http://wordnet-rdf.princeton.edu/ontology#adjective\" target=\"_other\">http://wordnet-rdf.princeton.edu/ontology#adjective</a></td><td class=typ>uri</td></tr><tr class=even><td class=val><a href=\"http://wordnet-rdf.princeton.edu/ontology#adjective_satellite\" target=\"_other\">http://wordnet-rdf.princeton.edu/ontology#adjective_satellite</a></td><td class=typ>uri</td></tr><tr class=odd><td class=val><a href=\"http://wordnet-rdf.princeton.edu/ontology#verb\" target=\"_other\">http://wordnet-rdf.princeton.edu/ontology#verb</a></td><td class=typ>uri</td></tr><tr class=even><td class=val><a href=\"http://wordnet-rdf.princeton.edu/ontology#noun\" target=\"_other\">http://wordnet-rdf.princeton.edu/ontology#noun</a></td><td class=typ>uri</td></tr></table><div class=\"tinfo\">Total: 6, Shown: 6</div></div>"
      ]
     },
     "metadata": {},
     "output_type": "display_data"
    }
   ],
   "source": [
    "SELECT ?s \n",
    "{ ?s rdf:type wn:PartOfSpeech}"
   ]
  },
  {
   "cell_type": "markdown",
   "metadata": {},
   "source": [
    "### phrase 短语"
   ]
  },
  {
   "cell_type": "code",
   "execution_count": 161,
   "metadata": {},
   "outputs": [
    {
     "data": {
      "text/html": [
       "<div class=\"krn-spql\"><table><tr class=hdr><th>p</th><th>type</th>\n",
       "<th>o</th><th>type</th></tr><tr class=odd><td class=val><a href=\"http://www.w3.org/2000/01/rdf-schema#label\" target=\"_other\">http://www.w3.org/2000/01/rdf-schema#label</a></td><td class=typ>uri</td>\n",
       "<td class=val>Phrase</td><td class=typ>literal, en</td></tr><tr class=even><td class=val><a href=\"http://www.isocat.org/ns/dcr.rdf#datcat\" target=\"_other\">http://www.isocat.org/ns/dcr.rdf#datcat</a></td><td class=typ>uri</td>\n",
       "<td class=val><a href=\"http://www.isocat.org/datcat/DC-2282\" target=\"_other\">http://www.isocat.org/datcat/DC-2282</a></td><td class=typ>uri</td></tr><tr class=odd><td class=val><a href=\"http://www.w3.org/1999/02/22-rdf-syntax-ns#type\" target=\"_other\">http://www.w3.org/1999/02/22-rdf-syntax-ns#type</a></td><td class=typ>uri</td>\n",
       "<td class=val><a href=\"http://wordnet-rdf.princeton.edu/ontology#PartOfSpeech\" target=\"_other\">http://wordnet-rdf.princeton.edu/ontology#PartOfSpeech</a></td><td class=typ>uri</td></tr></table><div class=\"tinfo\">Total: 3, Shown: 3</div></div>"
      ]
     },
     "metadata": {},
     "output_type": "display_data"
    }
   ],
   "source": [
    "SELECT ?p ?o\n",
    "{ wn:phrase ?p ?o. }"
   ]
  },
  {
   "cell_type": "markdown",
   "metadata": {},
   "source": [
    "### adverb 副词"
   ]
  },
  {
   "cell_type": "code",
   "execution_count": 162,
   "metadata": {},
   "outputs": [
    {
     "data": {
      "text/html": [
       "<div class=\"krn-spql\"><table><tr class=hdr><th>p</th><th>type</th>\n",
       "<th>o</th><th>type</th></tr><tr class=odd><td class=val><a href=\"http://www.w3.org/2000/01/rdf-schema#label\" target=\"_other\">http://www.w3.org/2000/01/rdf-schema#label</a></td><td class=typ>uri</td>\n",
       "<td class=val>Adverb</td><td class=typ>literal, en</td></tr><tr class=even><td class=val><a href=\"http://www.isocat.org/ns/dcr.rdf#datcat\" target=\"_other\">http://www.isocat.org/ns/dcr.rdf#datcat</a></td><td class=typ>uri</td>\n",
       "<td class=val><a href=\"http://www.isocat.org/datcat/DC-1232\" target=\"_other\">http://www.isocat.org/datcat/DC-1232</a></td><td class=typ>uri</td></tr><tr class=odd><td class=val><a href=\"http://www.w3.org/1999/02/22-rdf-syntax-ns#type\" target=\"_other\">http://www.w3.org/1999/02/22-rdf-syntax-ns#type</a></td><td class=typ>uri</td>\n",
       "<td class=val><a href=\"http://wordnet-rdf.princeton.edu/ontology#PartOfSpeech\" target=\"_other\">http://wordnet-rdf.princeton.edu/ontology#PartOfSpeech</a></td><td class=typ>uri</td></tr></table><div class=\"tinfo\">Total: 3, Shown: 3</div></div>"
      ]
     },
     "metadata": {},
     "output_type": "display_data"
    }
   ],
   "source": [
    "SELECT ?p ?o\n",
    "{ wn:adverb ?p ?o. }"
   ]
  },
  {
   "cell_type": "markdown",
   "metadata": {},
   "source": [
    "### adjective 形容词"
   ]
  },
  {
   "cell_type": "code",
   "execution_count": 163,
   "metadata": {},
   "outputs": [
    {
     "data": {
      "text/html": [
       "<div class=\"krn-spql\"><table><tr class=hdr><th>p</th><th>type</th>\n",
       "<th>o</th><th>type</th></tr><tr class=odd><td class=val><a href=\"http://www.w3.org/2000/01/rdf-schema#label\" target=\"_other\">http://www.w3.org/2000/01/rdf-schema#label</a></td><td class=typ>uri</td>\n",
       "<td class=val>Adjective</td><td class=typ>literal, en</td></tr><tr class=even><td class=val><a href=\"http://www.isocat.org/ns/dcr.rdf#datcat\" target=\"_other\">http://www.isocat.org/ns/dcr.rdf#datcat</a></td><td class=typ>uri</td>\n",
       "<td class=val><a href=\"http://www.isocat.org/datcat/DC-1230\" target=\"_other\">http://www.isocat.org/datcat/DC-1230</a></td><td class=typ>uri</td></tr><tr class=odd><td class=val><a href=\"http://www.w3.org/1999/02/22-rdf-syntax-ns#type\" target=\"_other\">http://www.w3.org/1999/02/22-rdf-syntax-ns#type</a></td><td class=typ>uri</td>\n",
       "<td class=val><a href=\"http://wordnet-rdf.princeton.edu/ontology#PartOfSpeech\" target=\"_other\">http://wordnet-rdf.princeton.edu/ontology#PartOfSpeech</a></td><td class=typ>uri</td></tr></table><div class=\"tinfo\">Total: 3, Shown: 3</div></div>"
      ]
     },
     "metadata": {},
     "output_type": "display_data"
    }
   ],
   "source": [
    "SELECT ?p ?o\n",
    "{ wn:adjective ?p ?o. }"
   ]
  },
  {
   "cell_type": "markdown",
   "metadata": {},
   "source": [
    "### adjective_satellite 形容词卫星???"
   ]
  },
  {
   "cell_type": "code",
   "execution_count": 164,
   "metadata": {},
   "outputs": [
    {
     "data": {
      "text/html": [
       "<div class=\"krn-spql\"><table><tr class=hdr><th>p</th><th>type</th>\n",
       "<th>o</th><th>type</th></tr><tr class=odd><td class=val><a href=\"http://www.w3.org/2000/01/rdf-schema#label\" target=\"_other\">http://www.w3.org/2000/01/rdf-schema#label</a></td><td class=typ>uri</td>\n",
       "<td class=val>Adjective satellite</td><td class=typ>literal, en</td></tr><tr class=even><td class=val><a href=\"http://www.w3.org/1999/02/22-rdf-syntax-ns#type\" target=\"_other\">http://www.w3.org/1999/02/22-rdf-syntax-ns#type</a></td><td class=typ>uri</td>\n",
       "<td class=val><a href=\"http://wordnet-rdf.princeton.edu/ontology#PartOfSpeech\" target=\"_other\">http://wordnet-rdf.princeton.edu/ontology#PartOfSpeech</a></td><td class=typ>uri</td></tr></table><div class=\"tinfo\">Total: 2, Shown: 2</div></div>"
      ]
     },
     "metadata": {},
     "output_type": "display_data"
    }
   ],
   "source": [
    "SELECT ?p ?o\n",
    "{ wn:adjective_satellite ?p ?o. }"
   ]
  },
  {
   "cell_type": "markdown",
   "metadata": {},
   "source": [
    "### verb 动词"
   ]
  },
  {
   "cell_type": "code",
   "execution_count": 165,
   "metadata": {},
   "outputs": [
    {
     "data": {
      "text/html": [
       "<div class=\"krn-spql\"><table><tr class=hdr><th>p</th><th>type</th>\n",
       "<th>o</th><th>type</th></tr><tr class=odd><td class=val><a href=\"http://www.w3.org/2000/01/rdf-schema#label\" target=\"_other\">http://www.w3.org/2000/01/rdf-schema#label</a></td><td class=typ>uri</td>\n",
       "<td class=val>Verb</td><td class=typ>literal, en</td></tr><tr class=even><td class=val><a href=\"http://www.isocat.org/ns/dcr.rdf#datcat\" target=\"_other\">http://www.isocat.org/ns/dcr.rdf#datcat</a></td><td class=typ>uri</td>\n",
       "<td class=val><a href=\"http://www.isocat.org/datcat/DC-1424\" target=\"_other\">http://www.isocat.org/datcat/DC-1424</a></td><td class=typ>uri</td></tr><tr class=odd><td class=val><a href=\"http://www.w3.org/1999/02/22-rdf-syntax-ns#type\" target=\"_other\">http://www.w3.org/1999/02/22-rdf-syntax-ns#type</a></td><td class=typ>uri</td>\n",
       "<td class=val><a href=\"http://wordnet-rdf.princeton.edu/ontology#PartOfSpeech\" target=\"_other\">http://wordnet-rdf.princeton.edu/ontology#PartOfSpeech</a></td><td class=typ>uri</td></tr></table><div class=\"tinfo\">Total: 3, Shown: 3</div></div>"
      ]
     },
     "metadata": {},
     "output_type": "display_data"
    }
   ],
   "source": [
    "SELECT ?p ?o\n",
    "{ wn:verb ?p ?o. }"
   ]
  },
  {
   "cell_type": "markdown",
   "metadata": {},
   "source": [
    "### noun 名词"
   ]
  },
  {
   "cell_type": "code",
   "execution_count": 166,
   "metadata": {},
   "outputs": [
    {
     "data": {
      "text/html": [
       "<div class=\"krn-spql\"><table><tr class=hdr><th>p</th><th>type</th>\n",
       "<th>o</th><th>type</th></tr><tr class=odd><td class=val><a href=\"http://www.w3.org/2000/01/rdf-schema#label\" target=\"_other\">http://www.w3.org/2000/01/rdf-schema#label</a></td><td class=typ>uri</td>\n",
       "<td class=val>Noun</td><td class=typ>literal, en</td></tr><tr class=even><td class=val><a href=\"http://www.isocat.org/ns/dcr.rdf#datcat\" target=\"_other\">http://www.isocat.org/ns/dcr.rdf#datcat</a></td><td class=typ>uri</td>\n",
       "<td class=val><a href=\"http://www.isocat.org/datcat/DC-1333\" target=\"_other\">http://www.isocat.org/datcat/DC-1333</a></td><td class=typ>uri</td></tr><tr class=odd><td class=val><a href=\"http://www.w3.org/1999/02/22-rdf-syntax-ns#type\" target=\"_other\">http://www.w3.org/1999/02/22-rdf-syntax-ns#type</a></td><td class=typ>uri</td>\n",
       "<td class=val><a href=\"http://wordnet-rdf.princeton.edu/ontology#PartOfSpeech\" target=\"_other\">http://wordnet-rdf.princeton.edu/ontology#PartOfSpeech</a></td><td class=typ>uri</td></tr></table><div class=\"tinfo\">Total: 3, Shown: 3</div></div>"
      ]
     },
     "metadata": {},
     "output_type": "display_data"
    }
   ],
   "source": [
    "SELECT ?p ?o\n",
    "{ wn:noun ?p ?o. }"
   ]
  },
  {
   "cell_type": "markdown",
   "metadata": {},
   "source": [
    "## PhraseType 短语类型"
   ]
  },
  {
   "cell_type": "code",
   "execution_count": 50,
   "metadata": {},
   "outputs": [
    {
     "data": {
      "text/html": [
       "<div class=\"krn-spql\"><table><tr class=hdr><th>p</th><th>type</th>\n",
       "<th>o</th><th>type</th></tr><tr class=odd><td class=val><a href=\"http://www.w3.org/2000/01/rdf-schema#label\" target=\"_other\">http://www.w3.org/2000/01/rdf-schema#label</a></td><td class=typ>uri</td>\n",
       "<td class=val>Phrase type</td><td class=typ>literal, en</td></tr><tr class=even><td class=val><a href=\"http://www.w3.org/1999/02/22-rdf-syntax-ns#type\" target=\"_other\">http://www.w3.org/1999/02/22-rdf-syntax-ns#type</a></td><td class=typ>uri</td>\n",
       "<td class=val><a href=\"http://www.w3.org/2002/07/owl#Class\" target=\"_other\">http://www.w3.org/2002/07/owl#Class</a></td><td class=typ>uri</td></tr></table><div class=\"tinfo\">Total: 2, Shown: 2</div></div>"
      ]
     },
     "metadata": {},
     "output_type": "display_data"
    }
   ],
   "source": [
    "SELECT ?p ?o\n",
    "{ wn:PhraseType ?p ?o. }"
   ]
  },
  {
   "cell_type": "code",
   "execution_count": 37,
   "metadata": {},
   "outputs": [
    {
     "data": {
      "text/html": [
       "<div class=\"krn-spql\"><table><tr class=hdr><th>s</th><th>type</th></tr><tr class=odd><td class=val><a href=\"http://wordnet-rdf.princeton.edu/ontology#idiom\" target=\"_other\">http://wordnet-rdf.princeton.edu/ontology#idiom</a></td><td class=typ>uri</td></tr></table><div class=\"tinfo\">Total: 1, Shown: 1</div></div>"
      ]
     },
     "metadata": {},
     "output_type": "display_data"
    }
   ],
   "source": [
    "SELECT ?s \n",
    "{ ?s rdf:type wn:PhraseType}"
   ]
  },
  {
   "cell_type": "markdown",
   "metadata": {},
   "source": [
    "### idiom 习语"
   ]
  },
  {
   "cell_type": "code",
   "execution_count": 167,
   "metadata": {},
   "outputs": [
    {
     "data": {
      "text/html": [
       "<div class=\"krn-spql\"><table><tr class=hdr><th>p</th><th>type</th>\n",
       "<th>o</th><th>type</th></tr><tr class=odd><td class=val><a href=\"http://www.w3.org/2000/01/rdf-schema#label\" target=\"_other\">http://www.w3.org/2000/01/rdf-schema#label</a></td><td class=typ>uri</td>\n",
       "<td class=val>Idiom</td><td class=typ>literal, en</td></tr><tr class=even><td class=val><a href=\"http://www.isocat.org/ns/dcr.rdf#datcat\" target=\"_other\">http://www.isocat.org/ns/dcr.rdf#datcat</a></td><td class=typ>uri</td>\n",
       "<td class=val><a href=\"http://www.isocat.org/datcat/DC-351\" target=\"_other\">http://www.isocat.org/datcat/DC-351</a></td><td class=typ>uri</td></tr><tr class=odd><td class=val><a href=\"http://www.w3.org/1999/02/22-rdf-syntax-ns#type\" target=\"_other\">http://www.w3.org/1999/02/22-rdf-syntax-ns#type</a></td><td class=typ>uri</td>\n",
       "<td class=val><a href=\"http://wordnet-rdf.princeton.edu/ontology#PhraseType\" target=\"_other\">http://wordnet-rdf.princeton.edu/ontology#PhraseType</a></td><td class=typ>uri</td></tr></table><div class=\"tinfo\">Total: 3, Shown: 3</div></div>"
      ]
     },
     "metadata": {},
     "output_type": "display_data"
    }
   ],
   "source": [
    "SELECT ?p ?o\n",
    "{ wn:idiom ?p ?o. }"
   ]
  },
  {
   "cell_type": "markdown",
   "metadata": {},
   "source": [
    "## Synset 同义词集合"
   ]
  },
  {
   "cell_type": "code",
   "execution_count": 49,
   "metadata": {},
   "outputs": [
    {
     "data": {
      "text/html": [
       "<div class=\"krn-spql\"><table><tr class=hdr><th>p</th><th>type</th>\n",
       "<th>o</th><th>type</th></tr><tr class=odd><td class=val><a href=\"http://www.w3.org/2000/01/rdf-schema#label\" target=\"_other\">http://www.w3.org/2000/01/rdf-schema#label</a></td><td class=typ>uri</td>\n",
       "<td class=val>Synset</td><td class=typ>literal, en</td></tr><tr class=even><td class=val><a href=\"http://www.isocat.org/ns/dcr.rdf#datcat\" target=\"_other\">http://www.isocat.org/ns/dcr.rdf#datcat</a></td><td class=typ>uri</td>\n",
       "<td class=val><a href=\"http://www.isocat.org/datcat/DC-4613\" target=\"_other\">http://www.isocat.org/datcat/DC-4613</a></td><td class=typ>uri</td></tr><tr class=odd><td class=val><a href=\"http://www.w3.org/1999/02/22-rdf-syntax-ns#type\" target=\"_other\">http://www.w3.org/1999/02/22-rdf-syntax-ns#type</a></td><td class=typ>uri</td>\n",
       "<td class=val><a href=\"http://www.w3.org/2002/07/owl#Class\" target=\"_other\">http://www.w3.org/2002/07/owl#Class</a></td><td class=typ>uri</td></tr></table><div class=\"tinfo\">Total: 3, Shown: 3</div></div>"
      ]
     },
     "metadata": {},
     "output_type": "display_data"
    }
   ],
   "source": [
    "SELECT ?p ?o\n",
    "{ wn:Synset ?p ?o. }"
   ]
  },
  {
   "cell_type": "markdown",
   "metadata": {},
   "source": [
    "## link 连接"
   ]
  },
  {
   "cell_type": "code",
   "execution_count": 172,
   "metadata": {},
   "outputs": [
    {
     "data": {
      "text/html": [
       "<div class=\"krn-spql\"><table><tr class=hdr><th>p</th><th>type</th>\n",
       "<th>o</th><th>type</th></tr><tr class=odd><td class=val><a href=\"http://www.w3.org/2000/01/rdf-schema#label\" target=\"_other\">http://www.w3.org/2000/01/rdf-schema#label</a></td><td class=typ>uri</td>\n",
       "<td class=val>Link</td><td class=typ>literal, en</td></tr><tr class=even><td class=val><a href=\"http://www.w3.org/1999/02/22-rdf-syntax-ns#type\" target=\"_other\">http://www.w3.org/1999/02/22-rdf-syntax-ns#type</a></td><td class=typ>uri</td>\n",
       "<td class=val><a href=\"http://www.w3.org/2002/07/owl#ObjectProperty\" target=\"_other\">http://www.w3.org/2002/07/owl#ObjectProperty</a></td><td class=typ>uri</td></tr></table><div class=\"tinfo\">Total: 2, Shown: 2</div></div>"
      ]
     },
     "metadata": {},
     "output_type": "display_data"
    }
   ],
   "source": [
    "SELECT ?p ?o\n",
    "{ wn:link ?p ?o. }"
   ]
  },
  {
   "cell_type": "code",
   "execution_count": 174,
   "metadata": {},
   "outputs": [
    {
     "data": {
      "text/html": [
       "<div class=\"krn-spql\"><table><tr class=hdr><th>s</th><th>type</th></tr><tr class=odd><td class=val><a href=\"http://wordnet-rdf.princeton.edu/ontology#action\" target=\"_other\">http://wordnet-rdf.princeton.edu/ontology#action</a></td><td class=typ>uri</td></tr><tr class=even><td class=val><a href=\"http://wordnet-rdf.princeton.edu/ontology#agent\" target=\"_other\">http://wordnet-rdf.princeton.edu/ontology#agent</a></td><td class=typ>uri</td></tr><tr class=odd><td class=val><a href=\"http://wordnet-rdf.princeton.edu/ontology#also\" target=\"_other\">http://wordnet-rdf.princeton.edu/ontology#also</a></td><td class=typ>uri</td></tr><tr class=even><td class=val><a href=\"http://wordnet-rdf.princeton.edu/ontology#antonym\" target=\"_other\">http://wordnet-rdf.princeton.edu/ontology#antonym</a></td><td class=typ>uri</td></tr><tr class=odd><td class=val><a href=\"http://wordnet-rdf.princeton.edu/ontology#attribute\" target=\"_other\">http://wordnet-rdf.princeton.edu/ontology#attribute</a></td><td class=typ>uri</td></tr><tr class=even><td class=val><a href=\"http://wordnet-rdf.princeton.edu/ontology#beneficiary\" target=\"_other\">http://wordnet-rdf.princeton.edu/ontology#beneficiary</a></td><td class=typ>uri</td></tr><tr class=odd><td class=val><a href=\"http://wordnet-rdf.princeton.edu/ontology#cause\" target=\"_other\">http://wordnet-rdf.princeton.edu/ontology#cause</a></td><td class=typ>uri</td></tr><tr class=even><td class=val><a href=\"http://wordnet-rdf.princeton.edu/ontology#creator\" target=\"_other\">http://wordnet-rdf.princeton.edu/ontology#creator</a></td><td class=typ>uri</td></tr><tr class=odd><td class=val><a href=\"http://wordnet-rdf.princeton.edu/ontology#derivation\" target=\"_other\">http://wordnet-rdf.princeton.edu/ontology#derivation</a></td><td class=typ>uri</td></tr><tr class=even><td class=val><a href=\"http://wordnet-rdf.princeton.edu/ontology#domain\" target=\"_other\">http://wordnet-rdf.princeton.edu/ontology#domain</a></td><td class=typ>uri</td></tr><tr class=odd><td class=val><a href=\"http://wordnet-rdf.princeton.edu/ontology#domain_category\" target=\"_other\">http://wordnet-rdf.princeton.edu/ontology#domain_category</a></td><td class=typ>uri</td></tr><tr class=even><td class=val><a href=\"http://wordnet-rdf.princeton.edu/ontology#domain_member_category\" target=\"_other\">http://wordnet-rdf.princeton.edu/ontology#domain_member_category</a></td><td class=typ>uri</td></tr><tr class=odd><td class=val><a href=\"http://wordnet-rdf.princeton.edu/ontology#domain_member_region\" target=\"_other\">http://wordnet-rdf.princeton.edu/ontology#domain_member_region</a></td><td class=typ>uri</td></tr><tr class=even><td class=val><a href=\"http://wordnet-rdf.princeton.edu/ontology#domain_member_usage\" target=\"_other\">http://wordnet-rdf.princeton.edu/ontology#domain_member_usage</a></td><td class=typ>uri</td></tr><tr class=odd><td class=val><a href=\"http://wordnet-rdf.princeton.edu/ontology#domain_region\" target=\"_other\">http://wordnet-rdf.princeton.edu/ontology#domain_region</a></td><td class=typ>uri</td></tr><tr class=even><td class=val><a href=\"http://wordnet-rdf.princeton.edu/ontology#domain_usage\" target=\"_other\">http://wordnet-rdf.princeton.edu/ontology#domain_usage</a></td><td class=typ>uri</td></tr><tr class=odd><td class=val><a href=\"http://wordnet-rdf.princeton.edu/ontology#entail\" target=\"_other\">http://wordnet-rdf.princeton.edu/ontology#entail</a></td><td class=typ>uri</td></tr><tr class=even><td class=val><a href=\"http://wordnet-rdf.princeton.edu/ontology#experiencer\" target=\"_other\">http://wordnet-rdf.princeton.edu/ontology#experiencer</a></td><td class=typ>uri</td></tr><tr class=odd><td class=val><a href=\"http://wordnet-rdf.princeton.edu/ontology#goal\" target=\"_other\">http://wordnet-rdf.princeton.edu/ontology#goal</a></td><td class=typ>uri</td></tr><tr class=even><td class=val><a href=\"http://wordnet-rdf.princeton.edu/ontology#hypernym\" target=\"_other\">http://wordnet-rdf.princeton.edu/ontology#hypernym</a></td><td class=typ>uri</td></tr><tr class=odd><td class=val><a href=\"http://wordnet-rdf.princeton.edu/ontology#hyponym\" target=\"_other\">http://wordnet-rdf.princeton.edu/ontology#hyponym</a></td><td class=typ>uri</td></tr><tr class=even><td class=val><a href=\"http://wordnet-rdf.princeton.edu/ontology#instance_hypernym\" target=\"_other\">http://wordnet-rdf.princeton.edu/ontology#instance_hypernym</a></td><td class=typ>uri</td></tr><tr class=odd><td class=val><a href=\"http://wordnet-rdf.princeton.edu/ontology#instance_hyponym\" target=\"_other\">http://wordnet-rdf.princeton.edu/ontology#instance_hyponym</a></td><td class=typ>uri</td></tr><tr class=even><td class=val><a href=\"http://wordnet-rdf.princeton.edu/ontology#instrument\" target=\"_other\">http://wordnet-rdf.princeton.edu/ontology#instrument</a></td><td class=typ>uri</td></tr><tr class=odd><td class=val><a href=\"http://wordnet-rdf.princeton.edu/ontology#location\" target=\"_other\">http://wordnet-rdf.princeton.edu/ontology#location</a></td><td class=typ>uri</td></tr><tr class=even><td class=val><a href=\"http://wordnet-rdf.princeton.edu/ontology#member\" target=\"_other\">http://wordnet-rdf.princeton.edu/ontology#member</a></td><td class=typ>uri</td></tr><tr class=odd><td class=val><a href=\"http://wordnet-rdf.princeton.edu/ontology#member_holonym\" target=\"_other\">http://wordnet-rdf.princeton.edu/ontology#member_holonym</a></td><td class=typ>uri</td></tr><tr class=even><td class=val><a href=\"http://wordnet-rdf.princeton.edu/ontology#member_meronym\" target=\"_other\">http://wordnet-rdf.princeton.edu/ontology#member_meronym</a></td><td class=typ>uri</td></tr><tr class=odd><td class=val><a href=\"http://wordnet-rdf.princeton.edu/ontology#part_holonym\" target=\"_other\">http://wordnet-rdf.princeton.edu/ontology#part_holonym</a></td><td class=typ>uri</td></tr><tr class=even><td class=val><a href=\"http://wordnet-rdf.princeton.edu/ontology#part_meronym\" target=\"_other\">http://wordnet-rdf.princeton.edu/ontology#part_meronym</a></td><td class=typ>uri</td></tr><tr class=odd><td class=val><a href=\"http://wordnet-rdf.princeton.edu/ontology#participle\" target=\"_other\">http://wordnet-rdf.princeton.edu/ontology#participle</a></td><td class=typ>uri</td></tr><tr class=even><td class=val><a href=\"http://wordnet-rdf.princeton.edu/ontology#patient\" target=\"_other\">http://wordnet-rdf.princeton.edu/ontology#patient</a></td><td class=typ>uri</td></tr><tr class=odd><td class=val><a href=\"http://wordnet-rdf.princeton.edu/ontology#pertainym\" target=\"_other\">http://wordnet-rdf.princeton.edu/ontology#pertainym</a></td><td class=typ>uri</td></tr><tr class=even><td class=val><a href=\"http://wordnet-rdf.princeton.edu/ontology#product\" target=\"_other\">http://wordnet-rdf.princeton.edu/ontology#product</a></td><td class=typ>uri</td></tr><tr class=odd><td class=val><a href=\"http://wordnet-rdf.princeton.edu/ontology#result\" target=\"_other\">http://wordnet-rdf.princeton.edu/ontology#result</a></td><td class=typ>uri</td></tr><tr class=even><td class=val><a href=\"http://wordnet-rdf.princeton.edu/ontology#similar\" target=\"_other\">http://wordnet-rdf.princeton.edu/ontology#similar</a></td><td class=typ>uri</td></tr><tr class=odd><td class=val><a href=\"http://wordnet-rdf.princeton.edu/ontology#substance_holonym\" target=\"_other\">http://wordnet-rdf.princeton.edu/ontology#substance_holonym</a></td><td class=typ>uri</td></tr><tr class=even><td class=val><a href=\"http://wordnet-rdf.princeton.edu/ontology#substance_meronym\" target=\"_other\">http://wordnet-rdf.princeton.edu/ontology#substance_meronym</a></td><td class=typ>uri</td></tr><tr class=odd><td class=val><a href=\"http://wordnet-rdf.princeton.edu/ontology#theme\" target=\"_other\">http://wordnet-rdf.princeton.edu/ontology#theme</a></td><td class=typ>uri</td></tr><tr class=even><td class=val><a href=\"http://wordnet-rdf.princeton.edu/ontology#verb_group\" target=\"_other\">http://wordnet-rdf.princeton.edu/ontology#verb_group</a></td><td class=typ>uri</td></tr></table><div class=\"tinfo\">Total: 40, Shown: 40</div></div>"
      ]
     },
     "metadata": {},
     "output_type": "display_data"
    }
   ],
   "source": [
    "SELECT ?s\n",
    "{?s rdfs:subPropertyOf wn:link}\n",
    "ORDER BY ?s"
   ]
  },
  {
   "cell_type": "markdown",
   "metadata": {},
   "source": [
    "### action 动作?"
   ]
  },
  {
   "cell_type": "code",
   "execution_count": 91,
   "metadata": {},
   "outputs": [
    {
     "data": {
      "text/html": [
       "<div class=\"krn-spql\"><table><tr class=hdr><th>p</th><th>type</th>\n",
       "<th>o</th><th>type</th></tr><tr class=odd><td class=val><a href=\"http://www.w3.org/2000/01/rdf-schema#subPropertyOf\" target=\"_other\">http://www.w3.org/2000/01/rdf-schema#subPropertyOf</a></td><td class=typ>uri</td>\n",
       "<td class=val><a href=\"http://wordnet-rdf.princeton.edu/ontology#link\" target=\"_other\">http://wordnet-rdf.princeton.edu/ontology#link</a></td><td class=typ>uri</td></tr><tr class=even><td class=val><a href=\"http://www.w3.org/2000/01/rdf-schema#label\" target=\"_other\">http://www.w3.org/2000/01/rdf-schema#label</a></td><td class=typ>uri</td>\n",
       "<td class=val>Action</td><td class=typ>literal, en</td></tr></table><div class=\"tinfo\">Total: 2, Shown: 2</div></div>"
      ]
     },
     "metadata": {},
     "output_type": "display_data"
    }
   ],
   "source": [
    "SELECT ?p ?o\n",
    "{ wn:action ?p ?o. }"
   ]
  },
  {
   "cell_type": "code",
   "execution_count": 92,
   "metadata": {},
   "outputs": [
    {
     "data": {
      "text/html": [
       "<div class=\"krn-spql\"><table><tr class=hdr><th>s</th><th>type</th>\n",
       "<th>o</th><th>type</th></tr></table><div class=\"tinfo\">Total: 0, Shown: 0</div></div>"
      ]
     },
     "metadata": {},
     "output_type": "display_data"
    }
   ],
   "source": [
    "SELECT ?s ?o\n",
    "{ ?s wn:action ?o. }\n",
    "LIMIT 10"
   ]
  },
  {
   "cell_type": "markdown",
   "metadata": {},
   "source": [
    "### agent 执行体?"
   ]
  },
  {
   "cell_type": "code",
   "execution_count": 96,
   "metadata": {},
   "outputs": [
    {
     "data": {
      "text/html": [
       "<div class=\"krn-spql\"><table><tr class=hdr><th>p</th><th>type</th>\n",
       "<th>o</th><th>type</th></tr><tr class=odd><td class=val><a href=\"http://www.w3.org/2000/01/rdf-schema#subPropertyOf\" target=\"_other\">http://www.w3.org/2000/01/rdf-schema#subPropertyOf</a></td><td class=typ>uri</td>\n",
       "<td class=val><a href=\"http://wordnet-rdf.princeton.edu/ontology#link\" target=\"_other\">http://wordnet-rdf.princeton.edu/ontology#link</a></td><td class=typ>uri</td></tr><tr class=even><td class=val><a href=\"http://www.w3.org/2000/01/rdf-schema#label\" target=\"_other\">http://www.w3.org/2000/01/rdf-schema#label</a></td><td class=typ>uri</td>\n",
       "<td class=val>Agent</td><td class=typ>literal, en</td></tr></table><div class=\"tinfo\">Total: 2, Shown: 2</div></div>"
      ]
     },
     "metadata": {},
     "output_type": "display_data"
    }
   ],
   "source": [
    "SELECT ?p ?o\n",
    "{ wn:agent ?p ?o. }"
   ]
  },
  {
   "cell_type": "code",
   "execution_count": 97,
   "metadata": {},
   "outputs": [
    {
     "data": {
      "text/html": [
       "<div class=\"krn-spql\"><table><tr class=hdr><th>s</th><th>type</th>\n",
       "<th>o</th><th>type</th></tr></table><div class=\"tinfo\">Total: 0, Shown: 0</div></div>"
      ]
     },
     "metadata": {},
     "output_type": "display_data"
    }
   ],
   "source": [
    "SELECT ?s ?o\n",
    "{ ?s wn:agent ?o. }\n",
    "LIMIT 10"
   ]
  },
  {
   "cell_type": "markdown",
   "metadata": {},
   "source": [
    "### also 也?"
   ]
  },
  {
   "cell_type": "code",
   "execution_count": 98,
   "metadata": {},
   "outputs": [
    {
     "data": {
      "text/html": [
       "<div class=\"krn-spql\"><table><tr class=hdr><th>p</th><th>type</th>\n",
       "<th>o</th><th>type</th></tr><tr class=odd><td class=val><a href=\"http://www.w3.org/2000/01/rdf-schema#subPropertyOf\" target=\"_other\">http://www.w3.org/2000/01/rdf-schema#subPropertyOf</a></td><td class=typ>uri</td>\n",
       "<td class=val><a href=\"http://wordnet-rdf.princeton.edu/ontology#link\" target=\"_other\">http://wordnet-rdf.princeton.edu/ontology#link</a></td><td class=typ>uri</td></tr><tr class=even><td class=val><a href=\"http://www.w3.org/2000/01/rdf-schema#label\" target=\"_other\">http://www.w3.org/2000/01/rdf-schema#label</a></td><td class=typ>uri</td>\n",
       "<td class=val>Also</td><td class=typ>literal, en</td></tr><tr class=odd><td class=val><a href=\"http://www.isocat.org/ns/dcr.rdf#datcat\" target=\"_other\">http://www.isocat.org/ns/dcr.rdf#datcat</a></td><td class=typ>uri</td>\n",
       "<td class=val><a href=\"http://www.isocat.org/datcat/DC-461\" target=\"_other\">http://www.isocat.org/datcat/DC-461</a></td><td class=typ>uri</td></tr></table><div class=\"tinfo\">Total: 3, Shown: 3</div></div>"
      ]
     },
     "metadata": {},
     "output_type": "display_data"
    }
   ],
   "source": [
    "SELECT ?p ?o\n",
    "{ wn:also ?p ?o. }"
   ]
  },
  {
   "cell_type": "code",
   "execution_count": 99,
   "metadata": {},
   "outputs": [
    {
     "data": {
      "text/html": [
       "<div class=\"krn-spql\"><table><tr class=hdr><th>s</th><th>type</th>\n",
       "<th>o</th><th>type</th></tr><tr class=odd><td class=val><a href=\"http://wordnet-rdf.princeton.edu/rdf/lemma/care#care-01826886-v\" target=\"_other\">http://wordnet-rdf.princeton.edu/rdf/lemma/care#care-01826886-v</a></td><td class=typ>uri</td>\n",
       "<td class=val><a href=\"http://wordnet-rdf.princeton.edu/rdf/lemma/care#care-02555993-v\" target=\"_other\">http://wordnet-rdf.princeton.edu/rdf/lemma/care#care-02555993-v</a></td><td class=typ>uri</td></tr><tr class=even><td class=val><a href=\"http://wordnet-rdf.princeton.edu/id/02051318-a\" target=\"_other\">http://wordnet-rdf.princeton.edu/id/02051318-a</a></td><td class=typ>uri</td>\n",
       "<td class=val><a href=\"http://wordnet-rdf.princeton.edu/id/02048059-a\" target=\"_other\">http://wordnet-rdf.princeton.edu/id/02048059-a</a></td><td class=typ>uri</td></tr><tr class=odd><td class=val><a href=\"http://wordnet-rdf.princeton.edu/rdf/lemma/chop#chop-01259737-v\" target=\"_other\">http://wordnet-rdf.princeton.edu/rdf/lemma/chop#chop-01259737-v</a></td><td class=typ>uri</td>\n",
       "<td class=val><a href=\"http://wordnet-rdf.princeton.edu/rdf/lemma/chop_off#chop_off-01301854-v\" target=\"_other\">http://wordnet-rdf.princeton.edu/rdf/lemma/chop_off#chop_off-01301854-v</a></td><td class=typ>uri</td></tr><tr class=even><td class=val><a href=\"http://wordnet-rdf.princeton.edu/id/01616581-a\" target=\"_other\">http://wordnet-rdf.princeton.edu/id/01616581-a</a></td><td class=typ>uri</td>\n",
       "<td class=val><a href=\"http://wordnet-rdf.princeton.edu/id/02460186-a\" target=\"_other\">http://wordnet-rdf.princeton.edu/id/02460186-a</a></td><td class=typ>uri</td></tr><tr class=odd><td class=val><a href=\"http://wordnet-rdf.princeton.edu/id/02336651-a\" target=\"_other\">http://wordnet-rdf.princeton.edu/id/02336651-a</a></td><td class=typ>uri</td>\n",
       "<td class=val><a href=\"http://wordnet-rdf.princeton.edu/id/02460186-a\" target=\"_other\">http://wordnet-rdf.princeton.edu/id/02460186-a</a></td><td class=typ>uri</td></tr><tr class=even><td class=val><a href=\"http://wordnet-rdf.princeton.edu/id/00699967-a\" target=\"_other\">http://wordnet-rdf.princeton.edu/id/00699967-a</a></td><td class=typ>uri</td>\n",
       "<td class=val><a href=\"http://wordnet-rdf.princeton.edu/id/02460186-a\" target=\"_other\">http://wordnet-rdf.princeton.edu/id/02460186-a</a></td><td class=typ>uri</td></tr><tr class=odd><td class=val><a href=\"http://wordnet-rdf.princeton.edu/id/02396713-a\" target=\"_other\">http://wordnet-rdf.princeton.edu/id/02396713-a</a></td><td class=typ>uri</td>\n",
       "<td class=val><a href=\"http://wordnet-rdf.princeton.edu/id/02460186-a\" target=\"_other\">http://wordnet-rdf.princeton.edu/id/02460186-a</a></td><td class=typ>uri</td></tr><tr class=even><td class=val><a href=\"http://wordnet-rdf.princeton.edu/id/01477656-a\" target=\"_other\">http://wordnet-rdf.princeton.edu/id/01477656-a</a></td><td class=typ>uri</td>\n",
       "<td class=val><a href=\"http://wordnet-rdf.princeton.edu/id/02460186-a\" target=\"_other\">http://wordnet-rdf.princeton.edu/id/02460186-a</a></td><td class=typ>uri</td></tr><tr class=odd><td class=val><a href=\"http://wordnet-rdf.princeton.edu/rdf/lemma/compensate#compensate-02525657-v\" target=\"_other\">http://wordnet-rdf.princeton.edu/rdf/lemma/compensate#compensate-02525657-v</a></td><td class=typ>uri</td>\n",
       "<td class=val><a href=\"http://wordnet-rdf.princeton.edu/rdf/lemma/compensate#compensate-02678329-v\" target=\"_other\">http://wordnet-rdf.princeton.edu/rdf/lemma/compensate#compensate-02678329-v</a></td><td class=typ>uri</td></tr><tr class=even><td class=val><a href=\"http://wordnet-rdf.princeton.edu/rdf/lemma/break#break-00340274-v\" target=\"_other\">http://wordnet-rdf.princeton.edu/rdf/lemma/break#break-00340274-v</a></td><td class=typ>uri</td>\n",
       "<td class=val><a href=\"http://wordnet-rdf.princeton.edu/rdf/lemma/break_out#break_out-00346162-v\" target=\"_other\">http://wordnet-rdf.princeton.edu/rdf/lemma/break_out#break_out-00346162-v</a></td><td class=typ>uri</td></tr></table><div class=\"tinfo\">Total: 10, Shown: 10</div></div>"
      ]
     },
     "metadata": {},
     "output_type": "display_data"
    }
   ],
   "source": [
    "SELECT ?s ?o\n",
    "{ ?s wn:also ?o. }\n",
    "LIMIT 10"
   ]
  },
  {
   "cell_type": "markdown",
   "metadata": {},
   "source": [
    "### antonym 反义词"
   ]
  },
  {
   "cell_type": "code",
   "execution_count": 100,
   "metadata": {},
   "outputs": [
    {
     "data": {
      "text/html": [
       "<div class=\"krn-spql\"><table><tr class=hdr><th>p</th><th>type</th>\n",
       "<th>o</th><th>type</th></tr><tr class=odd><td class=val><a href=\"http://www.w3.org/2000/01/rdf-schema#subPropertyOf\" target=\"_other\">http://www.w3.org/2000/01/rdf-schema#subPropertyOf</a></td><td class=typ>uri</td>\n",
       "<td class=val><a href=\"http://wordnet-rdf.princeton.edu/ontology#link\" target=\"_other\">http://wordnet-rdf.princeton.edu/ontology#link</a></td><td class=typ>uri</td></tr><tr class=even><td class=val><a href=\"http://www.w3.org/2000/01/rdf-schema#label\" target=\"_other\">http://www.w3.org/2000/01/rdf-schema#label</a></td><td class=typ>uri</td>\n",
       "<td class=val>Antonym</td><td class=typ>literal, en</td></tr><tr class=odd><td class=val><a href=\"http://www.isocat.org/ns/dcr.rdf#datcat\" target=\"_other\">http://www.isocat.org/ns/dcr.rdf#datcat</a></td><td class=typ>uri</td>\n",
       "<td class=val><a href=\"http://www.isocat.org/datcat/DC-83\" target=\"_other\">http://www.isocat.org/datcat/DC-83</a></td><td class=typ>uri</td></tr></table><div class=\"tinfo\">Total: 3, Shown: 3</div></div>"
      ]
     },
     "metadata": {},
     "output_type": "display_data"
    }
   ],
   "source": [
    "SELECT ?p ?o\n",
    "{ wn:antonym ?p ?o. }"
   ]
  },
  {
   "cell_type": "code",
   "execution_count": 101,
   "metadata": {},
   "outputs": [
    {
     "data": {
      "text/html": [
       "<div class=\"krn-spql\"><table><tr class=hdr><th>s</th><th>type</th>\n",
       "<th>o</th><th>type</th></tr><tr class=odd><td class=val><a href=\"http://wordnet-rdf.princeton.edu/rdf/lemma/disinflation#disinflation-13488052-n\" target=\"_other\">http://wordnet-rdf.princeton.edu/rdf/lemma/disinflation#disinflation-13488052-n</a></td><td class=typ>uri</td>\n",
       "<td class=val><a href=\"http://wordnet-rdf.princeton.edu/rdf/lemma/inflation#inflation-13520031-n\" target=\"_other\">http://wordnet-rdf.princeton.edu/rdf/lemma/inflation#inflation-13520031-n</a></td><td class=typ>uri</td></tr><tr class=even><td class=val><a href=\"http://wordnet-rdf.princeton.edu/rdf/lemma/deflation#deflation-13481024-n\" target=\"_other\">http://wordnet-rdf.princeton.edu/rdf/lemma/deflation#deflation-13481024-n</a></td><td class=typ>uri</td>\n",
       "<td class=val><a href=\"http://wordnet-rdf.princeton.edu/rdf/lemma/inflation#inflation-13520031-n\" target=\"_other\">http://wordnet-rdf.princeton.edu/rdf/lemma/inflation#inflation-13520031-n</a></td><td class=typ>uri</td></tr><tr class=odd><td class=val><a href=\"http://wordnet-rdf.princeton.edu/rdf/lemma/rural#rural-02057872-a\" target=\"_other\">http://wordnet-rdf.princeton.edu/rdf/lemma/rural#rural-02057872-a</a></td><td class=typ>uri</td>\n",
       "<td class=val><a href=\"http://wordnet-rdf.princeton.edu/rdf/lemma/urban#urban-02059737-a\" target=\"_other\">http://wordnet-rdf.princeton.edu/rdf/lemma/urban#urban-02059737-a</a></td><td class=typ>uri</td></tr><tr class=even><td class=val><a href=\"http://wordnet-rdf.princeton.edu/rdf/lemma/follower#follower-10119144-n\" target=\"_other\">http://wordnet-rdf.princeton.edu/rdf/lemma/follower#follower-10119144-n</a></td><td class=typ>uri</td>\n",
       "<td class=val><a href=\"http://wordnet-rdf.princeton.edu/rdf/lemma/leader#leader-09646208-n\" target=\"_other\">http://wordnet-rdf.princeton.edu/rdf/lemma/leader#leader-09646208-n</a></td><td class=typ>uri</td></tr><tr class=odd><td class=val><a href=\"http://wordnet-rdf.princeton.edu/rdf/lemma/salubrity#salubrity-04797466-n\" target=\"_other\">http://wordnet-rdf.princeton.edu/rdf/lemma/salubrity#salubrity-04797466-n</a></td><td class=typ>uri</td>\n",
       "<td class=val><a href=\"http://wordnet-rdf.princeton.edu/rdf/lemma/insalubrity#insalubrity-04799159-n\" target=\"_other\">http://wordnet-rdf.princeton.edu/rdf/lemma/insalubrity#insalubrity-04799159-n</a></td><td class=typ>uri</td></tr><tr class=even><td class=val><a href=\"http://wordnet-rdf.princeton.edu/rdf/lemma/unadventurous#unadventurous-00067409-a\" target=\"_other\">http://wordnet-rdf.princeton.edu/rdf/lemma/unadventurous#unadventurous-00067409-a</a></td><td class=typ>uri</td>\n",
       "<td class=val><a href=\"http://wordnet-rdf.princeton.edu/rdf/lemma/adventurous#adventurous-00066400-a\" target=\"_other\">http://wordnet-rdf.princeton.edu/rdf/lemma/adventurous#adventurous-00066400-a</a></td><td class=typ>uri</td></tr><tr class=odd><td class=val><a href=\"http://wordnet-rdf.princeton.edu/rdf/lemma/pro-life#pro-life-02604474-a\" target=\"_other\">http://wordnet-rdf.princeton.edu/rdf/lemma/pro-life#pro-life-02604474-a</a></td><td class=typ>uri</td>\n",
       "<td class=val><a href=\"http://wordnet-rdf.princeton.edu/rdf/lemma/pro-choice#pro-choice-02604321-a\" target=\"_other\">http://wordnet-rdf.princeton.edu/rdf/lemma/pro-choice#pro-choice-02604321-a</a></td><td class=typ>uri</td></tr><tr class=even><td class=val><a href=\"http://wordnet-rdf.princeton.edu/rdf/lemma/argillaceous#argillaceous-00143538-a\" target=\"_other\">http://wordnet-rdf.princeton.edu/rdf/lemma/argillaceous#argillaceous-00143538-a</a></td><td class=typ>uri</td>\n",
       "<td class=val><a href=\"http://wordnet-rdf.princeton.edu/rdf/lemma/arenaceous#arenaceous-00143308-a\" target=\"_other\">http://wordnet-rdf.princeton.edu/rdf/lemma/arenaceous#arenaceous-00143308-a</a></td><td class=typ>uri</td></tr><tr class=odd><td class=val><a href=\"http://wordnet-rdf.princeton.edu/rdf/lemma/enliven#enliven-00193180-v\" target=\"_other\">http://wordnet-rdf.princeton.edu/rdf/lemma/enliven#enliven-00193180-v</a></td><td class=typ>uri</td>\n",
       "<td class=val><a href=\"http://wordnet-rdf.princeton.edu/rdf/lemma/deaden#deaden-00192383-v\" target=\"_other\">http://wordnet-rdf.princeton.edu/rdf/lemma/deaden#deaden-00192383-v</a></td><td class=typ>uri</td></tr><tr class=even><td class=val><a href=\"http://wordnet-rdf.princeton.edu/rdf/lemma/adventurous#adventurous-00066400-a\" target=\"_other\">http://wordnet-rdf.princeton.edu/rdf/lemma/adventurous#adventurous-00066400-a</a></td><td class=typ>uri</td>\n",
       "<td class=val><a href=\"http://wordnet-rdf.princeton.edu/rdf/lemma/unadventurous#unadventurous-00067409-a\" target=\"_other\">http://wordnet-rdf.princeton.edu/rdf/lemma/unadventurous#unadventurous-00067409-a</a></td><td class=typ>uri</td></tr></table><div class=\"tinfo\">Total: 10, Shown: 10</div></div>"
      ]
     },
     "metadata": {},
     "output_type": "display_data"
    }
   ],
   "source": [
    "SELECT ?s ?o\n",
    "{ ?s wn:antonym ?o. }\n",
    "LIMIT 10"
   ]
  },
  {
   "cell_type": "markdown",
   "metadata": {},
   "source": [
    "### attribute 定语"
   ]
  },
  {
   "cell_type": "code",
   "execution_count": 103,
   "metadata": {},
   "outputs": [
    {
     "data": {
      "text/html": [
       "<div class=\"krn-spql\"><table><tr class=hdr><th>p</th><th>type</th>\n",
       "<th>o</th><th>type</th></tr><tr class=odd><td class=val><a href=\"http://www.w3.org/2000/01/rdf-schema#subPropertyOf\" target=\"_other\">http://www.w3.org/2000/01/rdf-schema#subPropertyOf</a></td><td class=typ>uri</td>\n",
       "<td class=val><a href=\"http://wordnet-rdf.princeton.edu/ontology#link\" target=\"_other\">http://wordnet-rdf.princeton.edu/ontology#link</a></td><td class=typ>uri</td></tr><tr class=even><td class=val><a href=\"http://www.w3.org/2000/01/rdf-schema#label\" target=\"_other\">http://www.w3.org/2000/01/rdf-schema#label</a></td><td class=typ>uri</td>\n",
       "<td class=val>Attribute</td><td class=typ>literal, en</td></tr><tr class=odd><td class=val><a href=\"http://www.isocat.org/ns/dcr.rdf#datcat\" target=\"_other\">http://www.isocat.org/ns/dcr.rdf#datcat</a></td><td class=typ>uri</td>\n",
       "<td class=val><a href=\"http://www.isocat.org/datcat/DC-2267\" target=\"_other\">http://www.isocat.org/datcat/DC-2267</a></td><td class=typ>uri</td></tr></table><div class=\"tinfo\">Total: 3, Shown: 3</div></div>"
      ]
     },
     "metadata": {},
     "output_type": "display_data"
    }
   ],
   "source": [
    "SELECT ?p ?o\n",
    "{ wn:attribute ?p ?o. }"
   ]
  },
  {
   "cell_type": "code",
   "execution_count": 104,
   "metadata": {},
   "outputs": [
    {
     "data": {
      "text/html": [
       "<div class=\"krn-spql\"><table><tr class=hdr><th>s</th><th>type</th>\n",
       "<th>o</th><th>type</th></tr><tr class=odd><td class=val><a href=\"http://wordnet-rdf.princeton.edu/id/04912365-n\" target=\"_other\">http://wordnet-rdf.princeton.edu/id/04912365-n</a></td><td class=typ>uri</td>\n",
       "<td class=val><a href=\"http://wordnet-rdf.princeton.edu/id/02460186-a\" target=\"_other\">http://wordnet-rdf.princeton.edu/id/02460186-a</a></td><td class=typ>uri</td></tr><tr class=even><td class=val><a href=\"http://wordnet-rdf.princeton.edu/id/05091408-n\" target=\"_other\">http://wordnet-rdf.princeton.edu/id/05091408-n</a></td><td class=typ>uri</td>\n",
       "<td class=val><a href=\"http://wordnet-rdf.princeton.edu/id/00447582-a\" target=\"_other\">http://wordnet-rdf.princeton.edu/id/00447582-a</a></td><td class=typ>uri</td></tr><tr class=odd><td class=val><a href=\"http://wordnet-rdf.princeton.edu/id/05070898-n\" target=\"_other\">http://wordnet-rdf.princeton.edu/id/05070898-n</a></td><td class=typ>uri</td>\n",
       "<td class=val><a href=\"http://wordnet-rdf.princeton.edu/id/00660221-a\" target=\"_other\">http://wordnet-rdf.princeton.edu/id/00660221-a</a></td><td class=typ>uri</td></tr><tr class=even><td class=val><a href=\"http://wordnet-rdf.princeton.edu/id/00179263-a\" target=\"_other\">http://wordnet-rdf.princeton.edu/id/00179263-a</a></td><td class=typ>uri</td>\n",
       "<td class=val><a href=\"http://wordnet-rdf.princeton.edu/id/05168623-n\" target=\"_other\">http://wordnet-rdf.princeton.edu/id/05168623-n</a></td><td class=typ>uri</td></tr><tr class=odd><td class=val><a href=\"http://wordnet-rdf.princeton.edu/id/00178468-a\" target=\"_other\">http://wordnet-rdf.princeton.edu/id/00178468-a</a></td><td class=typ>uri</td>\n",
       "<td class=val><a href=\"http://wordnet-rdf.princeton.edu/id/05168623-n\" target=\"_other\">http://wordnet-rdf.princeton.edu/id/05168623-n</a></td><td class=typ>uri</td></tr><tr class=even><td class=val><a href=\"http://wordnet-rdf.princeton.edu/id/00177411-a\" target=\"_other\">http://wordnet-rdf.princeton.edu/id/00177411-a</a></td><td class=typ>uri</td>\n",
       "<td class=val><a href=\"http://wordnet-rdf.princeton.edu/id/05168623-n\" target=\"_other\">http://wordnet-rdf.princeton.edu/id/05168623-n</a></td><td class=typ>uri</td></tr><tr class=odd><td class=val><a href=\"http://wordnet-rdf.princeton.edu/id/00178121-a\" target=\"_other\">http://wordnet-rdf.princeton.edu/id/00178121-a</a></td><td class=typ>uri</td>\n",
       "<td class=val><a href=\"http://wordnet-rdf.princeton.edu/id/05168623-n\" target=\"_other\">http://wordnet-rdf.princeton.edu/id/05168623-n</a></td><td class=typ>uri</td></tr><tr class=even><td class=val><a href=\"http://wordnet-rdf.princeton.edu/id/04878569-n\" target=\"_other\">http://wordnet-rdf.princeton.edu/id/04878569-n</a></td><td class=typ>uri</td>\n",
       "<td class=val><a href=\"http://wordnet-rdf.princeton.edu/id/02326807-a\" target=\"_other\">http://wordnet-rdf.princeton.edu/id/02326807-a</a></td><td class=typ>uri</td></tr><tr class=odd><td class=val><a href=\"http://wordnet-rdf.princeton.edu/id/04896722-n\" target=\"_other\">http://wordnet-rdf.princeton.edu/id/04896722-n</a></td><td class=typ>uri</td>\n",
       "<td class=val><a href=\"http://wordnet-rdf.princeton.edu/id/01899020-a\" target=\"_other\">http://wordnet-rdf.princeton.edu/id/01899020-a</a></td><td class=typ>uri</td></tr><tr class=even><td class=val><a href=\"http://wordnet-rdf.princeton.edu/id/13972794-n\" target=\"_other\">http://wordnet-rdf.princeton.edu/id/13972794-n</a></td><td class=typ>uri</td>\n",
       "<td class=val><a href=\"http://wordnet-rdf.princeton.edu/id/02107989-a\" target=\"_other\">http://wordnet-rdf.princeton.edu/id/02107989-a</a></td><td class=typ>uri</td></tr></table><div class=\"tinfo\">Total: 10, Shown: 10</div></div>"
      ]
     },
     "metadata": {},
     "output_type": "display_data"
    }
   ],
   "source": [
    "SELECT ?s ?o\n",
    "{ ?s wn:attribute ?o. }\n",
    "LIMIT 10"
   ]
  },
  {
   "cell_type": "markdown",
   "metadata": {},
   "source": [
    "### beneficiary 受益人?"
   ]
  },
  {
   "cell_type": "code",
   "execution_count": 109,
   "metadata": {},
   "outputs": [
    {
     "data": {
      "text/html": [
       "<div class=\"krn-spql\"><table><tr class=hdr><th>p</th><th>type</th>\n",
       "<th>o</th><th>type</th></tr><tr class=odd><td class=val><a href=\"http://www.w3.org/2000/01/rdf-schema#subPropertyOf\" target=\"_other\">http://www.w3.org/2000/01/rdf-schema#subPropertyOf</a></td><td class=typ>uri</td>\n",
       "<td class=val><a href=\"http://wordnet-rdf.princeton.edu/ontology#link\" target=\"_other\">http://wordnet-rdf.princeton.edu/ontology#link</a></td><td class=typ>uri</td></tr><tr class=even><td class=val><a href=\"http://www.w3.org/2000/01/rdf-schema#label\" target=\"_other\">http://www.w3.org/2000/01/rdf-schema#label</a></td><td class=typ>uri</td>\n",
       "<td class=val>Beneficiary</td><td class=typ>literal, en</td></tr></table><div class=\"tinfo\">Total: 2, Shown: 2</div></div>"
      ]
     },
     "metadata": {},
     "output_type": "display_data"
    }
   ],
   "source": [
    "SELECT ?p ?o\n",
    "{ wn:beneficiary ?p ?o. }"
   ]
  },
  {
   "cell_type": "code",
   "execution_count": 110,
   "metadata": {},
   "outputs": [
    {
     "data": {
      "text/html": [
       "<div class=\"krn-spql\"><table><tr class=hdr><th>s</th><th>type</th>\n",
       "<th>o</th><th>type</th></tr></table><div class=\"tinfo\">Total: 0, Shown: 0</div></div>"
      ]
     },
     "metadata": {},
     "output_type": "display_data"
    }
   ],
   "source": [
    "SELECT ?s ?o\n",
    "{ ?s wn:beneficiary ?o. }\n",
    "LIMIT 10"
   ]
  },
  {
   "cell_type": "markdown",
   "metadata": {},
   "source": [
    "### cause 导致"
   ]
  },
  {
   "cell_type": "code",
   "execution_count": 112,
   "metadata": {},
   "outputs": [
    {
     "data": {
      "text/html": [
       "<div class=\"krn-spql\"><table><tr class=hdr><th>p</th><th>type</th>\n",
       "<th>o</th><th>type</th></tr><tr class=odd><td class=val><a href=\"http://www.w3.org/2000/01/rdf-schema#subPropertyOf\" target=\"_other\">http://www.w3.org/2000/01/rdf-schema#subPropertyOf</a></td><td class=typ>uri</td>\n",
       "<td class=val><a href=\"http://wordnet-rdf.princeton.edu/ontology#link\" target=\"_other\">http://wordnet-rdf.princeton.edu/ontology#link</a></td><td class=typ>uri</td></tr><tr class=even><td class=val><a href=\"http://www.w3.org/2000/01/rdf-schema#label\" target=\"_other\">http://www.w3.org/2000/01/rdf-schema#label</a></td><td class=typ>uri</td>\n",
       "<td class=val>Cause</td><td class=typ>literal, en</td></tr><tr class=odd><td class=val><a href=\"http://www.w3.org/1999/02/22-rdf-syntax-ns#type\" target=\"_other\">http://www.w3.org/1999/02/22-rdf-syntax-ns#type</a></td><td class=typ>uri</td>\n",
       "<td class=val><a href=\"http://www.w3.org/2002/07/owl#TransitiveProperty\" target=\"_other\">http://www.w3.org/2002/07/owl#TransitiveProperty</a></td><td class=typ>uri</td></tr></table><div class=\"tinfo\">Total: 3, Shown: 3</div></div>"
      ]
     },
     "metadata": {},
     "output_type": "display_data"
    }
   ],
   "source": [
    "SELECT ?p ?o\n",
    "{ wn:cause ?p ?o. }"
   ]
  },
  {
   "cell_type": "code",
   "execution_count": 113,
   "metadata": {},
   "outputs": [
    {
     "data": {
      "text/html": [
       "<div class=\"krn-spql\"><table><tr class=hdr><th>s</th><th>type</th>\n",
       "<th>o</th><th>type</th></tr></table><div class=\"tinfo\">Total: 0, Shown: 0</div></div>"
      ]
     },
     "metadata": {},
     "output_type": "display_data"
    }
   ],
   "source": [
    "SELECT ?s ?o\n",
    "{ ?s wn:cause ?o. }\n",
    "LIMIT 10"
   ]
  },
  {
   "cell_type": "markdown",
   "metadata": {},
   "source": [
    "### creator 创建者"
   ]
  },
  {
   "cell_type": "code",
   "execution_count": 114,
   "metadata": {},
   "outputs": [
    {
     "data": {
      "text/html": [
       "<div class=\"krn-spql\"><table><tr class=hdr><th>p</th><th>type</th>\n",
       "<th>o</th><th>type</th></tr><tr class=odd><td class=val><a href=\"http://www.w3.org/2000/01/rdf-schema#subPropertyOf\" target=\"_other\">http://www.w3.org/2000/01/rdf-schema#subPropertyOf</a></td><td class=typ>uri</td>\n",
       "<td class=val><a href=\"http://wordnet-rdf.princeton.edu/ontology#link\" target=\"_other\">http://wordnet-rdf.princeton.edu/ontology#link</a></td><td class=typ>uri</td></tr><tr class=even><td class=val><a href=\"http://www.w3.org/2000/01/rdf-schema#label\" target=\"_other\">http://www.w3.org/2000/01/rdf-schema#label</a></td><td class=typ>uri</td>\n",
       "<td class=val>Creator</td><td class=typ>literal, en</td></tr></table><div class=\"tinfo\">Total: 2, Shown: 2</div></div>"
      ]
     },
     "metadata": {},
     "output_type": "display_data"
    }
   ],
   "source": [
    "SELECT ?p ?o\n",
    "{ wn:creator ?p ?o. }"
   ]
  },
  {
   "cell_type": "code",
   "execution_count": 115,
   "metadata": {},
   "outputs": [
    {
     "data": {
      "text/html": [
       "<div class=\"krn-spql\"><table><tr class=hdr><th>s</th><th>type</th>\n",
       "<th>o</th><th>type</th></tr></table><div class=\"tinfo\">Total: 0, Shown: 0</div></div>"
      ]
     },
     "metadata": {},
     "output_type": "display_data"
    }
   ],
   "source": [
    "SELECT ?s ?o\n",
    "{ ?s wn:creator ?o. }\n",
    "LIMIT 10"
   ]
  },
  {
   "cell_type": "markdown",
   "metadata": {},
   "source": [
    "### derivation 派生"
   ]
  },
  {
   "cell_type": "code",
   "execution_count": 116,
   "metadata": {},
   "outputs": [
    {
     "data": {
      "text/html": [
       "<div class=\"krn-spql\"><table><tr class=hdr><th>p</th><th>type</th>\n",
       "<th>o</th><th>type</th></tr><tr class=odd><td class=val><a href=\"http://www.w3.org/2000/01/rdf-schema#subPropertyOf\" target=\"_other\">http://www.w3.org/2000/01/rdf-schema#subPropertyOf</a></td><td class=typ>uri</td>\n",
       "<td class=val><a href=\"http://wordnet-rdf.princeton.edu/ontology#link\" target=\"_other\">http://wordnet-rdf.princeton.edu/ontology#link</a></td><td class=typ>uri</td></tr><tr class=even><td class=val><a href=\"http://www.w3.org/2000/01/rdf-schema#label\" target=\"_other\">http://www.w3.org/2000/01/rdf-schema#label</a></td><td class=typ>uri</td>\n",
       "<td class=val>Derivation</td><td class=typ>literal, en</td></tr><tr class=odd><td class=val><a href=\"http://www.isocat.org/ns/dcr.rdf#datcat\" target=\"_other\">http://www.isocat.org/ns/dcr.rdf#datcat</a></td><td class=typ>uri</td>\n",
       "<td class=val><a href=\"http://www.isocat.org/datcat/DC-4611\" target=\"_other\">http://www.isocat.org/datcat/DC-4611</a></td><td class=typ>uri</td></tr></table><div class=\"tinfo\">Total: 3, Shown: 3</div></div>"
      ]
     },
     "metadata": {},
     "output_type": "display_data"
    }
   ],
   "source": [
    "SELECT ?p ?o\n",
    "{ wn:derivation ?p ?o. }"
   ]
  },
  {
   "cell_type": "code",
   "execution_count": 117,
   "metadata": {},
   "outputs": [
    {
     "data": {
      "text/html": [
       "<div class=\"krn-spql\"><table><tr class=hdr><th>s</th><th>type</th>\n",
       "<th>o</th><th>type</th></tr><tr class=odd><td class=val><a href=\"http://wordnet-rdf.princeton.edu/rdf/lemma/execute#execute-02488856-v\" target=\"_other\">http://wordnet-rdf.princeton.edu/rdf/lemma/execute#execute-02488856-v</a></td><td class=typ>uri</td>\n",
       "<td class=val><a href=\"http://wordnet-rdf.princeton.edu/rdf/lemma/executing#executing-01166269-n\" target=\"_other\">http://wordnet-rdf.princeton.edu/rdf/lemma/executing#executing-01166269-n</a></td><td class=typ>uri</td></tr><tr class=even><td class=val><a href=\"http://wordnet-rdf.princeton.edu/rdf/lemma/gleaming#gleaming-07427078-n\" target=\"_other\">http://wordnet-rdf.princeton.edu/rdf/lemma/gleaming#gleaming-07427078-n</a></td><td class=typ>uri</td>\n",
       "<td class=val><a href=\"http://wordnet-rdf.princeton.edu/rdf/lemma/gleam#gleam-02165209-v\" target=\"_other\">http://wordnet-rdf.princeton.edu/rdf/lemma/gleam#gleam-02165209-v</a></td><td class=typ>uri</td></tr><tr class=odd><td class=val><a href=\"http://wordnet-rdf.princeton.edu/rdf/lemma/gleam#gleam-07427078-n\" target=\"_other\">http://wordnet-rdf.princeton.edu/rdf/lemma/gleam#gleam-07427078-n</a></td><td class=typ>uri</td>\n",
       "<td class=val><a href=\"http://wordnet-rdf.princeton.edu/rdf/lemma/gleam#gleam-02165209-v\" target=\"_other\">http://wordnet-rdf.princeton.edu/rdf/lemma/gleam#gleam-02165209-v</a></td><td class=typ>uri</td></tr><tr class=even><td class=val><a href=\"http://wordnet-rdf.princeton.edu/rdf/lemma/carbon#carbon-14657384-n\" target=\"_other\">http://wordnet-rdf.princeton.edu/rdf/lemma/carbon#carbon-14657384-n</a></td><td class=typ>uri</td>\n",
       "<td class=val><a href=\"http://wordnet-rdf.princeton.edu/rdf/lemma/carbonise#carbonise-00374173-v\" target=\"_other\">http://wordnet-rdf.princeton.edu/rdf/lemma/carbonise#carbonise-00374173-v</a></td><td class=typ>uri</td></tr><tr class=odd><td class=val><a href=\"http://wordnet-rdf.princeton.edu/rdf/lemma/hat#hat-02368127-v\" target=\"_other\">http://wordnet-rdf.princeton.edu/rdf/lemma/hat#hat-02368127-v</a></td><td class=typ>uri</td>\n",
       "<td class=val><a href=\"http://wordnet-rdf.princeton.edu/rdf/lemma/hat#hat-03502782-n\" target=\"_other\">http://wordnet-rdf.princeton.edu/rdf/lemma/hat#hat-03502782-n</a></td><td class=typ>uri</td></tr><tr class=even><td class=val><a href=\"http://wordnet-rdf.princeton.edu/rdf/lemma/hat#hat-00046889-v\" target=\"_other\">http://wordnet-rdf.princeton.edu/rdf/lemma/hat#hat-00046889-v</a></td><td class=typ>uri</td>\n",
       "<td class=val><a href=\"http://wordnet-rdf.princeton.edu/rdf/lemma/hat#hat-03502782-n\" target=\"_other\">http://wordnet-rdf.princeton.edu/rdf/lemma/hat#hat-03502782-n</a></td><td class=typ>uri</td></tr><tr class=odd><td class=val><a href=\"http://wordnet-rdf.princeton.edu/rdf/lemma/hatter#hatter-10181947-n\" target=\"_other\">http://wordnet-rdf.princeton.edu/rdf/lemma/hatter#hatter-10181947-n</a></td><td class=typ>uri</td>\n",
       "<td class=val><a href=\"http://wordnet-rdf.princeton.edu/rdf/lemma/hat#hat-03502782-n\" target=\"_other\">http://wordnet-rdf.princeton.edu/rdf/lemma/hat#hat-03502782-n</a></td><td class=typ>uri</td></tr><tr class=even><td class=val><a href=\"http://wordnet-rdf.princeton.edu/rdf/lemma/moodiness#moodiness-04635989-n\" target=\"_other\">http://wordnet-rdf.princeton.edu/rdf/lemma/moodiness#moodiness-04635989-n</a></td><td class=typ>uri</td>\n",
       "<td class=val><a href=\"http://wordnet-rdf.princeton.edu/rdf/lemma/moody#moody-00859512-s\" target=\"_other\">http://wordnet-rdf.princeton.edu/rdf/lemma/moody#moody-00859512-s</a></td><td class=typ>uri</td></tr><tr class=odd><td class=val><a href=\"http://wordnet-rdf.princeton.edu/rdf/lemma/mood#mood-07566518-n\" target=\"_other\">http://wordnet-rdf.princeton.edu/rdf/lemma/mood#mood-07566518-n</a></td><td class=typ>uri</td>\n",
       "<td class=val><a href=\"http://wordnet-rdf.princeton.edu/rdf/lemma/moody#moody-00859512-s\" target=\"_other\">http://wordnet-rdf.princeton.edu/rdf/lemma/moody#moody-00859512-s</a></td><td class=typ>uri</td></tr><tr class=even><td class=val><a href=\"http://wordnet-rdf.princeton.edu/rdf/lemma/nutritious#nutritious-02568489-s\" target=\"_other\">http://wordnet-rdf.princeton.edu/rdf/lemma/nutritious#nutritious-02568489-s</a></td><td class=typ>uri</td>\n",
       "<td class=val><a href=\"http://wordnet-rdf.princeton.edu/rdf/lemma/nutritiousness#nutritiousness-04797125-n\" target=\"_other\">http://wordnet-rdf.princeton.edu/rdf/lemma/nutritiousness#nutritiousness-04797125-n</a></td><td class=typ>uri</td></tr></table><div class=\"tinfo\">Total: 10, Shown: 10</div></div>"
      ]
     },
     "metadata": {},
     "output_type": "display_data"
    }
   ],
   "source": [
    "SELECT ?s ?o\n",
    "{ ?s wn:derivation ?o; }\n",
    "LIMIT 10"
   ]
  },
  {
   "cell_type": "markdown",
   "metadata": {},
   "source": [
    "### domain 区域"
   ]
  },
  {
   "cell_type": "code",
   "execution_count": 71,
   "metadata": {},
   "outputs": [
    {
     "data": {
      "text/html": [
       "<div class=\"krn-spql\"><table><tr class=hdr><th>p</th><th>type</th>\n",
       "<th>o</th><th>type</th></tr><tr class=odd><td class=val><a href=\"http://www.w3.org/2000/01/rdf-schema#subPropertyOf\" target=\"_other\">http://www.w3.org/2000/01/rdf-schema#subPropertyOf</a></td><td class=typ>uri</td>\n",
       "<td class=val><a href=\"http://wordnet-rdf.princeton.edu/ontology#link\" target=\"_other\">http://wordnet-rdf.princeton.edu/ontology#link</a></td><td class=typ>uri</td></tr><tr class=even><td class=val><a href=\"http://www.w3.org/2000/01/rdf-schema#label\" target=\"_other\">http://www.w3.org/2000/01/rdf-schema#label</a></td><td class=typ>uri</td>\n",
       "<td class=val>Domain</td><td class=typ>literal, en</td></tr></table><div class=\"tinfo\">Total: 2, Shown: 2</div></div>"
      ]
     },
     "metadata": {},
     "output_type": "display_data"
    }
   ],
   "source": [
    "SELECT ?p ?o\n",
    "{ wn:domain ?p ?o. }"
   ]
  },
  {
   "cell_type": "code",
   "execution_count": 118,
   "metadata": {},
   "outputs": [
    {
     "data": {
      "text/html": [
       "<div class=\"krn-spql\"><table><tr class=hdr><th>s</th><th>type</th>\n",
       "<th>o</th><th>type</th></tr></table><div class=\"tinfo\">Total: 0, Shown: 0</div></div>"
      ]
     },
     "metadata": {},
     "output_type": "display_data"
    }
   ],
   "source": [
    "SELECT ?s ?o\n",
    "{ ?s wn:domain ?o; }\n",
    "LIMIT 10"
   ]
  },
  {
   "cell_type": "markdown",
   "metadata": {},
   "source": [
    "### domain_category 区域类型"
   ]
  },
  {
   "cell_type": "code",
   "execution_count": 72,
   "metadata": {},
   "outputs": [
    {
     "data": {
      "text/html": [
       "<div class=\"krn-spql\"><table><tr class=hdr><th>p</th><th>type</th>\n",
       "<th>o</th><th>type</th></tr><tr class=odd><td class=val><a href=\"http://www.w3.org/2000/01/rdf-schema#subPropertyOf\" target=\"_other\">http://www.w3.org/2000/01/rdf-schema#subPropertyOf</a></td><td class=typ>uri</td>\n",
       "<td class=val><a href=\"http://wordnet-rdf.princeton.edu/ontology#link\" target=\"_other\">http://wordnet-rdf.princeton.edu/ontology#link</a></td><td class=typ>uri</td></tr><tr class=even><td class=val><a href=\"http://www.w3.org/2000/01/rdf-schema#label\" target=\"_other\">http://www.w3.org/2000/01/rdf-schema#label</a></td><td class=typ>uri</td>\n",
       "<td class=val>Domain category</td><td class=typ>literal, en</td></tr></table><div class=\"tinfo\">Total: 2, Shown: 2</div></div>"
      ]
     },
     "metadata": {},
     "output_type": "display_data"
    }
   ],
   "source": [
    "SELECT ?p ?o\n",
    "{ wn:domain_category ?p ?o. }"
   ]
  },
  {
   "cell_type": "code",
   "execution_count": 119,
   "metadata": {},
   "outputs": [
    {
     "data": {
      "text/html": [
       "<div class=\"krn-spql\"><table><tr class=hdr><th>s</th><th>type</th>\n",
       "<th>o</th><th>type</th></tr></table><div class=\"tinfo\">Total: 0, Shown: 0</div></div>"
      ]
     },
     "metadata": {},
     "output_type": "display_data"
    }
   ],
   "source": [
    "SELECT ?s ?o\n",
    "{ ?s wn:domain_category ?o; }\n",
    "LIMIT 10"
   ]
  },
  {
   "cell_type": "markdown",
   "metadata": {},
   "source": [
    "### domain_member_category 区域成员类型"
   ]
  },
  {
   "cell_type": "code",
   "execution_count": 120,
   "metadata": {},
   "outputs": [
    {
     "data": {
      "text/html": [
       "<div class=\"krn-spql\"><table><tr class=hdr><th>p</th><th>type</th>\n",
       "<th>o</th><th>type</th></tr><tr class=odd><td class=val><a href=\"http://www.w3.org/2000/01/rdf-schema#subPropertyOf\" target=\"_other\">http://www.w3.org/2000/01/rdf-schema#subPropertyOf</a></td><td class=typ>uri</td>\n",
       "<td class=val><a href=\"http://wordnet-rdf.princeton.edu/ontology#link\" target=\"_other\">http://wordnet-rdf.princeton.edu/ontology#link</a></td><td class=typ>uri</td></tr><tr class=even><td class=val><a href=\"http://www.w3.org/2000/01/rdf-schema#label\" target=\"_other\">http://www.w3.org/2000/01/rdf-schema#label</a></td><td class=typ>uri</td>\n",
       "<td class=val>Domain member category</td><td class=typ>literal, en</td></tr></table><div class=\"tinfo\">Total: 2, Shown: 2</div></div>"
      ]
     },
     "metadata": {},
     "output_type": "display_data"
    }
   ],
   "source": [
    "SELECT ?p ?o\n",
    "{ wn:domain_member_category ?p ?o. }"
   ]
  },
  {
   "cell_type": "code",
   "execution_count": 121,
   "metadata": {},
   "outputs": [
    {
     "data": {
      "text/html": [
       "<div class=\"krn-spql\"><table><tr class=hdr><th>s</th><th>type</th>\n",
       "<th>o</th><th>type</th></tr></table><div class=\"tinfo\">Total: 0, Shown: 0</div></div>"
      ]
     },
     "metadata": {},
     "output_type": "display_data"
    }
   ],
   "source": [
    "SELECT ?s ?o\n",
    "{ ?s wn:domain_member_category ?o; }\n",
    "LIMIT 10"
   ]
  },
  {
   "cell_type": "markdown",
   "metadata": {},
   "source": [
    "### domain_member_region 区域成员范围"
   ]
  },
  {
   "cell_type": "code",
   "execution_count": 74,
   "metadata": {},
   "outputs": [
    {
     "data": {
      "text/html": [
       "<div class=\"krn-spql\"><table><tr class=hdr><th>p</th><th>type</th>\n",
       "<th>o</th><th>type</th></tr><tr class=odd><td class=val><a href=\"http://www.w3.org/2000/01/rdf-schema#subPropertyOf\" target=\"_other\">http://www.w3.org/2000/01/rdf-schema#subPropertyOf</a></td><td class=typ>uri</td>\n",
       "<td class=val><a href=\"http://wordnet-rdf.princeton.edu/ontology#link\" target=\"_other\">http://wordnet-rdf.princeton.edu/ontology#link</a></td><td class=typ>uri</td></tr><tr class=even><td class=val><a href=\"http://www.w3.org/2000/01/rdf-schema#label\" target=\"_other\">http://www.w3.org/2000/01/rdf-schema#label</a></td><td class=typ>uri</td>\n",
       "<td class=val>Domain member region</td><td class=typ>literal, en</td></tr></table><div class=\"tinfo\">Total: 2, Shown: 2</div></div>"
      ]
     },
     "metadata": {},
     "output_type": "display_data"
    }
   ],
   "source": [
    "SELECT ?p ?o\n",
    "{ wn:domain_member_region ?p ?o. }"
   ]
  },
  {
   "cell_type": "markdown",
   "metadata": {},
   "source": [
    "### domain_member_usage 区域成员使用"
   ]
  },
  {
   "cell_type": "code",
   "execution_count": 75,
   "metadata": {},
   "outputs": [
    {
     "data": {
      "text/html": [
       "<div class=\"krn-spql\"><table><tr class=hdr><th>p</th><th>type</th>\n",
       "<th>o</th><th>type</th></tr><tr class=odd><td class=val><a href=\"http://www.w3.org/2000/01/rdf-schema#subPropertyOf\" target=\"_other\">http://www.w3.org/2000/01/rdf-schema#subPropertyOf</a></td><td class=typ>uri</td>\n",
       "<td class=val><a href=\"http://wordnet-rdf.princeton.edu/ontology#link\" target=\"_other\">http://wordnet-rdf.princeton.edu/ontology#link</a></td><td class=typ>uri</td></tr><tr class=even><td class=val><a href=\"http://www.w3.org/2000/01/rdf-schema#label\" target=\"_other\">http://www.w3.org/2000/01/rdf-schema#label</a></td><td class=typ>uri</td>\n",
       "<td class=val>Domain member usage</td><td class=typ>literal, en</td></tr></table><div class=\"tinfo\">Total: 2, Shown: 2</div></div>"
      ]
     },
     "metadata": {},
     "output_type": "display_data"
    }
   ],
   "source": [
    "SELECT ?p ?o\n",
    "{ wn:domain_member_usage ?p ?o. }"
   ]
  },
  {
   "cell_type": "markdown",
   "metadata": {},
   "source": [
    "### domain_region 区域范围"
   ]
  },
  {
   "cell_type": "code",
   "execution_count": 76,
   "metadata": {},
   "outputs": [
    {
     "data": {
      "text/html": [
       "<div class=\"krn-spql\"><table><tr class=hdr><th>p</th><th>type</th>\n",
       "<th>o</th><th>type</th></tr><tr class=odd><td class=val><a href=\"http://www.w3.org/2000/01/rdf-schema#subPropertyOf\" target=\"_other\">http://www.w3.org/2000/01/rdf-schema#subPropertyOf</a></td><td class=typ>uri</td>\n",
       "<td class=val><a href=\"http://wordnet-rdf.princeton.edu/ontology#link\" target=\"_other\">http://wordnet-rdf.princeton.edu/ontology#link</a></td><td class=typ>uri</td></tr><tr class=even><td class=val><a href=\"http://www.w3.org/2000/01/rdf-schema#label\" target=\"_other\">http://www.w3.org/2000/01/rdf-schema#label</a></td><td class=typ>uri</td>\n",
       "<td class=val>Domain region</td><td class=typ>literal, en</td></tr></table><div class=\"tinfo\">Total: 2, Shown: 2</div></div>"
      ]
     },
     "metadata": {},
     "output_type": "display_data"
    }
   ],
   "source": [
    "SELECT ?p ?o\n",
    "{ wn:domain_region ?p ?o. }"
   ]
  },
  {
   "cell_type": "code",
   "execution_count": 123,
   "metadata": {},
   "outputs": [
    {
     "data": {
      "text/html": [
       "<div class=\"krn-spql\"><table><tr class=hdr><th>s</th><th>type</th>\n",
       "<th>o</th><th>type</th></tr><tr class=odd><td class=val><a href=\"http://wordnet-rdf.princeton.edu/id/01301715-n\" target=\"_other\">http://wordnet-rdf.princeton.edu/id/01301715-n</a></td><td class=typ>uri</td>\n",
       "<td class=val><a href=\"http://wordnet-rdf.princeton.edu/id/08857548-n\" target=\"_other\">http://wordnet-rdf.princeton.edu/id/08857548-n</a></td><td class=typ>uri</td></tr><tr class=even><td class=val><a href=\"http://wordnet-rdf.princeton.edu/id/08039419-n\" target=\"_other\">http://wordnet-rdf.princeton.edu/id/08039419-n</a></td><td class=typ>uri</td>\n",
       "<td class=val><a href=\"http://wordnet-rdf.princeton.edu/id/08997987-n\" target=\"_other\">http://wordnet-rdf.princeton.edu/id/08997987-n</a></td><td class=typ>uri</td></tr><tr class=odd><td class=val><a href=\"http://wordnet-rdf.princeton.edu/id/08060600-n\" target=\"_other\">http://wordnet-rdf.princeton.edu/id/08060600-n</a></td><td class=typ>uri</td>\n",
       "<td class=val><a href=\"http://wordnet-rdf.princeton.edu/id/09019241-n\" target=\"_other\">http://wordnet-rdf.princeton.edu/id/09019241-n</a></td><td class=typ>uri</td></tr><tr class=even><td class=val><a href=\"http://wordnet-rdf.princeton.edu/id/08505260-n\" target=\"_other\">http://wordnet-rdf.princeton.edu/id/08505260-n</a></td><td class=typ>uri</td>\n",
       "<td class=val><a href=\"http://wordnet-rdf.princeton.edu/id/09366667-n\" target=\"_other\">http://wordnet-rdf.princeton.edu/id/09366667-n</a></td><td class=typ>uri</td></tr><tr class=odd><td class=val><a href=\"http://wordnet-rdf.princeton.edu/id/08505421-n\" target=\"_other\">http://wordnet-rdf.princeton.edu/id/08505421-n</a></td><td class=typ>uri</td>\n",
       "<td class=val><a href=\"http://wordnet-rdf.princeton.edu/id/08854667-n\" target=\"_other\">http://wordnet-rdf.princeton.edu/id/08854667-n</a></td><td class=typ>uri</td></tr><tr class=even><td class=val><a href=\"http://wordnet-rdf.princeton.edu/id/01283483-n\" target=\"_other\">http://wordnet-rdf.princeton.edu/id/01283483-n</a></td><td class=typ>uri</td>\n",
       "<td class=val><a href=\"http://wordnet-rdf.princeton.edu/id/08975399-n\" target=\"_other\">http://wordnet-rdf.princeton.edu/id/08975399-n</a></td><td class=typ>uri</td></tr><tr class=odd><td class=val><a href=\"http://wordnet-rdf.princeton.edu/id/08644522-n\" target=\"_other\">http://wordnet-rdf.princeton.edu/id/08644522-n</a></td><td class=typ>uri</td>\n",
       "<td class=val><a href=\"http://wordnet-rdf.princeton.edu/id/08818110-n\" target=\"_other\">http://wordnet-rdf.princeton.edu/id/08818110-n</a></td><td class=typ>uri</td></tr><tr class=even><td class=val><a href=\"http://wordnet-rdf.princeton.edu/id/07959922-n\" target=\"_other\">http://wordnet-rdf.princeton.edu/id/07959922-n</a></td><td class=typ>uri</td>\n",
       "<td class=val><a href=\"http://wordnet-rdf.princeton.edu/id/08818110-n\" target=\"_other\">http://wordnet-rdf.princeton.edu/id/08818110-n</a></td><td class=typ>uri</td></tr><tr class=odd><td class=val><a href=\"http://wordnet-rdf.princeton.edu/id/08029908-n\" target=\"_other\">http://wordnet-rdf.princeton.edu/id/08029908-n</a></td><td class=typ>uri</td>\n",
       "<td class=val><a href=\"http://wordnet-rdf.princeton.edu/id/08983142-n\" target=\"_other\">http://wordnet-rdf.princeton.edu/id/08983142-n</a></td><td class=typ>uri</td></tr><tr class=even><td class=val><a href=\"http://wordnet-rdf.princeton.edu/id/08044271-n\" target=\"_other\">http://wordnet-rdf.princeton.edu/id/08044271-n</a></td><td class=typ>uri</td>\n",
       "<td class=val><a href=\"http://wordnet-rdf.princeton.edu/id/08983142-n\" target=\"_other\">http://wordnet-rdf.princeton.edu/id/08983142-n</a></td><td class=typ>uri</td></tr></table><div class=\"tinfo\">Total: 10, Shown: 10</div></div>"
      ]
     },
     "metadata": {},
     "output_type": "display_data"
    }
   ],
   "source": [
    "SELECT ?s ?o\n",
    "{ ?s wn:domain_region ?o; }\n",
    "LIMIT 10"
   ]
  },
  {
   "cell_type": "markdown",
   "metadata": {},
   "source": [
    "### domain_usage 区域使用"
   ]
  },
  {
   "cell_type": "code",
   "execution_count": 77,
   "metadata": {},
   "outputs": [
    {
     "data": {
      "text/html": [
       "<div class=\"krn-spql\"><table><tr class=hdr><th>p</th><th>type</th>\n",
       "<th>o</th><th>type</th></tr><tr class=odd><td class=val><a href=\"http://www.w3.org/2000/01/rdf-schema#subPropertyOf\" target=\"_other\">http://www.w3.org/2000/01/rdf-schema#subPropertyOf</a></td><td class=typ>uri</td>\n",
       "<td class=val><a href=\"http://wordnet-rdf.princeton.edu/ontology#link\" target=\"_other\">http://wordnet-rdf.princeton.edu/ontology#link</a></td><td class=typ>uri</td></tr><tr class=even><td class=val><a href=\"http://www.w3.org/2000/01/rdf-schema#label\" target=\"_other\">http://www.w3.org/2000/01/rdf-schema#label</a></td><td class=typ>uri</td>\n",
       "<td class=val>Domain usage</td><td class=typ>literal, en</td></tr></table><div class=\"tinfo\">Total: 2, Shown: 2</div></div>"
      ]
     },
     "metadata": {},
     "output_type": "display_data"
    }
   ],
   "source": [
    "SELECT ?p ?o\n",
    "{ wn:domain_usage ?p ?o. }"
   ]
  },
  {
   "cell_type": "code",
   "execution_count": 122,
   "metadata": {},
   "outputs": [
    {
     "data": {
      "text/html": [
       "<div class=\"krn-spql\"><table><tr class=hdr><th>s</th><th>type</th>\n",
       "<th>o</th><th>type</th></tr></table><div class=\"tinfo\">Total: 0, Shown: 0</div></div>"
      ]
     },
     "metadata": {},
     "output_type": "display_data"
    }
   ],
   "source": [
    "SELECT ?s ?o\n",
    "{ ?s wn:domain_usage ?o; }\n",
    "LIMIT 10"
   ]
  },
  {
   "cell_type": "markdown",
   "metadata": {},
   "source": [
    "### entail 蕴含"
   ]
  },
  {
   "cell_type": "code",
   "execution_count": 126,
   "metadata": {},
   "outputs": [
    {
     "data": {
      "text/html": [
       "<div class=\"krn-spql\"><table><tr class=hdr><th>p</th><th>type</th>\n",
       "<th>o</th><th>type</th></tr><tr class=odd><td class=val><a href=\"http://www.w3.org/2000/01/rdf-schema#subPropertyOf\" target=\"_other\">http://www.w3.org/2000/01/rdf-schema#subPropertyOf</a></td><td class=typ>uri</td>\n",
       "<td class=val><a href=\"http://wordnet-rdf.princeton.edu/ontology#link\" target=\"_other\">http://wordnet-rdf.princeton.edu/ontology#link</a></td><td class=typ>uri</td></tr><tr class=even><td class=val><a href=\"http://www.w3.org/2000/01/rdf-schema#label\" target=\"_other\">http://www.w3.org/2000/01/rdf-schema#label</a></td><td class=typ>uri</td>\n",
       "<td class=val>Entail</td><td class=typ>literal, en</td></tr><tr class=odd><td class=val><a href=\"http://www.w3.org/1999/02/22-rdf-syntax-ns#type\" target=\"_other\">http://www.w3.org/1999/02/22-rdf-syntax-ns#type</a></td><td class=typ>uri</td>\n",
       "<td class=val><a href=\"http://www.w3.org/2002/07/owl#TransitiveProperty\" target=\"_other\">http://www.w3.org/2002/07/owl#TransitiveProperty</a></td><td class=typ>uri</td></tr></table><div class=\"tinfo\">Total: 3, Shown: 3</div></div>"
      ]
     },
     "metadata": {},
     "output_type": "display_data"
    }
   ],
   "source": [
    "SELECT ?p ?o\n",
    "{ wn:entail ?p ?o. }"
   ]
  },
  {
   "cell_type": "code",
   "execution_count": 127,
   "metadata": {},
   "outputs": [
    {
     "data": {
      "text/html": [
       "<div class=\"krn-spql\"><table><tr class=hdr><th>s</th><th>type</th>\n",
       "<th>o</th><th>type</th></tr></table><div class=\"tinfo\">Total: 0, Shown: 0</div></div>"
      ]
     },
     "metadata": {},
     "output_type": "display_data"
    }
   ],
   "source": [
    "SELECT ?s ?o\n",
    "{ ?s wn:entail ?o; }\n",
    "LIMIT 10"
   ]
  },
  {
   "cell_type": "markdown",
   "metadata": {},
   "source": [
    "### experiencer 体验者"
   ]
  },
  {
   "cell_type": "code",
   "execution_count": 128,
   "metadata": {},
   "outputs": [
    {
     "data": {
      "text/html": [
       "<div class=\"krn-spql\"><table><tr class=hdr><th>p</th><th>type</th>\n",
       "<th>o</th><th>type</th></tr><tr class=odd><td class=val><a href=\"http://www.w3.org/2000/01/rdf-schema#subPropertyOf\" target=\"_other\">http://www.w3.org/2000/01/rdf-schema#subPropertyOf</a></td><td class=typ>uri</td>\n",
       "<td class=val><a href=\"http://wordnet-rdf.princeton.edu/ontology#link\" target=\"_other\">http://wordnet-rdf.princeton.edu/ontology#link</a></td><td class=typ>uri</td></tr><tr class=even><td class=val><a href=\"http://www.w3.org/2000/01/rdf-schema#label\" target=\"_other\">http://www.w3.org/2000/01/rdf-schema#label</a></td><td class=typ>uri</td>\n",
       "<td class=val>Experiencer</td><td class=typ>literal, en</td></tr></table><div class=\"tinfo\">Total: 2, Shown: 2</div></div>"
      ]
     },
     "metadata": {},
     "output_type": "display_data"
    }
   ],
   "source": [
    "SELECT ?p ?o\n",
    "{ wn:experiencer ?p ?o. }"
   ]
  },
  {
   "cell_type": "markdown",
   "metadata": {},
   "source": [
    "### goal 目标"
   ]
  },
  {
   "cell_type": "code",
   "execution_count": 133,
   "metadata": {},
   "outputs": [
    {
     "data": {
      "text/html": [
       "<div class=\"krn-spql\"><table><tr class=hdr><th>p</th><th>type</th>\n",
       "<th>o</th><th>type</th></tr><tr class=odd><td class=val><a href=\"http://www.w3.org/2000/01/rdf-schema#subPropertyOf\" target=\"_other\">http://www.w3.org/2000/01/rdf-schema#subPropertyOf</a></td><td class=typ>uri</td>\n",
       "<td class=val><a href=\"http://wordnet-rdf.princeton.edu/ontology#link\" target=\"_other\">http://wordnet-rdf.princeton.edu/ontology#link</a></td><td class=typ>uri</td></tr><tr class=even><td class=val><a href=\"http://www.w3.org/2000/01/rdf-schema#label\" target=\"_other\">http://www.w3.org/2000/01/rdf-schema#label</a></td><td class=typ>uri</td>\n",
       "<td class=val>Goal</td><td class=typ>literal, en</td></tr></table><div class=\"tinfo\">Total: 2, Shown: 2</div></div>"
      ]
     },
     "metadata": {},
     "output_type": "display_data"
    }
   ],
   "source": [
    "SELECT ?p ?o\n",
    "{ wn:goal ?p ?o. }"
   ]
  },
  {
   "cell_type": "code",
   "execution_count": 134,
   "metadata": {},
   "outputs": [
    {
     "data": {
      "text/html": [
       "<div class=\"krn-spql\"><table><tr class=hdr><th>s</th><th>type</th>\n",
       "<th>o</th><th>type</th></tr></table><div class=\"tinfo\">Total: 0, Shown: 0</div></div>"
      ]
     },
     "metadata": {},
     "output_type": "display_data"
    }
   ],
   "source": [
    "SELECT ?s ?o\n",
    "{ ?s wn:goal ?o; }\n",
    "LIMIT 10"
   ]
  },
  {
   "cell_type": "markdown",
   "metadata": {},
   "source": [
    "### member_holonym 整体词成员"
   ]
  },
  {
   "cell_type": "code",
   "execution_count": 179,
   "metadata": {},
   "outputs": [
    {
     "data": {
      "text/html": [
       "<div class=\"krn-spql\"><table><tr class=hdr><th>p</th><th>type</th>\n",
       "<th>o</th><th>type</th></tr></table><div class=\"tinfo\">Total: 0, Shown: 0</div></div>"
      ]
     },
     "metadata": {},
     "output_type": "display_data"
    }
   ],
   "source": [
    "SELECT ?p ?o\n",
    "{ wn:member_holonym ?p ?o. }"
   ]
  },
  {
   "cell_type": "markdown",
   "metadata": {},
   "source": [
    "### member_meronym 部分词成员"
   ]
  },
  {
   "cell_type": "code",
   "execution_count": 40,
   "metadata": {},
   "outputs": [
    {
     "data": {
      "text/html": [
       "<div class=\"krn-spql\"><table><tr class=hdr><th>p</th><th>type</th>\n",
       "<th>o</th><th>type</th></tr><tr class=odd><td class=val><a href=\"http://www.w3.org/2000/01/rdf-schema#subPropertyOf\" target=\"_other\">http://www.w3.org/2000/01/rdf-schema#subPropertyOf</a></td><td class=typ>uri</td>\n",
       "<td class=val><a href=\"http://wordnet-rdf.princeton.edu/ontology#link\" target=\"_other\">http://wordnet-rdf.princeton.edu/ontology#link</a></td><td class=typ>uri</td></tr><tr class=even><td class=val><a href=\"http://www.w3.org/2000/01/rdf-schema#label\" target=\"_other\">http://www.w3.org/2000/01/rdf-schema#label</a></td><td class=typ>uri</td>\n",
       "<td class=val>Member meronym</td><td class=typ>literal, en</td></tr><tr class=odd><td class=val><a href=\"http://www.w3.org/1999/02/22-rdf-syntax-ns#type\" target=\"_other\">http://www.w3.org/1999/02/22-rdf-syntax-ns#type</a></td><td class=typ>uri</td>\n",
       "<td class=val><a href=\"http://www.w3.org/2002/07/owl#TransitiveProperty\" target=\"_other\">http://www.w3.org/2002/07/owl#TransitiveProperty</a></td><td class=typ>uri</td></tr></table><div class=\"tinfo\">Total: 3, Shown: 3</div></div>"
      ]
     },
     "metadata": {},
     "output_type": "display_data"
    }
   ],
   "source": [
    "SELECT ?p ?o\n",
    "{ wn:member_meronym ?p ?o. }"
   ]
  },
  {
   "cell_type": "markdown",
   "metadata": {},
   "source": [
    "### part_holonym part整体词"
   ]
  },
  {
   "cell_type": "code",
   "execution_count": 41,
   "metadata": {},
   "outputs": [
    {
     "data": {
      "text/html": [
       "<div class=\"krn-spql\"><table><tr class=hdr><th>p</th><th>type</th>\n",
       "<th>o</th><th>type</th></tr><tr class=odd><td class=val><a href=\"http://www.w3.org/2000/01/rdf-schema#subPropertyOf\" target=\"_other\">http://www.w3.org/2000/01/rdf-schema#subPropertyOf</a></td><td class=typ>uri</td>\n",
       "<td class=val><a href=\"http://wordnet-rdf.princeton.edu/ontology#link\" target=\"_other\">http://wordnet-rdf.princeton.edu/ontology#link</a></td><td class=typ>uri</td></tr><tr class=even><td class=val><a href=\"http://www.w3.org/2000/01/rdf-schema#label\" target=\"_other\">http://www.w3.org/2000/01/rdf-schema#label</a></td><td class=typ>uri</td>\n",
       "<td class=val>Part holonym</td><td class=typ>literal, en</td></tr><tr class=odd><td class=val><a href=\"http://www.w3.org/1999/02/22-rdf-syntax-ns#type\" target=\"_other\">http://www.w3.org/1999/02/22-rdf-syntax-ns#type</a></td><td class=typ>uri</td>\n",
       "<td class=val><a href=\"http://www.w3.org/2002/07/owl#TransitiveProperty\" target=\"_other\">http://www.w3.org/2002/07/owl#TransitiveProperty</a></td><td class=typ>uri</td></tr></table><div class=\"tinfo\">Total: 3, Shown: 3</div></div>"
      ]
     },
     "metadata": {},
     "output_type": "display_data"
    }
   ],
   "source": [
    "SELECT ?p ?o\n",
    "{ wn:part_holonym ?p ?o. }"
   ]
  },
  {
   "cell_type": "markdown",
   "metadata": {},
   "source": [
    "### part_meronym part部分词"
   ]
  },
  {
   "cell_type": "code",
   "execution_count": 42,
   "metadata": {},
   "outputs": [
    {
     "data": {
      "text/html": [
       "<div class=\"krn-spql\"><table><tr class=hdr><th>p</th><th>type</th>\n",
       "<th>o</th><th>type</th></tr><tr class=odd><td class=val><a href=\"http://www.w3.org/2000/01/rdf-schema#subPropertyOf\" target=\"_other\">http://www.w3.org/2000/01/rdf-schema#subPropertyOf</a></td><td class=typ>uri</td>\n",
       "<td class=val><a href=\"http://wordnet-rdf.princeton.edu/ontology#link\" target=\"_other\">http://wordnet-rdf.princeton.edu/ontology#link</a></td><td class=typ>uri</td></tr><tr class=even><td class=val><a href=\"http://www.w3.org/2000/01/rdf-schema#label\" target=\"_other\">http://www.w3.org/2000/01/rdf-schema#label</a></td><td class=typ>uri</td>\n",
       "<td class=val>Part meronym</td><td class=typ>literal, en</td></tr><tr class=odd><td class=val><a href=\"http://www.w3.org/1999/02/22-rdf-syntax-ns#type\" target=\"_other\">http://www.w3.org/1999/02/22-rdf-syntax-ns#type</a></td><td class=typ>uri</td>\n",
       "<td class=val><a href=\"http://www.w3.org/2002/07/owl#TransitiveProperty\" target=\"_other\">http://www.w3.org/2002/07/owl#TransitiveProperty</a></td><td class=typ>uri</td></tr></table><div class=\"tinfo\">Total: 3, Shown: 3</div></div>"
      ]
     },
     "metadata": {},
     "output_type": "display_data"
    }
   ],
   "source": [
    "SELECT ?p ?o\n",
    "{ wn:part_meronym ?p ?o. }"
   ]
  },
  {
   "cell_type": "markdown",
   "metadata": {},
   "source": [
    "### substance_holonym substance整体词"
   ]
  },
  {
   "cell_type": "code",
   "execution_count": 43,
   "metadata": {},
   "outputs": [
    {
     "data": {
      "text/html": [
       "<div class=\"krn-spql\"><table><tr class=hdr><th>p</th><th>type</th>\n",
       "<th>o</th><th>type</th></tr><tr class=odd><td class=val><a href=\"http://www.w3.org/2000/01/rdf-schema#subPropertyOf\" target=\"_other\">http://www.w3.org/2000/01/rdf-schema#subPropertyOf</a></td><td class=typ>uri</td>\n",
       "<td class=val><a href=\"http://wordnet-rdf.princeton.edu/ontology#link\" target=\"_other\">http://wordnet-rdf.princeton.edu/ontology#link</a></td><td class=typ>uri</td></tr><tr class=even><td class=val><a href=\"http://www.w3.org/2000/01/rdf-schema#label\" target=\"_other\">http://www.w3.org/2000/01/rdf-schema#label</a></td><td class=typ>uri</td>\n",
       "<td class=val>Substance holonym</td><td class=typ>literal, en</td></tr><tr class=odd><td class=val><a href=\"http://www.w3.org/1999/02/22-rdf-syntax-ns#type\" target=\"_other\">http://www.w3.org/1999/02/22-rdf-syntax-ns#type</a></td><td class=typ>uri</td>\n",
       "<td class=val><a href=\"http://www.w3.org/2002/07/owl#TransitiveProperty\" target=\"_other\">http://www.w3.org/2002/07/owl#TransitiveProperty</a></td><td class=typ>uri</td></tr></table><div class=\"tinfo\">Total: 3, Shown: 3</div></div>"
      ]
     },
     "metadata": {},
     "output_type": "display_data"
    }
   ],
   "source": [
    "SELECT ?p ?o\n",
    "{ wn:substance_holonym ?p ?o. }"
   ]
  },
  {
   "cell_type": "markdown",
   "metadata": {},
   "source": [
    "### substance_meronym substance部分词"
   ]
  },
  {
   "cell_type": "code",
   "execution_count": 44,
   "metadata": {},
   "outputs": [
    {
     "data": {
      "text/html": [
       "<div class=\"krn-spql\"><table><tr class=hdr><th>p</th><th>type</th>\n",
       "<th>o</th><th>type</th></tr><tr class=odd><td class=val><a href=\"http://www.w3.org/2000/01/rdf-schema#subPropertyOf\" target=\"_other\">http://www.w3.org/2000/01/rdf-schema#subPropertyOf</a></td><td class=typ>uri</td>\n",
       "<td class=val><a href=\"http://wordnet-rdf.princeton.edu/ontology#link\" target=\"_other\">http://wordnet-rdf.princeton.edu/ontology#link</a></td><td class=typ>uri</td></tr><tr class=even><td class=val><a href=\"http://www.w3.org/2000/01/rdf-schema#label\" target=\"_other\">http://www.w3.org/2000/01/rdf-schema#label</a></td><td class=typ>uri</td>\n",
       "<td class=val>Substance meronym</td><td class=typ>literal, en</td></tr><tr class=odd><td class=val><a href=\"http://www.w3.org/1999/02/22-rdf-syntax-ns#type\" target=\"_other\">http://www.w3.org/1999/02/22-rdf-syntax-ns#type</a></td><td class=typ>uri</td>\n",
       "<td class=val><a href=\"http://www.w3.org/2002/07/owl#TransitiveProperty\" target=\"_other\">http://www.w3.org/2002/07/owl#TransitiveProperty</a></td><td class=typ>uri</td></tr></table><div class=\"tinfo\">Total: 3, Shown: 3</div></div>"
      ]
     },
     "metadata": {},
     "output_type": "display_data"
    }
   ],
   "source": [
    "SELECT ?p ?o\n",
    "{ wn:substance_meronym ?p ?o. }"
   ]
  },
  {
   "cell_type": "markdown",
   "metadata": {},
   "source": [
    "### hypernym 上位词"
   ]
  },
  {
   "cell_type": "code",
   "execution_count": 79,
   "metadata": {},
   "outputs": [
    {
     "data": {
      "text/html": [
       "<div class=\"krn-spql\"><table><tr class=hdr><th>p</th><th>type</th>\n",
       "<th>o</th><th>type</th></tr><tr class=odd><td class=val><a href=\"http://www.w3.org/2000/01/rdf-schema#subPropertyOf\" target=\"_other\">http://www.w3.org/2000/01/rdf-schema#subPropertyOf</a></td><td class=typ>uri</td>\n",
       "<td class=val><a href=\"http://wordnet-rdf.princeton.edu/ontology#link\" target=\"_other\">http://wordnet-rdf.princeton.edu/ontology#link</a></td><td class=typ>uri</td></tr><tr class=even><td class=val><a href=\"http://www.w3.org/2002/07/owl#equivalentProperty\" target=\"_other\">http://www.w3.org/2002/07/owl#equivalentProperty</a></td><td class=typ>uri</td>\n",
       "<td class=val><a href=\"http://www.w3.org/2004/02/skos/core#broader\" target=\"_other\">http://www.w3.org/2004/02/skos/core#broader</a></td><td class=typ>uri</td></tr><tr class=odd><td class=val><a href=\"http://www.w3.org/2000/01/rdf-schema#label\" target=\"_other\">http://www.w3.org/2000/01/rdf-schema#label</a></td><td class=typ>uri</td>\n",
       "<td class=val>Hypernym</td><td class=typ>literal, en</td></tr><tr class=even><td class=val><a href=\"http://www.isocat.org/ns/dcr.rdf#datcat\" target=\"_other\">http://www.isocat.org/ns/dcr.rdf#datcat</a></td><td class=typ>uri</td>\n",
       "<td class=val><a href=\"http://www.isocat.org/datcat/DC-31\" target=\"_other\">http://www.isocat.org/datcat/DC-31</a></td><td class=typ>uri</td></tr><tr class=odd><td class=val><a href=\"http://www.w3.org/1999/02/22-rdf-syntax-ns#type\" target=\"_other\">http://www.w3.org/1999/02/22-rdf-syntax-ns#type</a></td><td class=typ>uri</td>\n",
       "<td class=val><a href=\"http://www.w3.org/2002/07/owl#TransitiveProperty\" target=\"_other\">http://www.w3.org/2002/07/owl#TransitiveProperty</a></td><td class=typ>uri</td></tr></table><div class=\"tinfo\">Total: 5, Shown: 5</div></div>"
      ]
     },
     "metadata": {},
     "output_type": "display_data"
    }
   ],
   "source": [
    "SELECT ?p ?o\n",
    "{ wn:hypernym ?p ?o. }"
   ]
  },
  {
   "cell_type": "code",
   "execution_count": 176,
   "metadata": {},
   "outputs": [
    {
     "data": {
      "text/html": [
       "<div class=\"krn-spql\"><table><tr class=hdr><th>s</th><th>type</th>\n",
       "<th>o</th><th>type</th></tr><tr class=odd><td class=val><a href=\"http://wordnet-rdf.princeton.edu/id/00755316-n\" target=\"_other\">http://wordnet-rdf.princeton.edu/id/00755316-n</a></td><td class=typ>uri</td>\n",
       "<td class=val><a href=\"http://wordnet-rdf.princeton.edu/id/00755028-n\" target=\"_other\">http://wordnet-rdf.princeton.edu/id/00755028-n</a></td><td class=typ>uri</td></tr><tr class=even><td class=val><a href=\"http://wordnet-rdf.princeton.edu/id/03218956-n\" target=\"_other\">http://wordnet-rdf.princeton.edu/id/03218956-n</a></td><td class=typ>uri</td>\n",
       "<td class=val><a href=\"http://wordnet-rdf.princeton.edu/id/03307066-n\" target=\"_other\">http://wordnet-rdf.princeton.edu/id/03307066-n</a></td><td class=typ>uri</td></tr><tr class=odd><td class=val><a href=\"http://wordnet-rdf.princeton.edu/id/03988418-n\" target=\"_other\">http://wordnet-rdf.princeton.edu/id/03988418-n</a></td><td class=typ>uri</td>\n",
       "<td class=val><a href=\"http://wordnet-rdf.princeton.edu/id/03307066-n\" target=\"_other\">http://wordnet-rdf.princeton.edu/id/03307066-n</a></td><td class=typ>uri</td></tr><tr class=even><td class=val><a href=\"http://wordnet-rdf.princeton.edu/id/04579630-n\" target=\"_other\">http://wordnet-rdf.princeton.edu/id/04579630-n</a></td><td class=typ>uri</td>\n",
       "<td class=val><a href=\"http://wordnet-rdf.princeton.edu/id/03307066-n\" target=\"_other\">http://wordnet-rdf.princeton.edu/id/03307066-n</a></td><td class=typ>uri</td></tr><tr class=odd><td class=val><a href=\"http://wordnet-rdf.princeton.edu/id/03774451-n\" target=\"_other\">http://wordnet-rdf.princeton.edu/id/03774451-n</a></td><td class=typ>uri</td>\n",
       "<td class=val><a href=\"http://wordnet-rdf.princeton.edu/id/03307066-n\" target=\"_other\">http://wordnet-rdf.princeton.edu/id/03307066-n</a></td><td class=typ>uri</td></tr></table><div class=\"tinfo\">Total: 5, Shown: 5</div></div>"
      ]
     },
     "metadata": {},
     "output_type": "display_data"
    }
   ],
   "source": [
    "# 存在大量数据!!!\n",
    "SELECT ?s ?o\n",
    "{ ?s wn:hypernym ?o. }\n",
    "LIMIT 5"
   ]
  },
  {
   "cell_type": "markdown",
   "metadata": {},
   "source": [
    "### instance_hypernym"
   ]
  },
  {
   "cell_type": "code",
   "execution_count": 175,
   "metadata": {},
   "outputs": [
    {
     "data": {
      "text/html": [
       "<div class=\"krn-spql\"><table><tr class=hdr><th>p</th><th>type</th>\n",
       "<th>o</th><th>type</th></tr><tr class=odd><td class=val><a href=\"http://www.w3.org/2000/01/rdf-schema#subPropertyOf\" target=\"_other\">http://www.w3.org/2000/01/rdf-schema#subPropertyOf</a></td><td class=typ>uri</td>\n",
       "<td class=val><a href=\"http://wordnet-rdf.princeton.edu/ontology#link\" target=\"_other\">http://wordnet-rdf.princeton.edu/ontology#link</a></td><td class=typ>uri</td></tr><tr class=even><td class=val><a href=\"http://www.w3.org/2000/01/rdf-schema#label\" target=\"_other\">http://www.w3.org/2000/01/rdf-schema#label</a></td><td class=typ>uri</td>\n",
       "<td class=val>Instance hypernym</td><td class=typ>literal, en</td></tr><tr class=odd><td class=val><a href=\"http://www.w3.org/1999/02/22-rdf-syntax-ns#type\" target=\"_other\">http://www.w3.org/1999/02/22-rdf-syntax-ns#type</a></td><td class=typ>uri</td>\n",
       "<td class=val><a href=\"http://www.w3.org/2002/07/owl#TransitiveProperty\" target=\"_other\">http://www.w3.org/2002/07/owl#TransitiveProperty</a></td><td class=typ>uri</td></tr></table><div class=\"tinfo\">Total: 3, Shown: 3</div></div>"
      ]
     },
     "metadata": {},
     "output_type": "display_data"
    }
   ],
   "source": [
    "SELECT ?p ?o\n",
    "{ wn:instance_hypernym ?p ?o. }"
   ]
  },
  {
   "cell_type": "markdown",
   "metadata": {},
   "source": [
    "### hyponym 下位词"
   ]
  },
  {
   "cell_type": "code",
   "execution_count": 8,
   "metadata": {},
   "outputs": [
    {
     "data": {
      "text/html": [
       "<div class=\"krn-spql\"><table><tr class=hdr><th>p</th><th>type</th>\n",
       "<th>o</th><th>type</th></tr><tr class=odd><td class=val><a href=\"http://www.w3.org/2000/01/rdf-schema#subPropertyOf\" target=\"_other\">http://www.w3.org/2000/01/rdf-schema#subPropertyOf</a></td><td class=typ>uri</td>\n",
       "<td class=val><a href=\"http://wordnet-rdf.princeton.edu/ontology#link\" target=\"_other\">http://wordnet-rdf.princeton.edu/ontology#link</a></td><td class=typ>uri</td></tr><tr class=even><td class=val><a href=\"http://www.w3.org/2002/07/owl#equivalentProperty\" target=\"_other\">http://www.w3.org/2002/07/owl#equivalentProperty</a></td><td class=typ>uri</td>\n",
       "<td class=val><a href=\"http://www.w3.org/2004/02/skos/core#narrower\" target=\"_other\">http://www.w3.org/2004/02/skos/core#narrower</a></td><td class=typ>uri</td></tr><tr class=odd><td class=val><a href=\"http://www.w3.org/2000/01/rdf-schema#label\" target=\"_other\">http://www.w3.org/2000/01/rdf-schema#label</a></td><td class=typ>uri</td>\n",
       "<td class=val>Hyponym</td><td class=typ>literal, en</td></tr><tr class=even><td class=val><a href=\"http://www.w3.org/1999/02/22-rdf-syntax-ns#type\" target=\"_other\">http://www.w3.org/1999/02/22-rdf-syntax-ns#type</a></td><td class=typ>uri</td>\n",
       "<td class=val><a href=\"http://www.w3.org/2002/07/owl#TransitiveProperty\" target=\"_other\">http://www.w3.org/2002/07/owl#TransitiveProperty</a></td><td class=typ>uri</td></tr></table><div class=\"tinfo\">Total: 4, Shown: 4</div></div>"
      ]
     },
     "metadata": {},
     "output_type": "display_data"
    }
   ],
   "source": [
    "SELECT ?p ?o\n",
    "{ wn:hyponym ?p ?o. }"
   ]
  },
  {
   "cell_type": "code",
   "execution_count": 9,
   "metadata": {},
   "outputs": [
    {
     "data": {
      "text/html": [
       "<div class=\"krn-spql\"><table><tr class=hdr><th>s</th><th>type</th>\n",
       "<th>o</th><th>type</th></tr><tr class=odd><td class=val><a href=\"http://wordnet-rdf.princeton.edu/id/01738383-v\" target=\"_other\">http://wordnet-rdf.princeton.edu/id/01738383-v</a></td><td class=typ>uri</td>\n",
       "<td class=val><a href=\"http://wordnet-rdf.princeton.edu/id/01739437-v\" target=\"_other\">http://wordnet-rdf.princeton.edu/id/01739437-v</a></td><td class=typ>uri</td></tr><tr class=even><td class=val><a href=\"http://wordnet-rdf.princeton.edu/id/14015308-n\" target=\"_other\">http://wordnet-rdf.princeton.edu/id/14015308-n</a></td><td class=typ>uri</td>\n",
       "<td class=val><a href=\"http://wordnet-rdf.princeton.edu/id/14015872-n\" target=\"_other\">http://wordnet-rdf.princeton.edu/id/14015872-n</a></td><td class=typ>uri</td></tr><tr class=odd><td class=val><a href=\"http://wordnet-rdf.princeton.edu/id/10119144-n\" target=\"_other\">http://wordnet-rdf.princeton.edu/id/10119144-n</a></td><td class=typ>uri</td>\n",
       "<td class=val><a href=\"http://wordnet-rdf.princeton.edu/id/10607302-n\" target=\"_other\">http://wordnet-rdf.princeton.edu/id/10607302-n</a></td><td class=typ>uri</td></tr><tr class=even><td class=val><a href=\"http://wordnet-rdf.princeton.edu/id/14631699-n\" target=\"_other\">http://wordnet-rdf.princeton.edu/id/14631699-n</a></td><td class=typ>uri</td>\n",
       "<td class=val><a href=\"http://wordnet-rdf.princeton.edu/id/14909114-n\" target=\"_other\">http://wordnet-rdf.princeton.edu/id/14909114-n</a></td><td class=typ>uri</td></tr><tr class=odd><td class=val><a href=\"http://wordnet-rdf.princeton.edu/id/00754297-n\" target=\"_other\">http://wordnet-rdf.princeton.edu/id/00754297-n</a></td><td class=typ>uri</td>\n",
       "<td class=val><a href=\"http://wordnet-rdf.princeton.edu/id/00755028-n\" target=\"_other\">http://wordnet-rdf.princeton.edu/id/00755028-n</a></td><td class=typ>uri</td></tr></table><div class=\"tinfo\">Total: 5, Shown: 5</div></div>"
      ]
     },
     "metadata": {},
     "output_type": "display_data"
    }
   ],
   "source": [
    "# 存在大量数据!!!\n",
    "SELECT ?s ?o\n",
    "{ ?s wn:hyponym ?o. }\n",
    "LIMIT 5"
   ]
  },
  {
   "cell_type": "markdown",
   "metadata": {},
   "source": [
    "### instance_hyponym"
   ]
  },
  {
   "cell_type": "code",
   "execution_count": 177,
   "metadata": {},
   "outputs": [
    {
     "data": {
      "text/html": [
       "<div class=\"krn-spql\"><table><tr class=hdr><th>p</th><th>type</th>\n",
       "<th>o</th><th>type</th></tr><tr class=odd><td class=val><a href=\"http://www.w3.org/2000/01/rdf-schema#subPropertyOf\" target=\"_other\">http://www.w3.org/2000/01/rdf-schema#subPropertyOf</a></td><td class=typ>uri</td>\n",
       "<td class=val><a href=\"http://wordnet-rdf.princeton.edu/ontology#link\" target=\"_other\">http://wordnet-rdf.princeton.edu/ontology#link</a></td><td class=typ>uri</td></tr><tr class=even><td class=val><a href=\"http://www.w3.org/2000/01/rdf-schema#label\" target=\"_other\">http://www.w3.org/2000/01/rdf-schema#label</a></td><td class=typ>uri</td>\n",
       "<td class=val>Instance hyponym</td><td class=typ>literal, en</td></tr><tr class=odd><td class=val><a href=\"http://www.w3.org/1999/02/22-rdf-syntax-ns#type\" target=\"_other\">http://www.w3.org/1999/02/22-rdf-syntax-ns#type</a></td><td class=typ>uri</td>\n",
       "<td class=val><a href=\"http://www.w3.org/2002/07/owl#TransitiveProperty\" target=\"_other\">http://www.w3.org/2002/07/owl#TransitiveProperty</a></td><td class=typ>uri</td></tr></table><div class=\"tinfo\">Total: 3, Shown: 3</div></div>"
      ]
     },
     "metadata": {},
     "output_type": "display_data"
    }
   ],
   "source": [
    "SELECT ?p ?o\n",
    "{ wn:instance_hyponym ?p ?o. }"
   ]
  },
  {
   "cell_type": "markdown",
   "metadata": {},
   "source": [
    "### instrument 构造"
   ]
  },
  {
   "cell_type": "code",
   "execution_count": 90,
   "metadata": {},
   "outputs": [
    {
     "data": {
      "text/html": [
       "<div class=\"krn-spql\"><table><tr class=hdr><th>p</th><th>type</th>\n",
       "<th>o</th><th>type</th></tr><tr class=odd><td class=val><a href=\"http://www.w3.org/2000/01/rdf-schema#subPropertyOf\" target=\"_other\">http://www.w3.org/2000/01/rdf-schema#subPropertyOf</a></td><td class=typ>uri</td>\n",
       "<td class=val><a href=\"http://wordnet-rdf.princeton.edu/ontology#link\" target=\"_other\">http://wordnet-rdf.princeton.edu/ontology#link</a></td><td class=typ>uri</td></tr><tr class=even><td class=val><a href=\"http://www.w3.org/2000/01/rdf-schema#label\" target=\"_other\">http://www.w3.org/2000/01/rdf-schema#label</a></td><td class=typ>uri</td>\n",
       "<td class=val>Instrument</td><td class=typ>literal, en</td></tr></table><div class=\"tinfo\">Total: 2, Shown: 2</div></div>"
      ]
     },
     "metadata": {},
     "output_type": "display_data"
    }
   ],
   "source": [
    "SELECT ?p ?o\n",
    "{ wn:instrument ?p ?o. }"
   ]
  },
  {
   "cell_type": "code",
   "execution_count": 140,
   "metadata": {},
   "outputs": [
    {
     "data": {
      "text/html": [
       "<div class=\"krn-spql\"><table><tr class=hdr><th>s</th><th>type</th>\n",
       "<th>o</th><th>type</th></tr></table><div class=\"tinfo\">Total: 0, Shown: 0</div></div>"
      ]
     },
     "metadata": {},
     "output_type": "display_data"
    }
   ],
   "source": [
    "SELECT ?s ?o\n",
    "{ ?s wn:instrument ?o. }\n",
    "LIMIT 10"
   ]
  },
  {
   "cell_type": "markdown",
   "metadata": {},
   "source": [
    "### location 位置"
   ]
  },
  {
   "cell_type": "code",
   "execution_count": 141,
   "metadata": {},
   "outputs": [
    {
     "data": {
      "text/html": [
       "<div class=\"krn-spql\"><table><tr class=hdr><th>p</th><th>type</th>\n",
       "<th>o</th><th>type</th></tr><tr class=odd><td class=val><a href=\"http://www.w3.org/2000/01/rdf-schema#subPropertyOf\" target=\"_other\">http://www.w3.org/2000/01/rdf-schema#subPropertyOf</a></td><td class=typ>uri</td>\n",
       "<td class=val><a href=\"http://wordnet-rdf.princeton.edu/ontology#link\" target=\"_other\">http://wordnet-rdf.princeton.edu/ontology#link</a></td><td class=typ>uri</td></tr><tr class=even><td class=val><a href=\"http://www.w3.org/2000/01/rdf-schema#label\" target=\"_other\">http://www.w3.org/2000/01/rdf-schema#label</a></td><td class=typ>uri</td>\n",
       "<td class=val>Location</td><td class=typ>literal, en</td></tr></table><div class=\"tinfo\">Total: 2, Shown: 2</div></div>"
      ]
     },
     "metadata": {},
     "output_type": "display_data"
    }
   ],
   "source": [
    "SELECT ?p ?o\n",
    "{ wn:location ?p ?o. }"
   ]
  },
  {
   "cell_type": "code",
   "execution_count": 142,
   "metadata": {},
   "outputs": [
    {
     "data": {
      "text/html": [
       "<div class=\"krn-spql\"><table><tr class=hdr><th>s</th><th>type</th>\n",
       "<th>o</th><th>type</th></tr></table><div class=\"tinfo\">Total: 0, Shown: 0</div></div>"
      ]
     },
     "metadata": {},
     "output_type": "display_data"
    }
   ],
   "source": [
    "SELECT ?s ?o\n",
    "{ ?s wn:location ?o. }\n",
    "LIMIT 10"
   ]
  },
  {
   "cell_type": "markdown",
   "metadata": {},
   "source": [
    "### member 成员"
   ]
  },
  {
   "cell_type": "code",
   "execution_count": 143,
   "metadata": {},
   "outputs": [
    {
     "data": {
      "text/html": [
       "<div class=\"krn-spql\"><table><tr class=hdr><th>p</th><th>type</th>\n",
       "<th>o</th><th>type</th></tr><tr class=odd><td class=val><a href=\"http://www.w3.org/2000/01/rdf-schema#subPropertyOf\" target=\"_other\">http://www.w3.org/2000/01/rdf-schema#subPropertyOf</a></td><td class=typ>uri</td>\n",
       "<td class=val><a href=\"http://wordnet-rdf.princeton.edu/ontology#link\" target=\"_other\">http://wordnet-rdf.princeton.edu/ontology#link</a></td><td class=typ>uri</td></tr><tr class=even><td class=val><a href=\"http://www.w3.org/2000/01/rdf-schema#label\" target=\"_other\">http://www.w3.org/2000/01/rdf-schema#label</a></td><td class=typ>uri</td>\n",
       "<td class=val>Member</td><td class=typ>literal, en</td></tr></table><div class=\"tinfo\">Total: 2, Shown: 2</div></div>"
      ]
     },
     "metadata": {},
     "output_type": "display_data"
    }
   ],
   "source": [
    "SELECT ?p ?o\n",
    "{ wn:member ?p ?o. }"
   ]
  },
  {
   "cell_type": "code",
   "execution_count": 144,
   "metadata": {},
   "outputs": [
    {
     "data": {
      "text/html": [
       "<div class=\"krn-spql\"><table><tr class=hdr><th>s</th><th>type</th>\n",
       "<th>o</th><th>type</th></tr></table><div class=\"tinfo\">Total: 0, Shown: 0</div></div>"
      ]
     },
     "metadata": {},
     "output_type": "display_data"
    }
   ],
   "source": [
    "SELECT ?s ?o\n",
    "{ ?s wn:member ?o. }\n",
    "LIMIT 10"
   ]
  },
  {
   "cell_type": "markdown",
   "metadata": {},
   "source": [
    "### participle 分词"
   ]
  },
  {
   "cell_type": "code",
   "execution_count": 148,
   "metadata": {},
   "outputs": [
    {
     "data": {
      "text/html": [
       "<div class=\"krn-spql\"><table><tr class=hdr><th>p</th><th>type</th>\n",
       "<th>o</th><th>type</th></tr><tr class=odd><td class=val><a href=\"http://www.w3.org/2000/01/rdf-schema#subPropertyOf\" target=\"_other\">http://www.w3.org/2000/01/rdf-schema#subPropertyOf</a></td><td class=typ>uri</td>\n",
       "<td class=val><a href=\"http://wordnet-rdf.princeton.edu/ontology#link\" target=\"_other\">http://wordnet-rdf.princeton.edu/ontology#link</a></td><td class=typ>uri</td></tr><tr class=even><td class=val><a href=\"http://www.w3.org/2000/01/rdf-schema#label\" target=\"_other\">http://www.w3.org/2000/01/rdf-schema#label</a></td><td class=typ>uri</td>\n",
       "<td class=val>Participle</td><td class=typ>literal, en</td></tr></table><div class=\"tinfo\">Total: 2, Shown: 2</div></div>"
      ]
     },
     "metadata": {},
     "output_type": "display_data"
    }
   ],
   "source": [
    "SELECT ?p ?o\n",
    "{ wn:participle ?p ?o. }"
   ]
  },
  {
   "cell_type": "markdown",
   "metadata": {},
   "source": [
    "### patient 有耐心?"
   ]
  },
  {
   "cell_type": "code",
   "execution_count": 149,
   "metadata": {},
   "outputs": [
    {
     "data": {
      "text/html": [
       "<div class=\"krn-spql\"><table><tr class=hdr><th>p</th><th>type</th>\n",
       "<th>o</th><th>type</th></tr><tr class=odd><td class=val><a href=\"http://www.w3.org/2000/01/rdf-schema#subPropertyOf\" target=\"_other\">http://www.w3.org/2000/01/rdf-schema#subPropertyOf</a></td><td class=typ>uri</td>\n",
       "<td class=val><a href=\"http://wordnet-rdf.princeton.edu/ontology#link\" target=\"_other\">http://wordnet-rdf.princeton.edu/ontology#link</a></td><td class=typ>uri</td></tr><tr class=even><td class=val><a href=\"http://www.w3.org/2000/01/rdf-schema#label\" target=\"_other\">http://www.w3.org/2000/01/rdf-schema#label</a></td><td class=typ>uri</td>\n",
       "<td class=val>Patient</td><td class=typ>literal, en</td></tr></table><div class=\"tinfo\">Total: 2, Shown: 2</div></div>"
      ]
     },
     "metadata": {},
     "output_type": "display_data"
    }
   ],
   "source": [
    "SELECT ?p ?o\n",
    "{ wn:patient ?p ?o. }"
   ]
  },
  {
   "cell_type": "code",
   "execution_count": 150,
   "metadata": {},
   "outputs": [
    {
     "data": {
      "text/html": [
       "<div class=\"krn-spql\"><table><tr class=hdr><th>s</th><th>type</th>\n",
       "<th>o</th><th>type</th></tr></table><div class=\"tinfo\">Total: 0, Shown: 0</div></div>"
      ]
     },
     "metadata": {},
     "output_type": "display_data"
    }
   ],
   "source": [
    "SELECT ?s ?o\n",
    "{ ?s wn:patient ?o. }\n",
    "LIMIT 10"
   ]
  },
  {
   "cell_type": "markdown",
   "metadata": {},
   "source": [
    "### pertainym 关于"
   ]
  },
  {
   "cell_type": "code",
   "execution_count": 151,
   "metadata": {},
   "outputs": [
    {
     "data": {
      "text/html": [
       "<div class=\"krn-spql\"><table><tr class=hdr><th>p</th><th>type</th>\n",
       "<th>o</th><th>type</th></tr><tr class=odd><td class=val><a href=\"http://www.w3.org/2000/01/rdf-schema#subPropertyOf\" target=\"_other\">http://www.w3.org/2000/01/rdf-schema#subPropertyOf</a></td><td class=typ>uri</td>\n",
       "<td class=val><a href=\"http://wordnet-rdf.princeton.edu/ontology#link\" target=\"_other\">http://wordnet-rdf.princeton.edu/ontology#link</a></td><td class=typ>uri</td></tr><tr class=even><td class=val><a href=\"http://www.w3.org/2000/01/rdf-schema#label\" target=\"_other\">http://www.w3.org/2000/01/rdf-schema#label</a></td><td class=typ>uri</td>\n",
       "<td class=val>Pertainym</td><td class=typ>literal, en</td></tr></table><div class=\"tinfo\">Total: 2, Shown: 2</div></div>"
      ]
     },
     "metadata": {},
     "output_type": "display_data"
    }
   ],
   "source": [
    "SELECT ?p ?o\n",
    "{ wn:pertainym ?p ?o. }"
   ]
  },
  {
   "cell_type": "markdown",
   "metadata": {},
   "source": [
    "### product ???"
   ]
  },
  {
   "cell_type": "code",
   "execution_count": 20,
   "metadata": {},
   "outputs": [
    {
     "data": {
      "text/html": [
       "<div class=\"krn-spql\"><table><tr class=hdr><th>p</th><th>type</th>\n",
       "<th>o</th><th>type</th></tr><tr class=odd><td class=val><a href=\"http://www.w3.org/2000/01/rdf-schema#subPropertyOf\" target=\"_other\">http://www.w3.org/2000/01/rdf-schema#subPropertyOf</a></td><td class=typ>uri</td>\n",
       "<td class=val><a href=\"http://wordnet-rdf.princeton.edu/ontology#link\" target=\"_other\">http://wordnet-rdf.princeton.edu/ontology#link</a></td><td class=typ>uri</td></tr><tr class=even><td class=val><a href=\"http://www.w3.org/2000/01/rdf-schema#label\" target=\"_other\">http://www.w3.org/2000/01/rdf-schema#label</a></td><td class=typ>uri</td>\n",
       "<td class=val>Product</td><td class=typ>literal, en</td></tr></table><div class=\"tinfo\">Total: 2, Shown: 2</div></div>"
      ]
     },
     "metadata": {},
     "output_type": "display_data"
    }
   ],
   "source": [
    "SELECT ?p ?o\n",
    "{ wn:product ?p ?o. }"
   ]
  },
  {
   "cell_type": "markdown",
   "metadata": {},
   "source": [
    "### result ???"
   ]
  },
  {
   "cell_type": "code",
   "execution_count": 21,
   "metadata": {},
   "outputs": [
    {
     "data": {
      "text/html": [
       "<div class=\"krn-spql\"><table><tr class=hdr><th>p</th><th>type</th>\n",
       "<th>o</th><th>type</th></tr><tr class=odd><td class=val><a href=\"http://www.w3.org/2000/01/rdf-schema#subPropertyOf\" target=\"_other\">http://www.w3.org/2000/01/rdf-schema#subPropertyOf</a></td><td class=typ>uri</td>\n",
       "<td class=val><a href=\"http://wordnet-rdf.princeton.edu/ontology#link\" target=\"_other\">http://wordnet-rdf.princeton.edu/ontology#link</a></td><td class=typ>uri</td></tr><tr class=even><td class=val><a href=\"http://www.w3.org/2000/01/rdf-schema#label\" target=\"_other\">http://www.w3.org/2000/01/rdf-schema#label</a></td><td class=typ>uri</td>\n",
       "<td class=val>Result</td><td class=typ>literal, en</td></tr></table><div class=\"tinfo\">Total: 2, Shown: 2</div></div>"
      ]
     },
     "metadata": {},
     "output_type": "display_data"
    }
   ],
   "source": [
    "SELECT ?p ?o\n",
    "{ wn:result ?p ?o. }"
   ]
  },
  {
   "cell_type": "markdown",
   "metadata": {},
   "source": [
    "### similar 相似"
   ]
  },
  {
   "cell_type": "code",
   "execution_count": 68,
   "metadata": {},
   "outputs": [
    {
     "data": {
      "text/html": [
       "<div class=\"krn-spql\"><table><tr class=hdr><th>p</th><th>type</th>\n",
       "<th>o</th><th>type</th></tr><tr class=odd><td class=val><a href=\"http://www.w3.org/2000/01/rdf-schema#subPropertyOf\" target=\"_other\">http://www.w3.org/2000/01/rdf-schema#subPropertyOf</a></td><td class=typ>uri</td>\n",
       "<td class=val><a href=\"http://wordnet-rdf.princeton.edu/ontology#link\" target=\"_other\">http://wordnet-rdf.princeton.edu/ontology#link</a></td><td class=typ>uri</td></tr><tr class=even><td class=val><a href=\"http://www.w3.org/2000/01/rdf-schema#label\" target=\"_other\">http://www.w3.org/2000/01/rdf-schema#label</a></td><td class=typ>uri</td>\n",
       "<td class=val>Similar</td><td class=typ>literal, en</td></tr><tr class=odd><td class=val><a href=\"http://www.isocat.org/ns/dcr.rdf#datcat\" target=\"_other\">http://www.isocat.org/ns/dcr.rdf#datcat</a></td><td class=typ>uri</td>\n",
       "<td class=val><a href=\"http://www.isocat.org/datcat/DC-438\" target=\"_other\">http://www.isocat.org/datcat/DC-438</a></td><td class=typ>uri</td></tr></table><div class=\"tinfo\">Total: 3, Shown: 3</div></div>"
      ]
     },
     "metadata": {},
     "output_type": "display_data"
    }
   ],
   "source": [
    "SELECT ?p ?o\n",
    "{ wn:similar ?p ?o. }"
   ]
  },
  {
   "cell_type": "code",
   "execution_count": 69,
   "metadata": {},
   "outputs": [
    {
     "data": {
      "text/html": [
       "<div class=\"krn-spql\"><table><tr class=hdr><th>s</th><th>type</th>\n",
       "<th>o</th><th>type</th></tr><tr class=odd><td class=val><a href=\"http://wordnet-rdf.princeton.edu/id/02294393-a\" target=\"_other\">http://wordnet-rdf.princeton.edu/id/02294393-a</a></td><td class=typ>uri</td>\n",
       "<td class=val><a href=\"http://wordnet-rdf.princeton.edu/id/02294522-s\" target=\"_other\">http://wordnet-rdf.princeton.edu/id/02294522-s</a></td><td class=typ>uri</td></tr><tr class=even><td class=val><a href=\"http://wordnet-rdf.princeton.edu/id/00021803-a\" target=\"_other\">http://wordnet-rdf.princeton.edu/id/00021803-a</a></td><td class=typ>uri</td>\n",
       "<td class=val><a href=\"http://wordnet-rdf.princeton.edu/id/00023315-s\" target=\"_other\">http://wordnet-rdf.princeton.edu/id/00023315-s</a></td><td class=typ>uri</td></tr><tr class=odd><td class=val><a href=\"http://wordnet-rdf.princeton.edu/id/02076759-a\" target=\"_other\">http://wordnet-rdf.princeton.edu/id/02076759-a</a></td><td class=typ>uri</td>\n",
       "<td class=val><a href=\"http://wordnet-rdf.princeton.edu/id/02078705-s\" target=\"_other\">http://wordnet-rdf.princeton.edu/id/02078705-s</a></td><td class=typ>uri</td></tr><tr class=even><td class=val><a href=\"http://wordnet-rdf.princeton.edu/id/00527630-a\" target=\"_other\">http://wordnet-rdf.princeton.edu/id/00527630-a</a></td><td class=typ>uri</td>\n",
       "<td class=val><a href=\"http://wordnet-rdf.princeton.edu/id/00529008-s\" target=\"_other\">http://wordnet-rdf.princeton.edu/id/00529008-s</a></td><td class=typ>uri</td></tr><tr class=odd><td class=val><a href=\"http://wordnet-rdf.princeton.edu/id/00776335-s\" target=\"_other\">http://wordnet-rdf.princeton.edu/id/00776335-s</a></td><td class=typ>uri</td>\n",
       "<td class=val><a href=\"http://wordnet-rdf.princeton.edu/id/00775919-a\" target=\"_other\">http://wordnet-rdf.princeton.edu/id/00775919-a</a></td><td class=typ>uri</td></tr><tr class=even><td class=val><a href=\"http://wordnet-rdf.princeton.edu/id/00776051-s\" target=\"_other\">http://wordnet-rdf.princeton.edu/id/00776051-s</a></td><td class=typ>uri</td>\n",
       "<td class=val><a href=\"http://wordnet-rdf.princeton.edu/id/00775919-a\" target=\"_other\">http://wordnet-rdf.princeton.edu/id/00775919-a</a></td><td class=typ>uri</td></tr><tr class=odd><td class=val><a href=\"http://wordnet-rdf.princeton.edu/id/02018238-a\" target=\"_other\">http://wordnet-rdf.princeton.edu/id/02018238-a</a></td><td class=typ>uri</td>\n",
       "<td class=val><a href=\"http://wordnet-rdf.princeton.edu/id/02018718-s\" target=\"_other\">http://wordnet-rdf.princeton.edu/id/02018718-s</a></td><td class=typ>uri</td></tr><tr class=even><td class=val><a href=\"http://wordnet-rdf.princeton.edu/id/02173903-a\" target=\"_other\">http://wordnet-rdf.princeton.edu/id/02173903-a</a></td><td class=typ>uri</td>\n",
       "<td class=val><a href=\"http://wordnet-rdf.princeton.edu/id/02175957-s\" target=\"_other\">http://wordnet-rdf.princeton.edu/id/02175957-s</a></td><td class=typ>uri</td></tr><tr class=odd><td class=val><a href=\"http://wordnet-rdf.princeton.edu/id/00936423-a\" target=\"_other\">http://wordnet-rdf.princeton.edu/id/00936423-a</a></td><td class=typ>uri</td>\n",
       "<td class=val><a href=\"http://wordnet-rdf.princeton.edu/id/00936868-s\" target=\"_other\">http://wordnet-rdf.princeton.edu/id/00936868-s</a></td><td class=typ>uri</td></tr><tr class=even><td class=val><a href=\"http://wordnet-rdf.princeton.edu/id/02049603-s\" target=\"_other\">http://wordnet-rdf.princeton.edu/id/02049603-s</a></td><td class=typ>uri</td>\n",
       "<td class=val><a href=\"http://wordnet-rdf.princeton.edu/id/02048059-a\" target=\"_other\">http://wordnet-rdf.princeton.edu/id/02048059-a</a></td><td class=typ>uri</td></tr></table><div class=\"tinfo\">Total: 10, Shown: 10</div></div>"
      ]
     },
     "metadata": {},
     "output_type": "display_data"
    }
   ],
   "source": [
    "SELECT ?s ?o\n",
    "{ ?s wn:similar ?o. }\n",
    "LIMIT 10"
   ]
  },
  {
   "cell_type": "markdown",
   "metadata": {},
   "source": [
    "### theme 主题"
   ]
  },
  {
   "cell_type": "code",
   "execution_count": 62,
   "metadata": {},
   "outputs": [
    {
     "data": {
      "text/html": [
       "<div class=\"krn-spql\"><table><tr class=hdr><th>p</th><th>type</th>\n",
       "<th>o</th><th>type</th></tr><tr class=odd><td class=val><a href=\"http://www.w3.org/2000/01/rdf-schema#subPropertyOf\" target=\"_other\">http://www.w3.org/2000/01/rdf-schema#subPropertyOf</a></td><td class=typ>uri</td>\n",
       "<td class=val><a href=\"http://wordnet-rdf.princeton.edu/ontology#link\" target=\"_other\">http://wordnet-rdf.princeton.edu/ontology#link</a></td><td class=typ>uri</td></tr><tr class=even><td class=val><a href=\"http://www.w3.org/2000/01/rdf-schema#label\" target=\"_other\">http://www.w3.org/2000/01/rdf-schema#label</a></td><td class=typ>uri</td>\n",
       "<td class=val>Theme</td><td class=typ>literal, en</td></tr></table><div class=\"tinfo\">Total: 2, Shown: 2</div></div>"
      ]
     },
     "metadata": {},
     "output_type": "display_data"
    }
   ],
   "source": [
    "SELECT ?p ?o\n",
    "{ wn:theme ?p ?o. }"
   ]
  },
  {
   "cell_type": "code",
   "execution_count": 63,
   "metadata": {},
   "outputs": [
    {
     "data": {
      "text/html": [
       "<div class=\"krn-spql\"><table><tr class=hdr><th>s</th><th>type</th>\n",
       "<th>o</th><th>type</th></tr></table><div class=\"tinfo\">Total: 0, Shown: 0</div></div>"
      ]
     },
     "metadata": {},
     "output_type": "display_data"
    }
   ],
   "source": [
    "SELECT ?s ?o\n",
    "{ ?s wn:theme ?o. }\n",
    "LIMIT 10"
   ]
  },
  {
   "cell_type": "markdown",
   "metadata": {},
   "source": [
    "### verb_group 动词组"
   ]
  },
  {
   "cell_type": "code",
   "execution_count": 50,
   "metadata": {},
   "outputs": [
    {
     "data": {
      "text/html": [
       "<div class=\"krn-spql\"><table><tr class=hdr><th>p</th><th>type</th>\n",
       "<th>o</th><th>type</th></tr><tr class=odd><td class=val><a href=\"http://www.w3.org/2000/01/rdf-schema#subPropertyOf\" target=\"_other\">http://www.w3.org/2000/01/rdf-schema#subPropertyOf</a></td><td class=typ>uri</td>\n",
       "<td class=val><a href=\"http://wordnet-rdf.princeton.edu/ontology#link\" target=\"_other\">http://wordnet-rdf.princeton.edu/ontology#link</a></td><td class=typ>uri</td></tr><tr class=even><td class=val><a href=\"http://www.w3.org/2000/01/rdf-schema#label\" target=\"_other\">http://www.w3.org/2000/01/rdf-schema#label</a></td><td class=typ>uri</td>\n",
       "<td class=val>Verb group</td><td class=typ>literal, en</td></tr></table><div class=\"tinfo\">Total: 2, Shown: 2</div></div>"
      ]
     },
     "metadata": {},
     "output_type": "display_data"
    }
   ],
   "source": [
    "SELECT ?p ?o\n",
    "{ wn:verb_group ?p ?o. }"
   ]
  },
  {
   "cell_type": "code",
   "execution_count": 51,
   "metadata": {},
   "outputs": [
    {
     "data": {
      "text/html": [
       "<div class=\"krn-spql\"><table><tr class=hdr><th>s</th><th>type</th>\n",
       "<th>o</th><th>type</th></tr></table><div class=\"tinfo\">Total: 0, Shown: 0</div></div>"
      ]
     },
     "metadata": {},
     "output_type": "display_data"
    }
   ],
   "source": [
    "SELECT ?s ?o\n",
    "{ ?s wn:verb_group ?o. }\n",
    "LIMIT 10"
   ]
  },
  {
   "cell_type": "markdown",
   "metadata": {},
   "source": [
    "## ObjectProperty"
   ]
  },
  {
   "cell_type": "code",
   "execution_count": 185,
   "metadata": {},
   "outputs": [
    {
     "data": {
      "text/html": [
       "<div class=\"krn-spql\"><table><tr class=hdr><th>p</th><th>type</th></tr><tr class=odd><td class=val><a href=\"http://wordnet-rdf.princeton.edu/ontology#lexical_domain\" target=\"_other\">http://wordnet-rdf.princeton.edu/ontology#lexical_domain</a></td><td class=typ>uri</td></tr><tr class=even><td class=val><a href=\"http://wordnet-rdf.princeton.edu/ontology#link\" target=\"_other\">http://wordnet-rdf.princeton.edu/ontology#link</a></td><td class=typ>uri</td></tr><tr class=odd><td class=val><a href=\"http://wordnet-rdf.princeton.edu/ontology#part_of_speech\" target=\"_other\">http://wordnet-rdf.princeton.edu/ontology#part_of_speech</a></td><td class=typ>uri</td></tr><tr class=even><td class=val><a href=\"http://wordnet-rdf.princeton.edu/ontology#phrase_type\" target=\"_other\">http://wordnet-rdf.princeton.edu/ontology#phrase_type</a></td><td class=typ>uri</td></tr><tr class=odd><td class=val><a href=\"http://wordnet-rdf.princeton.edu/ontology#sense_tag\" target=\"_other\">http://wordnet-rdf.princeton.edu/ontology#sense_tag</a></td><td class=typ>uri</td></tr><tr class=even><td class=val><a href=\"http://wordnet-rdf.princeton.edu/ontology#synset_member\" target=\"_other\">http://wordnet-rdf.princeton.edu/ontology#synset_member</a></td><td class=typ>uri</td></tr><tr class=odd><td class=val><a href=\"http://wordnet-rdf.princeton.edu/ontology#translation\" target=\"_other\">http://wordnet-rdf.princeton.edu/ontology#translation</a></td><td class=typ>uri</td></tr><tr class=even><td class=val><a href=\"http://wordnet-rdf.princeton.edu/ontology#verbnet_class\" target=\"_other\">http://wordnet-rdf.princeton.edu/ontology#verbnet_class</a></td><td class=typ>uri</td></tr></table><div class=\"tinfo\">Total: 8, Shown: 8</div></div>"
      ]
     },
     "metadata": {},
     "output_type": "display_data"
    }
   ],
   "source": [
    "SELECT ?p\n",
    "{ ?p rdf:type owl:ObjectProperty. }\n",
    "ORDER BY ?p"
   ]
  },
  {
   "cell_type": "markdown",
   "metadata": {},
   "source": [
    "### lexical_domain 词汇域属性"
   ]
  },
  {
   "cell_type": "code",
   "execution_count": 187,
   "metadata": {},
   "outputs": [
    {
     "data": {
      "text/html": [
       "<div class=\"krn-spql\"><table><tr class=hdr><th>p</th><th>type</th>\n",
       "<th>o</th><th>type</th></tr><tr class=odd><td class=val><a href=\"http://www.w3.org/2000/01/rdf-schema#label\" target=\"_other\">http://www.w3.org/2000/01/rdf-schema#label</a></td><td class=typ>uri</td>\n",
       "<td class=val>Lexical domain</td><td class=typ>literal, en</td></tr><tr class=even><td class=val><a href=\"http://www.w3.org/1999/02/22-rdf-syntax-ns#type\" target=\"_other\">http://www.w3.org/1999/02/22-rdf-syntax-ns#type</a></td><td class=typ>uri</td>\n",
       "<td class=val><a href=\"http://www.w3.org/2002/07/owl#ObjectProperty\" target=\"_other\">http://www.w3.org/2002/07/owl#ObjectProperty</a></td><td class=typ>uri</td></tr></table><div class=\"tinfo\">Total: 2, Shown: 2</div></div>"
      ]
     },
     "metadata": {},
     "output_type": "display_data"
    }
   ],
   "source": [
    "SELECT ?p ?o\n",
    "{ wn:lexical_domain ?p ?o. }"
   ]
  },
  {
   "cell_type": "markdown",
   "metadata": {},
   "source": [
    "### part_of_speech 有词性"
   ]
  },
  {
   "cell_type": "code",
   "execution_count": 188,
   "metadata": {},
   "outputs": [
    {
     "data": {
      "text/html": [
       "<div class=\"krn-spql\"><table><tr class=hdr><th>p</th><th>type</th>\n",
       "<th>o</th><th>type</th></tr><tr class=odd><td class=val><a href=\"http://www.w3.org/2000/01/rdf-schema#label\" target=\"_other\">http://www.w3.org/2000/01/rdf-schema#label</a></td><td class=typ>uri</td>\n",
       "<td class=val>Part of speech</td><td class=typ>literal, en</td></tr><tr class=even><td class=val><a href=\"http://www.isocat.org/ns/dcr.rdf#datcat\" target=\"_other\">http://www.isocat.org/ns/dcr.rdf#datcat</a></td><td class=typ>uri</td>\n",
       "<td class=val><a href=\"http://www.isocat.org/datcat/DC-396\" target=\"_other\">http://www.isocat.org/datcat/DC-396</a></td><td class=typ>uri</td></tr><tr class=odd><td class=val><a href=\"http://www.w3.org/1999/02/22-rdf-syntax-ns#type\" target=\"_other\">http://www.w3.org/1999/02/22-rdf-syntax-ns#type</a></td><td class=typ>uri</td>\n",
       "<td class=val><a href=\"http://www.w3.org/2002/07/owl#ObjectProperty\" target=\"_other\">http://www.w3.org/2002/07/owl#ObjectProperty</a></td><td class=typ>uri</td></tr></table><div class=\"tinfo\">Total: 3, Shown: 3</div></div>"
      ]
     },
     "metadata": {},
     "output_type": "display_data"
    }
   ],
   "source": [
    "SELECT ?p ?o\n",
    "{ wn:part_of_speech ?p ?o. }"
   ]
  },
  {
   "cell_type": "markdown",
   "metadata": {},
   "source": [
    "### phrase_type 短语类型"
   ]
  },
  {
   "cell_type": "code",
   "execution_count": 189,
   "metadata": {},
   "outputs": [
    {
     "data": {
      "text/html": [
       "<div class=\"krn-spql\"><table><tr class=hdr><th>p</th><th>type</th>\n",
       "<th>o</th><th>type</th></tr><tr class=odd><td class=val><a href=\"http://www.w3.org/2000/01/rdf-schema#label\" target=\"_other\">http://www.w3.org/2000/01/rdf-schema#label</a></td><td class=typ>uri</td>\n",
       "<td class=val>Phrase type</td><td class=typ>literal, en</td></tr><tr class=even><td class=val><a href=\"http://www.w3.org/1999/02/22-rdf-syntax-ns#type\" target=\"_other\">http://www.w3.org/1999/02/22-rdf-syntax-ns#type</a></td><td class=typ>uri</td>\n",
       "<td class=val><a href=\"http://www.w3.org/2002/07/owl#ObjectProperty\" target=\"_other\">http://www.w3.org/2002/07/owl#ObjectProperty</a></td><td class=typ>uri</td></tr></table><div class=\"tinfo\">Total: 2, Shown: 2</div></div>"
      ]
     },
     "metadata": {},
     "output_type": "display_data"
    }
   ],
   "source": [
    "SELECT ?p ?o\n",
    "{ wn:phrase_type ?p ?o. }"
   ]
  },
  {
   "cell_type": "markdown",
   "metadata": {},
   "source": [
    "### sense_tag 含义标签"
   ]
  },
  {
   "cell_type": "code",
   "execution_count": 190,
   "metadata": {},
   "outputs": [
    {
     "data": {
      "text/html": [
       "<div class=\"krn-spql\"><table><tr class=hdr><th>p</th><th>type</th>\n",
       "<th>o</th><th>type</th></tr><tr class=odd><td class=val><a href=\"http://www.w3.org/2000/01/rdf-schema#label\" target=\"_other\">http://www.w3.org/2000/01/rdf-schema#label</a></td><td class=typ>uri</td>\n",
       "<td class=val>Sense tag</td><td class=typ>literal, en</td></tr><tr class=even><td class=val><a href=\"http://www.w3.org/1999/02/22-rdf-syntax-ns#type\" target=\"_other\">http://www.w3.org/1999/02/22-rdf-syntax-ns#type</a></td><td class=typ>uri</td>\n",
       "<td class=val><a href=\"http://www.w3.org/2002/07/owl#ObjectProperty\" target=\"_other\">http://www.w3.org/2002/07/owl#ObjectProperty</a></td><td class=typ>uri</td></tr></table><div class=\"tinfo\">Total: 2, Shown: 2</div></div>"
      ]
     },
     "metadata": {},
     "output_type": "display_data"
    }
   ],
   "source": [
    "SELECT ?p ?o\n",
    "{ wn:sense_tag ?p ?o. }"
   ]
  },
  {
   "cell_type": "markdown",
   "metadata": {},
   "source": [
    "### synset_member 同义词集成员关系"
   ]
  },
  {
   "cell_type": "code",
   "execution_count": 191,
   "metadata": {},
   "outputs": [
    {
     "data": {
      "text/html": [
       "<div class=\"krn-spql\"><table><tr class=hdr><th>p</th><th>type</th>\n",
       "<th>o</th><th>type</th></tr><tr class=odd><td class=val><a href=\"http://www.w3.org/2000/01/rdf-schema#label\" target=\"_other\">http://www.w3.org/2000/01/rdf-schema#label</a></td><td class=typ>uri</td>\n",
       "<td class=val>Synset member</td><td class=typ>literal, en</td></tr><tr class=even><td class=val><a href=\"http://www.w3.org/1999/02/22-rdf-syntax-ns#type\" target=\"_other\">http://www.w3.org/1999/02/22-rdf-syntax-ns#type</a></td><td class=typ>uri</td>\n",
       "<td class=val><a href=\"http://www.w3.org/2002/07/owl#ObjectProperty\" target=\"_other\">http://www.w3.org/2002/07/owl#ObjectProperty</a></td><td class=typ>uri</td></tr></table><div class=\"tinfo\">Total: 2, Shown: 2</div></div>"
      ]
     },
     "metadata": {},
     "output_type": "display_data"
    }
   ],
   "source": [
    "SELECT ?p ?o\n",
    "{ wn:synset_member ?p ?o. }"
   ]
  },
  {
   "cell_type": "markdown",
   "metadata": {},
   "source": [
    "### translation 翻译"
   ]
  },
  {
   "cell_type": "code",
   "execution_count": 192,
   "metadata": {},
   "outputs": [
    {
     "data": {
      "text/html": [
       "<div class=\"krn-spql\"><table><tr class=hdr><th>p</th><th>type</th>\n",
       "<th>o</th><th>type</th></tr><tr class=odd><td class=val><a href=\"http://www.w3.org/2000/01/rdf-schema#label\" target=\"_other\">http://www.w3.org/2000/01/rdf-schema#label</a></td><td class=typ>uri</td>\n",
       "<td class=val>Translation</td><td class=typ>literal, en</td></tr><tr class=even><td class=val><a href=\"http://www.isocat.org/ns/dcr.rdf#datcat\" target=\"_other\">http://www.isocat.org/ns/dcr.rdf#datcat</a></td><td class=typ>uri</td>\n",
       "<td class=val><a href=\"http://www.isocat.org/datcat/DC-2970\" target=\"_other\">http://www.isocat.org/datcat/DC-2970</a></td><td class=typ>uri</td></tr><tr class=odd><td class=val><a href=\"http://www.w3.org/1999/02/22-rdf-syntax-ns#type\" target=\"_other\">http://www.w3.org/1999/02/22-rdf-syntax-ns#type</a></td><td class=typ>uri</td>\n",
       "<td class=val><a href=\"http://www.w3.org/2002/07/owl#ObjectProperty\" target=\"_other\">http://www.w3.org/2002/07/owl#ObjectProperty</a></td><td class=typ>uri</td></tr></table><div class=\"tinfo\">Total: 3, Shown: 3</div></div>"
      ]
     },
     "metadata": {},
     "output_type": "display_data"
    }
   ],
   "source": [
    "SELECT ?p ?o\n",
    "{ wn:translation ?p ?o. }"
   ]
  },
  {
   "cell_type": "markdown",
   "metadata": {},
   "source": [
    "### verbnet_class VerbNet类"
   ]
  },
  {
   "cell_type": "code",
   "execution_count": 193,
   "metadata": {},
   "outputs": [
    {
     "data": {
      "text/html": [
       "<div class=\"krn-spql\"><table><tr class=hdr><th>p</th><th>type</th>\n",
       "<th>o</th><th>type</th></tr><tr class=odd><td class=val><a href=\"http://www.w3.org/2000/01/rdf-schema#label\" target=\"_other\">http://www.w3.org/2000/01/rdf-schema#label</a></td><td class=typ>uri</td>\n",
       "<td class=val>Verbnet class</td><td class=typ>literal, en</td></tr><tr class=even><td class=val><a href=\"http://www.w3.org/1999/02/22-rdf-syntax-ns#type\" target=\"_other\">http://www.w3.org/1999/02/22-rdf-syntax-ns#type</a></td><td class=typ>uri</td>\n",
       "<td class=val><a href=\"http://www.w3.org/2002/07/owl#ObjectProperty\" target=\"_other\">http://www.w3.org/2002/07/owl#ObjectProperty</a></td><td class=typ>uri</td></tr></table><div class=\"tinfo\">Total: 2, Shown: 2</div></div>"
      ]
     },
     "metadata": {},
     "output_type": "display_data"
    }
   ],
   "source": [
    "SELECT ?p ?o\n",
    "{ wn:verbnet_class ?p ?o. }"
   ]
  },
  {
   "cell_type": "markdown",
   "metadata": {},
   "source": [
    "## DatatypeProperty"
   ]
  },
  {
   "cell_type": "code",
   "execution_count": 186,
   "metadata": {},
   "outputs": [
    {
     "data": {
      "text/html": [
       "<div class=\"krn-spql\"><table><tr class=hdr><th>p</th><th>type</th></tr><tr class=odd><td class=val><a href=\"http://wordnet-rdf.princeton.edu/ontology#gloss\" target=\"_other\">http://wordnet-rdf.princeton.edu/ontology#gloss</a></td><td class=typ>uri</td></tr><tr class=even><td class=val><a href=\"http://wordnet-rdf.princeton.edu/ontology#old_sense_key\" target=\"_other\">http://wordnet-rdf.princeton.edu/ontology#old_sense_key</a></td><td class=typ>uri</td></tr><tr class=odd><td class=val><a href=\"http://wordnet-rdf.princeton.edu/ontology#sample\" target=\"_other\">http://wordnet-rdf.princeton.edu/ontology#sample</a></td><td class=typ>uri</td></tr><tr class=even><td class=val><a href=\"http://wordnet-rdf.princeton.edu/ontology#sense_number\" target=\"_other\">http://wordnet-rdf.princeton.edu/ontology#sense_number</a></td><td class=typ>uri</td></tr><tr class=odd><td class=val><a href=\"http://wordnet-rdf.princeton.edu/ontology#tag_count\" target=\"_other\">http://wordnet-rdf.princeton.edu/ontology#tag_count</a></td><td class=typ>uri</td></tr><tr class=even><td class=val><a href=\"http://wordnet-rdf.princeton.edu/ontology#verb_frame_sentence\" target=\"_other\">http://wordnet-rdf.princeton.edu/ontology#verb_frame_sentence</a></td><td class=typ>uri</td></tr></table><div class=\"tinfo\">Total: 6, Shown: 6</div></div>"
      ]
     },
     "metadata": {},
     "output_type": "display_data"
    }
   ],
   "source": [
    "SELECT ?p\n",
    "{ ?p rdf:type owl:DatatypeProperty. }\n",
    "ORDER BY ?p"
   ]
  },
  {
   "cell_type": "markdown",
   "metadata": {},
   "source": [
    "### gloss 注释"
   ]
  },
  {
   "cell_type": "code",
   "execution_count": 194,
   "metadata": {},
   "outputs": [
    {
     "data": {
      "text/html": [
       "<div class=\"krn-spql\"><table><tr class=hdr><th>p</th><th>type</th>\n",
       "<th>o</th><th>type</th></tr><tr class=odd><td class=val><a href=\"http://www.w3.org/2000/01/rdf-schema#label\" target=\"_other\">http://www.w3.org/2000/01/rdf-schema#label</a></td><td class=typ>uri</td>\n",
       "<td class=val>Gloss</td><td class=typ>literal, en</td></tr><tr class=even><td class=val><a href=\"http://www.isocat.org/ns/dcr.rdf#datcat\" target=\"_other\">http://www.isocat.org/ns/dcr.rdf#datcat</a></td><td class=typ>uri</td>\n",
       "<td class=val><a href=\"http://www.isocat.org/datcat/DC-244\" target=\"_other\">http://www.isocat.org/datcat/DC-244</a></td><td class=typ>uri</td></tr><tr class=odd><td class=val><a href=\"http://www.w3.org/1999/02/22-rdf-syntax-ns#type\" target=\"_other\">http://www.w3.org/1999/02/22-rdf-syntax-ns#type</a></td><td class=typ>uri</td>\n",
       "<td class=val><a href=\"http://www.w3.org/2002/07/owl#DatatypeProperty\" target=\"_other\">http://www.w3.org/2002/07/owl#DatatypeProperty</a></td><td class=typ>uri</td></tr></table><div class=\"tinfo\">Total: 3, Shown: 3</div></div>"
      ]
     },
     "metadata": {},
     "output_type": "display_data"
    }
   ],
   "source": [
    "SELECT ?p ?o\n",
    "{ wn:gloss ?p ?o. }"
   ]
  },
  {
   "cell_type": "markdown",
   "metadata": {},
   "source": [
    "### old_sense_key 旧含义键"
   ]
  },
  {
   "cell_type": "code",
   "execution_count": 195,
   "metadata": {},
   "outputs": [
    {
     "data": {
      "text/html": [
       "<div class=\"krn-spql\"><table><tr class=hdr><th>p</th><th>type</th>\n",
       "<th>o</th><th>type</th></tr><tr class=odd><td class=val><a href=\"http://www.w3.org/2000/01/rdf-schema#label\" target=\"_other\">http://www.w3.org/2000/01/rdf-schema#label</a></td><td class=typ>uri</td>\n",
       "<td class=val>Old sense key</td><td class=typ>literal, en</td></tr><tr class=even><td class=val><a href=\"http://www.w3.org/1999/02/22-rdf-syntax-ns#type\" target=\"_other\">http://www.w3.org/1999/02/22-rdf-syntax-ns#type</a></td><td class=typ>uri</td>\n",
       "<td class=val><a href=\"http://www.w3.org/2002/07/owl#DatatypeProperty\" target=\"_other\">http://www.w3.org/2002/07/owl#DatatypeProperty</a></td><td class=typ>uri</td></tr></table><div class=\"tinfo\">Total: 2, Shown: 2</div></div>"
      ]
     },
     "metadata": {},
     "output_type": "display_data"
    }
   ],
   "source": [
    "SELECT ?p ?o\n",
    "{ wn:old_sense_key ?p ?o. }"
   ]
  },
  {
   "cell_type": "markdown",
   "metadata": {},
   "source": [
    "### sample 范例?"
   ]
  },
  {
   "cell_type": "code",
   "execution_count": 196,
   "metadata": {},
   "outputs": [
    {
     "data": {
      "text/html": [
       "<div class=\"krn-spql\"><table><tr class=hdr><th>p</th><th>type</th>\n",
       "<th>o</th><th>type</th></tr><tr class=odd><td class=val><a href=\"http://www.w3.org/2000/01/rdf-schema#label\" target=\"_other\">http://www.w3.org/2000/01/rdf-schema#label</a></td><td class=typ>uri</td>\n",
       "<td class=val>Sample</td><td class=typ>literal, en</td></tr><tr class=even><td class=val><a href=\"http://www.isocat.org/ns/dcr.rdf#datcat\" target=\"_other\">http://www.isocat.org/ns/dcr.rdf#datcat</a></td><td class=typ>uri</td>\n",
       "<td class=val><a href=\"http://www.isocat.org/datcat/DC-455\" target=\"_other\">http://www.isocat.org/datcat/DC-455</a></td><td class=typ>uri</td></tr><tr class=odd><td class=val><a href=\"http://www.w3.org/1999/02/22-rdf-syntax-ns#type\" target=\"_other\">http://www.w3.org/1999/02/22-rdf-syntax-ns#type</a></td><td class=typ>uri</td>\n",
       "<td class=val><a href=\"http://www.w3.org/2002/07/owl#DatatypeProperty\" target=\"_other\">http://www.w3.org/2002/07/owl#DatatypeProperty</a></td><td class=typ>uri</td></tr></table><div class=\"tinfo\">Total: 3, Shown: 3</div></div>"
      ]
     },
     "metadata": {},
     "output_type": "display_data"
    }
   ],
   "source": [
    "SELECT ?p ?o\n",
    "{ wn:sample ?p ?o. }"
   ]
  },
  {
   "cell_type": "markdown",
   "metadata": {},
   "source": [
    "### sense_number 含义号"
   ]
  },
  {
   "cell_type": "code",
   "execution_count": 197,
   "metadata": {},
   "outputs": [
    {
     "data": {
      "text/html": [
       "<div class=\"krn-spql\"><table><tr class=hdr><th>p</th><th>type</th>\n",
       "<th>o</th><th>type</th></tr><tr class=odd><td class=val><a href=\"http://www.w3.org/2000/01/rdf-schema#label\" target=\"_other\">http://www.w3.org/2000/01/rdf-schema#label</a></td><td class=typ>uri</td>\n",
       "<td class=val>Sense number</td><td class=typ>literal, en</td></tr><tr class=even><td class=val><a href=\"http://www.w3.org/1999/02/22-rdf-syntax-ns#type\" target=\"_other\">http://www.w3.org/1999/02/22-rdf-syntax-ns#type</a></td><td class=typ>uri</td>\n",
       "<td class=val><a href=\"http://www.w3.org/2002/07/owl#DatatypeProperty\" target=\"_other\">http://www.w3.org/2002/07/owl#DatatypeProperty</a></td><td class=typ>uri</td></tr></table><div class=\"tinfo\">Total: 2, Shown: 2</div></div>"
      ]
     },
     "metadata": {},
     "output_type": "display_data"
    }
   ],
   "source": [
    "SELECT ?p ?o\n",
    "{ wn:sense_number ?p ?o. }"
   ]
  },
  {
   "cell_type": "markdown",
   "metadata": {},
   "source": [
    "### tag_count 标签数量"
   ]
  },
  {
   "cell_type": "code",
   "execution_count": 198,
   "metadata": {},
   "outputs": [
    {
     "data": {
      "text/html": [
       "<div class=\"krn-spql\"><table><tr class=hdr><th>p</th><th>type</th>\n",
       "<th>o</th><th>type</th></tr><tr class=odd><td class=val><a href=\"http://www.w3.org/2000/01/rdf-schema#label\" target=\"_other\">http://www.w3.org/2000/01/rdf-schema#label</a></td><td class=typ>uri</td>\n",
       "<td class=val>Tag count</td><td class=typ>literal, en</td></tr><tr class=even><td class=val><a href=\"http://www.w3.org/1999/02/22-rdf-syntax-ns#type\" target=\"_other\">http://www.w3.org/1999/02/22-rdf-syntax-ns#type</a></td><td class=typ>uri</td>\n",
       "<td class=val><a href=\"http://www.w3.org/2002/07/owl#DatatypeProperty\" target=\"_other\">http://www.w3.org/2002/07/owl#DatatypeProperty</a></td><td class=typ>uri</td></tr></table><div class=\"tinfo\">Total: 2, Shown: 2</div></div>"
      ]
     },
     "metadata": {},
     "output_type": "display_data"
    }
   ],
   "source": [
    "SELECT ?p ?o\n",
    "{ wn:tag_count ?p ?o. }"
   ]
  },
  {
   "cell_type": "markdown",
   "metadata": {},
   "source": [
    "### verb_frame_sentence 动词框语句"
   ]
  },
  {
   "cell_type": "code",
   "execution_count": 199,
   "metadata": {},
   "outputs": [
    {
     "data": {
      "text/html": [
       "<div class=\"krn-spql\"><table><tr class=hdr><th>p</th><th>type</th>\n",
       "<th>o</th><th>type</th></tr><tr class=odd><td class=val><a href=\"http://www.w3.org/2000/01/rdf-schema#label\" target=\"_other\">http://www.w3.org/2000/01/rdf-schema#label</a></td><td class=typ>uri</td>\n",
       "<td class=val>Verb frame sentence</td><td class=typ>literal, en</td></tr><tr class=even><td class=val><a href=\"http://www.w3.org/1999/02/22-rdf-syntax-ns#type\" target=\"_other\">http://www.w3.org/1999/02/22-rdf-syntax-ns#type</a></td><td class=typ>uri</td>\n",
       "<td class=val><a href=\"http://www.w3.org/2002/07/owl#DatatypeProperty\" target=\"_other\">http://www.w3.org/2002/07/owl#DatatypeProperty</a></td><td class=typ>uri</td></tr></table><div class=\"tinfo\">Total: 2, Shown: 2</div></div>"
      ]
     },
     "metadata": {},
     "output_type": "display_data"
    }
   ],
   "source": [
    "SELECT ?p ?o\n",
    "{ wn:verb_frame_sentence ?p ?o. }"
   ]
  },
  {
   "cell_type": "markdown",
   "metadata": {},
   "source": [
    "# 示例"
   ]
  },
  {
   "cell_type": "markdown",
   "metadata": {},
   "source": [
    "## 查询单词的定义"
   ]
  },
  {
   "cell_type": "code",
   "execution_count": 11,
   "metadata": {},
   "outputs": [
    {
     "data": {
      "text/html": [
       "<div class=\"krn-spql\"><table><tr class=hdr><th>value</th></tr><tr class=odd><td class=val>a motor vehicle with four wheels; usually propelled by an internal combustion engine; &amp;quot;he needs a car to get to work&amp;quot;</td></tr><tr class=even><td class=val>a conveyance for passengers or freight on a cable railway; &amp;quot;they took a cable car to the top of the mountain&amp;quot;</td></tr><tr class=odd><td class=val>a wheeled vehicle adapted to the rails of railroad; &amp;quot;three cars had jumped the rails&amp;quot;</td></tr><tr class=even><td class=val>the compartment that is suspended from an airship and that carries personnel and the cargo and the power plant</td></tr><tr class=odd><td class=val>where passengers ride up and down; &amp;quot;the car was on the top floor&amp;quot;</td></tr></table><div class=\"tinfo\">Total: 5, Shown: 5</div></div>"
      ]
     },
     "metadata": {},
     "output_type": "display_data"
    }
   ],
   "source": [
    "SELECT DISTINCT ?value\n",
    "{ \n",
    "    ?word <http://www.w3.org/ns/lemon/ontolex#writtenRep> \"car\"@en.\n",
    "    ?wordpos <http://www.w3.org/ns/lemon/ontolex#canonicalForm> ?word;\n",
    "             <http://www.w3.org/ns/lemon/ontolex#sense> ?wordsense;\n",
    "             wn:partOfSpeech ?pos.\n",
    "    ?wordsense <http://www.w3.org/ns/lemon/ontolex#isLexicalizedSenseOf> ?synset.\n",
    "    ?synset wn:definition [rdf:value ?value].\n",
    "}"
   ]
  },
  {
   "cell_type": "markdown",
   "metadata": {},
   "source": [
    "## 查询多个单词的定义"
   ]
  },
  {
   "cell_type": "code",
   "execution_count": 10,
   "metadata": {},
   "outputs": [
    {
     "data": {
      "text/html": [
       "<div class=\"krn-spql\"><table><tr class=hdr><th>repr</th>\n",
       "<th>value</th></tr><tr class=odd><td class=val>do</td>\n",
       "<td class=val>proceed or get along; &amp;quot;How is she doing in her new job?&amp;quot;; &amp;quot;How are you making out in graduate school?&amp;quot;; &amp;quot;He's come a long way&amp;quot;</td></tr><tr class=even><td class=val>do</td>\n",
       "<td class=val>be sufficient; be adequate, either in quality or quantity; &amp;quot;A few words would answer&amp;quot;; &amp;quot;This car suits my purpose well&amp;quot;; &amp;quot;Will $100 do?&amp;quot;; &amp;quot;A `B' grade doesn't suffice to get me into medical school&amp;quot;; &amp;quot;Nothing else will serve&amp;quot;</td></tr><tr class=odd><td class=val>do</td>\n",
       "<td class=val>behave in a certain manner; show a certain behavior; conduct or comport oneself; &amp;quot;You should act like an adult&amp;quot;; &amp;quot;Don't behave like a fool&amp;quot;; &amp;quot;What makes her do this way?&amp;quot;; &amp;quot;The dog acts ferocious, but he is really afraid of people&amp;quot;</td></tr><tr class=even><td class=val>do</td>\n",
       "<td class=val>carry out or practice; as of jobs and professions; &amp;quot;practice law&amp;quot;</td></tr><tr class=odd><td class=val>do</td>\n",
       "<td class=val>give rise to; cause to happen or occur, not always intentionally; &amp;quot;cause a commotion&amp;quot;; &amp;quot;make a stir&amp;quot;; &amp;quot;cause an accident&amp;quot;</td></tr><tr class=even><td class=val>do</td>\n",
       "<td class=val>create or design, often in a certain way; &amp;quot;Do my room in blue&amp;quot;; &amp;quot;I did this piece in wood to express my love for the forest&amp;quot;</td></tr><tr class=odd><td class=val>do</td>\n",
       "<td class=val>arrange attractively; &amp;quot;dress my hair for the wedding&amp;quot;</td></tr><tr class=even><td class=val>do</td>\n",
       "<td class=val>travel or traverse (a distance); &amp;quot;This car does 150 miles per hour&amp;quot;; &amp;quot;We did 6 miles on our hike every day&amp;quot;</td></tr><tr class=odd><td class=val>do</td>\n",
       "<td class=val>spend time in prison or in a labor camp; &amp;quot;He did six years for embezzlement&amp;quot;</td></tr><tr class=even><td class=val>do</td>\n",
       "<td class=val>engage in; &amp;quot;make love, not war&amp;quot;; &amp;quot;make an effort&amp;quot;; &amp;quot;do research&amp;quot;; &amp;quot;do nothing&amp;quot;; &amp;quot;make revolution&amp;quot;</td></tr><tr class=odd><td class=val>do</td>\n",
       "<td class=val>carry on or function; &amp;quot;We could do with a little more help around here&amp;quot;</td></tr><tr class=even><td class=val>do</td>\n",
       "<td class=val>get (something) done; &amp;quot;I did my job&amp;quot;</td></tr><tr class=odd><td class=val>do</td>\n",
       "<td class=val>carry out or perform an action; &amp;quot;John did the painting, the weeding, and he cleaned out the gutters&amp;quot;; &amp;quot;the skater executed a triple pirouette&amp;quot;; &amp;quot;she did a little dance&amp;quot;</td></tr><tr class=even><td class=val>do</td>\n",
       "<td class=val>the syllable naming the first (tonic) note of any major scale in solmization</td></tr><tr class=odd><td class=val>do</td>\n",
       "<td class=val>an uproarious party</td></tr><tr class=even><td class=val>done</td>\n",
       "<td class=val>having finished or arrived at completion; &amp;quot;certain to make history before he's done&amp;quot;; &amp;quot;it's a done deed&amp;quot;; &amp;quot;after the treatment, the patient is through except for follow-up&amp;quot;; &amp;quot;almost through with his studies&amp;quot;</td></tr><tr class=odd><td class=val>done</td>\n",
       "<td class=val>cooked until ready to serve</td></tr></table><div class=\"tinfo\">Total: 17, Shown: 17</div></div>"
      ]
     },
     "metadata": {},
     "output_type": "display_data"
    }
   ],
   "source": [
    "SELECT DISTINCT ?repr ?value\n",
    "{\n",
    "    {?word <http://www.w3.org/ns/lemon/ontolex#writtenRep> ?repr }\n",
    "    ?cf <http://www.w3.org/ns/lemon/ontolex#canonicalForm> ?word;\n",
    "        <http://www.w3.org/ns/lemon/ontolex#sense> ?sense.\n",
    "    ?sense <http://www.w3.org/ns/lemon/ontolex#isLexicalizedSenseOf> ?synset.\n",
    "    ?synset wn:definition [rdf:value ?value].\n",
    "    FILTER regex(?repr, \"^do$|^done$\")\n",
    "}\n",
    "ORDER BY ?repr"
   ]
  },
  {
   "cell_type": "markdown",
   "metadata": {},
   "source": [
    "## 按ID查询\n",
    "\n",
    "WordNet Identifiers\n",
    "\n",
    "+ words\n",
    "\n",
    "Words are identified by means of the following URI scheme: - 单词\n",
    "\n",
    "http://wordnet-rdf.princeton.edu/wn31/word-[nvarsp]\n",
    "\n",
    "Where [nvarsp] is the part-of-speech. \n",
    "\n",
    "+ synsets\n",
    "\n",
    "Similarly synsets are identified as follows - 同义词集\n",
    "\n",
    "http://wordnet-rdf.princeton.edu/id/[8 digit code]-[nvarsp]\n",
    "\n",
    "Where the 8-digit code is the identifier of the synset.\n"
   ]
  },
  {
   "cell_type": "code",
   "execution_count": 21,
   "metadata": {},
   "outputs": [
    {
     "data": {
      "text/html": [
       "<div class=\"krn-spql\"><table><tr class=hdr><th>s</th>\n",
       "<th>o</th></tr><tr class=odd><td class=val><a href=\"http://wordnet-rdf.princeton.edu/rdf/lemma/car#car-n\" target=\"_other\">http://wordnet-rdf.princeton.edu/rdf/lemma/car#car-n</a></td>\n",
       "<td class=val><a href=\"http://wordnet-rdf.princeton.edu/rdf/lemma/car#car-02961779-n\" target=\"_other\">http://wordnet-rdf.princeton.edu/rdf/lemma/car#car-02961779-n</a></td></tr><tr class=even><td class=val><a href=\"http://wordnet-rdf.princeton.edu/rdf/lemma/car#car-n\" target=\"_other\">http://wordnet-rdf.princeton.edu/rdf/lemma/car#car-n</a></td>\n",
       "<td class=val><a href=\"http://wordnet-rdf.princeton.edu/rdf/lemma/car#car-02937835-n\" target=\"_other\">http://wordnet-rdf.princeton.edu/rdf/lemma/car#car-02937835-n</a></td></tr><tr class=odd><td class=val><a href=\"http://wordnet-rdf.princeton.edu/rdf/lemma/car-ferry#car-ferry-n\" target=\"_other\">http://wordnet-rdf.princeton.edu/rdf/lemma/car-ferry#car-ferry-n</a></td>\n",
       "<td class=val><a href=\"http://wordnet-rdf.princeton.edu/rdf/lemma/car-ferry#car-ferry-02967747-n\" target=\"_other\">http://wordnet-rdf.princeton.edu/rdf/lemma/car-ferry#car-ferry-02967747-n</a></td></tr><tr class=even><td class=val><a href=\"http://wordnet-rdf.princeton.edu/rdf/lemma/car-mechanic#car-mechanic-n\" target=\"_other\">http://wordnet-rdf.princeton.edu/rdf/lemma/car-mechanic#car-mechanic-n</a></td>\n",
       "<td class=val><a href=\"http://wordnet-rdf.princeton.edu/rdf/lemma/car-mechanic#car-mechanic-09845152-n\" target=\"_other\">http://wordnet-rdf.princeton.edu/rdf/lemma/car-mechanic#car-mechanic-09845152-n</a></td></tr><tr class=odd><td class=val><a href=\"http://wordnet-rdf.princeton.edu/rdf/lemma/car#car-n\" target=\"_other\">http://wordnet-rdf.princeton.edu/rdf/lemma/car#car-n</a></td>\n",
       "<td class=val><a href=\"http://wordnet-rdf.princeton.edu/rdf/lemma/car#car-02963378-n\" target=\"_other\">http://wordnet-rdf.princeton.edu/rdf/lemma/car#car-02963378-n</a></td></tr><tr class=even><td class=val><a href=\"http://wordnet-rdf.princeton.edu/rdf/lemma/car#car-n\" target=\"_other\">http://wordnet-rdf.princeton.edu/rdf/lemma/car#car-n</a></td>\n",
       "<td class=val><a href=\"http://wordnet-rdf.princeton.edu/rdf/lemma/car#car-02963937-n\" target=\"_other\">http://wordnet-rdf.princeton.edu/rdf/lemma/car#car-02963937-n</a></td></tr><tr class=odd><td class=val><a href=\"http://wordnet-rdf.princeton.edu/rdf/lemma/car#car-n\" target=\"_other\">http://wordnet-rdf.princeton.edu/rdf/lemma/car#car-n</a></td>\n",
       "<td class=val><a href=\"http://wordnet-rdf.princeton.edu/rdf/lemma/car#car-02963788-n\" target=\"_other\">http://wordnet-rdf.princeton.edu/rdf/lemma/car#car-02963788-n</a></td></tr></table><div class=\"tinfo\">Total: 7, Shown: 7</div></div>"
      ]
     },
     "metadata": {},
     "output_type": "display_data"
    }
   ],
   "source": [
    "# 按sense属性查询: 比较慢\n",
    "SELECT ?s ?o \n",
    "{\n",
    "    ?s <http://www.w3.org/ns/lemon/ontolex#sense> ?o\n",
    "    bind(STR(?s) AS ?strs).\n",
    "    FILTER contains(?strs, \"#car-\")\n",
    "}"
   ]
  },
  {
   "cell_type": "code",
   "execution_count": 8,
   "metadata": {},
   "outputs": [
    {
     "data": {
      "text/html": [
       "<div class=\"krn-spql\"><table><tr class=hdr><th>subject</th>\n",
       "<th>predicate</th>\n",
       "<th>object</th></tr><tr class=odd><td class=val>f2fb704d98ab04e7d9e69df710de7bfe9b5</td>\n",
       "<td class=val><a href=\"http://www.w3.org/ns/lemon/ontolex#writtenRep\" target=\"_other\">http://www.w3.org/ns/lemon/ontolex#writtenRep</a></td>\n",
       "<td class=val>car</td></tr><tr class=even><td class=val>f2fb704d98ab04e7d9e69df710de7bfe9b2</td>\n",
       "<td class=val><a href=\"http://www.w3.org/ns/lemon/ontolex#writtenRep\" target=\"_other\">http://www.w3.org/ns/lemon/ontolex#writtenRep</a></td>\n",
       "<td class=val>car</td></tr><tr class=odd><td class=val><a href=\"http://wordnet-rdf.princeton.edu/rdf/lemma/car#car-n\" target=\"_other\">http://wordnet-rdf.princeton.edu/rdf/lemma/car#car-n</a></td>\n",
       "<td class=val><a href=\"http://www.w3.org/ns/lemon/ontolex#sense\" target=\"_other\">http://www.w3.org/ns/lemon/ontolex#sense</a></td>\n",
       "<td class=val><a href=\"http://wordnet-rdf.princeton.edu/rdf/lemma/car#car-02963937-n\" target=\"_other\">http://wordnet-rdf.princeton.edu/rdf/lemma/car#car-02963937-n</a></td></tr><tr class=even><td class=val><a href=\"http://wordnet-rdf.princeton.edu/rdf/lemma/car#car-n\" target=\"_other\">http://wordnet-rdf.princeton.edu/rdf/lemma/car#car-n</a></td>\n",
       "<td class=val><a href=\"http://www.w3.org/ns/lemon/ontolex#canonicalForm\" target=\"_other\">http://www.w3.org/ns/lemon/ontolex#canonicalForm</a></td>\n",
       "<td class=val>f2fb704d98ab04e7d9e69df710de7bfe9b5</td></tr><tr class=odd><td class=val><a href=\"http://wordnet-rdf.princeton.edu/rdf/lemma/car#car-n\" target=\"_other\">http://wordnet-rdf.princeton.edu/rdf/lemma/car#car-n</a></td>\n",
       "<td class=val><a href=\"http://www.w3.org/ns/lemon/ontolex#sense\" target=\"_other\">http://www.w3.org/ns/lemon/ontolex#sense</a></td>\n",
       "<td class=val><a href=\"http://wordnet-rdf.princeton.edu/rdf/lemma/car#car-02963788-n\" target=\"_other\">http://wordnet-rdf.princeton.edu/rdf/lemma/car#car-02963788-n</a></td></tr><tr class=even><td class=val>f2fb704d98ab04e7d9e69df710de7bfe9b1</td>\n",
       "<td class=val><a href=\"http://www.w3.org/ns/lemon/ontolex#writtenRep\" target=\"_other\">http://www.w3.org/ns/lemon/ontolex#writtenRep</a></td>\n",
       "<td class=val>car</td></tr><tr class=odd><td class=val><a href=\"http://wordnet-rdf.princeton.edu/rdf/lemma/car#car-n\" target=\"_other\">http://wordnet-rdf.princeton.edu/rdf/lemma/car#car-n</a></td>\n",
       "<td class=val><a href=\"http://www.w3.org/ns/lemon/ontolex#canonicalForm\" target=\"_other\">http://www.w3.org/ns/lemon/ontolex#canonicalForm</a></td>\n",
       "<td class=val>f2fb704d98ab04e7d9e69df710de7bfe9b1</td></tr><tr class=even><td class=val>f2fb704d98ab04e7d9e69df710de7bfe9b4</td>\n",
       "<td class=val><a href=\"http://www.w3.org/ns/lemon/ontolex#writtenRep\" target=\"_other\">http://www.w3.org/ns/lemon/ontolex#writtenRep</a></td>\n",
       "<td class=val>car</td></tr><tr class=odd><td class=val>f2fb704d98ab04e7d9e69df710de7bfe9b3</td>\n",
       "<td class=val><a href=\"http://www.w3.org/ns/lemon/ontolex#writtenRep\" target=\"_other\">http://www.w3.org/ns/lemon/ontolex#writtenRep</a></td>\n",
       "<td class=val>car</td></tr><tr class=even><td class=val><a href=\"http://wordnet-rdf.princeton.edu/rdf/lemma/car#car-n\" target=\"_other\">http://wordnet-rdf.princeton.edu/rdf/lemma/car#car-n</a></td>\n",
       "<td class=val><a href=\"http://www.w3.org/ns/lemon/ontolex#sense\" target=\"_other\">http://www.w3.org/ns/lemon/ontolex#sense</a></td>\n",
       "<td class=val><a href=\"http://wordnet-rdf.princeton.edu/rdf/lemma/car#car-02961779-n\" target=\"_other\">http://wordnet-rdf.princeton.edu/rdf/lemma/car#car-02961779-n</a></td></tr><tr class=odd><td class=val><a href=\"http://wordnet-rdf.princeton.edu/rdf/lemma/car#car-n\" target=\"_other\">http://wordnet-rdf.princeton.edu/rdf/lemma/car#car-n</a></td>\n",
       "<td class=val><a href=\"http://www.w3.org/ns/lemon/ontolex#sense\" target=\"_other\">http://www.w3.org/ns/lemon/ontolex#sense</a></td>\n",
       "<td class=val><a href=\"http://wordnet-rdf.princeton.edu/rdf/lemma/car#car-02963378-n\" target=\"_other\">http://wordnet-rdf.princeton.edu/rdf/lemma/car#car-02963378-n</a></td></tr><tr class=even><td class=val><a href=\"http://wordnet-rdf.princeton.edu/rdf/lemma/car#car-n\" target=\"_other\">http://wordnet-rdf.princeton.edu/rdf/lemma/car#car-n</a></td>\n",
       "<td class=val><a href=\"http://wordnet-rdf.princeton.edu/ontology#partOfSpeech\" target=\"_other\">http://wordnet-rdf.princeton.edu/ontology#partOfSpeech</a></td>\n",
       "<td class=val><a href=\"http://wordnet-rdf.princeton.edu/ontology#noun\" target=\"_other\">http://wordnet-rdf.princeton.edu/ontology#noun</a></td></tr><tr class=odd><td class=val><a href=\"http://wordnet-rdf.princeton.edu/rdf/lemma/car#car-n\" target=\"_other\">http://wordnet-rdf.princeton.edu/rdf/lemma/car#car-n</a></td>\n",
       "<td class=val><a href=\"http://www.w3.org/ns/lemon/ontolex#canonicalForm\" target=\"_other\">http://www.w3.org/ns/lemon/ontolex#canonicalForm</a></td>\n",
       "<td class=val>f2fb704d98ab04e7d9e69df710de7bfe9b4</td></tr><tr class=even><td class=val><a href=\"http://wordnet-rdf.princeton.edu/rdf/lemma/car#car-n\" target=\"_other\">http://wordnet-rdf.princeton.edu/rdf/lemma/car#car-n</a></td>\n",
       "<td class=val><a href=\"http://www.w3.org/ns/lemon/ontolex#canonicalForm\" target=\"_other\">http://www.w3.org/ns/lemon/ontolex#canonicalForm</a></td>\n",
       "<td class=val>f2fb704d98ab04e7d9e69df710de7bfe9b2</td></tr><tr class=odd><td class=val><a href=\"http://wordnet-rdf.princeton.edu/rdf/lemma/car#car-n\" target=\"_other\">http://wordnet-rdf.princeton.edu/rdf/lemma/car#car-n</a></td>\n",
       "<td class=val><a href=\"http://www.w3.org/1999/02/22-rdf-syntax-ns#type\" target=\"_other\">http://www.w3.org/1999/02/22-rdf-syntax-ns#type</a></td>\n",
       "<td class=val><a href=\"http://www.w3.org/ns/lemon/ontolex#LexicalEntry\" target=\"_other\">http://www.w3.org/ns/lemon/ontolex#LexicalEntry</a></td></tr><tr class=even><td class=val><a href=\"http://wordnet-rdf.princeton.edu/rdf/lemma/car#car-n\" target=\"_other\">http://wordnet-rdf.princeton.edu/rdf/lemma/car#car-n</a></td>\n",
       "<td class=val><a href=\"http://www.w3.org/ns/lemon/ontolex#canonicalForm\" target=\"_other\">http://www.w3.org/ns/lemon/ontolex#canonicalForm</a></td>\n",
       "<td class=val>f2fb704d98ab04e7d9e69df710de7bfe9b3</td></tr><tr class=odd><td class=val><a href=\"http://wordnet-rdf.princeton.edu/rdf/lemma/car#car-n\" target=\"_other\">http://wordnet-rdf.princeton.edu/rdf/lemma/car#car-n</a></td>\n",
       "<td class=val><a href=\"http://www.w3.org/ns/lemon/ontolex#sense\" target=\"_other\">http://www.w3.org/ns/lemon/ontolex#sense</a></td>\n",
       "<td class=val><a href=\"http://wordnet-rdf.princeton.edu/rdf/lemma/car#car-02937835-n\" target=\"_other\">http://wordnet-rdf.princeton.edu/rdf/lemma/car#car-02937835-n</a></td></tr></table><div class=\"tinfo\">Shown: all, Total rows: 17</div></div>"
      ]
     },
     "metadata": {},
     "output_type": "display_data"
    }
   ],
   "source": [
    "DESCRIBE <http://wordnet-rdf.princeton.edu/rdf/lemma/car#car-n>"
   ]
  },
  {
   "cell_type": "code",
   "execution_count": 15,
   "metadata": {},
   "outputs": [
    {
     "data": {
      "text/html": [
       "<div class=\"krn-spql\"><table><tr class=hdr><th>subject</th>\n",
       "<th>predicate</th>\n",
       "<th>object</th></tr><tr class=odd><td class=val>f19470e6fe0af469aa8d34324921c104db1</td>\n",
       "<td class=val><a href=\"http://www.w3.org/ns/lemon/ontolex#writtenRep\" target=\"_other\">http://www.w3.org/ns/lemon/ontolex#writtenRep</a></td>\n",
       "<td class=val>car</td></tr><tr class=even><td class=val>f19470e6fe0af469aa8d34324921c104db5</td>\n",
       "<td class=val><a href=\"http://www.w3.org/ns/lemon/ontolex#writtenRep\" target=\"_other\">http://www.w3.org/ns/lemon/ontolex#writtenRep</a></td>\n",
       "<td class=val>car</td></tr><tr class=odd><td class=val>f19470e6fe0af469aa8d34324921c104db2</td>\n",
       "<td class=val><a href=\"http://www.w3.org/ns/lemon/ontolex#writtenRep\" target=\"_other\">http://www.w3.org/ns/lemon/ontolex#writtenRep</a></td>\n",
       "<td class=val>car</td></tr><tr class=even><td class=val>f19470e6fe0af469aa8d34324921c104db3</td>\n",
       "<td class=val><a href=\"http://www.w3.org/ns/lemon/ontolex#writtenRep\" target=\"_other\">http://www.w3.org/ns/lemon/ontolex#writtenRep</a></td>\n",
       "<td class=val>car</td></tr><tr class=odd><td class=val>f19470e6fe0af469aa8d34324921c104db4</td>\n",
       "<td class=val><a href=\"http://www.w3.org/ns/lemon/ontolex#writtenRep\" target=\"_other\">http://www.w3.org/ns/lemon/ontolex#writtenRep</a></td>\n",
       "<td class=val>car</td></tr></table><div class=\"tinfo\">Shown: all, Total rows: 5</div></div>"
      ]
     },
     "metadata": {},
     "output_type": "display_data"
    }
   ],
   "source": [
    "DESCRIBE ?word\n",
    "{\n",
    " <http://wordnet-rdf.princeton.edu/rdf/lemma/car#car-n> <http://www.w3.org/ns/lemon/ontolex#canonicalForm> ?word  \n",
    "}\n"
   ]
  },
  {
   "cell_type": "code",
   "execution_count": 9,
   "metadata": {},
   "outputs": [
    {
     "data": {
      "text/html": [
       "<div class=\"krn-spql\"><table><tr class=hdr><th>subject</th>\n",
       "<th>predicate</th>\n",
       "<th>object</th></tr><tr class=odd><td class=val><a href=\"http://wordnet-rdf.princeton.edu/rdf/lemma/car#car-02961779-n\" target=\"_other\">http://wordnet-rdf.princeton.edu/rdf/lemma/car#car-02961779-n</a></td>\n",
       "<td class=val><a href=\"http://www.w3.org/1999/02/22-rdf-syntax-ns#type\" target=\"_other\">http://www.w3.org/1999/02/22-rdf-syntax-ns#type</a></td>\n",
       "<td class=val><a href=\"http://www.w3.org/ns/lemon/ontolex#LexicalSense\" target=\"_other\">http://www.w3.org/ns/lemon/ontolex#LexicalSense</a></td></tr><tr class=even><td class=val><a href=\"http://wordnet-rdf.princeton.edu/rdf/lemma/car#car-02961779-n\" target=\"_other\">http://wordnet-rdf.princeton.edu/rdf/lemma/car#car-02961779-n</a></td>\n",
       "<td class=val><a href=\"http://www.w3.org/ns/lemon/ontolex#isLexicalizedSenseOf\" target=\"_other\">http://www.w3.org/ns/lemon/ontolex#isLexicalizedSenseOf</a></td>\n",
       "<td class=val><a href=\"http://wordnet-rdf.princeton.edu/id/02961779-n\" target=\"_other\">http://wordnet-rdf.princeton.edu/id/02961779-n</a></td></tr></table><div class=\"tinfo\">Shown: all, Total rows: 2</div></div>"
      ]
     },
     "metadata": {},
     "output_type": "display_data"
    }
   ],
   "source": [
    "# sense\n",
    "DESCRIBE <http://wordnet-rdf.princeton.edu/rdf/lemma/car#car-02961779-n>"
   ]
  },
  {
   "cell_type": "code",
   "execution_count": 10,
   "metadata": {},
   "outputs": [
    {
     "data": {
      "text/html": [
       "<div class=\"krn-spql\"><table><tr class=hdr><th>subject</th>\n",
       "<th>predicate</th>\n",
       "<th>object</th></tr><tr class=odd><td class=val><a href=\"http://wordnet-rdf.princeton.edu/id/02961779-n\" target=\"_other\">http://wordnet-rdf.princeton.edu/id/02961779-n</a></td>\n",
       "<td class=val><a href=\"http://wordnet-rdf.princeton.edu/ontology#mero_part\" target=\"_other\">http://wordnet-rdf.princeton.edu/ontology#mero_part</a></td>\n",
       "<td class=val><a href=\"http://wordnet-rdf.princeton.edu/id/02764839-n\" target=\"_other\">http://wordnet-rdf.princeton.edu/id/02764839-n</a></td></tr><tr class=even><td class=val><a href=\"http://wordnet-rdf.princeton.edu/id/02961779-n\" target=\"_other\">http://wordnet-rdf.princeton.edu/id/02961779-n</a></td>\n",
       "<td class=val><a href=\"http://wordnet-rdf.princeton.edu/ontology#mero_part\" target=\"_other\">http://wordnet-rdf.princeton.edu/ontology#mero_part</a></td>\n",
       "<td class=val><a href=\"http://wordnet-rdf.princeton.edu/id/02688224-n\" target=\"_other\">http://wordnet-rdf.princeton.edu/id/02688224-n</a></td></tr><tr class=odd><td class=val><a href=\"http://wordnet-rdf.princeton.edu/id/02961779-n\" target=\"_other\">http://wordnet-rdf.princeton.edu/id/02961779-n</a></td>\n",
       "<td class=val><a href=\"http://wordnet-rdf.princeton.edu/ontology#hyponym\" target=\"_other\">http://wordnet-rdf.princeton.edu/ontology#hyponym</a></td>\n",
       "<td class=val><a href=\"http://wordnet-rdf.princeton.edu/id/04330062-n\" target=\"_other\">http://wordnet-rdf.princeton.edu/id/04330062-n</a></td></tr><tr class=even><td class=val><a href=\"http://wordnet-rdf.princeton.edu/id/02961779-n\" target=\"_other\">http://wordnet-rdf.princeton.edu/id/02961779-n</a></td>\n",
       "<td class=val><a href=\"http://www.w3.org/2002/07/owl#sameAs\" target=\"_other\">http://www.w3.org/2002/07/owl#sameAs</a></td>\n",
       "<td class=val><a href=\"http://ili.globalwordnet.org/ili/i51496\" target=\"_other\">http://ili.globalwordnet.org/ili/i51496</a></td></tr><tr class=odd><td class=val><a href=\"http://wordnet-rdf.princeton.edu/id/02961779-n\" target=\"_other\">http://wordnet-rdf.princeton.edu/id/02961779-n</a></td>\n",
       "<td class=val><a href=\"http://wordnet-rdf.princeton.edu/ontology#hyponym\" target=\"_other\">http://wordnet-rdf.princeton.edu/ontology#hyponym</a></td>\n",
       "<td class=val><a href=\"http://wordnet-rdf.princeton.edu/id/02703861-n\" target=\"_other\">http://wordnet-rdf.princeton.edu/id/02703861-n</a></td></tr><tr class=even><td class=val><a href=\"http://wordnet-rdf.princeton.edu/id/02961779-n\" target=\"_other\">http://wordnet-rdf.princeton.edu/id/02961779-n</a></td>\n",
       "<td class=val><a href=\"http://wordnet-rdf.princeton.edu/ontology#mero_part\" target=\"_other\">http://wordnet-rdf.princeton.edu/ontology#mero_part</a></td>\n",
       "<td class=val><a href=\"http://wordnet-rdf.princeton.edu/id/03354857-n\" target=\"_other\">http://wordnet-rdf.princeton.edu/id/03354857-n</a></td></tr><tr class=odd><td class=val><a href=\"http://wordnet-rdf.princeton.edu/id/02961779-n\" target=\"_other\">http://wordnet-rdf.princeton.edu/id/02961779-n</a></td>\n",
       "<td class=val><a href=\"http://wordnet-rdf.princeton.edu/ontology#has_domain_topic\" target=\"_other\">http://wordnet-rdf.princeton.edu/ontology#has_domain_topic</a></td>\n",
       "<td class=val><a href=\"http://wordnet-rdf.princeton.edu/id/01565408-v\" target=\"_other\">http://wordnet-rdf.princeton.edu/id/01565408-v</a></td></tr><tr class=even><td class=val><a href=\"http://wordnet-rdf.princeton.edu/id/02961779-n\" target=\"_other\">http://wordnet-rdf.princeton.edu/id/02961779-n</a></td>\n",
       "<td class=val><a href=\"http://wordnet-rdf.princeton.edu/ontology#has_domain_topic\" target=\"_other\">http://wordnet-rdf.princeton.edu/ontology#has_domain_topic</a></td>\n",
       "<td class=val><a href=\"http://wordnet-rdf.princeton.edu/id/10423621-n\" target=\"_other\">http://wordnet-rdf.princeton.edu/id/10423621-n</a></td></tr><tr class=odd><td class=val><a href=\"http://wordnet-rdf.princeton.edu/id/02961779-n\" target=\"_other\">http://wordnet-rdf.princeton.edu/id/02961779-n</a></td>\n",
       "<td class=val><a href=\"http://wordnet-rdf.princeton.edu/ontology#hyponym\" target=\"_other\">http://wordnet-rdf.princeton.edu/ontology#hyponym</a></td>\n",
       "<td class=val><a href=\"http://wordnet-rdf.princeton.edu/id/02934150-n\" target=\"_other\">http://wordnet-rdf.princeton.edu/id/02934150-n</a></td></tr><tr class=even><td class=val><a href=\"http://wordnet-rdf.princeton.edu/id/02961779-n\" target=\"_other\">http://wordnet-rdf.princeton.edu/id/02961779-n</a></td>\n",
       "<td class=val><a href=\"http://wordnet-rdf.princeton.edu/ontology#mero_part\" target=\"_other\">http://wordnet-rdf.princeton.edu/ontology#mero_part</a></td>\n",
       "<td class=val><a href=\"http://wordnet-rdf.princeton.edu/id/02914504-n\" target=\"_other\">http://wordnet-rdf.princeton.edu/id/02914504-n</a></td></tr><tr class=odd><td class=val><a href=\"http://wordnet-rdf.princeton.edu/id/02961779-n\" target=\"_other\">http://wordnet-rdf.princeton.edu/id/02961779-n</a></td>\n",
       "<td class=val><a href=\"http://wordnet-rdf.princeton.edu/ontology#hyponym\" target=\"_other\">http://wordnet-rdf.princeton.edu/ontology#hyponym</a></td>\n",
       "<td class=val><a href=\"http://wordnet-rdf.princeton.edu/id/03600138-n\" target=\"_other\">http://wordnet-rdf.princeton.edu/id/03600138-n</a></td></tr><tr class=even><td class=val><a href=\"http://wordnet-rdf.princeton.edu/id/02961779-n\" target=\"_other\">http://wordnet-rdf.princeton.edu/id/02961779-n</a></td>\n",
       "<td class=val><a href=\"http://wordnet-rdf.princeton.edu/ontology#has_domain_topic\" target=\"_other\">http://wordnet-rdf.princeton.edu/ontology#has_domain_topic</a></td>\n",
       "<td class=val><a href=\"http://wordnet-rdf.princeton.edu/id/13266745-n\" target=\"_other\">http://wordnet-rdf.princeton.edu/id/13266745-n</a></td></tr><tr class=odd><td class=val><a href=\"http://wordnet-rdf.princeton.edu/id/02961779-n\" target=\"_other\">http://wordnet-rdf.princeton.edu/id/02961779-n</a></td>\n",
       "<td class=val><a href=\"http://wordnet-rdf.princeton.edu/ontology#mero_part\" target=\"_other\">http://wordnet-rdf.princeton.edu/ontology#mero_part</a></td>\n",
       "<td class=val><a href=\"http://wordnet-rdf.princeton.edu/id/03332786-n\" target=\"_other\">http://wordnet-rdf.princeton.edu/id/03332786-n</a></td></tr><tr class=even><td class=val><a href=\"http://wordnet-rdf.princeton.edu/id/02961779-n\" target=\"_other\">http://wordnet-rdf.princeton.edu/id/02961779-n</a></td>\n",
       "<td class=val><a href=\"http://wordnet-rdf.princeton.edu/ontology#mero_part\" target=\"_other\">http://wordnet-rdf.princeton.edu/ontology#mero_part</a></td>\n",
       "<td class=val><a href=\"http://wordnet-rdf.princeton.edu/id/04595668-n\" target=\"_other\">http://wordnet-rdf.princeton.edu/id/04595668-n</a></td></tr><tr class=odd><td class=val><a href=\"http://wordnet-rdf.princeton.edu/id/02961779-n\" target=\"_other\">http://wordnet-rdf.princeton.edu/id/02961779-n</a></td>\n",
       "<td class=val><a href=\"http://wordnet-rdf.princeton.edu/ontology#mero_part\" target=\"_other\">http://wordnet-rdf.princeton.edu/ontology#mero_part</a></td>\n",
       "<td class=val><a href=\"http://wordnet-rdf.princeton.edu/id/04092129-n\" target=\"_other\">http://wordnet-rdf.princeton.edu/id/04092129-n</a></td></tr><tr class=even><td class=val><a href=\"http://wordnet-rdf.princeton.edu/id/02961779-n\" target=\"_other\">http://wordnet-rdf.princeton.edu/id/02961779-n</a></td>\n",
       "<td class=val><a href=\"http://wordnet-rdf.princeton.edu/ontology#hyponym\" target=\"_other\">http://wordnet-rdf.princeton.edu/ontology#hyponym</a></td>\n",
       "<td class=val><a href=\"http://wordnet-rdf.princeton.edu/id/04292146-n\" target=\"_other\">http://wordnet-rdf.princeton.edu/id/04292146-n</a></td></tr><tr class=odd><td class=val><a href=\"http://wordnet-rdf.princeton.edu/id/02961779-n\" target=\"_other\">http://wordnet-rdf.princeton.edu/id/02961779-n</a></td>\n",
       "<td class=val><a href=\"http://wordnet-rdf.princeton.edu/ontology#hyponym\" target=\"_other\">http://wordnet-rdf.princeton.edu/ontology#hyponym</a></td>\n",
       "<td class=val><a href=\"http://wordnet-rdf.princeton.edu/id/03083140-n\" target=\"_other\">http://wordnet-rdf.princeton.edu/id/03083140-n</a></td></tr><tr class=even><td class=val><a href=\"http://wordnet-rdf.princeton.edu/id/02961779-n\" target=\"_other\">http://wordnet-rdf.princeton.edu/id/02961779-n</a></td>\n",
       "<td class=val><a href=\"http://wordnet-rdf.princeton.edu/ontology#mero_part\" target=\"_other\">http://wordnet-rdf.princeton.edu/ontology#mero_part</a></td>\n",
       "<td class=val><a href=\"http://wordnet-rdf.princeton.edu/id/02969235-n\" target=\"_other\">http://wordnet-rdf.princeton.edu/id/02969235-n</a></td></tr><tr class=odd><td class=val><a href=\"http://wordnet-rdf.princeton.edu/id/02961779-n\" target=\"_other\">http://wordnet-rdf.princeton.edu/id/02961779-n</a></td>\n",
       "<td class=val><a href=\"http://wordnet-rdf.princeton.edu/ontology#hyponym\" target=\"_other\">http://wordnet-rdf.princeton.edu/ontology#hyponym</a></td>\n",
       "<td class=val><a href=\"http://wordnet-rdf.princeton.edu/id/04104467-n\" target=\"_other\">http://wordnet-rdf.princeton.edu/id/04104467-n</a></td></tr><tr class=even><td class=val><a href=\"http://wordnet-rdf.princeton.edu/id/02961779-n\" target=\"_other\">http://wordnet-rdf.princeton.edu/id/02961779-n</a></td>\n",
       "<td class=val><a href=\"http://wordnet-rdf.princeton.edu/ontology#hyponym\" target=\"_other\">http://wordnet-rdf.princeton.edu/ontology#hyponym</a></td>\n",
       "<td class=val><a href=\"http://wordnet-rdf.princeton.edu/id/04354197-n\" target=\"_other\">http://wordnet-rdf.princeton.edu/id/04354197-n</a></td></tr><tr class=odd><td class=val><a href=\"http://wordnet-rdf.princeton.edu/id/02961779-n\" target=\"_other\">http://wordnet-rdf.princeton.edu/id/02961779-n</a></td>\n",
       "<td class=val><a href=\"http://wordnet-rdf.princeton.edu/ontology#mero_part\" target=\"_other\">http://wordnet-rdf.princeton.edu/ontology#mero_part</a></td>\n",
       "<td class=val><a href=\"http://wordnet-rdf.princeton.edu/id/03371567-n\" target=\"_other\">http://wordnet-rdf.princeton.edu/id/03371567-n</a></td></tr><tr class=even><td class=val><a href=\"http://wordnet-rdf.princeton.edu/id/02961779-n\" target=\"_other\">http://wordnet-rdf.princeton.edu/id/02961779-n</a></td>\n",
       "<td class=val><a href=\"http://wordnet-rdf.princeton.edu/ontology#has_domain_topic\" target=\"_other\">http://wordnet-rdf.princeton.edu/ontology#has_domain_topic</a></td>\n",
       "<td class=val><a href=\"http://wordnet-rdf.princeton.edu/id/01113280-n\" target=\"_other\">http://wordnet-rdf.princeton.edu/id/01113280-n</a></td></tr><tr class=odd><td class=val><a href=\"http://wordnet-rdf.princeton.edu/id/02961779-n\" target=\"_other\">http://wordnet-rdf.princeton.edu/id/02961779-n</a></td>\n",
       "<td class=val><a href=\"http://wordnet-rdf.princeton.edu/ontology#hyponym\" target=\"_other\">http://wordnet-rdf.princeton.edu/ontology#hyponym</a></td>\n",
       "<td class=val><a href=\"http://wordnet-rdf.princeton.edu/id/03875783-n\" target=\"_other\">http://wordnet-rdf.princeton.edu/id/03875783-n</a></td></tr><tr class=even><td class=val><a href=\"http://wordnet-rdf.princeton.edu/id/02961779-n\" target=\"_other\">http://wordnet-rdf.princeton.edu/id/02961779-n</a></td>\n",
       "<td class=val><a href=\"http://wordnet-rdf.princeton.edu/ontology#hyponym\" target=\"_other\">http://wordnet-rdf.princeton.edu/ontology#hyponym</a></td>\n",
       "<td class=val><a href=\"http://wordnet-rdf.princeton.edu/id/03544283-n\" target=\"_other\">http://wordnet-rdf.princeton.edu/id/03544283-n</a></td></tr><tr class=odd><td class=val><a href=\"http://wordnet-rdf.princeton.edu/id/02961779-n\" target=\"_other\">http://wordnet-rdf.princeton.edu/id/02961779-n</a></td>\n",
       "<td class=val><a href=\"http://wordnet-rdf.princeton.edu/ontology#has_domain_topic\" target=\"_other\">http://wordnet-rdf.princeton.edu/ontology#has_domain_topic</a></td>\n",
       "<td class=val><a href=\"http://wordnet-rdf.princeton.edu/id/04216878-n\" target=\"_other\">http://wordnet-rdf.princeton.edu/id/04216878-n</a></td></tr><tr class=even><td class=val><a href=\"http://wordnet-rdf.princeton.edu/id/02961779-n\" target=\"_other\">http://wordnet-rdf.princeton.edu/id/02961779-n</a></td>\n",
       "<td class=val><a href=\"http://wordnet-rdf.princeton.edu/ontology#hyponym\" target=\"_other\">http://wordnet-rdf.princeton.edu/ontology#hyponym</a></td>\n",
       "<td class=val><a href=\"http://wordnet-rdf.princeton.edu/id/03498320-n\" target=\"_other\">http://wordnet-rdf.princeton.edu/id/03498320-n</a></td></tr><tr class=odd><td class=val><a href=\"http://wordnet-rdf.princeton.edu/id/02961779-n\" target=\"_other\">http://wordnet-rdf.princeton.edu/id/02961779-n</a></td>\n",
       "<td class=val><a href=\"http://wordnet-rdf.princeton.edu/ontology#mero_part\" target=\"_other\">http://wordnet-rdf.princeton.edu/ontology#mero_part</a></td>\n",
       "<td class=val><a href=\"http://wordnet-rdf.princeton.edu/id/02921979-n\" target=\"_other\">http://wordnet-rdf.princeton.edu/id/02921979-n</a></td></tr><tr class=even><td class=val><a href=\"http://wordnet-rdf.princeton.edu/id/02961779-n\" target=\"_other\">http://wordnet-rdf.princeton.edu/id/02961779-n</a></td>\n",
       "<td class=val><a href=\"http://wordnet-rdf.princeton.edu/ontology#hyponym\" target=\"_other\">http://wordnet-rdf.princeton.edu/ontology#hyponym</a></td>\n",
       "<td class=val><a href=\"http://wordnet-rdf.princeton.edu/id/03273701-n\" target=\"_other\">http://wordnet-rdf.princeton.edu/id/03273701-n</a></td></tr><tr class=odd><td class=val><a href=\"http://wordnet-rdf.princeton.edu/id/02961779-n\" target=\"_other\">http://wordnet-rdf.princeton.edu/id/02961779-n</a></td>\n",
       "<td class=val><a href=\"http://wordnet-rdf.princeton.edu/ontology#hyponym\" target=\"_other\">http://wordnet-rdf.princeton.edu/ontology#hyponym</a></td>\n",
       "<td class=val><a href=\"http://wordnet-rdf.princeton.edu/id/03124047-n\" target=\"_other\">http://wordnet-rdf.princeton.edu/id/03124047-n</a></td></tr><tr class=even><td class=val><a href=\"http://wordnet-rdf.princeton.edu/id/02961779-n\" target=\"_other\">http://wordnet-rdf.princeton.edu/id/02961779-n</a></td>\n",
       "<td class=val><a href=\"http://wordnet-rdf.princeton.edu/ontology#hypernym\" target=\"_other\">http://wordnet-rdf.princeton.edu/ontology#hypernym</a></td>\n",
       "<td class=val><a href=\"http://wordnet-rdf.princeton.edu/id/03796768-n\" target=\"_other\">http://wordnet-rdf.princeton.edu/id/03796768-n</a></td></tr><tr class=odd><td class=val><a href=\"http://wordnet-rdf.princeton.edu/id/02961779-n\" target=\"_other\">http://wordnet-rdf.princeton.edu/id/02961779-n</a></td>\n",
       "<td class=val><a href=\"http://wordnet-rdf.princeton.edu/ontology#mero_part\" target=\"_other\">http://wordnet-rdf.princeton.edu/ontology#mero_part</a></td>\n",
       "<td class=val><a href=\"http://wordnet-rdf.princeton.edu/id/04301752-n\" target=\"_other\">http://wordnet-rdf.princeton.edu/id/04301752-n</a></td></tr><tr class=even><td class=val><a href=\"http://wordnet-rdf.princeton.edu/id/02961779-n\" target=\"_other\">http://wordnet-rdf.princeton.edu/id/02961779-n</a></td>\n",
       "<td class=val><a href=\"http://wordnet-rdf.princeton.edu/ontology#mero_part\" target=\"_other\">http://wordnet-rdf.princeton.edu/ontology#mero_part</a></td>\n",
       "<td class=val><a href=\"http://wordnet-rdf.princeton.edu/id/03523794-n\" target=\"_other\">http://wordnet-rdf.princeton.edu/id/03523794-n</a></td></tr><tr class=odd><td class=val><a href=\"http://wordnet-rdf.princeton.edu/id/02961779-n\" target=\"_other\">http://wordnet-rdf.princeton.edu/id/02961779-n</a></td>\n",
       "<td class=val><a href=\"http://wordnet-rdf.princeton.edu/ontology#hyponym\" target=\"_other\">http://wordnet-rdf.princeton.edu/ontology#hyponym</a></td>\n",
       "<td class=val><a href=\"http://wordnet-rdf.princeton.edu/id/04523649-n\" target=\"_other\">http://wordnet-rdf.princeton.edu/id/04523649-n</a></td></tr><tr class=even><td class=val><a href=\"http://wordnet-rdf.princeton.edu/id/02961779-n\" target=\"_other\">http://wordnet-rdf.princeton.edu/id/02961779-n</a></td>\n",
       "<td class=val><a href=\"http://wordnet-rdf.princeton.edu/ontology#mero_part\" target=\"_other\">http://wordnet-rdf.princeton.edu/ontology#mero_part</a></td>\n",
       "<td class=val><a href=\"http://wordnet-rdf.princeton.edu/id/03429540-n\" target=\"_other\">http://wordnet-rdf.princeton.edu/id/03429540-n</a></td></tr><tr class=odd><td class=val><a href=\"http://wordnet-rdf.princeton.edu/id/02961779-n\" target=\"_other\">http://wordnet-rdf.princeton.edu/id/02961779-n</a></td>\n",
       "<td class=val><a href=\"http://wordnet-rdf.princeton.edu/ontology#hyponym\" target=\"_other\">http://wordnet-rdf.princeton.edu/ontology#hyponym</a></td>\n",
       "<td class=val><a href=\"http://wordnet-rdf.princeton.edu/id/03104891-n\" target=\"_other\">http://wordnet-rdf.princeton.edu/id/03104891-n</a></td></tr><tr class=even><td class=val><a href=\"http://wordnet-rdf.princeton.edu/id/02961779-n\" target=\"_other\">http://wordnet-rdf.princeton.edu/id/02961779-n</a></td>\n",
       "<td class=val><a href=\"http://wordnet-rdf.princeton.edu/ontology#hyponym\" target=\"_other\">http://wordnet-rdf.princeton.edu/ontology#hyponym</a></td>\n",
       "<td class=val><a href=\"http://wordnet-rdf.princeton.edu/id/02927938-n\" target=\"_other\">http://wordnet-rdf.princeton.edu/id/02927938-n</a></td></tr><tr class=odd><td class=val><a href=\"http://wordnet-rdf.princeton.edu/id/02961779-n\" target=\"_other\">http://wordnet-rdf.princeton.edu/id/02961779-n</a></td>\n",
       "<td class=val><a href=\"http://wordnet-rdf.princeton.edu/ontology#has_domain_topic\" target=\"_other\">http://wordnet-rdf.princeton.edu/ontology#has_domain_topic</a></td>\n",
       "<td class=val><a href=\"http://wordnet-rdf.princeton.edu/id/04276196-n\" target=\"_other\">http://wordnet-rdf.princeton.edu/id/04276196-n</a></td></tr><tr class=even><td class=val><a href=\"http://wordnet-rdf.princeton.edu/id/02961779-n\" target=\"_other\">http://wordnet-rdf.princeton.edu/id/02961779-n</a></td>\n",
       "<td class=val><a href=\"http://wordnet-rdf.princeton.edu/ontology#hyponym\" target=\"_other\">http://wordnet-rdf.princeton.edu/ontology#hyponym</a></td>\n",
       "<td class=val><a href=\"http://wordnet-rdf.princeton.edu/id/02817668-n\" target=\"_other\">http://wordnet-rdf.princeton.edu/id/02817668-n</a></td></tr><tr class=odd><td class=val><a href=\"http://wordnet-rdf.princeton.edu/id/02961779-n\" target=\"_other\">http://wordnet-rdf.princeton.edu/id/02961779-n</a></td>\n",
       "<td class=val><a href=\"http://wordnet-rdf.princeton.edu/ontology#hyponym\" target=\"_other\">http://wordnet-rdf.princeton.edu/ontology#hyponym</a></td>\n",
       "<td class=val><a href=\"http://wordnet-rdf.princeton.edu/id/03685838-n\" target=\"_other\">http://wordnet-rdf.princeton.edu/id/03685838-n</a></td></tr><tr class=even><td class=val><a href=\"http://wordnet-rdf.princeton.edu/id/02961779-n\" target=\"_other\">http://wordnet-rdf.princeton.edu/id/02961779-n</a></td>\n",
       "<td class=val><a href=\"http://wordnet-rdf.princeton.edu/ontology#definition\" target=\"_other\">http://wordnet-rdf.princeton.edu/ontology#definition</a></td>\n",
       "<td class=val>f176f8a127fae486cb36fec87999abc51b1</td></tr><tr class=odd><td class=val><a href=\"http://wordnet-rdf.princeton.edu/id/02961779-n\" target=\"_other\">http://wordnet-rdf.princeton.edu/id/02961779-n</a></td>\n",
       "<td class=val><a href=\"http://wordnet-rdf.princeton.edu/ontology#mero_part\" target=\"_other\">http://wordnet-rdf.princeton.edu/ontology#mero_part</a></td>\n",
       "<td class=val><a href=\"http://wordnet-rdf.princeton.edu/id/02967273-n\" target=\"_other\">http://wordnet-rdf.princeton.edu/id/02967273-n</a></td></tr><tr class=even><td class=val><a href=\"http://wordnet-rdf.princeton.edu/id/02961779-n\" target=\"_other\">http://wordnet-rdf.princeton.edu/id/02961779-n</a></td>\n",
       "<td class=val><a href=\"http://wordnet-rdf.princeton.edu/ontology#mero_part\" target=\"_other\">http://wordnet-rdf.princeton.edu/ontology#mero_part</a></td>\n",
       "<td class=val><a href=\"http://wordnet-rdf.princeton.edu/id/03701391-n\" target=\"_other\">http://wordnet-rdf.princeton.edu/id/03701391-n</a></td></tr><tr class=odd><td class=val><a href=\"http://wordnet-rdf.princeton.edu/id/02961779-n\" target=\"_other\">http://wordnet-rdf.princeton.edu/id/02961779-n</a></td>\n",
       "<td class=val><a href=\"http://wordnet-rdf.princeton.edu/ontology#hyponym\" target=\"_other\">http://wordnet-rdf.princeton.edu/ontology#hyponym</a></td>\n",
       "<td class=val><a href=\"http://wordnet-rdf.princeton.edu/id/03776212-n\" target=\"_other\">http://wordnet-rdf.princeton.edu/id/03776212-n</a></td></tr><tr class=even><td class=val><a href=\"http://wordnet-rdf.princeton.edu/id/02961779-n\" target=\"_other\">http://wordnet-rdf.princeton.edu/id/02961779-n</a></td>\n",
       "<td class=val><a href=\"http://wordnet-rdf.princeton.edu/ontology#has_domain_topic\" target=\"_other\">http://wordnet-rdf.princeton.edu/ontology#has_domain_topic</a></td>\n",
       "<td class=val><a href=\"http://wordnet-rdf.princeton.edu/id/04104350-n\" target=\"_other\">http://wordnet-rdf.princeton.edu/id/04104350-n</a></td></tr><tr class=odd><td class=val><a href=\"http://wordnet-rdf.princeton.edu/id/02961779-n\" target=\"_other\">http://wordnet-rdf.princeton.edu/id/02961779-n</a></td>\n",
       "<td class=val><a href=\"http://wordnet-rdf.princeton.edu/ontology#mero_part\" target=\"_other\">http://wordnet-rdf.princeton.edu/ontology#mero_part</a></td>\n",
       "<td class=val><a href=\"http://wordnet-rdf.princeton.edu/id/02673313-n\" target=\"_other\">http://wordnet-rdf.princeton.edu/id/02673313-n</a></td></tr><tr class=even><td class=val><a href=\"http://wordnet-rdf.princeton.edu/id/02961779-n\" target=\"_other\">http://wordnet-rdf.princeton.edu/id/02961779-n</a></td>\n",
       "<td class=val><a href=\"http://wordnet-rdf.princeton.edu/ontology#hyponym\" target=\"_other\">http://wordnet-rdf.princeton.edu/ontology#hyponym</a></td>\n",
       "<td class=val><a href=\"http://wordnet-rdf.princeton.edu/id/04310126-n\" target=\"_other\">http://wordnet-rdf.princeton.edu/id/04310126-n</a></td></tr><tr class=odd><td class=val><a href=\"http://wordnet-rdf.princeton.edu/id/02961779-n\" target=\"_other\">http://wordnet-rdf.princeton.edu/id/02961779-n</a></td>\n",
       "<td class=val><a href=\"http://wordnet-rdf.princeton.edu/ontology#hyponym\" target=\"_other\">http://wordnet-rdf.princeton.edu/ontology#hyponym</a></td>\n",
       "<td class=val><a href=\"http://wordnet-rdf.princeton.edu/id/03145716-n\" target=\"_other\">http://wordnet-rdf.princeton.edu/id/03145716-n</a></td></tr><tr class=even><td class=val><a href=\"http://wordnet-rdf.princeton.edu/id/02961779-n\" target=\"_other\">http://wordnet-rdf.princeton.edu/id/02961779-n</a></td>\n",
       "<td class=val><a href=\"http://wordnet-rdf.princeton.edu/ontology#hyponym\" target=\"_other\">http://wordnet-rdf.princeton.edu/ontology#hyponym</a></td>\n",
       "<td class=val><a href=\"http://wordnet-rdf.princeton.edu/id/04173342-n\" target=\"_other\">http://wordnet-rdf.princeton.edu/id/04173342-n</a></td></tr><tr class=odd><td class=val><a href=\"http://wordnet-rdf.princeton.edu/id/02961779-n\" target=\"_other\">http://wordnet-rdf.princeton.edu/id/02961779-n</a></td>\n",
       "<td class=val><a href=\"http://wordnet-rdf.princeton.edu/ontology#hyponym\" target=\"_other\">http://wordnet-rdf.princeton.edu/ontology#hyponym</a></td>\n",
       "<td class=val><a href=\"http://wordnet-rdf.princeton.edu/id/03426579-n\" target=\"_other\">http://wordnet-rdf.princeton.edu/id/03426579-n</a></td></tr><tr class=even><td class=val><a href=\"http://wordnet-rdf.princeton.edu/id/02961779-n\" target=\"_other\">http://wordnet-rdf.princeton.edu/id/02961779-n</a></td>\n",
       "<td class=val><a href=\"http://wordnet-rdf.princeton.edu/ontology#mero_part\" target=\"_other\">http://wordnet-rdf.princeton.edu/ontology#mero_part</a></td>\n",
       "<td class=val><a href=\"http://wordnet-rdf.princeton.edu/id/03464707-n\" target=\"_other\">http://wordnet-rdf.princeton.edu/id/03464707-n</a></td></tr><tr class=odd><td class=val><a href=\"http://wordnet-rdf.princeton.edu/id/02961779-n\" target=\"_other\">http://wordnet-rdf.princeton.edu/id/02961779-n</a></td>\n",
       "<td class=val><a href=\"http://wordnet-rdf.princeton.edu/ontology#has_domain_topic\" target=\"_other\">http://wordnet-rdf.princeton.edu/ontology#has_domain_topic</a></td>\n",
       "<td class=val><a href=\"http://wordnet-rdf.princeton.edu/id/04505257-n\" target=\"_other\">http://wordnet-rdf.princeton.edu/id/04505257-n</a></td></tr><tr class=even><td class=val><a href=\"http://wordnet-rdf.princeton.edu/id/02961779-n\" target=\"_other\">http://wordnet-rdf.princeton.edu/id/02961779-n</a></td>\n",
       "<td class=val><a href=\"http://wordnet-rdf.princeton.edu/ontology#mero_part\" target=\"_other\">http://wordnet-rdf.princeton.edu/ontology#mero_part</a></td>\n",
       "<td class=val><a href=\"http://wordnet-rdf.princeton.edu/id/02974144-n\" target=\"_other\">http://wordnet-rdf.princeton.edu/id/02974144-n</a></td></tr><tr class=odd><td class=val><a href=\"http://wordnet-rdf.princeton.edu/id/02961779-n\" target=\"_other\">http://wordnet-rdf.princeton.edu/id/02961779-n</a></td>\n",
       "<td class=val><a href=\"http://wordnet-rdf.princeton.edu/ontology#has_domain_topic\" target=\"_other\">http://wordnet-rdf.princeton.edu/ontology#has_domain_topic</a></td>\n",
       "<td class=val><a href=\"http://wordnet-rdf.princeton.edu/id/01834705-s\" target=\"_other\">http://wordnet-rdf.princeton.edu/id/01834705-s</a></td></tr><tr class=even><td class=val><a href=\"http://wordnet-rdf.princeton.edu/id/02961779-n\" target=\"_other\">http://wordnet-rdf.princeton.edu/id/02961779-n</a></td>\n",
       "<td class=val><a href=\"http://wordnet-rdf.princeton.edu/ontology#hyponym\" target=\"_other\">http://wordnet-rdf.princeton.edu/ontology#hyponym</a></td>\n",
       "<td class=val><a href=\"http://wordnet-rdf.princeton.edu/id/03503925-n\" target=\"_other\">http://wordnet-rdf.princeton.edu/id/03503925-n</a></td></tr><tr class=odd><td class=val><a href=\"http://wordnet-rdf.princeton.edu/id/02961779-n\" target=\"_other\">http://wordnet-rdf.princeton.edu/id/02961779-n</a></td>\n",
       "<td class=val><a href=\"http://wordnet-rdf.princeton.edu/ontology#hyponym\" target=\"_other\">http://wordnet-rdf.princeton.edu/ontology#hyponym</a></td>\n",
       "<td class=val><a href=\"http://wordnet-rdf.princeton.edu/id/04293103-n\" target=\"_other\">http://wordnet-rdf.princeton.edu/id/04293103-n</a></td></tr><tr class=even><td class=val><a href=\"http://wordnet-rdf.princeton.edu/id/02961779-n\" target=\"_other\">http://wordnet-rdf.princeton.edu/id/02961779-n</a></td>\n",
       "<td class=val><a href=\"http://wordnet-rdf.princeton.edu/ontology#hyponym\" target=\"_other\">http://wordnet-rdf.princeton.edu/ontology#hyponym</a></td>\n",
       "<td class=val><a href=\"http://wordnet-rdf.princeton.edu/id/03675534-n\" target=\"_other\">http://wordnet-rdf.princeton.edu/id/03675534-n</a></td></tr><tr class=odd><td class=val><a href=\"http://wordnet-rdf.princeton.edu/id/02961779-n\" target=\"_other\">http://wordnet-rdf.princeton.edu/id/02961779-n</a></td>\n",
       "<td class=val><a href=\"http://wordnet-rdf.princeton.edu/ontology#mero_part\" target=\"_other\">http://wordnet-rdf.princeton.edu/ontology#mero_part</a></td>\n",
       "<td class=val><a href=\"http://wordnet-rdf.princeton.edu/id/04391493-n\" target=\"_other\">http://wordnet-rdf.princeton.edu/id/04391493-n</a></td></tr><tr class=even><td class=val><a href=\"http://wordnet-rdf.princeton.edu/id/02961779-n\" target=\"_other\">http://wordnet-rdf.princeton.edu/id/02961779-n</a></td>\n",
       "<td class=val><a href=\"http://wordnet-rdf.princeton.edu/ontology#mero_part\" target=\"_other\">http://wordnet-rdf.princeton.edu/ontology#mero_part</a></td>\n",
       "<td class=val><a href=\"http://wordnet-rdf.princeton.edu/id/04067177-n\" target=\"_other\">http://wordnet-rdf.princeton.edu/id/04067177-n</a></td></tr><tr class=odd><td class=val><a href=\"http://wordnet-rdf.princeton.edu/id/02961779-n\" target=\"_other\">http://wordnet-rdf.princeton.edu/id/02961779-n</a></td>\n",
       "<td class=val><a href=\"http://wordnet-rdf.princeton.edu/ontology#partOfSpeech\" target=\"_other\">http://wordnet-rdf.princeton.edu/ontology#partOfSpeech</a></td>\n",
       "<td class=val><a href=\"http://wordnet-rdf.princeton.edu/ontology#noun\" target=\"_other\">http://wordnet-rdf.princeton.edu/ontology#noun</a></td></tr><tr class=even><td class=val><a href=\"http://wordnet-rdf.princeton.edu/id/02961779-n\" target=\"_other\">http://wordnet-rdf.princeton.edu/id/02961779-n</a></td>\n",
       "<td class=val><a href=\"http://wordnet-rdf.princeton.edu/ontology#hyponym\" target=\"_other\">http://wordnet-rdf.princeton.edu/ontology#hyponym</a></td>\n",
       "<td class=val><a href=\"http://wordnet-rdf.princeton.edu/id/03548574-n\" target=\"_other\">http://wordnet-rdf.princeton.edu/id/03548574-n</a></td></tr><tr class=odd><td class=val><a href=\"http://wordnet-rdf.princeton.edu/id/02961779-n\" target=\"_other\">http://wordnet-rdf.princeton.edu/id/02961779-n</a></td>\n",
       "<td class=val><a href=\"http://wordnet-rdf.princeton.edu/ontology#hyponym\" target=\"_other\">http://wordnet-rdf.princeton.edu/ontology#hyponym</a></td>\n",
       "<td class=val><a href=\"http://wordnet-rdf.princeton.edu/id/03783101-n\" target=\"_other\">http://wordnet-rdf.princeton.edu/id/03783101-n</a></td></tr><tr class=even><td class=val><a href=\"http://wordnet-rdf.princeton.edu/id/02961779-n\" target=\"_other\">http://wordnet-rdf.princeton.edu/id/02961779-n</a></td>\n",
       "<td class=val><a href=\"http://wordnet-rdf.princeton.edu/ontology#mero_part\" target=\"_other\">http://wordnet-rdf.princeton.edu/ontology#mero_part</a></td>\n",
       "<td class=val><a href=\"http://wordnet-rdf.princeton.edu/id/03536090-n\" target=\"_other\">http://wordnet-rdf.princeton.edu/id/03536090-n</a></td></tr><tr class=odd><td class=val><a href=\"http://wordnet-rdf.princeton.edu/id/02961779-n\" target=\"_other\">http://wordnet-rdf.princeton.edu/id/02961779-n</a></td>\n",
       "<td class=val><a href=\"http://wordnet-rdf.princeton.edu/ontology#mero_part\" target=\"_other\">http://wordnet-rdf.princeton.edu/ontology#mero_part</a></td>\n",
       "<td class=val><a href=\"http://wordnet-rdf.princeton.edu/id/04364208-n\" target=\"_other\">http://wordnet-rdf.princeton.edu/id/04364208-n</a></td></tr><tr class=even><td class=val><a href=\"http://wordnet-rdf.princeton.edu/id/02961779-n\" target=\"_other\">http://wordnet-rdf.princeton.edu/id/02961779-n</a></td>\n",
       "<td class=val><a href=\"http://wordnet-rdf.princeton.edu/ontology#mero_part\" target=\"_other\">http://wordnet-rdf.princeton.edu/ontology#mero_part</a></td>\n",
       "<td class=val><a href=\"http://wordnet-rdf.princeton.edu/id/02977678-n\" target=\"_other\">http://wordnet-rdf.princeton.edu/id/02977678-n</a></td></tr><tr class=odd><td class=val><a href=\"http://wordnet-rdf.princeton.edu/id/02961779-n\" target=\"_other\">http://wordnet-rdf.princeton.edu/id/02961779-n</a></td>\n",
       "<td class=val><a href=\"http://wordnet-rdf.princeton.edu/ontology#hyponym\" target=\"_other\">http://wordnet-rdf.princeton.edu/ontology#hyponym</a></td>\n",
       "<td class=val><a href=\"http://wordnet-rdf.princeton.edu/id/04043919-n\" target=\"_other\">http://wordnet-rdf.princeton.edu/id/04043919-n</a></td></tr><tr class=even><td class=val><a href=\"http://wordnet-rdf.princeton.edu/id/02961779-n\" target=\"_other\">http://wordnet-rdf.princeton.edu/id/02961779-n</a></td>\n",
       "<td class=val><a href=\"http://wordnet-rdf.princeton.edu/ontology#has_domain_topic\" target=\"_other\">http://wordnet-rdf.princeton.edu/ontology#has_domain_topic</a></td>\n",
       "<td class=val><a href=\"http://wordnet-rdf.princeton.edu/id/02773835-n\" target=\"_other\">http://wordnet-rdf.princeton.edu/id/02773835-n</a></td></tr><tr class=odd><td class=val><a href=\"http://wordnet-rdf.princeton.edu/id/02961779-n\" target=\"_other\">http://wordnet-rdf.princeton.edu/id/02961779-n</a></td>\n",
       "<td class=val><a href=\"http://wordnet-rdf.princeton.edu/ontology#mero_part\" target=\"_other\">http://wordnet-rdf.princeton.edu/ontology#mero_part</a></td>\n",
       "<td class=val><a href=\"http://wordnet-rdf.princeton.edu/id/03446269-n\" target=\"_other\">http://wordnet-rdf.princeton.edu/id/03446269-n</a></td></tr><tr class=even><td class=val><a href=\"http://wordnet-rdf.princeton.edu/id/02961779-n\" target=\"_other\">http://wordnet-rdf.princeton.edu/id/02961779-n</a></td>\n",
       "<td class=val><a href=\"http://wordnet-rdf.princeton.edu/ontology#mero_part\" target=\"_other\">http://wordnet-rdf.princeton.edu/ontology#mero_part</a></td>\n",
       "<td class=val><a href=\"http://wordnet-rdf.princeton.edu/id/04127433-n\" target=\"_other\">http://wordnet-rdf.princeton.edu/id/04127433-n</a></td></tr><tr class=odd><td class=val><a href=\"http://wordnet-rdf.princeton.edu/id/02961779-n\" target=\"_other\">http://wordnet-rdf.princeton.edu/id/02961779-n</a></td>\n",
       "<td class=val><a href=\"http://wordnet-rdf.princeton.edu/ontology#has_domain_topic\" target=\"_other\">http://wordnet-rdf.princeton.edu/ontology#has_domain_topic</a></td>\n",
       "<td class=val><a href=\"http://wordnet-rdf.princeton.edu/id/11480680-n\" target=\"_other\">http://wordnet-rdf.princeton.edu/id/11480680-n</a></td></tr><tr class=even><td class=val><a href=\"http://wordnet-rdf.princeton.edu/id/02961779-n\" target=\"_other\">http://wordnet-rdf.princeton.edu/id/02961779-n</a></td>\n",
       "<td class=val><a href=\"http://wordnet-rdf.princeton.edu/ontology#mero_part\" target=\"_other\">http://wordnet-rdf.princeton.edu/ontology#mero_part</a></td>\n",
       "<td class=val><a href=\"http://wordnet-rdf.princeton.edu/id/04433112-n\" target=\"_other\">http://wordnet-rdf.princeton.edu/id/04433112-n</a></td></tr><tr class=odd><td class=val><a href=\"http://wordnet-rdf.princeton.edu/id/02961779-n\" target=\"_other\">http://wordnet-rdf.princeton.edu/id/02961779-n</a></td>\n",
       "<td class=val><a href=\"http://wordnet-rdf.princeton.edu/ontology#hyponym\" target=\"_other\">http://wordnet-rdf.princeton.edu/ontology#hyponym</a></td>\n",
       "<td class=val><a href=\"http://wordnet-rdf.princeton.edu/id/04466357-n\" target=\"_other\">http://wordnet-rdf.princeton.edu/id/04466357-n</a></td></tr><tr class=even><td class=val><a href=\"http://wordnet-rdf.princeton.edu/id/02961779-n\" target=\"_other\">http://wordnet-rdf.princeton.edu/id/02961779-n</a></td>\n",
       "<td class=val><a href=\"http://purl.org/dc/terms/subject\" target=\"_other\">http://purl.org/dc/terms/subject</a></td>\n",
       "<td class=val>noun.artifact</td></tr><tr class=odd><td class=val><a href=\"http://wordnet-rdf.princeton.edu/id/02961779-n\" target=\"_other\">http://wordnet-rdf.princeton.edu/id/02961779-n</a></td>\n",
       "<td class=val><a href=\"http://wordnet-rdf.princeton.edu/ontology#mero_part\" target=\"_other\">http://wordnet-rdf.princeton.edu/ontology#mero_part</a></td>\n",
       "<td class=val><a href=\"http://wordnet-rdf.princeton.edu/id/02764562-n\" target=\"_other\">http://wordnet-rdf.princeton.edu/id/02764562-n</a></td></tr><tr class=even><td class=val><a href=\"http://wordnet-rdf.princeton.edu/id/02961779-n\" target=\"_other\">http://wordnet-rdf.princeton.edu/id/02961779-n</a></td>\n",
       "<td class=val><a href=\"http://wordnet-rdf.princeton.edu/ontology#mero_part\" target=\"_other\">http://wordnet-rdf.princeton.edu/ontology#mero_part</a></td>\n",
       "<td class=val><a href=\"http://wordnet-rdf.princeton.edu/id/02761758-n\" target=\"_other\">http://wordnet-rdf.princeton.edu/id/02761758-n</a></td></tr><tr class=odd><td class=val><a href=\"http://wordnet-rdf.princeton.edu/id/02961779-n\" target=\"_other\">http://wordnet-rdf.princeton.edu/id/02961779-n</a></td>\n",
       "<td class=val><a href=\"http://wordnet-rdf.princeton.edu/ontology#hyponym\" target=\"_other\">http://wordnet-rdf.princeton.edu/ontology#hyponym</a></td>\n",
       "<td class=val><a href=\"http://wordnet-rdf.princeton.edu/id/03775620-n\" target=\"_other\">http://wordnet-rdf.princeton.edu/id/03775620-n</a></td></tr><tr class=even><td class=val><a href=\"http://wordnet-rdf.princeton.edu/id/02961779-n\" target=\"_other\">http://wordnet-rdf.princeton.edu/id/02961779-n</a></td>\n",
       "<td class=val><a href=\"http://www.w3.org/1999/02/22-rdf-syntax-ns#type\" target=\"_other\">http://www.w3.org/1999/02/22-rdf-syntax-ns#type</a></td>\n",
       "<td class=val><a href=\"http://www.w3.org/ns/lemon/ontolex#LexicalConcept\" target=\"_other\">http://www.w3.org/ns/lemon/ontolex#LexicalConcept</a></td></tr><tr class=odd><td class=val>f176f8a127fae486cb36fec87999abc51b1</td>\n",
       "<td class=val><a href=\"http://www.w3.org/1999/02/22-rdf-syntax-ns#value\" target=\"_other\">http://www.w3.org/1999/02/22-rdf-syntax-ns#value</a></td>\n",
       "<td class=val>a motor vehicle with four wheels; usually propelled by an internal combustion engine; &amp;quot;he needs a car to get to work&amp;quot;</td></tr><tr class=even><td class=val><a href=\"http://wordnet-rdf.princeton.edu/id/02961779-n\" target=\"_other\">http://wordnet-rdf.princeton.edu/id/02961779-n</a></td>\n",
       "<td class=val><a href=\"http://wordnet-rdf.princeton.edu/ontology#has_domain_topic\" target=\"_other\">http://wordnet-rdf.princeton.edu/ontology#has_domain_topic</a></td>\n",
       "<td class=val><a href=\"http://wordnet-rdf.princeton.edu/id/02702923-n\" target=\"_other\">http://wordnet-rdf.princeton.edu/id/02702923-n</a></td></tr><tr class=odd><td class=val><a href=\"http://wordnet-rdf.princeton.edu/id/02961779-n\" target=\"_other\">http://wordnet-rdf.princeton.edu/id/02961779-n</a></td>\n",
       "<td class=val><a href=\"http://wordnet-rdf.princeton.edu/ontology#mero_part\" target=\"_other\">http://wordnet-rdf.princeton.edu/ontology#mero_part</a></td>\n",
       "<td class=val><a href=\"http://wordnet-rdf.princeton.edu/id/04112532-n\" target=\"_other\">http://wordnet-rdf.princeton.edu/id/04112532-n</a></td></tr></table><div class=\"tinfo\">Shown: all, Total rows: 79</div></div>"
      ]
     },
     "metadata": {},
     "output_type": "display_data"
    }
   ],
   "source": [
    "# synsets\n",
    "DESCRIBE <http://wordnet-rdf.princeton.edu/id/02961779-n>"
   ]
  },
  {
   "cell_type": "code",
   "execution_count": null,
   "metadata": {},
   "outputs": [],
   "source": []
  }
 ],
 "metadata": {
  "kernelspec": {
   "display_name": "SPARQL",
   "language": "sparql",
   "name": "sparql"
  },
  "language_info": {
   "codemirror_mode": {
    "name": "sparql"
   },
   "mimetype": "application/sparql-query",
   "name": "sparql",
   "pygments_lexer": "sparql-nb"
  },
  "toc": {
   "base_numbering": 1,
   "nav_menu": {},
   "number_sections": true,
   "sideBar": true,
   "skip_h1_title": false,
   "title_cell": "Table of Contents",
   "title_sidebar": "Contents",
   "toc_cell": false,
   "toc_position": {
    "height": "calc(100% - 180px)",
    "left": "10px",
    "top": "150px",
    "width": "277.391px"
   },
   "toc_section_display": true,
   "toc_window_display": true
  }
 },
 "nbformat": 4,
 "nbformat_minor": 2
}
