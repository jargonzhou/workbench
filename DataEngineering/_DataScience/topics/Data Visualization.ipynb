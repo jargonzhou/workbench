{
 "cells": [
  {
   "cell_type": "markdown",
   "metadata": {},
   "source": [
    "# Data Visualization\n",
    "* Handbook of Data Visualization\n",
    "* Fundamentals of Data Visualization\n",
    "* D3.js in Action: Data visualization with JavaScript\n",
    "\n",
    "Touch:\n",
    "\n",
    "- [Introduction to Data Visualization in Python: How to make graphs using Matplotlib, Pandas and Seaborn](https://towardsdatascience.com/introduction-to-data-visualization-in-python-89a54c97fbed\n",
    ")\n",
    "- [Reviewing Python Visualization Packages: Which solutions are good in which situations?](https://towardsdatascience.com/reviewing-python-visualization-packages-fa7fe12e622b)\n",
    "\n",
    "```\n",
    "Matplotlib, Seaborn, and Pandas\n",
    "ggplot(2)\n",
    "Bokeh\n",
    "Plotly\n",
    "Pygal\n",
    "Networkx\n",
    "```\n",
    "\n",
    "\n",
    "- [Graph Visualization for Neo4j](https://github.com/neo4j-contrib/developer-resources-fr/blob/master/working-with-data/guide-data-visualization/guide-data-visualization.adoc)\n",
    "\t-  D3.js, three.js, sigma.js, Alchemy.js\n",
    "- [NetworkX](https://networkx.org/): NetworkX is a Python package for the creation, manipulation, and study of the structure, dynamics, and functions of complex networks. "
   ]
  },
  {
   "cell_type": "markdown",
   "metadata": {},
   "source": [
    "# igraph\n",
    "* [igraph](https://igraph.org/): igraph is a collection of network analysis tools with the emphasis on efficiency, portability and ease of use. igraph is open source and free. igraph can be programmed in R, Python, Mathematica andC/C++.\n",
    "* [python-igraph Manual](https://igraph.org/python/tutorial/0.9.8/visualisation.html)\n",
    "* [Gallery of Examples](https://python.igraph.org/en/stable/tutorials/index.html)"
   ]
  },
  {
   "cell_type": "code",
   "execution_count": 2,
   "metadata": {},
   "outputs": [
    {
     "name": "stdout",
     "output_type": "stream",
     "text": [
      "Requirement already satisfied: igraph in d:\\software\\miniconda3\\lib\\site-packages (0.11.8)\n",
      "Requirement already satisfied: texttable>=1.6.2 in d:\\software\\miniconda3\\lib\\site-packages (from igraph) (1.7.0)\n"
     ]
    }
   ],
   "source": [
    "!pip install igraph"
   ]
  },
  {
   "cell_type": "code",
   "execution_count": 3,
   "metadata": {},
   "outputs": [
    {
     "data": {
      "image/png": "[encoded data removed]",
      "text/plain": [
       "<Figure size 500x500 with 1 Axes>"
      ]
     },
     "metadata": {},
     "output_type": "display_data"
    }
   ],
   "source": [
    "# https://python.igraph.org/en/stable/tutorials/quickstart.html\n",
    "\n",
    "import igraph as ig\n",
    "import matplotlib.pyplot as plt\n",
    "\n",
    "# Construct a graph with 5 vertices\n",
    "n_vertices = 5\n",
    "edges = [(0, 1), (0, 2), (0, 3), (0, 4), (1, 2), (1, 3), (1, 4), (3, 4)]\n",
    "g = ig.Graph(n_vertices, edges)\n",
    "\n",
    "# Set attributes for the graph, nodes, and edges\n",
    "g[\"title\"] = \"Small Social Network\"\n",
    "g.vs[\"name\"] = [\"Daniel Morillas\", \"Kathy Archer\", \"Kyle Ding\", \"Joshua Walton\", \"Jana Hoyer\"]\n",
    "g.vs[\"gender\"] = [\"M\", \"F\", \"F\", \"M\", \"F\"]\n",
    "g.es[\"married\"] = [False, False, False, False, False, False, False, True]\n",
    "\n",
    "# Set individual attributes\n",
    "g.vs[1][\"name\"] = \"Kathy Morillas\"\n",
    "g.es[0][\"married\"] = True\n",
    "\n",
    "# Plot in matplotlib\n",
    "# Note that attributes can be set globally (e.g. vertex_size), or set individually using arrays (e.g. vertex_color)\n",
    "fig, ax = plt.subplots(figsize=(5,5))\n",
    "ig.plot(\n",
    "    g,\n",
    "    target=ax,\n",
    "    layout=\"circle\", # print nodes in a circular layout\n",
    "    vertex_size=30,\n",
    "    vertex_color=[\"steelblue\" if gender == \"M\" else \"salmon\" for gender in g.vs[\"gender\"]],\n",
    "    vertex_frame_width=4.0,\n",
    "    vertex_frame_color=\"white\",\n",
    "    vertex_label=g.vs[\"name\"],\n",
    "    vertex_label_size=7.0,\n",
    "    edge_width=[2 if married else 1 for married in g.es[\"married\"]],\n",
    "    edge_color=[\"#7142cf\" if married else \"#AAA\" for married in g.es[\"married\"]]\n",
    ")\n",
    "\n",
    "plt.show()\n",
    "\n",
    "#\n",
    "# Save the graph as an image file\n",
    "# fig.savefig('social_network.png')\n",
    "# fig.savefig('social_network.jpg')\n",
    "# fig.savefig('social_network.pdf')\n",
    "\n",
    "#\n",
    "# Export and import a graph as a GML file.\n",
    "# g.save(\"social_network.gml\")\n",
    "# g = ig.load(\"social_network.gml\")"
   ]
  },
  {
   "cell_type": "code",
   "execution_count": null,
   "metadata": {},
   "outputs": [
    {
     "name": "stdout",
     "output_type": "stream",
     "text": [
      "Found existing installation: pycairo 1.27.0\n",
      "Uninstalling pycairo-1.27.0:\n",
      "  Successfully uninstalled pycairo-1.27.0\n"
     ]
    },
    {
     "name": "stderr",
     "output_type": "stream",
     "text": [
      "WARNING: Failed to remove contents in a temporary directory 'D:\\software\\miniconda3\\Lib\\site-packages\\~airo'.\n",
      "You can safely remove it manually.\n"
     ]
    },
    {
     "ename": "",
     "evalue": "",
     "output_type": "error",
     "traceback": [
      "\u001b[1;31mThe Kernel crashed while executing code in the current cell or a previous cell. \n",
      "\u001b[1;31mPlease review the code in the cell(s) to identify a possible cause of the failure. \n",
      "\u001b[1;31mClick <a href='https://aka.ms/vscodeJupyterKernelCrash'>here</a> for more info. \n",
      "\u001b[1;31mView Jupyter <a href='command:jupyter.viewOutput'>log</a> for further details."
     ]
    }
   ],
   "source": [
    "# AttributeError: Plotting not available; please install pycairo or cairocffi\n",
    "# !pip install pycairo\n",
    "\n",
    "# ig.plot(g, bbox=(0, 0, 100, 100))\n",
    "!pip uninstall -y pycairo"
   ]
  }
 ],
 "metadata": {
  "kernelspec": {
   "display_name": "base",
   "language": "python",
   "name": "python3"
  },
  "language_info": {
   "codemirror_mode": {
    "name": "ipython",
    "version": 3
   },
   "file_extension": ".py",
   "mimetype": "text/x-python",
   "name": "python",
   "nbconvert_exporter": "python",
   "pygments_lexer": "ipython3",
   "version": "3.12.3"
  }
 },
 "nbformat": 4,
 "nbformat_minor": 2
}
