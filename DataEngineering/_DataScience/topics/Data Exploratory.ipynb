{
 "cells": [
  {
   "cell_type": "markdown",
   "metadata": {},
   "source": [
    "# Data Exploratory "
   ]
  },
  {
   "cell_type": "code",
   "execution_count": 13,
   "metadata": {},
   "outputs": [
    {
     "name": "stdout",
     "output_type": "stream",
     "text": [
      "Collecting wquantiles\n",
      "  Using cached wquantiles-0.6-py3-none-any.whl.metadata (1.1 kB)\n",
      "Requirement already satisfied: numpy>=1.18 in d:\\software\\miniconda3\\lib\\site-packages (from wquantiles) (2.1.2)\n",
      "Using cached wquantiles-0.6-py3-none-any.whl (3.3 kB)\n",
      "Installing collected packages: wquantiles\n",
      "Successfully installed wquantiles-0.6\n"
     ]
    }
   ],
   "source": [
    "!pip install wquantiles"
   ]
  },
  {
   "cell_type": "code",
   "execution_count": 12,
   "metadata": {},
   "outputs": [
    {
     "name": "stdout",
     "output_type": "stream",
     "text": [
      "Found existing installation: wquantiles 0.6\n",
      "Uninstalling wquantiles-0.6:\n",
      "  Successfully uninstalled wquantiles-0.6\n"
     ]
    }
   ],
   "source": [
    "# cleanup\n",
    "!pip uninstall wquantiles -y"
   ]
  },
  {
   "cell_type": "code",
   "execution_count": 61,
   "metadata": {},
   "outputs": [
    {
     "name": "stdout",
     "output_type": "stream",
     "text": [
      "\n",
      "numpy: 2.1.3\n",
      "pandas: 2.2.3\n",
      "scipy: 1.14.1\n",
      "statsmodels: 0.14.4\n",
      "matplotlib: 3.9.2\n",
      "seaborn: 0.13.2\n",
      "\n",
      "wquantiles: 0.4\n",
      "\n"
     ]
    }
   ],
   "source": [
    "%matplotlib inline\n",
    "\n",
    "import numpy as np\n",
    "import pandas as pd\n",
    "\n",
    "import scipy\n",
    "from scipy import stats\n",
    "\n",
    "import statsmodels\n",
    "import statsmodels.api as sm\n",
    "\n",
    "import matplotlib\n",
    "import matplotlib.pylab as plt\n",
    "\n",
    "import seaborn as sns\n",
    "\n",
    "import wquantiles\n",
    "\n",
    "print(f\"\"\"\n",
    "numpy: {np.__version__}\n",
    "pandas: {pd.__version__}\n",
    "scipy: {scipy.__version__}\n",
    "statsmodels: {statsmodels.__version__}\n",
    "matplotlib: {matplotlib.__version__}\n",
    "seaborn: {sns.__version__}\n",
    "\n",
    "wquantiles: {wquantiles.__version__}\n",
    "\"\"\")"
   ]
  },
  {
   "cell_type": "markdown",
   "metadata": {},
   "source": [
    "# Location\n",
    "* mean, weighted mean, trimed mean\n",
    "* median, weighted median\n",
    "* percentile\n",
    "* outerlier"
   ]
  },
  {
   "cell_type": "code",
   "execution_count": 4,
   "metadata": {},
   "outputs": [
    {
     "data": {
      "text/html": [
       "<div>\n",
       "<style scoped>\n",
       "    .dataframe tbody tr th:only-of-type {\n",
       "        vertical-align: middle;\n",
       "    }\n",
       "\n",
       "    .dataframe tbody tr th {\n",
       "        vertical-align: top;\n",
       "    }\n",
       "\n",
       "    .dataframe thead th {\n",
       "        text-align: right;\n",
       "    }\n",
       "</style>\n",
       "<table border=\"1\" class=\"dataframe\">\n",
       "  <thead>\n",
       "    <tr style=\"text-align: right;\">\n",
       "      <th></th>\n",
       "      <th>State</th>\n",
       "      <th>Population</th>\n",
       "      <th>Murder.Rate</th>\n",
       "      <th>Abbreviation</th>\n",
       "    </tr>\n",
       "  </thead>\n",
       "  <tbody>\n",
       "    <tr>\n",
       "      <th>0</th>\n",
       "      <td>Alabama</td>\n",
       "      <td>4779736</td>\n",
       "      <td>5.7</td>\n",
       "      <td>AL</td>\n",
       "    </tr>\n",
       "    <tr>\n",
       "      <th>1</th>\n",
       "      <td>Alaska</td>\n",
       "      <td>710231</td>\n",
       "      <td>5.6</td>\n",
       "      <td>AK</td>\n",
       "    </tr>\n",
       "    <tr>\n",
       "      <th>2</th>\n",
       "      <td>Arizona</td>\n",
       "      <td>6392017</td>\n",
       "      <td>4.7</td>\n",
       "      <td>AZ</td>\n",
       "    </tr>\n",
       "    <tr>\n",
       "      <th>3</th>\n",
       "      <td>Arkansas</td>\n",
       "      <td>2915918</td>\n",
       "      <td>5.6</td>\n",
       "      <td>AR</td>\n",
       "    </tr>\n",
       "    <tr>\n",
       "      <th>4</th>\n",
       "      <td>California</td>\n",
       "      <td>37253956</td>\n",
       "      <td>4.4</td>\n",
       "      <td>CA</td>\n",
       "    </tr>\n",
       "  </tbody>\n",
       "</table>\n",
       "</div>"
      ],
      "text/plain": [
       "        State  Population  Murder.Rate Abbreviation\n",
       "0     Alabama     4779736          5.7           AL\n",
       "1      Alaska      710231          5.6           AK\n",
       "2     Arizona     6392017          4.7           AZ\n",
       "3    Arkansas     2915918          5.6           AR\n",
       "4  California    37253956          4.4           CA"
      ]
     },
     "execution_count": 4,
     "metadata": {},
     "output_type": "execute_result"
    }
   ],
   "source": [
    "#  Practical Statistics for Data Scientists > 1. Exploratory Data Analysis > Estimates of Location\n",
    "data = pd.read_csv('https://raw.githubusercontent.com/gedeck/practical-statistics-for-data-scientists/refs/heads/master/data/state.csv')\n",
    "data.head()"
   ]
  },
  {
   "cell_type": "code",
   "execution_count": 5,
   "metadata": {},
   "outputs": [
    {
     "data": {
      "text/html": [
       "<div>\n",
       "<style scoped>\n",
       "    .dataframe tbody tr th:only-of-type {\n",
       "        vertical-align: middle;\n",
       "    }\n",
       "\n",
       "    .dataframe tbody tr th {\n",
       "        vertical-align: top;\n",
       "    }\n",
       "\n",
       "    .dataframe thead th {\n",
       "        text-align: right;\n",
       "    }\n",
       "</style>\n",
       "<table border=\"1\" class=\"dataframe\">\n",
       "  <thead>\n",
       "    <tr style=\"text-align: right;\">\n",
       "      <th></th>\n",
       "      <th>Population</th>\n",
       "      <th>Murder.Rate</th>\n",
       "    </tr>\n",
       "  </thead>\n",
       "  <tbody>\n",
       "    <tr>\n",
       "      <th>count</th>\n",
       "      <td>5.000000e+01</td>\n",
       "      <td>50.000000</td>\n",
       "    </tr>\n",
       "    <tr>\n",
       "      <th>mean</th>\n",
       "      <td>6.162876e+06</td>\n",
       "      <td>4.066000</td>\n",
       "    </tr>\n",
       "    <tr>\n",
       "      <th>std</th>\n",
       "      <td>6.848235e+06</td>\n",
       "      <td>1.915736</td>\n",
       "    </tr>\n",
       "    <tr>\n",
       "      <th>min</th>\n",
       "      <td>5.636260e+05</td>\n",
       "      <td>0.900000</td>\n",
       "    </tr>\n",
       "    <tr>\n",
       "      <th>25%</th>\n",
       "      <td>1.833004e+06</td>\n",
       "      <td>2.425000</td>\n",
       "    </tr>\n",
       "    <tr>\n",
       "      <th>50%</th>\n",
       "      <td>4.436370e+06</td>\n",
       "      <td>4.000000</td>\n",
       "    </tr>\n",
       "    <tr>\n",
       "      <th>75%</th>\n",
       "      <td>6.680312e+06</td>\n",
       "      <td>5.550000</td>\n",
       "    </tr>\n",
       "    <tr>\n",
       "      <th>max</th>\n",
       "      <td>3.725396e+07</td>\n",
       "      <td>10.300000</td>\n",
       "    </tr>\n",
       "  </tbody>\n",
       "</table>\n",
       "</div>"
      ],
      "text/plain": [
       "         Population  Murder.Rate\n",
       "count  5.000000e+01    50.000000\n",
       "mean   6.162876e+06     4.066000\n",
       "std    6.848235e+06     1.915736\n",
       "min    5.636260e+05     0.900000\n",
       "25%    1.833004e+06     2.425000\n",
       "50%    4.436370e+06     4.000000\n",
       "75%    6.680312e+06     5.550000\n",
       "max    3.725396e+07    10.300000"
      ]
     },
     "execution_count": 5,
     "metadata": {},
     "output_type": "execute_result"
    }
   ],
   "source": [
    "data.describe()"
   ]
  },
  {
   "cell_type": "code",
   "execution_count": 6,
   "metadata": {},
   "outputs": [
    {
     "data": {
      "text/plain": [
       "(np.float64(6162876.3), np.float64(4436369.5))"
      ]
     },
     "execution_count": 6,
     "metadata": {},
     "output_type": "execute_result"
    }
   ],
   "source": [
    "# mean, median\n",
    "data['Population'].mean(), data['Population'].median()"
   ]
  },
  {
   "cell_type": "code",
   "execution_count": 8,
   "metadata": {},
   "outputs": [
    {
     "data": {
      "text/plain": [
       "np.float64(4783697.125)"
      ]
     },
     "execution_count": 8,
     "metadata": {},
     "output_type": "execute_result"
    }
   ],
   "source": [
    "# trimed mean\n",
    "stats.trim_mean(data['Population'], 0.1)"
   ]
  },
  {
   "cell_type": "code",
   "execution_count": 9,
   "metadata": {},
   "outputs": [
    {
     "data": {
      "text/plain": [
       "np.float64(4.445833981123393)"
      ]
     },
     "execution_count": 9,
     "metadata": {},
     "output_type": "execute_result"
    }
   ],
   "source": [
    "# weighted mean\n",
    "np.average(data['Murder.Rate'], weights=data['Population'])"
   ]
  },
  {
   "cell_type": "code",
   "execution_count": 11,
   "metadata": {},
   "outputs": [
    {
     "data": {
      "text/plain": [
       "np.float64(4.4)"
      ]
     },
     "execution_count": 11,
     "metadata": {},
     "output_type": "execute_result"
    }
   ],
   "source": [
    "# weighted median\n",
    "wquantiles.median(data['Murder.Rate'], weights=data['Population'])"
   ]
  },
  {
   "cell_type": "markdown",
   "metadata": {},
   "source": [
    "# Variability\n",
    "* 偏差 deviation\n",
    "* 标准偏差 standard deviation, std\n",
    "* 方差 variance\n",
    "* 均值绝对偏差 mean absolute deviation, \n",
    "* Median absolute deviation from the median, MAD\n",
    "* IQR: Interquartile range"
   ]
  },
  {
   "cell_type": "code",
   "execution_count": 21,
   "metadata": {},
   "outputs": [
    {
     "data": {
      "text/plain": [
       "np.float64(6848235.347401142)"
      ]
     },
     "execution_count": 21,
     "metadata": {},
     "output_type": "execute_result"
    }
   ],
   "source": [
    "# 标准偏差\n",
    "data['Population'].std()"
   ]
  },
  {
   "cell_type": "code",
   "execution_count": 22,
   "metadata": {},
   "outputs": [
    {
     "data": {
      "text/plain": [
       "np.float64(4847308.0)"
      ]
     },
     "execution_count": 22,
     "metadata": {},
     "output_type": "execute_result"
    }
   ],
   "source": [
    "# IQR\n",
    "data['Population'].quantile(0.75) - data['Population'].quantile(0.25)"
   ]
  },
  {
   "cell_type": "code",
   "execution_count": 25,
   "metadata": {},
   "outputs": [
    {
     "data": {
      "text/plain": [
       "np.float64(3849876.1459979336)"
      ]
     },
     "execution_count": 25,
     "metadata": {},
     "output_type": "execute_result"
    }
   ],
   "source": [
    "# MAD\n",
    "sm.robust.scale.mad(data['Population'], center=np.median)"
   ]
  },
  {
   "cell_type": "markdown",
   "metadata": {},
   "source": [
    "# Data Distribution\n",
    "* boxplot\n",
    "* frequency table\n",
    "* histogram\n",
    "* density plot"
   ]
  },
  {
   "cell_type": "code",
   "execution_count": 27,
   "metadata": {},
   "outputs": [
    {
     "data": {
      "text/plain": [
       "0.05    1.600\n",
       "0.25    2.425\n",
       "0.50    4.000\n",
       "0.75    5.550\n",
       "0.95    6.510\n",
       "Name: Murder.Rate, dtype: float64"
      ]
     },
     "execution_count": 27,
     "metadata": {},
     "output_type": "execute_result"
    }
   ],
   "source": [
    "# percentile\n",
    "data['Murder.Rate'].quantile([0.05, 0.25, 0.5, 0.75, 0.95])"
   ]
  },
  {
   "cell_type": "code",
   "execution_count": 35,
   "metadata": {},
   "outputs": [
    {
     "data": {
      "image/png": "[encoded data removed]",
      "text/plain": [
       "<Figure size 300x400 with 1 Axes>"
      ]
     },
     "metadata": {},
     "output_type": "display_data"
    }
   ],
   "source": [
    "# boxplot\n",
    "ax = (data['Population'] / 1_000_000).plot.box(figsize=(3, 4))\n",
    "ax.set_ylabel('Population (millions)')\n",
    "\n",
    "plt.tight_layout()\n",
    "plt.show()"
   ]
  },
  {
   "cell_type": "code",
   "execution_count": 39,
   "metadata": {},
   "outputs": [
    {
     "data": {
      "text/plain": [
       "(0      (4232659.0, 7901692.0]\n",
       " 1      (526935.67, 4232659.0]\n",
       " 2      (4232659.0, 7901692.0]\n",
       " 3      (526935.67, 4232659.0]\n",
       " 4    (33584923.0, 37253956.0]\n",
       " Name: Population, dtype: category\n",
       " Categories (10, interval[float64, right]): [(526935.67, 4232659.0] < (4232659.0, 7901692.0] < (7901692.0, 11570725.0] < (11570725.0, 15239758.0] ... (22577824.0, 26246857.0] < (26246857.0, 29915890.0] < (29915890.0, 33584923.0] < (33584923.0, 37253956.0]],\n",
       " Population\n",
       " (526935.67, 4232659.0]      24\n",
       " (4232659.0, 7901692.0]      14\n",
       " (7901692.0, 11570725.0]      6\n",
       " (11570725.0, 15239758.0]     2\n",
       " (15239758.0, 18908791.0]     1\n",
       " (18908791.0, 22577824.0]     1\n",
       " (22577824.0, 26246857.0]     1\n",
       " (33584923.0, 37253956.0]     1\n",
       " (26246857.0, 29915890.0]     0\n",
       " (29915890.0, 33584923.0]     0\n",
       " Name: count, dtype: int64)"
      ]
     },
     "execution_count": 39,
     "metadata": {},
     "output_type": "execute_result"
    }
   ],
   "source": [
    "# frequency table\n",
    "bin_data = pd.cut(data['Population'], bins=10)\n",
    "bin_data.head(), bin_data.value_counts()"
   ]
  },
  {
   "cell_type": "code",
   "execution_count": 44,
   "metadata": {},
   "outputs": [
    {
     "data": {
      "image/png": "[encoded data removed]",
      "text/plain": [
       "<Figure size 400x400 with 1 Axes>"
      ]
     },
     "metadata": {},
     "output_type": "display_data"
    }
   ],
   "source": [
    "# histogram\n",
    "ax = (data['Population'] / 1_000_000).plot.hist(bins=10, figsize=(4, 4))\n",
    "ax.set_xlabel('Population (millions)')\n",
    "ax.set_ylabel('Frequency')\n",
    "\n",
    "plt.tight_layout()\n",
    "plt.show()"
   ]
  },
  {
   "cell_type": "code",
   "execution_count": null,
   "metadata": {},
   "outputs": [
    {
     "data": {
      "image/png": "[encoded data removed]",
      "text/plain": [
       "<Figure size 640x480 with 1 Axes>"
      ]
     },
     "metadata": {},
     "output_type": "display_data"
    }
   ],
   "source": [
    "# density\n",
    "ax = data['Murder.Rate'].plot.hist(\n",
    "    density=True, xlim=[0, 12], bins=range(1, 12))\n",
    "data['Murder.Rate'].plot.density(ax=ax)\n",
    "ax.set_xlabel('Murder Rate')\n",
    "\n",
    "plt.tight_layout()\n",
    "plt.show()"
   ]
  },
  {
   "cell_type": "markdown",
   "metadata": {},
   "source": [
    "# Categorical Data\n",
    "* bar charts\n",
    "* pie charts"
   ]
  },
  {
   "cell_type": "code",
   "execution_count": 50,
   "metadata": {},
   "outputs": [
    {
     "data": {
      "text/html": [
       "<div>\n",
       "<style scoped>\n",
       "    .dataframe tbody tr th:only-of-type {\n",
       "        vertical-align: middle;\n",
       "    }\n",
       "\n",
       "    .dataframe tbody tr th {\n",
       "        vertical-align: top;\n",
       "    }\n",
       "\n",
       "    .dataframe thead th {\n",
       "        text-align: right;\n",
       "    }\n",
       "</style>\n",
       "<table border=\"1\" class=\"dataframe\">\n",
       "  <thead>\n",
       "    <tr style=\"text-align: right;\">\n",
       "      <th></th>\n",
       "      <th>Carrier</th>\n",
       "      <th>ATC</th>\n",
       "      <th>Weather</th>\n",
       "      <th>Security</th>\n",
       "      <th>Inbound</th>\n",
       "    </tr>\n",
       "  </thead>\n",
       "  <tbody>\n",
       "    <tr>\n",
       "      <th>0</th>\n",
       "      <td>64263.16</td>\n",
       "      <td>84856.5</td>\n",
       "      <td>11235.42</td>\n",
       "      <td>343.15</td>\n",
       "      <td>118427.82</td>\n",
       "    </tr>\n",
       "  </tbody>\n",
       "</table>\n",
       "</div>"
      ],
      "text/plain": [
       "    Carrier      ATC   Weather  Security    Inbound\n",
       "0  64263.16  84856.5  11235.42    343.15  118427.82"
      ]
     },
     "execution_count": 50,
     "metadata": {},
     "output_type": "execute_result"
    }
   ],
   "source": [
    "data = pd.read_csv('https://raw.githubusercontent.com/gedeck/practical-statistics-for-data-scientists/refs/heads/master/data/dfw_airline.csv')\n",
    "data"
   ]
  },
  {
   "cell_type": "code",
   "execution_count": 52,
   "metadata": {},
   "outputs": [
    {
     "data": {
      "image/png": "[encoded data removed]",
      "text/plain": [
       "<Figure size 400x400 with 1 Axes>"
      ]
     },
     "metadata": {},
     "output_type": "display_data"
    }
   ],
   "source": [
    "# bar chart\n",
    "ax = data.transpose().plot.bar(figsize=(4,4), legend=False)\n",
    "ax.set_xlabel('Cause of delay')\n",
    "ax.set_ylabel('Count')\n",
    "\n",
    "plt.tight_layout()\n",
    "plt.show()"
   ]
  },
  {
   "cell_type": "markdown",
   "metadata": {},
   "source": [
    "# Correlation\n",
    "* 相关系数 correlation coefficient\n",
    "* 散点图 scatterplot\n"
   ]
  },
  {
   "cell_type": "code",
   "execution_count": 53,
   "metadata": {},
   "outputs": [
    {
     "data": {
      "text/html": [
       "<div>\n",
       "<style scoped>\n",
       "    .dataframe tbody tr th:only-of-type {\n",
       "        vertical-align: middle;\n",
       "    }\n",
       "\n",
       "    .dataframe tbody tr th {\n",
       "        vertical-align: top;\n",
       "    }\n",
       "\n",
       "    .dataframe thead th {\n",
       "        text-align: right;\n",
       "    }\n",
       "</style>\n",
       "<table border=\"1\" class=\"dataframe\">\n",
       "  <thead>\n",
       "    <tr style=\"text-align: right;\">\n",
       "      <th></th>\n",
       "      <th>sector</th>\n",
       "      <th>sector_label</th>\n",
       "      <th>sub_sector</th>\n",
       "      <th>symbol</th>\n",
       "    </tr>\n",
       "  </thead>\n",
       "  <tbody>\n",
       "    <tr>\n",
       "      <th>0</th>\n",
       "      <td>information_technology</td>\n",
       "      <td>Technology</td>\n",
       "      <td>data_processing_&amp;_outsourced_services</td>\n",
       "      <td>ADS</td>\n",
       "    </tr>\n",
       "    <tr>\n",
       "      <th>1</th>\n",
       "      <td>information_technology</td>\n",
       "      <td>Technology</td>\n",
       "      <td>systems_software</td>\n",
       "      <td>CA</td>\n",
       "    </tr>\n",
       "    <tr>\n",
       "      <th>2</th>\n",
       "      <td>information_technology</td>\n",
       "      <td>Technology</td>\n",
       "      <td>systems_software</td>\n",
       "      <td>MSFT</td>\n",
       "    </tr>\n",
       "    <tr>\n",
       "      <th>3</th>\n",
       "      <td>information_technology</td>\n",
       "      <td>Technology</td>\n",
       "      <td>systems_software</td>\n",
       "      <td>RHT</td>\n",
       "    </tr>\n",
       "    <tr>\n",
       "      <th>4</th>\n",
       "      <td>information_technology</td>\n",
       "      <td>Technology</td>\n",
       "      <td>it_consulting_&amp;_services</td>\n",
       "      <td>CTSH</td>\n",
       "    </tr>\n",
       "  </tbody>\n",
       "</table>\n",
       "</div>"
      ],
      "text/plain": [
       "                   sector sector_label                             sub_sector  \\\n",
       "0  information_technology   Technology  data_processing_&_outsourced_services   \n",
       "1  information_technology   Technology                       systems_software   \n",
       "2  information_technology   Technology                       systems_software   \n",
       "3  information_technology   Technology                       systems_software   \n",
       "4  information_technology   Technology               it_consulting_&_services   \n",
       "\n",
       "  symbol  \n",
       "0    ADS  \n",
       "1     CA  \n",
       "2   MSFT  \n",
       "3    RHT  \n",
       "4   CTSH  "
      ]
     },
     "execution_count": 53,
     "metadata": {},
     "output_type": "execute_result"
    }
   ],
   "source": [
    "sp500_sym = pd.read_csv('https://raw.githubusercontent.com/gedeck/practical-statistics-for-data-scientists/refs/heads/master/data/sp500_sectors.csv')\n",
    "sp500_sym.head()"
   ]
  },
  {
   "cell_type": "code",
   "execution_count": 55,
   "metadata": {},
   "outputs": [
    {
     "data": {
      "text/html": [
       "<div>\n",
       "<style scoped>\n",
       "    .dataframe tbody tr th:only-of-type {\n",
       "        vertical-align: middle;\n",
       "    }\n",
       "\n",
       "    .dataframe tbody tr th {\n",
       "        vertical-align: top;\n",
       "    }\n",
       "\n",
       "    .dataframe thead th {\n",
       "        text-align: right;\n",
       "    }\n",
       "</style>\n",
       "<table border=\"1\" class=\"dataframe\">\n",
       "  <thead>\n",
       "    <tr style=\"text-align: right;\">\n",
       "      <th></th>\n",
       "      <th>ADS</th>\n",
       "      <th>CA</th>\n",
       "      <th>MSFT</th>\n",
       "      <th>RHT</th>\n",
       "      <th>CTSH</th>\n",
       "      <th>CSC</th>\n",
       "      <th>EMC</th>\n",
       "      <th>IBM</th>\n",
       "      <th>XRX</th>\n",
       "      <th>ALTR</th>\n",
       "      <th>...</th>\n",
       "      <th>WAT</th>\n",
       "      <th>ALXN</th>\n",
       "      <th>AMGN</th>\n",
       "      <th>BXLT</th>\n",
       "      <th>BIIB</th>\n",
       "      <th>CELG</th>\n",
       "      <th>GILD</th>\n",
       "      <th>REGN</th>\n",
       "      <th>VRTX</th>\n",
       "      <th>HSIC</th>\n",
       "    </tr>\n",
       "  </thead>\n",
       "  <tbody>\n",
       "    <tr>\n",
       "      <th>1993-01-29</th>\n",
       "      <td>0.0</td>\n",
       "      <td>0.060124</td>\n",
       "      <td>-0.022100</td>\n",
       "      <td>0.0</td>\n",
       "      <td>0.0</td>\n",
       "      <td>0.018897</td>\n",
       "      <td>0.007368</td>\n",
       "      <td>0.092165</td>\n",
       "      <td>0.259140</td>\n",
       "      <td>-0.007105</td>\n",
       "      <td>...</td>\n",
       "      <td>0.0</td>\n",
       "      <td>0.0</td>\n",
       "      <td>0.34716</td>\n",
       "      <td>0.0</td>\n",
       "      <td>0.04167</td>\n",
       "      <td>0.00000</td>\n",
       "      <td>0.015564</td>\n",
       "      <td>1.75</td>\n",
       "      <td>0.1250</td>\n",
       "      <td>0.0</td>\n",
       "    </tr>\n",
       "    <tr>\n",
       "      <th>1993-02-01</th>\n",
       "      <td>0.0</td>\n",
       "      <td>-0.180389</td>\n",
       "      <td>0.027621</td>\n",
       "      <td>0.0</td>\n",
       "      <td>0.0</td>\n",
       "      <td>0.018889</td>\n",
       "      <td>0.018425</td>\n",
       "      <td>0.115207</td>\n",
       "      <td>-0.100775</td>\n",
       "      <td>0.063893</td>\n",
       "      <td>...</td>\n",
       "      <td>0.0</td>\n",
       "      <td>0.0</td>\n",
       "      <td>-0.23144</td>\n",
       "      <td>0.0</td>\n",
       "      <td>0.00000</td>\n",
       "      <td>-0.01041</td>\n",
       "      <td>0.007782</td>\n",
       "      <td>1.25</td>\n",
       "      <td>0.1250</td>\n",
       "      <td>0.0</td>\n",
       "    </tr>\n",
       "    <tr>\n",
       "      <th>1993-02-02</th>\n",
       "      <td>0.0</td>\n",
       "      <td>-0.120257</td>\n",
       "      <td>0.035900</td>\n",
       "      <td>0.0</td>\n",
       "      <td>0.0</td>\n",
       "      <td>-0.075573</td>\n",
       "      <td>0.029482</td>\n",
       "      <td>-0.023041</td>\n",
       "      <td>0.028796</td>\n",
       "      <td>-0.014192</td>\n",
       "      <td>...</td>\n",
       "      <td>0.0</td>\n",
       "      <td>0.0</td>\n",
       "      <td>-0.11572</td>\n",
       "      <td>0.0</td>\n",
       "      <td>0.00000</td>\n",
       "      <td>0.00000</td>\n",
       "      <td>-0.007792</td>\n",
       "      <td>-0.25</td>\n",
       "      <td>0.0000</td>\n",
       "      <td>0.0</td>\n",
       "    </tr>\n",
       "    <tr>\n",
       "      <th>1993-02-03</th>\n",
       "      <td>0.0</td>\n",
       "      <td>0.060124</td>\n",
       "      <td>-0.024857</td>\n",
       "      <td>0.0</td>\n",
       "      <td>0.0</td>\n",
       "      <td>-0.151128</td>\n",
       "      <td>0.003689</td>\n",
       "      <td>-0.253454</td>\n",
       "      <td>-0.043190</td>\n",
       "      <td>-0.007105</td>\n",
       "      <td>...</td>\n",
       "      <td>0.0</td>\n",
       "      <td>0.0</td>\n",
       "      <td>-0.08679</td>\n",
       "      <td>0.0</td>\n",
       "      <td>0.04167</td>\n",
       "      <td>-0.04167</td>\n",
       "      <td>-0.038919</td>\n",
       "      <td>-0.50</td>\n",
       "      <td>0.0625</td>\n",
       "      <td>0.0</td>\n",
       "    </tr>\n",
       "    <tr>\n",
       "      <th>1993-02-04</th>\n",
       "      <td>0.0</td>\n",
       "      <td>-0.360770</td>\n",
       "      <td>-0.060757</td>\n",
       "      <td>0.0</td>\n",
       "      <td>0.0</td>\n",
       "      <td>0.113350</td>\n",
       "      <td>-0.022114</td>\n",
       "      <td>0.069862</td>\n",
       "      <td>0.000000</td>\n",
       "      <td>-0.007096</td>\n",
       "      <td>...</td>\n",
       "      <td>0.0</td>\n",
       "      <td>0.0</td>\n",
       "      <td>0.14465</td>\n",
       "      <td>0.0</td>\n",
       "      <td>-0.04166</td>\n",
       "      <td>-0.03126</td>\n",
       "      <td>-0.046711</td>\n",
       "      <td>0.00</td>\n",
       "      <td>0.0625</td>\n",
       "      <td>0.0</td>\n",
       "    </tr>\n",
       "  </tbody>\n",
       "</table>\n",
       "<p>5 rows × 517 columns</p>\n",
       "</div>"
      ],
      "text/plain": [
       "            ADS        CA      MSFT  RHT  CTSH       CSC       EMC       IBM  \\\n",
       "1993-01-29  0.0  0.060124 -0.022100  0.0   0.0  0.018897  0.007368  0.092165   \n",
       "1993-02-01  0.0 -0.180389  0.027621  0.0   0.0  0.018889  0.018425  0.115207   \n",
       "1993-02-02  0.0 -0.120257  0.035900  0.0   0.0 -0.075573  0.029482 -0.023041   \n",
       "1993-02-03  0.0  0.060124 -0.024857  0.0   0.0 -0.151128  0.003689 -0.253454   \n",
       "1993-02-04  0.0 -0.360770 -0.060757  0.0   0.0  0.113350 -0.022114  0.069862   \n",
       "\n",
       "                 XRX      ALTR  ...  WAT  ALXN     AMGN  BXLT     BIIB  \\\n",
       "1993-01-29  0.259140 -0.007105  ...  0.0   0.0  0.34716   0.0  0.04167   \n",
       "1993-02-01 -0.100775  0.063893  ...  0.0   0.0 -0.23144   0.0  0.00000   \n",
       "1993-02-02  0.028796 -0.014192  ...  0.0   0.0 -0.11572   0.0  0.00000   \n",
       "1993-02-03 -0.043190 -0.007105  ...  0.0   0.0 -0.08679   0.0  0.04167   \n",
       "1993-02-04  0.000000 -0.007096  ...  0.0   0.0  0.14465   0.0 -0.04166   \n",
       "\n",
       "               CELG      GILD  REGN    VRTX  HSIC  \n",
       "1993-01-29  0.00000  0.015564  1.75  0.1250   0.0  \n",
       "1993-02-01 -0.01041  0.007782  1.25  0.1250   0.0  \n",
       "1993-02-02  0.00000 -0.007792 -0.25  0.0000   0.0  \n",
       "1993-02-03 -0.04167 -0.038919 -0.50  0.0625   0.0  \n",
       "1993-02-04 -0.03126 -0.046711  0.00  0.0625   0.0  \n",
       "\n",
       "[5 rows x 517 columns]"
      ]
     },
     "execution_count": 55,
     "metadata": {},
     "output_type": "execute_result"
    }
   ],
   "source": [
    "# 20.2 MB\n",
    "sp500_px = pd.read_csv('https://raw.githubusercontent.com/gedeck/practical-statistics-for-data-scientists/refs/heads/master/data/sp500_data.csv.gz', index_col=0)\n",
    "sp500_px.head()"
   ]
  },
  {
   "cell_type": "code",
   "execution_count": 57,
   "metadata": {},
   "outputs": [
    {
     "data": {
      "text/plain": [
       "{'consumer_discretionary',\n",
       " 'consumer_staples',\n",
       " 'energy',\n",
       " 'etf',\n",
       " 'financials',\n",
       " 'health_care',\n",
       " 'industrials',\n",
       " 'information_technology',\n",
       " 'materials',\n",
       " 'telecommunications_services',\n",
       " 'utilities'}"
      ]
     },
     "execution_count": 57,
     "metadata": {},
     "output_type": "execute_result"
    }
   ],
   "source": [
    "set(sp500_sym['sector'])"
   ]
  },
  {
   "cell_type": "code",
   "execution_count": 58,
   "metadata": {},
   "outputs": [
    {
     "data": {
      "text/html": [
       "<div>\n",
       "<style scoped>\n",
       "    .dataframe tbody tr th:only-of-type {\n",
       "        vertical-align: middle;\n",
       "    }\n",
       "\n",
       "    .dataframe tbody tr th {\n",
       "        vertical-align: top;\n",
       "    }\n",
       "\n",
       "    .dataframe thead th {\n",
       "        text-align: right;\n",
       "    }\n",
       "</style>\n",
       "<table border=\"1\" class=\"dataframe\">\n",
       "  <thead>\n",
       "    <tr style=\"text-align: right;\">\n",
       "      <th></th>\n",
       "      <th>XLI</th>\n",
       "      <th>QQQ</th>\n",
       "      <th>SPY</th>\n",
       "      <th>DIA</th>\n",
       "      <th>GLD</th>\n",
       "      <th>VXX</th>\n",
       "      <th>USO</th>\n",
       "      <th>IWM</th>\n",
       "      <th>XLE</th>\n",
       "      <th>XLY</th>\n",
       "      <th>XLU</th>\n",
       "      <th>XLB</th>\n",
       "      <th>XTL</th>\n",
       "      <th>XLV</th>\n",
       "      <th>XLP</th>\n",
       "      <th>XLF</th>\n",
       "      <th>XLK</th>\n",
       "    </tr>\n",
       "  </thead>\n",
       "  <tbody>\n",
       "    <tr>\n",
       "      <th>2012-07-02</th>\n",
       "      <td>-0.376098</td>\n",
       "      <td>0.096313</td>\n",
       "      <td>0.028223</td>\n",
       "      <td>-0.242796</td>\n",
       "      <td>0.419998</td>\n",
       "      <td>-10.40</td>\n",
       "      <td>0.000000</td>\n",
       "      <td>0.534641</td>\n",
       "      <td>0.028186</td>\n",
       "      <td>0.095759</td>\n",
       "      <td>0.098311</td>\n",
       "      <td>-0.093713</td>\n",
       "      <td>0.019076</td>\n",
       "      <td>-0.009529</td>\n",
       "      <td>0.313499</td>\n",
       "      <td>0.018999</td>\n",
       "      <td>0.075668</td>\n",
       "    </tr>\n",
       "    <tr>\n",
       "      <th>2012-07-03</th>\n",
       "      <td>0.376099</td>\n",
       "      <td>0.481576</td>\n",
       "      <td>0.874936</td>\n",
       "      <td>0.728405</td>\n",
       "      <td>0.490006</td>\n",
       "      <td>-3.52</td>\n",
       "      <td>0.250000</td>\n",
       "      <td>0.926067</td>\n",
       "      <td>0.995942</td>\n",
       "      <td>0.000000</td>\n",
       "      <td>-0.044686</td>\n",
       "      <td>0.337373</td>\n",
       "      <td>0.000000</td>\n",
       "      <td>0.000000</td>\n",
       "      <td>0.129087</td>\n",
       "      <td>0.104492</td>\n",
       "      <td>0.236462</td>\n",
       "    </tr>\n",
       "    <tr>\n",
       "      <th>2012-07-05</th>\n",
       "      <td>0.150440</td>\n",
       "      <td>0.096313</td>\n",
       "      <td>-0.103487</td>\n",
       "      <td>0.149420</td>\n",
       "      <td>0.239991</td>\n",
       "      <td>6.56</td>\n",
       "      <td>-0.070000</td>\n",
       "      <td>-0.171848</td>\n",
       "      <td>-0.460387</td>\n",
       "      <td>0.306431</td>\n",
       "      <td>-0.151938</td>\n",
       "      <td>0.103086</td>\n",
       "      <td>0.019072</td>\n",
       "      <td>-0.142955</td>\n",
       "      <td>-0.073766</td>\n",
       "      <td>-0.142490</td>\n",
       "      <td>0.066211</td>\n",
       "    </tr>\n",
       "    <tr>\n",
       "      <th>2012-07-06</th>\n",
       "      <td>-0.141040</td>\n",
       "      <td>-0.491201</td>\n",
       "      <td>0.018819</td>\n",
       "      <td>-0.205449</td>\n",
       "      <td>-0.519989</td>\n",
       "      <td>-8.80</td>\n",
       "      <td>-0.180000</td>\n",
       "      <td>-0.229128</td>\n",
       "      <td>0.206706</td>\n",
       "      <td>0.153214</td>\n",
       "      <td>0.080437</td>\n",
       "      <td>0.018744</td>\n",
       "      <td>-0.429213</td>\n",
       "      <td>-0.095304</td>\n",
       "      <td>0.119865</td>\n",
       "      <td>0.066495</td>\n",
       "      <td>-0.227003</td>\n",
       "    </tr>\n",
       "    <tr>\n",
       "      <th>2012-07-09</th>\n",
       "      <td>0.244465</td>\n",
       "      <td>-0.048160</td>\n",
       "      <td>-0.056445</td>\n",
       "      <td>-0.168094</td>\n",
       "      <td>0.429992</td>\n",
       "      <td>-0.48</td>\n",
       "      <td>0.459999</td>\n",
       "      <td>-0.190939</td>\n",
       "      <td>-0.234892</td>\n",
       "      <td>-0.201098</td>\n",
       "      <td>-0.035751</td>\n",
       "      <td>-0.168687</td>\n",
       "      <td>0.000000</td>\n",
       "      <td>0.352630</td>\n",
       "      <td>-0.064548</td>\n",
       "      <td>0.018999</td>\n",
       "      <td>0.009457</td>\n",
       "    </tr>\n",
       "  </tbody>\n",
       "</table>\n",
       "</div>"
      ],
      "text/plain": [
       "                 XLI       QQQ       SPY       DIA       GLD    VXX       USO  \\\n",
       "2012-07-02 -0.376098  0.096313  0.028223 -0.242796  0.419998 -10.40  0.000000   \n",
       "2012-07-03  0.376099  0.481576  0.874936  0.728405  0.490006  -3.52  0.250000   \n",
       "2012-07-05  0.150440  0.096313 -0.103487  0.149420  0.239991   6.56 -0.070000   \n",
       "2012-07-06 -0.141040 -0.491201  0.018819 -0.205449 -0.519989  -8.80 -0.180000   \n",
       "2012-07-09  0.244465 -0.048160 -0.056445 -0.168094  0.429992  -0.48  0.459999   \n",
       "\n",
       "                 IWM       XLE       XLY       XLU       XLB       XTL  \\\n",
       "2012-07-02  0.534641  0.028186  0.095759  0.098311 -0.093713  0.019076   \n",
       "2012-07-03  0.926067  0.995942  0.000000 -0.044686  0.337373  0.000000   \n",
       "2012-07-05 -0.171848 -0.460387  0.306431 -0.151938  0.103086  0.019072   \n",
       "2012-07-06 -0.229128  0.206706  0.153214  0.080437  0.018744 -0.429213   \n",
       "2012-07-09 -0.190939 -0.234892 -0.201098 -0.035751 -0.168687  0.000000   \n",
       "\n",
       "                 XLV       XLP       XLF       XLK  \n",
       "2012-07-02 -0.009529  0.313499  0.018999  0.075668  \n",
       "2012-07-03  0.000000  0.129087  0.104492  0.236462  \n",
       "2012-07-05 -0.142955 -0.073766 -0.142490  0.066211  \n",
       "2012-07-06 -0.095304  0.119865  0.066495 -0.227003  \n",
       "2012-07-09  0.352630 -0.064548  0.018999  0.009457  "
      ]
     },
     "execution_count": 58,
     "metadata": {},
     "output_type": "execute_result"
    }
   ],
   "source": [
    "etfs = sp500_px.loc[sp500_px.index > '2012-07-01', \n",
    "                    sp500_sym[sp500_sym['sector'] == 'etf']['symbol']]\n",
    "etfs.head()"
   ]
  },
  {
   "cell_type": "code",
   "execution_count": 60,
   "metadata": {},
   "outputs": [
    {
     "data": {
      "text/html": [
       "<div>\n",
       "<style scoped>\n",
       "    .dataframe tbody tr th:only-of-type {\n",
       "        vertical-align: middle;\n",
       "    }\n",
       "\n",
       "    .dataframe tbody tr th {\n",
       "        vertical-align: top;\n",
       "    }\n",
       "\n",
       "    .dataframe thead th {\n",
       "        text-align: right;\n",
       "    }\n",
       "</style>\n",
       "<table border=\"1\" class=\"dataframe\">\n",
       "  <thead>\n",
       "    <tr style=\"text-align: right;\">\n",
       "      <th></th>\n",
       "      <th>XLI</th>\n",
       "      <th>QQQ</th>\n",
       "      <th>SPY</th>\n",
       "      <th>DIA</th>\n",
       "      <th>GLD</th>\n",
       "      <th>VXX</th>\n",
       "      <th>USO</th>\n",
       "      <th>IWM</th>\n",
       "      <th>XLE</th>\n",
       "      <th>XLY</th>\n",
       "      <th>XLU</th>\n",
       "      <th>XLB</th>\n",
       "      <th>XTL</th>\n",
       "      <th>XLV</th>\n",
       "      <th>XLP</th>\n",
       "      <th>XLF</th>\n",
       "      <th>XLK</th>\n",
       "    </tr>\n",
       "  </thead>\n",
       "  <tbody>\n",
       "    <tr>\n",
       "      <th>XLI</th>\n",
       "      <td>1.000000</td>\n",
       "      <td>0.785865</td>\n",
       "      <td>0.888865</td>\n",
       "      <td>0.869680</td>\n",
       "      <td>0.056554</td>\n",
       "      <td>-0.468196</td>\n",
       "      <td>0.236881</td>\n",
       "      <td>0.782380</td>\n",
       "      <td>0.650054</td>\n",
       "      <td>0.798080</td>\n",
       "      <td>0.380809</td>\n",
       "      <td>0.784144</td>\n",
       "      <td>0.374000</td>\n",
       "      <td>0.663022</td>\n",
       "      <td>0.600424</td>\n",
       "      <td>0.787340</td>\n",
       "      <td>0.777773</td>\n",
       "    </tr>\n",
       "    <tr>\n",
       "      <th>QQQ</th>\n",
       "      <td>0.785865</td>\n",
       "      <td>1.000000</td>\n",
       "      <td>0.908995</td>\n",
       "      <td>0.834440</td>\n",
       "      <td>0.043553</td>\n",
       "      <td>-0.470555</td>\n",
       "      <td>0.199492</td>\n",
       "      <td>0.810158</td>\n",
       "      <td>0.560044</td>\n",
       "      <td>0.839701</td>\n",
       "      <td>0.346667</td>\n",
       "      <td>0.713463</td>\n",
       "      <td>0.421790</td>\n",
       "      <td>0.775392</td>\n",
       "      <td>0.614806</td>\n",
       "      <td>0.752771</td>\n",
       "      <td>0.945126</td>\n",
       "    </tr>\n",
       "    <tr>\n",
       "      <th>SPY</th>\n",
       "      <td>0.888865</td>\n",
       "      <td>0.908995</td>\n",
       "      <td>1.000000</td>\n",
       "      <td>0.953726</td>\n",
       "      <td>0.078722</td>\n",
       "      <td>-0.547074</td>\n",
       "      <td>0.272069</td>\n",
       "      <td>0.833937</td>\n",
       "      <td>0.713300</td>\n",
       "      <td>0.887028</td>\n",
       "      <td>0.481928</td>\n",
       "      <td>0.826053</td>\n",
       "      <td>0.406181</td>\n",
       "      <td>0.811269</td>\n",
       "      <td>0.744466</td>\n",
       "      <td>0.883616</td>\n",
       "      <td>0.886588</td>\n",
       "    </tr>\n",
       "    <tr>\n",
       "      <th>DIA</th>\n",
       "      <td>0.869680</td>\n",
       "      <td>0.834440</td>\n",
       "      <td>0.953726</td>\n",
       "      <td>1.000000</td>\n",
       "      <td>0.051523</td>\n",
       "      <td>-0.511327</td>\n",
       "      <td>0.256793</td>\n",
       "      <td>0.758012</td>\n",
       "      <td>0.658311</td>\n",
       "      <td>0.847043</td>\n",
       "      <td>0.463364</td>\n",
       "      <td>0.787415</td>\n",
       "      <td>0.383928</td>\n",
       "      <td>0.771044</td>\n",
       "      <td>0.753725</td>\n",
       "      <td>0.860556</td>\n",
       "      <td>0.842757</td>\n",
       "    </tr>\n",
       "    <tr>\n",
       "      <th>GLD</th>\n",
       "      <td>0.056554</td>\n",
       "      <td>0.043553</td>\n",
       "      <td>0.078722</td>\n",
       "      <td>0.051523</td>\n",
       "      <td>1.000000</td>\n",
       "      <td>-0.107488</td>\n",
       "      <td>0.216563</td>\n",
       "      <td>0.070110</td>\n",
       "      <td>0.188625</td>\n",
       "      <td>0.017467</td>\n",
       "      <td>0.121611</td>\n",
       "      <td>0.184366</td>\n",
       "      <td>-0.042233</td>\n",
       "      <td>-0.010200</td>\n",
       "      <td>0.033047</td>\n",
       "      <td>0.043039</td>\n",
       "      <td>0.053022</td>\n",
       "    </tr>\n",
       "    <tr>\n",
       "      <th>VXX</th>\n",
       "      <td>-0.468196</td>\n",
       "      <td>-0.470555</td>\n",
       "      <td>-0.547074</td>\n",
       "      <td>-0.511327</td>\n",
       "      <td>-0.107488</td>\n",
       "      <td>1.000000</td>\n",
       "      <td>-0.195397</td>\n",
       "      <td>-0.448942</td>\n",
       "      <td>-0.448474</td>\n",
       "      <td>-0.474756</td>\n",
       "      <td>-0.260395</td>\n",
       "      <td>-0.470890</td>\n",
       "      <td>-0.205661</td>\n",
       "      <td>-0.380925</td>\n",
       "      <td>-0.416913</td>\n",
       "      <td>-0.514365</td>\n",
       "      <td>-0.477258</td>\n",
       "    </tr>\n",
       "    <tr>\n",
       "      <th>USO</th>\n",
       "      <td>0.236881</td>\n",
       "      <td>0.199492</td>\n",
       "      <td>0.272069</td>\n",
       "      <td>0.256793</td>\n",
       "      <td>0.216563</td>\n",
       "      <td>-0.195397</td>\n",
       "      <td>1.000000</td>\n",
       "      <td>0.249799</td>\n",
       "      <td>0.525943</td>\n",
       "      <td>0.183275</td>\n",
       "      <td>0.113182</td>\n",
       "      <td>0.324166</td>\n",
       "      <td>0.078796</td>\n",
       "      <td>0.119500</td>\n",
       "      <td>0.116857</td>\n",
       "      <td>0.221760</td>\n",
       "      <td>0.225962</td>\n",
       "    </tr>\n",
       "    <tr>\n",
       "      <th>IWM</th>\n",
       "      <td>0.782380</td>\n",
       "      <td>0.810158</td>\n",
       "      <td>0.833937</td>\n",
       "      <td>0.758012</td>\n",
       "      <td>0.070110</td>\n",
       "      <td>-0.448942</td>\n",
       "      <td>0.249799</td>\n",
       "      <td>1.000000</td>\n",
       "      <td>0.586991</td>\n",
       "      <td>0.779750</td>\n",
       "      <td>0.325003</td>\n",
       "      <td>0.701533</td>\n",
       "      <td>0.387274</td>\n",
       "      <td>0.664288</td>\n",
       "      <td>0.537065</td>\n",
       "      <td>0.756282</td>\n",
       "      <td>0.760438</td>\n",
       "    </tr>\n",
       "    <tr>\n",
       "      <th>XLE</th>\n",
       "      <td>0.650054</td>\n",
       "      <td>0.560044</td>\n",
       "      <td>0.713300</td>\n",
       "      <td>0.658311</td>\n",
       "      <td>0.188625</td>\n",
       "      <td>-0.448474</td>\n",
       "      <td>0.525943</td>\n",
       "      <td>0.586991</td>\n",
       "      <td>1.000000</td>\n",
       "      <td>0.578956</td>\n",
       "      <td>0.337942</td>\n",
       "      <td>0.689778</td>\n",
       "      <td>0.260463</td>\n",
       "      <td>0.454457</td>\n",
       "      <td>0.413486</td>\n",
       "      <td>0.599129</td>\n",
       "      <td>0.559324</td>\n",
       "    </tr>\n",
       "    <tr>\n",
       "      <th>XLY</th>\n",
       "      <td>0.798080</td>\n",
       "      <td>0.839701</td>\n",
       "      <td>0.887028</td>\n",
       "      <td>0.847043</td>\n",
       "      <td>0.017467</td>\n",
       "      <td>-0.474756</td>\n",
       "      <td>0.183275</td>\n",
       "      <td>0.779750</td>\n",
       "      <td>0.578956</td>\n",
       "      <td>1.000000</td>\n",
       "      <td>0.366827</td>\n",
       "      <td>0.721232</td>\n",
       "      <td>0.370299</td>\n",
       "      <td>0.702860</td>\n",
       "      <td>0.663055</td>\n",
       "      <td>0.782053</td>\n",
       "      <td>0.772189</td>\n",
       "    </tr>\n",
       "    <tr>\n",
       "      <th>XLU</th>\n",
       "      <td>0.380809</td>\n",
       "      <td>0.346667</td>\n",
       "      <td>0.481928</td>\n",
       "      <td>0.463364</td>\n",
       "      <td>0.121611</td>\n",
       "      <td>-0.260395</td>\n",
       "      <td>0.113182</td>\n",
       "      <td>0.325003</td>\n",
       "      <td>0.337942</td>\n",
       "      <td>0.366827</td>\n",
       "      <td>1.000000</td>\n",
       "      <td>0.363410</td>\n",
       "      <td>0.136935</td>\n",
       "      <td>0.398578</td>\n",
       "      <td>0.528730</td>\n",
       "      <td>0.409343</td>\n",
       "      <td>0.355003</td>\n",
       "    </tr>\n",
       "    <tr>\n",
       "      <th>XLB</th>\n",
       "      <td>0.784144</td>\n",
       "      <td>0.713463</td>\n",
       "      <td>0.826053</td>\n",
       "      <td>0.787415</td>\n",
       "      <td>0.184366</td>\n",
       "      <td>-0.470890</td>\n",
       "      <td>0.324166</td>\n",
       "      <td>0.701533</td>\n",
       "      <td>0.689778</td>\n",
       "      <td>0.721232</td>\n",
       "      <td>0.363410</td>\n",
       "      <td>1.000000</td>\n",
       "      <td>0.346413</td>\n",
       "      <td>0.595411</td>\n",
       "      <td>0.533089</td>\n",
       "      <td>0.734593</td>\n",
       "      <td>0.709180</td>\n",
       "    </tr>\n",
       "    <tr>\n",
       "      <th>XTL</th>\n",
       "      <td>0.374000</td>\n",
       "      <td>0.421790</td>\n",
       "      <td>0.406181</td>\n",
       "      <td>0.383928</td>\n",
       "      <td>-0.042233</td>\n",
       "      <td>-0.205661</td>\n",
       "      <td>0.078796</td>\n",
       "      <td>0.387274</td>\n",
       "      <td>0.260463</td>\n",
       "      <td>0.370299</td>\n",
       "      <td>0.136935</td>\n",
       "      <td>0.346413</td>\n",
       "      <td>1.000000</td>\n",
       "      <td>0.324929</td>\n",
       "      <td>0.252531</td>\n",
       "      <td>0.345952</td>\n",
       "      <td>0.415560</td>\n",
       "    </tr>\n",
       "    <tr>\n",
       "      <th>XLV</th>\n",
       "      <td>0.663022</td>\n",
       "      <td>0.775392</td>\n",
       "      <td>0.811269</td>\n",
       "      <td>0.771044</td>\n",
       "      <td>-0.010200</td>\n",
       "      <td>-0.380925</td>\n",
       "      <td>0.119500</td>\n",
       "      <td>0.664288</td>\n",
       "      <td>0.454457</td>\n",
       "      <td>0.702860</td>\n",
       "      <td>0.398578</td>\n",
       "      <td>0.595411</td>\n",
       "      <td>0.324929</td>\n",
       "      <td>1.000000</td>\n",
       "      <td>0.648345</td>\n",
       "      <td>0.674114</td>\n",
       "      <td>0.676312</td>\n",
       "    </tr>\n",
       "    <tr>\n",
       "      <th>XLP</th>\n",
       "      <td>0.600424</td>\n",
       "      <td>0.614806</td>\n",
       "      <td>0.744466</td>\n",
       "      <td>0.753725</td>\n",
       "      <td>0.033047</td>\n",
       "      <td>-0.416913</td>\n",
       "      <td>0.116857</td>\n",
       "      <td>0.537065</td>\n",
       "      <td>0.413486</td>\n",
       "      <td>0.663055</td>\n",
       "      <td>0.528730</td>\n",
       "      <td>0.533089</td>\n",
       "      <td>0.252531</td>\n",
       "      <td>0.648345</td>\n",
       "      <td>1.000000</td>\n",
       "      <td>0.635411</td>\n",
       "      <td>0.609973</td>\n",
       "    </tr>\n",
       "    <tr>\n",
       "      <th>XLF</th>\n",
       "      <td>0.787340</td>\n",
       "      <td>0.752771</td>\n",
       "      <td>0.883616</td>\n",
       "      <td>0.860556</td>\n",
       "      <td>0.043039</td>\n",
       "      <td>-0.514365</td>\n",
       "      <td>0.221760</td>\n",
       "      <td>0.756282</td>\n",
       "      <td>0.599129</td>\n",
       "      <td>0.782053</td>\n",
       "      <td>0.409343</td>\n",
       "      <td>0.734593</td>\n",
       "      <td>0.345952</td>\n",
       "      <td>0.674114</td>\n",
       "      <td>0.635411</td>\n",
       "      <td>1.000000</td>\n",
       "      <td>0.745538</td>\n",
       "    </tr>\n",
       "    <tr>\n",
       "      <th>XLK</th>\n",
       "      <td>0.777773</td>\n",
       "      <td>0.945126</td>\n",
       "      <td>0.886588</td>\n",
       "      <td>0.842757</td>\n",
       "      <td>0.053022</td>\n",
       "      <td>-0.477258</td>\n",
       "      <td>0.225962</td>\n",
       "      <td>0.760438</td>\n",
       "      <td>0.559324</td>\n",
       "      <td>0.772189</td>\n",
       "      <td>0.355003</td>\n",
       "      <td>0.709180</td>\n",
       "      <td>0.415560</td>\n",
       "      <td>0.676312</td>\n",
       "      <td>0.609973</td>\n",
       "      <td>0.745538</td>\n",
       "      <td>1.000000</td>\n",
       "    </tr>\n",
       "  </tbody>\n",
       "</table>\n",
       "</div>"
      ],
      "text/plain": [
       "          XLI       QQQ       SPY       DIA       GLD       VXX       USO  \\\n",
       "XLI  1.000000  0.785865  0.888865  0.869680  0.056554 -0.468196  0.236881   \n",
       "QQQ  0.785865  1.000000  0.908995  0.834440  0.043553 -0.470555  0.199492   \n",
       "SPY  0.888865  0.908995  1.000000  0.953726  0.078722 -0.547074  0.272069   \n",
       "DIA  0.869680  0.834440  0.953726  1.000000  0.051523 -0.511327  0.256793   \n",
       "GLD  0.056554  0.043553  0.078722  0.051523  1.000000 -0.107488  0.216563   \n",
       "VXX -0.468196 -0.470555 -0.547074 -0.511327 -0.107488  1.000000 -0.195397   \n",
       "USO  0.236881  0.199492  0.272069  0.256793  0.216563 -0.195397  1.000000   \n",
       "IWM  0.782380  0.810158  0.833937  0.758012  0.070110 -0.448942  0.249799   \n",
       "XLE  0.650054  0.560044  0.713300  0.658311  0.188625 -0.448474  0.525943   \n",
       "XLY  0.798080  0.839701  0.887028  0.847043  0.017467 -0.474756  0.183275   \n",
       "XLU  0.380809  0.346667  0.481928  0.463364  0.121611 -0.260395  0.113182   \n",
       "XLB  0.784144  0.713463  0.826053  0.787415  0.184366 -0.470890  0.324166   \n",
       "XTL  0.374000  0.421790  0.406181  0.383928 -0.042233 -0.205661  0.078796   \n",
       "XLV  0.663022  0.775392  0.811269  0.771044 -0.010200 -0.380925  0.119500   \n",
       "XLP  0.600424  0.614806  0.744466  0.753725  0.033047 -0.416913  0.116857   \n",
       "XLF  0.787340  0.752771  0.883616  0.860556  0.043039 -0.514365  0.221760   \n",
       "XLK  0.777773  0.945126  0.886588  0.842757  0.053022 -0.477258  0.225962   \n",
       "\n",
       "          IWM       XLE       XLY       XLU       XLB       XTL       XLV  \\\n",
       "XLI  0.782380  0.650054  0.798080  0.380809  0.784144  0.374000  0.663022   \n",
       "QQQ  0.810158  0.560044  0.839701  0.346667  0.713463  0.421790  0.775392   \n",
       "SPY  0.833937  0.713300  0.887028  0.481928  0.826053  0.406181  0.811269   \n",
       "DIA  0.758012  0.658311  0.847043  0.463364  0.787415  0.383928  0.771044   \n",
       "GLD  0.070110  0.188625  0.017467  0.121611  0.184366 -0.042233 -0.010200   \n",
       "VXX -0.448942 -0.448474 -0.474756 -0.260395 -0.470890 -0.205661 -0.380925   \n",
       "USO  0.249799  0.525943  0.183275  0.113182  0.324166  0.078796  0.119500   \n",
       "IWM  1.000000  0.586991  0.779750  0.325003  0.701533  0.387274  0.664288   \n",
       "XLE  0.586991  1.000000  0.578956  0.337942  0.689778  0.260463  0.454457   \n",
       "XLY  0.779750  0.578956  1.000000  0.366827  0.721232  0.370299  0.702860   \n",
       "XLU  0.325003  0.337942  0.366827  1.000000  0.363410  0.136935  0.398578   \n",
       "XLB  0.701533  0.689778  0.721232  0.363410  1.000000  0.346413  0.595411   \n",
       "XTL  0.387274  0.260463  0.370299  0.136935  0.346413  1.000000  0.324929   \n",
       "XLV  0.664288  0.454457  0.702860  0.398578  0.595411  0.324929  1.000000   \n",
       "XLP  0.537065  0.413486  0.663055  0.528730  0.533089  0.252531  0.648345   \n",
       "XLF  0.756282  0.599129  0.782053  0.409343  0.734593  0.345952  0.674114   \n",
       "XLK  0.760438  0.559324  0.772189  0.355003  0.709180  0.415560  0.676312   \n",
       "\n",
       "          XLP       XLF       XLK  \n",
       "XLI  0.600424  0.787340  0.777773  \n",
       "QQQ  0.614806  0.752771  0.945126  \n",
       "SPY  0.744466  0.883616  0.886588  \n",
       "DIA  0.753725  0.860556  0.842757  \n",
       "GLD  0.033047  0.043039  0.053022  \n",
       "VXX -0.416913 -0.514365 -0.477258  \n",
       "USO  0.116857  0.221760  0.225962  \n",
       "IWM  0.537065  0.756282  0.760438  \n",
       "XLE  0.413486  0.599129  0.559324  \n",
       "XLY  0.663055  0.782053  0.772189  \n",
       "XLU  0.528730  0.409343  0.355003  \n",
       "XLB  0.533089  0.734593  0.709180  \n",
       "XTL  0.252531  0.345952  0.415560  \n",
       "XLV  0.648345  0.674114  0.676312  \n",
       "XLP  1.000000  0.635411  0.609973  \n",
       "XLF  0.635411  1.000000  0.745538  \n",
       "XLK  0.609973  0.745538  1.000000  "
      ]
     },
     "execution_count": 60,
     "metadata": {},
     "output_type": "execute_result"
    }
   ],
   "source": [
    "# correlation coefficient\n",
    "etfs.corr(method='pearson')"
   ]
  },
  {
   "cell_type": "code",
   "execution_count": 62,
   "metadata": {},
   "outputs": [
    {
     "data": {
      "text/plain": [
       "<Axes: >"
      ]
     },
     "execution_count": 62,
     "metadata": {},
     "output_type": "execute_result"
    },
    {
     "data": {
      "image/png": "[encoded data removed]",
      "text/plain": [
       "<Figure size 640x480 with 2 Axes>"
      ]
     },
     "metadata": {},
     "output_type": "display_data"
    }
   ],
   "source": [
    "# heatmap\n",
    "sns.heatmap(etfs.corr(), vmin=-1, vmax=1,\n",
    "            cmap=sns.diverging_palette(20, 220, as_cmap=True))"
   ]
  },
  {
   "cell_type": "code",
   "execution_count": 69,
   "metadata": {},
   "outputs": [
    {
     "data": {
      "image/png": "[encoded data removed]",
      "text/plain": [
       "<Figure size 400x400 with 1 Axes>"
      ]
     },
     "metadata": {},
     "output_type": "display_data"
    }
   ],
   "source": [
    "# scatterplot\n",
    "\n",
    "ax = etfs.plot.scatter(x='XLI', y='QQQ', figsize=(4, 4), marker='$\\u25EF$')\n",
    "ax.set_xlabel('XLI')\n",
    "ax.set_ylabel('QQQ')\n",
    "ax.axhline(0, color='grey', lw=1)\n",
    "ax.axvline(0, color='grey', lw=1)\n",
    "\n",
    "plt.tight_layout()\n",
    "plt.show()\n"
   ]
  },
  {
   "cell_type": "markdown",
   "metadata": {},
   "source": [
    "# Multivariate Analysis\n",
    "* hexagonal binning plot\n",
    "* contour plot\n",
    "\n",
    "cases:\n",
    "* numeric, numeric\n",
    "* categorical, categorical\n",
    "* categorical, numeric"
   ]
  }
 ],
 "metadata": {
  "kernelspec": {
   "display_name": "base",
   "language": "python",
   "name": "python3"
  },
  "language_info": {
   "codemirror_mode": {
    "name": "ipython",
    "version": 3
   },
   "file_extension": ".py",
   "mimetype": "text/x-python",
   "name": "python",
   "nbconvert_exporter": "python",
   "pygments_lexer": "ipython3",
   "version": "3.12.3"
  }
 },
 "nbformat": 4,
 "nbformat_minor": 2
}
