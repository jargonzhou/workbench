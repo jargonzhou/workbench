{
 "cells": [
  {
   "cell_type": "markdown",
   "metadata": {},
   "source": [
    "# Notations for Statistics"
   ]
  },
  {
   "cell_type": "markdown",
   "metadata": {},
   "source": [
    "# ISL: An Introduction to Statistical Learning"
   ]
  },
  {
   "cell_type": "markdown",
   "metadata": {},
   "source": [
    "* $n$: 采样中观测点的数量\n",
    "* $p$: 用于做出预测的变量的数量\n",
    "* $\\bold{X}$是$n \\times p$的矩阵, 第$(i,j)$个元素是$x_{ij}$\n",
    "\n",
    "$$\n",
    "\\bold{X} = \\begin{bmatrix}\n",
    "   x_{11} & x_{12} & \\cdots & x_{1p} \\\\\n",
    "   x_{21} & x_{22} & \\cdots & x_{2p} \\\\\n",
    "   \\vdots & \\vdots & \\ddots & \\vdots \\\\\n",
    "   x_{n1} & x_{n2} & \\cdots & x_{np}\n",
    "\\end{bmatrix}\n",
    "$$\n",
    "\n",
    "** 行视角 $x_{1}, x_{2}, \\cdots, x_{n}$, $x_{i}$是长度为$p$的向量\n",
    "\n",
    "$$\n",
    "x_{i} = \\begin{bmatrix}\n",
    "   x_{i1} \\\\\n",
    "   x_{i2} \\\\\n",
    "   \\vdots \\\\\n",
    "   x_{ip}\n",
    "\\end{bmatrix}\n",
    "\n",
    "\\bold{X} = \\begin{bmatrix}\n",
    "x_{1}^{T} \\\\\n",
    "x_{2}^{T} \\\\\n",
    "\\vdots \\\\\n",
    "x_{n}^{T} \\\\\n",
    "\\end{bmatrix}\n",
    "\n",
    "$$\n",
    "\n",
    "** 列视角 $\\bold{x_{1}}, \\bold{x_{2}}, \\cdots, \\bold{x_{n}}$, $\\bold{x_{i}}$是长度为$n$的向量\n",
    "\n",
    "$$\n",
    "\\bold{x_{j}} = \\begin{bmatrix}\n",
    "   x_{1j} \\\\\n",
    "   x_{2j} \\\\\n",
    "   \\vdots \\\\\n",
    "   x_{nj}\n",
    "\\end{bmatrix}\n",
    "\n",
    "\\bold{X} = ( \\bold{x_{1}} \\bold{x_{2}} \\cdots \\bold{x_{n}} )\n",
    "$$\n",
    "\n",
    "* $y_{i}$: 用于预测的变量的第$i$次观测\n",
    "\n",
    "$$\n",
    "\\bold{y} = \\begin{bmatrix}\n",
    "   y_{1} \\\\\n",
    "   y_{2} \\\\\n",
    "   \\vdots \\\\\n",
    "   y_{n}\n",
    "\\end{bmatrix}\n",
    "$$\n"
   ]
  },
  {
   "cell_type": "markdown",
   "metadata": {},
   "source": [
    "* 观测的数据: $\\{(x_{1}, y_{1}), (x_{2}, y_{2}), \\cdots, (x_{n}, y_{n}) \\}$, $x_{i}$是长度为$p$的向量."
   ]
  },
  {
   "cell_type": "markdown",
   "metadata": {},
   "source": [
    "* 长度为$n$的向量: $\\bold{a} \\in \\reals^{n}$\n",
    "* 长度为$p$的向量: $a \\in \\reals^{p}$\n",
    "* 矩阵: $\\bold{A} \\in \\reals^{r \\times d}$, $\\bold{B} \\in \\reals^{d \\times s}$\n",
    "* 随机变量: $A$\n",
    "* 标量: $a \\in \\reals$\n",
    "* 矩阵乘法: $(\\bold{AB})_{ij} = \\sum_{k=1}^{d}a_{ik}b_{kj}$"
   ]
  },
  {
   "cell_type": "markdown",
   "metadata": {},
   "source": [
    "定量响应$Y$, $p$个不同的预测器$X = ( X_{1}, X_{2}, \\cdots, X_{p} )$\n",
    "\n",
    "假设$Y$与$X$之间的关系 (2.1)\n",
    "\n",
    "$$\n",
    "Y = f(X) + \\epsilon\n",
    "$$\n",
    "\n",
    "预测:\n",
    "\n",
    "$$\n",
    "\\hat{Y} = \\hat{f}(X)\n",
    "$$\n",
    "\n",
    "$$\n",
    "\\begin{equation}\n",
    "\\begin{split}\n",
    "E(Y - \\hat{Y})^{2} &= E[f(x) + \\epsilon - \\hat{f}(X)]^{2} \\\\\n",
    "&= [f(X) - \\hat{f}(X)]^{2} + Var(\\epsilon)\n",
    "\\end{split}\n",
    "\\end{equation}\n",
    "$$\n",
    "\n"
   ]
  },
  {
   "cell_type": "markdown",
   "metadata": {},
   "source": [
    "推断:\n",
    "\n",
    "* Which predictors are associated with the response? \n",
    "* What is the relationship between the response and each predictor?\n",
    "* Can the relationship between Y and each predictor be adequately summarized using a linear equation, or is the relationship more complicated?"
   ]
  },
  {
   "cell_type": "markdown",
   "metadata": {},
   "source": [
    "## Statistical Learning"
   ]
  },
  {
   "cell_type": "markdown",
   "metadata": {},
   "source": [
    "### Accessing Model Accuracy"
   ]
  },
  {
   "cell_type": "markdown",
   "metadata": {},
   "source": [
    "MSE: mean squared error (2.5)\n",
    "\n",
    "$$\n",
    "\\texttt{MSE} = \\frac{1}{n} \\sum_{i=1}^{n} (y_{i} - \\hat{f}(x_{i}))^{2}\n",
    "$$"
   ]
  },
  {
   "cell_type": "markdown",
   "metadata": {},
   "source": [
    "## Linear Regression"
   ]
  },
  {
   "cell_type": "markdown",
   "metadata": {},
   "source": [
    "### Simple Linear Regression"
   ]
  },
  {
   "cell_type": "markdown",
   "metadata": {},
   "source": [
    "Simple linear Regression (3.1)\n",
    "\n",
    "$$\n",
    "Y \\approx \\beta_{0} + \\beta_{1} X\n",
    "$$\n",
    "\n",
    "* $\\beta_{0}$: intercept\n",
    "* $\\beta_{1}$: slope\n",
    "\n",
    "prediction (3.2) - least squares line\n",
    "\n",
    "$$\n",
    "\\hat{y} = \\hat{\\beta_{0}} + \\hat{\\beta_{1}} x\n",
    "$$"
   ]
  },
  {
   "cell_type": "markdown",
   "metadata": {},
   "source": [
    "RSS: Residual Sum of Squares (3.3) (3.16)\n",
    "\n",
    "$$\n",
    "\\hat{y_{i}} = \\hat{\\beta_{0}} + \\hat{\\beta_{1}} x_{i} \\\\\n",
    "e_{i} = y_{i} - \\hat{y_{i}}\n",
    "$$\n",
    "\n",
    "$$\n",
    "\\begin{align}\n",
    "\\texttt{RSS} \n",
    "\n",
    "&= e_{1}^{2} + e_{2}^{2} + \\cdots + e_{n}^{2} \\\\\n",
    "\n",
    "&= \\sum_{i=1}^{n} (y_{i} - \\hat{y_{i}})^{2} \\\\\n",
    "\n",
    "&= (y_{1} - \\hat{\\beta_{0}} - \\hat{\\beta_{1}} x_{1})^{2} + (y_{2} - \\hat{\\beta_{0}} - \\hat{\\beta_{1}} x_{2})^{2} + \\cdots + (y_{n} - \\hat{\\beta_{0}} - \\hat{\\beta_{1}} x_{n})^{2}\n",
    "\\end{align}\n",
    "$$\n",
    "\n"
   ]
  },
  {
   "cell_type": "markdown",
   "metadata": {},
   "source": [
    "least square approach (3.4)\n",
    "\n",
    "$$\n",
    "\\begin{align}\n",
    "   \\hat{\\beta_{1}} &= \\frac{\\sum_{i=1}^{n}(x_{i} - \\bar{x})(y_{i} - \\bar{y})}{\\sum_{i=1}^{n}(x_{i} - \\bar{x})^{2}} \\\\\n",
    "   \\hat{\\beta_{0}} &= \\bar{y} - \\hat{\\beta_{1}} \\bar{x}\n",
    "\\end{align}\n",
    "$$\n",
    "\n",
    "$$\n",
    "\\bar{y} \\equiv \\frac{1}{n} \\textstyle\\sum_{i=1}^{n} y_{i} \\\\\n",
    "\\bar{x} \\equiv \\frac{1}{n} \\textstyle\\sum_{i=1}^{n} x_{i}\n",
    "$$"
   ]
  },
  {
   "cell_type": "markdown",
   "metadata": {},
   "source": [
    "$Y = f(X) + \\epsilon$, $f$近似为线性函数 (3.5) - population regression line\n",
    "\n",
    "$$\n",
    "Y = \\beta_{0} + \\beta_{1} X + \\epsilon\n",
    "$$"
   ]
  },
  {
   "cell_type": "markdown",
   "metadata": {},
   "source": [
    "* population mean of random variable $Y$: $\\mu$\n",
    "* sample mean $\\hat{\\mu} = \\bar{y} = \\frac{1}{n} \\textstyle\\sum_{i=1}^{n} y_{i}$, $n$ observations from $Y$ $y_{1}, \\cdots, y_{n}$\n",
    "\n",
    "standard error of $\\hat{\\mu}$, $\\texttt{SE}(\\hat{\\mu})$ (3.7)\n",
    "\n",
    "$$\n",
    "\\texttt{Var}(\\hat{\\mu}) = \\texttt{SE}(\\hat{\\mu})^{2} = \\frac{\\sigma^{2}}{n}\n",
    "$$\n",
    "\n"
   ]
  },
  {
   "cell_type": "markdown",
   "metadata": {},
   "source": [
    "standard error of $\\hat{\\beta_{0}}$ and $\\hat{\\beta_{1}}$ (3.8)\n",
    "\n",
    "$$\n",
    "\\begin{align}\n",
    "\\texttt{SE}(\\hat{\\beta_{0}})^{2} &= \\sigma^{2} \\left [  \\frac{1}{n} + \\frac{\\bar{x}^{2}}{\\sum_{i=1}^{n}(x_{i} - \\bar{x})^2} \\right] \\\\\n",
    "\\texttt{SE}(\\hat{\\beta_{1}})^{2} &= \\frac{\\sigma^{2}}{\\sum_{i=1}^{n}(x_{i} - \\bar{x})^2} \\\\\n",
    "\\end{align}\n",
    "$$\n",
    "\n",
    "$\\sigma^{2} = \\texttt{Var}(\\epsilon)$"
   ]
  },
  {
   "cell_type": "markdown",
   "metadata": {},
   "source": [
    "RSE: residual standard error, the estimate of $\\sigma$ (3.15)\n",
    "\n",
    "$$\n",
    "\\texttt{RSE} = \\sqrt{\\frac{\\texttt{RSS}}{n - 2}} = \\sqrt{\\frac{\\sum_{i=1}^{n} (y_{i} - \\hat{y_{i}})^{2}}{n - 2}}\n",
    "$$"
   ]
  },
  {
   "cell_type": "markdown",
   "metadata": {},
   "source": [
    "95% confidence intervals for $\\beta_{0}$: $\\hat{\\beta_{0}} \\pm 2 \\cdot \\texttt{SE}(\\hat{\\beta_{0}})$\n",
    "\n",
    "95% confidence intervals for $\\beta_{1}$: $\\hat{\\beta_{1}} \\pm 2 \\cdot \\texttt{SE}(\\hat{\\beta_{1}})$"
   ]
  },
  {
   "cell_type": "markdown",
   "metadata": {},
   "source": [
    "t-statistic (3.14)\n",
    "\n",
    "measure the number of standard deviations that $\\hat{\\beta_{1}}$ is away from 0\n",
    "\n",
    "$$\n",
    "t = \\frac{\\hat{\\beta_{1}} - 0}{\\texttt{SE}(\\hat{\\beta_{1}})}\n",
    "$$\n",
    "\n",
    "p-value: the probability of observing any number equal to $|t|$ or larger in absolute value, assuming $\\beta_{1} = 0$"
   ]
  },
  {
   "cell_type": "markdown",
   "metadata": {},
   "source": [
    "$R^{2}$ statistic (3.17)\n",
    "\n",
    "$$\n",
    "R^{2} = \\frac{\\texttt{TSS} - \\texttt{RSS}}{\\texttt{TSS}} = 1 - \\frac{\\texttt{RSS}}{\\texttt{TSS}}\n",
    "$$\n",
    "\n",
    "TSS: total sum of squares\n",
    "\n",
    "$$\n",
    "\\texttt{TSS} = \\sum (y_{i} - \\bar{y})^{2}\n",
    "$$"
   ]
  },
  {
   "cell_type": "markdown",
   "metadata": {},
   "source": [
    "correlation\n",
    "\n",
    "$$\n",
    "r = \\texttt{Cor} (X, Y) = \\frac{\\sum_{i=1}^{n}(x_{i} - \\bar{x})(y_{i} - \\bar{y})}\n",
    "{\\sum_{i=1}^{n}(x_{i} - \\bar{x})^{2} \\sum_{i=1}^{n}(y_{i} - \\bar{y})^{2}}\n",
    "$$"
   ]
  },
  {
   "cell_type": "markdown",
   "metadata": {},
   "source": [
    "### Multiple Linear Regression"
   ]
  },
  {
   "cell_type": "markdown",
   "metadata": {},
   "source": [
    "multiple linear regression model (3.19)\n",
    "\n",
    "$p$ distinct predictors\n",
    "\n",
    "$$\n",
    "Y = \\beta_{0} + \\beta_{1}X_{1} + \\beta_{2}X_{2} + \\cdots + \\beta_{p}X_{p} + \\epsilon\n",
    "$$"
   ]
  },
  {
   "cell_type": "markdown",
   "metadata": {},
   "source": [
    "correlation matrix"
   ]
  },
  {
   "cell_type": "markdown",
   "metadata": {},
   "source": [
    "interaction term (3.31)\n",
    "\n",
    "$$\n",
    "Y = \\beta_{0} + \\beta_{1}X_{1} + \\beta_{2}X_{2} + \\beta_{3}X_{1}X_{2} + \\epsilon\n",
    "$$"
   ]
  },
  {
   "cell_type": "markdown",
   "metadata": {},
   "source": [
    "quardratic (3.36)\n",
    "\n",
    "$$\n",
    "\\texttt{mpg} = \\beta_{0} + \\beta_{1} \\times \\texttt{horsepower} + \\beta_{2} \\times \\texttt{horsepower}^2 + \\epsilon\n",
    "$$"
   ]
  },
  {
   "cell_type": "markdown",
   "metadata": {},
   "source": [
    "## Classification"
   ]
  },
  {
   "cell_type": "markdown",
   "metadata": {},
   "source": [
    "## Resampling Methods"
   ]
  },
  {
   "cell_type": "markdown",
   "metadata": {},
   "source": [
    "## Linear Model Selection and Regularization"
   ]
  },
  {
   "cell_type": "markdown",
   "metadata": {},
   "source": [
    "## Moving Beyond Linearity"
   ]
  },
  {
   "cell_type": "markdown",
   "metadata": {},
   "source": [
    "## Tree-Based Methods"
   ]
  },
  {
   "cell_type": "markdown",
   "metadata": {},
   "source": [
    "## Support Vector Machines"
   ]
  },
  {
   "cell_type": "markdown",
   "metadata": {},
   "source": [
    "## Deep Learning"
   ]
  },
  {
   "cell_type": "markdown",
   "metadata": {},
   "source": [
    "## Survival Analysis and Censored Data"
   ]
  },
  {
   "cell_type": "markdown",
   "metadata": {},
   "source": [
    "## Unsupervised Learning"
   ]
  },
  {
   "cell_type": "markdown",
   "metadata": {},
   "source": [
    "## Multiple Testing"
   ]
  }
 ],
 "metadata": {
  "language_info": {
   "name": "python"
  }
 },
 "nbformat": 4,
 "nbformat_minor": 2
}
