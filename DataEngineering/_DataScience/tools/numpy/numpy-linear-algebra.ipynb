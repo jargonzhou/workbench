{
 "cells": [
  {
   "cell_type": "code",
   "execution_count": null,
   "metadata": {},
   "outputs": [],
   "source": [
    "# RTFD/numpy-html-1.15.1/reference/routines.linalg.html"
   ]
  },
  {
   "cell_type": "code",
   "execution_count": 1,
   "metadata": {},
   "outputs": [],
   "source": [
    "import numpy as np\n",
    "from numpy import linalg as LA\n",
    "import pprint"
   ]
  },
  {
   "cell_type": "markdown",
   "metadata": {},
   "source": [
    "# 矩阵和向量积 - P.650"
   ]
  },
  {
   "cell_type": "code",
   "execution_count": 14,
   "metadata": {},
   "outputs": [
    {
     "name": "stdout",
     "output_type": "stream",
     "text": [
      "array([[0, 1, 2],\n",
      "       [3, 4, 5],\n",
      "       [6, 7, 8]])\n",
      "array([[ 0,  1,  2,  3],\n",
      "       [ 4,  5,  6,  7],\n",
      "       [ 8,  9, 10, 11]])\n",
      "array([[ 20,  23,  26,  29],\n",
      "       [ 56,  68,  80,  92],\n",
      "       [ 92, 113, 134, 155]])\n",
      "array([[ 20,  23,  26,  29],\n",
      "       [ 56,  68,  80,  92],\n",
      "       [ 92, 113, 134, 155]])\n",
      "array([[ 20,  23,  26,  29],\n",
      "       [ 56,  68,  80,  92],\n",
      "       [ 92, 113, 134, 155]])\n",
      "130\n",
      "130\n",
      "array([[ 6,  7,  8,  9, 10],\n",
      "       [12, 14, 16, 18, 20],\n",
      "       [18, 21, 24, 27, 30],\n",
      "       [24, 28, 32, 36, 40],\n",
      "       [30, 35, 40, 45, 50]])\n"
     ]
    }
   ],
   "source": [
    "A = np.arange(9).reshape(3,3)\n",
    "B = np.arange(12).reshape(3,4)\n",
    "\n",
    "pprint.pprint(A)\n",
    "pprint.pprint(B)\n",
    "\n",
    "pprint.pprint(A.dot(B))        # 数组点积\n",
    "pprint.pprint(np.dot(A, B))\n",
    "pprint.pprint(np.matmul(A, B)) # 矩阵积\n",
    "\n",
    "\n",
    "a = np.array([1,2,3,4,5])\n",
    "b = np.array([6,7,8,9,10])\n",
    "pprint.pprint(np.vdot(a,b))  # 向量点积\n",
    "pprint.pprint(np.inner(a,b)) # 向量内积\n",
    "pprint.pprint(np.outer(a,b)) # 向量外积\n"
   ]
  },
  {
   "cell_type": "markdown",
   "metadata": {},
   "source": [
    "# 分解 - P.667\n"
   ]
  },
  {
   "cell_type": "code",
   "execution_count": 16,
   "metadata": {},
   "outputs": [
    {
     "name": "stdout",
     "output_type": "stream",
     "text": [
      "array([[ 0.        , -0.83666003,  0.48308786,  0.25812035],\n",
      "       [-0.26726124, -0.47809144, -0.8365087 ,  0.01591196],\n",
      "       [-0.53452248, -0.11952286,  0.22375381, -0.80618499],\n",
      "       [-0.80178373,  0.23904572,  0.12966702,  0.53215267]])\n",
      "array([[-1.49666295e+01, -1.65701970e+01, -1.81737645e+01,\n",
      "        -1.97773319e+01],\n",
      "       [ 0.00000000e+00, -1.19522861e+00, -2.39045722e+00,\n",
      "        -3.58568583e+00],\n",
      "       [ 0.00000000e+00,  0.00000000e+00, -1.71941189e-15,\n",
      "        -5.12511879e-15],\n",
      "       [ 0.00000000e+00,  0.00000000e+00,  0.00000000e+00,\n",
      "        -8.82043219e-16]])\n"
     ]
    },
    {
     "data": {
      "text/plain": [
       "True"
      ]
     },
     "execution_count": 16,
     "metadata": {},
     "output_type": "execute_result"
    }
   ],
   "source": [
    "A = np.arange(16).reshape(4,4)\n",
    "q, r = LA.qr(A, mode='complete')\n",
    "pprint.pprint(q)\n",
    "pprint.pprint(r)\n",
    "np.allclose(A, np.dot(q,r))"
   ]
  },
  {
   "cell_type": "code",
   "execution_count": null,
   "metadata": {},
   "outputs": [],
   "source": []
  },
  {
   "cell_type": "markdown",
   "metadata": {},
   "source": [
    "# 特征值 - P.672\n"
   ]
  },
  {
   "cell_type": "code",
   "execution_count": 23,
   "metadata": {},
   "outputs": [
    {
     "name": "stdout",
     "output_type": "stream",
     "text": [
      "array([1., 2., 3.])\n",
      "array([[1., 0., 0.],\n",
      "       [0., 1., 0.],\n",
      "       [0., 0., 1.]])\n",
      "array([1., 0., 0.])\n",
      "array([1., 0., 0.])\n"
     ]
    },
    {
     "data": {
      "text/plain": [
       "True"
      ]
     },
     "execution_count": 23,
     "metadata": {},
     "output_type": "execute_result"
    }
   ],
   "source": [
    "A = np.diag((1, 2, 3))\n",
    "w, v = LA.eig(A)\n",
    "pprint.pprint(w) # 特征值\n",
    "pprint.pprint(v) # 特征向量\n",
    "pprint.pprint(A @ v[0])\n",
    "pprint.pprint(w[0] * v[0])\n",
    "np.allclose(A @ v[0], w[0] * v[0])"
   ]
  },
  {
   "cell_type": "code",
   "execution_count": null,
   "metadata": {},
   "outputs": [],
   "source": []
  },
  {
   "cell_type": "markdown",
   "metadata": {},
   "source": [
    "# 范式 - P.678\n"
   ]
  },
  {
   "cell_type": "code",
   "execution_count": null,
   "metadata": {},
   "outputs": [],
   "source": []
  },
  {
   "cell_type": "markdown",
   "metadata": {},
   "source": [
    "# 方程求解和矩阵逆 - P.685\n"
   ]
  },
  {
   "cell_type": "code",
   "execution_count": 8,
   "metadata": {},
   "outputs": [
    {
     "name": "stdout",
     "output_type": "stream",
     "text": [
      "array([[ 1.5   , -1.    ,  0.5   , -0.1875],\n",
      "       [ 0.    ,  0.    ,  0.5   ,  0.    ],\n",
      "       [ 0.    ,  0.    , -0.5   ,  0.    ],\n",
      "       [ 0.    ,  8.    , -2.5   ,  4.    ]])\n"
     ]
    },
    {
     "data": {
      "text/plain": [
       "False"
      ]
     },
     "execution_count": 8,
     "metadata": {},
     "output_type": "execute_result"
    }
   ],
   "source": [
    "# FIXME(zhoujiagen) restart here 20181019\n",
    "# file:///Users/zhoujiagen/Google%20Drive/RTFD/numpy-html-1.15.1/reference/generated/numpy.linalg.inv.html#numpy.linalg.inv\n",
    "A = np.arange(16).reshape(4,4)\n",
    "Ainv = LA.inv(A)\n",
    "pprint.pprint(np.dot(A, Ainv))\n",
    "np.allclose(A @ Ainv, np.eye(4))"
   ]
  },
  {
   "cell_type": "markdown",
   "metadata": {},
   "source": [
    "# 异常 - P.691\n"
   ]
  },
  {
   "cell_type": "code",
   "execution_count": null,
   "metadata": {},
   "outputs": [],
   "source": []
  },
  {
   "cell_type": "markdown",
   "metadata": {},
   "source": [
    "# 多个矩阵上的线性代数 - P.692"
   ]
  },
  {
   "cell_type": "code",
   "execution_count": null,
   "metadata": {},
   "outputs": [],
   "source": []
  },
  {
   "cell_type": "code",
   "execution_count": null,
   "metadata": {},
   "outputs": [],
   "source": []
  },
  {
   "cell_type": "code",
   "execution_count": null,
   "metadata": {},
   "outputs": [],
   "source": []
  },
  {
   "cell_type": "code",
   "execution_count": null,
   "metadata": {},
   "outputs": [],
   "source": []
  },
  {
   "cell_type": "code",
   "execution_count": null,
   "metadata": {},
   "outputs": [],
   "source": []
  },
  {
   "cell_type": "code",
   "execution_count": null,
   "metadata": {},
   "outputs": [],
   "source": []
  },
  {
   "cell_type": "code",
   "execution_count": null,
   "metadata": {},
   "outputs": [],
   "source": []
  },
  {
   "cell_type": "code",
   "execution_count": null,
   "metadata": {},
   "outputs": [],
   "source": []
  },
  {
   "cell_type": "code",
   "execution_count": null,
   "metadata": {},
   "outputs": [],
   "source": []
  },
  {
   "cell_type": "code",
   "execution_count": null,
   "metadata": {},
   "outputs": [],
   "source": []
  },
  {
   "cell_type": "code",
   "execution_count": null,
   "metadata": {},
   "outputs": [],
   "source": []
  },
  {
   "cell_type": "code",
   "execution_count": null,
   "metadata": {},
   "outputs": [],
   "source": []
  }
 ],
 "metadata": {
  "kernelspec": {
   "display_name": "Python 3",
   "language": "python",
   "name": "python3"
  },
  "language_info": {
   "codemirror_mode": {
    "name": "ipython",
    "version": 3
   },
   "file_extension": ".py",
   "mimetype": "text/x-python",
   "name": "python",
   "nbconvert_exporter": "python",
   "pygments_lexer": "ipython3",
   "version": "3.7.0"
  },
  "toc": {
   "base_numbering": 1,
   "nav_menu": {},
   "number_sections": true,
   "sideBar": true,
   "skip_h1_title": false,
   "title_cell": "Table of Contents",
   "title_sidebar": "Contents",
   "toc_cell": false,
   "toc_position": {},
   "toc_section_display": true,
   "toc_window_display": true
  }
 },
 "nbformat": 4,
 "nbformat_minor": 2
}
