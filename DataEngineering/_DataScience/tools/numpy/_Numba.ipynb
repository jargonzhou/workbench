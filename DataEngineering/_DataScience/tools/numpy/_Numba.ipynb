{
 "cells": [
  {
   "cell_type": "markdown",
   "metadata": {},
   "source": [
    "# Numba\n",
    "* https://github.com/numba/numba\n",
    "\n",
    "> A Just-In-Time Compiler for Numerical Functions in Python\n",
    ">\n",
    "> Numba is an open source, NumPy-aware optimizing compiler for Python sponsored by Anaconda, Inc. It uses the LLVM compiler project to generate machine code from Python syntax."
   ]
  }
 ],
 "metadata": {
  "language_info": {
   "name": "python"
  }
 },
 "nbformat": 4,
 "nbformat_minor": 2
}
