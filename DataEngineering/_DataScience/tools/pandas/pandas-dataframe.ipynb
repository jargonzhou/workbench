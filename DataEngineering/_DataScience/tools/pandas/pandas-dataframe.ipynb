{
 "cells": [
  {
   "cell_type": "code",
   "execution_count": 7,
   "metadata": {},
   "outputs": [],
   "source": [
    "import pandas as pd"
   ]
  },
  {
   "cell_type": "code",
   "execution_count": 8,
   "metadata": {},
   "outputs": [],
   "source": [
    "%matplotlib inline"
   ]
  },
  {
   "cell_type": "code",
   "execution_count": 4,
   "metadata": {},
   "outputs": [],
   "source": [
    "columns = ['Name', 'Team', 'Score', 'EventTime', 'ProcTime']\n",
    "data = [\n",
    "    ['Julie', 'TeamX', 5, pd.to_datetime('12:00:26'), pd.to_datetime('12:05:19')],\n",
    "    ['Frank', 'TeamX', 9, pd.to_datetime('12:01:26'), pd.to_datetime('12:08:19')],\n",
    "    ['Ed', 'TeamX', 7, pd.to_datetime('12:02:26'), pd.to_datetime('12:05:39')],\n",
    "    ['Julie', 'TeamX', 8, pd.to_datetime('12:03:06'), pd.to_datetime('12:07:06')],\n",
    "    ['Amy', 'TeamX', 3, pd.to_datetime('12:03:39'), pd.to_datetime('12:06:13')],\n",
    "    ['Fred', 'TeamX', 4, pd.to_datetime('12:04:19'), pd.to_datetime('12:06:39')],\n",
    "    ['Naomi', 'TeamX', 3, pd.to_datetime('12:06:39'), pd.to_datetime('12:07:19')],\n",
    "    ['Becky', 'TeamX', 8, pd.to_datetime('12:07:26'), pd.to_datetime('12:08:39')],\n",
    "    ['Naomi', 'TeamX', 1, pd.to_datetime('12:07:46'), pd.to_datetime('12:09:00')],\n",
    "]\n",
    "df = pd.DataFrame(data=data, columns=columns)"
   ]
  },
  {
   "cell_type": "code",
   "execution_count": 6,
   "metadata": {},
   "outputs": [
    {
     "data": {
      "text/html": [
       "<div>\n",
       "<style scoped>\n",
       "    .dataframe tbody tr th:only-of-type {\n",
       "        vertical-align: middle;\n",
       "    }\n",
       "\n",
       "    .dataframe tbody tr th {\n",
       "        vertical-align: top;\n",
       "    }\n",
       "\n",
       "    .dataframe thead th {\n",
       "        text-align: right;\n",
       "    }\n",
       "</style>\n",
       "<table border=\"1\" class=\"dataframe\">\n",
       "  <thead>\n",
       "    <tr style=\"text-align: right;\">\n",
       "      <th></th>\n",
       "      <th>Name</th>\n",
       "      <th>Team</th>\n",
       "      <th>Score</th>\n",
       "      <th>EventTime</th>\n",
       "      <th>ProcTime</th>\n",
       "    </tr>\n",
       "  </thead>\n",
       "  <tbody>\n",
       "    <tr>\n",
       "      <th>0</th>\n",
       "      <td>Julie</td>\n",
       "      <td>TeamX</td>\n",
       "      <td>5</td>\n",
       "      <td>2019-09-03 12:00:26</td>\n",
       "      <td>2019-09-03 12:05:19</td>\n",
       "    </tr>\n",
       "    <tr>\n",
       "      <th>1</th>\n",
       "      <td>Frank</td>\n",
       "      <td>TeamX</td>\n",
       "      <td>9</td>\n",
       "      <td>2019-09-03 12:01:26</td>\n",
       "      <td>2019-09-03 12:08:19</td>\n",
       "    </tr>\n",
       "    <tr>\n",
       "      <th>2</th>\n",
       "      <td>Ed</td>\n",
       "      <td>TeamX</td>\n",
       "      <td>7</td>\n",
       "      <td>2019-09-03 12:02:26</td>\n",
       "      <td>2019-09-03 12:05:39</td>\n",
       "    </tr>\n",
       "    <tr>\n",
       "      <th>3</th>\n",
       "      <td>Julie</td>\n",
       "      <td>TeamX</td>\n",
       "      <td>8</td>\n",
       "      <td>2019-09-03 12:03:06</td>\n",
       "      <td>2019-09-03 12:07:06</td>\n",
       "    </tr>\n",
       "    <tr>\n",
       "      <th>4</th>\n",
       "      <td>Amy</td>\n",
       "      <td>TeamX</td>\n",
       "      <td>3</td>\n",
       "      <td>2019-09-03 12:03:39</td>\n",
       "      <td>2019-09-03 12:06:13</td>\n",
       "    </tr>\n",
       "    <tr>\n",
       "      <th>5</th>\n",
       "      <td>Fred</td>\n",
       "      <td>TeamX</td>\n",
       "      <td>4</td>\n",
       "      <td>2019-09-03 12:04:19</td>\n",
       "      <td>2019-09-03 12:06:39</td>\n",
       "    </tr>\n",
       "    <tr>\n",
       "      <th>6</th>\n",
       "      <td>Naomi</td>\n",
       "      <td>TeamX</td>\n",
       "      <td>3</td>\n",
       "      <td>2019-09-03 12:06:39</td>\n",
       "      <td>2019-09-03 12:07:19</td>\n",
       "    </tr>\n",
       "    <tr>\n",
       "      <th>7</th>\n",
       "      <td>Becky</td>\n",
       "      <td>TeamX</td>\n",
       "      <td>8</td>\n",
       "      <td>2019-09-03 12:07:26</td>\n",
       "      <td>2019-09-03 12:08:39</td>\n",
       "    </tr>\n",
       "    <tr>\n",
       "      <th>8</th>\n",
       "      <td>Naomi</td>\n",
       "      <td>TeamX</td>\n",
       "      <td>1</td>\n",
       "      <td>2019-09-03 12:07:46</td>\n",
       "      <td>2019-09-03 12:09:00</td>\n",
       "    </tr>\n",
       "  </tbody>\n",
       "</table>\n",
       "</div>"
      ],
      "text/plain": [
       "    Name   Team  Score           EventTime            ProcTime\n",
       "0  Julie  TeamX      5 2019-09-03 12:00:26 2019-09-03 12:05:19\n",
       "1  Frank  TeamX      9 2019-09-03 12:01:26 2019-09-03 12:08:19\n",
       "2     Ed  TeamX      7 2019-09-03 12:02:26 2019-09-03 12:05:39\n",
       "3  Julie  TeamX      8 2019-09-03 12:03:06 2019-09-03 12:07:06\n",
       "4    Amy  TeamX      3 2019-09-03 12:03:39 2019-09-03 12:06:13\n",
       "5   Fred  TeamX      4 2019-09-03 12:04:19 2019-09-03 12:06:39\n",
       "6  Naomi  TeamX      3 2019-09-03 12:06:39 2019-09-03 12:07:19\n",
       "7  Becky  TeamX      8 2019-09-03 12:07:26 2019-09-03 12:08:39\n",
       "8  Naomi  TeamX      1 2019-09-03 12:07:46 2019-09-03 12:09:00"
      ]
     },
     "execution_count": 6,
     "metadata": {},
     "output_type": "execute_result"
    }
   ],
   "source": [
    "df"
   ]
  },
  {
   "cell_type": "code",
   "execution_count": 11,
   "metadata": {},
   "outputs": [
    {
     "data": {
      "text/plain": [
       "<matplotlib.axes._subplots.AxesSubplot at 0x119423fd0>"
      ]
     },
     "execution_count": 11,
     "metadata": {},
     "output_type": "execute_result"
    },
    {
     "data": {
      "image/png": "[encoded data removed]",
      "text/plain": [
       "<Figure size 432x288 with 1 Axes>"
      ]
     },
     "metadata": {
      "needs_background": "light"
     },
     "output_type": "display_data"
    }
   ],
   "source": [
    "df.plot(x='EventTime', y='ProcTime', kind=\"line\")"
   ]
  },
  {
   "cell_type": "code",
   "execution_count": 37,
   "metadata": {},
   "outputs": [
    {
     "data": {
      "text/plain": [
       "Timestamp('2019-09-03 12:07:46')"
      ]
     },
     "execution_count": 37,
     "metadata": {},
     "output_type": "execute_result"
    }
   ],
   "source": [
    "from datetime import datetime\n",
    "\n",
    "a = pd.to_datetime('12:07:46')\n",
    "a, a.timestamp()\n",
    "\n",
    "#datetime.fromtimestamp(a.timestamp())\n",
    "pd.Timestamp(a)"
   ]
  },
  {
   "cell_type": "code",
   "execution_count": 38,
   "metadata": {},
   "outputs": [],
   "source": [
    "data2 = [\n",
    "    ['Julie', 'TeamX', 5, '12:00:26', '12:05:19'],\n",
    "    ['Frank', 'TeamX', 9, '12:01:26', '12:08:19'],\n",
    "    ['Ed', 'TeamX', 7, '12:02:26', '12:05:39'],\n",
    "    ['Julie', 'TeamX', 8, '12:03:06', '12:07:06'],\n",
    "    ['Amy', 'TeamX', 3, '12:03:39', '12:06:13'],\n",
    "    ['Fred', 'TeamX', 4, '12:04:19', '12:06:39'],\n",
    "    ['Naomi', 'TeamX', 3, '12:06:39', '12:07:19'],\n",
    "    ['Becky', 'TeamX', 8, '12:07:26', '12:08:39'],\n",
    "    ['Naomi', 'TeamX', 1, '12:07:46', '12:09:00'],\n",
    "]\n",
    "df2 = pd.DataFrame(data=data2, columns=columns)"
   ]
  },
  {
   "cell_type": "code",
   "execution_count": 43,
   "metadata": {},
   "outputs": [
    {
     "data": {
      "text/html": [
       "<div>\n",
       "<style scoped>\n",
       "    .dataframe tbody tr th:only-of-type {\n",
       "        vertical-align: middle;\n",
       "    }\n",
       "\n",
       "    .dataframe tbody tr th {\n",
       "        vertical-align: top;\n",
       "    }\n",
       "\n",
       "    .dataframe thead th {\n",
       "        text-align: right;\n",
       "    }\n",
       "</style>\n",
       "<table border=\"1\" class=\"dataframe\">\n",
       "  <thead>\n",
       "    <tr style=\"text-align: right;\">\n",
       "      <th></th>\n",
       "      <th>Name</th>\n",
       "      <th>Team</th>\n",
       "      <th>Score</th>\n",
       "      <th>EventTime</th>\n",
       "      <th>ProcTime</th>\n",
       "    </tr>\n",
       "  </thead>\n",
       "  <tbody>\n",
       "    <tr>\n",
       "      <th>0</th>\n",
       "      <td>Julie</td>\n",
       "      <td>TeamX</td>\n",
       "      <td>5</td>\n",
       "      <td>12:00:26</td>\n",
       "      <td>12:05:19</td>\n",
       "    </tr>\n",
       "    <tr>\n",
       "      <th>1</th>\n",
       "      <td>Frank</td>\n",
       "      <td>TeamX</td>\n",
       "      <td>9</td>\n",
       "      <td>12:01:26</td>\n",
       "      <td>12:08:19</td>\n",
       "    </tr>\n",
       "    <tr>\n",
       "      <th>2</th>\n",
       "      <td>Ed</td>\n",
       "      <td>TeamX</td>\n",
       "      <td>7</td>\n",
       "      <td>12:02:26</td>\n",
       "      <td>12:05:39</td>\n",
       "    </tr>\n",
       "    <tr>\n",
       "      <th>3</th>\n",
       "      <td>Julie</td>\n",
       "      <td>TeamX</td>\n",
       "      <td>8</td>\n",
       "      <td>12:03:06</td>\n",
       "      <td>12:07:06</td>\n",
       "    </tr>\n",
       "    <tr>\n",
       "      <th>4</th>\n",
       "      <td>Amy</td>\n",
       "      <td>TeamX</td>\n",
       "      <td>3</td>\n",
       "      <td>12:03:39</td>\n",
       "      <td>12:06:13</td>\n",
       "    </tr>\n",
       "    <tr>\n",
       "      <th>5</th>\n",
       "      <td>Fred</td>\n",
       "      <td>TeamX</td>\n",
       "      <td>4</td>\n",
       "      <td>12:04:19</td>\n",
       "      <td>12:06:39</td>\n",
       "    </tr>\n",
       "    <tr>\n",
       "      <th>6</th>\n",
       "      <td>Naomi</td>\n",
       "      <td>TeamX</td>\n",
       "      <td>3</td>\n",
       "      <td>12:06:39</td>\n",
       "      <td>12:07:19</td>\n",
       "    </tr>\n",
       "    <tr>\n",
       "      <th>7</th>\n",
       "      <td>Becky</td>\n",
       "      <td>TeamX</td>\n",
       "      <td>8</td>\n",
       "      <td>12:07:26</td>\n",
       "      <td>12:08:39</td>\n",
       "    </tr>\n",
       "    <tr>\n",
       "      <th>8</th>\n",
       "      <td>Naomi</td>\n",
       "      <td>TeamX</td>\n",
       "      <td>1</td>\n",
       "      <td>12:07:46</td>\n",
       "      <td>12:09:00</td>\n",
       "    </tr>\n",
       "  </tbody>\n",
       "</table>\n",
       "</div>"
      ],
      "text/plain": [
       "    Name   Team  Score EventTime  ProcTime\n",
       "0  Julie  TeamX      5  12:00:26  12:05:19\n",
       "1  Frank  TeamX      9  12:01:26  12:08:19\n",
       "2     Ed  TeamX      7  12:02:26  12:05:39\n",
       "3  Julie  TeamX      8  12:03:06  12:07:06\n",
       "4    Amy  TeamX      3  12:03:39  12:06:13\n",
       "5   Fred  TeamX      4  12:04:19  12:06:39\n",
       "6  Naomi  TeamX      3  12:06:39  12:07:19\n",
       "7  Becky  TeamX      8  12:07:26  12:08:39\n",
       "8  Naomi  TeamX      1  12:07:46  12:09:00"
      ]
     },
     "execution_count": 43,
     "metadata": {},
     "output_type": "execute_result"
    }
   ],
   "source": [
    "df2"
   ]
  },
  {
   "cell_type": "code",
   "execution_count": 40,
   "metadata": {},
   "outputs": [
    {
     "data": {
      "text/plain": [
       "0   2019-09-03 12:05:19\n",
       "1   2019-09-03 12:08:19\n",
       "2   2019-09-03 12:05:39\n",
       "3   2019-09-03 12:07:06\n",
       "4   2019-09-03 12:06:13\n",
       "5   2019-09-03 12:06:39\n",
       "6   2019-09-03 12:07:19\n",
       "7   2019-09-03 12:08:39\n",
       "8   2019-09-03 12:09:00\n",
       "Name: ProcTime, dtype: datetime64[ns]"
      ]
     },
     "execution_count": 40,
     "metadata": {},
     "output_type": "execute_result"
    }
   ],
   "source": [
    "df2['EventTime'].apply(lambda x: pd.to_datetime(x))\n",
    "df2['ProcTime'].apply(lambda x: pd.to_datetime(x))"
   ]
  },
  {
   "cell_type": "code",
   "execution_count": 46,
   "metadata": {},
   "outputs": [
    {
     "data": {
      "text/html": [
       "<div>\n",
       "<style scoped>\n",
       "    .dataframe tbody tr th:only-of-type {\n",
       "        vertical-align: middle;\n",
       "    }\n",
       "\n",
       "    .dataframe tbody tr th {\n",
       "        vertical-align: top;\n",
       "    }\n",
       "\n",
       "    .dataframe thead th {\n",
       "        text-align: right;\n",
       "    }\n",
       "</style>\n",
       "<table border=\"1\" class=\"dataframe\">\n",
       "  <thead>\n",
       "    <tr style=\"text-align: right;\">\n",
       "      <th></th>\n",
       "      <th>Name</th>\n",
       "      <th>Team</th>\n",
       "      <th>Score</th>\n",
       "      <th>EventTime</th>\n",
       "      <th>ProcTime</th>\n",
       "    </tr>\n",
       "  </thead>\n",
       "  <tbody>\n",
       "    <tr>\n",
       "      <th>0</th>\n",
       "      <td>Julie</td>\n",
       "      <td>TeamX</td>\n",
       "      <td>5</td>\n",
       "      <td>2019-09-03 12:00:26</td>\n",
       "      <td>2019-09-03 12:05:19</td>\n",
       "    </tr>\n",
       "    <tr>\n",
       "      <th>1</th>\n",
       "      <td>Frank</td>\n",
       "      <td>TeamX</td>\n",
       "      <td>9</td>\n",
       "      <td>2019-09-03 12:01:26</td>\n",
       "      <td>2019-09-03 12:08:19</td>\n",
       "    </tr>\n",
       "    <tr>\n",
       "      <th>2</th>\n",
       "      <td>Ed</td>\n",
       "      <td>TeamX</td>\n",
       "      <td>7</td>\n",
       "      <td>2019-09-03 12:02:26</td>\n",
       "      <td>2019-09-03 12:05:39</td>\n",
       "    </tr>\n",
       "    <tr>\n",
       "      <th>3</th>\n",
       "      <td>Julie</td>\n",
       "      <td>TeamX</td>\n",
       "      <td>8</td>\n",
       "      <td>2019-09-03 12:03:06</td>\n",
       "      <td>2019-09-03 12:07:06</td>\n",
       "    </tr>\n",
       "    <tr>\n",
       "      <th>4</th>\n",
       "      <td>Amy</td>\n",
       "      <td>TeamX</td>\n",
       "      <td>3</td>\n",
       "      <td>2019-09-03 12:03:39</td>\n",
       "      <td>2019-09-03 12:06:13</td>\n",
       "    </tr>\n",
       "    <tr>\n",
       "      <th>5</th>\n",
       "      <td>Fred</td>\n",
       "      <td>TeamX</td>\n",
       "      <td>4</td>\n",
       "      <td>2019-09-03 12:04:19</td>\n",
       "      <td>2019-09-03 12:06:39</td>\n",
       "    </tr>\n",
       "    <tr>\n",
       "      <th>6</th>\n",
       "      <td>Naomi</td>\n",
       "      <td>TeamX</td>\n",
       "      <td>3</td>\n",
       "      <td>2019-09-03 12:06:39</td>\n",
       "      <td>2019-09-03 12:07:19</td>\n",
       "    </tr>\n",
       "    <tr>\n",
       "      <th>7</th>\n",
       "      <td>Becky</td>\n",
       "      <td>TeamX</td>\n",
       "      <td>8</td>\n",
       "      <td>2019-09-03 12:07:26</td>\n",
       "      <td>2019-09-03 12:08:39</td>\n",
       "    </tr>\n",
       "    <tr>\n",
       "      <th>8</th>\n",
       "      <td>Naomi</td>\n",
       "      <td>TeamX</td>\n",
       "      <td>1</td>\n",
       "      <td>2019-09-03 12:07:46</td>\n",
       "      <td>2019-09-03 12:09:00</td>\n",
       "    </tr>\n",
       "  </tbody>\n",
       "</table>\n",
       "</div>"
      ],
      "text/plain": [
       "    Name   Team  Score           EventTime            ProcTime\n",
       "0  Julie  TeamX      5 2019-09-03 12:00:26 2019-09-03 12:05:19\n",
       "1  Frank  TeamX      9 2019-09-03 12:01:26 2019-09-03 12:08:19\n",
       "2     Ed  TeamX      7 2019-09-03 12:02:26 2019-09-03 12:05:39\n",
       "3  Julie  TeamX      8 2019-09-03 12:03:06 2019-09-03 12:07:06\n",
       "4    Amy  TeamX      3 2019-09-03 12:03:39 2019-09-03 12:06:13\n",
       "5   Fred  TeamX      4 2019-09-03 12:04:19 2019-09-03 12:06:39\n",
       "6  Naomi  TeamX      3 2019-09-03 12:06:39 2019-09-03 12:07:19\n",
       "7  Becky  TeamX      8 2019-09-03 12:07:26 2019-09-03 12:08:39\n",
       "8  Naomi  TeamX      1 2019-09-03 12:07:46 2019-09-03 12:09:00"
      ]
     },
     "execution_count": 46,
     "metadata": {},
     "output_type": "execute_result"
    }
   ],
   "source": [
    "df2['EventTime'] = df2['EventTime'].apply(lambda x: pd.to_datetime(x))\n",
    "df2['ProcTime'] = df2['ProcTime'].apply(lambda x: pd.to_datetime(x))\n",
    "df2"
   ]
  },
  {
   "cell_type": "code",
   "execution_count": 50,
   "metadata": {},
   "outputs": [
    {
     "data": {
      "text/plain": [
       "<matplotlib.axes._subplots.AxesSubplot at 0x119a6e0f0>"
      ]
     },
     "execution_count": 50,
     "metadata": {},
     "output_type": "execute_result"
    },
    {
     "data": {
      "image/png": "[encoded data removed]",
      "text/plain": [
       "<Figure size 432x288 with 1 Axes>"
      ]
     },
     "metadata": {
      "needs_background": "light"
     },
     "output_type": "display_data"
    }
   ],
   "source": [
    "df2.plot(x='EventTime', y='ProcTime', kind=\"line\", \n",
    "         #xticks=df2['EventTime'].apply(lambda x: pd.to_datetime(x)),\n",
    "         #yticks=df2['ProcTime'].apply(lambda x: pd.to_datetime(x))\n",
    "        )"
   ]
  },
  {
   "cell_type": "code",
   "execution_count": null,
   "metadata": {},
   "outputs": [],
   "source": []
  }
 ],
 "metadata": {
  "kernelspec": {
   "display_name": "Python 3",
   "language": "python",
   "name": "python3"
  },
  "language_info": {
   "codemirror_mode": {
    "name": "ipython",
    "version": 3
   },
   "file_extension": ".py",
   "mimetype": "text/x-python",
   "name": "python",
   "nbconvert_exporter": "python",
   "pygments_lexer": "ipython3",
   "version": "3.7.1"
  },
  "toc": {
   "base_numbering": 1,
   "nav_menu": {},
   "number_sections": true,
   "sideBar": true,
   "skip_h1_title": false,
   "title_cell": "Table of Contents",
   "title_sidebar": "Contents",
   "toc_cell": false,
   "toc_position": {},
   "toc_section_display": true,
   "toc_window_display": false
  }
 },
 "nbformat": 4,
 "nbformat_minor": 2
}
