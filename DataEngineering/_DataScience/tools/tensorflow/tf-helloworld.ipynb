{
 "cells": [
  {
   "cell_type": "markdown",
   "metadata": {},
   "source": [
    "# 导入包"
   ]
  },
  {
   "cell_type": "code",
   "execution_count": 1,
   "metadata": {},
   "outputs": [],
   "source": [
    "import tensorflow as tf"
   ]
  },
  {
   "cell_type": "code",
   "execution_count": 2,
   "metadata": {},
   "outputs": [
    {
     "data": {
      "text/plain": [
       "'1.13.1'"
      ]
     },
     "execution_count": 2,
     "metadata": {},
     "output_type": "execute_result"
    }
   ],
   "source": [
    "tf.__version__"
   ]
  },
  {
   "cell_type": "code",
   "execution_count": 3,
   "metadata": {},
   "outputs": [
    {
     "data": {
      "text/plain": [
       "'2.2.4-tf'"
      ]
     },
     "execution_count": 3,
     "metadata": {},
     "output_type": "execute_result"
    }
   ],
   "source": [
    "tf.keras.__version__"
   ]
  },
  {
   "cell_type": "markdown",
   "metadata": {},
   "source": [
    "# Hello World"
   ]
  },
  {
   "cell_type": "code",
   "execution_count": 4,
   "metadata": {},
   "outputs": [
    {
     "name": "stdout",
     "output_type": "stream",
     "text": [
      "Tensor(\"add:0\", shape=(), dtype=string)\n",
      "b'Hello World!'\n"
     ]
    }
   ],
   "source": [
    "h = tf.constant(\"Hello\")\n",
    "w = tf.constant(\" World!\")\n",
    "hw = h + w\n",
    "print(hw)\n",
    "\n",
    "with tf.Session() as session:\n",
    "    ans = session.run(hw)\n",
    "    \n",
    "print(ans)"
   ]
  },
  {
   "cell_type": "markdown",
   "metadata": {},
   "source": [
    "# MNIST handwritten digits dataset\n",
    "\n",
    "MNIST: Mixed National Institute of Standards and Technology\n",
    "\n",
    "pixels: 28 x 28 = 784\n",
    "\n",
    "- classifier: softmax regression\n",
    "- detailed description: https://medium.com/%E6%89%8B%E5%AF%AB%E7%AD%86%E8%A8%98/%E4%BD%BF%E7%94%A8-tensorflow-%E5%AD%B8%E7%BF%92-softmax-%E5%9B%9E%E6%AD%B8-softmax-regression-41a12b619f04"
   ]
  },
  {
   "cell_type": "code",
   "execution_count": 5,
   "metadata": {},
   "outputs": [],
   "source": [
    "from tensorflow.examples.tutorials.mnist import input_data"
   ]
  },
  {
   "cell_type": "code",
   "execution_count": 6,
   "metadata": {},
   "outputs": [],
   "source": [
    "DATA_DIR = '/tmp/mnist' # data to save locally\n",
    "NUM_STEPS = 1000\n",
    "MINIBATCH_SIZE = 100"
   ]
  },
  {
   "cell_type": "markdown",
   "metadata": {},
   "source": [
    "## data"
   ]
  },
  {
   "cell_type": "code",
   "execution_count": 7,
   "metadata": {},
   "outputs": [
    {
     "name": "stdout",
     "output_type": "stream",
     "text": [
      "WARNING:tensorflow:From <ipython-input-7-e7f1e451c50e>:1: read_data_sets (from tensorflow.contrib.learn.python.learn.datasets.mnist) is deprecated and will be removed in a future version.\n",
      "Instructions for updating:\n",
      "Please use alternatives such as official/mnist/dataset.py from tensorflow/models.\n",
      "WARNING:tensorflow:From /anaconda3/lib/python3.7/site-packages/tensorflow/contrib/learn/python/learn/datasets/mnist.py:260: maybe_download (from tensorflow.contrib.learn.python.learn.datasets.base) is deprecated and will be removed in a future version.\n",
      "Instructions for updating:\n",
      "Please write your own downloading logic.\n",
      "WARNING:tensorflow:From /anaconda3/lib/python3.7/site-packages/tensorflow/contrib/learn/python/learn/datasets/mnist.py:262: extract_images (from tensorflow.contrib.learn.python.learn.datasets.mnist) is deprecated and will be removed in a future version.\n",
      "Instructions for updating:\n",
      "Please use tf.data to implement this functionality.\n",
      "Extracting /tmp/mnist/train-images-idx3-ubyte.gz\n",
      "WARNING:tensorflow:From /anaconda3/lib/python3.7/site-packages/tensorflow/contrib/learn/python/learn/datasets/mnist.py:267: extract_labels (from tensorflow.contrib.learn.python.learn.datasets.mnist) is deprecated and will be removed in a future version.\n",
      "Instructions for updating:\n",
      "Please use tf.data to implement this functionality.\n",
      "Extracting /tmp/mnist/train-labels-idx1-ubyte.gz\n",
      "WARNING:tensorflow:From /anaconda3/lib/python3.7/site-packages/tensorflow/contrib/learn/python/learn/datasets/mnist.py:110: dense_to_one_hot (from tensorflow.contrib.learn.python.learn.datasets.mnist) is deprecated and will be removed in a future version.\n",
      "Instructions for updating:\n",
      "Please use tf.one_hot on tensors.\n",
      "Extracting /tmp/mnist/t10k-images-idx3-ubyte.gz\n",
      "Extracting /tmp/mnist/t10k-labels-idx1-ubyte.gz\n",
      "WARNING:tensorflow:From /anaconda3/lib/python3.7/site-packages/tensorflow/contrib/learn/python/learn/datasets/mnist.py:290: DataSet.__init__ (from tensorflow.contrib.learn.python.learn.datasets.mnist) is deprecated and will be removed in a future version.\n",
      "Instructions for updating:\n",
      "Please use alternatives such as official/mnist/dataset.py from tensorflow/models.\n"
     ]
    }
   ],
   "source": [
    "data = input_data.read_data_sets(DATA_DIR, one_hot=True)"
   ]
  },
  {
   "cell_type": "code",
   "execution_count": 8,
   "metadata": {},
   "outputs": [
    {
     "name": "stdout",
     "output_type": "stream",
     "text": [
      "total 22672\r\n",
      "drwxr-xr-x   6 zhoujiagen  wheel      192 Apr 24 11:40 \u001b[34m.\u001b[m\u001b[m\r\n",
      "drwxrwxrwt  16 root        wheel      512 Apr 24 12:04 \u001b[30m\u001b[42m..\u001b[m\u001b[m\r\n",
      "-rw-r--r--   1 zhoujiagen  wheel  1648877 Apr 24 11:40 t10k-images-idx3-ubyte.gz\r\n",
      "-rw-r--r--   1 zhoujiagen  wheel     4542 Apr 24 11:40 t10k-labels-idx1-ubyte.gz\r\n",
      "-rw-r--r--   1 zhoujiagen  wheel  9912422 Apr 24 11:40 train-images-idx3-ubyte.gz\r\n",
      "-rw-r--r--   1 zhoujiagen  wheel    28881 Apr 24 11:40 train-labels-idx1-ubyte.gz\r\n"
     ]
    }
   ],
   "source": [
    "!ls -al /tmp/mnist"
   ]
  },
  {
   "cell_type": "markdown",
   "metadata": {},
   "source": [
    "## parameter"
   ]
  },
  {
   "cell_type": "code",
   "execution_count": 9,
   "metadata": {},
   "outputs": [
    {
     "name": "stdout",
     "output_type": "stream",
     "text": [
      "WARNING:tensorflow:From /anaconda3/lib/python3.7/site-packages/tensorflow/python/framework/op_def_library.py:263: colocate_with (from tensorflow.python.framework.ops) is deprecated and will be removed in a future version.\n",
      "Instructions for updating:\n",
      "Colocations handled automatically by placer.\n"
     ]
    }
   ],
   "source": [
    "# placeholder: 占位符\n",
    "# Variable: 变量\n",
    "\n",
    "x = tf.placeholder(tf.float32, [None, 784])\n",
    "W = tf.Variable(tf.zeros([784, 10]))\n",
    "\n",
    "y_true = tf.placeholder(tf.float32, [None, 10])\n",
    "y_pred = tf.matmul(x, W)"
   ]
  },
  {
   "cell_type": "markdown",
   "metadata": {},
   "source": [
    "## optimization"
   ]
  },
  {
   "cell_type": "code",
   "execution_count": 10,
   "metadata": {},
   "outputs": [
    {
     "name": "stdout",
     "output_type": "stream",
     "text": [
      "WARNING:tensorflow:From <ipython-input-10-0da5652a044b>:4: softmax_cross_entropy_with_logits (from tensorflow.python.ops.nn_ops) is deprecated and will be removed in a future version.\n",
      "Instructions for updating:\n",
      "\n",
      "Future major versions of TensorFlow will allow gradients to flow\n",
      "into the labels input on backprop by default.\n",
      "\n",
      "See `tf.nn.softmax_cross_entropy_with_logits_v2`.\n",
      "\n"
     ]
    }
   ],
   "source": [
    "# loss function: cross entropy\n",
    "cross_entropy = tf.reduce_mean(\n",
    "    tf.nn.softmax_cross_entropy_with_logits(\n",
    "        logits=y_pred, \n",
    "        labels=y_true))\n",
    "# gradient descent optimization\n",
    "gdo = tf.train.GradientDescentOptimizer(0.5) # learning rate: 0.5\n",
    "gd_step = gdo.minimize(cross_entropy)"
   ]
  },
  {
   "cell_type": "markdown",
   "metadata": {},
   "source": [
    "## evaluation"
   ]
  },
  {
   "cell_type": "code",
   "execution_count": 11,
   "metadata": {},
   "outputs": [],
   "source": [
    "correct_mask = tf.equal(tf.argmax(y_pred, 1), tf.argmax(y_true, 1))\n",
    "accuracy = tf.reduce_mean(tf.cast(correct_mask, tf.float32))"
   ]
  },
  {
   "cell_type": "markdown",
   "metadata": {},
   "source": [
    "## train, test"
   ]
  },
  {
   "cell_type": "code",
   "execution_count": 12,
   "metadata": {},
   "outputs": [],
   "source": [
    "# OMP: Error #15: Initializing libiomp5.dylib, but found libiomp5.dylib already initialized.\n",
    "# https://github.com/dmlc/xgboost/issues/1715\n",
    "\n",
    "import os\n",
    "os.environ['KMP_DUPLICATE_LIB_OK']='True'"
   ]
  },
  {
   "cell_type": "code",
   "execution_count": 19,
   "metadata": {},
   "outputs": [
    {
     "name": "stdout",
     "output_type": "stream",
     "text": [
      "Accuracy: 0.9169999957084656\n"
     ]
    }
   ],
   "source": [
    "with tf.Session() as session:\n",
    "    # train\n",
    "    session.run(tf.global_variables_initializer()) # initialize variables\n",
    "    for _ in range(NUM_STEPS):\n",
    "        batch_xs, batch_ys = data.train.next_batch(MINIBATCH_SIZE)\n",
    "        session.run(gd_step, \n",
    "                    feed_dict={x: batch_xs, \n",
    "                               y_true: batch_ys})\n",
    "    # test\n",
    "    ans = session.run(accuracy, \n",
    "                      feed_dict={x: data.test.images, \n",
    "                                 y_true: data.test.labels})\n",
    "print(\"Accuracy: {}\".format(ans))    "
   ]
  },
  {
   "cell_type": "markdown",
   "metadata": {},
   "source": [
    "# TF Basics"
   ]
  },
  {
   "cell_type": "markdown",
   "metadata": {},
   "source": [
    "## Graph\n",
    "\n",
    "- node: operation\n",
    "- edge: tensor object"
   ]
  },
  {
   "attachments": {
    "image.png": {
     "image/png": "[encoded data removed]"
    }
   },
   "cell_type": "markdown",
   "metadata": {},
   "source": [
    "![image.png](attachment:image.png)"
   ]
  },
  {
   "cell_type": "code",
   "execution_count": 7,
   "metadata": {},
   "outputs": [],
   "source": [
    "# tf.<operator>\n",
    "a = tf.constant(5)\n",
    "b = tf.constant(2)\n",
    "c = tf.constant(3)\n",
    "\n",
    "d = tf.multiply(a, b)\n",
    "e = tf.add(b, c)\n",
    "f = tf.subtract(d, e)"
   ]
  },
  {
   "cell_type": "code",
   "execution_count": 10,
   "metadata": {},
   "outputs": [
    {
     "name": "stdout",
     "output_type": "stream",
     "text": [
      "<tensorflow.python.framework.ops.Graph object at 0xb4083fa58>\n",
      "<tensorflow.python.framework.ops.Graph object at 0xb408bc320>\n",
      "False\n",
      "True\n"
     ]
    }
   ],
   "source": [
    "print(tf.get_default_graph())\n",
    "g = tf.Graph()\n",
    "print(g)\n",
    "print(a.graph is g)\n",
    "print(a.graph is tf.get_default_graph())"
   ]
  },
  {
   "cell_type": "code",
   "execution_count": 11,
   "metadata": {},
   "outputs": [
    {
     "name": "stdout",
     "output_type": "stream",
     "text": [
      "True\n",
      "False\n",
      "True\n"
     ]
    }
   ],
   "source": [
    "g1 = tf.get_default_graph()\n",
    "g2 = tf.Graph()\n",
    "print(g1 is tf.get_default_graph())\n",
    "\n",
    "with g2.as_default():\n",
    "    print(g1 is tf.get_default_graph())\n",
    "\n",
    "print(g1 is tf.get_default_graph())"
   ]
  },
  {
   "cell_type": "markdown",
   "metadata": {},
   "source": [
    "## Session"
   ]
  },
  {
   "cell_type": "code",
   "execution_count": 6,
   "metadata": {},
   "outputs": [
    {
     "name": "stdout",
     "output_type": "stream",
     "text": [
      "5\n"
     ]
    }
   ],
   "source": [
    "with tf.Session() as session:\n",
    "    ans = session.run(f)\n",
    "\n",
    "print(ans)"
   ]
  },
  {
   "cell_type": "markdown",
   "metadata": {},
   "source": [
    "## Fetches"
   ]
  },
  {
   "cell_type": "code",
   "execution_count": 13,
   "metadata": {},
   "outputs": [
    {
     "name": "stdout",
     "output_type": "stream",
     "text": [
      "[5, 2, 3, 10, 5, 5]\n",
      "<class 'numpy.int32'>\n"
     ]
    }
   ],
   "source": [
    "with tf.Session() as session:\n",
    "    fetches = [a,b,c,d,e,f]\n",
    "    ans = session.run(fetches=fetches)\n",
    "print(ans)\n",
    "print(type(ans[0]))"
   ]
  },
  {
   "cell_type": "markdown",
   "metadata": {},
   "source": [
    "## Tensors"
   ]
  },
  {
   "cell_type": "code",
   "execution_count": 14,
   "metadata": {},
   "outputs": [
    {
     "name": "stdout",
     "output_type": "stream",
     "text": [
      "Tensor(\"Const_6:0\", shape=(), dtype=float32)\n"
     ]
    }
   ],
   "source": [
    "c = tf.constant(4.0)\n",
    "print(c) # name, shape, dtype"
   ]
  },
  {
   "cell_type": "markdown",
   "metadata": {},
   "source": [
    "### Data Type\n",
    "\n",
    "- numerical\n",
    "- boolean\n",
    "- string"
   ]
  },
  {
   "cell_type": "code",
   "execution_count": 17,
   "metadata": {},
   "outputs": [
    {
     "name": "stdout",
     "output_type": "stream",
     "text": [
      "Tensor(\"Const_9:0\", shape=(), dtype=float64)\n",
      "<dtype: 'float64'>\n"
     ]
    }
   ],
   "source": [
    "c = tf.constant(4.9, dtype=tf.float64)\n",
    "print(c)\n",
    "print(c.dtype)"
   ]
  },
  {
   "cell_type": "code",
   "execution_count": 18,
   "metadata": {},
   "outputs": [
    {
     "name": "stdout",
     "output_type": "stream",
     "text": [
      "Tensor(\"x:0\", shape=(3,), dtype=float32)\n",
      "Tensor(\"Cast:0\", shape=(3,), dtype=int64)\n"
     ]
    }
   ],
   "source": [
    "# cast\n",
    "x = tf.constant([1,2,3], name='x', dtype=tf.float32)\n",
    "print(x)\n",
    "x = tf.cast(x, tf.int64)\n",
    "print(x)"
   ]
  },
  {
   "cell_type": "markdown",
   "metadata": {},
   "source": [
    "### Tensor Array\n",
    "\n",
    "- Tensor\n",
    "\n",
    "the name of an object used in the Python API as a handle for the result of an operation in the graph\n",
    "\n",
    "- tensor\n",
    "\n",
    "a mathematical term for n-dimensional arrays"
   ]
  },
  {
   "cell_type": "code",
   "execution_count": 19,
   "metadata": {},
   "outputs": [
    {
     "name": "stdout",
     "output_type": "stream",
     "text": [
      "Tensor(\"Const_10:0\", shape=(2, 3), dtype=int32)\n"
     ]
    }
   ],
   "source": [
    "# Python list\n",
    "c = tf.constant([[1,2,3],\n",
    "                [4,5,6]])\n",
    "print(c)"
   ]
  },
  {
   "cell_type": "code",
   "execution_count": 21,
   "metadata": {},
   "outputs": [
    {
     "name": "stdout",
     "output_type": "stream",
     "text": [
      "Tensor(\"Const_11:0\", shape=(2, 2, 3), dtype=int64)\n"
     ]
    }
   ],
   "source": [
    "# Numpy array\n",
    "import numpy as np\n",
    "\n",
    "c = tf.constant(np.array([\n",
    "    [[1,2,3],\n",
    "     [4,5,6]],\n",
    "    \n",
    "    [[1,1,1],\n",
    "     [2,2,2]]\n",
    "]))\n",
    "print(c)"
   ]
  },
  {
   "cell_type": "code",
   "execution_count": 24,
   "metadata": {},
   "outputs": [
    {
     "name": "stdout",
     "output_type": "stream",
     "text": [
      "Tensor(\"random_normal_1:0\", shape=(2, 2), dtype=float32)\n",
      "Tensor(\"truncated_normal:0\", shape=(2, 2), dtype=float32)\n",
      "Tensor(\"random_uniform:0\", shape=(2, 2), dtype=float32)\n"
     ]
    }
   ],
   "source": [
    "# random number generator\n",
    "print(tf.random.normal(shape=(2,2))) # normal distrubution\n",
    "print(tf.random.truncated_normal(shape=(2,2))) # truncated normal distribution\n",
    "print(tf.random.uniform(shape=(2,2))) # uniform distribution"
   ]
  },
  {
   "cell_type": "code",
   "execution_count": 26,
   "metadata": {},
   "outputs": [
    {
     "name": "stdout",
     "output_type": "stream",
     "text": [
      "Tensor(\"LinSpace_1:0\", shape=(5,), dtype=float32)\n",
      "[0. 1. 2. 3. 4.]\n"
     ]
    }
   ],
   "source": [
    "c = tf.linspace(0.0, 4.0, 5) # line space\n",
    "print(c)\n",
    "session = tf.InteractiveSession()\n",
    "print(c.eval())\n",
    "session.close()"
   ]
  },
  {
   "cell_type": "code",
   "execution_count": 38,
   "metadata": {},
   "outputs": [
    {
     "name": "stdout",
     "output_type": "stream",
     "text": [
      "A=Tensor(\"Const_34:0\", shape=(2, 3), dtype=int32)\n",
      "x=Tensor(\"Const_35:0\", shape=(3,), dtype=int32)\n",
      "x=Tensor(\"ExpandDims_3:0\", shape=(3, 1), dtype=int32)\n",
      "A=[[1 2 3]\n",
      " [4 5 6]]\n",
      "x=[[1]\n",
      " [0]\n",
      " [1]]\n",
      "b=[[ 4]\n",
      " [10]]\n"
     ]
    }
   ],
   "source": [
    "# Matrix multiplication\n",
    "# Ax = b\n",
    "A = tf.constant([[1,2,3],\n",
    "                [4,5,6]])\n",
    "x = tf.constant([1,0,1])\n",
    "print('A={}'.format(A))\n",
    "print('x={}'.format(x))\n",
    "x = tf.expand_dims(x, 1) # 1D vector => 2D single column matrix\n",
    "print('x={}'.format(x))\n",
    "b = tf.matmul(A, x)\n",
    "session = tf.InteractiveSession()\n",
    "print('A={}'.format(A.eval()))\n",
    "print('x={}'.format(x.eval()))\n",
    "print('b={}'.format(b.eval()))\n",
    "session.close()"
   ]
  },
  {
   "cell_type": "markdown",
   "metadata": {},
   "source": [
    "### Name"
   ]
  },
  {
   "cell_type": "code",
   "execution_count": 40,
   "metadata": {},
   "outputs": [
    {
     "name": "stdout",
     "output_type": "stream",
     "text": [
      "Tensor(\"c:0\", shape=(), dtype=float64)\n",
      "Tensor(\"c_1:0\", shape=(), dtype=int32)\n"
     ]
    }
   ],
   "source": [
    "with tf.Graph().as_default():\n",
    "    c1 = tf.constant(4, dtype=tf.float64, name='c') # intrinsic string name\n",
    "    c2 = tf.constant(4, dtype=tf.int32, name='c')\n",
    "print(c1)\n",
    "print(c2)"
   ]
  },
  {
   "cell_type": "code",
   "execution_count": 41,
   "metadata": {},
   "outputs": [
    {
     "name": "stdout",
     "output_type": "stream",
     "text": [
      "Tensor(\"c:0\", shape=(), dtype=float64)\n",
      "Tensor(\"prefix_name/c:0\", shape=(), dtype=int32)\n",
      "Tensor(\"prefix_name/c_1:0\", shape=(), dtype=float64)\n"
     ]
    }
   ],
   "source": [
    "# name scope\n",
    "with tf.Graph().as_default():\n",
    "    c1 = tf.constant(4, dtype=tf.float64, name='c')\n",
    "    with tf.name_scope('prefix_name'):\n",
    "        c2 = tf.constant(4, dtype=tf.int32, name='c')\n",
    "        c3 = tf.constant(4, dtype=tf.float64, name='c')\n",
    "print(c1)\n",
    "print(c2)\n",
    "print(c3)"
   ]
  },
  {
   "cell_type": "markdown",
   "metadata": {},
   "source": [
    "### Variable\n",
    "\n",
    "- the parameter of models\n",
    "- maintain fixed state in graph"
   ]
  },
  {
   "cell_type": "code",
   "execution_count": 53,
   "metadata": {},
   "outputs": [
    {
     "name": "stdout",
     "output_type": "stream",
     "text": [
      "<tf.Variable 'var_13:0' shape=(1, 5) dtype=float32_ref>\n",
      "[[-1.0387472  -0.428862   -0.33240804 -1.070892   -1.2820671 ]]\n"
     ]
    }
   ],
   "source": [
    "init_val = tf.random.normal(shape=(1,5), mean=0, stddev=1)\n",
    "var = tf.Variable(init_val, name='var')\n",
    "print(var)\n",
    "\n",
    "init = tf.global_variables_initializer()\n",
    "with tf.Session() as session:\n",
    "    session.run(init)\n",
    "    post_var = session.run(var)\n",
    "\n",
    "print(post_var)"
   ]
  },
  {
   "cell_type": "code",
   "execution_count": null,
   "metadata": {},
   "outputs": [],
   "source": [
    "# 怎么重用变量???"
   ]
  },
  {
   "cell_type": "markdown",
   "metadata": {},
   "source": [
    "### Placeholder\n",
    "\n",
    "- feeding input values\n",
    "\n",
    "empty variables, will be filled with data later"
   ]
  },
  {
   "cell_type": "code",
   "execution_count": 66,
   "metadata": {},
   "outputs": [
    {
     "name": "stdout",
     "output_type": "stream",
     "text": [
      "<tensorflow.python.framework.ops.Graph object at 0xb4104ce48>\n",
      "1.6862931\n"
     ]
    }
   ],
   "source": [
    "import numpy as np\n",
    "x_data = np.random.randn(5, 10)\n",
    "w_data = np.random.randn(10, 1)\n",
    "\n",
    "with tf.Graph().as_default():\n",
    "    x = tf.placeholder(dtype=tf.float32, shape=(5, 10))\n",
    "    w = tf.placeholder(dtype=tf.float32, shape=(10, 1))\n",
    "    b = tf.fill(dims=(5,1), value=-1.)\n",
    "    xw = tf.matmul(x, w)\n",
    "    \n",
    "    xwb = tf.add(xw, b)\n",
    "    s = tf.reduce_max(xwb)\n",
    "    with tf.Session() as session:\n",
    "        # feed for placeholder: x, w\n",
    "        ans = session.run(fetches=s, \n",
    "                          feed_dict={x: x_data, \n",
    "                                     w: w_data})\n",
    "        print(session.graph_def)\n",
    "print(ans)"
   ]
  },
  {
   "cell_type": "markdown",
   "metadata": {},
   "source": [
    "## Optimization\n",
    "\n",
    "- LaTeX Math Symbols: http://web.ift.uib.no/Teori/KURS/WRK/TeX/symALL.html"
   ]
  },
  {
   "cell_type": "markdown",
   "metadata": {},
   "source": [
    "### regression model\n",
    "\n",
    "\n",
    "$$f(x_i) = w^Tx_i + b$$\n",
    "$$y_i = f(x_i) + \\varepsilon_i$$\n"
   ]
  },
  {
   "cell_type": "code",
   "execution_count": 70,
   "metadata": {},
   "outputs": [],
   "source": [
    "x = tf.placeholder(tf.float32, shape=[None, 3])\n",
    "y_true = tf.placeholder(tf.float32, shape=None)\n",
    "w = tf.Variable([[0,0,0]], dtype=tf.float32, name='weight')\n",
    "b = tf.Variable(0, dtype=tf.float32, name='bias')\n",
    "y_pred = tf.matmul(w, tf.transpose(w)) + b"
   ]
  },
  {
   "cell_type": "markdown",
   "metadata": {},
   "source": [
    "### loss function\n",
    "\n",
    "- MSE: mean square error\n",
    "\n",
    "$$L(y, \\hat{y}) = \\frac{i}{n}\\sum_{i=1}^{n}(y_i - \\hat{y})^2$$\n",
    "\n",
    "- cross entropy: for categorial data\n",
    "\n",
    "$$H(p, q) = -\\sum_{x}p(x) \\log q(x)$$"
   ]
  },
  {
   "cell_type": "code",
   "execution_count": 72,
   "metadata": {},
   "outputs": [],
   "source": [
    "loss_mse = tf.reduce_mean(tf.square(y_true - y_pred))"
   ]
  },
  {
   "cell_type": "code",
   "execution_count": 73,
   "metadata": {},
   "outputs": [],
   "source": [
    "loss_ce = tf.reduce_mean(\n",
    "    tf.nn.sigmoid_cross_entropy_with_logits(\n",
    "        logits=y_pred, \n",
    "        labels=y_true))"
   ]
  },
  {
   "cell_type": "markdown",
   "metadata": {},
   "source": [
    "### gradient descent optimizor"
   ]
  },
  {
   "cell_type": "code",
   "execution_count": 74,
   "metadata": {},
   "outputs": [
    {
     "name": "stdout",
     "output_type": "stream",
     "text": [
      "WARNING:tensorflow:From /anaconda3/lib/python3.7/site-packages/tensorflow/python/ops/math_ops.py:3066: to_int32 (from tensorflow.python.ops.math_ops) is deprecated and will be removed in a future version.\n",
      "Instructions for updating:\n",
      "Use tf.cast instead.\n"
     ]
    }
   ],
   "source": [
    "optimizer = tf.train.GradientDescentOptimizer(learning_rate=0.5)\n",
    "train = optimizer.minimize(loss_ce)"
   ]
  },
  {
   "cell_type": "markdown",
   "metadata": {},
   "source": [
    "### Example: linear regression"
   ]
  },
  {
   "cell_type": "code",
   "execution_count": 43,
   "metadata": {},
   "outputs": [],
   "source": [
    "# data\n",
    "import numpy as np\n",
    "\n",
    "x_data = np.random.randn(2000, 3)\n",
    "w_real = [0.3, 0.5, 0.1]\n",
    "b_real = -0.2\n",
    "\n",
    "noise = np.random.randn(1, 2000) * 0.1\n",
    "y_data = np.matmul(w_real, x_data.T) + b_real + noise"
   ]
  },
  {
   "cell_type": "code",
   "execution_count": 3,
   "metadata": {},
   "outputs": [
    {
     "data": {
      "text/plain": [
       "array([[ 0.39351294, -2.37036786,  0.98975031],\n",
       "       [-0.85421857,  0.27561734, -2.01503238],\n",
       "       [ 1.76695131, -0.48566782,  0.13709807],\n",
       "       ...,\n",
       "       [-0.38455845, -1.69722506,  0.7334742 ],\n",
       "       [ 0.78906321,  0.82917123, -0.11128583],\n",
       "       [-0.5719897 , -0.80846917, -1.25816597]])"
      ]
     },
     "execution_count": 3,
     "metadata": {},
     "output_type": "execute_result"
    }
   ],
   "source": [
    "x_data"
   ]
  },
  {
   "cell_type": "code",
   "execution_count": 4,
   "metadata": {},
   "outputs": [
    {
     "data": {
      "text/plain": [
       "array([[-0.99725663, -0.56589123,  0.12208161, ..., -1.11160444,\n",
       "         0.52746224, -0.79998217]])"
      ]
     },
     "execution_count": 4,
     "metadata": {},
     "output_type": "execute_result"
    }
   ],
   "source": [
    "y_data"
   ]
  },
  {
   "cell_type": "code",
   "execution_count": 44,
   "metadata": {},
   "outputs": [],
   "source": [
    "import os\n",
    "os.environ['KMP_DUPLICATE_LIB_OK']='True'"
   ]
  },
  {
   "cell_type": "code",
   "execution_count": 45,
   "metadata": {},
   "outputs": [
    {
     "name": "stdout",
     "output_type": "stream",
     "text": [
      "w_real=[0.3, 0.5, 0.1]\n",
      "b_real=-0.2\n",
      "0 [array([[0.29701254, 0.49204862, 0.09861661]], dtype=float32), -0.20370908] 0.39305073\n",
      "1 [array([[0.29564512, 0.49768442, 0.10090394]], dtype=float32), -0.20030656] 0.009600601\n",
      "2 [array([[0.29611352, 0.49746138, 0.10079753]], dtype=float32), -0.20046154] 0.009552826\n",
      "3 [array([[0.2960763 , 0.49748477, 0.10081516]], dtype=float32), -0.20043764] 0.009552552\n",
      "4 [array([[0.29608023, 0.49748254, 0.10081352]], dtype=float32), -0.20043954] 0.009552548\n",
      "5 [array([[0.29607987, 0.49748278, 0.10081369]], dtype=float32), -0.20043935] 0.009552549\n",
      "6 [array([[0.2960799 , 0.49748275, 0.10081367]], dtype=float32), -0.20043936] 0.0095525505\n",
      "7 [array([[0.2960799 , 0.49748275, 0.10081367]], dtype=float32), -0.20043936] 0.00955255\n",
      "8 [array([[0.2960799 , 0.49748275, 0.10081367]], dtype=float32), -0.20043936] 0.00955255\n",
      "9 [array([[0.2960799 , 0.49748275, 0.10081367]], dtype=float32), -0.20043936] 0.00955255\n",
      "10 [array([[0.2960799 , 0.49748275, 0.10081367]], dtype=float32), -0.20043936]\n"
     ]
    }
   ],
   "source": [
    "print('w_real={}'.format(w_real))\n",
    "print('b_real={}'.format(b_real))\n",
    "\n",
    "NUM_STEPS = 10\n",
    "g = tf.Graph()\n",
    "wb_ = []\n",
    "\n",
    "with g.as_default():\n",
    "    x = tf.placeholder(tf.float32, shape=[None, 3])\n",
    "    y_true = tf.placeholder(tf.float32, shape=None)\n",
    "    \n",
    "    with tf.name_scope('inference') as scope:\n",
    "        w = tf.Variable([[0,0,0]], dtype=tf.float32, name='weights')\n",
    "        b = tf.Variable(0, dtype=tf.float32, name='bias')\n",
    "        y_pred = tf.matmul(w, tf.transpose(x)) + b\n",
    "        \n",
    "    with tf.name_scope('loss') as scope:\n",
    "        loss = tf.reduce_mean(tf.square(y_true - y_pred))\n",
    "    \n",
    "    with tf.name_scope('train') as scope:\n",
    "        learning_rate = 0.5\n",
    "        optimizer = tf.train.GradientDescentOptimizer(learning_rate=learning_rate)\n",
    "        train = optimizer.minimize(loss=loss)\n",
    "\n",
    "    init = tf.global_variables_initializer()\n",
    "    with tf.Session() as session:\n",
    "        session.run(init)\n",
    "        for step in range(NUM_STEPS):\n",
    "            _, loss_val = session.run(fetches=[train, loss], \n",
    "                                      feed_dict={x: x_data, \n",
    "                                                 y_true: y_data})\n",
    "#             if(step % 5 == 0):\n",
    "#                 print(step, session.run([w, b]))\n",
    "#                 wb_.append(session.run([w, b]))\n",
    "            print(step, session.run([w, b]), loss_val)\n",
    "\n",
    "        print(step+1, session.run([w, b]))"
   ]
  },
  {
   "cell_type": "markdown",
   "metadata": {},
   "source": [
    "### Example: logistic regression\n",
    "\n",
    "$$Pr(y_i = 1 | x_i) = \\frac{1}{1 + exp^{wx_{i}+b}}$$"
   ]
  },
  {
   "cell_type": "code",
   "execution_count": 47,
   "metadata": {},
   "outputs": [],
   "source": [
    "import numpy as np\n",
    "\n",
    "N = 20000\n",
    "\n",
    "def sigmod(x):\n",
    "    return 1 / (1 + np.exp(-x))\n",
    "\n",
    "x_data = np.random.randn(N, 3)\n",
    "w_real = [0.3, 0.5, 0.1]\n",
    "b_real = -0.2\n",
    "\n",
    "wxb = np.matmul(w_real, x_data.T) + b_real\n",
    "\n",
    "y_data_pre_noise = sigmod(wxb)\n",
    "y_data = np.random.binomial(1, y_data_pre_noise)"
   ]
  },
  {
   "cell_type": "code",
   "execution_count": 50,
   "metadata": {},
   "outputs": [
    {
     "name": "stdout",
     "output_type": "stream",
     "text": [
      "y_data=[1 1 0 ... 0 0 0]\n",
      "w_real=[0.3, 0.5, 0.1]\n",
      "b_real=-0.2\n",
      "0 [array([[0.03457896, 0.0561118 , 0.01210436]], dtype=float32), -0.026824981] 0.6931459\n",
      "5 [array([[0.15382491, 0.24808949, 0.05369768]], dtype=float32), -0.11783021] 0.66231847\n",
      "10 [array([[0.21829456, 0.35050026, 0.07602905]], dtype=float32), -0.16552825] 0.6536972\n",
      "15 [array([[0.25468096, 0.40763423, 0.08854072]], dtype=float32), -0.19162278] 0.6510524\n",
      "20 [array([[0.2757998 , 0.4404659 , 0.09574994]], dtype=float32), -0.20632449] 0.6501869\n",
      "25 [array([[0.28825974, 0.45966944, 0.0999739 ]], dtype=float32), -0.21476203] 0.6498924\n",
      "30 [array([[0.29568028, 0.47102004, 0.10247324]], dtype=float32), -0.21966134] 0.64979005\n",
      "35 [array([[0.30012313, 0.47777084, 0.10396073]], dtype=float32), -0.22252771] 0.64975375\n",
      "40 [array([[0.30279097, 0.4818008 , 0.10484906]], dtype=float32), -0.22421324] 0.6497408\n",
      "45 [array([[0.30439547, 0.48421183, 0.10538065]], dtype=float32), -0.22520787] 0.64973617\n",
      "50 [array([[0.30520508, 0.48542327, 0.10564779]], dtype=float32), -0.2257019]\n"
     ]
    }
   ],
   "source": [
    "print('y_data={}'.format(y_data))\n",
    "print('w_real={}'.format(w_real))\n",
    "print('b_real={}'.format(b_real))\n",
    "\n",
    "\n",
    "NUM_STEPS = 50\n",
    "\n",
    "x = tf.placeholder(tf.float32, shape=[None, 3])    \n",
    "y_true = tf.placeholder(tf.float32, shape=None)\n",
    "    \n",
    "w = tf.Variable([[0,0,0]], dtype=tf.float32, name='weights')\n",
    "b = tf.Variable(0, dtype=tf.float32, name='bias')\n",
    "y_pred = tf.matmul(w, tf.transpose(x)) + b\n",
    "\n",
    "loss = tf.nn.sigmoid_cross_entropy_with_logits(logits=y_pred, labels=y_true)\n",
    "loss = tf.reduce_mean(loss)\n",
    "\n",
    "learning_rate = 0.5\n",
    "optimizer = tf.train.GradientDescentOptimizer(learning_rate=learning_rate)\n",
    "train = optimizer.minimize(loss=loss)\n",
    "\n",
    "init = tf.global_variables_initializer()\n",
    "with tf.Session() as session:\n",
    "    session.run(init)\n",
    "    \n",
    "    for step in range(NUM_STEPS):\n",
    "        _, loss_val = session.run(fetches=[train, loss], \n",
    "                                  feed_dict={x: x_data,\n",
    "                                            y_true: y_data})\n",
    "        if (step % 5 == 0):\n",
    "            print(step, session.run([w,b]), loss_val)\n",
    "    print(step+1, session.run([w,b]))    "
   ]
  },
  {
   "cell_type": "code",
   "execution_count": null,
   "metadata": {},
   "outputs": [],
   "source": []
  },
  {
   "cell_type": "code",
   "execution_count": null,
   "metadata": {},
   "outputs": [],
   "source": []
  },
  {
   "cell_type": "code",
   "execution_count": null,
   "metadata": {},
   "outputs": [],
   "source": []
  },
  {
   "cell_type": "code",
   "execution_count": null,
   "metadata": {},
   "outputs": [],
   "source": []
  }
 ],
 "metadata": {
  "kernelspec": {
   "display_name": "Python 3",
   "language": "python",
   "name": "python3"
  },
  "language_info": {
   "codemirror_mode": {
    "name": "ipython",
    "version": 3
   },
   "file_extension": ".py",
   "mimetype": "text/x-python",
   "name": "python",
   "nbconvert_exporter": "python",
   "pygments_lexer": "ipython3",
   "version": "3.7.1"
  },
  "toc": {
   "base_numbering": 1,
   "nav_menu": {},
   "number_sections": true,
   "sideBar": true,
   "skip_h1_title": false,
   "title_cell": "Table of Contents",
   "title_sidebar": "Contents",
   "toc_cell": false,
   "toc_position": {
    "height": "calc(100% - 180px)",
    "left": "10px",
    "top": "150px",
    "width": "277.594px"
   },
   "toc_section_display": true,
   "toc_window_display": true
  }
 },
 "nbformat": 4,
 "nbformat_minor": 2
}
