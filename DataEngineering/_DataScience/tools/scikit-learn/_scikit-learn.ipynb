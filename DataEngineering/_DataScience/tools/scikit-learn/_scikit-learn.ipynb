{
 "cells": [
  {
   "cell_type": "markdown",
   "metadata": {},
   "source": [
    "# scikit-learn\n",
    "* https://scikit-learn.org/stable/\n",
    "\n",
    "* Classification: SVM, nearest neighbors, random forest, logistic regression, etc.\n",
    "* Regression: Lasso, ridge regression, etc.\n",
    "* Clustering: k-means, spectral clustering, etc.\n",
    "* Dimensionality reduction: PCA, feature selection, matrix factorization, etc.\n",
    "* Model selection: Grid search, cross-validation, metrics\n",
    "* Preprocessing: Feature extraction, normalization"
   ]
  }
 ],
 "metadata": {
  "kernelspec": {
   "display_name": "Python 3",
   "language": "python",
   "name": "python3"
  },
  "language_info": {
   "name": "python",
   "version": "3.11.3"
  }
 },
 "nbformat": 4,
 "nbformat_minor": 2
}
