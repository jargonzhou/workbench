{
 "cells": [
  {
   "cell_type": "markdown",
   "metadata": {},
   "source": [
    "# Data Engineering"
   ]
  },
  {
   "cell_type": "markdown",
   "metadata": {},
   "source": [
    "# RocketMQ\n",
    "* https://github.com/apache/rocketmq\n",
    "\n",
    "notes:\n",
    "* wiki\\data-engineering\\tiddlers\\Apache RocketMQ.tid"
   ]
  }
 ],
 "metadata": {
  "language_info": {
   "name": "python"
  }
 },
 "nbformat": 4,
 "nbformat_minor": 2
}
