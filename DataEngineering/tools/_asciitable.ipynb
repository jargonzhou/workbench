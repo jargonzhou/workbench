{
 "cells": [
  {
   "cell_type": "markdown",
   "metadata": {},
   "source": [
    "# ASCII Table\n",
    "* https://github.com/vdmeer/asciitable\n",
    "* examples: http://www.vandermeer.de/projects/skb/java/asciitable/examples.html"
   ]
  },
  {
   "cell_type": "code",
   "execution_count": 1,
   "metadata": {},
   "outputs": [
    {
     "data": {
      "text/plain": [
       "\u001b[32mimport \u001b[39m\u001b[36m$ivy.$                               , de.vandermeer.asciitable._\r\n",
       "\u001b[39m"
      ]
     },
     "execution_count": 1,
     "metadata": {},
     "output_type": "execute_result"
    }
   ],
   "source": [
    "import $ivy.`de.vandermeer:asciitable:0.3.2`, de.vandermeer.asciitable._"
   ]
  },
  {
   "cell_type": "code",
   "execution_count": 2,
   "metadata": {},
   "outputs": [
    {
     "name": "stdout",
     "output_type": "stream",
     "text": [
      "┌───────────────────────────────────────┬──────────────────────────────────────┐\n",
      "│row 1 col 1                            │row 1 col 2                           │\n",
      "├───────────────────────────────────────┼──────────────────────────────────────┤\n",
      "│row 2 col 1                            │row 2 col 2                           │\n",
      "└───────────────────────────────────────┴──────────────────────────────────────┘\n"
     ]
    },
    {
     "data": {
      "text/plain": [
       "\u001b[36mat\u001b[39m: \u001b[32mAsciiTable\u001b[39m = de.vandermeer.asciitable.AsciiTable@7b11994a\r\n",
       "\u001b[36mres2_2\u001b[39m: \u001b[32mAT_Row\u001b[39m = de.vandermeer.asciitable.AT_Row$2@4aa26ff1\r\n",
       "\u001b[36mres2_4\u001b[39m: \u001b[32mAT_Row\u001b[39m = de.vandermeer.asciitable.AT_Row$2@191f25d7"
      ]
     },
     "execution_count": 2,
     "metadata": {},
     "output_type": "execute_result"
    }
   ],
   "source": [
    "val at = new AsciiTable()\n",
    "at.addRule()\n",
    "at.addRow(\"row 1 col 1\", \"row 1 col 2\")\n",
    "at.addRule()\n",
    "at.addRow(\"row 2 col 1\", \"row 2 col 2\")\n",
    "at.addRule()\n",
    "\n",
    "println(at.render())"
   ]
  },
  {
   "cell_type": "code",
   "execution_count": 11,
   "metadata": {},
   "outputs": [
    {
     "name": "stdout",
     "output_type": "stream",
     "text": [
      "┌───────────────────────────────────────┬──────────────────────────────────────┐\n",
      "│A                                      │B                                     │\n",
      "├───────────────────────────────────────┼──────────────────────────────────────┤\n",
      "│a1                                     │null                                  │\n",
      "│a2                                     │looooooooooooooooooooooooooooooong    │\n",
      "└───────────────────────────────────────┴──────────────────────────────────────┘\n"
     ]
    },
    {
     "data": {
      "text/plain": [
       "\u001b[32mimport \u001b[39m\u001b[36mscala.jdk.CollectionConverters.*\n",
       "\n",
       "// def print_table(header: java.util.List[String], rows: java.util.List[java.util.List[String]]): Unit = {\n",
       "\u001b[39m\r\n",
       "defined \u001b[32mfunction\u001b[39m \u001b[36mprint_table\u001b[39m\r\n",
       "\u001b[36mheader\u001b[39m: \u001b[32mList\u001b[39m[\u001b[32mString\u001b[39m] = \u001b[33mList\u001b[39m(\u001b[32m\"A\"\u001b[39m, \u001b[32m\"B\"\u001b[39m)\r\n",
       "\u001b[36mrows\u001b[39m: \u001b[32mList\u001b[39m[\u001b[32mList\u001b[39m[\u001b[32mString\u001b[39m]] = \u001b[33mList\u001b[39m(\n",
       "  \u001b[33mList\u001b[39m(\u001b[32m\"a1\"\u001b[39m, \u001b[32m\"null\"\u001b[39m),\n",
       "  \u001b[33mList\u001b[39m(\u001b[32m\"a2\"\u001b[39m, \u001b[32m\"looooooooooooooooooooooooooooooong\"\u001b[39m)\n",
       ")\r\n",
       "\u001b[36mres11_4\u001b[39m: \u001b[32mAT_Renderer\u001b[39m = de.vandermeer.asciitable.AT_Renderer$1@1d353bbc"
      ]
     },
     "execution_count": 11,
     "metadata": {},
     "output_type": "execute_result"
    }
   ],
   "source": [
    "// // PUT in snippets\\Asciitable.sc\n",
    "\n",
    "// // Conversions Between Java and Scala Collections\n",
    "// // https://docs.scala-lang.org/overviews/collections-2.13/conversions-between-java-and-scala-collections.html\n",
    "// import scala.jdk.CollectionConverters.*\n",
    "\n",
    "// // def print_table(header: java.util.List[String], rows: java.util.List[java.util.List[String]]): Unit = {\n",
    "// def print_table(header: List[String], rows: List[List[String]]): Unit = {\n",
    "//   val at = new AsciiTable()\n",
    "//   at.addRule()\n",
    "//   at.addRow(header.asJava)\n",
    "//   at.addRule()\n",
    "//   for row <- rows do {\n",
    "//     at.addRow(row.asJava)\n",
    "//   }\n",
    "//   at.addRule()\n",
    "\n",
    "//   println(at.render())\n",
    "// }\n",
    "\n",
    "// // import $ivy.`com.google.guava:guava:33.4.0-jre`, com.google.common.collect._\n",
    "\n",
    "// // val header = Lists.newArrayList(\"A\", \"B\")\n",
    "// // val rows = Lists.newArrayList(Lists.newArrayList(\"a1\", \"b1\"), Lists.newArrayList(\"a2\", \"b2\"))\n",
    "// val header = List(\"A\", \"B\")\n",
    "// val rows = List(List(\"a1\", \"null\"), List(\"a2\", \"looooooooooooooooooooooooooooooong\")) // WARN: null\n",
    "// at.getRenderer().setCWC(new CWC_LongestWord())\n",
    "// print_table(header, rows)"
   ]
  }
 ],
 "metadata": {
  "kernelspec": {
   "display_name": "Scala",
   "language": "scala",
   "name": "scala"
  },
  "language_info": {
   "codemirror_mode": "text/x-scala",
   "file_extension": ".sc",
   "mimetype": "text/x-scala",
   "name": "scala",
   "nbconvert_exporter": "script",
   "version": "2.13.14"
  }
 },
 "nbformat": 4,
 "nbformat_minor": 2
}
