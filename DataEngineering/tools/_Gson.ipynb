{
 "cells": [
  {
   "cell_type": "markdown",
   "metadata": {},
   "source": [
    "# Gson\n",
    "* https://github.com/google/gson"
   ]
  },
  {
   "cell_type": "code",
   "execution_count": null,
   "metadata": {},
   "outputs": [],
   "source": [
    "import $ivy.`com.google.code.gson:gson:2.11.0`, com.google.gson._"
   ]
  },
  {
   "cell_type": "code",
   "execution_count": null,
   "metadata": {},
   "outputs": [
    {
     "data": {
      "text/plain": [
       "\u001b[32mimport \u001b[39m\u001b[36m$ivy.$                                 , com.google.gson._\n",
       "\n",
       "\u001b[39m\r\n",
       "\u001b[36mmap\u001b[39m: \u001b[32mMap\u001b[39m[\u001b[32mString\u001b[39m, \u001b[32mInt\u001b[39m] = \u001b[33mMap\u001b[39m(\u001b[32m\"a\"\u001b[39m -> \u001b[32m1\u001b[39m, \u001b[32m\"b\"\u001b[39m -> \u001b[32m2\u001b[39m)\r\n",
       "\u001b[36mgson\u001b[39m: \u001b[32mGson\u001b[39m = {serializeNulls:false,factories:[Factory[typeHierarchy=com.google.gson.JsonElement,adapter=com.google.gson.internal.bind.TypeAdapters$28@391e58b5], com.google.gson.internal.bind.ObjectTypeAdapter$1@5bfb414a, com.google.gson.internal.Excluder@652229dd, Factory[type=java.lang.String,adapter=com.google.gson.internal.bind.TypeAdapters$15@5c7ab96e], Factory[type=java.lang.Integer+int,adapter=com.google.gson.internal.bind.TypeAdapters$7@176a89a4], Factory[type=java.lang.Boolean+boolean,adapter=com.google.gson.internal.bind.TypeAdapters$3@161a6b12], Factory[type=java.lang.Byte+byte,adapter=com.google.gson.internal.bind.TypeAdapters$5@6202d4cd], Factory[type=java.lang.Short+short,adapter=com.google.gson.internal.bind.TypeAdapters$6@6bbab02a], Factory[type=java.lang.Long+long,adapter=com.google.gson.internal.bind.TypeAdapters$11@28de2350], Factory[type=java.lang.Double+double,adapter=com.google.gson.Gson$1@6dd98fa2], Factory[type=java.lang.Float+float,adapter=com.google.gson.Gson$2@19898a68], com.google.gson.internal.bind.NumberTypeAdapter$1@278c5293, Factory[type=java.util.concurrent.atomic.AtomicInteger,adapter=com.google.gson.TypeAdapter$1@7e113191], Factory[type=java.util.concurrent.atomic.AtomicBoolean,adapter=com.google.gson.TypeAdapter$1@5f94056e], Factory[type=java.util.concurrent.atomic.AtomicLong,adapter=com.google.gson.TypeAdapter$1@a1b1e3e], Factory[type=java.util.concurrent.atomic.AtomicLongArray,adapter=com.google.gson.TypeAdapter$1@4f46cd24], Factory[type=java.util.concurrent.atomic.AtomicIntegerArray,adapter=com.google.gson.TypeAdapter$1@382ce0e4], Factory[type=java.lang.Character+char,adapter=com.google.gson.internal.bind.TypeAdapters$14@476c3dfa], Factory[type=java.lang.StringBuilder,adapter=com.google.gson.internal.bind.TypeAdapters$19@155431c7], Factory[type=java.lang.StringBuffer,adapter=com.google.gson.internal.bind.TypeAdapters$20@6c02e1a4], Factory[type=java.math.BigDecimal,adapter=com.google.gson.internal.bind.TypeAdapters$16@33f61700], Factory[type=java.math.BigInteger,adapter=com.google.gson.internal.bind.TypeAdapters$17@15537f69], Factory[type=com.google.gson.internal.LazilyParsedNumber,adapter=com.google.gson.internal.bind.TypeAdapters$18@21bdae0d], Factory[type=java.net.URL,adapter=com.google.gson.internal.bind.TypeAdapters$21@5a49645f], Factory[type=java.net.URI,adapter=com.google.gson.internal.bind.TypeAdapters$22@59842601], Factory[type=java.util.UUID,adapter=com.google.gson.internal.bind.TypeAdapters$24@57a2b26f], Factory[type=java.util.Currency,adapter=com.google.gson.TypeAdapter$1@1ba3a350], Factory[type=java.util.Locale,adapter=com.google.gson.internal.bind.TypeAdapters$27@a5957e7], Factory[typeHierarchy=java.net.InetAddress,adapter=com.google.gson.internal.bind.TypeAdapters$23@7295dc83], Factory[type=java.util.BitSet,adapter=com.google.gson.TypeAdapter$1@30663974], DefaultDateTypeAdapter#DEFAULT_STYLE_FACTORY, Factory[type=java.util.Calendar+java.util.GregorianCalendar,adapter=com.google.gson.internal.bind.TypeAdapters$26@36d9a50b], com.google.gson.internal.sql.SqlTimeTypeAdapter$1@767f2a58, com.google.gson.internal.sql.SqlDateTypeAdap...\r\n",
       "\u001b[36mres1_3\u001b[39m: \u001b[32mString\u001b[39m = \u001b[32m\"{\\\"scala$collection$immutable$Map$Map2$$key1\\\":\\\"a\\\",\\\"scala$collection$immutable$Map$Map2$$value1\\\":1,\\\"scala$collection$immutable$Map$Map2$$key2\\\":\\\"b\\\",\\\"scala$collection$immutable$Map$Map2$$value2\\\":2}\"\u001b[39m"
      ]
     },
     "execution_count": 1,
     "metadata": {},
     "output_type": "execute_result"
    }
   ],
   "source": [
    "// Scala\n",
    "val map = Map[String, Int](\"a\" -> 1, \"b\" -> 2)\n",
    "\n",
    "val gson = new GsonBuilder().create()\n",
    "gson.toJson(map)"
   ]
  },
  {
   "cell_type": "code",
   "execution_count": 2,
   "metadata": {},
   "outputs": [
    {
     "data": {
      "text/plain": [
       "\u001b[36mmap\u001b[39m: \u001b[32mHashMap\u001b[39m[\u001b[32mString\u001b[39m, \u001b[32mInteger\u001b[39m] = {a=1, b=2}\r\n",
       "\u001b[36mres2_1\u001b[39m: \u001b[32mInteger\u001b[39m = \u001b[32mnull\u001b[39m\r\n",
       "\u001b[36mres2_2\u001b[39m: \u001b[32mInteger\u001b[39m = \u001b[32mnull\u001b[39m\r\n",
       "\u001b[36mres2_3\u001b[39m: \u001b[32mString\u001b[39m = \u001b[32m\"{\\\"a\\\":1,\\\"b\\\":2}\"\u001b[39m"
      ]
     },
     "execution_count": 2,
     "metadata": {},
     "output_type": "execute_result"
    }
   ],
   "source": [
    "// Java\n",
    "val map = new java.util.HashMap[String, Integer]()\n",
    "map.put(\"a\", 1)\n",
    "map.put(\"b\", 2)\n",
    "\n",
    "gson.toJson(map)"
   ]
  }
 ],
 "metadata": {
  "kernelspec": {
   "display_name": "Scala",
   "language": "scala",
   "name": "scala"
  },
  "language_info": {
   "codemirror_mode": "text/x-scala",
   "file_extension": ".sc",
   "mimetype": "text/x-scala",
   "name": "scala",
   "nbconvert_exporter": "script",
   "version": "2.13.14"
  }
 },
 "nbformat": 4,
 "nbformat_minor": 2
}
