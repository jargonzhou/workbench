{
 "cells": [
  {
   "cell_type": "markdown",
   "metadata": {},
   "source": [
    "# plotly-scala\n",
    "* Scala bindings for plotly.js: https://github.com/alexarchambault/plotly-scala"
   ]
  },
  {
   "cell_type": "code",
   "execution_count": 1,
   "metadata": {},
   "outputs": [
    {
     "name": "stderr",
     "output_type": "stream",
     "text": [
      "cmd1.sc:6: method apply in object Scatter is deprecated (since 0.8.0): Use Scatter() and chain-call .with* methods on it instead\n",
      "  val trace1 = Scatter(\n",
      "               ^\n",
      "cmd1.sc:12: method apply in object Scatter is deprecated (since 0.8.0): Use Scatter() and chain-call .with* methods on it instead\n",
      "  val trace2 = Scatter(\n",
      "               ^\n"
     ]
    },
    {
     "data": {
      "text/html": [
       "\n",
       "      <script type=\"text/javascript\">\n",
       "        require.config({\n",
       "  paths: {\n",
       "    d3: 'https://cdnjs.cloudflare.com/ajax/libs/d3/3.5.17/d3.min',\n",
       "    plotly: 'https://cdn.plot.ly/plotly-1.54.1.min',\n",
       "    jquery: 'https://code.jquery.com/jquery-3.3.1.min'\n",
       "  },\n",
       "\n",
       "  shim: {\n",
       "    plotly: {\n",
       "      deps: ['d3', 'jquery'],\n",
       "      exports: 'plotly'\n",
       "    }\n",
       "  }\n",
       "});\n",
       "        \n",
       "\n",
       "        require(['plotly'], function(Plotly) {\n",
       "          window.Plotly = Plotly;\n",
       "        });\n",
       "      </script>\n",
       "    "
      ]
     },
     "metadata": {},
     "output_type": "display_data"
    },
    {
     "data": {
      "application/vnd.plotly.v1+json": {
       "config": {},
       "data": [
        {
         "fill": "tozeroy",
         "type": "scatter",
         "x": [
          1,
          2,
          3,
          4
         ],
         "y": [
          0,
          2,
          3,
          5
         ]
        },
        {
         "fill": "tonexty",
         "type": "scatter",
         "x": [
          1,
          2,
          3,
          4
         ],
         "y": [
          3,
          5,
          1,
          7
         ]
        }
       ],
       "layout": {}
      },
      "text/html": [
       "<div class=\"chart\" id=\"plot-eca943e3-5520-4335-bcd5-1a45ce4d9da6\"></div>\n",
       "<script>require(['plotly'], function(Plotly) {\n",
       "  (function () {\n",
       "  var data0 = {\"x\":[1.0,2.0,3.0,4.0],\"type\":\"scatter\",\"y\":[0.0,2.0,3.0,5.0],\"fill\":\"tozeroy\"};\n",
       "  var data1 = {\"x\":[1.0,2.0,3.0,4.0],\"type\":\"scatter\",\"y\":[3.0,5.0,1.0,7.0],\"fill\":\"tonexty\"};\n",
       "\n",
       "  var data = [data0, data1];\n",
       "  var layout = {};\n",
       " var config = {};\n",
       "\n",
       "  Plotly.plot('plot-eca943e3-5520-4335-bcd5-1a45ce4d9da6', data, layout, config);\n",
       "})();\n",
       "});\n",
       "      </script>\n",
       "           "
      ]
     },
     "metadata": {},
     "output_type": "display_data"
    },
    {
     "data": {
      "text/plain": [
       "\u001b[32mimport \u001b[39m\u001b[36m$ivy.$\u001b[39m\r\n",
       "\u001b[32mimport \u001b[39m\u001b[36mplotly._, plotly.element._, plotly.layout._, plotly.Almond._\n",
       "\u001b[39m\r\n",
       "\u001b[36mres1_2\u001b[39m: \u001b[32mString\u001b[39m = \u001b[32m\"plot-eca943e3-5520-4335-bcd5-1a45ce4d9da6\"\u001b[39m"
      ]
     },
     "execution_count": 1,
     "metadata": {},
     "output_type": "execute_result"
    }
   ],
   "source": [
    "// Scala 2.12, 2.13\n",
    "// https://mvnrepository.com/artifact/org.plotly-scala/plotly-almond\n",
    "import $ivy.`org.plotly-scala::plotly-almond:0.8.5`\n",
    "import plotly._, plotly.element._, plotly.layout._, plotly.Almond._\n",
    "{{  \n",
    "  val trace1 = Scatter(\n",
    "    Seq(1, 2, 3, 4),\n",
    "    Seq(0, 2, 3, 5),\n",
    "    fill = Fill.ToZeroY\n",
    "  )\n",
    "\n",
    "  val trace2 = Scatter(\n",
    "    Seq(1, 2, 3, 4),\n",
    "    Seq(3, 5, 1, 7),\n",
    "    fill = Fill.ToNextY\n",
    "  )\n",
    "\n",
    "  val data = Seq(trace1, trace2)\n",
    "\n",
    "  plot(data)\n",
    "}}"
   ]
  }
 ],
 "metadata": {
  "kernelspec": {
   "display_name": "Scala",
   "language": "scala",
   "name": "scala"
  },
  "language_info": {
   "codemirror_mode": "text/x-scala",
   "file_extension": ".sc",
   "mimetype": "text/x-scala",
   "name": "scala",
   "nbconvert_exporter": "script",
   "version": "2.13.13"
  }
 },
 "nbformat": 4,
 "nbformat_minor": 2
}
