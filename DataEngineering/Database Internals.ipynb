{
 "cells": [
  {
   "cell_type": "markdown",
   "id": "dac3c7c5",
   "metadata": {},
   "source": [
    "# Database Internals\n",
    "\n",
    "books:\n",
    "* Petrov, Alex. **Database Internals: A Deep Dive into How Distributed Data Systems Work**. 2019. O'Reilly."
   ]
  },
  {
   "cell_type": "markdown",
   "id": "8ebdcd43",
   "metadata": {},
   "source": [
    "I. Storage Engines\n",
    "* Overview\n",
    "* B-Tree and variants\n",
    "* File Formats\n",
    "* Transaction Processing and Recovery\n",
    "* Log-Structured Storage\n",
    "\n",
    "II. Distributed Systems\n",
    "* Overview\n",
    "* Failure Detection\n",
    "* Leader Election\n",
    "* Replication and Consistency\n",
    "* Anti-Entropy and Dissemination\n",
    "* Distributed Transactions\n",
    "* Consensus"
   ]
  }
 ],
 "metadata": {
  "language_info": {
   "name": "python"
  }
 },
 "nbformat": 4,
 "nbformat_minor": 5
}
