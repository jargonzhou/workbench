{
 "cells": [
  {
   "cell_type": "markdown",
   "id": "7e5d6cfd",
   "metadata": {},
   "source": [
    "# 依赖"
   ]
  },
  {
   "cell_type": "code",
   "execution_count": 1,
   "id": "6634df10",
   "metadata": {},
   "outputs": [
    {
     "name": "stdout",
     "output_type": "stream",
     "text": [
      "Collecting influxdb-client\n",
      "  Downloading influxdb_client-1.19.0-py3-none-any.whl (503 kB)\n",
      "Requirement already satisfied: setuptools>=21.0.0 in d:\\python\\python37\\lib\\site-packages (from influxdb-client) (47.1.0)\n",
      "Collecting rx>=3.0.1\n",
      "  Downloading Rx-3.2.0-py3-none-any.whl (199 kB)\n",
      "Requirement already satisfied: urllib3>=1.15.1 in d:\\python\\python37\\lib\\site-packages (from influxdb-client) (1.25.11)\n",
      "Requirement already satisfied: certifi>=14.05.14 in d:\\python\\python37\\lib\\site-packages (from influxdb-client) (2021.5.30)\n",
      "Requirement already satisfied: pytz>=2019.1 in d:\\python\\python37\\lib\\site-packages (from influxdb-client) (2021.1)\n",
      "Requirement already satisfied: python-dateutil>=2.5.3 in d:\\python\\python37\\lib\\site-packages (from influxdb-client) (2.8.1)\n",
      "Requirement already satisfied: six>=1.10 in d:\\python\\python37\\lib\\site-packages (from influxdb-client) (1.16.0)\n",
      "Installing collected packages: rx, influxdb-client\n",
      "Successfully installed influxdb-client-1.19.0 rx-3.2.0\n"
     ]
    },
    {
     "name": "stderr",
     "output_type": "stream",
     "text": [
      "WARNING: You are using pip version 20.1.1; however, version 21.2.3 is available.\n",
      "You should consider upgrading via the 'd:\\python\\python37\\python.exe -m pip install --upgrade pip' command.\n"
     ]
    }
   ],
   "source": [
    "!pip install influxdb-client"
   ]
  },
  {
   "cell_type": "markdown",
   "id": "8e41b085",
   "metadata": {},
   "source": [
    "# 环境"
   ]
  },
  {
   "cell_type": "code",
   "execution_count": 9,
   "id": "32e29cc8",
   "metadata": {},
   "outputs": [],
   "source": [
    "from pprint import pprint\n",
    "\n",
    "from datetime import datetime\n",
    "\n",
    "# https://docs.influxdata.com/influxdb/v2.0/api-guide/client-libraries/python/\n",
    "# > https://influxdb-client.readthedocs.io/en/stable/api.html\n",
    "# https://github.com/influxdata/influxdb-client-python\n",
    "from influxdb_client import InfluxDBClient, Point, WritePrecision\n",
    "from influxdb_client.client.write_api import SYNCHRONOUS\n",
    "\n",
    "# You can generate a Token from the \"Tokens Tab\" in the UI\n",
    "token = \"UdkcUg0sIsVqCuOV6RcQsPedRV5kFIE7pp5w7BoFtGRgc5DmcMqvElHF3gc0zGoJYt0gloVH-_eCax6VXKnOhA==\"\n",
    "org = \"zhoujiagen\"\n",
    "bucket = \"zhoujiagen\""
   ]
  },
  {
   "cell_type": "markdown",
   "id": "6d554332",
   "metadata": {},
   "source": [
    "# 初始化客户端"
   ]
  },
  {
   "cell_type": "code",
   "execution_count": 3,
   "id": "95ef719b",
   "metadata": {},
   "outputs": [],
   "source": [
    "client = InfluxDBClient(url=\"http://localhost:8086\", token=token)"
   ]
  },
  {
   "cell_type": "markdown",
   "id": "d03bb495",
   "metadata": {},
   "source": [
    "# 写入数据"
   ]
  },
  {
   "cell_type": "markdown",
   "id": "2ab93c43",
   "metadata": {},
   "source": [
    "## Option 1: Use InfluxDB Line Protocol to write data"
   ]
  },
  {
   "cell_type": "code",
   "execution_count": 4,
   "id": "d676ea86",
   "metadata": {},
   "outputs": [],
   "source": [
    "write_api = client.write_api(write_options=SYNCHRONOUS)\n",
    "\n",
    "data = \"mem,host=host1 used_percent=23.43234543\"\n",
    "write_api.write(bucket, org, data)"
   ]
  },
  {
   "cell_type": "markdown",
   "id": "56e7206c",
   "metadata": {},
   "source": [
    "## Option 2: Use a Data Point to write data"
   ]
  },
  {
   "cell_type": "code",
   "execution_count": 7,
   "id": "d0158a8b",
   "metadata": {},
   "outputs": [],
   "source": [
    "point = Point(\"mem\").tag(\"host\",\n",
    "                         \"host1\").field(\"used_percent\", 23.43234543).time(\n",
    "                             datetime.utcnow(), WritePrecision.NS)\n",
    "\n",
    "write_api.write(bucket, org, point)"
   ]
  },
  {
   "cell_type": "markdown",
   "id": "3cec7ea2",
   "metadata": {},
   "source": [
    "## Option 3: Use a Batch Sequence to write data"
   ]
  },
  {
   "cell_type": "code",
   "execution_count": 8,
   "id": "81bae5af",
   "metadata": {},
   "outputs": [],
   "source": [
    "sequence = [\n",
    "    \"mem,host=host1 used_percent=23.43234543\",\n",
    "    \"mem,host=host1 available_percent=15.856523\"\n",
    "]\n",
    "write_api.write(bucket, org, sequence)"
   ]
  },
  {
   "cell_type": "markdown",
   "id": "a89b927e",
   "metadata": {},
   "source": [
    "# 查询数据"
   ]
  },
  {
   "cell_type": "code",
   "execution_count": 21,
   "id": "d088ca49",
   "metadata": {},
   "outputs": [
    {
     "name": "stdout",
     "output_type": "stream",
     "text": [
      "2021-08-12 09:19:34.465501+00:00 available_percent 15.856523\n",
      "2021-08-12 09:17:33.423349+00:00 used_percent 23.43234543\n",
      "2021-08-12 09:19:01.085829+00:00 used_percent 23.43234543\n",
      "2021-08-12 09:19:34.465501+00:00 used_percent 23.43234543\n"
     ]
    }
   ],
   "source": [
    "query = f\"\"\"from(bucket: \"{bucket}\") \n",
    "|> range(start: -1h)\n",
    "|> filter(fn: (r) => r[\"_measurement\"] == \"mem\")\n",
    "|> filter(fn:(r) => r._field == \"available_percent\" or r._field == \"used_percent\" )\n",
    "\"\"\".format(bucket=bucket)\n",
    "tables = client.query_api().query(query, org=org)\n",
    "\n",
    "# https://github.com/influxdata/influxdb-client-python/blob/master/influxdb_client/client/flux_table.py\n",
    "if tables is not None and len(tables) > 0:\n",
    "    for table in tables:\n",
    "        for record in table.records:\n",
    "            print(record.get_time(), record.get_field(), record.get_value())\n"
   ]
  },
  {
   "cell_type": "code",
   "execution_count": null,
   "id": "72aacaee",
   "metadata": {},
   "outputs": [],
   "source": []
  },
  {
   "cell_type": "code",
   "execution_count": null,
   "id": "d4e6a944",
   "metadata": {},
   "outputs": [],
   "source": []
  },
  {
   "cell_type": "code",
   "execution_count": null,
   "id": "2d96fd28",
   "metadata": {},
   "outputs": [],
   "source": []
  },
  {
   "cell_type": "code",
   "execution_count": null,
   "id": "ae69278b",
   "metadata": {},
   "outputs": [],
   "source": []
  }
 ],
 "metadata": {
  "kernelspec": {
   "display_name": "Python 3",
   "language": "python",
   "name": "python3"
  },
  "language_info": {
   "codemirror_mode": {
    "name": "ipython",
    "version": 3
   },
   "file_extension": ".py",
   "mimetype": "text/x-python",
   "name": "python",
   "nbconvert_exporter": "python",
   "pygments_lexer": "ipython3",
   "version": "3.7.9"
  },
  "toc": {
   "base_numbering": 1,
   "nav_menu": {},
   "number_sections": true,
   "sideBar": true,
   "skip_h1_title": false,
   "title_cell": "Table of Contents",
   "title_sidebar": "Contents",
   "toc_cell": false,
   "toc_position": {},
   "toc_section_display": true,
   "toc_window_display": true
  }
 },
 "nbformat": 4,
 "nbformat_minor": 5
}
