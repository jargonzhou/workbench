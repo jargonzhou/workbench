{
 "cells": [
  {
   "cell_type": "markdown",
   "id": "63766ee4",
   "metadata": {},
   "source": [
    "# Doris\n",
    "* https://github.com/apache/doris\n",
    "\n",
    "actions:\n",
    "- application-store\\data-engineering\\doris"
   ]
  },
  {
   "cell_type": "markdown",
   "id": "4e942c28",
   "metadata": {},
   "source": [
    "# Architecture"
   ]
  },
  {
   "cell_type": "markdown",
   "id": "a676e38d",
   "metadata": {},
   "source": [
    "<img src=\"https://doris.apache.org/assets/images/apache-doris-technical-overview-b8c5cb11b57d2f6559fa397d9fd0a8a0.png\" witdh=\"800\"/>"
   ]
  },
  {
   "cell_type": "markdown",
   "id": "daf4d155",
   "metadata": {},
   "source": [
    "storage engine\n",
    "\n",
    "\n",
    "query engine\n"
   ]
  }
 ],
 "metadata": {
  "language_info": {
   "name": "python"
  }
 },
 "nbformat": 4,
 "nbformat_minor": 5
}
