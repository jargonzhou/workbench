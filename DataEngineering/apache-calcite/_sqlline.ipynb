{
 "cells": [
  {
   "cell_type": "markdown",
   "metadata": {},
   "source": [
    "# sqline\n",
    "* Shell for issuing SQL to relational databases via JDBC\n",
    "* https://github.com/julianhyde/sqlline\n",
    "* manual: https://julianhyde.github.io/sqlline/manual.html\n",
    "\n",
    "NOT WORKING!!!"
   ]
  },
  {
   "cell_type": "code",
   "execution_count": 1,
   "metadata": {},
   "outputs": [
    {
     "name": "stdout",
     "output_type": "stream",
     "text": [
      "Scala code runner version: 1.5.4\n",
      "Scala version (default): 3.6.2"
     ]
    },
    {
     "data": {
      "text/plain": [
       "\u001b[32mimport \u001b[39m\u001b[36m$ivy.$                           \n",
       "\u001b[39m\r\n",
       "\u001b[32mimport \u001b[39m\u001b[36m$ivy.$                       , sqlline.SqlLine\n",
       "\u001b[39m\r\n",
       "\u001b[32mimport \u001b[39m\u001b[36m$ivy.$                                      \n",
       "\n",
       "\u001b[39m\r\n",
       "\u001b[32mimport \u001b[39m\u001b[36m$file.$               , Scala._\n",
       "\u001b[39m\r\n",
       "\u001b[32mimport \u001b[39m\u001b[36m$file.$                 , Sqlline._\n",
       "\n",
       "\u001b[39m"
      ]
     },
     "execution_count": 1,
     "metadata": {},
     "output_type": "execute_result"
    }
   ],
   "source": [
    "import $ivy.`com.lihaoyi::os-lib:0.11.3`\n",
    "import $ivy.`sqlline:sqlline:1.12.0`, sqlline.SqlLine\n",
    "import $ivy.`org.apache.calcite:calcite-csv:1.38.0`\n",
    "\n",
    "import $file.^.snippets.Scala, Scala._\n",
    "import $file.^.snippets.Sqlline, Sqlline._\n",
    "\n",
    "exec(\"scala.bat\", \"--version\")"
   ]
  },
  {
   "cell_type": "code",
   "execution_count": 5,
   "metadata": {},
   "outputs": [
    {
     "ename": "os.SubprocessException",
     "evalue": "Result of D:/workspace/rtfsc/calcite/sqlline.bat…: 1\n",
     "output_type": "error",
     "traceback": [
      "\u001b[31mos.SubprocessException: Result of D:/workspace/rtfsc/calcite/sqlline.bat…: 1\n\u001b[39m",
      "  os.SubprocessException$.apply(\u001b[32mModel.scala\u001b[39m:\u001b[32m211\u001b[39m)",
      "  os.proc.call(\u001b[32mProcessOps.scala\u001b[39m:\u001b[32m95\u001b[39m)",
      "  ammonite.$sess.cmd5$Helper.<init>(\u001b[32mcmd5.sc\u001b[39m:\u001b[32m1\u001b[39m)",
      "  ammonite.$sess.cmd5$.<clinit>(\u001b[32mcmd5.sc\u001b[39m:\u001b[32m65426\u001b[39m)"
     ]
    }
   ],
   "source": [
    "// WHY cannot run here, while can run in amm???\n",
    "os.proc(\"D:/workspace/rtfsc/calcite/sqlline.bat\", \"--help\").call()"
   ]
  },
  {
   "cell_type": "markdown",
   "metadata": {},
   "source": [
    "# Apache Calcite"
   ]
  },
  {
   "cell_type": "code",
   "execution_count": 2,
   "metadata": {},
   "outputs": [
    {
     "data": {
      "text/plain": [
       "\u001b[32mimport \u001b[39m\u001b[36m$ivy.$                                      \n",
       "\n",
       "\n",
       "\u001b[39m\r\n",
       "\u001b[32mimport \u001b[39m\u001b[36mjava.io.*;\n",
       "\u001b[39m\r\n",
       "\u001b[32mimport \u001b[39m\u001b[36mjava.nio.charset.StandardCharsets;\n",
       "\n",
       "\u001b[39m\r\n",
       "\u001b[36mdbUrl\u001b[39m: \u001b[32mString\u001b[39m = \u001b[32m\"D:/workspace/rtfsc/calcite/example/csv/src/test/resources/model.json\"\u001b[39m\r\n",
       "defined \u001b[32mfunction\u001b[39m \u001b[36mexecCommand\u001b[39m"
      ]
     },
     "execution_count": 2,
     "metadata": {},
     "output_type": "execute_result"
    }
   ],
   "source": [
    "// PUT in snippets/Sqlline.sc\n",
    "// import $ivy.`org.apache.calcite:calcite-csv:1.38.0`\n",
    "\n",
    "\n",
    "// import java.io.*;\n",
    "// import java.nio.charset.StandardCharsets;\n",
    "\n",
    "// val dbUrl = \"D:/workspace/rtfsc/calcite/example/csv/src/test/resources/model.json\"\n",
    "// // val dbUrl = \"csv-model.json\"\n",
    "\n",
    "// def execCommand(command: String = \"\"): String = {\n",
    "//   val sqlline = new SqlLine()\n",
    "//   val baos = new ByteArrayOutputStream()\n",
    "//   val in = new ByteArrayInputStream(\"\".getBytes(StandardCharsets.UTF_8));\n",
    "//   val sqllineOutputStream = new PrintStream(baos, true, StandardCharsets.UTF_8.name())\n",
    "//   sqlline.setOutputStream(sqllineOutputStream)\n",
    "//   sqlline.setErrorStream(sqllineOutputStream)\n",
    "\n",
    "//   val args = List(\n",
    "//     \"-u\", s\"jdbc:calcite:model=${dbUrl}\", \n",
    "//     \"-n\", \"admin\", \n",
    "//     \"-p\", \"admin\", \n",
    "//     // \"-log\", \"sqline.log\",\n",
    "//     // \"-e\", command,\n",
    "//     \"--run=sqlline.script\"\n",
    "//     ).toArray\n",
    "  \n",
    "//   val status = sqlline.begin(args, in, false) // MUST use in, otherwise it's SYSTEM console\n",
    "//   println(s\"Status: ${status}\")\n",
    "//   println(baos.toString(\"UTF8\"))\n",
    "//   return baos.toString(\"UTF8\")\n",
    "// }\n",
    "\n",
    "// execCommand(\"!tables\")"
   ]
  },
  {
   "cell_type": "markdown",
   "metadata": {},
   "source": [
    "## schema"
   ]
  },
  {
   "cell_type": "code",
   "execution_count": 9,
   "metadata": {},
   "outputs": [
    {
     "name": "stdout",
     "output_type": "stream",
     "text": [
      "/*\n",
      " * Licensed to the Apache Software Foundation (ASF) under one or more\n",
      " * contributor license agreements.  See the NOTICE file distributed with\n",
      " * this work for additional information regarding copyright ownership.\n",
      " * The ASF licenses this file to you under the Apache License, Version 2.0\n",
      " * (the \"License\"); you may not use this file except in compliance with\n",
      " * the License.  You may obtain a copy of the License at\n",
      " *\n",
      " * http://www.apache.org/licenses/LICENSE-2.0\n",
      " *\n",
      " * Unless required by applicable law or agreed to in writing, software\n",
      " * distributed under the License is distributed on an \"AS IS\" BASIS,\n",
      " * WITHOUT WARRANTIES OR CONDITIONS OF ANY KIND, either express or implied.\n",
      " * See the License for the specific language governing permissions and\n",
      " * limitations under the License.\n",
      " *\n",
      " * A JSON model of a simple Calcite schema.\n",
      " */\n",
      "{\n",
      "  \"version\": \"1.0\",\n",
      "  \"defaultSchema\": \"SALES\",\n",
      "  \"schemas\": [\n",
      "    {\n",
      "      \"name\": \"SALES\",\n",
      "      \"type\": \"custom\",\n",
      "      \"factory\": \"org.apache.calcite.adapter.csv.CsvSchemaFactory\",\n",
      "      \"operand\": {\n",
      "//        \"directory\": \"sales\"\n",
      "        \"directory\": \"D:\\\\workspace\\\\rtfsc\\\\calcite\\\\example\\\\csv\\\\src\\\\test\\\\resources\\\\sales\"\n",
      "      }\n",
      "    }\n",
      "  ]\n",
      "}\n",
      "\n"
     ]
    },
    {
     "data": {
      "text/plain": [
       "\u001b[36mmodelFile\u001b[39m: \u001b[32mString\u001b[39m = \u001b[32m\"D:/workspace/rtfsc/calcite/example/csv/src/test/resources/model.json\"\u001b[39m"
      ]
     },
     "execution_count": 9,
     "metadata": {},
     "output_type": "execute_result"
    }
   ],
   "source": [
    "val modelFile = \"D:/workspace/rtfsc/calcite/example/csv/src/test/resources/model.json\"\n",
    "println(os.read(os.Path(modelFile)))"
   ]
  },
  {
   "cell_type": "code",
   "execution_count": 10,
   "metadata": {},
   "outputs": [
    {
     "name": "stdout",
     "output_type": "stream",
     "text": [
      "Status: OK\n",
      "Transaction isolation level TRANSACTION_REPEATABLE_READ is not supported. Default (TRANSACTION_NONE) will be used instead.\n",
      "+-----------+-------------+------------+--------------+---------+----------+------------+-----------+---------------------------+----------------+\n",
      "| TABLE_CAT | TABLE_SCHEM | TABLE_NAME |  TABLE_TYPE  | REMARKS | TYPE_CAT | TYPE_SCHEM | TYPE_NAME | SELF_REFERENCING_COL_NAME | REF_GENERATION |\n",
      "+-----------+-------------+------------+--------------+---------+----------+------------+-----------+---------------------------+----------------+\n",
      "|           | SALES       | DEPTS      | TABLE        |         |          |            |           |                           |                |\n",
      "|           | SALES       | EMPS       | TABLE        |         |          |            |           |                           |                |\n",
      "|           | SALES       | SDEPTS     | TABLE        |         |          |            |           |                           |                |\n",
      "|           | metadata    | COLUMNS    | SYSTEM TABLE |         |          |            |           |                           |                |\n",
      "|           | metadata    | TABLES     | SYSTEM TABLE |         |          |            |           |                           |                |\n",
      "+-----------+-------------+------------+--------------+---------+----------+------------+-----------+---------------------------+----------------+\n",
      "sqlline version 1.12.0\n",
      "\n"
     ]
    },
    {
     "data": {
      "text/plain": [
       "\u001b[36mdbUrl\u001b[39m: \u001b[32mString\u001b[39m = \u001b[32m\"jdbc:calcite:model=D:/workspace/rtfsc/calcite/example/csv/src/test/resources/model.json\"\u001b[39m"
      ]
     },
     "execution_count": 10,
     "metadata": {},
     "output_type": "execute_result"
    }
   ],
   "source": [
    "val dbUrl = \"jdbc:calcite:model=\" + modelFile\n",
    "execCommand(dbUrl, command = \"!tables\")"
   ]
  },
  {
   "cell_type": "code",
   "execution_count": 3,
   "metadata": {},
   "outputs": [
    {
     "name": "stdout",
     "output_type": "stream",
     "text": [
      "Status: OK\n",
      "Transaction isolation level TRANSACTION_REPEATABLE_READ is not supported. Default (TRANSACTION_NONE) will be used instead.\n",
      "+-----------+-------------+------------+------------------------+-----------+-----------------------------------+-------------+---------------+----------------+----------------+----------+---------+------------+---------------+------------------+-------------------+------------------+-------------+---------------+--------------+-------------+------------------+------------------+--------------------+\n",
      "| TABLE_CAT | TABLE_SCHEM | TABLE_NAME |      COLUMN_NAME       | DATA_TYPE |             TYPE_NAME             | COLUMN_SIZE | BUFFER_LENGTH | DECIMAL_DIGITS | NUM_PREC_RADIX | NULLABLE | REMARKS | COLUMN_DEF | SQL_DATA_TYPE | SQL_DATETIME_SUB | CHAR_OCTET_LENGTH | ORDINAL_POSITION | IS_NULLABLE | SCOPE_CATALOG | SCOPE_SCHEMA | SCOPE_TABLE | SOURCE_DATA_TYPE | IS_AUTOINCREMENT | IS_GENERATEDCOLUMN |\n",
      "+-----------+-------------+------------+------------------------+-----------+-----------------------------------+-------------+---------------+----------------+----------------+----------+---------+------------+---------------+------------------+-------------------+------------------+-------------+---------------+--------------+-------------+------------------+------------------+--------------------+\n",
      "|           | SALES       | DEPTS      | DEPTNO                 | 4         | INTEGER                           | -1          | null          | null           | 10             | 1        |         |            | null          | null             | -1                | 1                | YES         |               |              |             | null             |                  |                    |\n",
      "|           | SALES       | DEPTS      | NAME                   | 12        | VARCHAR                           | -1          | null          | null           | 10             | 1        |         |            | null          | null             | -1                | 2                | YES         |               |              |             | null             |                  |                    |\n",
      "|           | SALES       | EMPS       | EMPNO                  | 4         | INTEGER                           | -1          | null          | null           | 10             | 1        |         |            | null          | null             | -1                | 1                | YES         |               |              |             | null             |                  |                    |\n",
      "|           | SALES       | EMPS       | NAME                   | 12        | VARCHAR                           | -1          | null          | null           | 10             | 1        |         |            | null          | null             | -1                | 2                | YES         |               |              |             | null             |                  |                    |\n",
      "|           | SALES       | EMPS       | DEPTNO                 | 4         | INTEGER                           | -1          | null          | null           | 10             | 1        |         |            | null          | null             | -1                | 3                | YES         |               |              |             | null             |                  |                    |\n",
      "|           | SALES       | EMPS       | GENDER                 | 12        | VARCHAR                           | -1          | null          | null           | 10             | 1        |         |            | null          | null             | -1                | 4                | YES         |               |              |             | null             |                  |                    |\n",
      "|           | SALES       | EMPS       | CITY                   | 12        | VARCHAR                           | -1          | null          | null           | 10             | 1        |         |            | null          | null             | -1                | 5                | YES         |               |              |             | null             |                  |                    |\n",
      "|           | SALES       | EMPS       | EMPID                  | 4         | INTEGER                           | -1          | null          | null           | 10             | 1        |         |            | null          | null             | -1                | 6                | YES         |               |              |             | null             |                  |                    |\n",
      "|           | SALES       | EMPS       | AGE                    | 4         | INTEGER                           | -1          | null          | null           | 10             | 1        |         |            | null          | null             | -1                | 7                | YES         |               |              |             | null             |                  |                    |\n",
      "|           | SALES       | EMPS       | SLACKER                | 16        | BOOLEAN                           | -1          | null          | null           | 10             | 1        |         |            | null          | null             | -1                | 8                | YES         |               |              |             | null             |                  |                    |\n",
      "|           | SALES       | EMPS       | MANAGER                | 16        | BOOLEAN                           | -1          | null          | null           | 10             | 1        |         |            | null          | null             | -1                | 9                | YES         |               |              |             | null             |                  |                    |\n",
      "|           | SALES       | EMPS       | JOINEDAT               | 91        | DATE                              | -1          | null          | null           | 10             | 1        |         |            | null          | null             | -1                | 10               | YES         |               |              |             | null             |                  |                    |\n",
      "|           | SALES       | SDEPTS     | DEPTNO                 | 4         | INTEGER                           | -1          | null          | null           | 10             | 1        |         |            | null          | null             | -1                | 1                | YES         |               |              |             | null             |                  |                    |\n",
      "|           | SALES       | SDEPTS     | NAME                   | 12        | VARCHAR                           | -1          | null          | null           | 10             | 1        |         |            | null          | null             | -1                | 2                | YES         |               |              |             | null             |                  |                    |\n",
      "|           | metadata    | COLUMNS    | tableCat               | 12        | JavaType(class java.lang.String)  | -1          | null          | null           | 10             | 1        |         |            | null          | null             | -1                | 1                | YES         |               |              |             | null             |                  |                    |\n",
      "|           | metadata    | COLUMNS    | tableSchem             | 12        | JavaType(class java.lang.String)  | -1          | null          | null           | 10             | 1        |         |            | null          | null             | -1                | 2                | YES         |               |              |             | null             |                  |                    |\n",
      "|           | metadata    | COLUMNS    | tableName              | 12        | JavaType(class java.lang.String)  | -1          | null          | null           | 10             | 1        |         |            | null          | null             | -1                | 3                | YES         |               |              |             | null             |                  |                    |\n",
      "|           | metadata    | COLUMNS    | columnName             | 12        | JavaType(class java.lang.String)  | -1          | null          | null           | 10             | 1        |         |            | null          | null             | -1                | 4                | YES         |               |              |             | null             |                  |                    |\n",
      "|           | metadata    | COLUMNS    | dataType               | 4         | JavaType(int) NOT NULL            | -1          | null          | null           | 10             | 0        |         |            | null          | null             | -1                | 5                | NO          |               |              |             | null             |                  |                    |\n",
      "|           | metadata    | COLUMNS    | typeName               | 12        | JavaType(class java.lang.String)  | -1          | null          | null           | 10             | 1        |         |            | null          | null             | -1                | 6                | YES         |               |              |             | null             |                  |                    |\n",
      "|           | metadata    | COLUMNS    | columnSize             | 4         | JavaType(class java.lang.Integer) | -1          | null          | null           | 10             | 1        |         |            | null          | null             | -1                | 7                | YES         |               |              |             | null             |                  |                    |\n",
      "|           | metadata    | COLUMNS    | bufferLength           | 4         | JavaType(class java.lang.Integer) | -1          | null          | null           | 10             | 1        |         |            | null          | null             | -1                | 8                | YES         |               |              |             | null             |                  |                    |\n",
      "|           | metadata    | COLUMNS    | decimalDigits          | 4         | JavaType(class java.lang.Integer) | -1          | null          | null           | 10             | 1        |         |            | null          | null             | -1                | 9                | YES         |               |              |             | null             |                  |                    |\n",
      "|           | metadata    | COLUMNS    | numPrecRadix           | 4         | JavaType(class java.lang.Integer) | -1          | null          | null           | 10             | 1        |         |            | null          | null             | -1                | 10               | YES         |               |              |             | null             |                  |                    |\n",
      "|           | metadata    | COLUMNS    | nullable               | 4         | JavaType(int) NOT NULL            | -1          | null          | null           | 10             | 0        |         |            | null          | null             | -1                | 11               | NO          |               |              |             | null             |                  |                    |\n",
      "|           | metadata    | COLUMNS    | remarks                | 12        | JavaType(class java.lang.String)  | -1          | null          | null           | 10             | 1        |         |            | null          | null             | -1                | 12               | YES         |               |              |             | null             |                  |                    |\n",
      "|           | metadata    | COLUMNS    | columnDef              | 12        | JavaType(class java.lang.String)  | -1          | null          | null           | 10             | 1        |         |            | null          | null             | -1                | 13               | YES         |               |              |             | null             |                  |                    |\n",
      "|           | metadata    | COLUMNS    | sqlDataType            | 4         | JavaType(class java.lang.Integer) | -1          | null          | null           | 10             | 1        |         |            | null          | null             | -1                | 14               | YES         |               |              |             | null             |                  |                    |\n",
      "|           | metadata    | COLUMNS    | sqlDatetimeSub         | 4         | JavaType(class java.lang.Integer) | -1          | null          | null           | 10             | 1        |         |            | null          | null             | -1                | 15               | YES         |               |              |             | null             |                  |                    |\n",
      "|           | metadata    | COLUMNS    | charOctetLength        | 4         | JavaType(class java.lang.Integer) | -1          | null          | null           | 10             | 1        |         |            | null          | null             | -1                | 16               | YES         |               |              |             | null             |                  |                    |\n",
      "|           | metadata    | COLUMNS    | ordinalPosition        | 4         | JavaType(int) NOT NULL            | -1          | null          | null           | 10             | 0        |         |            | null          | null             | -1                | 17               | NO          |               |              |             | null             |                  |                    |\n",
      "|           | metadata    | COLUMNS    | isNullable             | 12        | JavaType(class java.lang.String)  | -1          | null          | null           | 10             | 1        |         |            | null          | null             | -1                | 18               | YES         |               |              |             | null             |                  |                    |\n",
      "|           | metadata    | COLUMNS    | scopeCatalog           | 12        | JavaType(class java.lang.String)  | -1          | null          | null           | 10             | 1        |         |            | null          | null             | -1                | 19               | YES         |               |              |             | null             |                  |                    |\n",
      "|           | metadata    | COLUMNS    | scopeSchema            | 12        | JavaType(class java.lang.String)  | -1          | null          | null           | 10             | 1        |         |            | null          | null             | -1                | 20               | YES         |               |              |             | null             |                  |                    |\n",
      "|           | metadata    | COLUMNS    | scopeTable             | 12        | JavaType(class java.lang.String)  | -1          | null          | null           | 10             | 1        |         |            | null          | null             | -1                | 21               | YES         |               |              |             | null             |                  |                    |\n",
      "|           | metadata    | COLUMNS    | sourceDataType         | 5         | JavaType(class java.lang.Short)   | -1          | null          | null           | 10             | 1        |         |            | null          | null             | -1                | 22               | YES         |               |              |             | null             |                  |                    |\n",
      "|           | metadata    | COLUMNS    | isAutoincrement        | 12        | JavaType(class java.lang.String)  | -1          | null          | null           | 10             | 1        |         |            | null          | null             | -1                | 23               | YES         |               |              |             | null             |                  |                    |\n",
      "|           | metadata    | COLUMNS    | isGeneratedcolumn      | 12        | JavaType(class java.lang.String)  | -1          | null          | null           | 10             | 1        |         |            | null          | null             | -1                | 24               | YES         |               |              |             | null             |                  |                    |\n",
      "|           | metadata    | TABLES     | tableCat               | 12        | JavaType(class java.lang.String)  | -1          | null          | null           | 10             | 1        |         |            | null          | null             | -1                | 1                | YES         |               |              |             | null             |                  |                    |\n",
      "|           | metadata    | TABLES     | tableSchem             | 12        | JavaType(class java.lang.String)  | -1          | null          | null           | 10             | 1        |         |            | null          | null             | -1                | 2                | YES         |               |              |             | null             |                  |                    |\n",
      "|           | metadata    | TABLES     | tableName              | 12        | JavaType(class java.lang.String)  | -1          | null          | null           | 10             | 1        |         |            | null          | null             | -1                | 3                | YES         |               |              |             | null             |                  |                    |\n",
      "|           | metadata    | TABLES     | tableType              | 12        | JavaType(class java.lang.String)  | -1          | null          | null           | 10             | 1        |         |            | null          | null             | -1                | 4                | YES         |               |              |             | null             |                  |                    |\n",
      "|           | metadata    | TABLES     | remarks                | 12        | JavaType(class java.lang.String)  | -1          | null          | null           | 10             | 1        |         |            | null          | null             | -1                | 5                | YES         |               |              |             | null             |                  |                    |\n",
      "|           | metadata    | TABLES     | typeCat                | 12        | JavaType(class java.lang.String)  | -1          | null          | null           | 10             | 1        |         |            | null          | null             | -1                | 6                | YES         |               |              |             | null             |                  |                    |\n",
      "|           | metadata    | TABLES     | typeSchem              | 12        | JavaType(class java.lang.String)  | -1          | null          | null           | 10             | 1        |         |            | null          | null             | -1                | 7                | YES         |               |              |             | null             |                  |                    |\n",
      "|           | metadata    | TABLES     | typeName               | 12        | JavaType(class java.lang.String)  | -1          | null          | null           | 10             | 1        |         |            | null          | null             | -1                | 8                | YES         |               |              |             | null             |                  |                    |\n",
      "|           | metadata    | TABLES     | selfReferencingColName | 12        | JavaType(class java.lang.String)  | -1          | null          | null           | 10             | 1        |         |            | null          | null             | -1                | 9                | YES         |               |              |             | null             |                  |                    |\n",
      "|           | metadata    | TABLES     | refGeneration          | 12        | JavaType(class java.lang.String)  | -1          | null          | null           | 10             | 1        |         |            | null          | null             | -1                | 10               | YES         |               |              |             | null             |                  |                    |\n",
      "+-----------+-------------+------------+------------------------+-----------+-----------------------------------+-------------+---------------+----------------+----------------+----------+---------+------------+---------------+------------------+-------------------+------------------+-------------+---------------+--------------+-------------+------------------+------------------+--------------------+\n",
      "sqlline version 1.12.0\n",
      "\n"
     ]
    }
   ],
   "source": [
    "execCommand(dbUrl, command = \"!columns\")"
   ]
  },
  {
   "cell_type": "code",
   "execution_count": 4,
   "metadata": {},
   "outputs": [
    {
     "name": "stdout",
     "output_type": "stream",
     "text": [
      "Status: OK\n",
      "Transaction isolation level TRANSACTION_REPEATABLE_READ is not supported. Default (TRANSACTION_NONE) will be used instead.\n",
      "+-----------+-------------+------------+-------------+-----------+-----------+-------------+---------------+----------------+----------------+----------+---------+------------+---------------+------------------+-------------------+------------------+-------------+---------------+--------------+-------------+------------------+------------------+--------------------+\n",
      "| TABLE_CAT | TABLE_SCHEM | TABLE_NAME | COLUMN_NAME | DATA_TYPE | TYPE_NAME | COLUMN_SIZE | BUFFER_LENGTH | DECIMAL_DIGITS | NUM_PREC_RADIX | NULLABLE | REMARKS | COLUMN_DEF | SQL_DATA_TYPE | SQL_DATETIME_SUB | CHAR_OCTET_LENGTH | ORDINAL_POSITION | IS_NULLABLE | SCOPE_CATALOG | SCOPE_SCHEMA | SCOPE_TABLE | SOURCE_DATA_TYPE | IS_AUTOINCREMENT | IS_GENERATEDCOLUMN |\n",
      "+-----------+-------------+------------+-------------+-----------+-----------+-------------+---------------+----------------+----------------+----------+---------+------------+---------------+------------------+-------------------+------------------+-------------+---------------+--------------+-------------+------------------+------------------+--------------------+\n",
      "|           | SALES       | EMPS       | EMPNO       | 4         | INTEGER   | -1          | null          | null           | 10             | 1        |         |            | null          | null             | -1                | 1                | YES         |               |              |             | null             |                  |                    |\n",
      "|           | SALES       | EMPS       | NAME        | 12        | VARCHAR   | -1          | null          | null           | 10             | 1        |         |            | null          | null             | -1                | 2                | YES         |               |              |             | null             |                  |                    |\n",
      "|           | SALES       | EMPS       | DEPTNO      | 4         | INTEGER   | -1          | null          | null           | 10             | 1        |         |            | null          | null             | -1                | 3                | YES         |               |              |             | null             |                  |                    |\n",
      "|           | SALES       | EMPS       | GENDER      | 12        | VARCHAR   | -1          | null          | null           | 10             | 1        |         |            | null          | null             | -1                | 4                | YES         |               |              |             | null             |                  |                    |\n",
      "|           | SALES       | EMPS       | CITY        | 12        | VARCHAR   | -1          | null          | null           | 10             | 1        |         |            | null          | null             | -1                | 5                | YES         |               |              |             | null             |                  |                    |\n",
      "|           | SALES       | EMPS       | EMPID       | 4         | INTEGER   | -1          | null          | null           | 10             | 1        |         |            | null          | null             | -1                | 6                | YES         |               |              |             | null             |                  |                    |\n",
      "|           | SALES       | EMPS       | AGE         | 4         | INTEGER   | -1          | null          | null           | 10             | 1        |         |            | null          | null             | -1                | 7                | YES         |               |              |             | null             |                  |                    |\n",
      "|           | SALES       | EMPS       | SLACKER     | 16        | BOOLEAN   | -1          | null          | null           | 10             | 1        |         |            | null          | null             | -1                | 8                | YES         |               |              |             | null             |                  |                    |\n",
      "|           | SALES       | EMPS       | MANAGER     | 16        | BOOLEAN   | -1          | null          | null           | 10             | 1        |         |            | null          | null             | -1                | 9                | YES         |               |              |             | null             |                  |                    |\n",
      "|           | SALES       | EMPS       | JOINEDAT    | 91        | DATE      | -1          | null          | null           | 10             | 1        |         |            | null          | null             | -1                | 10               | YES         |               |              |             | null             |                  |                    |\n",
      "+-----------+-------------+------------+-------------+-----------+-----------+-------------+---------------+----------------+----------------+----------+---------+------------+---------------+------------------+-------------------+------------------+-------------+---------------+--------------+-------------+------------------+------------------+--------------------+\n",
      "sqlline version 1.12.0\n",
      "\n"
     ]
    }
   ],
   "source": [
    "execCommand(dbUrl, command = \"!describe EMPS\")"
   ]
  },
  {
   "cell_type": "code",
   "execution_count": 6,
   "metadata": {},
   "outputs": [
    {
     "name": "stdout",
     "output_type": "stream",
     "text": [
      "Status: OK\n",
      "Transaction isolation level TRANSACTION_REPEATABLE_READ is not supported. Default (TRANSACTION_NONE) will be used instead.\n",
      "+-------+-------+--------+--------+---------------+-------+------+---------+---------+------------+\n",
      "| EMPNO | NAME  | DEPTNO | GENDER |     CITY      | EMPID | AGE  | SLACKER | MANAGER |  JOINEDAT  |\n",
      "+-------+-------+--------+--------+---------------+-------+------+---------+---------+------------+\n",
      "| 100   | Fred  | 10     |        |               | 30    | 25   | true    | false   | 1996-08-03 |\n",
      "| 110   | Eric  | 20     | M      | San Francisco | 3     | 80   |         | false   | 2001-01-01 |\n",
      "| 110   | John  | 40     | M      | Vancouver     | 2     | null | false   | true    | 2002-05-03 |\n",
      "| 120   | Wilma | 20     | F      |               | 1     | 5    |         | true    | 2005-09-07 |\n",
      "| 130   | Alice | 40     | F      | Vancouver     | 2     | null | false   | true    | 2007-01-01 |\n",
      "+-------+-------+--------+--------+---------------+-------+------+---------+---------+------------+\n",
      "5 rows selected (0.038 seconds)\n",
      "sqlline version 1.12.0\n",
      "\n"
     ]
    }
   ],
   "source": [
    "execCommand(dbUrl, command=\"SELECT * FROM emps;\")"
   ]
  },
  {
   "cell_type": "code",
   "execution_count": 5,
   "metadata": {},
   "outputs": [
    {
     "name": "stdout",
     "output_type": "stream",
     "text": [
      "Status: OK\n",
      "Transaction isolation level TRANSACTION_REPEATABLE_READ is not supported. Default (TRANSACTION_NONE) will be used instead.\n",
      "+-----------+--------+\n",
      "|   NAME    | EXPR$1 |\n",
      "+-----------+--------+\n",
      "| Sales     | 1      |\n",
      "| Marketing | 2      |\n",
      "+-----------+--------+\n",
      "2 rows selected (1.274 seconds)\n",
      "sqlline version 1.12.0\n",
      "\n"
     ]
    },
    {
     "data": {
      "text/plain": [
       "\u001b[36msql\u001b[39m: \u001b[32mString\u001b[39m = \u001b[32m\"\"\"SELECT d.name, COUNT(*)\n",
       "FROM emps AS e JOIN depts AS d ON e.deptno = d.deptno\n",
       "GROUP BY d.name;\"\"\"\u001b[39m"
      ]
     },
     "execution_count": 5,
     "metadata": {},
     "output_type": "execute_result"
    }
   ],
   "source": [
    "val sql = \"\"\"SELECT d.name, COUNT(*)\n",
    "FROM emps AS e JOIN depts AS d ON e.deptno = d.deptno\n",
    "GROUP BY d.name;\"\"\"\n",
    "\n",
    "execCommand(dbUrl, command = sql)"
   ]
  },
  {
   "cell_type": "code",
   "execution_count": 7,
   "metadata": {},
   "outputs": [
    {
     "name": "stdout",
     "output_type": "stream",
     "text": [
      "Status: OK\n",
      "Transaction isolation level TRANSACTION_REPEATABLE_READ is not supported. Default (TRANSACTION_NONE) will be used instead.\n",
      "+--------+\n",
      "| EXPR$0 |\n",
      "+--------+\n",
      "| 13     |\n",
      "+--------+\n",
      "1 row selected (0.067 seconds)\n",
      "sqlline version 1.12.0\n",
      "\n"
     ]
    }
   ],
   "source": [
    "execCommand(dbUrl, command=\"VALUES CHAR_LENGTH('Hello, ' || 'world!');\")"
   ]
  },
  {
   "cell_type": "markdown",
   "metadata": {},
   "source": [
    "## views in schema"
   ]
  },
  {
   "cell_type": "code",
   "execution_count": 12,
   "metadata": {},
   "outputs": [
    {
     "name": "stdout",
     "output_type": "stream",
     "text": [
      "/*\n",
      " * Licensed to the Apache Software Foundation (ASF) under one or more\n",
      " * contributor license agreements.  See the NOTICE file distributed with\n",
      " * this work for additional information regarding copyright ownership.\n",
      " * The ASF licenses this file to you under the Apache License, Version 2.0\n",
      " * (the \"License\"); you may not use this file except in compliance with\n",
      " * the License.  You may obtain a copy of the License at\n",
      " *\n",
      " * http://www.apache.org/licenses/LICENSE-2.0\n",
      " *\n",
      " * Unless required by applicable law or agreed to in writing, software\n",
      " * distributed under the License is distributed on an \"AS IS\" BASIS,\n",
      " * WITHOUT WARRANTIES OR CONDITIONS OF ANY KIND, either express or implied.\n",
      " * See the License for the specific language governing permissions and\n",
      " * limitations under the License.\n",
      " *\n",
      " * A JSON model of a Calcite schema that includes a view.\n",
      " */\n",
      "{\n",
      "  \"version\": \"1.0\",\n",
      "  \"defaultSchema\": \"SALES\",\n",
      "  \"schemas\": [\n",
      "    {\n",
      "      \"name\": \"SALES\",\n",
      "      \"type\": \"custom\",\n",
      "      \"factory\": \"org.apache.calcite.adapter.csv.CsvSchemaFactory\",\n",
      "      \"operand\": {\n",
      "//        \"directory\": \"sales\"\n",
      "        \"directory\": \"D:\\\\workspace\\\\rtfsc\\\\calcite\\\\example\\\\csv\\\\src\\\\test\\\\resources\\\\sales\"\n",
      "      },\n",
      "      \"tables\": [\n",
      "        {\n",
      "          \"name\": \"FEMALE_EMPS\",\n",
      "          \"type\": \"view\",\n",
      "          \"sql\": \"SELECT * FROM emps WHERE gender = 'F'\"\n",
      "        }\n",
      "      ]\n",
      "    }\n",
      "  ]\n",
      "}\n",
      "\n"
     ]
    },
    {
     "data": {
      "text/plain": [
       "\u001b[36mmodelWithViewFile\u001b[39m: \u001b[32mString\u001b[39m = \u001b[32m\"D:/workspace/rtfsc/calcite/example/csv/src/test/resources/model-with-view.json\"\u001b[39m"
      ]
     },
     "execution_count": 12,
     "metadata": {},
     "output_type": "execute_result"
    }
   ],
   "source": [
    "val modelWithViewFile = \"D:/workspace/rtfsc/calcite/example/csv/src/test/resources/model-with-view.json\"\n",
    "println(os.read(os.Path(modelWithViewFile)))"
   ]
  },
  {
   "cell_type": "code",
   "execution_count": 14,
   "metadata": {},
   "outputs": [
    {
     "name": "stdout",
     "output_type": "stream",
     "text": [
      "Status: OK\n",
      "Transaction isolation level TRANSACTION_REPEATABLE_READ is not supported. Default (TRANSACTION_NONE) will be used instead.\n",
      "+-----------+-------------+-------------+--------------+---------+----------+------------+-----------+---------------------------+----------------+\n",
      "| TABLE_CAT | TABLE_SCHEM | TABLE_NAME  |  TABLE_TYPE  | REMARKS | TYPE_CAT | TYPE_SCHEM | TYPE_NAME | SELF_REFERENCING_COL_NAME | REF_GENERATION |\n",
      "+-----------+-------------+-------------+--------------+---------+----------+------------+-----------+---------------------------+----------------+\n",
      "|           | SALES       | DEPTS       | TABLE        |         |          |            |           |                           |                |\n",
      "|           | SALES       | EMPS        | TABLE        |         |          |            |           |                           |                |\n",
      "|           | SALES       | SDEPTS      | TABLE        |         |          |            |           |                           |                |\n",
      "|           | SALES       | FEMALE_EMPS | VIEW         |         |          |            |           |                           |                |\n",
      "|           | metadata    | COLUMNS     | SYSTEM TABLE |         |          |            |           |                           |                |\n",
      "|           | metadata    | TABLES      | SYSTEM TABLE |         |          |            |           |                           |                |\n",
      "+-----------+-------------+-------------+--------------+---------+----------+------------+-----------+---------------------------+----------------+\n",
      "sqlline version 1.12.0\n",
      "\n",
      "Status: OK\n",
      "Transaction isolation level TRANSACTION_REPEATABLE_READ is not supported. Default (TRANSACTION_NONE) will be used instead.\n",
      "+-----------+-------------+-------------+-------------+-----------+-----------+-------------+---------------+----------------+----------------+----------+---------+------------+---------------+------------------+-------------------+------------------+-------------+---------------+--------------+-------------+------------------+------------------+--------------------+\n",
      "| TABLE_CAT | TABLE_SCHEM | TABLE_NAME  | COLUMN_NAME | DATA_TYPE | TYPE_NAME | COLUMN_SIZE | BUFFER_LENGTH | DECIMAL_DIGITS | NUM_PREC_RADIX | NULLABLE | REMARKS | COLUMN_DEF | SQL_DATA_TYPE | SQL_DATETIME_SUB | CHAR_OCTET_LENGTH | ORDINAL_POSITION | IS_NULLABLE | SCOPE_CATALOG | SCOPE_SCHEMA | SCOPE_TABLE | SOURCE_DATA_TYPE | IS_AUTOINCREMENT | IS_GENERATEDCOLUMN |\n",
      "+-----------+-------------+-------------+-------------+-----------+-----------+-------------+---------------+----------------+----------------+----------+---------+------------+---------------+------------------+-------------------+------------------+-------------+---------------+--------------+-------------+------------------+------------------+--------------------+\n",
      "|           | SALES       | FEMALE_EMPS | EMPNO       | 4         | INTEGER   | -1          | null          | null           | 10             | 1        |         |            | null          | null             | -1                | 1                | YES         |               |              |             | null             |                  |                    |\n",
      "|           | SALES       | FEMALE_EMPS | NAME        | 12        | VARCHAR   | -1          | null          | null           | 10             | 1        |         |            | null          | null             | -1                | 2                | YES         |               |              |             | null             |                  |                    |\n",
      "|           | SALES       | FEMALE_EMPS | DEPTNO      | 4         | INTEGER   | -1          | null          | null           | 10             | 1        |         |            | null          | null             | -1                | 3                | YES         |               |              |             | null             |                  |                    |\n",
      "|           | SALES       | FEMALE_EMPS | GENDER      | 12        | VARCHAR   | -1          | null          | null           | 10             | 1        |         |            | null          | null             | -1                | 4                | YES         |               |              |             | null             |                  |                    |\n",
      "|           | SALES       | FEMALE_EMPS | CITY        | 12        | VARCHAR   | -1          | null          | null           | 10             | 1        |         |            | null          | null             | -1                | 5                | YES         |               |              |             | null             |                  |                    |\n",
      "|           | SALES       | FEMALE_EMPS | EMPID       | 4         | INTEGER   | -1          | null          | null           | 10             | 1        |         |            | null          | null             | -1                | 6                | YES         |               |              |             | null             |                  |                    |\n",
      "|           | SALES       | FEMALE_EMPS | AGE         | 4         | INTEGER   | -1          | null          | null           | 10             | 1        |         |            | null          | null             | -1                | 7                | YES         |               |              |             | null             |                  |                    |\n",
      "|           | SALES       | FEMALE_EMPS | SLACKER     | 16        | BOOLEAN   | -1          | null          | null           | 10             | 1        |         |            | null          | null             | -1                | 8                | YES         |               |              |             | null             |                  |                    |\n",
      "|           | SALES       | FEMALE_EMPS | MANAGER     | 16        | BOOLEAN   | -1          | null          | null           | 10             | 1        |         |            | null          | null             | -1                | 9                | YES         |               |              |             | null             |                  |                    |\n",
      "|           | SALES       | FEMALE_EMPS | JOINEDAT    | 91        | DATE      | -1          | null          | null           | 10             | 1        |         |            | null          | null             | -1                | 10               | YES         |               |              |             | null             |                  |                    |\n",
      "+-----------+-------------+-------------+-------------+-----------+-----------+-------------+---------------+----------------+----------------+----------+---------+------------+---------------+------------------+-------------------+------------------+-------------+---------------+--------------+-------------+------------------+------------------+--------------------+\n",
      "sqlline version 1.12.0\n",
      "\n"
     ]
    },
    {
     "data": {
      "text/plain": [
       "\u001b[36mdbUrl\u001b[39m: \u001b[32mString\u001b[39m = \u001b[32m\"jdbc:calcite:model=D:/workspace/rtfsc/calcite/example/csv/src/test/resources/model-with-view.json\"\u001b[39m"
      ]
     },
     "execution_count": 14,
     "metadata": {},
     "output_type": "execute_result"
    }
   ],
   "source": [
    "val dbUrl = \"jdbc:calcite:model=\" + modelWithViewFile\n",
    "execCommand(dbUrl, command = \"!tables\")\n",
    "execCommand(dbUrl, command = \"!describe FEMALE_EMPS\")"
   ]
  },
  {
   "cell_type": "code",
   "execution_count": 15,
   "metadata": {},
   "outputs": [
    {
     "name": "stdout",
     "output_type": "stream",
     "text": [
      "Status: OK\n",
      "Transaction isolation level TRANSACTION_REPEATABLE_READ is not supported. Default (TRANSACTION_NONE) will be used instead.\n",
      "+-------+-----------+\n",
      "| NAME  |   NAME    |\n",
      "+-------+-----------+\n",
      "| Wilma | Marketing |\n",
      "+-------+-----------+\n",
      "1 row selected (0.066 seconds)\n",
      "sqlline version 1.12.0\n",
      "\n"
     ]
    }
   ],
   "source": [
    "execCommand(dbUrl, command=\"SELECT e.name, d.name FROM female_emps AS e JOIN depts AS d on e.deptno = d.deptno;\")"
   ]
  },
  {
   "cell_type": "markdown",
   "metadata": {},
   "source": [
    "## custom table"
   ]
  },
  {
   "cell_type": "code",
   "execution_count": 17,
   "metadata": {},
   "outputs": [
    {
     "name": "stdout",
     "output_type": "stream",
     "text": [
      "/*\n",
      " * Licensed to the Apache Software Foundation (ASF) under one or more\n",
      " * contributor license agreements.  See the NOTICE file distributed with\n",
      " * this work for additional information regarding copyright ownership.\n",
      " * The ASF licenses this file to you under the Apache License, Version 2.0\n",
      " * (the \"License\"); you may not use this file except in compliance with\n",
      " * the License.  You may obtain a copy of the License at\n",
      " *\n",
      " * http://www.apache.org/licenses/LICENSE-2.0\n",
      " *\n",
      " * Unless required by applicable law or agreed to in writing, software\n",
      " * distributed under the License is distributed on an \"AS IS\" BASIS,\n",
      " * WITHOUT WARRANTIES OR CONDITIONS OF ANY KIND, either express or implied.\n",
      " * See the License for the specific language governing permissions and\n",
      " * limitations under the License.\n",
      " */\n",
      "{\n",
      "  \"version\": \"1.0\",\n",
      "  \"defaultSchema\": \"CUSTOM_TABLE\",\n",
      "  \"schemas\": [\n",
      "    {\n",
      "      \"name\": \"CUSTOM_TABLE\",\n",
      "      \"tables\": [\n",
      "        {\n",
      "          \"name\": \"EMPS\",\n",
      "          \"type\": \"custom\",\n",
      "          \"factory\": \"org.apache.calcite.adapter.csv.CsvTableFactory\",\n",
      "          \"operand\": {\n",
      "//            \"file\": \"sales/EMPS.csv.gz\",\n",
      "            \"file\": \"D:\\\\workspace\\\\rtfsc\\\\calcite\\\\example\\\\csv\\\\src\\\\test\\\\resources\\\\sales\\\\EMPS.csv.gz\",\n",
      "            \"flavor\": \"scannable\"\n",
      "          }\n",
      "        }\n",
      "      ]\n",
      "    }\n",
      "  ]\n",
      "}\n",
      "\n"
     ]
    },
    {
     "data": {
      "text/plain": [
       "\u001b[36mmodelWithCustomTableFile\u001b[39m: \u001b[32mString\u001b[39m = \u001b[32m\"D:/workspace/rtfsc/calcite/example/csv/src/test/resources/model-with-custom-table.json\"\u001b[39m"
      ]
     },
     "execution_count": 17,
     "metadata": {},
     "output_type": "execute_result"
    }
   ],
   "source": [
    "val modelWithCustomTableFile = \"D:/workspace/rtfsc/calcite/example/csv/src/test/resources/model-with-custom-table.json\"\n",
    "println(os.read(os.Path(modelWithCustomTableFile)))"
   ]
  },
  {
   "cell_type": "code",
   "execution_count": 18,
   "metadata": {},
   "outputs": [
    {
     "name": "stdout",
     "output_type": "stream",
     "text": [
      "Status: OK\n",
      "Transaction isolation level TRANSACTION_REPEATABLE_READ is not supported. Default (TRANSACTION_NONE) will be used instead.\n",
      "+-----------+--------------+------------+--------------+---------+----------+------------+-----------+---------------------------+----------------+\n",
      "| TABLE_CAT | TABLE_SCHEM  | TABLE_NAME |  TABLE_TYPE  | REMARKS | TYPE_CAT | TYPE_SCHEM | TYPE_NAME | SELF_REFERENCING_COL_NAME | REF_GENERATION |\n",
      "+-----------+--------------+------------+--------------+---------+----------+------------+-----------+---------------------------+----------------+\n",
      "|           | CUSTOM_TABLE | EMPS       | TABLE        |         |          |            |           |                           |                |\n",
      "|           | metadata     | COLUMNS    | SYSTEM TABLE |         |          |            |           |                           |                |\n",
      "|           | metadata     | TABLES     | SYSTEM TABLE |         |          |            |           |                           |                |\n",
      "+-----------+--------------+------------+--------------+---------+----------+------------+-----------+---------------------------+----------------+\n",
      "sqlline version 1.12.0\n",
      "\n",
      "Status: OK\n",
      "Transaction isolation level TRANSACTION_REPEATABLE_READ is not supported. Default (TRANSACTION_NONE) will be used instead.\n",
      "+-----------+--------------+------------+-------------+-----------+-----------+-------------+---------------+----------------+----------------+----------+---------+------------+---------------+------------------+-------------------+------------------+-------------+---------------+--------------+-------------+------------------+------------------+--------------------+\n",
      "| TABLE_CAT | TABLE_SCHEM  | TABLE_NAME | COLUMN_NAME | DATA_TYPE | TYPE_NAME | COLUMN_SIZE | BUFFER_LENGTH | DECIMAL_DIGITS | NUM_PREC_RADIX | NULLABLE | REMARKS | COLUMN_DEF | SQL_DATA_TYPE | SQL_DATETIME_SUB | CHAR_OCTET_LENGTH | ORDINAL_POSITION | IS_NULLABLE | SCOPE_CATALOG | SCOPE_SCHEMA | SCOPE_TABLE | SOURCE_DATA_TYPE | IS_AUTOINCREMENT | IS_GENERATEDCOLUMN |\n",
      "+-----------+--------------+------------+-------------+-----------+-----------+-------------+---------------+----------------+----------------+----------+---------+------------+---------------+------------------+-------------------+------------------+-------------+---------------+--------------+-------------+------------------+------------------+--------------------+\n",
      "|           | CUSTOM_TABLE | EMPS       | EMPNO       | 4         | INTEGER   | -1          | null          | null           | 10             | 1        |         |            | null          | null             | -1                | 1                | YES         |               |              |             | null             |                  |                    |\n",
      "|           | CUSTOM_TABLE | EMPS       | NAME        | 12        | VARCHAR   | -1          | null          | null           | 10             | 1        |         |            | null          | null             | -1                | 2                | YES         |               |              |             | null             |                  |                    |\n",
      "|           | CUSTOM_TABLE | EMPS       | DEPTNO      | 4         | INTEGER   | -1          | null          | null           | 10             | 1        |         |            | null          | null             | -1                | 3                | YES         |               |              |             | null             |                  |                    |\n",
      "|           | CUSTOM_TABLE | EMPS       | GENDER      | 12        | VARCHAR   | -1          | null          | null           | 10             | 1        |         |            | null          | null             | -1                | 4                | YES         |               |              |             | null             |                  |                    |\n",
      "|           | CUSTOM_TABLE | EMPS       | CITY        | 12        | VARCHAR   | -1          | null          | null           | 10             | 1        |         |            | null          | null             | -1                | 5                | YES         |               |              |             | null             |                  |                    |\n",
      "|           | CUSTOM_TABLE | EMPS       | EMPID       | 4         | INTEGER   | -1          | null          | null           | 10             | 1        |         |            | null          | null             | -1                | 6                | YES         |               |              |             | null             |                  |                    |\n",
      "|           | CUSTOM_TABLE | EMPS       | AGE         | 4         | INTEGER   | -1          | null          | null           | 10             | 1        |         |            | null          | null             | -1                | 7                | YES         |               |              |             | null             |                  |                    |\n",
      "|           | CUSTOM_TABLE | EMPS       | SLACKER     | 16        | BOOLEAN   | -1          | null          | null           | 10             | 1        |         |            | null          | null             | -1                | 8                | YES         |               |              |             | null             |                  |                    |\n",
      "|           | CUSTOM_TABLE | EMPS       | MANAGER     | 16        | BOOLEAN   | -1          | null          | null           | 10             | 1        |         |            | null          | null             | -1                | 9                | YES         |               |              |             | null             |                  |                    |\n",
      "|           | CUSTOM_TABLE | EMPS       | JOINEDAT    | 91        | DATE      | -1          | null          | null           | 10             | 1        |         |            | null          | null             | -1                | 10               | YES         |               |              |             | null             |                  |                    |\n",
      "+-----------+--------------+------------+-------------+-----------+-----------+-------------+---------------+----------------+----------------+----------+---------+------------+---------------+------------------+-------------------+------------------+-------------+---------------+--------------+-------------+------------------+------------------+--------------------+\n",
      "sqlline version 1.12.0\n",
      "\n"
     ]
    },
    {
     "data": {
      "text/plain": [
       "\u001b[36mdbUrl\u001b[39m: \u001b[32mString\u001b[39m = \u001b[32m\"jdbc:calcite:model=D:/workspace/rtfsc/calcite/example/csv/src/test/resources/model-with-custom-table.json\"\u001b[39m"
      ]
     },
     "execution_count": 18,
     "metadata": {},
     "output_type": "execute_result"
    }
   ],
   "source": [
    "val dbUrl = \"jdbc:calcite:model=\" + modelWithCustomTableFile\n",
    "execCommand(dbUrl, command = \"!tables\")\n",
    "execCommand(dbUrl, command = \"!describe EMPS\")"
   ]
  },
  {
   "cell_type": "code",
   "execution_count": 19,
   "metadata": {},
   "outputs": [
    {
     "name": "stdout",
     "output_type": "stream",
     "text": [
      "Status: OK\n",
      "Transaction isolation level TRANSACTION_REPEATABLE_READ is not supported. Default (TRANSACTION_NONE) will be used instead.\n",
      "+-------+-------+\n",
      "| EMPNO | NAME  |\n",
      "+-------+-------+\n",
      "| 100   | Fred  |\n",
      "| 110   | Eric  |\n",
      "| 110   | John  |\n",
      "| 120   | Wilma |\n",
      "| 130   | Alice |\n",
      "+-------+-------+\n",
      "5 rows selected (0.012 seconds)\n",
      "sqlline version 1.12.0\n",
      "\n"
     ]
    }
   ],
   "source": [
    "execCommand(dbUrl, command=\"SELECT empno, name FROM custom_table.emps;\")"
   ]
  },
  {
   "cell_type": "markdown",
   "metadata": {},
   "source": [
    "## planner rules"
   ]
  },
  {
   "cell_type": "code",
   "execution_count": 2,
   "metadata": {},
   "outputs": [
    {
     "name": "stdout",
     "output_type": "stream",
     "text": [
      "/*\n",
      " * Licensed to the Apache Software Foundation (ASF) under one or more\n",
      " * contributor license agreements.  See the NOTICE file distributed with\n",
      " * this work for additional information regarding copyright ownership.\n",
      " * The ASF licenses this file to you under the Apache License, Version 2.0\n",
      " * (the \"License\"); you may not use this file except in compliance with\n",
      " * the License.  You may obtain a copy of the License at\n",
      " *\n",
      " * http://www.apache.org/licenses/LICENSE-2.0\n",
      " *\n",
      " * Unless required by applicable law or agreed to in writing, software\n",
      " * distributed under the License is distributed on an \"AS IS\" BASIS,\n",
      " * WITHOUT WARRANTIES OR CONDITIONS OF ANY KIND, either express or implied.\n",
      " * See the License for the specific language governing permissions and\n",
      " * limitations under the License.\n",
      " *\n",
      " * A JSON model of a simple Calcite schema.\n",
      " */\n",
      "{\n",
      "  \"version\": \"1.0\",\n",
      "  \"defaultSchema\": \"SALES\",\n",
      "  \"schemas\": [\n",
      "    {\n",
      "      \"name\": \"SALES\",\n",
      "      \"type\": \"custom\",\n",
      "      \"factory\": \"org.apache.calcite.adapter.csv.CsvSchemaFactory\",\n",
      "      \"operand\": {\n",
      "//        \"directory\": \"sales\"\n",
      "        \"directory\": \"D:\\\\workspace\\\\rtfsc\\\\calcite\\\\example\\\\csv\\\\src\\\\test\\\\resources\\\\sales\"\n",
      "      }\n",
      "    }\n",
      "  ]\n",
      "}\n",
      "\n"
     ]
    },
    {
     "data": {
      "text/plain": [
       "\u001b[36mmodelFile\u001b[39m: \u001b[32mString\u001b[39m = \u001b[32m\"D:/workspace/rtfsc/calcite/example/csv/src/test/resources/model.json\"\u001b[39m"
      ]
     },
     "execution_count": 2,
     "metadata": {},
     "output_type": "execute_result"
    }
   ],
   "source": [
    "val modelFile = \"D:/workspace/rtfsc/calcite/example/csv/src/test/resources/model.json\"\n",
    "println(os.read(os.Path(modelFile)))"
   ]
  },
  {
   "cell_type": "code",
   "execution_count": 3,
   "metadata": {},
   "outputs": [
    {
     "name": "stderr",
     "output_type": "stream",
     "text": [
      "SLF4J(W): No SLF4J providers were found.\n",
      "SLF4J(W): Defaulting to no-operation (NOP) logger implementation\n",
      "SLF4J(W): See https://www.slf4j.org/codes.html#noProviders for further details.\n"
     ]
    },
    {
     "name": "stdout",
     "output_type": "stream",
     "text": [
      "Status: OK\n",
      "Transaction isolation level TRANSACTION_REPEATABLE_READ is not supported. Default (TRANSACTION_NONE) will be used instead.\n",
      "+---------------------------------------------------+\n",
      "|                       PLAN                        |\n",
      "+---------------------------------------------------+\n",
      "| EnumerableCalc(expr#0..9=[{inputs}], NAME=[$t1])\n",
      "  EnumerableTableScan(table=[[SALES, EMPS]])\n",
      " |\n",
      "+---------------------------------------------------+\n",
      "1 row selected (0.925 seconds)\n",
      "sqlline version 1.12.0\n",
      "\n"
     ]
    },
    {
     "data": {
      "text/plain": [
       "\u001b[36mdbUrl\u001b[39m: \u001b[32mString\u001b[39m = \u001b[32m\"jdbc:calcite:model=D:/workspace/rtfsc/calcite/example/csv/src/test/resources/model.json\"\u001b[39m"
      ]
     },
     "execution_count": 3,
     "metadata": {},
     "output_type": "execute_result"
    }
   ],
   "source": [
    "val dbUrl = \"jdbc:calcite:model=\" + modelFile\n",
    "execCommand(dbUrl, command=\"explain plan for select name from emps;\")"
   ]
  },
  {
   "cell_type": "code",
   "execution_count": 6,
   "metadata": {},
   "outputs": [
    {
     "name": "stdout",
     "output_type": "stream",
     "text": [
      "/*\n",
      " * Licensed to the Apache Software Foundation (ASF) under one or more\n",
      " * contributor license agreements.  See the NOTICE file distributed with\n",
      " * this work for additional information regarding copyright ownership.\n",
      " * The ASF licenses this file to you under the Apache License, Version 2.0\n",
      " * (the \"License\"); you may not use this file except in compliance with\n",
      " * the License.  You may obtain a copy of the License at\n",
      " *\n",
      " * http://www.apache.org/licenses/LICENSE-2.0\n",
      " *\n",
      " * Unless required by applicable law or agreed to in writing, software\n",
      " * distributed under the License is distributed on an \"AS IS\" BASIS,\n",
      " * WITHOUT WARRANTIES OR CONDITIONS OF ANY KIND, either express or implied.\n",
      " * See the License for the specific language governing permissions and\n",
      " * limitations under the License.\n",
      " *\n",
      " * A JSON model of a Calcite schema that is similar to model.json,\n",
      " * except that it produces tables that implement FilterableTable.\n",
      " * These tables can implement their own simple filtering.\n",
      " *\n",
      " * A JSON model of a Calcite schema that is similar to model.json,\n",
      " * except that it produces tables that implement\n",
      " * TranslatableTable. These tables are translated to a CsvTableScan\n",
      " * relational expression which participates in query planning.\n",
      " */\n",
      "{\n",
      "  \"version\": \"1.0\",\n",
      "  \"defaultSchema\": \"SALES\",\n",
      "  \"schemas\": [\n",
      "    {\n",
      "      \"name\": \"SALES\",\n",
      "      \"type\": \"custom\",\n",
      "      \"factory\": \"org.apache.calcite.adapter.csv.CsvSchemaFactory\",\n",
      "      \"operand\": {\n",
      "//        \"directory\": \"sales\",\n",
      "        \"directory\": \"D:\\\\workspace\\\\rtfsc\\\\calcite\\\\example\\\\csv\\\\src\\\\test\\\\resources\\\\sales\",\n",
      "        \"flavor\": \"TRANSLATABLE\"\n",
      "      }\n",
      "    }\n",
      "  ]\n",
      "}\n",
      "\n"
     ]
    },
    {
     "data": {
      "text/plain": [
       "\u001b[36mmodelSmartFile\u001b[39m: \u001b[32mString\u001b[39m = \u001b[32m\"D:/workspace/rtfsc/calcite/example/csv/src/test/resources/smart.json\"\u001b[39m"
      ]
     },
     "execution_count": 6,
     "metadata": {},
     "output_type": "execute_result"
    }
   ],
   "source": [
    "val modelSmartFile = \"D:/workspace/rtfsc/calcite/example/csv/src/test/resources/smart.json\"\n",
    "println(os.read(os.Path(modelSmartFile)))"
   ]
  },
  {
   "cell_type": "code",
   "execution_count": 7,
   "metadata": {},
   "outputs": [
    {
     "name": "stdout",
     "output_type": "stream",
     "text": [
      "Status: OK\n",
      "Transaction isolation level TRANSACTION_REPEATABLE_READ is not supported. Default (TRANSACTION_NONE) will be used instead.\n",
      "+----------------------------------------------------+\n",
      "|                        PLAN                        |\n",
      "+----------------------------------------------------+\n",
      "| CsvTableScan(table=[[SALES, EMPS]], fields=[[1]])\n",
      " |\n",
      "+----------------------------------------------------+\n",
      "1 row selected (0.041 seconds)\n",
      "sqlline version 1.12.0\n",
      "\n"
     ]
    },
    {
     "data": {
      "text/plain": [
       "\u001b[36mdbUrl\u001b[39m: \u001b[32mString\u001b[39m = \u001b[32m\"jdbc:calcite:model=D:/workspace/rtfsc/calcite/example/csv/src/test/resources/smart.json\"\u001b[39m"
      ]
     },
     "execution_count": 7,
     "metadata": {},
     "output_type": "execute_result"
    }
   ],
   "source": [
    "val dbUrl = \"jdbc:calcite:model=\" + modelSmartFile\n",
    "execCommand(dbUrl, command=\"explain plan for select name from emps;\")"
   ]
  },
  {
   "cell_type": "markdown",
   "metadata": {},
   "source": [
    "## JDBC adaptor\n",
    "* foodmart: https://github.com/rsim/mondrian_demo/blob/master/db/foodmart.sql"
   ]
  },
  {
   "cell_type": "code",
   "execution_count": 5,
   "metadata": {},
   "outputs": [
    {
     "name": "stderr",
     "output_type": "stream",
     "text": [
      "Downloading https://repo1.maven.org/maven2/mysql/mysql-connector-java/8.0.32/mysql-connector-java-8.0.32.pom\n",
      "Downloaded https://repo1.maven.org/maven2/mysql/mysql-connector-java/8.0.32/mysql-connector-java-8.0.32.pom\n",
      "Downloading https://repo1.maven.org/maven2/com/mysql/mysql-connector-j/8.0.32/mysql-connector-j-8.0.32.pom\n",
      "Downloaded https://repo1.maven.org/maven2/com/mysql/mysql-connector-j/8.0.32/mysql-connector-j-8.0.32.pom\n",
      "Downloading https://repo1.maven.org/maven2/com/mysql/mysql-connector-j/8.0.32/mysql-connector-j-8.0.32-sources.jar\n",
      "Downloading https://repo1.maven.org/maven2/com/mysql/mysql-connector-j/8.0.32/mysql-connector-j-8.0.32.jar\n",
      "Still downloading:\n",
      "https://repo1.maven.org/maven2/com/mysql/mysql-connector-j/8.0.32/mysql-connector-j-8.0.32.jar (84.03 %, 2084540 / 2480823)\n",
      "https://repo1.maven.org/maven2/com/mysql/mysql-connector-j/8.0.32/mysql-connector-j-8.0.32-sources.jar (45.72 %, 734781 / 1607222)\n",
      "\n",
      "Downloaded https://repo1.maven.org/maven2/com/mysql/mysql-connector-j/8.0.32/mysql-connector-j-8.0.32.jar\n",
      "Downloaded https://repo1.maven.org/maven2/com/mysql/mysql-connector-j/8.0.32/mysql-connector-j-8.0.32-sources.jar\n"
     ]
    },
    {
     "data": {
      "text/plain": [
       "\u001b[32mimport \u001b[39m\u001b[36m$ivy.$                                       \n",
       "// import $ivy.`mysql:mysql-connector-java:5.1.20`\n",
       "\u001b[39m\r\n",
       "\u001b[32mimport \u001b[39m\u001b[36m$ivy.$                                  \n",
       "// import $ivy.`com.mysql:mysql-connector-j:9.1.0`\r\n",
       "\u001b[39m"
      ]
     },
     "execution_count": 5,
     "metadata": {},
     "output_type": "execute_result"
    }
   ],
   "source": [
    "import $ivy.`org.apache.calcite:calcite-core:1.38.0`\n",
    "// import $ivy.`mysql:mysql-connector-java:5.1.20`\n",
    "import $ivy.`mysql:mysql-connector-java:8.0.32`\n",
    "// import $ivy.`com.mysql:mysql-connector-j:9.1.0`"
   ]
  },
  {
   "cell_type": "code",
   "execution_count": 11,
   "metadata": {},
   "outputs": [
    {
     "name": "stdout",
     "output_type": "stream",
     "text": [
      "{\n",
      "  \"version\": \"1.0\",\n",
      "  \"defaultSchema\": \"foodmart\",\n",
      "  \"schemas\": [\n",
      "    {\n",
      "      \"name\": \"foodmart\",\n",
      "      \"type\": \"custom\",\n",
      "      \"factory\": \"org.apache.calcite.adapter.jdbc.JdbcSchema$Factory\",\n",
      "      \"operand\": {\n",
      "        \"jdbcDriver\": \"com.mysql.jdbc.Driver\",\n",
      "        \"jdbcUrl\": \"jdbc:mysql://localhost:3306/foodmart\",\n",
      "        \"jdbcUser\": \"root\",\n",
      "        \"jdbcPassword\": \"devops+mysql\"\n",
      "      }\n",
      "    }\n",
      "  ]\n",
      "}\n"
     ]
    },
    {
     "data": {
      "text/plain": [
       "\u001b[36mfoodmartModelFile\u001b[39m: \u001b[32mString\u001b[39m = \u001b[32m\"mysql-foodmart.json\"\u001b[39m"
      ]
     },
     "execution_count": 11,
     "metadata": {},
     "output_type": "execute_result"
    }
   ],
   "source": [
    "val foodmartModelFile = \"mysql-foodmart.json\"\n",
    "println(os.read(os.pwd / foodmartModelFile))"
   ]
  },
  {
   "cell_type": "code",
   "execution_count": 12,
   "metadata": {},
   "outputs": [
    {
     "name": "stdout",
     "output_type": "stream",
     "text": [
      "Status: OK\n",
      "Transaction isolation level TRANSACTION_REPEATABLE_READ is not supported. Default (TRANSACTION_NONE) will be used instead.\n",
      "+-----------+-------------+-----------------+--------------+---------+----------+------------+-----------+---------------------------+----------------+\n",
      "| TABLE_CAT | TABLE_SCHEM |   TABLE_NAME    |  TABLE_TYPE  | REMARKS | TYPE_CAT | TYPE_SCHEM | TYPE_NAME | SELF_REFERENCING_COL_NAME | REF_GENERATION |\n",
      "+-----------+-------------+-----------------+--------------+---------+----------+------------+-----------+---------------------------+----------------+\n",
      "|           | foodmart    | customer        | TABLE        |         |          |            |           |                           |                |\n",
      "|           | foodmart    | product         | TABLE        |         |          |            |           |                           |                |\n",
      "|           | foodmart    | product_class   | TABLE        |         |          |            |           |                           |                |\n",
      "|           | foodmart    | sales_fact_1997 | TABLE        |         |          |            |           |                           |                |\n",
      "|           | foodmart    | time_by_day     | TABLE        |         |          |            |           |                           |                |\n",
      "|           | metadata    | COLUMNS         | SYSTEM TABLE |         |          |            |           |                           |                |\n",
      "|           | metadata    | TABLES          | SYSTEM TABLE |         |          |            |           |                           |                |\n",
      "+-----------+-------------+-----------------+--------------+---------+----------+------------+-----------+---------------------------+----------------+\n",
      "sqlline version 1.12.0\n",
      "\n"
     ]
    },
    {
     "data": {
      "text/plain": [
       "\u001b[36mdbUrl\u001b[39m: \u001b[32mString\u001b[39m = \u001b[32m\"jdbc:calcite:model=mysql-foodmart.json\"\u001b[39m"
      ]
     },
     "execution_count": 12,
     "metadata": {},
     "output_type": "execute_result"
    }
   ],
   "source": [
    "val dbUrl = \"jdbc:calcite:model=\" + foodmartModelFile\n",
    "execCommand(dbUrl, command=\"!tables\")"
   ]
  },
  {
   "cell_type": "code",
   "execution_count": 14,
   "metadata": {},
   "outputs": [
    {
     "name": "stdout",
     "output_type": "stream",
     "text": [
      "Status: OK\n",
      "Transaction isolation level TRANSACTION_REPEATABLE_READ is not supported. Default (TRANSACTION_NONE) will be used instead.\n",
      "+--------+\n",
      "| EXPR$0 |\n",
      "+--------+\n",
      "| 1      |\n",
      "+--------+\n",
      "1 row selected (0.011 seconds)\n",
      "sqlline version 1.12.0\n",
      "\n"
     ]
    }
   ],
   "source": [
    "execCommand(dbUrl, command=\"\"\"\n",
    "SELECT 1\n",
    "\"\"\")"
   ]
  },
  {
   "cell_type": "code",
   "execution_count": 16,
   "metadata": {},
   "outputs": [
    {
     "name": "stdout",
     "output_type": "stream",
     "text": [
      "Status: OTHER\n",
      "Transaction isolation level TRANSACTION_REPEATABLE_READ is not supported. Default (TRANSACTION_NONE) will be used instead.\n",
      "Error: Error while executing SQL \"SELECT * FROM customer LIMIT 10\": From line 1, column 15 to line 1, column 22: Object 'CUSTOMER' not found within 'foodmart'; did you mean 'customer'? (state=,code=0)\n",
      "sqlline version 1.12.0\n",
      "\n"
     ]
    }
   ],
   "source": [
    "// WHY NEED \"<TABLE>\" ???\n",
    "// execCommand(dbUrl, command=\"\"\"\n",
    "// SELECT * FROM customer LIMIT 10;\n",
    "// \"\"\")"
   ]
  },
  {
   "cell_type": "code",
   "execution_count": 17,
   "metadata": {},
   "outputs": [
    {
     "name": "stdout",
     "output_type": "stream",
     "text": [
      "Status: OK\n",
      "Transaction isolation level TRANSACTION_REPEATABLE_READ is not supported. Default (TRANSACTION_NONE) will be used instead.\n",
      "+-------------+-------------+-----------+---------+----+------------------------+----------+----------+----------+-------------+----------------+-------------+---------+--------------------+--------------+--------------+------------+----------------+---------------+--------+----------------+----------------------+---------------------+-------------------+-------------+----------------+------------+----------------+------------------+\n",
      "| customer_id | account_num |   lname   |  fname  | mi |        address1        | address2 | address3 | address4 |    city     | state_province | postal_code | country | customer_region_id |    phone1    |    phone2    | birthdate  | marital_status | yearly_income | gender | total_children | num_children_at_home |      education      | date_accnt_opened | member_card |   occupation   | houseowner | num_cars_owned |     fullname     |\n",
      "+-------------+-------------+-----------+---------+----+------------------------+----------+----------+----------+-------------+----------------+-------------+---------+--------------------+--------------+--------------+------------+----------------+---------------+--------+----------------+----------------------+---------------------+-------------------+-------------+----------------+------------+----------------+------------------+\n",
      "| 1           | 87462024688 | Nowmer    | Sheri   | A. | 2433 Bailey Road       |          |          |          | Tlaxiaco    | Oaxaca         | 15057       | Mexico  | 30                 | 271-555-9715 | 119-555-1969 | 1961-08-26 | M              | $30K - $50K   | F      | 4              | 2                    | Partial High School | 1991-09-10        | Bronze      | Skilled Manual | Y          | 4              | Sheri Nowmer     |\n",
      "| 2           | 87470586299 | Whelply   | Derrick | I. | 2219 Dewing Avenue     |          |          |          | Sooke       | BC             | 17172       | Canada  | 101                | 211-555-7669 | 807-555-9033 | 1915-07-03 | S              | $70K - $90K   | M      | 1              | 0                    | Partial High School | 1993-03-11        | Bronze      | Professional   | N          | 3              | Derrick Whelply  |\n",
      "| 3           | 87475757600 | Derry     | Jeanne  |    | 7640 First Ave.        |          |          |          | Issaquah    | WA             | 73980       | USA     | 21                 | 656-555-2272 | 221-555-2493 | 1910-06-21 | M              | $50K - $70K   | F      | 1              | 1                    | Bachelors Degree    | 1991-06-11        | Bronze      | Professional   | Y          | 2              | Jeanne Derry     |\n",
      "| 4           | 87500482201 | Spence    | Michael | J. | 337 Tosca Way          |          |          |          | Burnaby     | BC             | 74674       | Canada  | 92                 | 929-555-7279 | 272-555-2844 | 1969-06-20 | M              | $10K - $30K   | M      | 4              | 4                    | Partial High School | 1994-05-21        | Normal      | Skilled Manual | N          | 2              | Michael Spence   |\n",
      "| 5           | 87514054179 | Gutierrez | Maya    |    | 8668 Via Neruda        |          |          |          | Novato      | CA             | 57355       | USA     | 42                 | 387-555-7172 | 260-555-6936 | 1951-05-10 | S              | $30K - $50K   | F      | 3              | 0                    | Partial College     | 1992-08-21        | Silver      | Manual         | N          | 3              | Maya Gutierrez   |\n",
      "| 6           | 87517782449 | Damstra   | Robert  | F. | 1619 Stillman Court    |          |          |          | Lynnwood    | WA             | 90792       | USA     | 75                 | 922-555-5465 | 333-555-5915 | 1942-10-08 | S              | $70K - $90K   | F      | 3              | 0                    | Bachelors Degree    | 1992-04-05        | Bronze      | Professional   | Y          | 3              | Robert Damstra   |\n",
      "| 7           | 87521172800 | Kanagaki  | Rebecca |    | 2860 D Mt. Hood Circle |          |          |          | Tlaxiaco    | Oaxaca         | 13343       | Mexico  | 30                 | 515-555-6247 | 934-555-9211 | 1949-03-27 | M              | $30K - $50K   | F      | 2              | 1                    | Partial High School | 1991-05-01        | Bronze      | Manual         | Y          | 3              | Rebecca Kanagaki |\n",
      "| 8           | 87539744377 | Brunner   | Kim     | H. | 6064 Brodia Court      |          |          |          | San Andres  | DF             | 12942       | Mexico  | 106                | 411-555-6825 | 130-555-6818 | 1922-08-10 | M              | $50K - $70K   | M      | 2              | 2                    | Bachelors Degree    | 1992-06-11        | Bronze      | Professional   | Y          | 3              | Kim Brunner      |\n",
      "| 9           | 87544797658 | Blumberg  | Brenda  | C. | 7560 Trees Drive       |          |          |          | Richmond    | BC             | 17256       | Canada  | 90                 | 815-555-3975 | 642-555-6483 | 1979-06-23 | M              | $10K - $30K   | M      | 5              | 3                    | Partial High School | 1993-11-14        | Normal      | Skilled Manual | Y          | 1              | Brenda Blumberg  |\n",
      "| 10          | 87568712234 | Stanz     | Darren  | M. | 1019 Kenwal Rd.        |          |          |          | Lake Oswego | OR             | 82017       | USA     | 64                 | 847-555-5443 | 212-555-8635 | 1949-08-26 | S              | $30K - $50K   | M      | 4              | 0                    | Bachelors Degree    | 1993-05-04        | Golden      | Management     | N          | 4              | Darren Stanz     |\n",
      "+-------------+-------------+-----------+---------+----+------------------------+----------+----------+----------+-------------+----------------+-------------+---------+--------------------+--------------+--------------+------------+----------------+---------------+--------+----------------+----------------------+---------------------+-------------------+-------------+----------------+------------+----------------+------------------+\n",
      "10 rows selected (0.044 seconds)\n",
      "sqlline version 1.12.0\n",
      "\n"
     ]
    }
   ],
   "source": [
    "execCommand(dbUrl, command=\"\"\"\n",
    "SELECT * FROM \"foodmart\".\"customer\" LIMIT 10;\n",
    "\"\"\")"
   ]
  },
  {
   "cell_type": "markdown",
   "metadata": {},
   "source": [
    "## cloing JDBC adaptor"
   ]
  },
  {
   "cell_type": "code",
   "execution_count": 21,
   "metadata": {},
   "outputs": [
    {
     "name": "stdout",
     "output_type": "stream",
     "text": [
      "{\n",
      "  \"version\": \"1.0\",\n",
      "  \"defaultSchema\": \"foodmart_clone\",\n",
      "  \"schemas\": [\n",
      "    {\n",
      "      \"name\": \"foodmart\",\n",
      "      \"type\": \"custom\",\n",
      "      \"factory\": \"org.apache.calcite.adapter.jdbc.JdbcSchema$Factory\",\n",
      "      \"operand\": {\n",
      "        \"jdbcDriver\": \"com.mysql.jdbc.Driver\",\n",
      "        \"jdbcUrl\": \"jdbc:mysql://localhost:3306/foodmart\",\n",
      "        \"jdbcUser\": \"root\",\n",
      "        \"jdbcPassword\": \"devops+mysql\"\n",
      "      }\n",
      "    },\n",
      "    {\n",
      "      \"name\": \"foodmart_clone\",\n",
      "      \"type\": \"custom\",\n",
      "      \"factory\": \"org.apache.calcite.adapter.clone.CloneSchema$Factory\",\n",
      "      // \"operand\": {\n",
      "      //   \"source\": \"foodmart\"\n",
      "      // }\n",
      "      \"operand\": {\n",
      "        \"jdbcDriver\": \"com.mysql.jdbc.Driver\",\n",
      "        \"jdbcUrl\": \"jdbc:mysql://localhost:3306/foodmart\",\n",
      "        \"jdbcUser\": \"root\",\n",
      "        \"jdbcPassword\": \"devops+mysql\"\n",
      "      }\n",
      "    }\n",
      "  ]\n",
      "}\n"
     ]
    },
    {
     "data": {
      "text/plain": [
       "\u001b[36mfoodmartCloneModelFile\u001b[39m: \u001b[32mString\u001b[39m = \u001b[32m\"mysql-foodmart-clone.json\"\u001b[39m"
      ]
     },
     "execution_count": 21,
     "metadata": {},
     "output_type": "execute_result"
    }
   ],
   "source": [
    "val foodmartCloneModelFile = \"mysql-foodmart-clone.json\"\n",
    "println(os.read(os.pwd / foodmartCloneModelFile))"
   ]
  },
  {
   "cell_type": "code",
   "execution_count": 22,
   "metadata": {},
   "outputs": [
    {
     "name": "stdout",
     "output_type": "stream",
     "text": [
      "Status: OK\n",
      "Transaction isolation level TRANSACTION_REPEATABLE_READ is not supported. Default (TRANSACTION_NONE) will be used instead.\n",
      "+-----------+----------------+-----------------+--------------+---------+----------+------------+-----------+---------------------------+----------------+\n",
      "| TABLE_CAT |  TABLE_SCHEM   |   TABLE_NAME    |  TABLE_TYPE  | REMARKS | TYPE_CAT | TYPE_SCHEM | TYPE_NAME | SELF_REFERENCING_COL_NAME | REF_GENERATION |\n",
      "+-----------+----------------+-----------------+--------------+---------+----------+------------+-----------+---------------------------+----------------+\n",
      "|           | foodmart       | customer        | TABLE        |         |          |            |           |                           |                |\n",
      "|           | foodmart       | product         | TABLE        |         |          |            |           |                           |                |\n",
      "|           | foodmart       | product_class   | TABLE        |         |          |            |           |                           |                |\n",
      "|           | foodmart       | sales_fact_1997 | TABLE        |         |          |            |           |                           |                |\n",
      "|           | foodmart       | time_by_day     | TABLE        |         |          |            |           |                           |                |\n",
      "|           | foodmart_clone | customer        | TABLE        |         |          |            |           |                           |                |\n",
      "|           | foodmart_clone | product         | TABLE        |         |          |            |           |                           |                |\n",
      "|           | foodmart_clone | product_class   | TABLE        |         |          |            |           |                           |                |\n",
      "|           | foodmart_clone | sales_fact_1997 | TABLE        |         |          |            |           |                           |                |\n",
      "|           | foodmart_clone | time_by_day     | TABLE        |         |          |            |           |                           |                |\n",
      "|           | metadata       | COLUMNS         | SYSTEM TABLE |         |          |            |           |                           |                |\n",
      "|           | metadata       | TABLES          | SYSTEM TABLE |         |          |            |           |                           |                |\n",
      "+-----------+----------------+-----------------+--------------+---------+----------+------------+-----------+---------------------------+----------------+\n",
      "sqlline version 1.12.0\n",
      "\n"
     ]
    },
    {
     "data": {
      "text/plain": [
       "\u001b[36mdbUrl\u001b[39m: \u001b[32mString\u001b[39m = \u001b[32m\"jdbc:calcite:model=mysql-foodmart-clone.json\"\u001b[39m"
      ]
     },
     "execution_count": 22,
     "metadata": {},
     "output_type": "execute_result"
    }
   ],
   "source": [
    "val dbUrl = \"jdbc:calcite:model=\" + foodmartCloneModelFile\n",
    "execCommand(dbUrl, command=\"!tables\")"
   ]
  },
  {
   "cell_type": "code",
   "execution_count": 23,
   "metadata": {},
   "outputs": [
    {
     "name": "stdout",
     "output_type": "stream",
     "text": [
      "Status: OK\n",
      "Transaction isolation level TRANSACTION_REPEATABLE_READ is not supported. Default (TRANSACTION_NONE) will be used instead.\n",
      "+-------------+-------------+-----------+---------+----+------------------------+----------+----------+----------+-------------+----------------+-------------+---------+--------------------+--------------+--------------+------------+----------------+---------------+--------+----------------+----------------------+---------------------+-------------------+-------------+----------------+------------+----------------+------------------+\n",
      "| customer_id | account_num |   lname   |  fname  | mi |        address1        | address2 | address3 | address4 |    city     | state_province | postal_code | country | customer_region_id |    phone1    |    phone2    | birthdate  | marital_status | yearly_income | gender | total_children | num_children_at_home |      education      | date_accnt_opened | member_card |   occupation   | houseowner | num_cars_owned |     fullname     |\n",
      "+-------------+-------------+-----------+---------+----+------------------------+----------+----------+----------+-------------+----------------+-------------+---------+--------------------+--------------+--------------+------------+----------------+---------------+--------+----------------+----------------------+---------------------+-------------------+-------------+----------------+------------+----------------+------------------+\n",
      "| 1           | 87462024688 | Nowmer    | Sheri   | A. | 2433 Bailey Road       |          |          |          | Tlaxiaco    | Oaxaca         | 15057       | Mexico  | 30                 | 271-555-9715 | 119-555-1969 | 1961-08-26 | M              | $30K - $50K   | F      | 4              | 2                    | Partial High School | 1991-09-10        | Bronze      | Skilled Manual | Y          | 4              | Sheri Nowmer     |\n",
      "| 2           | 87470586299 | Whelply   | Derrick | I. | 2219 Dewing Avenue     |          |          |          | Sooke       | BC             | 17172       | Canada  | 101                | 211-555-7669 | 807-555-9033 | 1915-07-03 | S              | $70K - $90K   | M      | 1              | 0                    | Partial High School | 1993-03-11        | Bronze      | Professional   | N          | 3              | Derrick Whelply  |\n",
      "| 3           | 87475757600 | Derry     | Jeanne  |    | 7640 First Ave.        |          |          |          | Issaquah    | WA             | 73980       | USA     | 21                 | 656-555-2272 | 221-555-2493 | 1910-06-21 | M              | $50K - $70K   | F      | 1              | 1                    | Bachelors Degree    | 1991-06-11        | Bronze      | Professional   | Y          | 2              | Jeanne Derry     |\n",
      "| 4           | 87500482201 | Spence    | Michael | J. | 337 Tosca Way          |          |          |          | Burnaby     | BC             | 74674       | Canada  | 92                 | 929-555-7279 | 272-555-2844 | 1969-06-20 | M              | $10K - $30K   | M      | 4              | 4                    | Partial High School | 1994-05-21        | Normal      | Skilled Manual | N          | 2              | Michael Spence   |\n",
      "| 5           | 87514054179 | Gutierrez | Maya    |    | 8668 Via Neruda        |          |          |          | Novato      | CA             | 57355       | USA     | 42                 | 387-555-7172 | 260-555-6936 | 1951-05-10 | S              | $30K - $50K   | F      | 3              | 0                    | Partial College     | 1992-08-21        | Silver      | Manual         | N          | 3              | Maya Gutierrez   |\n",
      "| 6           | 87517782449 | Damstra   | Robert  | F. | 1619 Stillman Court    |          |          |          | Lynnwood    | WA             | 90792       | USA     | 75                 | 922-555-5465 | 333-555-5915 | 1942-10-08 | S              | $70K - $90K   | F      | 3              | 0                    | Bachelors Degree    | 1992-04-05        | Bronze      | Professional   | Y          | 3              | Robert Damstra   |\n",
      "| 7           | 87521172800 | Kanagaki  | Rebecca |    | 2860 D Mt. Hood Circle |          |          |          | Tlaxiaco    | Oaxaca         | 13343       | Mexico  | 30                 | 515-555-6247 | 934-555-9211 | 1949-03-27 | M              | $30K - $50K   | F      | 2              | 1                    | Partial High School | 1991-05-01        | Bronze      | Manual         | Y          | 3              | Rebecca Kanagaki |\n",
      "| 8           | 87539744377 | Brunner   | Kim     | H. | 6064 Brodia Court      |          |          |          | San Andres  | DF             | 12942       | Mexico  | 106                | 411-555-6825 | 130-555-6818 | 1922-08-10 | M              | $50K - $70K   | M      | 2              | 2                    | Bachelors Degree    | 1992-06-11        | Bronze      | Professional   | Y          | 3              | Kim Brunner      |\n",
      "| 9           | 87544797658 | Blumberg  | Brenda  | C. | 7560 Trees Drive       |          |          |          | Richmond    | BC             | 17256       | Canada  | 90                 | 815-555-3975 | 642-555-6483 | 1979-06-23 | M              | $10K - $30K   | M      | 5              | 3                    | Partial High School | 1993-11-14        | Normal      | Skilled Manual | Y          | 1              | Brenda Blumberg  |\n",
      "| 10          | 87568712234 | Stanz     | Darren  | M. | 1019 Kenwal Rd.        |          |          |          | Lake Oswego | OR             | 82017       | USA     | 64                 | 847-555-5443 | 212-555-8635 | 1949-08-26 | S              | $30K - $50K   | M      | 4              | 0                    | Bachelors Degree    | 1993-05-04        | Golden      | Management     | N          | 4              | Darren Stanz     |\n",
      "+-------------+-------------+-----------+---------+----+------------------------+----------+----------+----------+-------------+----------------+-------------+---------+--------------------+--------------+--------------+------------+----------------+---------------+--------+----------------+----------------------+---------------------+-------------------+-------------+----------------+------------+----------------+------------------+\n",
      "10 rows selected (0.47 seconds)\n",
      "sqlline version 1.12.0\n",
      "\n"
     ]
    }
   ],
   "source": [
    "execCommand(dbUrl, command=\"\"\"\n",
    "SELECT * FROM \"foodmart_clone\".\"customer\" LIMIT 10;\n",
    "\"\"\")"
   ]
  }
 ],
 "metadata": {
  "kernelspec": {
   "display_name": "Scala",
   "language": "scala",
   "name": "scala"
  },
  "language_info": {
   "codemirror_mode": "text/x-scala",
   "file_extension": ".sc",
   "mimetype": "text/x-scala",
   "name": "scala",
   "nbconvert_exporter": "script",
   "version": "2.13.14"
  }
 },
 "nbformat": 4,
 "nbformat_minor": 2
}
