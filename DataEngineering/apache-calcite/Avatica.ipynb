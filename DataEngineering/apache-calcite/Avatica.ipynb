{
 "cells": [
  {
   "cell_type": "markdown",
   "metadata": {},
   "source": [
    "# Avatica"
   ]
  },
  {
   "cell_type": "code",
   "execution_count": null,
   "metadata": {},
   "outputs": [
    {
     "data": {
      "text/plain": [
       "\u001b[32mimport \u001b[39m\u001b[36m$ivy.$                                                            \n",
       "\u001b[39m\r\n",
       "\u001b[32mimport \u001b[39m\u001b[36m$ivy.$                                               \n",
       "\u001b[39m\r\n",
       "\u001b[32mimport \u001b[39m\u001b[36m$ivy.$                                                 \n",
       "\n",
       "\u001b[39m\r\n",
       "\u001b[32mimport \u001b[39m\u001b[36m$ivy.$                          \r\n",
       "\u001b[39m"
      ]
     },
     "execution_count": 2,
     "metadata": {},
     "output_type": "execute_result"
    }
   ],
   "source": [
    "import $ivy.`org.apache.calcite.avatica:avatica-standalone-server:1.25.0`\n",
    "import $ivy.`org.apache.calcite.avatica:avatica-core:1.25.0`\n",
    "import $ivy.`org.apache.calcite.avatica:avatica-server:1.25.0`\n",
    "\n",
    "import $ivy.`com.beust:jcommander:1.72`"
   ]
  },
  {
   "cell_type": "markdown",
   "metadata": {},
   "source": [
    "# StandaloneServer\n",
    "\n",
    "Docker: https://calcite.apache.org/avatica/docs/docker.html"
   ]
  },
  {
   "cell_type": "code",
   "execution_count": null,
   "metadata": {},
   "outputs": [
    {
     "ename": "com.beust.jcommander.ParameterException",
     "evalue": "Was passed main parameter '-u' but no main parameter was defined in your arg class",
     "output_type": "error",
     "traceback": [
      "\u001b[31mcom.beust.jcommander.ParameterException: Was passed main parameter '-u' but no main parameter was defined in your arg class\u001b[39m",
      "  com.beust.jcommander.JCommander.initMainParameterValue(\u001b[32mJCommander.java\u001b[39m:\u001b[32m936\u001b[39m)",
      "  com.beust.jcommander.JCommander.parseValues(\u001b[32mJCommander.java\u001b[39m:\u001b[32m752\u001b[39m)",
      "  com.beust.jcommander.JCommander.parse(\u001b[32mJCommander.java\u001b[39m:\u001b[32m340\u001b[39m)",
      "  com.beust.jcommander.JCommander.parse(\u001b[32mJCommander.java\u001b[39m:\u001b[32m319\u001b[39m)",
      "  ammonite.$sess.cmd9$Helper.<init>(\u001b[32mcmd9.sc\u001b[39m:\u001b[32m7\u001b[39m)",
      "  ammonite.$sess.cmd9$.<clinit>(\u001b[32mcmd9.sc\u001b[39m:\u001b[32m65438\u001b[39m)"
     ]
    }
   ],
   "source": [
    "// import org.apache.calcite.avatica.standalone.StandaloneServer\n",
    "// import com.beust.jcommander.JCommander\n",
    "\n",
    "// val server = new StandaloneServer()\n",
    "// val jc = new JCommander(server) // NOT WORKING in Scala\n",
    "// // com.beust.jcommander.ParameterException: Was passed main parameter '-u' but no main parameter was defined in your arg class\n",
    "// val args = Array(\"-u\", \"jdbc:calcite:local\", \"-p\", \"3307\")\n",
    "// jc.parse(args : _*)\n",
    "\n",
    "// server.start()\n",
    "\n",
    "// server.join()\n",
    "\n",
    "// \n",
    "// $ java -jar avatica-standalone-server-1.25.0-SNAPSHOT-shadow.jar -u jdbc:mysql://localhost:3306/foodmart -p 3307"
   ]
  },
  {
   "cell_type": "markdown",
   "metadata": {},
   "source": [
    "# JDBC Client"
   ]
  },
  {
   "cell_type": "code",
   "execution_count": null,
   "metadata": {},
   "outputs": [
    {
     "name": "stdout",
     "output_type": "stream",
     "text": [
      "Compiling d:\\GoogleDrive\\wiki\\jupyter-notebooks\\DataEngineering\\snippets\\Asciitable.sc\n"
     ]
    },
    {
     "name": "stderr",
     "output_type": "stream",
     "text": [
      "-- Warning: d:\\GoogleDrive\\wiki\\jupyter-notebooks\\DataEngineering\\snippets\\Asciitable.sc:3:14 \n",
      "3 |package $sess.^.snippets\n",
      "  |              ^\n",
      "  |The package name `^` will be encoded on the classpath, and can lead to undefined behaviour.\n"
     ]
    },
    {
     "name": "stdout",
     "output_type": "stream",
     "text": [
      "Compiling d:\\GoogleDrive\\wiki\\jupyter-notebooks\\DataEngineering\\snippets\\JavaSQL.sc\n"
     ]
    },
    {
     "name": "stderr",
     "output_type": "stream",
     "text": [
      "-- Warning: d:\\GoogleDrive\\wiki\\jupyter-notebooks\\DataEngineering\\snippets\\JavaSQL.sc:3:14 \n",
      "3 |package $sess.^.snippets\n",
      "  |              ^\n",
      "  |The package name `^` will be encoded on the classpath, and can lead to undefined behaviour.\n",
      "-- Warning: cmd1.sc:23:27 ------------------------------------------------------\n",
      "23 |val res1_7 = DriverManager.setLogStream(java.lang.System.out)\n",
      "   |             ^^^^^^^^^^^^^^^^^^^^^^^^^^\n",
      "   |method setLogStream in object DriverManager is deprecated since : see corresponding Javadoc for more information.\n",
      "SLF4J: Failed to load class \"org.slf4j.impl.StaticLoggerBinder\".\n",
      "SLF4J: Defaulting to no-operation (NOP) logger implementation\n",
      "SLF4J: See http://www.slf4j.org/codes.html#StaticLoggerBinder for further details.\n"
     ]
    },
    {
     "name": "stdout",
     "output_type": "stream",
     "text": [
      "class org.apache.calcite.avatica.remote.Driver\n",
      "DriverManager.getConnection(\"jdbc:avatica:remote:url=http://127.0.0.1:5678;serialization=json;http_connection_timeout=5000;http_response_timeout=5000\")\n",
      "DriverManager.initialize: jdbc.drivers = null\n",
      "JDBC DriverManager initialized\n",
      "    trying org.apache.calcite.avatica.remote.Driver\n",
      "getConnection returning org.apache.calcite.avatica.remote.Driver\n",
      "┌───────────┬───────────┬─────────┬───────┬──┬────────┬────────┬────────┬────────┬────────┬──────────────┬───────────┬───────┬──────────────────┬────────────┬────────────┬──────────┬──────────────┬─────────────┬──────┬──────────────┬────────────────────┬─────────┬─────────────────┬───────────┬────────────┬──────────┬──────────────┬─────────┐\n",
      "│customer_id│account_num│lname    │fname  │mi│address1│address2│address3│address4│city    │state_province│postal_code│country│customer_region_id│phone1      │phone2      │birthdate │marital_status│yearly_income│gender│total_children│num_children_at_home│education│date_accnt_opened│member_card│occupation  │houseowner│num_cars_owned│fullname │\n",
      "├───────────┼───────────┼─────────┼───────┼──┼────────┼────────┼────────┼────────┼────────┼──────────────┼───────────┼───────┼──────────────────┼────────────┼────────────┼──────────┼──────────────┼─────────────┼──────┼──────────────┼────────────────────┼─────────┼─────────────────┼───────────┼────────────┼──────────┼──────────────┼─────────┤\n",
      "│1          │87462024688│Nowmer   │Sheri  │A.│2433    │        │        │        │Tlaxiaco│Oaxaca        │15057      │Mexico │30                │271-555-9715│119-555-1969│1961-08-26│M             │$30K - $50K  │F     │4             │2                   │Partial  │1991-09-10       │Bronze     │Skilled     │Y         │4             │Sheri    │\n",
      "│           │           │         │       │  │Bailey  │        │        │        │        │              │           │       │                  │            │            │          │              │             │      │              │                    │High     │                 │           │Manual      │          │              │Nowmer   │\n",
      "│           │           │         │       │  │Road    │        │        │        │        │              │           │       │                  │            │            │          │              │             │      │              │                    │School   │                 │           │            │          │              │         │\n",
      "│2          │87470586299│Whelply  │Derrick│I.│2219    │        │        │        │Sooke   │BC            │17172      │Canada │101               │211-555-7669│807-555-9033│1915-07-03│S             │$70K - $90K  │M     │1             │0                   │Partial  │1993-03-11       │Bronze     │Professional│N         │3             │Derrick  │\n",
      "│           │           │         │       │  │Dewing  │        │        │        │        │              │           │       │                  │            │            │          │              │             │      │              │                    │High     │                 │           │            │          │              │Whelply  │\n",
      "│           │           │         │       │  │Avenue  │        │        │        │        │              │           │       │                  │            │            │          │              │             │      │              │                    │School   │                 │           │            │          │              │         │\n",
      "│3          │87475757600│Derry    │Jeanne │  │7640    │        │        │        │Issaquah│WA            │73980      │USA    │21                │656-555-2272│221-555-2493│1910-06-21│M             │$50K - $70K  │F     │1             │1                   │Bachelors│1991-06-11       │Bronze     │Professional│Y         │2             │Jeanne   │\n",
      "│           │           │         │       │  │First   │        │        │        │        │              │           │       │                  │            │            │          │              │             │      │              │                    │Degree   │                 │           │            │          │              │Derry    │\n",
      "│           │           │         │       │  │Ave.    │        │        │        │        │              │           │       │                  │            │            │          │              │             │      │              │                    │         │                 │           │            │          │              │         │\n",
      "│4          │87500482201│Spence   │Michael│J.│337     │        │        │        │Burnaby │BC            │74674      │Canada │92                │929-555-7279│272-555-2844│1969-06-20│M             │$10K - $30K  │M     │4             │4                   │Partial  │1994-05-21       │Normal     │Skilled     │N         │2             │Michael  │\n",
      "│           │           │         │       │  │Tosca   │        │        │        │        │              │           │       │                  │            │            │          │              │             │      │              │                    │High     │                 │           │Manual      │          │              │Spence   │\n",
      "│           │           │         │       │  │Way     │        │        │        │        │              │           │       │                  │            │            │          │              │             │      │              │                    │School   │                 │           │            │          │              │         │\n",
      "│5          │87514054179│Gutierrez│Maya   │  │8668 Via│        │        │        │Novato  │CA            │57355      │USA    │42                │387-555-7172│260-555-6936│1951-05-10│S             │$30K - $50K  │F     │3             │0                   │Partial  │1992-08-21       │Silver     │Manual      │N         │3             │Maya     │\n",
      "│           │           │         │       │  │Neruda  │        │        │        │        │              │           │       │                  │            │            │          │              │             │      │              │                    │College  │                 │           │            │          │              │Gutierrez│\n",
      "│6          │87517782449│Damstra  │Robert │F.│1619    │        │        │        │Lynnwood│WA            │90792      │USA    │75                │922-555-5465│333-555-5915│1942-10-08│S             │$70K - $90K  │F     │3             │0                   │Bachelors│1992-04-05       │Bronze     │Professional│Y         │3             │Robert   │\n",
      "│           │           │         │       │  │Stillman│        │        │        │        │              │           │       │                  │            │            │          │              │             │      │              │                    │Degree   │                 │           │            │          │              │Damstra  │\n",
      "│           │           │         │       │  │Court   │        │        │        │        │              │           │       │                  │            │            │          │              │             │      │              │                    │         │                 │           │            │          │              │         │\n",
      "│7          │87521172800│Kanagaki │Rebecca│  │2860   D│        │        │        │Tlaxiaco│Oaxaca        │13343      │Mexico │30                │515-555-6247│934-555-9211│1949-03-27│M             │$30K - $50K  │F     │2             │1                   │Partial  │1991-05-01       │Bronze     │Manual      │Y         │3             │Rebecca  │\n",
      "│           │           │         │       │  │Mt. Hood│        │        │        │        │              │           │       │                  │            │            │          │              │             │      │              │                    │High     │                 │           │            │          │              │Kanagaki │\n",
      "│           │           │         │       │  │Circle  │        │        │        │        │              │           │       │                  │            │            │          │              │             │      │              │                    │School   │                 │           │            │          │              │         │\n",
      "│8          │87539744377│Brunner  │Kim    │H.│6064    │        │        │        │San     │DF            │12942      │Mexico │106               │411-555-6825│130-555-6818│1922-08-10│M             │$50K - $70K  │M     │2             │2                   │Bachelors│1992-06-11       │Bronze     │Professional│Y         │3             │Kim      │\n",
      "│           │           │         │       │  │Brodia  │        │        │        │Andres  │              │           │       │                  │            │            │          │              │             │      │              │                    │Degree   │                 │           │            │          │              │Brunner  │\n",
      "│           │           │         │       │  │Court   │        │        │        │        │              │           │       │                  │            │            │          │              │             │      │              │                    │         │                 │           │            │          │              │         │\n",
      "│9          │87544797658│Blumberg │Brenda │C.│7560    │        │        │        │Richmond│BC            │17256      │Canada │90                │815-555-3975│642-555-6483│1979-06-23│M             │$10K - $30K  │M     │5             │3                   │Partial  │1993-11-14       │Normal     │Skilled     │Y         │1             │Brenda   │\n",
      "│           │           │         │       │  │Trees   │        │        │        │        │              │           │       │                  │            │            │          │              │             │      │              │                    │High     │                 │           │Manual      │          │              │Blumberg │\n",
      "│           │           │         │       │  │Drive   │        │        │        │        │              │           │       │                  │            │            │          │              │             │      │              │                    │School   │                 │           │            │          │              │         │\n",
      "│10         │87568712234│Stanz    │Darren │M.│1019    │        │        │        │Lake    │OR            │82017      │USA    │64                │847-555-5443│212-555-8635│1949-08-26│S             │$30K - $50K  │M     │4             │0                   │Bachelors│1993-05-04       │Golden     │Management  │N         │4             │Darren   │\n",
      "│           │           │         │       │  │Kenwal  │        │        │        │Oswego  │              │           │       │                  │            │            │          │              │             │      │              │                    │Degree   │                 │           │            │          │              │Stanz    │\n",
      "│           │           │         │       │  │Rd.     │        │        │        │        │              │           │       │                  │            │            │          │              │             │      │              │                    │         │                 │           │            │          │              │         │\n",
      "└───────────┴───────────┴─────────┴───────┴──┴────────┴────────┴────────┴────────┴────────┴──────────────┴───────────┴───────┴──────────────────┴────────────┴────────────┴──────────┴──────────────┴─────────────┴──────┴──────────────┴────────────────────┴─────────┴─────────────────┴───────────┴────────────┴──────────┴──────────────┴─────────┘\n"
     ]
    },
    {
     "data": {
      "text/plain": [
       "\u001b[32mimport \u001b[39m\u001b[36m$ivy.$                                               \n",
       "// import $ivy.`mysql:mysql-connector-java:5.1.41`\n",
       "\n",
       "\u001b[39m\r\n",
       "\u001b[32mimport \u001b[39m\u001b[36m$ivy.$                               \n",
       "\n",
       "\u001b[39m\r\n",
       "\u001b[32mimport \u001b[39m\u001b[36m$file.$                    , Asciitable._\n",
       "\u001b[39m\r\n",
       "\u001b[32mimport \u001b[39m\u001b[36m$file.$                 , JavaSQL._\n",
       "\n",
       "\u001b[39m\r\n",
       "\u001b[32mimport \u001b[39m\u001b[36mjava.sql.*\n",
       "\n",
       "//\n",
       "// org.apache.calcite.avatica.standalone.StandaloneServer\n",
       "// === args\n",
       "// -u jdbc:mysql://127.0.0.1:3306/foodmart?useSSL=false -s json -p 5678\n",
       "// === with MySQL user/password\n",
       "// JdbcMeta meta = new JdbcMeta(url, \"root\", \"devops+mysql\");\n",
       "\n",
       "// Client Reference\n",
       "// https://calcite.apache.org/avatica/docs/client_reference.html\n",
       "\n",
       "\u001b[39m\r\n",
       "\u001b[36mclazz\u001b[39m: \u001b[32mClass\u001b[39m[_] = class org.apache.calcite.avatica.remote.Driver\r\n",
       "\u001b[36murl\u001b[39m: \u001b[32mString\u001b[39m = \u001b[32m\"jdbc:avatica:remote:url=http://127.0.0.1:5678;serialization=json;http_connection_timeout=5000;http_response_timeout=5000\"\u001b[39m\r\n",
       "\u001b[36mconnection\u001b[39m: \u001b[32mConnection\u001b[39m = org.apache.calcite.avatica.AvaticaJdbc41Factory$AvaticaJdbc41Connection@447bbc0e\r\n",
       "\u001b[36mstmt\u001b[39m: \u001b[32mStatement\u001b[39m = org.apache.calcite.avatica.AvaticaJdbc41Factory$AvaticaJdbc41Statement@5b891a7\r\n",
       "\u001b[36mrs\u001b[39m: \u001b[32mResultSet\u001b[39m = org.apache.calcite.avatica.AvaticaResultSet@205aa201\r\n",
       "\u001b[36mheader\u001b[39m: \u001b[32mList\u001b[39m[\u001b[32mString\u001b[39m] = \u001b[33mList\u001b[39m(\n",
       "  \u001b[32m\"customer_id\"\u001b[39m,\n",
       "  \u001b[32m\"account_num\"\u001b[39m,\n",
       "  \u001b[32m\"lname\"\u001b[39m,\n",
       "  \u001b[32m\"fname\"\u001b[39m,\n",
       "  \u001b[32m\"mi\"\u001b[39m,\n",
       "  \u001b[32m\"address1\"\u001b[39m,\n",
       "  \u001b[32m\"address2\"\u001b[39m,\n",
       "  \u001b[32m\"address3\"\u001b[39m,\n",
       "  \u001b[32m\"address4\"\u001b[39m,\n",
       "  \u001b[32m\"city\"\u001b[39m,\n",
       "  \u001b[32m\"state_province\"\u001b[39m,\n",
       "  \u001b[32m\"postal_code\"\u001b[39m,\n",
       "  \u001b[32m\"country\"\u001b[39m,\n",
       "  \u001b[32m\"customer_region_id\"\u001b[39m,\n",
       "  \u001b[32m\"phone1\"\u001b[39m,\n",
       "  \u001b[32m\"phone2\"\u001b[39m,\n",
       "  \u001b[32m\"birthdate\"\u001b[39m,\n",
       "  \u001b[32m\"marital_status\"\u001b[39m,\n",
       "  \u001b[32m\"yearly_income\"\u001b[39m,\n",
       "  \u001b[32m\"gender\"\u001b[39m,\n",
       "  \u001b[32m\"total_children\"\u001b[39m,\n",
       "  \u001b[32m\"num_children_at_home\"\u001b[39m,\n",
       "  \u001b[32m\"education\"\u001b[39m,\n",
       "  \u001b[32m\"date_accnt_opened\"\u001b[39m,\n",
       "  \u001b[32m\"member_card\"\u001b[39m,\n",
       "  \u001b[32m\"occupation\"\u001b[39m,\n",
       "  \u001b[32m\"houseowner\"\u001b[39m,\n",
       "  \u001b[32m\"num_cars_owned\"\u001b[39m,\n",
       "  \u001b[32m\"fullname\"\u001b[39m\n",
       ")\r\n",
       "\u001b[36mrows\u001b[39m: \u001b[32mList\u001b[39m[\u001b[32mList\u001b[39m[\u001b[32mString\u001b[39m]] = \u001b[33mList\u001b[39m(\n",
       "  \u001b[33mList\u001b[39m(\n",
       "    \u001b[32m\"1\"\u001b[39m,\n",
       "    \u001b[32m\"87462024688\"\u001b[39m,\n",
       "    \u001b[32m\"Nowmer\"\u001b[39m,\n",
       "    \u001b[32m\"Sheri\"\u001b[39m,\n",
       "    \u001b[32m\"A.\"\u001b[39m,\n",
       "    \u001b[32m\"2433 Bailey Road\"\u001b[39m,\n",
       "    \u001b[32m\"\"\u001b[39m,\n",
       "    \u001b[32m\"\"\u001b[39m,\n",
       "    \u001b[32m\"\"\u001b[39m,\n",
       "    \u001b[32m\"Tlaxiaco\"\u001b[39m,\n",
       "    \u001b[32m\"Oaxaca\"\u001b[39m,\n",
       "    \u001b[32m\"15057\"\u001b[39m,\n",
       "    \u001b[32m\"Mexico\"\u001b[39m,\n",
       "    \u001b[32m\"30\"\u001b[39m,\n",
       "    \u001b[32m\"271-555-9715\"\u001b[39m,\n",
       "    \u001b[32m\"119-555-1969\"\u001b[39m,\n",
       "    \u001b[32m\"1961-08-26\"\u001b[39m,\n",
       "    \u001b[32m\"M\"\u001b[39m,\n",
       "    \u001b[32m\"$30K - $50K\"\u001b[39m,\n",
       "    \u001b[32m\"F\"\u001b[39m,\n",
       "    \u001b[32m\"4\"\u001b[39m,\n",
       "    \u001b[32m\"2\"\u001b[39m,\n",
       "    \u001b[32m\"Partial High School\"\u001b[39m,\n",
       "    \u001b[32m\"1991-09-10\"\u001b[39m,\n",
       "    \u001b[32m\"Bronze\"\u001b[39m,\n",
       "    \u001b[32m\"Skilled Manual\"\u001b[39m,\n",
       "    \u001b[32m\"Y\"\u001b[39m,\n",
       "    \u001b[32m\"4\"\u001b[39m,\n",
       "    \u001b[32m\"Sheri Nowmer\"\u001b[39m\n",
       "  ),\n",
       "  \u001b[33mList\u001b[39m(\n",
       "    \u001b[32m\"2\"\u001b[39m,\n",
       "    \u001b[32m\"87470586299\"\u001b[39m,\n",
       "    \u001b[32m\"Whelply\"\u001b[39m,\n",
       "    \u001b[32m\"Derrick\"\u001b[39m,\n",
       "    \u001b[32m\"I.\"\u001b[39m,\n",
       "    \u001b[32m\"2219 Dewing Avenue\"\u001b[39m,\n",
       "..."
      ]
     },
     "execution_count": 1,
     "metadata": {},
     "output_type": "execute_result"
    }
   ],
   "source": [
    "import $ivy.`org.apache.calcite.avatica:avatica-core:1.25.0`\n",
    "// import $ivy.`mysql:mysql-connector-java:5.1.41`\n",
    "\n",
    "import $ivy.`de.vandermeer:asciitable:0.3.2`\n",
    "\n",
    "import $file.^.snippets.Asciitable, Asciitable._\n",
    "import $file.^.snippets.JavaSQL, JavaSQL._\n",
    "\n",
    "import java.sql.*\n",
    "\n",
    "//\n",
    "// org.apache.calcite.avatica.standalone.StandaloneServer\n",
    "// === args\n",
    "// -u jdbc:mysql://127.0.0.1:3306/foodmart?useSSL=false -s json -p 5678\n",
    "// === with MySQL user/password\n",
    "// JdbcMeta meta = new JdbcMeta(url, \"root\", \"devops+mysql\");\n",
    "\n",
    "// Client Reference\n",
    "// https://calcite.apache.org/avatica/docs/client_reference.html\n",
    "\n",
    "val clazz = Class.forName(\"org.apache.calcite.avatica.remote.Driver\")\n",
    "println(clazz)\n",
    "DriverManager.setLogStream(java.lang.System.out)\n",
    "val url = \"jdbc:avatica:remote:url=http://127.0.0.1:5678;serialization=json;http_connection_timeout=5000;http_response_timeout=5000\"\n",
    "val connection = DriverManager.getConnection(url)\n",
    "val stmt = connection.createStatement()\n",
    "val rs = stmt.executeQuery(\"SELECT * FROM customer LIMIT 10\")\n",
    "val (header, rows) = parse_rs(rs)\n",
    "print_table(header, rows)"
   ]
  },
  {
   "cell_type": "markdown",
   "metadata": {},
   "source": [
    "# Python Client\n",
    "\n",
    "NOT WORKING!!!"
   ]
  },
  {
   "cell_type": "code",
   "execution_count": null,
   "metadata": {},
   "outputs": [
    {
     "name": "stdout",
     "output_type": "stream",
     "text": [
      "Found existing installation: phoenixdb 1.2.2\n",
      "Uninstalling phoenixdb-1.2.2:\n",
      "  Successfully uninstalled phoenixdb-1.2.2\n"
     ]
    }
   ],
   "source": [
    "# !pip install phoenixdb\n",
    "# !pip install PyMySQL\n",
    "!pip uninstall phoenixdb -y"
   ]
  },
  {
   "cell_type": "code",
   "execution_count": 1,
   "metadata": {},
   "outputs": [],
   "source": [
    "# import phoenixdb\n",
    "# import phoenixdb.cursor\n",
    "\n",
    "# database_url = 'http://localhost:3307/'\n",
    "# conn = phoenixdb.connect(database_url, autocommit=True)\n",
    "\n",
    "# cursor = conn.cursor()\n",
    "# cursor.execute(\"CREATE TABLE users (id INTEGER PRIMARY KEY, username VARCHAR)\")\n",
    "# cursor.execute(\"UPSERT INTO users VALUES (?, ?)\", (1, 'admin'))\n",
    "# cursor.execute(\"SELECT * FROM users\")\n",
    "# print(cursor.fetchall())\n",
    "\n",
    "# cursor = conn.cursor(cursor_factory=phoenixdb.cursor.DictCursor)\n",
    "# cursor.execute(\"SELECT * FROM users WHERE id=1\")\n",
    "# print(cursor.fetchone()['USERNAME'])\n"
   ]
  }
 ],
 "metadata": {
  "kernelspec": {
   "display_name": "base",
   "language": "python",
   "name": "python3"
  },
  "language_info": {
   "codemirror_mode": {
    "name": "ipython",
    "version": 3
   },
   "file_extension": ".py",
   "mimetype": "text/x-python",
   "name": "python",
   "nbconvert_exporter": "python",
   "pygments_lexer": "ipython3",
   "version": "3.12.3"
  }
 },
 "nbformat": 4,
 "nbformat_minor": 2
}
