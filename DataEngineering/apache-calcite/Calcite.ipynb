{
 "cells": [
  {
   "cell_type": "markdown",
   "metadata": {},
   "source": [
    "# Apache Calcite\n",
    "* https://calcite.apache.org/"
   ]
  },
  {
   "cell_type": "code",
   "execution_count": 1,
   "metadata": {},
   "outputs": [
    {
     "name": "stdout",
     "output_type": "stream",
     "text": [
      "Scala code runner version: 1.5.4\n",
      "Scala version (default): 3.6.2"
     ]
    },
    {
     "data": {
      "text/plain": [
       "\u001b[32mimport \u001b[39m\u001b[36m$ivy.$                           \n",
       "// import $ivy.`sqlline:sqlline:1.12.0`, sqlline.SqlLine\n",
       "// import $ivy.`org.apache.calcite:calcite-csv:1.38.0`\n",
       "\u001b[39m\r\n",
       "\u001b[32mimport \u001b[39m\u001b[36m$ivy.$                               \n",
       "\n",
       "\u001b[39m\r\n",
       "\u001b[32mimport \u001b[39m\u001b[36m$file.$               , Scala._\n",
       "// import $file.^.snippets.Sqlline, Sqlline._\n",
       "\u001b[39m\r\n",
       "\u001b[32mimport \u001b[39m\u001b[36m$file.$                    , Asciitable._\n",
       "\n",
       "\u001b[39m"
      ]
     },
     "execution_count": 1,
     "metadata": {},
     "output_type": "execute_result"
    }
   ],
   "source": [
    "import $ivy.`com.lihaoyi::os-lib:0.11.3`\n",
    "// import $ivy.`sqlline:sqlline:1.12.0`, sqlline.SqlLine\n",
    "// import $ivy.`org.apache.calcite:calcite-csv:1.38.0`\n",
    "import $ivy.`de.vandermeer:asciitable:0.3.2`\n",
    "\n",
    "import $file.^.snippets.Scala, Scala._\n",
    "// import $file.^.snippets.Sqlline, Sqlline._\n",
    "import $file.^.snippets.Asciitable, Asciitable._\n",
    "\n",
    "exec(\"scala.bat\", \"--version\") // Scala 3.6.2"
   ]
  },
  {
   "cell_type": "markdown",
   "metadata": {},
   "source": [
    "# Tutorial\n",
    "\n",
    "see [_sqlline.ipynb](./_sqlline.ipynb)"
   ]
  },
  {
   "cell_type": "markdown",
   "metadata": {},
   "source": [
    "# Adapter\n",
    "* https://calcite.apache.org/docs/adapter.html"
   ]
  },
  {
   "cell_type": "markdown",
   "metadata": {},
   "source": [
    "## Driver"
   ]
  },
  {
   "cell_type": "code",
   "execution_count": 2,
   "metadata": {},
   "outputs": [
    {
     "data": {
      "text/plain": [
       "\u001b[32mimport \u001b[39m\u001b[36m$ivy.$                                       \n",
       "\u001b[39m\r\n",
       "\u001b[32mimport \u001b[39m\u001b[36m$file.$                 , JavaSQL._\n",
       "\n",
       "\u001b[39m\r\n",
       "\u001b[32mimport \u001b[39m\u001b[36mjava.sql.*\n",
       "// import org.apache.calcite.jdbc.Driver\n",
       "\n",
       "\u001b[39m\r\n",
       "defined \u001b[32mfunction\u001b[39m \u001b[36mgetConnection\u001b[39m\r\n",
       "defined \u001b[32mfunction\u001b[39m \u001b[36mgetTables\u001b[39m\r\n",
       "defined \u001b[32mfunction\u001b[39m \u001b[36mcloseConnection\u001b[39m"
      ]
     },
     "execution_count": 2,
     "metadata": {},
     "output_type": "execute_result"
    }
   ],
   "source": [
    "import $ivy.`org.apache.calcite:calcite-core:1.38.0`\n",
    "import $file.^.snippets.JavaSQL, JavaSQL._\n",
    "\n",
    "import java.sql.*\n",
    "// import org.apache.calcite.jdbc.Driver\n",
    "\n",
    "def getConnection(url: String): Connection = {\n",
    "  val connection = DriverManager.getConnection(url)\n",
    "  val dbMeta = connection.getMetaData\n",
    "  println(dbMeta.getDriverName)\n",
    "  connection\n",
    "}\n",
    "\n",
    "def getTables(connection: Connection) : Unit = {\n",
    "  // val rs = connection.getMetaData().getSchemas()\n",
    "  val rs = connection.getMetaData().getTables(null, null, null, null)\n",
    "\n",
    "  val (header, rows) = parse_rs(rs)\n",
    "  print_table(header, rows)\n",
    "}\n",
    "\n",
    "def closeConnection(connection: Connection) : Unit = {\n",
    "  connection.close\n",
    "}"
   ]
  },
  {
   "cell_type": "markdown",
   "metadata": {},
   "source": [
    "## JDBC"
   ]
  },
  {
   "cell_type": "markdown",
   "metadata": {},
   "source": [
    "### MySQL"
   ]
  },
  {
   "cell_type": "code",
   "execution_count": 3,
   "metadata": {},
   "outputs": [
    {
     "data": {
      "text/plain": [
       "\u001b[32mimport \u001b[39m\u001b[36m$ivy.$                                  \r\n",
       "\u001b[39m"
      ]
     },
     "execution_count": 3,
     "metadata": {},
     "output_type": "execute_result"
    }
   ],
   "source": [
    "import $ivy.`mysql:mysql-connector-java:8.0.32`"
   ]
  },
  {
   "cell_type": "code",
   "execution_count": 5,
   "metadata": {},
   "outputs": [
    {
     "name": "stdout",
     "output_type": "stream",
     "text": [
      "Calcite JDBC Driver\n",
      "┌─────────┬───────────┬───────────────┬──────────┬───────┬────────┬──────────┬─────────┬─────────────────────────┬──────────────┐\n",
      "│TABLE_CAT│TABLE_SCHEM│TABLE_NAME     │TABLE_TYPE│REMARKS│TYPE_CAT│TYPE_SCHEM│TYPE_NAME│SELF_REFERENCING_COL_NAME│REF_GENERATION│\n",
      "├─────────┼───────────┼───────────────┼──────────┼───────┼────────┼──────────┼─────────┼─────────────────────────┼──────────────┤\n",
      "│         │adhoc      │customer       │TABLE     │       │        │          │         │                         │              │\n",
      "│         │adhoc      │product        │TABLE     │       │        │          │         │                         │              │\n",
      "│         │adhoc      │product_class  │TABLE     │       │        │          │         │                         │              │\n",
      "│         │adhoc      │sales_fact_1997│TABLE     │       │        │          │         │                         │              │\n",
      "│         │adhoc      │time_by_day    │TABLE     │       │        │          │         │                         │              │\n",
      "│         │metadata   │COLUMNS        │SYSTEM    │       │        │          │         │                         │              │\n",
      "│         │           │               │TABLE     │       │        │          │         │                         │              │\n",
      "│         │metadata   │TABLES         │SYSTEM    │       │        │          │         │                         │              │\n",
      "│         │           │               │TABLE     │       │        │          │         │                         │              │\n",
      "└─────────┴───────────┴───────────────┴──────────┴───────┴────────┴──────────┴─────────┴─────────────────────────┴──────────────┘\n"
     ]
    },
    {
     "data": {
      "text/plain": [
       "\u001b[36mconnUrl\u001b[39m: \u001b[32mString\u001b[39m = \u001b[32m\"jdbc:calcite:schemaType=JDBC; schema.jdbcUser=root; schema.jdbcPassword=devops+mysql; schema.jdbcUrl=jdbc:mysql://localhost:3306/foodmart\"\u001b[39m\r\n",
       "\u001b[36mconnection\u001b[39m: \u001b[32mConnection\u001b[39m = org.apache.calcite.jdbc.CalciteJdbc41Factory$CalciteJdbc41Connection@142b40c6"
      ]
     },
     "execution_count": 5,
     "metadata": {},
     "output_type": "execute_result"
    }
   ],
   "source": [
    "val connUrl = \"jdbc:calcite:schemaType=JDBC; schema.jdbcUser=root; schema.jdbcPassword=devops+mysql; schema.jdbcUrl=jdbc:mysql://localhost:3306/foodmart\"\n",
    "val connection = getConnection(connUrl)\n",
    "getTables(connection)"
   ]
  },
  {
   "cell_type": "code",
   "execution_count": 4,
   "metadata": {},
   "outputs": [
    {
     "name": "stdout",
     "output_type": "stream",
     "text": [
      "┌───────────┬───────────┬─────────┬───────┬──┬────────┬────────┬────────┬────────┬────────┬──────────────┬───────────┬───────┬──────────────────┬────────────┬────────────┬──────────┬──────────────┬─────────────┬──────┬──────────────┬────────────────────┬─────────┬─────────────────┬───────────┬────────────┬──────────┬──────────────┬─────────┐\n",
      "│customer_id│account_num│lname    │fname  │mi│address1│address2│address3│address4│city    │state_province│postal_code│country│customer_region_id│phone1      │phone2      │birthdate │marital_status│yearly_income│gender│total_children│num_children_at_home│education│date_accnt_opened│member_card│occupation  │houseowner│num_cars_owned│fullname │\n",
      "├───────────┼───────────┼─────────┼───────┼──┼────────┼────────┼────────┼────────┼────────┼──────────────┼───────────┼───────┼──────────────────┼────────────┼────────────┼──────────┼──────────────┼─────────────┼──────┼──────────────┼────────────────────┼─────────┼─────────────────┼───────────┼────────────┼──────────┼──────────────┼─────────┤\n",
      "│1          │87462024688│Nowmer   │Sheri  │A.│2433    │        │        │        │Tlaxiaco│Oaxaca        │15057      │Mexico │30                │271-555-9715│119-555-1969│1961-08-26│M             │$30K - $50K  │F     │4             │2                   │Partial  │1991-09-10       │Bronze     │Skilled     │Y         │4             │Sheri    │\n",
      "│           │           │         │       │  │Bailey  │        │        │        │        │              │           │       │                  │            │            │          │              │             │      │              │                    │High     │                 │           │Manual      │          │              │Nowmer   │\n",
      "│           │           │         │       │  │Road    │        │        │        │        │              │           │       │                  │            │            │          │              │             │      │              │                    │School   │                 │           │            │          │              │         │\n",
      "│2          │87470586299│Whelply  │Derrick│I.│2219    │        │        │        │Sooke   │BC            │17172      │Canada │101               │211-555-7669│807-555-9033│1915-07-03│S             │$70K - $90K  │M     │1             │0                   │Partial  │1993-03-11       │Bronze     │Professional│N         │3             │Derrick  │\n",
      "│           │           │         │       │  │Dewing  │        │        │        │        │              │           │       │                  │            │            │          │              │             │      │              │                    │High     │                 │           │            │          │              │Whelply  │\n",
      "│           │           │         │       │  │Avenue  │        │        │        │        │              │           │       │                  │            │            │          │              │             │      │              │                    │School   │                 │           │            │          │              │         │\n",
      "│3          │87475757600│Derry    │Jeanne │  │7640    │        │        │        │Issaquah│WA            │73980      │USA    │21                │656-555-2272│221-555-2493│1910-06-21│M             │$50K - $70K  │F     │1             │1                   │Bachelors│1991-06-11       │Bronze     │Professional│Y         │2             │Jeanne   │\n",
      "│           │           │         │       │  │First   │        │        │        │        │              │           │       │                  │            │            │          │              │             │      │              │                    │Degree   │                 │           │            │          │              │Derry    │\n",
      "│           │           │         │       │  │Ave.    │        │        │        │        │              │           │       │                  │            │            │          │              │             │      │              │                    │         │                 │           │            │          │              │         │\n",
      "│4          │87500482201│Spence   │Michael│J.│337     │        │        │        │Burnaby │BC            │74674      │Canada │92                │929-555-7279│272-555-2844│1969-06-20│M             │$10K - $30K  │M     │4             │4                   │Partial  │1994-05-21       │Normal     │Skilled     │N         │2             │Michael  │\n",
      "│           │           │         │       │  │Tosca   │        │        │        │        │              │           │       │                  │            │            │          │              │             │      │              │                    │High     │                 │           │Manual      │          │              │Spence   │\n",
      "│           │           │         │       │  │Way     │        │        │        │        │              │           │       │                  │            │            │          │              │             │      │              │                    │School   │                 │           │            │          │              │         │\n",
      "│5          │87514054179│Gutierrez│Maya   │  │8668 Via│        │        │        │Novato  │CA            │57355      │USA    │42                │387-555-7172│260-555-6936│1951-05-10│S             │$30K - $50K  │F     │3             │0                   │Partial  │1992-08-21       │Silver     │Manual      │N         │3             │Maya     │\n",
      "│           │           │         │       │  │Neruda  │        │        │        │        │              │           │       │                  │            │            │          │              │             │      │              │                    │College  │                 │           │            │          │              │Gutierrez│\n",
      "│6          │87517782449│Damstra  │Robert │F.│1619    │        │        │        │Lynnwood│WA            │90792      │USA    │75                │922-555-5465│333-555-5915│1942-10-08│S             │$70K - $90K  │F     │3             │0                   │Bachelors│1992-04-05       │Bronze     │Professional│Y         │3             │Robert   │\n",
      "│           │           │         │       │  │Stillman│        │        │        │        │              │           │       │                  │            │            │          │              │             │      │              │                    │Degree   │                 │           │            │          │              │Damstra  │\n",
      "│           │           │         │       │  │Court   │        │        │        │        │              │           │       │                  │            │            │          │              │             │      │              │                    │         │                 │           │            │          │              │         │\n",
      "│7          │87521172800│Kanagaki │Rebecca│  │2860   D│        │        │        │Tlaxiaco│Oaxaca        │13343      │Mexico │30                │515-555-6247│934-555-9211│1949-03-27│M             │$30K - $50K  │F     │2             │1                   │Partial  │1991-05-01       │Bronze     │Manual      │Y         │3             │Rebecca  │\n",
      "│           │           │         │       │  │Mt. Hood│        │        │        │        │              │           │       │                  │            │            │          │              │             │      │              │                    │High     │                 │           │            │          │              │Kanagaki │\n",
      "│           │           │         │       │  │Circle  │        │        │        │        │              │           │       │                  │            │            │          │              │             │      │              │                    │School   │                 │           │            │          │              │         │\n",
      "│8          │87539744377│Brunner  │Kim    │H.│6064    │        │        │        │San     │DF            │12942      │Mexico │106               │411-555-6825│130-555-6818│1922-08-10│M             │$50K - $70K  │M     │2             │2                   │Bachelors│1992-06-11       │Bronze     │Professional│Y         │3             │Kim      │\n",
      "│           │           │         │       │  │Brodia  │        │        │        │Andres  │              │           │       │                  │            │            │          │              │             │      │              │                    │Degree   │                 │           │            │          │              │Brunner  │\n",
      "│           │           │         │       │  │Court   │        │        │        │        │              │           │       │                  │            │            │          │              │             │      │              │                    │         │                 │           │            │          │              │         │\n",
      "│9          │87544797658│Blumberg │Brenda │C.│7560    │        │        │        │Richmond│BC            │17256      │Canada │90                │815-555-3975│642-555-6483│1979-06-23│M             │$10K - $30K  │M     │5             │3                   │Partial  │1993-11-14       │Normal     │Skilled     │Y         │1             │Brenda   │\n",
      "│           │           │         │       │  │Trees   │        │        │        │        │              │           │       │                  │            │            │          │              │             │      │              │                    │High     │                 │           │Manual      │          │              │Blumberg │\n",
      "│           │           │         │       │  │Drive   │        │        │        │        │              │           │       │                  │            │            │          │              │             │      │              │                    │School   │                 │           │            │          │              │         │\n",
      "│10         │87568712234│Stanz    │Darren │M.│1019    │        │        │        │Lake    │OR            │82017      │USA    │64                │847-555-5443│212-555-8635│1949-08-26│S             │$30K - $50K  │M     │4             │0                   │Bachelors│1993-05-04       │Golden     │Management  │N         │4             │Darren   │\n",
      "│           │           │         │       │  │Kenwal  │        │        │        │Oswego  │              │           │       │                  │            │            │          │              │             │      │              │                    │Degree   │                 │           │            │          │              │Stanz    │\n",
      "│           │           │         │       │  │Rd.     │        │        │        │        │              │           │       │                  │            │            │          │              │             │      │              │                    │         │                 │           │            │          │              │         │\n",
      "└───────────┴───────────┴─────────┴───────┴──┴────────┴────────┴────────┴────────┴────────┴──────────────┴───────────┴───────┴──────────────────┴────────────┴────────────┴──────────┴──────────────┴─────────────┴──────┴──────────────┴────────────────────┴─────────┴─────────────────┴───────────┴────────────┴──────────┴──────────────┴─────────┘\n"
     ]
    },
    {
     "data": {
      "text/plain": [
       "\u001b[36mps\u001b[39m: \u001b[32mPreparedStatement\u001b[39m = org.apache.calcite.jdbc.CalciteJdbc41Factory$CalciteJdbc41PreparedStatement@46a06814\r\n",
       "\u001b[36mrs\u001b[39m: \u001b[32mResultSet\u001b[39m = org.apache.calcite.jdbc.CalciteResultSet@584cb742\r\n",
       "\u001b[36mheader\u001b[39m: \u001b[32mList\u001b[39m[\u001b[32mString\u001b[39m] = \u001b[33mList\u001b[39m(\n",
       "  \u001b[32m\"customer_id\"\u001b[39m,\n",
       "  \u001b[32m\"account_num\"\u001b[39m,\n",
       "  \u001b[32m\"lname\"\u001b[39m,\n",
       "  \u001b[32m\"fname\"\u001b[39m,\n",
       "  \u001b[32m\"mi\"\u001b[39m,\n",
       "  \u001b[32m\"address1\"\u001b[39m,\n",
       "  \u001b[32m\"address2\"\u001b[39m,\n",
       "  \u001b[32m\"address3\"\u001b[39m,\n",
       "  \u001b[32m\"address4\"\u001b[39m,\n",
       "  \u001b[32m\"city\"\u001b[39m,\n",
       "  \u001b[32m\"state_province\"\u001b[39m,\n",
       "  \u001b[32m\"postal_code\"\u001b[39m,\n",
       "  \u001b[32m\"country\"\u001b[39m,\n",
       "  \u001b[32m\"customer_region_id\"\u001b[39m,\n",
       "  \u001b[32m\"phone1\"\u001b[39m,\n",
       "  \u001b[32m\"phone2\"\u001b[39m,\n",
       "  \u001b[32m\"birthdate\"\u001b[39m,\n",
       "  \u001b[32m\"marital_status\"\u001b[39m,\n",
       "  \u001b[32m\"yearly_income\"\u001b[39m,\n",
       "  \u001b[32m\"gender\"\u001b[39m,\n",
       "  \u001b[32m\"total_children\"\u001b[39m,\n",
       "  \u001b[32m\"num_children_at_home\"\u001b[39m,\n",
       "  \u001b[32m\"education\"\u001b[39m,\n",
       "  \u001b[32m\"date_accnt_opened\"\u001b[39m,\n",
       "  \u001b[32m\"member_card\"\u001b[39m,\n",
       "  \u001b[32m\"occupation\"\u001b[39m,\n",
       "  \u001b[32m\"houseowner\"\u001b[39m,\n",
       "  \u001b[32m\"num_cars_owned\"\u001b[39m,\n",
       "  \u001b[32m\"fullname\"\u001b[39m\n",
       ")\r\n",
       "\u001b[36mrows\u001b[39m: \u001b[32mList\u001b[39m[\u001b[32mList\u001b[39m[\u001b[32mString\u001b[39m]] = \u001b[33mList\u001b[39m(\n",
       "  \u001b[33mList\u001b[39m(\n",
       "    \u001b[32m\"1\"\u001b[39m,\n",
       "    \u001b[32m\"87462024688\"\u001b[39m,\n",
       "    \u001b[32m\"Nowmer\"\u001b[39m,\n",
       "    \u001b[32m\"Sheri\"\u001b[39m,\n",
       "    \u001b[32m\"A.\"\u001b[39m,\n",
       "    \u001b[32m\"2433 Bailey Road\"\u001b[39m,\n",
       "    \u001b[32m\"\"\u001b[39m,\n",
       "    \u001b[32m\"\"\u001b[39m,\n",
       "    \u001b[32m\"\"\u001b[39m,\n",
       "    \u001b[32m\"Tlaxiaco\"\u001b[39m,\n",
       "    \u001b[32m\"Oaxaca\"\u001b[39m,\n",
       "    \u001b[32m\"15057\"\u001b[39m,\n",
       "    \u001b[32m\"Mexico\"\u001b[39m,\n",
       "    \u001b[32m\"30\"\u001b[39m,\n",
       "    \u001b[32m\"271-555-9715\"\u001b[39m,\n",
       "    \u001b[32m\"119-555-1969\"\u001b[39m,\n",
       "    \u001b[32m\"1961-08-26\"\u001b[39m,\n",
       "    \u001b[32m\"M\"\u001b[39m,\n",
       "    \u001b[32m\"$30K - $50K\"\u001b[39m,\n",
       "    \u001b[32m\"F\"\u001b[39m,\n",
       "    \u001b[32m\"4\"\u001b[39m,\n",
       "    \u001b[32m\"2\"\u001b[39m,\n",
       "    \u001b[32m\"Partial High School\"\u001b[39m,\n",
       "    \u001b[32m\"1991-09-10\"\u001b[39m,\n",
       "    \u001b[32m\"Bronze\"\u001b[39m,\n",
       "    \u001b[32m\"Skilled Manual\"\u001b[39m,\n",
       "    \u001b[32m\"Y\"\u001b[39m,\n",
       "    \u001b[32m\"4\"\u001b[39m,\n",
       "    \u001b[32m\"Sheri Nowmer\"\u001b[39m\n",
       "  ),\n",
       "  \u001b[33mList\u001b[39m(\n",
       "    \u001b[32m\"2\"\u001b[39m,\n",
       "    \u001b[32m\"87470586299\"\u001b[39m,\n",
       "    \u001b[32m\"Whelply\"\u001b[39m,\n",
       "    \u001b[32m\"Derrick\"\u001b[39m,\n",
       "    \u001b[32m\"I.\"\u001b[39m,\n",
       "    \u001b[32m\"2219 Dewing Avenue\"\u001b[39m,\n",
       "..."
      ]
     },
     "execution_count": 4,
     "metadata": {},
     "output_type": "execute_result"
    }
   ],
   "source": [
    "// query\n",
    "val ps = connection.prepareStatement(\"\"\"\n",
    "SELECT * FROM \"customer\" LIMIT 10\n",
    "\"\"\")\n",
    "val rs = ps.executeQuery()\n",
    "val (header, rows) = parse_rs(rs)\n",
    "print_table(header, rows)"
   ]
  },
  {
   "cell_type": "code",
   "execution_count": null,
   "metadata": {},
   "outputs": [],
   "source": [
    "closeConnection(connection)"
   ]
  },
  {
   "cell_type": "markdown",
   "metadata": {},
   "source": [
    "### PostgreSQL"
   ]
  },
  {
   "cell_type": "code",
   "execution_count": 4,
   "metadata": {},
   "outputs": [
    {
     "data": {
      "text/plain": [
       "\u001b[32mimport \u001b[39m\u001b[36m$ivy.$                                 \r\n",
       "\u001b[39m"
      ]
     },
     "execution_count": 4,
     "metadata": {},
     "output_type": "execute_result"
    }
   ],
   "source": [
    "import $ivy.`org.postgresql:postgresql:42.7.4`"
   ]
  },
  {
   "cell_type": "code",
   "execution_count": 5,
   "metadata": {},
   "outputs": [
    {
     "name": "stderr",
     "output_type": "stream",
     "text": [
      "SLF4J(W): No SLF4J providers were found.\n",
      "SLF4J(W): Defaulting to no-operation (NOP) logger implementation\n",
      "SLF4J(W): See https://www.slf4j.org/codes.html#noProviders for further details.\n"
     ]
    },
    {
     "name": "stdout",
     "output_type": "stream",
     "text": [
      "Calcite JDBC Driver\n",
      "┌─────────┬───────────┬─────────────────────────┬──────────┬───────┬────────┬──────────┬─────────┬─────────────────────────┬──────────────┐\n",
      "│TABLE_CAT│TABLE_SCHEM│TABLE_NAME               │TABLE_TYPE│REMARKS│TYPE_CAT│TYPE_SCHEM│TYPE_NAME│SELF_REFERENCING_COL_NAME│REF_GENERATION│\n",
      "├─────────┼───────────┼─────────────────────────┼──────────┼───────┼────────┼──────────┼─────────┼─────────────────────────┼──────────────┤\n",
      "│         │adhoc      │book                     │TABLE     │       │        │          │         │                         │              │\n",
      "│         │adhoc      │book_id_seq              │SEQUENCE  │       │        │          │         │                         │              │\n",
      "│         │adhoc      │book_isbn_key            │INDEX     │       │        │          │         │                         │              │\n",
      "│         │adhoc      │book_pkey                │INDEX     │       │        │          │         │                         │              │\n",
      "│         │adhoc      │orders                   │TABLE     │       │        │          │         │                         │              │\n",
      "│         │adhoc      │orders_book_isbn_key     │INDEX     │       │        │          │         │                         │              │\n",
      "│         │adhoc      │orders_id_seq            │SEQUENCE  │       │        │          │         │                         │              │\n",
      "│         │adhoc      │orders_pkey              │INDEX     │       │        │          │         │                         │              │\n",
      "│         │adhoc      │test                     │TABLE     │       │        │          │         │                         │              │\n",
      "│         │adhoc      │test_id_seq              │SEQUENCE  │       │        │          │         │                         │              │\n",
      "│         │adhoc      │test_pkey                │INDEX     │       │        │          │         │                         │              │\n",
      "│         │adhoc      │transactions             │TABLE     │       │        │          │         │                         │              │\n",
      "│         │adhoc      │transactions_pkey        │INDEX     │       │        │          │         │                         │              │\n",
      "│         │adhoc      │transactions_sequence_seq│SEQUENCE  │       │        │          │         │                         │              │\n",
      "│         │metadata   │COLUMNS                  │SYSTEM    │       │        │          │         │                         │              │\n",
      "│         │           │                         │TABLE     │       │        │          │         │                         │              │\n",
      "│         │metadata   │TABLES                   │SYSTEM    │       │        │          │         │                         │              │\n",
      "│         │           │                         │TABLE     │       │        │          │         │                         │              │\n",
      "└─────────┴───────────┴─────────────────────────┴──────────┴───────┴────────┴──────────┴─────────┴─────────────────────────┴──────────────┘\n"
     ]
    },
    {
     "data": {
      "text/plain": [
       "\u001b[36mconnUrl\u001b[39m: \u001b[32mString\u001b[39m = \u001b[32m\"jdbc:calcite:schemaType=JDBC; schema.jdbcUser=devops; schema.jdbcPassword=devops+postgresql; schema.jdbcUrl=jdbc:postgresql://localhost:5432/devops\"\u001b[39m\r\n",
       "\u001b[36mconnection\u001b[39m: \u001b[32mConnection\u001b[39m = org.apache.calcite.jdbc.CalciteJdbc41Factory$CalciteJdbc41Connection@5d43df6"
      ]
     },
     "execution_count": 5,
     "metadata": {},
     "output_type": "execute_result"
    }
   ],
   "source": [
    "val connUrl = \"jdbc:calcite:schemaType=JDBC; schema.jdbcUser=devops; schema.jdbcPassword=devops+postgresql; schema.jdbcUrl=jdbc:postgresql://localhost:5432/devops\"\n",
    "val connection = getConnection(connUrl)\n",
    "getTables(connection)"
   ]
  },
  {
   "cell_type": "code",
   "execution_count": 8,
   "metadata": {},
   "outputs": [
    {
     "name": "stdout",
     "output_type": "stream",
     "text": [
      "┌──┬──────────┬──────────┬─────┬────────┬────────────┬──────────────────┬───────┐\n",
      "│id│author    │isbn      │price│title   │created_date│last_modified_date│version│\n",
      "├──┼──────────┼──────────┼─────┼────────┼────────────┼──────────────────┼───────┤\n",
      "│1 │Lyra      │1234567891│9.9  │Northern│2024-04-07  │2024-04-07        │1      │\n",
      "│  │Silverstar│          │     │Lights  │15:39:21.308│15:39:21.308      │       │\n",
      "│2 │Iorek     │1234567892│12.9 │Polar   │2024-04-07  │2024-04-07        │1      │\n",
      "│  │Polarson  │          │     │Journey │15:39:21.311│15:39:21.311      │       │\n",
      "└──┴──────────┴──────────┴─────┴────────┴────────────┴──────────────────┴───────┘\n"
     ]
    },
    {
     "data": {
      "text/plain": [
       "\u001b[36mps\u001b[39m: \u001b[32mPreparedStatement\u001b[39m = org.apache.calcite.jdbc.CalciteJdbc41Factory$CalciteJdbc41PreparedStatement@c6a19c9\r\n",
       "\u001b[36mrs\u001b[39m: \u001b[32mResultSet\u001b[39m = org.apache.calcite.jdbc.CalciteResultSet@3d9d4cde\r\n",
       "\u001b[36mheader\u001b[39m: \u001b[32mList\u001b[39m[\u001b[32mString\u001b[39m] = \u001b[33mList\u001b[39m(\n",
       "  \u001b[32m\"id\"\u001b[39m,\n",
       "  \u001b[32m\"author\"\u001b[39m,\n",
       "  \u001b[32m\"isbn\"\u001b[39m,\n",
       "  \u001b[32m\"price\"\u001b[39m,\n",
       "  \u001b[32m\"title\"\u001b[39m,\n",
       "  \u001b[32m\"created_date\"\u001b[39m,\n",
       "  \u001b[32m\"last_modified_date\"\u001b[39m,\n",
       "  \u001b[32m\"version\"\u001b[39m\n",
       ")\r\n",
       "\u001b[36mrows\u001b[39m: \u001b[32mList\u001b[39m[\u001b[32mList\u001b[39m[\u001b[32mString\u001b[39m]] = \u001b[33mList\u001b[39m(\n",
       "  \u001b[33mList\u001b[39m(\n",
       "    \u001b[32m\"1\"\u001b[39m,\n",
       "    \u001b[32m\"Lyra Silverstar\"\u001b[39m,\n",
       "    \u001b[32m\"1234567891\"\u001b[39m,\n",
       "    \u001b[32m\"9.9\"\u001b[39m,\n",
       "    \u001b[32m\"Northern Lights\"\u001b[39m,\n",
       "    \u001b[32m\"2024-04-07 15:39:21.308\"\u001b[39m,\n",
       "    \u001b[32m\"2024-04-07 15:39:21.308\"\u001b[39m,\n",
       "    \u001b[32m\"1\"\u001b[39m\n",
       "  ),\n",
       "  \u001b[33mList\u001b[39m(\n",
       "    \u001b[32m\"2\"\u001b[39m,\n",
       "    \u001b[32m\"Iorek Polarson\"\u001b[39m,\n",
       "    \u001b[32m\"1234567892\"\u001b[39m,\n",
       "    \u001b[32m\"12.9\"\u001b[39m,\n",
       "    \u001b[32m\"Polar Journey\"\u001b[39m,\n",
       "    \u001b[32m\"2024-04-07 15:39:21.311\"\u001b[39m,\n",
       "    \u001b[32m\"2024-04-07 15:39:21.311\"\u001b[39m,\n",
       "    \u001b[32m\"1\"\u001b[39m\n",
       "  )\n",
       ")"
      ]
     },
     "execution_count": 8,
     "metadata": {},
     "output_type": "execute_result"
    }
   ],
   "source": [
    "// query\n",
    "val ps = connection.prepareStatement(\"\"\"\n",
    "SELECT * FROM \"book\" LIMIT 10\n",
    "\"\"\")\n",
    "val rs = ps.executeQuery()\n",
    "val (header, rows) = parse_rs(rs)\n",
    "print_table(header, rows)"
   ]
  },
  {
   "cell_type": "markdown",
   "metadata": {},
   "source": [
    "## lex: Java\n",
    "\n",
    "NOT WORKING: use jjava kernel instead!!!"
   ]
  },
  {
   "cell_type": "code",
   "execution_count": null,
   "metadata": {},
   "outputs": [
    {
     "name": "stderr",
     "output_type": "stream",
     "text": [
      "-- [E053] Type Error: cmd16.sc:7:36 --------------------------------------------\n",
      "7 |case class CompanySchema(employees: Array[Employee], departments: Array[Department]) {\n",
      "  |                                    ^^^^^^^^^^^^^^^\n",
      "  |                              java.sql.Array does not take type parameters\n",
      "  |\n",
      "  | longer explanation available when compiling with `-explain`\n",
      "-- [E053] Type Error: cmd16.sc:7:66 --------------------------------------------\n",
      "7 |case class CompanySchema(employees: Array[Employee], departments: Array[Department]) {\n",
      "  |                                                                  ^^^^^^^^^^^^^^^^^\n",
      "  |                              java.sql.Array does not take type parameters\n",
      "  |\n",
      "  | longer explanation available when compiling with `-explain`\n",
      "-- [E050] Type Error: cmd16.sc:11:2 --------------------------------------------\n",
      "11 |  Array(new Employee(\"e1\", \"e1\", \"d1\")),\n",
      "   |  ^^^^^\n",
      "   |  object Array in package java.sql does not take parameters\n",
      "   |\n",
      "   | longer explanation available when compiling with `-explain`\n",
      "-- [E050] Type Error: cmd16.sc:12:2 --------------------------------------------\n",
      "12 |  Array(new Department(\"d1\", \"d1\"))\n",
      "   |  ^^^^^\n",
      "   |  object Array in package java.sql does not take parameters\n",
      "   |\n",
      "   | longer explanation available when compiling with `-explain`\n",
      "Compilation Failed"
     ]
    }
   ],
   "source": [
    "case class Employee(name: java.lang.String, id: java.lang.String, deptId: java.lang.String) {\n",
    "}\n",
    "\n",
    "case class Department(deptId: java.lang.String, deptName: java.lang.String) {\n",
    "}\n",
    "\n",
    "case class CompanySchema(employees: scala.Array[Employee], departments: Array[Department]) {\n",
    "}\n",
    "\n",
    "val companySchema = CompanySchema(\n",
    "  Array(new Employee(\"e1\", \"e1\", \"d1\")),\n",
    "  Array(new Department(\"d1\", \"d1\"))\n",
    ")"
   ]
  },
  {
   "cell_type": "code",
   "execution_count": 14,
   "metadata": {},
   "outputs": [
    {
     "data": {
      "text/plain": [
       "\u001b[36mres14\u001b[39m: \u001b[32mList\u001b[39m[\u001b[32mEmployee\u001b[39m] = \u001b[33mList\u001b[39m(\u001b[33mEmployee\u001b[39m(name = \u001b[32m\"e1\"\u001b[39m, id = \u001b[32m\"e1\"\u001b[39m, deptId = \u001b[32m\"d1\"\u001b[39m))"
      ]
     },
     "execution_count": 14,
     "metadata": {},
     "output_type": "execute_result"
    }
   ],
   "source": [
    "companySchema.employees"
   ]
  },
  {
   "cell_type": "code",
   "execution_count": 15,
   "metadata": {},
   "outputs": [
    {
     "name": "stdout",
     "output_type": "stream",
     "text": [
      "Calcite JDBC Driver\n",
      "┌─────────┬───────────┬──────────┬──────────┬───────┬────────┬──────────┬─────────┬─────────────────────────┬──────────────┐\n",
      "│TABLE_CAT│TABLE_SCHEM│TABLE_NAME│TABLE_TYPE│REMARKS│TYPE_CAT│TYPE_SCHEM│TYPE_NAME│SELF_REFERENCING_COL_NAME│REF_GENERATION│\n",
      "├─────────┼───────────┼──────────┼──────────┼───────┼────────┼──────────┼─────────┼─────────────────────────┼──────────────┤\n",
      "│         │metadata   │COLUMNS   │SYSTEM    │       │        │          │         │                         │              │\n",
      "│         │           │          │TABLE     │       │        │          │         │                         │              │\n",
      "│         │metadata   │TABLES    │SYSTEM    │       │        │          │         │                         │              │\n",
      "│         │           │          │TABLE     │       │        │          │         │                         │              │\n",
      "└─────────┴───────────┴──────────┴──────────┴───────┴────────┴──────────┴─────────┴─────────────────────────┴──────────────┘\n"
     ]
    },
    {
     "data": {
      "text/plain": [
       "\u001b[32mimport \u001b[39m\u001b[36m$ivy.$                                       \n",
       "\n",
       "\u001b[39m\r\n",
       "\u001b[32mimport \u001b[39m\u001b[36mjava.sql.*\n",
       "\n",
       "\u001b[39m\r\n",
       "\u001b[32mimport \u001b[39m\u001b[36morg.apache.calcite.jdbc.CalciteConnection\n",
       "\u001b[39m\r\n",
       "\u001b[32mimport \u001b[39m\u001b[36morg.apache.calcite.schema.SchemaPlus\n",
       "\u001b[39m\r\n",
       "\u001b[32mimport \u001b[39m\u001b[36morg.apache.calcite.schema.Schema\n",
       "\n",
       "\u001b[39m\r\n",
       "\u001b[32mimport \u001b[39m\u001b[36morg.apache.calcite.adapter.java.ReflectiveSchema\n",
       "\n",
       "\u001b[39m\r\n",
       "\u001b[36mconnUrl\u001b[39m: \u001b[32mString\u001b[39m = \u001b[32m\"jdbc:calcite:lex=JAVA\"\u001b[39m\r\n",
       "\u001b[36mconnection\u001b[39m: \u001b[32mConnection\u001b[39m = org.apache.calcite.jdbc.CalciteJdbc41Factory$CalciteJdbc41Connection@78f01126\r\n",
       "\u001b[36mcalciteConnection\u001b[39m: \u001b[32mCalciteConnection\u001b[39m = org.apache.calcite.jdbc.CalciteJdbc41Factory$CalciteJdbc41Connection@78f01126\r\n",
       "\u001b[36mrootSchema\u001b[39m: \u001b[32mSchemaPlus\u001b[39m = org.apache.calcite.jdbc.CalciteSchema$SchemaPlusImpl@75fde4f0\r\n",
       "\u001b[36mschema\u001b[39m: \u001b[32mReflectiveSchema\u001b[39m = ReflectiveSchema(target=CompanySchema(List(Employee(e1,e1,d1)),List(Department(d1,d1))))\r\n",
       "\u001b[36mres15_11\u001b[39m: \u001b[32mSchemaPlus\u001b[39m = org.apache.calcite.jdbc.CalciteSchema$SchemaPlusImpl@42770561"
      ]
     },
     "execution_count": 15,
     "metadata": {},
     "output_type": "execute_result"
    }
   ],
   "source": [
    "import $ivy.`org.apache.calcite:calcite-core:1.38.0`\n",
    "\n",
    "import java.sql.*\n",
    "\n",
    "import org.apache.calcite.jdbc.CalciteConnection\n",
    "import org.apache.calcite.schema.SchemaPlus\n",
    "import org.apache.calcite.schema.Schema\n",
    "\n",
    "import org.apache.calcite.adapter.java.ReflectiveSchema\n",
    "\n",
    "val connUrl = \"jdbc:calcite:lex=JAVA\"\n",
    "val connection = getConnection(connUrl)\n",
    "val calciteConnection = connection.unwrap(classOf[CalciteConnection])\n",
    "val rootSchema = calciteConnection.getRootSchema() // SchemaPlus\n",
    "val schema = new ReflectiveSchema(companySchema) // Schema\n",
    "rootSchema.add(\"company\", schema);\n",
    "\n",
    "getTables(connection)\n",
    "\n",
    "// // query\n",
    "// val ps = connection.prepareStatement(\"\"\"\n",
    "// select dept.deptName, count(emp.id)\n",
    "// from company.employees as emp\n",
    "//   join company.departments as dept \n",
    "//     on (emp.deptId = dept.deptId) \n",
    "// group by dept.deptName\n",
    "// \"\"\")\n",
    "// val rs = ps.executeQuery()\n",
    "// val (header, rows) = parse_rs(rs)\n",
    "// print_table(header, rows)"
   ]
  },
  {
   "cell_type": "markdown",
   "metadata": {},
   "source": [
    "# Relational Algebra\n",
    "\n",
    "tutorial: https://codetinkering.com/apache-calcite-tutorial/\n",
    "\n",
    "\n",
    "![](https://www.baeldung.com/wp-content/uploads/2024/01/calcite-process-v4.svg)"
   ]
  },
  {
   "cell_type": "markdown",
   "metadata": {},
   "source": [
    "## RelBuilder\n",
    "\n",
    "sample AST:\n",
    "\n",
    "![](https://www.baeldung.com/wp-content/uploads/2024/01/query-processing-AST.svg)"
   ]
  },
  {
   "cell_type": "code",
   "execution_count": 11,
   "metadata": {},
   "outputs": [
    {
     "name": "stdout",
     "output_type": "stream",
     "text": [
      "LogicalSort(fetch=[10])\n",
      "  JdbcTableScan(table=[[FOOTMART, customer]])\n",
      "\n"
     ]
    },
    {
     "data": {
      "text/plain": [
       "\u001b[32mimport \u001b[39m\u001b[36m$ivy.$                                  \n",
       "\n",
       "\u001b[39m\r\n",
       "\u001b[32mimport \u001b[39m\u001b[36morg.apache.calcite.jdbc.CalciteConnection\n",
       "\u001b[39m\r\n",
       "\u001b[32mimport \u001b[39m\u001b[36morg.apache.calcite.adapter.jdbc.JdbcSchema\n",
       "\u001b[39m\r\n",
       "\u001b[32mimport \u001b[39m\u001b[36morg.apache.calcite.tools.RelBuilder\n",
       "\u001b[39m\r\n",
       "\u001b[32mimport \u001b[39m\u001b[36morg.apache.calcite.tools.Frameworks\n",
       "\u001b[39m\r\n",
       "\u001b[32mimport \u001b[39m\u001b[36morg.apache.calcite.sql.pretty.SqlPrettyWriter\n",
       "\n",
       "\n",
       "\u001b[39m\r\n",
       "\u001b[36mconnection\u001b[39m: \u001b[32mConnection\u001b[39m = org.apache.calcite.jdbc.CalciteJdbc41Factory$CalciteJdbc41Connection@28e1f20\r\n",
       "\u001b[36mcalciteConnection\u001b[39m: \u001b[32mCalciteConnection\u001b[39m = org.apache.calcite.jdbc.CalciteJdbc41Factory$CalciteJdbc41Connection@28e1f20\r\n",
       "\u001b[36mrootSchema\u001b[39m: \u001b[32mSchemaPlus\u001b[39m = org.apache.calcite.jdbc.CalciteSchema$SchemaPlusImpl@632163e7\r\n",
       "\u001b[36mmysqlDataSource\u001b[39m: \u001b[32mDataSource\u001b[39m = org.apache.commons.dbcp2.BasicDataSource@1182bfac\r\n",
       "\u001b[36mmysqlSchemaName\u001b[39m: \u001b[32mString\u001b[39m = \u001b[32m\"FOOTMART\"\u001b[39m\r\n",
       "\u001b[36mres11_11\u001b[39m: \u001b[32mSchemaPlus\u001b[39m = org.apache.calcite.jdbc.CalciteSchema$SchemaPlusImpl@588a501a\r\n",
       "\u001b[36mconfig\u001b[39m: \u001b[32mConfigBuilder\u001b[39m = org.apache.calcite.tools.Frameworks$ConfigBuilder@6d3ded7d\r\n",
       "\u001b[36mrb\u001b[39m: \u001b[32mRelBuilder\u001b[39m = \r\n",
       "\u001b[36mnode\u001b[39m: \u001b[32mRelNode\u001b[39m = rel#85:LogicalSort.NONE.[](input=JdbcTableScan#84,fetch=10)"
      ]
     },
     "execution_count": 11,
     "metadata": {},
     "output_type": "execute_result"
    }
   ],
   "source": [
    "import $ivy.`mysql:mysql-connector-java:8.0.32`\n",
    "\n",
    "import org.apache.calcite.jdbc.CalciteConnection\n",
    "import org.apache.calcite.adapter.jdbc.JdbcSchema\n",
    "import org.apache.calcite.tools.RelBuilder\n",
    "import org.apache.calcite.tools.Frameworks\n",
    "import org.apache.calcite.sql.pretty.SqlPrettyWriter\n",
    "\n",
    "\n",
    "val connection = DriverManager.getConnection(\"jdbc:calcite:\")\n",
    "val calciteConnection = connection.unwrap(classOf[CalciteConnection])\n",
    "\n",
    "val rootSchema = calciteConnection.getRootSchema()\n",
    "\n",
    "// add MySQL datasource\n",
    "val mysqlDataSource = JdbcSchema.dataSource(\n",
    "  \"jdbc:mysql://localhost:3306/foodmart\",\n",
    "  \"com.mysql.jdbc.Driver\",\n",
    "  \"root\",\n",
    "  \"devops+mysql\"\n",
    ")\n",
    "val mysqlSchemaName = \"FOOTMART\"\n",
    "rootSchema.add(mysqlSchemaName, JdbcSchema.create(rootSchema, mysqlSchemaName, mysqlDataSource, null, null))\n",
    "\n",
    "// builder\n",
    "val config = Frameworks.newConfigBuilder()\n",
    "  .defaultSchema(rootSchema)\n",
    "val rb = RelBuilder.create(config.build())\n",
    "\n",
    "val node = rb.scan(mysqlSchemaName, \"customer\")\n",
    "  .limit(0, 10)\n",
    "  .build()\n",
    "// output\n",
    "println(node.explain())"
   ]
  },
  {
   "cell_type": "markdown",
   "metadata": {},
   "source": [
    "## Parse and Validate SQL"
   ]
  },
  {
   "cell_type": "code",
   "execution_count": 24,
   "metadata": {},
   "outputs": [
    {
     "name": "stdout",
     "output_type": "stream",
     "text": [
      "┌─────────┬───────────┬──────────┬──────────┬───────┬────────┬──────────┬─────────┬─────────────────────────┬──────────────┐\n",
      "│TABLE_CAT│TABLE_SCHEM│TABLE_NAME│TABLE_TYPE│REMARKS│TYPE_CAT│TYPE_SCHEM│TYPE_NAME│SELF_REFERENCING_COL_NAME│REF_GENERATION│\n",
      "├─────────┼───────────┼──────────┼──────────┼───────┼────────┼──────────┼─────────┼─────────────────────────┼──────────────┤\n",
      "│         │metadata   │COLUMNS   │SYSTEM    │       │        │          │         │                         │              │\n",
      "│         │           │          │TABLE     │       │        │          │         │                         │              │\n",
      "│         │metadata   │TABLES    │SYSTEM    │       │        │          │         │                         │              │\n",
      "│         │           │          │TABLE     │       │        │          │         │                         │              │\n",
      "└─────────┴───────────┴──────────┴──────────┴───────┴────────┴──────────┴─────────┴─────────────────────────┴──────────────┘\n",
      "SELECT \"customer\".\"customer_id\", \"customer\".\"account_num\", \"customer\".\"lname\", \"customer\".\"fname\", \"customer\".\"mi\", \"customer\".\"address1\", \"customer\".\"address2\", \"customer\".\"address3\", \"customer\".\"address4\", \"customer\".\"city\", \"customer\".\"state_province\", \"customer\".\"postal_code\", \"customer\".\"country\", \"customer\".\"customer_region_id\", \"customer\".\"phone1\", \"customer\".\"phone2\", \"customer\".\"birthdate\", \"customer\".\"marital_status\", \"customer\".\"yearly_income\", \"customer\".\"gender\", \"customer\".\"total_children\", \"customer\".\"num_children_at_home\", \"customer\".\"education\", \"customer\".\"date_accnt_opened\", \"customer\".\"member_card\", \"customer\".\"occupation\", \"customer\".\"houseowner\", \"customer\".\"num_cars_owned\", \"customer\".\"fullname\"\n",
      "FROM \"FOOTMART\".\"customer\" AS \"customer\"\n",
      "FETCH NEXT 10 ROWS ONLY\n"
     ]
    },
    {
     "data": {
      "text/plain": [
       "\u001b[32mimport \u001b[39m\u001b[36morg.apache.calcite.jdbc.CalciteConnection\n",
       "\u001b[39m\r\n",
       "\u001b[32mimport \u001b[39m\u001b[36morg.apache.calcite.adapter.jdbc.JdbcSchema\n",
       "\u001b[39m\r\n",
       "\u001b[32mimport \u001b[39m\u001b[36morg.apache.calcite.sql.parser.SqlParser\n",
       "\u001b[39m\r\n",
       "\u001b[32mimport \u001b[39m\u001b[36morg.apache.calcite.tools.Frameworks\n",
       "\u001b[39m\r\n",
       "\u001b[32mimport \u001b[39m\u001b[36morg.apache.calcite.sql.pretty.SqlPrettyWriter\n",
       "\u001b[39m\r\n",
       "\u001b[32mimport \u001b[39m\u001b[36morg.apache.calcite.plan.Contexts\n",
       "\n",
       "// val connUrl = \"jdbc:calcite:schemaType=JDBC; schema.jdbcUser=root; schema.jdbcPassword=devops+mysql; schema.jdbcUrl=jdbc:mysql://localhost:3306/foodmart\"\n",
       "// val connection = getConnection(connUrl)\n",
       "\u001b[39m\r\n",
       "\u001b[36mconnection\u001b[39m: \u001b[32mConnection\u001b[39m = org.apache.calcite.jdbc.CalciteJdbc41Factory$CalciteJdbc41Connection@66a2a298\r\n",
       "\u001b[36mcalciteConnection\u001b[39m: \u001b[32mCalciteConnection\u001b[39m = org.apache.calcite.jdbc.CalciteJdbc41Factory$CalciteJdbc41Connection@66a2a298\r\n",
       "\u001b[36mparserConfig\u001b[39m: \u001b[32mConfig\u001b[39m = Config{identifierMaxLength=128, quotedCasing=UNCHANGED, unquotedCasing=TO_UPPER, quoting=DOUBLE_QUOTE, caseSensitive=true, conformance=DEFAULT, allowBangEqual=false, charLiteralStyles=[STANDARD], timeUnitCodes={}, parserFactory=org.apache.calcite.sql.parser.impl.SqlParserImpl$1@4d630bc2}\r\n",
       "\u001b[36mrootSchema\u001b[39m: \u001b[32mSchemaPlus\u001b[39m = org.apache.calcite.jdbc.CalciteSchema$SchemaPlusImpl@3b710b10\r\n",
       "\u001b[36mmysqlDataSource\u001b[39m: \u001b[32mDataSource\u001b[39m = org.apache.commons.dbcp2.BasicDataSource@2971efa7\r\n",
       "\u001b[36mmysqlSchemaName\u001b[39m: \u001b[32mString\u001b[39m = \u001b[32m\"FOOTMART\"\u001b[39m\r\n",
       "\u001b[36mres24_13\u001b[39m: \u001b[32mSchemaPlus\u001b[39m = org.apache.calcite.jdbc.CalciteSchema$SchemaPlusImpl@2110a04d\r\n",
       "\u001b[36mconfig\u001b[39m: \u001b[32mConfigBuilder\u001b[39m = org.apache.calcite.tools.Frameworks$ConfigBuilder@693c4611\r\n",
       "\u001b[36mplanner\u001b[39m: \u001b[32mPlanner\u001b[39m = org.apache.calcite.prepare.PlannerImpl@f46a262\r\n",
       "\u001b[36msql\u001b[39m: \u001b[32mString\u001b[39m = \u001b[32m\"\"\"\n",
       "SELECT * FROM FOOTMART.\"customer\" LIMIT 10\n",
       "-- SELECT * FROM FOOTMART.\"CUSTOMER\" LIMIT 10\n",
       "\"\"\"\u001b[39m\r\n",
       "\u001b[36mnode\u001b[39m: \u001b[32mSqlNode\u001b[39m = SELECT `customer`.`customer_id`, `customer`.`account_num`, `customer`.`lname`, `customer`.`fname`, `customer`.`mi`, `customer`.`address1`, `customer`.`address2`, `customer`.`address3`, `customer`.`address4`, `customer`.`city`, `customer`.`state_province`, `customer`.`postal_code`, `customer`.`country`, `customer`.`customer_region_id`, `customer`.`phone1`, `customer`.`phone2`, `customer`.`birthdate`, `customer`.`marital_status`, `customer`.`yearly_income`, `customer`.`gender`, `customer`.`total_children`, `customer`.`num_children_at_home`, `customer`.`education`, `customer`.`date_accnt_opened`, `customer`.`member_card`, `customer`.`occupation`, `customer`.`houseowner`, `customer`.`num_cars_owned`, `customer`.`fullname`\r\n",
       "FROM `FOOTMART`.`customer` AS `customer`\r\n",
       "FETCH NEXT 10 ROWS ONLY\r\n",
       "FETCH NEXT 10 ROWS ONLY\r\n",
       "\u001b[36mvalidateNode\u001b[39m: \u001b[32mSqlNode\u001b[39m = SELECT `customer`.`customer_id`, `customer`.`account_num`, `customer`.`lname`, `customer`.`fname`, `customer`.`mi`, `customer`.`address1`, `customer`.`address2`, `customer`.`address3`, `customer`.`address4`, `customer`.`city`, `customer`.`state_province`, `customer`.`postal_code`, `customer`.`country`, `customer`.`customer_region_id`, `customer`.`phone1`, `customer`.`phone2`, `customer`.`birthdate`, `customer`.`marital_status`, `customer`.`yearly_income`, `customer`.`gender`, `customer`.`total_children`, `customer`.`num_children_at_home`, `customer`.`education`, `customer`.`date_accnt_opened`, `customer`.`member_card`, `customer`.`occupation`, `customer`.`houseowner`, `customer`.`num_cars_owned`, `customer`.`fullname`\r\n",
       "FROM `FOOTMART`.`customer` AS `customer`\r\n",
       "FETCH NEXT 10 ROWS ONLY\r\n",
       "\u001b[36mwriter\u001b[39m: \u001b[32mSqlPrettyWriter\u001b[39m = SELECT \"customer\".\"customer_id\", \"customer\".\"account_num\", \"customer\".\"lname\", \"customer\".\"fname\", \"customer\".\"mi\", \"customer\".\"address1\", \"customer\".\"address2\", \"customer\".\"address3\", \"customer\".\"address4\", \"customer\".\"city\", \"customer\".\"state_province\", \"customer\".\"postal_code\", \"customer\".\"country\", \"customer\".\"customer_region_id\", \"customer\".\"phone1\", \"customer\".\"phone2\", \"customer\".\"birthdate\", \"customer\".\"marital_status\", \"customer\".\"yearly_income\", \"customer\".\"gender\", \"customer\".\"total_children\", \"customer\".\"num_children_at_home\", \"customer\".\"education\", \"customer\".\"date_accnt_opened\", \"customer\".\"member_card\", \"customer\".\"occupation\", \"customer\".\"houseowner\", \"customer\".\"num_cars_owned\", \"customer\".\"fullname\"\r\n",
       "FROM \"FOOTMART\".\"customer\" AS \"customer\"\r\n",
       "FETCH NEXT 10 ROWS ONLY"
      ]
     },
     "execution_count": 24,
     "metadata": {},
     "output_type": "execute_result"
    }
   ],
   "source": [
    "import org.apache.calcite.jdbc.CalciteConnection\n",
    "import org.apache.calcite.adapter.jdbc.JdbcSchema\n",
    "import org.apache.calcite.sql.parser.SqlParser\n",
    "import org.apache.calcite.tools.Frameworks\n",
    "import org.apache.calcite.sql.pretty.SqlPrettyWriter\n",
    "import org.apache.calcite.plan.Contexts\n",
    "\n",
    "// val connUrl = \"jdbc:calcite:schemaType=JDBC; schema.jdbcUser=root; schema.jdbcPassword=devops+mysql; schema.jdbcUrl=jdbc:mysql://localhost:3306/foodmart\"\n",
    "// val connection = getConnection(connUrl)\n",
    "val connection = DriverManager.getConnection(\"jdbc:calcite:\")\n",
    "val calciteConnection = connection.unwrap(classOf[CalciteConnection])\n",
    "// getTables(calciteConnection)\n",
    "\n",
    "val parserConfig = SqlParser.config()\n",
    "\n",
    "val rootSchema = calciteConnection.getRootSchema()\n",
    "\n",
    "// add MySQL datasource\n",
    "val mysqlDataSource = JdbcSchema.dataSource(\n",
    "  \"jdbc:mysql://localhost:3306/foodmart\",\n",
    "  \"com.mysql.jdbc.Driver\",\n",
    "  \"root\",\n",
    "  \"devops+mysql\"\n",
    ")\n",
    "val mysqlSchemaName = \"FOOTMART\"\n",
    "rootSchema.add(mysqlSchemaName, JdbcSchema.create(rootSchema, mysqlSchemaName, mysqlDataSource, null, null))\n",
    "\n",
    "// parse\n",
    "val config = Frameworks.newConfigBuilder()\n",
    "  .defaultSchema(rootSchema)\n",
    "  .parserConfig(parserConfig)\n",
    "  .context(Contexts.of(calciteConnection.config()))\n",
    "\n",
    "val planner = Frameworks.getPlanner(config.build())\n",
    "val sql = s\"\"\"\n",
    "SELECT * FROM ${mysqlSchemaName}.\"customer\" LIMIT 10\n",
    "-- SELECT * FROM ${mysqlSchemaName}.\"CUSTOMER\" LIMIT 10\n",
    "\"\"\"\n",
    "val node = planner.parse(sql)\n",
    "\n",
    "// validate\n",
    "val validateNode = planner.validate(node)\n",
    "\n",
    "// output\n",
    "val writer = new SqlPrettyWriter()\n",
    "validateNode.unparse(writer, 0, 0)\n",
    "println(writer.toSqlString().getSql())"
   ]
  },
  {
   "cell_type": "markdown",
   "metadata": {},
   "source": [
    "## Query for MySQL and PostgreSQL"
   ]
  },
  {
   "cell_type": "code",
   "execution_count": 3,
   "metadata": {},
   "outputs": [
    {
     "data": {
      "text/plain": [
       "\u001b[32mimport \u001b[39m\u001b[36morg.apache.calcite.rel.RelHomogeneousShuttle\n",
       "\u001b[39m\r\n",
       "\u001b[32mimport \u001b[39m\u001b[36morg.apache.calcite.interpreter.Bindables\n",
       "\u001b[39m\r\n",
       "\u001b[32mimport \u001b[39m\u001b[36morg.apache.calcite.rel.logical.LogicalTableScan\n",
       "\u001b[39m\r\n",
       "\u001b[32mimport \u001b[39m\u001b[36morg.apache.calcite.rel.core.TableScan\n",
       "\u001b[39m\r\n",
       "\u001b[32mimport \u001b[39m\u001b[36morg.apache.calcite.rel.RelNode\n",
       "\n",
       "\u001b[39m\r\n",
       "defined \u001b[32mclass\u001b[39m \u001b[36mRelHomogeneousShuttleT\u001b[39m"
      ]
     },
     "execution_count": 3,
     "metadata": {},
     "output_type": "execute_result"
    }
   ],
   "source": [
    "import org.apache.calcite.rel.RelHomogeneousShuttle\n",
    "import org.apache.calcite.interpreter.Bindables\n",
    "import org.apache.calcite.rel.logical.LogicalTableScan\n",
    "import org.apache.calcite.rel.core.TableScan\n",
    "import org.apache.calcite.rel.RelNode\n",
    "\n",
    "class RelHomogeneousShuttleT extends RelHomogeneousShuttle {\n",
    "  override def  visit(scan: TableScan): RelNode = {\n",
    "    val table = scan.getTable()\n",
    "    if (scan.isInstanceOf[LogicalTableScan] && Bindables.BindableTableScan.canHandle(table)) {\n",
    "      return Bindables.BindableTableScan.create(scan.getCluster, table)\n",
    "    }\n",
    "    return super.visit(scan)\n",
    "  }\n",
    "}"
   ]
  },
  {
   "cell_type": "code",
   "execution_count": 9,
   "metadata": {},
   "outputs": [
    {
     "name": "stdout",
     "output_type": "stream",
     "text": [
      "┌───────────┬───────────┬──┬────────┐\n",
      "│customer_id│account_num│id│title   │\n",
      "├───────────┼───────────┼──┼────────┤\n",
      "│1          │87462024688│1 │Northern│\n",
      "│           │           │  │Lights  │\n",
      "│2          │87470586299│2 │Polar   │\n",
      "│           │           │  │Journey │\n",
      "└───────────┴───────────┴──┴────────┘\n"
     ]
    },
    {
     "data": {
      "text/plain": [
       "\u001b[32mimport \u001b[39m\u001b[36m$ivy.$                                  \n",
       "\u001b[39m\r\n",
       "\u001b[32mimport \u001b[39m\u001b[36m$ivy.$                                 \n",
       "\n",
       "\u001b[39m\r\n",
       "\u001b[32mimport \u001b[39m\u001b[36morg.apache.calcite.jdbc.CalciteConnection\n",
       "\u001b[39m\r\n",
       "\u001b[32mimport \u001b[39m\u001b[36morg.apache.calcite.adapter.jdbc.JdbcSchema\n",
       "\u001b[39m\r\n",
       "\u001b[32mimport \u001b[39m\u001b[36morg.apache.calcite.sql.parser.SqlParser\n",
       "\u001b[39m\r\n",
       "\u001b[32mimport \u001b[39m\u001b[36morg.apache.calcite.tools.Frameworks\n",
       "\u001b[39m\r\n",
       "\u001b[32mimport \u001b[39m\u001b[36morg.apache.calcite.sql.pretty.SqlPrettyWriter\n",
       "\u001b[39m\r\n",
       "\u001b[32mimport \u001b[39m\u001b[36morg.apache.calcite.plan.Contexts\n",
       "\n",
       "\u001b[39m\r\n",
       "\u001b[32mimport \u001b[39m\u001b[36morg.apache.calcite.plan.hep.HepProgram\n",
       "\u001b[39m\r\n",
       "\u001b[32mimport \u001b[39m\u001b[36morg.apache.calcite.plan.hep.HepPlanner\n",
       "\u001b[39m\r\n",
       "\u001b[32mimport \u001b[39m\u001b[36morg.apache.calcite.rel.RelHomogeneousShuttle\n",
       "\u001b[39m\r\n",
       "\u001b[32mimport \u001b[39m\u001b[36morg.apache.calcite.tools.RelRunner\n",
       "\n",
       "\u001b[39m\r\n",
       "\u001b[32mimport \u001b[39m\u001b[36morg.apache.calcite.tools.RelBuilder\n",
       "\n",
       "\u001b[39m\r\n",
       "\u001b[32mimport \u001b[39m\u001b[36morg.apache.calcite.rel.core.JoinRelType\n",
       "\n",
       "\u001b[39m\r\n",
       "\u001b[36mconnection\u001b[39m: \u001b[32mConnection\u001b[39m = org.apache.calcite.jdbc.CalciteJdbc41Factory$CalciteJdbc41Connection@1417fe98\r\n",
       "\u001b[36mcalciteConnection\u001b[39m: \u001b[32mCalciteConnection\u001b[39m = org.apache.calcite.jdbc.CalciteJdbc41Factory$CalciteJdbc41Connection@1417fe98\r\n",
       "\u001b[36mparserConfig\u001b[39m: \u001b[32mConfig\u001b[39m = Config{identifierMaxLength=128, quotedCasing=UNCHANGED, unquotedCasing=TO_UPPER, quoting=DOUBLE_QUOTE, caseSensitive=true, conformance=DEFAULT, allowBangEqual=false, charLiteralStyles=[STANDARD], timeUnitCodes={}, parserFactory=org.apache.calcite.sql.parser.impl.SqlParserImpl$1@50de3e9e}\r\n",
       "\u001b[36mrootSchema\u001b[39m: \u001b[32mSchemaPlus\u001b[39m = org.apache.calcite.jdbc.CalciteSchema$SchemaPlusImpl@4a7b5884\r\n",
       "\u001b[36mmysqlDataSource\u001b[39m: \u001b[32mDataSource\u001b[39m = org.apache.commons.dbcp2.BasicDataSource@12ad9902\r\n",
       "\u001b[36mres9_19\u001b[39m: \u001b[32mSchemaPlus\u001b[39m = org.apache.calcite.jdbc.CalciteSchema$SchemaPlusImpl@1d38110f\r\n",
       "\u001b[36mpostgreSQLDataSource\u001b[39m: \u001b[32mDataSource\u001b[39m = org.apache.commons.dbcp2.BasicDataSource@6d40a562\r\n",
       "\u001b[36mres9_21\u001b[39m: \u001b[32mSchemaPlus\u001b[39m = org.apache.calcite.jdbc.CalciteSchema$SchemaPlusImpl@7376d849\r\n",
       "\u001b[36mconfig\u001b[39m: \u001b[32mFrameworkConfig\u001b[39m = org.apache.calcite.tools.Frameworks$StdFrameworkConfig@1d15d2a3\r\n",
       "\u001b[36mrb\u001b[39m: \u001b[32mRelBuilder\u001b[39m = \r\n",
       "\u001b[36mnode\u001b[39m: \u001b[32mRelNode\u001b[39m = rel#242:LogicalSort.NONE.[](input=LogicalProject#241,fetch=10)\r\n",
       "\u001b[36mprogram\u001b[39m: \u001b[32mHepProgram\u001b[39m = org.apache.calcite.plan.hep.HepProgram@5a2098a9\r\n",
       "\u001b[36mplanner\u001b[39m: \u001b[32mHepPlanner\u001b[39m = org.apache.calcite.plan.hep.HepPlanner@52dfc60c\r\n",
       "\u001b[36moptimizedNode\u001b[39m: \u001b[32mRelNode\u001b[39m = rel#249:LogicalSort.NONE.[](input=LogicalProject#247,fetch=10)\r\n",
       "\u001b[36mrelShuttle\u001b[39m: \u001b[32mRelHomogeneousShuttleT\u001b[39m = ammonite.$sess.cmd3$Helper$RelHomogeneousShuttleT@5e24df09\r\n",
       "\u001b[36mrunner\u001b[39m: \u001b[32mRelRunner\u001b[39m = org.apache.calcite.jdbc.CalciteConnectionImpl$$Lambda$4720/0x000001ab9cdf0670@17ec1977\r\n",
       "\u001b[36mps\u001b[39m: \u001b[32mPreparedStatement\u001b[39m = org.apache.calcite.jdbc.CalciteJdbc41Factory$CalciteJdbc41PreparedStatement@7504fd30\r\n",
       "\u001b[36mres9_33\u001b[39m: \u001b[32mBoolean\u001b[39m = \u001b[32mtrue\u001b[39m\r\n",
       "\u001b[36mrs\u001b[39m: \u001b[32mResultSet\u001b[39m = org.apache.calcite.jdbc.CalciteResultSet@6c857ca5\r\n",
       "\u001b[36mheader\u001b[39m: \u001b[32mList\u001b[39m[\u001b[32mString\u001b[39m] = \u001b[33mList\u001b[39m(\u001b[32m\"customer_id\"\u001b[39m, \u001b[32m\"account_num\"\u001b[39m, \u001b[32m\"id\"\u001b[39m, \u001b[32m\"title\"\u001b[39m)\r\n",
       "\u001b[36mrows\u001b[39m: \u001b[32mList\u001b[39m[\u001b[32mList\u001b[39m[\u001b[32mString\u001b[39m]] = \u001b[33mList\u001b[39m(\n",
       "  \u001b[33mList\u001b[39m(\u001b[32m\"1\"\u001b[39m, \u001b[32m\"87462024688\"\u001b[39m, \u001b[32m\"1\"\u001b[39m, \u001b[32m\"Northern Lights\"\u001b[39m),\n",
       "  \u001b[33mList\u001b[39m(\u001b[32m\"2\"\u001b[39m, \u001b[32m\"87470586299\"\u001b[39m, \u001b[32m\"2\"\u001b[39m, \u001b[32m\"Polar Journey\"\u001b[39m)\n",
       ")"
      ]
     },
     "execution_count": 9,
     "metadata": {},
     "output_type": "execute_result"
    }
   ],
   "source": [
    "import $ivy.`mysql:mysql-connector-java:8.0.32`\n",
    "import $ivy.`org.postgresql:postgresql:42.7.4`\n",
    "\n",
    "import org.apache.calcite.jdbc.CalciteConnection\n",
    "import org.apache.calcite.adapter.jdbc.JdbcSchema\n",
    "import org.apache.calcite.sql.parser.SqlParser\n",
    "import org.apache.calcite.tools.Frameworks\n",
    "import org.apache.calcite.sql.pretty.SqlPrettyWriter\n",
    "import org.apache.calcite.plan.Contexts\n",
    "\n",
    "import org.apache.calcite.plan.hep.HepProgram\n",
    "import org.apache.calcite.plan.hep.HepPlanner\n",
    "import org.apache.calcite.rel.RelHomogeneousShuttle\n",
    "import org.apache.calcite.tools.RelRunner\n",
    "\n",
    "import org.apache.calcite.tools.RelBuilder\n",
    "\n",
    "import org.apache.calcite.rel.core.JoinRelType\n",
    "\n",
    "val connection = DriverManager.getConnection(\"jdbc:calcite:\")\n",
    "val calciteConnection = connection.unwrap(classOf[CalciteConnection])\n",
    "\n",
    "val parserConfig = SqlParser.config()\n",
    "\n",
    "val rootSchema = calciteConnection.getRootSchema()\n",
    "\n",
    "// add MySQL datasource\n",
    "val mysqlDataSource = JdbcSchema.dataSource(\n",
    "  \"jdbc:mysql://localhost:3306/foodmart\",\n",
    "  \"com.mysql.jdbc.Driver\",\n",
    "  \"root\",\n",
    "  \"devops+mysql\"\n",
    ")\n",
    "rootSchema.add(\"foodmart\", JdbcSchema.create(rootSchema, \"foodmart\", mysqlDataSource, null, null))\n",
    "// add PostgreSQL datasource\n",
    "val postgreSQLDataSource = JdbcSchema.dataSource(\n",
    "  \"jdbc:postgresql://localhost:5432/devops\",\n",
    "  \"org.postgresql.Driver\",\n",
    "  \"devops\",\n",
    "  \"devops+postgresql\"\n",
    ")\n",
    "rootSchema.add(\"devops\", JdbcSchema.create(rootSchema, \"devops\", postgreSQLDataSource, null, null))\n",
    "\n",
    "// parse\n",
    "val config = Frameworks.newConfigBuilder()\n",
    "  .defaultSchema(rootSchema)\n",
    "  .build()\n",
    "\n",
    "val rb = RelBuilder.create(config)\n",
    "\n",
    "val node = rb\n",
    "  .scan(\"foodmart\", \"customer\").as(\"c\")\n",
    "  .scan(\"devops\", \"book\").as(\"b\")\n",
    "  // MySQL-bigint, PostgreSQL-int\n",
    "  // java.sql.SQLException: exception while executing query: class java.lang.Long cannot be cast to class java.lang.Integer (java.lang.Long and java.lang.Integer are in module java.base of loader 'bootstrap')\n",
    "  // FIX: ALTER TABLE `foodmart`.`customer` CHANGE COLUMN `customer_id` `customer_id` BIGINT NOT NULL ;\n",
    "  .join(JoinRelType.INNER,\n",
    "    rb.equals(\n",
    "      rb.field(2, \"c\", \"customer_id\"),\n",
    "      rb.field(2, \"b\", \"id\")\n",
    "    ))\n",
    "  // .filter(rb.equals(\n",
    "  //   rb.field(2, \"c\", \"customer_id\"),\n",
    "  //   rb.field(2, \"b\", \"id\")\n",
    "  // ))\n",
    "  // .filter(rb.lessThan(rb.field(2, \"c\", \"customer_id\"), rb.literal(10)))\n",
    "  .project(\n",
    "    rb.field(\"c\", \"customer_id\"),\n",
    "    rb.field(\"c\", \"account_num\"),\n",
    "    rb.field(\"b\", \"id\"),\n",
    "    rb.field(\"b\", \"title\")\n",
    "\n",
    "    // debug single\n",
    "    // rb.field(1, \"c\", \"customer_id\"),\n",
    "    // rb.field(1, \"c\", \"account_num\"),\n",
    "    // rb.field(1, \"b\", \"id\"),\n",
    "    // rb.field(1, \"b\", \"title\")\n",
    "  )\n",
    "  // .sort(1)\n",
    "  .limit(0, 10)\n",
    "  .build()\n",
    "\n",
    "val program = HepProgram.builder().build()\n",
    "val planner = new HepPlanner(program)\n",
    "planner.setRoot(node)\n",
    "\n",
    "var optimizedNode = planner.findBestExp()\n",
    "\n",
    "val relShuttle = new RelHomogeneousShuttleT()\n",
    "optimizedNode = optimizedNode.accept(relShuttle)\n",
    "val runner = connection.unwrap(classOf[RelRunner])\n",
    "val ps = runner.prepareStatement(optimizedNode)\n",
    "ps.execute()\n",
    "val rs = ps.getResultSet()\n",
    "val (header, rows) = parse_rs(rs)\n",
    "print_table(header, rows)"
   ]
  }
 ],
 "metadata": {
  "kernelspec": {
   "display_name": "Scala",
   "language": "scala",
   "name": "scala"
  },
  "language_info": {
   "codemirror_mode": "text/x-scala",
   "file_extension": ".sc",
   "mimetype": "text/x-scala",
   "name": "scala",
   "nbconvert_exporter": "script",
   "version": "2.13.14"
  }
 },
 "nbformat": 4,
 "nbformat_minor": 2
}
