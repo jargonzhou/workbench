{
 "cells": [
  {
   "cell_type": "markdown",
   "metadata": {},
   "source": [
    "# Calcite"
   ]
  },
  {
   "cell_type": "markdown",
   "metadata": {},
   "source": [
    "# lex: JAVA\n",
    "* [Introduction to Apache Calcite](https://www.baeldung.com/apache-calcite)"
   ]
  },
  {
   "cell_type": "code",
   "execution_count": 1,
   "metadata": {},
   "outputs": [
    {
     "data": {
      "text/plain": [
       "[LREPL.$JShell$14$Department;@14c07b8c"
      ]
     },
     "execution_count": 1,
     "metadata": {},
     "output_type": "execute_result"
    }
   ],
   "source": [
    "public class Employee {\n",
    "    public String name;\n",
    "    public String id;\n",
    "\n",
    "    public String deptId;\n",
    "\n",
    "    public Employee(String name, String id, String deptId) {\n",
    "        this.name = name;\n",
    "        this.id = id;\n",
    "        this.deptId = deptId;\n",
    "    }\n",
    "}\n",
    "\n",
    "public class Department {\n",
    "    public String deptId;\n",
    "    public String deptName;\n",
    "\n",
    "    public Department(String deptId, String deptName) {\n",
    "        this.deptId = deptId;\n",
    "        this.deptName = deptName;\n",
    "    }\n",
    "}\n",
    "\n",
    "public class CompanySchema {\n",
    "    public Employee[] employees;\n",
    "    public Department[] departments;\n",
    "}\n",
    "\n",
    "CompanySchema companySchema = new CompanySchema();\n",
    "companySchema.employees = new Employee[]{new Employee(\"e1\", \"e1\", \"d1\")};\n",
    "companySchema.departments = new Department[]{new Department(\"d1\", \"d1\")};"
   ]
  },
  {
   "cell_type": "code",
   "execution_count": 1,
   "metadata": {},
   "outputs": [],
   "source": [
    "%maven de.vandermeer:asciitable:0.3.2\n",
    "\n",
    "import de.vandermeer.asciitable.*;\n",
    "import java.util.*;\n",
    "\n",
    "public class Asciitables {\n",
    "\n",
    "    public static void printTable(List<String> header, List<List<String>> rows) {\n",
    "        AsciiTable at = new AsciiTable();\n",
    "        at.addRule();\n",
    "        at.addRow(header);\n",
    "        at.addRule();\n",
    "        if (rows.size() > 0) {\n",
    "            for (List<String> row : rows) {\n",
    "                at.addRow(row);\n",
    "            }\n",
    "        }\n",
    "\n",
    "        at.addRule();\n",
    "\n",
    "        // http://www.vandermeer.de/projects/skb/java/asciitable/examples/AT_07d_LongestWord.html\n",
    "        at.getRenderer().setCWC(new CWC_LongestWord());\n",
    "        System.out.println(at.render());\n",
    "    }\n",
    "}"
   ]
  },
  {
   "cell_type": "code",
   "execution_count": 6,
   "metadata": {},
   "outputs": [],
   "source": [
    "\n",
    "import java.sql.*;\n",
    "import java.util.*;\n",
    "\n",
    "// Parse ResultSet\n",
    "public class SQLs {\n",
    "\n",
    "    public static void parseRs(ResultSet rs) throws SQLException {\n",
    "        List<String> header = new ArrayList<>();\n",
    "        List<List<String>> rows = new ArrayList<>();\n",
    "\n",
    "        ResultSetMetaData rsMeta = rs.getMetaData();\n",
    "        int n = rsMeta.getColumnCount();\n",
    "        for (int i = 1; i <= n; i++) {\n",
    "            header.add(rsMeta.getColumnName(i));\n",
    "        }\n",
    "        while (rs.next()) {\n",
    "\n",
    "            if (n > 0) {\n",
    "                List<String> row = new ArrayList<>();\n",
    "                for (int i = 1; i <= n; i++) {\n",
    "                    String v = rs.getString(i);\n",
    "                    if (Objects.isNull(v)) {\n",
    "                        v = \"\";\n",
    "                    }\n",
    "                    row.add(v);\n",
    "                }\n",
    "                rows.add(row);\n",
    "            }\n",
    "        }\n",
    "\n",
    "        Asciitables.printTable(header, rows);\n",
    "    }\n",
    "}"
   ]
  },
  {
   "cell_type": "code",
   "execution_count": null,
   "metadata": {},
   "outputs": [],
   "source": [
    "%maven org.apache.calcite:calcite-core:1.38.0\n",
    "\n",
    "import java.sql.*;\n",
    "\n",
    "import org.apache.calcite.jdbc.CalciteConnection;\n",
    "import org.apache.calcite.schema.SchemaPlus;\n",
    "import org.apache.calcite.schema.Schema;\n",
    "\n",
    "import org.apache.calcite.adapter.java.ReflectiveSchema;\n",
    "\n",
    "public class Calcites {\n",
    "\n",
    "    public static Connection getConnection(String url) {\n",
    "        Connection connection = DriverManager.getConnection(url);\n",
    "        DatabaseMetaData dbMeta = connection.getMetaData();\n",
    "        System.out.println(dbMeta.getDriverName());\n",
    "        return connection;\n",
    "    }\n",
    "\n",
    "    public static void getTables(Connection connection) {\n",
    "        ResultSet rs = connection.getMetaData().getTables(null, null, null, null);\n",
    "\n",
    "        SQLs.parseRs(rs);\n",
    "    }\n",
    "\n",
    "    public static void closeConnection(Connection connection) {\n",
    "        connection.close();\n",
    "    }\n",
    "}\n"
   ]
  },
  {
   "cell_type": "code",
   "execution_count": null,
   "metadata": {},
   "outputs": [],
   "source": [
    "\n",
    "String connUrl = \"jdbc:calcite:lex=JAVA\";\n",
    "Connection connection = Calcites.getConnection(connUrl);\n",
    "CalciteConnection calciteConnection = connection.unwrap(CalciteConnection.class);\n",
    "SchemaPlus rootSchema = calciteConnection.getRootSchema();\n",
    "Schema schema = new ReflectiveSchema(companySchema);\n",
    "rootSchema.add(\"company\", schema);\n",
    "\n",
    "Calcites.getTables(connection)\n",
    "\n",
    "// query\n",
    "PreparedStatement ps = connection.prepareStatement(\n",
    "\"select dept.deptName, count(emp.id) \" +\n",
    "\"from company.employees as emp \" +\n",
    "\"  join company.departments as dept \" + \n",
    "\"    on (emp.deptId = dept.deptId) \" +\n",
    "\"group by dept.deptName);\"\n",
    "ResultSet rs = ps.executeQuery();\n",
    "SQLs.parseRs(rs);"
   ]
  }
 ],
 "metadata": {
  "kernelspec": {
   "display_name": "Java (jjava)",
   "language": "java",
   "name": "java"
  },
  "language_info": {
   "codemirror_mode": "java",
   "file_extension": ".jshell",
   "mimetype": "text/x-java-source",
   "name": "java",
   "pygments_lexer": "java",
   "version": "17.0.9+9"
  }
 },
 "nbformat": 4,
 "nbformat_minor": 2
}
