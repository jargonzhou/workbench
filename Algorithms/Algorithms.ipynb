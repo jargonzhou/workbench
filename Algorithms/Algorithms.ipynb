{
 "cells": [
  {
   "cell_type": "markdown",
   "metadata": {},
   "source": [
    "# Algorithms\n",
    "* Sedgewick, R. & Wayne, K. Algorithhms. Pearson, 2011. - Java\n",
    "\n",
    "More:\n",
    "- [Sorting.ipynb](./Sorting.ipynb)\n",
    "- [Searching.ipynb](./Searching.ipynb)\n",
    "- [Graph.ipynb](./Graph.ipynb)\n",
    "- [String.ipynb](./String.ipynb)"
   ]
  },
  {
   "cell_type": "code",
   "execution_count": 5,
   "metadata": {},
   "outputs": [],
   "source": [
    "%classpath D:\\\\GoogleDrive\\\\wiki\\\\jupyter-notebooks\\\\Algorithms\\\\java\n",
    "\n",
    "// 编译:: build.sh\n",
    "// 清理: clean.sh"
   ]
  },
  {
   "cell_type": "markdown",
   "metadata": {},
   "source": [
    "# 支持工具"
   ]
  },
  {
   "cell_type": "markdown",
   "metadata": {},
   "source": [
    "## StopWatch"
   ]
  },
  {
   "cell_type": "code",
   "execution_count": 6,
   "metadata": {},
   "outputs": [
    {
     "name": "stdout",
     "output_type": "stream",
     "text": [
      "N=    250, Time=  0.0, found: 0\n",
      "N=    500, Time=  0.0, found: 7\n",
      "N=   1000, Time=  0.2, found: 65\n",
      "N=   2000, Time=  1.7, found: 508\n"
     ]
    }
   ],
   "source": [
    "import example.ThreeSum;\n",
    "import support.Statistics;\n",
    "import support.StopWatch;\n",
    "\n",
    "// 问题规模为N的实验\n",
    "void experiment(int N) {\n",
    "  int MAX = 1000000;\n",
    "  int[] a = new int[N];\n",
    "  for (int i = 0; i < N; i++) {\n",
    "    a[i] = Statistics.uniform(-MAX, MAX);\n",
    "  }\n",
    "\n",
    "  StopWatch sw = new StopWatch();\n",
    "  int cnt = ThreeSum.basicSolution(a); // 三数和为0\n",
    "  System.out.printf(\"N=%7d, Time=%5.1f, found: %d\\n\", N, sw.elapsedSeconds(), cnt);\n",
    "}\n",
    "\n",
    "// for (int N = 250; N < Integer.MAX_VALUE; N += N) {\n",
    "for (int N = 250; N <= 2000; N += N) {\n",
    "  experiment(N);\n",
    "}"
   ]
  },
  {
   "cell_type": "markdown",
   "metadata": {},
   "source": [
    "# ADT(抽象数据类型)"
   ]
  },
  {
   "cell_type": "markdown",
   "metadata": {},
   "source": [
    "## Bag"
   ]
  },
  {
   "cell_type": "code",
   "execution_count": 5,
   "metadata": {},
   "outputs": [
    {
     "name": "stdout",
     "output_type": "stream",
     "text": [
      "Bag[ 90.0 101.0 81.0 109.0 107.0 98.0 120.0 101.0 99.0 100.0 ]\n",
      "100.6\n",
      "10.511369505867867\n"
     ]
    }
   ],
   "source": [
    "import adt.Bag;\n",
    "\n",
    "Bag<Double> numbers = new Bag<>();\n",
    "\n",
    "numbers.add(100d);\n",
    "numbers.add(99d);\n",
    "numbers.add(101d);\n",
    "numbers.add(120d);\n",
    "numbers.add(98d);\n",
    "numbers.add(107d);\n",
    "numbers.add(109d);\n",
    "numbers.add(81d);\n",
    "numbers.add(101d);\n",
    "numbers.add(90d);\n",
    "\n",
    "System.out.println(numbers);\n",
    "\n",
    "// 计算均值\n",
    "int N = numbers.size();\n",
    "double sum = 0.0;\n",
    "for (double x : numbers) {\n",
    "  sum += x;\n",
    "}\n",
    "double mean = sum / N;\n",
    "\n",
    "// 计算标准差\n",
    "sum = 0.0;\n",
    "for (double x : numbers) {\n",
    "  sum += (x - mean) * (x - mean);\n",
    "}\n",
    "double std = Math.sqrt(sum / (N - 1));\n",
    "\n",
    "System.out.println(mean);\n",
    "System.out.println(std);"
   ]
  },
  {
   "cell_type": "markdown",
   "metadata": {},
   "source": [
    "## Queue"
   ]
  },
  {
   "cell_type": "code",
   "execution_count": 7,
   "metadata": {},
   "outputs": [
    {
     "name": "stdout",
     "output_type": "stream",
     "text": [
      "1 2 3 4 5 "
     ]
    }
   ],
   "source": [
    "import adt.Queue;\n",
    "\n",
    "Queue<Integer> q = new Queue<>();\n",
    "\n",
    "q.enqueue(1);\n",
    "q.enqueue(2);\n",
    "q.enqueue(3);\n",
    "q.enqueue(4);\n",
    "q.enqueue(5);\n",
    "\n",
    "int N = q.size();\n",
    "for (int i = 0; i < N; i++) {\n",
    "  System.out.print(q.dequeue() + \" \");\n",
    "}"
   ]
  },
  {
   "cell_type": "markdown",
   "metadata": {},
   "source": [
    "## Stack"
   ]
  },
  {
   "cell_type": "code",
   "execution_count": 8,
   "metadata": {},
   "outputs": [
    {
     "name": "stdout",
     "output_type": "stream",
     "text": [
      "5 4 3 2 1 "
     ]
    }
   ],
   "source": [
    "import adt.Stack;\n",
    "\n",
    "Stack<Integer> q = new Stack<>();\n",
    "\n",
    "q.push(1);\n",
    "q.push(2);\n",
    "q.push(3);\n",
    "q.push(4);\n",
    "q.push(5);\n",
    "\n",
    "int N = q.size();\n",
    "for (int i = 0; i < N; i++) {\n",
    "  System.out.print(q.pop() + \" \");\n",
    "}"
   ]
  },
  {
   "cell_type": "code",
   "execution_count": null,
   "metadata": {},
   "outputs": [
    {
     "name": "stdout",
     "output_type": "stream",
     "text": [
      "101.0\n",
      "1.618033988749895\n"
     ]
    }
   ],
   "source": [
    "// Dijkstra的双栈算数表达式求值.\n",
    "\n",
    "// 细节:\n",
    "// 表达式由括号, 运算符和操作数(数字)组成.\n",
    "// 实现中使用了两个栈: 操作数栈, 运算符栈.\n",
    "\n",
    "// 从左至右依次入栈:\n",
    "// (1) 将操作数压入操作数栈;\n",
    "// (2) 将运算符压入运算符栈;\n",
    "// (3) 忽略左括号;\n",
    "// (4) 遇到右括号时, 弹出一个运算符, 弹出所需数量的操作数, 将计算结果压入操作数栈.\n",
    "\n",
    "void evaluate(String[] expression) {\n",
    "  if (expression == null || expression.length == 0) {\n",
    "    return; // do nothing\n",
    "  }\n",
    "\n",
    "  Stack<String> ops = new Stack<>(); // 运算符栈\n",
    "  Stack<Double> vals = new Stack<>(); // 操作数栈\n",
    "\n",
    "  for (String e : expression) {\n",
    "    switch (e) {\n",
    "    case \"(\":\n",
    "      break;\n",
    "    case \"+\":\n",
    "    case \"-\":\n",
    "    case \"*\":\n",
    "    case \"/\":\n",
    "    case \"sqrt\":\n",
    "      ops.push(e);\n",
    "      break;\n",
    "    case \")\": {\n",
    "      String op = ops.pop();\n",
    "      double v = vals.pop();\n",
    "      switch (op) {\n",
    "      case \"+\":\n",
    "        v = vals.pop() + v;\n",
    "        break;\n",
    "      case \"-\":\n",
    "        v = vals.pop() - v;\n",
    "        break;\n",
    "      case \"*\":\n",
    "        v = vals.pop() * v;\n",
    "        break;\n",
    "      case \"/\":\n",
    "        v = vals.pop() / v;\n",
    "        break;\n",
    "      case \"sqrt\":\n",
    "        v = Math.sqrt(v);\n",
    "        break;\n",
    "      default:\n",
    "        break;\n",
    "      }\n",
    "      vals.push(v); // 计算结果压入操作数栈\n",
    "      break;\n",
    "    }\n",
    "    default: // 数字\n",
    "      vals.push(Double.parseDouble(e));\n",
    "      break;\n",
    "    }\n",
    "  }\n",
    "\n",
    "  System.out.println(vals.pop()); // 最终计算结果\n",
    "}\n",
    "\n",
    "// 注意: 输入的特殊编码形式\n",
    "// (1+((2+3)*(4*5)))\n",
    "String[] expression = \"( 1 + ( ( 2 + 3 ) * ( 4 * 5 ) ) )\".split(\"\\\\s\");\n",
    "evaluate(expression);\n",
    "\n",
    "// ((1+sqrt(5.0))/2.0)\n",
    "expression = \"( ( 1 + sqrt ( 5.0 ) ) / 2.0 )\".split(\"\\\\s\");\n",
    "evaluate(expression);"
   ]
  },
  {
   "cell_type": "code",
   "execution_count": null,
   "metadata": {},
   "outputs": [
    {
     "name": "stdout",
     "output_type": "stream",
     "text": [
      "9 8 7 6 5 4 3 2 1 \n"
     ]
    }
   ],
   "source": [
    "// 基于数组实现的栈\n",
    "import adt.ArrayStack;\n",
    "\n",
    "ArrayStack<Integer> q = new ArrayStack<>();\n",
    "\n",
    "q.push(1);\n",
    "q.push(2);\n",
    "q.push(3);\n",
    "q.push(4);\n",
    "q.push(5);\n",
    "q.push(6);\n",
    "q.push(7);\n",
    "q.push(8);\n",
    "q.push(9);\n",
    "\n",
    "int N = q.size();\n",
    "StringBuilder sb = new StringBuilder();\n",
    "for (int i = 0; i < N; i++) {\n",
    "  sb.append(q.pop() + \" \");\n",
    "}\n",
    "System.out.println(sb.toString());"
   ]
  },
  {
   "cell_type": "markdown",
   "metadata": {},
   "source": [
    "# Consistent Hashing(一致性哈希)\n",
    "* https://developer.aliyun.com/article/1082388\n",
    "* https://xiaolincoding.com/os/8_network_system/hash.html\n",
    "* https://developer.huawei.com/consumer/cn/forum/topic/0203810951415790238"
   ]
  },
  {
   "cell_type": "markdown",
   "metadata": {},
   "source": [
    "# Timing Wheel"
   ]
  },
  {
   "cell_type": "markdown",
   "metadata": {},
   "source": [
    "# Distributed Algorithms\n",
    "* [Distributed Transaction](./Distributed%20Transaction.ipynb)\n",
    "* [Consensus](./Consensus/Consensus.ipynb)"
   ]
  },
  {
   "cell_type": "markdown",
   "metadata": {},
   "source": [
    "# OAuth 2.0\n",
    "* https://www.ruanyifeng.com/blog/2014/05/oauth_2_0.html"
   ]
  },
  {
   "cell_type": "markdown",
   "metadata": {},
   "source": [
    "RFC 6749\n",
    "\n",
    "角色:\n",
    "- Client/Third-party application(客户端)\n",
    "- Resource Owner(用户)\n",
    "- User Agent(用户代理): 浏览器\n",
    "- HTTP Service(服务提供商)\n",
    "  - Authorization Server\n",
    "  - Resource Server\n",
    "\n",
    "授权方式:\n",
    "- 授权码模式(authorization code)\n",
    "- 隐式/简化模式(implicit)\n",
    "- 资源属主密码模式(resource owner password)\n",
    "- 客户端凭证模式(client credential)"
   ]
  }
 ],
 "metadata": {
  "kernelspec": {
   "display_name": "Java (jjava)",
   "language": "java",
   "name": "java"
  },
  "language_info": {
   "codemirror_mode": "java",
   "file_extension": ".jshell",
   "mimetype": "text/x-java-source",
   "name": "java",
   "pygments_lexer": "java",
   "version": "17.0.9+9"
  }
 },
 "nbformat": 4,
 "nbformat_minor": 2
}
