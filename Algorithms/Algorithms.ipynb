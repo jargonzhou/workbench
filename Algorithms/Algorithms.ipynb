{
 "cells": [
  {
   "cell_type": "markdown",
   "metadata": {},
   "source": [
    "# Algorithms\n",
    "* Sedgewick, R. & Wayne, K. Algorithhms. Pearson, 2011. - Java\n",
    "\n",
    "action:\n",
    "- workbench\\Algorithms\\algorithm-java"
   ]
  },
  {
   "cell_type": "markdown",
   "metadata": {},
   "source": [
    "# Consistent Hashing(一致性哈希)\n",
    "* https://developer.aliyun.com/article/1082388\n",
    "* https://xiaolincoding.com/os/8_network_system/hash.html\n",
    "* https://developer.huawei.com/consumer/cn/forum/topic/0203810951415790238"
   ]
  },
  {
   "cell_type": "markdown",
   "metadata": {},
   "source": [
    "# Timing Wheel"
   ]
  },
  {
   "cell_type": "markdown",
   "metadata": {},
   "source": [
    "# Distributed Algorithms\n",
    "* [Distributed Transaction](./Distributed%20Transaction.ipynb)\n",
    "* [Consensus](./Consensus/Consensus.ipynb)"
   ]
  },
  {
   "cell_type": "markdown",
   "metadata": {},
   "source": [
    "# OAuth 2.0\n",
    "* https://www.ruanyifeng.com/blog/2014/05/oauth_2_0.html"
   ]
  },
  {
   "cell_type": "markdown",
   "metadata": {},
   "source": [
    "RFC 6749\n",
    "\n",
    "角色:\n",
    "- Client/Third-party application(客户端)\n",
    "- Resource Owner(用户)\n",
    "- User Agent(用户代理): 浏览器\n",
    "- HTTP Service(服务提供商)\n",
    "  - Authorization Server\n",
    "  - Resource Server\n",
    "\n",
    "授权方式:\n",
    "- 授权码模式(authorization code)\n",
    "- 隐式/简化模式(implicit)\n",
    "- 资源属主密码模式(resource owner password)\n",
    "- 客户端凭证模式(client credential)"
   ]
  }
 ],
 "metadata": {
  "kernelspec": {
   "display_name": "Java (jjava)",
   "language": "java",
   "name": "java"
  },
  "language_info": {
   "codemirror_mode": "java",
   "file_extension": ".jshell",
   "mimetype": "text/x-java-source",
   "name": "java",
   "pygments_lexer": "java",
   "version": "17.0.9+9"
  }
 },
 "nbformat": 4,
 "nbformat_minor": 2
}
