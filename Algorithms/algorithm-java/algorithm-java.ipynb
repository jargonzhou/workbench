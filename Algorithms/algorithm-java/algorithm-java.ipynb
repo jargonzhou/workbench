{
 "cells": [
  {
   "cell_type": "markdown",
   "id": "0104a80a",
   "metadata": {},
   "source": [
    "# algorithm-java"
   ]
  },
  {
   "cell_type": "code",
   "execution_count": 11,
   "id": "8ad52911",
   "metadata": {},
   "outputs": [],
   "source": [
    "from gvanim import Animation\n",
    "from gvanim.jupyter import interactive"
   ]
  },
  {
   "cell_type": "markdown",
   "id": "fe35edae",
   "metadata": {},
   "source": [
    "# 基础"
   ]
  },
  {
   "cell_type": "markdown",
   "id": "c3e848fe",
   "metadata": {},
   "source": [
    "## 基础编程模型"
   ]
  },
  {
   "cell_type": "markdown",
   "id": "0156efc0",
   "metadata": {},
   "source": [
    "## 数据抽象"
   ]
  },
  {
   "cell_type": "markdown",
   "id": "4cea32ea",
   "metadata": {},
   "source": [
    "## 背包, 队列和栈"
   ]
  },
  {
   "cell_type": "markdown",
   "id": "d1c03252",
   "metadata": {},
   "source": [
    "## 算法分析"
   ]
  },
  {
   "cell_type": "markdown",
   "id": "f9c074ff",
   "metadata": {},
   "source": [
    "## 案例: union-find算法"
   ]
  },
  {
   "cell_type": "markdown",
   "id": "5b595dd5",
   "metadata": {},
   "source": [
    "问题: 动态连通性\n",
    "- 输入: 一列整数对p q表示p和q是相连的(一种等价关系)\n",
    "- 处理:\n",
    "  - 如果已知的整数对不能说明p和q是相连的, 输出p q\n",
    "  - 如果已知的整数对说明p和q是相连的, 忽略p q, 继续处理下一对整数.\n",
    "\n",
    "网络术语:\n",
    "- 触点: 对象\n",
    "- 连接: 整数对\n",
    "- 连通分量: 等价类\n",
    "\n",
    "方法:\n",
    "- `void union(int p, int q)`\n",
    "- `int find(int p)`\n",
    "- `boolean connected(int p, int q)`\n",
    "\n",
    "quick-find算法:\n",
    "- 保证id[p] == id[q]时p和q是连通的\n",
    "- 在`union`中调整: 连接到根节点\n",
    "- `find`快, `union`要扫描`id`故慢\n",
    "\n",
    "quick-union算法:\n",
    "- 为提高`union`的速度: 每个触点对应的`id[]`元素是同一分量中另一个触点的名称\n",
    "- `find`慢: 线性 - 平方级\n",
    "\n",
    "加权quick-union算法:\n",
    "- `union`时总是选择将小树连接到大树\n",
    "\n",
    "路径压缩的加权quick-union算法: 近常数时间分摊\n",
    "- 在检查节点的同时(`find`)将它们直接连接到根节点"
   ]
  },
  {
   "cell_type": "code",
   "execution_count": 38,
   "id": "5b6404e2",
   "metadata": {},
   "outputs": [
    {
     "data": {
      "application/vnd.jupyter.widget-view+json": {
       "model_id": "143807d9fdfb45bda0b7df40f3d108fd",
       "version_major": 2,
       "version_minor": 0
      },
      "text/plain": [
       "interactive(children=(IntSlider(value=0, description='n', max=22), Output()), _dom_classes=('widget-interact',…"
      ]
     },
     "execution_count": 38,
     "metadata": {},
     "output_type": "execute_result"
    }
   ],
   "source": [
    "# com.spike.algorithm.example.uf.IUFTest#quickFind\n",
    "ga = Animation()\n",
    "\n",
    "actions = []\n",
    "with open('gvanim.txt', 'r') as f:\n",
    "  actions = [s for s in f.readlines()]\n",
    "\n",
    "ga.parse(actions)\n",
    "\n",
    "interactive(ga, 400)"
   ]
  },
  {
   "cell_type": "code",
   "execution_count": 39,
   "id": "01f652b0",
   "metadata": {},
   "outputs": [
    {
     "data": {
      "application/vnd.jupyter.widget-view+json": {
       "model_id": "08141c6a2a204a649d99c6ee05b2452d",
       "version_major": 2,
       "version_minor": 0
      },
      "text/plain": [
       "interactive(children=(IntSlider(value=0, description='n', max=34), Output()), _dom_classes=('widget-interact',…"
      ]
     },
     "execution_count": 39,
     "metadata": {},
     "output_type": "execute_result"
    }
   ],
   "source": [
    "# com.spike.algorithm.example.uf.IUFTest#quickUnion\n",
    "ga = Animation()\n",
    "\n",
    "actions = []\n",
    "with open('gvanim.txt', 'r') as f:\n",
    "  actions = [s for s in f.readlines()]\n",
    "\n",
    "ga.parse(actions)\n",
    "\n",
    "interactive(ga, 400)"
   ]
  },
  {
   "cell_type": "code",
   "execution_count": null,
   "id": "ae7f2878",
   "metadata": {},
   "outputs": [
    {
     "data": {
      "application/vnd.jupyter.widget-view+json": {
       "model_id": "37e182c232c8405e974fa450f4e6a5ec",
       "version_major": 2,
       "version_minor": 0
      },
      "text/plain": [
       "interactive(children=(IntSlider(value=0, description='n', max=31), Output()), _dom_classes=('widget-interact',…"
      ]
     },
     "execution_count": 40,
     "metadata": {},
     "output_type": "execute_result"
    }
   ],
   "source": [
    "# com.spike.algorithm.example.uf.IUFTest#weightedQuickUnion\n",
    "ga = Animation()\n",
    "\n",
    "actions = []\n",
    "with open('gvanim.txt', 'r') as f:\n",
    "  actions = [s for s in f.readlines()]\n",
    "\n",
    "ga.parse(actions)\n",
    "\n",
    "interactive(ga, 400)"
   ]
  },
  {
   "cell_type": "code",
   "execution_count": null,
   "id": "dd31d75c",
   "metadata": {},
   "outputs": [
    {
     "data": {
      "application/vnd.jupyter.widget-view+json": {
       "model_id": "1143082cd23b4c11a061cc3545900335",
       "version_major": 2,
       "version_minor": 0
      },
      "text/plain": [
       "interactive(children=(IntSlider(value=0, description='n', max=29), Output()), _dom_classes=('widget-interact',…"
      ]
     },
     "execution_count": 41,
     "metadata": {},
     "output_type": "execute_result"
    }
   ],
   "source": [
    "# com.spike.algorithm.example.uf.IUFTest#uf\n",
    "ga = Animation()\n",
    "\n",
    "actions = []\n",
    "with open('gvanim.txt', 'r') as f:\n",
    "  actions = [s for s in f.readlines()]\n",
    "\n",
    "ga.parse(actions)\n",
    "\n",
    "interactive(ga, 400)"
   ]
  },
  {
   "cell_type": "markdown",
   "id": "dbe88770",
   "metadata": {},
   "source": [
    "# 排序"
   ]
  },
  {
   "cell_type": "markdown",
   "id": "669d33e2",
   "metadata": {},
   "source": [
    "## 初级排序算法\n",
    "- 游戏规则\n",
    "- 选择排序\n",
    "- 插入排序\n",
    "- 希尔排序"
   ]
  },
  {
   "cell_type": "markdown",
   "id": "cf9a8507",
   "metadata": {},
   "source": [
    "## 归并排序"
   ]
  },
  {
   "cell_type": "markdown",
   "id": "0d45b888",
   "metadata": {},
   "source": [
    "## 快速排序"
   ]
  },
  {
   "cell_type": "markdown",
   "id": "46b1289e",
   "metadata": {},
   "source": [
    "## 优先队列"
   ]
  },
  {
   "cell_type": "markdown",
   "id": "e4af4e24",
   "metadata": {},
   "source": [
    "TODO"
   ]
  },
  {
   "cell_type": "markdown",
   "id": "eb254187",
   "metadata": {},
   "source": [
    "## 应用"
   ]
  },
  {
   "cell_type": "markdown",
   "id": "ee6ba6b9",
   "metadata": {},
   "source": [
    "# 查找"
   ]
  },
  {
   "cell_type": "markdown",
   "id": "fe9181a3",
   "metadata": {},
   "source": [
    "## 符号表"
   ]
  },
  {
   "cell_type": "markdown",
   "id": "f789f853",
   "metadata": {},
   "source": [
    "## 二叉查找树"
   ]
  },
  {
   "cell_type": "markdown",
   "id": "9dd0cf10",
   "metadata": {},
   "source": [
    "## 平衡查找树"
   ]
  },
  {
   "cell_type": "markdown",
   "id": "7f77fed8",
   "metadata": {},
   "source": [
    "## 散列表"
   ]
  },
  {
   "cell_type": "markdown",
   "id": "831dbcef",
   "metadata": {},
   "source": [
    "## 应用"
   ]
  },
  {
   "cell_type": "markdown",
   "id": "3cadd2fb",
   "metadata": {},
   "source": [
    "# 图"
   ]
  },
  {
   "cell_type": "markdown",
   "id": "0d5387b8",
   "metadata": {},
   "source": [
    "用例:\n",
    "- 地图: 十字路口, 公路\n",
    "- 网页信息: 超链接跳转\n",
    "- 电路: 元器件和导线, 检查短路, 导线是否交叉\n",
    "- 任务调度: 工序和限制条件\n",
    "- 商业交易: 买卖交易\n",
    "- 配对: 学生申请加入机构\n",
    "- 计算机网络: 站点, 线路, 交换设备\n",
    "- 软件: 方法调用关系的静态分析, 动态分析\n",
    "- 社交网络: 关系"
   ]
  },
  {
   "cell_type": "markdown",
   "id": "4a1a020c",
   "metadata": {},
   "source": [
    "## 无向图"
   ]
  },
  {
   "cell_type": "markdown",
   "id": "e487e4b5",
   "metadata": {},
   "source": [
    "一些术语:\n",
    "- **无向图**: 图是由一组顶点和一组能够将两个顶点相连的边组成的. \n",
    "  - 自环(self-loop): 一条连接一个顶点和其自身的边.\n",
    "  - 平行边(parallel): 连接同一对顶点的两条边.\n",
    "- 顶点相邻(adjacent): 当两个顶点通过一条边相连时. 称这条边依附于这两个顶点.\n",
    "- 顶点的度数(degree): 依附于该顶点的边的总数.\n",
    "- 子图(subgraph): 由图中所有边的一个子集以及这些边依附的所有顶点组成的图.\n",
    "- **路径(path)**: 由边顺序联接的一系列顶点;\n",
    "  - **简单路径**: 没有重复顶点的路径;\n",
    "- **环(cycle)**: 至少含有一条边, 起点和终点相同的路径;\n",
    "  - **简单环**: (除起点和终点必须相同外)不含有重复顶点和边的环;\n",
    "- **路径或环的长度(length)**: 其中所包含的边数;\n",
    "- **连通图(connected)**: 图中任意一个顶点都存在一条路径到达另一个任意顶点.\n",
    "  - 不连通的图由若干个连通的部分(connected components)组成, 这些部分是极大连通的子图. \n",
    "- **树**: 无环连通图\n",
    "  - **连通图的生成树**: 含有图中所有顶点且是一颗树的子图.\n",
    "- 图的密度(density): 已经连接的顶点对占所有可能被连接的顶点对的比例.\n",
    "  - 稀疏图, 稠密图\n",
    "- 二分图(bipartite graph): 一种将所有订单分为两部分的图, 其中图的每条边所连接的两个顶点都分别属于不同的部分.\n",
    "\n",
    "图与树的关系: 当且仅当含有V个顶点的图G满足下述条件之一时, 是一棵树:\n",
    "- (1) G有V-1条边, 不含有环;\n",
    "- (2) G有V-1条边, 连通的;\n",
    "- (3) G连通的, 但删除任意一条边后不再连通;\n",
    "- (4) G无环, 但添加任意一条边后有环;\n",
    "- (5) G中的任意一对顶点之间仅存在一条简单路径.\n",
    "\n"
   ]
  },
  {
   "cell_type": "markdown",
   "id": "622c53a4",
   "metadata": {},
   "source": [
    "图的表示方法:\n",
    "- 邻接矩阵\n",
    "- 边的数组\n",
    "- 邻接表数组: 非稠密图的标准表示"
   ]
  },
  {
   "cell_type": "markdown",
   "id": "1ca89f61",
   "metadata": {},
   "source": [
    "- 表示图的数据类型\n",
    "- 深度优先搜索DFS: 沿着图的边, 从一个顶点到另一个顶点\n",
    "  - `int[] marked`: 节点是否访问过\n",
    "- 寻找路径: 单点路径问题\n",
    "  - `edgeTo`: 父节点链\n",
    "  - 例: 社交网络中两个人间隔的度数\n",
    "- 广度优先搜索BFS: 单点最短路径\n",
    "  - 要找到从s到v的最短路径, 从s开始, 在所有由一条边就可以到达的顶点中寻找v, 如果找不到继续在与s距离两条边的所有顶点中查找v, 如此一直执行.\n",
    "  - `int[] marked`: 节点是否访问过\n",
    "  - 队列`Queue`\n",
    "- 连通分量\n",
    "  - DFS\n",
    "  - 连通分量编号\n",
    "  - 对比DFS与union-find算法\n",
    "    - union-find算法: 一种动态算法, 在任何时候都能用接近常数的时间检查两个节点是否连通, 甚至是在添加一条边时. 适用于只需要判断连通性或是需要完成有大量连通性查询和插入操作混合等类似的任务.\n",
    "    - DFS: 适用于实现图的抽象数据类型.\n",
    "      - 检测环 `CycleDetection`\n",
    "      - 双色问题 `TwoColorable`: 是否是二分图\n",
    "- 符号图\n",
    "  - 符号表: 符号-索引\n",
    "  - `String[] keys`: 索引-符号"
   ]
  },
  {
   "cell_type": "code",
   "execution_count": null,
   "id": "a6ea196e",
   "metadata": {},
   "outputs": [
    {
     "data": {
      "application/vnd.jupyter.widget-view+json": {
       "model_id": "13d01df64eb74446baa6151fbc86fecd",
       "version_major": 2,
       "version_minor": 0
      },
      "text/plain": [
       "interactive(children=(IntSlider(value=0, description='n', max=26), Output()), _dom_classes=('widget-interact',…"
      ]
     },
     "execution_count": 10,
     "metadata": {},
     "output_type": "execute_result"
    }
   ],
   "source": [
    "# com.spike.algorithm.graph.GraphTest#create\n",
    "ga = Animation()\n",
    "\n",
    "actions = []\n",
    "with open('gvanim.txt', 'r') as f:\n",
    "  actions = [s for s in f.readlines()]\n",
    "\n",
    "ga.parse(actions)\n",
    "\n",
    "interactive(ga, 400)"
   ]
  },
  {
   "cell_type": "code",
   "execution_count": null,
   "id": "ddf7ceea",
   "metadata": {},
   "outputs": [
    {
     "data": {
      "application/vnd.jupyter.widget-view+json": {
       "model_id": "90ad6f5a1de247769da9b3ff734da3b7",
       "version_major": 2,
       "version_minor": 0
      },
      "text/plain": [
       "interactive(children=(IntSlider(value=0, description='n', max=7), Output()), _dom_classes=('widget-interact',)…"
      ]
     },
     "execution_count": 18,
     "metadata": {},
     "output_type": "execute_result"
    }
   ],
   "source": [
    "# com.spike.algorithm.graph.search.IGraphSearchTest#dfs\n",
    "ga = Animation()\n",
    "\n",
    "actions = []\n",
    "with open('gvanim.txt', 'r') as f:\n",
    "  actions = [s for s in f.readlines()]\n",
    "\n",
    "ga.parse(actions)\n",
    "\n",
    "interactive(ga, 400)"
   ]
  },
  {
   "cell_type": "code",
   "execution_count": null,
   "id": "71274071",
   "metadata": {},
   "outputs": [
    {
     "data": {
      "application/vnd.jupyter.widget-view+json": {
       "model_id": "9fab33bca90c424a9167b8f8f0d9ae3b",
       "version_major": 2,
       "version_minor": 0
      },
      "text/plain": [
       "interactive(children=(IntSlider(value=0, description='n', max=7), Output()), _dom_classes=('widget-interact',)…"
      ]
     },
     "execution_count": 19,
     "metadata": {},
     "output_type": "execute_result"
    }
   ],
   "source": [
    "# com.spike.algorithm.graph.search.IGraphSearchTest#bfs\n",
    "ga = Animation()\n",
    "\n",
    "actions = []\n",
    "with open('gvanim.txt', 'r') as f:\n",
    "  actions = [s for s in f.readlines()]\n",
    "\n",
    "ga.parse(actions)\n",
    "\n",
    "interactive(ga, 400)"
   ]
  },
  {
   "cell_type": "code",
   "execution_count": 21,
   "id": "65b4b051",
   "metadata": {},
   "outputs": [
    {
     "data": {
      "application/vnd.jupyter.widget-view+json": {
       "model_id": "aee9838d80514ea1b82ade321dfd60e7",
       "version_major": 2,
       "version_minor": 0
      },
      "text/plain": [
       "interactive(children=(IntSlider(value=0, description='n', max=10), Output()), _dom_classes=('widget-interact',…"
      ]
     },
     "execution_count": 21,
     "metadata": {},
     "output_type": "execute_result"
    }
   ],
   "source": [
    "# com.spike.algorithm.graph.cc.ConnectedComponentsTest#cc\n",
    "ga = Animation()\n",
    "\n",
    "actions = []\n",
    "with open('gvanim.txt', 'r') as f:\n",
    "  actions = [s for s in f.readlines()]\n",
    "\n",
    "ga.parse(actions)\n",
    "\n",
    "interactive(ga, 400)"
   ]
  },
  {
   "cell_type": "code",
   "execution_count": 23,
   "id": "8dbe8121",
   "metadata": {},
   "outputs": [
    {
     "data": {
      "application/vnd.jupyter.widget-view+json": {
       "model_id": "d6798f75ad8840dd8cd48edddeb98e16",
       "version_major": 2,
       "version_minor": 0
      },
      "text/plain": [
       "interactive(children=(IntSlider(value=0, description='n', max=0), Output()), _dom_classes=('widget-interact',)…"
      ]
     },
     "execution_count": 23,
     "metadata": {},
     "output_type": "execute_result"
    }
   ],
   "source": [
    "# com.spike.algorithm.graph.search.SymbolGraphTest#create\n",
    "ga = Animation()\n",
    "\n",
    "actions = []\n",
    "with open('gvanim.txt', 'r') as f:\n",
    "  actions = [s for s in f.readlines()]\n",
    "\n",
    "ga.parse(actions)\n",
    "\n",
    "interactive(ga, 400)"
   ]
  },
  {
   "cell_type": "markdown",
   "id": "ef0ef3a3",
   "metadata": {},
   "source": [
    "## 有向图"
   ]
  },
  {
   "cell_type": "markdown",
   "id": "a99009a7",
   "metadata": {},
   "source": [
    "一些术语:\n",
    "- 有向边: 由第一个顶点指出并指向第二个顶点: v -> w\n",
    "- 有向图中两个顶点的关系:\n",
    "  - 没有边相邻\n",
    "  - 存在v->w\n",
    "  - 存在w->v,\n",
    "  - 存在v->w和w->v.\n",
    "- 有向路径\n",
    "- 有向环\n",
    "- 有向路径/环的长度\n",
    "- 可达(reachable): 当存在从v到w的有向路径时, 称顶点w能够由顶点v达到. "
   ]
  },
  {
   "cell_type": "markdown",
   "id": "8145b347",
   "metadata": {},
   "source": [
    "- 有向图的数据类型: `Digraph`\n",
    "- 可达性: `DirectedDFS`\n",
    "  - 单点可达性\n",
    "  - 多点可达性\n",
    "  - 标记-清除的垃圾收集\n",
    "  - 有向图的寻路\n",
    "    - 单点有向路径\n",
    "    - 单点最短有向路径\n",
    "- 环, 有向无环图\n",
    "  - 调度问题: 优先级限制\n",
    "    - 拓扑排序: 给定有向图, 将所有顶点排序, 使得所有有向边均从排在前面的元素指向排在后面的元素, 或者说明无法做到这一点.\n",
    "  - 有向无环图(DAG): 不含有向环的有向图.\n",
    "    - 有向环检测 `DirectedCycleDetection`\n",
    "      - 递归调用栈`boolean[] onStack`\n",
    "    - 当且仅当有向图是无环图时, 它才能够进行拓扑排序.\n",
    "    - 有向图中基于DFS的顶点排序: `DepthFirstOrder`\n",
    "      - 前序pre: 在递归调用之前讲顶点加入队列\n",
    "      - 后序post: 在递归调用之后将顶点加入队列\n",
    "      - 逆后序reversePost: 在递归调用之后将顶点压入栈 - 拓扑排序 `TopologicalSort`\n",
    "- 强连通性\n",
    "  - 两个顶点是强连通的(stronly connected): 如果两个顶点是互相可达的.\n",
    "  - 有向图是强连通的: 图中任意两个顶点都是强连通的.\n",
    "  - 强连通分量 `StrongConnectedComponents`\n",
    "    - 计算有向图DG的逆图的逆后续\n",
    "    - 以计算出的顺序在DG上执行DFS\n",
    "    - 在同一个dfs递归调用中可达的顶点术语同一个强连通分量.\n",
    "  - 定点对的可达性\n",
    "    - 有向图G的传递闭包`TransitiveClosure`: 由相同的一组顶点组成的另一个有向图, 在该图中存在一条从v指向w的边 当且仅当 在G中w是从v可达的."
   ]
  },
  {
   "cell_type": "code",
   "execution_count": 24,
   "id": "745c9ef5",
   "metadata": {},
   "outputs": [
    {
     "data": {
      "application/vnd.jupyter.widget-view+json": {
       "model_id": "259427405fd24254a40e76fa3aad412a",
       "version_major": 2,
       "version_minor": 0
      },
      "text/plain": [
       "interactive(children=(IntSlider(value=0, description='n', max=0), Output()), _dom_classes=('widget-interact',)…"
      ]
     },
     "execution_count": 24,
     "metadata": {},
     "output_type": "execute_result"
    }
   ],
   "source": [
    "# com.spike.algorithm.graph.DigraphTest#create\n",
    "ga = Animation()\n",
    "\n",
    "actions = []\n",
    "with open('gvanim.txt', 'r') as f:\n",
    "  actions = [s for s in f.readlines()]\n",
    "\n",
    "ga.parse(actions)\n",
    "\n",
    "interactive(ga, 400)"
   ]
  },
  {
   "cell_type": "code",
   "execution_count": null,
   "id": "2680782e",
   "metadata": {},
   "outputs": [
    {
     "data": {
      "application/vnd.jupyter.widget-view+json": {
       "model_id": "6a1823a1f30245d98fdfc8e5814b1c53",
       "version_major": 2,
       "version_minor": 0
      },
      "text/plain": [
       "interactive(children=(IntSlider(value=0, description='n', max=6), Output()), _dom_classes=('widget-interact',)…"
      ]
     },
     "execution_count": 28,
     "metadata": {},
     "output_type": "execute_result"
    }
   ],
   "source": [
    "# com.spike.algorithm.graph.search.IGraphSearchTest#ddfs\n",
    "ga = Animation()\n",
    "\n",
    "actions = []\n",
    "with open('gvanim.txt', 'r') as f:\n",
    "  actions = [s for s in f.readlines()]\n",
    "\n",
    "ga.parse(actions)\n",
    "\n",
    "interactive(ga, 400)"
   ]
  },
  {
   "cell_type": "markdown",
   "id": "cef44ca1",
   "metadata": {},
   "source": [
    "## 最小生成树"
   ]
  },
  {
   "cell_type": "markdown",
   "id": "4db8abcd",
   "metadata": {},
   "source": [
    "一些术语:\n",
    "- 加权图: 一种为每条边关联一个权值或是成本的图模型.\n",
    "- 图的生成树(spanning tree): 它的一颗含有其所有顶点的无环连通子图\n",
    "- 加权图的最小生成树(MST): 它的一颗权值(树中所有边的权值之和)最小的生成树 \n",
    "\n",
    "一些约定:\n",
    "- 只考虑连通图\n",
    "- 边的权重不一定表示距离\n",
    "- 边的权重可能是0或者负数\n",
    "- 所有边的权重各不相同: 如果存在相同的权重, 最小生成树不一定唯一.\n",
    "\n",
    "树的性质:\n",
    "- 用一条边连接树中任意两个顶点都会产生一个新的环.\n",
    "- 从树中删去一条边, 将会得到两颗独立的树.\n",
    "\n",
    "原理:\n",
    "- 图的切分(cut): 一个划分(partition), 将图的所有顶点为两个非空且不重叠的集合.\n",
    "- 横切边(crossing edge): 一条连接两个属于不同集合的顶点的边.\n",
    "- 切分定理: 在加权图中, 给定任意切分, 它的横切边中权重最小者必然属于图的MST."
   ]
  },
  {
   "cell_type": "code",
   "execution_count": null,
   "id": "7b5855c0",
   "metadata": {},
   "outputs": [],
   "source": [
    "- 加权无向图的数据类型 `EdgeWeightedGraph`\n",
    "\n",
    "Prim算法\n",
    "- 概述: 每一步为一颗生长中的树添加一条边\n",
    "- 开始时这颗树只有一个顶点, 之后向它添加V-1条边\n",
    "- 每次总是将下一条连接树中的顶点与不在树中的顶点, 且权重最小的边加入树中\n",
    "  - 由树中顶点所定义的切分中的一条横切边\n",
    "\n",
    "Kruskal算法\n",
    "- 概述: 按边的权重从小到大处理边, 将边加入MST中, 加入的边不会与已加入的边构成环, 直到树中有V-1条边为止."
   ]
  },
  {
   "cell_type": "code",
   "execution_count": 35,
   "id": "5d4c672a",
   "metadata": {},
   "outputs": [
    {
     "data": {
      "application/vnd.jupyter.widget-view+json": {
       "model_id": "ca1c96b2173d4bd2875d87ae387bd20f",
       "version_major": 2,
       "version_minor": 0
      },
      "text/plain": [
       "interactive(children=(IntSlider(value=0, description='n', max=8), Output()), _dom_classes=('widget-interact',)…"
      ]
     },
     "execution_count": 35,
     "metadata": {},
     "output_type": "execute_result"
    }
   ],
   "source": [
    "# com.spike.algorithm.graph.mst.IMSTTest#lazyPrim\n",
    "ga = Animation()\n",
    "\n",
    "actions = []\n",
    "with open('gvanim.txt', 'r') as f:\n",
    "  actions = [s for s in f.readlines()]\n",
    "\n",
    "ga.parse(actions)\n",
    "\n",
    "interactive(ga, 400)"
   ]
  },
  {
   "cell_type": "code",
   "execution_count": 36,
   "id": "60c12dab",
   "metadata": {},
   "outputs": [
    {
     "data": {
      "application/vnd.jupyter.widget-view+json": {
       "model_id": "0872e3f1d8dc484982289c13f9edcb23",
       "version_major": 2,
       "version_minor": 0
      },
      "text/plain": [
       "interactive(children=(IntSlider(value=0, description='n', max=8), Output()), _dom_classes=('widget-interact',)…"
      ]
     },
     "execution_count": 36,
     "metadata": {},
     "output_type": "execute_result"
    }
   ],
   "source": [
    "# com.spike.algorithm.graph.mst.IMSTTest#kruskal\n",
    "ga = Animation()\n",
    "\n",
    "actions = []\n",
    "with open('gvanim.txt', 'r') as f:\n",
    "  actions = [s for s in f.readlines()]\n",
    "\n",
    "ga.parse(actions)\n",
    "\n",
    "interactive(ga, 400)"
   ]
  },
  {
   "cell_type": "markdown",
   "id": "29215e3a",
   "metadata": {},
   "source": [
    "## 最短路径"
   ]
  },
  {
   "cell_type": "markdown",
   "id": "31b499be",
   "metadata": {},
   "source": [
    "术语:\n",
    "- 最短路径: 在加权有向图中, 从顶点s到顶点t的最短路径是所有从s到t的路径中的权重最小者.\n",
    "- 最短路径树SPT: 从顶点s到所有可达顶点的最短路径 "
   ]
  },
  {
   "cell_type": "markdown",
   "id": "9dd50125",
   "metadata": {},
   "source": [
    "最短路径的性质\n",
    "- 路径是有向的\n",
    "- 权重不一定等于距离\n",
    "- 并不是所有顶点都是可达的: 假设图是强连通的\n",
    "- 负权重回事问题更复杂\n",
    "- 最短路径一般是简单的\n",
    "- 最短路径不一定是唯一的\n",
    "- 可能存在平行边和自环: 忽略\n",
    "\n",
    "加权有向图的数据类型\n",
    "- `DirectedEdge`, `WeightedDigraph`\n",
    "- `ISP`: 最短路径\n",
    "  - 最短路径树中的边: `edgeTo[v]` 树中连接v和它的父节点的边(从起点s到v的最短路径上的最后一条边)\n",
    "  - 到达起点的距离: `distTo[v]` 从起点s到v的已知最短路径的长度\n",
    "- 边的松弛: v->w, 检查从s到w的最短路径是否是先从s到v, 然后再由v到w\n",
    "  - 比较: `distTo[w]`和`distTo[v] + e.weight()`\n",
    "    - `<=`时: v->w这条边失效\n",
    "- 顶点的松弛: 顶点的输出边的松弛\n",
    "\n",
    "\n",
    "最短路径算法的理论基础\n",
    "- 最短路径的最优性条件: 判断路径是否是最短路径的全局条件 与 在放松一条边是所检测的局部条件 是等价的.\n",
    "  - 必要条件, 充分条件\n",
    "- 通用最短路径算法: 暂考虑非负权重\n",
    "  - 将distTo[s]初始化为0, 其它dist[]初始化为无穷大\n",
    "  - 放松图中的任意边, 知道不存在有效边为止.\n",
    "\n",
    "Dijkstra算法\n",
    "- 解决边权重非负的加权有向图的单起点最短路径问题\n",
    "- 与Prim算法每次添加的边都是离树最近的非树顶点相比, Dijkstra算法每次添加的都是离起点s最近的非树顶点.\n",
    "\n",
    "无环加权有向图中\n",
    "\n",
    "一般加权有向图中"
   ]
  },
  {
   "cell_type": "code",
   "execution_count": null,
   "id": "03b3a305",
   "metadata": {},
   "outputs": [
    {
     "data": {
      "application/vnd.jupyter.widget-view+json": {
       "model_id": "7b431ae596124fcdb2a766f5bc97d164",
       "version_major": 2,
       "version_minor": 0
      },
      "text/plain": [
       "interactive(children=(IntSlider(value=0, description='n', max=0), Output()), _dom_classes=('widget-interact',)…"
      ]
     },
     "execution_count": 42,
     "metadata": {},
     "output_type": "execute_result"
    }
   ],
   "source": [
    "# com.spike.algorithm.graph.EdgeWeightedDigraphTest#create\n",
    "ga = Animation()\n",
    "\n",
    "actions = []\n",
    "with open('gvanim.txt', 'r') as f:\n",
    "  actions = [s for s in f.readlines()]\n",
    "\n",
    "ga.parse(actions)\n",
    "\n",
    "interactive(ga, 400)"
   ]
  },
  {
   "cell_type": "code",
   "execution_count": 57,
   "id": "a8ae6106",
   "metadata": {},
   "outputs": [
    {
     "data": {
      "application/vnd.jupyter.widget-view+json": {
       "model_id": "0aaaac8167b14bb5ae0fb92ed4df7f66",
       "version_major": 2,
       "version_minor": 0
      },
      "text/plain": [
       "interactive(children=(IntSlider(value=0, description='n', max=8), Output()), _dom_classes=('widget-interact',)…"
      ]
     },
     "execution_count": 57,
     "metadata": {},
     "output_type": "execute_result"
    }
   ],
   "source": [
    "# com.spike.algorithm.graph.sp.ISPTest#dijkstra\n",
    "ga = Animation()\n",
    "\n",
    "actions = []\n",
    "with open('gvanim.txt', 'r') as f:\n",
    "  actions = [s for s in f.readlines()]\n",
    "\n",
    "ga.parse(actions)\n",
    "\n",
    "interactive(ga, 500)"
   ]
  },
  {
   "cell_type": "markdown",
   "id": "d05c4ecf",
   "metadata": {},
   "source": [
    "# 字符串"
   ]
  },
  {
   "cell_type": "markdown",
   "id": "43e976a1",
   "metadata": {},
   "source": [
    "## 字符串排序"
   ]
  },
  {
   "cell_type": "markdown",
   "id": "951f4c79",
   "metadata": {},
   "source": [
    "## 单词查找树"
   ]
  },
  {
   "cell_type": "markdown",
   "id": "83806205",
   "metadata": {},
   "source": [
    "## 子字符串查找"
   ]
  },
  {
   "cell_type": "markdown",
   "id": "f0c121e7",
   "metadata": {},
   "source": [
    "## 正则表达式"
   ]
  },
  {
   "cell_type": "markdown",
   "id": "535c90b1",
   "metadata": {},
   "source": [
    "## 数据压缩"
   ]
  },
  {
   "cell_type": "markdown",
   "id": "da3dcd73",
   "metadata": {},
   "source": [
    "# 背景"
   ]
  },
  {
   "cell_type": "markdown",
   "id": "35be57a1",
   "metadata": {},
   "source": [
    "Context:\n",
    "- 事件驱动模拟\n",
    "- B树\n",
    "- 后缀数组\n",
    "- 网络流算法\n",
    "- 问题规约\n",
    "- 不可解性"
   ]
  },
  {
   "cell_type": "markdown",
   "id": "96b1918f",
   "metadata": {},
   "source": [
    "# 动态规划"
   ]
  }
 ],
 "metadata": {
  "kernelspec": {
   "display_name": "base",
   "language": "python",
   "name": "python3"
  },
  "language_info": {
   "codemirror_mode": {
    "name": "ipython",
    "version": 3
   },
   "file_extension": ".py",
   "mimetype": "text/x-python",
   "name": "python",
   "nbconvert_exporter": "python",
   "pygments_lexer": "ipython3",
   "version": "3.12.3"
  }
 },
 "nbformat": 4,
 "nbformat_minor": 5
}
