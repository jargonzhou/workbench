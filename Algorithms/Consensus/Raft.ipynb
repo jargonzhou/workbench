{
 "cells": [
  {
   "cell_type": "markdown",
   "metadata": {},
   "source": [
    "# Raft\n",
    "\n",
    "- [The Raft Consensus Algorithm - Web](https://raft.github.io/)\n",
    "- In Search of an Understandable Consensus Algorithm (Extended Version)\n",
    "\n",
    "reference implementation:\n",
    "- C++\n",
    "\t- [LogCabin](https://github.com/logcabin/logcabin)\n",
    "- Java\n",
    "\t- [Apache Ratis™](https://github.com/apache/ratis)\n",
    "\t- [SOFAJRaft](https://github.com/sofastack/sofa-jraft)"
   ]
  },
  {
   "cell_type": "markdown",
   "metadata": {},
   "source": [
    "# Paper\n",
    "\n",
    "```\n",
    "1 Introduction\n",
    "2 Replicated state machines\n",
    "3 What’s wrong with Paxos?\n",
    "4 Designing for understandability\n",
    "5 The Raft consensus algorithm\n",
    "5.1 Raft basics\n",
    "5.2 Leader election\n",
    "5.3 Log replication\n",
    "5.4 Safety\n",
    "5.4.1 Election restriction\n",
    "5.4.2 Committing entries from previous terms\n",
    "5.4.3 Safety argument\n",
    "5.5 Follower and candidate crashes\n",
    "5.6 Timing and availability\n",
    "6 Cluster membership changes\n",
    "7 Log compaction\n",
    "8 Client interaction\n",
    "9 Implementation and evaluation\n",
    "9.1 Understandability\n",
    "9.2 Correctness\n",
    "9.3 Performance\n",
    "10 Related work\n",
    "11 Conclusion\n",
    "```"
   ]
  },
  {
   "cell_type": "markdown",
   "metadata": {},
   "source": [
    "Raft implements consensus by first electing a distinguished leader, then giving the leader complete responsibility for managing the replicated log.\n",
    "\n",
    "Given the leader approach, Raft decomposes the consensus problem into three relatively independent subproblems, which are discussed in the subsections that follow:\n",
    "\n",
    "- **Leader election**: a new leader must be chosen when an existing leader fails (Section 5.2).\n",
    "- **Log replication**: the leader must accept log entries from clients and replicate them across the cluster, forcing the other logs to agree with its own (Section 5.3).\n",
    "- **Safety**: the key safety property for Raft is the *State Machine Safety Property* in Figure 3: if any server has applied a particular log entry to its state machine, then no other server may apply a different command for the same log index. Section 5.4 describes how Raft ensures this property; the solution involves an additional restriction on the election mechanism described in Section 5.2.\n",
    "\n",
    "Figure 2: A condensed summary of the Raft consensus algorithm (excluding membership changes and log compaction). The server behavior in the upper-left box is described as a set of rules that trigger independently and repeatedly. Section numbers such as §5.2 indicate where particular features are discussed. \n",
    "A formal specification [31] describes the algorithm more precisely.\n",
    "\n",
    "Figure 3: Raft guarantees that each of these properties is true at all times. The section numbers indicate where each property is discussed.\n",
    "\n",
    "- **Election Safety**: *at most one leader* can be elected in a given term. §5.2\n",
    "- **Leader Append-Only**: a leader never overwrites or deletes entries in its log; it only *appends* new entries. §5.3\n",
    "- **Log Matching**: if two logs contain an entry with the same index and term, then the logs are identical in all entries *up through* the given index. §5.3\n",
    "- **Leader Completeness**: if a log entry is *committed* in a given term, then that entry will be present in the logs of the *leaders for all higher-numbered terms*. §5.4\n",
    "- **State Machine Safety**: if a server has *applied a log entry at a given index to its state machine*, no other server will ever apply a different log entry for the same index. §5.4.3\n"
   ]
  }
 ],
 "metadata": {
  "language_info": {
   "name": "python"
  }
 },
 "nbformat": 4,
 "nbformat_minor": 2
}
