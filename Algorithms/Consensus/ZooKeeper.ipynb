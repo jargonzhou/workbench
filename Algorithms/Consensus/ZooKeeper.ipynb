{
 "cells": [
  {
   "cell_type": "markdown",
   "metadata": {},
   "source": [
    "# ZooKeeper\n",
    "\n",
    "- [Home](https://zookeeper.apache.org/)\n",
    "  - ZooKeeper Programmer's Guide\n",
    "  - ZooKeeper Internals\n",
    "  - ZooKeeper-cli: the ZooKeeper command line interface\n",
    "- [Builtin ACL Schemes](https://zookeeper.apache.org/doc/r3.7.2/zookeeperProgrammers.html#sc_BuiltinACLSchemes)\n",
    "\n",
    "Code: `D:\\workspace\\rtfsc\\zookeeper`"
   ]
  },
  {
   "cell_type": "markdown",
   "metadata": {},
   "source": [
    "# Introduction"
   ]
  },
  {
   "cell_type": "markdown",
   "metadata": {},
   "source": [
    "1. ZooKeeper: Because Coordinating Distributed Systems is a Zoo\n",
    "\n",
    "ZooKeeper is a high-performance **coordination service for distributed applications**. \n",
    "\n",
    "It exposes common services - such as naming, configuration management, synchronization, and group services - in a simple interface so you don't have to write them from scratch. \n",
    "\n",
    "You can use it off-the-shelf to implement *consensus*, *group management*, *leader election*, and *presence* **protocols**. And you can build on it for your own, specific needs.\n",
    "\n",
    "2. Assumption\n",
    "\n",
    "Our protocol assumes that we can construct **point-to-point FIFO channels between the servers**. While similar services usually assume message delivery that can lose or reorder messages, our assumption of FIFO channels is very practical given that we **use TCP for communication**. Specifically we rely on the following property of TCP:\n",
    "\n",
    "Ordered delivery : Data is delivered in the same order it is sent and a message m is delivered only after all messages sent before m have been delivered. (The corollary to this is that if message m is lost all messages after m will be lost.)\n",
    "\n",
    "No message after close : Once a FIFO channel is closed, no messages will be received from it."
   ]
  },
  {
   "cell_type": "markdown",
   "metadata": {},
   "source": [
    "# Conventions"
   ]
  },
  {
   "cell_type": "markdown",
   "metadata": {},
   "source": [
    "\n",
    "- `myid`: service id.\n",
    "- `all_server_count`: all server count.\n",
    "- `zxid`: transaction id, 2 32-bit parts `(epoch, count)`, reflects total ordering.\n",
    "\n",
    "Each time a new leader comes into power it will have its own `epoch` number.\n",
    "We have a simple algorithm to assign a unique `zxid` to a proposal: the leader simply increments the `zxid` to obtain a unique zxid for each proposal.\n",
    "\n",
    "- server state: `LOOKING`, `FOLLOWING`, `LEADING`, `OBSERVING`\n",
    "- proposal\n",
    "\n",
    "```\n",
    "// leader election(LE) proposal\n",
    "<proposal>=(\n",
    "epoch,\n",
    "current_server_state,\n",
    "self_myid,    // my knowledge\n",
    "self_max_zxid,\n",
    "vote_myid,    // voting\n",
    "vote_max_zxid\n",
    ")\n",
    "\n",
    "// LE proposal bookkeeping\n",
    "<current_epoch>\n",
    "<bookkeeping>=\n",
    "[\n",
    "  (voter_myid, candidate_myid)\n",
    "]\n",
    "```\n"
   ]
  },
  {
   "cell_type": "markdown",
   "metadata": {},
   "source": [
    "# Leader Activation"
   ]
  },
  {
   "cell_type": "markdown",
   "metadata": {},
   "source": [
    "## FastLeaderElection\n",
    "\n",
    "> Actions performed by the servers.\n",
    "\n",
    "(1) initial/preferred LE proposal: voting to itself.\n",
    "\n",
    "```\n",
    "<self_proposal>=(epoch, LOOKING, myid, max_zxid, myid, max_zxid)\n",
    "boradcast <self_proposal>\n",
    "```\n",
    "\n",
    "(2) update proposal bookkeeping\n",
    "\n",
    "```\n",
    "if <proposal>.epoch < <current_epoch>: // 1. old proposal\n",
    "  drop <proposal>\n",
    "else if <proposal>.epoch > <current_epoch>: // 2. new proposal\n",
    "  <current_epoch> = <proposal>.epoch\n",
    "  update and resend <self_proposal>\n",
    "else: // 3. current epoch proposal\n",
    "  if <proposal>.vote_max_zxid < <self_proposal>.vote_max_zxid: // 3.1 know less\n",
    "    add/update <proposal> to <bookkeeping>\n",
    "  else if <proposal>.vote_max_zxid > <self_proposal>.vote_max_zxid: // 3.2 know more\n",
    "    <self_proposal>.vote_myid = <proposal>.vote_myid // update my voting\n",
    "    <self_proposal>.vote_max_zxid = <proposal>.vote_max_zxid\n",
    "    resend <self_proposal>\n",
    "  else: // 3.3 know same: order by myid\n",
    "    if <proposal>.vote_myid < <self_proposal>.vote_myid:\n",
    "      add/update <proposal> to <bookkeeping>\n",
    "    else:\n",
    "      <self_proposal>.vote_myid = <proposal>.vote_myid\n",
    "      resend <self_proposal>\n",
    "```\n",
    "\n",
    "(3) determine server state\n",
    "\n",
    "```\n",
    "SELECT <proposal>.vote_myid, COUNT(<proposal>.vote_myid) AS CANDIDATE_COUNT\n",
    "FROM <bookkeeping>\n",
    "GROUP BY <proposal>.vote_myid\n",
    "\n",
    "if found any CANDIDATE_COUNT > (all_server_count / 2):\n",
    "  // believe the state server (<proposal>.vote_myid) = LEADING\n",
    "  if myid = <proposal>.vote_myid:\n",
    "    my state = LEADING\n",
    "    sync with follower\n",
    "    <current_epoch> = <current_epoch> + 1 // (epoch+1, 0)\n",
    "    send NEW_LEADER proposal\n",
    "    keep eye on HEARTBEATs of followers\n",
    "  else:\n",
    "    my state = FOLLOWING\n",
    "    prepare to send HEARTBEAT to leader\n",
    "```"
   ]
  },
  {
   "cell_type": "markdown",
   "metadata": {},
   "source": [
    "## Fail-over\n",
    "\n",
    "- Follower restart\n",
    "\n",
    "```\n",
    " this follower\n",
    "<self_proposal>=(epoch, LOOKING, myid, max_zxid, myid, max_zxid)\n",
    "boradcast <self_proposal>\n",
    "\n",
    " leader\n",
    "<proposal>=(epoch, LEADING, myid, max_zxid, myid, max_zxid)\n",
    "\n",
    " other followers\n",
    "<proposal>=(epoch, FOLLOWING, myid, max_zxid, leader.myid, leader.max_zxid)\n",
    "```\n",
    "\n",
    "```\n",
    " this follower\n",
    "mystate = FOLLOWING\n",
    "```\n",
    "\n",
    "- Leader restart\n",
    "\n",
    "```\n",
    " followers\n",
    "if find leader down through HEARTBEAT:\n",
    "  trigger FastLeaderElection\n",
    "\n",
    " leader back online\n",
    "<self_proposal>=(epoch, LOOKING, myid, max_zxid, myid, max_zxid)\n",
    "branches:\n",
    "  - find the new leader\n",
    "  - leader election is in process\n",
    "```\n"
   ]
  },
  {
   "cell_type": "markdown",
   "metadata": {},
   "source": [
    "# Active Messaging"
   ]
  },
  {
   "cell_type": "markdown",
   "metadata": {},
   "source": [
    "ZooKeeper messaging operates similar to a classic two-phase commit.\n",
    "\n",
    "All communication channels are FIFO, so everything is done in order. Specifically the following operating constraints are observed:\n",
    "\n",
    "- (1) The leader sends proposals to all followers using the same order. Moreover, this order follows the order in which requests have been received. Because we use FIFO channels this means that followers also receive proposals in order.\n",
    "- (2) Followers process messages in the order they are received. This means that messages will be `ACK`ed in order and the leader will receive `ACK`s from followers in order, due to the FIFO channels. It also means that if message `m` has been *written to non-volatile storage*, all messages that were proposed before m have been written to non-volatile storage.\n",
    "- (3) The leader will issue a `COMMIT` to all followers as soon as a quorum of followers have `ACK`ed a message. Since messages are `ACK`ed in order, `COMMIT`s will be sent by the leader as received by the followers in order.\n",
    "- (4) `COMMIT`s are processed in order. Followers deliver a proposal message when that proposal is committed."
   ]
  },
  {
   "cell_type": "markdown",
   "metadata": {},
   "source": [
    "# Application: Distributed Lock\n",
    "\n",
    "- znode: Persistent/Ephemeral, Sequence/Non-sequence\n",
    "- Watch: attach a one-time watch on read operation; when the watched node is updated, a notidication is send to the watcher."
   ]
  },
  {
   "cell_type": "markdown",
   "metadata": {},
   "source": [
    "# More"
   ]
  },
  {
   "cell_type": "markdown",
   "metadata": {},
   "source": [
    "UI:\n",
    "- [ZooKeeper Assistant](https://www.redisant.com/za): ZooKeeper Desktop GUI, 免费版本只能连接本地.\n",
    "- [PrettyZoo](https://github.com/vran-dev/PrettyZoo): archived. with zkCli.sh.\n",
    "- [ZooNavigator](https://github.com/elkozmon/zoonavigator): Web-based ZooKeeper UI / editor / browser. ZooKeeper versions 3.4.x and 3.5.x are currently supported.\n",
    "\n",
    "- 深入浅出Zookeeper（一） Zookeeper架构及FastLeaderElection机制: http://www.jasongj.com/zookeeper/fastleaderelection/\n",
    "- 深入浅出Zookeeper（二） 基于Zookeeper的分布式锁与领导选举: http://www.jasongj.com/zookeeper/distributedlock/"
   ]
  }
 ],
 "metadata": {
  "language_info": {
   "name": "python"
  }
 },
 "nbformat": 4,
 "nbformat_minor": 2
}
