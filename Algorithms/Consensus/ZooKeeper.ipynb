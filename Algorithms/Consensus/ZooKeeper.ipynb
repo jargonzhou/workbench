{
 "cells": [
  {
   "cell_type": "markdown",
   "metadata": {},
   "source": [
    "# ZooKeeper\n",
    "\n",
    "- [Home](https://zookeeper.apache.org/) - [doc](http://zookeeper.apache.org/doc/current/index.html)\n",
    "  - ZooKeeper Programmer's Guide\n",
    "  - ZooKeeper Internals\n",
    "  - ZooKeeper-cli: the ZooKeeper command line interface\n",
    "- [Builtin ACL Schemes](https://zookeeper.apache.org/doc/r3.7.2/zookeeperProgrammers.html#sc_BuiltinACLSchemes)\n",
    "\n",
    "Code: `rtfsc\\zookeeper`\n",
    "\n",
    "actions:\n",
    "- with Curator: workbench\\DataEngineering\\codes\\data-engineering-java\\database\\zookeeper\n",
    "\n",
    "More:\n",
    "* [ZooKeeper.md](./ZooKeeper.md)"
   ]
  },
  {
   "cell_type": "markdown",
   "metadata": {},
   "source": [
    "# Zab: the ZooKeeper Atomic Broadcast algorithm\n",
    "\n",
    "papers:\n",
    "* (Zab A) Junqueira, Flavio Paiva / Reed, Benjamin C. / Serafini, Marco. **Zab: High-performance broadcast for primary-backup systems**. 2011.\n",
    "* (Zab B) Medeiros, André. **ZooKeeper’s atomic broadcast protocol: Theory and practice**. 2012."
   ]
  },
  {
   "cell_type": "markdown",
   "metadata": {},
   "source": [
    "假设:\n",
    "* crash-recovery system model: 崩溃恢复\n",
    "\n",
    "节点角色:\n",
    "* leader\n",
    "  * 发起和维护与follower和observer的心跳\n",
    "  * 负责处理写操作, 采用类2PC协议广播给follower/observer, 超过半数follower写入成功, 提交操作.\n",
    "* follower\n",
    "  * 响应leader的心跳\n",
    "  * 将写请求转发给leader处理\n",
    "  * 可以直接处理读请求\n",
    "* observer\n",
    "  * 不参与广播中写入成功计数\n",
    "  * 将写请求转发给leader处理\n",
    "  * 可以直接处理读请求\n",
    "\n",
    "节点状态:\n",
    "* following\n",
    "* leading\n",
    "* election: 执行leader选举算法\n",
    "\n",
    "数据结构:\n",
    "* epoch: 整数, 表示在一段时间内leader存在 - leader周期\n",
    "* transaction: 事务, ensemble中广播的状态变更, 由(v,z)对表示, v表示新状态, z为zxid标识符\n",
    "  * 由leader/primary发出提案proposed\n",
    "  * 由调用投递方法的进程投递/提交(dilivered/committed)\n",
    "* 事务编号zxid: 由(e,c)对表示, e是生成该事务的primary的的epoch number, c表示事务计数器 \n",
    "  * 每次产生一个新leader时, 从它的日志中取出最大的zxid, 将zxid.e+1作为新的epoch, c复位.\n",
    "  * 排序: (e,c) < (e', c'): 如果e < e' 或者 e = e'且c < c'\n",
    "* 节点的持久状态\n",
    "  * history: 接受的事务提案的日志\n",
    "  * accpetedEpoch: 最近接受的NEWEPOCH消息的epoch number\n",
    "  * currentEpoch: 最近接受的NEWLEADER消息的epoch number\n",
    "  * lastZxid: history中最近的提案的zxid\n",
    "\n",
    "\n",
    "Zab协议的阶段: - (Zab B)\n",
    "* 阶段0: Leader election\n",
    "  * 执行leader选举算法, 投票\n",
    "* 阶段1: Discovery\n",
    "  * 阶段开始时, 查看投票, 决定自己是follower还是leader\n",
    "* 阶段2: Synchronization\n",
    "* 阶段3: Broadcast\n",
    "  * 最多一个leader\n",
    "  * 广播: 类似于2PC协议\n",
    "\n",
    "说明:\n",
    "* leader和follower依次执行Discovery, Synchronization, Broadcast这三个阶段.\n",
    "* 阶段1和阶段2将ensemble恢复到一致的状态, 特别是从崩溃中恢复.\n",
    "* 在阶段1,2,3中, 节点在出现失败或超时时, 可以重新进入阶段0执行Leader选举.\n",
    "* Java实现\n",
    "  * 选举阶段使用FastLeaderElection, 会选举出拥有最新提交事务提案的节点作为leader, 省去了发现被大多数接受的最新事务提案的步骤.\n",
    "  * 将发现阶段和同步阶段合并成恢复阶段.\n",
    "  * 只有三个阶段: Fast Leader Election, Recovery, Boradcast."
   ]
  },
  {
   "cell_type": "markdown",
   "metadata": {},
   "source": [
    "客户端:\n",
    "* 提交操作到连接的节点, 如果是状态变更, Zab会执行广播.\n",
    "  * 如果节点是follower: 转发到leader节点;\n",
    "  * 如果节点是leader: 执行状态变更, 并广播到follower.\n",
    "* 读请求可以由任意节点执行\n",
    "  * 可以使用sync请求拿到最新的数据."
   ]
  },
  {
   "cell_type": "markdown",
   "metadata": {},
   "source": [
    "## 阶段0: Leader Election"
   ]
  },
  {
   "cell_type": "markdown",
   "metadata": {},
   "source": [
    "选举出一个准leader(prospective leader), 在广播阶段准leader才成为真正的leader(established leader)."
   ]
  },
  {
   "cell_type": "markdown",
   "metadata": {},
   "source": [
    "## 阶段1: Discovery"
   ]
  },
  {
   "cell_type": "markdown",
   "metadata": {},
   "source": [
    "follower与准leader通信, 同步最新收到的事务提案: 让准leader发现当前大多数接受的最新事务提案.\n",
    "\n",
    "准leader生成新的epoch, 让follower接受并更新器accpetedEpoch."
   ]
  },
  {
   "cell_type": "markdown",
   "metadata": {},
   "source": [
    "## 阶段2: Synchronization"
   ]
  },
  {
   "cell_type": "markdown",
   "metadata": {},
   "source": [
    "利用发现阶段leader找到的最新的事务提案, 同步ensemble中的副本. 只有大多数节点同步完成后, 准leader才会成为真正的leader.\n",
    "\n",
    "follower只会接受zxid比自己的lastZxid大的提案."
   ]
  },
  {
   "cell_type": "markdown",
   "metadata": {},
   "source": [
    "## 阶段3: Broadcast"
   ]
  },
  {
   "cell_type": "markdown",
   "metadata": {},
   "source": [
    "ensemble可以对外提供事务服务: leader已类似2PC协议的方式广播事务.\n",
    "\n",
    "新节点加入时, 需要做同步."
   ]
  },
  {
   "cell_type": "markdown",
   "metadata": {},
   "source": [
    "# Internal - Atomic Broadcast\n",
    "* [link](https://zookeeper.apache.org/doc/current/zookeeperInternals.html)"
   ]
  },
  {
   "cell_type": "markdown",
   "metadata": {},
   "source": [
    "\n",
    "- `myid`: service id.\n",
    "- `all_server_count`: all server count.\n",
    "- `zxid`: transaction id, 2 32-bit parts `(epoch, count)`, reflects total ordering.\n",
    "\n",
    "Each time a new leader comes into power it will have its own `epoch` number.\n",
    "We have a simple algorithm to assign a unique `zxid` to a proposal: the leader simply increments the `zxid` to obtain a unique zxid for each proposal.\n",
    "\n",
    "- server state: `LOOKING`, `FOLLOWING`, `LEADING`, `OBSERVING`\n",
    "- 提案proposal\n",
    "\n",
    "```\n",
    "// leader election(LE) proposal - 选主提案\n",
    "<proposal>=(\n",
    "epoch,\n",
    "current_server_state,\n",
    "self_myid,    // my knowledge\n",
    "self_max_zxid,\n",
    "vote_myid,    // voting\n",
    "vote_max_zxid\n",
    ")\n",
    "\n",
    "// LE proposal bookkeeping - 投票箱\n",
    "<current_epoch>\n",
    "<bookkeeping>=\n",
    "[\n",
    "  (voter_myid, candidate_myid)\n",
    "]\n",
    "```\n"
   ]
  },
  {
   "cell_type": "markdown",
   "metadata": {},
   "source": [
    "## Leader Activation"
   ]
  },
  {
   "cell_type": "markdown",
   "metadata": {},
   "source": [
    "### FastLeaderElection\n",
    "\n",
    "> Actions performed by the servers.\n",
    "\n",
    "(1) initial/preferred LE proposal: voting to itself. - 给自己投票\n",
    "\n",
    "```\n",
    "<self_proposal>=(epoch, LOOKING, myid, max_zxid, myid, max_zxid)\n",
    "boradcast <self_proposal> // 广播提案\n",
    "```\n",
    "\n",
    "(2) update proposal bookkeeping - 更新投票箱/修改提案\n",
    "\n",
    "```\n",
    "if <proposal>.epoch < <current_epoch>:      // 1. 旧epoch提案: 丢弃\n",
    "  drop <proposal>\n",
    "else if <proposal>.epoch > <current_epoch>: // 2. 新epoch提案: \n",
    "  <current_epoch> = <proposal>.epoch // 更新currentEpoch\n",
    "  update and resend <self_proposal>  // 修改提案, 广播\n",
    "else:                                       // 3. 当前epoch的提案\n",
    "  if <proposal>.vote_max_zxid < <self_proposal>.vote_max_zxid:      // 3.1 know less 旧提案\n",
    "    add/update <proposal> to <bookkeeping>\n",
    "  else if <proposal>.vote_max_zxid > <self_proposal>.vote_max_zxid: // 3.2 know more 新提案\n",
    "    <self_proposal>.vote_myid = <proposal>.vote_myid                // 修改提案, 广播\n",
    "    <self_proposal>.vote_max_zxid = <proposal>.vote_max_zxid\n",
    "    resend <self_proposal>\n",
    "  else:                                                             // 3.3 know same: order by vote_myid\n",
    "    if <proposal>.vote_myid < <self_proposal>.vote_myid:\n",
    "      add/update <proposal> to <bookkeeping>\n",
    "    else:                                                           // 比我的vote_myid大: 修改提案, 广播\n",
    "      <self_proposal>.vote_myid = <proposal>.vote_myid\n",
    "      resend <self_proposal>\n",
    "```\n",
    "\n",
    "(3) determine server state - 确定状态\n",
    "\n",
    "```\n",
    "SELECT <proposal>.vote_myid, COUNT(<proposal>.vote_myid) AS CANDIDATE_COUNT\n",
    "FROM <bookkeeping>\n",
    "GROUP BY <proposal>.vote_myid\n",
    "\n",
    "if found any CANDIDATE_COUNT > (all_server_count / 2):  // 超过半数\n",
    "  // believe the state server (<proposal>.vote_myid) = LEADING\n",
    "  if myid = <proposal>.vote_myid:\n",
    "    my state = LEADING\n",
    "    sync with follower                    // 与follower同步\n",
    "    <current_epoch> = <current_epoch> + 1 // 新的epoch\n",
    "    send NEW_LEADER proposal\n",
    "    keep eye on HEARTBEATs of followers // 准备处理心跳\n",
    "  else:\n",
    "    my state = FOLLOWING\n",
    "    prepare to send HEARTBEAT to leader // 准备发送心跳\n",
    "```"
   ]
  },
  {
   "cell_type": "markdown",
   "metadata": {},
   "source": [
    "### Fail-over\n",
    "\n",
    "- Follower restart\n",
    "\n",
    "```\n",
    " this follower\n",
    "<self_proposal>=(epoch, LOOKING, myid, max_zxid, myid, max_zxid)\n",
    "boradcast <self_proposal>\n",
    "\n",
    " leader\n",
    "<proposal>=(epoch, LEADING, myid, max_zxid, myid, max_zxid)\n",
    "\n",
    " other followers\n",
    "<proposal>=(epoch, FOLLOWING, myid, max_zxid, leader.myid, leader.max_zxid)\n",
    "```\n",
    "\n",
    "```\n",
    " this follower\n",
    "mystate = FOLLOWING\n",
    "```\n",
    "\n",
    "- Leader restart\n",
    "\n",
    "```\n",
    " followers\n",
    "if find leader down through HEARTBEAT:\n",
    "  trigger FastLeaderElection\n",
    "\n",
    " leader back online\n",
    "<self_proposal>=(epoch, LOOKING, myid, max_zxid, myid, max_zxid)\n",
    "branches:\n",
    "  - find the new leader\n",
    "  - leader election is in process\n",
    "```\n"
   ]
  },
  {
   "cell_type": "markdown",
   "metadata": {},
   "source": [
    "## Active Messaging"
   ]
  },
  {
   "cell_type": "markdown",
   "metadata": {},
   "source": [
    "ZooKeeper messaging operates similar to a classic two-phase commit.\n",
    "\n",
    "All communication channels are FIFO, so everything is done in order. Specifically the following operating constraints are observed:\n",
    "\n",
    "- (1) The leader sends proposals to all followers using the same order. Moreover, this order follows the order in which requests have been received. Because we use FIFO channels this means that followers also receive proposals in order.\n",
    "- (2) Followers process messages in the order they are received. This means that messages will be `ACK`ed in order and the leader will receive `ACK`s from followers in order, due to the FIFO channels. It also means that if message `m` has been *written to non-volatile storage*, all messages that were proposed before m have been written to non-volatile storage.\n",
    "- (3) The leader will issue a `COMMIT` to all followers as soon as a quorum of followers have `ACK`ed a message. Since messages are `ACK`ed in order, `COMMIT`s will be sent by the leader as received by the followers in order.\n",
    "- (4) `COMMIT`s are processed in order. Followers deliver a proposal message when that proposal is committed."
   ]
  },
  {
   "cell_type": "markdown",
   "metadata": {},
   "source": [
    "# Conventions"
   ]
  },
  {
   "cell_type": "markdown",
   "metadata": {},
   "source": [
    "# 应用"
   ]
  },
  {
   "cell_type": "markdown",
   "metadata": {},
   "source": [
    "## 数据模型\n",
    "\n",
    "* ZNode\n",
    "* Time\n",
    "* Stat"
   ]
  },
  {
   "cell_type": "markdown",
   "metadata": {},
   "source": [
    "## ZNode\n",
    "\n",
    "* 持久的节点: PERSISTENT\n",
    "* 临时的节点: EPHEMERAL\n",
    "* 持久的顺序目录节点\n",
    "* 临时的顺序目录节点: EP"
   ]
  },
  {
   "cell_type": "markdown",
   "metadata": {},
   "source": [
    "## Sessions"
   ]
  },
  {
   "cell_type": "markdown",
   "metadata": {},
   "source": [
    "## Watches"
   ]
  },
  {
   "cell_type": "markdown",
   "metadata": {},
   "source": [
    "## Distributed Lock\n",
    "\n",
    "- znode: Persistent/Ephemeral, Sequence/Non-sequence\n",
    "- Watch: attach a one-time watch on read operation; when the watched node is updated, a notidication is send to the watcher."
   ]
  },
  {
   "cell_type": "markdown",
   "metadata": {},
   "source": [
    "# More\n",
    "\n",
    "ref:\n",
    "- 深入浅出Zookeeper（一） Zookeeper架构及FastLeaderElection机制: http://www.jasongj.com/zookeeper/fastleaderelection/\n",
    "- 深入浅出Zookeeper（二） 基于Zookeeper的分布式锁与领导选举: http://www.jasongj.com/zookeeper/distributedlock/"
   ]
  },
  {
   "cell_type": "markdown",
   "metadata": {},
   "source": [
    "## UI\n",
    "- [ZooKeeper Assistant](https://www.redisant.com/za): ZooKeeper Desktop GUI, 免费版本只能连接本地.\n",
    "- [PrettyZoo](https://github.com/vran-dev/PrettyZoo): archived. with zkCli.sh.\n",
    "- [ZooNavigator](https://github.com/elkozmon/zoonavigator): Web-based ZooKeeper UI / editor / browser. ZooKeeper versions 3.4.x and 3.5.x are currently supported."
   ]
  }
 ],
 "metadata": {
  "language_info": {
   "name": "python"
  }
 },
 "nbformat": 4,
 "nbformat_minor": 2
}
