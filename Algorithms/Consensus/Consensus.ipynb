{
 "cells": [
  {
   "cell_type": "markdown",
   "metadata": {},
   "source": [
    "# Consensus\n",
    "* [ZooKeeper.ipynb](./ZooKeeper.ipynb)\n",
    "* [Raft.ipynb](./Raft.ipynb)\n",
    "* Paxos"
   ]
  }
 ],
 "metadata": {
  "language_info": {
   "name": "python"
  }
 },
 "nbformat": 4,
 "nbformat_minor": 2
}
