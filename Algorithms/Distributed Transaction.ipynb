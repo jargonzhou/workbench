{
 "cells": [
  {
   "cell_type": "markdown",
   "metadata": {},
   "source": [
    "# Distributed Transactions"
   ]
  },
  {
   "cell_type": "markdown",
   "metadata": {},
   "source": [
    "# Apache Seata\n",
    "* https://seata.apache.org/\n",
    "* code: https://github.com/apache/incubator-seata\n",
    "* example: https://github.com/apache/incubator-seata-samples\n",
    "\n",
    "> What is Seata?\n",
    "> \n",
    "> A distributed transaction solution with high performance and ease of use for microservices architecture.\n",
    "\n",
    "\n",
    "\n",
    "actions:\n",
    "* HTTPie: Archived > Seata"
   ]
  }
 ],
 "metadata": {
  "language_info": {
   "name": "python"
  }
 },
 "nbformat": 4,
 "nbformat_minor": 2
}
