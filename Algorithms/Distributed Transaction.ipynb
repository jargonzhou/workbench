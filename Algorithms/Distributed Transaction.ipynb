{
 "cells": [
  {
   "cell_type": "markdown",
   "metadata": {},
   "source": [
    "# Distributed Transactions"
   ]
  },
  {
   "cell_type": "markdown",
   "metadata": {},
   "source": [
    "# Apache Seata\n",
    "* https://seata.apache.org/\n",
    "* code: https://github.com/apache/incubator-seata\n",
    "* example: https://github.com/apache/incubator-seata-samples\n",
    "\n",
    "> What is Seata?\n",
    "> \n",
    "> A distributed transaction solution with high performance and ease of use for microservices architecture.\n",
    "\n",
    "\n",
    "\n",
    "actions:\n",
    "* https://github.com/jargonzhou/application-store/tree/main/ops/seata\n",
    "* workbench/Java/JavaEE/example-springcloud/persistent/seata\n",
    "* HTTPie: Archived > Seata"
   ]
  },
  {
   "cell_type": "markdown",
   "metadata": {},
   "source": [
    "# Apache ShardingShpere\n",
    "* https://shardingsphere.apache.org/\n",
    "\n",
    "> The distributed SQL transaction & query engine for data sharding, scaling, encryption, and more - on any database.\n",
    "\n",
    "- ShardingSphere-JDBC: a lightweight Java framework that provides additional services at Java’s JDBC layer.\n",
    "- ShardingSphere-Proxy: a transparent database proxy, providing a database server that encapsulates database binary protocol to support heterogeneous languages.\n",
    "\n",
    "features:\n",
    "- data sharding\n",
    "- distributed transaction\n",
    "- read/write splitting\n",
    "- data migration\n",
    "- query federation\n",
    "- data encryption\n",
    "- shadow database: for full-link online load testing.\n",
    "\n",
    "actions:\n",
    "* workbench/Java/JavaEE/example-springcloud/persistent/shardingsphere\n",
    "* rtfsc: D:\\workspace\\rtfsc\\shardingsphere"
   ]
  }
 ],
 "metadata": {
  "language_info": {
   "name": "python"
  }
 },
 "nbformat": 4,
 "nbformat_minor": 2
}
