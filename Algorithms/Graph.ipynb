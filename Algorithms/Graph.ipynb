{
 "cells": [
  {
   "cell_type": "markdown",
   "metadata": {},
   "source": [
    "# Graph\n",
    "\n",
    "一些术语:\n",
    "* (1) 路径: 由边顺序联接的一系列顶点; \n",
    "简单路径: 没有重复顶点的路径;\n",
    "* (2) 环: 至少含有一条边, 起点和终点相同的路径; \n",
    "简单环: (除起点和终点必须相同外)不含有重复顶点和边的环;\n",
    "* (3) 路径或环的长度: 其中所包含的边数;\n",
    "* (4) 连通图: 途中任意一个顶点都存在一条路径到达另一个任意顶点;\n",
    "* (5) 树: 无环连通图\n",
    "连通图的生成树: 含有图中所有顶点且是一颗树的子图;\n",
    "\n",
    "图与树的关系:\n",
    "\n",
    "当且仅当含有V个顶点的图G满足下述条件之一时, 是一棵树:\n",
    "* (5.1) G有V-1条边, 不含有环;\n",
    "* (5.2) G有V-1条边, 连通的;\n",
    "* (5.3) G连通的, 但删除任意一条边后不再连通;\n",
    "* (5.4) G无环, 但添加任意一条边后有环;\n",
    "* (5.5) G中的任意一对顶点之间仅存在一条简单路径.\n",
    "\n",
    "图: IGraph\n",
    "\n",
    "1 无向图: Graph\n",
    "* 深度优先搜索(DFS): IGraphSearch, DepthFirstSearch\n",
    "* 寻找路径: IPaths, DepthFirstPaths\n",
    "* 广度优先搜索(BFS): BreadthFirstPaths\n",
    "* 连通分量: ConnectedComponents - 使用DFS\n",
    "* 特定实现: 符号图SymbolGraph\n",
    "\n",
    "* DFS的应用: 环检测CycleDetection, 双色问题TwoColorable\n",
    "* BFS的应用: 顶点间距离度量(最短路径, DegreeOfSeparation)\n",
    "\n",
    "2 有向图: DirectedGraph\n",
    "* 可达性: DirectedDFS - 使用DFS\n",
    "* 环, 有向无环图(DAG): 拓扑排序\n",
    "* 强连通性StrongConnectedComponents\n",
    "* 传递闭包TransitiveClosure\n",
    "\n",
    "3 最小生成树\n",
    "* 切分定理\n",
    "* Prim\n",
    "* Kruskal\n",
    "\n",
    "4 最短路径\n",
    "* 加权有向图\n",
    "* 非负权重: Dijkstra\n",
    "* 无环加权有向图中的最短路径\n",
    "* 一般加权有向图中的最短路径"
   ]
  },
  {
   "cell_type": "code",
   "execution_count": 10,
   "metadata": {},
   "outputs": [],
   "source": [
    "%classpath D:\\\\GoogleDrive\\\\wiki\\\\jupyter-notebooks\\\\Algorithms\\\\java\n",
    "\n",
    "// 编译:: build.sh\n",
    "// 清理: clean.sh"
   ]
  },
  {
   "cell_type": "code",
   "execution_count": 6,
   "metadata": {},
   "outputs": [],
   "source": [
    "import graph.core.Graph;\n",
    "\n",
    "int[] vs = new int[] { 0, 1, 2, 3, 4, 5 };\n",
    "Graph G = new Graph(vs.length);\n",
    "\n",
    "G.addEdge(0, 2);\n",
    "G.addEdge(0, 1);\n",
    "G.addEdge(0, 5);\n",
    "G.addEdge(1, 2);\n",
    "G.addEdge(2, 3);\n",
    "G.addEdge(2, 4);\n",
    "G.addEdge(3, 4);\n",
    "G.addEdge(3, 5);\n",
    "\n",
    "// G.dumpAdjGraphviz();\n",
    "// G.dumpGraphviz();"
   ]
  },
  {
   "cell_type": "markdown",
   "metadata": {},
   "source": [
    "# 4.1 Depth-first search\n"
   ]
  },
  {
   "cell_type": "markdown",
   "metadata": {},
   "source": [
    "# 4.2 Breadth-first search\n"
   ]
  },
  {
   "cell_type": "code",
   "execution_count": 11,
   "metadata": {},
   "outputs": [
    {
     "name": "stdout",
     "output_type": "stream",
     "text": [
      "BreadthFirstPaths [s=0,\n",
      " marked=[true, true, true, true, true, true],\n",
      " edgeTo=[0, 0, 0, 5, 2, 0],\n",
      " distTo=[0, 1, 1, 2, 2, 1]]\n",
      "0 to 0: 0\n",
      "0 to 1: 0-1\n",
      "0 to 2: 0-2\n",
      "0 to 3: 0-5-3\n",
      "0 to 4: 0-2-4\n",
      "0 to 5: 0-5\n"
     ]
    }
   ],
   "source": [
    "import graph.core.Graph;\n",
    "import graph.BreadthFirstPaths;\n",
    "\n",
    "int[] vs = new int[] { 0, 1, 2, 3, 4, 5 };\n",
    "Graph G = new Graph(vs.length);\n",
    "\n",
    "G.addEdge(0, 2);\n",
    "G.addEdge(0, 1);\n",
    "G.addEdge(0, 5);\n",
    "G.addEdge(1, 2);\n",
    "G.addEdge(2, 3);\n",
    "G.addEdge(2, 4);\n",
    "G.addEdge(3, 4);\n",
    "G.addEdge(3, 5);\n",
    "\n",
    "int s = 0;\n",
    "BreadthFirstPaths<Graph> bfs = new BreadthFirstPaths<Graph>(G, s);\n",
    "System.out.println(bfs);\n",
    "for (int v = 0; v < G.V(); v++) {\n",
    "  System.out.print(s + \" to \" + v + \": \");\n",
    "  if (bfs.hasPathTo(v)) {\n",
    "\n",
    "    for (int x : bfs.pathTo(v)) {\n",
    "      if (x == s) {\n",
    "        System.out.print(x);\n",
    "      } else {\n",
    "        System.out.print(\"-\" + x);\n",
    "      }\n",
    "    }\n",
    "    System.out.println();\n",
    "  }\n",
    "}"
   ]
  },
  {
   "cell_type": "markdown",
   "metadata": {},
   "source": [
    "# 4.3 Connected components"
   ]
  },
  {
   "cell_type": "code",
   "execution_count": 14,
   "metadata": {},
   "outputs": [
    {
     "name": "stdout",
     "output_type": "stream",
     "text": [
      "CC[0]: Bag[ 6 5 4 3 2 1 0 ]\n",
      "CC[1]: Bag[ 8 7 ]\n",
      "CC[2]: Bag[ 12 11 10 9 ]\n"
     ]
    }
   ],
   "source": [
    "import graph.cc.ConnectedComponents;\n",
    "import graph.core.Graph;\n",
    "\n",
    "int[] vs = new int[] { 0, 1, 2, 3, 4, 5, 6, 7, 8, 9, 10, 11, 12 };\n",
    "Graph G = new Graph(vs.length);\n",
    "G.addEdge(0, 5);\n",
    "G.addEdge(4, 3);\n",
    "G.addEdge(0, 1);\n",
    "G.addEdge(9, 12);\n",
    "G.addEdge(6, 4);\n",
    "G.addEdge(5, 4);\n",
    "G.addEdge(0, 2);\n",
    "G.addEdge(11, 12);\n",
    "G.addEdge(9, 10);\n",
    "G.addEdge(0, 6);\n",
    "G.addEdge(7, 8);\n",
    "G.addEdge(9, 11);\n",
    "G.addEdge(5, 3);\n",
    "\n",
    "// G.dumpGraphviz();\n",
    "\n",
    "ConnectedComponents cc = new ConnectedComponents(G);\n",
    "cc.dump();"
   ]
  },
  {
   "cell_type": "markdown",
   "metadata": {},
   "source": [
    "# 4.4 Reachability"
   ]
  },
  {
   "cell_type": "code",
   "execution_count": 13,
   "metadata": {},
   "outputs": [
    {
     "name": "stdout",
     "output_type": "stream",
     "text": [
      "3 5 4 3 \n"
     ]
    }
   ],
   "source": [
    "import graph.core.DirectedGraph;\n",
    "import graph.cycle.DirectedCycleDetection;\n",
    "\n",
    "int[] vs = new int[] { 0, 1, 2, 3, 4, 5 };\n",
    "DirectedGraph DG = new DirectedGraph(vs.length);\n",
    "\n",
    "DG.addEdge(0, 5);\n",
    "DG.addEdge(3, 5);\n",
    "DG.addEdge(5, 4);\n",
    "DG.addEdge(4, 3);\n",
    "\n",
    "DirectedCycleDetection dcd = new DirectedCycleDetection(DG);\n",
    "if (dcd.hasCycle()) {\n",
    "  for (int v : dcd.cycle()) {\n",
    "    System.out.print(v + \" \");\n",
    "  }\n",
    "  System.out.println();\n",
    "}\n",
    "\n",
    "// 3 5 4 3"
   ]
  },
  {
   "cell_type": "markdown",
   "metadata": {},
   "source": [
    "# 4.5 Topological sort\n"
   ]
  },
  {
   "cell_type": "code",
   "execution_count": null,
   "metadata": {},
   "outputs": [
    {
     "name": "stdout",
     "output_type": "stream",
     "text": [
      "8 7 2 3 0 1 5 6 4 9 10 11 12 \n"
     ]
    }
   ],
   "source": [
    "import graph.core.DirectedGraph;\n",
    "import graph.TopologicalSort;\n",
    "\n",
    "int[] vs = new int[] { 0, 1, 2, 3, 4, 5, 6, 7, 8, 9, 10, 11, 12 };\n",
    "DirectedGraph DG = new DirectedGraph(vs.length);\n",
    "\n",
    "DG.addEdge(0, 1);\n",
    "DG.addEdge(0, 5);\n",
    "DG.addEdge(0, 6);\n",
    "DG.addEdge(2, 0);\n",
    "DG.addEdge(2, 3);\n",
    "DG.addEdge(3, 5);\n",
    "DG.addEdge(5, 4);\n",
    "DG.addEdge(6, 4);\n",
    "DG.addEdge(6, 9);\n",
    "DG.addEdge(7, 6);\n",
    "DG.addEdge(8, 7);\n",
    "DG.addEdge(9, 10);\n",
    "DG.addEdge(9, 11);\n",
    "DG.addEdge(9, 12);\n",
    "DG.addEdge(11, 12);\n",
    "\n",
    "TopologicalSort ts = new TopologicalSort(DG);\n",
    "if (ts.isDAG()) {\n",
    "  for (int v : ts.order()) {\n",
    "    System.out.print(v + \" \");\n",
    "  }\n",
    "  System.out.println(); \n",
    "}\n",
    "// 8 7 2 3 0 1 5 6 4 9 10 11 12"
   ]
  },
  {
   "cell_type": "markdown",
   "metadata": {},
   "source": [
    "# 4.6 Strong componenets (Kosaraju)\n"
   ]
  },
  {
   "cell_type": "markdown",
   "metadata": {},
   "source": [
    "# 4.7 Minimum spanning tree (Prim)\n"
   ]
  },
  {
   "cell_type": "markdown",
   "metadata": {},
   "source": [
    "# 4.8 Minimum spanning tree (Kruskal)\n"
   ]
  },
  {
   "cell_type": "markdown",
   "metadata": {},
   "source": [
    "# 4.9 Shortest paths (Dijkstra)\n"
   ]
  },
  {
   "cell_type": "code",
   "execution_count": null,
   "metadata": {},
   "outputs": [],
   "source": [
    "// TODO"
   ]
  },
  {
   "cell_type": "markdown",
   "metadata": {},
   "source": [
    "# 4.10 Shortest paths in DAGs"
   ]
  },
  {
   "cell_type": "markdown",
   "metadata": {},
   "source": [
    "# 4.11 Shortest paths (Bellman-Ford)"
   ]
  }
 ],
 "metadata": {
  "kernelspec": {
   "display_name": "Java (jjava)",
   "language": "java",
   "name": "java"
  },
  "language_info": {
   "codemirror_mode": "java",
   "file_extension": ".jshell",
   "mimetype": "text/x-java-source",
   "name": "java",
   "pygments_lexer": "java",
   "version": "17.0.9+9"
  }
 },
 "nbformat": 4,
 "nbformat_minor": 2
}
